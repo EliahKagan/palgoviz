{
 "cells": [
  {
   "cell_type": "code",
   "execution_count": 1,
   "id": "988a149b-6e6d-411c-8350-6c31eb977071",
   "metadata": {},
   "outputs": [],
   "source": [
    "import sys"
   ]
  },
  {
   "cell_type": "code",
   "execution_count": 2,
   "id": "7f3d6229-5fd4-4234-a0eb-ea22c785c648",
   "metadata": {},
   "outputs": [
    {
     "data": {
      "text/plain": [
       "['C:\\\\Users\\\\ek\\\\source\\\\repos\\\\palgoviz\\\\sandbox',\n",
       " 'C:\\\\Users\\\\ek\\\\miniforge3\\\\envs\\\\palgoviz-sandbox\\\\python311.zip',\n",
       " 'C:\\\\Users\\\\ek\\\\miniforge3\\\\envs\\\\palgoviz-sandbox\\\\Lib',\n",
       " 'C:\\\\Users\\\\ek\\\\miniforge3\\\\envs\\\\palgoviz-sandbox\\\\DLLs',\n",
       " 'C:\\\\Users\\\\ek\\\\miniforge3\\\\envs\\\\palgoviz-sandbox',\n",
       " '',\n",
       " 'C:\\\\Users\\\\ek\\\\miniforge3\\\\envs\\\\palgoviz-sandbox\\\\Lib\\\\site-packages',\n",
       " 'C:\\\\Users\\\\ek\\\\miniforge3\\\\envs\\\\palgoviz-sandbox\\\\Lib\\\\site-packages\\\\win32',\n",
       " 'C:\\\\Users\\\\ek\\\\miniforge3\\\\envs\\\\palgoviz-sandbox\\\\Lib\\\\site-packages\\\\win32\\\\lib',\n",
       " 'C:\\\\Users\\\\ek\\\\miniforge3\\\\envs\\\\palgoviz-sandbox\\\\Lib\\\\site-packages\\\\Pythonwin']"
      ]
     },
     "execution_count": 2,
     "metadata": {},
     "output_type": "execute_result"
    }
   ],
   "source": [
    "sys.path"
   ]
  },
  {
   "cell_type": "code",
   "execution_count": 3,
   "id": "a1eecccf-05a6-4616-959c-c77c6ff1f532",
   "metadata": {},
   "outputs": [],
   "source": [
    "sys.path += ['traditional-demo/dir1', 'traditional-demo/dir2'] "
   ]
  },
  {
   "cell_type": "code",
   "execution_count": 4,
   "id": "2ed1c4d2-0c88-42c0-9c5a-a25b01227d2c",
   "metadata": {},
   "outputs": [
    {
     "data": {
      "text/plain": [
       "['C:\\\\Users\\\\ek\\\\source\\\\repos\\\\palgoviz\\\\sandbox',\n",
       " 'C:\\\\Users\\\\ek\\\\miniforge3\\\\envs\\\\palgoviz-sandbox\\\\python311.zip',\n",
       " 'C:\\\\Users\\\\ek\\\\miniforge3\\\\envs\\\\palgoviz-sandbox\\\\Lib',\n",
       " 'C:\\\\Users\\\\ek\\\\miniforge3\\\\envs\\\\palgoviz-sandbox\\\\DLLs',\n",
       " 'C:\\\\Users\\\\ek\\\\miniforge3\\\\envs\\\\palgoviz-sandbox',\n",
       " '',\n",
       " 'C:\\\\Users\\\\ek\\\\miniforge3\\\\envs\\\\palgoviz-sandbox\\\\Lib\\\\site-packages',\n",
       " 'C:\\\\Users\\\\ek\\\\miniforge3\\\\envs\\\\palgoviz-sandbox\\\\Lib\\\\site-packages\\\\win32',\n",
       " 'C:\\\\Users\\\\ek\\\\miniforge3\\\\envs\\\\palgoviz-sandbox\\\\Lib\\\\site-packages\\\\win32\\\\lib',\n",
       " 'C:\\\\Users\\\\ek\\\\miniforge3\\\\envs\\\\palgoviz-sandbox\\\\Lib\\\\site-packages\\\\Pythonwin',\n",
       " 'traditional-demo/dir1',\n",
       " 'traditional-demo/dir2']"
      ]
     },
     "execution_count": 4,
     "metadata": {},
     "output_type": "execute_result"
    }
   ],
   "source": [
    "sys.path"
   ]
  },
  {
   "cell_type": "code",
   "execution_count": 5,
   "id": "47f8e7e6-c08d-4a1a-b7c6-c5b2b17d73bf",
   "metadata": {},
   "outputs": [],
   "source": [
    "import tradpkg"
   ]
  },
  {
   "cell_type": "code",
   "execution_count": 6,
   "id": "d505cd3f-391d-430b-8def-77199fc7cdef",
   "metadata": {},
   "outputs": [
    {
     "data": {
      "text/plain": [
       "['__all__',\n",
       " '__builtins__',\n",
       " '__cached__',\n",
       " '__doc__',\n",
       " '__file__',\n",
       " '__loader__',\n",
       " '__name__',\n",
       " '__package__',\n",
       " '__path__',\n",
       " '__spec__',\n",
       " 'subpkg']"
      ]
     },
     "execution_count": 6,
     "metadata": {},
     "output_type": "execute_result"
    }
   ],
   "source": [
    "dir(tradpkg)"
   ]
  },
  {
   "cell_type": "code",
   "execution_count": 7,
   "id": "490baa99-a628-45d0-9921-0acb0186152f",
   "metadata": {},
   "outputs": [],
   "source": [
    "#import tradpkg.subpkg"
   ]
  },
  {
   "cell_type": "code",
   "execution_count": 8,
   "id": "b907f17d-6dc1-44b8-84fe-af7035aa7a85",
   "metadata": {},
   "outputs": [
    {
     "data": {
      "text/plain": [
       "['__all__',\n",
       " '__builtins__',\n",
       " '__cached__',\n",
       " '__doc__',\n",
       " '__file__',\n",
       " '__loader__',\n",
       " '__name__',\n",
       " '__package__',\n",
       " '__path__',\n",
       " '__spec__',\n",
       " 'subpkg']"
      ]
     },
     "execution_count": 8,
     "metadata": {},
     "output_type": "execute_result"
    }
   ],
   "source": [
    "dir(tradpkg)"
   ]
  },
  {
   "cell_type": "code",
   "execution_count": 9,
   "id": "3ee0be9a-6fc0-4ff9-8516-2ed9c9b00255",
   "metadata": {},
   "outputs": [],
   "source": [
    "#import tradpkg.subpkg.adapters"
   ]
  },
  {
   "cell_type": "code",
   "execution_count": 10,
   "id": "634cfcfc-0ee4-407b-a503-9053cb79e35a",
   "metadata": {},
   "outputs": [
    {
     "data": {
      "text/plain": [
       "['__all__',\n",
       " '__builtins__',\n",
       " '__cached__',\n",
       " '__doc__',\n",
       " '__file__',\n",
       " '__loader__',\n",
       " '__name__',\n",
       " '__package__',\n",
       " '__path__',\n",
       " '__spec__',\n",
       " 'adapters',\n",
       " 'grids']"
      ]
     },
     "execution_count": 10,
     "metadata": {},
     "output_type": "execute_result"
    }
   ],
   "source": [
    "dir(tradpkg.subpkg)"
   ]
  },
  {
   "cell_type": "code",
   "execution_count": 11,
   "id": "58331935-f0e6-4d75-836d-744a132b979c",
   "metadata": {},
   "outputs": [
    {
     "data": {
      "text/plain": [
       "[[0, 0, 0], [0, 0, 0], [0, 0, 0]]"
      ]
     },
     "execution_count": 11,
     "metadata": {},
     "output_type": "execute_result"
    }
   ],
   "source": [
    "tradpkg.subpkg.grids.make_grid(3, 3)"
   ]
  },
  {
   "cell_type": "code",
   "execution_count": 12,
   "id": "ced15412-82ed-4bad-bba6-1e08d64d7e4e",
   "metadata": {},
   "outputs": [],
   "source": [
    "g = tradpkg.subpkg.grids.make_grid(3, 3)"
   ]
  },
  {
   "cell_type": "code",
   "execution_count": 13,
   "id": "11acc7c4-9a99-4e21-b3e6-d659ccb55dff",
   "metadata": {},
   "outputs": [],
   "source": [
    "g[2][1] = 42"
   ]
  },
  {
   "cell_type": "code",
   "execution_count": 14,
   "id": "8288a718-9d30-46af-a98a-0d72b20ef8fb",
   "metadata": {},
   "outputs": [
    {
     "data": {
      "text/plain": [
       "[[0, 0, 0], [0, 0, 0], [0, 42, 0]]"
      ]
     },
     "execution_count": 14,
     "metadata": {},
     "output_type": "execute_result"
    }
   ],
   "source": [
    "g"
   ]
  },
  {
   "cell_type": "code",
   "execution_count": 15,
   "id": "f72dae30-5745-415b-a67e-655bd3aa0c1c",
   "metadata": {},
   "outputs": [],
   "source": [
    "g = tradpkg.subpkg.grids.make_grid(3, 4)"
   ]
  },
  {
   "cell_type": "code",
   "execution_count": 16,
   "id": "a43ac91d-ab1a-4240-8081-167e917c8eb5",
   "metadata": {},
   "outputs": [
    {
     "data": {
      "text/plain": [
       "[[0, 0, 0, 0], [0, 0, 0, 0], [0, 0, 0, 0]]"
      ]
     },
     "execution_count": 16,
     "metadata": {},
     "output_type": "execute_result"
    }
   ],
   "source": [
    "g"
   ]
  },
  {
   "cell_type": "code",
   "execution_count": 17,
   "id": "ae872365-10f6-4eef-8f4d-7d515d0a2690",
   "metadata": {},
   "outputs": [
    {
     "data": {
      "text/plain": [
       "['__builtins__',\n",
       " '__cached__',\n",
       " '__doc__',\n",
       " '__file__',\n",
       " '__loader__',\n",
       " '__name__',\n",
       " '__package__',\n",
       " '__spec__',\n",
       " 'make_grid']"
      ]
     },
     "execution_count": 17,
     "metadata": {},
     "output_type": "execute_result"
    }
   ],
   "source": [
    "dir(tradpkg.subpkg.grids)"
   ]
  },
  {
   "cell_type": "code",
   "execution_count": 18,
   "id": "1c3a0077-a247-429c-b458-d8cadcfb86db",
   "metadata": {},
   "outputs": [
    {
     "data": {
      "text/plain": [
       "['__builtins__',\n",
       " '__cached__',\n",
       " '__doc__',\n",
       " '__file__',\n",
       " '__loader__',\n",
       " '__name__',\n",
       " '__package__',\n",
       " '__spec__',\n",
       " '_make_grid',\n",
       " 'grid_from_coords']"
      ]
     },
     "execution_count": 18,
     "metadata": {},
     "output_type": "execute_result"
    }
   ],
   "source": [
    "dir(tradpkg.subpkg.adapters)"
   ]
  },
  {
   "cell_type": "code",
   "execution_count": 19,
   "id": "3239a0c6-b3ac-4f25-b2f9-44af9fd1a1a9",
   "metadata": {},
   "outputs": [],
   "source": [
    "coords = [(1, 1)] * 3 + [(0, 1)]"
   ]
  },
  {
   "cell_type": "code",
   "execution_count": 20,
   "id": "d6ba7624-b11a-49cc-8362-c821503af302",
   "metadata": {},
   "outputs": [
    {
     "data": {
      "text/plain": [
       "[[0, 1, 0, 0], [0, 3, 0, 0], [0, 0, 0, 0]]"
      ]
     },
     "execution_count": 20,
     "metadata": {},
     "output_type": "execute_result"
    }
   ],
   "source": [
    "tradpkg.subpkg.adapters.grid_from_coords(3, 4, coords)"
   ]
  },
  {
   "cell_type": "code",
   "execution_count": 21,
   "id": "cf1fb02e-fe28-4cba-b3d4-34ca6c9b68ff",
   "metadata": {
    "tags": [
     "raises-exception"
    ]
   },
   "outputs": [
    {
     "ename": "ModuleNotFoundError",
     "evalue": "No module named 'tradpkg.subpkg.hello'",
     "output_type": "error",
     "traceback": [
      "\u001b[1;31m---------------------------------------------------------------------------\u001b[0m",
      "\u001b[1;31mModuleNotFoundError\u001b[0m                       Traceback (most recent call last)",
      "Cell \u001b[1;32mIn [21], line 1\u001b[0m\n\u001b[1;32m----> 1\u001b[0m \u001b[38;5;28;01mimport\u001b[39;00m \u001b[38;5;21;01mtradpkg\u001b[39;00m\u001b[38;5;21;01m.\u001b[39;00m\u001b[38;5;21;01msubpkg\u001b[39;00m\u001b[38;5;21;01m.\u001b[39;00m\u001b[38;5;21;01mhello\u001b[39;00m\n",
      "\u001b[1;31mModuleNotFoundError\u001b[0m: No module named 'tradpkg.subpkg.hello'"
     ]
    }
   ],
   "source": [
    "import tradpkg.subpkg.hello"
   ]
  },
  {
   "cell_type": "code",
   "execution_count": 22,
   "id": "f6b3f410-2826-48e1-9403-bec368a4d054",
   "metadata": {},
   "outputs": [],
   "source": [
    "import __main__  # Pertains to the JupyterLab notebook itself."
   ]
  },
  {
   "cell_type": "code",
   "execution_count": 23,
   "id": "6c205028-8ce1-4376-9d46-1fc9651463cf",
   "metadata": {},
   "outputs": [
    {
     "data": {
      "text/plain": [
       "['In',\n",
       " 'Out',\n",
       " '_',\n",
       " '_10',\n",
       " '_11',\n",
       " '_14',\n",
       " '_16',\n",
       " '_17',\n",
       " '_18',\n",
       " '_2',\n",
       " '_20',\n",
       " '_4',\n",
       " '_6',\n",
       " '_8',\n",
       " '__',\n",
       " '___',\n",
       " '__builtin__',\n",
       " '__builtins__',\n",
       " '__doc__',\n",
       " '__loader__',\n",
       " '__main__',\n",
       " '__name__',\n",
       " '__package__',\n",
       " '__spec__',\n",
       " '_dh',\n",
       " '_i',\n",
       " '_i1',\n",
       " '_i10',\n",
       " '_i11',\n",
       " '_i12',\n",
       " '_i13',\n",
       " '_i14',\n",
       " '_i15',\n",
       " '_i16',\n",
       " '_i17',\n",
       " '_i18',\n",
       " '_i19',\n",
       " '_i2',\n",
       " '_i20',\n",
       " '_i21',\n",
       " '_i22',\n",
       " '_i23',\n",
       " '_i3',\n",
       " '_i4',\n",
       " '_i5',\n",
       " '_i6',\n",
       " '_i7',\n",
       " '_i8',\n",
       " '_i9',\n",
       " '_ih',\n",
       " '_ii',\n",
       " '_iii',\n",
       " '_oh',\n",
       " 'coords',\n",
       " 'exit',\n",
       " 'g',\n",
       " 'get_ipython',\n",
       " 'open',\n",
       " 'quit',\n",
       " 'sys',\n",
       " 'tradpkg']"
      ]
     },
     "execution_count": 23,
     "metadata": {},
     "output_type": "execute_result"
    }
   ],
   "source": [
    "dir(__main__)"
   ]
  },
  {
   "cell_type": "code",
   "execution_count": 24,
   "id": "ed46f0b5-f601-46b2-bddc-0bf6716f38a7",
   "metadata": {},
   "outputs": [],
   "source": [
    "import tradpkg.__main__"
   ]
  },
  {
   "cell_type": "code",
   "execution_count": 25,
   "id": "d9981325-411d-42ee-865b-c65d4918bea5",
   "metadata": {},
   "outputs": [
    {
     "data": {
      "text/plain": [
       "'tradpkg.__main__'"
      ]
     },
     "execution_count": 25,
     "metadata": {},
     "output_type": "execute_result"
    }
   ],
   "source": [
    "tradpkg.__main__.__name__"
   ]
  },
  {
   "cell_type": "code",
   "execution_count": null,
   "id": "d0f1ae80-939d-4203-a4ba-aafdba6c9945",
   "metadata": {},
   "outputs": [],
   "source": []
  }
 ],
 "metadata": {
  "kernelspec": {
   "display_name": "Python 3 (ipykernel)",
   "language": "python",
   "name": "python3"
  },
  "language_info": {
   "codemirror_mode": {
    "name": "ipython",
    "version": 3
   },
   "file_extension": ".py",
   "mimetype": "text/x-python",
   "name": "python",
   "nbconvert_exporter": "python",
   "pygments_lexer": "ipython3",
   "version": "3.11.0"
  }
 },
 "nbformat": 4,
 "nbformat_minor": 5
}
