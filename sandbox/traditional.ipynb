{
 "cells": [
  {
   "cell_type": "code",
   "execution_count": 1,
   "id": "988a149b-6e6d-411c-8350-6c31eb977071",
   "metadata": {},
   "outputs": [],
   "source": [
    "import sys"
   ]
  },
  {
   "cell_type": "code",
   "execution_count": 2,
   "id": "7f3d6229-5fd4-4234-a0eb-ea22c785c648",
   "metadata": {},
   "outputs": [
    {
     "data": {
      "text/plain": [
       "['C:\\\\Users\\\\User\\\\source\\\\repos\\\\algoviz\\\\sandbox',\n",
       " 'C:\\\\Users\\\\User\\\\miniforge3\\\\envs\\\\algoviz-sandbox\\\\python310.zip',\n",
       " 'C:\\\\Users\\\\User\\\\miniforge3\\\\envs\\\\algoviz-sandbox\\\\DLLs',\n",
       " 'C:\\\\Users\\\\User\\\\miniforge3\\\\envs\\\\algoviz-sandbox\\\\lib',\n",
       " 'C:\\\\Users\\\\User\\\\miniforge3\\\\envs\\\\algoviz-sandbox',\n",
       " '',\n",
       " 'C:\\\\Users\\\\User\\\\miniforge3\\\\envs\\\\algoviz-sandbox\\\\lib\\\\site-packages',\n",
       " 'C:\\\\Users\\\\User\\\\miniforge3\\\\envs\\\\algoviz-sandbox\\\\lib\\\\site-packages\\\\win32',\n",
       " 'C:\\\\Users\\\\User\\\\miniforge3\\\\envs\\\\algoviz-sandbox\\\\lib\\\\site-packages\\\\win32\\\\lib',\n",
       " 'C:\\\\Users\\\\User\\\\miniforge3\\\\envs\\\\algoviz-sandbox\\\\lib\\\\site-packages\\\\Pythonwin']"
      ]
     },
     "execution_count": 2,
     "metadata": {},
     "output_type": "execute_result"
    }
   ],
   "source": [
    "sys.path"
   ]
  },
  {
   "cell_type": "code",
   "execution_count": 3,
   "id": "a1eecccf-05a6-4616-959c-c77c6ff1f532",
   "metadata": {},
   "outputs": [],
   "source": [
    "sys.path += ['traditional-demo/dir1', 'traditional-demo/dir2']"
   ]
  },
  {
   "cell_type": "code",
   "execution_count": 4,
   "id": "2ed1c4d2-0c88-42c0-9c5a-a25b01227d2c",
   "metadata": {},
   "outputs": [
    {
     "data": {
      "text/plain": [
       "['C:\\\\Users\\\\User\\\\source\\\\repos\\\\algoviz\\\\sandbox',\n",
       " 'C:\\\\Users\\\\User\\\\miniforge3\\\\envs\\\\algoviz-sandbox\\\\python310.zip',\n",
       " 'C:\\\\Users\\\\User\\\\miniforge3\\\\envs\\\\algoviz-sandbox\\\\DLLs',\n",
       " 'C:\\\\Users\\\\User\\\\miniforge3\\\\envs\\\\algoviz-sandbox\\\\lib',\n",
       " 'C:\\\\Users\\\\User\\\\miniforge3\\\\envs\\\\algoviz-sandbox',\n",
       " '',\n",
       " 'C:\\\\Users\\\\User\\\\miniforge3\\\\envs\\\\algoviz-sandbox\\\\lib\\\\site-packages',\n",
       " 'C:\\\\Users\\\\User\\\\miniforge3\\\\envs\\\\algoviz-sandbox\\\\lib\\\\site-packages\\\\win32',\n",
       " 'C:\\\\Users\\\\User\\\\miniforge3\\\\envs\\\\algoviz-sandbox\\\\lib\\\\site-packages\\\\win32\\\\lib',\n",
       " 'C:\\\\Users\\\\User\\\\miniforge3\\\\envs\\\\algoviz-sandbox\\\\lib\\\\site-packages\\\\Pythonwin',\n",
       " 'traditional-demo/dir1',\n",
       " 'traditional-demo/dir2']"
      ]
     },
     "execution_count": 4,
     "metadata": {},
     "output_type": "execute_result"
    }
   ],
   "source": [
    "sys.path"
   ]
  },
  {
   "cell_type": "code",
   "execution_count": 5,
   "id": "47f8e7e6-c08d-4a1a-b7c6-c5b2b17d73bf",
   "metadata": {},
   "outputs": [],
   "source": [
    "import tradpkg"
   ]
  },
  {
   "cell_type": "code",
   "execution_count": 6,
   "id": "d505cd3f-391d-430b-8def-77199fc7cdef",
   "metadata": {},
   "outputs": [
    {
     "data": {
      "text/plain": [
       "['__builtins__',\n",
       " '__cached__',\n",
       " '__doc__',\n",
       " '__file__',\n",
       " '__loader__',\n",
       " '__name__',\n",
       " '__package__',\n",
       " '__path__',\n",
       " '__spec__']"
      ]
     },
     "execution_count": 6,
     "metadata": {},
     "output_type": "execute_result"
    }
   ],
   "source": [
    "dir(tradpkg)"
   ]
  },
  {
   "cell_type": "code",
   "execution_count": 7,
   "id": "490baa99-a628-45d0-9921-0acb0186152f",
   "metadata": {},
   "outputs": [],
   "source": [
    "import tradpkg.subpkg"
   ]
  },
  {
   "cell_type": "code",
   "execution_count": 8,
   "id": "b907f17d-6dc1-44b8-84fe-af7035aa7a85",
   "metadata": {},
   "outputs": [
    {
     "data": {
      "text/plain": [
       "['__builtins__',\n",
       " '__cached__',\n",
       " '__doc__',\n",
       " '__file__',\n",
       " '__loader__',\n",
       " '__name__',\n",
       " '__package__',\n",
       " '__path__',\n",
       " '__spec__',\n",
       " 'subpkg']"
      ]
     },
     "execution_count": 8,
     "metadata": {},
     "output_type": "execute_result"
    }
   ],
   "source": [
    "dir(tradpkg)"
   ]
  },
  {
   "cell_type": "code",
   "execution_count": 9,
   "id": "3ee0be9a-6fc0-4ff9-8516-2ed9c9b00255",
   "metadata": {},
   "outputs": [],
   "source": [
    "import tradpkg.subpkg.grids"
   ]
  },
  {
   "cell_type": "code",
   "execution_count": 10,
   "id": "58331935-f0e6-4d75-836d-744a132b979c",
   "metadata": {},
   "outputs": [
    {
     "data": {
      "text/plain": [
       "[[0, 0, 0], [0, 0, 0], [0, 0, 0]]"
      ]
     },
     "execution_count": 10,
     "metadata": {},
     "output_type": "execute_result"
    }
   ],
   "source": [
    "tradpkg.subpkg.grids.make_grid(3, 3)"
   ]
  },
  {
   "cell_type": "code",
   "execution_count": 11,
   "id": "ced15412-82ed-4bad-bba6-1e08d64d7e4e",
   "metadata": {},
   "outputs": [],
   "source": [
    "g = tradpkg.subpkg.grids.make_grid(3, 3)"
   ]
  },
  {
   "cell_type": "code",
   "execution_count": 12,
   "id": "11acc7c4-9a99-4e21-b3e6-d659ccb55dff",
   "metadata": {},
   "outputs": [],
   "source": [
    "g[2][1] = 42"
   ]
  },
  {
   "cell_type": "code",
   "execution_count": 13,
   "id": "8288a718-9d30-46af-a98a-0d72b20ef8fb",
   "metadata": {},
   "outputs": [
    {
     "data": {
      "text/plain": [
       "[[0, 0, 0], [0, 0, 0], [0, 42, 0]]"
      ]
     },
     "execution_count": 13,
     "metadata": {},
     "output_type": "execute_result"
    }
   ],
   "source": [
    "g"
   ]
  },
  {
   "cell_type": "code",
   "execution_count": 14,
   "id": "f72dae30-5745-415b-a67e-655bd3aa0c1c",
   "metadata": {},
   "outputs": [],
   "source": [
    "g = tradpkg.subpkg.grids.make_grid(3, 4)"
   ]
  },
  {
   "cell_type": "code",
   "execution_count": 15,
   "id": "a43ac91d-ab1a-4240-8081-167e917c8eb5",
   "metadata": {},
   "outputs": [
    {
     "data": {
      "text/plain": [
       "[[0, 0, 0, 0], [0, 0, 0, 0], [0, 0, 0, 0]]"
      ]
     },
     "execution_count": 15,
     "metadata": {},
     "output_type": "execute_result"
    }
   ],
   "source": [
    "g"
   ]
  },
  {
   "cell_type": "code",
   "execution_count": 16,
   "id": "ae872365-10f6-4eef-8f4d-7d515d0a2690",
   "metadata": {},
   "outputs": [
    {
     "data": {
      "text/plain": [
       "['__builtins__',\n",
       " '__cached__',\n",
       " '__doc__',\n",
       " '__file__',\n",
       " '__loader__',\n",
       " '__name__',\n",
       " '__package__',\n",
       " '__spec__',\n",
       " 'make_grid']"
      ]
     },
     "execution_count": 16,
     "metadata": {},
     "output_type": "execute_result"
    }
   ],
   "source": [
    "dir(tradpkg.subpkg.grids)"
   ]
  },
  {
   "cell_type": "code",
   "execution_count": 17,
   "id": "8c33d2f7-c5bd-4d89-bf12-ae0b03b2b3a8",
   "metadata": {},
   "outputs": [],
   "source": [
    "import tradpkg.subpkg.adapters"
   ]
  },
  {
   "cell_type": "code",
   "execution_count": 18,
   "id": "1c3a0077-a247-429c-b458-d8cadcfb86db",
   "metadata": {},
   "outputs": [
    {
     "data": {
      "text/plain": [
       "['__builtins__',\n",
       " '__cached__',\n",
       " '__doc__',\n",
       " '__file__',\n",
       " '__loader__',\n",
       " '__name__',\n",
       " '__package__',\n",
       " '__spec__',\n",
       " '_make_grid',\n",
       " 'grid_from_coords']"
      ]
     },
     "execution_count": 18,
     "metadata": {},
     "output_type": "execute_result"
    }
   ],
   "source": [
    "dir(tradpkg.subpkg.adapters)"
   ]
  },
  {
   "cell_type": "code",
   "execution_count": 19,
   "id": "25b4711c-6ee6-4b45-a1bd-446b2e31143c",
   "metadata": {},
   "outputs": [
    {
     "data": {
      "text/plain": [
       "['__builtins__',\n",
       " '__cached__',\n",
       " '__doc__',\n",
       " '__file__',\n",
       " '__loader__',\n",
       " '__name__',\n",
       " '__package__',\n",
       " '__path__',\n",
       " '__spec__',\n",
       " 'adapters',\n",
       " 'grids']"
      ]
     },
     "execution_count": 19,
     "metadata": {},
     "output_type": "execute_result"
    }
   ],
   "source": [
    "dir(tradpkg.subpkg)"
   ]
  },
  {
   "cell_type": "code",
   "execution_count": 32,
   "id": "3239a0c6-b3ac-4f25-b2f9-44af9fd1a1a9",
   "metadata": {},
   "outputs": [],
   "source": [
    "coords = [(1, 1)] * 3 + [(0, 1)]"
   ]
  },
  {
   "cell_type": "code",
   "execution_count": 33,
   "id": "d6ba7624-b11a-49cc-8362-c821503af302",
   "metadata": {},
   "outputs": [
    {
     "data": {
      "text/plain": [
       "[[0, 1, 0, 0], [0, 3, 0, 0], [0, 0, 0, 0]]"
      ]
     },
     "execution_count": 33,
     "metadata": {},
     "output_type": "execute_result"
    }
   ],
   "source": [
    "tradpkg.subpkg.adapters.grid_from_coords(3, 4, coords)"
   ]
  },
  {
   "cell_type": "code",
   "execution_count": null,
   "id": "e1beb3f4-83a9-4d1d-8a55-22a2ba3c1f41",
   "metadata": {},
   "outputs": [],
   "source": []
  }
 ],
 "metadata": {
  "kernelspec": {
   "display_name": "Python 3 (ipykernel)",
   "language": "python",
   "name": "python3"
  },
  "language_info": {
   "codemirror_mode": {
    "name": "ipython",
    "version": 3
   },
   "file_extension": ".py",
   "mimetype": "text/x-python",
   "name": "python",
   "nbconvert_exporter": "python",
   "pygments_lexer": "ipython3",
   "version": "3.10.5"
  }
 },
 "nbformat": 4,
 "nbformat_minor": 5
}
