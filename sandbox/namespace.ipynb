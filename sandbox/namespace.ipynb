{
 "cells": [
  {
   "cell_type": "code",
   "execution_count": 1,
   "id": "4ca358c5-6ebb-4c4e-85a6-c8f1ae7dcae5",
   "metadata": {},
   "outputs": [],
   "source": [
    "import sys"
   ]
  },
  {
   "cell_type": "code",
   "execution_count": 2,
   "id": "acb12da2-1f4d-4b73-8ed6-ddbebe4552e4",
   "metadata": {},
   "outputs": [
    {
     "data": {
      "text/plain": [
       "['C:\\\\Users\\\\ek\\\\source\\\\repos\\\\palgoviz\\\\sandbox',\n",
       " 'C:\\\\Users\\\\ek\\\\miniforge3\\\\envs\\\\palgoviz-sandbox\\\\python311.zip',\n",
       " 'C:\\\\Users\\\\ek\\\\miniforge3\\\\envs\\\\palgoviz-sandbox\\\\Lib',\n",
       " 'C:\\\\Users\\\\ek\\\\miniforge3\\\\envs\\\\palgoviz-sandbox\\\\DLLs',\n",
       " 'C:\\\\Users\\\\ek\\\\miniforge3\\\\envs\\\\palgoviz-sandbox',\n",
       " '',\n",
       " 'C:\\\\Users\\\\ek\\\\miniforge3\\\\envs\\\\palgoviz-sandbox\\\\Lib\\\\site-packages',\n",
       " 'C:\\\\Users\\\\ek\\\\miniforge3\\\\envs\\\\palgoviz-sandbox\\\\Lib\\\\site-packages\\\\win32',\n",
       " 'C:\\\\Users\\\\ek\\\\miniforge3\\\\envs\\\\palgoviz-sandbox\\\\Lib\\\\site-packages\\\\win32\\\\lib',\n",
       " 'C:\\\\Users\\\\ek\\\\miniforge3\\\\envs\\\\palgoviz-sandbox\\\\Lib\\\\site-packages\\\\Pythonwin']"
      ]
     },
     "execution_count": 2,
     "metadata": {},
     "output_type": "execute_result"
    }
   ],
   "source": [
    "sys.path"
   ]
  },
  {
   "cell_type": "code",
   "execution_count": 3,
   "id": "8953f2a6-e770-4783-94c8-98817b700842",
   "metadata": {},
   "outputs": [],
   "source": [
    "sys.path += ['namespace-demo/dir1', 'namespace-demo/dir2']"
   ]
  },
  {
   "cell_type": "code",
   "execution_count": 4,
   "id": "33627d24-e450-48b0-8905-1184654ce630",
   "metadata": {},
   "outputs": [
    {
     "data": {
      "text/plain": [
       "['C:\\\\Users\\\\ek\\\\source\\\\repos\\\\palgoviz\\\\sandbox',\n",
       " 'C:\\\\Users\\\\ek\\\\miniforge3\\\\envs\\\\palgoviz-sandbox\\\\python311.zip',\n",
       " 'C:\\\\Users\\\\ek\\\\miniforge3\\\\envs\\\\palgoviz-sandbox\\\\Lib',\n",
       " 'C:\\\\Users\\\\ek\\\\miniforge3\\\\envs\\\\palgoviz-sandbox\\\\DLLs',\n",
       " 'C:\\\\Users\\\\ek\\\\miniforge3\\\\envs\\\\palgoviz-sandbox',\n",
       " '',\n",
       " 'C:\\\\Users\\\\ek\\\\miniforge3\\\\envs\\\\palgoviz-sandbox\\\\Lib\\\\site-packages',\n",
       " 'C:\\\\Users\\\\ek\\\\miniforge3\\\\envs\\\\palgoviz-sandbox\\\\Lib\\\\site-packages\\\\win32',\n",
       " 'C:\\\\Users\\\\ek\\\\miniforge3\\\\envs\\\\palgoviz-sandbox\\\\Lib\\\\site-packages\\\\win32\\\\lib',\n",
       " 'C:\\\\Users\\\\ek\\\\miniforge3\\\\envs\\\\palgoviz-sandbox\\\\Lib\\\\site-packages\\\\Pythonwin',\n",
       " 'namespace-demo/dir1',\n",
       " 'namespace-demo/dir2']"
      ]
     },
     "execution_count": 4,
     "metadata": {},
     "output_type": "execute_result"
    }
   ],
   "source": [
    "sys.path"
   ]
  },
  {
   "cell_type": "code",
   "execution_count": 5,
   "id": "f15fe2bc-1160-41e8-87de-ab7186af252a",
   "metadata": {},
   "outputs": [],
   "source": [
    "import nspkg"
   ]
  },
  {
   "cell_type": "code",
   "execution_count": 6,
   "id": "34484a3b-c3b5-40b3-80c6-5105df3b58b5",
   "metadata": {},
   "outputs": [
    {
     "data": {
      "text/plain": [
       "['__doc__',\n",
       " '__file__',\n",
       " '__loader__',\n",
       " '__name__',\n",
       " '__package__',\n",
       " '__path__',\n",
       " '__spec__']"
      ]
     },
     "execution_count": 6,
     "metadata": {},
     "output_type": "execute_result"
    }
   ],
   "source": [
    "dir(nspkg)"
   ]
  },
  {
   "cell_type": "code",
   "execution_count": 7,
   "id": "a60c0c0e-0fc8-48ee-a21a-813053c58dd2",
   "metadata": {},
   "outputs": [],
   "source": [
    "import nspkg.subpkg"
   ]
  },
  {
   "cell_type": "code",
   "execution_count": 8,
   "id": "59490e27-900a-4ac8-8d70-218d01b2caff",
   "metadata": {},
   "outputs": [
    {
     "data": {
      "text/plain": [
       "['__doc__',\n",
       " '__file__',\n",
       " '__loader__',\n",
       " '__name__',\n",
       " '__package__',\n",
       " '__path__',\n",
       " '__spec__',\n",
       " 'subpkg']"
      ]
     },
     "execution_count": 8,
     "metadata": {},
     "output_type": "execute_result"
    }
   ],
   "source": [
    "dir(nspkg)"
   ]
  },
  {
   "cell_type": "code",
   "execution_count": 9,
   "id": "7c2e3867-c581-4103-ae36-81634de6d91b",
   "metadata": {},
   "outputs": [
    {
     "data": {
      "text/plain": [
       "['__doc__',\n",
       " '__file__',\n",
       " '__loader__',\n",
       " '__name__',\n",
       " '__package__',\n",
       " '__path__',\n",
       " '__spec__']"
      ]
     },
     "execution_count": 9,
     "metadata": {},
     "output_type": "execute_result"
    }
   ],
   "source": [
    "dir(nspkg.subpkg)"
   ]
  },
  {
   "cell_type": "code",
   "execution_count": 10,
   "id": "f66cdfc7-5f8b-466d-bd62-064eedf92ee4",
   "metadata": {},
   "outputs": [],
   "source": [
    "import nspkg.subpkg.lucas"
   ]
  },
  {
   "cell_type": "code",
   "execution_count": 11,
   "id": "d5c6d05f-9ec5-4403-b230-6b8f25558721",
   "metadata": {},
   "outputs": [
    {
     "data": {
      "text/plain": [
       "['__doc__',\n",
       " '__file__',\n",
       " '__loader__',\n",
       " '__name__',\n",
       " '__package__',\n",
       " '__path__',\n",
       " '__spec__',\n",
       " 'lucas']"
      ]
     },
     "execution_count": 11,
     "metadata": {},
     "output_type": "execute_result"
    }
   ],
   "source": [
    "dir(nspkg.subpkg)"
   ]
  },
  {
   "cell_type": "code",
   "execution_count": 12,
   "id": "6964f58b-02b0-4a60-8cd5-79607ce09f25",
   "metadata": {},
   "outputs": [
    {
     "data": {
      "text/plain": [
       "['__builtins__',\n",
       " '__cached__',\n",
       " '__doc__',\n",
       " '__file__',\n",
       " '__loader__',\n",
       " '__name__',\n",
       " '__package__',\n",
       " '__spec__',\n",
       " 'compute_lucas_u']"
      ]
     },
     "execution_count": 12,
     "metadata": {},
     "output_type": "execute_result"
    }
   ],
   "source": [
    "dir(nspkg.subpkg.lucas)"
   ]
  },
  {
   "cell_type": "code",
   "execution_count": 13,
   "id": "93a39a0c-9fcf-4cdb-84e8-2e2d0736465f",
   "metadata": {},
   "outputs": [
    {
     "data": {
      "text/plain": [
       "0"
      ]
     },
     "execution_count": 13,
     "metadata": {},
     "output_type": "execute_result"
    }
   ],
   "source": [
    "nspkg.subpkg.lucas.compute_lucas_u(1, -1, 0)"
   ]
  },
  {
   "cell_type": "code",
   "execution_count": 14,
   "id": "44733edb-5991-45fd-b9a8-e01d3e7e48cb",
   "metadata": {},
   "outputs": [
    {
     "data": {
      "text/plain": [
       "55"
      ]
     },
     "execution_count": 14,
     "metadata": {},
     "output_type": "execute_result"
    }
   ],
   "source": [
    "nspkg.subpkg.lucas.compute_lucas_u(1, -1, 10)"
   ]
  },
  {
   "cell_type": "code",
   "execution_count": 15,
   "id": "dcca62e2-d8ef-4309-bdb7-f65496fe1897",
   "metadata": {},
   "outputs": [
    {
     "data": {
      "text/plain": [
       "37"
      ]
     },
     "execution_count": 15,
     "metadata": {},
     "output_type": "execute_result"
    }
   ],
   "source": [
    "nspkg.subpkg.lucas.compute_lucas_u(6, -1, 3)"
   ]
  },
  {
   "cell_type": "code",
   "execution_count": 16,
   "id": "95333d5d-a201-423e-a193-49f84dcfe1a6",
   "metadata": {},
   "outputs": [],
   "source": [
    "import nspkg.subpkg.fibonacci"
   ]
  },
  {
   "cell_type": "code",
   "execution_count": 17,
   "id": "caee1c79-264c-4ee9-bedc-f5d039a2806d",
   "metadata": {},
   "outputs": [
    {
     "data": {
      "text/plain": [
       "55"
      ]
     },
     "execution_count": 17,
     "metadata": {},
     "output_type": "execute_result"
    }
   ],
   "source": [
    "nspkg.subpkg.fibonacci.compute_fibonacci(10)"
   ]
  },
  {
   "cell_type": "code",
   "execution_count": 18,
   "id": "4d46f261-2cb6-4672-843e-528c34c76911",
   "metadata": {},
   "outputs": [
    {
     "data": {
      "text/plain": [
       "['__doc__',\n",
       " '__file__',\n",
       " '__loader__',\n",
       " '__name__',\n",
       " '__package__',\n",
       " '__path__',\n",
       " '__spec__',\n",
       " 'fibonacci',\n",
       " 'lucas']"
      ]
     },
     "execution_count": 18,
     "metadata": {},
     "output_type": "execute_result"
    }
   ],
   "source": [
    "dir(nspkg.subpkg)"
   ]
  },
  {
   "cell_type": "code",
   "execution_count": 19,
   "id": "c7fd5e37-b77a-41bc-b57b-73201caea7fe",
   "metadata": {},
   "outputs": [
    {
     "data": {
      "text/plain": [
       "['__builtins__',\n",
       " '__cached__',\n",
       " '__doc__',\n",
       " '__file__',\n",
       " '__loader__',\n",
       " '__name__',\n",
       " '__package__',\n",
       " '__spec__',\n",
       " '_compute_lucas_u',\n",
       " 'compute_fibonacci']"
      ]
     },
     "execution_count": 19,
     "metadata": {},
     "output_type": "execute_result"
    }
   ],
   "source": [
    "dir(nspkg.subpkg.fibonacci)"
   ]
  },
  {
   "cell_type": "code",
   "execution_count": null,
   "id": "4d35e80e-2d32-478e-8eb5-1562c3bf2bba",
   "metadata": {},
   "outputs": [],
   "source": []
  }
 ],
 "metadata": {
  "kernelspec": {
   "display_name": "Python 3 (ipykernel)",
   "language": "python",
   "name": "python3"
  },
  "language_info": {
   "codemirror_mode": {
    "name": "ipython",
    "version": 3
   },
   "file_extension": ".py",
   "mimetype": "text/x-python",
   "name": "python",
   "nbconvert_exporter": "python",
   "pygments_lexer": "ipython3",
   "version": "3.11.0"
  }
 },
 "nbformat": 4,
 "nbformat_minor": 5
}
