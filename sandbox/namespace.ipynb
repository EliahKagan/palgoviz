{
 "cells": [
  {
   "cell_type": "code",
   "execution_count": 1,
   "id": "4ca358c5-6ebb-4c4e-85a6-c8f1ae7dcae5",
   "metadata": {},
   "outputs": [],
   "source": [
    "import sys"
   ]
  },
  {
   "cell_type": "code",
   "execution_count": 2,
   "id": "acb12da2-1f4d-4b73-8ed6-ddbebe4552e4",
   "metadata": {},
   "outputs": [
    {
     "data": {
      "text/plain": [
       "['C:\\\\Users\\\\User\\\\source\\\\repos\\\\algoviz\\\\sandbox',\n",
       " 'C:\\\\Users\\\\User\\\\miniforge3\\\\envs\\\\algoviz-sandbox\\\\python310.zip',\n",
       " 'C:\\\\Users\\\\User\\\\miniforge3\\\\envs\\\\algoviz-sandbox\\\\DLLs',\n",
       " 'C:\\\\Users\\\\User\\\\miniforge3\\\\envs\\\\algoviz-sandbox\\\\lib',\n",
       " 'C:\\\\Users\\\\User\\\\miniforge3\\\\envs\\\\algoviz-sandbox',\n",
       " '',\n",
       " 'C:\\\\Users\\\\User\\\\miniforge3\\\\envs\\\\algoviz-sandbox\\\\lib\\\\site-packages',\n",
       " 'C:\\\\Users\\\\User\\\\miniforge3\\\\envs\\\\algoviz-sandbox\\\\lib\\\\site-packages\\\\win32',\n",
       " 'C:\\\\Users\\\\User\\\\miniforge3\\\\envs\\\\algoviz-sandbox\\\\lib\\\\site-packages\\\\win32\\\\lib',\n",
       " 'C:\\\\Users\\\\User\\\\miniforge3\\\\envs\\\\algoviz-sandbox\\\\lib\\\\site-packages\\\\Pythonwin']"
      ]
     },
     "execution_count": 2,
     "metadata": {},
     "output_type": "execute_result"
    }
   ],
   "source": [
    "sys.path"
   ]
  },
  {
   "cell_type": "code",
   "execution_count": 4,
   "id": "8953f2a6-e770-4783-94c8-98817b700842",
   "metadata": {},
   "outputs": [],
   "source": [
    "sys.path += ['namespace-demo/dir1', 'namespace-demo/dir2']"
   ]
  },
  {
   "cell_type": "code",
   "execution_count": 5,
   "id": "33627d24-e450-48b0-8905-1184654ce630",
   "metadata": {},
   "outputs": [
    {
     "data": {
      "text/plain": [
       "['C:\\\\Users\\\\User\\\\source\\\\repos\\\\algoviz\\\\sandbox',\n",
       " 'C:\\\\Users\\\\User\\\\miniforge3\\\\envs\\\\algoviz-sandbox\\\\python310.zip',\n",
       " 'C:\\\\Users\\\\User\\\\miniforge3\\\\envs\\\\algoviz-sandbox\\\\DLLs',\n",
       " 'C:\\\\Users\\\\User\\\\miniforge3\\\\envs\\\\algoviz-sandbox\\\\lib',\n",
       " 'C:\\\\Users\\\\User\\\\miniforge3\\\\envs\\\\algoviz-sandbox',\n",
       " '',\n",
       " 'C:\\\\Users\\\\User\\\\miniforge3\\\\envs\\\\algoviz-sandbox\\\\lib\\\\site-packages',\n",
       " 'C:\\\\Users\\\\User\\\\miniforge3\\\\envs\\\\algoviz-sandbox\\\\lib\\\\site-packages\\\\win32',\n",
       " 'C:\\\\Users\\\\User\\\\miniforge3\\\\envs\\\\algoviz-sandbox\\\\lib\\\\site-packages\\\\win32\\\\lib',\n",
       " 'C:\\\\Users\\\\User\\\\miniforge3\\\\envs\\\\algoviz-sandbox\\\\lib\\\\site-packages\\\\Pythonwin',\n",
       " 'namespace-demo/dir1',\n",
       " 'namespace-demo/dir2']"
      ]
     },
     "execution_count": 5,
     "metadata": {},
     "output_type": "execute_result"
    }
   ],
   "source": [
    "sys.path"
   ]
  },
  {
   "cell_type": "code",
   "execution_count": 6,
   "id": "f15fe2bc-1160-41e8-87de-ab7186af252a",
   "metadata": {},
   "outputs": [],
   "source": [
    "import nspkg"
   ]
  },
  {
   "cell_type": "code",
   "execution_count": 7,
   "id": "34484a3b-c3b5-40b3-80c6-5105df3b58b5",
   "metadata": {},
   "outputs": [
    {
     "data": {
      "text/plain": [
       "['__doc__',\n",
       " '__file__',\n",
       " '__loader__',\n",
       " '__name__',\n",
       " '__package__',\n",
       " '__path__',\n",
       " '__spec__']"
      ]
     },
     "execution_count": 7,
     "metadata": {},
     "output_type": "execute_result"
    }
   ],
   "source": [
    "dir(nspkg)"
   ]
  },
  {
   "cell_type": "code",
   "execution_count": 8,
   "id": "a60c0c0e-0fc8-48ee-a21a-813053c58dd2",
   "metadata": {},
   "outputs": [],
   "source": [
    "import nspkg.subpkg"
   ]
  },
  {
   "cell_type": "code",
   "execution_count": 9,
   "id": "59490e27-900a-4ac8-8d70-218d01b2caff",
   "metadata": {},
   "outputs": [
    {
     "data": {
      "text/plain": [
       "['__doc__',\n",
       " '__file__',\n",
       " '__loader__',\n",
       " '__name__',\n",
       " '__package__',\n",
       " '__path__',\n",
       " '__spec__',\n",
       " 'subpkg']"
      ]
     },
     "execution_count": 9,
     "metadata": {},
     "output_type": "execute_result"
    }
   ],
   "source": [
    "dir(nspkg)"
   ]
  },
  {
   "cell_type": "code",
   "execution_count": 10,
   "id": "7c2e3867-c581-4103-ae36-81634de6d91b",
   "metadata": {},
   "outputs": [
    {
     "data": {
      "text/plain": [
       "['__doc__',\n",
       " '__file__',\n",
       " '__loader__',\n",
       " '__name__',\n",
       " '__package__',\n",
       " '__path__',\n",
       " '__spec__']"
      ]
     },
     "execution_count": 10,
     "metadata": {},
     "output_type": "execute_result"
    }
   ],
   "source": [
    "dir(nspkg.subpkg)"
   ]
  },
  {
   "cell_type": "code",
   "execution_count": 11,
   "id": "f66cdfc7-5f8b-466d-bd62-064eedf92ee4",
   "metadata": {},
   "outputs": [
    {
     "name": "stdout",
     "output_type": "stream",
     "text": [
      "Han shoots first.\n"
     ]
    }
   ],
   "source": [
    "import nspkg.subpkg.lucas"
   ]
  },
  {
   "cell_type": "code",
   "execution_count": 12,
   "id": "d5c6d05f-9ec5-4403-b230-6b8f25558721",
   "metadata": {},
   "outputs": [
    {
     "data": {
      "text/plain": [
       "['__doc__',\n",
       " '__file__',\n",
       " '__loader__',\n",
       " '__name__',\n",
       " '__package__',\n",
       " '__path__',\n",
       " '__spec__',\n",
       " 'lucas']"
      ]
     },
     "execution_count": 12,
     "metadata": {},
     "output_type": "execute_result"
    }
   ],
   "source": [
    "dir(nspkg.subpkg)"
   ]
  },
  {
   "cell_type": "code",
   "execution_count": null,
   "id": "6964f58b-02b0-4a60-8cd5-79607ce09f25",
   "metadata": {},
   "outputs": [],
   "source": []
  }
 ],
 "metadata": {
  "kernelspec": {
   "display_name": "Python 3 (ipykernel)",
   "language": "python",
   "name": "python3"
  },
  "language_info": {
   "codemirror_mode": {
    "name": "ipython",
    "version": 3
   },
   "file_extension": ".py",
   "mimetype": "text/x-python",
   "name": "python",
   "nbconvert_exporter": "python",
   "pygments_lexer": "ipython3",
   "version": "3.10.5"
  }
 },
 "nbformat": 4,
 "nbformat_minor": 5
}
