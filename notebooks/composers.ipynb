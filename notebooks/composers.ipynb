{
 "cells": [
  {
   "cell_type": "markdown",
   "id": "2dc67718-9d95-42d5-bae7-e16ad07eb222",
   "metadata": {},
   "source": [
    "# Function composition - notes"
   ]
  },
  {
   "cell_type": "markdown",
   "id": "21450ec2-92d5-48cb-b993-1c4e1759c340",
   "metadata": {},
   "source": [
    "*Composition* of functions:\n",
    "\n",
    "$$(f \\circ g)(x) = f(g(x))$$"
   ]
  },
  {
   "cell_type": "markdown",
   "id": "66b49f7d-81a1-4c8b-9998-4ecd832e6270",
   "metadata": {},
   "source": [
    "Some people say that:\n",
    "\n",
    "$$(f \\circ g)(x) = g(f(x))$$\n",
    "\n",
    "But that's not the convention we're using."
   ]
  },
  {
   "cell_type": "code",
   "execution_count": 1,
   "id": "f3635074-d89c-4562-b8c9-01da04b40b60",
   "metadata": {},
   "outputs": [],
   "source": [
    "from algoviz.composers import compose2"
   ]
  },
  {
   "cell_type": "code",
   "execution_count": 2,
   "id": "0100899a-38ae-44e1-b02d-60163d45ef57",
   "metadata": {},
   "outputs": [],
   "source": [
    "def square(x):\n",
    "    return x**2"
   ]
  },
  {
   "cell_type": "code",
   "execution_count": 3,
   "id": "28939454-5798-43eb-a1d1-013b6ed7b1da",
   "metadata": {},
   "outputs": [],
   "source": [
    "def inc(x):\n",
    "    return x + 1"
   ]
  },
  {
   "cell_type": "code",
   "execution_count": 4,
   "id": "590ad916-5018-4e00-8ca0-3a7b3aa0dc9b",
   "metadata": {},
   "outputs": [],
   "source": [
    "fourth = compose2(square,square)"
   ]
  },
  {
   "cell_type": "code",
   "execution_count": 5,
   "id": "95a02038-8ed5-49be-9294-325b5beb659f",
   "metadata": {},
   "outputs": [
    {
     "data": {
      "text/plain": [
       "16"
      ]
     },
     "execution_count": 5,
     "metadata": {},
     "output_type": "execute_result"
    }
   ],
   "source": [
    "fourth(2)"
   ]
  },
  {
   "cell_type": "markdown",
   "id": "8c6c3fd8-82b9-47ea-b4d6-1786ea575322",
   "metadata": {},
   "source": [
    "$f(g)$ vs. $f \\circ g$"
   ]
  },
  {
   "cell_type": "markdown",
   "id": "5e573f5b-51f1-48f7-b01f-cf54c89189a3",
   "metadata": {},
   "source": [
    "Having computed $x^n$, how do you use that to find $x^{n + 1}$?"
   ]
  },
  {
   "cell_type": "markdown",
   "id": "2b3c65ae-0ff8-4002-a7ad-f66d235d749f",
   "metadata": {},
   "source": [
    "Define $f^n = f \\circ f \\circ \\ldots \\circ f$, with $n$ $f$s."
   ]
  },
  {
   "cell_type": "markdown",
   "id": "35fe314c-2ca1-4aaa-9e73-6e7d8e95f0c8",
   "metadata": {},
   "source": [
    "**Composition is associative.**"
   ]
  },
  {
   "cell_type": "code",
   "execution_count": null,
   "id": "4c939895-ab14-47ae-90ae-35cd6cf01675",
   "metadata": {},
   "outputs": [],
   "source": []
  }
 ],
 "metadata": {
  "kernelspec": {
   "display_name": "Python 3 (ipykernel)",
   "language": "python",
   "name": "python3"
  },
  "language_info": {
   "codemirror_mode": {
    "name": "ipython",
    "version": 3
   },
   "file_extension": ".py",
   "mimetype": "text/x-python",
   "name": "python",
   "nbconvert_exporter": "python",
   "pygments_lexer": "ipython3",
   "version": "3.10.6"
  }
 },
 "nbformat": 4,
 "nbformat_minor": 5
}
