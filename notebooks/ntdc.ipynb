{
 "cells": [
  {
   "cell_type": "markdown",
   "id": "51d6107f-319f-46a6-a279-d35ae0f1d4ae",
   "metadata": {},
   "source": [
    "# Named tuples and data classes"
   ]
  },
  {
   "cell_type": "markdown",
   "id": "8692aba9-eb67-48e8-96f6-fc159fa769a9",
   "metadata": {},
   "source": [
    "## Motivation"
   ]
  },
  {
   "cell_type": "code",
   "execution_count": 1,
   "id": "92d84b5a-f9c1-4f03-a8fa-eb2c5506914d",
   "metadata": {},
   "outputs": [],
   "source": [
    "def summarize(values):\n",
    "    \"\"\"\n",
    "    Compute min, max, and arithmetic, geometric, and harmonic mean.\n",
    "\n",
    "    values is an arbitrary nonempty iterable of strictly positive real numbers.\n",
    "    If values is empty, or any value is nonpositive, ValueError is raised. The\n",
    "    caller is responsible for ensuring each object in values represents a real\n",
    "    number. The five computed results are returned as [FIXME: decide how].\n",
    "\n",
    "    All computations are done in a single pass: values is iterated just once.\n",
    "    Time complexity is O(len(values)). Space complexity is O(1). These assume a\n",
    "    number takes O(1) space and arithmetic operations take O(1) time, which is\n",
    "    often an approximation in Python, but it is guaranteed when using floats.\n",
    "    \"\"\"\n",
    "    # FIXME: Implement this."
   ]
  },
  {
   "cell_type": "code",
   "execution_count": 2,
   "id": "5636fb00-12f3-4d77-8e16-bbab346c5e45",
   "metadata": {},
   "outputs": [],
   "source": [
    "# TODO: Make the rest of this section."
   ]
  }
 ],
 "metadata": {
  "kernelspec": {
   "display_name": "palgoviz-basics",
   "language": "python",
   "name": "python3"
  },
  "language_info": {
   "codemirror_mode": {
    "name": "ipython",
    "version": 3
   },
   "file_extension": ".py",
   "mimetype": "text/x-python",
   "name": "python",
   "nbconvert_exporter": "python",
   "pygments_lexer": "ipython3",
   "version": "3.10.6 | packaged by conda-forge | (main, Aug 22 2022, 20:29:51) [MSC v.1929 64 bit (AMD64)]"
  },
  "vscode": {
   "interpreter": {
    "hash": "a924a81514a67ab7abb52f10576a3bff5d43dd09540bf62ec090588d0cbe25a3"
   }
  }
 },
 "nbformat": 4,
 "nbformat_minor": 5
}
