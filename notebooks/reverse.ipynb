{
 "cells": [
  {
   "cell_type": "markdown",
   "id": "542ddaa8-735e-4e15-b0e2-6c9308ea3fcd",
   "metadata": {},
   "source": [
    "# `sorted`/`list.sort` and `reversed`/`list.reverse`\n",
    "\n",
    "SPDX-License-Identifier: 0BSD"
   ]
  },
  {
   "cell_type": "code",
   "execution_count": 1,
   "id": "3d776531-4c13-45b6-93db-cfd4e598f003",
   "metadata": {},
   "outputs": [
    {
     "data": {
      "text/plain": [
       "[-9, 1, 7, 8, 14]"
      ]
     },
     "execution_count": 1,
     "metadata": {},
     "output_type": "execute_result"
    }
   ],
   "source": [
    "sorted((14, 1, 7, -9, 8))  # Can pass any iterable, gives a list."
   ]
  },
  {
   "cell_type": "code",
   "execution_count": 2,
   "id": "cbc29068-3a92-4533-8b29-a9204f9fbe1a",
   "metadata": {},
   "outputs": [
    {
     "data": {
      "text/plain": [
       "<reversed at 0x25b8d54f550>"
      ]
     },
     "execution_count": 2,
     "metadata": {},
     "output_type": "execute_result"
    }
   ],
   "source": [
    "reversed((14, 1, 7, -9, 8))  # Can pass reversible iterables, gives an iterator."
   ]
  },
  {
   "cell_type": "code",
   "execution_count": 3,
   "id": "f8bc4223-ec97-4469-bcd4-b3df61d4eaba",
   "metadata": {},
   "outputs": [
    {
     "data": {
      "text/plain": [
       "[8, -9, 7, 1, 14]"
      ]
     },
     "execution_count": 3,
     "metadata": {},
     "output_type": "execute_result"
    }
   ],
   "source": [
    "list(_)"
   ]
  },
  {
   "cell_type": "code",
   "execution_count": 4,
   "id": "0d913faf-87bb-4bc6-bef9-bd5a8b17710f",
   "metadata": {},
   "outputs": [],
   "source": [
    "# All sequences are reversible. Some other iterables are. Many aren't."
   ]
  },
  {
   "cell_type": "code",
   "execution_count": 5,
   "id": "addf33ad-878b-49c8-9d6a-48a5f96a9936",
   "metadata": {},
   "outputs": [],
   "source": [
    "# If you want to reverse a list in place, you can use the reverse method, much\n",
    "# as if you want to sort a list in place, you can use the sort method.\n",
    "a = [6, 2, 9, 3, 8, 4, 7]\n",
    "a.sort()"
   ]
  },
  {
   "cell_type": "code",
   "execution_count": 6,
   "id": "5e34a278-bee2-4f18-9258-7b408eb5ffce",
   "metadata": {},
   "outputs": [
    {
     "data": {
      "text/plain": [
       "[2, 3, 4, 6, 7, 8, 9]"
      ]
     },
     "execution_count": 6,
     "metadata": {},
     "output_type": "execute_result"
    }
   ],
   "source": [
    "a"
   ]
  },
  {
   "cell_type": "code",
   "execution_count": 7,
   "id": "05745d24-0a01-41a2-9ca0-da34a6814eb1",
   "metadata": {},
   "outputs": [],
   "source": [
    "a.reverse()"
   ]
  },
  {
   "cell_type": "code",
   "execution_count": 8,
   "id": "5466b92b-90bd-4cf9-8596-b60240fe8f47",
   "metadata": {},
   "outputs": [
    {
     "data": {
      "text/plain": [
       "[9, 8, 7, 6, 4, 3, 2]"
      ]
     },
     "execution_count": 8,
     "metadata": {},
     "output_type": "execute_result"
    }
   ],
   "source": [
    "a"
   ]
  },
  {
   "cell_type": "code",
   "execution_count": 9,
   "id": "0a7e2e75-0d22-47a7-b933-b651c2942dad",
   "metadata": {},
   "outputs": [
    {
     "data": {
      "text/plain": [
       "[2, 3, 4, 6, 7, 8, 9]"
      ]
     },
     "execution_count": 9,
     "metadata": {},
     "output_type": "execute_result"
    }
   ],
   "source": [
    "list(reversed(a))"
   ]
  },
  {
   "cell_type": "code",
   "execution_count": 10,
   "id": "8435f06a-4fb3-4a61-ac47-62254bf9d1bd",
   "metadata": {},
   "outputs": [
    {
     "data": {
      "text/plain": [
       "[9, 8, 7, 6, 4, 3, 2]"
      ]
     },
     "execution_count": 10,
     "metadata": {},
     "output_type": "execute_result"
    }
   ],
   "source": [
    "a"
   ]
  },
  {
   "cell_type": "code",
   "execution_count": 11,
   "id": "c2b131c2-2e46-4cde-bb10-8210f7c72811",
   "metadata": {},
   "outputs": [
    {
     "data": {
      "text/plain": [
       "[2, 3, 4, 6, 7, 8, 9]"
      ]
     },
     "execution_count": 11,
     "metadata": {},
     "output_type": "execute_result"
    }
   ],
   "source": [
    "# Getting a reversed copy of a sequence can be done by slicing.\n",
    "a[::-1]  # start=None, stop=None, step=-1"
   ]
  },
  {
   "cell_type": "code",
   "execution_count": null,
   "id": "d345b780-d5a7-46d6-8179-2be4ef64b81a",
   "metadata": {},
   "outputs": [],
   "source": []
  }
 ],
 "metadata": {
  "kernelspec": {
   "display_name": "Python 3 (ipykernel)",
   "language": "python",
   "name": "python3"
  },
  "language_info": {
   "codemirror_mode": {
    "name": "ipython",
    "version": 3
   },
   "file_extension": ".py",
   "mimetype": "text/x-python",
   "name": "python",
   "nbconvert_exporter": "python",
   "pygments_lexer": "ipython3",
   "version": "3.11.1"
  }
 },
 "nbformat": 4,
 "nbformat_minor": 5
}
