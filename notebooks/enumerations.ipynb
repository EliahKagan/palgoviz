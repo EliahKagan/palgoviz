{
 "cells": [
  {
   "cell_type": "markdown",
   "id": "0533df36-97e3-4ccf-a546-126bfe9ecf5d",
   "metadata": {},
   "source": [
    "# Enumerations"
   ]
  },
  {
   "cell_type": "code",
   "execution_count": 1,
   "id": "c3365ade-10b1-451b-b17a-782b491cef08",
   "metadata": {},
   "outputs": [],
   "source": [
    "import enum"
   ]
  },
  {
   "cell_type": "code",
   "execution_count": 2,
   "id": "6b839e6c-2c53-480b-8324-a88f1fe50b97",
   "metadata": {},
   "outputs": [
    {
     "data": {
      "text/plain": [
       "['DynamicClassAttribute',\n",
       " 'Enum',\n",
       " 'EnumMeta',\n",
       " 'Flag',\n",
       " 'IntEnum',\n",
       " 'IntFlag',\n",
       " 'MappingProxyType',\n",
       " '_EnumDict',\n",
       " '__all__',\n",
       " '__builtins__',\n",
       " '__cached__',\n",
       " '__doc__',\n",
       " '__file__',\n",
       " '__loader__',\n",
       " '__name__',\n",
       " '__package__',\n",
       " '__spec__',\n",
       " '_auto_null',\n",
       " '_decompose',\n",
       " '_high_bit',\n",
       " '_is_descriptor',\n",
       " '_is_dunder',\n",
       " '_is_private',\n",
       " '_is_sunder',\n",
       " '_make_class_unpicklable',\n",
       " '_reduce_ex_by_name',\n",
       " 'auto',\n",
       " 'sys',\n",
       " 'unique']"
      ]
     },
     "execution_count": 2,
     "metadata": {},
     "output_type": "execute_result"
    }
   ],
   "source": [
    "dir(enum)"
   ]
  },
  {
   "cell_type": "code",
   "execution_count": 3,
   "id": "a808788e-5c1b-4dfd-8a8f-ce56bcb6b7c3",
   "metadata": {},
   "outputs": [],
   "source": [
    "class MyEnumeration(enum.Enum):\n",
    "    MAX = 400\n",
    "    MIN = 10"
   ]
  },
  {
   "cell_type": "code",
   "execution_count": 4,
   "id": "17946df5-9c99-419c-a351-0b886d636c2c",
   "metadata": {},
   "outputs": [
    {
     "data": {
      "text/plain": [
       "<MyEnumeration.MAX: 400>"
      ]
     },
     "execution_count": 4,
     "metadata": {},
     "output_type": "execute_result"
    }
   ],
   "source": [
    "MyEnumeration.MAX"
   ]
  },
  {
   "cell_type": "code",
   "execution_count": 5,
   "id": "1e38167e-c4af-4e30-8282-13b7de781dc0",
   "metadata": {},
   "outputs": [
    {
     "data": {
      "text/plain": [
       "<enum 'MyEnumeration'>"
      ]
     },
     "execution_count": 5,
     "metadata": {},
     "output_type": "execute_result"
    }
   ],
   "source": [
    "type(MyEnumeration.MAX)"
   ]
  },
  {
   "cell_type": "code",
   "execution_count": 6,
   "id": "40c26179-eeca-4356-9430-05fe6216c560",
   "metadata": {},
   "outputs": [
    {
     "data": {
      "text/plain": [
       "400"
      ]
     },
     "execution_count": 6,
     "metadata": {},
     "output_type": "execute_result"
    }
   ],
   "source": [
    "MyEnumeration.MAX.value"
   ]
  },
  {
   "cell_type": "code",
   "execution_count": 7,
   "id": "9cffa201-c430-4e80-af10-f75a63b30f57",
   "metadata": {
    "tags": [
     "raises-exception"
    ]
   },
   "outputs": [
    {
     "ename": "ValueError",
     "evalue": "duplicate values found in <enum 'Dupe'>: BAR -> FOO",
     "output_type": "error",
     "traceback": [
      "\u001b[1;31m---------------------------------------------------------------------------\u001b[0m",
      "\u001b[1;31mValueError\u001b[0m                                Traceback (most recent call last)",
      "Cell \u001b[1;32mIn [7], line 2\u001b[0m\n\u001b[0;32m      1\u001b[0m \u001b[38;5;129;43m@enum\u001b[39;49m\u001b[38;5;241;43m.\u001b[39;49m\u001b[43munique\u001b[49m\n\u001b[1;32m----> 2\u001b[0m \u001b[38;5;28;43;01mclass\u001b[39;49;00m\u001b[43m \u001b[49m\u001b[38;5;21;43;01mDupe\u001b[39;49;00m\u001b[43m(\u001b[49m\u001b[43menum\u001b[49m\u001b[38;5;241;43m.\u001b[39;49m\u001b[43mEnum\u001b[49m\u001b[43m)\u001b[49m\u001b[43m:\u001b[49m\n\u001b[0;32m      3\u001b[0m \u001b[43m    \u001b[49m\u001b[43mFOO\u001b[49m\u001b[43m \u001b[49m\u001b[38;5;241;43m=\u001b[39;49m\u001b[43m \u001b[49m\u001b[38;5;241;43m10\u001b[39;49m\n\u001b[0;32m      4\u001b[0m \u001b[43m    \u001b[49m\u001b[43mBAR\u001b[49m\u001b[43m \u001b[49m\u001b[38;5;241;43m=\u001b[39;49m\u001b[43m \u001b[49m\u001b[38;5;241;43m10\u001b[39;49m\n",
      "File \u001b[1;32m~\\miniforge3\\envs\\algoviz\\lib\\enum.py:1022\u001b[0m, in \u001b[0;36munique\u001b[1;34m(enumeration)\u001b[0m\n\u001b[0;32m   1019\u001b[0m \u001b[38;5;28;01mif\u001b[39;00m duplicates:\n\u001b[0;32m   1020\u001b[0m     alias_details \u001b[38;5;241m=\u001b[39m \u001b[38;5;124m'\u001b[39m\u001b[38;5;124m, \u001b[39m\u001b[38;5;124m'\u001b[39m\u001b[38;5;241m.\u001b[39mjoin(\n\u001b[0;32m   1021\u001b[0m             [\u001b[38;5;124m\"\u001b[39m\u001b[38;5;132;01m%s\u001b[39;00m\u001b[38;5;124m -> \u001b[39m\u001b[38;5;132;01m%s\u001b[39;00m\u001b[38;5;124m\"\u001b[39m \u001b[38;5;241m%\u001b[39m (alias, name) \u001b[38;5;28;01mfor\u001b[39;00m (alias, name) \u001b[38;5;129;01min\u001b[39;00m duplicates])\n\u001b[1;32m-> 1022\u001b[0m     \u001b[38;5;28;01mraise\u001b[39;00m \u001b[38;5;167;01mValueError\u001b[39;00m(\u001b[38;5;124m'\u001b[39m\u001b[38;5;124mduplicate values found in \u001b[39m\u001b[38;5;132;01m%r\u001b[39;00m\u001b[38;5;124m: \u001b[39m\u001b[38;5;132;01m%s\u001b[39;00m\u001b[38;5;124m'\u001b[39m \u001b[38;5;241m%\u001b[39m\n\u001b[0;32m   1023\u001b[0m             (enumeration, alias_details))\n\u001b[0;32m   1024\u001b[0m \u001b[38;5;28;01mreturn\u001b[39;00m enumeration\n",
      "\u001b[1;31mValueError\u001b[0m: duplicate values found in <enum 'Dupe'>: BAR -> FOO"
     ]
    }
   ],
   "source": [
    "@enum.unique\n",
    "class Dupe(enum.Enum):\n",
    "    FOO = 10\n",
    "    BAR = 10"
   ]
  },
  {
   "cell_type": "code",
   "execution_count": 8,
   "id": "5cc32dc0-b546-4ab5-8ed8-82e7c023c438",
   "metadata": {
    "tags": [
     "raises-exception"
    ]
   },
   "outputs": [],
   "source": [
    "#Dupe.FOO is Dupe.BAR"
   ]
  },
  {
   "cell_type": "code",
   "execution_count": 9,
   "id": "9850ec40-caab-4643-ae15-1cdf2bc76923",
   "metadata": {},
   "outputs": [
    {
     "data": {
      "text/plain": [
       "False"
      ]
     },
     "execution_count": 9,
     "metadata": {},
     "output_type": "execute_result"
    }
   ],
   "source": [
    "class E1(enum.Enum):\n",
    "    X = 5\n",
    "\n",
    "class E2(enum.Enum):\n",
    "    X = 5\n",
    "\n",
    "E1.X == E2.X"
   ]
  },
  {
   "cell_type": "code",
   "execution_count": 10,
   "id": "07ed7083-3cab-4678-afb8-0fe66e2cf99d",
   "metadata": {},
   "outputs": [],
   "source": [
    "x = E2.X"
   ]
  },
  {
   "cell_type": "code",
   "execution_count": 11,
   "id": "f031298d-083e-48b8-8704-f2e1440841bc",
   "metadata": {},
   "outputs": [],
   "source": [
    "@enum.unique\n",
    "class E3(enum.Enum):\n",
    "    ROOM1 = enum.auto()\n",
    "    ROOM2 = enum.auto()\n",
    "    ROOM3 = enum.auto()\n",
    "    ROOM4 = enum.auto()"
   ]
  },
  {
   "cell_type": "code",
   "execution_count": 12,
   "id": "78181c08-fc30-49a7-9428-11e48483492c",
   "metadata": {},
   "outputs": [
    {
     "data": {
      "text/plain": [
       "['ROOM1',\n",
       " 'ROOM2',\n",
       " 'ROOM3',\n",
       " 'ROOM4',\n",
       " '__class__',\n",
       " '__doc__',\n",
       " '__members__',\n",
       " '__module__']"
      ]
     },
     "execution_count": 12,
     "metadata": {},
     "output_type": "execute_result"
    }
   ],
   "source": [
    "dir(E3)"
   ]
  },
  {
   "cell_type": "code",
   "execution_count": 13,
   "id": "0e6204bf-33e0-4cd1-8044-3885970993ca",
   "metadata": {},
   "outputs": [
    {
     "data": {
      "text/plain": [
       "mappingproxy({'ROOM1': <E3.ROOM1: 1>,\n",
       "              'ROOM2': <E3.ROOM2: 2>,\n",
       "              'ROOM3': <E3.ROOM3: 3>,\n",
       "              'ROOM4': <E3.ROOM4: 4>})"
      ]
     },
     "execution_count": 13,
     "metadata": {},
     "output_type": "execute_result"
    }
   ],
   "source": [
    "E3.__members__"
   ]
  },
  {
   "cell_type": "code",
   "execution_count": 14,
   "id": "e6921012-6de6-4c2b-8feb-d40f5117b2fc",
   "metadata": {},
   "outputs": [
    {
     "data": {
      "text/plain": [
       "['__class__', '__doc__', '__module__', 'name', 'value']"
      ]
     },
     "execution_count": 14,
     "metadata": {},
     "output_type": "execute_result"
    }
   ],
   "source": [
    "dir(E3.ROOM2)"
   ]
  },
  {
   "cell_type": "code",
   "execution_count": 15,
   "id": "5bbdd34d-87e5-42f5-a354-9b0ab04f8613",
   "metadata": {},
   "outputs": [
    {
     "data": {
      "text/plain": [
       "'ROOM2'"
      ]
     },
     "execution_count": 15,
     "metadata": {},
     "output_type": "execute_result"
    }
   ],
   "source": [
    "E3.ROOM2.name"
   ]
  },
  {
   "cell_type": "code",
   "execution_count": 16,
   "id": "4c7611ad-44d2-457d-9653-03a6d702ab74",
   "metadata": {},
   "outputs": [
    {
     "data": {
      "text/plain": [
       "2"
      ]
     },
     "execution_count": 16,
     "metadata": {},
     "output_type": "execute_result"
    }
   ],
   "source": [
    "E3.ROOM2.value"
   ]
  },
  {
   "cell_type": "code",
   "execution_count": 17,
   "id": "dedd07c1-d2af-4f54-8f16-c6785293899c",
   "metadata": {},
   "outputs": [
    {
     "name": "stdout",
     "output_type": "stream",
     "text": [
      "<E3.ROOM1: 1>\n"
     ]
    }
   ],
   "source": [
    "print(repr(E3.ROOM1))"
   ]
  },
  {
   "cell_type": "code",
   "execution_count": 18,
   "id": "c51090e1-141c-4f85-86f5-07081b4f811b",
   "metadata": {},
   "outputs": [
    {
     "data": {
      "text/plain": [
       "<E3.ROOM1: 1>"
      ]
     },
     "execution_count": 18,
     "metadata": {},
     "output_type": "execute_result"
    }
   ],
   "source": [
    "E3.ROOM1"
   ]
  },
  {
   "cell_type": "code",
   "execution_count": 19,
   "id": "964281d7-d66c-4f9c-abe6-0986351c4e34",
   "metadata": {},
   "outputs": [
    {
     "name": "stdout",
     "output_type": "stream",
     "text": [
      "E3.ROOM1\n"
     ]
    }
   ],
   "source": [
    "print(str(E3.ROOM1))"
   ]
  },
  {
   "cell_type": "code",
   "execution_count": 20,
   "id": "44921ab8-f44d-41f6-8b65-2625ff750621",
   "metadata": {
    "tags": [
     "raises-exception"
    ]
   },
   "outputs": [
    {
     "ename": "TypeError",
     "evalue": "E4: cannot extend enumeration 'E3'",
     "output_type": "error",
     "traceback": [
      "\u001b[1;31m---------------------------------------------------------------------------\u001b[0m",
      "\u001b[1;31mTypeError\u001b[0m                                 Traceback (most recent call last)",
      "Cell \u001b[1;32mIn [20], line 1\u001b[0m\n\u001b[1;32m----> 1\u001b[0m \u001b[38;5;28;01mclass\u001b[39;00m \u001b[38;5;21;01mE4\u001b[39;00m(E3):\n\u001b[0;32m      2\u001b[0m     \u001b[38;5;28;01mpass\u001b[39;00m\n",
      "File \u001b[1;32m~\\miniforge3\\envs\\algoviz\\lib\\enum.py:168\u001b[0m, in \u001b[0;36mEnumMeta.__prepare__\u001b[1;34m(metacls, cls, bases, **kwds)\u001b[0m\n\u001b[0;32m    165\u001b[0m \u001b[38;5;129m@classmethod\u001b[39m\n\u001b[0;32m    166\u001b[0m \u001b[38;5;28;01mdef\u001b[39;00m \u001b[38;5;21m__prepare__\u001b[39m(metacls, \u001b[38;5;28mcls\u001b[39m, bases, \u001b[38;5;241m*\u001b[39m\u001b[38;5;241m*\u001b[39mkwds):\n\u001b[0;32m    167\u001b[0m     \u001b[38;5;66;03m# check that previous enum members do not exist\u001b[39;00m\n\u001b[1;32m--> 168\u001b[0m     \u001b[43mmetacls\u001b[49m\u001b[38;5;241;43m.\u001b[39;49m\u001b[43m_check_for_existing_members\u001b[49m\u001b[43m(\u001b[49m\u001b[38;5;28;43mcls\u001b[39;49m\u001b[43m,\u001b[49m\u001b[43m \u001b[49m\u001b[43mbases\u001b[49m\u001b[43m)\u001b[49m\n\u001b[0;32m    169\u001b[0m     \u001b[38;5;66;03m# create the namespace dict\u001b[39;00m\n\u001b[0;32m    170\u001b[0m     enum_dict \u001b[38;5;241m=\u001b[39m _EnumDict()\n",
      "File \u001b[1;32m~\\miniforge3\\envs\\algoviz\\lib\\enum.py:574\u001b[0m, in \u001b[0;36mEnumMeta._check_for_existing_members\u001b[1;34m(class_name, bases)\u001b[0m\n\u001b[0;32m    572\u001b[0m \u001b[38;5;28;01mfor\u001b[39;00m base \u001b[38;5;129;01min\u001b[39;00m chain\u001b[38;5;241m.\u001b[39m\u001b[38;5;18m__mro__\u001b[39m:\n\u001b[0;32m    573\u001b[0m     \u001b[38;5;28;01mif\u001b[39;00m \u001b[38;5;28missubclass\u001b[39m(base, Enum) \u001b[38;5;129;01mand\u001b[39;00m base\u001b[38;5;241m.\u001b[39m_member_names_:\n\u001b[1;32m--> 574\u001b[0m         \u001b[38;5;28;01mraise\u001b[39;00m \u001b[38;5;167;01mTypeError\u001b[39;00m(\n\u001b[0;32m    575\u001b[0m                 \u001b[38;5;124m\"\u001b[39m\u001b[38;5;132;01m%s\u001b[39;00m\u001b[38;5;124m: cannot extend enumeration \u001b[39m\u001b[38;5;132;01m%r\u001b[39;00m\u001b[38;5;124m\"\u001b[39m\n\u001b[0;32m    576\u001b[0m                 \u001b[38;5;241m%\u001b[39m (class_name, base\u001b[38;5;241m.\u001b[39m\u001b[38;5;18m__name__\u001b[39m)\n\u001b[0;32m    577\u001b[0m                 )\n",
      "\u001b[1;31mTypeError\u001b[0m: E4: cannot extend enumeration 'E3'"
     ]
    }
   ],
   "source": [
    "class E4(E3):\n",
    "    pass"
   ]
  },
  {
   "cell_type": "code",
   "execution_count": 21,
   "id": "5f5da2a0-6ded-4c9b-9e9d-d79a159d0f24",
   "metadata": {},
   "outputs": [],
   "source": [
    "class NE(enum.Enum):\n",
    "    pass"
   ]
  },
  {
   "cell_type": "code",
   "execution_count": 22,
   "id": "74f742fa-6c00-4b74-96b7-6404d0cc767d",
   "metadata": {},
   "outputs": [],
   "source": [
    "class E5(NE):\n",
    "    pass"
   ]
  },
  {
   "cell_type": "code",
   "execution_count": 23,
   "id": "606d00a0-a717-4e2b-aef5-9894d5e0444b",
   "metadata": {},
   "outputs": [
    {
     "data": {
      "text/plain": [
       "[<enum 'Flag'>, <enum 'Enum'>, object]"
      ]
     },
     "execution_count": 23,
     "metadata": {},
     "output_type": "execute_result"
    }
   ],
   "source": [
    "enum.Flag.mro()"
   ]
  },
  {
   "cell_type": "code",
   "execution_count": 24,
   "id": "861382cf-ad83-40c6-aa47-1c72f5f64e42",
   "metadata": {},
   "outputs": [],
   "source": [
    "class Guests(enum.Flag):\n",
    "    \"\"\"Potential party guests.\"\"\"\n",
    "    ALICE   = 0b_0000_0001\n",
    "    BOB     = 0b_0000_0010\n",
    "    CASSIDY = 0b_0000_0100\n",
    "    DEREK   = 0b_0000_1000\n",
    "    ERIN    = 0b_0001_0000\n",
    "    FRANK   = 0b_0010_0000\n",
    "    GERALD  = 0b_0100_0000\n",
    "    HEATHER = 0b_1000_0000"
   ]
  },
  {
   "cell_type": "code",
   "execution_count": 25,
   "id": "df755f51-6fb5-411a-8cd4-41b4ca190b5c",
   "metadata": {},
   "outputs": [],
   "source": [
    "class Guests(enum.Flag):\n",
    "    \"\"\"Potential party guests.\"\"\"\n",
    "    ALICE   = enum.auto()\n",
    "    BOB     = enum.auto()\n",
    "    CASSIDY = enum.auto()\n",
    "    DEREK   = enum.auto()\n",
    "    ERIN    = enum.auto()\n",
    "    FRANK   = enum.auto()\n",
    "    GERALD  = enum.auto()\n",
    "    HEATHER = enum.auto()\n",
    "    \n",
    "    #PARTY   = ALICE | CASSIDY | FRANK\n",
    "    #PARTY2  = ALICE | BOB | ERIN | FRANK\n",
    "    #PARTY3  = DEREK"
   ]
  },
  {
   "cell_type": "code",
   "execution_count": 26,
   "id": "45e60fed-1357-47ff-a3fa-b3eba8ad2d9b",
   "metadata": {},
   "outputs": [],
   "source": [
    "Guests.PARTY = Guests.ALICE | Guests.CASSIDY | Guests.FRANK"
   ]
  },
  {
   "cell_type": "code",
   "execution_count": 27,
   "id": "6cd4d225-12d9-4db0-88cf-90d981792b76",
   "metadata": {},
   "outputs": [
    {
     "data": {
      "text/plain": [
       "['ALICE',\n",
       " 'BOB',\n",
       " 'CASSIDY',\n",
       " 'DEREK',\n",
       " 'ERIN',\n",
       " 'FRANK',\n",
       " 'GERALD',\n",
       " 'HEATHER',\n",
       " '__class__',\n",
       " '__doc__',\n",
       " '__members__',\n",
       " '__module__']"
      ]
     },
     "execution_count": 27,
     "metadata": {},
     "output_type": "execute_result"
    }
   ],
   "source": [
    "dir(Guests)"
   ]
  },
  {
   "cell_type": "code",
   "execution_count": 28,
   "id": "41a11b97-e682-4d3a-ae69-0d44fc05dca2",
   "metadata": {},
   "outputs": [
    {
     "data": {
      "text/plain": [
       "mappingproxy({'ALICE': <Guests.ALICE: 1>,\n",
       "              'BOB': <Guests.BOB: 2>,\n",
       "              'CASSIDY': <Guests.CASSIDY: 4>,\n",
       "              'DEREK': <Guests.DEREK: 8>,\n",
       "              'ERIN': <Guests.ERIN: 16>,\n",
       "              'FRANK': <Guests.FRANK: 32>,\n",
       "              'GERALD': <Guests.GERALD: 64>,\n",
       "              'HEATHER': <Guests.HEATHER: 128>})"
      ]
     },
     "execution_count": 28,
     "metadata": {},
     "output_type": "execute_result"
    }
   ],
   "source": [
    "Guests.__members__"
   ]
  },
  {
   "cell_type": "code",
   "execution_count": 29,
   "id": "7ca04f18-daf5-494e-b8e1-0a07a2ff6c73",
   "metadata": {},
   "outputs": [],
   "source": [
    "dance_party = Guests.ALICE | Guests.GERALD "
   ]
  },
  {
   "cell_type": "code",
   "execution_count": 30,
   "id": "c6e7b3f6-81d0-4644-8314-d0f10ca0ab4e",
   "metadata": {},
   "outputs": [
    {
     "data": {
      "text/plain": [
       "<Guests.GERALD|ALICE: 65>"
      ]
     },
     "execution_count": 30,
     "metadata": {},
     "output_type": "execute_result"
    }
   ],
   "source": [
    "dance_party"
   ]
  },
  {
   "cell_type": "code",
   "execution_count": 31,
   "id": "5114fa4c-0e42-4988-8a39-1152770cebe6",
   "metadata": {},
   "outputs": [
    {
     "data": {
      "text/plain": [
       "<enum 'Guests'>"
      ]
     },
     "execution_count": 31,
     "metadata": {},
     "output_type": "execute_result"
    }
   ],
   "source": [
    "type(dance_party)"
   ]
  },
  {
   "cell_type": "code",
   "execution_count": 32,
   "id": "7de161f6-6c3c-447d-8045-70c137254dc0",
   "metadata": {},
   "outputs": [
    {
     "data": {
      "text/plain": [
       "<Guests.FRANK|CASSIDY|ALICE: 37>"
      ]
     },
     "execution_count": 32,
     "metadata": {},
     "output_type": "execute_result"
    }
   ],
   "source": [
    "Guests.PARTY"
   ]
  },
  {
   "cell_type": "code",
   "execution_count": 33,
   "id": "362ece11-5802-4d49-826c-1a1e31f49072",
   "metadata": {},
   "outputs": [
    {
     "data": {
      "text/plain": [
       "<Guests.FRANK|CASSIDY|ALICE: 37>"
      ]
     },
     "execution_count": 33,
     "metadata": {},
     "output_type": "execute_result"
    }
   ],
   "source": [
    "Guests.ALICE | Guests.CASSIDY | Guests.FRANK"
   ]
  },
  {
   "cell_type": "code",
   "execution_count": 34,
   "id": "c750434c-1d0d-47f6-8c09-db103659d52d",
   "metadata": {},
   "outputs": [],
   "source": [
    "class HasUnused(enum.Flag):\n",
    "    \"\"\"HasUnused skips one of the bit-field bits for its enumerators.\"\"\"\n",
    "    ONE   = 0b0001\n",
    "    TWO   = 0b0010\n",
    "    EIGHT = 0b1000"
   ]
  },
  {
   "cell_type": "code",
   "execution_count": 35,
   "id": "630d7f8e-4ac3-4ca1-9af7-0bcfe4fb5918",
   "metadata": {},
   "outputs": [
    {
     "data": {
      "text/plain": [
       "<HasUnused.EIGHT|TWO: 10>"
      ]
     },
     "execution_count": 35,
     "metadata": {},
     "output_type": "execute_result"
    }
   ],
   "source": [
    "~HasUnused.ONE"
   ]
  },
  {
   "cell_type": "code",
   "execution_count": 36,
   "id": "d542644e-d158-4462-8084-993de591598b",
   "metadata": {
    "tags": [
     "raises-exception"
    ]
   },
   "outputs": [
    {
     "ename": "TypeError",
     "evalue": "'<' not supported between instances of 'HasUnused' and 'HasUnused'",
     "output_type": "error",
     "traceback": [
      "\u001b[1;31m---------------------------------------------------------------------------\u001b[0m",
      "\u001b[1;31mTypeError\u001b[0m                                 Traceback (most recent call last)",
      "Cell \u001b[1;32mIn [36], line 1\u001b[0m\n\u001b[1;32m----> 1\u001b[0m \u001b[43mHasUnused\u001b[49m\u001b[38;5;241;43m.\u001b[39;49m\u001b[43mONE\u001b[49m\u001b[43m \u001b[49m\u001b[38;5;241;43m<\u001b[39;49m\u001b[43m \u001b[49m\u001b[43mHasUnused\u001b[49m\u001b[38;5;241;43m.\u001b[39;49m\u001b[43mEIGHT\u001b[49m\n",
      "\u001b[1;31mTypeError\u001b[0m: '<' not supported between instances of 'HasUnused' and 'HasUnused'"
     ]
    }
   ],
   "source": [
    "HasUnused.ONE < HasUnused.EIGHT"
   ]
  },
  {
   "cell_type": "code",
   "execution_count": 37,
   "id": "b00d25a6-b003-4410-b654-4a3f57fe4cdc",
   "metadata": {},
   "outputs": [],
   "source": [
    "from algoviz.enumerations import *"
   ]
  },
  {
   "cell_type": "code",
   "execution_count": 38,
   "id": "801db62d-81a5-4991-a3e4-9fd20217a4c1",
   "metadata": {},
   "outputs": [
    {
     "data": {
      "text/plain": [
       "True"
      ]
     },
     "execution_count": 38,
     "metadata": {},
     "output_type": "execute_result"
    }
   ],
   "source": [
    "Guests.ALICE_TRIAL <= Guests.FRANK_TRIAL"
   ]
  },
  {
   "cell_type": "code",
   "execution_count": 39,
   "id": "0e1d1557-9e14-490f-99b9-136a3c6ca718",
   "metadata": {},
   "outputs": [
    {
     "data": {
      "text/plain": [
       "True"
      ]
     },
     "execution_count": 39,
     "metadata": {},
     "output_type": "execute_result"
    }
   ],
   "source": [
    "Guests.FRANK_TRIAL >= Guests.ALICE_TRIAL"
   ]
  },
  {
   "cell_type": "code",
   "execution_count": 40,
   "id": "ee1f9f6f-3efa-4130-8a4a-dcaa377cbeaa",
   "metadata": {},
   "outputs": [
    {
     "data": {
      "text/plain": [
       "True"
      ]
     },
     "execution_count": 40,
     "metadata": {},
     "output_type": "execute_result"
    }
   ],
   "source": [
    "Guests.ALICE_TRIAL.__le__(Guests.FRANK_TRIAL)"
   ]
  },
  {
   "cell_type": "code",
   "execution_count": 41,
   "id": "610592c5-7cd7-46db-82c0-da08a5588896",
   "metadata": {},
   "outputs": [
    {
     "data": {
      "text/plain": [
       "True"
      ]
     },
     "execution_count": 41,
     "metadata": {},
     "output_type": "execute_result"
    }
   ],
   "source": [
    "Guests.FRANK_TRIAL.__ge__(Guests.ALICE_TRIAL)"
   ]
  },
  {
   "cell_type": "code",
   "execution_count": 42,
   "id": "32761c10-9c4d-47d7-80a3-997c98c8f46a",
   "metadata": {},
   "outputs": [
    {
     "data": {
      "text/plain": [
       "True"
      ]
     },
     "execution_count": 42,
     "metadata": {},
     "output_type": "execute_result"
    }
   ],
   "source": [
    "2.0 < 3"
   ]
  },
  {
   "cell_type": "code",
   "execution_count": 43,
   "id": "3ae85fd6-801c-4591-9355-2926971b77cd",
   "metadata": {},
   "outputs": [
    {
     "data": {
      "text/plain": [
       "True"
      ]
     },
     "execution_count": 43,
     "metadata": {},
     "output_type": "execute_result"
    }
   ],
   "source": [
    "2.0.__lt__(3)"
   ]
  },
  {
   "cell_type": "code",
   "execution_count": 44,
   "id": "684f8c39-3757-4f1f-a45f-a0a08fe66121",
   "metadata": {},
   "outputs": [
    {
     "data": {
      "text/plain": [
       "False"
      ]
     },
     "execution_count": 44,
     "metadata": {},
     "output_type": "execute_result"
    }
   ],
   "source": [
    "2.0 > 3"
   ]
  },
  {
   "cell_type": "code",
   "execution_count": 45,
   "id": "d16489ff-b9f2-43d2-8e4e-4be86bebb486",
   "metadata": {},
   "outputs": [
    {
     "data": {
      "text/plain": [
       "False"
      ]
     },
     "execution_count": 45,
     "metadata": {},
     "output_type": "execute_result"
    }
   ],
   "source": [
    "3.0.__gt__(3)"
   ]
  },
  {
   "cell_type": "code",
   "execution_count": 46,
   "id": "b2ef18ea-4331-4187-bcbb-83bf82d1cc84",
   "metadata": {},
   "outputs": [
    {
     "data": {
      "text/plain": [
       "False"
      ]
     },
     "execution_count": 46,
     "metadata": {},
     "output_type": "execute_result"
    }
   ],
   "source": [
    "3 < 2.0"
   ]
  },
  {
   "cell_type": "code",
   "execution_count": 47,
   "id": "60a16e89-cc14-424a-bb31-ee7987ab8a76",
   "metadata": {},
   "outputs": [
    {
     "data": {
      "text/plain": [
       "NotImplemented"
      ]
     },
     "execution_count": 47,
     "metadata": {},
     "output_type": "execute_result"
    }
   ],
   "source": [
    "(3).__lt__(2.0)"
   ]
  },
  {
   "cell_type": "code",
   "execution_count": 48,
   "id": "52cc05bf-8d89-43a7-94ff-7b22f24c1372",
   "metadata": {},
   "outputs": [
    {
     "data": {
      "text/plain": [
       "['EIGHT', 'ONE', 'TWO', '__class__', '__doc__', '__members__', '__module__']"
      ]
     },
     "execution_count": 48,
     "metadata": {},
     "output_type": "execute_result"
    }
   ],
   "source": [
    "dir(HasUnused)"
   ]
  },
  {
   "cell_type": "code",
   "execution_count": 49,
   "id": "7d15adb3-413b-482e-96e4-2b3a779504f6",
   "metadata": {},
   "outputs": [
    {
     "data": {
      "text/plain": [
       "mappingproxy({'ONE': <HasUnused.ONE: 1>,\n",
       "              'TWO': <HasUnused.TWO: 2>,\n",
       "              'EIGHT': <HasUnused.EIGHT: 8>})"
      ]
     },
     "execution_count": 49,
     "metadata": {},
     "output_type": "execute_result"
    }
   ],
   "source": [
    "HasUnused.__members__"
   ]
  },
  {
   "cell_type": "code",
   "execution_count": 50,
   "id": "5470a67a-dfad-4b4c-b8e5-6b7e991363ae",
   "metadata": {},
   "outputs": [
    {
     "data": {
      "text/plain": [
       "<HasUnused.0: 0>"
      ]
     },
     "execution_count": 50,
     "metadata": {},
     "output_type": "execute_result"
    }
   ],
   "source": [
    "HasUnused(0)"
   ]
  },
  {
   "cell_type": "code",
   "execution_count": 51,
   "id": "9ca1554b-23dd-4b7a-87c7-b0ff97e62a4a",
   "metadata": {},
   "outputs": [
    {
     "data": {
      "text/plain": [
       "<HasUnused.ONE: 1>"
      ]
     },
     "execution_count": 51,
     "metadata": {},
     "output_type": "execute_result"
    }
   ],
   "source": [
    "HasUnused(1)"
   ]
  },
  {
   "cell_type": "code",
   "execution_count": 52,
   "id": "8b6ec0b5-4f50-4bb9-9087-dceda20cf8c8",
   "metadata": {},
   "outputs": [
    {
     "data": {
      "text/plain": [
       "<HasUnused.TWO: 2>"
      ]
     },
     "execution_count": 52,
     "metadata": {},
     "output_type": "execute_result"
    }
   ],
   "source": [
    "HasUnused(2)"
   ]
  },
  {
   "cell_type": "code",
   "execution_count": 53,
   "id": "a8245ef7-d90b-4b77-9fee-aa586b286db2",
   "metadata": {},
   "outputs": [
    {
     "data": {
      "text/plain": [
       "<HasUnused.TWO|ONE: 3>"
      ]
     },
     "execution_count": 53,
     "metadata": {},
     "output_type": "execute_result"
    }
   ],
   "source": [
    "HasUnused(3)"
   ]
  },
  {
   "cell_type": "code",
   "execution_count": 54,
   "id": "563dd20c-8e7c-413a-80d7-414e0d8d3c86",
   "metadata": {},
   "outputs": [
    {
     "data": {
      "text/plain": [
       "<HasUnused.EIGHT: 8>"
      ]
     },
     "execution_count": 54,
     "metadata": {},
     "output_type": "execute_result"
    }
   ],
   "source": [
    "HasUnused(8)"
   ]
  },
  {
   "cell_type": "code",
   "execution_count": 55,
   "id": "6004c745-ad6e-4b6a-bf9f-4aa2f6935007",
   "metadata": {
    "tags": [
     "raises-exception"
    ]
   },
   "outputs": [
    {
     "ename": "ValueError",
     "evalue": "4 is not a valid HasUnused",
     "output_type": "error",
     "traceback": [
      "\u001b[1;31m---------------------------------------------------------------------------\u001b[0m",
      "\u001b[1;31mValueError\u001b[0m                                Traceback (most recent call last)",
      "Cell \u001b[1;32mIn [55], line 1\u001b[0m\n\u001b[1;32m----> 1\u001b[0m \u001b[43mHasUnused\u001b[49m\u001b[43m(\u001b[49m\u001b[38;5;241;43m4\u001b[39;49m\u001b[43m)\u001b[49m\n",
      "File \u001b[1;32m~\\miniforge3\\envs\\algoviz\\lib\\enum.py:385\u001b[0m, in \u001b[0;36mEnumMeta.__call__\u001b[1;34m(cls, value, names, module, qualname, type, start)\u001b[0m\n\u001b[0;32m    360\u001b[0m \u001b[38;5;124;03m\"\"\"\u001b[39;00m\n\u001b[0;32m    361\u001b[0m \u001b[38;5;124;03mEither returns an existing member, or creates a new enum class.\u001b[39;00m\n\u001b[0;32m    362\u001b[0m \n\u001b[1;32m   (...)\u001b[0m\n\u001b[0;32m    382\u001b[0m \u001b[38;5;124;03m`type`, if set, will be mixed in as the first base class.\u001b[39;00m\n\u001b[0;32m    383\u001b[0m \u001b[38;5;124;03m\"\"\"\u001b[39;00m\n\u001b[0;32m    384\u001b[0m \u001b[38;5;28;01mif\u001b[39;00m names \u001b[38;5;129;01mis\u001b[39;00m \u001b[38;5;28;01mNone\u001b[39;00m:  \u001b[38;5;66;03m# simple value lookup\u001b[39;00m\n\u001b[1;32m--> 385\u001b[0m     \u001b[38;5;28;01mreturn\u001b[39;00m \u001b[38;5;28;43mcls\u001b[39;49m\u001b[38;5;241;43m.\u001b[39;49m\u001b[38;5;21;43m__new__\u001b[39;49m\u001b[43m(\u001b[49m\u001b[38;5;28;43mcls\u001b[39;49m\u001b[43m,\u001b[49m\u001b[43m \u001b[49m\u001b[43mvalue\u001b[49m\u001b[43m)\u001b[49m\n\u001b[0;32m    386\u001b[0m \u001b[38;5;66;03m# otherwise, functional API: we're creating a new Enum type\u001b[39;00m\n\u001b[0;32m    387\u001b[0m \u001b[38;5;28;01mreturn\u001b[39;00m \u001b[38;5;28mcls\u001b[39m\u001b[38;5;241m.\u001b[39m_create_(\n\u001b[0;32m    388\u001b[0m         value,\n\u001b[0;32m    389\u001b[0m         names,\n\u001b[1;32m   (...)\u001b[0m\n\u001b[0;32m    393\u001b[0m         start\u001b[38;5;241m=\u001b[39mstart,\n\u001b[0;32m    394\u001b[0m         )\n",
      "File \u001b[1;32m~\\miniforge3\\envs\\algoviz\\lib\\enum.py:718\u001b[0m, in \u001b[0;36mEnum.__new__\u001b[1;34m(cls, value)\u001b[0m\n\u001b[0;32m    716\u001b[0m         \u001b[38;5;28;01mif\u001b[39;00m \u001b[38;5;129;01mnot\u001b[39;00m \u001b[38;5;28misinstance\u001b[39m(exc, \u001b[38;5;167;01mValueError\u001b[39;00m):\n\u001b[0;32m    717\u001b[0m             exc\u001b[38;5;241m.\u001b[39m__context__ \u001b[38;5;241m=\u001b[39m ve_exc\n\u001b[1;32m--> 718\u001b[0m         \u001b[38;5;28;01mraise\u001b[39;00m exc\n\u001b[0;32m    719\u001b[0m \u001b[38;5;28;01mfinally\u001b[39;00m:\n\u001b[0;32m    720\u001b[0m     \u001b[38;5;66;03m# ensure all variables that could hold an exception are destroyed\u001b[39;00m\n\u001b[0;32m    721\u001b[0m     exc \u001b[38;5;241m=\u001b[39m \u001b[38;5;28;01mNone\u001b[39;00m\n",
      "File \u001b[1;32m~\\miniforge3\\envs\\algoviz\\lib\\enum.py:700\u001b[0m, in \u001b[0;36mEnum.__new__\u001b[1;34m(cls, value)\u001b[0m\n\u001b[0;32m    698\u001b[0m \u001b[38;5;28;01mtry\u001b[39;00m:\n\u001b[0;32m    699\u001b[0m     exc \u001b[38;5;241m=\u001b[39m \u001b[38;5;28;01mNone\u001b[39;00m\n\u001b[1;32m--> 700\u001b[0m     result \u001b[38;5;241m=\u001b[39m \u001b[38;5;28;43mcls\u001b[39;49m\u001b[38;5;241;43m.\u001b[39;49m\u001b[43m_missing_\u001b[49m\u001b[43m(\u001b[49m\u001b[43mvalue\u001b[49m\u001b[43m)\u001b[49m\n\u001b[0;32m    701\u001b[0m \u001b[38;5;28;01mexcept\u001b[39;00m \u001b[38;5;167;01mException\u001b[39;00m \u001b[38;5;28;01mas\u001b[39;00m e:\n\u001b[0;32m    702\u001b[0m     exc \u001b[38;5;241m=\u001b[39m e\n",
      "File \u001b[1;32m~\\miniforge3\\envs\\algoviz\\lib\\enum.py:846\u001b[0m, in \u001b[0;36mFlag._missing_\u001b[1;34m(cls, value)\u001b[0m\n\u001b[0;32m    844\u001b[0m \u001b[38;5;28;01mif\u001b[39;00m value \u001b[38;5;241m<\u001b[39m \u001b[38;5;241m0\u001b[39m:\n\u001b[0;32m    845\u001b[0m     value \u001b[38;5;241m=\u001b[39m \u001b[38;5;241m~\u001b[39mvalue\n\u001b[1;32m--> 846\u001b[0m possible_member \u001b[38;5;241m=\u001b[39m \u001b[38;5;28;43mcls\u001b[39;49m\u001b[38;5;241;43m.\u001b[39;49m\u001b[43m_create_pseudo_member_\u001b[49m\u001b[43m(\u001b[49m\u001b[43mvalue\u001b[49m\u001b[43m)\u001b[49m\n\u001b[0;32m    847\u001b[0m \u001b[38;5;28;01mif\u001b[39;00m original_value \u001b[38;5;241m<\u001b[39m \u001b[38;5;241m0\u001b[39m:\n\u001b[0;32m    848\u001b[0m     possible_member \u001b[38;5;241m=\u001b[39m \u001b[38;5;241m~\u001b[39mpossible_member\n",
      "File \u001b[1;32m~\\miniforge3\\envs\\algoviz\\lib\\enum.py:861\u001b[0m, in \u001b[0;36mFlag._create_pseudo_member_\u001b[1;34m(cls, value)\u001b[0m\n\u001b[0;32m    859\u001b[0m _, extra_flags \u001b[38;5;241m=\u001b[39m _decompose(\u001b[38;5;28mcls\u001b[39m, value)\n\u001b[0;32m    860\u001b[0m \u001b[38;5;28;01mif\u001b[39;00m extra_flags:\n\u001b[1;32m--> 861\u001b[0m     \u001b[38;5;28;01mraise\u001b[39;00m \u001b[38;5;167;01mValueError\u001b[39;00m(\u001b[38;5;124m\"\u001b[39m\u001b[38;5;132;01m%r\u001b[39;00m\u001b[38;5;124m is not a valid \u001b[39m\u001b[38;5;132;01m%s\u001b[39;00m\u001b[38;5;124m\"\u001b[39m \u001b[38;5;241m%\u001b[39m (value, \u001b[38;5;28mcls\u001b[39m\u001b[38;5;241m.\u001b[39m\u001b[38;5;18m__qualname__\u001b[39m))\n\u001b[0;32m    862\u001b[0m \u001b[38;5;66;03m# construct a singleton enum pseudo-member\u001b[39;00m\n\u001b[0;32m    863\u001b[0m pseudo_member \u001b[38;5;241m=\u001b[39m \u001b[38;5;28mobject\u001b[39m\u001b[38;5;241m.\u001b[39m\u001b[38;5;21m__new__\u001b[39m(\u001b[38;5;28mcls\u001b[39m)\n",
      "\u001b[1;31mValueError\u001b[0m: 4 is not a valid HasUnused"
     ]
    }
   ],
   "source": [
    "HasUnused(4)"
   ]
  },
  {
   "cell_type": "code",
   "execution_count": 56,
   "id": "0988bd17-4c82-4d83-b4e0-fc2c6f81c74d",
   "metadata": {},
   "outputs": [
    {
     "data": {
      "text/plain": [
       "<HasUnused.EIGHT|TWO|ONE: 11>"
      ]
     },
     "execution_count": 56,
     "metadata": {},
     "output_type": "execute_result"
    }
   ],
   "source": [
    "HasUnused(0b1011)"
   ]
  },
  {
   "cell_type": "code",
   "execution_count": 57,
   "id": "c093ea99-b7bd-4d51-85d6-f551d1120f77",
   "metadata": {
    "tags": [
     "raises-exception"
    ]
   },
   "outputs": [
    {
     "ename": "ValueError",
     "evalue": "15 is not a valid HasUnused",
     "output_type": "error",
     "traceback": [
      "\u001b[1;31m---------------------------------------------------------------------------\u001b[0m",
      "\u001b[1;31mValueError\u001b[0m                                Traceback (most recent call last)",
      "Cell \u001b[1;32mIn [57], line 1\u001b[0m\n\u001b[1;32m----> 1\u001b[0m \u001b[43mHasUnused\u001b[49m\u001b[43m(\u001b[49m\u001b[38;5;241;43m0b1111\u001b[39;49m\u001b[43m)\u001b[49m\n",
      "File \u001b[1;32m~\\miniforge3\\envs\\algoviz\\lib\\enum.py:385\u001b[0m, in \u001b[0;36mEnumMeta.__call__\u001b[1;34m(cls, value, names, module, qualname, type, start)\u001b[0m\n\u001b[0;32m    360\u001b[0m \u001b[38;5;124;03m\"\"\"\u001b[39;00m\n\u001b[0;32m    361\u001b[0m \u001b[38;5;124;03mEither returns an existing member, or creates a new enum class.\u001b[39;00m\n\u001b[0;32m    362\u001b[0m \n\u001b[1;32m   (...)\u001b[0m\n\u001b[0;32m    382\u001b[0m \u001b[38;5;124;03m`type`, if set, will be mixed in as the first base class.\u001b[39;00m\n\u001b[0;32m    383\u001b[0m \u001b[38;5;124;03m\"\"\"\u001b[39;00m\n\u001b[0;32m    384\u001b[0m \u001b[38;5;28;01mif\u001b[39;00m names \u001b[38;5;129;01mis\u001b[39;00m \u001b[38;5;28;01mNone\u001b[39;00m:  \u001b[38;5;66;03m# simple value lookup\u001b[39;00m\n\u001b[1;32m--> 385\u001b[0m     \u001b[38;5;28;01mreturn\u001b[39;00m \u001b[38;5;28;43mcls\u001b[39;49m\u001b[38;5;241;43m.\u001b[39;49m\u001b[38;5;21;43m__new__\u001b[39;49m\u001b[43m(\u001b[49m\u001b[38;5;28;43mcls\u001b[39;49m\u001b[43m,\u001b[49m\u001b[43m \u001b[49m\u001b[43mvalue\u001b[49m\u001b[43m)\u001b[49m\n\u001b[0;32m    386\u001b[0m \u001b[38;5;66;03m# otherwise, functional API: we're creating a new Enum type\u001b[39;00m\n\u001b[0;32m    387\u001b[0m \u001b[38;5;28;01mreturn\u001b[39;00m \u001b[38;5;28mcls\u001b[39m\u001b[38;5;241m.\u001b[39m_create_(\n\u001b[0;32m    388\u001b[0m         value,\n\u001b[0;32m    389\u001b[0m         names,\n\u001b[1;32m   (...)\u001b[0m\n\u001b[0;32m    393\u001b[0m         start\u001b[38;5;241m=\u001b[39mstart,\n\u001b[0;32m    394\u001b[0m         )\n",
      "File \u001b[1;32m~\\miniforge3\\envs\\algoviz\\lib\\enum.py:718\u001b[0m, in \u001b[0;36mEnum.__new__\u001b[1;34m(cls, value)\u001b[0m\n\u001b[0;32m    716\u001b[0m         \u001b[38;5;28;01mif\u001b[39;00m \u001b[38;5;129;01mnot\u001b[39;00m \u001b[38;5;28misinstance\u001b[39m(exc, \u001b[38;5;167;01mValueError\u001b[39;00m):\n\u001b[0;32m    717\u001b[0m             exc\u001b[38;5;241m.\u001b[39m__context__ \u001b[38;5;241m=\u001b[39m ve_exc\n\u001b[1;32m--> 718\u001b[0m         \u001b[38;5;28;01mraise\u001b[39;00m exc\n\u001b[0;32m    719\u001b[0m \u001b[38;5;28;01mfinally\u001b[39;00m:\n\u001b[0;32m    720\u001b[0m     \u001b[38;5;66;03m# ensure all variables that could hold an exception are destroyed\u001b[39;00m\n\u001b[0;32m    721\u001b[0m     exc \u001b[38;5;241m=\u001b[39m \u001b[38;5;28;01mNone\u001b[39;00m\n",
      "File \u001b[1;32m~\\miniforge3\\envs\\algoviz\\lib\\enum.py:700\u001b[0m, in \u001b[0;36mEnum.__new__\u001b[1;34m(cls, value)\u001b[0m\n\u001b[0;32m    698\u001b[0m \u001b[38;5;28;01mtry\u001b[39;00m:\n\u001b[0;32m    699\u001b[0m     exc \u001b[38;5;241m=\u001b[39m \u001b[38;5;28;01mNone\u001b[39;00m\n\u001b[1;32m--> 700\u001b[0m     result \u001b[38;5;241m=\u001b[39m \u001b[38;5;28;43mcls\u001b[39;49m\u001b[38;5;241;43m.\u001b[39;49m\u001b[43m_missing_\u001b[49m\u001b[43m(\u001b[49m\u001b[43mvalue\u001b[49m\u001b[43m)\u001b[49m\n\u001b[0;32m    701\u001b[0m \u001b[38;5;28;01mexcept\u001b[39;00m \u001b[38;5;167;01mException\u001b[39;00m \u001b[38;5;28;01mas\u001b[39;00m e:\n\u001b[0;32m    702\u001b[0m     exc \u001b[38;5;241m=\u001b[39m e\n",
      "File \u001b[1;32m~\\miniforge3\\envs\\algoviz\\lib\\enum.py:846\u001b[0m, in \u001b[0;36mFlag._missing_\u001b[1;34m(cls, value)\u001b[0m\n\u001b[0;32m    844\u001b[0m \u001b[38;5;28;01mif\u001b[39;00m value \u001b[38;5;241m<\u001b[39m \u001b[38;5;241m0\u001b[39m:\n\u001b[0;32m    845\u001b[0m     value \u001b[38;5;241m=\u001b[39m \u001b[38;5;241m~\u001b[39mvalue\n\u001b[1;32m--> 846\u001b[0m possible_member \u001b[38;5;241m=\u001b[39m \u001b[38;5;28;43mcls\u001b[39;49m\u001b[38;5;241;43m.\u001b[39;49m\u001b[43m_create_pseudo_member_\u001b[49m\u001b[43m(\u001b[49m\u001b[43mvalue\u001b[49m\u001b[43m)\u001b[49m\n\u001b[0;32m    847\u001b[0m \u001b[38;5;28;01mif\u001b[39;00m original_value \u001b[38;5;241m<\u001b[39m \u001b[38;5;241m0\u001b[39m:\n\u001b[0;32m    848\u001b[0m     possible_member \u001b[38;5;241m=\u001b[39m \u001b[38;5;241m~\u001b[39mpossible_member\n",
      "File \u001b[1;32m~\\miniforge3\\envs\\algoviz\\lib\\enum.py:861\u001b[0m, in \u001b[0;36mFlag._create_pseudo_member_\u001b[1;34m(cls, value)\u001b[0m\n\u001b[0;32m    859\u001b[0m _, extra_flags \u001b[38;5;241m=\u001b[39m _decompose(\u001b[38;5;28mcls\u001b[39m, value)\n\u001b[0;32m    860\u001b[0m \u001b[38;5;28;01mif\u001b[39;00m extra_flags:\n\u001b[1;32m--> 861\u001b[0m     \u001b[38;5;28;01mraise\u001b[39;00m \u001b[38;5;167;01mValueError\u001b[39;00m(\u001b[38;5;124m\"\u001b[39m\u001b[38;5;132;01m%r\u001b[39;00m\u001b[38;5;124m is not a valid \u001b[39m\u001b[38;5;132;01m%s\u001b[39;00m\u001b[38;5;124m\"\u001b[39m \u001b[38;5;241m%\u001b[39m (value, \u001b[38;5;28mcls\u001b[39m\u001b[38;5;241m.\u001b[39m\u001b[38;5;18m__qualname__\u001b[39m))\n\u001b[0;32m    862\u001b[0m \u001b[38;5;66;03m# construct a singleton enum pseudo-member\u001b[39;00m\n\u001b[0;32m    863\u001b[0m pseudo_member \u001b[38;5;241m=\u001b[39m \u001b[38;5;28mobject\u001b[39m\u001b[38;5;241m.\u001b[39m\u001b[38;5;21m__new__\u001b[39m(\u001b[38;5;28mcls\u001b[39m)\n",
      "\u001b[1;31mValueError\u001b[0m: 15 is not a valid HasUnused"
     ]
    }
   ],
   "source": [
    "HasUnused(0b1111)"
   ]
  },
  {
   "cell_type": "code",
   "execution_count": 58,
   "id": "c215ca0d-94bc-49a8-a690-3bee106b8cba",
   "metadata": {},
   "outputs": [],
   "source": [
    "import abc"
   ]
  },
  {
   "cell_type": "code",
   "execution_count": 59,
   "id": "ab8247a6-c530-494f-8c65-d548817ee997",
   "metadata": {
    "tags": [
     "raises-exception"
    ]
   },
   "outputs": [
    {
     "ename": "TypeError",
     "evalue": "metaclass conflict: the metaclass of a derived class must be a (non-strict) subclass of the metaclasses of all its bases",
     "output_type": "error",
     "traceback": [
      "\u001b[1;31m---------------------------------------------------------------------------\u001b[0m",
      "\u001b[1;31mTypeError\u001b[0m                                 Traceback (most recent call last)",
      "Cell \u001b[1;32mIn [59], line 1\u001b[0m\n\u001b[1;32m----> 1\u001b[0m \u001b[38;5;28;01mclass\u001b[39;00m \u001b[38;5;21;01mAbstractEnumeration\u001b[39;00m(abc\u001b[38;5;241m.\u001b[39mABC, enum\u001b[38;5;241m.\u001b[39mEnum):\n\u001b[0;32m      2\u001b[0m     \u001b[38;5;129m@abc\u001b[39m\u001b[38;5;241m.\u001b[39mabstractmethod\n\u001b[0;32m      3\u001b[0m     \u001b[38;5;28;01mdef\u001b[39;00m \u001b[38;5;21mfunc\u001b[39m(\u001b[38;5;28mself\u001b[39m):\n\u001b[0;32m      4\u001b[0m         \u001b[38;5;28;01mpass\u001b[39;00m\n",
      "\u001b[1;31mTypeError\u001b[0m: metaclass conflict: the metaclass of a derived class must be a (non-strict) subclass of the metaclasses of all its bases"
     ]
    }
   ],
   "source": [
    "class AbstractEnumeration(abc.ABC, enum.Enum):\n",
    "    @abc.abstractmethod\n",
    "    def func(self):\n",
    "        pass"
   ]
  },
  {
   "cell_type": "code",
   "execution_count": 60,
   "id": "bd831f84-712b-408a-8e8b-85ae1b33a8d8",
   "metadata": {
    "tags": [
     "raises-exception"
    ]
   },
   "outputs": [
    {
     "ename": "TypeError",
     "evalue": "metaclass conflict: the metaclass of a derived class must be a (non-strict) subclass of the metaclasses of all its bases",
     "output_type": "error",
     "traceback": [
      "\u001b[1;31m---------------------------------------------------------------------------\u001b[0m",
      "\u001b[1;31mTypeError\u001b[0m                                 Traceback (most recent call last)",
      "Cell \u001b[1;32mIn [60], line 1\u001b[0m\n\u001b[1;32m----> 1\u001b[0m \u001b[38;5;28;01mclass\u001b[39;00m \u001b[38;5;21;01mAbstractEnumeration\u001b[39;00m(abc\u001b[38;5;241m.\u001b[39mABC, enum\u001b[38;5;241m.\u001b[39mEnum):\n\u001b[0;32m      2\u001b[0m     \u001b[38;5;28;01mdef\u001b[39;00m \u001b[38;5;21mfunc\u001b[39m(\u001b[38;5;28mself\u001b[39m):\n\u001b[0;32m      3\u001b[0m         \u001b[38;5;28;01mpass\u001b[39;00m\n",
      "\u001b[1;31mTypeError\u001b[0m: metaclass conflict: the metaclass of a derived class must be a (non-strict) subclass of the metaclasses of all its bases"
     ]
    }
   ],
   "source": [
    "class AbstractEnumeration(abc.ABC, enum.Enum):\n",
    "    def func(self):\n",
    "        pass"
   ]
  },
  {
   "cell_type": "code",
   "execution_count": 61,
   "id": "a6d2f498-362c-416f-bac4-47ab2f6fb97d",
   "metadata": {
    "tags": [
     "raises-exception"
    ]
   },
   "outputs": [
    {
     "ename": "TypeError",
     "evalue": "metaclass conflict: the metaclass of a derived class must be a (non-strict) subclass of the metaclasses of all its bases",
     "output_type": "error",
     "traceback": [
      "\u001b[1;31m---------------------------------------------------------------------------\u001b[0m",
      "\u001b[1;31mTypeError\u001b[0m                                 Traceback (most recent call last)",
      "Cell \u001b[1;32mIn [61], line 1\u001b[0m\n\u001b[1;32m----> 1\u001b[0m \u001b[38;5;28;01mclass\u001b[39;00m \u001b[38;5;21;01mAbstractEnumeration\u001b[39;00m(abc\u001b[38;5;241m.\u001b[39mABC, enum\u001b[38;5;241m.\u001b[39mEnum):\n\u001b[0;32m      2\u001b[0m     \u001b[38;5;28;01mpass\u001b[39;00m\n",
      "\u001b[1;31mTypeError\u001b[0m: metaclass conflict: the metaclass of a derived class must be a (non-strict) subclass of the metaclasses of all its bases"
     ]
    }
   ],
   "source": [
    "class AbstractEnumeration(abc.ABC, enum.Enum):\n",
    "    pass"
   ]
  },
  {
   "cell_type": "code",
   "execution_count": 62,
   "id": "6827332f-730e-465b-bba3-e009609ba4e9",
   "metadata": {
    "tags": [
     "raises-exception"
    ]
   },
   "outputs": [
    {
     "ename": "TypeError",
     "evalue": "metaclass conflict: the metaclass of a derived class must be a (non-strict) subclass of the metaclasses of all its bases",
     "output_type": "error",
     "traceback": [
      "\u001b[1;31m---------------------------------------------------------------------------\u001b[0m",
      "\u001b[1;31mTypeError\u001b[0m                                 Traceback (most recent call last)",
      "Cell \u001b[1;32mIn [62], line 1\u001b[0m\n\u001b[1;32m----> 1\u001b[0m \u001b[38;5;28;01mclass\u001b[39;00m \u001b[38;5;21;01mAbstractEnumeration\u001b[39;00m(enum\u001b[38;5;241m.\u001b[39mEnum, abc\u001b[38;5;241m.\u001b[39mABC):\n\u001b[0;32m      2\u001b[0m     \u001b[38;5;28;01mpass\u001b[39;00m\n",
      "\u001b[1;31mTypeError\u001b[0m: metaclass conflict: the metaclass of a derived class must be a (non-strict) subclass of the metaclasses of all its bases"
     ]
    }
   ],
   "source": [
    "class AbstractEnumeration(enum.Enum, abc.ABC):\n",
    "    pass"
   ]
  },
  {
   "cell_type": "code",
   "execution_count": 63,
   "id": "081acf50-8765-48e1-b891-aaf0a5188204",
   "metadata": {},
   "outputs": [
    {
     "data": {
      "text/plain": [
       "type"
      ]
     },
     "execution_count": 63,
     "metadata": {},
     "output_type": "execute_result"
    }
   ],
   "source": [
    "type(int)"
   ]
  },
  {
   "cell_type": "code",
   "execution_count": 64,
   "id": "88d4e53a-262b-4a35-9c2c-fd28227dd9f9",
   "metadata": {},
   "outputs": [
    {
     "data": {
      "text/plain": [
       "int"
      ]
     },
     "execution_count": 64,
     "metadata": {},
     "output_type": "execute_result"
    }
   ],
   "source": [
    "type(1)"
   ]
  },
  {
   "cell_type": "code",
   "execution_count": 65,
   "id": "18ec9f2d-7574-487e-8e09-aad47bc217be",
   "metadata": {},
   "outputs": [
    {
     "data": {
      "text/plain": [
       "<enum 'HasUnused'>"
      ]
     },
     "execution_count": 65,
     "metadata": {},
     "output_type": "execute_result"
    }
   ],
   "source": [
    "type(HasUnused.ONE)"
   ]
  },
  {
   "cell_type": "code",
   "execution_count": 66,
   "id": "3c08cc1e-5cf7-4162-9eb7-68f7714c79b1",
   "metadata": {},
   "outputs": [
    {
     "data": {
      "text/plain": [
       "enum.EnumMeta"
      ]
     },
     "execution_count": 66,
     "metadata": {},
     "output_type": "execute_result"
    }
   ],
   "source": [
    "type(_)"
   ]
  },
  {
   "cell_type": "code",
   "execution_count": 67,
   "id": "023738d7-6cba-4145-8fa3-cb60e97a4156",
   "metadata": {},
   "outputs": [
    {
     "data": {
      "text/plain": [
       "True"
      ]
     },
     "execution_count": 67,
     "metadata": {},
     "output_type": "execute_result"
    }
   ],
   "source": [
    "isinstance(_, type)"
   ]
  },
  {
   "cell_type": "code",
   "execution_count": 68,
   "id": "4bfd0573-a5e0-4070-bc3c-5b22e346c2ba",
   "metadata": {
    "tags": [
     "raises-exception"
    ]
   },
   "outputs": [
    {
     "ename": "TypeError",
     "evalue": "unbound method type.mro() needs an argument",
     "output_type": "error",
     "traceback": [
      "\u001b[1;31m---------------------------------------------------------------------------\u001b[0m",
      "\u001b[1;31mTypeError\u001b[0m                                 Traceback (most recent call last)",
      "Cell \u001b[1;32mIn [68], line 1\u001b[0m\n\u001b[1;32m----> 1\u001b[0m \u001b[43menum\u001b[49m\u001b[38;5;241;43m.\u001b[39;49m\u001b[43mEnumMeta\u001b[49m\u001b[38;5;241;43m.\u001b[39;49m\u001b[43mmro\u001b[49m\u001b[43m(\u001b[49m\u001b[43m)\u001b[49m\n",
      "\u001b[1;31mTypeError\u001b[0m: unbound method type.mro() needs an argument"
     ]
    }
   ],
   "source": [
    "enum.EnumMeta.mro()"
   ]
  },
  {
   "cell_type": "code",
   "execution_count": 69,
   "id": "0ed7071e-f93a-460b-a620-b14b0ce19a0f",
   "metadata": {},
   "outputs": [
    {
     "data": {
      "text/plain": [
       "[int, object]"
      ]
     },
     "execution_count": 69,
     "metadata": {},
     "output_type": "execute_result"
    }
   ],
   "source": [
    "int.mro()"
   ]
  },
  {
   "cell_type": "code",
   "execution_count": 70,
   "id": "a2b264c5-8e84-457f-9037-a954125927ba",
   "metadata": {},
   "outputs": [
    {
     "data": {
      "text/plain": [
       "[<enum 'HasUnused'>, <enum 'Flag'>, <enum 'Enum'>, object]"
      ]
     },
     "execution_count": 70,
     "metadata": {},
     "output_type": "execute_result"
    }
   ],
   "source": [
    "HasUnused.mro()"
   ]
  },
  {
   "cell_type": "code",
   "execution_count": 71,
   "id": "51bec631-ca23-40b4-ba2b-90eff9cd595c",
   "metadata": {},
   "outputs": [
    {
     "data": {
      "text/plain": [
       "3"
      ]
     },
     "execution_count": 71,
     "metadata": {},
     "output_type": "execute_result"
    }
   ],
   "source": [
    "(273).bit_count()"
   ]
  },
  {
   "cell_type": "code",
   "execution_count": 72,
   "id": "cc988ac0-1fe8-402d-bb94-7ed0d313331f",
   "metadata": {},
   "outputs": [
    {
     "data": {
      "text/plain": [
       "3"
      ]
     },
     "execution_count": 72,
     "metadata": {},
     "output_type": "execute_result"
    }
   ],
   "source": [
    "int.bit_count(273)"
   ]
  },
  {
   "cell_type": "code",
   "execution_count": 73,
   "id": "dcef77dc-23c1-4503-a530-53e2601d006b",
   "metadata": {},
   "outputs": [
    {
     "data": {
      "text/plain": [
       "[enum.EnumMeta, type, object]"
      ]
     },
     "execution_count": 73,
     "metadata": {},
     "output_type": "execute_result"
    }
   ],
   "source": [
    "type.mro(enum.EnumMeta)"
   ]
  },
  {
   "cell_type": "code",
   "execution_count": 74,
   "id": "6ca992fa-f5da-4428-b634-32525add8fe7",
   "metadata": {},
   "outputs": [
    {
     "data": {
      "text/plain": [
       "(enum.EnumMeta, type, object)"
      ]
     },
     "execution_count": 74,
     "metadata": {},
     "output_type": "execute_result"
    }
   ],
   "source": [
    "enum.EnumMeta.__mro__"
   ]
  },
  {
   "cell_type": "code",
   "execution_count": 75,
   "id": "2042736a-066f-47a7-80e0-9076ec659cd6",
   "metadata": {},
   "outputs": [
    {
     "data": {
      "text/plain": [
       "(type,)"
      ]
     },
     "execution_count": 75,
     "metadata": {},
     "output_type": "execute_result"
    }
   ],
   "source": [
    "enum.EnumMeta.__bases__"
   ]
  },
  {
   "cell_type": "code",
   "execution_count": 76,
   "id": "aded745f-a78d-467e-8c41-b3f2a1ba1474",
   "metadata": {},
   "outputs": [
    {
     "data": {
      "text/plain": [
       "<function int.__subclasses__()>"
      ]
     },
     "execution_count": 76,
     "metadata": {},
     "output_type": "execute_result"
    }
   ],
   "source": [
    "int.__subclasses__"
   ]
  },
  {
   "cell_type": "code",
   "execution_count": 77,
   "id": "ce31c865-681b-4d03-9ac3-6896072cac44",
   "metadata": {},
   "outputs": [
    {
     "data": {
      "text/plain": [
       "[bool,\n",
       " <enum 'IntEnum'>,\n",
       " <enum 'IntFlag'>,\n",
       " sre_constants._NamedIntConstant,\n",
       " subprocess.Handle]"
      ]
     },
     "execution_count": 77,
     "metadata": {},
     "output_type": "execute_result"
    }
   ],
   "source": [
    "int.__subclasses__()"
   ]
  },
  {
   "cell_type": "code",
   "execution_count": 78,
   "id": "3b747854-fb50-4cee-b879-d690977ac224",
   "metadata": {},
   "outputs": [],
   "source": [
    "class MyInt(int): \n",
    "    pass"
   ]
  },
  {
   "cell_type": "code",
   "execution_count": 79,
   "id": "cd320148-23eb-4009-9ac4-1bc0ee4b6ac1",
   "metadata": {},
   "outputs": [
    {
     "data": {
      "text/plain": [
       "[bool,\n",
       " <enum 'IntEnum'>,\n",
       " <enum 'IntFlag'>,\n",
       " sre_constants._NamedIntConstant,\n",
       " subprocess.Handle,\n",
       " __main__.MyInt]"
      ]
     },
     "execution_count": 79,
     "metadata": {},
     "output_type": "execute_result"
    }
   ],
   "source": [
    "int.__subclasses__()"
   ]
  },
  {
   "cell_type": "code",
   "execution_count": 80,
   "id": "5737e48a-35dc-47e2-9ff3-0f8b642b563f",
   "metadata": {},
   "outputs": [
    {
     "data": {
      "text/plain": [
       "[abc.ABCMeta,\n",
       " enum.EnumMeta,\n",
       " typing.NamedTupleMeta,\n",
       " typing._TypedDictMeta,\n",
       " ast._ABC,\n",
       " traitlets.traitlets.MetaHasDescriptors,\n",
       " _ctypes.PyCStructType,\n",
       " _ctypes.UnionType,\n",
       " _ctypes.PyCPointerType,\n",
       " _ctypes.PyCArrayType,\n",
       " _ctypes.PyCSimpleType,\n",
       " _ctypes.PyCFuncPtrType,\n",
       " dateutil.tz._factories._TzSingleton,\n",
       " dateutil.tz._factories._TzFactory,\n",
       " pygments.style.StyleMeta,\n",
       " pygments.lexer.LexerMeta,\n",
       " parso.normalizer._NormalizerMeta,\n",
       " jedi.inference.cache.CachedMetaClass,\n",
       " jedi.inference.filters._OverwriteMeta]"
      ]
     },
     "execution_count": 80,
     "metadata": {},
     "output_type": "execute_result"
    }
   ],
   "source": [
    "type.__subclasses__(type)"
   ]
  },
  {
   "cell_type": "code",
   "execution_count": 81,
   "id": "a51814e8-3ca4-4197-b57b-a68839b9fed7",
   "metadata": {},
   "outputs": [
    {
     "name": "stdout",
     "output_type": "stream",
     "text": [
      "Help on package jedi:\n",
      "\n",
      "NAME\n",
      "    jedi\n",
      "\n",
      "DESCRIPTION\n",
      "    Jedi is a static analysis tool for Python that is typically used in\n",
      "    IDEs/editors plugins. Jedi has a focus on autocompletion and goto\n",
      "    functionality. Other features include refactoring, code search and finding\n",
      "    references.\n",
      "    \n",
      "    Jedi has a simple API to work with. There is a reference implementation as a\n",
      "    `VIM-Plugin <https://github.com/davidhalter/jedi-vim>`_. Autocompletion in your\n",
      "    REPL is also possible, IPython uses it natively and for the CPython REPL you\n",
      "    can install it. Jedi is well tested and bugs should be rare.\n",
      "    \n",
      "    Here's a simple example of the autocompletion feature:\n",
      "    \n",
      "    >>> import jedi\n",
      "    >>> source = '''\n",
      "    ... import json\n",
      "    ... json.lo'''\n",
      "    >>> script = jedi.Script(source, path='example.py')\n",
      "    >>> script\n",
      "    <Script: 'example.py' ...>\n",
      "    >>> completions = script.complete(3, len('json.lo'))\n",
      "    >>> completions\n",
      "    [<Completion: load>, <Completion: loads>]\n",
      "    >>> print(completions[0].complete)\n",
      "    ad\n",
      "    >>> print(completions[0].name)\n",
      "    load\n",
      "\n",
      "PACKAGE CONTENTS\n",
      "    __main__\n",
      "    _compatibility\n",
      "    api (package)\n",
      "    cache\n",
      "    common\n",
      "    debug\n",
      "    file_io\n",
      "    inference (package)\n",
      "    parser_utils\n",
      "    plugins (package)\n",
      "    settings\n",
      "    utils\n",
      "\n",
      "VERSION\n",
      "    0.18.1\n",
      "\n",
      "FILE\n",
      "    c:\\users\\user\\miniforge3\\envs\\algoviz\\lib\\site-packages\\jedi\\__init__.py\n",
      "\n",
      "\n"
     ]
    }
   ],
   "source": [
    "help('jedi')"
   ]
  },
  {
   "cell_type": "code",
   "execution_count": 82,
   "id": "ae044685-3f68-4424-8193-3df622aed441",
   "metadata": {},
   "outputs": [
    {
     "data": {
      "text/plain": [
       "['__abs__',\n",
       " '__add__',\n",
       " '__and__',\n",
       " '__bool__',\n",
       " '__ceil__',\n",
       " '__class__',\n",
       " '__delattr__',\n",
       " '__dir__',\n",
       " '__divmod__',\n",
       " '__doc__',\n",
       " '__eq__',\n",
       " '__float__',\n",
       " '__floor__',\n",
       " '__floordiv__',\n",
       " '__format__',\n",
       " '__ge__',\n",
       " '__getattribute__',\n",
       " '__getnewargs__',\n",
       " '__gt__',\n",
       " '__hash__',\n",
       " '__index__',\n",
       " '__init__',\n",
       " '__init_subclass__',\n",
       " '__int__',\n",
       " '__invert__',\n",
       " '__le__',\n",
       " '__lshift__',\n",
       " '__lt__',\n",
       " '__mod__',\n",
       " '__mul__',\n",
       " '__ne__',\n",
       " '__neg__',\n",
       " '__new__',\n",
       " '__or__',\n",
       " '__pos__',\n",
       " '__pow__',\n",
       " '__radd__',\n",
       " '__rand__',\n",
       " '__rdivmod__',\n",
       " '__reduce__',\n",
       " '__reduce_ex__',\n",
       " '__repr__',\n",
       " '__rfloordiv__',\n",
       " '__rlshift__',\n",
       " '__rmod__',\n",
       " '__rmul__',\n",
       " '__ror__',\n",
       " '__round__',\n",
       " '__rpow__',\n",
       " '__rrshift__',\n",
       " '__rshift__',\n",
       " '__rsub__',\n",
       " '__rtruediv__',\n",
       " '__rxor__',\n",
       " '__setattr__',\n",
       " '__sizeof__',\n",
       " '__str__',\n",
       " '__sub__',\n",
       " '__subclasshook__',\n",
       " '__truediv__',\n",
       " '__trunc__',\n",
       " '__xor__',\n",
       " 'as_integer_ratio',\n",
       " 'bit_count',\n",
       " 'bit_length',\n",
       " 'conjugate',\n",
       " 'denominator',\n",
       " 'from_bytes',\n",
       " 'imag',\n",
       " 'numerator',\n",
       " 'real',\n",
       " 'to_bytes']"
      ]
     },
     "execution_count": 82,
     "metadata": {},
     "output_type": "execute_result"
    }
   ],
   "source": [
    "dir(int)"
   ]
  },
  {
   "cell_type": "code",
   "execution_count": 83,
   "id": "ef82ce92-a820-4b14-b9ee-b4632d3c4317",
   "metadata": {},
   "outputs": [
    {
     "name": "stdout",
     "output_type": "stream",
     "text": [
      "Help on method_descriptor:\n",
      "\n",
      "bit_count(self, /)\n",
      "    Number of ones in the binary representation of the absolute value of self.\n",
      "    \n",
      "    Also known as the population count.\n",
      "    \n",
      "    >>> bin(13)\n",
      "    '0b1101'\n",
      "    >>> (13).bit_count()\n",
      "    3\n",
      "\n"
     ]
    }
   ],
   "source": [
    "help(int.bit_count)"
   ]
  },
  {
   "cell_type": "code",
   "execution_count": 84,
   "id": "8a317f6c-7622-4d65-a6bf-84eb2d87ef98",
   "metadata": {},
   "outputs": [
    {
     "name": "stdout",
     "output_type": "stream",
     "text": [
      "Help on method_descriptor:\n",
      "\n",
      "bit_length(self, /)\n",
      "    Number of bits necessary to represent self in binary.\n",
      "    \n",
      "    >>> bin(37)\n",
      "    '0b100101'\n",
      "    >>> (37).bit_length()\n",
      "    6\n",
      "\n"
     ]
    }
   ],
   "source": [
    "help(int.bit_length)"
   ]
  },
  {
   "cell_type": "code",
   "execution_count": 85,
   "id": "91f7ee72-21b4-44af-a665-29a696a3e9b0",
   "metadata": {},
   "outputs": [
    {
     "data": {
      "text/plain": [
       "<enum 'Guests'>"
      ]
     },
     "execution_count": 85,
     "metadata": {},
     "output_type": "execute_result"
    }
   ],
   "source": [
    "Guests"
   ]
  },
  {
   "cell_type": "code",
   "execution_count": 86,
   "id": "ff5e5e62-ace1-4cc9-a8ed-8af2e48c4f21",
   "metadata": {},
   "outputs": [
    {
     "data": {
      "text/plain": [
       "['ALICE',\n",
       " 'ALICE_TRIAL',\n",
       " 'BOB',\n",
       " 'BOB_TRIAL',\n",
       " 'CASSIDY',\n",
       " 'CASSIDY_TRIAL',\n",
       " 'DEREK',\n",
       " 'ERIN',\n",
       " 'ERIN_TRIAL',\n",
       " 'FRANK',\n",
       " 'FRANK_TRIAL',\n",
       " 'GERALD',\n",
       " 'HEATHER',\n",
       " 'PARTY',\n",
       " 'PARTY2',\n",
       " '__class__',\n",
       " '__doc__',\n",
       " '__members__',\n",
       " '__module__']"
      ]
     },
     "execution_count": 86,
     "metadata": {},
     "output_type": "execute_result"
    }
   ],
   "source": [
    "dir(Guests)"
   ]
  },
  {
   "cell_type": "code",
   "execution_count": 87,
   "id": "0156688f-b003-434c-8040-602628c02a8c",
   "metadata": {},
   "outputs": [
    {
     "data": {
      "text/plain": [
       "mappingproxy({'ALICE': <Guests.ALICE: 1>,\n",
       "              'A': <Guests.ALICE: 1>,\n",
       "              'BOB': <Guests.BOB: 2>,\n",
       "              'B': <Guests.BOB: 2>,\n",
       "              'CASSIDY': <Guests.CASSIDY: 4>,\n",
       "              'C': <Guests.CASSIDY: 4>,\n",
       "              'DEREK': <Guests.DEREK: 8>,\n",
       "              'D': <Guests.DEREK: 8>,\n",
       "              'ERIN': <Guests.ERIN: 16>,\n",
       "              'E': <Guests.ERIN: 16>,\n",
       "              'FRANK': <Guests.FRANK: 32>,\n",
       "              'F': <Guests.FRANK: 32>,\n",
       "              'GERALD': <Guests.GERALD: 64>,\n",
       "              'G': <Guests.GERALD: 64>,\n",
       "              'HEATHER': <Guests.HEATHER: 128>,\n",
       "              'H': <Guests.HEATHER: 128>,\n",
       "              'PARTY': <Guests.PARTY: 37>,\n",
       "              'PARTY2': <Guests.PARTY2: 51>,\n",
       "              'ALICE_TRIAL': <Guests.ALICE_TRIAL: 6>,\n",
       "              'BOB_TRIAL': <Guests.BOB_TRIAL: 129>,\n",
       "              'CASSIDY_TRIAL': <Guests.CASSIDY_TRIAL: 0>,\n",
       "              'ERIN_TRIAL': <Guests.ERIN_TRIAL: 76>,\n",
       "              'FRANK_TRIAL': <Guests.FRANK_TRIAL: 14>})"
      ]
     },
     "execution_count": 87,
     "metadata": {},
     "output_type": "execute_result"
    }
   ],
   "source": [
    "Guests.__members__"
   ]
  },
  {
   "cell_type": "code",
   "execution_count": 88,
   "id": "4e5c8971-bca5-45ca-baa5-a87d61a40dcb",
   "metadata": {},
   "outputs": [
    {
     "data": {
      "text/plain": [
       "mappingproxy({'A': <TwoThings.A: 10>, 'B': <TwoThings.B: 20>})"
      ]
     },
     "execution_count": 88,
     "metadata": {},
     "output_type": "execute_result"
    }
   ],
   "source": [
    "@enum.unique\n",
    "class TwoThings(enum.Enum):\n",
    "    A = 10\n",
    "    B = 20\n",
    "    \n",
    "TwoThings.__members__"
   ]
  },
  {
   "cell_type": "code",
   "execution_count": 89,
   "id": "ca29648a-9598-41e4-9282-1d01f270c4d1",
   "metadata": {},
   "outputs": [
    {
     "data": {
      "text/plain": [
       "mappingproxy({'B': <TwoThings.B: 20>, 'A': <TwoThings.A: 10>})"
      ]
     },
     "execution_count": 89,
     "metadata": {},
     "output_type": "execute_result"
    }
   ],
   "source": [
    "@enum.unique\n",
    "class TwoThings(enum.Enum):\n",
    "    B = 20\n",
    "    A = 10\n",
    "    \n",
    "TwoThings.__members__"
   ]
  },
  {
   "cell_type": "code",
   "execution_count": 90,
   "id": "34d4c74d-dd55-4e88-baff-3b8a6938f52b",
   "metadata": {},
   "outputs": [
    {
     "data": {
      "text/plain": [
       "mappingproxy({'ONE': <ThreeAutoThings.ONE: 1>,\n",
       "              'TWO': <ThreeAutoThings.ONE: 1>,\n",
       "              'THREE': <ThreeAutoThings.ONE: 1>})"
      ]
     },
     "execution_count": 90,
     "metadata": {},
     "output_type": "execute_result"
    }
   ],
   "source": [
    "class ThreeAutoThings(enum.Enum): \n",
    "    ONE = TWO = THREE = enum.auto()\n",
    "\n",
    "ThreeAutoThings.__members__"
   ]
  },
  {
   "cell_type": "code",
   "execution_count": 91,
   "id": "7d5578ac-0386-451a-a8d3-a6376abc7083",
   "metadata": {},
   "outputs": [
    {
     "data": {
      "text/plain": [
       "'ONE'"
      ]
     },
     "execution_count": 91,
     "metadata": {},
     "output_type": "execute_result"
    }
   ],
   "source": [
    "ThreeAutoThings.ONE.name"
   ]
  },
  {
   "cell_type": "code",
   "execution_count": 92,
   "id": "80583ec6-af92-42e9-a5b8-f9a5a844e2e6",
   "metadata": {},
   "outputs": [
    {
     "data": {
      "text/plain": [
       "'ONE'"
      ]
     },
     "execution_count": 92,
     "metadata": {},
     "output_type": "execute_result"
    }
   ],
   "source": [
    "ThreeAutoThings.TWO.name"
   ]
  },
  {
   "cell_type": "code",
   "execution_count": 93,
   "id": "8ca28796-db6b-460d-9c35-ef99d681afe0",
   "metadata": {},
   "outputs": [
    {
     "data": {
      "text/plain": [
       "'ONE'"
      ]
     },
     "execution_count": 93,
     "metadata": {},
     "output_type": "execute_result"
    }
   ],
   "source": [
    "ThreeAutoThings.THREE.name"
   ]
  },
  {
   "cell_type": "code",
   "execution_count": 94,
   "id": "07a4a3b5-75ad-4716-9ed2-dd50f8be4498",
   "metadata": {},
   "outputs": [
    {
     "data": {
      "text/plain": [
       "mappingproxy({'ONE': <ThreeAutoThingsAlt.ONE: 1>,\n",
       "              'TWO': <ThreeAutoThingsAlt.ONE: 1>,\n",
       "              'THREE': <ThreeAutoThingsAlt.ONE: 1>})"
      ]
     },
     "execution_count": 94,
     "metadata": {},
     "output_type": "execute_result"
    }
   ],
   "source": [
    "class ThreeAutoThingsAlt(enum.Enum):\n",
    "    ONE = enum.auto()\n",
    "    TWO = ONE\n",
    "    THREE = ONE\n",
    "\n",
    "ThreeAutoThingsAlt.__members__"
   ]
  },
  {
   "cell_type": "code",
   "execution_count": null,
   "id": "73c4d1f7-8b94-4562-a4a2-506845c16486",
   "metadata": {},
   "outputs": [],
   "source": []
  }
 ],
 "metadata": {
  "kernelspec": {
   "display_name": "Python 3 (ipykernel)",
   "language": "python",
   "name": "python3"
  },
  "language_info": {
   "codemirror_mode": {
    "name": "ipython",
    "version": 3
   },
   "file_extension": ".py",
   "mimetype": "text/x-python",
   "name": "python",
   "nbconvert_exporter": "python",
   "pygments_lexer": "ipython3",
   "version": "3.10.6"
  }
 },
 "nbformat": 4,
 "nbformat_minor": 5
}
