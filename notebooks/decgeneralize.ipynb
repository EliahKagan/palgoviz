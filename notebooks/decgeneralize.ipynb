{
 "cells": [
  {
   "cell_type": "markdown",
   "metadata": {},
   "source": [
    "# Generalizing code into a decorator\n",
    "\n",
    "SPDX-License-Identifier: 0BSD\n",
    "\n",
    "See also `decwrapornot.ipynb` for more general information about when decorators should define and return a wrapper function vs. modifying or using information from the function passed as its argument and passing that through."
   ]
  },
  {
   "cell_type": "code",
   "execution_count": 1,
   "metadata": {},
   "outputs": [],
   "source": [
    "import functools\n",
    "import sys"
   ]
  },
  {
   "cell_type": "markdown",
   "metadata": {},
   "source": [
    "## Example 1: `@peek_arg`\n",
    "\n",
    "We begin with this function that squares its argument:"
   ]
  },
  {
   "cell_type": "code",
   "execution_count": 2,
   "metadata": {},
   "outputs": [],
   "source": [
    "def square(number):\n",
    "    \"\"\"Find the square of a value.\"\"\"\n",
    "    return number**2"
   ]
  },
  {
   "cell_type": "code",
   "execution_count": 3,
   "metadata": {},
   "outputs": [
    {
     "data": {
      "text/plain": [
       "9"
      ]
     },
     "execution_count": 3,
     "metadata": {},
     "output_type": "execute_result"
    }
   ],
   "source": [
    "square(3)"
   ]
  },
  {
   "cell_type": "markdown",
   "metadata": {},
   "source": [
    "Suppose we want—temporarily or permanently—to instrument it so it prints its argument when it is called:"
   ]
  },
  {
   "cell_type": "code",
   "execution_count": 4,
   "metadata": {},
   "outputs": [],
   "source": [
    "def square(number):\n",
    "    \"\"\"Find the square of a value. Log the call.\"\"\"\n",
    "    print(f'square({number})')\n",
    "    return number**2"
   ]
  },
  {
   "cell_type": "code",
   "execution_count": 5,
   "metadata": {},
   "outputs": [
    {
     "name": "stdout",
     "output_type": "stream",
     "text": [
      "square(3)\n"
     ]
    },
    {
     "data": {
      "text/plain": [
       "9"
      ]
     },
     "execution_count": 5,
     "metadata": {},
     "output_type": "execute_result"
    }
   ],
   "source": [
    "square(3)"
   ]
  },
  {
   "cell_type": "markdown",
   "metadata": {},
   "source": [
    "If this is all we want to do—add instrumentation to a single function—then a decorator may be overkill. Just adding a line of code to `square` is sufficient. But if we want to make this change to multiple functions, or if the change were more involved and we wanted to separate its logic from that of the function it instruments, then it is reasonable to consider extracting it to a decorator.\n",
    "\n",
    "We want to be able to put a decoration, `@peek_arg`, at the top of the definition of `square`, to cause `square` to have the added behavior of printing out how it was called. It would often be best to make `peek_arg` work on any function of any arity (and with or without keyword arguments), but for simplicity let’s assume we are only interested in using it to instrument functions that we call with a single positional argument and no keyword arguments.\n",
    "\n",
    "Besides that, though, we don’t know anything about the behavior of functions that we will decorate with `@peek_arg`. More precisely, whether or not we know that, we don’t want to `@peek_arg` to rely on those details, since the whole point is to separate the logging functionality it performs from the behavior of the functions it will decorate.\n",
    "\n",
    "Because the behavior of the function `peek_arg` returns adds to the behavior of the function passed to it:\n",
    "\n",
    "- `peek_arg` will return a different function than the one passed to it, because the behavior of the function it returns will differ from the behavior of the function passed to it.\n",
    "\n",
    "- The behavior of the function `peek_arg` will return *includes* the behavior of the function passed to it. So the function `peek_arg` returns will call the function passed to `peek_arg`.\n",
    "\n",
    "To begin extracting the printing code to a decorator, we can make a function, `wrapper`, that works just like that:"
   ]
  },
  {
   "cell_type": "code",
   "execution_count": 6,
   "metadata": {},
   "outputs": [],
   "source": [
    "def square(number):\n",
    "    \"\"\"Find the square of a value.\"\"\"\n",
    "    return number**2"
   ]
  },
  {
   "cell_type": "code",
   "execution_count": 7,
   "metadata": {},
   "outputs": [],
   "source": [
    "def wrapper(number):\n",
    "    \"\"\"Find the square of a value. But first, report the function call.\"\"\"\n",
    "    print(f'square({number})')\n",
    "    return square(number)"
   ]
  },
  {
   "cell_type": "code",
   "execution_count": 8,
   "metadata": {},
   "outputs": [
    {
     "name": "stdout",
     "output_type": "stream",
     "text": [
      "square(3)\n"
     ]
    },
    {
     "data": {
      "text/plain": [
       "9"
      ]
     },
     "execution_count": 8,
     "metadata": {},
     "output_type": "execute_result"
    }
   ],
   "source": [
    "wrapper(3)"
   ]
  },
  {
   "cell_type": "markdown",
   "metadata": {},
   "source": [
    "Right now, `wrapper` depends on `square` beyond just referring to it by name, because it hard-codes the substring `square` in the interpolated string (the f-string) it prints. We can fix this by using `square.__name__` instead:"
   ]
  },
  {
   "cell_type": "code",
   "execution_count": 9,
   "metadata": {},
   "outputs": [],
   "source": [
    "def wrapper(number):\n",
    "    \"\"\"Find the square of a value. But first, report the function call.\"\"\"\n",
    "    print(f'{square.__name__}({number})')\n",
    "    return square(number)"
   ]
  },
  {
   "cell_type": "code",
   "execution_count": 10,
   "metadata": {},
   "outputs": [
    {
     "name": "stdout",
     "output_type": "stream",
     "text": [
      "square(3)\n"
     ]
    },
    {
     "data": {
      "text/plain": [
       "9"
      ]
     },
     "execution_count": 10,
     "metadata": {},
     "output_type": "execute_result"
    }
   ],
   "source": [
    "wrapper(3)"
   ]
  },
  {
   "cell_type": "markdown",
   "metadata": {},
   "source": [
    "Now that `wrapper`’s only dependence on `square` is by the variable name `square`, we can create a factory function that takes this as a parameter and makes functions like `wrapper`. Doing this gives us:"
   ]
  },
  {
   "cell_type": "code",
   "execution_count": 11,
   "metadata": {},
   "outputs": [],
   "source": [
    "def peek_arg(square):\n",
    "    \"\"\"Decorator wrapping a unary function and showing calls to it.\"\"\"\n",
    "    def wrapper(number):\n",
    "        print(f'{square.__name__}({number})')\n",
    "        return square(number)\n",
    "    \n",
    "    return wrapper"
   ]
  },
  {
   "cell_type": "markdown",
   "metadata": {},
   "source": [
    "This no longer is specific to squaring, nor to functions whose argument is a number, so we can pick more general parameter/variable names:"
   ]
  },
  {
   "cell_type": "code",
   "execution_count": 12,
   "metadata": {},
   "outputs": [],
   "source": [
    "def peek_arg(func):\n",
    "    \"\"\"Decorator wrapping a unary function and showing calls to it.\"\"\"\n",
    "    def wrapper(arg):\n",
    "        print(f'{func.__name__}({arg})')\n",
    "        return func(arg)\n",
    "    \n",
    "    return wrapper"
   ]
  },
  {
   "cell_type": "markdown",
   "metadata": {},
   "source": [
    "We should also decorate `peek_arg` with `@functools.wraps(func)` so values of some important metadata attributes are copied from `func` to `wrapper`. This is desirable because `wrapper` will replace `func`—for example, it will be the function actually assigned to `square` when we decorate the definition of `square` with `@peek_arg`. Without doing this, anything that uses those metadata, such as doctest runners and the `help` builtin, will not work.\n",
    "\n",
    "For more information on `functools.wraps`, see [its documentation](https://docs.python.org/3/library/functools.html#functools.wraps) and the **“Example 5: <code>@give_metadata_from(*wrapped*)</code>”** section below."
   ]
  },
  {
   "cell_type": "code",
   "execution_count": 13,
   "metadata": {},
   "outputs": [],
   "source": [
    "def peek_arg(func):\n",
    "    \"\"\"Decorator wrapping a unary function and showing calls to it.\"\"\"\n",
    "    @functools.wraps(func)\n",
    "    def wrapper(arg):\n",
    "        print(f'{func.__name__}({arg})')\n",
    "        return func(arg)\n",
    "    \n",
    "    return wrapper"
   ]
  },
  {
   "cell_type": "markdown",
   "metadata": {},
   "source": [
    "It works on `square`:"
   ]
  },
  {
   "cell_type": "code",
   "execution_count": 14,
   "metadata": {},
   "outputs": [],
   "source": [
    "@peek_arg\n",
    "def square(number):\n",
    "    \"\"\"Find the square of a value. Log the call.\"\"\"\n",
    "    return number**2"
   ]
  },
  {
   "cell_type": "code",
   "execution_count": 15,
   "metadata": {},
   "outputs": [
    {
     "name": "stdout",
     "output_type": "stream",
     "text": [
      "square(3)\n"
     ]
    },
    {
     "data": {
      "text/plain": [
       "9"
      ]
     },
     "execution_count": 15,
     "metadata": {},
     "output_type": "execute_result"
    }
   ],
   "source": [
    "square(3)"
   ]
  },
  {
   "cell_type": "markdown",
   "metadata": {},
   "source": [
    "But just as well on other functions that are conceptually unrelated to `square`:"
   ]
  },
  {
   "cell_type": "code",
   "execution_count": 16,
   "metadata": {},
   "outputs": [],
   "source": [
    "@peek_arg\n",
    "def say_hi(name):\n",
    "    \"\"\"Say hi to someone, given their name. Log the call.\"\"\"\n",
    "    print(f'Hi, {name}!')"
   ]
  },
  {
   "cell_type": "code",
   "execution_count": 17,
   "metadata": {},
   "outputs": [
    {
     "name": "stdout",
     "output_type": "stream",
     "text": [
      "say_hi(Bob)\n",
      "Hi, Bob!\n"
     ]
    }
   ],
   "source": [
    "say_hi('Bob')"
   ]
  },
  {
   "cell_type": "markdown",
   "metadata": {},
   "source": [
    "Because we used `functools.wraps`, the metadata are available:"
   ]
  },
  {
   "cell_type": "code",
   "execution_count": 18,
   "metadata": {},
   "outputs": [
    {
     "name": "stdout",
     "output_type": "stream",
     "text": [
      "Help on function square in module __main__:\n",
      "\n",
      "square(number)\n",
      "    Find the square of a value. Log the call.\n",
      "\n"
     ]
    }
   ],
   "source": [
    "help(square)"
   ]
  },
  {
   "cell_type": "code",
   "execution_count": 19,
   "metadata": {},
   "outputs": [
    {
     "name": "stdout",
     "output_type": "stream",
     "text": [
      "Help on function say_hi in module __main__:\n",
      "\n",
      "say_hi(name)\n",
      "    Say hi to someone, given their name. Log the call.\n",
      "\n"
     ]
    }
   ],
   "source": [
    "help(say_hi)"
   ]
  },
  {
   "cell_type": "markdown",
   "metadata": {},
   "source": [
    "## Example 2: `@call`\n",
    "\n",
    "Sometimes we define a function just to have a local scope, and immediately call it. Other times, we will use the function later, but we still want to call it immediately. Both scenarios are most realistic in the setting of Jupyter notebooks.\n",
    "\n",
    "We begin with this function that demonstrates how `_` is not assigned to when used as a `match`-`case` discard but is assigned to when used in tuple unpacking assignment:"
   ]
  },
  {
   "cell_type": "code",
   "execution_count": 20,
   "metadata": {},
   "outputs": [
    {
     "name": "stdout",
     "output_type": "stream",
     "text": [
      "{'second': 20}\n",
      "{'second': 20, '_': 10}\n"
     ]
    }
   ],
   "source": [
    "def demonstrate_underscore():\n",
    "    \"\"\"Show the behavior of _ in various contexts.\"\"\"\n",
    "    match [10, 20]:\n",
    "        case _, second:\n",
    "            pass\n",
    "    print(locals())\n",
    "\n",
    "    _, second = [10, 20]\n",
    "    print(locals())\n",
    "\n",
    "demonstrate_underscore()"
   ]
  },
  {
   "cell_type": "markdown",
   "metadata": {},
   "source": [
    "Already we can see that we don’t need a wrapper and shouldn’t use one: the functionality we want to augment the definition of `demonstrate_underscore` with is *already separate from that definition*. We’re not trying to change what happens when `demonstrate_underscore` is called—instead, we want to add behavior to *the act of defining it*.\n",
    "\n",
    "We want to be able to decorate the definition with `@call` to produce the effect of the above code: defining the function, and calling it. Because we are not changing `demonstrate_underscore`’s behavior, we won’t return a different function, but instead just the same function.\n",
    "\n",
    "Our `@call` decorator starts out as just an identity function—one that takes an argument, in this case a function, and returns it:"
   ]
  },
  {
   "cell_type": "code",
   "execution_count": 21,
   "metadata": {},
   "outputs": [],
   "source": [
    "def call(demonstrate_underscore):\n",
    "    # FIXME: This needs to do something.\n",
    "    return demonstrate_underscore"
   ]
  },
  {
   "cell_type": "code",
   "execution_count": 22,
   "metadata": {},
   "outputs": [
    {
     "name": "stdout",
     "output_type": "stream",
     "text": [
      "{'second': 20}\n",
      "{'second': 20, '_': 10}\n"
     ]
    }
   ],
   "source": [
    "@call\n",
    "def demonstrate_underscore():\n",
    "    \"\"\"Show the behavior of _ in various contexts.\"\"\"\n",
    "    match [10, 20]:\n",
    "        case _, second:\n",
    "            pass\n",
    "    print(locals())\n",
    "\n",
    "    _, second = [10, 20]\n",
    "    print(locals())\n",
    "\n",
    "demonstrate_underscore()"
   ]
  },
  {
   "cell_type": "markdown",
   "metadata": {},
   "source": [
    "Now we extract the call to `demonstrate_underscore` into the decorator:"
   ]
  },
  {
   "cell_type": "code",
   "execution_count": 23,
   "metadata": {},
   "outputs": [],
   "source": [
    "def call(demonstrate_underscore):\n",
    "    demonstrate_underscore()\n",
    "    return demonstrate_underscore"
   ]
  },
  {
   "cell_type": "markdown",
   "metadata": {},
   "source": [
    "And change the name of its parameter, since it is in no way specific to `demonstrate_underscore`, but instead works with any function that can be called with no arguments:"
   ]
  },
  {
   "cell_type": "code",
   "execution_count": 24,
   "metadata": {},
   "outputs": [],
   "source": [
    "def call(func):\n",
    "    func()\n",
    "    return func"
   ]
  },
  {
   "cell_type": "markdown",
   "metadata": {},
   "source": [
    "Now we can decorate the definition of `demonstrate_underscore` with `@call` instead of calling it after defining it:"
   ]
  },
  {
   "cell_type": "code",
   "execution_count": 25,
   "metadata": {},
   "outputs": [
    {
     "name": "stdout",
     "output_type": "stream",
     "text": [
      "{'y': 20}\n",
      "{'y': 22, '_': 11}\n"
     ]
    }
   ],
   "source": [
    "@call\n",
    "def demonstrate_underscore():\n",
    "    \"\"\"Show the behavior of _ in various contexts.\"\"\"\n",
    "    match [10, 20]:\n",
    "        case _, y:\n",
    "            pass\n",
    "    print(locals())\n",
    "\n",
    "    _, y = [11, 22]\n",
    "    print(locals())"
   ]
  },
  {
   "cell_type": "markdown",
   "metadata": {},
   "source": [
    "But `@call` also works with other unary functions that are not conceptually related to `demonstrate_underscore`:"
   ]
  },
  {
   "cell_type": "code",
   "execution_count": 26,
   "metadata": {},
   "outputs": [
    {
     "name": "stdout",
     "output_type": "stream",
     "text": [
      "Hello, world!\n"
     ]
    }
   ],
   "source": [
    "@call\n",
    "def hello():\n",
    "    print('Hello, world!')"
   ]
  },
  {
   "cell_type": "markdown",
   "metadata": {},
   "source": [
    "## Example 3: `@thrice`"
   ]
  },
  {
   "cell_type": "markdown",
   "metadata": {},
   "source": [
    "We begin by understating the glory and danger of bobcats:"
   ]
  },
  {
   "cell_type": "code",
   "execution_count": 27,
   "metadata": {},
   "outputs": [],
   "source": [
    "def psa():\n",
    "    \"\"\"Print a bobcat reminder.\"\"\"\n",
    "    print('Watch out for bobcats!')"
   ]
  },
  {
   "cell_type": "code",
   "execution_count": 28,
   "metadata": {},
   "outputs": [
    {
     "name": "stdout",
     "output_type": "stream",
     "text": [
      "Watch out for bobcats!\n"
     ]
    }
   ],
   "source": [
    "psa()"
   ]
  },
  {
   "cell_type": "markdown",
   "metadata": {},
   "source": [
    "Our caution is more likely to be heeded if we utter it thrice:"
   ]
  },
  {
   "cell_type": "code",
   "execution_count": 29,
   "metadata": {},
   "outputs": [],
   "source": [
    "def psa():\n",
    "    \"\"\"Print a bobcat reminder, three times.\"\"\"\n",
    "    for _ in range(3):\n",
    "        print('Watch out for bobcats!')"
   ]
  },
  {
   "cell_type": "code",
   "execution_count": 30,
   "metadata": {},
   "outputs": [
    {
     "name": "stdout",
     "output_type": "stream",
     "text": [
      "Watch out for bobcats!\n",
      "Watch out for bobcats!\n",
      "Watch out for bobcats!\n"
     ]
    }
   ],
   "source": [
    "psa()"
   ]
  },
  {
   "cell_type": "markdown",
   "metadata": {},
   "source": [
    "There are many other amazing and ferocious beasts (giraffes, for example), so let’s extract this threefold repetition to a decorator that we can reuse.\n",
    "\n",
    "The decorator will take a function like our original `psa`, and it will return a function with different behavior: what the function we put into the decorator does once, the function we get out of the decorator does three times. Since it will have different behavior—and since this behavior will be implemented by calling our function—this decorator will define and return a wrapper function.\n",
    "\n",
    "The decorator won’t know what behavior it’s causing to happen three times in succession (it won’t necessarily be printing, even). This is how we know the function the decorator creates must *call* the function passed to the decorator—and thus that it will be a wrapper function.\n",
    "\n",
    "To begin extracting the threefold repetition logic to the decorator, we can make a function, `wrapper`, that specifically calls `psa` three times:"
   ]
  },
  {
   "cell_type": "code",
   "execution_count": 31,
   "metadata": {},
   "outputs": [],
   "source": [
    "def psa():\n",
    "    \"\"\"Print a bobcat reminder.\"\"\"\n",
    "    print('Watch out for bobcats!')"
   ]
  },
  {
   "cell_type": "code",
   "execution_count": 32,
   "metadata": {},
   "outputs": [],
   "source": [
    "def wrapper():\n",
    "    \"\"\"Print three bobcat reminders.\"\"\"\n",
    "    for _ in range(3):\n",
    "        psa()"
   ]
  },
  {
   "cell_type": "code",
   "execution_count": 33,
   "metadata": {},
   "outputs": [
    {
     "name": "stdout",
     "output_type": "stream",
     "text": [
      "Watch out for bobcats!\n",
      "Watch out for bobcats!\n",
      "Watch out for bobcats!\n"
     ]
    }
   ],
   "source": [
    "wrapper()"
   ]
  },
  {
   "cell_type": "markdown",
   "metadata": {},
   "source": [
    "This situation is actually slightly simpler than what we had above in **“Example 1: `@peek_arg`”**, because `wrapper` already depends on `psa` only in that it refers to it by name—this `wrapper` doesn’t otherwise embody knowledge about what `psa` is or what it does.\n",
    "\n",
    "So we can immediately create a factory function that takes `psa`—or any other function whose behavior we want to do three times—and makes functions like `wrapper`:"
   ]
  },
  {
   "cell_type": "code",
   "execution_count": 34,
   "metadata": {},
   "outputs": [],
   "source": [
    "def thrice(psa):\n",
    "    \"\"\"Decorator wrapping a nullary function and calling it three times.\"\"\"\n",
    "    def wrapper():\n",
    "        for _ in range(3):\n",
    "            psa()\n",
    "    \n",
    "    return wrapper"
   ]
  },
  {
   "cell_type": "markdown",
   "metadata": {},
   "source": [
    "This is no longer specific to issuing public service announcements about bobcats, so we can pick a more general parameter name."
   ]
  },
  {
   "cell_type": "code",
   "execution_count": 35,
   "metadata": {},
   "outputs": [],
   "source": [
    "def thrice(func):\n",
    "    \"\"\"Decorator wrapping a nullary function and calling it three times.\"\"\"\n",
    "    def wrapper():\n",
    "        for _ in range(3):\n",
    "            func()\n",
    "    \n",
    "    return wrapper"
   ]
  },
  {
   "cell_type": "markdown",
   "metadata": {},
   "source": [
    "And decorate `wrapper` with `@functools.wraps(func)` so that metadata from `func` are appropriately propagated to `wrapper`:"
   ]
  },
  {
   "cell_type": "code",
   "execution_count": 36,
   "metadata": {},
   "outputs": [],
   "source": [
    "def thrice(func):\n",
    "    \"\"\"Decorator wrapping a nullary function and calling it three times.\"\"\"\n",
    "    @functools.wraps(func)\n",
    "    def wrapper():\n",
    "        for _ in range(3):\n",
    "            func()\n",
    "    \n",
    "    return wrapper"
   ]
  },
  {
   "cell_type": "markdown",
   "metadata": {},
   "source": [
    "It works on `psa`:"
   ]
  },
  {
   "cell_type": "code",
   "execution_count": 37,
   "metadata": {},
   "outputs": [],
   "source": [
    "@thrice\n",
    "def psa():\n",
    "    \"\"\"Print three bobcat reminders.\"\"\"\n",
    "    print('Watch out for bobcats!')"
   ]
  },
  {
   "cell_type": "code",
   "execution_count": 38,
   "metadata": {},
   "outputs": [
    {
     "name": "stdout",
     "output_type": "stream",
     "text": [
      "Watch out for bobcats!\n",
      "Watch out for bobcats!\n",
      "Watch out for bobcats!\n"
     ]
    }
   ],
   "source": [
    "psa()"
   ]
  },
  {
   "cell_type": "markdown",
   "metadata": {},
   "source": [
    "And on other unrelated functions:"
   ]
  },
  {
   "cell_type": "code",
   "execution_count": 39,
   "metadata": {},
   "outputs": [],
   "source": [
    "@thrice\n",
    "def sos():\n",
    "    \"\"\"Exclaim some information about our interpreter a few times.\"\"\"\n",
    "    print(f'A {sys.version_info.releaselevel} python is here now!')"
   ]
  },
  {
   "cell_type": "code",
   "execution_count": 40,
   "metadata": {},
   "outputs": [
    {
     "name": "stdout",
     "output_type": "stream",
     "text": [
      "A final python is here now!\n",
      "A final python is here now!\n",
      "A final python is here now!\n"
     ]
    }
   ],
   "source": [
    "sos()"
   ]
  },
  {
   "cell_type": "markdown",
   "metadata": {},
   "source": [
    "## Example 4: <code>@repeat(*count*)</code>"
   ]
  },
  {
   "cell_type": "markdown",
   "metadata": {},
   "source": [
    "A decorator like `thrice` can be further generalized. Why 3 times instead of some other number? For example, suppose we have:"
   ]
  },
  {
   "cell_type": "code",
   "execution_count": 41,
   "metadata": {},
   "outputs": [],
   "source": [
    "def scotus():\n",
    "    \"\"\"Inspect the mind of a judge and report a thought.\"\"\"\n",
    "    print('I am the law!')"
   ]
  },
  {
   "cell_type": "code",
   "execution_count": 42,
   "metadata": {},
   "outputs": [
    {
     "name": "stdout",
     "output_type": "stream",
     "text": [
      "I am the law!\n"
     ]
    }
   ],
   "source": [
    "scotus()"
   ]
  },
  {
   "cell_type": "markdown",
   "metadata": {},
   "source": [
    "We could do this, of course, but it’s far from scalable:"
   ]
  },
  {
   "cell_type": "code",
   "execution_count": 43,
   "metadata": {},
   "outputs": [],
   "source": [
    "@thrice\n",
    "@thrice\n",
    "def scotus():\n",
    "    \"\"\"Inspect the minds on the US Supreme Court and report thoughts.\"\"\"\n",
    "    print('I am the law!')"
   ]
  },
  {
   "cell_type": "code",
   "execution_count": 44,
   "metadata": {},
   "outputs": [
    {
     "name": "stdout",
     "output_type": "stream",
     "text": [
      "I am the law!\n",
      "I am the law!\n",
      "I am the law!\n",
      "I am the law!\n",
      "I am the law!\n",
      "I am the law!\n",
      "I am the law!\n",
      "I am the law!\n",
      "I am the law!\n"
     ]
    }
   ],
   "source": [
    "scotus()"
   ]
  },
  {
   "cell_type": "markdown",
   "metadata": {},
   "source": [
    "Instead, we can make a parameterized decorator—a higher-order function that returns an actual decorator—and decorate functions we want to repeat with a function-call expression. We will be able to use `@repeat(3)` for `psa` and `sos`, and `@repeat(9)` for `scotus`.\n",
    "\n",
    "A parameterized decorator is, in a sense, not really a decorator. It would be an error to decorate a function definition like `@repeat`, since `repeat` is not what we want to pass a function. Rather, `repeat` is going to be a factory that we pass an integer *`count`* and that returns a function. The function it returns will then be passed a function that does something once, and *it* will return a function that does that thing *`count`* times. What `repeat` does it to make functions like `thrice` that themselves can be (and are meant to be) used as decorators.\n",
    "\n",
    "Let’s start with the `thrice` function we already made:"
   ]
  },
  {
   "cell_type": "code",
   "execution_count": 45,
   "metadata": {},
   "outputs": [],
   "source": [
    "def thrice(func):\n",
    "    \"\"\"Decorator wrapping a nullary function and calling it three times.\"\"\"\n",
    "    @functools.wraps(func)\n",
    "    def wrapper():\n",
    "        for _ in range(3):\n",
    "            func()\n",
    "    \n",
    "    return wrapper"
   ]
  },
  {
   "cell_type": "markdown",
   "metadata": {},
   "source": [
    "But change it to repeat *`count`* times instead of 3:"
   ]
  },
  {
   "cell_type": "code",
   "execution_count": 46,
   "metadata": {},
   "outputs": [],
   "source": [
    "def repeat_count_times(func):\n",
    "    \"\"\"Decorator wrapping a nullary function and calling it count times.\"\"\"\n",
    "    @functools.wraps(func)\n",
    "    def wrapper():\n",
    "        for _ in range(count):\n",
    "            func()\n",
    "    \n",
    "    return wrapper"
   ]
  },
  {
   "cell_type": "markdown",
   "metadata": {},
   "source": [
    "But what is `count`?"
   ]
  },
  {
   "cell_type": "code",
   "execution_count": 47,
   "metadata": {},
   "outputs": [],
   "source": [
    "@repeat_count_times\n",
    "def scotus():\n",
    "    \"\"\"Inspect the minds on the US Supreme Court and report thoughts.\"\"\"\n",
    "    print('I am the law!')"
   ]
  },
  {
   "cell_type": "code",
   "execution_count": 48,
   "metadata": {},
   "outputs": [
    {
     "name": "stdout",
     "output_type": "stream",
     "text": [
      "name 'count' is not defined\n"
     ]
    }
   ],
   "source": [
    "try:\n",
    "    scotus()\n",
    "except NameError as error:\n",
    "    print(error)"
   ]
  },
  {
   "cell_type": "markdown",
   "metadata": {},
   "source": [
    "`count` is the parameter of our higher-order function `repeat`. So let’s put `repeat_count_times` into such a function:"
   ]
  },
  {
   "cell_type": "code",
   "execution_count": 49,
   "metadata": {},
   "outputs": [],
   "source": [
    "def repeat(count):\n",
    "    \"\"\"Factory for decorators that repeat function some number of times.\"\"\"\n",
    "    def repeat_count_times(func):\n",
    "        @functools.wraps(func)\n",
    "        def wrapper():\n",
    "            for _ in range(count):\n",
    "                func()\n",
    "        \n",
    "        return wrapper\n",
    "    \n",
    "    return repeat_count_times"
   ]
  },
  {
   "cell_type": "markdown",
   "metadata": {},
   "source": [
    "The naming used there is already fine, but since the most important thing to know about `repeat_count_times` when reading the code of `repeat` is that it—`repeat_count_times`—is the actual decorator, it is also reasonable to just name it `decorator`:"
   ]
  },
  {
   "cell_type": "code",
   "execution_count": 50,
   "metadata": {},
   "outputs": [],
   "source": [
    "def repeat(count):\n",
    "    \"\"\"Factory for decorators that repeat function some number of times.\"\"\"\n",
    "    def decorator(func):\n",
    "        @functools.wraps(func)\n",
    "        def wrapper():\n",
    "            for _ in range(count):\n",
    "                func()\n",
    "        \n",
    "        return wrapper\n",
    "    \n",
    "    return decorator"
   ]
  },
  {
   "cell_type": "markdown",
   "metadata": {},
   "source": [
    "Now we can call this with different values of `count` and apply the result as a decorator to various functions:"
   ]
  },
  {
   "cell_type": "code",
   "execution_count": 51,
   "metadata": {},
   "outputs": [],
   "source": [
    "@repeat(9)\n",
    "def scotus():\n",
    "    \"\"\"Inspect the minds on the US Supreme Court and report thoughts.\"\"\"\n",
    "    print('I am the law!')"
   ]
  },
  {
   "cell_type": "code",
   "execution_count": 52,
   "metadata": {},
   "outputs": [
    {
     "name": "stdout",
     "output_type": "stream",
     "text": [
      "I am the law!\n",
      "I am the law!\n",
      "I am the law!\n",
      "I am the law!\n",
      "I am the law!\n",
      "I am the law!\n",
      "I am the law!\n",
      "I am the law!\n",
      "I am the law!\n"
     ]
    }
   ],
   "source": [
    "scotus()"
   ]
  },
  {
   "cell_type": "code",
   "execution_count": 53,
   "metadata": {},
   "outputs": [],
   "source": [
    "@repeat(3)\n",
    "def psa():\n",
    "    \"\"\"Print three bobcat reminders.\"\"\"\n",
    "    print('Watch out for bobcats!')"
   ]
  },
  {
   "cell_type": "code",
   "execution_count": 54,
   "metadata": {},
   "outputs": [
    {
     "name": "stdout",
     "output_type": "stream",
     "text": [
      "Watch out for bobcats!\n",
      "Watch out for bobcats!\n",
      "Watch out for bobcats!\n"
     ]
    }
   ],
   "source": [
    "psa()"
   ]
  },
  {
   "cell_type": "markdown",
   "metadata": {},
   "source": [
    "Expressions of the form <code>repeat(*count*)</code> are what *actually* decorate functions. We can even assign them to variables and use them that way:"
   ]
  },
  {
   "cell_type": "code",
   "execution_count": 55,
   "metadata": {},
   "outputs": [],
   "source": [
    "twice = repeat(2)"
   ]
  },
  {
   "cell_type": "code",
   "execution_count": 56,
   "metadata": {},
   "outputs": [],
   "source": [
    "@twice\n",
    "def second_day():\n",
    "    print('You received a turtle dove.')"
   ]
  },
  {
   "cell_type": "code",
   "execution_count": 57,
   "metadata": {},
   "outputs": [
    {
     "name": "stdout",
     "output_type": "stream",
     "text": [
      "You received a turtle dove.\n",
      "You received a turtle dove.\n"
     ]
    }
   ],
   "source": [
    "second_day()"
   ]
  },
  {
   "cell_type": "markdown",
   "metadata": {},
   "source": [
    "Note that, *outside* the implementation of `repeat`, *if* we name the a decorator obtained from `repeat`, we don’t call it `decorator`. Inside `repeat`’s implementation, the important thing is to be clear on exactly what function is the decorator. Outside it, the important thing is to know what the decorator we got from `repeat` actually does."
   ]
  },
  {
   "cell_type": "markdown",
   "metadata": {},
   "source": [
    "# Example 5: <code>@give_metadata_from(*wrapped*)</code>"
   ]
  },
  {
   "cell_type": "markdown",
   "metadata": {},
   "source": [
    "Suppose we didn’t have `functools.wraps`—or, and this is the real motivation, suppose we want to understand how `functools.wraps` works by making something similar, a simplified version of it.\n",
    "\n",
    "Let’s go back to our definition of `peek_arg`:"
   ]
  },
  {
   "cell_type": "code",
   "execution_count": 58,
   "metadata": {},
   "outputs": [],
   "source": [
    "def peek_arg(func):\n",
    "    \"\"\"Decorator wrapping a unary function and showing calls to it.\"\"\"\n",
    "    @functools.wraps(func)\n",
    "    def wrapper(arg):\n",
    "        print(f'{func.__name__}({arg})')\n",
    "        return func(arg)\n",
    "    \n",
    "    return wrapper"
   ]
  },
  {
   "cell_type": "markdown",
   "metadata": {},
   "source": [
    "For this exercise, we’re not using the `functools.wraps` parameterized decorator from the Python standard library. Instead, we’ll build our own simpler but often adequate parameterized decorator, `give_metadata_from`, where decorating a wrapper function with `@give_metadata_from(wrapped)` will copy the appropriate metadata attributes from `wrapped` to the wrapper function.\n",
    "\n",
    "As detailed in [the `functools.wrapped` documentation](https://docs.python.org/3.10/library/functools.html#functools.wraps), these attributes are those whose names are:"
   ]
  },
  {
   "cell_type": "code",
   "execution_count": 59,
   "metadata": {},
   "outputs": [
    {
     "name": "stdout",
     "output_type": "stream",
     "text": [
      "__module__\n",
      "__name__\n",
      "__qualname__\n",
      "__doc__\n",
      "__annotations__\n"
     ]
    }
   ],
   "source": [
    "for name in functools.WRAPPER_ASSIGNMENTS:\n",
    "    print(name)"
   ]
  },
  {
   "cell_type": "markdown",
   "metadata": {},
   "source": [
    "With the view of ultimately implementing and using `give_metadata_from`, we first change `peek_arg` to:\n",
    "\n",
    "- no longer use `functools.wraps` but instead to show, commented out, the usage of `give_metadata_from` that we ultimately intend.\n",
    "\n",
    "- perform the assignment to those five metadata attributes on `wrapper` before returning it."
   ]
  },
  {
   "cell_type": "code",
   "execution_count": 60,
   "metadata": {},
   "outputs": [],
   "source": [
    "def peek_arg(func):\n",
    "    \"\"\"Decorator wrapping a unary function and showing calls to it.\"\"\"\n",
    "    # @give_metadata_from(func)   <-- eventual usage, doesn't work yet\n",
    "    def wrapper(arg):\n",
    "        print(f'{func.__name__}({arg})')\n",
    "        return func(arg)\n",
    "    \n",
    "    wrapper.__module__ = func.__module__\n",
    "    wrapper.__name__ = func.__name__\n",
    "    wrapper.__qualname__ = func.__qualname__\n",
    "    wrapper.__doc__ = func.__doc__\n",
    "    wrapper.__annotations__ = func.__annotations__\n",
    "    \n",
    "    return wrapper"
   ]
  },
  {
   "cell_type": "markdown",
   "metadata": {},
   "source": [
    "We check that the code works:"
   ]
  },
  {
   "cell_type": "code",
   "execution_count": 61,
   "metadata": {},
   "outputs": [],
   "source": [
    "@peek_arg\n",
    "def fibonacci(n):\n",
    "    \"\"\"Slowly compute the Fibonacci number F(n) by simple recursion.\"\"\"\n",
    "    return n if n < 2 else fibonacci(n - 2) + fibonacci(n - 1)"
   ]
  },
  {
   "cell_type": "code",
   "execution_count": 62,
   "metadata": {},
   "outputs": [
    {
     "name": "stdout",
     "output_type": "stream",
     "text": [
      "fibonacci(3)\n",
      "fibonacci(1)\n",
      "fibonacci(2)\n",
      "fibonacci(0)\n",
      "fibonacci(1)\n"
     ]
    },
    {
     "data": {
      "text/plain": [
       "2"
      ]
     },
     "execution_count": 62,
     "metadata": {},
     "output_type": "execute_result"
    }
   ],
   "source": [
    "fibonacci(3)"
   ]
  },
  {
   "cell_type": "code",
   "execution_count": 63,
   "metadata": {},
   "outputs": [
    {
     "name": "stdout",
     "output_type": "stream",
     "text": [
      "Help on function fibonacci in module __main__:\n",
      "\n",
      "fibonacci(arg)\n",
      "    Slowly compute the Fibonacci number F(n) by simple recursion.\n",
      "\n"
     ]
    }
   ],
   "source": [
    "help(fibonacci)  # Really, this only checks __name__ and __doc__."
   ]
  },
  {
   "cell_type": "markdown",
   "metadata": {},
   "source": [
    "The process of going from the concrete to the abstract has two stages here:\n",
    "\n",
    "1. First, we make a decorator `give_metadata_from_func`, that can operate on any `wrapper`.\n",
    "\n",
    "2. After that, we will make a factory function (a parameterized decorator) that, when given `func`, returns a function that does the work of `give_metadata_from_func`.\n",
    "\n",
    "Here’s `peek_arg` with commented-out usage of our intermediate abstraction `give_metadata_from_func` added:"
   ]
  },
  {
   "cell_type": "code",
   "execution_count": 64,
   "metadata": {},
   "outputs": [],
   "source": [
    "def peek_arg(func):\n",
    "    \"\"\"Decorator wrapping a unary function and showing calls to it.\"\"\"\n",
    "    # @give_metadata_from(func)   <-- ultimate usage, doesn't work yet\n",
    "    # @give_metadata_from_func    <-- intermediate usage, doesn't work yet either\n",
    "    def wrapper(arg):\n",
    "        print(f'{func.__name__}({arg})')\n",
    "        return func(arg)\n",
    "    \n",
    "    wrapper.__module__ = func.__module__\n",
    "    wrapper.__name__ = func.__name__\n",
    "    wrapper.__qualname__ = func.__qualname__\n",
    "    wrapper.__doc__ = func.__doc__\n",
    "    wrapper.__annotations__ = func.__annotations__\n",
    "    \n",
    "    return wrapper"
   ]
  },
  {
   "cell_type": "markdown",
   "metadata": {},
   "source": [
    "The `give_metadata_from_func` decorator will have `wrapper` as its one parameter—we’re applying it to `wrapper`, after all.\n",
    "\n",
    "As with `@functools.wraps(func)`, decorating `wrapper` with `@give_metadata_from_func` will not wrap its parameter. Its parameter, `wrapper`, is already a wrapper function, but all `give_metadata_from_func` needs to do to it is assign to some of its attributes and return it. **We do not want to replace `wrapper` with a different function that delegates to it; instead, we want to make changes to `wrapper`’s attributes.**\n",
    "\n",
    "In addition to depending on `wrapper` by taking it as an argument, `give_metadata_from_func` will also depends on `func`. So it will be a local function, taking `wrapper` as an argument and capturing `func`.\n",
    "\n",
    "To avoid having to modify our assignments at this stage, and also because `wrapper` is a good name for this parameter, I’ll keep that name, even though, of course, the parameter could have any name. (In contrast, we cannot use a different name for `func`, at this point, in the implementation of `give_metadata_from_func`, since `func` is being captured from the enclosing scope.)"
   ]
  },
  {
   "cell_type": "code",
   "execution_count": 65,
   "metadata": {},
   "outputs": [],
   "source": [
    "def peek_arg(func):\n",
    "    \"\"\"Decorator wrapping a unary function and showing calls to it.\"\"\"\n",
    "    # @give_metadata_from(func)   <-- ultimate usage, doesn't work yet\n",
    "    # @give_metadata_from_func    <-- intermediate usage, doesn't work yet either\n",
    "    def wrapper(arg):\n",
    "        print(f'{func.__name__}({arg})')\n",
    "        return func(arg)\n",
    "    \n",
    "    def give_metadata_from_func(wrapper):\n",
    "        wrapper.__module__ = func.__module__\n",
    "        wrapper.__name__ = func.__name__\n",
    "        wrapper.__qualname__ = func.__qualname__\n",
    "        wrapper.__doc__ = func.__doc__\n",
    "        wrapper.__annotations__ = func.__annotations__\n",
    "    \n",
    "    give_metadata_from_func(wrapper)\n",
    "    \n",
    "    return wrapper"
   ]
  },
  {
   "cell_type": "markdown",
   "metadata": {},
   "source": [
    "`give_metadata_from_func` doesn’t work as a decorator yet, but it’s close, and the above implementation of `peek_arg` does work."
   ]
  },
  {
   "cell_type": "code",
   "execution_count": 66,
   "metadata": {},
   "outputs": [],
   "source": [
    "@peek_arg\n",
    "def fibonacci(n):\n",
    "    \"\"\"Slowly compute the Fibonacci number F(n) by simple recursion.\"\"\"\n",
    "    return n if n < 2 else fibonacci(n - 2) + fibonacci(n - 1)"
   ]
  },
  {
   "cell_type": "code",
   "execution_count": 67,
   "metadata": {},
   "outputs": [
    {
     "name": "stdout",
     "output_type": "stream",
     "text": [
      "fibonacci(3)\n",
      "fibonacci(1)\n",
      "fibonacci(2)\n",
      "fibonacci(0)\n",
      "fibonacci(1)\n"
     ]
    },
    {
     "data": {
      "text/plain": [
       "2"
      ]
     },
     "execution_count": 67,
     "metadata": {},
     "output_type": "execute_result"
    }
   ],
   "source": [
    "fibonacci(3)"
   ]
  },
  {
   "cell_type": "markdown",
   "metadata": {},
   "source": [
    "The reason `give_metadata_from_func`, as defined above, wouldn’t work as a decorator, is that when you decorate a function definition, the function assigned to the name you use in the definition is the *return value* of the decorator. This facilitates decorators returning different functions from the ones they are passed, which is often useful—often we want to wrap—but which we don’t want here.\n",
    "\n",
    "So we must make `give_metadata_from_func` return `wrapper`—to pass it through—rather than it current behavior if implicitly returning `None`:"
   ]
  },
  {
   "cell_type": "code",
   "execution_count": 68,
   "metadata": {},
   "outputs": [],
   "source": [
    "def peek_arg(func):\n",
    "    \"\"\"Decorator wrapping a unary function and showing calls to it.\"\"\"\n",
    "    # @give_metadata_from(func)   <-- ultimate usage, doesn't work yet\n",
    "    @give_metadata_from_func    # <-- almost works\n",
    "    def wrapper(arg):\n",
    "        print(f'{func.__name__}({arg})')\n",
    "        return func(arg)\n",
    "    \n",
    "    def give_metadata_from_func(wrapper):\n",
    "        wrapper.__module__ = func.__module__\n",
    "        wrapper.__name__ = func.__name__\n",
    "        wrapper.__qualname__ = func.__qualname__\n",
    "        wrapper.__doc__ = func.__doc__\n",
    "        wrapper.__annotations__ = func.__annotations__\n",
    "        return wrapper\n",
    "    \n",
    "    give_metadata_from_func(wrapper)\n",
    "    \n",
    "    return wrapper"
   ]
  },
  {
   "cell_type": "markdown",
   "metadata": {},
   "source": [
    "But there’s another change we need to make. It was convenient to put the definition of `give_metadata_from_func` below the definition of `wrapper`, since the contents of `give_metadata_from_func` were almost entirely written already, in that position. But `give_metadata_from_func` needs to be defined (so its name is assigned) prior to the first time we use it, and the first (and currently only) time we use it is to decorate the definition of `wrapper`."
   ]
  },
  {
   "cell_type": "code",
   "execution_count": 69,
   "metadata": {},
   "outputs": [
    {
     "name": "stdout",
     "output_type": "stream",
     "text": [
      "cannot access local variable 'give_metadata_from_func' where it is not associated with a value\n"
     ]
    }
   ],
   "source": [
    "try:\n",
    "    @peek_arg\n",
    "    def fibonacci(n):\n",
    "        \"\"\"Slowly compute the Fibonacci number F(n) by simple recursion.\"\"\"\n",
    "        return n if n < 2 else fibonacci(n - 2) + fibonacci(n - 1)\n",
    "except UnboundLocalError as error:\n",
    "    print(error)"
   ]
  },
  {
   "cell_type": "markdown",
   "metadata": {},
   "source": [
    "Fixing this makes it work:"
   ]
  },
  {
   "cell_type": "code",
   "execution_count": 70,
   "metadata": {},
   "outputs": [],
   "source": [
    "def peek_arg(func):\n",
    "    \"\"\"Decorator wrapping a unary function and showing calls to it.\"\"\"\n",
    "    # @give_metadata_from(func)   <-- will replace @give_metadata_from_func\n",
    "\n",
    "    def give_metadata_from_func(wrapper):\n",
    "        wrapper.__module__ = func.__module__\n",
    "        wrapper.__name__ = func.__name__\n",
    "        wrapper.__qualname__ = func.__qualname__\n",
    "        wrapper.__doc__ = func.__doc__\n",
    "        wrapper.__annotations__ = func.__annotations__\n",
    "        return wrapper\n",
    "\n",
    "    @give_metadata_from_func\n",
    "    def wrapper(arg):\n",
    "        print(f'{func.__name__}({arg})')\n",
    "        return func(arg)\n",
    "    \n",
    "    give_metadata_from_func(wrapper)\n",
    "    \n",
    "    return wrapper"
   ]
  },
  {
   "cell_type": "code",
   "execution_count": 71,
   "metadata": {},
   "outputs": [],
   "source": [
    "@peek_arg\n",
    "def fibonacci(n):\n",
    "    \"\"\"Slowly compute the Fibonacci number F(n) by simple recursion.\"\"\"\n",
    "    return n if n < 2 else fibonacci(n - 2) + fibonacci(n - 1)"
   ]
  },
  {
   "cell_type": "code",
   "execution_count": 72,
   "metadata": {},
   "outputs": [
    {
     "name": "stdout",
     "output_type": "stream",
     "text": [
      "fibonacci(3)\n",
      "fibonacci(1)\n",
      "fibonacci(2)\n",
      "fibonacci(0)\n",
      "fibonacci(1)\n"
     ]
    },
    {
     "data": {
      "text/plain": [
       "2"
      ]
     },
     "execution_count": 72,
     "metadata": {},
     "output_type": "execute_result"
    }
   ],
   "source": [
    "fibonacci(3)"
   ]
  },
  {
   "cell_type": "markdown",
   "metadata": {},
   "source": [
    "We've created an abstraction, `give_metadata_from_func` that allows `wrapper` to vary. Now we need to create an abstraction, `give_metadata_from`, over that, to allow `func` to vary."
   ]
  },
  {
   "cell_type": "markdown",
   "metadata": {},
   "source": []
  }
 ],
 "metadata": {
  "kernelspec": {
   "display_name": "Python 3 (ipykernel)",
   "language": "python",
   "name": "python3"
  },
  "language_info": {
   "codemirror_mode": {
    "name": "ipython",
    "version": 3
   },
   "file_extension": ".py",
   "mimetype": "text/x-python",
   "name": "python",
   "nbconvert_exporter": "python",
   "pygments_lexer": "ipython3",
   "version": "3.11.1"
  },
  "vscode": {
   "interpreter": {
    "hash": "7a7b42f825731c4d935f8bf006655acf84b53c1352303d13bb9aec5cb8623f97"
   }
  }
 },
 "nbformat": 4,
 "nbformat_minor": 4
}
