{
 "cells": [
  {
   "cell_type": "markdown",
   "id": "e41c5b68-2408-4547-aee4-ceeb0ec09a47",
   "metadata": {},
   "source": [
    "# Equality and identity in Python"
   ]
  },
  {
   "cell_type": "code",
   "execution_count": 1,
   "id": "53d98f99-1828-43c3-978c-f84bf9d5e64f",
   "metadata": {},
   "outputs": [],
   "source": [
    "a = [10, 20, 30]"
   ]
  },
  {
   "cell_type": "code",
   "execution_count": 2,
   "id": "96779a54-3b4a-49c2-89e5-24da5669e587",
   "metadata": {},
   "outputs": [],
   "source": [
    "# Create a variable b that refers to the same object as a.\n",
    "b = a"
   ]
  },
  {
   "cell_type": "code",
   "execution_count": 3,
   "id": "12362a5d-8fec-43c7-bc18-bd9c222272f1",
   "metadata": {},
   "outputs": [
    {
     "data": {
      "text/plain": [
       "True"
      ]
     },
     "execution_count": 3,
     "metadata": {},
     "output_type": "execute_result"
    }
   ],
   "source": [
    "# Show that a and b refer to the same object.\n",
    "b is a"
   ]
  },
  {
   "cell_type": "code",
   "execution_count": 4,
   "id": "219b5f87-f284-48c1-ae48-d0b929baf159",
   "metadata": {},
   "outputs": [],
   "source": [
    "# Create a variable c that is equal to a (and thus also b) but is a different object.\n",
    "c = [10, 20, 30]"
   ]
  },
  {
   "cell_type": "code",
   "execution_count": 5,
   "id": "c7071356-7f27-4e54-afbf-ca3f30243f69",
   "metadata": {},
   "outputs": [
    {
     "data": {
      "text/plain": [
       "False"
      ]
     },
     "execution_count": 5,
     "metadata": {},
     "output_type": "execute_result"
    }
   ],
   "source": [
    "c is b"
   ]
  },
  {
   "cell_type": "code",
   "execution_count": 6,
   "id": "94c0351e-3a0c-4cdd-8404-6f37913a817b",
   "metadata": {},
   "outputs": [
    {
     "data": {
      "text/plain": [
       "False"
      ]
     },
     "execution_count": 6,
     "metadata": {},
     "output_type": "execute_result"
    }
   ],
   "source": [
    "c is a"
   ]
  },
  {
   "cell_type": "code",
   "execution_count": 7,
   "id": "b3421486-dde6-45e3-8102-c46194ebec58",
   "metadata": {},
   "outputs": [
    {
     "data": {
      "text/plain": [
       "True"
      ]
     },
     "execution_count": 7,
     "metadata": {},
     "output_type": "execute_result"
    }
   ],
   "source": [
    "c == a"
   ]
  },
  {
   "cell_type": "code",
   "execution_count": 8,
   "id": "1e4914b9-9e0e-4b33-9fd4-fa2d099f5109",
   "metadata": {},
   "outputs": [
    {
     "data": {
      "text/plain": [
       "True"
      ]
     },
     "execution_count": 8,
     "metadata": {},
     "output_type": "execute_result"
    }
   ],
   "source": [
    "c == b"
   ]
  },
  {
   "cell_type": "code",
   "execution_count": 9,
   "id": "9ed587d4-3b72-4ead-a679-7b858790c6ea",
   "metadata": {},
   "outputs": [],
   "source": [
    "# Modify a. Show the modification through b. Show that it is not made to c.\n",
    "a.append(40)"
   ]
  },
  {
   "cell_type": "code",
   "execution_count": 10,
   "id": "980f015a-5e2a-46c1-bfcd-92617bf2ef23",
   "metadata": {},
   "outputs": [
    {
     "data": {
      "text/plain": [
       "[10, 20, 30, 40]"
      ]
     },
     "execution_count": 10,
     "metadata": {},
     "output_type": "execute_result"
    }
   ],
   "source": [
    "b"
   ]
  },
  {
   "cell_type": "code",
   "execution_count": 11,
   "id": "e6d6fba1-45a5-4d7a-b96a-f5ec82abbd5d",
   "metadata": {},
   "outputs": [
    {
     "data": {
      "text/plain": [
       "[10, 20, 30]"
      ]
     },
     "execution_count": 11,
     "metadata": {},
     "output_type": "execute_result"
    }
   ],
   "source": [
    "c"
   ]
  },
  {
   "cell_type": "markdown",
   "id": "800ffb6e-1182-47c3-8223-4705efb2c45e",
   "metadata": {},
   "source": [
    "### Value vs. reference equality: `==` vs. `is`"
   ]
  },
  {
   "cell_type": "markdown",
   "id": "d01ad6b3-4651-47db-bfd9-3b0c826e4918",
   "metadata": {},
   "source": [
    "The `==` (and `!=`) operator checks value equality, which is also called equality."
   ]
  },
  {
   "cell_type": "markdown",
   "id": "9bf78599-ecd8-4830-ada0-985096dc31ea",
   "metadata": {},
   "source": [
    "The `is` (and `is not`) operator checks reference equality, which is also called identity.\n",
    "\n",
    "Expressions are reference-equal when they refer to the same object."
   ]
  },
  {
   "cell_type": "markdown",
   "id": "4109c4c9-aad0-46cd-bdee-759d646ec102",
   "metadata": {},
   "source": [
    "### How a type implements `==`: structural vs. reference vs. other equality"
   ]
  },
  {
   "cell_type": "code",
   "execution_count": 12,
   "id": "2b097b38-0fbd-48a0-b666-5f3c7c2ff504",
   "metadata": {},
   "outputs": [],
   "source": [
    "xs = (4, 8, 1, 4, 8, 2, 4, 6)"
   ]
  },
  {
   "cell_type": "code",
   "execution_count": 13,
   "id": "4e8845ca-8b99-4539-bdb6-ed6eba73847f",
   "metadata": {},
   "outputs": [
    {
     "data": {
      "text/plain": [
       "3"
      ]
     },
     "execution_count": 13,
     "metadata": {},
     "output_type": "execute_result"
    }
   ],
   "source": [
    "xs.count(4)"
   ]
  },
  {
   "cell_type": "code",
   "execution_count": 14,
   "id": "e4bb1599-72f3-4d86-9fa7-2a1c201a40e9",
   "metadata": {},
   "outputs": [],
   "source": [
    "ys = (4, 8, 1, 4, 8, 2, 4, 6)"
   ]
  },
  {
   "cell_type": "code",
   "execution_count": 15,
   "id": "89fac571-3d74-47d0-a350-360408283fb6",
   "metadata": {},
   "outputs": [
    {
     "data": {
      "text/plain": [
       "False"
      ]
     },
     "execution_count": 15,
     "metadata": {},
     "output_type": "execute_result"
    }
   ],
   "source": [
    "xs is ys "
   ]
  },
  {
   "cell_type": "code",
   "execution_count": 16,
   "id": "f31567ef-08a9-4e21-a29a-2fdf0e191107",
   "metadata": {},
   "outputs": [
    {
     "data": {
      "text/plain": [
       "True"
      ]
     },
     "execution_count": 16,
     "metadata": {},
     "output_type": "execute_result"
    }
   ],
   "source": [
    "tuple(ys) is ys  # Allowed to be True or False. (Will be True.)"
   ]
  },
  {
   "cell_type": "code",
   "execution_count": 17,
   "id": "20eb9a16-ee2d-4f19-8a37-ba0b5b045ff3",
   "metadata": {},
   "outputs": [
    {
     "data": {
      "text/plain": [
       "False"
      ]
     },
     "execution_count": 17,
     "metadata": {},
     "output_type": "execute_result"
    }
   ],
   "source": [
    "list(a) is a  # Required to be False."
   ]
  },
  {
   "cell_type": "code",
   "execution_count": 18,
   "id": "49a6bfc6-1da2-43ad-8229-e9d883099d15",
   "metadata": {},
   "outputs": [
    {
     "data": {
      "text/plain": [
       "True"
      ]
     },
     "execution_count": 18,
     "metadata": {},
     "output_type": "execute_result"
    }
   ],
   "source": [
    "ys == xs"
   ]
  },
  {
   "cell_type": "code",
   "execution_count": 19,
   "id": "6cb79b0d-0b29-4682-b11d-f74981fa3ff9",
   "metadata": {},
   "outputs": [],
   "source": [
    "f = xs.count\n",
    "g = ys.count\n",
    "h = ys.count"
   ]
  },
  {
   "cell_type": "code",
   "execution_count": 20,
   "id": "83e66ec2-81cf-442a-aece-087b9c4cd620",
   "metadata": {},
   "outputs": [
    {
     "data": {
      "text/plain": [
       "False"
      ]
     },
     "execution_count": 20,
     "metadata": {},
     "output_type": "execute_result"
    }
   ],
   "source": [
    "g is h "
   ]
  },
  {
   "cell_type": "code",
   "execution_count": 21,
   "id": "c20b8168-0efc-4a21-b5e5-04648c90d4ca",
   "metadata": {},
   "outputs": [
    {
     "data": {
      "text/plain": [
       "True"
      ]
     },
     "execution_count": 21,
     "metadata": {},
     "output_type": "execute_result"
    }
   ],
   "source": [
    "g == h"
   ]
  },
  {
   "cell_type": "code",
   "execution_count": 22,
   "id": "c06308cc-1462-4e1e-a844-e9f77307845a",
   "metadata": {},
   "outputs": [
    {
     "data": {
      "text/plain": [
       "False"
      ]
     },
     "execution_count": 22,
     "metadata": {},
     "output_type": "execute_result"
    }
   ],
   "source": [
    "f is g"
   ]
  },
  {
   "cell_type": "code",
   "execution_count": 23,
   "id": "8b9c848b-5652-430c-ae92-8660d3d03480",
   "metadata": {},
   "outputs": [
    {
     "data": {
      "text/plain": [
       "False"
      ]
     },
     "execution_count": 23,
     "metadata": {},
     "output_type": "execute_result"
    }
   ],
   "source": [
    "f == g"
   ]
  },
  {
   "cell_type": "code",
   "execution_count": 24,
   "id": "6da510de-b700-4c7b-9bb7-a25dd88c066e",
   "metadata": {},
   "outputs": [],
   "source": [
    "# Write a function that takes a list as an argument and appends something to it.\n",
    "def applist(inlist, avalue):\n",
    "    inlist.append(avalue)"
   ]
  },
  {
   "cell_type": "code",
   "execution_count": 25,
   "id": "a5462e79-8bb4-4c1a-9f81-0aead81d5ab3",
   "metadata": {},
   "outputs": [
    {
     "data": {
      "text/plain": [
       "[10, 20, 30, 40]"
      ]
     },
     "execution_count": 25,
     "metadata": {},
     "output_type": "execute_result"
    }
   ],
   "source": [
    "applist(c, 40)\n",
    "c"
   ]
  },
  {
   "cell_type": "code",
   "execution_count": 26,
   "id": "f21b7b87-c93c-4517-8dea-ef9d1a90773b",
   "metadata": {},
   "outputs": [],
   "source": [
    "# Write a function that takes a list as an argument and appends something to it,\n",
    "# and returns the modified list. But make the list being appended to optional,\n",
    "# and if the user does not pass that argument, use an empty list instead.\n",
    "def applist(avalue, inlist = []):\n",
    "    inlist.append(avalue)\n",
    "    return inlist"
   ]
  },
  {
   "cell_type": "code",
   "execution_count": 27,
   "id": "d3358bf4-f8c1-4839-a8f2-67c467debc60",
   "metadata": {},
   "outputs": [],
   "source": [
    "l = [0, 10, 20, 30]"
   ]
  },
  {
   "cell_type": "code",
   "execution_count": 28,
   "id": "74cf590b-0a6e-43bb-8e11-22b8b4614166",
   "metadata": {},
   "outputs": [],
   "source": [
    "j = applist(20)"
   ]
  },
  {
   "cell_type": "code",
   "execution_count": 29,
   "id": "3f735f6f-503c-46e2-8b4c-fd6128bec720",
   "metadata": {},
   "outputs": [
    {
     "data": {
      "text/plain": [
       "[20]"
      ]
     },
     "execution_count": 29,
     "metadata": {},
     "output_type": "execute_result"
    }
   ],
   "source": [
    "j"
   ]
  },
  {
   "cell_type": "code",
   "execution_count": 30,
   "id": "50c54b25-8777-4518-90bd-188034b87095",
   "metadata": {},
   "outputs": [
    {
     "data": {
      "text/plain": [
       "[20, 20]"
      ]
     },
     "execution_count": 30,
     "metadata": {},
     "output_type": "execute_result"
    }
   ],
   "source": [
    "# What happens when you call applist again without passing a list argument?\n",
    "applist(20)"
   ]
  },
  {
   "cell_type": "code",
   "execution_count": 31,
   "id": "de26d39a-7626-4bfd-9f93-a9f758ac8fc8",
   "metadata": {},
   "outputs": [
    {
     "data": {
      "text/plain": [
       "[20, 20, 50]"
      ]
     },
     "execution_count": 31,
     "metadata": {},
     "output_type": "execute_result"
    }
   ],
   "source": [
    "applist(50)"
   ]
  },
  {
   "cell_type": "code",
   "execution_count": 32,
   "id": "863731e1-76c6-4147-b2a0-221f4a4f989b",
   "metadata": {},
   "outputs": [],
   "source": [
    "# Because this behavior is very rarely what one wants, mutable objects should\n",
    "# basically never be used as default argument values.\n",
    "#\n",
    "# ...What can you do instead?\n",
    "\n",
    "# One way might be...\n",
    "def applist(avalue, *args):\n",
    "    match args:\n",
    "        case []:\n",
    "            inlist = []\n",
    "        case [inlist]:\n",
    "            pass\n",
    "        case _:\n",
    "            raise TypeError('you should pass 0 or 1 inlist argument')\n",
    "    \n",
    "    inlist.append(avalue)\n",
    "    return inlist"
   ]
  },
  {
   "cell_type": "code",
   "execution_count": 33,
   "id": "06a29311-7037-4205-a50e-f37cf2bccb2f",
   "metadata": {},
   "outputs": [
    {
     "data": {
      "text/plain": [
       "[10, 20, 30, 40, 50]"
      ]
     },
     "execution_count": 33,
     "metadata": {},
     "output_type": "execute_result"
    }
   ],
   "source": [
    "zs = [10, 20, 30, 40]\n",
    "applist(50, zs)"
   ]
  },
  {
   "cell_type": "code",
   "execution_count": 34,
   "id": "8bb0211e-88e9-4ea8-970f-3f5394baf1ae",
   "metadata": {},
   "outputs": [
    {
     "data": {
      "text/plain": [
       "[10, 20, 30, 40, 50, 60]"
      ]
     },
     "execution_count": 34,
     "metadata": {},
     "output_type": "execute_result"
    }
   ],
   "source": [
    "applist(60, zs)"
   ]
  },
  {
   "cell_type": "code",
   "execution_count": 35,
   "id": "c385a76f-61d5-4a70-a187-3a183d190f12",
   "metadata": {},
   "outputs": [
    {
     "data": {
      "text/plain": [
       "['foo', 'bar', 'baz']"
      ]
     },
     "execution_count": 35,
     "metadata": {},
     "output_type": "execute_result"
    }
   ],
   "source": [
    "applist('baz', ['foo', 'bar'])"
   ]
  },
  {
   "cell_type": "code",
   "execution_count": 36,
   "id": "dd843389-ffcf-44f3-8939-f224c41e8c68",
   "metadata": {},
   "outputs": [
    {
     "data": {
      "text/plain": [
       "[42]"
      ]
     },
     "execution_count": 36,
     "metadata": {},
     "output_type": "execute_result"
    }
   ],
   "source": [
    "applist(42)"
   ]
  },
  {
   "cell_type": "code",
   "execution_count": 37,
   "id": "0ddaa427-d399-4db6-b776-f10c20adee98",
   "metadata": {},
   "outputs": [],
   "source": [
    "# A better way is...\n",
    "def applist(avalue, inlist = None):\n",
    "    if inlist is None:\n",
    "        inlist = []\n",
    "    inlist.append(avalue)\n",
    "    return inlist"
   ]
  },
  {
   "cell_type": "code",
   "execution_count": 38,
   "id": "23c4f37e-4bb8-445c-a788-1fe2618cd52b",
   "metadata": {},
   "outputs": [
    {
     "data": {
      "text/plain": [
       "[10, 20, 30, 40, 50]"
      ]
     },
     "execution_count": 38,
     "metadata": {},
     "output_type": "execute_result"
    }
   ],
   "source": [
    "zs = [10, 20, 30, 40]\n",
    "applist(50, zs)"
   ]
  },
  {
   "cell_type": "code",
   "execution_count": 39,
   "id": "6e68b8ed-fecb-4a7a-b885-6fbb0c6ad842",
   "metadata": {},
   "outputs": [
    {
     "data": {
      "text/plain": [
       "[10, 20, 30, 40, 50, 60]"
      ]
     },
     "execution_count": 39,
     "metadata": {},
     "output_type": "execute_result"
    }
   ],
   "source": [
    "applist(60, zs)"
   ]
  },
  {
   "cell_type": "code",
   "execution_count": 40,
   "id": "cd46111f-cd28-43da-baeb-43ef2fc45880",
   "metadata": {},
   "outputs": [
    {
     "data": {
      "text/plain": [
       "['foo', 'bar', 'baz']"
      ]
     },
     "execution_count": 40,
     "metadata": {},
     "output_type": "execute_result"
    }
   ],
   "source": [
    "applist('baz', ['foo', 'bar'])"
   ]
  },
  {
   "cell_type": "code",
   "execution_count": 41,
   "id": "5ce67c29-e7f1-4dc7-98b8-a17d84cd27b0",
   "metadata": {},
   "outputs": [
    {
     "data": {
      "text/plain": [
       "[42]"
      ]
     },
     "execution_count": 41,
     "metadata": {},
     "output_type": "execute_result"
    }
   ],
   "source": [
    "applist(42)  # Running this multiple times gives the same result."
   ]
  },
  {
   "cell_type": "code",
   "execution_count": 42,
   "id": "5b1b02a8-1984-42c1-b51c-a4101fb56477",
   "metadata": {},
   "outputs": [],
   "source": [
    "a = [10, 20, 30, 40, 50]\n",
    "it = iter(a)"
   ]
  },
  {
   "cell_type": "code",
   "execution_count": 43,
   "id": "17a9af5e-bca8-4a6b-b5af-4494cde0b028",
   "metadata": {},
   "outputs": [
    {
     "data": {
      "text/plain": [
       "134292209836"
      ]
     },
     "execution_count": 43,
     "metadata": {},
     "output_type": "execute_result"
    }
   ],
   "source": [
    "hash(it)"
   ]
  },
  {
   "cell_type": "code",
   "execution_count": 44,
   "id": "c542a530-2b2e-4dca-824b-5faf31769fd0",
   "metadata": {},
   "outputs": [
    {
     "data": {
      "text/plain": [
       "10"
      ]
     },
     "execution_count": 44,
     "metadata": {},
     "output_type": "execute_result"
    }
   ],
   "source": [
    "next(it)"
   ]
  },
  {
   "cell_type": "code",
   "execution_count": 45,
   "id": "07aeb5ea-03b0-44b7-a372-a7e5370e368d",
   "metadata": {},
   "outputs": [
    {
     "data": {
      "text/plain": [
       "20"
      ]
     },
     "execution_count": 45,
     "metadata": {},
     "output_type": "execute_result"
    }
   ],
   "source": [
    "next(it)"
   ]
  },
  {
   "cell_type": "code",
   "execution_count": 46,
   "id": "e74b932a-2c0f-4a01-a315-af87a7f656ef",
   "metadata": {},
   "outputs": [],
   "source": [
    "import itertools"
   ]
  },
  {
   "cell_type": "code",
   "execution_count": 47,
   "id": "e819c385-0ea2-42a0-99b1-a2860153c58e",
   "metadata": {},
   "outputs": [
    {
     "name": "stdout",
     "output_type": "stream",
     "text": [
      "(10, 20)\n",
      "30\n"
     ]
    }
   ],
   "source": [
    "def next_two(iterator=itertools.count()):  # Bad.\n",
    "    \"\"\"\n",
    "    Return a tuple of the next two values of an iterator.\n",
    "    \n",
    "    If called with no arguments, uses an itertools.count iterator.\n",
    "    \"\"\"\n",
    "    first = next(iterator)\n",
    "    second = next(iterator)\n",
    "    return first, second\n",
    "\n",
    "b = [10, 20, 30, 40, 50]\n",
    "it = iter(b)\n",
    "print(next_two(it))\n",
    "print(next(it))"
   ]
  },
  {
   "cell_type": "code",
   "execution_count": 48,
   "id": "d7323f81-def3-4ae7-8d88-dc47b15303b1",
   "metadata": {},
   "outputs": [
    {
     "data": {
      "text/plain": [
       "(0, 1)"
      ]
     },
     "execution_count": 48,
     "metadata": {},
     "output_type": "execute_result"
    }
   ],
   "source": [
    "next_two()"
   ]
  },
  {
   "cell_type": "code",
   "execution_count": 49,
   "id": "952a22fa-c4ac-433c-a66c-dade5bbcd844",
   "metadata": {},
   "outputs": [
    {
     "data": {
      "text/plain": [
       "(2, 3)"
      ]
     },
     "execution_count": 49,
     "metadata": {},
     "output_type": "execute_result"
    }
   ],
   "source": [
    "next_two()"
   ]
  },
  {
   "cell_type": "code",
   "execution_count": 50,
   "id": "999ce104-a145-4f84-81d2-e1c93e04281d",
   "metadata": {},
   "outputs": [
    {
     "name": "stdout",
     "output_type": "stream",
     "text": [
      "(10, 20)\n",
      "30\n"
     ]
    }
   ],
   "source": [
    "def next_two(iterator=None):  # Good.\n",
    "    \"\"\"\n",
    "    Return a tuple of the next two values of an iterator.\n",
    "    \n",
    "    If called with no arguments, uses an itertools.count iterator.\n",
    "    \"\"\"\n",
    "    if iterator is None:\n",
    "        iterator = itertools.count()\n",
    "    first = next(iterator)\n",
    "    second = next(iterator)\n",
    "    return first, second\n",
    "\n",
    "\n",
    "b = [10, 20, 30, 40, 50]\n",
    "it = iter(b)\n",
    "print(next_two(it))\n",
    "print(next(it))"
   ]
  },
  {
   "cell_type": "code",
   "execution_count": 51,
   "id": "658ee1c4-2bc5-4c15-86d1-d82ca1b04049",
   "metadata": {},
   "outputs": [
    {
     "data": {
      "text/plain": [
       "(0, 1)"
      ]
     },
     "execution_count": 51,
     "metadata": {},
     "output_type": "execute_result"
    }
   ],
   "source": [
    "next_two()"
   ]
  },
  {
   "cell_type": "code",
   "execution_count": 52,
   "id": "eea31c0b-f1ca-4fb7-8a51-655ec224917f",
   "metadata": {},
   "outputs": [
    {
     "data": {
      "text/plain": [
       "False"
      ]
     },
     "execution_count": 52,
     "metadata": {},
     "output_type": "execute_result"
    }
   ],
   "source": [
    "itertools.count() == itertools.count()"
   ]
  },
  {
   "cell_type": "code",
   "execution_count": 53,
   "id": "835e0665-2e7a-40ec-82e7-5a290509ceee",
   "metadata": {},
   "outputs": [
    {
     "data": {
      "text/plain": [
       "type"
      ]
     },
     "execution_count": 53,
     "metadata": {},
     "output_type": "execute_result"
    }
   ],
   "source": [
    "type(itertools.count)"
   ]
  },
  {
   "cell_type": "code",
   "execution_count": 54,
   "id": "339c1c45-37c7-4345-84c9-0e56a11c4e84",
   "metadata": {},
   "outputs": [
    {
     "data": {
      "text/plain": [
       "itertools.count"
      ]
     },
     "execution_count": 54,
     "metadata": {},
     "output_type": "execute_result"
    }
   ],
   "source": [
    "type(itertools.count())"
   ]
  },
  {
   "cell_type": "code",
   "execution_count": 55,
   "id": "f83acec1-b5a7-454b-a5bc-70a7ebde7cf4",
   "metadata": {},
   "outputs": [
    {
     "data": {
      "text/plain": [
       "[0, 1, 2, 3, 4, 5, 6, 7, 8, 9]"
      ]
     },
     "execution_count": 55,
     "metadata": {},
     "output_type": "execute_result"
    }
   ],
   "source": [
    "# Review of list concatenation.\n",
    "a = [0, 1, 2, 3, 4]\n",
    "b = [5, 6, 7, 8, 9]\n",
    "c = a + b\n",
    "c"
   ]
  },
  {
   "cell_type": "code",
   "execution_count": 56,
   "id": "93028afa-fe2e-46d6-9360-3d1347299e95",
   "metadata": {},
   "outputs": [
    {
     "data": {
      "text/plain": [
       "[0, 1, 2, 3, 4, 0, 1, 2, 3, 4, 0, 1, 2, 3, 4]"
      ]
     },
     "execution_count": 56,
     "metadata": {},
     "output_type": "execute_result"
    }
   ],
   "source": [
    "# You can also multiply a list by a number, to repeat the list.\n",
    "a * 3"
   ]
  },
  {
   "cell_type": "code",
   "execution_count": 57,
   "id": "e4293fab-f0fe-4a1f-9698-68bcbb61be97",
   "metadata": {},
   "outputs": [],
   "source": [
    "# Make a 12 item list, where all items are the number 7.\n",
    "d = [7] * 12"
   ]
  },
  {
   "cell_type": "code",
   "execution_count": 58,
   "id": "500a96b4-9123-4213-beeb-f028e8a25f6e",
   "metadata": {},
   "outputs": [
    {
     "data": {
      "text/plain": [
       "[7, 7, 7, 7, 7, 7, 7, 7, 7, 7, 7, 7]"
      ]
     },
     "execution_count": 58,
     "metadata": {},
     "output_type": "execute_result"
    }
   ],
   "source": [
    "d"
   ]
  },
  {
   "cell_type": "code",
   "execution_count": 59,
   "id": "f20b8ccf-a995-484c-bc50-1fc75fa3399f",
   "metadata": {},
   "outputs": [],
   "source": [
    "# This also works with tuples and strings."
   ]
  },
  {
   "cell_type": "code",
   "execution_count": 60,
   "id": "e645a27e-9b86-4016-bc64-f50e09ef95dc",
   "metadata": {},
   "outputs": [
    {
     "data": {
      "text/plain": [
       "[[3, 19],\n",
       " [3, 19],\n",
       " [3, 19],\n",
       " [3, 19],\n",
       " [3, 19],\n",
       " [3, 19],\n",
       " [3, 19],\n",
       " [3, 19],\n",
       " [3, 19],\n",
       " [3, 19]]"
      ]
     },
     "execution_count": 60,
     "metadata": {},
     "output_type": "execute_result"
    }
   ],
   "source": [
    "# Suppose we are building a jagged table. It is a list of lists.\n",
    "# It has 10 rows. All of them start out as an empty list.\n",
    "# After creating this list of empty lists, add 3 to one of the\n",
    "# rows (you choose) and 19 to another of them (you choose).\n",
    "rows = [[]] * 10\n",
    "rows[3].append(3)\n",
    "rows[9].append(19)\n",
    "rows"
   ]
  },
  {
   "cell_type": "code",
   "execution_count": 61,
   "id": "eeacdd3b-5b72-4a91-abe7-da5f1c4338bf",
   "metadata": {},
   "outputs": [
    {
     "data": {
      "text/plain": [
       "True"
      ]
     },
     "execution_count": 61,
     "metadata": {},
     "output_type": "execute_result"
    }
   ],
   "source": [
    "rows[3] is rows[9]"
   ]
  },
  {
   "cell_type": "code",
   "execution_count": 62,
   "id": "4f3b153c-a323-4a7a-a357-fc7bfad29c9c",
   "metadata": {},
   "outputs": [
    {
     "data": {
      "text/plain": [
       "[[], [], [], [3], [], [], [], [], [], [19]]"
      ]
     },
     "execution_count": 62,
     "metadata": {},
     "output_type": "execute_result"
    }
   ],
   "source": [
    "rows = [[] for _ in range(10)]\n",
    "rows\n",
    "rows[3].append(3)\n",
    "rows[9].append(19)\n",
    "rows"
   ]
  },
  {
   "cell_type": "code",
   "execution_count": 63,
   "id": "93460b73-90d9-40bd-8af2-3c52ce95f94b",
   "metadata": {},
   "outputs": [
    {
     "data": {
      "text/plain": [
       "[[], [], [], [3], [], [], [], [], [], [19]]"
      ]
     },
     "execution_count": 63,
     "metadata": {},
     "output_type": "execute_result"
    }
   ],
   "source": [
    "_"
   ]
  },
  {
   "cell_type": "code",
   "execution_count": 64,
   "id": "1ae30411-9b41-4adc-8992-48339a96c433",
   "metadata": {},
   "outputs": [
    {
     "data": {
      "text/plain": [
       "False"
      ]
     },
     "execution_count": 64,
     "metadata": {},
     "output_type": "execute_result"
    }
   ],
   "source": [
    "a = [10, 20, 30]\n",
    "b = [10, 20, 30]\n",
    "a is b"
   ]
  },
  {
   "cell_type": "code",
   "execution_count": 65,
   "id": "6ff4147c-22ba-4b67-8bfe-da8af95a1ce7",
   "metadata": {},
   "outputs": [
    {
     "data": {
      "text/plain": [
       "True"
      ]
     },
     "execution_count": 65,
     "metadata": {},
     "output_type": "execute_result"
    }
   ],
   "source": [
    "a == b"
   ]
  },
  {
   "cell_type": "code",
   "execution_count": 66,
   "id": "c85d3042-5a88-444a-ac0b-f780806e1fae",
   "metadata": {},
   "outputs": [
    {
     "data": {
      "text/plain": [
       "False"
      ]
     },
     "execution_count": 66,
     "metadata": {},
     "output_type": "execute_result"
    }
   ],
   "source": [
    "a = [10, [20, 30]]\n",
    "b = [10, [20, 30]]\n",
    "a is b"
   ]
  },
  {
   "cell_type": "code",
   "execution_count": 67,
   "id": "96384b61-7d9e-405c-8940-48bf59107983",
   "metadata": {},
   "outputs": [
    {
     "data": {
      "text/plain": [
       "True"
      ]
     },
     "execution_count": 67,
     "metadata": {},
     "output_type": "execute_result"
    }
   ],
   "source": [
    "a == b"
   ]
  },
  {
   "cell_type": "code",
   "execution_count": 68,
   "id": "b7328460-7577-4bac-8a95-36a7c2008f8c",
   "metadata": {},
   "outputs": [
    {
     "data": {
      "text/plain": [
       "True"
      ]
     },
     "execution_count": 68,
     "metadata": {},
     "output_type": "execute_result"
    }
   ],
   "source": [
    "(10, 20, 30) == (10, 20, 30)"
   ]
  },
  {
   "cell_type": "code",
   "execution_count": 69,
   "id": "502aed2b-ca48-4d94-b4d8-14422fa46bfb",
   "metadata": {},
   "outputs": [
    {
     "data": {
      "text/plain": [
       "True"
      ]
     },
     "execution_count": 69,
     "metadata": {},
     "output_type": "execute_result"
    }
   ],
   "source": [
    "() == ()  # Guaranteed."
   ]
  },
  {
   "cell_type": "code",
   "execution_count": 70,
   "id": "c4e659e6-23e5-4aa9-816b-b1427072630d",
   "metadata": {},
   "outputs": [
    {
     "name": "stderr",
     "output_type": "stream",
     "text": [
      "<>:1: SyntaxWarning: \"is\" with a literal. Did you mean \"==\"?\n",
      "<>:1: SyntaxWarning: \"is\" with a literal. Did you mean \"==\"?\n",
      "C:\\Users\\User\\AppData\\Local\\Temp\\ipykernel_13820\\1942471289.py:1: SyntaxWarning: \"is\" with a literal. Did you mean \"==\"?\n",
      "  () is ()  # Not guaranteed. Allowed since tuples are immutable.\n"
     ]
    },
    {
     "data": {
      "text/plain": [
       "True"
      ]
     },
     "execution_count": 70,
     "metadata": {},
     "output_type": "execute_result"
    }
   ],
   "source": [
    "() is ()  # Not guaranteed. Allowed since tuples are immutable."
   ]
  },
  {
   "cell_type": "code",
   "execution_count": 71,
   "id": "c164a928-a764-4d20-bbeb-edc6db44f73b",
   "metadata": {},
   "outputs": [
    {
     "data": {
      "text/plain": [
       "True"
      ]
     },
     "execution_count": 71,
     "metadata": {},
     "output_type": "execute_result"
    }
   ],
   "source": [
    "[] == []  # Guaranteed."
   ]
  },
  {
   "cell_type": "code",
   "execution_count": 72,
   "id": "d74915a5-001b-4412-b45c-a216c4b50658",
   "metadata": {},
   "outputs": [
    {
     "data": {
      "text/plain": [
       "False"
      ]
     },
     "execution_count": 72,
     "metadata": {},
     "output_type": "execute_result"
    }
   ],
   "source": [
    "[] is []  # Guaranteed."
   ]
  },
  {
   "cell_type": "code",
   "execution_count": 73,
   "id": "e440d366-60a5-4eda-9702-8f5cd3511cfb",
   "metadata": {},
   "outputs": [
    {
     "data": {
      "text/plain": [
       "[10, [20, 30]]"
      ]
     },
     "execution_count": 73,
     "metadata": {},
     "output_type": "execute_result"
    }
   ],
   "source": [
    "a"
   ]
  },
  {
   "cell_type": "code",
   "execution_count": 74,
   "id": "0bafc004-635e-4e22-8b06-df46a39b457f",
   "metadata": {},
   "outputs": [
    {
     "data": {
      "text/plain": [
       "[10, [20, 30]]"
      ]
     },
     "execution_count": 74,
     "metadata": {},
     "output_type": "execute_result"
    }
   ],
   "source": [
    "b"
   ]
  },
  {
   "cell_type": "code",
   "execution_count": 75,
   "id": "a3cde339-3ad5-42fc-bc26-f5c94c863dfe",
   "metadata": {},
   "outputs": [],
   "source": [
    "c = b"
   ]
  },
  {
   "cell_type": "code",
   "execution_count": 76,
   "id": "159716a1-4674-484b-b73b-ce73ed161d3b",
   "metadata": {},
   "outputs": [
    {
     "data": {
      "text/plain": [
       "True"
      ]
     },
     "execution_count": 76,
     "metadata": {},
     "output_type": "execute_result"
    }
   ],
   "source": [
    "a == b"
   ]
  },
  {
   "cell_type": "code",
   "execution_count": 77,
   "id": "83ae2dc7-671b-433a-b048-a041d5804344",
   "metadata": {},
   "outputs": [
    {
     "data": {
      "text/plain": [
       "True"
      ]
     },
     "execution_count": 77,
     "metadata": {},
     "output_type": "execute_result"
    }
   ],
   "source": [
    "a == c"
   ]
  },
  {
   "cell_type": "code",
   "execution_count": 78,
   "id": "7c3114da-b9c9-405e-b947-4663c05555e9",
   "metadata": {},
   "outputs": [
    {
     "data": {
      "text/plain": [
       "False"
      ]
     },
     "execution_count": 78,
     "metadata": {},
     "output_type": "execute_result"
    }
   ],
   "source": [
    "a is b"
   ]
  },
  {
   "cell_type": "code",
   "execution_count": 79,
   "id": "b02611af-2070-4423-ae17-3879f2c98765",
   "metadata": {},
   "outputs": [
    {
     "data": {
      "text/plain": [
       "True"
      ]
     },
     "execution_count": 79,
     "metadata": {},
     "output_type": "execute_result"
    }
   ],
   "source": [
    "b is c"
   ]
  },
  {
   "cell_type": "code",
   "execution_count": 80,
   "id": "debe9e65-5c6f-45de-80e0-dd8e4920df7b",
   "metadata": {},
   "outputs": [
    {
     "data": {
      "text/plain": [
       "False"
      ]
     },
     "execution_count": 80,
     "metadata": {},
     "output_type": "execute_result"
    }
   ],
   "source": [
    "id(a) == id(b)  # Guaranteed."
   ]
  },
  {
   "cell_type": "code",
   "execution_count": 81,
   "id": "b91ac6f2-01aa-430d-baa2-095ec539cc26",
   "metadata": {},
   "outputs": [
    {
     "data": {
      "text/plain": [
       "True"
      ]
     },
     "execution_count": 81,
     "metadata": {},
     "output_type": "execute_result"
    }
   ],
   "source": [
    "id(b) == id(c)  # Guaranteed."
   ]
  },
  {
   "cell_type": "code",
   "execution_count": 82,
   "id": "1e8c6fae-9cce-4939-b471-1bd876851a9f",
   "metadata": {},
   "outputs": [
    {
     "data": {
      "text/plain": [
       "False"
      ]
     },
     "execution_count": 82,
     "metadata": {},
     "output_type": "execute_result"
    }
   ],
   "source": [
    "[] is []  # Guaranteed."
   ]
  },
  {
   "cell_type": "code",
   "execution_count": 83,
   "id": "c507cab4-d2a7-4fa4-a1d9-1483342bcecc",
   "metadata": {},
   "outputs": [
    {
     "data": {
      "text/plain": [
       "True"
      ]
     },
     "execution_count": 83,
     "metadata": {},
     "output_type": "execute_result"
    }
   ],
   "source": [
    "id([]) == id([])  # Not guaranteed."
   ]
  },
  {
   "cell_type": "code",
   "execution_count": 84,
   "id": "0b2ee775-e9be-4ee2-a982-4f02bee27c79",
   "metadata": {},
   "outputs": [],
   "source": [
    "# That is permitted to be true because the lists do not overlap in lifetime."
   ]
  },
  {
   "cell_type": "code",
   "execution_count": 85,
   "id": "f4e729eb-5e2d-4293-a841-2b43df728a3a",
   "metadata": {},
   "outputs": [
    {
     "data": {
      "text/plain": [
       "True"
      ]
     },
     "execution_count": 85,
     "metadata": {},
     "output_type": "execute_result"
    }
   ],
   "source": [
    "a = (10, 20, 30)\n",
    "b = tuple(a)\n",
    "b is a  # Not guaranteed, but usually true."
   ]
  },
  {
   "cell_type": "code",
   "execution_count": 86,
   "id": "63f38183-9a0e-4264-8b7a-b048260b16e2",
   "metadata": {},
   "outputs": [
    {
     "data": {
      "text/plain": [
       "True"
      ]
     },
     "execution_count": 86,
     "metadata": {},
     "output_type": "execute_result"
    }
   ],
   "source": [
    "n = 17**1004\n",
    "m = int(n)\n",
    "m is n"
   ]
  },
  {
   "cell_type": "code",
   "execution_count": 87,
   "id": "aaf0141c-94f8-466e-88b2-b72f2cb1af54",
   "metadata": {},
   "outputs": [
    {
     "data": {
      "text/plain": [
       "2148578296176"
      ]
     },
     "execution_count": 87,
     "metadata": {},
     "output_type": "execute_result"
    }
   ],
   "source": [
    "id(5)"
   ]
  },
  {
   "cell_type": "code",
   "execution_count": 88,
   "id": "58e3aabe-1c20-4b76-a4d6-994325bc5d18",
   "metadata": {},
   "outputs": [
    {
     "data": {
      "text/plain": [
       "2148578296176"
      ]
     },
     "execution_count": 88,
     "metadata": {},
     "output_type": "execute_result"
    }
   ],
   "source": [
    "id(5)"
   ]
  },
  {
   "cell_type": "code",
   "execution_count": 89,
   "id": "41d24d47-05a4-4ab5-8f24-53b20a632a37",
   "metadata": {},
   "outputs": [
    {
     "data": {
      "text/plain": [
       "True"
      ]
     },
     "execution_count": 89,
     "metadata": {},
     "output_type": "execute_result"
    }
   ],
   "source": [
    "# A better demonstration, since ids are used across disjoint lifetimes.\n",
    "x = 5\n",
    "y = 5\n",
    "x is y"
   ]
  },
  {
   "cell_type": "code",
   "execution_count": 90,
   "id": "3be7d4d5-6859-45ed-93ba-5088db7fb128",
   "metadata": {},
   "outputs": [
    {
     "data": {
      "text/plain": [
       "int"
      ]
     },
     "execution_count": 90,
     "metadata": {},
     "output_type": "execute_result"
    }
   ],
   "source": [
    "# Sometimes it is actually guaranteed that the object we get already exists.\n",
    "type(3)"
   ]
  },
  {
   "cell_type": "code",
   "execution_count": 91,
   "id": "bae7c1c3-f921-473e-b8c9-1801ecb16c00",
   "metadata": {},
   "outputs": [
    {
     "data": {
      "text/plain": [
       "type"
      ]
     },
     "execution_count": 91,
     "metadata": {},
     "output_type": "execute_result"
    }
   ],
   "source": [
    "type(type)"
   ]
  },
  {
   "cell_type": "code",
   "execution_count": 92,
   "id": "f5f99678-62e2-466f-95cd-62fe3447ce25",
   "metadata": {},
   "outputs": [
    {
     "data": {
      "text/plain": [
       "True"
      ]
     },
     "execution_count": 92,
     "metadata": {},
     "output_type": "execute_result"
    }
   ],
   "source": [
    "# Calling type on an object to get its type is guaranteed to return\n",
    "# a reference to an *existing* type object. It does not copy the\n",
    "# type object.\n",
    "type(3) is int  # Not just an implementation detail. Guaranteed."
   ]
  },
  {
   "cell_type": "code",
   "execution_count": 93,
   "id": "b1f33be0-ad2c-411b-b93c-03a63f351eb4",
   "metadata": {},
   "outputs": [
    {
     "data": {
      "text/plain": [
       "True"
      ]
     },
     "execution_count": 93,
     "metadata": {},
     "output_type": "execute_result"
    }
   ],
   "source": [
    "5 == 5  # Definitely guaranteed."
   ]
  },
  {
   "cell_type": "code",
   "execution_count": 94,
   "id": "fefe8ffe-8c95-4789-bb6b-876fa46ff1a5",
   "metadata": {},
   "outputs": [
    {
     "data": {
      "text/plain": [
       "True"
      ]
     },
     "execution_count": 94,
     "metadata": {},
     "output_type": "execute_result"
    }
   ],
   "source": [
    "id(5) == id(5)  # Not guaranteed, because 5 is not guaranteed to be cached."
   ]
  },
  {
   "cell_type": "code",
   "execution_count": 95,
   "id": "08dada72-fb77-4c9a-a77c-42ce5465bc0f",
   "metadata": {},
   "outputs": [
    {
     "name": "stderr",
     "output_type": "stream",
     "text": [
      "<>:1: SyntaxWarning: \"is\" with a literal. Did you mean \"==\"?\n",
      "<>:1: SyntaxWarning: \"is\" with a literal. Did you mean \"==\"?\n",
      "C:\\Users\\User\\AppData\\Local\\Temp\\ipykernel_13820\\1009580176.py:1: SyntaxWarning: \"is\" with a literal. Did you mean \"==\"?\n",
      "  5 is 5  # Likewise not guaranteed.\n"
     ]
    },
    {
     "data": {
      "text/plain": [
       "True"
      ]
     },
     "execution_count": 95,
     "metadata": {},
     "output_type": "execute_result"
    }
   ],
   "source": [
    "5 is 5  # Likewise not guaranteed."
   ]
  },
  {
   "cell_type": "code",
   "execution_count": 96,
   "id": "6daa8c4f-1146-4fe7-b986-d4339724d7e0",
   "metadata": {},
   "outputs": [
    {
     "data": {
      "text/plain": [
       "True"
      ]
     },
     "execution_count": 96,
     "metadata": {},
     "output_type": "execute_result"
    }
   ],
   "source": [
    "x = 5\n",
    "id(x) == id(x)  # Guaranteed."
   ]
  },
  {
   "cell_type": "code",
   "execution_count": 97,
   "id": "2b077022-25ed-4b25-b08f-c78235a38cce",
   "metadata": {},
   "outputs": [
    {
     "data": {
      "text/plain": [
       "False"
      ]
     },
     "execution_count": 97,
     "metadata": {},
     "output_type": "execute_result"
    }
   ],
   "source": [
    "id(x) is id(x)  # Not guaranteed."
   ]
  },
  {
   "cell_type": "code",
   "execution_count": 98,
   "id": "07bbacb5-1acb-4b3c-8aaf-4d5c88790237",
   "metadata": {},
   "outputs": [
    {
     "data": {
      "text/plain": [
       "True"
      ]
     },
     "execution_count": 98,
     "metadata": {},
     "output_type": "execute_result"
    }
   ],
   "source": [
    "type(x) is type(x)  # Guaranteed."
   ]
  },
  {
   "cell_type": "markdown",
   "id": "1617a067-1e53-47a1-9b52-31a232154e6b",
   "metadata": {},
   "source": [
    "To clarify, when T is some type, expressions like this are usually, at least conceptually,\n",
    "asking for a new object of that type to created:\n",
    "\n",
    "```python\n",
    "T(...)\n",
    "```\n",
    "\n",
    "Sometimes, *as an optimization*, an existing object (rather, a reference to one) is returned.\n",
    "In general this is reasonable when `T` is an *immutable* type. This happens when you call\n",
    "`int` on an integer, `str` on a string, and so forth.\n",
    "\n",
    "In contrast, with `type`, when passed a single argument&mdash;that is, when used to *find*\n",
    "the type of an object&mdash;the behavior of returning an *existing* object (rather, a reference\n",
    "to one) is *guaranteed*. You are permitted to rely on this, you sometimes will end up\n",
    "actually relying on it, and also it would make very little sense for it to work otherwise.\n",
    "\n",
    "(`type` can also be used, when passed multiple arguments, in a manner documented in `help(type)`,\n",
    "to *create* new types. But this is very rarely done, except insofar as it is happening behind\n",
    "the scenes when `class` statements are executed.)"
   ]
  },
  {
   "cell_type": "code",
   "execution_count": 99,
   "id": "a7d1cd04-fcb2-44f1-ba3a-ae71bdaaa4a4",
   "metadata": {},
   "outputs": [],
   "source": [
    "# You've seen, with tuples, how instances of an immutable type can sometimes be mutable.\n",
    "# Another situation is when an immutable type is the base class of a mutable type.\n",
    "# At this point, we haven't done classes yet, so there's just one example I want to\n",
    "# call your attention to.\n",
    "x = object()"
   ]
  },
  {
   "cell_type": "code",
   "execution_count": 100,
   "id": "29c7eea0-292a-4789-ae16-4cebbe483e82",
   "metadata": {},
   "outputs": [
    {
     "data": {
      "text/plain": [
       "134289641433"
      ]
     },
     "execution_count": 100,
     "metadata": {},
     "output_type": "execute_result"
    }
   ],
   "source": [
    "hash(x)"
   ]
  },
  {
   "cell_type": "code",
   "execution_count": 101,
   "id": "7a994142-ab78-4e03-bc62-5e2f7c0c71dc",
   "metadata": {},
   "outputs": [
    {
     "name": "stdout",
     "output_type": "stream",
     "text": [
      "Help on class object in module builtins:\n",
      "\n",
      "class object\n",
      " |  The base class of the class hierarchy.\n",
      " |  \n",
      " |  When called, it accepts no arguments and returns a new featureless\n",
      " |  instance that has no instance attributes and cannot be given any.\n",
      " |  \n",
      " |  Built-in subclasses:\n",
      " |      anext_awaitable\n",
      " |      ArgNotFound\n",
      " |      async_generator\n",
      " |      async_generator_asend\n",
      " |      ... and 114 other subclasses\n",
      " |  \n",
      " |  Methods defined here:\n",
      " |  \n",
      " |  __delattr__(self, name, /)\n",
      " |      Implement delattr(self, name).\n",
      " |  \n",
      " |  __dir__(self, /)\n",
      " |      Default dir() implementation.\n",
      " |  \n",
      " |  __eq__(self, value, /)\n",
      " |      Return self==value.\n",
      " |  \n",
      " |  __format__(self, format_spec, /)\n",
      " |      Default object formatter.\n",
      " |  \n",
      " |  __ge__(self, value, /)\n",
      " |      Return self>=value.\n",
      " |  \n",
      " |  __getattribute__(self, name, /)\n",
      " |      Return getattr(self, name).\n",
      " |  \n",
      " |  __gt__(self, value, /)\n",
      " |      Return self>value.\n",
      " |  \n",
      " |  __hash__(self, /)\n",
      " |      Return hash(self).\n",
      " |  \n",
      " |  __init__(self, /, *args, **kwargs)\n",
      " |      Initialize self.  See help(type(self)) for accurate signature.\n",
      " |  \n",
      " |  __le__(self, value, /)\n",
      " |      Return self<=value.\n",
      " |  \n",
      " |  __lt__(self, value, /)\n",
      " |      Return self<value.\n",
      " |  \n",
      " |  __ne__(self, value, /)\n",
      " |      Return self!=value.\n",
      " |  \n",
      " |  __reduce__(self, /)\n",
      " |      Helper for pickle.\n",
      " |  \n",
      " |  __reduce_ex__(self, protocol, /)\n",
      " |      Helper for pickle.\n",
      " |  \n",
      " |  __repr__(self, /)\n",
      " |      Return repr(self).\n",
      " |  \n",
      " |  __setattr__(self, name, value, /)\n",
      " |      Implement setattr(self, name, value).\n",
      " |  \n",
      " |  __sizeof__(self, /)\n",
      " |      Size of object in memory, in bytes.\n",
      " |  \n",
      " |  __str__(self, /)\n",
      " |      Return str(self).\n",
      " |  \n",
      " |  ----------------------------------------------------------------------\n",
      " |  Class methods defined here:\n",
      " |  \n",
      " |  __init_subclass__(...) from builtins.type\n",
      " |      This method is called when a class is subclassed.\n",
      " |      \n",
      " |      The default implementation does nothing. It may be\n",
      " |      overridden to extend subclasses.\n",
      " |  \n",
      " |  __subclasshook__(...) from builtins.type\n",
      " |      Abstract classes can override this to customize issubclass().\n",
      " |      \n",
      " |      This is invoked early on by abc.ABCMeta.__subclasscheck__().\n",
      " |      It should return True, False or NotImplemented.  If it returns\n",
      " |      NotImplemented, the normal algorithm is used.  Otherwise, it\n",
      " |      overrides the normal algorithm (and the outcome is cached).\n",
      " |  \n",
      " |  ----------------------------------------------------------------------\n",
      " |  Static methods defined here:\n",
      " |  \n",
      " |  __new__(*args, **kwargs) from builtins.type\n",
      " |      Create and return a new object.  See help(type) for accurate signature.\n",
      " |  \n",
      " |  ----------------------------------------------------------------------\n",
      " |  Data and other attributes defined here:\n",
      " |  \n",
      " |  __class__ = <class 'type'>\n",
      " |      type(object) -> the object's type\n",
      " |      type(name, bases, dict, **kwds) -> a new type\n",
      "\n"
     ]
    }
   ],
   "source": [
    "# However, object guarantees that its direct instances are unique: every time you call\n",
    "# object(), you get a new object.\n",
    "help(object)"
   ]
  },
  {
   "cell_type": "markdown",
   "id": "9a1a5ce5-0a80-4114-af0b-86ad92364280",
   "metadata": {},
   "source": [
    "## `dict`/`OrderedDict` scratchwork"
   ]
  },
  {
   "cell_type": "code",
   "execution_count": 102,
   "id": "c835b552-9085-4867-a5b5-fbf382069ade",
   "metadata": {},
   "outputs": [],
   "source": [
    "from collections import OrderedDict"
   ]
  },
  {
   "cell_type": "code",
   "execution_count": 103,
   "id": "42456f42-4b2e-4b34-850b-129a950560d0",
   "metadata": {},
   "outputs": [
    {
     "name": "stdout",
     "output_type": "stream",
     "text": [
      "Help on class OrderedDict in module collections:\n",
      "\n",
      "class OrderedDict(builtins.dict)\n",
      " |  Dictionary that remembers insertion order\n",
      " |  \n",
      " |  Method resolution order:\n",
      " |      OrderedDict\n",
      " |      builtins.dict\n",
      " |      builtins.object\n",
      " |  \n",
      " |  Methods defined here:\n",
      " |  \n",
      " |  __delitem__(self, key, /)\n",
      " |      Delete self[key].\n",
      " |  \n",
      " |  __eq__(self, value, /)\n",
      " |      Return self==value.\n",
      " |  \n",
      " |  __ge__(self, value, /)\n",
      " |      Return self>=value.\n",
      " |  \n",
      " |  __gt__(self, value, /)\n",
      " |      Return self>value.\n",
      " |  \n",
      " |  __init__(self, /, *args, **kwargs)\n",
      " |      Initialize self.  See help(type(self)) for accurate signature.\n",
      " |  \n",
      " |  __ior__(self, value, /)\n",
      " |      Return self|=value.\n",
      " |  \n",
      " |  __iter__(self, /)\n",
      " |      Implement iter(self).\n",
      " |  \n",
      " |  __le__(self, value, /)\n",
      " |      Return self<=value.\n",
      " |  \n",
      " |  __lt__(self, value, /)\n",
      " |      Return self<value.\n",
      " |  \n",
      " |  __ne__(self, value, /)\n",
      " |      Return self!=value.\n",
      " |  \n",
      " |  __or__(self, value, /)\n",
      " |      Return self|value.\n",
      " |  \n",
      " |  __reduce__(...)\n",
      " |      Return state information for pickling\n",
      " |  \n",
      " |  __repr__(self, /)\n",
      " |      Return repr(self).\n",
      " |  \n",
      " |  __reversed__(...)\n",
      " |      od.__reversed__() <==> reversed(od)\n",
      " |  \n",
      " |  __ror__(self, value, /)\n",
      " |      Return value|self.\n",
      " |  \n",
      " |  __setitem__(self, key, value, /)\n",
      " |      Set self[key] to value.\n",
      " |  \n",
      " |  __sizeof__(...)\n",
      " |      D.__sizeof__() -> size of D in memory, in bytes\n",
      " |  \n",
      " |  clear(...)\n",
      " |      od.clear() -> None.  Remove all items from od.\n",
      " |  \n",
      " |  copy(...)\n",
      " |      od.copy() -> a shallow copy of od\n",
      " |  \n",
      " |  items(...)\n",
      " |      D.items() -> a set-like object providing a view on D's items\n",
      " |  \n",
      " |  keys(...)\n",
      " |      D.keys() -> a set-like object providing a view on D's keys\n",
      " |  \n",
      " |  move_to_end(self, /, key, last=True)\n",
      " |      Move an existing element to the end (or beginning if last is false).\n",
      " |      \n",
      " |      Raise KeyError if the element does not exist.\n",
      " |  \n",
      " |  pop(...)\n",
      " |      od.pop(key[,default]) -> v, remove specified key and return the corresponding value.\n",
      " |      \n",
      " |      If the key is not found, return the default if given; otherwise,\n",
      " |      raise a KeyError.\n",
      " |  \n",
      " |  popitem(self, /, last=True)\n",
      " |      Remove and return a (key, value) pair from the dictionary.\n",
      " |      \n",
      " |      Pairs are returned in LIFO order if last is true or FIFO order if false.\n",
      " |  \n",
      " |  setdefault(self, /, key, default=None)\n",
      " |      Insert key with a value of default if key is not in the dictionary.\n",
      " |      \n",
      " |      Return the value for key if key is in the dictionary, else default.\n",
      " |  \n",
      " |  update(...)\n",
      " |      D.update([E, ]**F) -> None.  Update D from dict/iterable E and F.\n",
      " |      If E is present and has a .keys() method, then does:  for k in E: D[k] = E[k]\n",
      " |      If E is present and lacks a .keys() method, then does:  for k, v in E: D[k] = v\n",
      " |      In either case, this is followed by: for k in F:  D[k] = F[k]\n",
      " |  \n",
      " |  values(...)\n",
      " |      D.values() -> an object providing a view on D's values\n",
      " |  \n",
      " |  ----------------------------------------------------------------------\n",
      " |  Class methods defined here:\n",
      " |  \n",
      " |  fromkeys(iterable, value=None) from builtins.type\n",
      " |      Create a new ordered dictionary with keys from iterable and values set to value.\n",
      " |  \n",
      " |  ----------------------------------------------------------------------\n",
      " |  Data descriptors defined here:\n",
      " |  \n",
      " |  __dict__\n",
      " |  \n",
      " |  ----------------------------------------------------------------------\n",
      " |  Data and other attributes defined here:\n",
      " |  \n",
      " |  __hash__ = None\n",
      " |  \n",
      " |  ----------------------------------------------------------------------\n",
      " |  Methods inherited from builtins.dict:\n",
      " |  \n",
      " |  __contains__(self, key, /)\n",
      " |      True if the dictionary has the specified key, else False.\n",
      " |  \n",
      " |  __getattribute__(self, name, /)\n",
      " |      Return getattr(self, name).\n",
      " |  \n",
      " |  __getitem__(...)\n",
      " |      x.__getitem__(y) <==> x[y]\n",
      " |  \n",
      " |  __len__(self, /)\n",
      " |      Return len(self).\n",
      " |  \n",
      " |  get(self, key, default=None, /)\n",
      " |      Return the value for key if key is in the dictionary, else default.\n",
      " |  \n",
      " |  ----------------------------------------------------------------------\n",
      " |  Class methods inherited from builtins.dict:\n",
      " |  \n",
      " |  __class_getitem__(...) from builtins.type\n",
      " |      See PEP 585\n",
      " |  \n",
      " |  ----------------------------------------------------------------------\n",
      " |  Static methods inherited from builtins.dict:\n",
      " |  \n",
      " |  __new__(*args, **kwargs) from builtins.type\n",
      " |      Create and return a new object.  See help(type) for accurate signature.\n",
      "\n"
     ]
    }
   ],
   "source": [
    "help(OrderedDict)"
   ]
  },
  {
   "cell_type": "code",
   "execution_count": 104,
   "id": "2202f80b-ec5b-480b-ac90-0d1a692a46bd",
   "metadata": {},
   "outputs": [],
   "source": [
    "d = {'a': 1, 'b': 2}"
   ]
  },
  {
   "cell_type": "code",
   "execution_count": 105,
   "id": "744a60ab-1362-4ebc-bcb9-f04c85a08308",
   "metadata": {},
   "outputs": [],
   "source": [
    "d = dict(a=3, b=4)"
   ]
  },
  {
   "cell_type": "code",
   "execution_count": 106,
   "id": "e361d951-dd9a-43fd-9d19-27ff50d94bd8",
   "metadata": {},
   "outputs": [
    {
     "data": {
      "text/plain": [
       "{'a': 3, 'b': 4}"
      ]
     },
     "execution_count": 106,
     "metadata": {},
     "output_type": "execute_result"
    }
   ],
   "source": [
    "d"
   ]
  },
  {
   "cell_type": "code",
   "execution_count": 107,
   "id": "57fc010a-67cd-492f-86d4-0273d3ebf0aa",
   "metadata": {},
   "outputs": [],
   "source": [
    "cd = dict(d)"
   ]
  },
  {
   "cell_type": "code",
   "execution_count": 108,
   "id": "1f5c7f57-7ebb-40d9-962f-4b1cb9b7fc42",
   "metadata": {},
   "outputs": [
    {
     "data": {
      "text/plain": [
       "False"
      ]
     },
     "execution_count": 108,
     "metadata": {},
     "output_type": "execute_result"
    }
   ],
   "source": [
    "cd is d "
   ]
  },
  {
   "cell_type": "code",
   "execution_count": 109,
   "id": "434d1d24-d631-4594-8cf2-8abb36882673",
   "metadata": {},
   "outputs": [
    {
     "data": {
      "text/plain": [
       "{'a': 3, 'b': 4}"
      ]
     },
     "execution_count": 109,
     "metadata": {},
     "output_type": "execute_result"
    }
   ],
   "source": [
    "cd "
   ]
  },
  {
   "cell_type": "code",
   "execution_count": 110,
   "id": "3a262413-f758-4e1c-a530-f2f509412179",
   "metadata": {},
   "outputs": [
    {
     "data": {
      "text/plain": [
       "True"
      ]
     },
     "execution_count": 110,
     "metadata": {},
     "output_type": "execute_result"
    }
   ],
   "source": [
    "cd == d "
   ]
  },
  {
   "cell_type": "code",
   "execution_count": 111,
   "id": "d2397d8b-63c5-4e5c-a330-5e14ece5bca7",
   "metadata": {},
   "outputs": [],
   "source": [
    "itd = dict((('z', 2), ('y', 3), ('x', 4)))"
   ]
  },
  {
   "cell_type": "code",
   "execution_count": 112,
   "id": "22ea519e-068e-48db-bbb0-f90362f1a79a",
   "metadata": {},
   "outputs": [
    {
     "data": {
      "text/plain": [
       "{'z': 2, 'y': 3, 'x': 4}"
      ]
     },
     "execution_count": 112,
     "metadata": {},
     "output_type": "execute_result"
    }
   ],
   "source": [
    "itd"
   ]
  },
  {
   "cell_type": "code",
   "execution_count": 113,
   "id": "66062621-4dd4-435e-b5b2-ea48ec20cc73",
   "metadata": {},
   "outputs": [
    {
     "data": {
      "text/plain": [
       "{'a': 'b'}"
      ]
     },
     "execution_count": 113,
     "metadata": {},
     "output_type": "execute_result"
    }
   ],
   "source": [
    "dict.fromkeys('a', 'b')"
   ]
  },
  {
   "cell_type": "code",
   "execution_count": 114,
   "id": "5b4bbd2a-79ab-4a4a-af33-4a3b71c5a511",
   "metadata": {},
   "outputs": [
    {
     "name": "stdout",
     "output_type": "stream",
     "text": [
      "Help on built-in function fromkeys:\n",
      "\n",
      "fromkeys(iterable, value=None, /) method of builtins.type instance\n",
      "    Create a new dictionary with keys from iterable and values set to value.\n",
      "\n"
     ]
    }
   ],
   "source": [
    "help(dict.fromkeys)"
   ]
  },
  {
   "cell_type": "code",
   "execution_count": 115,
   "id": "6a938c1a-bf34-4b6c-9c92-ed765915afc5",
   "metadata": {},
   "outputs": [
    {
     "data": {
      "text/plain": [
       "{'a': None, 'b': None}"
      ]
     },
     "execution_count": 115,
     "metadata": {},
     "output_type": "execute_result"
    }
   ],
   "source": [
    "dict.fromkeys(('a', 'b'))"
   ]
  },
  {
   "cell_type": "markdown",
   "id": "426887ba-199c-4cb8-9578-737ba5da6eea",
   "metadata": {},
   "source": [
    "## Non-transitive equality"
   ]
  },
  {
   "cell_type": "code",
   "execution_count": 116,
   "id": "11d5f4a5-dfc0-4cbd-b532-76c47973b36b",
   "metadata": {},
   "outputs": [],
   "source": [
    "od = OrderedDict({1: 1, 2: 2})"
   ]
  },
  {
   "cell_type": "code",
   "execution_count": 117,
   "id": "e3feb77b-6351-4f16-9e70-14355668d927",
   "metadata": {},
   "outputs": [],
   "source": [
    "nod = {1: 1, 2: 2}"
   ]
  },
  {
   "cell_type": "code",
   "execution_count": 118,
   "id": "419d1360-9656-47af-8ace-3a18170765f7",
   "metadata": {},
   "outputs": [],
   "source": [
    "nod2 = {2: 2, 1: 1}"
   ]
  },
  {
   "cell_type": "code",
   "execution_count": 119,
   "id": "b855cf61-6789-418c-b2be-afcb40d26bc5",
   "metadata": {},
   "outputs": [],
   "source": [
    "od2 = OrderedDict(nod2)"
   ]
  },
  {
   "cell_type": "code",
   "execution_count": 120,
   "id": "257cecde-40f4-4f7b-b4f4-a19e27ee6a04",
   "metadata": {},
   "outputs": [
    {
     "data": {
      "text/plain": [
       "OrderedDict([(1, 1), (2, 2)])"
      ]
     },
     "execution_count": 120,
     "metadata": {},
     "output_type": "execute_result"
    }
   ],
   "source": [
    "od"
   ]
  },
  {
   "cell_type": "code",
   "execution_count": 121,
   "id": "da76b2af-ecf0-43a9-97b9-538644572aef",
   "metadata": {},
   "outputs": [
    {
     "data": {
      "text/plain": [
       "{1: 1, 2: 2}"
      ]
     },
     "execution_count": 121,
     "metadata": {},
     "output_type": "execute_result"
    }
   ],
   "source": [
    "nod"
   ]
  },
  {
   "cell_type": "code",
   "execution_count": 122,
   "id": "7347f1ed-a6d0-4a0a-99ae-645e1dbbd1f9",
   "metadata": {},
   "outputs": [
    {
     "data": {
      "text/plain": [
       "OrderedDict([(2, 2), (1, 1)])"
      ]
     },
     "execution_count": 122,
     "metadata": {},
     "output_type": "execute_result"
    }
   ],
   "source": [
    "od2"
   ]
  },
  {
   "cell_type": "code",
   "execution_count": 123,
   "id": "aad24cbc-d96d-451d-9d40-a0755c148b33",
   "metadata": {},
   "outputs": [
    {
     "data": {
      "text/plain": [
       "{2: 2, 1: 1}"
      ]
     },
     "execution_count": 123,
     "metadata": {},
     "output_type": "execute_result"
    }
   ],
   "source": [
    "nod2"
   ]
  },
  {
   "cell_type": "code",
   "execution_count": 124,
   "id": "8b1bd774-009f-4110-84b6-d53f714e8af1",
   "metadata": {},
   "outputs": [
    {
     "data": {
      "text/plain": [
       "True"
      ]
     },
     "execution_count": 124,
     "metadata": {},
     "output_type": "execute_result"
    }
   ],
   "source": [
    "isinstance(od, dict)"
   ]
  },
  {
   "cell_type": "code",
   "execution_count": 125,
   "id": "353f549d-0cd3-43d2-9919-6b5c97a8bd5d",
   "metadata": {},
   "outputs": [
    {
     "data": {
      "text/plain": [
       "(collections.OrderedDict, dict, object)"
      ]
     },
     "execution_count": 125,
     "metadata": {},
     "output_type": "execute_result"
    }
   ],
   "source": [
    "OrderedDict.__mro__"
   ]
  },
  {
   "cell_type": "code",
   "execution_count": 126,
   "id": "1727715d-819c-4ac5-8b23-2439e2f9fdc1",
   "metadata": {},
   "outputs": [
    {
     "data": {
      "text/plain": [
       "True"
      ]
     },
     "execution_count": 126,
     "metadata": {},
     "output_type": "execute_result"
    }
   ],
   "source": [
    "nod == nod2"
   ]
  },
  {
   "cell_type": "code",
   "execution_count": 127,
   "id": "b4d54557-cc6d-48d9-97d4-b54758493918",
   "metadata": {},
   "outputs": [
    {
     "data": {
      "text/plain": [
       "False"
      ]
     },
     "execution_count": 127,
     "metadata": {},
     "output_type": "execute_result"
    }
   ],
   "source": [
    "od == od2"
   ]
  },
  {
   "cell_type": "code",
   "execution_count": 128,
   "id": "81a5a523-a4e8-406a-bfae-65046f7fef9f",
   "metadata": {},
   "outputs": [
    {
     "data": {
      "text/plain": [
       "True"
      ]
     },
     "execution_count": 128,
     "metadata": {},
     "output_type": "execute_result"
    }
   ],
   "source": [
    "od == nod"
   ]
  },
  {
   "cell_type": "code",
   "execution_count": 129,
   "id": "ccd43719-89e7-4c53-b9e6-de623db4fcfe",
   "metadata": {},
   "outputs": [
    {
     "data": {
      "text/plain": [
       "True"
      ]
     },
     "execution_count": 129,
     "metadata": {},
     "output_type": "execute_result"
    }
   ],
   "source": [
    "od2 == nod"
   ]
  },
  {
   "cell_type": "code",
   "execution_count": 130,
   "id": "85bf546d-a34c-44ac-ad7c-9fe8bd733d20",
   "metadata": {},
   "outputs": [],
   "source": [
    "class Base: \n",
    "    \n",
    "    def __init__(self, value): \n",
    "        self.value = value\n",
    "        \n",
    "    def __repr__(self): \n",
    "        return f'{type(self).__name__}({self.value!r})'\n",
    "    \n",
    "    def __eq__(self, other): \n",
    "        if not isinstance(other, type(self)): \n",
    "            return NotImplemented\n",
    "        return self.value == other.value"
   ]
  },
  {
   "cell_type": "code",
   "execution_count": 131,
   "id": "65578ce2-3e44-4934-a52d-5cc0c80e8ed5",
   "metadata": {},
   "outputs": [
    {
     "data": {
      "text/plain": [
       "True"
      ]
     },
     "execution_count": 131,
     "metadata": {},
     "output_type": "execute_result"
    }
   ],
   "source": [
    "Base(1) == Base(1)"
   ]
  },
  {
   "cell_type": "code",
   "execution_count": 132,
   "id": "5585f0bc-41f6-4f54-a6f6-26ab67695993",
   "metadata": {},
   "outputs": [
    {
     "data": {
      "text/plain": [
       "False"
      ]
     },
     "execution_count": 132,
     "metadata": {},
     "output_type": "execute_result"
    }
   ],
   "source": [
    "Base(2) == Base(1)"
   ]
  },
  {
   "cell_type": "code",
   "execution_count": 133,
   "id": "f2bc6425-0714-4555-8689-0b91c0ed8160",
   "metadata": {},
   "outputs": [],
   "source": [
    "class Derived(Base): \n",
    "    pass"
   ]
  },
  {
   "cell_type": "code",
   "execution_count": 134,
   "id": "7efc1922-af61-46ae-a775-2188cbba5588",
   "metadata": {},
   "outputs": [
    {
     "data": {
      "text/plain": [
       "True"
      ]
     },
     "execution_count": 134,
     "metadata": {},
     "output_type": "execute_result"
    }
   ],
   "source": [
    "Derived(1) == Base(1)"
   ]
  },
  {
   "cell_type": "code",
   "execution_count": 135,
   "id": "2b619f18-bab6-4cb4-ad45-65202533cbcc",
   "metadata": {},
   "outputs": [
    {
     "data": {
      "text/plain": [
       "True"
      ]
     },
     "execution_count": 135,
     "metadata": {},
     "output_type": "execute_result"
    }
   ],
   "source": [
    "Base(1) == Derived(1)"
   ]
  },
  {
   "cell_type": "code",
   "execution_count": 136,
   "id": "14a834d6-3249-4d80-a0c3-971d964a9fd5",
   "metadata": {},
   "outputs": [],
   "source": [
    "class AlsoDerived(Base): \n",
    "    pass"
   ]
  },
  {
   "cell_type": "code",
   "execution_count": 137,
   "id": "a0322ea1-975b-4df4-836d-cd95308ac64d",
   "metadata": {},
   "outputs": [
    {
     "data": {
      "text/plain": [
       "False"
      ]
     },
     "execution_count": 137,
     "metadata": {},
     "output_type": "execute_result"
    }
   ],
   "source": [
    "Derived(1) == AlsoDerived(1)"
   ]
  },
  {
   "cell_type": "code",
   "execution_count": 138,
   "id": "e766eb35-8579-428b-9d98-41e9e022d712",
   "metadata": {},
   "outputs": [
    {
     "data": {
      "text/plain": [
       "True"
      ]
     },
     "execution_count": 138,
     "metadata": {},
     "output_type": "execute_result"
    }
   ],
   "source": [
    "Derived(1) == Base(1) == AlsoDerived(1)"
   ]
  },
  {
   "cell_type": "code",
   "execution_count": 139,
   "id": "83252238-5bd7-4466-9e9f-1ae01780fbb2",
   "metadata": {},
   "outputs": [],
   "source": [
    "class TransitiveBase: \n",
    "    \n",
    "    def __init__(self, value): \n",
    "        self.value = value\n",
    "        \n",
    "    def __repr__(self): \n",
    "        return f'{type(self).__name__}({self.value!r})'\n",
    "    \n",
    "    def __eq__(self, other): \n",
    "        if not isinstance(other, TransitiveBase): \n",
    "            return NotImplemented\n",
    "        return self.value == other.value"
   ]
  },
  {
   "cell_type": "code",
   "execution_count": 140,
   "id": "03da395c-d62e-4f38-8b0f-631fa0a714e2",
   "metadata": {},
   "outputs": [
    {
     "data": {
      "text/plain": [
       "True"
      ]
     },
     "execution_count": 140,
     "metadata": {},
     "output_type": "execute_result"
    }
   ],
   "source": [
    "TransitiveBase(1) == TransitiveBase(1)"
   ]
  },
  {
   "cell_type": "code",
   "execution_count": 141,
   "id": "bc9dab56-766c-4c59-b114-bf03cf822ff2",
   "metadata": {},
   "outputs": [
    {
     "data": {
      "text/plain": [
       "False"
      ]
     },
     "execution_count": 141,
     "metadata": {},
     "output_type": "execute_result"
    }
   ],
   "source": [
    "TransitiveBase(2) == TransitiveBase(1)"
   ]
  },
  {
   "cell_type": "code",
   "execution_count": 142,
   "id": "f96f3444-ef1a-4650-933a-bb2fe4f6b881",
   "metadata": {},
   "outputs": [],
   "source": [
    "class TransitiveDerived(TransitiveBase): \n",
    "    pass"
   ]
  },
  {
   "cell_type": "code",
   "execution_count": 143,
   "id": "4f3a6b89-c573-41aa-b314-78943bb67341",
   "metadata": {},
   "outputs": [
    {
     "data": {
      "text/plain": [
       "True"
      ]
     },
     "execution_count": 143,
     "metadata": {},
     "output_type": "execute_result"
    }
   ],
   "source": [
    "TransitiveDerived(1) == TransitiveBase(1)"
   ]
  },
  {
   "cell_type": "code",
   "execution_count": 144,
   "id": "f6b01e42-7813-4b5d-a140-1c01e2a3f414",
   "metadata": {},
   "outputs": [
    {
     "data": {
      "text/plain": [
       "True"
      ]
     },
     "execution_count": 144,
     "metadata": {},
     "output_type": "execute_result"
    }
   ],
   "source": [
    "TransitiveBase(1) == TransitiveDerived(1)"
   ]
  },
  {
   "cell_type": "code",
   "execution_count": 145,
   "id": "f0ce20ee-51c8-4ed3-a9bb-73ce4bb0c07e",
   "metadata": {},
   "outputs": [],
   "source": [
    "class TransitiveAlsoDerived(TransitiveBase): \n",
    "    pass"
   ]
  },
  {
   "cell_type": "code",
   "execution_count": 146,
   "id": "3baacc93-d4dc-474a-bb60-89f4c18a88c1",
   "metadata": {},
   "outputs": [
    {
     "data": {
      "text/plain": [
       "True"
      ]
     },
     "execution_count": 146,
     "metadata": {},
     "output_type": "execute_result"
    }
   ],
   "source": [
    "TransitiveDerived(1) == TransitiveAlsoDerived(1)"
   ]
  },
  {
   "cell_type": "code",
   "execution_count": 147,
   "id": "91159d4b-9e61-4d30-9a4b-bd26b0cd441e",
   "metadata": {},
   "outputs": [
    {
     "data": {
      "text/plain": [
       "True"
      ]
     },
     "execution_count": 147,
     "metadata": {},
     "output_type": "execute_result"
    }
   ],
   "source": [
    "TransitiveDerived(1) == TransitiveBase(1) == TransitiveAlsoDerived(1)"
   ]
  },
  {
   "cell_type": "code",
   "execution_count": 148,
   "id": "7e7963f0-73f5-4a14-beb1-0eccc822e031",
   "metadata": {},
   "outputs": [],
   "source": [
    "class NarrowBase: \n",
    "    \n",
    "    def __init__(self, value): \n",
    "        self.value = value\n",
    "        \n",
    "    def __repr__(self): \n",
    "        return f'{type(self).__name__}({self.value!r})'\n",
    "    \n",
    "    def __eq__(self, other): \n",
    "        if type(self) is not type(other): \n",
    "            return NotImplemented\n",
    "        return self.value == other.value"
   ]
  },
  {
   "cell_type": "code",
   "execution_count": 149,
   "id": "dddcb314-53c3-4395-801b-2ea16cfa5fa0",
   "metadata": {},
   "outputs": [
    {
     "data": {
      "text/plain": [
       "True"
      ]
     },
     "execution_count": 149,
     "metadata": {},
     "output_type": "execute_result"
    }
   ],
   "source": [
    "NarrowBase(1) == NarrowBase(1)"
   ]
  },
  {
   "cell_type": "code",
   "execution_count": 150,
   "id": "ef3a133e-8d51-4f66-b625-a4ef2684d5bd",
   "metadata": {},
   "outputs": [
    {
     "data": {
      "text/plain": [
       "False"
      ]
     },
     "execution_count": 150,
     "metadata": {},
     "output_type": "execute_result"
    }
   ],
   "source": [
    "NarrowBase(2) == NarrowBase(1)"
   ]
  },
  {
   "cell_type": "code",
   "execution_count": 151,
   "id": "db202bba-fceb-486c-a50b-ae969dc52a1c",
   "metadata": {},
   "outputs": [],
   "source": [
    "class NarrowDerived(NarrowBase): \n",
    "    pass"
   ]
  },
  {
   "cell_type": "code",
   "execution_count": 152,
   "id": "25681caa-9c71-42d0-bd1a-c53c8578a457",
   "metadata": {},
   "outputs": [
    {
     "data": {
      "text/plain": [
       "False"
      ]
     },
     "execution_count": 152,
     "metadata": {},
     "output_type": "execute_result"
    }
   ],
   "source": [
    "NarrowDerived(1) == NarrowBase(1)"
   ]
  },
  {
   "cell_type": "code",
   "execution_count": 153,
   "id": "cf19e199-34fe-4767-a076-8881673d968f",
   "metadata": {},
   "outputs": [
    {
     "data": {
      "text/plain": [
       "False"
      ]
     },
     "execution_count": 153,
     "metadata": {},
     "output_type": "execute_result"
    }
   ],
   "source": [
    "NarrowBase(1) == NarrowDerived(1)"
   ]
  },
  {
   "cell_type": "code",
   "execution_count": 154,
   "id": "a6e481c3-5f97-4a4c-99ce-e79678b27a95",
   "metadata": {},
   "outputs": [],
   "source": [
    "class NarrowAlsoDerived(NarrowBase): \n",
    "    pass"
   ]
  },
  {
   "cell_type": "code",
   "execution_count": 155,
   "id": "6657f15a-696c-4571-8fa5-74380fb3baf1",
   "metadata": {},
   "outputs": [
    {
     "data": {
      "text/plain": [
       "False"
      ]
     },
     "execution_count": 155,
     "metadata": {},
     "output_type": "execute_result"
    }
   ],
   "source": [
    "NarrowDerived(1) == NarrowAlsoDerived(1)"
   ]
  },
  {
   "cell_type": "code",
   "execution_count": 156,
   "id": "5490384d-7df5-491f-a133-3bbad2546fab",
   "metadata": {},
   "outputs": [
    {
     "data": {
      "text/plain": [
       "False"
      ]
     },
     "execution_count": 156,
     "metadata": {},
     "output_type": "execute_result"
    }
   ],
   "source": [
    "NarrowDerived(1) == NarrowBase(1) == NarrowAlsoDerived(1)"
   ]
  },
  {
   "cell_type": "code",
   "execution_count": 157,
   "id": "c600d575-fa36-4e94-acbf-bc9a88e2a916",
   "metadata": {},
   "outputs": [
    {
     "data": {
      "text/plain": [
       "True"
      ]
     },
     "execution_count": 157,
     "metadata": {},
     "output_type": "execute_result"
    }
   ],
   "source": [
    "NarrowDerived(1) == NarrowDerived(1)"
   ]
  },
  {
   "cell_type": "markdown",
   "id": "1441938e-f1a7-4a67-88c0-8e88de295826",
   "metadata": {},
   "source": [
    "## Non-reflexive equality"
   ]
  },
  {
   "cell_type": "code",
   "execution_count": 158,
   "id": "e7391df7-d694-433c-a579-f4c5c3ce8aa3",
   "metadata": {},
   "outputs": [],
   "source": [
    "class Evil:\n",
    "    \"\"\"Instances of this class are not equal to anything, not even themselves.\"\"\"\n",
    "    \n",
    "    def __repr__(self): \n",
    "        return f'{type(self).__name__}()'\n",
    "    \n",
    "    def __eq__(self, other): \n",
    "        return False\n",
    "    \n",
    "    def __hash__(self): \n",
    "        return 666"
   ]
  },
  {
   "cell_type": "code",
   "execution_count": 159,
   "id": "65decb10-d4d7-4c53-9ff8-2b6f8679afe4",
   "metadata": {},
   "outputs": [],
   "source": [
    "e = Evil()"
   ]
  },
  {
   "cell_type": "code",
   "execution_count": 160,
   "id": "908029c2-827c-4a29-875a-4107d804910b",
   "metadata": {},
   "outputs": [
    {
     "data": {
      "text/plain": [
       "False"
      ]
     },
     "execution_count": 160,
     "metadata": {},
     "output_type": "execute_result"
    }
   ],
   "source": [
    "e == e"
   ]
  },
  {
   "cell_type": "code",
   "execution_count": 161,
   "id": "a41fbb48-22a9-4951-ba46-fe2a828468bf",
   "metadata": {},
   "outputs": [],
   "source": [
    "a = [e]"
   ]
  },
  {
   "cell_type": "code",
   "execution_count": 162,
   "id": "e90f21de-4fcf-4d41-b54c-971a50d9a7c2",
   "metadata": {},
   "outputs": [],
   "source": [
    "b = [e]"
   ]
  },
  {
   "cell_type": "code",
   "execution_count": 163,
   "id": "5d415bd4-1083-4a4b-aee6-b5abe8339c4f",
   "metadata": {},
   "outputs": [
    {
     "data": {
      "text/plain": [
       "True"
      ]
     },
     "execution_count": 163,
     "metadata": {},
     "output_type": "execute_result"
    }
   ],
   "source": [
    "a == b"
   ]
  },
  {
   "cell_type": "code",
   "execution_count": 164,
   "id": "31286455-be96-4709-aabd-2970fc2d2ab1",
   "metadata": {},
   "outputs": [],
   "source": [
    "s = {e}"
   ]
  },
  {
   "cell_type": "code",
   "execution_count": 165,
   "id": "12c03b78-a5d1-492d-a9ea-3421048d3edb",
   "metadata": {},
   "outputs": [],
   "source": [
    "s2 = {e}"
   ]
  },
  {
   "cell_type": "code",
   "execution_count": 166,
   "id": "79608e71-ed83-4bbe-b42c-8aff318d648d",
   "metadata": {},
   "outputs": [
    {
     "data": {
      "text/plain": [
       "True"
      ]
     },
     "execution_count": 166,
     "metadata": {},
     "output_type": "execute_result"
    }
   ],
   "source": [
    "s == s2"
   ]
  },
  {
   "cell_type": "code",
   "execution_count": 167,
   "id": "5989152e-9dc9-4f54-9f93-110447d7b4c1",
   "metadata": {},
   "outputs": [],
   "source": [
    "s2.remove(e)"
   ]
  },
  {
   "cell_type": "code",
   "execution_count": 168,
   "id": "eafdfe37-92d9-4941-b912-11ddd7bef9e6",
   "metadata": {},
   "outputs": [
    {
     "data": {
      "text/plain": [
       "set()"
      ]
     },
     "execution_count": 168,
     "metadata": {},
     "output_type": "execute_result"
    }
   ],
   "source": [
    "s2"
   ]
  },
  {
   "cell_type": "code",
   "execution_count": 169,
   "id": "18e5540e-d48e-4d54-a8b7-e5c52c76225f",
   "metadata": {},
   "outputs": [],
   "source": [
    "import math"
   ]
  },
  {
   "cell_type": "code",
   "execution_count": 170,
   "id": "06b1d690-dbad-44a1-b7d2-43d1e29d906b",
   "metadata": {},
   "outputs": [
    {
     "data": {
      "text/plain": [
       "float"
      ]
     },
     "execution_count": 170,
     "metadata": {},
     "output_type": "execute_result"
    }
   ],
   "source": [
    "type(math.nan)"
   ]
  },
  {
   "cell_type": "code",
   "execution_count": 171,
   "id": "8d2e0f14-6bd8-473b-902f-418d1af8e96b",
   "metadata": {},
   "outputs": [
    {
     "data": {
      "text/plain": [
       "nan"
      ]
     },
     "execution_count": 171,
     "metadata": {},
     "output_type": "execute_result"
    }
   ],
   "source": [
    "math.nan + 1.0"
   ]
  },
  {
   "cell_type": "code",
   "execution_count": 172,
   "id": "1d0f4e97-8485-4583-b55a-f217e028a590",
   "metadata": {},
   "outputs": [
    {
     "data": {
      "text/plain": [
       "nan"
      ]
     },
     "execution_count": 172,
     "metadata": {},
     "output_type": "execute_result"
    }
   ],
   "source": [
    "math.inf - math.inf"
   ]
  },
  {
   "cell_type": "code",
   "execution_count": 173,
   "id": "d502d93c-4516-4486-a92c-654b111318e7",
   "metadata": {},
   "outputs": [
    {
     "data": {
      "text/plain": [
       "False"
      ]
     },
     "execution_count": 173,
     "metadata": {},
     "output_type": "execute_result"
    }
   ],
   "source": [
    "math.nan == math.nan"
   ]
  },
  {
   "cell_type": "code",
   "execution_count": 174,
   "id": "ec9732c8-feec-48aa-af6a-777f34e2e3ef",
   "metadata": {},
   "outputs": [
    {
     "data": {
      "text/plain": [
       "True"
      ]
     },
     "execution_count": 174,
     "metadata": {},
     "output_type": "execute_result"
    }
   ],
   "source": [
    "math.nan is math.nan"
   ]
  },
  {
   "cell_type": "code",
   "execution_count": 175,
   "id": "86c8dcd6-b41e-4d6b-9b24-ab3cdf796e66",
   "metadata": {},
   "outputs": [
    {
     "data": {
      "text/plain": [
       "True"
      ]
     },
     "execution_count": 175,
     "metadata": {},
     "output_type": "execute_result"
    }
   ],
   "source": [
    "[math.nan] == [math.nan]"
   ]
  },
  {
   "cell_type": "code",
   "execution_count": 176,
   "id": "773d7fbe-1a8b-4a6e-af3b-53016036072e",
   "metadata": {},
   "outputs": [
    {
     "data": {
      "text/plain": [
       "True"
      ]
     },
     "execution_count": 176,
     "metadata": {},
     "output_type": "execute_result"
    }
   ],
   "source": [
    "{math.nan} == {math.nan}"
   ]
  },
  {
   "cell_type": "code",
   "execution_count": 177,
   "id": "d122be9b-0ac8-4915-b47d-b2abc343efe5",
   "metadata": {},
   "outputs": [
    {
     "data": {
      "text/plain": [
       "False"
      ]
     },
     "execution_count": 177,
     "metadata": {},
     "output_type": "execute_result"
    }
   ],
   "source": [
    "(math.inf - math.inf) is math.nan"
   ]
  },
  {
   "cell_type": "code",
   "execution_count": 178,
   "id": "5b83a46f-1dcc-48f0-8597-3d6e68d239e8",
   "metadata": {},
   "outputs": [
    {
     "data": {
      "text/plain": [
       "False"
      ]
     },
     "execution_count": 178,
     "metadata": {},
     "output_type": "execute_result"
    }
   ],
   "source": [
    "[math.inf-math.inf] == [math.nan]"
   ]
  },
  {
   "cell_type": "markdown",
   "id": "0e1aac4d-b21a-40ef-87df-ac09158596ec",
   "metadata": {},
   "source": [
    "## Non-symmetric equality?"
   ]
  },
  {
   "cell_type": "markdown",
   "id": "718cffae-062c-44d8-92e0-d6d5bbbcc128",
   "metadata": {},
   "source": [
    "In the absence of bugs, we should never have non-symmetric equality, though it could happen if we don't check types and return `NotImplemented` in a `__eq__` override."
   ]
  },
  {
   "cell_type": "code",
   "execution_count": null,
   "id": "0a5bbcde-1055-41f1-bfcb-647109e32830",
   "metadata": {},
   "outputs": [],
   "source": []
  }
 ],
 "metadata": {
  "kernelspec": {
   "display_name": "Python 3 (ipykernel)",
   "language": "python",
   "name": "python3"
  },
  "language_info": {
   "codemirror_mode": {
    "name": "ipython",
    "version": 3
   },
   "file_extension": ".py",
   "mimetype": "text/x-python",
   "name": "python",
   "nbconvert_exporter": "python",
   "pygments_lexer": "ipython3",
   "version": "3.10.6"
  }
 },
 "nbformat": 4,
 "nbformat_minor": 5
}
