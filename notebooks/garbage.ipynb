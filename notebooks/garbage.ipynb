{
 "cells": [
  {
   "cell_type": "markdown",
   "id": "3949a1a7-1c62-4a36-8ba8-56e3bd5e88a5",
   "metadata": {},
   "source": [
    "# Garbage Collection"
   ]
  },
  {
   "cell_type": "code",
   "execution_count": 1,
   "id": "599fcf86-eb6c-4346-a73c-65f91cf9e4be",
   "metadata": {},
   "outputs": [],
   "source": [
    "import gc"
   ]
  },
  {
   "cell_type": "code",
   "execution_count": 2,
   "id": "bc1d41b1-68a8-4da5-9b49-92f9c0e60903",
   "metadata": {},
   "outputs": [],
   "source": [
    "gc.set_debug(gc.DEBUG_STATS)"
   ]
  },
  {
   "cell_type": "code",
   "execution_count": 3,
   "id": "5d872c46-d4d8-43aa-aa1a-66e13d019d01",
   "metadata": {},
   "outputs": [],
   "source": [
    "def g(a):\n",
    "    try:\n",
    "        for x in a:\n",
    "            yield x\n",
    "    finally:\n",
    "        print('Done.')"
   ]
  },
  {
   "cell_type": "code",
   "execution_count": 4,
   "id": "4672dfcf-e084-4ce0-8892-4025d443d7f3",
   "metadata": {},
   "outputs": [],
   "source": [
    "def f1():\n",
    "    a = [42, 76, g([])]\n",
    "    it = g(a)\n",
    "    print(next(it))"
   ]
  },
  {
   "cell_type": "code",
   "execution_count": 5,
   "id": "c4c947ce-86f0-44bb-a883-296279ea7c7f",
   "metadata": {},
   "outputs": [
    {
     "name": "stdout",
     "output_type": "stream",
     "text": [
      "42\n",
      "Done.\n"
     ]
    }
   ],
   "source": [
    "f1()"
   ]
  },
  {
   "cell_type": "code",
   "execution_count": 6,
   "id": "9493909c-523a-49f8-97e5-9c714b583173",
   "metadata": {},
   "outputs": [],
   "source": [
    "def f2():\n",
    "    a = [42, 76]\n",
    "    it = g(a)\n",
    "    a.append(it)\n",
    "    print(next(it))"
   ]
  },
  {
   "cell_type": "code",
   "execution_count": 7,
   "id": "7bcb6f44-eef1-42e5-932e-75146129c4a5",
   "metadata": {},
   "outputs": [
    {
     "name": "stdout",
     "output_type": "stream",
     "text": [
      "42\n"
     ]
    }
   ],
   "source": [
    "f2()"
   ]
  },
  {
   "cell_type": "code",
   "execution_count": 8,
   "id": "a344d640-b180-46a8-bd3d-5e65e556af91",
   "metadata": {},
   "outputs": [
    {
     "name": "stdout",
     "output_type": "stream",
     "text": [
      "Done.\n"
     ]
    },
    {
     "name": "stderr",
     "output_type": "stream",
     "text": [
      "gc: collecting generation 2...\n",
      "gc: objects in each generation: 548 3716 78073\n",
      "gc: objects in permanent generation: 0\n",
      "gc: done, 243 unreachable, 0 uncollectable, 0.0310s elapsed\n"
     ]
    },
    {
     "data": {
      "text/plain": [
       "243"
      ]
     },
     "execution_count": 8,
     "metadata": {},
     "output_type": "execute_result"
    }
   ],
   "source": [
    "gc.collect()"
   ]
  },
  {
   "cell_type": "code",
   "execution_count": 9,
   "id": "c38b265c-65ef-40f2-beb7-7327b23f235f",
   "metadata": {},
   "outputs": [
    {
     "name": "stdout",
     "output_type": "stream",
     "text": [
      "hello\n"
     ]
    }
   ],
   "source": [
    "print('hello')"
   ]
  },
  {
   "cell_type": "code",
   "execution_count": null,
   "id": "d7bfeade-e245-4ccb-a80f-6e1d00bce56a",
   "metadata": {},
   "outputs": [],
   "source": []
  }
 ],
 "metadata": {
  "kernelspec": {
   "display_name": "Python 3 (ipykernel)",
   "language": "python",
   "name": "python3"
  },
  "language_info": {
   "codemirror_mode": {
    "name": "ipython",
    "version": 3
   },
   "file_extension": ".py",
   "mimetype": "text/x-python",
   "name": "python",
   "nbconvert_exporter": "python",
   "pygments_lexer": "ipython3",
   "version": "3.10.6"
  }
 },
 "nbformat": 4,
 "nbformat_minor": 5
}
