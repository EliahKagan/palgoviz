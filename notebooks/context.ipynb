{
 "cells": [
  {
   "cell_type": "markdown",
   "id": "7b8193cb-44c5-4b34-9037-156b3f5823dd",
   "metadata": {},
   "source": [
    "# Context Managers"
   ]
  },
  {
   "cell_type": "code",
   "execution_count": 1,
   "id": "8c724810-e0ed-44ca-a691-65aa175c2354",
   "metadata": {},
   "outputs": [
    {
     "name": "stdout",
     "output_type": "stream",
     "text": [
      "Hello\n",
      "Goodbye\n"
     ]
    }
   ],
   "source": [
    "try: \n",
    "    print('Hello')\n",
    "finally: \n",
    "    print('Goodbye')"
   ]
  },
  {
   "cell_type": "code",
   "execution_count": 2,
   "id": "3acce57c-aa41-4b5f-8170-df3356ff9085",
   "metadata": {
    "tags": [
     "raises-exception"
    ]
   },
   "outputs": [
    {
     "name": "stdout",
     "output_type": "stream",
     "text": [
      "Hello\n",
      "Goodbye\n"
     ]
    },
    {
     "ename": "ValueError",
     "evalue": "",
     "output_type": "error",
     "traceback": [
      "\u001b[1;31m---------------------------------------------------------------------------\u001b[0m",
      "\u001b[1;31mValueError\u001b[0m                                Traceback (most recent call last)",
      "Cell \u001b[1;32mIn [2], line 3\u001b[0m\n\u001b[0;32m      1\u001b[0m \u001b[38;5;28;01mtry\u001b[39;00m: \n\u001b[0;32m      2\u001b[0m     \u001b[38;5;28mprint\u001b[39m(\u001b[38;5;124m'\u001b[39m\u001b[38;5;124mHello\u001b[39m\u001b[38;5;124m'\u001b[39m)\n\u001b[1;32m----> 3\u001b[0m     \u001b[38;5;28;01mraise\u001b[39;00m \u001b[38;5;167;01mValueError\u001b[39;00m\n\u001b[0;32m      4\u001b[0m \u001b[38;5;28;01mfinally\u001b[39;00m: \n\u001b[0;32m      5\u001b[0m     \u001b[38;5;28mprint\u001b[39m(\u001b[38;5;124m'\u001b[39m\u001b[38;5;124mGoodbye\u001b[39m\u001b[38;5;124m'\u001b[39m)\n",
      "\u001b[1;31mValueError\u001b[0m: "
     ]
    }
   ],
   "source": [
    "try: \n",
    "    print('Hello')\n",
    "    raise ValueError\n",
    "finally: \n",
    "    print('Goodbye')"
   ]
  },
  {
   "cell_type": "code",
   "execution_count": 3,
   "id": "1a57fd8e-95cb-4367-ae97-b938307033f8",
   "metadata": {},
   "outputs": [],
   "source": [
    "class SaysGoodbye: \n",
    "    def __enter__(self): \n",
    "        pass\n",
    "    \n",
    "    def __exit__(self, exc_type, exc_value, traceback): \n",
    "        print('Goodbye')"
   ]
  },
  {
   "cell_type": "code",
   "execution_count": 4,
   "id": "b974ddd8-2967-4a9a-8e05-3967190c24df",
   "metadata": {},
   "outputs": [
    {
     "name": "stdout",
     "output_type": "stream",
     "text": [
      "Hello\n",
      "Goodbye\n"
     ]
    }
   ],
   "source": [
    "with SaysGoodbye(): \n",
    "    print('Hello')"
   ]
  },
  {
   "cell_type": "code",
   "execution_count": 5,
   "id": "54c2fe11-a7ca-4337-a14f-e0212d587b7f",
   "metadata": {
    "tags": [
     "raises-exception"
    ]
   },
   "outputs": [
    {
     "name": "stdout",
     "output_type": "stream",
     "text": [
      "Hello\n",
      "Goodbye\n"
     ]
    },
    {
     "ename": "ValueError",
     "evalue": "",
     "output_type": "error",
     "traceback": [
      "\u001b[1;31m---------------------------------------------------------------------------\u001b[0m",
      "\u001b[1;31mValueError\u001b[0m                                Traceback (most recent call last)",
      "Cell \u001b[1;32mIn [5], line 3\u001b[0m\n\u001b[0;32m      1\u001b[0m \u001b[38;5;28;01mwith\u001b[39;00m SaysGoodbye(): \n\u001b[0;32m      2\u001b[0m     \u001b[38;5;28mprint\u001b[39m(\u001b[38;5;124m'\u001b[39m\u001b[38;5;124mHello\u001b[39m\u001b[38;5;124m'\u001b[39m)\n\u001b[1;32m----> 3\u001b[0m     \u001b[38;5;28;01mraise\u001b[39;00m \u001b[38;5;167;01mValueError\u001b[39;00m\n",
      "\u001b[1;31mValueError\u001b[0m: "
     ]
    }
   ],
   "source": [
    "with SaysGoodbye(): \n",
    "    print('Hello')\n",
    "    raise ValueError"
   ]
  },
  {
   "cell_type": "code",
   "execution_count": 6,
   "id": "535321c9-ca26-41f1-aa9b-c635f5c19e63",
   "metadata": {},
   "outputs": [],
   "source": [
    "class FancyGuest: \n",
    "    \n",
    "    __slots__ = ('_name',)\n",
    "    \n",
    "    def __init__(self, name): \n",
    "        self._name = name\n",
    "    \n",
    "    def __enter__(self): \n",
    "        print(f'{self._name} has arrived!')\n",
    "        return self._name\n",
    "    \n",
    "    def __exit__(self, exc_type, exc_value, traceback): \n",
    "        if exc_type is None: \n",
    "            print(f'{self._name} has important business to attend to, and must depart!')\n",
    "        else: \n",
    "            print(f'{self._name} has suffered a tragic {exc_type.__name__}!')"
   ]
  },
  {
   "cell_type": "code",
   "execution_count": 7,
   "id": "256212db-69b3-4adc-a661-21af4b0aea06",
   "metadata": {},
   "outputs": [
    {
     "name": "stdout",
     "output_type": "stream",
     "text": [
      "Cecil II has arrived!\n",
      "Cecil II is boogying at the party\n",
      "Cecil II has important business to attend to, and must depart!\n"
     ]
    }
   ],
   "source": [
    "with FancyGuest('Cecil II') as guest: \n",
    "    print(f'{guest} is boogying at the party')"
   ]
  },
  {
   "cell_type": "code",
   "execution_count": 8,
   "id": "4c27f24c-30df-4009-9872-425c2f565a02",
   "metadata": {
    "tags": [
     "raises-exception"
    ]
   },
   "outputs": [
    {
     "name": "stdout",
     "output_type": "stream",
     "text": [
      "Cecil II has arrived!\n",
      "Cecil II is boogying at the party\n",
      "Cecil II has suffered a tragic ValueError!\n"
     ]
    },
    {
     "ename": "ValueError",
     "evalue": "",
     "output_type": "error",
     "traceback": [
      "\u001b[1;31m---------------------------------------------------------------------------\u001b[0m",
      "\u001b[1;31mValueError\u001b[0m                                Traceback (most recent call last)",
      "Cell \u001b[1;32mIn [8], line 3\u001b[0m\n\u001b[0;32m      1\u001b[0m \u001b[38;5;28;01mwith\u001b[39;00m FancyGuest(\u001b[38;5;124m'\u001b[39m\u001b[38;5;124mCecil II\u001b[39m\u001b[38;5;124m'\u001b[39m) \u001b[38;5;28;01mas\u001b[39;00m guest: \n\u001b[0;32m      2\u001b[0m     \u001b[38;5;28mprint\u001b[39m(\u001b[38;5;124mf\u001b[39m\u001b[38;5;124m'\u001b[39m\u001b[38;5;132;01m{\u001b[39;00mguest\u001b[38;5;132;01m}\u001b[39;00m\u001b[38;5;124m is boogying at the party\u001b[39m\u001b[38;5;124m'\u001b[39m)\n\u001b[1;32m----> 3\u001b[0m     \u001b[38;5;28;01mraise\u001b[39;00m \u001b[38;5;167;01mValueError\u001b[39;00m\n",
      "\u001b[1;31mValueError\u001b[0m: "
     ]
    }
   ],
   "source": [
    "with FancyGuest('Cecil II') as guest: \n",
    "    print(f'{guest} is boogying at the party')\n",
    "    raise ValueError"
   ]
  },
  {
   "cell_type": "code",
   "execution_count": 9,
   "id": "72b55953-be9a-4243-ab87-c9fae670b5ca",
   "metadata": {},
   "outputs": [],
   "source": [
    "import contextlib"
   ]
  },
  {
   "cell_type": "code",
   "execution_count": 10,
   "id": "cd372f17-09a9-4575-b695-28951550b39f",
   "metadata": {},
   "outputs": [
    {
     "data": {
      "text/plain": [
       "['AbstractAsyncContextManager',\n",
       " 'AbstractContextManager',\n",
       " 'AsyncContextDecorator',\n",
       " 'AsyncExitStack',\n",
       " 'ContextDecorator',\n",
       " 'ExitStack',\n",
       " 'GenericAlias',\n",
       " 'MethodType',\n",
       " '_AsyncGeneratorContextManager',\n",
       " '_BaseExitStack',\n",
       " '_GeneratorContextManager',\n",
       " '_GeneratorContextManagerBase',\n",
       " '_RedirectStream',\n",
       " '__all__',\n",
       " '__builtins__',\n",
       " '__cached__',\n",
       " '__doc__',\n",
       " '__file__',\n",
       " '__loader__',\n",
       " '__name__',\n",
       " '__package__',\n",
       " '__spec__',\n",
       " '_collections_abc',\n",
       " 'abc',\n",
       " 'aclosing',\n",
       " 'asynccontextmanager',\n",
       " 'closing',\n",
       " 'contextmanager',\n",
       " 'deque',\n",
       " 'nullcontext',\n",
       " 'redirect_stderr',\n",
       " 'redirect_stdout',\n",
       " 'suppress',\n",
       " 'sys',\n",
       " 'wraps']"
      ]
     },
     "execution_count": 10,
     "metadata": {},
     "output_type": "execute_result"
    }
   ],
   "source": [
    "dir(contextlib)"
   ]
  },
  {
   "cell_type": "code",
   "execution_count": 11,
   "id": "612c347b-6276-4d9e-8a59-34e3defdef15",
   "metadata": {},
   "outputs": [
    {
     "name": "stdout",
     "output_type": "stream",
     "text": [
      "Help on class closing in module contextlib:\n",
      "\n",
      "class closing(AbstractContextManager)\n",
      " |  closing(thing)\n",
      " |  \n",
      " |  Context to automatically close something at the end of a block.\n",
      " |  \n",
      " |  Code like this:\n",
      " |  \n",
      " |      with closing(<module>.open(<arguments>)) as f:\n",
      " |          <block>\n",
      " |  \n",
      " |  is equivalent to this:\n",
      " |  \n",
      " |      f = <module>.open(<arguments>)\n",
      " |      try:\n",
      " |          <block>\n",
      " |      finally:\n",
      " |          f.close()\n",
      " |  \n",
      " |  Method resolution order:\n",
      " |      closing\n",
      " |      AbstractContextManager\n",
      " |      abc.ABC\n",
      " |      builtins.object\n",
      " |  \n",
      " |  Methods defined here:\n",
      " |  \n",
      " |  __enter__(self)\n",
      " |      Return `self` upon entering the runtime context.\n",
      " |  \n",
      " |  __exit__(self, *exc_info)\n",
      " |      Raise any exception triggered within the runtime context.\n",
      " |  \n",
      " |  __init__(self, thing)\n",
      " |      Initialize self.  See help(type(self)) for accurate signature.\n",
      " |  \n",
      " |  ----------------------------------------------------------------------\n",
      " |  Data and other attributes defined here:\n",
      " |  \n",
      " |  __abstractmethods__ = frozenset()\n",
      " |  \n",
      " |  ----------------------------------------------------------------------\n",
      " |  Class methods inherited from AbstractContextManager:\n",
      " |  \n",
      " |  __class_getitem__ = GenericAlias(...) from abc.ABCMeta\n",
      " |      Represent a PEP 585 generic type\n",
      " |      \n",
      " |      E.g. for t = list[int], t.__origin__ is list and t.__args__ is (int,).\n",
      " |  \n",
      " |  __subclasshook__(C) from abc.ABCMeta\n",
      " |      Abstract classes can override this to customize issubclass().\n",
      " |      \n",
      " |      This is invoked early on by abc.ABCMeta.__subclasscheck__().\n",
      " |      It should return True, False or NotImplemented.  If it returns\n",
      " |      NotImplemented, the normal algorithm is used.  Otherwise, it\n",
      " |      overrides the normal algorithm (and the outcome is cached).\n",
      " |  \n",
      " |  ----------------------------------------------------------------------\n",
      " |  Data descriptors inherited from AbstractContextManager:\n",
      " |  \n",
      " |  __dict__\n",
      " |      dictionary for instance variables (if defined)\n",
      " |  \n",
      " |  __weakref__\n",
      " |      list of weak references to the object (if defined)\n",
      "\n"
     ]
    }
   ],
   "source": [
    "help(contextlib.closing)"
   ]
  },
  {
   "cell_type": "code",
   "execution_count": 12,
   "id": "0c50acd0-d74e-4f78-8679-49fad51a5266",
   "metadata": {},
   "outputs": [],
   "source": [
    "class HasClose: \n",
    "    \n",
    "    def hello(self): \n",
    "        print('Hello')\n",
    "        \n",
    "    def close(self):\n",
    "        print('Bye')"
   ]
  },
  {
   "cell_type": "code",
   "execution_count": 13,
   "id": "56c70c6b-b9ae-4328-a5c3-732d6ddee75a",
   "metadata": {},
   "outputs": [
    {
     "name": "stdout",
     "output_type": "stream",
     "text": [
      "Hello\n",
      "Hello\n",
      "Hello\n",
      "Hello\n",
      "Bye\n"
     ]
    }
   ],
   "source": [
    "with contextlib.closing(HasClose()) as hc:\n",
    "    hc.hello()\n",
    "    hc.hello()\n",
    "    hc.hello()\n",
    "    hc.hello()"
   ]
  },
  {
   "cell_type": "code",
   "execution_count": 14,
   "id": "0f16f490-beb1-4e60-9f14-e0dfcdd02b1f",
   "metadata": {},
   "outputs": [
    {
     "name": "stdout",
     "output_type": "stream",
     "text": [
      "Help on class redirect_stdout in module contextlib:\n",
      "\n",
      "class redirect_stdout(_RedirectStream)\n",
      " |  redirect_stdout(new_target)\n",
      " |  \n",
      " |  Context manager for temporarily redirecting stdout to another file.\n",
      " |  \n",
      " |  # How to send help() to stderr\n",
      " |  with redirect_stdout(sys.stderr):\n",
      " |      help(dir)\n",
      " |  \n",
      " |  # How to write help() to a file\n",
      " |  with open('help.txt', 'w') as f:\n",
      " |      with redirect_stdout(f):\n",
      " |          help(pow)\n",
      " |  \n",
      " |  Method resolution order:\n",
      " |      redirect_stdout\n",
      " |      _RedirectStream\n",
      " |      AbstractContextManager\n",
      " |      abc.ABC\n",
      " |      builtins.object\n",
      " |  \n",
      " |  Data and other attributes defined here:\n",
      " |  \n",
      " |  __abstractmethods__ = frozenset()\n",
      " |  \n",
      " |  ----------------------------------------------------------------------\n",
      " |  Methods inherited from _RedirectStream:\n",
      " |  \n",
      " |  __enter__(self)\n",
      " |      Return `self` upon entering the runtime context.\n",
      " |  \n",
      " |  __exit__(self, exctype, excinst, exctb)\n",
      " |      Raise any exception triggered within the runtime context.\n",
      " |  \n",
      " |  __init__(self, new_target)\n",
      " |      Initialize self.  See help(type(self)) for accurate signature.\n",
      " |  \n",
      " |  ----------------------------------------------------------------------\n",
      " |  Class methods inherited from AbstractContextManager:\n",
      " |  \n",
      " |  __class_getitem__ = GenericAlias(...) from abc.ABCMeta\n",
      " |      Represent a PEP 585 generic type\n",
      " |      \n",
      " |      E.g. for t = list[int], t.__origin__ is list and t.__args__ is (int,).\n",
      " |  \n",
      " |  __subclasshook__(C) from abc.ABCMeta\n",
      " |      Abstract classes can override this to customize issubclass().\n",
      " |      \n",
      " |      This is invoked early on by abc.ABCMeta.__subclasscheck__().\n",
      " |      It should return True, False or NotImplemented.  If it returns\n",
      " |      NotImplemented, the normal algorithm is used.  Otherwise, it\n",
      " |      overrides the normal algorithm (and the outcome is cached).\n",
      " |  \n",
      " |  ----------------------------------------------------------------------\n",
      " |  Data descriptors inherited from AbstractContextManager:\n",
      " |  \n",
      " |  __dict__\n",
      " |      dictionary for instance variables (if defined)\n",
      " |  \n",
      " |  __weakref__\n",
      " |      list of weak references to the object (if defined)\n",
      "\n"
     ]
    }
   ],
   "source": [
    "help(contextlib.redirect_stdout)"
   ]
  },
  {
   "cell_type": "code",
   "execution_count": 15,
   "id": "e2ed421e-4bdf-4afe-8120-d01a3dedd3c2",
   "metadata": {},
   "outputs": [],
   "source": [
    "from io import StringIO"
   ]
  },
  {
   "cell_type": "code",
   "execution_count": 16,
   "id": "8012cc5f-fde7-4253-9c06-5c4a889cc9a2",
   "metadata": {},
   "outputs": [],
   "source": [
    "sio = StringIO()"
   ]
  },
  {
   "cell_type": "code",
   "execution_count": 17,
   "id": "c711bbc3-a9f8-41ca-a430-6d5dce0c475c",
   "metadata": {},
   "outputs": [],
   "source": [
    "print('Hello', file=sio)"
   ]
  },
  {
   "cell_type": "code",
   "execution_count": 18,
   "id": "bc56d181-9a8d-45ab-aef3-fa46ba9aadfc",
   "metadata": {},
   "outputs": [
    {
     "data": {
      "text/plain": [
       "'Hello\\n'"
      ]
     },
     "execution_count": 18,
     "metadata": {},
     "output_type": "execute_result"
    }
   ],
   "source": [
    "sio.getvalue()"
   ]
  },
  {
   "cell_type": "code",
   "execution_count": 19,
   "id": "fde9a6ef-de53-482f-9fab-b195fc0f6b85",
   "metadata": {},
   "outputs": [],
   "source": [
    "with contextlib.redirect_stdout(sio): \n",
    "    print('INTERCEPTED from its path to stdout')"
   ]
  },
  {
   "cell_type": "code",
   "execution_count": 20,
   "id": "c4d716f3-9527-4112-bac1-ad4eff9c50eb",
   "metadata": {},
   "outputs": [
    {
     "data": {
      "text/plain": [
       "'Hello\\nINTERCEPTED from its path to stdout\\n'"
      ]
     },
     "execution_count": 20,
     "metadata": {},
     "output_type": "execute_result"
    }
   ],
   "source": [
    "sio.getvalue()"
   ]
  },
  {
   "cell_type": "code",
   "execution_count": 21,
   "id": "96e7bfda-6a66-444e-968b-357e94df0f59",
   "metadata": {
    "tags": [
     "raises-exception"
    ]
   },
   "outputs": [
    {
     "ename": "ValueError",
     "evalue": "",
     "output_type": "error",
     "traceback": [
      "\u001b[1;31m---------------------------------------------------------------------------\u001b[0m",
      "\u001b[1;31mValueError\u001b[0m                                Traceback (most recent call last)",
      "Cell \u001b[1;32mIn [21], line 3\u001b[0m\n\u001b[0;32m      1\u001b[0m \u001b[38;5;28;01mwith\u001b[39;00m contextlib\u001b[38;5;241m.\u001b[39mredirect_stdout(sio): \n\u001b[0;32m      2\u001b[0m     \u001b[38;5;28mprint\u001b[39m(\u001b[38;5;124m'\u001b[39m\u001b[38;5;124mEven with an exception INTERCEPTED from its path to stdout\u001b[39m\u001b[38;5;124m'\u001b[39m)\n\u001b[1;32m----> 3\u001b[0m     \u001b[38;5;28;01mraise\u001b[39;00m \u001b[38;5;167;01mValueError\u001b[39;00m\n",
      "\u001b[1;31mValueError\u001b[0m: "
     ]
    }
   ],
   "source": [
    "with contextlib.redirect_stdout(sio): \n",
    "    print('Even with an exception INTERCEPTED from its path to stdout')\n",
    "    raise ValueError"
   ]
  },
  {
   "cell_type": "code",
   "execution_count": 22,
   "id": "404c8888-e264-412f-b14e-d3790c88ae7e",
   "metadata": {},
   "outputs": [
    {
     "data": {
      "text/plain": [
       "'Hello\\nINTERCEPTED from its path to stdout\\nEven with an exception INTERCEPTED from its path to stdout\\n'"
      ]
     },
     "execution_count": 22,
     "metadata": {},
     "output_type": "execute_result"
    }
   ],
   "source": [
    "sio.getvalue()"
   ]
  },
  {
   "cell_type": "code",
   "execution_count": 23,
   "id": "eceece2c-b3be-4835-8469-d5137994e2e0",
   "metadata": {},
   "outputs": [
    {
     "name": "stdout",
     "output_type": "stream",
     "text": [
      "Hello\n",
      "INTERCEPTED from its path to stdout\n",
      "Even with an exception INTERCEPTED from its path to stdout\n",
      "\n"
     ]
    }
   ],
   "source": [
    "print(sio.getvalue())"
   ]
  },
  {
   "cell_type": "code",
   "execution_count": 24,
   "id": "16908217-80f1-4c27-93db-8a9d30bd32b7",
   "metadata": {},
   "outputs": [
    {
     "name": "stdout",
     "output_type": "stream",
     "text": [
      "Help on class suppress in module contextlib:\n",
      "\n",
      "class suppress(AbstractContextManager)\n",
      " |  suppress(*exceptions)\n",
      " |  \n",
      " |  Context manager to suppress specified exceptions\n",
      " |  \n",
      " |  After the exception is suppressed, execution proceeds with the next\n",
      " |  statement following the with statement.\n",
      " |  \n",
      " |       with suppress(FileNotFoundError):\n",
      " |           os.remove(somefile)\n",
      " |       # Execution still resumes here if the file was already removed\n",
      " |  \n",
      " |  Method resolution order:\n",
      " |      suppress\n",
      " |      AbstractContextManager\n",
      " |      abc.ABC\n",
      " |      builtins.object\n",
      " |  \n",
      " |  Methods defined here:\n",
      " |  \n",
      " |  __enter__(self)\n",
      " |      Return `self` upon entering the runtime context.\n",
      " |  \n",
      " |  __exit__(self, exctype, excinst, exctb)\n",
      " |      Raise any exception triggered within the runtime context.\n",
      " |  \n",
      " |  __init__(self, *exceptions)\n",
      " |      Initialize self.  See help(type(self)) for accurate signature.\n",
      " |  \n",
      " |  ----------------------------------------------------------------------\n",
      " |  Data and other attributes defined here:\n",
      " |  \n",
      " |  __abstractmethods__ = frozenset()\n",
      " |  \n",
      " |  ----------------------------------------------------------------------\n",
      " |  Class methods inherited from AbstractContextManager:\n",
      " |  \n",
      " |  __class_getitem__ = GenericAlias(...) from abc.ABCMeta\n",
      " |      Represent a PEP 585 generic type\n",
      " |      \n",
      " |      E.g. for t = list[int], t.__origin__ is list and t.__args__ is (int,).\n",
      " |  \n",
      " |  __subclasshook__(C) from abc.ABCMeta\n",
      " |      Abstract classes can override this to customize issubclass().\n",
      " |      \n",
      " |      This is invoked early on by abc.ABCMeta.__subclasscheck__().\n",
      " |      It should return True, False or NotImplemented.  If it returns\n",
      " |      NotImplemented, the normal algorithm is used.  Otherwise, it\n",
      " |      overrides the normal algorithm (and the outcome is cached).\n",
      " |  \n",
      " |  ----------------------------------------------------------------------\n",
      " |  Data descriptors inherited from AbstractContextManager:\n",
      " |  \n",
      " |  __dict__\n",
      " |      dictionary for instance variables (if defined)\n",
      " |  \n",
      " |  __weakref__\n",
      " |      list of weak references to the object (if defined)\n",
      "\n"
     ]
    }
   ],
   "source": [
    "help(contextlib.suppress)"
   ]
  },
  {
   "cell_type": "code",
   "execution_count": 25,
   "id": "7fc0a12d-d62e-477b-a07e-def73a6fb177",
   "metadata": {},
   "outputs": [
    {
     "name": "stdout",
     "output_type": "stream",
     "text": [
      "Cecil II has arrived!\n",
      "Cecil II is boogying at the party\n",
      "Cecil II has suffered a tragic ValueError!\n"
     ]
    }
   ],
   "source": [
    "# NOTE: contrived example\n",
    "with contextlib.suppress(ValueError): \n",
    "    with FancyGuest('Cecil II') as guest: \n",
    "            print(f'{guest} is boogying at the party')\n",
    "            raise ValueError"
   ]
  },
  {
   "cell_type": "code",
   "execution_count": 26,
   "id": "db6937d5-78d2-4210-8e91-33aeb746834a",
   "metadata": {},
   "outputs": [
    {
     "name": "stdout",
     "output_type": "stream",
     "text": [
      "Doin' stuff\n"
     ]
    }
   ],
   "source": [
    "# NOTE: contrived example \n",
    "with contextlib.suppress(TypeError): \n",
    "    print(\"Doin' stuff\")\n",
    "    raise TypeError"
   ]
  },
  {
   "cell_type": "code",
   "execution_count": 27,
   "id": "9464cb51-3585-4db4-9120-c3273ff2f468",
   "metadata": {
    "tags": [
     "raises-exception"
    ]
   },
   "outputs": [
    {
     "name": "stdout",
     "output_type": "stream",
     "text": [
      "Doin' stuff\n"
     ]
    },
    {
     "ename": "ValueError",
     "evalue": "",
     "output_type": "error",
     "traceback": [
      "\u001b[1;31m---------------------------------------------------------------------------\u001b[0m",
      "\u001b[1;31mValueError\u001b[0m                                Traceback (most recent call last)",
      "Cell \u001b[1;32mIn [27], line 3\u001b[0m\n\u001b[0;32m      1\u001b[0m \u001b[38;5;28;01mwith\u001b[39;00m contextlib\u001b[38;5;241m.\u001b[39msuppress(\u001b[38;5;167;01mTypeError\u001b[39;00m): \n\u001b[0;32m      2\u001b[0m     \u001b[38;5;28mprint\u001b[39m(\u001b[38;5;124m\"\u001b[39m\u001b[38;5;124mDoin\u001b[39m\u001b[38;5;124m'\u001b[39m\u001b[38;5;124m stuff\u001b[39m\u001b[38;5;124m\"\u001b[39m)\n\u001b[1;32m----> 3\u001b[0m     \u001b[38;5;28;01mraise\u001b[39;00m \u001b[38;5;167;01mValueError\u001b[39;00m\n",
      "\u001b[1;31mValueError\u001b[0m: "
     ]
    }
   ],
   "source": [
    "with contextlib.suppress(TypeError): \n",
    "    print(\"Doin' stuff\")\n",
    "    raise ValueError"
   ]
  },
  {
   "cell_type": "code",
   "execution_count": null,
   "id": "9e9f4861-906d-4e9b-b218-6f1d8132bce3",
   "metadata": {},
   "outputs": [],
   "source": []
  }
 ],
 "metadata": {
  "kernelspec": {
   "display_name": "Python 3 (ipykernel)",
   "language": "python",
   "name": "python3"
  },
  "language_info": {
   "codemirror_mode": {
    "name": "ipython",
    "version": 3
   },
   "file_extension": ".py",
   "mimetype": "text/x-python",
   "name": "python",
   "nbconvert_exporter": "python",
   "pygments_lexer": "ipython3",
   "version": "3.10.6"
  },
  "vscode": {
   "interpreter": {
    "hash": "7a7b42f825731c4d935f8bf006655acf84b53c1352303d13bb9aec5cb8623f97"
   }
  }
 },
 "nbformat": 4,
 "nbformat_minor": 5
}
