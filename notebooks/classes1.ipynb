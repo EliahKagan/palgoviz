{
 "cells": [
  {
   "cell_type": "markdown",
   "id": "be9fadda-61d6-4931-a6bf-1a71b2acc14d",
   "metadata": {},
   "source": [
    "# Classes - basic features, various examples\n",
    "\n",
    "SPDX-License-Identifier: 0BSD"
   ]
  },
  {
   "cell_type": "code",
   "execution_count": 1,
   "id": "c9648b9c-55a8-48a6-9075-520b79ee721c",
   "metadata": {},
   "outputs": [],
   "source": [
    "class Widget:\n",
    "    \"\"\"A thing we can frobnicate.\"\"\"\n",
    "    def frobnicate(self):\n",
    "        print(f'{self} is frobnicating, {self} is frobnicating real nice.')"
   ]
  },
  {
   "cell_type": "code",
   "execution_count": 2,
   "id": "9ead9fe3-7266-461d-b73d-e4d7bb0e140f",
   "metadata": {},
   "outputs": [],
   "source": [
    "wf = Widget()"
   ]
  },
  {
   "cell_type": "code",
   "execution_count": 3,
   "id": "06c8aea3-3813-43ad-81cd-b4eca3871bc2",
   "metadata": {},
   "outputs": [
    {
     "name": "stdout",
     "output_type": "stream",
     "text": [
      "<__main__.Widget object at 0x000002166E4E4150> is frobnicating, <__main__.Widget object at 0x000002166E4E4150> is frobnicating real nice.\n"
     ]
    }
   ],
   "source": [
    "wf.frobnicate()"
   ]
  },
  {
   "cell_type": "code",
   "execution_count": 4,
   "id": "16b48613-0011-4c5b-ad7b-9bcf012d6cf1",
   "metadata": {},
   "outputs": [
    {
     "data": {
      "text/plain": [
       "(object,)"
      ]
     },
     "execution_count": 4,
     "metadata": {},
     "output_type": "execute_result"
    }
   ],
   "source": [
    "Widget.__bases__"
   ]
  },
  {
   "cell_type": "code",
   "execution_count": 5,
   "id": "1b3cea89-4f1f-4054-b5e4-4f69a520516e",
   "metadata": {},
   "outputs": [
    {
     "data": {
      "text/plain": [
       "[__main__.Widget, object]"
      ]
     },
     "execution_count": 5,
     "metadata": {},
     "output_type": "execute_result"
    }
   ],
   "source": [
    "Widget.mro()"
   ]
  },
  {
   "cell_type": "code",
   "execution_count": 6,
   "id": "a159d2f5-f8b9-4585-8dcf-4b8760e9b6d6",
   "metadata": {},
   "outputs": [],
   "source": [
    "o = object()"
   ]
  },
  {
   "cell_type": "code",
   "execution_count": 7,
   "id": "1fccd5da-cfea-44c8-a99e-75abeb8cb48e",
   "metadata": {},
   "outputs": [],
   "source": [
    "w = Widget()"
   ]
  },
  {
   "cell_type": "code",
   "execution_count": 8,
   "id": "48f4614a-3e93-474b-844a-cba7291fe67d",
   "metadata": {},
   "outputs": [
    {
     "data": {
      "text/plain": [
       "'<__main__.Widget object at 0x000002166E4F0990>'"
      ]
     },
     "execution_count": 8,
     "metadata": {},
     "output_type": "execute_result"
    }
   ],
   "source": [
    "repr(w)"
   ]
  },
  {
   "cell_type": "code",
   "execution_count": 9,
   "id": "069b7973-1e93-420c-b98e-50a79658008a",
   "metadata": {},
   "outputs": [
    {
     "data": {
      "text/plain": [
       "<__main__.Widget at 0x2166e4f0990>"
      ]
     },
     "execution_count": 9,
     "metadata": {},
     "output_type": "execute_result"
    }
   ],
   "source": [
    "w # the same as the code above, looks different because jupyter uses ipython"
   ]
  },
  {
   "cell_type": "code",
   "execution_count": 10,
   "id": "7fec50bd-e224-4e48-9a9e-0a5008551924",
   "metadata": {},
   "outputs": [],
   "source": [
    "w.myattribute = 'my attribute' "
   ]
  },
  {
   "cell_type": "code",
   "execution_count": 11,
   "id": "dba2dc50-828a-43cf-a5fc-480f916b203b",
   "metadata": {},
   "outputs": [
    {
     "data": {
      "text/plain": [
       "'my attribute'"
      ]
     },
     "execution_count": 11,
     "metadata": {},
     "output_type": "execute_result"
    }
   ],
   "source": [
    "w.myattribute"
   ]
  },
  {
   "cell_type": "code",
   "execution_count": 12,
   "id": "94b0924e-4997-494a-b711-6d484678044b",
   "metadata": {},
   "outputs": [
    {
     "data": {
      "text/plain": [
       "143460200601"
      ]
     },
     "execution_count": 12,
     "metadata": {},
     "output_type": "execute_result"
    }
   ],
   "source": [
    "hash(w)"
   ]
  },
  {
   "cell_type": "code",
   "execution_count": 13,
   "id": "e786d8b2-5051-42c9-a1bb-d536d8905d82",
   "metadata": {},
   "outputs": [
    {
     "data": {
      "text/plain": [
       "__main__.Widget"
      ]
     },
     "execution_count": 13,
     "metadata": {},
     "output_type": "execute_result"
    }
   ],
   "source": [
    "type(w)"
   ]
  },
  {
   "cell_type": "code",
   "execution_count": 14,
   "id": "46108675-ba1a-4ddb-9bec-486cb95fd2d6",
   "metadata": {},
   "outputs": [
    {
     "data": {
      "text/plain": [
       "type"
      ]
     },
     "execution_count": 14,
     "metadata": {},
     "output_type": "execute_result"
    }
   ],
   "source": [
    "type(Widget)"
   ]
  },
  {
   "cell_type": "code",
   "execution_count": 15,
   "id": "d6de47d8-7eee-49f7-bdba-7c1afdecd243",
   "metadata": {},
   "outputs": [
    {
     "data": {
      "text/plain": [
       "type"
      ]
     },
     "execution_count": 15,
     "metadata": {},
     "output_type": "execute_result"
    }
   ],
   "source": [
    "type(int)"
   ]
  },
  {
   "cell_type": "code",
   "execution_count": 16,
   "id": "5f9c8874-31af-42ca-ac72-ca5255865101",
   "metadata": {},
   "outputs": [
    {
     "data": {
      "text/plain": [
       "True"
      ]
     },
     "execution_count": 16,
     "metadata": {},
     "output_type": "execute_result"
    }
   ],
   "source": [
    "isinstance(w, Widget)"
   ]
  },
  {
   "cell_type": "code",
   "execution_count": 17,
   "id": "4deb1bdd-1645-4f0f-ba11-0b55d28d474e",
   "metadata": {},
   "outputs": [],
   "source": [
    "class Gadget(Widget):\n",
    "    pass"
   ]
  },
  {
   "cell_type": "code",
   "execution_count": 18,
   "id": "d32f5e1f-210f-46c1-a7b0-eee581febf96",
   "metadata": {},
   "outputs": [],
   "source": [
    "g = Gadget()"
   ]
  },
  {
   "cell_type": "code",
   "execution_count": 19,
   "id": "d44599cd-8692-4780-9c01-7b486a1e21f3",
   "metadata": {},
   "outputs": [
    {
     "data": {
      "text/plain": [
       "__main__.Gadget"
      ]
     },
     "execution_count": 19,
     "metadata": {},
     "output_type": "execute_result"
    }
   ],
   "source": [
    "type(g)"
   ]
  },
  {
   "cell_type": "code",
   "execution_count": 20,
   "id": "997c80de-642e-4b71-adfb-662cf0d44731",
   "metadata": {},
   "outputs": [
    {
     "data": {
      "text/plain": [
       "True"
      ]
     },
     "execution_count": 20,
     "metadata": {},
     "output_type": "execute_result"
    }
   ],
   "source": [
    "isinstance(g, Gadget)"
   ]
  },
  {
   "cell_type": "code",
   "execution_count": 21,
   "id": "9bf6c4f8-643e-4e4b-9fd2-e0d509e81912",
   "metadata": {},
   "outputs": [
    {
     "data": {
      "text/plain": [
       "True"
      ]
     },
     "execution_count": 21,
     "metadata": {},
     "output_type": "execute_result"
    }
   ],
   "source": [
    "isinstance(g, Widget)"
   ]
  },
  {
   "cell_type": "code",
   "execution_count": 22,
   "id": "3156da34-2c2a-4fad-a635-bb7f093d71d6",
   "metadata": {},
   "outputs": [
    {
     "name": "stdout",
     "output_type": "stream",
     "text": [
      "<__main__.Gadget object at 0x000002166E50CE50> is frobnicating, <__main__.Gadget object at 0x000002166E50CE50> is frobnicating real nice.\n"
     ]
    }
   ],
   "source": [
    "g.frobnicate()"
   ]
  },
  {
   "cell_type": "code",
   "execution_count": 23,
   "id": "b66b458e-588f-4115-9ef9-89a301ce8681",
   "metadata": {},
   "outputs": [],
   "source": [
    "class Squirrel:\n",
    "    \"\"\"A squirrel that is both a tree- and social-climber.\"\"\"\n",
    "    \n",
    "    _demeanor = 'genial'\n",
    "    \n",
    "    def __init__(self, name, color):\n",
    "        \"\"\"Create a squirrel of the given name and color.\"\"\"\n",
    "        self._name = name\n",
    "        self._color = color\n",
    "    \n",
    "    def announce(self):\n",
    "        \"\"\"Announce this squirrel at a fancy party.\"\"\"\n",
    "        print(f'{self.name} the {self.color} squirrel has arrived!')\n",
    "    \n",
    "    @property\n",
    "    def name(self):\n",
    "        \"\"\"This squirrel's name.\"\"\"\n",
    "        return self._name\n",
    "    \n",
    "    @property\n",
    "    def color(self):\n",
    "        \"\"\"The color of this squirrel.\"\"\"\n",
    "        return self._color\n",
    "    \n",
    "    @property\n",
    "    def demeanor(self):\n",
    "        \"\"\"This squirrel's demeanor, supposedly.\"\"\"\n",
    "        return self._demeanor\n",
    "    \n",
    "    @demeanor.setter\n",
    "    def demeanor(self, value):\n",
    "        if value not in ('genial', 'nice'):\n",
    "            raise ValueError('demeanors do not support honesty')\n",
    "        self._demeanor = value"
   ]
  },
  {
   "cell_type": "code",
   "execution_count": 24,
   "id": "48a4ff29-686f-4896-b4ee-e1d31aeac736",
   "metadata": {},
   "outputs": [
    {
     "name": "stdout",
     "output_type": "stream",
     "text": [
      "Alice the gray squirrel has arrived!\n"
     ]
    }
   ],
   "source": [
    "alice = Squirrel('Alice', 'gray')\n",
    "alice.announce()"
   ]
  },
  {
   "cell_type": "code",
   "execution_count": 25,
   "id": "efee4ded-465e-4720-ad26-ade16de5b908",
   "metadata": {},
   "outputs": [
    {
     "data": {
      "text/plain": [
       "'genial'"
      ]
     },
     "execution_count": 25,
     "metadata": {},
     "output_type": "execute_result"
    }
   ],
   "source": [
    "alice.demeanor"
   ]
  },
  {
   "cell_type": "code",
   "execution_count": 26,
   "id": "6bc58ee9-7520-49cb-bf13-780a4bd55031",
   "metadata": {
    "tags": [
     "raises-exception"
    ]
   },
   "outputs": [
    {
     "ename": "ValueError",
     "evalue": "demeanors do not support honesty",
     "output_type": "error",
     "traceback": [
      "\u001b[1;31m---------------------------------------------------------------------------\u001b[0m",
      "\u001b[1;31mValueError\u001b[0m                                Traceback (most recent call last)",
      "Cell \u001b[1;32mIn[26], line 1\u001b[0m\n\u001b[1;32m----> 1\u001b[0m \u001b[43malice\u001b[49m\u001b[38;5;241;43m.\u001b[39;49m\u001b[43mdemeanor\u001b[49m \u001b[38;5;241m=\u001b[39m \u001b[38;5;124m'\u001b[39m\u001b[38;5;124mvery mean\u001b[39m\u001b[38;5;124m'\u001b[39m\n",
      "Cell \u001b[1;32mIn[23], line 33\u001b[0m, in \u001b[0;36mSquirrel.demeanor\u001b[1;34m(self, value)\u001b[0m\n\u001b[0;32m     30\u001b[0m \u001b[38;5;129m@demeanor\u001b[39m\u001b[38;5;241m.\u001b[39msetter\n\u001b[0;32m     31\u001b[0m \u001b[38;5;28;01mdef\u001b[39;00m \u001b[38;5;21mdemeanor\u001b[39m(\u001b[38;5;28mself\u001b[39m, value):\n\u001b[0;32m     32\u001b[0m     \u001b[38;5;28;01mif\u001b[39;00m value \u001b[38;5;129;01mnot\u001b[39;00m \u001b[38;5;129;01min\u001b[39;00m (\u001b[38;5;124m'\u001b[39m\u001b[38;5;124mgenial\u001b[39m\u001b[38;5;124m'\u001b[39m, \u001b[38;5;124m'\u001b[39m\u001b[38;5;124mnice\u001b[39m\u001b[38;5;124m'\u001b[39m):\n\u001b[1;32m---> 33\u001b[0m         \u001b[38;5;28;01mraise\u001b[39;00m \u001b[38;5;167;01mValueError\u001b[39;00m(\u001b[38;5;124m'\u001b[39m\u001b[38;5;124mdemeanors do not support honesty\u001b[39m\u001b[38;5;124m'\u001b[39m)\n\u001b[0;32m     34\u001b[0m     \u001b[38;5;28mself\u001b[39m\u001b[38;5;241m.\u001b[39m_demeanor \u001b[38;5;241m=\u001b[39m value\n",
      "\u001b[1;31mValueError\u001b[0m: demeanors do not support honesty"
     ]
    }
   ],
   "source": [
    "alice.demeanor = 'very mean'"
   ]
  },
  {
   "cell_type": "code",
   "execution_count": 27,
   "id": "58af53f4-e448-4377-8d92-0a2eaef1c529",
   "metadata": {},
   "outputs": [
    {
     "data": {
      "text/plain": [
       "{'_name': 'Alice', '_color': 'gray'}"
      ]
     },
     "execution_count": 27,
     "metadata": {},
     "output_type": "execute_result"
    }
   ],
   "source": [
    "alice.__dict__"
   ]
  },
  {
   "cell_type": "code",
   "execution_count": 28,
   "id": "afec0823-d40a-4b07-9414-414d65ffbe29",
   "metadata": {},
   "outputs": [],
   "source": [
    "alice.demeanor = 'nice'"
   ]
  },
  {
   "cell_type": "code",
   "execution_count": 29,
   "id": "3be45b92-1e46-4b1f-be92-7bd223c83c71",
   "metadata": {
    "tags": [
     "raises-exception"
    ]
   },
   "outputs": [
    {
     "data": {
      "text/plain": [
       "{'_name': 'Alice', '_color': 'gray', '_demeanor': 'nice'}"
      ]
     },
     "execution_count": 29,
     "metadata": {},
     "output_type": "execute_result"
    }
   ],
   "source": [
    "alice.__dict__"
   ]
  },
  {
   "cell_type": "code",
   "execution_count": 30,
   "id": "50c7e890-6efa-4216-b32a-faa9651584c2",
   "metadata": {},
   "outputs": [
    {
     "data": {
      "text/plain": [
       "'nice'"
      ]
     },
     "execution_count": 30,
     "metadata": {},
     "output_type": "execute_result"
    }
   ],
   "source": [
    "alice.demeanor"
   ]
  },
  {
   "cell_type": "code",
   "execution_count": 31,
   "id": "8a71d554-29bc-4423-ba0b-ccff2390f2d5",
   "metadata": {},
   "outputs": [],
   "source": [
    "alice.nickname = 'Eve'"
   ]
  },
  {
   "cell_type": "code",
   "execution_count": 32,
   "id": "53520887-3f6b-4a38-9bbd-7d71f3d0b102",
   "metadata": {},
   "outputs": [
    {
     "data": {
      "text/plain": [
       "{'_name': 'Alice', '_color': 'gray', '_demeanor': 'nice', 'nickname': 'Eve'}"
      ]
     },
     "execution_count": 32,
     "metadata": {},
     "output_type": "execute_result"
    }
   ],
   "source": [
    "alice.__dict__"
   ]
  },
  {
   "cell_type": "code",
   "execution_count": 33,
   "id": "707698ff-055b-4b7d-bc0f-a60e22190079",
   "metadata": {},
   "outputs": [
    {
     "data": {
      "text/plain": [
       "'genial'"
      ]
     },
     "execution_count": 33,
     "metadata": {},
     "output_type": "execute_result"
    }
   ],
   "source": [
    "Squirrel._demeanor"
   ]
  },
  {
   "cell_type": "code",
   "execution_count": 34,
   "id": "f4da68c6-3b65-4260-bc69-8993e95c4709",
   "metadata": {
    "tags": [
     "raises-exception"
    ]
   },
   "outputs": [
    {
     "ename": "AttributeError",
     "evalue": "type object 'Squirrel' has no attribute '_name'",
     "output_type": "error",
     "traceback": [
      "\u001b[1;31m---------------------------------------------------------------------------\u001b[0m",
      "\u001b[1;31mAttributeError\u001b[0m                            Traceback (most recent call last)",
      "Cell \u001b[1;32mIn[34], line 1\u001b[0m\n\u001b[1;32m----> 1\u001b[0m \u001b[43mSquirrel\u001b[49m\u001b[38;5;241;43m.\u001b[39;49m\u001b[43m_name\u001b[49m\n",
      "\u001b[1;31mAttributeError\u001b[0m: type object 'Squirrel' has no attribute '_name'"
     ]
    }
   ],
   "source": [
    "Squirrel._name"
   ]
  },
  {
   "cell_type": "code",
   "execution_count": 35,
   "id": "0ec14095-c527-46c0-95fe-40f0dcede5c3",
   "metadata": {},
   "outputs": [],
   "source": [
    "class Squirrel:\n",
    "    \"\"\"A squirrel that is both a tree- and social-climber.\"\"\"\n",
    "    \n",
    "    __slots__ = ('_name', '_color', '_demeanor')\n",
    "    \n",
    "    # _demeanor = 'genial'\n",
    "    \n",
    "    def __init__(self, name, color):\n",
    "        \"\"\"Create a squirrel of the given name and color.\"\"\"\n",
    "        self._name = name\n",
    "        self._color = color\n",
    "        self._demeanor = 'genial'\n",
    "    \n",
    "    def announce(self):\n",
    "        \"\"\"Announce this squirrel at a fancy party.\"\"\"\n",
    "        print(f'{self.name} the {self.color} squirrel has arrived!')\n",
    "    \n",
    "    @property\n",
    "    def name(self):\n",
    "        \"\"\"This squirrel's name.\"\"\"\n",
    "        return self._name\n",
    "    \n",
    "    @property\n",
    "    def color(self):\n",
    "        \"\"\"The color of this squirrel.\"\"\"\n",
    "        return self._color\n",
    "    \n",
    "    @property\n",
    "    def demeanor(self):\n",
    "        \"\"\"This squirrel's demeanor, supposedly.\"\"\"\n",
    "        return self._demeanor\n",
    "    \n",
    "    @demeanor.setter\n",
    "    def demeanor(self, value):\n",
    "        if value not in ('genial', 'nice'):\n",
    "            raise ValueError('demeanors do not support honesty')\n",
    "        self._demeanor = value"
   ]
  },
  {
   "cell_type": "code",
   "execution_count": 36,
   "id": "a98ae357-836c-41d5-987c-93766b56ac3f",
   "metadata": {},
   "outputs": [],
   "source": [
    "bob = Squirrel('Bob', 'red')"
   ]
  },
  {
   "cell_type": "code",
   "execution_count": 37,
   "id": "d9757ca9-694b-4924-b0a4-895d7d28207d",
   "metadata": {},
   "outputs": [
    {
     "data": {
      "text/plain": [
       "'Bob'"
      ]
     },
     "execution_count": 37,
     "metadata": {},
     "output_type": "execute_result"
    }
   ],
   "source": [
    "bob.name"
   ]
  },
  {
   "cell_type": "code",
   "execution_count": 38,
   "id": "87f7f6b4-55c1-4ad4-9593-fdf2a223ce85",
   "metadata": {},
   "outputs": [
    {
     "data": {
      "text/plain": [
       "'red'"
      ]
     },
     "execution_count": 38,
     "metadata": {},
     "output_type": "execute_result"
    }
   ],
   "source": [
    "bob.color"
   ]
  },
  {
   "cell_type": "code",
   "execution_count": 39,
   "id": "1197c744-2c19-4e44-a2bf-197151667a63",
   "metadata": {},
   "outputs": [
    {
     "data": {
      "text/plain": [
       "'genial'"
      ]
     },
     "execution_count": 39,
     "metadata": {},
     "output_type": "execute_result"
    }
   ],
   "source": [
    "bob.demeanor"
   ]
  },
  {
   "cell_type": "code",
   "execution_count": 40,
   "id": "a8650299-315b-4cb8-8a04-52bee4e581ad",
   "metadata": {
    "tags": [
     "raises-exception"
    ]
   },
   "outputs": [
    {
     "ename": "AttributeError",
     "evalue": "'Squirrel' object has no attribute '__dict__'",
     "output_type": "error",
     "traceback": [
      "\u001b[1;31m---------------------------------------------------------------------------\u001b[0m",
      "\u001b[1;31mAttributeError\u001b[0m                            Traceback (most recent call last)",
      "Cell \u001b[1;32mIn[40], line 1\u001b[0m\n\u001b[1;32m----> 1\u001b[0m \u001b[43mbob\u001b[49m\u001b[38;5;241;43m.\u001b[39;49m\u001b[38;5;18;43m__dict__\u001b[39;49m\n",
      "\u001b[1;31mAttributeError\u001b[0m: 'Squirrel' object has no attribute '__dict__'"
     ]
    }
   ],
   "source": [
    "bob.__dict__"
   ]
  },
  {
   "cell_type": "code",
   "execution_count": 41,
   "id": "5610f72b-4e97-4244-a758-40c649362a5c",
   "metadata": {},
   "outputs": [
    {
     "data": {
      "text/plain": [
       "<member '_demeanor' of 'Squirrel' objects>"
      ]
     },
     "execution_count": 41,
     "metadata": {},
     "output_type": "execute_result"
    }
   ],
   "source": [
    "Squirrel._demeanor"
   ]
  },
  {
   "cell_type": "code",
   "execution_count": 42,
   "id": "485ffeb8-d203-4b27-a081-958c841701d8",
   "metadata": {},
   "outputs": [
    {
     "data": {
      "text/plain": [
       "member_descriptor"
      ]
     },
     "execution_count": 42,
     "metadata": {},
     "output_type": "execute_result"
    }
   ],
   "source": [
    "type(Squirrel._demeanor)"
   ]
  },
  {
   "cell_type": "code",
   "execution_count": 43,
   "id": "ae4947ab-3808-4bb6-8744-11eac8c90495",
   "metadata": {},
   "outputs": [
    {
     "data": {
      "text/plain": [
       "<property at 0x2166f81cbd0>"
      ]
     },
     "execution_count": 43,
     "metadata": {},
     "output_type": "execute_result"
    }
   ],
   "source": [
    "Squirrel.demeanor"
   ]
  },
  {
   "cell_type": "code",
   "execution_count": 44,
   "id": "708d6bc3-9755-4180-8ba3-8e3e9224fe77",
   "metadata": {},
   "outputs": [
    {
     "data": {
      "text/plain": [
       "property"
      ]
     },
     "execution_count": 44,
     "metadata": {},
     "output_type": "execute_result"
    }
   ],
   "source": [
    "type(Squirrel.demeanor)"
   ]
  },
  {
   "cell_type": "code",
   "execution_count": 45,
   "id": "3edbd670-1d14-46c9-a33d-5f6b895ae190",
   "metadata": {},
   "outputs": [
    {
     "data": {
      "text/plain": [
       "['__class__',\n",
       " '__delattr__',\n",
       " '__delete__',\n",
       " '__dir__',\n",
       " '__doc__',\n",
       " '__eq__',\n",
       " '__format__',\n",
       " '__ge__',\n",
       " '__get__',\n",
       " '__getattribute__',\n",
       " '__getstate__',\n",
       " '__gt__',\n",
       " '__hash__',\n",
       " '__init__',\n",
       " '__init_subclass__',\n",
       " '__isabstractmethod__',\n",
       " '__le__',\n",
       " '__lt__',\n",
       " '__ne__',\n",
       " '__new__',\n",
       " '__reduce__',\n",
       " '__reduce_ex__',\n",
       " '__repr__',\n",
       " '__set__',\n",
       " '__set_name__',\n",
       " '__setattr__',\n",
       " '__sizeof__',\n",
       " '__str__',\n",
       " '__subclasshook__',\n",
       " 'deleter',\n",
       " 'fdel',\n",
       " 'fget',\n",
       " 'fset',\n",
       " 'getter',\n",
       " 'setter']"
      ]
     },
     "execution_count": 45,
     "metadata": {},
     "output_type": "execute_result"
    }
   ],
   "source": [
    "dir(Squirrel.demeanor)"
   ]
  },
  {
   "cell_type": "code",
   "execution_count": 46,
   "id": "bc6ecd90-de5d-4ecb-badd-db0fd010dce7",
   "metadata": {},
   "outputs": [
    {
     "data": {
      "text/plain": [
       "property"
      ]
     },
     "execution_count": 46,
     "metadata": {},
     "output_type": "execute_result"
    }
   ],
   "source": [
    "property"
   ]
  },
  {
   "cell_type": "code",
   "execution_count": 47,
   "id": "4097155f-720c-44fd-ae3d-46a67da1af05",
   "metadata": {},
   "outputs": [
    {
     "data": {
      "text/plain": [
       "[int, object]"
      ]
     },
     "execution_count": 47,
     "metadata": {},
     "output_type": "execute_result"
    }
   ],
   "source": [
    "int.mro()"
   ]
  },
  {
   "cell_type": "code",
   "execution_count": 48,
   "id": "1062f03a-dbdf-4768-872e-ff37cfc660be",
   "metadata": {},
   "outputs": [
    {
     "data": {
      "text/plain": [
       "[bool, int, object]"
      ]
     },
     "execution_count": 48,
     "metadata": {},
     "output_type": "execute_result"
    }
   ],
   "source": [
    "bool.mro()"
   ]
  },
  {
   "cell_type": "code",
   "execution_count": 49,
   "id": "624278b3-c8c9-4ce5-bdc9-9437635a0797",
   "metadata": {},
   "outputs": [
    {
     "data": {
      "text/plain": [
       "[float, object]"
      ]
     },
     "execution_count": 49,
     "metadata": {},
     "output_type": "execute_result"
    }
   ],
   "source": [
    "float.mro()"
   ]
  },
  {
   "cell_type": "code",
   "execution_count": 50,
   "id": "eff3149e-c051-4ef4-989d-5e25b096d108",
   "metadata": {},
   "outputs": [],
   "source": [
    "a = 3\n",
    "b = 3.0"
   ]
  },
  {
   "cell_type": "code",
   "execution_count": 51,
   "id": "7bb09977-f4ef-48eb-9a59-4919290a481d",
   "metadata": {},
   "outputs": [
    {
     "data": {
      "text/plain": [
       "True"
      ]
     },
     "execution_count": 51,
     "metadata": {},
     "output_type": "execute_result"
    }
   ],
   "source": [
    "a == b"
   ]
  },
  {
   "cell_type": "code",
   "execution_count": 52,
   "id": "7aa83691-5133-43cc-9a16-86d515627723",
   "metadata": {},
   "outputs": [
    {
     "data": {
      "text/plain": [
       "True"
      ]
     },
     "execution_count": 52,
     "metadata": {},
     "output_type": "execute_result"
    }
   ],
   "source": [
    "b == a"
   ]
  },
  {
   "cell_type": "code",
   "execution_count": 53,
   "id": "87a0d867-ab5e-4dc2-880a-639b9a4cd9d1",
   "metadata": {},
   "outputs": [
    {
     "data": {
      "text/plain": [
       "True"
      ]
     },
     "execution_count": 53,
     "metadata": {},
     "output_type": "execute_result"
    }
   ],
   "source": [
    "b.__eq__(a)"
   ]
  },
  {
   "cell_type": "code",
   "execution_count": 54,
   "id": "7c6223d0-b8b1-4164-9cad-76ca2cb0b8b6",
   "metadata": {},
   "outputs": [
    {
     "data": {
      "text/plain": [
       "NotImplemented"
      ]
     },
     "execution_count": 54,
     "metadata": {},
     "output_type": "execute_result"
    }
   ],
   "source": [
    "a.__eq__(b)"
   ]
  },
  {
   "cell_type": "code",
   "execution_count": 55,
   "id": "a11b4755-ee19-4d76-b262-5d87736afcc4",
   "metadata": {},
   "outputs": [],
   "source": [
    "x = 5\n",
    "y = 5.5"
   ]
  },
  {
   "cell_type": "code",
   "execution_count": 56,
   "id": "910fd00a-8bbe-4d54-9a5c-cdcb9b1f00ea",
   "metadata": {},
   "outputs": [
    {
     "data": {
      "text/plain": [
       "True"
      ]
     },
     "execution_count": 56,
     "metadata": {},
     "output_type": "execute_result"
    }
   ],
   "source": [
    "x < y"
   ]
  },
  {
   "cell_type": "code",
   "execution_count": 57,
   "id": "cae88c5d-f72e-4a8f-a7bd-98fbbd91a5c0",
   "metadata": {},
   "outputs": [
    {
     "data": {
      "text/plain": [
       "False"
      ]
     },
     "execution_count": 57,
     "metadata": {},
     "output_type": "execute_result"
    }
   ],
   "source": [
    "x > y"
   ]
  },
  {
   "cell_type": "code",
   "execution_count": 58,
   "id": "67d1fd83-f9b4-4669-9647-7440c8f700ca",
   "metadata": {},
   "outputs": [
    {
     "data": {
      "text/plain": [
       "False"
      ]
     },
     "execution_count": 58,
     "metadata": {},
     "output_type": "execute_result"
    }
   ],
   "source": [
    "y < x"
   ]
  },
  {
   "cell_type": "code",
   "execution_count": 59,
   "id": "4ad6c796-fc2a-4bb8-a7cd-21ef56929a78",
   "metadata": {},
   "outputs": [
    {
     "data": {
      "text/plain": [
       "True"
      ]
     },
     "execution_count": 59,
     "metadata": {},
     "output_type": "execute_result"
    }
   ],
   "source": [
    "y > x"
   ]
  },
  {
   "cell_type": "code",
   "execution_count": 60,
   "id": "b73c2fce-44e8-4af4-a074-218224ae6e87",
   "metadata": {},
   "outputs": [
    {
     "data": {
      "text/plain": [
       "NotImplemented"
      ]
     },
     "execution_count": 60,
     "metadata": {},
     "output_type": "execute_result"
    }
   ],
   "source": [
    "x.__lt__(y)"
   ]
  },
  {
   "cell_type": "code",
   "execution_count": 61,
   "id": "e4927e38-4a5d-492f-bac5-2d901760c655",
   "metadata": {},
   "outputs": [
    {
     "data": {
      "text/plain": [
       "NotImplemented"
      ]
     },
     "execution_count": 61,
     "metadata": {},
     "output_type": "execute_result"
    }
   ],
   "source": [
    "x.__gt__(y)"
   ]
  },
  {
   "cell_type": "code",
   "execution_count": 62,
   "id": "d7b03cfa-867d-422f-be2d-af4b6a13f845",
   "metadata": {},
   "outputs": [
    {
     "data": {
      "text/plain": [
       "True"
      ]
     },
     "execution_count": 62,
     "metadata": {},
     "output_type": "execute_result"
    }
   ],
   "source": [
    "y.__gt__(x)"
   ]
  },
  {
   "cell_type": "code",
   "execution_count": 63,
   "id": "3512aec2-16b1-4fd7-a98b-4be199843bf2",
   "metadata": {},
   "outputs": [
    {
     "data": {
      "text/plain": [
       "False"
      ]
     },
     "execution_count": 63,
     "metadata": {},
     "output_type": "execute_result"
    }
   ],
   "source": [
    "y.__lt__(x)"
   ]
  },
  {
   "cell_type": "code",
   "execution_count": 64,
   "id": "08f511db-b7b3-435e-9c31-4f55b09f2652",
   "metadata": {},
   "outputs": [],
   "source": [
    "n = 9000\n",
    "s = 'nine thousand'"
   ]
  },
  {
   "cell_type": "code",
   "execution_count": 65,
   "id": "b1f6777d-f8e6-4e68-b5e7-3ca96dd11a06",
   "metadata": {},
   "outputs": [
    {
     "data": {
      "text/plain": [
       "False"
      ]
     },
     "execution_count": 65,
     "metadata": {},
     "output_type": "execute_result"
    }
   ],
   "source": [
    "n == s"
   ]
  },
  {
   "cell_type": "code",
   "execution_count": 66,
   "id": "8ca9573c-c5fe-41f8-8751-969c0108b84b",
   "metadata": {},
   "outputs": [
    {
     "data": {
      "text/plain": [
       "NotImplemented"
      ]
     },
     "execution_count": 66,
     "metadata": {},
     "output_type": "execute_result"
    }
   ],
   "source": [
    "n.__eq__(s)"
   ]
  },
  {
   "cell_type": "code",
   "execution_count": 67,
   "id": "10dde8f0-6bde-489d-8e9c-c181b3ad23f5",
   "metadata": {},
   "outputs": [
    {
     "data": {
      "text/plain": [
       "NotImplemented"
      ]
     },
     "execution_count": 67,
     "metadata": {},
     "output_type": "execute_result"
    }
   ],
   "source": [
    "s.__eq__(n)"
   ]
  },
  {
   "cell_type": "code",
   "execution_count": 68,
   "id": "85d108e7-b226-4db0-b8da-5733eacbdaf1",
   "metadata": {},
   "outputs": [
    {
     "data": {
      "text/plain": [
       "[int, object]"
      ]
     },
     "execution_count": 68,
     "metadata": {},
     "output_type": "execute_result"
    }
   ],
   "source": [
    "int.mro()"
   ]
  },
  {
   "cell_type": "code",
   "execution_count": 69,
   "id": "1f3bf133-fd8e-465f-8961-20b3f0cd5fd9",
   "metadata": {},
   "outputs": [
    {
     "data": {
      "text/plain": [
       "[str, object]"
      ]
     },
     "execution_count": 69,
     "metadata": {},
     "output_type": "execute_result"
    }
   ],
   "source": [
    "str.mro()"
   ]
  },
  {
   "cell_type": "code",
   "execution_count": 70,
   "id": "9e139c4a-94f8-4ad0-9708-4cb49512d344",
   "metadata": {},
   "outputs": [],
   "source": [
    "from palgoviz.greet import MutableGreeter as Greeter"
   ]
  },
  {
   "cell_type": "code",
   "execution_count": 71,
   "id": "19ee00f4-6ef0-4679-b992-fde886d675c6",
   "metadata": {},
   "outputs": [],
   "source": [
    "class MyGreeter(Greeter):\n",
    "    pass"
   ]
  },
  {
   "cell_type": "code",
   "execution_count": 72,
   "id": "b459ad4c-473a-4f9d-8212-07d8e580bb75",
   "metadata": {},
   "outputs": [
    {
     "data": {
      "text/plain": [
       "True"
      ]
     },
     "execution_count": 72,
     "metadata": {},
     "output_type": "execute_result"
    }
   ],
   "source": [
    "g = Greeter('en')\n",
    "mg = MyGreeter('en')\n",
    "g == mg"
   ]
  },
  {
   "cell_type": "code",
   "execution_count": 73,
   "id": "d28a67f4-9c04-44f6-82c7-38ce7ed22ecf",
   "metadata": {},
   "outputs": [
    {
     "data": {
      "text/plain": [
       "True"
      ]
     },
     "execution_count": 73,
     "metadata": {},
     "output_type": "execute_result"
    }
   ],
   "source": [
    "mg == g"
   ]
  },
  {
   "cell_type": "code",
   "execution_count": 74,
   "id": "f6bd9164-b6f0-4f8e-8cf8-c32010d90582",
   "metadata": {},
   "outputs": [
    {
     "data": {
      "text/plain": [
       "False"
      ]
     },
     "execution_count": 74,
     "metadata": {},
     "output_type": "execute_result"
    }
   ],
   "source": [
    "g.lang = 'es'\n",
    "g == mg"
   ]
  },
  {
   "cell_type": "code",
   "execution_count": 75,
   "id": "7996bea7-8ff9-4dca-be89-f9513ccc9bee",
   "metadata": {},
   "outputs": [
    {
     "data": {
      "text/plain": [
       "False"
      ]
     },
     "execution_count": 75,
     "metadata": {},
     "output_type": "execute_result"
    }
   ],
   "source": [
    "mg == g"
   ]
  },
  {
   "cell_type": "code",
   "execution_count": 76,
   "id": "bd26f568-69b5-4390-a565-34ef539077e6",
   "metadata": {},
   "outputs": [
    {
     "data": {
      "text/plain": [
       "True"
      ]
     },
     "execution_count": 76,
     "metadata": {},
     "output_type": "execute_result"
    }
   ],
   "source": [
    "isinstance(mg, type(g))"
   ]
  },
  {
   "cell_type": "code",
   "execution_count": 77,
   "id": "61ab8036-02a3-4524-9509-c7ef201de8ee",
   "metadata": {},
   "outputs": [
    {
     "data": {
      "text/plain": [
       "False"
      ]
     },
     "execution_count": 77,
     "metadata": {},
     "output_type": "execute_result"
    }
   ],
   "source": [
    "isinstance(g, type(mg))"
   ]
  },
  {
   "cell_type": "code",
   "execution_count": 78,
   "id": "9092d3fb-863b-4c72-b300-623bc0842a3e",
   "metadata": {},
   "outputs": [],
   "source": [
    "class Base:\n",
    "    def __eq__(self, other):\n",
    "        print('Called Base.__eq__.')\n",
    "        return self is other"
   ]
  },
  {
   "cell_type": "code",
   "execution_count": 79,
   "id": "32d239dd-c61b-4cd4-89d7-69acdbc1768d",
   "metadata": {},
   "outputs": [],
   "source": [
    "class Derived(Base):\n",
    "    def __eq__(self, other):\n",
    "        print('Called Derived.__eq__.')\n",
    "        return self is other"
   ]
  },
  {
   "cell_type": "code",
   "execution_count": 80,
   "id": "73779aaf-8747-45ea-981c-f493c4845d31",
   "metadata": {},
   "outputs": [],
   "source": [
    "b = Base()\n",
    "d = Derived()"
   ]
  },
  {
   "cell_type": "code",
   "execution_count": 81,
   "id": "0f33714d-0fd2-4d7d-95fb-d11e5c1924d9",
   "metadata": {},
   "outputs": [
    {
     "name": "stdout",
     "output_type": "stream",
     "text": [
      "Called Derived.__eq__.\n"
     ]
    },
    {
     "data": {
      "text/plain": [
       "False"
      ]
     },
     "execution_count": 81,
     "metadata": {},
     "output_type": "execute_result"
    }
   ],
   "source": [
    "b == d"
   ]
  },
  {
   "cell_type": "code",
   "execution_count": 82,
   "id": "5f1304f4-05a5-433c-a4eb-815c446d37f0",
   "metadata": {},
   "outputs": [
    {
     "name": "stdout",
     "output_type": "stream",
     "text": [
      "Called Derived.__eq__.\n"
     ]
    },
    {
     "data": {
      "text/plain": [
       "False"
      ]
     },
     "execution_count": 82,
     "metadata": {},
     "output_type": "execute_result"
    }
   ],
   "source": [
    "d == b"
   ]
  },
  {
   "cell_type": "code",
   "execution_count": 83,
   "id": "ffc5095a-367d-4380-8139-ce55b1375a39",
   "metadata": {},
   "outputs": [],
   "source": [
    "class Base:\n",
    "    def __eq__(self, other):\n",
    "        print('Called Base.__eq__.')\n",
    "        if not isinstance(other, Base):\n",
    "            print('Base.__eq__ returning NotImplemented.')\n",
    "            return NotImplemented\n",
    "        print('Base.__eq__ returning a bool.')\n",
    "        return self is other"
   ]
  },
  {
   "cell_type": "code",
   "execution_count": 84,
   "id": "bc92d470-15ea-403a-bb49-fb320c89cc25",
   "metadata": {},
   "outputs": [],
   "source": [
    "class Derived(Base):\n",
    "    def __eq__(self, other):\n",
    "        print('Called Derived.__eq__.')\n",
    "        return NotImplemented"
   ]
  },
  {
   "cell_type": "code",
   "execution_count": 85,
   "id": "9407d4f1-3f6a-4c2c-a916-461fb98dfe8e",
   "metadata": {},
   "outputs": [],
   "source": [
    "b = Base()\n",
    "d = Derived()"
   ]
  },
  {
   "cell_type": "code",
   "execution_count": 86,
   "id": "9c1b651d-c4ae-4db4-b951-4217d2681440",
   "metadata": {},
   "outputs": [
    {
     "name": "stdout",
     "output_type": "stream",
     "text": [
      "Called Derived.__eq__.\n",
      "Called Base.__eq__.\n",
      "Base.__eq__ returning a bool.\n"
     ]
    },
    {
     "data": {
      "text/plain": [
       "False"
      ]
     },
     "execution_count": 86,
     "metadata": {},
     "output_type": "execute_result"
    }
   ],
   "source": [
    "b == d"
   ]
  },
  {
   "cell_type": "code",
   "execution_count": 87,
   "id": "dcf37a1e-5af9-4a34-addc-1af26c6e8a3e",
   "metadata": {},
   "outputs": [
    {
     "name": "stdout",
     "output_type": "stream",
     "text": [
      "Called Derived.__eq__.\n",
      "Called Base.__eq__.\n",
      "Base.__eq__ returning a bool.\n"
     ]
    },
    {
     "data": {
      "text/plain": [
       "False"
      ]
     },
     "execution_count": 87,
     "metadata": {},
     "output_type": "execute_result"
    }
   ],
   "source": [
    "d == b"
   ]
  },
  {
   "cell_type": "code",
   "execution_count": 88,
   "id": "8687d77a-74b3-4ddb-afe5-ff6641ca8004",
   "metadata": {},
   "outputs": [],
   "source": [
    "class Base:\n",
    "    def __eq__(self, other):\n",
    "        print('Called Base.__eq__.')\n",
    "        if not isinstance(other, type(self)):\n",
    "            print('Base.__eq__ returning NotImplemented.')\n",
    "            return NotImplemented\n",
    "        print('Base.__eq__ returning a bool.')\n",
    "        return self is other"
   ]
  },
  {
   "cell_type": "code",
   "execution_count": 89,
   "id": "3ba625bb-25d2-4731-ab87-81d40a798165",
   "metadata": {},
   "outputs": [],
   "source": [
    "class Derived(Base):\n",
    "    def __eq__(self, other):\n",
    "        print('Called Derived.__eq__.')\n",
    "        return NotImplemented"
   ]
  },
  {
   "cell_type": "code",
   "execution_count": 90,
   "id": "29505117-fab3-4019-93b9-ab94cd89b511",
   "metadata": {},
   "outputs": [],
   "source": [
    "b = Base()\n",
    "d = Derived()"
   ]
  },
  {
   "cell_type": "code",
   "execution_count": 91,
   "id": "52cc346b-a4ff-4806-87d7-24ef20fde925",
   "metadata": {},
   "outputs": [
    {
     "name": "stdout",
     "output_type": "stream",
     "text": [
      "Called Derived.__eq__.\n",
      "Called Base.__eq__.\n",
      "Base.__eq__ returning a bool.\n"
     ]
    },
    {
     "data": {
      "text/plain": [
       "False"
      ]
     },
     "execution_count": 91,
     "metadata": {},
     "output_type": "execute_result"
    }
   ],
   "source": [
    "b == d"
   ]
  },
  {
   "cell_type": "code",
   "execution_count": 92,
   "id": "af0cfe3d-cdec-44b6-84b5-aa86e8103ba9",
   "metadata": {},
   "outputs": [
    {
     "name": "stdout",
     "output_type": "stream",
     "text": [
      "Called Derived.__eq__.\n",
      "Called Base.__eq__.\n",
      "Base.__eq__ returning a bool.\n"
     ]
    },
    {
     "data": {
      "text/plain": [
       "False"
      ]
     },
     "execution_count": 92,
     "metadata": {},
     "output_type": "execute_result"
    }
   ],
   "source": [
    "d == b"
   ]
  },
  {
   "cell_type": "code",
   "execution_count": 93,
   "id": "c8248d40-7b8a-498b-8a3d-24f58eef3f19",
   "metadata": {},
   "outputs": [],
   "source": [
    "def square(n):\n",
    "    return n**2"
   ]
  },
  {
   "cell_type": "code",
   "execution_count": 94,
   "id": "56e985aa-86f1-4fac-b8e2-b0ac08154ccb",
   "metadata": {},
   "outputs": [
    {
     "data": {
      "text/plain": [
       "'square'"
      ]
     },
     "execution_count": 94,
     "metadata": {},
     "output_type": "execute_result"
    }
   ],
   "source": [
    "square.__name__"
   ]
  },
  {
   "cell_type": "code",
   "execution_count": 95,
   "id": "ff1721bf-fef8-4a40-856f-c6d333d033a8",
   "metadata": {},
   "outputs": [],
   "source": [
    "def make_polynomial(p):\n",
    "    def polynomial(n):\n",
    "        return n**p\n",
    "    return polynomial"
   ]
  },
  {
   "cell_type": "code",
   "execution_count": 96,
   "id": "b62abbe0-860b-40ec-ab50-dfaeb701e91f",
   "metadata": {},
   "outputs": [
    {
     "data": {
      "text/plain": [
       "8"
      ]
     },
     "execution_count": 96,
     "metadata": {},
     "output_type": "execute_result"
    }
   ],
   "source": [
    "cube = make_polynomial(3)\n",
    "cube(2)"
   ]
  },
  {
   "cell_type": "code",
   "execution_count": 97,
   "id": "a36a30bc-bd90-40cd-b214-e6e9d760288f",
   "metadata": {},
   "outputs": [
    {
     "data": {
      "text/plain": [
       "'make_polynomial'"
      ]
     },
     "execution_count": 97,
     "metadata": {},
     "output_type": "execute_result"
    }
   ],
   "source": [
    "make_polynomial.__name__"
   ]
  },
  {
   "cell_type": "code",
   "execution_count": 98,
   "id": "23a67937-8783-447e-85f4-b8d6d7ceb54f",
   "metadata": {},
   "outputs": [
    {
     "data": {
      "text/plain": [
       "'polynomial'"
      ]
     },
     "execution_count": 98,
     "metadata": {},
     "output_type": "execute_result"
    }
   ],
   "source": [
    "cube.__name__"
   ]
  },
  {
   "cell_type": "code",
   "execution_count": 99,
   "id": "fa90fc1c-1fc6-4713-863e-7b182184c260",
   "metadata": {},
   "outputs": [],
   "source": [
    "class UnpaidListicleAuthor:\n",
    "    pass"
   ]
  },
  {
   "cell_type": "code",
   "execution_count": 100,
   "id": "76d0b964-e428-413f-a17e-31c2781c05c9",
   "metadata": {},
   "outputs": [],
   "source": [
    "author = UnpaidListicleAuthor()"
   ]
  },
  {
   "cell_type": "code",
   "execution_count": 101,
   "id": "64cdd31d-0d87-43cb-b639-5b7ee0bd3a9c",
   "metadata": {},
   "outputs": [
    {
     "data": {
      "text/plain": [
       "'UnpaidListicleAuthor'"
      ]
     },
     "execution_count": 101,
     "metadata": {},
     "output_type": "execute_result"
    }
   ],
   "source": [
    "UnpaidListicleAuthor.__name__"
   ]
  },
  {
   "cell_type": "code",
   "execution_count": 102,
   "id": "bf94a8dd-1b92-4fc5-a54b-346ab8ed1b2b",
   "metadata": {
    "tags": [
     "raises-exception"
    ]
   },
   "outputs": [
    {
     "ename": "AttributeError",
     "evalue": "'UnpaidListicleAuthor' object has no attribute '__name__'",
     "output_type": "error",
     "traceback": [
      "\u001b[1;31m---------------------------------------------------------------------------\u001b[0m",
      "\u001b[1;31mAttributeError\u001b[0m                            Traceback (most recent call last)",
      "Cell \u001b[1;32mIn[102], line 1\u001b[0m\n\u001b[1;32m----> 1\u001b[0m \u001b[43mauthor\u001b[49m\u001b[38;5;241;43m.\u001b[39;49m\u001b[38;5;18;43m__name__\u001b[39;49m\n",
      "\u001b[1;31mAttributeError\u001b[0m: 'UnpaidListicleAuthor' object has no attribute '__name__'"
     ]
    }
   ],
   "source": [
    "author.__name__"
   ]
  },
  {
   "cell_type": "code",
   "execution_count": 103,
   "id": "cf5cec65-6b26-4f11-bdb7-680c36dadbaa",
   "metadata": {},
   "outputs": [
    {
     "data": {
      "text/plain": [
       "__main__.UnpaidListicleAuthor"
      ]
     },
     "execution_count": 103,
     "metadata": {},
     "output_type": "execute_result"
    }
   ],
   "source": [
    "author.__class__"
   ]
  },
  {
   "cell_type": "code",
   "execution_count": 104,
   "id": "1c10a5bd-1fb6-49c6-bdb3-6e4be8b61608",
   "metadata": {},
   "outputs": [
    {
     "data": {
      "text/plain": [
       "type"
      ]
     },
     "execution_count": 104,
     "metadata": {},
     "output_type": "execute_result"
    }
   ],
   "source": [
    "author.__class__.__class__"
   ]
  },
  {
   "cell_type": "code",
   "execution_count": 105,
   "id": "2bc24847-df99-4455-81f5-0f746768cd0e",
   "metadata": {},
   "outputs": [
    {
     "data": {
      "text/plain": [
       "type"
      ]
     },
     "execution_count": 105,
     "metadata": {},
     "output_type": "execute_result"
    }
   ],
   "source": [
    "author.__class__.__class__.__class__"
   ]
  },
  {
   "cell_type": "code",
   "execution_count": 106,
   "id": "525425b3-84ac-4b6a-8d82-59b6a3281f5d",
   "metadata": {},
   "outputs": [
    {
     "data": {
      "text/plain": [
       "143461476945"
      ]
     },
     "execution_count": 106,
     "metadata": {},
     "output_type": "execute_result"
    }
   ],
   "source": [
    "hash(author)"
   ]
  },
  {
   "cell_type": "code",
   "execution_count": 107,
   "id": "c7945503-1dba-4583-b731-5440557809fe",
   "metadata": {},
   "outputs": [],
   "source": [
    "class UnpaidListicleAuthor:\n",
    "    \"\"\"Author supplying content to a company that considers all authors the same.\"\"\"\n",
    "    \n",
    "    def __eq__(self, other):\n",
    "        if not isinstance(other, UnpaidListicleAuthor):\n",
    "            return NotImplemented\n",
    "        return True"
   ]
  },
  {
   "cell_type": "code",
   "execution_count": 108,
   "id": "ac582b13-cf0c-4422-ae60-5e8b1818b543",
   "metadata": {},
   "outputs": [
    {
     "data": {
      "text/plain": [
       "True"
      ]
     },
     "execution_count": 108,
     "metadata": {},
     "output_type": "execute_result"
    }
   ],
   "source": [
    "author = UnpaidListicleAuthor()\n",
    "author2 = UnpaidListicleAuthor()\n",
    "author == author2"
   ]
  },
  {
   "cell_type": "code",
   "execution_count": 109,
   "id": "366aa99f-c51c-47cd-a5e0-365775c9f3bd",
   "metadata": {},
   "outputs": [
    {
     "data": {
      "text/plain": [
       "False"
      ]
     },
     "execution_count": 109,
     "metadata": {},
     "output_type": "execute_result"
    }
   ],
   "source": [
    "author is author2"
   ]
  },
  {
   "cell_type": "code",
   "execution_count": 110,
   "id": "f7a91793-bf96-4b26-adca-c1cfd9b7c158",
   "metadata": {
    "tags": [
     "raises-exception"
    ]
   },
   "outputs": [
    {
     "ename": "TypeError",
     "evalue": "unhashable type: 'UnpaidListicleAuthor'",
     "output_type": "error",
     "traceback": [
      "\u001b[1;31m---------------------------------------------------------------------------\u001b[0m",
      "\u001b[1;31mTypeError\u001b[0m                                 Traceback (most recent call last)",
      "Cell \u001b[1;32mIn[110], line 1\u001b[0m\n\u001b[1;32m----> 1\u001b[0m \u001b[38;5;28;43mhash\u001b[39;49m\u001b[43m(\u001b[49m\u001b[43mauthor\u001b[49m\u001b[43m)\u001b[49m\n",
      "\u001b[1;31mTypeError\u001b[0m: unhashable type: 'UnpaidListicleAuthor'"
     ]
    }
   ],
   "source": [
    "hash(author)"
   ]
  },
  {
   "cell_type": "code",
   "execution_count": 111,
   "id": "3dcd25ce-1bd2-425b-a791-2d5baf238bda",
   "metadata": {},
   "outputs": [],
   "source": [
    "def f(xs=(x**2 for x in range(10))):\n",
    "    print(*xs)"
   ]
  },
  {
   "cell_type": "code",
   "execution_count": 112,
   "id": "b166d623-cd03-4bb9-9134-6ac7ff834a55",
   "metadata": {},
   "outputs": [
    {
     "name": "stdout",
     "output_type": "stream",
     "text": [
      "foo bar baz\n"
     ]
    }
   ],
   "source": [
    "f(['foo', 'bar', 'baz'])"
   ]
  },
  {
   "cell_type": "code",
   "execution_count": 113,
   "id": "bd4065ea-43de-4a1c-b0b3-3cf2ff4f344b",
   "metadata": {},
   "outputs": [
    {
     "name": "stdout",
     "output_type": "stream",
     "text": [
      "0 1 4 9 16 25 36 49 64 81\n"
     ]
    }
   ],
   "source": [
    "f()"
   ]
  },
  {
   "cell_type": "code",
   "execution_count": 114,
   "id": "6b3005b2-b235-48c8-9b51-003c55f11ede",
   "metadata": {},
   "outputs": [
    {
     "name": "stdout",
     "output_type": "stream",
     "text": [
      "\n"
     ]
    }
   ],
   "source": [
    "f()"
   ]
  },
  {
   "cell_type": "code",
   "execution_count": 115,
   "id": "d30a5513-379f-4582-91bc-4f409131eb86",
   "metadata": {},
   "outputs": [
    {
     "data": {
      "text/plain": [
       "143461460996"
      ]
     },
     "execution_count": 115,
     "metadata": {},
     "output_type": "execute_result"
    }
   ],
   "source": [
    "hash(x**2 for x in range(10))"
   ]
  },
  {
   "cell_type": "code",
   "execution_count": 116,
   "id": "f77bc77b-ea43-4d2a-8d9a-1a9d990b2742",
   "metadata": {},
   "outputs": [],
   "source": [
    "f.z = 42"
   ]
  },
  {
   "cell_type": "code",
   "execution_count": 117,
   "id": "48aee2c3-0f84-4805-8967-500bd78aa1a2",
   "metadata": {},
   "outputs": [],
   "source": [
    "class Base:\n",
    "    __slots__ = ()\n",
    "\n",
    "class Derived(Base):\n",
    "    __slots__ = ()"
   ]
  },
  {
   "cell_type": "code",
   "execution_count": 118,
   "id": "fd31b9ef-6a42-416d-9dfc-485344f0bafe",
   "metadata": {
    "tags": [
     "raises-exception"
    ]
   },
   "outputs": [
    {
     "ename": "AttributeError",
     "evalue": "'Base' object has no attribute 'a'",
     "output_type": "error",
     "traceback": [
      "\u001b[1;31m---------------------------------------------------------------------------\u001b[0m",
      "\u001b[1;31mAttributeError\u001b[0m                            Traceback (most recent call last)",
      "Cell \u001b[1;32mIn[118], line 2\u001b[0m\n\u001b[0;32m      1\u001b[0m x \u001b[38;5;241m=\u001b[39m Base()\n\u001b[1;32m----> 2\u001b[0m \u001b[43mx\u001b[49m\u001b[38;5;241;43m.\u001b[39;49m\u001b[43ma\u001b[49m \u001b[38;5;241m=\u001b[39m \u001b[38;5;241m10\u001b[39m\n",
      "\u001b[1;31mAttributeError\u001b[0m: 'Base' object has no attribute 'a'"
     ]
    }
   ],
   "source": [
    "x = Base()\n",
    "x.a = 10"
   ]
  },
  {
   "cell_type": "code",
   "execution_count": 119,
   "id": "2e9873f4-9444-4835-862b-0290d778bc63",
   "metadata": {
    "tags": [
     "raises-exception"
    ]
   },
   "outputs": [
    {
     "ename": "AttributeError",
     "evalue": "'Derived' object has no attribute 'a'",
     "output_type": "error",
     "traceback": [
      "\u001b[1;31m---------------------------------------------------------------------------\u001b[0m",
      "\u001b[1;31mAttributeError\u001b[0m                            Traceback (most recent call last)",
      "Cell \u001b[1;32mIn[119], line 2\u001b[0m\n\u001b[0;32m      1\u001b[0m y \u001b[38;5;241m=\u001b[39m Derived()\n\u001b[1;32m----> 2\u001b[0m \u001b[43my\u001b[49m\u001b[38;5;241;43m.\u001b[39;49m\u001b[43ma\u001b[49m \u001b[38;5;241m=\u001b[39m \u001b[38;5;241m10\u001b[39m\n",
      "\u001b[1;31mAttributeError\u001b[0m: 'Derived' object has no attribute 'a'"
     ]
    }
   ],
   "source": [
    "y = Derived()\n",
    "y.a = 10"
   ]
  },
  {
   "cell_type": "code",
   "execution_count": 120,
   "id": "1349eca2-1cd4-48dd-ab6e-9a46505e571d",
   "metadata": {
    "tags": [
     "raises-exception"
    ]
   },
   "outputs": [],
   "source": [
    "class Base:\n",
    "    __slots__ = ()\n",
    "\n",
    "class Derived(Base):\n",
    "    pass"
   ]
  },
  {
   "cell_type": "code",
   "execution_count": 121,
   "id": "ed8d7c47-72b8-4181-b969-1884e87e61e2",
   "metadata": {},
   "outputs": [
    {
     "data": {
      "text/plain": [
       "{'a': 10}"
      ]
     },
     "execution_count": 121,
     "metadata": {},
     "output_type": "execute_result"
    }
   ],
   "source": [
    "y = Derived()\n",
    "z = Derived()\n",
    "y.a = 10\n",
    "y.__dict__"
   ]
  },
  {
   "cell_type": "code",
   "execution_count": 122,
   "id": "296a49db-a59b-466a-9b93-6807cc22dbf1",
   "metadata": {},
   "outputs": [
    {
     "data": {
      "text/plain": [
       "{}"
      ]
     },
     "execution_count": 122,
     "metadata": {},
     "output_type": "execute_result"
    }
   ],
   "source": [
    "z.__dict__"
   ]
  },
  {
   "cell_type": "code",
   "execution_count": 123,
   "id": "78787998-0edf-43ed-b430-3149ff41dfcb",
   "metadata": {},
   "outputs": [],
   "source": [
    "class Widget:  # Same as:  Widget(object):\n",
    "    pass"
   ]
  },
  {
   "cell_type": "code",
   "execution_count": 124,
   "id": "1c7546d7-0236-4974-bbf8-09f17e235959",
   "metadata": {},
   "outputs": [],
   "source": [
    "w = Widget()\n",
    "w.a = 10"
   ]
  },
  {
   "cell_type": "code",
   "execution_count": 125,
   "id": "df9400e1-d0c7-4398-ae96-164f4ea135cc",
   "metadata": {},
   "outputs": [
    {
     "data": {
      "text/plain": [
       "{'a': 10}"
      ]
     },
     "execution_count": 125,
     "metadata": {},
     "output_type": "execute_result"
    }
   ],
   "source": [
    "w.__dict__"
   ]
  },
  {
   "cell_type": "code",
   "execution_count": 126,
   "id": "f996e8f0-22ab-465e-9394-b1c80def9ed8",
   "metadata": {},
   "outputs": [
    {
     "data": {
      "text/plain": [
       "(object,)"
      ]
     },
     "execution_count": 126,
     "metadata": {},
     "output_type": "execute_result"
    }
   ],
   "source": [
    "Widget.__bases__"
   ]
  },
  {
   "cell_type": "code",
   "execution_count": 127,
   "id": "e172290f-1130-4534-aaa6-90df927f3950",
   "metadata": {
    "tags": [
     "raises-exception"
    ]
   },
   "outputs": [
    {
     "ename": "AttributeError",
     "evalue": "'object' object has no attribute 'a'",
     "output_type": "error",
     "traceback": [
      "\u001b[1;31m---------------------------------------------------------------------------\u001b[0m",
      "\u001b[1;31mAttributeError\u001b[0m                            Traceback (most recent call last)",
      "Cell \u001b[1;32mIn[127], line 2\u001b[0m\n\u001b[0;32m      1\u001b[0m o \u001b[38;5;241m=\u001b[39m \u001b[38;5;28mobject\u001b[39m()\n\u001b[1;32m----> 2\u001b[0m \u001b[43mo\u001b[49m\u001b[38;5;241;43m.\u001b[39;49m\u001b[43ma\u001b[49m \u001b[38;5;241m=\u001b[39m \u001b[38;5;241m10\u001b[39m\n",
      "\u001b[1;31mAttributeError\u001b[0m: 'object' object has no attribute 'a'"
     ]
    }
   ],
   "source": [
    "o = object()\n",
    "o.a = 10"
   ]
  },
  {
   "cell_type": "code",
   "execution_count": 128,
   "id": "f21a545c-5a2d-42e6-9f4d-60488a7753f2",
   "metadata": {},
   "outputs": [],
   "source": [
    "class Base:\n",
    "    pass\n",
    "\n",
    "class Derived(Base):\n",
    "    __slots__ = ()"
   ]
  },
  {
   "cell_type": "code",
   "execution_count": 129,
   "id": "1e497612-3776-459f-972d-975556e8a9e4",
   "metadata": {},
   "outputs": [],
   "source": [
    "y = Derived()\n",
    "y.a = 10"
   ]
  },
  {
   "cell_type": "code",
   "execution_count": 130,
   "id": "93090fad-6c6e-45f1-a639-df0fe6968e30",
   "metadata": {},
   "outputs": [
    {
     "data": {
      "text/plain": [
       "10"
      ]
     },
     "execution_count": 130,
     "metadata": {},
     "output_type": "execute_result"
    }
   ],
   "source": [
    "y.a"
   ]
  },
  {
   "cell_type": "code",
   "execution_count": 131,
   "id": "21c31285-d7bc-41f7-8be0-9a2a1ada844f",
   "metadata": {},
   "outputs": [],
   "source": [
    "class Hippo:\n",
    "    __slots__ = ('__dict__', 'hunger_level',)\n",
    "    \n",
    "    def __init__(self, hunger_level=9000):\n",
    "        self.hunger_level = hunger_level"
   ]
  },
  {
   "cell_type": "code",
   "execution_count": 132,
   "id": "b8bae421-e76e-4172-afd9-39e3719e0366",
   "metadata": {},
   "outputs": [],
   "source": [
    "h = Hippo(844)\n",
    "h.hunger_level = 1000"
   ]
  },
  {
   "cell_type": "code",
   "execution_count": 133,
   "id": "4554280d-de0c-4e49-b2ea-5905fab53111",
   "metadata": {},
   "outputs": [],
   "source": [
    "h.thirst_level = 3"
   ]
  },
  {
   "cell_type": "code",
   "execution_count": 134,
   "id": "adc63886-6c0a-4f66-9a92-c57549b9c4d3",
   "metadata": {},
   "outputs": [
    {
     "data": {
      "text/plain": [
       "{'thirst_level': 3}"
      ]
     },
     "execution_count": 134,
     "metadata": {},
     "output_type": "execute_result"
    }
   ],
   "source": [
    "h.__dict__"
   ]
  },
  {
   "cell_type": "code",
   "execution_count": 135,
   "id": "242e01f5-f486-4a2a-892e-9b28ef514b37",
   "metadata": {},
   "outputs": [
    {
     "data": {
      "text/plain": [
       "1000"
      ]
     },
     "execution_count": 135,
     "metadata": {},
     "output_type": "execute_result"
    }
   ],
   "source": [
    "h.hunger_level"
   ]
  },
  {
   "cell_type": "code",
   "execution_count": 136,
   "id": "35cae8fd-b755-4f6f-8c73-11a6ae0f5ec0",
   "metadata": {},
   "outputs": [],
   "source": [
    "class Widget:\n",
    "    def __init__(self, color):\n",
    "        self.color = color\n",
    "\n",
    "class Gadget:\n",
    "    BANNED_COLOR = 'orange'\n",
    "    \n",
    "    @classmethod\n",
    "    def from_widget(cls, widget):\n",
    "        return cls(widget.color)\n",
    "    \n",
    "    def __init__(self, color):\n",
    "        if color == self.BANNED_COLOR:\n",
    "            raise ValueError(f'the color {color} is banned')\n",
    "        self.color = color\n",
    "    \n",
    "    def say_color(self):\n",
    "        print(f\"This gadget's color is {self.color}.\")"
   ]
  },
  {
   "cell_type": "code",
   "execution_count": 137,
   "id": "41d356be-ab3a-4b99-9a20-3b98ff3dab05",
   "metadata": {
    "tags": [
     "raises-exception"
    ]
   },
   "outputs": [
    {
     "ename": "ValueError",
     "evalue": "the color orange is banned",
     "output_type": "error",
     "traceback": [
      "\u001b[1;31m---------------------------------------------------------------------------\u001b[0m",
      "\u001b[1;31mValueError\u001b[0m                                Traceback (most recent call last)",
      "Cell \u001b[1;32mIn[137], line 1\u001b[0m\n\u001b[1;32m----> 1\u001b[0m \u001b[43mGadget\u001b[49m\u001b[38;5;241;43m.\u001b[39;49m\u001b[43mfrom_widget\u001b[49m\u001b[43m(\u001b[49m\u001b[43mWidget\u001b[49m\u001b[43m(\u001b[49m\u001b[38;5;124;43m'\u001b[39;49m\u001b[38;5;124;43morange\u001b[39;49m\u001b[38;5;124;43m'\u001b[39;49m\u001b[43m)\u001b[49m\u001b[43m)\u001b[49m\n",
      "Cell \u001b[1;32mIn[136], line 10\u001b[0m, in \u001b[0;36mGadget.from_widget\u001b[1;34m(cls, widget)\u001b[0m\n\u001b[0;32m      8\u001b[0m \u001b[38;5;129m@classmethod\u001b[39m\n\u001b[0;32m      9\u001b[0m \u001b[38;5;28;01mdef\u001b[39;00m \u001b[38;5;21mfrom_widget\u001b[39m(\u001b[38;5;28mcls\u001b[39m, widget):\n\u001b[1;32m---> 10\u001b[0m     \u001b[38;5;28;01mreturn\u001b[39;00m \u001b[38;5;28;43mcls\u001b[39;49m\u001b[43m(\u001b[49m\u001b[43mwidget\u001b[49m\u001b[38;5;241;43m.\u001b[39;49m\u001b[43mcolor\u001b[49m\u001b[43m)\u001b[49m\n",
      "Cell \u001b[1;32mIn[136], line 14\u001b[0m, in \u001b[0;36mGadget.__init__\u001b[1;34m(self, color)\u001b[0m\n\u001b[0;32m     12\u001b[0m \u001b[38;5;28;01mdef\u001b[39;00m \u001b[38;5;21m__init__\u001b[39m(\u001b[38;5;28mself\u001b[39m, color):\n\u001b[0;32m     13\u001b[0m     \u001b[38;5;28;01mif\u001b[39;00m color \u001b[38;5;241m==\u001b[39m \u001b[38;5;28mself\u001b[39m\u001b[38;5;241m.\u001b[39mBANNED_COLOR:\n\u001b[1;32m---> 14\u001b[0m         \u001b[38;5;28;01mraise\u001b[39;00m \u001b[38;5;167;01mValueError\u001b[39;00m(\u001b[38;5;124mf\u001b[39m\u001b[38;5;124m'\u001b[39m\u001b[38;5;124mthe color \u001b[39m\u001b[38;5;132;01m{\u001b[39;00mcolor\u001b[38;5;132;01m}\u001b[39;00m\u001b[38;5;124m is banned\u001b[39m\u001b[38;5;124m'\u001b[39m)\n\u001b[0;32m     15\u001b[0m     \u001b[38;5;28mself\u001b[39m\u001b[38;5;241m.\u001b[39mcolor \u001b[38;5;241m=\u001b[39m color\n",
      "\u001b[1;31mValueError\u001b[0m: the color orange is banned"
     ]
    }
   ],
   "source": [
    "Gadget.from_widget(Widget('orange'))"
   ]
  },
  {
   "cell_type": "code",
   "execution_count": 138,
   "id": "a02766d7-2f28-4caa-bfc9-cc671b459b39",
   "metadata": {},
   "outputs": [
    {
     "data": {
      "text/plain": [
       "'blue'"
      ]
     },
     "execution_count": 138,
     "metadata": {},
     "output_type": "execute_result"
    }
   ],
   "source": [
    "w = Widget('blue')\n",
    "g = Gadget.from_widget(w)\n",
    "g.color"
   ]
  },
  {
   "cell_type": "code",
   "execution_count": 139,
   "id": "38b2cb5f-cb0c-465e-b165-a83bdd7ce487",
   "metadata": {},
   "outputs": [],
   "source": [
    "class SpecialGadget(Gadget): \n",
    "    pass"
   ]
  },
  {
   "cell_type": "code",
   "execution_count": 140,
   "id": "2d5bcd52-e0f0-48b4-8267-32907e1ada60",
   "metadata": {},
   "outputs": [
    {
     "data": {
      "text/plain": [
       "'blue'"
      ]
     },
     "execution_count": 140,
     "metadata": {},
     "output_type": "execute_result"
    }
   ],
   "source": [
    "s = SpecialGadget.from_widget(w)\n",
    "s.color"
   ]
  },
  {
   "cell_type": "code",
   "execution_count": 141,
   "id": "6498ac7b-6482-4f94-9cda-6127588c99a9",
   "metadata": {},
   "outputs": [
    {
     "data": {
      "text/plain": [
       "<__main__.Gadget at 0x2166f8c9f10>"
      ]
     },
     "execution_count": 141,
     "metadata": {},
     "output_type": "execute_result"
    }
   ],
   "source": [
    "g"
   ]
  },
  {
   "cell_type": "code",
   "execution_count": 142,
   "id": "2318f7fb-51b7-499a-ad4b-e7f13a6482ff",
   "metadata": {},
   "outputs": [
    {
     "data": {
      "text/plain": [
       "<__main__.SpecialGadget at 0x2166f7fa410>"
      ]
     },
     "execution_count": 142,
     "metadata": {},
     "output_type": "execute_result"
    }
   ],
   "source": [
    "s"
   ]
  },
  {
   "cell_type": "code",
   "execution_count": 143,
   "id": "0c828280-2caf-4e25-abcd-fd67958bf095",
   "metadata": {},
   "outputs": [
    {
     "name": "stdout",
     "output_type": "stream",
     "text": [
      "This gadget's color is blue.\n"
     ]
    }
   ],
   "source": [
    "g.say_color()"
   ]
  },
  {
   "cell_type": "code",
   "execution_count": 144,
   "id": "cb9ab865-3658-49eb-8715-81ee6fb81935",
   "metadata": {},
   "outputs": [
    {
     "name": "stdout",
     "output_type": "stream",
     "text": [
      "This gadget's color is blue.\n"
     ]
    }
   ],
   "source": [
    "s.say_color()"
   ]
  },
  {
   "cell_type": "code",
   "execution_count": 145,
   "id": "fca9cf65-fd96-4ab0-a489-9a0fb8186acb",
   "metadata": {
    "tags": [
     "raises-exception"
    ]
   },
   "outputs": [
    {
     "ename": "TypeError",
     "evalue": "Gadget.say_color() missing 1 required positional argument: 'self'",
     "output_type": "error",
     "traceback": [
      "\u001b[1;31m---------------------------------------------------------------------------\u001b[0m",
      "\u001b[1;31mTypeError\u001b[0m                                 Traceback (most recent call last)",
      "Cell \u001b[1;32mIn[145], line 1\u001b[0m\n\u001b[1;32m----> 1\u001b[0m \u001b[43mGadget\u001b[49m\u001b[38;5;241;43m.\u001b[39;49m\u001b[43msay_color\u001b[49m\u001b[43m(\u001b[49m\u001b[43m)\u001b[49m\n",
      "\u001b[1;31mTypeError\u001b[0m: Gadget.say_color() missing 1 required positional argument: 'self'"
     ]
    }
   ],
   "source": [
    "Gadget.say_color()"
   ]
  },
  {
   "cell_type": "code",
   "execution_count": 146,
   "id": "a8c2fde6-4caf-4406-a985-09a2d9a4d6d2",
   "metadata": {},
   "outputs": [
    {
     "name": "stdout",
     "output_type": "stream",
     "text": [
      "This gadget's color is blue.\n"
     ]
    }
   ],
   "source": [
    "Gadget.say_color(g)"
   ]
  },
  {
   "cell_type": "code",
   "execution_count": 147,
   "id": "d38daeb6-3b7a-4a44-81a8-0f820aff947f",
   "metadata": {},
   "outputs": [
    {
     "data": {
      "text/plain": [
       "<function __main__.Gadget.say_color(self)>"
      ]
     },
     "execution_count": 147,
     "metadata": {},
     "output_type": "execute_result"
    }
   ],
   "source": [
    "Gadget.say_color"
   ]
  },
  {
   "cell_type": "code",
   "execution_count": 148,
   "id": "90821f2a-220e-4302-a1ce-359000a64bf1",
   "metadata": {},
   "outputs": [
    {
     "data": {
      "text/plain": [
       "<bound method Gadget.say_color of <__main__.Gadget object at 0x000002166F8C9F10>>"
      ]
     },
     "execution_count": 148,
     "metadata": {},
     "output_type": "execute_result"
    }
   ],
   "source": [
    "g.say_color"
   ]
  },
  {
   "cell_type": "code",
   "execution_count": 149,
   "id": "c52fbcd7-c41f-44c7-a218-aac70db77202",
   "metadata": {},
   "outputs": [
    {
     "data": {
      "text/plain": [
       "<bound method Gadget.from_widget of <class '__main__.Gadget'>>"
      ]
     },
     "execution_count": 149,
     "metadata": {},
     "output_type": "execute_result"
    }
   ],
   "source": [
    "Gadget.from_widget"
   ]
  },
  {
   "cell_type": "code",
   "execution_count": 150,
   "id": "235c1660-eb8f-45dd-a7be-d1db6b7ea89b",
   "metadata": {},
   "outputs": [
    {
     "data": {
      "text/plain": [
       "False"
      ]
     },
     "execution_count": 150,
     "metadata": {},
     "output_type": "execute_result"
    }
   ],
   "source": [
    "a = (10, 20, 30)\n",
    "b = (10, 20, 30)\n",
    "a is b"
   ]
  },
  {
   "cell_type": "code",
   "execution_count": 151,
   "id": "5063f914-8777-4008-bb7f-1c2c1fc1cb6a",
   "metadata": {},
   "outputs": [
    {
     "data": {
      "text/plain": [
       "True"
      ]
     },
     "execution_count": 151,
     "metadata": {},
     "output_type": "execute_result"
    }
   ],
   "source": [
    "a == b"
   ]
  },
  {
   "cell_type": "code",
   "execution_count": 152,
   "id": "98871b64-3032-4103-9ce7-046564ec1fff",
   "metadata": {},
   "outputs": [
    {
     "data": {
      "text/plain": [
       "False"
      ]
     },
     "execution_count": 152,
     "metadata": {},
     "output_type": "execute_result"
    }
   ],
   "source": [
    "a.count is b.count"
   ]
  },
  {
   "cell_type": "code",
   "execution_count": 153,
   "id": "426bf13b-f4aa-4d86-87fa-a254ce5b43ce",
   "metadata": {},
   "outputs": [
    {
     "data": {
      "text/plain": [
       "False"
      ]
     },
     "execution_count": 153,
     "metadata": {},
     "output_type": "execute_result"
    }
   ],
   "source": [
    "a.count == b.count"
   ]
  },
  {
   "cell_type": "code",
   "execution_count": 154,
   "id": "a6382105-7c2e-4d54-83ff-6ac758828f53",
   "metadata": {},
   "outputs": [
    {
     "data": {
      "text/plain": [
       "True"
      ]
     },
     "execution_count": 154,
     "metadata": {},
     "output_type": "execute_result"
    }
   ],
   "source": [
    "f = a.count\n",
    "g = a.count\n",
    "f == g"
   ]
  },
  {
   "cell_type": "code",
   "execution_count": 155,
   "id": "829487bb-7846-4740-8bc2-4ffe977a8895",
   "metadata": {},
   "outputs": [
    {
     "data": {
      "text/plain": [
       "False"
      ]
     },
     "execution_count": 155,
     "metadata": {},
     "output_type": "execute_result"
    }
   ],
   "source": [
    "f is g"
   ]
  },
  {
   "cell_type": "code",
   "execution_count": 156,
   "id": "3ef80f14-2440-4230-a0ed-ba5ff50298fe",
   "metadata": {},
   "outputs": [
    {
     "data": {
      "text/plain": [
       "<bound method Gadget.from_widget of <class '__main__.Gadget'>>"
      ]
     },
     "execution_count": 156,
     "metadata": {},
     "output_type": "execute_result"
    }
   ],
   "source": [
    "Gadget.from_widget"
   ]
  },
  {
   "cell_type": "code",
   "execution_count": 157,
   "id": "7147d5a6-9472-4294-bd3d-cad6ea82f805",
   "metadata": {},
   "outputs": [],
   "source": [
    "from palgoviz.greet import MutableGreeter, FrozenGreeter"
   ]
  },
  {
   "cell_type": "code",
   "execution_count": 158,
   "id": "13ff83d6-23b1-4266-a561-4f8235e5531a",
   "metadata": {},
   "outputs": [
    {
     "data": {
      "text/plain": [
       "MutableGreeter('es')"
      ]
     },
     "execution_count": 158,
     "metadata": {},
     "output_type": "execute_result"
    }
   ],
   "source": [
    "frozen_greeter = FrozenGreeter('es')\n",
    "mutable_greeter = MutableGreeter.from_greeter(frozen_greeter)\n",
    "mutable_greeter"
   ]
  },
  {
   "cell_type": "code",
   "execution_count": 159,
   "id": "1658deda-ca9f-45be-9f8d-cb54a9a14b3c",
   "metadata": {},
   "outputs": [
    {
     "data": {
      "text/plain": [
       "MutableGreeter('es')"
      ]
     },
     "execution_count": 159,
     "metadata": {},
     "output_type": "execute_result"
    }
   ],
   "source": [
    "mutable_greeter.from_greeter(frozen_greeter)"
   ]
  },
  {
   "cell_type": "code",
   "execution_count": 160,
   "id": "76dc2638-6008-4dcf-8d0c-63394b250a12",
   "metadata": {},
   "outputs": [
    {
     "data": {
      "text/plain": [
       "MutableGreeter('es')"
      ]
     },
     "execution_count": 160,
     "metadata": {},
     "output_type": "execute_result"
    }
   ],
   "source": [
    "type(mutable_greeter).from_greeter(frozen_greeter)"
   ]
  },
  {
   "cell_type": "code",
   "execution_count": 161,
   "id": "27c8f737-57bc-46cb-b2d8-973d778cf039",
   "metadata": {},
   "outputs": [],
   "source": [
    "class Car:\n",
    "    __slots__ = ('_vin',)\n",
    "    \n",
    "    _next_vin = 0\n",
    "    \n",
    "    @classmethod\n",
    "    def _get_next_vin(cls):\n",
    "        \"\"\"Return the next VIN, and ensure it will not be reused later.\"\"\"\n",
    "        vin = cls._next_vin\n",
    "        cls._next_vin += 1\n",
    "        return vin\n",
    "    \n",
    "    def __init__(self):\n",
    "        \"\"\"Create a car with the next available vehicle identification number.\"\"\"\n",
    "        self._vin = self._get_next_vin()\n",
    "    \n",
    "    @property\n",
    "    def vin(self):\n",
    "        \"\"\"This car's vehicle identification number.\"\"\"\n",
    "        return self._vin"
   ]
  },
  {
   "cell_type": "code",
   "execution_count": 162,
   "id": "6f34ebb4-a8b6-418c-b1e8-4646b56a2535",
   "metadata": {},
   "outputs": [],
   "source": [
    "x = Car()\n",
    "y = Car()"
   ]
  },
  {
   "cell_type": "code",
   "execution_count": 163,
   "id": "9f7bce1f-4e93-4856-a06a-9165c2c814c8",
   "metadata": {},
   "outputs": [
    {
     "data": {
      "text/plain": [
       "0"
      ]
     },
     "execution_count": 163,
     "metadata": {},
     "output_type": "execute_result"
    }
   ],
   "source": [
    "x.vin"
   ]
  },
  {
   "cell_type": "code",
   "execution_count": 164,
   "id": "a60b6b9c-35d6-49dd-91c5-26e592117603",
   "metadata": {},
   "outputs": [
    {
     "data": {
      "text/plain": [
       "1"
      ]
     },
     "execution_count": 164,
     "metadata": {},
     "output_type": "execute_result"
    }
   ],
   "source": [
    "y.vin"
   ]
  },
  {
   "cell_type": "code",
   "execution_count": 165,
   "id": "e877e101-2733-4574-99f8-e3139ac74a2e",
   "metadata": {},
   "outputs": [
    {
     "data": {
      "text/plain": [
       "2"
      ]
     },
     "execution_count": 165,
     "metadata": {},
     "output_type": "execute_result"
    }
   ],
   "source": [
    "Car._next_vin"
   ]
  },
  {
   "cell_type": "code",
   "execution_count": 166,
   "id": "c7ca85e3-38eb-4ab2-b6f6-0ae3d8259b44",
   "metadata": {},
   "outputs": [
    {
     "data": {
      "text/plain": [
       "2"
      ]
     },
     "execution_count": 166,
     "metadata": {},
     "output_type": "execute_result"
    }
   ],
   "source": [
    "z = Car()\n",
    "z.vin"
   ]
  },
  {
   "cell_type": "code",
   "execution_count": 167,
   "id": "e74dc254-bf0e-4607-9641-aac5e3a5f197",
   "metadata": {},
   "outputs": [
    {
     "data": {
      "text/plain": [
       "3"
      ]
     },
     "execution_count": 167,
     "metadata": {},
     "output_type": "execute_result"
    }
   ],
   "source": [
    "Car._next_vin"
   ]
  },
  {
   "cell_type": "code",
   "execution_count": 168,
   "id": "2f617b25-1e15-482d-b1bf-2f64ae069a40",
   "metadata": {},
   "outputs": [],
   "source": [
    "class Hatchback(Car):\n",
    "    pass"
   ]
  },
  {
   "cell_type": "code",
   "execution_count": 169,
   "id": "baee2674-008b-4150-b065-339c32783af2",
   "metadata": {},
   "outputs": [
    {
     "data": {
      "text/plain": [
       "3"
      ]
     },
     "execution_count": 169,
     "metadata": {},
     "output_type": "execute_result"
    }
   ],
   "source": [
    "h = Hatchback()\n",
    "h.vin"
   ]
  },
  {
   "cell_type": "code",
   "execution_count": 170,
   "id": "4f40ba7f-dd28-42a3-b3a4-c65b383e9cf3",
   "metadata": {},
   "outputs": [
    {
     "data": {
      "text/plain": [
       "4"
      ]
     },
     "execution_count": 170,
     "metadata": {},
     "output_type": "execute_result"
    }
   ],
   "source": [
    "i = Hatchback()\n",
    "i.vin"
   ]
  },
  {
   "cell_type": "code",
   "execution_count": 171,
   "id": "ffa336e2-8403-484b-a16b-ff0c9e77040d",
   "metadata": {},
   "outputs": [
    {
     "data": {
      "text/plain": [
       "5"
      ]
     },
     "execution_count": 171,
     "metadata": {},
     "output_type": "execute_result"
    }
   ],
   "source": [
    "Hatchback._next_vin"
   ]
  },
  {
   "cell_type": "code",
   "execution_count": 172,
   "id": "9cba2c60-ad3e-42a7-9c41-7834e0d0467f",
   "metadata": {},
   "outputs": [
    {
     "data": {
      "text/plain": [
       "3"
      ]
     },
     "execution_count": 172,
     "metadata": {},
     "output_type": "execute_result"
    }
   ],
   "source": [
    "Car._next_vin"
   ]
  },
  {
   "cell_type": "code",
   "execution_count": 173,
   "id": "e884eb35-f28d-44e2-9c2d-b55c0dcc9551",
   "metadata": {},
   "outputs": [],
   "source": [
    "class Car:\n",
    "    __slots__ = ('_vin',)\n",
    "    \n",
    "    _next_vin = 0\n",
    "    \n",
    "    @classmethod\n",
    "    def _get_next_vin(cls):\n",
    "        \"\"\"Return the next VIN, and ensure it will not be reused later.\"\"\"\n",
    "        vin = Car._next_vin\n",
    "        Car._next_vin += 1\n",
    "        return vin\n",
    "    \n",
    "    def __init__(self):\n",
    "        \"\"\"Create a car with the next available vehicle identification number.\"\"\"\n",
    "        self._vin = self._get_next_vin()\n",
    "    \n",
    "    @property\n",
    "    def vin(self):\n",
    "        \"\"\"This car's vehicle identification number.\"\"\"\n",
    "        return self._vin"
   ]
  },
  {
   "cell_type": "code",
   "execution_count": 174,
   "id": "58ecdf46-b3d7-4ec0-84d8-53028b366a6b",
   "metadata": {},
   "outputs": [],
   "source": [
    "x = Car()\n",
    "y = Car()"
   ]
  },
  {
   "cell_type": "code",
   "execution_count": 175,
   "id": "f702e58d-200c-4808-a9a8-83c785faa8f1",
   "metadata": {},
   "outputs": [
    {
     "data": {
      "text/plain": [
       "0"
      ]
     },
     "execution_count": 175,
     "metadata": {},
     "output_type": "execute_result"
    }
   ],
   "source": [
    "x.vin"
   ]
  },
  {
   "cell_type": "code",
   "execution_count": 176,
   "id": "7c1f574b-029c-4876-b2a9-d1c7f4a27381",
   "metadata": {},
   "outputs": [
    {
     "data": {
      "text/plain": [
       "1"
      ]
     },
     "execution_count": 176,
     "metadata": {},
     "output_type": "execute_result"
    }
   ],
   "source": [
    "y.vin"
   ]
  },
  {
   "cell_type": "code",
   "execution_count": 177,
   "id": "03b53b5a-2cd7-4742-9019-0951d94d4d78",
   "metadata": {},
   "outputs": [
    {
     "data": {
      "text/plain": [
       "2"
      ]
     },
     "execution_count": 177,
     "metadata": {},
     "output_type": "execute_result"
    }
   ],
   "source": [
    "Car._next_vin"
   ]
  },
  {
   "cell_type": "code",
   "execution_count": 178,
   "id": "4723432d-c210-424d-b9ea-152cb5e7b3a4",
   "metadata": {},
   "outputs": [
    {
     "data": {
      "text/plain": [
       "2"
      ]
     },
     "execution_count": 178,
     "metadata": {},
     "output_type": "execute_result"
    }
   ],
   "source": [
    "z = Car()\n",
    "z.vin"
   ]
  },
  {
   "cell_type": "code",
   "execution_count": 179,
   "id": "17e7a2f4-5b3a-4a8e-a3ef-1efee641d17f",
   "metadata": {},
   "outputs": [
    {
     "data": {
      "text/plain": [
       "3"
      ]
     },
     "execution_count": 179,
     "metadata": {},
     "output_type": "execute_result"
    }
   ],
   "source": [
    "Car._next_vin"
   ]
  },
  {
   "cell_type": "code",
   "execution_count": 180,
   "id": "7d6f72a1-6f1c-4fef-8175-c928c097239b",
   "metadata": {},
   "outputs": [],
   "source": [
    "class Hatchback(Car):\n",
    "    pass"
   ]
  },
  {
   "cell_type": "code",
   "execution_count": 181,
   "id": "358888a9-8eee-433f-9ab5-a43c2be040ba",
   "metadata": {},
   "outputs": [
    {
     "data": {
      "text/plain": [
       "3"
      ]
     },
     "execution_count": 181,
     "metadata": {},
     "output_type": "execute_result"
    }
   ],
   "source": [
    "h = Hatchback()\n",
    "h.vin"
   ]
  },
  {
   "cell_type": "code",
   "execution_count": 182,
   "id": "657a424f-1e00-4b8d-8b13-673cbc555e56",
   "metadata": {},
   "outputs": [
    {
     "data": {
      "text/plain": [
       "4"
      ]
     },
     "execution_count": 182,
     "metadata": {},
     "output_type": "execute_result"
    }
   ],
   "source": [
    "i = Hatchback()\n",
    "i.vin"
   ]
  },
  {
   "cell_type": "code",
   "execution_count": 183,
   "id": "e9ecddcf-8483-40c2-a7e8-f55746bac50d",
   "metadata": {},
   "outputs": [
    {
     "data": {
      "text/plain": [
       "5"
      ]
     },
     "execution_count": 183,
     "metadata": {},
     "output_type": "execute_result"
    }
   ],
   "source": [
    "Hatchback._next_vin"
   ]
  },
  {
   "cell_type": "code",
   "execution_count": 184,
   "id": "46312700-01c7-4ade-89cc-da8e3e7a9e93",
   "metadata": {},
   "outputs": [
    {
     "data": {
      "text/plain": [
       "5"
      ]
     },
     "execution_count": 184,
     "metadata": {},
     "output_type": "execute_result"
    }
   ],
   "source": [
    "Car._next_vin"
   ]
  },
  {
   "cell_type": "code",
   "execution_count": 185,
   "id": "f4eca4b9-43d9-4fe0-b364-1bd1b1dfb4e1",
   "metadata": {},
   "outputs": [],
   "source": [
    "class Car:\n",
    "    __slots__ = ('_vin',)\n",
    "    \n",
    "    _next_vin = 0\n",
    "    \n",
    "    @staticmethod\n",
    "    def _get_next_vin():\n",
    "        \"\"\"Return the next VIN, and ensure it will not be reused later.\"\"\"\n",
    "        vin = Car._next_vin\n",
    "        Car._next_vin += 1\n",
    "        return vin\n",
    "    \n",
    "    def __init__(self):\n",
    "        \"\"\"Create a car with the next available vehicle identification number.\"\"\"\n",
    "        self._vin = self._get_next_vin()\n",
    "    \n",
    "    @property\n",
    "    def vin(self):\n",
    "        \"\"\"This car's vehicle identification number.\"\"\"\n",
    "        return self._vin"
   ]
  },
  {
   "cell_type": "code",
   "execution_count": 186,
   "id": "5e790c94-f3d5-40f7-965e-b41a5bf0494b",
   "metadata": {},
   "outputs": [],
   "source": [
    "x = Car()\n",
    "y = Car()"
   ]
  },
  {
   "cell_type": "code",
   "execution_count": 187,
   "id": "97b6d320-69d8-4cc1-925f-916495597103",
   "metadata": {},
   "outputs": [
    {
     "data": {
      "text/plain": [
       "0"
      ]
     },
     "execution_count": 187,
     "metadata": {},
     "output_type": "execute_result"
    }
   ],
   "source": [
    "x.vin"
   ]
  },
  {
   "cell_type": "code",
   "execution_count": 188,
   "id": "32d09ea6-e383-464f-9726-6e946db6f603",
   "metadata": {},
   "outputs": [
    {
     "data": {
      "text/plain": [
       "1"
      ]
     },
     "execution_count": 188,
     "metadata": {},
     "output_type": "execute_result"
    }
   ],
   "source": [
    "y.vin"
   ]
  },
  {
   "cell_type": "code",
   "execution_count": 189,
   "id": "54607038-061c-47c2-b6b6-3ae0cabb78a6",
   "metadata": {},
   "outputs": [
    {
     "data": {
      "text/plain": [
       "2"
      ]
     },
     "execution_count": 189,
     "metadata": {},
     "output_type": "execute_result"
    }
   ],
   "source": [
    "Car._next_vin"
   ]
  },
  {
   "cell_type": "code",
   "execution_count": 190,
   "id": "dc78112b-ed72-4232-9a9f-b41540588a39",
   "metadata": {},
   "outputs": [
    {
     "data": {
      "text/plain": [
       "2"
      ]
     },
     "execution_count": 190,
     "metadata": {},
     "output_type": "execute_result"
    }
   ],
   "source": [
    "z = Car()\n",
    "z.vin"
   ]
  },
  {
   "cell_type": "code",
   "execution_count": 191,
   "id": "a347ed9a-d74c-45fe-b4d9-28e7d837f591",
   "metadata": {},
   "outputs": [
    {
     "data": {
      "text/plain": [
       "3"
      ]
     },
     "execution_count": 191,
     "metadata": {},
     "output_type": "execute_result"
    }
   ],
   "source": [
    "Car._next_vin"
   ]
  },
  {
   "cell_type": "code",
   "execution_count": 192,
   "id": "fa589d3a-e2f9-4447-9fa8-96c70da6f5d8",
   "metadata": {},
   "outputs": [],
   "source": [
    "class Hatchback(Car):\n",
    "    pass"
   ]
  },
  {
   "cell_type": "code",
   "execution_count": 193,
   "id": "bf950833-fed9-4722-a2c7-42e8be51b498",
   "metadata": {},
   "outputs": [
    {
     "data": {
      "text/plain": [
       "3"
      ]
     },
     "execution_count": 193,
     "metadata": {},
     "output_type": "execute_result"
    }
   ],
   "source": [
    "h = Hatchback()\n",
    "h.vin"
   ]
  },
  {
   "cell_type": "code",
   "execution_count": 194,
   "id": "d876e4cb-6de7-4db4-b824-ad45b906a8ed",
   "metadata": {},
   "outputs": [
    {
     "data": {
      "text/plain": [
       "4"
      ]
     },
     "execution_count": 194,
     "metadata": {},
     "output_type": "execute_result"
    }
   ],
   "source": [
    "i = Hatchback()\n",
    "i.vin"
   ]
  },
  {
   "cell_type": "code",
   "execution_count": 195,
   "id": "db369e70-b299-49f7-9a9f-c774e9fe07a8",
   "metadata": {},
   "outputs": [
    {
     "data": {
      "text/plain": [
       "5"
      ]
     },
     "execution_count": 195,
     "metadata": {},
     "output_type": "execute_result"
    }
   ],
   "source": [
    "Hatchback._next_vin"
   ]
  },
  {
   "cell_type": "code",
   "execution_count": 196,
   "id": "1c14db7b-1dbb-4d6d-b777-c874eea49ef1",
   "metadata": {},
   "outputs": [
    {
     "data": {
      "text/plain": [
       "5"
      ]
     },
     "execution_count": 196,
     "metadata": {},
     "output_type": "execute_result"
    }
   ],
   "source": [
    "Car._next_vin"
   ]
  },
  {
   "cell_type": "code",
   "execution_count": 197,
   "id": "ceeaca72-1e4b-46a1-b79f-bd3e554dad0e",
   "metadata": {},
   "outputs": [],
   "source": [
    "_next_vin = 0\n",
    "\n",
    "def _get_next_vin():\n",
    "    \"\"\"Return the next VIN, and ensure it will not be reused later.\"\"\"\n",
    "    global _next_vin\n",
    "    vin = _next_vin\n",
    "    _next_vin += 1\n",
    "    return vin\n",
    "\n",
    "class Car:\n",
    "    __slots__ = ('_vin',)\n",
    "    \n",
    "    def __init__(self):\n",
    "        \"\"\"Create a car with the next available vehicle identification number.\"\"\"\n",
    "        self._vin = _get_next_vin()\n",
    "    \n",
    "    @property\n",
    "    def vin(self):\n",
    "        \"\"\"This car's vehicle identification number.\"\"\"\n",
    "        return self._vin"
   ]
  },
  {
   "cell_type": "code",
   "execution_count": 198,
   "id": "b13c2512-5830-4541-bbdb-ab7f59833ce5",
   "metadata": {},
   "outputs": [],
   "source": [
    "batmobile = Car()"
   ]
  },
  {
   "cell_type": "code",
   "execution_count": 199,
   "id": "722c20b4-2d7e-4442-a4a1-c7f5c0d71d17",
   "metadata": {},
   "outputs": [],
   "source": [
    "x = Car()\n",
    "y = Car()"
   ]
  },
  {
   "cell_type": "code",
   "execution_count": 200,
   "id": "afea6307-3269-43f8-920c-93f54bd9f72b",
   "metadata": {},
   "outputs": [
    {
     "data": {
      "text/plain": [
       "1"
      ]
     },
     "execution_count": 200,
     "metadata": {},
     "output_type": "execute_result"
    }
   ],
   "source": [
    "x.vin"
   ]
  },
  {
   "cell_type": "code",
   "execution_count": 201,
   "id": "47f85014-0504-477b-a973-2efe91af2c36",
   "metadata": {},
   "outputs": [
    {
     "data": {
      "text/plain": [
       "2"
      ]
     },
     "execution_count": 201,
     "metadata": {},
     "output_type": "execute_result"
    }
   ],
   "source": [
    "y.vin"
   ]
  },
  {
   "cell_type": "code",
   "execution_count": 202,
   "id": "a894bd90-a399-48a6-ad29-1e46cec168cf",
   "metadata": {},
   "outputs": [
    {
     "data": {
      "text/plain": [
       "3"
      ]
     },
     "execution_count": 202,
     "metadata": {},
     "output_type": "execute_result"
    }
   ],
   "source": [
    "_next_vin"
   ]
  },
  {
   "cell_type": "code",
   "execution_count": 203,
   "id": "98848761-042d-4e33-8664-bd38aa668b16",
   "metadata": {},
   "outputs": [
    {
     "data": {
      "text/plain": [
       "3"
      ]
     },
     "execution_count": 203,
     "metadata": {},
     "output_type": "execute_result"
    }
   ],
   "source": [
    "z = Car()\n",
    "z.vin"
   ]
  },
  {
   "cell_type": "code",
   "execution_count": 204,
   "id": "a64934d1-0611-4eba-8fab-c589d02f219c",
   "metadata": {},
   "outputs": [
    {
     "data": {
      "text/plain": [
       "4"
      ]
     },
     "execution_count": 204,
     "metadata": {},
     "output_type": "execute_result"
    }
   ],
   "source": [
    "_next_vin"
   ]
  },
  {
   "cell_type": "code",
   "execution_count": 205,
   "id": "974efd23-c7d4-49d4-b4dd-e6b398661ca8",
   "metadata": {},
   "outputs": [],
   "source": [
    "class Hatchback(Car):\n",
    "    pass"
   ]
  },
  {
   "cell_type": "code",
   "execution_count": 206,
   "id": "74191f58-e855-4a0e-87ee-17120a1d5e96",
   "metadata": {},
   "outputs": [
    {
     "data": {
      "text/plain": [
       "4"
      ]
     },
     "execution_count": 206,
     "metadata": {},
     "output_type": "execute_result"
    }
   ],
   "source": [
    "h = Hatchback()\n",
    "h.vin"
   ]
  },
  {
   "cell_type": "code",
   "execution_count": 207,
   "id": "9c8ba7df-9801-4613-ab7a-dfef74a6d181",
   "metadata": {},
   "outputs": [
    {
     "data": {
      "text/plain": [
       "5"
      ]
     },
     "execution_count": 207,
     "metadata": {},
     "output_type": "execute_result"
    }
   ],
   "source": [
    "i = Hatchback()\n",
    "i.vin"
   ]
  },
  {
   "cell_type": "code",
   "execution_count": 208,
   "id": "9b1c6c9e-d515-46a3-bb0a-f98e592102a4",
   "metadata": {},
   "outputs": [
    {
     "data": {
      "text/plain": [
       "6"
      ]
     },
     "execution_count": 208,
     "metadata": {},
     "output_type": "execute_result"
    }
   ],
   "source": [
    "_next_vin"
   ]
  },
  {
   "cell_type": "code",
   "execution_count": 209,
   "id": "97cc9633-89cd-4917-87e9-ecd18dc609c8",
   "metadata": {},
   "outputs": [],
   "source": [
    "from abc import ABC, abstractmethod"
   ]
  },
  {
   "cell_type": "code",
   "execution_count": 210,
   "id": "86cc97e4-d877-424e-b7b0-2fdda99884c0",
   "metadata": {},
   "outputs": [
    {
     "data": {
      "text/plain": [
       "<abc.ABC at 0x2166f99d2c0>"
      ]
     },
     "execution_count": 210,
     "metadata": {},
     "output_type": "execute_result"
    }
   ],
   "source": [
    "ABC()"
   ]
  },
  {
   "cell_type": "code",
   "execution_count": 211,
   "id": "b77fa3d9-288a-4a36-97f1-55538a281195",
   "metadata": {},
   "outputs": [],
   "source": [
    "class NotAbstract(ABC):\n",
    "    pass"
   ]
  },
  {
   "cell_type": "code",
   "execution_count": 212,
   "id": "420f654b-17ac-441a-a0df-1d89c0d05d05",
   "metadata": {},
   "outputs": [
    {
     "data": {
      "text/plain": [
       "<__main__.NotAbstract at 0x2166f9be3d0>"
      ]
     },
     "execution_count": 212,
     "metadata": {},
     "output_type": "execute_result"
    }
   ],
   "source": [
    "NotAbstract()"
   ]
  },
  {
   "cell_type": "code",
   "execution_count": 213,
   "id": "5c93239b-f360-4817-83f3-cef3a48179e2",
   "metadata": {},
   "outputs": [],
   "source": [
    "class Abstract(ABC):\n",
    "    @abstractmethod\n",
    "    def f(self): ...\n",
    "    \n",
    "    @abstractmethod\n",
    "    def g(self): ..."
   ]
  },
  {
   "cell_type": "code",
   "execution_count": 214,
   "id": "18e3f732-f7a4-499d-921b-3d2d77dd0ff0",
   "metadata": {
    "tags": [
     "raises-exception"
    ]
   },
   "outputs": [
    {
     "ename": "TypeError",
     "evalue": "Can't instantiate abstract class Abstract with abstract methods f, g",
     "output_type": "error",
     "traceback": [
      "\u001b[1;31m---------------------------------------------------------------------------\u001b[0m",
      "\u001b[1;31mTypeError\u001b[0m                                 Traceback (most recent call last)",
      "Cell \u001b[1;32mIn[214], line 1\u001b[0m\n\u001b[1;32m----> 1\u001b[0m \u001b[43mAbstract\u001b[49m\u001b[43m(\u001b[49m\u001b[43m)\u001b[49m\n",
      "\u001b[1;31mTypeError\u001b[0m: Can't instantiate abstract class Abstract with abstract methods f, g"
     ]
    }
   ],
   "source": [
    "Abstract()"
   ]
  },
  {
   "cell_type": "code",
   "execution_count": 215,
   "id": "7a2c864d-8b3b-4537-9f77-88347b7f9e58",
   "metadata": {},
   "outputs": [],
   "source": [
    "class LessAbstract(Abstract): \n",
    "    def f(self): pass"
   ]
  },
  {
   "cell_type": "code",
   "execution_count": 216,
   "id": "773e0ae0-2890-4f0a-be75-2afd0773593f",
   "metadata": {
    "tags": [
     "raises-exception"
    ]
   },
   "outputs": [
    {
     "ename": "TypeError",
     "evalue": "Can't instantiate abstract class LessAbstract with abstract method g",
     "output_type": "error",
     "traceback": [
      "\u001b[1;31m---------------------------------------------------------------------------\u001b[0m",
      "\u001b[1;31mTypeError\u001b[0m                                 Traceback (most recent call last)",
      "Cell \u001b[1;32mIn[216], line 1\u001b[0m\n\u001b[1;32m----> 1\u001b[0m \u001b[43mLessAbstract\u001b[49m\u001b[43m(\u001b[49m\u001b[43m)\u001b[49m\n",
      "\u001b[1;31mTypeError\u001b[0m: Can't instantiate abstract class LessAbstract with abstract method g"
     ]
    }
   ],
   "source": [
    "LessAbstract()"
   ]
  },
  {
   "cell_type": "code",
   "execution_count": 217,
   "id": "006dfacc-acdc-4ee7-a15a-7c287a5cf7c2",
   "metadata": {},
   "outputs": [],
   "source": [
    "class Concrete(LessAbstract): \n",
    "    def g(self): pass "
   ]
  },
  {
   "cell_type": "code",
   "execution_count": 218,
   "id": "f4b1a1ca-92c7-47ab-b6a9-d677fd4f539f",
   "metadata": {},
   "outputs": [
    {
     "data": {
      "text/plain": [
       "<__main__.Concrete at 0x2166fa011d0>"
      ]
     },
     "execution_count": 218,
     "metadata": {},
     "output_type": "execute_result"
    }
   ],
   "source": [
    "Concrete()"
   ]
  },
  {
   "cell_type": "code",
   "execution_count": 219,
   "id": "97832d88-39d1-452e-8080-4cd8650b87dd",
   "metadata": {},
   "outputs": [],
   "source": [
    "class Arithmetic:\n",
    "    \n",
    "    THREE = 3\n",
    "    \n",
    "    FOUR = THREE + 1\n",
    "    \n",
    "    def get_four(self):\n",
    "        return FOUR #self.FOUR"
   ]
  },
  {
   "cell_type": "code",
   "execution_count": 220,
   "id": "a3a6c5e6-aff5-45b6-81d4-16090b3664ac",
   "metadata": {
    "tags": [
     "raises-exception"
    ]
   },
   "outputs": [
    {
     "ename": "NameError",
     "evalue": "name 'FOUR' is not defined",
     "output_type": "error",
     "traceback": [
      "\u001b[1;31m---------------------------------------------------------------------------\u001b[0m",
      "\u001b[1;31mNameError\u001b[0m                                 Traceback (most recent call last)",
      "Cell \u001b[1;32mIn[220], line 1\u001b[0m\n\u001b[1;32m----> 1\u001b[0m \u001b[43mArithmetic\u001b[49m\u001b[43m(\u001b[49m\u001b[43m)\u001b[49m\u001b[38;5;241;43m.\u001b[39;49m\u001b[43mget_four\u001b[49m\u001b[43m(\u001b[49m\u001b[43m)\u001b[49m\n",
      "Cell \u001b[1;32mIn[219], line 8\u001b[0m, in \u001b[0;36mArithmetic.get_four\u001b[1;34m(self)\u001b[0m\n\u001b[0;32m      7\u001b[0m \u001b[38;5;28;01mdef\u001b[39;00m \u001b[38;5;21mget_four\u001b[39m(\u001b[38;5;28mself\u001b[39m):\n\u001b[1;32m----> 8\u001b[0m     \u001b[38;5;28;01mreturn\u001b[39;00m \u001b[43mFOUR\u001b[49m\n",
      "\u001b[1;31mNameError\u001b[0m: name 'FOUR' is not defined"
     ]
    }
   ],
   "source": [
    "Arithmetic().get_four()"
   ]
  },
  {
   "cell_type": "code",
   "execution_count": 221,
   "id": "a160e13a-180a-4727-8ec4-31142db5371a",
   "metadata": {},
   "outputs": [
    {
     "data": {
      "text/plain": [
       "'FOUR! FOUR, I SAY! 444444444'"
      ]
     },
     "execution_count": 221,
     "metadata": {},
     "output_type": "execute_result"
    }
   ],
   "source": [
    "def class_factory():\n",
    "    four = \"FOUR! FOUR, I SAY! 444444444\"\n",
    "    \n",
    "    class LocalWidget:\n",
    "        three = 3\n",
    "        four = three + 1\n",
    "        \n",
    "        def get_four(self):\n",
    "            return four\n",
    "    \n",
    "    return LocalWidget\n",
    "\n",
    "class_factory()().get_four()"
   ]
  },
  {
   "cell_type": "code",
   "execution_count": 222,
   "id": "1adafc58-6db0-4644-8b05-458fe3b5341e",
   "metadata": {},
   "outputs": [],
   "source": [
    "class Widget:\n",
    "    color = 'blue'"
   ]
  },
  {
   "cell_type": "code",
   "execution_count": 223,
   "id": "41b2db54-04ab-4e4f-a9fc-a0e9000bc0fd",
   "metadata": {},
   "outputs": [
    {
     "data": {
      "text/plain": [
       "['__class__',\n",
       " '__delattr__',\n",
       " '__dict__',\n",
       " '__dir__',\n",
       " '__doc__',\n",
       " '__eq__',\n",
       " '__format__',\n",
       " '__ge__',\n",
       " '__getattribute__',\n",
       " '__getstate__',\n",
       " '__gt__',\n",
       " '__hash__',\n",
       " '__init__',\n",
       " '__init_subclass__',\n",
       " '__le__',\n",
       " '__lt__',\n",
       " '__module__',\n",
       " '__ne__',\n",
       " '__new__',\n",
       " '__reduce__',\n",
       " '__reduce_ex__',\n",
       " '__repr__',\n",
       " '__setattr__',\n",
       " '__sizeof__',\n",
       " '__str__',\n",
       " '__subclasshook__',\n",
       " '__weakref__',\n",
       " 'color']"
      ]
     },
     "execution_count": 223,
     "metadata": {},
     "output_type": "execute_result"
    }
   ],
   "source": [
    "dir(Widget)"
   ]
  },
  {
   "cell_type": "code",
   "execution_count": 224,
   "id": "c2f6b9c2-bcaa-4313-917f-70cf0bc3ea70",
   "metadata": {},
   "outputs": [
    {
     "data": {
      "text/plain": [
       "mappingproxy({'__module__': '__main__',\n",
       "              'color': 'blue',\n",
       "              '__dict__': <attribute '__dict__' of 'Widget' objects>,\n",
       "              '__weakref__': <attribute '__weakref__' of 'Widget' objects>,\n",
       "              '__doc__': None})"
      ]
     },
     "execution_count": 224,
     "metadata": {},
     "output_type": "execute_result"
    }
   ],
   "source": [
    "Widget.__dict__"
   ]
  },
  {
   "cell_type": "code",
   "execution_count": 225,
   "id": "639d52b2-c0f1-409d-9c0f-ef1d30bad385",
   "metadata": {},
   "outputs": [],
   "source": [
    "w = Widget()"
   ]
  },
  {
   "cell_type": "code",
   "execution_count": 226,
   "id": "f04105f2-6b32-4f96-81e8-5f0f8e07e715",
   "metadata": {},
   "outputs": [
    {
     "data": {
      "text/plain": [
       "['__class__',\n",
       " '__delattr__',\n",
       " '__dict__',\n",
       " '__dir__',\n",
       " '__doc__',\n",
       " '__eq__',\n",
       " '__format__',\n",
       " '__ge__',\n",
       " '__getattribute__',\n",
       " '__getstate__',\n",
       " '__gt__',\n",
       " '__hash__',\n",
       " '__init__',\n",
       " '__init_subclass__',\n",
       " '__le__',\n",
       " '__lt__',\n",
       " '__module__',\n",
       " '__ne__',\n",
       " '__new__',\n",
       " '__reduce__',\n",
       " '__reduce_ex__',\n",
       " '__repr__',\n",
       " '__setattr__',\n",
       " '__sizeof__',\n",
       " '__str__',\n",
       " '__subclasshook__',\n",
       " '__weakref__',\n",
       " 'color']"
      ]
     },
     "execution_count": 226,
     "metadata": {},
     "output_type": "execute_result"
    }
   ],
   "source": [
    "dir(w)"
   ]
  },
  {
   "cell_type": "code",
   "execution_count": 227,
   "id": "175d9f31-c1bb-4193-a055-b71edef4b34d",
   "metadata": {},
   "outputs": [
    {
     "data": {
      "text/plain": [
       "{}"
      ]
     },
     "execution_count": 227,
     "metadata": {},
     "output_type": "execute_result"
    }
   ],
   "source": [
    "w.__dict__"
   ]
  },
  {
   "cell_type": "code",
   "execution_count": 228,
   "id": "86d6d70c-5819-4ef6-9d8c-273c44d31683",
   "metadata": {},
   "outputs": [
    {
     "data": {
      "text/plain": [
       "'blue'"
      ]
     },
     "execution_count": 228,
     "metadata": {},
     "output_type": "execute_result"
    }
   ],
   "source": [
    "w.color"
   ]
  },
  {
   "cell_type": "code",
   "execution_count": 229,
   "id": "c354249a-6071-433d-b5e3-824974be7e3a",
   "metadata": {},
   "outputs": [],
   "source": [
    "w.color = 'red'"
   ]
  },
  {
   "cell_type": "code",
   "execution_count": 230,
   "id": "74b42e12-6aa0-4e5f-b77b-35103a4c212b",
   "metadata": {},
   "outputs": [
    {
     "data": {
      "text/plain": [
       "'red'"
      ]
     },
     "execution_count": 230,
     "metadata": {},
     "output_type": "execute_result"
    }
   ],
   "source": [
    "w.color"
   ]
  },
  {
   "cell_type": "code",
   "execution_count": 231,
   "id": "1e9f158c-5fb5-4520-9eed-581d8d97288b",
   "metadata": {},
   "outputs": [
    {
     "data": {
      "text/plain": [
       "{'color': 'red'}"
      ]
     },
     "execution_count": 231,
     "metadata": {},
     "output_type": "execute_result"
    }
   ],
   "source": [
    "w.__dict__"
   ]
  },
  {
   "cell_type": "code",
   "execution_count": 232,
   "id": "b5a0f588-8982-4769-8859-49d896ff7497",
   "metadata": {},
   "outputs": [],
   "source": [
    "w.size = 'big'"
   ]
  },
  {
   "cell_type": "code",
   "execution_count": 233,
   "id": "35f74315-7036-4a0b-80e0-23b027a228f4",
   "metadata": {},
   "outputs": [
    {
     "data": {
      "text/plain": [
       "76"
      ]
     },
     "execution_count": 233,
     "metadata": {},
     "output_type": "execute_result"
    }
   ],
   "source": [
    "class Base:\n",
    "    favorite_number = 76\n",
    "\n",
    "class Derived(Base):\n",
    "    pass\n",
    "\n",
    "x = Derived()\n",
    "x.favorite_number"
   ]
  },
  {
   "cell_type": "code",
   "execution_count": 234,
   "id": "bfdefaf5-3527-4061-8e39-7a8bb1155b9c",
   "metadata": {},
   "outputs": [
    {
     "data": {
      "text/plain": [
       "(__main__.Derived, __main__.Base, object)"
      ]
     },
     "execution_count": 234,
     "metadata": {},
     "output_type": "execute_result"
    }
   ],
   "source": [
    "type(x).__mro__"
   ]
  },
  {
   "cell_type": "code",
   "execution_count": 235,
   "id": "77fe9437-ea2f-4bbb-ac69-b892cdd301f0",
   "metadata": {},
   "outputs": [],
   "source": [
    "class Gadget:\n",
    "    __slots__ = ('color',)\n",
    "    \n",
    "    favorite_color = 'mauve'"
   ]
  },
  {
   "cell_type": "code",
   "execution_count": 236,
   "id": "f8c2bc70-a196-420f-8b5e-71d6f62f5957",
   "metadata": {},
   "outputs": [],
   "source": [
    "g = Gadget()"
   ]
  },
  {
   "cell_type": "code",
   "execution_count": 237,
   "id": "a54fc0d6-b916-49a4-b8e3-983e3e4b3788",
   "metadata": {
    "tags": [
     "raises-exception"
    ]
   },
   "outputs": [
    {
     "ename": "AttributeError",
     "evalue": "'Gadget' object has no attribute 'color'",
     "output_type": "error",
     "traceback": [
      "\u001b[1;31m---------------------------------------------------------------------------\u001b[0m",
      "\u001b[1;31mAttributeError\u001b[0m                            Traceback (most recent call last)",
      "Cell \u001b[1;32mIn[237], line 1\u001b[0m\n\u001b[1;32m----> 1\u001b[0m \u001b[43mg\u001b[49m\u001b[38;5;241;43m.\u001b[39;49m\u001b[43mcolor\u001b[49m\n",
      "\u001b[1;31mAttributeError\u001b[0m: 'Gadget' object has no attribute 'color'"
     ]
    }
   ],
   "source": [
    "g.color"
   ]
  },
  {
   "cell_type": "code",
   "execution_count": 238,
   "id": "b0654b0b-c6e4-474a-bbcc-fe8f6ec928b1",
   "metadata": {},
   "outputs": [
    {
     "data": {
      "text/plain": [
       "<member 'color' of 'Gadget' objects>"
      ]
     },
     "execution_count": 238,
     "metadata": {},
     "output_type": "execute_result"
    }
   ],
   "source": [
    "Gadget.color"
   ]
  },
  {
   "cell_type": "code",
   "execution_count": 239,
   "id": "89ef17c0-8666-4438-b0e4-09269ae09f18",
   "metadata": {},
   "outputs": [
    {
     "data": {
      "text/plain": [
       "'mauve'"
      ]
     },
     "execution_count": 239,
     "metadata": {},
     "output_type": "execute_result"
    }
   ],
   "source": [
    "g.favorite_color"
   ]
  },
  {
   "cell_type": "code",
   "execution_count": 240,
   "id": "44ab9198-b22f-44ad-af26-2891b18afc4b",
   "metadata": {
    "tags": [
     "raises-exception"
    ]
   },
   "outputs": [
    {
     "ename": "AttributeError",
     "evalue": "'Gadget' object has no attribute 'temperature'",
     "output_type": "error",
     "traceback": [
      "\u001b[1;31m---------------------------------------------------------------------------\u001b[0m",
      "\u001b[1;31mAttributeError\u001b[0m                            Traceback (most recent call last)",
      "Cell \u001b[1;32mIn[240], line 1\u001b[0m\n\u001b[1;32m----> 1\u001b[0m \u001b[43mg\u001b[49m\u001b[38;5;241;43m.\u001b[39;49m\u001b[43mtemperature\u001b[49m \u001b[38;5;241m=\u001b[39m \u001b[38;5;241m74\u001b[39m\n",
      "\u001b[1;31mAttributeError\u001b[0m: 'Gadget' object has no attribute 'temperature'"
     ]
    }
   ],
   "source": [
    "g.temperature = 74"
   ]
  },
  {
   "cell_type": "code",
   "execution_count": 241,
   "id": "a5fe209c-5271-4261-906b-333aecbb957d",
   "metadata": {
    "tags": [
     "raises-exception"
    ]
   },
   "outputs": [
    {
     "ename": "AttributeError",
     "evalue": "'Gadget' object attribute 'favorite_color' is read-only",
     "output_type": "error",
     "traceback": [
      "\u001b[1;31m---------------------------------------------------------------------------\u001b[0m",
      "\u001b[1;31mAttributeError\u001b[0m                            Traceback (most recent call last)",
      "Cell \u001b[1;32mIn[241], line 1\u001b[0m\n\u001b[1;32m----> 1\u001b[0m \u001b[43mg\u001b[49m\u001b[38;5;241;43m.\u001b[39;49m\u001b[43mfavorite_color\u001b[49m \u001b[38;5;241m=\u001b[39m \u001b[38;5;124m'\u001b[39m\u001b[38;5;124morange\u001b[39m\u001b[38;5;124m'\u001b[39m\n",
      "\u001b[1;31mAttributeError\u001b[0m: 'Gadget' object attribute 'favorite_color' is read-only"
     ]
    }
   ],
   "source": [
    "g.favorite_color = 'orange'"
   ]
  },
  {
   "cell_type": "code",
   "execution_count": 242,
   "id": "757f269f-4724-4e29-832c-131099e702db",
   "metadata": {},
   "outputs": [],
   "source": [
    "g.color = 'red'"
   ]
  },
  {
   "cell_type": "code",
   "execution_count": 243,
   "id": "56bc02ff-f642-4f39-b75b-12c2e708075e",
   "metadata": {},
   "outputs": [
    {
     "data": {
      "text/plain": [
       "'red'"
      ]
     },
     "execution_count": 243,
     "metadata": {},
     "output_type": "execute_result"
    }
   ],
   "source": [
    "g.color"
   ]
  },
  {
   "cell_type": "code",
   "execution_count": 244,
   "id": "cf0ef0e3-ce14-4591-a1d1-cdbc0aa2bf1e",
   "metadata": {},
   "outputs": [],
   "source": [
    "class Gadget:\n",
    "    __slots__ = ('__dict__', 'color')\n",
    "    \n",
    "    favorite_color = 'mauve'\n",
    "    \n",
    "    @property\n",
    "    def loud_color(self):\n",
    "        return self.color.upper()"
   ]
  },
  {
   "cell_type": "code",
   "execution_count": 245,
   "id": "a38b924b-4c32-4716-907c-e61511be7e48",
   "metadata": {},
   "outputs": [],
   "source": [
    "g = Gadget()"
   ]
  },
  {
   "cell_type": "code",
   "execution_count": 246,
   "id": "96762096-bc56-4882-ba80-179f08f753fb",
   "metadata": {},
   "outputs": [
    {
     "data": {
      "text/plain": [
       "'mauve'"
      ]
     },
     "execution_count": 246,
     "metadata": {},
     "output_type": "execute_result"
    }
   ],
   "source": [
    "g.favorite_color "
   ]
  },
  {
   "cell_type": "code",
   "execution_count": 247,
   "id": "2211391f-13b4-4785-a809-0e6eaabe68d7",
   "metadata": {},
   "outputs": [],
   "source": [
    "g.favorite_color = 'orange'"
   ]
  },
  {
   "cell_type": "code",
   "execution_count": 248,
   "id": "199d7a37-9e1a-459a-892c-f731823cedf0",
   "metadata": {},
   "outputs": [
    {
     "data": {
      "text/plain": [
       "'mauve'"
      ]
     },
     "execution_count": 248,
     "metadata": {},
     "output_type": "execute_result"
    }
   ],
   "source": [
    "Gadget.favorite_color"
   ]
  },
  {
   "cell_type": "code",
   "execution_count": 249,
   "id": "7dda3987-9c3d-4744-b8f4-fa4acdf4080b",
   "metadata": {},
   "outputs": [
    {
     "data": {
      "text/plain": [
       "{'favorite_color': 'orange'}"
      ]
     },
     "execution_count": 249,
     "metadata": {},
     "output_type": "execute_result"
    }
   ],
   "source": [
    "g.__dict__"
   ]
  },
  {
   "cell_type": "code",
   "execution_count": 250,
   "id": "66e9455b-53f8-41e7-8c70-88da45b6a646",
   "metadata": {
    "tags": [
     "raises-exception"
    ]
   },
   "outputs": [
    {
     "ename": "AttributeError",
     "evalue": "'Gadget' object has no attribute 'color'",
     "output_type": "error",
     "traceback": [
      "\u001b[1;31m---------------------------------------------------------------------------\u001b[0m",
      "\u001b[1;31mAttributeError\u001b[0m                            Traceback (most recent call last)",
      "Cell \u001b[1;32mIn[250], line 1\u001b[0m\n\u001b[1;32m----> 1\u001b[0m \u001b[43mg\u001b[49m\u001b[38;5;241;43m.\u001b[39;49m\u001b[43mcolor\u001b[49m\n",
      "\u001b[1;31mAttributeError\u001b[0m: 'Gadget' object has no attribute 'color'"
     ]
    }
   ],
   "source": [
    "g.color"
   ]
  },
  {
   "cell_type": "code",
   "execution_count": 251,
   "id": "8711977a-4f4e-4572-9612-412b3dc4163e",
   "metadata": {},
   "outputs": [],
   "source": [
    "g.color = 'red'"
   ]
  },
  {
   "cell_type": "code",
   "execution_count": 252,
   "id": "9cc7171c-7d06-400d-b5a6-def5c32727da",
   "metadata": {},
   "outputs": [
    {
     "data": {
      "text/plain": [
       "'red'"
      ]
     },
     "execution_count": 252,
     "metadata": {},
     "output_type": "execute_result"
    }
   ],
   "source": [
    "g.color"
   ]
  },
  {
   "cell_type": "code",
   "execution_count": 253,
   "id": "1d0bf46e-1d0d-4226-ac0e-245a4e683b0a",
   "metadata": {},
   "outputs": [
    {
     "data": {
      "text/plain": [
       "{'favorite_color': 'orange'}"
      ]
     },
     "execution_count": 253,
     "metadata": {},
     "output_type": "execute_result"
    }
   ],
   "source": [
    "g.__dict__"
   ]
  },
  {
   "cell_type": "code",
   "execution_count": 254,
   "id": "cd7e4e74-d751-49d2-9e6f-47278cc5ad88",
   "metadata": {},
   "outputs": [
    {
     "data": {
      "text/plain": [
       "'RED'"
      ]
     },
     "execution_count": 254,
     "metadata": {},
     "output_type": "execute_result"
    }
   ],
   "source": [
    "g.loud_color"
   ]
  },
  {
   "cell_type": "code",
   "execution_count": 255,
   "id": "0e40f2d4-b02b-4904-8bf9-ff1badc8561a",
   "metadata": {},
   "outputs": [
    {
     "data": {
      "text/plain": [
       "<property at 0x2166fa97f60>"
      ]
     },
     "execution_count": 255,
     "metadata": {},
     "output_type": "execute_result"
    }
   ],
   "source": [
    "Gadget.loud_color"
   ]
  },
  {
   "cell_type": "code",
   "execution_count": 256,
   "id": "f2333967-ccc6-41e3-9786-202db0e3ecc1",
   "metadata": {},
   "outputs": [],
   "source": [
    "class Dog:\n",
    "    def bark():\n",
    "        print('Woof!')"
   ]
  },
  {
   "cell_type": "code",
   "execution_count": 257,
   "id": "d89b202b-9986-45f7-b6ef-8163e61eeb0d",
   "metadata": {
    "tags": [
     "raises-exception"
    ]
   },
   "outputs": [
    {
     "ename": "TypeError",
     "evalue": "Dog.bark() takes 0 positional arguments but 1 was given",
     "output_type": "error",
     "traceback": [
      "\u001b[1;31m---------------------------------------------------------------------------\u001b[0m",
      "\u001b[1;31mTypeError\u001b[0m                                 Traceback (most recent call last)",
      "Cell \u001b[1;32mIn[257], line 2\u001b[0m\n\u001b[0;32m      1\u001b[0m d \u001b[38;5;241m=\u001b[39m Dog()\n\u001b[1;32m----> 2\u001b[0m \u001b[43md\u001b[49m\u001b[38;5;241;43m.\u001b[39;49m\u001b[43mbark\u001b[49m\u001b[43m(\u001b[49m\u001b[43m)\u001b[49m\n",
      "\u001b[1;31mTypeError\u001b[0m: Dog.bark() takes 0 positional arguments but 1 was given"
     ]
    }
   ],
   "source": [
    "d = Dog()\n",
    "d.bark()"
   ]
  },
  {
   "cell_type": "code",
   "execution_count": 258,
   "id": "a7f1a75f-8927-4ee2-9ab8-49369358dc11",
   "metadata": {},
   "outputs": [],
   "source": [
    "class Dog:\n",
    "    def bark(self):\n",
    "        print('Woof!')"
   ]
  },
  {
   "cell_type": "code",
   "execution_count": 259,
   "id": "c2ee8be0-3370-40e1-b1df-8935cb3ee6be",
   "metadata": {},
   "outputs": [
    {
     "name": "stdout",
     "output_type": "stream",
     "text": [
      "Woof!\n"
     ]
    }
   ],
   "source": [
    "d = Dog()\n",
    "d.bark()"
   ]
  },
  {
   "cell_type": "code",
   "execution_count": 260,
   "id": "757c0271-d793-4f47-be62-c51bd4b751fe",
   "metadata": {},
   "outputs": [
    {
     "data": {
      "text/plain": [
       "<bound method Dog.bark of <__main__.Dog object at 0x000002166FA69610>>"
      ]
     },
     "execution_count": 260,
     "metadata": {},
     "output_type": "execute_result"
    }
   ],
   "source": [
    "d.bark"
   ]
  },
  {
   "cell_type": "code",
   "execution_count": 261,
   "id": "04ba464e-cc90-459d-a51c-52cfc31c5c0b",
   "metadata": {},
   "outputs": [
    {
     "name": "stdout",
     "output_type": "stream",
     "text": [
      "Woof!\n"
     ]
    }
   ],
   "source": [
    "class Bark:\n",
    "    def __call__(self):\n",
    "        print('Woof!')\n",
    "\n",
    "Bark()()"
   ]
  },
  {
   "cell_type": "code",
   "execution_count": 262,
   "id": "8dfbea57-ef5f-4c36-8549-ee3c228669b6",
   "metadata": {},
   "outputs": [],
   "source": [
    "class OtherDog:\n",
    "    bark = Bark()"
   ]
  },
  {
   "cell_type": "code",
   "execution_count": 263,
   "id": "c4f83560-a6c8-4dfd-afdf-b9246be14324",
   "metadata": {},
   "outputs": [],
   "source": [
    "d2 = OtherDog()"
   ]
  },
  {
   "cell_type": "code",
   "execution_count": 264,
   "id": "1ccb22e8-7f0a-4412-9531-8094fc38f697",
   "metadata": {},
   "outputs": [
    {
     "name": "stdout",
     "output_type": "stream",
     "text": [
      "Woof!\n"
     ]
    }
   ],
   "source": [
    "d2.bark()"
   ]
  },
  {
   "cell_type": "code",
   "execution_count": 265,
   "id": "566f9230-a9dc-45c8-bcb1-8ca1be610330",
   "metadata": {},
   "outputs": [
    {
     "data": {
      "text/plain": [
       "<__main__.Bark at 0x2166fa55e10>"
      ]
     },
     "execution_count": 265,
     "metadata": {},
     "output_type": "execute_result"
    }
   ],
   "source": [
    "d2.bark"
   ]
  },
  {
   "cell_type": "code",
   "execution_count": 266,
   "id": "4d09caa4-12ff-4ddd-8015-5d4f94156d48",
   "metadata": {},
   "outputs": [
    {
     "name": "stdout",
     "output_type": "stream",
     "text": [
      "Woof!\n"
     ]
    }
   ],
   "source": [
    "OtherDog.bark()"
   ]
  },
  {
   "cell_type": "code",
   "execution_count": 267,
   "id": "1d63a72f-b9a3-41fd-b2b6-0130c19c6dc2",
   "metadata": {
    "tags": [
     "raises-exception"
    ]
   },
   "outputs": [
    {
     "ename": "TypeError",
     "evalue": "Dog.bark() missing 1 required positional argument: 'self'",
     "output_type": "error",
     "traceback": [
      "\u001b[1;31m---------------------------------------------------------------------------\u001b[0m",
      "\u001b[1;31mTypeError\u001b[0m                                 Traceback (most recent call last)",
      "Cell \u001b[1;32mIn[267], line 1\u001b[0m\n\u001b[1;32m----> 1\u001b[0m \u001b[43mDog\u001b[49m\u001b[38;5;241;43m.\u001b[39;49m\u001b[43mbark\u001b[49m\u001b[43m(\u001b[49m\u001b[43m)\u001b[49m\n",
      "\u001b[1;31mTypeError\u001b[0m: Dog.bark() missing 1 required positional argument: 'self'"
     ]
    }
   ],
   "source": [
    "Dog.bark()"
   ]
  },
  {
   "cell_type": "code",
   "execution_count": 268,
   "id": "4a11762e-d5a5-4f1e-bf65-79b7690c7518",
   "metadata": {},
   "outputs": [
    {
     "name": "stdout",
     "output_type": "stream",
     "text": [
      "Woof!\n"
     ]
    }
   ],
   "source": [
    "Dog.bark(d)"
   ]
  },
  {
   "cell_type": "code",
   "execution_count": 269,
   "id": "44714b57-9204-4458-baaa-aee132b9424b",
   "metadata": {},
   "outputs": [
    {
     "name": "stdout",
     "output_type": "stream",
     "text": [
      "Woof!\n"
     ]
    }
   ],
   "source": [
    "def bark_method(self):\n",
    "    print('Woof!')\n",
    "\n",
    "class AltDog:\n",
    "    bark = bark_method\n",
    "    \n",
    "ad = AltDog()\n",
    "ad.bark()"
   ]
  },
  {
   "cell_type": "code",
   "execution_count": 270,
   "id": "5c534bcb-92b0-44d1-b9b1-c7496aaa3165",
   "metadata": {
    "tags": [
     "raises-exception"
    ]
   },
   "outputs": [
    {
     "ename": "TypeError",
     "evalue": "bark_method() missing 1 required positional argument: 'self'",
     "output_type": "error",
     "traceback": [
      "\u001b[1;31m---------------------------------------------------------------------------\u001b[0m",
      "\u001b[1;31mTypeError\u001b[0m                                 Traceback (most recent call last)",
      "Cell \u001b[1;32mIn[270], line 1\u001b[0m\n\u001b[1;32m----> 1\u001b[0m \u001b[43mAltDog\u001b[49m\u001b[38;5;241;43m.\u001b[39;49m\u001b[43mbark\u001b[49m\u001b[43m(\u001b[49m\u001b[43m)\u001b[49m\n",
      "\u001b[1;31mTypeError\u001b[0m: bark_method() missing 1 required positional argument: 'self'"
     ]
    }
   ],
   "source": [
    "AltDog.bark()"
   ]
  },
  {
   "cell_type": "code",
   "execution_count": 271,
   "id": "141cd31c-9e43-4f4b-848b-13425a44bf62",
   "metadata": {
    "tags": [
     "raises-exception"
    ]
   },
   "outputs": [
    {
     "ename": "TypeError",
     "evalue": "type 'bool' is not an acceptable base type",
     "output_type": "error",
     "traceback": [
      "\u001b[1;31m---------------------------------------------------------------------------\u001b[0m",
      "\u001b[1;31mTypeError\u001b[0m                                 Traceback (most recent call last)",
      "Cell \u001b[1;32mIn[271], line 1\u001b[0m\n\u001b[1;32m----> 1\u001b[0m \u001b[38;5;28;43;01mclass\u001b[39;49;00m\u001b[43m \u001b[49m\u001b[38;5;21;43;01mMyBoolAttempt\u001b[39;49;00m\u001b[43m(\u001b[49m\u001b[38;5;28;43mbool\u001b[39;49m\u001b[43m)\u001b[49m\u001b[43m:\u001b[49m\n\u001b[0;32m      2\u001b[0m \u001b[43m    \u001b[49m\u001b[38;5;28;43;01mpass\u001b[39;49;00m\n",
      "\u001b[1;31mTypeError\u001b[0m: type 'bool' is not an acceptable base type"
     ]
    }
   ],
   "source": [
    "class MyBoolAttempt(bool):\n",
    "    pass"
   ]
  },
  {
   "cell_type": "code",
   "execution_count": 272,
   "id": "312ab3b0-cadb-4166-9828-156ac288a1ae",
   "metadata": {},
   "outputs": [],
   "source": [
    "class AbstractHouseSitter(ABC):\n",
    "    @abstractmethod\n",
    "    def stick_around(self): ...\n",
    "\n",
    "class HouseSitter(AbstractHouseSitter):\n",
    "    def stick_around(self):\n",
    "        print('Remaining in the house even if something more fun comes up.')"
   ]
  },
  {
   "cell_type": "code",
   "execution_count": 273,
   "id": "14960e54-d265-47a9-ae01-ab07e45e51ff",
   "metadata": {
    "tags": [
     "raises-exception"
    ]
   },
   "outputs": [
    {
     "ename": "TypeError",
     "evalue": "Can't instantiate abstract class AbstractHouseSitter with abstract method stick_around",
     "output_type": "error",
     "traceback": [
      "\u001b[1;31m---------------------------------------------------------------------------\u001b[0m",
      "\u001b[1;31mTypeError\u001b[0m                                 Traceback (most recent call last)",
      "Cell \u001b[1;32mIn[273], line 1\u001b[0m\n\u001b[1;32m----> 1\u001b[0m \u001b[43mAbstractHouseSitter\u001b[49m\u001b[43m(\u001b[49m\u001b[43m)\u001b[49m\n",
      "\u001b[1;31mTypeError\u001b[0m: Can't instantiate abstract class AbstractHouseSitter with abstract method stick_around"
     ]
    }
   ],
   "source": [
    "AbstractHouseSitter()"
   ]
  },
  {
   "cell_type": "code",
   "execution_count": 274,
   "id": "33308aa9-001c-489e-8eb4-502be88eaed1",
   "metadata": {},
   "outputs": [
    {
     "data": {
      "text/plain": [
       "<__main__.HouseSitter at 0x2166f8c86d0>"
      ]
     },
     "execution_count": 274,
     "metadata": {},
     "output_type": "execute_result"
    }
   ],
   "source": [
    "HouseSitter()"
   ]
  },
  {
   "cell_type": "code",
   "execution_count": 275,
   "id": "b707f726-6393-4b48-9259-e4ca4d401651",
   "metadata": {},
   "outputs": [
    {
     "name": "stdout",
     "output_type": "stream",
     "text": [
      "Remaining in the house even if something more fun comes up.\n"
     ]
    }
   ],
   "source": [
    "_.stick_around()"
   ]
  },
  {
   "cell_type": "code",
   "execution_count": 276,
   "id": "634b013b-98e5-41ef-9442-34262d808533",
   "metadata": {},
   "outputs": [
    {
     "data": {
      "text/plain": [
       "<__main__.VeryBadHouseSitter at 0x2166fa52590>"
      ]
     },
     "execution_count": 276,
     "metadata": {},
     "output_type": "execute_result"
    }
   ],
   "source": [
    "class VeryBadHouseSitter(AbstractHouseSitter):\n",
    "    stick_around = 42\n",
    "\n",
    "VeryBadHouseSitter()"
   ]
  },
  {
   "cell_type": "code",
   "execution_count": 277,
   "id": "856f4b65-d248-4a86-b75d-2eb1045800a1",
   "metadata": {},
   "outputs": [
    {
     "data": {
      "text/plain": [
       "frozenset({'stick_around'})"
      ]
     },
     "execution_count": 277,
     "metadata": {},
     "output_type": "execute_result"
    }
   ],
   "source": [
    "AbstractHouseSitter.__abstractmethods__"
   ]
  },
  {
   "cell_type": "code",
   "execution_count": 278,
   "id": "affcdd9e-7f24-4a30-81fd-1f48aa27b30a",
   "metadata": {},
   "outputs": [
    {
     "data": {
      "text/plain": [
       "frozenset()"
      ]
     },
     "execution_count": 278,
     "metadata": {},
     "output_type": "execute_result"
    }
   ],
   "source": [
    "HouseSitter.__abstractmethods__"
   ]
  },
  {
   "cell_type": "code",
   "execution_count": 279,
   "id": "a861d916-502f-44ef-a977-565d88bc3895",
   "metadata": {},
   "outputs": [],
   "source": [
    "import collections.abc"
   ]
  },
  {
   "cell_type": "code",
   "execution_count": 280,
   "id": "a57971b4-08fc-43ae-acb1-e09fa803355d",
   "metadata": {},
   "outputs": [
    {
     "data": {
      "text/plain": [
       "['AsyncGenerator',\n",
       " 'AsyncIterable',\n",
       " 'AsyncIterator',\n",
       " 'Awaitable',\n",
       " 'ByteString',\n",
       " 'Callable',\n",
       " 'Collection',\n",
       " 'Container',\n",
       " 'Coroutine',\n",
       " 'Generator',\n",
       " 'Hashable',\n",
       " 'ItemsView',\n",
       " 'Iterable',\n",
       " 'Iterator',\n",
       " 'KeysView',\n",
       " 'Mapping',\n",
       " 'MappingView',\n",
       " 'MutableMapping',\n",
       " 'MutableSequence',\n",
       " 'MutableSet',\n",
       " 'Reversible',\n",
       " 'Sequence',\n",
       " 'Set',\n",
       " 'Sized',\n",
       " 'ValuesView',\n",
       " '_CallableGenericAlias',\n",
       " '__all__',\n",
       " '__builtins__',\n",
       " '__cached__',\n",
       " '__doc__',\n",
       " '__file__',\n",
       " '__loader__',\n",
       " '__name__',\n",
       " '__package__',\n",
       " '__spec__']"
      ]
     },
     "execution_count": 280,
     "metadata": {},
     "output_type": "execute_result"
    }
   ],
   "source": [
    "dir(collections.abc)"
   ]
  },
  {
   "cell_type": "code",
   "execution_count": 281,
   "id": "930234f4-a32e-4e05-8539-cc2a07aeca4d",
   "metadata": {},
   "outputs": [
    {
     "data": {
      "text/plain": [
       "True"
      ]
     },
     "execution_count": 281,
     "metadata": {},
     "output_type": "execute_result"
    }
   ],
   "source": [
    "issubclass(collections.abc.MutableMapping, collections.abc.Mapping)"
   ]
  },
  {
   "cell_type": "code",
   "execution_count": 282,
   "id": "2070bb21-f85f-490a-a9ee-4d099939a539",
   "metadata": {},
   "outputs": [
    {
     "data": {
      "text/plain": [
       "True"
      ]
     },
     "execution_count": 282,
     "metadata": {},
     "output_type": "execute_result"
    }
   ],
   "source": [
    "issubclass(collections.abc.MutableSequence, collections.abc.Sequence)"
   ]
  },
  {
   "cell_type": "code",
   "execution_count": 283,
   "id": "05bbf7e9-a933-4077-a306-6ebbd6e5eabb",
   "metadata": {},
   "outputs": [
    {
     "data": {
      "text/plain": [
       "(list, object)"
      ]
     },
     "execution_count": 283,
     "metadata": {},
     "output_type": "execute_result"
    }
   ],
   "source": [
    "list.__mro__"
   ]
  },
  {
   "cell_type": "code",
   "execution_count": 284,
   "id": "a5ae4eb5-1195-4a1d-9ca7-2ce292d5ed09",
   "metadata": {},
   "outputs": [
    {
     "data": {
      "text/plain": [
       "True"
      ]
     },
     "execution_count": 284,
     "metadata": {},
     "output_type": "execute_result"
    }
   ],
   "source": [
    "issubclass(list, collections.abc.MutableSequence)"
   ]
  },
  {
   "cell_type": "code",
   "execution_count": 285,
   "id": "cca0540b-60ef-42d5-a4f9-26ccb8331d6f",
   "metadata": {},
   "outputs": [],
   "source": [
    "import numbers"
   ]
  },
  {
   "cell_type": "code",
   "execution_count": 286,
   "id": "2e5435a4-d320-4df8-9f08-91cd9d5e0a94",
   "metadata": {},
   "outputs": [
    {
     "data": {
      "text/plain": [
       "['ABCMeta',\n",
       " 'Complex',\n",
       " 'Integral',\n",
       " 'Number',\n",
       " 'Rational',\n",
       " 'Real',\n",
       " '__all__',\n",
       " '__builtins__',\n",
       " '__cached__',\n",
       " '__doc__',\n",
       " '__file__',\n",
       " '__loader__',\n",
       " '__name__',\n",
       " '__package__',\n",
       " '__spec__',\n",
       " 'abstractmethod']"
      ]
     },
     "execution_count": 286,
     "metadata": {},
     "output_type": "execute_result"
    }
   ],
   "source": [
    "dir(numbers)"
   ]
  },
  {
   "cell_type": "code",
   "execution_count": 287,
   "id": "f96bf8ed-b80d-41a4-9c58-18c2df891ed7",
   "metadata": {},
   "outputs": [
    {
     "data": {
      "text/plain": [
       "['__abs__',\n",
       " '__abstractmethods__',\n",
       " '__add__',\n",
       " '__and__',\n",
       " '__bool__',\n",
       " '__ceil__',\n",
       " '__class__',\n",
       " '__complex__',\n",
       " '__delattr__',\n",
       " '__dir__',\n",
       " '__divmod__',\n",
       " '__doc__',\n",
       " '__eq__',\n",
       " '__float__',\n",
       " '__floor__',\n",
       " '__floordiv__',\n",
       " '__format__',\n",
       " '__ge__',\n",
       " '__getattribute__',\n",
       " '__getstate__',\n",
       " '__gt__',\n",
       " '__hash__',\n",
       " '__index__',\n",
       " '__init__',\n",
       " '__init_subclass__',\n",
       " '__int__',\n",
       " '__invert__',\n",
       " '__le__',\n",
       " '__lshift__',\n",
       " '__lt__',\n",
       " '__mod__',\n",
       " '__module__',\n",
       " '__mul__',\n",
       " '__ne__',\n",
       " '__neg__',\n",
       " '__new__',\n",
       " '__or__',\n",
       " '__pos__',\n",
       " '__pow__',\n",
       " '__radd__',\n",
       " '__rand__',\n",
       " '__rdivmod__',\n",
       " '__reduce__',\n",
       " '__reduce_ex__',\n",
       " '__repr__',\n",
       " '__rfloordiv__',\n",
       " '__rlshift__',\n",
       " '__rmod__',\n",
       " '__rmul__',\n",
       " '__ror__',\n",
       " '__round__',\n",
       " '__rpow__',\n",
       " '__rrshift__',\n",
       " '__rshift__',\n",
       " '__rsub__',\n",
       " '__rtruediv__',\n",
       " '__rxor__',\n",
       " '__setattr__',\n",
       " '__sizeof__',\n",
       " '__slots__',\n",
       " '__str__',\n",
       " '__sub__',\n",
       " '__subclasshook__',\n",
       " '__truediv__',\n",
       " '__trunc__',\n",
       " '__xor__',\n",
       " '_abc_impl',\n",
       " 'conjugate',\n",
       " 'denominator',\n",
       " 'imag',\n",
       " 'numerator',\n",
       " 'real']"
      ]
     },
     "execution_count": 287,
     "metadata": {},
     "output_type": "execute_result"
    }
   ],
   "source": [
    "dir(numbers.Integral)"
   ]
  },
  {
   "cell_type": "code",
   "execution_count": 288,
   "id": "f6058f0a-b119-45d4-8722-6b813143dd29",
   "metadata": {},
   "outputs": [
    {
     "data": {
      "text/plain": [
       "0"
      ]
     },
     "execution_count": 288,
     "metadata": {},
     "output_type": "execute_result"
    }
   ],
   "source": [
    "(3).imag"
   ]
  },
  {
   "cell_type": "code",
   "execution_count": 289,
   "id": "d45386b2-51bd-4da1-aa1f-d28aee7d728a",
   "metadata": {},
   "outputs": [
    {
     "data": {
      "text/plain": [
       "3"
      ]
     },
     "execution_count": 289,
     "metadata": {},
     "output_type": "execute_result"
    }
   ],
   "source": [
    "(3).real"
   ]
  },
  {
   "cell_type": "code",
   "execution_count": 290,
   "id": "d4c36ff0-6755-483a-8242-0ea4dfb6923e",
   "metadata": {},
   "outputs": [
    {
     "data": {
      "text/plain": [
       "['__abs__',\n",
       " '__abstractmethods__',\n",
       " '__add__',\n",
       " '__bool__',\n",
       " '__class__',\n",
       " '__complex__',\n",
       " '__delattr__',\n",
       " '__dir__',\n",
       " '__doc__',\n",
       " '__eq__',\n",
       " '__format__',\n",
       " '__ge__',\n",
       " '__getattribute__',\n",
       " '__getstate__',\n",
       " '__gt__',\n",
       " '__hash__',\n",
       " '__init__',\n",
       " '__init_subclass__',\n",
       " '__le__',\n",
       " '__lt__',\n",
       " '__module__',\n",
       " '__mul__',\n",
       " '__ne__',\n",
       " '__neg__',\n",
       " '__new__',\n",
       " '__pos__',\n",
       " '__pow__',\n",
       " '__radd__',\n",
       " '__reduce__',\n",
       " '__reduce_ex__',\n",
       " '__repr__',\n",
       " '__rmul__',\n",
       " '__rpow__',\n",
       " '__rsub__',\n",
       " '__rtruediv__',\n",
       " '__setattr__',\n",
       " '__sizeof__',\n",
       " '__slots__',\n",
       " '__str__',\n",
       " '__sub__',\n",
       " '__subclasshook__',\n",
       " '__truediv__',\n",
       " '_abc_impl',\n",
       " 'conjugate',\n",
       " 'imag',\n",
       " 'real']"
      ]
     },
     "execution_count": 290,
     "metadata": {},
     "output_type": "execute_result"
    }
   ],
   "source": [
    "dir(numbers.Complex)"
   ]
  },
  {
   "cell_type": "code",
   "execution_count": 291,
   "id": "46bbb020-0064-4625-a929-47190d5d821f",
   "metadata": {
    "tags": [
     "raises-exception"
    ]
   },
   "outputs": [
    {
     "ename": "TypeError",
     "evalue": "'<' not supported between instances of 'complex' and 'complex'",
     "output_type": "error",
     "traceback": [
      "\u001b[1;31m---------------------------------------------------------------------------\u001b[0m",
      "\u001b[1;31mTypeError\u001b[0m                                 Traceback (most recent call last)",
      "Cell \u001b[1;32mIn[291], line 1\u001b[0m\n\u001b[1;32m----> 1\u001b[0m \u001b[38;5;241;43m1\u001b[39;49m\u001b[43m \u001b[49m\u001b[38;5;241;43m+\u001b[39;49m\u001b[43m \u001b[49m\u001b[38;5;241;43m0\u001b[39;49m\u001b[43mj\u001b[49m\u001b[43m \u001b[49m\u001b[38;5;241;43m<\u001b[39;49m\u001b[43m \u001b[49m\u001b[38;5;241;43m2\u001b[39;49m\u001b[43m \u001b[49m\u001b[38;5;241;43m+\u001b[39;49m\u001b[43m \u001b[49m\u001b[38;5;241;43m0\u001b[39;49m\u001b[43mj\u001b[49m\n",
      "\u001b[1;31mTypeError\u001b[0m: '<' not supported between instances of 'complex' and 'complex'"
     ]
    }
   ],
   "source": [
    "1 + 0j < 2 + 0j"
   ]
  },
  {
   "cell_type": "code",
   "execution_count": 292,
   "id": "2d0c1582-c7a5-4a14-8844-3fcaeae768b2",
   "metadata": {},
   "outputs": [
    {
     "data": {
      "text/plain": [
       "True"
      ]
     },
     "execution_count": 292,
     "metadata": {},
     "output_type": "execute_result"
    }
   ],
   "source": [
    "issubclass(int, numbers.Integral)"
   ]
  },
  {
   "cell_type": "code",
   "execution_count": 293,
   "id": "4515fb4f-0849-46e6-92d1-6051d8f506c1",
   "metadata": {},
   "outputs": [
    {
     "data": {
      "text/plain": [
       "True"
      ]
     },
     "execution_count": 293,
     "metadata": {},
     "output_type": "execute_result"
    }
   ],
   "source": [
    "issubclass(float, numbers.Real)"
   ]
  },
  {
   "cell_type": "code",
   "execution_count": 294,
   "id": "84539d9f-6f2f-4d70-b859-5ba44371a9b4",
   "metadata": {},
   "outputs": [
    {
     "data": {
      "text/plain": [
       "True"
      ]
     },
     "execution_count": 294,
     "metadata": {},
     "output_type": "execute_result"
    }
   ],
   "source": [
    "issubclass(int, (numbers.Real, numbers.Number))"
   ]
  },
  {
   "cell_type": "code",
   "execution_count": 295,
   "id": "1ac1fbf5-17a0-4210-84dc-7c5f61543094",
   "metadata": {},
   "outputs": [
    {
     "data": {
      "text/plain": [
       "['__abstractmethods__',\n",
       " '__class__',\n",
       " '__delattr__',\n",
       " '__dir__',\n",
       " '__doc__',\n",
       " '__eq__',\n",
       " '__format__',\n",
       " '__ge__',\n",
       " '__getattribute__',\n",
       " '__getstate__',\n",
       " '__gt__',\n",
       " '__hash__',\n",
       " '__init__',\n",
       " '__init_subclass__',\n",
       " '__le__',\n",
       " '__lt__',\n",
       " '__module__',\n",
       " '__ne__',\n",
       " '__new__',\n",
       " '__reduce__',\n",
       " '__reduce_ex__',\n",
       " '__repr__',\n",
       " '__setattr__',\n",
       " '__sizeof__',\n",
       " '__slots__',\n",
       " '__str__',\n",
       " '__subclasshook__',\n",
       " '_abc_impl']"
      ]
     },
     "execution_count": 295,
     "metadata": {},
     "output_type": "execute_result"
    }
   ],
   "source": [
    "dir(numbers.Number)"
   ]
  },
  {
   "cell_type": "code",
   "execution_count": 296,
   "id": "bcbce4d8-90f3-49b2-a5f5-70d4a5c69173",
   "metadata": {},
   "outputs": [
    {
     "data": {
      "text/plain": [
       "True"
      ]
     },
     "execution_count": 296,
     "metadata": {},
     "output_type": "execute_result"
    }
   ],
   "source": [
    "issubclass(list, (collections.abc.Sequence, numbers.Number))"
   ]
  },
  {
   "cell_type": "code",
   "execution_count": 297,
   "id": "32549d25-c9ce-4bb3-b4bc-95c7d8a0c0a6",
   "metadata": {},
   "outputs": [
    {
     "data": {
      "text/plain": [
       "True"
      ]
     },
     "execution_count": 297,
     "metadata": {},
     "output_type": "execute_result"
    }
   ],
   "source": [
    "isinstance([2, 3], (collections.abc.Sequence, numbers.Number))  "
   ]
  },
  {
   "cell_type": "code",
   "execution_count": 298,
   "id": "b904191c-0c5b-43d5-876b-3d17ed2fd23d",
   "metadata": {},
   "outputs": [
    {
     "data": {
      "text/plain": [
       "True"
      ]
     },
     "execution_count": 298,
     "metadata": {},
     "output_type": "execute_result"
    }
   ],
   "source": [
    "isinstance([2, 3], collections.abc.Sequence | numbers.Number)"
   ]
  },
  {
   "cell_type": "code",
   "execution_count": 299,
   "id": "05c68f69-42fc-4762-ab06-89e7c06441bc",
   "metadata": {},
   "outputs": [],
   "source": [
    "a = [10, 20, 30]"
   ]
  },
  {
   "cell_type": "code",
   "execution_count": 300,
   "id": "5bbb68b8-61b9-4806-a2ca-b5249d6a0494",
   "metadata": {},
   "outputs": [
    {
     "data": {
      "text/plain": [
       "list"
      ]
     },
     "execution_count": 300,
     "metadata": {},
     "output_type": "execute_result"
    }
   ],
   "source": [
    "type(a)"
   ]
  },
  {
   "cell_type": "code",
   "execution_count": 301,
   "id": "7924dc46-87fc-4123-a3ba-cb71dcdcebf6",
   "metadata": {},
   "outputs": [
    {
     "data": {
      "text/plain": [
       "<method 'append' of 'list' objects>"
      ]
     },
     "execution_count": 301,
     "metadata": {},
     "output_type": "execute_result"
    }
   ],
   "source": [
    "list.append"
   ]
  },
  {
   "cell_type": "code",
   "execution_count": 302,
   "id": "dba0c126-ebcf-4521-9ff1-2d9c838b669a",
   "metadata": {},
   "outputs": [],
   "source": [
    "list.append(a, 40)"
   ]
  },
  {
   "cell_type": "code",
   "execution_count": 303,
   "id": "7b1c8abb-c6c1-4dd0-a2f1-13c32d97d5d8",
   "metadata": {},
   "outputs": [
    {
     "data": {
      "text/plain": [
       "[10, 20, 30, 40]"
      ]
     },
     "execution_count": 303,
     "metadata": {},
     "output_type": "execute_result"
    }
   ],
   "source": [
    "a"
   ]
  },
  {
   "cell_type": "code",
   "execution_count": 304,
   "id": "1653aec6-bc70-47ea-8026-cab227faf465",
   "metadata": {},
   "outputs": [
    {
     "data": {
      "text/plain": [
       "<function list.append(object, /)>"
      ]
     },
     "execution_count": 304,
     "metadata": {},
     "output_type": "execute_result"
    }
   ],
   "source": [
    "a.append"
   ]
  },
  {
   "cell_type": "code",
   "execution_count": 305,
   "id": "873d6d1d-287c-445c-8b36-67a03a2a9b28",
   "metadata": {},
   "outputs": [],
   "source": [
    "a.append(50)"
   ]
  },
  {
   "cell_type": "code",
   "execution_count": 306,
   "id": "ab0e784f-5529-4233-adaa-37e225d34bfc",
   "metadata": {},
   "outputs": [
    {
     "data": {
      "text/plain": [
       "[10, 20, 30, 40, 50]"
      ]
     },
     "execution_count": 306,
     "metadata": {},
     "output_type": "execute_result"
    }
   ],
   "source": [
    "a"
   ]
  },
  {
   "cell_type": "code",
   "execution_count": 307,
   "id": "30cedbf0-efb1-4ebc-a3ad-9d8d8e137282",
   "metadata": {},
   "outputs": [],
   "source": [
    "class HasMethod: \n",
    "    def method(self): \n",
    "        return 42"
   ]
  },
  {
   "cell_type": "code",
   "execution_count": 308,
   "id": "7a6dab64-32e7-4331-87dd-dc562ccf2030",
   "metadata": {},
   "outputs": [],
   "source": [
    "h = HasMethod()"
   ]
  },
  {
   "cell_type": "code",
   "execution_count": 309,
   "id": "6546eca7-33aa-40ed-92b9-b8a2d7706322",
   "metadata": {},
   "outputs": [
    {
     "data": {
      "text/plain": [
       "42"
      ]
     },
     "execution_count": 309,
     "metadata": {},
     "output_type": "execute_result"
    }
   ],
   "source": [
    "h.method()"
   ]
  },
  {
   "cell_type": "code",
   "execution_count": 310,
   "id": "d9290cce-2081-4c82-a912-350e7b9b3676",
   "metadata": {},
   "outputs": [],
   "source": [
    "f = h.method"
   ]
  },
  {
   "cell_type": "code",
   "execution_count": 311,
   "id": "e7c59f2d-6244-4ad0-87b6-19002c6da2ca",
   "metadata": {},
   "outputs": [
    {
     "data": {
      "text/plain": [
       "<bound method HasMethod.method of <__main__.HasMethod object at 0x000002166FB15E10>>"
      ]
     },
     "execution_count": 311,
     "metadata": {},
     "output_type": "execute_result"
    }
   ],
   "source": [
    "f"
   ]
  },
  {
   "cell_type": "code",
   "execution_count": 312,
   "id": "e570c7d0-ff22-4e26-aabc-ff3d1e43075f",
   "metadata": {},
   "outputs": [
    {
     "data": {
      "text/plain": [
       "42"
      ]
     },
     "execution_count": 312,
     "metadata": {},
     "output_type": "execute_result"
    }
   ],
   "source": [
    "f()"
   ]
  },
  {
   "cell_type": "code",
   "execution_count": 313,
   "id": "50931667-a744-45fb-a8bb-98223dc6456b",
   "metadata": {},
   "outputs": [],
   "source": [
    "u = HasMethod.method"
   ]
  },
  {
   "cell_type": "code",
   "execution_count": 314,
   "id": "087717ce-4212-4896-b4ae-4c7b1c089f9d",
   "metadata": {},
   "outputs": [
    {
     "data": {
      "text/plain": [
       "<function __main__.HasMethod.method(self)>"
      ]
     },
     "execution_count": 314,
     "metadata": {},
     "output_type": "execute_result"
    }
   ],
   "source": [
    "u"
   ]
  },
  {
   "cell_type": "code",
   "execution_count": 315,
   "id": "a6429364-0ddc-4678-acb8-939b46269de2",
   "metadata": {},
   "outputs": [
    {
     "data": {
      "text/plain": [
       "42"
      ]
     },
     "execution_count": 315,
     "metadata": {},
     "output_type": "execute_result"
    }
   ],
   "source": [
    "u(h)"
   ]
  },
  {
   "cell_type": "code",
   "execution_count": 316,
   "id": "d3d43990-0195-4361-b595-daf2fa64a94d",
   "metadata": {
    "tags": [
     "raises-exception"
    ]
   },
   "outputs": [
    {
     "ename": "UnboundLocalError",
     "evalue": "cannot access local variable 'old' where it is not associated with a value",
     "output_type": "error",
     "traceback": [
      "\u001b[1;31m---------------------------------------------------------------------------\u001b[0m",
      "\u001b[1;31mUnboundLocalError\u001b[0m                         Traceback (most recent call last)",
      "Cell \u001b[1;32mIn[316], line 7\u001b[0m\n\u001b[0;32m      5\u001b[0m     old \u001b[38;5;241m=\u001b[39m \u001b[38;5;241m0\u001b[39m \n\u001b[0;32m      6\u001b[0m     \u001b[38;5;28;01mreturn\u001b[39;00m new\n\u001b[1;32m----> 7\u001b[0m \u001b[43mwillfail\u001b[49m\u001b[43m(\u001b[49m\u001b[43m)\u001b[49m\n",
      "Cell \u001b[1;32mIn[316], line 4\u001b[0m, in \u001b[0;36mwillfail\u001b[1;34m()\u001b[0m\n\u001b[0;32m      3\u001b[0m \u001b[38;5;28;01mdef\u001b[39;00m \u001b[38;5;21mwillfail\u001b[39m(): \n\u001b[1;32m----> 4\u001b[0m     new \u001b[38;5;241m=\u001b[39m \u001b[43mold\u001b[49m\n\u001b[0;32m      5\u001b[0m     old \u001b[38;5;241m=\u001b[39m \u001b[38;5;241m0\u001b[39m \n\u001b[0;32m      6\u001b[0m     \u001b[38;5;28;01mreturn\u001b[39;00m new\n",
      "\u001b[1;31mUnboundLocalError\u001b[0m: cannot access local variable 'old' where it is not associated with a value"
     ]
    }
   ],
   "source": [
    "# Note that bound methods have self bound; this is different from what we\n",
    "# mean when we talk about bound or unbound local variables.\n",
    "def willfail(): \n",
    "    new = old\n",
    "    old = 0 \n",
    "    return new\n",
    "willfail()"
   ]
  },
  {
   "cell_type": "code",
   "execution_count": 317,
   "id": "52292808-74eb-4940-a8e6-21635d1d6791",
   "metadata": {},
   "outputs": [],
   "source": [
    "a = [10, 20, 30]\n",
    "a[1] = 25"
   ]
  },
  {
   "cell_type": "code",
   "execution_count": 318,
   "id": "be80d5f8-ab7e-40e8-bbaf-40e074938d66",
   "metadata": {},
   "outputs": [],
   "source": [
    "old = 65 "
   ]
  },
  {
   "cell_type": "code",
   "execution_count": 319,
   "id": "4140210d-bcfe-4c6c-828d-12841b44b58b",
   "metadata": {},
   "outputs": [],
   "source": [
    "old = 75 "
   ]
  },
  {
   "cell_type": "code",
   "execution_count": 320,
   "id": "714420ac-7c44-4875-8a1b-1e2da842b5f5",
   "metadata": {
    "tags": [
     "raises-exception"
    ]
   },
   "outputs": [
    {
     "ename": "TypeError",
     "evalue": "'<' not supported between instances of 'str' and 'int'",
     "output_type": "error",
     "traceback": [
      "\u001b[1;31m---------------------------------------------------------------------------\u001b[0m",
      "\u001b[1;31mTypeError\u001b[0m                                 Traceback (most recent call last)",
      "Cell \u001b[1;32mIn[320], line 1\u001b[0m\n\u001b[1;32m----> 1\u001b[0m \u001b[38;5;124;43m'\u001b[39;49m\u001b[38;5;124;43ma\u001b[39;49m\u001b[38;5;124;43m'\u001b[39;49m\u001b[43m \u001b[49m\u001b[38;5;241;43m<\u001b[39;49m\u001b[43m \u001b[49m\u001b[38;5;241;43m3\u001b[39;49m\n",
      "\u001b[1;31mTypeError\u001b[0m: '<' not supported between instances of 'str' and 'int'"
     ]
    }
   ],
   "source": [
    "'a' < 3"
   ]
  },
  {
   "cell_type": "code",
   "execution_count": 321,
   "id": "d50b3501-049d-48e1-a410-3e15621c8478",
   "metadata": {},
   "outputs": [
    {
     "data": {
      "text/plain": [
       "NotImplemented"
      ]
     },
     "execution_count": 321,
     "metadata": {},
     "output_type": "execute_result"
    }
   ],
   "source": [
    "'a'.__lt__(3)"
   ]
  },
  {
   "cell_type": "code",
   "execution_count": 322,
   "id": "0d64a49b-42f3-4e5c-be14-456b967a3663",
   "metadata": {},
   "outputs": [
    {
     "data": {
      "text/plain": [
       "NotImplemented"
      ]
     },
     "execution_count": 322,
     "metadata": {},
     "output_type": "execute_result"
    }
   ],
   "source": [
    "(3).__gt__('a')"
   ]
  },
  {
   "cell_type": "code",
   "execution_count": 323,
   "id": "0ddf6b00-1bd8-4712-aabf-369eb44d5511",
   "metadata": {},
   "outputs": [],
   "source": [
    "def f():\n",
    "    return NotImplemented"
   ]
  },
  {
   "cell_type": "code",
   "execution_count": 324,
   "id": "fe8cdf69-6e52-45b5-ada6-0fb6a7f29fba",
   "metadata": {},
   "outputs": [
    {
     "data": {
      "text/plain": [
       "NotImplemented"
      ]
     },
     "execution_count": 324,
     "metadata": {},
     "output_type": "execute_result"
    }
   ],
   "source": [
    "f()"
   ]
  },
  {
   "cell_type": "code",
   "execution_count": 325,
   "id": "331689a4-23ff-4f5a-8ad3-7dd36cd8bbe5",
   "metadata": {},
   "outputs": [],
   "source": [
    "del f"
   ]
  },
  {
   "cell_type": "code",
   "execution_count": 326,
   "id": "1bec7908-d05a-4320-ba29-772ceed071f0",
   "metadata": {
    "tags": [
     "raises-exception"
    ]
   },
   "outputs": [
    {
     "ename": "NameError",
     "evalue": "name 'f' is not defined",
     "output_type": "error",
     "traceback": [
      "\u001b[1;31m---------------------------------------------------------------------------\u001b[0m",
      "\u001b[1;31mNameError\u001b[0m                                 Traceback (most recent call last)",
      "Cell \u001b[1;32mIn[326], line 1\u001b[0m\n\u001b[1;32m----> 1\u001b[0m \u001b[38;5;28;43;01mclass\u001b[39;49;00m\u001b[43m \u001b[49m\u001b[38;5;21;43;01mC0\u001b[39;49;00m\u001b[43m:\u001b[49m\u001b[43m \u001b[49m\n\u001b[0;32m      2\u001b[0m \u001b[43m    \u001b[49m\u001b[38;5;28;43;01mdef\u001b[39;49;00m\u001b[43m \u001b[49m\u001b[38;5;21;43mf\u001b[39;49m\u001b[43m(\u001b[49m\u001b[38;5;28;43mself\u001b[39;49m\u001b[43m)\u001b[49m\u001b[43m:\u001b[49m\u001b[43m \u001b[49m\n\u001b[0;32m      3\u001b[0m \u001b[43m        \u001b[49m\u001b[38;5;28;43;01mreturn\u001b[39;49;00m\u001b[43m \u001b[49m\u001b[38;5;241;43m42\u001b[39;49m\n",
      "Cell \u001b[1;32mIn[326], line 8\u001b[0m, in \u001b[0;36mC0\u001b[1;34m()\u001b[0m\n\u001b[0;32m      5\u001b[0m \u001b[38;5;28;01mdef\u001b[39;00m \u001b[38;5;21mg\u001b[39m():\n\u001b[0;32m      6\u001b[0m     \u001b[38;5;28mprint\u001b[39m(f)\n\u001b[1;32m----> 8\u001b[0m \u001b[43mg\u001b[49m\u001b[43m(\u001b[49m\u001b[43m)\u001b[49m\n",
      "Cell \u001b[1;32mIn[326], line 6\u001b[0m, in \u001b[0;36mC0.g\u001b[1;34m()\u001b[0m\n\u001b[0;32m      5\u001b[0m \u001b[38;5;28;01mdef\u001b[39;00m \u001b[38;5;21mg\u001b[39m():\n\u001b[1;32m----> 6\u001b[0m     \u001b[38;5;28mprint\u001b[39m(\u001b[43mf\u001b[49m)\n",
      "\u001b[1;31mNameError\u001b[0m: name 'f' is not defined"
     ]
    }
   ],
   "source": [
    "class C0: \n",
    "    def f(self): \n",
    "        return 42\n",
    "    \n",
    "    def g():\n",
    "        print(f)\n",
    "    \n",
    "    g()"
   ]
  },
  {
   "cell_type": "code",
   "execution_count": 327,
   "id": "f76b0aba-dda8-4cb8-acc3-45e38db925eb",
   "metadata": {},
   "outputs": [
    {
     "name": "stdout",
     "output_type": "stream",
     "text": [
      "<function C.f at 0x000002166FB58C20>\n"
     ]
    }
   ],
   "source": [
    "class C: \n",
    "    def f(self): \n",
    "        return 42\n",
    "    \n",
    "    print(f)"
   ]
  },
  {
   "cell_type": "code",
   "execution_count": 328,
   "id": "5bd67bb3-792a-46f8-ac50-082dd295f320",
   "metadata": {
    "tags": [
     "raises-exception"
    ]
   },
   "outputs": [
    {
     "ename": "NameError",
     "evalue": "name 'f' is not defined",
     "output_type": "error",
     "traceback": [
      "\u001b[1;31m---------------------------------------------------------------------------\u001b[0m",
      "\u001b[1;31mNameError\u001b[0m                                 Traceback (most recent call last)",
      "Cell \u001b[1;32mIn[328], line 1\u001b[0m\n\u001b[1;32m----> 1\u001b[0m \u001b[38;5;28mprint\u001b[39m(\u001b[43mf\u001b[49m)\n",
      "\u001b[1;31mNameError\u001b[0m: name 'f' is not defined"
     ]
    }
   ],
   "source": [
    "print(f)"
   ]
  },
  {
   "cell_type": "code",
   "execution_count": 329,
   "id": "3122b1f1-5632-4788-aa4c-99b03d493611",
   "metadata": {},
   "outputs": [],
   "source": [
    "class D(C): \n",
    "    pass\n",
    "    #print(f)"
   ]
  },
  {
   "cell_type": "code",
   "execution_count": 330,
   "id": "8f7ba4dd-079e-493e-8753-20f57493cee5",
   "metadata": {},
   "outputs": [
    {
     "data": {
      "text/plain": [
       "<function __main__.C.f(self)>"
      ]
     },
     "execution_count": 330,
     "metadata": {},
     "output_type": "execute_result"
    }
   ],
   "source": [
    "D.f"
   ]
  },
  {
   "cell_type": "code",
   "execution_count": null,
   "id": "7d8b6327-a7f4-4e43-a147-d21faf4c5813",
   "metadata": {},
   "outputs": [],
   "source": []
  }
 ],
 "metadata": {
  "kernelspec": {
   "display_name": "Python 3 (ipykernel)",
   "language": "python",
   "name": "python3"
  },
  "language_info": {
   "codemirror_mode": {
    "name": "ipython",
    "version": 3
   },
   "file_extension": ".py",
   "mimetype": "text/x-python",
   "name": "python",
   "nbconvert_exporter": "python",
   "pygments_lexer": "ipython3",
   "version": "3.11.1"
  }
 },
 "nbformat": 4,
 "nbformat_minor": 5
}
