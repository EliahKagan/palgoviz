{
 "cells": [
  {
   "cell_type": "markdown",
   "id": "24e934a3-5c63-4b30-9826-5341d7d653e8",
   "metadata": {},
   "source": [
    "# Sorting with `sorted` and `list.sort`"
   ]
  },
  {
   "cell_type": "code",
   "execution_count": 1,
   "id": "33390a7e-947c-4d89-9e4a-e508257a0201",
   "metadata": {},
   "outputs": [],
   "source": [
    "a = [1, 1.0, True]"
   ]
  },
  {
   "cell_type": "code",
   "execution_count": 2,
   "id": "34bbab1d-a07c-4b08-af96-e97c83fba104",
   "metadata": {},
   "outputs": [
    {
     "data": {
      "text/plain": [
       "[1, 1.0, True]"
      ]
     },
     "execution_count": 2,
     "metadata": {},
     "output_type": "execute_result"
    }
   ],
   "source": [
    "sorted(a)"
   ]
  },
  {
   "cell_type": "code",
   "execution_count": 3,
   "id": "7099875d-57be-41c2-b50a-ace29b460485",
   "metadata": {},
   "outputs": [],
   "source": [
    "s = [\"my\", \"very\", \"educated\", \"mother\", \"just\", \"served\"]"
   ]
  },
  {
   "cell_type": "code",
   "execution_count": 4,
   "id": "4e4d3b77-b163-4d65-95f7-9e667449f1a3",
   "metadata": {},
   "outputs": [],
   "source": [
    "s.sort()"
   ]
  },
  {
   "cell_type": "code",
   "execution_count": 5,
   "id": "bed162a9-a819-4e01-a72c-2ccd6ff7f2af",
   "metadata": {},
   "outputs": [
    {
     "data": {
      "text/plain": [
       "['educated', 'just', 'mother', 'my', 'served', 'very']"
      ]
     },
     "execution_count": 5,
     "metadata": {},
     "output_type": "execute_result"
    }
   ],
   "source": [
    "s"
   ]
  },
  {
   "cell_type": "code",
   "execution_count": 6,
   "id": "ac436f2c-f9ad-4e7e-82f6-51a0022627c7",
   "metadata": {},
   "outputs": [],
   "source": [
    "s.sort(key=len)"
   ]
  },
  {
   "cell_type": "code",
   "execution_count": 7,
   "id": "e1d54336-b368-453c-b18c-83c836f11556",
   "metadata": {},
   "outputs": [
    {
     "data": {
      "text/plain": [
       "['my', 'just', 'very', 'mother', 'served', 'educated']"
      ]
     },
     "execution_count": 7,
     "metadata": {},
     "output_type": "execute_result"
    }
   ],
   "source": [
    "s"
   ]
  },
  {
   "cell_type": "code",
   "execution_count": 8,
   "id": "bbf884cd-7af7-46eb-834c-4c24c614c134",
   "metadata": {},
   "outputs": [
    {
     "data": {
      "text/plain": [
       "True"
      ]
     },
     "execution_count": 8,
     "metadata": {},
     "output_type": "execute_result"
    }
   ],
   "source": [
    "[1, 1.0, True] == [1, True, 1.0]"
   ]
  },
  {
   "cell_type": "code",
   "execution_count": 9,
   "id": "989e9a84-b8b4-4933-b0e4-0dd2ed9fa326",
   "metadata": {},
   "outputs": [
    {
     "data": {
      "text/plain": [
       "True"
      ]
     },
     "execution_count": 9,
     "metadata": {},
     "output_type": "execute_result"
    }
   ],
   "source": [
    "1 == 1"
   ]
  },
  {
   "cell_type": "code",
   "execution_count": 10,
   "id": "c1d73d54-9619-42d2-b599-a94298b29882",
   "metadata": {},
   "outputs": [
    {
     "data": {
      "text/plain": [
       "True"
      ]
     },
     "execution_count": 10,
     "metadata": {},
     "output_type": "execute_result"
    }
   ],
   "source": [
    "1.0 == True"
   ]
  },
  {
   "cell_type": "code",
   "execution_count": 11,
   "id": "3bc9465e-9b15-438a-93ab-c1f9c8f50dd9",
   "metadata": {},
   "outputs": [
    {
     "data": {
      "text/plain": [
       "True"
      ]
     },
     "execution_count": 11,
     "metadata": {},
     "output_type": "execute_result"
    }
   ],
   "source": [
    "True == 1.0"
   ]
  },
  {
   "cell_type": "code",
   "execution_count": 12,
   "id": "95b648a1-828c-4d2f-bd2c-b357a65e9fd5",
   "metadata": {},
   "outputs": [
    {
     "data": {
      "text/plain": [
       "False"
      ]
     },
     "execution_count": 12,
     "metadata": {},
     "output_type": "execute_result"
    }
   ],
   "source": [
    "\"hi\" == \"no\""
   ]
  },
  {
   "cell_type": "code",
   "execution_count": 13,
   "id": "13253585-fce8-4e08-829f-a4c52b1a31fd",
   "metadata": {},
   "outputs": [],
   "source": [
    "from compare import Patient\n",
    "from simple import is_sorted"
   ]
  },
  {
   "cell_type": "code",
   "execution_count": 14,
   "id": "59679f07-5d3a-4da6-ac24-81bb7aa9c0b1",
   "metadata": {},
   "outputs": [
    {
     "data": {
      "text/plain": [
       "False"
      ]
     },
     "execution_count": 14,
     "metadata": {},
     "output_type": "execute_result"
    }
   ],
   "source": [
    "Patient('XY', 44) == Patient('XY', 44)"
   ]
  },
  {
   "cell_type": "code",
   "execution_count": 15,
   "id": "7f299c86-1e10-447e-83aa-9d030f1955b6",
   "metadata": {},
   "outputs": [],
   "source": [
    "p = Patient('AB', 10)\n",
    "q = Patient('CD', 10)"
   ]
  },
  {
   "cell_type": "code",
   "execution_count": 16,
   "id": "3c2138a9-4e6a-4370-8e4a-e63e8ec464f4",
   "metadata": {},
   "outputs": [
    {
     "data": {
      "text/plain": [
       "2"
      ]
     },
     "execution_count": 16,
     "metadata": {},
     "output_type": "execute_result"
    }
   ],
   "source": [
    "p.mrn"
   ]
  },
  {
   "cell_type": "code",
   "execution_count": 17,
   "id": "4110b5b3-d8ae-4b2e-84ec-ed0f80e2b452",
   "metadata": {},
   "outputs": [
    {
     "data": {
      "text/plain": [
       "3"
      ]
     },
     "execution_count": 17,
     "metadata": {},
     "output_type": "execute_result"
    }
   ],
   "source": [
    "q.mrn"
   ]
  },
  {
   "cell_type": "code",
   "execution_count": 18,
   "id": "f2ec0a80-a216-4146-ba3e-f2211e47e4bc",
   "metadata": {},
   "outputs": [],
   "source": [
    "c = [p, q]\n",
    "d = [q, p]"
   ]
  },
  {
   "cell_type": "code",
   "execution_count": 19,
   "id": "a76685e6-9e23-4b72-93e1-ca4a3c06d8c5",
   "metadata": {},
   "outputs": [
    {
     "data": {
      "text/plain": [
       "False"
      ]
     },
     "execution_count": 19,
     "metadata": {},
     "output_type": "execute_result"
    }
   ],
   "source": [
    "c == d"
   ]
  },
  {
   "cell_type": "code",
   "execution_count": 20,
   "id": "a4cc18c8-c87c-46ef-bc9e-71ea5d2757be",
   "metadata": {},
   "outputs": [
    {
     "data": {
      "text/plain": [
       "False"
      ]
     },
     "execution_count": 20,
     "metadata": {},
     "output_type": "execute_result"
    }
   ],
   "source": [
    "sorted(c) == sorted(d)"
   ]
  },
  {
   "cell_type": "code",
   "execution_count": 21,
   "id": "1ab94856-32b7-4077-8423-8f27123baa2b",
   "metadata": {},
   "outputs": [
    {
     "data": {
      "text/plain": [
       "True"
      ]
     },
     "execution_count": 21,
     "metadata": {},
     "output_type": "execute_result"
    }
   ],
   "source": [
    "is_sorted(c)"
   ]
  },
  {
   "cell_type": "code",
   "execution_count": 22,
   "id": "e1f16276-c4f6-4ccc-973e-618f7743913c",
   "metadata": {},
   "outputs": [
    {
     "data": {
      "text/plain": [
       "True"
      ]
     },
     "execution_count": 22,
     "metadata": {},
     "output_type": "execute_result"
    }
   ],
   "source": [
    "is_sorted(d)"
   ]
  },
  {
   "cell_type": "code",
   "execution_count": 23,
   "id": "bdc04b83-b236-45af-87e1-23a4251c90d4",
   "metadata": {},
   "outputs": [],
   "source": [
    "words = ['ac', 'ab']"
   ]
  },
  {
   "cell_type": "code",
   "execution_count": 24,
   "id": "eb78883d-ec43-4078-beb1-d4f3a93d9554",
   "metadata": {},
   "outputs": [
    {
     "data": {
      "text/plain": [
       "['ab', 'ac']"
      ]
     },
     "execution_count": 24,
     "metadata": {},
     "output_type": "execute_result"
    }
   ],
   "source": [
    "sorted(words)"
   ]
  },
  {
   "cell_type": "code",
   "execution_count": 25,
   "id": "e320af0c-98d1-4f59-b92d-481657c11f2f",
   "metadata": {},
   "outputs": [
    {
     "data": {
      "text/plain": [
       "['a', 'c']"
      ]
     },
     "execution_count": 25,
     "metadata": {},
     "output_type": "execute_result"
    }
   ],
   "source": [
    "sorted('ac')"
   ]
  },
  {
   "cell_type": "code",
   "execution_count": null,
   "id": "f8a720b1-0637-45c7-9d3f-94ddfacf085a",
   "metadata": {},
   "outputs": [],
   "source": []
  }
 ],
 "metadata": {
  "kernelspec": {
   "display_name": "Python 3 (ipykernel)",
   "language": "python",
   "name": "python3"
  },
  "language_info": {
   "codemirror_mode": {
    "name": "ipython",
    "version": 3
   },
   "file_extension": ".py",
   "mimetype": "text/x-python",
   "name": "python",
   "nbconvert_exporter": "python",
   "pygments_lexer": "ipython3",
   "version": "3.10.6"
  }
 },
 "nbformat": 4,
 "nbformat_minor": 5
}
