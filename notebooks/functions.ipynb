{
 "cells": [
  {
   "cell_type": "markdown",
   "id": "08f3c677-a9b0-45b5-8815-f1f130ff8103",
   "metadata": {
    "tags": []
   },
   "source": [
    "# Functions - definition syntax, calling semantics"
   ]
  },
  {
   "cell_type": "code",
   "execution_count": 1,
   "id": "59ca5d24-2090-4b62-ac3b-dc30a40de105",
   "metadata": {},
   "outputs": [],
   "source": [
    "def increment(var):\n",
    "    var += 1  # Does not actually affect the caller."
   ]
  },
  {
   "cell_type": "code",
   "execution_count": 2,
   "id": "4664431b",
   "metadata": {},
   "outputs": [],
   "source": [
    "def increment(var):\n",
    "    var += 1  # Does not actually affect the caller."
   ]
  },
  {
   "cell_type": "code",
   "execution_count": 3,
   "id": "2bdaba67",
   "metadata": {},
   "outputs": [],
   "source": [
    "def increment(var):\n",
    "    var += 1  # Does not actually affect the caller."
   ]
  },
  {
   "cell_type": "code",
   "execution_count": 4,
   "id": "542bc9bc-258e-45e6-8f83-d0f833eb83f6",
   "metadata": {},
   "outputs": [
    {
     "data": {
      "text/plain": [
       "3"
      ]
     },
     "execution_count": 4,
     "metadata": {},
     "output_type": "execute_result"
    }
   ],
   "source": [
    "x = 3\n",
    "increment(x)\n",
    "x"
   ]
  },
  {
   "cell_type": "code",
   "execution_count": 5,
   "id": "20d194e8-6f09-4167-8eb2-fee6927ad50e",
   "metadata": {},
   "outputs": [],
   "source": [
    "def f(values):\n",
    "    values.append(1000)"
   ]
  },
  {
   "cell_type": "code",
   "execution_count": 6,
   "id": "7a232cdd-4365-4be3-9a53-9bce4c3029ad",
   "metadata": {},
   "outputs": [
    {
     "data": {
      "text/plain": [
       "[10, 20, 30, 1000]"
      ]
     },
     "execution_count": 6,
     "metadata": {},
     "output_type": "execute_result"
    }
   ],
   "source": [
    "a = [10, 20, 30]\n",
    "f(a)\n",
    "a"
   ]
  },
  {
   "cell_type": "code",
   "execution_count": 7,
   "id": "ffc5f6e5-f456-4db9-bfd5-74c0c18a5d61",
   "metadata": {},
   "outputs": [],
   "source": [
    "def g(values):\n",
    "    values = []"
   ]
  },
  {
   "cell_type": "code",
   "execution_count": 8,
   "id": "bf038551-28e2-49e2-8db6-70ff21650ac8",
   "metadata": {},
   "outputs": [
    {
     "data": {
      "text/plain": [
       "[10, 20, 30, 1000]"
      ]
     },
     "execution_count": 8,
     "metadata": {},
     "output_type": "execute_result"
    }
   ],
   "source": [
    "g(a)\n",
    "a"
   ]
  },
  {
   "cell_type": "markdown",
   "id": "77adfdae-1634-4252-a440-fe264f4f81e1",
   "metadata": {},
   "source": [
    "## Arity"
   ]
  },
  {
   "cell_type": "code",
   "execution_count": 9,
   "id": "cfb9f410-e29b-47fb-9b2b-3ac982dd9200",
   "metadata": {},
   "outputs": [],
   "source": [
    "def f(x):  # Unary, no free variables.\n",
    "    return x"
   ]
  },
  {
   "cell_type": "code",
   "execution_count": 10,
   "id": "0a05b401-53bc-4c0a-a30e-bac70618e6d3",
   "metadata": {},
   "outputs": [],
   "source": [
    "def g(x):  # Unary, no free variables, y is looked up in the global scope.\n",
    "    return x + y"
   ]
  },
  {
   "cell_type": "code",
   "execution_count": 11,
   "id": "811f59c3-fbcf-4ec0-87ab-dce55743a8b8",
   "metadata": {},
   "outputs": [],
   "source": [
    "def h():  # Unary, no free variables, print is looked up in the global scope.\n",
    "    print('Hello, world!')"
   ]
  },
  {
   "cell_type": "code",
   "execution_count": 12,
   "id": "f98b3134-ac54-4b1a-b43e-75589bff6cef",
   "metadata": {},
   "outputs": [
    {
     "name": "stdout",
     "output_type": "stream",
     "text": [
      "15\n"
     ]
    }
   ],
   "source": [
    "def outer():\n",
    "    p = 10\n",
    "    \n",
    "    def inner(q):  # Unary, 1 free variable (p), 1 local (q).\n",
    "        print(p + q)  # print is looked up globally.\n",
    "\n",
    "    return inner\n",
    "\n",
    "outer()(5)"
   ]
  },
  {
   "cell_type": "markdown",
   "id": "a88f1067-6ed0-4c56-8b5e-37b57f58d9a2",
   "metadata": {},
   "source": [
    "## `**kwargs`"
   ]
  },
  {
   "cell_type": "code",
   "execution_count": 13,
   "id": "a6aa8335-eb67-42b6-8836-28ee4a206277",
   "metadata": {},
   "outputs": [],
   "source": [
    "def f(*args):\n",
    "    return 1"
   ]
  },
  {
   "cell_type": "code",
   "execution_count": 14,
   "id": "2da82ab7-ec26-45b7-91f2-d42a06c2a39c",
   "metadata": {},
   "outputs": [
    {
     "data": {
      "text/plain": [
       "1"
      ]
     },
     "execution_count": 14,
     "metadata": {},
     "output_type": "execute_result"
    }
   ],
   "source": [
    "f()"
   ]
  },
  {
   "cell_type": "code",
   "execution_count": 15,
   "id": "918bf2b3-92a4-4c64-8e4f-1ec7b8495673",
   "metadata": {},
   "outputs": [
    {
     "data": {
      "text/plain": [
       "1"
      ]
     },
     "execution_count": 15,
     "metadata": {},
     "output_type": "execute_result"
    }
   ],
   "source": [
    "f(10, 20)"
   ]
  },
  {
   "cell_type": "code",
   "execution_count": 16,
   "id": "bae1e28e-f080-41c5-83fc-ddfd776bcace",
   "metadata": {},
   "outputs": [],
   "source": [
    "# Define a function called \"proclaim\" that accepts zero or more positional\n",
    "# arguments and behaves like print, except it prints \"Good news: \" first.\n",
    "def proclaim(*args):\n",
    "    print(\"Good News: \", *args)"
   ]
  },
  {
   "cell_type": "code",
   "execution_count": 17,
   "id": "fc0b7dc3-a62f-4cef-896b-3700c7ba78df",
   "metadata": {},
   "outputs": [
    {
     "name": "stdout",
     "output_type": "stream",
     "text": [
      "Good News:  1 2 3\n"
     ]
    }
   ],
   "source": [
    "proclaim(1, 2, 3)"
   ]
  },
  {
   "cell_type": "code",
   "execution_count": 18,
   "id": "f2273bdf-33e1-4f08-b810-01476f7d6a1a",
   "metadata": {},
   "outputs": [
    {
     "name": "stdout",
     "output_type": "stream",
     "text": [
      "Good News: \n"
     ]
    }
   ],
   "source": [
    "proclaim()"
   ]
  },
  {
   "cell_type": "code",
   "execution_count": 19,
   "id": "30f1e576-e608-4ad9-b0d2-67236e4d7f85",
   "metadata": {},
   "outputs": [
    {
     "name": "stdout",
     "output_type": "stream",
     "text": [
      "1 2 3\n"
     ]
    }
   ],
   "source": [
    "print(1, 2, 3)"
   ]
  },
  {
   "cell_type": "code",
   "execution_count": 20,
   "id": "40832c9b-b535-4136-9aa1-8143f3f508be",
   "metadata": {},
   "outputs": [],
   "source": [
    "# Define a function called \"proclaim\" that accepts one or more positional\n",
    "# arguments and behaves like print, except it prints \"Good news: \" first.\n",
    "def proclaim(first, *rest):\n",
    "    print(\"Good News: \", first, *rest)"
   ]
  },
  {
   "cell_type": "code",
   "execution_count": 21,
   "id": "aac7898b-4d97-4b3f-bed6-9419ee475397",
   "metadata": {},
   "outputs": [
    {
     "name": "stdout",
     "output_type": "stream",
     "text": [
      "Good News:  1 2 3\n"
     ]
    }
   ],
   "source": [
    "proclaim(1, 2, 3)"
   ]
  },
  {
   "cell_type": "code",
   "execution_count": 22,
   "id": "f90a0d81-9bd7-4865-bfac-6896f179d5b9",
   "metadata": {
    "tags": [
     "raises-exception"
    ]
   },
   "outputs": [
    {
     "ename": "TypeError",
     "evalue": "proclaim() missing 1 required positional argument: 'first'",
     "output_type": "error",
     "traceback": [
      "\u001b[1;31m---------------------------------------------------------------------------\u001b[0m",
      "\u001b[1;31mTypeError\u001b[0m                                 Traceback (most recent call last)",
      "Cell \u001b[1;32mIn [22], line 1\u001b[0m\n\u001b[1;32m----> 1\u001b[0m \u001b[43mproclaim\u001b[49m\u001b[43m(\u001b[49m\u001b[43m)\u001b[49m\n",
      "\u001b[1;31mTypeError\u001b[0m: proclaim() missing 1 required positional argument: 'first'"
     ]
    }
   ],
   "source": [
    "proclaim()"
   ]
  },
  {
   "cell_type": "code",
   "execution_count": 23,
   "id": "dad744cd-e3e9-492f-b326-a44153f7659a",
   "metadata": {
    "tags": [
     "raises-exception"
    ]
   },
   "outputs": [
    {
     "ename": "TypeError",
     "evalue": "proclaim() got an unexpected keyword argument 'sep'",
     "output_type": "error",
     "traceback": [
      "\u001b[1;31m---------------------------------------------------------------------------\u001b[0m",
      "\u001b[1;31mTypeError\u001b[0m                                 Traceback (most recent call last)",
      "Cell \u001b[1;32mIn [23], line 1\u001b[0m\n\u001b[1;32m----> 1\u001b[0m \u001b[43mproclaim\u001b[49m\u001b[43m(\u001b[49m\u001b[38;5;124;43m'\u001b[39;49m\u001b[38;5;124;43mhello\u001b[39;49m\u001b[38;5;124;43m'\u001b[39;49m\u001b[43m,\u001b[49m\u001b[43m \u001b[49m\u001b[38;5;124;43m'\u001b[39;49m\u001b[38;5;124;43mgoodbye\u001b[39;49m\u001b[38;5;124;43m'\u001b[39;49m\u001b[43m,\u001b[49m\u001b[43m \u001b[49m\u001b[43msep\u001b[49m\u001b[38;5;241;43m=\u001b[39;49m\u001b[38;5;124;43m'\u001b[39;49m\u001b[38;5;124;43m---\u001b[39;49m\u001b[38;5;124;43m'\u001b[39;49m\u001b[43m)\u001b[49m\n",
      "\u001b[1;31mTypeError\u001b[0m: proclaim() got an unexpected keyword argument 'sep'"
     ]
    }
   ],
   "source": [
    "proclaim('hello', 'goodbye', sep='---')"
   ]
  },
  {
   "cell_type": "code",
   "execution_count": 24,
   "id": "fe8a5a58-abd5-4f31-8dec-8680c009b85e",
   "metadata": {},
   "outputs": [
    {
     "data": {
      "text/plain": [
       "[5, 10, 20, 30, 40]"
      ]
     },
     "execution_count": 24,
     "metadata": {},
     "output_type": "execute_result"
    }
   ],
   "source": [
    "# Prefixing with one * expands it as comma-separated expressions.\n",
    "xs = [10, 20, 30]\n",
    "[5, *xs, 40]"
   ]
  },
  {
   "cell_type": "code",
   "execution_count": 25,
   "id": "53268275-3fe7-4446-ace6-9c5cbe6ccb90",
   "metadata": {},
   "outputs": [
    {
     "data": {
      "text/plain": [
       "{'hello': 5, 'bye': 3, 'bobcat': 6, 'ow': 2}"
      ]
     },
     "execution_count": 25,
     "metadata": {},
     "output_type": "execute_result"
    }
   ],
   "source": [
    "words = ['hello', 'bye', 'bobcat', 'ow']\n",
    "lengths = {word: len(word) for word in words}\n",
    "lengths"
   ]
  },
  {
   "cell_type": "code",
   "execution_count": 26,
   "id": "8142b947-cc84-471a-8b88-1fee2cb4bd36",
   "metadata": {},
   "outputs": [
    {
     "data": {
      "text/plain": [
       "{'hello': 5, 'bye': 3, 'bobcat': 6, 'ow': 2, 'haha': 4}"
      ]
     },
     "execution_count": 26,
     "metadata": {},
     "output_type": "execute_result"
    }
   ],
   "source": [
    "lengths2 = dict(lengths)\n",
    "lengths2['haha'] = 4\n",
    "lengths2"
   ]
  },
  {
   "cell_type": "code",
   "execution_count": 27,
   "id": "317ded28-e80c-4d0c-89cc-a5b28584ff45",
   "metadata": {},
   "outputs": [
    {
     "data": {
      "text/plain": [
       "{'hello': 5, 'bye': 3, 'bobcat': 6, 'ow': 2}"
      ]
     },
     "execution_count": 27,
     "metadata": {},
     "output_type": "execute_result"
    }
   ],
   "source": [
    "lengths"
   ]
  },
  {
   "cell_type": "code",
   "execution_count": 28,
   "id": "ce8d9f84-4f62-44ba-b4df-0726bcb6921c",
   "metadata": {},
   "outputs": [
    {
     "data": {
      "text/plain": [
       "{'hello': 5, 'bye': 3, 'bobcat': 6, 'ow': 2, 'haha': 4}"
      ]
     },
     "execution_count": 28,
     "metadata": {},
     "output_type": "execute_result"
    }
   ],
   "source": [
    "# Prefixing with ** expands it as key-value pairs.\n",
    "lengths2 = {**lengths, 'haha': 4}\n",
    "lengths2"
   ]
  },
  {
   "cell_type": "code",
   "execution_count": 29,
   "id": "87a471d9-fc4a-4d91-8630-5b8974e220b8",
   "metadata": {},
   "outputs": [],
   "source": [
    "def f(**kwargs):\n",
    "    print(kwargs)"
   ]
  },
  {
   "cell_type": "code",
   "execution_count": 30,
   "id": "e79bf35d-4b05-480d-80c6-383062a3a02d",
   "metadata": {},
   "outputs": [
    {
     "name": "stdout",
     "output_type": "stream",
     "text": [
      "{'bob': 'cat', 'sally': 4221}\n"
     ]
    }
   ],
   "source": [
    "f(bob='cat', sally=4221)"
   ]
  },
  {
   "cell_type": "code",
   "execution_count": 31,
   "id": "cf0641c8-ade9-4f0a-8a52-6c839eda579a",
   "metadata": {},
   "outputs": [
    {
     "data": {
      "text/plain": [
       "{'hello': 5, 'bye': 3, 'bobcat': 6, 'ow': 2}"
      ]
     },
     "execution_count": 31,
     "metadata": {},
     "output_type": "execute_result"
    }
   ],
   "source": [
    "{'hello': 5, 'bye': 3, 'bobcat': 6, 'ow': 2}"
   ]
  },
  {
   "cell_type": "code",
   "execution_count": 32,
   "id": "582bc07b-46b9-44c2-9bbd-c5359194707f",
   "metadata": {},
   "outputs": [
    {
     "data": {
      "text/plain": [
       "{'hello': 5, 'bye': 3, 'bobcat': 6, 'ow': 2}"
      ]
     },
     "execution_count": 32,
     "metadata": {},
     "output_type": "execute_result"
    }
   ],
   "source": [
    "def make_dictionary(**kwargs):\n",
    "    return kwargs\n",
    "\n",
    "make_dictionary(hello=5, bye=3, bobcat=6, ow=2)"
   ]
  },
  {
   "cell_type": "code",
   "execution_count": 33,
   "id": "1847b45e-54d2-4162-8b04-6e06422dc61d",
   "metadata": {},
   "outputs": [
    {
     "data": {
      "text/plain": [
       "{'hello': 5, 'bye': 3, 'bobcat': 6, 'ow': 2}"
      ]
     },
     "execution_count": 33,
     "metadata": {},
     "output_type": "execute_result"
    }
   ],
   "source": [
    "dict(hello=5, bye=3, bobcat=6, ow=2)"
   ]
  },
  {
   "cell_type": "code",
   "execution_count": 34,
   "id": "5dd9ba17-389c-41df-89c2-c7627b63c588",
   "metadata": {},
   "outputs": [
    {
     "name": "stdout",
     "output_type": "stream",
     "text": [
      "Good News:---hello---goodbye\n"
     ]
    }
   ],
   "source": [
    "# Make proclaim forward keyword as well as positional arguments.\n",
    "# (For example: sep=, end=, and file= will work.)\n",
    "def proclaim(*pargs, **kwargs):\n",
    "    print(\"Good News:\", *pargs, **kwargs)\n",
    "proclaim('hello', 'goodbye', sep='---')"
   ]
  },
  {
   "cell_type": "code",
   "execution_count": 35,
   "id": "58675e97-8937-4113-86e6-042a1e32781a",
   "metadata": {},
   "outputs": [],
   "source": [
    "d = {'d': 'a', 'c': 2, 'v': 5}"
   ]
  },
  {
   "cell_type": "code",
   "execution_count": 36,
   "id": "39863be1-85e9-4a8a-acdd-dfbfdc5cdb18",
   "metadata": {},
   "outputs": [
    {
     "data": {
      "text/plain": [
       "\"{'d': 'a', 'c': 2, 'v': 5}\""
      ]
     },
     "execution_count": 36,
     "metadata": {},
     "output_type": "execute_result"
    }
   ],
   "source": [
    "str(d)"
   ]
  },
  {
   "cell_type": "code",
   "execution_count": 37,
   "id": "57e6cf52-7561-4856-baf0-da3e3dbc56b9",
   "metadata": {},
   "outputs": [
    {
     "data": {
      "text/plain": [
       "['d: a', 'c: 2', 'v: 5']"
      ]
     },
     "execution_count": 37,
     "metadata": {},
     "output_type": "execute_result"
    }
   ],
   "source": [
    "l = []\n",
    "for key in d: \n",
    "    l.append(f'{key}: {d[key]}')\n",
    "l"
   ]
  },
  {
   "cell_type": "code",
   "execution_count": 38,
   "id": "a8b0b3de-ae4d-426a-98c3-8e7a467fdbfc",
   "metadata": {},
   "outputs": [],
   "source": [
    "s = ', '.join(l)"
   ]
  },
  {
   "cell_type": "code",
   "execution_count": 39,
   "id": "cd206a30-6b7d-40be-92df-f0d90181037f",
   "metadata": {},
   "outputs": [
    {
     "data": {
      "text/plain": [
       "'d: a, c: 2, v: 5'"
      ]
     },
     "execution_count": 39,
     "metadata": {},
     "output_type": "execute_result"
    }
   ],
   "source": [
    "s"
   ]
  },
  {
   "cell_type": "code",
   "execution_count": 40,
   "id": "18dc6077-f974-4d55-bf7b-456869c28711",
   "metadata": {},
   "outputs": [],
   "source": [
    "old_prices = {'trout': 32.00, 'halibut': 36.44, 'more RAM': 14.00}\n",
    "prices = {'trout': 34.00, 'halibut': 36.50, 'more RAM': 1337.00}\n",
    "both = [old_prices, prices]"
   ]
  },
  {
   "cell_type": "code",
   "execution_count": 41,
   "id": "c6f0a132-9777-463a-a906-ba39501dd255",
   "metadata": {},
   "outputs": [
    {
     "name": "stdout",
     "output_type": "stream",
     "text": [
      "old_trout_cost = 32.0\n",
      "other_old_costs = {'halibut': 36.44, 'more RAM': 14.0}\n",
      "new_trout_cost = 34.0\n"
     ]
    }
   ],
   "source": [
    "match both:\n",
    "    case [{'trout': old_trout_cost, **other_old_costs}, {'trout': new_trout_cost}]:\n",
    "        print(f'{old_trout_cost = }')\n",
    "        print(f'{other_old_costs = }')\n",
    "        print(f'{new_trout_cost = }')"
   ]
  },
  {
   "cell_type": "markdown",
   "id": "16c1a9c7-6e69-4331-9c9f-eac50e640b99",
   "metadata": {},
   "source": [
    "## Practice"
   ]
  },
  {
   "cell_type": "code",
   "execution_count": 42,
   "id": "d88f4b2a-ddef-4393-845b-7c2d12c40f2b",
   "metadata": {},
   "outputs": [],
   "source": [
    "def f(): \n",
    "    pass"
   ]
  },
  {
   "cell_type": "code",
   "execution_count": 43,
   "id": "d70adc29-cad4-485b-9355-b0278ddd67b8",
   "metadata": {},
   "outputs": [],
   "source": [
    "def g(arg): \n",
    "    pass"
   ]
  },
  {
   "cell_type": "code",
   "execution_count": 44,
   "id": "fecea115-4d6c-4970-bc87-45c1628443b4",
   "metadata": {},
   "outputs": [],
   "source": [
    "def h(*, kwarg):\n",
    "    pass"
   ]
  },
  {
   "cell_type": "code",
   "execution_count": 45,
   "id": "b6c934c8-1243-47a0-98a7-6d85c060b32a",
   "metadata": {},
   "outputs": [],
   "source": [
    "h(kwarg=1)"
   ]
  },
  {
   "cell_type": "code",
   "execution_count": 46,
   "id": "a448fab6-3f90-4f22-b4f4-ec7043bb070f",
   "metadata": {},
   "outputs": [],
   "source": [
    "def h(*, kwarg=2): \n",
    "    pass"
   ]
  },
  {
   "cell_type": "code",
   "execution_count": 47,
   "id": "507a4679-0491-4c4e-a707-9c91a3f04847",
   "metadata": {},
   "outputs": [],
   "source": [
    "h()"
   ]
  },
  {
   "cell_type": "code",
   "execution_count": 48,
   "id": "9c4ff3df-1df4-4747-8276-88dc793aff5a",
   "metadata": {},
   "outputs": [],
   "source": [
    "h(kwarg=3)"
   ]
  },
  {
   "cell_type": "code",
   "execution_count": 49,
   "id": "a6577c7c-1a97-4c29-864c-070902e90e4c",
   "metadata": {
    "tags": [
     "raises-exception"
    ]
   },
   "outputs": [
    {
     "ename": "TypeError",
     "evalue": "h() takes 0 positional arguments but 1 was given",
     "output_type": "error",
     "traceback": [
      "\u001b[1;31m---------------------------------------------------------------------------\u001b[0m",
      "\u001b[1;31mTypeError\u001b[0m                                 Traceback (most recent call last)",
      "Cell \u001b[1;32mIn [49], line 1\u001b[0m\n\u001b[1;32m----> 1\u001b[0m \u001b[43mh\u001b[49m\u001b[43m(\u001b[49m\u001b[38;5;241;43m3\u001b[39;49m\u001b[43m)\u001b[49m\n",
      "\u001b[1;31mTypeError\u001b[0m: h() takes 0 positional arguments but 1 was given"
     ]
    }
   ],
   "source": [
    "h(3)"
   ]
  },
  {
   "cell_type": "code",
   "execution_count": 50,
   "id": "1b585972-aa9c-421c-ba4f-a2e8ad2ae007",
   "metadata": {},
   "outputs": [],
   "source": [
    "def i(*args):\n",
    "    print(args)"
   ]
  },
  {
   "cell_type": "code",
   "execution_count": 51,
   "id": "46404add-9e3c-45e3-860c-0864b4936d6e",
   "metadata": {},
   "outputs": [
    {
     "name": "stdout",
     "output_type": "stream",
     "text": [
      "()\n"
     ]
    }
   ],
   "source": [
    "i()"
   ]
  },
  {
   "cell_type": "code",
   "execution_count": 52,
   "id": "6242c036-c044-4164-8b4f-8791c315bb79",
   "metadata": {},
   "outputs": [
    {
     "name": "stdout",
     "output_type": "stream",
     "text": [
      "(3,)\n"
     ]
    }
   ],
   "source": [
    "i(3)"
   ]
  },
  {
   "cell_type": "code",
   "execution_count": 53,
   "id": "f4c84ee9-4366-45b3-93a9-0485f8ee606a",
   "metadata": {},
   "outputs": [
    {
     "name": "stdout",
     "output_type": "stream",
     "text": [
      "(3, 4)\n"
     ]
    }
   ],
   "source": [
    "i(3, 4)"
   ]
  },
  {
   "cell_type": "code",
   "execution_count": 54,
   "id": "1965677d-dd0f-4cad-8daf-97eeec336b18",
   "metadata": {},
   "outputs": [],
   "source": [
    "s = [1, 'hi', 3.4]"
   ]
  },
  {
   "cell_type": "code",
   "execution_count": 55,
   "id": "b8227ba4-2649-49fa-8cf8-288ca7da0aa1",
   "metadata": {},
   "outputs": [
    {
     "name": "stdout",
     "output_type": "stream",
     "text": [
      "(1, 'hi', 3.4)\n"
     ]
    }
   ],
   "source": [
    "i(*s)"
   ]
  },
  {
   "cell_type": "code",
   "execution_count": 56,
   "id": "957f5e4c-51fb-4fbb-bf7b-edc4dd0e80ec",
   "metadata": {},
   "outputs": [
    {
     "name": "stdout",
     "output_type": "stream",
     "text": [
      "(42, 1, 'hi', 3.4)\n"
     ]
    }
   ],
   "source": [
    "i(42, *s)"
   ]
  },
  {
   "cell_type": "code",
   "execution_count": 57,
   "id": "cd2f5464-de7f-4bf4-82cc-4cd7d6573b7d",
   "metadata": {},
   "outputs": [
    {
     "name": "stdout",
     "output_type": "stream",
     "text": [
      "(42, 1, 'hi', 3.4, 76)\n"
     ]
    }
   ],
   "source": [
    "i(42, *s, 76)"
   ]
  },
  {
   "cell_type": "code",
   "execution_count": 58,
   "id": "0b48d30c-1f25-467f-b9b4-5c8e6345402d",
   "metadata": {},
   "outputs": [
    {
     "name": "stdout",
     "output_type": "stream",
     "text": [
      "(1, 'hi', 3.4, 1, 'hi', 3.4)\n"
     ]
    }
   ],
   "source": [
    "i(*s, *s)"
   ]
  },
  {
   "cell_type": "code",
   "execution_count": 59,
   "id": "291c9b3c-77de-4864-ab95-5b0f136f6024",
   "metadata": {},
   "outputs": [],
   "source": [
    "def j(**kwargs): \n",
    "    print(kwargs)"
   ]
  },
  {
   "cell_type": "code",
   "execution_count": 60,
   "id": "bf536f09-a934-44a0-a472-398ce7a9f4f8",
   "metadata": {},
   "outputs": [
    {
     "name": "stdout",
     "output_type": "stream",
     "text": [
      "{}\n"
     ]
    }
   ],
   "source": [
    "j()"
   ]
  },
  {
   "cell_type": "code",
   "execution_count": 61,
   "id": "e0a75c14-c321-4771-8014-b5123fa1a4d1",
   "metadata": {},
   "outputs": [
    {
     "name": "stdout",
     "output_type": "stream",
     "text": [
      "{'f': 10}\n"
     ]
    }
   ],
   "source": [
    "j(f=10)"
   ]
  },
  {
   "cell_type": "code",
   "execution_count": 62,
   "id": "3bb7b283-691c-43c5-8042-b615b4d3c58e",
   "metadata": {},
   "outputs": [],
   "source": [
    "d = {'g': 3, 'f': 4}"
   ]
  },
  {
   "cell_type": "code",
   "execution_count": 63,
   "id": "16afb5d8-b334-4306-ad71-0230c4f5d248",
   "metadata": {},
   "outputs": [
    {
     "name": "stdout",
     "output_type": "stream",
     "text": [
      "{'g': 3, 'f': 4}\n"
     ]
    }
   ],
   "source": [
    "j(**d)"
   ]
  },
  {
   "cell_type": "code",
   "execution_count": 64,
   "id": "6337f2eb-1e59-446b-a7d5-39d59a2a0c74",
   "metadata": {
    "tags": [
     "raises-exception"
    ]
   },
   "outputs": [
    {
     "ename": "TypeError",
     "evalue": "__main__.j() got multiple values for keyword argument 'f'",
     "output_type": "error",
     "traceback": [
      "\u001b[1;31m---------------------------------------------------------------------------\u001b[0m",
      "\u001b[1;31mTypeError\u001b[0m                                 Traceback (most recent call last)",
      "Cell \u001b[1;32mIn [64], line 1\u001b[0m\n\u001b[1;32m----> 1\u001b[0m j(\u001b[38;5;241m*\u001b[39m\u001b[38;5;241m*\u001b[39md, f\u001b[38;5;241m=\u001b[39m\u001b[38;5;241m10\u001b[39m)\n",
      "\u001b[1;31mTypeError\u001b[0m: __main__.j() got multiple values for keyword argument 'f'"
     ]
    }
   ],
   "source": [
    "j(**d, f=10)"
   ]
  },
  {
   "cell_type": "code",
   "execution_count": 65,
   "id": "dd731bf3-cf33-4d24-9d81-52118e1e6786",
   "metadata": {
    "tags": [
     "raises-exception"
    ]
   },
   "outputs": [
    {
     "ename": "SyntaxError",
     "evalue": "keyword argument repeated: f (4026408676.py, line 1)",
     "output_type": "error",
     "traceback": [
      "\u001b[1;36m  Cell \u001b[1;32mIn [65], line 1\u001b[1;36m\u001b[0m\n\u001b[1;33m    j(f=2, f=3)\u001b[0m\n\u001b[1;37m           ^\u001b[0m\n\u001b[1;31mSyntaxError\u001b[0m\u001b[1;31m:\u001b[0m keyword argument repeated: f\n"
     ]
    }
   ],
   "source": [
    "j(f=2, f=3)"
   ]
  },
  {
   "cell_type": "code",
   "execution_count": 66,
   "id": "96ff9253-8fb1-4453-92b6-8f16dd3c3d09",
   "metadata": {},
   "outputs": [],
   "source": [
    "d2 = dict(g=3, f=4)"
   ]
  },
  {
   "cell_type": "code",
   "execution_count": 67,
   "id": "e8cd98a7-22c0-4bc3-ad21-f3df676156c9",
   "metadata": {},
   "outputs": [
    {
     "data": {
      "text/plain": [
       "{'g': 3, 'f': 4}"
      ]
     },
     "execution_count": 67,
     "metadata": {},
     "output_type": "execute_result"
    }
   ],
   "source": [
    "d2"
   ]
  },
  {
   "cell_type": "code",
   "execution_count": 68,
   "id": "f4106423-46f1-44fd-b234-2bfe43a3c778",
   "metadata": {},
   "outputs": [
    {
     "data": {
      "text/plain": [
       "True"
      ]
     },
     "execution_count": 68,
     "metadata": {},
     "output_type": "execute_result"
    }
   ],
   "source": [
    "d2 == d"
   ]
  },
  {
   "cell_type": "markdown",
   "id": "c9d7f0ee-6ee4-400a-9458-d0cb97b1043c",
   "metadata": {},
   "source": [
    "## Review of `TypeError` from mismatched arguments"
   ]
  },
  {
   "cell_type": "code",
   "execution_count": 69,
   "id": "eb63ff1d-f448-4547-ba6a-392061259eff",
   "metadata": {},
   "outputs": [],
   "source": [
    "def someargs(*args, **kwargs): \n",
    "    print(args)"
   ]
  },
  {
   "cell_type": "code",
   "execution_count": 70,
   "id": "cc012256-10f1-40bc-a5d7-8f4489e27414",
   "metadata": {},
   "outputs": [
    {
     "name": "stdout",
     "output_type": "stream",
     "text": [
      "(2, 'cat')\n"
     ]
    }
   ],
   "source": [
    "someargs(2, 'cat')"
   ]
  },
  {
   "cell_type": "code",
   "execution_count": 71,
   "id": "f276ecbc-a2b6-420f-96cd-f3572f160ab8",
   "metadata": {},
   "outputs": [],
   "source": [
    "def nopargs(**kwargs): \n",
    "    print(kwargs)"
   ]
  },
  {
   "cell_type": "code",
   "execution_count": 72,
   "id": "b17bb9c3-2e3e-44c4-ab3b-bc19343320de",
   "metadata": {
    "tags": [
     "raises-exception"
    ]
   },
   "outputs": [
    {
     "ename": "TypeError",
     "evalue": "nopargs() takes 0 positional arguments but 1 was given",
     "output_type": "error",
     "traceback": [
      "\u001b[1;31m---------------------------------------------------------------------------\u001b[0m",
      "\u001b[1;31mTypeError\u001b[0m                                 Traceback (most recent call last)",
      "Cell \u001b[1;32mIn [72], line 1\u001b[0m\n\u001b[1;32m----> 1\u001b[0m \u001b[43mnopargs\u001b[49m\u001b[43m(\u001b[49m\u001b[38;5;241;43m1\u001b[39;49m\u001b[43m)\u001b[49m\n",
      "\u001b[1;31mTypeError\u001b[0m: nopargs() takes 0 positional arguments but 1 was given"
     ]
    }
   ],
   "source": [
    "nopargs(1)"
   ]
  },
  {
   "cell_type": "markdown",
   "id": "808d059a-1ce7-4086-bb21-a10dcbbed2db",
   "metadata": {},
   "source": [
    "## Semantics of functions decorated with compound expressions"
   ]
  },
  {
   "cell_type": "markdown",
   "id": "9306e631-50d0-48b8-9ffb-73f9093c5c5e",
   "metadata": {},
   "source": [
    "Everything on the line that starts with `@` (except the `@` itself) is taken to be an expression that is evaluated. The result of evaluating it is then called with the original function/class. This is not a special rule for when the expression is a call to a decorator factory or otherwise a compound expression: in the simplest case, the decoration has the form `@name`, and `name` is evaluated (to whatever object it refers to)."
   ]
  },
  {
   "cell_type": "code",
   "execution_count": 73,
   "id": "b3153ac2-1474-4d99-b50d-c002ed0ada00",
   "metadata": {},
   "outputs": [],
   "source": [
    "from algoviz.decorators import count_calls_in_attribute"
   ]
  },
  {
   "cell_type": "code",
   "execution_count": 74,
   "id": "07879a13-27d6-44a8-b001-9cebb0f7768c",
   "metadata": {},
   "outputs": [],
   "source": [
    "@count_calls_in_attribute()\n",
    "def r1a(): \n",
    "    return 1"
   ]
  },
  {
   "cell_type": "code",
   "execution_count": 75,
   "id": "2c757ab2-aced-4e48-9349-38a6881eb46c",
   "metadata": {},
   "outputs": [
    {
     "data": {
      "text/plain": [
       "1"
      ]
     },
     "execution_count": 75,
     "metadata": {},
     "output_type": "execute_result"
    }
   ],
   "source": [
    "r1a()"
   ]
  },
  {
   "cell_type": "code",
   "execution_count": 76,
   "id": "dc6839db-4697-4071-9d14-0ea91a6ac7ca",
   "metadata": {},
   "outputs": [
    {
     "data": {
      "text/plain": [
       "1"
      ]
     },
     "execution_count": 76,
     "metadata": {},
     "output_type": "execute_result"
    }
   ],
   "source": [
    "r1a()"
   ]
  },
  {
   "cell_type": "code",
   "execution_count": 77,
   "id": "3a0ea8ce-4b47-429d-9787-caf4ede4845c",
   "metadata": {},
   "outputs": [
    {
     "data": {
      "text/plain": [
       "2"
      ]
     },
     "execution_count": 77,
     "metadata": {},
     "output_type": "execute_result"
    }
   ],
   "source": [
    "r1a.count"
   ]
  },
  {
   "cell_type": "code",
   "execution_count": 78,
   "id": "d4da5a63-00c7-4f09-9ebc-2f83984863f6",
   "metadata": {},
   "outputs": [],
   "source": [
    "def ogr1a(): \n",
    "    return 1"
   ]
  },
  {
   "cell_type": "code",
   "execution_count": 79,
   "id": "5d6ecdcd-95ca-434e-a642-08ef20724960",
   "metadata": {},
   "outputs": [],
   "source": [
    "r1b = count_calls_in_attribute()(ogr1a)"
   ]
  },
  {
   "cell_type": "code",
   "execution_count": 80,
   "id": "c0b61542-e136-4d3c-838d-321567832f41",
   "metadata": {},
   "outputs": [
    {
     "data": {
      "text/plain": [
       "1"
      ]
     },
     "execution_count": 80,
     "metadata": {},
     "output_type": "execute_result"
    }
   ],
   "source": [
    "r1b()"
   ]
  },
  {
   "cell_type": "code",
   "execution_count": 81,
   "id": "f1c72b05-0c4f-42f6-911c-93ea9c1c6c03",
   "metadata": {},
   "outputs": [
    {
     "data": {
      "text/plain": [
       "1"
      ]
     },
     "execution_count": 81,
     "metadata": {},
     "output_type": "execute_result"
    }
   ],
   "source": [
    "r1b()"
   ]
  },
  {
   "cell_type": "code",
   "execution_count": 82,
   "id": "c443f789-ad91-4b1a-a250-322ea681f233",
   "metadata": {},
   "outputs": [
    {
     "data": {
      "text/plain": [
       "2"
      ]
     },
     "execution_count": 82,
     "metadata": {},
     "output_type": "execute_result"
    }
   ],
   "source": [
    "r1b.count"
   ]
  },
  {
   "cell_type": "code",
   "execution_count": 83,
   "id": "927687ed-0bd4-4209-b083-37ea4d56b320",
   "metadata": {},
   "outputs": [],
   "source": [
    "def count_calls_in_count(func): \n",
    "    decorator = count_calls_in_attribute()\n",
    "    return decorator(func)"
   ]
  },
  {
   "cell_type": "code",
   "execution_count": 84,
   "id": "ee61e322-29fc-428c-a6ff-47446884601b",
   "metadata": {},
   "outputs": [],
   "source": [
    "# Alternative implementation of count_calls_in_count could be just:\n",
    "count_calls_in_count = count_calls_in_attribute()"
   ]
  },
  {
   "cell_type": "code",
   "execution_count": 85,
   "id": "c7de9b96-0758-41cf-a3fb-798f56d29323",
   "metadata": {},
   "outputs": [],
   "source": [
    "def hello(name='World'):\n",
    "    print(f'Hello {name}!')"
   ]
  },
  {
   "cell_type": "code",
   "execution_count": 86,
   "id": "511134b8-cffa-4e6b-976e-b6f79e6a90c3",
   "metadata": {},
   "outputs": [
    {
     "name": "stdout",
     "output_type": "stream",
     "text": [
      "Hello Rhaenyra!\n"
     ]
    }
   ],
   "source": [
    "hello('Rhaenyra')"
   ]
  },
  {
   "cell_type": "code",
   "execution_count": 87,
   "id": "393cca2e-aacd-41a6-9745-d7e06ff1b05c",
   "metadata": {},
   "outputs": [
    {
     "name": "stdout",
     "output_type": "stream",
     "text": [
      "Hello World!\n"
     ]
    }
   ],
   "source": [
    "hello()"
   ]
  },
  {
   "cell_type": "code",
   "execution_count": 88,
   "id": "ac6e65f0-c43c-403b-9fb8-09bcab51b294",
   "metadata": {
    "tags": [
     "raises-exception"
    ]
   },
   "outputs": [
    {
     "ename": "TypeError",
     "evalue": "hello() takes from 0 to 1 positional arguments but 2 were given",
     "output_type": "error",
     "traceback": [
      "\u001b[1;31m---------------------------------------------------------------------------\u001b[0m",
      "\u001b[1;31mTypeError\u001b[0m                                 Traceback (most recent call last)",
      "Cell \u001b[1;32mIn [88], line 1\u001b[0m\n\u001b[1;32m----> 1\u001b[0m \u001b[43mhello\u001b[49m\u001b[43m(\u001b[49m\u001b[38;5;124;43m'\u001b[39;49m\u001b[38;5;124;43mRob\u001b[39;49m\u001b[38;5;124;43m'\u001b[39;49m\u001b[43m,\u001b[49m\u001b[43m \u001b[49m\u001b[38;5;124;43m'\u001b[39;49m\u001b[38;5;124;43mArya\u001b[39;49m\u001b[38;5;124;43m'\u001b[39;49m\u001b[43m)\u001b[49m\n",
      "\u001b[1;31mTypeError\u001b[0m: hello() takes from 0 to 1 positional arguments but 2 were given"
     ]
    }
   ],
   "source": [
    "hello('Rob', 'Arya')"
   ]
  },
  {
   "cell_type": "markdown",
   "id": "62c37dd1-0754-46c4-b930-ed221ae835ca",
   "metadata": {},
   "source": [
    "## How does wrapping affect signatures displayed by `help`?"
   ]
  },
  {
   "cell_type": "markdown",
   "id": "3c20535e-bcf1-4f44-b081-dde689360f23",
   "metadata": {},
   "source": [
    "When `__wrapped__` is present, `help` follows it and shows the wrapped function's signature. `help` will follow arbitrarily long chains of `__wrapped__`: if `h` wraps `g` which wraps `f` and `__wrapped__` is set on `h` and `g` to reflect this, then `help(h)` will show show `f`'s signature, including the number and names of parameters.\n",
    "\n",
    "Wrapping without setting `__wrapped__`, or deleting `__wrapped__`, prevents this. Setting `__wrapped__` produces this behavior, even if no actual wrapping is performed.\n",
    "\n",
    "So when `__wrapped__` is set, this causes `help` to show the wrapper function's signature as that of the wrapped function. Even so, the signature, for some other purposes, is not regarded to be affected by the presence of `__wrapped__`. In particular, one of the most common ways to inspect the signature of a function is with `inspect.getfullargspec`, which does not follow `__wrapped__`.\n",
    "\n",
    "For purposes of ensuring correct output of `help`, however, a wrapper's own definition need not name its parameters in a way that is most useful to the user. Thus, it can sometimes be reasonable to write `*old_args, **old_kwargs` (or, perhaps better, `*original_args, **original_kwargs`) in the occasional case that doing so helps clarify the code of a wrapping decorator."
   ]
  },
  {
   "cell_type": "code",
   "execution_count": 89,
   "id": "ced7cb84-8c28-467b-8e63-0ee410f55424",
   "metadata": {},
   "outputs": [],
   "source": [
    "import inspect"
   ]
  },
  {
   "cell_type": "code",
   "execution_count": 90,
   "id": "96f82c8c-0d05-41a4-aa3c-ec3f92d397f9",
   "metadata": {},
   "outputs": [],
   "source": [
    "from algoviz.decorators import wrap_uncallable_args"
   ]
  },
  {
   "cell_type": "code",
   "execution_count": 91,
   "id": "dba8b1f0-a69d-4306-8eff-cee2392d6cdb",
   "metadata": {},
   "outputs": [],
   "source": [
    "def before(x, y):\n",
    "    print(x, y)"
   ]
  },
  {
   "cell_type": "code",
   "execution_count": 92,
   "id": "cfc4b50d-b856-436f-abb7-cbfb286da124",
   "metadata": {},
   "outputs": [],
   "source": [
    "after = wrap_uncallable_args(before)"
   ]
  },
  {
   "cell_type": "code",
   "execution_count": 93,
   "id": "1240f599-a08c-428b-90ba-6b22a09d2b67",
   "metadata": {},
   "outputs": [
    {
     "name": "stdout",
     "output_type": "stream",
     "text": [
      "Help on function before in module __main__:\n",
      "\n",
      "before(x, y)\n",
      "\n"
     ]
    }
   ],
   "source": [
    "help(before)"
   ]
  },
  {
   "cell_type": "code",
   "execution_count": 94,
   "id": "c89b27c1-7d54-41c2-ba08-a522e8db22d6",
   "metadata": {},
   "outputs": [
    {
     "name": "stdout",
     "output_type": "stream",
     "text": [
      "Help on function before in module __main__:\n",
      "\n",
      "before(x, y)\n",
      "\n"
     ]
    }
   ],
   "source": [
    "help(after)"
   ]
  },
  {
   "cell_type": "code",
   "execution_count": 95,
   "id": "6391be6d-75fc-4341-99c2-0a51a65001a1",
   "metadata": {},
   "outputs": [
    {
     "data": {
      "text/plain": [
       "['__annotations__',\n",
       " '__builtins__',\n",
       " '__call__',\n",
       " '__class__',\n",
       " '__closure__',\n",
       " '__code__',\n",
       " '__defaults__',\n",
       " '__delattr__',\n",
       " '__dict__',\n",
       " '__dir__',\n",
       " '__doc__',\n",
       " '__eq__',\n",
       " '__format__',\n",
       " '__ge__',\n",
       " '__get__',\n",
       " '__getattribute__',\n",
       " '__globals__',\n",
       " '__gt__',\n",
       " '__hash__',\n",
       " '__init__',\n",
       " '__init_subclass__',\n",
       " '__kwdefaults__',\n",
       " '__le__',\n",
       " '__lt__',\n",
       " '__module__',\n",
       " '__name__',\n",
       " '__ne__',\n",
       " '__new__',\n",
       " '__qualname__',\n",
       " '__reduce__',\n",
       " '__reduce_ex__',\n",
       " '__repr__',\n",
       " '__setattr__',\n",
       " '__sizeof__',\n",
       " '__str__',\n",
       " '__subclasshook__',\n",
       " '__wrapped__']"
      ]
     },
     "execution_count": 95,
     "metadata": {},
     "output_type": "execute_result"
    }
   ],
   "source": [
    "dir(after)"
   ]
  },
  {
   "cell_type": "code",
   "execution_count": 96,
   "id": "cee8040d-f56d-4c15-9634-fd6e29c3cd85",
   "metadata": {},
   "outputs": [
    {
     "data": {
      "text/plain": [
       "FullArgSpec(args=[], varargs='args', varkw='kwargs', defaults=None, kwonlyargs=[], kwonlydefaults=None, annotations={})"
      ]
     },
     "execution_count": 96,
     "metadata": {},
     "output_type": "execute_result"
    }
   ],
   "source": [
    "inspect.getfullargspec(after)"
   ]
  },
  {
   "cell_type": "code",
   "execution_count": 97,
   "id": "a5a72dba-2809-441d-9e9c-04ba32933099",
   "metadata": {},
   "outputs": [],
   "source": [
    "del after.__wrapped__"
   ]
  },
  {
   "cell_type": "code",
   "execution_count": 98,
   "id": "9da4f310-d3d2-450d-a6d0-93b1e85f4f32",
   "metadata": {},
   "outputs": [
    {
     "name": "stdout",
     "output_type": "stream",
     "text": [
      "Help on function before in module __main__:\n",
      "\n",
      "before(*args, **kwargs)\n",
      "\n"
     ]
    }
   ],
   "source": [
    "help(after)"
   ]
  },
  {
   "cell_type": "code",
   "execution_count": 99,
   "id": "c37da8fd-ce96-4632-8155-0462a4d623fa",
   "metadata": {},
   "outputs": [],
   "source": [
    "@wrap_uncallable_args\n",
    "@wrap_uncallable_args\n",
    "def way_before(a, b, c):\n",
    "    pass"
   ]
  },
  {
   "cell_type": "code",
   "execution_count": 100,
   "id": "27ac4449-952a-4922-b8fc-c9b8403d57e3",
   "metadata": {},
   "outputs": [
    {
     "name": "stdout",
     "output_type": "stream",
     "text": [
      "Help on function way_before in module __main__:\n",
      "\n",
      "way_before(a, b, c)\n",
      "\n"
     ]
    }
   ],
   "source": [
    "help(way_before)"
   ]
  },
  {
   "cell_type": "code",
   "execution_count": 101,
   "id": "a6b4423e-4f55-475e-9ffd-2c5a08f26a6d",
   "metadata": {},
   "outputs": [],
   "source": [
    "del way_before.__wrapped__.__wrapped__"
   ]
  },
  {
   "cell_type": "code",
   "execution_count": 102,
   "id": "69c45b72-0b05-4d50-910c-455dbd8942ea",
   "metadata": {},
   "outputs": [
    {
     "name": "stdout",
     "output_type": "stream",
     "text": [
      "Help on function way_before in module __main__:\n",
      "\n",
      "way_before(*args, **kwargs)\n",
      "\n"
     ]
    }
   ],
   "source": [
    "help(way_before)"
   ]
  },
  {
   "cell_type": "code",
   "execution_count": 103,
   "id": "769ef7bf-1f93-498b-873d-9b874edb057d",
   "metadata": {},
   "outputs": [],
   "source": [
    "def uhoh():\n",
    "    pass"
   ]
  },
  {
   "cell_type": "code",
   "execution_count": 104,
   "id": "96dea3b6-9f18-4b62-bb2d-0121602b43a3",
   "metadata": {},
   "outputs": [
    {
     "name": "stdout",
     "output_type": "stream",
     "text": [
      "Help on function uhoh in module __main__:\n",
      "\n",
      "uhoh()\n",
      "\n"
     ]
    }
   ],
   "source": [
    "help(uhoh)"
   ]
  },
  {
   "cell_type": "code",
   "execution_count": 105,
   "id": "27ae7630-54fa-4d47-8691-d8a1fb42f617",
   "metadata": {},
   "outputs": [],
   "source": [
    "uhoh.__wrapped__ = uhoh"
   ]
  },
  {
   "cell_type": "code",
   "execution_count": 106,
   "id": "bb64d7ea-415a-4389-be81-f96d2fee49a8",
   "metadata": {},
   "outputs": [
    {
     "name": "stdout",
     "output_type": "stream",
     "text": [
      "Help on function uhoh in module __main__:\n",
      "\n",
      "uhoh(...)\n",
      "\n"
     ]
    }
   ],
   "source": [
    "help(uhoh)  # Actually, not so bad."
   ]
  },
  {
   "cell_type": "markdown",
   "id": "c4e24d3b-3a2d-4941-9fb4-c05796ea4079",
   "metadata": {},
   "source": [
    "The situation where we must worry most about wrapper's parameter names is when arguments are passed by one of those names:"
   ]
  },
  {
   "cell_type": "code",
   "execution_count": 107,
   "id": "c44efbc3-1e8e-48f7-a06c-f2366e76abc6",
   "metadata": {},
   "outputs": [],
   "source": [
    "def f(x, y):\n",
    "    print(f'{x=}, {y=}')\n",
    "\n",
    "def g(a, b):\n",
    "    f(a, b)\n",
    "\n",
    "g.__wrapped__ = f"
   ]
  },
  {
   "cell_type": "code",
   "execution_count": 108,
   "id": "be719325-f451-4c71-93f4-57a350456c2f",
   "metadata": {},
   "outputs": [
    {
     "name": "stdout",
     "output_type": "stream",
     "text": [
      "Help on function g in module __main__:\n",
      "\n",
      "g(x, y)\n",
      "\n"
     ]
    }
   ],
   "source": [
    "help(g)"
   ]
  },
  {
   "cell_type": "code",
   "execution_count": 109,
   "id": "abdf6883-1e08-4fb8-bafc-67539f4bf63a",
   "metadata": {
    "tags": [
     "raises-exception"
    ]
   },
   "outputs": [
    {
     "ename": "TypeError",
     "evalue": "g() got an unexpected keyword argument 'x'",
     "output_type": "error",
     "traceback": [
      "\u001b[1;31m---------------------------------------------------------------------------\u001b[0m",
      "\u001b[1;31mTypeError\u001b[0m                                 Traceback (most recent call last)",
      "Cell \u001b[1;32mIn [109], line 1\u001b[0m\n\u001b[1;32m----> 1\u001b[0m \u001b[43mg\u001b[49m\u001b[43m(\u001b[49m\u001b[43mx\u001b[49m\u001b[38;5;241;43m=\u001b[39;49m\u001b[38;5;241;43m10\u001b[39;49m\u001b[43m,\u001b[49m\u001b[43m \u001b[49m\u001b[43my\u001b[49m\u001b[38;5;241;43m=\u001b[39;49m\u001b[38;5;241;43m20\u001b[39;49m\u001b[43m)\u001b[49m\n",
      "\u001b[1;31mTypeError\u001b[0m: g() got an unexpected keyword argument 'x'"
     ]
    }
   ],
   "source": [
    "g(x=10, y=20)"
   ]
  },
  {
   "cell_type": "code",
   "execution_count": 110,
   "id": "cd9db9af-3e46-4beb-aa7d-2ea0040a093d",
   "metadata": {},
   "outputs": [
    {
     "name": "stdout",
     "output_type": "stream",
     "text": [
      "x=10, y=20\n"
     ]
    }
   ],
   "source": [
    "g(a=10, b=20)"
   ]
  },
  {
   "cell_type": "markdown",
   "id": "6e79521b-fc5c-4345-8719-60acfe381761",
   "metadata": {},
   "source": [
    "Parameters can always be passed keyword arguments, except:\n",
    "\n",
    "- Positional-only parameters.\n",
    "- `*args` (where `args` can be any identifier)\n",
    "- `**kwargs` (where `kwargs` can be any identifier)"
   ]
  },
  {
   "cell_type": "markdown",
   "id": "18735a6d-1928-4ff3-ad84-e1eb536d5625",
   "metadata": {},
   "source": [
    "So the kind of *severe* trouble with `f` and `g` above cannot happen when the wrapper's parameter list is of the form `*args, **kwargs` (regardless of how `args` and `kwargs` are named):"
   ]
  },
  {
   "cell_type": "code",
   "execution_count": 111,
   "id": "b8cb58d2-f2aa-4cbd-ba4c-29247ec9ecbf",
   "metadata": {},
   "outputs": [],
   "source": [
    "def h(*args, **kwargs):\n",
    "    f(*args, **kwargs)\n",
    "\n",
    "h.__wrapped__ = f"
   ]
  },
  {
   "cell_type": "code",
   "execution_count": 112,
   "id": "62bc57ae-c84b-4b66-8761-0fb7892be11f",
   "metadata": {},
   "outputs": [
    {
     "name": "stdout",
     "output_type": "stream",
     "text": [
      "Help on function h in module __main__:\n",
      "\n",
      "h(x, y)\n",
      "\n"
     ]
    }
   ],
   "source": [
    "help(h)"
   ]
  },
  {
   "cell_type": "code",
   "execution_count": 113,
   "id": "425883e2-a5ea-47dc-aa05-095c7dfa547d",
   "metadata": {},
   "outputs": [
    {
     "name": "stdout",
     "output_type": "stream",
     "text": [
      "x=10, y=20\n"
     ]
    }
   ],
   "source": [
    "h(x=10, y=20)"
   ]
  },
  {
   "cell_type": "markdown",
   "id": "94888514-d6b8-4af7-bdbd-0c5c8a8d03e7",
   "metadata": {},
   "source": [
    "## Review of evaluation semantics"
   ]
  },
  {
   "cell_type": "code",
   "execution_count": 114,
   "id": "20a7be52-0797-4b8c-8211-686422d4fcff",
   "metadata": {},
   "outputs": [],
   "source": [
    "def p(arg):\n",
    "    \"\"\"Show the argument and pass it through, to observe evaluation.\"\"\"\n",
    "    print(arg)\n",
    "    return arg"
   ]
  },
  {
   "cell_type": "markdown",
   "id": "421dab5b-5d6f-43cc-b8db-62f71a2e895f",
   "metadata": {},
   "source": [
    "### Evaluating expressions evaluates subexpressions"
   ]
  },
  {
   "cell_type": "markdown",
   "id": "cb557c7a-fe6d-4170-9609-ef8a90714658",
   "metadata": {},
   "source": [
    "When an expression is evaluated, all its subexpressions are evaluated first.\n",
    "\n",
    "Really it is all its *proper* subexpressions. An expression is a subexpression of itself, but of course it is not evaluated before it is evaluated. Evaluation of subexpressions relates to subproblem relationships, as described in `subproblems.ipynb`."
   ]
  },
  {
   "cell_type": "code",
   "execution_count": 115,
   "id": "bae2d2e0-507c-4be8-8cac-9f8d473f29f4",
   "metadata": {},
   "outputs": [
    {
     "name": "stdout",
     "output_type": "stream",
     "text": [
      "3\n",
      "4\n"
     ]
    },
    {
     "data": {
      "text/plain": [
       "7"
      ]
     },
     "execution_count": 115,
     "metadata": {},
     "output_type": "execute_result"
    }
   ],
   "source": [
    "p(3) + p(4)"
   ]
  },
  {
   "cell_type": "markdown",
   "id": "a4b7bc18-2271-4150-97ba-ecf4f22bea83",
   "metadata": {},
   "source": [
    "### Defining a function does not evaluate the body"
   ]
  },
  {
   "cell_type": "markdown",
   "id": "aa3833d2-93e6-4697-81e7-e923c6c4844e",
   "metadata": {},
   "source": [
    "A major exception to that rule about subexpression evaluation is if the subexpression is a lambda expression. The code of a function runs when the function is called (or, for generator functions, even later than that), not when the function is defined. A lambda expression, when evaluated, immediately evaluates to a function object, without any subexpressions in the lambda body being evaluated yet."
   ]
  },
  {
   "cell_type": "code",
   "execution_count": 116,
   "id": "0b3c6cc9-33de-4f9f-8356-8af770a344b8",
   "metadata": {},
   "outputs": [
    {
     "name": "stdout",
     "output_type": "stream",
     "text": [
      "<function <lambda> at 0x000001D6FE6513F0>\n",
      "<function <lambda> at 0x000001D6FE6513F0>\n"
     ]
    }
   ],
   "source": [
    "print(p(lambda: print('foo')))"
   ]
  },
  {
   "cell_type": "markdown",
   "id": "8c879844-0259-490e-8498-ca8bc70fd0b9",
   "metadata": {},
   "source": [
    "### Function call expressions do evaluate their subexpressions"
   ]
  },
  {
   "cell_type": "markdown",
   "id": "0f7be9fc-198d-42bc-966a-9ae7b4caf3b5",
   "metadata": {},
   "source": [
    "Although expressions that *define* a function are special in this regard, expressions that *call* a function are not. Subexpressions of function call expressions are immediately evaluated, just like subexpressions of, e.g., arithmetic expresisons.\n",
    "\n",
    "That is, in a function call expression, the subexpressions used as arguments must be evaluated before the function is actually called with the objects they evaluate to. References to the arguments are then passed to the function. (These references are themselves passed by value.)"
   ]
  },
  {
   "cell_type": "code",
   "execution_count": 117,
   "id": "26ce048e-5628-48c0-a0ac-cc784b5f9ae9",
   "metadata": {},
   "outputs": [],
   "source": [
    "import math"
   ]
  },
  {
   "cell_type": "code",
   "execution_count": 118,
   "id": "6504c4f6-d4fd-4597-afb2-373da30d051a",
   "metadata": {},
   "outputs": [
    {
     "name": "stdout",
     "output_type": "stream",
     "text": [
      "3.141592653589793\n"
     ]
    },
    {
     "data": {
      "text/plain": [
       "-1.0"
      ]
     },
     "execution_count": 118,
     "metadata": {},
     "output_type": "execute_result"
    }
   ],
   "source": [
    "math.cos(p(math.pi))  # Observe a side effect of the argument expression."
   ]
  },
  {
   "cell_type": "code",
   "execution_count": 119,
   "id": "e1124e7d-9bfe-441f-8ca3-a723358ea68c",
   "metadata": {},
   "outputs": [
    {
     "name": "stdout",
     "output_type": "stream",
     "text": [
      "10\n",
      "10\n"
     ]
    },
    {
     "data": {
      "text/plain": [
       "10"
      ]
     },
     "execution_count": 119,
     "metadata": {},
     "output_type": "execute_result"
    }
   ],
   "source": [
    "x = 10\n",
    "p(p(x))"
   ]
  },
  {
   "cell_type": "markdown",
   "id": "2bbd1c97-6ec4-4422-b360-b0b98a1d291c",
   "metadata": {},
   "source": [
    "The expression for the function itself is likewise evaluated before the function is called:"
   ]
  },
  {
   "cell_type": "code",
   "execution_count": 120,
   "id": "48736de7-f0aa-4a72-abfb-387ed6ba946a",
   "metadata": {},
   "outputs": [
    {
     "name": "stdout",
     "output_type": "stream",
     "text": [
      "<function p at 0x000001D6FE6509D0>\n",
      "10\n"
     ]
    },
    {
     "data": {
      "text/plain": [
       "10"
      ]
     },
     "execution_count": 120,
     "metadata": {},
     "output_type": "execute_result"
    }
   ],
   "source": [
    "p(p)(x)  # Pass p to p, to get a function to pass x to."
   ]
  },
  {
   "cell_type": "markdown",
   "id": "168d04d3-c9b9-46a0-b6af-e1a7ed12e065",
   "metadata": {},
   "source": [
    "### \"Inside out\""
   ]
  },
  {
   "cell_type": "markdown",
   "id": "67ec6e75-7c64-4caa-8555-ae962cdb85f3",
   "metadata": {},
   "source": [
    "Another way to express the completely *un*remarkable property that evaluating an expression evaluates its subexpressions before using them, which Python shares with almost all programming languages, is that expressions are evaluated *from the inside out*."
   ]
  },
  {
   "cell_type": "markdown",
   "id": "a5bfea74-c4ed-4e3a-ba05-92426653ddf6",
   "metadata": {},
   "source": [
    "### Variables are not special"
   ]
  },
  {
   "cell_type": "code",
   "execution_count": 121,
   "id": "7b411e6c-9850-4556-aa5b-7b7b60858784",
   "metadata": {},
   "outputs": [],
   "source": [
    "d = {'a': 10, 'b': 20}"
   ]
  },
  {
   "cell_type": "markdown",
   "id": "74c179e0-5f90-412b-8de0-b8081f4a3e3e",
   "metadata": {},
   "source": [
    "Here, before the full expression can be evaluated, `'a'` is evaluated to obtain an object we intuitively refer to as `'a'`:"
   ]
  },
  {
   "cell_type": "code",
   "execution_count": 122,
   "id": "2299cbda-2de3-44bc-a52f-5917135bd3ce",
   "metadata": {},
   "outputs": [
    {
     "data": {
      "text/plain": [
       "10"
      ]
     },
     "execution_count": 122,
     "metadata": {},
     "output_type": "execute_result"
    }
   ],
   "source": [
    "d['a']"
   ]
  },
  {
   "cell_type": "markdown",
   "id": "2ecca13a-4445-443a-b981-c0b5faf45fbe",
   "metadata": {},
   "source": [
    "Here, before the full expression can be evaluated, `s[0]` is evaluated to obtain an object we intuitively refer to as `'a'`:"
   ]
  },
  {
   "cell_type": "code",
   "execution_count": 123,
   "id": "c1f78532-9819-4c60-9b5d-cce24c7535cc",
   "metadata": {},
   "outputs": [
    {
     "data": {
      "text/plain": [
       "10"
      ]
     },
     "execution_count": 123,
     "metadata": {},
     "output_type": "execute_result"
    }
   ],
   "source": [
    "s = 'abc'\n",
    "d[s[0]]"
   ]
  },
  {
   "cell_type": "markdown",
   "id": "49fa430a-eefd-4b89-a08d-0dac295a4424",
   "metadata": {},
   "source": [
    "(The two objects we intuitively refer to as `'a'` are equal but may or may not be the same object.)"
   ]
  },
  {
   "cell_type": "markdown",
   "id": "10943af0-c9c9-4146-a5be-4270a9a649dc",
   "metadata": {},
   "source": [
    "The situation when the subexpression of interest is a single variable is no different:"
   ]
  },
  {
   "cell_type": "code",
   "execution_count": 124,
   "id": "a5d5fffe-2965-4c35-bd5b-e592aeec16b7",
   "metadata": {},
   "outputs": [
    {
     "data": {
      "text/plain": [
       "10"
      ]
     },
     "execution_count": 124,
     "metadata": {},
     "output_type": "execute_result"
    }
   ],
   "source": [
    "x = 'a'\n",
    "d[x]"
   ]
  },
  {
   "cell_type": "markdown",
   "id": "713169ae-c03f-4402-9a3f-948b30685538",
   "metadata": {},
   "source": [
    "In particular, no \"x\" appears when we do:"
   ]
  },
  {
   "cell_type": "code",
   "execution_count": 125,
   "id": "92e7db4a-4b69-4ff3-8b9d-6bf2b6aa01a0",
   "metadata": {},
   "outputs": [
    {
     "data": {
      "text/plain": [
       "{'a'}"
      ]
     },
     "execution_count": 125,
     "metadata": {},
     "output_type": "execute_result"
    }
   ],
   "source": [
    "x = 'a'\n",
    "t = {x}\n",
    "t"
   ]
  },
  {
   "cell_type": "markdown",
   "id": "3308747a-1404-41fd-933f-45a2ed92d470",
   "metadata": {},
   "source": [
    "The set `t` (that is, the `set` instance that we intuitively call `t` because the variable `t` currently refers to it) does not hold any information about the *variable* that was used to put an element in it:"
   ]
  },
  {
   "cell_type": "code",
   "execution_count": 126,
   "id": "440d6316-1483-457b-9857-4b24d18b2f30",
   "metadata": {},
   "outputs": [
    {
     "data": {
      "text/plain": [
       "{'a'}"
      ]
     },
     "execution_count": 126,
     "metadata": {},
     "output_type": "execute_result"
    }
   ],
   "source": [
    "x = 'b'\n",
    "t"
   ]
  },
  {
   "cell_type": "markdown",
   "id": "1c73396c-16fd-40be-a78d-fe22bacdfefd",
   "metadata": {},
   "source": [
    "### Using functions to defer evaluation"
   ]
  },
  {
   "cell_type": "markdown",
   "id": "55663ca5-cb53-4a2e-8c1c-25026ae37d8c",
   "metadata": {},
   "source": [
    "If we wanted our elements to hold information about variables, we could store a function instead:"
   ]
  },
  {
   "cell_type": "code",
   "execution_count": 127,
   "id": "47a29ae6-ab88-45ad-941f-fe4d2b7f69f5",
   "metadata": {},
   "outputs": [],
   "source": [
    "x = 'a'\n",
    "u = {lambda: x}"
   ]
  },
  {
   "cell_type": "code",
   "execution_count": 128,
   "id": "8b666d96-3a2a-4e6d-be74-bed916967d2e",
   "metadata": {},
   "outputs": [
    {
     "data": {
      "text/plain": [
       "{'a'}"
      ]
     },
     "execution_count": 128,
     "metadata": {},
     "output_type": "execute_result"
    }
   ],
   "source": [
    "{f() for f in u}"
   ]
  },
  {
   "cell_type": "code",
   "execution_count": 129,
   "id": "c25fd067-336e-4dd0-9a0f-c17dccf07f59",
   "metadata": {},
   "outputs": [
    {
     "data": {
      "text/plain": [
       "{'b'}"
      ]
     },
     "execution_count": 129,
     "metadata": {},
     "output_type": "execute_result"
    }
   ],
   "source": [
    "x = 'b'\n",
    "{f() for f in u}"
   ]
  },
  {
   "cell_type": "markdown",
   "id": "8186b9e5-c627-493e-877c-027ba25fe97e",
   "metadata": {},
   "source": [
    "This works because the body of a function, rather than being run once when the function is defined, is instead run each time the function is called (unless it is a generator function, in which case it is run even later than that)."
   ]
  },
  {
   "cell_type": "markdown",
   "id": "d8814395-91f0-4b25-95cb-c484a05ab0bc",
   "metadata": {},
   "source": [
    "### `def` and `lambda` defer evaluation the same way"
   ]
  },
  {
   "cell_type": "markdown",
   "id": "83667dc9-f8a7-4bf1-a218-072ef304e287",
   "metadata": {},
   "source": [
    "The above is not specific to functions defined using lambda expressions, of course. We can define a function with a `def` statement, then use it, and we get corresponding results:"
   ]
  },
  {
   "cell_type": "code",
   "execution_count": 130,
   "id": "9ac8984d-c838-4ca5-8041-ab9437268ed3",
   "metadata": {},
   "outputs": [],
   "source": [
    "x = 'a'\n",
    "def get_x(): return x\n",
    "v = {get_x}"
   ]
  },
  {
   "cell_type": "code",
   "execution_count": 131,
   "id": "e262d62d-0134-4e7f-a090-10e1b35b9163",
   "metadata": {},
   "outputs": [
    {
     "data": {
      "text/plain": [
       "{'a'}"
      ]
     },
     "execution_count": 131,
     "metadata": {},
     "output_type": "execute_result"
    }
   ],
   "source": [
    "{f() for f in v}  # Same as above, before rebinding x."
   ]
  },
  {
   "cell_type": "code",
   "execution_count": 132,
   "id": "04705964-e7ba-45f1-b8f3-5560e787e22b",
   "metadata": {},
   "outputs": [
    {
     "data": {
      "text/plain": [
       "{'b'}"
      ]
     },
     "execution_count": 132,
     "metadata": {},
     "output_type": "execute_result"
    }
   ],
   "source": [
    "x = 'b'\n",
    "{f() for f in v}  # Same as above, after rebinding x."
   ]
  },
  {
   "cell_type": "markdown",
   "id": "78f00c10-106f-4661-9975-5d5e6ed8dd82",
   "metadata": {
    "tags": []
   },
   "source": [
    "### Functions are not otherwise special"
   ]
  },
  {
   "cell_type": "markdown",
   "id": "557c0741-f50d-4e68-af00-154f888ff20b",
   "metadata": {},
   "source": [
    "Let's be clear about how functions are *not* special, though:"
   ]
  },
  {
   "cell_type": "code",
   "execution_count": 133,
   "id": "40d9bcde-d653-4c4a-a0ff-ba625070f86e",
   "metadata": {},
   "outputs": [
    {
     "data": {
      "text/plain": [
       "{<function __main__.get_x()>}"
      ]
     },
     "execution_count": 133,
     "metadata": {},
     "output_type": "execute_result"
    }
   ],
   "source": [
    "v  # Functions defined by \"def\" know the names they were defined with."
   ]
  },
  {
   "cell_type": "code",
   "execution_count": 134,
   "id": "f6288e7f-a031-488c-a0ec-032c05b20690",
   "metadata": {},
   "outputs": [],
   "source": [
    "other_name = get_x  # But we can refer to them with other expressions."
   ]
  },
  {
   "cell_type": "markdown",
   "id": "bb630e59-54c2-4f03-a58c-9b8a28898c60",
   "metadata": {},
   "source": [
    "Just as no \"x\" appeared when we did `{x}` above, no \"other_name\" appears when we do:"
   ]
  },
  {
   "cell_type": "code",
   "execution_count": 135,
   "id": "a5d610e2-b4d5-4d5c-bf7f-c01e5ab3c297",
   "metadata": {},
   "outputs": [
    {
     "data": {
      "text/plain": [
       "{<function __main__.get_x()>}"
      ]
     },
     "execution_count": 135,
     "metadata": {},
     "output_type": "execute_result"
    }
   ],
   "source": [
    "{other_name}"
   ]
  },
  {
   "cell_type": "markdown",
   "id": "bd02001c-c656-49a0-95fb-34132754f356",
   "metadata": {},
   "source": [
    "In `{lambda: x}` or `{get_x}`, the actual subexpressions `lambda: x` and `get_x` do not become part of the sets that are created. They are evaluated, and the objects they evaluate to become part of those sets. That those objects are functions does not change this."
   ]
  },
  {
   "cell_type": "markdown",
   "id": "30ef8e1c-6079-4f4d-bcc1-d4b5e50145bd",
   "metadata": {},
   "source": [
    "Instead, because those objects are functions, they *themselves* hold information associated with the expressions that appear in their bodies--that is, in the bodies of function definitions that produced them."
   ]
  },
  {
   "cell_type": "markdown",
   "id": "255dd0c2-98d4-4260-b883-d2cbb494fca9",
   "metadata": {},
   "source": [
    "### Operators that do control flow don't always evaluate all subexpressions"
   ]
  },
  {
   "cell_type": "markdown",
   "id": "03f84abb-45c3-496f-979a-a973eeac583d",
   "metadata": {},
   "source": [
    "The second operand of `and` is only evaluated if, and after, the first operand is found to be truthy:"
   ]
  },
  {
   "cell_type": "code",
   "execution_count": 136,
   "id": "88cf93f6-261d-4775-84c0-f17187167d01",
   "metadata": {},
   "outputs": [
    {
     "name": "stdout",
     "output_type": "stream",
     "text": [
      "True\n",
      "hello\n"
     ]
    },
    {
     "data": {
      "text/plain": [
       "'hello'"
      ]
     },
     "execution_count": 136,
     "metadata": {},
     "output_type": "execute_result"
    }
   ],
   "source": [
    "p(True) and p('hello')"
   ]
  },
  {
   "cell_type": "code",
   "execution_count": 137,
   "id": "fb5bb1ea-012a-4f18-86fb-5cb3f54d0f6b",
   "metadata": {},
   "outputs": [
    {
     "name": "stdout",
     "output_type": "stream",
     "text": [
      "False\n"
     ]
    },
    {
     "data": {
      "text/plain": [
       "False"
      ]
     },
     "execution_count": 137,
     "metadata": {},
     "output_type": "execute_result"
    }
   ],
   "source": [
    "p(False) and p('hello')"
   ]
  },
  {
   "cell_type": "markdown",
   "id": "2242c55f-d4a2-4c41-8d98-e4e44ae40f94",
   "metadata": {},
   "source": [
    "The second operand of `or` is only evaluated if, and after, the first operand is found to be falsy:"
   ]
  },
  {
   "cell_type": "code",
   "execution_count": 138,
   "id": "0a6afe1f-cef1-4dce-9b81-e1e0b05a0e35",
   "metadata": {},
   "outputs": [
    {
     "name": "stdout",
     "output_type": "stream",
     "text": [
      "False\n",
      "hello\n"
     ]
    },
    {
     "data": {
      "text/plain": [
       "'hello'"
      ]
     },
     "execution_count": 138,
     "metadata": {},
     "output_type": "execute_result"
    }
   ],
   "source": [
    "p(False) or p('hello')"
   ]
  },
  {
   "cell_type": "code",
   "execution_count": 139,
   "id": "9efad644-5d7f-4428-8b7a-654b66bc34d3",
   "metadata": {},
   "outputs": [
    {
     "name": "stdout",
     "output_type": "stream",
     "text": [
      "True\n"
     ]
    },
    {
     "data": {
      "text/plain": [
       "True"
      ]
     },
     "execution_count": 139,
     "metadata": {},
     "output_type": "execute_result"
    }
   ],
   "source": [
    "p(True) or p('hello')"
   ]
  },
  {
   "cell_type": "markdown",
   "id": "168697ad-2aaa-4f91-98ed-ec4ebbf1a9a0",
   "metadata": {},
   "source": [
    "The ternary conditional operator always evaluates its *condition*, but then it evaluates only one branch, and not the other, depending on whether it's condition was truthy:"
   ]
  },
  {
   "cell_type": "code",
   "execution_count": 140,
   "id": "f2781e59-9e05-47a0-980a-c677c02a190a",
   "metadata": {},
   "outputs": [
    {
     "name": "stdout",
     "output_type": "stream",
     "text": [
      "left\n"
     ]
    },
    {
     "data": {
      "text/plain": [
       "'left'"
      ]
     },
     "execution_count": 140,
     "metadata": {},
     "output_type": "execute_result"
    }
   ],
   "source": [
    "p('left') if True else p('right')"
   ]
  },
  {
   "cell_type": "code",
   "execution_count": 141,
   "id": "3a3daa46-04bc-43ba-bacf-28a766e25b37",
   "metadata": {},
   "outputs": [
    {
     "name": "stdout",
     "output_type": "stream",
     "text": [
      "right\n"
     ]
    },
    {
     "data": {
      "text/plain": [
       "'right'"
      ]
     },
     "execution_count": 141,
     "metadata": {},
     "output_type": "execute_result"
    }
   ],
   "source": [
    "p('left') if False else p('right')"
   ]
  },
  {
   "cell_type": "markdown",
   "id": "0a33b063-2759-4cac-9ff4-e4328e0560ba",
   "metadata": {},
   "source": [
    "### Functions are not macros"
   ]
  },
  {
   "cell_type": "markdown",
   "id": "dc76b684-02a2-48ae-9405-529c2751bc9a",
   "metadata": {},
   "source": [
    "Because *calling* a function evaluates the expressions used as arguments, a function cannot be written that behaves just like the `and` operator, the `or` operator, or the ternary conditional operator. Such a function will not short-circuit. Even before the function's own logic can run, the caller has already caused all its arguments to be evaluated."
   ]
  },
  {
   "cell_type": "code",
   "execution_count": 142,
   "id": "998cf38c-ec58-4f2d-bfe7-ee485d6444ce",
   "metadata": {},
   "outputs": [],
   "source": [
    "def bad_and(x, y):\n",
    "    return x and y"
   ]
  },
  {
   "cell_type": "code",
   "execution_count": 143,
   "id": "2960bbdb-3df6-4de3-8301-b1debd724e4d",
   "metadata": {},
   "outputs": [
    {
     "name": "stdout",
     "output_type": "stream",
     "text": [
      "False\n",
      "hello\n"
     ]
    },
    {
     "data": {
      "text/plain": [
       "False"
      ]
     },
     "execution_count": 143,
     "metadata": {},
     "output_type": "execute_result"
    }
   ],
   "source": [
    "bad_and(p(False), p('hello'))"
   ]
  },
  {
   "cell_type": "code",
   "execution_count": 144,
   "id": "a28f8c75-5c6a-47ab-acf2-c0b90ff43fc3",
   "metadata": {},
   "outputs": [],
   "source": [
    "def bad_or(x, y):\n",
    "    return x or y"
   ]
  },
  {
   "cell_type": "code",
   "execution_count": 145,
   "id": "0e72ecd5-b4c1-421d-8875-7d6c2f0376c2",
   "metadata": {},
   "outputs": [
    {
     "name": "stdout",
     "output_type": "stream",
     "text": [
      "True\n",
      "hello\n"
     ]
    },
    {
     "data": {
      "text/plain": [
       "True"
      ]
     },
     "execution_count": 145,
     "metadata": {},
     "output_type": "execute_result"
    }
   ],
   "source": [
    "bad_or(p(True), p('hello'))"
   ]
  },
  {
   "cell_type": "code",
   "execution_count": 146,
   "id": "6b2bb173-fb5a-4677-8ff5-ee8d6b3571e3",
   "metadata": {},
   "outputs": [],
   "source": [
    "def bad_conditional(condition, true_branch, false_branch):\n",
    "    return true_branch if condition else false_branch"
   ]
  },
  {
   "cell_type": "code",
   "execution_count": 147,
   "id": "fdd7f669-a3be-4fc8-aaba-e51fc79bc04a",
   "metadata": {},
   "outputs": [
    {
     "name": "stdout",
     "output_type": "stream",
     "text": [
      "left\n",
      "right\n"
     ]
    },
    {
     "data": {
      "text/plain": [
       "'left'"
      ]
     },
     "execution_count": 147,
     "metadata": {},
     "output_type": "execute_result"
    }
   ],
   "source": [
    "bad_conditional(True, p('left'), p('right'))"
   ]
  },
  {
   "cell_type": "code",
   "execution_count": 148,
   "id": "f2f72f04-e2fc-4632-af9d-4c906eb12b5a",
   "metadata": {},
   "outputs": [
    {
     "name": "stdout",
     "output_type": "stream",
     "text": [
      "left\n",
      "right\n"
     ]
    },
    {
     "data": {
      "text/plain": [
       "'right'"
      ]
     },
     "execution_count": 148,
     "metadata": {},
     "output_type": "execute_result"
    }
   ],
   "source": [
    "bad_conditional(False, p('left'), p('right'))"
   ]
  },
  {
   "cell_type": "markdown",
   "id": "cead8dc4-e8c4-409d-af21-6fc070cb6e8f",
   "metadata": {},
   "source": [
    "### But making it a higher-order function can help"
   ]
  },
  {
   "cell_type": "markdown",
   "id": "59c801fb-0b9a-4bf5-a849-9249d9d0f669",
   "metadata": {},
   "source": [
    "We can give our \"and\", \"or\", and \"conditional\" functions short-circuiting behavior by writing them to expect functions as arguments. Those arguments, when called, return the objects that are, conceptually, the operands to \"and\", \"or\", and \"conditional\".\n",
    "\n",
    "The caller must participate in this convention, passing appropriate parameterless functions that, when called, give the values of interest. This is what allows evaluation to be deferred: the caller defers evaluation of *everything* that might not need to be evaluated, then the callee selectively calls functions to evaluate just what must be evaluated.\n",
    "\n",
    "Since we have `and`, `or` and a ternary conditional operator in the language, it would rarely be useful to \"implement\" those operators this way, but they are are a clear way to demonstrate the technique:"
   ]
  },
  {
   "cell_type": "code",
   "execution_count": 149,
   "id": "41b556f3-cba7-4bbe-8ad6-06c972c3733a",
   "metadata": {},
   "outputs": [],
   "source": [
    "# f is always called, but it would be less intuitive if they were not both functions.\n",
    "def my_and(f, g):\n",
    "    return f() and g()"
   ]
  },
  {
   "cell_type": "code",
   "execution_count": 150,
   "id": "e1979bf3-2028-4337-be20-127b3f653115",
   "metadata": {},
   "outputs": [
    {
     "name": "stdout",
     "output_type": "stream",
     "text": [
      "False\n"
     ]
    },
    {
     "data": {
      "text/plain": [
       "False"
      ]
     },
     "execution_count": 150,
     "metadata": {},
     "output_type": "execute_result"
    }
   ],
   "source": [
    "my_and(lambda: p(False), lambda: p('hello'))"
   ]
  },
  {
   "cell_type": "code",
   "execution_count": 151,
   "id": "3eb37825-5c2e-4420-9fbb-f6eed6593401",
   "metadata": {},
   "outputs": [
    {
     "name": "stdout",
     "output_type": "stream",
     "text": [
      "True\n",
      "hello\n"
     ]
    },
    {
     "data": {
      "text/plain": [
       "'hello'"
      ]
     },
     "execution_count": 151,
     "metadata": {},
     "output_type": "execute_result"
    }
   ],
   "source": [
    "my_and(lambda: p(True), lambda: p('hello'))"
   ]
  },
  {
   "cell_type": "code",
   "execution_count": 152,
   "id": "d6e56d74-a43b-4f22-a619-02d1c1ab7efe",
   "metadata": {},
   "outputs": [],
   "source": [
    "# As in my_and, f is always called, but is also a function, to improve usability.\n",
    "def my_or(f, g):\n",
    "    return f() or g()"
   ]
  },
  {
   "cell_type": "code",
   "execution_count": 153,
   "id": "f4fa0580-7709-49cc-a00f-c2f22bf9cf31",
   "metadata": {},
   "outputs": [
    {
     "name": "stdout",
     "output_type": "stream",
     "text": [
      "False\n",
      "hello\n"
     ]
    },
    {
     "data": {
      "text/plain": [
       "'hello'"
      ]
     },
     "execution_count": 153,
     "metadata": {},
     "output_type": "execute_result"
    }
   ],
   "source": [
    "my_or(lambda: p(False), lambda: p('hello'))"
   ]
  },
  {
   "cell_type": "code",
   "execution_count": 154,
   "id": "27b45856-90e5-4512-a83c-87561e7ff707",
   "metadata": {},
   "outputs": [
    {
     "name": "stdout",
     "output_type": "stream",
     "text": [
      "True\n"
     ]
    },
    {
     "data": {
      "text/plain": [
       "True"
      ]
     },
     "execution_count": 154,
     "metadata": {},
     "output_type": "execute_result"
    }
   ],
   "source": [
    "my_or(lambda: p(True), lambda: p('hello'))"
   ]
  },
  {
   "cell_type": "code",
   "execution_count": 155,
   "id": "de1c7bcf-5e8d-42c8-ae72-1f8e04f317c7",
   "metadata": {},
   "outputs": [],
   "source": [
    "# Because the asymmetry between the condition and the branches is more\n",
    "# intuitive than the corresponding asymmetry in \"and\" and \"or\", there is\n",
    "# no usability benefit for condition to be a function.\n",
    "def my_conditional(condition, true_factory, false_factory):\n",
    "    return true_factory() if condition else false_factory()\n",
    "    # Or:  (true_factory if condition else false_factory)()"
   ]
  },
  {
   "cell_type": "code",
   "execution_count": 156,
   "id": "d440f4fd-6772-44bf-bce5-77466ac5a050",
   "metadata": {},
   "outputs": [
    {
     "name": "stdout",
     "output_type": "stream",
     "text": [
      "left\n"
     ]
    },
    {
     "data": {
      "text/plain": [
       "'left'"
      ]
     },
     "execution_count": 156,
     "metadata": {},
     "output_type": "execute_result"
    }
   ],
   "source": [
    "my_conditional(True, lambda: p('left'), lambda: p('right'))"
   ]
  },
  {
   "cell_type": "code",
   "execution_count": 157,
   "id": "3f6f71f7-a1b4-404a-b71e-c6a298472469",
   "metadata": {},
   "outputs": [
    {
     "name": "stdout",
     "output_type": "stream",
     "text": [
      "right\n"
     ]
    },
    {
     "data": {
      "text/plain": [
       "'right'"
      ]
     },
     "execution_count": 157,
     "metadata": {},
     "output_type": "execute_result"
    }
   ],
   "source": [
    "my_conditional(False, lambda: p('left'), lambda: p('right'))"
   ]
  },
  {
   "cell_type": "markdown",
   "id": "75c4f9fe-730a-4f81-ae3c-6dcf54880819",
   "metadata": {},
   "source": [
    "## How variable capture is implemented"
   ]
  },
  {
   "cell_type": "markdown",
   "id": "165a1b72-cc38-4425-86a2-a62d12902aa1",
   "metadata": {},
   "source": [
    "Recall that, while functions can access global variables and builtins, these are not *captured*. Being in scope everywhere in a module is just what it means to be global. In contrast, a function whose body refers to a variable local to an enclosing scope has access to that variable and potentially prolongs its lifetime. This is variable capture. The variable is said to be *free* inside the function that captures it.\n",
    "\n",
    "In natural languages, pronouns correspond roughly to variables. You may have heard how, in logic, a sentence like \"She visited the Museum of Modern Art,\" is said to be an *open* sentence because the meaning of \"She\" is not supplied by the sentence, but must instead be gleaned from the surrounding context. In contrast, \"Sally visited the Museum of Modern Art,\" and \"Sally visited the Museum of Modern Art but she did not enjoy it,\" are closed sentences.\n",
    "\n",
    "A function that captures at least one variable is said to be a *closure*. It *closes over* the captured variables. This terminology is intuitive because the static entity--the actual *code* of the function--is *open*, containing placeholders that have to be filled in.\n",
    "\n",
    "A local varible that is captured is called a *cell variable* in the scope in which it is local. That is, captured local variables are cell variables in the scope they are captured *from*. This terminology relates to the mechanism whereby variable capture is usually implemented. Knowing about this implementation strategy is illuminating and can help avoid confusions about the semantics of variable capture, so it will be explored below.\n",
    "\n",
    "Before examining how capture works \"under the hood,\" here are some examples of cell and non-cell varables:"
   ]
  },
  {
   "cell_type": "code",
   "execution_count": 158,
   "id": "b13cbbda-4b62-4929-ad70-1b2d059f043e",
   "metadata": {},
   "outputs": [],
   "source": [
    "def make_closures(  # make_closures is global.\n",
    "        seed,  # seed is local to make_closures. It's not a cell variable.\n",
    "):  \n",
    "    # n is local to make_closures, where it is a cell variable.\n",
    "    n = int(seed)  # int is global.\n",
    "    \n",
    "    def up2():  # up2 is local to make_closures. It's not a cell variable.\n",
    "        nonlocal n  # n is free in up2. It is local to make_closures.\n",
    "        n += 2\n",
    "    \n",
    "    def up3():  # up3 is local to make_closures. It's not a cell variable.\n",
    "        nonlocal n  # n is free in up3. It is local to make_closures.\n",
    "        n += 3\n",
    "    \n",
    "    def get():  # get is local to make_closures. It's not a cell variable.\n",
    "        return n  # n is free in get. It is local to make_closures.\n",
    "    \n",
    "    def count(  # count is local to make_closures, where it is a cell variable.\n",
    "            k,  # k is local to count. It's not a cell variable.\n",
    "    ):\n",
    "        if k >= n:  # n is free in count. It is local to make_closures.\n",
    "            return ()\n",
    "        \n",
    "        # count is free in count (in itself). It is local to make_closures.\n",
    "        return (k,) + count(k + 1)\n",
    "    \n",
    "    return up2, up3, get, count"
   ]
  },
  {
   "cell_type": "markdown",
   "id": "fbdf315e-7b23-41af-a7bb-1cda99f5beb5",
   "metadata": {},
   "source": [
    "Although Python is typically said to be an interpreted language, Python code is compiled to bytecode before being run. This happens when a module is loaded. The result of compiling a function is a *code* object. This object contains data that correspond to the actual *code* of the function, and that do not change at runtime.\n",
    "\n",
    "Besides code, a function has metadata (such as `__name__`), an instance dictionary, and, if the function is a closure, access to captured variables.\n",
    "\n",
    "A function's code object is accessible through its `__code__` attribute:"
   ]
  },
  {
   "cell_type": "code",
   "execution_count": 159,
   "id": "bb70e92b-1365-4277-ba97-346c2f10df02",
   "metadata": {},
   "outputs": [
    {
     "data": {
      "text/plain": [
       "<code object make_closures at 0x000001D6FE52B7E0, file \"C:\\Users\\ek\\AppData\\Local\\Temp\\ipykernel_33232\\62045531.py\", line 1>"
      ]
     },
     "execution_count": 159,
     "metadata": {},
     "output_type": "execute_result"
    }
   ],
   "source": [
    "make_closures.__code__"
   ]
  },
  {
   "cell_type": "markdown",
   "id": "c1b6f574-28c9-417c-b0a2-b9f66bcfb6d7",
   "metadata": {},
   "source": [
    "If a function captures any variables, it accesses them through data held in its `__closure__` attribute. If a function does not capture any variables, its `__closure__` attribute is `None`:"
   ]
  },
  {
   "cell_type": "code",
   "execution_count": 160,
   "id": "d704d818-104e-4047-87ac-6765cd008f51",
   "metadata": {},
   "outputs": [
    {
     "data": {
      "text/plain": [
       "True"
      ]
     },
     "execution_count": 160,
     "metadata": {},
     "output_type": "execute_result"
    }
   ],
   "source": [
    "make_closures.__closure__ is None"
   ]
  },
  {
   "cell_type": "markdown",
   "id": "39d17041-8582-415a-9013-9b407f07c69f",
   "metadata": {},
   "source": [
    "Variables local to a function *that are not cell variables* are named in the function's code object's `co_varnames` attribute:"
   ]
  },
  {
   "cell_type": "code",
   "execution_count": 161,
   "id": "b0e16d69-79b8-4f3a-a33b-e82ed41791d1",
   "metadata": {},
   "outputs": [
    {
     "data": {
      "text/plain": [
       "('seed', 'up2', 'up3', 'get')"
      ]
     },
     "execution_count": 161,
     "metadata": {},
     "output_type": "execute_result"
    }
   ],
   "source": [
    "make_closures.__code__.co_varnames"
   ]
  },
  {
   "cell_type": "markdown",
   "id": "65af5e59-1dbd-49c2-ae01-7b183f496e30",
   "metadata": {},
   "source": [
    "Cell variables local to a function are named in the function's code object's `co_cellvars` attribute:"
   ]
  },
  {
   "cell_type": "code",
   "execution_count": 162,
   "id": "e6f06e53-6a93-4262-8e9c-79c9aac6ac1f",
   "metadata": {},
   "outputs": [
    {
     "data": {
      "text/plain": [
       "('count', 'n')"
      ]
     },
     "execution_count": 162,
     "metadata": {},
     "output_type": "execute_result"
    }
   ],
   "source": [
    "make_closures.__code__.co_cellvars"
   ]
  },
  {
   "cell_type": "markdown",
   "id": "ee3c835d-f7d4-4b3a-b3af-4db2120d560d",
   "metadata": {},
   "source": [
    "A function's free variables--that is, variables captured from an enclosing scope--are named in the function's code object's `co_freevars` attribute. Make sure you understand why `make_closures` has no free variables:"
   ]
  },
  {
   "cell_type": "code",
   "execution_count": 163,
   "id": "15433d33-8341-47d2-a1f2-4865e548069d",
   "metadata": {},
   "outputs": [
    {
     "data": {
      "text/plain": [
       "()"
      ]
     },
     "execution_count": 163,
     "metadata": {},
     "output_type": "execute_result"
    }
   ],
   "source": [
    "make_closures.__code__.co_freevars"
   ]
  },
  {
   "cell_type": "markdown",
   "id": "4671ff2f-1bad-48cd-8793-5b0d6e41e0c6",
   "metadata": {},
   "source": [
    "`make_closures` creates and returns four functions:"
   ]
  },
  {
   "cell_type": "code",
   "execution_count": 164,
   "id": "1696508f-08a3-4e6b-b9b9-7253f052621a",
   "metadata": {},
   "outputs": [],
   "source": [
    "x_up2, x_up3, x_get, x_count = make_closures('0')\n",
    "y_up2, y_up3, y_get, y_count = make_closures('10')"
   ]
  },
  {
   "cell_type": "markdown",
   "id": "f179f7ac-dc0c-42ee-849b-a79a8222af78",
   "metadata": {},
   "source": [
    "Separate calls to `make_closures` return different functions:"
   ]
  },
  {
   "cell_type": "code",
   "execution_count": 165,
   "id": "fbf9888e-ac30-43aa-8ec7-4c1202ac703b",
   "metadata": {},
   "outputs": [
    {
     "data": {
      "text/plain": [
       "(False, False, False, False)"
      ]
     },
     "execution_count": 165,
     "metadata": {},
     "output_type": "execute_result"
    }
   ],
   "source": [
    "x_up2 is y_up2, x_up3 is y_up3, x_get is y_get, x_count is y_count"
   ]
  },
  {
   "cell_type": "markdown",
   "id": "c3615ae6-5d9f-4dba-9bd7-caf0c981864b",
   "metadata": {},
   "source": [
    "However, functions created from the same code have the same code:"
   ]
  },
  {
   "cell_type": "code",
   "execution_count": 166,
   "id": "e9f615a0-0fba-4ffc-a717-65fb1756b219",
   "metadata": {},
   "outputs": [
    {
     "data": {
      "text/plain": [
       "(True, True, True, True)"
      ]
     },
     "execution_count": 166,
     "metadata": {},
     "output_type": "execute_result"
    }
   ],
   "source": [
    "(x_up2.__code__ is y_up2.__code__,\n",
    " x_up3.__code__ is y_up3.__code__,\n",
    " x_get.__code__ is y_get.__code__,\n",
    " x_count.__code__ is y_count.__code__)"
   ]
  },
  {
   "cell_type": "code",
   "execution_count": 167,
   "id": "cc081da6-61a0-47db-8b17-c0640a5b98f6",
   "metadata": {},
   "outputs": [
    {
     "data": {
      "text/plain": [
       "()"
      ]
     },
     "execution_count": 167,
     "metadata": {},
     "output_type": "execute_result"
    }
   ],
   "source": [
    "x_up2.__code__.co_varnames"
   ]
  },
  {
   "cell_type": "markdown",
   "id": "b2dc06f7-83e6-4991-ba3b-f0e2f5cfd984",
   "metadata": {},
   "source": [
    "Of these four locally defined functions, one of them happens to have a (non-cell) local variable:"
   ]
  },
  {
   "cell_type": "code",
   "execution_count": 168,
   "id": "c696540a-676d-432a-bcb2-ec109f6359fe",
   "metadata": {},
   "outputs": [
    {
     "data": {
      "text/plain": [
       "{'up2': (), 'up3': (), 'get': (), 'count': ('k',)}"
      ]
     },
     "execution_count": 168,
     "metadata": {},
     "output_type": "execute_result"
    }
   ],
   "source": [
    "{f.__name__: f.__code__.co_varnames for f in (x_up2, x_up3, x_get, x_count)}"
   ]
  },
  {
   "cell_type": "markdown",
   "id": "1b8aa665-1fd1-4703-a54e-961182f16e25",
   "metadata": {},
   "source": [
    "(The \"y\" functions will give the same result, since their `__code__` attributes are all the same as those of the corresponding \"x\" functions.)"
   ]
  },
  {
   "cell_type": "markdown",
   "id": "607d8b57-cdcc-4b59-80a2-0c56b323801e",
   "metadata": {},
   "source": [
    "Locally defined functions can have cell variables, because they can have functions defined *inside them* that capture their local variables. But that is not happening here. None of the four functions `make_closures` returns has cell variables:"
   ]
  },
  {
   "cell_type": "code",
   "execution_count": 169,
   "id": "04155c5b-c617-42ab-8c47-94956cc0320b",
   "metadata": {},
   "outputs": [
    {
     "data": {
      "text/plain": [
       "{'up2': (), 'up3': (), 'get': (), 'count': ()}"
      ]
     },
     "execution_count": 169,
     "metadata": {},
     "output_type": "execute_result"
    }
   ],
   "source": [
    "{f.__name__: f.__code__.co_cellvars for f in (x_up2, x_up3, x_get, x_count)}"
   ]
  },
  {
   "cell_type": "markdown",
   "id": "d7aeeaab-2e5f-407b-ba95-62585a6e760d",
   "metadata": {},
   "source": [
    "In contrast, all four of those functions *do* capture variables from the enclosing scope, which is the scope of `make_closures`:"
   ]
  },
  {
   "cell_type": "code",
   "execution_count": 170,
   "id": "d7760f69-59c1-4f49-9558-da9a91a2a3c9",
   "metadata": {},
   "outputs": [
    {
     "data": {
      "text/plain": [
       "{'up2': ('n',), 'up3': ('n',), 'get': ('n',), 'count': ('count', 'n')}"
      ]
     },
     "execution_count": 170,
     "metadata": {},
     "output_type": "execute_result"
    }
   ],
   "source": [
    "{f.__name__: f.__code__.co_freevars for f in (x_up2, x_up3, x_get, x_count)}"
   ]
  },
  {
   "cell_type": "markdown",
   "id": "ce16dbdc-bc22-453f-bff0-bd40dcd7911c",
   "metadata": {},
   "source": [
    "Each pair of corresponding \"x\" and \"y\" functions were created from the same function definition in the Python code, and therefore share the same corresponding compiled code object, accessible through their `__code__` attributes. But they have different behavior, because the variables they capture are different variables at runtime.\n",
    "\n",
    "Each time `make_closure` is called, its local variables are created anew, separate from the locals in any other call to the function. That's how local variables work. (Local variables work this way even in languages like C that do not have variable capture. If local variables did not work this way, recursion would not be possible.) The functions `make_closure` creates and returns, though they have the same code each time, therefore capture different variables each time.\n",
    "\n",
    "This is what allows the \"x\" and \"y\" functions to read and write separate state--they capture separate `n` variables. We will see how captured variables' data are accessible through functions' `__closure__` attributes, but first let's observe the independence described above:"
   ]
  },
  {
   "cell_type": "code",
   "execution_count": 171,
   "id": "9c2abd30-ba23-48cc-881b-117334543910",
   "metadata": {},
   "outputs": [
    {
     "data": {
      "text/plain": [
       "0"
      ]
     },
     "execution_count": 171,
     "metadata": {},
     "output_type": "execute_result"
    }
   ],
   "source": [
    "x_get()"
   ]
  },
  {
   "cell_type": "code",
   "execution_count": 172,
   "id": "9673b08b-de24-4f6c-9e9a-a20c8347558d",
   "metadata": {},
   "outputs": [
    {
     "data": {
      "text/plain": [
       "2"
      ]
     },
     "execution_count": 172,
     "metadata": {},
     "output_type": "execute_result"
    }
   ],
   "source": [
    "x_up2()\n",
    "x_get()"
   ]
  },
  {
   "cell_type": "code",
   "execution_count": 173,
   "id": "416251a5-1c63-4f30-81b5-17034e65121a",
   "metadata": {},
   "outputs": [
    {
     "data": {
      "text/plain": [
       "5"
      ]
     },
     "execution_count": 173,
     "metadata": {},
     "output_type": "execute_result"
    }
   ],
   "source": [
    "x_up3()\n",
    "x_get()"
   ]
  },
  {
   "cell_type": "code",
   "execution_count": 174,
   "id": "a2bfc42d-1bda-43e6-8c77-3de3ce6c6156",
   "metadata": {},
   "outputs": [
    {
     "data": {
      "text/plain": [
       "10"
      ]
     },
     "execution_count": 174,
     "metadata": {},
     "output_type": "execute_result"
    }
   ],
   "source": [
    "y_get()"
   ]
  },
  {
   "cell_type": "code",
   "execution_count": 175,
   "id": "7c902574-6328-42e7-bf1b-27ae4ae46946",
   "metadata": {},
   "outputs": [
    {
     "data": {
      "text/plain": [
       "16"
      ]
     },
     "execution_count": 175,
     "metadata": {},
     "output_type": "execute_result"
    }
   ],
   "source": [
    "y_up3()\n",
    "y_up3()\n",
    "y_get()"
   ]
  },
  {
   "cell_type": "code",
   "execution_count": 176,
   "id": "4922917b-d1b6-4cd7-9a04-3774206adfc6",
   "metadata": {},
   "outputs": [
    {
     "data": {
      "text/plain": [
       "5"
      ]
     },
     "execution_count": 176,
     "metadata": {},
     "output_type": "execute_result"
    }
   ],
   "source": [
    "x_get()"
   ]
  },
  {
   "cell_type": "code",
   "execution_count": 177,
   "id": "3d900cec-7960-4429-8a79-853049a69056",
   "metadata": {},
   "outputs": [
    {
     "data": {
      "text/plain": [
       "(3, 4)"
      ]
     },
     "execution_count": 177,
     "metadata": {},
     "output_type": "execute_result"
    }
   ],
   "source": [
    "x_count(3)"
   ]
  },
  {
   "cell_type": "code",
   "execution_count": 178,
   "id": "3b050283-8f0f-4ec3-a7b5-b7a901aa2d25",
   "metadata": {},
   "outputs": [
    {
     "data": {
      "text/plain": [
       "(3, 4, 5, 6, 7, 8, 9, 10, 11, 12, 13, 14, 15)"
      ]
     },
     "execution_count": 178,
     "metadata": {},
     "output_type": "execute_result"
    }
   ],
   "source": [
    "y_count(3)"
   ]
  },
  {
   "cell_type": "markdown",
   "id": "9bc12eee-5a89-4174-a686-373a69b73dfe",
   "metadata": {},
   "source": [
    "The corresponding \"x\" and \"y\" functions, though they share the same code, have separate `__closure__` attributes:"
   ]
  },
  {
   "cell_type": "code",
   "execution_count": 179,
   "id": "cf2cb538-3d41-4a3d-a7f8-f9d0f8985fe8",
   "metadata": {},
   "outputs": [
    {
     "data": {
      "text/plain": [
       "(False, False, False, False)"
      ]
     },
     "execution_count": 179,
     "metadata": {},
     "output_type": "execute_result"
    }
   ],
   "source": [
    "(x_up2.__closure__ is y_up2.__closure__,\n",
    " x_up3.__closure__ is y_up3.__closure__,\n",
    " x_get.__closure__ is y_get.__closure__,\n",
    " x_count.__closure__ is y_count.__closure__)"
   ]
  },
  {
   "cell_type": "markdown",
   "id": "399ea3ca-5507-41dc-9462-e0f76ce71d00",
   "metadata": {},
   "source": [
    "Let's look at the data those attributes hold:"
   ]
  },
  {
   "cell_type": "code",
   "execution_count": 180,
   "id": "e4cc6624-771d-4006-b174-5766eacf1943",
   "metadata": {},
   "outputs": [],
   "source": [
    "from pprint import pp"
   ]
  },
  {
   "cell_type": "code",
   "execution_count": 181,
   "id": "ab9d4fa3-7e71-4f4e-bc05-7fb4e8864814",
   "metadata": {},
   "outputs": [
    {
     "name": "stdout",
     "output_type": "stream",
     "text": [
      "{'up2': (<cell at 0x000001D6FE22E320: int object at 0x000001D6F8050170>,),\n",
      " 'up3': (<cell at 0x000001D6FE22E320: int object at 0x000001D6F8050170>,),\n",
      " 'get': (<cell at 0x000001D6FE22E320: int object at 0x000001D6F8050170>,),\n",
      " 'count': (<cell at 0x000001D6FE22F2E0: function object at 0x000001D6FD0BFD00>,\n",
      "           <cell at 0x000001D6FE22E320: int object at 0x000001D6F8050170>)}\n"
     ]
    }
   ],
   "source": [
    "pp({f.__name__: f.__closure__ for f in (x_up2, x_up3, x_get, x_count)})"
   ]
  },
  {
   "cell_type": "code",
   "execution_count": 182,
   "id": "67af910c-fd7f-4b8a-be69-bf796e4e2be3",
   "metadata": {},
   "outputs": [
    {
     "name": "stdout",
     "output_type": "stream",
     "text": [
      "{'up2': (<cell at 0x000001D6FE22C130: int object at 0x000001D6F80502D0>,),\n",
      " 'up3': (<cell at 0x000001D6FE22C130: int object at 0x000001D6F80502D0>,),\n",
      " 'get': (<cell at 0x000001D6FE22C130: int object at 0x000001D6F80502D0>,),\n",
      " 'count': (<cell at 0x000001D6FE22D420: function object at 0x000001D6FD0BEF80>,\n",
      "           <cell at 0x000001D6FE22C130: int object at 0x000001D6F80502D0>)}\n"
     ]
    }
   ],
   "source": [
    "pp({f.__name__: f.__closure__ for f in (y_up2, y_up3, y_get, y_count)})"
   ]
  },
  {
   "cell_type": "code",
   "execution_count": 183,
   "id": "6971878d-5088-4607-996c-8434f15a9820",
   "metadata": {},
   "outputs": [],
   "source": [
    "# FIXME: Write the rest of this section."
   ]
  }
 ],
 "metadata": {
  "kernelspec": {
   "display_name": "Python 3 (ipykernel)",
   "language": "python",
   "name": "python3"
  },
  "language_info": {
   "codemirror_mode": {
    "name": "ipython",
    "version": 3
   },
   "file_extension": ".py",
   "mimetype": "text/x-python",
   "name": "python",
   "nbconvert_exporter": "python",
   "pygments_lexer": "ipython3",
   "version": "3.10.6"
  }
 },
 "nbformat": 4,
 "nbformat_minor": 5
}
