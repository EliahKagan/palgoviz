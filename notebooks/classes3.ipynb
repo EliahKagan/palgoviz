{
 "cells": [
  {
   "cell_type": "markdown",
   "id": "43c34169-f684-46bb-94e4-c939795d121e",
   "metadata": {},
   "source": [
    "# More on classes\n",
    "\n",
    "We begin with review and design considerations."
   ]
  },
  {
   "cell_type": "code",
   "execution_count": 1,
   "id": "99b3d674-9f55-4e2b-b326-a10ca569e834",
   "metadata": {},
   "outputs": [],
   "source": [
    "class Widget: \n",
    "    \n",
    "    def __init__(self, age, weight): \n",
    "        self.age = age\n",
    "        self.weight = weight\n",
    "    \n",
    "    def __repr__(self): \n",
    "        return f'{type(self).__name__}({self.age!r}, {self.weight!r})'\n",
    "    \n",
    "    def __eq__(self, other): \n",
    "        if not isinstance(other, type(self)):\n",
    "            return NotImplemented\n",
    "        # return self.age == other.age and self.weight == other.weight\n",
    "        return self.__dict__ == other.__dict__"
   ]
  },
  {
   "cell_type": "code",
   "execution_count": 2,
   "id": "9962fd25-f745-45c6-ae87-a275ea248cd4",
   "metadata": {},
   "outputs": [
    {
     "data": {
      "text/plain": [
       "Widget('10 years', '10 pounds')"
      ]
     },
     "execution_count": 2,
     "metadata": {},
     "output_type": "execute_result"
    }
   ],
   "source": [
    "Widget('10 years', '10 pounds')"
   ]
  },
  {
   "cell_type": "code",
   "execution_count": 3,
   "id": "b819d3cb-d58d-44ab-b276-a9a5b12de635",
   "metadata": {},
   "outputs": [
    {
     "data": {
      "text/plain": [
       "True"
      ]
     },
     "execution_count": 3,
     "metadata": {},
     "output_type": "execute_result"
    }
   ],
   "source": [
    "Widget(10.0, 1.0) == Widget(10, 1)"
   ]
  },
  {
   "cell_type": "code",
   "execution_count": 4,
   "id": "b49f293d-c913-43d6-b8b8-75ec40e8a268",
   "metadata": {},
   "outputs": [
    {
     "data": {
      "text/plain": [
       "False"
      ]
     },
     "execution_count": 4,
     "metadata": {},
     "output_type": "execute_result"
    }
   ],
   "source": [
    "Widget(10.0, 1.0) == Widget(10, 2)"
   ]
  },
  {
   "cell_type": "code",
   "execution_count": 5,
   "id": "69d3995a-1e48-47d8-90cf-b563ba019e9f",
   "metadata": {},
   "outputs": [],
   "source": [
    "class Employee: \n",
    "    \n",
    "    def __init__(self, age, weight): \n",
    "        self.age = age\n",
    "        self.weight = weight\n",
    "    \n",
    "    def __repr__(self): \n",
    "        return f'{type(self).__name__}({self.age!r}, {self.weight!r})'\n",
    "    \n",
    "    def __eq__(self, other): \n",
    "        if not isinstance(other, type(self)):\n",
    "            return NotImplemented\n",
    "        # return self.age == other.age and self.weight == other.weight\n",
    "        return self.__dict__ == other.__dict__"
   ]
  },
  {
   "cell_type": "code",
   "execution_count": 6,
   "id": "5b9bec25-f689-4b47-94b9-dc545d87a7de",
   "metadata": {},
   "outputs": [
    {
     "data": {
      "text/plain": [
       "True"
      ]
     },
     "execution_count": 6,
     "metadata": {},
     "output_type": "execute_result"
    }
   ],
   "source": [
    "Employee(23.0, 200.0) == Employee(23, 200)"
   ]
  },
  {
   "cell_type": "code",
   "execution_count": 7,
   "id": "af3b2295-360c-400e-949c-fb58e54cc246",
   "metadata": {},
   "outputs": [
    {
     "data": {
      "text/plain": [
       "False"
      ]
     },
     "execution_count": 7,
     "metadata": {},
     "output_type": "execute_result"
    }
   ],
   "source": [
    "Employee(23.0, 200.0) == Employee(20, 200)"
   ]
  },
  {
   "cell_type": "code",
   "execution_count": 8,
   "id": "3d400607-1c1a-4633-b199-197918b6eb59",
   "metadata": {},
   "outputs": [],
   "source": [
    "w = Widget(70, 180)"
   ]
  },
  {
   "cell_type": "code",
   "execution_count": 9,
   "id": "6c08de88-f971-44ab-819b-5f60437f49f4",
   "metadata": {},
   "outputs": [
    {
     "data": {
      "text/plain": [
       "False"
      ]
     },
     "execution_count": 9,
     "metadata": {},
     "output_type": "execute_result"
    }
   ],
   "source": [
    "w == 42"
   ]
  },
  {
   "cell_type": "code",
   "execution_count": 10,
   "id": "7f73b133-216a-4185-bc51-b14ad569a894",
   "metadata": {},
   "outputs": [],
   "source": [
    "e = Employee(70, 180)"
   ]
  },
  {
   "cell_type": "code",
   "execution_count": 11,
   "id": "faeceada-43a8-4460-8af6-1c30c969bdd7",
   "metadata": {},
   "outputs": [
    {
     "data": {
      "text/plain": [
       "False"
      ]
     },
     "execution_count": 11,
     "metadata": {},
     "output_type": "execute_result"
    }
   ],
   "source": [
    "w == e"
   ]
  },
  {
   "cell_type": "code",
   "execution_count": 12,
   "id": "586ce628-5bf7-4d27-bfdf-df1a689bf01a",
   "metadata": {},
   "outputs": [],
   "source": [
    "class ExplodingWidget(Widget):\n",
    "    def explode(self):\n",
    "        print(f'{self!r} has exploded!')"
   ]
  },
  {
   "cell_type": "code",
   "execution_count": 13,
   "id": "09bcca08-53b9-4234-ba77-4570040733c0",
   "metadata": {},
   "outputs": [],
   "source": [
    "ew = ExplodingWidget(70, 180)"
   ]
  },
  {
   "cell_type": "code",
   "execution_count": 14,
   "id": "6240e848-7cd7-4c64-9003-65401373f21e",
   "metadata": {},
   "outputs": [
    {
     "name": "stdout",
     "output_type": "stream",
     "text": [
      "ExplodingWidget(70, 180) has exploded!\n"
     ]
    }
   ],
   "source": [
    "ew.explode()"
   ]
  },
  {
   "cell_type": "code",
   "execution_count": 15,
   "id": "d960c465-afb5-4163-acc0-20cc28ff8a1e",
   "metadata": {},
   "outputs": [
    {
     "name": "stdout",
     "output_type": "stream",
     "text": [
      "ExplodingWidget(70, 180) has exploded!\n"
     ]
    }
   ],
   "source": [
    "ew.explode()"
   ]
  },
  {
   "cell_type": "code",
   "execution_count": 16,
   "id": "8b691e1a-bee0-4c37-8458-150311a79e54",
   "metadata": {},
   "outputs": [
    {
     "data": {
      "text/plain": [
       "True"
      ]
     },
     "execution_count": 16,
     "metadata": {},
     "output_type": "execute_result"
    }
   ],
   "source": [
    "w == ew"
   ]
  },
  {
   "cell_type": "code",
   "execution_count": 17,
   "id": "0150e271-b7b1-4004-a8d8-2dc6ad0ee92f",
   "metadata": {},
   "outputs": [
    {
     "data": {
      "text/plain": [
       "True"
      ]
     },
     "execution_count": 17,
     "metadata": {},
     "output_type": "execute_result"
    }
   ],
   "source": [
    "w.__dict__ == e.__dict__"
   ]
  },
  {
   "cell_type": "markdown",
   "id": "d520221c-a0f5-478f-9b46-872de4159c3d",
   "metadata": {},
   "source": [
    "## Weird derived classes (semi-review)"
   ]
  },
  {
   "cell_type": "code",
   "execution_count": 18,
   "id": "d653fd65-aeba-4369-957c-f3d1bbbc99c1",
   "metadata": {},
   "outputs": [],
   "source": [
    "class CallableStr(str): \n",
    "    def __call__(self): \n",
    "        return self"
   ]
  },
  {
   "cell_type": "code",
   "execution_count": 19,
   "id": "0100f2e5-a49b-4543-8147-1beb7595ee2b",
   "metadata": {},
   "outputs": [],
   "source": [
    "f = CallableStr(312)"
   ]
  },
  {
   "cell_type": "code",
   "execution_count": 20,
   "id": "b9dafea9-23ac-4328-911c-585011c4b0c7",
   "metadata": {},
   "outputs": [
    {
     "data": {
      "text/plain": [
       "'312'"
      ]
     },
     "execution_count": 20,
     "metadata": {},
     "output_type": "execute_result"
    }
   ],
   "source": [
    "f"
   ]
  },
  {
   "cell_type": "code",
   "execution_count": 21,
   "id": "2c4826af-1a7c-4fdb-93e5-5f800710c560",
   "metadata": {},
   "outputs": [
    {
     "data": {
      "text/plain": [
       "'312'"
      ]
     },
     "execution_count": 21,
     "metadata": {},
     "output_type": "execute_result"
    }
   ],
   "source": [
    "f()"
   ]
  },
  {
   "cell_type": "code",
   "execution_count": 22,
   "id": "f5c06d02-7d7b-430f-98e4-29fd3b6d1c0e",
   "metadata": {},
   "outputs": [
    {
     "data": {
      "text/plain": [
       "True"
      ]
     },
     "execution_count": 22,
     "metadata": {},
     "output_type": "execute_result"
    }
   ],
   "source": [
    "f is f()"
   ]
  },
  {
   "cell_type": "code",
   "execution_count": 23,
   "id": "cb26c9e3-0b24-40b1-ae73-f0ab911ed7f9",
   "metadata": {},
   "outputs": [],
   "source": [
    "from algoviz.decorators import joining"
   ]
  },
  {
   "cell_type": "code",
   "execution_count": 24,
   "id": "20e54b39-8947-4d46-80d1-1ebb4cead696",
   "metadata": {},
   "outputs": [
    {
     "data": {
      "text/plain": [
       "<function __main__.joining.<locals>.decorator.<locals>.wrapper()>"
      ]
     },
     "execution_count": 24,
     "metadata": {},
     "output_type": "execute_result"
    }
   ],
   "source": [
    "joining(f)"
   ]
  },
  {
   "cell_type": "code",
   "execution_count": 25,
   "id": "dd8bb0e9-bbfd-4d12-bf45-99fef4685da0",
   "metadata": {},
   "outputs": [
    {
     "data": {
      "text/plain": [
       "<function algoviz.decorators.joining.<locals>.decorator(func)>"
      ]
     },
     "execution_count": 25,
     "metadata": {},
     "output_type": "execute_result"
    }
   ],
   "source": [
    "joining('s')"
   ]
  },
  {
   "cell_type": "markdown",
   "id": "bb160c27-2855-437b-a75e-130164b8620c",
   "metadata": {},
   "source": [
    "## Effect of defining special methods (review)"
   ]
  },
  {
   "cell_type": "markdown",
   "id": "d191d29e-031b-4c9f-a735-13ae7850685e",
   "metadata": {},
   "source": [
    "Defining special dunder methods (\"magic\" methods) as attributes of a class (which is most often done with a `def` statement in the class body) customizes the behavior of *instances* of the class. They should not be defined on the instances themselves (which does not work, and constitutes using a dunder name in a manner other than explicitly documented)."
   ]
  },
  {
   "cell_type": "code",
   "execution_count": 26,
   "id": "a87b303e-5fef-4bb6-b873-cb96154341f4",
   "metadata": {},
   "outputs": [],
   "source": [
    "class HasRepr: \n",
    "    def __repr__(self): \n",
    "        return f'{type(self).__name__}()'"
   ]
  },
  {
   "cell_type": "code",
   "execution_count": 27,
   "id": "ae0de369-5c63-402a-a89b-f040ff3409a1",
   "metadata": {},
   "outputs": [],
   "source": [
    "hr = HasRepr()"
   ]
  },
  {
   "cell_type": "code",
   "execution_count": 28,
   "id": "7b20ba15-0928-4efd-ab3a-a310e71634fb",
   "metadata": {},
   "outputs": [
    {
     "data": {
      "text/plain": [
       "'HasRepr()'"
      ]
     },
     "execution_count": 28,
     "metadata": {},
     "output_type": "execute_result"
    }
   ],
   "source": [
    "hr.__repr__()"
   ]
  },
  {
   "cell_type": "code",
   "execution_count": 29,
   "id": "090bcf93-e500-4ee9-bbff-43ec09353883",
   "metadata": {},
   "outputs": [
    {
     "data": {
      "text/plain": [
       "HasRepr()"
      ]
     },
     "execution_count": 29,
     "metadata": {},
     "output_type": "execute_result"
    }
   ],
   "source": [
    "hr"
   ]
  },
  {
   "cell_type": "code",
   "execution_count": 30,
   "id": "70176038-a160-483d-b163-77afe745169b",
   "metadata": {},
   "outputs": [
    {
     "data": {
      "text/plain": [
       "'HasRepr()'"
      ]
     },
     "execution_count": 30,
     "metadata": {},
     "output_type": "execute_result"
    }
   ],
   "source": [
    "repr(hr)"
   ]
  },
  {
   "cell_type": "code",
   "execution_count": 31,
   "id": "b8d566ba-9108-45b7-b672-054b5456918d",
   "metadata": {},
   "outputs": [],
   "source": [
    "class NoRepr: \n",
    "    pass"
   ]
  },
  {
   "cell_type": "code",
   "execution_count": 32,
   "id": "4899a269-9951-43f2-b259-3671e25e3fc8",
   "metadata": {},
   "outputs": [],
   "source": [
    "nr = NoRepr()\n",
    "nr.__repr__ = lambda self: f'{type(self).__name__}()'"
   ]
  },
  {
   "cell_type": "code",
   "execution_count": 33,
   "id": "1c2e95d3-ccb6-46b7-9811-c84f81bb3851",
   "metadata": {},
   "outputs": [
    {
     "data": {
      "text/plain": [
       "'NoRepr()'"
      ]
     },
     "execution_count": 33,
     "metadata": {},
     "output_type": "execute_result"
    }
   ],
   "source": [
    "nr.__repr__(nr)"
   ]
  },
  {
   "cell_type": "code",
   "execution_count": 34,
   "id": "1b62cc24-a0ee-4a57-b449-4598b0f6e8fd",
   "metadata": {},
   "outputs": [],
   "source": [
    "NoRepr.__repr__ = lambda self: f'{type(self).__name__}()'"
   ]
  },
  {
   "cell_type": "code",
   "execution_count": 35,
   "id": "778370d4-993e-47bf-9156-807ac8ca1876",
   "metadata": {},
   "outputs": [
    {
     "data": {
      "text/plain": [
       "NoRepr()"
      ]
     },
     "execution_count": 35,
     "metadata": {},
     "output_type": "execute_result"
    }
   ],
   "source": [
    "nr"
   ]
  },
  {
   "cell_type": "code",
   "execution_count": 36,
   "id": "5e69be1a-c08a-43cd-a783-992e17113425",
   "metadata": {
    "tags": [
     "raises-exception"
    ]
   },
   "outputs": [
    {
     "ename": "TypeError",
     "evalue": "<lambda>() missing 1 required positional argument: 'self'",
     "output_type": "error",
     "traceback": [
      "\u001b[1;31m---------------------------------------------------------------------------\u001b[0m",
      "\u001b[1;31mTypeError\u001b[0m                                 Traceback (most recent call last)",
      "Cell \u001b[1;32mIn [36], line 1\u001b[0m\n\u001b[1;32m----> 1\u001b[0m \u001b[43mnr\u001b[49m\u001b[38;5;241;43m.\u001b[39;49m\u001b[38;5;21;43m__repr__\u001b[39;49m\u001b[43m(\u001b[49m\u001b[43m)\u001b[49m\n",
      "\u001b[1;31mTypeError\u001b[0m: <lambda>() missing 1 required positional argument: 'self'"
     ]
    }
   ],
   "source": [
    "nr.__repr__()"
   ]
  },
  {
   "cell_type": "code",
   "execution_count": 37,
   "id": "4764c8ae-29b3-4532-954d-01b5c805742e",
   "metadata": {},
   "outputs": [],
   "source": [
    "nr2 = NoRepr()"
   ]
  },
  {
   "cell_type": "code",
   "execution_count": 38,
   "id": "9e56f9a4-4879-4ed7-ac4c-e055b28b5e37",
   "metadata": {},
   "outputs": [
    {
     "data": {
      "text/plain": [
       "'NoRepr()'"
      ]
     },
     "execution_count": 38,
     "metadata": {},
     "output_type": "execute_result"
    }
   ],
   "source": [
    "nr2.__repr__()"
   ]
  },
  {
   "cell_type": "code",
   "execution_count": 39,
   "id": "14e76d22-dd95-4e3c-9f88-535edb16522b",
   "metadata": {},
   "outputs": [],
   "source": [
    "class ReallyNoRepr: \n",
    "    pass"
   ]
  },
  {
   "cell_type": "code",
   "execution_count": 40,
   "id": "2d62cf62-bac8-4235-a852-0505e49b490b",
   "metadata": {},
   "outputs": [],
   "source": [
    "rnr = ReallyNoRepr()\n",
    "rnr.__repr__ = lambda: f'{type(rnr).__name__}()'"
   ]
  },
  {
   "cell_type": "code",
   "execution_count": 41,
   "id": "5e2c4b4c-02fc-44d3-a967-3cc87b6a1917",
   "metadata": {},
   "outputs": [
    {
     "data": {
      "text/plain": [
       "'ReallyNoRepr()'"
      ]
     },
     "execution_count": 41,
     "metadata": {},
     "output_type": "execute_result"
    }
   ],
   "source": [
    "rnr.__repr__()"
   ]
  },
  {
   "cell_type": "code",
   "execution_count": 42,
   "id": "3f36a892-fd30-4ba5-96c8-403d521ab1d0",
   "metadata": {},
   "outputs": [
    {
     "data": {
      "text/plain": [
       "<__main__.ReallyNoRepr at 0x18d8bf4eef0>"
      ]
     },
     "execution_count": 42,
     "metadata": {},
     "output_type": "execute_result"
    }
   ],
   "source": [
    "rnr"
   ]
  },
  {
   "cell_type": "markdown",
   "id": "ab8cf04a-cf4d-4d67-a104-42e405ad9dbd",
   "metadata": {},
   "source": [
    "## Review of `super`"
   ]
  },
  {
   "cell_type": "code",
   "execution_count": 43,
   "id": "cfe0aa79-b0df-4e49-8120-49aeb9d8ce71",
   "metadata": {},
   "outputs": [],
   "source": [
    "del CallableStr  # Just to make clear that we're not reusing the old one."
   ]
  },
  {
   "cell_type": "code",
   "execution_count": 44,
   "id": "c8ee4e50-fdc8-4161-a340-f63d1b665bef",
   "metadata": {},
   "outputs": [],
   "source": [
    "class CallableStr(str): \n",
    "    def __repr__(self): \n",
    "        return f'{type(self).__name__}({super().__repr__()})'\n",
    "    \n",
    "    def __call__(self): \n",
    "        return self"
   ]
  },
  {
   "cell_type": "code",
   "execution_count": 45,
   "id": "19c135e4-2e9e-4cce-8607-31902570287b",
   "metadata": {},
   "outputs": [],
   "source": [
    "f = CallableStr(312)"
   ]
  },
  {
   "cell_type": "code",
   "execution_count": 46,
   "id": "360c26cf-3bda-4105-983e-978f81e45c6e",
   "metadata": {},
   "outputs": [
    {
     "data": {
      "text/plain": [
       "CallableStr('312')"
      ]
     },
     "execution_count": 46,
     "metadata": {},
     "output_type": "execute_result"
    }
   ],
   "source": [
    "f"
   ]
  },
  {
   "cell_type": "code",
   "execution_count": 47,
   "id": "ff6c49ec-defb-4df3-8a99-cdf031415230",
   "metadata": {},
   "outputs": [
    {
     "data": {
      "text/plain": [
       "CallableStr('312')"
      ]
     },
     "execution_count": 47,
     "metadata": {},
     "output_type": "execute_result"
    }
   ],
   "source": [
    "CallableStr('312')"
   ]
  },
  {
   "cell_type": "code",
   "execution_count": 48,
   "id": "a74ff20b-0109-48a0-ac9f-68778b6a59ea",
   "metadata": {},
   "outputs": [
    {
     "data": {
      "text/plain": [
       "CallableStr(\"a'b\")"
      ]
     },
     "execution_count": 48,
     "metadata": {},
     "output_type": "execute_result"
    }
   ],
   "source": [
    "CallableStr(\"a'b\")"
   ]
  },
  {
   "cell_type": "code",
   "execution_count": 49,
   "id": "80365bf5-a73e-4052-a25f-d5f86c7fca30",
   "metadata": {},
   "outputs": [
    {
     "data": {
      "text/plain": [
       "CallableStr(\"a'b\")"
      ]
     },
     "execution_count": 49,
     "metadata": {},
     "output_type": "execute_result"
    }
   ],
   "source": [
    "CallableStr('a\\'b')"
   ]
  },
  {
   "cell_type": "code",
   "execution_count": 50,
   "id": "91d29d25-2a0b-4ecd-be47-139ca3e99d80",
   "metadata": {},
   "outputs": [
    {
     "data": {
      "text/plain": [
       "\"CallableStr('312')\""
      ]
     },
     "execution_count": 50,
     "metadata": {},
     "output_type": "execute_result"
    }
   ],
   "source": [
    "repr(f)"
   ]
  },
  {
   "cell_type": "code",
   "execution_count": 51,
   "id": "b9854735-dc5f-4640-ab90-4a95ef79e368",
   "metadata": {},
   "outputs": [
    {
     "data": {
      "text/plain": [
       "\"CallableStr('312')\""
      ]
     },
     "execution_count": 51,
     "metadata": {},
     "output_type": "execute_result"
    }
   ],
   "source": [
    "f.__repr__()"
   ]
  },
  {
   "cell_type": "code",
   "execution_count": 52,
   "id": "efcb3491-90cc-4402-ae6a-642d209d0e46",
   "metadata": {},
   "outputs": [
    {
     "data": {
      "text/plain": [
       "\"CallableStr('312')\""
      ]
     },
     "execution_count": 52,
     "metadata": {},
     "output_type": "execute_result"
    }
   ],
   "source": [
    "CallableStr.__repr__(f)"
   ]
  },
  {
   "cell_type": "markdown",
   "id": "8f2fd111-3b7e-428b-a2ef-76089b56df73",
   "metadata": {},
   "source": [
    "### Zero-argument `super` only works in a function defined in a class."
   ]
  },
  {
   "cell_type": "code",
   "execution_count": 53,
   "id": "045ee1c4-a00a-4973-965c-ca39cd43f2c8",
   "metadata": {
    "tags": [
     "raises-exception"
    ]
   },
   "outputs": [
    {
     "ename": "RuntimeError",
     "evalue": "super(): no arguments",
     "output_type": "error",
     "traceback": [
      "\u001b[1;31m---------------------------------------------------------------------------\u001b[0m",
      "\u001b[1;31mRuntimeError\u001b[0m                              Traceback (most recent call last)",
      "Cell \u001b[1;32mIn [53], line 1\u001b[0m\n\u001b[1;32m----> 1\u001b[0m kent \u001b[38;5;241m=\u001b[39m \u001b[38;5;28;43msuper\u001b[39;49m\u001b[43m(\u001b[49m\u001b[43m)\u001b[49m\n",
      "\u001b[1;31mRuntimeError\u001b[0m: super(): no arguments"
     ]
    }
   ],
   "source": [
    "kent = super()"
   ]
  },
  {
   "cell_type": "markdown",
   "id": "7196f577-3290-4477-b96f-0ebe229f1112",
   "metadata": {},
   "source": [
    "### The technique is not limited to `str`."
   ]
  },
  {
   "cell_type": "code",
   "execution_count": 54,
   "id": "71ee3268-c6ee-4a75-b9fd-279fd82d88df",
   "metadata": {},
   "outputs": [],
   "source": [
    "class CallableInt(int): \n",
    "    def __repr__(self): \n",
    "        return f'{type(self).__name__}({super().__repr__()})'\n",
    "    \n",
    "    def __call__(self): \n",
    "        return self"
   ]
  },
  {
   "cell_type": "code",
   "execution_count": 55,
   "id": "23154c0c-03bc-4a0b-b48d-49652088221e",
   "metadata": {},
   "outputs": [],
   "source": [
    "g = CallableInt('312')"
   ]
  },
  {
   "cell_type": "code",
   "execution_count": 56,
   "id": "494f0d66-6b30-44bf-b5ea-c1a3a3496f90",
   "metadata": {},
   "outputs": [
    {
     "data": {
      "text/plain": [
       "CallableInt(312)"
      ]
     },
     "execution_count": 56,
     "metadata": {},
     "output_type": "execute_result"
    }
   ],
   "source": [
    "g"
   ]
  },
  {
   "cell_type": "code",
   "execution_count": 57,
   "id": "c582272e-a4f8-4630-bffe-7c5e53cdee7d",
   "metadata": {},
   "outputs": [
    {
     "data": {
      "text/plain": [
       "CallableInt(312)"
      ]
     },
     "execution_count": 57,
     "metadata": {},
     "output_type": "execute_result"
    }
   ],
   "source": [
    "CallableInt(312)"
   ]
  },
  {
   "cell_type": "markdown",
   "id": "9791d1ac-5347-45f2-93cc-5a376ccb9ef0",
   "metadata": {},
   "source": [
    "## Conferring that style of `repr` via mixin class"
   ]
  },
  {
   "cell_type": "code",
   "execution_count": 58,
   "id": "2a3c8f0c-6d8d-4d81-9cdd-d140700ef832",
   "metadata": {},
   "outputs": [],
   "source": [
    "class _MixinRepr:\n",
    "    def __repr__(self): \n",
    "        return f'{type(self).__name__}({super().__repr__()})'"
   ]
  },
  {
   "cell_type": "code",
   "execution_count": 59,
   "id": "0e71e276-a155-4391-a58c-91f9fd50e980",
   "metadata": {},
   "outputs": [],
   "source": [
    "class CallableStrA(_MixinRepr, str): \n",
    "    def __call__(self): \n",
    "        return self"
   ]
  },
  {
   "cell_type": "code",
   "execution_count": 60,
   "id": "ac9b6afe-f372-4834-9757-41e668fe4a20",
   "metadata": {},
   "outputs": [],
   "source": [
    "a = CallableStrA('a')"
   ]
  },
  {
   "cell_type": "code",
   "execution_count": 61,
   "id": "a4dd5216-6b87-4406-99f0-7821307696b7",
   "metadata": {},
   "outputs": [
    {
     "data": {
      "text/plain": [
       "CallableStrA('a')"
      ]
     },
     "execution_count": 61,
     "metadata": {},
     "output_type": "execute_result"
    }
   ],
   "source": [
    "a"
   ]
  },
  {
   "cell_type": "code",
   "execution_count": 62,
   "id": "01986a33-d41a-4bf3-9d92-5ebdcda43d9f",
   "metadata": {},
   "outputs": [],
   "source": [
    "class CallableIntA(_MixinRepr, int): \n",
    "    def __call__(self): \n",
    "        return self"
   ]
  },
  {
   "cell_type": "code",
   "execution_count": 63,
   "id": "65f9e88f-1e64-46e8-9378-e2a7ddf08dbe",
   "metadata": {},
   "outputs": [],
   "source": [
    "one = CallableIntA('1')"
   ]
  },
  {
   "cell_type": "code",
   "execution_count": 64,
   "id": "58fd4ad6-7262-488b-a599-3655af2143b3",
   "metadata": {},
   "outputs": [
    {
     "data": {
      "text/plain": [
       "CallableIntA(1)"
      ]
     },
     "execution_count": 64,
     "metadata": {},
     "output_type": "execute_result"
    }
   ],
   "source": [
    "one"
   ]
  },
  {
   "cell_type": "code",
   "execution_count": 65,
   "id": "6e6eb721-345b-4dd7-b199-eb2307277815",
   "metadata": {},
   "outputs": [],
   "source": [
    "class BrokenCallableStrA(str, _MixinRepr):  # Lists bases in wrong order.\n",
    "    def __call__(self): \n",
    "        return self"
   ]
  },
  {
   "cell_type": "code",
   "execution_count": 66,
   "id": "c8ebac9f-f8ba-4ae7-a164-324dfdacf7dc",
   "metadata": {},
   "outputs": [
    {
     "data": {
      "text/plain": [
       "'a'"
      ]
     },
     "execution_count": 66,
     "metadata": {},
     "output_type": "execute_result"
    }
   ],
   "source": [
    "BrokenCallableStrA('a')"
   ]
  },
  {
   "cell_type": "markdown",
   "id": "6364e6fb-4a2c-483c-bc36-5fb3529010e4",
   "metadata": {},
   "source": [
    "## Important sidebar: Method resolution order"
   ]
  },
  {
   "cell_type": "code",
   "execution_count": 67,
   "id": "c910f288-c2dd-4a98-b09d-aaf8c5a01677",
   "metadata": {},
   "outputs": [
    {
     "data": {
      "text/plain": [
       "(__main__.CallableStrA, __main__._MixinRepr, str, object)"
      ]
     },
     "execution_count": 67,
     "metadata": {},
     "output_type": "execute_result"
    }
   ],
   "source": [
    "CallableStrA.__mro__"
   ]
  },
  {
   "cell_type": "code",
   "execution_count": 68,
   "id": "e6a6a74f-f9cc-4159-851e-88ef6ebdffb9",
   "metadata": {},
   "outputs": [
    {
     "data": {
      "text/plain": [
       "(__main__.BrokenCallableStrA, str, __main__._MixinRepr, object)"
      ]
     },
     "execution_count": 68,
     "metadata": {},
     "output_type": "execute_result"
    }
   ],
   "source": [
    "BrokenCallableStrA.__mro__"
   ]
  },
  {
   "cell_type": "markdown",
   "id": "1a33e01c-8596-4bd4-9479-d6ada773752d",
   "metadata": {},
   "source": [
    "## Sidebar: Ways to access MRO and base class information"
   ]
  },
  {
   "cell_type": "code",
   "execution_count": 69,
   "id": "d91297db-d46b-431c-89c2-8bd605648ad7",
   "metadata": {},
   "outputs": [
    {
     "data": {
      "text/plain": [
       "(__main__.CallableIntA, __main__._MixinRepr, int, object)"
      ]
     },
     "execution_count": 69,
     "metadata": {},
     "output_type": "execute_result"
    }
   ],
   "source": [
    "CallableIntA.__mro__  # The way you usually should access the MRO."
   ]
  },
  {
   "cell_type": "code",
   "execution_count": 70,
   "id": "50baaf83-ec9d-4385-be20-bafcc44bf5b0",
   "metadata": {},
   "outputs": [
    {
     "data": {
      "text/plain": [
       "[__main__.CallableIntA, __main__._MixinRepr, int, object]"
      ]
     },
     "execution_count": 70,
     "metadata": {},
     "output_type": "execute_result"
    }
   ],
   "source": [
    "CallableIntA.mro()  # This is used during class creation to populate __mro__."
   ]
  },
  {
   "cell_type": "code",
   "execution_count": 71,
   "id": "2fdc94ed-7d36-4188-80d6-dd80d6b227d3",
   "metadata": {},
   "outputs": [
    {
     "data": {
      "text/plain": [
       "(type, object)"
      ]
     },
     "execution_count": 71,
     "metadata": {},
     "output_type": "execute_result"
    }
   ],
   "source": [
    "type.__mro__"
   ]
  },
  {
   "cell_type": "code",
   "execution_count": 72,
   "id": "df9f6e4e-0de7-404d-97fa-13d4ce92d60c",
   "metadata": {
    "tags": [
     "raises-exception"
    ]
   },
   "outputs": [
    {
     "ename": "TypeError",
     "evalue": "unbound method type.mro() needs an argument",
     "output_type": "error",
     "traceback": [
      "\u001b[1;31m---------------------------------------------------------------------------\u001b[0m",
      "\u001b[1;31mTypeError\u001b[0m                                 Traceback (most recent call last)",
      "Cell \u001b[1;32mIn [72], line 1\u001b[0m\n\u001b[1;32m----> 1\u001b[0m \u001b[38;5;28;43mtype\u001b[39;49m\u001b[38;5;241;43m.\u001b[39;49m\u001b[43mmro\u001b[49m\u001b[43m(\u001b[49m\u001b[43m)\u001b[49m\n",
      "\u001b[1;31mTypeError\u001b[0m: unbound method type.mro() needs an argument"
     ]
    }
   ],
   "source": [
    "type.mro()"
   ]
  },
  {
   "cell_type": "code",
   "execution_count": 73,
   "id": "f808506a-ad9f-4a77-ba76-1d3eee0e80f7",
   "metadata": {},
   "outputs": [
    {
     "data": {
      "text/plain": [
       "type"
      ]
     },
     "execution_count": 73,
     "metadata": {},
     "output_type": "execute_result"
    }
   ],
   "source": [
    "type(type)"
   ]
  },
  {
   "cell_type": "code",
   "execution_count": 74,
   "id": "27bf6ccc-d19d-4b0c-8e53-76ee1c94f9c9",
   "metadata": {},
   "outputs": [
    {
     "data": {
      "text/plain": [
       "[type, object]"
      ]
     },
     "execution_count": 74,
     "metadata": {},
     "output_type": "execute_result"
    }
   ],
   "source": [
    "type.mro(type)"
   ]
  },
  {
   "cell_type": "code",
   "execution_count": 75,
   "id": "ba973641-552c-4036-905b-1dd8dc89240d",
   "metadata": {},
   "outputs": [
    {
     "data": {
      "text/plain": [
       "(__main__._MixinRepr, int)"
      ]
     },
     "execution_count": 75,
     "metadata": {},
     "output_type": "execute_result"
    }
   ],
   "source": [
    "CallableIntA.__bases__"
   ]
  },
  {
   "cell_type": "code",
   "execution_count": 76,
   "id": "4a1a22ce-e88f-4bb4-bc9f-8f656ddcbd5d",
   "metadata": {},
   "outputs": [
    {
     "data": {
      "text/plain": [
       "int"
      ]
     },
     "execution_count": 76,
     "metadata": {},
     "output_type": "execute_result"
    }
   ],
   "source": [
    "CallableIntA.__base__  # Not very useful (unless single inheritance is known)."
   ]
  },
  {
   "cell_type": "code",
   "execution_count": 77,
   "id": "dab724ce-33fb-4edc-bf99-15b934d2ee65",
   "metadata": {},
   "outputs": [
    {
     "data": {
      "text/plain": [
       "[__main__.CallableStrA, __main__.CallableIntA, __main__.BrokenCallableStrA]"
      ]
     },
     "execution_count": 77,
     "metadata": {},
     "output_type": "execute_result"
    }
   ],
   "source": [
    "_MixinRepr.__subclasses__()"
   ]
  },
  {
   "cell_type": "markdown",
   "id": "3d67151a-c5fc-462a-9eeb-690f3804c011",
   "metadata": {},
   "source": [
    "## What `super` does"
   ]
  },
  {
   "cell_type": "code",
   "execution_count": 78,
   "id": "d6118c5b-1260-4174-a437-7b7a443651a7",
   "metadata": {},
   "outputs": [
    {
     "name": "stdout",
     "output_type": "stream",
     "text": [
      "Help on class super in module builtins:\n",
      "\n",
      "class super(object)\n",
      " |  super() -> same as super(__class__, <first argument>)\n",
      " |  super(type) -> unbound super object\n",
      " |  super(type, obj) -> bound super object; requires isinstance(obj, type)\n",
      " |  super(type, type2) -> bound super object; requires issubclass(type2, type)\n",
      " |  Typical use to call a cooperative superclass method:\n",
      " |  class C(B):\n",
      " |      def meth(self, arg):\n",
      " |          super().meth(arg)\n",
      " |  This works for class methods too:\n",
      " |  class C(B):\n",
      " |      @classmethod\n",
      " |      def cmeth(cls, arg):\n",
      " |          super().cmeth(arg)\n",
      " |  \n",
      " |  Methods defined here:\n",
      " |  \n",
      " |  __get__(self, instance, owner=None, /)\n",
      " |      Return an attribute of instance, which is of type owner.\n",
      " |  \n",
      " |  __getattribute__(self, name, /)\n",
      " |      Return getattr(self, name).\n",
      " |  \n",
      " |  __init__(self, /, *args, **kwargs)\n",
      " |      Initialize self.  See help(type(self)) for accurate signature.\n",
      " |  \n",
      " |  __repr__(self, /)\n",
      " |      Return repr(self).\n",
      " |  \n",
      " |  ----------------------------------------------------------------------\n",
      " |  Static methods defined here:\n",
      " |  \n",
      " |  __new__(*args, **kwargs) from builtins.type\n",
      " |      Create and return a new object.  See help(type) for accurate signature.\n",
      " |  \n",
      " |  ----------------------------------------------------------------------\n",
      " |  Data descriptors defined here:\n",
      " |  \n",
      " |  __self__\n",
      " |      the instance invoking super(); may be None\n",
      " |  \n",
      " |  __self_class__\n",
      " |      the type of the instance invoking super(); may be None\n",
      " |  \n",
      " |  __thisclass__\n",
      " |      the class invoking super()\n",
      "\n"
     ]
    }
   ],
   "source": [
    "help(super)"
   ]
  },
  {
   "cell_type": "code",
   "execution_count": 79,
   "id": "a2df6c66-2b58-4ba9-802f-37e498471bf8",
   "metadata": {},
   "outputs": [],
   "source": [
    "class _MixinReprAlt:\n",
    "    def __repr__(self): \n",
    "        return f'{type(self).__name__}({super(_MixinReprAlt, self).__repr__()})'"
   ]
  },
  {
   "cell_type": "code",
   "execution_count": 80,
   "id": "1789f331-27b0-46ea-bb0b-fbfbc0c9189d",
   "metadata": {},
   "outputs": [],
   "source": [
    "class CallableStrB(_MixinReprAlt, str): \n",
    "    def __call__(self): \n",
    "        return self"
   ]
  },
  {
   "cell_type": "code",
   "execution_count": 81,
   "id": "cf4fa2cf-8557-4847-b84b-860ebd44075e",
   "metadata": {},
   "outputs": [],
   "source": [
    "class CallableIntB(_MixinReprAlt, int): \n",
    "    def __call__(self): \n",
    "        return self"
   ]
  },
  {
   "cell_type": "code",
   "execution_count": 82,
   "id": "bf8258b3-a429-48c0-9818-5ad8edcb20ba",
   "metadata": {},
   "outputs": [
    {
     "data": {
      "text/plain": [
       "CallableStrB('42')"
      ]
     },
     "execution_count": 82,
     "metadata": {},
     "output_type": "execute_result"
    }
   ],
   "source": [
    "CallableStrB(42)"
   ]
  },
  {
   "cell_type": "code",
   "execution_count": 83,
   "id": "62aee6ed-52fe-4533-b484-825314c6f809",
   "metadata": {},
   "outputs": [
    {
     "data": {
      "text/plain": [
       "CallableIntB(42)"
      ]
     },
     "execution_count": 83,
     "metadata": {},
     "output_type": "execute_result"
    }
   ],
   "source": [
    "CallableIntB('42')"
   ]
  },
  {
   "cell_type": "code",
   "execution_count": 84,
   "id": "bc3aa55d-8192-4211-b8ac-a3aa77651868",
   "metadata": {},
   "outputs": [
    {
     "data": {
      "text/plain": [
       "(__main__.CallableIntB, __main__._MixinReprAlt, int, object)"
      ]
     },
     "execution_count": 84,
     "metadata": {},
     "output_type": "execute_result"
    }
   ],
   "source": [
    "CallableIntB.__mro__"
   ]
  },
  {
   "cell_type": "code",
   "execution_count": 85,
   "id": "9191b192-001a-43ce-bf50-b6047ec3c213",
   "metadata": {},
   "outputs": [
    {
     "data": {
      "text/plain": [
       "(__main__._MixinReprAlt, object)"
      ]
     },
     "execution_count": 85,
     "metadata": {},
     "output_type": "execute_result"
    }
   ],
   "source": [
    "_MixinReprAlt.__mro__"
   ]
  },
  {
   "cell_type": "markdown",
   "id": "89c1f19e-0387-483e-8c88-cdb21eafbcc1",
   "metadata": {},
   "source": [
    "## `super` in a class method"
   ]
  },
  {
   "cell_type": "code",
   "execution_count": 86,
   "id": "0e333a48-5633-4d2a-a362-abffe89c2eae",
   "metadata": {},
   "outputs": [],
   "source": [
    "class HasClassMethod: \n",
    "    a = 3\n",
    "    \n",
    "    @classmethod\n",
    "    def show_class_dict(cls):\n",
    "        print(cls.__dict__)"
   ]
  },
  {
   "cell_type": "code",
   "execution_count": 87,
   "id": "c5f8a938-f180-4a45-9bbf-4d427825bd77",
   "metadata": {},
   "outputs": [],
   "source": [
    "hcm = HasClassMethod()"
   ]
  },
  {
   "cell_type": "code",
   "execution_count": 88,
   "id": "95e7e397-8ac7-45ab-858c-c2040ea9280b",
   "metadata": {},
   "outputs": [
    {
     "name": "stdout",
     "output_type": "stream",
     "text": [
      "{'__module__': '__main__', 'a': 3, 'show_class_dict': <classmethod(<function HasClassMethod.show_class_dict at 0x0000018D8C179360>)>, '__dict__': <attribute '__dict__' of 'HasClassMethod' objects>, '__weakref__': <attribute '__weakref__' of 'HasClassMethod' objects>, '__doc__': None}\n"
     ]
    }
   ],
   "source": [
    "hcm.show_class_dict()"
   ]
  },
  {
   "cell_type": "code",
   "execution_count": 89,
   "id": "02d028b7-79ab-4787-ae82-1c7aa6beeee5",
   "metadata": {},
   "outputs": [],
   "source": [
    "class UsesSuper(HasClassMethod): \n",
    "    a = 5\n",
    "    \n",
    "    @classmethod\n",
    "    def use_super(cls): \n",
    "        print(super().a)"
   ]
  },
  {
   "cell_type": "code",
   "execution_count": 90,
   "id": "c118866b-139a-454e-8994-d4c9e40f0535",
   "metadata": {},
   "outputs": [],
   "source": [
    "us = UsesSuper()"
   ]
  },
  {
   "cell_type": "code",
   "execution_count": 91,
   "id": "a9f45e4f-ee75-41f7-a9f2-db9a5b612518",
   "metadata": {},
   "outputs": [
    {
     "data": {
      "text/plain": [
       "5"
      ]
     },
     "execution_count": 91,
     "metadata": {},
     "output_type": "execute_result"
    }
   ],
   "source": [
    "us.a"
   ]
  },
  {
   "cell_type": "code",
   "execution_count": 92,
   "id": "419ac5fe-0ddf-4e0b-b9b0-3e0b1434599c",
   "metadata": {},
   "outputs": [
    {
     "name": "stdout",
     "output_type": "stream",
     "text": [
      "3\n"
     ]
    }
   ],
   "source": [
    "us.use_super()"
   ]
  },
  {
   "cell_type": "code",
   "execution_count": 93,
   "id": "90b8fd95-8b90-4443-9135-d2ecb82c1c29",
   "metadata": {},
   "outputs": [],
   "source": [
    "class UsesSuperAlt(HasClassMethod): \n",
    "    a = 5\n",
    "    \n",
    "    @classmethod\n",
    "    def use_super(cls): \n",
    "        print(super(UsesSuperAlt, cls).a)"
   ]
  },
  {
   "cell_type": "code",
   "execution_count": 94,
   "id": "440df825-fb43-43cb-aefa-0204f95401fc",
   "metadata": {},
   "outputs": [],
   "source": [
    "usa = UsesSuperAlt()"
   ]
  },
  {
   "cell_type": "code",
   "execution_count": 95,
   "id": "e0cd5b7c-4597-4384-ac60-d2277f1c31e0",
   "metadata": {},
   "outputs": [
    {
     "data": {
      "text/plain": [
       "5"
      ]
     },
     "execution_count": 95,
     "metadata": {},
     "output_type": "execute_result"
    }
   ],
   "source": [
    "usa.a"
   ]
  },
  {
   "cell_type": "code",
   "execution_count": 96,
   "id": "3f1f8673-0158-4983-888f-e6ff8681ea88",
   "metadata": {},
   "outputs": [
    {
     "name": "stdout",
     "output_type": "stream",
     "text": [
      "3\n"
     ]
    }
   ],
   "source": [
    "usa.use_super()"
   ]
  },
  {
   "cell_type": "markdown",
   "id": "54e504d6-eee6-473b-88e5-0b1264c5929f",
   "metadata": {},
   "source": [
    "## `super` outside a class"
   ]
  },
  {
   "cell_type": "code",
   "execution_count": 97,
   "id": "0bf308ff-5593-4d37-9285-38e35b77f552",
   "metadata": {},
   "outputs": [],
   "source": [
    "def _add_repr_bad(cls): \n",
    "    \"\"\"Decorator to add repr to a class based on superclass.\"\"\"\n",
    "    def __repr__(self): \n",
    "        return f'{type(self).__name__}({super().__repr__()})'\n",
    "    \n",
    "    cls.__repr__ = __repr__\n",
    "    return cls"
   ]
  },
  {
   "cell_type": "code",
   "execution_count": 98,
   "id": "5243f8c4-8cb3-4336-971e-1170c6a78dd6",
   "metadata": {},
   "outputs": [],
   "source": [
    "@_add_repr_bad\n",
    "class BadCallableStrC(str): \n",
    "    def __call__(self): \n",
    "        return self"
   ]
  },
  {
   "cell_type": "code",
   "execution_count": 99,
   "id": "b4be8154-3363-4b33-8aef-98ab6ec182ca",
   "metadata": {},
   "outputs": [],
   "source": [
    "@_add_repr_bad\n",
    "class BadCallableIntC(int): \n",
    "    def __call__(self): \n",
    "        return self"
   ]
  },
  {
   "cell_type": "code",
   "execution_count": 100,
   "id": "0b1dcf2e-2fa4-4cf2-aec9-2997c5b8f112",
   "metadata": {
    "tags": [
     "raises-exception"
    ]
   },
   "outputs": [
    {
     "ename": "RuntimeError",
     "evalue": "super(): __class__ cell not found",
     "output_type": "error",
     "traceback": [
      "\u001b[1;31m---------------------------------------------------------------------------\u001b[0m",
      "\u001b[1;31mRuntimeError\u001b[0m                              Traceback (most recent call last)",
      "File \u001b[1;32m~\\miniforge3\\envs\\algoviz\\lib\\site-packages\\IPython\\core\\formatters.py:706\u001b[0m, in \u001b[0;36mPlainTextFormatter.__call__\u001b[1;34m(self, obj)\u001b[0m\n\u001b[0;32m    699\u001b[0m stream \u001b[38;5;241m=\u001b[39m StringIO()\n\u001b[0;32m    700\u001b[0m printer \u001b[38;5;241m=\u001b[39m pretty\u001b[38;5;241m.\u001b[39mRepresentationPrinter(stream, \u001b[38;5;28mself\u001b[39m\u001b[38;5;241m.\u001b[39mverbose,\n\u001b[0;32m    701\u001b[0m     \u001b[38;5;28mself\u001b[39m\u001b[38;5;241m.\u001b[39mmax_width, \u001b[38;5;28mself\u001b[39m\u001b[38;5;241m.\u001b[39mnewline,\n\u001b[0;32m    702\u001b[0m     max_seq_length\u001b[38;5;241m=\u001b[39m\u001b[38;5;28mself\u001b[39m\u001b[38;5;241m.\u001b[39mmax_seq_length,\n\u001b[0;32m    703\u001b[0m     singleton_pprinters\u001b[38;5;241m=\u001b[39m\u001b[38;5;28mself\u001b[39m\u001b[38;5;241m.\u001b[39msingleton_printers,\n\u001b[0;32m    704\u001b[0m     type_pprinters\u001b[38;5;241m=\u001b[39m\u001b[38;5;28mself\u001b[39m\u001b[38;5;241m.\u001b[39mtype_printers,\n\u001b[0;32m    705\u001b[0m     deferred_pprinters\u001b[38;5;241m=\u001b[39m\u001b[38;5;28mself\u001b[39m\u001b[38;5;241m.\u001b[39mdeferred_printers)\n\u001b[1;32m--> 706\u001b[0m \u001b[43mprinter\u001b[49m\u001b[38;5;241;43m.\u001b[39;49m\u001b[43mpretty\u001b[49m\u001b[43m(\u001b[49m\u001b[43mobj\u001b[49m\u001b[43m)\u001b[49m\n\u001b[0;32m    707\u001b[0m printer\u001b[38;5;241m.\u001b[39mflush()\n\u001b[0;32m    708\u001b[0m \u001b[38;5;28;01mreturn\u001b[39;00m stream\u001b[38;5;241m.\u001b[39mgetvalue()\n",
      "File \u001b[1;32m~\\miniforge3\\envs\\algoviz\\lib\\site-packages\\IPython\\lib\\pretty.py:410\u001b[0m, in \u001b[0;36mRepresentationPrinter.pretty\u001b[1;34m(self, obj)\u001b[0m\n\u001b[0;32m    407\u001b[0m                         \u001b[38;5;28;01mreturn\u001b[39;00m meth(obj, \u001b[38;5;28mself\u001b[39m, cycle)\n\u001b[0;32m    408\u001b[0m                 \u001b[38;5;28;01mif\u001b[39;00m \u001b[38;5;28mcls\u001b[39m \u001b[38;5;129;01mis\u001b[39;00m \u001b[38;5;129;01mnot\u001b[39;00m \u001b[38;5;28mobject\u001b[39m \\\n\u001b[0;32m    409\u001b[0m                         \u001b[38;5;129;01mand\u001b[39;00m callable(\u001b[38;5;28mcls\u001b[39m\u001b[38;5;241m.\u001b[39m\u001b[38;5;18m__dict__\u001b[39m\u001b[38;5;241m.\u001b[39mget(\u001b[38;5;124m'\u001b[39m\u001b[38;5;124m__repr__\u001b[39m\u001b[38;5;124m'\u001b[39m)):\n\u001b[1;32m--> 410\u001b[0m                     \u001b[38;5;28;01mreturn\u001b[39;00m \u001b[43m_repr_pprint\u001b[49m\u001b[43m(\u001b[49m\u001b[43mobj\u001b[49m\u001b[43m,\u001b[49m\u001b[43m \u001b[49m\u001b[38;5;28;43mself\u001b[39;49m\u001b[43m,\u001b[49m\u001b[43m \u001b[49m\u001b[43mcycle\u001b[49m\u001b[43m)\u001b[49m\n\u001b[0;32m    412\u001b[0m     \u001b[38;5;28;01mreturn\u001b[39;00m _default_pprint(obj, \u001b[38;5;28mself\u001b[39m, cycle)\n\u001b[0;32m    413\u001b[0m \u001b[38;5;28;01mfinally\u001b[39;00m:\n",
      "File \u001b[1;32m~\\miniforge3\\envs\\algoviz\\lib\\site-packages\\IPython\\lib\\pretty.py:778\u001b[0m, in \u001b[0;36m_repr_pprint\u001b[1;34m(obj, p, cycle)\u001b[0m\n\u001b[0;32m    776\u001b[0m \u001b[38;5;124;03m\"\"\"A pprint that just redirects to the normal repr function.\"\"\"\u001b[39;00m\n\u001b[0;32m    777\u001b[0m \u001b[38;5;66;03m# Find newlines and replace them with p.break_()\u001b[39;00m\n\u001b[1;32m--> 778\u001b[0m output \u001b[38;5;241m=\u001b[39m \u001b[38;5;28;43mrepr\u001b[39;49m\u001b[43m(\u001b[49m\u001b[43mobj\u001b[49m\u001b[43m)\u001b[49m\n\u001b[0;32m    779\u001b[0m lines \u001b[38;5;241m=\u001b[39m output\u001b[38;5;241m.\u001b[39msplitlines()\n\u001b[0;32m    780\u001b[0m \u001b[38;5;28;01mwith\u001b[39;00m p\u001b[38;5;241m.\u001b[39mgroup():\n",
      "Cell \u001b[1;32mIn [97], line 4\u001b[0m, in \u001b[0;36m_add_repr_bad.<locals>.__repr__\u001b[1;34m(self)\u001b[0m\n\u001b[0;32m      3\u001b[0m \u001b[38;5;28;01mdef\u001b[39;00m \u001b[38;5;21m__repr__\u001b[39m(\u001b[38;5;28mself\u001b[39m): \n\u001b[1;32m----> 4\u001b[0m     \u001b[38;5;28;01mreturn\u001b[39;00m \u001b[38;5;124mf\u001b[39m\u001b[38;5;124m'\u001b[39m\u001b[38;5;132;01m{\u001b[39;00m\u001b[38;5;28mtype\u001b[39m(\u001b[38;5;28mself\u001b[39m)\u001b[38;5;241m.\u001b[39m\u001b[38;5;18m__name__\u001b[39m\u001b[38;5;132;01m}\u001b[39;00m\u001b[38;5;124m(\u001b[39m\u001b[38;5;132;01m{\u001b[39;00m\u001b[38;5;28;43msuper\u001b[39;49m\u001b[43m(\u001b[49m\u001b[43m)\u001b[49m\u001b[38;5;241m.\u001b[39m\u001b[38;5;21m__repr__\u001b[39m()\u001b[38;5;132;01m}\u001b[39;00m\u001b[38;5;124m)\u001b[39m\u001b[38;5;124m'\u001b[39m\n",
      "\u001b[1;31mRuntimeError\u001b[0m: super(): __class__ cell not found"
     ]
    }
   ],
   "source": [
    "BadCallableStrC(21)"
   ]
  },
  {
   "cell_type": "code",
   "execution_count": 101,
   "id": "432c72a8-7a74-435a-97d9-651e1d5b7f1d",
   "metadata": {},
   "outputs": [],
   "source": [
    "def _add_repr(cls): \n",
    "    \"\"\"Decorator to add repr to a class based on superclass.\"\"\"\n",
    "    def __repr__(self): \n",
    "        return f'{type(self).__name__}({super(cls, self).__repr__()})'\n",
    "    \n",
    "    cls.__repr__ = __repr__\n",
    "    return cls"
   ]
  },
  {
   "cell_type": "code",
   "execution_count": 102,
   "id": "8caa6230-de9c-4043-bbc3-3ddf40563a7c",
   "metadata": {},
   "outputs": [],
   "source": [
    "@_add_repr\n",
    "class CallableStrC(str): \n",
    "    def __call__(self): \n",
    "        return self"
   ]
  },
  {
   "cell_type": "code",
   "execution_count": 103,
   "id": "b25ed969-27e2-42cd-867a-0b8cbc6f6608",
   "metadata": {},
   "outputs": [],
   "source": [
    "@_add_repr\n",
    "class CallableIntC(int): \n",
    "    def __call__(self): \n",
    "        return self"
   ]
  },
  {
   "cell_type": "code",
   "execution_count": 104,
   "id": "fe43b405-87d5-49fd-af59-0ff1a4875382",
   "metadata": {},
   "outputs": [
    {
     "data": {
      "text/plain": [
       "CallableStrC('365')"
      ]
     },
     "execution_count": 104,
     "metadata": {},
     "output_type": "execute_result"
    }
   ],
   "source": [
    "CallableStrC(365)"
   ]
  },
  {
   "cell_type": "code",
   "execution_count": 105,
   "id": "76b22d4d-ae96-41eb-8425-f38ae688e36f",
   "metadata": {},
   "outputs": [
    {
     "data": {
      "text/plain": [
       "CallableIntC(45567)"
      ]
     },
     "execution_count": 105,
     "metadata": {},
     "output_type": "execute_result"
    }
   ],
   "source": [
    "CallableIntC('45567')"
   ]
  },
  {
   "cell_type": "markdown",
   "id": "a9670be9-eac2-47dc-b5e9-3ebaf8732ea1",
   "metadata": {},
   "source": [
    "## `super` is not *usually* useful in a static method"
   ]
  },
  {
   "cell_type": "code",
   "execution_count": 106,
   "id": "d55cf9ff-3411-4689-b001-3921a7c14b6a",
   "metadata": {},
   "outputs": [],
   "source": [
    "class HasA: \n",
    "    a = 3"
   ]
  },
  {
   "cell_type": "code",
   "execution_count": 107,
   "id": "2333b4cc-3eda-40cf-b43f-70bb52182806",
   "metadata": {},
   "outputs": [],
   "source": [
    "class HasSM(HasA): \n",
    "    @staticmethod\n",
    "    def show_a(): \n",
    "        print(super().a)"
   ]
  },
  {
   "cell_type": "code",
   "execution_count": 108,
   "id": "fdf8ea5f-9134-4764-9e25-41abc7ea93db",
   "metadata": {},
   "outputs": [],
   "source": [
    "hsm = HasSM()"
   ]
  },
  {
   "cell_type": "code",
   "execution_count": 109,
   "id": "e20a8b0f-4340-4fa0-b834-b29f7a8d4d87",
   "metadata": {
    "tags": [
     "raises-exception"
    ]
   },
   "outputs": [
    {
     "ename": "RuntimeError",
     "evalue": "super(): no arguments",
     "output_type": "error",
     "traceback": [
      "\u001b[1;31m---------------------------------------------------------------------------\u001b[0m",
      "\u001b[1;31mRuntimeError\u001b[0m                              Traceback (most recent call last)",
      "Cell \u001b[1;32mIn [109], line 1\u001b[0m\n\u001b[1;32m----> 1\u001b[0m \u001b[43mhsm\u001b[49m\u001b[38;5;241;43m.\u001b[39;49m\u001b[43mshow_a\u001b[49m\u001b[43m(\u001b[49m\u001b[43m)\u001b[49m\n",
      "Cell \u001b[1;32mIn [107], line 4\u001b[0m, in \u001b[0;36mHasSM.show_a\u001b[1;34m()\u001b[0m\n\u001b[0;32m      2\u001b[0m \u001b[38;5;129m@staticmethod\u001b[39m\n\u001b[0;32m      3\u001b[0m \u001b[38;5;28;01mdef\u001b[39;00m \u001b[38;5;21mshow_a\u001b[39m(): \n\u001b[1;32m----> 4\u001b[0m     \u001b[38;5;28mprint\u001b[39m(\u001b[38;5;28;43msuper\u001b[39;49m\u001b[43m(\u001b[49m\u001b[43m)\u001b[49m\u001b[38;5;241m.\u001b[39ma)\n",
      "\u001b[1;31mRuntimeError\u001b[0m: super(): no arguments"
     ]
    }
   ],
   "source": [
    "hsm.show_a()"
   ]
  },
  {
   "cell_type": "code",
   "execution_count": 110,
   "id": "2b5145e8-d577-4444-af3d-6361d6d547eb",
   "metadata": {},
   "outputs": [],
   "source": [
    "class HasSM2(HasA): \n",
    "    @staticmethod\n",
    "    def show_a_scaled(n): \n",
    "        print(super().a * n)"
   ]
  },
  {
   "cell_type": "code",
   "execution_count": 111,
   "id": "ea3e4e79-0d30-4eb6-bcf7-923833e3cd0b",
   "metadata": {},
   "outputs": [],
   "source": [
    "hsm2 = HasSM2()"
   ]
  },
  {
   "cell_type": "code",
   "execution_count": 112,
   "id": "de34830b-2c8e-4f7d-a8c1-2ead959001a9",
   "metadata": {
    "tags": [
     "raises-exception"
    ]
   },
   "outputs": [
    {
     "ename": "TypeError",
     "evalue": "super(type, obj): obj must be an instance or subtype of type",
     "output_type": "error",
     "traceback": [
      "\u001b[1;31m---------------------------------------------------------------------------\u001b[0m",
      "\u001b[1;31mTypeError\u001b[0m                                 Traceback (most recent call last)",
      "Cell \u001b[1;32mIn [112], line 1\u001b[0m\n\u001b[1;32m----> 1\u001b[0m \u001b[43mhsm2\u001b[49m\u001b[38;5;241;43m.\u001b[39;49m\u001b[43mshow_a_scaled\u001b[49m\u001b[43m(\u001b[49m\u001b[38;5;241;43m3\u001b[39;49m\u001b[43m)\u001b[49m\n",
      "Cell \u001b[1;32mIn [110], line 4\u001b[0m, in \u001b[0;36mHasSM2.show_a_scaled\u001b[1;34m(n)\u001b[0m\n\u001b[0;32m      2\u001b[0m \u001b[38;5;129m@staticmethod\u001b[39m\n\u001b[0;32m      3\u001b[0m \u001b[38;5;28;01mdef\u001b[39;00m \u001b[38;5;21mshow_a_scaled\u001b[39m(n): \n\u001b[1;32m----> 4\u001b[0m     \u001b[38;5;28mprint\u001b[39m(\u001b[38;5;28;43msuper\u001b[39;49m\u001b[43m(\u001b[49m\u001b[43m)\u001b[49m\u001b[38;5;241m.\u001b[39ma \u001b[38;5;241m*\u001b[39m n)\n",
      "\u001b[1;31mTypeError\u001b[0m: super(type, obj): obj must be an instance or subtype of type"
     ]
    }
   ],
   "source": [
    "hsm2.show_a_scaled(3)"
   ]
  },
  {
   "cell_type": "markdown",
   "id": "54f7f737-f82b-421d-b398-f7279babb0e7",
   "metadata": {},
   "source": [
    "## Customizing construction: `__new__`"
   ]
  },
  {
   "cell_type": "code",
   "execution_count": 113,
   "id": "f6afa31f-1e46-4b82-bdb5-37769922c2ed",
   "metadata": {},
   "outputs": [],
   "source": [
    "class CustomNew: \n",
    "    def __new__(cls): \n",
    "        print(\"Constructing...\")\n",
    "        return super().__new__(cls)"
   ]
  },
  {
   "cell_type": "code",
   "execution_count": 114,
   "id": "8e98ce57-d207-4aa2-8ad0-cd3d240ed6c8",
   "metadata": {},
   "outputs": [
    {
     "name": "stdout",
     "output_type": "stream",
     "text": [
      "Constructing...\n"
     ]
    },
    {
     "data": {
      "text/plain": [
       "<__main__.CustomNew at 0x18d8c425360>"
      ]
     },
     "execution_count": 114,
     "metadata": {},
     "output_type": "execute_result"
    }
   ],
   "source": [
    "CustomNew()"
   ]
  },
  {
   "cell_type": "code",
   "execution_count": 115,
   "id": "61675988-ce09-4315-968e-e3bd4e3eb13c",
   "metadata": {},
   "outputs": [],
   "source": [
    "class Derived(CustomNew): \n",
    "    pass"
   ]
  },
  {
   "cell_type": "code",
   "execution_count": 116,
   "id": "f0cf429b-954c-4f91-82fe-9fafbdf479a2",
   "metadata": {},
   "outputs": [
    {
     "name": "stdout",
     "output_type": "stream",
     "text": [
      "Constructing...\n"
     ]
    },
    {
     "data": {
      "text/plain": [
       "<__main__.Derived at 0x18d8c424be0>"
      ]
     },
     "execution_count": 116,
     "metadata": {},
     "output_type": "execute_result"
    }
   ],
   "source": [
    "Derived()"
   ]
  },
  {
   "cell_type": "code",
   "execution_count": 117,
   "id": "726c59b6-f89c-404a-b74f-e6de74adbb2b",
   "metadata": {},
   "outputs": [],
   "source": [
    "class WeirdBase: \n",
    "    def __new__(cls): \n",
    "        print(\"Constructing...\")\n",
    "        return super().__new__(WeirdBase)"
   ]
  },
  {
   "cell_type": "code",
   "execution_count": 118,
   "id": "cea52580-6c37-441b-a813-cdad44563163",
   "metadata": {},
   "outputs": [],
   "source": [
    "class WeirdDerived(WeirdBase): \n",
    "    pass"
   ]
  },
  {
   "cell_type": "code",
   "execution_count": 119,
   "id": "9e12ce47-d3b4-4936-859f-e32337531107",
   "metadata": {},
   "outputs": [
    {
     "name": "stdout",
     "output_type": "stream",
     "text": [
      "Constructing...\n"
     ]
    },
    {
     "data": {
      "text/plain": [
       "<__main__.WeirdBase at 0x18d8c426530>"
      ]
     },
     "execution_count": 119,
     "metadata": {},
     "output_type": "execute_result"
    }
   ],
   "source": [
    "WeirdDerived()"
   ]
  },
  {
   "cell_type": "markdown",
   "id": "49ee7a47-d81a-47a7-ab15-89bb6a33cdb5",
   "metadata": {},
   "source": [
    "## `__new__` is a static method"
   ]
  },
  {
   "cell_type": "markdown",
   "id": "68fea437-6148-4919-890c-61ee5d22fb25",
   "metadata": {},
   "source": [
    "`__new__` uses the object creation logic of the class it is called *on* to create an instance of the class passed as its first parameter, which should be called `cls`. At runtime, these classes may be the same or different. In particular, if `__new__` is not implemented anywhere lower in your class's inheritance hierarchy, then the implementation inherited from `object` is used to create an instance of an object of your type.\n",
    "\n",
    "**`__new__` is a static method.** It is *implicitly* a static method: you do not need to, and never should, decorate it `@staticmethod`. Due to its `cls` parameter, people often wrongly think `__new__` is a class method. But a class method would automatically bind the class it is called on&mdash;or the class of the instance it is called on&mdash;which must not happen here. The point is to be able to construct an direct instance of the class we call `__new__` on, or *any* of its direct or indirect subclasses. So the class we call `__new__` on, and the class we pass as the first parameter (the `cls` parameter), must be separately specified.\n",
    "\n",
    "`__new__` is the only common case of a *static method* where it makes sense to write `super()` in it. Recall that the zero-argument form of `super` often makes sense in instance methods and class methods, but rarely in static methods.\n",
    "\n",
    "Calling `C.__new__(cls)`, where `cls` is not `C` or a direct or indirect subclass of `C`, raises `TypeError`."
   ]
  },
  {
   "cell_type": "markdown",
   "id": "56d14962-6688-4c96-ae94-d3ba94f8e861",
   "metadata": {},
   "source": [
    "## `__new__` and `__init__`: Explanation"
   ]
  },
  {
   "cell_type": "markdown",
   "id": "0232777f-63e3-4e31-a094-04e916ad7626",
   "metadata": {},
   "source": [
    "`__new__` actually creates the object (or delegates to another function, almost always a base-class implementation of `__new__`, to do so). `__init__` initializes the object. The object, upon being returned by `__new__`, may or may not have all state set as needed. If not, `__init__` should take care of that.\n",
    "\n",
    "You can set whatever state you want on an object in `__new__`, and it tends to be simpler to implement only `__new__` than to implement *both* `__new__` and `__init__`. But you can have both, and this is occasionally useful.\n",
    "\n",
    "Furthermore, and most importantly, if all you need to do is to initialize an object by setting state on it&mdash;rather than creating the object in a specialized way&mdash;you should usually implement just `__init__` and not `__new__`. We implement `__new__` *far* less often than `__init__` when writing classes in Python."
   ]
  },
  {
   "cell_type": "markdown",
   "id": "ea570c5f-d0cf-4a89-a0a7-d32a1ec11f19",
   "metadata": {},
   "source": [
    "## `__new__` and `__init__`: Simple example"
   ]
  },
  {
   "cell_type": "code",
   "execution_count": 120,
   "id": "5fdbf373-e4c1-409f-b78f-bd3a64978927",
   "metadata": {},
   "outputs": [],
   "source": [
    "class HasNewAndInit: \n",
    "    def __new__(cls): \n",
    "        print(\"Constructing...\")\n",
    "        return super().__new__(cls)\n",
    "    \n",
    "    def __init__(self):\n",
    "        print(\"Constructed.\")"
   ]
  },
  {
   "cell_type": "code",
   "execution_count": 121,
   "id": "1c5250df-8c99-4d8b-8f41-f9bee718d327",
   "metadata": {},
   "outputs": [
    {
     "name": "stdout",
     "output_type": "stream",
     "text": [
      "Constructing...\n",
      "Constructed.\n"
     ]
    },
    {
     "data": {
      "text/plain": [
       "<__main__.HasNewAndInit at 0x18d8c426e90>"
      ]
     },
     "execution_count": 121,
     "metadata": {},
     "output_type": "execute_result"
    }
   ],
   "source": [
    "HasNewAndInit()"
   ]
  },
  {
   "cell_type": "markdown",
   "id": "4ba4cf41-2407-4361-a50c-40b091becbaf",
   "metadata": {
    "tags": []
   },
   "source": [
    "## `__new__` with arguments (in addition to `cls`)"
   ]
  },
  {
   "cell_type": "code",
   "execution_count": 122,
   "id": "e5614f4c-1c2a-4c59-a9ea-13152b8c5a14",
   "metadata": {},
   "outputs": [],
   "source": [
    "class HasNewInitAndArg: \n",
    "    def __new__(cls, arg): \n",
    "        print(f\"Constructing with arg {arg}.\")\n",
    "        return super().__new__(cls)\n",
    "    \n",
    "    def __init__(self, arg):\n",
    "        print(f\"Constructed with arg {arg}.\")"
   ]
  },
  {
   "cell_type": "code",
   "execution_count": 123,
   "id": "f840a6ab-2367-4370-9eee-388f68977cce",
   "metadata": {},
   "outputs": [
    {
     "name": "stdout",
     "output_type": "stream",
     "text": [
      "Constructing with arg 3.\n",
      "Constructed with arg 3.\n"
     ]
    },
    {
     "data": {
      "text/plain": [
       "<__main__.HasNewInitAndArg at 0x18d8bdbfb80>"
      ]
     },
     "execution_count": 123,
     "metadata": {},
     "output_type": "execute_result"
    }
   ],
   "source": [
    "HasNewInitAndArg(3)"
   ]
  },
  {
   "cell_type": "code",
   "execution_count": 124,
   "id": "c19189d4-5ef9-44ed-aa3c-ee3aa76713bf",
   "metadata": {},
   "outputs": [],
   "source": [
    "class DerivedTwoArgs(HasNewInitAndArg): \n",
    "    def __init__(self, arg1, arg2): \n",
    "        super().__init__(arg1 * arg2)"
   ]
  },
  {
   "cell_type": "code",
   "execution_count": 125,
   "id": "1aa80439-96f0-45ba-a1d9-aaa485c7f072",
   "metadata": {
    "tags": [
     "raises-exception"
    ]
   },
   "outputs": [
    {
     "ename": "TypeError",
     "evalue": "HasNewInitAndArg.__new__() takes 2 positional arguments but 3 were given",
     "output_type": "error",
     "traceback": [
      "\u001b[1;31m---------------------------------------------------------------------------\u001b[0m",
      "\u001b[1;31mTypeError\u001b[0m                                 Traceback (most recent call last)",
      "Cell \u001b[1;32mIn [125], line 1\u001b[0m\n\u001b[1;32m----> 1\u001b[0m \u001b[43mDerivedTwoArgs\u001b[49m\u001b[43m(\u001b[49m\u001b[38;5;241;43m3\u001b[39;49m\u001b[43m,\u001b[49m\u001b[43m \u001b[49m\u001b[38;5;241;43m4\u001b[39;49m\u001b[43m)\u001b[49m\n",
      "\u001b[1;31mTypeError\u001b[0m: HasNewInitAndArg.__new__() takes 2 positional arguments but 3 were given"
     ]
    }
   ],
   "source": [
    "DerivedTwoArgs(3, 4)"
   ]
  },
  {
   "cell_type": "code",
   "execution_count": 126,
   "id": "50431252-e92f-455c-9e4f-1c5a9a0b2baa",
   "metadata": {},
   "outputs": [],
   "source": [
    "class FlexibleNewInitAndArg: \n",
    "    def __new__(cls, arg, *args, **kwargs):\n",
    "        print(f\"Constructing with arg {arg}.\")\n",
    "        \n",
    "        # Note: We should pass *args, **kwargs if the base __new__ can use them.\n",
    "        return super().__new__(cls)\n",
    "    \n",
    "    def __init__(self, arg):\n",
    "        print(f\"Constructed with arg {arg}.\")"
   ]
  },
  {
   "cell_type": "code",
   "execution_count": 127,
   "id": "91d0c4e8-949a-4ad2-a18b-6ed6faa196e1",
   "metadata": {},
   "outputs": [],
   "source": [
    "class DerivedFromFlex(FlexibleNewInitAndArg): \n",
    "    def __init__(self, arg1, arg2): \n",
    "        super().__init__(arg1 * arg2)"
   ]
  },
  {
   "cell_type": "code",
   "execution_count": 128,
   "id": "13f72655-c8fb-428a-959a-5009450a4f21",
   "metadata": {},
   "outputs": [
    {
     "name": "stdout",
     "output_type": "stream",
     "text": [
      "Constructing with arg 3.\n",
      "Constructed with arg 12.\n"
     ]
    },
    {
     "data": {
      "text/plain": [
       "<__main__.DerivedFromFlex at 0x18d8bfa4550>"
      ]
     },
     "execution_count": 128,
     "metadata": {},
     "output_type": "execute_result"
    }
   ],
   "source": [
    "DerivedFromFlex(3, 4)"
   ]
  },
  {
   "cell_type": "markdown",
   "id": "6d2a26ed-dc2a-44ca-a5ca-94049768126d",
   "metadata": {},
   "source": [
    "## When `__init__` is/isn't called after `__new__`"
   ]
  },
  {
   "cell_type": "markdown",
   "id": "2f9c747f-3a1d-489c-b177-6561c13e3f96",
   "metadata": {},
   "source": [
    "When a class is called, the logic of `type.__call__` (which, at least in CPython, is actually implemented in C) runs. That logic is **approximately** as follows:"
   ]
  },
  {
   "cell_type": "markdown",
   "id": "7f6b6393-b138-4501-822e-bdd7d92f7435",
   "metadata": {},
   "source": [
    "```python\n",
    "class type:\n",
    "    ...\n",
    "    \n",
    "    # This is an instance method of type, so self is a class.\n",
    "    def __call__(self, *args, **kwargs):\n",
    "        instance = self.__new__(self, *args, **kwargs)\n",
    "        if isinstance(instance, self):\n",
    "            instance.__init__(*args, **kwargs)\n",
    "        return instance\n",
    "    \n",
    "    ...\n",
    "```"
   ]
  },
  {
   "cell_type": "markdown",
   "id": "71126c45-f781-4462-86af-a4fc2408b1d9",
   "metadata": {},
   "source": [
    "That is, when you call a class:\n",
    "\n",
    "1. **`__new__` is called on the class.** If the class does not override `__new__`, an inherited implementation is selected (often `object.__new__`).\n",
    "\n",
    "   Any arguments you passed when calling the class are forwarded to `__new__` in this call.\n",
    "\n",
    "2. **If the returned object is really a (direct or indirect) instance of the class you called**, `__init__` is called *on* that object.\n",
    "\n",
    "   Any arguments you passed when calling the class are forwarded to `__init__` in this call.\n",
    "\n",
    "3. The object returned by `__new__`, whether or not `__init__` was subsequently called on it, is returned.\n",
    "\n",
    "Of course, if an exception is raised at any point, then that is propagated to the caller."
   ]
  },
  {
   "cell_type": "markdown",
   "id": "7d5afe45-8d94-4a5c-91df-cbfe5f9f2a6b",
   "metadata": {},
   "source": [
    "There is actually a bit more to it. Mainly:\n",
    "\n",
    "- The instance check is somewhat less dynamic than `isinstance` would do. For example, if `__new__` returns an object that is only an instance of the class you called because its type was registered as a virtual subclass of it, `__init__` is not called (nor would you probably want it to be).\n",
    "\n",
    "- If `__init__` is called and returns any object other than `None`, then `TypeError` is raised, since that is always a bug. (`__init__` is conceptually \"void.\" It should implicitly return `None`.)"
   ]
  },
  {
   "cell_type": "markdown",
   "id": "e3e65735-ad43-46e9-9f97-1d723ee8a8a1",
   "metadata": {},
   "source": [
    "Also, remember that a metaclass can customize this behavior by overriding `__call__`. This is fairly uncommon, but an example of it is `enum.EnumMeta`, the metaclass of `enum.Enum`."
   ]
  },
  {
   "cell_type": "markdown",
   "id": "e66ff93c-a5ec-408f-8c1f-3472e9d104b9",
   "metadata": {},
   "source": [
    "## `__new__` returning existing instances: Is it okay?"
   ]
  },
  {
   "cell_type": "markdown",
   "id": "0ea75ff0-1825-4a6f-ab6e-1015173315ff",
   "metadata": {},
   "source": [
    "An attempt to construct an object, whether by the usual means of calling the class or by other means, may return an existing object so long as doing so is consistent with all guarantees and reasonable expectations.\n",
    "\n",
    "**When a type is mutable**&mdash;in the sense that its instances hold state that is permitted to change and that, if it changes, can cause formerly equal instances to become unequal&mdash;you **must not** have `__new__` return an existing instance on construction. For example, calling `list` is guaranteed to always give a new list&mdash;as is a list display like `[1, 2, 3]`. In contrast, `tuple` may hand us back an instance that already existed, and evaluating `(1, 2, 3)` twice may give us the same `tuple` object or different ones (that are equal).\n",
    "\n",
    "**When a type's instances otherwise hold mutable state that is assumed separate**, then you likewise **must not** have `__new__` return an existing instance. For example, iterators almost always use reference-based equality comparison, and as such, their *value* never changes. But the whole point of an iterator is that it represents a particular step in a specific ongoing process of iteration: it keeps track of *where*, in the (eager or lazy) collection being iterated through, it currently is. So the basic documented guarantees about how to use an iterator would break if code that tries to construct an new iterator instead receives an existing iterator instance.\n",
    "\n",
    "**Otherwise, it is usually acceptable** to have `__new__` return an existing instance instead of constructing a new one. Usually, this would only be an optimization, and it is not usually worthwhile. But sometimes there is a benefit, and sometimes you even want to allow the caller to rely on extra instances not being created."
   ]
  },
  {
   "cell_type": "markdown",
   "id": "c6479098-cb30-40f6-84d6-13239504b422",
   "metadata": {},
   "source": [
    "## `__new__` returning existing instances: Cases"
   ]
  },
  {
   "cell_type": "markdown",
   "id": "45c90a5e-0f56-44a7-b01c-c086f14bc39f",
   "metadata": {},
   "source": [
    "The above addresses when it is *permitted* to have `__new__` return an existing instance, in the sense of when it is *not guaranteed to be a severe design bug to do so.* But that does not address the details of when, in practice, we tend to consider it. Note that we don't usually bother with this, and in most situations it would either be unnecessary overkill or (due to the considerations discussed above) outright wrong."
   ]
  },
  {
   "cell_type": "markdown",
   "id": "b96444cf-d3c6-4dc5-97d2-4f736b9d3601",
   "metadata": {},
   "source": [
    "There are a few major situations where we may decide to have `__new__` return objects that it did not actually cause to be newly constructed, but instead that existed previously.\n",
    "\n",
    "#### 1. From the arguments to `__new__`\n",
    "\n",
    "The exact object that should be returned, instead of constructing a new one, is immediately known from, or can be efficiently determined just by looking at, *the argument(s) to the call*&mdash;without having to check a cache of instances or other global state.\n",
    "\n",
    "There are typically no disadvantages or complexities associated with concurrency, in these cases.\n",
    "\n",
    "`decorators.linear_combinable` is an example of this technique: when the argument passed to `linear_combinable` is itself an instance of `linear_combinable`, there is no need to actually construct a new instance.\n",
    "\n",
    "#### 2. A fixed number of stored instances, permanent once created\n",
    "\n",
    "We intend that only a small number of instances are ever created and none need ever be destroyed. We create them all immediately (eager), or we create them on demand (lazy), and we keep track of them in state within or accessible from the class, usually in class attributes but occasionally in some (other) data structure.\n",
    "\n",
    "When allowing instances to be *lazily* constructed&mdash;rather than constructing them at the time (or immediately after) the class is created&mdash;we must consider concurrency implications.\n",
    "\n",
    "Singletons (see shortly below) and enumerations are examples of this technique.\n",
    "\n",
    "#### 3. Unlimited, with weak caching\n",
    "\n",
    "Many instances may be created, and are also allowed to be destroyed (that is, garbage collected). But we decide that multiple instances that have the same value (that is, that would be equal) should not exist at the same time&mdash;and that, whenever that *would* happen, the appropriate existing instance should be returned instead of creating a new one.\n",
    "\n",
    "This technique requires that we keep track of our instances, *but with a light touch*: without preventing them from being garbage collected.\n",
    "\n",
    "Concurrency implications must always be considered when applying this technique. If multiple threads may use the type (which in many applications, and especially in reusable libraries, is likely), then special efforts must be undertaken to ensure thread-safety. If performance is the goal of using this technique, then considerable effort may be needed to balance the goals of efficiency and thread-safety. Sometimes this will end up being an unsuitable technique, for that reason.\n",
    "\n",
    "The most impressively useful application of this technique is [hash consing](https://en.wikipedia.org/wiki/Hash_consing), which can substantially improve space usage and running times of some recursive data structures such as trees, by ensuring that shared substructures (e.g., subtrees) are *always* reused, typically even across conceptually unrelated occurrences of the data structure. Hash consing may be viewed as a (particularly powerful) form of memoization. Of course, this is still only acceptable if the data structures are immutable: if mutable trees shared a subtree, then modifying one tree would inadvertently modify the other.\n",
    "\n",
    "**FIXME**: Implement `greet.UniqueGreeter` and `sll.HashNode` (in that order). After doing so, remove this FIXME but briefly mention them in appropriate places in the preceding text."
   ]
  },
  {
   "cell_type": "markdown",
   "id": "cc927f08-1d75-4e54-92bf-8cc03412a2ee",
   "metadata": {},
   "source": [
    "## Singletons"
   ]
  },
  {
   "cell_type": "markdown",
   "id": "bef86810-76d3-4fae-8081-0d58526b96a4",
   "metadata": {},
   "source": [
    "With `__new__`, we can make a class that is limited to (at most) one instance."
   ]
  },
  {
   "cell_type": "code",
   "execution_count": 129,
   "id": "1f61eb0c-4f8c-4121-a9b7-15050adf5e17",
   "metadata": {},
   "outputs": [],
   "source": [
    "class Singleton:\n",
    "    \"\"\"Lazy implementation of the singleton pattern. Not thread-safe.\"\"\"\n",
    "    \n",
    "    _instance = None\n",
    "    \n",
    "    def __new__(cls): \n",
    "        if cls._instance is None: \n",
    "            cls._instance = super().__new__(cls)\n",
    "        return cls._instance"
   ]
  },
  {
   "cell_type": "code",
   "execution_count": 130,
   "id": "e3f9d433-fd9e-4c5c-a038-7b11ec3a3c96",
   "metadata": {},
   "outputs": [],
   "source": [
    "a = Singleton()"
   ]
  },
  {
   "cell_type": "code",
   "execution_count": 131,
   "id": "0d64f2f3-3bd7-42bd-9538-c7003680d988",
   "metadata": {},
   "outputs": [],
   "source": [
    "b = Singleton()"
   ]
  },
  {
   "cell_type": "code",
   "execution_count": 132,
   "id": "f83df0ad-7054-4a2c-9e33-3803399bd237",
   "metadata": {},
   "outputs": [
    {
     "data": {
      "text/plain": [
       "True"
      ]
     },
     "execution_count": 132,
     "metadata": {},
     "output_type": "execute_result"
    }
   ],
   "source": [
    "a is b"
   ]
  },
  {
   "cell_type": "code",
   "execution_count": 133,
   "id": "9f4c9102-ddb1-43ee-8648-14c689805e1d",
   "metadata": {},
   "outputs": [],
   "source": [
    "c = Singleton()"
   ]
  },
  {
   "cell_type": "code",
   "execution_count": 134,
   "id": "de5d0bed-91d1-4957-b344-b86fbe8e4878",
   "metadata": {},
   "outputs": [
    {
     "data": {
      "text/plain": [
       "True"
      ]
     },
     "execution_count": 134,
     "metadata": {},
     "output_type": "execute_result"
    }
   ],
   "source": [
    "c is a"
   ]
  },
  {
   "cell_type": "code",
   "execution_count": 135,
   "id": "5873ff11-6d76-4250-bc37-f7a32b6ebe58",
   "metadata": {},
   "outputs": [
    {
     "data": {
      "text/plain": [
       "<__main__.EagerSingleton at 0x18d8bcb3d90>"
      ]
     },
     "execution_count": 135,
     "metadata": {},
     "output_type": "execute_result"
    }
   ],
   "source": [
    "class EagerSingleton:\n",
    "    \"\"\"Eager implementation of the singleton pattern. Thread safe.\"\"\"\n",
    "    \n",
    "    _instance = None\n",
    "    \n",
    "    def __new__(cls): \n",
    "        if cls._instance is None: \n",
    "            cls._instance = super().__new__(cls)\n",
    "        return cls._instance\n",
    "    \n",
    "EagerSingleton()  # __new__ assigns to class attribute"
   ]
  },
  {
   "cell_type": "code",
   "execution_count": 136,
   "id": "00eb2084-aef3-450c-b2a3-062153c8bfb9",
   "metadata": {},
   "outputs": [
    {
     "data": {
      "text/plain": [
       "True"
      ]
     },
     "execution_count": 136,
     "metadata": {},
     "output_type": "execute_result"
    }
   ],
   "source": [
    "a = EagerSingleton()\n",
    "b = EagerSingleton()\n",
    "a is b "
   ]
  },
  {
   "cell_type": "code",
   "execution_count": 137,
   "id": "93a79e90-5d04-469c-a5c2-06520b174410",
   "metadata": {},
   "outputs": [
    {
     "data": {
      "text/plain": [
       "<__main__.EagerSingletonExplicit at 0x18d8bcb13f0>"
      ]
     },
     "execution_count": 137,
     "metadata": {},
     "output_type": "execute_result"
    }
   ],
   "source": [
    "class EagerSingletonExplicit:\n",
    "    \"\"\"Eager implementation of the singleton pattern. Thread safe.\"\"\"\n",
    "    \n",
    "    _instance = None\n",
    "    \n",
    "    def __new__(cls): \n",
    "        if cls._instance is None: \n",
    "            cls._instance = super(EagerSingletonExplicit, cls).__new__(cls)\n",
    "        return cls._instance\n",
    "    \n",
    "EagerSingletonExplicit()  # __new__ assigns to class attribute"
   ]
  },
  {
   "cell_type": "code",
   "execution_count": 138,
   "id": "e2bb811d-3c78-42aa-8215-0ddcae5a46cc",
   "metadata": {},
   "outputs": [
    {
     "data": {
      "text/plain": [
       "True"
      ]
     },
     "execution_count": 138,
     "metadata": {},
     "output_type": "execute_result"
    }
   ],
   "source": [
    "a = EagerSingletonExplicit()\n",
    "b = EagerSingletonExplicit()\n",
    "a is b "
   ]
  },
  {
   "cell_type": "code",
   "execution_count": 139,
   "id": "2825d5cb-b19e-4d64-8c54-e28d9614cccf",
   "metadata": {},
   "outputs": [],
   "source": [
    "class EagerSingletonAlt: \n",
    "    \"\"\"Alternate eager implementation of the singleton pattern. Thread safe.\"\"\"\n",
    "    \n",
    "    def __new__(cls): \n",
    "        return cls._instance\n",
    "\n",
    "EagerSingletonAlt._instance = super(EagerSingletonAlt, EagerSingletonAlt).__new__(EagerSingletonAlt)"
   ]
  },
  {
   "cell_type": "code",
   "execution_count": 140,
   "id": "abdcd345-6669-4840-86d9-326a7bb30290",
   "metadata": {},
   "outputs": [
    {
     "data": {
      "text/plain": [
       "True"
      ]
     },
     "execution_count": 140,
     "metadata": {},
     "output_type": "execute_result"
    }
   ],
   "source": [
    "a = EagerSingletonAlt()\n",
    "b = EagerSingletonAlt()\n",
    "a is b "
   ]
  },
  {
   "cell_type": "code",
   "execution_count": 141,
   "id": "09e7df60-57f9-4541-a481-ba49adcf6e70",
   "metadata": {},
   "outputs": [],
   "source": [
    "class EagerSingletonAltNoSuper: \n",
    "    \"\"\"Alternate eager implementation of the singleton pattern. Thread safe.\"\"\"\n",
    "    \n",
    "    def __new__(cls): \n",
    "        return cls._instance\n",
    "\n",
    "# We know there is exactly one direct base class, object.\n",
    "EagerSingletonAltNoSuper._instance = object.__new__(EagerSingletonAltNoSuper)"
   ]
  },
  {
   "cell_type": "code",
   "execution_count": 142,
   "id": "ad01b6e8-ad1d-4b47-a3b6-d7f92d95fdfe",
   "metadata": {},
   "outputs": [
    {
     "data": {
      "text/plain": [
       "True"
      ]
     },
     "execution_count": 142,
     "metadata": {},
     "output_type": "execute_result"
    }
   ],
   "source": [
    "a = EagerSingletonAltNoSuper()\n",
    "b = EagerSingletonAltNoSuper()\n",
    "a is b "
   ]
  },
  {
   "cell_type": "markdown",
   "id": "bf829d26-4416-4157-8b0e-f5632ea4d1ab",
   "metadata": {},
   "source": [
    "## Singleton pattern with locking"
   ]
  },
  {
   "cell_type": "code",
   "execution_count": 143,
   "id": "f70b2484-dc68-43de-8120-01197d053a03",
   "metadata": {},
   "outputs": [],
   "source": [
    "from threading import Lock"
   ]
  },
  {
   "cell_type": "code",
   "execution_count": 144,
   "id": "b9104682-1175-4b40-91fe-2d0d33c92c1b",
   "metadata": {},
   "outputs": [],
   "source": [
    "class SingletonSafe:\n",
    "    \"\"\"Lazy thread-safe implementation of the singleton pattern.\"\"\"\n",
    "    \n",
    "    _lock = Lock()\n",
    "    _instance = None\n",
    "    \n",
    "    def __new__(cls): \n",
    "        with cls._lock: \n",
    "            if cls._instance is None: \n",
    "                cls._instance = super().__new__(cls)\n",
    "            return cls._instance"
   ]
  },
  {
   "cell_type": "code",
   "execution_count": 145,
   "id": "6fcd12bc-e03d-4733-a124-5845096fd01b",
   "metadata": {},
   "outputs": [
    {
     "data": {
      "text/plain": [
       "True"
      ]
     },
     "execution_count": 145,
     "metadata": {},
     "output_type": "execute_result"
    }
   ],
   "source": [
    "a = SingletonSafe()\n",
    "b = SingletonSafe()\n",
    "a is b "
   ]
  },
  {
   "cell_type": "markdown",
   "id": "15484a68-13f8-4770-b3d7-be245c4ed27e",
   "metadata": {},
   "source": [
    "## The double-checked locking (anti?)pattern"
   ]
  },
  {
   "cell_type": "code",
   "execution_count": 146,
   "id": "71eae45f-7495-4431-b09d-d6f237d43e1d",
   "metadata": {},
   "outputs": [],
   "source": [
    "class SingletonDC:\n",
    "    \"\"\"Lazy thread-safe(?) implementation of the singleton pattern.\"\"\"\n",
    "    \n",
    "    _lock = Lock()\n",
    "    _instance = None\n",
    "    \n",
    "    def __new__(cls): \n",
    "        if cls._instance is None:\n",
    "            with cls._lock: \n",
    "                if cls._instance is None: \n",
    "                    cls._instance = super().__new__(cls)\n",
    "        return cls._instance"
   ]
  },
  {
   "cell_type": "code",
   "execution_count": 147,
   "id": "66f5580e-e672-4d8d-9cc9-37106cd5b994",
   "metadata": {},
   "outputs": [
    {
     "data": {
      "text/plain": [
       "True"
      ]
     },
     "execution_count": 147,
     "metadata": {},
     "output_type": "execute_result"
    }
   ],
   "source": [
    "a = SingletonDC()\n",
    "b = SingletonDC()\n",
    "a is b "
   ]
  },
  {
   "cell_type": "markdown",
   "id": "6293e702-6162-4c4a-8b55-f6cc1a26b5be",
   "metadata": {},
   "source": [
    "This need not be thread safe on all implementations:\n",
    "\n",
    "1. If binding an attribute to an object reference is not an *atomic* operation, `cls._instance` may be accessed while it is being written to, and thus not contain a valid reference to `None` or a new instance. \n",
    "\n",
    "2. Unless memory order is guaranteed between threads, the attribute `cls._instance` may contain a correct reference in memory even though the data for the instance hasn't been written yet. Then a thread may attempt to use the `SingletonDC` instance before its data are available to code on that thread.\n",
    "\n",
    "Related: https://www.cs.umd.edu/~pugh/java/memoryModel/DoubleCheckedLocking.html\n",
    "\n",
    "In CPython, however, the double-checked locking pattern is guaranteed thread-safe due to the semantics of the GIL (global interpreter lock)."
   ]
  },
  {
   "cell_type": "markdown",
   "id": "e6907f16-ea6c-414c-9b82-86c8036a4f7f",
   "metadata": {},
   "source": [
    "## Singletons and threads\n",
    "\n",
    "See `datarace.py` for a singleton example with multithreading."
   ]
  },
  {
   "cell_type": "markdown",
   "id": "6fd82319-34af-4421-8639-3fb149abe525",
   "metadata": {},
   "source": [
    "## Related meanings of \"singleton\""
   ]
  },
  {
   "cell_type": "markdown",
   "id": "d68d4f34-699e-412d-afae-28db37028c44",
   "metadata": {},
   "source": [
    "1. We are using \"singleton\" to mean a class that has at most one instance (and not by coincidence, but because the code is written in such a way as to achieve this). For example, `NoneType` (which we can get by evaluating `type(None)`) is a singleton (i.e., a singleton class).\n",
    "\n",
    "2. People sometimes use \"singleton\" to refer to the instance itself. For example, `None` is a singleton in this sense (it is a singleton object, i.e., a singleton instance, an instance of a singleton class).\n",
    "\n",
    "3. People sometimes also use \"singleton\" to refer to instances of a class that is strictly limited to a fixed number of values beforehand with exactly one instance per value. This usage is perhaps unfortunate. For example, `True` and `False` are often said to be \"singletons,\" even though they are instances of a class that is guaranteed to have exactly *two* instances."
   ]
  },
  {
   "cell_type": "markdown",
   "id": "8b55a2e9-4db1-42f5-9c31-6559395aced0",
   "metadata": {},
   "source": [
    "## Making types limited to a few instances of known values"
   ]
  },
  {
   "cell_type": "markdown",
   "id": "c3ff14d3-3e75-45ec-89a7-622442d51267",
   "metadata": {},
   "source": [
    "This is what enumerations (`enum.Enum`) are for.\n",
    "\n",
    "In this project, `enumerations.ipynb` and `enumerations.py` have general information and examples of what enumerations in Python can do. For code specific to using enumerations for something that is conceptually not just an enumerator, see `greet.EnumGreeter`."
   ]
  },
  {
   "cell_type": "markdown",
   "id": "d109470e-1f79-4868-9e34-5c6ab6204691",
   "metadata": {},
   "source": [
    "## Customizing attribute access"
   ]
  },
  {
   "cell_type": "markdown",
   "id": "12082864-e7e3-456b-8648-a66b9fe7e553",
   "metadata": {},
   "source": [
    "This is done with `__getattribute__`, `__getattr__`, `__setattr__`, and `__delattr__`.\n",
    "\n",
    "See `greet.EnumGreeter`, `decorators.linear_combinable`, and `test_context._AttributeSpy`."
   ]
  }
 ],
 "metadata": {
  "kernelspec": {
   "display_name": "Python 3 (ipykernel)",
   "language": "python",
   "name": "python3"
  },
  "language_info": {
   "codemirror_mode": {
    "name": "ipython",
    "version": 3
   },
   "file_extension": ".py",
   "mimetype": "text/x-python",
   "name": "python",
   "nbconvert_exporter": "python",
   "pygments_lexer": "ipython3",
   "version": "3.10.6"
  },
  "vscode": {
   "interpreter": {
    "hash": "7a7b42f825731c4d935f8bf006655acf84b53c1352303d13bb9aec5cb8623f97"
   }
  }
 },
 "nbformat": 4,
 "nbformat_minor": 5
}
