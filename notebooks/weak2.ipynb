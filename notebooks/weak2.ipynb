{
 "cells": [
  {
   "cell_type": "markdown",
   "id": "bcd9c1c2-e564-4884-b698-89510b5b78df",
   "metadata": {},
   "source": [
    "# Weak References - Part 2 of 2 (the weird stuff)"
   ]
  },
  {
   "cell_type": "markdown",
   "id": "d2630ff2-cbfb-4bc6-a08c-613b12b2ff48",
   "metadata": {},
   "source": [
    "## Review: Other proxy object in the standard library"
   ]
  },
  {
   "cell_type": "markdown",
   "id": "a14f48f4-ffa3-4f3f-b094-96d61b77b416",
   "metadata": {},
   "source": [
    "We've covered two other kinds of proxy objects:"
   ]
  },
  {
   "cell_type": "markdown",
   "id": "0e631e1e-63d4-461c-b11c-ee020b20e1ed",
   "metadata": {},
   "source": [
    "### Mapping proxies"
   ]
  },
  {
   "cell_type": "markdown",
   "id": "39ed6d9e-6c66-4d8e-9b96-c5bbf54c741b",
   "metadata": {},
   "source": [
    "The `__dict__` descriptor on a class returns a mapping proxy, which prohibits mutating operations such as setting a different value for a key:"
   ]
  },
  {
   "cell_type": "code",
   "execution_count": 1,
   "id": "05865555-439c-4636-860f-8d4195089919",
   "metadata": {},
   "outputs": [
    {
     "data": {
      "text/plain": [
       "mappingproxy({'__new__': <function list.__new__(*args, **kwargs)>,\n",
       "              '__repr__': <slot wrapper '__repr__' of 'list' objects>,\n",
       "              '__hash__': None,\n",
       "              '__getattribute__': <slot wrapper '__getattribute__' of 'list' objects>,\n",
       "              '__lt__': <slot wrapper '__lt__' of 'list' objects>,\n",
       "              '__le__': <slot wrapper '__le__' of 'list' objects>,\n",
       "              '__eq__': <slot wrapper '__eq__' of 'list' objects>,\n",
       "              '__ne__': <slot wrapper '__ne__' of 'list' objects>,\n",
       "              '__gt__': <slot wrapper '__gt__' of 'list' objects>,\n",
       "              '__ge__': <slot wrapper '__ge__' of 'list' objects>,\n",
       "              '__iter__': <slot wrapper '__iter__' of 'list' objects>,\n",
       "              '__init__': <slot wrapper '__init__' of 'list' objects>,\n",
       "              '__len__': <slot wrapper '__len__' of 'list' objects>,\n",
       "              '__getitem__': <method '__getitem__' of 'list' objects>,\n",
       "              '__setitem__': <slot wrapper '__setitem__' of 'list' objects>,\n",
       "              '__delitem__': <slot wrapper '__delitem__' of 'list' objects>,\n",
       "              '__add__': <slot wrapper '__add__' of 'list' objects>,\n",
       "              '__mul__': <slot wrapper '__mul__' of 'list' objects>,\n",
       "              '__rmul__': <slot wrapper '__rmul__' of 'list' objects>,\n",
       "              '__contains__': <slot wrapper '__contains__' of 'list' objects>,\n",
       "              '__iadd__': <slot wrapper '__iadd__' of 'list' objects>,\n",
       "              '__imul__': <slot wrapper '__imul__' of 'list' objects>,\n",
       "              '__reversed__': <method '__reversed__' of 'list' objects>,\n",
       "              '__sizeof__': <method '__sizeof__' of 'list' objects>,\n",
       "              'clear': <method 'clear' of 'list' objects>,\n",
       "              'copy': <method 'copy' of 'list' objects>,\n",
       "              'append': <method 'append' of 'list' objects>,\n",
       "              'insert': <method 'insert' of 'list' objects>,\n",
       "              'extend': <method 'extend' of 'list' objects>,\n",
       "              'pop': <method 'pop' of 'list' objects>,\n",
       "              'remove': <method 'remove' of 'list' objects>,\n",
       "              'index': <method 'index' of 'list' objects>,\n",
       "              'count': <method 'count' of 'list' objects>,\n",
       "              'reverse': <method 'reverse' of 'list' objects>,\n",
       "              'sort': <method 'sort' of 'list' objects>,\n",
       "              '__class_getitem__': <method '__class_getitem__' of 'list' objects>,\n",
       "              '__doc__': 'Built-in mutable sequence.\\n\\nIf no argument is given, the constructor creates a new empty list.\\nThe argument must be an iterable if specified.'})"
      ]
     },
     "execution_count": 1,
     "metadata": {},
     "output_type": "execute_result"
    }
   ],
   "source": [
    "list.__dict__"
   ]
  },
  {
   "cell_type": "markdown",
   "id": "aeeceb9b-dd97-4263-a12f-2f94b0aed4eb",
   "metadata": {},
   "source": [
    "We can also construct mapping proxies explicitly using the convenient `MappingProxyType` alias in the `types` module."
   ]
  },
  {
   "cell_type": "code",
   "execution_count": 2,
   "id": "642f79b5-c0d4-42f1-bb7e-00ac3ce1a044",
   "metadata": {},
   "outputs": [],
   "source": [
    "import types"
   ]
  },
  {
   "cell_type": "code",
   "execution_count": 3,
   "id": "1eae33c1-079a-404a-b270-ec0a23238f01",
   "metadata": {},
   "outputs": [
    {
     "data": {
      "text/plain": [
       "['AsyncGeneratorType',\n",
       " 'BuiltinFunctionType',\n",
       " 'BuiltinMethodType',\n",
       " 'CellType',\n",
       " 'ClassMethodDescriptorType',\n",
       " 'CodeType',\n",
       " 'CoroutineType',\n",
       " 'DynamicClassAttribute',\n",
       " 'EllipsisType',\n",
       " 'FrameType',\n",
       " 'FunctionType',\n",
       " 'GeneratorType',\n",
       " 'GenericAlias',\n",
       " 'GetSetDescriptorType',\n",
       " 'LambdaType',\n",
       " 'MappingProxyType',\n",
       " 'MemberDescriptorType',\n",
       " 'MethodDescriptorType',\n",
       " 'MethodType',\n",
       " 'MethodWrapperType',\n",
       " 'ModuleType',\n",
       " 'NoneType',\n",
       " 'NotImplementedType',\n",
       " 'SimpleNamespace',\n",
       " 'TracebackType',\n",
       " 'UnionType',\n",
       " 'WrapperDescriptorType',\n",
       " '_GeneratorWrapper',\n",
       " '__all__',\n",
       " '__builtins__',\n",
       " '__cached__',\n",
       " '__doc__',\n",
       " '__file__',\n",
       " '__loader__',\n",
       " '__name__',\n",
       " '__package__',\n",
       " '__spec__',\n",
       " '_calculate_meta',\n",
       " '_cell_factory',\n",
       " 'coroutine',\n",
       " 'new_class',\n",
       " 'prepare_class',\n",
       " 'resolve_bases']"
      ]
     },
     "execution_count": 3,
     "metadata": {},
     "output_type": "execute_result"
    }
   ],
   "source": [
    "dir(types)"
   ]
  },
  {
   "cell_type": "code",
   "execution_count": 4,
   "id": "47a0b494-0203-4b1a-af42-1cfc2fe5313c",
   "metadata": {},
   "outputs": [
    {
     "name": "stdout",
     "output_type": "stream",
     "text": [
      "Help on class mappingproxy in module builtins:\n",
      "\n",
      "class mappingproxy(object)\n",
      " |  Methods defined here:\n",
      " |  \n",
      " |  __contains__(self, key, /)\n",
      " |      Return key in self.\n",
      " |  \n",
      " |  __eq__(self, value, /)\n",
      " |      Return self==value.\n",
      " |  \n",
      " |  __ge__(self, value, /)\n",
      " |      Return self>=value.\n",
      " |  \n",
      " |  __getattribute__(self, name, /)\n",
      " |      Return getattr(self, name).\n",
      " |  \n",
      " |  __getitem__(self, key, /)\n",
      " |      Return self[key].\n",
      " |  \n",
      " |  __gt__(self, value, /)\n",
      " |      Return self>value.\n",
      " |  \n",
      " |  __ior__(self, value, /)\n",
      " |      Return self|=value.\n",
      " |  \n",
      " |  __iter__(self, /)\n",
      " |      Implement iter(self).\n",
      " |  \n",
      " |  __le__(self, value, /)\n",
      " |      Return self<=value.\n",
      " |  \n",
      " |  __len__(self, /)\n",
      " |      Return len(self).\n",
      " |  \n",
      " |  __lt__(self, value, /)\n",
      " |      Return self<value.\n",
      " |  \n",
      " |  __ne__(self, value, /)\n",
      " |      Return self!=value.\n",
      " |  \n",
      " |  __or__(self, value, /)\n",
      " |      Return self|value.\n",
      " |  \n",
      " |  __repr__(self, /)\n",
      " |      Return repr(self).\n",
      " |  \n",
      " |  __reversed__(...)\n",
      " |      D.__reversed__() -> reverse iterator\n",
      " |  \n",
      " |  __ror__(self, value, /)\n",
      " |      Return value|self.\n",
      " |  \n",
      " |  __str__(self, /)\n",
      " |      Return str(self).\n",
      " |  \n",
      " |  copy(...)\n",
      " |      D.copy() -> a shallow copy of D\n",
      " |  \n",
      " |  get(...)\n",
      " |      D.get(k[,d]) -> D[k] if k in D, else d.  d defaults to None.\n",
      " |  \n",
      " |  items(...)\n",
      " |      D.items() -> a set-like object providing a view on D's items\n",
      " |  \n",
      " |  keys(...)\n",
      " |      D.keys() -> a set-like object providing a view on D's keys\n",
      " |  \n",
      " |  values(...)\n",
      " |      D.values() -> an object providing a view on D's values\n",
      " |  \n",
      " |  ----------------------------------------------------------------------\n",
      " |  Class methods defined here:\n",
      " |  \n",
      " |  __class_getitem__(...) from builtins.type\n",
      " |      See PEP 585\n",
      " |  \n",
      " |  ----------------------------------------------------------------------\n",
      " |  Static methods defined here:\n",
      " |  \n",
      " |  __new__(*args, **kwargs) from builtins.type\n",
      " |      Create and return a new object.  See help(type) for accurate signature.\n",
      " |  \n",
      " |  ----------------------------------------------------------------------\n",
      " |  Data and other attributes defined here:\n",
      " |  \n",
      " |  __hash__ = None\n",
      "\n"
     ]
    }
   ],
   "source": [
    "help(types.MappingProxyType)"
   ]
  },
  {
   "cell_type": "code",
   "execution_count": 5,
   "id": "33038478-6e3f-4a5a-af32-6c65a318ab86",
   "metadata": {},
   "outputs": [],
   "source": [
    "d = {1: 1, 2: 2, 3: 3}"
   ]
  },
  {
   "cell_type": "code",
   "execution_count": 6,
   "id": "fc19371a-7f31-4d03-bbaa-04872c5f0dd7",
   "metadata": {},
   "outputs": [],
   "source": [
    "md = types.MappingProxyType(d)"
   ]
  },
  {
   "cell_type": "code",
   "execution_count": 7,
   "id": "6031d2ac-126b-4064-92d9-7ac0e4404e6e",
   "metadata": {},
   "outputs": [
    {
     "data": {
      "text/plain": [
       "mappingproxy({1: 1, 2: 2, 3: 3})"
      ]
     },
     "execution_count": 7,
     "metadata": {},
     "output_type": "execute_result"
    }
   ],
   "source": [
    "md "
   ]
  },
  {
   "cell_type": "code",
   "execution_count": 8,
   "id": "643f47b7-c185-48a0-bcfe-ae080681fb1e",
   "metadata": {},
   "outputs": [
    {
     "data": {
      "text/plain": [
       "2"
      ]
     },
     "execution_count": 8,
     "metadata": {},
     "output_type": "execute_result"
    }
   ],
   "source": [
    "md[2]"
   ]
  },
  {
   "cell_type": "code",
   "execution_count": 9,
   "id": "ec00f2f7-4c37-4059-94d0-d3fdbf1fd743",
   "metadata": {
    "tags": [
     "raises-exception"
    ]
   },
   "outputs": [
    {
     "ename": "TypeError",
     "evalue": "'mappingproxy' object does not support item assignment",
     "output_type": "error",
     "traceback": [
      "\u001b[1;31m---------------------------------------------------------------------------\u001b[0m",
      "\u001b[1;31mTypeError\u001b[0m                                 Traceback (most recent call last)",
      "Cell \u001b[1;32mIn [9], line 1\u001b[0m\n\u001b[1;32m----> 1\u001b[0m \u001b[43mmd\u001b[49m\u001b[43m[\u001b[49m\u001b[38;5;241;43m2\u001b[39;49m\u001b[43m]\u001b[49m \u001b[38;5;241m=\u001b[39m \u001b[38;5;241m3\u001b[39m\n",
      "\u001b[1;31mTypeError\u001b[0m: 'mappingproxy' object does not support item assignment"
     ]
    }
   ],
   "source": [
    "md[2] = 3"
   ]
  },
  {
   "cell_type": "code",
   "execution_count": 10,
   "id": "66e0debf-a442-41a6-9d2b-3de8f2a3c3c2",
   "metadata": {},
   "outputs": [],
   "source": [
    "d[2] = 4"
   ]
  },
  {
   "cell_type": "code",
   "execution_count": 11,
   "id": "a3b29ee6-5a76-45ba-9871-1e5fd665dd81",
   "metadata": {},
   "outputs": [
    {
     "data": {
      "text/plain": [
       "4"
      ]
     },
     "execution_count": 11,
     "metadata": {},
     "output_type": "execute_result"
    }
   ],
   "source": [
    "md[2]  # It's a proxy, so it reflects changes to the object \"behind\" it."
   ]
  },
  {
   "cell_type": "markdown",
   "id": "ccf58d46-8c7c-4478-9970-12a4451d4d71",
   "metadata": {},
   "source": [
    "### `super` proxies"
   ]
  },
  {
   "cell_type": "code",
   "execution_count": 12,
   "id": "c9c3881a-8132-4a81-8ba5-145aa1cf997a",
   "metadata": {},
   "outputs": [],
   "source": [
    "class Base: \n",
    "    def f(self):\n",
    "        print(\"Base.f\")"
   ]
  },
  {
   "cell_type": "code",
   "execution_count": 13,
   "id": "99097637-ab91-45a2-9608-af8043822432",
   "metadata": {},
   "outputs": [],
   "source": [
    "class Derived(Base): \n",
    "    def f(self): \n",
    "        print(\"Derived.f\")\n",
    "        super().f()"
   ]
  },
  {
   "cell_type": "code",
   "execution_count": 14,
   "id": "eb02764b-028f-4da7-8b99-54e8cb3b0808",
   "metadata": {},
   "outputs": [
    {
     "name": "stdout",
     "output_type": "stream",
     "text": [
      "Derived.f\n",
      "Base.f\n"
     ]
    }
   ],
   "source": [
    "Derived().f()"
   ]
  },
  {
   "cell_type": "markdown",
   "id": "8197689a-2d78-484a-b4c5-3707d19fb278",
   "metadata": {},
   "source": [
    "## Weak reference proxies"
   ]
  },
  {
   "cell_type": "code",
   "execution_count": 15,
   "id": "43c7bbfc-b609-46fc-83d4-c95f41070c8b",
   "metadata": {},
   "outputs": [],
   "source": [
    "import weakref"
   ]
  },
  {
   "cell_type": "code",
   "execution_count": 16,
   "id": "134f5b41-38c2-4a7d-8d68-680293846b6a",
   "metadata": {},
   "outputs": [],
   "source": [
    "class C: \n",
    "    def __init__(self): \n",
    "        self.a = 'a'\n",
    "        self.b = 'b'"
   ]
  },
  {
   "cell_type": "code",
   "execution_count": 17,
   "id": "c66b49c1-7f73-4855-8244-d5cf7fe39b5f",
   "metadata": {},
   "outputs": [],
   "source": [
    "c = C()"
   ]
  },
  {
   "cell_type": "code",
   "execution_count": 18,
   "id": "b4c2d570-ed69-4064-9634-93d82f08f9c4",
   "metadata": {},
   "outputs": [],
   "source": [
    "wcsimple = weakref.proxy(c)"
   ]
  },
  {
   "cell_type": "code",
   "execution_count": 19,
   "id": "dfeeee64-4167-4e5a-8fa1-3883fababd53",
   "metadata": {},
   "outputs": [
    {
     "data": {
      "text/plain": [
       "'a'"
      ]
     },
     "execution_count": 19,
     "metadata": {},
     "output_type": "execute_result"
    }
   ],
   "source": [
    "c.a"
   ]
  },
  {
   "cell_type": "code",
   "execution_count": 20,
   "id": "5810db40-c1e6-4d1a-b19e-77022f1ca21d",
   "metadata": {},
   "outputs": [
    {
     "data": {
      "text/plain": [
       "'a'"
      ]
     },
     "execution_count": 20,
     "metadata": {},
     "output_type": "execute_result"
    }
   ],
   "source": [
    "wcsimple.a"
   ]
  },
  {
   "cell_type": "code",
   "execution_count": 21,
   "id": "9053c780-cbf9-4723-bf66-2db408e0af38",
   "metadata": {},
   "outputs": [],
   "source": [
    "del c"
   ]
  },
  {
   "cell_type": "code",
   "execution_count": 22,
   "id": "9dec2a33-e147-49bb-9fe6-8be12227aad5",
   "metadata": {
    "tags": [
     "raises-exception"
    ]
   },
   "outputs": [
    {
     "ename": "ReferenceError",
     "evalue": "weakly-referenced object no longer exists",
     "output_type": "error",
     "traceback": [
      "\u001b[1;31m---------------------------------------------------------------------------\u001b[0m",
      "\u001b[1;31mReferenceError\u001b[0m                            Traceback (most recent call last)",
      "Cell \u001b[1;32mIn [22], line 1\u001b[0m\n\u001b[1;32m----> 1\u001b[0m \u001b[43mwcsimple\u001b[49m\u001b[38;5;241;43m.\u001b[39;49m\u001b[43ma\u001b[49m\n",
      "\u001b[1;31mReferenceError\u001b[0m: weakly-referenced object no longer exists"
     ]
    }
   ],
   "source": [
    "wcsimple.a"
   ]
  },
  {
   "cell_type": "code",
   "execution_count": 23,
   "id": "668abfa6-b6a6-4314-9d52-7b212cc07a9d",
   "metadata": {},
   "outputs": [],
   "source": [
    "c = C()"
   ]
  },
  {
   "cell_type": "code",
   "execution_count": 24,
   "id": "48d814c1-3929-48b7-9c1a-addbadadfe50",
   "metadata": {},
   "outputs": [
    {
     "data": {
      "text/plain": [
       "'a'"
      ]
     },
     "execution_count": 24,
     "metadata": {},
     "output_type": "execute_result"
    }
   ],
   "source": [
    "c.a"
   ]
  },
  {
   "cell_type": "code",
   "execution_count": 25,
   "id": "c0c7f8d6-3b73-48cb-803c-8923f779ee94",
   "metadata": {},
   "outputs": [],
   "source": [
    "wc = weakref.proxy(c, lambda x: print(f\"{x}'s referant has died.\"))"
   ]
  },
  {
   "cell_type": "code",
   "execution_count": 26,
   "id": "fd3352eb-46ea-4a8a-b5ad-44577d6f0908",
   "metadata": {},
   "outputs": [
    {
     "data": {
      "text/plain": [
       "<__main__.C at 0x25b3245e8e0>"
      ]
     },
     "execution_count": 26,
     "metadata": {},
     "output_type": "execute_result"
    }
   ],
   "source": [
    "wc"
   ]
  },
  {
   "cell_type": "code",
   "execution_count": 27,
   "id": "71ae554d-b920-4164-8f18-15ff8abf34c6",
   "metadata": {},
   "outputs": [
    {
     "data": {
      "text/plain": [
       "'a'"
      ]
     },
     "execution_count": 27,
     "metadata": {},
     "output_type": "execute_result"
    }
   ],
   "source": [
    "wc.a"
   ]
  },
  {
   "cell_type": "code",
   "execution_count": 28,
   "id": "887cbd8d-5d85-41db-888d-d01bd43e46a2",
   "metadata": {},
   "outputs": [
    {
     "name": "stderr",
     "output_type": "stream",
     "text": [
      "Exception ignored in: <function <lambda> at 0x0000025B3246A7A0>\n",
      "Traceback (most recent call last):\n",
      "  File \"C:\\Users\\User\\AppData\\Local\\Temp\\ipykernel_17504\\3266874697.py\", line 1, in <lambda>\n",
      "ReferenceError: weakly-referenced object no longer exists\n"
     ]
    }
   ],
   "source": [
    "del c"
   ]
  },
  {
   "cell_type": "code",
   "execution_count": 30,
   "id": "95b99bb1-6836-4672-9854-754078c03f82",
   "metadata": {
    "tags": [
     "raises-exception"
    ]
   },
   "outputs": [
    {
     "ename": "ReferenceError",
     "evalue": "weakly-referenced object no longer exists",
     "output_type": "error",
     "traceback": [
      "\u001b[1;31m---------------------------------------------------------------------------\u001b[0m",
      "\u001b[1;31mReferenceError\u001b[0m                            Traceback (most recent call last)",
      "File \u001b[1;32m~\\miniforge3\\envs\\algoviz\\Lib\\site-packages\\IPython\\core\\interactiveshell.py:3234\u001b[0m, in \u001b[0;36mInteractiveShell.transform_cell\u001b[1;34m(self, raw_cell)\u001b[0m\n\u001b[0;32m   3229\u001b[0m \u001b[38;5;28;01mif\u001b[39;00m \u001b[38;5;28mlen\u001b[39m(cell\u001b[38;5;241m.\u001b[39msplitlines()) \u001b[38;5;241m==\u001b[39m \u001b[38;5;241m1\u001b[39m:\n\u001b[0;32m   3230\u001b[0m     \u001b[38;5;66;03m# Dynamic transformations - only applied for single line commands\u001b[39;00m\n\u001b[0;32m   3231\u001b[0m     \u001b[38;5;28;01mwith\u001b[39;00m \u001b[38;5;28mself\u001b[39m\u001b[38;5;241m.\u001b[39mbuiltin_trap:\n\u001b[0;32m   3232\u001b[0m         \u001b[38;5;66;03m# use prefilter_lines to handle trailing newlines\u001b[39;00m\n\u001b[0;32m   3233\u001b[0m         \u001b[38;5;66;03m# restore trailing newline for ast.parse\u001b[39;00m\n\u001b[1;32m-> 3234\u001b[0m         cell \u001b[38;5;241m=\u001b[39m \u001b[38;5;28;43mself\u001b[39;49m\u001b[38;5;241;43m.\u001b[39;49m\u001b[43mprefilter_manager\u001b[49m\u001b[38;5;241;43m.\u001b[39;49m\u001b[43mprefilter_lines\u001b[49m\u001b[43m(\u001b[49m\u001b[43mcell\u001b[49m\u001b[43m)\u001b[49m \u001b[38;5;241m+\u001b[39m \u001b[38;5;124m'\u001b[39m\u001b[38;5;130;01m\\n\u001b[39;00m\u001b[38;5;124m'\u001b[39m\n\u001b[0;32m   3236\u001b[0m lines \u001b[38;5;241m=\u001b[39m cell\u001b[38;5;241m.\u001b[39msplitlines(keepends\u001b[38;5;241m=\u001b[39m\u001b[38;5;28;01mTrue\u001b[39;00m)\n\u001b[0;32m   3237\u001b[0m \u001b[38;5;28;01mfor\u001b[39;00m transform \u001b[38;5;129;01min\u001b[39;00m \u001b[38;5;28mself\u001b[39m\u001b[38;5;241m.\u001b[39minput_transformers_post:\n",
      "File \u001b[1;32m~\\miniforge3\\envs\\algoviz\\Lib\\site-packages\\IPython\\core\\prefilter.py:327\u001b[0m, in \u001b[0;36mPrefilterManager.prefilter_lines\u001b[1;34m(self, lines, continue_prompt)\u001b[0m\n\u001b[0;32m    324\u001b[0m     out \u001b[38;5;241m=\u001b[39m \u001b[38;5;124m'\u001b[39m\u001b[38;5;130;01m\\n\u001b[39;00m\u001b[38;5;124m'\u001b[39m\u001b[38;5;241m.\u001b[39mjoin([\u001b[38;5;28mself\u001b[39m\u001b[38;5;241m.\u001b[39mprefilter_line(line, lnum\u001b[38;5;241m>\u001b[39m\u001b[38;5;241m0\u001b[39m)\n\u001b[0;32m    325\u001b[0m                      \u001b[38;5;28;01mfor\u001b[39;00m lnum, line \u001b[38;5;129;01min\u001b[39;00m \u001b[38;5;28menumerate\u001b[39m(llines) ])\n\u001b[0;32m    326\u001b[0m \u001b[38;5;28;01melse\u001b[39;00m:\n\u001b[1;32m--> 327\u001b[0m     out \u001b[38;5;241m=\u001b[39m \u001b[38;5;28;43mself\u001b[39;49m\u001b[38;5;241;43m.\u001b[39;49m\u001b[43mprefilter_line\u001b[49m\u001b[43m(\u001b[49m\u001b[43mllines\u001b[49m\u001b[43m[\u001b[49m\u001b[38;5;241;43m0\u001b[39;49m\u001b[43m]\u001b[49m\u001b[43m,\u001b[49m\u001b[43m \u001b[49m\u001b[43mcontinue_prompt\u001b[49m\u001b[43m)\u001b[49m\n\u001b[0;32m    329\u001b[0m \u001b[38;5;28;01mreturn\u001b[39;00m out\n",
      "File \u001b[1;32m~\\miniforge3\\envs\\algoviz\\Lib\\site-packages\\IPython\\core\\prefilter.py:302\u001b[0m, in \u001b[0;36mPrefilterManager.prefilter_line\u001b[1;34m(self, line, continue_prompt)\u001b[0m\n\u001b[0;32m    299\u001b[0m \u001b[38;5;28;01mif\u001b[39;00m continue_prompt \u001b[38;5;129;01mand\u001b[39;00m \u001b[38;5;129;01mnot\u001b[39;00m \u001b[38;5;28mself\u001b[39m\u001b[38;5;241m.\u001b[39mmulti_line_specials:\n\u001b[0;32m    300\u001b[0m     \u001b[38;5;28;01mreturn\u001b[39;00m normal_handler\u001b[38;5;241m.\u001b[39mhandle(line_info)\n\u001b[1;32m--> 302\u001b[0m prefiltered \u001b[38;5;241m=\u001b[39m \u001b[38;5;28;43mself\u001b[39;49m\u001b[38;5;241;43m.\u001b[39;49m\u001b[43mprefilter_line_info\u001b[49m\u001b[43m(\u001b[49m\u001b[43mline_info\u001b[49m\u001b[43m)\u001b[49m\n\u001b[0;32m    303\u001b[0m \u001b[38;5;66;03m# print \"prefiltered line: %r\" % prefiltered\u001b[39;00m\n\u001b[0;32m    304\u001b[0m \u001b[38;5;28;01mreturn\u001b[39;00m prefiltered\n",
      "File \u001b[1;32m~\\miniforge3\\envs\\algoviz\\Lib\\site-packages\\IPython\\core\\prefilter.py:244\u001b[0m, in \u001b[0;36mPrefilterManager.prefilter_line_info\u001b[1;34m(self, line_info)\u001b[0m\n\u001b[0;32m    239\u001b[0m \u001b[38;5;124;03m\"\"\"Prefilter a line that has been converted to a LineInfo object.\u001b[39;00m\n\u001b[0;32m    240\u001b[0m \n\u001b[0;32m    241\u001b[0m \u001b[38;5;124;03mThis implements the checker/handler part of the prefilter pipe.\u001b[39;00m\n\u001b[0;32m    242\u001b[0m \u001b[38;5;124;03m\"\"\"\u001b[39;00m\n\u001b[0;32m    243\u001b[0m \u001b[38;5;66;03m# print \"prefilter_line_info: \", line_info\u001b[39;00m\n\u001b[1;32m--> 244\u001b[0m handler \u001b[38;5;241m=\u001b[39m \u001b[38;5;28;43mself\u001b[39;49m\u001b[38;5;241;43m.\u001b[39;49m\u001b[43mfind_handler\u001b[49m\u001b[43m(\u001b[49m\u001b[43mline_info\u001b[49m\u001b[43m)\u001b[49m\n\u001b[0;32m    245\u001b[0m \u001b[38;5;28;01mreturn\u001b[39;00m handler\u001b[38;5;241m.\u001b[39mhandle(line_info)\n",
      "File \u001b[1;32m~\\miniforge3\\envs\\algoviz\\Lib\\site-packages\\IPython\\core\\prefilter.py:251\u001b[0m, in \u001b[0;36mPrefilterManager.find_handler\u001b[1;34m(self, line_info)\u001b[0m\n\u001b[0;32m    249\u001b[0m \u001b[38;5;28;01mfor\u001b[39;00m checker \u001b[38;5;129;01min\u001b[39;00m \u001b[38;5;28mself\u001b[39m\u001b[38;5;241m.\u001b[39mcheckers:\n\u001b[0;32m    250\u001b[0m     \u001b[38;5;28;01mif\u001b[39;00m checker\u001b[38;5;241m.\u001b[39menabled:\n\u001b[1;32m--> 251\u001b[0m         handler \u001b[38;5;241m=\u001b[39m \u001b[43mchecker\u001b[49m\u001b[38;5;241;43m.\u001b[39;49m\u001b[43mcheck\u001b[49m\u001b[43m(\u001b[49m\u001b[43mline_info\u001b[49m\u001b[43m)\u001b[49m\n\u001b[0;32m    252\u001b[0m         \u001b[38;5;28;01mif\u001b[39;00m handler:\n\u001b[0;32m    253\u001b[0m             \u001b[38;5;28;01mreturn\u001b[39;00m handler\n",
      "File \u001b[1;32m~\\miniforge3\\envs\\algoviz\\Lib\\site-packages\\IPython\\core\\prefilter.py:408\u001b[0m, in \u001b[0;36mMacroChecker.check\u001b[1;34m(self, line_info)\u001b[0m\n\u001b[0;32m    406\u001b[0m \u001b[38;5;28;01mdef\u001b[39;00m \u001b[38;5;21mcheck\u001b[39m(\u001b[38;5;28mself\u001b[39m, line_info):\n\u001b[0;32m    407\u001b[0m     obj \u001b[38;5;241m=\u001b[39m \u001b[38;5;28mself\u001b[39m\u001b[38;5;241m.\u001b[39mshell\u001b[38;5;241m.\u001b[39muser_ns\u001b[38;5;241m.\u001b[39mget(line_info\u001b[38;5;241m.\u001b[39mifun)\n\u001b[1;32m--> 408\u001b[0m     \u001b[38;5;28;01mif\u001b[39;00m \u001b[38;5;28misinstance\u001b[39m(obj, Macro):\n\u001b[0;32m    409\u001b[0m         \u001b[38;5;28;01mreturn\u001b[39;00m \u001b[38;5;28mself\u001b[39m\u001b[38;5;241m.\u001b[39mprefilter_manager\u001b[38;5;241m.\u001b[39mget_handler_by_name(\u001b[38;5;124m'\u001b[39m\u001b[38;5;124mmacro\u001b[39m\u001b[38;5;124m'\u001b[39m)\n\u001b[0;32m    410\u001b[0m     \u001b[38;5;28;01melse\u001b[39;00m:\n",
      "\u001b[1;31mReferenceError\u001b[0m: weakly-referenced object no longer exists"
     ]
    }
   ],
   "source": [
    "wc"
   ]
  },
  {
   "cell_type": "code",
   "execution_count": 31,
   "id": "4a0b0fd2-681f-495c-b6bd-2bcd020641d7",
   "metadata": {},
   "outputs": [],
   "source": [
    "c = C()"
   ]
  },
  {
   "cell_type": "code",
   "execution_count": 32,
   "id": "f49df83f-7f9d-4f33-a1cd-6728febe9a3c",
   "metadata": {},
   "outputs": [],
   "source": [
    "cghost = weakref.proxy(c, lambda x: print(\"Boooooooooooooooo!\"))"
   ]
  },
  {
   "cell_type": "code",
   "execution_count": 33,
   "id": "e19bf675-044f-4525-922a-5741250f6c17",
   "metadata": {},
   "outputs": [
    {
     "name": "stdout",
     "output_type": "stream",
     "text": [
      "Boooooooooooooooo!\n"
     ]
    }
   ],
   "source": [
    "del c"
   ]
  },
  {
   "cell_type": "code",
   "execution_count": 34,
   "id": "8b811a30-8fb8-4307-8300-ce55f1725e57",
   "metadata": {},
   "outputs": [],
   "source": [
    "c = C()"
   ]
  },
  {
   "cell_type": "code",
   "execution_count": 35,
   "id": "486bb61f-7945-4625-a45d-53bc7d833a4a",
   "metadata": {},
   "outputs": [],
   "source": [
    "rptest = weakref.proxy(c)"
   ]
  },
  {
   "cell_type": "code",
   "execution_count": 36,
   "id": "3faab85e-6f84-4d89-ab76-e282d20a6cd5",
   "metadata": {},
   "outputs": [
    {
     "data": {
      "text/plain": [
       "'<__main__.C object at 0x0000025B3249D6D0>'"
      ]
     },
     "execution_count": 36,
     "metadata": {},
     "output_type": "execute_result"
    }
   ],
   "source": [
    "repr(c)"
   ]
  },
  {
   "cell_type": "code",
   "execution_count": 37,
   "id": "0ba910e3-d5fa-42fe-b21c-13601d8f3e92",
   "metadata": {},
   "outputs": [
    {
     "data": {
      "text/plain": [
       "'<weakproxy at 0x0000025B326CB470 to C at 0x0000025B3249D6D0>'"
      ]
     },
     "execution_count": 37,
     "metadata": {},
     "output_type": "execute_result"
    }
   ],
   "source": [
    "repr(rptest)"
   ]
  },
  {
   "cell_type": "code",
   "execution_count": 38,
   "id": "02c9090a-5126-4cdc-b73a-1992a726638f",
   "metadata": {},
   "outputs": [
    {
     "data": {
      "text/plain": [
       "<__main__.C at 0x25b326cb470>"
      ]
     },
     "execution_count": 38,
     "metadata": {},
     "output_type": "execute_result"
    }
   ],
   "source": [
    "rptest"
   ]
  },
  {
   "cell_type": "code",
   "execution_count": 39,
   "id": "1dbe5493-e689-4bdb-8542-4276a106f041",
   "metadata": {},
   "outputs": [
    {
     "data": {
      "text/plain": [
       "'<__main__.C object at 0x0000025B3249D6D0>'"
      ]
     },
     "execution_count": 39,
     "metadata": {},
     "output_type": "execute_result"
    }
   ],
   "source": [
    "rptest.__repr__()"
   ]
  },
  {
   "cell_type": "code",
   "execution_count": 40,
   "id": "a54001c8-2a86-4b0b-b8bb-32fe2dc8eee6",
   "metadata": {},
   "outputs": [],
   "source": [
    "class DiffBox: \n",
    "    \n",
    "    def __init__(self, value): \n",
    "        self.value = value\n",
    "    \n",
    "    def __repr__(self): \n",
    "        return f'{type(self).__name__}({self.value!r})'\n",
    "\n",
    "    def __eq__(self, other): \n",
    "        if not isinstance(other, type(self)): \n",
    "            return NotImplemented\n",
    "        print(f'DiffBox.__eq__({self!r}, {other!r})')\n",
    "        return self.value == other.value\n",
    "    \n",
    "    def __sub__(self, other): \n",
    "        if not isinstance(other, type(self)): \n",
    "            return NotImplemented\n",
    "        print(f'DiffBox.__sub__({self!r}, {other!r})')\n",
    "        return type(self)(self.value - other.value)"
   ]
  },
  {
   "cell_type": "code",
   "execution_count": 41,
   "id": "791bcab5-ec57-40f2-993e-94f137c2660f",
   "metadata": {},
   "outputs": [],
   "source": [
    "d1 = DiffBox(1)"
   ]
  },
  {
   "cell_type": "code",
   "execution_count": 42,
   "id": "7a98fdd0-2ad9-4116-bbbc-f74f9f164632",
   "metadata": {},
   "outputs": [],
   "source": [
    "d5 = DiffBox(5)"
   ]
  },
  {
   "cell_type": "code",
   "execution_count": 43,
   "id": "87df082e-a432-4cbe-9296-15ca8a08daf1",
   "metadata": {},
   "outputs": [
    {
     "name": "stdout",
     "output_type": "stream",
     "text": [
      "DiffBox.__sub__(DiffBox(5), DiffBox(1))\n"
     ]
    }
   ],
   "source": [
    "d4 = d5 - d1"
   ]
  },
  {
   "cell_type": "code",
   "execution_count": 44,
   "id": "fca9386d-d169-4776-9ced-56edf28ff2f0",
   "metadata": {},
   "outputs": [
    {
     "data": {
      "text/plain": [
       "DiffBox(4)"
      ]
     },
     "execution_count": 44,
     "metadata": {},
     "output_type": "execute_result"
    }
   ],
   "source": [
    "d4"
   ]
  },
  {
   "cell_type": "code",
   "execution_count": 45,
   "id": "434a2f79-18c3-4902-86e9-8c6446b041a1",
   "metadata": {},
   "outputs": [
    {
     "name": "stdout",
     "output_type": "stream",
     "text": [
      "DiffBox.__eq__(DiffBox(5), DiffBox(5))\n"
     ]
    },
    {
     "data": {
      "text/plain": [
       "True"
      ]
     },
     "execution_count": 45,
     "metadata": {},
     "output_type": "execute_result"
    }
   ],
   "source": [
    "d5 == DiffBox(5)"
   ]
  },
  {
   "cell_type": "code",
   "execution_count": 46,
   "id": "32684a11-59ed-4a17-9503-2e960e55f73a",
   "metadata": {},
   "outputs": [
    {
     "name": "stdout",
     "output_type": "stream",
     "text": [
      "DiffBox.__eq__(DiffBox(5), DiffBox(4))\n"
     ]
    },
    {
     "data": {
      "text/plain": [
       "False"
      ]
     },
     "execution_count": 46,
     "metadata": {},
     "output_type": "execute_result"
    }
   ],
   "source": [
    "d5 == DiffBox(4)"
   ]
  },
  {
   "cell_type": "code",
   "execution_count": 47,
   "id": "b9fccb50-3996-4766-9241-f2435c352e68",
   "metadata": {},
   "outputs": [],
   "source": [
    "d20 = DiffBox(20)"
   ]
  },
  {
   "cell_type": "code",
   "execution_count": 48,
   "id": "c40802e1-80ef-4ab5-a304-29923dcd87c0",
   "metadata": {},
   "outputs": [],
   "source": [
    "d10 = DiffBox(10)"
   ]
  },
  {
   "cell_type": "code",
   "execution_count": 49,
   "id": "d7c53aa9-40fa-4dc4-a20b-598d0b051f73",
   "metadata": {
    "tags": []
   },
   "outputs": [],
   "source": [
    "wd20 = weakref.proxy(d20)"
   ]
  },
  {
   "cell_type": "code",
   "execution_count": 50,
   "id": "34d53539-2c3c-4a53-8742-5b2799ae2cfa",
   "metadata": {},
   "outputs": [],
   "source": [
    "wd10 = weakref.proxy(d10)"
   ]
  },
  {
   "cell_type": "code",
   "execution_count": 51,
   "id": "b32e0336-9c10-410b-8212-87cb3fa743ea",
   "metadata": {},
   "outputs": [
    {
     "name": "stdout",
     "output_type": "stream",
     "text": [
      "DiffBox.__eq__(DiffBox(20), DiffBox(10))\n"
     ]
    },
    {
     "data": {
      "text/plain": [
       "False"
      ]
     },
     "execution_count": 51,
     "metadata": {},
     "output_type": "execute_result"
    }
   ],
   "source": [
    "wd20 == wd10"
   ]
  },
  {
   "cell_type": "code",
   "execution_count": 52,
   "id": "f9c3869e-3626-4047-a155-2d62821197e1",
   "metadata": {},
   "outputs": [
    {
     "name": "stdout",
     "output_type": "stream",
     "text": [
      "DiffBox.__sub__(DiffBox(20), DiffBox(10))\n"
     ]
    },
    {
     "data": {
      "text/plain": [
       "DiffBox(10)"
      ]
     },
     "execution_count": 52,
     "metadata": {},
     "output_type": "execute_result"
    }
   ],
   "source": [
    "wd20 - wd10"
   ]
  },
  {
   "cell_type": "code",
   "execution_count": 53,
   "id": "31e9fcef-6329-4730-b15c-3031ff658eda",
   "metadata": {},
   "outputs": [
    {
     "name": "stdout",
     "output_type": "stream",
     "text": [
      "DiffBox.__sub__(DiffBox(20), DiffBox(10))\n"
     ]
    }
   ],
   "source": [
    "result = wd20 - wd10"
   ]
  },
  {
   "cell_type": "code",
   "execution_count": 54,
   "id": "2f9f39f6-7161-48c4-8c36-dd5f751c9fe1",
   "metadata": {
    "jupyter": {
     "source_hidden": true
    },
    "tags": []
   },
   "outputs": [
    {
     "name": "stdout",
     "output_type": "stream",
     "text": [
      "DiffBox.__sub__(DiffBox(10), <weakproxy at 0x0000025B327009F0 to DiffBox at 0x0000025B32679A50>)\n"
     ]
    },
    {
     "data": {
      "text/plain": [
       "DiffBox(0)"
      ]
     },
     "execution_count": 54,
     "metadata": {},
     "output_type": "execute_result"
    }
   ],
   "source": [
    "result - wd10"
   ]
  },
  {
   "cell_type": "code",
   "execution_count": 55,
   "id": "30ada965-6c8c-4e9e-ae29-05d9c2d26e0b",
   "metadata": {},
   "outputs": [
    {
     "data": {
      "text/plain": [
       "weakref.ProxyType"
      ]
     },
     "execution_count": 55,
     "metadata": {},
     "output_type": "execute_result"
    }
   ],
   "source": [
    "type(wd10)"
   ]
  },
  {
   "cell_type": "code",
   "execution_count": 56,
   "id": "43d7e5d8-64ec-452c-9deb-730d8265fc87",
   "metadata": {},
   "outputs": [
    {
     "data": {
      "text/plain": [
       "True"
      ]
     },
     "execution_count": 56,
     "metadata": {},
     "output_type": "execute_result"
    }
   ],
   "source": [
    "isinstance(wd10, DiffBox)"
   ]
  },
  {
   "cell_type": "code",
   "execution_count": 57,
   "id": "de061bf8-9e2b-456d-8101-e7a0d8f65caa",
   "metadata": {},
   "outputs": [
    {
     "data": {
      "text/plain": [
       "True"
      ]
     },
     "execution_count": 57,
     "metadata": {},
     "output_type": "execute_result"
    }
   ],
   "source": [
    "isinstance(wd10, weakref.ProxyType)"
   ]
  },
  {
   "cell_type": "code",
   "execution_count": 58,
   "id": "12ef855a-a6f6-4d8d-8bff-9842ffb3cb4b",
   "metadata": {},
   "outputs": [
    {
     "data": {
      "text/plain": [
       "False"
      ]
     },
     "execution_count": 58,
     "metadata": {},
     "output_type": "execute_result"
    }
   ],
   "source": [
    "issubclass(type(wd10), DiffBox)"
   ]
  },
  {
   "cell_type": "code",
   "execution_count": 59,
   "id": "11c4ada6-6013-4a5d-b7c1-797f7df415f7",
   "metadata": {},
   "outputs": [
    {
     "data": {
      "text/plain": [
       "(weakref.ProxyType, object)"
      ]
     },
     "execution_count": 59,
     "metadata": {},
     "output_type": "execute_result"
    }
   ],
   "source": [
    "type(wd10).__mro__"
   ]
  },
  {
   "cell_type": "code",
   "execution_count": 60,
   "id": "b51da9c2-9b91-4e59-988e-dd03032b0913",
   "metadata": {},
   "outputs": [
    {
     "data": {
      "text/plain": [
       "__main__.DiffBox"
      ]
     },
     "execution_count": 60,
     "metadata": {},
     "output_type": "execute_result"
    }
   ],
   "source": [
    "type(d20)"
   ]
  },
  {
   "cell_type": "code",
   "execution_count": 61,
   "id": "dd7affd0-5da5-45d5-b14f-14dbae3cfbd1",
   "metadata": {},
   "outputs": [
    {
     "data": {
      "text/plain": [
       "__main__.DiffBox"
      ]
     },
     "execution_count": 61,
     "metadata": {},
     "output_type": "execute_result"
    }
   ],
   "source": [
    "d20.__class__"
   ]
  },
  {
   "cell_type": "code",
   "execution_count": 62,
   "id": "8b238827-d28f-43e5-bd74-d6b899648fc8",
   "metadata": {},
   "outputs": [
    {
     "data": {
      "text/plain": [
       "__main__.DiffBox"
      ]
     },
     "execution_count": 62,
     "metadata": {},
     "output_type": "execute_result"
    }
   ],
   "source": [
    "wd20.__class__"
   ]
  },
  {
   "cell_type": "code",
   "execution_count": 63,
   "id": "066cc803-0924-4431-99a6-d1251be2b085",
   "metadata": {},
   "outputs": [
    {
     "data": {
      "text/plain": [
       "mappingproxy({'__module__': '__main__',\n",
       "              '__init__': <function __main__.C.__init__(self)>,\n",
       "              '__dict__': <attribute '__dict__' of 'C' objects>,\n",
       "              '__weakref__': <attribute '__weakref__' of 'C' objects>,\n",
       "              '__doc__': None})"
      ]
     },
     "execution_count": 63,
     "metadata": {},
     "output_type": "execute_result"
    }
   ],
   "source": [
    "C.__dict__  # No __class__. So... we can define it?!"
   ]
  },
  {
   "cell_type": "code",
   "execution_count": 64,
   "id": "65ba1698-3406-4f52-a468-4996bb59486f",
   "metadata": {},
   "outputs": [],
   "source": [
    "class Liar: \n",
    "    __class__ = int"
   ]
  },
  {
   "cell_type": "code",
   "execution_count": 65,
   "id": "9fc68ef1-7b69-4fa0-b534-d0c83db248e3",
   "metadata": {},
   "outputs": [
    {
     "data": {
      "text/plain": [
       "False"
      ]
     },
     "execution_count": 65,
     "metadata": {},
     "output_type": "execute_result"
    }
   ],
   "source": [
    "issubclass(Liar, int)"
   ]
  },
  {
   "cell_type": "code",
   "execution_count": 66,
   "id": "e29172c7-d7f6-4b24-90b6-2c118abd0d9c",
   "metadata": {},
   "outputs": [
    {
     "data": {
      "text/plain": [
       "True"
      ]
     },
     "execution_count": 66,
     "metadata": {},
     "output_type": "execute_result"
    }
   ],
   "source": [
    "isinstance(Liar(), int)"
   ]
  },
  {
   "cell_type": "code",
   "execution_count": 67,
   "id": "1021323b-b94a-4f1f-a82f-f39e27d658df",
   "metadata": {},
   "outputs": [
    {
     "data": {
      "text/plain": [
       "type"
      ]
     },
     "execution_count": 67,
     "metadata": {},
     "output_type": "execute_result"
    }
   ],
   "source": [
    "C.__class__"
   ]
  },
  {
   "cell_type": "code",
   "execution_count": 68,
   "id": "7bca5c7c-5b1e-4678-adbf-589cce485bc5",
   "metadata": {},
   "outputs": [
    {
     "data": {
      "text/plain": [
       "type"
      ]
     },
     "execution_count": 68,
     "metadata": {},
     "output_type": "execute_result"
    }
   ],
   "source": [
    "Liar.__class__"
   ]
  },
  {
   "cell_type": "code",
   "execution_count": 69,
   "id": "25193bcf-33df-405e-9d82-044ac9d9060e",
   "metadata": {},
   "outputs": [],
   "source": [
    "c = C()"
   ]
  },
  {
   "cell_type": "code",
   "execution_count": 70,
   "id": "fbab80b8-1102-41b8-98d8-d022e093ed2c",
   "metadata": {},
   "outputs": [
    {
     "data": {
      "text/plain": [
       "{'a': 'a', 'b': 'b'}"
      ]
     },
     "execution_count": 70,
     "metadata": {},
     "output_type": "execute_result"
    }
   ],
   "source": [
    "c.__dict__"
   ]
  },
  {
   "cell_type": "code",
   "execution_count": 71,
   "id": "1352ef70-db80-4515-8e2f-f454e1e6a7b0",
   "metadata": {},
   "outputs": [],
   "source": [
    "c.__dict__['__class__'] = int"
   ]
  },
  {
   "cell_type": "code",
   "execution_count": 72,
   "id": "52950915-4afb-48aa-98b5-2abc8211c7d6",
   "metadata": {},
   "outputs": [
    {
     "data": {
      "text/plain": [
       "{'a': 'a', 'b': 'b', '__class__': int}"
      ]
     },
     "execution_count": 72,
     "metadata": {},
     "output_type": "execute_result"
    }
   ],
   "source": [
    "c.__dict__"
   ]
  },
  {
   "cell_type": "code",
   "execution_count": 73,
   "id": "f975d856-1269-4b4e-a1d0-488289492bc6",
   "metadata": {},
   "outputs": [
    {
     "data": {
      "text/plain": [
       "__main__.C"
      ]
     },
     "execution_count": 73,
     "metadata": {},
     "output_type": "execute_result"
    }
   ],
   "source": [
    "c.__class__"
   ]
  },
  {
   "cell_type": "code",
   "execution_count": 74,
   "id": "ff048f79-d5f4-473c-9ff0-5b11815ad472",
   "metadata": {},
   "outputs": [],
   "source": [
    "li = Liar()"
   ]
  },
  {
   "cell_type": "code",
   "execution_count": 75,
   "id": "6bb59bcd-972b-4fb8-a128-c04fc7592b20",
   "metadata": {},
   "outputs": [
    {
     "data": {
      "text/plain": [
       "int"
      ]
     },
     "execution_count": 75,
     "metadata": {},
     "output_type": "execute_result"
    }
   ],
   "source": [
    "li.__class__"
   ]
  },
  {
   "cell_type": "code",
   "execution_count": 76,
   "id": "d8b89f7b-9dff-437f-b638-3600126b1e93",
   "metadata": {},
   "outputs": [],
   "source": [
    "li.__dict__['__class__'] = list "
   ]
  },
  {
   "cell_type": "code",
   "execution_count": 77,
   "id": "e9eea029-5832-4ab5-a316-06353867c4c6",
   "metadata": {},
   "outputs": [
    {
     "data": {
      "text/plain": [
       "list"
      ]
     },
     "execution_count": 77,
     "metadata": {},
     "output_type": "execute_result"
    }
   ],
   "source": [
    "li.__class__"
   ]
  },
  {
   "cell_type": "code",
   "execution_count": 78,
   "id": "7499ed8b-21fe-4f16-a916-7a10f9b2c862",
   "metadata": {},
   "outputs": [],
   "source": [
    "class P:\n",
    "    @property\n",
    "    def x(self):\n",
    "        return 10"
   ]
  },
  {
   "cell_type": "code",
   "execution_count": 79,
   "id": "73d28bb0-12e8-4d2d-9008-aa359429baa0",
   "metadata": {},
   "outputs": [],
   "source": [
    "p = P()"
   ]
  },
  {
   "cell_type": "code",
   "execution_count": 80,
   "id": "ddd2da60-6624-4bba-a2f1-a33e4e935f59",
   "metadata": {},
   "outputs": [],
   "source": [
    "p.__dict__['x'] = 20"
   ]
  },
  {
   "cell_type": "code",
   "execution_count": 81,
   "id": "1394f152-5365-41a2-8977-33e0d9902519",
   "metadata": {},
   "outputs": [
    {
     "data": {
      "text/plain": [
       "10"
      ]
     },
     "execution_count": 81,
     "metadata": {},
     "output_type": "execute_result"
    }
   ],
   "source": [
    "p.x"
   ]
  },
  {
   "cell_type": "code",
   "execution_count": 82,
   "id": "eb0eaa7b-a4dc-414d-8748-135405560007",
   "metadata": {},
   "outputs": [],
   "source": [
    "class LiarAlt: \n",
    "    @property\n",
    "    def __class__(self): \n",
    "        return int"
   ]
  },
  {
   "cell_type": "code",
   "execution_count": 83,
   "id": "d397b595-a6c1-4509-acdb-543d3fef8796",
   "metadata": {},
   "outputs": [],
   "source": [
    "lia = LiarAlt()"
   ]
  },
  {
   "cell_type": "code",
   "execution_count": 84,
   "id": "8d451092-d139-47db-aaff-0a60677c6dd5",
   "metadata": {},
   "outputs": [
    {
     "data": {
      "text/plain": [
       "int"
      ]
     },
     "execution_count": 84,
     "metadata": {},
     "output_type": "execute_result"
    }
   ],
   "source": [
    "lia.__class__"
   ]
  },
  {
   "cell_type": "code",
   "execution_count": 85,
   "id": "28ca8946-6bf4-438e-8cf8-d4435404ce1d",
   "metadata": {},
   "outputs": [
    {
     "data": {
      "text/plain": [
       "True"
      ]
     },
     "execution_count": 85,
     "metadata": {},
     "output_type": "execute_result"
    }
   ],
   "source": [
    "isinstance(lia, int) "
   ]
  },
  {
   "cell_type": "code",
   "execution_count": 86,
   "id": "ebc3cd4e-fe22-40ce-b349-f44ede045fcb",
   "metadata": {},
   "outputs": [
    {
     "data": {
      "text/plain": [
       "False"
      ]
     },
     "execution_count": 86,
     "metadata": {},
     "output_type": "execute_result"
    }
   ],
   "source": [
    "issubclass(LiarAlt, int)"
   ]
  },
  {
   "cell_type": "code",
   "execution_count": 87,
   "id": "96b70d6e-da0a-4964-89a8-f13c94ce77a1",
   "metadata": {},
   "outputs": [],
   "source": [
    "class Holds: \n",
    "    def __init__(self, thing): \n",
    "        self._thing = thing\n",
    "    \n",
    "    @property\n",
    "    def __class__(self): \n",
    "        return self._thing.__class__"
   ]
  },
  {
   "cell_type": "code",
   "execution_count": 88,
   "id": "ead94990-f8d0-4329-bedc-c4f818d493fa",
   "metadata": {},
   "outputs": [],
   "source": [
    "hi = Holds(1)"
   ]
  },
  {
   "cell_type": "code",
   "execution_count": 89,
   "id": "c351c9c8-4d1d-4ec1-9b92-2337a5bf9bcd",
   "metadata": {},
   "outputs": [
    {
     "data": {
      "text/plain": [
       "1"
      ]
     },
     "execution_count": 89,
     "metadata": {},
     "output_type": "execute_result"
    }
   ],
   "source": [
    "hi._thing"
   ]
  },
  {
   "cell_type": "code",
   "execution_count": 90,
   "id": "6b60d23a-a34a-40fc-abf2-ddd3f03315ea",
   "metadata": {},
   "outputs": [
    {
     "data": {
      "text/plain": [
       "True"
      ]
     },
     "execution_count": 90,
     "metadata": {},
     "output_type": "execute_result"
    }
   ],
   "source": [
    "isinstance(hi, int)"
   ]
  },
  {
   "cell_type": "code",
   "execution_count": 91,
   "id": "2d58c2ee-68fa-426c-b574-60a0bad76cb4",
   "metadata": {},
   "outputs": [],
   "source": [
    "hh = Holds(hi)"
   ]
  },
  {
   "cell_type": "code",
   "execution_count": 92,
   "id": "0f4b9564-824f-4d80-a28d-c6b13c124da7",
   "metadata": {},
   "outputs": [
    {
     "data": {
      "text/plain": [
       "True"
      ]
     },
     "execution_count": 92,
     "metadata": {},
     "output_type": "execute_result"
    }
   ],
   "source": [
    "isinstance(hh, int)"
   ]
  },
  {
   "cell_type": "code",
   "execution_count": 93,
   "id": "3e1654fe-6145-4b42-99c9-8c95b32b2709",
   "metadata": {},
   "outputs": [],
   "source": [
    "class NarrowDiffBox: \n",
    "    \n",
    "    def __init__(self, value): \n",
    "        self.value = value\n",
    "    \n",
    "    def __repr__(self): \n",
    "        return f'{type(self).__name__}({self.value!r})'\n",
    "\n",
    "    def __eq__(self, other): \n",
    "        if type(self) is not type(other): \n",
    "            return NotImplemented\n",
    "        print(f'NarrowDiffBox.__eq__({self!r}, {other!r})')\n",
    "        return self.value == other.value\n",
    "    \n",
    "    def __sub__(self, other): \n",
    "        if type(self) is not type(other):\n",
    "            print(f'Typecheck denied in NarrowDiffBox.__sub__({self!r}, {other!r})')\n",
    "            return NotImplemented\n",
    "        print(f'NarrowDiffBox.__sub__({self!r}, {other!r})')\n",
    "        return type(self)(self.value - other.value)"
   ]
  },
  {
   "cell_type": "code",
   "execution_count": 94,
   "id": "9b7a5cc2-359b-4b86-b311-fb4ee48b58fa",
   "metadata": {},
   "outputs": [],
   "source": [
    "d1 = NarrowDiffBox(1)"
   ]
  },
  {
   "cell_type": "code",
   "execution_count": 95,
   "id": "d61e7686-85b3-428f-a73c-74c4cfa7e4cb",
   "metadata": {},
   "outputs": [],
   "source": [
    "d5 = NarrowDiffBox(5)"
   ]
  },
  {
   "cell_type": "code",
   "execution_count": 96,
   "id": "9b02614a-3da0-4239-a85e-d7a188b1cc51",
   "metadata": {},
   "outputs": [
    {
     "name": "stdout",
     "output_type": "stream",
     "text": [
      "NarrowDiffBox.__sub__(NarrowDiffBox(5), NarrowDiffBox(1))\n"
     ]
    }
   ],
   "source": [
    "d4 = d5 - d1"
   ]
  },
  {
   "cell_type": "code",
   "execution_count": 97,
   "id": "ca8f0cc5-c687-41cf-8b00-45cd62b9c6a6",
   "metadata": {},
   "outputs": [
    {
     "data": {
      "text/plain": [
       "NarrowDiffBox(4)"
      ]
     },
     "execution_count": 97,
     "metadata": {},
     "output_type": "execute_result"
    }
   ],
   "source": [
    "d4"
   ]
  },
  {
   "cell_type": "code",
   "execution_count": 98,
   "id": "193f6adf-074c-4749-a1ce-58bd3b572189",
   "metadata": {},
   "outputs": [
    {
     "name": "stdout",
     "output_type": "stream",
     "text": [
      "NarrowDiffBox.__eq__(NarrowDiffBox(5), NarrowDiffBox(5))\n"
     ]
    },
    {
     "data": {
      "text/plain": [
       "True"
      ]
     },
     "execution_count": 98,
     "metadata": {},
     "output_type": "execute_result"
    }
   ],
   "source": [
    "d5 == NarrowDiffBox(5)"
   ]
  },
  {
   "cell_type": "code",
   "execution_count": 99,
   "id": "e0521731-7a9b-4a39-9320-5581c883597b",
   "metadata": {},
   "outputs": [
    {
     "name": "stdout",
     "output_type": "stream",
     "text": [
      "NarrowDiffBox.__eq__(NarrowDiffBox(5), NarrowDiffBox(4))\n"
     ]
    },
    {
     "data": {
      "text/plain": [
       "False"
      ]
     },
     "execution_count": 99,
     "metadata": {},
     "output_type": "execute_result"
    }
   ],
   "source": [
    "d5 == NarrowDiffBox(4)"
   ]
  },
  {
   "cell_type": "code",
   "execution_count": 100,
   "id": "5d2decd6-093a-4db6-ac09-78c76f46f67d",
   "metadata": {},
   "outputs": [],
   "source": [
    "d20 = NarrowDiffBox(20)"
   ]
  },
  {
   "cell_type": "code",
   "execution_count": 101,
   "id": "087d4586-b3c0-484d-9857-2a917d28fd2e",
   "metadata": {},
   "outputs": [],
   "source": [
    "d10 = NarrowDiffBox(10)"
   ]
  },
  {
   "cell_type": "code",
   "execution_count": 102,
   "id": "2664ee6d-5057-480d-ba90-1200764862ff",
   "metadata": {},
   "outputs": [
    {
     "data": {
      "text/plain": [
       "NarrowDiffBox(20)"
      ]
     },
     "execution_count": 102,
     "metadata": {},
     "output_type": "execute_result"
    }
   ],
   "source": [
    "d20"
   ]
  },
  {
   "cell_type": "code",
   "execution_count": 103,
   "id": "cffe57f7-2d38-441f-ae5a-4fb5cdeb60c6",
   "metadata": {},
   "outputs": [],
   "source": [
    "wd20 = weakref.proxy(d20)\n",
    "# This or any comment works around a very strange IPython bug."
   ]
  },
  {
   "cell_type": "code",
   "execution_count": 104,
   "id": "5c3f8ef4-7bdb-498a-80ea-2368df95ae7d",
   "metadata": {},
   "outputs": [
    {
     "data": {
      "text/plain": [
       "<weakproxy at 0x0000025B31F7E9D0 to NarrowDiffBox at 0x0000025B3267B950>"
      ]
     },
     "execution_count": 104,
     "metadata": {},
     "output_type": "execute_result"
    }
   ],
   "source": [
    "wd20"
   ]
  },
  {
   "cell_type": "code",
   "execution_count": 105,
   "id": "bead272b-51e7-431c-8964-d5a8a93ecace",
   "metadata": {},
   "outputs": [],
   "source": [
    "wd10 = weakref.proxy(d10)\n",
    "# This or any comment works around a very strange IPython bug."
   ]
  },
  {
   "cell_type": "code",
   "execution_count": 106,
   "id": "8a28bac1-8da6-413e-9037-7bd1f16c087c",
   "metadata": {},
   "outputs": [
    {
     "name": "stdout",
     "output_type": "stream",
     "text": [
      "NarrowDiffBox.__eq__(NarrowDiffBox(20), NarrowDiffBox(10))\n"
     ]
    },
    {
     "data": {
      "text/plain": [
       "False"
      ]
     },
     "execution_count": 106,
     "metadata": {},
     "output_type": "execute_result"
    }
   ],
   "source": [
    "wd20 == wd10"
   ]
  },
  {
   "cell_type": "code",
   "execution_count": 107,
   "id": "53dad89f-b596-40db-9179-4428cde4ef4a",
   "metadata": {},
   "outputs": [
    {
     "name": "stdout",
     "output_type": "stream",
     "text": [
      "NarrowDiffBox.__sub__(NarrowDiffBox(20), NarrowDiffBox(10))\n"
     ]
    },
    {
     "data": {
      "text/plain": [
       "NarrowDiffBox(10)"
      ]
     },
     "execution_count": 107,
     "metadata": {},
     "output_type": "execute_result"
    }
   ],
   "source": [
    "wd20 - wd10"
   ]
  },
  {
   "cell_type": "code",
   "execution_count": 108,
   "id": "98e1fdf7-3f7f-4171-a500-6885f1c06b87",
   "metadata": {},
   "outputs": [
    {
     "name": "stdout",
     "output_type": "stream",
     "text": [
      "NarrowDiffBox.__sub__(NarrowDiffBox(20), NarrowDiffBox(10))\n"
     ]
    }
   ],
   "source": [
    "result = wd20 - wd10"
   ]
  },
  {
   "cell_type": "code",
   "execution_count": 109,
   "id": "a8410e75-538c-422f-a1a4-89050b30ae17",
   "metadata": {
    "tags": []
   },
   "outputs": [
    {
     "name": "stdout",
     "output_type": "stream",
     "text": [
      "Typecheck denied in NarrowDiffBox.__sub__(NarrowDiffBox(10), <weakproxy at 0x0000025B326D14E0 to NarrowDiffBox at 0x0000025B325D6210>)\n",
      "NarrowDiffBox.__sub__(NarrowDiffBox(10), NarrowDiffBox(10))\n"
     ]
    },
    {
     "data": {
      "text/plain": [
       "NarrowDiffBox(0)"
      ]
     },
     "execution_count": 109,
     "metadata": {},
     "output_type": "execute_result"
    }
   ],
   "source": [
    "result - wd10"
   ]
  },
  {
   "cell_type": "code",
   "execution_count": 110,
   "id": "e0875ad0-e87f-4111-abc4-503bf9b37703",
   "metadata": {},
   "outputs": [
    {
     "data": {
      "text/plain": [
       "NarrowDiffBox(20)"
      ]
     },
     "execution_count": 110,
     "metadata": {},
     "output_type": "execute_result"
    }
   ],
   "source": [
    "d20"
   ]
  },
  {
   "cell_type": "code",
   "execution_count": 111,
   "id": "82c94bd0-d2a1-43fc-ace8-da84aff9a022",
   "metadata": {},
   "outputs": [
    {
     "data": {
      "text/plain": [
       "<weakproxy at 0x0000025B326D14E0 to NarrowDiffBox at 0x0000025B325D6210>"
      ]
     },
     "execution_count": 111,
     "metadata": {},
     "output_type": "execute_result"
    }
   ],
   "source": [
    "wd10"
   ]
  },
  {
   "cell_type": "code",
   "execution_count": 112,
   "id": "e09dd039-989f-4059-845f-8cfd489b4845",
   "metadata": {},
   "outputs": [
    {
     "name": "stdout",
     "output_type": "stream",
     "text": [
      "Typecheck denied in NarrowDiffBox.__sub__(NarrowDiffBox(20), <weakproxy at 0x0000025B326D14E0 to NarrowDiffBox at 0x0000025B325D6210>)\n",
      "NarrowDiffBox.__sub__(NarrowDiffBox(20), NarrowDiffBox(10))\n"
     ]
    },
    {
     "data": {
      "text/plain": [
       "NarrowDiffBox(10)"
      ]
     },
     "execution_count": 112,
     "metadata": {},
     "output_type": "execute_result"
    }
   ],
   "source": [
    "d20 - wd10"
   ]
  },
  {
   "cell_type": "code",
   "execution_count": 113,
   "id": "9f163f7c-5169-4aa3-9dcd-b1e0a60aa8bd",
   "metadata": {},
   "outputs": [
    {
     "name": "stdout",
     "output_type": "stream",
     "text": [
      "Typecheck denied in NarrowDiffBox.__sub__(NarrowDiffBox(50), <weakproxy at 0x0000025B326D14E0 to NarrowDiffBox at 0x0000025B325D6210>)\n",
      "NarrowDiffBox.__sub__(NarrowDiffBox(50), NarrowDiffBox(10))\n"
     ]
    },
    {
     "data": {
      "text/plain": [
       "NarrowDiffBox(40)"
      ]
     },
     "execution_count": 113,
     "metadata": {},
     "output_type": "execute_result"
    }
   ],
   "source": [
    "NarrowDiffBox(50) - weakref.proxy(d10)"
   ]
  },
  {
   "cell_type": "code",
   "execution_count": 114,
   "id": "20671135-e7e2-4434-ad20-555f771ed1db",
   "metadata": {},
   "outputs": [
    {
     "name": "stdout",
     "output_type": "stream",
     "text": [
      "NarrowDiffBox.__sub__(NarrowDiffBox(10), NarrowDiffBox(5))\n"
     ]
    },
    {
     "data": {
      "text/plain": [
       "NarrowDiffBox(5)"
      ]
     },
     "execution_count": 114,
     "metadata": {},
     "output_type": "execute_result"
    }
   ],
   "source": [
    "weakref.proxy(d10) - NarrowDiffBox(5)"
   ]
  },
  {
   "cell_type": "code",
   "execution_count": 115,
   "id": "fca46b33-9544-49e2-a1cf-19ae3eef9ce1",
   "metadata": {},
   "outputs": [
    {
     "ename": "AttributeError",
     "evalue": "'NarrowDiffBox' object has no attribute '__rsub__'",
     "output_type": "error",
     "traceback": [
      "\u001b[1;31m---------------------------------------------------------------------------\u001b[0m",
      "\u001b[1;31mAttributeError\u001b[0m                            Traceback (most recent call last)",
      "Cell \u001b[1;32mIn [115], line 1\u001b[0m\n\u001b[1;32m----> 1\u001b[0m \u001b[43mwd10\u001b[49m\u001b[38;5;241;43m.\u001b[39;49m\u001b[38;5;21;43m__rsub__\u001b[39;49m\n",
      "\u001b[1;31mAttributeError\u001b[0m: 'NarrowDiffBox' object has no attribute '__rsub__'"
     ]
    }
   ],
   "source": [
    "wd10.__rsub__"
   ]
  },
  {
   "cell_type": "code",
   "execution_count": null,
   "id": "6a63ad30-a590-475f-922e-6591a5450fea",
   "metadata": {},
   "outputs": [],
   "source": [
    "d10 - weakref.proxy(d20)"
   ]
  },
  {
   "cell_type": "code",
   "execution_count": null,
   "id": "6cde19be-88f4-4515-9b58-09293f78d736",
   "metadata": {},
   "outputs": [],
   "source": [
    "d10.__sub__(weakref.proxy(d20))"
   ]
  },
  {
   "cell_type": "code",
   "execution_count": null,
   "id": "b3021283-e009-4981-8cbf-e42977e007cf",
   "metadata": {},
   "outputs": [],
   "source": [
    "weakref.proxy(d20).__rsub__(d10)"
   ]
  },
  {
   "cell_type": "code",
   "execution_count": 118,
   "id": "12fd2511-be08-4e0f-a761-ec8655ad55af",
   "metadata": {},
   "outputs": [
    {
     "data": {
      "text/plain": [
       "<slot wrapper '__rsub__' of 'weakref.ProxyType' objects>"
      ]
     },
     "execution_count": 118,
     "metadata": {},
     "output_type": "execute_result"
    }
   ],
   "source": [
    "type(wd20).__rsub__"
   ]
  },
  {
   "cell_type": "code",
   "execution_count": 121,
   "id": "ee37d93d-3d57-4cbf-a819-00a9a0818057",
   "metadata": {},
   "outputs": [
    {
     "name": "stdout",
     "output_type": "stream",
     "text": [
      "NarrowDiffBox.__sub__(NarrowDiffBox(10), NarrowDiffBox(20))\n"
     ]
    },
    {
     "data": {
      "text/plain": [
       "NarrowDiffBox(-10)"
      ]
     },
     "execution_count": 121,
     "metadata": {},
     "output_type": "execute_result"
    }
   ],
   "source": [
    "type(wd20).__rsub__(wd20, wd10)"
   ]
  },
  {
   "cell_type": "markdown",
   "id": "8ee44c83-efe1-48a6-ade3-7b91aa27a9c7",
   "metadata": {},
   "source": [
    "Sidebar: Review of metaclass confusion\n",
    "\n",
    "```python\n",
    "x - y  # What does this do?\n",
    "x.__sub__(y)  # We think of it like this, but this actually never happens.\n",
    "type(x).__sub__(x, y)  # Usually this is tried first.\n",
    "type(y).__rsub__(y, x)  # Then this is tried if __sub__ returned NotImplemented.\n",
    "```"
   ]
  },
  {
   "cell_type": "code",
   "execution_count": 119,
   "id": "9e41d2f1-169f-4ea3-bed4-35b95a82d5f1",
   "metadata": {},
   "outputs": [],
   "source": [
    "x, y = 2, 1"
   ]
  },
  {
   "cell_type": "code",
   "execution_count": 120,
   "id": "f0a59da2-96d5-4d84-a24b-90920778a70f",
   "metadata": {},
   "outputs": [
    {
     "data": {
      "text/plain": [
       "1"
      ]
     },
     "execution_count": 120,
     "metadata": {},
     "output_type": "execute_result"
    }
   ],
   "source": [
    "x.__sub__(y)"
   ]
  },
  {
   "cell_type": "code",
   "execution_count": null,
   "id": "3ff23677-9b3d-44c1-9923-fa6a346b7b7e",
   "metadata": {},
   "outputs": [],
   "source": []
  }
 ],
 "metadata": {
  "kernelspec": {
   "display_name": "Python 3 (ipykernel)",
   "language": "python",
   "name": "python3"
  },
  "language_info": {
   "codemirror_mode": {
    "name": "ipython",
    "version": 3
   },
   "file_extension": ".py",
   "mimetype": "text/x-python",
   "name": "python",
   "nbconvert_exporter": "python",
   "pygments_lexer": "ipython3",
   "version": "3.11.0"
  }
 },
 "nbformat": 4,
 "nbformat_minor": 5
}
