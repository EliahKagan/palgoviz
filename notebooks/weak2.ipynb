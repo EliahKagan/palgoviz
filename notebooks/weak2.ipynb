{
 "cells": [
  {
   "cell_type": "markdown",
   "id": "bcd9c1c2-e564-4884-b698-89510b5b78df",
   "metadata": {},
   "source": [
    "# Weak References - Part 2 of 2 (the weird stuff)"
   ]
  },
  {
   "cell_type": "markdown",
   "id": "d2630ff2-cbfb-4bc6-a08c-613b12b2ff48",
   "metadata": {},
   "source": [
    "## Review: Other proxy object in the standard library"
   ]
  },
  {
   "cell_type": "markdown",
   "id": "a14f48f4-ffa3-4f3f-b094-96d61b77b416",
   "metadata": {},
   "source": [
    "We've covered two other kinds of proxy objects:"
   ]
  },
  {
   "cell_type": "markdown",
   "id": "0e631e1e-63d4-461c-b11c-ee020b20e1ed",
   "metadata": {},
   "source": [
    "### Mapping proxies"
   ]
  },
  {
   "cell_type": "markdown",
   "id": "39ed6d9e-6c66-4d8e-9b96-c5bbf54c741b",
   "metadata": {},
   "source": [
    "The `__dict__` descriptor on a class returns a mapping proxy, which prohibits mutating operations such as setting a different value for a key:"
   ]
  },
  {
   "cell_type": "code",
   "execution_count": 1,
   "id": "05865555-439c-4636-860f-8d4195089919",
   "metadata": {},
   "outputs": [
    {
     "data": {
      "text/plain": [
       "mappingproxy({'__new__': <function list.__new__(*args, **kwargs)>,\n",
       "              '__repr__': <slot wrapper '__repr__' of 'list' objects>,\n",
       "              '__hash__': None,\n",
       "              '__getattribute__': <slot wrapper '__getattribute__' of 'list' objects>,\n",
       "              '__lt__': <slot wrapper '__lt__' of 'list' objects>,\n",
       "              '__le__': <slot wrapper '__le__' of 'list' objects>,\n",
       "              '__eq__': <slot wrapper '__eq__' of 'list' objects>,\n",
       "              '__ne__': <slot wrapper '__ne__' of 'list' objects>,\n",
       "              '__gt__': <slot wrapper '__gt__' of 'list' objects>,\n",
       "              '__ge__': <slot wrapper '__ge__' of 'list' objects>,\n",
       "              '__iter__': <slot wrapper '__iter__' of 'list' objects>,\n",
       "              '__init__': <slot wrapper '__init__' of 'list' objects>,\n",
       "              '__len__': <slot wrapper '__len__' of 'list' objects>,\n",
       "              '__getitem__': <method '__getitem__' of 'list' objects>,\n",
       "              '__setitem__': <slot wrapper '__setitem__' of 'list' objects>,\n",
       "              '__delitem__': <slot wrapper '__delitem__' of 'list' objects>,\n",
       "              '__add__': <slot wrapper '__add__' of 'list' objects>,\n",
       "              '__mul__': <slot wrapper '__mul__' of 'list' objects>,\n",
       "              '__rmul__': <slot wrapper '__rmul__' of 'list' objects>,\n",
       "              '__contains__': <slot wrapper '__contains__' of 'list' objects>,\n",
       "              '__iadd__': <slot wrapper '__iadd__' of 'list' objects>,\n",
       "              '__imul__': <slot wrapper '__imul__' of 'list' objects>,\n",
       "              '__reversed__': <method '__reversed__' of 'list' objects>,\n",
       "              '__sizeof__': <method '__sizeof__' of 'list' objects>,\n",
       "              'clear': <method 'clear' of 'list' objects>,\n",
       "              'copy': <method 'copy' of 'list' objects>,\n",
       "              'append': <method 'append' of 'list' objects>,\n",
       "              'insert': <method 'insert' of 'list' objects>,\n",
       "              'extend': <method 'extend' of 'list' objects>,\n",
       "              'pop': <method 'pop' of 'list' objects>,\n",
       "              'remove': <method 'remove' of 'list' objects>,\n",
       "              'index': <method 'index' of 'list' objects>,\n",
       "              'count': <method 'count' of 'list' objects>,\n",
       "              'reverse': <method 'reverse' of 'list' objects>,\n",
       "              'sort': <method 'sort' of 'list' objects>,\n",
       "              '__class_getitem__': <method '__class_getitem__' of 'list' objects>,\n",
       "              '__doc__': 'Built-in mutable sequence.\\n\\nIf no argument is given, the constructor creates a new empty list.\\nThe argument must be an iterable if specified.'})"
      ]
     },
     "execution_count": 1,
     "metadata": {},
     "output_type": "execute_result"
    }
   ],
   "source": [
    "list.__dict__"
   ]
  },
  {
   "cell_type": "markdown",
   "id": "aeeceb9b-dd97-4263-a12f-2f94b0aed4eb",
   "metadata": {},
   "source": [
    "We can also construct mapping proxies explicitly using the convenient `MappingProxyType` alias in the `types` module."
   ]
  },
  {
   "cell_type": "code",
   "execution_count": 2,
   "id": "642f79b5-c0d4-42f1-bb7e-00ac3ce1a044",
   "metadata": {},
   "outputs": [],
   "source": [
    "import types"
   ]
  },
  {
   "cell_type": "code",
   "execution_count": 3,
   "id": "1eae33c1-079a-404a-b270-ec0a23238f01",
   "metadata": {},
   "outputs": [
    {
     "data": {
      "text/plain": [
       "['AsyncGeneratorType',\n",
       " 'BuiltinFunctionType',\n",
       " 'BuiltinMethodType',\n",
       " 'CellType',\n",
       " 'ClassMethodDescriptorType',\n",
       " 'CodeType',\n",
       " 'CoroutineType',\n",
       " 'DynamicClassAttribute',\n",
       " 'EllipsisType',\n",
       " 'FrameType',\n",
       " 'FunctionType',\n",
       " 'GeneratorType',\n",
       " 'GenericAlias',\n",
       " 'GetSetDescriptorType',\n",
       " 'LambdaType',\n",
       " 'MappingProxyType',\n",
       " 'MemberDescriptorType',\n",
       " 'MethodDescriptorType',\n",
       " 'MethodType',\n",
       " 'MethodWrapperType',\n",
       " 'ModuleType',\n",
       " 'NoneType',\n",
       " 'NotImplementedType',\n",
       " 'SimpleNamespace',\n",
       " 'TracebackType',\n",
       " 'UnionType',\n",
       " 'WrapperDescriptorType',\n",
       " '_GeneratorWrapper',\n",
       " '__all__',\n",
       " '__builtins__',\n",
       " '__cached__',\n",
       " '__doc__',\n",
       " '__file__',\n",
       " '__loader__',\n",
       " '__name__',\n",
       " '__package__',\n",
       " '__spec__',\n",
       " '_calculate_meta',\n",
       " '_cell_factory',\n",
       " 'coroutine',\n",
       " 'new_class',\n",
       " 'prepare_class',\n",
       " 'resolve_bases']"
      ]
     },
     "execution_count": 3,
     "metadata": {},
     "output_type": "execute_result"
    }
   ],
   "source": [
    "dir(types)"
   ]
  },
  {
   "cell_type": "code",
   "execution_count": 4,
   "id": "47a0b494-0203-4b1a-af42-1cfc2fe5313c",
   "metadata": {},
   "outputs": [
    {
     "name": "stdout",
     "output_type": "stream",
     "text": [
      "Help on class mappingproxy in module builtins:\n",
      "\n",
      "class mappingproxy(object)\n",
      " |  Methods defined here:\n",
      " |  \n",
      " |  __contains__(self, key, /)\n",
      " |      Return key in self.\n",
      " |  \n",
      " |  __eq__(self, value, /)\n",
      " |      Return self==value.\n",
      " |  \n",
      " |  __ge__(self, value, /)\n",
      " |      Return self>=value.\n",
      " |  \n",
      " |  __getattribute__(self, name, /)\n",
      " |      Return getattr(self, name).\n",
      " |  \n",
      " |  __getitem__(self, key, /)\n",
      " |      Return self[key].\n",
      " |  \n",
      " |  __gt__(self, value, /)\n",
      " |      Return self>value.\n",
      " |  \n",
      " |  __ior__(self, value, /)\n",
      " |      Return self|=value.\n",
      " |  \n",
      " |  __iter__(self, /)\n",
      " |      Implement iter(self).\n",
      " |  \n",
      " |  __le__(self, value, /)\n",
      " |      Return self<=value.\n",
      " |  \n",
      " |  __len__(self, /)\n",
      " |      Return len(self).\n",
      " |  \n",
      " |  __lt__(self, value, /)\n",
      " |      Return self<value.\n",
      " |  \n",
      " |  __ne__(self, value, /)\n",
      " |      Return self!=value.\n",
      " |  \n",
      " |  __or__(self, value, /)\n",
      " |      Return self|value.\n",
      " |  \n",
      " |  __repr__(self, /)\n",
      " |      Return repr(self).\n",
      " |  \n",
      " |  __reversed__(...)\n",
      " |      D.__reversed__() -> reverse iterator\n",
      " |  \n",
      " |  __ror__(self, value, /)\n",
      " |      Return value|self.\n",
      " |  \n",
      " |  __str__(self, /)\n",
      " |      Return str(self).\n",
      " |  \n",
      " |  copy(...)\n",
      " |      D.copy() -> a shallow copy of D\n",
      " |  \n",
      " |  get(...)\n",
      " |      D.get(k[,d]) -> D[k] if k in D, else d.  d defaults to None.\n",
      " |  \n",
      " |  items(...)\n",
      " |      D.items() -> a set-like object providing a view on D's items\n",
      " |  \n",
      " |  keys(...)\n",
      " |      D.keys() -> a set-like object providing a view on D's keys\n",
      " |  \n",
      " |  values(...)\n",
      " |      D.values() -> an object providing a view on D's values\n",
      " |  \n",
      " |  ----------------------------------------------------------------------\n",
      " |  Class methods defined here:\n",
      " |  \n",
      " |  __class_getitem__(...) from builtins.type\n",
      " |      See PEP 585\n",
      " |  \n",
      " |  ----------------------------------------------------------------------\n",
      " |  Static methods defined here:\n",
      " |  \n",
      " |  __new__(*args, **kwargs) from builtins.type\n",
      " |      Create and return a new object.  See help(type) for accurate signature.\n",
      " |  \n",
      " |  ----------------------------------------------------------------------\n",
      " |  Data and other attributes defined here:\n",
      " |  \n",
      " |  __hash__ = None\n",
      "\n"
     ]
    }
   ],
   "source": [
    "help(types.MappingProxyType)"
   ]
  },
  {
   "cell_type": "code",
   "execution_count": 5,
   "id": "33038478-6e3f-4a5a-af32-6c65a318ab86",
   "metadata": {},
   "outputs": [],
   "source": [
    "d = {1: 1, 2: 2, 3: 3}"
   ]
  },
  {
   "cell_type": "code",
   "execution_count": 6,
   "id": "fc19371a-7f31-4d03-bbaa-04872c5f0dd7",
   "metadata": {},
   "outputs": [],
   "source": [
    "md = types.MappingProxyType(d)"
   ]
  },
  {
   "cell_type": "code",
   "execution_count": 7,
   "id": "6031d2ac-126b-4064-92d9-7ac0e4404e6e",
   "metadata": {},
   "outputs": [
    {
     "data": {
      "text/plain": [
       "mappingproxy({1: 1, 2: 2, 3: 3})"
      ]
     },
     "execution_count": 7,
     "metadata": {},
     "output_type": "execute_result"
    }
   ],
   "source": [
    "md "
   ]
  },
  {
   "cell_type": "code",
   "execution_count": 8,
   "id": "643f47b7-c185-48a0-bcfe-ae080681fb1e",
   "metadata": {},
   "outputs": [
    {
     "data": {
      "text/plain": [
       "2"
      ]
     },
     "execution_count": 8,
     "metadata": {},
     "output_type": "execute_result"
    }
   ],
   "source": [
    "md[2]"
   ]
  },
  {
   "cell_type": "code",
   "execution_count": 9,
   "id": "ec00f2f7-4c37-4059-94d0-d3fdbf1fd743",
   "metadata": {
    "tags": [
     "raises-exception"
    ]
   },
   "outputs": [
    {
     "ename": "TypeError",
     "evalue": "'mappingproxy' object does not support item assignment",
     "output_type": "error",
     "traceback": [
      "\u001b[1;31m---------------------------------------------------------------------------\u001b[0m",
      "\u001b[1;31mTypeError\u001b[0m                                 Traceback (most recent call last)",
      "Cell \u001b[1;32mIn [9], line 1\u001b[0m\n\u001b[1;32m----> 1\u001b[0m \u001b[43mmd\u001b[49m\u001b[43m[\u001b[49m\u001b[38;5;241;43m2\u001b[39;49m\u001b[43m]\u001b[49m \u001b[38;5;241m=\u001b[39m \u001b[38;5;241m3\u001b[39m\n",
      "\u001b[1;31mTypeError\u001b[0m: 'mappingproxy' object does not support item assignment"
     ]
    }
   ],
   "source": [
    "md[2] = 3"
   ]
  },
  {
   "cell_type": "code",
   "execution_count": 10,
   "id": "66e0debf-a442-41a6-9d2b-3de8f2a3c3c2",
   "metadata": {},
   "outputs": [],
   "source": [
    "d[2] = 4"
   ]
  },
  {
   "cell_type": "code",
   "execution_count": 11,
   "id": "a3b29ee6-5a76-45ba-9871-1e5fd665dd81",
   "metadata": {},
   "outputs": [
    {
     "data": {
      "text/plain": [
       "4"
      ]
     },
     "execution_count": 11,
     "metadata": {},
     "output_type": "execute_result"
    }
   ],
   "source": [
    "md[2]  # It's a proxy, so it reflects changes to the object \"behind\" it."
   ]
  },
  {
   "cell_type": "markdown",
   "id": "ccf58d46-8c7c-4478-9970-12a4451d4d71",
   "metadata": {},
   "source": [
    "### `super` proxies"
   ]
  },
  {
   "cell_type": "code",
   "execution_count": 12,
   "id": "c9c3881a-8132-4a81-8ba5-145aa1cf997a",
   "metadata": {},
   "outputs": [],
   "source": [
    "class Base: \n",
    "    def f(self):\n",
    "        print(\"Base.f\")"
   ]
  },
  {
   "cell_type": "code",
   "execution_count": 13,
   "id": "99097637-ab91-45a2-9608-af8043822432",
   "metadata": {},
   "outputs": [],
   "source": [
    "class Derived(Base): \n",
    "    def f(self): \n",
    "        print(\"Derived.f\")\n",
    "        super().f()"
   ]
  },
  {
   "cell_type": "code",
   "execution_count": 14,
   "id": "eb02764b-028f-4da7-8b99-54e8cb3b0808",
   "metadata": {},
   "outputs": [
    {
     "name": "stdout",
     "output_type": "stream",
     "text": [
      "Derived.f\n",
      "Base.f\n"
     ]
    }
   ],
   "source": [
    "Derived().f()"
   ]
  },
  {
   "cell_type": "markdown",
   "id": "8197689a-2d78-484a-b4c5-3707d19fb278",
   "metadata": {},
   "source": [
    "## Weak reference proxies"
   ]
  },
  {
   "cell_type": "code",
   "execution_count": 15,
   "id": "43c7bbfc-b609-46fc-83d4-c95f41070c8b",
   "metadata": {},
   "outputs": [],
   "source": [
    "import weakref"
   ]
  },
  {
   "cell_type": "code",
   "execution_count": 16,
   "id": "134f5b41-38c2-4a7d-8d68-680293846b6a",
   "metadata": {},
   "outputs": [],
   "source": [
    "class C: \n",
    "    def __init__(self): \n",
    "        self.a = 'a'\n",
    "        self.b = 'b'"
   ]
  },
  {
   "cell_type": "code",
   "execution_count": 17,
   "id": "c66b49c1-7f73-4855-8244-d5cf7fe39b5f",
   "metadata": {},
   "outputs": [],
   "source": [
    "c = C()"
   ]
  },
  {
   "cell_type": "code",
   "execution_count": 18,
   "id": "b4c2d570-ed69-4064-9634-93d82f08f9c4",
   "metadata": {},
   "outputs": [],
   "source": [
    "wcsimple = weakref.proxy(c)"
   ]
  },
  {
   "cell_type": "code",
   "execution_count": 19,
   "id": "dfeeee64-4167-4e5a-8fa1-3883fababd53",
   "metadata": {},
   "outputs": [
    {
     "data": {
      "text/plain": [
       "'a'"
      ]
     },
     "execution_count": 19,
     "metadata": {},
     "output_type": "execute_result"
    }
   ],
   "source": [
    "c.a"
   ]
  },
  {
   "cell_type": "code",
   "execution_count": 20,
   "id": "5810db40-c1e6-4d1a-b19e-77022f1ca21d",
   "metadata": {},
   "outputs": [
    {
     "data": {
      "text/plain": [
       "'a'"
      ]
     },
     "execution_count": 20,
     "metadata": {},
     "output_type": "execute_result"
    }
   ],
   "source": [
    "wcsimple.a"
   ]
  },
  {
   "cell_type": "code",
   "execution_count": 21,
   "id": "9053c780-cbf9-4723-bf66-2db408e0af38",
   "metadata": {},
   "outputs": [],
   "source": [
    "del c"
   ]
  },
  {
   "cell_type": "code",
   "execution_count": 22,
   "id": "9dec2a33-e147-49bb-9fe6-8be12227aad5",
   "metadata": {
    "tags": [
     "raises-exception"
    ]
   },
   "outputs": [
    {
     "ename": "ReferenceError",
     "evalue": "weakly-referenced object no longer exists",
     "output_type": "error",
     "traceback": [
      "\u001b[1;31m---------------------------------------------------------------------------\u001b[0m",
      "\u001b[1;31mReferenceError\u001b[0m                            Traceback (most recent call last)",
      "Cell \u001b[1;32mIn [22], line 1\u001b[0m\n\u001b[1;32m----> 1\u001b[0m \u001b[43mwcsimple\u001b[49m\u001b[38;5;241;43m.\u001b[39;49m\u001b[43ma\u001b[49m\n",
      "\u001b[1;31mReferenceError\u001b[0m: weakly-referenced object no longer exists"
     ]
    }
   ],
   "source": [
    "wcsimple.a"
   ]
  },
  {
   "cell_type": "code",
   "execution_count": 23,
   "id": "668abfa6-b6a6-4314-9d52-7b212cc07a9d",
   "metadata": {},
   "outputs": [],
   "source": [
    "c = C()"
   ]
  },
  {
   "cell_type": "code",
   "execution_count": 24,
   "id": "48d814c1-3929-48b7-9c1a-addbadadfe50",
   "metadata": {},
   "outputs": [
    {
     "data": {
      "text/plain": [
       "'a'"
      ]
     },
     "execution_count": 24,
     "metadata": {},
     "output_type": "execute_result"
    }
   ],
   "source": [
    "c.a"
   ]
  },
  {
   "cell_type": "code",
   "execution_count": 25,
   "id": "c0c7f8d6-3b73-48cb-803c-8923f779ee94",
   "metadata": {},
   "outputs": [],
   "source": [
    "wc = weakref.proxy(c, lambda x: print(f\"{x}'s referant has died.\"))"
   ]
  },
  {
   "cell_type": "code",
   "execution_count": 26,
   "id": "fd3352eb-46ea-4a8a-b5ad-44577d6f0908",
   "metadata": {},
   "outputs": [
    {
     "data": {
      "text/plain": [
       "<__main__.C at 0x215e100e980>"
      ]
     },
     "execution_count": 26,
     "metadata": {},
     "output_type": "execute_result"
    }
   ],
   "source": [
    "wc"
   ]
  },
  {
   "cell_type": "code",
   "execution_count": 27,
   "id": "71ae554d-b920-4164-8f18-15ff8abf34c6",
   "metadata": {},
   "outputs": [
    {
     "data": {
      "text/plain": [
       "'a'"
      ]
     },
     "execution_count": 27,
     "metadata": {},
     "output_type": "execute_result"
    }
   ],
   "source": [
    "wc.a"
   ]
  },
  {
   "cell_type": "code",
   "execution_count": 28,
   "id": "887cbd8d-5d85-41db-888d-d01bd43e46a2",
   "metadata": {},
   "outputs": [
    {
     "name": "stderr",
     "output_type": "stream",
     "text": [
      "Exception ignored in: <function <lambda> at 0x00000215E1017880>\n",
      "Traceback (most recent call last):\n",
      "  File \"C:\\Users\\User\\AppData\\Local\\Temp\\ipykernel_21124\\3266874697.py\", line 1, in <lambda>\n",
      "ReferenceError: weakly-referenced object no longer exists\n"
     ]
    }
   ],
   "source": [
    "del c"
   ]
  },
  {
   "cell_type": "code",
   "execution_count": 30,
   "id": "95b99bb1-6836-4672-9854-754078c03f82",
   "metadata": {
    "tags": [
     "raises-exception"
    ]
   },
   "outputs": [
    {
     "ename": "ReferenceError",
     "evalue": "weakly-referenced object no longer exists",
     "output_type": "error",
     "traceback": [
      "\u001b[1;31m---------------------------------------------------------------------------\u001b[0m",
      "\u001b[1;31mReferenceError\u001b[0m                            Traceback (most recent call last)",
      "File \u001b[1;32m~\\miniforge3\\envs\\algoviz\\lib\\site-packages\\IPython\\core\\interactiveshell.py:3234\u001b[0m, in \u001b[0;36mInteractiveShell.transform_cell\u001b[1;34m(self, raw_cell)\u001b[0m\n\u001b[0;32m   3229\u001b[0m \u001b[38;5;28;01mif\u001b[39;00m \u001b[38;5;28mlen\u001b[39m(cell\u001b[38;5;241m.\u001b[39msplitlines()) \u001b[38;5;241m==\u001b[39m \u001b[38;5;241m1\u001b[39m:\n\u001b[0;32m   3230\u001b[0m     \u001b[38;5;66;03m# Dynamic transformations - only applied for single line commands\u001b[39;00m\n\u001b[0;32m   3231\u001b[0m     \u001b[38;5;28;01mwith\u001b[39;00m \u001b[38;5;28mself\u001b[39m\u001b[38;5;241m.\u001b[39mbuiltin_trap:\n\u001b[0;32m   3232\u001b[0m         \u001b[38;5;66;03m# use prefilter_lines to handle trailing newlines\u001b[39;00m\n\u001b[0;32m   3233\u001b[0m         \u001b[38;5;66;03m# restore trailing newline for ast.parse\u001b[39;00m\n\u001b[1;32m-> 3234\u001b[0m         cell \u001b[38;5;241m=\u001b[39m \u001b[38;5;28;43mself\u001b[39;49m\u001b[38;5;241;43m.\u001b[39;49m\u001b[43mprefilter_manager\u001b[49m\u001b[38;5;241;43m.\u001b[39;49m\u001b[43mprefilter_lines\u001b[49m\u001b[43m(\u001b[49m\u001b[43mcell\u001b[49m\u001b[43m)\u001b[49m \u001b[38;5;241m+\u001b[39m \u001b[38;5;124m'\u001b[39m\u001b[38;5;130;01m\\n\u001b[39;00m\u001b[38;5;124m'\u001b[39m\n\u001b[0;32m   3236\u001b[0m lines \u001b[38;5;241m=\u001b[39m cell\u001b[38;5;241m.\u001b[39msplitlines(keepends\u001b[38;5;241m=\u001b[39m\u001b[38;5;28;01mTrue\u001b[39;00m)\n\u001b[0;32m   3237\u001b[0m \u001b[38;5;28;01mfor\u001b[39;00m transform \u001b[38;5;129;01min\u001b[39;00m \u001b[38;5;28mself\u001b[39m\u001b[38;5;241m.\u001b[39minput_transformers_post:\n",
      "File \u001b[1;32m~\\miniforge3\\envs\\algoviz\\lib\\site-packages\\IPython\\core\\prefilter.py:327\u001b[0m, in \u001b[0;36mPrefilterManager.prefilter_lines\u001b[1;34m(self, lines, continue_prompt)\u001b[0m\n\u001b[0;32m    324\u001b[0m     out \u001b[38;5;241m=\u001b[39m \u001b[38;5;124m'\u001b[39m\u001b[38;5;130;01m\\n\u001b[39;00m\u001b[38;5;124m'\u001b[39m\u001b[38;5;241m.\u001b[39mjoin([\u001b[38;5;28mself\u001b[39m\u001b[38;5;241m.\u001b[39mprefilter_line(line, lnum\u001b[38;5;241m>\u001b[39m\u001b[38;5;241m0\u001b[39m)\n\u001b[0;32m    325\u001b[0m                      \u001b[38;5;28;01mfor\u001b[39;00m lnum, line \u001b[38;5;129;01min\u001b[39;00m \u001b[38;5;28menumerate\u001b[39m(llines) ])\n\u001b[0;32m    326\u001b[0m \u001b[38;5;28;01melse\u001b[39;00m:\n\u001b[1;32m--> 327\u001b[0m     out \u001b[38;5;241m=\u001b[39m \u001b[38;5;28;43mself\u001b[39;49m\u001b[38;5;241;43m.\u001b[39;49m\u001b[43mprefilter_line\u001b[49m\u001b[43m(\u001b[49m\u001b[43mllines\u001b[49m\u001b[43m[\u001b[49m\u001b[38;5;241;43m0\u001b[39;49m\u001b[43m]\u001b[49m\u001b[43m,\u001b[49m\u001b[43m \u001b[49m\u001b[43mcontinue_prompt\u001b[49m\u001b[43m)\u001b[49m\n\u001b[0;32m    329\u001b[0m \u001b[38;5;28;01mreturn\u001b[39;00m out\n",
      "File \u001b[1;32m~\\miniforge3\\envs\\algoviz\\lib\\site-packages\\IPython\\core\\prefilter.py:302\u001b[0m, in \u001b[0;36mPrefilterManager.prefilter_line\u001b[1;34m(self, line, continue_prompt)\u001b[0m\n\u001b[0;32m    299\u001b[0m \u001b[38;5;28;01mif\u001b[39;00m continue_prompt \u001b[38;5;129;01mand\u001b[39;00m \u001b[38;5;129;01mnot\u001b[39;00m \u001b[38;5;28mself\u001b[39m\u001b[38;5;241m.\u001b[39mmulti_line_specials:\n\u001b[0;32m    300\u001b[0m     \u001b[38;5;28;01mreturn\u001b[39;00m normal_handler\u001b[38;5;241m.\u001b[39mhandle(line_info)\n\u001b[1;32m--> 302\u001b[0m prefiltered \u001b[38;5;241m=\u001b[39m \u001b[38;5;28;43mself\u001b[39;49m\u001b[38;5;241;43m.\u001b[39;49m\u001b[43mprefilter_line_info\u001b[49m\u001b[43m(\u001b[49m\u001b[43mline_info\u001b[49m\u001b[43m)\u001b[49m\n\u001b[0;32m    303\u001b[0m \u001b[38;5;66;03m# print \"prefiltered line: %r\" % prefiltered\u001b[39;00m\n\u001b[0;32m    304\u001b[0m \u001b[38;5;28;01mreturn\u001b[39;00m prefiltered\n",
      "File \u001b[1;32m~\\miniforge3\\envs\\algoviz\\lib\\site-packages\\IPython\\core\\prefilter.py:244\u001b[0m, in \u001b[0;36mPrefilterManager.prefilter_line_info\u001b[1;34m(self, line_info)\u001b[0m\n\u001b[0;32m    239\u001b[0m \u001b[38;5;124;03m\"\"\"Prefilter a line that has been converted to a LineInfo object.\u001b[39;00m\n\u001b[0;32m    240\u001b[0m \n\u001b[0;32m    241\u001b[0m \u001b[38;5;124;03mThis implements the checker/handler part of the prefilter pipe.\u001b[39;00m\n\u001b[0;32m    242\u001b[0m \u001b[38;5;124;03m\"\"\"\u001b[39;00m\n\u001b[0;32m    243\u001b[0m \u001b[38;5;66;03m# print \"prefilter_line_info: \", line_info\u001b[39;00m\n\u001b[1;32m--> 244\u001b[0m handler \u001b[38;5;241m=\u001b[39m \u001b[38;5;28;43mself\u001b[39;49m\u001b[38;5;241;43m.\u001b[39;49m\u001b[43mfind_handler\u001b[49m\u001b[43m(\u001b[49m\u001b[43mline_info\u001b[49m\u001b[43m)\u001b[49m\n\u001b[0;32m    245\u001b[0m \u001b[38;5;28;01mreturn\u001b[39;00m handler\u001b[38;5;241m.\u001b[39mhandle(line_info)\n",
      "File \u001b[1;32m~\\miniforge3\\envs\\algoviz\\lib\\site-packages\\IPython\\core\\prefilter.py:251\u001b[0m, in \u001b[0;36mPrefilterManager.find_handler\u001b[1;34m(self, line_info)\u001b[0m\n\u001b[0;32m    249\u001b[0m \u001b[38;5;28;01mfor\u001b[39;00m checker \u001b[38;5;129;01min\u001b[39;00m \u001b[38;5;28mself\u001b[39m\u001b[38;5;241m.\u001b[39mcheckers:\n\u001b[0;32m    250\u001b[0m     \u001b[38;5;28;01mif\u001b[39;00m checker\u001b[38;5;241m.\u001b[39menabled:\n\u001b[1;32m--> 251\u001b[0m         handler \u001b[38;5;241m=\u001b[39m \u001b[43mchecker\u001b[49m\u001b[38;5;241;43m.\u001b[39;49m\u001b[43mcheck\u001b[49m\u001b[43m(\u001b[49m\u001b[43mline_info\u001b[49m\u001b[43m)\u001b[49m\n\u001b[0;32m    252\u001b[0m         \u001b[38;5;28;01mif\u001b[39;00m handler:\n\u001b[0;32m    253\u001b[0m             \u001b[38;5;28;01mreturn\u001b[39;00m handler\n",
      "File \u001b[1;32m~\\miniforge3\\envs\\algoviz\\lib\\site-packages\\IPython\\core\\prefilter.py:408\u001b[0m, in \u001b[0;36mMacroChecker.check\u001b[1;34m(self, line_info)\u001b[0m\n\u001b[0;32m    406\u001b[0m \u001b[38;5;28;01mdef\u001b[39;00m \u001b[38;5;21mcheck\u001b[39m(\u001b[38;5;28mself\u001b[39m, line_info):\n\u001b[0;32m    407\u001b[0m     obj \u001b[38;5;241m=\u001b[39m \u001b[38;5;28mself\u001b[39m\u001b[38;5;241m.\u001b[39mshell\u001b[38;5;241m.\u001b[39muser_ns\u001b[38;5;241m.\u001b[39mget(line_info\u001b[38;5;241m.\u001b[39mifun)\n\u001b[1;32m--> 408\u001b[0m     \u001b[38;5;28;01mif\u001b[39;00m \u001b[38;5;28;43misinstance\u001b[39;49m\u001b[43m(\u001b[49m\u001b[43mobj\u001b[49m\u001b[43m,\u001b[49m\u001b[43m \u001b[49m\u001b[43mMacro\u001b[49m\u001b[43m)\u001b[49m:\n\u001b[0;32m    409\u001b[0m         \u001b[38;5;28;01mreturn\u001b[39;00m \u001b[38;5;28mself\u001b[39m\u001b[38;5;241m.\u001b[39mprefilter_manager\u001b[38;5;241m.\u001b[39mget_handler_by_name(\u001b[38;5;124m'\u001b[39m\u001b[38;5;124mmacro\u001b[39m\u001b[38;5;124m'\u001b[39m)\n\u001b[0;32m    410\u001b[0m     \u001b[38;5;28;01melse\u001b[39;00m:\n",
      "\u001b[1;31mReferenceError\u001b[0m: weakly-referenced object no longer exists"
     ]
    }
   ],
   "source": [
    "wc"
   ]
  },
  {
   "cell_type": "code",
   "execution_count": 31,
   "id": "4a0b0fd2-681f-495c-b6bd-2bcd020641d7",
   "metadata": {},
   "outputs": [],
   "source": [
    "c = C()"
   ]
  },
  {
   "cell_type": "code",
   "execution_count": 32,
   "id": "f49df83f-7f9d-4f33-a1cd-6728febe9a3c",
   "metadata": {},
   "outputs": [],
   "source": [
    "cghost = weakref.proxy(c, lambda x: print(\"Boooooooooooooooo!\"))"
   ]
  },
  {
   "cell_type": "code",
   "execution_count": 33,
   "id": "e19bf675-044f-4525-922a-5741250f6c17",
   "metadata": {},
   "outputs": [
    {
     "name": "stdout",
     "output_type": "stream",
     "text": [
      "Boooooooooooooooo!\n"
     ]
    }
   ],
   "source": [
    "del c"
   ]
  },
  {
   "cell_type": "code",
   "execution_count": 34,
   "id": "8b811a30-8fb8-4307-8300-ce55f1725e57",
   "metadata": {},
   "outputs": [],
   "source": [
    "c = C()"
   ]
  },
  {
   "cell_type": "code",
   "execution_count": 35,
   "id": "486bb61f-7945-4625-a45d-53bc7d833a4a",
   "metadata": {},
   "outputs": [],
   "source": [
    "rptest = weakref.proxy(c)"
   ]
  },
  {
   "cell_type": "code",
   "execution_count": 36,
   "id": "3faab85e-6f84-4d89-ab76-e282d20a6cd5",
   "metadata": {},
   "outputs": [
    {
     "data": {
      "text/plain": [
       "'<__main__.C object at 0x00000215E11C7BE0>'"
      ]
     },
     "execution_count": 36,
     "metadata": {},
     "output_type": "execute_result"
    }
   ],
   "source": [
    "repr(c)"
   ]
  },
  {
   "cell_type": "code",
   "execution_count": 37,
   "id": "0ba910e3-d5fa-42fe-b21c-13601d8f3e92",
   "metadata": {},
   "outputs": [
    {
     "data": {
      "text/plain": [
       "'<weakproxy at 0x00000215DFB173D0 to C at 0x00000215E11C7BE0>'"
      ]
     },
     "execution_count": 37,
     "metadata": {},
     "output_type": "execute_result"
    }
   ],
   "source": [
    "repr(rptest)"
   ]
  },
  {
   "cell_type": "code",
   "execution_count": 38,
   "id": "02c9090a-5126-4cdc-b73a-1992a726638f",
   "metadata": {},
   "outputs": [
    {
     "data": {
      "text/plain": [
       "<__main__.C at 0x215dfb173d0>"
      ]
     },
     "execution_count": 38,
     "metadata": {},
     "output_type": "execute_result"
    }
   ],
   "source": [
    "rptest"
   ]
  },
  {
   "cell_type": "code",
   "execution_count": 39,
   "id": "1dbe5493-e689-4bdb-8542-4276a106f041",
   "metadata": {},
   "outputs": [
    {
     "data": {
      "text/plain": [
       "'<__main__.C object at 0x00000215E11C7BE0>'"
      ]
     },
     "execution_count": 39,
     "metadata": {},
     "output_type": "execute_result"
    }
   ],
   "source": [
    "rptest.__repr__()"
   ]
  },
  {
   "cell_type": "code",
   "execution_count": 40,
   "id": "a54001c8-2a86-4b0b-b8bb-32fe2dc8eee6",
   "metadata": {},
   "outputs": [],
   "source": [
    "class DiffBox: \n",
    "    \n",
    "    def __init__(self, value): \n",
    "        self.value = value\n",
    "    \n",
    "    def __repr__(self): \n",
    "        return f'{type(self).__name__}({self.value!r})'\n",
    "\n",
    "    def __eq__(self, other): \n",
    "        if not isinstance(other, type(self)): \n",
    "            return NotImplemented\n",
    "        return self.value == other.value\n",
    "    \n",
    "    def __sub__(self, other): \n",
    "        if not isinstance(other, type(self)): \n",
    "            return NotImplemented\n",
    "        return type(self)(self.value - other.value)"
   ]
  },
  {
   "cell_type": "code",
   "execution_count": 41,
   "id": "791bcab5-ec57-40f2-993e-94f137c2660f",
   "metadata": {},
   "outputs": [],
   "source": [
    "d1 = DiffBox(1)"
   ]
  },
  {
   "cell_type": "code",
   "execution_count": 42,
   "id": "7a98fdd0-2ad9-4116-bbbc-f74f9f164632",
   "metadata": {},
   "outputs": [],
   "source": [
    "d5 = DiffBox(5)"
   ]
  },
  {
   "cell_type": "code",
   "execution_count": 43,
   "id": "87df082e-a432-4cbe-9296-15ca8a08daf1",
   "metadata": {},
   "outputs": [],
   "source": [
    "d4 = d5 - d1"
   ]
  },
  {
   "cell_type": "code",
   "execution_count": 46,
   "id": "fca9386d-d169-4776-9ced-56edf28ff2f0",
   "metadata": {},
   "outputs": [
    {
     "data": {
      "text/plain": [
       "DiffBox(4)"
      ]
     },
     "execution_count": 46,
     "metadata": {},
     "output_type": "execute_result"
    }
   ],
   "source": [
    "d4"
   ]
  },
  {
   "cell_type": "code",
   "execution_count": 44,
   "id": "434a2f79-18c3-4902-86e9-8c6446b041a1",
   "metadata": {},
   "outputs": [
    {
     "data": {
      "text/plain": [
       "True"
      ]
     },
     "execution_count": 44,
     "metadata": {},
     "output_type": "execute_result"
    }
   ],
   "source": [
    "d5 == DiffBox(5)"
   ]
  },
  {
   "cell_type": "code",
   "execution_count": 45,
   "id": "32684a11-59ed-4a17-9503-2e960e55f73a",
   "metadata": {},
   "outputs": [
    {
     "data": {
      "text/plain": [
       "False"
      ]
     },
     "execution_count": 45,
     "metadata": {},
     "output_type": "execute_result"
    }
   ],
   "source": [
    "d5 == DiffBox(4)"
   ]
  },
  {
   "cell_type": "code",
   "execution_count": null,
   "id": "b9fccb50-3996-4766-9241-f2435c352e68",
   "metadata": {},
   "outputs": [],
   "source": []
  }
 ],
 "metadata": {
  "kernelspec": {
   "display_name": "Python 3 (ipykernel)",
   "language": "python",
   "name": "python3"
  },
  "language_info": {
   "codemirror_mode": {
    "name": "ipython",
    "version": 3
   },
   "file_extension": ".py",
   "mimetype": "text/x-python",
   "name": "python",
   "nbconvert_exporter": "python",
   "pygments_lexer": "ipython3",
   "version": "3.10.6"
  }
 },
 "nbformat": 4,
 "nbformat_minor": 5
}
