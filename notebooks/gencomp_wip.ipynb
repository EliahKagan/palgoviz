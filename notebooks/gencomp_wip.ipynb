{
 "cells": [
  {
   "cell_type": "markdown",
   "id": "83188032-0a60-4580-af7e-ddaad7748a52",
   "metadata": {},
   "source": [
    "# `gencomp2.transpose_alt` scratchwork\n",
    "\n",
    "**FIXME:** Where do we want to put this?"
   ]
  },
  {
   "cell_type": "code",
   "execution_count": 1,
   "id": "22b1a3d0-5906-4fda-a1fe-d87551082011",
   "metadata": {
    "tags": []
   },
   "outputs": [],
   "source": [
    "from algoviz.gencomp2 import transpose_alt"
   ]
  },
  {
   "cell_type": "code",
   "execution_count": 2,
   "id": "23adc0be",
   "metadata": {},
   "outputs": [
    {
     "data": {
      "text/plain": [
       "((1, 4, 7), (2, 5, 8), (3, 6, 9))"
      ]
     },
     "execution_count": 2,
     "metadata": {},
     "output_type": "execute_result"
    }
   ],
   "source": [
    "transpose_alt(((1, 2, 3), (4, 5, 6), (7, 8, 9)))"
   ]
  },
  {
   "cell_type": "code",
   "execution_count": null,
   "id": "fc831d52-b157-42da-8726-f9a9a6985bf0",
   "metadata": {},
   "outputs": [],
   "source": []
  }
 ],
 "metadata": {
  "kernelspec": {
   "display_name": "Python 3 (ipykernel)",
   "language": "python",
   "name": "python3"
  },
  "language_info": {
   "codemirror_mode": {
    "name": "ipython",
    "version": 3
   },
   "file_extension": ".py",
   "mimetype": "text/x-python",
   "name": "python",
   "nbconvert_exporter": "python",
   "pygments_lexer": "ipython3",
   "version": "3.11.0"
  },
  "vscode": {
   "interpreter": {
    "hash": "7a7b42f825731c4d935f8bf006655acf84b53c1352303d13bb9aec5cb8623f97"
   }
  }
 },
 "nbformat": 4,
 "nbformat_minor": 5
}
