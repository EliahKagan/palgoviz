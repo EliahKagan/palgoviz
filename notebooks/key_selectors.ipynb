{
 "cells": [
  {
   "cell_type": "markdown",
   "id": "80c306ca-ac90-419c-81b9-813400abd60d",
   "metadata": {},
   "source": [
    "# Key Selector Functions"
   ]
  },
  {
   "cell_type": "code",
   "execution_count": 1,
   "id": "50dfd24e-8e0f-4e57-b83c-672d3ef8d4b3",
   "metadata": {},
   "outputs": [],
   "source": [
    "a = [10, 2, -1, 3, 17, 44, -27, -9]"
   ]
  },
  {
   "cell_type": "code",
   "execution_count": 2,
   "id": "e79c6717-4500-4a21-be16-2ac50a5a7757",
   "metadata": {},
   "outputs": [],
   "source": [
    "b = sorted(a)"
   ]
  },
  {
   "cell_type": "code",
   "execution_count": 3,
   "id": "f03f57b2-c626-4f35-8491-352af12f9f94",
   "metadata": {},
   "outputs": [
    {
     "data": {
      "text/plain": [
       "[-27, -9, -1, 2, 3, 10, 17, 44]"
      ]
     },
     "execution_count": 3,
     "metadata": {},
     "output_type": "execute_result"
    }
   ],
   "source": [
    "b"
   ]
  },
  {
   "cell_type": "code",
   "execution_count": 4,
   "id": "bd5f3b99-c275-41c5-a68a-3f01a5a65dd4",
   "metadata": {},
   "outputs": [
    {
     "data": {
      "text/plain": [
       "[10, 2, -1, 3, 17, 44, -27, -9]"
      ]
     },
     "execution_count": 4,
     "metadata": {},
     "output_type": "execute_result"
    }
   ],
   "source": [
    "a"
   ]
  },
  {
   "cell_type": "code",
   "execution_count": 5,
   "id": "e670654c-d0b1-4c62-913d-86106476fff6",
   "metadata": {},
   "outputs": [
    {
     "name": "stdout",
     "output_type": "stream",
     "text": [
      "Help on built-in function sorted in module builtins:\n",
      "\n",
      "sorted(iterable, /, *, key=None, reverse=False)\n",
      "    Return a new list containing all items from the iterable in ascending order.\n",
      "    \n",
      "    A custom key function can be supplied to customize the sort order, and the\n",
      "    reverse flag can be set to request the result in descending order.\n",
      "\n"
     ]
    }
   ],
   "source": [
    "help(sorted)"
   ]
  },
  {
   "cell_type": "code",
   "execution_count": 6,
   "id": "faceb4ec-601e-41a9-84f0-701469d1da8e",
   "metadata": {},
   "outputs": [
    {
     "data": {
      "text/plain": [
       "[-1, 2, 3, -9, 10, 17, -27, 44]"
      ]
     },
     "execution_count": 6,
     "metadata": {},
     "output_type": "execute_result"
    }
   ],
   "source": [
    "def av(num):\n",
    "    if num < 0: return -num\n",
    "    return num\n",
    "sorted(a, key=abs)"
   ]
  },
  {
   "cell_type": "code",
   "execution_count": 7,
   "id": "256748cd-5db4-4d52-8beb-5040b4ede09d",
   "metadata": {},
   "outputs": [
    {
     "data": {
      "text/plain": [
       "[-1, 2, 3, -9, 10, 17, -27, 44]"
      ]
     },
     "execution_count": 7,
     "metadata": {},
     "output_type": "execute_result"
    }
   ],
   "source": [
    "sorted(a, key=lambda x: x**2)"
   ]
  },
  {
   "cell_type": "code",
   "execution_count": 8,
   "id": "3d4f5c72-8a4d-4eb7-a558-c519e04990b4",
   "metadata": {},
   "outputs": [],
   "source": [
    "cache = {'vest': 3700, 'pants': 922}"
   ]
  },
  {
   "cell_type": "code",
   "execution_count": 9,
   "id": "9ef77344-f2cf-4d04-aa92-ec79c1b8ae78",
   "metadata": {},
   "outputs": [
    {
     "data": {
      "text/plain": [
       "False"
      ]
     },
     "execution_count": 9,
     "metadata": {},
     "output_type": "execute_result"
    }
   ],
   "source": [
    "'VEST' in cache"
   ]
  },
  {
   "cell_type": "code",
   "execution_count": 10,
   "id": "22544a51-dde3-4a72-8cd9-3f2d7c4fa774",
   "metadata": {},
   "outputs": [
    {
     "data": {
      "text/plain": [
       "True"
      ]
     },
     "execution_count": 10,
     "metadata": {},
     "output_type": "execute_result"
    }
   ],
   "source": [
    "'VEST'.lower() in cache"
   ]
  },
  {
   "cell_type": "code",
   "execution_count": 11,
   "id": "5f7626fe-8b0c-489f-bcc7-136a84ddc7d2",
   "metadata": {},
   "outputs": [
    {
     "data": {
      "text/plain": [
       "True"
      ]
     },
     "execution_count": 11,
     "metadata": {},
     "output_type": "execute_result"
    }
   ],
   "source": [
    "argument = 'VEST'\n",
    "mapped_key = argument.lower()\n",
    "mapped_key in cache"
   ]
  },
  {
   "cell_type": "code",
   "execution_count": 12,
   "id": "81dae76d-02f1-4b58-b6c7-995209674b35",
   "metadata": {},
   "outputs": [
    {
     "data": {
      "text/plain": [
       "False"
      ]
     },
     "execution_count": 12,
     "metadata": {},
     "output_type": "execute_result"
    }
   ],
   "source": [
    "argument = 'Hat'\n",
    "mapped_key = argument.lower()\n",
    "mapped_key in cache"
   ]
  },
  {
   "cell_type": "code",
   "execution_count": 13,
   "id": "eb85332d-8ced-40af-893c-5ec746c49bd4",
   "metadata": {},
   "outputs": [],
   "source": [
    "cache[mapped_key] = 4760"
   ]
  },
  {
   "cell_type": "code",
   "execution_count": 14,
   "id": "bce0ad58-df17-4faa-8bb3-2777e3957023",
   "metadata": {},
   "outputs": [
    {
     "data": {
      "text/plain": [
       "{'vest': 3700, 'pants': 922, 'hat': 4760}"
      ]
     },
     "execution_count": 14,
     "metadata": {},
     "output_type": "execute_result"
    }
   ],
   "source": [
    "cache"
   ]
  },
  {
   "cell_type": "code",
   "execution_count": null,
   "id": "8f6ce752-a33b-4678-90f2-18e5d0511083",
   "metadata": {},
   "outputs": [],
   "source": []
  }
 ],
 "metadata": {
  "kernelspec": {
   "display_name": "Python 3 (ipykernel)",
   "language": "python",
   "name": "python3"
  },
  "language_info": {
   "codemirror_mode": {
    "name": "ipython",
    "version": 3
   },
   "file_extension": ".py",
   "mimetype": "text/x-python",
   "name": "python",
   "nbconvert_exporter": "python",
   "pygments_lexer": "ipython3",
   "version": "3.11.0"
  }
 },
 "nbformat": 4,
 "nbformat_minor": 5
}
