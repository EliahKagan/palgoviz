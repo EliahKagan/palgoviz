{
 "cells": [
  {
   "cell_type": "markdown",
   "id": "81aa121d-6f89-4904-b3cb-8dacdf097073",
   "metadata": {},
   "source": [
    "# Different things one might thing of as \"nothing\"\n",
    "\n",
    "One must not confuse the absence of something from the absence of some other thing."
   ]
  },
  {
   "cell_type": "code",
   "execution_count": 1,
   "id": "76f5dacd-82b2-4c4a-a080-2981f2677cbb",
   "metadata": {},
   "outputs": [
    {
     "name": "stdout",
     "output_type": "stream",
     "text": [
      "None\n"
     ]
    }
   ],
   "source": [
    "print(repr(None))"
   ]
  },
  {
   "cell_type": "code",
   "execution_count": 2,
   "id": "8b714fd2-87d3-45ab-94a7-96bd479e5268",
   "metadata": {},
   "outputs": [
    {
     "name": "stdout",
     "output_type": "stream",
     "text": [
      "None\n"
     ]
    }
   ],
   "source": [
    "print(None)"
   ]
  },
  {
   "cell_type": "markdown",
   "id": "4c96592e-e182-40d2-95e9-c883a140901f",
   "metadata": {},
   "source": [
    "`None` is used to indicate the absence of a result, but it *is* an object, like any other."
   ]
  },
  {
   "cell_type": "code",
   "execution_count": 3,
   "id": "bbc03de0-4c78-4dfd-bf8a-4176828072eb",
   "metadata": {},
   "outputs": [
    {
     "data": {
      "text/plain": [
       "140733455470208"
      ]
     },
     "execution_count": 3,
     "metadata": {},
     "output_type": "execute_result"
    }
   ],
   "source": [
    "id(None)"
   ]
  },
  {
   "cell_type": "markdown",
   "id": "70036ebe-e0c1-4303-9c2e-ca8a31f75b1a",
   "metadata": {},
   "source": [
    "`None` is a singleton:\n",
    "\n",
    "- It is the only value of its type.\n",
    "- It is a unique object--there are no other objects of its type."
   ]
  },
  {
   "cell_type": "code",
   "execution_count": 4,
   "id": "a7ab51ce-7e74-41e6-9c7d-a0e2a455786d",
   "metadata": {},
   "outputs": [
    {
     "data": {
      "text/plain": [
       "NoneType"
      ]
     },
     "execution_count": 4,
     "metadata": {},
     "output_type": "execute_result"
    }
   ],
   "source": [
    "type(None)"
   ]
  },
  {
   "cell_type": "markdown",
   "id": "e3770928-0343-4ecc-b93c-5c188e78c190",
   "metadata": {},
   "source": [
    "Because `None` is a singleton, the idiomatic way to compare things to `None` is with the `is` operator."
   ]
  },
  {
   "cell_type": "code",
   "execution_count": 5,
   "id": "409462ce-8a2b-4547-8204-3e72b43254a9",
   "metadata": {},
   "outputs": [
    {
     "data": {
      "text/plain": [
       "{None}"
      ]
     },
     "execution_count": 5,
     "metadata": {},
     "output_type": "execute_result"
    }
   ],
   "source": [
    "{None}  # Works, None is hashable."
   ]
  },
  {
   "cell_type": "code",
   "execution_count": 6,
   "id": "15aee2bd-fce4-442c-b825-9c6afd86856d",
   "metadata": {},
   "outputs": [
    {
     "data": {
      "text/plain": [
       "False"
      ]
     },
     "execution_count": 6,
     "metadata": {},
     "output_type": "execute_result"
    }
   ],
   "source": [
    "{None} == {}"
   ]
  },
  {
   "cell_type": "code",
   "execution_count": 7,
   "id": "83b8b6b2-831d-4fc8-b080-0088b8b6f4fa",
   "metadata": {},
   "outputs": [
    {
     "data": {
      "text/plain": [
       "False"
      ]
     },
     "execution_count": 7,
     "metadata": {},
     "output_type": "execute_result"
    }
   ],
   "source": [
    "[None] == []"
   ]
  },
  {
   "cell_type": "code",
   "execution_count": 8,
   "id": "5922d393-f45f-4220-a671-f1e665b58638",
   "metadata": {},
   "outputs": [
    {
     "data": {
      "text/plain": [
       "False"
      ]
     },
     "execution_count": 8,
     "metadata": {},
     "output_type": "execute_result"
    }
   ],
   "source": [
    "{None} == None"
   ]
  },
  {
   "cell_type": "code",
   "execution_count": 9,
   "id": "41da74b6-e69e-4e52-9d15-c85d79b8c7fe",
   "metadata": {},
   "outputs": [
    {
     "data": {
      "text/plain": [
       "False"
      ]
     },
     "execution_count": 9,
     "metadata": {},
     "output_type": "execute_result"
    }
   ],
   "source": [
    "{None} == [None]"
   ]
  },
  {
   "cell_type": "code",
   "execution_count": 10,
   "id": "c6ba04bd-0e31-4657-8676-2a782a23a323",
   "metadata": {},
   "outputs": [
    {
     "data": {
      "text/plain": [
       "(None,)"
      ]
     },
     "execution_count": 10,
     "metadata": {},
     "output_type": "execute_result"
    }
   ],
   "source": [
    "(None,)"
   ]
  },
  {
   "cell_type": "markdown",
   "id": "88f12404-f697-4600-988d-e678ba76506f",
   "metadata": {},
   "source": [
    "If you return from a function without explicitly returning a value, you are returning `None`.\n",
    "\n",
    "- Falling off the end returns `None`.\n",
    "- A `return` statement with no expression returns `None`."
   ]
  },
  {
   "cell_type": "code",
   "execution_count": 11,
   "id": "6e9d079f-e41b-44e8-9b85-a43ddb354711",
   "metadata": {},
   "outputs": [
    {
     "data": {
      "text/plain": [
       "False"
      ]
     },
     "execution_count": 11,
     "metadata": {},
     "output_type": "execute_result"
    }
   ],
   "source": [
    "bool(None)"
   ]
  },
  {
   "cell_type": "code",
   "execution_count": 12,
   "id": "9735e439-2f50-4672-a7bb-cd22ea9affb1",
   "metadata": {},
   "outputs": [
    {
     "data": {
      "text/plain": [
       "False"
      ]
     },
     "execution_count": 12,
     "metadata": {},
     "output_type": "execute_result"
    }
   ],
   "source": [
    "bool(0)"
   ]
  },
  {
   "cell_type": "code",
   "execution_count": 13,
   "id": "142f5d06-6bf3-44d6-be59-599d77b6ced2",
   "metadata": {},
   "outputs": [
    {
     "data": {
      "text/plain": [
       "True"
      ]
     },
     "execution_count": 13,
     "metadata": {},
     "output_type": "execute_result"
    }
   ],
   "source": [
    "bool(0.0001)"
   ]
  },
  {
   "cell_type": "code",
   "execution_count": 14,
   "id": "f42fc890-2682-4c2f-b3af-9048015ec53c",
   "metadata": {},
   "outputs": [
    {
     "data": {
      "text/plain": [
       "False"
      ]
     },
     "execution_count": 14,
     "metadata": {},
     "output_type": "execute_result"
    }
   ],
   "source": [
    "bool(0.0)"
   ]
  },
  {
   "cell_type": "code",
   "execution_count": 15,
   "id": "3550d83e-63fb-432b-ba66-10e22dd7c1da",
   "metadata": {},
   "outputs": [
    {
     "data": {
      "text/plain": [
       "True"
      ]
     },
     "execution_count": 15,
     "metadata": {},
     "output_type": "execute_result"
    }
   ],
   "source": [
    "bool('False')"
   ]
  },
  {
   "cell_type": "code",
   "execution_count": 16,
   "id": "fd5d14ba-90b1-4f50-b7bc-814446fbb923",
   "metadata": {},
   "outputs": [
    {
     "data": {
      "text/plain": [
       "True"
      ]
     },
     "execution_count": 16,
     "metadata": {},
     "output_type": "execute_result"
    }
   ],
   "source": [
    "bool(str(False))"
   ]
  },
  {
   "cell_type": "code",
   "execution_count": 17,
   "id": "205865c5-2ddf-4009-a4c8-1064b5c94e21",
   "metadata": {},
   "outputs": [
    {
     "data": {
      "text/plain": [
       "True"
      ]
     },
     "execution_count": 17,
     "metadata": {},
     "output_type": "execute_result"
    }
   ],
   "source": [
    "bool(repr(False))"
   ]
  },
  {
   "cell_type": "code",
   "execution_count": 18,
   "id": "36f1e7d7-b0c9-428b-b479-67a850beb1f0",
   "metadata": {},
   "outputs": [
    {
     "data": {
      "text/plain": [
       "True"
      ]
     },
     "execution_count": 18,
     "metadata": {},
     "output_type": "execute_result"
    }
   ],
   "source": [
    "0 == 0.0"
   ]
  },
  {
   "cell_type": "code",
   "execution_count": 19,
   "id": "4b0f1a54-0783-46de-a282-9deb1e800a31",
   "metadata": {},
   "outputs": [],
   "source": [
    "from fractions import Fraction"
   ]
  },
  {
   "cell_type": "code",
   "execution_count": 20,
   "id": "8f3a857f-39c9-4335-97a2-6dbe65a4b78c",
   "metadata": {},
   "outputs": [
    {
     "data": {
      "text/plain": [
       "True"
      ]
     },
     "execution_count": 20,
     "metadata": {},
     "output_type": "execute_result"
    }
   ],
   "source": [
    "Fraction(0, 1) == 0"
   ]
  },
  {
   "cell_type": "code",
   "execution_count": 21,
   "id": "c83aa866-29a6-4c45-bdb1-3021584622a4",
   "metadata": {},
   "outputs": [
    {
     "data": {
      "text/plain": [
       "True"
      ]
     },
     "execution_count": 21,
     "metadata": {},
     "output_type": "execute_result"
    }
   ],
   "source": [
    "0 + 0j == 0 "
   ]
  },
  {
   "cell_type": "code",
   "execution_count": 22,
   "id": "7a4832da-aef1-46aa-ba7b-920b26607a26",
   "metadata": {},
   "outputs": [
    {
     "data": {
      "text/plain": [
       "complex"
      ]
     },
     "execution_count": 22,
     "metadata": {},
     "output_type": "execute_result"
    }
   ],
   "source": [
    "type(0j)"
   ]
  },
  {
   "cell_type": "code",
   "execution_count": 23,
   "id": "a838d512-18f2-4fd8-aeb9-cd0427d55a73",
   "metadata": {},
   "outputs": [
    {
     "data": {
      "text/plain": [
       "(-1+0j)"
      ]
     },
     "execution_count": 23,
     "metadata": {},
     "output_type": "execute_result"
    }
   ],
   "source": [
    "(-1j)**2"
   ]
  },
  {
   "cell_type": "code",
   "execution_count": 24,
   "id": "ebfb08cd-2ace-4fa3-97b2-fb7ee0acc562",
   "metadata": {},
   "outputs": [],
   "source": [
    "from math import pi, tau"
   ]
  },
  {
   "cell_type": "code",
   "execution_count": 25,
   "id": "b6176fbb-ceb9-4cc9-bfeb-705628d9e63e",
   "metadata": {},
   "outputs": [
    {
     "data": {
      "text/plain": [
       "3.141592653589793"
      ]
     },
     "execution_count": 25,
     "metadata": {},
     "output_type": "execute_result"
    }
   ],
   "source": [
    "pi"
   ]
  },
  {
   "cell_type": "code",
   "execution_count": 26,
   "id": "798cf576-5268-4596-9374-bb40557749d7",
   "metadata": {},
   "outputs": [
    {
     "data": {
      "text/plain": [
       "6.283185307179586"
      ]
     },
     "execution_count": 26,
     "metadata": {},
     "output_type": "execute_result"
    }
   ],
   "source": [
    "tau"
   ]
  },
  {
   "cell_type": "code",
   "execution_count": 27,
   "id": "6fd497a2-fd17-4c00-b494-61f82574a421",
   "metadata": {},
   "outputs": [],
   "source": [
    "d = {0j : 12}"
   ]
  },
  {
   "cell_type": "code",
   "execution_count": 28,
   "id": "4cb45dbe-a6e4-436d-877b-9610ab149909",
   "metadata": {},
   "outputs": [
    {
     "data": {
      "text/plain": [
       "12"
      ]
     },
     "execution_count": 28,
     "metadata": {},
     "output_type": "execute_result"
    }
   ],
   "source": [
    "d[0j]"
   ]
  },
  {
   "cell_type": "code",
   "execution_count": 29,
   "id": "fb3a3743-e45e-47ca-a83d-668e7e0911dc",
   "metadata": {},
   "outputs": [
    {
     "data": {
      "text/plain": [
       "12"
      ]
     },
     "execution_count": 29,
     "metadata": {},
     "output_type": "execute_result"
    }
   ],
   "source": [
    "d[0]"
   ]
  },
  {
   "cell_type": "code",
   "execution_count": 30,
   "id": "bd3af1f5-cb3b-499d-b418-72bc06c4c48f",
   "metadata": {},
   "outputs": [
    {
     "data": {
      "text/plain": [
       "0"
      ]
     },
     "execution_count": 30,
     "metadata": {},
     "output_type": "execute_result"
    }
   ],
   "source": [
    "hash(0)"
   ]
  },
  {
   "cell_type": "code",
   "execution_count": 31,
   "id": "75968fca-8b8b-4c4d-97a9-b576240a4206",
   "metadata": {},
   "outputs": [
    {
     "data": {
      "text/plain": [
       "0"
      ]
     },
     "execution_count": 31,
     "metadata": {},
     "output_type": "execute_result"
    }
   ],
   "source": [
    "hash(0.00)"
   ]
  },
  {
   "cell_type": "code",
   "execution_count": 32,
   "id": "a7512d84-c6de-4635-ad71-4c955dd1b56c",
   "metadata": {},
   "outputs": [
    {
     "data": {
      "text/plain": [
       "0"
      ]
     },
     "execution_count": 32,
     "metadata": {},
     "output_type": "execute_result"
    }
   ],
   "source": [
    "hash(0.0 + 0.0j)"
   ]
  },
  {
   "cell_type": "code",
   "execution_count": 33,
   "id": "0fd7d6f7-7fc9-450c-871e-cc62f115b4e0",
   "metadata": {},
   "outputs": [
    {
     "data": {
      "text/plain": [
       "False"
      ]
     },
     "execution_count": 33,
     "metadata": {},
     "output_type": "execute_result"
    }
   ],
   "source": [
    "bool(0j)"
   ]
  },
  {
   "cell_type": "code",
   "execution_count": 34,
   "id": "e08d511e-08e9-4879-90c4-417e76f4769d",
   "metadata": {},
   "outputs": [
    {
     "data": {
      "text/plain": [
       "False"
      ]
     },
     "execution_count": 34,
     "metadata": {},
     "output_type": "execute_result"
    }
   ],
   "source": [
    "bool(Fraction(0, 4))"
   ]
  },
  {
   "cell_type": "code",
   "execution_count": 35,
   "id": "ea8e9507-21a1-43f7-9e61-d945c75694b8",
   "metadata": {},
   "outputs": [
    {
     "data": {
      "text/plain": [
       "[]"
      ]
     },
     "execution_count": 35,
     "metadata": {},
     "output_type": "execute_result"
    }
   ],
   "source": [
    "[]"
   ]
  },
  {
   "cell_type": "code",
   "execution_count": 36,
   "id": "66d9c884-8b50-4984-9e72-15d7f8da3f56",
   "metadata": {},
   "outputs": [
    {
     "data": {
      "text/plain": [
       "False"
      ]
     },
     "execution_count": 36,
     "metadata": {},
     "output_type": "execute_result"
    }
   ],
   "source": [
    "bool([])"
   ]
  },
  {
   "cell_type": "code",
   "execution_count": 37,
   "id": "fd0d35e7-3360-4918-8e30-5d1a8f1dbe9e",
   "metadata": {},
   "outputs": [
    {
     "data": {
      "text/plain": [
       "True"
      ]
     },
     "execution_count": 37,
     "metadata": {},
     "output_type": "execute_result"
    }
   ],
   "source": [
    "bool([[]])  # Is truthy because it has an element, even though the element is falsy."
   ]
  },
  {
   "cell_type": "code",
   "execution_count": 38,
   "id": "8926b7ae-77a5-4847-9730-df8458abf090",
   "metadata": {},
   "outputs": [
    {
     "data": {
      "text/plain": [
       "True"
      ]
     },
     "execution_count": 38,
     "metadata": {},
     "output_type": "execute_result"
    }
   ],
   "source": [
    "bool([0])  # Similar to the example above."
   ]
  },
  {
   "cell_type": "code",
   "execution_count": 39,
   "id": "0480c416-9b77-48a9-9a4d-2b5b01cdc1fb",
   "metadata": {},
   "outputs": [
    {
     "data": {
      "text/plain": [
       "True"
      ]
     },
     "execution_count": 39,
     "metadata": {},
     "output_type": "execute_result"
    }
   ],
   "source": [
    "bool([None])  # also Truthy"
   ]
  },
  {
   "cell_type": "code",
   "execution_count": 40,
   "id": "bde618f3-728a-4fe9-b024-7b25fa74394c",
   "metadata": {},
   "outputs": [
    {
     "data": {
      "text/plain": [
       "{0j: 12}"
      ]
     },
     "execution_count": 40,
     "metadata": {},
     "output_type": "execute_result"
    }
   ],
   "source": [
    "d"
   ]
  },
  {
   "cell_type": "code",
   "execution_count": 41,
   "id": "22f60972-8aab-4b78-a9df-ca900bab9ce8",
   "metadata": {
    "tags": [
     "raises-exception"
    ]
   },
   "outputs": [
    {
     "ename": "KeyError",
     "evalue": "''",
     "output_type": "error",
     "traceback": [
      "\u001b[1;31m---------------------------------------------------------------------------\u001b[0m",
      "\u001b[1;31mKeyError\u001b[0m                                  Traceback (most recent call last)",
      "Cell \u001b[1;32mIn [41], line 1\u001b[0m\n\u001b[1;32m----> 1\u001b[0m \u001b[43md\u001b[49m\u001b[43m[\u001b[49m\u001b[38;5;124;43m'\u001b[39;49m\u001b[38;5;124;43m'\u001b[39;49m\u001b[43m]\u001b[49m\n",
      "\u001b[1;31mKeyError\u001b[0m: ''"
     ]
    }
   ],
   "source": [
    "d['']"
   ]
  },
  {
   "cell_type": "code",
   "execution_count": 42,
   "id": "a18f2faf-5f2a-426a-b4b5-5fd0a8a4fb30",
   "metadata": {},
   "outputs": [
    {
     "data": {
      "text/plain": [
       "12"
      ]
     },
     "execution_count": 42,
     "metadata": {},
     "output_type": "execute_result"
    }
   ],
   "source": [
    "d[False]"
   ]
  },
  {
   "cell_type": "code",
   "execution_count": 43,
   "id": "6cf4e07a-4856-40c3-a632-257901b7d998",
   "metadata": {},
   "outputs": [
    {
     "data": {
      "text/plain": [
       "False"
      ]
     },
     "execution_count": 43,
     "metadata": {},
     "output_type": "execute_result"
    }
   ],
   "source": [
    "[] == ()"
   ]
  },
  {
   "cell_type": "code",
   "execution_count": 44,
   "id": "02ebbdeb-2879-45d5-8d91-426abbc1c4f6",
   "metadata": {},
   "outputs": [
    {
     "data": {
      "text/plain": [
       "True"
      ]
     },
     "execution_count": 44,
     "metadata": {},
     "output_type": "execute_result"
    }
   ],
   "source": [
    "[] == []"
   ]
  },
  {
   "cell_type": "code",
   "execution_count": 45,
   "id": "63c01dec-90fb-4830-bb1d-506b043c7cb4",
   "metadata": {},
   "outputs": [],
   "source": [
    "a = '\\0'"
   ]
  },
  {
   "cell_type": "code",
   "execution_count": 46,
   "id": "ead7d505-24d4-4e45-aaaa-51fb43c5c2bf",
   "metadata": {},
   "outputs": [
    {
     "data": {
      "text/plain": [
       "False"
      ]
     },
     "execution_count": 46,
     "metadata": {},
     "output_type": "execute_result"
    }
   ],
   "source": [
    "a == ''"
   ]
  },
  {
   "cell_type": "code",
   "execution_count": 47,
   "id": "305c735d-8053-4bb6-86a8-0131fb6a692b",
   "metadata": {},
   "outputs": [
    {
     "data": {
      "text/plain": [
       "True"
      ]
     },
     "execution_count": 47,
     "metadata": {},
     "output_type": "execute_result"
    }
   ],
   "source": [
    "bool(a)"
   ]
  },
  {
   "cell_type": "code",
   "execution_count": null,
   "id": "ccc340e6-e2c9-4625-a42b-331da2e6d7a8",
   "metadata": {},
   "outputs": [],
   "source": []
  }
 ],
 "metadata": {
  "kernelspec": {
   "display_name": "Python 3 (ipykernel)",
   "language": "python",
   "name": "python3"
  },
  "language_info": {
   "codemirror_mode": {
    "name": "ipython",
    "version": 3
   },
   "file_extension": ".py",
   "mimetype": "text/x-python",
   "name": "python",
   "nbconvert_exporter": "python",
   "pygments_lexer": "ipython3",
   "version": "3.10.6"
  }
 },
 "nbformat": 4,
 "nbformat_minor": 5
}
