{
 "cells": [
  {
   "cell_type": "markdown",
   "id": "57af0197-6b79-49b5-9d53-d799e0604831",
   "metadata": {},
   "source": [
    "# Variable scoping"
   ]
  },
  {
   "cell_type": "code",
   "execution_count": 1,
   "id": "7d6a3c47-67f9-4b55-aad2-bc52096b9e38",
   "metadata": {},
   "outputs": [],
   "source": [
    "from palgoviz import scopes"
   ]
  },
  {
   "cell_type": "code",
   "execution_count": 2,
   "id": "970d2d75-44f1-415a-9380-da59d6bab461",
   "metadata": {},
   "outputs": [
    {
     "name": "stdout",
     "output_type": "stream",
     "text": [
      "Calling printer:  4\n",
      "Calling printer:  9\n",
      "Calling printer:  49\n"
     ]
    }
   ],
   "source": [
    "scopes.test_printers()"
   ]
  },
  {
   "cell_type": "code",
   "execution_count": 3,
   "id": "75b12088-1f30-410c-9c06-862ee963b7ba",
   "metadata": {},
   "outputs": [],
   "source": [
    "#scopes.demo()"
   ]
  },
  {
   "cell_type": "code",
   "execution_count": 4,
   "id": "eb18e53c-36a8-4e9d-bb33-b3e0ec31d7d5",
   "metadata": {},
   "outputs": [],
   "source": [
    "#scopes.x"
   ]
  },
  {
   "cell_type": "code",
   "execution_count": 5,
   "id": "ab359e55-7577-4330-b9e8-93ba7531f143",
   "metadata": {},
   "outputs": [],
   "source": [
    "def h():\n",
    "    pass"
   ]
  },
  {
   "cell_type": "code",
   "execution_count": 6,
   "id": "dab92de2-5a80-4909-9fe0-2a98e0ce9849",
   "metadata": {},
   "outputs": [
    {
     "data": {
      "text/plain": [
       "<function __main__.h()>"
      ]
     },
     "execution_count": 6,
     "metadata": {},
     "output_type": "execute_result"
    }
   ],
   "source": [
    "h"
   ]
  },
  {
   "cell_type": "code",
   "execution_count": 7,
   "id": "676f455a-522e-4b5e-8384-7de3cfe8d118",
   "metadata": {},
   "outputs": [
    {
     "name": "stdout",
     "output_type": "stream",
     "text": [
      "0\n",
      "1\n",
      "2\n",
      "3\n",
      "4\n",
      "5\n",
      "6\n",
      "7\n",
      "8\n",
      "9\n"
     ]
    }
   ],
   "source": [
    "for i in range(10):  # for (i = 0; i < 10; ++i) ...\n",
    "    print(i)"
   ]
  },
  {
   "cell_type": "code",
   "execution_count": 8,
   "id": "68cd5c07-9334-4726-80bf-bf7a5be234d9",
   "metadata": {},
   "outputs": [
    {
     "data": {
      "text/plain": [
       "9"
      ]
     },
     "execution_count": 8,
     "metadata": {},
     "output_type": "execute_result"
    }
   ],
   "source": [
    "i"
   ]
  },
  {
   "cell_type": "code",
   "execution_count": 9,
   "id": "7d3ce86f-e426-46bb-9be4-0f7076c626ec",
   "metadata": {},
   "outputs": [],
   "source": [
    "# Some words and their lengths.\n",
    "words = [('cat', 3), ('squirrel', 8), ('mouse', 5)]"
   ]
  },
  {
   "cell_type": "code",
   "execution_count": 10,
   "id": "fd605912-05e9-44ad-9c02-f074ca41879c",
   "metadata": {},
   "outputs": [
    {
     "name": "stdout",
     "output_type": "stream",
     "text": [
      "The word \"cat\" has 3 letters.\n",
      "The word \"squirrel\" has 8 letters.\n",
      "The word \"mouse\" has 5 letters.\n"
     ]
    }
   ],
   "source": [
    "for pair in words:\n",
    "    word = pair[0]\n",
    "    length = pair[1]\n",
    "    print(f'The word \"{word}\" has {length} letters.')"
   ]
  },
  {
   "cell_type": "code",
   "execution_count": 11,
   "id": "537271be-0141-4bdc-a89e-cb6136a4c50e",
   "metadata": {},
   "outputs": [
    {
     "name": "stdout",
     "output_type": "stream",
     "text": [
      "The word \"cat\" has 3 letters.\n",
      "The word \"squirrel\" has 8 letters.\n",
      "The word \"mouse\" has 5 letters.\n"
     ]
    }
   ],
   "source": [
    "for pair in words:\n",
    "    word, length = pair\n",
    "    print(f'The word \"{word}\" has {length} letters.')"
   ]
  },
  {
   "cell_type": "raw",
   "id": "36aabcf1-289d-484f-b7d3-b8d33f0eaec9",
   "metadata": {},
   "source": [
    "for word, length in words: \n",
    "    print(f'The word \"{word}\" has {length} letters.')"
   ]
  },
  {
   "cell_type": "code",
   "execution_count": 12,
   "id": "b126f3b5-6caa-46da-909b-701a721b9f0b",
   "metadata": {},
   "outputs": [],
   "source": [
    "cities = ['St. Louis', 'Syracuse', 'Stalingrad', 'Berlin', 'Normandy']"
   ]
  },
  {
   "cell_type": "code",
   "execution_count": 13,
   "id": "339b2d10-ac48-4ab7-b0e1-65156adec31b",
   "metadata": {},
   "outputs": [],
   "source": [
    "# 0: St. Louis\n",
    "# 1: Syracuse\n",
    "# 2: Stalingrad\n",
    "# ..."
   ]
  },
  {
   "cell_type": "code",
   "execution_count": 14,
   "id": "b31618eb-073c-405d-9a40-88e7462f0524",
   "metadata": {},
   "outputs": [
    {
     "name": "stdout",
     "output_type": "stream",
     "text": [
      "0: St. Louis\n",
      "1: Syracuse\n",
      "2: Stalingrad\n",
      "3: Berlin\n",
      "4: Normandy\n"
     ]
    }
   ],
   "source": [
    "index = 0\n",
    "for city in cities:\n",
    "    print(f'{index}: {city}')\n",
    "    index += 1"
   ]
  },
  {
   "cell_type": "code",
   "execution_count": 15,
   "id": "f953ea55-6ee4-489c-b4f4-5468dddb59be",
   "metadata": {},
   "outputs": [
    {
     "name": "stdout",
     "output_type": "stream",
     "text": [
      "0: St. Louis\n",
      "1: Syracuse\n",
      "2: Stalingrad\n",
      "3: Berlin\n",
      "4: Normandy\n"
     ]
    }
   ],
   "source": [
    "for index in range(len(cities)):\n",
    "    print(f'{index}: {cities[index]}')"
   ]
  },
  {
   "cell_type": "code",
   "execution_count": 16,
   "id": "e05972d1-04cf-4cc9-a678-9cee1cdb948a",
   "metadata": {},
   "outputs": [
    {
     "data": {
      "text/plain": [
       "[(0, 'St. Louis'),\n",
       " (1, 'Syracuse'),\n",
       " (2, 'Stalingrad'),\n",
       " (3, 'Berlin'),\n",
       " (4, 'Normandy')]"
      ]
     },
     "execution_count": 16,
     "metadata": {},
     "output_type": "execute_result"
    }
   ],
   "source": [
    "list(enumerate(cities))"
   ]
  },
  {
   "cell_type": "code",
   "execution_count": 17,
   "id": "766580ef-0c06-442b-b5d8-54ee2f58970b",
   "metadata": {},
   "outputs": [
    {
     "name": "stdout",
     "output_type": "stream",
     "text": [
      "0: St. Louis\n",
      "1: Syracuse\n",
      "2: Stalingrad\n",
      "3: Berlin\n",
      "4: Normandy\n"
     ]
    }
   ],
   "source": [
    "for index, city in enumerate(cities):\n",
    "    print(f'{index}: {city}')"
   ]
  },
  {
   "cell_type": "code",
   "execution_count": 18,
   "id": "380384cc-f013-4dce-a19d-c0a7354b6237",
   "metadata": {},
   "outputs": [],
   "source": [
    "from palgoviz import adders"
   ]
  },
  {
   "cell_type": "code",
   "execution_count": 19,
   "id": "b54b19f7-9a47-43c9-b963-06d8d69ca2bb",
   "metadata": {},
   "outputs": [
    {
     "data": {
      "text/plain": [
       "<function palgoviz.adders.make_adder.<locals>.adder(right_addend)>"
      ]
     },
     "execution_count": 19,
     "metadata": {},
     "output_type": "execute_result"
    }
   ],
   "source": [
    "adders.make_adder(7)"
   ]
  },
  {
   "cell_type": "code",
   "execution_count": 20,
   "id": "cd7e676b-8d45-4f23-8b99-69a7313db72d",
   "metadata": {},
   "outputs": [],
   "source": [
    "f = adders.make_adder(7)"
   ]
  },
  {
   "cell_type": "code",
   "execution_count": 21,
   "id": "14d7c78f-5158-427d-a35a-0a1f0da6331b",
   "metadata": {},
   "outputs": [
    {
     "data": {
      "text/plain": [
       "11"
      ]
     },
     "execution_count": 21,
     "metadata": {},
     "output_type": "execute_result"
    }
   ],
   "source": [
    "f(4)"
   ]
  },
  {
   "cell_type": "code",
   "execution_count": 22,
   "id": "f3cdd211-c986-4892-9d58-ca799809fd55",
   "metadata": {},
   "outputs": [
    {
     "data": {
      "text/plain": [
       "17"
      ]
     },
     "execution_count": 22,
     "metadata": {},
     "output_type": "execute_result"
    }
   ],
   "source": [
    "f(10)"
   ]
  },
  {
   "cell_type": "code",
   "execution_count": 23,
   "id": "bb64c4c1-e74e-4c56-8cb4-ff15e7b80ce5",
   "metadata": {},
   "outputs": [
    {
     "data": {
      "text/plain": [
       "8"
      ]
     },
     "execution_count": 23,
     "metadata": {},
     "output_type": "execute_result"
    }
   ],
   "source": [
    "adders.make_adder(6)(2)"
   ]
  },
  {
   "cell_type": "code",
   "execution_count": 24,
   "id": "efed0483-1c03-43c1-84f7-d528bcf9b34a",
   "metadata": {},
   "outputs": [],
   "source": [
    "s = adders.make_adder('cat')"
   ]
  },
  {
   "cell_type": "code",
   "execution_count": 25,
   "id": "be267861-6551-447a-8157-108211e47144",
   "metadata": {},
   "outputs": [
    {
     "data": {
      "text/plain": [
       "'cat dog'"
      ]
     },
     "execution_count": 25,
     "metadata": {},
     "output_type": "execute_result"
    }
   ],
   "source": [
    "s(' dog')"
   ]
  },
  {
   "cell_type": "code",
   "execution_count": 26,
   "id": "f064bc92-de4b-45d1-86f1-13bd0dcdfe93",
   "metadata": {},
   "outputs": [],
   "source": [
    "t = adders.make_adder((1,2))"
   ]
  },
  {
   "cell_type": "code",
   "execution_count": 27,
   "id": "7b2023db-222f-4f59-aadb-032eb40835c2",
   "metadata": {},
   "outputs": [
    {
     "data": {
      "text/plain": [
       "(1, 2, 3, 4)"
      ]
     },
     "execution_count": 27,
     "metadata": {},
     "output_type": "execute_result"
    }
   ],
   "source": [
    "t((3,4))"
   ]
  },
  {
   "cell_type": "code",
   "execution_count": 28,
   "id": "510e206e-9268-4f80-85a8-a209e4342253",
   "metadata": {},
   "outputs": [],
   "source": [
    "# t('cat')"
   ]
  },
  {
   "cell_type": "code",
   "execution_count": 29,
   "id": "360d6f63-a635-4df6-a504-2cd9fefe275e",
   "metadata": {},
   "outputs": [],
   "source": [
    "# h + h"
   ]
  },
  {
   "cell_type": "code",
   "execution_count": 30,
   "id": "02a1171c-b31c-4952-a610-3904b318fa16",
   "metadata": {},
   "outputs": [],
   "source": [
    "vain_attempt = adders.make_adder(h)"
   ]
  },
  {
   "cell_type": "code",
   "execution_count": 31,
   "id": "004d7718-a300-40dd-8fa8-426493f51b96",
   "metadata": {},
   "outputs": [],
   "source": [
    "# vain_attempt(h)"
   ]
  },
  {
   "cell_type": "code",
   "execution_count": 32,
   "id": "508282a3-3df7-4c1e-9d38-b1655206fa91",
   "metadata": {},
   "outputs": [
    {
     "name": "stdout",
     "output_type": "stream",
     "text": [
      "Help on built-in function sorted in module builtins:\n",
      "\n",
      "sorted(iterable, /, *, key=None, reverse=False)\n",
      "    Return a new list containing all items from the iterable in ascending order.\n",
      "    \n",
      "    A custom key function can be supplied to customize the sort order, and the\n",
      "    reverse flag can be set to request the result in descending order.\n",
      "\n"
     ]
    }
   ],
   "source": [
    "help(sorted)"
   ]
  },
  {
   "cell_type": "code",
   "execution_count": 33,
   "id": "367064a5-6fab-4002-a772-327174a9625a",
   "metadata": {},
   "outputs": [
    {
     "name": "stdout",
     "output_type": "stream",
     "text": [
      "Help on function make_adder in module palgoviz.adders:\n",
      "\n",
      "make_adder(left_addend)\n",
      "    Create a function that adds its argument to the already-given addend.\n",
      "    \n",
      "    >>> f = make_adder(7)\n",
      "    >>> f(4)\n",
      "    11\n",
      "    >>> f(10)\n",
      "    17\n",
      "    >>> make_adder(6)(2)\n",
      "    8\n",
      "    >>> s = make_adder('cat')\n",
      "    >>> s(' dog')\n",
      "    'cat dog'\n",
      "\n"
     ]
    }
   ],
   "source": [
    "help(adders.make_adder)"
   ]
  },
  {
   "cell_type": "code",
   "execution_count": 34,
   "id": "20dc90d1-cfcf-4dca-9ce3-f9383d09f43e",
   "metadata": {},
   "outputs": [
    {
     "data": {
      "text/plain": [
       "['St. Louis', 'Syracuse', 'Stalingrad', 'Berlin', 'Normandy']"
      ]
     },
     "execution_count": 34,
     "metadata": {},
     "output_type": "execute_result"
    }
   ],
   "source": [
    "cities"
   ]
  },
  {
   "cell_type": "code",
   "execution_count": 35,
   "id": "dee7a662-f764-4606-8ada-21a97e641004",
   "metadata": {},
   "outputs": [
    {
     "data": {
      "text/plain": [
       "['Berlin', 'Normandy', 'St. Louis', 'Stalingrad', 'Syracuse']"
      ]
     },
     "execution_count": 35,
     "metadata": {},
     "output_type": "execute_result"
    }
   ],
   "source": [
    "sorted(cities)"
   ]
  },
  {
   "cell_type": "code",
   "execution_count": 36,
   "id": "c15b96f0-3093-4e34-9543-46b1e4213c3d",
   "metadata": {},
   "outputs": [
    {
     "data": {
      "text/plain": [
       "['St. Louis', 'Syracuse', 'Stalingrad', 'Berlin', 'Normandy']"
      ]
     },
     "execution_count": 36,
     "metadata": {},
     "output_type": "execute_result"
    }
   ],
   "source": [
    "cities"
   ]
  },
  {
   "cell_type": "code",
   "execution_count": 37,
   "id": "4fe0889a-044b-4d07-8565-479b8da055ae",
   "metadata": {},
   "outputs": [
    {
     "data": {
      "text/plain": [
       "['Berlin', 'Syracuse', 'Normandy', 'St. Louis', 'Stalingrad']"
      ]
     },
     "execution_count": 37,
     "metadata": {},
     "output_type": "execute_result"
    }
   ],
   "source": [
    "sorted(cities, key = len)"
   ]
  },
  {
   "cell_type": "code",
   "execution_count": 38,
   "id": "efc056a9-750e-407f-ad3c-3b84cdcfe36a",
   "metadata": {},
   "outputs": [
    {
     "data": {
      "text/plain": [
       "['St. Louis', 'Syracuse', 'Stalingrad', 'Berlin', 'Normandy']"
      ]
     },
     "execution_count": 38,
     "metadata": {},
     "output_type": "execute_result"
    }
   ],
   "source": [
    "cities"
   ]
  },
  {
   "cell_type": "code",
   "execution_count": 39,
   "id": "32da93fe-302d-478b-a9bb-1459f899e054",
   "metadata": {},
   "outputs": [
    {
     "data": {
      "text/plain": [
       "[3, 4, 9, 17]"
      ]
     },
     "execution_count": 39,
     "metadata": {},
     "output_type": "execute_result"
    }
   ],
   "source": [
    "sorted((3, 17, 4, 9))"
   ]
  },
  {
   "cell_type": "code",
   "execution_count": 40,
   "id": "867181cf-51a4-46db-99f0-30bef40a3dec",
   "metadata": {},
   "outputs": [
    {
     "name": "stdout",
     "output_type": "stream",
     "text": [
      "Help on method_descriptor:\n",
      "\n",
      "sort(self, /, *, key=None, reverse=False)\n",
      "    Sort the list in ascending order and return None.\n",
      "    \n",
      "    The sort is in-place (i.e. the list itself is modified) and stable (i.e. the\n",
      "    order of two equal elements is maintained).\n",
      "    \n",
      "    If a key function is given, apply it once to each list item and sort them,\n",
      "    ascending or descending, according to their function values.\n",
      "    \n",
      "    The reverse flag can be set to sort in descending order.\n",
      "\n"
     ]
    }
   ],
   "source": [
    "help(list.sort)"
   ]
  },
  {
   "cell_type": "code",
   "execution_count": 41,
   "id": "53c2f244-3c4f-4d4e-9ee1-dc794b106348",
   "metadata": {},
   "outputs": [
    {
     "name": "stdout",
     "output_type": "stream",
     "text": [
      "Help on built-in function sorted in module builtins:\n",
      "\n",
      "sorted(iterable, /, *, key=None, reverse=False)\n",
      "    Return a new list containing all items from the iterable in ascending order.\n",
      "    \n",
      "    A custom key function can be supplied to customize the sort order, and the\n",
      "    reverse flag can be set to request the result in descending order.\n",
      "\n"
     ]
    }
   ],
   "source": [
    "help(sorted)"
   ]
  },
  {
   "cell_type": "code",
   "execution_count": 42,
   "id": "2de50998-3a12-4cdf-8d85-b0e8019a13e1",
   "metadata": {},
   "outputs": [
    {
     "data": {
      "text/plain": [
       "['Berlin', 'Normandy', 'St. Louis', 'Stalingrad', 'Syracuse']"
      ]
     },
     "execution_count": 42,
     "metadata": {},
     "output_type": "execute_result"
    }
   ],
   "source": [
    "# Sort cities in place, in alphabetical order of the second character of each element.\n",
    "def s_char(city):\n",
    "    return city[1]\n",
    "cities.sort(key = s_char)\n",
    "cities"
   ]
  },
  {
   "cell_type": "code",
   "execution_count": 43,
   "id": "fbc6f8ec-9211-4b1b-9808-7fcfc0214820",
   "metadata": {},
   "outputs": [
    {
     "data": {
      "text/plain": [
       "<function palgoviz.adders.make_adder.<locals>.adder(right_addend)>"
      ]
     },
     "execution_count": 43,
     "metadata": {},
     "output_type": "execute_result"
    }
   ],
   "source": [
    "f"
   ]
  },
  {
   "cell_type": "code",
   "execution_count": 44,
   "id": "b6816e9a-6e11-4042-b094-2bbcacb38141",
   "metadata": {},
   "outputs": [
    {
     "data": {
      "text/plain": [
       "<function __main__.h()>"
      ]
     },
     "execution_count": 44,
     "metadata": {},
     "output_type": "execute_result"
    }
   ],
   "source": [
    "h"
   ]
  },
  {
   "cell_type": "code",
   "execution_count": 45,
   "id": "0cae1f2a-160e-4944-a34a-a6b01d81c4bd",
   "metadata": {},
   "outputs": [
    {
     "data": {
      "text/plain": [
       "['__annotations__',\n",
       " '__builtins__',\n",
       " '__call__',\n",
       " '__class__',\n",
       " '__closure__',\n",
       " '__code__',\n",
       " '__defaults__',\n",
       " '__delattr__',\n",
       " '__dict__',\n",
       " '__dir__',\n",
       " '__doc__',\n",
       " '__eq__',\n",
       " '__format__',\n",
       " '__ge__',\n",
       " '__get__',\n",
       " '__getattribute__',\n",
       " '__getstate__',\n",
       " '__globals__',\n",
       " '__gt__',\n",
       " '__hash__',\n",
       " '__init__',\n",
       " '__init_subclass__',\n",
       " '__kwdefaults__',\n",
       " '__le__',\n",
       " '__lt__',\n",
       " '__module__',\n",
       " '__name__',\n",
       " '__ne__',\n",
       " '__new__',\n",
       " '__qualname__',\n",
       " '__reduce__',\n",
       " '__reduce_ex__',\n",
       " '__repr__',\n",
       " '__setattr__',\n",
       " '__sizeof__',\n",
       " '__str__',\n",
       " '__subclasshook__']"
      ]
     },
     "execution_count": 45,
     "metadata": {},
     "output_type": "execute_result"
    }
   ],
   "source": [
    "dir(f)"
   ]
  },
  {
   "cell_type": "code",
   "execution_count": 46,
   "id": "64d87e81-22d0-44a1-9a11-f1439c8aae23",
   "metadata": {},
   "outputs": [
    {
     "data": {
      "text/plain": [
       "'adder'"
      ]
     },
     "execution_count": 46,
     "metadata": {},
     "output_type": "execute_result"
    }
   ],
   "source": [
    "f.__name__"
   ]
  },
  {
   "cell_type": "code",
   "execution_count": 47,
   "id": "37a10e65-b4b4-4da2-892d-368380dd0b33",
   "metadata": {},
   "outputs": [
    {
     "data": {
      "text/plain": [
       "['St. Louis', 'Syracuse', 'Stalingrad', 'Berlin', 'Normandy']"
      ]
     },
     "execution_count": 47,
     "metadata": {},
     "output_type": "execute_result"
    }
   ],
   "source": [
    "cities = ['St. Louis', 'Syracuse', 'Stalingrad', 'Berlin', 'Normandy']\n",
    "cities"
   ]
  },
  {
   "cell_type": "code",
   "execution_count": 48,
   "id": "ba4a30f9-f10b-48e0-bbfc-ccde3709a6b7",
   "metadata": {},
   "outputs": [
    {
     "data": {
      "text/plain": [
       "['Berlin', 'Normandy', 'St. Louis', 'Stalingrad', 'Syracuse']"
      ]
     },
     "execution_count": 48,
     "metadata": {},
     "output_type": "execute_result"
    }
   ],
   "source": [
    "# Sort cities in alphabetical order of the second character of each element.\n",
    "sorted(cities, key = lambda city: city[1])"
   ]
  },
  {
   "cell_type": "code",
   "execution_count": 49,
   "id": "418d0244-0ae7-417d-8e4b-fd69e4a40426",
   "metadata": {},
   "outputs": [
    {
     "data": {
      "text/plain": [
       "['St. Louis', 'Syracuse', 'Stalingrad', 'Berlin', 'Normandy']"
      ]
     },
     "execution_count": 49,
     "metadata": {},
     "output_type": "execute_result"
    }
   ],
   "source": [
    "cities"
   ]
  },
  {
   "cell_type": "code",
   "execution_count": 50,
   "id": "a221990a-d99b-4aba-9f8f-569f7b08f90d",
   "metadata": {},
   "outputs": [
    {
     "name": "stdout",
     "output_type": "stream",
     "text": [
      "16\n"
     ]
    }
   ],
   "source": [
    "def square(x):\n",
    "    return x**2\n",
    "\n",
    "print(square(4))"
   ]
  },
  {
   "cell_type": "code",
   "execution_count": 51,
   "id": "60783712-64b5-4ead-ae11-5d2eb55acdd1",
   "metadata": {},
   "outputs": [
    {
     "name": "stdout",
     "output_type": "stream",
     "text": [
      "16\n"
     ]
    }
   ],
   "source": [
    "print((lambda x: x**2)(4))"
   ]
  },
  {
   "cell_type": "code",
   "execution_count": 52,
   "id": "a92f743a-13dc-477d-b506-c4aa1b1ad27c",
   "metadata": {},
   "outputs": [
    {
     "data": {
      "text/plain": [
       "<function __main__.<lambda>(city)>"
      ]
     },
     "execution_count": 52,
     "metadata": {},
     "output_type": "execute_result"
    }
   ],
   "source": [
    "lambda city: city[2]"
   ]
  },
  {
   "cell_type": "code",
   "execution_count": 53,
   "id": "d0256158-5306-4b12-bca9-a27d9271924a",
   "metadata": {},
   "outputs": [
    {
     "data": {
      "text/plain": [
       "function"
      ]
     },
     "execution_count": 53,
     "metadata": {},
     "output_type": "execute_result"
    }
   ],
   "source": [
    "def h():\n",
    "    pass\n",
    "\n",
    "type(h)"
   ]
  },
  {
   "cell_type": "code",
   "execution_count": 54,
   "id": "8a30006b-6929-4c81-a3d7-47492677a9e4",
   "metadata": {},
   "outputs": [
    {
     "data": {
      "text/plain": [
       "function"
      ]
     },
     "execution_count": 54,
     "metadata": {},
     "output_type": "execute_result"
    }
   ],
   "source": [
    "type(lambda: None)"
   ]
  },
  {
   "cell_type": "code",
   "execution_count": 55,
   "id": "e5c64da8-b2a4-408a-90db-7900011cdc59",
   "metadata": {},
   "outputs": [
    {
     "name": "stdout",
     "output_type": "stream",
     "text": [
      "10\n",
      "10\n",
      "10\n",
      "10\n",
      "10\n",
      "10\n",
      "10\n",
      "10\n",
      "10\n",
      "10\n"
     ]
    }
   ],
   "source": [
    "def make_constant_functions_bad1(n):\n",
    "    \"\"\"Return a list [f1, f2, ..., fn] where fk() == k.\"\"\"\n",
    "    return [lambda: x for x in range(1, n + 1)]\n",
    "\n",
    "for function in make_constant_functions_bad1(10):\n",
    "    print(function())"
   ]
  },
  {
   "cell_type": "code",
   "execution_count": 56,
   "id": "a52c9c19-4678-4d36-9d30-54d3a736cb08",
   "metadata": {},
   "outputs": [
    {
     "name": "stdout",
     "output_type": "stream",
     "text": [
      "10\n",
      "10\n",
      "10\n",
      "10\n",
      "10\n",
      "10\n",
      "10\n",
      "10\n",
      "10\n",
      "10\n"
     ]
    }
   ],
   "source": [
    "def make_constant_functions_bad2(n):\n",
    "    \"\"\"Return a list [f1, f2, ..., fn] where fk() == k.\"\"\"\n",
    "    l = []\n",
    "    for x in range(1, n + 1): \n",
    "        def const_func():\n",
    "            y = x\n",
    "            return y\n",
    "        l.append(const_func)\n",
    "    return l\n",
    "\n",
    "for function in make_constant_functions_bad2(10):\n",
    "    print(function())"
   ]
  },
  {
   "cell_type": "code",
   "execution_count": 57,
   "id": "29db17f8-c535-44c1-b51c-a71865db4c2b",
   "metadata": {},
   "outputs": [
    {
     "name": "stdout",
     "output_type": "stream",
     "text": [
      "1\n",
      "2\n",
      "3\n",
      "4\n",
      "5\n",
      "6\n",
      "7\n",
      "8\n",
      "9\n",
      "10\n"
     ]
    }
   ],
   "source": [
    "def make_constant_functions(n):\n",
    "    \"\"\"Return a list [f1, f2, ..., fn] where fk() == k.\"\"\"\n",
    "    def helper(y):\n",
    "        return(lambda: y)\n",
    "    return [helper(x) for x in range(1, n + 1)]\n",
    "\n",
    "for function in make_constant_functions(10):\n",
    "    print(function())"
   ]
  },
  {
   "cell_type": "markdown",
   "id": "28531dc2-a213-4846-b7e4-db343c486c90",
   "metadata": {},
   "source": [
    "# LEGB\n",
    "\n",
    "- Local\n",
    "- Enclosing\n",
    "- Global\n",
    "- Builtin"
   ]
  },
  {
   "cell_type": "code",
   "execution_count": 58,
   "id": "aa30d770-229e-4ac0-af1a-68315dac0eed",
   "metadata": {},
   "outputs": [
    {
     "name": "stdout",
     "output_type": "stream",
     "text": [
      "4\n"
     ]
    }
   ],
   "source": [
    "def outer():\n",
    "    a = 3\n",
    "    \n",
    "    def inner():\n",
    "        nonlocal a\n",
    "        a = 4\n",
    "    \n",
    "    inner()\n",
    "    print(a)\n",
    "outer()"
   ]
  },
  {
   "cell_type": "code",
   "execution_count": 59,
   "id": "30b4a01f-08ac-4a03-9418-219b42c27425",
   "metadata": {},
   "outputs": [
    {
     "name": "stdout",
     "output_type": "stream",
     "text": [
      "3\n"
     ]
    }
   ],
   "source": [
    "a = 2\n",
    "def outer():\n",
    "    global a\n",
    "    a = 3\n",
    "outer()\n",
    "print(a)"
   ]
  },
  {
   "cell_type": "code",
   "execution_count": 60,
   "id": "5e6bf9e2-e2c3-41da-9530-6456550fe5b8",
   "metadata": {},
   "outputs": [],
   "source": [
    "def increment():\n",
    "    global a \n",
    "    a += 1"
   ]
  },
  {
   "cell_type": "code",
   "execution_count": 61,
   "id": "101f0e69-fa09-49ab-bbc0-08dad53969a6",
   "metadata": {},
   "outputs": [
    {
     "name": "stdout",
     "output_type": "stream",
     "text": [
      "4\n"
     ]
    }
   ],
   "source": [
    "increment()\n",
    "print(a)"
   ]
  },
  {
   "cell_type": "code",
   "execution_count": 62,
   "id": "e2437ccc-42fe-4333-b51a-962ec924b0c1",
   "metadata": {},
   "outputs": [],
   "source": [
    "def make_counter():\n",
    "    l = 0\n",
    "    def counter():\n",
    "        nonlocal l\n",
    "        l += 1\n",
    "        print(l)\n",
    "    return counter"
   ]
  },
  {
   "cell_type": "code",
   "execution_count": 63,
   "id": "9a8b4b66-a650-41b1-bbb5-3ef976e54bed",
   "metadata": {},
   "outputs": [],
   "source": [
    "counter = make_counter()"
   ]
  },
  {
   "cell_type": "code",
   "execution_count": 64,
   "id": "2457fc3b-e5c9-4cb4-b001-2ea2f6eb29b8",
   "metadata": {},
   "outputs": [
    {
     "name": "stdout",
     "output_type": "stream",
     "text": [
      "1\n"
     ]
    }
   ],
   "source": [
    "counter()  # Increments the captured variable."
   ]
  },
  {
   "cell_type": "code",
   "execution_count": 65,
   "id": "057a3f4e-9c5c-4e2f-88c9-4cb6798c9f57",
   "metadata": {},
   "outputs": [],
   "source": [
    "counter2 = make_counter()"
   ]
  },
  {
   "cell_type": "code",
   "execution_count": 66,
   "id": "d545ea30-e832-4085-a779-ce6cb1db0b6c",
   "metadata": {},
   "outputs": [
    {
     "name": "stdout",
     "output_type": "stream",
     "text": [
      "1\n"
     ]
    }
   ],
   "source": [
    "counter2()"
   ]
  },
  {
   "cell_type": "code",
   "execution_count": 67,
   "id": "1876f219-1bca-4956-8a79-b6dab27889b1",
   "metadata": {
    "tags": [
     "raises-exception"
    ]
   },
   "outputs": [
    {
     "ename": "SyntaxError",
     "evalue": "no binding for nonlocal 'a' found (1846051930.py, line 2)",
     "output_type": "error",
     "traceback": [
      "\u001b[1;36m  Cell \u001b[1;32mIn [67], line 2\u001b[1;36m\u001b[0m\n\u001b[1;33m    nonlocal a\u001b[0m\n\u001b[1;37m    ^\u001b[0m\n\u001b[1;31mSyntaxError\u001b[0m\u001b[1;31m:\u001b[0m no binding for nonlocal 'a' found\n"
     ]
    }
   ],
   "source": [
    "def incr():\n",
    "    nonlocal a\n",
    "    a += 1\n",
    "    return a"
   ]
  },
  {
   "cell_type": "code",
   "execution_count": 68,
   "id": "e107cdc9-a6bf-430e-b4db-c426f0d21750",
   "metadata": {
    "tags": [
     "raises-exception"
    ]
   },
   "outputs": [
    {
     "ename": "SyntaxError",
     "evalue": "no binding for nonlocal 'a' found (3728111940.py, line 3)",
     "output_type": "error",
     "traceback": [
      "\u001b[1;36m  Cell \u001b[1;32mIn [68], line 3\u001b[1;36m\u001b[0m\n\u001b[1;33m    nonlocal a\u001b[0m\n\u001b[1;37m    ^\u001b[0m\n\u001b[1;31mSyntaxError\u001b[0m\u001b[1;31m:\u001b[0m no binding for nonlocal 'a' found\n"
     ]
    }
   ],
   "source": [
    "def outer():\n",
    "    def inner():\n",
    "        nonlocal a\n",
    "        a += 1\n",
    "        return a"
   ]
  },
  {
   "cell_type": "code",
   "execution_count": 69,
   "id": "20d507b0-49dd-421f-9ec6-a3cdcb094360",
   "metadata": {},
   "outputs": [],
   "source": [
    "def even_more_outer():\n",
    "    a = 3\n",
    "    def outer():\n",
    "        def inner():\n",
    "            nonlocal a\n",
    "            a += 1\n",
    "            return a"
   ]
  },
  {
   "cell_type": "code",
   "execution_count": 70,
   "id": "906b00e5-423e-424c-91eb-0023a2dd5396",
   "metadata": {},
   "outputs": [],
   "source": [
    "def outside():\n",
    "    a = []\n",
    "    i = 0\n",
    "    \n",
    "    def inside():\n",
    "        nonlocal i\n",
    "        a.append(i)\n",
    "        i += 1\n",
    "        return a\n",
    "        \n",
    "    return inside"
   ]
  },
  {
   "cell_type": "code",
   "execution_count": 71,
   "id": "5cede90e-b1ec-4b64-a286-35244f5691f3",
   "metadata": {},
   "outputs": [],
   "source": [
    "f = outside()"
   ]
  },
  {
   "cell_type": "code",
   "execution_count": 72,
   "id": "7ae568b8-2b08-45a7-ae60-df3c80503a50",
   "metadata": {},
   "outputs": [
    {
     "data": {
      "text/plain": [
       "[0]"
      ]
     },
     "execution_count": 72,
     "metadata": {},
     "output_type": "execute_result"
    }
   ],
   "source": [
    "f()"
   ]
  },
  {
   "cell_type": "code",
   "execution_count": 73,
   "id": "f7676e0e-d7f5-4e16-9d3e-0e83a5e39318",
   "metadata": {},
   "outputs": [],
   "source": [
    "import itertools"
   ]
  },
  {
   "cell_type": "code",
   "execution_count": 74,
   "id": "1e4b0001-e021-48b2-a59e-9209e66f9bae",
   "metadata": {},
   "outputs": [],
   "source": [
    "def outside():\n",
    "    a = []\n",
    "    it = itertools.count()\n",
    "    \n",
    "    def inside():\n",
    "        a.append(next(it))\n",
    "        return a\n",
    "        \n",
    "    return inside"
   ]
  },
  {
   "cell_type": "code",
   "execution_count": 75,
   "id": "8da023c2-ddb7-4597-a217-bab6cc16e24f",
   "metadata": {},
   "outputs": [],
   "source": [
    "f = outside()"
   ]
  },
  {
   "cell_type": "code",
   "execution_count": 76,
   "id": "efb1eda7-92f6-4ea8-9bb4-a328f7eab8cb",
   "metadata": {},
   "outputs": [
    {
     "data": {
      "text/plain": [
       "[0]"
      ]
     },
     "execution_count": 76,
     "metadata": {},
     "output_type": "execute_result"
    }
   ],
   "source": [
    "f()"
   ]
  },
  {
   "cell_type": "code",
   "execution_count": 77,
   "id": "7392926c-a717-43a4-b91b-6222206d3a17",
   "metadata": {},
   "outputs": [],
   "source": [
    "import math"
   ]
  },
  {
   "cell_type": "code",
   "execution_count": 78,
   "id": "0bcaa18e-23b2-444e-a646-30558d970484",
   "metadata": {},
   "outputs": [
    {
     "data": {
      "text/plain": [
       "3.141592653589793"
      ]
     },
     "execution_count": 78,
     "metadata": {},
     "output_type": "execute_result"
    }
   ],
   "source": [
    "math.pi"
   ]
  },
  {
   "cell_type": "code",
   "execution_count": 79,
   "id": "0b14e4d7-db8d-46f5-9646-218544d8a908",
   "metadata": {},
   "outputs": [],
   "source": [
    "def indiana():\n",
    "    math.pi = 3"
   ]
  },
  {
   "cell_type": "code",
   "execution_count": 80,
   "id": "c5b4b408-29f4-4a15-a523-f1892f27522f",
   "metadata": {},
   "outputs": [
    {
     "data": {
      "text/plain": [
       "3.141592653589793"
      ]
     },
     "execution_count": 80,
     "metadata": {},
     "output_type": "execute_result"
    }
   ],
   "source": [
    "math.pi"
   ]
  },
  {
   "cell_type": "code",
   "execution_count": 81,
   "id": "60e0c064-4b88-4c31-b05e-26d7459e6df9",
   "metadata": {},
   "outputs": [],
   "source": [
    "indiana()"
   ]
  },
  {
   "cell_type": "code",
   "execution_count": 82,
   "id": "be20ff4c-2c3f-4dc0-a911-b11a1ebc0aaa",
   "metadata": {},
   "outputs": [
    {
     "data": {
      "text/plain": [
       "3"
      ]
     },
     "execution_count": 82,
     "metadata": {},
     "output_type": "execute_result"
    }
   ],
   "source": [
    "math.pi"
   ]
  },
  {
   "cell_type": "code",
   "execution_count": 83,
   "id": "61104366-5be6-41ba-90ab-79d4437e557e",
   "metadata": {},
   "outputs": [
    {
     "name": "stdout",
     "output_type": "stream",
     "text": [
      "outer\n",
      "global\n"
     ]
    }
   ],
   "source": [
    "scopes.call_h()"
   ]
  },
  {
   "cell_type": "code",
   "execution_count": 84,
   "id": "814f85d2-ccc2-45cd-9cdd-45e7f5f61e37",
   "metadata": {},
   "outputs": [
    {
     "name": "stdout",
     "output_type": "stream",
     "text": [
      "outer\n",
      "OUTER\n"
     ]
    }
   ],
   "source": [
    "scopes.g()"
   ]
  },
  {
   "cell_type": "code",
   "execution_count": 85,
   "id": "e3974be8-2541-423f-9f61-beff0bb7fa2a",
   "metadata": {},
   "outputs": [
    {
     "name": "stdout",
     "output_type": "stream",
     "text": [
      "Hello\n"
     ]
    }
   ],
   "source": [
    "class C: \n",
    "    print('Hello')"
   ]
  },
  {
   "cell_type": "code",
   "execution_count": 86,
   "id": "f52c956c-473b-439e-9e19-3cd4036eacc6",
   "metadata": {},
   "outputs": [],
   "source": [
    "class HasFunction: \n",
    "    def f():\n",
    "        print('Hello')"
   ]
  },
  {
   "cell_type": "code",
   "execution_count": 87,
   "id": "f020ae74-4c20-4a9d-8b79-115b40d69c5e",
   "metadata": {
    "tags": [
     "raises-exception"
    ]
   },
   "outputs": [
    {
     "ename": "TypeError",
     "evalue": "HasFunction.f() takes 0 positional arguments but 1 was given",
     "output_type": "error",
     "traceback": [
      "\u001b[1;31m---------------------------------------------------------------------------\u001b[0m",
      "\u001b[1;31mTypeError\u001b[0m                                 Traceback (most recent call last)",
      "Cell \u001b[1;32mIn [87], line 1\u001b[0m\n\u001b[1;32m----> 1\u001b[0m \u001b[43mHasFunction\u001b[49m\u001b[43m(\u001b[49m\u001b[43m)\u001b[49m\u001b[38;5;241;43m.\u001b[39;49m\u001b[43mf\u001b[49m\u001b[43m(\u001b[49m\u001b[43m)\u001b[49m\n",
      "\u001b[1;31mTypeError\u001b[0m: HasFunction.f() takes 0 positional arguments but 1 was given"
     ]
    }
   ],
   "source": [
    "HasFunction().f()"
   ]
  },
  {
   "cell_type": "code",
   "execution_count": 88,
   "id": "ce8f1f60-05a5-4478-b8cc-9aaaf367bf13",
   "metadata": {},
   "outputs": [
    {
     "name": "stdout",
     "output_type": "stream",
     "text": [
      "Hello\n"
     ]
    }
   ],
   "source": [
    "class HasFunction: \n",
    "    def f():\n",
    "        print('Hello')\n",
    "    f()"
   ]
  },
  {
   "cell_type": "code",
   "execution_count": 89,
   "id": "45c5fbb4-683f-4cb3-9624-16c63d709b8e",
   "metadata": {
    "tags": [
     "raises-exception"
    ]
   },
   "outputs": [],
   "source": [
    "class HasFunction: \n",
    "    \n",
    "    f()\n",
    "    \n",
    "    def f():\n",
    "        print('Hello')"
   ]
  },
  {
   "cell_type": "code",
   "execution_count": 90,
   "id": "6950ab0c-427e-40f2-9413-901a33d121bf",
   "metadata": {
    "tags": [
     "raises-exception"
    ]
   },
   "outputs": [
    {
     "name": "stdout",
     "output_type": "stream",
     "text": [
      "43\n"
     ]
    },
    {
     "ename": "NameError",
     "evalue": "name 'answer' is not defined",
     "output_type": "error",
     "traceback": [
      "\u001b[1;31m---------------------------------------------------------------------------\u001b[0m",
      "\u001b[1;31mNameError\u001b[0m                                 Traceback (most recent call last)",
      "Cell \u001b[1;32mIn [90], line 1\u001b[0m\n\u001b[1;32m----> 1\u001b[0m \u001b[38;5;28;43;01mclass\u001b[39;49;00m\u001b[43m \u001b[49m\u001b[38;5;21;43;01mHasReturnFunction\u001b[39;49;00m\u001b[43m:\u001b[49m\u001b[43m \u001b[49m\n\u001b[0;32m      2\u001b[0m \u001b[43m    \u001b[49m\u001b[38;5;28;43;01mdef\u001b[39;49;00m\u001b[43m \u001b[49m\u001b[38;5;21;43manswer\u001b[39;49m\u001b[43m(\u001b[49m\u001b[43m)\u001b[49m\u001b[43m:\u001b[49m\u001b[43m \u001b[49m\n\u001b[0;32m      3\u001b[0m \u001b[43m        \u001b[49m\u001b[38;5;28;43;01mreturn\u001b[39;49;00m\u001b[43m \u001b[49m\u001b[38;5;241;43m42\u001b[39;49m\n",
      "Cell \u001b[1;32mIn [90], line 5\u001b[0m, in \u001b[0;36mHasReturnFunction\u001b[1;34m()\u001b[0m\n\u001b[0;32m      3\u001b[0m     \u001b[38;5;28;01mreturn\u001b[39;00m \u001b[38;5;241m42\u001b[39m\n\u001b[0;32m      4\u001b[0m \u001b[38;5;28mprint\u001b[39m(answer() \u001b[38;5;241m+\u001b[39m \u001b[38;5;241m1\u001b[39m)\n\u001b[1;32m----> 5\u001b[0m s \u001b[38;5;241m=\u001b[39m \u001b[43m[\u001b[49m\u001b[43manswer\u001b[49m\u001b[43m(\u001b[49m\u001b[43m)\u001b[49m\u001b[43m \u001b[49m\u001b[38;5;241;43m+\u001b[39;49m\u001b[43m \u001b[49m\u001b[43mx\u001b[49m\u001b[43m \u001b[49m\u001b[38;5;28;43;01mfor\u001b[39;49;00m\u001b[43m \u001b[49m\u001b[43mx\u001b[49m\u001b[43m \u001b[49m\u001b[38;5;129;43;01min\u001b[39;49;00m\u001b[43m \u001b[49m\u001b[38;5;28;43mrange\u001b[39;49m\u001b[43m(\u001b[49m\u001b[38;5;241;43m10\u001b[39;49m\u001b[43m)\u001b[49m\u001b[43m]\u001b[49m\n",
      "Cell \u001b[1;32mIn [90], line 5\u001b[0m, in \u001b[0;36m<listcomp>\u001b[1;34m(.0)\u001b[0m\n\u001b[0;32m      3\u001b[0m     \u001b[38;5;28;01mreturn\u001b[39;00m \u001b[38;5;241m42\u001b[39m\n\u001b[0;32m      4\u001b[0m \u001b[38;5;28mprint\u001b[39m(answer() \u001b[38;5;241m+\u001b[39m \u001b[38;5;241m1\u001b[39m)\n\u001b[1;32m----> 5\u001b[0m s \u001b[38;5;241m=\u001b[39m [\u001b[43manswer\u001b[49m() \u001b[38;5;241m+\u001b[39m x \u001b[38;5;28;01mfor\u001b[39;00m x \u001b[38;5;129;01min\u001b[39;00m \u001b[38;5;28mrange\u001b[39m(\u001b[38;5;241m10\u001b[39m)]\n",
      "\u001b[1;31mNameError\u001b[0m: name 'answer' is not defined"
     ]
    }
   ],
   "source": [
    "class HasReturnFunction: \n",
    "    def answer(): \n",
    "        return 42\n",
    "    print(answer() + 1)\n",
    "    s = [answer() + x for x in range(10)]"
   ]
  },
  {
   "cell_type": "code",
   "execution_count": 91,
   "id": "8d51e60b-0541-42cf-bac3-de525198202f",
   "metadata": {},
   "outputs": [],
   "source": [
    "class Base: \n",
    "    def answer(self): \n",
    "        return 42\n",
    "    \n",
    "    def call_answer(self): \n",
    "        return answer() + 1"
   ]
  },
  {
   "cell_type": "code",
   "execution_count": 92,
   "id": "56419b9c-b98d-42a6-b686-b351087ed2bd",
   "metadata": {},
   "outputs": [],
   "source": [
    "b = Base()"
   ]
  },
  {
   "cell_type": "code",
   "execution_count": 93,
   "id": "e970720e-7d47-4dfe-a050-6416971005db",
   "metadata": {},
   "outputs": [
    {
     "data": {
      "text/plain": [
       "42"
      ]
     },
     "execution_count": 93,
     "metadata": {},
     "output_type": "execute_result"
    }
   ],
   "source": [
    "b.answer()"
   ]
  },
  {
   "cell_type": "code",
   "execution_count": 94,
   "id": "335f253b-69bd-4b66-8b1d-0ad05346f864",
   "metadata": {
    "tags": [
     "raises-exception"
    ]
   },
   "outputs": [
    {
     "ename": "NameError",
     "evalue": "name 'answer' is not defined",
     "output_type": "error",
     "traceback": [
      "\u001b[1;31m---------------------------------------------------------------------------\u001b[0m",
      "\u001b[1;31mNameError\u001b[0m                                 Traceback (most recent call last)",
      "Cell \u001b[1;32mIn [94], line 1\u001b[0m\n\u001b[1;32m----> 1\u001b[0m \u001b[43mb\u001b[49m\u001b[38;5;241;43m.\u001b[39;49m\u001b[43mcall_answer\u001b[49m\u001b[43m(\u001b[49m\u001b[43m)\u001b[49m\n",
      "Cell \u001b[1;32mIn [91], line 6\u001b[0m, in \u001b[0;36mBase.call_answer\u001b[1;34m(self)\u001b[0m\n\u001b[0;32m      5\u001b[0m \u001b[38;5;28;01mdef\u001b[39;00m \u001b[38;5;21mcall_answer\u001b[39m(\u001b[38;5;28mself\u001b[39m): \n\u001b[1;32m----> 6\u001b[0m     \u001b[38;5;28;01mreturn\u001b[39;00m \u001b[43manswer\u001b[49m() \u001b[38;5;241m+\u001b[39m \u001b[38;5;241m1\u001b[39m\n",
      "\u001b[1;31mNameError\u001b[0m: name 'answer' is not defined"
     ]
    }
   ],
   "source": [
    "b.call_answer()"
   ]
  },
  {
   "cell_type": "code",
   "execution_count": 95,
   "id": "e8362daa-e547-4a90-ba56-81f895bed441",
   "metadata": {},
   "outputs": [],
   "source": [
    "class Derived(Base): \n",
    "    def answer(self): \n",
    "        return 76"
   ]
  },
  {
   "cell_type": "code",
   "execution_count": 96,
   "id": "b7a6b83e-36c2-4cc3-9ec9-c46d4f418f3f",
   "metadata": {},
   "outputs": [],
   "source": [
    "d = Derived()"
   ]
  },
  {
   "cell_type": "code",
   "execution_count": 97,
   "id": "86237aaa-0577-4889-be20-90b9a06afcd6",
   "metadata": {
    "tags": [
     "raises-exception"
    ]
   },
   "outputs": [
    {
     "ename": "NameError",
     "evalue": "name 'answer' is not defined",
     "output_type": "error",
     "traceback": [
      "\u001b[1;31m---------------------------------------------------------------------------\u001b[0m",
      "\u001b[1;31mNameError\u001b[0m                                 Traceback (most recent call last)",
      "Cell \u001b[1;32mIn [97], line 1\u001b[0m\n\u001b[1;32m----> 1\u001b[0m \u001b[43md\u001b[49m\u001b[38;5;241;43m.\u001b[39;49m\u001b[43mcall_answer\u001b[49m\u001b[43m(\u001b[49m\u001b[43m)\u001b[49m\n",
      "Cell \u001b[1;32mIn [91], line 6\u001b[0m, in \u001b[0;36mBase.call_answer\u001b[1;34m(self)\u001b[0m\n\u001b[0;32m      5\u001b[0m \u001b[38;5;28;01mdef\u001b[39;00m \u001b[38;5;21mcall_answer\u001b[39m(\u001b[38;5;28mself\u001b[39m): \n\u001b[1;32m----> 6\u001b[0m     \u001b[38;5;28;01mreturn\u001b[39;00m \u001b[43manswer\u001b[49m() \u001b[38;5;241m+\u001b[39m \u001b[38;5;241m1\u001b[39m\n",
      "\u001b[1;31mNameError\u001b[0m: name 'answer' is not defined"
     ]
    }
   ],
   "source": [
    "d.call_answer()"
   ]
  },
  {
   "cell_type": "code",
   "execution_count": 98,
   "id": "42843168-52b7-4977-9013-52f300170a63",
   "metadata": {},
   "outputs": [
    {
     "data": {
      "text/plain": [
       "NotImplemented"
      ]
     },
     "execution_count": 98,
     "metadata": {},
     "output_type": "execute_result"
    }
   ],
   "source": [
    "(3).__le__(3.0)"
   ]
  },
  {
   "cell_type": "code",
   "execution_count": 99,
   "id": "e45c4aa2-3cb4-463c-8722-75e7a361958d",
   "metadata": {},
   "outputs": [
    {
     "data": {
      "text/plain": [
       "True"
      ]
     },
     "execution_count": 99,
     "metadata": {},
     "output_type": "execute_result"
    }
   ],
   "source": [
    "(3.0).__le__(3)"
   ]
  },
  {
   "cell_type": "code",
   "execution_count": 100,
   "id": "30bde997-fe74-4301-adc9-e378ac82c5a2",
   "metadata": {},
   "outputs": [
    {
     "name": "stderr",
     "output_type": "stream",
     "text": [
      "C:\\Users\\ek\\AppData\\Local\\Temp\\ipykernel_25868\\3586968809.py:1: DeprecationWarning: NotImplemented should not be used in a boolean context\n",
      "  bool(NotImplemented)\n"
     ]
    },
    {
     "data": {
      "text/plain": [
       "True"
      ]
     },
     "execution_count": 100,
     "metadata": {},
     "output_type": "execute_result"
    }
   ],
   "source": [
    "bool(NotImplemented)"
   ]
  },
  {
   "cell_type": "code",
   "execution_count": 101,
   "id": "9438d1a8-b410-4207-b26d-115bdd81f2a5",
   "metadata": {},
   "outputs": [],
   "source": [
    "from palgoviz.decorators import give_metadata_from"
   ]
  },
  {
   "cell_type": "code",
   "execution_count": 102,
   "id": "cf53b449-f796-41ee-bb7b-6bb66edbfd90",
   "metadata": {},
   "outputs": [],
   "source": [
    "def synthesize_le_inherit(cls):\n",
    "    \n",
    "    @give_metadata_from(cls)\n",
    "    class wrapper(cls):\n",
    "        \n",
    "        def __le__(self, other): \n",
    "            lt = self.__lt__(other)\n",
    "            if lt is NotImplemented: \n",
    "                return NotImplemented\n",
    "            return lt or self == other\n",
    "        \n",
    "    return wrapper"
   ]
  },
  {
   "cell_type": "code",
   "execution_count": 103,
   "id": "c2860158-d95c-4395-8583-f7a8781fe0d8",
   "metadata": {},
   "outputs": [],
   "source": [
    "def synthesize_le(cls):\n",
    "    \n",
    "    def __le__(self, other): \n",
    "        lt = self.__lt__(other)\n",
    "        if lt is NotImplemented: \n",
    "            return NotImplemented\n",
    "        return lt or self == other\n",
    "    \n",
    "    cls.__le__ = __le__\n",
    "    \n",
    "    return cls"
   ]
  },
  {
   "cell_type": "code",
   "execution_count": 104,
   "id": "e0b8b29d-fdbf-48d9-85bd-a8de929fad70",
   "metadata": {},
   "outputs": [],
   "source": [
    "@synthesize_le\n",
    "class S: \n",
    "    \n",
    "    def __init__(self, val): \n",
    "        self.val = val \n",
    "    \n",
    "    def __eq__(self, other): \n",
    "        if not isinstance(other, type(self)):\n",
    "            return NotImplemented\n",
    "        return self.val == other.val\n",
    "    \n",
    "    def __lt__(self, other):\n",
    "        if not isinstance(other, type(self)): \n",
    "            return NotImplemented\n",
    "        return self.val < other.val"
   ]
  },
  {
   "cell_type": "code",
   "execution_count": 105,
   "id": "bcc01c02-02fe-45af-83c4-68cdfa6e00b8",
   "metadata": {},
   "outputs": [
    {
     "data": {
      "text/plain": [
       "True"
      ]
     },
     "execution_count": 105,
     "metadata": {},
     "output_type": "execute_result"
    }
   ],
   "source": [
    "S(1) == S(1)"
   ]
  },
  {
   "cell_type": "code",
   "execution_count": 106,
   "id": "0e4c1737-171d-490c-b780-19aacd1a0bea",
   "metadata": {},
   "outputs": [
    {
     "data": {
      "text/plain": [
       "False"
      ]
     },
     "execution_count": 106,
     "metadata": {},
     "output_type": "execute_result"
    }
   ],
   "source": [
    "S(1) == S(2)"
   ]
  },
  {
   "cell_type": "code",
   "execution_count": 107,
   "id": "70533e3f-7b44-4627-a9b4-39ff2e2235b7",
   "metadata": {},
   "outputs": [
    {
     "data": {
      "text/plain": [
       "True"
      ]
     },
     "execution_count": 107,
     "metadata": {},
     "output_type": "execute_result"
    }
   ],
   "source": [
    "S(1) < S(2)"
   ]
  },
  {
   "cell_type": "code",
   "execution_count": 108,
   "id": "5c2b88bc-61c4-4f5b-bbc1-7d967cccda13",
   "metadata": {},
   "outputs": [
    {
     "data": {
      "text/plain": [
       "False"
      ]
     },
     "execution_count": 108,
     "metadata": {},
     "output_type": "execute_result"
    }
   ],
   "source": [
    "S(2) < S(1)"
   ]
  },
  {
   "cell_type": "code",
   "execution_count": 109,
   "id": "2ae2029a-abcf-4395-bd2e-4f5c66f38140",
   "metadata": {},
   "outputs": [
    {
     "data": {
      "text/plain": [
       "False"
      ]
     },
     "execution_count": 109,
     "metadata": {},
     "output_type": "execute_result"
    }
   ],
   "source": [
    "S(1) > S(2)"
   ]
  },
  {
   "cell_type": "code",
   "execution_count": 110,
   "id": "ea22b1ec-45de-49ae-9a6c-90ba1a58cb60",
   "metadata": {
    "tags": [
     "raises-exception"
    ]
   },
   "outputs": [
    {
     "ename": "TypeError",
     "evalue": "'<' not supported between instances of 'S' and 'int'",
     "output_type": "error",
     "traceback": [
      "\u001b[1;31m---------------------------------------------------------------------------\u001b[0m",
      "\u001b[1;31mTypeError\u001b[0m                                 Traceback (most recent call last)",
      "Cell \u001b[1;32mIn [110], line 1\u001b[0m\n\u001b[1;32m----> 1\u001b[0m \u001b[43mS\u001b[49m\u001b[43m(\u001b[49m\u001b[38;5;241;43m1\u001b[39;49m\u001b[43m)\u001b[49m\u001b[43m \u001b[49m\u001b[38;5;241;43m<\u001b[39;49m\u001b[43m \u001b[49m\u001b[38;5;241;43m3\u001b[39;49m\n",
      "\u001b[1;31mTypeError\u001b[0m: '<' not supported between instances of 'S' and 'int'"
     ]
    }
   ],
   "source": [
    "S(1) < 3"
   ]
  },
  {
   "cell_type": "code",
   "execution_count": 111,
   "id": "34430062-838c-4e3e-b397-4a531ba2d688",
   "metadata": {},
   "outputs": [
    {
     "data": {
      "text/plain": [
       "True"
      ]
     },
     "execution_count": 111,
     "metadata": {},
     "output_type": "execute_result"
    }
   ],
   "source": [
    "S(1) <= S(2)"
   ]
  },
  {
   "cell_type": "code",
   "execution_count": 112,
   "id": "801a9c07-d07c-4494-8671-9a5b72a6281f",
   "metadata": {},
   "outputs": [
    {
     "data": {
      "text/plain": [
       "False"
      ]
     },
     "execution_count": 112,
     "metadata": {},
     "output_type": "execute_result"
    }
   ],
   "source": [
    "S(3) <= S(2)"
   ]
  },
  {
   "cell_type": "code",
   "execution_count": 113,
   "id": "0a1240c7-1c66-4386-b082-454be5ed661a",
   "metadata": {
    "tags": [
     "raises-exception"
    ]
   },
   "outputs": [
    {
     "ename": "TypeError",
     "evalue": "'<=' not supported between instances of 'S' and 'int'",
     "output_type": "error",
     "traceback": [
      "\u001b[1;31m---------------------------------------------------------------------------\u001b[0m",
      "\u001b[1;31mTypeError\u001b[0m                                 Traceback (most recent call last)",
      "Cell \u001b[1;32mIn [113], line 1\u001b[0m\n\u001b[1;32m----> 1\u001b[0m \u001b[43mS\u001b[49m\u001b[43m(\u001b[49m\u001b[38;5;241;43m3\u001b[39;49m\u001b[43m)\u001b[49m\u001b[43m \u001b[49m\u001b[38;5;241;43m<\u001b[39;49m\u001b[38;5;241;43m=\u001b[39;49m\u001b[43m \u001b[49m\u001b[38;5;241;43m2\u001b[39;49m\n",
      "\u001b[1;31mTypeError\u001b[0m: '<=' not supported between instances of 'S' and 'int'"
     ]
    }
   ],
   "source": [
    "S(3) <= 2"
   ]
  },
  {
   "cell_type": "code",
   "execution_count": 114,
   "id": "486f00f9-d0f5-4ead-812d-6176cbe6b174",
   "metadata": {},
   "outputs": [],
   "source": [
    "class HasVariableandMethod: \n",
    "    var = 3\n",
    "    \n",
    "    def getvar(self): \n",
    "        return self.var"
   ]
  },
  {
   "cell_type": "code",
   "execution_count": 115,
   "id": "27c453ce-1f56-48ca-81ae-e4c693bcfc44",
   "metadata": {},
   "outputs": [],
   "source": [
    "HasVariableandMethod.var = 42"
   ]
  },
  {
   "cell_type": "code",
   "execution_count": 116,
   "id": "c4814426-5078-4020-aa03-ec51828feb85",
   "metadata": {},
   "outputs": [],
   "source": [
    "hv = HasVariableandMethod()"
   ]
  },
  {
   "cell_type": "code",
   "execution_count": 117,
   "id": "c124cd4f-8b74-4ff6-a1d8-caebace01476",
   "metadata": {},
   "outputs": [
    {
     "data": {
      "text/plain": [
       "42"
      ]
     },
     "execution_count": 117,
     "metadata": {},
     "output_type": "execute_result"
    }
   ],
   "source": [
    "hv.getvar()"
   ]
  },
  {
   "cell_type": "markdown",
   "id": "dc0a8fff-bbfc-429c-9353-019f71831363",
   "metadata": {},
   "source": [
    "## Variables, not their values, are captured"
   ]
  },
  {
   "cell_type": "code",
   "execution_count": 118,
   "id": "6d4d07f9-8f03-463f-9fa4-f2714e79d3e0",
   "metadata": {},
   "outputs": [],
   "source": [
    "def unsuccessful_value_capture():\n",
    "    funcs = []\n",
    "    for i in range(1, 6):\n",
    "        funcs.append(lambda: i)\n",
    "    return [func() for func in funcs]"
   ]
  },
  {
   "cell_type": "code",
   "execution_count": 119,
   "id": "1fc461f5-308b-49ae-87e7-35264d70491c",
   "metadata": {},
   "outputs": [
    {
     "data": {
      "text/plain": [
       "[5, 5, 5, 5, 5]"
      ]
     },
     "execution_count": 119,
     "metadata": {},
     "output_type": "execute_result"
    }
   ],
   "source": [
    "unsuccessful_value_capture()"
   ]
  },
  {
   "cell_type": "markdown",
   "id": "4a0dafed-8f05-43bd-abf5-71770ae65b5d",
   "metadata": {},
   "source": [
    "## A class doesn’t exist yet when the statements in its body run"
   ]
  },
  {
   "cell_type": "code",
   "execution_count": 120,
   "id": "71b41d6b-338b-4e28-bf4c-b3e356b17703",
   "metadata": {
    "tags": [
     "raises-exception"
    ]
   },
   "outputs": [
    {
     "ename": "NameError",
     "evalue": "name 'ExampleClass' is not defined",
     "output_type": "error",
     "traceback": [
      "\u001b[1;31m---------------------------------------------------------------------------\u001b[0m",
      "\u001b[1;31mNameError\u001b[0m                                 Traceback (most recent call last)",
      "Cell \u001b[1;32mIn [120], line 1\u001b[0m\n\u001b[1;32m----> 1\u001b[0m \u001b[38;5;28;43;01mclass\u001b[39;49;00m\u001b[43m \u001b[49m\u001b[38;5;21;43;01mExampleClass\u001b[39;49;00m\u001b[43m:\u001b[49m\n\u001b[0;32m      2\u001b[0m \u001b[43m    \u001b[49m\u001b[43mx\u001b[49m\u001b[43m \u001b[49m\u001b[38;5;241;43m=\u001b[39;49m\u001b[43m \u001b[49m\u001b[38;5;241;43m10\u001b[39;49m\n\u001b[0;32m      4\u001b[0m \u001b[43m    \u001b[49m\u001b[38;5;28;43mprint\u001b[39;49m\u001b[43m(\u001b[49m\u001b[43mExampleClass\u001b[49m\u001b[38;5;241;43m.\u001b[39;49m\u001b[43mx\u001b[49m\u001b[43m)\u001b[49m\n",
      "Cell \u001b[1;32mIn [120], line 4\u001b[0m, in \u001b[0;36mExampleClass\u001b[1;34m()\u001b[0m\n\u001b[0;32m      1\u001b[0m \u001b[38;5;28;01mclass\u001b[39;00m \u001b[38;5;21;01mExampleClass\u001b[39;00m:\n\u001b[0;32m      2\u001b[0m     x \u001b[38;5;241m=\u001b[39m \u001b[38;5;241m10\u001b[39m\n\u001b[1;32m----> 4\u001b[0m     \u001b[38;5;28mprint\u001b[39m(\u001b[43mExampleClass\u001b[49m\u001b[38;5;241m.\u001b[39mx)\n",
      "\u001b[1;31mNameError\u001b[0m: name 'ExampleClass' is not defined"
     ]
    }
   ],
   "source": [
    "class ExampleClass:\n",
    "    x = 10\n",
    "    \n",
    "    print(ExampleClass.x)"
   ]
  },
  {
   "cell_type": "code",
   "execution_count": null,
   "id": "5717a07f-01a8-4015-a4ee-5d0e483b8da7",
   "metadata": {},
   "outputs": [],
   "source": []
  }
 ],
 "metadata": {
  "kernelspec": {
   "display_name": "Python 3 (ipykernel)",
   "language": "python",
   "name": "python3"
  },
  "language_info": {
   "codemirror_mode": {
    "name": "ipython",
    "version": 3
   },
   "file_extension": ".py",
   "mimetype": "text/x-python",
   "name": "python",
   "nbconvert_exporter": "python",
   "pygments_lexer": "ipython3",
   "version": "3.11.0"
  }
 },
 "nbformat": 4,
 "nbformat_minor": 5
}
