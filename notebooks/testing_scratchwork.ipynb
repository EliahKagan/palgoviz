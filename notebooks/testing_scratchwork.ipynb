{
 "cells": [
  {
   "cell_type": "code",
   "execution_count": 1,
   "id": "e8b796f3-ddf7-478f-9f79-ed417bfc9774",
   "metadata": {},
   "outputs": [],
   "source": [
    "import unittest"
   ]
  },
  {
   "cell_type": "code",
   "execution_count": 2,
   "id": "cb450465-532a-4584-94e3-c55ac0f51ec6",
   "metadata": {},
   "outputs": [],
   "source": [
    "from tests import test_recursion"
   ]
  },
  {
   "cell_type": "code",
   "execution_count": 3,
   "id": "c46bd3d3-662a-4c31-85d8-be176b93b819",
   "metadata": {},
   "outputs": [],
   "source": [
    "shared = set(dir(unittest.TestCase))"
   ]
  },
  {
   "cell_type": "code",
   "execution_count": 4,
   "id": "88b17ffa-26bb-4fcb-bf5a-aad5689e9dcf",
   "metadata": {},
   "outputs": [
    {
     "data": {
      "text/plain": [
       "['ABC',\n",
       " 'OrderIndistinct',\n",
       " 'Patient',\n",
       " 'TestInsortLeft',\n",
       " 'TestInsortLeftLinear',\n",
       " 'TestInsortRight',\n",
       " 'TestInsortRightLinear',\n",
       " 'TestMergeSort',\n",
       " 'TestMergeSortStability',\n",
       " 'TestMergeSortStability_0_merge_sort_no_args',\n",
       " 'TestMergeSortStability_1_merge_sort_merge_two_slow',\n",
       " 'TestMergeSortStability_2_merge_sort_merge_two',\n",
       " 'TestMergeSortStability_3_merge_sort_merge_two_alt',\n",
       " 'TestMergeSortStability_4_merge_sort_bottom_up_no_args',\n",
       " 'TestMergeSortStability_5_merge_sort_bottom_up_merge_two_slow',\n",
       " 'TestMergeSortStability_6_merge_sort_bottom_up_merge_two',\n",
       " 'TestMergeSortStability_7_merge_sort_bottom_up_merge_two_alt',\n",
       " 'TestMergeSort_0_merge_sort_no_args',\n",
       " 'TestMergeSort_10_merge_sort_bottom_up_merge_two',\n",
       " 'TestMergeSort_11_merge_sort_bottom_up_merge_two_alt',\n",
       " 'TestMergeSort_1_merge_sort_merge_two_slow',\n",
       " 'TestMergeSort_2_merge_sort_merge_two',\n",
       " 'TestMergeSort_3_merge_sort_merge_two_alt',\n",
       " 'TestMergeSort_4_merge_sort_bottom_up_unstable_no_args',\n",
       " 'TestMergeSort_5_merge_sort_bottom_up_unstable_merge_two_slow',\n",
       " 'TestMergeSort_6_merge_sort_bottom_up_unstable_merge_two',\n",
       " 'TestMergeSort_7_merge_sort_bottom_up_unstable_merge_two_alt',\n",
       " 'TestMergeSort_8_merge_sort_bottom_up_no_args',\n",
       " 'TestMergeSort_9_merge_sort_bottom_up_merge_two_slow',\n",
       " 'TestTwoWayMergers',\n",
       " 'TestTwoWayMergers_0_merge_two_slow',\n",
       " 'TestTwoWayMergers_1_merge_two',\n",
       " 'TestTwoWayMergers_2_merge_two_alt',\n",
       " 'WeakDiamond',\n",
       " '_COMBINED_PARAMS',\n",
       " '_EAST',\n",
       " '_MERGE_PARAMS',\n",
       " '_NORTH',\n",
       " '_SORT_PARAMS',\n",
       " '_SOUTH',\n",
       " '_STABLE_COMBINED_PARAMS',\n",
       " '_STABLE_SORT_PARAMS',\n",
       " '_WEST',\n",
       " '__builtins__',\n",
       " '__cached__',\n",
       " '__doc__',\n",
       " '__file__',\n",
       " '__loader__',\n",
       " '__name__',\n",
       " '__package__',\n",
       " '__spec__',\n",
       " '_build_insort_test_parameters',\n",
       " 'abstractmethod',\n",
       " 'bisect',\n",
       " 'insort_left_linear',\n",
       " 'insort_right_linear',\n",
       " 'merge_sort',\n",
       " 'merge_sort_bottom_up',\n",
       " 'merge_sort_bottom_up_unstable',\n",
       " 'merge_two',\n",
       " 'merge_two_alt',\n",
       " 'merge_two_slow',\n",
       " 'parameterized',\n",
       " 'parameterized_class',\n",
       " 'unittest']"
      ]
     },
     "execution_count": 4,
     "metadata": {},
     "output_type": "execute_result"
    }
   ],
   "source": [
    "dir(test_recursion)"
   ]
  },
  {
   "cell_type": "code",
   "execution_count": 5,
   "id": "9ab6b09e-3762-4bf5-a811-db45e78123d0",
   "metadata": {},
   "outputs": [],
   "source": [
    "stuff = set(dir(test_recursion.TestMergeSort_1_merge_sort_merge_two_slow))"
   ]
  },
  {
   "cell_type": "code",
   "execution_count": 6,
   "id": "38b4bdec-e8f1-40a4-9113-1e8b9bafc044",
   "metadata": {},
   "outputs": [],
   "source": [
    "my_stuff = stuff - shared"
   ]
  },
  {
   "cell_type": "code",
   "execution_count": 7,
   "id": "074a14db-abc9-43cc-96ea-27ee82d94396",
   "metadata": {},
   "outputs": [
    {
     "data": {
      "text/plain": [
       "{'kwargs',\n",
       " 'label',\n",
       " 'sort',\n",
       " 'test_empty_list_sorts',\n",
       " 'test_empty_tuple_sorts',\n",
       " 'test_several_ints_are_sorted',\n",
       " 'test_several_strings_are_sorted',\n",
       " 'test_singleton_sorts',\n",
       " 'test_two_element_equal_list_is_unchanged',\n",
       " 'test_two_element_sorted_list_is_unchanged',\n",
       " 'test_two_element_unsorted_list_is_sorted'}"
      ]
     },
     "execution_count": 7,
     "metadata": {},
     "output_type": "execute_result"
    }
   ],
   "source": [
    "my_stuff"
   ]
  },
  {
   "cell_type": "code",
   "execution_count": 8,
   "id": "01c0abef-6bf2-4c34-b24b-cefcdd2cee87",
   "metadata": {},
   "outputs": [],
   "source": [
    "ms_stuff = set(dir(test_recursion.TestMergeSort)) - shared"
   ]
  },
  {
   "cell_type": "code",
   "execution_count": 9,
   "id": "5b449fc9-3048-4af0-a21d-bca2c3111352",
   "metadata": {},
   "outputs": [
    {
     "data": {
      "text/plain": [
       "set()"
      ]
     },
     "execution_count": 9,
     "metadata": {},
     "output_type": "execute_result"
    }
   ],
   "source": [
    "ms_stuff"
   ]
  },
  {
   "cell_type": "markdown",
   "id": "13d00b2f-e121-4553-9ae9-c271b1c66768",
   "metadata": {},
   "source": [
    "This is happening because `@parameterized_class` removes test methods from the original class so that test runners do not wrongly attempt to run the original class -- only the classes it creates should have test discovery run on them and find tests."
   ]
  },
  {
   "cell_type": "code",
   "execution_count": null,
   "id": "771bc6a3-529c-4d6b-a34d-07f34b0f058a",
   "metadata": {},
   "outputs": [],
   "source": []
  }
 ],
 "metadata": {
  "kernelspec": {
   "display_name": "Python 3 (ipykernel)",
   "language": "python",
   "name": "python3"
  },
  "language_info": {
   "codemirror_mode": {
    "name": "ipython",
    "version": 3
   },
   "file_extension": ".py",
   "mimetype": "text/x-python",
   "name": "python",
   "nbconvert_exporter": "python",
   "pygments_lexer": "ipython3",
   "version": "3.10.6"
  }
 },
 "nbformat": 4,
 "nbformat_minor": 5
}
