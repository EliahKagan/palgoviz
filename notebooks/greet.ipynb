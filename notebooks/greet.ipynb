{
 "cells": [
  {
   "cell_type": "markdown",
   "id": "d8b85e2c-335e-4d22-aa4f-7ff6efb49ce0",
   "metadata": {},
   "source": [
    "# `greet`/`hello` notes"
   ]
  },
  {
   "cell_type": "code",
   "execution_count": 1,
   "id": "45a86d37-dd36-49b4-8efc-13e2232bfa3a",
   "metadata": {
    "tags": [
     "raises-exception"
    ]
   },
   "outputs": [],
   "source": [
    "from algoviz.greet import hello"
   ]
  },
  {
   "cell_type": "code",
   "execution_count": 2,
   "id": "b374d10a-9e33-4935-a5c5-ecfc95842565",
   "metadata": {
    "tags": [
     "raises-exception"
    ]
   },
   "outputs": [
    {
     "ename": "ValueError",
     "evalue": "el is an unrecognized language code.",
     "output_type": "error",
     "traceback": [
      "\u001b[1;31m---------------------------------------------------------------------------\u001b[0m",
      "\u001b[1;31mValueError\u001b[0m                                Traceback (most recent call last)",
      "Cell \u001b[1;32mIn [2], line 1\u001b[0m\n\u001b[1;32m----> 1\u001b[0m \u001b[43mhello\u001b[49m\u001b[43m(\u001b[49m\u001b[38;5;124;43m'\u001b[39;49m\u001b[38;5;124;43mDavid\u001b[39;49m\u001b[38;5;124;43m'\u001b[39;49m\u001b[43m,\u001b[49m\u001b[38;5;124;43m'\u001b[39;49m\u001b[38;5;124;43mel\u001b[39;49m\u001b[38;5;124;43m'\u001b[39;49m\u001b[43m)\u001b[49m\n",
      "File \u001b[1;32m~\\source\\repos\\algoviz\\algoviz\\greet.py:397\u001b[0m, in \u001b[0;36mhello\u001b[1;34m(name, lang)\u001b[0m\n\u001b[0;32m    382\u001b[0m \u001b[38;5;28;01mdef\u001b[39;00m \u001b[38;5;21mhello\u001b[39m(name, lang\u001b[38;5;241m=\u001b[39m\u001b[38;5;124m'\u001b[39m\u001b[38;5;124men\u001b[39m\u001b[38;5;124m'\u001b[39m):\n\u001b[0;32m    383\u001b[0m     \u001b[38;5;124;03m\"\"\"\u001b[39;00m\n\u001b[0;32m    384\u001b[0m \u001b[38;5;124;03m    Greet the user.\u001b[39;00m\n\u001b[0;32m    385\u001b[0m \n\u001b[1;32m   (...)\u001b[0m\n\u001b[0;32m    395\u001b[0m \u001b[38;5;124;03m    ValueError: el is an unrecognized language code.\u001b[39;00m\n\u001b[0;32m    396\u001b[0m \u001b[38;5;124;03m    \"\"\"\u001b[39;00m\n\u001b[1;32m--> 397\u001b[0m     greeter \u001b[38;5;241m=\u001b[39m \u001b[43mmake_greeter\u001b[49m\u001b[43m(\u001b[49m\u001b[43mlang\u001b[49m\u001b[43m)\u001b[49m\n\u001b[0;32m    398\u001b[0m     greeter(name)\n",
      "File \u001b[1;32m~\\source\\repos\\algoviz\\algoviz\\greet.py:379\u001b[0m, in \u001b[0;36mmake_greeter\u001b[1;34m(lang)\u001b[0m\n\u001b[0;32m    354\u001b[0m \u001b[38;5;28;01mdef\u001b[39;00m \u001b[38;5;21mmake_greeter\u001b[39m(lang):\n\u001b[0;32m    355\u001b[0m     \u001b[38;5;124;03m\"\"\"\u001b[39;00m\n\u001b[0;32m    356\u001b[0m \u001b[38;5;124;03m    Make a function that greets by name in the language specified by lang.\u001b[39;00m\n\u001b[0;32m    357\u001b[0m \n\u001b[1;32m   (...)\u001b[0m\n\u001b[0;32m    377\u001b[0m \u001b[38;5;124;03m    ValueError: qx is an unrecognized language code.\u001b[39;00m\n\u001b[0;32m    378\u001b[0m \u001b[38;5;124;03m    \"\"\"\u001b[39;00m\n\u001b[1;32m--> 379\u001b[0m     \u001b[38;5;28;01mreturn\u001b[39;00m \u001b[43mMutableGreeter\u001b[49m\u001b[43m(\u001b[49m\u001b[43mlang\u001b[49m\u001b[43m)\u001b[49m\n",
      "File \u001b[1;32m~\\source\\repos\\algoviz\\algoviz\\greet.py:72\u001b[0m, in \u001b[0;36mMutableGreeter.__init__\u001b[1;34m(self, lang)\u001b[0m\n\u001b[0;32m     63\u001b[0m \u001b[38;5;28;01mdef\u001b[39;00m \u001b[38;5;21m__init__\u001b[39m(\u001b[38;5;28mself\u001b[39m, lang):\n\u001b[0;32m     64\u001b[0m     \u001b[38;5;124;03m\"\"\"\u001b[39;00m\n\u001b[0;32m     65\u001b[0m \u001b[38;5;124;03m    Create a MutableGreeter from the language code.\u001b[39;00m\n\u001b[0;32m     66\u001b[0m \n\u001b[1;32m   (...)\u001b[0m\n\u001b[0;32m     70\u001b[0m \u001b[38;5;124;03m    ValueError: qx is an unrecognized language code.\u001b[39;00m\n\u001b[0;32m     71\u001b[0m \u001b[38;5;124;03m    \"\"\"\u001b[39;00m\n\u001b[1;32m---> 72\u001b[0m     \u001b[38;5;28;43mself\u001b[39;49m\u001b[38;5;241;43m.\u001b[39;49m\u001b[43mlang\u001b[49m \u001b[38;5;241m=\u001b[39m lang\n",
      "File \u001b[1;32m~\\source\\repos\\algoviz\\algoviz\\greet.py:130\u001b[0m, in \u001b[0;36mMutableGreeter.lang\u001b[1;34m(self, value)\u001b[0m\n\u001b[0;32m    127\u001b[0m \u001b[38;5;129m@lang\u001b[39m\u001b[38;5;241m.\u001b[39msetter\n\u001b[0;32m    128\u001b[0m \u001b[38;5;28;01mdef\u001b[39;00m \u001b[38;5;21mlang\u001b[39m(\u001b[38;5;28mself\u001b[39m, value):\n\u001b[0;32m    129\u001b[0m     \u001b[38;5;28;01mif\u001b[39;00m value \u001b[38;5;129;01mnot\u001b[39;00m \u001b[38;5;129;01min\u001b[39;00m _FORMATS:\n\u001b[1;32m--> 130\u001b[0m         \u001b[38;5;28;01mraise\u001b[39;00m \u001b[38;5;167;01mValueError\u001b[39;00m(\u001b[38;5;124mf\u001b[39m\u001b[38;5;124m'\u001b[39m\u001b[38;5;132;01m{\u001b[39;00mvalue\u001b[38;5;132;01m}\u001b[39;00m\u001b[38;5;124m is an unrecognized language code.\u001b[39m\u001b[38;5;124m'\u001b[39m)\n\u001b[0;32m    131\u001b[0m     \u001b[38;5;28mself\u001b[39m\u001b[38;5;241m.\u001b[39m_lang \u001b[38;5;241m=\u001b[39m value\n",
      "\u001b[1;31mValueError\u001b[0m: el is an unrecognized language code."
     ]
    }
   ],
   "source": [
    "hello('David','el')"
   ]
  },
  {
   "cell_type": "code",
   "execution_count": 3,
   "id": "ac97ac26-cbc4-42f9-b226-67e01f3198a2",
   "metadata": {},
   "outputs": [],
   "source": [
    "from algoviz import greet"
   ]
  },
  {
   "cell_type": "code",
   "execution_count": 4,
   "id": "ef5e4fd5-ae53-4cc6-b25f-e80f557a0353",
   "metadata": {},
   "outputs": [
    {
     "data": {
      "text/plain": [
       "'algoviz.greet'"
      ]
     },
     "execution_count": 4,
     "metadata": {},
     "output_type": "execute_result"
    }
   ],
   "source": [
    "greet.__name__"
   ]
  },
  {
   "cell_type": "markdown",
   "id": "f1920c78-0383-4eb2-b8be-3bdcc9ca1ef5",
   "metadata": {},
   "source": [
    "## Old way where `lang` is a function attribute"
   ]
  },
  {
   "cell_type": "code",
   "execution_count": 5,
   "id": "d354c92c-601c-42e4-9530-d1434f56735e",
   "metadata": {},
   "outputs": [],
   "source": [
    "from algoviz.greet import _FORMATS"
   ]
  },
  {
   "cell_type": "code",
   "execution_count": 6,
   "id": "0a3804c4-23b8-4abc-83da-a022538b85f3",
   "metadata": {},
   "outputs": [],
   "source": [
    "def make_greeter(lang): \n",
    "    return lambda name: print(_FORMATS[lang].format(name))"
   ]
  },
  {
   "cell_type": "code",
   "execution_count": 7,
   "id": "24f054f9-c58a-4ee4-8b9c-5ffca4ee450c",
   "metadata": {},
   "outputs": [],
   "source": [
    "greet = make_greeter('es')"
   ]
  },
  {
   "cell_type": "code",
   "execution_count": 8,
   "id": "d5272ade-a460-46ed-a31d-ae86268c584a",
   "metadata": {},
   "outputs": [
    {
     "name": "stdout",
     "output_type": "stream",
     "text": [
      "¡Hola, David!\n"
     ]
    }
   ],
   "source": [
    "greet('David')"
   ]
  },
  {
   "cell_type": "code",
   "execution_count": 9,
   "id": "f84a33bd-758a-4be0-8b3b-26c295b5fdd9",
   "metadata": {},
   "outputs": [],
   "source": [
    "def make_greeter(lang): \n",
    "    \n",
    "    def greet(name): \n",
    "        print(_FORMATS[lang].format(name))\n",
    "        \n",
    "    return greet"
   ]
  },
  {
   "cell_type": "code",
   "execution_count": 10,
   "id": "3fc3edc0-13cd-41e8-922a-cd3ad5d5536c",
   "metadata": {},
   "outputs": [],
   "source": [
    "greet = make_greeter('es')"
   ]
  },
  {
   "cell_type": "code",
   "execution_count": 11,
   "id": "48579f7f-5494-4a6c-a816-cef42fe72c6f",
   "metadata": {},
   "outputs": [
    {
     "name": "stdout",
     "output_type": "stream",
     "text": [
      "¡Hola, David!\n"
     ]
    }
   ],
   "source": [
    "greet('David')"
   ]
  },
  {
   "cell_type": "code",
   "execution_count": 12,
   "id": "581ed28d-ea7f-40eb-9bf2-91d3d79a1098",
   "metadata": {},
   "outputs": [],
   "source": [
    "def make_greeter(lang): \n",
    "    \n",
    "    def greet(name): \n",
    "        print(_FORMATS[lang].format(name))\n",
    "    \n",
    "    greet.lang = lang\n",
    "        \n",
    "    return greet"
   ]
  },
  {
   "cell_type": "code",
   "execution_count": 13,
   "id": "452b85f0-abc3-416e-ba6e-6b33d9a45781",
   "metadata": {},
   "outputs": [],
   "source": [
    "greet = make_greeter('es')"
   ]
  },
  {
   "cell_type": "code",
   "execution_count": 14,
   "id": "f28eb582-bf89-4446-9b0f-f2be646f6a5c",
   "metadata": {},
   "outputs": [
    {
     "name": "stdout",
     "output_type": "stream",
     "text": [
      "¡Hola, David!\n"
     ]
    }
   ],
   "source": [
    "greet('David')"
   ]
  },
  {
   "cell_type": "code",
   "execution_count": 15,
   "id": "26d3eba2-63c4-4726-960e-1b333e246d92",
   "metadata": {},
   "outputs": [
    {
     "data": {
      "text/plain": [
       "'es'"
      ]
     },
     "execution_count": 15,
     "metadata": {},
     "output_type": "execute_result"
    }
   ],
   "source": [
    "greet.lang"
   ]
  },
  {
   "cell_type": "code",
   "execution_count": 16,
   "id": "b14dc13d-a1b9-4521-a739-a0fdb325282f",
   "metadata": {},
   "outputs": [],
   "source": [
    "greet.lang = 'en'"
   ]
  },
  {
   "cell_type": "code",
   "execution_count": 17,
   "id": "10e9dcb8-e229-4806-8011-b5cd4abda9b7",
   "metadata": {},
   "outputs": [
    {
     "name": "stdout",
     "output_type": "stream",
     "text": [
      "¡Hola, David!\n"
     ]
    }
   ],
   "source": [
    "greet('David')"
   ]
  },
  {
   "cell_type": "code",
   "execution_count": 18,
   "id": "775308c5-46da-4a7d-85ab-ebf7b39092f3",
   "metadata": {},
   "outputs": [],
   "source": [
    "def make_greeter(lang): \n",
    "    \n",
    "    def greet(name): \n",
    "        print(_FORMATS[greet.lang].format(name))\n",
    "    \n",
    "    greet.lang = lang\n",
    "        \n",
    "    return greet"
   ]
  },
  {
   "cell_type": "code",
   "execution_count": 19,
   "id": "c51d6ef0-3d5e-40df-a989-084ad535cdcc",
   "metadata": {},
   "outputs": [],
   "source": [
    "greet = make_greeter('es')"
   ]
  },
  {
   "cell_type": "code",
   "execution_count": 20,
   "id": "1878194e-8db4-4b10-87d9-63cd92e0a294",
   "metadata": {},
   "outputs": [
    {
     "name": "stdout",
     "output_type": "stream",
     "text": [
      "¡Hola, David!\n"
     ]
    }
   ],
   "source": [
    "greet('David')"
   ]
  },
  {
   "cell_type": "code",
   "execution_count": 21,
   "id": "3e09a911-1e6b-4570-b46c-121ec340742c",
   "metadata": {},
   "outputs": [],
   "source": [
    "greet.lang = 'en'"
   ]
  },
  {
   "cell_type": "code",
   "execution_count": 22,
   "id": "124882f2-a076-4577-acd0-ff64f8841d8e",
   "metadata": {},
   "outputs": [
    {
     "name": "stdout",
     "output_type": "stream",
     "text": [
      "Hello, David!\n"
     ]
    }
   ],
   "source": [
    "greet('David')"
   ]
  },
  {
   "cell_type": "code",
   "execution_count": null,
   "id": "522c6a0e-ccc8-4568-9476-cd6f98357971",
   "metadata": {},
   "outputs": [],
   "source": []
  }
 ],
 "metadata": {
  "kernelspec": {
   "display_name": "Python 3 (ipykernel)",
   "language": "python",
   "name": "python3"
  },
  "language_info": {
   "codemirror_mode": {
    "name": "ipython",
    "version": 3
   },
   "file_extension": ".py",
   "mimetype": "text/x-python",
   "name": "python",
   "nbconvert_exporter": "python",
   "pygments_lexer": "ipython3",
   "version": "3.10.6"
  }
 },
 "nbformat": 4,
 "nbformat_minor": 5
}
