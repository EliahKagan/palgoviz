{
 "cells": [
  {
   "cell_type": "markdown",
   "id": "45c7187c-39dc-4a7c-a272-8957856804af",
   "metadata": {},
   "source": [
    "# Symbolic algebra with SymPy\n",
    "\n",
    "SPDX-License-Identifier: 0BSD"
   ]
  },
  {
   "cell_type": "markdown",
   "id": "10cf8f1f-0b20-4ea2-af60-1c49707ef0bb",
   "metadata": {},
   "source": [
    "This is especially useful for symbolic linear algebra and for arbitrary-precision linear algebra."
   ]
  },
  {
   "cell_type": "markdown",
   "id": "1db169ff-24da-45f0-9412-b920cf7a06eb",
   "metadata": {},
   "source": [
    "## Symbols"
   ]
  },
  {
   "cell_type": "code",
   "execution_count": 1,
   "id": "87565db4-34b6-48a3-b088-c582799546b3",
   "metadata": {},
   "outputs": [],
   "source": [
    "import sympy"
   ]
  },
  {
   "cell_type": "code",
   "execution_count": 2,
   "id": "416f35f2-d771-41fc-9aed-4f66939cd4b5",
   "metadata": {},
   "outputs": [],
   "source": [
    "x = sympy.Symbol('x')"
   ]
  },
  {
   "cell_type": "code",
   "execution_count": 3,
   "id": "744e5a4e-9825-44ea-b2fd-16d89d650a9f",
   "metadata": {},
   "outputs": [
    {
     "data": {
      "text/latex": [
       "$\\displaystyle x$"
      ],
      "text/plain": [
       "x"
      ]
     },
     "execution_count": 3,
     "metadata": {},
     "output_type": "execute_result"
    }
   ],
   "source": [
    "x"
   ]
  },
  {
   "cell_type": "code",
   "execution_count": 4,
   "id": "52ebfa43-71ef-4416-8539-256d6befa478",
   "metadata": {},
   "outputs": [
    {
     "data": {
      "text/latex": [
       "$\\displaystyle x + 1$"
      ],
      "text/plain": [
       "x + 1"
      ]
     },
     "execution_count": 4,
     "metadata": {},
     "output_type": "execute_result"
    }
   ],
   "source": [
    "x + 1"
   ]
  },
  {
   "cell_type": "code",
   "execution_count": 5,
   "id": "97b952f7-64b0-4067-bc24-74e9479a833d",
   "metadata": {},
   "outputs": [
    {
     "data": {
      "text/latex": [
       "$\\displaystyle 3 x$"
      ],
      "text/plain": [
       "3*x"
      ]
     },
     "execution_count": 5,
     "metadata": {},
     "output_type": "execute_result"
    }
   ],
   "source": [
    "3 * x"
   ]
  },
  {
   "cell_type": "code",
   "execution_count": 6,
   "id": "d3f0a435-e4bf-4ca5-a8d2-421e128cba37",
   "metadata": {},
   "outputs": [
    {
     "data": {
      "text/latex": [
       "$\\displaystyle x^{2}$"
      ],
      "text/plain": [
       "x**2"
      ]
     },
     "execution_count": 6,
     "metadata": {},
     "output_type": "execute_result"
    }
   ],
   "source": [
    "x**2"
   ]
  },
  {
   "cell_type": "markdown",
   "id": "6b530522-6287-40c4-bf5f-e85a4306c8f5",
   "metadata": {},
   "source": [
    "## Matrices"
   ]
  },
  {
   "cell_type": "code",
   "execution_count": 7,
   "id": "25fa4de6-ae8d-41e1-b0dc-67fa157fcadc",
   "metadata": {},
   "outputs": [],
   "source": [
    "M = sympy.Matrix([[1, 2], [3, 4]])"
   ]
  },
  {
   "cell_type": "code",
   "execution_count": 8,
   "id": "656cf78d-2d9f-4497-a36f-29c1c12fef04",
   "metadata": {},
   "outputs": [
    {
     "data": {
      "text/latex": [
       "$\\displaystyle \\left[\\begin{matrix}1 & 2\\\\3 & 4\\end{matrix}\\right]$"
      ],
      "text/plain": [
       "Matrix([\n",
       "[1, 2],\n",
       "[3, 4]])"
      ]
     },
     "execution_count": 8,
     "metadata": {},
     "output_type": "execute_result"
    }
   ],
   "source": [
    "M"
   ]
  },
  {
   "cell_type": "code",
   "execution_count": 9,
   "id": "0477b9d9-7a2a-4349-a0f9-d11621deb62e",
   "metadata": {},
   "outputs": [],
   "source": [
    "N = sympy.Matrix([[2, 2], [2, 2]])"
   ]
  },
  {
   "cell_type": "code",
   "execution_count": 10,
   "id": "c3f04bd7-ea02-4cf4-afb5-43331e7ee413",
   "metadata": {},
   "outputs": [
    {
     "data": {
      "text/latex": [
       "$\\displaystyle \\left[\\begin{matrix}2 & 2\\\\2 & 2\\end{matrix}\\right]$"
      ],
      "text/plain": [
       "Matrix([\n",
       "[2, 2],\n",
       "[2, 2]])"
      ]
     },
     "execution_count": 10,
     "metadata": {},
     "output_type": "execute_result"
    }
   ],
   "source": [
    "N"
   ]
  },
  {
   "cell_type": "code",
   "execution_count": 11,
   "id": "4dce565d-dc08-4183-a6ee-379141f4453d",
   "metadata": {},
   "outputs": [
    {
     "data": {
      "text/latex": [
       "$\\displaystyle \\left[\\begin{matrix}6 & 6\\\\14 & 14\\end{matrix}\\right]$"
      ],
      "text/plain": [
       "Matrix([\n",
       "[ 6,  6],\n",
       "[14, 14]])"
      ]
     },
     "execution_count": 11,
     "metadata": {},
     "output_type": "execute_result"
    }
   ],
   "source": [
    "M * N "
   ]
  },
  {
   "cell_type": "code",
   "execution_count": 12,
   "id": "ee78f18b-eb8d-4293-afba-1d36e16f597b",
   "metadata": {},
   "outputs": [],
   "source": [
    "a, b, c, d = sympy.symbols('a b c d')"
   ]
  },
  {
   "cell_type": "code",
   "execution_count": 13,
   "id": "0a624f5d-8fb9-4b50-a2a2-cfbb063ed7a7",
   "metadata": {},
   "outputs": [],
   "source": [
    "L = sympy.Matrix([[a, b], [c, d]])"
   ]
  },
  {
   "cell_type": "code",
   "execution_count": 14,
   "id": "f9040150-1128-4f29-b810-214453bf4f9d",
   "metadata": {},
   "outputs": [
    {
     "data": {
      "text/latex": [
       "$\\displaystyle \\left[\\begin{matrix}a & b\\\\c & d\\end{matrix}\\right]$"
      ],
      "text/plain": [
       "Matrix([\n",
       "[a, b],\n",
       "[c, d]])"
      ]
     },
     "execution_count": 14,
     "metadata": {},
     "output_type": "execute_result"
    }
   ],
   "source": [
    "L"
   ]
  },
  {
   "cell_type": "code",
   "execution_count": 15,
   "id": "7515f60a-4fcc-4451-b177-c38a4ff228b8",
   "metadata": {},
   "outputs": [
    {
     "data": {
      "text/latex": [
       "$\\displaystyle \\left[\\begin{matrix}a + 2 c & b + 2 d\\\\3 a + 4 c & 3 b + 4 d\\end{matrix}\\right]$"
      ],
      "text/plain": [
       "Matrix([\n",
       "[  a + 2*c,   b + 2*d],\n",
       "[3*a + 4*c, 3*b + 4*d]])"
      ]
     },
     "execution_count": 15,
     "metadata": {},
     "output_type": "execute_result"
    }
   ],
   "source": [
    "M * L "
   ]
  },
  {
   "cell_type": "markdown",
   "id": "72ca6636-0288-47c8-a1ee-2856795c0242",
   "metadata": {},
   "source": [
    "## Matrix powers, inverse, equality comparison"
   ]
  },
  {
   "cell_type": "code",
   "execution_count": 16,
   "id": "1d958a60-e0c4-41f8-a533-5d4d27d32db6",
   "metadata": {},
   "outputs": [
    {
     "data": {
      "text/latex": [
       "$\\displaystyle \\left[\\begin{matrix}a^{2} + b c & a b + b d\\\\a c + c d & b c + d^{2}\\end{matrix}\\right]$"
      ],
      "text/plain": [
       "Matrix([\n",
       "[a**2 + b*c,  a*b + b*d],\n",
       "[ a*c + c*d, b*c + d**2]])"
      ]
     },
     "execution_count": 16,
     "metadata": {},
     "output_type": "execute_result"
    }
   ],
   "source": [
    "L**2"
   ]
  },
  {
   "cell_type": "code",
   "execution_count": 17,
   "id": "265bbd6f-d88f-495a-b9f9-3610badd89fe",
   "metadata": {},
   "outputs": [
    {
     "data": {
      "text/latex": [
       "$\\displaystyle \\left[\\begin{matrix}a^{10} + 9 a^{8} b c + 8 a^{7} b c d + 28 a^{6} b^{2} c^{2} + 7 a^{6} b c d^{2} + 42 a^{5} b^{2} c^{2} d + 6 a^{5} b c d^{3} + 35 a^{4} b^{3} c^{3} + 45 a^{4} b^{2} c^{2} d^{2} + 5 a^{4} b c d^{4} + 60 a^{3} b^{3} c^{3} d + 40 a^{3} b^{2} c^{2} d^{3} + 4 a^{3} b c d^{5} + 15 a^{2} b^{4} c^{4} + 60 a^{2} b^{3} c^{3} d^{2} + 30 a^{2} b^{2} c^{2} d^{4} + 3 a^{2} b c d^{6} + 20 a b^{4} c^{4} d + 40 a b^{3} c^{3} d^{3} + 18 a b^{2} c^{2} d^{5} + 2 a b c d^{7} + b^{5} c^{5} + 10 b^{4} c^{4} d^{2} + 15 b^{3} c^{3} d^{4} + 7 b^{2} c^{2} d^{6} + b c d^{8} & a^{9} b + a^{8} b d + 8 a^{7} b^{2} c + a^{7} b d^{2} + 14 a^{6} b^{2} c d + a^{6} b d^{3} + 21 a^{5} b^{3} c^{2} + 18 a^{5} b^{2} c d^{2} + a^{5} b d^{4} + 45 a^{4} b^{3} c^{2} d + 20 a^{4} b^{2} c d^{3} + a^{4} b d^{5} + 20 a^{3} b^{4} c^{3} + 60 a^{3} b^{3} c^{2} d^{2} + 20 a^{3} b^{2} c d^{4} + a^{3} b d^{6} + 40 a^{2} b^{4} c^{3} d + 60 a^{2} b^{3} c^{2} d^{3} + 18 a^{2} b^{2} c d^{5} + a^{2} b d^{7} + 5 a b^{5} c^{4} + 40 a b^{4} c^{3} d^{2} + 45 a b^{3} c^{2} d^{4} + 14 a b^{2} c d^{6} + a b d^{8} + 5 b^{5} c^{4} d + 20 b^{4} c^{3} d^{3} + 21 b^{3} c^{2} d^{5} + 8 b^{2} c d^{7} + b d^{9}\\\\a^{9} c + a^{8} c d + 8 a^{7} b c^{2} + a^{7} c d^{2} + 14 a^{6} b c^{2} d + a^{6} c d^{3} + 21 a^{5} b^{2} c^{3} + 18 a^{5} b c^{2} d^{2} + a^{5} c d^{4} + 45 a^{4} b^{2} c^{3} d + 20 a^{4} b c^{2} d^{3} + a^{4} c d^{5} + 20 a^{3} b^{3} c^{4} + 60 a^{3} b^{2} c^{3} d^{2} + 20 a^{3} b c^{2} d^{4} + a^{3} c d^{6} + 40 a^{2} b^{3} c^{4} d + 60 a^{2} b^{2} c^{3} d^{3} + 18 a^{2} b c^{2} d^{5} + a^{2} c d^{7} + 5 a b^{4} c^{5} + 40 a b^{3} c^{4} d^{2} + 45 a b^{2} c^{3} d^{4} + 14 a b c^{2} d^{6} + a c d^{8} + 5 b^{4} c^{5} d + 20 b^{3} c^{4} d^{3} + 21 b^{2} c^{3} d^{5} + 8 b c^{2} d^{7} + c d^{9} & a^{8} b c + 2 a^{7} b c d + 7 a^{6} b^{2} c^{2} + 3 a^{6} b c d^{2} + 18 a^{5} b^{2} c^{2} d + 4 a^{5} b c d^{3} + 15 a^{4} b^{3} c^{3} + 30 a^{4} b^{2} c^{2} d^{2} + 5 a^{4} b c d^{4} + 40 a^{3} b^{3} c^{3} d + 40 a^{3} b^{2} c^{2} d^{3} + 6 a^{3} b c d^{5} + 10 a^{2} b^{4} c^{4} + 60 a^{2} b^{3} c^{3} d^{2} + 45 a^{2} b^{2} c^{2} d^{4} + 7 a^{2} b c d^{6} + 20 a b^{4} c^{4} d + 60 a b^{3} c^{3} d^{3} + 42 a b^{2} c^{2} d^{5} + 8 a b c d^{7} + b^{5} c^{5} + 15 b^{4} c^{4} d^{2} + 35 b^{3} c^{3} d^{4} + 28 b^{2} c^{2} d^{6} + 9 b c d^{8} + d^{10}\\end{matrix}\\right]$"
      ],
      "text/plain": [
       "Matrix([\n",
       "[                                          a**10 + 9*a**8*b*c + 8*a**7*b*c*d + 28*a**6*b**2*c**2 + 7*a**6*b*c*d**2 + 42*a**5*b**2*c**2*d + 6*a**5*b*c*d**3 + 35*a**4*b**3*c**3 + 45*a**4*b**2*c**2*d**2 + 5*a**4*b*c*d**4 + 60*a**3*b**3*c**3*d + 40*a**3*b**2*c**2*d**3 + 4*a**3*b*c*d**5 + 15*a**2*b**4*c**4 + 60*a**2*b**3*c**3*d**2 + 30*a**2*b**2*c**2*d**4 + 3*a**2*b*c*d**6 + 20*a*b**4*c**4*d + 40*a*b**3*c**3*d**3 + 18*a*b**2*c**2*d**5 + 2*a*b*c*d**7 + b**5*c**5 + 10*b**4*c**4*d**2 + 15*b**3*c**3*d**4 + 7*b**2*c**2*d**6 + b*c*d**8, a**9*b + a**8*b*d + 8*a**7*b**2*c + a**7*b*d**2 + 14*a**6*b**2*c*d + a**6*b*d**3 + 21*a**5*b**3*c**2 + 18*a**5*b**2*c*d**2 + a**5*b*d**4 + 45*a**4*b**3*c**2*d + 20*a**4*b**2*c*d**3 + a**4*b*d**5 + 20*a**3*b**4*c**3 + 60*a**3*b**3*c**2*d**2 + 20*a**3*b**2*c*d**4 + a**3*b*d**6 + 40*a**2*b**4*c**3*d + 60*a**2*b**3*c**2*d**3 + 18*a**2*b**2*c*d**5 + a**2*b*d**7 + 5*a*b**5*c**4 + 40*a*b**4*c**3*d**2 + 45*a*b**3*c**2*d**4 + 14*a*b**2*c*d**6 + a*b*d**8 + 5*b**5*c**4*d + 20*b**4*c**3*d**3 + 21*b**3*c**2*d**5 + 8*b**2*c*d**7 + b*d**9],\n",
       "[a**9*c + a**8*c*d + 8*a**7*b*c**2 + a**7*c*d**2 + 14*a**6*b*c**2*d + a**6*c*d**3 + 21*a**5*b**2*c**3 + 18*a**5*b*c**2*d**2 + a**5*c*d**4 + 45*a**4*b**2*c**3*d + 20*a**4*b*c**2*d**3 + a**4*c*d**5 + 20*a**3*b**3*c**4 + 60*a**3*b**2*c**3*d**2 + 20*a**3*b*c**2*d**4 + a**3*c*d**6 + 40*a**2*b**3*c**4*d + 60*a**2*b**2*c**3*d**3 + 18*a**2*b*c**2*d**5 + a**2*c*d**7 + 5*a*b**4*c**5 + 40*a*b**3*c**4*d**2 + 45*a*b**2*c**3*d**4 + 14*a*b*c**2*d**6 + a*c*d**8 + 5*b**4*c**5*d + 20*b**3*c**4*d**3 + 21*b**2*c**3*d**5 + 8*b*c**2*d**7 + c*d**9,                                           a**8*b*c + 2*a**7*b*c*d + 7*a**6*b**2*c**2 + 3*a**6*b*c*d**2 + 18*a**5*b**2*c**2*d + 4*a**5*b*c*d**3 + 15*a**4*b**3*c**3 + 30*a**4*b**2*c**2*d**2 + 5*a**4*b*c*d**4 + 40*a**3*b**3*c**3*d + 40*a**3*b**2*c**2*d**3 + 6*a**3*b*c*d**5 + 10*a**2*b**4*c**4 + 60*a**2*b**3*c**3*d**2 + 45*a**2*b**2*c**2*d**4 + 7*a**2*b*c*d**6 + 20*a*b**4*c**4*d + 60*a*b**3*c**3*d**3 + 42*a*b**2*c**2*d**5 + 8*a*b*c*d**7 + b**5*c**5 + 15*b**4*c**4*d**2 + 35*b**3*c**3*d**4 + 28*b**2*c**2*d**6 + 9*b*c*d**8 + d**10]])"
      ]
     },
     "execution_count": 17,
     "metadata": {},
     "output_type": "execute_result"
    }
   ],
   "source": [
    "L**10"
   ]
  },
  {
   "cell_type": "code",
   "execution_count": 18,
   "id": "42255faa-0843-408c-b8e4-74e6ce91ecf2",
   "metadata": {},
   "outputs": [
    {
     "data": {
      "text/latex": [
       "$\\displaystyle \\left[\\begin{matrix}\\frac{d}{a d - b c} & - \\frac{b}{a d - b c}\\\\- \\frac{c}{a d - b c} & \\frac{a}{a d - b c}\\end{matrix}\\right]$"
      ],
      "text/plain": [
       "Matrix([\n",
       "[ d/(a*d - b*c), -b/(a*d - b*c)],\n",
       "[-c/(a*d - b*c),  a/(a*d - b*c)]])"
      ]
     },
     "execution_count": 18,
     "metadata": {},
     "output_type": "execute_result"
    }
   ],
   "source": [
    "L**-1"
   ]
  },
  {
   "cell_type": "code",
   "execution_count": 19,
   "id": "8990beb0-23b2-44ee-9c8e-8d5e3fa0cce0",
   "metadata": {},
   "outputs": [
    {
     "data": {
      "text/latex": [
       "$\\displaystyle \\left[\\begin{matrix}d & - b\\\\- c & a\\end{matrix}\\right]$"
      ],
      "text/plain": [
       "Matrix([\n",
       "[ d, -b],\n",
       "[-c,  a]])"
      ]
     },
     "execution_count": 19,
     "metadata": {},
     "output_type": "execute_result"
    }
   ],
   "source": [
    "L**-1 * (a*d - b*c)"
   ]
  },
  {
   "cell_type": "code",
   "execution_count": 20,
   "id": "ca956fc0-55fd-4ab6-aaba-b6c17975da63",
   "metadata": {},
   "outputs": [
    {
     "data": {
      "text/plain": [
       "True"
      ]
     },
     "execution_count": 20,
     "metadata": {},
     "output_type": "execute_result"
    }
   ],
   "source": [
    "sympy.Matrix([[d, -b], [-c, a]]) / (a * d - b * c) == L**-1"
   ]
  },
  {
   "cell_type": "markdown",
   "id": "e7abd47c-9b34-40d1-9a68-b48015677c43",
   "metadata": {},
   "source": [
    "## Both `*` and `@` can do matrix multiplication"
   ]
  },
  {
   "cell_type": "code",
   "execution_count": 21,
   "id": "4d0da80f-705c-4057-bd19-d60ec30f8aa8",
   "metadata": {},
   "outputs": [
    {
     "data": {
      "text/latex": [
       "$\\displaystyle \\left[\\begin{matrix}6 & 6\\\\14 & 14\\end{matrix}\\right]$"
      ],
      "text/plain": [
       "Matrix([\n",
       "[ 6,  6],\n",
       "[14, 14]])"
      ]
     },
     "execution_count": 21,
     "metadata": {},
     "output_type": "execute_result"
    }
   ],
   "source": [
    "M * N "
   ]
  },
  {
   "cell_type": "code",
   "execution_count": 22,
   "id": "df243faf-ba13-418f-870e-b10e5639b156",
   "metadata": {},
   "outputs": [
    {
     "data": {
      "text/latex": [
       "$\\displaystyle \\left[\\begin{matrix}8 & 12\\\\8 & 12\\end{matrix}\\right]$"
      ],
      "text/plain": [
       "Matrix([\n",
       "[8, 12],\n",
       "[8, 12]])"
      ]
     },
     "execution_count": 22,
     "metadata": {},
     "output_type": "execute_result"
    }
   ],
   "source": [
    "N * M "
   ]
  },
  {
   "cell_type": "code",
   "execution_count": 23,
   "id": "150eaa72-d31c-4167-8574-05cc8e5a299d",
   "metadata": {},
   "outputs": [
    {
     "data": {
      "text/latex": [
       "$\\displaystyle \\left[\\begin{matrix}6 & 6\\\\14 & 14\\end{matrix}\\right]$"
      ],
      "text/plain": [
       "Matrix([\n",
       "[ 6,  6],\n",
       "[14, 14]])"
      ]
     },
     "execution_count": 23,
     "metadata": {},
     "output_type": "execute_result"
    }
   ],
   "source": [
    "M @ N "
   ]
  },
  {
   "cell_type": "code",
   "execution_count": 24,
   "id": "f17ce27f-881a-4e2a-b2a1-8762bb0ead05",
   "metadata": {},
   "outputs": [
    {
     "data": {
      "text/latex": [
       "$\\displaystyle \\left[\\begin{matrix}8 & 12\\\\8 & 12\\end{matrix}\\right]$"
      ],
      "text/plain": [
       "Matrix([\n",
       "[8, 12],\n",
       "[8, 12]])"
      ]
     },
     "execution_count": 24,
     "metadata": {},
     "output_type": "execute_result"
    }
   ],
   "source": [
    "N @ M "
   ]
  },
  {
   "cell_type": "code",
   "execution_count": 25,
   "id": "0b70ab8a-273d-41c7-985a-ce5309e0b3cd",
   "metadata": {},
   "outputs": [
    {
     "data": {
      "text/latex": [
       "$\\displaystyle \\left[\\begin{matrix}a & b\\\\c & d\\end{matrix}\\right]$"
      ],
      "text/plain": [
       "Matrix([\n",
       "[a, b],\n",
       "[c, d]])"
      ]
     },
     "execution_count": 25,
     "metadata": {},
     "output_type": "execute_result"
    }
   ],
   "source": [
    "L"
   ]
  },
  {
   "cell_type": "markdown",
   "id": "0e402e56-8462-4d88-bd71-508369148317",
   "metadata": {},
   "source": [
    "## Subscripting matrices with 0-based index tuples"
   ]
  },
  {
   "cell_type": "code",
   "execution_count": 26,
   "id": "f3237a29-c2d4-478a-832f-cf50011a161d",
   "metadata": {},
   "outputs": [
    {
     "data": {
      "text/latex": [
       "$\\displaystyle b$"
      ],
      "text/plain": [
       "b"
      ]
     },
     "execution_count": 26,
     "metadata": {},
     "output_type": "execute_result"
    }
   ],
   "source": [
    "L[0, 1]"
   ]
  },
  {
   "cell_type": "markdown",
   "id": "ca7b2805-42fa-442d-af5d-4c3d49e999df",
   "metadata": {},
   "source": [
    "## Subscripted symbols"
   ]
  },
  {
   "cell_type": "code",
   "execution_count": 27,
   "id": "12cb692f-5b8d-4cfa-b7eb-45baa1bef5f7",
   "metadata": {},
   "outputs": [],
   "source": [
    "a11 = sympy.Symbol('a_11')\n",
    "a12 = sympy.Symbol('a_12')\n",
    "a21 = sympy.Symbol('a_21')\n",
    "a22 = sympy.Symbol('a_22')"
   ]
  },
  {
   "cell_type": "code",
   "execution_count": 28,
   "id": "e1905a4f-ec06-4df3-97cc-8082ac763afd",
   "metadata": {},
   "outputs": [
    {
     "data": {
      "text/latex": [
       "$\\displaystyle \\left[\\begin{matrix}a_{11} & a_{12}\\\\a_{21} & a_{22}\\end{matrix}\\right]$"
      ],
      "text/plain": [
       "Matrix([\n",
       "[a_11, a_12],\n",
       "[a_21, a_22]])"
      ]
     },
     "execution_count": 28,
     "metadata": {},
     "output_type": "execute_result"
    }
   ],
   "source": [
    "sympy.Matrix([[a11, a12], [a21, a22]])"
   ]
  },
  {
   "cell_type": "markdown",
   "id": "e31ed2cc-c18d-4736-b21f-afb86c0a5fcc",
   "metadata": {},
   "source": [
    "## Commutative and noncommutative symbols"
   ]
  },
  {
   "cell_type": "code",
   "execution_count": 29,
   "id": "2f162299-079c-4edd-97c1-968dd4ac177b",
   "metadata": {},
   "outputs": [],
   "source": [
    "y = sympy.Symbol('y')"
   ]
  },
  {
   "cell_type": "code",
   "execution_count": 30,
   "id": "4b13f76e-cc8f-4438-835e-ab774f79bec1",
   "metadata": {},
   "outputs": [
    {
     "data": {
      "text/latex": [
       "$\\displaystyle x y$"
      ],
      "text/plain": [
       "x*y"
      ]
     },
     "execution_count": 30,
     "metadata": {},
     "output_type": "execute_result"
    }
   ],
   "source": [
    "x * y "
   ]
  },
  {
   "cell_type": "code",
   "execution_count": 31,
   "id": "40ceccff-83a5-47f7-bb0a-405049b6fe86",
   "metadata": {},
   "outputs": [
    {
     "data": {
      "text/latex": [
       "$\\displaystyle x y$"
      ],
      "text/plain": [
       "x*y"
      ]
     },
     "execution_count": 31,
     "metadata": {},
     "output_type": "execute_result"
    }
   ],
   "source": [
    "y * x"
   ]
  },
  {
   "cell_type": "code",
   "execution_count": 32,
   "id": "815722bd-43db-4699-ace1-8be20fa0a557",
   "metadata": {},
   "outputs": [],
   "source": [
    "w = sympy.Symbol('w', commutative=False)"
   ]
  },
  {
   "cell_type": "code",
   "execution_count": 33,
   "id": "8f574129-4c26-43b1-a271-57c9a3b6e2e0",
   "metadata": {},
   "outputs": [],
   "source": [
    "z = sympy.Symbol('z', commutative=False)"
   ]
  },
  {
   "cell_type": "code",
   "execution_count": 34,
   "id": "1b88ec9f-96ae-42e9-a160-67d1a5d2cf85",
   "metadata": {},
   "outputs": [
    {
     "data": {
      "text/latex": [
       "$\\displaystyle w z$"
      ],
      "text/plain": [
       "w*z"
      ]
     },
     "execution_count": 34,
     "metadata": {},
     "output_type": "execute_result"
    }
   ],
   "source": [
    "w * z "
   ]
  },
  {
   "cell_type": "code",
   "execution_count": 35,
   "id": "aae89f93-28fd-4be7-9610-532bcf2d9055",
   "metadata": {},
   "outputs": [
    {
     "data": {
      "text/latex": [
       "$\\displaystyle z w$"
      ],
      "text/plain": [
       "z*w"
      ]
     },
     "execution_count": 35,
     "metadata": {},
     "output_type": "execute_result"
    }
   ],
   "source": [
    "z * w "
   ]
  },
  {
   "cell_type": "code",
   "execution_count": 36,
   "id": "0b485376-29ea-4f59-b411-20f90984fea9",
   "metadata": {},
   "outputs": [
    {
     "data": {
      "text/latex": [
       "$\\displaystyle x w$"
      ],
      "text/plain": [
       "x*w"
      ]
     },
     "execution_count": 36,
     "metadata": {},
     "output_type": "execute_result"
    }
   ],
   "source": [
    "x * w"
   ]
  },
  {
   "cell_type": "code",
   "execution_count": 37,
   "id": "ca16a9a0-f925-4c82-ad47-0af8f0e3aae9",
   "metadata": {},
   "outputs": [
    {
     "data": {
      "text/latex": [
       "$\\displaystyle x w$"
      ],
      "text/plain": [
       "x*w"
      ]
     },
     "execution_count": 37,
     "metadata": {},
     "output_type": "execute_result"
    }
   ],
   "source": [
    "w * x "
   ]
  },
  {
   "cell_type": "code",
   "execution_count": 38,
   "id": "fb77cebe-0d3b-41a2-8d37-a65e2a6a0db4",
   "metadata": {},
   "outputs": [
    {
     "data": {
      "text/plain": [
       "False"
      ]
     },
     "execution_count": 38,
     "metadata": {},
     "output_type": "execute_result"
    }
   ],
   "source": [
    "w * z == z * w "
   ]
  },
  {
   "cell_type": "code",
   "execution_count": 39,
   "id": "1a65bd44-c572-4718-b59a-699aca650f62",
   "metadata": {},
   "outputs": [
    {
     "data": {
      "text/plain": [
       "True"
      ]
     },
     "execution_count": 39,
     "metadata": {},
     "output_type": "execute_result"
    }
   ],
   "source": [
    "x * y == y * x "
   ]
  },
  {
   "cell_type": "code",
   "execution_count": 40,
   "id": "b9771792-3d58-45e3-81f3-5a998f1fb506",
   "metadata": {},
   "outputs": [
    {
     "data": {
      "text/plain": [
       "sympy.core.mul.Mul"
      ]
     },
     "execution_count": 40,
     "metadata": {},
     "output_type": "execute_result"
    }
   ],
   "source": [
    "type(w * x)"
   ]
  },
  {
   "cell_type": "markdown",
   "id": "3e97ea89-1125-43b6-94da-8de460253600",
   "metadata": {},
   "source": [
    "## Expression tree drawing with SymPy and Graphviz"
   ]
  },
  {
   "cell_type": "markdown",
   "id": "7bf46789-4d04-407b-a313-76aea8276874",
   "metadata": {},
   "source": [
    "For this, we use:\n",
    "\n",
    "- [sympy.printing.dot.dotprint](https://docs.sympy.org/latest/modules/printing.html#dotprint) to emit DOT code, *and*\n",
    "- [graphviz.Source](https://graphviz.readthedocs.io/en/stable/manual.html#using-raw-dot) to draw a Graphviz graph from DOT code."
   ]
  },
  {
   "cell_type": "code",
   "execution_count": 41,
   "id": "5904e318-7660-4037-a03c-fd9c6fbd231a",
   "metadata": {},
   "outputs": [],
   "source": [
    "import graphviz\n",
    "from sympy.printing.dot import dotprint"
   ]
  },
  {
   "cell_type": "code",
   "execution_count": 42,
   "id": "37d79b1c-2028-4aaa-a045-1617df447b95",
   "metadata": {},
   "outputs": [],
   "source": [
    "from palgoviz.composers import compose2"
   ]
  },
  {
   "cell_type": "code",
   "execution_count": 43,
   "id": "0ad7a6f4-85b3-4e26-b67b-e9b9f588f331",
   "metadata": {},
   "outputs": [],
   "source": [
    "dp = compose2(graphviz.Source, sympy.printing.dot.dotprint)"
   ]
  },
  {
   "cell_type": "code",
   "execution_count": 44,
   "id": "77346f63-eb5e-4e92-b320-f21215310b4e",
   "metadata": {},
   "outputs": [
    {
     "data": {
      "image/svg+xml": [
       "<?xml version=\"1.0\" encoding=\"UTF-8\" standalone=\"no\"?>\n",
       "<!DOCTYPE svg PUBLIC \"-//W3C//DTD SVG 1.1//EN\"\n",
       " \"http://www.w3.org/Graphics/SVG/1.1/DTD/svg11.dtd\">\n",
       "<!-- Generated by graphviz version 7.0.5 (20221223.1930)\n",
       " -->\n",
       "<!-- Pages: 1 -->\n",
       "<svg width=\"134pt\" height=\"116pt\"\n",
       " viewBox=\"0.00 0.00 134.00 116.00\" xmlns=\"http://www.w3.org/2000/svg\" xmlns:xlink=\"http://www.w3.org/1999/xlink\">\n",
       "<g id=\"graph0\" class=\"graph\" transform=\"scale(1 1) rotate(0) translate(4 112)\">\n",
       "<polygon fill=\"white\" stroke=\"none\" points=\"-4,4 -4,-112 130,-112 130,4 -4,4\"/>\n",
       "<!-- Mul(Symbol(&#39;x&#39;), Symbol(&#39;w&#39;, commutative=False))_() -->\n",
       "<g id=\"node1\" class=\"node\">\n",
       "<title>Mul(Symbol(&#39;x&#39;), Symbol(&#39;w&#39;, commutative=False))_()</title>\n",
       "<ellipse fill=\"none\" stroke=\"black\" cx=\"63\" cy=\"-90\" rx=\"27\" ry=\"18\"/>\n",
       "<text text-anchor=\"middle\" x=\"63\" y=\"-86.3\" font-family=\"Times New Roman,serif\" font-size=\"14.00\">Mul</text>\n",
       "</g>\n",
       "<!-- Symbol(&#39;x&#39;)_(0,) -->\n",
       "<g id=\"node2\" class=\"node\">\n",
       "<title>Symbol(&#39;x&#39;)_(0,)</title>\n",
       "<ellipse fill=\"none\" stroke=\"black\" cx=\"27\" cy=\"-18\" rx=\"27\" ry=\"18\"/>\n",
       "<text text-anchor=\"middle\" x=\"27\" y=\"-14.3\" font-family=\"Times New Roman,serif\" font-size=\"14.00\">x</text>\n",
       "</g>\n",
       "<!-- Mul(Symbol(&#39;x&#39;), Symbol(&#39;w&#39;, commutative=False))_()&#45;&gt;Symbol(&#39;x&#39;)_(0,) -->\n",
       "<g id=\"edge1\" class=\"edge\">\n",
       "<title>Mul(Symbol(&#39;x&#39;), Symbol(&#39;w&#39;, commutative=False))_()&#45;&gt;Symbol(&#39;x&#39;)_(0,)</title>\n",
       "<path fill=\"none\" stroke=\"black\" d=\"M54.65,-72.76C50.42,-64.55 45.19,-54.37 40.42,-45.09\"/>\n",
       "<polygon fill=\"black\" stroke=\"black\" points=\"43.68,-43.79 36,-36.49 37.46,-46.99 43.68,-43.79\"/>\n",
       "</g>\n",
       "<!-- Symbol(&#39;w&#39;, commutative=False)_(1,) -->\n",
       "<g id=\"node3\" class=\"node\">\n",
       "<title>Symbol(&#39;w&#39;, commutative=False)_(1,)</title>\n",
       "<ellipse fill=\"none\" stroke=\"black\" cx=\"99\" cy=\"-18\" rx=\"27\" ry=\"18\"/>\n",
       "<text text-anchor=\"middle\" x=\"99\" y=\"-14.3\" font-family=\"Times New Roman,serif\" font-size=\"14.00\">w</text>\n",
       "</g>\n",
       "<!-- Mul(Symbol(&#39;x&#39;), Symbol(&#39;w&#39;, commutative=False))_()&#45;&gt;Symbol(&#39;w&#39;, commutative=False)_(1,) -->\n",
       "<g id=\"edge2\" class=\"edge\">\n",
       "<title>Mul(Symbol(&#39;x&#39;), Symbol(&#39;w&#39;, commutative=False))_()&#45;&gt;Symbol(&#39;w&#39;, commutative=False)_(1,)</title>\n",
       "<path fill=\"none\" stroke=\"black\" d=\"M71.35,-72.76C75.58,-64.55 80.81,-54.37 85.58,-45.09\"/>\n",
       "<polygon fill=\"black\" stroke=\"black\" points=\"88.54,-46.99 90,-36.49 82.32,-43.79 88.54,-46.99\"/>\n",
       "</g>\n",
       "</g>\n",
       "</svg>\n"
      ],
      "text/plain": [
       "<graphviz.sources.Source at 0x1b148c146d0>"
      ]
     },
     "execution_count": 44,
     "metadata": {},
     "output_type": "execute_result"
    }
   ],
   "source": [
    "dp(w * x)"
   ]
  },
  {
   "cell_type": "code",
   "execution_count": 45,
   "id": "1078ce11-ab00-4309-a57d-1adab729be38",
   "metadata": {},
   "outputs": [
    {
     "data": {
      "text/latex": [
       "$\\displaystyle \\left[\\begin{matrix}a^{5} + 4 a^{3} b c + 3 a^{2} b c d + 3 a b^{2} c^{2} + 2 a b c d^{2} + 2 b^{2} c^{2} d + b c d^{3} & a^{4} b + a^{3} b d + 3 a^{2} b^{2} c + a^{2} b d^{2} + 4 a b^{2} c d + a b d^{3} + b^{3} c^{2} + 3 b^{2} c d^{2} + b d^{4}\\\\a^{4} c + a^{3} c d + 3 a^{2} b c^{2} + a^{2} c d^{2} + 4 a b c^{2} d + a c d^{3} + b^{2} c^{3} + 3 b c^{2} d^{2} + c d^{4} & a^{3} b c + 2 a^{2} b c d + 2 a b^{2} c^{2} + 3 a b c d^{2} + 3 b^{2} c^{2} d + 4 b c d^{3} + d^{5}\\end{matrix}\\right]$"
      ],
      "text/plain": [
       "Matrix([\n",
       "[                    a**5 + 4*a**3*b*c + 3*a**2*b*c*d + 3*a*b**2*c**2 + 2*a*b*c*d**2 + 2*b**2*c**2*d + b*c*d**3, a**4*b + a**3*b*d + 3*a**2*b**2*c + a**2*b*d**2 + 4*a*b**2*c*d + a*b*d**3 + b**3*c**2 + 3*b**2*c*d**2 + b*d**4],\n",
       "[a**4*c + a**3*c*d + 3*a**2*b*c**2 + a**2*c*d**2 + 4*a*b*c**2*d + a*c*d**3 + b**2*c**3 + 3*b*c**2*d**2 + c*d**4,                     a**3*b*c + 2*a**2*b*c*d + 2*a*b**2*c**2 + 3*a*b*c*d**2 + 3*b**2*c**2*d + 4*b*c*d**3 + d**5]])"
      ]
     },
     "execution_count": 45,
     "metadata": {},
     "output_type": "execute_result"
    }
   ],
   "source": [
    "L**5"
   ]
  },
  {
   "cell_type": "code",
   "execution_count": 46,
   "id": "e85474e5-1c89-4784-8ab1-fce2236ad032",
   "metadata": {},
   "outputs": [
    {
     "data": {
      "text/latex": [
       "$\\displaystyle a^{5} + 4 a^{3} b c + 3 a^{2} b c d + 3 a b^{2} c^{2} + 2 a b c d^{2} + 2 b^{2} c^{2} d + b c d^{3}$"
      ],
      "text/plain": [
       "a**5 + 4*a**3*b*c + 3*a**2*b*c*d + 3*a*b**2*c**2 + 2*a*b*c*d**2 + 2*b**2*c**2*d + b*c*d**3"
      ]
     },
     "execution_count": 46,
     "metadata": {},
     "output_type": "execute_result"
    }
   ],
   "source": [
    "formula = (L**5)[0, 0]\n",
    "formula"
   ]
  },
  {
   "cell_type": "code",
   "execution_count": 47,
   "id": "2863f3be-4ae0-47ea-adba-155460c70947",
   "metadata": {},
   "outputs": [
    {
     "data": {
      "image/svg+xml": [
       "<?xml version=\"1.0\" encoding=\"UTF-8\" standalone=\"no\"?>\n",
       "<!DOCTYPE svg PUBLIC \"-//W3C//DTD SVG 1.1//EN\"\n",
       " \"http://www.w3.org/Graphics/SVG/1.1/DTD/svg11.dtd\">\n",
       "<!-- Generated by graphviz version 7.0.5 (20221223.1930)\n",
       " -->\n",
       "<!-- Pages: 1 -->\n",
       "<svg width=\"1972pt\" height=\"260pt\"\n",
       " viewBox=\"0.00 0.00 1972.00 260.00\" xmlns=\"http://www.w3.org/2000/svg\" xmlns:xlink=\"http://www.w3.org/1999/xlink\">\n",
       "<g id=\"graph0\" class=\"graph\" transform=\"scale(1 1) rotate(0) translate(4 256)\">\n",
       "<polygon fill=\"white\" stroke=\"none\" points=\"-4,4 -4,-256 1968,-256 1968,4 -4,4\"/>\n",
       "<!-- Add(Pow(Symbol(&#39;a&#39;), Integer(5)), Mul(Symbol(&#39;b&#39;), Symbol(&#39;c&#39;), Pow(Symbol(&#39;d&#39;), Integer(3))), Mul(Integer(2), Symbol(&#39;d&#39;), Pow(Symbol(&#39;b&#39;), Integer(2)), Pow(Symbol(&#39;c&#39;), Integer(2))), Mul(Integer(3), Symbol(&#39;a&#39;), Pow(Symbol(&#39;b&#39;), Integer(2)), Pow(Symbol(&#39;c&#39;), Integer(2))), Mul(Integer(4), Symbol(&#39;b&#39;), Symbol(&#39;c&#39;), Pow(Symbol(&#39;a&#39;), Integer(3))), Mul(Integer(2), Symbol(&#39;a&#39;), Symbol(&#39;b&#39;), Symbol(&#39;c&#39;), Pow(Symbol(&#39;d&#39;), Integer(2))), Mul(Integer(3), Symbol(&#39;b&#39;), Symbol(&#39;c&#39;), Symbol(&#39;d&#39;), Pow(Symbol(&#39;a&#39;), Integer(2))))_() -->\n",
       "<g id=\"node1\" class=\"node\">\n",
       "<title>Add(Pow(Symbol(&#39;a&#39;), Integer(5)), Mul(Symbol(&#39;b&#39;), Symbol(&#39;c&#39;), Pow(Symbol(&#39;d&#39;), Integer(3))), Mul(Integer(2), Symbol(&#39;d&#39;), Pow(Symbol(&#39;b&#39;), Integer(2)), Pow(Symbol(&#39;c&#39;), Integer(2))), Mul(Integer(3), Symbol(&#39;a&#39;), Pow(Symbol(&#39;b&#39;), Integer(2)), Pow(Symbol(&#39;c&#39;), Integer(2))), Mul(Integer(4), Symbol(&#39;b&#39;), Symbol(&#39;c&#39;), Pow(Symbol(&#39;a&#39;), Integer(3))), Mul(Integer(2), Symbol(&#39;a&#39;), Symbol(&#39;b&#39;), Symbol(&#39;c&#39;), Pow(Symbol(&#39;d&#39;), Integer(2))), Mul(Integer(3), Symbol(&#39;b&#39;), Symbol(&#39;c&#39;), Symbol(&#39;d&#39;), Pow(Symbol(&#39;a&#39;), Integer(2))))_()</title>\n",
       "<ellipse fill=\"none\" stroke=\"black\" cx=\"784\" cy=\"-234\" rx=\"27\" ry=\"18\"/>\n",
       "<text text-anchor=\"middle\" x=\"784\" y=\"-230.3\" font-family=\"Times New Roman,serif\" font-size=\"14.00\">Add</text>\n",
       "</g>\n",
       "<!-- Pow(Symbol(&#39;a&#39;), Integer(5))_(0,) -->\n",
       "<g id=\"node2\" class=\"node\">\n",
       "<title>Pow(Symbol(&#39;a&#39;), Integer(5))_(0,)</title>\n",
       "<ellipse fill=\"none\" stroke=\"black\" cx=\"99\" cy=\"-162\" rx=\"27.1\" ry=\"18\"/>\n",
       "<text text-anchor=\"middle\" x=\"99\" y=\"-158.3\" font-family=\"Times New Roman,serif\" font-size=\"14.00\">Pow</text>\n",
       "</g>\n",
       "<!-- Add(Pow(Symbol(&#39;a&#39;), Integer(5)), Mul(Symbol(&#39;b&#39;), Symbol(&#39;c&#39;), Pow(Symbol(&#39;d&#39;), Integer(3))), Mul(Integer(2), Symbol(&#39;d&#39;), Pow(Symbol(&#39;b&#39;), Integer(2)), Pow(Symbol(&#39;c&#39;), Integer(2))), Mul(Integer(3), Symbol(&#39;a&#39;), Pow(Symbol(&#39;b&#39;), Integer(2)), Pow(Symbol(&#39;c&#39;), Integer(2))), Mul(Integer(4), Symbol(&#39;b&#39;), Symbol(&#39;c&#39;), Pow(Symbol(&#39;a&#39;), Integer(3))), Mul(Integer(2), Symbol(&#39;a&#39;), Symbol(&#39;b&#39;), Symbol(&#39;c&#39;), Pow(Symbol(&#39;d&#39;), Integer(2))), Mul(Integer(3), Symbol(&#39;b&#39;), Symbol(&#39;c&#39;), Symbol(&#39;d&#39;), Pow(Symbol(&#39;a&#39;), Integer(2))))_()&#45;&gt;Pow(Symbol(&#39;a&#39;), Integer(5))_(0,) -->\n",
       "<g id=\"edge1\" class=\"edge\">\n",
       "<title>Add(Pow(Symbol(&#39;a&#39;), Integer(5)), Mul(Symbol(&#39;b&#39;), Symbol(&#39;c&#39;), Pow(Symbol(&#39;d&#39;), Integer(3))), Mul(Integer(2), Symbol(&#39;d&#39;), Pow(Symbol(&#39;b&#39;), Integer(2)), Pow(Symbol(&#39;c&#39;), Integer(2))), Mul(Integer(3), Symbol(&#39;a&#39;), Pow(Symbol(&#39;b&#39;), Integer(2)), Pow(Symbol(&#39;c&#39;), Integer(2))), Mul(Integer(4), Symbol(&#39;b&#39;), Symbol(&#39;c&#39;), Pow(Symbol(&#39;a&#39;), Integer(3))), Mul(Integer(2), Symbol(&#39;a&#39;), Symbol(&#39;b&#39;), Symbol(&#39;c&#39;), Pow(Symbol(&#39;d&#39;), Integer(2))), Mul(Integer(3), Symbol(&#39;b&#39;), Symbol(&#39;c&#39;), Symbol(&#39;d&#39;), Pow(Symbol(&#39;a&#39;), Integer(2))))_()&#45;&gt;Pow(Symbol(&#39;a&#39;), Integer(5))_(0,)</title>\n",
       "<path fill=\"none\" stroke=\"black\" d=\"M757.24,-230.57C678.42,-223.36 440.27,-201.31 243,-180 207.03,-176.12 166.07,-171.24 137.06,-167.7\"/>\n",
       "<polygon fill=\"black\" stroke=\"black\" points=\"137.64,-164.25 127.29,-166.51 136.79,-171.2 137.64,-164.25\"/>\n",
       "</g>\n",
       "<!-- Mul(Symbol(&#39;b&#39;), Symbol(&#39;c&#39;), Pow(Symbol(&#39;d&#39;), Integer(3)))_(1,) -->\n",
       "<g id=\"node5\" class=\"node\">\n",
       "<title>Mul(Symbol(&#39;b&#39;), Symbol(&#39;c&#39;), Pow(Symbol(&#39;d&#39;), Integer(3)))_(1,)</title>\n",
       "<ellipse fill=\"none\" stroke=\"black\" cx=\"279\" cy=\"-162\" rx=\"27\" ry=\"18\"/>\n",
       "<text text-anchor=\"middle\" x=\"279\" y=\"-158.3\" font-family=\"Times New Roman,serif\" font-size=\"14.00\">Mul</text>\n",
       "</g>\n",
       "<!-- Add(Pow(Symbol(&#39;a&#39;), Integer(5)), Mul(Symbol(&#39;b&#39;), Symbol(&#39;c&#39;), Pow(Symbol(&#39;d&#39;), Integer(3))), Mul(Integer(2), Symbol(&#39;d&#39;), Pow(Symbol(&#39;b&#39;), Integer(2)), Pow(Symbol(&#39;c&#39;), Integer(2))), Mul(Integer(3), Symbol(&#39;a&#39;), Pow(Symbol(&#39;b&#39;), Integer(2)), Pow(Symbol(&#39;c&#39;), Integer(2))), Mul(Integer(4), Symbol(&#39;b&#39;), Symbol(&#39;c&#39;), Pow(Symbol(&#39;a&#39;), Integer(3))), Mul(Integer(2), Symbol(&#39;a&#39;), Symbol(&#39;b&#39;), Symbol(&#39;c&#39;), Pow(Symbol(&#39;d&#39;), Integer(2))), Mul(Integer(3), Symbol(&#39;b&#39;), Symbol(&#39;c&#39;), Symbol(&#39;d&#39;), Pow(Symbol(&#39;a&#39;), Integer(2))))_()&#45;&gt;Mul(Symbol(&#39;b&#39;), Symbol(&#39;c&#39;), Pow(Symbol(&#39;d&#39;), Integer(3)))_(1,) -->\n",
       "<g id=\"edge2\" class=\"edge\">\n",
       "<title>Add(Pow(Symbol(&#39;a&#39;), Integer(5)), Mul(Symbol(&#39;b&#39;), Symbol(&#39;c&#39;), Pow(Symbol(&#39;d&#39;), Integer(3))), Mul(Integer(2), Symbol(&#39;d&#39;), Pow(Symbol(&#39;b&#39;), Integer(2)), Pow(Symbol(&#39;c&#39;), Integer(2))), Mul(Integer(3), Symbol(&#39;a&#39;), Pow(Symbol(&#39;b&#39;), Integer(2)), Pow(Symbol(&#39;c&#39;), Integer(2))), Mul(Integer(4), Symbol(&#39;b&#39;), Symbol(&#39;c&#39;), Pow(Symbol(&#39;a&#39;), Integer(3))), Mul(Integer(2), Symbol(&#39;a&#39;), Symbol(&#39;b&#39;), Symbol(&#39;c&#39;), Pow(Symbol(&#39;d&#39;), Integer(2))), Mul(Integer(3), Symbol(&#39;b&#39;), Symbol(&#39;c&#39;), Symbol(&#39;d&#39;), Pow(Symbol(&#39;a&#39;), Integer(2))))_()&#45;&gt;Mul(Symbol(&#39;b&#39;), Symbol(&#39;c&#39;), Pow(Symbol(&#39;d&#39;), Integer(3)))_(1,)</title>\n",
       "<path fill=\"none\" stroke=\"black\" d=\"M757.56,-229.34C673.89,-217.74 414.64,-181.8 316.85,-168.25\"/>\n",
       "<polygon fill=\"black\" stroke=\"black\" points=\"317.37,-164.78 306.98,-166.88 316.41,-171.72 317.37,-164.78\"/>\n",
       "</g>\n",
       "<!-- Mul(Integer(2), Symbol(&#39;d&#39;), Pow(Symbol(&#39;b&#39;), Integer(2)), Pow(Symbol(&#39;c&#39;), Integer(2)))_(2,) -->\n",
       "<g id=\"node11\" class=\"node\">\n",
       "<title>Mul(Integer(2), Symbol(&#39;d&#39;), Pow(Symbol(&#39;b&#39;), Integer(2)), Pow(Symbol(&#39;c&#39;), Integer(2)))_(2,)</title>\n",
       "<ellipse fill=\"none\" stroke=\"black\" cx=\"531\" cy=\"-162\" rx=\"27\" ry=\"18\"/>\n",
       "<text text-anchor=\"middle\" x=\"531\" y=\"-158.3\" font-family=\"Times New Roman,serif\" font-size=\"14.00\">Mul</text>\n",
       "</g>\n",
       "<!-- Add(Pow(Symbol(&#39;a&#39;), Integer(5)), Mul(Symbol(&#39;b&#39;), Symbol(&#39;c&#39;), Pow(Symbol(&#39;d&#39;), Integer(3))), Mul(Integer(2), Symbol(&#39;d&#39;), Pow(Symbol(&#39;b&#39;), Integer(2)), Pow(Symbol(&#39;c&#39;), Integer(2))), Mul(Integer(3), Symbol(&#39;a&#39;), Pow(Symbol(&#39;b&#39;), Integer(2)), Pow(Symbol(&#39;c&#39;), Integer(2))), Mul(Integer(4), Symbol(&#39;b&#39;), Symbol(&#39;c&#39;), Pow(Symbol(&#39;a&#39;), Integer(3))), Mul(Integer(2), Symbol(&#39;a&#39;), Symbol(&#39;b&#39;), Symbol(&#39;c&#39;), Pow(Symbol(&#39;d&#39;), Integer(2))), Mul(Integer(3), Symbol(&#39;b&#39;), Symbol(&#39;c&#39;), Symbol(&#39;d&#39;), Pow(Symbol(&#39;a&#39;), Integer(2))))_()&#45;&gt;Mul(Integer(2), Symbol(&#39;d&#39;), Pow(Symbol(&#39;b&#39;), Integer(2)), Pow(Symbol(&#39;c&#39;), Integer(2)))_(2,) -->\n",
       "<g id=\"edge3\" class=\"edge\">\n",
       "<title>Add(Pow(Symbol(&#39;a&#39;), Integer(5)), Mul(Symbol(&#39;b&#39;), Symbol(&#39;c&#39;), Pow(Symbol(&#39;d&#39;), Integer(3))), Mul(Integer(2), Symbol(&#39;d&#39;), Pow(Symbol(&#39;b&#39;), Integer(2)), Pow(Symbol(&#39;c&#39;), Integer(2))), Mul(Integer(3), Symbol(&#39;a&#39;), Pow(Symbol(&#39;b&#39;), Integer(2)), Pow(Symbol(&#39;c&#39;), Integer(2))), Mul(Integer(4), Symbol(&#39;b&#39;), Symbol(&#39;c&#39;), Pow(Symbol(&#39;a&#39;), Integer(3))), Mul(Integer(2), Symbol(&#39;a&#39;), Symbol(&#39;b&#39;), Symbol(&#39;c&#39;), Pow(Symbol(&#39;d&#39;), Integer(2))), Mul(Integer(3), Symbol(&#39;b&#39;), Symbol(&#39;c&#39;), Symbol(&#39;d&#39;), Pow(Symbol(&#39;a&#39;), Integer(2))))_()&#45;&gt;Mul(Integer(2), Symbol(&#39;d&#39;), Pow(Symbol(&#39;b&#39;), Integer(2)), Pow(Symbol(&#39;c&#39;), Integer(2)))_(2,)</title>\n",
       "<path fill=\"none\" stroke=\"black\" d=\"M759.28,-226.16C714.31,-213.72 618.98,-187.34 566.86,-172.92\"/>\n",
       "<polygon fill=\"black\" stroke=\"black\" points=\"567.85,-169.56 557.28,-170.27 565.98,-176.31 567.85,-169.56\"/>\n",
       "</g>\n",
       "<!-- Mul(Integer(3), Symbol(&#39;a&#39;), Pow(Symbol(&#39;b&#39;), Integer(2)), Pow(Symbol(&#39;c&#39;), Integer(2)))_(3,) -->\n",
       "<g id=\"node20\" class=\"node\">\n",
       "<title>Mul(Integer(3), Symbol(&#39;a&#39;), Pow(Symbol(&#39;b&#39;), Integer(2)), Pow(Symbol(&#39;c&#39;), Integer(2)))_(3,)</title>\n",
       "<ellipse fill=\"none\" stroke=\"black\" cx=\"784\" cy=\"-162\" rx=\"27\" ry=\"18\"/>\n",
       "<text text-anchor=\"middle\" x=\"784\" y=\"-158.3\" font-family=\"Times New Roman,serif\" font-size=\"14.00\">Mul</text>\n",
       "</g>\n",
       "<!-- Add(Pow(Symbol(&#39;a&#39;), Integer(5)), Mul(Symbol(&#39;b&#39;), Symbol(&#39;c&#39;), Pow(Symbol(&#39;d&#39;), Integer(3))), Mul(Integer(2), Symbol(&#39;d&#39;), Pow(Symbol(&#39;b&#39;), Integer(2)), Pow(Symbol(&#39;c&#39;), Integer(2))), Mul(Integer(3), Symbol(&#39;a&#39;), Pow(Symbol(&#39;b&#39;), Integer(2)), Pow(Symbol(&#39;c&#39;), Integer(2))), Mul(Integer(4), Symbol(&#39;b&#39;), Symbol(&#39;c&#39;), Pow(Symbol(&#39;a&#39;), Integer(3))), Mul(Integer(2), Symbol(&#39;a&#39;), Symbol(&#39;b&#39;), Symbol(&#39;c&#39;), Pow(Symbol(&#39;d&#39;), Integer(2))), Mul(Integer(3), Symbol(&#39;b&#39;), Symbol(&#39;c&#39;), Symbol(&#39;d&#39;), Pow(Symbol(&#39;a&#39;), Integer(2))))_()&#45;&gt;Mul(Integer(3), Symbol(&#39;a&#39;), Pow(Symbol(&#39;b&#39;), Integer(2)), Pow(Symbol(&#39;c&#39;), Integer(2)))_(3,) -->\n",
       "<g id=\"edge4\" class=\"edge\">\n",
       "<title>Add(Pow(Symbol(&#39;a&#39;), Integer(5)), Mul(Symbol(&#39;b&#39;), Symbol(&#39;c&#39;), Pow(Symbol(&#39;d&#39;), Integer(3))), Mul(Integer(2), Symbol(&#39;d&#39;), Pow(Symbol(&#39;b&#39;), Integer(2)), Pow(Symbol(&#39;c&#39;), Integer(2))), Mul(Integer(3), Symbol(&#39;a&#39;), Pow(Symbol(&#39;b&#39;), Integer(2)), Pow(Symbol(&#39;c&#39;), Integer(2))), Mul(Integer(4), Symbol(&#39;b&#39;), Symbol(&#39;c&#39;), Pow(Symbol(&#39;a&#39;), Integer(3))), Mul(Integer(2), Symbol(&#39;a&#39;), Symbol(&#39;b&#39;), Symbol(&#39;c&#39;), Pow(Symbol(&#39;d&#39;), Integer(2))), Mul(Integer(3), Symbol(&#39;b&#39;), Symbol(&#39;c&#39;), Symbol(&#39;d&#39;), Pow(Symbol(&#39;a&#39;), Integer(2))))_()&#45;&gt;Mul(Integer(3), Symbol(&#39;a&#39;), Pow(Symbol(&#39;b&#39;), Integer(2)), Pow(Symbol(&#39;c&#39;), Integer(2)))_(3,)</title>\n",
       "<path fill=\"none\" stroke=\"black\" d=\"M784,-215.7C784,-208.41 784,-199.73 784,-191.54\"/>\n",
       "<polygon fill=\"black\" stroke=\"black\" points=\"787.5,-191.62 784,-181.62 780.5,-191.62 787.5,-191.62\"/>\n",
       "</g>\n",
       "<!-- Mul(Integer(4), Symbol(&#39;b&#39;), Symbol(&#39;c&#39;), Pow(Symbol(&#39;a&#39;), Integer(3)))_(4,) -->\n",
       "<g id=\"node29\" class=\"node\">\n",
       "<title>Mul(Integer(4), Symbol(&#39;b&#39;), Symbol(&#39;c&#39;), Pow(Symbol(&#39;a&#39;), Integer(3)))_(4,)</title>\n",
       "<ellipse fill=\"none\" stroke=\"black\" cx=\"1037\" cy=\"-162\" rx=\"27\" ry=\"18\"/>\n",
       "<text text-anchor=\"middle\" x=\"1037\" y=\"-158.3\" font-family=\"Times New Roman,serif\" font-size=\"14.00\">Mul</text>\n",
       "</g>\n",
       "<!-- Add(Pow(Symbol(&#39;a&#39;), Integer(5)), Mul(Symbol(&#39;b&#39;), Symbol(&#39;c&#39;), Pow(Symbol(&#39;d&#39;), Integer(3))), Mul(Integer(2), Symbol(&#39;d&#39;), Pow(Symbol(&#39;b&#39;), Integer(2)), Pow(Symbol(&#39;c&#39;), Integer(2))), Mul(Integer(3), Symbol(&#39;a&#39;), Pow(Symbol(&#39;b&#39;), Integer(2)), Pow(Symbol(&#39;c&#39;), Integer(2))), Mul(Integer(4), Symbol(&#39;b&#39;), Symbol(&#39;c&#39;), Pow(Symbol(&#39;a&#39;), Integer(3))), Mul(Integer(2), Symbol(&#39;a&#39;), Symbol(&#39;b&#39;), Symbol(&#39;c&#39;), Pow(Symbol(&#39;d&#39;), Integer(2))), Mul(Integer(3), Symbol(&#39;b&#39;), Symbol(&#39;c&#39;), Symbol(&#39;d&#39;), Pow(Symbol(&#39;a&#39;), Integer(2))))_()&#45;&gt;Mul(Integer(4), Symbol(&#39;b&#39;), Symbol(&#39;c&#39;), Pow(Symbol(&#39;a&#39;), Integer(3)))_(4,) -->\n",
       "<g id=\"edge5\" class=\"edge\">\n",
       "<title>Add(Pow(Symbol(&#39;a&#39;), Integer(5)), Mul(Symbol(&#39;b&#39;), Symbol(&#39;c&#39;), Pow(Symbol(&#39;d&#39;), Integer(3))), Mul(Integer(2), Symbol(&#39;d&#39;), Pow(Symbol(&#39;b&#39;), Integer(2)), Pow(Symbol(&#39;c&#39;), Integer(2))), Mul(Integer(3), Symbol(&#39;a&#39;), Pow(Symbol(&#39;b&#39;), Integer(2)), Pow(Symbol(&#39;c&#39;), Integer(2))), Mul(Integer(4), Symbol(&#39;b&#39;), Symbol(&#39;c&#39;), Pow(Symbol(&#39;a&#39;), Integer(3))), Mul(Integer(2), Symbol(&#39;a&#39;), Symbol(&#39;b&#39;), Symbol(&#39;c&#39;), Pow(Symbol(&#39;d&#39;), Integer(2))), Mul(Integer(3), Symbol(&#39;b&#39;), Symbol(&#39;c&#39;), Symbol(&#39;d&#39;), Pow(Symbol(&#39;a&#39;), Integer(2))))_()&#45;&gt;Mul(Integer(4), Symbol(&#39;b&#39;), Symbol(&#39;c&#39;), Pow(Symbol(&#39;a&#39;), Integer(3)))_(4,)</title>\n",
       "<path fill=\"none\" stroke=\"black\" d=\"M808.72,-226.16C853.69,-213.72 949.02,-187.34 1001.14,-172.92\"/>\n",
       "<polygon fill=\"black\" stroke=\"black\" points=\"1002.02,-176.31 1010.72,-170.27 1000.15,-169.56 1002.02,-176.31\"/>\n",
       "</g>\n",
       "<!-- Mul(Integer(2), Symbol(&#39;a&#39;), Symbol(&#39;b&#39;), Symbol(&#39;c&#39;), Pow(Symbol(&#39;d&#39;), Integer(2)))_(5,) -->\n",
       "<g id=\"node36\" class=\"node\">\n",
       "<title>Mul(Integer(2), Symbol(&#39;a&#39;), Symbol(&#39;b&#39;), Symbol(&#39;c&#39;), Pow(Symbol(&#39;d&#39;), Integer(2)))_(5,)</title>\n",
       "<ellipse fill=\"none\" stroke=\"black\" cx=\"1361\" cy=\"-162\" rx=\"27\" ry=\"18\"/>\n",
       "<text text-anchor=\"middle\" x=\"1361\" y=\"-158.3\" font-family=\"Times New Roman,serif\" font-size=\"14.00\">Mul</text>\n",
       "</g>\n",
       "<!-- Add(Pow(Symbol(&#39;a&#39;), Integer(5)), Mul(Symbol(&#39;b&#39;), Symbol(&#39;c&#39;), Pow(Symbol(&#39;d&#39;), Integer(3))), Mul(Integer(2), Symbol(&#39;d&#39;), Pow(Symbol(&#39;b&#39;), Integer(2)), Pow(Symbol(&#39;c&#39;), Integer(2))), Mul(Integer(3), Symbol(&#39;a&#39;), Pow(Symbol(&#39;b&#39;), Integer(2)), Pow(Symbol(&#39;c&#39;), Integer(2))), Mul(Integer(4), Symbol(&#39;b&#39;), Symbol(&#39;c&#39;), Pow(Symbol(&#39;a&#39;), Integer(3))), Mul(Integer(2), Symbol(&#39;a&#39;), Symbol(&#39;b&#39;), Symbol(&#39;c&#39;), Pow(Symbol(&#39;d&#39;), Integer(2))), Mul(Integer(3), Symbol(&#39;b&#39;), Symbol(&#39;c&#39;), Symbol(&#39;d&#39;), Pow(Symbol(&#39;a&#39;), Integer(2))))_()&#45;&gt;Mul(Integer(2), Symbol(&#39;a&#39;), Symbol(&#39;b&#39;), Symbol(&#39;c&#39;), Pow(Symbol(&#39;d&#39;), Integer(2)))_(5,) -->\n",
       "<g id=\"edge6\" class=\"edge\">\n",
       "<title>Add(Pow(Symbol(&#39;a&#39;), Integer(5)), Mul(Symbol(&#39;b&#39;), Symbol(&#39;c&#39;), Pow(Symbol(&#39;d&#39;), Integer(3))), Mul(Integer(2), Symbol(&#39;d&#39;), Pow(Symbol(&#39;b&#39;), Integer(2)), Pow(Symbol(&#39;c&#39;), Integer(2))), Mul(Integer(3), Symbol(&#39;a&#39;), Pow(Symbol(&#39;b&#39;), Integer(2)), Pow(Symbol(&#39;c&#39;), Integer(2))), Mul(Integer(4), Symbol(&#39;b&#39;), Symbol(&#39;c&#39;), Pow(Symbol(&#39;a&#39;), Integer(3))), Mul(Integer(2), Symbol(&#39;a&#39;), Symbol(&#39;b&#39;), Symbol(&#39;c&#39;), Pow(Symbol(&#39;d&#39;), Integer(2))), Mul(Integer(3), Symbol(&#39;b&#39;), Symbol(&#39;c&#39;), Symbol(&#39;d&#39;), Pow(Symbol(&#39;a&#39;), Integer(2))))_()&#45;&gt;Mul(Integer(2), Symbol(&#39;a&#39;), Symbol(&#39;b&#39;), Symbol(&#39;c&#39;), Pow(Symbol(&#39;d&#39;), Integer(2)))_(5,)</title>\n",
       "<path fill=\"none\" stroke=\"black\" d=\"M810.67,-229.76C903.71,-218.48 1214.1,-180.82 1322.91,-167.62\"/>\n",
       "<polygon fill=\"black\" stroke=\"black\" points=\"1323.27,-171.1 1332.78,-166.42 1322.43,-164.15 1323.27,-171.1\"/>\n",
       "</g>\n",
       "<!-- Mul(Integer(3), Symbol(&#39;b&#39;), Symbol(&#39;c&#39;), Symbol(&#39;d&#39;), Pow(Symbol(&#39;a&#39;), Integer(2)))_(6,) -->\n",
       "<g id=\"node44\" class=\"node\">\n",
       "<title>Mul(Integer(3), Symbol(&#39;b&#39;), Symbol(&#39;c&#39;), Symbol(&#39;d&#39;), Pow(Symbol(&#39;a&#39;), Integer(2)))_(6,)</title>\n",
       "<ellipse fill=\"none\" stroke=\"black\" cx=\"1721\" cy=\"-162\" rx=\"27\" ry=\"18\"/>\n",
       "<text text-anchor=\"middle\" x=\"1721\" y=\"-158.3\" font-family=\"Times New Roman,serif\" font-size=\"14.00\">Mul</text>\n",
       "</g>\n",
       "<!-- Add(Pow(Symbol(&#39;a&#39;), Integer(5)), Mul(Symbol(&#39;b&#39;), Symbol(&#39;c&#39;), Pow(Symbol(&#39;d&#39;), Integer(3))), Mul(Integer(2), Symbol(&#39;d&#39;), Pow(Symbol(&#39;b&#39;), Integer(2)), Pow(Symbol(&#39;c&#39;), Integer(2))), Mul(Integer(3), Symbol(&#39;a&#39;), Pow(Symbol(&#39;b&#39;), Integer(2)), Pow(Symbol(&#39;c&#39;), Integer(2))), Mul(Integer(4), Symbol(&#39;b&#39;), Symbol(&#39;c&#39;), Pow(Symbol(&#39;a&#39;), Integer(3))), Mul(Integer(2), Symbol(&#39;a&#39;), Symbol(&#39;b&#39;), Symbol(&#39;c&#39;), Pow(Symbol(&#39;d&#39;), Integer(2))), Mul(Integer(3), Symbol(&#39;b&#39;), Symbol(&#39;c&#39;), Symbol(&#39;d&#39;), Pow(Symbol(&#39;a&#39;), Integer(2))))_()&#45;&gt;Mul(Integer(3), Symbol(&#39;b&#39;), Symbol(&#39;c&#39;), Symbol(&#39;d&#39;), Pow(Symbol(&#39;a&#39;), Integer(2)))_(6,) -->\n",
       "<g id=\"edge7\" class=\"edge\">\n",
       "<title>Add(Pow(Symbol(&#39;a&#39;), Integer(5)), Mul(Symbol(&#39;b&#39;), Symbol(&#39;c&#39;), Pow(Symbol(&#39;d&#39;), Integer(3))), Mul(Integer(2), Symbol(&#39;d&#39;), Pow(Symbol(&#39;b&#39;), Integer(2)), Pow(Symbol(&#39;c&#39;), Integer(2))), Mul(Integer(3), Symbol(&#39;a&#39;), Pow(Symbol(&#39;b&#39;), Integer(2)), Pow(Symbol(&#39;c&#39;), Integer(2))), Mul(Integer(4), Symbol(&#39;b&#39;), Symbol(&#39;c&#39;), Pow(Symbol(&#39;a&#39;), Integer(3))), Mul(Integer(2), Symbol(&#39;a&#39;), Symbol(&#39;b&#39;), Symbol(&#39;c&#39;), Pow(Symbol(&#39;d&#39;), Integer(2))), Mul(Integer(3), Symbol(&#39;b&#39;), Symbol(&#39;c&#39;), Symbol(&#39;d&#39;), Pow(Symbol(&#39;a&#39;), Integer(2))))_()&#45;&gt;Mul(Integer(3), Symbol(&#39;b&#39;), Symbol(&#39;c&#39;), Symbol(&#39;d&#39;), Pow(Symbol(&#39;a&#39;), Integer(2)))_(6,)</title>\n",
       "<path fill=\"none\" stroke=\"black\" d=\"M811.03,-230.98C943.95,-221.05 1527.98,-177.42 1683.08,-165.83\"/>\n",
       "<polygon fill=\"black\" stroke=\"black\" points=\"1683.09,-169.34 1692.8,-165.11 1682.57,-162.36 1683.09,-169.34\"/>\n",
       "</g>\n",
       "<!-- Symbol(&#39;a&#39;)_(0, 0) -->\n",
       "<g id=\"node3\" class=\"node\">\n",
       "<title>Symbol(&#39;a&#39;)_(0, 0)</title>\n",
       "<ellipse fill=\"none\" stroke=\"black\" cx=\"27\" cy=\"-90\" rx=\"27\" ry=\"18\"/>\n",
       "<text text-anchor=\"middle\" x=\"27\" y=\"-86.3\" font-family=\"Times New Roman,serif\" font-size=\"14.00\">a</text>\n",
       "</g>\n",
       "<!-- Pow(Symbol(&#39;a&#39;), Integer(5))_(0,)&#45;&gt;Symbol(&#39;a&#39;)_(0, 0) -->\n",
       "<g id=\"edge8\" class=\"edge\">\n",
       "<title>Pow(Symbol(&#39;a&#39;), Integer(5))_(0,)&#45;&gt;Symbol(&#39;a&#39;)_(0, 0)</title>\n",
       "<path fill=\"none\" stroke=\"black\" d=\"M84.08,-146.5C74.23,-136.92 61.14,-124.19 49.97,-113.34\"/>\n",
       "<polygon fill=\"black\" stroke=\"black\" points=\"52.59,-111 42.98,-106.54 47.71,-116.02 52.59,-111\"/>\n",
       "</g>\n",
       "<!-- Integer(5)_(0, 1) -->\n",
       "<g id=\"node4\" class=\"node\">\n",
       "<title>Integer(5)_(0, 1)</title>\n",
       "<ellipse fill=\"none\" stroke=\"black\" cx=\"99\" cy=\"-90\" rx=\"27\" ry=\"18\"/>\n",
       "<text text-anchor=\"middle\" x=\"99\" y=\"-86.3\" font-family=\"Times New Roman,serif\" font-size=\"14.00\">5</text>\n",
       "</g>\n",
       "<!-- Pow(Symbol(&#39;a&#39;), Integer(5))_(0,)&#45;&gt;Integer(5)_(0, 1) -->\n",
       "<g id=\"edge9\" class=\"edge\">\n",
       "<title>Pow(Symbol(&#39;a&#39;), Integer(5))_(0,)&#45;&gt;Integer(5)_(0, 1)</title>\n",
       "<path fill=\"none\" stroke=\"black\" d=\"M99,-143.7C99,-136.41 99,-127.73 99,-119.54\"/>\n",
       "<polygon fill=\"black\" stroke=\"black\" points=\"102.5,-119.62 99,-109.62 95.5,-119.62 102.5,-119.62\"/>\n",
       "</g>\n",
       "<!-- Symbol(&#39;b&#39;)_(1, 0) -->\n",
       "<g id=\"node6\" class=\"node\">\n",
       "<title>Symbol(&#39;b&#39;)_(1, 0)</title>\n",
       "<ellipse fill=\"none\" stroke=\"black\" cx=\"171\" cy=\"-90\" rx=\"27\" ry=\"18\"/>\n",
       "<text text-anchor=\"middle\" x=\"171\" y=\"-86.3\" font-family=\"Times New Roman,serif\" font-size=\"14.00\">b</text>\n",
       "</g>\n",
       "<!-- Mul(Symbol(&#39;b&#39;), Symbol(&#39;c&#39;), Pow(Symbol(&#39;d&#39;), Integer(3)))_(1,)&#45;&gt;Symbol(&#39;b&#39;)_(1, 0) -->\n",
       "<g id=\"edge10\" class=\"edge\">\n",
       "<title>Mul(Symbol(&#39;b&#39;), Symbol(&#39;c&#39;), Pow(Symbol(&#39;d&#39;), Integer(3)))_(1,)&#45;&gt;Symbol(&#39;b&#39;)_(1, 0)</title>\n",
       "<path fill=\"none\" stroke=\"black\" d=\"M260.19,-148.81C243.41,-137.93 218.61,-121.86 199.41,-109.42\"/>\n",
       "<polygon fill=\"black\" stroke=\"black\" points=\"201.52,-106.61 191.23,-104.11 197.72,-112.49 201.52,-106.61\"/>\n",
       "</g>\n",
       "<!-- Symbol(&#39;c&#39;)_(1, 1) -->\n",
       "<g id=\"node7\" class=\"node\">\n",
       "<title>Symbol(&#39;c&#39;)_(1, 1)</title>\n",
       "<ellipse fill=\"none\" stroke=\"black\" cx=\"243\" cy=\"-90\" rx=\"27\" ry=\"18\"/>\n",
       "<text text-anchor=\"middle\" x=\"243\" y=\"-86.3\" font-family=\"Times New Roman,serif\" font-size=\"14.00\">c</text>\n",
       "</g>\n",
       "<!-- Mul(Symbol(&#39;b&#39;), Symbol(&#39;c&#39;), Pow(Symbol(&#39;d&#39;), Integer(3)))_(1,)&#45;&gt;Symbol(&#39;c&#39;)_(1, 1) -->\n",
       "<g id=\"edge11\" class=\"edge\">\n",
       "<title>Mul(Symbol(&#39;b&#39;), Symbol(&#39;c&#39;), Pow(Symbol(&#39;d&#39;), Integer(3)))_(1,)&#45;&gt;Symbol(&#39;c&#39;)_(1, 1)</title>\n",
       "<path fill=\"none\" stroke=\"black\" d=\"M270.65,-144.76C266.42,-136.55 261.19,-126.37 256.42,-117.09\"/>\n",
       "<polygon fill=\"black\" stroke=\"black\" points=\"259.68,-115.79 252,-108.49 253.46,-118.99 259.68,-115.79\"/>\n",
       "</g>\n",
       "<!-- Pow(Symbol(&#39;d&#39;), Integer(3))_(1, 2) -->\n",
       "<g id=\"node8\" class=\"node\">\n",
       "<title>Pow(Symbol(&#39;d&#39;), Integer(3))_(1, 2)</title>\n",
       "<ellipse fill=\"none\" stroke=\"black\" cx=\"315\" cy=\"-90\" rx=\"27.1\" ry=\"18\"/>\n",
       "<text text-anchor=\"middle\" x=\"315\" y=\"-86.3\" font-family=\"Times New Roman,serif\" font-size=\"14.00\">Pow</text>\n",
       "</g>\n",
       "<!-- Mul(Symbol(&#39;b&#39;), Symbol(&#39;c&#39;), Pow(Symbol(&#39;d&#39;), Integer(3)))_(1,)&#45;&gt;Pow(Symbol(&#39;d&#39;), Integer(3))_(1, 2) -->\n",
       "<g id=\"edge12\" class=\"edge\">\n",
       "<title>Mul(Symbol(&#39;b&#39;), Symbol(&#39;c&#39;), Pow(Symbol(&#39;d&#39;), Integer(3)))_(1,)&#45;&gt;Pow(Symbol(&#39;d&#39;), Integer(3))_(1, 2)</title>\n",
       "<path fill=\"none\" stroke=\"black\" d=\"M287.35,-144.76C291.58,-136.55 296.81,-126.37 301.58,-117.09\"/>\n",
       "<polygon fill=\"black\" stroke=\"black\" points=\"304.54,-118.99 306,-108.49 298.32,-115.79 304.54,-118.99\"/>\n",
       "</g>\n",
       "<!-- Symbol(&#39;d&#39;)_(1, 2, 0) -->\n",
       "<g id=\"node9\" class=\"node\">\n",
       "<title>Symbol(&#39;d&#39;)_(1, 2, 0)</title>\n",
       "<ellipse fill=\"none\" stroke=\"black\" cx=\"279\" cy=\"-18\" rx=\"27\" ry=\"18\"/>\n",
       "<text text-anchor=\"middle\" x=\"279\" y=\"-14.3\" font-family=\"Times New Roman,serif\" font-size=\"14.00\">d</text>\n",
       "</g>\n",
       "<!-- Pow(Symbol(&#39;d&#39;), Integer(3))_(1, 2)&#45;&gt;Symbol(&#39;d&#39;)_(1, 2, 0) -->\n",
       "<g id=\"edge13\" class=\"edge\">\n",
       "<title>Pow(Symbol(&#39;d&#39;), Integer(3))_(1, 2)&#45;&gt;Symbol(&#39;d&#39;)_(1, 2, 0)</title>\n",
       "<path fill=\"none\" stroke=\"black\" d=\"M306.47,-72.41C302.34,-64.39 297.29,-54.57 292.65,-45.54\"/>\n",
       "<polygon fill=\"black\" stroke=\"black\" points=\"295.85,-44.11 288.16,-36.82 289.62,-47.31 295.85,-44.11\"/>\n",
       "</g>\n",
       "<!-- Integer(3)_(1, 2, 1) -->\n",
       "<g id=\"node10\" class=\"node\">\n",
       "<title>Integer(3)_(1, 2, 1)</title>\n",
       "<ellipse fill=\"none\" stroke=\"black\" cx=\"351\" cy=\"-18\" rx=\"27\" ry=\"18\"/>\n",
       "<text text-anchor=\"middle\" x=\"351\" y=\"-14.3\" font-family=\"Times New Roman,serif\" font-size=\"14.00\">3</text>\n",
       "</g>\n",
       "<!-- Pow(Symbol(&#39;d&#39;), Integer(3))_(1, 2)&#45;&gt;Integer(3)_(1, 2, 1) -->\n",
       "<g id=\"edge14\" class=\"edge\">\n",
       "<title>Pow(Symbol(&#39;d&#39;), Integer(3))_(1, 2)&#45;&gt;Integer(3)_(1, 2, 1)</title>\n",
       "<path fill=\"none\" stroke=\"black\" d=\"M323.53,-72.41C327.66,-64.39 332.71,-54.57 337.35,-45.54\"/>\n",
       "<polygon fill=\"black\" stroke=\"black\" points=\"340.38,-47.31 341.84,-36.82 334.15,-44.11 340.38,-47.31\"/>\n",
       "</g>\n",
       "<!-- Integer(2)_(2, 0) -->\n",
       "<g id=\"node12\" class=\"node\">\n",
       "<title>Integer(2)_(2, 0)</title>\n",
       "<ellipse fill=\"none\" stroke=\"black\" cx=\"387\" cy=\"-90\" rx=\"27\" ry=\"18\"/>\n",
       "<text text-anchor=\"middle\" x=\"387\" y=\"-86.3\" font-family=\"Times New Roman,serif\" font-size=\"14.00\">2</text>\n",
       "</g>\n",
       "<!-- Mul(Integer(2), Symbol(&#39;d&#39;), Pow(Symbol(&#39;b&#39;), Integer(2)), Pow(Symbol(&#39;c&#39;), Integer(2)))_(2,)&#45;&gt;Integer(2)_(2, 0) -->\n",
       "<g id=\"edge15\" class=\"edge\">\n",
       "<title>Mul(Integer(2), Symbol(&#39;d&#39;), Pow(Symbol(&#39;b&#39;), Integer(2)), Pow(Symbol(&#39;c&#39;), Integer(2)))_(2,)&#45;&gt;Integer(2)_(2, 0)</title>\n",
       "<path fill=\"none\" stroke=\"black\" d=\"M509.44,-150.52C485.34,-138.8 446.08,-119.72 418.53,-106.32\"/>\n",
       "<polygon fill=\"black\" stroke=\"black\" points=\"420.12,-103.21 409.6,-101.98 417.06,-109.5 420.12,-103.21\"/>\n",
       "</g>\n",
       "<!-- Symbol(&#39;d&#39;)_(2, 1) -->\n",
       "<g id=\"node13\" class=\"node\">\n",
       "<title>Symbol(&#39;d&#39;)_(2, 1)</title>\n",
       "<ellipse fill=\"none\" stroke=\"black\" cx=\"459\" cy=\"-90\" rx=\"27\" ry=\"18\"/>\n",
       "<text text-anchor=\"middle\" x=\"459\" y=\"-86.3\" font-family=\"Times New Roman,serif\" font-size=\"14.00\">d</text>\n",
       "</g>\n",
       "<!-- Mul(Integer(2), Symbol(&#39;d&#39;), Pow(Symbol(&#39;b&#39;), Integer(2)), Pow(Symbol(&#39;c&#39;), Integer(2)))_(2,)&#45;&gt;Symbol(&#39;d&#39;)_(2, 1) -->\n",
       "<g id=\"edge16\" class=\"edge\">\n",
       "<title>Mul(Integer(2), Symbol(&#39;d&#39;), Pow(Symbol(&#39;b&#39;), Integer(2)), Pow(Symbol(&#39;c&#39;), Integer(2)))_(2,)&#45;&gt;Symbol(&#39;d&#39;)_(2, 1)</title>\n",
       "<path fill=\"none\" stroke=\"black\" d=\"M516.08,-146.5C506.23,-136.92 493.14,-124.19 481.97,-113.34\"/>\n",
       "<polygon fill=\"black\" stroke=\"black\" points=\"484.59,-111 474.98,-106.54 479.71,-116.02 484.59,-111\"/>\n",
       "</g>\n",
       "<!-- Pow(Symbol(&#39;b&#39;), Integer(2))_(2, 2) -->\n",
       "<g id=\"node14\" class=\"node\">\n",
       "<title>Pow(Symbol(&#39;b&#39;), Integer(2))_(2, 2)</title>\n",
       "<ellipse fill=\"none\" stroke=\"black\" cx=\"531\" cy=\"-90\" rx=\"27.1\" ry=\"18\"/>\n",
       "<text text-anchor=\"middle\" x=\"531\" y=\"-86.3\" font-family=\"Times New Roman,serif\" font-size=\"14.00\">Pow</text>\n",
       "</g>\n",
       "<!-- Mul(Integer(2), Symbol(&#39;d&#39;), Pow(Symbol(&#39;b&#39;), Integer(2)), Pow(Symbol(&#39;c&#39;), Integer(2)))_(2,)&#45;&gt;Pow(Symbol(&#39;b&#39;), Integer(2))_(2, 2) -->\n",
       "<g id=\"edge17\" class=\"edge\">\n",
       "<title>Mul(Integer(2), Symbol(&#39;d&#39;), Pow(Symbol(&#39;b&#39;), Integer(2)), Pow(Symbol(&#39;c&#39;), Integer(2)))_(2,)&#45;&gt;Pow(Symbol(&#39;b&#39;), Integer(2))_(2, 2)</title>\n",
       "<path fill=\"none\" stroke=\"black\" d=\"M531,-143.7C531,-136.41 531,-127.73 531,-119.54\"/>\n",
       "<polygon fill=\"black\" stroke=\"black\" points=\"534.5,-119.62 531,-109.62 527.5,-119.62 534.5,-119.62\"/>\n",
       "</g>\n",
       "<!-- Pow(Symbol(&#39;c&#39;), Integer(2))_(2, 3) -->\n",
       "<g id=\"node17\" class=\"node\">\n",
       "<title>Pow(Symbol(&#39;c&#39;), Integer(2))_(2, 3)</title>\n",
       "<ellipse fill=\"none\" stroke=\"black\" cx=\"604\" cy=\"-90\" rx=\"27.1\" ry=\"18\"/>\n",
       "<text text-anchor=\"middle\" x=\"604\" y=\"-86.3\" font-family=\"Times New Roman,serif\" font-size=\"14.00\">Pow</text>\n",
       "</g>\n",
       "<!-- Mul(Integer(2), Symbol(&#39;d&#39;), Pow(Symbol(&#39;b&#39;), Integer(2)), Pow(Symbol(&#39;c&#39;), Integer(2)))_(2,)&#45;&gt;Pow(Symbol(&#39;c&#39;), Integer(2))_(2, 3) -->\n",
       "<g id=\"edge18\" class=\"edge\">\n",
       "<title>Mul(Integer(2), Symbol(&#39;d&#39;), Pow(Symbol(&#39;b&#39;), Integer(2)), Pow(Symbol(&#39;c&#39;), Integer(2)))_(2,)&#45;&gt;Pow(Symbol(&#39;c&#39;), Integer(2))_(2, 3)</title>\n",
       "<path fill=\"none\" stroke=\"black\" d=\"M545.77,-146.83C555.8,-137.22 569.26,-124.31 580.72,-113.32\"/>\n",
       "<polygon fill=\"black\" stroke=\"black\" points=\"583.11,-115.88 587.91,-106.43 578.27,-110.83 583.11,-115.88\"/>\n",
       "</g>\n",
       "<!-- Symbol(&#39;b&#39;)_(2, 2, 0) -->\n",
       "<g id=\"node15\" class=\"node\">\n",
       "<title>Symbol(&#39;b&#39;)_(2, 2, 0)</title>\n",
       "<ellipse fill=\"none\" stroke=\"black\" cx=\"459\" cy=\"-18\" rx=\"27\" ry=\"18\"/>\n",
       "<text text-anchor=\"middle\" x=\"459\" y=\"-14.3\" font-family=\"Times New Roman,serif\" font-size=\"14.00\">b</text>\n",
       "</g>\n",
       "<!-- Pow(Symbol(&#39;b&#39;), Integer(2))_(2, 2)&#45;&gt;Symbol(&#39;b&#39;)_(2, 2, 0) -->\n",
       "<g id=\"edge19\" class=\"edge\">\n",
       "<title>Pow(Symbol(&#39;b&#39;), Integer(2))_(2, 2)&#45;&gt;Symbol(&#39;b&#39;)_(2, 2, 0)</title>\n",
       "<path fill=\"none\" stroke=\"black\" d=\"M516.08,-74.5C506.23,-64.92 493.14,-52.19 481.97,-41.34\"/>\n",
       "<polygon fill=\"black\" stroke=\"black\" points=\"484.59,-39 474.98,-34.54 479.71,-44.02 484.59,-39\"/>\n",
       "</g>\n",
       "<!-- Integer(2)_(2, 2, 1) -->\n",
       "<g id=\"node16\" class=\"node\">\n",
       "<title>Integer(2)_(2, 2, 1)</title>\n",
       "<ellipse fill=\"none\" stroke=\"black\" cx=\"531\" cy=\"-18\" rx=\"27\" ry=\"18\"/>\n",
       "<text text-anchor=\"middle\" x=\"531\" y=\"-14.3\" font-family=\"Times New Roman,serif\" font-size=\"14.00\">2</text>\n",
       "</g>\n",
       "<!-- Pow(Symbol(&#39;b&#39;), Integer(2))_(2, 2)&#45;&gt;Integer(2)_(2, 2, 1) -->\n",
       "<g id=\"edge20\" class=\"edge\">\n",
       "<title>Pow(Symbol(&#39;b&#39;), Integer(2))_(2, 2)&#45;&gt;Integer(2)_(2, 2, 1)</title>\n",
       "<path fill=\"none\" stroke=\"black\" d=\"M531,-71.7C531,-64.41 531,-55.73 531,-47.54\"/>\n",
       "<polygon fill=\"black\" stroke=\"black\" points=\"534.5,-47.62 531,-37.62 527.5,-47.62 534.5,-47.62\"/>\n",
       "</g>\n",
       "<!-- Symbol(&#39;c&#39;)_(2, 3, 0) -->\n",
       "<g id=\"node18\" class=\"node\">\n",
       "<title>Symbol(&#39;c&#39;)_(2, 3, 0)</title>\n",
       "<ellipse fill=\"none\" stroke=\"black\" cx=\"604\" cy=\"-18\" rx=\"27\" ry=\"18\"/>\n",
       "<text text-anchor=\"middle\" x=\"604\" y=\"-14.3\" font-family=\"Times New Roman,serif\" font-size=\"14.00\">c</text>\n",
       "</g>\n",
       "<!-- Pow(Symbol(&#39;c&#39;), Integer(2))_(2, 3)&#45;&gt;Symbol(&#39;c&#39;)_(2, 3, 0) -->\n",
       "<g id=\"edge21\" class=\"edge\">\n",
       "<title>Pow(Symbol(&#39;c&#39;), Integer(2))_(2, 3)&#45;&gt;Symbol(&#39;c&#39;)_(2, 3, 0)</title>\n",
       "<path fill=\"none\" stroke=\"black\" d=\"M604,-71.7C604,-64.41 604,-55.73 604,-47.54\"/>\n",
       "<polygon fill=\"black\" stroke=\"black\" points=\"607.5,-47.62 604,-37.62 600.5,-47.62 607.5,-47.62\"/>\n",
       "</g>\n",
       "<!-- Integer(2)_(2, 3, 1) -->\n",
       "<g id=\"node19\" class=\"node\">\n",
       "<title>Integer(2)_(2, 3, 1)</title>\n",
       "<ellipse fill=\"none\" stroke=\"black\" cx=\"676\" cy=\"-18\" rx=\"27\" ry=\"18\"/>\n",
       "<text text-anchor=\"middle\" x=\"676\" y=\"-14.3\" font-family=\"Times New Roman,serif\" font-size=\"14.00\">2</text>\n",
       "</g>\n",
       "<!-- Pow(Symbol(&#39;c&#39;), Integer(2))_(2, 3)&#45;&gt;Integer(2)_(2, 3, 1) -->\n",
       "<g id=\"edge22\" class=\"edge\">\n",
       "<title>Pow(Symbol(&#39;c&#39;), Integer(2))_(2, 3)&#45;&gt;Integer(2)_(2, 3, 1)</title>\n",
       "<path fill=\"none\" stroke=\"black\" d=\"M618.92,-74.5C628.77,-64.92 641.86,-52.19 653.03,-41.34\"/>\n",
       "<polygon fill=\"black\" stroke=\"black\" points=\"655.29,-44.02 660.02,-34.54 650.41,-39 655.29,-44.02\"/>\n",
       "</g>\n",
       "<!-- Integer(3)_(3, 0) -->\n",
       "<g id=\"node21\" class=\"node\">\n",
       "<title>Integer(3)_(3, 0)</title>\n",
       "<ellipse fill=\"none\" stroke=\"black\" cx=\"676\" cy=\"-90\" rx=\"27\" ry=\"18\"/>\n",
       "<text text-anchor=\"middle\" x=\"676\" y=\"-86.3\" font-family=\"Times New Roman,serif\" font-size=\"14.00\">3</text>\n",
       "</g>\n",
       "<!-- Mul(Integer(3), Symbol(&#39;a&#39;), Pow(Symbol(&#39;b&#39;), Integer(2)), Pow(Symbol(&#39;c&#39;), Integer(2)))_(3,)&#45;&gt;Integer(3)_(3, 0) -->\n",
       "<g id=\"edge23\" class=\"edge\">\n",
       "<title>Mul(Integer(3), Symbol(&#39;a&#39;), Pow(Symbol(&#39;b&#39;), Integer(2)), Pow(Symbol(&#39;c&#39;), Integer(2)))_(3,)&#45;&gt;Integer(3)_(3, 0)</title>\n",
       "<path fill=\"none\" stroke=\"black\" d=\"M765.19,-148.81C748.41,-137.93 723.61,-121.86 704.41,-109.42\"/>\n",
       "<polygon fill=\"black\" stroke=\"black\" points=\"706.52,-106.61 696.23,-104.11 702.72,-112.49 706.52,-106.61\"/>\n",
       "</g>\n",
       "<!-- Symbol(&#39;a&#39;)_(3, 1) -->\n",
       "<g id=\"node22\" class=\"node\">\n",
       "<title>Symbol(&#39;a&#39;)_(3, 1)</title>\n",
       "<ellipse fill=\"none\" stroke=\"black\" cx=\"748\" cy=\"-90\" rx=\"27\" ry=\"18\"/>\n",
       "<text text-anchor=\"middle\" x=\"748\" y=\"-86.3\" font-family=\"Times New Roman,serif\" font-size=\"14.00\">a</text>\n",
       "</g>\n",
       "<!-- Mul(Integer(3), Symbol(&#39;a&#39;), Pow(Symbol(&#39;b&#39;), Integer(2)), Pow(Symbol(&#39;c&#39;), Integer(2)))_(3,)&#45;&gt;Symbol(&#39;a&#39;)_(3, 1) -->\n",
       "<g id=\"edge24\" class=\"edge\">\n",
       "<title>Mul(Integer(3), Symbol(&#39;a&#39;), Pow(Symbol(&#39;b&#39;), Integer(2)), Pow(Symbol(&#39;c&#39;), Integer(2)))_(3,)&#45;&gt;Symbol(&#39;a&#39;)_(3, 1)</title>\n",
       "<path fill=\"none\" stroke=\"black\" d=\"M775.65,-144.76C771.42,-136.55 766.19,-126.37 761.42,-117.09\"/>\n",
       "<polygon fill=\"black\" stroke=\"black\" points=\"764.68,-115.79 757,-108.49 758.46,-118.99 764.68,-115.79\"/>\n",
       "</g>\n",
       "<!-- Pow(Symbol(&#39;b&#39;), Integer(2))_(3, 2) -->\n",
       "<g id=\"node23\" class=\"node\">\n",
       "<title>Pow(Symbol(&#39;b&#39;), Integer(2))_(3, 2)</title>\n",
       "<ellipse fill=\"none\" stroke=\"black\" cx=\"820\" cy=\"-90\" rx=\"27.1\" ry=\"18\"/>\n",
       "<text text-anchor=\"middle\" x=\"820\" y=\"-86.3\" font-family=\"Times New Roman,serif\" font-size=\"14.00\">Pow</text>\n",
       "</g>\n",
       "<!-- Mul(Integer(3), Symbol(&#39;a&#39;), Pow(Symbol(&#39;b&#39;), Integer(2)), Pow(Symbol(&#39;c&#39;), Integer(2)))_(3,)&#45;&gt;Pow(Symbol(&#39;b&#39;), Integer(2))_(3, 2) -->\n",
       "<g id=\"edge25\" class=\"edge\">\n",
       "<title>Mul(Integer(3), Symbol(&#39;a&#39;), Pow(Symbol(&#39;b&#39;), Integer(2)), Pow(Symbol(&#39;c&#39;), Integer(2)))_(3,)&#45;&gt;Pow(Symbol(&#39;b&#39;), Integer(2))_(3, 2)</title>\n",
       "<path fill=\"none\" stroke=\"black\" d=\"M792.35,-144.76C796.58,-136.55 801.81,-126.37 806.58,-117.09\"/>\n",
       "<polygon fill=\"black\" stroke=\"black\" points=\"809.54,-118.99 811,-108.49 803.32,-115.79 809.54,-118.99\"/>\n",
       "</g>\n",
       "<!-- Pow(Symbol(&#39;c&#39;), Integer(2))_(3, 3) -->\n",
       "<g id=\"node26\" class=\"node\">\n",
       "<title>Pow(Symbol(&#39;c&#39;), Integer(2))_(3, 3)</title>\n",
       "<ellipse fill=\"none\" stroke=\"black\" cx=\"893\" cy=\"-90\" rx=\"27.1\" ry=\"18\"/>\n",
       "<text text-anchor=\"middle\" x=\"893\" y=\"-86.3\" font-family=\"Times New Roman,serif\" font-size=\"14.00\">Pow</text>\n",
       "</g>\n",
       "<!-- Mul(Integer(3), Symbol(&#39;a&#39;), Pow(Symbol(&#39;b&#39;), Integer(2)), Pow(Symbol(&#39;c&#39;), Integer(2)))_(3,)&#45;&gt;Pow(Symbol(&#39;c&#39;), Integer(2))_(3, 3) -->\n",
       "<g id=\"edge26\" class=\"edge\">\n",
       "<title>Mul(Integer(3), Symbol(&#39;a&#39;), Pow(Symbol(&#39;b&#39;), Integer(2)), Pow(Symbol(&#39;c&#39;), Integer(2)))_(3,)&#45;&gt;Pow(Symbol(&#39;c&#39;), Integer(2))_(3, 3)</title>\n",
       "<path fill=\"none\" stroke=\"black\" d=\"M802.99,-148.81C819.92,-137.93 844.95,-121.86 864.32,-109.42\"/>\n",
       "<polygon fill=\"black\" stroke=\"black\" points=\"866.07,-112.45 872.59,-104.11 862.29,-106.56 866.07,-112.45\"/>\n",
       "</g>\n",
       "<!-- Symbol(&#39;b&#39;)_(3, 2, 0) -->\n",
       "<g id=\"node24\" class=\"node\">\n",
       "<title>Symbol(&#39;b&#39;)_(3, 2, 0)</title>\n",
       "<ellipse fill=\"none\" stroke=\"black\" cx=\"748\" cy=\"-18\" rx=\"27\" ry=\"18\"/>\n",
       "<text text-anchor=\"middle\" x=\"748\" y=\"-14.3\" font-family=\"Times New Roman,serif\" font-size=\"14.00\">b</text>\n",
       "</g>\n",
       "<!-- Pow(Symbol(&#39;b&#39;), Integer(2))_(3, 2)&#45;&gt;Symbol(&#39;b&#39;)_(3, 2, 0) -->\n",
       "<g id=\"edge27\" class=\"edge\">\n",
       "<title>Pow(Symbol(&#39;b&#39;), Integer(2))_(3, 2)&#45;&gt;Symbol(&#39;b&#39;)_(3, 2, 0)</title>\n",
       "<path fill=\"none\" stroke=\"black\" d=\"M805.08,-74.5C795.23,-64.92 782.14,-52.19 770.97,-41.34\"/>\n",
       "<polygon fill=\"black\" stroke=\"black\" points=\"773.59,-39 763.98,-34.54 768.71,-44.02 773.59,-39\"/>\n",
       "</g>\n",
       "<!-- Integer(2)_(3, 2, 1) -->\n",
       "<g id=\"node25\" class=\"node\">\n",
       "<title>Integer(2)_(3, 2, 1)</title>\n",
       "<ellipse fill=\"none\" stroke=\"black\" cx=\"820\" cy=\"-18\" rx=\"27\" ry=\"18\"/>\n",
       "<text text-anchor=\"middle\" x=\"820\" y=\"-14.3\" font-family=\"Times New Roman,serif\" font-size=\"14.00\">2</text>\n",
       "</g>\n",
       "<!-- Pow(Symbol(&#39;b&#39;), Integer(2))_(3, 2)&#45;&gt;Integer(2)_(3, 2, 1) -->\n",
       "<g id=\"edge28\" class=\"edge\">\n",
       "<title>Pow(Symbol(&#39;b&#39;), Integer(2))_(3, 2)&#45;&gt;Integer(2)_(3, 2, 1)</title>\n",
       "<path fill=\"none\" stroke=\"black\" d=\"M820,-71.7C820,-64.41 820,-55.73 820,-47.54\"/>\n",
       "<polygon fill=\"black\" stroke=\"black\" points=\"823.5,-47.62 820,-37.62 816.5,-47.62 823.5,-47.62\"/>\n",
       "</g>\n",
       "<!-- Symbol(&#39;c&#39;)_(3, 3, 0) -->\n",
       "<g id=\"node27\" class=\"node\">\n",
       "<title>Symbol(&#39;c&#39;)_(3, 3, 0)</title>\n",
       "<ellipse fill=\"none\" stroke=\"black\" cx=\"893\" cy=\"-18\" rx=\"27\" ry=\"18\"/>\n",
       "<text text-anchor=\"middle\" x=\"893\" y=\"-14.3\" font-family=\"Times New Roman,serif\" font-size=\"14.00\">c</text>\n",
       "</g>\n",
       "<!-- Pow(Symbol(&#39;c&#39;), Integer(2))_(3, 3)&#45;&gt;Symbol(&#39;c&#39;)_(3, 3, 0) -->\n",
       "<g id=\"edge29\" class=\"edge\">\n",
       "<title>Pow(Symbol(&#39;c&#39;), Integer(2))_(3, 3)&#45;&gt;Symbol(&#39;c&#39;)_(3, 3, 0)</title>\n",
       "<path fill=\"none\" stroke=\"black\" d=\"M893,-71.7C893,-64.41 893,-55.73 893,-47.54\"/>\n",
       "<polygon fill=\"black\" stroke=\"black\" points=\"896.5,-47.62 893,-37.62 889.5,-47.62 896.5,-47.62\"/>\n",
       "</g>\n",
       "<!-- Integer(2)_(3, 3, 1) -->\n",
       "<g id=\"node28\" class=\"node\">\n",
       "<title>Integer(2)_(3, 3, 1)</title>\n",
       "<ellipse fill=\"none\" stroke=\"black\" cx=\"965\" cy=\"-18\" rx=\"27\" ry=\"18\"/>\n",
       "<text text-anchor=\"middle\" x=\"965\" y=\"-14.3\" font-family=\"Times New Roman,serif\" font-size=\"14.00\">2</text>\n",
       "</g>\n",
       "<!-- Pow(Symbol(&#39;c&#39;), Integer(2))_(3, 3)&#45;&gt;Integer(2)_(3, 3, 1) -->\n",
       "<g id=\"edge30\" class=\"edge\">\n",
       "<title>Pow(Symbol(&#39;c&#39;), Integer(2))_(3, 3)&#45;&gt;Integer(2)_(3, 3, 1)</title>\n",
       "<path fill=\"none\" stroke=\"black\" d=\"M907.92,-74.5C917.77,-64.92 930.86,-52.19 942.03,-41.34\"/>\n",
       "<polygon fill=\"black\" stroke=\"black\" points=\"944.29,-44.02 949.02,-34.54 939.41,-39 944.29,-44.02\"/>\n",
       "</g>\n",
       "<!-- Integer(4)_(4, 0) -->\n",
       "<g id=\"node30\" class=\"node\">\n",
       "<title>Integer(4)_(4, 0)</title>\n",
       "<ellipse fill=\"none\" stroke=\"black\" cx=\"965\" cy=\"-90\" rx=\"27\" ry=\"18\"/>\n",
       "<text text-anchor=\"middle\" x=\"965\" y=\"-86.3\" font-family=\"Times New Roman,serif\" font-size=\"14.00\">4</text>\n",
       "</g>\n",
       "<!-- Mul(Integer(4), Symbol(&#39;b&#39;), Symbol(&#39;c&#39;), Pow(Symbol(&#39;a&#39;), Integer(3)))_(4,)&#45;&gt;Integer(4)_(4, 0) -->\n",
       "<g id=\"edge31\" class=\"edge\">\n",
       "<title>Mul(Integer(4), Symbol(&#39;b&#39;), Symbol(&#39;c&#39;), Pow(Symbol(&#39;a&#39;), Integer(3)))_(4,)&#45;&gt;Integer(4)_(4, 0)</title>\n",
       "<path fill=\"none\" stroke=\"black\" d=\"M1022.08,-146.5C1012.23,-136.92 999.14,-124.19 987.97,-113.34\"/>\n",
       "<polygon fill=\"black\" stroke=\"black\" points=\"990.59,-111 980.98,-106.54 985.71,-116.02 990.59,-111\"/>\n",
       "</g>\n",
       "<!-- Symbol(&#39;b&#39;)_(4, 1) -->\n",
       "<g id=\"node31\" class=\"node\">\n",
       "<title>Symbol(&#39;b&#39;)_(4, 1)</title>\n",
       "<ellipse fill=\"none\" stroke=\"black\" cx=\"1037\" cy=\"-90\" rx=\"27\" ry=\"18\"/>\n",
       "<text text-anchor=\"middle\" x=\"1037\" y=\"-86.3\" font-family=\"Times New Roman,serif\" font-size=\"14.00\">b</text>\n",
       "</g>\n",
       "<!-- Mul(Integer(4), Symbol(&#39;b&#39;), Symbol(&#39;c&#39;), Pow(Symbol(&#39;a&#39;), Integer(3)))_(4,)&#45;&gt;Symbol(&#39;b&#39;)_(4, 1) -->\n",
       "<g id=\"edge32\" class=\"edge\">\n",
       "<title>Mul(Integer(4), Symbol(&#39;b&#39;), Symbol(&#39;c&#39;), Pow(Symbol(&#39;a&#39;), Integer(3)))_(4,)&#45;&gt;Symbol(&#39;b&#39;)_(4, 1)</title>\n",
       "<path fill=\"none\" stroke=\"black\" d=\"M1037,-143.7C1037,-136.41 1037,-127.73 1037,-119.54\"/>\n",
       "<polygon fill=\"black\" stroke=\"black\" points=\"1040.5,-119.62 1037,-109.62 1033.5,-119.62 1040.5,-119.62\"/>\n",
       "</g>\n",
       "<!-- Symbol(&#39;c&#39;)_(4, 2) -->\n",
       "<g id=\"node32\" class=\"node\">\n",
       "<title>Symbol(&#39;c&#39;)_(4, 2)</title>\n",
       "<ellipse fill=\"none\" stroke=\"black\" cx=\"1109\" cy=\"-90\" rx=\"27\" ry=\"18\"/>\n",
       "<text text-anchor=\"middle\" x=\"1109\" y=\"-86.3\" font-family=\"Times New Roman,serif\" font-size=\"14.00\">c</text>\n",
       "</g>\n",
       "<!-- Mul(Integer(4), Symbol(&#39;b&#39;), Symbol(&#39;c&#39;), Pow(Symbol(&#39;a&#39;), Integer(3)))_(4,)&#45;&gt;Symbol(&#39;c&#39;)_(4, 2) -->\n",
       "<g id=\"edge33\" class=\"edge\">\n",
       "<title>Mul(Integer(4), Symbol(&#39;b&#39;), Symbol(&#39;c&#39;), Pow(Symbol(&#39;a&#39;), Integer(3)))_(4,)&#45;&gt;Symbol(&#39;c&#39;)_(4, 2)</title>\n",
       "<path fill=\"none\" stroke=\"black\" d=\"M1051.92,-146.5C1061.77,-136.92 1074.86,-124.19 1086.03,-113.34\"/>\n",
       "<polygon fill=\"black\" stroke=\"black\" points=\"1088.29,-116.02 1093.02,-106.54 1083.41,-111 1088.29,-116.02\"/>\n",
       "</g>\n",
       "<!-- Pow(Symbol(&#39;a&#39;), Integer(3))_(4, 3) -->\n",
       "<g id=\"node33\" class=\"node\">\n",
       "<title>Pow(Symbol(&#39;a&#39;), Integer(3))_(4, 3)</title>\n",
       "<ellipse fill=\"none\" stroke=\"black\" cx=\"1181\" cy=\"-90\" rx=\"27.1\" ry=\"18\"/>\n",
       "<text text-anchor=\"middle\" x=\"1181\" y=\"-86.3\" font-family=\"Times New Roman,serif\" font-size=\"14.00\">Pow</text>\n",
       "</g>\n",
       "<!-- Mul(Integer(4), Symbol(&#39;b&#39;), Symbol(&#39;c&#39;), Pow(Symbol(&#39;a&#39;), Integer(3)))_(4,)&#45;&gt;Pow(Symbol(&#39;a&#39;), Integer(3))_(4, 3) -->\n",
       "<g id=\"edge34\" class=\"edge\">\n",
       "<title>Mul(Integer(4), Symbol(&#39;b&#39;), Symbol(&#39;c&#39;), Pow(Symbol(&#39;a&#39;), Integer(3)))_(4,)&#45;&gt;Pow(Symbol(&#39;a&#39;), Integer(3))_(4, 3)</title>\n",
       "<path fill=\"none\" stroke=\"black\" d=\"M1058.56,-150.52C1082.66,-138.8 1121.92,-119.72 1149.47,-106.32\"/>\n",
       "<polygon fill=\"black\" stroke=\"black\" points=\"1150.94,-109.5 1158.4,-101.98 1147.88,-103.21 1150.94,-109.5\"/>\n",
       "</g>\n",
       "<!-- Symbol(&#39;a&#39;)_(4, 3, 0) -->\n",
       "<g id=\"node34\" class=\"node\">\n",
       "<title>Symbol(&#39;a&#39;)_(4, 3, 0)</title>\n",
       "<ellipse fill=\"none\" stroke=\"black\" cx=\"1145\" cy=\"-18\" rx=\"27\" ry=\"18\"/>\n",
       "<text text-anchor=\"middle\" x=\"1145\" y=\"-14.3\" font-family=\"Times New Roman,serif\" font-size=\"14.00\">a</text>\n",
       "</g>\n",
       "<!-- Pow(Symbol(&#39;a&#39;), Integer(3))_(4, 3)&#45;&gt;Symbol(&#39;a&#39;)_(4, 3, 0) -->\n",
       "<g id=\"edge35\" class=\"edge\">\n",
       "<title>Pow(Symbol(&#39;a&#39;), Integer(3))_(4, 3)&#45;&gt;Symbol(&#39;a&#39;)_(4, 3, 0)</title>\n",
       "<path fill=\"none\" stroke=\"black\" d=\"M1172.47,-72.41C1168.34,-64.39 1163.29,-54.57 1158.65,-45.54\"/>\n",
       "<polygon fill=\"black\" stroke=\"black\" points=\"1161.85,-44.11 1154.16,-36.82 1155.62,-47.31 1161.85,-44.11\"/>\n",
       "</g>\n",
       "<!-- Integer(3)_(4, 3, 1) -->\n",
       "<g id=\"node35\" class=\"node\">\n",
       "<title>Integer(3)_(4, 3, 1)</title>\n",
       "<ellipse fill=\"none\" stroke=\"black\" cx=\"1217\" cy=\"-18\" rx=\"27\" ry=\"18\"/>\n",
       "<text text-anchor=\"middle\" x=\"1217\" y=\"-14.3\" font-family=\"Times New Roman,serif\" font-size=\"14.00\">3</text>\n",
       "</g>\n",
       "<!-- Pow(Symbol(&#39;a&#39;), Integer(3))_(4, 3)&#45;&gt;Integer(3)_(4, 3, 1) -->\n",
       "<g id=\"edge36\" class=\"edge\">\n",
       "<title>Pow(Symbol(&#39;a&#39;), Integer(3))_(4, 3)&#45;&gt;Integer(3)_(4, 3, 1)</title>\n",
       "<path fill=\"none\" stroke=\"black\" d=\"M1189.53,-72.41C1193.66,-64.39 1198.71,-54.57 1203.35,-45.54\"/>\n",
       "<polygon fill=\"black\" stroke=\"black\" points=\"1206.38,-47.31 1207.84,-36.82 1200.15,-44.11 1206.38,-47.31\"/>\n",
       "</g>\n",
       "<!-- Integer(2)_(5, 0) -->\n",
       "<g id=\"node37\" class=\"node\">\n",
       "<title>Integer(2)_(5, 0)</title>\n",
       "<ellipse fill=\"none\" stroke=\"black\" cx=\"1253\" cy=\"-90\" rx=\"27\" ry=\"18\"/>\n",
       "<text text-anchor=\"middle\" x=\"1253\" y=\"-86.3\" font-family=\"Times New Roman,serif\" font-size=\"14.00\">2</text>\n",
       "</g>\n",
       "<!-- Mul(Integer(2), Symbol(&#39;a&#39;), Symbol(&#39;b&#39;), Symbol(&#39;c&#39;), Pow(Symbol(&#39;d&#39;), Integer(2)))_(5,)&#45;&gt;Integer(2)_(5, 0) -->\n",
       "<g id=\"edge37\" class=\"edge\">\n",
       "<title>Mul(Integer(2), Symbol(&#39;a&#39;), Symbol(&#39;b&#39;), Symbol(&#39;c&#39;), Pow(Symbol(&#39;d&#39;), Integer(2)))_(5,)&#45;&gt;Integer(2)_(5, 0)</title>\n",
       "<path fill=\"none\" stroke=\"black\" d=\"M1342.19,-148.81C1325.41,-137.93 1300.61,-121.86 1281.41,-109.42\"/>\n",
       "<polygon fill=\"black\" stroke=\"black\" points=\"1283.52,-106.61 1273.23,-104.11 1279.72,-112.49 1283.52,-106.61\"/>\n",
       "</g>\n",
       "<!-- Symbol(&#39;a&#39;)_(5, 1) -->\n",
       "<g id=\"node38\" class=\"node\">\n",
       "<title>Symbol(&#39;a&#39;)_(5, 1)</title>\n",
       "<ellipse fill=\"none\" stroke=\"black\" cx=\"1325\" cy=\"-90\" rx=\"27\" ry=\"18\"/>\n",
       "<text text-anchor=\"middle\" x=\"1325\" y=\"-86.3\" font-family=\"Times New Roman,serif\" font-size=\"14.00\">a</text>\n",
       "</g>\n",
       "<!-- Mul(Integer(2), Symbol(&#39;a&#39;), Symbol(&#39;b&#39;), Symbol(&#39;c&#39;), Pow(Symbol(&#39;d&#39;), Integer(2)))_(5,)&#45;&gt;Symbol(&#39;a&#39;)_(5, 1) -->\n",
       "<g id=\"edge38\" class=\"edge\">\n",
       "<title>Mul(Integer(2), Symbol(&#39;a&#39;), Symbol(&#39;b&#39;), Symbol(&#39;c&#39;), Pow(Symbol(&#39;d&#39;), Integer(2)))_(5,)&#45;&gt;Symbol(&#39;a&#39;)_(5, 1)</title>\n",
       "<path fill=\"none\" stroke=\"black\" d=\"M1352.65,-144.76C1348.42,-136.55 1343.19,-126.37 1338.42,-117.09\"/>\n",
       "<polygon fill=\"black\" stroke=\"black\" points=\"1341.68,-115.79 1334,-108.49 1335.46,-118.99 1341.68,-115.79\"/>\n",
       "</g>\n",
       "<!-- Symbol(&#39;b&#39;)_(5, 2) -->\n",
       "<g id=\"node39\" class=\"node\">\n",
       "<title>Symbol(&#39;b&#39;)_(5, 2)</title>\n",
       "<ellipse fill=\"none\" stroke=\"black\" cx=\"1397\" cy=\"-90\" rx=\"27\" ry=\"18\"/>\n",
       "<text text-anchor=\"middle\" x=\"1397\" y=\"-86.3\" font-family=\"Times New Roman,serif\" font-size=\"14.00\">b</text>\n",
       "</g>\n",
       "<!-- Mul(Integer(2), Symbol(&#39;a&#39;), Symbol(&#39;b&#39;), Symbol(&#39;c&#39;), Pow(Symbol(&#39;d&#39;), Integer(2)))_(5,)&#45;&gt;Symbol(&#39;b&#39;)_(5, 2) -->\n",
       "<g id=\"edge39\" class=\"edge\">\n",
       "<title>Mul(Integer(2), Symbol(&#39;a&#39;), Symbol(&#39;b&#39;), Symbol(&#39;c&#39;), Pow(Symbol(&#39;d&#39;), Integer(2)))_(5,)&#45;&gt;Symbol(&#39;b&#39;)_(5, 2)</title>\n",
       "<path fill=\"none\" stroke=\"black\" d=\"M1369.35,-144.76C1373.58,-136.55 1378.81,-126.37 1383.58,-117.09\"/>\n",
       "<polygon fill=\"black\" stroke=\"black\" points=\"1386.54,-118.99 1388,-108.49 1380.32,-115.79 1386.54,-118.99\"/>\n",
       "</g>\n",
       "<!-- Symbol(&#39;c&#39;)_(5, 3) -->\n",
       "<g id=\"node40\" class=\"node\">\n",
       "<title>Symbol(&#39;c&#39;)_(5, 3)</title>\n",
       "<ellipse fill=\"none\" stroke=\"black\" cx=\"1469\" cy=\"-90\" rx=\"27\" ry=\"18\"/>\n",
       "<text text-anchor=\"middle\" x=\"1469\" y=\"-86.3\" font-family=\"Times New Roman,serif\" font-size=\"14.00\">c</text>\n",
       "</g>\n",
       "<!-- Mul(Integer(2), Symbol(&#39;a&#39;), Symbol(&#39;b&#39;), Symbol(&#39;c&#39;), Pow(Symbol(&#39;d&#39;), Integer(2)))_(5,)&#45;&gt;Symbol(&#39;c&#39;)_(5, 3) -->\n",
       "<g id=\"edge40\" class=\"edge\">\n",
       "<title>Mul(Integer(2), Symbol(&#39;a&#39;), Symbol(&#39;b&#39;), Symbol(&#39;c&#39;), Pow(Symbol(&#39;d&#39;), Integer(2)))_(5,)&#45;&gt;Symbol(&#39;c&#39;)_(5, 3)</title>\n",
       "<path fill=\"none\" stroke=\"black\" d=\"M1379.81,-148.81C1396.59,-137.93 1421.39,-121.86 1440.59,-109.42\"/>\n",
       "<polygon fill=\"black\" stroke=\"black\" points=\"1442.28,-112.49 1448.77,-104.11 1438.48,-106.61 1442.28,-112.49\"/>\n",
       "</g>\n",
       "<!-- Pow(Symbol(&#39;d&#39;), Integer(2))_(5, 4) -->\n",
       "<g id=\"node41\" class=\"node\">\n",
       "<title>Pow(Symbol(&#39;d&#39;), Integer(2))_(5, 4)</title>\n",
       "<ellipse fill=\"none\" stroke=\"black\" cx=\"1541\" cy=\"-90\" rx=\"27.1\" ry=\"18\"/>\n",
       "<text text-anchor=\"middle\" x=\"1541\" y=\"-86.3\" font-family=\"Times New Roman,serif\" font-size=\"14.00\">Pow</text>\n",
       "</g>\n",
       "<!-- Mul(Integer(2), Symbol(&#39;a&#39;), Symbol(&#39;b&#39;), Symbol(&#39;c&#39;), Pow(Symbol(&#39;d&#39;), Integer(2)))_(5,)&#45;&gt;Pow(Symbol(&#39;d&#39;), Integer(2))_(5, 4) -->\n",
       "<g id=\"edge41\" class=\"edge\">\n",
       "<title>Mul(Integer(2), Symbol(&#39;a&#39;), Symbol(&#39;b&#39;), Symbol(&#39;c&#39;), Pow(Symbol(&#39;d&#39;), Integer(2)))_(5,)&#45;&gt;Pow(Symbol(&#39;d&#39;), Integer(2))_(5, 4)</title>\n",
       "<path fill=\"none\" stroke=\"black\" d=\"M1384.95,-152.91C1413.73,-143.03 1463.36,-125.46 1505,-108 1506.51,-107.37 1508.06,-106.7 1509.61,-106.02\"/>\n",
       "<polygon fill=\"black\" stroke=\"black\" points=\"1510.79,-109.33 1518.44,-102.01 1507.89,-102.96 1510.79,-109.33\"/>\n",
       "</g>\n",
       "<!-- Symbol(&#39;d&#39;)_(5, 4, 0) -->\n",
       "<g id=\"node42\" class=\"node\">\n",
       "<title>Symbol(&#39;d&#39;)_(5, 4, 0)</title>\n",
       "<ellipse fill=\"none\" stroke=\"black\" cx=\"1505\" cy=\"-18\" rx=\"27\" ry=\"18\"/>\n",
       "<text text-anchor=\"middle\" x=\"1505\" y=\"-14.3\" font-family=\"Times New Roman,serif\" font-size=\"14.00\">d</text>\n",
       "</g>\n",
       "<!-- Pow(Symbol(&#39;d&#39;), Integer(2))_(5, 4)&#45;&gt;Symbol(&#39;d&#39;)_(5, 4, 0) -->\n",
       "<g id=\"edge42\" class=\"edge\">\n",
       "<title>Pow(Symbol(&#39;d&#39;), Integer(2))_(5, 4)&#45;&gt;Symbol(&#39;d&#39;)_(5, 4, 0)</title>\n",
       "<path fill=\"none\" stroke=\"black\" d=\"M1532.47,-72.41C1528.34,-64.39 1523.29,-54.57 1518.65,-45.54\"/>\n",
       "<polygon fill=\"black\" stroke=\"black\" points=\"1521.85,-44.11 1514.16,-36.82 1515.62,-47.31 1521.85,-44.11\"/>\n",
       "</g>\n",
       "<!-- Integer(2)_(5, 4, 1) -->\n",
       "<g id=\"node43\" class=\"node\">\n",
       "<title>Integer(2)_(5, 4, 1)</title>\n",
       "<ellipse fill=\"none\" stroke=\"black\" cx=\"1577\" cy=\"-18\" rx=\"27\" ry=\"18\"/>\n",
       "<text text-anchor=\"middle\" x=\"1577\" y=\"-14.3\" font-family=\"Times New Roman,serif\" font-size=\"14.00\">2</text>\n",
       "</g>\n",
       "<!-- Pow(Symbol(&#39;d&#39;), Integer(2))_(5, 4)&#45;&gt;Integer(2)_(5, 4, 1) -->\n",
       "<g id=\"edge43\" class=\"edge\">\n",
       "<title>Pow(Symbol(&#39;d&#39;), Integer(2))_(5, 4)&#45;&gt;Integer(2)_(5, 4, 1)</title>\n",
       "<path fill=\"none\" stroke=\"black\" d=\"M1549.53,-72.41C1553.66,-64.39 1558.71,-54.57 1563.35,-45.54\"/>\n",
       "<polygon fill=\"black\" stroke=\"black\" points=\"1566.38,-47.31 1567.84,-36.82 1560.15,-44.11 1566.38,-47.31\"/>\n",
       "</g>\n",
       "<!-- Integer(3)_(6, 0) -->\n",
       "<g id=\"node45\" class=\"node\">\n",
       "<title>Integer(3)_(6, 0)</title>\n",
       "<ellipse fill=\"none\" stroke=\"black\" cx=\"1613\" cy=\"-90\" rx=\"27\" ry=\"18\"/>\n",
       "<text text-anchor=\"middle\" x=\"1613\" y=\"-86.3\" font-family=\"Times New Roman,serif\" font-size=\"14.00\">3</text>\n",
       "</g>\n",
       "<!-- Mul(Integer(3), Symbol(&#39;b&#39;), Symbol(&#39;c&#39;), Symbol(&#39;d&#39;), Pow(Symbol(&#39;a&#39;), Integer(2)))_(6,)&#45;&gt;Integer(3)_(6, 0) -->\n",
       "<g id=\"edge44\" class=\"edge\">\n",
       "<title>Mul(Integer(3), Symbol(&#39;b&#39;), Symbol(&#39;c&#39;), Symbol(&#39;d&#39;), Pow(Symbol(&#39;a&#39;), Integer(2)))_(6,)&#45;&gt;Integer(3)_(6, 0)</title>\n",
       "<path fill=\"none\" stroke=\"black\" d=\"M1702.19,-148.81C1685.41,-137.93 1660.61,-121.86 1641.41,-109.42\"/>\n",
       "<polygon fill=\"black\" stroke=\"black\" points=\"1643.52,-106.61 1633.23,-104.11 1639.72,-112.49 1643.52,-106.61\"/>\n",
       "</g>\n",
       "<!-- Symbol(&#39;b&#39;)_(6, 1) -->\n",
       "<g id=\"node46\" class=\"node\">\n",
       "<title>Symbol(&#39;b&#39;)_(6, 1)</title>\n",
       "<ellipse fill=\"none\" stroke=\"black\" cx=\"1685\" cy=\"-90\" rx=\"27\" ry=\"18\"/>\n",
       "<text text-anchor=\"middle\" x=\"1685\" y=\"-86.3\" font-family=\"Times New Roman,serif\" font-size=\"14.00\">b</text>\n",
       "</g>\n",
       "<!-- Mul(Integer(3), Symbol(&#39;b&#39;), Symbol(&#39;c&#39;), Symbol(&#39;d&#39;), Pow(Symbol(&#39;a&#39;), Integer(2)))_(6,)&#45;&gt;Symbol(&#39;b&#39;)_(6, 1) -->\n",
       "<g id=\"edge45\" class=\"edge\">\n",
       "<title>Mul(Integer(3), Symbol(&#39;b&#39;), Symbol(&#39;c&#39;), Symbol(&#39;d&#39;), Pow(Symbol(&#39;a&#39;), Integer(2)))_(6,)&#45;&gt;Symbol(&#39;b&#39;)_(6, 1)</title>\n",
       "<path fill=\"none\" stroke=\"black\" d=\"M1712.65,-144.76C1708.42,-136.55 1703.19,-126.37 1698.42,-117.09\"/>\n",
       "<polygon fill=\"black\" stroke=\"black\" points=\"1701.68,-115.79 1694,-108.49 1695.46,-118.99 1701.68,-115.79\"/>\n",
       "</g>\n",
       "<!-- Symbol(&#39;c&#39;)_(6, 2) -->\n",
       "<g id=\"node47\" class=\"node\">\n",
       "<title>Symbol(&#39;c&#39;)_(6, 2)</title>\n",
       "<ellipse fill=\"none\" stroke=\"black\" cx=\"1757\" cy=\"-90\" rx=\"27\" ry=\"18\"/>\n",
       "<text text-anchor=\"middle\" x=\"1757\" y=\"-86.3\" font-family=\"Times New Roman,serif\" font-size=\"14.00\">c</text>\n",
       "</g>\n",
       "<!-- Mul(Integer(3), Symbol(&#39;b&#39;), Symbol(&#39;c&#39;), Symbol(&#39;d&#39;), Pow(Symbol(&#39;a&#39;), Integer(2)))_(6,)&#45;&gt;Symbol(&#39;c&#39;)_(6, 2) -->\n",
       "<g id=\"edge46\" class=\"edge\">\n",
       "<title>Mul(Integer(3), Symbol(&#39;b&#39;), Symbol(&#39;c&#39;), Symbol(&#39;d&#39;), Pow(Symbol(&#39;a&#39;), Integer(2)))_(6,)&#45;&gt;Symbol(&#39;c&#39;)_(6, 2)</title>\n",
       "<path fill=\"none\" stroke=\"black\" d=\"M1729.35,-144.76C1733.58,-136.55 1738.81,-126.37 1743.58,-117.09\"/>\n",
       "<polygon fill=\"black\" stroke=\"black\" points=\"1746.54,-118.99 1748,-108.49 1740.32,-115.79 1746.54,-118.99\"/>\n",
       "</g>\n",
       "<!-- Symbol(&#39;d&#39;)_(6, 3) -->\n",
       "<g id=\"node48\" class=\"node\">\n",
       "<title>Symbol(&#39;d&#39;)_(6, 3)</title>\n",
       "<ellipse fill=\"none\" stroke=\"black\" cx=\"1829\" cy=\"-90\" rx=\"27\" ry=\"18\"/>\n",
       "<text text-anchor=\"middle\" x=\"1829\" y=\"-86.3\" font-family=\"Times New Roman,serif\" font-size=\"14.00\">d</text>\n",
       "</g>\n",
       "<!-- Mul(Integer(3), Symbol(&#39;b&#39;), Symbol(&#39;c&#39;), Symbol(&#39;d&#39;), Pow(Symbol(&#39;a&#39;), Integer(2)))_(6,)&#45;&gt;Symbol(&#39;d&#39;)_(6, 3) -->\n",
       "<g id=\"edge47\" class=\"edge\">\n",
       "<title>Mul(Integer(3), Symbol(&#39;b&#39;), Symbol(&#39;c&#39;), Symbol(&#39;d&#39;), Pow(Symbol(&#39;a&#39;), Integer(2)))_(6,)&#45;&gt;Symbol(&#39;d&#39;)_(6, 3)</title>\n",
       "<path fill=\"none\" stroke=\"black\" d=\"M1739.81,-148.81C1756.59,-137.93 1781.39,-121.86 1800.59,-109.42\"/>\n",
       "<polygon fill=\"black\" stroke=\"black\" points=\"1802.28,-112.49 1808.77,-104.11 1798.48,-106.61 1802.28,-112.49\"/>\n",
       "</g>\n",
       "<!-- Pow(Symbol(&#39;a&#39;), Integer(2))_(6, 4) -->\n",
       "<g id=\"node49\" class=\"node\">\n",
       "<title>Pow(Symbol(&#39;a&#39;), Integer(2))_(6, 4)</title>\n",
       "<ellipse fill=\"none\" stroke=\"black\" cx=\"1901\" cy=\"-90\" rx=\"27.1\" ry=\"18\"/>\n",
       "<text text-anchor=\"middle\" x=\"1901\" y=\"-86.3\" font-family=\"Times New Roman,serif\" font-size=\"14.00\">Pow</text>\n",
       "</g>\n",
       "<!-- Mul(Integer(3), Symbol(&#39;b&#39;), Symbol(&#39;c&#39;), Symbol(&#39;d&#39;), Pow(Symbol(&#39;a&#39;), Integer(2)))_(6,)&#45;&gt;Pow(Symbol(&#39;a&#39;), Integer(2))_(6, 4) -->\n",
       "<g id=\"edge48\" class=\"edge\">\n",
       "<title>Mul(Integer(3), Symbol(&#39;b&#39;), Symbol(&#39;c&#39;), Symbol(&#39;d&#39;), Pow(Symbol(&#39;a&#39;), Integer(2)))_(6,)&#45;&gt;Pow(Symbol(&#39;a&#39;), Integer(2))_(6, 4)</title>\n",
       "<path fill=\"none\" stroke=\"black\" d=\"M1744.95,-152.91C1773.73,-143.03 1823.36,-125.46 1865,-108 1866.51,-107.37 1868.06,-106.7 1869.61,-106.02\"/>\n",
       "<polygon fill=\"black\" stroke=\"black\" points=\"1870.79,-109.33 1878.44,-102.01 1867.89,-102.96 1870.79,-109.33\"/>\n",
       "</g>\n",
       "<!-- Symbol(&#39;a&#39;)_(6, 4, 0) -->\n",
       "<g id=\"node50\" class=\"node\">\n",
       "<title>Symbol(&#39;a&#39;)_(6, 4, 0)</title>\n",
       "<ellipse fill=\"none\" stroke=\"black\" cx=\"1865\" cy=\"-18\" rx=\"27\" ry=\"18\"/>\n",
       "<text text-anchor=\"middle\" x=\"1865\" y=\"-14.3\" font-family=\"Times New Roman,serif\" font-size=\"14.00\">a</text>\n",
       "</g>\n",
       "<!-- Pow(Symbol(&#39;a&#39;), Integer(2))_(6, 4)&#45;&gt;Symbol(&#39;a&#39;)_(6, 4, 0) -->\n",
       "<g id=\"edge49\" class=\"edge\">\n",
       "<title>Pow(Symbol(&#39;a&#39;), Integer(2))_(6, 4)&#45;&gt;Symbol(&#39;a&#39;)_(6, 4, 0)</title>\n",
       "<path fill=\"none\" stroke=\"black\" d=\"M1892.47,-72.41C1888.34,-64.39 1883.29,-54.57 1878.65,-45.54\"/>\n",
       "<polygon fill=\"black\" stroke=\"black\" points=\"1881.85,-44.11 1874.16,-36.82 1875.62,-47.31 1881.85,-44.11\"/>\n",
       "</g>\n",
       "<!-- Integer(2)_(6, 4, 1) -->\n",
       "<g id=\"node51\" class=\"node\">\n",
       "<title>Integer(2)_(6, 4, 1)</title>\n",
       "<ellipse fill=\"none\" stroke=\"black\" cx=\"1937\" cy=\"-18\" rx=\"27\" ry=\"18\"/>\n",
       "<text text-anchor=\"middle\" x=\"1937\" y=\"-14.3\" font-family=\"Times New Roman,serif\" font-size=\"14.00\">2</text>\n",
       "</g>\n",
       "<!-- Pow(Symbol(&#39;a&#39;), Integer(2))_(6, 4)&#45;&gt;Integer(2)_(6, 4, 1) -->\n",
       "<g id=\"edge50\" class=\"edge\">\n",
       "<title>Pow(Symbol(&#39;a&#39;), Integer(2))_(6, 4)&#45;&gt;Integer(2)_(6, 4, 1)</title>\n",
       "<path fill=\"none\" stroke=\"black\" d=\"M1909.53,-72.41C1913.66,-64.39 1918.71,-54.57 1923.35,-45.54\"/>\n",
       "<polygon fill=\"black\" stroke=\"black\" points=\"1926.38,-47.31 1927.84,-36.82 1920.15,-44.11 1926.38,-47.31\"/>\n",
       "</g>\n",
       "</g>\n",
       "</svg>\n"
      ],
      "text/plain": [
       "<graphviz.sources.Source at 0x1b148d6b6d0>"
      ]
     },
     "execution_count": 47,
     "metadata": {},
     "output_type": "execute_result"
    }
   ],
   "source": [
    "dp(formula)"
   ]
  },
  {
   "cell_type": "code",
   "execution_count": null,
   "id": "da686265-1bf9-48ef-8b02-524c667a045e",
   "metadata": {},
   "outputs": [],
   "source": []
  }
 ],
 "metadata": {
  "kernelspec": {
   "display_name": "Python 3 (ipykernel)",
   "language": "python",
   "name": "python3"
  },
  "language_info": {
   "codemirror_mode": {
    "name": "ipython",
    "version": 3
   },
   "file_extension": ".py",
   "mimetype": "text/x-python",
   "name": "python",
   "nbconvert_exporter": "python",
   "pygments_lexer": "ipython3",
   "version": "3.11.1"
  }
 },
 "nbformat": 4,
 "nbformat_minor": 5
}
