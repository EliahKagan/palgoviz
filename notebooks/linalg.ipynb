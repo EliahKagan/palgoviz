{
 "cells": [
  {
   "cell_type": "markdown",
   "id": "45c7187c-39dc-4a7c-a272-8957856804af",
   "metadata": {},
   "source": [
    "# Symbolic algebra with SymPy"
   ]
  },
  {
   "cell_type": "markdown",
   "id": "10cf8f1f-0b20-4ea2-af60-1c49707ef0bb",
   "metadata": {},
   "source": [
    "This is especially useful for symbolic linear algebra and for arbitrary-precision linear algebra."
   ]
  },
  {
   "cell_type": "markdown",
   "id": "1db169ff-24da-45f0-9412-b920cf7a06eb",
   "metadata": {},
   "source": [
    "## Symbols"
   ]
  },
  {
   "cell_type": "code",
   "execution_count": 1,
   "id": "87565db4-34b6-48a3-b088-c582799546b3",
   "metadata": {},
   "outputs": [],
   "source": [
    "import sympy"
   ]
  },
  {
   "cell_type": "code",
   "execution_count": 2,
   "id": "416f35f2-d771-41fc-9aed-4f66939cd4b5",
   "metadata": {},
   "outputs": [],
   "source": [
    "x = sympy.Symbol('x')"
   ]
  },
  {
   "cell_type": "code",
   "execution_count": 3,
   "id": "744e5a4e-9825-44ea-b2fd-16d89d650a9f",
   "metadata": {},
   "outputs": [
    {
     "data": {
      "text/latex": [
       "$\\displaystyle x$"
      ],
      "text/plain": [
       "x"
      ]
     },
     "execution_count": 3,
     "metadata": {},
     "output_type": "execute_result"
    }
   ],
   "source": [
    "x"
   ]
  },
  {
   "cell_type": "code",
   "execution_count": 4,
   "id": "52ebfa43-71ef-4416-8539-256d6befa478",
   "metadata": {},
   "outputs": [
    {
     "data": {
      "text/latex": [
       "$\\displaystyle x + 1$"
      ],
      "text/plain": [
       "x + 1"
      ]
     },
     "execution_count": 4,
     "metadata": {},
     "output_type": "execute_result"
    }
   ],
   "source": [
    "x + 1"
   ]
  },
  {
   "cell_type": "code",
   "execution_count": 5,
   "id": "97b952f7-64b0-4067-bc24-74e9479a833d",
   "metadata": {},
   "outputs": [
    {
     "data": {
      "text/latex": [
       "$\\displaystyle 3 x$"
      ],
      "text/plain": [
       "3*x"
      ]
     },
     "execution_count": 5,
     "metadata": {},
     "output_type": "execute_result"
    }
   ],
   "source": [
    "3 * x"
   ]
  },
  {
   "cell_type": "code",
   "execution_count": 6,
   "id": "d3f0a435-e4bf-4ca5-a8d2-421e128cba37",
   "metadata": {},
   "outputs": [
    {
     "data": {
      "text/latex": [
       "$\\displaystyle x^{2}$"
      ],
      "text/plain": [
       "x**2"
      ]
     },
     "execution_count": 6,
     "metadata": {},
     "output_type": "execute_result"
    }
   ],
   "source": [
    "x**2"
   ]
  },
  {
   "cell_type": "markdown",
   "id": "6b530522-6287-40c4-bf5f-e85a4306c8f5",
   "metadata": {},
   "source": [
    "## Matrices"
   ]
  },
  {
   "cell_type": "code",
   "execution_count": 7,
   "id": "25fa4de6-ae8d-41e1-b0dc-67fa157fcadc",
   "metadata": {},
   "outputs": [],
   "source": [
    "M = sympy.Matrix([[1, 2], [3, 4]])"
   ]
  },
  {
   "cell_type": "code",
   "execution_count": 8,
   "id": "656cf78d-2d9f-4497-a36f-29c1c12fef04",
   "metadata": {},
   "outputs": [
    {
     "data": {
      "text/latex": [
       "$\\displaystyle \\left[\\begin{matrix}1 & 2\\\\3 & 4\\end{matrix}\\right]$"
      ],
      "text/plain": [
       "Matrix([\n",
       "[1, 2],\n",
       "[3, 4]])"
      ]
     },
     "execution_count": 8,
     "metadata": {},
     "output_type": "execute_result"
    }
   ],
   "source": [
    "M"
   ]
  },
  {
   "cell_type": "code",
   "execution_count": 9,
   "id": "0477b9d9-7a2a-4349-a0f9-d11621deb62e",
   "metadata": {},
   "outputs": [],
   "source": [
    "N = sympy.Matrix([[2, 2], [2, 2]])"
   ]
  },
  {
   "cell_type": "code",
   "execution_count": 10,
   "id": "c3f04bd7-ea02-4cf4-afb5-43331e7ee413",
   "metadata": {},
   "outputs": [
    {
     "data": {
      "text/latex": [
       "$\\displaystyle \\left[\\begin{matrix}2 & 2\\\\2 & 2\\end{matrix}\\right]$"
      ],
      "text/plain": [
       "Matrix([\n",
       "[2, 2],\n",
       "[2, 2]])"
      ]
     },
     "execution_count": 10,
     "metadata": {},
     "output_type": "execute_result"
    }
   ],
   "source": [
    "N"
   ]
  },
  {
   "cell_type": "code",
   "execution_count": 11,
   "id": "4dce565d-dc08-4183-a6ee-379141f4453d",
   "metadata": {},
   "outputs": [
    {
     "data": {
      "text/latex": [
       "$\\displaystyle \\left[\\begin{matrix}6 & 6\\\\14 & 14\\end{matrix}\\right]$"
      ],
      "text/plain": [
       "Matrix([\n",
       "[ 6,  6],\n",
       "[14, 14]])"
      ]
     },
     "execution_count": 11,
     "metadata": {},
     "output_type": "execute_result"
    }
   ],
   "source": [
    "M * N "
   ]
  },
  {
   "cell_type": "code",
   "execution_count": 12,
   "id": "ee78f18b-eb8d-4293-afba-1d36e16f597b",
   "metadata": {},
   "outputs": [],
   "source": [
    "a, b, c, d = sympy.symbols('a b c d')"
   ]
  },
  {
   "cell_type": "code",
   "execution_count": 13,
   "id": "0a624f5d-8fb9-4b50-a2a2-cfbb063ed7a7",
   "metadata": {},
   "outputs": [],
   "source": [
    "L = sympy.Matrix([[a, b], [c, d]])"
   ]
  },
  {
   "cell_type": "code",
   "execution_count": 14,
   "id": "f9040150-1128-4f29-b810-214453bf4f9d",
   "metadata": {},
   "outputs": [
    {
     "data": {
      "text/latex": [
       "$\\displaystyle \\left[\\begin{matrix}a & b\\\\c & d\\end{matrix}\\right]$"
      ],
      "text/plain": [
       "Matrix([\n",
       "[a, b],\n",
       "[c, d]])"
      ]
     },
     "execution_count": 14,
     "metadata": {},
     "output_type": "execute_result"
    }
   ],
   "source": [
    "L"
   ]
  },
  {
   "cell_type": "code",
   "execution_count": 15,
   "id": "7515f60a-4fcc-4451-b177-c38a4ff228b8",
   "metadata": {},
   "outputs": [
    {
     "data": {
      "text/latex": [
       "$\\displaystyle \\left[\\begin{matrix}a + 2 c & b + 2 d\\\\3 a + 4 c & 3 b + 4 d\\end{matrix}\\right]$"
      ],
      "text/plain": [
       "Matrix([\n",
       "[  a + 2*c,   b + 2*d],\n",
       "[3*a + 4*c, 3*b + 4*d]])"
      ]
     },
     "execution_count": 15,
     "metadata": {},
     "output_type": "execute_result"
    }
   ],
   "source": [
    "M * L "
   ]
  },
  {
   "cell_type": "markdown",
   "id": "72ca6636-0288-47c8-a1ee-2856795c0242",
   "metadata": {},
   "source": [
    "## Matrix powers, inverse, equality comparison"
   ]
  },
  {
   "cell_type": "code",
   "execution_count": 16,
   "id": "1d958a60-e0c4-41f8-a533-5d4d27d32db6",
   "metadata": {},
   "outputs": [
    {
     "data": {
      "text/latex": [
       "$\\displaystyle \\left[\\begin{matrix}a^{2} + b c & a b + b d\\\\a c + c d & b c + d^{2}\\end{matrix}\\right]$"
      ],
      "text/plain": [
       "Matrix([\n",
       "[a**2 + b*c,  a*b + b*d],\n",
       "[ a*c + c*d, b*c + d**2]])"
      ]
     },
     "execution_count": 16,
     "metadata": {},
     "output_type": "execute_result"
    }
   ],
   "source": [
    "L**2"
   ]
  },
  {
   "cell_type": "code",
   "execution_count": 17,
   "id": "265bbd6f-d88f-495a-b9f9-3610badd89fe",
   "metadata": {},
   "outputs": [
    {
     "data": {
      "text/latex": [
       "$\\displaystyle \\left[\\begin{matrix}a^{10} + 9 a^{8} b c + 8 a^{7} b c d + 28 a^{6} b^{2} c^{2} + 7 a^{6} b c d^{2} + 42 a^{5} b^{2} c^{2} d + 6 a^{5} b c d^{3} + 35 a^{4} b^{3} c^{3} + 45 a^{4} b^{2} c^{2} d^{2} + 5 a^{4} b c d^{4} + 60 a^{3} b^{3} c^{3} d + 40 a^{3} b^{2} c^{2} d^{3} + 4 a^{3} b c d^{5} + 15 a^{2} b^{4} c^{4} + 60 a^{2} b^{3} c^{3} d^{2} + 30 a^{2} b^{2} c^{2} d^{4} + 3 a^{2} b c d^{6} + 20 a b^{4} c^{4} d + 40 a b^{3} c^{3} d^{3} + 18 a b^{2} c^{2} d^{5} + 2 a b c d^{7} + b^{5} c^{5} + 10 b^{4} c^{4} d^{2} + 15 b^{3} c^{3} d^{4} + 7 b^{2} c^{2} d^{6} + b c d^{8} & a^{9} b + a^{8} b d + 8 a^{7} b^{2} c + a^{7} b d^{2} + 14 a^{6} b^{2} c d + a^{6} b d^{3} + 21 a^{5} b^{3} c^{2} + 18 a^{5} b^{2} c d^{2} + a^{5} b d^{4} + 45 a^{4} b^{3} c^{2} d + 20 a^{4} b^{2} c d^{3} + a^{4} b d^{5} + 20 a^{3} b^{4} c^{3} + 60 a^{3} b^{3} c^{2} d^{2} + 20 a^{3} b^{2} c d^{4} + a^{3} b d^{6} + 40 a^{2} b^{4} c^{3} d + 60 a^{2} b^{3} c^{2} d^{3} + 18 a^{2} b^{2} c d^{5} + a^{2} b d^{7} + 5 a b^{5} c^{4} + 40 a b^{4} c^{3} d^{2} + 45 a b^{3} c^{2} d^{4} + 14 a b^{2} c d^{6} + a b d^{8} + 5 b^{5} c^{4} d + 20 b^{4} c^{3} d^{3} + 21 b^{3} c^{2} d^{5} + 8 b^{2} c d^{7} + b d^{9}\\\\a^{9} c + a^{8} c d + 8 a^{7} b c^{2} + a^{7} c d^{2} + 14 a^{6} b c^{2} d + a^{6} c d^{3} + 21 a^{5} b^{2} c^{3} + 18 a^{5} b c^{2} d^{2} + a^{5} c d^{4} + 45 a^{4} b^{2} c^{3} d + 20 a^{4} b c^{2} d^{3} + a^{4} c d^{5} + 20 a^{3} b^{3} c^{4} + 60 a^{3} b^{2} c^{3} d^{2} + 20 a^{3} b c^{2} d^{4} + a^{3} c d^{6} + 40 a^{2} b^{3} c^{4} d + 60 a^{2} b^{2} c^{3} d^{3} + 18 a^{2} b c^{2} d^{5} + a^{2} c d^{7} + 5 a b^{4} c^{5} + 40 a b^{3} c^{4} d^{2} + 45 a b^{2} c^{3} d^{4} + 14 a b c^{2} d^{6} + a c d^{8} + 5 b^{4} c^{5} d + 20 b^{3} c^{4} d^{3} + 21 b^{2} c^{3} d^{5} + 8 b c^{2} d^{7} + c d^{9} & a^{8} b c + 2 a^{7} b c d + 7 a^{6} b^{2} c^{2} + 3 a^{6} b c d^{2} + 18 a^{5} b^{2} c^{2} d + 4 a^{5} b c d^{3} + 15 a^{4} b^{3} c^{3} + 30 a^{4} b^{2} c^{2} d^{2} + 5 a^{4} b c d^{4} + 40 a^{3} b^{3} c^{3} d + 40 a^{3} b^{2} c^{2} d^{3} + 6 a^{3} b c d^{5} + 10 a^{2} b^{4} c^{4} + 60 a^{2} b^{3} c^{3} d^{2} + 45 a^{2} b^{2} c^{2} d^{4} + 7 a^{2} b c d^{6} + 20 a b^{4} c^{4} d + 60 a b^{3} c^{3} d^{3} + 42 a b^{2} c^{2} d^{5} + 8 a b c d^{7} + b^{5} c^{5} + 15 b^{4} c^{4} d^{2} + 35 b^{3} c^{3} d^{4} + 28 b^{2} c^{2} d^{6} + 9 b c d^{8} + d^{10}\\end{matrix}\\right]$"
      ],
      "text/plain": [
       "Matrix([\n",
       "[                                          a**10 + 9*a**8*b*c + 8*a**7*b*c*d + 28*a**6*b**2*c**2 + 7*a**6*b*c*d**2 + 42*a**5*b**2*c**2*d + 6*a**5*b*c*d**3 + 35*a**4*b**3*c**3 + 45*a**4*b**2*c**2*d**2 + 5*a**4*b*c*d**4 + 60*a**3*b**3*c**3*d + 40*a**3*b**2*c**2*d**3 + 4*a**3*b*c*d**5 + 15*a**2*b**4*c**4 + 60*a**2*b**3*c**3*d**2 + 30*a**2*b**2*c**2*d**4 + 3*a**2*b*c*d**6 + 20*a*b**4*c**4*d + 40*a*b**3*c**3*d**3 + 18*a*b**2*c**2*d**5 + 2*a*b*c*d**7 + b**5*c**5 + 10*b**4*c**4*d**2 + 15*b**3*c**3*d**4 + 7*b**2*c**2*d**6 + b*c*d**8, a**9*b + a**8*b*d + 8*a**7*b**2*c + a**7*b*d**2 + 14*a**6*b**2*c*d + a**6*b*d**3 + 21*a**5*b**3*c**2 + 18*a**5*b**2*c*d**2 + a**5*b*d**4 + 45*a**4*b**3*c**2*d + 20*a**4*b**2*c*d**3 + a**4*b*d**5 + 20*a**3*b**4*c**3 + 60*a**3*b**3*c**2*d**2 + 20*a**3*b**2*c*d**4 + a**3*b*d**6 + 40*a**2*b**4*c**3*d + 60*a**2*b**3*c**2*d**3 + 18*a**2*b**2*c*d**5 + a**2*b*d**7 + 5*a*b**5*c**4 + 40*a*b**4*c**3*d**2 + 45*a*b**3*c**2*d**4 + 14*a*b**2*c*d**6 + a*b*d**8 + 5*b**5*c**4*d + 20*b**4*c**3*d**3 + 21*b**3*c**2*d**5 + 8*b**2*c*d**7 + b*d**9],\n",
       "[a**9*c + a**8*c*d + 8*a**7*b*c**2 + a**7*c*d**2 + 14*a**6*b*c**2*d + a**6*c*d**3 + 21*a**5*b**2*c**3 + 18*a**5*b*c**2*d**2 + a**5*c*d**4 + 45*a**4*b**2*c**3*d + 20*a**4*b*c**2*d**3 + a**4*c*d**5 + 20*a**3*b**3*c**4 + 60*a**3*b**2*c**3*d**2 + 20*a**3*b*c**2*d**4 + a**3*c*d**6 + 40*a**2*b**3*c**4*d + 60*a**2*b**2*c**3*d**3 + 18*a**2*b*c**2*d**5 + a**2*c*d**7 + 5*a*b**4*c**5 + 40*a*b**3*c**4*d**2 + 45*a*b**2*c**3*d**4 + 14*a*b*c**2*d**6 + a*c*d**8 + 5*b**4*c**5*d + 20*b**3*c**4*d**3 + 21*b**2*c**3*d**5 + 8*b*c**2*d**7 + c*d**9,                                           a**8*b*c + 2*a**7*b*c*d + 7*a**6*b**2*c**2 + 3*a**6*b*c*d**2 + 18*a**5*b**2*c**2*d + 4*a**5*b*c*d**3 + 15*a**4*b**3*c**3 + 30*a**4*b**2*c**2*d**2 + 5*a**4*b*c*d**4 + 40*a**3*b**3*c**3*d + 40*a**3*b**2*c**2*d**3 + 6*a**3*b*c*d**5 + 10*a**2*b**4*c**4 + 60*a**2*b**3*c**3*d**2 + 45*a**2*b**2*c**2*d**4 + 7*a**2*b*c*d**6 + 20*a*b**4*c**4*d + 60*a*b**3*c**3*d**3 + 42*a*b**2*c**2*d**5 + 8*a*b*c*d**7 + b**5*c**5 + 15*b**4*c**4*d**2 + 35*b**3*c**3*d**4 + 28*b**2*c**2*d**6 + 9*b*c*d**8 + d**10]])"
      ]
     },
     "execution_count": 17,
     "metadata": {},
     "output_type": "execute_result"
    }
   ],
   "source": [
    "L**10"
   ]
  },
  {
   "cell_type": "code",
   "execution_count": 18,
   "id": "42255faa-0843-408c-b8e4-74e6ce91ecf2",
   "metadata": {},
   "outputs": [
    {
     "data": {
      "text/latex": [
       "$\\displaystyle \\left[\\begin{matrix}\\frac{d}{a d - b c} & - \\frac{b}{a d - b c}\\\\- \\frac{c}{a d - b c} & \\frac{a}{a d - b c}\\end{matrix}\\right]$"
      ],
      "text/plain": [
       "Matrix([\n",
       "[ d/(a*d - b*c), -b/(a*d - b*c)],\n",
       "[-c/(a*d - b*c),  a/(a*d - b*c)]])"
      ]
     },
     "execution_count": 18,
     "metadata": {},
     "output_type": "execute_result"
    }
   ],
   "source": [
    "L**-1"
   ]
  },
  {
   "cell_type": "code",
   "execution_count": 19,
   "id": "8990beb0-23b2-44ee-9c8e-8d5e3fa0cce0",
   "metadata": {},
   "outputs": [
    {
     "data": {
      "text/latex": [
       "$\\displaystyle \\left[\\begin{matrix}d & - b\\\\- c & a\\end{matrix}\\right]$"
      ],
      "text/plain": [
       "Matrix([\n",
       "[ d, -b],\n",
       "[-c,  a]])"
      ]
     },
     "execution_count": 19,
     "metadata": {},
     "output_type": "execute_result"
    }
   ],
   "source": [
    "L**-1 * (a*d - b*c)"
   ]
  },
  {
   "cell_type": "code",
   "execution_count": 20,
   "id": "ca956fc0-55fd-4ab6-aaba-b6c17975da63",
   "metadata": {},
   "outputs": [
    {
     "data": {
      "text/plain": [
       "True"
      ]
     },
     "execution_count": 20,
     "metadata": {},
     "output_type": "execute_result"
    }
   ],
   "source": [
    "sympy.Matrix([[d, -b], [-c, a]]) / (a * d - b * c) == L**-1"
   ]
  },
  {
   "cell_type": "markdown",
   "id": "e7abd47c-9b34-40d1-9a68-b48015677c43",
   "metadata": {},
   "source": [
    "## Both `*` and `@` can do matrix multiplication"
   ]
  },
  {
   "cell_type": "code",
   "execution_count": 21,
   "id": "4d0da80f-705c-4057-bd19-d60ec30f8aa8",
   "metadata": {},
   "outputs": [
    {
     "data": {
      "text/latex": [
       "$\\displaystyle \\left[\\begin{matrix}6 & 6\\\\14 & 14\\end{matrix}\\right]$"
      ],
      "text/plain": [
       "Matrix([\n",
       "[ 6,  6],\n",
       "[14, 14]])"
      ]
     },
     "execution_count": 21,
     "metadata": {},
     "output_type": "execute_result"
    }
   ],
   "source": [
    "M * N "
   ]
  },
  {
   "cell_type": "code",
   "execution_count": 22,
   "id": "df243faf-ba13-418f-870e-b10e5639b156",
   "metadata": {},
   "outputs": [
    {
     "data": {
      "text/latex": [
       "$\\displaystyle \\left[\\begin{matrix}8 & 12\\\\8 & 12\\end{matrix}\\right]$"
      ],
      "text/plain": [
       "Matrix([\n",
       "[8, 12],\n",
       "[8, 12]])"
      ]
     },
     "execution_count": 22,
     "metadata": {},
     "output_type": "execute_result"
    }
   ],
   "source": [
    "N * M "
   ]
  },
  {
   "cell_type": "code",
   "execution_count": 23,
   "id": "150eaa72-d31c-4167-8574-05cc8e5a299d",
   "metadata": {},
   "outputs": [
    {
     "data": {
      "text/latex": [
       "$\\displaystyle \\left[\\begin{matrix}6 & 6\\\\14 & 14\\end{matrix}\\right]$"
      ],
      "text/plain": [
       "Matrix([\n",
       "[ 6,  6],\n",
       "[14, 14]])"
      ]
     },
     "execution_count": 23,
     "metadata": {},
     "output_type": "execute_result"
    }
   ],
   "source": [
    "M @ N "
   ]
  },
  {
   "cell_type": "code",
   "execution_count": 24,
   "id": "f17ce27f-881a-4e2a-b2a1-8762bb0ead05",
   "metadata": {},
   "outputs": [
    {
     "data": {
      "text/latex": [
       "$\\displaystyle \\left[\\begin{matrix}8 & 12\\\\8 & 12\\end{matrix}\\right]$"
      ],
      "text/plain": [
       "Matrix([\n",
       "[8, 12],\n",
       "[8, 12]])"
      ]
     },
     "execution_count": 24,
     "metadata": {},
     "output_type": "execute_result"
    }
   ],
   "source": [
    "N @ M "
   ]
  },
  {
   "cell_type": "code",
   "execution_count": 25,
   "id": "0b70ab8a-273d-41c7-985a-ce5309e0b3cd",
   "metadata": {},
   "outputs": [
    {
     "data": {
      "text/latex": [
       "$\\displaystyle \\left[\\begin{matrix}a & b\\\\c & d\\end{matrix}\\right]$"
      ],
      "text/plain": [
       "Matrix([\n",
       "[a, b],\n",
       "[c, d]])"
      ]
     },
     "execution_count": 25,
     "metadata": {},
     "output_type": "execute_result"
    }
   ],
   "source": [
    "L"
   ]
  },
  {
   "cell_type": "markdown",
   "id": "0e402e56-8462-4d88-bd71-508369148317",
   "metadata": {},
   "source": [
    "## Subscripting matrices with 0-based index tuples"
   ]
  },
  {
   "cell_type": "code",
   "execution_count": 26,
   "id": "f3237a29-c2d4-478a-832f-cf50011a161d",
   "metadata": {},
   "outputs": [
    {
     "data": {
      "text/latex": [
       "$\\displaystyle b$"
      ],
      "text/plain": [
       "b"
      ]
     },
     "execution_count": 26,
     "metadata": {},
     "output_type": "execute_result"
    }
   ],
   "source": [
    "L[0, 1]"
   ]
  },
  {
   "cell_type": "markdown",
   "id": "ca7b2805-42fa-442d-af5d-4c3d49e999df",
   "metadata": {},
   "source": [
    "## Subscripted symbols"
   ]
  },
  {
   "cell_type": "code",
   "execution_count": 27,
   "id": "12cb692f-5b8d-4cfa-b7eb-45baa1bef5f7",
   "metadata": {},
   "outputs": [],
   "source": [
    "a11 = sympy.Symbol('a_11')\n",
    "a12 = sympy.Symbol('a_12')\n",
    "a21 = sympy.Symbol('a_21')\n",
    "a22 = sympy.Symbol('a_22')"
   ]
  },
  {
   "cell_type": "code",
   "execution_count": 28,
   "id": "e1905a4f-ec06-4df3-97cc-8082ac763afd",
   "metadata": {},
   "outputs": [
    {
     "data": {
      "text/latex": [
       "$\\displaystyle \\left[\\begin{matrix}a_{11} & a_{12}\\\\a_{21} & a_{22}\\end{matrix}\\right]$"
      ],
      "text/plain": [
       "Matrix([\n",
       "[a_11, a_12],\n",
       "[a_21, a_22]])"
      ]
     },
     "execution_count": 28,
     "metadata": {},
     "output_type": "execute_result"
    }
   ],
   "source": [
    "sympy.Matrix([[a11, a12], [a21, a22]])"
   ]
  },
  {
   "cell_type": "markdown",
   "id": "e31ed2cc-c18d-4736-b21f-afb86c0a5fcc",
   "metadata": {},
   "source": [
    "## Commutative and noncommutative symbols"
   ]
  },
  {
   "cell_type": "code",
   "execution_count": 29,
   "id": "2f162299-079c-4edd-97c1-968dd4ac177b",
   "metadata": {},
   "outputs": [],
   "source": [
    "y = sympy.Symbol('y')"
   ]
  },
  {
   "cell_type": "code",
   "execution_count": 30,
   "id": "4b13f76e-cc8f-4438-835e-ab774f79bec1",
   "metadata": {},
   "outputs": [
    {
     "data": {
      "text/latex": [
       "$\\displaystyle x y$"
      ],
      "text/plain": [
       "x*y"
      ]
     },
     "execution_count": 30,
     "metadata": {},
     "output_type": "execute_result"
    }
   ],
   "source": [
    "x * y "
   ]
  },
  {
   "cell_type": "code",
   "execution_count": 31,
   "id": "40ceccff-83a5-47f7-bb0a-405049b6fe86",
   "metadata": {},
   "outputs": [
    {
     "data": {
      "text/latex": [
       "$\\displaystyle x y$"
      ],
      "text/plain": [
       "x*y"
      ]
     },
     "execution_count": 31,
     "metadata": {},
     "output_type": "execute_result"
    }
   ],
   "source": [
    "y * x"
   ]
  },
  {
   "cell_type": "code",
   "execution_count": 32,
   "id": "815722bd-43db-4699-ace1-8be20fa0a557",
   "metadata": {},
   "outputs": [],
   "source": [
    "w = sympy.Symbol('w', commutative=False)"
   ]
  },
  {
   "cell_type": "code",
   "execution_count": 33,
   "id": "8f574129-4c26-43b1-a271-57c9a3b6e2e0",
   "metadata": {},
   "outputs": [],
   "source": [
    "z = sympy.Symbol('z', commutative=False)"
   ]
  },
  {
   "cell_type": "code",
   "execution_count": 34,
   "id": "1b88ec9f-96ae-42e9-a160-67d1a5d2cf85",
   "metadata": {},
   "outputs": [
    {
     "data": {
      "text/latex": [
       "$\\displaystyle w z$"
      ],
      "text/plain": [
       "w*z"
      ]
     },
     "execution_count": 34,
     "metadata": {},
     "output_type": "execute_result"
    }
   ],
   "source": [
    "w * z "
   ]
  },
  {
   "cell_type": "code",
   "execution_count": 35,
   "id": "aae89f93-28fd-4be7-9610-532bcf2d9055",
   "metadata": {},
   "outputs": [
    {
     "data": {
      "text/latex": [
       "$\\displaystyle z w$"
      ],
      "text/plain": [
       "z*w"
      ]
     },
     "execution_count": 35,
     "metadata": {},
     "output_type": "execute_result"
    }
   ],
   "source": [
    "z * w "
   ]
  },
  {
   "cell_type": "code",
   "execution_count": 36,
   "id": "0b485376-29ea-4f59-b411-20f90984fea9",
   "metadata": {},
   "outputs": [
    {
     "data": {
      "text/latex": [
       "$\\displaystyle x w$"
      ],
      "text/plain": [
       "x*w"
      ]
     },
     "execution_count": 36,
     "metadata": {},
     "output_type": "execute_result"
    }
   ],
   "source": [
    "x * w"
   ]
  },
  {
   "cell_type": "code",
   "execution_count": 37,
   "id": "ca16a9a0-f925-4c82-ad47-0af8f0e3aae9",
   "metadata": {},
   "outputs": [
    {
     "data": {
      "text/latex": [
       "$\\displaystyle x w$"
      ],
      "text/plain": [
       "x*w"
      ]
     },
     "execution_count": 37,
     "metadata": {},
     "output_type": "execute_result"
    }
   ],
   "source": [
    "w * x "
   ]
  },
  {
   "cell_type": "code",
   "execution_count": 38,
   "id": "fb77cebe-0d3b-41a2-8d37-a65e2a6a0db4",
   "metadata": {},
   "outputs": [
    {
     "data": {
      "text/plain": [
       "False"
      ]
     },
     "execution_count": 38,
     "metadata": {},
     "output_type": "execute_result"
    }
   ],
   "source": [
    "w * z == z * w "
   ]
  },
  {
   "cell_type": "code",
   "execution_count": 39,
   "id": "1a65bd44-c572-4718-b59a-699aca650f62",
   "metadata": {},
   "outputs": [
    {
     "data": {
      "text/plain": [
       "True"
      ]
     },
     "execution_count": 39,
     "metadata": {},
     "output_type": "execute_result"
    }
   ],
   "source": [
    "x * y == y * x "
   ]
  },
  {
   "cell_type": "code",
   "execution_count": 40,
   "id": "b9771792-3d58-45e3-81f3-5a998f1fb506",
   "metadata": {},
   "outputs": [
    {
     "data": {
      "text/plain": [
       "sympy.core.mul.Mul"
      ]
     },
     "execution_count": 40,
     "metadata": {},
     "output_type": "execute_result"
    }
   ],
   "source": [
    "type(w * x)"
   ]
  },
  {
   "cell_type": "markdown",
   "id": "3e97ea89-1125-43b6-94da-8de460253600",
   "metadata": {},
   "source": [
    "## Expression tree drawing with SymPy and Graphviz"
   ]
  },
  {
   "cell_type": "markdown",
   "id": "7bf46789-4d04-407b-a313-76aea8276874",
   "metadata": {},
   "source": [
    "For this, we use:\n",
    "\n",
    "- [sympy.printing.dot.dotprint](https://docs.sympy.org/latest/modules/printing.html#dotprint) to emit DOT code, *and*\n",
    "- [graphviz.Source](https://graphviz.readthedocs.io/en/stable/manual.html#using-raw-dot) to draw a Graphviz graph from DOT code."
   ]
  },
  {
   "cell_type": "code",
   "execution_count": 41,
   "id": "5904e318-7660-4037-a03c-fd9c6fbd231a",
   "metadata": {},
   "outputs": [],
   "source": [
    "import graphviz\n",
    "from sympy.printing.dot import dotprint"
   ]
  },
  {
   "cell_type": "code",
   "execution_count": 42,
   "id": "37d79b1c-2028-4aaa-a045-1617df447b95",
   "metadata": {},
   "outputs": [],
   "source": [
    "from algoviz.composers import compose2"
   ]
  },
  {
   "cell_type": "code",
   "execution_count": 43,
   "id": "0ad7a6f4-85b3-4e26-b67b-e9b9f588f331",
   "metadata": {},
   "outputs": [],
   "source": [
    "dp = compose2(graphviz.Source, sympy.printing.dot.dotprint)"
   ]
  },
  {
   "cell_type": "code",
   "execution_count": 44,
   "id": "77346f63-eb5e-4e92-b320-f21215310b4e",
   "metadata": {},
   "outputs": [
    {
     "data": {
      "image/svg+xml": [
       "<?xml version=\"1.0\" encoding=\"UTF-8\" standalone=\"no\"?>\n",
       "<!DOCTYPE svg PUBLIC \"-//W3C//DTD SVG 1.1//EN\"\n",
       " \"http://www.w3.org/Graphics/SVG/1.1/DTD/svg11.dtd\">\n",
       "<!-- Generated by graphviz version 6.0.1 (0)\n",
       " -->\n",
       "<!-- Pages: 1 -->\n",
       "<svg width=\"134pt\" height=\"116pt\"\n",
       " viewBox=\"0.00 0.00 134.00 116.00\" xmlns=\"http://www.w3.org/2000/svg\" xmlns:xlink=\"http://www.w3.org/1999/xlink\">\n",
       "<g id=\"graph0\" class=\"graph\" transform=\"scale(1 1) rotate(0) translate(4 112)\">\n",
       "<polygon fill=\"white\" stroke=\"none\" points=\"-4,4 -4,-112 130,-112 130,4 -4,4\"/>\n",
       "<!-- Mul(Symbol(&#39;x&#39;), Symbol(&#39;w&#39;, commutative=False))_() -->\n",
       "<g id=\"node1\" class=\"node\">\n",
       "<title>Mul(Symbol(&#39;x&#39;), Symbol(&#39;w&#39;, commutative=False))_()</title>\n",
       "<ellipse fill=\"none\" stroke=\"black\" cx=\"63\" cy=\"-90\" rx=\"27\" ry=\"18\"/>\n",
       "<text text-anchor=\"middle\" x=\"63\" y=\"-86.3\" font-family=\"Times New Roman,serif\" font-size=\"14.00\">Mul</text>\n",
       "</g>\n",
       "<!-- Symbol(&#39;x&#39;)_(0,) -->\n",
       "<g id=\"node2\" class=\"node\">\n",
       "<title>Symbol(&#39;x&#39;)_(0,)</title>\n",
       "<ellipse fill=\"none\" stroke=\"black\" cx=\"27\" cy=\"-18\" rx=\"27\" ry=\"18\"/>\n",
       "<text text-anchor=\"middle\" x=\"27\" y=\"-14.3\" font-family=\"Times New Roman,serif\" font-size=\"14.00\">x</text>\n",
       "</g>\n",
       "<!-- Mul(Symbol(&#39;x&#39;), Symbol(&#39;w&#39;, commutative=False))_()&#45;&gt;Symbol(&#39;x&#39;)_(0,) -->\n",
       "<g id=\"edge1\" class=\"edge\">\n",
       "<title>Mul(Symbol(&#39;x&#39;), Symbol(&#39;w&#39;, commutative=False))_()&#45;&gt;Symbol(&#39;x&#39;)_(0,)</title>\n",
       "<path fill=\"none\" stroke=\"black\" d=\"M54.65,-72.76C50.29,-64.28 44.85,-53.71 39.96,-44.2\"/>\n",
       "<polygon fill=\"black\" stroke=\"black\" points=\"42.99,-42.44 35.3,-35.15 36.77,-45.64 42.99,-42.44\"/>\n",
       "</g>\n",
       "<!-- Symbol(&#39;w&#39;, commutative=False)_(1,) -->\n",
       "<g id=\"node3\" class=\"node\">\n",
       "<title>Symbol(&#39;w&#39;, commutative=False)_(1,)</title>\n",
       "<ellipse fill=\"none\" stroke=\"black\" cx=\"99\" cy=\"-18\" rx=\"27\" ry=\"18\"/>\n",
       "<text text-anchor=\"middle\" x=\"99\" y=\"-14.3\" font-family=\"Times New Roman,serif\" font-size=\"14.00\">w</text>\n",
       "</g>\n",
       "<!-- Mul(Symbol(&#39;x&#39;), Symbol(&#39;w&#39;, commutative=False))_()&#45;&gt;Symbol(&#39;w&#39;, commutative=False)_(1,) -->\n",
       "<g id=\"edge2\" class=\"edge\">\n",
       "<title>Mul(Symbol(&#39;x&#39;), Symbol(&#39;w&#39;, commutative=False))_()&#45;&gt;Symbol(&#39;w&#39;, commutative=False)_(1,)</title>\n",
       "<path fill=\"none\" stroke=\"black\" d=\"M71.35,-72.76C75.71,-64.28 81.15,-53.71 86.04,-44.2\"/>\n",
       "<polygon fill=\"black\" stroke=\"black\" points=\"89.23,-45.64 90.7,-35.15 83.01,-42.44 89.23,-45.64\"/>\n",
       "</g>\n",
       "</g>\n",
       "</svg>\n"
      ],
      "text/plain": [
       "<graphviz.sources.Source at 0x22f98ac3710>"
      ]
     },
     "execution_count": 44,
     "metadata": {},
     "output_type": "execute_result"
    }
   ],
   "source": [
    "dp(w * x)"
   ]
  },
  {
   "cell_type": "code",
   "execution_count": 45,
   "id": "1078ce11-ab00-4309-a57d-1adab729be38",
   "metadata": {},
   "outputs": [
    {
     "data": {
      "text/latex": [
       "$\\displaystyle \\left[\\begin{matrix}a^{5} + 4 a^{3} b c + 3 a^{2} b c d + 3 a b^{2} c^{2} + 2 a b c d^{2} + 2 b^{2} c^{2} d + b c d^{3} & a^{4} b + a^{3} b d + 3 a^{2} b^{2} c + a^{2} b d^{2} + 4 a b^{2} c d + a b d^{3} + b^{3} c^{2} + 3 b^{2} c d^{2} + b d^{4}\\\\a^{4} c + a^{3} c d + 3 a^{2} b c^{2} + a^{2} c d^{2} + 4 a b c^{2} d + a c d^{3} + b^{2} c^{3} + 3 b c^{2} d^{2} + c d^{4} & a^{3} b c + 2 a^{2} b c d + 2 a b^{2} c^{2} + 3 a b c d^{2} + 3 b^{2} c^{2} d + 4 b c d^{3} + d^{5}\\end{matrix}\\right]$"
      ],
      "text/plain": [
       "Matrix([\n",
       "[                    a**5 + 4*a**3*b*c + 3*a**2*b*c*d + 3*a*b**2*c**2 + 2*a*b*c*d**2 + 2*b**2*c**2*d + b*c*d**3, a**4*b + a**3*b*d + 3*a**2*b**2*c + a**2*b*d**2 + 4*a*b**2*c*d + a*b*d**3 + b**3*c**2 + 3*b**2*c*d**2 + b*d**4],\n",
       "[a**4*c + a**3*c*d + 3*a**2*b*c**2 + a**2*c*d**2 + 4*a*b*c**2*d + a*c*d**3 + b**2*c**3 + 3*b*c**2*d**2 + c*d**4,                     a**3*b*c + 2*a**2*b*c*d + 2*a*b**2*c**2 + 3*a*b*c*d**2 + 3*b**2*c**2*d + 4*b*c*d**3 + d**5]])"
      ]
     },
     "execution_count": 45,
     "metadata": {},
     "output_type": "execute_result"
    }
   ],
   "source": [
    "L**5"
   ]
  },
  {
   "cell_type": "code",
   "execution_count": 46,
   "id": "e85474e5-1c89-4784-8ab1-fce2236ad032",
   "metadata": {},
   "outputs": [
    {
     "data": {
      "text/latex": [
       "$\\displaystyle a^{5} + 4 a^{3} b c + 3 a^{2} b c d + 3 a b^{2} c^{2} + 2 a b c d^{2} + 2 b^{2} c^{2} d + b c d^{3}$"
      ],
      "text/plain": [
       "a**5 + 4*a**3*b*c + 3*a**2*b*c*d + 3*a*b**2*c**2 + 2*a*b*c*d**2 + 2*b**2*c**2*d + b*c*d**3"
      ]
     },
     "execution_count": 46,
     "metadata": {},
     "output_type": "execute_result"
    }
   ],
   "source": [
    "formula = (L**5)[0, 0]\n",
    "formula"
   ]
  },
  {
   "cell_type": "code",
   "execution_count": 47,
   "id": "2863f3be-4ae0-47ea-adba-155460c70947",
   "metadata": {},
   "outputs": [
    {
     "data": {
      "image/svg+xml": [
       "<?xml version=\"1.0\" encoding=\"UTF-8\" standalone=\"no\"?>\n",
       "<!DOCTYPE svg PUBLIC \"-//W3C//DTD SVG 1.1//EN\"\n",
       " \"http://www.w3.org/Graphics/SVG/1.1/DTD/svg11.dtd\">\n",
       "<!-- Generated by graphviz version 6.0.1 (0)\n",
       " -->\n",
       "<!-- Pages: 1 -->\n",
       "<svg width=\"1970pt\" height=\"260pt\"\n",
       " viewBox=\"0.00 0.00 1970.00 260.00\" xmlns=\"http://www.w3.org/2000/svg\" xmlns:xlink=\"http://www.w3.org/1999/xlink\">\n",
       "<g id=\"graph0\" class=\"graph\" transform=\"scale(1 1) rotate(0) translate(4 256)\">\n",
       "<polygon fill=\"white\" stroke=\"none\" points=\"-4,4 -4,-256 1966,-256 1966,4 -4,4\"/>\n",
       "<!-- Add(Pow(Symbol(&#39;a&#39;), Integer(5)), Mul(Symbol(&#39;b&#39;), Symbol(&#39;c&#39;), Pow(Symbol(&#39;d&#39;), Integer(3))), Mul(Integer(2), Symbol(&#39;d&#39;), Pow(Symbol(&#39;b&#39;), Integer(2)), Pow(Symbol(&#39;c&#39;), Integer(2))), Mul(Integer(3), Symbol(&#39;a&#39;), Pow(Symbol(&#39;b&#39;), Integer(2)), Pow(Symbol(&#39;c&#39;), Integer(2))), Mul(Integer(4), Symbol(&#39;b&#39;), Symbol(&#39;c&#39;), Pow(Symbol(&#39;a&#39;), Integer(3))), Mul(Integer(2), Symbol(&#39;a&#39;), Symbol(&#39;b&#39;), Symbol(&#39;c&#39;), Pow(Symbol(&#39;d&#39;), Integer(2))), Mul(Integer(3), Symbol(&#39;b&#39;), Symbol(&#39;c&#39;), Symbol(&#39;d&#39;), Pow(Symbol(&#39;a&#39;), Integer(2))))_() -->\n",
       "<g id=\"node1\" class=\"node\">\n",
       "<title>Add(Pow(Symbol(&#39;a&#39;), Integer(5)), Mul(Symbol(&#39;b&#39;), Symbol(&#39;c&#39;), Pow(Symbol(&#39;d&#39;), Integer(3))), Mul(Integer(2), Symbol(&#39;d&#39;), Pow(Symbol(&#39;b&#39;), Integer(2)), Pow(Symbol(&#39;c&#39;), Integer(2))), Mul(Integer(3), Symbol(&#39;a&#39;), Pow(Symbol(&#39;b&#39;), Integer(2)), Pow(Symbol(&#39;c&#39;), Integer(2))), Mul(Integer(4), Symbol(&#39;b&#39;), Symbol(&#39;c&#39;), Pow(Symbol(&#39;a&#39;), Integer(3))), Mul(Integer(2), Symbol(&#39;a&#39;), Symbol(&#39;b&#39;), Symbol(&#39;c&#39;), Pow(Symbol(&#39;d&#39;), Integer(2))), Mul(Integer(3), Symbol(&#39;b&#39;), Symbol(&#39;c&#39;), Symbol(&#39;d&#39;), Pow(Symbol(&#39;a&#39;), Integer(2))))_()</title>\n",
       "<ellipse fill=\"none\" stroke=\"black\" cx=\"783\" cy=\"-234\" rx=\"27\" ry=\"18\"/>\n",
       "<text text-anchor=\"middle\" x=\"783\" y=\"-230.3\" font-family=\"Times New Roman,serif\" font-size=\"14.00\">Add</text>\n",
       "</g>\n",
       "<!-- Pow(Symbol(&#39;a&#39;), Integer(5))_(0,) -->\n",
       "<g id=\"node2\" class=\"node\">\n",
       "<title>Pow(Symbol(&#39;a&#39;), Integer(5))_(0,)</title>\n",
       "<ellipse fill=\"none\" stroke=\"black\" cx=\"99\" cy=\"-162\" rx=\"27\" ry=\"18\"/>\n",
       "<text text-anchor=\"middle\" x=\"99\" y=\"-158.3\" font-family=\"Times New Roman,serif\" font-size=\"14.00\">Pow</text>\n",
       "</g>\n",
       "<!-- Add(Pow(Symbol(&#39;a&#39;), Integer(5)), Mul(Symbol(&#39;b&#39;), Symbol(&#39;c&#39;), Pow(Symbol(&#39;d&#39;), Integer(3))), Mul(Integer(2), Symbol(&#39;d&#39;), Pow(Symbol(&#39;b&#39;), Integer(2)), Pow(Symbol(&#39;c&#39;), Integer(2))), Mul(Integer(3), Symbol(&#39;a&#39;), Pow(Symbol(&#39;b&#39;), Integer(2)), Pow(Symbol(&#39;c&#39;), Integer(2))), Mul(Integer(4), Symbol(&#39;b&#39;), Symbol(&#39;c&#39;), Pow(Symbol(&#39;a&#39;), Integer(3))), Mul(Integer(2), Symbol(&#39;a&#39;), Symbol(&#39;b&#39;), Symbol(&#39;c&#39;), Pow(Symbol(&#39;d&#39;), Integer(2))), Mul(Integer(3), Symbol(&#39;b&#39;), Symbol(&#39;c&#39;), Symbol(&#39;d&#39;), Pow(Symbol(&#39;a&#39;), Integer(2))))_()&#45;&gt;Pow(Symbol(&#39;a&#39;), Integer(5))_(0,) -->\n",
       "<g id=\"edge1\" class=\"edge\">\n",
       "<title>Add(Pow(Symbol(&#39;a&#39;), Integer(5)), Mul(Symbol(&#39;b&#39;), Symbol(&#39;c&#39;), Pow(Symbol(&#39;d&#39;), Integer(3))), Mul(Integer(2), Symbol(&#39;d&#39;), Pow(Symbol(&#39;b&#39;), Integer(2)), Pow(Symbol(&#39;c&#39;), Integer(2))), Mul(Integer(3), Symbol(&#39;a&#39;), Pow(Symbol(&#39;b&#39;), Integer(2)), Pow(Symbol(&#39;c&#39;), Integer(2))), Mul(Integer(4), Symbol(&#39;b&#39;), Symbol(&#39;c&#39;), Pow(Symbol(&#39;a&#39;), Integer(3))), Mul(Integer(2), Symbol(&#39;a&#39;), Symbol(&#39;b&#39;), Symbol(&#39;c&#39;), Pow(Symbol(&#39;d&#39;), Integer(2))), Mul(Integer(3), Symbol(&#39;b&#39;), Symbol(&#39;c&#39;), Symbol(&#39;d&#39;), Pow(Symbol(&#39;a&#39;), Integer(2))))_()&#45;&gt;Pow(Symbol(&#39;a&#39;), Integer(5))_(0,)</title>\n",
       "<path fill=\"none\" stroke=\"black\" d=\"M756.29,-230.57C677.62,-223.36 439.91,-201.28 243,-180 206.33,-176.04 164.47,-171.04 135.37,-167.49\"/>\n",
       "<polygon fill=\"black\" stroke=\"black\" points=\"135.61,-164 125.26,-166.26 134.76,-170.95 135.61,-164\"/>\n",
       "</g>\n",
       "<!-- Mul(Symbol(&#39;b&#39;), Symbol(&#39;c&#39;), Pow(Symbol(&#39;d&#39;), Integer(3)))_(1,) -->\n",
       "<g id=\"node5\" class=\"node\">\n",
       "<title>Mul(Symbol(&#39;b&#39;), Symbol(&#39;c&#39;), Pow(Symbol(&#39;d&#39;), Integer(3)))_(1,)</title>\n",
       "<ellipse fill=\"none\" stroke=\"black\" cx=\"279\" cy=\"-162\" rx=\"27\" ry=\"18\"/>\n",
       "<text text-anchor=\"middle\" x=\"279\" y=\"-158.3\" font-family=\"Times New Roman,serif\" font-size=\"14.00\">Mul</text>\n",
       "</g>\n",
       "<!-- Add(Pow(Symbol(&#39;a&#39;), Integer(5)), Mul(Symbol(&#39;b&#39;), Symbol(&#39;c&#39;), Pow(Symbol(&#39;d&#39;), Integer(3))), Mul(Integer(2), Symbol(&#39;d&#39;), Pow(Symbol(&#39;b&#39;), Integer(2)), Pow(Symbol(&#39;c&#39;), Integer(2))), Mul(Integer(3), Symbol(&#39;a&#39;), Pow(Symbol(&#39;b&#39;), Integer(2)), Pow(Symbol(&#39;c&#39;), Integer(2))), Mul(Integer(4), Symbol(&#39;b&#39;), Symbol(&#39;c&#39;), Pow(Symbol(&#39;a&#39;), Integer(3))), Mul(Integer(2), Symbol(&#39;a&#39;), Symbol(&#39;b&#39;), Symbol(&#39;c&#39;), Pow(Symbol(&#39;d&#39;), Integer(2))), Mul(Integer(3), Symbol(&#39;b&#39;), Symbol(&#39;c&#39;), Symbol(&#39;d&#39;), Pow(Symbol(&#39;a&#39;), Integer(2))))_()&#45;&gt;Mul(Symbol(&#39;b&#39;), Symbol(&#39;c&#39;), Pow(Symbol(&#39;d&#39;), Integer(3)))_(1,) -->\n",
       "<g id=\"edge2\" class=\"edge\">\n",
       "<title>Add(Pow(Symbol(&#39;a&#39;), Integer(5)), Mul(Symbol(&#39;b&#39;), Symbol(&#39;c&#39;), Pow(Symbol(&#39;d&#39;), Integer(3))), Mul(Integer(2), Symbol(&#39;d&#39;), Pow(Symbol(&#39;b&#39;), Integer(2)), Pow(Symbol(&#39;c&#39;), Integer(2))), Mul(Integer(3), Symbol(&#39;a&#39;), Pow(Symbol(&#39;b&#39;), Integer(2)), Pow(Symbol(&#39;c&#39;), Integer(2))), Mul(Integer(4), Symbol(&#39;b&#39;), Symbol(&#39;c&#39;), Pow(Symbol(&#39;a&#39;), Integer(3))), Mul(Integer(2), Symbol(&#39;a&#39;), Symbol(&#39;b&#39;), Symbol(&#39;c&#39;), Pow(Symbol(&#39;d&#39;), Integer(2))), Mul(Integer(3), Symbol(&#39;b&#39;), Symbol(&#39;c&#39;), Symbol(&#39;d&#39;), Pow(Symbol(&#39;a&#39;), Integer(2))))_()&#45;&gt;Mul(Symbol(&#39;b&#39;), Symbol(&#39;c&#39;), Pow(Symbol(&#39;d&#39;), Integer(3)))_(1,)</title>\n",
       "<path fill=\"none\" stroke=\"black\" d=\"M756.61,-229.34C672.67,-217.68 411.66,-181.42 315.26,-168.04\"/>\n",
       "<polygon fill=\"black\" stroke=\"black\" points=\"315.51,-164.54 305.13,-166.63 314.55,-171.47 315.51,-164.54\"/>\n",
       "</g>\n",
       "<!-- Mul(Integer(2), Symbol(&#39;d&#39;), Pow(Symbol(&#39;b&#39;), Integer(2)), Pow(Symbol(&#39;c&#39;), Integer(2)))_(2,) -->\n",
       "<g id=\"node11\" class=\"node\">\n",
       "<title>Mul(Integer(2), Symbol(&#39;d&#39;), Pow(Symbol(&#39;b&#39;), Integer(2)), Pow(Symbol(&#39;c&#39;), Integer(2)))_(2,)</title>\n",
       "<ellipse fill=\"none\" stroke=\"black\" cx=\"531\" cy=\"-162\" rx=\"27\" ry=\"18\"/>\n",
       "<text text-anchor=\"middle\" x=\"531\" y=\"-158.3\" font-family=\"Times New Roman,serif\" font-size=\"14.00\">Mul</text>\n",
       "</g>\n",
       "<!-- Add(Pow(Symbol(&#39;a&#39;), Integer(5)), Mul(Symbol(&#39;b&#39;), Symbol(&#39;c&#39;), Pow(Symbol(&#39;d&#39;), Integer(3))), Mul(Integer(2), Symbol(&#39;d&#39;), Pow(Symbol(&#39;b&#39;), Integer(2)), Pow(Symbol(&#39;c&#39;), Integer(2))), Mul(Integer(3), Symbol(&#39;a&#39;), Pow(Symbol(&#39;b&#39;), Integer(2)), Pow(Symbol(&#39;c&#39;), Integer(2))), Mul(Integer(4), Symbol(&#39;b&#39;), Symbol(&#39;c&#39;), Pow(Symbol(&#39;a&#39;), Integer(3))), Mul(Integer(2), Symbol(&#39;a&#39;), Symbol(&#39;b&#39;), Symbol(&#39;c&#39;), Pow(Symbol(&#39;d&#39;), Integer(2))), Mul(Integer(3), Symbol(&#39;b&#39;), Symbol(&#39;c&#39;), Symbol(&#39;d&#39;), Pow(Symbol(&#39;a&#39;), Integer(2))))_()&#45;&gt;Mul(Integer(2), Symbol(&#39;d&#39;), Pow(Symbol(&#39;b&#39;), Integer(2)), Pow(Symbol(&#39;c&#39;), Integer(2)))_(2,) -->\n",
       "<g id=\"edge3\" class=\"edge\">\n",
       "<title>Add(Pow(Symbol(&#39;a&#39;), Integer(5)), Mul(Symbol(&#39;b&#39;), Symbol(&#39;c&#39;), Pow(Symbol(&#39;d&#39;), Integer(3))), Mul(Integer(2), Symbol(&#39;d&#39;), Pow(Symbol(&#39;b&#39;), Integer(2)), Pow(Symbol(&#39;c&#39;), Integer(2))), Mul(Integer(3), Symbol(&#39;a&#39;), Pow(Symbol(&#39;b&#39;), Integer(2)), Pow(Symbol(&#39;c&#39;), Integer(2))), Mul(Integer(4), Symbol(&#39;b&#39;), Symbol(&#39;c&#39;), Pow(Symbol(&#39;a&#39;), Integer(3))), Mul(Integer(2), Symbol(&#39;a&#39;), Symbol(&#39;b&#39;), Symbol(&#39;c&#39;), Pow(Symbol(&#39;d&#39;), Integer(2))), Mul(Integer(3), Symbol(&#39;b&#39;), Symbol(&#39;c&#39;), Symbol(&#39;d&#39;), Pow(Symbol(&#39;a&#39;), Integer(2))))_()&#45;&gt;Mul(Integer(2), Symbol(&#39;d&#39;), Pow(Symbol(&#39;b&#39;), Integer(2)), Pow(Symbol(&#39;c&#39;), Integer(2)))_(2,)</title>\n",
       "<path fill=\"none\" stroke=\"black\" d=\"M758.38,-226.16C713.21,-213.61 617.03,-186.9 565.42,-172.56\"/>\n",
       "<polygon fill=\"black\" stroke=\"black\" points=\"566.29,-169.17 555.72,-169.87 564.42,-175.92 566.29,-169.17\"/>\n",
       "</g>\n",
       "<!-- Mul(Integer(3), Symbol(&#39;a&#39;), Pow(Symbol(&#39;b&#39;), Integer(2)), Pow(Symbol(&#39;c&#39;), Integer(2)))_(3,) -->\n",
       "<g id=\"node20\" class=\"node\">\n",
       "<title>Mul(Integer(3), Symbol(&#39;a&#39;), Pow(Symbol(&#39;b&#39;), Integer(2)), Pow(Symbol(&#39;c&#39;), Integer(2)))_(3,)</title>\n",
       "<ellipse fill=\"none\" stroke=\"black\" cx=\"783\" cy=\"-162\" rx=\"27\" ry=\"18\"/>\n",
       "<text text-anchor=\"middle\" x=\"783\" y=\"-158.3\" font-family=\"Times New Roman,serif\" font-size=\"14.00\">Mul</text>\n",
       "</g>\n",
       "<!-- Add(Pow(Symbol(&#39;a&#39;), Integer(5)), Mul(Symbol(&#39;b&#39;), Symbol(&#39;c&#39;), Pow(Symbol(&#39;d&#39;), Integer(3))), Mul(Integer(2), Symbol(&#39;d&#39;), Pow(Symbol(&#39;b&#39;), Integer(2)), Pow(Symbol(&#39;c&#39;), Integer(2))), Mul(Integer(3), Symbol(&#39;a&#39;), Pow(Symbol(&#39;b&#39;), Integer(2)), Pow(Symbol(&#39;c&#39;), Integer(2))), Mul(Integer(4), Symbol(&#39;b&#39;), Symbol(&#39;c&#39;), Pow(Symbol(&#39;a&#39;), Integer(3))), Mul(Integer(2), Symbol(&#39;a&#39;), Symbol(&#39;b&#39;), Symbol(&#39;c&#39;), Pow(Symbol(&#39;d&#39;), Integer(2))), Mul(Integer(3), Symbol(&#39;b&#39;), Symbol(&#39;c&#39;), Symbol(&#39;d&#39;), Pow(Symbol(&#39;a&#39;), Integer(2))))_()&#45;&gt;Mul(Integer(3), Symbol(&#39;a&#39;), Pow(Symbol(&#39;b&#39;), Integer(2)), Pow(Symbol(&#39;c&#39;), Integer(2)))_(3,) -->\n",
       "<g id=\"edge4\" class=\"edge\">\n",
       "<title>Add(Pow(Symbol(&#39;a&#39;), Integer(5)), Mul(Symbol(&#39;b&#39;), Symbol(&#39;c&#39;), Pow(Symbol(&#39;d&#39;), Integer(3))), Mul(Integer(2), Symbol(&#39;d&#39;), Pow(Symbol(&#39;b&#39;), Integer(2)), Pow(Symbol(&#39;c&#39;), Integer(2))), Mul(Integer(3), Symbol(&#39;a&#39;), Pow(Symbol(&#39;b&#39;), Integer(2)), Pow(Symbol(&#39;c&#39;), Integer(2))), Mul(Integer(4), Symbol(&#39;b&#39;), Symbol(&#39;c&#39;), Pow(Symbol(&#39;a&#39;), Integer(3))), Mul(Integer(2), Symbol(&#39;a&#39;), Symbol(&#39;b&#39;), Symbol(&#39;c&#39;), Pow(Symbol(&#39;d&#39;), Integer(2))), Mul(Integer(3), Symbol(&#39;b&#39;), Symbol(&#39;c&#39;), Symbol(&#39;d&#39;), Pow(Symbol(&#39;a&#39;), Integer(2))))_()&#45;&gt;Mul(Integer(3), Symbol(&#39;a&#39;), Pow(Symbol(&#39;b&#39;), Integer(2)), Pow(Symbol(&#39;c&#39;), Integer(2)))_(3,)</title>\n",
       "<path fill=\"none\" stroke=\"black\" d=\"M783,-215.7C783,-207.98 783,-198.71 783,-190.11\"/>\n",
       "<polygon fill=\"black\" stroke=\"black\" points=\"786.5,-190.1 783,-180.1 779.5,-190.1 786.5,-190.1\"/>\n",
       "</g>\n",
       "<!-- Mul(Integer(4), Symbol(&#39;b&#39;), Symbol(&#39;c&#39;), Pow(Symbol(&#39;a&#39;), Integer(3)))_(4,) -->\n",
       "<g id=\"node29\" class=\"node\">\n",
       "<title>Mul(Integer(4), Symbol(&#39;b&#39;), Symbol(&#39;c&#39;), Pow(Symbol(&#39;a&#39;), Integer(3)))_(4,)</title>\n",
       "<ellipse fill=\"none\" stroke=\"black\" cx=\"1035\" cy=\"-162\" rx=\"27\" ry=\"18\"/>\n",
       "<text text-anchor=\"middle\" x=\"1035\" y=\"-158.3\" font-family=\"Times New Roman,serif\" font-size=\"14.00\">Mul</text>\n",
       "</g>\n",
       "<!-- Add(Pow(Symbol(&#39;a&#39;), Integer(5)), Mul(Symbol(&#39;b&#39;), Symbol(&#39;c&#39;), Pow(Symbol(&#39;d&#39;), Integer(3))), Mul(Integer(2), Symbol(&#39;d&#39;), Pow(Symbol(&#39;b&#39;), Integer(2)), Pow(Symbol(&#39;c&#39;), Integer(2))), Mul(Integer(3), Symbol(&#39;a&#39;), Pow(Symbol(&#39;b&#39;), Integer(2)), Pow(Symbol(&#39;c&#39;), Integer(2))), Mul(Integer(4), Symbol(&#39;b&#39;), Symbol(&#39;c&#39;), Pow(Symbol(&#39;a&#39;), Integer(3))), Mul(Integer(2), Symbol(&#39;a&#39;), Symbol(&#39;b&#39;), Symbol(&#39;c&#39;), Pow(Symbol(&#39;d&#39;), Integer(2))), Mul(Integer(3), Symbol(&#39;b&#39;), Symbol(&#39;c&#39;), Symbol(&#39;d&#39;), Pow(Symbol(&#39;a&#39;), Integer(2))))_()&#45;&gt;Mul(Integer(4), Symbol(&#39;b&#39;), Symbol(&#39;c&#39;), Pow(Symbol(&#39;a&#39;), Integer(3)))_(4,) -->\n",
       "<g id=\"edge5\" class=\"edge\">\n",
       "<title>Add(Pow(Symbol(&#39;a&#39;), Integer(5)), Mul(Symbol(&#39;b&#39;), Symbol(&#39;c&#39;), Pow(Symbol(&#39;d&#39;), Integer(3))), Mul(Integer(2), Symbol(&#39;d&#39;), Pow(Symbol(&#39;b&#39;), Integer(2)), Pow(Symbol(&#39;c&#39;), Integer(2))), Mul(Integer(3), Symbol(&#39;a&#39;), Pow(Symbol(&#39;b&#39;), Integer(2)), Pow(Symbol(&#39;c&#39;), Integer(2))), Mul(Integer(4), Symbol(&#39;b&#39;), Symbol(&#39;c&#39;), Pow(Symbol(&#39;a&#39;), Integer(3))), Mul(Integer(2), Symbol(&#39;a&#39;), Symbol(&#39;b&#39;), Symbol(&#39;c&#39;), Pow(Symbol(&#39;d&#39;), Integer(2))), Mul(Integer(3), Symbol(&#39;b&#39;), Symbol(&#39;c&#39;), Symbol(&#39;d&#39;), Pow(Symbol(&#39;a&#39;), Integer(2))))_()&#45;&gt;Mul(Integer(4), Symbol(&#39;b&#39;), Symbol(&#39;c&#39;), Pow(Symbol(&#39;a&#39;), Integer(3)))_(4,)</title>\n",
       "<path fill=\"none\" stroke=\"black\" d=\"M807.62,-226.16C852.79,-213.61 948.97,-186.9 1000.58,-172.56\"/>\n",
       "<polygon fill=\"black\" stroke=\"black\" points=\"1001.58,-175.92 1010.28,-169.87 999.71,-169.17 1001.58,-175.92\"/>\n",
       "</g>\n",
       "<!-- Mul(Integer(2), Symbol(&#39;a&#39;), Symbol(&#39;b&#39;), Symbol(&#39;c&#39;), Pow(Symbol(&#39;d&#39;), Integer(2)))_(5,) -->\n",
       "<g id=\"node36\" class=\"node\">\n",
       "<title>Mul(Integer(2), Symbol(&#39;a&#39;), Symbol(&#39;b&#39;), Symbol(&#39;c&#39;), Pow(Symbol(&#39;d&#39;), Integer(2)))_(5,)</title>\n",
       "<ellipse fill=\"none\" stroke=\"black\" cx=\"1359\" cy=\"-162\" rx=\"27\" ry=\"18\"/>\n",
       "<text text-anchor=\"middle\" x=\"1359\" y=\"-158.3\" font-family=\"Times New Roman,serif\" font-size=\"14.00\">Mul</text>\n",
       "</g>\n",
       "<!-- Add(Pow(Symbol(&#39;a&#39;), Integer(5)), Mul(Symbol(&#39;b&#39;), Symbol(&#39;c&#39;), Pow(Symbol(&#39;d&#39;), Integer(3))), Mul(Integer(2), Symbol(&#39;d&#39;), Pow(Symbol(&#39;b&#39;), Integer(2)), Pow(Symbol(&#39;c&#39;), Integer(2))), Mul(Integer(3), Symbol(&#39;a&#39;), Pow(Symbol(&#39;b&#39;), Integer(2)), Pow(Symbol(&#39;c&#39;), Integer(2))), Mul(Integer(4), Symbol(&#39;b&#39;), Symbol(&#39;c&#39;), Pow(Symbol(&#39;a&#39;), Integer(3))), Mul(Integer(2), Symbol(&#39;a&#39;), Symbol(&#39;b&#39;), Symbol(&#39;c&#39;), Pow(Symbol(&#39;d&#39;), Integer(2))), Mul(Integer(3), Symbol(&#39;b&#39;), Symbol(&#39;c&#39;), Symbol(&#39;d&#39;), Pow(Symbol(&#39;a&#39;), Integer(2))))_()&#45;&gt;Mul(Integer(2), Symbol(&#39;a&#39;), Symbol(&#39;b&#39;), Symbol(&#39;c&#39;), Pow(Symbol(&#39;d&#39;), Integer(2)))_(5,) -->\n",
       "<g id=\"edge6\" class=\"edge\">\n",
       "<title>Add(Pow(Symbol(&#39;a&#39;), Integer(5)), Mul(Symbol(&#39;b&#39;), Symbol(&#39;c&#39;), Pow(Symbol(&#39;d&#39;), Integer(3))), Mul(Integer(2), Symbol(&#39;d&#39;), Pow(Symbol(&#39;b&#39;), Integer(2)), Pow(Symbol(&#39;c&#39;), Integer(2))), Mul(Integer(3), Symbol(&#39;a&#39;), Pow(Symbol(&#39;b&#39;), Integer(2)), Pow(Symbol(&#39;c&#39;), Integer(2))), Mul(Integer(4), Symbol(&#39;b&#39;), Symbol(&#39;c&#39;), Pow(Symbol(&#39;a&#39;), Integer(3))), Mul(Integer(2), Symbol(&#39;a&#39;), Symbol(&#39;b&#39;), Symbol(&#39;c&#39;), Pow(Symbol(&#39;d&#39;), Integer(2))), Mul(Integer(3), Symbol(&#39;b&#39;), Symbol(&#39;c&#39;), Symbol(&#39;d&#39;), Pow(Symbol(&#39;a&#39;), Integer(2))))_()&#45;&gt;Mul(Integer(2), Symbol(&#39;a&#39;), Symbol(&#39;b&#39;), Symbol(&#39;c&#39;), Pow(Symbol(&#39;d&#39;), Integer(2)))_(5,)</title>\n",
       "<path fill=\"none\" stroke=\"black\" d=\"M809.63,-229.76C902.98,-218.42 1215.59,-180.43 1322.66,-167.42\"/>\n",
       "<polygon fill=\"black\" stroke=\"black\" points=\"1323.15,-170.88 1332.66,-166.2 1322.31,-163.93 1323.15,-170.88\"/>\n",
       "</g>\n",
       "<!-- Mul(Integer(3), Symbol(&#39;b&#39;), Symbol(&#39;c&#39;), Symbol(&#39;d&#39;), Pow(Symbol(&#39;a&#39;), Integer(2)))_(6,) -->\n",
       "<g id=\"node44\" class=\"node\">\n",
       "<title>Mul(Integer(3), Symbol(&#39;b&#39;), Symbol(&#39;c&#39;), Symbol(&#39;d&#39;), Pow(Symbol(&#39;a&#39;), Integer(2)))_(6,)</title>\n",
       "<ellipse fill=\"none\" stroke=\"black\" cx=\"1719\" cy=\"-162\" rx=\"27\" ry=\"18\"/>\n",
       "<text text-anchor=\"middle\" x=\"1719\" y=\"-158.3\" font-family=\"Times New Roman,serif\" font-size=\"14.00\">Mul</text>\n",
       "</g>\n",
       "<!-- Add(Pow(Symbol(&#39;a&#39;), Integer(5)), Mul(Symbol(&#39;b&#39;), Symbol(&#39;c&#39;), Pow(Symbol(&#39;d&#39;), Integer(3))), Mul(Integer(2), Symbol(&#39;d&#39;), Pow(Symbol(&#39;b&#39;), Integer(2)), Pow(Symbol(&#39;c&#39;), Integer(2))), Mul(Integer(3), Symbol(&#39;a&#39;), Pow(Symbol(&#39;b&#39;), Integer(2)), Pow(Symbol(&#39;c&#39;), Integer(2))), Mul(Integer(4), Symbol(&#39;b&#39;), Symbol(&#39;c&#39;), Pow(Symbol(&#39;a&#39;), Integer(3))), Mul(Integer(2), Symbol(&#39;a&#39;), Symbol(&#39;b&#39;), Symbol(&#39;c&#39;), Pow(Symbol(&#39;d&#39;), Integer(2))), Mul(Integer(3), Symbol(&#39;b&#39;), Symbol(&#39;c&#39;), Symbol(&#39;d&#39;), Pow(Symbol(&#39;a&#39;), Integer(2))))_()&#45;&gt;Mul(Integer(3), Symbol(&#39;b&#39;), Symbol(&#39;c&#39;), Symbol(&#39;d&#39;), Pow(Symbol(&#39;a&#39;), Integer(2)))_(6,) -->\n",
       "<g id=\"edge7\" class=\"edge\">\n",
       "<title>Add(Pow(Symbol(&#39;a&#39;), Integer(5)), Mul(Symbol(&#39;b&#39;), Symbol(&#39;c&#39;), Pow(Symbol(&#39;d&#39;), Integer(3))), Mul(Integer(2), Symbol(&#39;d&#39;), Pow(Symbol(&#39;b&#39;), Integer(2)), Pow(Symbol(&#39;c&#39;), Integer(2))), Mul(Integer(3), Symbol(&#39;a&#39;), Pow(Symbol(&#39;b&#39;), Integer(2)), Pow(Symbol(&#39;c&#39;), Integer(2))), Mul(Integer(4), Symbol(&#39;b&#39;), Symbol(&#39;c&#39;), Pow(Symbol(&#39;a&#39;), Integer(3))), Mul(Integer(2), Symbol(&#39;a&#39;), Symbol(&#39;b&#39;), Symbol(&#39;c&#39;), Pow(Symbol(&#39;d&#39;), Integer(2))), Mul(Integer(3), Symbol(&#39;b&#39;), Symbol(&#39;c&#39;), Symbol(&#39;d&#39;), Pow(Symbol(&#39;a&#39;), Integer(2))))_()&#45;&gt;Mul(Integer(3), Symbol(&#39;b&#39;), Symbol(&#39;c&#39;), Symbol(&#39;d&#39;), Pow(Symbol(&#39;a&#39;), Integer(2)))_(6,)</title>\n",
       "<path fill=\"none\" stroke=\"black\" d=\"M810,-230.98C943.04,-221.03 1528.53,-177.24 1682.04,-165.76\"/>\n",
       "<polygon fill=\"black\" stroke=\"black\" points=\"1682.62,-169.23 1692.34,-164.99 1682.1,-162.25 1682.62,-169.23\"/>\n",
       "</g>\n",
       "<!-- Symbol(&#39;a&#39;)_(0, 0) -->\n",
       "<g id=\"node3\" class=\"node\">\n",
       "<title>Symbol(&#39;a&#39;)_(0, 0)</title>\n",
       "<ellipse fill=\"none\" stroke=\"black\" cx=\"27\" cy=\"-90\" rx=\"27\" ry=\"18\"/>\n",
       "<text text-anchor=\"middle\" x=\"27\" y=\"-86.3\" font-family=\"Times New Roman,serif\" font-size=\"14.00\">a</text>\n",
       "</g>\n",
       "<!-- Pow(Symbol(&#39;a&#39;), Integer(5))_(0,)&#45;&gt;Symbol(&#39;a&#39;)_(0, 0) -->\n",
       "<g id=\"edge8\" class=\"edge\">\n",
       "<title>Pow(Symbol(&#39;a&#39;), Integer(5))_(0,)&#45;&gt;Symbol(&#39;a&#39;)_(0, 0)</title>\n",
       "<path fill=\"none\" stroke=\"black\" d=\"M84.43,-146.83C74.25,-136.94 60.48,-123.55 48.97,-112.36\"/>\n",
       "<polygon fill=\"black\" stroke=\"black\" points=\"51.41,-109.85 41.8,-105.38 46.53,-114.87 51.41,-109.85\"/>\n",
       "</g>\n",
       "<!-- Integer(5)_(0, 1) -->\n",
       "<g id=\"node4\" class=\"node\">\n",
       "<title>Integer(5)_(0, 1)</title>\n",
       "<ellipse fill=\"none\" stroke=\"black\" cx=\"99\" cy=\"-90\" rx=\"27\" ry=\"18\"/>\n",
       "<text text-anchor=\"middle\" x=\"99\" y=\"-86.3\" font-family=\"Times New Roman,serif\" font-size=\"14.00\">5</text>\n",
       "</g>\n",
       "<!-- Pow(Symbol(&#39;a&#39;), Integer(5))_(0,)&#45;&gt;Integer(5)_(0, 1) -->\n",
       "<g id=\"edge9\" class=\"edge\">\n",
       "<title>Pow(Symbol(&#39;a&#39;), Integer(5))_(0,)&#45;&gt;Integer(5)_(0, 1)</title>\n",
       "<path fill=\"none\" stroke=\"black\" d=\"M99,-143.7C99,-135.98 99,-126.71 99,-118.11\"/>\n",
       "<polygon fill=\"black\" stroke=\"black\" points=\"102.5,-118.1 99,-108.1 95.5,-118.1 102.5,-118.1\"/>\n",
       "</g>\n",
       "<!-- Symbol(&#39;b&#39;)_(1, 0) -->\n",
       "<g id=\"node6\" class=\"node\">\n",
       "<title>Symbol(&#39;b&#39;)_(1, 0)</title>\n",
       "<ellipse fill=\"none\" stroke=\"black\" cx=\"171\" cy=\"-90\" rx=\"27\" ry=\"18\"/>\n",
       "<text text-anchor=\"middle\" x=\"171\" y=\"-86.3\" font-family=\"Times New Roman,serif\" font-size=\"14.00\">b</text>\n",
       "</g>\n",
       "<!-- Mul(Symbol(&#39;b&#39;), Symbol(&#39;c&#39;), Pow(Symbol(&#39;d&#39;), Integer(3)))_(1,)&#45;&gt;Symbol(&#39;b&#39;)_(1, 0) -->\n",
       "<g id=\"edge10\" class=\"edge\">\n",
       "<title>Mul(Symbol(&#39;b&#39;), Symbol(&#39;c&#39;), Pow(Symbol(&#39;d&#39;), Integer(3)))_(1,)&#45;&gt;Symbol(&#39;b&#39;)_(1, 0)</title>\n",
       "<path fill=\"none\" stroke=\"black\" d=\"M260.19,-148.81C243,-137.67 217.38,-121.06 198.01,-108.5\"/>\n",
       "<polygon fill=\"black\" stroke=\"black\" points=\"199.89,-105.56 189.6,-103.05 196.08,-111.43 199.89,-105.56\"/>\n",
       "</g>\n",
       "<!-- Symbol(&#39;c&#39;)_(1, 1) -->\n",
       "<g id=\"node7\" class=\"node\">\n",
       "<title>Symbol(&#39;c&#39;)_(1, 1)</title>\n",
       "<ellipse fill=\"none\" stroke=\"black\" cx=\"243\" cy=\"-90\" rx=\"27\" ry=\"18\"/>\n",
       "<text text-anchor=\"middle\" x=\"243\" y=\"-86.3\" font-family=\"Times New Roman,serif\" font-size=\"14.00\">c</text>\n",
       "</g>\n",
       "<!-- Mul(Symbol(&#39;b&#39;), Symbol(&#39;c&#39;), Pow(Symbol(&#39;d&#39;), Integer(3)))_(1,)&#45;&gt;Symbol(&#39;c&#39;)_(1, 1) -->\n",
       "<g id=\"edge11\" class=\"edge\">\n",
       "<title>Mul(Symbol(&#39;b&#39;), Symbol(&#39;c&#39;), Pow(Symbol(&#39;d&#39;), Integer(3)))_(1,)&#45;&gt;Symbol(&#39;c&#39;)_(1, 1)</title>\n",
       "<path fill=\"none\" stroke=\"black\" d=\"M270.65,-144.76C266.29,-136.28 260.85,-125.71 255.96,-116.2\"/>\n",
       "<polygon fill=\"black\" stroke=\"black\" points=\"258.99,-114.44 251.3,-107.15 252.77,-117.64 258.99,-114.44\"/>\n",
       "</g>\n",
       "<!-- Pow(Symbol(&#39;d&#39;), Integer(3))_(1, 2) -->\n",
       "<g id=\"node8\" class=\"node\">\n",
       "<title>Pow(Symbol(&#39;d&#39;), Integer(3))_(1, 2)</title>\n",
       "<ellipse fill=\"none\" stroke=\"black\" cx=\"315\" cy=\"-90\" rx=\"27\" ry=\"18\"/>\n",
       "<text text-anchor=\"middle\" x=\"315\" y=\"-86.3\" font-family=\"Times New Roman,serif\" font-size=\"14.00\">Pow</text>\n",
       "</g>\n",
       "<!-- Mul(Symbol(&#39;b&#39;), Symbol(&#39;c&#39;), Pow(Symbol(&#39;d&#39;), Integer(3)))_(1,)&#45;&gt;Pow(Symbol(&#39;d&#39;), Integer(3))_(1, 2) -->\n",
       "<g id=\"edge12\" class=\"edge\">\n",
       "<title>Mul(Symbol(&#39;b&#39;), Symbol(&#39;c&#39;), Pow(Symbol(&#39;d&#39;), Integer(3)))_(1,)&#45;&gt;Pow(Symbol(&#39;d&#39;), Integer(3))_(1, 2)</title>\n",
       "<path fill=\"none\" stroke=\"black\" d=\"M287.35,-144.76C291.71,-136.28 297.15,-125.71 302.04,-116.2\"/>\n",
       "<polygon fill=\"black\" stroke=\"black\" points=\"305.23,-117.64 306.7,-107.15 299.01,-114.44 305.23,-117.64\"/>\n",
       "</g>\n",
       "<!-- Symbol(&#39;d&#39;)_(1, 2, 0) -->\n",
       "<g id=\"node9\" class=\"node\">\n",
       "<title>Symbol(&#39;d&#39;)_(1, 2, 0)</title>\n",
       "<ellipse fill=\"none\" stroke=\"black\" cx=\"279\" cy=\"-18\" rx=\"27\" ry=\"18\"/>\n",
       "<text text-anchor=\"middle\" x=\"279\" y=\"-14.3\" font-family=\"Times New Roman,serif\" font-size=\"14.00\">d</text>\n",
       "</g>\n",
       "<!-- Pow(Symbol(&#39;d&#39;), Integer(3))_(1, 2)&#45;&gt;Symbol(&#39;d&#39;)_(1, 2, 0) -->\n",
       "<g id=\"edge13\" class=\"edge\">\n",
       "<title>Pow(Symbol(&#39;d&#39;), Integer(3))_(1, 2)&#45;&gt;Symbol(&#39;d&#39;)_(1, 2, 0)</title>\n",
       "<path fill=\"none\" stroke=\"black\" d=\"M306.65,-72.76C302.29,-64.28 296.85,-53.71 291.96,-44.2\"/>\n",
       "<polygon fill=\"black\" stroke=\"black\" points=\"294.99,-42.44 287.3,-35.15 288.77,-45.64 294.99,-42.44\"/>\n",
       "</g>\n",
       "<!-- Integer(3)_(1, 2, 1) -->\n",
       "<g id=\"node10\" class=\"node\">\n",
       "<title>Integer(3)_(1, 2, 1)</title>\n",
       "<ellipse fill=\"none\" stroke=\"black\" cx=\"351\" cy=\"-18\" rx=\"27\" ry=\"18\"/>\n",
       "<text text-anchor=\"middle\" x=\"351\" y=\"-14.3\" font-family=\"Times New Roman,serif\" font-size=\"14.00\">3</text>\n",
       "</g>\n",
       "<!-- Pow(Symbol(&#39;d&#39;), Integer(3))_(1, 2)&#45;&gt;Integer(3)_(1, 2, 1) -->\n",
       "<g id=\"edge14\" class=\"edge\">\n",
       "<title>Pow(Symbol(&#39;d&#39;), Integer(3))_(1, 2)&#45;&gt;Integer(3)_(1, 2, 1)</title>\n",
       "<path fill=\"none\" stroke=\"black\" d=\"M323.35,-72.76C327.71,-64.28 333.15,-53.71 338.04,-44.2\"/>\n",
       "<polygon fill=\"black\" stroke=\"black\" points=\"341.23,-45.64 342.7,-35.15 335.01,-42.44 341.23,-45.64\"/>\n",
       "</g>\n",
       "<!-- Integer(2)_(2, 0) -->\n",
       "<g id=\"node12\" class=\"node\">\n",
       "<title>Integer(2)_(2, 0)</title>\n",
       "<ellipse fill=\"none\" stroke=\"black\" cx=\"387\" cy=\"-90\" rx=\"27\" ry=\"18\"/>\n",
       "<text text-anchor=\"middle\" x=\"387\" y=\"-86.3\" font-family=\"Times New Roman,serif\" font-size=\"14.00\">2</text>\n",
       "</g>\n",
       "<!-- Mul(Integer(2), Symbol(&#39;d&#39;), Pow(Symbol(&#39;b&#39;), Integer(2)), Pow(Symbol(&#39;c&#39;), Integer(2)))_(2,)&#45;&gt;Integer(2)_(2, 0) -->\n",
       "<g id=\"edge15\" class=\"edge\">\n",
       "<title>Mul(Integer(2), Symbol(&#39;d&#39;), Pow(Symbol(&#39;b&#39;), Integer(2)), Pow(Symbol(&#39;c&#39;), Integer(2)))_(2,)&#45;&gt;Integer(2)_(2, 0)</title>\n",
       "<path fill=\"none\" stroke=\"black\" d=\"M509.75,-150.67C485.4,-138.83 445.28,-119.33 417.57,-105.86\"/>\n",
       "<polygon fill=\"black\" stroke=\"black\" points=\"418.86,-102.6 408.33,-101.37 415.8,-108.89 418.86,-102.6\"/>\n",
       "</g>\n",
       "<!-- Symbol(&#39;d&#39;)_(2, 1) -->\n",
       "<g id=\"node13\" class=\"node\">\n",
       "<title>Symbol(&#39;d&#39;)_(2, 1)</title>\n",
       "<ellipse fill=\"none\" stroke=\"black\" cx=\"459\" cy=\"-90\" rx=\"27\" ry=\"18\"/>\n",
       "<text text-anchor=\"middle\" x=\"459\" y=\"-86.3\" font-family=\"Times New Roman,serif\" font-size=\"14.00\">d</text>\n",
       "</g>\n",
       "<!-- Mul(Integer(2), Symbol(&#39;d&#39;), Pow(Symbol(&#39;b&#39;), Integer(2)), Pow(Symbol(&#39;c&#39;), Integer(2)))_(2,)&#45;&gt;Symbol(&#39;d&#39;)_(2, 1) -->\n",
       "<g id=\"edge16\" class=\"edge\">\n",
       "<title>Mul(Integer(2), Symbol(&#39;d&#39;), Pow(Symbol(&#39;b&#39;), Integer(2)), Pow(Symbol(&#39;c&#39;), Integer(2)))_(2,)&#45;&gt;Symbol(&#39;d&#39;)_(2, 1)</title>\n",
       "<path fill=\"none\" stroke=\"black\" d=\"M516.43,-146.83C506.25,-136.94 492.48,-123.55 480.97,-112.36\"/>\n",
       "<polygon fill=\"black\" stroke=\"black\" points=\"483.41,-109.85 473.8,-105.38 478.53,-114.87 483.41,-109.85\"/>\n",
       "</g>\n",
       "<!-- Pow(Symbol(&#39;b&#39;), Integer(2))_(2, 2) -->\n",
       "<g id=\"node14\" class=\"node\">\n",
       "<title>Pow(Symbol(&#39;b&#39;), Integer(2))_(2, 2)</title>\n",
       "<ellipse fill=\"none\" stroke=\"black\" cx=\"531\" cy=\"-90\" rx=\"27\" ry=\"18\"/>\n",
       "<text text-anchor=\"middle\" x=\"531\" y=\"-86.3\" font-family=\"Times New Roman,serif\" font-size=\"14.00\">Pow</text>\n",
       "</g>\n",
       "<!-- Mul(Integer(2), Symbol(&#39;d&#39;), Pow(Symbol(&#39;b&#39;), Integer(2)), Pow(Symbol(&#39;c&#39;), Integer(2)))_(2,)&#45;&gt;Pow(Symbol(&#39;b&#39;), Integer(2))_(2, 2) -->\n",
       "<g id=\"edge17\" class=\"edge\">\n",
       "<title>Mul(Integer(2), Symbol(&#39;d&#39;), Pow(Symbol(&#39;b&#39;), Integer(2)), Pow(Symbol(&#39;c&#39;), Integer(2)))_(2,)&#45;&gt;Pow(Symbol(&#39;b&#39;), Integer(2))_(2, 2)</title>\n",
       "<path fill=\"none\" stroke=\"black\" d=\"M531,-143.7C531,-135.98 531,-126.71 531,-118.11\"/>\n",
       "<polygon fill=\"black\" stroke=\"black\" points=\"534.5,-118.1 531,-108.1 527.5,-118.1 534.5,-118.1\"/>\n",
       "</g>\n",
       "<!-- Pow(Symbol(&#39;c&#39;), Integer(2))_(2, 3) -->\n",
       "<g id=\"node17\" class=\"node\">\n",
       "<title>Pow(Symbol(&#39;c&#39;), Integer(2))_(2, 3)</title>\n",
       "<ellipse fill=\"none\" stroke=\"black\" cx=\"603\" cy=\"-90\" rx=\"27\" ry=\"18\"/>\n",
       "<text text-anchor=\"middle\" x=\"603\" y=\"-86.3\" font-family=\"Times New Roman,serif\" font-size=\"14.00\">Pow</text>\n",
       "</g>\n",
       "<!-- Mul(Integer(2), Symbol(&#39;d&#39;), Pow(Symbol(&#39;b&#39;), Integer(2)), Pow(Symbol(&#39;c&#39;), Integer(2)))_(2,)&#45;&gt;Pow(Symbol(&#39;c&#39;), Integer(2))_(2, 3) -->\n",
       "<g id=\"edge18\" class=\"edge\">\n",
       "<title>Mul(Integer(2), Symbol(&#39;d&#39;), Pow(Symbol(&#39;b&#39;), Integer(2)), Pow(Symbol(&#39;c&#39;), Integer(2)))_(2,)&#45;&gt;Pow(Symbol(&#39;c&#39;), Integer(2))_(2, 3)</title>\n",
       "<path fill=\"none\" stroke=\"black\" d=\"M545.57,-146.83C555.75,-136.94 569.52,-123.55 581.03,-112.36\"/>\n",
       "<polygon fill=\"black\" stroke=\"black\" points=\"583.47,-114.87 588.2,-105.38 578.59,-109.85 583.47,-114.87\"/>\n",
       "</g>\n",
       "<!-- Symbol(&#39;b&#39;)_(2, 2, 0) -->\n",
       "<g id=\"node15\" class=\"node\">\n",
       "<title>Symbol(&#39;b&#39;)_(2, 2, 0)</title>\n",
       "<ellipse fill=\"none\" stroke=\"black\" cx=\"459\" cy=\"-18\" rx=\"27\" ry=\"18\"/>\n",
       "<text text-anchor=\"middle\" x=\"459\" y=\"-14.3\" font-family=\"Times New Roman,serif\" font-size=\"14.00\">b</text>\n",
       "</g>\n",
       "<!-- Pow(Symbol(&#39;b&#39;), Integer(2))_(2, 2)&#45;&gt;Symbol(&#39;b&#39;)_(2, 2, 0) -->\n",
       "<g id=\"edge19\" class=\"edge\">\n",
       "<title>Pow(Symbol(&#39;b&#39;), Integer(2))_(2, 2)&#45;&gt;Symbol(&#39;b&#39;)_(2, 2, 0)</title>\n",
       "<path fill=\"none\" stroke=\"black\" d=\"M516.43,-74.83C506.25,-64.94 492.48,-51.55 480.97,-40.36\"/>\n",
       "<polygon fill=\"black\" stroke=\"black\" points=\"483.41,-37.85 473.8,-33.38 478.53,-42.87 483.41,-37.85\"/>\n",
       "</g>\n",
       "<!-- Integer(2)_(2, 2, 1) -->\n",
       "<g id=\"node16\" class=\"node\">\n",
       "<title>Integer(2)_(2, 2, 1)</title>\n",
       "<ellipse fill=\"none\" stroke=\"black\" cx=\"531\" cy=\"-18\" rx=\"27\" ry=\"18\"/>\n",
       "<text text-anchor=\"middle\" x=\"531\" y=\"-14.3\" font-family=\"Times New Roman,serif\" font-size=\"14.00\">2</text>\n",
       "</g>\n",
       "<!-- Pow(Symbol(&#39;b&#39;), Integer(2))_(2, 2)&#45;&gt;Integer(2)_(2, 2, 1) -->\n",
       "<g id=\"edge20\" class=\"edge\">\n",
       "<title>Pow(Symbol(&#39;b&#39;), Integer(2))_(2, 2)&#45;&gt;Integer(2)_(2, 2, 1)</title>\n",
       "<path fill=\"none\" stroke=\"black\" d=\"M531,-71.7C531,-63.98 531,-54.71 531,-46.11\"/>\n",
       "<polygon fill=\"black\" stroke=\"black\" points=\"534.5,-46.1 531,-36.1 527.5,-46.1 534.5,-46.1\"/>\n",
       "</g>\n",
       "<!-- Symbol(&#39;c&#39;)_(2, 3, 0) -->\n",
       "<g id=\"node18\" class=\"node\">\n",
       "<title>Symbol(&#39;c&#39;)_(2, 3, 0)</title>\n",
       "<ellipse fill=\"none\" stroke=\"black\" cx=\"603\" cy=\"-18\" rx=\"27\" ry=\"18\"/>\n",
       "<text text-anchor=\"middle\" x=\"603\" y=\"-14.3\" font-family=\"Times New Roman,serif\" font-size=\"14.00\">c</text>\n",
       "</g>\n",
       "<!-- Pow(Symbol(&#39;c&#39;), Integer(2))_(2, 3)&#45;&gt;Symbol(&#39;c&#39;)_(2, 3, 0) -->\n",
       "<g id=\"edge21\" class=\"edge\">\n",
       "<title>Pow(Symbol(&#39;c&#39;), Integer(2))_(2, 3)&#45;&gt;Symbol(&#39;c&#39;)_(2, 3, 0)</title>\n",
       "<path fill=\"none\" stroke=\"black\" d=\"M603,-71.7C603,-63.98 603,-54.71 603,-46.11\"/>\n",
       "<polygon fill=\"black\" stroke=\"black\" points=\"606.5,-46.1 603,-36.1 599.5,-46.1 606.5,-46.1\"/>\n",
       "</g>\n",
       "<!-- Integer(2)_(2, 3, 1) -->\n",
       "<g id=\"node19\" class=\"node\">\n",
       "<title>Integer(2)_(2, 3, 1)</title>\n",
       "<ellipse fill=\"none\" stroke=\"black\" cx=\"675\" cy=\"-18\" rx=\"27\" ry=\"18\"/>\n",
       "<text text-anchor=\"middle\" x=\"675\" y=\"-14.3\" font-family=\"Times New Roman,serif\" font-size=\"14.00\">2</text>\n",
       "</g>\n",
       "<!-- Pow(Symbol(&#39;c&#39;), Integer(2))_(2, 3)&#45;&gt;Integer(2)_(2, 3, 1) -->\n",
       "<g id=\"edge22\" class=\"edge\">\n",
       "<title>Pow(Symbol(&#39;c&#39;), Integer(2))_(2, 3)&#45;&gt;Integer(2)_(2, 3, 1)</title>\n",
       "<path fill=\"none\" stroke=\"black\" d=\"M617.57,-74.83C627.75,-64.94 641.52,-51.55 653.03,-40.36\"/>\n",
       "<polygon fill=\"black\" stroke=\"black\" points=\"655.47,-42.87 660.2,-33.38 650.59,-37.85 655.47,-42.87\"/>\n",
       "</g>\n",
       "<!-- Integer(3)_(3, 0) -->\n",
       "<g id=\"node21\" class=\"node\">\n",
       "<title>Integer(3)_(3, 0)</title>\n",
       "<ellipse fill=\"none\" stroke=\"black\" cx=\"675\" cy=\"-90\" rx=\"27\" ry=\"18\"/>\n",
       "<text text-anchor=\"middle\" x=\"675\" y=\"-86.3\" font-family=\"Times New Roman,serif\" font-size=\"14.00\">3</text>\n",
       "</g>\n",
       "<!-- Mul(Integer(3), Symbol(&#39;a&#39;), Pow(Symbol(&#39;b&#39;), Integer(2)), Pow(Symbol(&#39;c&#39;), Integer(2)))_(3,)&#45;&gt;Integer(3)_(3, 0) -->\n",
       "<g id=\"edge23\" class=\"edge\">\n",
       "<title>Mul(Integer(3), Symbol(&#39;a&#39;), Pow(Symbol(&#39;b&#39;), Integer(2)), Pow(Symbol(&#39;c&#39;), Integer(2)))_(3,)&#45;&gt;Integer(3)_(3, 0)</title>\n",
       "<path fill=\"none\" stroke=\"black\" d=\"M764.19,-148.81C747,-137.67 721.38,-121.06 702.01,-108.5\"/>\n",
       "<polygon fill=\"black\" stroke=\"black\" points=\"703.89,-105.56 693.6,-103.05 700.08,-111.43 703.89,-105.56\"/>\n",
       "</g>\n",
       "<!-- Symbol(&#39;a&#39;)_(3, 1) -->\n",
       "<g id=\"node22\" class=\"node\">\n",
       "<title>Symbol(&#39;a&#39;)_(3, 1)</title>\n",
       "<ellipse fill=\"none\" stroke=\"black\" cx=\"747\" cy=\"-90\" rx=\"27\" ry=\"18\"/>\n",
       "<text text-anchor=\"middle\" x=\"747\" y=\"-86.3\" font-family=\"Times New Roman,serif\" font-size=\"14.00\">a</text>\n",
       "</g>\n",
       "<!-- Mul(Integer(3), Symbol(&#39;a&#39;), Pow(Symbol(&#39;b&#39;), Integer(2)), Pow(Symbol(&#39;c&#39;), Integer(2)))_(3,)&#45;&gt;Symbol(&#39;a&#39;)_(3, 1) -->\n",
       "<g id=\"edge24\" class=\"edge\">\n",
       "<title>Mul(Integer(3), Symbol(&#39;a&#39;), Pow(Symbol(&#39;b&#39;), Integer(2)), Pow(Symbol(&#39;c&#39;), Integer(2)))_(3,)&#45;&gt;Symbol(&#39;a&#39;)_(3, 1)</title>\n",
       "<path fill=\"none\" stroke=\"black\" d=\"M774.65,-144.76C770.29,-136.28 764.85,-125.71 759.96,-116.2\"/>\n",
       "<polygon fill=\"black\" stroke=\"black\" points=\"762.99,-114.44 755.3,-107.15 756.77,-117.64 762.99,-114.44\"/>\n",
       "</g>\n",
       "<!-- Pow(Symbol(&#39;b&#39;), Integer(2))_(3, 2) -->\n",
       "<g id=\"node23\" class=\"node\">\n",
       "<title>Pow(Symbol(&#39;b&#39;), Integer(2))_(3, 2)</title>\n",
       "<ellipse fill=\"none\" stroke=\"black\" cx=\"819\" cy=\"-90\" rx=\"27\" ry=\"18\"/>\n",
       "<text text-anchor=\"middle\" x=\"819\" y=\"-86.3\" font-family=\"Times New Roman,serif\" font-size=\"14.00\">Pow</text>\n",
       "</g>\n",
       "<!-- Mul(Integer(3), Symbol(&#39;a&#39;), Pow(Symbol(&#39;b&#39;), Integer(2)), Pow(Symbol(&#39;c&#39;), Integer(2)))_(3,)&#45;&gt;Pow(Symbol(&#39;b&#39;), Integer(2))_(3, 2) -->\n",
       "<g id=\"edge25\" class=\"edge\">\n",
       "<title>Mul(Integer(3), Symbol(&#39;a&#39;), Pow(Symbol(&#39;b&#39;), Integer(2)), Pow(Symbol(&#39;c&#39;), Integer(2)))_(3,)&#45;&gt;Pow(Symbol(&#39;b&#39;), Integer(2))_(3, 2)</title>\n",
       "<path fill=\"none\" stroke=\"black\" d=\"M791.35,-144.76C795.71,-136.28 801.15,-125.71 806.04,-116.2\"/>\n",
       "<polygon fill=\"black\" stroke=\"black\" points=\"809.23,-117.64 810.7,-107.15 803.01,-114.44 809.23,-117.64\"/>\n",
       "</g>\n",
       "<!-- Pow(Symbol(&#39;c&#39;), Integer(2))_(3, 3) -->\n",
       "<g id=\"node26\" class=\"node\">\n",
       "<title>Pow(Symbol(&#39;c&#39;), Integer(2))_(3, 3)</title>\n",
       "<ellipse fill=\"none\" stroke=\"black\" cx=\"891\" cy=\"-90\" rx=\"27\" ry=\"18\"/>\n",
       "<text text-anchor=\"middle\" x=\"891\" y=\"-86.3\" font-family=\"Times New Roman,serif\" font-size=\"14.00\">Pow</text>\n",
       "</g>\n",
       "<!-- Mul(Integer(3), Symbol(&#39;a&#39;), Pow(Symbol(&#39;b&#39;), Integer(2)), Pow(Symbol(&#39;c&#39;), Integer(2)))_(3,)&#45;&gt;Pow(Symbol(&#39;c&#39;), Integer(2))_(3, 3) -->\n",
       "<g id=\"edge26\" class=\"edge\">\n",
       "<title>Mul(Integer(3), Symbol(&#39;a&#39;), Pow(Symbol(&#39;b&#39;), Integer(2)), Pow(Symbol(&#39;c&#39;), Integer(2)))_(3,)&#45;&gt;Pow(Symbol(&#39;c&#39;), Integer(2))_(3, 3)</title>\n",
       "<path fill=\"none\" stroke=\"black\" d=\"M801.81,-148.81C819,-137.67 844.62,-121.06 863.99,-108.5\"/>\n",
       "<polygon fill=\"black\" stroke=\"black\" points=\"865.92,-111.43 872.4,-103.05 862.11,-105.56 865.92,-111.43\"/>\n",
       "</g>\n",
       "<!-- Symbol(&#39;b&#39;)_(3, 2, 0) -->\n",
       "<g id=\"node24\" class=\"node\">\n",
       "<title>Symbol(&#39;b&#39;)_(3, 2, 0)</title>\n",
       "<ellipse fill=\"none\" stroke=\"black\" cx=\"747\" cy=\"-18\" rx=\"27\" ry=\"18\"/>\n",
       "<text text-anchor=\"middle\" x=\"747\" y=\"-14.3\" font-family=\"Times New Roman,serif\" font-size=\"14.00\">b</text>\n",
       "</g>\n",
       "<!-- Pow(Symbol(&#39;b&#39;), Integer(2))_(3, 2)&#45;&gt;Symbol(&#39;b&#39;)_(3, 2, 0) -->\n",
       "<g id=\"edge27\" class=\"edge\">\n",
       "<title>Pow(Symbol(&#39;b&#39;), Integer(2))_(3, 2)&#45;&gt;Symbol(&#39;b&#39;)_(3, 2, 0)</title>\n",
       "<path fill=\"none\" stroke=\"black\" d=\"M804.43,-74.83C794.25,-64.94 780.48,-51.55 768.97,-40.36\"/>\n",
       "<polygon fill=\"black\" stroke=\"black\" points=\"771.41,-37.85 761.8,-33.38 766.53,-42.87 771.41,-37.85\"/>\n",
       "</g>\n",
       "<!-- Integer(2)_(3, 2, 1) -->\n",
       "<g id=\"node25\" class=\"node\">\n",
       "<title>Integer(2)_(3, 2, 1)</title>\n",
       "<ellipse fill=\"none\" stroke=\"black\" cx=\"819\" cy=\"-18\" rx=\"27\" ry=\"18\"/>\n",
       "<text text-anchor=\"middle\" x=\"819\" y=\"-14.3\" font-family=\"Times New Roman,serif\" font-size=\"14.00\">2</text>\n",
       "</g>\n",
       "<!-- Pow(Symbol(&#39;b&#39;), Integer(2))_(3, 2)&#45;&gt;Integer(2)_(3, 2, 1) -->\n",
       "<g id=\"edge28\" class=\"edge\">\n",
       "<title>Pow(Symbol(&#39;b&#39;), Integer(2))_(3, 2)&#45;&gt;Integer(2)_(3, 2, 1)</title>\n",
       "<path fill=\"none\" stroke=\"black\" d=\"M819,-71.7C819,-63.98 819,-54.71 819,-46.11\"/>\n",
       "<polygon fill=\"black\" stroke=\"black\" points=\"822.5,-46.1 819,-36.1 815.5,-46.1 822.5,-46.1\"/>\n",
       "</g>\n",
       "<!-- Symbol(&#39;c&#39;)_(3, 3, 0) -->\n",
       "<g id=\"node27\" class=\"node\">\n",
       "<title>Symbol(&#39;c&#39;)_(3, 3, 0)</title>\n",
       "<ellipse fill=\"none\" stroke=\"black\" cx=\"891\" cy=\"-18\" rx=\"27\" ry=\"18\"/>\n",
       "<text text-anchor=\"middle\" x=\"891\" y=\"-14.3\" font-family=\"Times New Roman,serif\" font-size=\"14.00\">c</text>\n",
       "</g>\n",
       "<!-- Pow(Symbol(&#39;c&#39;), Integer(2))_(3, 3)&#45;&gt;Symbol(&#39;c&#39;)_(3, 3, 0) -->\n",
       "<g id=\"edge29\" class=\"edge\">\n",
       "<title>Pow(Symbol(&#39;c&#39;), Integer(2))_(3, 3)&#45;&gt;Symbol(&#39;c&#39;)_(3, 3, 0)</title>\n",
       "<path fill=\"none\" stroke=\"black\" d=\"M891,-71.7C891,-63.98 891,-54.71 891,-46.11\"/>\n",
       "<polygon fill=\"black\" stroke=\"black\" points=\"894.5,-46.1 891,-36.1 887.5,-46.1 894.5,-46.1\"/>\n",
       "</g>\n",
       "<!-- Integer(2)_(3, 3, 1) -->\n",
       "<g id=\"node28\" class=\"node\">\n",
       "<title>Integer(2)_(3, 3, 1)</title>\n",
       "<ellipse fill=\"none\" stroke=\"black\" cx=\"963\" cy=\"-18\" rx=\"27\" ry=\"18\"/>\n",
       "<text text-anchor=\"middle\" x=\"963\" y=\"-14.3\" font-family=\"Times New Roman,serif\" font-size=\"14.00\">2</text>\n",
       "</g>\n",
       "<!-- Pow(Symbol(&#39;c&#39;), Integer(2))_(3, 3)&#45;&gt;Integer(2)_(3, 3, 1) -->\n",
       "<g id=\"edge30\" class=\"edge\">\n",
       "<title>Pow(Symbol(&#39;c&#39;), Integer(2))_(3, 3)&#45;&gt;Integer(2)_(3, 3, 1)</title>\n",
       "<path fill=\"none\" stroke=\"black\" d=\"M905.57,-74.83C915.75,-64.94 929.52,-51.55 941.03,-40.36\"/>\n",
       "<polygon fill=\"black\" stroke=\"black\" points=\"943.47,-42.87 948.2,-33.38 938.59,-37.85 943.47,-42.87\"/>\n",
       "</g>\n",
       "<!-- Integer(4)_(4, 0) -->\n",
       "<g id=\"node30\" class=\"node\">\n",
       "<title>Integer(4)_(4, 0)</title>\n",
       "<ellipse fill=\"none\" stroke=\"black\" cx=\"963\" cy=\"-90\" rx=\"27\" ry=\"18\"/>\n",
       "<text text-anchor=\"middle\" x=\"963\" y=\"-86.3\" font-family=\"Times New Roman,serif\" font-size=\"14.00\">4</text>\n",
       "</g>\n",
       "<!-- Mul(Integer(4), Symbol(&#39;b&#39;), Symbol(&#39;c&#39;), Pow(Symbol(&#39;a&#39;), Integer(3)))_(4,)&#45;&gt;Integer(4)_(4, 0) -->\n",
       "<g id=\"edge31\" class=\"edge\">\n",
       "<title>Mul(Integer(4), Symbol(&#39;b&#39;), Symbol(&#39;c&#39;), Pow(Symbol(&#39;a&#39;), Integer(3)))_(4,)&#45;&gt;Integer(4)_(4, 0)</title>\n",
       "<path fill=\"none\" stroke=\"black\" d=\"M1020.43,-146.83C1010.25,-136.94 996.48,-123.55 984.97,-112.36\"/>\n",
       "<polygon fill=\"black\" stroke=\"black\" points=\"987.41,-109.85 977.8,-105.38 982.53,-114.87 987.41,-109.85\"/>\n",
       "</g>\n",
       "<!-- Symbol(&#39;b&#39;)_(4, 1) -->\n",
       "<g id=\"node31\" class=\"node\">\n",
       "<title>Symbol(&#39;b&#39;)_(4, 1)</title>\n",
       "<ellipse fill=\"none\" stroke=\"black\" cx=\"1035\" cy=\"-90\" rx=\"27\" ry=\"18\"/>\n",
       "<text text-anchor=\"middle\" x=\"1035\" y=\"-86.3\" font-family=\"Times New Roman,serif\" font-size=\"14.00\">b</text>\n",
       "</g>\n",
       "<!-- Mul(Integer(4), Symbol(&#39;b&#39;), Symbol(&#39;c&#39;), Pow(Symbol(&#39;a&#39;), Integer(3)))_(4,)&#45;&gt;Symbol(&#39;b&#39;)_(4, 1) -->\n",
       "<g id=\"edge32\" class=\"edge\">\n",
       "<title>Mul(Integer(4), Symbol(&#39;b&#39;), Symbol(&#39;c&#39;), Pow(Symbol(&#39;a&#39;), Integer(3)))_(4,)&#45;&gt;Symbol(&#39;b&#39;)_(4, 1)</title>\n",
       "<path fill=\"none\" stroke=\"black\" d=\"M1035,-143.7C1035,-135.98 1035,-126.71 1035,-118.11\"/>\n",
       "<polygon fill=\"black\" stroke=\"black\" points=\"1038.5,-118.1 1035,-108.1 1031.5,-118.1 1038.5,-118.1\"/>\n",
       "</g>\n",
       "<!-- Symbol(&#39;c&#39;)_(4, 2) -->\n",
       "<g id=\"node32\" class=\"node\">\n",
       "<title>Symbol(&#39;c&#39;)_(4, 2)</title>\n",
       "<ellipse fill=\"none\" stroke=\"black\" cx=\"1107\" cy=\"-90\" rx=\"27\" ry=\"18\"/>\n",
       "<text text-anchor=\"middle\" x=\"1107\" y=\"-86.3\" font-family=\"Times New Roman,serif\" font-size=\"14.00\">c</text>\n",
       "</g>\n",
       "<!-- Mul(Integer(4), Symbol(&#39;b&#39;), Symbol(&#39;c&#39;), Pow(Symbol(&#39;a&#39;), Integer(3)))_(4,)&#45;&gt;Symbol(&#39;c&#39;)_(4, 2) -->\n",
       "<g id=\"edge33\" class=\"edge\">\n",
       "<title>Mul(Integer(4), Symbol(&#39;b&#39;), Symbol(&#39;c&#39;), Pow(Symbol(&#39;a&#39;), Integer(3)))_(4,)&#45;&gt;Symbol(&#39;c&#39;)_(4, 2)</title>\n",
       "<path fill=\"none\" stroke=\"black\" d=\"M1049.57,-146.83C1059.75,-136.94 1073.52,-123.55 1085.03,-112.36\"/>\n",
       "<polygon fill=\"black\" stroke=\"black\" points=\"1087.47,-114.87 1092.2,-105.38 1082.59,-109.85 1087.47,-114.87\"/>\n",
       "</g>\n",
       "<!-- Pow(Symbol(&#39;a&#39;), Integer(3))_(4, 3) -->\n",
       "<g id=\"node33\" class=\"node\">\n",
       "<title>Pow(Symbol(&#39;a&#39;), Integer(3))_(4, 3)</title>\n",
       "<ellipse fill=\"none\" stroke=\"black\" cx=\"1179\" cy=\"-90\" rx=\"27\" ry=\"18\"/>\n",
       "<text text-anchor=\"middle\" x=\"1179\" y=\"-86.3\" font-family=\"Times New Roman,serif\" font-size=\"14.00\">Pow</text>\n",
       "</g>\n",
       "<!-- Mul(Integer(4), Symbol(&#39;b&#39;), Symbol(&#39;c&#39;), Pow(Symbol(&#39;a&#39;), Integer(3)))_(4,)&#45;&gt;Pow(Symbol(&#39;a&#39;), Integer(3))_(4, 3) -->\n",
       "<g id=\"edge34\" class=\"edge\">\n",
       "<title>Mul(Integer(4), Symbol(&#39;b&#39;), Symbol(&#39;c&#39;), Pow(Symbol(&#39;a&#39;), Integer(3)))_(4,)&#45;&gt;Pow(Symbol(&#39;a&#39;), Integer(3))_(4, 3)</title>\n",
       "<path fill=\"none\" stroke=\"black\" d=\"M1056.25,-150.67C1080.6,-138.83 1120.72,-119.33 1148.43,-105.86\"/>\n",
       "<polygon fill=\"black\" stroke=\"black\" points=\"1150.2,-108.89 1157.67,-101.37 1147.14,-102.6 1150.2,-108.89\"/>\n",
       "</g>\n",
       "<!-- Symbol(&#39;a&#39;)_(4, 3, 0) -->\n",
       "<g id=\"node34\" class=\"node\">\n",
       "<title>Symbol(&#39;a&#39;)_(4, 3, 0)</title>\n",
       "<ellipse fill=\"none\" stroke=\"black\" cx=\"1143\" cy=\"-18\" rx=\"27\" ry=\"18\"/>\n",
       "<text text-anchor=\"middle\" x=\"1143\" y=\"-14.3\" font-family=\"Times New Roman,serif\" font-size=\"14.00\">a</text>\n",
       "</g>\n",
       "<!-- Pow(Symbol(&#39;a&#39;), Integer(3))_(4, 3)&#45;&gt;Symbol(&#39;a&#39;)_(4, 3, 0) -->\n",
       "<g id=\"edge35\" class=\"edge\">\n",
       "<title>Pow(Symbol(&#39;a&#39;), Integer(3))_(4, 3)&#45;&gt;Symbol(&#39;a&#39;)_(4, 3, 0)</title>\n",
       "<path fill=\"none\" stroke=\"black\" d=\"M1170.65,-72.76C1166.29,-64.28 1160.85,-53.71 1155.96,-44.2\"/>\n",
       "<polygon fill=\"black\" stroke=\"black\" points=\"1158.99,-42.44 1151.3,-35.15 1152.77,-45.64 1158.99,-42.44\"/>\n",
       "</g>\n",
       "<!-- Integer(3)_(4, 3, 1) -->\n",
       "<g id=\"node35\" class=\"node\">\n",
       "<title>Integer(3)_(4, 3, 1)</title>\n",
       "<ellipse fill=\"none\" stroke=\"black\" cx=\"1215\" cy=\"-18\" rx=\"27\" ry=\"18\"/>\n",
       "<text text-anchor=\"middle\" x=\"1215\" y=\"-14.3\" font-family=\"Times New Roman,serif\" font-size=\"14.00\">3</text>\n",
       "</g>\n",
       "<!-- Pow(Symbol(&#39;a&#39;), Integer(3))_(4, 3)&#45;&gt;Integer(3)_(4, 3, 1) -->\n",
       "<g id=\"edge36\" class=\"edge\">\n",
       "<title>Pow(Symbol(&#39;a&#39;), Integer(3))_(4, 3)&#45;&gt;Integer(3)_(4, 3, 1)</title>\n",
       "<path fill=\"none\" stroke=\"black\" d=\"M1187.35,-72.76C1191.71,-64.28 1197.15,-53.71 1202.04,-44.2\"/>\n",
       "<polygon fill=\"black\" stroke=\"black\" points=\"1205.23,-45.64 1206.7,-35.15 1199.01,-42.44 1205.23,-45.64\"/>\n",
       "</g>\n",
       "<!-- Integer(2)_(5, 0) -->\n",
       "<g id=\"node37\" class=\"node\">\n",
       "<title>Integer(2)_(5, 0)</title>\n",
       "<ellipse fill=\"none\" stroke=\"black\" cx=\"1251\" cy=\"-90\" rx=\"27\" ry=\"18\"/>\n",
       "<text text-anchor=\"middle\" x=\"1251\" y=\"-86.3\" font-family=\"Times New Roman,serif\" font-size=\"14.00\">2</text>\n",
       "</g>\n",
       "<!-- Mul(Integer(2), Symbol(&#39;a&#39;), Symbol(&#39;b&#39;), Symbol(&#39;c&#39;), Pow(Symbol(&#39;d&#39;), Integer(2)))_(5,)&#45;&gt;Integer(2)_(5, 0) -->\n",
       "<g id=\"edge37\" class=\"edge\">\n",
       "<title>Mul(Integer(2), Symbol(&#39;a&#39;), Symbol(&#39;b&#39;), Symbol(&#39;c&#39;), Pow(Symbol(&#39;d&#39;), Integer(2)))_(5,)&#45;&gt;Integer(2)_(5, 0)</title>\n",
       "<path fill=\"none\" stroke=\"black\" d=\"M1340.19,-148.81C1323,-137.67 1297.38,-121.06 1278.01,-108.5\"/>\n",
       "<polygon fill=\"black\" stroke=\"black\" points=\"1279.89,-105.56 1269.6,-103.05 1276.08,-111.43 1279.89,-105.56\"/>\n",
       "</g>\n",
       "<!-- Symbol(&#39;a&#39;)_(5, 1) -->\n",
       "<g id=\"node38\" class=\"node\">\n",
       "<title>Symbol(&#39;a&#39;)_(5, 1)</title>\n",
       "<ellipse fill=\"none\" stroke=\"black\" cx=\"1323\" cy=\"-90\" rx=\"27\" ry=\"18\"/>\n",
       "<text text-anchor=\"middle\" x=\"1323\" y=\"-86.3\" font-family=\"Times New Roman,serif\" font-size=\"14.00\">a</text>\n",
       "</g>\n",
       "<!-- Mul(Integer(2), Symbol(&#39;a&#39;), Symbol(&#39;b&#39;), Symbol(&#39;c&#39;), Pow(Symbol(&#39;d&#39;), Integer(2)))_(5,)&#45;&gt;Symbol(&#39;a&#39;)_(5, 1) -->\n",
       "<g id=\"edge38\" class=\"edge\">\n",
       "<title>Mul(Integer(2), Symbol(&#39;a&#39;), Symbol(&#39;b&#39;), Symbol(&#39;c&#39;), Pow(Symbol(&#39;d&#39;), Integer(2)))_(5,)&#45;&gt;Symbol(&#39;a&#39;)_(5, 1)</title>\n",
       "<path fill=\"none\" stroke=\"black\" d=\"M1350.65,-144.76C1346.29,-136.28 1340.85,-125.71 1335.96,-116.2\"/>\n",
       "<polygon fill=\"black\" stroke=\"black\" points=\"1338.99,-114.44 1331.3,-107.15 1332.77,-117.64 1338.99,-114.44\"/>\n",
       "</g>\n",
       "<!-- Symbol(&#39;b&#39;)_(5, 2) -->\n",
       "<g id=\"node39\" class=\"node\">\n",
       "<title>Symbol(&#39;b&#39;)_(5, 2)</title>\n",
       "<ellipse fill=\"none\" stroke=\"black\" cx=\"1395\" cy=\"-90\" rx=\"27\" ry=\"18\"/>\n",
       "<text text-anchor=\"middle\" x=\"1395\" y=\"-86.3\" font-family=\"Times New Roman,serif\" font-size=\"14.00\">b</text>\n",
       "</g>\n",
       "<!-- Mul(Integer(2), Symbol(&#39;a&#39;), Symbol(&#39;b&#39;), Symbol(&#39;c&#39;), Pow(Symbol(&#39;d&#39;), Integer(2)))_(5,)&#45;&gt;Symbol(&#39;b&#39;)_(5, 2) -->\n",
       "<g id=\"edge39\" class=\"edge\">\n",
       "<title>Mul(Integer(2), Symbol(&#39;a&#39;), Symbol(&#39;b&#39;), Symbol(&#39;c&#39;), Pow(Symbol(&#39;d&#39;), Integer(2)))_(5,)&#45;&gt;Symbol(&#39;b&#39;)_(5, 2)</title>\n",
       "<path fill=\"none\" stroke=\"black\" d=\"M1367.35,-144.76C1371.71,-136.28 1377.15,-125.71 1382.04,-116.2\"/>\n",
       "<polygon fill=\"black\" stroke=\"black\" points=\"1385.23,-117.64 1386.7,-107.15 1379.01,-114.44 1385.23,-117.64\"/>\n",
       "</g>\n",
       "<!-- Symbol(&#39;c&#39;)_(5, 3) -->\n",
       "<g id=\"node40\" class=\"node\">\n",
       "<title>Symbol(&#39;c&#39;)_(5, 3)</title>\n",
       "<ellipse fill=\"none\" stroke=\"black\" cx=\"1467\" cy=\"-90\" rx=\"27\" ry=\"18\"/>\n",
       "<text text-anchor=\"middle\" x=\"1467\" y=\"-86.3\" font-family=\"Times New Roman,serif\" font-size=\"14.00\">c</text>\n",
       "</g>\n",
       "<!-- Mul(Integer(2), Symbol(&#39;a&#39;), Symbol(&#39;b&#39;), Symbol(&#39;c&#39;), Pow(Symbol(&#39;d&#39;), Integer(2)))_(5,)&#45;&gt;Symbol(&#39;c&#39;)_(5, 3) -->\n",
       "<g id=\"edge40\" class=\"edge\">\n",
       "<title>Mul(Integer(2), Symbol(&#39;a&#39;), Symbol(&#39;b&#39;), Symbol(&#39;c&#39;), Pow(Symbol(&#39;d&#39;), Integer(2)))_(5,)&#45;&gt;Symbol(&#39;c&#39;)_(5, 3)</title>\n",
       "<path fill=\"none\" stroke=\"black\" d=\"M1377.81,-148.81C1395,-137.67 1420.62,-121.06 1439.99,-108.5\"/>\n",
       "<polygon fill=\"black\" stroke=\"black\" points=\"1441.92,-111.43 1448.4,-103.05 1438.11,-105.56 1441.92,-111.43\"/>\n",
       "</g>\n",
       "<!-- Pow(Symbol(&#39;d&#39;), Integer(2))_(5, 4) -->\n",
       "<g id=\"node41\" class=\"node\">\n",
       "<title>Pow(Symbol(&#39;d&#39;), Integer(2))_(5, 4)</title>\n",
       "<ellipse fill=\"none\" stroke=\"black\" cx=\"1539\" cy=\"-90\" rx=\"27\" ry=\"18\"/>\n",
       "<text text-anchor=\"middle\" x=\"1539\" y=\"-86.3\" font-family=\"Times New Roman,serif\" font-size=\"14.00\">Pow</text>\n",
       "</g>\n",
       "<!-- Mul(Integer(2), Symbol(&#39;a&#39;), Symbol(&#39;b&#39;), Symbol(&#39;c&#39;), Pow(Symbol(&#39;d&#39;), Integer(2)))_(5,)&#45;&gt;Pow(Symbol(&#39;d&#39;), Integer(2))_(5, 4) -->\n",
       "<g id=\"edge41\" class=\"edge\">\n",
       "<title>Mul(Integer(2), Symbol(&#39;a&#39;), Symbol(&#39;b&#39;), Symbol(&#39;c&#39;), Pow(Symbol(&#39;d&#39;), Integer(2)))_(5,)&#45;&gt;Pow(Symbol(&#39;d&#39;), Integer(2))_(5, 4)</title>\n",
       "<path fill=\"none\" stroke=\"black\" d=\"M1382.69,-153C1411.44,-143.13 1461.23,-125.51 1503,-108 1504.82,-107.24 1506.68,-106.44 1508.54,-105.61\"/>\n",
       "<polygon fill=\"black\" stroke=\"black\" points=\"1510.17,-108.71 1517.82,-101.38 1507.27,-102.35 1510.17,-108.71\"/>\n",
       "</g>\n",
       "<!-- Symbol(&#39;d&#39;)_(5, 4, 0) -->\n",
       "<g id=\"node42\" class=\"node\">\n",
       "<title>Symbol(&#39;d&#39;)_(5, 4, 0)</title>\n",
       "<ellipse fill=\"none\" stroke=\"black\" cx=\"1503\" cy=\"-18\" rx=\"27\" ry=\"18\"/>\n",
       "<text text-anchor=\"middle\" x=\"1503\" y=\"-14.3\" font-family=\"Times New Roman,serif\" font-size=\"14.00\">d</text>\n",
       "</g>\n",
       "<!-- Pow(Symbol(&#39;d&#39;), Integer(2))_(5, 4)&#45;&gt;Symbol(&#39;d&#39;)_(5, 4, 0) -->\n",
       "<g id=\"edge42\" class=\"edge\">\n",
       "<title>Pow(Symbol(&#39;d&#39;), Integer(2))_(5, 4)&#45;&gt;Symbol(&#39;d&#39;)_(5, 4, 0)</title>\n",
       "<path fill=\"none\" stroke=\"black\" d=\"M1530.65,-72.76C1526.29,-64.28 1520.85,-53.71 1515.96,-44.2\"/>\n",
       "<polygon fill=\"black\" stroke=\"black\" points=\"1518.99,-42.44 1511.3,-35.15 1512.77,-45.64 1518.99,-42.44\"/>\n",
       "</g>\n",
       "<!-- Integer(2)_(5, 4, 1) -->\n",
       "<g id=\"node43\" class=\"node\">\n",
       "<title>Integer(2)_(5, 4, 1)</title>\n",
       "<ellipse fill=\"none\" stroke=\"black\" cx=\"1575\" cy=\"-18\" rx=\"27\" ry=\"18\"/>\n",
       "<text text-anchor=\"middle\" x=\"1575\" y=\"-14.3\" font-family=\"Times New Roman,serif\" font-size=\"14.00\">2</text>\n",
       "</g>\n",
       "<!-- Pow(Symbol(&#39;d&#39;), Integer(2))_(5, 4)&#45;&gt;Integer(2)_(5, 4, 1) -->\n",
       "<g id=\"edge43\" class=\"edge\">\n",
       "<title>Pow(Symbol(&#39;d&#39;), Integer(2))_(5, 4)&#45;&gt;Integer(2)_(5, 4, 1)</title>\n",
       "<path fill=\"none\" stroke=\"black\" d=\"M1547.35,-72.76C1551.71,-64.28 1557.15,-53.71 1562.04,-44.2\"/>\n",
       "<polygon fill=\"black\" stroke=\"black\" points=\"1565.23,-45.64 1566.7,-35.15 1559.01,-42.44 1565.23,-45.64\"/>\n",
       "</g>\n",
       "<!-- Integer(3)_(6, 0) -->\n",
       "<g id=\"node45\" class=\"node\">\n",
       "<title>Integer(3)_(6, 0)</title>\n",
       "<ellipse fill=\"none\" stroke=\"black\" cx=\"1611\" cy=\"-90\" rx=\"27\" ry=\"18\"/>\n",
       "<text text-anchor=\"middle\" x=\"1611\" y=\"-86.3\" font-family=\"Times New Roman,serif\" font-size=\"14.00\">3</text>\n",
       "</g>\n",
       "<!-- Mul(Integer(3), Symbol(&#39;b&#39;), Symbol(&#39;c&#39;), Symbol(&#39;d&#39;), Pow(Symbol(&#39;a&#39;), Integer(2)))_(6,)&#45;&gt;Integer(3)_(6, 0) -->\n",
       "<g id=\"edge44\" class=\"edge\">\n",
       "<title>Mul(Integer(3), Symbol(&#39;b&#39;), Symbol(&#39;c&#39;), Symbol(&#39;d&#39;), Pow(Symbol(&#39;a&#39;), Integer(2)))_(6,)&#45;&gt;Integer(3)_(6, 0)</title>\n",
       "<path fill=\"none\" stroke=\"black\" d=\"M1700.19,-148.81C1683,-137.67 1657.38,-121.06 1638.01,-108.5\"/>\n",
       "<polygon fill=\"black\" stroke=\"black\" points=\"1639.89,-105.56 1629.6,-103.05 1636.08,-111.43 1639.89,-105.56\"/>\n",
       "</g>\n",
       "<!-- Symbol(&#39;b&#39;)_(6, 1) -->\n",
       "<g id=\"node46\" class=\"node\">\n",
       "<title>Symbol(&#39;b&#39;)_(6, 1)</title>\n",
       "<ellipse fill=\"none\" stroke=\"black\" cx=\"1683\" cy=\"-90\" rx=\"27\" ry=\"18\"/>\n",
       "<text text-anchor=\"middle\" x=\"1683\" y=\"-86.3\" font-family=\"Times New Roman,serif\" font-size=\"14.00\">b</text>\n",
       "</g>\n",
       "<!-- Mul(Integer(3), Symbol(&#39;b&#39;), Symbol(&#39;c&#39;), Symbol(&#39;d&#39;), Pow(Symbol(&#39;a&#39;), Integer(2)))_(6,)&#45;&gt;Symbol(&#39;b&#39;)_(6, 1) -->\n",
       "<g id=\"edge45\" class=\"edge\">\n",
       "<title>Mul(Integer(3), Symbol(&#39;b&#39;), Symbol(&#39;c&#39;), Symbol(&#39;d&#39;), Pow(Symbol(&#39;a&#39;), Integer(2)))_(6,)&#45;&gt;Symbol(&#39;b&#39;)_(6, 1)</title>\n",
       "<path fill=\"none\" stroke=\"black\" d=\"M1710.65,-144.76C1706.29,-136.28 1700.85,-125.71 1695.96,-116.2\"/>\n",
       "<polygon fill=\"black\" stroke=\"black\" points=\"1698.99,-114.44 1691.3,-107.15 1692.77,-117.64 1698.99,-114.44\"/>\n",
       "</g>\n",
       "<!-- Symbol(&#39;c&#39;)_(6, 2) -->\n",
       "<g id=\"node47\" class=\"node\">\n",
       "<title>Symbol(&#39;c&#39;)_(6, 2)</title>\n",
       "<ellipse fill=\"none\" stroke=\"black\" cx=\"1755\" cy=\"-90\" rx=\"27\" ry=\"18\"/>\n",
       "<text text-anchor=\"middle\" x=\"1755\" y=\"-86.3\" font-family=\"Times New Roman,serif\" font-size=\"14.00\">c</text>\n",
       "</g>\n",
       "<!-- Mul(Integer(3), Symbol(&#39;b&#39;), Symbol(&#39;c&#39;), Symbol(&#39;d&#39;), Pow(Symbol(&#39;a&#39;), Integer(2)))_(6,)&#45;&gt;Symbol(&#39;c&#39;)_(6, 2) -->\n",
       "<g id=\"edge46\" class=\"edge\">\n",
       "<title>Mul(Integer(3), Symbol(&#39;b&#39;), Symbol(&#39;c&#39;), Symbol(&#39;d&#39;), Pow(Symbol(&#39;a&#39;), Integer(2)))_(6,)&#45;&gt;Symbol(&#39;c&#39;)_(6, 2)</title>\n",
       "<path fill=\"none\" stroke=\"black\" d=\"M1727.35,-144.76C1731.71,-136.28 1737.15,-125.71 1742.04,-116.2\"/>\n",
       "<polygon fill=\"black\" stroke=\"black\" points=\"1745.23,-117.64 1746.7,-107.15 1739.01,-114.44 1745.23,-117.64\"/>\n",
       "</g>\n",
       "<!-- Symbol(&#39;d&#39;)_(6, 3) -->\n",
       "<g id=\"node48\" class=\"node\">\n",
       "<title>Symbol(&#39;d&#39;)_(6, 3)</title>\n",
       "<ellipse fill=\"none\" stroke=\"black\" cx=\"1827\" cy=\"-90\" rx=\"27\" ry=\"18\"/>\n",
       "<text text-anchor=\"middle\" x=\"1827\" y=\"-86.3\" font-family=\"Times New Roman,serif\" font-size=\"14.00\">d</text>\n",
       "</g>\n",
       "<!-- Mul(Integer(3), Symbol(&#39;b&#39;), Symbol(&#39;c&#39;), Symbol(&#39;d&#39;), Pow(Symbol(&#39;a&#39;), Integer(2)))_(6,)&#45;&gt;Symbol(&#39;d&#39;)_(6, 3) -->\n",
       "<g id=\"edge47\" class=\"edge\">\n",
       "<title>Mul(Integer(3), Symbol(&#39;b&#39;), Symbol(&#39;c&#39;), Symbol(&#39;d&#39;), Pow(Symbol(&#39;a&#39;), Integer(2)))_(6,)&#45;&gt;Symbol(&#39;d&#39;)_(6, 3)</title>\n",
       "<path fill=\"none\" stroke=\"black\" d=\"M1737.81,-148.81C1755,-137.67 1780.62,-121.06 1799.99,-108.5\"/>\n",
       "<polygon fill=\"black\" stroke=\"black\" points=\"1801.92,-111.43 1808.4,-103.05 1798.11,-105.56 1801.92,-111.43\"/>\n",
       "</g>\n",
       "<!-- Pow(Symbol(&#39;a&#39;), Integer(2))_(6, 4) -->\n",
       "<g id=\"node49\" class=\"node\">\n",
       "<title>Pow(Symbol(&#39;a&#39;), Integer(2))_(6, 4)</title>\n",
       "<ellipse fill=\"none\" stroke=\"black\" cx=\"1899\" cy=\"-90\" rx=\"27\" ry=\"18\"/>\n",
       "<text text-anchor=\"middle\" x=\"1899\" y=\"-86.3\" font-family=\"Times New Roman,serif\" font-size=\"14.00\">Pow</text>\n",
       "</g>\n",
       "<!-- Mul(Integer(3), Symbol(&#39;b&#39;), Symbol(&#39;c&#39;), Symbol(&#39;d&#39;), Pow(Symbol(&#39;a&#39;), Integer(2)))_(6,)&#45;&gt;Pow(Symbol(&#39;a&#39;), Integer(2))_(6, 4) -->\n",
       "<g id=\"edge48\" class=\"edge\">\n",
       "<title>Mul(Integer(3), Symbol(&#39;b&#39;), Symbol(&#39;c&#39;), Symbol(&#39;d&#39;), Pow(Symbol(&#39;a&#39;), Integer(2)))_(6,)&#45;&gt;Pow(Symbol(&#39;a&#39;), Integer(2))_(6, 4)</title>\n",
       "<path fill=\"none\" stroke=\"black\" d=\"M1742.69,-153C1771.44,-143.13 1821.23,-125.51 1863,-108 1864.82,-107.24 1866.68,-106.44 1868.54,-105.61\"/>\n",
       "<polygon fill=\"black\" stroke=\"black\" points=\"1870.17,-108.71 1877.82,-101.38 1867.27,-102.35 1870.17,-108.71\"/>\n",
       "</g>\n",
       "<!-- Symbol(&#39;a&#39;)_(6, 4, 0) -->\n",
       "<g id=\"node50\" class=\"node\">\n",
       "<title>Symbol(&#39;a&#39;)_(6, 4, 0)</title>\n",
       "<ellipse fill=\"none\" stroke=\"black\" cx=\"1863\" cy=\"-18\" rx=\"27\" ry=\"18\"/>\n",
       "<text text-anchor=\"middle\" x=\"1863\" y=\"-14.3\" font-family=\"Times New Roman,serif\" font-size=\"14.00\">a</text>\n",
       "</g>\n",
       "<!-- Pow(Symbol(&#39;a&#39;), Integer(2))_(6, 4)&#45;&gt;Symbol(&#39;a&#39;)_(6, 4, 0) -->\n",
       "<g id=\"edge49\" class=\"edge\">\n",
       "<title>Pow(Symbol(&#39;a&#39;), Integer(2))_(6, 4)&#45;&gt;Symbol(&#39;a&#39;)_(6, 4, 0)</title>\n",
       "<path fill=\"none\" stroke=\"black\" d=\"M1890.65,-72.76C1886.29,-64.28 1880.85,-53.71 1875.96,-44.2\"/>\n",
       "<polygon fill=\"black\" stroke=\"black\" points=\"1878.99,-42.44 1871.3,-35.15 1872.77,-45.64 1878.99,-42.44\"/>\n",
       "</g>\n",
       "<!-- Integer(2)_(6, 4, 1) -->\n",
       "<g id=\"node51\" class=\"node\">\n",
       "<title>Integer(2)_(6, 4, 1)</title>\n",
       "<ellipse fill=\"none\" stroke=\"black\" cx=\"1935\" cy=\"-18\" rx=\"27\" ry=\"18\"/>\n",
       "<text text-anchor=\"middle\" x=\"1935\" y=\"-14.3\" font-family=\"Times New Roman,serif\" font-size=\"14.00\">2</text>\n",
       "</g>\n",
       "<!-- Pow(Symbol(&#39;a&#39;), Integer(2))_(6, 4)&#45;&gt;Integer(2)_(6, 4, 1) -->\n",
       "<g id=\"edge50\" class=\"edge\">\n",
       "<title>Pow(Symbol(&#39;a&#39;), Integer(2))_(6, 4)&#45;&gt;Integer(2)_(6, 4, 1)</title>\n",
       "<path fill=\"none\" stroke=\"black\" d=\"M1907.35,-72.76C1911.71,-64.28 1917.15,-53.71 1922.04,-44.2\"/>\n",
       "<polygon fill=\"black\" stroke=\"black\" points=\"1925.23,-45.64 1926.7,-35.15 1919.01,-42.44 1925.23,-45.64\"/>\n",
       "</g>\n",
       "</g>\n",
       "</svg>\n"
      ],
      "text/plain": [
       "<graphviz.sources.Source at 0x22f98a8ee50>"
      ]
     },
     "execution_count": 47,
     "metadata": {},
     "output_type": "execute_result"
    }
   ],
   "source": [
    "dp(formula)"
   ]
  },
  {
   "cell_type": "code",
   "execution_count": null,
   "id": "da686265-1bf9-48ef-8b02-524c667a045e",
   "metadata": {},
   "outputs": [],
   "source": []
  }
 ],
 "metadata": {
  "kernelspec": {
   "display_name": "Python 3 (ipykernel)",
   "language": "python",
   "name": "python3"
  },
  "language_info": {
   "codemirror_mode": {
    "name": "ipython",
    "version": 3
   },
   "file_extension": ".py",
   "mimetype": "text/x-python",
   "name": "python",
   "nbconvert_exporter": "python",
   "pygments_lexer": "ipython3",
   "version": "3.11.0"
  }
 },
 "nbformat": 4,
 "nbformat_minor": 5
}
