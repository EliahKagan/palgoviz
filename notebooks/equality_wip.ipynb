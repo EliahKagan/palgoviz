{
 "cells": [
  {
   "cell_type": "markdown",
   "id": "c770f493-584b-4d8a-adc6-6f832a089381",
   "metadata": {},
   "source": [
    "# Meanings of mutability"
   ]
  },
  {
   "cell_type": "markdown",
   "id": "75db05dd-20c4-4df6-a9c2-48a20e4b797e",
   "metadata": {},
   "source": [
    "## Review: Objects represent ideas"
   ]
  },
  {
   "cell_type": "markdown",
   "id": "487a1bfa-ddf2-42f2-b839-ea2227845a0b",
   "metadata": {},
   "source": [
    "Recall the distinction, in programming, between **identity** and **equality**."
   ]
  },
  {
   "cell_type": "markdown",
   "id": "6986ec00-fc6d-4dfc-88a1-7fd84a8db793",
   "metadata": {},
   "source": [
    "### Identity"
   ]
  },
  {
   "cell_type": "markdown",
   "id": "e7cbc341-4234-4c0e-8a3b-5712303f9b79",
   "metadata": {},
   "source": [
    "Objects are **identical** when they are really the same object: existing at the same time, and occupying the same region of memory.\n",
    "\n",
    "Python's `is` operator checks if objects are identical. Calling `id` on an object returns an integer that represents the object's identity: an object's `id` never changes, and is never equal to the `id` of any other object that exists at the same time. (Objects whose lifetimes do not overlap can have the same `id`.) As an implementation detail of CPython, `id` returns the address of the object."
   ]
  },
  {
   "cell_type": "markdown",
   "id": "bfa61dca-732c-42fa-a4f5-ce691e818f1f",
   "metadata": {},
   "source": [
    "### Equality"
   ]
  },
  {
   "cell_type": "markdown",
   "id": "677a7ead-ece4-4436-8ec7-6501c1de30b8",
   "metadata": {},
   "source": [
    "Object are **equal** when they represent the same thing. For example, we can represent the number *one billion* with an instance of `int`. All instances of `int` that represent that number have the same value, and they are thus equal, but they may be the same or different objects.\n",
    "\n",
    "The `==` operator checks if objects are equal. The default behavior of `==` is that objects are only equal to themselves. That is, when you write a class, if you don't provide custom equality comparison behavior by overriding `__eq__`, and you don't inherit from a class that does, then your object is equal only to itself and not equal to any other object. This is a reasonable default, because, without custom `__eq__` logic, there is no way for a Python implementation to know if two different objects represent the same thing."
   ]
  },
  {
   "cell_type": "markdown",
   "id": "63d33061-7e85-4d37-834e-28a99f0d80c7",
   "metadata": {},
   "source": [
    "#### A subtlety: We only model what we need"
   ]
  },
  {
   "cell_type": "markdown",
   "id": "94d7918d-84b9-4ef6-b1ba-a5f79a878331",
   "metadata": {},
   "source": [
    "It is possible to write a class whose instances sometimes conceptually represent the same thing, yet are still not equal, because the class does not customize equality comparison. Such a design is questionable, but not necessarily a bug. We may know it is not useful to compare the instances for equality, or that it is a poor use of developer resources to implement equality comparison at this time, yet judge that it is acceptable for the type to go into production. If the type is a non-public implementation detail, we are likely to be justified in our beliefs about how it will be used.\n",
    "\n",
    "In situations like these, though, what is going on is that *our objects model some important things about what they represent, but do not model those things' sameness and difference.*"
   ]
  },
  {
   "cell_type": "markdown",
   "id": "2990540a-2dbb-4e74-87a9-d4009eede8d4",
   "metadata": {},
   "source": [
    "## Two (major) kinds of mutability"
   ]
  },
  {
   "cell_type": "markdown",
   "id": "8a9ffefb-596a-4637-98dc-7529ed375f31",
   "metadata": {
    "tags": []
   },
   "source": [
    "### ① Of value"
   ]
  },
  {
   "cell_type": "markdown",
   "id": "af66f750-45c0-4752-beb9-a9969fc436f4",
   "metadata": {},
   "source": [
    "The most frequently relevant meaning of mutability in Python is \"its value can change.\"\n",
    "\n",
    "An object is thus *immutable*, in this sense, when its value is invariant: the object never changes in a way that affects its behavior in equality comparison.\n",
    "\n",
    "This is the meaning of \"mutable\" and \"immutable\" that applies to the ubiquitous and correct advice that mutable objects should not be hashable, and that immutable objects should usually be hashable. Uses of the words \"mutable\" and \"immutable\" in this project, except where otherwise stated, are with this meaning of mutability."
   ]
  },
  {
   "cell_type": "markdown",
   "id": "bd6be4a6-9b27-484d-9b80-4c2a2f64f669",
   "metadata": {},
   "source": [
    "#### A subtlety: The \"cannot\" in \"cannot change\""
   ]
  },
  {
   "cell_type": "markdown",
   "id": "7733b684",
   "metadata": {},
   "source": [
    "Consider this class:"
   ]
  },
  {
   "cell_type": "code",
   "execution_count": 1,
   "id": "4302303e",
   "metadata": {},
   "outputs": [],
   "source": [
    "class Point:\n",
    "    \n",
    "    def __init__(self, x, y):\n",
    "        self._x = x\n",
    "        self._y = y\n",
    "    \n",
    "    def __repr__(self):\n",
    "        return f'{type(self).__name__}({self.x!r}, {self.y!r})'\n",
    "    \n",
    "    def __eq__(self, other):\n",
    "        if isinstance(other, type(self)):\n",
    "            return self.x == other.x and self.y == other.y\n",
    "        return NotImplemented\n",
    "    \n",
    "    def __hash__(self):\n",
    "        return hash((self.x, self.y))\n",
    "    \n",
    "    @property\n",
    "    def x(self):\n",
    "        return self._x\n",
    "    \n",
    "    @property\n",
    "    def y(self):\n",
    "        return self._y"
   ]
  },
  {
   "cell_type": "markdown",
   "id": "e3d30bca",
   "metadata": {},
   "source": [
    "We regard instances of that class to be immutable, because their behavior in equality comparison is determined by their `x` and `y` attributes, which are read-only:"
   ]
  },
  {
   "cell_type": "code",
   "execution_count": 2,
   "id": "90c444d8",
   "metadata": {},
   "outputs": [
    {
     "data": {
      "text/plain": [
       "True"
      ]
     },
     "execution_count": 2,
     "metadata": {},
     "output_type": "execute_result"
    }
   ],
   "source": [
    "p = Point(10, 20)\n",
    "q = Point(10, 20)\n",
    "p == q"
   ]
  },
  {
   "cell_type": "code",
   "execution_count": 3,
   "id": "e5573092",
   "metadata": {
    "tags": [
     "raises-exception"
    ]
   },
   "outputs": [
    {
     "ename": "AttributeError",
     "evalue": "can't set attribute 'y'",
     "output_type": "error",
     "traceback": [
      "\u001b[1;31m---------------------------------------------------------------------------\u001b[0m",
      "\u001b[1;31mAttributeError\u001b[0m                            Traceback (most recent call last)",
      "Cell \u001b[1;32mIn [3], line 1\u001b[0m\n\u001b[1;32m----> 1\u001b[0m \u001b[43mp\u001b[49m\u001b[38;5;241;43m.\u001b[39;49m\u001b[43my\u001b[49m \u001b[38;5;241m=\u001b[39m \u001b[38;5;241m25\u001b[39m\n",
      "\u001b[1;31mAttributeError\u001b[0m: can't set attribute 'y'"
     ]
    }
   ],
   "source": [
    "p.y = 25"
   ]
  },
  {
   "cell_type": "markdown",
   "id": "f5c2b6ed-b3d5-432f-b47b-db54ee5a7a27",
   "metadata": {},
   "source": [
    "But the `Point` class can only satisfy its invariants if client code follows the rules. Here, we misuse `Point` by violating encapsulation:"
   ]
  },
  {
   "cell_type": "code",
   "execution_count": 4,
   "id": "7ef95af6-3263-412c-8fbb-264e9ec62a45",
   "metadata": {},
   "outputs": [],
   "source": [
    "p._y = 25"
   ]
  },
  {
   "cell_type": "code",
   "execution_count": 5,
   "id": "50b3a87a-7299-474e-9352-44f2fc60a456",
   "metadata": {},
   "outputs": [
    {
     "data": {
      "text/plain": [
       "False"
      ]
     },
     "execution_count": 5,
     "metadata": {},
     "output_type": "execute_result"
    }
   ],
   "source": [
    "p == q"
   ]
  },
  {
   "cell_type": "markdown",
   "id": "ff19d9b0-8a88-4a77-90fc-07a0cc94e7d7",
   "metadata": {},
   "source": [
    "We have changed the value of an object we consider immutable. This does *not* relate to ambiguity between conceptually separate senses of immutability: we consider objects immutable when their values cannot change, yet we have changed the value of such an object.\n",
    "\n",
    "What's going on is that, by \"*cannot* change,\" we mean that, if the code that uses a `Point` object follows expected rules, then its value never changes. To illustrate that this notion of \"cannot\" is meaningful, and not too weak, consider another way to break the rules:"
   ]
  },
  {
   "cell_type": "code",
   "execution_count": 6,
   "id": "48bf114d-523c-4767-b8b2-445ee367fa84",
   "metadata": {},
   "outputs": [],
   "source": [
    "import unittest.mock"
   ]
  },
  {
   "cell_type": "code",
   "execution_count": 7,
   "id": "179adc30-f90e-4a31-8255-2d27ec980910",
   "metadata": {},
   "outputs": [
    {
     "data": {
      "text/plain": [
       "True"
      ]
     },
     "execution_count": 7,
     "metadata": {},
     "output_type": "execute_result"
    }
   ],
   "source": [
    "p = Point(10, 20)\n",
    "q = Point(10, 20)\n",
    "p == q"
   ]
  },
  {
   "cell_type": "code",
   "execution_count": 8,
   "id": "daaf014e-5f4f-40bd-9ec2-4a3b055c0299",
   "metadata": {},
   "outputs": [
    {
     "name": "stdout",
     "output_type": "stream",
     "text": [
      "False\n"
     ]
    }
   ],
   "source": [
    "# When we patch Point.__eq__ to do something different, the Point\n",
    "# class is obviously not responsible for what we choose to make it do.\n",
    "with unittest.mock.patch('__main__.Point.__eq__', object.__eq__):\n",
    "    print(p == q)"
   ]
  },
  {
   "cell_type": "markdown",
   "id": "bf18918f-6578-4523-9aee-61612f3c334b",
   "metadata": {},
   "source": [
    "Or this way:"
   ]
  },
  {
   "cell_type": "code",
   "execution_count": 9,
   "id": "27be196a-7af8-4dcc-8d75-d00ceaa89a54",
   "metadata": {},
   "outputs": [
    {
     "data": {
      "text/plain": [
       "__main__.Point"
      ]
     },
     "execution_count": 9,
     "metadata": {},
     "output_type": "execute_result"
    }
   ],
   "source": [
    "type(q)"
   ]
  },
  {
   "cell_type": "code",
   "execution_count": 10,
   "id": "6c4f9ae3-8128-4b50-980b-eb26836d3a2a",
   "metadata": {},
   "outputs": [
    {
     "data": {
      "text/plain": [
       "True"
      ]
     },
     "execution_count": 10,
     "metadata": {},
     "output_type": "execute_result"
    }
   ],
   "source": [
    "p == q"
   ]
  },
  {
   "cell_type": "code",
   "execution_count": 11,
   "id": "a82b8f32-5f8f-4c6a-bbc0-54133fa83e20",
   "metadata": {},
   "outputs": [],
   "source": [
    "class NotPoint:\n",
    "    pass"
   ]
  },
  {
   "cell_type": "code",
   "execution_count": 12,
   "id": "045d8416-3b05-4293-9b40-a3f2e982dde0",
   "metadata": {},
   "outputs": [
    {
     "data": {
      "text/plain": [
       "__main__.NotPoint"
      ]
     },
     "execution_count": 12,
     "metadata": {},
     "output_type": "execute_result"
    }
   ],
   "source": [
    "q.__class__ = NotPoint  # Do the weirdest thing in Python.\n",
    "type(q)"
   ]
  },
  {
   "cell_type": "code",
   "execution_count": 13,
   "id": "759d0132-b0b6-4a7a-b369-42e4d47fe15b",
   "metadata": {},
   "outputs": [
    {
     "data": {
      "text/plain": [
       "False"
      ]
     },
     "execution_count": 13,
     "metadata": {},
     "output_type": "execute_result"
    }
   ],
   "source": [
    "p == q"
   ]
  },
  {
   "cell_type": "markdown",
   "id": "50623bad-8433-436c-aaa7-48e229f10adb",
   "metadata": {},
   "source": [
    "#### Changes that don't affect equality comparison"
   ]
  },
  {
   "cell_type": "markdown",
   "id": "c627cbef-3eb8-480e-84f9-afeb8eb18ef4",
   "metadata": {},
   "source": [
    "Some objects are immutable in this sense--their value never changes--but changes that don't contribute to equality comparison are still very important. For example, iterators generally compare equal only to themselves, but they are exhausted by iteration. The *the whole point of them* is that each call to `next` changes them."
   ]
  },
  {
   "cell_type": "code",
   "execution_count": 14,
   "id": "2beaa35f-7f7d-499a-b53f-21f44a4f7442",
   "metadata": {},
   "outputs": [
    {
     "data": {
      "text/plain": [
       "191032015077"
      ]
     },
     "execution_count": 14,
     "metadata": {},
     "output_type": "execute_result"
    }
   ],
   "source": [
    "a = [10, 20, 30]\n",
    "it = iter(a)\n",
    "hash(it)  # Iterators should be hashable, and they are."
   ]
  },
  {
   "cell_type": "code",
   "execution_count": 15,
   "id": "125eaa02-cdb7-4175-8c0d-bb84acb7ff52",
   "metadata": {},
   "outputs": [
    {
     "data": {
      "text/plain": [
       "False"
      ]
     },
     "execution_count": 15,
     "metadata": {},
     "output_type": "execute_result"
    }
   ],
   "source": [
    "it2 = iter(a)\n",
    "it == it2  # An iterator is equal only to itself."
   ]
  },
  {
   "cell_type": "code",
   "execution_count": 16,
   "id": "7655ff50-ae0f-4aec-a137-79f5a91ab2d5",
   "metadata": {},
   "outputs": [
    {
     "data": {
      "text/plain": [
       "10"
      ]
     },
     "execution_count": 16,
     "metadata": {},
     "output_type": "execute_result"
    }
   ],
   "source": [
    "next(it)  # Gets the first element, and ADVANCES the iterator."
   ]
  },
  {
   "cell_type": "code",
   "execution_count": 17,
   "id": "ebce3565-1cd7-4250-8b4f-2abe053adbb7",
   "metadata": {},
   "outputs": [
    {
     "data": {
      "text/plain": [
       "20"
      ]
     },
     "execution_count": 17,
     "metadata": {},
     "output_type": "execute_result"
    }
   ],
   "source": [
    "next(it)  # Different result, because next changed something!"
   ]
  },
  {
   "cell_type": "markdown",
   "id": "069243ee-f175-4673-8473-e2811b039a5f",
   "metadata": {},
   "source": [
    "The paradox is resolved by considering what an iterator represents. Each iterator object represents *a particular act of iteration*. That is, an iterator represents an ongoing process of iterating through something. That ongoing process goes through different steps; the iterator can be in different states. But it is separate from all other such ongoing processes.\n",
    "\n",
    "But perhaps this dismisses the paradox too easily. Another way to explain it is to say that iterators' reference-based equality comparison behavior is what *makes* an iterator represent an ongoing process of iterating through something. \n",
    "\n",
    "For example, suppose iterators were designed so when two iterators have the same type, and are iterating over the same collection object, and are at the same point in the collection, they would be equal. (That is, roughly speaking, the expected behavior of iterators in C++.) In that case, we would probably not say that they iterators were wrongly designed. We would say they represent *a particular step in a process of iteration*.\n",
    "\n",
    "Observe that most uses of iterators are unrelated to which of these two descriptions is true. The limitation of the notion of immutability in which iterators are immutable is not that it is wrong, ambiguous, or not useful, but that, in a given situation, it may or may not be what you care about."
   ]
  },
  {
   "cell_type": "markdown",
   "id": "bd7b05f5-ced2-4446-957e-b88692403c6b",
   "metadata": {},
   "source": [
    "### ② Of state"
   ]
  },
  {
   "cell_type": "markdown",
   "id": "17ca62a0-346f-4d5f-98f2-32eb5198ed83",
   "metadata": {},
   "source": [
    "Another, different meaning of mutability is \"the state it holds can change.\""
   ]
  },
  {
   "cell_type": "markdown",
   "id": "65b1fa64-7d63-4a9a-8e72-10f9d73704ce",
   "metadata": {},
   "source": [
    "#### What is state?"
   ]
  },
  {
   "cell_type": "markdown",
   "id": "5b221cab-45ef-4f4f-b52f-fb78278e80df",
   "metadata": {},
   "source": [
    "State is what way something is, of all the ways it can be.\n",
    "\n",
    "For example, if you flip two coins and can distinguish which is which, there are four possible states. If you can't distinguish, so that \"heads, tails\" and \"tails, heads\" are the same state, then there are three possible states.\n",
    "\n",
    "A system with $n$ possible states has $\\log_2 n$ bits of information."
   ]
  },
  {
   "cell_type": "markdown",
   "id": "7803052f-d501-48e6-b6b1-56b1a1fd3ba2",
   "metadata": {},
   "source": [
    "#### How do objects hold state?"
   ]
  },
  {
   "cell_type": "markdown",
   "id": "dc484191-89b9-48f5-91a9-a878d08eb15d",
   "metadata": {},
   "source": [
    "Objects usually hold state in their attributes, stored in instance dictionaries or slots. Instances of built-in sequences types like `list` and `tuple`, and built-in set types like `set` and `frozenset`, hold state in their elements. Instances of built-in mapping types like `dict` hold state in their keys and values."
   ]
  },
  {
   "cell_type": "markdown",
   "id": "afd6379a-ae8c-4e59-82ed-c8bb1d0bb209",
   "metadata": {},
   "source": [
    "Objects in Python know their type. If we are only interested in the distinctions between different instances of a type, then a singleton holds no state. For example, if a variable always refers to an instance of `NoneType`, then it is guaranteed to refer to `None`, the only instance of that type. This system contains zero bits of information."
   ]
  },
  {
   "cell_type": "markdown",
   "id": "23910e3a-b175-4380-9b7e-b0e8d183ff3f",
   "metadata": {},
   "source": [
    "So when we say things like \"there are only two possible states for a `bool`\" or \"there is only one possible state for a `tuple` of length zero\" we are holding some information fixed--in the first case, the type, and in he second, both the type and `len`--and talking about what varies."
   ]
  },
  {
   "cell_type": "markdown",
   "id": "efef8e6d-87a5-4017-9492-36a4a4bf39b1",
   "metadata": {},
   "source": [
    "***FIXME: Write the rest of this.***"
   ]
  },
  {
   "cell_type": "code",
   "execution_count": null,
   "id": "99bd7c1a-3bb7-414c-92db-b61c251a3ac4",
   "metadata": {},
   "outputs": [],
   "source": []
  }
 ],
 "metadata": {
  "kernelspec": {
   "display_name": "Python 3 (ipykernel)",
   "language": "python",
   "name": "python3"
  },
  "language_info": {
   "codemirror_mode": {
    "name": "ipython",
    "version": 3
   },
   "file_extension": ".py",
   "mimetype": "text/x-python",
   "name": "python",
   "nbconvert_exporter": "python",
   "pygments_lexer": "ipython3",
   "version": "3.10.6"
  },
  "vscode": {
   "interpreter": {
    "hash": "a924a81514a67ab7abb52f10576a3bff5d43dd09540bf62ec090588d0cbe25a3"
   }
  }
 },
 "nbformat": 4,
 "nbformat_minor": 5
}
