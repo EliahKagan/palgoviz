{
 "cells": [
  {
   "cell_type": "markdown",
   "id": "bdb6a4f3-3c13-4d6b-a758-db0a2a557acd",
   "metadata": {},
   "source": [
    "# Loop unrolling\n",
    "\n",
    "SPDX-License-Identifier: 0BSD"
   ]
  },
  {
   "cell_type": "code",
   "execution_count": 1,
   "id": "4d93e049-e785-4a42-aeaf-77a4abb94070",
   "metadata": {},
   "outputs": [],
   "source": [
    "def one_two_a():\n",
    "    \"\"\"Print \"one\" on a line, then \"two\" on a line, 5 times.\"\"\"\n",
    "    for _ in range(5):\n",
    "        print('one')\n",
    "        print('two')"
   ]
  },
  {
   "cell_type": "code",
   "execution_count": 2,
   "id": "50746c65-1b48-40c5-baa3-ce85b8a289d8",
   "metadata": {},
   "outputs": [
    {
     "name": "stdout",
     "output_type": "stream",
     "text": [
      "one\n",
      "two\n",
      "one\n",
      "two\n",
      "one\n",
      "two\n",
      "one\n",
      "two\n",
      "one\n",
      "two\n"
     ]
    }
   ],
   "source": [
    "one_two_a()"
   ]
  },
  {
   "cell_type": "code",
   "execution_count": 3,
   "id": "14395a16-31be-4b6e-b3b5-cecce961b078",
   "metadata": {},
   "outputs": [],
   "source": [
    "def one_two_b():\n",
    "    \"\"\"Unroll one iteration of the loop.\"\"\"\n",
    "    print('one')\n",
    "    print('two')\n",
    "    for _ in range(4):\n",
    "        print('one')\n",
    "        print('two')"
   ]
  },
  {
   "cell_type": "code",
   "execution_count": 4,
   "id": "ead28a44-c72f-49fb-89cf-440b12465b5b",
   "metadata": {},
   "outputs": [
    {
     "name": "stdout",
     "output_type": "stream",
     "text": [
      "one\n",
      "two\n",
      "one\n",
      "two\n",
      "one\n",
      "two\n",
      "one\n",
      "two\n",
      "one\n",
      "two\n"
     ]
    }
   ],
   "source": [
    "one_two_b()"
   ]
  },
  {
   "cell_type": "code",
   "execution_count": 5,
   "id": "bc486035-17d1-424c-bebd-99bd1831d2d2",
   "metadata": {},
   "outputs": [],
   "source": [
    "def one_two_c():\n",
    "    \"\"\"Unroll half an iteration of the loop.\"\"\"\n",
    "    print('one')\n",
    "    for _ in range(4):\n",
    "        print('two')\n",
    "        print('one')\n",
    "    print('two')"
   ]
  },
  {
   "cell_type": "code",
   "execution_count": 6,
   "id": "3edef604-3140-41ac-a08d-54054a7a106b",
   "metadata": {},
   "outputs": [
    {
     "name": "stdout",
     "output_type": "stream",
     "text": [
      "one\n",
      "two\n",
      "one\n",
      "two\n",
      "one\n",
      "two\n",
      "one\n",
      "two\n",
      "one\n",
      "two\n"
     ]
    }
   ],
   "source": [
    "one_two_c()"
   ]
  },
  {
   "cell_type": "code",
   "execution_count": 7,
   "id": "d905aa54-83fb-4e1a-bfbd-e84637a55713",
   "metadata": {},
   "outputs": [],
   "source": [
    "def one_two_d():\n",
    "    \"\"\"Now it's easy to avoid printing the last \"two\".\"\"\"\n",
    "    print('one')\n",
    "    for _ in range(4):\n",
    "        print('two')\n",
    "        print('one')"
   ]
  },
  {
   "cell_type": "code",
   "execution_count": 8,
   "id": "78da5b46-34bf-410d-af78-fb20cee64a6e",
   "metadata": {},
   "outputs": [
    {
     "name": "stdout",
     "output_type": "stream",
     "text": [
      "one\n",
      "two\n",
      "one\n",
      "two\n",
      "one\n",
      "two\n",
      "one\n",
      "two\n",
      "one\n"
     ]
    }
   ],
   "source": [
    "one_two_d()"
   ]
  },
  {
   "cell_type": "markdown",
   "id": "354aad7f-383e-4e41-bf66-5c9e18f71ab1",
   "metadata": {},
   "source": [
    "## Arm’s length recursion\n",
    "\n",
    "Arm’s length recursion is a recursive analogue of loop unrolling."
   ]
  },
  {
   "cell_type": "code",
   "execution_count": 9,
   "id": "3d8e4e87-a6c1-4c6d-8139-8ad1817897eb",
   "metadata": {},
   "outputs": [],
   "source": [
    "def traverse(root):\n",
    "    \"\"\"Traverse nested dictionaries that have a binary-tree structure.\"\"\"\n",
    "    if root is None:\n",
    "        return\n",
    "    \n",
    "    print(root['value'])\n",
    "    traverse(root['left'])\n",
    "    traverse(root['right'])"
   ]
  },
  {
   "cell_type": "code",
   "execution_count": 10,
   "id": "a7c34082-57b9-47d8-be91-f703e137a1c2",
   "metadata": {},
   "outputs": [],
   "source": [
    "def traverse_alt(root):\n",
    "    \"\"\"\n",
    "    Traverse nested dictionaries with a binary-tree structure.\n",
    "\n",
    "    This implementation assumes root is not None and uses arm's length recursion.\n",
    "    \n",
    "    Arm's length recursion is also called \"short-circuiting the base case.\"\n",
    "\n",
    "    Due to the increase in complexity, this technique should often be avoided.\n",
    "    \"\"\"\n",
    "    print(root['value'])\n",
    "    if root['left'] is not None:\n",
    "        traverse_alt(root['left'])\n",
    "    if root['right'] is not None:\n",
    "        traverse_alt(root['right'])"
   ]
  },
  {
   "cell_type": "code",
   "execution_count": 11,
   "id": "0020c1f2-b4e6-4c30-8270-9712fbf66604",
   "metadata": {},
   "outputs": [],
   "source": [
    "# Did somebody say \"classes\"?\n",
    "root = {\n",
    "    'value': 10,\n",
    "    'left': {\n",
    "        'value': 20,\n",
    "        'left': {\n",
    "            'value': 30,\n",
    "            'left': None,\n",
    "            'right': None,\n",
    "        },\n",
    "        'right': {\n",
    "            'value': 40,\n",
    "            'left': None,\n",
    "            'right': None,\n",
    "        },\n",
    "        \n",
    "    },\n",
    "    'right': {\n",
    "        'value': 50,\n",
    "        'left': {\n",
    "            'value': 60,\n",
    "            'left': None,\n",
    "            'right': None,\n",
    "        },\n",
    "        'right': {\n",
    "            'value': 70,\n",
    "            'left': None,\n",
    "            'right': None,\n",
    "        },\n",
    "    },\n",
    "}"
   ]
  },
  {
   "cell_type": "code",
   "execution_count": 12,
   "id": "ee21ab57-6f09-4157-b6c6-90a00f062735",
   "metadata": {},
   "outputs": [
    {
     "name": "stdout",
     "output_type": "stream",
     "text": [
      "10\n",
      "20\n",
      "30\n",
      "40\n",
      "50\n",
      "60\n",
      "70\n"
     ]
    }
   ],
   "source": [
    "traverse(root)"
   ]
  },
  {
   "cell_type": "code",
   "execution_count": 13,
   "id": "97d7a9e9-e397-4d57-99ea-40389a68b936",
   "metadata": {},
   "outputs": [
    {
     "name": "stdout",
     "output_type": "stream",
     "text": [
      "10\n",
      "20\n",
      "30\n",
      "40\n",
      "50\n",
      "60\n",
      "70\n"
     ]
    }
   ],
   "source": [
    "traverse_alt(root)"
   ]
  },
  {
   "cell_type": "code",
   "execution_count": 14,
   "id": "b681cd9b-ad6f-472e-ab39-d3d82f5ab2e9",
   "metadata": {},
   "outputs": [],
   "source": [
    "traverse(None)"
   ]
  },
  {
   "cell_type": "code",
   "execution_count": 15,
   "id": "82244b8b-0867-403a-ab91-0a618d2498d4",
   "metadata": {
    "tags": [
     "raises-exception"
    ]
   },
   "outputs": [
    {
     "ename": "TypeError",
     "evalue": "'NoneType' object is not subscriptable",
     "output_type": "error",
     "traceback": [
      "\u001b[1;31m---------------------------------------------------------------------------\u001b[0m",
      "\u001b[1;31mTypeError\u001b[0m                                 Traceback (most recent call last)",
      "Cell \u001b[1;32mIn[15], line 1\u001b[0m\n\u001b[1;32m----> 1\u001b[0m \u001b[43mtraverse_alt\u001b[49m\u001b[43m(\u001b[49m\u001b[38;5;28;43;01mNone\u001b[39;49;00m\u001b[43m)\u001b[49m\n",
      "Cell \u001b[1;32mIn[10], line 11\u001b[0m, in \u001b[0;36mtraverse_alt\u001b[1;34m(root)\u001b[0m\n\u001b[0;32m      1\u001b[0m \u001b[38;5;28;01mdef\u001b[39;00m \u001b[38;5;21mtraverse_alt\u001b[39m(root):\n\u001b[0;32m      2\u001b[0m \u001b[38;5;250m    \u001b[39m\u001b[38;5;124;03m\"\"\"\u001b[39;00m\n\u001b[0;32m      3\u001b[0m \u001b[38;5;124;03m    Traverse nested dictionaries with a binary-tree structure.\u001b[39;00m\n\u001b[0;32m      4\u001b[0m \n\u001b[1;32m   (...)\u001b[0m\n\u001b[0;32m      9\u001b[0m \u001b[38;5;124;03m    Due to the increase in complexity, this technique should often be avoided.\u001b[39;00m\n\u001b[0;32m     10\u001b[0m \u001b[38;5;124;03m    \"\"\"\u001b[39;00m\n\u001b[1;32m---> 11\u001b[0m     \u001b[38;5;28mprint\u001b[39m(\u001b[43mroot\u001b[49m\u001b[43m[\u001b[49m\u001b[38;5;124;43m'\u001b[39;49m\u001b[38;5;124;43mvalue\u001b[39;49m\u001b[38;5;124;43m'\u001b[39;49m\u001b[43m]\u001b[49m)\n\u001b[0;32m     12\u001b[0m     \u001b[38;5;28;01mif\u001b[39;00m root[\u001b[38;5;124m'\u001b[39m\u001b[38;5;124mleft\u001b[39m\u001b[38;5;124m'\u001b[39m] \u001b[38;5;129;01mis\u001b[39;00m \u001b[38;5;129;01mnot\u001b[39;00m \u001b[38;5;28;01mNone\u001b[39;00m:\n\u001b[0;32m     13\u001b[0m         traverse_alt(root[\u001b[38;5;124m'\u001b[39m\u001b[38;5;124mleft\u001b[39m\u001b[38;5;124m'\u001b[39m])\n",
      "\u001b[1;31mTypeError\u001b[0m: 'NoneType' object is not subscriptable"
     ]
    }
   ],
   "source": [
    "traverse_alt(None)"
   ]
  },
  {
   "cell_type": "markdown",
   "id": "5fb85159-e77e-4899-86a6-be4f3e44f738",
   "metadata": {},
   "source": [
    "https://en.wikipedia.org/wiki/Recursion_(computer_science)#Arm's-length_recursion"
   ]
  },
  {
   "cell_type": "code",
   "execution_count": null,
   "id": "0c046119-3543-4064-81ed-9e5f90de986c",
   "metadata": {},
   "outputs": [],
   "source": []
  }
 ],
 "metadata": {
  "kernelspec": {
   "display_name": "Python 3 (ipykernel)",
   "language": "python",
   "name": "python3"
  },
  "language_info": {
   "codemirror_mode": {
    "name": "ipython",
    "version": 3
   },
   "file_extension": ".py",
   "mimetype": "text/x-python",
   "name": "python",
   "nbconvert_exporter": "python",
   "pygments_lexer": "ipython3",
   "version": "3.11.1"
  }
 },
 "nbformat": 4,
 "nbformat_minor": 5
}
