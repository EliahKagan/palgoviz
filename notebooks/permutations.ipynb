{
 "cells": [
  {
   "cell_type": "code",
   "execution_count": 1,
   "metadata": {},
   "outputs": [],
   "source": [
    "import itertools\n",
    "import random"
   ]
  },
  {
   "cell_type": "code",
   "execution_count": 2,
   "metadata": {},
   "outputs": [],
   "source": [
    "from algoviz import recursion"
   ]
  },
  {
   "cell_type": "code",
   "execution_count": 3,
   "metadata": {},
   "outputs": [],
   "source": [
    "def test_shuffle(length, runs, shuffler):\n",
    "    freqs = dict.fromkeys(itertools.permutations(range(length)), 0)\n",
    "    \n",
    "    for _ in range(runs):\n",
    "        items = list(range(length))\n",
    "        shuffler(items)\n",
    "        freqs[tuple(items)] += 1\n",
    "    \n",
    "    return freqs"
   ]
  },
  {
   "cell_type": "code",
   "execution_count": 4,
   "metadata": {},
   "outputs": [
    {
     "data": {
      "text/plain": [
       "{(0, 1, 2, 3): 4368,\n",
       " (0, 1, 3, 2): 4237,\n",
       " (0, 2, 1, 3): 4188,\n",
       " (0, 2, 3, 1): 4059,\n",
       " (0, 3, 1, 2): 4121,\n",
       " (0, 3, 2, 1): 4075,\n",
       " (1, 0, 2, 3): 4041,\n",
       " (1, 0, 3, 2): 4197,\n",
       " (1, 2, 0, 3): 4146,\n",
       " (1, 2, 3, 0): 4249,\n",
       " (1, 3, 0, 2): 4131,\n",
       " (1, 3, 2, 0): 4114,\n",
       " (2, 0, 1, 3): 4284,\n",
       " (2, 0, 3, 1): 4229,\n",
       " (2, 1, 0, 3): 4153,\n",
       " (2, 1, 3, 0): 4071,\n",
       " (2, 3, 0, 1): 4195,\n",
       " (2, 3, 1, 0): 4244,\n",
       " (3, 0, 1, 2): 4241,\n",
       " (3, 0, 2, 1): 4193,\n",
       " (3, 1, 0, 2): 4113,\n",
       " (3, 1, 2, 0): 4185,\n",
       " (3, 2, 0, 1): 4039,\n",
       " (3, 2, 1, 0): 4127}"
      ]
     },
     "execution_count": 4,
     "metadata": {},
     "output_type": "execute_result"
    }
   ],
   "source": [
    "test_shuffle(4, 100_000, random.shuffle)"
   ]
  },
  {
   "cell_type": "code",
   "execution_count": 5,
   "metadata": {},
   "outputs": [
    {
     "data": {
      "text/plain": [
       "{(0, 1, 2, 3): 4234,\n",
       " (0, 1, 3, 2): 4083,\n",
       " (0, 2, 1, 3): 4175,\n",
       " (0, 2, 3, 1): 4112,\n",
       " (0, 3, 1, 2): 4197,\n",
       " (0, 3, 2, 1): 4164,\n",
       " (1, 0, 2, 3): 4258,\n",
       " (1, 0, 3, 2): 4106,\n",
       " (1, 2, 0, 3): 4143,\n",
       " (1, 2, 3, 0): 4143,\n",
       " (1, 3, 0, 2): 4193,\n",
       " (1, 3, 2, 0): 4182,\n",
       " (2, 0, 1, 3): 4365,\n",
       " (2, 0, 3, 1): 4178,\n",
       " (2, 1, 0, 3): 4111,\n",
       " (2, 1, 3, 0): 4061,\n",
       " (2, 3, 0, 1): 4158,\n",
       " (2, 3, 1, 0): 4161,\n",
       " (3, 0, 1, 2): 4052,\n",
       " (3, 0, 2, 1): 4167,\n",
       " (3, 1, 0, 2): 4194,\n",
       " (3, 1, 2, 0): 4223,\n",
       " (3, 2, 0, 1): 4110,\n",
       " (3, 2, 1, 0): 4230}"
      ]
     },
     "execution_count": 5,
     "metadata": {},
     "output_type": "execute_result"
    }
   ],
   "source": [
    "test_shuffle(4, 100_000, recursion.my_shuffle)"
   ]
  },
  {
   "cell_type": "code",
   "execution_count": null,
   "metadata": {},
   "outputs": [],
   "source": []
  }
 ],
 "metadata": {
  "kernelspec": {
   "display_name": "Python 3 (ipykernel)",
   "language": "python",
   "name": "python3"
  },
  "language_info": {
   "codemirror_mode": {
    "name": "ipython",
    "version": 3
   },
   "file_extension": ".py",
   "mimetype": "text/x-python",
   "name": "python",
   "nbconvert_exporter": "python",
   "pygments_lexer": "ipython3",
   "version": "3.10.6"
  },
  "vscode": {
   "interpreter": {
    "hash": "a924a81514a67ab7abb52f10576a3bff5d43dd09540bf62ec090588d0cbe25a3"
   }
  }
 },
 "nbformat": 4,
 "nbformat_minor": 4
}
