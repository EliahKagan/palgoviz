{
 "cells": [
  {
   "cell_type": "code",
   "execution_count": 6,
   "metadata": {},
   "outputs": [],
   "source": [
    "import itertools\n",
    "import random"
   ]
  },
  {
   "cell_type": "code",
   "execution_count": 7,
   "metadata": {},
   "outputs": [],
   "source": [
    "import recursion"
   ]
  },
  {
   "cell_type": "code",
   "execution_count": 8,
   "metadata": {},
   "outputs": [],
   "source": [
    "def test_shuffle(length, runs, shuffler):\n",
    "    freqs = dict.fromkeys(itertools.permutations(range(length)), 0)\n",
    "    \n",
    "    for _ in range(runs):\n",
    "        items = list(range(length))\n",
    "        shuffler(items)\n",
    "        freqs[tuple(items)] += 1\n",
    "    \n",
    "    return freqs"
   ]
  },
  {
   "cell_type": "code",
   "execution_count": 9,
   "metadata": {},
   "outputs": [
    {
     "data": {
      "text/plain": [
       "{(0, 1, 2, 3): 4197,\n",
       " (0, 1, 3, 2): 4091,\n",
       " (0, 2, 1, 3): 4163,\n",
       " (0, 2, 3, 1): 4195,\n",
       " (0, 3, 1, 2): 4241,\n",
       " (0, 3, 2, 1): 4171,\n",
       " (1, 0, 2, 3): 4286,\n",
       " (1, 0, 3, 2): 4197,\n",
       " (1, 2, 0, 3): 4208,\n",
       " (1, 2, 3, 0): 4174,\n",
       " (1, 3, 0, 2): 4115,\n",
       " (1, 3, 2, 0): 4170,\n",
       " (2, 0, 1, 3): 4207,\n",
       " (2, 0, 3, 1): 4198,\n",
       " (2, 1, 0, 3): 4121,\n",
       " (2, 1, 3, 0): 4211,\n",
       " (2, 3, 0, 1): 4178,\n",
       " (2, 3, 1, 0): 4137,\n",
       " (3, 0, 1, 2): 4183,\n",
       " (3, 0, 2, 1): 4059,\n",
       " (3, 1, 0, 2): 4091,\n",
       " (3, 1, 2, 0): 4145,\n",
       " (3, 2, 0, 1): 4168,\n",
       " (3, 2, 1, 0): 4094}"
      ]
     },
     "execution_count": 9,
     "metadata": {},
     "output_type": "execute_result"
    }
   ],
   "source": [
    "test_shuffle(4, 100_000, random.shuffle)"
   ]
  },
  {
   "cell_type": "code",
   "execution_count": 10,
   "metadata": {},
   "outputs": [
    {
     "data": {
      "text/plain": [
       "{(0, 1, 2, 3): 4164,\n",
       " (0, 1, 3, 2): 4150,\n",
       " (0, 2, 1, 3): 4193,\n",
       " (0, 2, 3, 1): 4212,\n",
       " (0, 3, 1, 2): 4152,\n",
       " (0, 3, 2, 1): 4158,\n",
       " (1, 0, 2, 3): 4089,\n",
       " (1, 0, 3, 2): 4200,\n",
       " (1, 2, 0, 3): 4144,\n",
       " (1, 2, 3, 0): 4232,\n",
       " (1, 3, 0, 2): 4118,\n",
       " (1, 3, 2, 0): 4017,\n",
       " (2, 0, 1, 3): 4177,\n",
       " (2, 0, 3, 1): 4244,\n",
       " (2, 1, 0, 3): 4273,\n",
       " (2, 1, 3, 0): 4125,\n",
       " (2, 3, 0, 1): 4183,\n",
       " (2, 3, 1, 0): 4110,\n",
       " (3, 0, 1, 2): 4207,\n",
       " (3, 0, 2, 1): 4077,\n",
       " (3, 1, 0, 2): 4087,\n",
       " (3, 1, 2, 0): 4310,\n",
       " (3, 2, 0, 1): 4137,\n",
       " (3, 2, 1, 0): 4241}"
      ]
     },
     "execution_count": 10,
     "metadata": {},
     "output_type": "execute_result"
    }
   ],
   "source": [
    "test_shuffle(4, 100_000, recursion.my_shuffle)"
   ]
  },
  {
   "cell_type": "code",
   "execution_count": null,
   "metadata": {},
   "outputs": [],
   "source": []
  }
 ],
 "metadata": {
  "kernelspec": {
   "display_name": "Python 3.10.4 ('algoviz-basics')",
   "language": "python",
   "name": "python3"
  },
  "language_info": {
   "codemirror_mode": {
    "name": "ipython",
    "version": 3
   },
   "file_extension": ".py",
   "mimetype": "text/x-python",
   "name": "python",
   "nbconvert_exporter": "python",
   "pygments_lexer": "ipython3",
   "version": "3.10.4"
  },
  "orig_nbformat": 4,
  "vscode": {
   "interpreter": {
    "hash": "a924a81514a67ab7abb52f10576a3bff5d43dd09540bf62ec090588d0cbe25a3"
   }
  }
 },
 "nbformat": 4,
 "nbformat_minor": 2
}
