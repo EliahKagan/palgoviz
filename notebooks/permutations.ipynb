{
 "cells": [
  {
   "cell_type": "markdown",
   "metadata": {},
   "source": [
    "# Distribution of `my_shuffle` permutations\n",
    "\n",
    "SPDX-License-Identifier: 0BSD"
   ]
  },
  {
   "cell_type": "code",
   "execution_count": 1,
   "metadata": {},
   "outputs": [],
   "source": [
    "import itertools\n",
    "import random"
   ]
  },
  {
   "cell_type": "code",
   "execution_count": 2,
   "metadata": {},
   "outputs": [],
   "source": [
    "from palgoviz import recursion"
   ]
  },
  {
   "cell_type": "code",
   "execution_count": 3,
   "metadata": {},
   "outputs": [],
   "source": [
    "def test_shuffle(length, runs, shuffler):\n",
    "    freqs = dict.fromkeys(itertools.permutations(range(length)), 0)\n",
    "    \n",
    "    for _ in range(runs):\n",
    "        items = list(range(length))\n",
    "        shuffler(items)\n",
    "        freqs[tuple(items)] += 1\n",
    "    \n",
    "    return freqs"
   ]
  },
  {
   "cell_type": "code",
   "execution_count": 4,
   "metadata": {},
   "outputs": [
    {
     "data": {
      "text/plain": [
       "{(0, 1, 2, 3): 4116,\n",
       " (0, 1, 3, 2): 4214,\n",
       " (0, 2, 1, 3): 4198,\n",
       " (0, 2, 3, 1): 4142,\n",
       " (0, 3, 1, 2): 4155,\n",
       " (0, 3, 2, 1): 4296,\n",
       " (1, 0, 2, 3): 4143,\n",
       " (1, 0, 3, 2): 4171,\n",
       " (1, 2, 0, 3): 4049,\n",
       " (1, 2, 3, 0): 4211,\n",
       " (1, 3, 0, 2): 4242,\n",
       " (1, 3, 2, 0): 4123,\n",
       " (2, 0, 1, 3): 4206,\n",
       " (2, 0, 3, 1): 4112,\n",
       " (2, 1, 0, 3): 4061,\n",
       " (2, 1, 3, 0): 4185,\n",
       " (2, 3, 0, 1): 4123,\n",
       " (2, 3, 1, 0): 4119,\n",
       " (3, 0, 1, 2): 4122,\n",
       " (3, 0, 2, 1): 4243,\n",
       " (3, 1, 0, 2): 4339,\n",
       " (3, 1, 2, 0): 4238,\n",
       " (3, 2, 0, 1): 4116,\n",
       " (3, 2, 1, 0): 4076}"
      ]
     },
     "execution_count": 4,
     "metadata": {},
     "output_type": "execute_result"
    }
   ],
   "source": [
    "test_shuffle(4, 100_000, random.shuffle)"
   ]
  },
  {
   "cell_type": "code",
   "execution_count": 5,
   "metadata": {},
   "outputs": [
    {
     "data": {
      "text/plain": [
       "{(0, 1, 2, 3): 4234,\n",
       " (0, 1, 3, 2): 4279,\n",
       " (0, 2, 1, 3): 4106,\n",
       " (0, 2, 3, 1): 4241,\n",
       " (0, 3, 1, 2): 4132,\n",
       " (0, 3, 2, 1): 4100,\n",
       " (1, 0, 2, 3): 4133,\n",
       " (1, 0, 3, 2): 4181,\n",
       " (1, 2, 0, 3): 4187,\n",
       " (1, 2, 3, 0): 4111,\n",
       " (1, 3, 0, 2): 4132,\n",
       " (1, 3, 2, 0): 4098,\n",
       " (2, 0, 1, 3): 4185,\n",
       " (2, 0, 3, 1): 4194,\n",
       " (2, 1, 0, 3): 4156,\n",
       " (2, 1, 3, 0): 4206,\n",
       " (2, 3, 0, 1): 4133,\n",
       " (2, 3, 1, 0): 4225,\n",
       " (3, 0, 1, 2): 4273,\n",
       " (3, 0, 2, 1): 4164,\n",
       " (3, 1, 0, 2): 4075,\n",
       " (3, 1, 2, 0): 4167,\n",
       " (3, 2, 0, 1): 4092,\n",
       " (3, 2, 1, 0): 4196}"
      ]
     },
     "execution_count": 5,
     "metadata": {},
     "output_type": "execute_result"
    }
   ],
   "source": [
    "test_shuffle(4, 100_000, recursion.my_shuffle)"
   ]
  },
  {
   "cell_type": "code",
   "execution_count": null,
   "metadata": {},
   "outputs": [],
   "source": []
  }
 ],
 "metadata": {
  "kernelspec": {
   "display_name": "Python 3 (ipykernel)",
   "language": "python",
   "name": "python3"
  },
  "language_info": {
   "codemirror_mode": {
    "name": "ipython",
    "version": 3
   },
   "file_extension": ".py",
   "mimetype": "text/x-python",
   "name": "python",
   "nbconvert_exporter": "python",
   "pygments_lexer": "ipython3",
   "version": "3.11.1"
  },
  "vscode": {
   "interpreter": {
    "hash": "a924a81514a67ab7abb52f10576a3bff5d43dd09540bf62ec090588d0cbe25a3"
   }
  }
 },
 "nbformat": 4,
 "nbformat_minor": 4
}
