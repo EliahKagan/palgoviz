{
 "cells": [
  {
   "cell_type": "code",
   "execution_count": 1,
   "metadata": {},
   "outputs": [],
   "source": [
    "import itertools\n",
    "import random"
   ]
  },
  {
   "cell_type": "code",
   "execution_count": 2,
   "metadata": {},
   "outputs": [],
   "source": [
    "from algoviz import recursion"
   ]
  },
  {
   "cell_type": "code",
   "execution_count": 3,
   "metadata": {},
   "outputs": [],
   "source": [
    "def test_shuffle(length, runs, shuffler):\n",
    "    freqs = dict.fromkeys(itertools.permutations(range(length)), 0)\n",
    "    \n",
    "    for _ in range(runs):\n",
    "        items = list(range(length))\n",
    "        shuffler(items)\n",
    "        freqs[tuple(items)] += 1\n",
    "    \n",
    "    return freqs"
   ]
  },
  {
   "cell_type": "code",
   "execution_count": 4,
   "metadata": {},
   "outputs": [
    {
     "data": {
      "text/plain": [
       "{(0, 1, 2, 3): 4127,\n",
       " (0, 1, 3, 2): 4060,\n",
       " (0, 2, 1, 3): 4238,\n",
       " (0, 2, 3, 1): 4180,\n",
       " (0, 3, 1, 2): 4132,\n",
       " (0, 3, 2, 1): 4091,\n",
       " (1, 0, 2, 3): 4203,\n",
       " (1, 0, 3, 2): 4266,\n",
       " (1, 2, 0, 3): 4175,\n",
       " (1, 2, 3, 0): 4204,\n",
       " (1, 3, 0, 2): 4183,\n",
       " (1, 3, 2, 0): 4117,\n",
       " (2, 0, 1, 3): 4183,\n",
       " (2, 0, 3, 1): 4187,\n",
       " (2, 1, 0, 3): 4212,\n",
       " (2, 1, 3, 0): 4167,\n",
       " (2, 3, 0, 1): 4060,\n",
       " (2, 3, 1, 0): 4145,\n",
       " (3, 0, 1, 2): 4090,\n",
       " (3, 0, 2, 1): 4194,\n",
       " (3, 1, 0, 2): 4201,\n",
       " (3, 1, 2, 0): 4288,\n",
       " (3, 2, 0, 1): 4111,\n",
       " (3, 2, 1, 0): 4186}"
      ]
     },
     "execution_count": 4,
     "metadata": {},
     "output_type": "execute_result"
    }
   ],
   "source": [
    "test_shuffle(4, 100_000, random.shuffle)"
   ]
  },
  {
   "cell_type": "code",
   "execution_count": 5,
   "metadata": {},
   "outputs": [
    {
     "data": {
      "text/plain": [
       "{(0, 1, 2, 3): 4176,\n",
       " (0, 1, 3, 2): 4275,\n",
       " (0, 2, 1, 3): 4146,\n",
       " (0, 2, 3, 1): 4108,\n",
       " (0, 3, 1, 2): 4266,\n",
       " (0, 3, 2, 1): 4099,\n",
       " (1, 0, 2, 3): 4106,\n",
       " (1, 0, 3, 2): 4177,\n",
       " (1, 2, 0, 3): 4163,\n",
       " (1, 2, 3, 0): 4228,\n",
       " (1, 3, 0, 2): 4258,\n",
       " (1, 3, 2, 0): 4118,\n",
       " (2, 0, 1, 3): 4180,\n",
       " (2, 0, 3, 1): 4072,\n",
       " (2, 1, 0, 3): 4136,\n",
       " (2, 1, 3, 0): 4226,\n",
       " (2, 3, 0, 1): 4123,\n",
       " (2, 3, 1, 0): 4085,\n",
       " (3, 0, 1, 2): 4146,\n",
       " (3, 0, 2, 1): 4128,\n",
       " (3, 1, 0, 2): 4197,\n",
       " (3, 1, 2, 0): 4289,\n",
       " (3, 2, 0, 1): 4130,\n",
       " (3, 2, 1, 0): 4168}"
      ]
     },
     "execution_count": 5,
     "metadata": {},
     "output_type": "execute_result"
    }
   ],
   "source": [
    "test_shuffle(4, 100_000, recursion.my_shuffle)"
   ]
  },
  {
   "cell_type": "code",
   "execution_count": null,
   "metadata": {},
   "outputs": [],
   "source": []
  }
 ],
 "metadata": {
  "kernelspec": {
   "display_name": "Python 3 (ipykernel)",
   "language": "python",
   "name": "python3"
  },
  "language_info": {
   "codemirror_mode": {
    "name": "ipython",
    "version": 3
   },
   "file_extension": ".py",
   "mimetype": "text/x-python",
   "name": "python",
   "nbconvert_exporter": "python",
   "pygments_lexer": "ipython3",
   "version": "3.11.0"
  },
  "vscode": {
   "interpreter": {
    "hash": "a924a81514a67ab7abb52f10576a3bff5d43dd09540bf62ec090588d0cbe25a3"
   }
  }
 },
 "nbformat": 4,
 "nbformat_minor": 4
}
