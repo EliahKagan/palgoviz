{
 "cells": [
  {
   "cell_type": "markdown",
   "id": "d39e148d-bc16-4832-af7a-8e9a806a4bee",
   "metadata": {},
   "source": [
    "# Assignment - Deconstruction\n",
    "\n",
    "**Targets and patterns.**\n",
    "\n",
    "For an overview of assignment, see `assign1.ipynb`."
   ]
  },
  {
   "cell_type": "markdown",
   "id": "ce257993-1851-4393-8baf-931d1bb4bf90",
   "metadata": {},
   "source": [
    "## Review of tuple/list syntax in assignment targets"
   ]
  },
  {
   "cell_type": "markdown",
   "id": "fd0f8010-64fb-403b-84a9-0443714adbd5",
   "metadata": {},
   "source": [
    "### Tuple syntax"
   ]
  },
  {
   "cell_type": "markdown",
   "id": "0a4d4449-c2cf-4bde-8433-6c6f6efac7a7",
   "metadata": {},
   "source": [
    "Recall that `x, y` is syntactically a tuple as it appears in these statements, but no tuple is created, *not even in principle*, because it is given as the target of assignment:"
   ]
  },
  {
   "cell_type": "code",
   "execution_count": 1,
   "id": "94f2f6ec-a0a4-4a1c-a71d-86c082e8ed8a",
   "metadata": {},
   "outputs": [],
   "source": [
    "x, y = [10, 20]"
   ]
  },
  {
   "cell_type": "code",
   "execution_count": 2,
   "id": "7635225e-bc3e-4e46-8eee-e02b6aead277",
   "metadata": {},
   "outputs": [
    {
     "name": "stdout",
     "output_type": "stream",
     "text": [
      "x=10, y=20\n"
     ]
    }
   ],
   "source": [
    "print(f'{x=}, {y=}')"
   ]
  },
  {
   "cell_type": "code",
   "execution_count": 3,
   "id": "4f91d285-00ea-413a-a31c-2926ce84dd38",
   "metadata": {},
   "outputs": [
    {
     "name": "stdout",
     "output_type": "stream",
     "text": [
      "x=30, y=40\n",
      "x=50, y=60\n"
     ]
    }
   ],
   "source": [
    "for x, y in [[30, 40], [50, 60]]:\n",
    "    print(f'{x=}, {y=}')"
   ]
  },
  {
   "cell_type": "markdown",
   "id": "7b4ff21b-1c70-4718-8899-a532d79247cb",
   "metadata": {},
   "source": [
    "`(x, y)` may be written in place of `x, y`, in both the assignment statement and the `for` loop shown above, and this has the same meaning. After all, in this context, both `x, y` and `(x, y)` are syntactically tuples."
   ]
  },
  {
   "cell_type": "markdown",
   "id": "7c962def-3082-42bd-b570-4f9148612abb",
   "metadata": {},
   "source": [
    "### List syntax (equivalent)"
   ]
  },
  {
   "cell_type": "markdown",
   "id": "ff38bdb7-1599-4b90-9c10-f5486027e26e",
   "metadata": {},
   "source": [
    "Recall also that it is sometimes more convenient to use list syntax, so `[x, y]` is syntactically a list as it appears in these statements, but no list is created (except that the right-hand side coincidentally happens to be a list), *not even in principle*, because it is given as the target of assignment:"
   ]
  },
  {
   "cell_type": "code",
   "execution_count": 4,
   "id": "8be8baad-a765-401d-8018-482f1be2034b",
   "metadata": {},
   "outputs": [],
   "source": [
    "[x, y] = [11, 22]"
   ]
  },
  {
   "cell_type": "code",
   "execution_count": 5,
   "id": "ec15abe3-0455-46f6-b2c7-50f648e06e96",
   "metadata": {},
   "outputs": [
    {
     "name": "stdout",
     "output_type": "stream",
     "text": [
      "x=11, y=22\n"
     ]
    }
   ],
   "source": [
    "print(f'{x=}, {y=}')"
   ]
  },
  {
   "cell_type": "code",
   "execution_count": 6,
   "id": "e2639bd5-8daf-44fd-ba6b-bc1e57484517",
   "metadata": {},
   "outputs": [
    {
     "name": "stdout",
     "output_type": "stream",
     "text": [
      "x=33, y=44\n",
      "x=55, y=66\n"
     ]
    }
   ],
   "source": [
    "for x, y in [[33, 44], [55, 66]]:\n",
    "    print(f'{x=}, {y=}')"
   ]
  },
  {
   "cell_type": "markdown",
   "id": "b63b3410-0d46-48ef-a7dc-7c1da47ed1e2",
   "metadata": {},
   "source": [
    "### Nested tuple/list syntax"
   ]
  },
  {
   "cell_type": "markdown",
   "id": "301af342-f562-416f-bc14-03220603a644",
   "metadata": {},
   "source": [
    "Finally, recall that nested tuple/list expressions are likewise permitted, and these are syntactically nested tuples/lists, but semantically they do not entail the creation of any list or tuple, *not even in principle*. Instead, what is happening--in all these cases--is that, informally speaking, we are specifying the *shape* of the data being deconstructed:"
   ]
  },
  {
   "cell_type": "code",
   "execution_count": 7,
   "id": "70180fc1-a51a-4059-9bab-a15c16026b86",
   "metadata": {},
   "outputs": [],
   "source": [
    "w, [x, (y, z)], t = [10, [20, [30, 40]], 50]"
   ]
  },
  {
   "cell_type": "code",
   "execution_count": 8,
   "id": "eb7866f7-e9f3-4e9a-83d3-7f2c9cf0ff5c",
   "metadata": {},
   "outputs": [
    {
     "name": "stdout",
     "output_type": "stream",
     "text": [
      "w=10, x=20, y=30, z=40, t=50\n"
     ]
    }
   ],
   "source": [
    "print(f'{w=}, {x=}, {y=}, {z=}, {t=}')"
   ]
  },
  {
   "cell_type": "code",
   "execution_count": 9,
   "id": "89a0dc1e-80b7-4936-994f-8e31db52b520",
   "metadata": {},
   "outputs": [
    {
     "name": "stdout",
     "output_type": "stream",
     "text": [
      "w=1, x=2, y=3, z=4, t=5\n",
      "w=6, x=7, y=8, z=9, t=10\n"
     ]
    }
   ],
   "source": [
    "for w, [x, (y, z)], t in [1, [2, [3, 4]], 5], [6, [7, [8, 9]], 10]:\n",
    "    print(f'{w=}, {x=}, {y=}, {z=}, {t=}')"
   ]
  },
  {
   "cell_type": "markdown",
   "id": "e6e18d2c-9a3f-47b5-9ecc-c2118deed29d",
   "metadata": {},
   "source": [
    "`w, [x, (y, z)], t` is syntactically a tuple of:\n",
    "\n",
    "- the name `w`\n",
    "- a list of:\n",
    "  - the name `x`\n",
    "  - a tuple of:\n",
    "    - the name `y`\n",
    "    - the name `z`\n",
    "- the name `t`\n",
    "\n",
    "But no list or tuple is created. This is instead a way for the left-hand side of an assignment to specify, statically, the structure that the object appearing on the right-hand side will be expected, dynamically (i.e., at runtime), to have. This is so that object can be picked apart appropriately to assign the desired pieces to the variables."
   ]
  },
  {
   "cell_type": "markdown",
   "id": "d8d1ff96-776d-4e9a-98f5-db841c5077aa",
   "metadata": {},
   "source": [
    "### The left-side structure is static, the right-side structure is dynamic"
   ]
  },
  {
   "cell_type": "markdown",
   "id": "164959a8-5fa1-4206-9bfe-d9572f1b99cb",
   "metadata": {},
   "source": [
    "Whenever the object the right-hand side *evaluates to at runtime* is not iterable or does not have the correct number of elements, or its elements that correspond to \"tuples\" or \"lists\" on the left-hand side are not iterable or do not have the correct number of elements, etc., we get an error."
   ]
  },
  {
   "cell_type": "code",
   "execution_count": 10,
   "id": "b760f1a6-8fb3-42b7-8f72-e89644dcb161",
   "metadata": {
    "tags": [
     "raises-exception"
    ]
   },
   "outputs": [
    {
     "ename": "ValueError",
     "evalue": "too many values to unpack (expected 2)",
     "output_type": "error",
     "traceback": [
      "\u001b[1;31m---------------------------------------------------------------------------\u001b[0m",
      "\u001b[1;31mValueError\u001b[0m                                Traceback (most recent call last)",
      "Cell \u001b[1;32mIn [10], line 1\u001b[0m\n\u001b[1;32m----> 1\u001b[0m w, [x, (y, z)], t \u001b[38;5;241m=\u001b[39m [\u001b[38;5;241m10\u001b[39m, [\u001b[38;5;241m20\u001b[39m, [\u001b[38;5;241m30\u001b[39m, \u001b[38;5;241m40\u001b[39m, \u001b[38;5;241m41\u001b[39m]], \u001b[38;5;241m50\u001b[39m]\n",
      "\u001b[1;31mValueError\u001b[0m: too many values to unpack (expected 2)"
     ]
    }
   ],
   "source": [
    "w, [x, (y, z)], t = [10, [20, [30, 40, 41]], 50]"
   ]
  },
  {
   "cell_type": "markdown",
   "id": "e2e2244d-f3b7-4601-ac28-d13e543bead9",
   "metadata": {},
   "source": [
    "### In `match`-`case`"
   ]
  },
  {
   "cell_type": "markdown",
   "id": "d4abd885-22fb-472e-bfaf-8d1dbd30a9c4",
   "metadata": {},
   "source": [
    "`match`-`case` has more powerful pattern matching than other forms of assignment. This will be reviewed and further explored below. But the above examples apply to `match`-`case` as well:"
   ]
  },
  {
   "cell_type": "code",
   "execution_count": 11,
   "id": "92d14e35-ff3d-484b-9fbb-0227ed507914",
   "metadata": {},
   "outputs": [],
   "source": [
    "def try_match(obj):\n",
    "    match obj:\n",
    "        case w, [x, (y, z)], t:\n",
    "            print(f'{obj!r} matched. Got {w=}, {x=}, {y=}, {z=}, {t=}.')\n",
    "        case _:\n",
    "            print(f'{obj!r} did not match.')  # Well, it matched this catch-all pattern."
   ]
  },
  {
   "cell_type": "code",
   "execution_count": 12,
   "id": "8f2e73f6-f950-47a8-a992-e00f3918c377",
   "metadata": {},
   "outputs": [
    {
     "name": "stdout",
     "output_type": "stream",
     "text": [
      "[10, [20, [30, 40]], 50] matched. Got w=10, x=20, y=30, z=40, t=50.\n"
     ]
    }
   ],
   "source": [
    "try_match([10, [20, [30, 40]], 50])"
   ]
  },
  {
   "cell_type": "code",
   "execution_count": 13,
   "id": "3a679269-9ddc-48f7-b057-29fb4cf9af46",
   "metadata": {},
   "outputs": [
    {
     "name": "stdout",
     "output_type": "stream",
     "text": [
      "[10, [20, [30, 40, 41]], 50] did not match.\n"
     ]
    }
   ],
   "source": [
    "try_match([10, [20, [30, 40, 41]], 50])"
   ]
  },
  {
   "cell_type": "markdown",
   "id": "e8d634b9-1400-4cd5-b113-9e6f4fa636e5",
   "metadata": {},
   "source": [
    "### Why \"not even in principle\""
   ]
  },
  {
   "cell_type": "markdown",
   "id": "f9f262cb-1f98-415f-a90d-792ccaaddab1",
   "metadata": {},
   "source": [
    "Note that all of the above are different from a situation where creating a list or tuple is specified but is likely to be optimized away, as on the *right-hand side* of:"
   ]
  },
  {
   "cell_type": "code",
   "execution_count": 14,
   "id": "1e6010dc-5659-412f-8fa1-da084fea7ef7",
   "metadata": {},
   "outputs": [],
   "source": [
    "p, q = 100, 200"
   ]
  },
  {
   "cell_type": "markdown",
   "id": "eba49999-4139-428e-bf7f-dc68c26b8a1a",
   "metadata": {},
   "source": [
    "On the *left-hand side* of that assignment statement, the reason no actual tuple `p, q` is created is not that any operation is optimized away, but that there is not even any way to *make sense* out of creating such a tuple.\n",
    "\n",
    "(`p` and `q` need not, and in this case do not, even exist yet. Furthermore, tuples are immutable, so we cannot assign values *into* them.)"
   ]
  },
  {
   "cell_type": "markdown",
   "id": "72601aba-8582-4445-af64-22510e328af4",
   "metadata": {},
   "source": [
    "## `match`-`case` patterns"
   ]
  },
  {
   "cell_type": "markdown",
   "id": "c210a066-4672-43cf-a4e3-6ca1704d62ac",
   "metadata": {},
   "source": [
    "We begin with review, then explore what it means when what is *syntactically* a call expression--as if to construct an object by calling a class--appears as a pattern in `match`-`case`, and the meaning of keyword and positional arguments in such a pattern."
   ]
  },
  {
   "cell_type": "code",
   "execution_count": 15,
   "id": "8285bdd3-cfbd-4a8a-a155-eea0d9038643",
   "metadata": {},
   "outputs": [],
   "source": [
    "from fractions import Fraction\n",
    "from numbers import Real"
   ]
  },
  {
   "cell_type": "code",
   "execution_count": 16,
   "id": "46ec7739-ecca-4f93-bc0a-c4da02a88bbe",
   "metadata": {
    "tags": [
     "raises-exception"
    ]
   },
   "outputs": [
    {
     "ename": "TypeError",
     "evalue": "Can't instantiate abstract class Real with abstract methods __abs__, __add__, __ceil__, __eq__, __float__, __floor__, __floordiv__, __le__, __lt__, __mod__, __mul__, __neg__, __pos__, __pow__, __radd__, __rfloordiv__, __rmod__, __rmul__, __round__, __rpow__, __rtruediv__, __truediv__, __trunc__",
     "output_type": "error",
     "traceback": [
      "\u001b[1;31m---------------------------------------------------------------------------\u001b[0m",
      "\u001b[1;31mTypeError\u001b[0m                                 Traceback (most recent call last)",
      "Cell \u001b[1;32mIn [16], line 1\u001b[0m\n\u001b[1;32m----> 1\u001b[0m \u001b[43mReal\u001b[49m\u001b[43m(\u001b[49m\u001b[43m)\u001b[49m\n",
      "\u001b[1;31mTypeError\u001b[0m: Can't instantiate abstract class Real with abstract methods __abs__, __add__, __ceil__, __eq__, __float__, __floor__, __floordiv__, __le__, __lt__, __mod__, __mul__, __neg__, __pos__, __pow__, __radd__, __rfloordiv__, __rmod__, __rmul__, __round__, __rpow__, __rtruediv__, __truediv__, __trunc__"
     ]
    }
   ],
   "source": [
    "Real()  # Abstract class, can't instantiate."
   ]
  },
  {
   "cell_type": "code",
   "execution_count": 17,
   "id": "493bd6dc-bee6-4818-b5bd-3e40c2924d9b",
   "metadata": {},
   "outputs": [],
   "source": [
    "def describe(n):\n",
    "    match n:\n",
    "        case 42:\n",
    "            print(f'{n} is said to be the answer to an important question.')\n",
    "        case 76:\n",
    "            print(f'{n} is a pretty cool integer.')\n",
    "        case int():  # Does not \"construct\" an int, which would always be 0.\n",
    "            print(f'{n} is some integer or other.')\n",
    "        case Real():  # Does not \"construct\" a Real, which could never succeed.\n",
    "            print(f'{n} is not an integer, but a real number of some sort.')\n",
    "        case _:\n",
    "            print(f'{n} is not a real number.')"
   ]
  },
  {
   "cell_type": "code",
   "execution_count": 18,
   "id": "0eda4627-493f-4977-bfca-fc9383ab0665",
   "metadata": {},
   "outputs": [
    {
     "name": "stdout",
     "output_type": "stream",
     "text": [
      "42 is said to be the answer to an important question.\n",
      "76 is a pretty cool integer.\n",
      "100 is some integer or other.\n",
      "2.5 is not an integer, but a real number of some sort.\n",
      "5/2 is not an integer, but a real number of some sort.\n",
      "4j is not a real number.\n",
      "foo is not a real number.\n"
     ]
    }
   ],
   "source": [
    "for thing in 42, 76, 100, 2.5, Fraction(5, 2), 4j, 'foo':\n",
    "    describe(thing)"
   ]
  },
  {
   "cell_type": "markdown",
   "id": "79f93d07-6c91-47e1-b4cd-e1912dd31fff",
   "metadata": {},
   "source": [
    "What happens if we try to extract 42 and 76 to named constants?"
   ]
  },
  {
   "cell_type": "code",
   "execution_count": 19,
   "id": "b7bd891c-281e-4e84-b44f-b3d69df7e32c",
   "metadata": {},
   "outputs": [],
   "source": [
    "THE_ANSWER = 42"
   ]
  },
  {
   "cell_type": "code",
   "execution_count": 20,
   "id": "5b4b10c6-b4c0-49ed-9ade-d58a69722439",
   "metadata": {},
   "outputs": [],
   "source": [
    "COOL_INTEGER = 76"
   ]
  },
  {
   "cell_type": "code",
   "execution_count": 21,
   "id": "b5f1317c-0ec9-469c-9420-47109e12e8c7",
   "metadata": {
    "tags": [
     "raises-exception"
    ]
   },
   "outputs": [
    {
     "ename": "SyntaxError",
     "evalue": "name capture 'THE_ANSWER' makes remaining patterns unreachable (2454158040.py, line 3)",
     "output_type": "error",
     "traceback": [
      "\u001b[1;36m  Cell \u001b[1;32mIn [21], line 3\u001b[1;36m\u001b[0m\n\u001b[1;33m    case THE_ANSWER:\u001b[0m\n\u001b[1;37m         ^\u001b[0m\n\u001b[1;31mSyntaxError\u001b[0m\u001b[1;31m:\u001b[0m name capture 'THE_ANSWER' makes remaining patterns unreachable\n"
     ]
    }
   ],
   "source": [
    "def describe2(n):\n",
    "    match n:\n",
    "        case THE_ANSWER:\n",
    "            print(f'{n} is said to be the answer to an important question.')\n",
    "        case COOL_INTEGER:\n",
    "            print(f'{n} is a pretty cool integer.')\n",
    "        case int():  # Does not \"construct\" an int, which would always be 0.\n",
    "            print(f'{n} is some integer or other.')\n",
    "        case Real():  # Does not \"construct\" a Real, which could never succeed.\n",
    "            print(f'{n} is not an integer, but a real number of some sort.')\n",
    "        case _:\n",
    "            print(f'{n} is not a real number.')"
   ]
  },
  {
   "cell_type": "code",
   "execution_count": 22,
   "id": "ea721163-538a-4ce0-bd1f-c15c01d38edc",
   "metadata": {},
   "outputs": [],
   "source": [
    "def describe2(n):\n",
    "    match n:\n",
    "        case THE_ANSWER:\n",
    "            print(f'{n} is said to be the answer to an important question.')"
   ]
  },
  {
   "cell_type": "code",
   "execution_count": 23,
   "id": "f99b9197-3f80-4c4a-9c7a-afafae92701e",
   "metadata": {},
   "outputs": [
    {
     "name": "stdout",
     "output_type": "stream",
     "text": [
      "42 is said to be the answer to an important question.\n"
     ]
    }
   ],
   "source": [
    "describe2(42)"
   ]
  },
  {
   "cell_type": "code",
   "execution_count": 24,
   "id": "f9b3a383-a9dc-48a1-b5d7-8adce52f9345",
   "metadata": {},
   "outputs": [
    {
     "name": "stdout",
     "output_type": "stream",
     "text": [
      "41 is said to be the answer to an important question.\n"
     ]
    }
   ],
   "source": [
    "describe2(41)"
   ]
  },
  {
   "cell_type": "code",
   "execution_count": 25,
   "id": "163db083-5af0-4b33-b7ee-ff3c5d2f538f",
   "metadata": {},
   "outputs": [
    {
     "data": {
      "text/plain": [
       "42"
      ]
     },
     "execution_count": 25,
     "metadata": {},
     "output_type": "execute_result"
    }
   ],
   "source": [
    "THE_ANSWER"
   ]
  },
  {
   "cell_type": "code",
   "execution_count": 26,
   "id": "6f074437-946a-4b4b-a09f-ffc22bb384ca",
   "metadata": {},
   "outputs": [
    {
     "name": "stdout",
     "output_type": "stream",
     "text": [
      "Hmm...\n"
     ]
    }
   ],
   "source": [
    "match 41:\n",
    "    case THE_ANSWER:\n",
    "        print('Hmm...')"
   ]
  },
  {
   "cell_type": "code",
   "execution_count": 27,
   "id": "94f30282-a0f3-4d7d-a8dc-8d606eb6093e",
   "metadata": {},
   "outputs": [
    {
     "data": {
      "text/plain": [
       "41"
      ]
     },
     "execution_count": 27,
     "metadata": {},
     "output_type": "execute_result"
    }
   ],
   "source": [
    "THE_ANSWER"
   ]
  },
  {
   "cell_type": "code",
   "execution_count": 28,
   "id": "88906a8d-4650-4985-a49a-154c901f80a0",
   "metadata": {},
   "outputs": [],
   "source": [
    "def f(): \n",
    "    THE_ANSWER = 4"
   ]
  },
  {
   "cell_type": "code",
   "execution_count": 29,
   "id": "fd632fc9-86d2-49bd-a0b7-688f4f64d9e9",
   "metadata": {},
   "outputs": [],
   "source": [
    "f()"
   ]
  },
  {
   "cell_type": "code",
   "execution_count": 30,
   "id": "9958ac92-4d70-4b6d-9088-4fb487d22fc7",
   "metadata": {},
   "outputs": [
    {
     "data": {
      "text/plain": [
       "41"
      ]
     },
     "execution_count": 30,
     "metadata": {},
     "output_type": "execute_result"
    }
   ],
   "source": [
    "THE_ANSWER"
   ]
  },
  {
   "cell_type": "code",
   "execution_count": 31,
   "id": "7ac62278-5c0c-45c0-a2b2-5bf4d6c90a66",
   "metadata": {},
   "outputs": [],
   "source": [
    "from types import SimpleNamespace"
   ]
  },
  {
   "cell_type": "code",
   "execution_count": 32,
   "id": "b39febe1-38a4-4694-af98-a7d2920e1f79",
   "metadata": {},
   "outputs": [],
   "source": [
    "CONSTANTS = SimpleNamespace(THE_ANSWER=42, COOL_INTEGER=76)"
   ]
  },
  {
   "cell_type": "code",
   "execution_count": 33,
   "id": "03f423a2-1406-43fd-b81d-e5a025ecd7e6",
   "metadata": {},
   "outputs": [
    {
     "data": {
      "text/plain": [
       "namespace(THE_ANSWER=42, COOL_INTEGER=76)"
      ]
     },
     "execution_count": 33,
     "metadata": {},
     "output_type": "execute_result"
    }
   ],
   "source": [
    "CONSTANTS"
   ]
  },
  {
   "cell_type": "code",
   "execution_count": 34,
   "id": "fdbf9290-a3e0-458a-b0b1-5528da731cad",
   "metadata": {},
   "outputs": [],
   "source": [
    "def describe3(n):\n",
    "    match n:\n",
    "        case CONSTANTS.THE_ANSWER:\n",
    "            print(f'{n} is said to be the answer to an important question.')\n",
    "        case CONSTANTS.COOL_INTEGER:\n",
    "            print(f'{n} is a pretty cool integer.')\n",
    "        case int():  # Does not \"construct\" an int, which would always be 0.\n",
    "            print(f'{n} is some integer or other.')\n",
    "        case Real():  # Does not \"construct\" a Real, which could never succeed.\n",
    "            print(f'{n} is not an integer, but a real number of some sort.')\n",
    "        case _:\n",
    "            print(f'{n} is not a real number.')"
   ]
  },
  {
   "cell_type": "code",
   "execution_count": 35,
   "id": "b19aef12-9d1a-448c-8fac-4685c031d483",
   "metadata": {},
   "outputs": [
    {
     "name": "stdout",
     "output_type": "stream",
     "text": [
      "42 is said to be the answer to an important question.\n",
      "76 is a pretty cool integer.\n",
      "100 is some integer or other.\n",
      "2.5 is not an integer, but a real number of some sort.\n",
      "5/2 is not an integer, but a real number of some sort.\n",
      "4j is not a real number.\n",
      "foo is not a real number.\n"
     ]
    }
   ],
   "source": [
    "for thing in 42, 76, 100, 2.5, Fraction(5, 2), 4j, 'foo':\n",
    "    describe3(thing)"
   ]
  },
  {
   "cell_type": "markdown",
   "id": "b8db1980-d688-44ea-a9fd-99d109406ef2",
   "metadata": {},
   "source": [
    "## Keyword arguments in `match`-`case` patterns"
   ]
  },
  {
   "cell_type": "code",
   "execution_count": 36,
   "id": "90d5abaf-177b-4883-bfab-fd8243aeb16f",
   "metadata": {},
   "outputs": [
    {
     "name": "stdout",
     "output_type": "stream",
     "text": [
      "Matched\n"
     ]
    }
   ],
   "source": [
    "match CONSTANTS: \n",
    "    case SimpleNamespace(): \n",
    "        print('Matched')\n",
    "    case _: \n",
    "        print('Did not match')"
   ]
  },
  {
   "cell_type": "code",
   "execution_count": 37,
   "id": "132a1893-02c4-44c6-9287-3135e2d1a8f4",
   "metadata": {},
   "outputs": [
    {
     "data": {
      "text/plain": [
       "False"
      ]
     },
     "execution_count": 37,
     "metadata": {},
     "output_type": "execute_result"
    }
   ],
   "source": [
    "CONSTANTS == SimpleNamespace()"
   ]
  },
  {
   "cell_type": "code",
   "execution_count": 38,
   "id": "59f4d4b1-3c16-4bc0-adcd-b33599bf6c0b",
   "metadata": {},
   "outputs": [
    {
     "name": "stdout",
     "output_type": "stream",
     "text": [
      "Did not match\n"
     ]
    }
   ],
   "source": [
    "match CONSTANTS: \n",
    "    case Real(): \n",
    "        print('Matched')\n",
    "    case _: \n",
    "        print('Did not match')"
   ]
  },
  {
   "cell_type": "code",
   "execution_count": 39,
   "id": "aa633009-1b3a-4db1-b2fd-a80e49e00e2a",
   "metadata": {},
   "outputs": [
    {
     "name": "stdout",
     "output_type": "stream",
     "text": [
      "Did not match\n"
     ]
    }
   ],
   "source": [
    "match CONSTANTS: \n",
    "    case SimpleNamespace(THE_ANSWER=41): \n",
    "        print('Matched')\n",
    "    case _: \n",
    "        print('Did not match')"
   ]
  },
  {
   "cell_type": "code",
   "execution_count": 40,
   "id": "7d314bc6-eef4-4a20-9074-26929401e3c0",
   "metadata": {},
   "outputs": [
    {
     "name": "stdout",
     "output_type": "stream",
     "text": [
      "Matched\n"
     ]
    }
   ],
   "source": [
    "match CONSTANTS: \n",
    "    case SimpleNamespace(THE_ANSWER=42): \n",
    "        print('Matched')\n",
    "    case _: \n",
    "        print('Did not match')"
   ]
  },
  {
   "cell_type": "code",
   "execution_count": 41,
   "id": "0e7eaa92-1a2a-4c12-835e-103f4a77e78c",
   "metadata": {},
   "outputs": [
    {
     "name": "stdout",
     "output_type": "stream",
     "text": [
      "Did not match\n"
     ]
    }
   ],
   "source": [
    "match CONSTANTS: \n",
    "    case SimpleNamespace(THE_ANSWER=42, COOL_INTEGER=32): \n",
    "        print('Matched')\n",
    "    case _: \n",
    "        print('Did not match')"
   ]
  },
  {
   "cell_type": "code",
   "execution_count": 42,
   "id": "db8eaf8e-b64e-49e5-b5f8-dc0f5280e362",
   "metadata": {},
   "outputs": [
    {
     "name": "stdout",
     "output_type": "stream",
     "text": [
      "Matched\n"
     ]
    }
   ],
   "source": [
    "match CONSTANTS: \n",
    "    case SimpleNamespace(THE_ANSWER=42, COOL_INTEGER=76): \n",
    "        print('Matched')\n",
    "    case _: \n",
    "        print('Did not match')"
   ]
  },
  {
   "cell_type": "code",
   "execution_count": 43,
   "id": "3e39954f-6f71-4f76-8e19-ee33e3058c83",
   "metadata": {},
   "outputs": [
    {
     "name": "stdout",
     "output_type": "stream",
     "text": [
      "Did not match\n"
     ]
    }
   ],
   "source": [
    "match CONSTANTS: \n",
    "    case SimpleNamespace(THE_ANSWER=42, COOL_INTEGER=76, EXTRA_INTEGER=9): \n",
    "        print('Matched')\n",
    "    case _: \n",
    "        print('Did not match')"
   ]
  },
  {
   "cell_type": "code",
   "execution_count": 44,
   "id": "2bc2b5e9-4ecb-4c0e-866e-e3b9ba77b6c5",
   "metadata": {},
   "outputs": [
    {
     "name": "stdout",
     "output_type": "stream",
     "text": [
      "Matched\n"
     ]
    }
   ],
   "source": [
    "match CONSTANTS: \n",
    "    case SimpleNamespace(THE_ANSWER=42, COOL_INTEGER=ci): \n",
    "        print('Matched')\n",
    "    case _: \n",
    "        print('Did not match')"
   ]
  },
  {
   "cell_type": "code",
   "execution_count": 45,
   "id": "a901c0ce-5453-4602-abc0-ee671b8f3601",
   "metadata": {},
   "outputs": [
    {
     "data": {
      "text/plain": [
       "76"
      ]
     },
     "execution_count": 45,
     "metadata": {},
     "output_type": "execute_result"
    }
   ],
   "source": [
    "ci"
   ]
  },
  {
   "cell_type": "code",
   "execution_count": 46,
   "id": "8bd84a80-fae6-4546-b445-830b10e5a803",
   "metadata": {},
   "outputs": [],
   "source": [
    "s = [1, 'two', CONSTANTS, SimpleNamespace(plevel=9001, second=CONSTANTS)]"
   ]
  },
  {
   "cell_type": "code",
   "execution_count": 47,
   "id": "840d559d-147c-4e0e-bd68-0db4e0140eff",
   "metadata": {},
   "outputs": [
    {
     "name": "stdout",
     "output_type": "stream",
     "text": [
      "Complex pattern match\n"
     ]
    }
   ],
   "source": [
    "match s: \n",
    "    case [Real(), \n",
    "          _, \n",
    "          SimpleNamespace(), \n",
    "          SimpleNamespace(second=SimpleNamespace(COOL_INTEGER=76, THE_ANSWER=answer))]: \n",
    "        print('Complex pattern match')"
   ]
  },
  {
   "cell_type": "code",
   "execution_count": 48,
   "id": "8ae7c91c-e6c0-490b-aea9-ca07784b0b0f",
   "metadata": {},
   "outputs": [
    {
     "data": {
      "text/plain": [
       "42"
      ]
     },
     "execution_count": 48,
     "metadata": {},
     "output_type": "execute_result"
    }
   ],
   "source": [
    "answer"
   ]
  },
  {
   "cell_type": "code",
   "execution_count": 49,
   "id": "5c6f6b51-b904-4304-b718-13d442808ca3",
   "metadata": {},
   "outputs": [],
   "source": [
    "match iter(s): \n",
    "    case [Real(), \n",
    "          _, \n",
    "          SimpleNamespace(), \n",
    "          SimpleNamespace(second=SimpleNamespace(COOL_INTEGER=76, THE_ANSWER=answer))]: \n",
    "        print('Complex pattern match') "
   ]
  },
  {
   "cell_type": "code",
   "execution_count": 50,
   "id": "f9f649ce-8fd7-4200-a1b3-565306b50ece",
   "metadata": {},
   "outputs": [],
   "source": [
    "elem1, elem2, elem3, elem4 = iter(s)"
   ]
  },
  {
   "cell_type": "code",
   "execution_count": 51,
   "id": "9db63237-f621-47da-b251-ce9cb16640d9",
   "metadata": {},
   "outputs": [
    {
     "data": {
      "text/plain": [
       "(1,\n",
       " 'two',\n",
       " namespace(THE_ANSWER=42, COOL_INTEGER=76),\n",
       " namespace(plevel=9001, second=namespace(THE_ANSWER=42, COOL_INTEGER=76)))"
      ]
     },
     "execution_count": 51,
     "metadata": {},
     "output_type": "execute_result"
    }
   ],
   "source": [
    "elem1, elem2, elem3, elem4"
   ]
  },
  {
   "cell_type": "code",
   "execution_count": 52,
   "id": "b28171cf-e86d-49ea-87c8-7b3323ab0dcd",
   "metadata": {},
   "outputs": [],
   "source": [
    "from algoviz.bobcats import Bobcat, FierceBobcat"
   ]
  },
  {
   "cell_type": "code",
   "execution_count": 53,
   "id": "ab702918-3652-45a8-b3ea-eb8162f75705",
   "metadata": {},
   "outputs": [],
   "source": [
    "my_bobcats = [Bobcat('Mr.Frumbles'), Bobcat('SirPounce'), FierceBobcat('OttovonMeow', 9002)]"
   ]
  },
  {
   "cell_type": "code",
   "execution_count": 54,
   "id": "684596d6-50a3-4a0f-b3a5-54e4ad4a7f76",
   "metadata": {},
   "outputs": [
    {
     "name": "stdout",
     "output_type": "stream",
     "text": [
      "Bobcats found, RUUUUN\n"
     ]
    }
   ],
   "source": [
    "match my_bobcats: \n",
    "    case [Bobcat(), \n",
    "          Bobcat(),\n",
    "          Bobcat(fierceness=f)]: \n",
    "        print('Bobcats found, RUUUUN')"
   ]
  },
  {
   "cell_type": "code",
   "execution_count": 55,
   "id": "b4ad7b7b-ffde-4c36-adda-37d8fa846c98",
   "metadata": {},
   "outputs": [
    {
     "data": {
      "text/plain": [
       "9002"
      ]
     },
     "execution_count": 55,
     "metadata": {},
     "output_type": "execute_result"
    }
   ],
   "source": [
    "f"
   ]
  },
  {
   "cell_type": "code",
   "execution_count": 56,
   "id": "1c1f6e61-8c31-4e47-86d4-b37b572ff70b",
   "metadata": {},
   "outputs": [
    {
     "name": "stdout",
     "output_type": "stream",
     "text": [
      "What 9000!\n"
     ]
    }
   ],
   "source": [
    "match my_bobcats: \n",
    "    case [Bobcat(), \n",
    "          Bobcat(),\n",
    "          Bobcat(FIERCENESS_CUTOFF=fc)]:\n",
    "        if fc > 8999:\n",
    "            print(\"What 9000!\")"
   ]
  },
  {
   "cell_type": "code",
   "execution_count": 57,
   "id": "58ad122d-1776-4359-9e48-887367304699",
   "metadata": {},
   "outputs": [],
   "source": [
    "match my_bobcats: \n",
    "    case [Bobcat(), \n",
    "          Bobcat(FIERCENESS_CUTOFF=fc),\n",
    "          Bobcat()]:\n",
    "        if fc > 8999:\n",
    "            print(\"What 9000!\")"
   ]
  },
  {
   "cell_type": "code",
   "execution_count": 58,
   "id": "d4768a12-f87c-4958-aeab-ac1606101ba1",
   "metadata": {},
   "outputs": [
    {
     "name": "stdout",
     "output_type": "stream",
     "text": [
      "What 9000!\n"
     ]
    }
   ],
   "source": [
    "match my_bobcats: \n",
    "    case [Bobcat(), \n",
    "          Bobcat(),\n",
    "          Bobcat(FIERCENESS_CUTOFF=fc)] if fc > 8999:\n",
    "        print(\"What 9000!\")"
   ]
  },
  {
   "cell_type": "code",
   "execution_count": 59,
   "id": "f1b9e04f-95cf-4d86-9ac1-ae9c7624635e",
   "metadata": {},
   "outputs": [
    {
     "name": "stdout",
     "output_type": "stream",
     "text": [
      "It's over 9000!\n"
     ]
    }
   ],
   "source": [
    "match my_bobcats: \n",
    "    case [Bobcat(), \n",
    "          Bobcat(),\n",
    "          Bobcat(FIERCENESS_CUTOFF=fc) as scary_bobcat]:\n",
    "        if scary_bobcat.fierceness > 9000: \n",
    "            print(\"It's over 9000!\")"
   ]
  },
  {
   "cell_type": "markdown",
   "id": "a7deea32-4944-4a4a-bd00-53336c4e2745",
   "metadata": {},
   "source": [
    "## Positional arguments in `match`-`case` patterns"
   ]
  },
  {
   "cell_type": "code",
   "execution_count": 60,
   "id": "ff8a8664-6730-4c7c-9e66-acb31d357604",
   "metadata": {},
   "outputs": [
    {
     "name": "stdout",
     "output_type": "stream",
     "text": [
      "Mr.Frumbles\n"
     ]
    }
   ],
   "source": [
    "match my_bobcats:  # With a keyword argument, first.\n",
    "    case [Bobcat(name=name), \n",
    "          Bobcat(),\n",
    "          Bobcat()]:\n",
    "        print(name)"
   ]
  },
  {
   "cell_type": "code",
   "execution_count": 61,
   "id": "c6b870bf-5aa4-4322-a47c-80516706de09",
   "metadata": {
    "tags": [
     "raises-exception"
    ]
   },
   "outputs": [
    {
     "name": "stdout",
     "output_type": "stream",
     "text": [
      "Mr.Frumbles\n"
     ]
    }
   ],
   "source": [
    "# This works because we defined __match_args__ in Bobcat.\n",
    "match my_bobcats:\n",
    "    case [Bobcat(name), \n",
    "          Bobcat(),\n",
    "          Bobcat()]:\n",
    "        print(name)"
   ]
  },
  {
   "cell_type": "code",
   "execution_count": 62,
   "id": "e163e088-3d32-4118-b018-37a889c002c1",
   "metadata": {
    "tags": [
     "raises-exception"
    ]
   },
   "outputs": [
    {
     "ename": "TypeError",
     "evalue": "Bobcat() accepts 1 positional sub-pattern (2 given)",
     "output_type": "error",
     "traceback": [
      "\u001b[1;31m---------------------------------------------------------------------------\u001b[0m",
      "\u001b[1;31mTypeError\u001b[0m                                 Traceback (most recent call last)",
      "Cell \u001b[1;32mIn [62], line 4\u001b[0m\n\u001b[0;32m      1\u001b[0m \u001b[38;5;28;01mmatch\u001b[39;00m my_bobcats:\n\u001b[0;32m      2\u001b[0m     \u001b[38;5;28;01mcase\u001b[39;00m [Bobcat(), \n\u001b[0;32m      3\u001b[0m           Bobcat(),\n\u001b[1;32m----> 4\u001b[0m           Bobcat(name, fierceness)]:\n\u001b[0;32m      5\u001b[0m         \u001b[38;5;28mprint\u001b[39m(name)\n\u001b[0;32m      6\u001b[0m         \u001b[38;5;28mprint\u001b[39m(fierceness)\n",
      "\u001b[1;31mTypeError\u001b[0m: Bobcat() accepts 1 positional sub-pattern (2 given)"
     ]
    }
   ],
   "source": [
    "match my_bobcats:\n",
    "    case [Bobcat(), \n",
    "          Bobcat(),\n",
    "          Bobcat(name, fierceness)]:\n",
    "        print(name)\n",
    "        print(fierceness)"
   ]
  },
  {
   "cell_type": "code",
   "execution_count": 63,
   "id": "7151fe3e-f3a8-4ca6-b656-49ad77bbf7ae",
   "metadata": {},
   "outputs": [
    {
     "name": "stdout",
     "output_type": "stream",
     "text": [
      "OttovonMeow\n",
      "9002\n"
     ]
    }
   ],
   "source": [
    "# This works because we defined __match_args__ in FierceBobcat.\n",
    "match my_bobcats:\n",
    "    case [Bobcat(), \n",
    "          Bobcat(),\n",
    "          FierceBobcat(name, fierceness)]:\n",
    "        print(name)\n",
    "        print(fierceness)"
   ]
  },
  {
   "cell_type": "code",
   "execution_count": 64,
   "id": "9c59ba16-1ebd-4e13-a1b7-f757bc3abef2",
   "metadata": {},
   "outputs": [],
   "source": [
    "class OldWidget: \n",
    "    \n",
    "    def __init__(self, name, color): \n",
    "        self.name = name\n",
    "        self.color = color\n",
    "    \n",
    "    def __repr__(self): \n",
    "        return f'{type(self).__name__}({self.name!r}, {self.color!r})'\n",
    "    \n",
    "    @property\n",
    "    def fullname(self): \n",
    "        return f'{self.color} {self.name}'"
   ]
  },
  {
   "cell_type": "code",
   "execution_count": 65,
   "id": "38c2b689-51a4-475d-84bb-104f5769613f",
   "metadata": {},
   "outputs": [
    {
     "data": {
      "text/plain": [
       "OldWidget('lightsaber', 'blue')"
      ]
     },
     "execution_count": 65,
     "metadata": {},
     "output_type": "execute_result"
    }
   ],
   "source": [
    "OldWidget('lightsaber', 'blue')"
   ]
  },
  {
   "cell_type": "code",
   "execution_count": 66,
   "id": "867afb47-515c-4194-bd89-f774f5346eb2",
   "metadata": {},
   "outputs": [
    {
     "data": {
      "text/plain": [
       "'red lightsaber'"
      ]
     },
     "execution_count": 66,
     "metadata": {},
     "output_type": "execute_result"
    }
   ],
   "source": [
    "OldWidget('lightsaber', 'red').fullname"
   ]
  },
  {
   "cell_type": "code",
   "execution_count": 67,
   "id": "ed4d7633-f803-4e79-b72d-4dbccfab938e",
   "metadata": {},
   "outputs": [],
   "source": [
    "anakin_lightsaber = OldWidget('lightsaber', 'blue')"
   ]
  },
  {
   "cell_type": "code",
   "execution_count": 68,
   "id": "43481606-f383-468f-913a-d55be241c2ec",
   "metadata": {
    "tags": [
     "raises-exception"
    ]
   },
   "outputs": [
    {
     "ename": "TypeError",
     "evalue": "OldWidget() accepts 0 positional sub-patterns (1 given)",
     "output_type": "error",
     "traceback": [
      "\u001b[1;31m---------------------------------------------------------------------------\u001b[0m",
      "\u001b[1;31mTypeError\u001b[0m                                 Traceback (most recent call last)",
      "Cell \u001b[1;32mIn [68], line 2\u001b[0m\n\u001b[0;32m      1\u001b[0m \u001b[38;5;28;01mmatch\u001b[39;00m anakin_lightsaber: \n\u001b[1;32m----> 2\u001b[0m     \u001b[38;5;28;01mcase\u001b[39;00m OldWidget(name): \n\u001b[0;32m      3\u001b[0m         \u001b[38;5;28mprint\u001b[39m(\u001b[38;5;124m\"\u001b[39m\u001b[38;5;124mYour father\u001b[39m\u001b[38;5;124m'\u001b[39m\u001b[38;5;124ms \u001b[39m\u001b[38;5;124m'\u001b[39m\u001b[38;5;124mlight\u001b[39m\u001b[38;5;124m'\u001b[39m\u001b[38;5;124m saber\u001b[39m\u001b[38;5;124m\"\u001b[39m)\n",
      "\u001b[1;31mTypeError\u001b[0m: OldWidget() accepts 0 positional sub-patterns (1 given)"
     ]
    }
   ],
   "source": [
    "match anakin_lightsaber: \n",
    "    case OldWidget(name): \n",
    "        print(\"Your father's 'light' saber\")"
   ]
  },
  {
   "cell_type": "code",
   "execution_count": 69,
   "id": "fd15e3e6-0a6d-47b2-b598-84b5f16bb75a",
   "metadata": {},
   "outputs": [],
   "source": [
    "class Widget: \n",
    "    \n",
    "    __match_args__ = ('name', 'color')\n",
    "    \n",
    "    def __init__(self, name, color): \n",
    "        self.name = name\n",
    "        self.color = color\n",
    "    \n",
    "    def __repr__(self): \n",
    "        return f'{type(self).__name__}({self.name!r}, {self.color!r})'\n",
    "    \n",
    "    @property\n",
    "    def fullname(self): \n",
    "        return f'{self.color} {self.name}'"
   ]
  },
  {
   "cell_type": "code",
   "execution_count": 70,
   "id": "e23ff3fc-aa45-4bdd-9c54-abfa78628fbe",
   "metadata": {},
   "outputs": [
    {
     "data": {
      "text/plain": [
       "Widget('lightsaber', 'blue')"
      ]
     },
     "execution_count": 70,
     "metadata": {},
     "output_type": "execute_result"
    }
   ],
   "source": [
    "Widget('lightsaber', 'blue')"
   ]
  },
  {
   "cell_type": "code",
   "execution_count": 71,
   "id": "ff796922-42c0-4daa-b167-39cae255d80c",
   "metadata": {},
   "outputs": [
    {
     "data": {
      "text/plain": [
       "'red lightsaber'"
      ]
     },
     "execution_count": 71,
     "metadata": {},
     "output_type": "execute_result"
    }
   ],
   "source": [
    "Widget('lightsaber', 'red').fullname"
   ]
  },
  {
   "cell_type": "code",
   "execution_count": 72,
   "id": "5633d46f-b9a8-4533-88a9-7fcb5a71de77",
   "metadata": {},
   "outputs": [],
   "source": [
    "anakin_lightsaber = Widget('lightsaber', 'blue')"
   ]
  },
  {
   "cell_type": "code",
   "execution_count": 73,
   "id": "24a02530-02d9-4029-9e7b-cc3944450cc7",
   "metadata": {
    "tags": [
     "raises-exception"
    ]
   },
   "outputs": [
    {
     "name": "stdout",
     "output_type": "stream",
     "text": [
      "Your father's 'light' saber\n"
     ]
    }
   ],
   "source": [
    "match anakin_lightsaber: \n",
    "    case Widget(name): \n",
    "        print(\"Your father's 'light' saber\")"
   ]
  },
  {
   "cell_type": "code",
   "execution_count": 74,
   "id": "98682cad-b44e-445b-9ef5-7957ad3059b8",
   "metadata": {},
   "outputs": [
    {
     "data": {
      "text/plain": [
       "'lightsaber'"
      ]
     },
     "execution_count": 74,
     "metadata": {},
     "output_type": "execute_result"
    }
   ],
   "source": [
    "name"
   ]
  },
  {
   "cell_type": "code",
   "execution_count": 75,
   "id": "12389328-006c-4c07-a254-3879e860d86f",
   "metadata": {},
   "outputs": [],
   "source": [
    "mace_lightsaber = Widget('bad-ass-lightsaber', 'purple')"
   ]
  },
  {
   "cell_type": "code",
   "execution_count": 76,
   "id": "ff5d9674-e9e0-40cc-b196-d48277d09e1e",
   "metadata": {},
   "outputs": [
    {
     "name": "stdout",
     "output_type": "stream",
     "text": [
      "Found Mace Windu's purple bad-ass-lightsaber\n"
     ]
    }
   ],
   "source": [
    "match mace_lightsaber: \n",
    "    case Widget(_, 'purple', fullname=fn): \n",
    "        print(f\"Found Mace Windu's {fn}\")"
   ]
  },
  {
   "cell_type": "code",
   "execution_count": null,
   "id": "c94fa57a-9812-4352-b0bb-2ae6c6c3c44d",
   "metadata": {},
   "outputs": [],
   "source": []
  }
 ],
 "metadata": {
  "kernelspec": {
   "display_name": "Python 3 (ipykernel)",
   "language": "python",
   "name": "python3"
  },
  "language_info": {
   "codemirror_mode": {
    "name": "ipython",
    "version": 3
   },
   "file_extension": ".py",
   "mimetype": "text/x-python",
   "name": "python",
   "nbconvert_exporter": "python",
   "pygments_lexer": "ipython3",
   "version": "3.10.6"
  }
 },
 "nbformat": 4,
 "nbformat_minor": 5
}
