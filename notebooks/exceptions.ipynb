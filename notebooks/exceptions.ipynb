{
 "cells": [
  {
   "cell_type": "markdown",
   "id": "fe2bda74-a96c-4fca-b78c-f18107b3d553",
   "metadata": {},
   "source": [
    "# Exception handling - various exercises"
   ]
  },
  {
   "cell_type": "code",
   "execution_count": 1,
   "id": "c07cba94-60a3-492f-b3a2-077b3feb3cf1",
   "metadata": {},
   "outputs": [],
   "source": [
    "def raises_ValueError(function, *arguments):\n",
    "    \"\"\"\n",
    "    Tell if calling a given function with given arguments raises ValueError.\n",
    "\n",
    "    Only ValueError is caught. If some other exception is raised, it will\n",
    "    propagate out of raises_ValueError to the caller.\n",
    "    \"\"\"\n",
    "    try: \n",
    "        function(*arguments)\n",
    "        return False\n",
    "    except ValueError: \n",
    "        return True"
   ]
  },
  {
   "cell_type": "code",
   "execution_count": 2,
   "id": "18496435-0d79-43ba-acae-9f4271aff304",
   "metadata": {
    "tags": [
     "raises-exception"
    ]
   },
   "outputs": [
    {
     "ename": "ValueError",
     "evalue": "invalid literal for int() with base 10: 'foo'",
     "output_type": "error",
     "traceback": [
      "\u001b[1;31m---------------------------------------------------------------------------\u001b[0m",
      "\u001b[1;31mValueError\u001b[0m                                Traceback (most recent call last)",
      "Cell \u001b[1;32mIn [2], line 1\u001b[0m\n\u001b[1;32m----> 1\u001b[0m \u001b[38;5;28;43mint\u001b[39;49m\u001b[43m(\u001b[49m\u001b[38;5;124;43m'\u001b[39;49m\u001b[38;5;124;43mfoo\u001b[39;49m\u001b[38;5;124;43m'\u001b[39;49m\u001b[43m)\u001b[49m\n",
      "\u001b[1;31mValueError\u001b[0m: invalid literal for int() with base 10: 'foo'"
     ]
    }
   ],
   "source": [
    "int('foo')"
   ]
  },
  {
   "cell_type": "code",
   "execution_count": 3,
   "id": "f538b594-06d7-4daf-9301-69afc2bc1e2d",
   "metadata": {},
   "outputs": [
    {
     "data": {
      "text/plain": [
       "True"
      ]
     },
     "execution_count": 3,
     "metadata": {},
     "output_type": "execute_result"
    }
   ],
   "source": [
    "raises_ValueError(int, 'foo')"
   ]
  },
  {
   "cell_type": "code",
   "execution_count": 4,
   "id": "f0c05f1d-d4b5-47ff-9b00-6d3d871fc909",
   "metadata": {},
   "outputs": [
    {
     "data": {
      "text/plain": [
       "False"
      ]
     },
     "execution_count": 4,
     "metadata": {},
     "output_type": "execute_result"
    }
   ],
   "source": [
    "raises_ValueError(int, '5')"
   ]
  },
  {
   "cell_type": "code",
   "execution_count": 5,
   "id": "9316ccef-b084-4bde-8e3f-ae156de7407c",
   "metadata": {},
   "outputs": [
    {
     "data": {
      "text/plain": [
       "True"
      ]
     },
     "execution_count": 5,
     "metadata": {},
     "output_type": "execute_result"
    }
   ],
   "source": [
    "raises_ValueError(int, 'foo', 8)"
   ]
  },
  {
   "cell_type": "code",
   "execution_count": 6,
   "id": "179351a1-3e26-48b2-b444-446b7a8ac1d4",
   "metadata": {},
   "outputs": [
    {
     "data": {
      "text/plain": [
       "False"
      ]
     },
     "execution_count": 6,
     "metadata": {},
     "output_type": "execute_result"
    }
   ],
   "source": [
    "raises_ValueError(int, '42', 8)"
   ]
  },
  {
   "cell_type": "code",
   "execution_count": 7,
   "id": "5c16dc9c-b90f-4dd0-a528-3afd1cfdb718",
   "metadata": {},
   "outputs": [
    {
     "data": {
      "text/plain": [
       "False"
      ]
     },
     "execution_count": 7,
     "metadata": {},
     "output_type": "execute_result"
    }
   ],
   "source": [
    "raises_ValueError(ValueError)  # Constructing a ValueError doesn't raise it."
   ]
  },
  {
   "cell_type": "code",
   "execution_count": 8,
   "id": "bf3c3594-9a90-4c40-8610-c01e910be729",
   "metadata": {},
   "outputs": [
    {
     "data": {
      "text/plain": [
       "False"
      ]
     },
     "execution_count": 8,
     "metadata": {},
     "output_type": "execute_result"
    }
   ],
   "source": [
    "issubclass(IndexError, ValueError)"
   ]
  },
  {
   "cell_type": "code",
   "execution_count": 9,
   "id": "dd267643-c215-425f-8496-db22b566b9dc",
   "metadata": {
    "tags": [
     "raises-exception"
    ]
   },
   "outputs": [
    {
     "ename": "IndexError",
     "evalue": "list index out of range",
     "output_type": "error",
     "traceback": [
      "\u001b[1;31m---------------------------------------------------------------------------\u001b[0m",
      "\u001b[1;31mIndexError\u001b[0m                                Traceback (most recent call last)",
      "Cell \u001b[1;32mIn [9], line 1\u001b[0m\n\u001b[1;32m----> 1\u001b[0m \u001b[43mraises_ValueError\u001b[49m\u001b[43m(\u001b[49m\u001b[38;5;28;43;01mlambda\u001b[39;49;00m\u001b[43m \u001b[49m\u001b[43mi\u001b[49m\u001b[43m:\u001b[49m\u001b[43m \u001b[49m\u001b[43m[\u001b[49m\u001b[38;5;241;43m10\u001b[39;49m\u001b[43m,\u001b[49m\u001b[43m \u001b[49m\u001b[38;5;241;43m20\u001b[39;49m\u001b[43m]\u001b[49m\u001b[43m[\u001b[49m\u001b[43mi\u001b[49m\u001b[43m]\u001b[49m\u001b[43m,\u001b[49m\u001b[43m \u001b[49m\u001b[38;5;241;43m2\u001b[39;49m\u001b[43m)\u001b[49m\n",
      "Cell \u001b[1;32mIn [1], line 9\u001b[0m, in \u001b[0;36mraises_ValueError\u001b[1;34m(function, *arguments)\u001b[0m\n\u001b[0;32m      2\u001b[0m \u001b[38;5;124;03m\"\"\"\u001b[39;00m\n\u001b[0;32m      3\u001b[0m \u001b[38;5;124;03mTell if calling a given function with given arguments raises ValueError.\u001b[39;00m\n\u001b[0;32m      4\u001b[0m \n\u001b[0;32m      5\u001b[0m \u001b[38;5;124;03mOnly ValueError is caught. If some other exception is raised, it will\u001b[39;00m\n\u001b[0;32m      6\u001b[0m \u001b[38;5;124;03mpropagate out of raises_ValueError to the caller.\u001b[39;00m\n\u001b[0;32m      7\u001b[0m \u001b[38;5;124;03m\"\"\"\u001b[39;00m\n\u001b[0;32m      8\u001b[0m \u001b[38;5;28;01mtry\u001b[39;00m: \n\u001b[1;32m----> 9\u001b[0m     \u001b[43mfunction\u001b[49m\u001b[43m(\u001b[49m\u001b[38;5;241;43m*\u001b[39;49m\u001b[43marguments\u001b[49m\u001b[43m)\u001b[49m\n\u001b[0;32m     10\u001b[0m     \u001b[38;5;28;01mreturn\u001b[39;00m \u001b[38;5;28;01mFalse\u001b[39;00m\n\u001b[0;32m     11\u001b[0m \u001b[38;5;28;01mexcept\u001b[39;00m \u001b[38;5;167;01mValueError\u001b[39;00m: \n",
      "Cell \u001b[1;32mIn [9], line 1\u001b[0m, in \u001b[0;36m<lambda>\u001b[1;34m(i)\u001b[0m\n\u001b[1;32m----> 1\u001b[0m raises_ValueError(\u001b[38;5;28;01mlambda\u001b[39;00m i: \u001b[43m[\u001b[49m\u001b[38;5;241;43m10\u001b[39;49m\u001b[43m,\u001b[49m\u001b[43m \u001b[49m\u001b[38;5;241;43m20\u001b[39;49m\u001b[43m]\u001b[49m\u001b[43m[\u001b[49m\u001b[43mi\u001b[49m\u001b[43m]\u001b[49m, \u001b[38;5;241m2\u001b[39m)\n",
      "\u001b[1;31mIndexError\u001b[0m: list index out of range"
     ]
    }
   ],
   "source": [
    "raises_ValueError(lambda i: [10, 20][i], 2)"
   ]
  },
  {
   "cell_type": "code",
   "execution_count": 10,
   "id": "3813c6e8-b6fb-4e07-bb32-150a30c5976e",
   "metadata": {},
   "outputs": [],
   "source": [
    "def verror(): # a special case allowed due to special rule for raise\n",
    "    raise ValueError"
   ]
  },
  {
   "cell_type": "code",
   "execution_count": 11,
   "id": "7f70f4a3-e1a2-4ecb-a669-c6097e5dd2b3",
   "metadata": {},
   "outputs": [],
   "source": [
    "def verror(): # how is SHOULD be written and what conceptually is happening \n",
    "    raise ValueError()"
   ]
  },
  {
   "cell_type": "code",
   "execution_count": 12,
   "id": "9f7d6106-0def-4fa1-ac5b-bfe164d8e8bb",
   "metadata": {
    "tags": [
     "raises-exception"
    ]
   },
   "outputs": [
    {
     "ename": "ValueError",
     "evalue": "",
     "output_type": "error",
     "traceback": [
      "\u001b[1;31m---------------------------------------------------------------------------\u001b[0m",
      "\u001b[1;31mValueError\u001b[0m                                Traceback (most recent call last)",
      "Cell \u001b[1;32mIn [12], line 1\u001b[0m\n\u001b[1;32m----> 1\u001b[0m \u001b[43mverror\u001b[49m\u001b[43m(\u001b[49m\u001b[43m)\u001b[49m\n",
      "Cell \u001b[1;32mIn [11], line 2\u001b[0m, in \u001b[0;36mverror\u001b[1;34m()\u001b[0m\n\u001b[0;32m      1\u001b[0m \u001b[38;5;28;01mdef\u001b[39;00m \u001b[38;5;21mverror\u001b[39m(): \u001b[38;5;66;03m# how is SHOULD be written and what conceptually is happening \u001b[39;00m\n\u001b[1;32m----> 2\u001b[0m     \u001b[38;5;28;01mraise\u001b[39;00m \u001b[38;5;167;01mValueError\u001b[39;00m()\n",
      "\u001b[1;31mValueError\u001b[0m: "
     ]
    }
   ],
   "source": [
    "verror()"
   ]
  },
  {
   "cell_type": "code",
   "execution_count": 13,
   "id": "a4102f15-8b0e-40d0-953e-3bf60e547eab",
   "metadata": {},
   "outputs": [
    {
     "data": {
      "text/plain": [
       "True"
      ]
     },
     "execution_count": 13,
     "metadata": {},
     "output_type": "execute_result"
    }
   ],
   "source": [
    "raises_ValueError(verror)"
   ]
  },
  {
   "cell_type": "code",
   "execution_count": 14,
   "id": "62f28990-5c0d-4ed0-8b69-258725eda11a",
   "metadata": {},
   "outputs": [],
   "source": [
    "def raises(exception_type, function, *arguments):\n",
    "    \"\"\"\n",
    "    Tell if an exception of a given type is raised by a given function call.\n",
    "\n",
    "    This is similar to raises_ValueError, but it checks for exception_type\n",
    "    rather than ValueError (though it is permitted to pass ValueError as\n",
    "    the value of the exception_type parameter).\n",
    "\n",
    "    The exception may be an instance of some subclass of exception-type, rather\n",
    "    than directly of exception_type. This is no different from the situation of\n",
    "    raises_ValueError: if the function call raised an instance of some subclass\n",
    "    of ValueError, then it would still return True.\n",
    "    \"\"\"\n",
    "    try: \n",
    "        function(*arguments)\n",
    "        return False\n",
    "    except exception_type:\n",
    "        return True"
   ]
  },
  {
   "cell_type": "code",
   "execution_count": 15,
   "id": "802c0452-c089-4a67-9280-80ac4e814f5b",
   "metadata": {
    "tags": [
     "raises-exception"
    ]
   },
   "outputs": [
    {
     "ename": "ValueError",
     "evalue": "",
     "output_type": "error",
     "traceback": [
      "\u001b[1;31m---------------------------------------------------------------------------\u001b[0m",
      "\u001b[1;31mValueError\u001b[0m                                Traceback (most recent call last)",
      "Cell \u001b[1;32mIn [15], line 1\u001b[0m\n\u001b[1;32m----> 1\u001b[0m \u001b[43mraises\u001b[49m\u001b[43m(\u001b[49m\u001b[38;5;167;43;01mIndexError\u001b[39;49;00m\u001b[43m,\u001b[49m\u001b[43mverror\u001b[49m\u001b[43m)\u001b[49m\n",
      "Cell \u001b[1;32mIn [14], line 15\u001b[0m, in \u001b[0;36mraises\u001b[1;34m(exception_type, function, *arguments)\u001b[0m\n\u001b[0;32m      2\u001b[0m \u001b[38;5;124;03m\"\"\"\u001b[39;00m\n\u001b[0;32m      3\u001b[0m \u001b[38;5;124;03mTell if an exception of a given type is raised by a given function call.\u001b[39;00m\n\u001b[0;32m      4\u001b[0m \n\u001b[1;32m   (...)\u001b[0m\n\u001b[0;32m     12\u001b[0m \u001b[38;5;124;03mof ValueError, then it would still return True.\u001b[39;00m\n\u001b[0;32m     13\u001b[0m \u001b[38;5;124;03m\"\"\"\u001b[39;00m\n\u001b[0;32m     14\u001b[0m \u001b[38;5;28;01mtry\u001b[39;00m: \n\u001b[1;32m---> 15\u001b[0m     \u001b[43mfunction\u001b[49m\u001b[43m(\u001b[49m\u001b[38;5;241;43m*\u001b[39;49m\u001b[43marguments\u001b[49m\u001b[43m)\u001b[49m\n\u001b[0;32m     16\u001b[0m     \u001b[38;5;28;01mreturn\u001b[39;00m \u001b[38;5;28;01mFalse\u001b[39;00m\n\u001b[0;32m     17\u001b[0m \u001b[38;5;28;01mexcept\u001b[39;00m exception_type:\n",
      "Cell \u001b[1;32mIn [11], line 2\u001b[0m, in \u001b[0;36mverror\u001b[1;34m()\u001b[0m\n\u001b[0;32m      1\u001b[0m \u001b[38;5;28;01mdef\u001b[39;00m \u001b[38;5;21mverror\u001b[39m(): \u001b[38;5;66;03m# how is SHOULD be written and what conceptually is happening \u001b[39;00m\n\u001b[1;32m----> 2\u001b[0m     \u001b[38;5;28;01mraise\u001b[39;00m \u001b[38;5;167;01mValueError\u001b[39;00m()\n",
      "\u001b[1;31mValueError\u001b[0m: "
     ]
    }
   ],
   "source": [
    "raises(IndexError,verror)"
   ]
  },
  {
   "cell_type": "code",
   "execution_count": 16,
   "id": "b7948f3a-f0af-428e-ac85-5443f2c7bd0c",
   "metadata": {},
   "outputs": [
    {
     "data": {
      "text/plain": [
       "True"
      ]
     },
     "execution_count": 16,
     "metadata": {},
     "output_type": "execute_result"
    }
   ],
   "source": [
    "raises(ValueError,verror)"
   ]
  },
  {
   "cell_type": "code",
   "execution_count": 17,
   "id": "068714e1-eea2-4153-96d6-c6c7a59e67fb",
   "metadata": {},
   "outputs": [
    {
     "data": {
      "text/plain": [
       "False"
      ]
     },
     "execution_count": 17,
     "metadata": {},
     "output_type": "execute_result"
    }
   ],
   "source": [
    "raises(ValueError, int, '5')"
   ]
  },
  {
   "cell_type": "code",
   "execution_count": 18,
   "id": "ea522d18-49aa-472d-945b-850ae01b42b3",
   "metadata": {},
   "outputs": [
    {
     "data": {
      "text/plain": [
       "[IndexError, LookupError, Exception, BaseException, object]"
      ]
     },
     "execution_count": 18,
     "metadata": {},
     "output_type": "execute_result"
    }
   ],
   "source": [
    "IndexError.mro()  # member resolution order (all types have this)"
   ]
  },
  {
   "cell_type": "code",
   "execution_count": 19,
   "id": "6c55fd99-6bf7-4710-9214-6e5a72b29f0f",
   "metadata": {},
   "outputs": [
    {
     "data": {
      "text/plain": [
       "(LookupError,)"
      ]
     },
     "execution_count": 19,
     "metadata": {},
     "output_type": "execute_result"
    }
   ],
   "source": [
    "IndexError.__bases__"
   ]
  },
  {
   "cell_type": "code",
   "execution_count": 20,
   "id": "f56dd915-3da4-4601-bfdd-7824350ca11a",
   "metadata": {},
   "outputs": [
    {
     "data": {
      "text/plain": [
       "True"
      ]
     },
     "execution_count": 20,
     "metadata": {},
     "output_type": "execute_result"
    }
   ],
   "source": [
    "issubclass(IndexError, LookupError)"
   ]
  },
  {
   "cell_type": "code",
   "execution_count": 21,
   "id": "06ffc5f4-dd6f-4e72-8eb5-e63d01a8ddf3",
   "metadata": {},
   "outputs": [],
   "source": [
    "e = IndexError()"
   ]
  },
  {
   "cell_type": "code",
   "execution_count": 22,
   "id": "00f985cf-8df3-4db9-957c-0a631843f8cd",
   "metadata": {},
   "outputs": [
    {
     "data": {
      "text/plain": [
       "True"
      ]
     },
     "execution_count": 22,
     "metadata": {},
     "output_type": "execute_result"
    }
   ],
   "source": [
    "isinstance(e, LookupError)  # Often reasonable."
   ]
  },
  {
   "cell_type": "code",
   "execution_count": 23,
   "id": "99472fe1-fe2b-467c-bdce-5bdfad6dbda3",
   "metadata": {},
   "outputs": [
    {
     "data": {
      "text/plain": [
       "False"
      ]
     },
     "execution_count": 23,
     "metadata": {},
     "output_type": "execute_result"
    }
   ],
   "source": [
    "type(e) is LookupError  # Almost always a bug."
   ]
  },
  {
   "cell_type": "code",
   "execution_count": 24,
   "id": "83d05e24-ee73-4e8c-bddc-053084b7b9fc",
   "metadata": {},
   "outputs": [
    {
     "data": {
      "text/plain": [
       "False"
      ]
     },
     "execution_count": 24,
     "metadata": {},
     "output_type": "execute_result"
    }
   ],
   "source": [
    "type(e) == LookupError  # Same effect as the above bug."
   ]
  },
  {
   "cell_type": "code",
   "execution_count": 25,
   "id": "5604d3fa-5f59-447e-89e6-34588a331b5a",
   "metadata": {
    "tags": [
     "raises-exception"
    ]
   },
   "outputs": [
    {
     "ename": "TypeError",
     "evalue": "unsupported operand type(s) for +: 'object' and 'object'",
     "output_type": "error",
     "traceback": [
      "\u001b[1;31m---------------------------------------------------------------------------\u001b[0m",
      "\u001b[1;31mTypeError\u001b[0m                                 Traceback (most recent call last)",
      "Cell \u001b[1;32mIn [25], line 1\u001b[0m\n\u001b[1;32m----> 1\u001b[0m \u001b[38;5;28;43mobject\u001b[39;49m\u001b[43m(\u001b[49m\u001b[43m)\u001b[49m\u001b[43m \u001b[49m\u001b[38;5;241;43m+\u001b[39;49m\u001b[43m \u001b[49m\u001b[38;5;28;43mobject\u001b[39;49m\u001b[43m(\u001b[49m\u001b[43m)\u001b[49m  \u001b[38;5;66;03m# No support for +.\u001b[39;00m\n",
      "\u001b[1;31mTypeError\u001b[0m: unsupported operand type(s) for +: 'object' and 'object'"
     ]
    }
   ],
   "source": [
    "object() + object()  # No support for +."
   ]
  },
  {
   "cell_type": "code",
   "execution_count": 26,
   "id": "9e3fc08a-efc9-4810-96b2-ecb0ec3a95e5",
   "metadata": {
    "tags": [
     "raises-exception"
    ]
   },
   "outputs": [
    {
     "ename": "TypeError",
     "evalue": "unsupported operand type(s) for +: 'int' and 'str'",
     "output_type": "error",
     "traceback": [
      "\u001b[1;31m---------------------------------------------------------------------------\u001b[0m",
      "\u001b[1;31mTypeError\u001b[0m                                 Traceback (most recent call last)",
      "Cell \u001b[1;32mIn [26], line 2\u001b[0m\n\u001b[0;32m      1\u001b[0m \u001b[38;5;66;03m# Although int and str both support +, we cannot add an int to a str with +.\u001b[39;00m\n\u001b[1;32m----> 2\u001b[0m \u001b[38;5;241;43m3\u001b[39;49m\u001b[43m \u001b[49m\u001b[38;5;241;43m+\u001b[39;49m\u001b[43m \u001b[49m\u001b[38;5;124;43m'\u001b[39;49m\u001b[38;5;124;43mfoo\u001b[39;49m\u001b[38;5;124;43m'\u001b[39;49m\n",
      "\u001b[1;31mTypeError\u001b[0m: unsupported operand type(s) for +: 'int' and 'str'"
     ]
    }
   ],
   "source": [
    "# Although int and str both support +, we cannot add an int to a str with +.\n",
    "3 + 'foo'"
   ]
  },
  {
   "cell_type": "code",
   "execution_count": 27,
   "id": "fe2c9ecf-88ac-4963-a57f-19952635c7c4",
   "metadata": {
    "tags": [
     "raises-exception"
    ]
   },
   "outputs": [
    {
     "ename": "ValueError",
     "evalue": "invalid literal for int() with base 10: 'foo'",
     "output_type": "error",
     "traceback": [
      "\u001b[1;31m---------------------------------------------------------------------------\u001b[0m",
      "\u001b[1;31mValueError\u001b[0m                                Traceback (most recent call last)",
      "Cell \u001b[1;32mIn [27], line 3\u001b[0m\n\u001b[0;32m      1\u001b[0m \u001b[38;5;66;03m# Constructing an int from a str is okay. But this particular str value\u001b[39;00m\n\u001b[0;32m      2\u001b[0m \u001b[38;5;66;03m# cannot be understood as an integer.\u001b[39;00m\n\u001b[1;32m----> 3\u001b[0m \u001b[38;5;28;43mint\u001b[39;49m\u001b[43m(\u001b[49m\u001b[38;5;124;43m'\u001b[39;49m\u001b[38;5;124;43mfoo\u001b[39;49m\u001b[38;5;124;43m'\u001b[39;49m\u001b[43m)\u001b[49m\n",
      "\u001b[1;31mValueError\u001b[0m: invalid literal for int() with base 10: 'foo'"
     ]
    }
   ],
   "source": [
    "# Constructing an int from a str is okay. But this particular str value\n",
    "# cannot be understood as an integer.\n",
    "int('foo')"
   ]
  },
  {
   "cell_type": "code",
   "execution_count": 28,
   "id": "472db7cb-ac78-4c4c-9243-4f16c2476fa6",
   "metadata": {},
   "outputs": [
    {
     "data": {
      "text/plain": [
       "5"
      ]
     },
     "execution_count": 28,
     "metadata": {},
     "output_type": "execute_result"
    }
   ],
   "source": [
    "int('5') # this string DOES work"
   ]
  },
  {
   "cell_type": "code",
   "execution_count": 29,
   "id": "071e7e59-afaf-4550-8464-020b9137ca89",
   "metadata": {},
   "outputs": [
    {
     "name": "stdout",
     "output_type": "stream",
     "text": [
      "1\n"
     ]
    },
    {
     "data": {
      "text/plain": [
       "SystemExit(1)"
      ]
     },
     "execution_count": 29,
     "metadata": {},
     "output_type": "execute_result"
    }
   ],
   "source": [
    "import sys\n",
    "try: \n",
    "    sys.exit(1)\n",
    "except SystemExit as exitobject:\n",
    "    eobject = exitobject\n",
    "    print(exitobject)\n",
    "\n",
    "eobject"
   ]
  },
  {
   "cell_type": "code",
   "execution_count": 30,
   "id": "b854a5e2-b7dd-4e63-a306-2434aedf61c9",
   "metadata": {},
   "outputs": [
    {
     "data": {
      "text/plain": [
       "SystemExit"
      ]
     },
     "execution_count": 30,
     "metadata": {},
     "output_type": "execute_result"
    }
   ],
   "source": [
    "type(eobject)"
   ]
  },
  {
   "cell_type": "code",
   "execution_count": 31,
   "id": "a275b8e5-bc31-4620-b463-4355db7f65ca",
   "metadata": {},
   "outputs": [
    {
     "data": {
      "text/plain": [
       "['__cause__',\n",
       " '__class__',\n",
       " '__context__',\n",
       " '__delattr__',\n",
       " '__dict__',\n",
       " '__dir__',\n",
       " '__doc__',\n",
       " '__eq__',\n",
       " '__format__',\n",
       " '__ge__',\n",
       " '__getattribute__',\n",
       " '__getstate__',\n",
       " '__gt__',\n",
       " '__hash__',\n",
       " '__init__',\n",
       " '__init_subclass__',\n",
       " '__le__',\n",
       " '__lt__',\n",
       " '__ne__',\n",
       " '__new__',\n",
       " '__reduce__',\n",
       " '__reduce_ex__',\n",
       " '__repr__',\n",
       " '__setattr__',\n",
       " '__setstate__',\n",
       " '__sizeof__',\n",
       " '__str__',\n",
       " '__subclasshook__',\n",
       " '__suppress_context__',\n",
       " '__traceback__',\n",
       " 'add_note',\n",
       " 'args',\n",
       " 'code',\n",
       " 'with_traceback']"
      ]
     },
     "execution_count": 31,
     "metadata": {},
     "output_type": "execute_result"
    }
   ],
   "source": [
    "dir(eobject)"
   ]
  },
  {
   "cell_type": "code",
   "execution_count": 32,
   "id": "99aa25bc-ab58-413d-bc1b-fb8e105f5d2f",
   "metadata": {},
   "outputs": [
    {
     "data": {
      "text/plain": [
       "1"
      ]
     },
     "execution_count": 32,
     "metadata": {},
     "output_type": "execute_result"
    }
   ],
   "source": [
    "eobject.code"
   ]
  },
  {
   "cell_type": "code",
   "execution_count": null,
   "id": "230ea214-8435-4087-a40a-e58941e9b530",
   "metadata": {},
   "outputs": [],
   "source": []
  }
 ],
 "metadata": {
  "kernelspec": {
   "display_name": "Python 3 (ipykernel)",
   "language": "python",
   "name": "python3"
  },
  "language_info": {
   "codemirror_mode": {
    "name": "ipython",
    "version": 3
   },
   "file_extension": ".py",
   "mimetype": "text/x-python",
   "name": "python",
   "nbconvert_exporter": "python",
   "pygments_lexer": "ipython3",
   "version": "3.11.0"
  }
 },
 "nbformat": 4,
 "nbformat_minor": 5
}
