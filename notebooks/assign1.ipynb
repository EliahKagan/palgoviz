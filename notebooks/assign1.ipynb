{
 "cells": [
  {
   "cell_type": "markdown",
   "id": "f3187cda-86b0-468a-8823-85e21b1eed64",
   "metadata": {},
   "source": [
    "# Assignment - Overview\n",
    "\n",
    "SPDX-License-Identifier: 0BSD"
   ]
  },
  {
   "cell_type": "markdown",
   "id": "40408072",
   "metadata": {},
   "source": [
    "Key concepts:\n",
    "\n",
    "- Many kinds of statements in Python perform assignment—not just assignment statements. For example, `from`, `import`, `for`, `def`, and `class` statements perform assignment as part of what they do.\n",
    "\n",
    "- **Assignment does not copy objects.** All types in Python are reference types. Assignment points a reference at an object.\n",
    "\n",
    "- Assignment is also called *binding*. Variables are also called *names*. A *name binding* operation is thus an operation that assigns to a variable. Not all assignments are name-binding operations. For example, `x = 10` binds the name `x`, but `a[3] = 10` does not bind a name, nor does `obj.x = 10`."
   ]
  },
  {
   "cell_type": "code",
   "execution_count": 1,
   "id": "2a350cbc-0fe8-445c-ae5d-d90d93a5374f",
   "metadata": {},
   "outputs": [],
   "source": [
    "# Run the math module if it hasn't been run.\n",
    "# Assign the module object to the variable named math.\n",
    "import math"
   ]
  },
  {
   "cell_type": "code",
   "execution_count": 2,
   "id": "ab325eb9-399b-40fc-8b12-1c42c8c21f7d",
   "metadata": {},
   "outputs": [],
   "source": [
    "# Run the math module if it hasn't been run.\n",
    "# Assign the module object to the variable named _math.\n",
    "import math as _math"
   ]
  },
  {
   "cell_type": "code",
   "execution_count": 3,
   "id": "cb133594-9a8e-4b74-8ab1-636f17d49e4d",
   "metadata": {
    "tags": [
     "raises-exception"
    ]
   },
   "outputs": [
    {
     "data": {
      "text/plain": [
       "<module 'math' (built-in)>"
      ]
     },
     "execution_count": 3,
     "metadata": {},
     "output_type": "execute_result"
    }
   ],
   "source": [
    "math"
   ]
  },
  {
   "cell_type": "code",
   "execution_count": 4,
   "id": "3e6a0993-9c28-472d-b5c3-76a649b77502",
   "metadata": {},
   "outputs": [
    {
     "data": {
      "text/plain": [
       "<module 'math' (built-in)>"
      ]
     },
     "execution_count": 4,
     "metadata": {},
     "output_type": "execute_result"
    }
   ],
   "source": [
    "_math"
   ]
  },
  {
   "cell_type": "code",
   "execution_count": 5,
   "id": "8375acfb-adbd-4571-aa4d-97c38045f63e",
   "metadata": {
    "tags": [
     "raises-exception"
    ]
   },
   "outputs": [
    {
     "data": {
      "text/plain": [
       "True"
      ]
     },
     "execution_count": 5,
     "metadata": {},
     "output_type": "execute_result"
    }
   ],
   "source": [
    "math is _math"
   ]
  },
  {
   "cell_type": "code",
   "execution_count": 6,
   "id": "3d18c45d-9ffb-4e62-ab19-24860c8cec5a",
   "metadata": {},
   "outputs": [],
   "source": [
    "# Run the sys and io modules (but don't run one that has been run).\n",
    "# Assign them to the sys and io variables, respectively.\n",
    "import sys, io\n",
    "\n",
    "# But it is better to just do:\n",
    "import sys \n",
    "import io"
   ]
  },
  {
   "cell_type": "code",
   "execution_count": 7,
   "id": "8a76e9f7-c646-4b88-af26-a46c416993d8",
   "metadata": {},
   "outputs": [],
   "source": [
    "# Run the math module if it hasn't been run.\n",
    "# Assign its members sin and cos to variables of those names.\n",
    "from math import sin, cos"
   ]
  },
  {
   "cell_type": "code",
   "execution_count": 8,
   "id": "669f33c7-6498-4cc7-853d-75a804e6d711",
   "metadata": {},
   "outputs": [],
   "source": [
    "# Run the sys and io modules (if not run already).\n",
    "# Assign the sys module object to the variable _sys, and the io module object to _io.\n",
    "import sys as _sys, io as _io\n",
    "\n",
    "# But it is better to just do:\n",
    "import sys as _sys\n",
    "import io as _io"
   ]
  },
  {
   "cell_type": "code",
   "execution_count": 9,
   "id": "84d7fde9-ac4d-407d-81a7-ba76f4eb78c1",
   "metadata": {},
   "outputs": [],
   "source": [
    "# Run the math module if it hasn't been run.\n",
    "# Assign its members sin and cos to the _sin and _cos variables, respectively.\n",
    "from math import sin as _sin, cos as _cos"
   ]
  },
  {
   "cell_type": "code",
   "execution_count": 10,
   "id": "1e1974de-ddc8-47a9-88d2-236422a851a8",
   "metadata": {},
   "outputs": [],
   "source": [
    "# Create a function that returns its input, squared.\n",
    "# Assign it to the variable called square.\n",
    "def square(x):\n",
    "    return x**2"
   ]
  },
  {
   "cell_type": "code",
   "execution_count": 11,
   "id": "dea6041b-f703-455a-b4da-fb7db89f43c7",
   "metadata": {},
   "outputs": [],
   "source": [
    "# Assign 3 to the variable x.\n",
    "x = 3"
   ]
  },
  {
   "cell_type": "code",
   "execution_count": 12,
   "id": "eeb5eb79-9584-4ea3-a435-27e63e3f388b",
   "metadata": {},
   "outputs": [],
   "source": [
    "# Assign 5 to the variable y.\n",
    "y = 5"
   ]
  },
  {
   "cell_type": "code",
   "execution_count": 13,
   "id": "da9536f3-34bf-4598-a9c2-3a595e449ddd",
   "metadata": {},
   "outputs": [],
   "source": [
    "# Assign the value of x to y, and the value of y to x.\n",
    "x, y = y, x"
   ]
  },
  {
   "cell_type": "code",
   "execution_count": 14,
   "id": "7f57923f-a597-438f-9993-f59a156850e8",
   "metadata": {},
   "outputs": [
    {
     "data": {
      "text/plain": [
       "5"
      ]
     },
     "execution_count": 14,
     "metadata": {},
     "output_type": "execute_result"
    }
   ],
   "source": [
    "x"
   ]
  },
  {
   "cell_type": "code",
   "execution_count": 15,
   "id": "d74664be-6be6-48dc-b70e-cc2f7018b913",
   "metadata": {},
   "outputs": [
    {
     "data": {
      "text/plain": [
       "3"
      ]
     },
     "execution_count": 15,
     "metadata": {},
     "output_type": "execute_result"
    }
   ],
   "source": [
    "y"
   ]
  },
  {
   "cell_type": "code",
   "execution_count": 16,
   "id": "425befc0-f909-4e7c-8ccf-538c95c230c6",
   "metadata": {},
   "outputs": [],
   "source": [
    "# Assign the string 'ham' to the variables a, b, and c.\n",
    "# Each variable will then refer to the same string object 'ham'.\n",
    "a = 'ham'\n",
    "b = a\n",
    "c = b"
   ]
  },
  {
   "cell_type": "code",
   "execution_count": 17,
   "id": "b97d7eaf-7cb5-466e-94b2-6bec3c357287",
   "metadata": {},
   "outputs": [],
   "source": [
    "a = 'eggs'"
   ]
  },
  {
   "cell_type": "code",
   "execution_count": 18,
   "id": "94b9022e-5fc1-47f6-b36c-590a9d508f17",
   "metadata": {},
   "outputs": [
    {
     "data": {
      "text/plain": [
       "1889797105776"
      ]
     },
     "execution_count": 18,
     "metadata": {},
     "output_type": "execute_result"
    }
   ],
   "source": [
    "id(c)"
   ]
  },
  {
   "cell_type": "code",
   "execution_count": 19,
   "id": "5f6f736f-5f2f-4c2c-9e80-e68f974b9cf2",
   "metadata": {},
   "outputs": [
    {
     "data": {
      "text/plain": [
       "1889797105776"
      ]
     },
     "execution_count": 19,
     "metadata": {},
     "output_type": "execute_result"
    }
   ],
   "source": [
    "id(b)"
   ]
  },
  {
   "cell_type": "code",
   "execution_count": 20,
   "id": "50e260c2-e7f2-4064-9c62-45342764f284",
   "metadata": {},
   "outputs": [],
   "source": [
    "del a, b, c"
   ]
  },
  {
   "cell_type": "code",
   "execution_count": 21,
   "id": "bfcd38e2-467a-44b7-9eba-50240d90ad7f",
   "metadata": {},
   "outputs": [],
   "source": [
    "# Assign 1-character strings -- the letters of 'ham' -- to variables a, b, and c.\n",
    "a, b, c = 'ham'"
   ]
  },
  {
   "cell_type": "code",
   "execution_count": 22,
   "id": "7d2fe71a-8980-4a42-b344-fdaddb78ec3b",
   "metadata": {},
   "outputs": [
    {
     "data": {
      "text/plain": [
       "('h', 'a', 'm')"
      ]
     },
     "execution_count": 22,
     "metadata": {},
     "output_type": "execute_result"
    }
   ],
   "source": [
    "(a, b, c)"
   ]
  },
  {
   "cell_type": "code",
   "execution_count": 23,
   "id": "9f8f5a12-f01d-46aa-bb2f-aa07fe8da704",
   "metadata": {},
   "outputs": [],
   "source": [
    "# With a SINGLE statement, assign the string 'ham' to the variables a, b, and c.\n",
    "# Each variable will then refer to the same string object 'ham'.\n",
    "a = b = c = 'ham'"
   ]
  },
  {
   "cell_type": "code",
   "execution_count": 24,
   "id": "e8e8482d-d479-4a92-9605-9e39cae99b0f",
   "metadata": {},
   "outputs": [
    {
     "data": {
      "text/plain": [
       "('ham', 'ham', 'ham')"
      ]
     },
     "execution_count": 24,
     "metadata": {},
     "output_type": "execute_result"
    }
   ],
   "source": [
    "(a, b, c)"
   ]
  },
  {
   "cell_type": "code",
   "execution_count": 25,
   "id": "1785cbdb-e29e-40a6-b551-2d916b3ad602",
   "metadata": {},
   "outputs": [
    {
     "data": {
      "text/plain": [
       "[1889796995184, 1889796995184, 1889796995184]"
      ]
     },
     "execution_count": 25,
     "metadata": {},
     "output_type": "execute_result"
    }
   ],
   "source": [
    "[id(x) for x in (a, b, c)]"
   ]
  },
  {
   "cell_type": "code",
   "execution_count": 26,
   "id": "899da58c-44d2-439f-8f17-bdce3b4173bb",
   "metadata": {},
   "outputs": [],
   "source": [
    "stuff = [10, (20, [30, 40], 50)]\n",
    "# With an assignment statement whose right-hand side is just the variable stuff,\n",
    "# assign the numbers 10, 20, 30, 40, and 50 to the variables a, b, c, d, and e.\n",
    "a, (b, (c, d), e) = stuff"
   ]
  },
  {
   "cell_type": "code",
   "execution_count": 27,
   "id": "23659b52-75f2-4fd5-bde2-e7a37e2d4a7e",
   "metadata": {},
   "outputs": [
    {
     "data": {
      "text/plain": [
       "[10, 20, 30, 40, 50]"
      ]
     },
     "execution_count": 27,
     "metadata": {},
     "output_type": "execute_result"
    }
   ],
   "source": [
    "[a, b, c, d, e]"
   ]
  },
  {
   "cell_type": "code",
   "execution_count": 28,
   "id": "87e814c5-33f2-46a7-a78f-44bbc4e30177",
   "metadata": {},
   "outputs": [],
   "source": [
    "a = b = c = d = e = 0\n",
    "# With a match statement on an expression that is just the variable stuff,\n",
    "# assign 10, 20, and 30 to a, b, and c, and assign 50 to e, without\n",
    "# assigning 40 to any variable. Furthermore, if the structure of stuff is\n",
    "# anything other than the structure it has above, then don't perform any\n",
    "# assignments, but do print a message.\n",
    "match stuff:\n",
    "    case [a, [b, [c, _], e]]:\n",
    "        pass\n",
    "    case _:\n",
    "        print('structure of stuff is wrong')"
   ]
  },
  {
   "cell_type": "code",
   "execution_count": 29,
   "id": "42d1ae30-c087-4302-b1cf-62233bb286ba",
   "metadata": {},
   "outputs": [
    {
     "data": {
      "text/plain": [
       "[10, 20, 30, 0, 50]"
      ]
     },
     "execution_count": 29,
     "metadata": {},
     "output_type": "execute_result"
    }
   ],
   "source": [
    "[a, b, c, d, e]"
   ]
  },
  {
   "cell_type": "code",
   "execution_count": 30,
   "id": "370a68d2-52c5-4e18-88e7-411912321a49",
   "metadata": {},
   "outputs": [],
   "source": [
    "stuff = 0"
   ]
  },
  {
   "cell_type": "code",
   "execution_count": 31,
   "id": "deddd526-42c2-4924-9c71-7ce5dc3d9b29",
   "metadata": {},
   "outputs": [
    {
     "name": "stdout",
     "output_type": "stream",
     "text": [
      "structure of stuff is wrong\n"
     ]
    }
   ],
   "source": [
    "match stuff:\n",
    "    case [a, [b, [c, _], e]]:\n",
    "        pass\n",
    "    case _:\n",
    "        print('structure of stuff is wrong')"
   ]
  },
  {
   "cell_type": "code",
   "execution_count": 32,
   "id": "af7bb111-d4d6-4cd6-b940-883e04ec81c0",
   "metadata": {
    "tags": [
     "raises-exception"
    ]
   },
   "outputs": [],
   "source": [
    "# Assign the string 'Ow!' to a variable named len. This shadows the builtin\n",
    "# function len (which is why it should never be done, except for demonstration\n",
    "# purposes).\n",
    "len = 'Ow!'"
   ]
  },
  {
   "cell_type": "code",
   "execution_count": 33,
   "id": "4fce873f-1ab7-4b8e-beb5-e2b802f70d7d",
   "metadata": {},
   "outputs": [
    {
     "data": {
      "text/plain": [
       "'Ow!'"
      ]
     },
     "execution_count": 33,
     "metadata": {},
     "output_type": "execute_result"
    }
   ],
   "source": [
    "len"
   ]
  },
  {
   "cell_type": "code",
   "execution_count": 34,
   "id": "f4e83acf-dcab-4f84-9e0f-ae43e9a678a2",
   "metadata": {
    "tags": [
     "raises-exception"
    ]
   },
   "outputs": [
    {
     "ename": "TypeError",
     "evalue": "'str' object is not callable",
     "output_type": "error",
     "traceback": [
      "\u001b[1;31m---------------------------------------------------------------------------\u001b[0m",
      "\u001b[1;31mTypeError\u001b[0m                                 Traceback (most recent call last)",
      "Cell \u001b[1;32mIn[34], line 1\u001b[0m\n\u001b[1;32m----> 1\u001b[0m \u001b[38;5;28;43mlen\u001b[39;49m\u001b[43m(\u001b[49m\u001b[38;5;124;43m'\u001b[39;49m\u001b[38;5;124;43mow!\u001b[39;49m\u001b[38;5;124;43m'\u001b[39;49m\u001b[43m)\u001b[49m\n",
      "\u001b[1;31mTypeError\u001b[0m: 'str' object is not callable"
     ]
    }
   ],
   "source": [
    "len('ow!')"
   ]
  },
  {
   "cell_type": "code",
   "execution_count": 35,
   "id": "a753857c-100f-4c21-9cd7-e22841ffbc47",
   "metadata": {
    "tags": [
     "raises-exception"
    ]
   },
   "outputs": [],
   "source": [
    "# Although len in the builtin scope was shadowed by the presence of len in\n",
    "# the global scope, it was not deleted. Get rid of len in the global scope,\n",
    "# and show that this restores access to len in the builtin scope.\n",
    "del len"
   ]
  },
  {
   "cell_type": "code",
   "execution_count": 36,
   "id": "ab3b42d6-c276-493a-acd0-ab83ec668afd",
   "metadata": {},
   "outputs": [
    {
     "data": {
      "text/plain": [
       "3"
      ]
     },
     "execution_count": 36,
     "metadata": {},
     "output_type": "execute_result"
    }
   ],
   "source": [
    "len('ow!')"
   ]
  },
  {
   "cell_type": "code",
   "execution_count": 37,
   "id": "d783f8e4-18cf-40f4-840b-d3cd9c58b05c",
   "metadata": {
    "tags": [
     "raises-exception"
    ]
   },
   "outputs": [
    {
     "ename": "UnboundLocalError",
     "evalue": "cannot access local variable 'len' where it is not associated with a value",
     "output_type": "error",
     "traceback": [
      "\u001b[1;31m---------------------------------------------------------------------------\u001b[0m",
      "\u001b[1;31mUnboundLocalError\u001b[0m                         Traceback (most recent call last)",
      "Cell \u001b[1;32mIn[37], line 9\u001b[0m\n\u001b[0;32m      6\u001b[0m     \u001b[38;5;28;01mdel\u001b[39;00m \u001b[38;5;28mlen\u001b[39m\n\u001b[0;32m      7\u001b[0m     \u001b[38;5;28mprint\u001b[39m(\u001b[38;5;28mlen\u001b[39m(\u001b[38;5;124m'\u001b[39m\u001b[38;5;124mhello\u001b[39m\u001b[38;5;124m'\u001b[39m))\n\u001b[1;32m----> 9\u001b[0m \u001b[43mtestscopes\u001b[49m\u001b[43m(\u001b[49m\u001b[43m)\u001b[49m\n",
      "Cell \u001b[1;32mIn[37], line 7\u001b[0m, in \u001b[0;36mtestscopes\u001b[1;34m()\u001b[0m\n\u001b[0;32m      5\u001b[0m \u001b[38;5;28mlen\u001b[39m \u001b[38;5;241m=\u001b[39m \u001b[38;5;124m'\u001b[39m\u001b[38;5;124mOw!\u001b[39m\u001b[38;5;124m'\u001b[39m\n\u001b[0;32m      6\u001b[0m \u001b[38;5;28;01mdel\u001b[39;00m \u001b[38;5;28mlen\u001b[39m\n\u001b[1;32m----> 7\u001b[0m \u001b[38;5;28mprint\u001b[39m(\u001b[38;5;28;43mlen\u001b[39;49m(\u001b[38;5;124m'\u001b[39m\u001b[38;5;124mhello\u001b[39m\u001b[38;5;124m'\u001b[39m))\n",
      "\u001b[1;31mUnboundLocalError\u001b[0m: cannot access local variable 'len' where it is not associated with a value"
     ]
    }
   ],
   "source": [
    "# Suppose we have a function with a local variable called len. Can deleting\n",
    "# that local variable restore access to the builtin len, in that function?\n",
    "# Please write a function that demonstrates whether or not it can.\n",
    "def testscopes():\n",
    "    len = 'Ow!'\n",
    "    del len\n",
    "    print(len('hello'))\n",
    "\n",
    "testscopes()"
   ]
  },
  {
   "cell_type": "code",
   "execution_count": 38,
   "id": "2368e4fc-2825-4422-b9f7-df8075f70b98",
   "metadata": {},
   "outputs": [],
   "source": [
    "# Some very important information we really don't want to lose.\n",
    "hello = 'The gold is in safe deposit #9A44515 at the Hello World Bank of Switzerland or something.'\n",
    "\n",
    "# Demonstrate why * imports are only considered reasonable for interactive testing.\n",
    "from palgoviz.greet import *"
   ]
  },
  {
   "cell_type": "code",
   "execution_count": 39,
   "id": "756d6f71-5e5f-4029-a268-b0edeefa20c5",
   "metadata": {},
   "outputs": [
    {
     "data": {
      "text/plain": [
       "<function palgoviz.greet.hello(name, lang='en')>"
      ]
     },
     "execution_count": 39,
     "metadata": {},
     "output_type": "execute_result"
    }
   ],
   "source": [
    "hello"
   ]
  },
  {
   "cell_type": "code",
   "execution_count": 40,
   "id": "860e573e-5b6b-4955-a0fe-192f6f122127",
   "metadata": {},
   "outputs": [],
   "source": [
    "# TODO: Find out the actual semantics of _ in interactive python and in IPython/Jupyter."
   ]
  },
  {
   "cell_type": "code",
   "execution_count": 41,
   "id": "a74ee727-849a-4725-a8d6-7b2d2488b2f7",
   "metadata": {},
   "outputs": [
    {
     "name": "stdout",
     "output_type": "stream",
     "text": [
      "got here\n",
      "<function hello at 0x000001B801DE2FC0>\n"
     ]
    }
   ],
   "source": [
    "# In a function (to avoid messing with the special significance of _ in interactive\n",
    "# Python interpreters), show that using _ as a discard in a match statement does not\n",
    "# assign to _ and does not even cause it to become a local variable.\n",
    "def underfunction():\n",
    "    mystuff = 10\n",
    "    match mystuff:\n",
    "        case _:\n",
    "            print ('got here')\n",
    "            print (_)\n",
    "            \n",
    "underfunction()"
   ]
  },
  {
   "cell_type": "code",
   "execution_count": 42,
   "id": "8ad16a9d-1dda-4bcd-bd97-0341a8274fb8",
   "metadata": {},
   "outputs": [
    {
     "name": "stdout",
     "output_type": "stream",
     "text": [
      "5\n",
      "4\n"
     ]
    }
   ],
   "source": [
    "# In a function (to avoid messing with the special significance of _ in interactive\n",
    "# Python interpreters), show that using _ like a discard in an assignment statement\n",
    "# DOES assign to _.\n",
    "def unassfunction():\n",
    "    _ = 4\n",
    "    x = 5\n",
    "    print (x)\n",
    "    print (_)\n",
    "unassfunction()"
   ]
  },
  {
   "cell_type": "code",
   "execution_count": 43,
   "id": "d50608b8-88ad-47aa-8e35-d6399594de6b",
   "metadata": {},
   "outputs": [
    {
     "name": "stdout",
     "output_type": "stream",
     "text": [
      "10\n",
      "20\n",
      "30\n",
      "40\n",
      "50\n",
      "60\n",
      "70\n"
     ]
    }
   ],
   "source": [
    "values = [10, 20, 30, 40, 50, 60, 70]\n",
    "# For each value in values, assign it to the variable x and print x.\n",
    "for x in values:\n",
    "    print (x)"
   ]
  },
  {
   "cell_type": "code",
   "execution_count": 44,
   "id": "2d0d68e9-2fd5-4c60-b95e-813f6a2ca58e",
   "metadata": {},
   "outputs": [],
   "source": [
    "point = (10, 20)\n",
    "# Write an assignment statement with just the variable point on the right-hand\n",
    "# side, which assign 10 to the variable x_coord and 20 to the variable y_coord.\n",
    "x_coord, y_coord = point"
   ]
  },
  {
   "cell_type": "code",
   "execution_count": 45,
   "id": "ee963c8d-7fac-4029-9e3d-309f1e69f618",
   "metadata": {},
   "outputs": [
    {
     "data": {
      "text/plain": [
       "'x_coord=10, y_coord=20'"
      ]
     },
     "execution_count": 45,
     "metadata": {},
     "output_type": "execute_result"
    }
   ],
   "source": [
    "f'{x_coord=}, {y_coord=}'"
   ]
  },
  {
   "cell_type": "code",
   "execution_count": 46,
   "id": "eb52c9bb-7df3-41c0-a556-20ef167766f9",
   "metadata": {},
   "outputs": [
    {
     "name": "stdout",
     "output_type": "stream",
     "text": [
      "10 on the x-axis, 20 on the y-axis.\n",
      "30 on the x-axis, 40 on the y-axis.\n",
      "50 on the x-axis, 60 on the y-axis.\n",
      "70 on the x-axis, 80 on the y-axis.\n"
     ]
    }
   ],
   "source": [
    "coords = [(10, 20), (30, 40), (50, 60), (70, 80)]\n",
    "# For each coordinate pair in coords, assign the first element to x and the\n",
    "# second element to y, and print them both (formatted however you like).\n",
    "for x, y in coords:\n",
    "    print(f'{x} on the x-axis, {y} on the y-axis.')"
   ]
  },
  {
   "cell_type": "code",
   "execution_count": 47,
   "id": "42ca474c-ae7c-43be-b8ba-5faa83d88458",
   "metadata": {},
   "outputs": [
    {
     "name": "stdout",
     "output_type": "stream",
     "text": [
      "x='cat'\n",
      "xs=['dog', 'horse', 'bat', 'eagle']\n",
      "x='banker'\n",
      "xs=['butcher', 'candlestick maker']\n",
      "x=10\n",
      "xs=[20, 30, 40, 50, 50, 60]\n"
     ]
    }
   ],
   "source": [
    "table = [['cat', 'dog', 'horse', 'bat', 'eagle'],\n",
    "         ['banker', 'butcher', 'candlestick maker'],\n",
    "         [10, 20, 30, 40, 50, 50, 60]]\n",
    "# For each row of table, assign the first element to x and a list of all the\n",
    "# other elements to xs, then print them both (formatted however you like).\n",
    "for x, *xs in table:\n",
    "    print(f'{x=}')\n",
    "    print(f'{xs=}')"
   ]
  },
  {
   "cell_type": "code",
   "execution_count": 48,
   "id": "87b8d8d9-f06b-4a8a-a376-b50aa53b3739",
   "metadata": {},
   "outputs": [
    {
     "data": {
      "text/plain": [
       "[20, 30, 40, 50, 50, 60]"
      ]
     },
     "execution_count": 48,
     "metadata": {},
     "output_type": "execute_result"
    }
   ],
   "source": [
    "xs"
   ]
  },
  {
   "cell_type": "code",
   "execution_count": 49,
   "id": "7974714b-7800-4371-bf7d-e4468acd1dc6",
   "metadata": {},
   "outputs": [
    {
     "data": {
      "text/plain": [
       "(20, [30, 40, 50, 50, 60])"
      ]
     },
     "execution_count": 49,
     "metadata": {},
     "output_type": "execute_result"
    }
   ],
   "source": [
    "y, *ys = xs\n",
    "(y, ys)"
   ]
  },
  {
   "cell_type": "code",
   "execution_count": 50,
   "id": "5c42c60b-2ff9-43d5-9860-b22def4be15f",
   "metadata": {},
   "outputs": [
    {
     "data": {
      "text/plain": [
       "{20, 30, 40, 50, 60, 'foo'}"
      ]
     },
     "execution_count": 50,
     "metadata": {},
     "output_type": "execute_result"
    }
   ],
   "source": [
    "ys = {'foo', *xs}\n",
    "ys"
   ]
  },
  {
   "cell_type": "code",
   "execution_count": 51,
   "id": "f9ba0568-b1bb-4760-b048-480de2d60eb4",
   "metadata": {},
   "outputs": [
    {
     "name": "stdout",
     "output_type": "stream",
     "text": [
      "xs=['cat', 'dog', 'horse', 'bat']\n",
      "x='eagle'\n",
      "xs=['banker', 'butcher']\n",
      "x='candlestick maker'\n",
      "xs=[10, 20, 30, 40, 50, 50]\n",
      "x=60\n"
     ]
    }
   ],
   "source": [
    "table = [['cat', 'dog', 'horse', 'bat', 'eagle'],\n",
    "         ['banker', 'butcher', 'candlestick maker'],\n",
    "         [10, 20, 30, 40, 50, 50, 60]]\n",
    "# For each row of table, assign the last element to x and a list of all the\n",
    "# other elements to xs, then print them both (formatted however you like).\n",
    "for *xs, x in table:\n",
    "    print(f'{xs=}')\n",
    "    print(f'{x=}')"
   ]
  },
  {
   "cell_type": "code",
   "execution_count": 52,
   "id": "5f35bdb1-9c2d-4293-a498-1dbd9d029aca",
   "metadata": {},
   "outputs": [
    {
     "name": "stdout",
     "output_type": "stream",
     "text": [
      "xs=[]\n",
      "x=1\n",
      "xs=[]\n",
      "x=2\n"
     ]
    }
   ],
   "source": [
    "# Write an assignment whose left-hand side is\n",
    "#    *xs, x\n",
    "# where xs becomes an empty list.\n",
    "row = [[1],[2]] \n",
    "for *xs, x in row:\n",
    "    print(f'{xs=}')\n",
    "    print(f'{x=}')    "
   ]
  },
  {
   "cell_type": "code",
   "execution_count": 53,
   "id": "5e8505b2-731c-468e-a65f-b5aad4fa4334",
   "metadata": {},
   "outputs": [],
   "source": [
    "# Write such an assignment as one-line assignment statement.\n",
    "*xs, x = ['stuff']"
   ]
  },
  {
   "cell_type": "code",
   "execution_count": 54,
   "id": "b6d7a600-fc8c-4fca-8acd-eb92b3a93681",
   "metadata": {},
   "outputs": [
    {
     "data": {
      "text/plain": [
       "[]"
      ]
     },
     "execution_count": 54,
     "metadata": {},
     "output_type": "execute_result"
    }
   ],
   "source": [
    "xs"
   ]
  },
  {
   "cell_type": "code",
   "execution_count": 55,
   "id": "09e0f8e9-1fd6-4c35-a33d-a4626fd5cb61",
   "metadata": {},
   "outputs": [
    {
     "data": {
      "text/plain": [
       "'stuff'"
      ]
     },
     "execution_count": 55,
     "metadata": {},
     "output_type": "execute_result"
    }
   ],
   "source": [
    "x"
   ]
  },
  {
   "cell_type": "code",
   "execution_count": 56,
   "id": "932e9ccd-61f6-4818-adf4-93b21feb9702",
   "metadata": {},
   "outputs": [
    {
     "name": "stdout",
     "output_type": "stream",
     "text": [
      "first='cat'\n",
      "middle=['dog', 'horse', 'bat']\n",
      "last='eagle'\n",
      "first='banker'\n",
      "middle=['butcher']\n",
      "last='candlestick maker'\n",
      "first=10\n",
      "middle=[20, 30, 40, 50, 50]\n",
      "last=60\n"
     ]
    }
   ],
   "source": [
    "table = [['cat', 'dog', 'horse', 'bat', 'eagle'],\n",
    "         ['banker', 'butcher', 'candlestick maker'],\n",
    "         [10, 20, 30, 40, 50, 50, 60]]\n",
    "# For each row of table, assign the first element to first, the last element\n",
    "# to last, and all the other elements to middle (so middle will be a list).\n",
    "for first, *middle, last in table:\n",
    "    print(f'{first=}')\n",
    "    print(f'{middle=}')\n",
    "    print(f'{last=}')"
   ]
  },
  {
   "cell_type": "code",
   "execution_count": 57,
   "id": "25a53480-56b3-4bea-815e-6520c76e413e",
   "metadata": {},
   "outputs": [
    {
     "name": "stdout",
     "output_type": "stream",
     "text": [
      "list index out of range\n"
     ]
    }
   ],
   "source": [
    "# Some except clauses perform assignment. Demonstrate this.\n",
    "mylist = [0, 1, 2, 3, 4]\n",
    "try: \n",
    "    mylist[5]\n",
    "except IndexError as ierror:\n",
    "    print(ierror)"
   ]
  },
  {
   "cell_type": "code",
   "execution_count": 58,
   "id": "fdad0d45-71fa-4ac7-90df-bc34774ca7be",
   "metadata": {},
   "outputs": [],
   "source": [
    "# Variables assigned outside of functions and comprehensions are global,\n",
    "# and in JupyterLab global variables are accessible across cells, since\n",
    "# code in different cells is all in the same scope. You've seen this, and\n",
    "# here's another example:\n",
    "something = 'wow!'"
   ]
  },
  {
   "cell_type": "code",
   "execution_count": 59,
   "id": "2984959a-1640-41c6-a852-3b690647a1c2",
   "metadata": {},
   "outputs": [
    {
     "data": {
      "text/plain": [
       "'wow!'"
      ]
     },
     "execution_count": 59,
     "metadata": {},
     "output_type": "execute_result"
    }
   ],
   "source": [
    "something"
   ]
  },
  {
   "cell_type": "code",
   "execution_count": 60,
   "id": "d9b6f34a-9139-40ce-bc80-a60742de6cd9",
   "metadata": {
    "tags": [
     "raises-exception"
    ]
   },
   "outputs": [
    {
     "ename": "NameError",
     "evalue": "name 'ierror' is not defined",
     "output_type": "error",
     "traceback": [
      "\u001b[1;31m---------------------------------------------------------------------------\u001b[0m",
      "\u001b[1;31mNameError\u001b[0m                                 Traceback (most recent call last)",
      "Cell \u001b[1;32mIn[60], line 3\u001b[0m\n\u001b[0;32m      1\u001b[0m \u001b[38;5;66;03m# But what about ierror? It was assigned by the except clause.\u001b[39;00m\n\u001b[0;32m      2\u001b[0m \u001b[38;5;66;03m# Is it still accessible?\u001b[39;00m\n\u001b[1;32m----> 3\u001b[0m \u001b[43mierror\u001b[49m\n",
      "\u001b[1;31mNameError\u001b[0m: name 'ierror' is not defined"
     ]
    }
   ],
   "source": [
    "# But what about ierror? It was assigned by the except clause.\n",
    "# Is it still accessible?\n",
    "ierror"
   ]
  },
  {
   "cell_type": "code",
   "execution_count": 61,
   "id": "568f773c-163d-477f-98d6-e5b5f1e56658",
   "metadata": {},
   "outputs": [],
   "source": [
    "# The variable was in the same scope. But this is a special case. The\n",
    "# variable to which except assigns the exception object is deleted (as\n",
    "# if with del) as control exits the end of the except block.\n",
    "\n",
    "# The reason for this special behavior is that exception objects contain\n",
    "# references to data structures useful for debugging... and through\n",
    "# which most other variables and state can be accessed. That keeps\n",
    "# numerous objects from being garbage collected. Deleting the variable\n",
    "# lets the exception object be garbage collected (unless it has been\n",
    "# assigned elsewhere), which prevents what would otherwise be huge\n",
    "# memory leaks in most Python programs."
   ]
  },
  {
   "cell_type": "code",
   "execution_count": 62,
   "id": "fea324bd-5f57-44f3-bd2c-191942668e40",
   "metadata": {
    "tags": [
     "raises-exception"
    ]
   },
   "outputs": [
    {
     "name": "stdout",
     "output_type": "stream",
     "text": [
      "list index out of range\n"
     ]
    },
    {
     "ename": "NameError",
     "evalue": "name 'ierror' is not defined",
     "output_type": "error",
     "traceback": [
      "\u001b[1;31m---------------------------------------------------------------------------\u001b[0m",
      "\u001b[1;31mNameError\u001b[0m                                 Traceback (most recent call last)",
      "Cell \u001b[1;32mIn[62], line 10\u001b[0m\n\u001b[0;32m      8\u001b[0m \u001b[38;5;28;01mexcept\u001b[39;00m \u001b[38;5;167;01mIndexError\u001b[39;00m \u001b[38;5;28;01mas\u001b[39;00m ierror:\n\u001b[0;32m      9\u001b[0m     \u001b[38;5;28mprint\u001b[39m(ierror)\n\u001b[1;32m---> 10\u001b[0m \u001b[38;5;28mprint\u001b[39m(\u001b[43mierror\u001b[49m)\n",
      "\u001b[1;31mNameError\u001b[0m: name 'ierror' is not defined"
     ]
    }
   ],
   "source": [
    "# Show that, if the variable existed before, and is assigned to by\n",
    "# except, then after the except clause, it is still deleted, and *not*\n",
    "# restored to its former value.\n",
    "ierror = \"former value\" \n",
    "mylist = [0, 1, 2, 3, 4]\n",
    "try: \n",
    "    mylist[5]\n",
    "except IndexError as ierror:\n",
    "    print(ierror)\n",
    "print(ierror)"
   ]
  },
  {
   "cell_type": "code",
   "execution_count": 63,
   "id": "a1bc0c1b-a3e0-498c-8eda-6465bd6d9aab",
   "metadata": {},
   "outputs": [
    {
     "name": "stdout",
     "output_type": "stream",
     "text": [
      "list index out of range\n",
      "list index out of range\n"
     ]
    }
   ],
   "source": [
    "# Write code that preserves access to the exception object even after\n",
    "# control has left the except clause. (This is occasionally useful.)\n",
    "ierror = \"former value\" \n",
    "mylist = [0, 1, 2, 3, 4]\n",
    "try: \n",
    "    mylist[5]\n",
    "except IndexError as ierror:\n",
    "    print(ierror)\n",
    "    preserver = ierror\n",
    "print(preserver)"
   ]
  },
  {
   "cell_type": "code",
   "execution_count": 64,
   "id": "2b2ed965-d9ef-46f2-99dd-f3fd04b78298",
   "metadata": {},
   "outputs": [
    {
     "data": {
      "text/plain": [
       "'C:\\\\Users\\\\ek\\\\source\\\\repos\\\\palgoviz\\\\notebooks'"
      ]
     },
     "execution_count": 64,
     "metadata": {},
     "output_type": "execute_result"
    }
   ],
   "source": [
    "import os\n",
    "os.getcwd()"
   ]
  },
  {
   "cell_type": "code",
   "execution_count": 65,
   "id": "d86ed99c-25b8-42c2-86a0-d4068eb5f05a",
   "metadata": {},
   "outputs": [
    {
     "name": "stdout",
     "output_type": "stream",
     "text": [
      "Eliah\n",
      "\n"
     ]
    }
   ],
   "source": [
    "# The \"with\" statement is a form of assignment, when an \"as\" clause\n",
    "# is present. Open names.txt as a file and read a line from it.\n",
    "with open('../data/names.txt', encoding='utf-8') as file:\n",
    "    firstline = file.readline()    \n",
    "    print(firstline)"
   ]
  },
  {
   "cell_type": "code",
   "execution_count": 66,
   "id": "bf8f4adf-5739-4002-8af2-5e631bd9b256",
   "metadata": {
    "tags": [
     "raises-exception"
    ]
   },
   "outputs": [
    {
     "ename": "ValueError",
     "evalue": "I/O operation on closed file.",
     "output_type": "error",
     "traceback": [
      "\u001b[1;31m---------------------------------------------------------------------------\u001b[0m",
      "\u001b[1;31mValueError\u001b[0m                                Traceback (most recent call last)",
      "Cell \u001b[1;32mIn[66], line 2\u001b[0m\n\u001b[0;32m      1\u001b[0m \u001b[38;5;66;03m# Control has left the with block. Does the file variable still exist?\u001b[39;00m\n\u001b[1;32m----> 2\u001b[0m secondline \u001b[38;5;241m=\u001b[39m \u001b[43mfile\u001b[49m\u001b[38;5;241;43m.\u001b[39;49m\u001b[43mreadline\u001b[49m\u001b[43m(\u001b[49m\u001b[43m)\u001b[49m\n",
      "\u001b[1;31mValueError\u001b[0m: I/O operation on closed file."
     ]
    }
   ],
   "source": [
    "# Control has left the with block. Does the file variable still exist?\n",
    "secondline = file.readline()"
   ]
  },
  {
   "cell_type": "code",
   "execution_count": 67,
   "id": "07340ac3-20ce-4d3d-8231-d668d8d7e00b",
   "metadata": {},
   "outputs": [
    {
     "name": "stdout",
     "output_type": "stream",
     "text": [
      "Eliah\n",
      "\n"
     ]
    }
   ],
   "source": [
    "# Open names.txt as a file and read a line from it. Use try-finally\n",
    "# instead of a \"with\" statement.\n",
    "file = open('../data/names.txt', encoding='utf-8')\n",
    "try: \n",
    "    firstline = file.readline()\n",
    "    print(firstline)\n",
    "finally: \n",
    "    file.close()"
   ]
  },
  {
   "cell_type": "code",
   "execution_count": 68,
   "id": "337421a9-2195-46c0-ad47-a737a3af9cf8",
   "metadata": {
    "tags": [
     "raises-exception"
    ]
   },
   "outputs": [
    {
     "ename": "ValueError",
     "evalue": "I/O operation on closed file.",
     "output_type": "error",
     "traceback": [
      "\u001b[1;31m---------------------------------------------------------------------------\u001b[0m",
      "\u001b[1;31mValueError\u001b[0m                                Traceback (most recent call last)",
      "Cell \u001b[1;32mIn[68], line 1\u001b[0m\n\u001b[1;32m----> 1\u001b[0m secondline \u001b[38;5;241m=\u001b[39m \u001b[43mfile\u001b[49m\u001b[38;5;241;43m.\u001b[39;49m\u001b[43mreadline\u001b[49m\u001b[43m(\u001b[49m\u001b[43m)\u001b[49m\n",
      "\u001b[1;31mValueError\u001b[0m: I/O operation on closed file."
     ]
    }
   ],
   "source": [
    "secondline = file.readline()"
   ]
  },
  {
   "cell_type": "code",
   "execution_count": 69,
   "id": "f931c9b4-be24-4b5e-8e7b-19d1a619da2d",
   "metadata": {},
   "outputs": [],
   "source": [
    "# A \"with\" statement, with \"as\", assigns an object to a variable that usually\n",
    "# makes sense to use within the body of the \"with\" statement, and that may or\n",
    "# may not make sense to use afterwards. However, unlike \"as\" in an \"except\"\n",
    "# clause, there is no special variable-deletion behavior associated with \"as\"\n",
    "# in a \"with\" statement."
   ]
  },
  {
   "cell_type": "code",
   "execution_count": 70,
   "id": "54d2f406-057a-4212-a5b1-f329ef6c7d8e",
   "metadata": {},
   "outputs": [
    {
     "name": "stdout",
     "output_type": "stream",
     "text": [
      "uncubed=5\n",
      "uncubed=0\n"
     ]
    }
   ],
   "source": [
    "# Part of the semantics of function calls is that the objects passed as actual\n",
    "# arguments to the function are assigned to the function's formal parameters,\n",
    "# and those formal parameters are local variables of the function as it executes.\n",
    "# Define a function with one or more parameters that accesses its parameter(s)\n",
    "# and prints their values. Then run code that shows that these values have not\n",
    "# been assigned to variables of the same names in the global scope.\n",
    "uncubed = 0\n",
    "def cube(uncubed):\n",
    "    print(f'{uncubed=}')\n",
    "    return uncubed**3\n",
    "cube(5)\n",
    "print(f'{uncubed=}')"
   ]
  },
  {
   "cell_type": "code",
   "execution_count": 71,
   "id": "3c061d84-d64b-4351-8091-f8cee2d7ba72",
   "metadata": {},
   "outputs": [
    {
     "name": "stdout",
     "output_type": "stream",
     "text": [
      "[9, 8, 7, 6, 5]\n",
      "(9, 8, 7, 6)\n",
      "[9, 8, 7, 6, 5]\n"
     ]
    }
   ],
   "source": [
    "# When a function has a formal parameter that appears in the parameter list\n",
    "# with a leading *, like *args, this accepts zero or more actual arguments.\n",
    "# Those arguments are collected together into a tuple. This is conceptually\n",
    "# very similar to assigning to starred targets with assignment statements\n",
    "# and with the match statement. But with assignment statements and the match\n",
    "# statement, a list is created, not a tuple. Demonstrate this difference.\n",
    "stuff = (9, 8, 7, 6, 5, 4)\n",
    "*liststuff, last = stuff\n",
    "print(liststuff)\n",
    "def tupstuff(*inputstuff):\n",
    "    print(inputstuff)\n",
    "tupstuff(9, 8, 7, 6)\n",
    "match stuff:\n",
    "    case *things, lastthing:\n",
    "        print(things)\n",
    "    case _:\n",
    "        print(\"should be more than one thing\")"
   ]
  },
  {
   "cell_type": "code",
   "execution_count": 72,
   "id": "95e748ae-a44c-4576-851b-cd10fb1008e8",
   "metadata": {},
   "outputs": [
    {
     "name": "stdout",
     "output_type": "stream",
     "text": [
      "(10, 5, 1)\n",
      "(10, 5, 1)\n",
      "(10, 5, 1)\n"
     ]
    },
    {
     "data": {
      "text/plain": [
       "16"
      ]
     },
     "execution_count": 72,
     "metadata": {},
     "output_type": "execute_result"
    }
   ],
   "source": [
    "def f(*args):\n",
    "    mystery(args)\n",
    "    return g(*args)\n",
    "\n",
    "def g(*args):\n",
    "    mystery(args)\n",
    "    return h(*args)\n",
    "\n",
    "def h(*args):\n",
    "    mystery(args)\n",
    "    return sum(args)\n",
    "\n",
    "def mystery(args):\n",
    "    print(args)\n",
    "\n",
    "f(10, 5, 1)"
   ]
  },
  {
   "cell_type": "code",
   "execution_count": 73,
   "id": "03a18a6e-f67a-4a1e-8b94-c0957d8f3186",
   "metadata": {},
   "outputs": [],
   "source": [
    "labels = ['x', 'y', 'z']\n",
    "values = [10.2, 5.3, 7.0]"
   ]
  },
  {
   "cell_type": "code",
   "execution_count": 74,
   "id": "18017a3a-a460-4bf0-a240-43eaf9569d73",
   "metadata": {},
   "outputs": [
    {
     "name": "stdout",
     "output_type": "stream",
     "text": [
      "Coordinate 0, the x-coordinate, is 10.2.\n",
      "Coordinate 1, the y-coordinate, is  5.3.\n",
      "Coordinate 2, the z-coordinate, is  7.0.\n"
     ]
    }
   ],
   "source": [
    "# This is OK, but can it be made more Pythonic? Does that improve it?\n",
    "#\n",
    "# There are three main ways to express this. One is with indexing, as\n",
    "# shown. Of the other two, one uses only builtins, while the other uses\n",
    "# something you've seen before from the itertools module. Do both.\n",
    "# Which of the three ways (this, and those) do you prefer in this case?\n",
    "#\n",
    "# Feel free to assume len(labels) == len(values). Don't assume it's 3.\n",
    "for i in range(len(labels)):\n",
    "    print(f'Coordinate {i}, the {labels[i]}-coordinate, is {values[i]:4}.')"
   ]
  },
  {
   "cell_type": "code",
   "execution_count": 75,
   "id": "50e6ab36-66ab-4008-973b-5028ea04ff71",
   "metadata": {},
   "outputs": [
    {
     "name": "stdout",
     "output_type": "stream",
     "text": [
      "Coordinate 0, the x-coordinate, is 10.2.\n",
      "Coordinate 1, the y-coordinate, is  5.3.\n",
      "Coordinate 2, the z-coordinate, is  7.0.\n"
     ]
    }
   ],
   "source": [
    "for (index, label), value in zip(enumerate(labels), values):\n",
    "    print(f'Coordinate {index}, the {label}-coordinate, is {value:4}.')"
   ]
  },
  {
   "cell_type": "code",
   "execution_count": 76,
   "id": "0548ffd7-5313-443d-a3e9-e96bf941ee71",
   "metadata": {},
   "outputs": [
    {
     "name": "stdout",
     "output_type": "stream",
     "text": [
      "Coordinate 0, the x-coordinate, is 10.2.\n",
      "Coordinate 1, the y-coordinate, is  5.3.\n",
      "Coordinate 2, the z-coordinate, is  7.0.\n"
     ]
    }
   ],
   "source": [
    "for label, (index, value) in zip(labels, enumerate(values)):\n",
    "    print(f'Coordinate {index}, the {label}-coordinate, is {value:4}.')"
   ]
  },
  {
   "cell_type": "code",
   "execution_count": 77,
   "id": "bf544e1a-c1ea-4b70-9343-b23cc242da92",
   "metadata": {},
   "outputs": [
    {
     "name": "stdout",
     "output_type": "stream",
     "text": [
      "Coordinate 0, the x-coordinate, is 10.2.\n",
      "Coordinate 1, the y-coordinate, is  5.3.\n",
      "Coordinate 2, the z-coordinate, is  7.0.\n"
     ]
    }
   ],
   "source": [
    "for index, (label, value) in enumerate(zip(labels, values)):\n",
    "    print(f'Coordinate {index}, the {label}-coordinate, is {value:4}.')"
   ]
  },
  {
   "cell_type": "code",
   "execution_count": 78,
   "id": "712df26b-9099-4909-b564-5f152b793243",
   "metadata": {},
   "outputs": [],
   "source": [
    "import itertools"
   ]
  },
  {
   "cell_type": "code",
   "execution_count": 79,
   "id": "0b94fe14-ed82-41d8-8fe7-5df2082d7cb9",
   "metadata": {},
   "outputs": [
    {
     "data": {
      "text/plain": [
       "['__doc__',\n",
       " '__loader__',\n",
       " '__name__',\n",
       " '__package__',\n",
       " '__spec__',\n",
       " '_grouper',\n",
       " '_tee',\n",
       " '_tee_dataobject',\n",
       " 'accumulate',\n",
       " 'chain',\n",
       " 'combinations',\n",
       " 'combinations_with_replacement',\n",
       " 'compress',\n",
       " 'count',\n",
       " 'cycle',\n",
       " 'dropwhile',\n",
       " 'filterfalse',\n",
       " 'groupby',\n",
       " 'islice',\n",
       " 'pairwise',\n",
       " 'permutations',\n",
       " 'product',\n",
       " 'repeat',\n",
       " 'starmap',\n",
       " 'takewhile',\n",
       " 'tee',\n",
       " 'zip_longest']"
      ]
     },
     "execution_count": 79,
     "metadata": {},
     "output_type": "execute_result"
    }
   ],
   "source": [
    "dir(itertools) "
   ]
  },
  {
   "cell_type": "code",
   "execution_count": 80,
   "id": "a81c80a0-4537-4d52-a351-255cf1016162",
   "metadata": {},
   "outputs": [
    {
     "name": "stdout",
     "output_type": "stream",
     "text": [
      "Help on class count in module itertools:\n",
      "\n",
      "class count(builtins.object)\n",
      " |  count(start=0, step=1)\n",
      " |  \n",
      " |  Return a count object whose .__next__() method returns consecutive values.\n",
      " |  \n",
      " |  Equivalent to:\n",
      " |      def count(firstval=0, step=1):\n",
      " |          x = firstval\n",
      " |          while 1:\n",
      " |              yield x\n",
      " |              x += step\n",
      " |  \n",
      " |  Methods defined here:\n",
      " |  \n",
      " |  __getattribute__(self, name, /)\n",
      " |      Return getattr(self, name).\n",
      " |  \n",
      " |  __iter__(self, /)\n",
      " |      Implement iter(self).\n",
      " |  \n",
      " |  __next__(self, /)\n",
      " |      Implement next(self).\n",
      " |  \n",
      " |  __reduce__(...)\n",
      " |      Return state information for pickling.\n",
      " |  \n",
      " |  __repr__(self, /)\n",
      " |      Return repr(self).\n",
      " |  \n",
      " |  ----------------------------------------------------------------------\n",
      " |  Static methods defined here:\n",
      " |  \n",
      " |  __new__(*args, **kwargs) from builtins.type\n",
      " |      Create and return a new object.  See help(type) for accurate signature.\n",
      "\n"
     ]
    }
   ],
   "source": [
    "help(itertools.count)"
   ]
  },
  {
   "cell_type": "code",
   "execution_count": 81,
   "id": "a94e7806-0182-4259-924d-2eb93885db8e",
   "metadata": {},
   "outputs": [
    {
     "name": "stdout",
     "output_type": "stream",
     "text": [
      "Coordinate 0, the x-coordinate, is 10.2.\n",
      "Coordinate 1, the y-coordinate, is  5.3.\n",
      "Coordinate 2, the z-coordinate, is  7.0.\n"
     ]
    }
   ],
   "source": [
    "for index, label, value in zip(itertools.count(), labels, values):\n",
    "    print(f'Coordinate {index}, the {label}-coordinate, is {value:4}.')"
   ]
  },
  {
   "cell_type": "code",
   "execution_count": 82,
   "id": "4b6232ca-0a43-437e-be99-c84a169e1fd5",
   "metadata": {},
   "outputs": [],
   "source": [
    "# Bobcats the The Shipper sent by common carrier until he was finally\n",
    "# taken out by Marine Force Recon snipers.\n",
    "names = ['Bob', 'Kat', 'Robert', 'Catherine', 'Boberto', 'Ekaterina', 'Leo']\n",
    "sizes = ['smallish', 'regular-sized', 'big', 'scarily large', 'truly huge',\n",
    "         'shrouded in mystery', 'actually a leopard']\n",
    "victims = ['John Smith', 'Joe Smith', 'Alice Smith', 'J. Jonah Jameson',\n",
    "           'two fishmongers', 'Delaware legislators', 'Bozo the Clown']\n",
    "orders = ['gaming mouse', 'mechanical keyboard', 'box of oranges',\n",
    "          'gallon of ink', 'full-stack developer', 'Westlaw subscription',\n",
    "          'pallet of noses']"
   ]
  },
  {
   "cell_type": "code",
   "execution_count": 83,
   "id": "d50e72a3-1f0d-4b1d-9d0e-666f776c0c58",
   "metadata": {},
   "outputs": [
    {
     "name": "stdout",
     "output_type": "stream",
     "text": [
      "Bobcat #1, Bob, who is smallish, went to John Smith, who wanted a gaming mouse.\n",
      "Bobcat #2, Kat, who is regular-sized, went to Joe Smith, who wanted a mechanical keyboard.\n",
      "Bobcat #3, Robert, who is big, went to Alice Smith, who wanted a box of oranges.\n",
      "Bobcat #4, Catherine, who is scarily large, went to J. Jonah Jameson, who wanted a gallon of ink.\n",
      "Bobcat #5, Boberto, who is truly huge, went to two fishmongers, who wanted a full-stack developer.\n",
      "Bobcat #6, Ekaterina, who is shrouded in mystery, went to Delaware legislators, who wanted a Westlaw subscription.\n",
      "Bobcat #7, Leo, who is actually a leopard, went to Bozo the Clown, who wanted a pallet of noses.\n"
     ]
    }
   ],
   "source": [
    "# Do this one both other ways, too. Is there a way you prefer?\n",
    "#\n",
    "# Feel free to assume that:\n",
    "#\n",
    "#    len(names) == len(sizes) == len(victims) == len(orders)\n",
    "#\n",
    "# But don't assume this length is 7.\n",
    "#\n",
    "# (The f-string here is split into two lines for readability. In your\n",
    "# solution, feel free to keep it split, or to have it all on one line.)\n",
    "for i in range(len(names)):\n",
    "    print(f'Bobcat #{i + 1}, {names[i]}, who is {sizes[i]}, '\n",
    "          f'went to {victims[i]}, who wanted a {orders[i]}.')"
   ]
  },
  {
   "cell_type": "code",
   "execution_count": 84,
   "id": "3eac7b0b-8feb-4bce-8218-032c2017c859",
   "metadata": {},
   "outputs": [
    {
     "name": "stdout",
     "output_type": "stream",
     "text": [
      "Bobcat #1, Bob, who is smallish, went to John Smith, who wanted a gaming mouse.\n",
      "Bobcat #2, Kat, who is regular-sized, went to Joe Smith, who wanted a mechanical keyboard.\n",
      "Bobcat #3, Robert, who is big, went to Alice Smith, who wanted a box of oranges.\n",
      "Bobcat #4, Catherine, who is scarily large, went to J. Jonah Jameson, who wanted a gallon of ink.\n",
      "Bobcat #5, Boberto, who is truly huge, went to two fishmongers, who wanted a full-stack developer.\n",
      "Bobcat #6, Ekaterina, who is shrouded in mystery, went to Delaware legislators, who wanted a Westlaw subscription.\n",
      "Bobcat #7, Leo, who is actually a leopard, went to Bozo the Clown, who wanted a pallet of noses.\n"
     ]
    }
   ],
   "source": [
    "for index, name, size, victim, order in zip(itertools.count(1), names, sizes, victims, orders):\n",
    "    print(f'Bobcat #{index}, {name}, who is {size}, '\n",
    "          f'went to {victim}, who wanted a {order}.')"
   ]
  },
  {
   "cell_type": "code",
   "execution_count": 85,
   "id": "75a4d31a-c173-40d4-accf-5906a8a56fe6",
   "metadata": {},
   "outputs": [
    {
     "name": "stdout",
     "output_type": "stream",
     "text": [
      "Bobcat #1, Bob, who is smallish, went to John Smith, who wanted a gaming mouse.\n",
      "Bobcat #2, Kat, who is regular-sized, went to Joe Smith, who wanted a mechanical keyboard.\n",
      "Bobcat #3, Robert, who is big, went to Alice Smith, who wanted a box of oranges.\n",
      "Bobcat #4, Catherine, who is scarily large, went to J. Jonah Jameson, who wanted a gallon of ink.\n",
      "Bobcat #5, Boberto, who is truly huge, went to two fishmongers, who wanted a full-stack developer.\n",
      "Bobcat #6, Ekaterina, who is shrouded in mystery, went to Delaware legislators, who wanted a Westlaw subscription.\n",
      "Bobcat #7, Leo, who is actually a leopard, went to Bozo the Clown, who wanted a pallet of noses.\n"
     ]
    }
   ],
   "source": [
    "for index, (name, size, victim, order) in enumerate(zip(names, sizes, victims, orders), 1):\n",
    "    print(f'Bobcat #{index}, {name}, who is {size}, '\n",
    "          f'went to {victim}, who wanted a {order}.')"
   ]
  },
  {
   "cell_type": "code",
   "execution_count": 86,
   "id": "840f7da0-27cb-48b5-afcb-5899a742914d",
   "metadata": {},
   "outputs": [],
   "source": [
    "# All of the assignment we've done in this notebook so far has caused one or more names\n",
    "# to refer to some object. But assignment with = (that is, assignment statements) are\n",
    "# more versatile than that. Show an example of an an assignment statement that could be\n",
    "# useful in practice, but definitely does not cause any variable to come into existence\n",
    "# or to refer to a different object from what it referred to before.\n",
    "c = [3, 4, 5, 6, 7]\n",
    "c[2] = 10"
   ]
  },
  {
   "cell_type": "code",
   "execution_count": 87,
   "id": "d4db5e30-39ff-4807-aaa6-c89707ad36fb",
   "metadata": {},
   "outputs": [],
   "source": [
    "c[0:4] = [0, 1, 2, 3, 4]"
   ]
  },
  {
   "cell_type": "code",
   "execution_count": 88,
   "id": "e7847f5f-d87f-4ed3-ad0b-9c613a76f203",
   "metadata": {},
   "outputs": [
    {
     "data": {
      "text/plain": [
       "[0, 1, 2, 3, 4, 7]"
      ]
     },
     "execution_count": 88,
     "metadata": {},
     "output_type": "execute_result"
    }
   ],
   "source": [
    "c"
   ]
  },
  {
   "cell_type": "code",
   "execution_count": 89,
   "id": "8990446e-a334-4fbc-8bd4-6447fce603b7",
   "metadata": {},
   "outputs": [],
   "source": [
    "# Try assigning to a slice whose step is not 1.\n",
    "c[::2] = [-1, -1, -1]"
   ]
  },
  {
   "cell_type": "code",
   "execution_count": 90,
   "id": "4915b0bf-5ff0-4d82-9257-5976d84e8464",
   "metadata": {},
   "outputs": [
    {
     "data": {
      "text/plain": [
       "[-1, 1, -1, 3, -1, 7]"
      ]
     },
     "execution_count": 90,
     "metadata": {},
     "output_type": "execute_result"
    }
   ],
   "source": [
    "c"
   ]
  },
  {
   "cell_type": "code",
   "execution_count": 91,
   "id": "e67e4725-b34a-4786-86aa-8c2328a2248f",
   "metadata": {},
   "outputs": [],
   "source": [
    "# Try replacing *all* the elements of a list by assigning to a slice.\n",
    "c[:] = [0, 1, 2, 3, 4, 5]"
   ]
  },
  {
   "cell_type": "code",
   "execution_count": 92,
   "id": "0568b90b-8650-4263-8499-f590103c0646",
   "metadata": {},
   "outputs": [
    {
     "data": {
      "text/plain": [
       "[0, 1, 2, 3, 4, 5]"
      ]
     },
     "execution_count": 92,
     "metadata": {},
     "output_type": "execute_result"
    }
   ],
   "source": [
    "c"
   ]
  },
  {
   "cell_type": "code",
   "execution_count": 93,
   "id": "e93fd146-e436-4274-9c60-4131af3ca6b8",
   "metadata": {},
   "outputs": [
    {
     "data": {
      "text/plain": [
       "1889797072320"
      ]
     },
     "execution_count": 93,
     "metadata": {},
     "output_type": "execute_result"
    }
   ],
   "source": [
    "# Write code that demonstrates the difference between c[:] = ... and c = ...\n",
    "id(c)"
   ]
  },
  {
   "cell_type": "code",
   "execution_count": 94,
   "id": "80c576a6-c4f2-447f-8530-96ffb2f40283",
   "metadata": {},
   "outputs": [],
   "source": [
    "d = c"
   ]
  },
  {
   "cell_type": "code",
   "execution_count": 95,
   "id": "3c8f17d2-a6c1-4c09-8e49-868ca3ef7d1e",
   "metadata": {},
   "outputs": [],
   "source": [
    "c[:] = [5, 4, 3, 2, 1, 0]"
   ]
  },
  {
   "cell_type": "code",
   "execution_count": 96,
   "id": "03ad53f8-5638-490a-9556-c4d080a788fb",
   "metadata": {},
   "outputs": [
    {
     "data": {
      "text/plain": [
       "True"
      ]
     },
     "execution_count": 96,
     "metadata": {},
     "output_type": "execute_result"
    }
   ],
   "source": [
    "d is c"
   ]
  },
  {
   "cell_type": "code",
   "execution_count": 97,
   "id": "09bcbeea-0606-4d1d-9c19-0050baed665b",
   "metadata": {},
   "outputs": [],
   "source": [
    "c = [0, 1, 2, 3, 4, 5]"
   ]
  },
  {
   "cell_type": "code",
   "execution_count": 98,
   "id": "9b88308c-f144-4d16-9bdd-6202bd0c0614",
   "metadata": {},
   "outputs": [
    {
     "data": {
      "text/plain": [
       "False"
      ]
     },
     "execution_count": 98,
     "metadata": {},
     "output_type": "execute_result"
    }
   ],
   "source": [
    "d is c"
   ]
  },
  {
   "cell_type": "code",
   "execution_count": 99,
   "id": "f18786df-4948-44f0-8df5-50661d1c1a31",
   "metadata": {},
   "outputs": [
    {
     "data": {
      "text/plain": [
       "[5, 4, 3, 2, 1, 0]"
      ]
     },
     "execution_count": 99,
     "metadata": {},
     "output_type": "execute_result"
    }
   ],
   "source": [
    "# You can clear a list (remove all is elements) by assigning an empty\n",
    "# iterable to a slice of the whole thing. But a better way is to call\n",
    "# the clear method. Demonstrate both ways.\n",
    "d"
   ]
  },
  {
   "cell_type": "code",
   "execution_count": 100,
   "id": "8f169770-9760-49ff-9bdb-14260d1a1a29",
   "metadata": {},
   "outputs": [],
   "source": [
    "d.clear()"
   ]
  },
  {
   "cell_type": "code",
   "execution_count": 101,
   "id": "1281eb65-a027-46d7-b201-ec662eabc2ba",
   "metadata": {},
   "outputs": [
    {
     "data": {
      "text/plain": [
       "[]"
      ]
     },
     "execution_count": 101,
     "metadata": {},
     "output_type": "execute_result"
    }
   ],
   "source": [
    "d"
   ]
  },
  {
   "cell_type": "code",
   "execution_count": 102,
   "id": "ff09f492-57c3-42a3-9b72-8ee0bf46645b",
   "metadata": {},
   "outputs": [
    {
     "data": {
      "text/plain": [
       "[0, 1, 2, 3, 4, 5]"
      ]
     },
     "execution_count": 102,
     "metadata": {},
     "output_type": "execute_result"
    }
   ],
   "source": [
    "c"
   ]
  },
  {
   "cell_type": "code",
   "execution_count": 103,
   "id": "6fe4bcdc-6b4d-4c36-8088-62339a961fcf",
   "metadata": {},
   "outputs": [],
   "source": [
    "c[:] = ()"
   ]
  },
  {
   "cell_type": "code",
   "execution_count": 104,
   "id": "5f8f3b13-4615-4825-9105-ba60e537d49d",
   "metadata": {},
   "outputs": [
    {
     "data": {
      "text/plain": [
       "[]"
      ]
     },
     "execution_count": 104,
     "metadata": {},
     "output_type": "execute_result"
    }
   ],
   "source": [
    "c"
   ]
  },
  {
   "cell_type": "code",
   "execution_count": 105,
   "id": "09aadec0-2349-4745-a7ca-57777797f9f8",
   "metadata": {},
   "outputs": [],
   "source": [
    "# To reverse a list in place, you should call its reverse method. But\n",
    "# as an exercise, reverse a list by assigning to a slice of it. After\n",
    "# showing that this reversed it, use the reverse method to reverse it\n",
    "# back to the way it was before.\n",
    "a = [1, 2, 3, 4, 5, 6]"
   ]
  },
  {
   "cell_type": "code",
   "execution_count": 106,
   "id": "3b3f24bc-a078-4b4a-9aa9-1452bf2d0ed6",
   "metadata": {},
   "outputs": [],
   "source": [
    "a[:] = a[::-1]"
   ]
  },
  {
   "cell_type": "code",
   "execution_count": 107,
   "id": "2c6935b3-288f-4c43-b54a-07bfb35d7ec4",
   "metadata": {},
   "outputs": [
    {
     "data": {
      "text/plain": [
       "[6, 5, 4, 3, 2, 1]"
      ]
     },
     "execution_count": 107,
     "metadata": {},
     "output_type": "execute_result"
    }
   ],
   "source": [
    "a"
   ]
  },
  {
   "cell_type": "code",
   "execution_count": 108,
   "id": "b9b8a62e-a2de-4ad8-9a1f-b44c6c6027a8",
   "metadata": {},
   "outputs": [],
   "source": [
    "a.reverse()"
   ]
  },
  {
   "cell_type": "code",
   "execution_count": 109,
   "id": "331b43d3-4df9-4d7d-95ca-962084410cb2",
   "metadata": {},
   "outputs": [
    {
     "data": {
      "text/plain": [
       "[1, 2, 3, 4, 5, 6]"
      ]
     },
     "execution_count": 109,
     "metadata": {},
     "output_type": "execute_result"
    }
   ],
   "source": [
    "a"
   ]
  },
  {
   "cell_type": "code",
   "execution_count": 110,
   "id": "88ff7a87-0137-4754-86d7-9e8eb87c3f41",
   "metadata": {},
   "outputs": [],
   "source": [
    "# Now, reverse the list in place again by assigning to a slice of it,\n",
    "# but this time, make the right-hand side simply be a.\n",
    "a[::-1] = a"
   ]
  },
  {
   "cell_type": "code",
   "execution_count": 111,
   "id": "ca532ce9-2dcf-4f92-bbe0-5ea95465d8fe",
   "metadata": {},
   "outputs": [
    {
     "data": {
      "text/plain": [
       "[6, 5, 4, 3, 2, 1]"
      ]
     },
     "execution_count": 111,
     "metadata": {},
     "output_type": "execute_result"
    }
   ],
   "source": [
    "a"
   ]
  },
  {
   "cell_type": "code",
   "execution_count": 112,
   "id": "17b3841f-283b-4645-ba4e-6cd23d51cdf4",
   "metadata": {},
   "outputs": [],
   "source": [
    "# Now, reverse it back by assigning to a slice of it, but on the left-hand\n",
    "# side, don't use a negative step, and on the right-hand side, still don't\n",
    "# use any slicing (and make sure the code would work for any list a).\n",
    "a[:] = reversed(a)"
   ]
  },
  {
   "cell_type": "code",
   "execution_count": 113,
   "id": "ca97f056-a034-4527-b7a0-0ba5de6e4e55",
   "metadata": {},
   "outputs": [
    {
     "data": {
      "text/plain": [
       "[1, 2, 3, 4, 5, 6]"
      ]
     },
     "execution_count": 113,
     "metadata": {},
     "output_type": "execute_result"
    }
   ],
   "source": [
    "a"
   ]
  },
  {
   "cell_type": "code",
   "execution_count": 114,
   "id": "5acf3f1d-214c-42c0-aa4f-019528525925",
   "metadata": {
    "tags": [
     "raises-exception"
    ]
   },
   "outputs": [
    {
     "ename": "ValueError",
     "evalue": "attempt to assign sequence of size 5 to extended slice of size 3",
     "output_type": "error",
     "traceback": [
      "\u001b[1;31m---------------------------------------------------------------------------\u001b[0m",
      "\u001b[1;31mValueError\u001b[0m                                Traceback (most recent call last)",
      "Cell \u001b[1;32mIn[114], line 6\u001b[0m\n\u001b[0;32m      1\u001b[0m \u001b[38;5;66;03m# You can assign a different number of elements to a slice than the length\u001b[39;00m\n\u001b[0;32m      2\u001b[0m \u001b[38;5;66;03m# of the slice, and you can assign the same number of elements to a slice\u001b[39;00m\n\u001b[0;32m      3\u001b[0m \u001b[38;5;66;03m# whose step is not 1 as the length of that slice. What happens when you\u001b[39;00m\n\u001b[0;32m      4\u001b[0m \u001b[38;5;66;03m# try to assign a different number of elements to a slice whose step is not\u001b[39;00m\n\u001b[0;32m      5\u001b[0m \u001b[38;5;66;03m# 1 than the length of that slice?\u001b[39;00m\n\u001b[1;32m----> 6\u001b[0m \u001b[43ma\u001b[49m\u001b[43m[\u001b[49m\u001b[38;5;241;43m0\u001b[39;49m\u001b[43m:\u001b[49m\u001b[38;5;241;43m100\u001b[39;49m\u001b[43m:\u001b[49m\u001b[38;5;241;43m2\u001b[39;49m\u001b[43m]\u001b[49m \u001b[38;5;241m=\u001b[39m [\u001b[38;5;241m10\u001b[39m, \u001b[38;5;241m10\u001b[39m, \u001b[38;5;241m10\u001b[39m, \u001b[38;5;241m10\u001b[39m, \u001b[38;5;241m10\u001b[39m]\n",
      "\u001b[1;31mValueError\u001b[0m: attempt to assign sequence of size 5 to extended slice of size 3"
     ]
    }
   ],
   "source": [
    "# You can assign a different number of elements to a slice than the length\n",
    "# of the slice, and you can assign the same number of elements to a slice\n",
    "# whose step is not 1 as the length of that slice. What happens when you\n",
    "# try to assign a different number of elements to a slice whose step is not\n",
    "# 1 than the length of that slice?\n",
    "a[0:100:2] = [10, 10, 10, 10, 10]"
   ]
  },
  {
   "cell_type": "code",
   "execution_count": 115,
   "id": "e70e73e6-a4d0-4312-a7d4-2373a304908b",
   "metadata": {
    "tags": [
     "raises-exception"
    ]
   },
   "outputs": [
    {
     "ename": "ValueError",
     "evalue": "attempt to assign sequence of size 2 to extended slice of size 3",
     "output_type": "error",
     "traceback": [
      "\u001b[1;31m---------------------------------------------------------------------------\u001b[0m",
      "\u001b[1;31mValueError\u001b[0m                                Traceback (most recent call last)",
      "Cell \u001b[1;32mIn[115], line 1\u001b[0m\n\u001b[1;32m----> 1\u001b[0m \u001b[43ma\u001b[49m\u001b[43m[\u001b[49m\u001b[38;5;241;43m0\u001b[39;49m\u001b[43m:\u001b[49m\u001b[38;5;241;43m10\u001b[39;49m\u001b[43m:\u001b[49m\u001b[38;5;241;43m2\u001b[39;49m\u001b[43m]\u001b[49m \u001b[38;5;241m=\u001b[39m [\u001b[38;5;241m10\u001b[39m, \u001b[38;5;241m10\u001b[39m]\n",
      "\u001b[1;31mValueError\u001b[0m: attempt to assign sequence of size 2 to extended slice of size 3"
     ]
    }
   ],
   "source": [
    "a[0:10:2] = [10, 10]"
   ]
  },
  {
   "cell_type": "code",
   "execution_count": 116,
   "id": "a60ad756-fa7f-4b04-b5d7-cd83cecf6f31",
   "metadata": {},
   "outputs": [
    {
     "data": {
      "text/plain": [
       "[1, 2, 3, 4, 5, 6]"
      ]
     },
     "execution_count": 116,
     "metadata": {},
     "output_type": "execute_result"
    }
   ],
   "source": [
    "a"
   ]
  },
  {
   "cell_type": "code",
   "execution_count": 117,
   "id": "e1137a33-45d4-408d-b7c6-13979f39f1a5",
   "metadata": {},
   "outputs": [
    {
     "data": {
      "text/plain": [
       "6"
      ]
     },
     "execution_count": 117,
     "metadata": {},
     "output_type": "execute_result"
    }
   ],
   "source": [
    "len(a)"
   ]
  },
  {
   "cell_type": "code",
   "execution_count": 118,
   "id": "4e9cfebf-5772-46e1-a12c-662a870671f4",
   "metadata": {},
   "outputs": [
    {
     "data": {
      "text/plain": [
       "[]"
      ]
     },
     "execution_count": 118,
     "metadata": {},
     "output_type": "execute_result"
    }
   ],
   "source": [
    "a[1000:]  # This slice is empty. (Empty sublist at the end.)"
   ]
  },
  {
   "cell_type": "code",
   "execution_count": 119,
   "id": "8050dce3-2fa0-4800-a465-1a11739eec17",
   "metadata": {},
   "outputs": [],
   "source": [
    "a[1000:] = [10, 20]"
   ]
  },
  {
   "cell_type": "code",
   "execution_count": 120,
   "id": "3db46978-af16-4fc3-8aff-e0c4fa9b27f3",
   "metadata": {},
   "outputs": [
    {
     "data": {
      "text/plain": [
       "[1, 2, 3, 4, 5, 6, 10, 20]"
      ]
     },
     "execution_count": 120,
     "metadata": {},
     "output_type": "execute_result"
    }
   ],
   "source": [
    "a"
   ]
  },
  {
   "cell_type": "code",
   "execution_count": 121,
   "id": "644abb00-8e20-4132-8606-879039f84e87",
   "metadata": {},
   "outputs": [],
   "source": [
    "# So the question is, when you use += on a sequence, what does it do?\n",
    "# Does it assign something new to a variable? Does it modify the object?"
   ]
  },
  {
   "cell_type": "code",
   "execution_count": 122,
   "id": "1d9b9543-da59-4431-9b2e-245e9c6ede3b",
   "metadata": {},
   "outputs": [],
   "source": [
    "t2 = t1 = (0, 1, 2)"
   ]
  },
  {
   "cell_type": "code",
   "execution_count": 123,
   "id": "8cdc7603-dd54-4c18-b587-aeb91abdf599",
   "metadata": {},
   "outputs": [],
   "source": [
    "t1 += (3,)"
   ]
  },
  {
   "cell_type": "code",
   "execution_count": 124,
   "id": "a441d32f-124a-4208-ac95-ce4cf0b38bf6",
   "metadata": {},
   "outputs": [
    {
     "data": {
      "text/plain": [
       "False"
      ]
     },
     "execution_count": 124,
     "metadata": {},
     "output_type": "execute_result"
    }
   ],
   "source": [
    "t2 is t1"
   ]
  },
  {
   "cell_type": "code",
   "execution_count": 125,
   "id": "230a3bf7-4e21-4d16-b18f-d88c82a31709",
   "metadata": {},
   "outputs": [
    {
     "data": {
      "text/plain": [
       "(0, 1, 2, 3)"
      ]
     },
     "execution_count": 125,
     "metadata": {},
     "output_type": "execute_result"
    }
   ],
   "source": [
    "t1"
   ]
  },
  {
   "cell_type": "code",
   "execution_count": 126,
   "id": "d26d4109-a101-46a4-8a25-71392b9687e7",
   "metadata": {},
   "outputs": [
    {
     "data": {
      "text/plain": [
       "(0, 1, 2)"
      ]
     },
     "execution_count": 126,
     "metadata": {},
     "output_type": "execute_result"
    }
   ],
   "source": [
    "t2"
   ]
  },
  {
   "cell_type": "code",
   "execution_count": 127,
   "id": "1b888e10-f2fb-4ad7-89dc-dc7fa0d5c60c",
   "metadata": {},
   "outputs": [],
   "source": [
    "l2 = l1 = [0, 1, 2, 3, 4]"
   ]
  },
  {
   "cell_type": "code",
   "execution_count": 128,
   "id": "1d23f66c-144d-46fd-bd76-6231309309cc",
   "metadata": {},
   "outputs": [],
   "source": [
    "l1 += [5]"
   ]
  },
  {
   "cell_type": "code",
   "execution_count": 129,
   "id": "77fcd924-41c3-4bb8-a021-d4852cc94d00",
   "metadata": {},
   "outputs": [],
   "source": [
    "# l1.extend([5])\n",
    "# l1 = l1"
   ]
  },
  {
   "cell_type": "code",
   "execution_count": 130,
   "id": "519139de-cfe7-4e4e-bd82-573f48f72fb5",
   "metadata": {},
   "outputs": [
    {
     "data": {
      "text/plain": [
       "[0, 1, 2, 3, 4, 5]"
      ]
     },
     "execution_count": 130,
     "metadata": {},
     "output_type": "execute_result"
    }
   ],
   "source": [
    "l1"
   ]
  },
  {
   "cell_type": "code",
   "execution_count": 131,
   "id": "b09fec36-d0df-4fd7-93d6-72536069e6fb",
   "metadata": {},
   "outputs": [
    {
     "data": {
      "text/plain": [
       "True"
      ]
     },
     "execution_count": 131,
     "metadata": {},
     "output_type": "execute_result"
    }
   ],
   "source": [
    "l2 is l1"
   ]
  },
  {
   "cell_type": "code",
   "execution_count": 132,
   "id": "3c24fbc8-b296-4822-8895-d553ef1518e6",
   "metadata": {},
   "outputs": [
    {
     "data": {
      "text/plain": [
       "[0, 1, 2, 3, 4, 5]"
      ]
     },
     "execution_count": 132,
     "metadata": {},
     "output_type": "execute_result"
    }
   ],
   "source": [
    "l2"
   ]
  },
  {
   "cell_type": "code",
   "execution_count": 133,
   "id": "3fa58698-615b-4077-add4-cd63b62752b8",
   "metadata": {},
   "outputs": [],
   "source": [
    "# Try using += on a tuple that is an element of a list."
   ]
  },
  {
   "cell_type": "code",
   "execution_count": 134,
   "id": "333dd110-37dd-4d3d-8b70-452fcfc8a863",
   "metadata": {},
   "outputs": [],
   "source": [
    "lt = [(0, 1, 2), (3, 2, 1), (1, 2, 3)]"
   ]
  },
  {
   "cell_type": "code",
   "execution_count": 135,
   "id": "b9820df5-2fa3-40b0-8155-1eb2e82ed5fc",
   "metadata": {},
   "outputs": [],
   "source": [
    "lt[1] += (0,)"
   ]
  },
  {
   "cell_type": "code",
   "execution_count": 136,
   "id": "e88e9ac7-ce64-411b-9e01-7ea82924b7d1",
   "metadata": {},
   "outputs": [
    {
     "data": {
      "text/plain": [
       "[(0, 1, 2), (3, 2, 1, 0), (1, 2, 3)]"
      ]
     },
     "execution_count": 136,
     "metadata": {},
     "output_type": "execute_result"
    }
   ],
   "source": [
    "lt"
   ]
  },
  {
   "cell_type": "code",
   "execution_count": 137,
   "id": "f58630ce-9b62-4934-9784-1fc594e14045",
   "metadata": {},
   "outputs": [],
   "source": [
    "# Try using += on a list that is an element of a list.\n",
    "ll = [[0, 1, 2], [2, 1], [1, 2, 3]]"
   ]
  },
  {
   "cell_type": "code",
   "execution_count": 138,
   "id": "61774d38-a908-46b0-b134-e5db5f519e84",
   "metadata": {},
   "outputs": [],
   "source": [
    "ll[1] += [0]"
   ]
  },
  {
   "cell_type": "code",
   "execution_count": 139,
   "id": "fb96071a-d0c6-4815-9972-85de63d62221",
   "metadata": {},
   "outputs": [
    {
     "data": {
      "text/plain": [
       "[[0, 1, 2], [2, 1, 0], [1, 2, 3]]"
      ]
     },
     "execution_count": 139,
     "metadata": {},
     "output_type": "execute_result"
    }
   ],
   "source": [
    "ll"
   ]
  },
  {
   "cell_type": "code",
   "execution_count": 140,
   "id": "fe4b9d32-82b6-4389-a52c-e6179cc35974",
   "metadata": {},
   "outputs": [],
   "source": [
    "# Try using += on a tuple that is an element of a tuple.\n",
    "tt = ((0, 1, 2), (2, 1),(1, 2, 3))"
   ]
  },
  {
   "cell_type": "code",
   "execution_count": 141,
   "id": "0a2dc651-6417-407e-a1ae-968431381489",
   "metadata": {
    "tags": [
     "raises-exception"
    ]
   },
   "outputs": [
    {
     "ename": "TypeError",
     "evalue": "'tuple' object does not support item assignment",
     "output_type": "error",
     "traceback": [
      "\u001b[1;31m---------------------------------------------------------------------------\u001b[0m",
      "\u001b[1;31mTypeError\u001b[0m                                 Traceback (most recent call last)",
      "Cell \u001b[1;32mIn[141], line 1\u001b[0m\n\u001b[1;32m----> 1\u001b[0m \u001b[43mtt\u001b[49m\u001b[43m[\u001b[49m\u001b[38;5;241;43m1\u001b[39;49m\u001b[43m]\u001b[49m \u001b[38;5;241m+\u001b[39m\u001b[38;5;241m=\u001b[39m (\u001b[38;5;241m0\u001b[39m,)\n",
      "\u001b[1;31mTypeError\u001b[0m: 'tuple' object does not support item assignment"
     ]
    }
   ],
   "source": [
    "tt[1] += (0,)"
   ]
  },
  {
   "cell_type": "code",
   "execution_count": 142,
   "id": "05e6e5f0-ea9e-4a9d-b2ad-d1763aff7a58",
   "metadata": {},
   "outputs": [],
   "source": [
    "vals = ([10, 20],)"
   ]
  },
  {
   "cell_type": "code",
   "execution_count": 143,
   "id": "5e0ad194-865f-4f78-a3d1-561f2966855f",
   "metadata": {},
   "outputs": [
    {
     "data": {
      "text/plain": [
       "([10, 20],)"
      ]
     },
     "execution_count": 143,
     "metadata": {},
     "output_type": "execute_result"
    }
   ],
   "source": [
    "vals"
   ]
  },
  {
   "cell_type": "code",
   "execution_count": 144,
   "id": "7ec5ae6b-e390-4cee-9405-1b0d8aedf87d",
   "metadata": {},
   "outputs": [],
   "source": [
    "vals[0].append(30)"
   ]
  },
  {
   "cell_type": "code",
   "execution_count": 145,
   "id": "9930784e-e9f9-4dc3-bce0-6add67a4881a",
   "metadata": {},
   "outputs": [
    {
     "data": {
      "text/plain": [
       "([10, 20, 30],)"
      ]
     },
     "execution_count": 145,
     "metadata": {},
     "output_type": "execute_result"
    }
   ],
   "source": [
    "vals"
   ]
  },
  {
   "cell_type": "code",
   "execution_count": 146,
   "id": "ae0f414d-1c95-4a30-8b3c-70bb7744dfa1",
   "metadata": {},
   "outputs": [],
   "source": [
    "# Try using += on a list that is an element of a tuple.\n",
    "tl = ([0, 1, 2], [2, 1], [1, 2, 3])"
   ]
  },
  {
   "cell_type": "code",
   "execution_count": 147,
   "id": "611f4311-f075-4b2e-87ea-af415d344cb4",
   "metadata": {
    "tags": [
     "raises-exception"
    ]
   },
   "outputs": [
    {
     "ename": "TypeError",
     "evalue": "'tuple' object does not support item assignment",
     "output_type": "error",
     "traceback": [
      "\u001b[1;31m---------------------------------------------------------------------------\u001b[0m",
      "\u001b[1;31mTypeError\u001b[0m                                 Traceback (most recent call last)",
      "Cell \u001b[1;32mIn[147], line 1\u001b[0m\n\u001b[1;32m----> 1\u001b[0m \u001b[43mtl\u001b[49m\u001b[43m[\u001b[49m\u001b[38;5;241;43m1\u001b[39;49m\u001b[43m]\u001b[49m \u001b[38;5;241m+\u001b[39m\u001b[38;5;241m=\u001b[39m [\u001b[38;5;241m0\u001b[39m]\n",
      "\u001b[1;31mTypeError\u001b[0m: 'tuple' object does not support item assignment"
     ]
    }
   ],
   "source": [
    "tl[1] += [0]"
   ]
  },
  {
   "cell_type": "code",
   "execution_count": 148,
   "id": "b25e9fd8-ff7c-49e9-8044-a166c03fd3a6",
   "metadata": {},
   "outputs": [
    {
     "data": {
      "text/plain": [
       "([0, 1, 2], [2, 1, 0], [1, 2, 3])"
      ]
     },
     "execution_count": 148,
     "metadata": {},
     "output_type": "execute_result"
    }
   ],
   "source": [
    "tl"
   ]
  },
  {
   "cell_type": "code",
   "execution_count": 149,
   "id": "6cfc2b48-e6a7-4c3c-a727-30e88b08d09b",
   "metadata": {},
   "outputs": [],
   "source": [
    "# I recommend that, where applicable, you prefer extend to +="
   ]
  },
  {
   "cell_type": "code",
   "execution_count": 150,
   "id": "af45dd2e-0d7a-4618-92d0-102da9f75470",
   "metadata": {},
   "outputs": [
    {
     "data": {
      "text/plain": [
       "(10, 20, 30, 40, 50, 60, 70, 80, 90, 100, 110, 120, 130)"
      ]
     },
     "execution_count": 150,
     "metadata": {},
     "output_type": "execute_result"
    }
   ],
   "source": [
    "# Note that, even on immutable sequences, += is misleading, in that it is not efficient.\n",
    "#\n",
    "# You should not use += on immutable sequences (e.g., tuples, strings) very often,\n",
    "# because of all the copying it does. In particular, you should almost always avoid\n",
    "# doing this in a loop (unless the maximum number of iterations is small).\n",
    "a = (10, 20, 30, 40, 50, 60, 70)\n",
    "a += (80, 90)  # Copies 7 elements from the old a.\n",
    "a += (100, 110)  # Copies 9 elements from the old a.\n",
    "a += (120, 130)  # Copies 11 elements from the old a.\n",
    "a"
   ]
  },
  {
   "cell_type": "code",
   "execution_count": 151,
   "id": "f90885c2-022b-4582-b2c2-0d4ab63b01ed",
   "metadata": {},
   "outputs": [
    {
     "data": {
      "text/plain": [
       "(10, 20, 30, 40, 50, 60, 70, 80, 90, 100, 110, 120, 130)"
      ]
     },
     "execution_count": 151,
     "metadata": {},
     "output_type": "execute_result"
    }
   ],
   "source": [
    "# This performed the same operations as:\n",
    "a = (10, 20, 30, 40, 50, 60, 70)\n",
    "a = a + (80, 90)\n",
    "a = a + (100, 110)\n",
    "a = a + (120, 130)\n",
    "a"
   ]
  },
  {
   "cell_type": "code",
   "execution_count": 152,
   "id": "acc4ceb6-6ec9-40e4-aa56-6ccba4802527",
   "metadata": {},
   "outputs": [
    {
     "data": {
      "text/plain": [
       "[10, 20, 30, 40, 50, 60, 70, 80, 90, 100, 110, 120, 130]"
      ]
     },
     "execution_count": 152,
     "metadata": {},
     "output_type": "execute_result"
    }
   ],
   "source": [
    "# With lists, this is efficient, but you can express it more clearly with extend.\n",
    "b = [10, 20, 30, 40, 50, 60, 70]\n",
    "b += [80, 90]\n",
    "b += [100, 110]\n",
    "b += [120, 130]\n",
    "b"
   ]
  },
  {
   "cell_type": "code",
   "execution_count": 153,
   "id": "bdfe010b-00ef-40ff-9a2f-5c419bf109be",
   "metadata": {},
   "outputs": [
    {
     "data": {
      "text/plain": [
       "[10, 20, 30, 40, 50, 60, 70, 80, 90, 100, 110, 120, 130]"
      ]
     },
     "execution_count": 153,
     "metadata": {},
     "output_type": "execute_result"
    }
   ],
   "source": [
    "# That was more efficient than, and *not* the same as:\n",
    "b = [10, 20, 30, 40, 50, 60, 70]\n",
    "b = b + [80, 90]\n",
    "b = b + [100, 110]\n",
    "b = b + [120, 130]\n",
    "b"
   ]
  },
  {
   "cell_type": "code",
   "execution_count": 154,
   "id": "96e076a7-01e3-4f37-8854-7a3621332e86",
   "metadata": {},
   "outputs": [
    {
     "data": {
      "text/plain": [
       "[10, 20, 30, 40, 50, 60, 70, 80, 90, 100, 110, 120, 130]"
      ]
     },
     "execution_count": 154,
     "metadata": {},
     "output_type": "execute_result"
    }
   ],
   "source": [
    "# Because that (above) actually made copies each time, whereas with +=, it has\n",
    "# the same effect as:\n",
    "b = [10, 20, 30, 40, 50, 60, 70]\n",
    "b.extend([80, 90])\n",
    "b.extend([100, 110])\n",
    "b.extend([120, 130])\n",
    "b"
   ]
  },
  {
   "cell_type": "code",
   "execution_count": 155,
   "id": "31bc335e-6e18-426e-9e0c-38ed02fb5394",
   "metadata": {},
   "outputs": [],
   "source": [
    "# But using extend has the benefit of making clear exactly what operation is\n",
    "# being performed. Furthermore, using extend avoids the problem where it looks\n",
    "# like no change was made because an exception is raised after the change is\n",
    "# made, as happens when the list being extended as a member of a tuple."
   ]
  },
  {
   "cell_type": "code",
   "execution_count": 156,
   "id": "6715c05a-cd66-43e0-840b-b73161c3ea4d",
   "metadata": {},
   "outputs": [
    {
     "data": {
      "text/plain": [
       "([], [], [], [], [], [], [], [], [], [])"
      ]
     },
     "execution_count": 156,
     "metadata": {},
     "output_type": "execute_result"
    }
   ],
   "source": [
    "# Suppose we have a jagged table, but we know how many rows it will have, and\n",
    "# we don't ever want to add or remove rows, or reorder the rows, or replace\n",
    "# a row with an new list:\n",
    "table = tuple([] for _ in range(10))\n",
    "table"
   ]
  },
  {
   "cell_type": "code",
   "execution_count": 157,
   "id": "507e9fe2-36c1-4e7d-8042-11be6b073c62",
   "metadata": {},
   "outputs": [
    {
     "data": {
      "text/plain": [
       "([], [], [], ['foo'], [], [], [], [], [], [])"
      ]
     },
     "execution_count": 157,
     "metadata": {},
     "output_type": "execute_result"
    }
   ],
   "source": [
    "table[3].append('foo')\n",
    "table"
   ]
  },
  {
   "cell_type": "code",
   "execution_count": 158,
   "id": "58750793-53f2-4864-8435-6374452bb9ad",
   "metadata": {
    "tags": [
     "raises-exception"
    ]
   },
   "outputs": [
    {
     "ename": "TypeError",
     "evalue": "'tuple' object does not support item assignment",
     "output_type": "error",
     "traceback": [
      "\u001b[1;31m---------------------------------------------------------------------------\u001b[0m",
      "\u001b[1;31mTypeError\u001b[0m                                 Traceback (most recent call last)",
      "Cell \u001b[1;32mIn[158], line 2\u001b[0m\n\u001b[0;32m      1\u001b[0m \u001b[38;5;66;03m# This raises an exception, but the row is still extended!\u001b[39;00m\n\u001b[1;32m----> 2\u001b[0m \u001b[43mtable\u001b[49m\u001b[43m[\u001b[49m\u001b[38;5;241;43m3\u001b[39;49m\u001b[43m]\u001b[49m \u001b[38;5;241m+\u001b[39m\u001b[38;5;241m=\u001b[39m [\u001b[38;5;124m'\u001b[39m\u001b[38;5;124mbar\u001b[39m\u001b[38;5;124m'\u001b[39m, \u001b[38;5;124m'\u001b[39m\u001b[38;5;124mbaz\u001b[39m\u001b[38;5;124m'\u001b[39m]\n\u001b[0;32m      3\u001b[0m table\n",
      "\u001b[1;31mTypeError\u001b[0m: 'tuple' object does not support item assignment"
     ]
    }
   ],
   "source": [
    "# This raises an exception, but the row is still extended!\n",
    "table[3] += ['bar', 'baz']\n",
    "table"
   ]
  },
  {
   "cell_type": "code",
   "execution_count": 159,
   "id": "5dfef708-0b62-4052-a6a2-d5e79c4ec2bc",
   "metadata": {},
   "outputs": [
    {
     "data": {
      "text/plain": [
       "([], [], [], ['foo', 'bar', 'baz'], [], [], [], [], [], [])"
      ]
     },
     "execution_count": 159,
     "metadata": {},
     "output_type": "execute_result"
    }
   ],
   "source": [
    "table"
   ]
  },
  {
   "cell_type": "code",
   "execution_count": 160,
   "id": "dc9dd4c6-32b2-4774-9c11-6653551a466e",
   "metadata": {},
   "outputs": [
    {
     "data": {
      "text/plain": [
       "([], [], [], ['foo', 'bar', 'baz'], [], ['ham'], [], [], [], [])"
      ]
     },
     "execution_count": 160,
     "metadata": {},
     "output_type": "execute_result"
    }
   ],
   "source": [
    "# Using the extend method performs the same operation, but fully succeeds\n",
    "# (no misleading exception is raised).\n",
    "table[5].append('ham')\n",
    "table"
   ]
  },
  {
   "cell_type": "code",
   "execution_count": 161,
   "id": "c3967f0c-7b5a-42c8-bb4a-bb5cafb81dd7",
   "metadata": {},
   "outputs": [
    {
     "data": {
      "text/plain": [
       "([],\n",
       " [],\n",
       " [],\n",
       " ['foo', 'bar', 'baz'],\n",
       " [],\n",
       " ['ham', 'spam', 'eggs'],\n",
       " [],\n",
       " [],\n",
       " [],\n",
       " [])"
      ]
     },
     "execution_count": 161,
     "metadata": {},
     "output_type": "execute_result"
    }
   ],
   "source": [
    "table[5].extend(['spam', 'eggs'])\n",
    "table"
   ]
  },
  {
   "cell_type": "code",
   "execution_count": 162,
   "id": "da650c7c-5816-4b49-bf8e-c4762dacabb8",
   "metadata": {},
   "outputs": [],
   "source": [
    "# Suppose we have a list of ints somewhere.\n",
    "_implementation_detail = [10, 20, 30, 40, 50, 60, 70]\n",
    "\n",
    "# We may change how we store it. So we access it with a function.\n",
    "def f():\n",
    "    print('Loading up our list of ints.')\n",
    "    return _implementation_detail"
   ]
  },
  {
   "cell_type": "code",
   "execution_count": 163,
   "id": "df418073-2f7e-4482-ad65-8458774f78d3",
   "metadata": {},
   "outputs": [
    {
     "name": "stdout",
     "output_type": "stream",
     "text": [
      "Loading up our list of ints.\n"
     ]
    }
   ],
   "source": [
    "# Consider the difference between two ways of increasing an element of the list.\n",
    "# Here, I use +=, causing (sub)expressions on the left side to be evaluated just once.\n",
    "f()[3] += 1"
   ]
  },
  {
   "cell_type": "code",
   "execution_count": 164,
   "id": "f066f8f1-efaf-45a8-b057-adbfbce9ba7e",
   "metadata": {},
   "outputs": [
    {
     "data": {
      "text/plain": [
       "[10, 20, 30, 41, 50, 60, 70]"
      ]
     },
     "execution_count": 164,
     "metadata": {},
     "output_type": "execute_result"
    }
   ],
   "source": [
    "_implementation_detail"
   ]
  },
  {
   "cell_type": "code",
   "execution_count": 165,
   "id": "e521d70f-4da8-4bb8-8555-27c30e51f822",
   "metadata": {},
   "outputs": [
    {
     "name": "stdout",
     "output_type": "stream",
     "text": [
      "Loading up our list of ints.\n",
      "Loading up our list of ints.\n"
     ]
    }
   ],
   "source": [
    "# In contrast, here I use +, causing (sub)expressions on the left side to be evaluated twice.\n",
    "f()[3] = f()[3] + 1"
   ]
  },
  {
   "cell_type": "code",
   "execution_count": 166,
   "id": "fd25dc4b-8d41-4529-b273-090127bc8719",
   "metadata": {},
   "outputs": [
    {
     "data": {
      "text/plain": [
       "[10, 20, 30, 42, 50, 60, 70]"
      ]
     },
     "execution_count": 166,
     "metadata": {},
     "output_type": "execute_result"
    }
   ],
   "source": [
    "_implementation_detail"
   ]
  },
  {
   "cell_type": "code",
   "execution_count": 167,
   "id": "03a8bd5d-666c-4230-bf3f-044e79b5092b",
   "metadata": {},
   "outputs": [],
   "source": [
    "# That is the usual, expected difference in meaning between using += and\n",
    "# using = and + separately. The key point is that this performance difference\n",
    "# is **completely unrelated** to the performance difference between using +=\n",
    "# and using = and + separately, on mutable sequences, such as lists."
   ]
  },
  {
   "cell_type": "markdown",
   "id": "cc0f8143-194d-4e75-a281-7e7e63785a3b",
   "metadata": {},
   "source": [
    "When an assignment statement assigns the same object to multiple targets, what order are the\n",
    "assignments done in?\n",
    "\n",
    "For example, does the following statement assign\n",
    "\n",
    "- to `p`, then `q`, then `r`, then `s`?\n",
    "- to `s`, then `r`, then `q`, then `p`?\n",
    "- in some other order?"
   ]
  },
  {
   "cell_type": "code",
   "execution_count": 168,
   "id": "66d6e4ff-f2e4-42ad-8ed7-06f687e858d1",
   "metadata": {},
   "outputs": [],
   "source": [
    "p = q = r = s = 42"
   ]
  },
  {
   "cell_type": "markdown",
   "id": "333b2d3b-60d0-4b5a-8f19-cf55edbcd770",
   "metadata": {},
   "source": [
    "To find out, and to demonstrate this behavior, write at least three separate fragments of code, each of whose behavior depends on the order in which such assignments are performed. Each fragment of code should take advantage of a different language or standard library feature, or at least a different combination of features; that is, each should give some further insight into how *something* works in Python, even if one has already read the others.\n",
    "\n",
    "Assignment pretty much always has side effects (that's the point), but how can you achieve *different* side effects depending on the order in which assignments are done?\n",
    "\n",
    "All the ways you do it should preferably be clear and easy to reason about. Do it in at least two ways that involve making a class, and in at least one way that does not.\n",
    "\n",
    "Although the order is guaranteed, code that relies on it may be confusing, unclear in its intent, and even bug-prone. When might it be reasonable to write code that deliberately relies on this order? Other than for demonstration purposes (or as an exercise), is this ever reasonable?\n",
    "\n",
    "Note: The code in the cell above is just an example of a single assignment statement that is guaranteed to assign the same object to multiple targets. In particular, I wanted to make clear that I am talking about the `p = q = r = s = ...` form of assignment, and not the `p, q, r, s = ...` form. You do not need to demonstrate the order with that specific assignment statement (and I somewhat recommend against that). But this is about the form of assignment that assigns to multiple targets using multiple `=` signs, so whatever assignment statements you do write in your demonstration code should take that form, with at least two `=` signs."
   ]
  },
  {
   "cell_type": "code",
   "execution_count": 169,
   "id": "47b9280c-b801-449a-8562-54f383d5f83a",
   "metadata": {
    "tags": [
     "raises-exception"
    ]
   },
   "outputs": [
    {
     "ename": "IndexError",
     "evalue": "list assignment index out of range",
     "output_type": "error",
     "traceback": [
      "\u001b[1;31m---------------------------------------------------------------------------\u001b[0m",
      "\u001b[1;31mIndexError\u001b[0m                                Traceback (most recent call last)",
      "Cell \u001b[1;32mIn[169], line 2\u001b[0m\n\u001b[0;32m      1\u001b[0m k \u001b[38;5;241m=\u001b[39m [\u001b[38;5;241m0\u001b[39m, \u001b[38;5;241m1\u001b[39m, \u001b[38;5;241m2\u001b[39m, \u001b[38;5;241m3\u001b[39m, \u001b[38;5;241m4\u001b[39m]\n\u001b[1;32m----> 2\u001b[0m k[\u001b[38;5;241m0\u001b[39m] \u001b[38;5;241m=\u001b[39m k[\u001b[38;5;241m1\u001b[39m] \u001b[38;5;241m=\u001b[39m k[\u001b[38;5;241m2\u001b[39m] \u001b[38;5;241m=\u001b[39m k[\u001b[38;5;241m3\u001b[39m] \u001b[38;5;241m=\u001b[39m k[\u001b[38;5;241m4\u001b[39m] \u001b[38;5;241m=\u001b[39m \u001b[43mk\u001b[49m\u001b[43m[\u001b[49m\u001b[38;5;241;43m5\u001b[39;49m\u001b[43m]\u001b[49m \u001b[38;5;241m=\u001b[39m \u001b[38;5;124m'\u001b[39m\u001b[38;5;124ma\u001b[39m\u001b[38;5;124m'\u001b[39m\n",
      "\u001b[1;31mIndexError\u001b[0m: list assignment index out of range"
     ]
    }
   ],
   "source": [
    "k = [0, 1, 2, 3, 4]\n",
    "k[0] = k[1] = k[2] = k[3] = k[4] = k[5] = 'a'"
   ]
  },
  {
   "cell_type": "code",
   "execution_count": 170,
   "id": "f3b287e8-b353-4dc8-99c2-f0875f1eeb36",
   "metadata": {},
   "outputs": [
    {
     "data": {
      "text/plain": [
       "['a', 'a', 'a', 'a', 'a']"
      ]
     },
     "execution_count": 170,
     "metadata": {},
     "output_type": "execute_result"
    }
   ],
   "source": [
    "k"
   ]
  },
  {
   "cell_type": "code",
   "execution_count": 171,
   "id": "e892631e-9597-42ee-87e9-33ad423ac877",
   "metadata": {
    "tags": [
     "raises-exception"
    ]
   },
   "outputs": [
    {
     "ename": "IndexError",
     "evalue": "list assignment index out of range",
     "output_type": "error",
     "traceback": [
      "\u001b[1;31m---------------------------------------------------------------------------\u001b[0m",
      "\u001b[1;31mIndexError\u001b[0m                                Traceback (most recent call last)",
      "Cell \u001b[1;32mIn[171], line 2\u001b[0m\n\u001b[0;32m      1\u001b[0m g \u001b[38;5;241m=\u001b[39m [\u001b[38;5;241m0\u001b[39m, \u001b[38;5;241m1\u001b[39m, \u001b[38;5;241m2\u001b[39m, \u001b[38;5;241m3\u001b[39m, \u001b[38;5;241m4\u001b[39m]\n\u001b[1;32m----> 2\u001b[0m \u001b[43mg\u001b[49m\u001b[43m[\u001b[49m\u001b[38;5;241;43m5\u001b[39;49m\u001b[43m]\u001b[49m \u001b[38;5;241m=\u001b[39m g[\u001b[38;5;241m4\u001b[39m] \u001b[38;5;241m=\u001b[39m g[\u001b[38;5;241m3\u001b[39m] \u001b[38;5;241m=\u001b[39m g[\u001b[38;5;241m2\u001b[39m] \u001b[38;5;241m=\u001b[39m g[\u001b[38;5;241m1\u001b[39m] \u001b[38;5;241m=\u001b[39m g[\u001b[38;5;241m0\u001b[39m] \u001b[38;5;241m=\u001b[39m \u001b[38;5;124m'\u001b[39m\u001b[38;5;124ma\u001b[39m\u001b[38;5;124m'\u001b[39m\n",
      "\u001b[1;31mIndexError\u001b[0m: list assignment index out of range"
     ]
    }
   ],
   "source": [
    "g = [0, 1, 2, 3, 4]\n",
    "g[5] = g[4] = g[3] = g[2] = g[1] = g[0] = 'a'"
   ]
  },
  {
   "cell_type": "code",
   "execution_count": 172,
   "id": "704213dc-59ff-4aa1-b405-2f938745a77c",
   "metadata": {},
   "outputs": [
    {
     "data": {
      "text/plain": [
       "[0, 1, 2, 3, 4]"
      ]
     },
     "execution_count": 172,
     "metadata": {},
     "output_type": "execute_result"
    }
   ],
   "source": [
    "g"
   ]
  },
  {
   "cell_type": "code",
   "execution_count": 173,
   "id": "e584dd46-089f-4810-a1f6-dfe72172c69a",
   "metadata": {
    "tags": [
     "raises-exception"
    ]
   },
   "outputs": [
    {
     "ename": "IndexError",
     "evalue": "list assignment index out of range",
     "output_type": "error",
     "traceback": [
      "\u001b[1;31m---------------------------------------------------------------------------\u001b[0m",
      "\u001b[1;31mIndexError\u001b[0m                                Traceback (most recent call last)",
      "Cell \u001b[1;32mIn[173], line 2\u001b[0m\n\u001b[0;32m      1\u001b[0m j \u001b[38;5;241m=\u001b[39m [\u001b[38;5;241m0\u001b[39m, \u001b[38;5;241m1\u001b[39m, \u001b[38;5;241m2\u001b[39m, \u001b[38;5;241m3\u001b[39m, \u001b[38;5;241m4\u001b[39m]\n\u001b[1;32m----> 2\u001b[0m j[\u001b[38;5;241m0\u001b[39m] \u001b[38;5;241m=\u001b[39m j[\u001b[38;5;241m1\u001b[39m] \u001b[38;5;241m=\u001b[39m j[\u001b[38;5;241m2\u001b[39m] \u001b[38;5;241m=\u001b[39m \u001b[43mj\u001b[49m\u001b[43m[\u001b[49m\u001b[38;5;241;43m42\u001b[39;49m\u001b[43m]\u001b[49m \u001b[38;5;241m=\u001b[39m j[\u001b[38;5;241m3\u001b[39m] \u001b[38;5;241m=\u001b[39m j[\u001b[38;5;241m4\u001b[39m] \u001b[38;5;241m=\u001b[39m \u001b[38;5;124m'\u001b[39m\u001b[38;5;124ma\u001b[39m\u001b[38;5;124m'\u001b[39m\n",
      "\u001b[1;31mIndexError\u001b[0m: list assignment index out of range"
     ]
    }
   ],
   "source": [
    "j = [0, 1, 2, 3, 4]\n",
    "j[0] = j[1] = j[2] = j[42] = j[3] = j[4] = 'a'"
   ]
  },
  {
   "cell_type": "code",
   "execution_count": 174,
   "id": "75072cac-c027-49be-9ce8-93841eb74058",
   "metadata": {},
   "outputs": [
    {
     "data": {
      "text/plain": [
       "['a', 'a', 'a', 3, 4]"
      ]
     },
     "execution_count": 174,
     "metadata": {},
     "output_type": "execute_result"
    }
   ],
   "source": [
    "j"
   ]
  },
  {
   "cell_type": "code",
   "execution_count": 175,
   "id": "bf414a22-1e37-48b1-8373-1e223cbc4b86",
   "metadata": {
    "tags": [
     "raises-exception"
    ]
   },
   "outputs": [
    {
     "ename": "TypeError",
     "evalue": "list indices must be integers or slices, not str",
     "output_type": "error",
     "traceback": [
      "\u001b[1;31m---------------------------------------------------------------------------\u001b[0m",
      "\u001b[1;31mTypeError\u001b[0m                                 Traceback (most recent call last)",
      "Cell \u001b[1;32mIn[175], line 2\u001b[0m\n\u001b[0;32m      1\u001b[0m v \u001b[38;5;241m=\u001b[39m [\u001b[38;5;241m0\u001b[39m, \u001b[38;5;241m1\u001b[39m, \u001b[38;5;241m2\u001b[39m]\n\u001b[1;32m----> 2\u001b[0m \u001b[43mv\u001b[49m\u001b[43m[\u001b[49m\u001b[38;5;124;43m'\u001b[39;49m\u001b[38;5;124;43m1\u001b[39;49m\u001b[38;5;124;43m'\u001b[39;49m\u001b[43m]\u001b[49m \u001b[38;5;241m=\u001b[39m v[\u001b[38;5;241m4\u001b[39m] \u001b[38;5;241m=\u001b[39m \u001b[38;5;124m'\u001b[39m\u001b[38;5;124ma\u001b[39m\u001b[38;5;124m'\u001b[39m\n",
      "\u001b[1;31mTypeError\u001b[0m: list indices must be integers or slices, not str"
     ]
    }
   ],
   "source": [
    "v = [0, 1, 2]\n",
    "v['1'] = v[4] = 'a'"
   ]
  },
  {
   "cell_type": "code",
   "execution_count": 176,
   "id": "8d7d6e40-c369-4408-a971-a1329dd90f0e",
   "metadata": {
    "tags": [
     "raises-exception"
    ]
   },
   "outputs": [
    {
     "ename": "IndexError",
     "evalue": "list assignment index out of range",
     "output_type": "error",
     "traceback": [
      "\u001b[1;31m---------------------------------------------------------------------------\u001b[0m",
      "\u001b[1;31mIndexError\u001b[0m                                Traceback (most recent call last)",
      "Cell \u001b[1;32mIn[176], line 2\u001b[0m\n\u001b[0;32m      1\u001b[0m v \u001b[38;5;241m=\u001b[39m [\u001b[38;5;241m0\u001b[39m, \u001b[38;5;241m1\u001b[39m, \u001b[38;5;241m2\u001b[39m]\n\u001b[1;32m----> 2\u001b[0m \u001b[43mv\u001b[49m\u001b[43m[\u001b[49m\u001b[38;5;241;43m4\u001b[39;49m\u001b[43m]\u001b[49m \u001b[38;5;241m=\u001b[39m v[\u001b[38;5;124m'\u001b[39m\u001b[38;5;124m1\u001b[39m\u001b[38;5;124m'\u001b[39m] \u001b[38;5;241m=\u001b[39m \u001b[38;5;124m'\u001b[39m\u001b[38;5;124ma\u001b[39m\u001b[38;5;124m'\u001b[39m\n",
      "\u001b[1;31mIndexError\u001b[0m: list assignment index out of range"
     ]
    }
   ],
   "source": [
    "v = [0, 1, 2]\n",
    "v[4] = v['1'] = 'a'"
   ]
  },
  {
   "cell_type": "code",
   "execution_count": 177,
   "id": "e22dc8e3-10b0-43cb-b3d5-0c42619914a9",
   "metadata": {},
   "outputs": [
    {
     "data": {
      "text/plain": [
       "[0, 1, 2]"
      ]
     },
     "execution_count": 177,
     "metadata": {},
     "output_type": "execute_result"
    }
   ],
   "source": [
    "v"
   ]
  },
  {
   "cell_type": "code",
   "execution_count": 178,
   "id": "1e6ef2be-c700-44a4-b8ce-a53edc2deb0c",
   "metadata": {
    "tags": [
     "raises-exception"
    ]
   },
   "outputs": [
    {
     "ename": "IndexError",
     "evalue": "list assignment index out of range",
     "output_type": "error",
     "traceback": [
      "\u001b[1;31m---------------------------------------------------------------------------\u001b[0m",
      "\u001b[1;31mIndexError\u001b[0m                                Traceback (most recent call last)",
      "Cell \u001b[1;32mIn[178], line 3\u001b[0m\n\u001b[0;32m      1\u001b[0m a \u001b[38;5;241m=\u001b[39m [\u001b[38;5;241m10\u001b[39m, \u001b[38;5;241m20\u001b[39m, \u001b[38;5;241m30\u001b[39m]\n\u001b[0;32m      2\u001b[0m b \u001b[38;5;241m=\u001b[39m (\u001b[38;5;241m10\u001b[39m, \u001b[38;5;241m20\u001b[39m, \u001b[38;5;241m30\u001b[39m)\n\u001b[1;32m----> 3\u001b[0m \u001b[43ma\u001b[49m\u001b[43m[\u001b[49m\u001b[38;5;241;43m100\u001b[39;49m\u001b[43m]\u001b[49m \u001b[38;5;241m=\u001b[39m b[\u001b[38;5;241m0\u001b[39m] \u001b[38;5;241m=\u001b[39m \u001b[38;5;124m'\u001b[39m\u001b[38;5;124mx\u001b[39m\u001b[38;5;124m'\u001b[39m\n",
      "\u001b[1;31mIndexError\u001b[0m: list assignment index out of range"
     ]
    }
   ],
   "source": [
    "a = [10, 20, 30]\n",
    "b = (10, 20, 30)\n",
    "a[100] = b[0] = 'x'"
   ]
  },
  {
   "cell_type": "code",
   "execution_count": 179,
   "id": "15b93c1d-e94e-4be2-9430-0f4b3612a9b7",
   "metadata": {
    "tags": [
     "raises-exception"
    ]
   },
   "outputs": [
    {
     "ename": "TypeError",
     "evalue": "'tuple' object does not support item assignment",
     "output_type": "error",
     "traceback": [
      "\u001b[1;31m---------------------------------------------------------------------------\u001b[0m",
      "\u001b[1;31mTypeError\u001b[0m                                 Traceback (most recent call last)",
      "Cell \u001b[1;32mIn[179], line 3\u001b[0m\n\u001b[0;32m      1\u001b[0m a \u001b[38;5;241m=\u001b[39m [\u001b[38;5;241m10\u001b[39m, \u001b[38;5;241m20\u001b[39m, \u001b[38;5;241m30\u001b[39m]\n\u001b[0;32m      2\u001b[0m b \u001b[38;5;241m=\u001b[39m (\u001b[38;5;241m10\u001b[39m, \u001b[38;5;241m20\u001b[39m, \u001b[38;5;241m30\u001b[39m)\n\u001b[1;32m----> 3\u001b[0m \u001b[43mb\u001b[49m\u001b[43m[\u001b[49m\u001b[38;5;241;43m0\u001b[39;49m\u001b[43m]\u001b[49m \u001b[38;5;241m=\u001b[39m a[\u001b[38;5;241m100\u001b[39m] \u001b[38;5;241m=\u001b[39m \u001b[38;5;124m'\u001b[39m\u001b[38;5;124mx\u001b[39m\u001b[38;5;124m'\u001b[39m\n",
      "\u001b[1;31mTypeError\u001b[0m: 'tuple' object does not support item assignment"
     ]
    }
   ],
   "source": [
    "a = [10, 20, 30]\n",
    "b = (10, 20, 30)\n",
    "b[0] = a[100] = 'x'"
   ]
  },
  {
   "cell_type": "code",
   "execution_count": 180,
   "id": "7cfd2890-7539-4bab-96ea-c82eddd412aa",
   "metadata": {},
   "outputs": [],
   "source": [
    "from palgoviz import greet"
   ]
  },
  {
   "cell_type": "code",
   "execution_count": 181,
   "id": "fac81dd1-74f8-42ce-9afc-27a32df726c0",
   "metadata": {},
   "outputs": [],
   "source": [
    "g = greet.MutableGreeter('en')"
   ]
  },
  {
   "cell_type": "code",
   "execution_count": 182,
   "id": "0b363348-943b-4657-9391-49f9100e7601",
   "metadata": {
    "tags": [
     "raises-exception"
    ]
   },
   "outputs": [
    {
     "ename": "ValueError",
     "evalue": "xc is an unrecognized language code.",
     "output_type": "error",
     "traceback": [
      "\u001b[1;31m---------------------------------------------------------------------------\u001b[0m",
      "\u001b[1;31mValueError\u001b[0m                                Traceback (most recent call last)",
      "Cell \u001b[1;32mIn[182], line 1\u001b[0m\n\u001b[1;32m----> 1\u001b[0m \u001b[43mg\u001b[49m\u001b[38;5;241;43m.\u001b[39;49m\u001b[43mlang\u001b[49m \u001b[38;5;241m=\u001b[39m g\u001b[38;5;241m.\u001b[39mNOTLANG \u001b[38;5;241m=\u001b[39m \u001b[38;5;124m'\u001b[39m\u001b[38;5;124mxc\u001b[39m\u001b[38;5;124m'\u001b[39m\n",
      "File \u001b[1;32m~\\source\\repos\\palgoviz\\palgoviz\\greet.py:150\u001b[0m, in \u001b[0;36mMutableGreeter.lang\u001b[1;34m(self, value)\u001b[0m\n\u001b[0;32m    147\u001b[0m \u001b[38;5;129m@lang\u001b[39m\u001b[38;5;241m.\u001b[39msetter\n\u001b[0;32m    148\u001b[0m \u001b[38;5;28;01mdef\u001b[39;00m \u001b[38;5;21mlang\u001b[39m(\u001b[38;5;28mself\u001b[39m, value):\n\u001b[0;32m    149\u001b[0m     \u001b[38;5;28;01mif\u001b[39;00m value \u001b[38;5;129;01mnot\u001b[39;00m \u001b[38;5;129;01min\u001b[39;00m _FORMATS:\n\u001b[1;32m--> 150\u001b[0m         \u001b[38;5;28;01mraise\u001b[39;00m \u001b[38;5;167;01mValueError\u001b[39;00m(\u001b[38;5;124mf\u001b[39m\u001b[38;5;124m'\u001b[39m\u001b[38;5;132;01m{\u001b[39;00mvalue\u001b[38;5;132;01m}\u001b[39;00m\u001b[38;5;124m is an unrecognized language code.\u001b[39m\u001b[38;5;124m'\u001b[39m)\n\u001b[0;32m    151\u001b[0m     \u001b[38;5;28mself\u001b[39m\u001b[38;5;241m.\u001b[39m_lang \u001b[38;5;241m=\u001b[39m value\n",
      "\u001b[1;31mValueError\u001b[0m: xc is an unrecognized language code."
     ]
    }
   ],
   "source": [
    "g.lang = g.NOTLANG = 'xc'"
   ]
  },
  {
   "cell_type": "code",
   "execution_count": 183,
   "id": "826958f4-d49d-4184-8aab-c44a32864c75",
   "metadata": {
    "tags": [
     "raises-exception"
    ]
   },
   "outputs": [
    {
     "ename": "AttributeError",
     "evalue": "'MutableGreeter' object has no attribute 'NOTLANG'",
     "output_type": "error",
     "traceback": [
      "\u001b[1;31m---------------------------------------------------------------------------\u001b[0m",
      "\u001b[1;31mAttributeError\u001b[0m                            Traceback (most recent call last)",
      "Cell \u001b[1;32mIn[183], line 1\u001b[0m\n\u001b[1;32m----> 1\u001b[0m \u001b[43mg\u001b[49m\u001b[38;5;241;43m.\u001b[39;49m\u001b[43mNOTLANG\u001b[49m \u001b[38;5;241m=\u001b[39m g\u001b[38;5;241m.\u001b[39mlang \u001b[38;5;241m=\u001b[39m \u001b[38;5;124m'\u001b[39m\u001b[38;5;124mxc\u001b[39m\u001b[38;5;124m'\u001b[39m\n",
      "\u001b[1;31mAttributeError\u001b[0m: 'MutableGreeter' object has no attribute 'NOTLANG'"
     ]
    }
   ],
   "source": [
    "g.NOTLANG = g.lang = 'xc'"
   ]
  },
  {
   "cell_type": "code",
   "execution_count": 184,
   "id": "61cc1056-7570-48c6-a74e-dc36061b717b",
   "metadata": {},
   "outputs": [],
   "source": [
    "class HasAttributes: \n",
    "    __slots__ = ('_a', '_b')\n",
    "    \n",
    "    @property\n",
    "    def a(self):\n",
    "        return self._a\n",
    "    \n",
    "    @a.setter\n",
    "    def a(self, value): \n",
    "        print('a')\n",
    "        self._a = value\n",
    "        \n",
    "    @property\n",
    "    def b(self):\n",
    "        return self._b\n",
    "    \n",
    "    @b.setter\n",
    "    def b(self, value):\n",
    "        print('b')\n",
    "        self._b = value"
   ]
  },
  {
   "cell_type": "code",
   "execution_count": 185,
   "id": "a22d1731-84d3-4794-9d6b-6ec02ad1d73d",
   "metadata": {},
   "outputs": [],
   "source": [
    "h = HasAttributes()"
   ]
  },
  {
   "cell_type": "code",
   "execution_count": 186,
   "id": "35a99d32-b4d7-4c4b-810e-a70c2460f091",
   "metadata": {},
   "outputs": [
    {
     "name": "stdout",
     "output_type": "stream",
     "text": [
      "a\n",
      "b\n"
     ]
    }
   ],
   "source": [
    "h.a = h.b = 1"
   ]
  },
  {
   "cell_type": "code",
   "execution_count": 187,
   "id": "b269c73e-ce8b-40e7-b1ad-c9c1e76d7f31",
   "metadata": {},
   "outputs": [
    {
     "name": "stdout",
     "output_type": "stream",
     "text": [
      "b\n",
      "a\n"
     ]
    }
   ],
   "source": [
    "h.b = h.a = 1"
   ]
  },
  {
   "cell_type": "code",
   "execution_count": 188,
   "id": "e6a8f4ae-d1a8-480e-a881-c104f8801b76",
   "metadata": {},
   "outputs": [],
   "source": [
    "d = {}"
   ]
  },
  {
   "cell_type": "code",
   "execution_count": 189,
   "id": "660ed005-573d-4e3b-b0eb-4ec4e24c4c9a",
   "metadata": {},
   "outputs": [],
   "source": [
    "d['a'] = d['b'] = d['c'] = d['d'] = 1"
   ]
  },
  {
   "cell_type": "code",
   "execution_count": 190,
   "id": "de529793-2421-488e-901a-5e1257e2393a",
   "metadata": {},
   "outputs": [
    {
     "data": {
      "text/plain": [
       "{'a': 1, 'b': 1, 'c': 1, 'd': 1}"
      ]
     },
     "execution_count": 190,
     "metadata": {},
     "output_type": "execute_result"
    }
   ],
   "source": [
    "d"
   ]
  },
  {
   "cell_type": "code",
   "execution_count": 191,
   "id": "4b8225dc-0223-40b6-8b62-4b907be57395",
   "metadata": {},
   "outputs": [],
   "source": [
    "e = {}\n",
    "e['d'] = e['c'] = e['b'] = e['a'] = 2"
   ]
  },
  {
   "cell_type": "code",
   "execution_count": 192,
   "id": "0f804e4b-99ff-4dbb-b364-993b4f14a96a",
   "metadata": {},
   "outputs": [
    {
     "data": {
      "text/plain": [
       "{'d': 2, 'c': 2, 'b': 2, 'a': 2}"
      ]
     },
     "execution_count": 192,
     "metadata": {},
     "output_type": "execute_result"
    }
   ],
   "source": [
    "e"
   ]
  },
  {
   "cell_type": "code",
   "execution_count": 193,
   "id": "653d92f6-3569-45a0-a078-af86d1e4df6c",
   "metadata": {},
   "outputs": [],
   "source": [
    "class AClass: \n",
    "    pass"
   ]
  },
  {
   "cell_type": "code",
   "execution_count": 194,
   "id": "8a268414-5587-4cc9-8ed3-520de04c4e1d",
   "metadata": {},
   "outputs": [],
   "source": [
    "c = AClass()"
   ]
  },
  {
   "cell_type": "code",
   "execution_count": 195,
   "id": "8a2c7144-fd51-4108-92fd-cb7f50e1f384",
   "metadata": {},
   "outputs": [],
   "source": [
    "c.a = c.b = c.c = c.d = 2"
   ]
  },
  {
   "cell_type": "code",
   "execution_count": 196,
   "id": "63964fe2-365d-4c7f-aa40-c43b12b13f60",
   "metadata": {},
   "outputs": [
    {
     "data": {
      "text/plain": [
       "{'a': 2, 'b': 2, 'c': 2, 'd': 2}"
      ]
     },
     "execution_count": 196,
     "metadata": {},
     "output_type": "execute_result"
    }
   ],
   "source": [
    "c.__dict__"
   ]
  },
  {
   "cell_type": "code",
   "execution_count": 197,
   "id": "b6c16d08-9a2e-48e4-a8c0-b8f6313a02bd",
   "metadata": {},
   "outputs": [],
   "source": [
    "d = AClass()"
   ]
  },
  {
   "cell_type": "code",
   "execution_count": 198,
   "id": "1d841900-42e3-471b-9e35-f0705b7a940c",
   "metadata": {},
   "outputs": [],
   "source": [
    "d.d = d.c = d.b = d.a = 1"
   ]
  },
  {
   "cell_type": "code",
   "execution_count": 199,
   "id": "a430ce78-aa98-4008-baeb-d63fceb723b3",
   "metadata": {},
   "outputs": [
    {
     "data": {
      "text/plain": [
       "{'d': 1, 'c': 1, 'b': 1, 'a': 1}"
      ]
     },
     "execution_count": 199,
     "metadata": {},
     "output_type": "execute_result"
    }
   ],
   "source": [
    "d.__dict__"
   ]
  },
  {
   "cell_type": "code",
   "execution_count": 200,
   "id": "be8ba345-1619-4a29-8bd1-958c664b235e",
   "metadata": {},
   "outputs": [
    {
     "data": {
      "text/plain": [
       "{'a': 2, 'b': 2, 'c': 2, 'd': 2}"
      ]
     },
     "execution_count": 200,
     "metadata": {},
     "output_type": "execute_result"
    }
   ],
   "source": [
    "vars(c)"
   ]
  },
  {
   "cell_type": "code",
   "execution_count": 201,
   "id": "8e19ee49-3acf-41a2-977a-3783dff064b2",
   "metadata": {},
   "outputs": [
    {
     "data": {
      "text/plain": [
       "{'d': 1, 'c': 1, 'b': 1, 'a': 1}"
      ]
     },
     "execution_count": 201,
     "metadata": {},
     "output_type": "execute_result"
    }
   ],
   "source": [
    "vars(d)"
   ]
  },
  {
   "cell_type": "code",
   "execution_count": 202,
   "id": "e72c9940-1ecd-4001-a34d-705ea68dbf44",
   "metadata": {},
   "outputs": [],
   "source": [
    "class Assigns: \n",
    "    A = 1\n",
    "    B = 2"
   ]
  },
  {
   "cell_type": "code",
   "execution_count": 203,
   "id": "b82d735b-717b-4969-8ba9-6fc81d862e3a",
   "metadata": {},
   "outputs": [],
   "source": [
    "instance = Assigns()"
   ]
  },
  {
   "cell_type": "code",
   "execution_count": 204,
   "id": "b43a1dec-25b4-48a6-b334-4c1fbed511e4",
   "metadata": {},
   "outputs": [
    {
     "data": {
      "text/plain": [
       "1"
      ]
     },
     "execution_count": 204,
     "metadata": {},
     "output_type": "execute_result"
    }
   ],
   "source": [
    "instance.A"
   ]
  },
  {
   "cell_type": "code",
   "execution_count": 205,
   "id": "ddbfe724-e391-43cf-bea8-9172019f7836",
   "metadata": {},
   "outputs": [
    {
     "data": {
      "text/plain": [
       "2"
      ]
     },
     "execution_count": 205,
     "metadata": {},
     "output_type": "execute_result"
    }
   ],
   "source": [
    "instance.B"
   ]
  },
  {
   "cell_type": "code",
   "execution_count": 206,
   "id": "f79ab11f-18e7-4979-a145-887ad80f88b7",
   "metadata": {},
   "outputs": [
    {
     "data": {
      "text/plain": [
       "1"
      ]
     },
     "execution_count": 206,
     "metadata": {},
     "output_type": "execute_result"
    }
   ],
   "source": [
    "Assigns.A"
   ]
  },
  {
   "cell_type": "code",
   "execution_count": 207,
   "id": "be499e58-d93d-48b1-8a83-4392b037566f",
   "metadata": {},
   "outputs": [
    {
     "data": {
      "text/plain": [
       "2"
      ]
     },
     "execution_count": 207,
     "metadata": {},
     "output_type": "execute_result"
    }
   ],
   "source": [
    "Assigns.B"
   ]
  },
  {
   "cell_type": "code",
   "execution_count": 208,
   "id": "81c6c95e-1255-4bbb-90a2-47807cc9bd24",
   "metadata": {},
   "outputs": [
    {
     "data": {
      "text/plain": [
       "{}"
      ]
     },
     "execution_count": 208,
     "metadata": {},
     "output_type": "execute_result"
    }
   ],
   "source": [
    "instance.__dict__"
   ]
  },
  {
   "cell_type": "code",
   "execution_count": 209,
   "id": "bc40ed79-9727-4286-8ab4-e68a8bc4d64e",
   "metadata": {},
   "outputs": [],
   "source": [
    "instance.A = 3"
   ]
  },
  {
   "cell_type": "code",
   "execution_count": 210,
   "id": "ece6080a-7608-4dc1-b9e6-469d220e571d",
   "metadata": {},
   "outputs": [
    {
     "data": {
      "text/plain": [
       "3"
      ]
     },
     "execution_count": 210,
     "metadata": {},
     "output_type": "execute_result"
    }
   ],
   "source": [
    "instance.A"
   ]
  },
  {
   "cell_type": "code",
   "execution_count": 211,
   "id": "8dba3b4a-1423-4627-8abf-f041f7e6726f",
   "metadata": {},
   "outputs": [
    {
     "data": {
      "text/plain": [
       "1"
      ]
     },
     "execution_count": 211,
     "metadata": {},
     "output_type": "execute_result"
    }
   ],
   "source": [
    "Assigns.A"
   ]
  },
  {
   "cell_type": "code",
   "execution_count": 212,
   "id": "28b9ee5e-34d6-45e1-82a7-0a49009ba189",
   "metadata": {},
   "outputs": [
    {
     "data": {
      "text/plain": [
       "{'A': 3}"
      ]
     },
     "execution_count": 212,
     "metadata": {},
     "output_type": "execute_result"
    }
   ],
   "source": [
    "instance.__dict__"
   ]
  },
  {
   "cell_type": "code",
   "execution_count": 213,
   "id": "f249b098-ab58-4671-8c24-a6b0cef0ad92",
   "metadata": {},
   "outputs": [],
   "source": [
    "i2 = Assigns()"
   ]
  },
  {
   "cell_type": "code",
   "execution_count": 214,
   "id": "3b2cd5ae-4790-4b58-af76-bbb9516ef979",
   "metadata": {},
   "outputs": [
    {
     "data": {
      "text/plain": [
       "1"
      ]
     },
     "execution_count": 214,
     "metadata": {},
     "output_type": "execute_result"
    }
   ],
   "source": [
    "i2.A"
   ]
  },
  {
   "cell_type": "code",
   "execution_count": 215,
   "id": "ee549985-60b8-4fda-9c78-dc3114ec3c8b",
   "metadata": {},
   "outputs": [
    {
     "data": {
      "text/plain": [
       "dict"
      ]
     },
     "execution_count": 215,
     "metadata": {},
     "output_type": "execute_result"
    }
   ],
   "source": [
    "type(instance.__dict__)"
   ]
  },
  {
   "cell_type": "code",
   "execution_count": 216,
   "id": "47715213-44fc-44b4-98dc-034e7f0280e4",
   "metadata": {},
   "outputs": [
    {
     "data": {
      "text/plain": [
       "True"
      ]
     },
     "execution_count": 216,
     "metadata": {},
     "output_type": "execute_result"
    }
   ],
   "source": [
    "isinstance(instance.__dict__, dict)"
   ]
  },
  {
   "cell_type": "code",
   "execution_count": 217,
   "id": "dd299a1d-5e1c-480e-9501-fc791a5ec9da",
   "metadata": {},
   "outputs": [
    {
     "data": {
      "text/plain": [
       "mappingproxy({'__module__': '__main__',\n",
       "              'A': 1,\n",
       "              'B': 2,\n",
       "              '__dict__': <attribute '__dict__' of 'Assigns' objects>,\n",
       "              '__weakref__': <attribute '__weakref__' of 'Assigns' objects>,\n",
       "              '__doc__': None})"
      ]
     },
     "execution_count": 217,
     "metadata": {},
     "output_type": "execute_result"
    }
   ],
   "source": [
    "Assigns.__dict__"
   ]
  },
  {
   "cell_type": "code",
   "execution_count": 218,
   "id": "712ab9f9-1120-4e4d-8aa5-25bb9f3ae194",
   "metadata": {},
   "outputs": [
    {
     "data": {
      "text/plain": [
       "{'A': 3}"
      ]
     },
     "execution_count": 218,
     "metadata": {},
     "output_type": "execute_result"
    }
   ],
   "source": [
    "vars(instance)"
   ]
  },
  {
   "cell_type": "code",
   "execution_count": 219,
   "id": "3592cdde-1009-4832-8981-e46bfc2c9808",
   "metadata": {},
   "outputs": [],
   "source": [
    "instance.__dict__['A'] = 4"
   ]
  },
  {
   "cell_type": "code",
   "execution_count": 220,
   "id": "8bab5fc4-4823-4531-94d5-eba173fb9fd1",
   "metadata": {},
   "outputs": [
    {
     "data": {
      "text/plain": [
       "4"
      ]
     },
     "execution_count": 220,
     "metadata": {},
     "output_type": "execute_result"
    }
   ],
   "source": [
    "instance.A"
   ]
  },
  {
   "cell_type": "code",
   "execution_count": 221,
   "id": "e4851f11-ef4a-4d1c-921e-a2e7a75c7d9a",
   "metadata": {},
   "outputs": [],
   "source": [
    "Assigns.B = 5"
   ]
  },
  {
   "cell_type": "code",
   "execution_count": 222,
   "id": "72c206d1-bb46-4f3c-b0a3-1fa3dc536869",
   "metadata": {},
   "outputs": [
    {
     "data": {
      "text/plain": [
       "5"
      ]
     },
     "execution_count": 222,
     "metadata": {},
     "output_type": "execute_result"
    }
   ],
   "source": [
    "Assigns.B"
   ]
  },
  {
   "cell_type": "code",
   "execution_count": 223,
   "id": "d7c352ce-a9da-4cd1-bf1e-058c00614cd5",
   "metadata": {},
   "outputs": [
    {
     "data": {
      "text/plain": [
       "5"
      ]
     },
     "execution_count": 223,
     "metadata": {},
     "output_type": "execute_result"
    }
   ],
   "source": [
    "instance.B"
   ]
  },
  {
   "cell_type": "code",
   "execution_count": 224,
   "id": "f01ce96c-edd1-431d-913a-ca102ac06939",
   "metadata": {
    "tags": [
     "raises-exception"
    ]
   },
   "outputs": [
    {
     "ename": "TypeError",
     "evalue": "'mappingproxy' object does not support item assignment",
     "output_type": "error",
     "traceback": [
      "\u001b[1;31m---------------------------------------------------------------------------\u001b[0m",
      "\u001b[1;31mTypeError\u001b[0m                                 Traceback (most recent call last)",
      "Cell \u001b[1;32mIn[224], line 1\u001b[0m\n\u001b[1;32m----> 1\u001b[0m \u001b[43mAssigns\u001b[49m\u001b[38;5;241;43m.\u001b[39;49m\u001b[38;5;18;43m__dict__\u001b[39;49m\u001b[43m[\u001b[49m\u001b[38;5;124;43m'\u001b[39;49m\u001b[38;5;124;43mB\u001b[39;49m\u001b[38;5;124;43m'\u001b[39;49m\u001b[43m]\u001b[49m \u001b[38;5;241m=\u001b[39m \u001b[38;5;241m10\u001b[39m\n",
      "\u001b[1;31mTypeError\u001b[0m: 'mappingproxy' object does not support item assignment"
     ]
    }
   ],
   "source": [
    "Assigns.__dict__['B'] = 10"
   ]
  },
  {
   "cell_type": "code",
   "execution_count": 225,
   "id": "ebb601ec-7e12-4b63-bfad-cd80bab664e2",
   "metadata": {},
   "outputs": [],
   "source": [
    "import types"
   ]
  },
  {
   "cell_type": "code",
   "execution_count": 226,
   "id": "1c9fe0fd-d2ec-4997-b1e0-67278829dcad",
   "metadata": {},
   "outputs": [
    {
     "data": {
      "text/plain": [
       "['AsyncGeneratorType',\n",
       " 'BuiltinFunctionType',\n",
       " 'BuiltinMethodType',\n",
       " 'CellType',\n",
       " 'ClassMethodDescriptorType',\n",
       " 'CodeType',\n",
       " 'CoroutineType',\n",
       " 'DynamicClassAttribute',\n",
       " 'EllipsisType',\n",
       " 'FrameType',\n",
       " 'FunctionType',\n",
       " 'GeneratorType',\n",
       " 'GenericAlias',\n",
       " 'GetSetDescriptorType',\n",
       " 'LambdaType',\n",
       " 'MappingProxyType',\n",
       " 'MemberDescriptorType',\n",
       " 'MethodDescriptorType',\n",
       " 'MethodType',\n",
       " 'MethodWrapperType',\n",
       " 'ModuleType',\n",
       " 'NoneType',\n",
       " 'NotImplementedType',\n",
       " 'SimpleNamespace',\n",
       " 'TracebackType',\n",
       " 'UnionType',\n",
       " 'WrapperDescriptorType',\n",
       " '_GeneratorWrapper',\n",
       " '__all__',\n",
       " '__builtins__',\n",
       " '__cached__',\n",
       " '__doc__',\n",
       " '__file__',\n",
       " '__loader__',\n",
       " '__name__',\n",
       " '__package__',\n",
       " '__spec__',\n",
       " '_calculate_meta',\n",
       " '_cell_factory',\n",
       " 'coroutine',\n",
       " 'new_class',\n",
       " 'prepare_class',\n",
       " 'resolve_bases']"
      ]
     },
     "execution_count": 226,
     "metadata": {},
     "output_type": "execute_result"
    }
   ],
   "source": [
    "dir(types) "
   ]
  },
  {
   "cell_type": "code",
   "execution_count": 227,
   "id": "de2bd158-ddfd-4555-9a3d-e97e37d60d32",
   "metadata": {},
   "outputs": [],
   "source": [
    "def func1(): \n",
    "    pass"
   ]
  },
  {
   "cell_type": "code",
   "execution_count": 228,
   "id": "656c4172-b9d3-42d5-bd0f-d33c2a606f9c",
   "metadata": {},
   "outputs": [
    {
     "data": {
      "text/plain": [
       "True"
      ]
     },
     "execution_count": 228,
     "metadata": {},
     "output_type": "execute_result"
    }
   ],
   "source": [
    "isinstance(func1, types.FunctionType)"
   ]
  },
  {
   "cell_type": "code",
   "execution_count": 229,
   "id": "0f52a48f-5ba2-405b-a288-3089456f9044",
   "metadata": {},
   "outputs": [
    {
     "data": {
      "text/plain": [
       "True"
      ]
     },
     "execution_count": 229,
     "metadata": {},
     "output_type": "execute_result"
    }
   ],
   "source": [
    "isinstance(len, types.BuiltinFunctionType)"
   ]
  },
  {
   "cell_type": "code",
   "execution_count": 230,
   "id": "9c934485-8460-4798-a250-32aa5f5e009b",
   "metadata": {},
   "outputs": [
    {
     "data": {
      "text/plain": [
       "False"
      ]
     },
     "execution_count": 230,
     "metadata": {},
     "output_type": "execute_result"
    }
   ],
   "source": [
    "isinstance(func1, types.BuiltinFunctionType)"
   ]
  },
  {
   "cell_type": "code",
   "execution_count": 231,
   "id": "771a32d5-c468-4a05-a789-2dfdeb4c7f2b",
   "metadata": {},
   "outputs": [
    {
     "data": {
      "text/plain": [
       "True"
      ]
     },
     "execution_count": 231,
     "metadata": {},
     "output_type": "execute_result"
    }
   ],
   "source": [
    "isinstance(Assigns.__dict__, types.MappingProxyType)"
   ]
  },
  {
   "cell_type": "code",
   "execution_count": 232,
   "id": "2c538b9b-e731-41ef-b0dc-695cc09ed85b",
   "metadata": {},
   "outputs": [],
   "source": [
    "dic2 = {'thing1': 1, 'thing2': 2}"
   ]
  },
  {
   "cell_type": "code",
   "execution_count": 233,
   "id": "5c2a3f4b-41a6-40fa-a829-db3e2843c5ea",
   "metadata": {},
   "outputs": [],
   "source": [
    "dic2['thing2'] = 3"
   ]
  },
  {
   "cell_type": "code",
   "execution_count": 234,
   "id": "2b884b75-0225-49f2-83a7-426f552bc71c",
   "metadata": {},
   "outputs": [
    {
     "data": {
      "text/plain": [
       "{'thing1': 1, 'thing2': 3}"
      ]
     },
     "execution_count": 234,
     "metadata": {},
     "output_type": "execute_result"
    }
   ],
   "source": [
    "dic2"
   ]
  },
  {
   "cell_type": "code",
   "execution_count": 235,
   "id": "1e52f40f-1e5c-40e9-917d-13b2e14a7df6",
   "metadata": {},
   "outputs": [],
   "source": [
    "mp = types.MappingProxyType(dic2)"
   ]
  },
  {
   "cell_type": "code",
   "execution_count": 236,
   "id": "d4bd5b4b-911c-4337-933f-a680b325ec9b",
   "metadata": {},
   "outputs": [
    {
     "data": {
      "text/plain": [
       "mappingproxy({'thing1': 1, 'thing2': 3})"
      ]
     },
     "execution_count": 236,
     "metadata": {},
     "output_type": "execute_result"
    }
   ],
   "source": [
    "mp"
   ]
  },
  {
   "cell_type": "code",
   "execution_count": 237,
   "id": "a0463ac7-ac9f-4893-969f-d6fb6db2d69f",
   "metadata": {
    "tags": [
     "raises-exception"
    ]
   },
   "outputs": [
    {
     "ename": "TypeError",
     "evalue": "'mappingproxy' object does not support item assignment",
     "output_type": "error",
     "traceback": [
      "\u001b[1;31m---------------------------------------------------------------------------\u001b[0m",
      "\u001b[1;31mTypeError\u001b[0m                                 Traceback (most recent call last)",
      "Cell \u001b[1;32mIn[237], line 1\u001b[0m\n\u001b[1;32m----> 1\u001b[0m \u001b[43mmp\u001b[49m\u001b[43m[\u001b[49m\u001b[38;5;124;43m'\u001b[39;49m\u001b[38;5;124;43mthing2\u001b[39;49m\u001b[38;5;124;43m'\u001b[39;49m\u001b[43m]\u001b[49m \u001b[38;5;241m=\u001b[39m \u001b[38;5;241m4\u001b[39m\n",
      "\u001b[1;31mTypeError\u001b[0m: 'mappingproxy' object does not support item assignment"
     ]
    }
   ],
   "source": [
    "mp['thing2'] = 4"
   ]
  },
  {
   "cell_type": "code",
   "execution_count": 238,
   "id": "1df34263-8f3d-46ce-86dc-b154665d6ef8",
   "metadata": {},
   "outputs": [
    {
     "data": {
      "text/plain": [
       "3"
      ]
     },
     "execution_count": 238,
     "metadata": {},
     "output_type": "execute_result"
    }
   ],
   "source": [
    "mp['thing2']"
   ]
  },
  {
   "cell_type": "code",
   "execution_count": 239,
   "id": "9c4b618f-3525-437f-abde-d94e69807d9a",
   "metadata": {},
   "outputs": [],
   "source": [
    "dic2['thing2'] = 4"
   ]
  },
  {
   "cell_type": "code",
   "execution_count": 240,
   "id": "44881d91-7c42-4925-8396-9bc1d5997faf",
   "metadata": {},
   "outputs": [
    {
     "data": {
      "text/plain": [
       "{'thing1': 1, 'thing2': 4}"
      ]
     },
     "execution_count": 240,
     "metadata": {},
     "output_type": "execute_result"
    }
   ],
   "source": [
    "dic2"
   ]
  },
  {
   "cell_type": "code",
   "execution_count": 241,
   "id": "059ff087-15b9-4414-adec-ae1cf621e3dc",
   "metadata": {},
   "outputs": [
    {
     "data": {
      "text/plain": [
       "mappingproxy({'thing1': 1, 'thing2': 4})"
      ]
     },
     "execution_count": 241,
     "metadata": {},
     "output_type": "execute_result"
    }
   ],
   "source": [
    "mp"
   ]
  },
  {
   "cell_type": "code",
   "execution_count": 242,
   "id": "f779fe91-2f1f-4c45-99cb-2a5599399aff",
   "metadata": {},
   "outputs": [
    {
     "data": {
      "text/plain": [
       "mappingproxy({'__module__': '__main__',\n",
       "              'A': 1,\n",
       "              'B': 5,\n",
       "              '__dict__': <attribute '__dict__' of 'Assigns' objects>,\n",
       "              '__weakref__': <attribute '__weakref__' of 'Assigns' objects>,\n",
       "              '__doc__': None})"
      ]
     },
     "execution_count": 242,
     "metadata": {},
     "output_type": "execute_result"
    }
   ],
   "source": [
    "Assigns.__dict__"
   ]
  },
  {
   "cell_type": "code",
   "execution_count": 243,
   "id": "8dc7dcaa-c8b5-470d-8a73-3c8e6f60de6a",
   "metadata": {},
   "outputs": [],
   "source": [
    "Assigns.B = 6"
   ]
  },
  {
   "cell_type": "code",
   "execution_count": 244,
   "id": "d62d8949-f1a1-4408-8061-be396a893f4f",
   "metadata": {
    "tags": [
     "raises-exception"
    ]
   },
   "outputs": [
    {
     "ename": "TypeError",
     "evalue": "'mappingproxy' object does not support item assignment",
     "output_type": "error",
     "traceback": [
      "\u001b[1;31m---------------------------------------------------------------------------\u001b[0m",
      "\u001b[1;31mTypeError\u001b[0m                                 Traceback (most recent call last)",
      "Cell \u001b[1;32mIn[244], line 1\u001b[0m\n\u001b[1;32m----> 1\u001b[0m \u001b[43mAssigns\u001b[49m\u001b[38;5;241;43m.\u001b[39;49m\u001b[38;5;18;43m__dict__\u001b[39;49m\u001b[43m[\u001b[49m\u001b[38;5;124;43m'\u001b[39;49m\u001b[38;5;124;43mB\u001b[39;49m\u001b[38;5;124;43m'\u001b[39;49m\u001b[43m]\u001b[49m \u001b[38;5;241m=\u001b[39m \u001b[38;5;241m7\u001b[39m\n",
      "\u001b[1;31mTypeError\u001b[0m: 'mappingproxy' object does not support item assignment"
     ]
    }
   ],
   "source": [
    "Assigns.__dict__['B'] = 7"
   ]
  },
  {
   "cell_type": "code",
   "execution_count": 245,
   "id": "af39bc60-05e4-48ac-82a8-e70059b17531",
   "metadata": {},
   "outputs": [
    {
     "name": "stdout",
     "output_type": "stream",
     "text": [
      "Help on built-in function getattr in module builtins:\n",
      "\n",
      "getattr(...)\n",
      "    getattr(object, name[, default]) -> value\n",
      "    \n",
      "    Get a named attribute from an object; getattr(x, 'y') is equivalent to x.y.\n",
      "    When a default argument is given, it is returned when the attribute doesn't\n",
      "    exist; without it, an exception is raised in that case.\n",
      "\n"
     ]
    }
   ],
   "source": [
    "help(getattr)"
   ]
  },
  {
   "cell_type": "code",
   "execution_count": 246,
   "id": "3ae0410d-f57f-4aab-8742-e5815bcd1d9f",
   "metadata": {},
   "outputs": [
    {
     "name": "stdout",
     "output_type": "stream",
     "text": [
      "Help on built-in function setattr in module builtins:\n",
      "\n",
      "setattr(obj, name, value, /)\n",
      "    Sets the named attribute on the given object to the specified value.\n",
      "    \n",
      "    setattr(x, 'y', v) is equivalent to ``x.y = v``\n",
      "\n"
     ]
    }
   ],
   "source": [
    "help(setattr)"
   ]
  },
  {
   "cell_type": "code",
   "execution_count": 247,
   "id": "399e8cc3-b8bc-4229-9e5e-95d0c147e8af",
   "metadata": {},
   "outputs": [
    {
     "name": "stdout",
     "output_type": "stream",
     "text": [
      "Help on built-in function delattr in module builtins:\n",
      "\n",
      "delattr(obj, name, /)\n",
      "    Deletes the named attribute from the given object.\n",
      "    \n",
      "    delattr(x, 'y') is equivalent to ``del x.y``\n",
      "\n"
     ]
    }
   ],
   "source": [
    "help(delattr)"
   ]
  },
  {
   "cell_type": "code",
   "execution_count": 248,
   "id": "5c86beb9-9176-4265-abd5-c54abe6333c5",
   "metadata": {},
   "outputs": [],
   "source": [
    "setattr(Assigns, 'B', 7) "
   ]
  },
  {
   "cell_type": "code",
   "execution_count": 249,
   "id": "6890eef6-7590-48ee-b4ec-6d341c1ace2c",
   "metadata": {},
   "outputs": [
    {
     "data": {
      "text/plain": [
       "mappingproxy({'__module__': '__main__',\n",
       "              'A': 1,\n",
       "              'B': 7,\n",
       "              '__dict__': <attribute '__dict__' of 'Assigns' objects>,\n",
       "              '__weakref__': <attribute '__weakref__' of 'Assigns' objects>,\n",
       "              '__doc__': None})"
      ]
     },
     "execution_count": 249,
     "metadata": {},
     "output_type": "execute_result"
    }
   ],
   "source": [
    "Assigns.__dict__"
   ]
  },
  {
   "cell_type": "code",
   "execution_count": 250,
   "id": "3b1baca6-c092-48e0-8b74-4e9f6ff8d9f3",
   "metadata": {},
   "outputs": [
    {
     "data": {
      "text/plain": [
       "mappingproxy"
      ]
     },
     "execution_count": 250,
     "metadata": {},
     "output_type": "execute_result"
    }
   ],
   "source": [
    "Assigns.__dict__.__class__"
   ]
  },
  {
   "cell_type": "code",
   "execution_count": 251,
   "id": "9efad707-06f5-4e82-8cfe-55cad93c13ac",
   "metadata": {},
   "outputs": [
    {
     "data": {
      "text/plain": [
       "mappingproxy({'__module__': '__main__',\n",
       "              '__dict__': <attribute '__dict__' of 'Widget' objects>,\n",
       "              '__weakref__': <attribute '__weakref__' of 'Widget' objects>,\n",
       "              '__doc__': None,\n",
       "              'A': 'hello',\n",
       "              'B': 'hello'})"
      ]
     },
     "execution_count": 251,
     "metadata": {},
     "output_type": "execute_result"
    }
   ],
   "source": [
    "class Widget:\n",
    "    pass\n",
    "\n",
    "Widget.A = Widget.B = 'hello'\n",
    "Widget.__dict__"
   ]
  },
  {
   "cell_type": "code",
   "execution_count": 252,
   "id": "5a895f7e-70e8-4e85-ad51-8bf9aa3952cc",
   "metadata": {},
   "outputs": [
    {
     "data": {
      "text/plain": [
       "mappingproxy({'__module__': '__main__',\n",
       "              '__dict__': <attribute '__dict__' of 'Gadget' objects>,\n",
       "              '__weakref__': <attribute '__weakref__' of 'Gadget' objects>,\n",
       "              '__doc__': None,\n",
       "              'B': 'hello',\n",
       "              'A': 'hello'})"
      ]
     },
     "execution_count": 252,
     "metadata": {},
     "output_type": "execute_result"
    }
   ],
   "source": [
    "class Gadget:\n",
    "    pass\n",
    "\n",
    "Gadget.B = Gadget.A = 'hello'\n",
    "Gadget.__dict__"
   ]
  },
  {
   "cell_type": "code",
   "execution_count": 253,
   "id": "39284e7e-ed5f-4644-9746-98120ddbd840",
   "metadata": {},
   "outputs": [],
   "source": [
    "class M(type):\n",
    "    A = 30\n",
    "\n",
    "class C(metaclass=M):\n",
    "    pass"
   ]
  },
  {
   "cell_type": "code",
   "execution_count": 254,
   "id": "7731c523-f7c0-4068-8e91-a2cf757b3d0d",
   "metadata": {},
   "outputs": [
    {
     "data": {
      "text/plain": [
       "__main__.M"
      ]
     },
     "execution_count": 254,
     "metadata": {},
     "output_type": "execute_result"
    }
   ],
   "source": [
    "type(C)"
   ]
  },
  {
   "cell_type": "code",
   "execution_count": 255,
   "id": "c55fbab2-1495-438d-bb6a-11bb9d50d10e",
   "metadata": {},
   "outputs": [
    {
     "data": {
      "text/plain": [
       "30"
      ]
     },
     "execution_count": 255,
     "metadata": {},
     "output_type": "execute_result"
    }
   ],
   "source": [
    "M.A"
   ]
  },
  {
   "cell_type": "code",
   "execution_count": 256,
   "id": "30e9fd37-17e2-4da6-b608-e0ac00440c35",
   "metadata": {},
   "outputs": [
    {
     "data": {
      "text/plain": [
       "30"
      ]
     },
     "execution_count": 256,
     "metadata": {},
     "output_type": "execute_result"
    }
   ],
   "source": [
    "C.A"
   ]
  },
  {
   "cell_type": "code",
   "execution_count": 257,
   "id": "37821520-5bcc-454b-9ebf-9c4edc97909b",
   "metadata": {
    "tags": [
     "raises-exception"
    ]
   },
   "outputs": [
    {
     "ename": "AttributeError",
     "evalue": "'C' object has no attribute 'A'",
     "output_type": "error",
     "traceback": [
      "\u001b[1;31m---------------------------------------------------------------------------\u001b[0m",
      "\u001b[1;31mAttributeError\u001b[0m                            Traceback (most recent call last)",
      "Cell \u001b[1;32mIn[257], line 1\u001b[0m\n\u001b[1;32m----> 1\u001b[0m \u001b[43mC\u001b[49m\u001b[43m(\u001b[49m\u001b[43m)\u001b[49m\u001b[38;5;241;43m.\u001b[39;49m\u001b[43mA\u001b[49m\n",
      "\u001b[1;31mAttributeError\u001b[0m: 'C' object has no attribute 'A'"
     ]
    }
   ],
   "source": [
    "C().A"
   ]
  },
  {
   "cell_type": "code",
   "execution_count": 258,
   "id": "81b0d9ca-f4d7-4990-b764-93b286fb76eb",
   "metadata": {},
   "outputs": [
    {
     "data": {
      "text/plain": [
       "(__main__.C, object)"
      ]
     },
     "execution_count": 258,
     "metadata": {},
     "output_type": "execute_result"
    }
   ],
   "source": [
    "C.__mro__"
   ]
  },
  {
   "cell_type": "code",
   "execution_count": 259,
   "id": "ddfcf325-e9af-4edf-a61e-0d21e61059d1",
   "metadata": {},
   "outputs": [],
   "source": [
    "a = [10, 20, 30]\n",
    "a[1] = 21"
   ]
  },
  {
   "cell_type": "code",
   "execution_count": 260,
   "id": "1627f610-f0d4-40e8-9042-e5b00c6b0e3a",
   "metadata": {},
   "outputs": [],
   "source": [
    "d = {}\n",
    "d[1] = 21\n",
    "d['name'] = 42"
   ]
  },
  {
   "cell_type": "code",
   "execution_count": 261,
   "id": "2cbb7cea-698c-4441-bf64-6d07c14f1c95",
   "metadata": {},
   "outputs": [],
   "source": [
    "class MyClass:\n",
    "    pass\n",
    "\n",
    "x = MyClass()\n",
    "x.z = 10"
   ]
  },
  {
   "cell_type": "code",
   "execution_count": 262,
   "id": "ed360547-84ed-4f6b-be7b-b6687afa19e9",
   "metadata": {},
   "outputs": [
    {
     "name": "stdout",
     "output_type": "stream",
     "text": [
      "Leo\n"
     ]
    }
   ],
   "source": [
    "class MySecondClass: \n",
    "    name = 'name' \n",
    "    doubled_name = name + name\n",
    "    \n",
    "    def my_method(self):\n",
    "        print(name)  # Skips class scope, looks in global scope first.\n",
    "    \n",
    "msc = MySecondClass()\n",
    "msc.name2 = 'name2'\n",
    "msc.my_method()"
   ]
  },
  {
   "cell_type": "code",
   "execution_count": 263,
   "id": "ae45040a-49da-4237-8ce5-8d19205b76f3",
   "metadata": {},
   "outputs": [],
   "source": [
    "def f():\n",
    "    x = 2\n",
    "\n",
    "f()"
   ]
  },
  {
   "cell_type": "code",
   "execution_count": 264,
   "id": "66e2fc96-a872-4510-895f-2567a52cecac",
   "metadata": {
    "tags": [
     "raises-exception"
    ]
   },
   "outputs": [
    {
     "ename": "NameError",
     "evalue": "name 'foo' is not defined",
     "output_type": "error",
     "traceback": [
      "\u001b[1;31m---------------------------------------------------------------------------\u001b[0m",
      "\u001b[1;31mNameError\u001b[0m                                 Traceback (most recent call last)",
      "Cell \u001b[1;32mIn[264], line 1\u001b[0m\n\u001b[1;32m----> 1\u001b[0m \u001b[43mfoo\u001b[49m\n",
      "\u001b[1;31mNameError\u001b[0m: name 'foo' is not defined"
     ]
    }
   ],
   "source": [
    "foo"
   ]
  },
  {
   "cell_type": "code",
   "execution_count": 265,
   "id": "cc3e4781-193d-4364-ae05-318bf30aa59a",
   "metadata": {},
   "outputs": [
    {
     "data": {
      "text/plain": [
       "42"
      ]
     },
     "execution_count": 265,
     "metadata": {},
     "output_type": "execute_result"
    }
   ],
   "source": [
    "globals()['foo'] = 42\n",
    "foo"
   ]
  },
  {
   "cell_type": "code",
   "execution_count": 266,
   "id": "dd3b1cbb-1b39-4b01-a4e2-556a93fd504e",
   "metadata": {
    "tags": [
     "raises-exception"
    ]
   },
   "outputs": [
    {
     "ename": "NameError",
     "evalue": "name 'bar' is not defined",
     "output_type": "error",
     "traceback": [
      "\u001b[1;31m---------------------------------------------------------------------------\u001b[0m",
      "\u001b[1;31mNameError\u001b[0m                                 Traceback (most recent call last)",
      "Cell \u001b[1;32mIn[266], line 1\u001b[0m\n\u001b[1;32m----> 1\u001b[0m \u001b[43mbar\u001b[49m\n",
      "\u001b[1;31mNameError\u001b[0m: name 'bar' is not defined"
     ]
    }
   ],
   "source": [
    "bar"
   ]
  },
  {
   "cell_type": "code",
   "execution_count": 267,
   "id": "327dcde3-9d8d-4ead-87ed-78ddd04d4b39",
   "metadata": {},
   "outputs": [],
   "source": [
    "bar = 76"
   ]
  },
  {
   "cell_type": "code",
   "execution_count": 268,
   "id": "d67634f1-f71a-4ac1-ae28-19907af243d0",
   "metadata": {},
   "outputs": [
    {
     "data": {
      "text/plain": [
       "{'x': 10}"
      ]
     },
     "execution_count": 268,
     "metadata": {},
     "output_type": "execute_result"
    }
   ],
   "source": [
    "def f():\n",
    "    x = 10\n",
    "    ret = locals()\n",
    "    x = 11\n",
    "    return ret\n",
    "\n",
    "f()  # Behavior not guaranteed by the language."
   ]
  },
  {
   "cell_type": "code",
   "execution_count": 269,
   "id": "ba709a67-f28c-4e0b-bb86-04b1ee0732c4",
   "metadata": {},
   "outputs": [
    {
     "data": {
      "text/plain": [
       "11"
      ]
     },
     "execution_count": 269,
     "metadata": {},
     "output_type": "execute_result"
    }
   ],
   "source": [
    "x = 10\n",
    "g = globals()\n",
    "x = 11\n",
    "g['x']  # Guaranteed to give 11."
   ]
  },
  {
   "cell_type": "code",
   "execution_count": 270,
   "id": "2a471abb-1fb1-458f-b8c3-adc06b3b09f9",
   "metadata": {},
   "outputs": [
    {
     "data": {
      "text/plain": [
       "10"
      ]
     },
     "execution_count": 270,
     "metadata": {},
     "output_type": "execute_result"
    }
   ],
   "source": [
    "def g():\n",
    "    x = 10\n",
    "    locals()['x'] = 11\n",
    "    return x\n",
    "\n",
    "g()  # Behavior not guaranteed by the language."
   ]
  },
  {
   "cell_type": "code",
   "execution_count": 271,
   "id": "f641348c-dc50-4460-a10c-92b43e15fa08",
   "metadata": {},
   "outputs": [
    {
     "data": {
      "text/plain": [
       "42"
      ]
     },
     "execution_count": 271,
     "metadata": {},
     "output_type": "execute_result"
    }
   ],
   "source": [
    "foo = 42\n",
    "foo"
   ]
  },
  {
   "cell_type": "code",
   "execution_count": 272,
   "id": "bc147ea1-68c5-4973-880b-0edacb9404a8",
   "metadata": {},
   "outputs": [
    {
     "data": {
      "text/plain": [
       "76"
      ]
     },
     "execution_count": 272,
     "metadata": {},
     "output_type": "execute_result"
    }
   ],
   "source": [
    "globals()['foo'] = 76\n",
    "foo  # Guaranteed to give 76."
   ]
  },
  {
   "cell_type": "code",
   "execution_count": 273,
   "id": "a867dd50-73e7-4cd3-9fe0-05eaa033a828",
   "metadata": {},
   "outputs": [
    {
     "data": {
      "text/plain": [
       "10"
      ]
     },
     "execution_count": 273,
     "metadata": {},
     "output_type": "execute_result"
    }
   ],
   "source": [
    "def h():\n",
    "    x = 10\n",
    "    return locals()['x']\n",
    "\n",
    "h()  # Guaranteed to give 10."
   ]
  },
  {
   "cell_type": "code",
   "execution_count": 274,
   "id": "3733f9f7-2811-427d-aced-dcee7fb4b62f",
   "metadata": {},
   "outputs": [
    {
     "data": {
      "text/plain": [
       "10"
      ]
     },
     "execution_count": 274,
     "metadata": {},
     "output_type": "execute_result"
    }
   ],
   "source": [
    "def h2():\n",
    "    x = 10\n",
    "    d = locals()\n",
    "    y = 20\n",
    "    return d['x']\n",
    "\n",
    "h2()  # Also guaranteed to give 10."
   ]
  },
  {
   "cell_type": "markdown",
   "id": "d77fc753-4a77-41d7-9199-1d837a5a0069",
   "metadata": {},
   "source": [
    "`vars` is like `globals` and `locals`."
   ]
  },
  {
   "cell_type": "code",
   "execution_count": 275,
   "id": "0c8c1f83-3584-4b16-a238-14a6ea70fca2",
   "metadata": {},
   "outputs": [
    {
     "data": {
      "text/plain": [
       "True"
      ]
     },
     "execution_count": 275,
     "metadata": {},
     "output_type": "execute_result"
    }
   ],
   "source": [
    "vars() is globals()  # Guaranteed."
   ]
  },
  {
   "cell_type": "code",
   "execution_count": 276,
   "id": "9af24be1-318f-48b0-b56e-203a7bf85d14",
   "metadata": {},
   "outputs": [
    {
     "data": {
      "text/plain": [
       "784395743"
      ]
     },
     "execution_count": 276,
     "metadata": {},
     "output_type": "execute_result"
    }
   ],
   "source": [
    "def f():\n",
    "    x = 784395743\n",
    "    return vars()['x']\n",
    "\n",
    "f()"
   ]
  },
  {
   "cell_type": "code",
   "execution_count": 277,
   "id": "caea1602-28d2-4c75-bd54-ea8a2ec9e68f",
   "metadata": {},
   "outputs": [
    {
     "data": {
      "text/plain": [
       "True"
      ]
     },
     "execution_count": 277,
     "metadata": {},
     "output_type": "execute_result"
    }
   ],
   "source": [
    "def f2():\n",
    "    return vars() is locals()\n",
    "\n",
    "f2()  # Not guaranteed, but they are guaranteed to behave the same."
   ]
  },
  {
   "cell_type": "code",
   "execution_count": 278,
   "id": "ccfbc9ca-3ce1-4f67-82cb-16bc1b2e5757",
   "metadata": {},
   "outputs": [
    {
     "data": {
      "text/plain": [
       "True"
      ]
     },
     "execution_count": 278,
     "metadata": {},
     "output_type": "execute_result"
    }
   ],
   "source": [
    "def f3():\n",
    "    return vars() == locals()\n",
    "\n",
    "f3()  # Guaranteed."
   ]
  },
  {
   "cell_type": "code",
   "execution_count": 279,
   "id": "e22f9818-0e7a-4f63-b2da-47fc1c8f5d07",
   "metadata": {},
   "outputs": [],
   "source": [
    "vars_ret = None\n",
    "\n",
    "class CallsVars:\n",
    "    global vars_ret\n",
    "    vars_ret = vars()"
   ]
  },
  {
   "cell_type": "code",
   "execution_count": 280,
   "id": "2616ae2c-66f6-4165-a1b5-476e5d24bdd9",
   "metadata": {},
   "outputs": [
    {
     "data": {
      "text/plain": [
       "{'__module__': '__main__', '__qualname__': 'CallsVars'}"
      ]
     },
     "execution_count": 280,
     "metadata": {},
     "output_type": "execute_result"
    }
   ],
   "source": [
    "vars_ret"
   ]
  },
  {
   "cell_type": "code",
   "execution_count": 281,
   "id": "7c76e425-dc2f-45dc-8c79-9fb9afcb8a71",
   "metadata": {},
   "outputs": [
    {
     "data": {
      "text/plain": [
       "mappingproxy({'__module__': '__main__',\n",
       "              '__dict__': <attribute '__dict__' of 'CallsVars' objects>,\n",
       "              '__weakref__': <attribute '__weakref__' of 'CallsVars' objects>,\n",
       "              '__doc__': None})"
      ]
     },
     "execution_count": 281,
     "metadata": {},
     "output_type": "execute_result"
    }
   ],
   "source": [
    "CallsVars.__dict__"
   ]
  },
  {
   "cell_type": "code",
   "execution_count": 282,
   "id": "a1e9440b-c58b-4fa2-8f3a-083bfdf38315",
   "metadata": {},
   "outputs": [],
   "source": [
    "CallsVars.X = 42"
   ]
  },
  {
   "cell_type": "code",
   "execution_count": 283,
   "id": "ec009d74-6a83-4096-91ce-09447928a7a6",
   "metadata": {},
   "outputs": [
    {
     "data": {
      "text/plain": [
       "mappingproxy({'__module__': '__main__',\n",
       "              '__dict__': <attribute '__dict__' of 'CallsVars' objects>,\n",
       "              '__weakref__': <attribute '__weakref__' of 'CallsVars' objects>,\n",
       "              '__doc__': None,\n",
       "              'X': 42})"
      ]
     },
     "execution_count": 283,
     "metadata": {},
     "output_type": "execute_result"
    }
   ],
   "source": [
    "CallsVars.__dict__"
   ]
  },
  {
   "cell_type": "code",
   "execution_count": 284,
   "id": "9074bafb-3d52-402c-8de4-dc214557cd44",
   "metadata": {},
   "outputs": [
    {
     "data": {
      "text/plain": [
       "{'__module__': '__main__', '__qualname__': 'CallsVars'}"
      ]
     },
     "execution_count": 284,
     "metadata": {},
     "output_type": "execute_result"
    }
   ],
   "source": [
    "vars_ret"
   ]
  },
  {
   "cell_type": "code",
   "execution_count": 285,
   "id": "ea96cfff-e118-401d-9f76-10f2264618bb",
   "metadata": {},
   "outputs": [
    {
     "name": "stdout",
     "output_type": "stream",
     "text": [
      "Help on built-in function globals in module builtins:\n",
      "\n",
      "globals()\n",
      "    Return the dictionary containing the current scope's global variables.\n",
      "    \n",
      "    NOTE: Updates to this dictionary *will* affect name lookups in the current\n",
      "    global scope and vice-versa.\n",
      "\n"
     ]
    }
   ],
   "source": [
    "help(globals)"
   ]
  },
  {
   "cell_type": "code",
   "execution_count": 286,
   "id": "e380569b-acf8-4417-86d9-4f762d898fc9",
   "metadata": {},
   "outputs": [
    {
     "name": "stdout",
     "output_type": "stream",
     "text": [
      "Help on built-in function locals in module builtins:\n",
      "\n",
      "locals()\n",
      "    Return a dictionary containing the current scope's local variables.\n",
      "    \n",
      "    NOTE: Whether or not updates to this dictionary will affect name lookups in\n",
      "    the local scope and vice-versa is *implementation dependent* and not\n",
      "    covered by any backwards compatibility guarantees.\n",
      "\n"
     ]
    }
   ],
   "source": [
    "help(locals)"
   ]
  },
  {
   "cell_type": "code",
   "execution_count": 287,
   "id": "1d843611-7b4d-4638-816c-78b114130d33",
   "metadata": {},
   "outputs": [
    {
     "name": "stdout",
     "output_type": "stream",
     "text": [
      "Help on built-in function vars in module builtins:\n",
      "\n",
      "vars(...)\n",
      "    vars([object]) -> dictionary\n",
      "    \n",
      "    Without arguments, equivalent to locals().\n",
      "    With an argument, equivalent to object.__dict__.\n",
      "\n"
     ]
    }
   ],
   "source": [
    "help(vars)"
   ]
  },
  {
   "cell_type": "code",
   "execution_count": 288,
   "id": "36de85f0-0ef4-49d0-affc-81c12f27bb00",
   "metadata": {},
   "outputs": [
    {
     "data": {
      "text/plain": [
       "True"
      ]
     },
     "execution_count": 288,
     "metadata": {},
     "output_type": "execute_result"
    }
   ],
   "source": [
    "locals() is globals()  # Same, in the global scope."
   ]
  },
  {
   "cell_type": "code",
   "execution_count": 289,
   "id": "566f336e-b8f3-47c2-b805-e51bd34e1c01",
   "metadata": {},
   "outputs": [],
   "source": [
    "class Foo:\n",
    "    pass\n",
    "\n",
    "Foo.A = Foo.B = 10"
   ]
  },
  {
   "cell_type": "code",
   "execution_count": 290,
   "id": "3b14874f-7bdd-4778-917d-00260cae2a81",
   "metadata": {},
   "outputs": [
    {
     "data": {
      "text/plain": [
       "mappingproxy({'__module__': '__main__',\n",
       "              '__dict__': <attribute '__dict__' of 'Foo' objects>,\n",
       "              '__weakref__': <attribute '__weakref__' of 'Foo' objects>,\n",
       "              '__doc__': None,\n",
       "              'A': 10,\n",
       "              'B': 10})"
      ]
     },
     "execution_count": 290,
     "metadata": {},
     "output_type": "execute_result"
    }
   ],
   "source": [
    "Foo.__dict__"
   ]
  },
  {
   "cell_type": "code",
   "execution_count": 291,
   "id": "d63620ee-6a1d-4fe3-a275-d285b3ce346e",
   "metadata": {},
   "outputs": [],
   "source": [
    "class Bar:\n",
    "    pass\n",
    "\n",
    "Bar.B = Bar.A = 10"
   ]
  },
  {
   "cell_type": "code",
   "execution_count": 292,
   "id": "83775a82-e11d-4795-8c9e-95015d049f56",
   "metadata": {},
   "outputs": [
    {
     "data": {
      "text/plain": [
       "mappingproxy({'__module__': '__main__',\n",
       "              '__dict__': <attribute '__dict__' of 'Bar' objects>,\n",
       "              '__weakref__': <attribute '__weakref__' of 'Bar' objects>,\n",
       "              '__doc__': None,\n",
       "              'B': 10,\n",
       "              'A': 10})"
      ]
     },
     "execution_count": 292,
     "metadata": {},
     "output_type": "execute_result"
    }
   ],
   "source": [
    "Bar.__dict__"
   ]
  },
  {
   "cell_type": "code",
   "execution_count": 293,
   "id": "dd6a31ce-9570-4a1d-a95b-f5fe85fb2fe7",
   "metadata": {},
   "outputs": [
    {
     "data": {
      "text/plain": [
       "mappingproxy({'__module__': '__main__',\n",
       "              'C': 10,\n",
       "              'A': 10,\n",
       "              'B': 10,\n",
       "              '__dict__': <attribute '__dict__' of 'Zed' objects>,\n",
       "              '__weakref__': <attribute '__weakref__' of 'Zed' objects>,\n",
       "              '__doc__': None})"
      ]
     },
     "execution_count": 293,
     "metadata": {},
     "output_type": "execute_result"
    }
   ],
   "source": [
    "class Zed: \n",
    "    C = A = B = 10 \n",
    "\n",
    "Zed.__dict__"
   ]
  },
  {
   "cell_type": "code",
   "execution_count": 294,
   "id": "a1b6d0f2-b3b4-46ed-9663-9c5a4846b6a3",
   "metadata": {},
   "outputs": [
    {
     "data": {
      "text/plain": [
       "True"
      ]
     },
     "execution_count": 294,
     "metadata": {},
     "output_type": "execute_result"
    }
   ],
   "source": [
    "x = 20  # Assignment\n",
    "x == 20  # Equality comparison"
   ]
  },
  {
   "cell_type": "code",
   "execution_count": 295,
   "id": "a36a939c-d8b8-4b71-9617-a3af091096fc",
   "metadata": {
    "tags": [
     "raises-exception"
    ]
   },
   "outputs": [
    {
     "ename": "SyntaxError",
     "evalue": "invalid syntax. Maybe you meant '==' or ':=' instead of '='? (1394877419.py, line 1)",
     "output_type": "error",
     "traceback": [
      "\u001b[1;36m  Cell \u001b[1;32mIn[295], line 1\u001b[1;36m\u001b[0m\n\u001b[1;33m    if x = 20:  # No ambiguity in Python, this is a syntax error.\u001b[0m\n\u001b[1;37m       ^\u001b[0m\n\u001b[1;31mSyntaxError\u001b[0m\u001b[1;31m:\u001b[0m invalid syntax. Maybe you meant '==' or ':=' instead of '='?\n"
     ]
    }
   ],
   "source": [
    "if x = 20:  # No ambiguity in Python, this is a syntax error.\n",
    "    print('blah')"
   ]
  },
  {
   "cell_type": "code",
   "execution_count": 296,
   "id": "418a4f8f-e5d1-44c1-9535-3875c821f588",
   "metadata": {},
   "outputs": [
    {
     "name": "stdout",
     "output_type": "stream",
     "text": [
      "10\n",
      "20\n",
      "30\n"
     ]
    }
   ],
   "source": [
    "a = [10, 20, 30]\n",
    "for x in a:  # Assignment\n",
    "    print(x)"
   ]
  },
  {
   "cell_type": "code",
   "execution_count": 297,
   "id": "8ebe096b-bc41-4e12-9fd8-31fa5dcdaf20",
   "metadata": {},
   "outputs": [
    {
     "data": {
      "text/plain": [
       "True"
      ]
     },
     "execution_count": 297,
     "metadata": {},
     "output_type": "execute_result"
    }
   ],
   "source": [
    "20 in a  # The \"in\" operator is closely related to equality comparison."
   ]
  },
  {
   "cell_type": "code",
   "execution_count": 298,
   "id": "0f5a5ff1-5c6f-4656-900b-72e3b8159514",
   "metadata": {},
   "outputs": [
    {
     "data": {
      "text/plain": [
       "False"
      ]
     },
     "execution_count": 298,
     "metadata": {},
     "output_type": "execute_result"
    }
   ],
   "source": [
    "21 in a"
   ]
  },
  {
   "cell_type": "code",
   "execution_count": 299,
   "id": "cdfddce4-d771-4113-8310-7517a48cb19b",
   "metadata": {},
   "outputs": [
    {
     "data": {
      "text/plain": [
       "True"
      ]
     },
     "execution_count": 299,
     "metadata": {},
     "output_type": "execute_result"
    }
   ],
   "source": [
    "20 in range(1000)"
   ]
  },
  {
   "cell_type": "code",
   "execution_count": 300,
   "id": "2e4a91f9-86e9-41bc-899d-d9800c5a6cef",
   "metadata": {},
   "outputs": [
    {
     "data": {
      "text/plain": [
       "True"
      ]
     },
     "execution_count": 300,
     "metadata": {},
     "output_type": "execute_result"
    }
   ],
   "source": [
    "20 in set(range(1000))"
   ]
  },
  {
   "cell_type": "code",
   "execution_count": null,
   "id": "fc1b71b3-bd5c-4fd0-ab37-508d2d874899",
   "metadata": {},
   "outputs": [],
   "source": []
  }
 ],
 "metadata": {
  "kernelspec": {
   "display_name": "Python 3 (ipykernel)",
   "language": "python",
   "name": "python3"
  },
  "language_info": {
   "codemirror_mode": {
    "name": "ipython",
    "version": 3
   },
   "file_extension": ".py",
   "mimetype": "text/x-python",
   "name": "python",
   "nbconvert_exporter": "python",
   "pygments_lexer": "ipython3",
   "version": "3.11.1"
  },
  "vscode": {
   "interpreter": {
    "hash": "a924a81514a67ab7abb52f10576a3bff5d43dd09540bf62ec090588d0cbe25a3"
   }
  }
 },
 "nbformat": 4,
 "nbformat_minor": 5
}
