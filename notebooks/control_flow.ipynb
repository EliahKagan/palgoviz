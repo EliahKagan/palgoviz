{
 "cells": [
  {
   "cell_type": "markdown",
   "id": "fe50d317-c576-43e3-af6c-ba692659b82e",
   "metadata": {},
   "source": [
    "# Control flow\n",
    "\n",
    "SPDX-License-Identifier: 0BSD"
   ]
  },
  {
   "cell_type": "markdown",
   "id": "ded386cf-893c-4299-87f4-a1beeed75d0d",
   "metadata": {},
   "source": [
    "*Note 1:* Some of the questions here use “block” to mean what, in the Python language reference, is called a “suite.” The formal notion of a *block* in Python is related to scoping and differs from the more general usage in this notebook (which matches with how “block” is used in the jargon of most other programming languages). For example, technically there is no such thing as a “`try` block” in Python, but it is common to refer to such, and I do so in this notebook."
   ]
  },
  {
   "cell_type": "markdown",
   "id": "cda64903-690b-4de9-86b7-b99f76aa64ca",
   "metadata": {},
   "source": [
    "*Note 2:* The exercises in this notebook are numbered separately in each section. For example, question 1 in “Decorators review” is separate from and unrelated to question 1 in “General review.”"
   ]
  },
  {
   "cell_type": "markdown",
   "id": "1a20bdf8-a242-40ce-8e35-b39aeb4a7816",
   "metadata": {},
   "source": [
    "## Decorators review"
   ]
  },
  {
   "cell_type": "markdown",
   "id": "2b42c965-5038-4660-9fe4-010eb31ab4e3",
   "metadata": {},
   "source": [
    "### Recursive functions and wrapping decorators"
   ]
  },
  {
   "cell_type": "markdown",
   "id": "8e7f3705-26ca-4e5e-8c98-63c3a14e7d53",
   "metadata": {},
   "source": [
    "When a wrapping decorator is used on a recursive function definition, the wrapper’s logic accompanies each recursive call to the original function, *not* just the top-level call. For example:"
   ]
  },
  {
   "cell_type": "code",
   "execution_count": 1,
   "id": "76f50afc-fefd-4ef0-ae84-8096a8503f04",
   "metadata": {},
   "outputs": [],
   "source": [
    "import functools"
   ]
  },
  {
   "cell_type": "code",
   "execution_count": 2,
   "id": "867db1d9-8d58-47a6-9dd9-3ff4ef250388",
   "metadata": {},
   "outputs": [],
   "source": [
    "@functools.cache\n",
    "def countdown(n):\n",
    "    if n > 0:\n",
    "        print(n)\n",
    "        countdown(n - 1)"
   ]
  },
  {
   "cell_type": "code",
   "execution_count": 3,
   "id": "71d223fa-f465-428e-b5c3-9864f758b266",
   "metadata": {},
   "outputs": [
    {
     "name": "stdout",
     "output_type": "stream",
     "text": [
      "5\n",
      "4\n",
      "3\n",
      "2\n",
      "1\n"
     ]
    }
   ],
   "source": [
    "countdown(5)"
   ]
  },
  {
   "cell_type": "code",
   "execution_count": 4,
   "id": "c5357fc7-4e9a-4ba3-a2f2-d180f0dca5a8",
   "metadata": {},
   "outputs": [],
   "source": [
    "countdown(3)  # No side effects."
   ]
  },
  {
   "cell_type": "markdown",
   "id": "0f5f4f7f-d725-4190-a388-8f92bcbd4a48",
   "metadata": {},
   "source": [
    "#### Question 1"
   ]
  },
  {
   "cell_type": "markdown",
   "id": "e8732eaf-49c7-47ea-a3c1-57098fe6492f",
   "metadata": {},
   "source": [
    "Explain why the absence of side effects from the above cell demonstrates that, in the cell before that, the `@functools.cache` wrapper’s logic ran for recursive calls, not just the top-level `countdown(5)` call."
   ]
  },
  {
   "cell_type": "markdown",
   "id": "9e48e118-3da6-4fdb-99d6-6284df31cf65",
   "metadata": {},
   "source": [
    "#### Answer to question 1"
   ]
  },
  {
   "cell_type": "markdown",
   "id": "49e37fa0-969e-4e29-bb36-8298f2484c66",
   "metadata": {},
   "source": [
    "Because if `cache`’s wrapper logic had *not* run recursively, the recursive calls to `countdown` for any `n` less than 5 would not have been cached and subsequent calls to them would have printed."
   ]
  },
  {
   "cell_type": "markdown",
   "id": "97d4f633-a58f-4c72-8b04-2d0e0a31d3ef",
   "metadata": {},
   "source": [
    "#### Question 2"
   ]
  },
  {
   "cell_type": "markdown",
   "id": "f4318ddc-370e-4d72-8989-f232069b98fd",
   "metadata": {},
   "source": [
    "Consider the following ***wrong*** argument for the ***false*** claim that decorating a recursive function with a wrapping decorator only affects the top-level call:\n",
    "\n",
    "> The decorated definition assigns the wrapper to the function name. The top-level call therefore calls the wrapper. The wrapper calls the wrapped function. Since the wrapped function is recursive, it may call itself, and in that call it may call itself, and so forth. Those calls may become quite deep, but crucially, they are all direct recursive calls, from the wrapped function to itself. Therefore there is only one call to the wrapper per top-level call: the top-level call itself.\n",
    ">\n",
    "> But the above example shows that the wrapper somehow *does* get called at each level of recursion. I have shown that to be impossible. Yet it still happens. Therefore, nothing is real and we are living in a simulation.\n",
    "\n",
    "Explain what is wrong with this reasoning.\n",
    "\n",
    "(If you have trouble, take a bit of time to think about it. If you still have trouble, step through `fibonacci.fibonacci_cached_4` or `fibonacci.fibonacci_cached_5` in the debugger and see what happens.)"
   ]
  },
  {
   "cell_type": "markdown",
   "id": "a1db6a6f-6704-4aa4-a9ad-585f88303e28",
   "metadata": {
    "tags": []
   },
   "source": [
    "#### Answer to question 2"
   ]
  },
  {
   "cell_type": "markdown",
   "id": "03ccbad6-ba17-4896-af5f-89b203fa65aa",
   "metadata": {},
   "source": [
    "The wrapped function is *not* calling “itself” upon recursive calls, it is calling the *wrapper*, because the wrapped function’s name has been bound to the wrapper.\n",
    "\n",
    "The top-level call is to the wrapper (which has been assigned to the function name due to decoration), which then calls the wrapped function object (usually passed to the decorator as an argument such as `func` and captured by the wrapper). The call to `func` (`f`) then has a call to the original function’s name (which was bound to wrapper), and thus calls wrapper.\n",
    "\n",
    "Therefore, adding the decorator converts direct recursion (where a function (`f`) calls itself  `f` → `f` → `f` → `f` ...) to mutual recursion, where (in this case) the wrapper function (`w`) calls the wrapped function (`f`), which calls `w`, and so on (creating a call stack like this `w` → `f` → `w` → `f` ...). "
   ]
  },
  {
   "cell_type": "markdown",
   "id": "71f553b8-0759-4185-9194-1a814dce197f",
   "metadata": {},
   "source": [
    "#### “Question” 3"
   ]
  },
  {
   "cell_type": "markdown",
   "id": "5c18b322-6e11-403c-827d-7a78d6841a8d",
   "metadata": {},
   "source": [
    "If you didn’t need to step through `fibonacci.fibonacci_cached_4` or `fibonacci.fibonacci_cached_5` in the debugger, please do so now, since it’s valuable in its own right even if you’ve already correctly answered question 2."
   ]
  },
  {
   "cell_type": "markdown",
   "id": "14934f4b-ecda-481f-aa3a-9d16e89ccb39",
   "metadata": {},
   "source": [
    "#### Question 4"
   ]
  },
  {
   "cell_type": "markdown",
   "id": "1d5a276d-ed86-4544-b733-ff064d594b14",
   "metadata": {},
   "source": [
    "`fibonacci.fibonacci_cached_4` has a skipped doctest commented, “Mutual-recursion RecursionError.” Explain. \n",
    "\n",
    "(If your answer to question 2 did not talk about mutual recursion and use the phrase “mutual recursion” to describe it, revise it so it does. If that is more than a small revision, the answer may not have been correct.)"
   ]
  },
  {
   "cell_type": "markdown",
   "id": "ff2816ea-3e89-4bf8-9f63-b7da9c1ac987",
   "metadata": {},
   "source": [
    "#### Answer to question 4"
   ]
  },
  {
   "cell_type": "markdown",
   "id": "93d2cc31-cccc-48b0-81d5-f22a04506e07",
   "metadata": {},
   "source": [
    "`fibonacci.fibonacci_cached_4` is decorated by `memoize`, which wraps. Thus we have mutual recursion and a call to `fibonacci.fibonacci_cached_4(1200)`. The first 500 are stored (see question 5 below), and thus we reach a call depth of around 2 (1200 - 500) = 2 (700) = 1400, which is more than the usual limit of 1000, thus giving us `RecursionError`."
   ]
  },
  {
   "cell_type": "markdown",
   "id": "6878f270-4fb2-44bf-90db-af21647dc46c",
   "metadata": {},
   "source": [
    "#### Question 5"
   ]
  },
  {
   "cell_type": "markdown",
   "id": "5d2cbfcb-824d-4077-aedc-6c04f2c1ee14",
   "metadata": {},
   "source": [
    "Before that skipped doctest, there is a non-skipped doctest commented, “No RecursionError: we have up to n=100.” Explain."
   ]
  },
  {
   "cell_type": "markdown",
   "id": "d3e1cb78-1acc-41a6-b43b-f4b5629f6b67",
   "metadata": {},
   "source": [
    "#### Answer to question 5"
   ]
  },
  {
   "cell_type": "markdown",
   "id": "d8966466-51aa-497a-9235-9349dfef2846",
   "metadata": {},
   "source": [
    "When we define `fibonacci.fibonacci_cached_4` with the decorator `memoize`, we are creating a globally shared cache. Therefore, the running of the first doctests stores the first 100 results in the cache, limiting the recursion depth do it doesn't go over the usual 1000 limit when calling with 500, despite the mutual recursion. Without having the first 100 stored, we would reach 1000 (since we have a call to 500). However, since we already have the first 100 stored, it is as if 100 is a base case. We are calling it with 500, and since 500 - 100 = 400, we reach a depth of about 400 * 2 = 800."
   ]
  },
  {
   "cell_type": "markdown",
   "id": "d83955aa-5acc-402a-bcff-d79d9403234f",
   "metadata": {},
   "source": [
    "#### Question 6"
   ]
  },
  {
   "cell_type": "markdown",
   "id": "b9462147-1ddc-463a-a7c8-b6fc4eeab0a0",
   "metadata": {},
   "source": [
    "`fibonacci.fibonacci_cached_5` has a non-skipped doctest commented, “No RecursionError, we split the paths.” Explain."
   ]
  },
  {
   "cell_type": "markdown",
   "id": "71309e74-af60-4af6-a9d0-575267346c6d",
   "metadata": {},
   "source": [
    "#### Answer to question 6"
   ]
  },
  {
   "cell_type": "markdown",
   "id": "09f71c8b-e8a4-42e3-8604-0ab032493adf",
   "metadata": {},
   "source": [
    "The key issue is the longest path in the call tree. \n",
    "\n",
    "The helper function `fibonacci.fibonacci_cached_5` contains the recursive statement `return helper(n - 2) + helper(n - 1)`. Thus, upon a call with `n` as 500, the function calls helper with `n` of 498, then 496, and so on. *All* of this must complete *before* it gets to the `+`. Once we get past the plus, and reach `helper(499)` at the top level, *most* results are *already* stored in the cache (everything from 498 down to 0). \n",
    "\n",
    "The actual returns are going to happen “bottom-up” and thus the first call which returns, the call to `helper(0)`, called from the first call to `helper(2)`, returns 0. It took about 500/2 (250) calls to the helper function to get here, then it calls `helper(1)` (also a base case) and returns 1, allowing `helper(2)` to be computed. \n",
    "\n",
    "However, if we instead had the recursive statement `return helper(n - 1) + helper(n - 2)`, a call with n = 500 would call helper with n = 499, which would call helper with n = 498, and so on. Thus, the first computation that could theoretically return, the call to `helper(1)` from `helper(2)`, would be after about 500 calls to the helper function. That would be a call depth of 1000, due to mutual recursion.   "
   ]
  },
  {
   "cell_type": "markdown",
   "id": "dad6adc6-141a-4616-b686-dfbb70bf949b",
   "metadata": {},
   "source": [
    "#### Question 7"
   ]
  },
  {
   "cell_type": "markdown",
   "id": "3397038e-1fb1-436d-ab5d-3a987f4bdf3a",
   "metadata": {},
   "source": [
    "There are two major differences between `fibonacci.fibonacci_cached_4` and `fibonacci.fibonacci_cached_5`. One was central to your answer to question 6. The other was irrelevant to it, but very important in general. Explain that difference and its ramifications. Refer to a previous question in this notebook that relates to it."
   ]
  },
  {
   "cell_type": "markdown",
   "id": "7da8a269-b24f-426b-a744-c202a46b97fc",
   "metadata": {},
   "source": [
    "#### Answer to question 7"
   ]
  },
  {
   "cell_type": "markdown",
   "id": "6a0a88bc-81e3-4608-9889-c9988a83ec4b",
   "metadata": {},
   "source": [
    "`fibonacci.fibonacci_cached_4` has a globally shared cache whereas `fibonacci.fibonacci_cached_5` does not. The reason for this is that the `@memoize` decorator is applied to the top-level function itself in `fibonacci.fibonacci_cached_4`, but only to a local helper function in `fibonacci.fibonacci_cached_5`. Each time there is a call to `fibonacci.fibonacci_cached_5`, the helper function (and its cache) is newly created, whereas in `fibonacci.fibonacci_cached_4`, the cache is created when the function is defined, and shared across calls.\n",
    "\n",
    "`fibonacci.fibonacci_cached_4`'s behavior is also explained in the answer to question 5.      "
   ]
  },
  {
   "cell_type": "markdown",
   "id": "c1b4c40f-fca8-45fd-a2af-39f2ddd51bc8",
   "metadata": {},
   "source": [
    "#### Question 8"
   ]
  },
  {
   "cell_type": "markdown",
   "id": "8597a2cf-1d62-43d6-992b-745a37bcecd1",
   "metadata": {},
   "source": [
    "Write a wrapping decorator whose wrapper, on each call, reports that it was called before doing anything else. Use it to decorate the definition of a recursive function that, on each call, reports that it was called before doing anything else. Make sure the original recursive function, and the wrapper, report calls in ways that cannot be confused with each other. Make a top-level call and observe the mutually recursive relationship."
   ]
  },
  {
   "cell_type": "markdown",
   "id": "9c047be1-9aad-4ebd-94c0-8e5427f02a59",
   "metadata": {},
   "source": [
    "#### Answer to question 8"
   ]
  },
  {
   "cell_type": "code",
   "execution_count": 5,
   "id": "0d3fc993-ed2e-47ea-979e-3e6963d63fe0",
   "metadata": {},
   "outputs": [],
   "source": [
    "def reports(func): \n",
    "    @functools.wraps(func)\n",
    "    def wrapper(arg):\n",
    "        print(f\"Wrapper called with {arg}\")\n",
    "        func(arg)\n",
    "    return wrapper"
   ]
  },
  {
   "cell_type": "code",
   "execution_count": 6,
   "id": "4c850cda-62d8-4e0a-ac29-adc3c2daed0e",
   "metadata": {},
   "outputs": [],
   "source": [
    "@reports\n",
    "def final_countdown(start): \n",
    "    print(f\"THE FINAL {start}.\")\n",
    "    if start: \n",
    "        final_countdown(start - 1)"
   ]
  },
  {
   "cell_type": "code",
   "execution_count": 7,
   "id": "0d05aa08-ec4f-43d1-92a7-1deef75f7f43",
   "metadata": {},
   "outputs": [
    {
     "name": "stdout",
     "output_type": "stream",
     "text": [
      "Wrapper called with 3\n",
      "THE FINAL 3.\n",
      "Wrapper called with 2\n",
      "THE FINAL 2.\n",
      "Wrapper called with 1\n",
      "THE FINAL 1.\n",
      "Wrapper called with 0\n",
      "THE FINAL 0.\n"
     ]
    }
   ],
   "source": [
    "final_countdown(3)"
   ]
  },
  {
   "cell_type": "markdown",
   "id": "c5d80a6f-8488-42d5-85f5-2703c1e5807f",
   "metadata": {},
   "source": [
    "#### Question 9"
   ]
  },
  {
   "cell_type": "markdown",
   "id": "82409745-9961-4016-afbd-0e5263305e48",
   "metadata": {},
   "source": [
    "Create a demonstration like in question 8, but neither function should print or have any other side effect. Instead, define the recursive function so it raises an exception when it reaches some depth. One way to do this is to write a function like `countdown` that doesn’t print and that raises an exception such as `ValueError` in its base case. Another is to write a recursive function with no base case; then `RecursionError` will be raised when excessive depth is reached. (There are other ways, too.) Make a top-level call. This will show how decorating recursive functions with wrapping decorators creates mutual recursion, because you’ll see the alternating calls in the stack trace shown in the error message."
   ]
  },
  {
   "cell_type": "markdown",
   "id": "4807d420-ed81-4d89-9cf3-392dc9c423b5",
   "metadata": {},
   "source": [
    "#### Answer to question 9"
   ]
  },
  {
   "cell_type": "code",
   "execution_count": 8,
   "id": "860b0d11-b8d0-44b9-b520-d6a78c511efa",
   "metadata": {},
   "outputs": [],
   "source": [
    "def no_reports(func): \n",
    "    @functools.wraps(func)\n",
    "    def wrapper(arg):\n",
    "        func(arg)\n",
    "    return wrapper"
   ]
  },
  {
   "cell_type": "code",
   "execution_count": 9,
   "id": "ccf17806-065c-4c46-a6de-7a280a7825e0",
   "metadata": {},
   "outputs": [],
   "source": [
    "@no_reports\n",
    "def bomb_timer(seconds_left): \n",
    "    if seconds_left == 1: \n",
    "        raise ValueError(\"Don't Brian D it.\")\n",
    "    bomb_timer(seconds_left - 1)"
   ]
  },
  {
   "cell_type": "code",
   "execution_count": 10,
   "id": "cdb7fabc-cda8-4c0c-8833-303688fbd9c6",
   "metadata": {
    "tags": [
     "raises-exception"
    ]
   },
   "outputs": [
    {
     "ename": "ValueError",
     "evalue": "Don't Brian D it.",
     "output_type": "error",
     "traceback": [
      "\u001b[1;31m---------------------------------------------------------------------------\u001b[0m",
      "\u001b[1;31mValueError\u001b[0m                                Traceback (most recent call last)",
      "Cell \u001b[1;32mIn[10], line 1\u001b[0m\n\u001b[1;32m----> 1\u001b[0m \u001b[43mbomb_timer\u001b[49m\u001b[43m(\u001b[49m\u001b[38;5;241;43m10\u001b[39;49m\u001b[43m)\u001b[49m\n",
      "Cell \u001b[1;32mIn[8], line 4\u001b[0m, in \u001b[0;36mno_reports.<locals>.wrapper\u001b[1;34m(arg)\u001b[0m\n\u001b[0;32m      2\u001b[0m \u001b[38;5;129m@functools\u001b[39m\u001b[38;5;241m.\u001b[39mwraps(func)\n\u001b[0;32m      3\u001b[0m \u001b[38;5;28;01mdef\u001b[39;00m \u001b[38;5;21mwrapper\u001b[39m(arg):\n\u001b[1;32m----> 4\u001b[0m     \u001b[43mfunc\u001b[49m\u001b[43m(\u001b[49m\u001b[43marg\u001b[49m\u001b[43m)\u001b[49m\n",
      "Cell \u001b[1;32mIn[9], line 5\u001b[0m, in \u001b[0;36mbomb_timer\u001b[1;34m(seconds_left)\u001b[0m\n\u001b[0;32m      3\u001b[0m \u001b[38;5;28;01mif\u001b[39;00m seconds_left \u001b[38;5;241m==\u001b[39m \u001b[38;5;241m1\u001b[39m: \n\u001b[0;32m      4\u001b[0m     \u001b[38;5;28;01mraise\u001b[39;00m \u001b[38;5;167;01mValueError\u001b[39;00m(\u001b[38;5;124m\"\u001b[39m\u001b[38;5;124mDon\u001b[39m\u001b[38;5;124m'\u001b[39m\u001b[38;5;124mt Brian D it.\u001b[39m\u001b[38;5;124m\"\u001b[39m)\n\u001b[1;32m----> 5\u001b[0m \u001b[43mbomb_timer\u001b[49m\u001b[43m(\u001b[49m\u001b[43mseconds_left\u001b[49m\u001b[43m \u001b[49m\u001b[38;5;241;43m-\u001b[39;49m\u001b[43m \u001b[49m\u001b[38;5;241;43m1\u001b[39;49m\u001b[43m)\u001b[49m\n",
      "Cell \u001b[1;32mIn[8], line 4\u001b[0m, in \u001b[0;36mno_reports.<locals>.wrapper\u001b[1;34m(arg)\u001b[0m\n\u001b[0;32m      2\u001b[0m \u001b[38;5;129m@functools\u001b[39m\u001b[38;5;241m.\u001b[39mwraps(func)\n\u001b[0;32m      3\u001b[0m \u001b[38;5;28;01mdef\u001b[39;00m \u001b[38;5;21mwrapper\u001b[39m(arg):\n\u001b[1;32m----> 4\u001b[0m     \u001b[43mfunc\u001b[49m\u001b[43m(\u001b[49m\u001b[43marg\u001b[49m\u001b[43m)\u001b[49m\n",
      "Cell \u001b[1;32mIn[9], line 5\u001b[0m, in \u001b[0;36mbomb_timer\u001b[1;34m(seconds_left)\u001b[0m\n\u001b[0;32m      3\u001b[0m \u001b[38;5;28;01mif\u001b[39;00m seconds_left \u001b[38;5;241m==\u001b[39m \u001b[38;5;241m1\u001b[39m: \n\u001b[0;32m      4\u001b[0m     \u001b[38;5;28;01mraise\u001b[39;00m \u001b[38;5;167;01mValueError\u001b[39;00m(\u001b[38;5;124m\"\u001b[39m\u001b[38;5;124mDon\u001b[39m\u001b[38;5;124m'\u001b[39m\u001b[38;5;124mt Brian D it.\u001b[39m\u001b[38;5;124m\"\u001b[39m)\n\u001b[1;32m----> 5\u001b[0m \u001b[43mbomb_timer\u001b[49m\u001b[43m(\u001b[49m\u001b[43mseconds_left\u001b[49m\u001b[43m \u001b[49m\u001b[38;5;241;43m-\u001b[39;49m\u001b[43m \u001b[49m\u001b[38;5;241;43m1\u001b[39;49m\u001b[43m)\u001b[49m\n",
      "    \u001b[1;31m[... skipping similar frames: no_reports.<locals>.wrapper at line 4 (7 times), bomb_timer at line 5 (6 times)]\u001b[0m\n",
      "Cell \u001b[1;32mIn[9], line 5\u001b[0m, in \u001b[0;36mbomb_timer\u001b[1;34m(seconds_left)\u001b[0m\n\u001b[0;32m      3\u001b[0m \u001b[38;5;28;01mif\u001b[39;00m seconds_left \u001b[38;5;241m==\u001b[39m \u001b[38;5;241m1\u001b[39m: \n\u001b[0;32m      4\u001b[0m     \u001b[38;5;28;01mraise\u001b[39;00m \u001b[38;5;167;01mValueError\u001b[39;00m(\u001b[38;5;124m\"\u001b[39m\u001b[38;5;124mDon\u001b[39m\u001b[38;5;124m'\u001b[39m\u001b[38;5;124mt Brian D it.\u001b[39m\u001b[38;5;124m\"\u001b[39m)\n\u001b[1;32m----> 5\u001b[0m \u001b[43mbomb_timer\u001b[49m\u001b[43m(\u001b[49m\u001b[43mseconds_left\u001b[49m\u001b[43m \u001b[49m\u001b[38;5;241;43m-\u001b[39;49m\u001b[43m \u001b[49m\u001b[38;5;241;43m1\u001b[39;49m\u001b[43m)\u001b[49m\n",
      "Cell \u001b[1;32mIn[8], line 4\u001b[0m, in \u001b[0;36mno_reports.<locals>.wrapper\u001b[1;34m(arg)\u001b[0m\n\u001b[0;32m      2\u001b[0m \u001b[38;5;129m@functools\u001b[39m\u001b[38;5;241m.\u001b[39mwraps(func)\n\u001b[0;32m      3\u001b[0m \u001b[38;5;28;01mdef\u001b[39;00m \u001b[38;5;21mwrapper\u001b[39m(arg):\n\u001b[1;32m----> 4\u001b[0m     \u001b[43mfunc\u001b[49m\u001b[43m(\u001b[49m\u001b[43marg\u001b[49m\u001b[43m)\u001b[49m\n",
      "Cell \u001b[1;32mIn[9], line 4\u001b[0m, in \u001b[0;36mbomb_timer\u001b[1;34m(seconds_left)\u001b[0m\n\u001b[0;32m      1\u001b[0m \u001b[38;5;129m@no_reports\u001b[39m\n\u001b[0;32m      2\u001b[0m \u001b[38;5;28;01mdef\u001b[39;00m \u001b[38;5;21mbomb_timer\u001b[39m(seconds_left): \n\u001b[0;32m      3\u001b[0m     \u001b[38;5;28;01mif\u001b[39;00m seconds_left \u001b[38;5;241m==\u001b[39m \u001b[38;5;241m1\u001b[39m: \n\u001b[1;32m----> 4\u001b[0m         \u001b[38;5;28;01mraise\u001b[39;00m \u001b[38;5;167;01mValueError\u001b[39;00m(\u001b[38;5;124m\"\u001b[39m\u001b[38;5;124mDon\u001b[39m\u001b[38;5;124m'\u001b[39m\u001b[38;5;124mt Brian D it.\u001b[39m\u001b[38;5;124m\"\u001b[39m)\n\u001b[0;32m      5\u001b[0m     bomb_timer(seconds_left \u001b[38;5;241m-\u001b[39m \u001b[38;5;241m1\u001b[39m)\n",
      "\u001b[1;31mValueError\u001b[0m: Don't Brian D it."
     ]
    }
   ],
   "source": [
    "bomb_timer(10)"
   ]
  },
  {
   "cell_type": "markdown",
   "id": "660a36e2-3460-4760-bf69-6779851c20ab",
   "metadata": {},
   "source": [
    "#### Question 10"
   ]
  },
  {
   "cell_type": "markdown",
   "id": "5bd5285c-1352-428d-bffe-98d94e7fad5d",
   "metadata": {},
   "source": [
    "Suppose you have a wrapping decorator you could apply to a recursive function definition. You’re writing a recursive function definition, and you *would* decorate it with that decorator... but you only *want* top-level calls to call the wrapper. That is, on this function, for recursive calls, you *want* the wrong claim presented in question 2 to be true! Show how this can be done, by doing it. Use a wrapping decorator that already exists (you will probably want to use the one you wrote for question 8). Write a new `def` statement to create your recursive function. Achieve the goal in a way that does not involve writing any other `def` statements, does not involve `lambda` or `class` or library facilities, and is very simple and clear. Make sure to write code showing that only top-level calls invoke the wrapper."
   ]
  },
  {
   "cell_type": "markdown",
   "id": "e8c08c3f-e3ce-4de3-818d-91f7ec9dbcca",
   "metadata": {},
   "source": [
    "#### Answer to question 10"
   ]
  },
  {
   "cell_type": "code",
   "execution_count": 11,
   "id": "cd04cc63-eaeb-4490-93fb-33ae6a65ade6",
   "metadata": {},
   "outputs": [],
   "source": [
    "def _do_weird_countdown(start): \n",
    "    print(f\"weird {start}.\")\n",
    "    if start: \n",
    "        _do_weird_countdown(start - 1)\n",
    "\n",
    "weird_countdown = reports(_do_weird_countdown)"
   ]
  },
  {
   "cell_type": "code",
   "execution_count": 12,
   "id": "ed238a79-1e72-4b4d-9cf3-bc82a8a07c36",
   "metadata": {},
   "outputs": [
    {
     "name": "stdout",
     "output_type": "stream",
     "text": [
      "Wrapper called with 3\n",
      "weird 3.\n",
      "weird 2.\n",
      "weird 1.\n",
      "weird 0.\n"
     ]
    }
   ],
   "source": [
    "weird_countdown(3)"
   ]
  },
  {
   "cell_type": "markdown",
   "id": "5e3a7b4b-f126-4a69-b19a-eba733b53b07",
   "metadata": {},
   "source": [
    "## General review"
   ]
  },
  {
   "cell_type": "markdown",
   "id": "cf53b48f-e456-487c-a1f6-88a87bf6a6a0",
   "metadata": {},
   "source": [
    "**Q1**: Does a `for` loop introduce a scope? Write code that demonstrates that it does or does not."
   ]
  },
  {
   "cell_type": "markdown",
   "id": "9b0c0442-0000-408c-8f49-e474d49493cf",
   "metadata": {},
   "source": [
    "No:"
   ]
  },
  {
   "cell_type": "code",
   "execution_count": 13,
   "id": "feb5ece9-5890-441f-a7c8-b76003acf34c",
   "metadata": {},
   "outputs": [
    {
     "name": "stdout",
     "output_type": "stream",
     "text": [
      "9\n"
     ]
    }
   ],
   "source": [
    "element = 3\n",
    "for element in range(10): \n",
    "    pass\n",
    "print(element) "
   ]
  },
  {
   "cell_type": "code",
   "execution_count": 14,
   "id": "e317fbc0-9071-4b31-9b65-59ae8bab144c",
   "metadata": {},
   "outputs": [
    {
     "name": "stdout",
     "output_type": "stream",
     "text": [
      "9\n"
     ]
    }
   ],
   "source": [
    "for thing in range(10): \n",
    "    pass\n",
    "print(thing)"
   ]
  },
  {
   "cell_type": "markdown",
   "id": "40605fef-0add-40d7-a635-7b7a21450c19",
   "metadata": {},
   "source": [
    "**Q2**: Does a comprehension introduce a scope? Write code that demonstrates, using a list comprehension, that it does or does not."
   ]
  },
  {
   "cell_type": "markdown",
   "id": "b7f653ff-de4b-44ad-8d33-e99224645e1d",
   "metadata": {},
   "source": [
    "Yes: "
   ]
  },
  {
   "cell_type": "code",
   "execution_count": 15,
   "id": "6a247d4f-b41f-4c41-aa28-3f94ee7e0343",
   "metadata": {},
   "outputs": [
    {
     "data": {
      "text/plain": [
       "[0, 1, 2, 3, 4, 5, 6, 7, 8, 9]"
      ]
     },
     "execution_count": 15,
     "metadata": {},
     "output_type": "execute_result"
    }
   ],
   "source": [
    "element = 3\n",
    "[element for element in range(10)]"
   ]
  },
  {
   "cell_type": "code",
   "execution_count": 16,
   "id": "1a987bab-49bc-4ee7-8ac6-a7c7cd81afcc",
   "metadata": {},
   "outputs": [
    {
     "name": "stdout",
     "output_type": "stream",
     "text": [
      "3\n"
     ]
    }
   ],
   "source": [
    "print(element)"
   ]
  },
  {
   "cell_type": "markdown",
   "id": "443c2cac-0445-480b-a393-64ebaa1b782b",
   "metadata": {},
   "source": [
    "**Q3**: Python has no `do`...`while` loop. Show how that logic can be expressed in Python."
   ]
  },
  {
   "cell_type": "code",
   "execution_count": 17,
   "id": "83a6053b-b669-4778-a1b7-3de6daf9c834",
   "metadata": {},
   "outputs": [
    {
     "name": "stdout",
     "output_type": "stream",
     "text": [
      "0\n",
      "1\n",
      "2\n",
      "3\n"
     ]
    }
   ],
   "source": [
    "x = 0\n",
    "print(x)\n",
    "x += 1\n",
    "while x < 4: \n",
    "    print(x)\n",
    "    x += 1"
   ]
  },
  {
   "cell_type": "markdown",
   "id": "50c373e8-7989-4b68-99ff-9058413dc2b8",
   "metadata": {},
   "source": [
    "**Q4**: One way to express the logic of a `do`...`while` loop, which is *occasionally* reasonable, involves repeated code. If that's what you showed above, show the more generally suitable way that does not repeat code. Otherwise, show the way that repeats code."
   ]
  },
  {
   "cell_type": "code",
   "execution_count": 18,
   "id": "4447dac1-8124-4bf1-b3dd-5550a53c22c0",
   "metadata": {},
   "outputs": [
    {
     "name": "stdout",
     "output_type": "stream",
     "text": [
      "0\n",
      "1\n",
      "2\n",
      "3\n"
     ]
    }
   ],
   "source": [
    "x = 0 \n",
    "while True: \n",
    "    print(x)\n",
    "    x += 1\n",
    "    if x >= 4: \n",
    "        break"
   ]
  },
  {
   "cell_type": "markdown",
   "id": "a58f92e4-e432-421e-bab7-1e8b953c48ef",
   "metadata": {},
   "source": [
    "**Q5**: If Python had a `do`...`while` construct, would that help to make the implementation of `functions.as_iterator_limited_alt` simpler than with `while`? Why or why not?"
   ]
  },
  {
   "cell_type": "markdown",
   "id": "295eb74d-bdb9-428b-9cff-26498ea0f38f",
   "metadata": {},
   "source": [
    "No. If Python had `do`...`while`, someone might write this: \n",
    "\n",
    "```python\n",
    "do: \n",
    "    result = func()\n",
    "    yield result\n",
    "while result != end_sentinel\n",
    "```\n",
    "\n",
    "The code above like it would simplify `functions.as_iterator_limited_alt`, but it does not, because this code doesn’t behave the same way. \n",
    "\n",
    "This yields the result *regardless* of whether or not it is the `end_sentinel`, and the correct code does not yield any result if it is the `end_sentinel` because of where the check happens. "
   ]
  },
  {
   "cell_type": "markdown",
   "id": "22ff0941-5148-47da-88b9-e887acf441a4",
   "metadata": {},
   "source": [
    "**Q6**: There is a technique we’ll cover later that facilitates simplifying `functions.as_iterator_limited_alt` by using a form of assignment other than an assignment statement (that is, `result = func()` would not appear at all). However, it is reasonable to use an assignment statement, and there are two reasonable ways to do it. Show both of them here, describe how they relate to your answers to previous questions here, and pick whichever of them you like better to use there."
   ]
  },
  {
   "cell_type": "code",
   "execution_count": 19,
   "id": "844c5f64-4194-4ab1-8ffa-2661e90abba9",
   "metadata": {},
   "outputs": [],
   "source": [
    "def as_iterator_limited_alt_1(func, end_sentinel):\n",
    "    result = func()\n",
    "    while result != end_sentinel:\n",
    "        yield result\n",
    "        result = func()"
   ]
  },
  {
   "cell_type": "code",
   "execution_count": 20,
   "id": "b454dc28-befd-4476-b487-c6d49b7e3505",
   "metadata": {},
   "outputs": [],
   "source": [
    "def as_iterator_limited_alt_2(func, end_sentinel): \n",
    "    while True: \n",
    "        result = func()\n",
    "        if result == end_sentinel: \n",
    "            break\n",
    "        yield result"
   ]
  },
  {
   "cell_type": "markdown",
   "id": "591c370a-d981-4ed6-8ec3-abb77187f973",
   "metadata": {},
   "source": [
    "`as_iterator_limited_alt_1` repeats code, similar to the implementation of `do`...`while` loop which repeats code in my answer to question 3. `as_iterator_limited_alt_2` does not repeat code, similar to my answer to question 4.  "
   ]
  },
  {
   "cell_type": "markdown",
   "id": "859819b4-81e1-45cb-854c-f665c9d1d839",
   "metadata": {},
   "source": [
    "**Q7**: `pass` is an unusual control flow keyword that most languages don’t have. What does `pass` do? Why does Python benefit from having it, while most programming languages would not benefit (or not as much)?"
   ]
  },
  {
   "cell_type": "markdown",
   "id": "acb62435-fb7a-438d-8162-1e7e5516b279",
   "metadata": {},
   "source": [
    "`pass` does nothing. Python benefits from having it because whitespace is syntactically significant. Sometimes loops, functions, and/or classes require your block to have something in it, even if it does nothing. Other languages (like C and C++) usually surround blocks braces `{}` or require statements to have an ending character (like the dreaded `;`) and therefore a pass statement is unnecessary. Or they may require something like `end` to be written to end a block, which likewise facilitates writing empty blocks."
   ]
  },
  {
   "cell_type": "markdown",
   "id": "165afa2f-4bb8-40a3-9d96-3d98d11667dd",
   "metadata": {},
   "source": [
    "**Q8**: `pass` doesn’t generally do the same thing as `return`, but in one of its most common uses, replacing it with `return` does not affect the behavior of the code. Show that use. Then show a use where replacing it with `return`, or with any other control flow keyword, behaves differently."
   ]
  },
  {
   "cell_type": "code",
   "execution_count": 21,
   "id": "70625909-b164-4569-8a3a-86e2b2cc53c4",
   "metadata": {},
   "outputs": [],
   "source": [
    "def do_nothing_one(): \n",
    "    pass"
   ]
  },
  {
   "cell_type": "code",
   "execution_count": 22,
   "id": "f995442b-420b-47f7-b4fc-d03de80ac23e",
   "metadata": {},
   "outputs": [],
   "source": [
    "def do_nothing_two(): \n",
    "    return "
   ]
  },
  {
   "cell_type": "code",
   "execution_count": 23,
   "id": "c58334d7-416c-46e4-be17-9550a2ae672b",
   "metadata": {},
   "outputs": [],
   "source": [
    "do_nothing_one()"
   ]
  },
  {
   "cell_type": "code",
   "execution_count": 24,
   "id": "5d5aa643-9198-4ea7-8d39-538a2d85f469",
   "metadata": {},
   "outputs": [],
   "source": [
    "do_nothing_two()"
   ]
  },
  {
   "cell_type": "code",
   "execution_count": 25,
   "id": "4edff076-1c80-47e3-b54c-adc43e2d7ee3",
   "metadata": {},
   "outputs": [],
   "source": [
    "def stop_at_4_1():\n",
    "    for x in range(1, 5): \n",
    "        print(x)\n",
    "        pass      # Does nothing"
   ]
  },
  {
   "cell_type": "code",
   "execution_count": 26,
   "id": "b9fe486b-5c50-4b63-a224-4d88bbfd4a36",
   "metadata": {},
   "outputs": [],
   "source": [
    "def stop_at_4_2():\n",
    "    for x in range(1, 5): \n",
    "        print(x)\n",
    "        return    # !!!!! OH NOOOZ"
   ]
  },
  {
   "cell_type": "code",
   "execution_count": 27,
   "id": "8afd3b87-8fd4-4468-9c4c-86bbb3f04ec5",
   "metadata": {},
   "outputs": [
    {
     "name": "stdout",
     "output_type": "stream",
     "text": [
      "1\n",
      "2\n",
      "3\n",
      "4\n"
     ]
    }
   ],
   "source": [
    "stop_at_4_1()"
   ]
  },
  {
   "cell_type": "code",
   "execution_count": 28,
   "id": "375214f2-d0e7-4b96-913a-565ffe2d75a5",
   "metadata": {},
   "outputs": [
    {
     "name": "stdout",
     "output_type": "stream",
     "text": [
      "1\n"
     ]
    }
   ],
   "source": [
    "stop_at_4_2()"
   ]
  },
  {
   "cell_type": "markdown",
   "id": "928b290d-fd0f-42ab-ab5d-9bab821aba76",
   "metadata": {},
   "source": [
    "**Q9**: Does `return` in a `try` block immediately transfer control to an associated `finally` block? Show code that is either an example of this or a demonstration of why it does not occur. (Make sure it behaves differently than if `return` were absent.)\n",
    "\n",
    "Follow-up question: If control is not transferred to the `finally` block, does that mean a `finally` block—and thus the cleanup it seeks to ensure—can be suppressed by returning directly from a `try` block? (If control *is* transferred to the `finally` block, then answer hypothetically.)"
   ]
  },
  {
   "cell_type": "markdown",
   "id": "054a2774-8f33-4789-968a-840757dda662",
   "metadata": {},
   "source": [
    "Yes: "
   ]
  },
  {
   "cell_type": "code",
   "execution_count": 29,
   "id": "0385de60-5347-4fec-87c4-ba82c5d23a27",
   "metadata": {},
   "outputs": [],
   "source": [
    "def returns_3(): \n",
    "    try: \n",
    "        return 3\n",
    "    finally: \n",
    "        print(\"Got Here\")"
   ]
  },
  {
   "cell_type": "code",
   "execution_count": 30,
   "id": "92d416dd-d80f-4df6-8e95-4c238f1b7b27",
   "metadata": {},
   "outputs": [
    {
     "name": "stdout",
     "output_type": "stream",
     "text": [
      "Got Here\n"
     ]
    },
    {
     "data": {
      "text/plain": [
       "3"
      ]
     },
     "execution_count": 30,
     "metadata": {},
     "output_type": "execute_result"
    }
   ],
   "source": [
    "returns_3()"
   ]
  },
  {
   "cell_type": "markdown",
   "id": "da80c16e-b541-455b-b356-58fa0a407f4e",
   "metadata": {},
   "source": [
    "If `finally` didn’t transfer control then returning directly *would* suppress the cleanup. However, as stated above, this is *not* how it works, and you can’t suppress the cleanup in this way since the return directly transfers control to the `finally` block. "
   ]
  },
  {
   "cell_type": "markdown",
   "id": "22f03434-5f41-4e7e-bb24-6d374a0fa672",
   "metadata": {},
   "source": [
    "**Q10**: Does `raise` in a `try` block immediately transfer control to an associated `finally` block? Show code that is either an example of this or a demonstration of why it does not occur."
   ]
  },
  {
   "cell_type": "markdown",
   "id": "e82c1717-929e-4f23-a0cf-738604c1ea44",
   "metadata": {},
   "source": [
    "Sometimes: if an un-caught exception is raised, the `finally` block runs before the exception propagates out. However, the whole point of `finally` in the `try`-`except`-`else`-`finally` framework is that `finally` is what runs *after* everything, and thus if an exception is caught, or if there is an `else` block, those blocks run first.  "
   ]
  },
  {
   "cell_type": "code",
   "execution_count": 31,
   "id": "a05e9eb1-0708-47d2-913c-7bf11a150b5b",
   "metadata": {},
   "outputs": [],
   "source": [
    "def raise_verror(): \n",
    "    try: \n",
    "        raise ValueError\n",
    "    finally: \n",
    "        print(\"Got Here\")"
   ]
  },
  {
   "cell_type": "code",
   "execution_count": 32,
   "id": "5bf4d2a3-276a-47a3-b2b2-a61acd89b5a3",
   "metadata": {
    "tags": [
     "raises-exception"
    ]
   },
   "outputs": [
    {
     "name": "stdout",
     "output_type": "stream",
     "text": [
      "Got Here\n"
     ]
    },
    {
     "ename": "ValueError",
     "evalue": "",
     "output_type": "error",
     "traceback": [
      "\u001b[1;31m---------------------------------------------------------------------------\u001b[0m",
      "\u001b[1;31mValueError\u001b[0m                                Traceback (most recent call last)",
      "Cell \u001b[1;32mIn[32], line 1\u001b[0m\n\u001b[1;32m----> 1\u001b[0m \u001b[43mraise_verror\u001b[49m\u001b[43m(\u001b[49m\u001b[43m)\u001b[49m\n",
      "Cell \u001b[1;32mIn[31], line 3\u001b[0m, in \u001b[0;36mraise_verror\u001b[1;34m()\u001b[0m\n\u001b[0;32m      1\u001b[0m \u001b[38;5;28;01mdef\u001b[39;00m \u001b[38;5;21mraise_verror\u001b[39m(): \n\u001b[0;32m      2\u001b[0m     \u001b[38;5;28;01mtry\u001b[39;00m: \n\u001b[1;32m----> 3\u001b[0m         \u001b[38;5;28;01mraise\u001b[39;00m \u001b[38;5;167;01mValueError\u001b[39;00m\n\u001b[0;32m      4\u001b[0m     \u001b[38;5;28;01mfinally\u001b[39;00m: \n\u001b[0;32m      5\u001b[0m         \u001b[38;5;28mprint\u001b[39m(\u001b[38;5;124m\"\u001b[39m\u001b[38;5;124mGot Here\u001b[39m\u001b[38;5;124m\"\u001b[39m)\n",
      "\u001b[1;31mValueError\u001b[0m: "
     ]
    }
   ],
   "source": [
    "raise_verror()"
   ]
  },
  {
   "cell_type": "code",
   "execution_count": 33,
   "id": "b3b641c2-f721-4de7-83c9-1c9b6c37e4bf",
   "metadata": {},
   "outputs": [],
   "source": [
    "def raise_w_except(): \n",
    "    try: \n",
    "        raise ValueError\n",
    "    except ValueError: \n",
    "        print(\"Caught ValueError\")\n",
    "    finally: \n",
    "        print(\"Finally block\")"
   ]
  },
  {
   "cell_type": "code",
   "execution_count": 34,
   "id": "7cd1f606-9cba-4bb8-b4b9-8b67c4d87d5a",
   "metadata": {},
   "outputs": [
    {
     "name": "stdout",
     "output_type": "stream",
     "text": [
      "Caught ValueError\n",
      "Finally block\n"
     ]
    }
   ],
   "source": [
    "raise_w_except()"
   ]
  },
  {
   "cell_type": "code",
   "execution_count": 35,
   "id": "2b81f9f1-d2db-4aef-8cdf-fdc413428596",
   "metadata": {},
   "outputs": [],
   "source": [
    "def noexcept_else_finally(): \n",
    "    try: \n",
    "        print(\"Try block\")\n",
    "    except ValueError: \n",
    "        print(\"Caught ValueError\")\n",
    "    else: \n",
    "        print(\"No ValueError: Else block\")\n",
    "    finally: \n",
    "        print(\"Finally block\")"
   ]
  },
  {
   "cell_type": "code",
   "execution_count": 36,
   "id": "b92f70f9-141d-4f43-bc07-bc9677b70011",
   "metadata": {},
   "outputs": [
    {
     "name": "stdout",
     "output_type": "stream",
     "text": [
      "Try block\n",
      "No ValueError: Else block\n",
      "Finally block\n"
     ]
    }
   ],
   "source": [
    "noexcept_else_finally()"
   ]
  },
  {
   "cell_type": "markdown",
   "id": "02429a7f-02ef-49f1-82b3-5bec2012a7a2",
   "metadata": {},
   "source": [
    "**Q11**: Can `break` in a `try` block immediately transfer control to an associated `finally` block? Show code that is either an example of this or a demonstration of why it cannot occur. (Make sure it behaves differently than if `break` were absent. Also make sure it behaves differently than if the code in the `try` block after `break` were absent. This might involve guarding the `break` with `if`.)"
   ]
  },
  {
   "cell_type": "markdown",
   "id": "2f0820d3-ae86-4478-85b2-82ec21f997d6",
   "metadata": {},
   "source": [
    "Yes: "
   ]
  },
  {
   "cell_type": "code",
   "execution_count": 37,
   "id": "85cdf52c-82d4-4eb8-a597-cde02fbe182d",
   "metadata": {},
   "outputs": [],
   "source": [
    "def break_if_arg_1(arg): \n",
    "    for x in range(3):\n",
    "        try: \n",
    "            print(f\"{x=} {arg=}\")\n",
    "            if arg == 1: \n",
    "                break\n",
    "            print(\"Not yet at finally\")\n",
    "        finally: \n",
    "            print(\"Finally block\")"
   ]
  },
  {
   "cell_type": "code",
   "execution_count": 38,
   "id": "f0106928-6b7d-4e37-8ecd-f1db44fffba4",
   "metadata": {},
   "outputs": [
    {
     "name": "stdout",
     "output_type": "stream",
     "text": [
      "x=0 arg=0\n",
      "Not yet at finally\n",
      "Finally block\n",
      "x=1 arg=0\n",
      "Not yet at finally\n",
      "Finally block\n",
      "x=2 arg=0\n",
      "Not yet at finally\n",
      "Finally block\n"
     ]
    }
   ],
   "source": [
    "break_if_arg_1(0)"
   ]
  },
  {
   "cell_type": "code",
   "execution_count": 39,
   "id": "8f530967-9cf2-4fef-a6ba-d8315894b3fd",
   "metadata": {},
   "outputs": [
    {
     "name": "stdout",
     "output_type": "stream",
     "text": [
      "x=0 arg=1\n",
      "Finally block\n"
     ]
    }
   ],
   "source": [
    "break_if_arg_1(1)"
   ]
  },
  {
   "cell_type": "markdown",
   "id": "60aff3a8-8104-4645-a974-8eadb5081d8f",
   "metadata": {},
   "source": [
    "**Q12:** Can `continue` in a `try` block immediately transfer control to an associated `finally` block? Show code that is either an example of this or a demonstration of why it cannot occur. (Make sure it behaves differently than if `continue` were absent. Also make sure it behaves differently than if the code in the `try` block after `continue` were absent. This might involve guarding the `continue` with `if`.)"
   ]
  },
  {
   "cell_type": "markdown",
   "id": "838ef198-4e3c-4383-a762-044c182fb785",
   "metadata": {},
   "source": [
    "Yes: "
   ]
  },
  {
   "cell_type": "code",
   "execution_count": 40,
   "id": "2e220ef6-013c-44b8-96a3-1057cc36a634",
   "metadata": {},
   "outputs": [],
   "source": [
    "def continue_if_arg_1(arg): \n",
    "    for x in range(3):\n",
    "        try: \n",
    "            print(f\"{x=} {arg=}\")\n",
    "            if arg == 1: \n",
    "                continue\n",
    "            print(\"Not yet at finally\")\n",
    "        finally: \n",
    "            print(\"Finally block\")"
   ]
  },
  {
   "cell_type": "code",
   "execution_count": 41,
   "id": "6a9a7646-9b50-4a0d-926d-ed0d02cb2ae8",
   "metadata": {},
   "outputs": [
    {
     "name": "stdout",
     "output_type": "stream",
     "text": [
      "x=0 arg=0\n",
      "Not yet at finally\n",
      "Finally block\n",
      "x=1 arg=0\n",
      "Not yet at finally\n",
      "Finally block\n",
      "x=2 arg=0\n",
      "Not yet at finally\n",
      "Finally block\n"
     ]
    }
   ],
   "source": [
    "continue_if_arg_1(0)"
   ]
  },
  {
   "cell_type": "code",
   "execution_count": 42,
   "id": "33b60d31-6fe9-4bc4-9b0b-c97c10c3fa38",
   "metadata": {},
   "outputs": [
    {
     "name": "stdout",
     "output_type": "stream",
     "text": [
      "x=0 arg=1\n",
      "Finally block\n",
      "x=1 arg=1\n",
      "Finally block\n",
      "x=2 arg=1\n",
      "Finally block\n"
     ]
    }
   ],
   "source": [
    "continue_if_arg_1(1)"
   ]
  },
  {
   "cell_type": "markdown",
   "id": "9c7e9e83-2c8b-45c7-99f2-a99ef13f9fea",
   "metadata": {},
   "source": [
    "**Q13:** The most common ways to attempt to quit a Python program are calling `exit` or `quit`, which is best only done in a REPL (because in rare cases they are unavailable), or calling `sys.exit`, which is the recommended way for general use. Does attempting to quit a program by calling one of those functions in a `try` block immediately transfer control to an associated `finally` block? The answer is the same whichever of those three functions you use. Show code that is either an example of this or a demonstration of why it does not occur. Use `sys.exit` in this code."
   ]
  },
  {
   "cell_type": "markdown",
   "id": "a99dd7fd-7afd-480d-b2e4-82fe6826a79b",
   "metadata": {},
   "source": [
    "Yes: "
   ]
  },
  {
   "cell_type": "code",
   "execution_count": 43,
   "id": "58e034ba-ea57-4e1f-8585-3e9e45bed815",
   "metadata": {},
   "outputs": [],
   "source": [
    "import sys"
   ]
  },
  {
   "cell_type": "code",
   "execution_count": 44,
   "id": "18a15d9f-56c8-431a-8cc2-ca2fd2fc13af",
   "metadata": {},
   "outputs": [],
   "source": [
    "def bail():\n",
    "    try: \n",
    "        sys.exit()\n",
    "    finally: \n",
    "        print(\"Finally block.\")"
   ]
  },
  {
   "cell_type": "code",
   "execution_count": 45,
   "id": "41aa9912-a79c-4286-8e98-1808399c6c4d",
   "metadata": {
    "tags": [
     "raises-exception"
    ]
   },
   "outputs": [
    {
     "name": "stdout",
     "output_type": "stream",
     "text": [
      "Finally block.\n"
     ]
    },
    {
     "ename": "SystemExit",
     "evalue": "",
     "output_type": "error",
     "traceback": [
      "An exception has occurred, use %tb to see the full traceback.\n",
      "\u001b[1;31mSystemExit\u001b[0m\n"
     ]
    },
    {
     "name": "stderr",
     "output_type": "stream",
     "text": [
      "C:\\Users\\ek\\AppData\\Local\\Packages\\PythonSoftwareFoundation.Python.3.11_qbz5n2kfra8p0\\LocalCache\\Local\\pypoetry\\Cache\\virtualenvs\\palgoviz-lwOIxvvJ-py3.11\\Lib\\site-packages\\IPython\\core\\interactiveshell.py:3441: UserWarning: To exit: use 'exit', 'quit', or Ctrl-D.\n",
      "  warn(\"To exit: use 'exit', 'quit', or Ctrl-D.\", stacklevel=1)\n"
     ]
    }
   ],
   "source": [
    "bail()"
   ]
  },
  {
   "cell_type": "markdown",
   "id": "94fb51ce-9a97-4112-87b7-1aafee07a5af",
   "metadata": {},
   "source": [
    "**Q14**: To better demonstrate the above, write code with a very similar or identical effect (in particular, that likewise tries to quit), but that does not call `exit`, `quit`, or `sys.exit`."
   ]
  },
  {
   "cell_type": "code",
   "execution_count": 46,
   "id": "52126978-9def-4945-8d51-72669884c3e3",
   "metadata": {},
   "outputs": [],
   "source": [
    "def raise_systemexit():\n",
    "    try: \n",
    "        raise SystemExit\n",
    "    finally: \n",
    "        print(\"Finally block.\")"
   ]
  },
  {
   "cell_type": "code",
   "execution_count": 47,
   "id": "b17b355d-647e-4621-8132-907f0d612b22",
   "metadata": {
    "tags": [
     "raises-exception"
    ]
   },
   "outputs": [
    {
     "name": "stdout",
     "output_type": "stream",
     "text": [
      "Finally block.\n"
     ]
    },
    {
     "ename": "SystemExit",
     "evalue": "",
     "output_type": "error",
     "traceback": [
      "An exception has occurred, use %tb to see the full traceback.\n",
      "\u001b[1;31mSystemExit\u001b[0m\n"
     ]
    }
   ],
   "source": [
    "raise_systemexit()"
   ]
  },
  {
   "cell_type": "markdown",
   "id": "d013e5aa-9137-44c2-8907-827d469aee96",
   "metadata": {},
   "source": [
    "**Q15**: Can `assert` in `try` block immediately transfer control to an associated `finally` block? Show code that is either an example of this or a demonstration of why it cannot occur."
   ]
  },
  {
   "cell_type": "markdown",
   "id": "624f9465-b463-4d91-8897-5370ee9f086d",
   "metadata": {},
   "source": [
    "Yes: "
   ]
  },
  {
   "cell_type": "code",
   "execution_count": 48,
   "id": "296c222e-3a4c-4c07-bbb2-abe6ba8ad265",
   "metadata": {},
   "outputs": [],
   "source": [
    "def assert_falsy(): \n",
    "    try: \n",
    "        assert 0\n",
    "        print(\"Not yet at finally block.\")\n",
    "    finally: \n",
    "        print(\"Finally block.\")"
   ]
  },
  {
   "cell_type": "code",
   "execution_count": 49,
   "id": "12241db2-b08c-46b3-8065-2fac4950c04b",
   "metadata": {
    "tags": [
     "raises-exception"
    ]
   },
   "outputs": [
    {
     "name": "stdout",
     "output_type": "stream",
     "text": [
      "Finally block.\n"
     ]
    },
    {
     "ename": "AssertionError",
     "evalue": "",
     "output_type": "error",
     "traceback": [
      "\u001b[1;31m---------------------------------------------------------------------------\u001b[0m",
      "\u001b[1;31mAssertionError\u001b[0m                            Traceback (most recent call last)",
      "Cell \u001b[1;32mIn[49], line 1\u001b[0m\n\u001b[1;32m----> 1\u001b[0m \u001b[43massert_falsy\u001b[49m\u001b[43m(\u001b[49m\u001b[43m)\u001b[49m\n",
      "Cell \u001b[1;32mIn[48], line 3\u001b[0m, in \u001b[0;36massert_falsy\u001b[1;34m()\u001b[0m\n\u001b[0;32m      1\u001b[0m \u001b[38;5;28;01mdef\u001b[39;00m \u001b[38;5;21massert_falsy\u001b[39m(): \n\u001b[0;32m      2\u001b[0m     \u001b[38;5;28;01mtry\u001b[39;00m: \n\u001b[1;32m----> 3\u001b[0m         \u001b[38;5;28;01massert\u001b[39;00m \u001b[38;5;241m0\u001b[39m\n\u001b[0;32m      4\u001b[0m         \u001b[38;5;28mprint\u001b[39m(\u001b[38;5;124m\"\u001b[39m\u001b[38;5;124mNot yet at finally block.\u001b[39m\u001b[38;5;124m\"\u001b[39m)\n\u001b[0;32m      5\u001b[0m     \u001b[38;5;28;01mfinally\u001b[39;00m: \n",
      "\u001b[1;31mAssertionError\u001b[0m: "
     ]
    }
   ],
   "source": [
    "assert_falsy()"
   ]
  },
  {
   "cell_type": "markdown",
   "id": "9e8c0b7d-75d2-4f9b-a104-9aad0664f254",
   "metadata": {},
   "source": [
    "**Q16**: To better demonstrate the above, write code with a similar effect, checking a condition and responding the same way `assert` does if the condition is false, without using `assert`. (But it is okay if your message lacks the details `assert` provides.)"
   ]
  },
  {
   "cell_type": "code",
   "execution_count": 50,
   "id": "34342def-9444-4022-aa2e-565baa899d97",
   "metadata": {},
   "outputs": [],
   "source": [
    "def my_assert(condition, message=None):\n",
    "    if condition: \n",
    "        return \n",
    "    if message is None: \n",
    "        raise AssertionError()\n",
    "    raise AssertionError(message)"
   ]
  },
  {
   "cell_type": "code",
   "execution_count": 51,
   "id": "04302758-ad7c-42d2-bea9-cb80a4227bfd",
   "metadata": {},
   "outputs": [
    {
     "name": "stdout",
     "output_type": "stream",
     "text": [
      "()\n"
     ]
    }
   ],
   "source": [
    "try:\n",
    "    assert False\n",
    "except AssertionError as error:\n",
    "    print(error.args)"
   ]
  },
  {
   "cell_type": "code",
   "execution_count": 52,
   "id": "bc0c0514-d2ea-41f1-805f-8b92882069c1",
   "metadata": {},
   "outputs": [
    {
     "name": "stdout",
     "output_type": "stream",
     "text": [
      "()\n"
     ]
    }
   ],
   "source": [
    "try:\n",
    "    my_assert(False)\n",
    "except AssertionError as error:\n",
    "    print(error.args)"
   ]
  },
  {
   "cell_type": "code",
   "execution_count": 53,
   "id": "b68180d7-2905-415b-894f-02786483a7c2",
   "metadata": {},
   "outputs": [
    {
     "name": "stdout",
     "output_type": "stream",
     "text": [
      "('My message',)\n"
     ]
    }
   ],
   "source": [
    "try:\n",
    "    my_assert(False, \"My message\")\n",
    "except AssertionError as error:\n",
    "    print(error.args)"
   ]
  },
  {
   "cell_type": "code",
   "execution_count": 54,
   "id": "dcee509c-267f-424d-a526-1a23bf587c92",
   "metadata": {},
   "outputs": [],
   "source": [
    "def manual_assert_falsy(): \n",
    "    try:  \n",
    "        my_assert(0)\n",
    "        print(\"Not yet at finally block.\")\n",
    "    finally: \n",
    "        print(\"Finally block\")"
   ]
  },
  {
   "cell_type": "code",
   "execution_count": 55,
   "id": "fef65612-5a58-4230-a6c5-2a24514eab01",
   "metadata": {
    "tags": [
     "raises-exception"
    ]
   },
   "outputs": [
    {
     "name": "stdout",
     "output_type": "stream",
     "text": [
      "Finally block\n"
     ]
    },
    {
     "ename": "AssertionError",
     "evalue": "",
     "output_type": "error",
     "traceback": [
      "\u001b[1;31m---------------------------------------------------------------------------\u001b[0m",
      "\u001b[1;31mAssertionError\u001b[0m                            Traceback (most recent call last)",
      "Cell \u001b[1;32mIn[55], line 1\u001b[0m\n\u001b[1;32m----> 1\u001b[0m \u001b[43mmanual_assert_falsy\u001b[49m\u001b[43m(\u001b[49m\u001b[43m)\u001b[49m\n",
      "Cell \u001b[1;32mIn[54], line 3\u001b[0m, in \u001b[0;36mmanual_assert_falsy\u001b[1;34m()\u001b[0m\n\u001b[0;32m      1\u001b[0m \u001b[38;5;28;01mdef\u001b[39;00m \u001b[38;5;21mmanual_assert_falsy\u001b[39m(): \n\u001b[0;32m      2\u001b[0m     \u001b[38;5;28;01mtry\u001b[39;00m:  \n\u001b[1;32m----> 3\u001b[0m         \u001b[43mmy_assert\u001b[49m\u001b[43m(\u001b[49m\u001b[38;5;241;43m0\u001b[39;49m\u001b[43m)\u001b[49m\n\u001b[0;32m      4\u001b[0m         \u001b[38;5;28mprint\u001b[39m(\u001b[38;5;124m\"\u001b[39m\u001b[38;5;124mNot yet at finally block.\u001b[39m\u001b[38;5;124m\"\u001b[39m)\n\u001b[0;32m      5\u001b[0m     \u001b[38;5;28;01mfinally\u001b[39;00m: \n",
      "Cell \u001b[1;32mIn[50], line 5\u001b[0m, in \u001b[0;36mmy_assert\u001b[1;34m(condition, message)\u001b[0m\n\u001b[0;32m      3\u001b[0m     \u001b[38;5;28;01mreturn\u001b[39;00m \n\u001b[0;32m      4\u001b[0m \u001b[38;5;28;01mif\u001b[39;00m message \u001b[38;5;129;01mis\u001b[39;00m \u001b[38;5;28;01mNone\u001b[39;00m: \n\u001b[1;32m----> 5\u001b[0m     \u001b[38;5;28;01mraise\u001b[39;00m \u001b[38;5;167;01mAssertionError\u001b[39;00m()\n\u001b[0;32m      6\u001b[0m \u001b[38;5;28;01mraise\u001b[39;00m \u001b[38;5;167;01mAssertionError\u001b[39;00m(message)\n",
      "\u001b[1;31mAssertionError\u001b[0m: "
     ]
    }
   ],
   "source": [
    "manual_assert_falsy()"
   ]
  },
  {
   "cell_type": "markdown",
   "id": "a5d8cc6e-e293-4948-8d4d-3d3e9e5217f4",
   "metadata": {},
   "source": [
    "**Q17**: The answer to *at least* two of Q9-Q16 was yes. Thus, there are at least two examples above of a control flow statement in a `try` block transferring control directly to a `finally` block. In those examples (however many there were), was the usual effect of that control flow statement suppressed, or did it occur? If it did occur, when did it occur?"
   ]
  },
  {
   "cell_type": "markdown",
   "id": "90a1702a-b349-4020-af90-9005a060e0ba",
   "metadata": {},
   "source": [
    "No, in all of the examples, the usual effect of the control flow statement was not suppressed, but simply occurred after the code in the finally block ran. This can be seen by looking at my answers and noting that after “finally block” the code ran as if the finally block wasn’t there. "
   ]
  },
  {
   "cell_type": "markdown",
   "id": "43492674-a384-4f5b-89ff-d843e7328d2e",
   "metadata": {},
   "source": [
    "**Q18**: *This relates closely to Q17 above.* When control is transferred to a `finally` block on its way somewhere else, it is possible for the `finally` block to suppress the transfer to the “intended” destination. It is also possible, and more common, for the transfer not to be suppressed. Most likely, only one of those two claims has been demonstrated in this notebook so far. Write code to demonstrate the other."
   ]
  },
  {
   "cell_type": "code",
   "execution_count": 56,
   "id": "b00eea86-856b-41ce-8ba9-8a99dac06c88",
   "metadata": {},
   "outputs": [],
   "source": [
    "def attempt_to_return_3(): \n",
    "    try: \n",
    "        return 3\n",
    "    finally: \n",
    "        raise ValueError()"
   ]
  },
  {
   "cell_type": "code",
   "execution_count": 57,
   "id": "89cdba6b-f67d-4300-a8a3-acbf591853f5",
   "metadata": {
    "tags": [
     "raises-exception"
    ]
   },
   "outputs": [
    {
     "ename": "ValueError",
     "evalue": "",
     "output_type": "error",
     "traceback": [
      "\u001b[1;31m---------------------------------------------------------------------------\u001b[0m",
      "\u001b[1;31mValueError\u001b[0m                                Traceback (most recent call last)",
      "Cell \u001b[1;32mIn[57], line 1\u001b[0m\n\u001b[1;32m----> 1\u001b[0m \u001b[43mattempt_to_return_3\u001b[49m\u001b[43m(\u001b[49m\u001b[43m)\u001b[49m\n",
      "Cell \u001b[1;32mIn[56], line 5\u001b[0m, in \u001b[0;36mattempt_to_return_3\u001b[1;34m()\u001b[0m\n\u001b[0;32m      3\u001b[0m     \u001b[38;5;28;01mreturn\u001b[39;00m \u001b[38;5;241m3\u001b[39m\n\u001b[0;32m      4\u001b[0m \u001b[38;5;28;01mfinally\u001b[39;00m: \n\u001b[1;32m----> 5\u001b[0m     \u001b[38;5;28;01mraise\u001b[39;00m \u001b[38;5;167;01mValueError\u001b[39;00m()\n",
      "\u001b[1;31mValueError\u001b[0m: "
     ]
    }
   ],
   "source": [
    "attempt_to_return_3()"
   ]
  },
  {
   "cell_type": "code",
   "execution_count": 58,
   "id": "c24dd260-f4b4-461f-a823-b76c50daf7f0",
   "metadata": {},
   "outputs": [],
   "source": [
    "def attempt_to_return_3_noexcept(): \n",
    "    try: \n",
    "        return 3\n",
    "    finally: \n",
    "        return 5"
   ]
  },
  {
   "cell_type": "code",
   "execution_count": 59,
   "id": "8c17dbf2-bbb2-4945-aa6e-f238930d6bbb",
   "metadata": {},
   "outputs": [
    {
     "data": {
      "text/plain": [
       "5"
      ]
     },
     "execution_count": 59,
     "metadata": {},
     "output_type": "execute_result"
    }
   ],
   "source": [
    "attempt_to_return_3_noexcept()"
   ]
  },
  {
   "cell_type": "code",
   "execution_count": 60,
   "id": "6f0290e1-2df3-47d5-bbcc-e23282c485c3",
   "metadata": {},
   "outputs": [],
   "source": [
    "def attempt_to_raise_ValueError():\n",
    "    try:\n",
    "        raise ValueError\n",
    "    finally:\n",
    "        raise TypeError  # Uh oh."
   ]
  },
  {
   "cell_type": "code",
   "execution_count": 61,
   "id": "39697205-86b8-4cbf-a5aa-153bd3107c9c",
   "metadata": {
    "tags": [
     "raises-exception"
    ]
   },
   "outputs": [
    {
     "ename": "TypeError",
     "evalue": "",
     "output_type": "error",
     "traceback": [
      "\u001b[1;31m---------------------------------------------------------------------------\u001b[0m",
      "\u001b[1;31mValueError\u001b[0m                                Traceback (most recent call last)",
      "Cell \u001b[1;32mIn[60], line 3\u001b[0m, in \u001b[0;36mattempt_to_raise_ValueError\u001b[1;34m()\u001b[0m\n\u001b[0;32m      2\u001b[0m \u001b[38;5;28;01mtry\u001b[39;00m:\n\u001b[1;32m----> 3\u001b[0m     \u001b[38;5;28;01mraise\u001b[39;00m \u001b[38;5;167;01mValueError\u001b[39;00m\n\u001b[0;32m      4\u001b[0m \u001b[38;5;28;01mfinally\u001b[39;00m:\n",
      "\u001b[1;31mValueError\u001b[0m: ",
      "\nDuring handling of the above exception, another exception occurred:\n",
      "\u001b[1;31mTypeError\u001b[0m                                 Traceback (most recent call last)",
      "Cell \u001b[1;32mIn[61], line 1\u001b[0m\n\u001b[1;32m----> 1\u001b[0m \u001b[43mattempt_to_raise_ValueError\u001b[49m\u001b[43m(\u001b[49m\u001b[43m)\u001b[49m\n",
      "Cell \u001b[1;32mIn[60], line 5\u001b[0m, in \u001b[0;36mattempt_to_raise_ValueError\u001b[1;34m()\u001b[0m\n\u001b[0;32m      3\u001b[0m     \u001b[38;5;28;01mraise\u001b[39;00m \u001b[38;5;167;01mValueError\u001b[39;00m\n\u001b[0;32m      4\u001b[0m \u001b[38;5;28;01mfinally\u001b[39;00m:\n\u001b[1;32m----> 5\u001b[0m     \u001b[38;5;28;01mraise\u001b[39;00m \u001b[38;5;167;01mTypeError\u001b[39;00m\n",
      "\u001b[1;31mTypeError\u001b[0m: "
     ]
    }
   ],
   "source": [
    "attempt_to_raise_ValueError()"
   ]
  },
  {
   "cell_type": "markdown",
   "id": "cd6c8ef4-84aa-4d77-a849-40abe3af3508",
   "metadata": {},
   "source": [
    "**Q19**: Usually a programmer does not wish a `finally` block to suppress transfer of control from a `try` block to somewhere other than the `finally` block. That is, when control goes from a `try` block to a `finally` block, the programmer usually wants it to *subsequently* transfer from the `finally` block to wherever it would’ve gone if there had been no `finally` block. Explain why this is, and give a general guideline that should usually be followed when writing `finally` blocks."
   ]
  },
  {
   "cell_type": "markdown",
   "id": "ec526e8a-04ed-4b7c-b760-c352ca0be346",
   "metadata": {},
   "source": [
    "The reason is `finally` is primarily for cleanup, so not subsequently transferring from the `finally` block to the intended destination is itself usually a bug, or can lead bugs that are hard to spot.\n",
    "\n",
    "General guideline: Don’t raise an exception or return in a `finally` block. This kind of thing can also happen with `break` and `continue`. "
   ]
  },
  {
   "cell_type": "markdown",
   "id": "e18bbd77-353e-4328-ac92-aaa824e73cb0",
   "metadata": {},
   "source": [
    "**Q20**: Usually you should not write finalizers (`__del__` methods), but when you do, there are some things you should almost always avoid doing in them. One of those things relates to the insight you just expressed about `finally` blocks. What is that?"
   ]
  },
  {
   "cell_type": "markdown",
   "id": "adc01bfe-ee5b-4eb9-82b5-921f2dfe2790",
   "metadata": {},
   "source": [
    "You should not raise exceptions in a finalizer. [Exceptions are ignored, and a warning is printed instead.](https://docs.python.org/3/reference/datamodel.html#object.__del__)\n",
    "\n",
    "If exceptions are raised from either a `finally` block or were raised from a `__del__` method, control would leaving from something that itself is supposed to be cleanup. As shown above, this can lead to some nasty bugs with `finally`, since you may be have unintended exceptions raised instead of intended ones. If `__del__` allowed exceptions to propagate out, the situation would be much worse. This is because `__del__` can run at any time and it would be difficult to debug code if any exception could be raised at any time. "
   ]
  },
  {
   "cell_type": "markdown",
   "id": "62c201a0-6179-4f03-bb68-b5776fecaa83",
   "metadata": {},
   "source": [
    "**Q21**: Some of the insights above are (or were) relevant to simplifying `functions.count_tree_nodes_instrumented`. Explain."
   ]
  },
  {
   "cell_type": "markdown",
   "id": "6a8ea36c-1791-4163-8c76-538116f403a8",
   "metadata": {},
   "source": [
    "One key insight was understanding how decorators behave with respect to the name of a decorated function. When decorating a function, the name is bound to the function returned by the decorator. Thus, when called recursively, the recursive calls will act with the decorated behavior. This is similar to calling the decorator manually and re-assigning the result to the original name, as we do in the in statement `count_tree_nodes = peek_return(count_tree_nodes)`. This produces an effect similar to decorating the original definition. In question 10 under “Decorators review,” we notably *don't* do this for the `weird_countdown` function, and thus only the first call is wrapped by the wrapping decorator `reports`.\n",
    "\n",
    "Another key insight was that control is immediately transferred to the `finally` block before going to the intended destination from a `try` block, including upon an exception. This made it safe to write `return count_tree_nodes(root)` in the `try` block rather than storing the return value."
   ]
  },
  {
   "cell_type": "markdown",
   "id": "e1775ad2-222c-47da-a995-311e7ee6d958",
   "metadata": {},
   "source": [
    "**Q22**: Write a class whose instances are context manager objects that, when exited, print a message. (This will soon be useful for showing when a `with` statement performs cleanup, i.e., for showing when it exits the context manager.)"
   ]
  },
  {
   "cell_type": "code",
   "execution_count": 62,
   "id": "ebb23705-020b-4561-b60f-1360cb197c3f",
   "metadata": {},
   "outputs": [],
   "source": [
    "class PrintsWhenExit: \n",
    "    \n",
    "    def __enter__(self):\n",
    "        pass\n",
    "        \n",
    "    def __exit__(self, exc_type, exc_value, traceback):\n",
    "        print(\"Exiting\")"
   ]
  },
  {
   "cell_type": "code",
   "execution_count": 63,
   "id": "c61caa9f-3400-44d7-b621-be3a67b16af7",
   "metadata": {},
   "outputs": [
    {
     "name": "stdout",
     "output_type": "stream",
     "text": [
      "doing stuff.\n",
      "Exiting\n"
     ]
    }
   ],
   "source": [
    "with PrintsWhenExit() as pwe:\n",
    "    print(\"doing stuff.\")"
   ]
  },
  {
   "cell_type": "markdown",
   "id": "1c5f0b29-aadc-40ae-a96e-2484e1c5bc0d",
   "metadata": {},
   "source": [
    "**Q23**: Does `return` in a `with` statement cause the context manager to be exited? Show code that is either an example of this or a demonstration of why it does not occur. (Make sure it behaves differently than if `return` were absent.) Also, this behavior is the same as, or different from, the behavior you showed in Q9 above. From the perspective of language design, explain that similarity/difference."
   ]
  },
  {
   "cell_type": "markdown",
   "id": "35697061-9037-4bc8-96ad-c0c580d70707",
   "metadata": {},
   "source": [
    "Yes: "
   ]
  },
  {
   "cell_type": "code",
   "execution_count": 64,
   "id": "0f107a32-758e-47ae-ad7f-ff037835a1c8",
   "metadata": {},
   "outputs": [],
   "source": [
    "def f(): \n",
    "    print(\"Beginning of f\")\n",
    "    with PrintsWhenExit(): \n",
    "        return\n",
    "    print(\"End of f\")"
   ]
  },
  {
   "cell_type": "code",
   "execution_count": 65,
   "id": "5c5c9cf5-8add-448c-b4ca-e8eee056341f",
   "metadata": {},
   "outputs": [
    {
     "name": "stdout",
     "output_type": "stream",
     "text": [
      "Beginning of f\n",
      "Exiting\n"
     ]
    }
   ],
   "source": [
    "f()"
   ]
  },
  {
   "cell_type": "markdown",
   "id": "09a275b3-e9e5-42c3-9e6d-464e87fdc5d3",
   "metadata": {},
   "source": [
    "This behavior is the same as the behavior shown in Q9 above. This similarity makes sense because a `finally` block is conceptually similar to `__exit__`, in that they are both performing needed cleanup.  "
   ]
  },
  {
   "cell_type": "markdown",
   "id": "8b05faeb-792a-470b-9215-2ecb192814ba",
   "metadata": {},
   "source": [
    "**Q24**: Does `raise` in a `with` statement cause the context manager to be exited? Show code that is either an example of this or a demonstration of why it does not occur."
   ]
  },
  {
   "cell_type": "markdown",
   "id": "896f12af-4ed0-4b4f-b508-5e09acf4e92e",
   "metadata": {},
   "source": [
    "Yes: "
   ]
  },
  {
   "cell_type": "code",
   "execution_count": 66,
   "id": "6a7b6c44-e695-4d33-8017-a2e47e82822f",
   "metadata": {},
   "outputs": [],
   "source": [
    "def f(): \n",
    "    print(\"Beginning of f\")\n",
    "    with PrintsWhenExit(): \n",
    "        raise ValueError\n",
    "    print(\"End of f\")"
   ]
  },
  {
   "cell_type": "code",
   "execution_count": 67,
   "id": "da4b7b0f-0f56-48af-975b-86b61a4fee0d",
   "metadata": {
    "tags": [
     "raises-exception"
    ]
   },
   "outputs": [
    {
     "name": "stdout",
     "output_type": "stream",
     "text": [
      "Beginning of f\n",
      "Exiting\n"
     ]
    },
    {
     "ename": "ValueError",
     "evalue": "",
     "output_type": "error",
     "traceback": [
      "\u001b[1;31m---------------------------------------------------------------------------\u001b[0m",
      "\u001b[1;31mValueError\u001b[0m                                Traceback (most recent call last)",
      "Cell \u001b[1;32mIn[67], line 1\u001b[0m\n\u001b[1;32m----> 1\u001b[0m \u001b[43mf\u001b[49m\u001b[43m(\u001b[49m\u001b[43m)\u001b[49m\n",
      "Cell \u001b[1;32mIn[66], line 4\u001b[0m, in \u001b[0;36mf\u001b[1;34m()\u001b[0m\n\u001b[0;32m      2\u001b[0m \u001b[38;5;28mprint\u001b[39m(\u001b[38;5;124m\"\u001b[39m\u001b[38;5;124mBeginning of f\u001b[39m\u001b[38;5;124m\"\u001b[39m)\n\u001b[0;32m      3\u001b[0m \u001b[38;5;28;01mwith\u001b[39;00m PrintsWhenExit(): \n\u001b[1;32m----> 4\u001b[0m     \u001b[38;5;28;01mraise\u001b[39;00m \u001b[38;5;167;01mValueError\u001b[39;00m\n\u001b[0;32m      5\u001b[0m \u001b[38;5;28mprint\u001b[39m(\u001b[38;5;124m\"\u001b[39m\u001b[38;5;124mEnd of f\u001b[39m\u001b[38;5;124m\"\u001b[39m)\n",
      "\u001b[1;31mValueError\u001b[0m: "
     ]
    }
   ],
   "source": [
    "f()"
   ]
  },
  {
   "cell_type": "markdown",
   "id": "98f35df1-7369-4489-a69d-9f56b804c96a",
   "metadata": {},
   "source": [
    "**Q25**: Can `break` in a `with` statement cause the context manager to be exited? Show code that is either an example of this or a demonstration of why it cannot occur. (Make sure it behaves differently than if `break` were absent. Also make sure it behaves differently than if the code in the `with` statement after `break` were absent. This might involve guarding the `break` with `if`.)"
   ]
  },
  {
   "cell_type": "markdown",
   "id": "4351dcd2-25ab-4694-8651-6d17563673b4",
   "metadata": {},
   "source": [
    "Yes: "
   ]
  },
  {
   "cell_type": "code",
   "execution_count": 68,
   "id": "e75f5bb2-bace-489f-a5ee-2f190b67ee5d",
   "metadata": {},
   "outputs": [],
   "source": [
    "def break_if_arg_1(arg): \n",
    "    for x in range(3):\n",
    "        with PrintsWhenExit(): \n",
    "            print(f\"{x=} {arg=}\")\n",
    "            if arg == 1: \n",
    "                break\n",
    "            print(\"End of loop iteration.\")"
   ]
  },
  {
   "cell_type": "code",
   "execution_count": 69,
   "id": "0eae6fc0-6f34-449c-8ed5-8a50277e2c53",
   "metadata": {},
   "outputs": [
    {
     "name": "stdout",
     "output_type": "stream",
     "text": [
      "x=0 arg=0\n",
      "End of loop iteration.\n",
      "Exiting\n",
      "x=1 arg=0\n",
      "End of loop iteration.\n",
      "Exiting\n",
      "x=2 arg=0\n",
      "End of loop iteration.\n",
      "Exiting\n"
     ]
    }
   ],
   "source": [
    "break_if_arg_1(0)"
   ]
  },
  {
   "cell_type": "code",
   "execution_count": 70,
   "id": "1a2d4b40-8d40-4094-9b6d-2a57decb1d87",
   "metadata": {},
   "outputs": [
    {
     "name": "stdout",
     "output_type": "stream",
     "text": [
      "x=0 arg=1\n",
      "Exiting\n"
     ]
    }
   ],
   "source": [
    "break_if_arg_1(1)"
   ]
  },
  {
   "cell_type": "markdown",
   "id": "33593e2c-b45d-4144-bc5e-0c0f64d5af21",
   "metadata": {},
   "source": [
    "**Q26**: Can `continue` in a `with` statement cause the context manager to be exited? Show code that is either an example of this or a demonstration of why it cannot occur. (Make sure it behaves differently than if `continue` were absent. Also make sure it behaves differently than if the code in the `with` statement after `continue` were absent. This might involve guarding the `continue` with `if`.)"
   ]
  },
  {
   "cell_type": "markdown",
   "id": "c48fecb0-3c53-49c0-8285-365901af39bd",
   "metadata": {},
   "source": [
    "Yes:"
   ]
  },
  {
   "cell_type": "code",
   "execution_count": 71,
   "id": "0ed875c8-4287-4488-b7a8-b14078b7e70c",
   "metadata": {},
   "outputs": [],
   "source": [
    "def cont_if_arg_1(arg): \n",
    "    for x in range(3):\n",
    "        with PrintsWhenExit(): \n",
    "            print(f\"{x=} {arg=}\")\n",
    "            if arg == 1: \n",
    "                continue\n",
    "            print(\"End of loop iteration.\")"
   ]
  },
  {
   "cell_type": "code",
   "execution_count": 72,
   "id": "50297eea-b382-4106-bbf9-9d1782a29bae",
   "metadata": {},
   "outputs": [
    {
     "name": "stdout",
     "output_type": "stream",
     "text": [
      "x=0 arg=0\n",
      "End of loop iteration.\n",
      "Exiting\n",
      "x=1 arg=0\n",
      "End of loop iteration.\n",
      "Exiting\n",
      "x=2 arg=0\n",
      "End of loop iteration.\n",
      "Exiting\n"
     ]
    }
   ],
   "source": [
    "cont_if_arg_1(0)"
   ]
  },
  {
   "cell_type": "code",
   "execution_count": 73,
   "id": "762654c3-6075-4ea9-a0b8-fb87ca461b34",
   "metadata": {},
   "outputs": [
    {
     "name": "stdout",
     "output_type": "stream",
     "text": [
      "x=0 arg=1\n",
      "Exiting\n",
      "x=1 arg=1\n",
      "Exiting\n",
      "x=2 arg=1\n",
      "Exiting\n"
     ]
    }
   ],
   "source": [
    "cont_if_arg_1(1)"
   ]
  },
  {
   "cell_type": "markdown",
   "id": "76b1fec3-d05e-4e5b-b9c8-16abd886cf24",
   "metadata": {},
   "source": [
    "**Q27**: Does attempting to quit a program in a `with` statement cause the context manager to be exited? (That is, does it cause the context manager’s cleanup logic to run?) Show code that is either an example of this or a demonstration of why it does not occur."
   ]
  },
  {
   "cell_type": "markdown",
   "id": "5535c319-a752-4495-bf23-2a4905d1eee4",
   "metadata": {},
   "source": [
    "Yes:"
   ]
  },
  {
   "cell_type": "code",
   "execution_count": 74,
   "id": "71ce94d0-46f6-4125-98dd-38126ec07b26",
   "metadata": {},
   "outputs": [],
   "source": [
    "import sys"
   ]
  },
  {
   "cell_type": "code",
   "execution_count": 75,
   "id": "7a3821a3-9756-4dad-a0a9-15a8da6803cb",
   "metadata": {},
   "outputs": [],
   "source": [
    "def bail():\n",
    "    with PrintsWhenExit():\n",
    "        sys.exit()"
   ]
  },
  {
   "cell_type": "code",
   "execution_count": 76,
   "id": "3c9dc66c-a9ec-4dab-92a4-040570fd776a",
   "metadata": {
    "tags": [
     "raises-exception"
    ]
   },
   "outputs": [
    {
     "name": "stdout",
     "output_type": "stream",
     "text": [
      "Exiting\n"
     ]
    },
    {
     "ename": "SystemExit",
     "evalue": "",
     "output_type": "error",
     "traceback": [
      "An exception has occurred, use %tb to see the full traceback.\n",
      "\u001b[1;31mSystemExit\u001b[0m\n"
     ]
    }
   ],
   "source": [
    "bail()"
   ]
  },
  {
   "cell_type": "markdown",
   "id": "98daa335-0cb2-41d0-ac8e-d732ab7c9a43",
   "metadata": {},
   "source": [
    "**Q28**: Can `assert` in a `with` statement cause the context manager to be exited? Show code that is either an example of this or a demonstration of why it cannot occur."
   ]
  },
  {
   "cell_type": "markdown",
   "id": "b97eb3a3-a4ff-4636-ad59-52f0d134fcf6",
   "metadata": {},
   "source": [
    "Yes: "
   ]
  },
  {
   "cell_type": "code",
   "execution_count": 77,
   "id": "f9cc1d08-e313-4778-a113-91aca6dccb43",
   "metadata": {},
   "outputs": [],
   "source": [
    "def assert_falsy(): \n",
    "    with PrintsWhenExit(): \n",
    "        assert 0"
   ]
  },
  {
   "cell_type": "code",
   "execution_count": 78,
   "id": "acc7d6e0-6122-49dc-8fa6-30b09c8ea892",
   "metadata": {
    "tags": [
     "raises-exception"
    ]
   },
   "outputs": [
    {
     "name": "stdout",
     "output_type": "stream",
     "text": [
      "Exiting\n"
     ]
    },
    {
     "ename": "AssertionError",
     "evalue": "",
     "output_type": "error",
     "traceback": [
      "\u001b[1;31m---------------------------------------------------------------------------\u001b[0m",
      "\u001b[1;31mAssertionError\u001b[0m                            Traceback (most recent call last)",
      "Cell \u001b[1;32mIn[78], line 1\u001b[0m\n\u001b[1;32m----> 1\u001b[0m \u001b[43massert_falsy\u001b[49m\u001b[43m(\u001b[49m\u001b[43m)\u001b[49m\n",
      "Cell \u001b[1;32mIn[77], line 3\u001b[0m, in \u001b[0;36massert_falsy\u001b[1;34m()\u001b[0m\n\u001b[0;32m      1\u001b[0m \u001b[38;5;28;01mdef\u001b[39;00m \u001b[38;5;21massert_falsy\u001b[39m(): \n\u001b[0;32m      2\u001b[0m     \u001b[38;5;28;01mwith\u001b[39;00m PrintsWhenExit(): \n\u001b[1;32m----> 3\u001b[0m         \u001b[38;5;28;01massert\u001b[39;00m \u001b[38;5;241m0\u001b[39m\n",
      "\u001b[1;31mAssertionError\u001b[0m: "
     ]
    }
   ],
   "source": [
    "assert_falsy()"
   ]
  },
  {
   "cell_type": "markdown",
   "id": "16f587a2-5ec5-471f-bc73-7cd9698dbb17",
   "metadata": {},
   "source": [
    "**Q29**: Make a generator function that has a `yield` statement followed by some other statement, together in a `try` block that has an associated `finally` block. Show how the `yield` statement can yield, yet when control reenters the generator, it is transferred immediately to the `finally` block (skipping the statement that followed the `yield` in the `try` block)."
   ]
  },
  {
   "cell_type": "code",
   "execution_count": 79,
   "id": "1307b8b1-8bb5-4d85-872f-230f37a9850e",
   "metadata": {},
   "outputs": [],
   "source": [
    "def gen(): \n",
    "    try: \n",
    "        yield 1\n",
    "        print(\"Some other statement.\")\n",
    "    finally: \n",
    "        print(\"Finally block.\")"
   ]
  },
  {
   "cell_type": "code",
   "execution_count": 80,
   "id": "b936a041-5160-42d3-bdb2-e81bda26fddd",
   "metadata": {},
   "outputs": [],
   "source": [
    "import contextlib"
   ]
  },
  {
   "cell_type": "code",
   "execution_count": 81,
   "id": "bb1f6dd5-fcd1-40b8-a032-1007fc1649ee",
   "metadata": {},
   "outputs": [
    {
     "name": "stdout",
     "output_type": "stream",
     "text": [
      "1\n",
      "Finally block.\n"
     ]
    }
   ],
   "source": [
    "with contextlib.closing(gen()) as g: \n",
    "    print(next(g))"
   ]
  },
  {
   "cell_type": "markdown",
   "id": "939e8b2e-01d8-4f26-ac11-9a8139d3281e",
   "metadata": {},
   "source": [
    "**Q30**: Make a generator function that has a `yield` statement followed by some other statement, together in a `with` statement. Show how the `yield` statement can yield, yet when control reenters the generator, it is transferred immediately to the cleanup logic supplied by the context manager (skipping the statement that followed the `yield` in the `with` block)."
   ]
  },
  {
   "cell_type": "code",
   "execution_count": 82,
   "id": "455e4877-f9ba-4f2b-bbd0-e784ea943052",
   "metadata": {},
   "outputs": [],
   "source": [
    "def gen_2(): \n",
    "    with PrintsWhenExit(): \n",
    "        yield 1\n",
    "        print(\"Some other statement.\")"
   ]
  },
  {
   "cell_type": "code",
   "execution_count": 83,
   "id": "267b0306-a22f-49f4-910b-aab4e1121bb9",
   "metadata": {},
   "outputs": [],
   "source": [
    "import contextlib"
   ]
  },
  {
   "cell_type": "code",
   "execution_count": 84,
   "id": "7d305a74-b3d8-48f0-83c1-3ced6a708dd4",
   "metadata": {},
   "outputs": [
    {
     "name": "stdout",
     "output_type": "stream",
     "text": [
      "1\n",
      "Exiting\n"
     ]
    }
   ],
   "source": [
    "with contextlib.closing(gen_2()) as g: \n",
    "    print(next(g))"
   ]
  },
  {
   "cell_type": "markdown",
   "id": "8ed55948-c8ab-452c-9d3c-f086b836b1e4",
   "metadata": {},
   "source": [
    "**Q31**: Take your code from Q26 and write it here, but refactor it by extracting the `with` statement to a helper function. The helper shouldn’t just have the suite (“body”) of the `with` statement, but the *entire* `with` statement. But also make sure you don’t extract *more* than the `with` statement. When this is done, `with` will only appear in the helper function, and *the helper function will contain no loops*. Make sure the refactored code runs and behaves the same."
   ]
  },
  {
   "cell_type": "code",
   "execution_count": 85,
   "id": "eb9b3a9c-9c44-4a3c-a41e-a71e67d9b5e7",
   "metadata": {},
   "outputs": [],
   "source": [
    "def cont_if_arg_1(arg): \n",
    "    def helper(x): \n",
    "        with PrintsWhenExit(): \n",
    "            print(f\"{x=} {arg=}\")\n",
    "            if arg == 1: \n",
    "                return\n",
    "            print(\"End of loop iteration.\")\n",
    "\n",
    "    for x in range(3):\n",
    "        helper(x)"
   ]
  },
  {
   "cell_type": "code",
   "execution_count": 86,
   "id": "ff338888-3d35-4767-980a-45002d9654b6",
   "metadata": {},
   "outputs": [
    {
     "name": "stdout",
     "output_type": "stream",
     "text": [
      "x=0 arg=0\n",
      "End of loop iteration.\n",
      "Exiting\n",
      "x=1 arg=0\n",
      "End of loop iteration.\n",
      "Exiting\n",
      "x=2 arg=0\n",
      "End of loop iteration.\n",
      "Exiting\n"
     ]
    }
   ],
   "source": [
    "cont_if_arg_1(0)"
   ]
  },
  {
   "cell_type": "code",
   "execution_count": 87,
   "id": "a913cbdf-fe53-49c1-9b44-b8f7615d11ff",
   "metadata": {},
   "outputs": [
    {
     "name": "stdout",
     "output_type": "stream",
     "text": [
      "x=0 arg=1\n",
      "Exiting\n",
      "x=1 arg=1\n",
      "Exiting\n",
      "x=2 arg=1\n",
      "Exiting\n"
     ]
    }
   ],
   "source": [
    "cont_if_arg_1(1)"
   ]
  },
  {
   "cell_type": "markdown",
   "id": "6fec122e-42b3-4363-b775-b95ce17cd2c4",
   "metadata": {},
   "source": [
    "**Q32**: Q31 illustrates a connection between two control flow keywords, and a related connection between Q26 and another exercise. Explain."
   ]
  },
  {
   "cell_type": "markdown",
   "id": "26d6b7be-3147-4583-85ff-d74c4258a9cd",
   "metadata": {},
   "source": [
    "Q31 shows that `continue` becomes `return` when extracting the body of a loop to a helper function. Additionally, this shows how Q23 connects to Q26. Both `return` and `continue` in a `with` statement immediately invoke the `__exit__` method of the context manager. If this were not the case, this transformation would produce different behavior."
   ]
  },
  {
   "cell_type": "code",
   "execution_count": null,
   "id": "8e271888-828a-495f-8609-6220e2f174b5",
   "metadata": {},
   "outputs": [],
   "source": []
  }
 ],
 "metadata": {
  "kernelspec": {
   "display_name": "Python 3 (ipykernel)",
   "language": "python",
   "name": "python3"
  },
  "language_info": {
   "codemirror_mode": {
    "name": "ipython",
    "version": 3
   },
   "file_extension": ".py",
   "mimetype": "text/x-python",
   "name": "python",
   "nbconvert_exporter": "python",
   "pygments_lexer": "ipython3",
   "version": "3.11.1"
  }
 },
 "nbformat": 4,
 "nbformat_minor": 5
}
