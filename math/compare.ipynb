{
 "cells": [
  {
   "cell_type": "markdown",
   "id": "02e2a3a7-4b9c-4cc9-98e0-7e344a469d1b",
   "metadata": {},
   "source": [
    "# Comparisons and Ordering\n",
    "\n",
    "SPDX-License-Identifier: 0BSD"
   ]
  },
  {
   "cell_type": "markdown",
   "id": "20e2a916-84ff-4513-89fe-f0305367fed8",
   "metadata": {},
   "source": [
    "## Partial Ordering\n",
    "\n",
    "If $a$ comes before $b$, and $b$ comes before $c$, then $a$ comes before $c$.\n",
    "\n",
    "If $x$ comes before $y$, then $y$ does not come before $x$."
   ]
  },
  {
   "cell_type": "markdown",
   "id": "1cf31a48-6d67-45e6-b905-72b758efece5",
   "metadata": {},
   "source": [
    "## Weak Ordering\n",
    "\n",
    "A partial ordering where \"is neither less than nor greater than\" is transitive.\n",
    "\n",
    "Take $x \\sim y$ to mean that neither $x < y$ nor $y < x$.\n",
    "\n",
    "Then a weak ordering is a partial ordering where $\\sim$ is transitive:\n",
    "\n",
    "If $a \\sim b$ and $b \\sim c$, then $a \\sim c$.\n",
    "\n",
    "($\\sim$ is an equivalence relation, as detailed below.)"
   ]
  },
  {
   "cell_type": "markdown",
   "id": "42f58dd9-0333-40d6-8ca1-7f2ee1addd84",
   "metadata": {},
   "source": [
    "## Some partial orderings aren't weak orderings.\n",
    "\n",
    "### Sets are not even weakly ordered.\n",
    "\n",
    "#### Example 1:\n",
    "\n",
    "Take $A = \\{1, 2\\}$, $B = \\{1, 3\\}$, and $C = \\{1, 2, 5\\}$.\n",
    "\n",
    "$A \\sim B$ and $B \\sim C$, but $A \\subset C$ (thus $A \\not\\sim C$).\n",
    "\n",
    "#### Example 2:\n",
    "\n",
    "Take $A = \\{2\\}$, $B = \\{3\\}$, and $C = \\{1, 2\\}$.\n",
    "\n",
    "$A \\sim B$ and $B \\sim C$, but $A \\subset C$ (thus $A \\not\\sim C$).\n",
    "\n",
    "Suppose we want to build a sorted list of $C$, $B$, and $A$.\n",
    "\n",
    "Starting with $C$, we have:\n",
    "\n",
    "$[C]$\n",
    "\n",
    "Then we receive $B$. We can simply append it, since it can appear in any order with respect to $C$:\n",
    "\n",
    "$[C, B]$\n",
    "\n",
    "Then we receive $A$. Comparing it to $B$, they can appear in any order, so we would put it at the end:\n",
    "\n",
    "$[C, B, A]$\n",
    "\n",
    "But this is not sorted, because $A < C$.\n",
    "\n",
    "What was the wrong assumption we made in apply this *insertion sort* algorithm to input that was not even a weak ordering?\n",
    "\n",
    "We assumed that because the list we were building, $[C, B]$, was sorted, and $A$ was permitted to appear after the last element of that list, that $A$ would be permitted to appear after *all* elements of that list.\n",
    "\n",
    "This assumption is what makes most sorting algorithms work. It is guaranteed for any weak ordering. It is not guaranteed for arbitrary partial orderings, and \"is a proper subset of\" on sets is an example of a partial ordering for which it does not hold."
   ]
  },
  {
   "cell_type": "markdown",
   "id": "86e12b05-14c7-42d8-9911-3d57f928de0d",
   "metadata": {},
   "source": [
    "## Total Ordering (a.k.a. Strong Ordering)\n",
    "\n",
    "A partial ordering where $x < y$ or $x = y$ or $x > y$.\n",
    "\n",
    "In other words, either $x$ comes before $y$, or $y$ comes before $x$, or $x$ and $y$ are equal."
   ]
  },
  {
   "cell_type": "markdown",
   "id": "a71461dd-bd65-4987-93dc-83924d97ba6d",
   "metadata": {},
   "source": [
    "## Relationship between weak and total (strong) ordering\n",
    "\n",
    "In a weak ordering, $\\sim$ is transitive: if $x \\sim y$ and $y \\sim z$, then $x \\sim z$.\n",
    "\n",
    "Note that it is also symmetric: if $x \\sim y$ then $y \\sim x$. And reflexive: $x \\sim x$.\n",
    "\n",
    "Because of this, elements clump together with those they are neither less nor greater than.\n",
    "\n",
    "Across separate clumps, we always have $<$ or $>$.\n",
    "\n",
    "*This is to say that the clumps are totally ordered.*\n",
    "\n",
    "In math lingo, a relation that is symmetric, reflexive, and transitive is said to be an *equivalence relation*. The clumps are called *equivalence classes*.\n",
    "\n",
    "What we mean when we say an equivalence class $S$ comes before an equivalence class $T$ in the induced total ordering of equivalence classes is that given any $x \\in S$ and $y \\in T$, $x$ comes before $y$ in the weak ordering.\n",
    "\n",
    "(\"$\\in$\" means set membership: \"$a \\in b$\" is read as \"$a$ is an element of $b$\" or \"$a$ is a member of $b$\" or \"$a$ is in $b$.\" Please note that this should *not* be confused with \"$\\subseteq$\" or \"$\\subset$\".)"
   ]
  },
  {
   "cell_type": "markdown",
   "id": "3c0b8027-e35a-4535-8b21-d75f072bdfba",
   "metadata": {},
   "source": [
    "## Why define non-total weak orderings?\n",
    "\n",
    "`sorted` (and `list.sort`) suports an optional keyword-only argument `key=` for passing a custom key-selector function. The keys this function returns must themselves obey weak ordering.\n",
    "\n",
    "Suppose we know any objects that may appear in some iterable, `items`, are comparable, and that this comparison obeys weak ordering. Then `sorted(items)` is a sorted list of the objects in `items`. But since weak orderings induce a total ordering on their equivalence classes (under the $\\sim$ relation, as defined above), in principle there is always a totally ordered key selector function that could have been used instead, even if the objects didn't support being compared with `<`. This hypothetical (though often quite practical) key selector would be one that, when passed an object $x$, selects a key that behaves, under order comparisons, like the equivalence class containing $x$ under the induced comparison of equivalence classes.\n",
    "\n",
    "Given the above&mdash;and given that non-total weak orderings can be nonintuitive&mdash;the question arises of when, if ever, we should design a type so that its instances are weakly but not totally ordered.\n",
    "\n",
    "Often this is subjective. Even when defining order comparison operators facilitates more compact code, the effect of those comparisons may be less clear than if an explicit key selector function were used. With the order comparison operators defined, the code that uses them is smaller, faster to read, and less likely to contain a bug. But if the relationships are not intuitive, this may make the whole system harder to reason about. If the operators are implemented only for convenience, and are not part of what it *means* conceptually to be an instance of the type that provides them, then the single responsibility principle has been violated, and the system may be harder to maintain and test.\n",
    "\n",
    "In making these design decisions, two closely releated quesions to ask are:\n",
    "\n",
    "1. Does defining order comparison operators make it so that the code that is easy and natural to write is correct code (so that correctness is easier to achieve and maintain)? Or are there foreseeable situations where the presence of those operators would lead to confusion and subtly wrong code?\n",
    "\n",
    "2. Does defining order comparison operators make it so that other functionality just works, using facilities of the language? Or does it, instead, cause things that used to be errors to *look* reasonable while still, really, being errors?\n",
    "\n",
    "Really, these are the questions to ask when deciding whether to supply custom behavior for *any* operator."
   ]
  },
  {
   "cell_type": "markdown",
   "id": "5de7cbf9-4dcf-465a-bb98-f5e55439cace",
   "metadata": {},
   "source": [
    "***TODO:* Add a good example that is not too complicated.**"
   ]
  },
  {
   "cell_type": "code",
   "execution_count": null,
   "id": "60f57685-32be-4878-8a69-98ae5bca8b87",
   "metadata": {},
   "outputs": [],
   "source": []
  }
 ],
 "metadata": {
  "kernelspec": {
   "display_name": "Python 3 (ipykernel)",
   "language": "python",
   "name": "python3"
  },
  "language_info": {
   "codemirror_mode": {
    "name": "ipython",
    "version": 3
   },
   "file_extension": ".py",
   "mimetype": "text/x-python",
   "name": "python",
   "nbconvert_exporter": "python",
   "pygments_lexer": "ipython3",
   "version": "3.11.1"
  }
 },
 "nbformat": 4,
 "nbformat_minor": 5
}
