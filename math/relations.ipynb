{
 "cells": [
  {
   "cell_type": "markdown",
   "id": "0828c601-08fb-44b8-abe8-b3b618d654fe",
   "metadata": {},
   "source": [
    "Take real numbers $x$ and $y$. So they are totally ordered. We want to express that:\n",
    "\n",
    "$$\n",
    "    x \\leq y\n",
    "$$\n",
    "\n",
    "But we are not allowed to use $\\leq$, $\\geq$, or $=$. We can only use $\\lt$, $\\gt$, and/or logical negation (\"not\")."
   ]
  },
  {
   "cell_type": "markdown",
   "id": "b3c8556a-3ce2-4690-85ed-8b530c6f6b4d",
   "metadata": {},
   "source": [
    "not (x > y)"
   ]
  },
  {
   "cell_type": "markdown",
   "id": "f9b7aa0e-4894-4943-b9f3-3744faa40023",
   "metadata": {},
   "source": [
    "Two things to keep in mind:\n",
    "\n",
    "- One mistake that is easy to make is to also erroneously flip the operands, thus wrongly writing `not (y > x)`. If it is desired to put the operands in the other order as well, then the easiest way to get it right is to first write `not (x > y)`, and then turn that into `not (y < x)`.\n",
    "\n",
    "- When you have a weak ordering that is not (known to be) a total ordering, this transformation effectively changes the meaning from expressing \"less than or equal to\" to expressing \"less than or similar to.\" But that transformation is often desired!"
   ]
  },
  {
   "cell_type": "code",
   "execution_count": null,
   "id": "d74352db-22ea-4593-89a1-d90c0171d165",
   "metadata": {},
   "outputs": [],
   "source": []
  }
 ],
 "metadata": {
  "kernelspec": {
   "display_name": "Python 3 (ipykernel)",
   "language": "python",
   "name": "python3"
  },
  "language_info": {
   "codemirror_mode": {
    "name": "ipython",
    "version": 3
   },
   "file_extension": ".py",
   "mimetype": "text/x-python",
   "name": "python",
   "nbconvert_exporter": "python",
   "pygments_lexer": "ipython3",
   "version": "3.11.0"
  }
 },
 "nbformat": 4,
 "nbformat_minor": 5
}
