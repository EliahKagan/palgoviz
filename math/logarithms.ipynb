{
 "cells": [
  {
   "cell_type": "markdown",
   "id": "e57f99c9-3243-41f7-8806-5e7e8c54b0de",
   "metadata": {},
   "source": [
    "# Logarithms\n",
    "\n",
    "SPDX-License-Identifier: 0BSD"
   ]
  },
  {
   "cell_type": "markdown",
   "id": "791ad329-d399-4b53-943c-2e1e00dc9931",
   "metadata": {},
   "source": [
    "$$\n",
    "    \\log_b a = \\text{the number you raise $b$ to, to get $a$}\n",
    "$$"
   ]
  },
  {
   "cell_type": "code",
   "execution_count": null,
   "id": "07c296aa-9442-49fd-b266-502a2e4b10c9",
   "metadata": {},
   "outputs": [],
   "source": []
  }
 ],
 "metadata": {
  "kernelspec": {
   "display_name": "Python 3 (ipykernel)",
   "language": "python",
   "name": "python3"
  },
  "language_info": {
   "codemirror_mode": {
    "name": "ipython",
    "version": 3
   },
   "file_extension": ".py",
   "mimetype": "text/x-python",
   "name": "python",
   "nbconvert_exporter": "python",
   "pygments_lexer": "ipython3",
   "version": "3.11.1"
  }
 },
 "nbformat": 4,
 "nbformat_minor": 5
}
