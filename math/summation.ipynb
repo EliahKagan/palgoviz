{
 "cells": [
  {
   "cell_type": "markdown",
   "id": "75f439ac-88e2-433c-933f-01b23e41b10f",
   "metadata": {},
   "source": [
    "# Summation"
   ]
  },
  {
   "cell_type": "markdown",
   "id": "15e5bbd6-1d75-446c-a0ae-aa84250f8744",
   "metadata": {},
   "source": [
    "$$\n",
    "    1 + 2 + \\cdots + (n - 1) + n = \\sum_{k=1}^n k = \\frac{n(n+1)}{2} = \\mathcal{O}(n^2)\n",
    "$$"
   ]
  },
  {
   "cell_type": "markdown",
   "id": "37035506-9a9f-4a48-b1af-8aef2be61d66",
   "metadata": {},
   "source": [
    "Take $p = \\frac{n}{1000}$. So $n = 1000 p$. Note that, since 1000 is a constant (it does not change as $n$ changes):\n",
    "\n",
    "$$\n",
    "    p = \\mathcal{O}(n)\n",
    "$$"
   ]
  },
  {
   "cell_type": "markdown",
   "id": "78544b98-bedf-4a16-ae53-4f4bd0246a95",
   "metadata": {},
   "source": [
    "Now consider the sum of this series:\n",
    "\n",
    "$$1000 + 2000 + \\cdots + (n - 1000) + n$$\n",
    "\n",
    "We can subtitute $p$ in:\n",
    "\n",
    "$$1000 + 2000 + \\cdots + (1000 p - 1000) + 1000 p$$\n",
    "\n",
    "Then bring the factor of 1000 to the outside:\n",
    "\n",
    "$$1000 \\big(1 + 2 + \\cdots + (p - 1) + p \\big)$$\n",
    "\n",
    "But this is just:\n",
    "\n",
    "$$1000 \\cdot \\mathcal{O}(p^2) = \\mathcal{O}(p^2) = \\mathcal{O}(n^2)$$\n",
    "\n",
    "The last \"$=$\" holds because $p = \\mathcal{O}(n)$."
   ]
  },
  {
   "cell_type": "markdown",
   "id": "6e936c4d-0b3c-4899-ab7c-d4f0ae5ff457",
   "metadata": {},
   "source": [
    "## Table Doubling"
   ]
  },
  {
   "cell_type": "markdown",
   "id": "f656dfaa-c50e-4c47-bc69-c78683336a16",
   "metadata": {},
   "source": [
    "$$\n",
    "    1 + 2 + 4 + 8 + \\cdots + \\frac{n}{2} + n\n",
    "$$"
   ]
  },
  {
   "cell_type": "code",
   "execution_count": null,
   "id": "3c400d13-65e7-4d7a-b887-6a632022ad38",
   "metadata": {},
   "outputs": [],
   "source": []
  }
 ],
 "metadata": {
  "kernelspec": {
   "display_name": "Python 3 (ipykernel)",
   "language": "python",
   "name": "python3"
  },
  "language_info": {
   "codemirror_mode": {
    "name": "ipython",
    "version": 3
   },
   "file_extension": ".py",
   "mimetype": "text/x-python",
   "name": "python",
   "nbconvert_exporter": "python",
   "pygments_lexer": "ipython3",
   "version": "3.10.6"
  }
 },
 "nbformat": 4,
 "nbformat_minor": 5
}
