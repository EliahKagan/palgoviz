{
 "cells": [
  {
   "cell_type": "markdown",
   "id": "9cc52926-46df-4d9b-bd9f-4eac3dfe3fb6",
   "metadata": {},
   "source": [
    "# Classes - More in depth"
   ]
  },
  {
   "cell_type": "markdown",
   "id": "816c305b-a3ec-4c02-872e-51a02c183e92",
   "metadata": {},
   "source": [
    "## Accidentally omitting `@staticmethod`"
   ]
  },
  {
   "cell_type": "markdown",
   "id": "afc59a60-6dab-43ae-97bc-74a5201539d3",
   "metadata": {},
   "source": [
    "An undecorated method with missing `self` behaves like a static method, in the most common use case that it is called only on the class. This is not usually a good thing to do. I present it here *not* to recommend it, but to caution against it as a mistake that can arise when one forgets to write `@staticmethod` when one meant to do so."
   ]
  },
  {
   "cell_type": "code",
   "execution_count": 1,
   "id": "f39498b3-abb2-4cd3-acb5-1f6b95763008",
   "metadata": {},
   "outputs": [],
   "source": [
    "class Selfless:\n",
    "    def f():\n",
    "        \"\"\"Not generally good to do, but sort of behaves like a static method.\"\"\"\n",
    "        print('Hello.')"
   ]
  },
  {
   "cell_type": "code",
   "execution_count": 2,
   "id": "ff195307-99dc-4e23-adf2-b549755fee71",
   "metadata": {},
   "outputs": [
    {
     "name": "stdout",
     "output_type": "stream",
     "text": [
      "Hello.\n"
     ]
    }
   ],
   "source": [
    "Selfless.f()"
   ]
  },
  {
   "cell_type": "code",
   "execution_count": 3,
   "id": "2c128eca-f397-48a3-b505-f56d100ada2f",
   "metadata": {
    "tags": [
     "raises-exception"
    ]
   },
   "outputs": [
    {
     "ename": "TypeError",
     "evalue": "Selfless.f() takes 0 positional arguments but 1 was given",
     "output_type": "error",
     "traceback": [
      "\u001b[1;31m---------------------------------------------------------------------------\u001b[0m",
      "\u001b[1;31mTypeError\u001b[0m                                 Traceback (most recent call last)",
      "Input \u001b[1;32mIn [3]\u001b[0m, in \u001b[0;36m<cell line: 2>\u001b[1;34m()\u001b[0m\n\u001b[0;32m      1\u001b[0m x \u001b[38;5;241m=\u001b[39m Selfless()\n\u001b[1;32m----> 2\u001b[0m \u001b[43mx\u001b[49m\u001b[38;5;241;43m.\u001b[39;49m\u001b[43mf\u001b[49m\u001b[43m(\u001b[49m\u001b[43m)\u001b[49m\n",
      "\u001b[1;31mTypeError\u001b[0m: Selfless.f() takes 0 positional arguments but 1 was given"
     ]
    }
   ],
   "source": [
    "x = Selfless()\n",
    "x.f()"
   ]
  },
  {
   "cell_type": "markdown",
   "id": "69f0d905-ef68-43d6-8e91-449558f7832c",
   "metadata": {},
   "source": [
    "## Review of getting, setting, and deleting attributes"
   ]
  },
  {
   "cell_type": "code",
   "execution_count": 4,
   "id": "21c6e152-d8aa-4ff2-a626-2ba9274bc2ac",
   "metadata": {},
   "outputs": [],
   "source": [
    "class MyClass: \n",
    "    pass"
   ]
  },
  {
   "cell_type": "code",
   "execution_count": 5,
   "id": "f31f55c1-827f-45c2-a1f9-83bcb18eec00",
   "metadata": {},
   "outputs": [],
   "source": [
    "mc = MyClass()"
   ]
  },
  {
   "cell_type": "code",
   "execution_count": 6,
   "id": "efff4878-6bfe-4461-bce8-5da6995db738",
   "metadata": {},
   "outputs": [],
   "source": [
    "mc.x = 3"
   ]
  },
  {
   "cell_type": "code",
   "execution_count": 7,
   "id": "79425edd-c81e-49ad-abaf-c9208a7c94a8",
   "metadata": {},
   "outputs": [
    {
     "data": {
      "text/plain": [
       "3"
      ]
     },
     "execution_count": 7,
     "metadata": {},
     "output_type": "execute_result"
    }
   ],
   "source": [
    "mc.x"
   ]
  },
  {
   "cell_type": "code",
   "execution_count": 8,
   "id": "261d5c8c-4218-4424-95c8-352213a19506",
   "metadata": {
    "tags": [
     "raises-exception"
    ]
   },
   "outputs": [
    {
     "ename": "AttributeError",
     "evalue": "'MyClass' object has no attribute 'y'",
     "output_type": "error",
     "traceback": [
      "\u001b[1;31m---------------------------------------------------------------------------\u001b[0m",
      "\u001b[1;31mAttributeError\u001b[0m                            Traceback (most recent call last)",
      "Input \u001b[1;32mIn [8]\u001b[0m, in \u001b[0;36m<cell line: 1>\u001b[1;34m()\u001b[0m\n\u001b[1;32m----> 1\u001b[0m \u001b[43mmc\u001b[49m\u001b[38;5;241;43m.\u001b[39;49m\u001b[43my\u001b[49m\n",
      "\u001b[1;31mAttributeError\u001b[0m: 'MyClass' object has no attribute 'y'"
     ]
    }
   ],
   "source": [
    "mc.y"
   ]
  },
  {
   "cell_type": "code",
   "execution_count": 9,
   "id": "e86140a3-1805-4e9c-9570-a671e1299888",
   "metadata": {},
   "outputs": [],
   "source": [
    "del mc.x"
   ]
  },
  {
   "cell_type": "code",
   "execution_count": 10,
   "id": "c9ee7c28-76bc-4120-bf35-25bb16f0f5ae",
   "metadata": {},
   "outputs": [
    {
     "data": {
      "text/plain": [
       "{}"
      ]
     },
     "execution_count": 10,
     "metadata": {},
     "output_type": "execute_result"
    }
   ],
   "source": [
    "mc.__dict__"
   ]
  },
  {
   "cell_type": "code",
   "execution_count": 11,
   "id": "94177e84-f6c2-48f9-bbb5-44943111051c",
   "metadata": {},
   "outputs": [
    {
     "name": "stdout",
     "output_type": "stream",
     "text": [
      "Help on built-in function setattr in module builtins:\n",
      "\n",
      "setattr(obj, name, value, /)\n",
      "    Sets the named attribute on the given object to the specified value.\n",
      "    \n",
      "    setattr(x, 'y', v) is equivalent to ``x.y = v''\n",
      "\n"
     ]
    }
   ],
   "source": [
    "help(setattr)"
   ]
  },
  {
   "cell_type": "code",
   "execution_count": 12,
   "id": "3cab738f-03b8-4ab4-85e7-854da58e6a85",
   "metadata": {},
   "outputs": [],
   "source": [
    "setattr(mc, 'x', 4)"
   ]
  },
  {
   "cell_type": "code",
   "execution_count": 13,
   "id": "df71a7d2-2b2b-47cb-b07a-d4a5cb67aa91",
   "metadata": {},
   "outputs": [
    {
     "name": "stdout",
     "output_type": "stream",
     "text": [
      "Help on built-in function getattr in module builtins:\n",
      "\n",
      "getattr(...)\n",
      "    getattr(object, name[, default]) -> value\n",
      "    \n",
      "    Get a named attribute from an object; getattr(x, 'y') is equivalent to x.y.\n",
      "    When a default argument is given, it is returned when the attribute doesn't\n",
      "    exist; without it, an exception is raised in that case.\n",
      "\n"
     ]
    }
   ],
   "source": [
    "help(getattr)"
   ]
  },
  {
   "cell_type": "code",
   "execution_count": 14,
   "id": "956089c3-a8cc-4f72-ae88-ae2150c11c1d",
   "metadata": {},
   "outputs": [
    {
     "data": {
      "text/plain": [
       "4"
      ]
     },
     "execution_count": 14,
     "metadata": {},
     "output_type": "execute_result"
    }
   ],
   "source": [
    "getattr(mc, 'x')"
   ]
  },
  {
   "cell_type": "code",
   "execution_count": 15,
   "id": "7e3e7043-62fb-44f4-92d3-ae9f715163da",
   "metadata": {},
   "outputs": [
    {
     "data": {
      "text/plain": [
       "4"
      ]
     },
     "execution_count": 15,
     "metadata": {},
     "output_type": "execute_result"
    }
   ],
   "source": [
    "mc.x"
   ]
  },
  {
   "cell_type": "code",
   "execution_count": 16,
   "id": "32cdbf14-d001-4a02-9e9d-ab39aa5436ac",
   "metadata": {},
   "outputs": [
    {
     "name": "stdout",
     "output_type": "stream",
     "text": [
      "Help on built-in function delattr in module builtins:\n",
      "\n",
      "delattr(obj, name, /)\n",
      "    Deletes the named attribute from the given object.\n",
      "    \n",
      "    delattr(x, 'y') is equivalent to ``del x.y''\n",
      "\n"
     ]
    }
   ],
   "source": [
    "help(delattr)"
   ]
  },
  {
   "cell_type": "code",
   "execution_count": 17,
   "id": "04207562-d51a-4f68-9aee-d60cb399b318",
   "metadata": {},
   "outputs": [],
   "source": [
    "delattr(mc, 'x')"
   ]
  },
  {
   "cell_type": "code",
   "execution_count": 18,
   "id": "9972d3fe-470d-4c16-aaba-5647f9f3ac18",
   "metadata": {
    "tags": [
     "raises-exception"
    ]
   },
   "outputs": [
    {
     "ename": "AttributeError",
     "evalue": "'MyClass' object has no attribute 'x'",
     "output_type": "error",
     "traceback": [
      "\u001b[1;31m---------------------------------------------------------------------------\u001b[0m",
      "\u001b[1;31mAttributeError\u001b[0m                            Traceback (most recent call last)",
      "Input \u001b[1;32mIn [18]\u001b[0m, in \u001b[0;36m<cell line: 1>\u001b[1;34m()\u001b[0m\n\u001b[1;32m----> 1\u001b[0m \u001b[43mmc\u001b[49m\u001b[38;5;241;43m.\u001b[39;49m\u001b[43mx\u001b[49m\n",
      "\u001b[1;31mAttributeError\u001b[0m: 'MyClass' object has no attribute 'x'"
     ]
    }
   ],
   "source": [
    "mc.x"
   ]
  },
  {
   "cell_type": "markdown",
   "id": "ff58a295-7da7-47bf-b366-3b3421e41f27",
   "metadata": {},
   "source": [
    "## Review of property accessors"
   ]
  },
  {
   "cell_type": "code",
   "execution_count": 19,
   "id": "cf3d6e10-3e37-4b6e-a2d1-cea238991b5d",
   "metadata": {},
   "outputs": [],
   "source": [
    "class HasProperty:\n",
    "    \"\"\"\n",
    "    A property-having object.\n",
    "    \n",
    "    A HasProperty instance is a thing with a thing called thing.\n",
    "    \"\"\"\n",
    "\n",
    "    @property\n",
    "    def thing(self):\n",
    "        \"\"\"\n",
    "        The only property that HasProperty has. \n",
    "        \n",
    "        It can be gotten, set, and deleted.\n",
    "        \"\"\"\n",
    "        print('Showing _thing.')\n",
    "        return self._thing\n",
    "    \n",
    "    @thing.setter\n",
    "    def thing(self, value):\n",
    "        print(f'Setting _thing to {value!r}.')\n",
    "        self._thing = value\n",
    "        \n",
    "    @thing.deleter\n",
    "    def thing(self):\n",
    "        print(f'Deleting _thing.')\n",
    "        del self._thing"
   ]
  },
  {
   "cell_type": "code",
   "execution_count": 20,
   "id": "b4ac44e8-1a28-4a93-85a3-add3f10c496a",
   "metadata": {},
   "outputs": [],
   "source": [
    "hp = HasProperty()"
   ]
  },
  {
   "cell_type": "code",
   "execution_count": 21,
   "id": "a0418b95-f8fe-4a5b-a054-c3eb8fdccd99",
   "metadata": {},
   "outputs": [
    {
     "name": "stdout",
     "output_type": "stream",
     "text": [
      "Setting _thing to 3.\n"
     ]
    }
   ],
   "source": [
    "hp.thing = 3"
   ]
  },
  {
   "cell_type": "code",
   "execution_count": 22,
   "id": "5d5e76bd-54ec-4863-9d89-16bc5e17df1f",
   "metadata": {},
   "outputs": [
    {
     "name": "stdout",
     "output_type": "stream",
     "text": [
      "Showing _thing.\n"
     ]
    },
    {
     "data": {
      "text/plain": [
       "3"
      ]
     },
     "execution_count": 22,
     "metadata": {},
     "output_type": "execute_result"
    }
   ],
   "source": [
    "hp.thing"
   ]
  },
  {
   "cell_type": "code",
   "execution_count": 23,
   "id": "75ee80d6-f0d4-4307-90af-d85ead890e74",
   "metadata": {},
   "outputs": [
    {
     "data": {
      "text/plain": [
       "{'_thing': 3}"
      ]
     },
     "execution_count": 23,
     "metadata": {},
     "output_type": "execute_result"
    }
   ],
   "source": [
    "hp.__dict__"
   ]
  },
  {
   "cell_type": "code",
   "execution_count": 24,
   "id": "871c2491-2242-4ee9-a7d1-db658b182b01",
   "metadata": {},
   "outputs": [
    {
     "name": "stdout",
     "output_type": "stream",
     "text": [
      "Deleting _thing.\n"
     ]
    }
   ],
   "source": [
    "del hp.thing"
   ]
  },
  {
   "cell_type": "code",
   "execution_count": 25,
   "id": "60d190c9-d9ad-425e-9250-553fc260f034",
   "metadata": {},
   "outputs": [
    {
     "data": {
      "text/plain": [
       "{}"
      ]
     },
     "execution_count": 25,
     "metadata": {},
     "output_type": "execute_result"
    }
   ],
   "source": [
    "hp.__dict__"
   ]
  },
  {
   "cell_type": "markdown",
   "id": "87e04605-35da-4d6d-9904-773189dd9a0c",
   "metadata": {},
   "source": [
    "## Review of property objects (as class attributes)"
   ]
  },
  {
   "cell_type": "code",
   "execution_count": 26,
   "id": "d8744efd-3fe5-4306-be77-6e622bcc8b2b",
   "metadata": {},
   "outputs": [
    {
     "name": "stdout",
     "output_type": "stream",
     "text": [
      "Help on property:\n",
      "\n",
      "    The only property that HasProperty has. \n",
      "    \n",
      "    It can be gotten, set, and deleted.\n",
      "\n"
     ]
    }
   ],
   "source": [
    "help(HasProperty.thing)"
   ]
  },
  {
   "cell_type": "code",
   "execution_count": 27,
   "id": "250a2abe-e1b4-4ee5-a438-79a56179fe7c",
   "metadata": {},
   "outputs": [
    {
     "name": "stdout",
     "output_type": "stream",
     "text": [
      "Help on class HasProperty in module __main__:\n",
      "\n",
      "class HasProperty(builtins.object)\n",
      " |  A property-having object.\n",
      " |  \n",
      " |  A HasProperty instance is a thing with a thing called thing.\n",
      " |  \n",
      " |  Data descriptors defined here:\n",
      " |  \n",
      " |  __dict__\n",
      " |      dictionary for instance variables (if defined)\n",
      " |  \n",
      " |  __weakref__\n",
      " |      list of weak references to the object (if defined)\n",
      " |  \n",
      " |  thing\n",
      " |      The only property that HasProperty has. \n",
      " |      \n",
      " |      It can be gotten, set, and deleted.\n",
      "\n"
     ]
    }
   ],
   "source": [
    "help(HasProperty)"
   ]
  },
  {
   "cell_type": "code",
   "execution_count": 28,
   "id": "d39180c6-8998-430e-b498-28341ba13692",
   "metadata": {},
   "outputs": [
    {
     "data": {
      "text/plain": [
       "type"
      ]
     },
     "execution_count": 28,
     "metadata": {},
     "output_type": "execute_result"
    }
   ],
   "source": [
    "type(property)"
   ]
  },
  {
   "cell_type": "code",
   "execution_count": 29,
   "id": "ebff1e9b-32bb-49d8-914e-3dae7de723f0",
   "metadata": {},
   "outputs": [
    {
     "data": {
      "text/plain": [
       "<property at 0x276e78884a0>"
      ]
     },
     "execution_count": 29,
     "metadata": {},
     "output_type": "execute_result"
    }
   ],
   "source": [
    "HasProperty.thing"
   ]
  },
  {
   "cell_type": "markdown",
   "id": "4cda6ecf-e744-4aa2-9ba3-c6ced4109e87",
   "metadata": {},
   "source": [
    "## Attributes and methods of property objects"
   ]
  },
  {
   "cell_type": "code",
   "execution_count": 30,
   "id": "141e25de-e026-499d-94b3-f722f44971d3",
   "metadata": {},
   "outputs": [],
   "source": [
    "po = HasProperty.thing"
   ]
  },
  {
   "cell_type": "code",
   "execution_count": 31,
   "id": "db1aa270-92c6-49fd-a82b-1d49f93c9c93",
   "metadata": {},
   "outputs": [
    {
     "data": {
      "text/plain": [
       "['__class__',\n",
       " '__delattr__',\n",
       " '__delete__',\n",
       " '__dir__',\n",
       " '__doc__',\n",
       " '__eq__',\n",
       " '__format__',\n",
       " '__ge__',\n",
       " '__get__',\n",
       " '__getattribute__',\n",
       " '__gt__',\n",
       " '__hash__',\n",
       " '__init__',\n",
       " '__init_subclass__',\n",
       " '__isabstractmethod__',\n",
       " '__le__',\n",
       " '__lt__',\n",
       " '__ne__',\n",
       " '__new__',\n",
       " '__reduce__',\n",
       " '__reduce_ex__',\n",
       " '__repr__',\n",
       " '__set__',\n",
       " '__set_name__',\n",
       " '__setattr__',\n",
       " '__sizeof__',\n",
       " '__str__',\n",
       " '__subclasshook__',\n",
       " 'deleter',\n",
       " 'fdel',\n",
       " 'fget',\n",
       " 'fset',\n",
       " 'getter',\n",
       " 'setter']"
      ]
     },
     "execution_count": 31,
     "metadata": {},
     "output_type": "execute_result"
    }
   ],
   "source": [
    "dir(po)"
   ]
  },
  {
   "cell_type": "code",
   "execution_count": 32,
   "id": "e99609cf-4ac0-4816-a4a5-176d4f3fd990",
   "metadata": {},
   "outputs": [
    {
     "name": "stdout",
     "output_type": "stream",
     "text": [
      "Help on property:\n",
      "\n",
      "    The only property that HasProperty has. \n",
      "    \n",
      "    It can be gotten, set, and deleted.\n",
      "\n"
     ]
    }
   ],
   "source": [
    "help(po)"
   ]
  },
  {
   "cell_type": "code",
   "execution_count": 33,
   "id": "fdf79b90-db92-4546-8f02-ef2a664cb383",
   "metadata": {},
   "outputs": [
    {
     "name": "stdout",
     "output_type": "stream",
     "text": [
      "Help on class property in module builtins:\n",
      "\n",
      "class property(object)\n",
      " |  property(fget=None, fset=None, fdel=None, doc=None)\n",
      " |  \n",
      " |  Property attribute.\n",
      " |  \n",
      " |    fget\n",
      " |      function to be used for getting an attribute value\n",
      " |    fset\n",
      " |      function to be used for setting an attribute value\n",
      " |    fdel\n",
      " |      function to be used for del'ing an attribute\n",
      " |    doc\n",
      " |      docstring\n",
      " |  \n",
      " |  Typical use is to define a managed attribute x:\n",
      " |  \n",
      " |  class C(object):\n",
      " |      def getx(self): return self._x\n",
      " |      def setx(self, value): self._x = value\n",
      " |      def delx(self): del self._x\n",
      " |      x = property(getx, setx, delx, \"I'm the 'x' property.\")\n",
      " |  \n",
      " |  Decorators make defining new properties or modifying existing ones easy:\n",
      " |  \n",
      " |  class C(object):\n",
      " |      @property\n",
      " |      def x(self):\n",
      " |          \"I am the 'x' property.\"\n",
      " |          return self._x\n",
      " |      @x.setter\n",
      " |      def x(self, value):\n",
      " |          self._x = value\n",
      " |      @x.deleter\n",
      " |      def x(self):\n",
      " |          del self._x\n",
      " |  \n",
      " |  Methods defined here:\n",
      " |  \n",
      " |  __delete__(self, instance, /)\n",
      " |      Delete an attribute of instance.\n",
      " |  \n",
      " |  __get__(self, instance, owner, /)\n",
      " |      Return an attribute of instance, which is of type owner.\n",
      " |  \n",
      " |  __getattribute__(self, name, /)\n",
      " |      Return getattr(self, name).\n",
      " |  \n",
      " |  __init__(self, /, *args, **kwargs)\n",
      " |      Initialize self.  See help(type(self)) for accurate signature.\n",
      " |  \n",
      " |  __set__(self, instance, value, /)\n",
      " |      Set an attribute of instance to value.\n",
      " |  \n",
      " |  __set_name__(...)\n",
      " |      Method to set name of a property.\n",
      " |  \n",
      " |  deleter(...)\n",
      " |      Descriptor to obtain a copy of the property with a different deleter.\n",
      " |  \n",
      " |  getter(...)\n",
      " |      Descriptor to obtain a copy of the property with a different getter.\n",
      " |  \n",
      " |  setter(...)\n",
      " |      Descriptor to obtain a copy of the property with a different setter.\n",
      " |  \n",
      " |  ----------------------------------------------------------------------\n",
      " |  Static methods defined here:\n",
      " |  \n",
      " |  __new__(*args, **kwargs) from builtins.type\n",
      " |      Create and return a new object.  See help(type) for accurate signature.\n",
      " |  \n",
      " |  ----------------------------------------------------------------------\n",
      " |  Data descriptors defined here:\n",
      " |  \n",
      " |  __isabstractmethod__\n",
      " |  \n",
      " |  fdel\n",
      " |  \n",
      " |  fget\n",
      " |  \n",
      " |  fset\n",
      "\n"
     ]
    }
   ],
   "source": [
    "help(property)"
   ]
  },
  {
   "cell_type": "markdown",
   "id": "838db118-5f18-4bf6-8487-36641899bbc4",
   "metadata": {},
   "source": [
    "## `property` attributes `fget`, `fset`, and `fdel` are readonly\n",
    "\n",
    "*But `__doc__` is not readonly.*"
   ]
  },
  {
   "cell_type": "code",
   "execution_count": 34,
   "id": "b901aae9-5746-445f-97ea-7dd505c1c7c3",
   "metadata": {},
   "outputs": [],
   "source": [
    "def thing(self):\n",
    "    \"\"\"\n",
    "    The only property that HasProperty has. \n",
    "\n",
    "    It can be gotten, set, and deleted.\n",
    "    \n",
    "    Now with deleted scenes!\n",
    "    \"\"\"\n",
    "    print('Showing _thing, but in a new way.')\n",
    "    return self._thing"
   ]
  },
  {
   "cell_type": "code",
   "execution_count": 35,
   "id": "52f180ff-bc84-4247-94e7-5be0d6cba033",
   "metadata": {
    "tags": [
     "raises-exception"
    ]
   },
   "outputs": [
    {
     "ename": "AttributeError",
     "evalue": "readonly attribute",
     "output_type": "error",
     "traceback": [
      "\u001b[1;31m---------------------------------------------------------------------------\u001b[0m",
      "\u001b[1;31mAttributeError\u001b[0m                            Traceback (most recent call last)",
      "Input \u001b[1;32mIn [35]\u001b[0m, in \u001b[0;36m<cell line: 1>\u001b[1;34m()\u001b[0m\n\u001b[1;32m----> 1\u001b[0m po\u001b[38;5;241m.\u001b[39mfdel \u001b[38;5;241m=\u001b[39m thing\n",
      "\u001b[1;31mAttributeError\u001b[0m: readonly attribute"
     ]
    }
   ],
   "source": [
    "po.fdel = thing"
   ]
  },
  {
   "cell_type": "code",
   "execution_count": 36,
   "id": "5c4a2f31-416c-4d17-aca8-81ec5cb47ab7",
   "metadata": {},
   "outputs": [
    {
     "name": "stdout",
     "output_type": "stream",
     "text": [
      "\n",
      "        The only property that HasProperty has. \n",
      "        \n",
      "        It can be gotten, set, and deleted.\n",
      "        \n"
     ]
    }
   ],
   "source": [
    "print(po.__doc__)"
   ]
  },
  {
   "cell_type": "code",
   "execution_count": 37,
   "id": "f0bb62aa-9ba8-4fc2-8bd3-8982120fd6b4",
   "metadata": {},
   "outputs": [],
   "source": [
    "po.__doc__ = \"New and IMPROVED ;) docstring.\""
   ]
  },
  {
   "cell_type": "code",
   "execution_count": 38,
   "id": "b691a2db-c37e-4bbc-9747-f58b930d526b",
   "metadata": {},
   "outputs": [
    {
     "data": {
      "text/plain": [
       "'New and IMPROVED ;) docstring.'"
      ]
     },
     "execution_count": 38,
     "metadata": {},
     "output_type": "execute_result"
    }
   ],
   "source": [
    "po.__doc__"
   ]
  },
  {
   "cell_type": "code",
   "execution_count": 39,
   "id": "8b370c7d-b088-495e-b9b4-fd2037dd34ab",
   "metadata": {},
   "outputs": [
    {
     "name": "stdout",
     "output_type": "stream",
     "text": [
      "Help on class HasProperty in module __main__:\n",
      "\n",
      "class HasProperty(builtins.object)\n",
      " |  A property-having object.\n",
      " |  \n",
      " |  A HasProperty instance is a thing with a thing called thing.\n",
      " |  \n",
      " |  Data descriptors defined here:\n",
      " |  \n",
      " |  __dict__\n",
      " |      dictionary for instance variables (if defined)\n",
      " |  \n",
      " |  __weakref__\n",
      " |      list of weak references to the object (if defined)\n",
      " |  \n",
      " |  thing\n",
      " |      New and IMPROVED ;) docstring.\n",
      "\n"
     ]
    }
   ],
   "source": [
    "help(HasProperty)"
   ]
  },
  {
   "cell_type": "markdown",
   "id": "888970f9-8a02-4ca3-b1b2-4ae7a3325cbb",
   "metadata": {},
   "source": [
    "## The `getter`, `setter`, and `deleter` methods return modified copies.\n",
    "\n",
    "A new `property` object is created with the specified modification, rather than the original object (on which those methods are called) being mutated."
   ]
  },
  {
   "cell_type": "code",
   "execution_count": 40,
   "id": "131a82ed-6e81-407d-8e17-f34c501f7c52",
   "metadata": {},
   "outputs": [],
   "source": [
    "@po.getter\n",
    "def thing(self):\n",
    "    \"\"\"\n",
    "    The only property that HasProperty has. \n",
    "\n",
    "    It can be gotten, set, and deleted.\n",
    "    \n",
    "    Now with deleted scenes!\n",
    "    \"\"\"\n",
    "    print('Showing _thing, but in a new way.')\n",
    "    return self._thing"
   ]
  },
  {
   "cell_type": "code",
   "execution_count": 41,
   "id": "85bc5a3e-eae4-43c2-9fd7-303a006d7022",
   "metadata": {
    "tags": [
     "raises-exception"
    ]
   },
   "outputs": [
    {
     "ename": "TypeError",
     "evalue": "'property' object is not callable",
     "output_type": "error",
     "traceback": [
      "\u001b[1;31m---------------------------------------------------------------------------\u001b[0m",
      "\u001b[1;31mTypeError\u001b[0m                                 Traceback (most recent call last)",
      "Input \u001b[1;32mIn [41]\u001b[0m, in \u001b[0;36m<cell line: 1>\u001b[1;34m()\u001b[0m\n\u001b[1;32m----> 1\u001b[0m \u001b[43mthing\u001b[49m\u001b[43m(\u001b[49m\u001b[43m)\u001b[49m\n",
      "\u001b[1;31mTypeError\u001b[0m: 'property' object is not callable"
     ]
    }
   ],
   "source": [
    "thing()"
   ]
  },
  {
   "cell_type": "code",
   "execution_count": 42,
   "id": "1617f756-3621-4312-89f4-65c9bdbac6b1",
   "metadata": {},
   "outputs": [
    {
     "data": {
      "text/plain": [
       "False"
      ]
     },
     "execution_count": 42,
     "metadata": {},
     "output_type": "execute_result"
    }
   ],
   "source": [
    "thing is po"
   ]
  },
  {
   "cell_type": "code",
   "execution_count": 43,
   "id": "930ec0e8-d40c-4d93-bbb0-ba72b8f2d93d",
   "metadata": {},
   "outputs": [
    {
     "name": "stdout",
     "output_type": "stream",
     "text": [
      "Help on property:\n",
      "\n",
      "    The only property that HasProperty has. \n",
      "    \n",
      "    It can be gotten, set, and deleted.\n",
      "    \n",
      "    Now with deleted scenes!\n",
      "\n"
     ]
    }
   ],
   "source": [
    "help(thing)"
   ]
  },
  {
   "cell_type": "code",
   "execution_count": 44,
   "id": "1407a69a-d115-4d07-aba7-c0e2938c3acb",
   "metadata": {},
   "outputs": [
    {
     "name": "stdout",
     "output_type": "stream",
     "text": [
      "Help on property:\n",
      "\n",
      "    New and IMPROVED ;) docstring.\n",
      "\n"
     ]
    }
   ],
   "source": [
    "help(po)"
   ]
  },
  {
   "cell_type": "code",
   "execution_count": 45,
   "id": "12a7fd60-63a4-4e5b-8bab-440fea38e386",
   "metadata": {},
   "outputs": [
    {
     "data": {
      "text/plain": [
       "<function __main__.HasProperty.thing(self)>"
      ]
     },
     "execution_count": 45,
     "metadata": {},
     "output_type": "execute_result"
    }
   ],
   "source": [
    "po.fget"
   ]
  },
  {
   "cell_type": "code",
   "execution_count": 46,
   "id": "bfd7791d-9171-43c8-83a9-8c13d11a8a60",
   "metadata": {},
   "outputs": [
    {
     "data": {
      "text/plain": [
       "<function __main__.thing(self)>"
      ]
     },
     "execution_count": 46,
     "metadata": {},
     "output_type": "execute_result"
    }
   ],
   "source": [
    "thing.fget"
   ]
  },
  {
   "cell_type": "code",
   "execution_count": 47,
   "id": "85b12cd5-f557-49a3-bb9b-e36f9fbd89c4",
   "metadata": {},
   "outputs": [
    {
     "data": {
      "text/plain": [
       "False"
      ]
     },
     "execution_count": 47,
     "metadata": {},
     "output_type": "execute_result"
    }
   ],
   "source": [
    "po.fget is thing.fget"
   ]
  },
  {
   "cell_type": "code",
   "execution_count": 48,
   "id": "c87136e8-5c48-4a91-947d-ee388e3225da",
   "metadata": {},
   "outputs": [
    {
     "data": {
      "text/plain": [
       "True"
      ]
     },
     "execution_count": 48,
     "metadata": {},
     "output_type": "execute_result"
    }
   ],
   "source": [
    "po.fset is thing.fset"
   ]
  },
  {
   "cell_type": "code",
   "execution_count": 49,
   "id": "74261dc3-d561-4a72-9646-d61871de5a1f",
   "metadata": {},
   "outputs": [
    {
     "data": {
      "text/plain": [
       "True"
      ]
     },
     "execution_count": 49,
     "metadata": {},
     "output_type": "execute_result"
    }
   ],
   "source": [
    "po.fdel is thing.fdel"
   ]
  },
  {
   "cell_type": "markdown",
   "id": "01cde0a5-5865-42a0-a291-9385f2827967",
   "metadata": {},
   "source": [
    "## Customizing properties in derived classes, part 1 of 2"
   ]
  },
  {
   "cell_type": "code",
   "execution_count": 50,
   "id": "905007e9-8090-4708-b605-7573107c4b52",
   "metadata": {},
   "outputs": [],
   "source": [
    "class Widget:\n",
    "    __slots__ = ('_color',)\n",
    "    \n",
    "    def __init__(self):\n",
    "        self._color = 'blue'\n",
    "    \n",
    "    @property\n",
    "    def color(self):\n",
    "        print('Showing color below.')\n",
    "        return self._color"
   ]
  },
  {
   "cell_type": "code",
   "execution_count": 51,
   "id": "049a66d3-17da-4b2d-b0ba-b236293659b5",
   "metadata": {},
   "outputs": [],
   "source": [
    "w = Widget()"
   ]
  },
  {
   "cell_type": "code",
   "execution_count": 52,
   "id": "a46617c3-600b-4b35-b65c-6a4834e6e92f",
   "metadata": {},
   "outputs": [
    {
     "name": "stdout",
     "output_type": "stream",
     "text": [
      "Showing color below.\n"
     ]
    },
    {
     "data": {
      "text/plain": [
       "'blue'"
      ]
     },
     "execution_count": 52,
     "metadata": {},
     "output_type": "execute_result"
    }
   ],
   "source": [
    "w.color"
   ]
  },
  {
   "cell_type": "code",
   "execution_count": 53,
   "id": "eeb5310f-404c-4fd7-b448-6c9e4da166bb",
   "metadata": {},
   "outputs": [],
   "source": [
    "w._color = 'red'"
   ]
  },
  {
   "cell_type": "code",
   "execution_count": 54,
   "id": "03c692df-a775-4f2e-b73d-daae2bd9284a",
   "metadata": {},
   "outputs": [
    {
     "name": "stdout",
     "output_type": "stream",
     "text": [
      "Showing color below.\n"
     ]
    },
    {
     "data": {
      "text/plain": [
       "'red'"
      ]
     },
     "execution_count": 54,
     "metadata": {},
     "output_type": "execute_result"
    }
   ],
   "source": [
    "w.color"
   ]
  },
  {
   "cell_type": "code",
   "execution_count": 55,
   "id": "8be8ee32-f213-4cc4-a123-62659e785052",
   "metadata": {},
   "outputs": [],
   "source": [
    "class Base:\n",
    "    _color = 'blue'\n",
    "    \n",
    "    @property\n",
    "    def color(self):\n",
    "        print('Showing color below.')\n",
    "        return self._color"
   ]
  },
  {
   "cell_type": "code",
   "execution_count": 56,
   "id": "032b2716-8ea7-4d49-947e-4903757f4713",
   "metadata": {},
   "outputs": [],
   "source": [
    "b = Base()"
   ]
  },
  {
   "cell_type": "code",
   "execution_count": 57,
   "id": "e27e7f93-5f51-49d9-8b70-ee0d5a58e56d",
   "metadata": {},
   "outputs": [
    {
     "name": "stdout",
     "output_type": "stream",
     "text": [
      "Showing color below.\n"
     ]
    },
    {
     "data": {
      "text/plain": [
       "'blue'"
      ]
     },
     "execution_count": 57,
     "metadata": {},
     "output_type": "execute_result"
    }
   ],
   "source": [
    "b.color"
   ]
  },
  {
   "cell_type": "code",
   "execution_count": 58,
   "id": "b6e69309-5deb-4878-aa18-ef047ee2a76c",
   "metadata": {},
   "outputs": [],
   "source": [
    "b._color = 'red'"
   ]
  },
  {
   "cell_type": "code",
   "execution_count": 59,
   "id": "456d9464-637d-42ae-8849-e484f0ffaac8",
   "metadata": {},
   "outputs": [],
   "source": [
    "class Derived(Base):\n",
    "    @Base.color.setter\n",
    "    def color(self, value):\n",
    "        self._color = value"
   ]
  },
  {
   "cell_type": "code",
   "execution_count": 60,
   "id": "1b31b9ed-667c-41d7-b731-4e50260ee19f",
   "metadata": {},
   "outputs": [],
   "source": [
    "d = Derived()"
   ]
  },
  {
   "cell_type": "code",
   "execution_count": 61,
   "id": "d98100ed-3f0b-43f3-8cb0-b4f7b108c93c",
   "metadata": {},
   "outputs": [
    {
     "name": "stdout",
     "output_type": "stream",
     "text": [
      "Showing color below.\n"
     ]
    },
    {
     "data": {
      "text/plain": [
       "'blue'"
      ]
     },
     "execution_count": 61,
     "metadata": {},
     "output_type": "execute_result"
    }
   ],
   "source": [
    "d.color"
   ]
  },
  {
   "cell_type": "code",
   "execution_count": 62,
   "id": "4d4471d5-0443-43e5-b416-3e008d6a9cdc",
   "metadata": {},
   "outputs": [],
   "source": [
    "d.color = 'red'"
   ]
  },
  {
   "cell_type": "code",
   "execution_count": 63,
   "id": "211bab79-2c58-4925-81ca-3b70496662c5",
   "metadata": {},
   "outputs": [
    {
     "name": "stdout",
     "output_type": "stream",
     "text": [
      "Showing color below.\n"
     ]
    },
    {
     "data": {
      "text/plain": [
       "'red'"
      ]
     },
     "execution_count": 63,
     "metadata": {},
     "output_type": "execute_result"
    }
   ],
   "source": [
    "d.color"
   ]
  },
  {
   "cell_type": "code",
   "execution_count": 64,
   "id": "2bc60b03-f1e0-4629-9c13-9f43fa1c5cef",
   "metadata": {},
   "outputs": [],
   "source": [
    "b2 = Base()"
   ]
  },
  {
   "cell_type": "code",
   "execution_count": 65,
   "id": "36cb5b61-d234-424e-aa81-63cf42151272",
   "metadata": {},
   "outputs": [
    {
     "name": "stdout",
     "output_type": "stream",
     "text": [
      "Showing color below.\n"
     ]
    },
    {
     "data": {
      "text/plain": [
       "'blue'"
      ]
     },
     "execution_count": 65,
     "metadata": {},
     "output_type": "execute_result"
    }
   ],
   "source": [
    "b2.color"
   ]
  },
  {
   "cell_type": "code",
   "execution_count": 66,
   "id": "51848e1b-22b4-4fc8-8465-5e822290f04a",
   "metadata": {
    "tags": [
     "raises-exception"
    ]
   },
   "outputs": [
    {
     "ename": "AttributeError",
     "evalue": "can't set attribute 'color'",
     "output_type": "error",
     "traceback": [
      "\u001b[1;31m---------------------------------------------------------------------------\u001b[0m",
      "\u001b[1;31mAttributeError\u001b[0m                            Traceback (most recent call last)",
      "Input \u001b[1;32mIn [66]\u001b[0m, in \u001b[0;36m<cell line: 1>\u001b[1;34m()\u001b[0m\n\u001b[1;32m----> 1\u001b[0m b2\u001b[38;5;241m.\u001b[39mcolor \u001b[38;5;241m=\u001b[39m \u001b[38;5;124m'\u001b[39m\u001b[38;5;124morange\u001b[39m\u001b[38;5;124m'\u001b[39m\n",
      "\u001b[1;31mAttributeError\u001b[0m: can't set attribute 'color'"
     ]
    }
   ],
   "source": [
    "b2.color = 'orange' "
   ]
  },
  {
   "cell_type": "markdown",
   "id": "7e3b6c8c-5b18-45f5-82b9-51b6484537ae",
   "metadata": {},
   "source": [
    "## Decorator semantics and `getter`, `setter`, and `deleter`\n",
    "\n",
    "Stack Overflow: [How does property decorator work internally using syntactic sugar(@) in python?](https://stackoverflow.com/questions/62952223/how-does-property-decorator-work-internally-using-syntactic-sugar-in-python)"
   ]
  },
  {
   "cell_type": "code",
   "execution_count": 67,
   "id": "db385c8c-732e-4b7c-96dd-684acd513973",
   "metadata": {
    "tags": [
     "raises-exception"
    ]
   },
   "outputs": [
    {
     "ename": "AttributeError",
     "evalue": "'function' object has no attribute 'setter'",
     "output_type": "error",
     "traceback": [
      "\u001b[1;31m---------------------------------------------------------------------------\u001b[0m",
      "\u001b[1;31mAttributeError\u001b[0m                            Traceback (most recent call last)",
      "Input \u001b[1;32mIn [67]\u001b[0m, in \u001b[0;36m<cell line: 1>\u001b[1;34m()\u001b[0m\n\u001b[1;32m----> 1\u001b[0m \u001b[38;5;28;01mclass\u001b[39;00m \u001b[38;5;21;01mHasPropertyTwo\u001b[39;00m:\n\u001b[0;32m      2\u001b[0m     \u001b[38;5;124;03m\"\"\"\u001b[39;00m\n\u001b[0;32m      3\u001b[0m \u001b[38;5;124;03m    A property-having object.\u001b[39;00m\n\u001b[0;32m      4\u001b[0m \u001b[38;5;124;03m    \u001b[39;00m\n\u001b[0;32m      5\u001b[0m \u001b[38;5;124;03m    A HasProperty instance is a thing with a thing called thing.\u001b[39;00m\n\u001b[0;32m      6\u001b[0m \u001b[38;5;124;03m    \"\"\"\u001b[39;00m\n\u001b[0;32m      8\u001b[0m     \u001b[38;5;129m@property\u001b[39m\n\u001b[0;32m      9\u001b[0m     \u001b[38;5;28;01mdef\u001b[39;00m \u001b[38;5;21mthing\u001b[39m(\u001b[38;5;28mself\u001b[39m):\n",
      "Input \u001b[1;32mIn [67]\u001b[0m, in \u001b[0;36mHasPropertyTwo\u001b[1;34m()\u001b[0m\n\u001b[0;32m     19\u001b[0m     \u001b[38;5;28mprint\u001b[39m(\u001b[38;5;124mf\u001b[39m\u001b[38;5;124m'\u001b[39m\u001b[38;5;124mSetting _thing to \u001b[39m\u001b[38;5;132;01m{\u001b[39;00mvalue\u001b[38;5;132;01m!r}\u001b[39;00m\u001b[38;5;124m.\u001b[39m\u001b[38;5;124m'\u001b[39m)\n\u001b[0;32m     20\u001b[0m     \u001b[38;5;28mself\u001b[39m\u001b[38;5;241m.\u001b[39m_thing \u001b[38;5;241m=\u001b[39m value\n\u001b[1;32m---> 22\u001b[0m thing \u001b[38;5;241m=\u001b[39m \u001b[43mthing\u001b[49m\u001b[38;5;241;43m.\u001b[39;49m\u001b[43msetter\u001b[49m(thing)\n",
      "\u001b[1;31mAttributeError\u001b[0m: 'function' object has no attribute 'setter'"
     ]
    }
   ],
   "source": [
    "class HasPropertyTwo:\n",
    "    \"\"\"\n",
    "    A property-having object.\n",
    "    \n",
    "    A HasProperty instance is a thing with a thing called thing.\n",
    "    \"\"\"\n",
    "\n",
    "    @property\n",
    "    def thing(self):\n",
    "        \"\"\"\n",
    "        The only property that HasProperty has. \n",
    "        \n",
    "        It can be gotten, set, and deleted.\n",
    "        \"\"\"\n",
    "        print('Showing _thing.')\n",
    "        return self._thing\n",
    "    \n",
    "    def thing(self, value):\n",
    "        print(f'Setting _thing to {value!r}.')\n",
    "        self._thing = value\n",
    "    \n",
    "    thing = thing.setter(thing)\n",
    "\n",
    "# Raises AttributeError because the second def for thing makes thing a mere\n",
    "# function, not a property object anymore."
   ]
  },
  {
   "cell_type": "markdown",
   "id": "5b3f391d-425a-424c-a7d4-a68e47a44b12",
   "metadata": {},
   "source": [
    "## Exercise: A property with no getter"
   ]
  },
  {
   "cell_type": "code",
   "execution_count": 68,
   "id": "1d1d1ea1-cc40-48d5-a27f-3a392a78cb1e",
   "metadata": {},
   "outputs": [
    {
     "name": "stdout",
     "output_type": "stream",
     "text": [
      "Help on class property in module builtins:\n",
      "\n",
      "class property(object)\n",
      " |  property(fget=None, fset=None, fdel=None, doc=None)\n",
      " |  \n",
      " |  Property attribute.\n",
      " |  \n",
      " |    fget\n",
      " |      function to be used for getting an attribute value\n",
      " |    fset\n",
      " |      function to be used for setting an attribute value\n",
      " |    fdel\n",
      " |      function to be used for del'ing an attribute\n",
      " |    doc\n",
      " |      docstring\n",
      " |  \n",
      " |  Typical use is to define a managed attribute x:\n",
      " |  \n",
      " |  class C(object):\n",
      " |      def getx(self): return self._x\n",
      " |      def setx(self, value): self._x = value\n",
      " |      def delx(self): del self._x\n",
      " |      x = property(getx, setx, delx, \"I'm the 'x' property.\")\n",
      " |  \n",
      " |  Decorators make defining new properties or modifying existing ones easy:\n",
      " |  \n",
      " |  class C(object):\n",
      " |      @property\n",
      " |      def x(self):\n",
      " |          \"I am the 'x' property.\"\n",
      " |          return self._x\n",
      " |      @x.setter\n",
      " |      def x(self, value):\n",
      " |          self._x = value\n",
      " |      @x.deleter\n",
      " |      def x(self):\n",
      " |          del self._x\n",
      " |  \n",
      " |  Methods defined here:\n",
      " |  \n",
      " |  __delete__(self, instance, /)\n",
      " |      Delete an attribute of instance.\n",
      " |  \n",
      " |  __get__(self, instance, owner, /)\n",
      " |      Return an attribute of instance, which is of type owner.\n",
      " |  \n",
      " |  __getattribute__(self, name, /)\n",
      " |      Return getattr(self, name).\n",
      " |  \n",
      " |  __init__(self, /, *args, **kwargs)\n",
      " |      Initialize self.  See help(type(self)) for accurate signature.\n",
      " |  \n",
      " |  __set__(self, instance, value, /)\n",
      " |      Set an attribute of instance to value.\n",
      " |  \n",
      " |  __set_name__(...)\n",
      " |      Method to set name of a property.\n",
      " |  \n",
      " |  deleter(...)\n",
      " |      Descriptor to obtain a copy of the property with a different deleter.\n",
      " |  \n",
      " |  getter(...)\n",
      " |      Descriptor to obtain a copy of the property with a different getter.\n",
      " |  \n",
      " |  setter(...)\n",
      " |      Descriptor to obtain a copy of the property with a different setter.\n",
      " |  \n",
      " |  ----------------------------------------------------------------------\n",
      " |  Static methods defined here:\n",
      " |  \n",
      " |  __new__(*args, **kwargs) from builtins.type\n",
      " |      Create and return a new object.  See help(type) for accurate signature.\n",
      " |  \n",
      " |  ----------------------------------------------------------------------\n",
      " |  Data descriptors defined here:\n",
      " |  \n",
      " |  __isabstractmethod__\n",
      " |  \n",
      " |  fdel\n",
      " |  \n",
      " |  fget\n",
      " |  \n",
      " |  fset\n",
      "\n"
     ]
    }
   ],
   "source": [
    "help(property)"
   ]
  },
  {
   "cell_type": "code",
   "execution_count": 69,
   "id": "76238087-fca6-4cbc-9462-087c1076c953",
   "metadata": {},
   "outputs": [],
   "source": [
    "class C: \n",
    "    def _setx(self, value): \n",
    "        print(f'Setting x to {value!r}.')\n",
    "        self._x = value\n",
    "    \n",
    "    x = property(fset=_setx)"
   ]
  },
  {
   "cell_type": "code",
   "execution_count": 70,
   "id": "1f6214df-674f-44d7-9823-02af5d30d8e4",
   "metadata": {},
   "outputs": [],
   "source": [
    "c = C()"
   ]
  },
  {
   "cell_type": "code",
   "execution_count": 71,
   "id": "305a0d35-231d-4125-bee0-973cd2b7377e",
   "metadata": {
    "tags": [
     "raises-exception"
    ]
   },
   "outputs": [
    {
     "ename": "AttributeError",
     "evalue": "unreadable attribute 'x'",
     "output_type": "error",
     "traceback": [
      "\u001b[1;31m---------------------------------------------------------------------------\u001b[0m",
      "\u001b[1;31mAttributeError\u001b[0m                            Traceback (most recent call last)",
      "Input \u001b[1;32mIn [71]\u001b[0m, in \u001b[0;36m<cell line: 1>\u001b[1;34m()\u001b[0m\n\u001b[1;32m----> 1\u001b[0m \u001b[43mc\u001b[49m\u001b[38;5;241;43m.\u001b[39;49m\u001b[43mx\u001b[49m\n",
      "\u001b[1;31mAttributeError\u001b[0m: unreadable attribute 'x'"
     ]
    }
   ],
   "source": [
    "c.x"
   ]
  },
  {
   "cell_type": "code",
   "execution_count": 72,
   "id": "79743ea0-bf0f-4dd5-b751-d39bff24bb77",
   "metadata": {},
   "outputs": [
    {
     "name": "stdout",
     "output_type": "stream",
     "text": [
      "Setting x to 3.\n"
     ]
    }
   ],
   "source": [
    "c.x = 3"
   ]
  },
  {
   "cell_type": "markdown",
   "id": "b31196a5-feab-4653-9849-fe95bb4760eb",
   "metadata": {},
   "source": [
    "## Customizing properties in derived classes, part 2 of 2"
   ]
  },
  {
   "cell_type": "code",
   "execution_count": 73,
   "id": "2aa319b8-1ef6-4f78-ab8f-2248ebe64325",
   "metadata": {},
   "outputs": [],
   "source": [
    "class Base: \n",
    "    def answer(self):\n",
    "        return 42"
   ]
  },
  {
   "cell_type": "code",
   "execution_count": 74,
   "id": "32693391-b17f-402b-8351-0b42e946bead",
   "metadata": {},
   "outputs": [],
   "source": [
    "class Derived(Base): \n",
    "    def answer(self): \n",
    "        return Base.answer(self) + 1"
   ]
  },
  {
   "cell_type": "code",
   "execution_count": 75,
   "id": "f8edc288-605b-427d-959a-ecd9c24d6ad1",
   "metadata": {},
   "outputs": [],
   "source": [
    "d = Derived()"
   ]
  },
  {
   "cell_type": "code",
   "execution_count": 76,
   "id": "e45ef8bc-e961-464b-929d-285fb1a423e6",
   "metadata": {},
   "outputs": [
    {
     "data": {
      "text/plain": [
       "43"
      ]
     },
     "execution_count": 76,
     "metadata": {},
     "output_type": "execute_result"
    }
   ],
   "source": [
    "d.answer()"
   ]
  },
  {
   "cell_type": "code",
   "execution_count": 77,
   "id": "e3c8be4e-2ae7-4acb-ac30-d6c99c5ad6f5",
   "metadata": {},
   "outputs": [],
   "source": [
    "class AltDerived(Base):\n",
    "    def answer(self):\n",
    "        return super().answer() + 1"
   ]
  },
  {
   "cell_type": "code",
   "execution_count": 78,
   "id": "610510eb-dda0-40c4-9f47-4e79f9588eb0",
   "metadata": {},
   "outputs": [],
   "source": [
    "d2 = AltDerived()"
   ]
  },
  {
   "cell_type": "code",
   "execution_count": 79,
   "id": "35926144-6944-4984-9133-8d916ea1445b",
   "metadata": {},
   "outputs": [
    {
     "data": {
      "text/plain": [
       "43"
      ]
     },
     "execution_count": 79,
     "metadata": {},
     "output_type": "execute_result"
    }
   ],
   "source": [
    "d2.answer()"
   ]
  },
  {
   "cell_type": "code",
   "execution_count": 80,
   "id": "aa521c3b-7326-4fdb-837e-b90085b93d0e",
   "metadata": {},
   "outputs": [],
   "source": [
    "import abc"
   ]
  },
  {
   "cell_type": "code",
   "execution_count": 81,
   "id": "8755b05c-1970-4971-af5b-ece3c7b6bfd5",
   "metadata": {},
   "outputs": [],
   "source": [
    "class AbstractBase(abc.ABC): \n",
    "    @abc.abstractmethod\n",
    "    def answer(self): \n",
    "        return 42"
   ]
  },
  {
   "cell_type": "code",
   "execution_count": 82,
   "id": "09ffdd0c-aba0-465f-984c-1281d13fe23c",
   "metadata": {},
   "outputs": [],
   "source": [
    "class Derived(AbstractBase): \n",
    "    def answer(self):\n",
    "        return super().answer() + 1"
   ]
  },
  {
   "cell_type": "code",
   "execution_count": 83,
   "id": "8c63a1e3-48c6-4b26-85f4-1682d3a8c227",
   "metadata": {},
   "outputs": [],
   "source": [
    "d = Derived()"
   ]
  },
  {
   "cell_type": "code",
   "execution_count": 84,
   "id": "f3d334b8-edf7-4cd3-9215-82c2f09fe01c",
   "metadata": {},
   "outputs": [
    {
     "data": {
      "text/plain": [
       "43"
      ]
     },
     "execution_count": 84,
     "metadata": {},
     "output_type": "execute_result"
    }
   ],
   "source": [
    "d.answer()"
   ]
  },
  {
   "cell_type": "markdown",
   "id": "386b6ce7-4eec-4656-b979-5dc56da7b756",
   "metadata": {},
   "source": [
    "## Sidebar: `@abstractmethod` on \"concrete\" classes"
   ]
  },
  {
   "cell_type": "code",
   "execution_count": 85,
   "id": "faa85f81-b9fb-4aeb-961c-b6e416972693",
   "metadata": {},
   "outputs": [],
   "source": [
    "class KindaConcrete: \n",
    "    @abc.abstractmethod\n",
    "    def f(self): \n",
    "        raise NotImplementedError"
   ]
  },
  {
   "cell_type": "code",
   "execution_count": 86,
   "id": "da8737ba-a7e6-46db-9309-165e1747e41c",
   "metadata": {
    "tags": [
     "raises-exception"
    ]
   },
   "outputs": [
    {
     "ename": "NotImplementedError",
     "evalue": "",
     "output_type": "error",
     "traceback": [
      "\u001b[1;31m---------------------------------------------------------------------------\u001b[0m",
      "\u001b[1;31mNotImplementedError\u001b[0m                       Traceback (most recent call last)",
      "Input \u001b[1;32mIn [86]\u001b[0m, in \u001b[0;36m<cell line: 1>\u001b[1;34m()\u001b[0m\n\u001b[1;32m----> 1\u001b[0m \u001b[43mKindaConcrete\u001b[49m\u001b[43m(\u001b[49m\u001b[43m)\u001b[49m\u001b[38;5;241;43m.\u001b[39;49m\u001b[43mf\u001b[49m\u001b[43m(\u001b[49m\u001b[43m)\u001b[49m\n",
      "Input \u001b[1;32mIn [85]\u001b[0m, in \u001b[0;36mKindaConcrete.f\u001b[1;34m(self)\u001b[0m\n\u001b[0;32m      2\u001b[0m \u001b[38;5;129m@abc\u001b[39m\u001b[38;5;241m.\u001b[39mabstractmethod\n\u001b[0;32m      3\u001b[0m \u001b[38;5;28;01mdef\u001b[39;00m \u001b[38;5;21mf\u001b[39m(\u001b[38;5;28mself\u001b[39m): \n\u001b[1;32m----> 4\u001b[0m     \u001b[38;5;28;01mraise\u001b[39;00m \u001b[38;5;167;01mNotImplementedError\u001b[39;00m\n",
      "\u001b[1;31mNotImplementedError\u001b[0m: "
     ]
    }
   ],
   "source": [
    "KindaConcrete().f()"
   ]
  },
  {
   "cell_type": "code",
   "execution_count": 87,
   "id": "703b5084-df94-4ec0-a204-2385c5000ea9",
   "metadata": {},
   "outputs": [],
   "source": [
    "class ReallyAbstract(abc.ABC): \n",
    "    @abc.abstractmethod\n",
    "    def f(self): \n",
    "        raise NotImplementedError    "
   ]
  },
  {
   "cell_type": "code",
   "execution_count": 88,
   "id": "370c2c63-d242-4b6f-9c84-9c4430dc9504",
   "metadata": {
    "tags": [
     "raises-exception"
    ]
   },
   "outputs": [
    {
     "ename": "TypeError",
     "evalue": "Can't instantiate abstract class ReallyAbstract with abstract method f",
     "output_type": "error",
     "traceback": [
      "\u001b[1;31m---------------------------------------------------------------------------\u001b[0m",
      "\u001b[1;31mTypeError\u001b[0m                                 Traceback (most recent call last)",
      "Input \u001b[1;32mIn [88]\u001b[0m, in \u001b[0;36m<cell line: 1>\u001b[1;34m()\u001b[0m\n\u001b[1;32m----> 1\u001b[0m \u001b[43mReallyAbstract\u001b[49m\u001b[43m(\u001b[49m\u001b[43m)\u001b[49m\u001b[38;5;241m.\u001b[39mf()\n",
      "\u001b[1;31mTypeError\u001b[0m: Can't instantiate abstract class ReallyAbstract with abstract method f"
     ]
    }
   ],
   "source": [
    "ReallyAbstract().f()"
   ]
  },
  {
   "cell_type": "markdown",
   "id": "69b6a5e4-af06-42ff-96ef-36014444b504",
   "metadata": {},
   "source": [
    "## Customizing properties in derived classes, part 2 of 2 (cont'd)"
   ]
  },
  {
   "cell_type": "code",
   "execution_count": 89,
   "id": "2887132c-e954-4816-9c55-fd829a271e96",
   "metadata": {},
   "outputs": [
    {
     "data": {
      "text/plain": [
       "77"
      ]
     },
     "execution_count": 89,
     "metadata": {},
     "output_type": "execute_result"
    }
   ],
   "source": [
    "class B:\n",
    "    @property\n",
    "    def p(self):\n",
    "        return 76\n",
    "\n",
    "class D(B):\n",
    "    @property\n",
    "    def p(self):\n",
    "        return super().p + 1\n",
    "\n",
    "D().p"
   ]
  },
  {
   "cell_type": "code",
   "execution_count": 90,
   "id": "060e4775-0e44-4bd8-8ae4-15e5073a7a33",
   "metadata": {},
   "outputs": [],
   "source": [
    "class C:\n",
    "    \n",
    "    __slots__ = ()\n",
    "    \n",
    "    def f(self):\n",
    "        return 42"
   ]
  },
  {
   "cell_type": "code",
   "execution_count": 91,
   "id": "f926df5d-19d6-4e4e-9908-8440852e3eec",
   "metadata": {},
   "outputs": [
    {
     "data": {
      "text/plain": [
       "42"
      ]
     },
     "execution_count": 91,
     "metadata": {},
     "output_type": "execute_result"
    }
   ],
   "source": [
    "C().f()"
   ]
  },
  {
   "cell_type": "code",
   "execution_count": 92,
   "id": "0014e6af-5a0d-4e68-b9e4-5922cf5468bc",
   "metadata": {
    "tags": [
     "raises-exception"
    ]
   },
   "outputs": [
    {
     "ename": "AttributeError",
     "evalue": "'C' object attribute 'f' is read-only",
     "output_type": "error",
     "traceback": [
      "\u001b[1;31m---------------------------------------------------------------------------\u001b[0m",
      "\u001b[1;31mAttributeError\u001b[0m                            Traceback (most recent call last)",
      "Input \u001b[1;32mIn [92]\u001b[0m, in \u001b[0;36m<cell line: 2>\u001b[1;34m()\u001b[0m\n\u001b[0;32m      1\u001b[0m x \u001b[38;5;241m=\u001b[39m C()\n\u001b[1;32m----> 2\u001b[0m x\u001b[38;5;241m.\u001b[39mf \u001b[38;5;241m=\u001b[39m \u001b[38;5;28;01mlambda\u001b[39;00m: \u001b[38;5;241m76\u001b[39m  \u001b[38;5;66;03m# Would work without __slots__.\u001b[39;00m\n\u001b[0;32m      3\u001b[0m x\u001b[38;5;241m.\u001b[39mf()\n",
      "\u001b[1;31mAttributeError\u001b[0m: 'C' object attribute 'f' is read-only"
     ]
    }
   ],
   "source": [
    "x = C()\n",
    "x.f = lambda: 76  # Would work without __slots__.\n",
    "x.f()"
   ]
  },
  {
   "cell_type": "code",
   "execution_count": 93,
   "id": "b5c352c9-b85b-4624-b111-e6cb237e3de4",
   "metadata": {},
   "outputs": [],
   "source": [
    "import math"
   ]
  },
  {
   "cell_type": "code",
   "execution_count": 94,
   "id": "51b21795-b8d9-4367-b664-5b5cd33756a2",
   "metadata": {},
   "outputs": [],
   "source": [
    "class Square: \n",
    "    \n",
    "    __slots__ = ('_area',)\n",
    "    \n",
    "    def __init__(self, side): \n",
    "        self.side = side\n",
    "    \n",
    "    @property\n",
    "    def side(self):\n",
    "        return math.sqrt(self._area)\n",
    "    \n",
    "    @side.setter\n",
    "    def side(self, value):\n",
    "        self._area = value * value"
   ]
  },
  {
   "cell_type": "code",
   "execution_count": 95,
   "id": "bac025bf-d415-4230-ae71-6cb23f5a70c1",
   "metadata": {},
   "outputs": [],
   "source": [
    "s = Square(2)"
   ]
  },
  {
   "cell_type": "code",
   "execution_count": 96,
   "id": "e283fa2a-2495-4330-b93e-37f0849c0206",
   "metadata": {},
   "outputs": [
    {
     "data": {
      "text/plain": [
       "2.0"
      ]
     },
     "execution_count": 96,
     "metadata": {},
     "output_type": "execute_result"
    }
   ],
   "source": [
    "s.side"
   ]
  },
  {
   "cell_type": "code",
   "execution_count": 97,
   "id": "4c6ab47c-03a9-4bca-a3bb-cbb36ae6fc00",
   "metadata": {},
   "outputs": [],
   "source": [
    "s.side = 4"
   ]
  },
  {
   "cell_type": "code",
   "execution_count": 98,
   "id": "fcf6edf6-a857-4839-9289-9ca840dbc46d",
   "metadata": {},
   "outputs": [
    {
     "data": {
      "text/plain": [
       "4.0"
      ]
     },
     "execution_count": 98,
     "metadata": {},
     "output_type": "execute_result"
    }
   ],
   "source": [
    "s.side"
   ]
  },
  {
   "cell_type": "code",
   "execution_count": 99,
   "id": "9d8e0407-78ec-4db6-9c38-593018b14fd4",
   "metadata": {},
   "outputs": [
    {
     "data": {
      "text/plain": [
       "16"
      ]
     },
     "execution_count": 99,
     "metadata": {},
     "output_type": "execute_result"
    }
   ],
   "source": [
    "s._area"
   ]
  },
  {
   "cell_type": "code",
   "execution_count": 100,
   "id": "66d92a00-6eb2-49c8-8e58-0491934dbc61",
   "metadata": {},
   "outputs": [],
   "source": [
    "class LoudSquare(Square): \n",
    "    @Square.side.setter\n",
    "    def side(self, value): \n",
    "        print(f'Setting side to {value!r}.')\n",
    "        super().side = value"
   ]
  },
  {
   "cell_type": "code",
   "execution_count": 101,
   "id": "1d6a4c82-1668-44b5-b819-82777ae96af1",
   "metadata": {
    "tags": [
     "raises-exception"
    ]
   },
   "outputs": [
    {
     "name": "stdout",
     "output_type": "stream",
     "text": [
      "Setting side to 4.\n"
     ]
    },
    {
     "ename": "AttributeError",
     "evalue": "'super' object has no attribute 'side'",
     "output_type": "error",
     "traceback": [
      "\u001b[1;31m---------------------------------------------------------------------------\u001b[0m",
      "\u001b[1;31mAttributeError\u001b[0m                            Traceback (most recent call last)",
      "Input \u001b[1;32mIn [101]\u001b[0m, in \u001b[0;36m<cell line: 1>\u001b[1;34m()\u001b[0m\n\u001b[1;32m----> 1\u001b[0m ls \u001b[38;5;241m=\u001b[39m \u001b[43mLoudSquare\u001b[49m\u001b[43m(\u001b[49m\u001b[38;5;241;43m4\u001b[39;49m\u001b[43m)\u001b[49m\n",
      "Input \u001b[1;32mIn [94]\u001b[0m, in \u001b[0;36mSquare.__init__\u001b[1;34m(self, side)\u001b[0m\n\u001b[0;32m      5\u001b[0m \u001b[38;5;28;01mdef\u001b[39;00m \u001b[38;5;21m__init__\u001b[39m(\u001b[38;5;28mself\u001b[39m, side): \n\u001b[1;32m----> 6\u001b[0m     \u001b[38;5;28mself\u001b[39m\u001b[38;5;241m.\u001b[39mside \u001b[38;5;241m=\u001b[39m side\n",
      "Input \u001b[1;32mIn [100]\u001b[0m, in \u001b[0;36mLoudSquare.side\u001b[1;34m(self, value)\u001b[0m\n\u001b[0;32m      2\u001b[0m \u001b[38;5;129m@Square\u001b[39m\u001b[38;5;241m.\u001b[39mside\u001b[38;5;241m.\u001b[39msetter\n\u001b[0;32m      3\u001b[0m \u001b[38;5;28;01mdef\u001b[39;00m \u001b[38;5;21mside\u001b[39m(\u001b[38;5;28mself\u001b[39m, value): \n\u001b[0;32m      4\u001b[0m     \u001b[38;5;28mprint\u001b[39m(\u001b[38;5;124mf\u001b[39m\u001b[38;5;124m'\u001b[39m\u001b[38;5;124mSetting side to \u001b[39m\u001b[38;5;132;01m{\u001b[39;00mvalue\u001b[38;5;132;01m!r}\u001b[39;00m\u001b[38;5;124m.\u001b[39m\u001b[38;5;124m'\u001b[39m)\n\u001b[1;32m----> 5\u001b[0m     \u001b[38;5;28msuper\u001b[39m()\u001b[38;5;241m.\u001b[39mside \u001b[38;5;241m=\u001b[39m value\n",
      "\u001b[1;31mAttributeError\u001b[0m: 'super' object has no attribute 'side'"
     ]
    }
   ],
   "source": [
    "ls = LoudSquare(4)"
   ]
  },
  {
   "cell_type": "code",
   "execution_count": 102,
   "id": "a06b1ccb-008f-4bb4-9a8b-5a35719b5dfc",
   "metadata": {},
   "outputs": [],
   "source": [
    "class LoudSquare(Square): \n",
    "    @Square.side.setter\n",
    "    def side(self, value): \n",
    "        print(f'Setting side to {value!r}.')\n",
    "        Square.side.fset(self, value)"
   ]
  },
  {
   "cell_type": "code",
   "execution_count": 103,
   "id": "d697ffda-b2c5-4310-b27c-e48e640fce1e",
   "metadata": {},
   "outputs": [
    {
     "name": "stdout",
     "output_type": "stream",
     "text": [
      "Setting side to 4.\n"
     ]
    }
   ],
   "source": [
    "ls = LoudSquare(4)"
   ]
  },
  {
   "cell_type": "code",
   "execution_count": 104,
   "id": "bcd32fba-9d93-4a72-8e67-3ea9a2498559",
   "metadata": {},
   "outputs": [
    {
     "data": {
      "text/plain": [
       "16"
      ]
     },
     "execution_count": 104,
     "metadata": {},
     "output_type": "execute_result"
    }
   ],
   "source": [
    "ls._area"
   ]
  },
  {
   "cell_type": "markdown",
   "id": "994f1a16-d781-48a7-a793-62f715acf85c",
   "metadata": {},
   "source": [
    "## Overriding is easier with explicit getter/setter methods\n",
    "\n",
    "But this is usually not the interface we want for users of the class."
   ]
  },
  {
   "cell_type": "code",
   "execution_count": 105,
   "id": "53297493-0819-4620-9690-39b4c9bf4b7f",
   "metadata": {},
   "outputs": [],
   "source": [
    "class Square: \n",
    "    \n",
    "    __slots__ = ('_area',)\n",
    "    \n",
    "    def __init__(self, side): \n",
    "        self.set_side(side)\n",
    "    \n",
    "    def get_side(self):\n",
    "        return math.sqrt(self._area)\n",
    "    \n",
    "    def set_side(self, side):\n",
    "        self._area = side * side"
   ]
  },
  {
   "cell_type": "code",
   "execution_count": 106,
   "id": "84ca5019-1004-44d9-b28a-f5cbcb1b482c",
   "metadata": {},
   "outputs": [],
   "source": [
    "class LoudSquare(Square): \n",
    "    \n",
    "    __slots__ = ()\n",
    "    \n",
    "    def set_side(self, side): \n",
    "        print(f'Setting side to {side!r}.')\n",
    "        super().set_side(side)"
   ]
  },
  {
   "cell_type": "code",
   "execution_count": 107,
   "id": "c89f945b-6f55-4405-b9b1-9062b48220e8",
   "metadata": {},
   "outputs": [
    {
     "name": "stdout",
     "output_type": "stream",
     "text": [
      "Setting side to 4.\n"
     ]
    }
   ],
   "source": [
    "ls = LoudSquare(4)"
   ]
  },
  {
   "cell_type": "code",
   "execution_count": 108,
   "id": "bc1b549d-b2d7-4d44-8dd9-683890e0c5d6",
   "metadata": {},
   "outputs": [
    {
     "data": {
      "text/plain": [
       "16"
      ]
     },
     "execution_count": 108,
     "metadata": {},
     "output_type": "execute_result"
    }
   ],
   "source": [
    "ls._area"
   ]
  },
  {
   "cell_type": "code",
   "execution_count": 109,
   "id": "f6029006-ec14-43a1-a097-c389a45a0e03",
   "metadata": {
    "tags": [
     "raises-exception"
    ]
   },
   "outputs": [
    {
     "ename": "AttributeError",
     "evalue": "'LoudSquare' object has no attribute 'x'",
     "output_type": "error",
     "traceback": [
      "\u001b[1;31m---------------------------------------------------------------------------\u001b[0m",
      "\u001b[1;31mAttributeError\u001b[0m                            Traceback (most recent call last)",
      "Input \u001b[1;32mIn [109]\u001b[0m, in \u001b[0;36m<cell line: 1>\u001b[1;34m()\u001b[0m\n\u001b[1;32m----> 1\u001b[0m ls\u001b[38;5;241m.\u001b[39mx \u001b[38;5;241m=\u001b[39m \u001b[38;5;241m2\u001b[39m\n",
      "\u001b[1;31mAttributeError\u001b[0m: 'LoudSquare' object has no attribute 'x'"
     ]
    }
   ],
   "source": [
    "ls.x = 2"
   ]
  },
  {
   "cell_type": "markdown",
   "id": "411f8001-b203-4091-a393-8d19f51a6a16",
   "metadata": {},
   "source": [
    "## The solution: properties that delegate to explicit accessor methods\n",
    "\n",
    "**Note:** This should be used when designing a base class with the deliberate and considered intention that derived classes will customize the behavior of existing base-class properties."
   ]
  },
  {
   "cell_type": "code",
   "execution_count": 110,
   "id": "38f22532-e6f4-4a92-a580-270ad27d7557",
   "metadata": {},
   "outputs": [],
   "source": [
    "class Square: \n",
    "    \n",
    "    __slots__ = ('_area',)\n",
    "    \n",
    "    def __init__(self, side): \n",
    "        self.side = side\n",
    "    \n",
    "    @property\n",
    "    def side(self):\n",
    "        return self._get_side()\n",
    "    \n",
    "    @side.setter\n",
    "    def side(self, value):\n",
    "        self._set_side(value)\n",
    "    \n",
    "    def _get_side(self): \n",
    "        \"\"\"\n",
    "        Get the side length. (Protected setter method.)\n",
    "        \n",
    "        This should only ever be called from code in this and derived classes.\n",
    "        \"\"\"    \n",
    "        return math.sqrt(self._area)\n",
    "    \n",
    "    def _set_side(self, value): \n",
    "        \"\"\"\n",
    "        Set the side length. (Protected setter method.)\n",
    "        \n",
    "        This should only ever be called from code in this and derived classes.\n",
    "        \"\"\"\n",
    "        self._area = value * value"
   ]
  },
  {
   "cell_type": "code",
   "execution_count": 111,
   "id": "976495f6-c8b4-4129-a7b4-7427ff98b637",
   "metadata": {},
   "outputs": [],
   "source": [
    "class LoudSquare(Square): \n",
    "    \n",
    "    __slots__ = ()\n",
    "    \n",
    "    def _set_side(self, side): \n",
    "        print(f'Setting side to {side!r}.')\n",
    "        super()._set_side(side)"
   ]
  },
  {
   "cell_type": "code",
   "execution_count": 112,
   "id": "c7b2d5d1-4935-429d-920b-b0cd14d92898",
   "metadata": {},
   "outputs": [
    {
     "name": "stdout",
     "output_type": "stream",
     "text": [
      "Setting side to 4.\n"
     ]
    }
   ],
   "source": [
    "ls = LoudSquare(4)"
   ]
  },
  {
   "cell_type": "code",
   "execution_count": 113,
   "id": "57fbbd1d-69a1-4519-b024-ea48685a244b",
   "metadata": {},
   "outputs": [
    {
     "data": {
      "text/plain": [
       "16"
      ]
     },
     "execution_count": 113,
     "metadata": {},
     "output_type": "execute_result"
    }
   ],
   "source": [
    "ls._area"
   ]
  },
  {
   "cell_type": "code",
   "execution_count": 114,
   "id": "622b3339-5ce4-4a5a-b17c-33d61eb61cd1",
   "metadata": {},
   "outputs": [
    {
     "name": "stdout",
     "output_type": "stream",
     "text": [
      "Setting side to 5.\n"
     ]
    }
   ],
   "source": [
    "ls.side = 5"
   ]
  },
  {
   "cell_type": "code",
   "execution_count": 115,
   "id": "d420af73-91ed-4e88-8a0f-85f176c45fe2",
   "metadata": {},
   "outputs": [
    {
     "data": {
      "text/plain": [
       "25"
      ]
     },
     "execution_count": 115,
     "metadata": {},
     "output_type": "execute_result"
    }
   ],
   "source": [
    "ls._area"
   ]
  },
  {
   "cell_type": "code",
   "execution_count": null,
   "id": "ad6bd9d2-afc8-4b26-affc-a81e69a31a57",
   "metadata": {},
   "outputs": [],
   "source": []
  }
 ],
 "metadata": {
  "kernelspec": {
   "display_name": "Python 3 (ipykernel)",
   "language": "python",
   "name": "python3"
  },
  "language_info": {
   "codemirror_mode": {
    "name": "ipython",
    "version": 3
   },
   "file_extension": ".py",
   "mimetype": "text/x-python",
   "name": "python",
   "nbconvert_exporter": "python",
   "pygments_lexer": "ipython3",
   "version": "3.10.4"
  }
 },
 "nbformat": 4,
 "nbformat_minor": 5
}
