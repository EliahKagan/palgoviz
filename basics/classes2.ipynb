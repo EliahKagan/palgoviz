{
 "cells": [
  {
   "cell_type": "markdown",
   "id": "9cc52926-46df-4d9b-bd9f-4eac3dfe3fb6",
   "metadata": {},
   "source": [
    "# Classes - More in depth"
   ]
  },
  {
   "cell_type": "markdown",
   "id": "816c305b-a3ec-4c02-872e-51a02c183e92",
   "metadata": {},
   "source": [
    "## Accidentally omitting `@staticmethod`"
   ]
  },
  {
   "cell_type": "markdown",
   "id": "afc59a60-6dab-43ae-97bc-74a5201539d3",
   "metadata": {},
   "source": [
    "An undecorated method with missing `self` behaves like a static method, in the most common use case that it is called only on the class. This is not usually a good thing to do. I present it here *not* to recommend it, but to caution against it as a mistake that can arise when one forgets to write `@staticmethod` when one meant to do so."
   ]
  },
  {
   "cell_type": "code",
   "execution_count": 1,
   "id": "f39498b3-abb2-4cd3-acb5-1f6b95763008",
   "metadata": {},
   "outputs": [],
   "source": [
    "class Selfless:\n",
    "    def f():\n",
    "        \"\"\"Not generally good to do, but sort of behaves like a static method.\"\"\"\n",
    "        print('Hello.')"
   ]
  },
  {
   "cell_type": "code",
   "execution_count": 2,
   "id": "ff195307-99dc-4e23-adf2-b549755fee71",
   "metadata": {},
   "outputs": [
    {
     "name": "stdout",
     "output_type": "stream",
     "text": [
      "Hello.\n"
     ]
    }
   ],
   "source": [
    "Selfless.f()"
   ]
  },
  {
   "cell_type": "code",
   "execution_count": 3,
   "id": "2c128eca-f397-48a3-b505-f56d100ada2f",
   "metadata": {
    "tags": [
     "raises-exception"
    ]
   },
   "outputs": [
    {
     "ename": "TypeError",
     "evalue": "Selfless.f() takes 0 positional arguments but 1 was given",
     "output_type": "error",
     "traceback": [
      "\u001b[1;31m---------------------------------------------------------------------------\u001b[0m",
      "\u001b[1;31mTypeError\u001b[0m                                 Traceback (most recent call last)",
      "Input \u001b[1;32mIn [3]\u001b[0m, in \u001b[0;36m<cell line: 2>\u001b[1;34m()\u001b[0m\n\u001b[0;32m      1\u001b[0m x \u001b[38;5;241m=\u001b[39m Selfless()\n\u001b[1;32m----> 2\u001b[0m \u001b[43mx\u001b[49m\u001b[38;5;241;43m.\u001b[39;49m\u001b[43mf\u001b[49m\u001b[43m(\u001b[49m\u001b[43m)\u001b[49m\n",
      "\u001b[1;31mTypeError\u001b[0m: Selfless.f() takes 0 positional arguments but 1 was given"
     ]
    }
   ],
   "source": [
    "x = Selfless()\n",
    "x.f()"
   ]
  },
  {
   "cell_type": "markdown",
   "id": "69f0d905-ef68-43d6-8e91-449558f7832c",
   "metadata": {},
   "source": [
    "## Review of getting, setting, and deleting attributes"
   ]
  },
  {
   "cell_type": "code",
   "execution_count": 1,
   "id": "21c6e152-d8aa-4ff2-a626-2ba9274bc2ac",
   "metadata": {},
   "outputs": [],
   "source": [
    "class MyClass: \n",
    "    pass"
   ]
  },
  {
   "cell_type": "code",
   "execution_count": 2,
   "id": "f31f55c1-827f-45c2-a1f9-83bcb18eec00",
   "metadata": {},
   "outputs": [],
   "source": [
    "mc = MyClass()"
   ]
  },
  {
   "cell_type": "code",
   "execution_count": 3,
   "id": "efff4878-6bfe-4461-bce8-5da6995db738",
   "metadata": {},
   "outputs": [],
   "source": [
    "mc.x = 3"
   ]
  },
  {
   "cell_type": "code",
   "execution_count": 4,
   "id": "79425edd-c81e-49ad-abaf-c9208a7c94a8",
   "metadata": {},
   "outputs": [
    {
     "data": {
      "text/plain": [
       "3"
      ]
     },
     "execution_count": 4,
     "metadata": {},
     "output_type": "execute_result"
    }
   ],
   "source": [
    "mc.x"
   ]
  },
  {
   "cell_type": "code",
   "execution_count": 5,
   "id": "261d5c8c-4218-4424-95c8-352213a19506",
   "metadata": {
    "tags": [
     "raises-exception"
    ]
   },
   "outputs": [
    {
     "ename": "AttributeError",
     "evalue": "'MyClass' object has no attribute 'y'",
     "output_type": "error",
     "traceback": [
      "\u001b[1;31m---------------------------------------------------------------------------\u001b[0m",
      "\u001b[1;31mAttributeError\u001b[0m                            Traceback (most recent call last)",
      "Input \u001b[1;32mIn [5]\u001b[0m, in \u001b[0;36m<cell line: 1>\u001b[1;34m()\u001b[0m\n\u001b[1;32m----> 1\u001b[0m \u001b[43mmc\u001b[49m\u001b[38;5;241;43m.\u001b[39;49m\u001b[43my\u001b[49m\n",
      "\u001b[1;31mAttributeError\u001b[0m: 'MyClass' object has no attribute 'y'"
     ]
    }
   ],
   "source": [
    "mc.y"
   ]
  },
  {
   "cell_type": "code",
   "execution_count": 6,
   "id": "e86140a3-1805-4e9c-9570-a671e1299888",
   "metadata": {},
   "outputs": [],
   "source": [
    "del mc.x"
   ]
  },
  {
   "cell_type": "code",
   "execution_count": 7,
   "id": "c9ee7c28-76bc-4120-bf35-25bb16f0f5ae",
   "metadata": {},
   "outputs": [
    {
     "data": {
      "text/plain": [
       "{}"
      ]
     },
     "execution_count": 7,
     "metadata": {},
     "output_type": "execute_result"
    }
   ],
   "source": [
    "mc.__dict__"
   ]
  },
  {
   "cell_type": "code",
   "execution_count": 9,
   "id": "94177e84-f6c2-48f9-bbb5-44943111051c",
   "metadata": {},
   "outputs": [
    {
     "name": "stdout",
     "output_type": "stream",
     "text": [
      "Help on built-in function setattr in module builtins:\n",
      "\n",
      "setattr(obj, name, value, /)\n",
      "    Sets the named attribute on the given object to the specified value.\n",
      "    \n",
      "    setattr(x, 'y', v) is equivalent to ``x.y = v''\n",
      "\n"
     ]
    }
   ],
   "source": [
    "help(setattr)"
   ]
  },
  {
   "cell_type": "code",
   "execution_count": 10,
   "id": "3cab738f-03b8-4ab4-85e7-854da58e6a85",
   "metadata": {},
   "outputs": [],
   "source": [
    "setattr(mc, 'x', 4)"
   ]
  },
  {
   "cell_type": "code",
   "execution_count": 11,
   "id": "df71a7d2-2b2b-47cb-b07a-d4a5cb67aa91",
   "metadata": {},
   "outputs": [
    {
     "name": "stdout",
     "output_type": "stream",
     "text": [
      "Help on built-in function getattr in module builtins:\n",
      "\n",
      "getattr(...)\n",
      "    getattr(object, name[, default]) -> value\n",
      "    \n",
      "    Get a named attribute from an object; getattr(x, 'y') is equivalent to x.y.\n",
      "    When a default argument is given, it is returned when the attribute doesn't\n",
      "    exist; without it, an exception is raised in that case.\n",
      "\n"
     ]
    }
   ],
   "source": [
    "help(getattr)"
   ]
  },
  {
   "cell_type": "code",
   "execution_count": 12,
   "id": "956089c3-a8cc-4f72-ae88-ae2150c11c1d",
   "metadata": {},
   "outputs": [
    {
     "data": {
      "text/plain": [
       "4"
      ]
     },
     "execution_count": 12,
     "metadata": {},
     "output_type": "execute_result"
    }
   ],
   "source": [
    "getattr(mc, 'x')"
   ]
  },
  {
   "cell_type": "code",
   "execution_count": 13,
   "id": "7e3e7043-62fb-44f4-92d3-ae9f715163da",
   "metadata": {},
   "outputs": [
    {
     "data": {
      "text/plain": [
       "4"
      ]
     },
     "execution_count": 13,
     "metadata": {},
     "output_type": "execute_result"
    }
   ],
   "source": [
    "mc.x"
   ]
  },
  {
   "cell_type": "code",
   "execution_count": 14,
   "id": "32cdbf14-d001-4a02-9e9d-ab39aa5436ac",
   "metadata": {},
   "outputs": [
    {
     "name": "stdout",
     "output_type": "stream",
     "text": [
      "Help on built-in function delattr in module builtins:\n",
      "\n",
      "delattr(obj, name, /)\n",
      "    Deletes the named attribute from the given object.\n",
      "    \n",
      "    delattr(x, 'y') is equivalent to ``del x.y''\n",
      "\n"
     ]
    }
   ],
   "source": [
    "help(delattr)"
   ]
  },
  {
   "cell_type": "code",
   "execution_count": 15,
   "id": "04207562-d51a-4f68-9aee-d60cb399b318",
   "metadata": {},
   "outputs": [],
   "source": [
    "delattr(mc, 'x')"
   ]
  },
  {
   "cell_type": "code",
   "execution_count": 16,
   "id": "9972d3fe-470d-4c16-aaba-5647f9f3ac18",
   "metadata": {
    "tags": [
     "raises-exception"
    ]
   },
   "outputs": [
    {
     "ename": "AttributeError",
     "evalue": "'MyClass' object has no attribute 'x'",
     "output_type": "error",
     "traceback": [
      "\u001b[1;31m---------------------------------------------------------------------------\u001b[0m",
      "\u001b[1;31mAttributeError\u001b[0m                            Traceback (most recent call last)",
      "Input \u001b[1;32mIn [16]\u001b[0m, in \u001b[0;36m<cell line: 1>\u001b[1;34m()\u001b[0m\n\u001b[1;32m----> 1\u001b[0m \u001b[43mmc\u001b[49m\u001b[38;5;241;43m.\u001b[39;49m\u001b[43mx\u001b[49m\n",
      "\u001b[1;31mAttributeError\u001b[0m: 'MyClass' object has no attribute 'x'"
     ]
    }
   ],
   "source": [
    "mc.x"
   ]
  },
  {
   "cell_type": "markdown",
   "id": "ff58a295-7da7-47bf-b366-3b3421e41f27",
   "metadata": {},
   "source": [
    "## Review of property accessors"
   ]
  },
  {
   "cell_type": "code",
   "execution_count": null,
   "id": "cf3d6e10-3e37-4b6e-a2d1-cea238991b5d",
   "metadata": {},
   "outputs": [],
   "source": [
    "class HasProperty: \n",
    "    _thing\n",
    "    "
   ]
  }
 ],
 "metadata": {
  "kernelspec": {
   "display_name": "Python 3 (ipykernel)",
   "language": "python",
   "name": "python3"
  },
  "language_info": {
   "codemirror_mode": {
    "name": "ipython",
    "version": 3
   },
   "file_extension": ".py",
   "mimetype": "text/x-python",
   "name": "python",
   "nbconvert_exporter": "python",
   "pygments_lexer": "ipython3",
   "version": "3.10.4"
  }
 },
 "nbformat": 4,
 "nbformat_minor": 5
}
