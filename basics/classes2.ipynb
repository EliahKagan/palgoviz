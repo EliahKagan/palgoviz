{
 "cells": [
  {
   "cell_type": "markdown",
   "id": "9cc52926-46df-4d9b-bd9f-4eac3dfe3fb6",
   "metadata": {},
   "source": [
    "# Classes - More in depth"
   ]
  },
  {
   "cell_type": "markdown",
   "id": "816c305b-a3ec-4c02-872e-51a02c183e92",
   "metadata": {},
   "source": [
    "## Accidentally omitting `@staticmethod`"
   ]
  },
  {
   "cell_type": "markdown",
   "id": "afc59a60-6dab-43ae-97bc-74a5201539d3",
   "metadata": {},
   "source": [
    "An undecorated method with missing `self` behaves like a static method, in the most common use case that it is called only on the class. This is not usually a good thing to do. I present it here *not* to recommend it, but to caution against it as a mistake that can arise when one forgets to write `@staticmethod` when one meant to do so."
   ]
  },
  {
   "cell_type": "code",
   "execution_count": 1,
   "id": "f39498b3-abb2-4cd3-acb5-1f6b95763008",
   "metadata": {},
   "outputs": [],
   "source": [
    "class Selfless:\n",
    "    def f():\n",
    "        \"\"\"Not generally good to do, but sort of behaves like a static method.\"\"\"\n",
    "        print('Hello.')"
   ]
  },
  {
   "cell_type": "code",
   "execution_count": 2,
   "id": "ff195307-99dc-4e23-adf2-b549755fee71",
   "metadata": {},
   "outputs": [
    {
     "name": "stdout",
     "output_type": "stream",
     "text": [
      "Hello.\n"
     ]
    }
   ],
   "source": [
    "Selfless.f()"
   ]
  },
  {
   "cell_type": "code",
   "execution_count": 3,
   "id": "2c128eca-f397-48a3-b505-f56d100ada2f",
   "metadata": {
    "tags": [
     "raises-exception"
    ]
   },
   "outputs": [
    {
     "ename": "TypeError",
     "evalue": "Selfless.f() takes 0 positional arguments but 1 was given",
     "output_type": "error",
     "traceback": [
      "\u001b[1;31m---------------------------------------------------------------------------\u001b[0m",
      "\u001b[1;31mTypeError\u001b[0m                                 Traceback (most recent call last)",
      "Input \u001b[1;32mIn [3]\u001b[0m, in \u001b[0;36m<cell line: 2>\u001b[1;34m()\u001b[0m\n\u001b[0;32m      1\u001b[0m x \u001b[38;5;241m=\u001b[39m Selfless()\n\u001b[1;32m----> 2\u001b[0m \u001b[43mx\u001b[49m\u001b[38;5;241;43m.\u001b[39;49m\u001b[43mf\u001b[49m\u001b[43m(\u001b[49m\u001b[43m)\u001b[49m\n",
      "\u001b[1;31mTypeError\u001b[0m: Selfless.f() takes 0 positional arguments but 1 was given"
     ]
    }
   ],
   "source": [
    "x = Selfless()\n",
    "x.f()"
   ]
  },
  {
   "cell_type": "markdown",
   "id": "69f0d905-ef68-43d6-8e91-449558f7832c",
   "metadata": {},
   "source": [
    "## Review of getting, setting, and deleting attributes"
   ]
  },
  {
   "cell_type": "code",
   "execution_count": 4,
   "id": "21c6e152-d8aa-4ff2-a626-2ba9274bc2ac",
   "metadata": {},
   "outputs": [],
   "source": [
    "class MyClass: \n",
    "    pass"
   ]
  },
  {
   "cell_type": "code",
   "execution_count": 5,
   "id": "f31f55c1-827f-45c2-a1f9-83bcb18eec00",
   "metadata": {},
   "outputs": [],
   "source": [
    "mc = MyClass()"
   ]
  },
  {
   "cell_type": "code",
   "execution_count": 6,
   "id": "efff4878-6bfe-4461-bce8-5da6995db738",
   "metadata": {},
   "outputs": [],
   "source": [
    "mc.x = 3"
   ]
  },
  {
   "cell_type": "code",
   "execution_count": 7,
   "id": "79425edd-c81e-49ad-abaf-c9208a7c94a8",
   "metadata": {},
   "outputs": [
    {
     "data": {
      "text/plain": [
       "3"
      ]
     },
     "execution_count": 7,
     "metadata": {},
     "output_type": "execute_result"
    }
   ],
   "source": [
    "mc.x"
   ]
  },
  {
   "cell_type": "code",
   "execution_count": 8,
   "id": "261d5c8c-4218-4424-95c8-352213a19506",
   "metadata": {
    "tags": [
     "raises-exception"
    ]
   },
   "outputs": [
    {
     "ename": "AttributeError",
     "evalue": "'MyClass' object has no attribute 'y'",
     "output_type": "error",
     "traceback": [
      "\u001b[1;31m---------------------------------------------------------------------------\u001b[0m",
      "\u001b[1;31mAttributeError\u001b[0m                            Traceback (most recent call last)",
      "Input \u001b[1;32mIn [8]\u001b[0m, in \u001b[0;36m<cell line: 1>\u001b[1;34m()\u001b[0m\n\u001b[1;32m----> 1\u001b[0m \u001b[43mmc\u001b[49m\u001b[38;5;241;43m.\u001b[39;49m\u001b[43my\u001b[49m\n",
      "\u001b[1;31mAttributeError\u001b[0m: 'MyClass' object has no attribute 'y'"
     ]
    }
   ],
   "source": [
    "mc.y"
   ]
  },
  {
   "cell_type": "code",
   "execution_count": 9,
   "id": "e86140a3-1805-4e9c-9570-a671e1299888",
   "metadata": {},
   "outputs": [],
   "source": [
    "del mc.x"
   ]
  },
  {
   "cell_type": "code",
   "execution_count": 10,
   "id": "c9ee7c28-76bc-4120-bf35-25bb16f0f5ae",
   "metadata": {},
   "outputs": [
    {
     "data": {
      "text/plain": [
       "{}"
      ]
     },
     "execution_count": 10,
     "metadata": {},
     "output_type": "execute_result"
    }
   ],
   "source": [
    "mc.__dict__"
   ]
  },
  {
   "cell_type": "code",
   "execution_count": 11,
   "id": "94177e84-f6c2-48f9-bbb5-44943111051c",
   "metadata": {},
   "outputs": [
    {
     "name": "stdout",
     "output_type": "stream",
     "text": [
      "Help on built-in function setattr in module builtins:\n",
      "\n",
      "setattr(obj, name, value, /)\n",
      "    Sets the named attribute on the given object to the specified value.\n",
      "    \n",
      "    setattr(x, 'y', v) is equivalent to ``x.y = v''\n",
      "\n"
     ]
    }
   ],
   "source": [
    "help(setattr)"
   ]
  },
  {
   "cell_type": "code",
   "execution_count": 12,
   "id": "3cab738f-03b8-4ab4-85e7-854da58e6a85",
   "metadata": {},
   "outputs": [],
   "source": [
    "setattr(mc, 'x', 4)"
   ]
  },
  {
   "cell_type": "code",
   "execution_count": 13,
   "id": "df71a7d2-2b2b-47cb-b07a-d4a5cb67aa91",
   "metadata": {},
   "outputs": [
    {
     "name": "stdout",
     "output_type": "stream",
     "text": [
      "Help on built-in function getattr in module builtins:\n",
      "\n",
      "getattr(...)\n",
      "    getattr(object, name[, default]) -> value\n",
      "    \n",
      "    Get a named attribute from an object; getattr(x, 'y') is equivalent to x.y.\n",
      "    When a default argument is given, it is returned when the attribute doesn't\n",
      "    exist; without it, an exception is raised in that case.\n",
      "\n"
     ]
    }
   ],
   "source": [
    "help(getattr)"
   ]
  },
  {
   "cell_type": "code",
   "execution_count": 14,
   "id": "956089c3-a8cc-4f72-ae88-ae2150c11c1d",
   "metadata": {},
   "outputs": [
    {
     "data": {
      "text/plain": [
       "4"
      ]
     },
     "execution_count": 14,
     "metadata": {},
     "output_type": "execute_result"
    }
   ],
   "source": [
    "getattr(mc, 'x')"
   ]
  },
  {
   "cell_type": "code",
   "execution_count": 15,
   "id": "7e3e7043-62fb-44f4-92d3-ae9f715163da",
   "metadata": {},
   "outputs": [
    {
     "data": {
      "text/plain": [
       "4"
      ]
     },
     "execution_count": 15,
     "metadata": {},
     "output_type": "execute_result"
    }
   ],
   "source": [
    "mc.x"
   ]
  },
  {
   "cell_type": "code",
   "execution_count": 16,
   "id": "32cdbf14-d001-4a02-9e9d-ab39aa5436ac",
   "metadata": {},
   "outputs": [
    {
     "name": "stdout",
     "output_type": "stream",
     "text": [
      "Help on built-in function delattr in module builtins:\n",
      "\n",
      "delattr(obj, name, /)\n",
      "    Deletes the named attribute from the given object.\n",
      "    \n",
      "    delattr(x, 'y') is equivalent to ``del x.y''\n",
      "\n"
     ]
    }
   ],
   "source": [
    "help(delattr)"
   ]
  },
  {
   "cell_type": "code",
   "execution_count": 17,
   "id": "04207562-d51a-4f68-9aee-d60cb399b318",
   "metadata": {},
   "outputs": [],
   "source": [
    "delattr(mc, 'x')"
   ]
  },
  {
   "cell_type": "code",
   "execution_count": 18,
   "id": "9972d3fe-470d-4c16-aaba-5647f9f3ac18",
   "metadata": {
    "tags": [
     "raises-exception"
    ]
   },
   "outputs": [
    {
     "ename": "AttributeError",
     "evalue": "'MyClass' object has no attribute 'x'",
     "output_type": "error",
     "traceback": [
      "\u001b[1;31m---------------------------------------------------------------------------\u001b[0m",
      "\u001b[1;31mAttributeError\u001b[0m                            Traceback (most recent call last)",
      "Input \u001b[1;32mIn [18]\u001b[0m, in \u001b[0;36m<cell line: 1>\u001b[1;34m()\u001b[0m\n\u001b[1;32m----> 1\u001b[0m \u001b[43mmc\u001b[49m\u001b[38;5;241;43m.\u001b[39;49m\u001b[43mx\u001b[49m\n",
      "\u001b[1;31mAttributeError\u001b[0m: 'MyClass' object has no attribute 'x'"
     ]
    }
   ],
   "source": [
    "mc.x"
   ]
  },
  {
   "cell_type": "markdown",
   "id": "ff58a295-7da7-47bf-b366-3b3421e41f27",
   "metadata": {},
   "source": [
    "## Review of property accessors"
   ]
  },
  {
   "cell_type": "code",
   "execution_count": 19,
   "id": "cf3d6e10-3e37-4b6e-a2d1-cea238991b5d",
   "metadata": {},
   "outputs": [],
   "source": [
    "class HasProperty:\n",
    "    \"\"\"\n",
    "    A property-having object.\n",
    "    \n",
    "    A HasProperty instance is a thing with a thing called thing.\n",
    "    \"\"\"\n",
    "\n",
    "    @property\n",
    "    def thing(self):\n",
    "        \"\"\"\n",
    "        The only property that HasProperty has. \n",
    "        \n",
    "        It can be gotten, set, and deleted.\n",
    "        \"\"\"\n",
    "        print('Showing _thing.')\n",
    "        return self._thing\n",
    "    \n",
    "    @thing.setter\n",
    "    def thing(self, value):\n",
    "        print(f'Setting _thing to {value!r}.')\n",
    "        self._thing = value\n",
    "        \n",
    "    @thing.deleter\n",
    "    def thing(self):\n",
    "        print(f'Deleting _thing.')\n",
    "        del self._thing"
   ]
  },
  {
   "cell_type": "code",
   "execution_count": 20,
   "id": "b4ac44e8-1a28-4a93-85a3-add3f10c496a",
   "metadata": {},
   "outputs": [],
   "source": [
    "hp = HasProperty()"
   ]
  },
  {
   "cell_type": "code",
   "execution_count": 21,
   "id": "a0418b95-f8fe-4a5b-a054-c3eb8fdccd99",
   "metadata": {},
   "outputs": [
    {
     "name": "stdout",
     "output_type": "stream",
     "text": [
      "Setting _thing to 3.\n"
     ]
    }
   ],
   "source": [
    "hp.thing = 3"
   ]
  },
  {
   "cell_type": "code",
   "execution_count": 22,
   "id": "5d5e76bd-54ec-4863-9d89-16bc5e17df1f",
   "metadata": {},
   "outputs": [
    {
     "name": "stdout",
     "output_type": "stream",
     "text": [
      "Showing _thing.\n"
     ]
    },
    {
     "data": {
      "text/plain": [
       "3"
      ]
     },
     "execution_count": 22,
     "metadata": {},
     "output_type": "execute_result"
    }
   ],
   "source": [
    "hp.thing"
   ]
  },
  {
   "cell_type": "code",
   "execution_count": 23,
   "id": "75ee80d6-f0d4-4307-90af-d85ead890e74",
   "metadata": {},
   "outputs": [
    {
     "data": {
      "text/plain": [
       "{'_thing': 3}"
      ]
     },
     "execution_count": 23,
     "metadata": {},
     "output_type": "execute_result"
    }
   ],
   "source": [
    "hp.__dict__"
   ]
  },
  {
   "cell_type": "code",
   "execution_count": 24,
   "id": "871c2491-2242-4ee9-a7d1-db658b182b01",
   "metadata": {},
   "outputs": [
    {
     "name": "stdout",
     "output_type": "stream",
     "text": [
      "Deleting _thing.\n"
     ]
    }
   ],
   "source": [
    "del hp.thing"
   ]
  },
  {
   "cell_type": "code",
   "execution_count": 25,
   "id": "60d190c9-d9ad-425e-9250-553fc260f034",
   "metadata": {},
   "outputs": [
    {
     "data": {
      "text/plain": [
       "{}"
      ]
     },
     "execution_count": 25,
     "metadata": {},
     "output_type": "execute_result"
    }
   ],
   "source": [
    "hp.__dict__"
   ]
  },
  {
   "cell_type": "markdown",
   "id": "87e04605-35da-4d6d-9904-773189dd9a0c",
   "metadata": {},
   "source": [
    "## Review of property objects (as class attributes)"
   ]
  },
  {
   "cell_type": "code",
   "execution_count": 26,
   "id": "d8744efd-3fe5-4306-be77-6e622bcc8b2b",
   "metadata": {},
   "outputs": [
    {
     "name": "stdout",
     "output_type": "stream",
     "text": [
      "Help on property:\n",
      "\n",
      "    The only property that HasProperty has. \n",
      "    \n",
      "    It can be gotten, set, and deleted.\n",
      "\n"
     ]
    }
   ],
   "source": [
    "help(HasProperty.thing)"
   ]
  },
  {
   "cell_type": "code",
   "execution_count": 27,
   "id": "250a2abe-e1b4-4ee5-a438-79a56179fe7c",
   "metadata": {},
   "outputs": [
    {
     "name": "stdout",
     "output_type": "stream",
     "text": [
      "Help on class HasProperty in module __main__:\n",
      "\n",
      "class HasProperty(builtins.object)\n",
      " |  A property-having object.\n",
      " |  \n",
      " |  A HasProperty instance is a thing with a thing called thing.\n",
      " |  \n",
      " |  Data descriptors defined here:\n",
      " |  \n",
      " |  __dict__\n",
      " |      dictionary for instance variables (if defined)\n",
      " |  \n",
      " |  __weakref__\n",
      " |      list of weak references to the object (if defined)\n",
      " |  \n",
      " |  thing\n",
      " |      The only property that HasProperty has. \n",
      " |      \n",
      " |      It can be gotten, set, and deleted.\n",
      "\n"
     ]
    }
   ],
   "source": [
    "help(HasProperty)"
   ]
  },
  {
   "cell_type": "code",
   "execution_count": 28,
   "id": "d39180c6-8998-430e-b498-28341ba13692",
   "metadata": {},
   "outputs": [
    {
     "data": {
      "text/plain": [
       "type"
      ]
     },
     "execution_count": 28,
     "metadata": {},
     "output_type": "execute_result"
    }
   ],
   "source": [
    "type(property)"
   ]
  },
  {
   "cell_type": "code",
   "execution_count": 29,
   "id": "ebff1e9b-32bb-49d8-914e-3dae7de723f0",
   "metadata": {},
   "outputs": [
    {
     "data": {
      "text/plain": [
       "<property at 0x2cf8487e480>"
      ]
     },
     "execution_count": 29,
     "metadata": {},
     "output_type": "execute_result"
    }
   ],
   "source": [
    "HasProperty.thing"
   ]
  },
  {
   "cell_type": "markdown",
   "id": "4cda6ecf-e744-4aa2-9ba3-c6ced4109e87",
   "metadata": {},
   "source": [
    "## Attributes and methods of property objects"
   ]
  },
  {
   "cell_type": "code",
   "execution_count": 30,
   "id": "141e25de-e026-499d-94b3-f722f44971d3",
   "metadata": {},
   "outputs": [],
   "source": [
    "po = HasProperty.thing"
   ]
  },
  {
   "cell_type": "code",
   "execution_count": 31,
   "id": "db1aa270-92c6-49fd-a82b-1d49f93c9c93",
   "metadata": {},
   "outputs": [
    {
     "data": {
      "text/plain": [
       "['__class__',\n",
       " '__delattr__',\n",
       " '__delete__',\n",
       " '__dir__',\n",
       " '__doc__',\n",
       " '__eq__',\n",
       " '__format__',\n",
       " '__ge__',\n",
       " '__get__',\n",
       " '__getattribute__',\n",
       " '__gt__',\n",
       " '__hash__',\n",
       " '__init__',\n",
       " '__init_subclass__',\n",
       " '__isabstractmethod__',\n",
       " '__le__',\n",
       " '__lt__',\n",
       " '__ne__',\n",
       " '__new__',\n",
       " '__reduce__',\n",
       " '__reduce_ex__',\n",
       " '__repr__',\n",
       " '__set__',\n",
       " '__set_name__',\n",
       " '__setattr__',\n",
       " '__sizeof__',\n",
       " '__str__',\n",
       " '__subclasshook__',\n",
       " 'deleter',\n",
       " 'fdel',\n",
       " 'fget',\n",
       " 'fset',\n",
       " 'getter',\n",
       " 'setter']"
      ]
     },
     "execution_count": 31,
     "metadata": {},
     "output_type": "execute_result"
    }
   ],
   "source": [
    "dir(po)"
   ]
  },
  {
   "cell_type": "code",
   "execution_count": 32,
   "id": "e99609cf-4ac0-4816-a4a5-176d4f3fd990",
   "metadata": {},
   "outputs": [
    {
     "name": "stdout",
     "output_type": "stream",
     "text": [
      "Help on property:\n",
      "\n",
      "    The only property that HasProperty has. \n",
      "    \n",
      "    It can be gotten, set, and deleted.\n",
      "\n"
     ]
    }
   ],
   "source": [
    "help(po)"
   ]
  },
  {
   "cell_type": "code",
   "execution_count": 33,
   "id": "fdf79b90-db92-4546-8f02-ef2a664cb383",
   "metadata": {},
   "outputs": [
    {
     "name": "stdout",
     "output_type": "stream",
     "text": [
      "Help on class property in module builtins:\n",
      "\n",
      "class property(object)\n",
      " |  property(fget=None, fset=None, fdel=None, doc=None)\n",
      " |  \n",
      " |  Property attribute.\n",
      " |  \n",
      " |    fget\n",
      " |      function to be used for getting an attribute value\n",
      " |    fset\n",
      " |      function to be used for setting an attribute value\n",
      " |    fdel\n",
      " |      function to be used for del'ing an attribute\n",
      " |    doc\n",
      " |      docstring\n",
      " |  \n",
      " |  Typical use is to define a managed attribute x:\n",
      " |  \n",
      " |  class C(object):\n",
      " |      def getx(self): return self._x\n",
      " |      def setx(self, value): self._x = value\n",
      " |      def delx(self): del self._x\n",
      " |      x = property(getx, setx, delx, \"I'm the 'x' property.\")\n",
      " |  \n",
      " |  Decorators make defining new properties or modifying existing ones easy:\n",
      " |  \n",
      " |  class C(object):\n",
      " |      @property\n",
      " |      def x(self):\n",
      " |          \"I am the 'x' property.\"\n",
      " |          return self._x\n",
      " |      @x.setter\n",
      " |      def x(self, value):\n",
      " |          self._x = value\n",
      " |      @x.deleter\n",
      " |      def x(self):\n",
      " |          del self._x\n",
      " |  \n",
      " |  Methods defined here:\n",
      " |  \n",
      " |  __delete__(self, instance, /)\n",
      " |      Delete an attribute of instance.\n",
      " |  \n",
      " |  __get__(self, instance, owner, /)\n",
      " |      Return an attribute of instance, which is of type owner.\n",
      " |  \n",
      " |  __getattribute__(self, name, /)\n",
      " |      Return getattr(self, name).\n",
      " |  \n",
      " |  __init__(self, /, *args, **kwargs)\n",
      " |      Initialize self.  See help(type(self)) for accurate signature.\n",
      " |  \n",
      " |  __set__(self, instance, value, /)\n",
      " |      Set an attribute of instance to value.\n",
      " |  \n",
      " |  __set_name__(...)\n",
      " |      Method to set name of a property.\n",
      " |  \n",
      " |  deleter(...)\n",
      " |      Descriptor to obtain a copy of the property with a different deleter.\n",
      " |  \n",
      " |  getter(...)\n",
      " |      Descriptor to obtain a copy of the property with a different getter.\n",
      " |  \n",
      " |  setter(...)\n",
      " |      Descriptor to obtain a copy of the property with a different setter.\n",
      " |  \n",
      " |  ----------------------------------------------------------------------\n",
      " |  Static methods defined here:\n",
      " |  \n",
      " |  __new__(*args, **kwargs) from builtins.type\n",
      " |      Create and return a new object.  See help(type) for accurate signature.\n",
      " |  \n",
      " |  ----------------------------------------------------------------------\n",
      " |  Data descriptors defined here:\n",
      " |  \n",
      " |  __isabstractmethod__\n",
      " |  \n",
      " |  fdel\n",
      " |  \n",
      " |  fget\n",
      " |  \n",
      " |  fset\n",
      "\n"
     ]
    }
   ],
   "source": [
    "help(property)"
   ]
  },
  {
   "cell_type": "markdown",
   "id": "838db118-5f18-4bf6-8487-36641899bbc4",
   "metadata": {},
   "source": [
    "## `property` attributes `fget`, `fset`, and `fdel` are readonly\n",
    "\n",
    "*But `__doc__` is not readonly.*"
   ]
  },
  {
   "cell_type": "code",
   "execution_count": 34,
   "id": "b901aae9-5746-445f-97ea-7dd505c1c7c3",
   "metadata": {},
   "outputs": [],
   "source": [
    "def thing(self):\n",
    "    \"\"\"\n",
    "    The only property that HasProperty has. \n",
    "\n",
    "    It can be gotten, set, and deleted.\n",
    "    \n",
    "    Now with deleted scenes!\n",
    "    \"\"\"\n",
    "    print('Showing _thing, but in a new way.')\n",
    "    return self._thing"
   ]
  },
  {
   "cell_type": "code",
   "execution_count": 35,
   "id": "52f180ff-bc84-4247-94e7-5be0d6cba033",
   "metadata": {
    "tags": [
     "raises-exception"
    ]
   },
   "outputs": [
    {
     "ename": "AttributeError",
     "evalue": "readonly attribute",
     "output_type": "error",
     "traceback": [
      "\u001b[1;31m---------------------------------------------------------------------------\u001b[0m",
      "\u001b[1;31mAttributeError\u001b[0m                            Traceback (most recent call last)",
      "Input \u001b[1;32mIn [35]\u001b[0m, in \u001b[0;36m<cell line: 1>\u001b[1;34m()\u001b[0m\n\u001b[1;32m----> 1\u001b[0m po\u001b[38;5;241m.\u001b[39mfdel \u001b[38;5;241m=\u001b[39m thing\n",
      "\u001b[1;31mAttributeError\u001b[0m: readonly attribute"
     ]
    }
   ],
   "source": [
    "po.fdel = thing"
   ]
  },
  {
   "cell_type": "code",
   "execution_count": 36,
   "id": "5c4a2f31-416c-4d17-aca8-81ec5cb47ab7",
   "metadata": {},
   "outputs": [
    {
     "name": "stdout",
     "output_type": "stream",
     "text": [
      "\n",
      "        The only property that HasProperty has. \n",
      "        \n",
      "        It can be gotten, set, and deleted.\n",
      "        \n"
     ]
    }
   ],
   "source": [
    "print(po.__doc__)"
   ]
  },
  {
   "cell_type": "code",
   "execution_count": 37,
   "id": "f0bb62aa-9ba8-4fc2-8bd3-8982120fd6b4",
   "metadata": {},
   "outputs": [],
   "source": [
    "po.__doc__ = \"New and IMPROVED ;) docstring.\""
   ]
  },
  {
   "cell_type": "code",
   "execution_count": 38,
   "id": "b691a2db-c37e-4bbc-9747-f58b930d526b",
   "metadata": {},
   "outputs": [
    {
     "data": {
      "text/plain": [
       "'New and IMPROVED ;) docstring.'"
      ]
     },
     "execution_count": 38,
     "metadata": {},
     "output_type": "execute_result"
    }
   ],
   "source": [
    "po.__doc__"
   ]
  },
  {
   "cell_type": "code",
   "execution_count": 39,
   "id": "8b370c7d-b088-495e-b9b4-fd2037dd34ab",
   "metadata": {},
   "outputs": [
    {
     "name": "stdout",
     "output_type": "stream",
     "text": [
      "Help on class HasProperty in module __main__:\n",
      "\n",
      "class HasProperty(builtins.object)\n",
      " |  A property-having object.\n",
      " |  \n",
      " |  A HasProperty instance is a thing with a thing called thing.\n",
      " |  \n",
      " |  Data descriptors defined here:\n",
      " |  \n",
      " |  __dict__\n",
      " |      dictionary for instance variables (if defined)\n",
      " |  \n",
      " |  __weakref__\n",
      " |      list of weak references to the object (if defined)\n",
      " |  \n",
      " |  thing\n",
      " |      New and IMPROVED ;) docstring.\n",
      "\n"
     ]
    }
   ],
   "source": [
    "help(HasProperty)"
   ]
  },
  {
   "cell_type": "markdown",
   "id": "888970f9-8a02-4ca3-b1b2-4ae7a3325cbb",
   "metadata": {},
   "source": [
    "## The `getter`, `setter`, and `deleter` methods return modified copies.\n",
    "\n",
    "A new `property` object is created with the specified modification, rather than the original object (on which those methods are called) being mutated."
   ]
  },
  {
   "cell_type": "code",
   "execution_count": 40,
   "id": "131a82ed-6e81-407d-8e17-f34c501f7c52",
   "metadata": {},
   "outputs": [],
   "source": [
    "@po.getter\n",
    "def thing(self):\n",
    "    \"\"\"\n",
    "    The only property that HasProperty has. \n",
    "\n",
    "    It can be gotten, set, and deleted.\n",
    "    \n",
    "    Now with deleted scenes!\n",
    "    \"\"\"\n",
    "    print('Showing _thing, but in a new way.')\n",
    "    return self._thing"
   ]
  },
  {
   "cell_type": "code",
   "execution_count": 41,
   "id": "85bc5a3e-eae4-43c2-9fd7-303a006d7022",
   "metadata": {
    "tags": [
     "raises-exception"
    ]
   },
   "outputs": [
    {
     "ename": "TypeError",
     "evalue": "'property' object is not callable",
     "output_type": "error",
     "traceback": [
      "\u001b[1;31m---------------------------------------------------------------------------\u001b[0m",
      "\u001b[1;31mTypeError\u001b[0m                                 Traceback (most recent call last)",
      "Input \u001b[1;32mIn [41]\u001b[0m, in \u001b[0;36m<cell line: 1>\u001b[1;34m()\u001b[0m\n\u001b[1;32m----> 1\u001b[0m \u001b[43mthing\u001b[49m\u001b[43m(\u001b[49m\u001b[43m)\u001b[49m\n",
      "\u001b[1;31mTypeError\u001b[0m: 'property' object is not callable"
     ]
    }
   ],
   "source": [
    "thing()"
   ]
  },
  {
   "cell_type": "code",
   "execution_count": 42,
   "id": "1617f756-3621-4312-89f4-65c9bdbac6b1",
   "metadata": {},
   "outputs": [
    {
     "data": {
      "text/plain": [
       "False"
      ]
     },
     "execution_count": 42,
     "metadata": {},
     "output_type": "execute_result"
    }
   ],
   "source": [
    "thing is po"
   ]
  },
  {
   "cell_type": "code",
   "execution_count": 43,
   "id": "930ec0e8-d40c-4d93-bbb0-ba72b8f2d93d",
   "metadata": {},
   "outputs": [
    {
     "name": "stdout",
     "output_type": "stream",
     "text": [
      "Help on property:\n",
      "\n",
      "    The only property that HasProperty has. \n",
      "    \n",
      "    It can be gotten, set, and deleted.\n",
      "    \n",
      "    Now with deleted scenes!\n",
      "\n"
     ]
    }
   ],
   "source": [
    "help(thing)"
   ]
  },
  {
   "cell_type": "code",
   "execution_count": 44,
   "id": "1407a69a-d115-4d07-aba7-c0e2938c3acb",
   "metadata": {},
   "outputs": [
    {
     "name": "stdout",
     "output_type": "stream",
     "text": [
      "Help on property:\n",
      "\n",
      "    New and IMPROVED ;) docstring.\n",
      "\n"
     ]
    }
   ],
   "source": [
    "help(po)"
   ]
  },
  {
   "cell_type": "code",
   "execution_count": 45,
   "id": "12a7fd60-63a4-4e5b-8bab-440fea38e386",
   "metadata": {},
   "outputs": [
    {
     "data": {
      "text/plain": [
       "<function __main__.HasProperty.thing(self)>"
      ]
     },
     "execution_count": 45,
     "metadata": {},
     "output_type": "execute_result"
    }
   ],
   "source": [
    "po.fget"
   ]
  },
  {
   "cell_type": "code",
   "execution_count": 46,
   "id": "bfd7791d-9171-43c8-83a9-8c13d11a8a60",
   "metadata": {},
   "outputs": [
    {
     "data": {
      "text/plain": [
       "<function __main__.thing(self)>"
      ]
     },
     "execution_count": 46,
     "metadata": {},
     "output_type": "execute_result"
    }
   ],
   "source": [
    "thing.fget"
   ]
  },
  {
   "cell_type": "code",
   "execution_count": 47,
   "id": "85b12cd5-f557-49a3-bb9b-e36f9fbd89c4",
   "metadata": {},
   "outputs": [
    {
     "data": {
      "text/plain": [
       "False"
      ]
     },
     "execution_count": 47,
     "metadata": {},
     "output_type": "execute_result"
    }
   ],
   "source": [
    "po.fget is thing.fget"
   ]
  },
  {
   "cell_type": "code",
   "execution_count": 48,
   "id": "c87136e8-5c48-4a91-947d-ee388e3225da",
   "metadata": {},
   "outputs": [
    {
     "data": {
      "text/plain": [
       "True"
      ]
     },
     "execution_count": 48,
     "metadata": {},
     "output_type": "execute_result"
    }
   ],
   "source": [
    "po.fset is thing.fset"
   ]
  },
  {
   "cell_type": "code",
   "execution_count": 49,
   "id": "74261dc3-d561-4a72-9646-d61871de5a1f",
   "metadata": {},
   "outputs": [
    {
     "data": {
      "text/plain": [
       "True"
      ]
     },
     "execution_count": 49,
     "metadata": {},
     "output_type": "execute_result"
    }
   ],
   "source": [
    "po.fdel is thing.fdel"
   ]
  },
  {
   "cell_type": "markdown",
   "id": "01cde0a5-5865-42a0-a291-9385f2827967",
   "metadata": {},
   "source": [
    "## Customizing properties in derived classes, part 1 of 2"
   ]
  },
  {
   "cell_type": "code",
   "execution_count": 50,
   "id": "905007e9-8090-4708-b605-7573107c4b52",
   "metadata": {},
   "outputs": [],
   "source": [
    "class Widget:\n",
    "    __slots__ = ('_color',)\n",
    "    \n",
    "    def __init__(self):\n",
    "        self._color = 'blue'\n",
    "    \n",
    "    @property\n",
    "    def color(self):\n",
    "        print('Showing color below.')\n",
    "        return self._color"
   ]
  },
  {
   "cell_type": "code",
   "execution_count": 51,
   "id": "049a66d3-17da-4b2d-b0ba-b236293659b5",
   "metadata": {},
   "outputs": [],
   "source": [
    "w = Widget()"
   ]
  },
  {
   "cell_type": "code",
   "execution_count": 52,
   "id": "a46617c3-600b-4b35-b65c-6a4834e6e92f",
   "metadata": {},
   "outputs": [
    {
     "name": "stdout",
     "output_type": "stream",
     "text": [
      "Showing color below.\n"
     ]
    },
    {
     "data": {
      "text/plain": [
       "'blue'"
      ]
     },
     "execution_count": 52,
     "metadata": {},
     "output_type": "execute_result"
    }
   ],
   "source": [
    "w.color"
   ]
  },
  {
   "cell_type": "code",
   "execution_count": 53,
   "id": "eeb5310f-404c-4fd7-b448-6c9e4da166bb",
   "metadata": {},
   "outputs": [],
   "source": [
    "w._color = 'red'"
   ]
  },
  {
   "cell_type": "code",
   "execution_count": 54,
   "id": "03c692df-a775-4f2e-b73d-daae2bd9284a",
   "metadata": {},
   "outputs": [
    {
     "name": "stdout",
     "output_type": "stream",
     "text": [
      "Showing color below.\n"
     ]
    },
    {
     "data": {
      "text/plain": [
       "'red'"
      ]
     },
     "execution_count": 54,
     "metadata": {},
     "output_type": "execute_result"
    }
   ],
   "source": [
    "w.color"
   ]
  },
  {
   "cell_type": "code",
   "execution_count": 55,
   "id": "8be8ee32-f213-4cc4-a123-62659e785052",
   "metadata": {},
   "outputs": [],
   "source": [
    "class Base:\n",
    "    _color = 'blue'\n",
    "    \n",
    "    @property\n",
    "    def color(self):\n",
    "        print('Showing color below.')\n",
    "        return self._color"
   ]
  },
  {
   "cell_type": "code",
   "execution_count": 56,
   "id": "032b2716-8ea7-4d49-947e-4903757f4713",
   "metadata": {},
   "outputs": [],
   "source": [
    "b = Base()"
   ]
  },
  {
   "cell_type": "code",
   "execution_count": 57,
   "id": "e27e7f93-5f51-49d9-8b70-ee0d5a58e56d",
   "metadata": {},
   "outputs": [
    {
     "name": "stdout",
     "output_type": "stream",
     "text": [
      "Showing color below.\n"
     ]
    },
    {
     "data": {
      "text/plain": [
       "'blue'"
      ]
     },
     "execution_count": 57,
     "metadata": {},
     "output_type": "execute_result"
    }
   ],
   "source": [
    "b.color"
   ]
  },
  {
   "cell_type": "code",
   "execution_count": 58,
   "id": "b6e69309-5deb-4878-aa18-ef047ee2a76c",
   "metadata": {},
   "outputs": [],
   "source": [
    "b._color = 'red'"
   ]
  },
  {
   "cell_type": "code",
   "execution_count": 59,
   "id": "456d9464-637d-42ae-8849-e484f0ffaac8",
   "metadata": {},
   "outputs": [],
   "source": [
    "class Derived(Base):\n",
    "    @Base.color.setter\n",
    "    def color(self, value):\n",
    "        self._color = value"
   ]
  },
  {
   "cell_type": "code",
   "execution_count": 60,
   "id": "1b31b9ed-667c-41d7-b731-4e50260ee19f",
   "metadata": {},
   "outputs": [],
   "source": [
    "d = Derived()"
   ]
  },
  {
   "cell_type": "code",
   "execution_count": 61,
   "id": "d98100ed-3f0b-43f3-8cb0-b4f7b108c93c",
   "metadata": {},
   "outputs": [
    {
     "name": "stdout",
     "output_type": "stream",
     "text": [
      "Showing color below.\n"
     ]
    },
    {
     "data": {
      "text/plain": [
       "'blue'"
      ]
     },
     "execution_count": 61,
     "metadata": {},
     "output_type": "execute_result"
    }
   ],
   "source": [
    "d.color"
   ]
  },
  {
   "cell_type": "code",
   "execution_count": 62,
   "id": "4d4471d5-0443-43e5-b416-3e008d6a9cdc",
   "metadata": {},
   "outputs": [],
   "source": [
    "d.color = 'red'"
   ]
  },
  {
   "cell_type": "code",
   "execution_count": 63,
   "id": "211bab79-2c58-4925-81ca-3b70496662c5",
   "metadata": {},
   "outputs": [
    {
     "name": "stdout",
     "output_type": "stream",
     "text": [
      "Showing color below.\n"
     ]
    },
    {
     "data": {
      "text/plain": [
       "'red'"
      ]
     },
     "execution_count": 63,
     "metadata": {},
     "output_type": "execute_result"
    }
   ],
   "source": [
    "d.color"
   ]
  },
  {
   "cell_type": "code",
   "execution_count": 64,
   "id": "2bc60b03-f1e0-4629-9c13-9f43fa1c5cef",
   "metadata": {},
   "outputs": [],
   "source": [
    "b2 = Base()"
   ]
  },
  {
   "cell_type": "code",
   "execution_count": 65,
   "id": "36cb5b61-d234-424e-aa81-63cf42151272",
   "metadata": {},
   "outputs": [
    {
     "name": "stdout",
     "output_type": "stream",
     "text": [
      "Showing color below.\n"
     ]
    },
    {
     "data": {
      "text/plain": [
       "'blue'"
      ]
     },
     "execution_count": 65,
     "metadata": {},
     "output_type": "execute_result"
    }
   ],
   "source": [
    "b2.color"
   ]
  },
  {
   "cell_type": "code",
   "execution_count": 66,
   "id": "51848e1b-22b4-4fc8-8465-5e822290f04a",
   "metadata": {
    "tags": [
     "raises-exception"
    ]
   },
   "outputs": [
    {
     "ename": "AttributeError",
     "evalue": "can't set attribute 'color'",
     "output_type": "error",
     "traceback": [
      "\u001b[1;31m---------------------------------------------------------------------------\u001b[0m",
      "\u001b[1;31mAttributeError\u001b[0m                            Traceback (most recent call last)",
      "Input \u001b[1;32mIn [66]\u001b[0m, in \u001b[0;36m<cell line: 1>\u001b[1;34m()\u001b[0m\n\u001b[1;32m----> 1\u001b[0m b2\u001b[38;5;241m.\u001b[39mcolor \u001b[38;5;241m=\u001b[39m \u001b[38;5;124m'\u001b[39m\u001b[38;5;124morange\u001b[39m\u001b[38;5;124m'\u001b[39m\n",
      "\u001b[1;31mAttributeError\u001b[0m: can't set attribute 'color'"
     ]
    }
   ],
   "source": [
    "b2.color = 'orange' "
   ]
  },
  {
   "cell_type": "markdown",
   "id": "7e3b6c8c-5b18-45f5-82b9-51b6484537ae",
   "metadata": {},
   "source": [
    "## Decorator semantics and `getter`, `setter`, and `deleter`\n",
    "\n",
    "Stack Overflow: [How does property decorator work internally using syntactic sugar(@) in python?](https://stackoverflow.com/questions/62952223/how-does-property-decorator-work-internally-using-syntactic-sugar-in-python)"
   ]
  },
  {
   "cell_type": "code",
   "execution_count": 67,
   "id": "db385c8c-732e-4b7c-96dd-684acd513973",
   "metadata": {
    "tags": [
     "raises-exception"
    ]
   },
   "outputs": [
    {
     "ename": "AttributeError",
     "evalue": "'function' object has no attribute 'setter'",
     "output_type": "error",
     "traceback": [
      "\u001b[1;31m---------------------------------------------------------------------------\u001b[0m",
      "\u001b[1;31mAttributeError\u001b[0m                            Traceback (most recent call last)",
      "Input \u001b[1;32mIn [67]\u001b[0m, in \u001b[0;36m<cell line: 1>\u001b[1;34m()\u001b[0m\n\u001b[1;32m----> 1\u001b[0m \u001b[38;5;28;01mclass\u001b[39;00m \u001b[38;5;21;01mHasPropertyTwo\u001b[39;00m:\n\u001b[0;32m      2\u001b[0m     \u001b[38;5;124;03m\"\"\"\u001b[39;00m\n\u001b[0;32m      3\u001b[0m \u001b[38;5;124;03m    A property-having object.\u001b[39;00m\n\u001b[0;32m      4\u001b[0m \u001b[38;5;124;03m    \u001b[39;00m\n\u001b[0;32m      5\u001b[0m \u001b[38;5;124;03m    A HasProperty instance is a thing with a thing called thing.\u001b[39;00m\n\u001b[0;32m      6\u001b[0m \u001b[38;5;124;03m    \"\"\"\u001b[39;00m\n\u001b[0;32m      8\u001b[0m     \u001b[38;5;129m@property\u001b[39m\n\u001b[0;32m      9\u001b[0m     \u001b[38;5;28;01mdef\u001b[39;00m \u001b[38;5;21mthing\u001b[39m(\u001b[38;5;28mself\u001b[39m):\n",
      "Input \u001b[1;32mIn [67]\u001b[0m, in \u001b[0;36mHasPropertyTwo\u001b[1;34m()\u001b[0m\n\u001b[0;32m     19\u001b[0m     \u001b[38;5;28mprint\u001b[39m(\u001b[38;5;124mf\u001b[39m\u001b[38;5;124m'\u001b[39m\u001b[38;5;124mSetting _thing to \u001b[39m\u001b[38;5;132;01m{\u001b[39;00mvalue\u001b[38;5;132;01m!r}\u001b[39;00m\u001b[38;5;124m.\u001b[39m\u001b[38;5;124m'\u001b[39m)\n\u001b[0;32m     20\u001b[0m     \u001b[38;5;28mself\u001b[39m\u001b[38;5;241m.\u001b[39m_thing \u001b[38;5;241m=\u001b[39m value\n\u001b[1;32m---> 22\u001b[0m thing \u001b[38;5;241m=\u001b[39m \u001b[43mthing\u001b[49m\u001b[38;5;241;43m.\u001b[39;49m\u001b[43msetter\u001b[49m(thing)\n",
      "\u001b[1;31mAttributeError\u001b[0m: 'function' object has no attribute 'setter'"
     ]
    }
   ],
   "source": [
    "class HasPropertyTwo:\n",
    "    \"\"\"\n",
    "    A property-having object.\n",
    "    \n",
    "    A HasProperty instance is a thing with a thing called thing.\n",
    "    \"\"\"\n",
    "\n",
    "    @property\n",
    "    def thing(self):\n",
    "        \"\"\"\n",
    "        The only property that HasProperty has. \n",
    "        \n",
    "        It can be gotten, set, and deleted.\n",
    "        \"\"\"\n",
    "        print('Showing _thing.')\n",
    "        return self._thing\n",
    "    \n",
    "    def thing(self, value):\n",
    "        print(f'Setting _thing to {value!r}.')\n",
    "        self._thing = value\n",
    "    \n",
    "    thing = thing.setter(thing)\n",
    "\n",
    "# Raises AttributeError because the second def for thing makes thing a mere\n",
    "# function, not a property object anymore."
   ]
  },
  {
   "cell_type": "markdown",
   "id": "5b3f391d-425a-424c-a7d4-a68e47a44b12",
   "metadata": {},
   "source": [
    "## Exercise: A property with no getter"
   ]
  },
  {
   "cell_type": "code",
   "execution_count": 68,
   "id": "1d1d1ea1-cc40-48d5-a27f-3a392a78cb1e",
   "metadata": {},
   "outputs": [
    {
     "name": "stdout",
     "output_type": "stream",
     "text": [
      "Help on class property in module builtins:\n",
      "\n",
      "class property(object)\n",
      " |  property(fget=None, fset=None, fdel=None, doc=None)\n",
      " |  \n",
      " |  Property attribute.\n",
      " |  \n",
      " |    fget\n",
      " |      function to be used for getting an attribute value\n",
      " |    fset\n",
      " |      function to be used for setting an attribute value\n",
      " |    fdel\n",
      " |      function to be used for del'ing an attribute\n",
      " |    doc\n",
      " |      docstring\n",
      " |  \n",
      " |  Typical use is to define a managed attribute x:\n",
      " |  \n",
      " |  class C(object):\n",
      " |      def getx(self): return self._x\n",
      " |      def setx(self, value): self._x = value\n",
      " |      def delx(self): del self._x\n",
      " |      x = property(getx, setx, delx, \"I'm the 'x' property.\")\n",
      " |  \n",
      " |  Decorators make defining new properties or modifying existing ones easy:\n",
      " |  \n",
      " |  class C(object):\n",
      " |      @property\n",
      " |      def x(self):\n",
      " |          \"I am the 'x' property.\"\n",
      " |          return self._x\n",
      " |      @x.setter\n",
      " |      def x(self, value):\n",
      " |          self._x = value\n",
      " |      @x.deleter\n",
      " |      def x(self):\n",
      " |          del self._x\n",
      " |  \n",
      " |  Methods defined here:\n",
      " |  \n",
      " |  __delete__(self, instance, /)\n",
      " |      Delete an attribute of instance.\n",
      " |  \n",
      " |  __get__(self, instance, owner, /)\n",
      " |      Return an attribute of instance, which is of type owner.\n",
      " |  \n",
      " |  __getattribute__(self, name, /)\n",
      " |      Return getattr(self, name).\n",
      " |  \n",
      " |  __init__(self, /, *args, **kwargs)\n",
      " |      Initialize self.  See help(type(self)) for accurate signature.\n",
      " |  \n",
      " |  __set__(self, instance, value, /)\n",
      " |      Set an attribute of instance to value.\n",
      " |  \n",
      " |  __set_name__(...)\n",
      " |      Method to set name of a property.\n",
      " |  \n",
      " |  deleter(...)\n",
      " |      Descriptor to obtain a copy of the property with a different deleter.\n",
      " |  \n",
      " |  getter(...)\n",
      " |      Descriptor to obtain a copy of the property with a different getter.\n",
      " |  \n",
      " |  setter(...)\n",
      " |      Descriptor to obtain a copy of the property with a different setter.\n",
      " |  \n",
      " |  ----------------------------------------------------------------------\n",
      " |  Static methods defined here:\n",
      " |  \n",
      " |  __new__(*args, **kwargs) from builtins.type\n",
      " |      Create and return a new object.  See help(type) for accurate signature.\n",
      " |  \n",
      " |  ----------------------------------------------------------------------\n",
      " |  Data descriptors defined here:\n",
      " |  \n",
      " |  __isabstractmethod__\n",
      " |  \n",
      " |  fdel\n",
      " |  \n",
      " |  fget\n",
      " |  \n",
      " |  fset\n",
      "\n"
     ]
    }
   ],
   "source": [
    "help(property)"
   ]
  },
  {
   "cell_type": "code",
   "execution_count": 69,
   "id": "76238087-fca6-4cbc-9462-087c1076c953",
   "metadata": {},
   "outputs": [],
   "source": [
    "class C: \n",
    "    def _setx(self, value): \n",
    "        print(f'Setting x to {value!r}.')\n",
    "        self._x = value\n",
    "    \n",
    "    x = property(fset=_setx)"
   ]
  },
  {
   "cell_type": "code",
   "execution_count": 70,
   "id": "1f6214df-674f-44d7-9823-02af5d30d8e4",
   "metadata": {},
   "outputs": [],
   "source": [
    "c = C()"
   ]
  },
  {
   "cell_type": "code",
   "execution_count": 71,
   "id": "305a0d35-231d-4125-bee0-973cd2b7377e",
   "metadata": {
    "tags": [
     "raises-exception"
    ]
   },
   "outputs": [
    {
     "ename": "AttributeError",
     "evalue": "unreadable attribute 'x'",
     "output_type": "error",
     "traceback": [
      "\u001b[1;31m---------------------------------------------------------------------------\u001b[0m",
      "\u001b[1;31mAttributeError\u001b[0m                            Traceback (most recent call last)",
      "Input \u001b[1;32mIn [71]\u001b[0m, in \u001b[0;36m<cell line: 1>\u001b[1;34m()\u001b[0m\n\u001b[1;32m----> 1\u001b[0m \u001b[43mc\u001b[49m\u001b[38;5;241;43m.\u001b[39;49m\u001b[43mx\u001b[49m\n",
      "\u001b[1;31mAttributeError\u001b[0m: unreadable attribute 'x'"
     ]
    }
   ],
   "source": [
    "c.x"
   ]
  },
  {
   "cell_type": "code",
   "execution_count": 72,
   "id": "79743ea0-bf0f-4dd5-b751-d39bff24bb77",
   "metadata": {},
   "outputs": [
    {
     "name": "stdout",
     "output_type": "stream",
     "text": [
      "Setting x to 3.\n"
     ]
    }
   ],
   "source": [
    "c.x = 3"
   ]
  },
  {
   "cell_type": "markdown",
   "id": "b31196a5-feab-4653-9849-fe95bb4760eb",
   "metadata": {},
   "source": [
    "## Customizing properties in derived classes, part 2 of 2"
   ]
  },
  {
   "cell_type": "code",
   "execution_count": 73,
   "id": "2aa319b8-1ef6-4f78-ab8f-2248ebe64325",
   "metadata": {},
   "outputs": [],
   "source": [
    "class Base: \n",
    "    def answer(self):\n",
    "        return 42"
   ]
  },
  {
   "cell_type": "code",
   "execution_count": 74,
   "id": "32693391-b17f-402b-8351-0b42e946bead",
   "metadata": {},
   "outputs": [],
   "source": [
    "class Derived(Base): \n",
    "    def answer(self): \n",
    "        return Base.answer(self) + 1"
   ]
  },
  {
   "cell_type": "code",
   "execution_count": 75,
   "id": "f8edc288-605b-427d-959a-ecd9c24d6ad1",
   "metadata": {},
   "outputs": [],
   "source": [
    "d = Derived()"
   ]
  },
  {
   "cell_type": "code",
   "execution_count": 76,
   "id": "e45ef8bc-e961-464b-929d-285fb1a423e6",
   "metadata": {},
   "outputs": [
    {
     "data": {
      "text/plain": [
       "43"
      ]
     },
     "execution_count": 76,
     "metadata": {},
     "output_type": "execute_result"
    }
   ],
   "source": [
    "d.answer()"
   ]
  },
  {
   "cell_type": "code",
   "execution_count": 77,
   "id": "e3c8be4e-2ae7-4acb-ac30-d6c99c5ad6f5",
   "metadata": {},
   "outputs": [],
   "source": [
    "class AltDerived(Base):\n",
    "    def answer(self):\n",
    "        return super().answer() + 1"
   ]
  },
  {
   "cell_type": "code",
   "execution_count": 78,
   "id": "610510eb-dda0-40c4-9f47-4e79f9588eb0",
   "metadata": {},
   "outputs": [],
   "source": [
    "d2 = AltDerived()"
   ]
  },
  {
   "cell_type": "code",
   "execution_count": 79,
   "id": "35926144-6944-4984-9133-8d916ea1445b",
   "metadata": {},
   "outputs": [
    {
     "data": {
      "text/plain": [
       "43"
      ]
     },
     "execution_count": 79,
     "metadata": {},
     "output_type": "execute_result"
    }
   ],
   "source": [
    "d2.answer()"
   ]
  },
  {
   "cell_type": "code",
   "execution_count": 80,
   "id": "aa521c3b-7326-4fdb-837e-b90085b93d0e",
   "metadata": {},
   "outputs": [],
   "source": [
    "import abc"
   ]
  },
  {
   "cell_type": "code",
   "execution_count": 81,
   "id": "8755b05c-1970-4971-af5b-ece3c7b6bfd5",
   "metadata": {},
   "outputs": [],
   "source": [
    "class AbstractBase(abc.ABC): \n",
    "    @abc.abstractmethod\n",
    "    def answer(self): \n",
    "        return 42"
   ]
  },
  {
   "cell_type": "code",
   "execution_count": 82,
   "id": "09ffdd0c-aba0-465f-984c-1281d13fe23c",
   "metadata": {},
   "outputs": [],
   "source": [
    "class Derived(AbstractBase): \n",
    "    def answer(self):\n",
    "        return super().answer() + 1"
   ]
  },
  {
   "cell_type": "code",
   "execution_count": 83,
   "id": "8c63a1e3-48c6-4b26-85f4-1682d3a8c227",
   "metadata": {},
   "outputs": [],
   "source": [
    "d = Derived()"
   ]
  },
  {
   "cell_type": "code",
   "execution_count": 84,
   "id": "f3d334b8-edf7-4cd3-9215-82c2f09fe01c",
   "metadata": {},
   "outputs": [
    {
     "data": {
      "text/plain": [
       "43"
      ]
     },
     "execution_count": 84,
     "metadata": {},
     "output_type": "execute_result"
    }
   ],
   "source": [
    "d.answer()"
   ]
  },
  {
   "cell_type": "markdown",
   "id": "386b6ce7-4eec-4656-b979-5dc56da7b756",
   "metadata": {},
   "source": [
    "## Sidebar: `@abstractmethod` on \"concrete\" classes"
   ]
  },
  {
   "cell_type": "code",
   "execution_count": 85,
   "id": "faa85f81-b9fb-4aeb-961c-b6e416972693",
   "metadata": {},
   "outputs": [],
   "source": [
    "class KindaConcrete: \n",
    "    @abc.abstractmethod\n",
    "    def f(self): \n",
    "        raise NotImplementedError"
   ]
  },
  {
   "cell_type": "code",
   "execution_count": 86,
   "id": "da8737ba-a7e6-46db-9309-165e1747e41c",
   "metadata": {
    "tags": [
     "raises-exception"
    ]
   },
   "outputs": [
    {
     "ename": "NotImplementedError",
     "evalue": "",
     "output_type": "error",
     "traceback": [
      "\u001b[1;31m---------------------------------------------------------------------------\u001b[0m",
      "\u001b[1;31mNotImplementedError\u001b[0m                       Traceback (most recent call last)",
      "Input \u001b[1;32mIn [86]\u001b[0m, in \u001b[0;36m<cell line: 1>\u001b[1;34m()\u001b[0m\n\u001b[1;32m----> 1\u001b[0m \u001b[43mKindaConcrete\u001b[49m\u001b[43m(\u001b[49m\u001b[43m)\u001b[49m\u001b[38;5;241;43m.\u001b[39;49m\u001b[43mf\u001b[49m\u001b[43m(\u001b[49m\u001b[43m)\u001b[49m\n",
      "Input \u001b[1;32mIn [85]\u001b[0m, in \u001b[0;36mKindaConcrete.f\u001b[1;34m(self)\u001b[0m\n\u001b[0;32m      2\u001b[0m \u001b[38;5;129m@abc\u001b[39m\u001b[38;5;241m.\u001b[39mabstractmethod\n\u001b[0;32m      3\u001b[0m \u001b[38;5;28;01mdef\u001b[39;00m \u001b[38;5;21mf\u001b[39m(\u001b[38;5;28mself\u001b[39m): \n\u001b[1;32m----> 4\u001b[0m     \u001b[38;5;28;01mraise\u001b[39;00m \u001b[38;5;167;01mNotImplementedError\u001b[39;00m\n",
      "\u001b[1;31mNotImplementedError\u001b[0m: "
     ]
    }
   ],
   "source": [
    "KindaConcrete().f()"
   ]
  },
  {
   "cell_type": "code",
   "execution_count": 87,
   "id": "703b5084-df94-4ec0-a204-2385c5000ea9",
   "metadata": {},
   "outputs": [],
   "source": [
    "class ReallyAbstract(abc.ABC): \n",
    "    @abc.abstractmethod\n",
    "    def f(self): \n",
    "        raise NotImplementedError    "
   ]
  },
  {
   "cell_type": "code",
   "execution_count": 88,
   "id": "370c2c63-d242-4b6f-9c84-9c4430dc9504",
   "metadata": {
    "tags": [
     "raises-exception"
    ]
   },
   "outputs": [
    {
     "ename": "TypeError",
     "evalue": "Can't instantiate abstract class ReallyAbstract with abstract method f",
     "output_type": "error",
     "traceback": [
      "\u001b[1;31m---------------------------------------------------------------------------\u001b[0m",
      "\u001b[1;31mTypeError\u001b[0m                                 Traceback (most recent call last)",
      "Input \u001b[1;32mIn [88]\u001b[0m, in \u001b[0;36m<cell line: 1>\u001b[1;34m()\u001b[0m\n\u001b[1;32m----> 1\u001b[0m \u001b[43mReallyAbstract\u001b[49m\u001b[43m(\u001b[49m\u001b[43m)\u001b[49m\u001b[38;5;241m.\u001b[39mf()\n",
      "\u001b[1;31mTypeError\u001b[0m: Can't instantiate abstract class ReallyAbstract with abstract method f"
     ]
    }
   ],
   "source": [
    "ReallyAbstract().f()"
   ]
  },
  {
   "cell_type": "markdown",
   "id": "69b6a5e4-af06-42ff-96ef-36014444b504",
   "metadata": {},
   "source": [
    "## Customizing properties in derived classes, part 2 of 2 (cont'd)"
   ]
  },
  {
   "cell_type": "code",
   "execution_count": 89,
   "id": "2887132c-e954-4816-9c55-fd829a271e96",
   "metadata": {},
   "outputs": [
    {
     "data": {
      "text/plain": [
       "77"
      ]
     },
     "execution_count": 89,
     "metadata": {},
     "output_type": "execute_result"
    }
   ],
   "source": [
    "class B:\n",
    "    @property\n",
    "    def p(self):\n",
    "        return 76\n",
    "\n",
    "class D(B):\n",
    "    @property\n",
    "    def p(self):\n",
    "        return super().p + 1\n",
    "\n",
    "D().p"
   ]
  },
  {
   "cell_type": "code",
   "execution_count": 90,
   "id": "060e4775-0e44-4bd8-8ae4-15e5073a7a33",
   "metadata": {},
   "outputs": [],
   "source": [
    "class C:\n",
    "    \n",
    "    __slots__ = ()\n",
    "    \n",
    "    def f(self):\n",
    "        return 42"
   ]
  },
  {
   "cell_type": "code",
   "execution_count": 91,
   "id": "f926df5d-19d6-4e4e-9908-8440852e3eec",
   "metadata": {},
   "outputs": [
    {
     "data": {
      "text/plain": [
       "42"
      ]
     },
     "execution_count": 91,
     "metadata": {},
     "output_type": "execute_result"
    }
   ],
   "source": [
    "C().f()"
   ]
  },
  {
   "cell_type": "code",
   "execution_count": 92,
   "id": "0014e6af-5a0d-4e68-b9e4-5922cf5468bc",
   "metadata": {
    "tags": [
     "raises-exception"
    ]
   },
   "outputs": [
    {
     "ename": "AttributeError",
     "evalue": "'C' object attribute 'f' is read-only",
     "output_type": "error",
     "traceback": [
      "\u001b[1;31m---------------------------------------------------------------------------\u001b[0m",
      "\u001b[1;31mAttributeError\u001b[0m                            Traceback (most recent call last)",
      "Input \u001b[1;32mIn [92]\u001b[0m, in \u001b[0;36m<cell line: 2>\u001b[1;34m()\u001b[0m\n\u001b[0;32m      1\u001b[0m x \u001b[38;5;241m=\u001b[39m C()\n\u001b[1;32m----> 2\u001b[0m x\u001b[38;5;241m.\u001b[39mf \u001b[38;5;241m=\u001b[39m \u001b[38;5;28;01mlambda\u001b[39;00m: \u001b[38;5;241m76\u001b[39m  \u001b[38;5;66;03m# Would work without __slots__.\u001b[39;00m\n\u001b[0;32m      3\u001b[0m x\u001b[38;5;241m.\u001b[39mf()\n",
      "\u001b[1;31mAttributeError\u001b[0m: 'C' object attribute 'f' is read-only"
     ]
    }
   ],
   "source": [
    "x = C()\n",
    "x.f = lambda: 76  # Would work without __slots__.\n",
    "x.f()"
   ]
  },
  {
   "cell_type": "code",
   "execution_count": 93,
   "id": "b5c352c9-b85b-4624-b111-e6cb237e3de4",
   "metadata": {},
   "outputs": [],
   "source": [
    "import math"
   ]
  },
  {
   "cell_type": "code",
   "execution_count": 94,
   "id": "51b21795-b8d9-4367-b664-5b5cd33756a2",
   "metadata": {},
   "outputs": [],
   "source": [
    "class Square: \n",
    "    \n",
    "    __slots__ = ('_area',)\n",
    "    \n",
    "    def __init__(self, side): \n",
    "        self.side = side\n",
    "    \n",
    "    @property\n",
    "    def side(self):\n",
    "        return math.sqrt(self._area)\n",
    "    \n",
    "    @side.setter\n",
    "    def side(self, value):\n",
    "        self._area = value * value"
   ]
  },
  {
   "cell_type": "code",
   "execution_count": 95,
   "id": "bac025bf-d415-4230-ae71-6cb23f5a70c1",
   "metadata": {},
   "outputs": [],
   "source": [
    "s = Square(2)"
   ]
  },
  {
   "cell_type": "code",
   "execution_count": 96,
   "id": "e283fa2a-2495-4330-b93e-37f0849c0206",
   "metadata": {},
   "outputs": [
    {
     "data": {
      "text/plain": [
       "2.0"
      ]
     },
     "execution_count": 96,
     "metadata": {},
     "output_type": "execute_result"
    }
   ],
   "source": [
    "s.side"
   ]
  },
  {
   "cell_type": "code",
   "execution_count": 97,
   "id": "4c6ab47c-03a9-4bca-a3bb-cbb36ae6fc00",
   "metadata": {},
   "outputs": [],
   "source": [
    "s.side = 4"
   ]
  },
  {
   "cell_type": "code",
   "execution_count": 98,
   "id": "fcf6edf6-a857-4839-9289-9ca840dbc46d",
   "metadata": {},
   "outputs": [
    {
     "data": {
      "text/plain": [
       "4.0"
      ]
     },
     "execution_count": 98,
     "metadata": {},
     "output_type": "execute_result"
    }
   ],
   "source": [
    "s.side"
   ]
  },
  {
   "cell_type": "code",
   "execution_count": 99,
   "id": "9d8e0407-78ec-4db6-9c38-593018b14fd4",
   "metadata": {},
   "outputs": [
    {
     "data": {
      "text/plain": [
       "16"
      ]
     },
     "execution_count": 99,
     "metadata": {},
     "output_type": "execute_result"
    }
   ],
   "source": [
    "s._area"
   ]
  },
  {
   "cell_type": "code",
   "execution_count": 100,
   "id": "66d92a00-6eb2-49c8-8e58-0491934dbc61",
   "metadata": {},
   "outputs": [],
   "source": [
    "class LoudSquare(Square): \n",
    "    @Square.side.setter\n",
    "    def side(self, value): \n",
    "        print(f'Setting side to {value!r}.')\n",
    "        super().side = value"
   ]
  },
  {
   "cell_type": "code",
   "execution_count": 101,
   "id": "1d6a4c82-1668-44b5-b819-82777ae96af1",
   "metadata": {
    "tags": [
     "raises-exception"
    ]
   },
   "outputs": [
    {
     "name": "stdout",
     "output_type": "stream",
     "text": [
      "Setting side to 4.\n"
     ]
    },
    {
     "ename": "AttributeError",
     "evalue": "'super' object has no attribute 'side'",
     "output_type": "error",
     "traceback": [
      "\u001b[1;31m---------------------------------------------------------------------------\u001b[0m",
      "\u001b[1;31mAttributeError\u001b[0m                            Traceback (most recent call last)",
      "Input \u001b[1;32mIn [101]\u001b[0m, in \u001b[0;36m<cell line: 1>\u001b[1;34m()\u001b[0m\n\u001b[1;32m----> 1\u001b[0m ls \u001b[38;5;241m=\u001b[39m \u001b[43mLoudSquare\u001b[49m\u001b[43m(\u001b[49m\u001b[38;5;241;43m4\u001b[39;49m\u001b[43m)\u001b[49m\n",
      "Input \u001b[1;32mIn [94]\u001b[0m, in \u001b[0;36mSquare.__init__\u001b[1;34m(self, side)\u001b[0m\n\u001b[0;32m      5\u001b[0m \u001b[38;5;28;01mdef\u001b[39;00m \u001b[38;5;21m__init__\u001b[39m(\u001b[38;5;28mself\u001b[39m, side): \n\u001b[1;32m----> 6\u001b[0m     \u001b[38;5;28mself\u001b[39m\u001b[38;5;241m.\u001b[39mside \u001b[38;5;241m=\u001b[39m side\n",
      "Input \u001b[1;32mIn [100]\u001b[0m, in \u001b[0;36mLoudSquare.side\u001b[1;34m(self, value)\u001b[0m\n\u001b[0;32m      2\u001b[0m \u001b[38;5;129m@Square\u001b[39m\u001b[38;5;241m.\u001b[39mside\u001b[38;5;241m.\u001b[39msetter\n\u001b[0;32m      3\u001b[0m \u001b[38;5;28;01mdef\u001b[39;00m \u001b[38;5;21mside\u001b[39m(\u001b[38;5;28mself\u001b[39m, value): \n\u001b[0;32m      4\u001b[0m     \u001b[38;5;28mprint\u001b[39m(\u001b[38;5;124mf\u001b[39m\u001b[38;5;124m'\u001b[39m\u001b[38;5;124mSetting side to \u001b[39m\u001b[38;5;132;01m{\u001b[39;00mvalue\u001b[38;5;132;01m!r}\u001b[39;00m\u001b[38;5;124m.\u001b[39m\u001b[38;5;124m'\u001b[39m)\n\u001b[1;32m----> 5\u001b[0m     \u001b[38;5;28msuper\u001b[39m()\u001b[38;5;241m.\u001b[39mside \u001b[38;5;241m=\u001b[39m value\n",
      "\u001b[1;31mAttributeError\u001b[0m: 'super' object has no attribute 'side'"
     ]
    }
   ],
   "source": [
    "ls = LoudSquare(4)"
   ]
  },
  {
   "cell_type": "code",
   "execution_count": 102,
   "id": "a06b1ccb-008f-4bb4-9a8b-5a35719b5dfc",
   "metadata": {},
   "outputs": [],
   "source": [
    "class LoudSquare(Square): \n",
    "    @Square.side.setter\n",
    "    def side(self, value): \n",
    "        print(f'Setting side to {value!r}.')\n",
    "        Square.side.fset(self, value)"
   ]
  },
  {
   "cell_type": "code",
   "execution_count": 103,
   "id": "d697ffda-b2c5-4310-b27c-e48e640fce1e",
   "metadata": {},
   "outputs": [
    {
     "name": "stdout",
     "output_type": "stream",
     "text": [
      "Setting side to 4.\n"
     ]
    }
   ],
   "source": [
    "ls = LoudSquare(4)"
   ]
  },
  {
   "cell_type": "code",
   "execution_count": 104,
   "id": "bcd32fba-9d93-4a72-8e67-3ea9a2498559",
   "metadata": {},
   "outputs": [
    {
     "data": {
      "text/plain": [
       "16"
      ]
     },
     "execution_count": 104,
     "metadata": {},
     "output_type": "execute_result"
    }
   ],
   "source": [
    "ls._area"
   ]
  },
  {
   "cell_type": "markdown",
   "id": "994f1a16-d781-48a7-a793-62f715acf85c",
   "metadata": {},
   "source": [
    "## Overriding is easier with explicit getter/setter methods\n",
    "\n",
    "But this is usually not the interface we want for users of the class."
   ]
  },
  {
   "cell_type": "code",
   "execution_count": 105,
   "id": "53297493-0819-4620-9690-39b4c9bf4b7f",
   "metadata": {},
   "outputs": [],
   "source": [
    "class Square: \n",
    "    \n",
    "    __slots__ = ('_area',)\n",
    "    \n",
    "    def __init__(self, side): \n",
    "        self.set_side(side)\n",
    "    \n",
    "    def get_side(self):\n",
    "        return math.sqrt(self._area)\n",
    "    \n",
    "    def set_side(self, side):\n",
    "        self._area = side * side"
   ]
  },
  {
   "cell_type": "code",
   "execution_count": 106,
   "id": "84ca5019-1004-44d9-b28a-f5cbcb1b482c",
   "metadata": {},
   "outputs": [],
   "source": [
    "class LoudSquare(Square): \n",
    "    \n",
    "    __slots__ = ()\n",
    "    \n",
    "    def set_side(self, side): \n",
    "        print(f'Setting side to {side!r}.')\n",
    "        super().set_side(side)"
   ]
  },
  {
   "cell_type": "code",
   "execution_count": 107,
   "id": "c89f945b-6f55-4405-b9b1-9062b48220e8",
   "metadata": {},
   "outputs": [
    {
     "name": "stdout",
     "output_type": "stream",
     "text": [
      "Setting side to 4.\n"
     ]
    }
   ],
   "source": [
    "ls = LoudSquare(4)"
   ]
  },
  {
   "cell_type": "code",
   "execution_count": 108,
   "id": "bc1b549d-b2d7-4d44-8dd9-683890e0c5d6",
   "metadata": {},
   "outputs": [
    {
     "data": {
      "text/plain": [
       "16"
      ]
     },
     "execution_count": 108,
     "metadata": {},
     "output_type": "execute_result"
    }
   ],
   "source": [
    "ls._area"
   ]
  },
  {
   "cell_type": "code",
   "execution_count": 109,
   "id": "f6029006-ec14-43a1-a097-c389a45a0e03",
   "metadata": {
    "tags": [
     "raises-exception"
    ]
   },
   "outputs": [
    {
     "ename": "AttributeError",
     "evalue": "'LoudSquare' object has no attribute 'x'",
     "output_type": "error",
     "traceback": [
      "\u001b[1;31m---------------------------------------------------------------------------\u001b[0m",
      "\u001b[1;31mAttributeError\u001b[0m                            Traceback (most recent call last)",
      "Input \u001b[1;32mIn [109]\u001b[0m, in \u001b[0;36m<cell line: 1>\u001b[1;34m()\u001b[0m\n\u001b[1;32m----> 1\u001b[0m ls\u001b[38;5;241m.\u001b[39mx \u001b[38;5;241m=\u001b[39m \u001b[38;5;241m2\u001b[39m\n",
      "\u001b[1;31mAttributeError\u001b[0m: 'LoudSquare' object has no attribute 'x'"
     ]
    }
   ],
   "source": [
    "ls.x = 2"
   ]
  },
  {
   "cell_type": "markdown",
   "id": "411f8001-b203-4091-a393-8d19f51a6a16",
   "metadata": {},
   "source": [
    "## The solution: properties that delegate to explicit accessor methods\n",
    "\n",
    "**Note:** This should be used when designing a base class with the deliberate and considered intention that derived classes will customize the behavior of existing base-class properties."
   ]
  },
  {
   "cell_type": "code",
   "execution_count": 110,
   "id": "38f22532-e6f4-4a92-a580-270ad27d7557",
   "metadata": {},
   "outputs": [],
   "source": [
    "class Square: \n",
    "    \n",
    "    __slots__ = ('_area',)\n",
    "    \n",
    "    def __init__(self, side): \n",
    "        self.side = side\n",
    "    \n",
    "    @property\n",
    "    def side(self):\n",
    "        return self._get_side()\n",
    "    \n",
    "    @side.setter\n",
    "    def side(self, value):\n",
    "        self._set_side(value)\n",
    "    \n",
    "    def _get_side(self): \n",
    "        \"\"\"\n",
    "        Get the side length. (Protected setter method.)\n",
    "        \n",
    "        This should only ever be called from code in this and derived classes.\n",
    "        \"\"\"    \n",
    "        return math.sqrt(self._area)\n",
    "    \n",
    "    def _set_side(self, value): \n",
    "        \"\"\"\n",
    "        Set the side length. (Protected setter method.)\n",
    "        \n",
    "        This should only ever be called from code in this and derived classes.\n",
    "        \"\"\"\n",
    "        self._area = value * value"
   ]
  },
  {
   "cell_type": "code",
   "execution_count": 111,
   "id": "976495f6-c8b4-4129-a7b4-7427ff98b637",
   "metadata": {},
   "outputs": [],
   "source": [
    "class LoudSquare(Square): \n",
    "    \n",
    "    __slots__ = ()\n",
    "    \n",
    "    def _set_side(self, side): \n",
    "        print(f'Setting side to {side!r}.')\n",
    "        super()._set_side(side)"
   ]
  },
  {
   "cell_type": "code",
   "execution_count": 112,
   "id": "c7b2d5d1-4935-429d-920b-b0cd14d92898",
   "metadata": {},
   "outputs": [
    {
     "name": "stdout",
     "output_type": "stream",
     "text": [
      "Setting side to 4.\n"
     ]
    }
   ],
   "source": [
    "ls = LoudSquare(4)"
   ]
  },
  {
   "cell_type": "code",
   "execution_count": 113,
   "id": "57fbbd1d-69a1-4519-b024-ea48685a244b",
   "metadata": {},
   "outputs": [
    {
     "data": {
      "text/plain": [
       "16"
      ]
     },
     "execution_count": 113,
     "metadata": {},
     "output_type": "execute_result"
    }
   ],
   "source": [
    "ls._area"
   ]
  },
  {
   "cell_type": "code",
   "execution_count": 114,
   "id": "622b3339-5ce4-4a5a-b17c-33d61eb61cd1",
   "metadata": {},
   "outputs": [
    {
     "name": "stdout",
     "output_type": "stream",
     "text": [
      "Setting side to 5.\n"
     ]
    }
   ],
   "source": [
    "ls.side = 5"
   ]
  },
  {
   "cell_type": "code",
   "execution_count": 115,
   "id": "d420af73-91ed-4e88-8a0f-85f176c45fe2",
   "metadata": {},
   "outputs": [
    {
     "data": {
      "text/plain": [
       "25"
      ]
     },
     "execution_count": 115,
     "metadata": {},
     "output_type": "execute_result"
    }
   ],
   "source": [
    "ls._area"
   ]
  },
  {
   "cell_type": "markdown",
   "id": "24491471-c62f-4ad3-a2e3-3b450b11c744",
   "metadata": {},
   "source": [
    "## Slots: What can be assigned to `__slots__`"
   ]
  },
  {
   "cell_type": "code",
   "execution_count": 116,
   "id": "7e38388e-6360-44dd-909d-f84b2b72f1da",
   "metadata": {},
   "outputs": [],
   "source": [
    "class Single:\n",
    "    __slots__ = 'thing'  # Bad way to express:  __slots__ = ('thing',)"
   ]
  },
  {
   "cell_type": "code",
   "execution_count": 117,
   "id": "95dbdf86-b383-48c2-8d48-1dab389b47c3",
   "metadata": {},
   "outputs": [
    {
     "data": {
      "text/plain": [
       "'foo'"
      ]
     },
     "execution_count": 117,
     "metadata": {},
     "output_type": "execute_result"
    }
   ],
   "source": [
    "s = Single()\n",
    "s.thing = 'foo'\n",
    "s.thing"
   ]
  },
  {
   "cell_type": "code",
   "execution_count": 118,
   "id": "53c1de84-a49e-46b4-8c2b-c72abcfd42db",
   "metadata": {
    "tags": [
     "raises-exception"
    ]
   },
   "outputs": [
    {
     "ename": "AttributeError",
     "evalue": "'Single' object has no attribute 'thing2'",
     "output_type": "error",
     "traceback": [
      "\u001b[1;31m---------------------------------------------------------------------------\u001b[0m",
      "\u001b[1;31mAttributeError\u001b[0m                            Traceback (most recent call last)",
      "Input \u001b[1;32mIn [118]\u001b[0m, in \u001b[0;36m<cell line: 1>\u001b[1;34m()\u001b[0m\n\u001b[1;32m----> 1\u001b[0m s\u001b[38;5;241m.\u001b[39mthing2 \u001b[38;5;241m=\u001b[39m \u001b[38;5;124m'\u001b[39m\u001b[38;5;124mbar\u001b[39m\u001b[38;5;124m'\u001b[39m\n",
      "\u001b[1;31mAttributeError\u001b[0m: 'Single' object has no attribute 'thing2'"
     ]
    }
   ],
   "source": [
    "s.thing2 = 'bar'"
   ]
  },
  {
   "cell_type": "code",
   "execution_count": 119,
   "id": "25ea6268-7de2-425d-bfe2-d18d07300e20",
   "metadata": {},
   "outputs": [],
   "source": [
    "class Person: \n",
    "    \"\"\"A person with height and weight.\"\"\"\n",
    "    \n",
    "    __slots__ = ('height', 'weight')\n",
    "    \n",
    "    def __init__(self, height, weight): \n",
    "        \"\"\"Create a person with a given height and weight.\"\"\"\n",
    "        self.height = height\n",
    "        self.weight = weight\n",
    "    \n",
    "    def __repr__(self): \n",
    "        return f\"{type(self).__name__}(height={self.height!r}, weight={self.weight!r})\""
   ]
  },
  {
   "cell_type": "code",
   "execution_count": 120,
   "id": "d4707379-2c83-4a40-9998-38c4bab5e52b",
   "metadata": {},
   "outputs": [
    {
     "data": {
      "text/plain": [
       "Person(height=6, weight=180)"
      ]
     },
     "execution_count": 120,
     "metadata": {},
     "output_type": "execute_result"
    }
   ],
   "source": [
    "Person(6, 180)"
   ]
  },
  {
   "cell_type": "code",
   "execution_count": 121,
   "id": "851dfc8c-d69c-4dc1-a8d0-de722f92acc7",
   "metadata": {},
   "outputs": [
    {
     "data": {
      "text/plain": [
       "Person(height=6, weight=180)"
      ]
     },
     "execution_count": 121,
     "metadata": {},
     "output_type": "execute_result"
    }
   ],
   "source": [
    "Person(height=6, weight=180)"
   ]
  },
  {
   "cell_type": "code",
   "execution_count": 122,
   "id": "74e059a1-4a4b-46e4-8f2d-4d635e1aa895",
   "metadata": {},
   "outputs": [
    {
     "data": {
      "text/plain": [
       "('height', 'weight')"
      ]
     },
     "execution_count": 122,
     "metadata": {},
     "output_type": "execute_result"
    }
   ],
   "source": [
    "Person.__slots__"
   ]
  },
  {
   "cell_type": "code",
   "execution_count": 123,
   "id": "555e7b9d-fc59-4d32-acb6-26a3dfa3242d",
   "metadata": {},
   "outputs": [],
   "source": [
    "class Person: \n",
    "    \"\"\"A person with height and weight.\"\"\"\n",
    "    \n",
    "    __slots__ = ['height', 'weight']\n",
    "    \n",
    "    def __init__(self, height, weight): \n",
    "        \"\"\"Create a person with a given height and weight.\"\"\"\n",
    "        self.height = height\n",
    "        self.weight = weight\n",
    "    \n",
    "    def __repr__(self): \n",
    "        return f\"{type(self).__name__}(height={self.height!r}, weight={self.weight!r})\""
   ]
  },
  {
   "cell_type": "code",
   "execution_count": 124,
   "id": "bc5373a5-67a9-41c1-8266-d01efa25e2da",
   "metadata": {},
   "outputs": [
    {
     "data": {
      "text/plain": [
       "Person(height=6, weight=180)"
      ]
     },
     "execution_count": 124,
     "metadata": {},
     "output_type": "execute_result"
    }
   ],
   "source": [
    "Person(6, 180)"
   ]
  },
  {
   "cell_type": "code",
   "execution_count": 125,
   "id": "5a4824be-2d76-466f-a417-deb95961d7dd",
   "metadata": {},
   "outputs": [
    {
     "data": {
      "text/plain": [
       "['height', 'weight']"
      ]
     },
     "execution_count": 125,
     "metadata": {},
     "output_type": "execute_result"
    }
   ],
   "source": [
    "Person.__slots__"
   ]
  },
  {
   "cell_type": "code",
   "execution_count": 126,
   "id": "30139ca8-67b5-4e0f-9e54-719586b41589",
   "metadata": {
    "tags": [
     "raises-exception"
    ]
   },
   "outputs": [
    {
     "ename": "AttributeError",
     "evalue": "'Person' object has no attribute 'gender'",
     "output_type": "error",
     "traceback": [
      "\u001b[1;31m---------------------------------------------------------------------------\u001b[0m",
      "\u001b[1;31mAttributeError\u001b[0m                            Traceback (most recent call last)",
      "Input \u001b[1;32mIn [126]\u001b[0m, in \u001b[0;36m<cell line: 1>\u001b[1;34m()\u001b[0m\n\u001b[1;32m----> 1\u001b[0m Person(\u001b[38;5;241m4\u001b[39m, \u001b[38;5;241m190\u001b[39m)\u001b[38;5;241m.\u001b[39mgender \u001b[38;5;241m=\u001b[39m \u001b[38;5;124m'\u001b[39m\u001b[38;5;124mgirl\u001b[39m\u001b[38;5;124m'\u001b[39m\n",
      "\u001b[1;31mAttributeError\u001b[0m: 'Person' object has no attribute 'gender'"
     ]
    }
   ],
   "source": [
    "Person(4, 190).gender = 'girl'"
   ]
  },
  {
   "cell_type": "code",
   "execution_count": 127,
   "id": "3d211416-d113-4387-8edb-eec21388490b",
   "metadata": {},
   "outputs": [],
   "source": [
    "Person.__slots__.append('gender')"
   ]
  },
  {
   "cell_type": "code",
   "execution_count": 128,
   "id": "f5adde07-6f51-4162-9716-d105f7263dbb",
   "metadata": {},
   "outputs": [
    {
     "data": {
      "text/plain": [
       "['height', 'weight', 'gender']"
      ]
     },
     "execution_count": 128,
     "metadata": {},
     "output_type": "execute_result"
    }
   ],
   "source": [
    "Person.__slots__"
   ]
  },
  {
   "cell_type": "code",
   "execution_count": 129,
   "id": "a05770c1-f54c-40dc-ad4d-ce81cfcf5966",
   "metadata": {
    "tags": [
     "raises-exception"
    ]
   },
   "outputs": [
    {
     "ename": "AttributeError",
     "evalue": "'Person' object has no attribute 'gender'",
     "output_type": "error",
     "traceback": [
      "\u001b[1;31m---------------------------------------------------------------------------\u001b[0m",
      "\u001b[1;31mAttributeError\u001b[0m                            Traceback (most recent call last)",
      "Input \u001b[1;32mIn [129]\u001b[0m, in \u001b[0;36m<cell line: 1>\u001b[1;34m()\u001b[0m\n\u001b[1;32m----> 1\u001b[0m Person(\u001b[38;5;241m4\u001b[39m, \u001b[38;5;241m190\u001b[39m)\u001b[38;5;241m.\u001b[39mgender \u001b[38;5;241m=\u001b[39m \u001b[38;5;124m'\u001b[39m\u001b[38;5;124mgirl\u001b[39m\u001b[38;5;124m'\u001b[39m\n",
      "\u001b[1;31mAttributeError\u001b[0m: 'Person' object has no attribute 'gender'"
     ]
    }
   ],
   "source": [
    "Person(4, 190).gender = 'girl'"
   ]
  },
  {
   "cell_type": "code",
   "execution_count": 130,
   "id": "1a038f95-e9f3-4d5b-8e98-0958715f2f76",
   "metadata": {},
   "outputs": [
    {
     "name": "stdout",
     "output_type": "stream",
     "text": [
      "Help on class Person in module __main__:\n",
      "\n",
      "class Person(builtins.object)\n",
      " |  Person(height, weight)\n",
      " |  \n",
      " |  A person with height and weight.\n",
      " |  \n",
      " |  Methods defined here:\n",
      " |  \n",
      " |  __init__(self, height, weight)\n",
      " |      Create a person with a given height and weight.\n",
      " |  \n",
      " |  __repr__(self)\n",
      " |      Return repr(self).\n",
      " |  \n",
      " |  ----------------------------------------------------------------------\n",
      " |  Data descriptors defined here:\n",
      " |  \n",
      " |  height\n",
      " |  \n",
      " |  weight\n",
      "\n"
     ]
    }
   ],
   "source": [
    "help(Person)"
   ]
  },
  {
   "cell_type": "code",
   "execution_count": 131,
   "id": "4c4714c0-a3d3-4f0f-b443-d9afbc425bd0",
   "metadata": {},
   "outputs": [],
   "source": [
    "class Person: \n",
    "    \"\"\"A person with height and weight.\"\"\"\n",
    "    \n",
    "    __slots__ = (name for name in ('height', 'weight'))\n",
    "    \n",
    "    def __init__(self, height, weight): \n",
    "        \"\"\"Create a person with a given height and weight.\"\"\"\n",
    "        self.height = height\n",
    "        self.weight = weight\n",
    "    \n",
    "    def __repr__(self): \n",
    "        return f\"{type(self).__name__}(height={self.height!r}, weight={self.weight!r})\""
   ]
  },
  {
   "cell_type": "code",
   "execution_count": 132,
   "id": "ca8baf52-22fc-47a8-b699-3da6e6e44fe6",
   "metadata": {},
   "outputs": [
    {
     "data": {
      "text/plain": [
       "generator"
      ]
     },
     "execution_count": 132,
     "metadata": {},
     "output_type": "execute_result"
    }
   ],
   "source": [
    "type(Person.__slots__)"
   ]
  },
  {
   "cell_type": "code",
   "execution_count": 133,
   "id": "ac27cc00-f2c1-4677-93bd-8cc2a9fe77f9",
   "metadata": {},
   "outputs": [
    {
     "name": "stdout",
     "output_type": "stream",
     "text": [
      "Help on class Person in module __main__:\n",
      "\n",
      "class Person(builtins.object)\n",
      " |  Person(height, weight)\n",
      " |  \n",
      " |  A person with height and weight.\n",
      " |  \n",
      " |  Methods defined here:\n",
      " |  \n",
      " |  __init__(self, height, weight)\n",
      " |      Create a person with a given height and weight.\n",
      " |  \n",
      " |  __repr__(self)\n",
      " |      Return repr(self).\n",
      " |  \n",
      " |  ----------------------------------------------------------------------\n",
      " |  Data descriptors defined here:\n",
      " |  \n",
      " |  height\n",
      " |  \n",
      " |  weight\n",
      "\n"
     ]
    }
   ],
   "source": [
    "help(Person)"
   ]
  },
  {
   "cell_type": "code",
   "execution_count": 134,
   "id": "084da5fe-4467-4b34-9924-264d2b9507c0",
   "metadata": {},
   "outputs": [
    {
     "data": {
      "text/plain": [
       "<generator object Person.<genexpr> at 0x000002CF8656D2A0>"
      ]
     },
     "execution_count": 134,
     "metadata": {},
     "output_type": "execute_result"
    }
   ],
   "source": [
    "Person.__slots__"
   ]
  },
  {
   "cell_type": "code",
   "execution_count": 135,
   "id": "1e766370-d4ae-4bde-b21b-cf0667064225",
   "metadata": {},
   "outputs": [
    {
     "data": {
      "text/plain": [
       "[]"
      ]
     },
     "execution_count": 135,
     "metadata": {},
     "output_type": "execute_result"
    }
   ],
   "source": [
    "list(Person.__slots__)"
   ]
  },
  {
   "cell_type": "code",
   "execution_count": 136,
   "id": "1c2c24b3-c369-4b8a-bfe8-9258c41702ad",
   "metadata": {},
   "outputs": [],
   "source": [
    "class Person: \n",
    "    \"\"\"A person with height and weight.\"\"\"\n",
    "    \n",
    "    __slots__ = ('height', 'weight')\n",
    "    \n",
    "    def __init__(self, height, weight): \n",
    "        \"\"\"Create a person with a given height and weight.\"\"\"\n",
    "        self.height = height\n",
    "        self.weight = weight\n",
    "    \n",
    "    def __repr__(self): \n",
    "        return f\"{type(self).__name__}(height={self.height!r}, weight={self.weight!r})\"\n",
    "    \n",
    "    @property\n",
    "    def tall(self): \n",
    "        \"\"\"A tall person is over 6 feet.\"\"\"\n",
    "        return self.height > 6"
   ]
  },
  {
   "cell_type": "code",
   "execution_count": 137,
   "id": "4e9501ca-23c1-4c88-903d-d73cefc07794",
   "metadata": {},
   "outputs": [
    {
     "data": {
      "text/plain": [
       "True"
      ]
     },
     "execution_count": 137,
     "metadata": {},
     "output_type": "execute_result"
    }
   ],
   "source": [
    "Person(7, 200).tall"
   ]
  },
  {
   "cell_type": "code",
   "execution_count": 138,
   "id": "86240fce-ffde-40e5-86cb-cab6570bb414",
   "metadata": {},
   "outputs": [
    {
     "data": {
      "text/plain": [
       "False"
      ]
     },
     "execution_count": 138,
     "metadata": {},
     "output_type": "execute_result"
    }
   ],
   "source": [
    "Person(5, 120).tall"
   ]
  },
  {
   "cell_type": "code",
   "execution_count": 139,
   "id": "320db416-0c4e-49c8-87da-d5de698ada88",
   "metadata": {},
   "outputs": [
    {
     "name": "stdout",
     "output_type": "stream",
     "text": [
      "Help on class Person in module __main__:\n",
      "\n",
      "class Person(builtins.object)\n",
      " |  Person(height, weight)\n",
      " |  \n",
      " |  A person with height and weight.\n",
      " |  \n",
      " |  Methods defined here:\n",
      " |  \n",
      " |  __init__(self, height, weight)\n",
      " |      Create a person with a given height and weight.\n",
      " |  \n",
      " |  __repr__(self)\n",
      " |      Return repr(self).\n",
      " |  \n",
      " |  ----------------------------------------------------------------------\n",
      " |  Readonly properties defined here:\n",
      " |  \n",
      " |  tall\n",
      " |      A tall person is over 6 feet.\n",
      " |  \n",
      " |  ----------------------------------------------------------------------\n",
      " |  Data descriptors defined here:\n",
      " |  \n",
      " |  height\n",
      " |  \n",
      " |  weight\n",
      "\n"
     ]
    }
   ],
   "source": [
    "help(Person)"
   ]
  },
  {
   "cell_type": "code",
   "execution_count": 140,
   "id": "7a73259a-8f7e-485e-b95e-95022136674c",
   "metadata": {},
   "outputs": [],
   "source": [
    "class Person: \n",
    "    \"\"\"A person with height and weight.\"\"\"\n",
    "    \n",
    "    __slots__ = {'height': 'Height in feet.',\n",
    "                 'weight': 'Weight in pounds.'}\n",
    "    \n",
    "    def __init__(self, height, weight): \n",
    "        \"\"\"Create a person with a given height and weight.\"\"\"\n",
    "        self.height = height\n",
    "        self.weight = weight\n",
    "    \n",
    "    def __repr__(self): \n",
    "        return f\"{type(self).__name__}(height={self.height!r}, weight={self.weight!r})\"\n",
    "    \n",
    "    @property\n",
    "    def tall(self): \n",
    "        \"\"\"A tall person is over 6 feet.\"\"\"\n",
    "        return self.height > 6"
   ]
  },
  {
   "cell_type": "code",
   "execution_count": 141,
   "id": "7f93d687-ce91-48d8-aed8-3131c5e5c1e2",
   "metadata": {},
   "outputs": [
    {
     "name": "stdout",
     "output_type": "stream",
     "text": [
      "Help on class Person in module __main__:\n",
      "\n",
      "class Person(builtins.object)\n",
      " |  Person(height, weight)\n",
      " |  \n",
      " |  A person with height and weight.\n",
      " |  \n",
      " |  Methods defined here:\n",
      " |  \n",
      " |  __init__(self, height, weight)\n",
      " |      Create a person with a given height and weight.\n",
      " |  \n",
      " |  __repr__(self)\n",
      " |      Return repr(self).\n",
      " |  \n",
      " |  ----------------------------------------------------------------------\n",
      " |  Readonly properties defined here:\n",
      " |  \n",
      " |  tall\n",
      " |      A tall person is over 6 feet.\n",
      " |  \n",
      " |  ----------------------------------------------------------------------\n",
      " |  Data descriptors defined here:\n",
      " |  \n",
      " |  height\n",
      " |      Height in feet.\n",
      " |  \n",
      " |  weight\n",
      " |      Weight in pounds.\n",
      "\n"
     ]
    }
   ],
   "source": [
    "help(Person)"
   ]
  },
  {
   "cell_type": "code",
   "execution_count": 142,
   "id": "475693c0-19ea-4ad8-9123-9505ada5cea7",
   "metadata": {},
   "outputs": [],
   "source": [
    "class Person: \n",
    "    \"\"\"A person with height and weight.\"\"\"\n",
    "    \n",
    "    __slots__ = dict(height='Height in feet.',\n",
    "                     weight='Weight in pounds.')\n",
    "    \n",
    "    def __init__(self, height, weight): \n",
    "        \"\"\"Create a person with a given height and weight.\"\"\"\n",
    "        self.height = height\n",
    "        self.weight = weight\n",
    "    \n",
    "    def __repr__(self): \n",
    "        return f\"{type(self).__name__}(height={self.height!r}, weight={self.weight!r})\"\n",
    "    \n",
    "    @property\n",
    "    def tall(self): \n",
    "        \"\"\"A tall person is over 6 feet.\"\"\"\n",
    "        return self.height > 6"
   ]
  },
  {
   "cell_type": "code",
   "execution_count": 143,
   "id": "bfef7367-9e95-4f0c-91bb-9dd03e6505fa",
   "metadata": {},
   "outputs": [
    {
     "name": "stdout",
     "output_type": "stream",
     "text": [
      "Help on class Person in module __main__:\n",
      "\n",
      "class Person(builtins.object)\n",
      " |  Person(height, weight)\n",
      " |  \n",
      " |  A person with height and weight.\n",
      " |  \n",
      " |  Methods defined here:\n",
      " |  \n",
      " |  __init__(self, height, weight)\n",
      " |      Create a person with a given height and weight.\n",
      " |  \n",
      " |  __repr__(self)\n",
      " |      Return repr(self).\n",
      " |  \n",
      " |  ----------------------------------------------------------------------\n",
      " |  Readonly properties defined here:\n",
      " |  \n",
      " |  tall\n",
      " |      A tall person is over 6 feet.\n",
      " |  \n",
      " |  ----------------------------------------------------------------------\n",
      " |  Data descriptors defined here:\n",
      " |  \n",
      " |  height\n",
      " |      Height in feet.\n",
      " |  \n",
      " |  weight\n",
      " |      Weight in pounds.\n",
      "\n"
     ]
    }
   ],
   "source": [
    "help(Person)"
   ]
  },
  {
   "cell_type": "markdown",
   "id": "614e7e3e-e56c-4a41-b6bf-ea2c64c83d5e",
   "metadata": {},
   "source": [
    "## Slots: with multiple base classes"
   ]
  },
  {
   "cell_type": "code",
   "execution_count": 144,
   "id": "50e6ff27-790f-457e-8e27-b210fd2636c3",
   "metadata": {},
   "outputs": [],
   "source": [
    "class Base1: \n",
    "    __slots__ = ('x',)\n",
    "\n",
    "class Base2:\n",
    "    __slots__ = ('y',)"
   ]
  },
  {
   "cell_type": "code",
   "execution_count": 145,
   "id": "e91dc154-899b-4e61-ac39-720e4cc568a2",
   "metadata": {
    "tags": [
     "raises-exception"
    ]
   },
   "outputs": [
    {
     "ename": "TypeError",
     "evalue": "multiple bases have instance lay-out conflict",
     "output_type": "error",
     "traceback": [
      "\u001b[1;31m---------------------------------------------------------------------------\u001b[0m",
      "\u001b[1;31mTypeError\u001b[0m                                 Traceback (most recent call last)",
      "Input \u001b[1;32mIn [145]\u001b[0m, in \u001b[0;36m<cell line: 1>\u001b[1;34m()\u001b[0m\n\u001b[1;32m----> 1\u001b[0m \u001b[38;5;28;01mclass\u001b[39;00m \u001b[38;5;21;01mDerived\u001b[39;00m(Base1, Base2): \n\u001b[0;32m      2\u001b[0m     \u001b[38;5;28;01mpass\u001b[39;00m\n",
      "\u001b[1;31mTypeError\u001b[0m: multiple bases have instance lay-out conflict"
     ]
    }
   ],
   "source": [
    "class Derived(Base1, Base2): \n",
    "    pass"
   ]
  },
  {
   "cell_type": "code",
   "execution_count": 146,
   "id": "ae2bc0f6-2323-4bb8-9528-037a91e6f7a4",
   "metadata": {},
   "outputs": [],
   "source": [
    "class Base1: \n",
    "    __slots__ = ('x',)\n",
    "\n",
    "class Base2:\n",
    "    __slots__ = ()"
   ]
  },
  {
   "cell_type": "code",
   "execution_count": 147,
   "id": "0c1d421c-e2b7-4983-bf31-390b6996d411",
   "metadata": {},
   "outputs": [],
   "source": [
    "class Derived(Base1, Base2): \n",
    "    __slots__ = ()"
   ]
  },
  {
   "cell_type": "code",
   "execution_count": 148,
   "id": "7a099b58-e41b-4707-b5c7-321f09cd6829",
   "metadata": {},
   "outputs": [],
   "source": [
    "d = Derived()"
   ]
  },
  {
   "cell_type": "code",
   "execution_count": 149,
   "id": "30b11d98-9f18-4dde-bbe8-b0bab1b7379c",
   "metadata": {
    "tags": [
     "raises-exception"
    ]
   },
   "outputs": [
    {
     "ename": "AttributeError",
     "evalue": "'Derived' object has no attribute 'y'",
     "output_type": "error",
     "traceback": [
      "\u001b[1;31m---------------------------------------------------------------------------\u001b[0m",
      "\u001b[1;31mAttributeError\u001b[0m                            Traceback (most recent call last)",
      "Input \u001b[1;32mIn [149]\u001b[0m, in \u001b[0;36m<cell line: 1>\u001b[1;34m()\u001b[0m\n\u001b[1;32m----> 1\u001b[0m d\u001b[38;5;241m.\u001b[39my \u001b[38;5;241m=\u001b[39m \u001b[38;5;241m3\u001b[39m\n",
      "\u001b[1;31mAttributeError\u001b[0m: 'Derived' object has no attribute 'y'"
     ]
    }
   ],
   "source": [
    "d.y = 3"
   ]
  },
  {
   "cell_type": "markdown",
   "id": "53ac5571-b310-44fb-9ba2-fb3a6ae9fa70",
   "metadata": {},
   "source": [
    "## Slots: in base and derived classes (OK!)\n",
    "\n",
    "*Just make sure not to repeat the same attribute name in base and derived classes.*"
   ]
  },
  {
   "cell_type": "code",
   "execution_count": 150,
   "id": "94d3fc89-0c7a-4193-9154-1312f8acb94e",
   "metadata": {},
   "outputs": [],
   "source": [
    "class Base: \n",
    "    __slots__ = ('z',)\n",
    "    \n",
    "class Derived(Base): \n",
    "    __slots__ = ('a',)"
   ]
  },
  {
   "cell_type": "code",
   "execution_count": 151,
   "id": "e48bd066-b6f7-47ff-b06d-9769aa731f45",
   "metadata": {},
   "outputs": [],
   "source": [
    "d = Derived()"
   ]
  },
  {
   "cell_type": "code",
   "execution_count": 152,
   "id": "d55839f9-8b83-4897-b175-63713e42815a",
   "metadata": {},
   "outputs": [],
   "source": [
    "d.a = 3"
   ]
  },
  {
   "cell_type": "code",
   "execution_count": 153,
   "id": "a4103e89-27bc-4b70-8a26-aa0cda5a2f9f",
   "metadata": {},
   "outputs": [],
   "source": [
    "d.z = 4"
   ]
  },
  {
   "cell_type": "code",
   "execution_count": 154,
   "id": "9bc3ae6e-4520-4273-82df-2b048a6b0ca9",
   "metadata": {
    "tags": [
     "raises-exception"
    ]
   },
   "outputs": [
    {
     "ename": "AttributeError",
     "evalue": "'Derived' object has no attribute 'b'",
     "output_type": "error",
     "traceback": [
      "\u001b[1;31m---------------------------------------------------------------------------\u001b[0m",
      "\u001b[1;31mAttributeError\u001b[0m                            Traceback (most recent call last)",
      "Input \u001b[1;32mIn [154]\u001b[0m, in \u001b[0;36m<cell line: 1>\u001b[1;34m()\u001b[0m\n\u001b[1;32m----> 1\u001b[0m d\u001b[38;5;241m.\u001b[39mb \u001b[38;5;241m=\u001b[39m \u001b[38;5;241m3\u001b[39m\n",
      "\u001b[1;31mAttributeError\u001b[0m: 'Derived' object has no attribute 'b'"
     ]
    }
   ],
   "source": [
    "d.b = 3"
   ]
  },
  {
   "cell_type": "code",
   "execution_count": 155,
   "id": "618e8ee7-180d-4846-9092-fe99b2fb99ff",
   "metadata": {},
   "outputs": [
    {
     "data": {
      "text/plain": [
       "3"
      ]
     },
     "execution_count": 155,
     "metadata": {},
     "output_type": "execute_result"
    }
   ],
   "source": [
    "d.a"
   ]
  },
  {
   "cell_type": "code",
   "execution_count": 156,
   "id": "87a29a04-23e4-42a1-874b-a3809824b0e6",
   "metadata": {},
   "outputs": [
    {
     "data": {
      "text/plain": [
       "4"
      ]
     },
     "execution_count": 156,
     "metadata": {},
     "output_type": "execute_result"
    }
   ],
   "source": [
    "d.z"
   ]
  },
  {
   "cell_type": "code",
   "execution_count": 157,
   "id": "9cf1ec0a-de80-4fa3-9aeb-e8fc80a64b56",
   "metadata": {
    "tags": [
     "raises-exception"
    ]
   },
   "outputs": [
    {
     "ename": "AttributeError",
     "evalue": "'Derived' object has no attribute '__dict__'",
     "output_type": "error",
     "traceback": [
      "\u001b[1;31m---------------------------------------------------------------------------\u001b[0m",
      "\u001b[1;31mAttributeError\u001b[0m                            Traceback (most recent call last)",
      "Input \u001b[1;32mIn [157]\u001b[0m, in \u001b[0;36m<cell line: 1>\u001b[1;34m()\u001b[0m\n\u001b[1;32m----> 1\u001b[0m \u001b[43md\u001b[49m\u001b[38;5;241;43m.\u001b[39;49m\u001b[38;5;18;43m__dict__\u001b[39;49m\n",
      "\u001b[1;31mAttributeError\u001b[0m: 'Derived' object has no attribute '__dict__'"
     ]
    }
   ],
   "source": [
    "d.__dict__"
   ]
  },
  {
   "cell_type": "code",
   "execution_count": 158,
   "id": "8117556c-4831-46a1-b335-f1ef3a52360f",
   "metadata": {},
   "outputs": [
    {
     "name": "stdout",
     "output_type": "stream",
     "text": [
      "Help on Derived in module __main__ object:\n",
      "\n",
      "class Derived(Base)\n",
      " |  Method resolution order:\n",
      " |      Derived\n",
      " |      Base\n",
      " |      builtins.object\n",
      " |  \n",
      " |  Data descriptors defined here:\n",
      " |  \n",
      " |  a\n",
      " |  \n",
      " |  ----------------------------------------------------------------------\n",
      " |  Data descriptors inherited from Base:\n",
      " |  \n",
      " |  z\n",
      "\n"
     ]
    }
   ],
   "source": [
    "help(d)"
   ]
  },
  {
   "cell_type": "markdown",
   "id": "74433080-72b9-484c-9c9a-e5c464d2064e",
   "metadata": {},
   "source": [
    "## Slots: with same name in derived class (**undefined behavior**)"
   ]
  },
  {
   "cell_type": "code",
   "execution_count": 159,
   "id": "5283398a-529b-4a90-a4ac-bc6d33729196",
   "metadata": {},
   "outputs": [],
   "source": [
    "class Base: \n",
    "    __slots__ = ('x',)\n",
    "\n",
    "    \n",
    "class Derived(Base): \n",
    "    __slots__ = ('x',)  # BAD!"
   ]
  },
  {
   "cell_type": "code",
   "execution_count": 160,
   "id": "b84ef207-a0cb-48f6-9619-1f3ab620460a",
   "metadata": {},
   "outputs": [
    {
     "name": "stdout",
     "output_type": "stream",
     "text": [
      "Help on class Derived in module __main__:\n",
      "\n",
      "class Derived(Base)\n",
      " |  Method resolution order:\n",
      " |      Derived\n",
      " |      Base\n",
      " |      builtins.object\n",
      " |  \n",
      " |  Data descriptors defined here:\n",
      " |  \n",
      " |  x\n",
      "\n"
     ]
    }
   ],
   "source": [
    "help(Derived)"
   ]
  },
  {
   "cell_type": "code",
   "execution_count": 161,
   "id": "44285565-b755-42ae-b7a6-0ab70703f005",
   "metadata": {},
   "outputs": [],
   "source": [
    "d = Derived()  # Not guaranteed."
   ]
  },
  {
   "cell_type": "code",
   "execution_count": 162,
   "id": "2deff7af-6dc2-4c4b-a84a-fdc0b5531d5b",
   "metadata": {},
   "outputs": [],
   "source": [
    "d.x = 3  # Not guaranteed."
   ]
  },
  {
   "cell_type": "code",
   "execution_count": 163,
   "id": "5b0be94d-39a3-47ce-8e8a-bc128feb7e1c",
   "metadata": {
    "tags": [
     "raises-exception"
    ]
   },
   "outputs": [
    {
     "ename": "AttributeError",
     "evalue": "'Derived' object has no attribute 'y'",
     "output_type": "error",
     "traceback": [
      "\u001b[1;31m---------------------------------------------------------------------------\u001b[0m",
      "\u001b[1;31mAttributeError\u001b[0m                            Traceback (most recent call last)",
      "Input \u001b[1;32mIn [163]\u001b[0m, in \u001b[0;36m<cell line: 1>\u001b[1;34m()\u001b[0m\n\u001b[1;32m----> 1\u001b[0m d\u001b[38;5;241m.\u001b[39my \u001b[38;5;241m=\u001b[39m \u001b[38;5;241m3\u001b[39m\n",
      "\u001b[1;31mAttributeError\u001b[0m: 'Derived' object has no attribute 'y'"
     ]
    }
   ],
   "source": [
    "d.y = 3  # Not guaranteed."
   ]
  },
  {
   "cell_type": "code",
   "execution_count": 164,
   "id": "c248a242-9c5e-421b-98aa-46a09ad83edc",
   "metadata": {},
   "outputs": [
    {
     "data": {
      "text/plain": [
       "3"
      ]
     },
     "execution_count": 164,
     "metadata": {},
     "output_type": "execute_result"
    }
   ],
   "source": [
    "d.x  # Not guaranteed."
   ]
  },
  {
   "cell_type": "markdown",
   "id": "9268f726-64e0-4c53-b71a-c2d40609c844",
   "metadata": {},
   "source": [
    "## Slots: More information\n",
    "\n",
    "See **[3.3.2.4. `__slots__`](https://docs.python.org/3/reference/datamodel.html#slots)** in the data model section of the language reference."
   ]
  },
  {
   "cell_type": "markdown",
   "id": "b48341db-8454-4919-867a-c6dfb48b978c",
   "metadata": {},
   "source": [
    "## Properties and slots work via descriptors"
   ]
  },
  {
   "cell_type": "code",
   "execution_count": 165,
   "id": "801f1e9e-e771-4e71-a008-becbcd854dcc",
   "metadata": {},
   "outputs": [],
   "source": [
    "class Person: \n",
    "    \"\"\"A person with height and weight.\"\"\"\n",
    "    \n",
    "    __slots__ = dict(height='Height in feet.',\n",
    "                     weight='Weight in pounds.')\n",
    "    \n",
    "    def __init__(self, height, weight): \n",
    "        \"\"\"Create a person with a given height and weight.\"\"\"\n",
    "        self.height = height\n",
    "        self.weight = weight\n",
    "    \n",
    "    def __repr__(self): \n",
    "        return f\"{type(self).__name__}(height={self.height!r}, weight={self.weight!r})\"\n",
    "    \n",
    "    @property\n",
    "    def tall(self): \n",
    "        \"\"\"A tall person is over 6 feet.\"\"\"\n",
    "        return self.height > 6"
   ]
  },
  {
   "cell_type": "code",
   "execution_count": 166,
   "id": "bf851226-fe84-4a20-a751-b0d3ff4f1a1f",
   "metadata": {},
   "outputs": [
    {
     "name": "stdout",
     "output_type": "stream",
     "text": [
      "Help on class Person in module __main__:\n",
      "\n",
      "class Person(builtins.object)\n",
      " |  Person(height, weight)\n",
      " |  \n",
      " |  A person with height and weight.\n",
      " |  \n",
      " |  Methods defined here:\n",
      " |  \n",
      " |  __init__(self, height, weight)\n",
      " |      Create a person with a given height and weight.\n",
      " |  \n",
      " |  __repr__(self)\n",
      " |      Return repr(self).\n",
      " |  \n",
      " |  ----------------------------------------------------------------------\n",
      " |  Readonly properties defined here:\n",
      " |  \n",
      " |  tall\n",
      " |      A tall person is over 6 feet.\n",
      " |  \n",
      " |  ----------------------------------------------------------------------\n",
      " |  Data descriptors defined here:\n",
      " |  \n",
      " |  height\n",
      " |      Height in feet.\n",
      " |  \n",
      " |  weight\n",
      " |      Weight in pounds.\n",
      "\n"
     ]
    }
   ],
   "source": [
    "help(Person)"
   ]
  },
  {
   "cell_type": "code",
   "execution_count": 167,
   "id": "a89cc861-e45d-4175-b7c8-7bf982f95df2",
   "metadata": {},
   "outputs": [
    {
     "data": {
      "text/plain": [
       "<property at 0x2cf865a1bc0>"
      ]
     },
     "execution_count": 167,
     "metadata": {},
     "output_type": "execute_result"
    }
   ],
   "source": [
    "Person.tall"
   ]
  },
  {
   "cell_type": "code",
   "execution_count": 168,
   "id": "4f49d0b4-c77d-4be0-9b4c-fa4eafe46257",
   "metadata": {},
   "outputs": [
    {
     "data": {
      "text/plain": [
       "property"
      ]
     },
     "execution_count": 168,
     "metadata": {},
     "output_type": "execute_result"
    }
   ],
   "source": [
    "type(Person.tall)"
   ]
  },
  {
   "cell_type": "code",
   "execution_count": 169,
   "id": "d20d3ce7-73a8-4be9-9a1e-0f8ac96383b5",
   "metadata": {},
   "outputs": [
    {
     "data": {
      "text/plain": [
       "<member 'height' of 'Person' objects>"
      ]
     },
     "execution_count": 169,
     "metadata": {},
     "output_type": "execute_result"
    }
   ],
   "source": [
    "Person.height"
   ]
  },
  {
   "cell_type": "code",
   "execution_count": 170,
   "id": "c50b69e8-1a03-44cd-8764-cea3e4da4581",
   "metadata": {},
   "outputs": [
    {
     "data": {
      "text/plain": [
       "<member 'weight' of 'Person' objects>"
      ]
     },
     "execution_count": 170,
     "metadata": {},
     "output_type": "execute_result"
    }
   ],
   "source": [
    "Person.weight"
   ]
  },
  {
   "cell_type": "code",
   "execution_count": 171,
   "id": "2c3a1b85-cbfe-415a-85a0-b31e016e4ddb",
   "metadata": {},
   "outputs": [
    {
     "data": {
      "text/plain": [
       "member_descriptor"
      ]
     },
     "execution_count": 171,
     "metadata": {},
     "output_type": "execute_result"
    }
   ],
   "source": [
    "type(Person.height)"
   ]
  },
  {
   "cell_type": "code",
   "execution_count": 172,
   "id": "eb947987-af43-4bcc-9a4a-a4249c8a66a7",
   "metadata": {},
   "outputs": [
    {
     "data": {
      "text/plain": [
       "member_descriptor"
      ]
     },
     "execution_count": 172,
     "metadata": {},
     "output_type": "execute_result"
    }
   ],
   "source": [
    "type(Person.weight)"
   ]
  },
  {
   "cell_type": "code",
   "execution_count": 173,
   "id": "eab6bdfd-f4cb-4073-adba-a74182d40c7a",
   "metadata": {},
   "outputs": [],
   "source": [
    "class C: \n",
    "    x = 3"
   ]
  },
  {
   "cell_type": "code",
   "execution_count": 174,
   "id": "3d4473cf-291c-4eaf-b41c-20952b5c9983",
   "metadata": {},
   "outputs": [
    {
     "data": {
      "text/plain": [
       "3"
      ]
     },
     "execution_count": 174,
     "metadata": {},
     "output_type": "execute_result"
    }
   ],
   "source": [
    "C().x"
   ]
  },
  {
   "cell_type": "code",
   "execution_count": 175,
   "id": "11934463-7620-43c3-8972-244bddc3a941",
   "metadata": {},
   "outputs": [],
   "source": [
    "c = C()"
   ]
  },
  {
   "cell_type": "code",
   "execution_count": 176,
   "id": "114c2030-7759-4341-a8e3-cde6b5fd12ec",
   "metadata": {},
   "outputs": [],
   "source": [
    "c.x = 4"
   ]
  },
  {
   "cell_type": "code",
   "execution_count": 177,
   "id": "6baabfa3-bdb3-4a95-b92a-d45cad0aab32",
   "metadata": {},
   "outputs": [
    {
     "data": {
      "text/plain": [
       "4"
      ]
     },
     "execution_count": 177,
     "metadata": {},
     "output_type": "execute_result"
    }
   ],
   "source": [
    "c.x"
   ]
  },
  {
   "cell_type": "code",
   "execution_count": 178,
   "id": "aed875de-80c2-4020-982e-905e67bb863b",
   "metadata": {},
   "outputs": [
    {
     "data": {
      "text/plain": [
       "3"
      ]
     },
     "execution_count": 178,
     "metadata": {},
     "output_type": "execute_result"
    }
   ],
   "source": [
    "C.x"
   ]
  },
  {
   "cell_type": "code",
   "execution_count": 179,
   "id": "e8b95d42-44fc-45b3-807b-5c9f3ecf0326",
   "metadata": {},
   "outputs": [],
   "source": [
    "d = C()"
   ]
  },
  {
   "cell_type": "code",
   "execution_count": 180,
   "id": "97c30a99-d908-417b-aacc-dd22d9f91f43",
   "metadata": {},
   "outputs": [
    {
     "data": {
      "text/plain": [
       "3"
      ]
     },
     "execution_count": 180,
     "metadata": {},
     "output_type": "execute_result"
    }
   ],
   "source": [
    "d.x"
   ]
  },
  {
   "cell_type": "code",
   "execution_count": 181,
   "id": "9e8645cc-a9bf-4252-8276-28434fe6591f",
   "metadata": {},
   "outputs": [
    {
     "data": {
      "text/plain": [
       "{'x': 4}"
      ]
     },
     "execution_count": 181,
     "metadata": {},
     "output_type": "execute_result"
    }
   ],
   "source": [
    "c.__dict__"
   ]
  },
  {
   "cell_type": "code",
   "execution_count": 182,
   "id": "aa9e6978-7bd0-46c2-ae0b-d44af2fa1381",
   "metadata": {},
   "outputs": [
    {
     "data": {
      "text/plain": [
       "{}"
      ]
     },
     "execution_count": 182,
     "metadata": {},
     "output_type": "execute_result"
    }
   ],
   "source": [
    "d.__dict__"
   ]
  },
  {
   "cell_type": "code",
   "execution_count": 183,
   "id": "4cee4fb1-d768-4771-bebc-c4e6c820be51",
   "metadata": {},
   "outputs": [],
   "source": [
    "C.x = 5"
   ]
  },
  {
   "cell_type": "code",
   "execution_count": 184,
   "id": "6035d9f3-3c4b-4117-b3b6-c9f86b049f7b",
   "metadata": {},
   "outputs": [
    {
     "data": {
      "text/plain": [
       "4"
      ]
     },
     "execution_count": 184,
     "metadata": {},
     "output_type": "execute_result"
    }
   ],
   "source": [
    "c.x"
   ]
  },
  {
   "cell_type": "code",
   "execution_count": 185,
   "id": "e2f2b13d-e5c6-46c7-832e-ef68f4fc98da",
   "metadata": {},
   "outputs": [
    {
     "data": {
      "text/plain": [
       "5"
      ]
     },
     "execution_count": 185,
     "metadata": {},
     "output_type": "execute_result"
    }
   ],
   "source": [
    "d.x"
   ]
  },
  {
   "cell_type": "code",
   "execution_count": 186,
   "id": "169cc28a-f0dd-40e9-8c72-49afc889d5e0",
   "metadata": {},
   "outputs": [
    {
     "data": {
      "text/plain": [
       "mappingproxy({'__module__': '__main__',\n",
       "              '__doc__': 'A person with height and weight.',\n",
       "              '__slots__': {'height': 'Height in feet.',\n",
       "               'weight': 'Weight in pounds.'},\n",
       "              '__init__': <function __main__.Person.__init__(self, height, weight)>,\n",
       "              '__repr__': <function __main__.Person.__repr__(self)>,\n",
       "              'tall': <property at 0x2cf865a1bc0>,\n",
       "              'height': <member 'height' of 'Person' objects>,\n",
       "              'weight': <member 'weight' of 'Person' objects>})"
      ]
     },
     "execution_count": 186,
     "metadata": {},
     "output_type": "execute_result"
    }
   ],
   "source": [
    "Person.__dict__"
   ]
  },
  {
   "cell_type": "code",
   "execution_count": 187,
   "id": "de808895-25df-4a42-8515-d515534b0518",
   "metadata": {},
   "outputs": [
    {
     "data": {
      "text/plain": [
       "mappingproxy({'__module__': '__main__',\n",
       "              'x': 5,\n",
       "              '__dict__': <attribute '__dict__' of 'C' objects>,\n",
       "              '__weakref__': <attribute '__weakref__' of 'C' objects>,\n",
       "              '__doc__': None})"
      ]
     },
     "execution_count": 187,
     "metadata": {},
     "output_type": "execute_result"
    }
   ],
   "source": [
    "C.__dict__"
   ]
  },
  {
   "cell_type": "code",
   "execution_count": 188,
   "id": "78274844-9506-4923-b527-d0dff22ccc70",
   "metadata": {},
   "outputs": [],
   "source": [
    "bob = Person(4, 130)"
   ]
  },
  {
   "cell_type": "code",
   "execution_count": 189,
   "id": "d2e9597b-1243-4e06-a6d6-83eee487af38",
   "metadata": {
    "tags": [
     "raises-exception"
    ]
   },
   "outputs": [
    {
     "ename": "AttributeError",
     "evalue": "'Person' object has no attribute '__dict__'",
     "output_type": "error",
     "traceback": [
      "\u001b[1;31m---------------------------------------------------------------------------\u001b[0m",
      "\u001b[1;31mAttributeError\u001b[0m                            Traceback (most recent call last)",
      "Input \u001b[1;32mIn [189]\u001b[0m, in \u001b[0;36m<cell line: 1>\u001b[1;34m()\u001b[0m\n\u001b[1;32m----> 1\u001b[0m \u001b[43mbob\u001b[49m\u001b[38;5;241;43m.\u001b[39;49m\u001b[38;5;18;43m__dict__\u001b[39;49m\n",
      "\u001b[1;31mAttributeError\u001b[0m: 'Person' object has no attribute '__dict__'"
     ]
    }
   ],
   "source": [
    "bob.__dict__"
   ]
  },
  {
   "cell_type": "code",
   "execution_count": 190,
   "id": "202932fc-1f0d-41be-b0c1-a750f53add3b",
   "metadata": {},
   "outputs": [
    {
     "data": {
      "text/plain": [
       "<property at 0x2cf865a1bc0>"
      ]
     },
     "execution_count": 190,
     "metadata": {},
     "output_type": "execute_result"
    }
   ],
   "source": [
    "Person.tall"
   ]
  },
  {
   "cell_type": "code",
   "execution_count": 191,
   "id": "fbbc9663-3e2d-45a1-b335-0a2cd083177a",
   "metadata": {},
   "outputs": [
    {
     "data": {
      "text/plain": [
       "False"
      ]
     },
     "execution_count": 191,
     "metadata": {},
     "output_type": "execute_result"
    }
   ],
   "source": [
    "bob.tall  # Can only happen because tall is a descriptor."
   ]
  },
  {
   "cell_type": "markdown",
   "id": "db150016-9a20-44aa-be57-c54227ad04fa",
   "metadata": {},
   "source": [
    "The descriptor customizes attribute access behavior."
   ]
  },
  {
   "cell_type": "code",
   "execution_count": 192,
   "id": "93a5f5f9-3783-4da9-86a4-31444e919a24",
   "metadata": {},
   "outputs": [
    {
     "data": {
      "text/plain": [
       "<function __main__.Person.__repr__(self)>"
      ]
     },
     "execution_count": 192,
     "metadata": {},
     "output_type": "execute_result"
    }
   ],
   "source": [
    "Person.__repr__"
   ]
  },
  {
   "cell_type": "code",
   "execution_count": 193,
   "id": "12b954bf-a686-41d7-8765-45112b6da7cd",
   "metadata": {},
   "outputs": [
    {
     "data": {
      "text/plain": [
       "<bound method Person.__repr__ of Person(height=3, weight=3)>"
      ]
     },
     "execution_count": 193,
     "metadata": {},
     "output_type": "execute_result"
    }
   ],
   "source": [
    "Person(3, 3).__repr__"
   ]
  },
  {
   "cell_type": "markdown",
   "id": "b6c6551e-7822-4af5-ac5d-c4aac6151410",
   "metadata": {},
   "source": [
    "## \"Private\" name mangling"
   ]
  },
  {
   "cell_type": "code",
   "execution_count": 194,
   "id": "a147ff8a-3380-455c-bf49-c10c3ca3c96c",
   "metadata": {},
   "outputs": [],
   "source": [
    "class Widget: \n",
    "    _color = 'blue'\n",
    "    \n",
    "    @property\n",
    "    def color(self): \n",
    "        return self._color\n",
    "    \n",
    "    @color.setter\n",
    "    def color(self, value):\n",
    "        if value not in {'red', 'yellow', 'blue'}:\n",
    "            raise ValueError('Color must be a primary color.')\n",
    "        self._color = value"
   ]
  },
  {
   "cell_type": "code",
   "execution_count": 195,
   "id": "4c5cff51-25bf-47a0-b066-b20254ed16a9",
   "metadata": {},
   "outputs": [],
   "source": [
    "class TelevisionWidget(Widget): \n",
    "    _color = False\n",
    "    \n",
    "    @property\n",
    "    def screen_type(self):\n",
    "        return 'color' if self._color else 'black and white'"
   ]
  },
  {
   "cell_type": "code",
   "execution_count": 196,
   "id": "bfd72273-be06-4aea-98d5-901225b973ed",
   "metadata": {},
   "outputs": [],
   "source": [
    "tv = TelevisionWidget()"
   ]
  },
  {
   "cell_type": "code",
   "execution_count": 197,
   "id": "929fe745-a98b-4f04-af01-5fff472a693b",
   "metadata": {},
   "outputs": [
    {
     "data": {
      "text/plain": [
       "'black and white'"
      ]
     },
     "execution_count": 197,
     "metadata": {},
     "output_type": "execute_result"
    }
   ],
   "source": [
    "tv.screen_type"
   ]
  },
  {
   "cell_type": "code",
   "execution_count": 198,
   "id": "6dea1435-f055-41e6-b97c-7bec82129d0f",
   "metadata": {},
   "outputs": [],
   "source": [
    "tv.color = 'yellow'"
   ]
  },
  {
   "cell_type": "code",
   "execution_count": 199,
   "id": "00bff682-8eb2-4d34-bd21-a0a251266516",
   "metadata": {},
   "outputs": [
    {
     "data": {
      "text/plain": [
       "'color'"
      ]
     },
     "execution_count": 199,
     "metadata": {},
     "output_type": "execute_result"
    }
   ],
   "source": [
    "tv.screen_type"
   ]
  },
  {
   "cell_type": "code",
   "execution_count": 200,
   "id": "ccc918bc-f1b2-4685-9764-2cd930f42288",
   "metadata": {},
   "outputs": [],
   "source": [
    "class Widget: \n",
    "    __color = 'blue'\n",
    "    \n",
    "    @property\n",
    "    def color(self): \n",
    "        return self.__color\n",
    "    \n",
    "    @color.setter\n",
    "    def color(self, value):\n",
    "        if value not in {'red', 'yellow', 'blue'}:\n",
    "            raise ValueError('Color must be a primary color.')\n",
    "        self.__color = value"
   ]
  },
  {
   "cell_type": "code",
   "execution_count": 201,
   "id": "c2a3bed8-6f48-4c2b-bda9-bf9a18d5cdc2",
   "metadata": {},
   "outputs": [],
   "source": [
    "class TelevisionWidget(Widget): \n",
    "    __color = False\n",
    "    \n",
    "    @property\n",
    "    def screen_type(self):\n",
    "        return 'color' if self.__color else 'black and white'"
   ]
  },
  {
   "cell_type": "code",
   "execution_count": 202,
   "id": "e0fb4100-7de0-4479-be01-65517b55ff69",
   "metadata": {},
   "outputs": [],
   "source": [
    "tv = TelevisionWidget()"
   ]
  },
  {
   "cell_type": "code",
   "execution_count": 203,
   "id": "aaa293c0-12fa-40b7-8a39-c2a434f80f87",
   "metadata": {},
   "outputs": [
    {
     "data": {
      "text/plain": [
       "'black and white'"
      ]
     },
     "execution_count": 203,
     "metadata": {},
     "output_type": "execute_result"
    }
   ],
   "source": [
    "tv.screen_type"
   ]
  },
  {
   "cell_type": "code",
   "execution_count": 204,
   "id": "75b66dc6-0233-47ae-a5e8-bee47c04f911",
   "metadata": {},
   "outputs": [],
   "source": [
    "tv.color = 'yellow'"
   ]
  },
  {
   "cell_type": "code",
   "execution_count": 205,
   "id": "ee12601c-be46-4ad2-b4e2-acd11be803a0",
   "metadata": {},
   "outputs": [
    {
     "data": {
      "text/plain": [
       "'black and white'"
      ]
     },
     "execution_count": 205,
     "metadata": {},
     "output_type": "execute_result"
    }
   ],
   "source": [
    "tv.screen_type"
   ]
  },
  {
   "cell_type": "code",
   "execution_count": 206,
   "id": "e6190648-a353-4936-932f-21d59472f96c",
   "metadata": {},
   "outputs": [
    {
     "data": {
      "text/plain": [
       "mappingproxy({'__module__': '__main__',\n",
       "              '_Widget__color': 'blue',\n",
       "              'color': <property at 0x2cf86629a80>,\n",
       "              '__dict__': <attribute '__dict__' of 'Widget' objects>,\n",
       "              '__weakref__': <attribute '__weakref__' of 'Widget' objects>,\n",
       "              '__doc__': None})"
      ]
     },
     "execution_count": 206,
     "metadata": {},
     "output_type": "execute_result"
    }
   ],
   "source": [
    "Widget.__dict__"
   ]
  },
  {
   "cell_type": "code",
   "execution_count": 207,
   "id": "86247303-664a-4212-a856-f619dd014e89",
   "metadata": {},
   "outputs": [
    {
     "data": {
      "text/plain": [
       "mappingproxy({'__module__': '__main__',\n",
       "              '_TelevisionWidget__color': False,\n",
       "              'screen_type': <property at 0x2cf864983b0>,\n",
       "              '__doc__': None})"
      ]
     },
     "execution_count": 207,
     "metadata": {},
     "output_type": "execute_result"
    }
   ],
   "source": [
    "TelevisionWidget.__dict__"
   ]
  },
  {
   "cell_type": "code",
   "execution_count": 208,
   "id": "33892d4d-004e-4004-ad9c-8bad4486fa47",
   "metadata": {
    "tags": [
     "raises-exception"
    ]
   },
   "outputs": [
    {
     "ename": "AttributeError",
     "evalue": "'TelevisionWidget' object has no attribute '__color'",
     "output_type": "error",
     "traceback": [
      "\u001b[1;31m---------------------------------------------------------------------------\u001b[0m",
      "\u001b[1;31mAttributeError\u001b[0m                            Traceback (most recent call last)",
      "Input \u001b[1;32mIn [208]\u001b[0m, in \u001b[0;36m<cell line: 1>\u001b[1;34m()\u001b[0m\n\u001b[1;32m----> 1\u001b[0m \u001b[43mtv\u001b[49m\u001b[38;5;241;43m.\u001b[39;49m\u001b[43m__color\u001b[49m\n",
      "\u001b[1;31mAttributeError\u001b[0m: 'TelevisionWidget' object has no attribute '__color'"
     ]
    }
   ],
   "source": [
    "tv.__color"
   ]
  },
  {
   "cell_type": "code",
   "execution_count": 209,
   "id": "c83a6bdf-ff8a-4e8d-95b5-58796e7ebe9a",
   "metadata": {},
   "outputs": [
    {
     "data": {
      "text/plain": [
       "False"
      ]
     },
     "execution_count": 209,
     "metadata": {},
     "output_type": "execute_result"
    }
   ],
   "source": [
    "tv._TelevisionWidget__color"
   ]
  },
  {
   "cell_type": "code",
   "execution_count": 210,
   "id": "611c7769-4170-4827-8b88-4bfe83e64d2e",
   "metadata": {},
   "outputs": [],
   "source": [
    "tv._TelevisionWidget__color = True"
   ]
  },
  {
   "cell_type": "code",
   "execution_count": 211,
   "id": "0f612120-683e-4df2-a35d-e90493c39cef",
   "metadata": {},
   "outputs": [
    {
     "data": {
      "text/plain": [
       "'color'"
      ]
     },
     "execution_count": 211,
     "metadata": {},
     "output_type": "execute_result"
    }
   ],
   "source": [
    "tv.screen_type"
   ]
  },
  {
   "cell_type": "code",
   "execution_count": 212,
   "id": "1586a537-9620-4fc3-8295-7af02d551875",
   "metadata": {},
   "outputs": [],
   "source": [
    "AlsoWidget = Widget  # To access from local scopes that shadow Widget."
   ]
  },
  {
   "cell_type": "code",
   "execution_count": 213,
   "id": "3fc14555-68f2-44ff-9f01-b744e0df08e2",
   "metadata": {},
   "outputs": [],
   "source": [
    "def make_widget_subclass(): \n",
    "    class Widget(AlsoWidget):\n",
    "        __color = 'subclass blue'  # A new Crayola color. :)\n",
    "    \n",
    "    return Widget"
   ]
  },
  {
   "cell_type": "code",
   "execution_count": 214,
   "id": "ebe78958-81e1-4fd9-a714-e5c23335ecc5",
   "metadata": {},
   "outputs": [],
   "source": [
    "W = make_widget_subclass()"
   ]
  },
  {
   "cell_type": "code",
   "execution_count": 215,
   "id": "448ebfb8-11a8-4077-b423-19c77c1f32b8",
   "metadata": {},
   "outputs": [
    {
     "data": {
      "text/plain": [
       "(__main__.Widget,)"
      ]
     },
     "execution_count": 215,
     "metadata": {},
     "output_type": "execute_result"
    }
   ],
   "source": [
    "W.__bases__"
   ]
  },
  {
   "cell_type": "code",
   "execution_count": 216,
   "id": "8cfe6cf8-9e79-4ec0-aaaa-bea539b86bf1",
   "metadata": {},
   "outputs": [
    {
     "data": {
      "text/plain": [
       "'Widget'"
      ]
     },
     "execution_count": 216,
     "metadata": {},
     "output_type": "execute_result"
    }
   ],
   "source": [
    "W.__name__"
   ]
  },
  {
   "cell_type": "code",
   "execution_count": 217,
   "id": "2921cf1a-83d4-4a98-917d-71d81c291b2b",
   "metadata": {},
   "outputs": [],
   "source": [
    "w = W()"
   ]
  },
  {
   "cell_type": "code",
   "execution_count": 218,
   "id": "3ed832e7-07c6-4fbd-97d1-44f1a387e7b1",
   "metadata": {},
   "outputs": [
    {
     "data": {
      "text/plain": [
       "'subclass blue'"
      ]
     },
     "execution_count": 218,
     "metadata": {},
     "output_type": "execute_result"
    }
   ],
   "source": [
    "w.color"
   ]
  },
  {
   "cell_type": "code",
   "execution_count": 219,
   "id": "a2675a35-e389-4662-bece-3c4979a9fd74",
   "metadata": {},
   "outputs": [
    {
     "data": {
      "text/plain": [
       "mappingproxy({'__module__': '__main__',\n",
       "              '_Widget__color': 'subclass blue',\n",
       "              '__doc__': None})"
      ]
     },
     "execution_count": 219,
     "metadata": {},
     "output_type": "execute_result"
    }
   ],
   "source": [
    "W.__dict__"
   ]
  },
  {
   "cell_type": "markdown",
   "id": "906af6c5-b328-4a1f-a50b-a444d7766a1f",
   "metadata": {},
   "source": [
    "## Lots of code doens't bother with name mangling"
   ]
  },
  {
   "cell_type": "code",
   "execution_count": 220,
   "id": "68293b72-11b5-4637-bdc9-be2ef7bccc17",
   "metadata": {},
   "outputs": [],
   "source": [
    "import unittest"
   ]
  },
  {
   "cell_type": "code",
   "execution_count": 221,
   "id": "f6be8add-94af-4e00-85ee-802d3033c3e3",
   "metadata": {},
   "outputs": [
    {
     "data": {
      "text/plain": [
       "['_addExpectedFailure',\n",
       " '_addSkip',\n",
       " '_addUnexpectedSuccess',\n",
       " '_baseAssertEqual',\n",
       " '_callCleanup',\n",
       " '_callSetUp',\n",
       " '_callTearDown',\n",
       " '_callTestMethod',\n",
       " '_classSetupFailed',\n",
       " '_class_cleanups',\n",
       " '_deprecate',\n",
       " '_diffThreshold',\n",
       " '_feedErrorsToResult',\n",
       " '_formatMessage',\n",
       " '_getAssertEqualityFunc',\n",
       " '_truncateMessage']"
      ]
     },
     "execution_count": 221,
     "metadata": {},
     "output_type": "execute_result"
    }
   ],
   "source": [
    "# Attributes of TestCase that start, but don't end, with an underscore.\n",
    "[word for word in dir(unittest.TestCase) if word[0] == '_' and word[-1] != '_']"
   ]
  },
  {
   "cell_type": "markdown",
   "id": "d176769f-74d5-48be-82ea-a3b1108d7f12",
   "metadata": {},
   "source": [
    "## Name mangling works with `__slots__`"
   ]
  },
  {
   "cell_type": "code",
   "execution_count": 222,
   "id": "c075a3a6-4e86-4dde-93f7-e79a0d7826a1",
   "metadata": {},
   "outputs": [],
   "source": [
    "class Base: \n",
    "    __slots__ = ('__a',)"
   ]
  },
  {
   "cell_type": "code",
   "execution_count": 223,
   "id": "d3c81935-e7d4-4a97-82e3-fa5c7925da76",
   "metadata": {},
   "outputs": [],
   "source": [
    "class Derived(Base): \n",
    "    __slots__ = ('__a',)"
   ]
  },
  {
   "cell_type": "code",
   "execution_count": 224,
   "id": "136a6e7c-4e85-49fd-90bf-64a15253c0be",
   "metadata": {},
   "outputs": [
    {
     "data": {
      "text/plain": [
       "('__a',)"
      ]
     },
     "execution_count": 224,
     "metadata": {},
     "output_type": "execute_result"
    }
   ],
   "source": [
    "Base.__slots__"
   ]
  },
  {
   "cell_type": "code",
   "execution_count": 225,
   "id": "5a3a5907-e21f-41f3-a5c4-9cfd8d5d7d36",
   "metadata": {},
   "outputs": [
    {
     "data": {
      "text/plain": [
       "('__a',)"
      ]
     },
     "execution_count": 225,
     "metadata": {},
     "output_type": "execute_result"
    }
   ],
   "source": [
    "Derived.__slots__"
   ]
  },
  {
   "cell_type": "code",
   "execution_count": 226,
   "id": "1b9c2864-9aca-42f5-b4d6-ae53c6ca3316",
   "metadata": {},
   "outputs": [
    {
     "data": {
      "text/plain": [
       "mappingproxy({'__module__': '__main__',\n",
       "              '__slots__': ('__a',),\n",
       "              '_Base__a': <member '_Base__a' of 'Base' objects>,\n",
       "              '__doc__': None})"
      ]
     },
     "execution_count": 226,
     "metadata": {},
     "output_type": "execute_result"
    }
   ],
   "source": [
    "Base.__dict__"
   ]
  },
  {
   "cell_type": "code",
   "execution_count": 227,
   "id": "4e90be2a-d11d-4291-a5d8-a1193a3216bb",
   "metadata": {},
   "outputs": [
    {
     "data": {
      "text/plain": [
       "mappingproxy({'__module__': '__main__',\n",
       "              '__slots__': ('__a',),\n",
       "              '_Derived__a': <member '_Derived__a' of 'Derived' objects>,\n",
       "              '__doc__': None})"
      ]
     },
     "execution_count": 227,
     "metadata": {},
     "output_type": "execute_result"
    }
   ],
   "source": [
    "Derived.__dict__"
   ]
  },
  {
   "cell_type": "markdown",
   "id": "1d29e430-03e2-4e61-9eb6-03e8b3dbb298",
   "metadata": {},
   "source": [
    "## Finalizers"
   ]
  },
  {
   "cell_type": "code",
   "execution_count": 228,
   "id": "14e27390-8c5a-47de-a687-0025511869d7",
   "metadata": {},
   "outputs": [],
   "source": [
    "class Gadget: \n",
    "    \n",
    "    __slots__ = ('item',)\n",
    "    \n",
    "    def __init__(self, item): \n",
    "        self.item = item\n",
    "    \n",
    "    def __repr__(self): \n",
    "        return f'{type(self).__name__}({self.item!r})'\n",
    "    \n",
    "    def __del__(self): \n",
    "        print(f'{self!r} is DOOOMED!')"
   ]
  },
  {
   "cell_type": "code",
   "execution_count": 229,
   "id": "ec6f8036-a671-4049-b586-7797f5f333c5",
   "metadata": {},
   "outputs": [
    {
     "data": {
      "text/plain": [
       "Gadget('hat')"
      ]
     },
     "execution_count": 229,
     "metadata": {},
     "output_type": "execute_result"
    }
   ],
   "source": [
    "Gadget('hat')"
   ]
  },
  {
   "cell_type": "code",
   "execution_count": 230,
   "id": "e1fd3dd5-c3e6-42e3-b57c-45dd70142869",
   "metadata": {},
   "outputs": [
    {
     "data": {
      "text/plain": [
       "5"
      ]
     },
     "execution_count": 230,
     "metadata": {},
     "output_type": "execute_result"
    }
   ],
   "source": [
    "2 + 3"
   ]
  },
  {
   "cell_type": "code",
   "execution_count": 231,
   "id": "a94dda81-6114-4e8e-8454-2a3a9963dfa8",
   "metadata": {},
   "outputs": [],
   "source": [
    "import gc"
   ]
  },
  {
   "cell_type": "code",
   "execution_count": 232,
   "id": "25218685-f79d-44de-b6df-bc9025436343",
   "metadata": {},
   "outputs": [
    {
     "data": {
      "text/plain": [
       "3692"
      ]
     },
     "execution_count": 232,
     "metadata": {},
     "output_type": "execute_result"
    }
   ],
   "source": [
    "gc.collect()"
   ]
  },
  {
   "cell_type": "code",
   "execution_count": 233,
   "id": "32a85e48-e956-4ddb-8855-de1254642e78",
   "metadata": {},
   "outputs": [],
   "source": [
    "doomed = Gadget('old-timey-hat')"
   ]
  },
  {
   "cell_type": "code",
   "execution_count": 234,
   "id": "b828924c-150b-4b08-8f41-8b2ed5226524",
   "metadata": {},
   "outputs": [
    {
     "name": "stdout",
     "output_type": "stream",
     "text": [
      "Gadget('old-timey-hat') is DOOOMED!\n"
     ]
    }
   ],
   "source": [
    "del doomed"
   ]
  },
  {
   "cell_type": "code",
   "execution_count": 235,
   "id": "e00d6e8c-d825-4c9c-9ec2-8c79356bca67",
   "metadata": {},
   "outputs": [],
   "source": [
    "not_doomed = Gadget('new_sexy_hat')"
   ]
  },
  {
   "cell_type": "code",
   "execution_count": 236,
   "id": "50d076d4-8e54-44d9-bc3e-aa9231f5cb5d",
   "metadata": {},
   "outputs": [
    {
     "name": "stdout",
     "output_type": "stream",
     "text": [
      "Gadget('new_sexy_hat') is DOOOMED!\n"
     ]
    }
   ],
   "source": [
    "not_doomed = 3"
   ]
  },
  {
   "cell_type": "code",
   "execution_count": 237,
   "id": "75c70499-0e43-420b-8d21-19e048104504",
   "metadata": {},
   "outputs": [],
   "source": [
    "gadget_gen = (Gadget(number) for number in range(1, 11))"
   ]
  },
  {
   "cell_type": "code",
   "execution_count": 238,
   "id": "72815386-c68b-48d8-a93e-9af3121bee62",
   "metadata": {},
   "outputs": [
    {
     "name": "stdout",
     "output_type": "stream",
     "text": [
      "Gadget(1) is DOOOMED!\n"
     ]
    },
    {
     "data": {
      "text/plain": [
       "'Gadget(1)'"
      ]
     },
     "execution_count": 238,
     "metadata": {},
     "output_type": "execute_result"
    }
   ],
   "source": [
    "repr(next(gadget_gen))"
   ]
  },
  {
   "cell_type": "code",
   "execution_count": 239,
   "id": "d8217df8-58fc-48fe-af04-e368310bdec5",
   "metadata": {},
   "outputs": [
    {
     "name": "stdout",
     "output_type": "stream",
     "text": [
      "Gadget(2) is DOOOMED!\n"
     ]
    },
    {
     "data": {
      "text/plain": [
       "'Gadget(2)'"
      ]
     },
     "execution_count": 239,
     "metadata": {},
     "output_type": "execute_result"
    }
   ],
   "source": [
    "repr(next(gadget_gen))"
   ]
  },
  {
   "cell_type": "code",
   "execution_count": 240,
   "id": "dbe660c3-f3b0-44fa-9dbd-ca91ff98c47c",
   "metadata": {},
   "outputs": [],
   "source": [
    "zombies = []\n",
    "class Cursed(Gadget):\n",
    "    def __del__(self): \n",
    "        print(\"Why can't I DIE!!!!!???\")\n",
    "        zombies.append(self)"
   ]
  },
  {
   "cell_type": "code",
   "execution_count": 241,
   "id": "fce7b4a4-7e78-4fcd-8cb7-f420a92bdabb",
   "metadata": {},
   "outputs": [],
   "source": [
    "zombie_gen = (Cursed(number) for number in range(1, 11))"
   ]
  },
  {
   "cell_type": "code",
   "execution_count": 242,
   "id": "2264d607-4090-4ce4-a42c-dc76bddd0769",
   "metadata": {},
   "outputs": [
    {
     "name": "stdout",
     "output_type": "stream",
     "text": [
      "Why can't I DIE!!!!!???\n"
     ]
    },
    {
     "data": {
      "text/plain": [
       "'Cursed(1)'"
      ]
     },
     "execution_count": 242,
     "metadata": {},
     "output_type": "execute_result"
    }
   ],
   "source": [
    "repr(next(zombie_gen))"
   ]
  },
  {
   "cell_type": "code",
   "execution_count": 243,
   "id": "23ed6918-78a9-4c4b-8a64-f47fbcc01ee4",
   "metadata": {},
   "outputs": [
    {
     "data": {
      "text/plain": [
       "[Cursed(1)]"
      ]
     },
     "execution_count": 243,
     "metadata": {},
     "output_type": "execute_result"
    }
   ],
   "source": [
    "zombies"
   ]
  },
  {
   "cell_type": "code",
   "execution_count": 244,
   "id": "1851bac5-eed0-4ae8-8a09-e27aca69639b",
   "metadata": {},
   "outputs": [],
   "source": [
    "class EspeciallyCursed(Gadget): \n",
    "    def __del__(self): \n",
    "        raise ValueError('WTF!!????')"
   ]
  },
  {
   "cell_type": "code",
   "execution_count": 245,
   "id": "013f4881-efc7-4eef-b0eb-47dfb1207f66",
   "metadata": {},
   "outputs": [],
   "source": [
    "wtf_gen = (EspeciallyCursed(number) for number in range(1, 11))"
   ]
  },
  {
   "cell_type": "code",
   "execution_count": 246,
   "id": "5b8e6530-6255-473c-bb10-889d46d8824e",
   "metadata": {},
   "outputs": [
    {
     "name": "stderr",
     "output_type": "stream",
     "text": [
      "Exception ignored in: <function EspeciallyCursed.__del__ at 0x000002CF86234790>\n",
      "Traceback (most recent call last):\n",
      "  File \"C:\\Users\\User\\AppData\\Local\\Temp\\ipykernel_19840\\3410001212.py\", line 3, in __del__\n",
      "ValueError: WTF!!????\n"
     ]
    },
    {
     "data": {
      "text/plain": [
       "'EspeciallyCursed(1)'"
      ]
     },
     "execution_count": 246,
     "metadata": {},
     "output_type": "execute_result"
    }
   ],
   "source": [
    "repr(next(wtf_gen))"
   ]
  },
  {
   "cell_type": "code",
   "execution_count": 247,
   "id": "6214b1dc-85f1-48cb-b5df-a07d1e1a4c6f",
   "metadata": {},
   "outputs": [],
   "source": [
    "class Widget(Gadget): \n",
    "    def __init__(self, item): \n",
    "        super().__init__(item)\n",
    "        print(f\"Creating new {self!r}\")"
   ]
  },
  {
   "cell_type": "code",
   "execution_count": 248,
   "id": "083dee10-d862-4471-9b22-d99fa662a152",
   "metadata": {},
   "outputs": [
    {
     "name": "stdout",
     "output_type": "stream",
     "text": [
      "Creating new Widget('box')\n"
     ]
    },
    {
     "data": {
      "text/plain": [
       "Widget('box')"
      ]
     },
     "execution_count": 248,
     "metadata": {},
     "output_type": "execute_result"
    }
   ],
   "source": [
    "Widget('box')"
   ]
  },
  {
   "cell_type": "code",
   "execution_count": 249,
   "id": "7642ef59-f76d-426b-aeab-183203bac8dd",
   "metadata": {},
   "outputs": [],
   "source": [
    "new_widget_gen = (Widget(number) for number in range(1, 11))"
   ]
  },
  {
   "cell_type": "code",
   "execution_count": 250,
   "id": "6e0225d4-50c3-4db5-9ff7-2940a215dccc",
   "metadata": {},
   "outputs": [],
   "source": [
    "r = range(3)"
   ]
  },
  {
   "cell_type": "code",
   "execution_count": 251,
   "id": "98659891-de2b-4c88-8864-d7d290e9ff36",
   "metadata": {},
   "outputs": [],
   "source": [
    "import itertools"
   ]
  },
  {
   "cell_type": "code",
   "execution_count": 252,
   "id": "bcaa1c0b-b9cf-400e-b7da-c89532bf97bc",
   "metadata": {},
   "outputs": [
    {
     "name": "stdout",
     "output_type": "stream",
     "text": [
      "Creating new Widget(1)\n",
      "Creating new Widget(2)\n",
      "Creating new Widget(3)\n",
      "Creating new Widget(4)\n",
      "Creating new Widget(5)\n",
      "Creating new Widget(6)\n",
      "Creating new Widget(7)\n",
      "Creating new Widget(8)\n",
      "Creating new Widget(9)\n",
      "Creating new Widget(10)\n"
     ]
    }
   ],
   "source": [
    "it = itertools.product(new_widget_gen, r)"
   ]
  },
  {
   "cell_type": "code",
   "execution_count": 253,
   "id": "cd42a724-8cde-46a2-9c07-edb2847ac1fb",
   "metadata": {},
   "outputs": [
    {
     "data": {
      "text/plain": [
       "30"
      ]
     },
     "execution_count": 253,
     "metadata": {},
     "output_type": "execute_result"
    }
   ],
   "source": [
    "sum(1 for _ in it)"
   ]
  },
  {
   "cell_type": "code",
   "execution_count": 254,
   "id": "aeb8a756-3a8b-4501-b454-296ac7965b45",
   "metadata": {},
   "outputs": [
    {
     "name": "stdout",
     "output_type": "stream",
     "text": [
      "Widget(10) is DOOOMED!\n",
      "Widget(9) is DOOOMED!\n",
      "Widget(8) is DOOOMED!\n",
      "Widget(7) is DOOOMED!\n",
      "Widget(6) is DOOOMED!\n",
      "Widget(5) is DOOOMED!\n",
      "Widget(4) is DOOOMED!\n",
      "Widget(3) is DOOOMED!\n",
      "Widget(2) is DOOOMED!\n",
      "Widget(1) is DOOOMED!\n"
     ]
    }
   ],
   "source": [
    "del it"
   ]
  },
  {
   "cell_type": "code",
   "execution_count": null,
   "id": "fd319a10-3fb2-4e9d-9206-1fc719d829e6",
   "metadata": {},
   "outputs": [],
   "source": []
  }
 ],
 "metadata": {
  "kernelspec": {
   "display_name": "Python 3 (ipykernel)",
   "language": "python",
   "name": "python3"
  },
  "language_info": {
   "codemirror_mode": {
    "name": "ipython",
    "version": 3
   },
   "file_extension": ".py",
   "mimetype": "text/x-python",
   "name": "python",
   "nbconvert_exporter": "python",
   "pygments_lexer": "ipython3",
   "version": "3.10.5"
  }
 },
 "nbformat": 4,
 "nbformat_minor": 5
}
