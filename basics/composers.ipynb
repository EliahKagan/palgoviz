{
 "cells": [
  {
   "cell_type": "markdown",
   "id": "21450ec2-92d5-48cb-b993-1c4e1759c340",
   "metadata": {},
   "source": [
    "*Composition* of functions:\n",
    "\n",
    "$$(f \\circ g)(x) = f(g(x))$$"
   ]
  },
  {
   "cell_type": "markdown",
   "id": "66b49f7d-81a1-4c8b-9998-4ecd832e6270",
   "metadata": {},
   "source": [
    "Some people say that:\n",
    "\n",
    "$$(f \\circ g)(x) = g(f(x))$$\n",
    "\n",
    "But that's not the convention we're using."
   ]
  },
  {
   "cell_type": "code",
   "execution_count": 1,
   "id": "f3635074-d89c-4562-b8c9-01da04b40b60",
   "metadata": {},
   "outputs": [],
   "source": [
    "from composers import compose2"
   ]
  },
  {
   "cell_type": "code",
   "execution_count": 2,
   "id": "0100899a-38ae-44e1-b02d-60163d45ef57",
   "metadata": {},
   "outputs": [],
   "source": [
    "def square(x):\n",
    "    return x**2"
   ]
  },
  {
   "cell_type": "code",
   "execution_count": 3,
   "id": "28939454-5798-43eb-a1d1-013b6ed7b1da",
   "metadata": {},
   "outputs": [],
   "source": [
    "def inc(x):\n",
    "    return x + 1"
   ]
  },
  {
   "cell_type": "code",
   "execution_count": 4,
   "id": "590ad916-5018-4e00-8ca0-3a7b3aa0dc9b",
   "metadata": {},
   "outputs": [],
   "source": [
    "fourth = compose2(square,square)"
   ]
  },
  {
   "cell_type": "code",
   "execution_count": 5,
   "id": "95a02038-8ed5-49be-9294-325b5beb659f",
   "metadata": {},
   "outputs": [
    {
     "data": {
      "text/plain": [
       "16"
      ]
     },
     "execution_count": 5,
     "metadata": {},
     "output_type": "execute_result"
    }
   ],
   "source": [
    "fourth(2)"
   ]
  },
  {
   "cell_type": "code",
   "execution_count": null,
   "id": "04311eb4-c5e0-43e3-baa8-926e9587dc1c",
   "metadata": {},
   "outputs": [],
   "source": []
  }
 ],
 "metadata": {
  "kernelspec": {
   "display_name": "Python 3 (ipykernel)",
   "language": "python",
   "name": "python3"
  },
  "language_info": {
   "codemirror_mode": {
    "name": "ipython",
    "version": 3
   },
   "file_extension": ".py",
   "mimetype": "text/x-python",
   "name": "python",
   "nbconvert_exporter": "python",
   "pygments_lexer": "ipython3",
   "version": "3.10.2"
  }
 },
 "nbformat": 4,
 "nbformat_minor": 5
}
