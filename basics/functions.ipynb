{
 "cells": [
  {
   "cell_type": "markdown",
   "id": "08f3c677-a9b0-45b5-8815-f1f130ff8103",
   "metadata": {
    "tags": []
   },
   "source": [
    "# Functions - definition syntax, calling semantics"
   ]
  },
  {
   "cell_type": "code",
   "execution_count": 1,
   "id": "59ca5d24-2090-4b62-ac3b-dc30a40de105",
   "metadata": {},
   "outputs": [],
   "source": [
    "def increment(var):\n",
    "    var += 1  # Does not actually affect the caller."
   ]
  },
  {
   "cell_type": "code",
   "execution_count": 2,
   "id": "4664431b",
   "metadata": {},
   "outputs": [],
   "source": [
    "def increment(var):\n",
    "    var += 1  # Does not actually affect the caller."
   ]
  },
  {
   "cell_type": "code",
   "execution_count": 3,
   "id": "2bdaba67",
   "metadata": {},
   "outputs": [],
   "source": [
    "def increment(var):\n",
    "    var += 1  # Does not actually affect the caller."
   ]
  },
  {
   "cell_type": "code",
   "execution_count": 4,
   "id": "542bc9bc-258e-45e6-8f83-d0f833eb83f6",
   "metadata": {},
   "outputs": [
    {
     "data": {
      "text/plain": [
       "3"
      ]
     },
     "execution_count": 4,
     "metadata": {},
     "output_type": "execute_result"
    }
   ],
   "source": [
    "x = 3\n",
    "increment(x)\n",
    "x"
   ]
  },
  {
   "cell_type": "code",
   "execution_count": 5,
   "id": "20d194e8-6f09-4167-8eb2-fee6927ad50e",
   "metadata": {},
   "outputs": [],
   "source": [
    "def f(values):\n",
    "    values.append(1000)"
   ]
  },
  {
   "cell_type": "code",
   "execution_count": 6,
   "id": "7a232cdd-4365-4be3-9a53-9bce4c3029ad",
   "metadata": {},
   "outputs": [
    {
     "data": {
      "text/plain": [
       "[10, 20, 30, 1000]"
      ]
     },
     "execution_count": 6,
     "metadata": {},
     "output_type": "execute_result"
    }
   ],
   "source": [
    "a = [10, 20, 30]\n",
    "f(a)\n",
    "a"
   ]
  },
  {
   "cell_type": "code",
   "execution_count": 7,
   "id": "ffc5f6e5-f456-4db9-bfd5-74c0c18a5d61",
   "metadata": {},
   "outputs": [],
   "source": [
    "def g(values):\n",
    "    values = []"
   ]
  },
  {
   "cell_type": "code",
   "execution_count": 8,
   "id": "bf038551-28e2-49e2-8db6-70ff21650ac8",
   "metadata": {},
   "outputs": [
    {
     "data": {
      "text/plain": [
       "[10, 20, 30, 1000]"
      ]
     },
     "execution_count": 8,
     "metadata": {},
     "output_type": "execute_result"
    }
   ],
   "source": [
    "g(a)\n",
    "a"
   ]
  },
  {
   "cell_type": "markdown",
   "id": "77adfdae-1634-4252-a440-fe264f4f81e1",
   "metadata": {},
   "source": [
    "## Arity"
   ]
  },
  {
   "cell_type": "code",
   "execution_count": 9,
   "id": "cfb9f410-e29b-47fb-9b2b-3ac982dd9200",
   "metadata": {},
   "outputs": [],
   "source": [
    "def f(x):  # Unary, no free variables.\n",
    "    return x"
   ]
  },
  {
   "cell_type": "code",
   "execution_count": 10,
   "id": "0a05b401-53bc-4c0a-a30e-bac70618e6d3",
   "metadata": {},
   "outputs": [],
   "source": [
    "def g(x):  # Unary, no free variables, y is looked up in the global scope.\n",
    "    return x + y"
   ]
  },
  {
   "cell_type": "code",
   "execution_count": 11,
   "id": "811f59c3-fbcf-4ec0-87ab-dce55743a8b8",
   "metadata": {},
   "outputs": [],
   "source": [
    "def h():  # Unary, no free variables, print is looked up in the global scope.\n",
    "    print('Hello, world!')"
   ]
  },
  {
   "cell_type": "code",
   "execution_count": 12,
   "id": "f98b3134-ac54-4b1a-b43e-75589bff6cef",
   "metadata": {},
   "outputs": [
    {
     "name": "stdout",
     "output_type": "stream",
     "text": [
      "15\n"
     ]
    }
   ],
   "source": [
    "def outer():\n",
    "    p = 10\n",
    "    \n",
    "    def inner(q):  # Unary, 1 free variable (p), 1 local (q).\n",
    "        print(p + q)  # print is looked up globally.\n",
    "\n",
    "    return inner\n",
    "\n",
    "outer()(5)"
   ]
  },
  {
   "cell_type": "markdown",
   "id": "a88f1067-6ed0-4c56-8b5e-37b57f58d9a2",
   "metadata": {},
   "source": [
    "## `**kwargs`"
   ]
  },
  {
   "cell_type": "code",
   "execution_count": 13,
   "id": "a6aa8335-eb67-42b6-8836-28ee4a206277",
   "metadata": {},
   "outputs": [],
   "source": [
    "def f(*args):\n",
    "    return 1"
   ]
  },
  {
   "cell_type": "code",
   "execution_count": 14,
   "id": "2da82ab7-ec26-45b7-91f2-d42a06c2a39c",
   "metadata": {},
   "outputs": [
    {
     "data": {
      "text/plain": [
       "1"
      ]
     },
     "execution_count": 14,
     "metadata": {},
     "output_type": "execute_result"
    }
   ],
   "source": [
    "f()"
   ]
  },
  {
   "cell_type": "code",
   "execution_count": 15,
   "id": "918bf2b3-92a4-4c64-8e4f-1ec7b8495673",
   "metadata": {},
   "outputs": [
    {
     "data": {
      "text/plain": [
       "1"
      ]
     },
     "execution_count": 15,
     "metadata": {},
     "output_type": "execute_result"
    }
   ],
   "source": [
    "f(10, 20)"
   ]
  },
  {
   "cell_type": "code",
   "execution_count": 16,
   "id": "bae1e28e-f080-41c5-83fc-ddfd776bcace",
   "metadata": {},
   "outputs": [],
   "source": [
    "# Define a function called \"proclaim\" that accepts zero or more positional\n",
    "# arguments and behaves like print, except it prints \"Good news: \" first.\n",
    "def proclaim(*args):\n",
    "    print(\"Good News: \", *args)"
   ]
  },
  {
   "cell_type": "code",
   "execution_count": 17,
   "id": "fc0b7dc3-a62f-4cef-896b-3700c7ba78df",
   "metadata": {},
   "outputs": [
    {
     "name": "stdout",
     "output_type": "stream",
     "text": [
      "Good News:  1 2 3\n"
     ]
    }
   ],
   "source": [
    "proclaim(1, 2, 3)"
   ]
  },
  {
   "cell_type": "code",
   "execution_count": 18,
   "id": "f2273bdf-33e1-4f08-b810-01476f7d6a1a",
   "metadata": {},
   "outputs": [
    {
     "name": "stdout",
     "output_type": "stream",
     "text": [
      "Good News: \n"
     ]
    }
   ],
   "source": [
    "proclaim()"
   ]
  },
  {
   "cell_type": "code",
   "execution_count": 19,
   "id": "30f1e576-e608-4ad9-b0d2-67236e4d7f85",
   "metadata": {},
   "outputs": [
    {
     "name": "stdout",
     "output_type": "stream",
     "text": [
      "1 2 3\n"
     ]
    }
   ],
   "source": [
    "print(1, 2, 3)"
   ]
  },
  {
   "cell_type": "code",
   "execution_count": 20,
   "id": "40832c9b-b535-4136-9aa1-8143f3f508be",
   "metadata": {},
   "outputs": [],
   "source": [
    "# Define a function called \"proclaim\" that accepts one or more positional\n",
    "# arguments and behaves like print, except it prints \"Good news: \" first.\n",
    "def proclaim(first, *rest):\n",
    "    print(\"Good News: \", first, *rest)"
   ]
  },
  {
   "cell_type": "code",
   "execution_count": 21,
   "id": "aac7898b-4d97-4b3f-bed6-9419ee475397",
   "metadata": {},
   "outputs": [
    {
     "name": "stdout",
     "output_type": "stream",
     "text": [
      "Good News:  1 2 3\n"
     ]
    }
   ],
   "source": [
    "proclaim(1, 2, 3)"
   ]
  },
  {
   "cell_type": "code",
   "execution_count": 22,
   "id": "f90a0d81-9bd7-4865-bfac-6896f179d5b9",
   "metadata": {
    "tags": [
     "raises-exception"
    ]
   },
   "outputs": [
    {
     "ename": "TypeError",
     "evalue": "proclaim() missing 1 required positional argument: 'first'",
     "output_type": "error",
     "traceback": [
      "\u001b[1;31m---------------------------------------------------------------------------\u001b[0m",
      "\u001b[1;31mTypeError\u001b[0m                                 Traceback (most recent call last)",
      "Cell \u001b[1;32mIn [22], line 1\u001b[0m\n\u001b[1;32m----> 1\u001b[0m \u001b[43mproclaim\u001b[49m\u001b[43m(\u001b[49m\u001b[43m)\u001b[49m\n",
      "\u001b[1;31mTypeError\u001b[0m: proclaim() missing 1 required positional argument: 'first'"
     ]
    }
   ],
   "source": [
    "proclaim()"
   ]
  },
  {
   "cell_type": "code",
   "execution_count": 23,
   "id": "dad744cd-e3e9-492f-b326-a44153f7659a",
   "metadata": {
    "tags": [
     "raises-exception"
    ]
   },
   "outputs": [
    {
     "ename": "TypeError",
     "evalue": "proclaim() got an unexpected keyword argument 'sep'",
     "output_type": "error",
     "traceback": [
      "\u001b[1;31m---------------------------------------------------------------------------\u001b[0m",
      "\u001b[1;31mTypeError\u001b[0m                                 Traceback (most recent call last)",
      "Cell \u001b[1;32mIn [23], line 1\u001b[0m\n\u001b[1;32m----> 1\u001b[0m \u001b[43mproclaim\u001b[49m\u001b[43m(\u001b[49m\u001b[38;5;124;43m'\u001b[39;49m\u001b[38;5;124;43mhello\u001b[39;49m\u001b[38;5;124;43m'\u001b[39;49m\u001b[43m,\u001b[49m\u001b[43m \u001b[49m\u001b[38;5;124;43m'\u001b[39;49m\u001b[38;5;124;43mgoodbye\u001b[39;49m\u001b[38;5;124;43m'\u001b[39;49m\u001b[43m,\u001b[49m\u001b[43m \u001b[49m\u001b[43msep\u001b[49m\u001b[38;5;241;43m=\u001b[39;49m\u001b[38;5;124;43m'\u001b[39;49m\u001b[38;5;124;43m---\u001b[39;49m\u001b[38;5;124;43m'\u001b[39;49m\u001b[43m)\u001b[49m\n",
      "\u001b[1;31mTypeError\u001b[0m: proclaim() got an unexpected keyword argument 'sep'"
     ]
    }
   ],
   "source": [
    "proclaim('hello', 'goodbye', sep='---')"
   ]
  },
  {
   "cell_type": "code",
   "execution_count": 24,
   "id": "fe8a5a58-abd5-4f31-8dec-8680c009b85e",
   "metadata": {},
   "outputs": [
    {
     "data": {
      "text/plain": [
       "[5, 10, 20, 30, 40]"
      ]
     },
     "execution_count": 24,
     "metadata": {},
     "output_type": "execute_result"
    }
   ],
   "source": [
    "# Prefixing with one * expands it as comma-separated expressions.\n",
    "xs = [10, 20, 30]\n",
    "[5, *xs, 40]"
   ]
  },
  {
   "cell_type": "code",
   "execution_count": 25,
   "id": "53268275-3fe7-4446-ace6-9c5cbe6ccb90",
   "metadata": {},
   "outputs": [
    {
     "data": {
      "text/plain": [
       "{'hello': 5, 'bye': 3, 'bobcat': 6, 'ow': 2}"
      ]
     },
     "execution_count": 25,
     "metadata": {},
     "output_type": "execute_result"
    }
   ],
   "source": [
    "words = ['hello', 'bye', 'bobcat', 'ow']\n",
    "lengths = {word: len(word) for word in words}\n",
    "lengths"
   ]
  },
  {
   "cell_type": "code",
   "execution_count": 26,
   "id": "8142b947-cc84-471a-8b88-1fee2cb4bd36",
   "metadata": {},
   "outputs": [
    {
     "data": {
      "text/plain": [
       "{'hello': 5, 'bye': 3, 'bobcat': 6, 'ow': 2, 'haha': 4}"
      ]
     },
     "execution_count": 26,
     "metadata": {},
     "output_type": "execute_result"
    }
   ],
   "source": [
    "lengths2 = dict(lengths)\n",
    "lengths2['haha'] = 4\n",
    "lengths2"
   ]
  },
  {
   "cell_type": "code",
   "execution_count": 27,
   "id": "317ded28-e80c-4d0c-89cc-a5b28584ff45",
   "metadata": {},
   "outputs": [
    {
     "data": {
      "text/plain": [
       "{'hello': 5, 'bye': 3, 'bobcat': 6, 'ow': 2}"
      ]
     },
     "execution_count": 27,
     "metadata": {},
     "output_type": "execute_result"
    }
   ],
   "source": [
    "lengths"
   ]
  },
  {
   "cell_type": "code",
   "execution_count": 28,
   "id": "ce8d9f84-4f62-44ba-b4df-0726bcb6921c",
   "metadata": {},
   "outputs": [
    {
     "data": {
      "text/plain": [
       "{'hello': 5, 'bye': 3, 'bobcat': 6, 'ow': 2, 'haha': 4}"
      ]
     },
     "execution_count": 28,
     "metadata": {},
     "output_type": "execute_result"
    }
   ],
   "source": [
    "# Prefixing with ** expands it as key-value pairs.\n",
    "lengths2 = {**lengths, 'haha': 4}\n",
    "lengths2"
   ]
  },
  {
   "cell_type": "code",
   "execution_count": 29,
   "id": "87a471d9-fc4a-4d91-8630-5b8974e220b8",
   "metadata": {},
   "outputs": [],
   "source": [
    "def f(**kwargs):\n",
    "    print(kwargs)"
   ]
  },
  {
   "cell_type": "code",
   "execution_count": 30,
   "id": "e79bf35d-4b05-480d-80c6-383062a3a02d",
   "metadata": {},
   "outputs": [
    {
     "name": "stdout",
     "output_type": "stream",
     "text": [
      "{'bob': 'cat', 'sally': 4221}\n"
     ]
    }
   ],
   "source": [
    "f(bob='cat', sally=4221)"
   ]
  },
  {
   "cell_type": "code",
   "execution_count": 31,
   "id": "cf0641c8-ade9-4f0a-8a52-6c839eda579a",
   "metadata": {},
   "outputs": [
    {
     "data": {
      "text/plain": [
       "{'hello': 5, 'bye': 3, 'bobcat': 6, 'ow': 2}"
      ]
     },
     "execution_count": 31,
     "metadata": {},
     "output_type": "execute_result"
    }
   ],
   "source": [
    "{'hello': 5, 'bye': 3, 'bobcat': 6, 'ow': 2}"
   ]
  },
  {
   "cell_type": "code",
   "execution_count": 32,
   "id": "582bc07b-46b9-44c2-9bbd-c5359194707f",
   "metadata": {},
   "outputs": [
    {
     "data": {
      "text/plain": [
       "{'hello': 5, 'bye': 3, 'bobcat': 6, 'ow': 2}"
      ]
     },
     "execution_count": 32,
     "metadata": {},
     "output_type": "execute_result"
    }
   ],
   "source": [
    "def make_dictionary(**kwargs):\n",
    "    return kwargs\n",
    "\n",
    "make_dictionary(hello=5, bye=3, bobcat=6, ow=2)"
   ]
  },
  {
   "cell_type": "code",
   "execution_count": 33,
   "id": "1847b45e-54d2-4162-8b04-6e06422dc61d",
   "metadata": {},
   "outputs": [
    {
     "data": {
      "text/plain": [
       "{'hello': 5, 'bye': 3, 'bobcat': 6, 'ow': 2}"
      ]
     },
     "execution_count": 33,
     "metadata": {},
     "output_type": "execute_result"
    }
   ],
   "source": [
    "dict(hello=5, bye=3, bobcat=6, ow=2)"
   ]
  },
  {
   "cell_type": "code",
   "execution_count": 34,
   "id": "5dd9ba17-389c-41df-89c2-c7627b63c588",
   "metadata": {},
   "outputs": [
    {
     "name": "stdout",
     "output_type": "stream",
     "text": [
      "Good News:---hello---goodbye\n"
     ]
    }
   ],
   "source": [
    "# Make proclaim forward keyword as well as positional arguments.\n",
    "# (For example: sep=, end=, and file= will work.)\n",
    "def proclaim(*pargs, **kwargs):\n",
    "    print(\"Good News:\", *pargs, **kwargs)\n",
    "proclaim('hello', 'goodbye', sep='---')"
   ]
  },
  {
   "cell_type": "code",
   "execution_count": 35,
   "id": "58675e97-8937-4113-86e6-042a1e32781a",
   "metadata": {},
   "outputs": [],
   "source": [
    "d = {'d': 'a', 'c': 2, 'v': 5}"
   ]
  },
  {
   "cell_type": "code",
   "execution_count": 36,
   "id": "39863be1-85e9-4a8a-acdd-dfbfdc5cdb18",
   "metadata": {},
   "outputs": [
    {
     "data": {
      "text/plain": [
       "\"{'d': 'a', 'c': 2, 'v': 5}\""
      ]
     },
     "execution_count": 36,
     "metadata": {},
     "output_type": "execute_result"
    }
   ],
   "source": [
    "str(d)"
   ]
  },
  {
   "cell_type": "code",
   "execution_count": 37,
   "id": "57e6cf52-7561-4856-baf0-da3e3dbc56b9",
   "metadata": {},
   "outputs": [
    {
     "data": {
      "text/plain": [
       "['d: a', 'c: 2', 'v: 5']"
      ]
     },
     "execution_count": 37,
     "metadata": {},
     "output_type": "execute_result"
    }
   ],
   "source": [
    "l = []\n",
    "for key in d: \n",
    "    l.append(f'{key}: {d[key]}')\n",
    "l"
   ]
  },
  {
   "cell_type": "code",
   "execution_count": 38,
   "id": "a8b0b3de-ae4d-426a-98c3-8e7a467fdbfc",
   "metadata": {},
   "outputs": [],
   "source": [
    "s = ', '.join(l)"
   ]
  },
  {
   "cell_type": "code",
   "execution_count": 39,
   "id": "cd206a30-6b7d-40be-92df-f0d90181037f",
   "metadata": {},
   "outputs": [
    {
     "data": {
      "text/plain": [
       "'d: a, c: 2, v: 5'"
      ]
     },
     "execution_count": 39,
     "metadata": {},
     "output_type": "execute_result"
    }
   ],
   "source": [
    "s"
   ]
  },
  {
   "cell_type": "code",
   "execution_count": 40,
   "id": "18dc6077-f974-4d55-bf7b-456869c28711",
   "metadata": {},
   "outputs": [],
   "source": [
    "old_prices = {'trout': 32.00, 'halibut': 36.44, 'more RAM': 14.00}\n",
    "prices = {'trout': 34.00, 'halibut': 36.50, 'more RAM': 1337.00}\n",
    "both = [old_prices, prices]"
   ]
  },
  {
   "cell_type": "code",
   "execution_count": 41,
   "id": "c6f0a132-9777-463a-a906-ba39501dd255",
   "metadata": {},
   "outputs": [
    {
     "name": "stdout",
     "output_type": "stream",
     "text": [
      "old_trout_cost = 32.0\n",
      "other_old_costs = {'halibut': 36.44, 'more RAM': 14.0}\n",
      "new_trout_cost = 34.0\n"
     ]
    }
   ],
   "source": [
    "match both:\n",
    "    case [{'trout': old_trout_cost, **other_old_costs}, {'trout': new_trout_cost}]:\n",
    "        print(f'{old_trout_cost = }')\n",
    "        print(f'{other_old_costs = }')\n",
    "        print(f'{new_trout_cost = }')"
   ]
  },
  {
   "cell_type": "markdown",
   "id": "16c1a9c7-6e69-4331-9c9f-eac50e640b99",
   "metadata": {},
   "source": [
    "## Practice"
   ]
  },
  {
   "cell_type": "code",
   "execution_count": 42,
   "id": "d88f4b2a-ddef-4393-845b-7c2d12c40f2b",
   "metadata": {},
   "outputs": [],
   "source": [
    "def f(): \n",
    "    pass"
   ]
  },
  {
   "cell_type": "code",
   "execution_count": 43,
   "id": "d70adc29-cad4-485b-9355-b0278ddd67b8",
   "metadata": {},
   "outputs": [],
   "source": [
    "def g(arg): \n",
    "    pass"
   ]
  },
  {
   "cell_type": "code",
   "execution_count": 44,
   "id": "fecea115-4d6c-4970-bc87-45c1628443b4",
   "metadata": {},
   "outputs": [],
   "source": [
    "def h(*, kwarg):\n",
    "    pass"
   ]
  },
  {
   "cell_type": "code",
   "execution_count": 45,
   "id": "b6c934c8-1243-47a0-98a7-6d85c060b32a",
   "metadata": {},
   "outputs": [],
   "source": [
    "h(kwarg=1)"
   ]
  },
  {
   "cell_type": "code",
   "execution_count": 46,
   "id": "a448fab6-3f90-4f22-b4f4-ec7043bb070f",
   "metadata": {},
   "outputs": [],
   "source": [
    "def h(*, kwarg=2): \n",
    "    pass"
   ]
  },
  {
   "cell_type": "code",
   "execution_count": 47,
   "id": "507a4679-0491-4c4e-a707-9c91a3f04847",
   "metadata": {},
   "outputs": [],
   "source": [
    "h()"
   ]
  },
  {
   "cell_type": "code",
   "execution_count": 48,
   "id": "9c4ff3df-1df4-4747-8276-88dc793aff5a",
   "metadata": {},
   "outputs": [],
   "source": [
    "h(kwarg=3)"
   ]
  },
  {
   "cell_type": "code",
   "execution_count": 49,
   "id": "a6577c7c-1a97-4c29-864c-070902e90e4c",
   "metadata": {
    "tags": [
     "raises-exception"
    ]
   },
   "outputs": [
    {
     "ename": "TypeError",
     "evalue": "h() takes 0 positional arguments but 1 was given",
     "output_type": "error",
     "traceback": [
      "\u001b[1;31m---------------------------------------------------------------------------\u001b[0m",
      "\u001b[1;31mTypeError\u001b[0m                                 Traceback (most recent call last)",
      "Cell \u001b[1;32mIn [49], line 1\u001b[0m\n\u001b[1;32m----> 1\u001b[0m \u001b[43mh\u001b[49m\u001b[43m(\u001b[49m\u001b[38;5;241;43m3\u001b[39;49m\u001b[43m)\u001b[49m\n",
      "\u001b[1;31mTypeError\u001b[0m: h() takes 0 positional arguments but 1 was given"
     ]
    }
   ],
   "source": [
    "h(3)"
   ]
  },
  {
   "cell_type": "code",
   "execution_count": 50,
   "id": "1b585972-aa9c-421c-ba4f-a2e8ad2ae007",
   "metadata": {},
   "outputs": [],
   "source": [
    "def i(*args):\n",
    "    print(args)"
   ]
  },
  {
   "cell_type": "code",
   "execution_count": 51,
   "id": "46404add-9e3c-45e3-860c-0864b4936d6e",
   "metadata": {},
   "outputs": [
    {
     "name": "stdout",
     "output_type": "stream",
     "text": [
      "()\n"
     ]
    }
   ],
   "source": [
    "i()"
   ]
  },
  {
   "cell_type": "code",
   "execution_count": 52,
   "id": "6242c036-c044-4164-8b4f-8791c315bb79",
   "metadata": {},
   "outputs": [
    {
     "name": "stdout",
     "output_type": "stream",
     "text": [
      "(3,)\n"
     ]
    }
   ],
   "source": [
    "i(3)"
   ]
  },
  {
   "cell_type": "code",
   "execution_count": 53,
   "id": "f4c84ee9-4366-45b3-93a9-0485f8ee606a",
   "metadata": {},
   "outputs": [
    {
     "name": "stdout",
     "output_type": "stream",
     "text": [
      "(3, 4)\n"
     ]
    }
   ],
   "source": [
    "i(3, 4)"
   ]
  },
  {
   "cell_type": "code",
   "execution_count": 54,
   "id": "1965677d-dd0f-4cad-8daf-97eeec336b18",
   "metadata": {},
   "outputs": [],
   "source": [
    "s = [1, 'hi', 3.4]"
   ]
  },
  {
   "cell_type": "code",
   "execution_count": 55,
   "id": "b8227ba4-2649-49fa-8cf8-288ca7da0aa1",
   "metadata": {},
   "outputs": [
    {
     "name": "stdout",
     "output_type": "stream",
     "text": [
      "(1, 'hi', 3.4)\n"
     ]
    }
   ],
   "source": [
    "i(*s)"
   ]
  },
  {
   "cell_type": "code",
   "execution_count": 56,
   "id": "957f5e4c-51fb-4fbb-bf7b-edc4dd0e80ec",
   "metadata": {},
   "outputs": [
    {
     "name": "stdout",
     "output_type": "stream",
     "text": [
      "(42, 1, 'hi', 3.4)\n"
     ]
    }
   ],
   "source": [
    "i(42, *s)"
   ]
  },
  {
   "cell_type": "code",
   "execution_count": 57,
   "id": "cd2f5464-de7f-4bf4-82cc-4cd7d6573b7d",
   "metadata": {},
   "outputs": [
    {
     "name": "stdout",
     "output_type": "stream",
     "text": [
      "(42, 1, 'hi', 3.4, 76)\n"
     ]
    }
   ],
   "source": [
    "i(42, *s, 76)"
   ]
  },
  {
   "cell_type": "code",
   "execution_count": 58,
   "id": "0b48d30c-1f25-467f-b9b4-5c8e6345402d",
   "metadata": {},
   "outputs": [
    {
     "name": "stdout",
     "output_type": "stream",
     "text": [
      "(1, 'hi', 3.4, 1, 'hi', 3.4)\n"
     ]
    }
   ],
   "source": [
    "i(*s, *s)"
   ]
  },
  {
   "cell_type": "code",
   "execution_count": 59,
   "id": "291c9b3c-77de-4864-ab95-5b0f136f6024",
   "metadata": {},
   "outputs": [],
   "source": [
    "def j(**kwargs): \n",
    "    print(kwargs)"
   ]
  },
  {
   "cell_type": "code",
   "execution_count": 60,
   "id": "bf536f09-a934-44a0-a472-398ce7a9f4f8",
   "metadata": {},
   "outputs": [
    {
     "name": "stdout",
     "output_type": "stream",
     "text": [
      "{}\n"
     ]
    }
   ],
   "source": [
    "j()"
   ]
  },
  {
   "cell_type": "code",
   "execution_count": 61,
   "id": "e0a75c14-c321-4771-8014-b5123fa1a4d1",
   "metadata": {},
   "outputs": [
    {
     "name": "stdout",
     "output_type": "stream",
     "text": [
      "{'f': 10}\n"
     ]
    }
   ],
   "source": [
    "j(f=10)"
   ]
  },
  {
   "cell_type": "code",
   "execution_count": 62,
   "id": "3bb7b283-691c-43c5-8042-b615b4d3c58e",
   "metadata": {},
   "outputs": [],
   "source": [
    "d = {'g': 3, 'f': 4}"
   ]
  },
  {
   "cell_type": "code",
   "execution_count": 63,
   "id": "16afb5d8-b334-4306-ad71-0230c4f5d248",
   "metadata": {},
   "outputs": [
    {
     "name": "stdout",
     "output_type": "stream",
     "text": [
      "{'g': 3, 'f': 4}\n"
     ]
    }
   ],
   "source": [
    "j(**d)"
   ]
  },
  {
   "cell_type": "code",
   "execution_count": 64,
   "id": "6337f2eb-1e59-446b-a7d5-39d59a2a0c74",
   "metadata": {
    "tags": [
     "raises-exception"
    ]
   },
   "outputs": [
    {
     "ename": "TypeError",
     "evalue": "__main__.j() got multiple values for keyword argument 'f'",
     "output_type": "error",
     "traceback": [
      "\u001b[1;31m---------------------------------------------------------------------------\u001b[0m",
      "\u001b[1;31mTypeError\u001b[0m                                 Traceback (most recent call last)",
      "Cell \u001b[1;32mIn [64], line 1\u001b[0m\n\u001b[1;32m----> 1\u001b[0m j(\u001b[38;5;241m*\u001b[39m\u001b[38;5;241m*\u001b[39md, f\u001b[38;5;241m=\u001b[39m\u001b[38;5;241m10\u001b[39m)\n",
      "\u001b[1;31mTypeError\u001b[0m: __main__.j() got multiple values for keyword argument 'f'"
     ]
    }
   ],
   "source": [
    "j(**d, f=10)"
   ]
  },
  {
   "cell_type": "code",
   "execution_count": 65,
   "id": "dd731bf3-cf33-4d24-9d81-52118e1e6786",
   "metadata": {
    "tags": [
     "raises-exception"
    ]
   },
   "outputs": [
    {
     "ename": "SyntaxError",
     "evalue": "keyword argument repeated: f (4026408676.py, line 1)",
     "output_type": "error",
     "traceback": [
      "\u001b[1;36m  Cell \u001b[1;32mIn [65], line 1\u001b[1;36m\u001b[0m\n\u001b[1;33m    j(f=2, f=3)\u001b[0m\n\u001b[1;37m           ^\u001b[0m\n\u001b[1;31mSyntaxError\u001b[0m\u001b[1;31m:\u001b[0m keyword argument repeated: f\n"
     ]
    }
   ],
   "source": [
    "j(f=2, f=3)"
   ]
  },
  {
   "cell_type": "code",
   "execution_count": 66,
   "id": "96ff9253-8fb1-4453-92b6-8f16dd3c3d09",
   "metadata": {},
   "outputs": [],
   "source": [
    "d2 = dict(g=3, f=4)"
   ]
  },
  {
   "cell_type": "code",
   "execution_count": 67,
   "id": "e8cd98a7-22c0-4bc3-ad21-f3df676156c9",
   "metadata": {},
   "outputs": [
    {
     "data": {
      "text/plain": [
       "{'g': 3, 'f': 4}"
      ]
     },
     "execution_count": 67,
     "metadata": {},
     "output_type": "execute_result"
    }
   ],
   "source": [
    "d2"
   ]
  },
  {
   "cell_type": "code",
   "execution_count": 68,
   "id": "f4106423-46f1-44fd-b234-2bfe43a3c778",
   "metadata": {},
   "outputs": [
    {
     "data": {
      "text/plain": [
       "True"
      ]
     },
     "execution_count": 68,
     "metadata": {},
     "output_type": "execute_result"
    }
   ],
   "source": [
    "d2 == d"
   ]
  },
  {
   "cell_type": "markdown",
   "id": "c9d7f0ee-6ee4-400a-9458-d0cb97b1043c",
   "metadata": {},
   "source": [
    "## Review of `TypeError` from mismatched arguments"
   ]
  },
  {
   "cell_type": "code",
   "execution_count": 69,
   "id": "eb63ff1d-f448-4547-ba6a-392061259eff",
   "metadata": {},
   "outputs": [],
   "source": [
    "def someargs(*args, **kwargs): \n",
    "    print(args)"
   ]
  },
  {
   "cell_type": "code",
   "execution_count": 70,
   "id": "cc012256-10f1-40bc-a5d7-8f4489e27414",
   "metadata": {},
   "outputs": [
    {
     "name": "stdout",
     "output_type": "stream",
     "text": [
      "(2, 'cat')\n"
     ]
    }
   ],
   "source": [
    "someargs(2, 'cat')"
   ]
  },
  {
   "cell_type": "code",
   "execution_count": 71,
   "id": "f276ecbc-a2b6-420f-96cd-f3572f160ab8",
   "metadata": {},
   "outputs": [],
   "source": [
    "def nopargs(**kwargs): \n",
    "    print(kwargs)"
   ]
  },
  {
   "cell_type": "code",
   "execution_count": 72,
   "id": "b17bb9c3-2e3e-44c4-ab3b-bc19343320de",
   "metadata": {
    "tags": [
     "raises-exception"
    ]
   },
   "outputs": [
    {
     "ename": "TypeError",
     "evalue": "nopargs() takes 0 positional arguments but 1 was given",
     "output_type": "error",
     "traceback": [
      "\u001b[1;31m---------------------------------------------------------------------------\u001b[0m",
      "\u001b[1;31mTypeError\u001b[0m                                 Traceback (most recent call last)",
      "Cell \u001b[1;32mIn [72], line 1\u001b[0m\n\u001b[1;32m----> 1\u001b[0m \u001b[43mnopargs\u001b[49m\u001b[43m(\u001b[49m\u001b[38;5;241;43m1\u001b[39;49m\u001b[43m)\u001b[49m\n",
      "\u001b[1;31mTypeError\u001b[0m: nopargs() takes 0 positional arguments but 1 was given"
     ]
    }
   ],
   "source": [
    "nopargs(1)"
   ]
  },
  {
   "cell_type": "markdown",
   "id": "808d059a-1ce7-4086-bb21-a10dcbbed2db",
   "metadata": {},
   "source": [
    "## Semantics of functions decorated with compound expressions"
   ]
  },
  {
   "cell_type": "markdown",
   "id": "9306e631-50d0-48b8-9ffb-73f9093c5c5e",
   "metadata": {},
   "source": [
    "Everything on the line that starts with `@` (except the `@` itself) is taken to be an expression that is evaluated. The result of evaluating it is then called with the original function/class. This is not a special rule for when the expression is a call to a decorator factory or otherwise a compound expression: in the simplest case, the decoration has the form `@name`, and `name` is evaluated (to whatever object it refers to)."
   ]
  },
  {
   "cell_type": "code",
   "execution_count": 73,
   "id": "b3153ac2-1474-4d99-b50d-c002ed0ada00",
   "metadata": {},
   "outputs": [],
   "source": [
    "from decorators import count_calls_in_attribute"
   ]
  },
  {
   "cell_type": "code",
   "execution_count": 74,
   "id": "07879a13-27d6-44a8-b001-9cebb0f7768c",
   "metadata": {},
   "outputs": [],
   "source": [
    "@count_calls_in_attribute()\n",
    "def r1a(): \n",
    "    return 1"
   ]
  },
  {
   "cell_type": "code",
   "execution_count": 75,
   "id": "2c757ab2-aced-4e48-9349-38a6881eb46c",
   "metadata": {},
   "outputs": [
    {
     "data": {
      "text/plain": [
       "1"
      ]
     },
     "execution_count": 75,
     "metadata": {},
     "output_type": "execute_result"
    }
   ],
   "source": [
    "r1a()"
   ]
  },
  {
   "cell_type": "code",
   "execution_count": 76,
   "id": "dc6839db-4697-4071-9d14-0ea91a6ac7ca",
   "metadata": {},
   "outputs": [
    {
     "data": {
      "text/plain": [
       "1"
      ]
     },
     "execution_count": 76,
     "metadata": {},
     "output_type": "execute_result"
    }
   ],
   "source": [
    "r1a()"
   ]
  },
  {
   "cell_type": "code",
   "execution_count": 77,
   "id": "3a0ea8ce-4b47-429d-9787-caf4ede4845c",
   "metadata": {},
   "outputs": [
    {
     "data": {
      "text/plain": [
       "2"
      ]
     },
     "execution_count": 77,
     "metadata": {},
     "output_type": "execute_result"
    }
   ],
   "source": [
    "r1a.count"
   ]
  },
  {
   "cell_type": "code",
   "execution_count": 78,
   "id": "d4da5a63-00c7-4f09-9ebc-2f83984863f6",
   "metadata": {},
   "outputs": [],
   "source": [
    "def ogr1a(): \n",
    "    return 1"
   ]
  },
  {
   "cell_type": "code",
   "execution_count": 79,
   "id": "5d6ecdcd-95ca-434e-a642-08ef20724960",
   "metadata": {},
   "outputs": [],
   "source": [
    "r1b = count_calls_in_attribute()(ogr1a)"
   ]
  },
  {
   "cell_type": "code",
   "execution_count": 80,
   "id": "c0b61542-e136-4d3c-838d-321567832f41",
   "metadata": {},
   "outputs": [
    {
     "data": {
      "text/plain": [
       "1"
      ]
     },
     "execution_count": 80,
     "metadata": {},
     "output_type": "execute_result"
    }
   ],
   "source": [
    "r1b()"
   ]
  },
  {
   "cell_type": "code",
   "execution_count": 81,
   "id": "f1c72b05-0c4f-42f6-911c-93ea9c1c6c03",
   "metadata": {},
   "outputs": [
    {
     "data": {
      "text/plain": [
       "1"
      ]
     },
     "execution_count": 81,
     "metadata": {},
     "output_type": "execute_result"
    }
   ],
   "source": [
    "r1b()"
   ]
  },
  {
   "cell_type": "code",
   "execution_count": 82,
   "id": "c443f789-ad91-4b1a-a250-322ea681f233",
   "metadata": {},
   "outputs": [
    {
     "data": {
      "text/plain": [
       "2"
      ]
     },
     "execution_count": 82,
     "metadata": {},
     "output_type": "execute_result"
    }
   ],
   "source": [
    "r1b.count"
   ]
  },
  {
   "cell_type": "code",
   "execution_count": 83,
   "id": "927687ed-0bd4-4209-b083-37ea4d56b320",
   "metadata": {},
   "outputs": [],
   "source": [
    "def count_calls_in_count(func): \n",
    "    decorator = count_calls_in_attribute()\n",
    "    return decorator(func)"
   ]
  },
  {
   "cell_type": "code",
   "execution_count": 84,
   "id": "ee61e322-29fc-428c-a6ff-47446884601b",
   "metadata": {},
   "outputs": [],
   "source": [
    "# Alternative implementation of count_calls_in_count could be just:\n",
    "count_calls_in_count = count_calls_in_attribute()"
   ]
  },
  {
   "cell_type": "code",
   "execution_count": 85,
   "id": "c7de9b96-0758-41cf-a3fb-798f56d29323",
   "metadata": {},
   "outputs": [],
   "source": [
    "def hello(name='World'):\n",
    "    print(f'Hello {name}!')"
   ]
  },
  {
   "cell_type": "code",
   "execution_count": 86,
   "id": "511134b8-cffa-4e6b-976e-b6f79e6a90c3",
   "metadata": {},
   "outputs": [
    {
     "name": "stdout",
     "output_type": "stream",
     "text": [
      "Hello Rhaenyra!\n"
     ]
    }
   ],
   "source": [
    "hello('Rhaenyra')"
   ]
  },
  {
   "cell_type": "code",
   "execution_count": 87,
   "id": "393cca2e-aacd-41a6-9745-d7e06ff1b05c",
   "metadata": {},
   "outputs": [
    {
     "name": "stdout",
     "output_type": "stream",
     "text": [
      "Hello World!\n"
     ]
    }
   ],
   "source": [
    "hello()"
   ]
  },
  {
   "cell_type": "code",
   "execution_count": 88,
   "id": "ac6e65f0-c43c-403b-9fb8-09bcab51b294",
   "metadata": {
    "tags": [
     "raises-exception"
    ]
   },
   "outputs": [
    {
     "ename": "TypeError",
     "evalue": "hello() takes from 0 to 1 positional arguments but 2 were given",
     "output_type": "error",
     "traceback": [
      "\u001b[1;31m---------------------------------------------------------------------------\u001b[0m",
      "\u001b[1;31mTypeError\u001b[0m                                 Traceback (most recent call last)",
      "Cell \u001b[1;32mIn [88], line 1\u001b[0m\n\u001b[1;32m----> 1\u001b[0m \u001b[43mhello\u001b[49m\u001b[43m(\u001b[49m\u001b[38;5;124;43m'\u001b[39;49m\u001b[38;5;124;43mRob\u001b[39;49m\u001b[38;5;124;43m'\u001b[39;49m\u001b[43m,\u001b[49m\u001b[43m \u001b[49m\u001b[38;5;124;43m'\u001b[39;49m\u001b[38;5;124;43mArya\u001b[39;49m\u001b[38;5;124;43m'\u001b[39;49m\u001b[43m)\u001b[49m\n",
      "\u001b[1;31mTypeError\u001b[0m: hello() takes from 0 to 1 positional arguments but 2 were given"
     ]
    }
   ],
   "source": [
    "hello('Rob', 'Arya')"
   ]
  },
  {
   "cell_type": "markdown",
   "id": "62c37dd1-0754-46c4-b930-ed221ae835ca",
   "metadata": {},
   "source": [
    "## How does wrapping affect signatures displayed by `help`?"
   ]
  },
  {
   "cell_type": "markdown",
   "id": "3c20535e-bcf1-4f44-b081-dde689360f23",
   "metadata": {},
   "source": [
    "When `__wrapped__` is present, `help` follows it and shows the wrapped function's signature. `help` will follow arbitrarily long chains of `__wrapped__`: if `h` wraps `g` which wraps `f` and `__wrapped__` is set on `h` and `g` to reflect this, then `help(h)` will show show `f`'s signature, including the number and names of parameters.\n",
    "\n",
    "Wrapping without setting `__wrapped__`, or deleting `__wrapped__`, prevents this. Setting `__wrapped__` produces this behavior, even if no actual wrapping is performed.\n",
    "\n",
    "So when `__wrapped__` is set, this causes `help` to show the wrapper function's signature as that of the wrapped function. Even so, the signature, for some other purposes, is not regarded to be affected by the presence of `__wrapped__`. In particular, one of the most common ways to inspect the signature of a function is with `inspect.getfullargspec`, which does not follow `__wrapped__`.\n",
    "\n",
    "For purposes of ensuring correct output of `help`, however, a wrapper's own definition need not name its parameters in a way that is most useful to the user. Thus, it can sometimes be reasonable to write `*old_args, **old_kwargs` (or, perhaps better, `*original_args, **original_kwargs`) in the occasional case that doing so helps clarify the code of a wrapping decorator."
   ]
  },
  {
   "cell_type": "code",
   "execution_count": 89,
   "id": "ced7cb84-8c28-467b-8e63-0ee410f55424",
   "metadata": {},
   "outputs": [],
   "source": [
    "import inspect"
   ]
  },
  {
   "cell_type": "code",
   "execution_count": 90,
   "id": "96f82c8c-0d05-41a4-aa3c-ec3f92d397f9",
   "metadata": {},
   "outputs": [],
   "source": [
    "from decorators import wrap_uncallable_args"
   ]
  },
  {
   "cell_type": "code",
   "execution_count": 91,
   "id": "dba8b1f0-a69d-4306-8eff-cee2392d6cdb",
   "metadata": {},
   "outputs": [],
   "source": [
    "def before(x, y):\n",
    "    print(x, y)"
   ]
  },
  {
   "cell_type": "code",
   "execution_count": 92,
   "id": "cfc4b50d-b856-436f-abb7-cbfb286da124",
   "metadata": {},
   "outputs": [],
   "source": [
    "after = wrap_uncallable_args(before)"
   ]
  },
  {
   "cell_type": "code",
   "execution_count": 93,
   "id": "1240f599-a08c-428b-90ba-6b22a09d2b67",
   "metadata": {},
   "outputs": [
    {
     "name": "stdout",
     "output_type": "stream",
     "text": [
      "Help on function before in module __main__:\n",
      "\n",
      "before(x, y)\n",
      "\n"
     ]
    }
   ],
   "source": [
    "help(before)"
   ]
  },
  {
   "cell_type": "code",
   "execution_count": 94,
   "id": "c89b27c1-7d54-41c2-ba08-a522e8db22d6",
   "metadata": {},
   "outputs": [
    {
     "name": "stdout",
     "output_type": "stream",
     "text": [
      "Help on function before in module __main__:\n",
      "\n",
      "before(x, y)\n",
      "\n"
     ]
    }
   ],
   "source": [
    "help(after)"
   ]
  },
  {
   "cell_type": "code",
   "execution_count": 95,
   "id": "6391be6d-75fc-4341-99c2-0a51a65001a1",
   "metadata": {},
   "outputs": [
    {
     "data": {
      "text/plain": [
       "['__annotations__',\n",
       " '__builtins__',\n",
       " '__call__',\n",
       " '__class__',\n",
       " '__closure__',\n",
       " '__code__',\n",
       " '__defaults__',\n",
       " '__delattr__',\n",
       " '__dict__',\n",
       " '__dir__',\n",
       " '__doc__',\n",
       " '__eq__',\n",
       " '__format__',\n",
       " '__ge__',\n",
       " '__get__',\n",
       " '__getattribute__',\n",
       " '__globals__',\n",
       " '__gt__',\n",
       " '__hash__',\n",
       " '__init__',\n",
       " '__init_subclass__',\n",
       " '__kwdefaults__',\n",
       " '__le__',\n",
       " '__lt__',\n",
       " '__module__',\n",
       " '__name__',\n",
       " '__ne__',\n",
       " '__new__',\n",
       " '__qualname__',\n",
       " '__reduce__',\n",
       " '__reduce_ex__',\n",
       " '__repr__',\n",
       " '__setattr__',\n",
       " '__sizeof__',\n",
       " '__str__',\n",
       " '__subclasshook__',\n",
       " '__wrapped__']"
      ]
     },
     "execution_count": 95,
     "metadata": {},
     "output_type": "execute_result"
    }
   ],
   "source": [
    "dir(after)"
   ]
  },
  {
   "cell_type": "code",
   "execution_count": 96,
   "id": "cee8040d-f56d-4c15-9634-fd6e29c3cd85",
   "metadata": {},
   "outputs": [
    {
     "data": {
      "text/plain": [
       "FullArgSpec(args=[], varargs='args', varkw='kwargs', defaults=None, kwonlyargs=[], kwonlydefaults=None, annotations={})"
      ]
     },
     "execution_count": 96,
     "metadata": {},
     "output_type": "execute_result"
    }
   ],
   "source": [
    "inspect.getfullargspec(after)"
   ]
  },
  {
   "cell_type": "code",
   "execution_count": 97,
   "id": "a5a72dba-2809-441d-9e9c-04ba32933099",
   "metadata": {},
   "outputs": [],
   "source": [
    "del after.__wrapped__"
   ]
  },
  {
   "cell_type": "code",
   "execution_count": 98,
   "id": "9da4f310-d3d2-450d-a6d0-93b1e85f4f32",
   "metadata": {},
   "outputs": [
    {
     "name": "stdout",
     "output_type": "stream",
     "text": [
      "Help on function before in module __main__:\n",
      "\n",
      "before(*args, **kwargs)\n",
      "\n"
     ]
    }
   ],
   "source": [
    "help(after)"
   ]
  },
  {
   "cell_type": "code",
   "execution_count": 99,
   "id": "c37da8fd-ce96-4632-8155-0462a4d623fa",
   "metadata": {},
   "outputs": [],
   "source": [
    "@wrap_uncallable_args\n",
    "@wrap_uncallable_args\n",
    "def way_before(a, b, c):\n",
    "    pass"
   ]
  },
  {
   "cell_type": "code",
   "execution_count": 100,
   "id": "27ac4449-952a-4922-b8fc-c9b8403d57e3",
   "metadata": {},
   "outputs": [
    {
     "name": "stdout",
     "output_type": "stream",
     "text": [
      "Help on function way_before in module __main__:\n",
      "\n",
      "way_before(a, b, c)\n",
      "\n"
     ]
    }
   ],
   "source": [
    "help(way_before)"
   ]
  },
  {
   "cell_type": "code",
   "execution_count": 101,
   "id": "a6b4423e-4f55-475e-9ffd-2c5a08f26a6d",
   "metadata": {},
   "outputs": [],
   "source": [
    "del way_before.__wrapped__.__wrapped__"
   ]
  },
  {
   "cell_type": "code",
   "execution_count": 102,
   "id": "69c45b72-0b05-4d50-910c-455dbd8942ea",
   "metadata": {},
   "outputs": [
    {
     "name": "stdout",
     "output_type": "stream",
     "text": [
      "Help on function way_before in module __main__:\n",
      "\n",
      "way_before(*args, **kwargs)\n",
      "\n"
     ]
    }
   ],
   "source": [
    "help(way_before)"
   ]
  },
  {
   "cell_type": "code",
   "execution_count": 103,
   "id": "769ef7bf-1f93-498b-873d-9b874edb057d",
   "metadata": {},
   "outputs": [],
   "source": [
    "def uhoh():\n",
    "    pass"
   ]
  },
  {
   "cell_type": "code",
   "execution_count": 104,
   "id": "96dea3b6-9f18-4b62-bb2d-0121602b43a3",
   "metadata": {},
   "outputs": [
    {
     "name": "stdout",
     "output_type": "stream",
     "text": [
      "Help on function uhoh in module __main__:\n",
      "\n",
      "uhoh()\n",
      "\n"
     ]
    }
   ],
   "source": [
    "help(uhoh)"
   ]
  },
  {
   "cell_type": "code",
   "execution_count": 105,
   "id": "27ae7630-54fa-4d47-8691-d8a1fb42f617",
   "metadata": {},
   "outputs": [],
   "source": [
    "uhoh.__wrapped__ = uhoh"
   ]
  },
  {
   "cell_type": "code",
   "execution_count": 106,
   "id": "bb64d7ea-415a-4389-be81-f96d2fee49a8",
   "metadata": {},
   "outputs": [
    {
     "name": "stdout",
     "output_type": "stream",
     "text": [
      "Help on function uhoh in module __main__:\n",
      "\n",
      "uhoh(...)\n",
      "\n"
     ]
    }
   ],
   "source": [
    "help(uhoh)  # Actually, not so bad."
   ]
  },
  {
   "cell_type": "markdown",
   "id": "c4e24d3b-3a2d-4941-9fb4-c05796ea4079",
   "metadata": {},
   "source": [
    "The situation where we must worry most about wrapper's parameter names is when arguments are passed by one of those names:"
   ]
  },
  {
   "cell_type": "code",
   "execution_count": 107,
   "id": "c44efbc3-1e8e-48f7-a06c-f2366e76abc6",
   "metadata": {},
   "outputs": [],
   "source": [
    "def f(x, y):\n",
    "    print(f'{x=}, {y=}')\n",
    "\n",
    "def g(a, b):\n",
    "    f(a, b)\n",
    "\n",
    "g.__wrapped__ = f"
   ]
  },
  {
   "cell_type": "code",
   "execution_count": 108,
   "id": "be719325-f451-4c71-93f4-57a350456c2f",
   "metadata": {},
   "outputs": [
    {
     "name": "stdout",
     "output_type": "stream",
     "text": [
      "Help on function g in module __main__:\n",
      "\n",
      "g(x, y)\n",
      "\n"
     ]
    }
   ],
   "source": [
    "help(g)"
   ]
  },
  {
   "cell_type": "code",
   "execution_count": 109,
   "id": "abdf6883-1e08-4fb8-bafc-67539f4bf63a",
   "metadata": {
    "tags": [
     "raises-exception"
    ]
   },
   "outputs": [
    {
     "ename": "TypeError",
     "evalue": "g() got an unexpected keyword argument 'x'",
     "output_type": "error",
     "traceback": [
      "\u001b[1;31m---------------------------------------------------------------------------\u001b[0m",
      "\u001b[1;31mTypeError\u001b[0m                                 Traceback (most recent call last)",
      "Cell \u001b[1;32mIn [109], line 1\u001b[0m\n\u001b[1;32m----> 1\u001b[0m \u001b[43mg\u001b[49m\u001b[43m(\u001b[49m\u001b[43mx\u001b[49m\u001b[38;5;241;43m=\u001b[39;49m\u001b[38;5;241;43m10\u001b[39;49m\u001b[43m,\u001b[49m\u001b[43m \u001b[49m\u001b[43my\u001b[49m\u001b[38;5;241;43m=\u001b[39;49m\u001b[38;5;241;43m20\u001b[39;49m\u001b[43m)\u001b[49m\n",
      "\u001b[1;31mTypeError\u001b[0m: g() got an unexpected keyword argument 'x'"
     ]
    }
   ],
   "source": [
    "g(x=10, y=20)"
   ]
  },
  {
   "cell_type": "code",
   "execution_count": 110,
   "id": "cd9db9af-3e46-4beb-aa7d-2ea0040a093d",
   "metadata": {},
   "outputs": [
    {
     "name": "stdout",
     "output_type": "stream",
     "text": [
      "x=10, y=20\n"
     ]
    }
   ],
   "source": [
    "g(a=10, b=20)"
   ]
  },
  {
   "cell_type": "markdown",
   "id": "6e79521b-fc5c-4345-8719-60acfe381761",
   "metadata": {},
   "source": [
    "Parameters can always be passed keyword arguments, except:\n",
    "\n",
    "- Positional-only parameters.\n",
    "- `*args` (where `args` can be any identifier)\n",
    "- `**kwargs` (where `kwargs` can be any identifier)"
   ]
  },
  {
   "cell_type": "markdown",
   "id": "18735a6d-1928-4ff3-ad84-e1eb536d5625",
   "metadata": {},
   "source": [
    "So the kind of *severe* trouble with `f` and `g` above cannot happen when the wrapper's parameter list is of the form `*args, **kwargs` (regardless of how `args` and `kwargs` are named):"
   ]
  },
  {
   "cell_type": "code",
   "execution_count": 111,
   "id": "b8cb58d2-f2aa-4cbd-ba4c-29247ec9ecbf",
   "metadata": {},
   "outputs": [],
   "source": [
    "def h(*args, **kwargs):\n",
    "    f(*args, **kwargs)\n",
    "\n",
    "h.__wrapped__ = f"
   ]
  },
  {
   "cell_type": "code",
   "execution_count": 112,
   "id": "62bc57ae-c84b-4b66-8761-0fb7892be11f",
   "metadata": {},
   "outputs": [
    {
     "name": "stdout",
     "output_type": "stream",
     "text": [
      "Help on function h in module __main__:\n",
      "\n",
      "h(x, y)\n",
      "\n"
     ]
    }
   ],
   "source": [
    "help(h)"
   ]
  },
  {
   "cell_type": "code",
   "execution_count": 113,
   "id": "425883e2-a5ea-47dc-aa05-095c7dfa547d",
   "metadata": {},
   "outputs": [
    {
     "name": "stdout",
     "output_type": "stream",
     "text": [
      "x=10, y=20\n"
     ]
    }
   ],
   "source": [
    "h(x=10, y=20)"
   ]
  },
  {
   "cell_type": "code",
   "execution_count": null,
   "id": "8ecc09b8-01a3-45cf-b0e2-841f4b1c10ec",
   "metadata": {},
   "outputs": [],
   "source": []
  }
 ],
 "metadata": {
  "kernelspec": {
   "display_name": "Python 3 (ipykernel)",
   "language": "python",
   "name": "python3"
  },
  "language_info": {
   "codemirror_mode": {
    "name": "ipython",
    "version": 3
   },
   "file_extension": ".py",
   "mimetype": "text/x-python",
   "name": "python",
   "nbconvert_exporter": "python",
   "pygments_lexer": "ipython3",
   "version": "3.10.6"
  }
 },
 "nbformat": 4,
 "nbformat_minor": 5
}
