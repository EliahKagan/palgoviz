{
 "cells": [
  {
   "cell_type": "code",
   "execution_count": 1,
   "metadata": {},
   "outputs": [],
   "source": [
    "import functools"
   ]
  },
  {
   "cell_type": "markdown",
   "metadata": {},
   "source": [
    "# Generalizing code into a decorator\n",
    "\n",
    "See also `decwrapornot.ipynb` for more general information about when decorators should define and return a wrapper function vs. modifying or using information from the function passed as its argument and passing that through."
   ]
  },
  {
   "cell_type": "markdown",
   "metadata": {},
   "source": [
    "## Example 1: `@peek_arg`\n",
    "\n",
    "We have this function that squares its argument:"
   ]
  },
  {
   "cell_type": "code",
   "execution_count": 2,
   "metadata": {},
   "outputs": [],
   "source": [
    "def square(number):\n",
    "    \"\"\"Find the square of a value.\"\"\"\n",
    "    return number**2"
   ]
  },
  {
   "cell_type": "code",
   "execution_count": 3,
   "metadata": {},
   "outputs": [
    {
     "data": {
      "text/plain": [
       "9"
      ]
     },
     "execution_count": 3,
     "metadata": {},
     "output_type": "execute_result"
    }
   ],
   "source": [
    "square(3)"
   ]
  },
  {
   "cell_type": "markdown",
   "metadata": {},
   "source": [
    "Suppose we want&mdash;temporarily or permanently&mdash;to instrument it so it prints its argument when it is called:"
   ]
  },
  {
   "cell_type": "code",
   "execution_count": 4,
   "metadata": {},
   "outputs": [],
   "source": [
    "def square(number):\n",
    "    \"\"\"Find the square of a value. Log the call.\"\"\"\n",
    "    print(f'square({number})')\n",
    "    return number**2"
   ]
  },
  {
   "cell_type": "code",
   "execution_count": 5,
   "metadata": {},
   "outputs": [
    {
     "name": "stdout",
     "output_type": "stream",
     "text": [
      "square(3)\n"
     ]
    },
    {
     "data": {
      "text/plain": [
       "9"
      ]
     },
     "execution_count": 5,
     "metadata": {},
     "output_type": "execute_result"
    }
   ],
   "source": [
    "square(3)"
   ]
  },
  {
   "cell_type": "markdown",
   "metadata": {},
   "source": [
    "If this is all we want to do&mdash;add instrumentation to a single function&mdash;then a decorator may be overkill. Just adding a line of code to `square` is sufficient. But if we want to make this change to multiple functions, or if the change were more involved and we wanted to separate its logic from that of the function it instruments, then it is reasonable to consider extracting it to a decorator.\n",
    "\n",
    "We want to be able to put a decoration, `@peek_arg`, at the top of the definition of `square`, to cause `square` to have the added behavior of printing out how it was called. It would often be best to make `peek_arg` work on any function of any arity (and with or without keyword arguments), but for simplicity let&rsquo;s assume we are only interested in using it to instrument functions that we call with a single positional argument and no keyword arguments.\n",
    "\n",
    "Besides that, though, we don&rsquo;t know anything about the behavior of functions that we will decorate with `@peek_arg`. More precisely, whether or not we know that, we don&rsquo;t want to `@peek_arg` to rely on those details, since the whole point is to separate the logging functionality it performs from the behavior of the functions it will decorate.\n",
    "\n",
    "Because the behavior of the function `peek_arg` returns adds to the behavior of the function passed to it:\n",
    "\n",
    "- `peek_arg` will return a different function than the one passed to it, because the behavior of the function it returns will differ from the behavior of the function passed to it.\n",
    "\n",
    "- The behavior of the function `peek_arg` will return *includes* the behavior of the function passed to it. So the function `peek_arg` returns will call the function passed to `peek_arg`.\n",
    "\n",
    "To begin extracting the printing code to a decorator, we can make a function, `wrapper`, that works just like that:"
   ]
  },
  {
   "cell_type": "code",
   "execution_count": 6,
   "metadata": {},
   "outputs": [],
   "source": [
    "def square(number):\n",
    "    \"\"\"Find the square of a value.\"\"\"\n",
    "    return number**2"
   ]
  },
  {
   "cell_type": "code",
   "execution_count": 7,
   "metadata": {},
   "outputs": [],
   "source": [
    "def wrapper(number):\n",
    "    \"\"\"Find the square of a value. But first, report the function call.\"\"\"\n",
    "    print(f'square({number})')\n",
    "    return square(number)"
   ]
  },
  {
   "cell_type": "code",
   "execution_count": 8,
   "metadata": {},
   "outputs": [
    {
     "name": "stdout",
     "output_type": "stream",
     "text": [
      "square(3)\n"
     ]
    },
    {
     "data": {
      "text/plain": [
       "9"
      ]
     },
     "execution_count": 8,
     "metadata": {},
     "output_type": "execute_result"
    }
   ],
   "source": [
    "wrapper(3)"
   ]
  },
  {
   "cell_type": "markdown",
   "metadata": {},
   "source": [
    "Right now, `wrapper` depends on `square` beyond just referring to it by name, because it hard-codes the substring `square` in the interpolated string (the f-string) it prints. We can fix this by using `square.__name__` instead:"
   ]
  },
  {
   "cell_type": "code",
   "execution_count": 9,
   "metadata": {},
   "outputs": [],
   "source": [
    "def wrapper(number):\n",
    "    \"\"\"Find the square of a value. But first, report the function call.\"\"\"\n",
    "    print(f'{square.__name__}({number})')\n",
    "    return square(number)"
   ]
  },
  {
   "cell_type": "code",
   "execution_count": 10,
   "metadata": {},
   "outputs": [
    {
     "name": "stdout",
     "output_type": "stream",
     "text": [
      "square(3)\n"
     ]
    },
    {
     "data": {
      "text/plain": [
       "9"
      ]
     },
     "execution_count": 10,
     "metadata": {},
     "output_type": "execute_result"
    }
   ],
   "source": [
    "wrapper(3)"
   ]
  },
  {
   "cell_type": "markdown",
   "metadata": {},
   "source": [
    "Now that `wrapper`&rsquo;s only dependence on `square` is by the variable name `square`, we can create a factory function that takes this as a parameter and makes functions like `wrapper`. Doing this gives us:"
   ]
  },
  {
   "cell_type": "code",
   "execution_count": 11,
   "metadata": {},
   "outputs": [],
   "source": [
    "def peek_arg(square):\n",
    "    \"\"\"Decorator wrapping a unary function and showing calls to it.\"\"\"\n",
    "    def wrapper(number):\n",
    "        print(f'{square.__name__}({number})')\n",
    "        return square(number)\n",
    "    \n",
    "    return wrapper"
   ]
  },
  {
   "cell_type": "markdown",
   "metadata": {},
   "source": [
    "This no longer is specific to squaring, nor to functions whose argument is a number, so we can pick more general parameter/names:"
   ]
  },
  {
   "cell_type": "code",
   "execution_count": 12,
   "metadata": {},
   "outputs": [],
   "source": [
    "def peek_arg(func):\n",
    "    \"\"\"Decorator wrapping a unary function and showing calls to it.\"\"\"\n",
    "    def wrapper(arg):\n",
    "        print(f'{func.__name__}({arg})')\n",
    "        return func(arg)\n",
    "    \n",
    "    return wrapper"
   ]
  },
  {
   "cell_type": "markdown",
   "metadata": {},
   "source": [
    "We should also decorate `peek_arg` with `@functools.wraps(func)` so values of some important metadata attributes are copied from `func` to `wrapper`. This is desirable because `wrapper` will replace `func`&mdash;for example, it will be the function actually assigned to `square` when we decorate the definition of `square` with `@peek_arg`. Without doing this, anything that uses those metadata, such as doctest runners and the `help` builtin, will not work.\n",
    "\n",
    "For more information on `functools.wraps`, see [its documentation](https://docs.python.org/3/library/functools.html#functools.wraps) and the **&ldquo;Example 3: <code>@give_metadata_from(*wrapped*)</code>&rdquo;** section below."
   ]
  },
  {
   "cell_type": "code",
   "execution_count": 13,
   "metadata": {},
   "outputs": [],
   "source": [
    "def peek_arg(func):\n",
    "    \"\"\"Decorator wrapping a unary function and showing calls to it.\"\"\"\n",
    "    @functools.wraps(func)\n",
    "    def wrapper(arg):\n",
    "        print(f'{func.__name__}({arg})')\n",
    "        return func(arg)\n",
    "    \n",
    "    return wrapper"
   ]
  },
  {
   "cell_type": "markdown",
   "metadata": {},
   "source": [
    "It works on `square`:"
   ]
  },
  {
   "cell_type": "code",
   "execution_count": 14,
   "metadata": {},
   "outputs": [],
   "source": [
    "@peek_arg\n",
    "def square(number):\n",
    "    \"\"\"Find the square of a value. Log the call.\"\"\"\n",
    "    return number**2"
   ]
  },
  {
   "cell_type": "code",
   "execution_count": 15,
   "metadata": {},
   "outputs": [
    {
     "name": "stdout",
     "output_type": "stream",
     "text": [
      "square(3)\n"
     ]
    },
    {
     "data": {
      "text/plain": [
       "9"
      ]
     },
     "execution_count": 15,
     "metadata": {},
     "output_type": "execute_result"
    }
   ],
   "source": [
    "square(3)"
   ]
  },
  {
   "cell_type": "markdown",
   "metadata": {},
   "source": [
    "But just as well on other functions that are conceptually unrelated to `square`:"
   ]
  },
  {
   "cell_type": "code",
   "execution_count": 16,
   "metadata": {},
   "outputs": [],
   "source": [
    "@peek_arg\n",
    "def say_hi(name):\n",
    "    \"\"\"Say hi to someone, given their name. Log the call.\"\"\"\n",
    "    print(f'Hi, {name}!')"
   ]
  },
  {
   "cell_type": "code",
   "execution_count": 17,
   "metadata": {},
   "outputs": [
    {
     "name": "stdout",
     "output_type": "stream",
     "text": [
      "say_hi(Bob)\n",
      "Hi, Bob!\n"
     ]
    }
   ],
   "source": [
    "say_hi('Bob')"
   ]
  },
  {
   "cell_type": "markdown",
   "metadata": {},
   "source": [
    "Because we used `functools.wraps`, the metadata are available:"
   ]
  },
  {
   "cell_type": "code",
   "execution_count": 18,
   "metadata": {},
   "outputs": [
    {
     "name": "stdout",
     "output_type": "stream",
     "text": [
      "Help on function square in module __main__:\n",
      "\n",
      "square(number)\n",
      "    Find the square of a value. Log the call.\n",
      "\n"
     ]
    }
   ],
   "source": [
    "help(square)"
   ]
  },
  {
   "cell_type": "code",
   "execution_count": 19,
   "metadata": {},
   "outputs": [
    {
     "name": "stdout",
     "output_type": "stream",
     "text": [
      "Help on function say_hi in module __main__:\n",
      "\n",
      "say_hi(name)\n",
      "    Say hi to someone, given their name. Log the call.\n",
      "\n"
     ]
    }
   ],
   "source": [
    "help(say_hi)"
   ]
  },
  {
   "cell_type": "code",
   "execution_count": null,
   "metadata": {},
   "outputs": [],
   "source": []
  }
 ],
 "metadata": {
  "interpreter": {
   "hash": "018a3f4167f6de8fd21181e66f4a045a5773379a7073b014d3923b9f1fda5605"
  },
  "kernelspec": {
   "display_name": "Python 3.10.2 ('algoviz-basics')",
   "language": "python",
   "name": "python3"
  },
  "language_info": {
   "codemirror_mode": {
    "name": "ipython",
    "version": 3
   },
   "file_extension": ".py",
   "mimetype": "text/x-python",
   "name": "python",
   "nbconvert_exporter": "python",
   "pygments_lexer": "ipython3",
   "version": "3.10.2"
  },
  "orig_nbformat": 4
 },
 "nbformat": 4,
 "nbformat_minor": 2
}
