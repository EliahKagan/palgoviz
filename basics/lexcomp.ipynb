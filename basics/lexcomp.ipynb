{
 "cells": [
  {
   "cell_type": "markdown",
   "id": "ff130305-e30d-4822-bd1d-fbd71fb2f483",
   "metadata": {},
   "source": [
    "# Lexicographical comparisons"
   ]
  },
  {
   "cell_type": "markdown",
   "id": "2a111379-3816-4d74-a217-977d86511065",
   "metadata": {},
   "source": [
    "Suppose we don't need to support arbitrary weak orderings, but only total orderings. For many operations, including sorting, merging, and binary search, the most efficient way to implement them is still by doing only one kind of comparison: either by using only `<` and/or `>`, or by using only `<=` and/or `>=`, and in no case using `==` or `!=`.\n",
    "\n",
    "This does not usually affect *asymptotic* efficiency. But by having an algorithm only using one kind of comparison either all or most of the times it needs to compare objects, we can often achieve a factor of ~2 speedup compared to a more obvious yet more complicated design&mdash;if we take full advantage of the information obtained each time objects are compared. Another way of saying this is that when it is tempting to use more than one kind of comparison, or even to do something that is most naturally done with more than one kind of comparison, it is sometimes a sign that we are not making the most of our comparisons.\n",
    "\n",
    "**For example, consider `recursion.merge_two_alt`.** There is no need to check for equality specifically, and doing so would only add another operation that doesn't need to be done. Instead, if the right-side element needs to come before the left-side element, then it is merged in first, and otherwise the left-side element is merged in first. Stability is achieved not by checking for equal elements and making sure to do the right thing, but instead by writing the code in such a way that it never asks for the information it would need to do the wrong thing. (This is also how `recursion.merge_two` works, though it is a bit harder to see.)\n",
    "\n",
    "**As another example, consider `recursion.binary_search`.** As implemented, it is no faster than if it used both `<` and `==`, because for each pair of objects compared, those same objects are compared twice. This performs two comparisons to divide the search space into three parts: elements to the left of the element being exained, elements to the right of the element being examined, and the one element being examined. That is, one of the comparisons excludes half, or almost half, of the remaining elements from the search space, and then the other comparison excludes one, or all but one, element from the search space. This achieves a best-case time complexity of O(1), but at the cost of making the average and worst-case running times slower by a factor of ~2.\n",
    "\n",
    "This is okay for the binary search implementations in `recursion.py`, since we are only concerned with optimal *asymptotic* performance. But production quality binary search implementations avoid checking if the current element is a match until the very end, when the search space consists of just that element. Alternatively, they may not bother checking this at all, but just return an index to the beginning or end of where matching elements, if any, *would have to be*. Hence `bisect.bisect_left` and `bisect_bisect.right` in Python, and `std::lower_bound` and `std::upper_bound` in C++. (Reimplementing `bisect_left` and `bisect_right` will be the topic of some future exercises.)\n",
    "\n",
    "**In the Python standard library, supporting arbitrary weak orderings is not actually a design goal.** Instead, efficiency is a goal, so most comparison-based algorithms use only `<`, and documenting the minimum necessary interface to support comparison is a goal, so we can rely on `sorted`, `list.sort`, and algorithms in the `bisect` module using only `<`. Furthermore, `sorted` and `list.sort` guarantee stability, which they automatically achieve by using only `<`, including when a key selector function is used. Supporting arbitrary weak orderings is not a design goal, but it follows from other design goals and their documented solutions, and we can rely on it.\n",
    "\n",
    "**But some kinds of operations *slow down* by a factor of ~2, instead of speeding up, if only one kind of comparison is used.** Lexicographic comparison is such an operation. Suppose `a` and `b` are both lists, or tuples, or some other sequence supporting lexicograpic comparison. To compute `a < b` using only `<` would require that each pair of corresponding elements be compared twice before moving on to the next pair of elements. (Make sure you understand why.)\n",
    "\n",
    "In lexicographic comparison, the number of comparisons therefore decreases by about half if `==` is used until a mismatch is detected, and then `<` is used to determine which element is greater. This is actually still a situation where, to achieve best performance, almost all comparison work should be done by one kind of comparison, but here it is the opposite of the situation in binary search: in lexicogrphic comparison, all but one of the comparisons of sequence elements should be `==` instead of `<`. **So Python does it this way, and lexicographic comparison does not work properly with arbitary weak orderings on elements of the objects being compared.** To use lexicographic comparison, order comparisons on your elements should be totally ordered. This is explored and demonstrated more concretely below."
   ]
  },
  {
   "cell_type": "markdown",
   "id": "d896a469-a670-412d-bf50-7b66079abb6b",
   "metadata": {},
   "source": [
    "## Lexicographical `<` uses `==`\n",
    "\n",
    "So lexicographical comparisons work when elements are totally ordered but not for arbitrary weak orderings."
   ]
  },
  {
   "cell_type": "code",
   "execution_count": 1,
   "id": "595c06e5-fee8-41cd-9713-5d9ac731a015",
   "metadata": {},
   "outputs": [],
   "source": [
    "import logging"
   ]
  },
  {
   "cell_type": "code",
   "execution_count": 2,
   "id": "e53733f8-3710-416d-a63f-acbbe0b03b49",
   "metadata": {},
   "outputs": [],
   "source": [
    "class Noisy:\n",
    "    \"\"\"A wrapper that logs rich comparisons and hashing.\"\"\"\n",
    "    \n",
    "    __slots__ = ('_value',)\n",
    "    \n",
    "    def __init__(self, value):\n",
    "        \"\"\"Create a new Noisy wrapper for a given object.\"\"\"\n",
    "        self._value = value\n",
    "    \n",
    "    def __repr__(self):\n",
    "        \"\"\"Representation of this object for debugging.\"\"\"\n",
    "        return f'{type(self).__name__}({self._value!r})'\n",
    "    \n",
    "    def __str__(self):\n",
    "        \"\"\"Informal string representation, same as the wrapped object's.\"\"\"\n",
    "        return str(self._value)\n",
    "    \n",
    "    def __eq__(self, other):\n",
    "        \"\"\"Delegate to equality comparison for the wrapped object.\"\"\"\n",
    "        logging.info(f'{self!r}.__eq__({other!r})')\n",
    "        \n",
    "        if isinstance(other, type(self)):\n",
    "            if hasattr(type(self._value), '__eq__'):\n",
    "                return self._value.__eq__(other._value)\n",
    "        \n",
    "        return NotImplemented\n",
    "    \n",
    "    def __ne__(self, other):\n",
    "        \"\"\"Delegate to not-equal comparison for the wrapped object.\"\"\"\n",
    "        logging.info(f'{self!r}.__ne__({other!r})')\n",
    "        \n",
    "        if isinstance(other, type(self)):\n",
    "            if hasattr(type(self._value), '__ne__'):\n",
    "                return self._value.__ne__(other._value)\n",
    "        \n",
    "        return NotImplemented\n",
    "    \n",
    "    def __lt__(self, other):\n",
    "        \"\"\"Delegate to less-than comparison for the wrapped object.\"\"\"\n",
    "        logging.info(f'{self!r}.__lt__({other!r})')\n",
    "        \n",
    "        if isinstance(other, type(self)):\n",
    "            if hasattr(type(self._value), '__lt__'):\n",
    "                return self._value.__lt__(other._value)\n",
    "        \n",
    "        return NotImplemented\n",
    "    \n",
    "    def __gt__(self, other):\n",
    "        \"\"\"Delegate to greater-than comparison for the wrapped object.\"\"\"\n",
    "        logging.info(f'{self!r}.__gt__({other!r})')\n",
    "        \n",
    "        if isinstance(other, type(self)):\n",
    "            if hasattr(type(self._value), '__gt__'):\n",
    "                return self._value.__gt__(other._value)\n",
    "        \n",
    "        return NotImplemented\n",
    "\n",
    "    def __le__(self, other):\n",
    "        \"\"\"Delegate to less-or-equal comparison for the wrapped object.\"\"\"\n",
    "        logging.info(f'{self!r}.__le__({other!r})')\n",
    "        \n",
    "        if isinstance(other, type(self)):\n",
    "            if hasattr(type(self._value), '__le__'):\n",
    "                return self._value.__le__(other._value)\n",
    "        \n",
    "        return NotImplemented\n",
    "    \n",
    "    def __ge__(self, other):\n",
    "        \"\"\"Delegate to greater-or-equal comparison for the wrapped object.\"\"\"\n",
    "        logging.info(f'{self!r}.__ge__({other!r})')\n",
    "        \n",
    "        if isinstance(other, type(self)):\n",
    "            if hasattr(type(self._value), '__ge__'):\n",
    "                return self._value.__ge__(other._value)\n",
    "        \n",
    "        return NotImplemented\n",
    "    \n",
    "    def __hash__(self):\n",
    "        \"\"\"Delegate to the wrapped object's __hash__ and log the call.\"\"\"\n",
    "        logging.info(f'{self!r}.__hash__()')\n",
    "    \n",
    "    @property\n",
    "    def value(self):\n",
    "        \"\"\"The value this Noisy wrapper holds.\"\"\"\n",
    "        return self._value"
   ]
  },
  {
   "cell_type": "code",
   "execution_count": 3,
   "id": "780b307d-2ea4-4927-8b4e-296e34491d6d",
   "metadata": {},
   "outputs": [],
   "source": [
    "logging.getLogger().setLevel(logging.INFO)"
   ]
  },
  {
   "cell_type": "code",
   "execution_count": 4,
   "id": "a3a3e0ac-a26d-41ae-8c9f-ca8b5cfd50bc",
   "metadata": {},
   "outputs": [],
   "source": [
    "a = [*(Noisy(i) for i in range(1, 6)), Noisy(8)]\n",
    "b = [*(Noisy(i) for i in range(1, 6)), Noisy(9)]"
   ]
  },
  {
   "cell_type": "code",
   "execution_count": 5,
   "id": "c92cc498-cf57-4e9d-81c9-f5f5472477f7",
   "metadata": {},
   "outputs": [
    {
     "data": {
      "text/plain": [
       "[Noisy(1), Noisy(2), Noisy(3), Noisy(4), Noisy(5), Noisy(8)]"
      ]
     },
     "execution_count": 5,
     "metadata": {},
     "output_type": "execute_result"
    }
   ],
   "source": [
    "a"
   ]
  },
  {
   "cell_type": "code",
   "execution_count": 6,
   "id": "542166d4-da24-4b4e-8b1d-dbff47afbe74",
   "metadata": {},
   "outputs": [
    {
     "data": {
      "text/plain": [
       "[Noisy(1), Noisy(2), Noisy(3), Noisy(4), Noisy(5), Noisy(9)]"
      ]
     },
     "execution_count": 6,
     "metadata": {},
     "output_type": "execute_result"
    }
   ],
   "source": [
    "b"
   ]
  },
  {
   "cell_type": "markdown",
   "id": "bf3fa47e-4680-448a-8b68-7f44dffaa04b",
   "metadata": {},
   "source": [
    "### Lists&lsquo; `__eq__` and `__ne__` use elements&lsquo; `__eq__`.\n",
    "\n",
    "No surprise here."
   ]
  },
  {
   "cell_type": "code",
   "execution_count": 7,
   "id": "7bdd94f2-960f-4b77-bac4-239cc6848078",
   "metadata": {},
   "outputs": [
    {
     "name": "stderr",
     "output_type": "stream",
     "text": [
      "INFO:root:Noisy(1).__eq__(Noisy(1))\n",
      "INFO:root:Noisy(2).__eq__(Noisy(2))\n",
      "INFO:root:Noisy(3).__eq__(Noisy(3))\n",
      "INFO:root:Noisy(4).__eq__(Noisy(4))\n",
      "INFO:root:Noisy(5).__eq__(Noisy(5))\n",
      "INFO:root:Noisy(8).__eq__(Noisy(9))\n"
     ]
    },
    {
     "data": {
      "text/plain": [
       "False"
      ]
     },
     "execution_count": 7,
     "metadata": {},
     "output_type": "execute_result"
    }
   ],
   "source": [
    "a == b  # Uses __eq__. Anything different would be astonishing."
   ]
  },
  {
   "cell_type": "code",
   "execution_count": 8,
   "id": "3870b6ba-0220-4747-8b59-380a4c119358",
   "metadata": {},
   "outputs": [
    {
     "name": "stderr",
     "output_type": "stream",
     "text": [
      "INFO:root:Noisy(1).__eq__(Noisy(1))\n",
      "INFO:root:Noisy(2).__eq__(Noisy(2))\n",
      "INFO:root:Noisy(3).__eq__(Noisy(3))\n",
      "INFO:root:Noisy(4).__eq__(Noisy(4))\n",
      "INFO:root:Noisy(5).__eq__(Noisy(5))\n",
      "INFO:root:Noisy(8).__eq__(Noisy(9))\n"
     ]
    },
    {
     "data": {
      "text/plain": [
       "True"
      ]
     },
     "execution_count": 8,
     "metadata": {},
     "output_type": "execute_result"
    }
   ],
   "source": [
    "a != b  # Also uses __eq__, but that's still fine and unsurprising."
   ]
  },
  {
   "cell_type": "code",
   "execution_count": 9,
   "id": "73877c08-9bec-4b95-8bdd-cb01e09751ef",
   "metadata": {},
   "outputs": [
    {
     "name": "stderr",
     "output_type": "stream",
     "text": [
      "INFO:root:Noisy(1).__eq__(Noisy(1))\n",
      "INFO:root:Noisy(2).__eq__(Noisy(2))\n",
      "INFO:root:Noisy(3).__eq__(Noisy(3))\n",
      "INFO:root:Noisy(4).__eq__(Noisy(4))\n",
      "INFO:root:Noisy(5).__eq__(Noisy(5))\n",
      "INFO:root:Noisy(8).__eq__(Noisy(9))\n"
     ]
    },
    {
     "data": {
      "text/plain": [
       "False"
      ]
     },
     "execution_count": 9,
     "metadata": {},
     "output_type": "execute_result"
    }
   ],
   "source": [
    "a.__eq__(b)  # Same result as with == when we call __eq__ directly."
   ]
  },
  {
   "cell_type": "code",
   "execution_count": 10,
   "id": "d4926965-158f-47fa-a6bc-a135cdb48aee",
   "metadata": {},
   "outputs": [
    {
     "name": "stderr",
     "output_type": "stream",
     "text": [
      "INFO:root:Noisy(1).__eq__(Noisy(1))\n",
      "INFO:root:Noisy(2).__eq__(Noisy(2))\n",
      "INFO:root:Noisy(3).__eq__(Noisy(3))\n",
      "INFO:root:Noisy(4).__eq__(Noisy(4))\n",
      "INFO:root:Noisy(5).__eq__(Noisy(5))\n",
      "INFO:root:Noisy(8).__eq__(Noisy(9))\n"
     ]
    },
    {
     "data": {
      "text/plain": [
       "True"
      ]
     },
     "execution_count": 10,
     "metadata": {},
     "output_type": "execute_result"
    }
   ],
   "source": [
    "a.__ne__(b)  # Same result as with != when we call __ne__ directly."
   ]
  },
  {
   "cell_type": "markdown",
   "id": "c2c0e13a-7891-4f26-879e-439b75e0bb71",
   "metadata": {},
   "source": [
    "### Lists&rsquo; `__lt__`, `__gt__`, `__le__`, `__ge__` use elements&rsquo; `__eq__`!"
   ]
  },
  {
   "cell_type": "markdown",
   "id": "b934a2d0-d0b9-4b99-9f8e-13f2748f24c1",
   "metadata": {},
   "source": [
    "Lexicographical order comparisons use `==` until they find differing elements, or until at least one sequence is exhausted, then they use the order-comparison operator you used to find out which direction the disparity is in.\n",
    "\n",
    "This is the case both for the strict (`<` and `>`) and non-strict (`<=` and `>=`) order comparison operators."
   ]
  },
  {
   "cell_type": "code",
   "execution_count": 11,
   "id": "5db3a83a-68b1-4e96-a0ed-ef817ff15a2a",
   "metadata": {},
   "outputs": [
    {
     "name": "stderr",
     "output_type": "stream",
     "text": [
      "INFO:root:Noisy(1).__eq__(Noisy(1))\n",
      "INFO:root:Noisy(2).__eq__(Noisy(2))\n",
      "INFO:root:Noisy(3).__eq__(Noisy(3))\n",
      "INFO:root:Noisy(4).__eq__(Noisy(4))\n",
      "INFO:root:Noisy(5).__eq__(Noisy(5))\n",
      "INFO:root:Noisy(8).__eq__(Noisy(9))\n",
      "INFO:root:Noisy(8).__lt__(Noisy(9))\n"
     ]
    },
    {
     "data": {
      "text/plain": [
       "True"
      ]
     },
     "execution_count": 11,
     "metadata": {},
     "output_type": "execute_result"
    }
   ],
   "source": [
    "a < b"
   ]
  },
  {
   "cell_type": "code",
   "execution_count": 12,
   "id": "9980bdda-065d-4192-b3b4-048c8a1cd398",
   "metadata": {},
   "outputs": [
    {
     "name": "stderr",
     "output_type": "stream",
     "text": [
      "INFO:root:Noisy(1).__eq__(Noisy(1))\n",
      "INFO:root:Noisy(2).__eq__(Noisy(2))\n",
      "INFO:root:Noisy(3).__eq__(Noisy(3))\n",
      "INFO:root:Noisy(4).__eq__(Noisy(4))\n",
      "INFO:root:Noisy(5).__eq__(Noisy(5))\n",
      "INFO:root:Noisy(8).__eq__(Noisy(9))\n",
      "INFO:root:Noisy(8).__gt__(Noisy(9))\n"
     ]
    },
    {
     "data": {
      "text/plain": [
       "False"
      ]
     },
     "execution_count": 12,
     "metadata": {},
     "output_type": "execute_result"
    }
   ],
   "source": [
    "a > b"
   ]
  },
  {
   "cell_type": "code",
   "execution_count": 13,
   "id": "897711e7-34ae-4399-bf2c-b8e99605095b",
   "metadata": {},
   "outputs": [
    {
     "name": "stderr",
     "output_type": "stream",
     "text": [
      "INFO:root:Noisy(1).__eq__(Noisy(1))\n",
      "INFO:root:Noisy(2).__eq__(Noisy(2))\n",
      "INFO:root:Noisy(3).__eq__(Noisy(3))\n",
      "INFO:root:Noisy(4).__eq__(Noisy(4))\n",
      "INFO:root:Noisy(5).__eq__(Noisy(5))\n",
      "INFO:root:Noisy(8).__eq__(Noisy(9))\n",
      "INFO:root:Noisy(8).__le__(Noisy(9))\n"
     ]
    },
    {
     "data": {
      "text/plain": [
       "True"
      ]
     },
     "execution_count": 13,
     "metadata": {},
     "output_type": "execute_result"
    }
   ],
   "source": [
    "a <= b"
   ]
  },
  {
   "cell_type": "code",
   "execution_count": 14,
   "id": "5aee3acf-9258-4f0b-843d-70dfe9072fa1",
   "metadata": {},
   "outputs": [
    {
     "name": "stderr",
     "output_type": "stream",
     "text": [
      "INFO:root:Noisy(1).__eq__(Noisy(1))\n",
      "INFO:root:Noisy(2).__eq__(Noisy(2))\n",
      "INFO:root:Noisy(3).__eq__(Noisy(3))\n",
      "INFO:root:Noisy(4).__eq__(Noisy(4))\n",
      "INFO:root:Noisy(5).__eq__(Noisy(5))\n",
      "INFO:root:Noisy(8).__eq__(Noisy(9))\n",
      "INFO:root:Noisy(8).__ge__(Noisy(9))\n"
     ]
    },
    {
     "data": {
      "text/plain": [
       "False"
      ]
     },
     "execution_count": 14,
     "metadata": {},
     "output_type": "execute_result"
    }
   ],
   "source": [
    "a >= b"
   ]
  },
  {
   "cell_type": "code",
   "execution_count": 15,
   "id": "687c008e-833b-4687-be24-6f4b1a6f01f9",
   "metadata": {},
   "outputs": [
    {
     "name": "stderr",
     "output_type": "stream",
     "text": [
      "INFO:root:Noisy(1).__eq__(Noisy(1))\n",
      "INFO:root:Noisy(2).__eq__(Noisy(2))\n",
      "INFO:root:Noisy(3).__eq__(Noisy(3))\n",
      "INFO:root:Noisy(4).__eq__(Noisy(4))\n",
      "INFO:root:Noisy(5).__eq__(Noisy(5))\n",
      "INFO:root:Noisy(8).__eq__(Noisy(9))\n",
      "INFO:root:Noisy(8).__lt__(Noisy(9))\n"
     ]
    },
    {
     "data": {
      "text/plain": [
       "True"
      ]
     },
     "execution_count": 15,
     "metadata": {},
     "output_type": "execute_result"
    }
   ],
   "source": [
    "a.__lt__(b)  # Same result as with < when we call __lt__ directly."
   ]
  },
  {
   "cell_type": "code",
   "execution_count": 16,
   "id": "157ccf69-68c5-4a96-8c4a-63e6019d9182",
   "metadata": {},
   "outputs": [
    {
     "name": "stderr",
     "output_type": "stream",
     "text": [
      "INFO:root:Noisy(1).__eq__(Noisy(1))\n",
      "INFO:root:Noisy(2).__eq__(Noisy(2))\n",
      "INFO:root:Noisy(3).__eq__(Noisy(3))\n",
      "INFO:root:Noisy(4).__eq__(Noisy(4))\n",
      "INFO:root:Noisy(5).__eq__(Noisy(5))\n",
      "INFO:root:Noisy(8).__eq__(Noisy(9))\n",
      "INFO:root:Noisy(8).__gt__(Noisy(9))\n"
     ]
    },
    {
     "data": {
      "text/plain": [
       "False"
      ]
     },
     "execution_count": 16,
     "metadata": {},
     "output_type": "execute_result"
    }
   ],
   "source": [
    "a.__gt__(b)  # Same result as with > when we call __gt__ directly."
   ]
  },
  {
   "cell_type": "code",
   "execution_count": 17,
   "id": "97694bf3-999d-4dd4-9d50-969e94c775ca",
   "metadata": {},
   "outputs": [
    {
     "name": "stderr",
     "output_type": "stream",
     "text": [
      "INFO:root:Noisy(1).__eq__(Noisy(1))\n",
      "INFO:root:Noisy(2).__eq__(Noisy(2))\n",
      "INFO:root:Noisy(3).__eq__(Noisy(3))\n",
      "INFO:root:Noisy(4).__eq__(Noisy(4))\n",
      "INFO:root:Noisy(5).__eq__(Noisy(5))\n",
      "INFO:root:Noisy(8).__eq__(Noisy(9))\n",
      "INFO:root:Noisy(8).__le__(Noisy(9))\n"
     ]
    },
    {
     "data": {
      "text/plain": [
       "True"
      ]
     },
     "execution_count": 17,
     "metadata": {},
     "output_type": "execute_result"
    }
   ],
   "source": [
    "a.__le__(b)  # Same result as with <= when we call __le__ directly."
   ]
  },
  {
   "cell_type": "code",
   "execution_count": 18,
   "id": "6169481b-636d-44ab-acfa-d69837bd1688",
   "metadata": {},
   "outputs": [
    {
     "name": "stderr",
     "output_type": "stream",
     "text": [
      "INFO:root:Noisy(1).__eq__(Noisy(1))\n",
      "INFO:root:Noisy(2).__eq__(Noisy(2))\n",
      "INFO:root:Noisy(3).__eq__(Noisy(3))\n",
      "INFO:root:Noisy(4).__eq__(Noisy(4))\n",
      "INFO:root:Noisy(5).__eq__(Noisy(5))\n",
      "INFO:root:Noisy(8).__eq__(Noisy(9))\n",
      "INFO:root:Noisy(8).__ge__(Noisy(9))\n"
     ]
    },
    {
     "data": {
      "text/plain": [
       "False"
      ]
     },
     "execution_count": 18,
     "metadata": {},
     "output_type": "execute_result"
    }
   ],
   "source": [
    "a.__ge__(b)  # Same result as with <= when we call __ge__ directly."
   ]
  },
  {
   "cell_type": "markdown",
   "id": "7887a514-428c-419f-8972-b6df26888918",
   "metadata": {},
   "source": [
    "### So you can&rsquo;t use it with arbitrary weak orderings.\n",
    "\n",
    "Lexicographical order comparison in Python uses equality comparison to find the first position (if any) where objects differ, only then doing the order comparison. This always works with total orderings, but it would not usually work with non-total weak orderings."
   ]
  },
  {
   "cell_type": "code",
   "execution_count": 19,
   "id": "7a06612a-6d73-4f09-8f9b-b53b28178d42",
   "metadata": {},
   "outputs": [],
   "source": [
    "from compare import OrderIndistinct"
   ]
  },
  {
   "cell_type": "code",
   "execution_count": 20,
   "id": "7d8d9b2b-71c2-4a8f-92e9-61df5a651d44",
   "metadata": {},
   "outputs": [],
   "source": [
    "c = [OrderIndistinct('C'), 10]\n",
    "d = [OrderIndistinct('D'), 20]"
   ]
  },
  {
   "cell_type": "code",
   "execution_count": 21,
   "id": "553e9047-02cf-4c6b-b861-631a6c12a1f4",
   "metadata": {},
   "outputs": [
    {
     "data": {
      "text/plain": [
       "False"
      ]
     },
     "execution_count": 21,
     "metadata": {},
     "output_type": "execute_result"
    }
   ],
   "source": [
    "c < d  # We would want this to be True, since 10 < 20."
   ]
  },
  {
   "cell_type": "code",
   "execution_count": 22,
   "id": "dca54629-d1e4-459b-8742-6d8040abffa5",
   "metadata": {},
   "outputs": [
    {
     "data": {
      "text/plain": [
       "False"
      ]
     },
     "execution_count": 22,
     "metadata": {},
     "output_type": "execute_result"
    }
   ],
   "source": [
    "c > d  # False, but not for the reason we want it to be."
   ]
  },
  {
   "cell_type": "markdown",
   "id": "51bac852-9685-4c45-a410-6410dbf63a8c",
   "metadata": {},
   "source": [
    "The second element never got compared, as this reveals:"
   ]
  },
  {
   "cell_type": "code",
   "execution_count": 23,
   "id": "41cf42f6-de0c-4a2c-a5f2-b2af5325d9c4",
   "metadata": {},
   "outputs": [],
   "source": [
    "cc = [OrderIndistinct('CC'), Noisy(10)]\n",
    "dd = [OrderIndistinct('DD'), Noisy(20)]"
   ]
  },
  {
   "cell_type": "code",
   "execution_count": 24,
   "id": "bb1be6c5-7959-4002-8367-01a2c4ff4f84",
   "metadata": {},
   "outputs": [
    {
     "data": {
      "text/plain": [
       "False"
      ]
     },
     "execution_count": 24,
     "metadata": {},
     "output_type": "execute_result"
    }
   ],
   "source": [
    "c < d"
   ]
  },
  {
   "cell_type": "code",
   "execution_count": 25,
   "id": "ef9bf549-f34b-4423-ab02-73f30a0de0f7",
   "metadata": {},
   "outputs": [
    {
     "data": {
      "text/plain": [
       "False"
      ]
     },
     "execution_count": 25,
     "metadata": {},
     "output_type": "execute_result"
    }
   ],
   "source": [
    "c > d"
   ]
  },
  {
   "cell_type": "markdown",
   "id": "f1e64a2e-177a-42f1-856c-3269dd1c0f2e",
   "metadata": {},
   "source": [
    "`Noisy` didn&rsquo;t log anything, so in neither case were the second elements compared."
   ]
  },
  {
   "cell_type": "code",
   "execution_count": null,
   "id": "1f07b79c-67ee-4cd7-ae0e-c758b705ddfc",
   "metadata": {},
   "outputs": [],
   "source": []
  }
 ],
 "metadata": {
  "kernelspec": {
   "display_name": "Python 3 (ipykernel)",
   "language": "python",
   "name": "python3"
  },
  "language_info": {
   "codemirror_mode": {
    "name": "ipython",
    "version": 3
   },
   "file_extension": ".py",
   "mimetype": "text/x-python",
   "name": "python",
   "nbconvert_exporter": "python",
   "pygments_lexer": "ipython3",
   "version": "3.10.5"
  }
 },
 "nbformat": 4,
 "nbformat_minor": 5
}
