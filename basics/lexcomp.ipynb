{
 "cells": [
  {
   "cell_type": "markdown",
   "id": "ff130305-e30d-4822-bd1d-fbd71fb2f483",
   "metadata": {},
   "source": [
    "# Lexicographical comparisons"
   ]
  },
  {
   "cell_type": "markdown",
   "id": "d896a469-a670-412d-bf50-7b66079abb6b",
   "metadata": {},
   "source": [
    "## Lexicographical `<` uses `==`\n",
    "\n",
    "Thus lexicographical comparisons work when elements are totally ordered but not for arbitrary weak orderings."
   ]
  },
  {
   "cell_type": "code",
   "execution_count": 1,
   "id": "595c06e5-fee8-41cd-9713-5d9ac731a015",
   "metadata": {},
   "outputs": [],
   "source": [
    "import logging"
   ]
  },
  {
   "cell_type": "code",
   "execution_count": 2,
   "id": "e53733f8-3710-416d-a63f-acbbe0b03b49",
   "metadata": {},
   "outputs": [],
   "source": [
    "class Noisy:\n",
    "    \"\"\"A wrapper that logs rich comparisons and hashing.\"\"\"\n",
    "    \n",
    "    __slots__ = ('_value',)\n",
    "    \n",
    "    def __init__(self, value):\n",
    "        \"\"\"Create a new Noisy wrapper for a given object.\"\"\"\n",
    "        self._value = value\n",
    "    \n",
    "    def __repr__(self):\n",
    "        \"\"\"Representation of this object for debugging.\"\"\"\n",
    "        return f'{type(self).__name__}({self._value})'\n",
    "    \n",
    "    def __str__(self):\n",
    "        \"\"\"Informal string representation, same as the wrapped object's.\"\"\"\n",
    "        return str(self._value)\n",
    "    \n",
    "    def __eq__(self, other):\n",
    "        \"\"\"Delegate to equality comparison for the wrapped object.\"\"\"\n",
    "        logging.info(f'{self!r}.__eq__({other!r})')\n",
    "        \n",
    "        if isinstance(other, type(self)):\n",
    "            if hasattr(type(self._value), '__eq__'):\n",
    "                return self._value.__eq__(other._value)\n",
    "        \n",
    "        return NotImplemented\n",
    "    \n",
    "    def __ne__(self, other):\n",
    "        \"\"\"Delegate to not-equal comparison for the wrapped object.\"\"\"\n",
    "        logging.info(f'{self!r}.__ne__({other!r})')\n",
    "        \n",
    "        if isinstance(other, type(self)):\n",
    "            if hasattr(type(self._value), '__ne__'):\n",
    "                return self._value.__ne__(other._value)\n",
    "        \n",
    "        return NotImplemented\n",
    "    \n",
    "    def __lt__(self, other):\n",
    "        \"\"\"Delegate to less-than comparison for the wrapped object.\"\"\"\n",
    "        logging.info(f'{self!r}.__lt__({other!r})')\n",
    "        \n",
    "        if isinstance(other, type(self)):\n",
    "            if hasattr(type(self._value), '__lt__'):\n",
    "                return self._value.__lt__(other._value)\n",
    "        \n",
    "        return NotImplemented\n",
    "    \n",
    "    def __gt__(self, other):\n",
    "        \"\"\"Delegate to greater-than comparison for the wrapped object.\"\"\"\n",
    "        logging.info(f'{self!r}.__gt__({other!r})')\n",
    "        \n",
    "        if isinstance(other, type(self)):\n",
    "            if hasattr(type(self._value), '__gt__'):\n",
    "                return self._value.__gt__(other._value)\n",
    "        \n",
    "        return NotImplemented\n",
    "\n",
    "    def __le__(self, other):\n",
    "        \"\"\"Delegate to less-or-equal comparison for the wrapped object.\"\"\"\n",
    "        logging.info(f'{self!r}.__le__({other!r})')\n",
    "        \n",
    "        if isinstance(other, type(self)):\n",
    "            if hasattr(type(self._value), '__le__'):\n",
    "                return self._value.__le__(other._value)\n",
    "        \n",
    "        return NotImplemented\n",
    "    \n",
    "    def __ge__(self, other):\n",
    "        \"\"\"Delegate to greater-or-equal comparison for the wrapped object.\"\"\"\n",
    "        logging.info(f'{self!r}.__ge__({other!r})')\n",
    "        \n",
    "        if isinstance(other, type(self)):\n",
    "            if hasattr(type(self._value), '__ge__'):\n",
    "                return self._value.__ge__(other._value)\n",
    "        \n",
    "        return NotImplemented\n",
    "    \n",
    "    def __hash__(self):\n",
    "        \"\"\"Delegate to the wrapped object's __hash__ and log the call.\"\"\"\n",
    "        logging.info(f'{self!r}.__hash__()')\n",
    "    \n",
    "    @property\n",
    "    def value(self):\n",
    "        \"\"\"The value this Noisy wrapper holds.\"\"\"\n",
    "        return self._value"
   ]
  },
  {
   "cell_type": "code",
   "execution_count": 3,
   "id": "780b307d-2ea4-4927-8b4e-296e34491d6d",
   "metadata": {},
   "outputs": [],
   "source": [
    "logging.getLogger().setLevel(logging.INFO)"
   ]
  },
  {
   "cell_type": "code",
   "execution_count": 4,
   "id": "a3a3e0ac-a26d-41ae-8c9f-ca8b5cfd50bc",
   "metadata": {},
   "outputs": [],
   "source": [
    "a = [*(Noisy(i) for i in range(1, 6)), Noisy(8)]\n",
    "b = [*(Noisy(i) for i in range(1, 6)), Noisy(9)]"
   ]
  },
  {
   "cell_type": "code",
   "execution_count": 5,
   "id": "c92cc498-cf57-4e9d-81c9-f5f5472477f7",
   "metadata": {},
   "outputs": [
    {
     "data": {
      "text/plain": [
       "[Noisy(1), Noisy(2), Noisy(3), Noisy(4), Noisy(5), Noisy(8)]"
      ]
     },
     "execution_count": 5,
     "metadata": {},
     "output_type": "execute_result"
    }
   ],
   "source": [
    "a"
   ]
  },
  {
   "cell_type": "code",
   "execution_count": 6,
   "id": "542166d4-da24-4b4e-8b1d-dbff47afbe74",
   "metadata": {},
   "outputs": [
    {
     "data": {
      "text/plain": [
       "[Noisy(1), Noisy(2), Noisy(3), Noisy(4), Noisy(5), Noisy(9)]"
      ]
     },
     "execution_count": 6,
     "metadata": {},
     "output_type": "execute_result"
    }
   ],
   "source": [
    "b"
   ]
  },
  {
   "cell_type": "markdown",
   "id": "bf3fa47e-4680-448a-8b68-7f44dffaa04b",
   "metadata": {},
   "source": [
    "### Lists&lsquo; `__eq__` and `__ne__` use elements&lsquo; `__eq__`.\n",
    "\n",
    "No surprise here."
   ]
  },
  {
   "cell_type": "code",
   "execution_count": 7,
   "id": "7bdd94f2-960f-4b77-bac4-239cc6848078",
   "metadata": {},
   "outputs": [
    {
     "name": "stderr",
     "output_type": "stream",
     "text": [
      "INFO:root:Noisy(1).__eq__(Noisy(1))\n",
      "INFO:root:Noisy(2).__eq__(Noisy(2))\n",
      "INFO:root:Noisy(3).__eq__(Noisy(3))\n",
      "INFO:root:Noisy(4).__eq__(Noisy(4))\n",
      "INFO:root:Noisy(5).__eq__(Noisy(5))\n",
      "INFO:root:Noisy(8).__eq__(Noisy(9))\n"
     ]
    },
    {
     "data": {
      "text/plain": [
       "False"
      ]
     },
     "execution_count": 7,
     "metadata": {},
     "output_type": "execute_result"
    }
   ],
   "source": [
    "a == b # Uses __eq__. Anything different would be astonishing."
   ]
  },
  {
   "cell_type": "code",
   "execution_count": 8,
   "id": "3870b6ba-0220-4747-8b59-380a4c119358",
   "metadata": {},
   "outputs": [
    {
     "name": "stderr",
     "output_type": "stream",
     "text": [
      "INFO:root:Noisy(1).__eq__(Noisy(1))\n",
      "INFO:root:Noisy(2).__eq__(Noisy(2))\n",
      "INFO:root:Noisy(3).__eq__(Noisy(3))\n",
      "INFO:root:Noisy(4).__eq__(Noisy(4))\n",
      "INFO:root:Noisy(5).__eq__(Noisy(5))\n",
      "INFO:root:Noisy(8).__eq__(Noisy(9))\n"
     ]
    },
    {
     "data": {
      "text/plain": [
       "True"
      ]
     },
     "execution_count": 8,
     "metadata": {},
     "output_type": "execute_result"
    }
   ],
   "source": [
    "a != b  # Also uses __eq__, but that's still fine and unsurprising."
   ]
  },
  {
   "cell_type": "code",
   "execution_count": 9,
   "id": "73877c08-9bec-4b95-8bdd-cb01e09751ef",
   "metadata": {},
   "outputs": [
    {
     "name": "stderr",
     "output_type": "stream",
     "text": [
      "INFO:root:Noisy(1).__eq__(Noisy(1))\n",
      "INFO:root:Noisy(2).__eq__(Noisy(2))\n",
      "INFO:root:Noisy(3).__eq__(Noisy(3))\n",
      "INFO:root:Noisy(4).__eq__(Noisy(4))\n",
      "INFO:root:Noisy(5).__eq__(Noisy(5))\n",
      "INFO:root:Noisy(8).__eq__(Noisy(9))\n"
     ]
    },
    {
     "data": {
      "text/plain": [
       "False"
      ]
     },
     "execution_count": 9,
     "metadata": {},
     "output_type": "execute_result"
    }
   ],
   "source": [
    "a.__eq__(b)  # Same result as with == when we call __eq__ directly."
   ]
  },
  {
   "cell_type": "code",
   "execution_count": 10,
   "id": "d4926965-158f-47fa-a6bc-a135cdb48aee",
   "metadata": {},
   "outputs": [
    {
     "name": "stderr",
     "output_type": "stream",
     "text": [
      "INFO:root:Noisy(1).__eq__(Noisy(1))\n",
      "INFO:root:Noisy(2).__eq__(Noisy(2))\n",
      "INFO:root:Noisy(3).__eq__(Noisy(3))\n",
      "INFO:root:Noisy(4).__eq__(Noisy(4))\n",
      "INFO:root:Noisy(5).__eq__(Noisy(5))\n",
      "INFO:root:Noisy(8).__eq__(Noisy(9))\n"
     ]
    },
    {
     "data": {
      "text/plain": [
       "True"
      ]
     },
     "execution_count": 10,
     "metadata": {},
     "output_type": "execute_result"
    }
   ],
   "source": [
    "a.__ne__(b)  # Same result as with != when we call __ne__ directly."
   ]
  },
  {
   "cell_type": "markdown",
   "id": "c2c0e13a-7891-4f26-879e-439b75e0bb71",
   "metadata": {},
   "source": [
    "### Lists&rsquo; `__lt__`, `__gt__`, `__le__`, `__ge__` use elements&rsquo; `__eq__`!"
   ]
  },
  {
   "cell_type": "markdown",
   "id": "b934a2d0-d0b9-4b99-9f8e-13f2748f24c1",
   "metadata": {},
   "source": [
    "Lexicographical order comparisons use `==` until they find differing elements, or until at least one sequence is exhausted, then they use the order-comparison operator you used to find out which direction the disparity is in.\n",
    "\n",
    "This is the case both for the strict (`<` and `>`) and non-strict (`<=` and `>=`) order comparison operators."
   ]
  },
  {
   "cell_type": "code",
   "execution_count": 11,
   "id": "5db3a83a-68b1-4e96-a0ed-ef817ff15a2a",
   "metadata": {},
   "outputs": [
    {
     "name": "stderr",
     "output_type": "stream",
     "text": [
      "INFO:root:Noisy(1).__eq__(Noisy(1))\n",
      "INFO:root:Noisy(2).__eq__(Noisy(2))\n",
      "INFO:root:Noisy(3).__eq__(Noisy(3))\n",
      "INFO:root:Noisy(4).__eq__(Noisy(4))\n",
      "INFO:root:Noisy(5).__eq__(Noisy(5))\n",
      "INFO:root:Noisy(8).__eq__(Noisy(9))\n",
      "INFO:root:Noisy(8).__lt__(Noisy(9))\n"
     ]
    },
    {
     "data": {
      "text/plain": [
       "True"
      ]
     },
     "execution_count": 11,
     "metadata": {},
     "output_type": "execute_result"
    }
   ],
   "source": [
    "a < b"
   ]
  },
  {
   "cell_type": "code",
   "execution_count": 12,
   "id": "9980bdda-065d-4192-b3b4-048c8a1cd398",
   "metadata": {},
   "outputs": [
    {
     "name": "stderr",
     "output_type": "stream",
     "text": [
      "INFO:root:Noisy(1).__eq__(Noisy(1))\n",
      "INFO:root:Noisy(2).__eq__(Noisy(2))\n",
      "INFO:root:Noisy(3).__eq__(Noisy(3))\n",
      "INFO:root:Noisy(4).__eq__(Noisy(4))\n",
      "INFO:root:Noisy(5).__eq__(Noisy(5))\n",
      "INFO:root:Noisy(8).__eq__(Noisy(9))\n",
      "INFO:root:Noisy(8).__gt__(Noisy(9))\n"
     ]
    },
    {
     "data": {
      "text/plain": [
       "False"
      ]
     },
     "execution_count": 12,
     "metadata": {},
     "output_type": "execute_result"
    }
   ],
   "source": [
    "a > b"
   ]
  },
  {
   "cell_type": "code",
   "execution_count": 13,
   "id": "897711e7-34ae-4399-bf2c-b8e99605095b",
   "metadata": {},
   "outputs": [
    {
     "name": "stderr",
     "output_type": "stream",
     "text": [
      "INFO:root:Noisy(1).__eq__(Noisy(1))\n",
      "INFO:root:Noisy(2).__eq__(Noisy(2))\n",
      "INFO:root:Noisy(3).__eq__(Noisy(3))\n",
      "INFO:root:Noisy(4).__eq__(Noisy(4))\n",
      "INFO:root:Noisy(5).__eq__(Noisy(5))\n",
      "INFO:root:Noisy(8).__eq__(Noisy(9))\n",
      "INFO:root:Noisy(8).__le__(Noisy(9))\n"
     ]
    },
    {
     "data": {
      "text/plain": [
       "True"
      ]
     },
     "execution_count": 13,
     "metadata": {},
     "output_type": "execute_result"
    }
   ],
   "source": [
    "a <= b"
   ]
  },
  {
   "cell_type": "code",
   "execution_count": 14,
   "id": "5aee3acf-9258-4f0b-843d-70dfe9072fa1",
   "metadata": {},
   "outputs": [
    {
     "name": "stderr",
     "output_type": "stream",
     "text": [
      "INFO:root:Noisy(1).__eq__(Noisy(1))\n",
      "INFO:root:Noisy(2).__eq__(Noisy(2))\n",
      "INFO:root:Noisy(3).__eq__(Noisy(3))\n",
      "INFO:root:Noisy(4).__eq__(Noisy(4))\n",
      "INFO:root:Noisy(5).__eq__(Noisy(5))\n",
      "INFO:root:Noisy(8).__eq__(Noisy(9))\n",
      "INFO:root:Noisy(8).__ge__(Noisy(9))\n"
     ]
    },
    {
     "data": {
      "text/plain": [
       "False"
      ]
     },
     "execution_count": 14,
     "metadata": {},
     "output_type": "execute_result"
    }
   ],
   "source": [
    "a >= b"
   ]
  },
  {
   "cell_type": "code",
   "execution_count": 15,
   "id": "687c008e-833b-4687-be24-6f4b1a6f01f9",
   "metadata": {},
   "outputs": [
    {
     "name": "stderr",
     "output_type": "stream",
     "text": [
      "INFO:root:Noisy(1).__eq__(Noisy(1))\n",
      "INFO:root:Noisy(2).__eq__(Noisy(2))\n",
      "INFO:root:Noisy(3).__eq__(Noisy(3))\n",
      "INFO:root:Noisy(4).__eq__(Noisy(4))\n",
      "INFO:root:Noisy(5).__eq__(Noisy(5))\n",
      "INFO:root:Noisy(8).__eq__(Noisy(9))\n",
      "INFO:root:Noisy(8).__lt__(Noisy(9))\n"
     ]
    },
    {
     "data": {
      "text/plain": [
       "True"
      ]
     },
     "execution_count": 15,
     "metadata": {},
     "output_type": "execute_result"
    }
   ],
   "source": [
    "a.__lt__(b)  # Same result as with < when we call __lt__ directly."
   ]
  },
  {
   "cell_type": "code",
   "execution_count": 16,
   "id": "157ccf69-68c5-4a96-8c4a-63e6019d9182",
   "metadata": {},
   "outputs": [
    {
     "name": "stderr",
     "output_type": "stream",
     "text": [
      "INFO:root:Noisy(1).__eq__(Noisy(1))\n",
      "INFO:root:Noisy(2).__eq__(Noisy(2))\n",
      "INFO:root:Noisy(3).__eq__(Noisy(3))\n",
      "INFO:root:Noisy(4).__eq__(Noisy(4))\n",
      "INFO:root:Noisy(5).__eq__(Noisy(5))\n",
      "INFO:root:Noisy(8).__eq__(Noisy(9))\n",
      "INFO:root:Noisy(8).__gt__(Noisy(9))\n"
     ]
    },
    {
     "data": {
      "text/plain": [
       "False"
      ]
     },
     "execution_count": 16,
     "metadata": {},
     "output_type": "execute_result"
    }
   ],
   "source": [
    "a.__gt__(b)  # Same result as with > when we call __gt__ directly."
   ]
  },
  {
   "cell_type": "code",
   "execution_count": 17,
   "id": "97694bf3-999d-4dd4-9d50-969e94c775ca",
   "metadata": {},
   "outputs": [
    {
     "name": "stderr",
     "output_type": "stream",
     "text": [
      "INFO:root:Noisy(1).__eq__(Noisy(1))\n",
      "INFO:root:Noisy(2).__eq__(Noisy(2))\n",
      "INFO:root:Noisy(3).__eq__(Noisy(3))\n",
      "INFO:root:Noisy(4).__eq__(Noisy(4))\n",
      "INFO:root:Noisy(5).__eq__(Noisy(5))\n",
      "INFO:root:Noisy(8).__eq__(Noisy(9))\n",
      "INFO:root:Noisy(8).__le__(Noisy(9))\n"
     ]
    },
    {
     "data": {
      "text/plain": [
       "True"
      ]
     },
     "execution_count": 17,
     "metadata": {},
     "output_type": "execute_result"
    }
   ],
   "source": [
    "a.__le__(b)  # Same result as with <= when we call __le__ directly."
   ]
  },
  {
   "cell_type": "code",
   "execution_count": 18,
   "id": "6169481b-636d-44ab-acfa-d69837bd1688",
   "metadata": {},
   "outputs": [
    {
     "name": "stderr",
     "output_type": "stream",
     "text": [
      "INFO:root:Noisy(1).__eq__(Noisy(1))\n",
      "INFO:root:Noisy(2).__eq__(Noisy(2))\n",
      "INFO:root:Noisy(3).__eq__(Noisy(3))\n",
      "INFO:root:Noisy(4).__eq__(Noisy(4))\n",
      "INFO:root:Noisy(5).__eq__(Noisy(5))\n",
      "INFO:root:Noisy(8).__eq__(Noisy(9))\n",
      "INFO:root:Noisy(8).__ge__(Noisy(9))\n"
     ]
    },
    {
     "data": {
      "text/plain": [
       "False"
      ]
     },
     "execution_count": 18,
     "metadata": {},
     "output_type": "execute_result"
    }
   ],
   "source": [
    "a.__ge__(b)  # Same result as with <= when we call __ge__ directly."
   ]
  },
  {
   "cell_type": "markdown",
   "id": "7887a514-428c-419f-8972-b6df26888918",
   "metadata": {},
   "source": [
    "### So you can&rsquo;t use it with arbitrary weak orderings.\n",
    "\n",
    "Lexicographical order comparison in Python uses equality comparison to find the first position (if any) where objects differ, only then doing the order comparison. This always works with total orderings, but it would not usually work with non-total weak orderings."
   ]
  },
  {
   "cell_type": "code",
   "execution_count": 19,
   "id": "7a06612a-6d73-4f09-8f9b-b53b28178d42",
   "metadata": {},
   "outputs": [],
   "source": [
    "from compare import OrderIndistinct"
   ]
  },
  {
   "cell_type": "code",
   "execution_count": 20,
   "id": "7d8d9b2b-71c2-4a8f-92e9-61df5a651d44",
   "metadata": {},
   "outputs": [],
   "source": [
    "c = [OrderIndistinct('C'), 10]\n",
    "d = [OrderIndistinct('D'), 20]"
   ]
  },
  {
   "cell_type": "code",
   "execution_count": 21,
   "id": "553e9047-02cf-4c6b-b861-631a6c12a1f4",
   "metadata": {},
   "outputs": [
    {
     "data": {
      "text/plain": [
       "False"
      ]
     },
     "execution_count": 21,
     "metadata": {},
     "output_type": "execute_result"
    }
   ],
   "source": [
    "c < d  # We would want this to be True, since 10 < 20."
   ]
  },
  {
   "cell_type": "code",
   "execution_count": 22,
   "id": "dca54629-d1e4-459b-8742-6d8040abffa5",
   "metadata": {},
   "outputs": [
    {
     "data": {
      "text/plain": [
       "False"
      ]
     },
     "execution_count": 22,
     "metadata": {},
     "output_type": "execute_result"
    }
   ],
   "source": [
    "c > d  # False, but not for the reason we want it to be."
   ]
  },
  {
   "cell_type": "markdown",
   "id": "51bac852-9685-4c45-a410-6410dbf63a8c",
   "metadata": {},
   "source": [
    "The second element never got compared, as this reveals:"
   ]
  },
  {
   "cell_type": "code",
   "execution_count": 23,
   "id": "41cf42f6-de0c-4a2c-a5f2-b2af5325d9c4",
   "metadata": {},
   "outputs": [],
   "source": [
    "cc = [OrderIndistinct('CC'), Noisy(10)]\n",
    "dd = [OrderIndistinct('DD'), Noisy(20)]"
   ]
  },
  {
   "cell_type": "code",
   "execution_count": 24,
   "id": "bb1be6c5-7959-4002-8367-01a2c4ff4f84",
   "metadata": {},
   "outputs": [
    {
     "data": {
      "text/plain": [
       "False"
      ]
     },
     "execution_count": 24,
     "metadata": {},
     "output_type": "execute_result"
    }
   ],
   "source": [
    "c < d"
   ]
  },
  {
   "cell_type": "code",
   "execution_count": 25,
   "id": "ef9bf549-f34b-4423-ab02-73f30a0de0f7",
   "metadata": {},
   "outputs": [
    {
     "data": {
      "text/plain": [
       "False"
      ]
     },
     "execution_count": 25,
     "metadata": {},
     "output_type": "execute_result"
    }
   ],
   "source": [
    "c > d"
   ]
  },
  {
   "cell_type": "markdown",
   "id": "f1e64a2e-177a-42f1-856c-3269dd1c0f2e",
   "metadata": {},
   "source": [
    "`Noisy` didn&rsquo;t log anything, so in neither case were the second elements compared."
   ]
  },
  {
   "cell_type": "code",
   "execution_count": null,
   "id": "1f07b79c-67ee-4cd7-ae0e-c758b705ddfc",
   "metadata": {},
   "outputs": [],
   "source": []
  }
 ],
 "metadata": {
  "kernelspec": {
   "display_name": "Python 3 (ipykernel)",
   "language": "python",
   "name": "python3"
  },
  "language_info": {
   "codemirror_mode": {
    "name": "ipython",
    "version": 3
   },
   "file_extension": ".py",
   "mimetype": "text/x-python",
   "name": "python",
   "nbconvert_exporter": "python",
   "pygments_lexer": "ipython3",
   "version": "3.10.4"
  }
 },
 "nbformat": 4,
 "nbformat_minor": 5
}
