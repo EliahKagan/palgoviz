{
 "cells": [
  {
   "cell_type": "code",
   "execution_count": 12,
   "id": "8484ca3c-0405-4983-9339-9b19ece577ba",
   "metadata": {},
   "outputs": [],
   "source": [
    "from collections import deque\n",
    "from itertools import product\n",
    "from timeit import timeit\n",
    "\n",
    "from decorators import peek\n",
    "from gencomp2 import my_product, my_product_slow"
   ]
  },
  {
   "cell_type": "code",
   "execution_count": 13,
   "id": "1b0247f6-5dd1-4a4b-995c-729b74db5e31",
   "metadata": {
    "tags": []
   },
   "outputs": [],
   "source": [
    "@peek\n",
    "def prefix_product(sequences, stop):\n",
    "    if stop == 0:\n",
    "        yield ()\n",
    "        return\n",
    "\n",
    "    for prefix_tuple in prefix_product(sequences, stop - 1):\n",
    "        for last_element in sequences[stop - 1]:\n",
    "            yield (*prefix_tuple, last_element)"
   ]
  },
  {
   "cell_type": "code",
   "execution_count": 14,
   "id": "7a6fea06-2234-4429-a578-f6c5b8699e4f",
   "metadata": {},
   "outputs": [],
   "source": [
    "@peek\n",
    "def suffix_product(sequences, start):\n",
    "    if start == len(sequences):\n",
    "        yield ()\n",
    "        return\n",
    "\n",
    "    for first_element in sequences[start]:\n",
    "        for suffix_tuple in suffix_product(sequences, start + 1):\n",
    "            yield (first_element, *suffix_tuple)"
   ]
  },
  {
   "cell_type": "code",
   "execution_count": 15,
   "id": "202705e7-e678-41a0-a8c2-c53d7d900983",
   "metadata": {},
   "outputs": [
    {
     "name": "stdout",
     "output_type": "stream",
     "text": [
      "prefix_product([['a', 'b'], ['x', 'y']], 2)\n",
      "prefix_product([['a', 'b'], ['x', 'y']], 2) -> <generator object prefix_product at 0x000002622588A650>\n",
      "prefix_product([['a', 'b'], ['x', 'y']], 1)\n",
      "prefix_product([['a', 'b'], ['x', 'y']], 1) -> <generator object prefix_product at 0x0000026227703A70>\n",
      "prefix_product([['a', 'b'], ['x', 'y']], 0)\n",
      "prefix_product([['a', 'b'], ['x', 'y']], 0) -> <generator object prefix_product at 0x0000026227703AE0>\n"
     ]
    },
    {
     "data": {
      "text/plain": [
       "[('a', 'x'), ('a', 'y'), ('b', 'x'), ('b', 'y')]"
      ]
     },
     "execution_count": 15,
     "metadata": {},
     "output_type": "execute_result"
    }
   ],
   "source": [
    "list(prefix_product([['a', 'b'], ['x', 'y']], 2))"
   ]
  },
  {
   "cell_type": "code",
   "execution_count": 16,
   "id": "e37fb3d4-18e1-4ef9-a5e4-476f934eb1c4",
   "metadata": {},
   "outputs": [
    {
     "name": "stdout",
     "output_type": "stream",
     "text": [
      "suffix_product([['a', 'b'], ['x', 'y']], 0)\n",
      "suffix_product([['a', 'b'], ['x', 'y']], 0) -> <generator object suffix_product at 0x0000026227703D80>\n",
      "suffix_product([['a', 'b'], ['x', 'y']], 1)\n",
      "suffix_product([['a', 'b'], ['x', 'y']], 1) -> <generator object suffix_product at 0x0000026227703DF0>\n",
      "suffix_product([['a', 'b'], ['x', 'y']], 2)\n",
      "suffix_product([['a', 'b'], ['x', 'y']], 2) -> <generator object suffix_product at 0x0000026227703E60>\n",
      "suffix_product([['a', 'b'], ['x', 'y']], 2)\n",
      "suffix_product([['a', 'b'], ['x', 'y']], 2) -> <generator object suffix_product at 0x0000026227703D10>\n",
      "suffix_product([['a', 'b'], ['x', 'y']], 1)\n",
      "suffix_product([['a', 'b'], ['x', 'y']], 1) -> <generator object suffix_product at 0x0000026227703D10>\n",
      "suffix_product([['a', 'b'], ['x', 'y']], 2)\n",
      "suffix_product([['a', 'b'], ['x', 'y']], 2) -> <generator object suffix_product at 0x0000026227703E60>\n",
      "suffix_product([['a', 'b'], ['x', 'y']], 2)\n",
      "suffix_product([['a', 'b'], ['x', 'y']], 2) -> <generator object suffix_product at 0x0000026227703DF0>\n"
     ]
    },
    {
     "data": {
      "text/plain": [
       "[('a', 'x'), ('a', 'y'), ('b', 'x'), ('b', 'y')]"
      ]
     },
     "execution_count": 16,
     "metadata": {},
     "output_type": "execute_result"
    }
   ],
   "source": [
    "list(suffix_product([['a', 'b'], ['x', 'y']], 0))"
   ]
  },
  {
   "cell_type": "code",
   "execution_count": 17,
   "id": "6cd01726-c05c-45ca-a2f9-1617d6044ea1",
   "metadata": {},
   "outputs": [
    {
     "name": "stdout",
     "output_type": "stream",
     "text": [
      "prefix_product([['a', 'b'], ['p', 'q'], ['x', 'y']], 3)\n",
      "prefix_product([['a', 'b'], ['p', 'q'], ['x', 'y']], 3) -> <generator object prefix_product at 0x0000026227830120>\n",
      "prefix_product([['a', 'b'], ['p', 'q'], ['x', 'y']], 2)\n",
      "prefix_product([['a', 'b'], ['p', 'q'], ['x', 'y']], 2) -> <generator object prefix_product at 0x0000026227830200>\n",
      "prefix_product([['a', 'b'], ['p', 'q'], ['x', 'y']], 1)\n",
      "prefix_product([['a', 'b'], ['p', 'q'], ['x', 'y']], 1) -> <generator object prefix_product at 0x00000262278302E0>\n",
      "prefix_product([['a', 'b'], ['p', 'q'], ['x', 'y']], 0)\n",
      "prefix_product([['a', 'b'], ['p', 'q'], ['x', 'y']], 0) -> <generator object prefix_product at 0x00000262278303C0>\n"
     ]
    },
    {
     "data": {
      "text/plain": [
       "[('a', 'p', 'x'),\n",
       " ('a', 'p', 'y'),\n",
       " ('a', 'q', 'x'),\n",
       " ('a', 'q', 'y'),\n",
       " ('b', 'p', 'x'),\n",
       " ('b', 'p', 'y'),\n",
       " ('b', 'q', 'x'),\n",
       " ('b', 'q', 'y')]"
      ]
     },
     "execution_count": 17,
     "metadata": {},
     "output_type": "execute_result"
    }
   ],
   "source": [
    "list(prefix_product([['a', 'b'], ['p', 'q'], ['x', 'y']], 3))"
   ]
  },
  {
   "cell_type": "code",
   "execution_count": 18,
   "id": "7f7bac46-2d9c-4a8d-ae67-18ca55fc9612",
   "metadata": {},
   "outputs": [
    {
     "name": "stdout",
     "output_type": "stream",
     "text": [
      "suffix_product([['a', 'b'], ['p', 'q'], ['x', 'y']], 0)\n",
      "suffix_product([['a', 'b'], ['p', 'q'], ['x', 'y']], 0) -> <generator object suffix_product at 0x000002622588AF10>\n",
      "suffix_product([['a', 'b'], ['p', 'q'], ['x', 'y']], 1)\n",
      "suffix_product([['a', 'b'], ['p', 'q'], ['x', 'y']], 1) -> <generator object suffix_product at 0x0000026227830040>\n",
      "suffix_product([['a', 'b'], ['p', 'q'], ['x', 'y']], 2)\n",
      "suffix_product([['a', 'b'], ['p', 'q'], ['x', 'y']], 2) -> <generator object suffix_product at 0x00000262278304A0>\n",
      "suffix_product([['a', 'b'], ['p', 'q'], ['x', 'y']], 3)\n",
      "suffix_product([['a', 'b'], ['p', 'q'], ['x', 'y']], 3) -> <generator object suffix_product at 0x0000026227830580>\n",
      "suffix_product([['a', 'b'], ['p', 'q'], ['x', 'y']], 3)\n",
      "suffix_product([['a', 'b'], ['p', 'q'], ['x', 'y']], 3) -> <generator object suffix_product at 0x00000262278305F0>\n",
      "suffix_product([['a', 'b'], ['p', 'q'], ['x', 'y']], 2)\n",
      "suffix_product([['a', 'b'], ['p', 'q'], ['x', 'y']], 2) -> <generator object suffix_product at 0x0000026227830580>\n",
      "suffix_product([['a', 'b'], ['p', 'q'], ['x', 'y']], 3)\n",
      "suffix_product([['a', 'b'], ['p', 'q'], ['x', 'y']], 3) -> <generator object suffix_product at 0x00000262278306D0>\n",
      "suffix_product([['a', 'b'], ['p', 'q'], ['x', 'y']], 3)\n",
      "suffix_product([['a', 'b'], ['p', 'q'], ['x', 'y']], 3) -> <generator object suffix_product at 0x0000026227830740>\n",
      "suffix_product([['a', 'b'], ['p', 'q'], ['x', 'y']], 1)\n",
      "suffix_product([['a', 'b'], ['p', 'q'], ['x', 'y']], 1) -> <generator object suffix_product at 0x0000026227830740>\n",
      "suffix_product([['a', 'b'], ['p', 'q'], ['x', 'y']], 2)\n",
      "suffix_product([['a', 'b'], ['p', 'q'], ['x', 'y']], 2) -> <generator object suffix_product at 0x00000262278307B0>\n",
      "suffix_product([['a', 'b'], ['p', 'q'], ['x', 'y']], 3)\n",
      "suffix_product([['a', 'b'], ['p', 'q'], ['x', 'y']], 3) -> <generator object suffix_product at 0x0000026227830890>\n",
      "suffix_product([['a', 'b'], ['p', 'q'], ['x', 'y']], 3)\n",
      "suffix_product([['a', 'b'], ['p', 'q'], ['x', 'y']], 3) -> <generator object suffix_product at 0x0000026227830900>\n",
      "suffix_product([['a', 'b'], ['p', 'q'], ['x', 'y']], 2)\n",
      "suffix_product([['a', 'b'], ['p', 'q'], ['x', 'y']], 2) -> <generator object suffix_product at 0x0000026227830890>\n",
      "suffix_product([['a', 'b'], ['p', 'q'], ['x', 'y']], 3)\n",
      "suffix_product([['a', 'b'], ['p', 'q'], ['x', 'y']], 3) -> <generator object suffix_product at 0x00000262278309E0>\n",
      "suffix_product([['a', 'b'], ['p', 'q'], ['x', 'y']], 3)\n",
      "suffix_product([['a', 'b'], ['p', 'q'], ['x', 'y']], 3) -> <generator object suffix_product at 0x0000026227830A50>\n"
     ]
    },
    {
     "data": {
      "text/plain": [
       "[('a', 'p', 'x'),\n",
       " ('a', 'p', 'y'),\n",
       " ('a', 'q', 'x'),\n",
       " ('a', 'q', 'y'),\n",
       " ('b', 'p', 'x'),\n",
       " ('b', 'p', 'y'),\n",
       " ('b', 'q', 'x'),\n",
       " ('b', 'q', 'y')]"
      ]
     },
     "execution_count": 18,
     "metadata": {},
     "output_type": "execute_result"
    }
   ],
   "source": [
    "list(suffix_product([['a', 'b'], ['p', 'q'], ['x', 'y']], 0))"
   ]
  },
  {
   "cell_type": "code",
   "execution_count": 19,
   "id": "243d3e00",
   "metadata": {},
   "outputs": [],
   "source": [
    "def my_product_fast(*iterables):\n",
    "    \"\"\"N-ary Cartesian product.\"\"\"\n",
    "    dimension = len(iterables)\n",
    "    sequences = [list(iterable) for iterable in iterables]\n",
    "    path = []\n",
    "\n",
    "    def dfs(seq_index):\n",
    "        if seq_index == dimension:\n",
    "            yield tuple(path)\n",
    "            return\n",
    "        for element in sequences[seq_index]:\n",
    "            path.append(element)\n",
    "            yield from dfs(seq_index + 1)\n",
    "            del path[-1]\n",
    "\n",
    "    yield from dfs(0)"
   ]
  },
  {
   "cell_type": "code",
   "execution_count": 20,
   "id": "dd1b115f-ebbf-46f2-afa8-ebcf8b611c07",
   "metadata": {},
   "outputs": [],
   "source": [
    "singletons = ((1,),) * 2900\n",
    "binaries = ((0, 1),) * 16"
   ]
  },
  {
   "cell_type": "code",
   "execution_count": 21,
   "id": "979783c1",
   "metadata": {},
   "outputs": [
    {
     "data": {
      "text/plain": [
       "0.003447399940341711"
      ]
     },
     "execution_count": 21,
     "metadata": {},
     "output_type": "execute_result"
    }
   ],
   "source": [
    "timeit(lambda: deque(product(*singletons), maxlen=0), number=100)"
   ]
  },
  {
   "cell_type": "code",
   "execution_count": 22,
   "id": "3fb1f4f7",
   "metadata": {},
   "outputs": [
    {
     "data": {
      "text/plain": [
       "0.04811819992028177"
      ]
     },
     "execution_count": 22,
     "metadata": {},
     "output_type": "execute_result"
    }
   ],
   "source": [
    "timeit(lambda: deque(product(*binaries), maxlen=0), number=100)"
   ]
  },
  {
   "cell_type": "code",
   "execution_count": 23,
   "id": "be78ce13",
   "metadata": {},
   "outputs": [
    {
     "data": {
      "text/plain": [
       "5.206236099940725"
      ]
     },
     "execution_count": 23,
     "metadata": {},
     "output_type": "execute_result"
    }
   ],
   "source": [
    "timeit(lambda: deque(my_product(*singletons), maxlen=0), number=100)"
   ]
  },
  {
   "cell_type": "code",
   "execution_count": 24,
   "id": "95032c67",
   "metadata": {},
   "outputs": [
    {
     "data": {
      "text/plain": [
       "2.7191821000305936"
      ]
     },
     "execution_count": 24,
     "metadata": {},
     "output_type": "execute_result"
    }
   ],
   "source": [
    "timeit(lambda: deque(my_product(*binaries), maxlen=0), number=100)"
   ]
  },
  {
   "cell_type": "code",
   "execution_count": 25,
   "id": "72f384f2",
   "metadata": {},
   "outputs": [
    {
     "data": {
      "text/plain": [
       "4.678092899965122"
      ]
     },
     "execution_count": 25,
     "metadata": {},
     "output_type": "execute_result"
    }
   ],
   "source": [
    "timeit(lambda: deque(my_product_slow(*singletons), maxlen=0), number=100)"
   ]
  },
  {
   "cell_type": "code",
   "execution_count": 26,
   "id": "a675da8b",
   "metadata": {},
   "outputs": [
    {
     "data": {
      "text/plain": [
       "19.64151570003014"
      ]
     },
     "execution_count": 26,
     "metadata": {},
     "output_type": "execute_result"
    }
   ],
   "source": [
    "timeit(lambda: deque(my_product_slow(*binaries), maxlen=0), number=100)"
   ]
  },
  {
   "cell_type": "code",
   "execution_count": 27,
   "id": "910d6574",
   "metadata": {},
   "outputs": [
    {
     "data": {
      "text/plain": [
       "0.2759731999831274"
      ]
     },
     "execution_count": 27,
     "metadata": {},
     "output_type": "execute_result"
    }
   ],
   "source": [
    "timeit(lambda: deque(my_product_fast(*singletons), maxlen=0), number=100)"
   ]
  },
  {
   "cell_type": "code",
   "execution_count": 28,
   "id": "9c9b11f0",
   "metadata": {},
   "outputs": [
    {
     "data": {
      "text/plain": [
       "8.999969199998304"
      ]
     },
     "execution_count": 28,
     "metadata": {},
     "output_type": "execute_result"
    }
   ],
   "source": [
    "timeit(lambda: deque(my_product_fast(*binaries), maxlen=0), number=100)"
   ]
  }
 ],
 "metadata": {
  "interpreter": {
   "hash": "a924a81514a67ab7abb52f10576a3bff5d43dd09540bf62ec090588d0cbe25a3"
  },
  "kernelspec": {
   "display_name": "Python 3.10.4 ('algoviz-basics')",
   "language": "python",
   "name": "python3"
  },
  "language_info": {
   "codemirror_mode": {
    "name": "ipython",
    "version": 3
   },
   "file_extension": ".py",
   "mimetype": "text/x-python",
   "name": "python",
   "nbconvert_exporter": "python",
   "pygments_lexer": "ipython3",
   "version": "3.10.4"
  }
 },
 "nbformat": 4,
 "nbformat_minor": 5
}
