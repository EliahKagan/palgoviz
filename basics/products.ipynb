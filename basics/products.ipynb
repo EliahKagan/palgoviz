{
 "cells": [
  {
   "cell_type": "code",
   "execution_count": 1,
   "id": "8484ca3c-0405-4983-9339-9b19ece577ba",
   "metadata": {},
   "outputs": [],
   "source": [
    "from decorators import peek"
   ]
  },
  {
   "cell_type": "code",
   "execution_count": 2,
   "id": "1b0247f6-5dd1-4a4b-995c-729b74db5e31",
   "metadata": {
    "tags": []
   },
   "outputs": [],
   "source": [
    "@peek\n",
    "def prefix_product(sequences, stop):\n",
    "    if stop == 0:\n",
    "        yield ()\n",
    "        return\n",
    "\n",
    "    for prefix_tuple in prefix_product(sequences, stop - 1):\n",
    "        for last_element in sequences[stop - 1]:\n",
    "            yield (*prefix_tuple, last_element)"
   ]
  },
  {
   "cell_type": "code",
   "execution_count": 3,
   "id": "7a6fea06-2234-4429-a578-f6c5b8699e4f",
   "metadata": {},
   "outputs": [],
   "source": [
    "@peek\n",
    "def suffix_product(sequences, start):\n",
    "    if start == len(sequences):\n",
    "        yield ()\n",
    "        return\n",
    "\n",
    "    for first_element in sequences[start]:\n",
    "        for suffix_tuple in suffix_product(sequences, start + 1):\n",
    "            yield (first_element, *suffix_tuple)"
   ]
  },
  {
   "cell_type": "code",
   "execution_count": 4,
   "id": "202705e7-e678-41a0-a8c2-c53d7d900983",
   "metadata": {},
   "outputs": [
    {
     "name": "stdout",
     "output_type": "stream",
     "text": [
      "prefix_product([['a', 'b'], ['x', 'y']], 2)\n",
      "prefix_product([['a', 'b'], ['x', 'y']], 2) -> <generator object prefix_product at 0x00000267B1BBCF20>\n",
      "prefix_product([['a', 'b'], ['x', 'y']], 1)\n",
      "prefix_product([['a', 'b'], ['x', 'y']], 1) -> <generator object prefix_product at 0x00000267B1BBCF90>\n",
      "prefix_product([['a', 'b'], ['x', 'y']], 0)\n",
      "prefix_product([['a', 'b'], ['x', 'y']], 0) -> <generator object prefix_product at 0x00000267B1BBD000>\n"
     ]
    },
    {
     "data": {
      "text/plain": [
       "[('a', 'x'), ('a', 'y'), ('b', 'x'), ('b', 'y')]"
      ]
     },
     "execution_count": 4,
     "metadata": {},
     "output_type": "execute_result"
    }
   ],
   "source": [
    "list(prefix_product([['a', 'b'], ['x', 'y']], 2))"
   ]
  },
  {
   "cell_type": "code",
   "execution_count": 5,
   "id": "e37fb3d4-18e1-4ef9-a5e4-476f934eb1c4",
   "metadata": {},
   "outputs": [
    {
     "name": "stdout",
     "output_type": "stream",
     "text": [
      "suffix_product([['a', 'b'], ['x', 'y']], 0)\n",
      "suffix_product([['a', 'b'], ['x', 'y']], 0) -> <generator object suffix_product at 0x00000267B1BBD150>\n",
      "suffix_product([['a', 'b'], ['x', 'y']], 1)\n",
      "suffix_product([['a', 'b'], ['x', 'y']], 1) -> <generator object suffix_product at 0x00000267B1BBD1C0>\n",
      "suffix_product([['a', 'b'], ['x', 'y']], 2)\n",
      "suffix_product([['a', 'b'], ['x', 'y']], 2) -> <generator object suffix_product at 0x00000267B1BBD230>\n",
      "suffix_product([['a', 'b'], ['x', 'y']], 2)\n",
      "suffix_product([['a', 'b'], ['x', 'y']], 2) -> <generator object suffix_product at 0x00000267B1BBD0E0>\n",
      "suffix_product([['a', 'b'], ['x', 'y']], 1)\n",
      "suffix_product([['a', 'b'], ['x', 'y']], 1) -> <generator object suffix_product at 0x00000267B1BBD0E0>\n",
      "suffix_product([['a', 'b'], ['x', 'y']], 2)\n",
      "suffix_product([['a', 'b'], ['x', 'y']], 2) -> <generator object suffix_product at 0x00000267B1BBD230>\n",
      "suffix_product([['a', 'b'], ['x', 'y']], 2)\n",
      "suffix_product([['a', 'b'], ['x', 'y']], 2) -> <generator object suffix_product at 0x00000267B1BBD1C0>\n"
     ]
    },
    {
     "data": {
      "text/plain": [
       "[('a', 'x'), ('a', 'y'), ('b', 'x'), ('b', 'y')]"
      ]
     },
     "execution_count": 5,
     "metadata": {},
     "output_type": "execute_result"
    }
   ],
   "source": [
    "list(suffix_product([['a', 'b'], ['x', 'y']], 0))"
   ]
  },
  {
   "cell_type": "code",
   "execution_count": 7,
   "id": "6cd01726-c05c-45ca-a2f9-1617d6044ea1",
   "metadata": {},
   "outputs": [
    {
     "name": "stdout",
     "output_type": "stream",
     "text": [
      "prefix_product([['a', 'b'], ['p', 'q'], ['x', 'y']], 3)\n",
      "prefix_product([['a', 'b'], ['p', 'q'], ['x', 'y']], 3) -> <generator object prefix_product at 0x00000267B1BBD700>\n",
      "prefix_product([['a', 'b'], ['p', 'q'], ['x', 'y']], 2)\n",
      "prefix_product([['a', 'b'], ['p', 'q'], ['x', 'y']], 2) -> <generator object prefix_product at 0x00000267B1BBD7E0>\n",
      "prefix_product([['a', 'b'], ['p', 'q'], ['x', 'y']], 1)\n",
      "prefix_product([['a', 'b'], ['p', 'q'], ['x', 'y']], 1) -> <generator object prefix_product at 0x00000267B1BBD8C0>\n",
      "prefix_product([['a', 'b'], ['p', 'q'], ['x', 'y']], 0)\n",
      "prefix_product([['a', 'b'], ['p', 'q'], ['x', 'y']], 0) -> <generator object prefix_product at 0x00000267B1BBD9A0>\n"
     ]
    },
    {
     "data": {
      "text/plain": [
       "[('a', 'p', 'x'),\n",
       " ('a', 'p', 'y'),\n",
       " ('a', 'q', 'x'),\n",
       " ('a', 'q', 'y'),\n",
       " ('b', 'p', 'x'),\n",
       " ('b', 'p', 'y'),\n",
       " ('b', 'q', 'x'),\n",
       " ('b', 'q', 'y')]"
      ]
     },
     "execution_count": 7,
     "metadata": {},
     "output_type": "execute_result"
    }
   ],
   "source": [
    "list(prefix_product([['a', 'b'], ['p', 'q'], ['x', 'y']], 3))"
   ]
  },
  {
   "cell_type": "code",
   "execution_count": 8,
   "id": "7f7bac46-2d9c-4a8d-ae67-18ca55fc9612",
   "metadata": {},
   "outputs": [
    {
     "name": "stdout",
     "output_type": "stream",
     "text": [
      "suffix_product([['a', 'b'], ['p', 'q'], ['x', 'y']], 0)\n",
      "suffix_product([['a', 'b'], ['p', 'q'], ['x', 'y']], 0) -> <generator object suffix_product at 0x00000267B1BBD8C0>\n",
      "suffix_product([['a', 'b'], ['p', 'q'], ['x', 'y']], 1)\n",
      "suffix_product([['a', 'b'], ['p', 'q'], ['x', 'y']], 1) -> <generator object suffix_product at 0x00000267B1BBD380>\n",
      "suffix_product([['a', 'b'], ['p', 'q'], ['x', 'y']], 2)\n",
      "suffix_product([['a', 'b'], ['p', 'q'], ['x', 'y']], 2) -> <generator object suffix_product at 0x00000267B1BBDA80>\n",
      "suffix_product([['a', 'b'], ['p', 'q'], ['x', 'y']], 3)\n",
      "suffix_product([['a', 'b'], ['p', 'q'], ['x', 'y']], 3) -> <generator object suffix_product at 0x00000267B1BBDB60>\n",
      "suffix_product([['a', 'b'], ['p', 'q'], ['x', 'y']], 3)\n",
      "suffix_product([['a', 'b'], ['p', 'q'], ['x', 'y']], 3) -> <generator object suffix_product at 0x00000267B1BBDBD0>\n",
      "suffix_product([['a', 'b'], ['p', 'q'], ['x', 'y']], 2)\n",
      "suffix_product([['a', 'b'], ['p', 'q'], ['x', 'y']], 2) -> <generator object suffix_product at 0x00000267B1BBDB60>\n",
      "suffix_product([['a', 'b'], ['p', 'q'], ['x', 'y']], 3)\n",
      "suffix_product([['a', 'b'], ['p', 'q'], ['x', 'y']], 3) -> <generator object suffix_product at 0x00000267B1BBDCB0>\n",
      "suffix_product([['a', 'b'], ['p', 'q'], ['x', 'y']], 3)\n",
      "suffix_product([['a', 'b'], ['p', 'q'], ['x', 'y']], 3) -> <generator object suffix_product at 0x00000267B1BBDD20>\n",
      "suffix_product([['a', 'b'], ['p', 'q'], ['x', 'y']], 1)\n",
      "suffix_product([['a', 'b'], ['p', 'q'], ['x', 'y']], 1) -> <generator object suffix_product at 0x00000267B1BBDD20>\n",
      "suffix_product([['a', 'b'], ['p', 'q'], ['x', 'y']], 2)\n",
      "suffix_product([['a', 'b'], ['p', 'q'], ['x', 'y']], 2) -> <generator object suffix_product at 0x00000267B1BBDD90>\n",
      "suffix_product([['a', 'b'], ['p', 'q'], ['x', 'y']], 3)\n",
      "suffix_product([['a', 'b'], ['p', 'q'], ['x', 'y']], 3) -> <generator object suffix_product at 0x00000267B1BBDE70>\n",
      "suffix_product([['a', 'b'], ['p', 'q'], ['x', 'y']], 3)\n",
      "suffix_product([['a', 'b'], ['p', 'q'], ['x', 'y']], 3) -> <generator object suffix_product at 0x00000267B1BBDEE0>\n",
      "suffix_product([['a', 'b'], ['p', 'q'], ['x', 'y']], 2)\n",
      "suffix_product([['a', 'b'], ['p', 'q'], ['x', 'y']], 2) -> <generator object suffix_product at 0x00000267B1BBDE70>\n",
      "suffix_product([['a', 'b'], ['p', 'q'], ['x', 'y']], 3)\n",
      "suffix_product([['a', 'b'], ['p', 'q'], ['x', 'y']], 3) -> <generator object suffix_product at 0x00000267B1BBDFC0>\n",
      "suffix_product([['a', 'b'], ['p', 'q'], ['x', 'y']], 3)\n",
      "suffix_product([['a', 'b'], ['p', 'q'], ['x', 'y']], 3) -> <generator object suffix_product at 0x00000267B1BBE030>\n"
     ]
    },
    {
     "data": {
      "text/plain": [
       "[('a', 'p', 'x'),\n",
       " ('a', 'p', 'y'),\n",
       " ('a', 'q', 'x'),\n",
       " ('a', 'q', 'y'),\n",
       " ('b', 'p', 'x'),\n",
       " ('b', 'p', 'y'),\n",
       " ('b', 'q', 'x'),\n",
       " ('b', 'q', 'y')]"
      ]
     },
     "execution_count": 8,
     "metadata": {},
     "output_type": "execute_result"
    }
   ],
   "source": [
    "list(suffix_product([['a', 'b'], ['p', 'q'], ['x', 'y']], 0))"
   ]
  },
  {
   "cell_type": "code",
   "execution_count": null,
   "id": "dd1b115f-ebbf-46f2-afa8-ebcf8b611c07",
   "metadata": {},
   "outputs": [],
   "source": []
  }
 ],
 "metadata": {
  "kernelspec": {
   "display_name": "Python 3 (ipykernel)",
   "language": "python",
   "name": "python3"
  },
  "language_info": {
   "codemirror_mode": {
    "name": "ipython",
    "version": 3
   },
   "file_extension": ".py",
   "mimetype": "text/x-python",
   "name": "python",
   "nbconvert_exporter": "python",
   "pygments_lexer": "ipython3",
   "version": "3.10.4"
  }
 },
 "nbformat": 4,
 "nbformat_minor": 5
}
