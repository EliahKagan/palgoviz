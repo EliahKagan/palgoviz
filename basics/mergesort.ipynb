{
 "cells": [
  {
   "cell_type": "markdown",
   "id": "baf1e30b-5986-429c-ba72-4e1a5e180ffe",
   "metadata": {},
   "source": [
    "# Mergesort - notes and exploration"
   ]
  },
  {
   "cell_type": "markdown",
   "id": "bf728ca1-720e-475d-9cd2-438f742b2f37",
   "metadata": {},
   "source": [
    "## Unbalanced merges\n",
    "\n",
    "*Examining when and how often unequal-length lists are merged.*"
   ]
  },
  {
   "cell_type": "markdown",
   "id": "81ea8e01-3138-46a4-bdcd-de90b173af01",
   "metadata": {},
   "source": [
    "Since the two-way merger is supplied by dependency injection, we can easily supply an instrumented two-way merger that reports information about its arguments or return value, some or all of the time.\n",
    "\n",
    "In particular, if we are interested in when the branches (sides) being merged differ in length, we can make a merger that delegates to some existing two-way merge implementation to do the actual merging, but also, when the lengths of its arguments are different, reports their lengths by printing them (or we could log them).\n",
    "\n",
    "Do that. Implement a function, `verbose_merge`, below, that can be passed as the `merge=` keyword-only argument of the merge sort implementations in `recursion.py`. Then try it with various values on all those implementations.\n",
    "\n",
    "Some example code to use it already appears below. Feel free to add more!"
   ]
  },
  {
   "cell_type": "code",
   "execution_count": 1,
   "id": "a4bd1c47-e4b3-4422-9916-a6e5189e4676",
   "metadata": {},
   "outputs": [],
   "source": [
    "import recursion"
   ]
  },
  {
   "cell_type": "code",
   "execution_count": 2,
   "id": "61e6e7be-a1fc-4f50-9b05-b149c3d78112",
   "metadata": {},
   "outputs": [],
   "source": [
    "def _len_text(seq):\n",
    "    return '1 element' if len(seq) == 1 else f'{len(seq)} elements'\n",
    "\n",
    "\n",
    "def verbose_merge(left, right):  \n",
    "    if len(left) != len(right): \n",
    "        print(f'Merging {_len_text(left)} with {_len_text(right)}.')\n",
    "    return recursion.merge_two(left, right)"
   ]
  },
  {
   "cell_type": "code",
   "execution_count": 3,
   "id": "5043a533-25d6-4938-abc6-3dc5061bf2b8",
   "metadata": {},
   "outputs": [
    {
     "name": "stdout",
     "output_type": "stream",
     "text": [
      "Merging 1 element with 2 elements.\n"
     ]
    },
    {
     "data": {
      "text/plain": [
       "[10, 20, 30]"
      ]
     },
     "execution_count": 3,
     "metadata": {},
     "output_type": "execute_result"
    }
   ],
   "source": [
    "# Should print:  Merging 1 element with 2 elements.\n",
    "recursion.merge_sort([30, 20, 10], merge=verbose_merge)"
   ]
  },
  {
   "cell_type": "code",
   "execution_count": 4,
   "id": "c4d55232-982e-4308-9c92-9a406b811709",
   "metadata": {},
   "outputs": [
    {
     "name": "stdout",
     "output_type": "stream",
     "text": [
      "Merging 1 element with 2 elements.\n"
     ]
    },
    {
     "data": {
      "text/plain": [
       "[10, 20, 30]"
      ]
     },
     "execution_count": 4,
     "metadata": {},
     "output_type": "execute_result"
    }
   ],
   "source": [
    "recursion.merge_sort_bottom_up_unstable([30, 20, 10], merge=verbose_merge)"
   ]
  },
  {
   "cell_type": "code",
   "execution_count": 5,
   "id": "d75723d6-fbf0-4266-9b73-f586a5b2095b",
   "metadata": {},
   "outputs": [
    {
     "name": "stdout",
     "output_type": "stream",
     "text": [
      "Merging 2 elements with 1 element.\n"
     ]
    },
    {
     "data": {
      "text/plain": [
       "[10, 20, 30]"
      ]
     },
     "execution_count": 5,
     "metadata": {},
     "output_type": "execute_result"
    }
   ],
   "source": [
    "recursion.merge_sort_bottom_up([30, 20, 10], merge=verbose_merge)"
   ]
  },
  {
   "cell_type": "code",
   "execution_count": 6,
   "id": "94fb2139-bef5-4ea4-8bb0-276550337a76",
   "metadata": {},
   "outputs": [
    {
     "name": "stdout",
     "output_type": "stream",
     "text": [
      "Merging 1 element with 2 elements.\n",
      "Merging 3 elements with 4 elements.\n"
     ]
    },
    {
     "data": {
      "text/plain": [
       "[1, 2, 3, 4, 5, 6, 7]"
      ]
     },
     "execution_count": 6,
     "metadata": {},
     "output_type": "execute_result"
    }
   ],
   "source": [
    "recursion.merge_sort([7, 6, 5, 4, 3, 2, 1], merge=verbose_merge)"
   ]
  },
  {
   "cell_type": "code",
   "execution_count": 7,
   "id": "a9540b7e-5b4f-4adc-a245-32811f60a10b",
   "metadata": {},
   "outputs": [
    {
     "name": "stdout",
     "output_type": "stream",
     "text": [
      "Merging 1 element with 2 elements.\n",
      "Merging 3 elements with 4 elements.\n"
     ]
    },
    {
     "data": {
      "text/plain": [
       "[1, 2, 3, 4, 5, 6, 7]"
      ]
     },
     "execution_count": 7,
     "metadata": {},
     "output_type": "execute_result"
    }
   ],
   "source": [
    "recursion.merge_sort_bottom_up_unstable([7, 6, 5, 4, 3, 2, 1], merge=verbose_merge)"
   ]
  },
  {
   "cell_type": "code",
   "execution_count": 8,
   "id": "e52d8ec5-6c20-40c5-8778-16c638fa77df",
   "metadata": {},
   "outputs": [
    {
     "name": "stdout",
     "output_type": "stream",
     "text": [
      "Merging 2 elements with 1 element.\n",
      "Merging 4 elements with 3 elements.\n"
     ]
    },
    {
     "data": {
      "text/plain": [
       "[1, 2, 3, 4, 5, 6, 7]"
      ]
     },
     "execution_count": 8,
     "metadata": {},
     "output_type": "execute_result"
    }
   ],
   "source": [
    "recursion.merge_sort_bottom_up([7, 6, 5, 4, 3, 2, 1], merge=verbose_merge)"
   ]
  },
  {
   "cell_type": "code",
   "execution_count": 9,
   "id": "13d5e8e3-2846-47cc-8bed-97f86431ba05",
   "metadata": {},
   "outputs": [],
   "source": [
    "# This will report *many* mismatches in length. (Try it.) Does that affect the\n",
    "# asymptotic time complexity? Is it otherwise a performance problem?\n",
    "#result = recursion.merge_sort(range(5000), merge=verbose_merge)0"
   ]
  },
  {
   "cell_type": "code",
   "execution_count": 10,
   "id": "a91862ce-4c26-4f84-8df7-367838b15552",
   "metadata": {},
   "outputs": [
    {
     "name": "stdout",
     "output_type": "stream",
     "text": [
      "Merging 8 elements with 16 elements.\n",
      "Merging 16 elements with 24 elements.\n",
      "Merging 32 elements with 40 elements.\n",
      "Merging 64 elements with 72 elements.\n",
      "Merging 136 elements with 256 elements.\n",
      "Merging 392 elements with 512 elements.\n",
      "Merging 904 elements with 1024 elements.\n",
      "Merging 1024 elements with 1928 elements.\n",
      "Merging 2048 elements with 2952 elements.\n"
     ]
    }
   ],
   "source": [
    "result = recursion.merge_sort_bottom_up_unstable(range(5000), merge=verbose_merge)"
   ]
  },
  {
   "cell_type": "code",
   "execution_count": 11,
   "id": "db887a61-7901-4575-bc05-70bab1e1d7c1",
   "metadata": {},
   "outputs": [
    {
     "name": "stdout",
     "output_type": "stream",
     "text": [
      "Merging 128 elements with 8 elements.\n",
      "Merging 256 elements with 136 elements.\n",
      "Merging 512 elements with 392 elements.\n",
      "Merging 4096 elements with 904 elements.\n"
     ]
    }
   ],
   "source": [
    "result = recursion.merge_sort_bottom_up(range(5000), merge=verbose_merge)"
   ]
  },
  {
   "cell_type": "markdown",
   "id": "804de258-ce43-4693-a71a-c9d2fd2c59f9",
   "metadata": {},
   "source": [
    "Did a situation arise where some mismatches were clearly not a performance problem? Write another function similar to `verbose_merge` that avoids reporting the least important mismatches. If the omissions may, in practice, sometimes cause a performance problem to go unnoticed, then include comments to document how that could happen."
   ]
  },
  {
   "cell_type": "code",
   "execution_count": 12,
   "id": "bd349d3c-69c3-4b71-9b8e-ab27cbc7e8d6",
   "metadata": {},
   "outputs": [],
   "source": [
    "def discerning_merge(left, right):\n",
    "    raise NotImplementedError()  # FIXME: Implement this."
   ]
  },
  {
   "cell_type": "code",
   "execution_count": 13,
   "id": "df50ec0a-f254-4054-ac99-322ef8e5fca3",
   "metadata": {},
   "outputs": [
    {
     "ename": "NotImplementedError",
     "evalue": "",
     "output_type": "error",
     "traceback": [
      "\u001b[1;31m---------------------------------------------------------------------------\u001b[0m",
      "\u001b[1;31mNotImplementedError\u001b[0m                       Traceback (most recent call last)",
      "Input \u001b[1;32mIn [13]\u001b[0m, in \u001b[0;36m<cell line: 1>\u001b[1;34m()\u001b[0m\n\u001b[1;32m----> 1\u001b[0m result \u001b[38;5;241m=\u001b[39m \u001b[43mrecursion\u001b[49m\u001b[38;5;241;43m.\u001b[39;49m\u001b[43mmerge_sort\u001b[49m\u001b[43m(\u001b[49m\u001b[38;5;28;43mrange\u001b[39;49m\u001b[43m(\u001b[49m\u001b[38;5;241;43m5000\u001b[39;49m\u001b[43m)\u001b[49m\u001b[43m,\u001b[49m\u001b[43m \u001b[49m\u001b[43mmerge\u001b[49m\u001b[38;5;241;43m=\u001b[39;49m\u001b[43mdiscerning_merge\u001b[49m\u001b[43m)\u001b[49m\n",
      "File \u001b[1;32m~\\source\\repos\\algoviz\\basics\\recursion.py:422\u001b[0m, in \u001b[0;36mmerge_sort\u001b[1;34m(values, merge)\u001b[0m\n\u001b[0;32m    419\u001b[0m     halfway \u001b[38;5;241m=\u001b[39m \u001b[38;5;28mlen\u001b[39m(values) \u001b[38;5;241m/\u001b[39m\u001b[38;5;241m/\u001b[39m \u001b[38;5;241m2\u001b[39m\n\u001b[0;32m    420\u001b[0m     \u001b[38;5;28;01mreturn\u001b[39;00m merge(helper(values[:halfway]), helper(values[halfway:]))\n\u001b[1;32m--> 422\u001b[0m \u001b[38;5;28;01mreturn\u001b[39;00m \u001b[43mhelper\u001b[49m\u001b[43m(\u001b[49m\u001b[38;5;28;43mlist\u001b[39;49m\u001b[43m(\u001b[49m\u001b[43mvalues\u001b[49m\u001b[43m)\u001b[49m\u001b[43m)\u001b[49m\n",
      "File \u001b[1;32m~\\source\\repos\\algoviz\\basics\\recursion.py:420\u001b[0m, in \u001b[0;36mmerge_sort.<locals>.helper\u001b[1;34m(values)\u001b[0m\n\u001b[0;32m    417\u001b[0m     \u001b[38;5;28;01mreturn\u001b[39;00m values\n\u001b[0;32m    419\u001b[0m halfway \u001b[38;5;241m=\u001b[39m \u001b[38;5;28mlen\u001b[39m(values) \u001b[38;5;241m/\u001b[39m\u001b[38;5;241m/\u001b[39m \u001b[38;5;241m2\u001b[39m\n\u001b[1;32m--> 420\u001b[0m \u001b[38;5;28;01mreturn\u001b[39;00m merge(\u001b[43mhelper\u001b[49m\u001b[43m(\u001b[49m\u001b[43mvalues\u001b[49m\u001b[43m[\u001b[49m\u001b[43m:\u001b[49m\u001b[43mhalfway\u001b[49m\u001b[43m]\u001b[49m\u001b[43m)\u001b[49m, helper(values[halfway:]))\n",
      "File \u001b[1;32m~\\source\\repos\\algoviz\\basics\\recursion.py:420\u001b[0m, in \u001b[0;36mmerge_sort.<locals>.helper\u001b[1;34m(values)\u001b[0m\n\u001b[0;32m    417\u001b[0m     \u001b[38;5;28;01mreturn\u001b[39;00m values\n\u001b[0;32m    419\u001b[0m halfway \u001b[38;5;241m=\u001b[39m \u001b[38;5;28mlen\u001b[39m(values) \u001b[38;5;241m/\u001b[39m\u001b[38;5;241m/\u001b[39m \u001b[38;5;241m2\u001b[39m\n\u001b[1;32m--> 420\u001b[0m \u001b[38;5;28;01mreturn\u001b[39;00m merge(\u001b[43mhelper\u001b[49m\u001b[43m(\u001b[49m\u001b[43mvalues\u001b[49m\u001b[43m[\u001b[49m\u001b[43m:\u001b[49m\u001b[43mhalfway\u001b[49m\u001b[43m]\u001b[49m\u001b[43m)\u001b[49m, helper(values[halfway:]))\n",
      "    \u001b[1;31m[... skipping similar frames: merge_sort.<locals>.helper at line 420 (9 times)]\u001b[0m\n",
      "File \u001b[1;32m~\\source\\repos\\algoviz\\basics\\recursion.py:420\u001b[0m, in \u001b[0;36mmerge_sort.<locals>.helper\u001b[1;34m(values)\u001b[0m\n\u001b[0;32m    417\u001b[0m     \u001b[38;5;28;01mreturn\u001b[39;00m values\n\u001b[0;32m    419\u001b[0m halfway \u001b[38;5;241m=\u001b[39m \u001b[38;5;28mlen\u001b[39m(values) \u001b[38;5;241m/\u001b[39m\u001b[38;5;241m/\u001b[39m \u001b[38;5;241m2\u001b[39m\n\u001b[1;32m--> 420\u001b[0m \u001b[38;5;28;01mreturn\u001b[39;00m \u001b[43mmerge\u001b[49m\u001b[43m(\u001b[49m\u001b[43mhelper\u001b[49m\u001b[43m(\u001b[49m\u001b[43mvalues\u001b[49m\u001b[43m[\u001b[49m\u001b[43m:\u001b[49m\u001b[43mhalfway\u001b[49m\u001b[43m]\u001b[49m\u001b[43m)\u001b[49m\u001b[43m,\u001b[49m\u001b[43m \u001b[49m\u001b[43mhelper\u001b[49m\u001b[43m(\u001b[49m\u001b[43mvalues\u001b[49m\u001b[43m[\u001b[49m\u001b[43mhalfway\u001b[49m\u001b[43m:\u001b[49m\u001b[43m]\u001b[49m\u001b[43m)\u001b[49m\u001b[43m)\u001b[49m\n",
      "Input \u001b[1;32mIn [12]\u001b[0m, in \u001b[0;36mdiscerning_merge\u001b[1;34m(left, right)\u001b[0m\n\u001b[0;32m      1\u001b[0m \u001b[38;5;28;01mdef\u001b[39;00m \u001b[38;5;21mdiscerning_merge\u001b[39m(left, right):\n\u001b[1;32m----> 2\u001b[0m     \u001b[38;5;28;01mraise\u001b[39;00m \u001b[38;5;167;01mNotImplementedError\u001b[39;00m()\n",
      "\u001b[1;31mNotImplementedError\u001b[0m: "
     ]
    }
   ],
   "source": [
    "result = recursion.merge_sort(range(5000), merge=discerning_merge)"
   ]
  },
  {
   "cell_type": "code",
   "execution_count": null,
   "id": "3370cb7d-5fc4-41a6-b767-55c5398dbb8a",
   "metadata": {
    "tags": []
   },
   "outputs": [],
   "source": [
    "result = recursion.merge_sort_bottom_up_unstable(range(5000), merge=discerning_merge)"
   ]
  },
  {
   "cell_type": "code",
   "execution_count": null,
   "id": "c6a9e80d-ebad-4165-af02-5cd994d84930",
   "metadata": {},
   "outputs": [],
   "source": [
    "result = recursion.merge_sort_bottom_up(range(5000), merge=discerning_merge)"
   ]
  },
  {
   "cell_type": "code",
   "execution_count": null,
   "id": "06e7152a-0dcd-4857-91a8-e264d6a6e735",
   "metadata": {},
   "outputs": [],
   "source": [
    "result = recursion.merge_sort(range(100_000), merge=discerning_merge)"
   ]
  },
  {
   "cell_type": "code",
   "execution_count": null,
   "id": "5c67862d-fdbb-44e3-b6ae-4ab512eb15dc",
   "metadata": {},
   "outputs": [],
   "source": [
    "result = recursion.merge_sort_bottom_up_unstable(range(100_000), merge=discerning_merge)"
   ]
  },
  {
   "cell_type": "code",
   "execution_count": null,
   "id": "c5dd26e8-92ab-4a60-8082-55f4f8191a00",
   "metadata": {},
   "outputs": [],
   "source": [
    "result = recursion.merge_sort_bottom_up(range(100_000), merge=discerning_merge)"
   ]
  },
  {
   "cell_type": "code",
   "execution_count": null,
   "id": "d4d97939-eba1-45ca-bd6e-16a29103d622",
   "metadata": {},
   "outputs": [],
   "source": [
    "result = recursion.merge_sort(range(1_000_000), merge=discerning_merge)"
   ]
  },
  {
   "cell_type": "code",
   "execution_count": null,
   "id": "365882c1-ba7d-4709-b7f0-a9b108ded95f",
   "metadata": {},
   "outputs": [],
   "source": [
    "result = recursion.merge_sort_bottom_up_unstable(range(1_000_000), merge=discerning_merge)"
   ]
  },
  {
   "cell_type": "code",
   "execution_count": null,
   "id": "adce4a8f-f866-41ed-ab75-cac7005e31cc",
   "metadata": {},
   "outputs": [],
   "source": [
    "result = recursion.merge_sort_bottom_up(range(1_000_000), merge=discerning_merge)"
   ]
  },
  {
   "cell_type": "code",
   "execution_count": null,
   "id": "4b44855c-bf74-44eb-92cb-7b4327ca2d99",
   "metadata": {},
   "outputs": [],
   "source": []
  }
 ],
 "metadata": {
  "kernelspec": {
   "display_name": "Python 3 (ipykernel)",
   "language": "python",
   "name": "python3"
  },
  "language_info": {
   "codemirror_mode": {
    "name": "ipython",
    "version": 3
   },
   "file_extension": ".py",
   "mimetype": "text/x-python",
   "name": "python",
   "nbconvert_exporter": "python",
   "pygments_lexer": "ipython3",
   "version": "3.10.4"
  }
 },
 "nbformat": 4,
 "nbformat_minor": 5
}
