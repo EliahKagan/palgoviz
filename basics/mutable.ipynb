{
 "cells": [
  {
   "cell_type": "markdown",
   "id": "c770f493-584b-4d8a-adc6-6f832a089381",
   "metadata": {},
   "source": [
    "# Meanings of mutability"
   ]
  },
  {
   "cell_type": "markdown",
   "id": "75db05dd-20c4-4df6-a9c2-48a20e4b797e",
   "metadata": {},
   "source": [
    "## Review: Objects represent ideas"
   ]
  },
  {
   "cell_type": "markdown",
   "id": "487a1bfa-ddf2-42f2-b839-ea2227845a0b",
   "metadata": {},
   "source": [
    "Recall the distinction, in programming, between **identity** and **equality**."
   ]
  },
  {
   "cell_type": "markdown",
   "id": "6986ec00-fc6d-4dfc-88a1-7fd84a8db793",
   "metadata": {},
   "source": [
    "### Identity"
   ]
  },
  {
   "cell_type": "markdown",
   "id": "d04639e3-df43-4bee-b593-0509b62b6a59",
   "metadata": {},
   "source": [
    "Objects are **identical** when they are really the same object: the same region of memory, existing at the same time.\n",
    "\n",
    "Python's `is` operator checks if objects are identical. Calling `id` on an object returns an integer that represents the object's identity: an object's `id` never changes, and is never equal to the `id` of any other object that exists at the same time. (Objects whose lifetimes do not overlap can have the same `id`.) As an implementation detail of CPython, `id` returns the address of the object. "
   ]
  },
  {
   "cell_type": "markdown",
   "id": "bfa61dca-732c-42fa-a4f5-ce691e818f1f",
   "metadata": {},
   "source": [
    "### Equality"
   ]
  },
  {
   "cell_type": "markdown",
   "id": "bbe2734c-c511-47bd-9af5-73e60b49b685",
   "metadata": {},
   "source": [
    "Object are **equal** when they represent the same thing. For example, we can represent the number *one billion* with an instance of `int`. Instances of `int` that both represent that number certainly have the same value, and they are thus equal, but they may or may not be the same object.\n",
    "\n",
    "The `==` operator checks if objects are equal. The default behavior of `==` is that objects are only equal to themselves. That is, when you write a class, if you don't provide custom equality comparison behavior by overriding `__eq__`, and you don't inherit from a class that does, then your object is equal only to itself and not equal to any other object. This is a reasonable default--the only resaonable default--since without custom `__eq__` logic, there is no way for a Python implementation to know if two different objects represent the same thing."
   ]
  },
  {
   "cell_type": "markdown",
   "id": "63d33061-7e85-4d37-834e-28a99f0d80c7",
   "metadata": {},
   "source": [
    "#### A subtlety: We only model what we need"
   ]
  },
  {
   "cell_type": "markdown",
   "id": "193d3235-34ce-428d-86d3-ee87e696ce9a",
   "metadata": {},
   "source": [
    "There is a subtlety: It is possible to write a class whose instances conceptually represent the same thing, yet are not equal, because the class does not customize equality comparison. Such a design is questionable, but not necessarily a bug. We may know it is not useful to compare the instances for equality, or that it is a poor use of developer resources to implement equality comparison at this time, yet judge that it is acceptable for the type to go into production. If the type is a (conceptually) private implementation detail, we may be quite justified in our beliefs about how it will be used.\n",
    "\n",
    "In situations like these, though, what is going on is that *our objects model some important things about what they represent, but do not model those things' sameness and difference.*"
   ]
  },
  {
   "cell_type": "markdown",
   "id": "2990540a-2dbb-4e74-87a9-d4009eede8d4",
   "metadata": {},
   "source": [
    "## Kinds of mutability"
   ]
  },
  {
   "cell_type": "markdown",
   "id": "8a9ffefb-596a-4637-98dc-7529ed375f31",
   "metadata": {
    "tags": []
   },
   "source": [
    "### Of value"
   ]
  },
  {
   "cell_type": "markdown",
   "id": "5e35a21c-a3c0-434a-9085-9b67dcffabff",
   "metadata": {},
   "source": [
    "The most frequently relevant meaning of mutability in Python is \"its value can change.\"\n",
    "\n",
    "An object is thus *immutable*, in this sense, when its value is invariant: the object never changes in a way that affects its behavior in equality comparison.\n",
    "\n",
    "This is the meaning of \"mutable\" and \"immutable\" that applies to the ubiquitous and correct advice that mutable objects should not be hashable, and that immutable objects should usually be hashable. Uses of the words \"mutable\" and \"immutable\" in this project, except where otherwise stated, are with meaning of mutability."
   ]
  },
  {
   "cell_type": "markdown",
   "id": "5a656fc0-2c9d-401a-8ef9-16172023cdcd",
   "metadata": {},
   "source": [
    "#### Example [FIXME: describe]"
   ]
  },
  {
   "cell_type": "code",
   "execution_count": 2,
   "id": "752ed485-42c0-412b-a019-c2338483ab55",
   "metadata": {},
   "outputs": [],
   "source": [
    "import math"
   ]
  },
  {
   "cell_type": "code",
   "execution_count": 3,
   "id": "f7920d26-92aa-445f-8c26-57eeae72d667",
   "metadata": {},
   "outputs": [],
   "source": [
    "class VectorA:\n",
    "    \"\"\"A 2-dimensional vector, in coordinate form.\"\"\"\n",
    "    \n",
    "    def __init__(self, x, y):\n",
    "        self._x = x\n",
    "        self._y = y\n",
    "    \n",
    "    def __repr__(self):\n",
    "        return f'{type(self).__name__}({self.x!r}, {self.y!r})'\n",
    "    \n",
    "    def __eq__(self, other):\n",
    "        if isinstance(other, type(self)):\n",
    "            return self.x == other.x and self.y == other.y\n",
    "        return NotImplemented\n",
    "    \n",
    "    def __hash__(self):\n",
    "        return hash((self.x, self.y))\n",
    "    \n",
    "    def __abs__(self):\n",
    "        \"\"\"The magnitude of this vector.\"\"\"\n",
    "        return math.hypot(self.x, self.y)\n",
    "    \n",
    "    @property\n",
    "    def x(self):\n",
    "        return self._x\n",
    "    \n",
    "    @property\n",
    "    def y(self):\n",
    "        return self._y"
   ]
  },
  {
   "cell_type": "markdown",
   "id": "a2bf9360-84c2-4a60-98a8-a0320a302d43",
   "metadata": {},
   "source": []
  },
  {
   "cell_type": "code",
   "execution_count": null,
   "id": "86a93db0-d11f-4205-9b83-c442a63f3b90",
   "metadata": {},
   "outputs": [],
   "source": [
    "v = VectorA(10, 20)"
   ]
  },
  {
   "cell_type": "markdown",
   "id": "bd6be4a6-9b27-484d-9b80-4c2a2f64f669",
   "metadata": {},
   "source": [
    "#### A subtlety: The \"cannot\" in \"cannot change\""
   ]
  },
  {
   "cell_type": "code",
   "execution_count": null,
   "id": "9dc73dfd-bf46-4880-9a53-63b008062f4f",
   "metadata": {},
   "outputs": [],
   "source": []
  },
  {
   "cell_type": "markdown",
   "id": "bd7b05f5-ced2-4446-957e-b88692403c6b",
   "metadata": {},
   "source": [
    "### Of state"
   ]
  }
 ],
 "metadata": {
  "kernelspec": {
   "display_name": "Python 3 (ipykernel)",
   "language": "python",
   "name": "python3"
  },
  "language_info": {
   "codemirror_mode": {
    "name": "ipython",
    "version": 3
   },
   "file_extension": ".py",
   "mimetype": "text/x-python",
   "name": "python",
   "nbconvert_exporter": "python",
   "pygments_lexer": "ipython3",
   "version": "3.10.6"
  }
 },
 "nbformat": 4,
 "nbformat_minor": 5
}
