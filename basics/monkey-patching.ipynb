{
 "cells": [
  {
   "cell_type": "code",
   "execution_count": 18,
   "id": "bb8fc139-a501-46a3-a8e9-5b9b590e14d3",
   "metadata": {},
   "outputs": [],
   "source": [
    "import io \n",
    "import sys"
   ]
  },
  {
   "cell_type": "code",
   "execution_count": 3,
   "id": "ac04c615-60eb-4171-8c3e-d687ce5e342d",
   "metadata": {},
   "outputs": [],
   "source": [
    "iostring = io.StringIO(\"five by five\")"
   ]
  },
  {
   "cell_type": "code",
   "execution_count": 7,
   "id": "69345424-256a-4c6b-8ca4-00a590b7be51",
   "metadata": {},
   "outputs": [
    {
     "name": "stdout",
     "output_type": "stream",
     "text": [
      "\n"
     ]
    }
   ],
   "source": [
    "print(iostring.readline())"
   ]
  },
  {
   "cell_type": "code",
   "execution_count": 8,
   "id": "c736b823-7c7d-485a-b73e-ece229284aba",
   "metadata": {},
   "outputs": [
    {
     "data": {
      "text/plain": [
       "'five by five'"
      ]
     },
     "execution_count": 8,
     "metadata": {},
     "output_type": "execute_result"
    }
   ],
   "source": [
    "iostring.getvalue()"
   ]
  },
  {
   "cell_type": "code",
   "execution_count": 9,
   "id": "63819542-0c8e-4831-9157-f9e723ee6237",
   "metadata": {},
   "outputs": [],
   "source": [
    "ioo = io.StringIO()"
   ]
  },
  {
   "cell_type": "code",
   "execution_count": 10,
   "id": "dafdbdb5-0544-4716-b9e0-ccc2cc469f77",
   "metadata": {},
   "outputs": [],
   "source": [
    "print(\"I feel itchy\", file=ioo)"
   ]
  },
  {
   "cell_type": "code",
   "execution_count": 11,
   "id": "77d973e9-2d7f-4d08-830d-1b36c0ff5031",
   "metadata": {},
   "outputs": [
    {
     "data": {
      "text/plain": [
       "'I feel itchy\\n'"
      ]
     },
     "execution_count": 11,
     "metadata": {},
     "output_type": "execute_result"
    }
   ],
   "source": [
    "ioo.getvalue()"
   ]
  },
  {
   "cell_type": "code",
   "execution_count": 12,
   "id": "af43657c-14c4-49f8-9422-a1b7ce704cd3",
   "metadata": {},
   "outputs": [],
   "source": [
    "print(\"more to write\", file=ioo)"
   ]
  },
  {
   "cell_type": "code",
   "execution_count": 13,
   "id": "3c003a0a-0fea-40e2-bc0d-b7a4957d101f",
   "metadata": {},
   "outputs": [
    {
     "data": {
      "text/plain": [
       "'I feel itchy\\nmore to write\\n'"
      ]
     },
     "execution_count": 13,
     "metadata": {},
     "output_type": "execute_result"
    }
   ],
   "source": [
    "ioo.getvalue()"
   ]
  },
  {
   "cell_type": "code",
   "execution_count": 14,
   "id": "f9c82c1d-3470-4756-8b27-126e4cebaa0a",
   "metadata": {},
   "outputs": [],
   "source": [
    "ioo.close()"
   ]
  },
  {
   "cell_type": "code",
   "execution_count": 15,
   "id": "7efeb65a-e3b9-4ac3-8c0d-8bbdf520083c",
   "metadata": {
    "tags": [
     "raises-exception"
    ]
   },
   "outputs": [
    {
     "ename": "ValueError",
     "evalue": "I/O operation on closed file",
     "output_type": "error",
     "traceback": [
      "\u001b[1;31m---------------------------------------------------------------------------\u001b[0m",
      "\u001b[1;31mValueError\u001b[0m                                Traceback (most recent call last)",
      "Input \u001b[1;32mIn [15]\u001b[0m, in \u001b[0;36m<cell line: 1>\u001b[1;34m()\u001b[0m\n\u001b[1;32m----> 1\u001b[0m \u001b[38;5;28;43mprint\u001b[39;49m\u001b[43m(\u001b[49m\u001b[38;5;124;43m\"\u001b[39;49m\u001b[38;5;124;43mI don\u001b[39;49m\u001b[38;5;124;43m'\u001b[39;49m\u001b[38;5;124;43mt care that you are closed\u001b[39;49m\u001b[38;5;124;43m\"\u001b[39;49m\u001b[43m,\u001b[49m\u001b[43m \u001b[49m\u001b[43mfile\u001b[49m\u001b[38;5;241;43m=\u001b[39;49m\u001b[43mioo\u001b[49m\u001b[43m)\u001b[49m\n",
      "\u001b[1;31mValueError\u001b[0m: I/O operation on closed file"
     ]
    }
   ],
   "source": [
    "print(\"I don't care that you are closed\", file=ioo)"
   ]
  },
  {
   "cell_type": "code",
   "execution_count": null,
   "id": "2248e525-995a-490f-944a-1cdf96f0e552",
   "metadata": {},
   "outputs": [],
   "source": [
    "x = 10\n",
    "print(x)\n",
    "x = 20\n",
    "print(x)\n",
    "x = ...  # How do I put back whatever the old value of x was?"
   ]
  },
  {
   "cell_type": "markdown",
   "id": "a6cd63d5-6322-436f-b51d-f4dec1cfa2ed",
   "metadata": {},
   "source": [
    "General form of most `try`-`finally` logic:\n",
    "\n",
    "```python\n",
    "set_things_up()\n",
    "try:\n",
    "    do_stuff()\n",
    "finally:\n",
    "    clean_up_from_what_we_set_up()\n",
    "```"
   ]
  },
  {
   "cell_type": "code",
   "execution_count": 23,
   "id": "ff0b96d3-9e68-41d1-94d1-6523c609ae64",
   "metadata": {},
   "outputs": [],
   "source": [
    "myerr = io.StringIO()\n",
    "\n",
    "backup = sys.stderr\n",
    "sys.stderr = myerr\n",
    "try:\n",
    "    print(\"printing to aliased stderr\", file=sys.stderr)\n",
    "finally: \n",
    "    sys.stderr = backup"
   ]
  },
  {
   "cell_type": "code",
   "execution_count": 24,
   "id": "0ca3fd2b-dd7c-4bd1-8ab9-22fb93a19058",
   "metadata": {},
   "outputs": [
    {
     "data": {
      "text/plain": [
       "'printing to aliased stderr\\n'"
      ]
     },
     "execution_count": 24,
     "metadata": {},
     "output_type": "execute_result"
    }
   ],
   "source": [
    "myerr.getvalue()"
   ]
  },
  {
   "cell_type": "code",
   "execution_count": null,
   "id": "cacb7f6d-cf7e-4254-bce3-70df3aade4ec",
   "metadata": {},
   "outputs": [],
   "source": []
  }
 ],
 "metadata": {
  "kernelspec": {
   "display_name": "Python 3 (ipykernel)",
   "language": "python",
   "name": "python3"
  },
  "language_info": {
   "codemirror_mode": {
    "name": "ipython",
    "version": 3
   },
   "file_extension": ".py",
   "mimetype": "text/x-python",
   "name": "python",
   "nbconvert_exporter": "python",
   "pygments_lexer": "ipython3",
   "version": "3.10.2"
  }
 },
 "nbformat": 4,
 "nbformat_minor": 5
}
