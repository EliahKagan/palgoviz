{
 "cells": [
  {
   "cell_type": "code",
   "execution_count": 1,
   "id": "c9648b9c-55a8-48a6-9075-520b79ee721c",
   "metadata": {},
   "outputs": [],
   "source": [
    "class Widget:\n",
    "    \"\"\"A thing we can frobnicate.\"\"\"\n",
    "    def frobnicate(self):\n",
    "        print(f'{self} is frobnicating, {self} is frobnicating real nice.')"
   ]
  },
  {
   "cell_type": "code",
   "execution_count": 2,
   "id": "9ead9fe3-7266-461d-b73d-e4d7bb0e140f",
   "metadata": {},
   "outputs": [],
   "source": [
    "wf = Widget()"
   ]
  },
  {
   "cell_type": "code",
   "execution_count": 3,
   "id": "06c8aea3-3813-43ad-81cd-b4eca3871bc2",
   "metadata": {},
   "outputs": [
    {
     "name": "stdout",
     "output_type": "stream",
     "text": [
      "<__main__.Widget object at 0x000002354CDEBA90> is frobnicating, <__main__.Widget object at 0x000002354CDEBA90> is frobnicating real nice.\n"
     ]
    }
   ],
   "source": [
    "wf.frobnicate()"
   ]
  },
  {
   "cell_type": "code",
   "execution_count": 4,
   "id": "16b48613-0011-4c5b-ad7b-9bcf012d6cf1",
   "metadata": {},
   "outputs": [
    {
     "data": {
      "text/plain": [
       "(object,)"
      ]
     },
     "execution_count": 4,
     "metadata": {},
     "output_type": "execute_result"
    }
   ],
   "source": [
    "Widget.__bases__"
   ]
  },
  {
   "cell_type": "code",
   "execution_count": 5,
   "id": "1b3cea89-4f1f-4054-b5e4-4f69a520516e",
   "metadata": {},
   "outputs": [
    {
     "data": {
      "text/plain": [
       "[__main__.Widget, object]"
      ]
     },
     "execution_count": 5,
     "metadata": {},
     "output_type": "execute_result"
    }
   ],
   "source": [
    "Widget.mro()"
   ]
  },
  {
   "cell_type": "code",
   "execution_count": 6,
   "id": "a159d2f5-f8b9-4585-8dcf-4b8760e9b6d6",
   "metadata": {},
   "outputs": [],
   "source": [
    "o = object()"
   ]
  },
  {
   "cell_type": "code",
   "execution_count": 7,
   "id": "1fccd5da-cfea-44c8-a99e-75abeb8cb48e",
   "metadata": {},
   "outputs": [],
   "source": [
    "w = Widget()"
   ]
  },
  {
   "cell_type": "code",
   "execution_count": 8,
   "id": "48f4614a-3e93-474b-844a-cba7291fe67d",
   "metadata": {},
   "outputs": [
    {
     "data": {
      "text/plain": [
       "'<__main__.Widget object at 0x000002354CED8D00>'"
      ]
     },
     "execution_count": 8,
     "metadata": {},
     "output_type": "execute_result"
    }
   ],
   "source": [
    "repr(w)"
   ]
  },
  {
   "cell_type": "code",
   "execution_count": 9,
   "id": "069b7973-1e93-420c-b98e-50a79658008a",
   "metadata": {},
   "outputs": [
    {
     "data": {
      "text/plain": [
       "<__main__.Widget at 0x2354ced8d00>"
      ]
     },
     "execution_count": 9,
     "metadata": {},
     "output_type": "execute_result"
    }
   ],
   "source": [
    "w # the same as the code above, looks different because jupyter uses ipython"
   ]
  },
  {
   "cell_type": "code",
   "execution_count": 10,
   "id": "7fec50bd-e224-4e48-9a9e-0a5008551924",
   "metadata": {},
   "outputs": [],
   "source": [
    "w.myattribute = 'my attribute' "
   ]
  },
  {
   "cell_type": "code",
   "execution_count": 11,
   "id": "dba2dc50-828a-43cf-a5fc-480f916b203b",
   "metadata": {},
   "outputs": [
    {
     "data": {
      "text/plain": [
       "'my attribute'"
      ]
     },
     "execution_count": 11,
     "metadata": {},
     "output_type": "execute_result"
    }
   ],
   "source": [
    "w.myattribute"
   ]
  },
  {
   "cell_type": "code",
   "execution_count": 12,
   "id": "94b0924e-4997-494a-b711-6d484678044b",
   "metadata": {},
   "outputs": [
    {
     "data": {
      "text/plain": [
       "151746697424"
      ]
     },
     "execution_count": 12,
     "metadata": {},
     "output_type": "execute_result"
    }
   ],
   "source": [
    "hash(w)"
   ]
  },
  {
   "cell_type": "code",
   "execution_count": 13,
   "id": "e786d8b2-5051-42c9-a1bb-d536d8905d82",
   "metadata": {},
   "outputs": [
    {
     "data": {
      "text/plain": [
       "__main__.Widget"
      ]
     },
     "execution_count": 13,
     "metadata": {},
     "output_type": "execute_result"
    }
   ],
   "source": [
    "type(w)"
   ]
  },
  {
   "cell_type": "code",
   "execution_count": 14,
   "id": "46108675-ba1a-4ddb-9bec-486cb95fd2d6",
   "metadata": {},
   "outputs": [
    {
     "data": {
      "text/plain": [
       "type"
      ]
     },
     "execution_count": 14,
     "metadata": {},
     "output_type": "execute_result"
    }
   ],
   "source": [
    "type(Widget)"
   ]
  },
  {
   "cell_type": "code",
   "execution_count": 15,
   "id": "d6de47d8-7eee-49f7-bdba-7c1afdecd243",
   "metadata": {},
   "outputs": [
    {
     "data": {
      "text/plain": [
       "type"
      ]
     },
     "execution_count": 15,
     "metadata": {},
     "output_type": "execute_result"
    }
   ],
   "source": [
    "type(int)"
   ]
  },
  {
   "cell_type": "code",
   "execution_count": 16,
   "id": "5f9c8874-31af-42ca-ac72-ca5255865101",
   "metadata": {},
   "outputs": [
    {
     "data": {
      "text/plain": [
       "True"
      ]
     },
     "execution_count": 16,
     "metadata": {},
     "output_type": "execute_result"
    }
   ],
   "source": [
    "isinstance(w, Widget)"
   ]
  },
  {
   "cell_type": "code",
   "execution_count": 17,
   "id": "4deb1bdd-1645-4f0f-ba11-0b55d28d474e",
   "metadata": {},
   "outputs": [],
   "source": [
    "class Gadget(Widget):\n",
    "    pass"
   ]
  },
  {
   "cell_type": "code",
   "execution_count": 18,
   "id": "d32f5e1f-210f-46c1-a7b0-eee581febf96",
   "metadata": {},
   "outputs": [],
   "source": [
    "g = Gadget()"
   ]
  },
  {
   "cell_type": "code",
   "execution_count": 19,
   "id": "d44599cd-8692-4780-9c01-7b486a1e21f3",
   "metadata": {},
   "outputs": [
    {
     "data": {
      "text/plain": [
       "__main__.Gadget"
      ]
     },
     "execution_count": 19,
     "metadata": {},
     "output_type": "execute_result"
    }
   ],
   "source": [
    "type(g)"
   ]
  },
  {
   "cell_type": "code",
   "execution_count": 20,
   "id": "997c80de-642e-4b71-adfb-662cf0d44731",
   "metadata": {},
   "outputs": [
    {
     "data": {
      "text/plain": [
       "True"
      ]
     },
     "execution_count": 20,
     "metadata": {},
     "output_type": "execute_result"
    }
   ],
   "source": [
    "isinstance(g, Gadget)"
   ]
  },
  {
   "cell_type": "code",
   "execution_count": 21,
   "id": "9bf6c4f8-643e-4e4b-9fd2-e0d509e81912",
   "metadata": {},
   "outputs": [
    {
     "data": {
      "text/plain": [
       "True"
      ]
     },
     "execution_count": 21,
     "metadata": {},
     "output_type": "execute_result"
    }
   ],
   "source": [
    "isinstance(g, Widget)"
   ]
  },
  {
   "cell_type": "code",
   "execution_count": 22,
   "id": "3156da34-2c2a-4fad-a635-bb7f093d71d6",
   "metadata": {},
   "outputs": [
    {
     "name": "stdout",
     "output_type": "stream",
     "text": [
      "<__main__.Gadget object at 0x000002354CEDAB90> is frobnicating, <__main__.Gadget object at 0x000002354CEDAB90> is frobnicating real nice.\n"
     ]
    }
   ],
   "source": [
    "g.frobnicate()"
   ]
  },
  {
   "cell_type": "code",
   "execution_count": 23,
   "id": "b66b458e-588f-4115-9ef9-89a301ce8681",
   "metadata": {},
   "outputs": [],
   "source": [
    "class Squirrel:\n",
    "    \"\"\"A squirrel that is both a tree- and social-climber.\"\"\"\n",
    "    \n",
    "    _demeanor = 'genial'\n",
    "    \n",
    "    def __init__(self, name, color):\n",
    "        \"\"\"Create a squirrel of the given name and color.\"\"\"\n",
    "        self._name = name\n",
    "        self._color = color\n",
    "    \n",
    "    def announce(self):\n",
    "        \"\"\"Announce this squirrel at a fancy party.\"\"\"\n",
    "        print(f'{self.name} the {self.color} squirrel has arrived!')\n",
    "    \n",
    "    @property\n",
    "    def name(self):\n",
    "        \"\"\"This squirrel's name.\"\"\"\n",
    "        return self._name\n",
    "    \n",
    "    @property\n",
    "    def color(self):\n",
    "        \"\"\"The color of this squirrel.\"\"\"\n",
    "        return self._color\n",
    "    \n",
    "    @property\n",
    "    def demeanor(self):\n",
    "        \"\"\"This squirrel's demeanor, supposedly.\"\"\"\n",
    "        return self._demeanor\n",
    "    \n",
    "    @demeanor.setter\n",
    "    def demeanor(self, value):\n",
    "        if value not in ('genial', 'nice'):\n",
    "            raise ValueError('demeanors do not support honesty')\n",
    "        self._demeanor = value"
   ]
  },
  {
   "cell_type": "code",
   "execution_count": 24,
   "id": "48a4ff29-686f-4896-b4ee-e1d31aeac736",
   "metadata": {},
   "outputs": [
    {
     "name": "stdout",
     "output_type": "stream",
     "text": [
      "Alice the gray squirrel has arrived!\n"
     ]
    }
   ],
   "source": [
    "alice = Squirrel('Alice', 'gray')\n",
    "alice.announce()"
   ]
  },
  {
   "cell_type": "code",
   "execution_count": 25,
   "id": "efee4ded-465e-4720-ad26-ade16de5b908",
   "metadata": {},
   "outputs": [
    {
     "data": {
      "text/plain": [
       "'genial'"
      ]
     },
     "execution_count": 25,
     "metadata": {},
     "output_type": "execute_result"
    }
   ],
   "source": [
    "alice.demeanor"
   ]
  },
  {
   "cell_type": "code",
   "execution_count": 26,
   "id": "6bc58ee9-7520-49cb-bf13-780a4bd55031",
   "metadata": {
    "tags": [
     "raises-exception"
    ]
   },
   "outputs": [
    {
     "ename": "ValueError",
     "evalue": "demeanors do not support honesty",
     "output_type": "error",
     "traceback": [
      "\u001b[1;31m---------------------------------------------------------------------------\u001b[0m",
      "\u001b[1;31mValueError\u001b[0m                                Traceback (most recent call last)",
      "Input \u001b[1;32mIn [26]\u001b[0m, in \u001b[0;36m<cell line: 1>\u001b[1;34m()\u001b[0m\n\u001b[1;32m----> 1\u001b[0m alice\u001b[38;5;241m.\u001b[39mdemeanor \u001b[38;5;241m=\u001b[39m \u001b[38;5;124m'\u001b[39m\u001b[38;5;124mvery mean\u001b[39m\u001b[38;5;124m'\u001b[39m\n",
      "Input \u001b[1;32mIn [23]\u001b[0m, in \u001b[0;36mSquirrel.demeanor\u001b[1;34m(self, value)\u001b[0m\n\u001b[0;32m     30\u001b[0m \u001b[38;5;129m@demeanor\u001b[39m\u001b[38;5;241m.\u001b[39msetter\n\u001b[0;32m     31\u001b[0m \u001b[38;5;28;01mdef\u001b[39;00m \u001b[38;5;21mdemeanor\u001b[39m(\u001b[38;5;28mself\u001b[39m, value):\n\u001b[0;32m     32\u001b[0m     \u001b[38;5;28;01mif\u001b[39;00m value \u001b[38;5;129;01mnot\u001b[39;00m \u001b[38;5;129;01min\u001b[39;00m (\u001b[38;5;124m'\u001b[39m\u001b[38;5;124mgenial\u001b[39m\u001b[38;5;124m'\u001b[39m, \u001b[38;5;124m'\u001b[39m\u001b[38;5;124mnice\u001b[39m\u001b[38;5;124m'\u001b[39m):\n\u001b[1;32m---> 33\u001b[0m         \u001b[38;5;28;01mraise\u001b[39;00m \u001b[38;5;167;01mValueError\u001b[39;00m(\u001b[38;5;124m'\u001b[39m\u001b[38;5;124mdemeanors do not support honesty\u001b[39m\u001b[38;5;124m'\u001b[39m)\n\u001b[0;32m     34\u001b[0m     \u001b[38;5;28mself\u001b[39m\u001b[38;5;241m.\u001b[39m_demeanor \u001b[38;5;241m=\u001b[39m value\n",
      "\u001b[1;31mValueError\u001b[0m: demeanors do not support honesty"
     ]
    }
   ],
   "source": [
    "alice.demeanor = 'very mean'"
   ]
  },
  {
   "cell_type": "code",
   "execution_count": 27,
   "id": "58af53f4-e448-4377-8d92-0a2eaef1c529",
   "metadata": {},
   "outputs": [
    {
     "data": {
      "text/plain": [
       "{'_name': 'Alice', '_color': 'gray'}"
      ]
     },
     "execution_count": 27,
     "metadata": {},
     "output_type": "execute_result"
    }
   ],
   "source": [
    "alice.__dict__"
   ]
  },
  {
   "cell_type": "code",
   "execution_count": 28,
   "id": "afec0823-d40a-4b07-9414-414d65ffbe29",
   "metadata": {},
   "outputs": [],
   "source": [
    "alice.demeanor = 'nice'"
   ]
  },
  {
   "cell_type": "code",
   "execution_count": 29,
   "id": "3be45b92-1e46-4b1f-be92-7bd223c83c71",
   "metadata": {
    "tags": [
     "raises-exception"
    ]
   },
   "outputs": [
    {
     "data": {
      "text/plain": [
       "{'_name': 'Alice', '_color': 'gray', '_demeanor': 'nice'}"
      ]
     },
     "execution_count": 29,
     "metadata": {},
     "output_type": "execute_result"
    }
   ],
   "source": [
    "alice.__dict__"
   ]
  },
  {
   "cell_type": "code",
   "execution_count": 30,
   "id": "50c7e890-6efa-4216-b32a-faa9651584c2",
   "metadata": {},
   "outputs": [
    {
     "data": {
      "text/plain": [
       "'nice'"
      ]
     },
     "execution_count": 30,
     "metadata": {},
     "output_type": "execute_result"
    }
   ],
   "source": [
    "alice.demeanor"
   ]
  },
  {
   "cell_type": "code",
   "execution_count": 31,
   "id": "8a71d554-29bc-4423-ba0b-ccff2390f2d5",
   "metadata": {},
   "outputs": [],
   "source": [
    "alice.nickname = 'Eve'"
   ]
  },
  {
   "cell_type": "code",
   "execution_count": 32,
   "id": "53520887-3f6b-4a38-9bbd-7d71f3d0b102",
   "metadata": {},
   "outputs": [
    {
     "data": {
      "text/plain": [
       "{'_name': 'Alice', '_color': 'gray', '_demeanor': 'nice', 'nickname': 'Eve'}"
      ]
     },
     "execution_count": 32,
     "metadata": {},
     "output_type": "execute_result"
    }
   ],
   "source": [
    "alice.__dict__"
   ]
  },
  {
   "cell_type": "code",
   "execution_count": 33,
   "id": "707698ff-055b-4b7d-bc0f-a60e22190079",
   "metadata": {},
   "outputs": [
    {
     "data": {
      "text/plain": [
       "'genial'"
      ]
     },
     "execution_count": 33,
     "metadata": {},
     "output_type": "execute_result"
    }
   ],
   "source": [
    "Squirrel._demeanor"
   ]
  },
  {
   "cell_type": "code",
   "execution_count": 34,
   "id": "f4da68c6-3b65-4260-bc69-8993e95c4709",
   "metadata": {
    "tags": [
     "raises-exception"
    ]
   },
   "outputs": [
    {
     "ename": "AttributeError",
     "evalue": "type object 'Squirrel' has no attribute '_name'",
     "output_type": "error",
     "traceback": [
      "\u001b[1;31m---------------------------------------------------------------------------\u001b[0m",
      "\u001b[1;31mAttributeError\u001b[0m                            Traceback (most recent call last)",
      "Input \u001b[1;32mIn [34]\u001b[0m, in \u001b[0;36m<cell line: 1>\u001b[1;34m()\u001b[0m\n\u001b[1;32m----> 1\u001b[0m \u001b[43mSquirrel\u001b[49m\u001b[38;5;241;43m.\u001b[39;49m\u001b[43m_name\u001b[49m\n",
      "\u001b[1;31mAttributeError\u001b[0m: type object 'Squirrel' has no attribute '_name'"
     ]
    }
   ],
   "source": [
    "Squirrel._name"
   ]
  },
  {
   "cell_type": "code",
   "execution_count": 36,
   "id": "0ec14095-c527-46c0-95fe-40f0dcede5c3",
   "metadata": {},
   "outputs": [],
   "source": [
    "class Squirrel:\n",
    "    \"\"\"A squirrel that is both a tree- and social-climber.\"\"\"\n",
    "    \n",
    "    __slots__ = ('_name', '_color', '_demeanor')\n",
    "    \n",
    "    # _demeanor = 'genial'\n",
    "    \n",
    "    def __init__(self, name, color):\n",
    "        \"\"\"Create a squirrel of the given name and color.\"\"\"\n",
    "        self._name = name\n",
    "        self._color = color\n",
    "        self._demeanor = 'genial'\n",
    "    \n",
    "    def announce(self):\n",
    "        \"\"\"Announce this squirrel at a fancy party.\"\"\"\n",
    "        print(f'{self.name} the {self.color} squirrel has arrived!')\n",
    "    \n",
    "    @property\n",
    "    def name(self):\n",
    "        \"\"\"This squirrel's name.\"\"\"\n",
    "        return self._name\n",
    "    \n",
    "    @property\n",
    "    def color(self):\n",
    "        \"\"\"The color of this squirrel.\"\"\"\n",
    "        return self._color\n",
    "    \n",
    "    @property\n",
    "    def demeanor(self):\n",
    "        \"\"\"This squirrel's demeanor, supposedly.\"\"\"\n",
    "        return self._demeanor\n",
    "    \n",
    "    @demeanor.setter\n",
    "    def demeanor(self, value):\n",
    "        if value not in ('genial', 'nice'):\n",
    "            raise ValueError('demeanors do not support honesty')\n",
    "        self._demeanor = value"
   ]
  },
  {
   "cell_type": "code",
   "execution_count": 37,
   "id": "a98ae357-836c-41d5-987c-93766b56ac3f",
   "metadata": {},
   "outputs": [],
   "source": [
    "bob = Squirrel('Bob', 'red')"
   ]
  },
  {
   "cell_type": "code",
   "execution_count": 38,
   "id": "d9757ca9-694b-4924-b0a4-895d7d28207d",
   "metadata": {},
   "outputs": [
    {
     "data": {
      "text/plain": [
       "'Bob'"
      ]
     },
     "execution_count": 38,
     "metadata": {},
     "output_type": "execute_result"
    }
   ],
   "source": [
    "bob.name"
   ]
  },
  {
   "cell_type": "code",
   "execution_count": 39,
   "id": "87f7f6b4-55c1-4ad4-9593-fdf2a223ce85",
   "metadata": {},
   "outputs": [
    {
     "data": {
      "text/plain": [
       "'red'"
      ]
     },
     "execution_count": 39,
     "metadata": {},
     "output_type": "execute_result"
    }
   ],
   "source": [
    "bob.color"
   ]
  },
  {
   "cell_type": "code",
   "execution_count": 40,
   "id": "1197c744-2c19-4e44-a2bf-197151667a63",
   "metadata": {},
   "outputs": [
    {
     "data": {
      "text/plain": [
       "'genial'"
      ]
     },
     "execution_count": 40,
     "metadata": {},
     "output_type": "execute_result"
    }
   ],
   "source": [
    "bob.demeanor"
   ]
  },
  {
   "cell_type": "code",
   "execution_count": 41,
   "id": "a8650299-315b-4cb8-8a04-52bee4e581ad",
   "metadata": {
    "tags": [
     "raises-exception"
    ]
   },
   "outputs": [
    {
     "ename": "AttributeError",
     "evalue": "'Squirrel' object has no attribute '__dict__'",
     "output_type": "error",
     "traceback": [
      "\u001b[1;31m---------------------------------------------------------------------------\u001b[0m",
      "\u001b[1;31mAttributeError\u001b[0m                            Traceback (most recent call last)",
      "Input \u001b[1;32mIn [41]\u001b[0m, in \u001b[0;36m<cell line: 1>\u001b[1;34m()\u001b[0m\n\u001b[1;32m----> 1\u001b[0m \u001b[43mbob\u001b[49m\u001b[38;5;241;43m.\u001b[39;49m\u001b[38;5;18;43m__dict__\u001b[39;49m\n",
      "\u001b[1;31mAttributeError\u001b[0m: 'Squirrel' object has no attribute '__dict__'"
     ]
    }
   ],
   "source": [
    "bob.__dict__"
   ]
  },
  {
   "cell_type": "code",
   "execution_count": null,
   "id": "5610f72b-4e97-4244-a758-40c649362a5c",
   "metadata": {},
   "outputs": [],
   "source": []
  }
 ],
 "metadata": {
  "kernelspec": {
   "display_name": "Python 3 (ipykernel)",
   "language": "python",
   "name": "python3"
  },
  "language_info": {
   "codemirror_mode": {
    "name": "ipython",
    "version": 3
   },
   "file_extension": ".py",
   "mimetype": "text/x-python",
   "name": "python",
   "nbconvert_exporter": "python",
   "pygments_lexer": "ipython3",
   "version": "3.10.2"
  }
 },
 "nbformat": 4,
 "nbformat_minor": 5
}
