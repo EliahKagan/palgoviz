{
 "cells": [
  {
   "cell_type": "markdown",
   "id": "fc94bbc0-81c2-4890-93f0-774e358a2aec",
   "metadata": {},
   "source": [
    "# Ranges and slices"
   ]
  },
  {
   "cell_type": "code",
   "execution_count": 1,
   "id": "c7148dce-691d-4c85-99c3-6bae7f51c39b",
   "metadata": {},
   "outputs": [
    {
     "data": {
      "text/plain": [
       "[0, 1, 2, 3, 4, 5, 6, 7, 8, 9]"
      ]
     },
     "execution_count": 1,
     "metadata": {},
     "output_type": "execute_result"
    }
   ],
   "source": [
    "a = list(range(10))\n",
    "a"
   ]
  },
  {
   "cell_type": "code",
   "execution_count": 2,
   "id": "bc6e07e8-031f-43c4-bee5-5dac40473d1a",
   "metadata": {},
   "outputs": [
    {
     "data": {
      "text/plain": [
       "9"
      ]
     },
     "execution_count": 2,
     "metadata": {},
     "output_type": "execute_result"
    }
   ],
   "source": [
    "a[-1]"
   ]
  },
  {
   "cell_type": "code",
   "execution_count": 3,
   "id": "672ec7da-8fe2-4bd1-ba0f-5826066f4996",
   "metadata": {},
   "outputs": [
    {
     "data": {
      "text/plain": [
       "8"
      ]
     },
     "execution_count": 3,
     "metadata": {},
     "output_type": "execute_result"
    }
   ],
   "source": [
    "a[-2]"
   ]
  },
  {
   "cell_type": "code",
   "execution_count": 4,
   "id": "ecdee939-d2c9-4994-9d8f-33c8c660a9c7",
   "metadata": {},
   "outputs": [
    {
     "data": {
      "text/plain": [
       "10"
      ]
     },
     "execution_count": 4,
     "metadata": {},
     "output_type": "execute_result"
    }
   ],
   "source": [
    "len(a)"
   ]
  },
  {
   "cell_type": "code",
   "execution_count": 5,
   "id": "76ed634a-0d90-4f7f-9965-6aff597102fd",
   "metadata": {},
   "outputs": [
    {
     "data": {
      "text/plain": [
       "0"
      ]
     },
     "execution_count": 5,
     "metadata": {},
     "output_type": "execute_result"
    }
   ],
   "source": [
    "a[-10]"
   ]
  },
  {
   "cell_type": "code",
   "execution_count": 6,
   "id": "9fea9c4d-5bda-479f-9bf4-0061c9c682b3",
   "metadata": {
    "tags": []
   },
   "outputs": [],
   "source": [
    "#a[-11]"
   ]
  },
  {
   "cell_type": "code",
   "execution_count": 7,
   "id": "8a16602f-507e-4fc6-962c-34217fb626dc",
   "metadata": {},
   "outputs": [],
   "source": [
    "#a[10]"
   ]
  },
  {
   "cell_type": "markdown",
   "id": "dc398ad6-9723-4665-a9b5-54b619aaf14e",
   "metadata": {},
   "source": [
    "#### Negative indices are subtracted from the length:"
   ]
  },
  {
   "cell_type": "code",
   "execution_count": 8,
   "id": "77593f2f-407f-4a1e-9804-3d740906bd6e",
   "metadata": {},
   "outputs": [
    {
     "data": {
      "text/plain": [
       "4"
      ]
     },
     "execution_count": 8,
     "metadata": {},
     "output_type": "execute_result"
    }
   ],
   "source": [
    "a[-6]"
   ]
  },
  {
   "cell_type": "code",
   "execution_count": 9,
   "id": "26801284-3cca-4ac3-9524-177afa0869c3",
   "metadata": {},
   "outputs": [
    {
     "data": {
      "text/plain": [
       "4"
      ]
     },
     "execution_count": 9,
     "metadata": {},
     "output_type": "execute_result"
    }
   ],
   "source": [
    "a[len(a) - 6]"
   ]
  },
  {
   "cell_type": "code",
   "execution_count": 10,
   "id": "475802f0-41e9-4d69-b4d4-0a07ffb6136a",
   "metadata": {},
   "outputs": [],
   "source": [
    "#range()"
   ]
  },
  {
   "cell_type": "code",
   "execution_count": 11,
   "id": "b7533f2d-7333-4f44-b98e-7667f0382b85",
   "metadata": {},
   "outputs": [
    {
     "data": {
      "text/plain": [
       "range(0, 10)"
      ]
     },
     "execution_count": 11,
     "metadata": {},
     "output_type": "execute_result"
    }
   ],
   "source": [
    "r = range(10)\n",
    "r"
   ]
  },
  {
   "cell_type": "code",
   "execution_count": 12,
   "id": "19b61a88-6488-4dee-904a-3363634e78c9",
   "metadata": {},
   "outputs": [
    {
     "data": {
      "text/plain": [
       "0"
      ]
     },
     "execution_count": 12,
     "metadata": {},
     "output_type": "execute_result"
    }
   ],
   "source": [
    "r[0]"
   ]
  },
  {
   "cell_type": "code",
   "execution_count": 13,
   "id": "1b0cfe07-8cc1-4b48-891c-1baf75f22fc8",
   "metadata": {},
   "outputs": [
    {
     "data": {
      "text/plain": [
       "1"
      ]
     },
     "execution_count": 13,
     "metadata": {},
     "output_type": "execute_result"
    }
   ],
   "source": [
    "r[1]"
   ]
  },
  {
   "cell_type": "code",
   "execution_count": 14,
   "id": "32fff343-abb8-4288-a913-be5384f56819",
   "metadata": {},
   "outputs": [
    {
     "data": {
      "text/plain": [
       "9"
      ]
     },
     "execution_count": 14,
     "metadata": {},
     "output_type": "execute_result"
    }
   ],
   "source": [
    "r[-1]"
   ]
  },
  {
   "cell_type": "code",
   "execution_count": 15,
   "id": "7b6a2ad8-d229-472f-a584-d18b220288ba",
   "metadata": {},
   "outputs": [
    {
     "data": {
      "text/plain": [
       "<function __main__.<lambda>(x)>"
      ]
     },
     "execution_count": 15,
     "metadata": {},
     "output_type": "execute_result"
    }
   ],
   "source": [
    "lambda x: x"
   ]
  },
  {
   "cell_type": "code",
   "execution_count": 16,
   "id": "b641b311-1335-46f2-9ee8-156371ef2a5f",
   "metadata": {},
   "outputs": [
    {
     "data": {
      "text/plain": [
       "range(0, 10)"
      ]
     },
     "execution_count": 16,
     "metadata": {},
     "output_type": "execute_result"
    }
   ],
   "source": [
    "range(0, 10)"
   ]
  },
  {
   "cell_type": "code",
   "execution_count": 17,
   "id": "1dc3f5da-ad18-4b0d-a5bd-ffdb711a9eb5",
   "metadata": {},
   "outputs": [
    {
     "data": {
      "text/plain": [
       "True"
      ]
     },
     "execution_count": 17,
     "metadata": {},
     "output_type": "execute_result"
    }
   ],
   "source": [
    "range(10) == range(0, 10)"
   ]
  },
  {
   "cell_type": "code",
   "execution_count": 18,
   "id": "b6a3f5fc-fba8-4611-9e14-fa9bcc780698",
   "metadata": {},
   "outputs": [
    {
     "data": {
      "text/plain": [
       "range(10, 20)"
      ]
     },
     "execution_count": 18,
     "metadata": {},
     "output_type": "execute_result"
    }
   ],
   "source": [
    "range(10, 20)"
   ]
  },
  {
   "cell_type": "code",
   "execution_count": 19,
   "id": "1b92e6e0-6b25-4396-85bd-c3359e293689",
   "metadata": {},
   "outputs": [
    {
     "data": {
      "text/plain": [
       "[10, 11, 12, 13, 14, 15, 16, 17, 18, 19]"
      ]
     },
     "execution_count": 19,
     "metadata": {},
     "output_type": "execute_result"
    }
   ],
   "source": [
    "list(range(10, 20))"
   ]
  },
  {
   "cell_type": "code",
   "execution_count": 20,
   "id": "f349e7e3-d15c-49ea-bdc1-8012f5cf8bca",
   "metadata": {},
   "outputs": [
    {
     "data": {
      "text/plain": [
       "range(-1000, -990)"
      ]
     },
     "execution_count": 20,
     "metadata": {},
     "output_type": "execute_result"
    }
   ],
   "source": [
    "range(-1000, -990)"
   ]
  },
  {
   "cell_type": "code",
   "execution_count": 21,
   "id": "2a0f7204-5684-4752-b99d-fa3eda63f7ae",
   "metadata": {},
   "outputs": [
    {
     "data": {
      "text/plain": [
       "[-1000, -999, -998, -997, -996, -995, -994, -993, -992, -991]"
      ]
     },
     "execution_count": 21,
     "metadata": {},
     "output_type": "execute_result"
    }
   ],
   "source": [
    "list(range(-1000, -990))"
   ]
  },
  {
   "cell_type": "code",
   "execution_count": 22,
   "id": "90a487e9-5d2a-4d27-bd4e-093e8bbd5710",
   "metadata": {},
   "outputs": [
    {
     "data": {
      "text/plain": [
       "range(50, 100, 7)"
      ]
     },
     "execution_count": 22,
     "metadata": {},
     "output_type": "execute_result"
    }
   ],
   "source": [
    "range(50, 100, 7)"
   ]
  },
  {
   "cell_type": "code",
   "execution_count": 23,
   "id": "c17ba06d-305e-489d-877f-a50364b0a3b4",
   "metadata": {},
   "outputs": [
    {
     "data": {
      "text/plain": [
       "[50, 57, 64, 71, 78, 85, 92, 99]"
      ]
     },
     "execution_count": 23,
     "metadata": {},
     "output_type": "execute_result"
    }
   ],
   "source": [
    "list(range(50, 105, 7))"
   ]
  },
  {
   "cell_type": "code",
   "execution_count": 24,
   "id": "f6d25b94-d840-4da5-884c-4493c1289fc8",
   "metadata": {},
   "outputs": [
    {
     "data": {
      "text/plain": [
       "[105, 98, 91, 84, 77, 70, 63, 56]"
      ]
     },
     "execution_count": 24,
     "metadata": {},
     "output_type": "execute_result"
    }
   ],
   "source": [
    "list(range(105, 50, -7))"
   ]
  },
  {
   "cell_type": "code",
   "execution_count": 25,
   "id": "54f12e41-2ec3-4b84-b41a-7ef61c845de3",
   "metadata": {},
   "outputs": [
    {
     "data": {
      "text/plain": [
       "[104, 97, 90, 83, 76, 69, 62, 55]"
      ]
     },
     "execution_count": 25,
     "metadata": {},
     "output_type": "execute_result"
    }
   ],
   "source": [
    "list(range(104, 49, -7))"
   ]
  },
  {
   "cell_type": "code",
   "execution_count": 26,
   "id": "03010de5-1ef1-4d8d-830a-79999e84dac3",
   "metadata": {},
   "outputs": [
    {
     "data": {
      "text/plain": [
       "range(0, 10)"
      ]
     },
     "execution_count": 26,
     "metadata": {},
     "output_type": "execute_result"
    }
   ],
   "source": [
    "r"
   ]
  },
  {
   "cell_type": "code",
   "execution_count": 27,
   "id": "bb1865e0-af29-4e3f-ad2a-77c2ea2dc549",
   "metadata": {},
   "outputs": [
    {
     "data": {
      "text/plain": [
       "['__bool__',\n",
       " '__class__',\n",
       " '__contains__',\n",
       " '__delattr__',\n",
       " '__dir__',\n",
       " '__doc__',\n",
       " '__eq__',\n",
       " '__format__',\n",
       " '__ge__',\n",
       " '__getattribute__',\n",
       " '__getitem__',\n",
       " '__gt__',\n",
       " '__hash__',\n",
       " '__init__',\n",
       " '__init_subclass__',\n",
       " '__iter__',\n",
       " '__le__',\n",
       " '__len__',\n",
       " '__lt__',\n",
       " '__ne__',\n",
       " '__new__',\n",
       " '__reduce__',\n",
       " '__reduce_ex__',\n",
       " '__repr__',\n",
       " '__reversed__',\n",
       " '__setattr__',\n",
       " '__sizeof__',\n",
       " '__str__',\n",
       " '__subclasshook__',\n",
       " 'count',\n",
       " 'index',\n",
       " 'start',\n",
       " 'step',\n",
       " 'stop']"
      ]
     },
     "execution_count": 27,
     "metadata": {},
     "output_type": "execute_result"
    }
   ],
   "source": [
    "dir(r)"
   ]
  },
  {
   "cell_type": "code",
   "execution_count": 28,
   "id": "d405c66e-c3a7-419a-a31a-cd931bca425e",
   "metadata": {},
   "outputs": [
    {
     "data": {
      "text/plain": [
       "2"
      ]
     },
     "execution_count": 28,
     "metadata": {},
     "output_type": "execute_result"
    }
   ],
   "source": [
    "[10, 20, 30, 20].count(20)"
   ]
  },
  {
   "cell_type": "code",
   "execution_count": 29,
   "id": "89cf694e-b2a6-464d-b421-0230970b090e",
   "metadata": {},
   "outputs": [
    {
     "data": {
      "text/plain": [
       "1"
      ]
     },
     "execution_count": 29,
     "metadata": {},
     "output_type": "execute_result"
    }
   ],
   "source": [
    "range(10).count(7)"
   ]
  },
  {
   "cell_type": "code",
   "execution_count": 30,
   "id": "45b99ba0-5f10-4b54-8a9a-102a8930b7c9",
   "metadata": {},
   "outputs": [
    {
     "data": {
      "text/plain": [
       "0"
      ]
     },
     "execution_count": 30,
     "metadata": {},
     "output_type": "execute_result"
    }
   ],
   "source": [
    "range(10).count(10)"
   ]
  },
  {
   "cell_type": "code",
   "execution_count": 31,
   "id": "a9344307-633f-45d3-833e-6c33308b3e82",
   "metadata": {},
   "outputs": [
    {
     "data": {
      "text/plain": [
       "range(104, 49, -7)"
      ]
     },
     "execution_count": 31,
     "metadata": {},
     "output_type": "execute_result"
    }
   ],
   "source": [
    "s = range(104, 49, -7)\n",
    "s"
   ]
  },
  {
   "cell_type": "code",
   "execution_count": 32,
   "id": "86ca8e3c-bef1-4ebe-adc0-ab29bbf226c9",
   "metadata": {},
   "outputs": [
    {
     "data": {
      "text/plain": [
       "[104, 97, 90, 83, 76, 69, 62, 55]"
      ]
     },
     "execution_count": 32,
     "metadata": {},
     "output_type": "execute_result"
    }
   ],
   "source": [
    "list(s)"
   ]
  },
  {
   "cell_type": "code",
   "execution_count": 33,
   "id": "7089d3cb-f378-4b81-b6f5-9918f8a9a546",
   "metadata": {},
   "outputs": [
    {
     "data": {
      "text/plain": [
       "3"
      ]
     },
     "execution_count": 33,
     "metadata": {},
     "output_type": "execute_result"
    }
   ],
   "source": [
    "s.index(83)"
   ]
  },
  {
   "cell_type": "code",
   "execution_count": 34,
   "id": "e35a4a6f-f67a-4b69-a41f-9f40a12ed46f",
   "metadata": {},
   "outputs": [],
   "source": [
    "#s.index(84)"
   ]
  },
  {
   "cell_type": "code",
   "execution_count": 35,
   "id": "11082739-3e6d-4766-bf39-905f297c5bb6",
   "metadata": {},
   "outputs": [
    {
     "data": {
      "text/plain": [
       "(104, 49, -7)"
      ]
     },
     "execution_count": 35,
     "metadata": {},
     "output_type": "execute_result"
    }
   ],
   "source": [
    "s.start, s.stop, s.step"
   ]
  },
  {
   "cell_type": "code",
   "execution_count": 36,
   "id": "647c9095-072b-483a-8876-500a47d463a7",
   "metadata": {},
   "outputs": [
    {
     "data": {
      "text/plain": [
       "range(104, 49, -7)"
      ]
     },
     "execution_count": 36,
     "metadata": {},
     "output_type": "execute_result"
    }
   ],
   "source": [
    "s"
   ]
  },
  {
   "cell_type": "code",
   "execution_count": 37,
   "id": "77f80651-4e40-42d5-8335-e9f36afa98d7",
   "metadata": {},
   "outputs": [
    {
     "data": {
      "text/plain": [
       "False"
      ]
     },
     "execution_count": 37,
     "metadata": {},
     "output_type": "execute_result"
    }
   ],
   "source": [
    "10**100 in range(-10**110, 10**110, 3)"
   ]
  },
  {
   "cell_type": "code",
   "execution_count": 38,
   "id": "c61d4cab-7e11-4b1e-83d7-c8e7ced4b14a",
   "metadata": {},
   "outputs": [
    {
     "data": {
      "text/plain": [
       "[10, 11, 12, 13, 14, 15, 16, 17, 18, 19, 20, 21, 22, 23, 24]"
      ]
     },
     "execution_count": 38,
     "metadata": {},
     "output_type": "execute_result"
    }
   ],
   "source": [
    "a = list(range(10, 25))\n",
    "a"
   ]
  },
  {
   "cell_type": "code",
   "execution_count": 39,
   "id": "a2efe042-1be6-47e4-b468-633d33450387",
   "metadata": {},
   "outputs": [
    {
     "data": {
      "text/plain": [
       "[14, 15, 16, 17, 18, 19]"
      ]
     },
     "execution_count": 39,
     "metadata": {},
     "output_type": "execute_result"
    }
   ],
   "source": [
    "a[4:10]"
   ]
  },
  {
   "cell_type": "code",
   "execution_count": 40,
   "id": "9d2f89d1-687b-45dc-9874-e023382dc1e4",
   "metadata": {},
   "outputs": [
    {
     "data": {
      "text/plain": [
       "[14, 16, 18]"
      ]
     },
     "execution_count": 40,
     "metadata": {},
     "output_type": "execute_result"
    }
   ],
   "source": [
    "a[4:10:2]"
   ]
  },
  {
   "cell_type": "code",
   "execution_count": 41,
   "id": "06b40203-7553-4a37-aa29-6e18effa0bef",
   "metadata": {},
   "outputs": [
    {
     "data": {
      "text/plain": [
       "[20, 19, 18, 17, 16, 15]"
      ]
     },
     "execution_count": 41,
     "metadata": {},
     "output_type": "execute_result"
    }
   ],
   "source": [
    "a[10:4:-1]"
   ]
  },
  {
   "cell_type": "code",
   "execution_count": 42,
   "id": "19e1bef8-a748-4766-9a40-3cb28a4230d1",
   "metadata": {},
   "outputs": [
    {
     "data": {
      "text/plain": [
       "[24, 23, 22, 21, 20, 19, 18, 17, 16, 15, 14, 13, 12, 11, 10]"
      ]
     },
     "execution_count": 42,
     "metadata": {},
     "output_type": "execute_result"
    }
   ],
   "source": [
    "a[::-1]"
   ]
  },
  {
   "cell_type": "code",
   "execution_count": 43,
   "id": "cb9e659b-aec0-4d1e-ac14-380f1fcd4d59",
   "metadata": {},
   "outputs": [
    {
     "data": {
      "text/plain": [
       "[10, 11, 12, 13, 14, 15, 16, 17, 18, 19, 20, 21, 22, 23, 24]"
      ]
     },
     "execution_count": 43,
     "metadata": {},
     "output_type": "execute_result"
    }
   ],
   "source": [
    "a[:]"
   ]
  },
  {
   "cell_type": "code",
   "execution_count": 44,
   "id": "b808f84b-95fd-4938-8e21-100dd835d227",
   "metadata": {},
   "outputs": [
    {
     "data": {
      "text/plain": [
       "[10, 11, 12, 13, 14, 15, 16, 17, 18, 19, 20, 21, 22, 23, 24]"
      ]
     },
     "execution_count": 44,
     "metadata": {},
     "output_type": "execute_result"
    }
   ],
   "source": [
    "a"
   ]
  },
  {
   "cell_type": "code",
   "execution_count": 45,
   "id": "d4ebf02e-0780-4d46-8346-ebc7dbd080e1",
   "metadata": {},
   "outputs": [],
   "source": [
    "mid = len(a) // 2"
   ]
  },
  {
   "cell_type": "code",
   "execution_count": 46,
   "id": "5590dc70-7294-4980-b328-4cf06a39da93",
   "metadata": {},
   "outputs": [
    {
     "data": {
      "text/plain": [
       "[10, 11, 12, 13, 14, 15, 16]"
      ]
     },
     "execution_count": 46,
     "metadata": {},
     "output_type": "execute_result"
    }
   ],
   "source": [
    "a[:mid]"
   ]
  },
  {
   "cell_type": "code",
   "execution_count": 47,
   "id": "155f697a-7378-478b-bfc0-6ea292908a6c",
   "metadata": {},
   "outputs": [
    {
     "data": {
      "text/plain": [
       "[17, 18, 19, 20, 21, 22, 23, 24]"
      ]
     },
     "execution_count": 47,
     "metadata": {},
     "output_type": "execute_result"
    }
   ],
   "source": [
    "a[mid:]"
   ]
  },
  {
   "cell_type": "code",
   "execution_count": 48,
   "id": "9433eaa1-320e-4823-90f8-dd8b9edc0a5c",
   "metadata": {},
   "outputs": [
    {
     "data": {
      "text/plain": [
       "[17, 18, 19, 20, 21, 22, 23]"
      ]
     },
     "execution_count": 48,
     "metadata": {},
     "output_type": "execute_result"
    }
   ],
   "source": [
    "a[mid:-1]"
   ]
  },
  {
   "cell_type": "code",
   "execution_count": 49,
   "id": "ec44df14-4460-4e2f-8aec-ef199cb08a93",
   "metadata": {},
   "outputs": [
    {
     "data": {
      "text/plain": [
       "slice(7, -1, None)"
      ]
     },
     "execution_count": 49,
     "metadata": {},
     "output_type": "execute_result"
    }
   ],
   "source": [
    "slice(mid, -1)"
   ]
  },
  {
   "cell_type": "code",
   "execution_count": 50,
   "id": "f21b13ae-5355-420c-8e0e-eb1afcf0a01f",
   "metadata": {},
   "outputs": [
    {
     "data": {
      "text/plain": [
       "[17, 18, 19, 20, 21, 22, 23]"
      ]
     },
     "execution_count": 50,
     "metadata": {},
     "output_type": "execute_result"
    }
   ],
   "source": [
    "a[slice(mid, -1)]"
   ]
  },
  {
   "cell_type": "code",
   "execution_count": 51,
   "id": "b51b27ab-d13f-4d46-8902-048460ead293",
   "metadata": {},
   "outputs": [
    {
     "data": {
      "text/plain": [
       "range(0, 10)"
      ]
     },
     "execution_count": 51,
     "metadata": {},
     "output_type": "execute_result"
    }
   ],
   "source": [
    "r"
   ]
  },
  {
   "cell_type": "code",
   "execution_count": 52,
   "id": "ad54459d-0590-4a47-8ce3-0c9b4a02511f",
   "metadata": {},
   "outputs": [],
   "source": [
    "#r.stop = 11"
   ]
  },
  {
   "cell_type": "code",
   "execution_count": 53,
   "id": "c7a7d6c6-12b2-4c97-9e35-e09342233413",
   "metadata": {},
   "outputs": [
    {
     "data": {
      "text/plain": [
       "range(0, 10)"
      ]
     },
     "execution_count": 53,
     "metadata": {},
     "output_type": "execute_result"
    }
   ],
   "source": [
    "range(10) # Left out values are default"
   ]
  },
  {
   "cell_type": "code",
   "execution_count": 54,
   "id": "a500bd5d-183c-41b0-b281-df795c4e74ef",
   "metadata": {},
   "outputs": [
    {
     "data": {
      "text/plain": [
       "slice(None, 10, None)"
      ]
     },
     "execution_count": 54,
     "metadata": {},
     "output_type": "execute_result"
    }
   ],
   "source": [
    "slice(10) # left out values are None"
   ]
  },
  {
   "cell_type": "code",
   "execution_count": 55,
   "id": "40dd99b6-0a8b-45f0-ad4e-fd9731dc1350",
   "metadata": {},
   "outputs": [
    {
     "data": {
      "text/plain": [
       "10"
      ]
     },
     "execution_count": 55,
     "metadata": {},
     "output_type": "execute_result"
    }
   ],
   "source": [
    "len(range(10))"
   ]
  },
  {
   "cell_type": "code",
   "execution_count": 56,
   "id": "837f6029-06e9-40ee-93b4-9ea33eb7f327",
   "metadata": {},
   "outputs": [],
   "source": [
    "a = [0, 1, 2, 3, 4, 5, 6, 7, 8, 9]"
   ]
  },
  {
   "cell_type": "code",
   "execution_count": 57,
   "id": "5a66c26b-6e61-4096-8fd1-7dd2d53ea13f",
   "metadata": {},
   "outputs": [
    {
     "data": {
      "text/plain": [
       "[5, 6, 7, 8]"
      ]
     },
     "execution_count": 57,
     "metadata": {},
     "output_type": "execute_result"
    }
   ],
   "source": [
    "a[slice(5,-1)]"
   ]
  },
  {
   "cell_type": "code",
   "execution_count": 58,
   "id": "6bea36b1-34af-4619-8e57-7c7ca9949854",
   "metadata": {},
   "outputs": [
    {
     "data": {
      "text/plain": [
       "[0, 1, 2, 3, 4]"
      ]
     },
     "execution_count": 58,
     "metadata": {},
     "output_type": "execute_result"
    }
   ],
   "source": [
    "a[slice(5)]"
   ]
  },
  {
   "cell_type": "code",
   "execution_count": 59,
   "id": "e8064c5d-c4ed-421d-821e-0df97e87f50d",
   "metadata": {},
   "outputs": [
    {
     "data": {
      "text/plain": [
       "[5, 6, 7, 8, 9]"
      ]
     },
     "execution_count": 59,
     "metadata": {},
     "output_type": "execute_result"
    }
   ],
   "source": [
    "a[slice(5,None)]"
   ]
  },
  {
   "cell_type": "code",
   "execution_count": 60,
   "id": "5142faab-a848-48bc-b0c5-9d97adf5fa03",
   "metadata": {},
   "outputs": [
    {
     "data": {
      "text/plain": [
       "[5, 6, 7, 8, 9]"
      ]
     },
     "execution_count": 60,
     "metadata": {},
     "output_type": "execute_result"
    }
   ],
   "source": [
    "a[slice(5,None)]"
   ]
  },
  {
   "cell_type": "code",
   "execution_count": 61,
   "id": "3f5d2025-ddef-4b7b-8cd9-e8b8f69738dc",
   "metadata": {},
   "outputs": [
    {
     "data": {
      "text/plain": [
       "slice(5, None, None)"
      ]
     },
     "execution_count": 61,
     "metadata": {},
     "output_type": "execute_result"
    }
   ],
   "source": [
    "slice(5,None)"
   ]
  },
  {
   "cell_type": "code",
   "execution_count": 62,
   "id": "e3db18d9-1574-4ec4-b964-6bb560233382",
   "metadata": {},
   "outputs": [
    {
     "data": {
      "text/plain": [
       "slice(None, 5, None)"
      ]
     },
     "execution_count": 62,
     "metadata": {},
     "output_type": "execute_result"
    }
   ],
   "source": [
    "slice(None, 5, None)"
   ]
  },
  {
   "cell_type": "code",
   "execution_count": 63,
   "id": "777cb19d-468b-4469-be89-cc1502a2faa9",
   "metadata": {},
   "outputs": [
    {
     "data": {
      "text/plain": [
       "[5, 6, 7, 8, 9]"
      ]
     },
     "execution_count": 63,
     "metadata": {},
     "output_type": "execute_result"
    }
   ],
   "source": [
    "a[5:]"
   ]
  },
  {
   "cell_type": "code",
   "execution_count": 64,
   "id": "be8da0f4-2d90-4cb0-84aa-0e74c3444942",
   "metadata": {},
   "outputs": [
    {
     "data": {
      "text/plain": [
       "[0, 1, 2, 3, 4]"
      ]
     },
     "execution_count": 64,
     "metadata": {},
     "output_type": "execute_result"
    }
   ],
   "source": [
    "a[:5]"
   ]
  },
  {
   "cell_type": "code",
   "execution_count": 65,
   "id": "1e570c5e-fe26-4272-95d5-ed389be539fb",
   "metadata": {},
   "outputs": [
    {
     "data": {
      "text/plain": [
       "[1, 2]"
      ]
     },
     "execution_count": 65,
     "metadata": {},
     "output_type": "execute_result"
    }
   ],
   "source": [
    "a[1:3]"
   ]
  },
  {
   "cell_type": "code",
   "execution_count": 66,
   "id": "eba6f4f7-7f2e-4347-8c93-993ffb4f2ba3",
   "metadata": {},
   "outputs": [
    {
     "data": {
      "text/plain": [
       "[]"
      ]
     },
     "execution_count": 66,
     "metadata": {},
     "output_type": "execute_result"
    }
   ],
   "source": [
    "a[7:6]"
   ]
  },
  {
   "cell_type": "code",
   "execution_count": 67,
   "id": "10600ab4-6667-43e9-be84-dec0055ae754",
   "metadata": {},
   "outputs": [
    {
     "data": {
      "text/plain": [
       "[9, 8, 7, 6, 5]"
      ]
     },
     "execution_count": 67,
     "metadata": {},
     "output_type": "execute_result"
    }
   ],
   "source": [
    "a[9:4:-1]"
   ]
  },
  {
   "cell_type": "code",
   "execution_count": 68,
   "id": "7602fa29-d6e5-47a1-99f9-0a9133c59a97",
   "metadata": {},
   "outputs": [
    {
     "data": {
      "text/plain": [
       "[9, 7, 5]"
      ]
     },
     "execution_count": 68,
     "metadata": {},
     "output_type": "execute_result"
    }
   ],
   "source": [
    "a[9:3:-2]"
   ]
  },
  {
   "cell_type": "code",
   "execution_count": 69,
   "id": "c3c0fb88-09da-4fdb-a3ee-0a032caace9c",
   "metadata": {},
   "outputs": [
    {
     "data": {
      "text/plain": [
       "[9, 8, 7, 6, 5, 4]"
      ]
     },
     "execution_count": 69,
     "metadata": {},
     "output_type": "execute_result"
    }
   ],
   "source": [
    "a[:3:-1]"
   ]
  },
  {
   "cell_type": "code",
   "execution_count": 70,
   "id": "79e116c2-13ae-4a60-b6a3-892fe5456c85",
   "metadata": {},
   "outputs": [
    {
     "data": {
      "text/plain": [
       "[0, 2, 4, 6]"
      ]
     },
     "execution_count": 70,
     "metadata": {},
     "output_type": "execute_result"
    }
   ],
   "source": [
    "a[:8:2]"
   ]
  },
  {
   "cell_type": "code",
   "execution_count": 71,
   "id": "929866e0-28bb-4ba8-8e6d-7dbaf5cc457f",
   "metadata": {},
   "outputs": [
    {
     "data": {
      "text/plain": [
       "[9, 8, 7, 6, 5, 4, 3, 2, 1, 0]"
      ]
     },
     "execution_count": 71,
     "metadata": {},
     "output_type": "execute_result"
    }
   ],
   "source": [
    "a[::-1]"
   ]
  },
  {
   "cell_type": "code",
   "execution_count": 72,
   "id": "3fbb53b2-6b16-43ac-bcae-9aeb4caa3e2f",
   "metadata": {},
   "outputs": [
    {
     "data": {
      "text/plain": [
       "[0, 1, 2, 3, 4, 5, 6, 7, 8, 9]"
      ]
     },
     "execution_count": 72,
     "metadata": {},
     "output_type": "execute_result"
    }
   ],
   "source": [
    "a[::]"
   ]
  },
  {
   "cell_type": "code",
   "execution_count": 73,
   "id": "4735aa5f-d813-4f34-8a00-92a96fe49a0d",
   "metadata": {},
   "outputs": [
    {
     "data": {
      "text/plain": [
       "[0, 1, 2, 3, 4, 5, 6, 7, 8, 9]"
      ]
     },
     "execution_count": 73,
     "metadata": {},
     "output_type": "execute_result"
    }
   ],
   "source": [
    "a[:]"
   ]
  },
  {
   "cell_type": "code",
   "execution_count": 74,
   "id": "e53f98c4-f218-4044-b7f9-27195f13b60b",
   "metadata": {},
   "outputs": [],
   "source": [
    "b = a[::-1]"
   ]
  },
  {
   "cell_type": "code",
   "execution_count": 75,
   "id": "326d8a9e-3211-4a44-a1af-65ad645301a4",
   "metadata": {},
   "outputs": [
    {
     "data": {
      "text/plain": [
       "[9, 8, 7, 6, 5, 4, 3, 2, 1, 0]"
      ]
     },
     "execution_count": 75,
     "metadata": {},
     "output_type": "execute_result"
    }
   ],
   "source": [
    "b"
   ]
  },
  {
   "cell_type": "code",
   "execution_count": 76,
   "id": "e4b0640f-4d53-4cc0-ae63-913ebe868f31",
   "metadata": {},
   "outputs": [],
   "source": [
    "b[0:5] = [0, 1, 2, 3, 4]"
   ]
  },
  {
   "cell_type": "code",
   "execution_count": 77,
   "id": "e398de71-c8ee-4eee-8fba-a3a5acf2ad8a",
   "metadata": {},
   "outputs": [
    {
     "data": {
      "text/plain": [
       "[0, 1, 2, 3, 4, 4, 3, 2, 1, 0]"
      ]
     },
     "execution_count": 77,
     "metadata": {},
     "output_type": "execute_result"
    }
   ],
   "source": [
    "b"
   ]
  },
  {
   "cell_type": "code",
   "execution_count": 78,
   "id": "3ad2a786-80e8-43cc-ad29-1bc9a202a0d1",
   "metadata": {},
   "outputs": [],
   "source": [
    "c = list(range(10))"
   ]
  },
  {
   "cell_type": "code",
   "execution_count": 79,
   "id": "74443f5a-44cf-4e2c-87c7-481328d61681",
   "metadata": {},
   "outputs": [
    {
     "data": {
      "text/plain": [
       "[0, 1, 2, 3, 4, 5, 6, 7, 8, 9]"
      ]
     },
     "execution_count": 79,
     "metadata": {},
     "output_type": "execute_result"
    }
   ],
   "source": [
    "c"
   ]
  },
  {
   "cell_type": "code",
   "execution_count": 80,
   "id": "2ff752ee-d650-4e20-8a88-ffe571e5306e",
   "metadata": {},
   "outputs": [],
   "source": [
    "c [:5] = [9, 8, 7, 6, 5]"
   ]
  },
  {
   "cell_type": "code",
   "execution_count": 81,
   "id": "c94e8bca-41e6-483c-966d-bc41a7e3a613",
   "metadata": {},
   "outputs": [],
   "source": [
    "del c[:5]"
   ]
  },
  {
   "cell_type": "code",
   "execution_count": 82,
   "id": "4c5694d3-9ab2-4860-a416-126bd8101997",
   "metadata": {},
   "outputs": [
    {
     "data": {
      "text/plain": [
       "[5, 6, 7, 8, 9]"
      ]
     },
     "execution_count": 82,
     "metadata": {},
     "output_type": "execute_result"
    }
   ],
   "source": [
    "c"
   ]
  },
  {
   "cell_type": "code",
   "execution_count": 83,
   "id": "c2f0a4a1-9eaa-4d62-8940-18e2dc18461f",
   "metadata": {},
   "outputs": [],
   "source": [
    "d = range(10)"
   ]
  },
  {
   "cell_type": "code",
   "execution_count": 84,
   "id": "12a7fe82-3fc2-4fd8-9dba-41b2ef66ca3f",
   "metadata": {},
   "outputs": [
    {
     "name": "stdout",
     "output_type": "stream",
     "text": [
      "Help on class range in module builtins:\n",
      "\n",
      "class range(object)\n",
      " |  range(stop) -> range object\n",
      " |  range(start, stop[, step]) -> range object\n",
      " |  \n",
      " |  Return an object that produces a sequence of integers from start (inclusive)\n",
      " |  to stop (exclusive) by step.  range(i, j) produces i, i+1, i+2, ..., j-1.\n",
      " |  start defaults to 0, and stop is omitted!  range(4) produces 0, 1, 2, 3.\n",
      " |  These are exactly the valid indices for a list of 4 elements.\n",
      " |  When step is given, it specifies the increment (or decrement).\n",
      " |  \n",
      " |  Methods defined here:\n",
      " |  \n",
      " |  __bool__(self, /)\n",
      " |      self != 0\n",
      " |  \n",
      " |  __contains__(self, key, /)\n",
      " |      Return key in self.\n",
      " |  \n",
      " |  __eq__(self, value, /)\n",
      " |      Return self==value.\n",
      " |  \n",
      " |  __ge__(self, value, /)\n",
      " |      Return self>=value.\n",
      " |  \n",
      " |  __getattribute__(self, name, /)\n",
      " |      Return getattr(self, name).\n",
      " |  \n",
      " |  __getitem__(self, key, /)\n",
      " |      Return self[key].\n",
      " |  \n",
      " |  __gt__(self, value, /)\n",
      " |      Return self>value.\n",
      " |  \n",
      " |  __hash__(self, /)\n",
      " |      Return hash(self).\n",
      " |  \n",
      " |  __iter__(self, /)\n",
      " |      Implement iter(self).\n",
      " |  \n",
      " |  __le__(self, value, /)\n",
      " |      Return self<=value.\n",
      " |  \n",
      " |  __len__(self, /)\n",
      " |      Return len(self).\n",
      " |  \n",
      " |  __lt__(self, value, /)\n",
      " |      Return self<value.\n",
      " |  \n",
      " |  __ne__(self, value, /)\n",
      " |      Return self!=value.\n",
      " |  \n",
      " |  __reduce__(...)\n",
      " |      Helper for pickle.\n",
      " |  \n",
      " |  __repr__(self, /)\n",
      " |      Return repr(self).\n",
      " |  \n",
      " |  __reversed__(...)\n",
      " |      Return a reverse iterator.\n",
      " |  \n",
      " |  count(...)\n",
      " |      rangeobject.count(value) -> integer -- return number of occurrences of value\n",
      " |  \n",
      " |  index(...)\n",
      " |      rangeobject.index(value) -> integer -- return index of value.\n",
      " |      Raise ValueError if the value is not present.\n",
      " |  \n",
      " |  ----------------------------------------------------------------------\n",
      " |  Static methods defined here:\n",
      " |  \n",
      " |  __new__(*args, **kwargs) from builtins.type\n",
      " |      Create and return a new object.  See help(type) for accurate signature.\n",
      " |  \n",
      " |  ----------------------------------------------------------------------\n",
      " |  Data descriptors defined here:\n",
      " |  \n",
      " |  start\n",
      " |  \n",
      " |  step\n",
      " |  \n",
      " |  stop\n",
      "\n"
     ]
    }
   ],
   "source": [
    "help(range)"
   ]
  },
  {
   "cell_type": "code",
   "execution_count": 85,
   "id": "f9d85c0e-5c0b-49c0-a290-870a8376cca1",
   "metadata": {},
   "outputs": [
    {
     "data": {
      "text/plain": [
       "0"
      ]
     },
     "execution_count": 85,
     "metadata": {},
     "output_type": "execute_result"
    }
   ],
   "source": [
    "d.start"
   ]
  },
  {
   "cell_type": "code",
   "execution_count": 86,
   "id": "00ac8d10-ef81-4aac-82cd-c1b83d315ad2",
   "metadata": {},
   "outputs": [
    {
     "data": {
      "text/plain": [
       "10"
      ]
     },
     "execution_count": 86,
     "metadata": {},
     "output_type": "execute_result"
    }
   ],
   "source": [
    "d.stop"
   ]
  },
  {
   "cell_type": "code",
   "execution_count": 87,
   "id": "8a3b3940-cefa-48aa-b6cd-5dcecf2ccba9",
   "metadata": {},
   "outputs": [
    {
     "data": {
      "text/plain": [
       "1"
      ]
     },
     "execution_count": 87,
     "metadata": {},
     "output_type": "execute_result"
    }
   ],
   "source": [
    "d.step"
   ]
  },
  {
   "cell_type": "code",
   "execution_count": 88,
   "id": "13971f25-8016-4b3a-950f-606c70924e61",
   "metadata": {},
   "outputs": [
    {
     "data": {
      "text/plain": [
       "['__bool__',\n",
       " '__class__',\n",
       " '__contains__',\n",
       " '__delattr__',\n",
       " '__dir__',\n",
       " '__doc__',\n",
       " '__eq__',\n",
       " '__format__',\n",
       " '__ge__',\n",
       " '__getattribute__',\n",
       " '__getitem__',\n",
       " '__gt__',\n",
       " '__hash__',\n",
       " '__init__',\n",
       " '__init_subclass__',\n",
       " '__iter__',\n",
       " '__le__',\n",
       " '__len__',\n",
       " '__lt__',\n",
       " '__ne__',\n",
       " '__new__',\n",
       " '__reduce__',\n",
       " '__reduce_ex__',\n",
       " '__repr__',\n",
       " '__reversed__',\n",
       " '__setattr__',\n",
       " '__sizeof__',\n",
       " '__str__',\n",
       " '__subclasshook__',\n",
       " 'count',\n",
       " 'index',\n",
       " 'start',\n",
       " 'step',\n",
       " 'stop']"
      ]
     },
     "execution_count": 88,
     "metadata": {},
     "output_type": "execute_result"
    }
   ],
   "source": [
    "dir(d)"
   ]
  },
  {
   "cell_type": "code",
   "execution_count": 89,
   "id": "9844ecf3-c259-4468-b415-2bc9225c8762",
   "metadata": {},
   "outputs": [],
   "source": [
    "e = slice(None,10,None)"
   ]
  },
  {
   "cell_type": "code",
   "execution_count": 90,
   "id": "3683bd37-c8fa-42a4-94b7-e7679f4eb310",
   "metadata": {},
   "outputs": [
    {
     "name": "stdout",
     "output_type": "stream",
     "text": [
      "Help on slice object:\n",
      "\n",
      "class slice(object)\n",
      " |  slice(stop)\n",
      " |  slice(start, stop[, step])\n",
      " |  \n",
      " |  Create a slice object.  This is used for extended slicing (e.g. a[0:10:2]).\n",
      " |  \n",
      " |  Methods defined here:\n",
      " |  \n",
      " |  __eq__(self, value, /)\n",
      " |      Return self==value.\n",
      " |  \n",
      " |  __ge__(self, value, /)\n",
      " |      Return self>=value.\n",
      " |  \n",
      " |  __getattribute__(self, name, /)\n",
      " |      Return getattr(self, name).\n",
      " |  \n",
      " |  __gt__(self, value, /)\n",
      " |      Return self>value.\n",
      " |  \n",
      " |  __le__(self, value, /)\n",
      " |      Return self<=value.\n",
      " |  \n",
      " |  __lt__(self, value, /)\n",
      " |      Return self<value.\n",
      " |  \n",
      " |  __ne__(self, value, /)\n",
      " |      Return self!=value.\n",
      " |  \n",
      " |  __reduce__(...)\n",
      " |      Return state information for pickling.\n",
      " |  \n",
      " |  __repr__(self, /)\n",
      " |      Return repr(self).\n",
      " |  \n",
      " |  indices(...)\n",
      " |      S.indices(len) -> (start, stop, stride)\n",
      " |      \n",
      " |      Assuming a sequence of length len, calculate the start and stop\n",
      " |      indices, and the stride length of the extended slice described by\n",
      " |      S. Out of bounds indices are clipped in a manner consistent with the\n",
      " |      handling of normal slices.\n",
      " |  \n",
      " |  ----------------------------------------------------------------------\n",
      " |  Static methods defined here:\n",
      " |  \n",
      " |  __new__(*args, **kwargs) from builtins.type\n",
      " |      Create and return a new object.  See help(type) for accurate signature.\n",
      " |  \n",
      " |  ----------------------------------------------------------------------\n",
      " |  Data descriptors defined here:\n",
      " |  \n",
      " |  start\n",
      " |  \n",
      " |  step\n",
      " |  \n",
      " |  stop\n",
      " |  \n",
      " |  ----------------------------------------------------------------------\n",
      " |  Data and other attributes defined here:\n",
      " |  \n",
      " |  __hash__ = None\n",
      "\n"
     ]
    }
   ],
   "source": [
    "help(e)"
   ]
  },
  {
   "cell_type": "code",
   "execution_count": 91,
   "id": "9a0eebf6-efb6-4f7b-a549-4b14ca484363",
   "metadata": {},
   "outputs": [],
   "source": [
    "e.start"
   ]
  },
  {
   "cell_type": "code",
   "execution_count": 92,
   "id": "342be8de-1ddc-4024-812d-cceb910fcca2",
   "metadata": {},
   "outputs": [],
   "source": [
    "e.step"
   ]
  },
  {
   "cell_type": "code",
   "execution_count": 93,
   "id": "63b853ee-91d0-493e-9417-922560ff4df4",
   "metadata": {},
   "outputs": [
    {
     "data": {
      "text/plain": [
       "10"
      ]
     },
     "execution_count": 93,
     "metadata": {},
     "output_type": "execute_result"
    }
   ],
   "source": [
    "e.stop"
   ]
  },
  {
   "cell_type": "code",
   "execution_count": 94,
   "id": "b2cf88ce-0feb-42f1-960d-336e93341511",
   "metadata": {},
   "outputs": [
    {
     "data": {
      "text/plain": [
       "(None, 10, None)"
      ]
     },
     "execution_count": 94,
     "metadata": {},
     "output_type": "execute_result"
    }
   ],
   "source": [
    "(e.start, e.stop, e.step)"
   ]
  },
  {
   "cell_type": "code",
   "execution_count": 95,
   "id": "42dde40b-e9f8-412c-be7a-2d6b38f89b18",
   "metadata": {},
   "outputs": [
    {
     "data": {
      "text/plain": [
       "0"
      ]
     },
     "execution_count": 95,
     "metadata": {},
     "output_type": "execute_result"
    }
   ],
   "source": [
    "d.start"
   ]
  },
  {
   "cell_type": "code",
   "execution_count": 96,
   "id": "9f459fa9-9b08-4b3a-97fd-af06cd42a6b8",
   "metadata": {},
   "outputs": [],
   "source": [
    "# d.start = 1  # will fail with AttributeError because ranges are immutable "
   ]
  },
  {
   "cell_type": "code",
   "execution_count": 97,
   "id": "23db284c-87ae-4d1f-9c49-683b2adb725b",
   "metadata": {},
   "outputs": [],
   "source": [
    "# e.start = 1 # will fail with AttributeError because ranges are immutable "
   ]
  },
  {
   "cell_type": "code",
   "execution_count": 98,
   "id": "0e408575-1d18-43e0-af55-b28aa73f3760",
   "metadata": {},
   "outputs": [
    {
     "data": {
      "text/plain": [
       "0"
      ]
     },
     "execution_count": 98,
     "metadata": {},
     "output_type": "execute_result"
    }
   ],
   "source": [
    "hash(d.start)"
   ]
  },
  {
   "cell_type": "code",
   "execution_count": 99,
   "id": "331779b6-646d-4774-97c7-923ee74b6c1a",
   "metadata": {},
   "outputs": [
    {
     "data": {
      "text/plain": [
       "int"
      ]
     },
     "execution_count": 99,
     "metadata": {},
     "output_type": "execute_result"
    }
   ],
   "source": [
    "type(d.start)"
   ]
  },
  {
   "cell_type": "code",
   "execution_count": 100,
   "id": "880ae518-bd28-46a9-aa82-9b94379de98c",
   "metadata": {},
   "outputs": [
    {
     "data": {
      "text/plain": [
       "-7546101314042312252"
      ]
     },
     "execution_count": 100,
     "metadata": {},
     "output_type": "execute_result"
    }
   ],
   "source": [
    "hash(d)"
   ]
  },
  {
   "cell_type": "code",
   "execution_count": 101,
   "id": "15ed4c01-d1db-4034-94e8-0c8964195b0b",
   "metadata": {},
   "outputs": [],
   "source": [
    "# hash(a) # Can't hash list as it is mutable and thus not hashable"
   ]
  },
  {
   "cell_type": "code",
   "execution_count": 102,
   "id": "2b0da175-e228-4b21-82ad-f0f5e847de94",
   "metadata": {},
   "outputs": [
    {
     "data": {
      "text/plain": [
       "-3550055125485641917"
      ]
     },
     "execution_count": 102,
     "metadata": {},
     "output_type": "execute_result"
    }
   ],
   "source": [
    "hash((1, 2))"
   ]
  },
  {
   "cell_type": "code",
   "execution_count": 103,
   "id": "9df9484b-0831-43ae-8fcc-f07041697555",
   "metadata": {},
   "outputs": [],
   "source": [
    "# hash(([2,3],2)) # Can't hash THIS tuple as it contains a mutalbe list, making the whole tuple mutable"
   ]
  },
  {
   "cell_type": "code",
   "execution_count": 104,
   "id": "47bf0bc5-2ce7-4cb7-9b30-2c01a2584231",
   "metadata": {},
   "outputs": [
    {
     "data": {
      "text/plain": [
       "True"
      ]
     },
     "execution_count": 104,
     "metadata": {},
     "output_type": "execute_result"
    }
   ],
   "source": [
    "a = [10, [20, 30]]\n",
    "a2 = a\n",
    "b = [10, [20, 30]]\n",
    "a == b"
   ]
  },
  {
   "cell_type": "code",
   "execution_count": 105,
   "id": "ea838092-aa55-4a1a-a0a1-b89f8d7817ac",
   "metadata": {},
   "outputs": [],
   "source": [
    "a[0] = 12"
   ]
  },
  {
   "cell_type": "code",
   "execution_count": 106,
   "id": "616e04e5-99d5-4a9d-9d95-0b868ffbaa28",
   "metadata": {},
   "outputs": [
    {
     "data": {
      "text/plain": [
       "[12, [20, 30]]"
      ]
     },
     "execution_count": 106,
     "metadata": {},
     "output_type": "execute_result"
    }
   ],
   "source": [
    "a"
   ]
  },
  {
   "cell_type": "code",
   "execution_count": 107,
   "id": "0029258a-13e1-41d0-9f72-708ff814188a",
   "metadata": {},
   "outputs": [
    {
     "data": {
      "text/plain": [
       "False"
      ]
     },
     "execution_count": 107,
     "metadata": {},
     "output_type": "execute_result"
    }
   ],
   "source": [
    "a ==  b"
   ]
  },
  {
   "cell_type": "code",
   "execution_count": 108,
   "id": "cd981aa5-a4d3-4646-8521-6fbeccbbceae",
   "metadata": {},
   "outputs": [
    {
     "data": {
      "text/plain": [
       "[12, [20, 30]]"
      ]
     },
     "execution_count": 108,
     "metadata": {},
     "output_type": "execute_result"
    }
   ],
   "source": [
    "a2"
   ]
  },
  {
   "cell_type": "code",
   "execution_count": 109,
   "id": "4f817b77-25d0-4c21-b959-d88b9942bd1d",
   "metadata": {},
   "outputs": [
    {
     "data": {
      "text/plain": [
       "True"
      ]
     },
     "execution_count": 109,
     "metadata": {},
     "output_type": "execute_result"
    }
   ],
   "source": [
    "a = (10, (20, 30))\n",
    "a2 = a\n",
    "b = (10, (20, 30))\n",
    "a == b"
   ]
  },
  {
   "cell_type": "code",
   "execution_count": 110,
   "id": "246b33c8-d9c2-4585-a92b-609412002f91",
   "metadata": {},
   "outputs": [],
   "source": [
    "# a[0] = 12 # won't because tuple doesn't support assignment "
   ]
  },
  {
   "cell_type": "code",
   "execution_count": 111,
   "id": "a6b7fdd9-45f6-4afb-8e36-547713f6b60e",
   "metadata": {},
   "outputs": [
    {
     "data": {
      "text/plain": [
       "True"
      ]
     },
     "execution_count": 111,
     "metadata": {},
     "output_type": "execute_result"
    }
   ],
   "source": [
    "a = (10, [20, 30])\n",
    "a2 = a\n",
    "b = (10, [20, 30])\n",
    "a == b"
   ]
  },
  {
   "cell_type": "code",
   "execution_count": 112,
   "id": "5cfe5115-4282-4ad2-ab21-81c908e79781",
   "metadata": {},
   "outputs": [
    {
     "data": {
      "text/plain": [
       "(10, (20, 30))"
      ]
     },
     "execution_count": 112,
     "metadata": {},
     "output_type": "execute_result"
    }
   ],
   "source": [
    "(10, (20, 30))"
   ]
  },
  {
   "cell_type": "code",
   "execution_count": 113,
   "id": "d703367d-0027-4365-8aba-eb7bd95ee3df",
   "metadata": {},
   "outputs": [
    {
     "data": {
      "text/plain": [
       "False"
      ]
     },
     "execution_count": 113,
     "metadata": {},
     "output_type": "execute_result"
    }
   ],
   "source": [
    "a is b"
   ]
  },
  {
   "cell_type": "code",
   "execution_count": 114,
   "id": "ffe2bedd-03a4-46c4-b2c9-a64acf2ebb9d",
   "metadata": {},
   "outputs": [
    {
     "data": {
      "text/plain": [
       "True"
      ]
     },
     "execution_count": 114,
     "metadata": {},
     "output_type": "execute_result"
    }
   ],
   "source": [
    "a is a2"
   ]
  },
  {
   "cell_type": "code",
   "execution_count": 115,
   "id": "764eb097-628d-422d-8405-6a6efbdddd2d",
   "metadata": {},
   "outputs": [
    {
     "data": {
      "text/plain": [
       "True"
      ]
     },
     "execution_count": 115,
     "metadata": {},
     "output_type": "execute_result"
    }
   ],
   "source": [
    "a == b"
   ]
  },
  {
   "cell_type": "code",
   "execution_count": 116,
   "id": "8a37c830-f78b-41eb-9c48-46d09eb1fc7b",
   "metadata": {},
   "outputs": [
    {
     "data": {
      "text/plain": [
       "2454545117824"
      ]
     },
     "execution_count": 116,
     "metadata": {},
     "output_type": "execute_result"
    }
   ],
   "source": [
    "id(a)"
   ]
  },
  {
   "cell_type": "code",
   "execution_count": 117,
   "id": "18d9c789-5e5f-436a-ad56-27994175cc3c",
   "metadata": {},
   "outputs": [
    {
     "data": {
      "text/plain": [
       "2454545117824"
      ]
     },
     "execution_count": 117,
     "metadata": {},
     "output_type": "execute_result"
    }
   ],
   "source": [
    "id(a2)"
   ]
  },
  {
   "cell_type": "code",
   "execution_count": 118,
   "id": "a2978689-75ea-457a-9491-ffa53878670d",
   "metadata": {},
   "outputs": [
    {
     "data": {
      "text/plain": [
       "2454544900160"
      ]
     },
     "execution_count": 118,
     "metadata": {},
     "output_type": "execute_result"
    }
   ],
   "source": [
    "id(b)"
   ]
  },
  {
   "cell_type": "code",
   "execution_count": 119,
   "id": "a66db981-34b2-49b0-8083-5e341448ff60",
   "metadata": {},
   "outputs": [
    {
     "data": {
      "text/plain": [
       "2454546113392"
      ]
     },
     "execution_count": 119,
     "metadata": {},
     "output_type": "execute_result"
    }
   ],
   "source": [
    "id(id(a))"
   ]
  },
  {
   "cell_type": "code",
   "execution_count": 120,
   "id": "5e5a0258-2ccf-44d0-9180-41a9f42c2135",
   "metadata": {},
   "outputs": [
    {
     "data": {
      "text/plain": [
       "2454546113488"
      ]
     },
     "execution_count": 120,
     "metadata": {},
     "output_type": "execute_result"
    }
   ],
   "source": [
    "id(id(a2))"
   ]
  },
  {
   "cell_type": "code",
   "execution_count": 121,
   "id": "f33ac929-3da2-4e71-9674-92291ab5d2fd",
   "metadata": {},
   "outputs": [],
   "source": [
    "r = range(100)"
   ]
  },
  {
   "cell_type": "code",
   "execution_count": 122,
   "id": "bc2adb58-67e5-45bc-9771-5f96d077ea2e",
   "metadata": {},
   "outputs": [
    {
     "data": {
      "text/plain": [
       "-3219818741984636044"
      ]
     },
     "execution_count": 122,
     "metadata": {},
     "output_type": "execute_result"
    }
   ],
   "source": [
    "hash(r) # returns the PRE-hash of r"
   ]
  },
  {
   "cell_type": "code",
   "execution_count": 123,
   "id": "a920a51c-65c5-4c4d-890b-992c26ec5944",
   "metadata": {},
   "outputs": [],
   "source": [
    "s = slice(None, 10)"
   ]
  },
  {
   "cell_type": "code",
   "execution_count": 124,
   "id": "22efabcc-01cc-4ca8-a829-20a164431235",
   "metadata": {},
   "outputs": [],
   "source": [
    "# hash(s) # ALTHOUGH slices are immutable, they are NOT hashable"
   ]
  },
  {
   "cell_type": "code",
   "execution_count": 125,
   "id": "b6a1d762-0d74-4e77-a38d-8541ab33ff00",
   "metadata": {},
   "outputs": [],
   "source": [
    "import os"
   ]
  },
  {
   "cell_type": "code",
   "execution_count": 126,
   "id": "463e9dff-8a2a-45ac-9734-5f2decd5d12f",
   "metadata": {},
   "outputs": [
    {
     "data": {
      "text/plain": [
       "os.terminal_size(columns=120, lines=30)"
      ]
     },
     "execution_count": 126,
     "metadata": {},
     "output_type": "execute_result"
    }
   ],
   "source": [
    "os.get_terminal_size()"
   ]
  },
  {
   "cell_type": "code",
   "execution_count": 127,
   "id": "3f2f73a9-b0fb-4ba5-8b81-d6ed77e3f371",
   "metadata": {},
   "outputs": [
    {
     "data": {
      "text/plain": [
       "(tuple,)"
      ]
     },
     "execution_count": 127,
     "metadata": {},
     "output_type": "execute_result"
    }
   ],
   "source": [
    "os.terminal_size.__bases__"
   ]
  },
  {
   "cell_type": "code",
   "execution_count": 128,
   "id": "bcd79f86-0c44-4ae7-b07d-007b24b33902",
   "metadata": {},
   "outputs": [
    {
     "data": {
      "text/plain": [
       "False"
      ]
     },
     "execution_count": 128,
     "metadata": {},
     "output_type": "execute_result"
    }
   ],
   "source": [
    "x = os.get_terminal_size()\n",
    "type(x) is tuple"
   ]
  },
  {
   "cell_type": "code",
   "execution_count": 129,
   "id": "e2faba57-137a-4e86-a3dc-dea8cf78f4e3",
   "metadata": {},
   "outputs": [
    {
     "data": {
      "text/plain": [
       "True"
      ]
     },
     "execution_count": 129,
     "metadata": {},
     "output_type": "execute_result"
    }
   ],
   "source": [
    "isinstance(x, tuple)"
   ]
  },
  {
   "cell_type": "code",
   "execution_count": 130,
   "id": "01ab64df-3819-4d8b-a1c5-e6beb98b174f",
   "metadata": {},
   "outputs": [
    {
     "data": {
      "text/plain": [
       "True"
      ]
     },
     "execution_count": 130,
     "metadata": {},
     "output_type": "execute_result"
    }
   ],
   "source": [
    "issubclass(os.terminal_size, tuple)"
   ]
  },
  {
   "cell_type": "code",
   "execution_count": 131,
   "id": "8b347072-f78d-4f4c-ab44-c761eb6b66d4",
   "metadata": {},
   "outputs": [
    {
     "data": {
      "text/plain": [
       "(object,)"
      ]
     },
     "execution_count": 131,
     "metadata": {},
     "output_type": "execute_result"
    }
   ],
   "source": [
    "tuple.__bases__"
   ]
  },
  {
   "cell_type": "code",
   "execution_count": 132,
   "id": "94bb7fa2-5a02-4c32-b69b-8e9538630e26",
   "metadata": {},
   "outputs": [
    {
     "data": {
      "text/plain": [
       "()"
      ]
     },
     "execution_count": 132,
     "metadata": {},
     "output_type": "execute_result"
    }
   ],
   "source": [
    "object.__bases__"
   ]
  },
  {
   "cell_type": "code",
   "execution_count": 133,
   "id": "14eefb6c-cf57-4ccd-92a1-a2b936b1f42b",
   "metadata": {},
   "outputs": [
    {
     "data": {
      "text/plain": [
       "[os.terminal_size, tuple, object]"
      ]
     },
     "execution_count": 133,
     "metadata": {},
     "output_type": "execute_result"
    }
   ],
   "source": [
    "os.terminal_size.mro()"
   ]
  },
  {
   "cell_type": "code",
   "execution_count": 134,
   "id": "7a57243b-d23e-4122-9e64-66919cd19c8c",
   "metadata": {},
   "outputs": [
    {
     "data": {
      "text/plain": [
       "[int, object]"
      ]
     },
     "execution_count": 134,
     "metadata": {},
     "output_type": "execute_result"
    }
   ],
   "source": [
    "int.mro()"
   ]
  },
  {
   "cell_type": "code",
   "execution_count": 135,
   "id": "e552e474-4705-44b2-acb5-19784f6b5f63",
   "metadata": {},
   "outputs": [
    {
     "data": {
      "text/plain": [
       "[bool, int, object]"
      ]
     },
     "execution_count": 135,
     "metadata": {},
     "output_type": "execute_result"
    }
   ],
   "source": [
    "bool.mro()"
   ]
  },
  {
   "cell_type": "code",
   "execution_count": 136,
   "id": "c2758ad5-6cfa-4bad-ae2b-31231eeb0760",
   "metadata": {},
   "outputs": [
    {
     "name": "stdout",
     "output_type": "stream",
     "text": [
      "Help on class range in module builtins:\n",
      "\n",
      "class range(object)\n",
      " |  range(stop) -> range object\n",
      " |  range(start, stop[, step]) -> range object\n",
      " |  \n",
      " |  Return an object that produces a sequence of integers from start (inclusive)\n",
      " |  to stop (exclusive) by step.  range(i, j) produces i, i+1, i+2, ..., j-1.\n",
      " |  start defaults to 0, and stop is omitted!  range(4) produces 0, 1, 2, 3.\n",
      " |  These are exactly the valid indices for a list of 4 elements.\n",
      " |  When step is given, it specifies the increment (or decrement).\n",
      " |  \n",
      " |  Methods defined here:\n",
      " |  \n",
      " |  __bool__(self, /)\n",
      " |      self != 0\n",
      " |  \n",
      " |  __contains__(self, key, /)\n",
      " |      Return key in self.\n",
      " |  \n",
      " |  __eq__(self, value, /)\n",
      " |      Return self==value.\n",
      " |  \n",
      " |  __ge__(self, value, /)\n",
      " |      Return self>=value.\n",
      " |  \n",
      " |  __getattribute__(self, name, /)\n",
      " |      Return getattr(self, name).\n",
      " |  \n",
      " |  __getitem__(self, key, /)\n",
      " |      Return self[key].\n",
      " |  \n",
      " |  __gt__(self, value, /)\n",
      " |      Return self>value.\n",
      " |  \n",
      " |  __hash__(self, /)\n",
      " |      Return hash(self).\n",
      " |  \n",
      " |  __iter__(self, /)\n",
      " |      Implement iter(self).\n",
      " |  \n",
      " |  __le__(self, value, /)\n",
      " |      Return self<=value.\n",
      " |  \n",
      " |  __len__(self, /)\n",
      " |      Return len(self).\n",
      " |  \n",
      " |  __lt__(self, value, /)\n",
      " |      Return self<value.\n",
      " |  \n",
      " |  __ne__(self, value, /)\n",
      " |      Return self!=value.\n",
      " |  \n",
      " |  __reduce__(...)\n",
      " |      Helper for pickle.\n",
      " |  \n",
      " |  __repr__(self, /)\n",
      " |      Return repr(self).\n",
      " |  \n",
      " |  __reversed__(...)\n",
      " |      Return a reverse iterator.\n",
      " |  \n",
      " |  count(...)\n",
      " |      rangeobject.count(value) -> integer -- return number of occurrences of value\n",
      " |  \n",
      " |  index(...)\n",
      " |      rangeobject.index(value) -> integer -- return index of value.\n",
      " |      Raise ValueError if the value is not present.\n",
      " |  \n",
      " |  ----------------------------------------------------------------------\n",
      " |  Static methods defined here:\n",
      " |  \n",
      " |  __new__(*args, **kwargs) from builtins.type\n",
      " |      Create and return a new object.  See help(type) for accurate signature.\n",
      " |  \n",
      " |  ----------------------------------------------------------------------\n",
      " |  Data descriptors defined here:\n",
      " |  \n",
      " |  start\n",
      " |  \n",
      " |  step\n",
      " |  \n",
      " |  stop\n",
      "\n"
     ]
    }
   ],
   "source": [
    "help(range)"
   ]
  },
  {
   "cell_type": "code",
   "execution_count": 137,
   "id": "6622b7cb-2398-42af-830a-3872f201e285",
   "metadata": {},
   "outputs": [],
   "source": [
    "a = range(100,50,-1)"
   ]
  },
  {
   "cell_type": "code",
   "execution_count": 138,
   "id": "74aeeced-3765-4839-bc13-c88fa1228b5a",
   "metadata": {},
   "outputs": [
    {
     "data": {
      "text/plain": [
       "range(100, 50, -1)"
      ]
     },
     "execution_count": 138,
     "metadata": {},
     "output_type": "execute_result"
    }
   ],
   "source": [
    "a"
   ]
  },
  {
   "cell_type": "code",
   "execution_count": 139,
   "id": "ff61ed24-bae7-4ec5-8273-a4225540e4b2",
   "metadata": {},
   "outputs": [
    {
     "name": "stdout",
     "output_type": "stream",
     "text": [
      "range(100, 50, -1)\n"
     ]
    }
   ],
   "source": [
    "print(a)"
   ]
  },
  {
   "cell_type": "code",
   "execution_count": 140,
   "id": "4be3798c-234e-4bc6-b04d-9471d4f5dc0d",
   "metadata": {},
   "outputs": [
    {
     "name": "stdout",
     "output_type": "stream",
     "text": [
      "100 99 98 97 96 95 94 93 92 91 90 89 88 87 86 85 84 83 82 81 80 79 78 77 76 75 74 73 72 71 70 69 68 67 66 65 64 63 62 61 60 59 58 57 56 55 54 53 52 51\n"
     ]
    }
   ],
   "source": [
    "print(*a)"
   ]
  },
  {
   "cell_type": "code",
   "execution_count": 141,
   "id": "b211440f-8760-431a-8c6f-cb6944409e0d",
   "metadata": {},
   "outputs": [
    {
     "name": "stdout",
     "output_type": "stream",
     "text": [
      "100\n",
      "99\n",
      "98\n",
      "97\n",
      "96\n",
      "95\n",
      "94\n",
      "93\n",
      "92\n",
      "91\n",
      "90\n",
      "89\n",
      "88\n",
      "87\n",
      "86\n",
      "85\n",
      "84\n",
      "83\n",
      "82\n",
      "81\n",
      "80\n",
      "79\n",
      "78\n",
      "77\n",
      "76\n",
      "75\n",
      "74\n",
      "73\n",
      "72\n",
      "71\n",
      "70\n",
      "69\n",
      "68\n",
      "67\n",
      "66\n",
      "65\n",
      "64\n",
      "63\n",
      "62\n",
      "61\n",
      "60\n",
      "59\n",
      "58\n",
      "57\n",
      "56\n",
      "55\n",
      "54\n",
      "53\n",
      "52\n",
      "51\n"
     ]
    }
   ],
   "source": [
    "for x in a:\n",
    "    print(x)"
   ]
  },
  {
   "cell_type": "code",
   "execution_count": 142,
   "id": "477fac35-1464-4b7f-9577-4a1d31972cae",
   "metadata": {},
   "outputs": [
    {
     "name": "stdout",
     "output_type": "stream",
     "text": [
      "Help on built-in function print in module builtins:\n",
      "\n",
      "print(...)\n",
      "    print(value, ..., sep=' ', end='\\n', file=sys.stdout, flush=False)\n",
      "    \n",
      "    Prints the values to a stream, or to sys.stdout by default.\n",
      "    Optional keyword arguments:\n",
      "    file:  a file-like object (stream); defaults to the current sys.stdout.\n",
      "    sep:   string inserted between values, default a space.\n",
      "    end:   string appended after the last value, default a newline.\n",
      "    flush: whether to forcibly flush the stream.\n",
      "\n"
     ]
    }
   ],
   "source": [
    "help(print)"
   ]
  },
  {
   "cell_type": "code",
   "execution_count": 143,
   "id": "35061355-cc65-4468-af1c-915a818d28ad",
   "metadata": {},
   "outputs": [
    {
     "name": "stdout",
     "output_type": "stream",
     "text": [
      "100, 99, 98, 97, 96, 95, 94, 93, 92, 91, 90, 89, 88, 87, 86, 85, 84, 83, 82, 81, 80, 79, 78, 77, 76, 75, 74, 73, 72, 71, 70, 69, 68, 67, 66, 65, 64, 63, 62, 61, 60, 59, 58, 57, 56, 55, 54, 53, 52, 51\n"
     ]
    }
   ],
   "source": [
    "print(*a, sep = ', ')"
   ]
  },
  {
   "cell_type": "code",
   "execution_count": 144,
   "id": "4fa6fbec-fb0d-489b-8275-67e852e2a9f8",
   "metadata": {},
   "outputs": [
    {
     "data": {
      "text/plain": [
       "[100,\n",
       " 99,\n",
       " 98,\n",
       " 97,\n",
       " 96,\n",
       " 95,\n",
       " 94,\n",
       " 93,\n",
       " 92,\n",
       " 91,\n",
       " 90,\n",
       " 89,\n",
       " 88,\n",
       " 87,\n",
       " 86,\n",
       " 85,\n",
       " 84,\n",
       " 83,\n",
       " 82,\n",
       " 81,\n",
       " 80,\n",
       " 79,\n",
       " 78,\n",
       " 77,\n",
       " 76,\n",
       " 75,\n",
       " 74,\n",
       " 73,\n",
       " 72,\n",
       " 71,\n",
       " 70,\n",
       " 69,\n",
       " 68,\n",
       " 67,\n",
       " 66,\n",
       " 65,\n",
       " 64,\n",
       " 63,\n",
       " 62,\n",
       " 61,\n",
       " 60,\n",
       " 59,\n",
       " 58,\n",
       " 57,\n",
       " 56,\n",
       " 55,\n",
       " 54,\n",
       " 53,\n",
       " 52,\n",
       " 51]"
      ]
     },
     "execution_count": 144,
     "metadata": {},
     "output_type": "execute_result"
    }
   ],
   "source": [
    "list(a)"
   ]
  },
  {
   "cell_type": "code",
   "execution_count": 145,
   "id": "372251e5-c401-4d9d-ae48-65aeb51673ed",
   "metadata": {},
   "outputs": [
    {
     "data": {
      "text/plain": [
       "50"
      ]
     },
     "execution_count": 145,
     "metadata": {},
     "output_type": "execute_result"
    }
   ],
   "source": [
    "len(a)"
   ]
  },
  {
   "cell_type": "code",
   "execution_count": 146,
   "id": "738246ef-7888-47cd-8f29-3cc2b14c59a1",
   "metadata": {},
   "outputs": [
    {
     "data": {
      "text/plain": [
       "range(75, 50, -1)"
      ]
     },
     "execution_count": 146,
     "metadata": {},
     "output_type": "execute_result"
    }
   ],
   "source": [
    "a[25:]"
   ]
  },
  {
   "cell_type": "code",
   "execution_count": 147,
   "id": "d6736f0f-93d7-4257-827e-3331bd98371c",
   "metadata": {},
   "outputs": [
    {
     "data": {
      "text/plain": [
       "range(100, 97, -1)"
      ]
     },
     "execution_count": 147,
     "metadata": {},
     "output_type": "execute_result"
    }
   ],
   "source": [
    "a[:3]"
   ]
  },
  {
   "cell_type": "code",
   "execution_count": 148,
   "id": "273e2ea7-cdf3-49fb-8dbb-e8e42a9c5ba7",
   "metadata": {},
   "outputs": [
    {
     "data": {
      "text/plain": [
       "range(100, 97, -1)"
      ]
     },
     "execution_count": 148,
     "metadata": {},
     "output_type": "execute_result"
    }
   ],
   "source": [
    "_"
   ]
  },
  {
   "cell_type": "code",
   "execution_count": 149,
   "id": "edb4399f-a2f1-4243-8a5c-174ac5f8a3ad",
   "metadata": {},
   "outputs": [
    {
     "data": {
      "text/plain": [
       "3"
      ]
     },
     "execution_count": 149,
     "metadata": {},
     "output_type": "execute_result"
    }
   ],
   "source": [
    "len(_)"
   ]
  },
  {
   "cell_type": "code",
   "execution_count": 150,
   "id": "bce5e004-164a-48e3-b7d3-363cb5f63689",
   "metadata": {},
   "outputs": [
    {
     "data": {
      "text/plain": [
       "51"
      ]
     },
     "execution_count": 150,
     "metadata": {},
     "output_type": "execute_result"
    }
   ],
   "source": [
    "a[49]"
   ]
  },
  {
   "cell_type": "code",
   "execution_count": 151,
   "id": "06656c32-d5ed-418e-88f9-59b075c438b1",
   "metadata": {},
   "outputs": [
    {
     "data": {
      "text/plain": [
       "51"
      ]
     },
     "execution_count": 151,
     "metadata": {},
     "output_type": "execute_result"
    }
   ],
   "source": [
    "a[len(a) - 1]"
   ]
  },
  {
   "cell_type": "code",
   "execution_count": 152,
   "id": "f3a0f0ea-af77-4104-9f9c-d264e3c0d07d",
   "metadata": {},
   "outputs": [
    {
     "data": {
      "text/plain": [
       "51"
      ]
     },
     "execution_count": 152,
     "metadata": {},
     "output_type": "execute_result"
    }
   ],
   "source": [
    "a[-1]"
   ]
  },
  {
   "cell_type": "code",
   "execution_count": 153,
   "id": "8a1f21e5-6518-405d-9237-515e977afa79",
   "metadata": {},
   "outputs": [
    {
     "data": {
      "text/plain": [
       "range(51, 50, -1)"
      ]
     },
     "execution_count": 153,
     "metadata": {},
     "output_type": "execute_result"
    }
   ],
   "source": [
    "a[-1:]"
   ]
  },
  {
   "cell_type": "code",
   "execution_count": 154,
   "id": "c7865884-6e8f-4b58-957a-79ece17c098c",
   "metadata": {},
   "outputs": [
    {
     "data": {
      "text/plain": [
       "[51]"
      ]
     },
     "execution_count": 154,
     "metadata": {},
     "output_type": "execute_result"
    }
   ],
   "source": [
    "list(a[-1:])"
   ]
  },
  {
   "cell_type": "code",
   "execution_count": 155,
   "id": "e1e04521-c7a8-4ee1-88e0-59756d1953d7",
   "metadata": {},
   "outputs": [
    {
     "data": {
      "text/plain": [
       "range(100, 51, -1)"
      ]
     },
     "execution_count": 155,
     "metadata": {},
     "output_type": "execute_result"
    }
   ],
   "source": [
    "a[:len(a) - 1]"
   ]
  },
  {
   "cell_type": "code",
   "execution_count": 156,
   "id": "65e0f876-bda5-4494-8332-f8133cdb1dd2",
   "metadata": {},
   "outputs": [
    {
     "data": {
      "text/plain": [
       "range(100, 51, -1)"
      ]
     },
     "execution_count": 156,
     "metadata": {},
     "output_type": "execute_result"
    }
   ],
   "source": [
    "a[:-1]"
   ]
  },
  {
   "cell_type": "code",
   "execution_count": 157,
   "id": "db1f77db-3378-4779-aec0-64f98533255b",
   "metadata": {},
   "outputs": [
    {
     "data": {
      "text/plain": [
       "range(51, 101)"
      ]
     },
     "execution_count": 157,
     "metadata": {},
     "output_type": "execute_result"
    }
   ],
   "source": [
    "a[::-1]"
   ]
  },
  {
   "cell_type": "code",
   "execution_count": 158,
   "id": "5ab0480d-77dc-4000-b6a2-8587ffb24ea7",
   "metadata": {},
   "outputs": [
    {
     "data": {
      "text/plain": [
       "range(51, 101)"
      ]
     },
     "execution_count": 158,
     "metadata": {},
     "output_type": "execute_result"
    }
   ],
   "source": [
    "a[slice(None,None, -1)]"
   ]
  },
  {
   "cell_type": "code",
   "execution_count": 159,
   "id": "1fc7a530-c414-4c4e-91a5-cd8e135f1790",
   "metadata": {},
   "outputs": [],
   "source": [
    "halfway = len(a) // 2"
   ]
  },
  {
   "cell_type": "code",
   "execution_count": 160,
   "id": "a33e5e14-e561-48a1-b847-377587d4eb62",
   "metadata": {},
   "outputs": [],
   "source": [
    "b = a[:halfway] \n",
    "c = a[halfway:]"
   ]
  },
  {
   "cell_type": "code",
   "execution_count": 161,
   "id": "d0f498ab-77a0-47a0-9a2f-d53a5d3aa555",
   "metadata": {},
   "outputs": [
    {
     "data": {
      "text/plain": [
       "range(75, 50, -1)"
      ]
     },
     "execution_count": 161,
     "metadata": {},
     "output_type": "execute_result"
    }
   ],
   "source": [
    "c"
   ]
  },
  {
   "cell_type": "code",
   "execution_count": 162,
   "id": "c90ddbab-408d-41f2-888a-13f2e6e96b26",
   "metadata": {},
   "outputs": [
    {
     "data": {
      "text/plain": [
       "range(100, 75, -1)"
      ]
     },
     "execution_count": 162,
     "metadata": {},
     "output_type": "execute_result"
    }
   ],
   "source": [
    "b"
   ]
  },
  {
   "cell_type": "code",
   "execution_count": 163,
   "id": "d8572cf2-591b-4b94-91e4-0a25c7bc8798",
   "metadata": {},
   "outputs": [
    {
     "data": {
      "text/plain": [
       "True"
      ]
     },
     "execution_count": 163,
     "metadata": {},
     "output_type": "execute_result"
    }
   ],
   "source": [
    "list(a) == list(b) + list(c) "
   ]
  },
  {
   "cell_type": "code",
   "execution_count": 164,
   "id": "09859cce-8928-4ee8-8b4d-b804abf2354e",
   "metadata": {},
   "outputs": [
    {
     "data": {
      "text/plain": [
       "False"
      ]
     },
     "execution_count": 164,
     "metadata": {},
     "output_type": "execute_result"
    }
   ],
   "source": [
    "list(a) is list(b) + list(c)"
   ]
  },
  {
   "cell_type": "code",
   "execution_count": 165,
   "id": "0d86dfb7-0cf9-4179-9f73-c622d41ba003",
   "metadata": {},
   "outputs": [
    {
     "data": {
      "text/plain": [
       "True"
      ]
     },
     "execution_count": 165,
     "metadata": {},
     "output_type": "execute_result"
    }
   ],
   "source": [
    "list(a) is not list(b) + list(c)"
   ]
  },
  {
   "cell_type": "code",
   "execution_count": 166,
   "id": "18ccb6d7-5afc-418d-960a-58eb1ce77154",
   "metadata": {},
   "outputs": [
    {
     "data": {
      "text/plain": [
       "True"
      ]
     },
     "execution_count": 166,
     "metadata": {},
     "output_type": "execute_result"
    }
   ],
   "source": [
    "80 in b"
   ]
  },
  {
   "cell_type": "code",
   "execution_count": 167,
   "id": "c4515564-f215-48ab-aaf2-bd77ff8bd73a",
   "metadata": {},
   "outputs": [
    {
     "data": {
      "text/plain": [
       "True"
      ]
     },
     "execution_count": 167,
     "metadata": {},
     "output_type": "execute_result"
    }
   ],
   "source": [
    "80 not in c"
   ]
  },
  {
   "cell_type": "code",
   "execution_count": 168,
   "id": "a9d77534-487e-4828-920e-07af210cf52c",
   "metadata": {},
   "outputs": [],
   "source": [
    "bb = a[slice(None, halfway, None)]"
   ]
  },
  {
   "cell_type": "code",
   "execution_count": 169,
   "id": "0a3f3a82-aa2c-4713-a5eb-c336708887b2",
   "metadata": {},
   "outputs": [],
   "source": [
    "cc = a[slice(halfway, None, None)]"
   ]
  },
  {
   "cell_type": "code",
   "execution_count": 170,
   "id": "5e95a2c8-6efe-49c9-a3e8-85363e732093",
   "metadata": {},
   "outputs": [
    {
     "data": {
      "text/plain": [
       "True"
      ]
     },
     "execution_count": 170,
     "metadata": {},
     "output_type": "execute_result"
    }
   ],
   "source": [
    "b == bb"
   ]
  },
  {
   "cell_type": "code",
   "execution_count": 171,
   "id": "7ab09a63-1bce-4324-a5b1-1f55f84ababa",
   "metadata": {},
   "outputs": [
    {
     "data": {
      "text/plain": [
       "True"
      ]
     },
     "execution_count": 171,
     "metadata": {},
     "output_type": "execute_result"
    }
   ],
   "source": [
    "c == cc"
   ]
  },
  {
   "cell_type": "code",
   "execution_count": 172,
   "id": "e38e8989-2bf2-4ece-a6cf-67fa1652451e",
   "metadata": {},
   "outputs": [
    {
     "data": {
      "text/plain": [
       "False"
      ]
     },
     "execution_count": 172,
     "metadata": {},
     "output_type": "execute_result"
    }
   ],
   "source": [
    "b is bb"
   ]
  },
  {
   "cell_type": "code",
   "execution_count": 173,
   "id": "475992a0-a255-40aa-a42d-4551bb715ce0",
   "metadata": {},
   "outputs": [
    {
     "data": {
      "text/plain": [
       "False"
      ]
     },
     "execution_count": 173,
     "metadata": {},
     "output_type": "execute_result"
    }
   ],
   "source": [
    "c is cc"
   ]
  },
  {
   "cell_type": "code",
   "execution_count": 174,
   "id": "dac6aa03-9db9-4952-ab9e-f370119f2cb4",
   "metadata": {},
   "outputs": [
    {
     "data": {
      "text/plain": [
       "-7546101314042312252"
      ]
     },
     "execution_count": 174,
     "metadata": {},
     "output_type": "execute_result"
    }
   ],
   "source": [
    "hash(range(10))"
   ]
  },
  {
   "cell_type": "code",
   "execution_count": 175,
   "id": "b9c722ab-663e-4334-8497-30fd8068657c",
   "metadata": {},
   "outputs": [],
   "source": [
    "# hash(slice(None,2,None))  # unhashable type: 'slice'"
   ]
  },
  {
   "cell_type": "code",
   "execution_count": 176,
   "id": "89fa66f3-18a5-44d2-abf5-7d0801e8cd67",
   "metadata": {},
   "outputs": [
    {
     "data": {
      "text/plain": [
       "{1: 'one', 2: 'two', 3: 'three', 4: 'four', 5: 'five'}"
      ]
     },
     "execution_count": 176,
     "metadata": {},
     "output_type": "execute_result"
    }
   ],
   "source": [
    "d = {1: 'one', 2: 'two', 3: 'three', 4: 'four', 5: 'five'}\n",
    "d"
   ]
  },
  {
   "cell_type": "code",
   "execution_count": 177,
   "id": "b6cd4c1d-2ed6-4b04-8dd5-e629636906ff",
   "metadata": {},
   "outputs": [
    {
     "data": {
      "text/plain": [
       "{1: 'one',\n",
       " 2: 'two',\n",
       " 3: 'three',\n",
       " 4: 'four',\n",
       " 5: 'five',\n",
       " 100: slice(None, 2, None)}"
      ]
     },
     "execution_count": 177,
     "metadata": {},
     "output_type": "execute_result"
    }
   ],
   "source": [
    "d[100] = slice(None, 2)\n",
    "d"
   ]
  },
  {
   "cell_type": "code",
   "execution_count": 178,
   "id": "1431e96b-de35-49ea-b4ec-96baf1e6d8ac",
   "metadata": {},
   "outputs": [],
   "source": [
    "# d[2:5]  # unhashable type: 'slice'"
   ]
  },
  {
   "cell_type": "code",
   "execution_count": 179,
   "id": "3732f972-e6a6-4084-ba53-0fa316ff11aa",
   "metadata": {},
   "outputs": [],
   "source": [
    "# d[2:5] = (20, 30, 40)  # unhashable type: 'slice'"
   ]
  },
  {
   "cell_type": "code",
   "execution_count": 180,
   "id": "995c42e5-c7ff-4575-99b2-3fad2be3acff",
   "metadata": {},
   "outputs": [
    {
     "data": {
      "text/plain": [
       "2454546052176"
      ]
     },
     "execution_count": 180,
     "metadata": {},
     "output_type": "execute_result"
    }
   ],
   "source": [
    "id(a)"
   ]
  },
  {
   "cell_type": "code",
   "execution_count": null,
   "id": "7c3b3541-b455-4f31-8df7-6ea868e9c211",
   "metadata": {},
   "outputs": [],
   "source": []
  }
 ],
 "metadata": {
  "kernelspec": {
   "display_name": "Python 3 (ipykernel)",
   "language": "python",
   "name": "python3"
  },
  "language_info": {
   "codemirror_mode": {
    "name": "ipython",
    "version": 3
   },
   "file_extension": ".py",
   "mimetype": "text/x-python",
   "name": "python",
   "nbconvert_exporter": "python",
   "pygments_lexer": "ipython3",
   "version": "3.10.2"
  }
 },
 "nbformat": 4,
 "nbformat_minor": 5
}
