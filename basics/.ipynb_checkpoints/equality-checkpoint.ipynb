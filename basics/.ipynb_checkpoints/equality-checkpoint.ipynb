{
 "cells": [
  {
   "cell_type": "code",
   "execution_count": 1,
   "id": "53d98f99-1828-43c3-978c-f84bf9d5e64f",
   "metadata": {},
   "outputs": [],
   "source": [
    "a = [10, 20, 30]"
   ]
  },
  {
   "cell_type": "code",
   "execution_count": 2,
   "id": "96779a54-3b4a-49c2-89e5-24da5669e587",
   "metadata": {},
   "outputs": [],
   "source": [
    "# Create a variable b that refers to the same object as a.\n",
    "b = a"
   ]
  },
  {
   "cell_type": "code",
   "execution_count": 3,
   "id": "12362a5d-8fec-43c7-bc18-bd9c222272f1",
   "metadata": {},
   "outputs": [
    {
     "data": {
      "text/plain": [
       "True"
      ]
     },
     "execution_count": 3,
     "metadata": {},
     "output_type": "execute_result"
    }
   ],
   "source": [
    "# Show that a and b refer to the same object.\n",
    "b is a"
   ]
  },
  {
   "cell_type": "code",
   "execution_count": 4,
   "id": "219b5f87-f284-48c1-ae48-d0b929baf159",
   "metadata": {},
   "outputs": [],
   "source": [
    "# Create a variable c that is equal to a (and thus also b) but is a different object.\n",
    "c = [10, 20, 30]"
   ]
  },
  {
   "cell_type": "code",
   "execution_count": 5,
   "id": "c7071356-7f27-4e54-afbf-ca3f30243f69",
   "metadata": {},
   "outputs": [
    {
     "data": {
      "text/plain": [
       "False"
      ]
     },
     "execution_count": 5,
     "metadata": {},
     "output_type": "execute_result"
    }
   ],
   "source": [
    "c is b"
   ]
  },
  {
   "cell_type": "code",
   "execution_count": 6,
   "id": "94c0351e-3a0c-4cdd-8404-6f37913a817b",
   "metadata": {},
   "outputs": [
    {
     "data": {
      "text/plain": [
       "False"
      ]
     },
     "execution_count": 6,
     "metadata": {},
     "output_type": "execute_result"
    }
   ],
   "source": [
    "c is a"
   ]
  },
  {
   "cell_type": "code",
   "execution_count": 7,
   "id": "b3421486-dde6-45e3-8102-c46194ebec58",
   "metadata": {},
   "outputs": [
    {
     "data": {
      "text/plain": [
       "True"
      ]
     },
     "execution_count": 7,
     "metadata": {},
     "output_type": "execute_result"
    }
   ],
   "source": [
    "c == a"
   ]
  },
  {
   "cell_type": "code",
   "execution_count": 8,
   "id": "1e4914b9-9e0e-4b33-9fd4-fa2d099f5109",
   "metadata": {},
   "outputs": [
    {
     "data": {
      "text/plain": [
       "True"
      ]
     },
     "execution_count": 8,
     "metadata": {},
     "output_type": "execute_result"
    }
   ],
   "source": [
    "c == b"
   ]
  },
  {
   "cell_type": "code",
   "execution_count": 9,
   "id": "9ed587d4-3b72-4ead-a679-7b858790c6ea",
   "metadata": {},
   "outputs": [],
   "source": [
    "# Modify a. Show the modification through b. Show that it is not made to c.\n",
    "a.append(40)"
   ]
  },
  {
   "cell_type": "code",
   "execution_count": 10,
   "id": "980f015a-5e2a-46c1-bfcd-92617bf2ef23",
   "metadata": {},
   "outputs": [
    {
     "data": {
      "text/plain": [
       "[10, 20, 30, 40]"
      ]
     },
     "execution_count": 10,
     "metadata": {},
     "output_type": "execute_result"
    }
   ],
   "source": [
    "b"
   ]
  },
  {
   "cell_type": "code",
   "execution_count": 11,
   "id": "e6d6fba1-45a5-4d7a-b96a-f5ec82abbd5d",
   "metadata": {},
   "outputs": [
    {
     "data": {
      "text/plain": [
       "[10, 20, 30]"
      ]
     },
     "execution_count": 11,
     "metadata": {},
     "output_type": "execute_result"
    }
   ],
   "source": [
    "c"
   ]
  },
  {
   "cell_type": "markdown",
   "id": "800ffb6e-1182-47c3-8223-4705efb2c45e",
   "metadata": {},
   "source": [
    "### Value vs. reference equality: `==` vs. `is`"
   ]
  },
  {
   "cell_type": "markdown",
   "id": "d01ad6b3-4651-47db-bfd9-3b0c826e4918",
   "metadata": {},
   "source": [
    "The `==` (and `!=`) operator checks value equality, which is also called equality."
   ]
  },
  {
   "cell_type": "markdown",
   "id": "9bf78599-ecd8-4830-ada0-985096dc31ea",
   "metadata": {},
   "source": [
    "The `is` (and `is not`) operator checks reference equality, which is also called identity.\n",
    "\n",
    "Expressions are reference-equal when they refer to the same object."
   ]
  },
  {
   "cell_type": "markdown",
   "id": "4109c4c9-aad0-46cd-bdee-759d646ec102",
   "metadata": {},
   "source": [
    "### How a type implements `==`: structural vs. reference vs. other equality"
   ]
  },
  {
   "cell_type": "code",
   "execution_count": 12,
   "id": "2b097b38-0fbd-48a0-b666-5f3c7c2ff504",
   "metadata": {},
   "outputs": [],
   "source": [
    "xs = (4, 8, 1, 4, 8, 2, 4, 6)"
   ]
  },
  {
   "cell_type": "code",
   "execution_count": 13,
   "id": "4e8845ca-8b99-4539-bdb6-ed6eba73847f",
   "metadata": {},
   "outputs": [
    {
     "data": {
      "text/plain": [
       "3"
      ]
     },
     "execution_count": 13,
     "metadata": {},
     "output_type": "execute_result"
    }
   ],
   "source": [
    "xs.count(4)"
   ]
  },
  {
   "cell_type": "code",
   "execution_count": 14,
   "id": "e4bb1599-72f3-4d86-9fa7-2a1c201a40e9",
   "metadata": {},
   "outputs": [],
   "source": [
    "ys = (4, 8, 1, 4, 8, 2, 4, 6)"
   ]
  },
  {
   "cell_type": "code",
   "execution_count": 15,
   "id": "89fac571-3d74-47d0-a350-360408283fb6",
   "metadata": {},
   "outputs": [
    {
     "data": {
      "text/plain": [
       "False"
      ]
     },
     "execution_count": 15,
     "metadata": {},
     "output_type": "execute_result"
    }
   ],
   "source": [
    "xs is ys "
   ]
  },
  {
   "cell_type": "code",
   "execution_count": 16,
   "id": "f31567ef-08a9-4e21-a29a-2fdf0e191107",
   "metadata": {},
   "outputs": [
    {
     "data": {
      "text/plain": [
       "True"
      ]
     },
     "execution_count": 16,
     "metadata": {},
     "output_type": "execute_result"
    }
   ],
   "source": [
    "tuple(ys) is ys  # Allowed to be True or False. (Will be True.)"
   ]
  },
  {
   "cell_type": "code",
   "execution_count": 17,
   "id": "20eb9a16-ee2d-4f19-8a37-ba0b5b045ff3",
   "metadata": {},
   "outputs": [
    {
     "data": {
      "text/plain": [
       "False"
      ]
     },
     "execution_count": 17,
     "metadata": {},
     "output_type": "execute_result"
    }
   ],
   "source": [
    "list(a) is a  # Required to be False."
   ]
  },
  {
   "cell_type": "code",
   "execution_count": 18,
   "id": "49a6bfc6-1da2-43ad-8229-e9d883099d15",
   "metadata": {},
   "outputs": [
    {
     "data": {
      "text/plain": [
       "True"
      ]
     },
     "execution_count": 18,
     "metadata": {},
     "output_type": "execute_result"
    }
   ],
   "source": [
    "ys == xs"
   ]
  },
  {
   "cell_type": "code",
   "execution_count": 19,
   "id": "6cb79b0d-0b29-4682-b11d-f74981fa3ff9",
   "metadata": {},
   "outputs": [],
   "source": [
    "f = xs.count\n",
    "g = ys.count\n",
    "h = ys.count"
   ]
  },
  {
   "cell_type": "code",
   "execution_count": 20,
   "id": "83e66ec2-81cf-442a-aece-087b9c4cd620",
   "metadata": {},
   "outputs": [
    {
     "data": {
      "text/plain": [
       "False"
      ]
     },
     "execution_count": 20,
     "metadata": {},
     "output_type": "execute_result"
    }
   ],
   "source": [
    "g is h "
   ]
  },
  {
   "cell_type": "code",
   "execution_count": 21,
   "id": "c20b8168-0efc-4a21-b5e5-04648c90d4ca",
   "metadata": {},
   "outputs": [
    {
     "data": {
      "text/plain": [
       "True"
      ]
     },
     "execution_count": 21,
     "metadata": {},
     "output_type": "execute_result"
    }
   ],
   "source": [
    "g == h"
   ]
  },
  {
   "cell_type": "code",
   "execution_count": 22,
   "id": "c06308cc-1462-4e1e-a844-e9f77307845a",
   "metadata": {},
   "outputs": [
    {
     "data": {
      "text/plain": [
       "False"
      ]
     },
     "execution_count": 22,
     "metadata": {},
     "output_type": "execute_result"
    }
   ],
   "source": [
    "f is g"
   ]
  },
  {
   "cell_type": "code",
   "execution_count": 23,
   "id": "8b9c848b-5652-430c-ae92-8660d3d03480",
   "metadata": {},
   "outputs": [
    {
     "data": {
      "text/plain": [
       "False"
      ]
     },
     "execution_count": 23,
     "metadata": {},
     "output_type": "execute_result"
    }
   ],
   "source": [
    "f == g"
   ]
  },
  {
   "cell_type": "code",
   "execution_count": 24,
   "id": "6da510de-b700-4c7b-9bb7-a25dd88c066e",
   "metadata": {},
   "outputs": [],
   "source": [
    "# Write a function that takes a list as an argument and appends something to it.\n",
    "def applist(inlist, avalue):\n",
    "    inlist.append(avalue)"
   ]
  },
  {
   "cell_type": "code",
   "execution_count": 25,
   "id": "a5462e79-8bb4-4c1a-9f81-0aead81d5ab3",
   "metadata": {},
   "outputs": [
    {
     "data": {
      "text/plain": [
       "[10, 20, 30, 40]"
      ]
     },
     "execution_count": 25,
     "metadata": {},
     "output_type": "execute_result"
    }
   ],
   "source": [
    "applist(c, 40)\n",
    "c"
   ]
  },
  {
   "cell_type": "code",
   "execution_count": 26,
   "id": "f21b7b87-c93c-4517-8dea-ef9d1a90773b",
   "metadata": {},
   "outputs": [],
   "source": [
    "# Write a function that takes a list as an argument and appends something to it,\n",
    "# and returns the modified list. But make the list being appended to optional,\n",
    "# and if the user does not pass that argument, use an empty list instead.\n",
    "def applist(avalue, inlist = []):\n",
    "    inlist.append(avalue)\n",
    "    return inlist"
   ]
  },
  {
   "cell_type": "code",
   "execution_count": 27,
   "id": "d3358bf4-f8c1-4839-a8f2-67c467debc60",
   "metadata": {},
   "outputs": [],
   "source": [
    "l = [0, 10, 20, 30]"
   ]
  },
  {
   "cell_type": "code",
   "execution_count": 28,
   "id": "74cf590b-0a6e-43bb-8e11-22b8b4614166",
   "metadata": {},
   "outputs": [],
   "source": [
    "j = applist(20)"
   ]
  },
  {
   "cell_type": "code",
   "execution_count": 29,
   "id": "3f735f6f-503c-46e2-8b4c-fd6128bec720",
   "metadata": {},
   "outputs": [
    {
     "data": {
      "text/plain": [
       "[20]"
      ]
     },
     "execution_count": 29,
     "metadata": {},
     "output_type": "execute_result"
    }
   ],
   "source": [
    "j"
   ]
  },
  {
   "cell_type": "code",
   "execution_count": 30,
   "id": "50c54b25-8777-4518-90bd-188034b87095",
   "metadata": {},
   "outputs": [
    {
     "data": {
      "text/plain": [
       "[20, 20]"
      ]
     },
     "execution_count": 30,
     "metadata": {},
     "output_type": "execute_result"
    }
   ],
   "source": [
    "# What happens when you call applist again without passing a list argument?\n",
    "applist(20)"
   ]
  },
  {
   "cell_type": "code",
   "execution_count": 31,
   "id": "de26d39a-7626-4bfd-9f93-a9f758ac8fc8",
   "metadata": {},
   "outputs": [
    {
     "data": {
      "text/plain": [
       "[20, 20, 50]"
      ]
     },
     "execution_count": 31,
     "metadata": {},
     "output_type": "execute_result"
    }
   ],
   "source": [
    "applist(50)"
   ]
  },
  {
   "cell_type": "code",
   "execution_count": 32,
   "id": "863731e1-76c6-4147-b2a0-221f4a4f989b",
   "metadata": {},
   "outputs": [],
   "source": [
    "# Because this behavior is very rarely what one wants, mutable objects should\n",
    "# basically never be used as default argument values.\n",
    "#\n",
    "# ...What can you do instead?\n",
    "\n",
    "# One way might be...\n",
    "def applist(avalue, *args):\n",
    "    match args:\n",
    "        case []:\n",
    "            inlist = []\n",
    "        case [inlist]:\n",
    "            pass\n",
    "        case _:\n",
    "            raise TypeError('you should pass 0 or 1 inlist argument')\n",
    "    \n",
    "    inlist.append(avalue)\n",
    "    return inlist"
   ]
  },
  {
   "cell_type": "code",
   "execution_count": 33,
   "id": "06a29311-7037-4205-a50e-f37cf2bccb2f",
   "metadata": {},
   "outputs": [
    {
     "data": {
      "text/plain": [
       "[10, 20, 30, 40, 50]"
      ]
     },
     "execution_count": 33,
     "metadata": {},
     "output_type": "execute_result"
    }
   ],
   "source": [
    "zs = [10, 20, 30, 40]\n",
    "applist(50, zs)"
   ]
  },
  {
   "cell_type": "code",
   "execution_count": 34,
   "id": "8bb0211e-88e9-4ea8-970f-3f5394baf1ae",
   "metadata": {},
   "outputs": [
    {
     "data": {
      "text/plain": [
       "[10, 20, 30, 40, 50, 60]"
      ]
     },
     "execution_count": 34,
     "metadata": {},
     "output_type": "execute_result"
    }
   ],
   "source": [
    "applist(60, zs)"
   ]
  },
  {
   "cell_type": "code",
   "execution_count": 35,
   "id": "c385a76f-61d5-4a70-a187-3a183d190f12",
   "metadata": {},
   "outputs": [
    {
     "data": {
      "text/plain": [
       "['foo', 'bar', 'baz']"
      ]
     },
     "execution_count": 35,
     "metadata": {},
     "output_type": "execute_result"
    }
   ],
   "source": [
    "applist('baz', ['foo', 'bar'])"
   ]
  },
  {
   "cell_type": "code",
   "execution_count": 36,
   "id": "dd843389-ffcf-44f3-8939-f224c41e8c68",
   "metadata": {},
   "outputs": [
    {
     "data": {
      "text/plain": [
       "[42]"
      ]
     },
     "execution_count": 36,
     "metadata": {},
     "output_type": "execute_result"
    }
   ],
   "source": [
    "applist(42)"
   ]
  },
  {
   "cell_type": "code",
   "execution_count": 37,
   "id": "0ddaa427-d399-4db6-b776-f10c20adee98",
   "metadata": {},
   "outputs": [],
   "source": [
    "# A better way is...\n",
    "def applist(avalue, inlist = None):\n",
    "    if inlist is None:\n",
    "        inlist = []\n",
    "    inlist.append(avalue)\n",
    "    return inlist"
   ]
  },
  {
   "cell_type": "code",
   "execution_count": 38,
   "id": "23c4f37e-4bb8-445c-a788-1fe2618cd52b",
   "metadata": {},
   "outputs": [
    {
     "data": {
      "text/plain": [
       "[10, 20, 30, 40, 50]"
      ]
     },
     "execution_count": 38,
     "metadata": {},
     "output_type": "execute_result"
    }
   ],
   "source": [
    "zs = [10, 20, 30, 40]\n",
    "applist(50, zs)"
   ]
  },
  {
   "cell_type": "code",
   "execution_count": 39,
   "id": "6e68b8ed-fecb-4a7a-b885-6fbb0c6ad842",
   "metadata": {},
   "outputs": [
    {
     "data": {
      "text/plain": [
       "[10, 20, 30, 40, 50, 60]"
      ]
     },
     "execution_count": 39,
     "metadata": {},
     "output_type": "execute_result"
    }
   ],
   "source": [
    "applist(60, zs)"
   ]
  },
  {
   "cell_type": "code",
   "execution_count": 40,
   "id": "cd46111f-cd28-43da-baeb-43ef2fc45880",
   "metadata": {},
   "outputs": [
    {
     "data": {
      "text/plain": [
       "['foo', 'bar', 'baz']"
      ]
     },
     "execution_count": 40,
     "metadata": {},
     "output_type": "execute_result"
    }
   ],
   "source": [
    "applist('baz', ['foo', 'bar'])"
   ]
  },
  {
   "cell_type": "code",
   "execution_count": 41,
   "id": "5ce67c29-e7f1-4dc7-98b8-a17d84cd27b0",
   "metadata": {},
   "outputs": [
    {
     "data": {
      "text/plain": [
       "[42]"
      ]
     },
     "execution_count": 41,
     "metadata": {},
     "output_type": "execute_result"
    }
   ],
   "source": [
    "applist(42)  # Running this multiple times gives the same result."
   ]
  },
  {
   "cell_type": "code",
   "execution_count": 42,
   "id": "5b1b02a8-1984-42c1-b51c-a4101fb56477",
   "metadata": {},
   "outputs": [],
   "source": [
    "a = [10, 20, 30, 40, 50]\n",
    "it = iter(a)"
   ]
  },
  {
   "cell_type": "code",
   "execution_count": 43,
   "id": "17a9af5e-bca8-4a6b-b5af-4494cde0b028",
   "metadata": {},
   "outputs": [
    {
     "data": {
      "text/plain": [
       "163041905436"
      ]
     },
     "execution_count": 43,
     "metadata": {},
     "output_type": "execute_result"
    }
   ],
   "source": [
    "hash(it)"
   ]
  },
  {
   "cell_type": "code",
   "execution_count": 44,
   "id": "c542a530-2b2e-4dca-824b-5faf31769fd0",
   "metadata": {},
   "outputs": [
    {
     "data": {
      "text/plain": [
       "10"
      ]
     },
     "execution_count": 44,
     "metadata": {},
     "output_type": "execute_result"
    }
   ],
   "source": [
    "next(it)"
   ]
  },
  {
   "cell_type": "code",
   "execution_count": 45,
   "id": "07aeb5ea-03b0-44b7-a372-a7e5370e368d",
   "metadata": {},
   "outputs": [
    {
     "data": {
      "text/plain": [
       "20"
      ]
     },
     "execution_count": 45,
     "metadata": {},
     "output_type": "execute_result"
    }
   ],
   "source": [
    "next(it)"
   ]
  },
  {
   "cell_type": "code",
   "execution_count": 47,
   "id": "e74b932a-2c0f-4a01-a315-af87a7f656ef",
   "metadata": {},
   "outputs": [],
   "source": [
    "import itertools"
   ]
  },
  {
   "cell_type": "code",
   "execution_count": 48,
   "id": "e819c385-0ea2-42a0-99b1-a2860153c58e",
   "metadata": {},
   "outputs": [
    {
     "name": "stdout",
     "output_type": "stream",
     "text": [
      "(10, 20)\n",
      "30\n"
     ]
    }
   ],
   "source": [
    "def next_two(iterator=itertools.count()):  # Bad.\n",
    "    \"\"\"\n",
    "    Return a tuple of the next two values of an iterator.\n",
    "    \n",
    "    If called with no arguments, uses an itertools.count iterator.\n",
    "    \"\"\"\n",
    "    first = next(iterator)\n",
    "    second = next(iterator)\n",
    "    return first, second\n",
    "\n",
    "b = [10, 20, 30, 40, 50]\n",
    "it = iter(b)\n",
    "print(next_two(it))\n",
    "print(next(it))"
   ]
  },
  {
   "cell_type": "code",
   "execution_count": 49,
   "id": "d7323f81-def3-4ae7-8d88-dc47b15303b1",
   "metadata": {},
   "outputs": [
    {
     "data": {
      "text/plain": [
       "(0, 1)"
      ]
     },
     "execution_count": 49,
     "metadata": {},
     "output_type": "execute_result"
    }
   ],
   "source": [
    "next_two()"
   ]
  },
  {
   "cell_type": "code",
   "execution_count": 50,
   "id": "952a22fa-c4ac-433c-a66c-dade5bbcd844",
   "metadata": {},
   "outputs": [
    {
     "data": {
      "text/plain": [
       "(2, 3)"
      ]
     },
     "execution_count": 50,
     "metadata": {},
     "output_type": "execute_result"
    }
   ],
   "source": [
    "next_two()"
   ]
  },
  {
   "cell_type": "code",
   "execution_count": 68,
   "id": "999ce104-a145-4f84-81d2-e1c93e04281d",
   "metadata": {},
   "outputs": [
    {
     "name": "stdout",
     "output_type": "stream",
     "text": [
      "(10, 20)\n",
      "30\n"
     ]
    }
   ],
   "source": [
    "def next_two(iterator=None):  # Good.\n",
    "    \"\"\"\n",
    "    Return a tuple of the next two values of an iterator.\n",
    "    \n",
    "    If called with no arguments, uses an itertools.count iterator.\n",
    "    \"\"\"\n",
    "    if iterator == None:\n",
    "        iterator = itertools.count()\n",
    "    first = next(iterator)\n",
    "    second = next(iterator)\n",
    "    return first, second\n",
    "\n",
    "\n",
    "b = [10, 20, 30, 40, 50]\n",
    "it = iter(b)\n",
    "print(next_two(it))\n",
    "print(next(it))"
   ]
  },
  {
   "cell_type": "code",
   "execution_count": 69,
   "id": "658ee1c4-2bc5-4c15-86d1-d82ca1b04049",
   "metadata": {},
   "outputs": [
    {
     "data": {
      "text/plain": [
       "(0, 1)"
      ]
     },
     "execution_count": 69,
     "metadata": {},
     "output_type": "execute_result"
    }
   ],
   "source": [
    "next_two()"
   ]
  },
  {
   "cell_type": "code",
   "execution_count": 57,
   "id": "eea31c0b-f1ca-4fb7-8a51-655ec224917f",
   "metadata": {},
   "outputs": [
    {
     "data": {
      "text/plain": [
       "False"
      ]
     },
     "execution_count": 57,
     "metadata": {},
     "output_type": "execute_result"
    }
   ],
   "source": [
    "itertools.count() == itertools.count()"
   ]
  },
  {
   "cell_type": "code",
   "execution_count": null,
   "id": "835e0665-2e7a-40ec-82e7-5a290509ceee",
   "metadata": {},
   "outputs": [],
   "source": []
  }
 ],
 "metadata": {
  "kernelspec": {
   "display_name": "Python 3 (ipykernel)",
   "language": "python",
   "name": "python3"
  },
  "language_info": {
   "codemirror_mode": {
    "name": "ipython",
    "version": 3
   },
   "file_extension": ".py",
   "mimetype": "text/x-python",
   "name": "python",
   "nbconvert_exporter": "python",
   "pygments_lexer": "ipython3",
   "version": "3.10.2"
  }
 },
 "nbformat": 4,
 "nbformat_minor": 5
}
