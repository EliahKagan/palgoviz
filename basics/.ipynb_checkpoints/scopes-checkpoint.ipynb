{
 "cells": [
  {
   "cell_type": "code",
   "execution_count": 1,
   "id": "7d6a3c47-67f9-4b55-aad2-bc52096b9e38",
   "metadata": {},
   "outputs": [
    {
     "name": "stdout",
     "output_type": "stream",
     "text": [
      "[<function make_square_printer.<locals>.printer at 0x00000253C40D52D0>, <function make_square_printer.<locals>.printer at 0x00000253C40D5900>, <function make_square_printer.<locals>.printer at 0x00000253C40D56C0>]\n",
      "4\n",
      "9\n",
      "49\n"
     ]
    }
   ],
   "source": [
    "import scopes"
   ]
  },
  {
   "cell_type": "code",
   "execution_count": 2,
   "id": "75b12088-1f30-410c-9c06-862ee963b7ba",
   "metadata": {},
   "outputs": [],
   "source": [
    "#scopes.demo()"
   ]
  },
  {
   "cell_type": "code",
   "execution_count": 3,
   "id": "eb18e53c-36a8-4e9d-bb33-b3e0ec31d7d5",
   "metadata": {},
   "outputs": [],
   "source": [
    "#scopes.x"
   ]
  },
  {
   "cell_type": "code",
   "execution_count": null,
   "id": "ab359e55-7577-4330-b9e8-93ba7531f143",
   "metadata": {},
   "outputs": [],
   "source": []
  }
 ],
 "metadata": {
  "kernelspec": {
   "display_name": "Python 3 (ipykernel)",
   "language": "python",
   "name": "python3"
  },
  "language_info": {
   "codemirror_mode": {
    "name": "ipython",
    "version": 3
   },
   "file_extension": ".py",
   "mimetype": "text/x-python",
   "name": "python",
   "nbconvert_exporter": "python",
   "pygments_lexer": "ipython3",
   "version": "3.10.2"
  }
 },
 "nbformat": 4,
 "nbformat_minor": 5
}
