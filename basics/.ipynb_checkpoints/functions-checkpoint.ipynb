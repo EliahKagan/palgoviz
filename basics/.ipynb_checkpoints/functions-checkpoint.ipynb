{
 "cells": [
  {
   "cell_type": "code",
   "execution_count": 1,
   "id": "59ca5d24-2090-4b62-ac3b-dc30a40de105",
   "metadata": {},
   "outputs": [],
   "source": [
    "def increment(var):\n",
    "    var += 1  # Does not actually affect the caller."
   ]
  },
  {
   "cell_type": "code",
   "execution_count": 2,
   "id": "4664431b",
   "metadata": {},
   "outputs": [],
   "source": [
    "def increment(var):\n",
    "    var += 1  # Does not actually affect the caller."
   ]
  },
  {
   "cell_type": "code",
   "execution_count": 3,
   "id": "2bdaba67",
   "metadata": {},
   "outputs": [],
   "source": [
    "def increment(var):\n",
    "    var += 1  # Does not actually affect the caller."
   ]
  },
  {
   "cell_type": "code",
   "execution_count": 4,
   "id": "542bc9bc-258e-45e6-8f83-d0f833eb83f6",
   "metadata": {},
   "outputs": [
    {
     "data": {
      "text/plain": [
       "3"
      ]
     },
     "execution_count": 4,
     "metadata": {},
     "output_type": "execute_result"
    }
   ],
   "source": [
    "x = 3\n",
    "increment(x)\n",
    "x"
   ]
  },
  {
   "cell_type": "code",
   "execution_count": 5,
   "id": "20d194e8-6f09-4167-8eb2-fee6927ad50e",
   "metadata": {},
   "outputs": [],
   "source": [
    "def f(values):\n",
    "    values.append(1000)"
   ]
  },
  {
   "cell_type": "code",
   "execution_count": 6,
   "id": "7a232cdd-4365-4be3-9a53-9bce4c3029ad",
   "metadata": {},
   "outputs": [
    {
     "data": {
      "text/plain": [
       "[10, 20, 30, 1000]"
      ]
     },
     "execution_count": 6,
     "metadata": {},
     "output_type": "execute_result"
    }
   ],
   "source": [
    "a = [10, 20, 30]\n",
    "f(a)\n",
    "a"
   ]
  },
  {
   "cell_type": "code",
   "execution_count": 7,
   "id": "ffc5f6e5-f456-4db9-bfd5-74c0c18a5d61",
   "metadata": {},
   "outputs": [],
   "source": [
    "def g(values):\n",
    "    values = []"
   ]
  },
  {
   "cell_type": "code",
   "execution_count": 8,
   "id": "bf038551-28e2-49e2-8db6-70ff21650ac8",
   "metadata": {},
   "outputs": [
    {
     "data": {
      "text/plain": [
       "[10, 20, 30, 1000]"
      ]
     },
     "execution_count": 8,
     "metadata": {},
     "output_type": "execute_result"
    }
   ],
   "source": [
    "g(a)\n",
    "a"
   ]
  },
  {
   "cell_type": "markdown",
   "id": "77adfdae-1634-4252-a440-fe264f4f81e1",
   "metadata": {},
   "source": [
    "## Arity"
   ]
  },
  {
   "cell_type": "code",
   "execution_count": 9,
   "id": "cfb9f410-e29b-47fb-9b2b-3ac982dd9200",
   "metadata": {},
   "outputs": [],
   "source": [
    "def f(x):  # Unary, no free variables.\n",
    "    return x"
   ]
  },
  {
   "cell_type": "code",
   "execution_count": 10,
   "id": "0a05b401-53bc-4c0a-a30e-bac70618e6d3",
   "metadata": {},
   "outputs": [],
   "source": [
    "def g(x):  # Unary, no free variables, y is looked up in the global scope.\n",
    "    return x + y"
   ]
  },
  {
   "cell_type": "code",
   "execution_count": 11,
   "id": "811f59c3-fbcf-4ec0-87ab-dce55743a8b8",
   "metadata": {},
   "outputs": [],
   "source": [
    "def h():  # Unary, no free variables, print is looked up in the global scope.\n",
    "    print('Hello, world!')"
   ]
  },
  {
   "cell_type": "code",
   "execution_count": 13,
   "id": "f98b3134-ac54-4b1a-b43e-75589bff6cef",
   "metadata": {},
   "outputs": [
    {
     "name": "stdout",
     "output_type": "stream",
     "text": [
      "15\n"
     ]
    }
   ],
   "source": [
    "def outer():\n",
    "    p = 10\n",
    "    \n",
    "    def inner(q):  # Unary, 1 free variable (p), 1 local (q).\n",
    "        print(p + q)  # print is looked up globally.\n",
    "\n",
    "    return inner\n",
    "\n",
    "outer()(5)"
   ]
  },
  {
   "cell_type": "code",
   "execution_count": null,
   "id": "ac985270-4177-44a0-8c2d-e46831afe486",
   "metadata": {},
   "outputs": [],
   "source": []
  }
 ],
 "metadata": {
  "kernelspec": {
   "display_name": "Python 3 (ipykernel)",
   "language": "python",
   "name": "python3"
  },
  "language_info": {
   "codemirror_mode": {
    "name": "ipython",
    "version": 3
   },
   "file_extension": ".py",
   "mimetype": "text/x-python",
   "name": "python",
   "nbconvert_exporter": "python",
   "pygments_lexer": "ipython3",
   "version": "3.10.2"
  }
 },
 "nbformat": 4,
 "nbformat_minor": 5
}
