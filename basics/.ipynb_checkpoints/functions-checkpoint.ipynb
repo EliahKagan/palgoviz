{
 "cells": [
  {
   "cell_type": "code",
   "execution_count": null,
   "id": "59ca5d24-2090-4b62-ac3b-dc30a40de105",
   "metadata": {},
   "outputs": [],
   "source": [
    "def increment(var):\n",
    "    var += 1  # Does not actually affect the caller."
   ]
  },
  {
   "cell_type": "code",
   "execution_count": null,
   "id": "4664431b",
   "metadata": {},
   "outputs": [],
   "source": [
    "def increment(var):\n",
    "    var += 1  # Does not actually affect the caller."
   ]
  },
  {
   "cell_type": "code",
   "execution_count": null,
   "id": "2bdaba67",
   "metadata": {},
   "outputs": [],
   "source": [
    "def increment(var):\n",
    "    var += 1  # Does not actually affect the caller."
   ]
  },
  {
   "cell_type": "code",
   "execution_count": null,
   "id": "542bc9bc-258e-45e6-8f83-d0f833eb83f6",
   "metadata": {},
   "outputs": [
    {
     "data": {
      "text/plain": [
       "3"
      ]
     },
     "execution_count": 4,
     "metadata": {},
     "output_type": "execute_result"
    }
   ],
   "source": [
    "x = 3\n",
    "increment(x)\n",
    "x"
   ]
  },
  {
   "cell_type": "code",
   "execution_count": null,
   "id": "20d194e8-6f09-4167-8eb2-fee6927ad50e",
   "metadata": {},
   "outputs": [],
   "source": [
    "def f(values):\n",
    "    values.append(1000)"
   ]
  },
  {
   "cell_type": "code",
   "execution_count": null,
   "id": "7a232cdd-4365-4be3-9a53-9bce4c3029ad",
   "metadata": {},
   "outputs": [
    {
     "data": {
      "text/plain": [
       "[10, 20, 30, 1000]"
      ]
     },
     "execution_count": 6,
     "metadata": {},
     "output_type": "execute_result"
    }
   ],
   "source": [
    "a = [10, 20, 30]\n",
    "f(a)\n",
    "a"
   ]
  },
  {
   "cell_type": "code",
   "execution_count": null,
   "id": "ffc5f6e5-f456-4db9-bfd5-74c0c18a5d61",
   "metadata": {},
   "outputs": [],
   "source": [
    "def g(values):\n",
    "    values = []"
   ]
  },
  {
   "cell_type": "code",
   "execution_count": null,
   "id": "bf038551-28e2-49e2-8db6-70ff21650ac8",
   "metadata": {},
   "outputs": [
    {
     "data": {
      "text/plain": [
       "[10, 20, 30, 1000]"
      ]
     },
     "execution_count": 8,
     "metadata": {},
     "output_type": "execute_result"
    }
   ],
   "source": [
    "g(a)\n",
    "a"
   ]
  },
  {
   "cell_type": "markdown",
   "id": "77adfdae-1634-4252-a440-fe264f4f81e1",
   "metadata": {},
   "source": [
    "## Arity"
   ]
  },
  {
   "cell_type": "code",
   "execution_count": null,
   "id": "cfb9f410-e29b-47fb-9b2b-3ac982dd9200",
   "metadata": {},
   "outputs": [],
   "source": [
    "def f(x):  # Unary, no free variables.\n",
    "    return x"
   ]
  },
  {
   "cell_type": "code",
   "execution_count": null,
   "id": "0a05b401-53bc-4c0a-a30e-bac70618e6d3",
   "metadata": {},
   "outputs": [],
   "source": [
    "def g(x):  # Unary, no free variables, y is looked up in the global scope.\n",
    "    return x + y"
   ]
  },
  {
   "cell_type": "code",
   "execution_count": null,
   "id": "811f59c3-fbcf-4ec0-87ab-dce55743a8b8",
   "metadata": {},
   "outputs": [],
   "source": [
    "def h():  # Unary, no free variables, print is looked up in the global scope.\n",
    "    print('Hello, world!')"
   ]
  },
  {
   "cell_type": "code",
   "execution_count": null,
   "id": "f98b3134-ac54-4b1a-b43e-75589bff6cef",
   "metadata": {},
   "outputs": [
    {
     "name": "stdout",
     "output_type": "stream",
     "text": [
      "15\n"
     ]
    }
   ],
   "source": [
    "def outer():\n",
    "    p = 10\n",
    "    \n",
    "    def inner(q):  # Unary, 1 free variable (p), 1 local (q).\n",
    "        print(p + q)  # print is looked up globally.\n",
    "\n",
    "    return inner\n",
    "\n",
    "outer()(5)"
   ]
  },
  {
   "cell_type": "markdown",
   "id": "a88f1067-6ed0-4c56-8b5e-37b57f58d9a2",
   "metadata": {},
   "source": [
    "## `**kwargs`"
   ]
  },
  {
   "cell_type": "code",
   "execution_count": null,
   "id": "a6aa8335-eb67-42b6-8836-28ee4a206277",
   "metadata": {},
   "outputs": [],
   "source": [
    "def f(*args):\n",
    "    return 1"
   ]
  },
  {
   "cell_type": "code",
   "execution_count": null,
   "id": "2da82ab7-ec26-45b7-91f2-d42a06c2a39c",
   "metadata": {},
   "outputs": [
    {
     "data": {
      "text/plain": [
       "1"
      ]
     },
     "execution_count": 14,
     "metadata": {},
     "output_type": "execute_result"
    }
   ],
   "source": [
    "f()"
   ]
  },
  {
   "cell_type": "code",
   "execution_count": null,
   "id": "918bf2b3-92a4-4c64-8e4f-1ec7b8495673",
   "metadata": {},
   "outputs": [
    {
     "data": {
      "text/plain": [
       "1"
      ]
     },
     "execution_count": 15,
     "metadata": {},
     "output_type": "execute_result"
    }
   ],
   "source": [
    "f(10, 20)"
   ]
  },
  {
   "cell_type": "code",
   "execution_count": null,
   "id": "bae1e28e-f080-41c5-83fc-ddfd776bcace",
   "metadata": {},
   "outputs": [],
   "source": [
    "# Define a function called \"proclaim\" that accepts zero or more positional\n",
    "# arguments and behaves like print, except it prints \"Good news: \" first.\n",
    "def proclaim(*args):\n",
    "    print(\"Good News: \", *args)"
   ]
  },
  {
   "cell_type": "code",
   "execution_count": null,
   "id": "fc0b7dc3-a62f-4cef-896b-3700c7ba78df",
   "metadata": {},
   "outputs": [
    {
     "name": "stdout",
     "output_type": "stream",
     "text": [
      "Good News:  1 2 3\n"
     ]
    }
   ],
   "source": [
    "proclaim(1, 2, 3)"
   ]
  },
  {
   "cell_type": "code",
   "execution_count": null,
   "id": "f2273bdf-33e1-4f08-b810-01476f7d6a1a",
   "metadata": {},
   "outputs": [
    {
     "name": "stdout",
     "output_type": "stream",
     "text": [
      "Good News: \n"
     ]
    }
   ],
   "source": [
    "proclaim()"
   ]
  },
  {
   "cell_type": "code",
   "execution_count": null,
   "id": "30f1e576-e608-4ad9-b0d2-67236e4d7f85",
   "metadata": {},
   "outputs": [
    {
     "name": "stdout",
     "output_type": "stream",
     "text": [
      "1 2 3\n"
     ]
    }
   ],
   "source": [
    "print(1, 2, 3)"
   ]
  },
  {
   "cell_type": "code",
   "execution_count": null,
   "id": "40832c9b-b535-4136-9aa1-8143f3f508be",
   "metadata": {},
   "outputs": [],
   "source": [
    "# Define a function called \"proclaim\" that accepts one or more positional\n",
    "# arguments and behaves like print, except it prints \"Good news: \" first.\n",
    "def proclaim(first, *rest):\n",
    "    print(\"Good News: \", first, *rest)"
   ]
  },
  {
   "cell_type": "code",
   "execution_count": null,
   "id": "aac7898b-4d97-4b3f-bed6-9419ee475397",
   "metadata": {},
   "outputs": [
    {
     "name": "stdout",
     "output_type": "stream",
     "text": [
      "Good News:  1 2 3\n"
     ]
    }
   ],
   "source": [
    "proclaim(1, 2, 3)"
   ]
  },
  {
   "cell_type": "code",
   "execution_count": null,
   "id": "f90a0d81-9bd7-4865-bfac-6896f179d5b9",
   "metadata": {
    "tags": [
     "raises-exception"
    ]
   },
   "outputs": [
    {
     "ename": "TypeError",
     "evalue": "proclaim() missing 1 required positional argument: 'first'",
     "output_type": "error",
     "traceback": [
      "\u001b[1;31m---------------------------------------------------------------------------\u001b[0m",
      "\u001b[1;31mTypeError\u001b[0m                                 Traceback (most recent call last)",
      "Input \u001b[1;32mIn [34]\u001b[0m, in \u001b[0;36m<module>\u001b[1;34m\u001b[0m\n\u001b[1;32m----> 1\u001b[0m \u001b[43mproclaim\u001b[49m\u001b[43m(\u001b[49m\u001b[43m)\u001b[49m\n",
      "\u001b[1;31mTypeError\u001b[0m: proclaim() missing 1 required positional argument: 'first'"
     ]
    }
   ],
   "source": [
    "proclaim()"
   ]
  },
  {
   "cell_type": "code",
   "execution_count": null,
   "id": "dad744cd-e3e9-492f-b326-a44153f7659a",
   "metadata": {
    "tags": [
     "raises-exception"
    ]
   },
   "outputs": [
    {
     "ename": "TypeError",
     "evalue": "proclaim() got an unexpected keyword argument 'sep'",
     "output_type": "error",
     "traceback": [
      "\u001b[1;31m---------------------------------------------------------------------------\u001b[0m",
      "\u001b[1;31mTypeError\u001b[0m                                 Traceback (most recent call last)",
      "Input \u001b[1;32mIn [35]\u001b[0m, in \u001b[0;36m<module>\u001b[1;34m\u001b[0m\n\u001b[1;32m----> 1\u001b[0m \u001b[43mproclaim\u001b[49m\u001b[43m(\u001b[49m\u001b[38;5;124;43m'\u001b[39;49m\u001b[38;5;124;43mhello\u001b[39;49m\u001b[38;5;124;43m'\u001b[39;49m\u001b[43m,\u001b[49m\u001b[43m \u001b[49m\u001b[38;5;124;43m'\u001b[39;49m\u001b[38;5;124;43mgoodbye\u001b[39;49m\u001b[38;5;124;43m'\u001b[39;49m\u001b[43m,\u001b[49m\u001b[43m \u001b[49m\u001b[43msep\u001b[49m\u001b[38;5;241;43m=\u001b[39;49m\u001b[38;5;124;43m'\u001b[39;49m\u001b[38;5;124;43m---\u001b[39;49m\u001b[38;5;124;43m'\u001b[39;49m\u001b[43m)\u001b[49m\n",
      "\u001b[1;31mTypeError\u001b[0m: proclaim() got an unexpected keyword argument 'sep'"
     ]
    }
   ],
   "source": [
    "proclaim('hello', 'goodbye', sep='---')"
   ]
  },
  {
   "cell_type": "code",
   "execution_count": null,
   "id": "fe8a5a58-abd5-4f31-8dec-8680c009b85e",
   "metadata": {},
   "outputs": [
    {
     "data": {
      "text/plain": [
       "[5, 10, 20, 30, 40]"
      ]
     },
     "execution_count": 26,
     "metadata": {},
     "output_type": "execute_result"
    }
   ],
   "source": [
    "# Prefixing with one * expands it as comma-separated expressions.\n",
    "xs = [10, 20, 30]\n",
    "[5, *xs, 40]"
   ]
  },
  {
   "cell_type": "code",
   "execution_count": null,
   "id": "53268275-3fe7-4446-ace6-9c5cbe6ccb90",
   "metadata": {},
   "outputs": [
    {
     "data": {
      "text/plain": [
       "{'hello': 5, 'bye': 3, 'bobcat': 6, 'ow': 2}"
      ]
     },
     "execution_count": 36,
     "metadata": {},
     "output_type": "execute_result"
    }
   ],
   "source": [
    "words = ['hello', 'bye', 'bobcat', 'ow']\n",
    "lengths = {word: len(word) for word in words}\n",
    "lengths"
   ]
  },
  {
   "cell_type": "code",
   "execution_count": null,
   "id": "8142b947-cc84-471a-8b88-1fee2cb4bd36",
   "metadata": {},
   "outputs": [
    {
     "data": {
      "text/plain": [
       "{'hello': 5, 'bye': 3, 'bobcat': 6, 'ow': 2, 'haha': 4}"
      ]
     },
     "execution_count": 41,
     "metadata": {},
     "output_type": "execute_result"
    }
   ],
   "source": [
    "lengths2 = dict(lengths)\n",
    "lengths2['haha'] = 4\n",
    "lengths2"
   ]
  },
  {
   "cell_type": "code",
   "execution_count": null,
   "id": "317ded28-e80c-4d0c-89cc-a5b28584ff45",
   "metadata": {},
   "outputs": [
    {
     "data": {
      "text/plain": [
       "{'hello': 5, 'bye': 3, 'bobcat': 6, 'ow': 2, 'haha': 4}"
      ]
     },
     "execution_count": 42,
     "metadata": {},
     "output_type": "execute_result"
    }
   ],
   "source": [
    "lengths"
   ]
  },
  {
   "cell_type": "code",
   "execution_count": null,
   "id": "ce8d9f84-4f62-44ba-b4df-0726bcb6921c",
   "metadata": {},
   "outputs": [
    {
     "data": {
      "text/plain": [
       "{'hello': 5, 'bye': 3, 'bobcat': 6, 'ow': 2, 'haha': 4}"
      ]
     },
     "execution_count": 45,
     "metadata": {},
     "output_type": "execute_result"
    }
   ],
   "source": [
    "# Prefixing with ** expands it as key-value pairs.\n",
    "lengths2 = {**lengths, 'haha': 4}\n",
    "lengths2"
   ]
  },
  {
   "cell_type": "code",
   "execution_count": null,
   "id": "87a471d9-fc4a-4d91-8630-5b8974e220b8",
   "metadata": {},
   "outputs": [],
   "source": [
    "def f(**kwargs):\n",
    "    print(kwargs)"
   ]
  },
  {
   "cell_type": "code",
   "execution_count": null,
   "id": "e79bf35d-4b05-480d-80c6-383062a3a02d",
   "metadata": {},
   "outputs": [
    {
     "name": "stdout",
     "output_type": "stream",
     "text": [
      "{'bob': 'cat', 'sally': 4221}\n"
     ]
    }
   ],
   "source": [
    "f(bob='cat', sally=4221)"
   ]
  },
  {
   "cell_type": "code",
   "execution_count": null,
   "id": "cf0641c8-ade9-4f0a-8a52-6c839eda579a",
   "metadata": {},
   "outputs": [
    {
     "data": {
      "text/plain": [
       "{'hello': 5, 'bye': 3, 'bobcat': 6, 'ow': 2}"
      ]
     },
     "execution_count": 48,
     "metadata": {},
     "output_type": "execute_result"
    }
   ],
   "source": [
    "{'hello': 5, 'bye': 3, 'bobcat': 6, 'ow': 2}"
   ]
  },
  {
   "cell_type": "code",
   "execution_count": null,
   "id": "582bc07b-46b9-44c2-9bbd-c5359194707f",
   "metadata": {},
   "outputs": [
    {
     "data": {
      "text/plain": [
       "{'hello': 5, 'bye': 3, 'bobcat': 6, 'ow': 2}"
      ]
     },
     "execution_count": 49,
     "metadata": {},
     "output_type": "execute_result"
    }
   ],
   "source": [
    "def make_dictionary(**kwargs):\n",
    "    return kwargs\n",
    "\n",
    "make_dictionary(hello=5, bye=3, bobcat=6, ow=2)"
   ]
  },
  {
   "cell_type": "code",
   "execution_count": null,
   "id": "1847b45e-54d2-4162-8b04-6e06422dc61d",
   "metadata": {},
   "outputs": [
    {
     "data": {
      "text/plain": [
       "{'hello': 5, 'bye': 3, 'bobcat': 6, 'ow': 2}"
      ]
     },
     "execution_count": 50,
     "metadata": {},
     "output_type": "execute_result"
    }
   ],
   "source": [
    "dict(hello=5, bye=3, bobcat=6, ow=2)"
   ]
  },
  {
   "cell_type": "code",
   "execution_count": null,
   "id": "f2a2385d-ebcc-48d5-916b-7eeba265fd00",
   "metadata": {},
   "outputs": [],
   "source": [
    "# TODO: Make proclaim forward keyword as well as positional arguments.\n",
    "# (For example: sep=, end=, and file= will work.)"
   ]
  },
  {
   "cell_type": "code",
   "execution_count": 16,
   "id": "5dd9ba17-389c-41df-89c2-c7627b63c588",
   "metadata": {},
   "outputs": [
    {
     "name": "stdout",
     "output_type": "stream",
     "text": [
      "Good News:---hello---goodbye\n"
     ]
    }
   ],
   "source": [
    "def proclaim(*pargs, **kwargs):\n",
    "    print(\"Good News:\", *pargs, **kwargs)\n",
    "proclaim('hello', 'goodbye', sep='---')"
   ]
  },
  {
   "cell_type": "code",
   "execution_count": null,
   "id": "58675e97-8937-4113-86e6-042a1e32781a",
   "metadata": {},
   "outputs": [],
   "source": []
  }
 ],
 "metadata": {
  "kernelspec": {
   "display_name": "Python 3 (ipykernel)",
   "language": "python",
   "name": "python3"
  },
  "language_info": {
   "codemirror_mode": {
    "name": "ipython",
    "version": 3
   },
   "file_extension": ".py",
   "mimetype": "text/x-python",
   "name": "python",
   "nbconvert_exporter": "python",
   "pygments_lexer": "ipython3",
   "version": "3.10.2"
  }
 },
 "nbformat": 4,
 "nbformat_minor": 5
}
