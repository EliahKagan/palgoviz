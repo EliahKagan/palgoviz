{
 "cells": [
  {
   "cell_type": "markdown",
   "id": "08f3c677-a9b0-45b5-8815-f1f130ff8103",
   "metadata": {
    "tags": []
   },
   "source": [
    "# Functions - definition syntax, calling semantics"
   ]
  },
  {
   "cell_type": "code",
   "execution_count": 1,
   "id": "59ca5d24-2090-4b62-ac3b-dc30a40de105",
   "metadata": {},
   "outputs": [],
   "source": [
    "def increment(var):\n",
    "    var += 1  # Does not actually affect the caller."
   ]
  },
  {
   "cell_type": "code",
   "execution_count": 2,
   "id": "4664431b",
   "metadata": {},
   "outputs": [],
   "source": [
    "def increment(var):\n",
    "    var += 1  # Does not actually affect the caller."
   ]
  },
  {
   "cell_type": "code",
   "execution_count": 3,
   "id": "2bdaba67",
   "metadata": {},
   "outputs": [],
   "source": [
    "def increment(var):\n",
    "    var += 1  # Does not actually affect the caller."
   ]
  },
  {
   "cell_type": "code",
   "execution_count": 4,
   "id": "542bc9bc-258e-45e6-8f83-d0f833eb83f6",
   "metadata": {},
   "outputs": [
    {
     "data": {
      "text/plain": [
       "3"
      ]
     },
     "execution_count": 4,
     "metadata": {},
     "output_type": "execute_result"
    }
   ],
   "source": [
    "x = 3\n",
    "increment(x)\n",
    "x"
   ]
  },
  {
   "cell_type": "code",
   "execution_count": 5,
   "id": "20d194e8-6f09-4167-8eb2-fee6927ad50e",
   "metadata": {},
   "outputs": [],
   "source": [
    "def f(values):\n",
    "    values.append(1000)"
   ]
  },
  {
   "cell_type": "code",
   "execution_count": 6,
   "id": "7a232cdd-4365-4be3-9a53-9bce4c3029ad",
   "metadata": {},
   "outputs": [
    {
     "data": {
      "text/plain": [
       "[10, 20, 30, 1000]"
      ]
     },
     "execution_count": 6,
     "metadata": {},
     "output_type": "execute_result"
    }
   ],
   "source": [
    "a = [10, 20, 30]\n",
    "f(a)\n",
    "a"
   ]
  },
  {
   "cell_type": "code",
   "execution_count": 7,
   "id": "ffc5f6e5-f456-4db9-bfd5-74c0c18a5d61",
   "metadata": {},
   "outputs": [],
   "source": [
    "def g(values):\n",
    "    values = []"
   ]
  },
  {
   "cell_type": "code",
   "execution_count": 8,
   "id": "bf038551-28e2-49e2-8db6-70ff21650ac8",
   "metadata": {},
   "outputs": [
    {
     "data": {
      "text/plain": [
       "[10, 20, 30, 1000]"
      ]
     },
     "execution_count": 8,
     "metadata": {},
     "output_type": "execute_result"
    }
   ],
   "source": [
    "g(a)\n",
    "a"
   ]
  },
  {
   "cell_type": "markdown",
   "id": "77adfdae-1634-4252-a440-fe264f4f81e1",
   "metadata": {},
   "source": [
    "## Arity"
   ]
  },
  {
   "cell_type": "code",
   "execution_count": 9,
   "id": "cfb9f410-e29b-47fb-9b2b-3ac982dd9200",
   "metadata": {},
   "outputs": [],
   "source": [
    "def f(x):  # Unary, no free variables.\n",
    "    return x"
   ]
  },
  {
   "cell_type": "code",
   "execution_count": 10,
   "id": "0a05b401-53bc-4c0a-a30e-bac70618e6d3",
   "metadata": {},
   "outputs": [],
   "source": [
    "def g(x):  # Unary, no free variables, y is looked up in the global scope.\n",
    "    return x + y"
   ]
  },
  {
   "cell_type": "code",
   "execution_count": 11,
   "id": "811f59c3-fbcf-4ec0-87ab-dce55743a8b8",
   "metadata": {},
   "outputs": [],
   "source": [
    "def h():  # Unary, no free variables, print is looked up in the global scope.\n",
    "    print('Hello, world!')"
   ]
  },
  {
   "cell_type": "code",
   "execution_count": 12,
   "id": "f98b3134-ac54-4b1a-b43e-75589bff6cef",
   "metadata": {},
   "outputs": [
    {
     "name": "stdout",
     "output_type": "stream",
     "text": [
      "15\n"
     ]
    }
   ],
   "source": [
    "def outer():\n",
    "    p = 10\n",
    "    \n",
    "    def inner(q):  # Unary, 1 free variable (p), 1 local (q).\n",
    "        print(p + q)  # print is looked up globally.\n",
    "\n",
    "    return inner\n",
    "\n",
    "outer()(5)"
   ]
  },
  {
   "cell_type": "markdown",
   "id": "a88f1067-6ed0-4c56-8b5e-37b57f58d9a2",
   "metadata": {},
   "source": [
    "## `**kwargs`"
   ]
  },
  {
   "cell_type": "code",
   "execution_count": 13,
   "id": "a6aa8335-eb67-42b6-8836-28ee4a206277",
   "metadata": {},
   "outputs": [],
   "source": [
    "def f(*args):\n",
    "    return 1"
   ]
  },
  {
   "cell_type": "code",
   "execution_count": 14,
   "id": "2da82ab7-ec26-45b7-91f2-d42a06c2a39c",
   "metadata": {},
   "outputs": [
    {
     "data": {
      "text/plain": [
       "1"
      ]
     },
     "execution_count": 14,
     "metadata": {},
     "output_type": "execute_result"
    }
   ],
   "source": [
    "f()"
   ]
  },
  {
   "cell_type": "code",
   "execution_count": 15,
   "id": "918bf2b3-92a4-4c64-8e4f-1ec7b8495673",
   "metadata": {},
   "outputs": [
    {
     "data": {
      "text/plain": [
       "1"
      ]
     },
     "execution_count": 15,
     "metadata": {},
     "output_type": "execute_result"
    }
   ],
   "source": [
    "f(10, 20)"
   ]
  },
  {
   "cell_type": "code",
   "execution_count": 16,
   "id": "bae1e28e-f080-41c5-83fc-ddfd776bcace",
   "metadata": {},
   "outputs": [],
   "source": [
    "# Define a function called \"proclaim\" that accepts zero or more positional\n",
    "# arguments and behaves like print, except it prints \"Good news: \" first.\n",
    "def proclaim(*args):\n",
    "    print(\"Good News: \", *args)"
   ]
  },
  {
   "cell_type": "code",
   "execution_count": 17,
   "id": "fc0b7dc3-a62f-4cef-896b-3700c7ba78df",
   "metadata": {},
   "outputs": [
    {
     "name": "stdout",
     "output_type": "stream",
     "text": [
      "Good News:  1 2 3\n"
     ]
    }
   ],
   "source": [
    "proclaim(1, 2, 3)"
   ]
  },
  {
   "cell_type": "code",
   "execution_count": 18,
   "id": "f2273bdf-33e1-4f08-b810-01476f7d6a1a",
   "metadata": {},
   "outputs": [
    {
     "name": "stdout",
     "output_type": "stream",
     "text": [
      "Good News: \n"
     ]
    }
   ],
   "source": [
    "proclaim()"
   ]
  },
  {
   "cell_type": "code",
   "execution_count": 19,
   "id": "30f1e576-e608-4ad9-b0d2-67236e4d7f85",
   "metadata": {},
   "outputs": [
    {
     "name": "stdout",
     "output_type": "stream",
     "text": [
      "1 2 3\n"
     ]
    }
   ],
   "source": [
    "print(1, 2, 3)"
   ]
  },
  {
   "cell_type": "code",
   "execution_count": 20,
   "id": "40832c9b-b535-4136-9aa1-8143f3f508be",
   "metadata": {},
   "outputs": [],
   "source": [
    "# Define a function called \"proclaim\" that accepts one or more positional\n",
    "# arguments and behaves like print, except it prints \"Good news: \" first.\n",
    "def proclaim(first, *rest):\n",
    "    print(\"Good News: \", first, *rest)"
   ]
  },
  {
   "cell_type": "code",
   "execution_count": 21,
   "id": "aac7898b-4d97-4b3f-bed6-9419ee475397",
   "metadata": {},
   "outputs": [
    {
     "name": "stdout",
     "output_type": "stream",
     "text": [
      "Good News:  1 2 3\n"
     ]
    }
   ],
   "source": [
    "proclaim(1, 2, 3)"
   ]
  },
  {
   "cell_type": "code",
   "execution_count": 22,
   "id": "f90a0d81-9bd7-4865-bfac-6896f179d5b9",
   "metadata": {
    "tags": [
     "raises-exception"
    ]
   },
   "outputs": [
    {
     "ename": "TypeError",
     "evalue": "proclaim() missing 1 required positional argument: 'first'",
     "output_type": "error",
     "traceback": [
      "\u001b[1;31m---------------------------------------------------------------------------\u001b[0m",
      "\u001b[1;31mTypeError\u001b[0m                                 Traceback (most recent call last)",
      "Input \u001b[1;32mIn [22]\u001b[0m, in \u001b[0;36m<module>\u001b[1;34m\u001b[0m\n\u001b[1;32m----> 1\u001b[0m \u001b[43mproclaim\u001b[49m\u001b[43m(\u001b[49m\u001b[43m)\u001b[49m\n",
      "\u001b[1;31mTypeError\u001b[0m: proclaim() missing 1 required positional argument: 'first'"
     ]
    }
   ],
   "source": [
    "proclaim()"
   ]
  },
  {
   "cell_type": "code",
   "execution_count": 23,
   "id": "dad744cd-e3e9-492f-b326-a44153f7659a",
   "metadata": {
    "tags": [
     "raises-exception"
    ]
   },
   "outputs": [
    {
     "ename": "TypeError",
     "evalue": "proclaim() got an unexpected keyword argument 'sep'",
     "output_type": "error",
     "traceback": [
      "\u001b[1;31m---------------------------------------------------------------------------\u001b[0m",
      "\u001b[1;31mTypeError\u001b[0m                                 Traceback (most recent call last)",
      "Input \u001b[1;32mIn [23]\u001b[0m, in \u001b[0;36m<module>\u001b[1;34m\u001b[0m\n\u001b[1;32m----> 1\u001b[0m \u001b[43mproclaim\u001b[49m\u001b[43m(\u001b[49m\u001b[38;5;124;43m'\u001b[39;49m\u001b[38;5;124;43mhello\u001b[39;49m\u001b[38;5;124;43m'\u001b[39;49m\u001b[43m,\u001b[49m\u001b[43m \u001b[49m\u001b[38;5;124;43m'\u001b[39;49m\u001b[38;5;124;43mgoodbye\u001b[39;49m\u001b[38;5;124;43m'\u001b[39;49m\u001b[43m,\u001b[49m\u001b[43m \u001b[49m\u001b[43msep\u001b[49m\u001b[38;5;241;43m=\u001b[39;49m\u001b[38;5;124;43m'\u001b[39;49m\u001b[38;5;124;43m---\u001b[39;49m\u001b[38;5;124;43m'\u001b[39;49m\u001b[43m)\u001b[49m\n",
      "\u001b[1;31mTypeError\u001b[0m: proclaim() got an unexpected keyword argument 'sep'"
     ]
    }
   ],
   "source": [
    "proclaim('hello', 'goodbye', sep='---')"
   ]
  },
  {
   "cell_type": "code",
   "execution_count": 24,
   "id": "fe8a5a58-abd5-4f31-8dec-8680c009b85e",
   "metadata": {},
   "outputs": [
    {
     "data": {
      "text/plain": [
       "[5, 10, 20, 30, 40]"
      ]
     },
     "execution_count": 24,
     "metadata": {},
     "output_type": "execute_result"
    }
   ],
   "source": [
    "# Prefixing with one * expands it as comma-separated expressions.\n",
    "xs = [10, 20, 30]\n",
    "[5, *xs, 40]"
   ]
  },
  {
   "cell_type": "code",
   "execution_count": 25,
   "id": "53268275-3fe7-4446-ace6-9c5cbe6ccb90",
   "metadata": {},
   "outputs": [
    {
     "data": {
      "text/plain": [
       "{'hello': 5, 'bye': 3, 'bobcat': 6, 'ow': 2}"
      ]
     },
     "execution_count": 25,
     "metadata": {},
     "output_type": "execute_result"
    }
   ],
   "source": [
    "words = ['hello', 'bye', 'bobcat', 'ow']\n",
    "lengths = {word: len(word) for word in words}\n",
    "lengths"
   ]
  },
  {
   "cell_type": "code",
   "execution_count": 26,
   "id": "8142b947-cc84-471a-8b88-1fee2cb4bd36",
   "metadata": {},
   "outputs": [
    {
     "data": {
      "text/plain": [
       "{'hello': 5, 'bye': 3, 'bobcat': 6, 'ow': 2, 'haha': 4}"
      ]
     },
     "execution_count": 26,
     "metadata": {},
     "output_type": "execute_result"
    }
   ],
   "source": [
    "lengths2 = dict(lengths)\n",
    "lengths2['haha'] = 4\n",
    "lengths2"
   ]
  },
  {
   "cell_type": "code",
   "execution_count": 27,
   "id": "317ded28-e80c-4d0c-89cc-a5b28584ff45",
   "metadata": {},
   "outputs": [
    {
     "data": {
      "text/plain": [
       "{'hello': 5, 'bye': 3, 'bobcat': 6, 'ow': 2}"
      ]
     },
     "execution_count": 27,
     "metadata": {},
     "output_type": "execute_result"
    }
   ],
   "source": [
    "lengths"
   ]
  },
  {
   "cell_type": "code",
   "execution_count": 28,
   "id": "ce8d9f84-4f62-44ba-b4df-0726bcb6921c",
   "metadata": {},
   "outputs": [
    {
     "data": {
      "text/plain": [
       "{'hello': 5, 'bye': 3, 'bobcat': 6, 'ow': 2, 'haha': 4}"
      ]
     },
     "execution_count": 28,
     "metadata": {},
     "output_type": "execute_result"
    }
   ],
   "source": [
    "# Prefixing with ** expands it as key-value pairs.\n",
    "lengths2 = {**lengths, 'haha': 4}\n",
    "lengths2"
   ]
  },
  {
   "cell_type": "code",
   "execution_count": 29,
   "id": "87a471d9-fc4a-4d91-8630-5b8974e220b8",
   "metadata": {},
   "outputs": [],
   "source": [
    "def f(**kwargs):\n",
    "    print(kwargs)"
   ]
  },
  {
   "cell_type": "code",
   "execution_count": 30,
   "id": "e79bf35d-4b05-480d-80c6-383062a3a02d",
   "metadata": {},
   "outputs": [
    {
     "name": "stdout",
     "output_type": "stream",
     "text": [
      "{'bob': 'cat', 'sally': 4221}\n"
     ]
    }
   ],
   "source": [
    "f(bob='cat', sally=4221)"
   ]
  },
  {
   "cell_type": "code",
   "execution_count": 31,
   "id": "cf0641c8-ade9-4f0a-8a52-6c839eda579a",
   "metadata": {},
   "outputs": [
    {
     "data": {
      "text/plain": [
       "{'hello': 5, 'bye': 3, 'bobcat': 6, 'ow': 2}"
      ]
     },
     "execution_count": 31,
     "metadata": {},
     "output_type": "execute_result"
    }
   ],
   "source": [
    "{'hello': 5, 'bye': 3, 'bobcat': 6, 'ow': 2}"
   ]
  },
  {
   "cell_type": "code",
   "execution_count": 32,
   "id": "582bc07b-46b9-44c2-9bbd-c5359194707f",
   "metadata": {},
   "outputs": [
    {
     "data": {
      "text/plain": [
       "{'hello': 5, 'bye': 3, 'bobcat': 6, 'ow': 2}"
      ]
     },
     "execution_count": 32,
     "metadata": {},
     "output_type": "execute_result"
    }
   ],
   "source": [
    "def make_dictionary(**kwargs):\n",
    "    return kwargs\n",
    "\n",
    "make_dictionary(hello=5, bye=3, bobcat=6, ow=2)"
   ]
  },
  {
   "cell_type": "code",
   "execution_count": 33,
   "id": "1847b45e-54d2-4162-8b04-6e06422dc61d",
   "metadata": {},
   "outputs": [
    {
     "data": {
      "text/plain": [
       "{'hello': 5, 'bye': 3, 'bobcat': 6, 'ow': 2}"
      ]
     },
     "execution_count": 33,
     "metadata": {},
     "output_type": "execute_result"
    }
   ],
   "source": [
    "dict(hello=5, bye=3, bobcat=6, ow=2)"
   ]
  },
  {
   "cell_type": "code",
   "execution_count": 34,
   "id": "5dd9ba17-389c-41df-89c2-c7627b63c588",
   "metadata": {},
   "outputs": [
    {
     "name": "stdout",
     "output_type": "stream",
     "text": [
      "Good News:---hello---goodbye\n"
     ]
    }
   ],
   "source": [
    "# Make proclaim forward keyword as well as positional arguments.\n",
    "# (For example: sep=, end=, and file= will work.)\n",
    "def proclaim(*pargs, **kwargs):\n",
    "    print(\"Good News:\", *pargs, **kwargs)\n",
    "proclaim('hello', 'goodbye', sep='---')"
   ]
  },
  {
   "cell_type": "code",
   "execution_count": 35,
   "id": "58675e97-8937-4113-86e6-042a1e32781a",
   "metadata": {},
   "outputs": [],
   "source": [
    "d = {'d': 'a', 'c': 2, 'v': 5}"
   ]
  },
  {
   "cell_type": "code",
   "execution_count": 36,
   "id": "39863be1-85e9-4a8a-acdd-dfbfdc5cdb18",
   "metadata": {},
   "outputs": [
    {
     "data": {
      "text/plain": [
       "\"{'d': 'a', 'c': 2, 'v': 5}\""
      ]
     },
     "execution_count": 36,
     "metadata": {},
     "output_type": "execute_result"
    }
   ],
   "source": [
    "str(d)"
   ]
  },
  {
   "cell_type": "code",
   "execution_count": 37,
   "id": "57e6cf52-7561-4856-baf0-da3e3dbc56b9",
   "metadata": {},
   "outputs": [
    {
     "data": {
      "text/plain": [
       "['d: a', 'c: 2', 'v: 5']"
      ]
     },
     "execution_count": 37,
     "metadata": {},
     "output_type": "execute_result"
    }
   ],
   "source": [
    "l = []\n",
    "for key in d: \n",
    "    l.append(f'{key}: {d[key]}')\n",
    "l"
   ]
  },
  {
   "cell_type": "code",
   "execution_count": 38,
   "id": "a8b0b3de-ae4d-426a-98c3-8e7a467fdbfc",
   "metadata": {},
   "outputs": [],
   "source": [
    "s = ', '.join(l)"
   ]
  },
  {
   "cell_type": "code",
   "execution_count": 39,
   "id": "cd206a30-6b7d-40be-92df-f0d90181037f",
   "metadata": {},
   "outputs": [
    {
     "data": {
      "text/plain": [
       "'d: a, c: 2, v: 5'"
      ]
     },
     "execution_count": 39,
     "metadata": {},
     "output_type": "execute_result"
    }
   ],
   "source": [
    "s"
   ]
  },
  {
   "cell_type": "code",
   "execution_count": 43,
   "id": "18dc6077-f974-4d55-bf7b-456869c28711",
   "metadata": {},
   "outputs": [],
   "source": [
    "old_prices = {'trout': 32.00, 'halibut': 36.44, 'more RAM': 14.00}\n",
    "prices = {'trout': 34.00, 'halibut': 36.50, 'more RAM': 1337.00}\n",
    "both = [old_prices, prices]"
   ]
  },
  {
   "cell_type": "code",
   "execution_count": 46,
   "id": "c6f0a132-9777-463a-a906-ba39501dd255",
   "metadata": {},
   "outputs": [
    {
     "name": "stdout",
     "output_type": "stream",
     "text": [
      "old_trout_cost = 32.0\n",
      "other_old_costs = {'halibut': 36.44, 'more RAM': 14.0}\n",
      "new_trout_cost = 34.0\n"
     ]
    }
   ],
   "source": [
    "match both:\n",
    "    case [{'trout': old_trout_cost, **other_old_costs}, {'trout': new_trout_cost}]:\n",
    "        print(f'{old_trout_cost = }')\n",
    "        print(f'{other_old_costs = }')\n",
    "        print(f'{new_trout_cost = }')"
   ]
  },
  {
   "cell_type": "markdown",
   "id": "16c1a9c7-6e69-4331-9c9f-eac50e640b99",
   "metadata": {},
   "source": [
    "## Practice"
   ]
  },
  {
   "cell_type": "code",
   "execution_count": 3,
   "id": "d88f4b2a-ddef-4393-845b-7c2d12c40f2b",
   "metadata": {},
   "outputs": [],
   "source": [
    "def f(): \n",
    "    pass"
   ]
  },
  {
   "cell_type": "code",
   "execution_count": 4,
   "id": "d70adc29-cad4-485b-9355-b0278ddd67b8",
   "metadata": {},
   "outputs": [],
   "source": [
    "def g(arg): \n",
    "    pass"
   ]
  },
  {
   "cell_type": "code",
   "execution_count": 6,
   "id": "fecea115-4d6c-4970-bc87-45c1628443b4",
   "metadata": {},
   "outputs": [],
   "source": [
    "def h(*, kwarg):\n",
    "    pass"
   ]
  },
  {
   "cell_type": "code",
   "execution_count": 7,
   "id": "b6c934c8-1243-47a0-98a7-6d85c060b32a",
   "metadata": {},
   "outputs": [],
   "source": [
    "h(kwarg=1)"
   ]
  },
  {
   "cell_type": "code",
   "execution_count": 9,
   "id": "a448fab6-3f90-4f22-b4f4-ec7043bb070f",
   "metadata": {},
   "outputs": [],
   "source": [
    "def h(*, kwarg=2): \n",
    "    pass"
   ]
  },
  {
   "cell_type": "code",
   "execution_count": 10,
   "id": "507a4679-0491-4c4e-a707-9c91a3f04847",
   "metadata": {},
   "outputs": [],
   "source": [
    "h()"
   ]
  },
  {
   "cell_type": "code",
   "execution_count": 11,
   "id": "9c4ff3df-1df4-4747-8276-88dc793aff5a",
   "metadata": {},
   "outputs": [],
   "source": [
    "h(kwarg=3)"
   ]
  },
  {
   "cell_type": "code",
   "execution_count": 12,
   "id": "a6577c7c-1a97-4c29-864c-070902e90e4c",
   "metadata": {
    "tags": [
     "raises-exception"
    ]
   },
   "outputs": [
    {
     "ename": "TypeError",
     "evalue": "h() takes 0 positional arguments but 1 was given",
     "output_type": "error",
     "traceback": [
      "\u001b[1;31m---------------------------------------------------------------------------\u001b[0m",
      "\u001b[1;31mTypeError\u001b[0m                                 Traceback (most recent call last)",
      "Input \u001b[1;32mIn [12]\u001b[0m, in \u001b[0;36m<cell line: 1>\u001b[1;34m()\u001b[0m\n\u001b[1;32m----> 1\u001b[0m \u001b[43mh\u001b[49m\u001b[43m(\u001b[49m\u001b[38;5;241;43m3\u001b[39;49m\u001b[43m)\u001b[49m\n",
      "\u001b[1;31mTypeError\u001b[0m: h() takes 0 positional arguments but 1 was given"
     ]
    }
   ],
   "source": [
    "h(3)"
   ]
  },
  {
   "cell_type": "code",
   "execution_count": 14,
   "id": "1b585972-aa9c-421c-ba4f-a2e8ad2ae007",
   "metadata": {},
   "outputs": [],
   "source": [
    "def i(*args):\n",
    "    print(args)"
   ]
  },
  {
   "cell_type": "code",
   "execution_count": 15,
   "id": "46404add-9e3c-45e3-860c-0864b4936d6e",
   "metadata": {},
   "outputs": [
    {
     "name": "stdout",
     "output_type": "stream",
     "text": [
      "()\n"
     ]
    }
   ],
   "source": [
    "i()"
   ]
  },
  {
   "cell_type": "code",
   "execution_count": 16,
   "id": "6242c036-c044-4164-8b4f-8791c315bb79",
   "metadata": {},
   "outputs": [
    {
     "name": "stdout",
     "output_type": "stream",
     "text": [
      "(3,)\n"
     ]
    }
   ],
   "source": [
    "i(3)"
   ]
  },
  {
   "cell_type": "code",
   "execution_count": 18,
   "id": "f4c84ee9-4366-45b3-93a9-0485f8ee606a",
   "metadata": {},
   "outputs": [
    {
     "name": "stdout",
     "output_type": "stream",
     "text": [
      "(3, 4)\n"
     ]
    }
   ],
   "source": [
    "i(3, 4)"
   ]
  },
  {
   "cell_type": "code",
   "execution_count": 20,
   "id": "1965677d-dd0f-4cad-8daf-97eeec336b18",
   "metadata": {},
   "outputs": [],
   "source": [
    "s = [1, 'hi', 3.4]"
   ]
  },
  {
   "cell_type": "code",
   "execution_count": 21,
   "id": "b8227ba4-2649-49fa-8cf8-288ca7da0aa1",
   "metadata": {},
   "outputs": [
    {
     "name": "stdout",
     "output_type": "stream",
     "text": [
      "(1, 'hi', 3.4)\n"
     ]
    }
   ],
   "source": [
    "i(*s)"
   ]
  },
  {
   "cell_type": "code",
   "execution_count": 22,
   "id": "957f5e4c-51fb-4fbb-bf7b-edc4dd0e80ec",
   "metadata": {},
   "outputs": [
    {
     "name": "stdout",
     "output_type": "stream",
     "text": [
      "(42, 1, 'hi', 3.4)\n"
     ]
    }
   ],
   "source": [
    "i(42, *s)"
   ]
  },
  {
   "cell_type": "code",
   "execution_count": 23,
   "id": "cd2f5464-de7f-4bf4-82cc-4cd7d6573b7d",
   "metadata": {},
   "outputs": [
    {
     "name": "stdout",
     "output_type": "stream",
     "text": [
      "(42, 1, 'hi', 3.4, 76)\n"
     ]
    }
   ],
   "source": [
    "i(42, *s, 76)"
   ]
  },
  {
   "cell_type": "code",
   "execution_count": 24,
   "id": "0b48d30c-1f25-467f-b9b4-5c8e6345402d",
   "metadata": {},
   "outputs": [
    {
     "name": "stdout",
     "output_type": "stream",
     "text": [
      "(1, 'hi', 3.4, 1, 'hi', 3.4)\n"
     ]
    }
   ],
   "source": [
    "i(*s, *s)"
   ]
  },
  {
   "cell_type": "code",
   "execution_count": 26,
   "id": "291c9b3c-77de-4864-ab95-5b0f136f6024",
   "metadata": {},
   "outputs": [],
   "source": [
    "def j(**kwargs): \n",
    "    print(kwargs)"
   ]
  },
  {
   "cell_type": "code",
   "execution_count": 27,
   "id": "bf536f09-a934-44a0-a472-398ce7a9f4f8",
   "metadata": {},
   "outputs": [
    {
     "name": "stdout",
     "output_type": "stream",
     "text": [
      "{}\n"
     ]
    }
   ],
   "source": [
    "j()"
   ]
  },
  {
   "cell_type": "code",
   "execution_count": 28,
   "id": "e0a75c14-c321-4771-8014-b5123fa1a4d1",
   "metadata": {},
   "outputs": [
    {
     "name": "stdout",
     "output_type": "stream",
     "text": [
      "{'f': 10}\n"
     ]
    }
   ],
   "source": [
    "j(f=10)"
   ]
  },
  {
   "cell_type": "code",
   "execution_count": 29,
   "id": "3bb7b283-691c-43c5-8042-b615b4d3c58e",
   "metadata": {},
   "outputs": [],
   "source": [
    "d = {'g': 3, 'f': 4}"
   ]
  },
  {
   "cell_type": "code",
   "execution_count": 30,
   "id": "16afb5d8-b334-4306-ad71-0230c4f5d248",
   "metadata": {},
   "outputs": [
    {
     "name": "stdout",
     "output_type": "stream",
     "text": [
      "{'g': 3, 'f': 4}\n"
     ]
    }
   ],
   "source": [
    "j(**d)"
   ]
  },
  {
   "cell_type": "code",
   "execution_count": 31,
   "id": "6337f2eb-1e59-446b-a7d5-39d59a2a0c74",
   "metadata": {
    "tags": [
     "raises-exception"
    ]
   },
   "outputs": [
    {
     "ename": "TypeError",
     "evalue": "__main__.j() got multiple values for keyword argument 'f'",
     "output_type": "error",
     "traceback": [
      "\u001b[1;31m---------------------------------------------------------------------------\u001b[0m",
      "\u001b[1;31mTypeError\u001b[0m                                 Traceback (most recent call last)",
      "Input \u001b[1;32mIn [31]\u001b[0m, in \u001b[0;36m<cell line: 1>\u001b[1;34m()\u001b[0m\n\u001b[1;32m----> 1\u001b[0m j(\u001b[38;5;241m*\u001b[39m\u001b[38;5;241m*\u001b[39md, f\u001b[38;5;241m=\u001b[39m\u001b[38;5;241m10\u001b[39m)\n",
      "\u001b[1;31mTypeError\u001b[0m: __main__.j() got multiple values for keyword argument 'f'"
     ]
    }
   ],
   "source": [
    "j(**d, f=10)"
   ]
  },
  {
   "cell_type": "code",
   "execution_count": 32,
   "id": "dd731bf3-cf33-4d24-9d81-52118e1e6786",
   "metadata": {
    "tags": [
     "raises-exception"
    ]
   },
   "outputs": [
    {
     "ename": "SyntaxError",
     "evalue": "keyword argument repeated: f (4026408676.py, line 1)",
     "output_type": "error",
     "traceback": [
      "\u001b[1;36m  Input \u001b[1;32mIn [32]\u001b[1;36m\u001b[0m\n\u001b[1;33m    j(f=2, f=3)\u001b[0m\n\u001b[1;37m           ^\u001b[0m\n\u001b[1;31mSyntaxError\u001b[0m\u001b[1;31m:\u001b[0m keyword argument repeated: f\n"
     ]
    }
   ],
   "source": [
    "j(f=2, f=3)"
   ]
  },
  {
   "cell_type": "code",
   "execution_count": null,
   "id": "96ff9253-8fb1-4453-92b6-8f16dd3c3d09",
   "metadata": {},
   "outputs": [],
   "source": []
  }
 ],
 "metadata": {
  "kernelspec": {
   "display_name": "Python 3 (ipykernel)",
   "language": "python",
   "name": "python3"
  },
  "language_info": {
   "codemirror_mode": {
    "name": "ipython",
    "version": 3
   },
   "file_extension": ".py",
   "mimetype": "text/x-python",
   "name": "python",
   "nbconvert_exporter": "python",
   "pygments_lexer": "ipython3",
   "version": "3.10.4"
  }
 },
 "nbformat": 4,
 "nbformat_minor": 5
}
