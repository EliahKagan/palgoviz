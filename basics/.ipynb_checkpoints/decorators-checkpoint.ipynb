{
 "cells": [
  {
   "cell_type": "code",
   "execution_count": 1,
   "id": "573245e5-cabc-4b89-82b5-bbf85cc4b3fb",
   "metadata": {},
   "outputs": [],
   "source": [
    "def square(n):\n",
    "    return n**2"
   ]
  },
  {
   "cell_type": "code",
   "execution_count": 3,
   "id": "4d0d75a3-5a7f-4d90-a1cc-87ac646ade03",
   "metadata": {},
   "outputs": [],
   "source": [
    "def wrapper(n):\n",
    "    print(f'squaring {n}')\n",
    "    return square(n)"
   ]
  },
  {
   "cell_type": "code",
   "execution_count": 4,
   "id": "a30da17d-618f-4fbe-bef1-6f44ccb05870",
   "metadata": {},
   "outputs": [
    {
     "name": "stdout",
     "output_type": "stream",
     "text": [
      "squaring 3\n"
     ]
    },
    {
     "data": {
      "text/plain": [
       "9"
      ]
     },
     "execution_count": 4,
     "metadata": {},
     "output_type": "execute_result"
    }
   ],
   "source": [
    "wrapper(3)"
   ]
  },
  {
   "cell_type": "code",
   "execution_count": null,
   "id": "9b56b71b-9241-48a7-bf06-30d3b68ced24",
   "metadata": {},
   "outputs": [],
   "source": []
  }
 ],
 "metadata": {
  "kernelspec": {
   "display_name": "Python 3 (ipykernel)",
   "language": "python",
   "name": "python3"
  },
  "language_info": {
   "codemirror_mode": {
    "name": "ipython",
    "version": 3
   },
   "file_extension": ".py",
   "mimetype": "text/x-python",
   "name": "python",
   "nbconvert_exporter": "python",
   "pygments_lexer": "ipython3",
   "version": "3.10.2"
  }
 },
 "nbformat": 4,
 "nbformat_minor": 5
}
