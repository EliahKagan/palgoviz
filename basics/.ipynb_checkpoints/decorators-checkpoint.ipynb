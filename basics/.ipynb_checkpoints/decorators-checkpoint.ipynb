{
 "cells": [
  {
   "cell_type": "code",
   "execution_count": 1,
   "id": "573245e5-cabc-4b89-82b5-bbf85cc4b3fb",
   "metadata": {},
   "outputs": [],
   "source": [
    "def square(n):\n",
    "    return n**2"
   ]
  },
  {
   "cell_type": "code",
   "execution_count": 2,
   "id": "4d0d75a3-5a7f-4d90-a1cc-87ac646ade03",
   "metadata": {},
   "outputs": [],
   "source": [
    "def wrapper(n):\n",
    "    print(f'{square.__name__}({n})')\n",
    "    return square(n)"
   ]
  },
  {
   "cell_type": "code",
   "execution_count": 3,
   "id": "a30da17d-618f-4fbe-bef1-6f44ccb05870",
   "metadata": {},
   "outputs": [
    {
     "name": "stdout",
     "output_type": "stream",
     "text": [
      "square(3)\n"
     ]
    },
    {
     "data": {
      "text/plain": [
       "9"
      ]
     },
     "execution_count": 3,
     "metadata": {},
     "output_type": "execute_result"
    }
   ],
   "source": [
    "wrapper(3)"
   ]
  },
  {
   "cell_type": "code",
   "execution_count": 4,
   "id": "da6daae2-1304-4c0d-9386-e778c091805b",
   "metadata": {},
   "outputs": [],
   "source": [
    "from decorators import peek_arg"
   ]
  },
  {
   "cell_type": "code",
   "execution_count": 5,
   "id": "1535af05-4d46-4f16-85b2-2c51e700a754",
   "metadata": {},
   "outputs": [],
   "source": [
    "psquare = peek_arg(square)"
   ]
  },
  {
   "cell_type": "code",
   "execution_count": 6,
   "id": "163a0cfb-6d28-4531-8298-3a492f093577",
   "metadata": {},
   "outputs": [
    {
     "name": "stdout",
     "output_type": "stream",
     "text": [
      "square(0)\n",
      "square(1)\n",
      "square(2)\n",
      "square(3)\n",
      "square(4)\n"
     ]
    },
    {
     "data": {
      "text/plain": [
       "[0, 1, 4, 9, 16]"
      ]
     },
     "execution_count": 6,
     "metadata": {},
     "output_type": "execute_result"
    }
   ],
   "source": [
    "# List comprehension of the squares of 0 through 4 (inclusive).\n",
    "# Use psquare in the list comprehension. This will have the side effect\n",
    "# of printing information about the five calls to square.\n",
    "[psquare(x) for x in range(5)]\n"
   ]
  },
  {
   "cell_type": "code",
   "execution_count": 7,
   "id": "076071da-55c8-4f0b-8446-aa3f36ea14ec",
   "metadata": {},
   "outputs": [],
   "source": [
    "def fibonacci(n):\n",
    "    \"\"\"Compute the Fibonacci number F(n).\"\"\"\n",
    "    if n == 0:\n",
    "        return 0\n",
    "    if n == 1:\n",
    "        return 1\n",
    "    return fibonacci(n - 1) + fibonacci(n - 2)"
   ]
  },
  {
   "cell_type": "code",
   "execution_count": 8,
   "id": "2287ec2d-eb16-4035-b0d7-4cc231618abe",
   "metadata": {},
   "outputs": [],
   "source": [
    "pfibonacci = peek_arg(fibonacci)"
   ]
  },
  {
   "cell_type": "code",
   "execution_count": 9,
   "id": "50e691e8-bad1-4d7f-ac94-c574e18d0c8c",
   "metadata": {},
   "outputs": [
    {
     "name": "stdout",
     "output_type": "stream",
     "text": [
      "fibonacci(4)\n"
     ]
    },
    {
     "data": {
      "text/plain": [
       "3"
      ]
     },
     "execution_count": 9,
     "metadata": {},
     "output_type": "execute_result"
    }
   ],
   "source": [
    "pfibonacci(4)"
   ]
  },
  {
   "cell_type": "code",
   "execution_count": 10,
   "id": "c24373ce-f9ca-4cf5-a1a4-128c6e1ba833",
   "metadata": {},
   "outputs": [],
   "source": [
    "square = peek_arg(square)"
   ]
  },
  {
   "cell_type": "code",
   "execution_count": 11,
   "id": "17606508-57d2-496d-83e1-191278107dbb",
   "metadata": {},
   "outputs": [
    {
     "name": "stdout",
     "output_type": "stream",
     "text": [
      "square(0)\n",
      "square(1)\n",
      "square(2)\n",
      "square(3)\n",
      "square(4)\n"
     ]
    },
    {
     "data": {
      "text/plain": [
       "[0, 1, 4, 9, 16]"
      ]
     },
     "execution_count": 11,
     "metadata": {},
     "output_type": "execute_result"
    }
   ],
   "source": [
    "[square(x) for x in range(5)]"
   ]
  },
  {
   "cell_type": "code",
   "execution_count": 12,
   "id": "76556f03-3590-42fa-a8a9-79234380eba5",
   "metadata": {},
   "outputs": [],
   "source": [
    "fibonacci = peek_arg(fibonacci)"
   ]
  },
  {
   "cell_type": "code",
   "execution_count": 13,
   "id": "e5df679c-54b2-461d-91ff-12d91777920d",
   "metadata": {},
   "outputs": [
    {
     "name": "stdout",
     "output_type": "stream",
     "text": [
      "fibonacci(4)\n",
      "fibonacci(3)\n",
      "fibonacci(2)\n",
      "fibonacci(1)\n",
      "fibonacci(0)\n",
      "fibonacci(1)\n",
      "fibonacci(2)\n",
      "fibonacci(1)\n",
      "fibonacci(0)\n"
     ]
    },
    {
     "data": {
      "text/plain": [
       "3"
      ]
     },
     "execution_count": 13,
     "metadata": {},
     "output_type": "execute_result"
    }
   ],
   "source": [
    "fibonacci(4)"
   ]
  },
  {
   "cell_type": "code",
   "execution_count": 14,
   "id": "9e10aeef-ebb0-45bd-80e4-55668f6eeac9",
   "metadata": {},
   "outputs": [],
   "source": [
    "# Just for clarity. None of the del statements in this notebook are necessary.\n",
    "del square\n",
    "del fibonacci"
   ]
  },
  {
   "cell_type": "code",
   "execution_count": 15,
   "id": "85af40b7-7051-44fa-8781-c3ac336cbef5",
   "metadata": {},
   "outputs": [],
   "source": [
    "@peek_arg\n",
    "def square(n):\n",
    "    return n**2"
   ]
  },
  {
   "cell_type": "code",
   "execution_count": 16,
   "id": "c2fc13a7-3010-4ba0-a51c-6a4f05b0e3c9",
   "metadata": {},
   "outputs": [
    {
     "name": "stdout",
     "output_type": "stream",
     "text": [
      "square(7)\n"
     ]
    },
    {
     "data": {
      "text/plain": [
       "49"
      ]
     },
     "execution_count": 16,
     "metadata": {},
     "output_type": "execute_result"
    }
   ],
   "source": [
    "square(7)"
   ]
  },
  {
   "cell_type": "code",
   "execution_count": 17,
   "id": "345f88a2-cb16-43b7-9dc9-07b39e0f6294",
   "metadata": {},
   "outputs": [],
   "source": [
    "@peek_arg\n",
    "def fibonacci(n):\n",
    "    \"\"\"Compute the Fibonacci number F(n).\"\"\"\n",
    "    if n == 0:\n",
    "        return 0\n",
    "    if n == 1:\n",
    "        return 1\n",
    "    return fibonacci(n - 1) + fibonacci(n - 2)"
   ]
  },
  {
   "cell_type": "code",
   "execution_count": 18,
   "id": "2491642f-7896-4233-b9e0-15b1af9a2200",
   "metadata": {},
   "outputs": [
    {
     "name": "stdout",
     "output_type": "stream",
     "text": [
      "fibonacci(4)\n",
      "fibonacci(3)\n",
      "fibonacci(2)\n",
      "fibonacci(1)\n",
      "fibonacci(0)\n",
      "fibonacci(1)\n",
      "fibonacci(2)\n",
      "fibonacci(1)\n",
      "fibonacci(0)\n"
     ]
    },
    {
     "data": {
      "text/plain": [
       "3"
      ]
     },
     "execution_count": 18,
     "metadata": {},
     "output_type": "execute_result"
    }
   ],
   "source": [
    "fibonacci(4)"
   ]
  },
  {
   "cell_type": "code",
   "execution_count": 19,
   "id": "6d5b89ce-5ec1-4c36-bb95-a6b6df7a032b",
   "metadata": {},
   "outputs": [
    {
     "name": "stdout",
     "output_type": "stream",
     "text": [
      "fibonacci(4)\n",
      "fibonacci(3)\n",
      "fibonacci(2)\n",
      "fibonacci(1)\n",
      "fibonacci(0)\n",
      "fibonacci(1)\n",
      "fibonacci(2)\n",
      "fibonacci(1)\n",
      "fibonacci(0)\n"
     ]
    }
   ],
   "source": [
    "def use_locally(f):\n",
    "    fibonacci = 'famous Italian mathematician'\n",
    "    f(4)\n",
    "\n",
    "use_locally(fibonacci)"
   ]
  },
  {
   "cell_type": "code",
   "execution_count": 20,
   "id": "f89cee55-4628-4e0b-860a-7adf4e97ab7a",
   "metadata": {},
   "outputs": [
    {
     "name": "stdout",
     "output_type": "stream",
     "text": [
      "sq(0)\n",
      "sq(1)\n",
      "sq(2)\n",
      "sq(3)\n",
      "sq(4)\n",
      "[0, 1, 4, 9, 16]\n",
      "\n",
      "fib(4)\n",
      "fib(3)\n",
      "fib(2)\n",
      "fib(1)\n",
      "fib(0)\n",
      "fib(1)\n",
      "fib(2)\n",
      "fib(1)\n",
      "fib(0)\n",
      "3\n",
      "\n",
      "fib(4)\n",
      "fib(3)\n",
      "fib(2)\n",
      "fib(1)\n",
      "fib(0)\n",
      "fib(1)\n",
      "fib(2)\n",
      "fib(1)\n",
      "fib(0)\n"
     ]
    }
   ],
   "source": [
    "def define_and_use_locally():\n",
    "    @peek_arg\n",
    "    def sq(n):\n",
    "        return n**2\n",
    "    \n",
    "    @peek_arg\n",
    "    def fib(n):\n",
    "        if n == 0:\n",
    "            return 0\n",
    "        if n == 1:\n",
    "            return 1\n",
    "        return fib(n - 1) + fib(n - 2)\n",
    "    \n",
    "    print([sq(x) for x in range(5)])\n",
    "    print()\n",
    "    print(fib(4))\n",
    "    print()\n",
    "    use_locally(fib)\n",
    "\n",
    "define_and_use_locally()"
   ]
  },
  {
   "cell_type": "code",
   "execution_count": 21,
   "id": "f07dcb6d-db5a-42d1-92ba-6675a7f8c176",
   "metadata": {},
   "outputs": [],
   "source": [
    "from decorators import call"
   ]
  },
  {
   "cell_type": "code",
   "execution_count": 22,
   "id": "26edcb70-dacb-412f-8bff-488a3b62dd4d",
   "metadata": {},
   "outputs": [
    {
     "name": "stdout",
     "output_type": "stream",
     "text": [
      "Hi, world!\n"
     ]
    }
   ],
   "source": [
    "@call\n",
    "def hi():\n",
    "    print('Hi, world!')"
   ]
  },
  {
   "cell_type": "code",
   "execution_count": 23,
   "id": "0e025e63-49bb-4b20-9363-ed48152e9896",
   "metadata": {},
   "outputs": [
    {
     "name": "stdout",
     "output_type": "stream",
     "text": [
      "Hi, world!\n"
     ]
    }
   ],
   "source": [
    "hi()"
   ]
  },
  {
   "cell_type": "code",
   "execution_count": 24,
   "id": "eab6a393-7de3-42c6-832e-77a9d19ac6c2",
   "metadata": {},
   "outputs": [
    {
     "name": "stdout",
     "output_type": "stream",
     "text": [
      "sq(0)\n",
      "sq(1)\n",
      "sq(2)\n",
      "sq(3)\n",
      "sq(4)\n",
      "[0, 1, 4, 9, 16]\n",
      "\n",
      "fib(4)\n",
      "fib(3)\n",
      "fib(2)\n",
      "fib(1)\n",
      "fib(0)\n",
      "fib(1)\n",
      "fib(2)\n",
      "fib(1)\n",
      "fib(0)\n",
      "3\n",
      "\n",
      "fib(4)\n",
      "fib(3)\n",
      "fib(2)\n",
      "fib(1)\n",
      "fib(0)\n",
      "fib(1)\n",
      "fib(2)\n",
      "fib(1)\n",
      "fib(0)\n"
     ]
    }
   ],
   "source": [
    "@call\n",
    "def define_and_use_locally():\n",
    "    @peek_arg\n",
    "    def sq(n):\n",
    "        return n**2\n",
    "    \n",
    "    @peek_arg\n",
    "    def fib(n):\n",
    "        if n == 0:\n",
    "            return 0\n",
    "        if n == 1:\n",
    "            return 1\n",
    "        return fib(n - 1) + fib(n - 2)\n",
    "    \n",
    "    print([sq(x) for x in range(5)])\n",
    "    print()\n",
    "    print(fib(4))\n",
    "    print()\n",
    "    use_locally(fib)"
   ]
  },
  {
   "cell_type": "code",
   "execution_count": 25,
   "id": "ddd6fc72-bb54-43c6-afd8-95c0bf8b61f3",
   "metadata": {},
   "outputs": [],
   "source": [
    "from decorators import peek_return"
   ]
  },
  {
   "cell_type": "code",
   "execution_count": 26,
   "id": "285b5b60-f21d-47e1-a189-5b504c171e1f",
   "metadata": {},
   "outputs": [],
   "source": [
    "@peek_return\n",
    "@peek_arg\n",
    "def fibonacci(n):\n",
    "    \"\"\"Compute the Fibonacci number F(n).\"\"\"\n",
    "    if n == 0:\n",
    "        return 0\n",
    "    if n == 1:\n",
    "        return 1\n",
    "    return fibonacci(n - 1) + fibonacci(n - 2)"
   ]
  },
  {
   "cell_type": "code",
   "execution_count": 27,
   "id": "9362ce48-1d3a-4844-8cad-88e5d3e74a9c",
   "metadata": {},
   "outputs": [
    {
     "name": "stdout",
     "output_type": "stream",
     "text": [
      "fibonacci(5)\n",
      "fibonacci(4)\n",
      "fibonacci(3)\n",
      "fibonacci(2)\n",
      "fibonacci(1)\n",
      "wrapper(1) -> 1\n",
      "fibonacci(0)\n",
      "wrapper(0) -> 0\n",
      "wrapper(2) -> 1\n",
      "fibonacci(1)\n",
      "wrapper(1) -> 1\n",
      "wrapper(3) -> 2\n",
      "fibonacci(2)\n",
      "fibonacci(1)\n",
      "wrapper(1) -> 1\n",
      "fibonacci(0)\n",
      "wrapper(0) -> 0\n",
      "wrapper(2) -> 1\n",
      "wrapper(4) -> 3\n",
      "fibonacci(3)\n",
      "fibonacci(2)\n",
      "fibonacci(1)\n",
      "wrapper(1) -> 1\n",
      "fibonacci(0)\n",
      "wrapper(0) -> 0\n",
      "wrapper(2) -> 1\n",
      "fibonacci(1)\n",
      "wrapper(1) -> 1\n",
      "wrapper(3) -> 2\n",
      "wrapper(5) -> 5\n"
     ]
    },
    {
     "data": {
      "text/plain": [
       "5"
      ]
     },
     "execution_count": 27,
     "metadata": {},
     "output_type": "execute_result"
    }
   ],
   "source": [
    "fibonacci(5)"
   ]
  },
  {
   "cell_type": "code",
   "execution_count": 28,
   "id": "c0723b34-9ac7-474e-8b35-5c95c3b7477f",
   "metadata": {},
   "outputs": [],
   "source": [
    "@peek_arg\n",
    "@peek_return\n",
    "def fibonacci(n):\n",
    "    \"\"\"Compute the Fibonacci number F(n).\"\"\"\n",
    "    if n == 0:\n",
    "        return 0\n",
    "    if n == 1:\n",
    "        return 1\n",
    "    return fibonacci(n - 1) + fibonacci(n - 2)"
   ]
  },
  {
   "cell_type": "code",
   "execution_count": 29,
   "id": "181749f3-835e-44b1-9718-8668592452b2",
   "metadata": {},
   "outputs": [
    {
     "name": "stdout",
     "output_type": "stream",
     "text": [
      "wrapper(5)\n",
      "wrapper(4)\n",
      "wrapper(3)\n",
      "wrapper(2)\n",
      "wrapper(1)\n",
      "fibonacci(1) -> 1\n",
      "wrapper(0)\n",
      "fibonacci(0) -> 0\n",
      "fibonacci(2) -> 1\n",
      "wrapper(1)\n",
      "fibonacci(1) -> 1\n",
      "fibonacci(3) -> 2\n",
      "wrapper(2)\n",
      "wrapper(1)\n",
      "fibonacci(1) -> 1\n",
      "wrapper(0)\n",
      "fibonacci(0) -> 0\n",
      "fibonacci(2) -> 1\n",
      "fibonacci(4) -> 3\n",
      "wrapper(3)\n",
      "wrapper(2)\n",
      "wrapper(1)\n",
      "fibonacci(1) -> 1\n",
      "wrapper(0)\n",
      "fibonacci(0) -> 0\n",
      "fibonacci(2) -> 1\n",
      "wrapper(1)\n",
      "fibonacci(1) -> 1\n",
      "fibonacci(3) -> 2\n",
      "fibonacci(5) -> 5\n"
     ]
    },
    {
     "data": {
      "text/plain": [
       "5"
      ]
     },
     "execution_count": 29,
     "metadata": {},
     "output_type": "execute_result"
    }
   ],
   "source": [
    "fibonacci(5)"
   ]
  },
  {
   "cell_type": "markdown",
   "id": "edef337e-fd67-4994-8868-1527d6f83e9b",
   "metadata": {},
   "source": [
    "**TODO:** Fix the problem with `wrapper` being the `__name__` (and other attributes).\n",
    "\n",
    "**TODO:** Elucidate the connection to memoization."
   ]
  },
  {
   "cell_type": "code",
   "execution_count": 30,
   "id": "b96ec4fb-9693-4c77-8859-0a9d14df1163",
   "metadata": {},
   "outputs": [],
   "source": [
    "from decorators import thrice"
   ]
  },
  {
   "cell_type": "code",
   "execution_count": 31,
   "id": "60b38d0e-ec5a-4ba9-9e10-530969147c94",
   "metadata": {},
   "outputs": [
    {
     "name": "stdout",
     "output_type": "stream",
     "text": [
      "Hi!\n",
      "Hi!\n",
      "Hi!\n"
     ]
    }
   ],
   "source": [
    "@call\n",
    "@thrice\n",
    "def hi():\n",
    "    print('Hi!')"
   ]
  },
  {
   "cell_type": "code",
   "execution_count": 32,
   "id": "3af77c86-e24c-4aea-a98f-4444a3ab565c",
   "metadata": {},
   "outputs": [
    {
     "name": "stdout",
     "output_type": "stream",
     "text": [
      "Hi!\n"
     ]
    }
   ],
   "source": [
    "@thrice\n",
    "@call\n",
    "def hi():\n",
    "    print('Hi!')"
   ]
  },
  {
   "cell_type": "code",
   "execution_count": 33,
   "id": "b19ad3f7-67ea-4ea6-bf74-c9653e0a074f",
   "metadata": {},
   "outputs": [
    {
     "name": "stdout",
     "output_type": "stream",
     "text": [
      "Hi!\n",
      "Hi!\n",
      "Hi!\n"
     ]
    }
   ],
   "source": [
    "hi()"
   ]
  },
  {
   "cell_type": "code",
   "execution_count": 34,
   "id": "1b174c60-0777-4d90-8f0b-d31e42eb0a2d",
   "metadata": {},
   "outputs": [],
   "source": [
    "from decorators import repeat"
   ]
  },
  {
   "cell_type": "code",
   "execution_count": 35,
   "id": "06692e01-3540-4599-9241-aeefe92f91bf",
   "metadata": {},
   "outputs": [
    {
     "name": "stdout",
     "output_type": "stream",
     "text": [
      "I am the law!\n",
      "I am the law!\n",
      "I am the law!\n",
      "I am the law!\n",
      "I am the law!\n",
      "I am the law!\n",
      "I am the law!\n",
      "I am the law!\n",
      "I am the law!\n"
     ]
    }
   ],
   "source": [
    "@call\n",
    "@repeat(9)\n",
    "def scotus():\n",
    "    print('I am the law!')"
   ]
  }
 ],
 "metadata": {
  "kernelspec": {
   "display_name": "Python 3 (ipykernel)",
   "language": "python",
   "name": "python3"
  },
  "language_info": {
   "codemirror_mode": {
    "name": "ipython",
    "version": 3
   },
   "file_extension": ".py",
   "mimetype": "text/x-python",
   "name": "python",
   "nbconvert_exporter": "python",
   "pygments_lexer": "ipython3",
   "version": "3.10.2"
  }
 },
 "nbformat": 4,
 "nbformat_minor": 5
}
