{
 "cells": [
  {
   "cell_type": "code",
   "execution_count": null,
   "id": "573245e5-cabc-4b89-82b5-bbf85cc4b3fb",
   "metadata": {},
   "outputs": [],
   "source": [
    "def square(n):\n",
    "    return n**2"
   ]
  },
  {
   "cell_type": "code",
   "execution_count": null,
   "id": "4d0d75a3-5a7f-4d90-a1cc-87ac646ade03",
   "metadata": {},
   "outputs": [],
   "source": [
    "def wrapper(n):\n",
    "    print(f'{square.__name__}({n})')\n",
    "    return square(n)"
   ]
  },
  {
   "cell_type": "code",
   "execution_count": null,
   "id": "a30da17d-618f-4fbe-bef1-6f44ccb05870",
   "metadata": {},
   "outputs": [
    {
     "name": "stdout",
     "output_type": "stream",
     "text": [
      "square(3)\n"
     ]
    },
    {
     "data": {
      "text/plain": [
       "9"
      ]
     },
     "execution_count": 3,
     "metadata": {},
     "output_type": "execute_result"
    }
   ],
   "source": [
    "wrapper(3)"
   ]
  },
  {
   "cell_type": "code",
   "execution_count": null,
   "id": "da6daae2-1304-4c0d-9386-e778c091805b",
   "metadata": {},
   "outputs": [],
   "source": [
    "from decorators import peek_arg"
   ]
  },
  {
   "cell_type": "code",
   "execution_count": null,
   "id": "1535af05-4d46-4f16-85b2-2c51e700a754",
   "metadata": {},
   "outputs": [],
   "source": [
    "psquare = peek_arg(square)"
   ]
  },
  {
   "cell_type": "code",
   "execution_count": null,
   "id": "163a0cfb-6d28-4531-8298-3a492f093577",
   "metadata": {},
   "outputs": [
    {
     "name": "stdout",
     "output_type": "stream",
     "text": [
      "square(0)\n",
      "square(1)\n",
      "square(2)\n",
      "square(3)\n",
      "square(4)\n"
     ]
    },
    {
     "data": {
      "text/plain": [
       "[0, 1, 4, 9, 16]"
      ]
     },
     "execution_count": 6,
     "metadata": {},
     "output_type": "execute_result"
    }
   ],
   "source": [
    "# List comprehension of the squares of 0 through 4 (inclusive).\n",
    "# Use psquare in the list comprehension. This will have the side effect\n",
    "# of printing information about the five calls to square.\n",
    "[psquare(x) for x in range(5)]\n"
   ]
  },
  {
   "cell_type": "code",
   "execution_count": null,
   "id": "076071da-55c8-4f0b-8446-aa3f36ea14ec",
   "metadata": {},
   "outputs": [],
   "source": [
    "def fibonacci(n):\n",
    "    \"\"\"Compute the Fibonacci number F(n).\"\"\"\n",
    "    if n == 0:\n",
    "        return 0\n",
    "    if n == 1:\n",
    "        return 1\n",
    "    return fibonacci(n - 1) + fibonacci(n - 2)"
   ]
  },
  {
   "cell_type": "code",
   "execution_count": null,
   "id": "2287ec2d-eb16-4035-b0d7-4cc231618abe",
   "metadata": {},
   "outputs": [],
   "source": [
    "pfibonacci = peek_arg(fibonacci)"
   ]
  },
  {
   "cell_type": "code",
   "execution_count": null,
   "id": "50e691e8-bad1-4d7f-ac94-c574e18d0c8c",
   "metadata": {},
   "outputs": [
    {
     "name": "stdout",
     "output_type": "stream",
     "text": [
      "fibonacci(4)\n"
     ]
    },
    {
     "data": {
      "text/plain": [
       "3"
      ]
     },
     "execution_count": 9,
     "metadata": {},
     "output_type": "execute_result"
    }
   ],
   "source": [
    "pfibonacci(4)"
   ]
  },
  {
   "cell_type": "code",
   "execution_count": null,
   "id": "c24373ce-f9ca-4cf5-a1a4-128c6e1ba833",
   "metadata": {},
   "outputs": [],
   "source": [
    "square = peek_arg(square)"
   ]
  },
  {
   "cell_type": "code",
   "execution_count": null,
   "id": "17606508-57d2-496d-83e1-191278107dbb",
   "metadata": {},
   "outputs": [
    {
     "name": "stdout",
     "output_type": "stream",
     "text": [
      "square(0)\n",
      "square(1)\n",
      "square(2)\n",
      "square(3)\n",
      "square(4)\n"
     ]
    },
    {
     "data": {
      "text/plain": [
       "[0, 1, 4, 9, 16]"
      ]
     },
     "execution_count": 11,
     "metadata": {},
     "output_type": "execute_result"
    }
   ],
   "source": [
    "[square(x) for x in range(5)]"
   ]
  },
  {
   "cell_type": "code",
   "execution_count": null,
   "id": "76556f03-3590-42fa-a8a9-79234380eba5",
   "metadata": {},
   "outputs": [],
   "source": [
    "fibonacci = peek_arg(fibonacci)"
   ]
  },
  {
   "cell_type": "code",
   "execution_count": null,
   "id": "e5df679c-54b2-461d-91ff-12d91777920d",
   "metadata": {},
   "outputs": [
    {
     "name": "stdout",
     "output_type": "stream",
     "text": [
      "fibonacci(4)\n",
      "fibonacci(3)\n",
      "fibonacci(2)\n",
      "fibonacci(1)\n",
      "fibonacci(0)\n",
      "fibonacci(1)\n",
      "fibonacci(2)\n",
      "fibonacci(1)\n",
      "fibonacci(0)\n"
     ]
    },
    {
     "data": {
      "text/plain": [
       "3"
      ]
     },
     "execution_count": 13,
     "metadata": {},
     "output_type": "execute_result"
    }
   ],
   "source": [
    "fibonacci(4)"
   ]
  },
  {
   "cell_type": "code",
   "execution_count": null,
   "id": "9e10aeef-ebb0-45bd-80e4-55668f6eeac9",
   "metadata": {},
   "outputs": [],
   "source": [
    "# Just for clarity. None of the del statements in this notebook are necessary.\n",
    "del square\n",
    "del fibonacci"
   ]
  },
  {
   "cell_type": "code",
   "execution_count": null,
   "id": "85af40b7-7051-44fa-8781-c3ac336cbef5",
   "metadata": {},
   "outputs": [],
   "source": [
    "@peek_arg\n",
    "def square(n):\n",
    "    return n**2"
   ]
  },
  {
   "cell_type": "code",
   "execution_count": null,
   "id": "c2fc13a7-3010-4ba0-a51c-6a4f05b0e3c9",
   "metadata": {},
   "outputs": [
    {
     "name": "stdout",
     "output_type": "stream",
     "text": [
      "square(7)\n"
     ]
    },
    {
     "data": {
      "text/plain": [
       "49"
      ]
     },
     "execution_count": 16,
     "metadata": {},
     "output_type": "execute_result"
    }
   ],
   "source": [
    "square(7)"
   ]
  },
  {
   "cell_type": "code",
   "execution_count": null,
   "id": "345f88a2-cb16-43b7-9dc9-07b39e0f6294",
   "metadata": {},
   "outputs": [],
   "source": [
    "@peek_arg\n",
    "def fibonacci(n):\n",
    "    \"\"\"Compute the Fibonacci number F(n).\"\"\"\n",
    "    if n == 0:\n",
    "        return 0\n",
    "    if n == 1:\n",
    "        return 1\n",
    "    return fibonacci(n - 1) + fibonacci(n - 2)"
   ]
  },
  {
   "cell_type": "code",
   "execution_count": null,
   "id": "2491642f-7896-4233-b9e0-15b1af9a2200",
   "metadata": {},
   "outputs": [
    {
     "name": "stdout",
     "output_type": "stream",
     "text": [
      "fibonacci(4)\n",
      "fibonacci(3)\n",
      "fibonacci(2)\n",
      "fibonacci(1)\n",
      "fibonacci(0)\n",
      "fibonacci(1)\n",
      "fibonacci(2)\n",
      "fibonacci(1)\n",
      "fibonacci(0)\n"
     ]
    },
    {
     "data": {
      "text/plain": [
       "3"
      ]
     },
     "execution_count": 18,
     "metadata": {},
     "output_type": "execute_result"
    }
   ],
   "source": [
    "fibonacci(4)"
   ]
  },
  {
   "cell_type": "code",
   "execution_count": null,
   "id": "6d5b89ce-5ec1-4c36-bb95-a6b6df7a032b",
   "metadata": {},
   "outputs": [
    {
     "name": "stdout",
     "output_type": "stream",
     "text": [
      "fibonacci(4)\n",
      "fibonacci(3)\n",
      "fibonacci(2)\n",
      "fibonacci(1)\n",
      "fibonacci(0)\n",
      "fibonacci(1)\n",
      "fibonacci(2)\n",
      "fibonacci(1)\n",
      "fibonacci(0)\n"
     ]
    }
   ],
   "source": [
    "def use_locally(f):\n",
    "    fibonacci = 'famous Italian mathematician'\n",
    "    f(4)\n",
    "\n",
    "use_locally(fibonacci)"
   ]
  },
  {
   "cell_type": "code",
   "execution_count": null,
   "id": "f89cee55-4628-4e0b-860a-7adf4e97ab7a",
   "metadata": {},
   "outputs": [
    {
     "name": "stdout",
     "output_type": "stream",
     "text": [
      "sq(0)\n",
      "sq(1)\n",
      "sq(2)\n",
      "sq(3)\n",
      "sq(4)\n",
      "[0, 1, 4, 9, 16]\n",
      "\n",
      "fib(4)\n",
      "fib(3)\n",
      "fib(2)\n",
      "fib(1)\n",
      "fib(0)\n",
      "fib(1)\n",
      "fib(2)\n",
      "fib(1)\n",
      "fib(0)\n",
      "3\n",
      "\n",
      "fib(4)\n",
      "fib(3)\n",
      "fib(2)\n",
      "fib(1)\n",
      "fib(0)\n",
      "fib(1)\n",
      "fib(2)\n",
      "fib(1)\n",
      "fib(0)\n"
     ]
    }
   ],
   "source": [
    "def define_and_use_locally():\n",
    "    @peek_arg\n",
    "    def sq(n):\n",
    "        return n**2\n",
    "    \n",
    "    @peek_arg\n",
    "    def fib(n):\n",
    "        if n == 0:\n",
    "            return 0\n",
    "        if n == 1:\n",
    "            return 1\n",
    "        return fib(n - 1) + fib(n - 2)\n",
    "    \n",
    "    print([sq(x) for x in range(5)])\n",
    "    print()\n",
    "    print(fib(4))\n",
    "    print()\n",
    "    use_locally(fib)\n",
    "\n",
    "define_and_use_locally()"
   ]
  },
  {
   "cell_type": "code",
   "execution_count": null,
   "id": "f07dcb6d-db5a-42d1-92ba-6675a7f8c176",
   "metadata": {},
   "outputs": [],
   "source": [
    "from decorators import call"
   ]
  },
  {
   "cell_type": "code",
   "execution_count": null,
   "id": "26edcb70-dacb-412f-8bff-488a3b62dd4d",
   "metadata": {},
   "outputs": [
    {
     "name": "stdout",
     "output_type": "stream",
     "text": [
      "Hi, world!\n"
     ]
    }
   ],
   "source": [
    "@call\n",
    "def hi():\n",
    "    print('Hi, world!')"
   ]
  },
  {
   "cell_type": "code",
   "execution_count": null,
   "id": "0e025e63-49bb-4b20-9363-ed48152e9896",
   "metadata": {},
   "outputs": [
    {
     "name": "stdout",
     "output_type": "stream",
     "text": [
      "Hi, world!\n"
     ]
    }
   ],
   "source": [
    "hi()"
   ]
  },
  {
   "cell_type": "code",
   "execution_count": null,
   "id": "eab6a393-7de3-42c6-832e-77a9d19ac6c2",
   "metadata": {},
   "outputs": [
    {
     "name": "stdout",
     "output_type": "stream",
     "text": [
      "sq(0)\n",
      "sq(1)\n",
      "sq(2)\n",
      "sq(3)\n",
      "sq(4)\n",
      "[0, 1, 4, 9, 16]\n",
      "\n",
      "fib(4)\n",
      "fib(3)\n",
      "fib(2)\n",
      "fib(1)\n",
      "fib(0)\n",
      "fib(1)\n",
      "fib(2)\n",
      "fib(1)\n",
      "fib(0)\n",
      "3\n",
      "\n",
      "fib(4)\n",
      "fib(3)\n",
      "fib(2)\n",
      "fib(1)\n",
      "fib(0)\n",
      "fib(1)\n",
      "fib(2)\n",
      "fib(1)\n",
      "fib(0)\n"
     ]
    }
   ],
   "source": [
    "@call\n",
    "def define_and_use_locally():\n",
    "    @peek_arg\n",
    "    def sq(n):\n",
    "        return n**2\n",
    "    \n",
    "    @peek_arg\n",
    "    def fib(n):\n",
    "        if n == 0:\n",
    "            return 0\n",
    "        if n == 1:\n",
    "            return 1\n",
    "        return fib(n - 1) + fib(n - 2)\n",
    "    \n",
    "    print([sq(x) for x in range(5)])\n",
    "    print()\n",
    "    print(fib(4))\n",
    "    print()\n",
    "    use_locally(fib)"
   ]
  },
  {
   "cell_type": "code",
   "execution_count": null,
   "id": "ddd6fc72-bb54-43c6-afd8-95c0bf8b61f3",
   "metadata": {},
   "outputs": [],
   "source": [
    "from decorators import peek_return"
   ]
  },
  {
   "cell_type": "code",
   "execution_count": null,
   "id": "285b5b60-f21d-47e1-a189-5b504c171e1f",
   "metadata": {},
   "outputs": [],
   "source": [
    "@peek_return\n",
    "@peek_arg\n",
    "def fibonacci(n):\n",
    "    \"\"\"Compute the Fibonacci number F(n).\"\"\"\n",
    "    if n == 0:\n",
    "        return 0\n",
    "    if n == 1:\n",
    "        return 1\n",
    "    return fibonacci(n - 1) + fibonacci(n - 2)"
   ]
  },
  {
   "cell_type": "code",
   "execution_count": null,
   "id": "9362ce48-1d3a-4844-8cad-88e5d3e74a9c",
   "metadata": {},
   "outputs": [
    {
     "name": "stdout",
     "output_type": "stream",
     "text": [
      "fibonacci(5)\n",
      "fibonacci(4)\n",
      "fibonacci(3)\n",
      "fibonacci(2)\n",
      "fibonacci(1)\n",
      "fibonacci(1) -> 1\n",
      "fibonacci(0)\n",
      "fibonacci(0) -> 0\n",
      "fibonacci(2) -> 1\n",
      "fibonacci(1)\n",
      "fibonacci(1) -> 1\n",
      "fibonacci(3) -> 2\n",
      "fibonacci(2)\n",
      "fibonacci(1)\n",
      "fibonacci(1) -> 1\n",
      "fibonacci(0)\n",
      "fibonacci(0) -> 0\n",
      "fibonacci(2) -> 1\n",
      "fibonacci(4) -> 3\n",
      "fibonacci(3)\n",
      "fibonacci(2)\n",
      "fibonacci(1)\n",
      "fibonacci(1) -> 1\n",
      "fibonacci(0)\n",
      "fibonacci(0) -> 0\n",
      "fibonacci(2) -> 1\n",
      "fibonacci(1)\n",
      "fibonacci(1) -> 1\n",
      "fibonacci(3) -> 2\n",
      "fibonacci(5) -> 5\n"
     ]
    },
    {
     "data": {
      "text/plain": [
       "5"
      ]
     },
     "execution_count": 27,
     "metadata": {},
     "output_type": "execute_result"
    }
   ],
   "source": [
    "fibonacci(5)"
   ]
  },
  {
   "cell_type": "code",
   "execution_count": null,
   "id": "c0723b34-9ac7-474e-8b35-5c95c3b7477f",
   "metadata": {},
   "outputs": [],
   "source": [
    "@peek_arg\n",
    "@peek_return\n",
    "def fibonacci(n):\n",
    "    \"\"\"Compute the Fibonacci number F(n).\"\"\"\n",
    "    if n == 0:\n",
    "        return 0\n",
    "    if n == 1:\n",
    "        return 1\n",
    "    return fibonacci(n - 1) + fibonacci(n - 2)"
   ]
  },
  {
   "cell_type": "code",
   "execution_count": null,
   "id": "181749f3-835e-44b1-9718-8668592452b2",
   "metadata": {},
   "outputs": [
    {
     "name": "stdout",
     "output_type": "stream",
     "text": [
      "fibonacci(5)\n",
      "fibonacci(4)\n",
      "fibonacci(3)\n",
      "fibonacci(2)\n",
      "fibonacci(1)\n",
      "fibonacci(1) -> 1\n",
      "fibonacci(0)\n",
      "fibonacci(0) -> 0\n",
      "fibonacci(2) -> 1\n",
      "fibonacci(1)\n",
      "fibonacci(1) -> 1\n",
      "fibonacci(3) -> 2\n",
      "fibonacci(2)\n",
      "fibonacci(1)\n",
      "fibonacci(1) -> 1\n",
      "fibonacci(0)\n",
      "fibonacci(0) -> 0\n",
      "fibonacci(2) -> 1\n",
      "fibonacci(4) -> 3\n",
      "fibonacci(3)\n",
      "fibonacci(2)\n",
      "fibonacci(1)\n",
      "fibonacci(1) -> 1\n",
      "fibonacci(0)\n",
      "fibonacci(0) -> 0\n",
      "fibonacci(2) -> 1\n",
      "fibonacci(1)\n",
      "fibonacci(1) -> 1\n",
      "fibonacci(3) -> 2\n",
      "fibonacci(5) -> 5\n"
     ]
    },
    {
     "data": {
      "text/plain": [
       "5"
      ]
     },
     "execution_count": 29,
     "metadata": {},
     "output_type": "execute_result"
    }
   ],
   "source": [
    "fibonacci(5)"
   ]
  },
  {
   "cell_type": "markdown",
   "id": "edef337e-fd67-4994-8868-1527d6f83e9b",
   "metadata": {},
   "source": [
    "**TODO:** Fix the problem with `wrapper` being the `__name__` (and other attributes).\n",
    "\n",
    "**TODO:** Elucidate the connection to memoization."
   ]
  },
  {
   "cell_type": "code",
   "execution_count": null,
   "id": "b96ec4fb-9693-4c77-8859-0a9d14df1163",
   "metadata": {},
   "outputs": [],
   "source": [
    "from decorators import thrice"
   ]
  },
  {
   "cell_type": "code",
   "execution_count": null,
   "id": "60b38d0e-ec5a-4ba9-9e10-530969147c94",
   "metadata": {},
   "outputs": [
    {
     "name": "stdout",
     "output_type": "stream",
     "text": [
      "Hi!\n",
      "Hi!\n",
      "Hi!\n"
     ]
    }
   ],
   "source": [
    "@call\n",
    "@thrice\n",
    "def hi():\n",
    "    print('Hi!')"
   ]
  },
  {
   "cell_type": "code",
   "execution_count": null,
   "id": "3af77c86-e24c-4aea-a98f-4444a3ab565c",
   "metadata": {},
   "outputs": [
    {
     "name": "stdout",
     "output_type": "stream",
     "text": [
      "Hi!\n"
     ]
    }
   ],
   "source": [
    "@thrice\n",
    "@call\n",
    "def hi():\n",
    "    print('Hi!')"
   ]
  },
  {
   "cell_type": "code",
   "execution_count": null,
   "id": "b19ad3f7-67ea-4ea6-bf74-c9653e0a074f",
   "metadata": {},
   "outputs": [
    {
     "name": "stdout",
     "output_type": "stream",
     "text": [
      "Hi!\n",
      "Hi!\n",
      "Hi!\n"
     ]
    }
   ],
   "source": [
    "hi()"
   ]
  },
  {
   "cell_type": "code",
   "execution_count": null,
   "id": "1b174c60-0777-4d90-8f0b-d31e42eb0a2d",
   "metadata": {},
   "outputs": [],
   "source": [
    "from decorators import repeat"
   ]
  },
  {
   "cell_type": "code",
   "execution_count": null,
   "id": "06692e01-3540-4599-9241-aeefe92f91bf",
   "metadata": {},
   "outputs": [
    {
     "name": "stdout",
     "output_type": "stream",
     "text": [
      "I am the law!\n",
      "I am the law!\n",
      "I am the law!\n",
      "I am the law!\n",
      "I am the law!\n",
      "I am the law!\n",
      "I am the law!\n",
      "I am the law!\n",
      "I am the law!\n"
     ]
    }
   ],
   "source": [
    "@call\n",
    "@repeat(9)\n",
    "def scotus():\n",
    "    print('I am the law!')"
   ]
  },
  {
   "cell_type": "code",
   "execution_count": null,
   "id": "ff511048-ba3c-4236-a0fe-f973cad5f906",
   "metadata": {},
   "outputs": [],
   "source": [
    "def f():\n",
    "    \"\"\"A function that does nothing interesting.\"\"\"\n",
    "    pass"
   ]
  },
  {
   "cell_type": "code",
   "execution_count": null,
   "id": "61dc720f-57ba-4429-9d82-d63bbf48f551",
   "metadata": {},
   "outputs": [
    {
     "name": "stdout",
     "output_type": "stream",
     "text": [
      "Help on function f in module __main__:\n",
      "\n",
      "f()\n",
      "    A function that does nothing interesting.\n",
      "\n"
     ]
    }
   ],
   "source": [
    "help(f)"
   ]
  },
  {
   "cell_type": "code",
   "execution_count": null,
   "id": "7d124977-c2e4-45e5-8bcd-7080cadd8aa1",
   "metadata": {},
   "outputs": [
    {
     "data": {
      "text/plain": [
       "'A function that does nothing interesting.'"
      ]
     },
     "execution_count": 38,
     "metadata": {},
     "output_type": "execute_result"
    }
   ],
   "source": [
    "f.__doc__"
   ]
  },
  {
   "cell_type": "code",
   "execution_count": null,
   "id": "7d7e5c22-a64f-4f8d-a48a-f24de77dc350",
   "metadata": {},
   "outputs": [],
   "source": [
    "@peek_return\n",
    "def g():\n",
    "    \"\"\"Another function that does nothing interesting.\"\"\"\n",
    "    pass"
   ]
  },
  {
   "cell_type": "code",
   "execution_count": null,
   "id": "9b9e05d6-26c6-4c66-82df-c1ec02c43e32",
   "metadata": {},
   "outputs": [
    {
     "name": "stdout",
     "output_type": "stream",
     "text": [
      "Help on function g in module __main__:\n",
      "\n",
      "g(arg)\n",
      "    Another function that does nothing interesting.\n",
      "\n"
     ]
    }
   ],
   "source": [
    "help(g)"
   ]
  },
  {
   "cell_type": "code",
   "execution_count": null,
   "id": "c32c5511-4edd-4c6d-b596-6cbc84b363ba",
   "metadata": {},
   "outputs": [
    {
     "data": {
      "text/plain": [
       "'Another function that does nothing interesting.'"
      ]
     },
     "execution_count": 41,
     "metadata": {},
     "output_type": "execute_result"
    }
   ],
   "source": [
    "g.__doc__"
   ]
  },
  {
   "cell_type": "code",
   "execution_count": null,
   "id": "b455f12c-98ea-445a-a94b-9a589d76f605",
   "metadata": {},
   "outputs": [
    {
     "data": {
      "text/plain": [
       "['__annotations__',\n",
       " '__builtins__',\n",
       " '__call__',\n",
       " '__class__',\n",
       " '__closure__',\n",
       " '__code__',\n",
       " '__defaults__',\n",
       " '__delattr__',\n",
       " '__dict__',\n",
       " '__dir__',\n",
       " '__doc__',\n",
       " '__eq__',\n",
       " '__format__',\n",
       " '__ge__',\n",
       " '__get__',\n",
       " '__getattribute__',\n",
       " '__globals__',\n",
       " '__gt__',\n",
       " '__hash__',\n",
       " '__init__',\n",
       " '__init_subclass__',\n",
       " '__kwdefaults__',\n",
       " '__le__',\n",
       " '__lt__',\n",
       " '__module__',\n",
       " '__name__',\n",
       " '__ne__',\n",
       " '__new__',\n",
       " '__qualname__',\n",
       " '__reduce__',\n",
       " '__reduce_ex__',\n",
       " '__repr__',\n",
       " '__setattr__',\n",
       " '__sizeof__',\n",
       " '__str__',\n",
       " '__subclasshook__']"
      ]
     },
     "execution_count": 42,
     "metadata": {},
     "output_type": "execute_result"
    }
   ],
   "source": [
    "dir(f)"
   ]
  },
  {
   "cell_type": "markdown",
   "id": "4a6f66a7-1733-403f-a6e8-b23bbecb5438",
   "metadata": {},
   "source": [
    "We don't want to assign all attributes from the wrapped function the wrapper function. Let&rsquo;s assign just these attributes:\n",
    "\n",
    "- `__module__`\n",
    "- `__name__`\n",
    "- `__qualname__`\n",
    "- `__doc__`\n",
    "- `__annotations__`"
   ]
  },
  {
   "cell_type": "code",
   "execution_count": null,
   "id": "9f323e16-2ece-4a3d-bd9e-ef4e6d693438",
   "metadata": {},
   "outputs": [
    {
     "name": "stdout",
     "output_type": "stream",
     "text": [
      "Help on function fibonacci in module __main__:\n",
      "\n",
      "fibonacci(arg)\n",
      "    Compute the Fibonacci number F(n).\n",
      "\n"
     ]
    }
   ],
   "source": [
    "help(fibonacci)"
   ]
  },
  {
   "cell_type": "code",
   "execution_count": null,
   "id": "7d1d4f15-57b1-46f7-b520-e4351bfd4b85",
   "metadata": {},
   "outputs": [
    {
     "name": "stdout",
     "output_type": "stream",
     "text": [
      "Hello, World!\n"
     ]
    }
   ],
   "source": [
    "import dechello"
   ]
  },
  {
   "cell_type": "code",
   "execution_count": null,
   "id": "f5b673ec-214c-494a-839d-a994e8731d94",
   "metadata": {},
   "outputs": [
    {
     "name": "stdout",
     "output_type": "stream",
     "text": [
      "greet('Bob')\n",
      "Hello, Bob! Do you like decorators?\n"
     ]
    }
   ],
   "source": [
    "dechello.greet('Bob')"
   ]
  },
  {
   "cell_type": "code",
   "execution_count": null,
   "id": "454e0713-4fb8-4fc7-b7e5-3f7a19a5d8ce",
   "metadata": {},
   "outputs": [
    {
     "name": "stdout",
     "output_type": "stream",
     "text": [
      "Help on function greet in module dechello:\n",
      "\n",
      "greet(name)\n",
      "    Greet a user, printing information about the call.\n",
      "    \n",
      "    >>> greet('Bob')\n",
      "    greet('Bob')\n",
      "    Hello, Bob! Do you like decorators?\n",
      "\n"
     ]
    }
   ],
   "source": [
    "help(dechello.greet)"
   ]
  },
  {
   "cell_type": "code",
   "execution_count": null,
   "id": "3ff54062-f99f-4223-a834-72dc6bd35fdf",
   "metadata": {},
   "outputs": [],
   "source": [
    "@thrice\n",
    "def say_hi():\n",
    "    \"\"\"Say hi three times.\"\"\"\n",
    "    print('Hi.')"
   ]
  },
  {
   "cell_type": "code",
   "execution_count": null,
   "id": "54832241-4d30-4fe4-8c64-7767b6449d71",
   "metadata": {},
   "outputs": [
    {
     "name": "stdout",
     "output_type": "stream",
     "text": [
      "Hi.\n",
      "Hi.\n",
      "Hi.\n"
     ]
    }
   ],
   "source": [
    "say_hi()"
   ]
  },
  {
   "cell_type": "code",
   "execution_count": null,
   "id": "a0e47d55-bb33-4469-9ff3-57bb66f1d25a",
   "metadata": {},
   "outputs": [
    {
     "name": "stdout",
     "output_type": "stream",
     "text": [
      "Help on function say_hi in module __main__:\n",
      "\n",
      "say_hi()\n",
      "    Say hi three times.\n",
      "\n"
     ]
    }
   ],
   "source": [
    "help(say_hi)"
   ]
  },
  {
   "cell_type": "code",
   "execution_count": null,
   "id": "ccb81d86-0cc9-4de2-a5a0-a453f7cc4f39",
   "metadata": {},
   "outputs": [],
   "source": [
    "f = lambda x: x**2"
   ]
  },
  {
   "cell_type": "code",
   "execution_count": null,
   "id": "fa792ad5-ea6e-45d4-bc56-c3fa93f9e1f0",
   "metadata": {},
   "outputs": [
    {
     "name": "stdout",
     "output_type": "stream",
     "text": [
      "Help on function <lambda> in module __main__:\n",
      "\n",
      "<lambda> lambda x\n",
      "\n"
     ]
    }
   ],
   "source": [
    "help(f)"
   ]
  },
  {
   "cell_type": "code",
   "execution_count": null,
   "id": "5a7eec06-a24c-4de1-981a-02d96d3b1e61",
   "metadata": {},
   "outputs": [
    {
     "data": {
      "text/plain": [
       "'<lambda>'"
      ]
     },
     "execution_count": 52,
     "metadata": {},
     "output_type": "execute_result"
    }
   ],
   "source": [
    "f.__name__"
   ]
  },
  {
   "cell_type": "code",
   "execution_count": null,
   "id": "81d5e98e-6d49-452b-acfa-21a73a085c8a",
   "metadata": {},
   "outputs": [],
   "source": [
    "f.__doc__"
   ]
  },
  {
   "cell_type": "code",
   "execution_count": null,
   "id": "fa7f5641-6a34-4ab7-8d0a-9b1fe2e44237",
   "metadata": {},
   "outputs": [
    {
     "data": {
      "text/plain": [
       "'<lambda>'"
      ]
     },
     "execution_count": 54,
     "metadata": {},
     "output_type": "execute_result"
    }
   ],
   "source": [
    "f.__qualname__"
   ]
  },
  {
   "cell_type": "code",
   "execution_count": 55,
   "id": "35b6f88e-31c7-472c-bfae-c0c0a1cef67f",
   "metadata": {},
   "outputs": [],
   "source": [
    "def prepend(prefix, text):\n",
    "    return prefix + text\n",
    "\n",
    "def append(text, suffix):\n",
    "    return text + suffix"
   ]
  },
  {
   "cell_type": "code",
   "execution_count": 56,
   "id": "6debbaa4-b7a7-4b01-86d8-838bc66ce5e5",
   "metadata": {},
   "outputs": [
    {
     "data": {
      "text/plain": [
       "'foobarbaz'"
      ]
     },
     "execution_count": 56,
     "metadata": {},
     "output_type": "execute_result"
    }
   ],
   "source": [
    "prepend('foo', append('bar', 'baz'))"
   ]
  },
  {
   "cell_type": "code",
   "execution_count": 57,
   "id": "c0df7f5c-5cf8-4e82-b309-0e857cf659c8",
   "metadata": {},
   "outputs": [
    {
     "data": {
      "text/plain": [
       "'foobarbaz'"
      ]
     },
     "execution_count": 57,
     "metadata": {},
     "output_type": "execute_result"
    }
   ],
   "source": [
    "append(prepend('foo', 'bar'), 'baz')"
   ]
  },
  {
   "cell_type": "markdown",
   "id": "3d36dcc5-a1d7-4924-9840-83cca08abeb9",
   "metadata": {},
   "source": [
    "For `@peek_arg`, a decorated function such as `fibonacci`, and `@peek_return`, a closer (actually, almost exact) analogy is:\n",
    "\n",
    "- Do the first thing. Then, do the second thing, and then the third thing.\n",
    "\n",
    "- Do the fhrst thing, and then the second thing. Then, do the third thing."
   ]
  },
  {
   "cell_type": "code",
   "execution_count": null,
   "id": "78d1a4e1-e4ec-4fe1-a9ba-0688f8021a17",
   "metadata": {},
   "outputs": [],
   "source": []
  }
 ],
 "metadata": {
  "kernelspec": {
   "display_name": "Python 3 (ipykernel)",
   "language": "python",
   "name": "python3"
  },
  "language_info": {
   "codemirror_mode": {
    "name": "ipython",
    "version": 3
   },
   "file_extension": ".py",
   "mimetype": "text/x-python",
   "name": "python",
   "nbconvert_exporter": "python",
   "pygments_lexer": "ipython3",
   "version": "3.10.2"
  }
 },
 "nbformat": 4,
 "nbformat_minor": 5
}
