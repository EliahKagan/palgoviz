{
 "cells": [
  {
   "cell_type": "code",
   "execution_count": 1,
   "id": "573245e5-cabc-4b89-82b5-bbf85cc4b3fb",
   "metadata": {},
   "outputs": [],
   "source": [
    "def square(n):\n",
    "    return n**2"
   ]
  },
  {
   "cell_type": "code",
   "execution_count": 5,
   "id": "4d0d75a3-5a7f-4d90-a1cc-87ac646ade03",
   "metadata": {},
   "outputs": [],
   "source": [
    "def wrapper(n):\n",
    "    print(f'square({n})')\n",
    "    return square(n)"
   ]
  },
  {
   "cell_type": "code",
   "execution_count": 6,
   "id": "a30da17d-618f-4fbe-bef1-6f44ccb05870",
   "metadata": {},
   "outputs": [
    {
     "name": "stdout",
     "output_type": "stream",
     "text": [
      "square(3)\n"
     ]
    },
    {
     "data": {
      "text/plain": [
       "9"
      ]
     },
     "execution_count": 6,
     "metadata": {},
     "output_type": "execute_result"
    }
   ],
   "source": [
    "wrapper(3)"
   ]
  },
  {
   "cell_type": "code",
   "execution_count": 7,
   "id": "9b56b71b-9241-48a7-bf06-30d3b68ced24",
   "metadata": {},
   "outputs": [],
   "source": [
    "import bisect"
   ]
  },
  {
   "cell_type": "code",
   "execution_count": 8,
   "id": "d334ac5f-0a1e-4457-a20f-2ef692a7ef65",
   "metadata": {},
   "outputs": [
    {
     "data": {
      "text/plain": [
       "<function _bisect.bisect_right(a, x, lo=0, hi=None, *, key=None)>"
      ]
     },
     "execution_count": 8,
     "metadata": {},
     "output_type": "execute_result"
    }
   ],
   "source": [
    "bisect.bisect_right"
   ]
  },
  {
   "cell_type": "code",
   "execution_count": 9,
   "id": "c3ddf823-cc84-415f-895b-62b0a1782a2a",
   "metadata": {},
   "outputs": [
    {
     "data": {
      "text/plain": [
       "<function _bisect.bisect_right(a, x, lo=0, hi=None, *, key=None)>"
      ]
     },
     "execution_count": 9,
     "metadata": {},
     "output_type": "execute_result"
    }
   ],
   "source": [
    "bisect.bisect"
   ]
  },
  {
   "cell_type": "code",
   "execution_count": 10,
   "id": "4398957a-8a43-46c6-a2f3-d329d3394d3b",
   "metadata": {},
   "outputs": [
    {
     "data": {
      "text/plain": [
       "True"
      ]
     },
     "execution_count": 10,
     "metadata": {},
     "output_type": "execute_result"
    }
   ],
   "source": [
    "bisect.bisect is bisect.bisect_right"
   ]
  },
  {
   "cell_type": "code",
   "execution_count": 13,
   "id": "bf56e4c6-6de3-48c9-b978-3d80676a1cc9",
   "metadata": {},
   "outputs": [
    {
     "data": {
      "text/plain": [
       "'bisect_right'"
      ]
     },
     "execution_count": 13,
     "metadata": {},
     "output_type": "execute_result"
    }
   ],
   "source": [
    "bisect.bisect.__name__"
   ]
  },
  {
   "cell_type": "code",
   "execution_count": null,
   "id": "da6daae2-1304-4c0d-9386-e778c091805b",
   "metadata": {},
   "outputs": [],
   "source": []
  }
 ],
 "metadata": {
  "kernelspec": {
   "display_name": "Python 3 (ipykernel)",
   "language": "python",
   "name": "python3"
  },
  "language_info": {
   "codemirror_mode": {
    "name": "ipython",
    "version": 3
   },
   "file_extension": ".py",
   "mimetype": "text/x-python",
   "name": "python",
   "nbconvert_exporter": "python",
   "pygments_lexer": "ipython3",
   "version": "3.10.2"
  }
 },
 "nbformat": 4,
 "nbformat_minor": 5
}
