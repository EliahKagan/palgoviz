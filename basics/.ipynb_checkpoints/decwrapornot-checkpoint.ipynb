{
 "cells": [
  {
   "cell_type": "markdown",
   "metadata": {},
   "source": [
    "# Decorators: When to wrap?\n",
    "\n",
    "*Note: This writeup focuses on decorators that are applied to functions (rather than classes) and that return functions (rather than other kinds of callable or non-callable objects).*\n",
    "\n",
    "There are two common behaviors for decorators. Here I am talking about nonparameterized decorators&mdash;which, confusingly, have a single parameter, the function being passed into the decorator. Here I will call that parameter `func`, though it will occasionally be better to name it something else.\n",
    "\n",
    "Of course, this also applies to the nonparameterized decorators that are *returned* by parameterized decorators. (Arguably, parameterized decorators should not even be considered decorators, but rather as decorator factories.)\n",
    "\n",
    "## Behavior 1: Wrapping\n",
    "\n",
    "Define a local function, often called `wrapper`, that captures `func` and calls it (i.e., calls the function passed into the decorator), with some custom behavior. **At the end, return `wrapper`.** This causes the name that the user defined their function with to instead have `wrapper` assigned to it.\n",
    "\n",
    "The custom behavior may be any behavioral change, including but not limited to:\n",
    "\n",
    "- changes to or restrictions on arguments forwarded to `func`\n",
    "- changes to or restrictions on the return value of `func` (before `wrapper` returns it)\n",
    "- side effects before calling `func`\n",
    "- side effects after calling `func`\n",
    "- only calling `func` in some situations\n",
    "- calling `func` multiple times\n",
    "\n",
    "It is possible that some other actions will be performed. Before defining `wrapper`, you will sometimes have code the implementation of `wrapper` will use when it runs. After defining `wrapper`, you will sometimes modify `wrapper` (mainly by setting attributes on it) and may occasionally have code the implementation of `wrapper` will use when it runs.\n",
    "\n",
    "## Behavior 2: Passing Through\n",
    "\n",
    "Perform some action for its side effects, **then return `func` itself**. No wrapper function is defined because no wrapping is involved. The action performed will usually involve inspecting `func`, or altering `func` by setting one or more attributes on it, or both.\n",
    "\n",
    "The action is done by the decorator when the decorator is called, which happens at the time the decorated function (which `func` refers to) is defined. Specifically, it happens when the decorated function definition is run. There is no wrapper, because a wrapper would facilitate doing extra things every time a function is called&mdash;but here, we want to do extra things one time when the function is defined.\n",
    "\n",
    "Potentially useful actions for a decorator to perform *that only inspect `func` and do not alter it* include, but are not limited to:\n",
    "\n",
    "- calling `func` automatically, once, at the time of its definition\n",
    "- logging or triggering events based on information gleaned from the function\n",
    "- registering the function as an event handler (setting it up to be called to handle future events)\n",
    "\n",
    "Potentially useful actions for a decorator to perform *that do alter `func` by setting one or more of its attributes*, are:\n",
    "\n",
    "- copying metadata into `func` from another function (as in the delegate returned from a call to [`@functools.wraps`](https://docs.python.org/3/library/functools.html#functools.wraps) does)\n",
    "- various other actions that are less common\n",
    "\n",
    "The reason `func` must be returned afterwards is that whatever the decorator returns is assigned to the name of the decorated function. Since here we want that to be the same function it would be if it weren&rsquo;t decorated, we have to return it ourselves."
   ]
  },
  {
   "cell_type": "markdown",
   "metadata": {},
   "source": []
  }
 ],
 "metadata": {
  "language_info": {
   "name": "python"
  },
  "orig_nbformat": 4
 },
 "nbformat": 4,
 "nbformat_minor": 2
}
