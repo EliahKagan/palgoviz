{
 "cells": [
  {
   "cell_type": "markdown",
   "id": "af0fbe1b-a3bf-4117-9860-d153f0a2a51b",
   "metadata": {},
   "source": [
    "# Keywords and Builtins"
   ]
  },
  {
   "cell_type": "markdown",
   "id": "0772d003-cd49-4e90-b571-581a31caf67b",
   "metadata": {},
   "source": [
    "**Keywords** have a special meaning in the syntax of the Python language. You cannot use them as variable names&mdash;it is a syntax error to do so.\n",
    "\n",
    "For example, `def`, `if`, `or`, and `import` are keywords. There are various others.\n",
    "\n",
    "**Builtins** are variables in the *built-in scope*, which is the broadest scope, broader even than the global scope. They are functions and classes, supplied by the standard library, that are so commonly needed, no import is required. It is possible to name your own variables with the same names as builtins, but it is almost never reasonable to do so.\n",
    "\n",
    "For example, `print`, `len`, `list`, and `int` are builtins. There are many more.\n",
    "\n",
    "### Keywords vs. Builtins, in practice\n",
    "\n",
    "From the perspective of the language, keywords are part of its syntax, while builtins are parts of the standard library that, for practical reasons, should always be available even without importing anything.\n",
    "\n",
    "This distinction is sometimes important. But in most day to day Python programming, you should think of keywords and builtins as though they are both part of the language. From this perspective, assigning to the same name as a builtin in any scope tends to cause the language to behave in an unexpected way, which is why it should only rarely be done.\n",
    "\n",
    "### Finding out if something is a keyword or builtin\n",
    "\n",
    "You'll usually know immediately if something you try to use as a variable name is a keyword, because you'll get a syntax error.\n",
    "\n",
    "If you want to know if something is a builtin, a fast way is to just evaluate it in the REPL. For example, suppose I'm considering using `len` as a variable name, having forgotten that it is a builtin:"
   ]
  },
  {
   "cell_type": "code",
   "execution_count": 1,
   "id": "88ec6c10-5dd0-46d7-8c46-a107d21fe362",
   "metadata": {},
   "outputs": [
    {
     "data": {
      "text/plain": [
       "<function len(obj, /)>"
      ]
     },
     "execution_count": 1,
     "metadata": {},
     "output_type": "execute_result"
    }
   ],
   "source": [
    "len"
   ]
  },
  {
   "cell_type": "markdown",
   "id": "00c64bb4-5de6-4687-b176-11c737493405",
   "metadata": {},
   "source": [
    "And now I know it's a builtin. In contrast:"
   ]
  },
  {
   "cell_type": "code",
   "execution_count": 2,
   "id": "7e688b2d-f74e-4c84-83f3-f277762a884c",
   "metadata": {
    "tags": [
     "raises-exception"
    ]
   },
   "outputs": [
    {
     "ename": "NameError",
     "evalue": "name 'length' is not defined",
     "output_type": "error",
     "traceback": [
      "\u001b[1;31m---------------------------------------------------------------------------\u001b[0m",
      "\u001b[1;31mNameError\u001b[0m                                 Traceback (most recent call last)",
      "Input \u001b[1;32mIn [2]\u001b[0m, in \u001b[0;36m<module>\u001b[1;34m\u001b[0m\n\u001b[1;32m----> 1\u001b[0m \u001b[43mlength\u001b[49m\n",
      "\u001b[1;31mNameError\u001b[0m: name 'length' is not defined"
     ]
    }
   ],
   "source": [
    "length"
   ]
  },
  {
   "cell_type": "markdown",
   "id": "5c228f55-dcc1-43e6-8916-484dbc858b92",
   "metadata": {},
   "source": [
    "And now I know `length` is not a builtin.\n",
    "\n",
    "Occasionally you may want to look at a list of all keywords, or a list of all builtins&mdash;or, even more rarely, you may want to programmatically check if a particular string is a builtin or keyword. For this you can use the `keyword` and `builtins` modules.\n",
    "\n",
    "One of the `keyword` module's attributes is a list of all keywords. By inspecting the `keyword` module, can you find this attribute and view a list of all keywords?\n",
    "\n",
    "The `builtins` module works differently. It is actually the module of builtins&mdash;this module is where the builtins come from, and modifications to the module's attributes are reflected in the globally available builtins. Can you use this to view a list of all builtins?"
   ]
  },
  {
   "cell_type": "code",
   "execution_count": 3,
   "id": "59647859-21ed-40ae-a24c-5c842960a89e",
   "metadata": {},
   "outputs": [],
   "source": [
    "import keyword\n",
    "import builtins"
   ]
  },
  {
   "cell_type": "code",
   "execution_count": null,
   "id": "7ab8a1ef-45a6-43d1-937f-f2dbaa5f9561",
   "metadata": {},
   "outputs": [],
   "source": []
  }
 ],
 "metadata": {
  "kernelspec": {
   "display_name": "Python 3 (ipykernel)",
   "language": "python",
   "name": "python3"
  },
  "language_info": {
   "codemirror_mode": {
    "name": "ipython",
    "version": 3
   },
   "file_extension": ".py",
   "mimetype": "text/x-python",
   "name": "python",
   "nbconvert_exporter": "python",
   "pygments_lexer": "ipython3",
   "version": "3.10.2"
  }
 },
 "nbformat": 4,
 "nbformat_minor": 5
}
