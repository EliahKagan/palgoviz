{
 "cells": [
  {
   "cell_type": "markdown",
   "id": "8aa47ddf-4d2e-47ad-b79e-4b468f1217e8",
   "metadata": {},
   "source": [
    "# Spanning a statement across multiple lines"
   ]
  },
  {
   "cell_type": "code",
   "execution_count": 1,
   "id": "d9f41d3c-538e-44b1-bcf4-a71369d53ab3",
   "metadata": {},
   "outputs": [
    {
     "name": "stdout",
     "output_type": "stream",
     "text": [
      "Very long string, pretend this is longer than it is, ha ha. :) :)\n"
     ]
    }
   ],
   "source": [
    "print('Very long string, pretend this is'\n",
    "      ' longer than it is, ha ha.'\n",
    "      ,\n",
    "      end=' :) :)\\n')"
   ]
  },
  {
   "cell_type": "code",
   "execution_count": 2,
   "id": "337a2a62-8a94-4e36-9cd2-963cd8eb4986",
   "metadata": {},
   "outputs": [],
   "source": [
    "from math import (acos, acosh, asin, asinh, atan, atan2, atanh,\n",
    "                  cos, cosh, hypot, sin, sinh, tan, tanh)"
   ]
  },
  {
   "cell_type": "code",
   "execution_count": 3,
   "id": "eda6f5cb-5e7f-4910-9f4d-206e4294856f",
   "metadata": {},
   "outputs": [
    {
     "data": {
      "text/plain": [
       "'foobar'"
      ]
     },
     "execution_count": 3,
     "metadata": {},
     "output_type": "execute_result"
    }
   ],
   "source": [
    "('foo'\n",
    " 'bar')"
   ]
  },
  {
   "cell_type": "code",
   "execution_count": 4,
   "id": "6857e5de-f768-40cc-af49-80ca168bc796",
   "metadata": {},
   "outputs": [
    {
     "data": {
      "text/plain": [
       "'foo\\nbar'"
      ]
     },
     "execution_count": 4,
     "metadata": {},
     "output_type": "execute_result"
    }
   ],
   "source": [
    "\"\"\"foo\n",
    "bar\"\"\""
   ]
  },
  {
   "cell_type": "code",
   "execution_count": 5,
   "id": "8015addb-32c2-4833-95ce-5b1802161cfa",
   "metadata": {},
   "outputs": [
    {
     "data": {
      "text/plain": [
       "'foobar'"
      ]
     },
     "execution_count": 5,
     "metadata": {},
     "output_type": "execute_result"
    }
   ],
   "source": [
    "\"\"\"foo\\\n",
    "bar\"\"\""
   ]
  },
  {
   "cell_type": "code",
   "execution_count": 6,
   "id": "df60c642-99db-4ca6-bc07-6abdca4dde69",
   "metadata": {},
   "outputs": [
    {
     "data": {
      "text/plain": [
       "'foobar'"
      ]
     },
     "execution_count": 6,
     "metadata": {},
     "output_type": "execute_result"
    }
   ],
   "source": [
    "'foo\\\n",
    "bar'"
   ]
  },
  {
   "cell_type": "code",
   "execution_count": 7,
   "id": "fb9fe08a-20ce-4489-83a7-d68bf507ca6b",
   "metadata": {},
   "outputs": [
    {
     "data": {
      "text/plain": [
       "'foobar'"
      ]
     },
     "execution_count": 7,
     "metadata": {},
     "output_type": "execute_result"
    }
   ],
   "source": [
    "('foo'\n",
    " 'bar')"
   ]
  },
  {
   "cell_type": "code",
   "execution_count": 8,
   "id": "025fee78-e9e5-459d-bb77-38613b22189b",
   "metadata": {},
   "outputs": [],
   "source": [
    "# Works, but parenthesizing and avoiding the backslash is preferred.\n",
    "from math import acos, acosh, asin, asinh, atan, atan2, atanh, \\\n",
    "                 cos, cosh, hypot, sin, sinh, tan, tanh"
   ]
  },
  {
   "cell_type": "code",
   "execution_count": 9,
   "id": "5c1222de-e3c0-4ce4-94a8-600bf4938678",
   "metadata": {
    "tags": [
     "raises-exception"
    ]
   },
   "outputs": [
    {
     "ename": "SyntaxError",
     "evalue": "unexpected character after line continuation character (997224432.py, line 2)",
     "output_type": "error",
     "traceback": [
      "\u001b[1;36m  Input \u001b[1;32mIn [9]\u001b[1;36m\u001b[0m\n\u001b[1;33m    from math import acos, acosh, asin, asinh, atan, atan2, atanh, \\\u001b[0m\n\u001b[1;37m                                                                    ^\u001b[0m\n\u001b[1;31mSyntaxError\u001b[0m\u001b[1;31m:\u001b[0m unexpected character after line continuation character\n"
     ]
    }
   ],
   "source": [
    "# Watch out for accidental whitespace.\n",
    "from math import acos, acosh, asin, asinh, atan, atan2, atanh, \\ \n",
    "                 cos, cosh, hypot, sin, sinh, tan, tanh"
   ]
  },
  {
   "cell_type": "code",
   "execution_count": 10,
   "id": "52229406-916d-4fa9-96cc-852ace0afe99",
   "metadata": {},
   "outputs": [],
   "source": [
    "assert 2 + 2 == 4, \\\n",
    "       'Some really really long explanation of why that is the case.'"
   ]
  },
  {
   "cell_type": "code",
   "execution_count": 11,
   "id": "efb5c33a-af22-40ec-b195-8945dcc8815f",
   "metadata": {},
   "outputs": [
    {
     "name": "stderr",
     "output_type": "stream",
     "text": [
      "<>:2: SyntaxWarning: assertion is always true, perhaps remove parentheses?\n",
      "<>:2: SyntaxWarning: assertion is always true, perhaps remove parentheses?\n",
      "C:\\Users\\User\\AppData\\Local\\Temp\\ipykernel_504\\4210102553.py:2: SyntaxWarning: assertion is always true, perhaps remove parentheses?\n",
      "  assert (2 + 2 == 4, 'Some really really long explanation of why that is the case.')\n"
     ]
    }
   ],
   "source": [
    "# Bad, because this is asserting a tuple of 2 items is truthy.\n",
    "assert (2 + 2 == 4, 'Some really really long explanation of why that is the case.')"
   ]
  },
  {
   "cell_type": "code",
   "execution_count": 12,
   "id": "b17ec108-b4d4-42fc-b98b-ed8f8dd85dca",
   "metadata": {},
   "outputs": [
    {
     "name": "stderr",
     "output_type": "stream",
     "text": [
      "<>:1: SyntaxWarning: assertion is always true, perhaps remove parentheses?\n",
      "<>:1: SyntaxWarning: assertion is always true, perhaps remove parentheses?\n",
      "C:\\Users\\User\\AppData\\Local\\Temp\\ipykernel_504\\2942462885.py:1: SyntaxWarning: assertion is always true, perhaps remove parentheses?\n",
      "  assert (2 + 2 == 5, 'Some really really long explanation of why that is the case.')\n"
     ]
    }
   ],
   "source": [
    "assert (2 + 2 == 5, 'Some really really long explanation of why that is the case.')"
   ]
  },
  {
   "cell_type": "code",
   "execution_count": 13,
   "id": "a5b1ef5d-6bc3-4206-8de1-7b26db05c700",
   "metadata": {},
   "outputs": [],
   "source": [
    "# Cumbersome enough that the backslash is at least as reasonable.\n",
    "assert 2 + 2 == 4, \"\"\"\n",
    "    Some really really long explanation of why that is the case.\"\"\""
   ]
  },
  {
   "cell_type": "code",
   "execution_count": 15,
   "id": "2bcace5b-dbd5-4d10-8e8a-141058929780",
   "metadata": {},
   "outputs": [],
   "source": [
    "# Also okay.\n",
    "assert 2 + 2 == 4, (\n",
    "    'Some really really long explanation of why that is the case.')"
   ]
  },
  {
   "cell_type": "code",
   "execution_count": null,
   "id": "d52af6a2-d490-4502-85f7-ad0653a140a6",
   "metadata": {},
   "outputs": [],
   "source": []
  }
 ],
 "metadata": {
  "kernelspec": {
   "display_name": "Python 3 (ipykernel)",
   "language": "python",
   "name": "python3"
  },
  "language_info": {
   "codemirror_mode": {
    "name": "ipython",
    "version": 3
   },
   "file_extension": ".py",
   "mimetype": "text/x-python",
   "name": "python",
   "nbconvert_exporter": "python",
   "pygments_lexer": "ipython3",
   "version": "3.10.4"
  }
 },
 "nbformat": 4,
 "nbformat_minor": 5
}
