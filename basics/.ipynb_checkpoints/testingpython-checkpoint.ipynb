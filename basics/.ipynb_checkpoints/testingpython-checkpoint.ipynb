{
 "cells": [
  {
   "cell_type": "code",
   "execution_count": 6,
   "id": "a07daaf9",
   "metadata": {},
   "outputs": [
    {
     "name": "stdout",
     "output_type": "stream",
     "text": [
      "Help ME!!!!!\n"
     ]
    }
   ],
   "source": [
    "print('Help ME!!!!!')"
   ]
  },
  {
   "cell_type": "code",
   "execution_count": 8,
   "id": "9a1836fc",
   "metadata": {},
   "outputs": [
    {
     "name": "stdout",
     "output_type": "stream",
     "text": [
      "Help ME MORE!!!!!\n"
     ]
    }
   ],
   "source": [
    "print('Help ME MORE!!!!!')"
   ]
  },
  {
   "cell_type": "code",
   "execution_count": 11,
   "id": "dcd1615a",
   "metadata": {},
   "outputs": [
    {
     "name": "stdout",
     "output_type": "stream",
     "text": [
      "testing\n",
      "1\n",
      "2\n",
      "3\n",
      "\n"
     ]
    }
   ],
   "source": [
    "print('testing')\n",
    "print('1\\n2\\n3\\n')"
   ]
  },
  {
   "cell_type": "code",
   "execution_count": 22,
   "id": "99095336",
   "metadata": {},
   "outputs": [
    {
     "name": "stdout",
     "output_type": "stream",
     "text": [
      "0,1,2,3,4,5,6,7,8,9,\n"
     ]
    }
   ],
   "source": [
    "for x in range (0,10):\n",
    "    print (x, end=',')\n",
    "print ()"
   ]
  },
  {
   "cell_type": "code",
   "execution_count": 31,
   "id": "38c0398a",
   "metadata": {},
   "outputs": [
    {
     "name": "stdout",
     "output_type": "stream",
     "text": [
      "0DODGE,1DODGE,2DODGE,3DODGE,4DODGE,5DODGE,6DODGE,7DODGE,8DODGE,9\n"
     ]
    }
   ],
   "source": [
    "print (*range (0,10), sep='DODGE,')"
   ]
  },
  {
   "cell_type": "code",
   "execution_count": 38,
   "id": "e13d52c7",
   "metadata": {},
   "outputs": [
    {
     "name": "stdout",
     "output_type": "stream",
     "text": [
      "help\n"
     ]
    }
   ],
   "source": [
    "print('help')"
   ]
  },
  {
   "cell_type": "code",
   "execution_count": null,
   "id": "924ba127",
   "metadata": {},
   "outputs": [],
   "source": []
  }
 ],
 "metadata": {
  "kernelspec": {
   "display_name": "Python 3 (ipykernel)",
   "language": "python",
   "name": "python3"
  },
  "language_info": {
   "codemirror_mode": {
    "name": "ipython",
    "version": 3
   },
   "file_extension": ".py",
   "mimetype": "text/x-python",
   "name": "python",
   "nbconvert_exporter": "python",
   "pygments_lexer": "ipython3",
   "version": "3.10.0"
  }
 },
 "nbformat": 4,
 "nbformat_minor": 5
}
