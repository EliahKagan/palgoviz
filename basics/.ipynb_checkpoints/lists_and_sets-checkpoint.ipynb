{
 "cells": [
  {
   "cell_type": "markdown",
   "id": "5fec8479-1d0d-4315-a613-8532ab556aa3",
   "metadata": {},
   "source": [
    "# Lists and sets"
   ]
  },
  {
   "cell_type": "code",
   "execution_count": 1,
   "id": "5d13649e-0f47-4a98-910a-a6cd3a39fc0e",
   "metadata": {},
   "outputs": [],
   "source": [
    "namelist = []"
   ]
  },
  {
   "cell_type": "code",
   "execution_count": 2,
   "id": "2c65fe0b-d194-47a6-8559-3801ce175e56",
   "metadata": {},
   "outputs": [
    {
     "data": {
      "text/plain": [
       "[]"
      ]
     },
     "execution_count": 2,
     "metadata": {},
     "output_type": "execute_result"
    }
   ],
   "source": [
    "[]"
   ]
  },
  {
   "cell_type": "code",
   "execution_count": 3,
   "id": "76a0a575-b545-4113-9804-b2d1403bdddf",
   "metadata": {},
   "outputs": [
    {
     "data": {
      "text/plain": [
       "list"
      ]
     },
     "execution_count": 3,
     "metadata": {},
     "output_type": "execute_result"
    }
   ],
   "source": [
    "type([])"
   ]
  },
  {
   "cell_type": "code",
   "execution_count": 4,
   "id": "1276a982-56b8-447f-9f52-a99b7f3dafd8",
   "metadata": {
    "tags": [
     "raises-exception"
    ]
   },
   "outputs": [
    {
     "ename": "TypeError",
     "evalue": "can only concatenate list (not \"str\") to list",
     "output_type": "error",
     "traceback": [
      "\u001b[1;31m---------------------------------------------------------------------------\u001b[0m",
      "\u001b[1;31mTypeError\u001b[0m                                 Traceback (most recent call last)",
      "Input \u001b[1;32mIn [4]\u001b[0m, in \u001b[0;36m<cell line: 1>\u001b[1;34m()\u001b[0m\n\u001b[1;32m----> 1\u001b[0m namelist \u001b[38;5;241m=\u001b[39m \u001b[43mnamelist\u001b[49m\u001b[43m \u001b[49m\u001b[38;5;241;43m+\u001b[39;49m\u001b[43m \u001b[49m\u001b[38;5;124;43m\"\u001b[39;49m\u001b[38;5;124;43mhello\u001b[39;49m\u001b[38;5;124;43m\"\u001b[39;49m\n",
      "\u001b[1;31mTypeError\u001b[0m: can only concatenate list (not \"str\") to list"
     ]
    }
   ],
   "source": [
    "namelist = namelist + \"hello\" "
   ]
  },
  {
   "cell_type": "code",
   "execution_count": 5,
   "id": "1f4ce58f-f63b-46ee-8608-2c4fc5fb53fd",
   "metadata": {
    "tags": [
     "raises-exception"
    ]
   },
   "outputs": [
    {
     "ename": "TypeError",
     "evalue": "can only concatenate list (not \"str\") to list",
     "output_type": "error",
     "traceback": [
      "\u001b[1;31m---------------------------------------------------------------------------\u001b[0m",
      "\u001b[1;31mTypeError\u001b[0m                                 Traceback (most recent call last)",
      "Input \u001b[1;32mIn [5]\u001b[0m, in \u001b[0;36m<cell line: 1>\u001b[1;34m()\u001b[0m\n\u001b[1;32m----> 1\u001b[0m \u001b[43mnamelist\u001b[49m\u001b[43m \u001b[49m\u001b[38;5;241;43m+\u001b[39;49m\u001b[43m \u001b[49m\u001b[38;5;124;43m\"\u001b[39;49m\u001b[38;5;124;43mhello\u001b[39;49m\u001b[38;5;124;43m\"\u001b[39;49m\n",
      "\u001b[1;31mTypeError\u001b[0m: can only concatenate list (not \"str\") to list"
     ]
    }
   ],
   "source": [
    "namelist + \"hello\" "
   ]
  },
  {
   "cell_type": "code",
   "execution_count": 6,
   "id": "373b3e2e-906d-4529-b716-046116685883",
   "metadata": {},
   "outputs": [],
   "source": [
    "namelist.append(\"hello\")"
   ]
  },
  {
   "cell_type": "code",
   "execution_count": 7,
   "id": "7e164da9-e734-4440-b31c-80edaadc549f",
   "metadata": {},
   "outputs": [
    {
     "data": {
      "text/plain": [
       "['hello']"
      ]
     },
     "execution_count": 7,
     "metadata": {},
     "output_type": "execute_result"
    }
   ],
   "source": [
    "namelist"
   ]
  },
  {
   "cell_type": "code",
   "execution_count": 8,
   "id": "5d9561bc-853e-4b66-bf0e-01be72ffbcac",
   "metadata": {},
   "outputs": [
    {
     "data": {
      "text/plain": [
       "[]"
      ]
     },
     "execution_count": 8,
     "metadata": {},
     "output_type": "execute_result"
    }
   ],
   "source": [
    "[]"
   ]
  },
  {
   "cell_type": "code",
   "execution_count": 9,
   "id": "4fea41df-798c-442c-bd6e-8cf333d2ee42",
   "metadata": {},
   "outputs": [
    {
     "data": {
      "text/plain": [
       "[]"
      ]
     },
     "execution_count": 9,
     "metadata": {},
     "output_type": "execute_result"
    }
   ],
   "source": [
    "list()"
   ]
  },
  {
   "cell_type": "code",
   "execution_count": 10,
   "id": "9728a662-11ab-44cc-817b-941996547fbe",
   "metadata": {},
   "outputs": [
    {
     "data": {
      "text/plain": [
       "{}"
      ]
     },
     "execution_count": 10,
     "metadata": {},
     "output_type": "execute_result"
    }
   ],
   "source": [
    "{}"
   ]
  },
  {
   "cell_type": "code",
   "execution_count": 11,
   "id": "0527e0dc-b1bd-44f3-9488-832ab89dc8c4",
   "metadata": {},
   "outputs": [
    {
     "data": {
      "text/plain": [
       "{}"
      ]
     },
     "execution_count": 11,
     "metadata": {},
     "output_type": "execute_result"
    }
   ],
   "source": [
    "dict()"
   ]
  },
  {
   "cell_type": "code",
   "execution_count": 12,
   "id": "18da243f-3b9e-4353-960e-5d5a67bde50c",
   "metadata": {},
   "outputs": [
    {
     "data": {
      "text/plain": [
       "()"
      ]
     },
     "execution_count": 12,
     "metadata": {},
     "output_type": "execute_result"
    }
   ],
   "source": [
    "()"
   ]
  },
  {
   "cell_type": "code",
   "execution_count": 13,
   "id": "9a6e43de-0245-4a23-bed0-c50bbfff1a46",
   "metadata": {},
   "outputs": [
    {
     "data": {
      "text/plain": [
       "()"
      ]
     },
     "execution_count": 13,
     "metadata": {},
     "output_type": "execute_result"
    }
   ],
   "source": [
    "tuple()"
   ]
  },
  {
   "cell_type": "code",
   "execution_count": 14,
   "id": "96878c7c-167e-483b-8429-4950ba36a788",
   "metadata": {},
   "outputs": [
    {
     "data": {
      "text/plain": [
       "set()"
      ]
     },
     "execution_count": 14,
     "metadata": {},
     "output_type": "execute_result"
    }
   ],
   "source": [
    "set()"
   ]
  },
  {
   "cell_type": "code",
   "execution_count": 15,
   "id": "da4876ea-7d13-44d7-aa49-619f145b97fa",
   "metadata": {},
   "outputs": [
    {
     "data": {
      "text/plain": [
       "{10, 20, 30}"
      ]
     },
     "execution_count": 15,
     "metadata": {},
     "output_type": "execute_result"
    }
   ],
   "source": [
    "{10, 20, 30}"
   ]
  },
  {
   "cell_type": "code",
   "execution_count": 16,
   "id": "25a8e513-f872-4138-9797-a9b8bd15e8cf",
   "metadata": {},
   "outputs": [],
   "source": [
    "s = set()"
   ]
  },
  {
   "cell_type": "code",
   "execution_count": 17,
   "id": "91893d5d-0c9d-4295-a531-8afa525fc5b4",
   "metadata": {},
   "outputs": [
    {
     "data": {
      "text/plain": [
       "set()"
      ]
     },
     "execution_count": 17,
     "metadata": {},
     "output_type": "execute_result"
    }
   ],
   "source": [
    "s"
   ]
  },
  {
   "cell_type": "code",
   "execution_count": 18,
   "id": "cbb543c7-0253-4f35-a935-dd13934aabe9",
   "metadata": {},
   "outputs": [],
   "source": [
    "for x in range(1, 1_000_001): # with for\n",
    "    s.add(x)"
   ]
  },
  {
   "cell_type": "code",
   "execution_count": 19,
   "id": "f6858bc4-6f3e-4b5d-a5a1-a277c25ba6b7",
   "metadata": {},
   "outputs": [
    {
     "data": {
      "text/plain": [
       "1000000"
      ]
     },
     "execution_count": 19,
     "metadata": {},
     "output_type": "execute_result"
    }
   ],
   "source": [
    "len(s)"
   ]
  },
  {
   "cell_type": "code",
   "execution_count": 20,
   "id": "607968bd-8d9c-4e42-86c0-22ebbcabb18f",
   "metadata": {},
   "outputs": [],
   "source": [
    "s = set(x for x in range(1, 2_000_001)) # with generator"
   ]
  },
  {
   "cell_type": "code",
   "execution_count": 21,
   "id": "1cd2ce49-0745-45cd-aeca-25cac981c1c1",
   "metadata": {},
   "outputs": [
    {
     "data": {
      "text/plain": [
       "2000000"
      ]
     },
     "execution_count": 21,
     "metadata": {},
     "output_type": "execute_result"
    }
   ],
   "source": [
    "len(s)"
   ]
  },
  {
   "cell_type": "code",
   "execution_count": 22,
   "id": "ed762932-4432-4eae-911b-d4a47023d789",
   "metadata": {},
   "outputs": [],
   "source": [
    "s = {x for x in range(1, 3_000_001)} # with set comprehension"
   ]
  },
  {
   "cell_type": "code",
   "execution_count": 23,
   "id": "9355fc72-9960-46db-b6f2-27e32a95a4f1",
   "metadata": {},
   "outputs": [
    {
     "data": {
      "text/plain": [
       "3000000"
      ]
     },
     "execution_count": 23,
     "metadata": {},
     "output_type": "execute_result"
    }
   ],
   "source": [
    "len(s)"
   ]
  },
  {
   "cell_type": "code",
   "execution_count": 24,
   "id": "882540dc-e173-4d6b-8f91-a83abe274681",
   "metadata": {},
   "outputs": [
    {
     "data": {
      "text/plain": [
       "True"
      ]
     },
     "execution_count": 24,
     "metadata": {},
     "output_type": "execute_result"
    }
   ],
   "source": [
    "set([]) == set()"
   ]
  },
  {
   "cell_type": "code",
   "execution_count": 25,
   "id": "59740043-18c3-4e8a-83d9-ac719753986d",
   "metadata": {},
   "outputs": [],
   "source": [
    "# simplifing stuff"
   ]
  },
  {
   "cell_type": "code",
   "execution_count": 26,
   "id": "5c91dfd4-3af1-426d-91ff-e9042dbd41fd",
   "metadata": {},
   "outputs": [],
   "source": [
    "s = {*range(1, 4_000_001)}"
   ]
  },
  {
   "cell_type": "code",
   "execution_count": 27,
   "id": "c50b6ae0-1fda-4832-8a88-53cd2df8756d",
   "metadata": {},
   "outputs": [
    {
     "data": {
      "text/plain": [
       "4000000"
      ]
     },
     "execution_count": 27,
     "metadata": {},
     "output_type": "execute_result"
    }
   ],
   "source": [
    "len(s)"
   ]
  },
  {
   "cell_type": "code",
   "execution_count": 28,
   "id": "83c8add1-40f4-408f-a413-e4dedb3ec2bc",
   "metadata": {},
   "outputs": [],
   "source": [
    "s = set(range(1, 1_000_001))"
   ]
  },
  {
   "cell_type": "code",
   "execution_count": 29,
   "id": "7fe40b56-48fd-4a51-9238-e2234fa9afd0",
   "metadata": {},
   "outputs": [
    {
     "data": {
      "text/plain": [
       "1000000"
      ]
     },
     "execution_count": 29,
     "metadata": {},
     "output_type": "execute_result"
    }
   ],
   "source": [
    "len(s)"
   ]
  },
  {
   "cell_type": "markdown",
   "id": "728bfab7-a347-4dcb-8771-c1c0bdf067e6",
   "metadata": {},
   "source": [
    "If you want something like `list` but that is immutable (and hashable), you use `tuple`."
   ]
  },
  {
   "cell_type": "markdown",
   "id": "d1f3680f-f88f-4821-9049-a6d48fef2b46",
   "metadata": {},
   "source": [
    "If you want something like `set` but that is immutable (and hashable), you use `frozenset`."
   ]
  },
  {
   "cell_type": "code",
   "execution_count": 30,
   "id": "7ad66d13-86cd-4678-b359-04020a19d0bf",
   "metadata": {},
   "outputs": [],
   "source": [
    "fs = frozenset([1, 2, 3, 4, 5])"
   ]
  },
  {
   "cell_type": "code",
   "execution_count": 31,
   "id": "964dce78-a3a6-439e-8bb3-ec6b0063d03a",
   "metadata": {},
   "outputs": [
    {
     "data": {
      "text/plain": [
       "frozenset({1, 2, 3, 4, 5})"
      ]
     },
     "execution_count": 31,
     "metadata": {},
     "output_type": "execute_result"
    }
   ],
   "source": [
    "fs"
   ]
  },
  {
   "cell_type": "code",
   "execution_count": 32,
   "id": "7ad007a1-0eb1-4745-83a6-6587ba8ed35b",
   "metadata": {},
   "outputs": [
    {
     "data": {
      "text/plain": [
       "5"
      ]
     },
     "execution_count": 32,
     "metadata": {},
     "output_type": "execute_result"
    }
   ],
   "source": [
    "len(fs)"
   ]
  },
  {
   "cell_type": "code",
   "execution_count": 33,
   "id": "bec76c6f-4d90-467c-b2fd-1dec15791298",
   "metadata": {},
   "outputs": [
    {
     "data": {
      "text/plain": [
       "-3779889356588604112"
      ]
     },
     "execution_count": 33,
     "metadata": {},
     "output_type": "execute_result"
    }
   ],
   "source": [
    "hash(fs)"
   ]
  },
  {
   "cell_type": "code",
   "execution_count": 34,
   "id": "2844aaa4-df8d-4557-93f1-617bc12eaaf7",
   "metadata": {},
   "outputs": [],
   "source": [
    "d = {fs: '2'}"
   ]
  },
  {
   "cell_type": "code",
   "execution_count": 35,
   "id": "a6def2cf-b73a-4b88-9f7b-53b6f89804ed",
   "metadata": {},
   "outputs": [
    {
     "data": {
      "text/plain": [
       "'2'"
      ]
     },
     "execution_count": 35,
     "metadata": {},
     "output_type": "execute_result"
    }
   ],
   "source": [
    "d[fs]"
   ]
  },
  {
   "cell_type": "code",
   "execution_count": 36,
   "id": "7fe7564b-dec8-4a97-9d32-c5c60ff7afcb",
   "metadata": {},
   "outputs": [
    {
     "data": {
      "text/plain": [
       "{frozenset({1, 2, 3, 4, 5}): '2'}"
      ]
     },
     "execution_count": 36,
     "metadata": {},
     "output_type": "execute_result"
    }
   ],
   "source": [
    "d"
   ]
  },
  {
   "cell_type": "code",
   "execution_count": 37,
   "id": "09605274-9171-457b-bd79-900f449e9e39",
   "metadata": {
    "tags": [
     "raises-exception"
    ]
   },
   "outputs": [
    {
     "ename": "AttributeError",
     "evalue": "'frozenset' object has no attribute 'add'",
     "output_type": "error",
     "traceback": [
      "\u001b[1;31m---------------------------------------------------------------------------\u001b[0m",
      "\u001b[1;31mAttributeError\u001b[0m                            Traceback (most recent call last)",
      "Input \u001b[1;32mIn [37]\u001b[0m, in \u001b[0;36m<cell line: 1>\u001b[1;34m()\u001b[0m\n\u001b[1;32m----> 1\u001b[0m \u001b[43mfs\u001b[49m\u001b[38;5;241;43m.\u001b[39;49m\u001b[43madd\u001b[49m(\u001b[38;5;241m6\u001b[39m)\n",
      "\u001b[1;31mAttributeError\u001b[0m: 'frozenset' object has no attribute 'add'"
     ]
    }
   ],
   "source": [
    "fs.add(6)"
   ]
  },
  {
   "cell_type": "code",
   "execution_count": 38,
   "id": "05881570-b9be-4989-a164-4b65ad37a122",
   "metadata": {},
   "outputs": [],
   "source": [
    "l = [1, 2, 3, 4, 5]"
   ]
  },
  {
   "cell_type": "code",
   "execution_count": 39,
   "id": "bc9594fd-7bdc-432b-b94c-01454c55ecd1",
   "metadata": {
    "tags": [
     "raises-exception"
    ]
   },
   "outputs": [
    {
     "ename": "TypeError",
     "evalue": "unhashable type: 'list'",
     "output_type": "error",
     "traceback": [
      "\u001b[1;31m---------------------------------------------------------------------------\u001b[0m",
      "\u001b[1;31mTypeError\u001b[0m                                 Traceback (most recent call last)",
      "Input \u001b[1;32mIn [39]\u001b[0m, in \u001b[0;36m<cell line: 1>\u001b[1;34m()\u001b[0m\n\u001b[1;32m----> 1\u001b[0m fs2 \u001b[38;5;241m=\u001b[39m \u001b[38;5;28;43mfrozenset\u001b[39;49m\u001b[43m(\u001b[49m\u001b[43m(\u001b[49m\u001b[43ml\u001b[49m\u001b[43m,\u001b[49m\u001b[43m \u001b[49m\u001b[38;5;241;43m2\u001b[39;49m\u001b[43m,\u001b[49m\u001b[43m \u001b[49m\u001b[38;5;241;43m3\u001b[39;49m\u001b[43m,\u001b[49m\u001b[43m \u001b[49m\u001b[38;5;241;43m4\u001b[39;49m\u001b[43m,\u001b[49m\u001b[43m \u001b[49m\u001b[38;5;241;43m5\u001b[39;49m\u001b[43m)\u001b[49m\u001b[43m)\u001b[49m\n",
      "\u001b[1;31mTypeError\u001b[0m: unhashable type: 'list'"
     ]
    }
   ],
   "source": [
    "fs2 = frozenset((l, 2, 3, 4, 5))"
   ]
  },
  {
   "cell_type": "code",
   "execution_count": 40,
   "id": "d0c7f0a1-f33c-44a4-a53c-c016b52b3dc0",
   "metadata": {},
   "outputs": [],
   "source": [
    "s = {1, 2, 3, 4, 5, 6}\n",
    "t = {1, 2, 3}"
   ]
  },
  {
   "cell_type": "code",
   "execution_count": 41,
   "id": "e33f22a1-eca7-460a-9664-a28e1dc54b46",
   "metadata": {},
   "outputs": [
    {
     "data": {
      "text/plain": [
       "True"
      ]
     },
     "execution_count": 41,
     "metadata": {},
     "output_type": "execute_result"
    }
   ],
   "source": [
    "t <= s"
   ]
  },
  {
   "cell_type": "code",
   "execution_count": 42,
   "id": "f41c31fb-9c9d-49e8-a145-336cf307bbfd",
   "metadata": {},
   "outputs": [
    {
     "data": {
      "text/plain": [
       "True"
      ]
     },
     "execution_count": 42,
     "metadata": {},
     "output_type": "execute_result"
    }
   ],
   "source": [
    "s >= t"
   ]
  },
  {
   "cell_type": "code",
   "execution_count": 43,
   "id": "a70d5d61-d4b4-48a2-8b2b-dd9c3d3ddb01",
   "metadata": {},
   "outputs": [
    {
     "data": {
      "text/plain": [
       "True"
      ]
     },
     "execution_count": 43,
     "metadata": {},
     "output_type": "execute_result"
    }
   ],
   "source": [
    "t <= t"
   ]
  },
  {
   "cell_type": "code",
   "execution_count": 45,
   "id": "e60d5829-2e11-4928-af31-9ad75569c83a",
   "metadata": {},
   "outputs": [],
   "source": [
    "u = {7, 8, 9, 10}"
   ]
  },
  {
   "cell_type": "code",
   "execution_count": 46,
   "id": "aa8de65c-6d1d-4baf-8819-10a19e764cd1",
   "metadata": {},
   "outputs": [
    {
     "data": {
      "text/plain": [
       "False"
      ]
     },
     "execution_count": 46,
     "metadata": {},
     "output_type": "execute_result"
    }
   ],
   "source": [
    "t <= u "
   ]
  },
  {
   "cell_type": "markdown",
   "id": "cd569d39-c171-44b2-a0eb-7a200ef2acbd",
   "metadata": {},
   "source": [
    "Lexicographic comparisons:"
   ]
  },
  {
   "cell_type": "code",
   "execution_count": 49,
   "id": "802b74b7-a0a2-47b8-b902-41fec4f13b6b",
   "metadata": {},
   "outputs": [
    {
     "data": {
      "text/plain": [
       "True"
      ]
     },
     "execution_count": 49,
     "metadata": {},
     "output_type": "execute_result"
    }
   ],
   "source": [
    "(10, 20) < (11, 19)"
   ]
  },
  {
   "cell_type": "code",
   "execution_count": 59,
   "id": "69cda5e6-b1ce-4cc4-b475-d5598999e348",
   "metadata": {},
   "outputs": [
    {
     "data": {
      "text/plain": [
       "True"
      ]
     },
     "execution_count": 59,
     "metadata": {},
     "output_type": "execute_result"
    }
   ],
   "source": [
    "(10, 20) < (10, 20, -54839205734892543)"
   ]
  },
  {
   "cell_type": "code",
   "execution_count": 57,
   "id": "93299f65-ce02-4d45-9798-e057474cfc8c",
   "metadata": {},
   "outputs": [
    {
     "data": {
      "text/plain": [
       "True"
      ]
     },
     "execution_count": 57,
     "metadata": {},
     "output_type": "execute_result"
    }
   ],
   "source": [
    "'foo' < 'foobar'"
   ]
  },
  {
   "cell_type": "markdown",
   "id": "7c990b91-80d2-4b3d-9edb-f33587959d51",
   "metadata": {},
   "source": [
    "For sets, `<=` means $\\subseteq$."
   ]
  },
  {
   "cell_type": "code",
   "execution_count": 61,
   "id": "2fad2179-ab55-4a83-aac5-8549ec97d6b6",
   "metadata": {},
   "outputs": [
    {
     "data": {
      "text/plain": [
       "True"
      ]
     },
     "execution_count": 61,
     "metadata": {},
     "output_type": "execute_result"
    }
   ],
   "source": [
    "frozenset({10, 20}) < {10, 15, 20}"
   ]
  },
  {
   "cell_type": "code",
   "execution_count": 62,
   "id": "743bae88-108a-4dff-b3e8-25b69a80ab7f",
   "metadata": {},
   "outputs": [
    {
     "data": {
      "text/plain": [
       "False"
      ]
     },
     "execution_count": 62,
     "metadata": {},
     "output_type": "execute_result"
    }
   ],
   "source": [
    "frozenset({10, 20}) < {10, 20}"
   ]
  },
  {
   "cell_type": "code",
   "execution_count": 63,
   "id": "9da71f66-82a5-4485-b51f-13febf128740",
   "metadata": {},
   "outputs": [
    {
     "data": {
      "text/plain": [
       "True"
      ]
     },
     "execution_count": 63,
     "metadata": {},
     "output_type": "execute_result"
    }
   ],
   "source": [
    "frozenset({10, 20}) <= {10, 20}"
   ]
  },
  {
   "cell_type": "code",
   "execution_count": 64,
   "id": "7b548341-1874-4ed3-a05a-5aef2de5a61c",
   "metadata": {},
   "outputs": [
    {
     "data": {
      "text/plain": [
       "True"
      ]
     },
     "execution_count": 64,
     "metadata": {},
     "output_type": "execute_result"
    }
   ],
   "source": [
    "frozenset({10, 20}) == {10, 20}"
   ]
  },
  {
   "cell_type": "code",
   "execution_count": 65,
   "id": "38213fef-60f1-4e49-8f0b-b0d0f6ff0897",
   "metadata": {},
   "outputs": [
    {
     "data": {
      "text/plain": [
       "True"
      ]
     },
     "execution_count": 65,
     "metadata": {},
     "output_type": "execute_result"
    }
   ],
   "source": [
    "1.0 == 1"
   ]
  },
  {
   "cell_type": "code",
   "execution_count": 66,
   "id": "9c0a9fa9-8fba-45ef-9908-0f568fb4193e",
   "metadata": {},
   "outputs": [
    {
     "data": {
      "text/plain": [
       "True"
      ]
     },
     "execution_count": 66,
     "metadata": {},
     "output_type": "execute_result"
    }
   ],
   "source": [
    "False == 0j"
   ]
  },
  {
   "cell_type": "code",
   "execution_count": 68,
   "id": "83692eca-d06d-4191-b9ed-fff6430962a3",
   "metadata": {},
   "outputs": [],
   "source": [
    "sf = {frozenset({1, 2}),}"
   ]
  },
  {
   "cell_type": "code",
   "execution_count": 69,
   "id": "ddedd89c-a03b-44cf-99f7-abc0c546f273",
   "metadata": {},
   "outputs": [
    {
     "data": {
      "text/plain": [
       "False"
      ]
     },
     "execution_count": 69,
     "metadata": {},
     "output_type": "execute_result"
    }
   ],
   "source": [
    "frozenset({1, 2}) <= sf"
   ]
  },
  {
   "cell_type": "code",
   "execution_count": 70,
   "id": "23eff8d9-d989-4e41-867a-115a5fab5901",
   "metadata": {},
   "outputs": [
    {
     "data": {
      "text/plain": [
       "True"
      ]
     },
     "execution_count": 70,
     "metadata": {},
     "output_type": "execute_result"
    }
   ],
   "source": [
    "frozenset({1, 2}) in sf"
   ]
  },
  {
   "cell_type": "code",
   "execution_count": 71,
   "id": "ba12b483-a591-4ba4-b908-6a912ba4bc95",
   "metadata": {},
   "outputs": [
    {
     "data": {
      "text/plain": [
       "True"
      ]
     },
     "execution_count": 71,
     "metadata": {},
     "output_type": "execute_result"
    }
   ],
   "source": [
    "frozenset({1, 2}) == {1, 2}"
   ]
  },
  {
   "cell_type": "code",
   "execution_count": 72,
   "id": "d7135c72-2130-4d97-8ef9-eb0536f4f9f1",
   "metadata": {},
   "outputs": [
    {
     "data": {
      "text/plain": [
       "True"
      ]
     },
     "execution_count": 72,
     "metadata": {},
     "output_type": "execute_result"
    }
   ],
   "source": [
    "{1, 2} in sf"
   ]
  },
  {
   "cell_type": "code",
   "execution_count": 74,
   "id": "b16ecb08-bbab-4fcb-b7ae-53d1eee29884",
   "metadata": {},
   "outputs": [
    {
     "data": {
      "text/plain": [
       "False"
      ]
     },
     "execution_count": 74,
     "metadata": {},
     "output_type": "execute_result"
    }
   ],
   "source": [
    "{1, 2} in frozenset()"
   ]
  },
  {
   "cell_type": "code",
   "execution_count": 75,
   "id": "1ff79623-2c23-42b7-819a-b44898a3ee38",
   "metadata": {},
   "outputs": [
    {
     "data": {
      "text/plain": [
       "False"
      ]
     },
     "execution_count": 75,
     "metadata": {},
     "output_type": "execute_result"
    }
   ],
   "source": [
    "{1, 2} in frozenset(object() for _ in range(10_000))"
   ]
  },
  {
   "cell_type": "markdown",
   "id": "6e7ce75c-4229-4100-94b4-9c5bb8911bbe",
   "metadata": {},
   "source": [
    "A type is totally ordered when, given any objects $x$ and $y$ of that type, $x < y$ or $x = y$ or $x > y$."
   ]
  },
  {
   "cell_type": "code",
   "execution_count": 76,
   "id": "a8b1f46c-a040-4439-9a33-7cf7a48c1dee",
   "metadata": {},
   "outputs": [],
   "source": [
    "s1 = {8, 9, 10}\n",
    "s2 = {1, 2, 3}"
   ]
  },
  {
   "cell_type": "code",
   "execution_count": 77,
   "id": "7d30ca90-c301-418d-bf66-b235e79e753e",
   "metadata": {},
   "outputs": [
    {
     "data": {
      "text/plain": [
       "False"
      ]
     },
     "execution_count": 77,
     "metadata": {},
     "output_type": "execute_result"
    }
   ],
   "source": [
    "s1 < s2"
   ]
  },
  {
   "cell_type": "code",
   "execution_count": 78,
   "id": "986cb96f-2222-4df7-8e09-95f9d77717ee",
   "metadata": {},
   "outputs": [
    {
     "data": {
      "text/plain": [
       "False"
      ]
     },
     "execution_count": 78,
     "metadata": {},
     "output_type": "execute_result"
    }
   ],
   "source": [
    "s1 == s2 "
   ]
  },
  {
   "cell_type": "code",
   "execution_count": 79,
   "id": "bfbf2d0c-61e1-4d8b-80b3-44d4f949330e",
   "metadata": {},
   "outputs": [
    {
     "data": {
      "text/plain": [
       "False"
      ]
     },
     "execution_count": 79,
     "metadata": {},
     "output_type": "execute_result"
    }
   ],
   "source": [
    "s1 > s2 "
   ]
  },
  {
   "cell_type": "code",
   "execution_count": 80,
   "id": "b48920b8-e685-445b-b54b-ae510736ae54",
   "metadata": {},
   "outputs": [],
   "source": [
    "t1 = {1}\n",
    "t2 = {2}"
   ]
  },
  {
   "cell_type": "code",
   "execution_count": 81,
   "id": "32b8965a-04e7-4e2f-a031-c88b5ae24a62",
   "metadata": {},
   "outputs": [
    {
     "data": {
      "text/plain": [
       "False"
      ]
     },
     "execution_count": 81,
     "metadata": {},
     "output_type": "execute_result"
    }
   ],
   "source": [
    "t1 < t2"
   ]
  },
  {
   "cell_type": "code",
   "execution_count": 82,
   "id": "987765ff-e7e7-42f5-8231-830a921a2036",
   "metadata": {},
   "outputs": [
    {
     "data": {
      "text/plain": [
       "False"
      ]
     },
     "execution_count": 82,
     "metadata": {},
     "output_type": "execute_result"
    }
   ],
   "source": [
    "t1 == t2"
   ]
  },
  {
   "cell_type": "code",
   "execution_count": 83,
   "id": "55672e16-5ff9-4ac1-a5d0-40db064b41f0",
   "metadata": {},
   "outputs": [
    {
     "data": {
      "text/plain": [
       "False"
      ]
     },
     "execution_count": 83,
     "metadata": {},
     "output_type": "execute_result"
    }
   ],
   "source": [
    "t1 > t2"
   ]
  },
  {
   "cell_type": "code",
   "execution_count": 85,
   "id": "0985782e-dea5-4862-a32f-0c90c5229fd3",
   "metadata": {},
   "outputs": [
    {
     "data": {
      "text/plain": [
       "{1, 2, 3, 4, 5}"
      ]
     },
     "execution_count": 85,
     "metadata": {},
     "output_type": "execute_result"
    }
   ],
   "source": [
    "{1, 2, 3} | {3, 4, 5}"
   ]
  },
  {
   "cell_type": "code",
   "execution_count": 86,
   "id": "3e86c580-275d-497f-af94-f656694428a6",
   "metadata": {},
   "outputs": [
    {
     "name": "stdout",
     "output_type": "stream",
     "text": [
      "Help on built-in function hex in module builtins:\n",
      "\n",
      "hex(number, /)\n",
      "    Return the hexadecimal representation of an integer.\n",
      "    \n",
      "    >>> hex(12648430)\n",
      "    '0xc0ffee'\n",
      "\n"
     ]
    }
   ],
   "source": [
    "help(hex)"
   ]
  },
  {
   "cell_type": "code",
   "execution_count": 87,
   "id": "ea528c5f-0cf8-4384-9d27-55d6af40c493",
   "metadata": {},
   "outputs": [
    {
     "name": "stdout",
     "output_type": "stream",
     "text": [
      "Help on built-in function oct in module builtins:\n",
      "\n",
      "oct(number, /)\n",
      "    Return the octal representation of an integer.\n",
      "    \n",
      "    >>> oct(342391)\n",
      "    '0o1234567'\n",
      "\n"
     ]
    }
   ],
   "source": [
    "help(oct)"
   ]
  },
  {
   "cell_type": "code",
   "execution_count": 88,
   "id": "d51896c3-6278-4f1c-8afe-f0cc387179f8",
   "metadata": {},
   "outputs": [
    {
     "name": "stdout",
     "output_type": "stream",
     "text": [
      "Help on built-in function bin in module builtins:\n",
      "\n",
      "bin(number, /)\n",
      "    Return the binary representation of an integer.\n",
      "    \n",
      "    >>> bin(2796202)\n",
      "    '0b1010101010101010101010'\n",
      "\n"
     ]
    }
   ],
   "source": [
    "help(bin)"
   ]
  },
  {
   "cell_type": "code",
   "execution_count": 104,
   "id": "dd0adec5-58ab-4213-a774-95cdcb6e0370",
   "metadata": {},
   "outputs": [
    {
     "data": {
      "text/plain": [
       "'0xe4e02'"
      ]
     },
     "execution_count": 104,
     "metadata": {},
     "output_type": "execute_result"
    }
   ],
   "source": [
    "hex(937474)"
   ]
  },
  {
   "cell_type": "code",
   "execution_count": 108,
   "id": "fa948a07-a727-43e6-a4d2-c6e34c6a448a",
   "metadata": {},
   "outputs": [
    {
     "data": {
      "text/plain": [
       "937474"
      ]
     },
     "execution_count": 108,
     "metadata": {},
     "output_type": "execute_result"
    }
   ],
   "source": [
    "0xe4e02"
   ]
  },
  {
   "cell_type": "code",
   "execution_count": 114,
   "id": "1877bdd1-7aa0-456e-93cf-e46b1fafeac1",
   "metadata": {},
   "outputs": [
    {
     "data": {
      "text/plain": [
       "12837"
      ]
     },
     "execution_count": 114,
     "metadata": {},
     "output_type": "execute_result"
    }
   ],
   "source": [
    "0b11001000100101"
   ]
  },
  {
   "cell_type": "code",
   "execution_count": 116,
   "id": "8308749d-2ead-4247-9eff-a74b97caf8c1",
   "metadata": {},
   "outputs": [
    {
     "data": {
      "text/plain": [
       "937474"
      ]
     },
     "execution_count": 116,
     "metadata": {},
     "output_type": "execute_result"
    }
   ],
   "source": [
    "int('0xe4e02', base=16)"
   ]
  },
  {
   "cell_type": "code",
   "execution_count": 117,
   "id": "132cfe1d-e1c5-4a25-b2f7-143ecc18b8b1",
   "metadata": {},
   "outputs": [
    {
     "data": {
      "text/plain": [
       "937474"
      ]
     },
     "execution_count": 117,
     "metadata": {},
     "output_type": "execute_result"
    }
   ],
   "source": [
    "int('e4e02', base=16)"
   ]
  },
  {
   "cell_type": "code",
   "execution_count": 118,
   "id": "fe2cdcad-7d5d-455b-9ddc-5995b003a8e9",
   "metadata": {},
   "outputs": [
    {
     "data": {
      "text/plain": [
       "937474"
      ]
     },
     "execution_count": 118,
     "metadata": {},
     "output_type": "execute_result"
    }
   ],
   "source": [
    "int('0xe4e02', base=0)"
   ]
  },
  {
   "cell_type": "code",
   "execution_count": 119,
   "id": "9d08afcc-958e-40cc-9d3f-b9f787ff661d",
   "metadata": {
    "tags": [
     "raises-exception"
    ]
   },
   "outputs": [
    {
     "ename": "TypeError",
     "evalue": "'NoneType' object cannot be interpreted as an integer",
     "output_type": "error",
     "traceback": [
      "\u001b[1;31m---------------------------------------------------------------------------\u001b[0m",
      "\u001b[1;31mTypeError\u001b[0m                                 Traceback (most recent call last)",
      "Input \u001b[1;32mIn [119]\u001b[0m, in \u001b[0;36m<cell line: 1>\u001b[1;34m()\u001b[0m\n\u001b[1;32m----> 1\u001b[0m \u001b[38;5;28;43mint\u001b[39;49m\u001b[43m(\u001b[49m\u001b[38;5;124;43m'\u001b[39;49m\u001b[38;5;124;43m0xe4e02\u001b[39;49m\u001b[38;5;124;43m'\u001b[39;49m\u001b[43m,\u001b[49m\u001b[43m \u001b[49m\u001b[43mbase\u001b[49m\u001b[38;5;241;43m=\u001b[39;49m\u001b[38;5;28;43;01mNone\u001b[39;49;00m\u001b[43m)\u001b[49m\n",
      "\u001b[1;31mTypeError\u001b[0m: 'NoneType' object cannot be interpreted as an integer"
     ]
    }
   ],
   "source": [
    "int('0xe4e02', base=None)"
   ]
  },
  {
   "cell_type": "code",
   "execution_count": 120,
   "id": "a99eb009-d119-4540-9bbb-3bcf7794c3a6",
   "metadata": {},
   "outputs": [
    {
     "data": {
      "text/plain": [
       "'0b111'"
      ]
     },
     "execution_count": 120,
     "metadata": {},
     "output_type": "execute_result"
    }
   ],
   "source": [
    "bin(7)"
   ]
  },
  {
   "cell_type": "markdown",
   "id": "a52926e2-ee3c-4f26-9c08-3fa11b0bb952",
   "metadata": {},
   "source": [
    "The boolean operators are `and`, `or`, and `not`."
   ]
  },
  {
   "cell_type": "markdown",
   "id": "64677168-7c9c-4963-a2d3-953cc8ce6c04",
   "metadata": {},
   "source": [
    "The bitwise logical operators are correspondingly `&`, `|`, and `~`. There is also `^` for xor."
   ]
  },
  {
   "cell_type": "code",
   "execution_count": 122,
   "id": "ab89c444-d410-4931-a8cb-6302cba226ac",
   "metadata": {},
   "outputs": [
    {
     "data": {
      "text/plain": [
       "3"
      ]
     },
     "execution_count": 122,
     "metadata": {},
     "output_type": "execute_result"
    }
   ],
   "source": [
    "1 | 2"
   ]
  },
  {
   "cell_type": "code",
   "execution_count": 123,
   "id": "d0094f3d-8e7f-4486-bcc5-80c75b181ec0",
   "metadata": {},
   "outputs": [
    {
     "data": {
      "text/plain": [
       "0"
      ]
     },
     "execution_count": 123,
     "metadata": {},
     "output_type": "execute_result"
    }
   ],
   "source": [
    "1 & 2"
   ]
  },
  {
   "cell_type": "code",
   "execution_count": 124,
   "id": "4fefcdbe-4abf-4ba5-bc27-f170d78a71fb",
   "metadata": {
    "tags": [
     "raises-exception"
    ]
   },
   "outputs": [
    {
     "ename": "TypeError",
     "evalue": "unsupported operand type(s) for |: 'float' and 'int'",
     "output_type": "error",
     "traceback": [
      "\u001b[1;31m---------------------------------------------------------------------------\u001b[0m",
      "\u001b[1;31mTypeError\u001b[0m                                 Traceback (most recent call last)",
      "Input \u001b[1;32mIn [124]\u001b[0m, in \u001b[0;36m<cell line: 1>\u001b[1;34m()\u001b[0m\n\u001b[1;32m----> 1\u001b[0m \u001b[38;5;241;43m1.0\u001b[39;49m\u001b[43m \u001b[49m\u001b[38;5;241;43m|\u001b[39;49m\u001b[43m \u001b[49m\u001b[38;5;241;43m2\u001b[39;49m\n",
      "\u001b[1;31mTypeError\u001b[0m: unsupported operand type(s) for |: 'float' and 'int'"
     ]
    }
   ],
   "source": [
    "1.0 | 2"
   ]
  },
  {
   "cell_type": "code",
   "execution_count": 125,
   "id": "c306a0b2-a240-42c0-b474-8507b513efed",
   "metadata": {},
   "outputs": [
    {
     "data": {
      "text/plain": [
       "5"
      ]
     },
     "execution_count": 125,
     "metadata": {},
     "output_type": "execute_result"
    }
   ],
   "source": [
    "4 | 5"
   ]
  },
  {
   "cell_type": "code",
   "execution_count": 126,
   "id": "68af97e3-5367-4c59-815e-9a1aa03ec8e7",
   "metadata": {},
   "outputs": [
    {
     "data": {
      "text/plain": [
       "4"
      ]
     },
     "execution_count": 126,
     "metadata": {},
     "output_type": "execute_result"
    }
   ],
   "source": [
    "4 & 5 "
   ]
  },
  {
   "cell_type": "markdown",
   "id": "550ecd39-84dd-4cfd-a40c-c0f57afd0a21",
   "metadata": {},
   "source": [
    "The bit shift operators are `<<` for left shift and `>>` for right shift."
   ]
  },
  {
   "cell_type": "code",
   "execution_count": 127,
   "id": "20e643ab-57d5-4708-aa20-752638b959fe",
   "metadata": {},
   "outputs": [
    {
     "data": {
      "text/plain": [
       "1024"
      ]
     },
     "execution_count": 127,
     "metadata": {},
     "output_type": "execute_result"
    }
   ],
   "source": [
    "2**10"
   ]
  },
  {
   "cell_type": "code",
   "execution_count": 128,
   "id": "552242a0-6c18-4922-b7e1-dc04004ea174",
   "metadata": {},
   "outputs": [
    {
     "data": {
      "text/plain": [
       "1024"
      ]
     },
     "execution_count": 128,
     "metadata": {},
     "output_type": "execute_result"
    }
   ],
   "source": [
    "1 << 10"
   ]
  },
  {
   "cell_type": "code",
   "execution_count": 130,
   "id": "8bd6f65b-cb03-4565-8c23-cf93c0afc393",
   "metadata": {},
   "outputs": [],
   "source": [
    "# The guests I invited to my party.\n",
    "a = 'Alice'\n",
    "b = 'Bob'\n",
    "c = 'Cassidy'\n",
    "d = 'Derek'\n",
    "e = 'Erin'\n",
    "f = 'Frank'\n",
    "g = 'Gerald'\n",
    "h = 'Heather'"
   ]
  },
  {
   "cell_type": "code",
   "execution_count": 131,
   "id": "3ba0795e-b7e5-4656-b19a-a95dc45db772",
   "metadata": {},
   "outputs": [
    {
     "data": {
      "text/plain": [
       "False"
      ]
     },
     "execution_count": 131,
     "metadata": {},
     "output_type": "execute_result"
    }
   ],
   "source": [
    "(a, b) == (b, a)"
   ]
  },
  {
   "cell_type": "code",
   "execution_count": 132,
   "id": "40535817-d1c4-46dc-a03a-8bd9d664beb2",
   "metadata": {},
   "outputs": [],
   "source": [
    "guests = [a, b, c, d, e, f, g, h]"
   ]
  },
  {
   "cell_type": "code",
   "execution_count": 136,
   "id": "ec6bbe15-3ef1-4147-9ce7-dc7b179a7198",
   "metadata": {},
   "outputs": [],
   "source": [
    "guest_bits = [1 << x for x in range(8)]"
   ]
  },
  {
   "cell_type": "code",
   "execution_count": 137,
   "id": "3209d88c-d877-48a6-b450-921342f72627",
   "metadata": {},
   "outputs": [
    {
     "data": {
      "text/plain": [
       "True"
      ]
     },
     "execution_count": 137,
     "metadata": {},
     "output_type": "execute_result"
    }
   ],
   "source": [
    "guest_bits == [1, 2, 4, 8, 16, 32, 64, 128]"
   ]
  },
  {
   "cell_type": "code",
   "execution_count": 138,
   "id": "edc11a18-7924-48e9-a746-ee62ed7b0ad5",
   "metadata": {},
   "outputs": [
    {
     "data": {
      "text/plain": [
       "37"
      ]
     },
     "execution_count": 138,
     "metadata": {},
     "output_type": "execute_result"
    }
   ],
   "source": [
    "(1 << 0) | (1 << 2) | (1 << 5)"
   ]
  },
  {
   "cell_type": "code",
   "execution_count": 139,
   "id": "fb3091fc-bd43-4720-92ec-0de98df56395",
   "metadata": {},
   "outputs": [
    {
     "data": {
      "text/plain": [
       "'0b100101'"
      ]
     },
     "execution_count": 139,
     "metadata": {},
     "output_type": "execute_result"
    }
   ],
   "source": [
    "bin(_)"
   ]
  },
  {
   "cell_type": "code",
   "execution_count": 159,
   "id": "712e5e59-a7d8-449f-9fa8-059348599a65",
   "metadata": {},
   "outputs": [],
   "source": [
    "# {'Alice': 1, 'Bob': 2, 'Cassidy': 4, ...}\n",
    "guest_bits = {guest: 1 << pos for pos, guest in enumerate(guests)}"
   ]
  },
  {
   "cell_type": "code",
   "execution_count": 160,
   "id": "ddbd8988-e7cb-4521-b005-600737ecd0c3",
   "metadata": {},
   "outputs": [
    {
     "data": {
      "text/plain": [
       "{'Alice': 1,\n",
       " 'Bob': 2,\n",
       " 'Cassidy': 4,\n",
       " 'Derek': 8,\n",
       " 'Erin': 16,\n",
       " 'Frank': 32,\n",
       " 'Gerald': 64,\n",
       " 'Heather': 128}"
      ]
     },
     "execution_count": 160,
     "metadata": {},
     "output_type": "execute_result"
    }
   ],
   "source": [
    "guest_bits"
   ]
  },
  {
   "cell_type": "code",
   "execution_count": 161,
   "id": "8b5ae814-01d1-4032-bae8-55ef072878cc",
   "metadata": {},
   "outputs": [
    {
     "data": {
      "text/plain": [
       "True"
      ]
     },
     "execution_count": 161,
     "metadata": {},
     "output_type": "execute_result"
    }
   ],
   "source": [
    "{guest: 1 << pos for pos, guest in zip(range(8), guests)} == guest_bits"
   ]
  },
  {
   "cell_type": "code",
   "execution_count": 158,
   "id": "9129c8bb-931f-4140-91f7-79cf59cacc85",
   "metadata": {},
   "outputs": [
    {
     "data": {
      "text/plain": [
       "64"
      ]
     },
     "execution_count": 158,
     "metadata": {},
     "output_type": "execute_result"
    }
   ],
   "source": [
    "len([(x, 1 << y) for y in range(8) for x in guests])"
   ]
  },
  {
   "cell_type": "code",
   "execution_count": 144,
   "id": "7d7d40ad-3566-4004-a4b8-6d5cdedb474d",
   "metadata": {},
   "outputs": [],
   "source": [
    "d2 = {}"
   ]
  },
  {
   "cell_type": "code",
   "execution_count": 145,
   "id": "98a25513-f5b1-4c58-be9c-24b38f1e79ed",
   "metadata": {},
   "outputs": [],
   "source": [
    "d2['foo'] = 10\n",
    "d2['bar'] = 20"
   ]
  },
  {
   "cell_type": "code",
   "execution_count": 146,
   "id": "777bc713-2b0c-448c-923c-b45d0bc0c2ce",
   "metadata": {},
   "outputs": [
    {
     "data": {
      "text/plain": [
       "{'foo': 10, 'bar': 20}"
      ]
     },
     "execution_count": 146,
     "metadata": {},
     "output_type": "execute_result"
    }
   ],
   "source": [
    "d2"
   ]
  },
  {
   "cell_type": "code",
   "execution_count": 147,
   "id": "96b54b0c-792b-47d5-80a1-7005c33668b9",
   "metadata": {},
   "outputs": [],
   "source": [
    "d2['foo'] = 15"
   ]
  },
  {
   "cell_type": "code",
   "execution_count": 148,
   "id": "f9bab552-caad-4006-a005-c432fcf169f1",
   "metadata": {},
   "outputs": [
    {
     "data": {
      "text/plain": [
       "{'foo': 15, 'bar': 20}"
      ]
     },
     "execution_count": 148,
     "metadata": {},
     "output_type": "execute_result"
    }
   ],
   "source": [
    "d2"
   ]
  },
  {
   "cell_type": "code",
   "execution_count": 163,
   "id": "267cf558-d4e0-4aac-a919-c85d864366bf",
   "metadata": {},
   "outputs": [],
   "source": [
    "guest_combo = guest_bits[a] | guest_bits[c] | guest_bits[f]"
   ]
  },
  {
   "cell_type": "code",
   "execution_count": 164,
   "id": "28185f1a-c91e-49a4-afbb-253c0981b1d9",
   "metadata": {},
   "outputs": [
    {
     "data": {
      "text/plain": [
       "4"
      ]
     },
     "execution_count": 164,
     "metadata": {},
     "output_type": "execute_result"
    }
   ],
   "source": [
    "guest_combo & guest_bits[c]"
   ]
  },
  {
   "cell_type": "code",
   "execution_count": 165,
   "id": "cedd94d4-d706-4873-8c12-b99ba29804b2",
   "metadata": {},
   "outputs": [
    {
     "data": {
      "text/plain": [
       "101"
      ]
     },
     "execution_count": 165,
     "metadata": {},
     "output_type": "execute_result"
    }
   ],
   "source": [
    "guest_combo | guest_bits[g]"
   ]
  },
  {
   "cell_type": "code",
   "execution_count": 166,
   "id": "34262b26-55c9-4ae7-9dab-35de76c4e85f",
   "metadata": {},
   "outputs": [],
   "source": [
    "guest_combo |= guest_bits[g]"
   ]
  },
  {
   "cell_type": "code",
   "execution_count": 167,
   "id": "89bffa6e-c3cb-4731-80a3-3a55134869ae",
   "metadata": {},
   "outputs": [
    {
     "data": {
      "text/plain": [
       "'0b1100101'"
      ]
     },
     "execution_count": 167,
     "metadata": {},
     "output_type": "execute_result"
    }
   ],
   "source": [
    "bin(guest_combo)"
   ]
  },
  {
   "cell_type": "code",
   "execution_count": 168,
   "id": "05c6f650-f56b-436c-883c-5e7088492a7d",
   "metadata": {},
   "outputs": [],
   "source": [
    "second_party = guest_bits[a] | guest_bits[b] | guest_bits[e] | guest_bits[f] "
   ]
  },
  {
   "cell_type": "code",
   "execution_count": 169,
   "id": "959c499b-0643-4dcf-85ba-bded71815a61",
   "metadata": {},
   "outputs": [
    {
     "data": {
      "text/plain": [
       "2"
      ]
     },
     "execution_count": 169,
     "metadata": {},
     "output_type": "execute_result"
    }
   ],
   "source": [
    "(second_party & guest_bits[b]) | (second_party & guest_bits[c])"
   ]
  },
  {
   "cell_type": "code",
   "execution_count": 170,
   "id": "1b5b8546-3758-45b1-af63-03c7a76e14e8",
   "metadata": {},
   "outputs": [
    {
     "data": {
      "text/plain": [
       "2"
      ]
     },
     "execution_count": 170,
     "metadata": {},
     "output_type": "execute_result"
    }
   ],
   "source": [
    "second_party & (guest_bits[b] | guest_bits[c])"
   ]
  },
  {
   "cell_type": "code",
   "execution_count": 171,
   "id": "5468d554-930b-4f8a-9413-3f365fe91e0f",
   "metadata": {},
   "outputs": [
    {
     "data": {
      "text/plain": [
       "33"
      ]
     },
     "execution_count": 171,
     "metadata": {},
     "output_type": "execute_result"
    }
   ],
   "source": [
    "second_party & guest_combo"
   ]
  },
  {
   "cell_type": "code",
   "execution_count": 172,
   "id": "4cfaf58c-0c33-430d-9fa9-7e93e0b3ac4b",
   "metadata": {},
   "outputs": [
    {
     "data": {
      "text/plain": [
       "'0b100001'"
      ]
     },
     "execution_count": 172,
     "metadata": {},
     "output_type": "execute_result"
    }
   ],
   "source": [
    "bin(_)"
   ]
  },
  {
   "cell_type": "code",
   "execution_count": 173,
   "id": "22189906-5587-4dd8-9000-a159cc67ed90",
   "metadata": {},
   "outputs": [
    {
     "data": {
      "text/plain": [
       "119"
      ]
     },
     "execution_count": 173,
     "metadata": {},
     "output_type": "execute_result"
    }
   ],
   "source": [
    "second_party | guest_combo"
   ]
  },
  {
   "cell_type": "code",
   "execution_count": 174,
   "id": "ab17b921-766e-40d8-8fe9-34c4fdcc9224",
   "metadata": {},
   "outputs": [
    {
     "data": {
      "text/plain": [
       "'0b1110111'"
      ]
     },
     "execution_count": 174,
     "metadata": {},
     "output_type": "execute_result"
    }
   ],
   "source": [
    "bin(_)"
   ]
  },
  {
   "cell_type": "code",
   "execution_count": 175,
   "id": "e252801b-11fb-465b-8e44-c9504f31232c",
   "metadata": {},
   "outputs": [
    {
     "data": {
      "text/plain": [
       "86"
      ]
     },
     "execution_count": 175,
     "metadata": {},
     "output_type": "execute_result"
    }
   ],
   "source": [
    "second_party ^ guest_combo"
   ]
  },
  {
   "cell_type": "code",
   "execution_count": 176,
   "id": "429f245c-b5e9-4414-8231-0e9546cc910e",
   "metadata": {},
   "outputs": [
    {
     "data": {
      "text/plain": [
       "'0b1010110'"
      ]
     },
     "execution_count": 176,
     "metadata": {},
     "output_type": "execute_result"
    }
   ],
   "source": [
    "bin(_)"
   ]
  },
  {
   "cell_type": "code",
   "execution_count": 178,
   "id": "2371d8dd-b841-4013-b822-16a537899c9b",
   "metadata": {},
   "outputs": [],
   "source": [
    "party = {a, c, f}"
   ]
  },
  {
   "cell_type": "code",
   "execution_count": 181,
   "id": "d346b5b4-800e-41ca-8e55-e27d68df95cf",
   "metadata": {},
   "outputs": [],
   "source": [
    "party2 = {a, b, e, f}"
   ]
  },
  {
   "cell_type": "code",
   "execution_count": 182,
   "id": "2dea7d8f-7c07-4989-b660-0862546f440e",
   "metadata": {},
   "outputs": [
    {
     "data": {
      "text/plain": [
       "{'Alice', 'Bob', 'Cassidy', 'Erin', 'Frank'}"
      ]
     },
     "execution_count": 182,
     "metadata": {},
     "output_type": "execute_result"
    }
   ],
   "source": [
    "party | party2"
   ]
  },
  {
   "cell_type": "code",
   "execution_count": 183,
   "id": "a26fa195-e72a-47db-8443-ff01b7f7d763",
   "metadata": {},
   "outputs": [
    {
     "data": {
      "text/plain": [
       "{'Alice', 'Frank'}"
      ]
     },
     "execution_count": 183,
     "metadata": {},
     "output_type": "execute_result"
    }
   ],
   "source": [
    "party & party2"
   ]
  },
  {
   "cell_type": "code",
   "execution_count": 184,
   "id": "6926e64b-1295-4d2f-a64d-5e2b9b08197b",
   "metadata": {},
   "outputs": [
    {
     "data": {
      "text/plain": [
       "{'Bob', 'Cassidy', 'Erin'}"
      ]
     },
     "execution_count": 184,
     "metadata": {},
     "output_type": "execute_result"
    }
   ],
   "source": [
    "party ^ party2"
   ]
  },
  {
   "cell_type": "code",
   "execution_count": 188,
   "id": "4e523d14-42af-4fd4-8abf-e6e8e987aba6",
   "metadata": {},
   "outputs": [
    {
     "data": {
      "text/plain": [
       "18"
      ]
     },
     "execution_count": 188,
     "metadata": {},
     "output_type": "execute_result"
    }
   ],
   "source": [
    "second_party & ~guest_combo"
   ]
  },
  {
   "cell_type": "code",
   "execution_count": 189,
   "id": "a6fc970a-f9fd-4cee-9c6a-b8806cdd7e03",
   "metadata": {},
   "outputs": [
    {
     "data": {
      "text/plain": [
       "'0b10010'"
      ]
     },
     "execution_count": 189,
     "metadata": {},
     "output_type": "execute_result"
    }
   ],
   "source": [
    "bin(_)"
   ]
  },
  {
   "cell_type": "code",
   "execution_count": 190,
   "id": "3618cd2d-03fa-4eb2-bbfb-7ad0e84197c3",
   "metadata": {
    "tags": [
     "raises-exception"
    ]
   },
   "outputs": [
    {
     "ename": "TypeError",
     "evalue": "bad operand type for unary ~: 'set'",
     "output_type": "error",
     "traceback": [
      "\u001b[1;31m---------------------------------------------------------------------------\u001b[0m",
      "\u001b[1;31mTypeError\u001b[0m                                 Traceback (most recent call last)",
      "Input \u001b[1;32mIn [190]\u001b[0m, in \u001b[0;36m<cell line: 1>\u001b[1;34m()\u001b[0m\n\u001b[1;32m----> 1\u001b[0m \u001b[38;5;241;43m~\u001b[39;49m\u001b[43mparty\u001b[49m\n",
      "\u001b[1;31mTypeError\u001b[0m: bad operand type for unary ~: 'set'"
     ]
    }
   ],
   "source": [
    "~party"
   ]
  },
  {
   "cell_type": "code",
   "execution_count": 192,
   "id": "905c9f9e-3c41-4106-9cb1-3dab89ce3c01",
   "metadata": {},
   "outputs": [
    {
     "data": {
      "text/plain": [
       "{'Bob', 'Erin'}"
      ]
     },
     "execution_count": 192,
     "metadata": {},
     "output_type": "execute_result"
    }
   ],
   "source": [
    "party2 - party"
   ]
  },
  {
   "cell_type": "code",
   "execution_count": 193,
   "id": "0633d528-dda6-4efb-aaa5-098a16f93585",
   "metadata": {},
   "outputs": [
    {
     "data": {
      "text/plain": [
       "{10}"
      ]
     },
     "execution_count": 193,
     "metadata": {},
     "output_type": "execute_result"
    }
   ],
   "source": [
    "{10, 11} - {11, 12}"
   ]
  },
  {
   "cell_type": "code",
   "execution_count": 194,
   "id": "2adf882d-165a-4e09-bb94-4354dbf97cc5",
   "metadata": {},
   "outputs": [
    {
     "data": {
      "text/plain": [
       "{10, 12}"
      ]
     },
     "execution_count": 194,
     "metadata": {},
     "output_type": "execute_result"
    }
   ],
   "source": [
    "{10, 11} ^ {11, 12}"
   ]
  },
  {
   "cell_type": "markdown",
   "id": "ff19a1c5-809e-45dc-a2da-d34d4c37d32b",
   "metadata": {},
   "source": [
    "### Set operations\n",
    "\n",
    "Set inclusion:\n",
    "\n",
    "- `<`: proper subset\n",
    "- `<=`: subset\n",
    "- `>`: proper superset\n",
    "- `>=`: superset\n",
    "\n",
    "Set algebra operations:\n",
    "\n",
    "- `&`: intersection\n",
    "- `|`: union\n",
    "- `^`: symmetric difference\n",
    "- `-`: difference\n",
    "\n",
    "`&`, `|`, and `^`, being bitwise logcal operations, also perform intersection, union, and symmetric difference if their operands are bitfields representing sets (bitsets)."
   ]
  },
  {
   "cell_type": "code",
   "execution_count": 203,
   "id": "9098df1b-aa85-46ef-b81b-0595c6bc358b",
   "metadata": {},
   "outputs": [],
   "source": [
    "def comprehension_intersect(s, t):\n",
    "    return {x for x in s if x in t}"
   ]
  },
  {
   "cell_type": "code",
   "execution_count": 198,
   "id": "3309fead-fd26-4640-b29c-ad6b0b2ecae2",
   "metadata": {},
   "outputs": [],
   "source": [
    "def comprehension_union(s, t): \n",
    "    return {x for s_or_t in (s, t) for x in s_or_t}"
   ]
  },
  {
   "cell_type": "code",
   "execution_count": 199,
   "id": "51fee86b-e052-4c0e-a222-49eb935631e4",
   "metadata": {},
   "outputs": [],
   "source": [
    "def loop_union(s, t):\n",
    "    result = set()\n",
    "    for s_or_t in s, t:\n",
    "        for x in s_or_t:\n",
    "            result.add(x)\n",
    "    return result"
   ]
  },
  {
   "cell_type": "code",
   "execution_count": 204,
   "id": "b52e26ec-5ac1-40e0-b74e-5668c8386637",
   "metadata": {},
   "outputs": [
    {
     "data": {
      "text/plain": [
       "{'Alice', 'Frank'}"
      ]
     },
     "execution_count": 204,
     "metadata": {},
     "output_type": "execute_result"
    }
   ],
   "source": [
    "comprehension_intersect(party, party2)"
   ]
  },
  {
   "cell_type": "code",
   "execution_count": 205,
   "id": "e30c4ef1-ce45-4247-b6b0-7304460e6734",
   "metadata": {},
   "outputs": [
    {
     "data": {
      "text/plain": [
       "{'Alice', 'Bob', 'Cassidy', 'Erin', 'Frank'}"
      ]
     },
     "execution_count": 205,
     "metadata": {},
     "output_type": "execute_result"
    }
   ],
   "source": [
    "comprehension_union(party, party2)"
   ]
  },
  {
   "cell_type": "code",
   "execution_count": 206,
   "id": "b194f969-4cae-4d89-a176-87509fcc6a76",
   "metadata": {},
   "outputs": [
    {
     "data": {
      "text/plain": [
       "{'Alice', 'Bob', 'Cassidy', 'Erin', 'Frank'}"
      ]
     },
     "execution_count": 206,
     "metadata": {},
     "output_type": "execute_result"
    }
   ],
   "source": [
    "loop_union(party, party2)"
   ]
  },
  {
   "cell_type": "code",
   "execution_count": 212,
   "id": "7d1891fd-edeb-4d15-b928-47173fe81d67",
   "metadata": {},
   "outputs": [],
   "source": [
    "def guests_intersect(s, t):\n",
    "    return {x for x in guests if x in s and x in t}"
   ]
  },
  {
   "cell_type": "code",
   "execution_count": 213,
   "id": "7afb8e5b-dea0-4db1-857a-6fca91237c7d",
   "metadata": {},
   "outputs": [],
   "source": [
    "def guests_union(s, t):\n",
    "    return {x for x in guests if x in s or x in t}"
   ]
  },
  {
   "cell_type": "code",
   "execution_count": 214,
   "id": "7b41918a-496b-4586-8a64-47f0e09d9972",
   "metadata": {},
   "outputs": [
    {
     "data": {
      "text/plain": [
       "{'Alice', 'Frank'}"
      ]
     },
     "execution_count": 214,
     "metadata": {},
     "output_type": "execute_result"
    }
   ],
   "source": [
    "guests_intersect(party, party2)"
   ]
  },
  {
   "cell_type": "code",
   "execution_count": 215,
   "id": "4aa3d11c-8c50-492c-82c7-afa265f0ad55",
   "metadata": {},
   "outputs": [
    {
     "data": {
      "text/plain": [
       "{'Alice', 'Bob', 'Cassidy', 'Erin', 'Frank'}"
      ]
     },
     "execution_count": 215,
     "metadata": {},
     "output_type": "execute_result"
    }
   ],
   "source": [
    "guests_union(party, party2)"
   ]
  },
  {
   "cell_type": "code",
   "execution_count": null,
   "id": "0d04b03e-cab2-4356-bee7-5f55bb0449a9",
   "metadata": {},
   "outputs": [],
   "source": []
  }
 ],
 "metadata": {
  "kernelspec": {
   "display_name": "Python 3 (ipykernel)",
   "language": "python",
   "name": "python3"
  },
  "language_info": {
   "codemirror_mode": {
    "name": "ipython",
    "version": 3
   },
   "file_extension": ".py",
   "mimetype": "text/x-python",
   "name": "python",
   "nbconvert_exporter": "python",
   "pygments_lexer": "ipython3",
   "version": "3.10.4"
  }
 },
 "nbformat": 4,
 "nbformat_minor": 5
}
