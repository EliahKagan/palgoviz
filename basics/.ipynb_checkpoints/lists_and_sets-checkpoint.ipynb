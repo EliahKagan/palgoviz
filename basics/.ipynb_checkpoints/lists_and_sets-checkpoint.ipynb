{
 "cells": [
  {
   "cell_type": "markdown",
   "id": "5fec8479-1d0d-4315-a613-8532ab556aa3",
   "metadata": {},
   "source": [
    "# Lists and sets"
   ]
  },
  {
   "cell_type": "code",
   "execution_count": 1,
   "id": "5d13649e-0f47-4a98-910a-a6cd3a39fc0e",
   "metadata": {},
   "outputs": [],
   "source": [
    "namelist = []"
   ]
  },
  {
   "cell_type": "code",
   "execution_count": 2,
   "id": "2c65fe0b-d194-47a6-8559-3801ce175e56",
   "metadata": {},
   "outputs": [
    {
     "data": {
      "text/plain": [
       "[]"
      ]
     },
     "execution_count": 2,
     "metadata": {},
     "output_type": "execute_result"
    }
   ],
   "source": [
    "[]"
   ]
  },
  {
   "cell_type": "code",
   "execution_count": 3,
   "id": "76a0a575-b545-4113-9804-b2d1403bdddf",
   "metadata": {},
   "outputs": [
    {
     "data": {
      "text/plain": [
       "list"
      ]
     },
     "execution_count": 3,
     "metadata": {},
     "output_type": "execute_result"
    }
   ],
   "source": [
    "type([])"
   ]
  },
  {
   "cell_type": "code",
   "execution_count": 4,
   "id": "1276a982-56b8-447f-9f52-a99b7f3dafd8",
   "metadata": {
    "tags": [
     "raises-exception"
    ]
   },
   "outputs": [
    {
     "ename": "TypeError",
     "evalue": "can only concatenate list (not \"str\") to list",
     "output_type": "error",
     "traceback": [
      "\u001b[1;31m---------------------------------------------------------------------------\u001b[0m",
      "\u001b[1;31mTypeError\u001b[0m                                 Traceback (most recent call last)",
      "Input \u001b[1;32mIn [4]\u001b[0m, in \u001b[0;36m<module>\u001b[1;34m\u001b[0m\n\u001b[1;32m----> 1\u001b[0m namelist \u001b[38;5;241m=\u001b[39m \u001b[43mnamelist\u001b[49m\u001b[43m \u001b[49m\u001b[38;5;241;43m+\u001b[39;49m\u001b[43m \u001b[49m\u001b[38;5;124;43m\"\u001b[39;49m\u001b[38;5;124;43mhello\u001b[39;49m\u001b[38;5;124;43m\"\u001b[39;49m\n",
      "\u001b[1;31mTypeError\u001b[0m: can only concatenate list (not \"str\") to list"
     ]
    }
   ],
   "source": [
    "namelist = namelist + \"hello\" "
   ]
  },
  {
   "cell_type": "code",
   "execution_count": 5,
   "id": "1f4ce58f-f63b-46ee-8608-2c4fc5fb53fd",
   "metadata": {
    "tags": [
     "raises-exception"
    ]
   },
   "outputs": [
    {
     "ename": "TypeError",
     "evalue": "can only concatenate list (not \"str\") to list",
     "output_type": "error",
     "traceback": [
      "\u001b[1;31m---------------------------------------------------------------------------\u001b[0m",
      "\u001b[1;31mTypeError\u001b[0m                                 Traceback (most recent call last)",
      "Input \u001b[1;32mIn [5]\u001b[0m, in \u001b[0;36m<module>\u001b[1;34m\u001b[0m\n\u001b[1;32m----> 1\u001b[0m \u001b[43mnamelist\u001b[49m\u001b[43m \u001b[49m\u001b[38;5;241;43m+\u001b[39;49m\u001b[43m \u001b[49m\u001b[38;5;124;43m\"\u001b[39;49m\u001b[38;5;124;43mhello\u001b[39;49m\u001b[38;5;124;43m\"\u001b[39;49m\n",
      "\u001b[1;31mTypeError\u001b[0m: can only concatenate list (not \"str\") to list"
     ]
    }
   ],
   "source": [
    "namelist + \"hello\" "
   ]
  },
  {
   "cell_type": "code",
   "execution_count": 6,
   "id": "373b3e2e-906d-4529-b716-046116685883",
   "metadata": {},
   "outputs": [],
   "source": [
    "namelist.append(\"hello\")"
   ]
  },
  {
   "cell_type": "code",
   "execution_count": 7,
   "id": "7e164da9-e734-4440-b31c-80edaadc549f",
   "metadata": {},
   "outputs": [
    {
     "data": {
      "text/plain": [
       "['hello']"
      ]
     },
     "execution_count": 7,
     "metadata": {},
     "output_type": "execute_result"
    }
   ],
   "source": [
    "namelist"
   ]
  },
  {
   "cell_type": "code",
   "execution_count": 8,
   "id": "5d9561bc-853e-4b66-bf0e-01be72ffbcac",
   "metadata": {},
   "outputs": [
    {
     "data": {
      "text/plain": [
       "[]"
      ]
     },
     "execution_count": 8,
     "metadata": {},
     "output_type": "execute_result"
    }
   ],
   "source": [
    "[]"
   ]
  },
  {
   "cell_type": "code",
   "execution_count": 9,
   "id": "4fea41df-798c-442c-bd6e-8cf333d2ee42",
   "metadata": {},
   "outputs": [
    {
     "data": {
      "text/plain": [
       "[]"
      ]
     },
     "execution_count": 9,
     "metadata": {},
     "output_type": "execute_result"
    }
   ],
   "source": [
    "list()"
   ]
  },
  {
   "cell_type": "code",
   "execution_count": 10,
   "id": "9728a662-11ab-44cc-817b-941996547fbe",
   "metadata": {},
   "outputs": [
    {
     "data": {
      "text/plain": [
       "{}"
      ]
     },
     "execution_count": 10,
     "metadata": {},
     "output_type": "execute_result"
    }
   ],
   "source": [
    "{}"
   ]
  },
  {
   "cell_type": "code",
   "execution_count": 11,
   "id": "0527e0dc-b1bd-44f3-9488-832ab89dc8c4",
   "metadata": {},
   "outputs": [
    {
     "data": {
      "text/plain": [
       "{}"
      ]
     },
     "execution_count": 11,
     "metadata": {},
     "output_type": "execute_result"
    }
   ],
   "source": [
    "dict()"
   ]
  },
  {
   "cell_type": "code",
   "execution_count": 12,
   "id": "18da243f-3b9e-4353-960e-5d5a67bde50c",
   "metadata": {},
   "outputs": [
    {
     "data": {
      "text/plain": [
       "()"
      ]
     },
     "execution_count": 12,
     "metadata": {},
     "output_type": "execute_result"
    }
   ],
   "source": [
    "()"
   ]
  },
  {
   "cell_type": "code",
   "execution_count": 13,
   "id": "9a6e43de-0245-4a23-bed0-c50bbfff1a46",
   "metadata": {},
   "outputs": [
    {
     "data": {
      "text/plain": [
       "()"
      ]
     },
     "execution_count": 13,
     "metadata": {},
     "output_type": "execute_result"
    }
   ],
   "source": [
    "tuple()"
   ]
  },
  {
   "cell_type": "code",
   "execution_count": 14,
   "id": "96878c7c-167e-483b-8429-4950ba36a788",
   "metadata": {},
   "outputs": [
    {
     "data": {
      "text/plain": [
       "set()"
      ]
     },
     "execution_count": 14,
     "metadata": {},
     "output_type": "execute_result"
    }
   ],
   "source": [
    "set()"
   ]
  },
  {
   "cell_type": "code",
   "execution_count": 15,
   "id": "da4876ea-7d13-44d7-aa49-619f145b97fa",
   "metadata": {},
   "outputs": [
    {
     "data": {
      "text/plain": [
       "{10, 20, 30}"
      ]
     },
     "execution_count": 15,
     "metadata": {},
     "output_type": "execute_result"
    }
   ],
   "source": [
    "{10, 20, 30}"
   ]
  },
  {
   "cell_type": "code",
   "execution_count": 16,
   "id": "25a8e513-f872-4138-9797-a9b8bd15e8cf",
   "metadata": {},
   "outputs": [],
   "source": [
    "s = set()"
   ]
  },
  {
   "cell_type": "code",
   "execution_count": 17,
   "id": "91893d5d-0c9d-4295-a531-8afa525fc5b4",
   "metadata": {},
   "outputs": [
    {
     "data": {
      "text/plain": [
       "set()"
      ]
     },
     "execution_count": 17,
     "metadata": {},
     "output_type": "execute_result"
    }
   ],
   "source": [
    "s"
   ]
  },
  {
   "cell_type": "code",
   "execution_count": 18,
   "id": "cbb543c7-0253-4f35-a935-dd13934aabe9",
   "metadata": {},
   "outputs": [],
   "source": [
    "for x in range(1, 1_000_001): # with for\n",
    "    s.add(x)"
   ]
  },
  {
   "cell_type": "code",
   "execution_count": 19,
   "id": "f6858bc4-6f3e-4b5d-a5a1-a277c25ba6b7",
   "metadata": {},
   "outputs": [
    {
     "data": {
      "text/plain": [
       "1000000"
      ]
     },
     "execution_count": 19,
     "metadata": {},
     "output_type": "execute_result"
    }
   ],
   "source": [
    "len(s)"
   ]
  },
  {
   "cell_type": "code",
   "execution_count": 20,
   "id": "607968bd-8d9c-4e42-86c0-22ebbcabb18f",
   "metadata": {},
   "outputs": [],
   "source": [
    "s = set(x for x in range(1, 2_000_001)) # with generator"
   ]
  },
  {
   "cell_type": "code",
   "execution_count": 21,
   "id": "1cd2ce49-0745-45cd-aeca-25cac981c1c1",
   "metadata": {},
   "outputs": [
    {
     "data": {
      "text/plain": [
       "2000000"
      ]
     },
     "execution_count": 21,
     "metadata": {},
     "output_type": "execute_result"
    }
   ],
   "source": [
    "len(s)"
   ]
  },
  {
   "cell_type": "code",
   "execution_count": 22,
   "id": "ed762932-4432-4eae-911b-d4a47023d789",
   "metadata": {},
   "outputs": [],
   "source": [
    "s = {x for x in range(1, 3_000_001)} # with set comprehension"
   ]
  },
  {
   "cell_type": "code",
   "execution_count": 23,
   "id": "9355fc72-9960-46db-b6f2-27e32a95a4f1",
   "metadata": {},
   "outputs": [
    {
     "data": {
      "text/plain": [
       "3000000"
      ]
     },
     "execution_count": 23,
     "metadata": {},
     "output_type": "execute_result"
    }
   ],
   "source": [
    "len(s)"
   ]
  },
  {
   "cell_type": "code",
   "execution_count": 24,
   "id": "882540dc-e173-4d6b-8f91-a83abe274681",
   "metadata": {},
   "outputs": [
    {
     "data": {
      "text/plain": [
       "True"
      ]
     },
     "execution_count": 24,
     "metadata": {},
     "output_type": "execute_result"
    }
   ],
   "source": [
    "set([]) == set()"
   ]
  },
  {
   "cell_type": "code",
   "execution_count": 25,
   "id": "59740043-18c3-4e8a-83d9-ac719753986d",
   "metadata": {},
   "outputs": [],
   "source": [
    "# simplifing stuff"
   ]
  },
  {
   "cell_type": "code",
   "execution_count": 26,
   "id": "5c91dfd4-3af1-426d-91ff-e9042dbd41fd",
   "metadata": {},
   "outputs": [],
   "source": [
    "s = {*range(1, 4_000_001)}"
   ]
  },
  {
   "cell_type": "code",
   "execution_count": 27,
   "id": "c50b6ae0-1fda-4832-8a88-53cd2df8756d",
   "metadata": {},
   "outputs": [
    {
     "data": {
      "text/plain": [
       "4000000"
      ]
     },
     "execution_count": 27,
     "metadata": {},
     "output_type": "execute_result"
    }
   ],
   "source": [
    "len(s)"
   ]
  },
  {
   "cell_type": "code",
   "execution_count": 28,
   "id": "83c8add1-40f4-408f-a413-e4dedb3ec2bc",
   "metadata": {},
   "outputs": [],
   "source": [
    "s = set(range(1, 1_000_001))"
   ]
  },
  {
   "cell_type": "code",
   "execution_count": 29,
   "id": "7fe40b56-48fd-4a51-9238-e2234fa9afd0",
   "metadata": {},
   "outputs": [
    {
     "data": {
      "text/plain": [
       "1000000"
      ]
     },
     "execution_count": 29,
     "metadata": {},
     "output_type": "execute_result"
    }
   ],
   "source": [
    "len(s)"
   ]
  },
  {
   "cell_type": "markdown",
   "id": "728bfab7-a347-4dcb-8771-c1c0bdf067e6",
   "metadata": {},
   "source": [
    "If you want something like `list` but that is immutable (and hashable), you use `tuple`."
   ]
  },
  {
   "cell_type": "markdown",
   "id": "d1f3680f-f88f-4821-9049-a6d48fef2b46",
   "metadata": {},
   "source": [
    "If you want something like `set` but that is immutable (and hashable), you use `frozenset`."
   ]
  },
  {
   "cell_type": "code",
   "execution_count": 33,
   "id": "7ad66d13-86cd-4678-b359-04020a19d0bf",
   "metadata": {},
   "outputs": [],
   "source": [
    "fs = frozenset([1, 2, 3, 4, 5])"
   ]
  },
  {
   "cell_type": "code",
   "execution_count": 34,
   "id": "964dce78-a3a6-439e-8bb3-ec6b0063d03a",
   "metadata": {},
   "outputs": [
    {
     "data": {
      "text/plain": [
       "frozenset({1, 2, 3, 4, 5})"
      ]
     },
     "execution_count": 34,
     "metadata": {},
     "output_type": "execute_result"
    }
   ],
   "source": [
    "fs"
   ]
  },
  {
   "cell_type": "code",
   "execution_count": 35,
   "id": "7ad007a1-0eb1-4745-83a6-6587ba8ed35b",
   "metadata": {},
   "outputs": [
    {
     "data": {
      "text/plain": [
       "5"
      ]
     },
     "execution_count": 35,
     "metadata": {},
     "output_type": "execute_result"
    }
   ],
   "source": [
    "len(fs)"
   ]
  },
  {
   "cell_type": "code",
   "execution_count": 36,
   "id": "bec76c6f-4d90-467c-b2fd-1dec15791298",
   "metadata": {},
   "outputs": [
    {
     "data": {
      "text/plain": [
       "-3779889356588604112"
      ]
     },
     "execution_count": 36,
     "metadata": {},
     "output_type": "execute_result"
    }
   ],
   "source": [
    "hash(fs)"
   ]
  },
  {
   "cell_type": "code",
   "execution_count": 37,
   "id": "2844aaa4-df8d-4557-93f1-617bc12eaaf7",
   "metadata": {},
   "outputs": [],
   "source": [
    "d = {fs: '2'}"
   ]
  },
  {
   "cell_type": "code",
   "execution_count": 38,
   "id": "a6def2cf-b73a-4b88-9f7b-53b6f89804ed",
   "metadata": {},
   "outputs": [
    {
     "data": {
      "text/plain": [
       "'2'"
      ]
     },
     "execution_count": 38,
     "metadata": {},
     "output_type": "execute_result"
    }
   ],
   "source": [
    "d[fs]"
   ]
  },
  {
   "cell_type": "code",
   "execution_count": 39,
   "id": "7fe7564b-dec8-4a97-9d32-c5c60ff7afcb",
   "metadata": {},
   "outputs": [
    {
     "data": {
      "text/plain": [
       "{frozenset({1, 2, 3, 4, 5}): '2'}"
      ]
     },
     "execution_count": 39,
     "metadata": {},
     "output_type": "execute_result"
    }
   ],
   "source": [
    "d"
   ]
  },
  {
   "cell_type": "code",
   "execution_count": 40,
   "id": "09605274-9171-457b-bd79-900f449e9e39",
   "metadata": {
    "tags": [
     "raises-exception"
    ]
   },
   "outputs": [
    {
     "ename": "AttributeError",
     "evalue": "'frozenset' object has no attribute 'add'",
     "output_type": "error",
     "traceback": [
      "\u001b[1;31m---------------------------------------------------------------------------\u001b[0m",
      "\u001b[1;31mAttributeError\u001b[0m                            Traceback (most recent call last)",
      "Input \u001b[1;32mIn [40]\u001b[0m, in \u001b[0;36m<module>\u001b[1;34m\u001b[0m\n\u001b[1;32m----> 1\u001b[0m \u001b[43mfs\u001b[49m\u001b[38;5;241;43m.\u001b[39;49m\u001b[43madd\u001b[49m(\u001b[38;5;241m6\u001b[39m)\n",
      "\u001b[1;31mAttributeError\u001b[0m: 'frozenset' object has no attribute 'add'"
     ]
    }
   ],
   "source": [
    "fs.add(6)"
   ]
  },
  {
   "cell_type": "code",
   "execution_count": null,
   "id": "05881570-b9be-4989-a164-4b65ad37a122",
   "metadata": {},
   "outputs": [],
   "source": []
  }
 ],
 "metadata": {
  "kernelspec": {
   "display_name": "Python 3 (ipykernel)",
   "language": "python",
   "name": "python3"
  },
  "language_info": {
   "codemirror_mode": {
    "name": "ipython",
    "version": 3
   },
   "file_extension": ".py",
   "mimetype": "text/x-python",
   "name": "python",
   "nbconvert_exporter": "python",
   "pygments_lexer": "ipython3",
   "version": "3.10.2"
  }
 },
 "nbformat": 4,
 "nbformat_minor": 5
}
