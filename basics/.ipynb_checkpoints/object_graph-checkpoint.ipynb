{
 "cells": [
  {
   "cell_type": "markdown",
   "id": "f968b539-42db-4b36-bda3-53c75b49bb07",
   "metadata": {},
   "source": [
    "# Trying out `object_graph.py` visualizers"
   ]
  },
  {
   "cell_type": "code",
   "execution_count": null,
   "id": "f2dd83c6-4860-4b65-8be9-5b10a95a980b",
   "metadata": {},
   "outputs": [],
   "source": [
    "import itertools\n",
    "import sys\n",
    "\n",
    "from fibonacci import fib_nest\n",
    "from object_graph import draw_one_tuple, draw_tuples\n",
    "from recursion import nest"
   ]
  },
  {
   "cell_type": "code",
   "execution_count": null,
   "id": "26e772ad-5f4a-479b-a69c-a9251fa51e5c",
   "metadata": {},
   "outputs": [],
   "source": [
    "draw_one_tuple(3)"
   ]
  },
  {
   "cell_type": "code",
   "execution_count": null,
   "id": "8f081a83-494c-4105-b093-15131f9cadb6",
   "metadata": {},
   "outputs": [],
   "source": [
    "draw_one_tuple((3,))"
   ]
  },
  {
   "cell_type": "code",
   "execution_count": null,
   "id": "80e54d20-f4cd-4276-a3ad-dbaa434c0cd0",
   "metadata": {},
   "outputs": [],
   "source": [
    "draw_one_tuple((2**64, 2**64))"
   ]
  },
  {
   "cell_type": "code",
   "execution_count": null,
   "id": "84317e59-a544-4c50-8384-71459a45c20e",
   "metadata": {},
   "outputs": [],
   "source": [
    "draw_one_tuple((2**65, 2**65))"
   ]
  },
  {
   "cell_type": "code",
   "execution_count": null,
   "id": "1a4c778f-7431-4701-b760-913653f0124a",
   "metadata": {},
   "outputs": [],
   "source": [
    "t = (10, ((20, 30), (40, (50, (60,)))))\n",
    "draw_one_tuple(t)"
   ]
  },
  {
   "cell_type": "code",
   "execution_count": null,
   "id": "5d10de45-6ae2-4b92-b94a-ec89b2b960ea",
   "metadata": {},
   "outputs": [],
   "source": [
    "t = (10, ([20, 30], [40, (50, [60])]))\n",
    "draw_one_tuple(t)"
   ]
  },
  {
   "cell_type": "code",
   "execution_count": null,
   "id": "84330353-7ef4-4e2b-9f54-84909259d0e2",
   "metadata": {},
   "outputs": [],
   "source": [
    "# t = ((((0, 1), (1, (0, 1))), ((1, (0, 1)), ((0, 1), (1, (0, 1))))),\n",
    "#      (((1, (0, 1)), ((0, 1), (1, (0, 1)))),\n",
    "#       (((0, 1), (1, (0, 1))), ((1, (0, 1)), ((0, 1), (1, (0, 1)))))))\n",
    "# draw_one_tuple(t)\n",
    "draw_one_tuple(fib_nest(8))  # De-duplication guaranteed."
   ]
  },
  {
   "cell_type": "code",
   "execution_count": null,
   "id": "e174ece5-74d4-415e-b6bd-b140d9c2557a",
   "metadata": {},
   "outputs": [],
   "source": [
    "t = ((((0, 1), (1, (0, 1))), ((1, (0, 1)), ((0, 1), (1, (0, 1))))),\n",
    "     (((1, (0, 1)), ((0, 1), (1, (0, 1)))),\n",
    "      (((0, 1), (1, (0, 1))), ((1, (0, 1)), ((0, 1), (1, (0, 1)))))))\n",
    "draw_one_tuple(t)  # De-duplication not guaranteed."
   ]
  },
  {
   "cell_type": "code",
   "execution_count": null,
   "id": "6efd53e1-20bc-4a98-8f77-f36f5276d2af",
   "metadata": {},
   "outputs": [],
   "source": [
    "draw_tuples()  # Produces an empty graph."
   ]
  },
  {
   "cell_type": "code",
   "execution_count": null,
   "id": "62d1c6d7-ece5-40e1-a1e3-3b8dfcdc6d29",
   "metadata": {},
   "outputs": [],
   "source": [
    "t = 3\n",
    "draw_tuples(t, t, t, t, t, t, t, t)  # Guaranteed to have only 1 node."
   ]
  },
  {
   "cell_type": "code",
   "execution_count": null,
   "id": "b2435a2c-87d5-4908-84bf-1a0f7e3441b9",
   "metadata": {},
   "outputs": [],
   "source": [
    "t = (10, ((20, 30), (40, (50, (60,)))))\n",
    "draw_tuples(t)  # Same as draw_one_tuple."
   ]
  },
  {
   "cell_type": "code",
   "execution_count": null,
   "id": "b8840bc0-ffef-40c5-9ea0-9de620d0cf39",
   "metadata": {},
   "outputs": [],
   "source": [
    "t = (5, (10, 20))\n",
    "u = ((10, 20), 30)\n",
    "draw_tuples(t, u)"
   ]
  },
  {
   "cell_type": "code",
   "execution_count": null,
   "id": "6a28e1e5-d590-4723-8fa4-d238f237301c",
   "metadata": {},
   "outputs": [],
   "source": [
    "t = ('A', 'B', 'C', 'D', 'E')\n",
    "u = ('A', 'B')\n",
    "v = ('D', 'E')\n",
    "w = (u, v)\n",
    "x = (t, w)\n",
    "draw_tuples(w, x)"
   ]
  },
  {
   "cell_type": "code",
   "execution_count": null,
   "id": "1c849969-0b72-4df9-81b1-2f7485334821",
   "metadata": {},
   "outputs": [],
   "source": [
    "t = ((('A', 'B'), ('C', 'D')), ('E', 'F'), ('G', 'H'))\n",
    "u = (('C', 'D'), ('E', 'F'))\n",
    "v = (('A', 'B'), ('G', 'H'))\n",
    "draw_tuples(t, u, v)"
   ]
  },
  {
   "cell_type": "code",
   "execution_count": null,
   "id": "c8a18ccd-04c7-4d89-a0d8-44f885ac4b50",
   "metadata": {},
   "outputs": [],
   "source": [
    "t = ((), ((), ((), ((), ((), ((), ((), ((), ((), ((), 'hello'))))))))))\n",
    "u = ('hello', ())\n",
    "v = ((), ())\n",
    "w = ('hello', 'hello')\n",
    "draw_tuples(t, u, v, w)"
   ]
  },
  {
   "cell_type": "code",
   "execution_count": null,
   "id": "046074fa-687c-4346-8212-b5e5120ac95c",
   "metadata": {},
   "outputs": [],
   "source": [
    "draw_tuples(nest(seed='X', degree=2, height=4), nest(seed='Y', degree=3, height=2))"
   ]
  },
  {
   "cell_type": "code",
   "execution_count": null,
   "id": "e45330fb-392d-459e-8347-7e16afd363dd",
   "metadata": {},
   "outputs": [],
   "source": [
    "draw_tuples(nest(seed=('X', ()), degree=2, height=4), nest(seed=((), 'Y'), degree=3, height=2))"
   ]
  },
  {
   "cell_type": "code",
   "execution_count": null,
   "id": "bd9858a5-23b7-4998-9b9f-87f222636e57",
   "metadata": {},
   "outputs": [],
   "source": [
    "draw_tuples(*range(1, 6))  # All isolated vertices (the graph has no edges)."
   ]
  },
  {
   "cell_type": "code",
   "execution_count": null,
   "id": "79088376-10d3-4aa7-ad0f-9886f6c252f3",
   "metadata": {},
   "outputs": [],
   "source": [
    "t = ((2, 7, 1), (8, 6), (9, (4, 5)), ((((5, 4), 3), 2), 1))\n",
    "draw_tuples(t)"
   ]
  },
  {
   "cell_type": "code",
   "execution_count": null,
   "id": "f25c327c-45f0-4477-8037-b08520f1a7a5",
   "metadata": {},
   "outputs": [],
   "source": [
    "draw_tuples(t, (3, 6))"
   ]
  },
  {
   "cell_type": "code",
   "execution_count": null,
   "id": "dde0cf6a-1e12-48b2-b864-2b6c6953d03e",
   "metadata": {},
   "outputs": [],
   "source": [
    "draw_tuples((2, 7, 1), (8, 6), (9, (4, 5)), ((((5, 4), 3), 2), 1))"
   ]
  },
  {
   "cell_type": "code",
   "execution_count": null,
   "id": "b0926f2b-b217-4691-8512-bc0c63258f49",
   "metadata": {},
   "outputs": [],
   "source": [
    "draw_tuples((2, 7, 1), (8, 6), (9, (4, 5)), ((((5, 4), 3), 2), 1), (3, 6))"
   ]
  },
  {
   "cell_type": "code",
   "execution_count": null,
   "id": "5a8d921f-6237-4f31-a33e-ec0bc89e4b10",
   "metadata": {},
   "outputs": [],
   "source": [
    "# De-duplication across nest() calls is not guaranteed and will usually be incomplete.\n",
    "draw_tuples(*(nest(seed=(), degree=2, height=h) for h in range(10)))"
   ]
  },
  {
   "cell_type": "code",
   "execution_count": null,
   "id": "f842df47-d696-4546-a0b5-17cc67d4169b",
   "metadata": {},
   "outputs": [],
   "source": [
    "# Same deal with fib_nest() calls.\n",
    "draw_tuples(*(fib_nest(i) for i in range(12)))"
   ]
  },
  {
   "cell_type": "code",
   "execution_count": null,
   "id": "a785dd4c-6703-4113-b4d6-88b293e86ea7",
   "metadata": {},
   "outputs": [],
   "source": [
    "# Just for fun.\n",
    "draw_tuples(*(nest(seed=(), degree=d, height=h) for d in range(5) for h in range(7)))"
   ]
  },
  {
   "cell_type": "code",
   "execution_count": null,
   "id": "265137da-ae0a-44a4-8c9a-f2d4e9e422cb",
   "metadata": {},
   "outputs": [],
   "source": [
    "draw_tuples(*(nest(seed=fib_nest(n), degree=n, height=n) for n in range(8)))"
   ]
  },
  {
   "cell_type": "code",
   "execution_count": null,
   "id": "fdf6328b-7f5f-41a0-8ec1-cb15e8ca8552",
   "metadata": {},
   "outputs": [],
   "source": [
    "def make_binary_tree(height, start=0):\n",
    "    leaves = itertools.count(start)\n",
    "    \n",
    "    def make_subtree(h):\n",
    "        if h == 0:\n",
    "            return next(leaves)\n",
    "        return (make_subtree(h - 1), make_subtree(h - 1))\n",
    "    \n",
    "    return make_subtree(height)"
   ]
  },
  {
   "cell_type": "code",
   "execution_count": null,
   "id": "5217cc7f-039b-4e59-8253-2cbd8692222f",
   "metadata": {},
   "outputs": [],
   "source": [
    "draw_tuples(make_binary_tree(3))"
   ]
  },
  {
   "cell_type": "code",
   "execution_count": null,
   "id": "bbe07074-3ec8-4937-86d4-76157832e300",
   "metadata": {},
   "outputs": [],
   "source": [
    "draw_tuples(make_binary_tree(3), make_binary_tree(3))"
   ]
  },
  {
   "cell_type": "code",
   "execution_count": null,
   "id": "40daaeaf-fee7-4142-925c-59c18f90b72c",
   "metadata": {},
   "outputs": [],
   "source": [
    "draw_tuples(make_binary_tree(3, 1), make_binary_tree(3, 2))"
   ]
  },
  {
   "cell_type": "code",
   "execution_count": null,
   "id": "4020c23e-dd57-4d79-9ff0-55e9c7142e61",
   "metadata": {},
   "outputs": [],
   "source": [
    "draw_tuples(make_binary_tree(3, 1), make_binary_tree(3, 3))"
   ]
  },
  {
   "cell_type": "code",
   "execution_count": null,
   "id": "d900ef86-932f-4ecc-95a9-c21158faccfc",
   "metadata": {},
   "outputs": [],
   "source": [
    "draw_tuples(sys.version_info, tuple(sys.version_info))"
   ]
  },
  {
   "cell_type": "code",
   "execution_count": null,
   "id": "71b433b9-a20c-4f74-912c-7ab834f42292",
   "metadata": {},
   "outputs": [],
   "source": [
    "draw_tuples(*(tuple(sys.version_info) for _ in range(25)))"
   ]
  },
  {
   "cell_type": "code",
   "execution_count": null,
   "id": "74a455ef-9ab9-4d09-a3aa-291d7ead0ea6",
   "metadata": {},
   "outputs": [],
   "source": [
    "draw_tuples(draw_tuples.__code__.co_varnames,  # Variables no enclosed scope captures.\n",
    "            draw_tuples.__code__.co_cellvars)  # Variables some enclosed scope captures."
   ]
  },
  {
   "cell_type": "code",
   "execution_count": null,
   "id": "b8f05b6d-44bc-41cf-b37d-e7163778fe63",
   "metadata": {},
   "outputs": [],
   "source": [
    "# draw_tuples(lambda x: x)  # The semipredicate problem."
   ]
  },
  {
   "cell_type": "code",
   "execution_count": null,
   "id": "e80b187d-4c21-4792-9a8e-a7487cb92bda",
   "metadata": {},
   "outputs": [],
   "source": []
  }
 ],
 "metadata": {
  "kernelspec": {
   "display_name": "Python 3 (ipykernel)",
   "language": "python",
   "name": "python3"
  },
  "language_info": {
   "codemirror_mode": {
    "name": "ipython",
    "version": 3
   },
   "file_extension": ".py",
   "mimetype": "text/x-python",
   "name": "python",
   "nbconvert_exporter": "python",
   "pygments_lexer": "ipython3",
   "version": "3.10.2"
  }
 },
 "nbformat": 4,
 "nbformat_minor": 5
}
