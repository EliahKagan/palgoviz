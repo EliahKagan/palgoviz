{
 "cells": [
  {
   "cell_type": "markdown",
   "id": "f968b539-42db-4b36-bda3-53c75b49bb07",
   "metadata": {},
   "source": [
    "# Trying out `object_graph.py` visualizers"
   ]
  },
  {
   "cell_type": "code",
   "execution_count": 1,
   "id": "f2dd83c6-4860-4b65-8be9-5b10a95a980b",
   "metadata": {},
   "outputs": [],
   "source": [
    "import itertools\n",
    "import sys\n",
    "\n",
    "from fibonacci import fib_nest\n",
    "from object_graph import draw_one_tuple, draw_tuples\n",
    "from recursion import nest"
   ]
  },
  {
   "cell_type": "code",
   "execution_count": 2,
   "id": "26e772ad-5f4a-479b-a69c-a9251fa51e5c",
   "metadata": {},
   "outputs": [
    {
     "ename": "TypeError",
     "evalue": "expected string or bytes-like object",
     "output_type": "error",
     "traceback": [
      "\u001b[1;31m---------------------------------------------------------------------------\u001b[0m",
      "\u001b[1;31mTypeError\u001b[0m                                 Traceback (most recent call last)",
      "Input \u001b[1;32mIn [2]\u001b[0m, in \u001b[0;36m<module>\u001b[1;34m\u001b[0m\n\u001b[1;32m----> 1\u001b[0m \u001b[43mdraw_one_tuple\u001b[49m\u001b[43m(\u001b[49m\u001b[38;5;241;43m3\u001b[39;49m\u001b[43m)\u001b[49m\n",
      "File \u001b[1;32m~\\source\\repos\\algoviz\\basics\\object_graph.py:39\u001b[0m, in \u001b[0;36mdraw_one_tuple\u001b[1;34m(root)\u001b[0m\n\u001b[0;32m     36\u001b[0m         graph\u001b[38;5;241m.\u001b[39medge(\u001b[38;5;28mid\u001b[39m(parent), \u001b[38;5;28mid\u001b[39m(traverse(child)))\n\u001b[0;32m     37\u001b[0m     \u001b[38;5;28;01mreturn\u001b[39;00m parent\n\u001b[1;32m---> 39\u001b[0m \u001b[43mtraverse\u001b[49m\u001b[43m(\u001b[49m\u001b[43mroot\u001b[49m\u001b[43m)\u001b[49m\n\u001b[0;32m     40\u001b[0m \u001b[38;5;28;01mreturn\u001b[39;00m graph\n",
      "File \u001b[1;32m~\\source\\repos\\algoviz\\basics\\decorators.py:225\u001b[0m, in \u001b[0;36mmemoize_by.<locals>.decorator.<locals>.wrapper\u001b[1;34m(arg)\u001b[0m\n\u001b[0;32m    222\u001b[0m \u001b[38;5;129m@functools\u001b[39m\u001b[38;5;241m.\u001b[39mwraps(func)\n\u001b[0;32m    223\u001b[0m \u001b[38;5;28;01mdef\u001b[39;00m \u001b[38;5;21mwrapper\u001b[39m(arg):\n\u001b[0;32m    224\u001b[0m     \u001b[38;5;28;01mif\u001b[39;00m key(arg) \u001b[38;5;129;01mnot\u001b[39;00m \u001b[38;5;129;01min\u001b[39;00m cache:\n\u001b[1;32m--> 225\u001b[0m         cache[key(arg)] \u001b[38;5;241m=\u001b[39m \u001b[43mfunc\u001b[49m\u001b[43m(\u001b[49m\u001b[43marg\u001b[49m\u001b[43m)\u001b[49m\n\u001b[0;32m    226\u001b[0m     \u001b[38;5;28;01mreturn\u001b[39;00m cache[key(arg)]\n",
      "File \u001b[1;32m~\\source\\repos\\algoviz\\basics\\object_graph.py:31\u001b[0m, in \u001b[0;36mdraw_one_tuple.<locals>.traverse\u001b[1;34m(parent)\u001b[0m\n\u001b[0;32m     28\u001b[0m \u001b[38;5;129m@decorators\u001b[39m\u001b[38;5;241m.\u001b[39mmemoize_by(\u001b[38;5;28mid\u001b[39m)\n\u001b[0;32m     29\u001b[0m \u001b[38;5;28;01mdef\u001b[39;00m \u001b[38;5;21mtraverse\u001b[39m(parent):\n\u001b[0;32m     30\u001b[0m     \u001b[38;5;28;01mif\u001b[39;00m \u001b[38;5;129;01mnot\u001b[39;00m \u001b[38;5;28misinstance\u001b[39m(parent, \u001b[38;5;28mtuple\u001b[39m):\n\u001b[1;32m---> 31\u001b[0m         \u001b[43mgraph\u001b[49m\u001b[38;5;241;43m.\u001b[39;49m\u001b[43mnode\u001b[49m\u001b[43m(\u001b[49m\u001b[38;5;28;43mid\u001b[39;49m\u001b[43m(\u001b[49m\u001b[43mparent\u001b[49m\u001b[43m)\u001b[49m\u001b[43m,\u001b[49m\u001b[43m \u001b[49m\u001b[43mlabel\u001b[49m\u001b[38;5;241;43m=\u001b[39;49m\u001b[38;5;28;43mrepr\u001b[39;49m\u001b[43m(\u001b[49m\u001b[43mparent\u001b[49m\u001b[43m)\u001b[49m\u001b[43m)\u001b[49m\n\u001b[0;32m     32\u001b[0m         \u001b[38;5;28;01mreturn\u001b[39;00m parent\n\u001b[0;32m     34\u001b[0m     graph\u001b[38;5;241m.\u001b[39mnode(\u001b[38;5;28mid\u001b[39m(parent), shape\u001b[38;5;241m=\u001b[39m\u001b[38;5;124m'\u001b[39m\u001b[38;5;124mpoint\u001b[39m\u001b[38;5;124m'\u001b[39m)\n",
      "File \u001b[1;32m~\\miniforge3\\envs\\algoviz-basics\\lib\\site-packages\\graphviz\\_tools.py:172\u001b[0m, in \u001b[0;36mdeprecate_positional_args.<locals>.decorator.<locals>.wrapper\u001b[1;34m(*args, **kwargs)\u001b[0m\n\u001b[0;32m    163\u001b[0m     wanted \u001b[38;5;241m=\u001b[39m \u001b[38;5;124m'\u001b[39m\u001b[38;5;124m, \u001b[39m\u001b[38;5;124m'\u001b[39m\u001b[38;5;241m.\u001b[39mjoin(\u001b[38;5;124mf\u001b[39m\u001b[38;5;124m'\u001b[39m\u001b[38;5;132;01m{\u001b[39;00mname\u001b[38;5;132;01m}\u001b[39;00m\u001b[38;5;124m=\u001b[39m\u001b[38;5;132;01m{\u001b[39;00mvalue\u001b[38;5;132;01m!r}\u001b[39;00m\u001b[38;5;124m'\u001b[39m\n\u001b[0;32m    164\u001b[0m                        \u001b[38;5;28;01mfor\u001b[39;00m name, value \u001b[38;5;129;01min\u001b[39;00m deprecated\u001b[38;5;241m.\u001b[39mitems())\n\u001b[0;32m    165\u001b[0m     warnings\u001b[38;5;241m.\u001b[39mwarn(\u001b[38;5;124mf\u001b[39m\u001b[38;5;124m'\u001b[39m\u001b[38;5;124mThe signature of \u001b[39m\u001b[38;5;132;01m{\u001b[39;00mfunc\u001b[38;5;241m.\u001b[39m\u001b[38;5;18m__name__\u001b[39m\u001b[38;5;132;01m}\u001b[39;00m\u001b[38;5;124m will be reduced\u001b[39m\u001b[38;5;124m'\u001b[39m\n\u001b[0;32m    166\u001b[0m                   \u001b[38;5;124mf\u001b[39m\u001b[38;5;124m'\u001b[39m\u001b[38;5;124m to \u001b[39m\u001b[38;5;132;01m{\u001b[39;00msupported_number\u001b[38;5;132;01m}\u001b[39;00m\u001b[38;5;124m positional args\u001b[39m\u001b[38;5;124m'\u001b[39m\n\u001b[0;32m    167\u001b[0m                   \u001b[38;5;124mf\u001b[39m\u001b[38;5;124m'\u001b[39m\u001b[38;5;124m \u001b[39m\u001b[38;5;132;01m{\u001b[39;00m\u001b[38;5;28mlist\u001b[39m(supported)\u001b[38;5;132;01m}\u001b[39;00m\u001b[38;5;124m: pass \u001b[39m\u001b[38;5;132;01m{\u001b[39;00mwanted\u001b[38;5;132;01m}\u001b[39;00m\u001b[38;5;124m'\u001b[39m\n\u001b[0;32m    168\u001b[0m                   \u001b[38;5;124m'\u001b[39m\u001b[38;5;124m as keyword arg(s)\u001b[39m\u001b[38;5;124m'\u001b[39m,\n\u001b[0;32m    169\u001b[0m                   stacklevel\u001b[38;5;241m=\u001b[39mstacklevel,\n\u001b[0;32m    170\u001b[0m                   category\u001b[38;5;241m=\u001b[39mcategory)\n\u001b[1;32m--> 172\u001b[0m \u001b[38;5;28;01mreturn\u001b[39;00m func(\u001b[38;5;241m*\u001b[39margs, \u001b[38;5;241m*\u001b[39m\u001b[38;5;241m*\u001b[39mkwargs)\n",
      "File \u001b[1;32m~\\miniforge3\\envs\\algoviz-basics\\lib\\site-packages\\graphviz\\dot.py:195\u001b[0m, in \u001b[0;36mDot.node\u001b[1;34m(self, name, label, _attributes, **attrs)\u001b[0m\n\u001b[0;32m    184\u001b[0m \u001b[38;5;129m@_tools\u001b[39m\u001b[38;5;241m.\u001b[39mdeprecate_positional_args(supported_number\u001b[38;5;241m=\u001b[39m\u001b[38;5;241m3\u001b[39m)\n\u001b[0;32m    185\u001b[0m \u001b[38;5;28;01mdef\u001b[39;00m \u001b[38;5;21mnode\u001b[39m(\u001b[38;5;28mself\u001b[39m, name: \u001b[38;5;28mstr\u001b[39m,\n\u001b[0;32m    186\u001b[0m          label: typing\u001b[38;5;241m.\u001b[39mOptional[\u001b[38;5;28mstr\u001b[39m] \u001b[38;5;241m=\u001b[39m \u001b[38;5;28;01mNone\u001b[39;00m,\n\u001b[0;32m    187\u001b[0m          _attributes\u001b[38;5;241m=\u001b[39m\u001b[38;5;28;01mNone\u001b[39;00m, \u001b[38;5;241m*\u001b[39m\u001b[38;5;241m*\u001b[39mattrs) \u001b[38;5;241m-\u001b[39m\u001b[38;5;241m>\u001b[39m \u001b[38;5;28;01mNone\u001b[39;00m:\n\u001b[0;32m    188\u001b[0m     \u001b[38;5;124;03m\"\"\"Create a node.\u001b[39;00m\n\u001b[0;32m    189\u001b[0m \n\u001b[0;32m    190\u001b[0m \u001b[38;5;124;03m    Args:\u001b[39;00m\n\u001b[1;32m   (...)\u001b[0m\n\u001b[0;32m    193\u001b[0m \u001b[38;5;124;03m        attrs: Any additional node attributes (must be strings).\u001b[39;00m\n\u001b[0;32m    194\u001b[0m \u001b[38;5;124;03m    \"\"\"\u001b[39;00m\n\u001b[1;32m--> 195\u001b[0m     name \u001b[38;5;241m=\u001b[39m \u001b[38;5;28;43mself\u001b[39;49m\u001b[38;5;241;43m.\u001b[39;49m\u001b[43m_quote\u001b[49m\u001b[43m(\u001b[49m\u001b[43mname\u001b[49m\u001b[43m)\u001b[49m\n\u001b[0;32m    196\u001b[0m     attr_list \u001b[38;5;241m=\u001b[39m \u001b[38;5;28mself\u001b[39m\u001b[38;5;241m.\u001b[39m_attr_list(label, kwargs\u001b[38;5;241m=\u001b[39mattrs, attributes\u001b[38;5;241m=\u001b[39m_attributes)\n\u001b[0;32m    197\u001b[0m     line \u001b[38;5;241m=\u001b[39m \u001b[38;5;28mself\u001b[39m\u001b[38;5;241m.\u001b[39m_node(name, attr_list)\n",
      "File \u001b[1;32m~\\miniforge3\\envs\\algoviz-basics\\lib\\site-packages\\graphviz\\_tools.py:172\u001b[0m, in \u001b[0;36mdeprecate_positional_args.<locals>.decorator.<locals>.wrapper\u001b[1;34m(*args, **kwargs)\u001b[0m\n\u001b[0;32m    163\u001b[0m     wanted \u001b[38;5;241m=\u001b[39m \u001b[38;5;124m'\u001b[39m\u001b[38;5;124m, \u001b[39m\u001b[38;5;124m'\u001b[39m\u001b[38;5;241m.\u001b[39mjoin(\u001b[38;5;124mf\u001b[39m\u001b[38;5;124m'\u001b[39m\u001b[38;5;132;01m{\u001b[39;00mname\u001b[38;5;132;01m}\u001b[39;00m\u001b[38;5;124m=\u001b[39m\u001b[38;5;132;01m{\u001b[39;00mvalue\u001b[38;5;132;01m!r}\u001b[39;00m\u001b[38;5;124m'\u001b[39m\n\u001b[0;32m    164\u001b[0m                        \u001b[38;5;28;01mfor\u001b[39;00m name, value \u001b[38;5;129;01min\u001b[39;00m deprecated\u001b[38;5;241m.\u001b[39mitems())\n\u001b[0;32m    165\u001b[0m     warnings\u001b[38;5;241m.\u001b[39mwarn(\u001b[38;5;124mf\u001b[39m\u001b[38;5;124m'\u001b[39m\u001b[38;5;124mThe signature of \u001b[39m\u001b[38;5;132;01m{\u001b[39;00mfunc\u001b[38;5;241m.\u001b[39m\u001b[38;5;18m__name__\u001b[39m\u001b[38;5;132;01m}\u001b[39;00m\u001b[38;5;124m will be reduced\u001b[39m\u001b[38;5;124m'\u001b[39m\n\u001b[0;32m    166\u001b[0m                   \u001b[38;5;124mf\u001b[39m\u001b[38;5;124m'\u001b[39m\u001b[38;5;124m to \u001b[39m\u001b[38;5;132;01m{\u001b[39;00msupported_number\u001b[38;5;132;01m}\u001b[39;00m\u001b[38;5;124m positional args\u001b[39m\u001b[38;5;124m'\u001b[39m\n\u001b[0;32m    167\u001b[0m                   \u001b[38;5;124mf\u001b[39m\u001b[38;5;124m'\u001b[39m\u001b[38;5;124m \u001b[39m\u001b[38;5;132;01m{\u001b[39;00m\u001b[38;5;28mlist\u001b[39m(supported)\u001b[38;5;132;01m}\u001b[39;00m\u001b[38;5;124m: pass \u001b[39m\u001b[38;5;132;01m{\u001b[39;00mwanted\u001b[38;5;132;01m}\u001b[39;00m\u001b[38;5;124m'\u001b[39m\n\u001b[0;32m    168\u001b[0m                   \u001b[38;5;124m'\u001b[39m\u001b[38;5;124m as keyword arg(s)\u001b[39m\u001b[38;5;124m'\u001b[39m,\n\u001b[0;32m    169\u001b[0m                   stacklevel\u001b[38;5;241m=\u001b[39mstacklevel,\n\u001b[0;32m    170\u001b[0m                   category\u001b[38;5;241m=\u001b[39mcategory)\n\u001b[1;32m--> 172\u001b[0m \u001b[38;5;28;01mreturn\u001b[39;00m func(\u001b[38;5;241m*\u001b[39margs, \u001b[38;5;241m*\u001b[39m\u001b[38;5;241m*\u001b[39mkwargs)\n",
      "File \u001b[1;32m~\\miniforge3\\envs\\algoviz-basics\\lib\\site-packages\\graphviz\\quoting.py:72\u001b[0m, in \u001b[0;36mquote\u001b[1;34m(identifier, is_html_string, is_valid_id, dot_keywords, escape_unescaped_quotes)\u001b[0m\n\u001b[0;32m     31\u001b[0m \u001b[38;5;129m@_tools\u001b[39m\u001b[38;5;241m.\u001b[39mdeprecate_positional_args(supported_number\u001b[38;5;241m=\u001b[39m\u001b[38;5;241m1\u001b[39m)\n\u001b[0;32m     32\u001b[0m \u001b[38;5;28;01mdef\u001b[39;00m \u001b[38;5;21mquote\u001b[39m(identifier: \u001b[38;5;28mstr\u001b[39m,\n\u001b[0;32m     33\u001b[0m           is_html_string\u001b[38;5;241m=\u001b[39mHTML_STRING\u001b[38;5;241m.\u001b[39mmatch,\n\u001b[0;32m     34\u001b[0m           is_valid_id\u001b[38;5;241m=\u001b[39mID\u001b[38;5;241m.\u001b[39mmatch,\n\u001b[0;32m     35\u001b[0m           dot_keywords\u001b[38;5;241m=\u001b[39mKEYWORDS,\n\u001b[0;32m     36\u001b[0m           escape_unescaped_quotes\u001b[38;5;241m=\u001b[39mESCAPE_UNESCAPED_QUOTES) \u001b[38;5;241m-\u001b[39m\u001b[38;5;241m>\u001b[39m \u001b[38;5;28mstr\u001b[39m:\n\u001b[0;32m     37\u001b[0m     \u001b[38;5;124mr\u001b[39m\u001b[38;5;124;03m\"\"\"Return DOT identifier from string, quote if needed.\u001b[39;00m\n\u001b[0;32m     38\u001b[0m \n\u001b[0;32m     39\u001b[0m \u001b[38;5;124;03m    >>> quote('')  # doctest: +NO_EXE\u001b[39;00m\n\u001b[1;32m   (...)\u001b[0m\n\u001b[0;32m     70\u001b[0m \u001b[38;5;124;03m    \"\\\\\\\"\"\u001b[39;00m\n\u001b[0;32m     71\u001b[0m \u001b[38;5;124;03m    \"\"\"\u001b[39;00m\n\u001b[1;32m---> 72\u001b[0m     \u001b[38;5;28;01mif\u001b[39;00m \u001b[43mis_html_string\u001b[49m\u001b[43m(\u001b[49m\u001b[43midentifier\u001b[49m\u001b[43m)\u001b[49m \u001b[38;5;129;01mand\u001b[39;00m \u001b[38;5;129;01mnot\u001b[39;00m \u001b[38;5;28misinstance\u001b[39m(identifier, NoHtml):\n\u001b[0;32m     73\u001b[0m         \u001b[38;5;28;01mpass\u001b[39;00m\n\u001b[0;32m     74\u001b[0m     \u001b[38;5;28;01melif\u001b[39;00m \u001b[38;5;129;01mnot\u001b[39;00m is_valid_id(identifier) \u001b[38;5;129;01mor\u001b[39;00m identifier\u001b[38;5;241m.\u001b[39mlower() \u001b[38;5;129;01min\u001b[39;00m dot_keywords:\n",
      "\u001b[1;31mTypeError\u001b[0m: expected string or bytes-like object"
     ]
    }
   ],
   "source": [
    "draw_one_tuple(3)"
   ]
  },
  {
   "cell_type": "code",
   "execution_count": null,
   "id": "8f081a83-494c-4105-b093-15131f9cadb6",
   "metadata": {},
   "outputs": [],
   "source": [
    "draw_one_tuple((3,))"
   ]
  },
  {
   "cell_type": "code",
   "execution_count": null,
   "id": "80e54d20-f4cd-4276-a3ad-dbaa434c0cd0",
   "metadata": {},
   "outputs": [],
   "source": [
    "draw_one_tuple((2**64, 2**64))"
   ]
  },
  {
   "cell_type": "code",
   "execution_count": null,
   "id": "84317e59-a544-4c50-8384-71459a45c20e",
   "metadata": {},
   "outputs": [],
   "source": [
    "draw_one_tuple((2**65, 2**65))"
   ]
  },
  {
   "cell_type": "code",
   "execution_count": null,
   "id": "1e74a1bc-9646-4394-917e-27c00f7297b2",
   "metadata": {},
   "outputs": [],
   "source": [
    "draw_one_tuple(([], []))"
   ]
  },
  {
   "cell_type": "code",
   "execution_count": null,
   "id": "1a4c778f-7431-4701-b760-913653f0124a",
   "metadata": {},
   "outputs": [],
   "source": [
    "t = (10, ((20, 30), (40, (50, (60,)))))\n",
    "draw_one_tuple(t)"
   ]
  },
  {
   "cell_type": "code",
   "execution_count": null,
   "id": "5d10de45-6ae2-4b92-b94a-ec89b2b960ea",
   "metadata": {},
   "outputs": [],
   "source": [
    "t = (10, ([20, 30], [40, (50, [60])]))\n",
    "draw_one_tuple(t)"
   ]
  },
  {
   "cell_type": "code",
   "execution_count": null,
   "id": "84330353-7ef4-4e2b-9f54-84909259d0e2",
   "metadata": {},
   "outputs": [],
   "source": [
    "# t = ((((0, 1), (1, (0, 1))), ((1, (0, 1)), ((0, 1), (1, (0, 1))))),\n",
    "#      (((1, (0, 1)), ((0, 1), (1, (0, 1)))),\n",
    "#       (((0, 1), (1, (0, 1))), ((1, (0, 1)), ((0, 1), (1, (0, 1)))))))\n",
    "# draw_one_tuple(t)\n",
    "draw_one_tuple(fib_nest(8))  # De-duplication guaranteed."
   ]
  },
  {
   "cell_type": "code",
   "execution_count": null,
   "id": "e174ece5-74d4-415e-b6bd-b140d9c2557a",
   "metadata": {},
   "outputs": [],
   "source": [
    "t = ((((0, 1), (1, (0, 1))), ((1, (0, 1)), ((0, 1), (1, (0, 1))))),\n",
    "     (((1, (0, 1)), ((0, 1), (1, (0, 1)))),\n",
    "      (((0, 1), (1, (0, 1))), ((1, (0, 1)), ((0, 1), (1, (0, 1)))))))\n",
    "draw_one_tuple(t)  # De-duplication not guaranteed."
   ]
  },
  {
   "cell_type": "code",
   "execution_count": null,
   "id": "6efd53e1-20bc-4a98-8f77-f36f5276d2af",
   "metadata": {},
   "outputs": [],
   "source": [
    "draw_tuples()  # Produces an empty graph."
   ]
  },
  {
   "cell_type": "code",
   "execution_count": null,
   "id": "62d1c6d7-ece5-40e1-a1e3-3b8dfcdc6d29",
   "metadata": {},
   "outputs": [],
   "source": [
    "t = 3\n",
    "draw_tuples(t, t, t, t, t, t, t, t)  # Guaranteed to have only 1 node."
   ]
  },
  {
   "cell_type": "code",
   "execution_count": null,
   "id": "b2435a2c-87d5-4908-84bf-1a0f7e3441b9",
   "metadata": {},
   "outputs": [],
   "source": [
    "t = (10, ((20, 30), (40, (50, (60,)))))\n",
    "draw_tuples(t)  # Same as draw_one_tuple."
   ]
  },
  {
   "cell_type": "code",
   "execution_count": null,
   "id": "b8840bc0-ffef-40c5-9ea0-9de620d0cf39",
   "metadata": {},
   "outputs": [],
   "source": [
    "t = (5, (10, 20))\n",
    "u = ((10, 20), 30)\n",
    "draw_tuples(t, u)"
   ]
  },
  {
   "cell_type": "code",
   "execution_count": null,
   "id": "6a28e1e5-d590-4723-8fa4-d238f237301c",
   "metadata": {},
   "outputs": [],
   "source": [
    "t = ('A', 'B', 'C', 'D', 'E')\n",
    "u = ('A', 'B')\n",
    "v = ('D', 'E')\n",
    "w = (u, v)\n",
    "x = (t, w)\n",
    "draw_tuples(w, x)"
   ]
  },
  {
   "cell_type": "code",
   "execution_count": null,
   "id": "1c849969-0b72-4df9-81b1-2f7485334821",
   "metadata": {},
   "outputs": [],
   "source": [
    "t = ((('A', 'B'), ('C', 'D')), ('E', 'F'), ('G', 'H'))\n",
    "u = (('C', 'D'), ('E', 'F'))\n",
    "v = (('A', 'B'), ('G', 'H'))\n",
    "draw_tuples(t, u, v)"
   ]
  },
  {
   "cell_type": "code",
   "execution_count": null,
   "id": "c8a18ccd-04c7-4d89-a0d8-44f885ac4b50",
   "metadata": {},
   "outputs": [],
   "source": [
    "t = ((), ((), ((), ((), ((), ((), ((), ((), ((), ((), 'hello'))))))))))\n",
    "u = ('hello', ())\n",
    "v = ((), ())\n",
    "w = ('hello', 'hello')\n",
    "draw_tuples(t, u, v, w)"
   ]
  },
  {
   "cell_type": "code",
   "execution_count": null,
   "id": "046074fa-687c-4346-8212-b5e5120ac95c",
   "metadata": {},
   "outputs": [],
   "source": [
    "draw_tuples(nest(seed='X', degree=2, height=4), nest(seed='Y', degree=3, height=2))"
   ]
  },
  {
   "cell_type": "code",
   "execution_count": null,
   "id": "e45330fb-392d-459e-8347-7e16afd363dd",
   "metadata": {},
   "outputs": [],
   "source": [
    "draw_tuples(nest(seed=('X', ()), degree=2, height=4), nest(seed=((), 'Y'), degree=3, height=2))"
   ]
  },
  {
   "cell_type": "code",
   "execution_count": null,
   "id": "bd9858a5-23b7-4998-9b9f-87f222636e57",
   "metadata": {},
   "outputs": [],
   "source": [
    "draw_tuples(*range(1, 6))  # All isolated vertices (the graph has no edges)."
   ]
  },
  {
   "cell_type": "code",
   "execution_count": null,
   "id": "79088376-10d3-4aa7-ad0f-9886f6c252f3",
   "metadata": {},
   "outputs": [],
   "source": [
    "t = ((2, 7, 1), (8, 6), (9, (4, 5)), ((((5, 4), 3), 2), 1))\n",
    "draw_tuples(t)"
   ]
  },
  {
   "cell_type": "code",
   "execution_count": null,
   "id": "f25c327c-45f0-4477-8037-b08520f1a7a5",
   "metadata": {},
   "outputs": [],
   "source": [
    "draw_tuples(t, (3, 6))"
   ]
  },
  {
   "cell_type": "code",
   "execution_count": null,
   "id": "dde0cf6a-1e12-48b2-b864-2b6c6953d03e",
   "metadata": {},
   "outputs": [],
   "source": [
    "draw_tuples((2, 7, 1), (8, 6), (9, (4, 5)), ((((5, 4), 3), 2), 1))"
   ]
  },
  {
   "cell_type": "code",
   "execution_count": null,
   "id": "b0926f2b-b217-4691-8512-bc0c63258f49",
   "metadata": {},
   "outputs": [],
   "source": [
    "draw_tuples((2, 7, 1), (8, 6), (9, (4, 5)), ((((5, 4), 3), 2), 1), (3, 6))"
   ]
  },
  {
   "cell_type": "code",
   "execution_count": null,
   "id": "5a8d921f-6237-4f31-a33e-ec0bc89e4b10",
   "metadata": {},
   "outputs": [],
   "source": [
    "# De-duplication across nest() calls is not guaranteed and will usually be incomplete.\n",
    "draw_tuples(*(nest(seed=(), degree=2, height=h) for h in range(10)))"
   ]
  },
  {
   "cell_type": "code",
   "execution_count": null,
   "id": "f842df47-d696-4546-a0b5-17cc67d4169b",
   "metadata": {},
   "outputs": [],
   "source": [
    "# Same deal with fib_nest() calls.\n",
    "draw_tuples(*(fib_nest(i) for i in range(12)))"
   ]
  },
  {
   "cell_type": "code",
   "execution_count": null,
   "id": "a785dd4c-6703-4113-b4d6-88b293e86ea7",
   "metadata": {},
   "outputs": [],
   "source": [
    "# Just for fun.\n",
    "draw_tuples(*(nest(seed=(), degree=d, height=h) for d in range(5) for h in range(7)))"
   ]
  },
  {
   "cell_type": "code",
   "execution_count": null,
   "id": "265137da-ae0a-44a4-8c9a-f2d4e9e422cb",
   "metadata": {},
   "outputs": [],
   "source": [
    "draw_tuples(*(nest(seed=fib_nest(n), degree=n, height=n) for n in range(8)))"
   ]
  },
  {
   "cell_type": "code",
   "execution_count": null,
   "id": "fdf6328b-7f5f-41a0-8ec1-cb15e8ca8552",
   "metadata": {},
   "outputs": [],
   "source": [
    "def make_binary_tree(height, start=0):\n",
    "    leaves = itertools.count(start)\n",
    "    \n",
    "    def make_subtree(h):\n",
    "        if h == 0:\n",
    "            return next(leaves)\n",
    "        return (make_subtree(h - 1), make_subtree(h - 1))\n",
    "    \n",
    "    return make_subtree(height)"
   ]
  },
  {
   "cell_type": "code",
   "execution_count": null,
   "id": "5217cc7f-039b-4e59-8253-2cbd8692222f",
   "metadata": {},
   "outputs": [],
   "source": [
    "draw_tuples(make_binary_tree(3))"
   ]
  },
  {
   "cell_type": "code",
   "execution_count": null,
   "id": "bbe07074-3ec8-4937-86d4-76157832e300",
   "metadata": {},
   "outputs": [],
   "source": [
    "draw_tuples(make_binary_tree(3), make_binary_tree(3))"
   ]
  },
  {
   "cell_type": "code",
   "execution_count": null,
   "id": "40daaeaf-fee7-4142-925c-59c18f90b72c",
   "metadata": {},
   "outputs": [],
   "source": [
    "draw_tuples(make_binary_tree(3, 1), make_binary_tree(3, 2))"
   ]
  },
  {
   "cell_type": "code",
   "execution_count": null,
   "id": "4020c23e-dd57-4d79-9ff0-55e9c7142e61",
   "metadata": {},
   "outputs": [],
   "source": [
    "draw_tuples(make_binary_tree(3, 1), make_binary_tree(3, 3))"
   ]
  },
  {
   "cell_type": "code",
   "execution_count": null,
   "id": "d900ef86-932f-4ecc-95a9-c21158faccfc",
   "metadata": {},
   "outputs": [],
   "source": [
    "draw_tuples(sys.version_info, tuple(sys.version_info))"
   ]
  },
  {
   "cell_type": "code",
   "execution_count": null,
   "id": "71b433b9-a20c-4f74-912c-7ab834f42292",
   "metadata": {},
   "outputs": [],
   "source": [
    "draw_tuples(*(tuple(sys.version_info) for _ in range(25)))"
   ]
  },
  {
   "cell_type": "code",
   "execution_count": null,
   "id": "74a455ef-9ab9-4d09-a3aa-291d7ead0ea6",
   "metadata": {},
   "outputs": [],
   "source": [
    "draw_tuples(draw_tuples.__code__.co_varnames,  # Variables no enclosed scope captures.\n",
    "            draw_tuples.__code__.co_cellvars)  # Variables some enclosed scope captures."
   ]
  },
  {
   "cell_type": "code",
   "execution_count": null,
   "id": "b8f05b6d-44bc-41cf-b37d-e7163778fe63",
   "metadata": {},
   "outputs": [],
   "source": [
    "# draw_tuples(lambda x: x)  # The semipredicate problem."
   ]
  },
  {
   "cell_type": "code",
   "execution_count": null,
   "id": "e80b187d-4c21-4792-9a8e-a7487cb92bda",
   "metadata": {},
   "outputs": [],
   "source": []
  }
 ],
 "metadata": {
  "kernelspec": {
   "display_name": "Python 3 (ipykernel)",
   "language": "python",
   "name": "python3"
  },
  "language_info": {
   "codemirror_mode": {
    "name": "ipython",
    "version": 3
   },
   "file_extension": ".py",
   "mimetype": "text/x-python",
   "name": "python",
   "nbconvert_exporter": "python",
   "pygments_lexer": "ipython3",
   "version": "3.10.2"
  }
 },
 "nbformat": 4,
 "nbformat_minor": 5
}
