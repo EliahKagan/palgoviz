{
 "cells": [
  {
   "cell_type": "code",
   "execution_count": 1,
   "id": "8a0e6d0e-8e91-4225-98c6-4dfeef1f00e5",
   "metadata": {},
   "outputs": [],
   "source": [
    "a = list(range(4))"
   ]
  },
  {
   "cell_type": "code",
   "execution_count": 2,
   "id": "6ac9cddf-250a-49d2-bca0-3cb18418ad1c",
   "metadata": {},
   "outputs": [],
   "source": [
    "it = iter(a)"
   ]
  },
  {
   "cell_type": "code",
   "execution_count": 3,
   "id": "458904d8-288c-4b4c-a769-320c7f14e7d4",
   "metadata": {},
   "outputs": [
    {
     "data": {
      "text/plain": [
       "<list_iterator at 0x1adb415b0d0>"
      ]
     },
     "execution_count": 3,
     "metadata": {},
     "output_type": "execute_result"
    }
   ],
   "source": [
    "it"
   ]
  },
  {
   "cell_type": "code",
   "execution_count": 4,
   "id": "52b06b6b-4c09-4ce9-8100-8a883a228a1b",
   "metadata": {},
   "outputs": [
    {
     "data": {
      "text/plain": [
       "list_iterator"
      ]
     },
     "execution_count": 4,
     "metadata": {},
     "output_type": "execute_result"
    }
   ],
   "source": [
    "type(it)"
   ]
  },
  {
   "cell_type": "code",
   "execution_count": 5,
   "id": "d8ad8732-24a0-4f71-b3f5-2c533cd12376",
   "metadata": {},
   "outputs": [
    {
     "data": {
      "text/plain": [
       "0"
      ]
     },
     "execution_count": 5,
     "metadata": {},
     "output_type": "execute_result"
    }
   ],
   "source": [
    "next(it)"
   ]
  },
  {
   "cell_type": "code",
   "execution_count": 6,
   "id": "95c59ab2-54b0-481d-8aef-2c18f47f0ea7",
   "metadata": {},
   "outputs": [
    {
     "data": {
      "text/plain": [
       "1"
      ]
     },
     "execution_count": 6,
     "metadata": {},
     "output_type": "execute_result"
    }
   ],
   "source": [
    "next(it)"
   ]
  },
  {
   "cell_type": "code",
   "execution_count": 7,
   "id": "eb9c665e-53fa-47c9-8ee6-ac24e91af9e6",
   "metadata": {},
   "outputs": [
    {
     "data": {
      "text/plain": [
       "2"
      ]
     },
     "execution_count": 7,
     "metadata": {},
     "output_type": "execute_result"
    }
   ],
   "source": [
    "next(it)"
   ]
  },
  {
   "cell_type": "code",
   "execution_count": 8,
   "id": "35a84433-a494-4bd7-b884-947fdfbd9c15",
   "metadata": {},
   "outputs": [
    {
     "data": {
      "text/plain": [
       "3"
      ]
     },
     "execution_count": 8,
     "metadata": {},
     "output_type": "execute_result"
    }
   ],
   "source": [
    "next(it)"
   ]
  },
  {
   "cell_type": "code",
   "execution_count": 9,
   "id": "e5635460-916d-4a0d-850a-90c4367a138e",
   "metadata": {},
   "outputs": [
    {
     "name": "stdout",
     "output_type": "stream",
     "text": [
      "id(exception) = 1845561990816\n"
     ]
    }
   ],
   "source": [
    "try:\n",
    "    next(it)\n",
    "except StopIteration as exception:\n",
    "    print(f'{id(exception) = }')"
   ]
  },
  {
   "cell_type": "code",
   "execution_count": 10,
   "id": "47f25da2-1740-4d4f-b047-c57a75160b1b",
   "metadata": {},
   "outputs": [],
   "source": [
    "b = list(range(5))"
   ]
  },
  {
   "cell_type": "code",
   "execution_count": 11,
   "id": "35a436a5-502f-436b-bd5d-fa820fbab40e",
   "metadata": {},
   "outputs": [],
   "source": [
    "it2 = iter(b)"
   ]
  },
  {
   "cell_type": "code",
   "execution_count": 12,
   "id": "73c669f8-d2d8-4d9f-abec-3d9541ef7540",
   "metadata": {},
   "outputs": [
    {
     "data": {
      "text/plain": [
       "0"
      ]
     },
     "execution_count": 12,
     "metadata": {},
     "output_type": "execute_result"
    }
   ],
   "source": [
    "next(it2)"
   ]
  },
  {
   "cell_type": "code",
   "execution_count": 13,
   "id": "dd420a1d-b6fa-4d0e-9a60-6e82ccafeda8",
   "metadata": {},
   "outputs": [
    {
     "data": {
      "text/plain": [
       "1"
      ]
     },
     "execution_count": 13,
     "metadata": {},
     "output_type": "execute_result"
    }
   ],
   "source": [
    "next(it2)"
   ]
  },
  {
   "cell_type": "code",
   "execution_count": 14,
   "id": "07b515e8-0149-4960-b440-9f4969abadf4",
   "metadata": {},
   "outputs": [
    {
     "name": "stdout",
     "output_type": "stream",
     "text": [
      "2\n",
      "3\n",
      "4\n"
     ]
    }
   ],
   "source": [
    "for y in it2: \n",
    "    print(y)"
   ]
  },
  {
   "cell_type": "code",
   "execution_count": 15,
   "id": "6dd8c6d4-da82-4120-aa93-bcc14467b4ad",
   "metadata": {},
   "outputs": [],
   "source": [
    "def func():\n",
    "    yield 'foo'\n",
    "    yield 'bar'\n",
    "    yield 'baz'"
   ]
  },
  {
   "cell_type": "code",
   "execution_count": 16,
   "id": "e8ad0a76-03ee-4219-9584-b2bc74d348fe",
   "metadata": {},
   "outputs": [
    {
     "data": {
      "text/plain": [
       "<function __main__.func()>"
      ]
     },
     "execution_count": 16,
     "metadata": {},
     "output_type": "execute_result"
    }
   ],
   "source": [
    "func"
   ]
  },
  {
   "cell_type": "code",
   "execution_count": 17,
   "id": "e9cb35b5-0aab-4c64-9c35-28773ae5733b",
   "metadata": {},
   "outputs": [
    {
     "data": {
      "text/plain": [
       "<generator object func at 0x000001ADB41858C0>"
      ]
     },
     "execution_count": 17,
     "metadata": {},
     "output_type": "execute_result"
    }
   ],
   "source": [
    "func()"
   ]
  },
  {
   "cell_type": "code",
   "execution_count": 18,
   "id": "fe03ff36-59b8-4965-9487-7541380c5af5",
   "metadata": {},
   "outputs": [],
   "source": [
    "funcit = func()"
   ]
  },
  {
   "cell_type": "code",
   "execution_count": 19,
   "id": "5d169e7b-52fd-4ce8-99f5-3148f6f09293",
   "metadata": {},
   "outputs": [
    {
     "data": {
      "text/plain": [
       "'foo'"
      ]
     },
     "execution_count": 19,
     "metadata": {},
     "output_type": "execute_result"
    }
   ],
   "source": [
    "next(funcit)"
   ]
  },
  {
   "cell_type": "code",
   "execution_count": 20,
   "id": "8d921792-ddfd-4118-bd52-a84b12b4794e",
   "metadata": {},
   "outputs": [
    {
     "data": {
      "text/plain": [
       "['bar', 'baz']"
      ]
     },
     "execution_count": 20,
     "metadata": {},
     "output_type": "execute_result"
    }
   ],
   "source": [
    "list(funcit)"
   ]
  },
  {
   "cell_type": "code",
   "execution_count": 21,
   "id": "8d77cc3d-c179-4111-9123-3007c86b3421",
   "metadata": {},
   "outputs": [
    {
     "data": {
      "text/plain": [
       "<generator object func at 0x000001ADB4185C40>"
      ]
     },
     "execution_count": 21,
     "metadata": {},
     "output_type": "execute_result"
    }
   ],
   "source": [
    "func()"
   ]
  },
  {
   "cell_type": "code",
   "execution_count": 22,
   "id": "8c34ae9c-4921-4320-ae73-dd8b596aa7fe",
   "metadata": {},
   "outputs": [
    {
     "data": {
      "text/plain": [
       "['foo', 'bar', 'baz']"
      ]
     },
     "execution_count": 22,
     "metadata": {},
     "output_type": "execute_result"
    }
   ],
   "source": [
    "list(func())"
   ]
  },
  {
   "cell_type": "code",
   "execution_count": 23,
   "id": "551f5e9d-bfb1-44a5-a72c-4b0b5452c291",
   "metadata": {},
   "outputs": [],
   "source": [
    "a = func()\n",
    "b = func()"
   ]
  },
  {
   "cell_type": "code",
   "execution_count": 24,
   "id": "894bff26-fb12-4bb5-9030-ff3a8e5770f3",
   "metadata": {},
   "outputs": [
    {
     "data": {
      "text/plain": [
       "<generator object func at 0x000001ADB4185850>"
      ]
     },
     "execution_count": 24,
     "metadata": {},
     "output_type": "execute_result"
    }
   ],
   "source": [
    "a"
   ]
  },
  {
   "cell_type": "code",
   "execution_count": 25,
   "id": "5aa23801-7dd1-4e8e-b8ba-0b6a8f78ab63",
   "metadata": {},
   "outputs": [
    {
     "data": {
      "text/plain": [
       "<generator object func at 0x000001ADB4185E00>"
      ]
     },
     "execution_count": 25,
     "metadata": {},
     "output_type": "execute_result"
    }
   ],
   "source": [
    "b"
   ]
  },
  {
   "cell_type": "code",
   "execution_count": 26,
   "id": "111d5781-4550-494a-b9c1-6aeb308977d6",
   "metadata": {},
   "outputs": [
    {
     "data": {
      "text/plain": [
       "'foo'"
      ]
     },
     "execution_count": 26,
     "metadata": {},
     "output_type": "execute_result"
    }
   ],
   "source": [
    "next(a)"
   ]
  },
  {
   "cell_type": "code",
   "execution_count": 27,
   "id": "4b3dc52f-fa24-4cf8-a3a2-2dbbcbcf2e2b",
   "metadata": {},
   "outputs": [
    {
     "data": {
      "text/plain": [
       "'bar'"
      ]
     },
     "execution_count": 27,
     "metadata": {},
     "output_type": "execute_result"
    }
   ],
   "source": [
    "next(a)"
   ]
  },
  {
   "cell_type": "code",
   "execution_count": 28,
   "id": "6c7472be-1570-4b7d-a83d-34a1eb3031df",
   "metadata": {},
   "outputs": [
    {
     "data": {
      "text/plain": [
       "'foo'"
      ]
     },
     "execution_count": 28,
     "metadata": {},
     "output_type": "execute_result"
    }
   ],
   "source": [
    "next(b)"
   ]
  },
  {
   "cell_type": "code",
   "execution_count": 29,
   "id": "be751cfe-5859-45b8-b8d3-cf2d460fd8f7",
   "metadata": {},
   "outputs": [
    {
     "data": {
      "text/plain": [
       "115347654021"
      ]
     },
     "execution_count": 29,
     "metadata": {},
     "output_type": "execute_result"
    }
   ],
   "source": [
    "hash(a)"
   ]
  },
  {
   "cell_type": "code",
   "execution_count": 30,
   "id": "d0758795-3708-40bc-86f4-d8a7a7a2a77e",
   "metadata": {},
   "outputs": [],
   "source": [
    "def squares(values):\n",
    "    for value in values:\n",
    "        yield value ** 2"
   ]
  },
  {
   "cell_type": "code",
   "execution_count": 31,
   "id": "19c7ded6-5623-4407-a403-bfb407c79787",
   "metadata": {},
   "outputs": [],
   "source": [
    "values = [1, 2, 3]"
   ]
  },
  {
   "cell_type": "code",
   "execution_count": 32,
   "id": "611f3054-0fe4-4d24-9d1f-2df8e3a7b741",
   "metadata": {},
   "outputs": [],
   "source": [
    "it = squares(values)"
   ]
  },
  {
   "cell_type": "code",
   "execution_count": 33,
   "id": "594e46d1-58dc-45f4-baf7-edaf686dad97",
   "metadata": {},
   "outputs": [
    {
     "data": {
      "text/plain": [
       "<generator object squares at 0x000001ADB4186730>"
      ]
     },
     "execution_count": 33,
     "metadata": {},
     "output_type": "execute_result"
    }
   ],
   "source": [
    "it"
   ]
  },
  {
   "cell_type": "code",
   "execution_count": 34,
   "id": "580d28f7-ccb0-4f9a-93b9-b76428cd2e3c",
   "metadata": {},
   "outputs": [
    {
     "data": {
      "text/plain": [
       "1"
      ]
     },
     "execution_count": 34,
     "metadata": {},
     "output_type": "execute_result"
    }
   ],
   "source": [
    "next(it)"
   ]
  },
  {
   "cell_type": "code",
   "execution_count": 35,
   "id": "813e010e-e0fb-4fe1-938d-05a755f36659",
   "metadata": {},
   "outputs": [
    {
     "data": {
      "text/plain": [
       "4"
      ]
     },
     "execution_count": 35,
     "metadata": {},
     "output_type": "execute_result"
    }
   ],
   "source": [
    "next(it)"
   ]
  },
  {
   "cell_type": "code",
   "execution_count": 36,
   "id": "121702ff-4060-4125-8d13-2df9e87b2844",
   "metadata": {},
   "outputs": [
    {
     "data": {
      "text/plain": [
       "9"
      ]
     },
     "execution_count": 36,
     "metadata": {},
     "output_type": "execute_result"
    }
   ],
   "source": [
    "next(it)"
   ]
  },
  {
   "cell_type": "code",
   "execution_count": 37,
   "id": "43562b23-7a3b-4451-a4b3-77b10e94507c",
   "metadata": {},
   "outputs": [
    {
     "name": "stdout",
     "output_type": "stream",
     "text": [
      "1\n",
      "4\n",
      "9\n"
     ]
    }
   ],
   "source": [
    "for x in squares(values):\n",
    "    print(x)"
   ]
  },
  {
   "cell_type": "code",
   "execution_count": 38,
   "id": "c84a11df-8bd8-4e4c-865f-42ff279c55a1",
   "metadata": {},
   "outputs": [
    {
     "data": {
      "text/plain": [
       "[1, 4, 9]"
      ]
     },
     "execution_count": 38,
     "metadata": {},
     "output_type": "execute_result"
    }
   ],
   "source": [
    "list(squares(values))"
   ]
  },
  {
   "cell_type": "code",
   "execution_count": 39,
   "id": "f3d8c856-716c-44ef-9396-7b72586c4b22",
   "metadata": {},
   "outputs": [],
   "source": [
    "def cubes(values):\n",
    "    for value in values:\n",
    "        yield value ** 3"
   ]
  },
  {
   "cell_type": "code",
   "execution_count": 40,
   "id": "92e1f979-1ed5-4151-9efd-848b8788906b",
   "metadata": {},
   "outputs": [
    {
     "name": "stdout",
     "output_type": "stream",
     "text": [
      "1\n",
      "8\n",
      "27\n"
     ]
    }
   ],
   "source": [
    "for y in cubes(values): \n",
    "    print(y)"
   ]
  },
  {
   "cell_type": "code",
   "execution_count": 41,
   "id": "5d97443c-b73f-4890-8985-1f8797ddb093",
   "metadata": {},
   "outputs": [],
   "source": [
    "def altcubes(values):\n",
    "    yield 0\n",
    "    yield from cubes(values)"
   ]
  },
  {
   "cell_type": "code",
   "execution_count": 42,
   "id": "d82bd357-be9f-4de4-b081-f90100aa41af",
   "metadata": {},
   "outputs": [
    {
     "name": "stdout",
     "output_type": "stream",
     "text": [
      "0\n",
      "1\n",
      "8\n",
      "27\n"
     ]
    }
   ],
   "source": [
    "for x in altcubes(values):\n",
    "    print(x)"
   ]
  },
  {
   "cell_type": "code",
   "execution_count": 43,
   "id": "10278c40-1f7f-4052-9124-8e9d511eb4c7",
   "metadata": {},
   "outputs": [
    {
     "data": {
      "text/plain": [
       "[0, 1, 8, 27]"
      ]
     },
     "execution_count": 43,
     "metadata": {},
     "output_type": "execute_result"
    }
   ],
   "source": [
    "list(altcubes(values))"
   ]
  },
  {
   "cell_type": "code",
   "execution_count": 44,
   "id": "16c12e97-7ea8-48f8-8c83-b07f427acc15",
   "metadata": {},
   "outputs": [],
   "source": [
    "def listcubes(values):\n",
    "    \"\"\"Lists cubes. Like list(cubes(values)).\"\"\"\n",
    "    cubes = []\n",
    "    for x in values:\n",
    "        cubes.append(x**3)\n",
    "    return cubes"
   ]
  },
  {
   "cell_type": "code",
   "execution_count": 45,
   "id": "2fa34b3b-7dce-41b5-98f9-61abf40d3d9b",
   "metadata": {},
   "outputs": [],
   "source": [
    "l = listcubes(values)"
   ]
  },
  {
   "cell_type": "code",
   "execution_count": 46,
   "id": "389b278a-87d7-4626-a6b6-6cf340c52dd8",
   "metadata": {},
   "outputs": [
    {
     "data": {
      "text/plain": [
       "[1, 8, 27]"
      ]
     },
     "execution_count": 46,
     "metadata": {},
     "output_type": "execute_result"
    }
   ],
   "source": [
    "l"
   ]
  },
  {
   "cell_type": "code",
   "execution_count": 47,
   "id": "db4038b1-fc17-4dbc-b243-ffd7668f4967",
   "metadata": {},
   "outputs": [],
   "source": [
    "def altlistcubes(values):\n",
    "    ret = [0]\n",
    "    ret.extend(cubes(values))\n",
    "    return ret"
   ]
  },
  {
   "cell_type": "code",
   "execution_count": 48,
   "id": "abfa1f3c-5f92-4103-b390-57c2ad4d1816",
   "metadata": {},
   "outputs": [
    {
     "data": {
      "text/plain": [
       "[0, 1, 8, 27]"
      ]
     },
     "execution_count": 48,
     "metadata": {},
     "output_type": "execute_result"
    }
   ],
   "source": [
    "altlistcubes(values)"
   ]
  },
  {
   "cell_type": "code",
   "execution_count": 49,
   "id": "b9eed9a3-3fb0-4776-ab89-665b77f2e988",
   "metadata": {},
   "outputs": [],
   "source": [
    "def altlistcubes2(values):\n",
    "    return [0, *cubes(values)]"
   ]
  },
  {
   "cell_type": "code",
   "execution_count": 50,
   "id": "67c4d42f-715a-48ce-9481-d6d4178069c3",
   "metadata": {},
   "outputs": [
    {
     "data": {
      "text/plain": [
       "[0, 1, 8, 27]"
      ]
     },
     "execution_count": 50,
     "metadata": {},
     "output_type": "execute_result"
    }
   ],
   "source": [
    "altlistcubes2(values)"
   ]
  },
  {
   "cell_type": "code",
   "execution_count": 51,
   "id": "58eba7e5-9ed8-4e45-ba99-4ee578b28d6b",
   "metadata": {},
   "outputs": [],
   "source": [
    "first, second, third = cubes(values)"
   ]
  },
  {
   "cell_type": "code",
   "execution_count": 52,
   "id": "2339766f-ffd5-40ee-95bf-8c8f91bd1163",
   "metadata": {},
   "outputs": [
    {
     "data": {
      "text/plain": [
       "1"
      ]
     },
     "execution_count": 52,
     "metadata": {},
     "output_type": "execute_result"
    }
   ],
   "source": [
    "first"
   ]
  },
  {
   "cell_type": "code",
   "execution_count": 53,
   "id": "2faa14ce-0e66-43c5-bb36-64c5a7da00b4",
   "metadata": {},
   "outputs": [
    {
     "data": {
      "text/plain": [
       "8"
      ]
     },
     "execution_count": 53,
     "metadata": {},
     "output_type": "execute_result"
    }
   ],
   "source": [
    "second"
   ]
  },
  {
   "cell_type": "code",
   "execution_count": 54,
   "id": "f23b9eb8-4a0c-4ada-830d-bd889bb1bd37",
   "metadata": {},
   "outputs": [
    {
     "data": {
      "text/plain": [
       "27"
      ]
     },
     "execution_count": 54,
     "metadata": {},
     "output_type": "execute_result"
    }
   ],
   "source": [
    "third"
   ]
  },
  {
   "cell_type": "code",
   "execution_count": 55,
   "id": "77876cf7-f0c0-4cbb-aee0-4d4e2e1f9e55",
   "metadata": {},
   "outputs": [
    {
     "data": {
      "text/plain": [
       "[1, 8, 27]"
      ]
     },
     "execution_count": 55,
     "metadata": {},
     "output_type": "execute_result"
    }
   ],
   "source": [
    "[x**3 for x in values]"
   ]
  },
  {
   "cell_type": "code",
   "execution_count": 56,
   "id": "caa24049-1ebb-4cb2-b98e-eaaf0156dfb5",
   "metadata": {},
   "outputs": [
    {
     "data": {
      "text/plain": [
       "{1: 1,\n",
       " 3: 129140163,\n",
       " 5: 762939453125,\n",
       " 7: 232630513987207,\n",
       " 9: 16677181699666569,\n",
       " 11: 505447028499293771,\n",
       " 13: 8650415919381337933}"
      ]
     },
     "execution_count": 56,
     "metadata": {},
     "output_type": "execute_result"
    }
   ],
   "source": [
    "# raises the odd numbers from 1 to 13 (inclusive) to the power of 17\n",
    "{x: x**17 for x in range(1, 14, 2)}"
   ]
  },
  {
   "cell_type": "code",
   "execution_count": 57,
   "id": "735ddd06-0ddf-46fb-a8f4-e4a842b1a674",
   "metadata": {},
   "outputs": [],
   "source": [
    "z = 5 "
   ]
  },
  {
   "cell_type": "code",
   "execution_count": 58,
   "id": "b15fe82a-4487-43da-9167-60c1069bf01b",
   "metadata": {},
   "outputs": [
    {
     "data": {
      "text/plain": [
       "6"
      ]
     },
     "execution_count": 58,
     "metadata": {},
     "output_type": "execute_result"
    }
   ],
   "source": [
    "z + 1 "
   ]
  },
  {
   "cell_type": "code",
   "execution_count": 59,
   "id": "1644e338-d74b-440f-8436-aee2ed4c02a4",
   "metadata": {},
   "outputs": [
    {
     "data": {
      "text/plain": [
       "762939453125"
      ]
     },
     "execution_count": 59,
     "metadata": {},
     "output_type": "execute_result"
    }
   ],
   "source": [
    "z ** 17 "
   ]
  },
  {
   "cell_type": "code",
   "execution_count": 60,
   "id": "faaaf52c-2e74-4572-81fb-d1c916a8e6af",
   "metadata": {},
   "outputs": [
    {
     "data": {
      "text/plain": [
       "(5, 6)"
      ]
     },
     "execution_count": 60,
     "metadata": {},
     "output_type": "execute_result"
    }
   ],
   "source": [
    "(z, z + 1)"
   ]
  },
  {
   "cell_type": "code",
   "execution_count": 61,
   "id": "e35ed508-c59e-4d17-ab5a-7eec4e9a0395",
   "metadata": {},
   "outputs": [
    {
     "data": {
      "text/plain": [
       "{}"
      ]
     },
     "execution_count": 61,
     "metadata": {},
     "output_type": "execute_result"
    }
   ],
   "source": [
    "{}"
   ]
  },
  {
   "cell_type": "code",
   "execution_count": 62,
   "id": "8733ef9d-6f8f-40d5-95c2-29ace2994f74",
   "metadata": {},
   "outputs": [],
   "source": [
    "some_cubes = tuple(x**3 for x in values)"
   ]
  },
  {
   "cell_type": "code",
   "execution_count": 63,
   "id": "7557cb17-552d-4384-9465-b88f21b600af",
   "metadata": {},
   "outputs": [
    {
     "data": {
      "text/plain": [
       "(1, 8, 27)"
      ]
     },
     "execution_count": 63,
     "metadata": {},
     "output_type": "execute_result"
    }
   ],
   "source": [
    "some_cubes"
   ]
  },
  {
   "cell_type": "code",
   "execution_count": 64,
   "id": "793673cc-2e58-42cd-ae92-20932671df99",
   "metadata": {},
   "outputs": [
    {
     "data": {
      "text/plain": [
       "[1, 8, 27]"
      ]
     },
     "execution_count": 64,
     "metadata": {},
     "output_type": "execute_result"
    }
   ],
   "source": [
    "[*some_cubes]"
   ]
  },
  {
   "cell_type": "code",
   "execution_count": 65,
   "id": "7561808f-6c46-4d8a-a818-5a223ad277cf",
   "metadata": {},
   "outputs": [
    {
     "name": "stdout",
     "output_type": "stream",
     "text": [
      "10 20 30\n"
     ]
    }
   ],
   "source": [
    "print(10, 20, 30)"
   ]
  },
  {
   "cell_type": "code",
   "execution_count": 66,
   "id": "1ba2eeec-3e86-430b-a028-3dad3dbb9e3e",
   "metadata": {},
   "outputs": [
    {
     "name": "stdout",
     "output_type": "stream",
     "text": [
      "(10, 20, 30)\n"
     ]
    }
   ],
   "source": [
    "print((10, 20, 30))"
   ]
  },
  {
   "cell_type": "code",
   "execution_count": 67,
   "id": "5cea8e55-3f4c-4448-8b08-94869f49103d",
   "metadata": {},
   "outputs": [
    {
     "name": "stdout",
     "output_type": "stream",
     "text": [
      "(10, 20, 30)\n"
     ]
    }
   ],
   "source": [
    "print(((10, 20, 30)))"
   ]
  },
  {
   "cell_type": "code",
   "execution_count": 68,
   "id": "5889b40b-f880-4389-aad7-ad094940983a",
   "metadata": {},
   "outputs": [],
   "source": [
    "# Cubes of the integers 1 through 10 (inclusive), in order."
   ]
  },
  {
   "cell_type": "code",
   "execution_count": 69,
   "id": "888eda01-0421-44a0-9d0f-9aa6596c0b14",
   "metadata": {},
   "outputs": [],
   "source": [
    "d = {x: x**3 for x in range(1,11)}"
   ]
  },
  {
   "cell_type": "code",
   "execution_count": 70,
   "id": "b54f7dd0-618b-4bdb-a40d-b45ad447c723",
   "metadata": {},
   "outputs": [
    {
     "name": "stdout",
     "output_type": "stream",
     "text": [
      "0\n",
      "1\n",
      "1\n",
      "2\n",
      "2\n",
      "3\n",
      "3\n",
      "4\n",
      "4\n",
      "5\n",
      "5\n",
      "6\n",
      "6\n",
      "7\n",
      "7\n",
      "8\n",
      "8\n",
      "9\n",
      "9\n",
      "10\n"
     ]
    }
   ],
   "source": [
    "for key, v in enumerate (d): \n",
    "    print(key)\n",
    "    print(v)"
   ]
  },
  {
   "cell_type": "code",
   "execution_count": 71,
   "id": "e3559d15-a373-4483-a391-a8c2d91a0fe0",
   "metadata": {},
   "outputs": [
    {
     "data": {
      "text/plain": [
       "<enumerate at 0x1adb4215340>"
      ]
     },
     "execution_count": 71,
     "metadata": {},
     "output_type": "execute_result"
    }
   ],
   "source": [
    "a = [10, 20, 30]\n",
    "enumerate(a)"
   ]
  },
  {
   "cell_type": "code",
   "execution_count": 72,
   "id": "9b47b7f5-4c54-48e2-be24-34b5ce2e7bd3",
   "metadata": {},
   "outputs": [
    {
     "data": {
      "text/plain": [
       "[(0, 10), (1, 20), (2, 30)]"
      ]
     },
     "execution_count": 72,
     "metadata": {},
     "output_type": "execute_result"
    }
   ],
   "source": [
    "list(_)"
   ]
  },
  {
   "cell_type": "code",
   "execution_count": 73,
   "id": "82fd8cef-03cf-4ffd-8c83-59960bb799f2",
   "metadata": {},
   "outputs": [
    {
     "data": {
      "text/plain": [
       "[1, 2, 3, 4, 5, 6, 7, 8, 9, 10]"
      ]
     },
     "execution_count": 73,
     "metadata": {},
     "output_type": "execute_result"
    }
   ],
   "source": [
    "list(d)"
   ]
  },
  {
   "cell_type": "code",
   "execution_count": 74,
   "id": "df305774-c117-4c5b-a1b2-f5390b44a6a7",
   "metadata": {},
   "outputs": [
    {
     "data": {
      "text/plain": [
       "{10, 20, 30, 40, 50}"
      ]
     },
     "execution_count": 74,
     "metadata": {},
     "output_type": "execute_result"
    }
   ],
   "source": [
    "s = {10, 20, 30, 40, 50}\n",
    "s"
   ]
  },
  {
   "cell_type": "code",
   "execution_count": 75,
   "id": "e12df55c-e7f4-42bf-b320-77acdf30968c",
   "metadata": {},
   "outputs": [
    {
     "data": {
      "text/plain": [
       "[50, 20, 40, 10, 30]"
      ]
     },
     "execution_count": 75,
     "metadata": {},
     "output_type": "execute_result"
    }
   ],
   "source": [
    "list(s)"
   ]
  },
  {
   "cell_type": "code",
   "execution_count": 76,
   "id": "249a091a-3f30-4c6e-a0f9-d18351abd2db",
   "metadata": {},
   "outputs": [
    {
     "data": {
      "text/plain": [
       "[(0, 50), (1, 20), (2, 40), (3, 10), (4, 30)]"
      ]
     },
     "execution_count": 76,
     "metadata": {},
     "output_type": "execute_result"
    }
   ],
   "source": [
    "list(enumerate(s))"
   ]
  },
  {
   "cell_type": "code",
   "execution_count": 77,
   "id": "02e06500-d59c-4a88-ad48-f4bfba51a495",
   "metadata": {},
   "outputs": [
    {
     "data": {
      "text/plain": [
       "<enumerate at 0x1adb4217080>"
      ]
     },
     "execution_count": 77,
     "metadata": {},
     "output_type": "execute_result"
    }
   ],
   "source": [
    "enumerate(s)"
   ]
  },
  {
   "cell_type": "code",
   "execution_count": 78,
   "id": "492f6900-f271-4c6a-a067-c4dac2ef0b5f",
   "metadata": {},
   "outputs": [
    {
     "data": {
      "text/plain": [
       "(0, 50)"
      ]
     },
     "execution_count": 78,
     "metadata": {},
     "output_type": "execute_result"
    }
   ],
   "source": [
    "next(_)"
   ]
  },
  {
   "cell_type": "code",
   "execution_count": 79,
   "id": "ea54d180-1598-49fe-9f5d-a5908ce2839c",
   "metadata": {},
   "outputs": [],
   "source": [
    "en = enumerate(range(10**1000))"
   ]
  },
  {
   "cell_type": "code",
   "execution_count": 80,
   "id": "40c49e98-8ad8-4f99-945c-22c3d8c65741",
   "metadata": {},
   "outputs": [
    {
     "data": {
      "text/plain": [
       "(0, 0)"
      ]
     },
     "execution_count": 80,
     "metadata": {},
     "output_type": "execute_result"
    }
   ],
   "source": [
    "next(en)"
   ]
  },
  {
   "cell_type": "code",
   "execution_count": 81,
   "id": "1e90ff03-db6d-485e-9f56-2c5034ab4081",
   "metadata": {},
   "outputs": [
    {
     "data": {
      "text/plain": [
       "(1, 1)"
      ]
     },
     "execution_count": 81,
     "metadata": {},
     "output_type": "execute_result"
    }
   ],
   "source": [
    "next(en)"
   ]
  },
  {
   "cell_type": "code",
   "execution_count": 82,
   "id": "7b95cd36-fa80-4f24-bca2-e8b248a2b5c4",
   "metadata": {},
   "outputs": [],
   "source": [
    "def my_enumerate(iterable):\n",
    "    y = 0\n",
    "    for x in iterable:\n",
    "        yield (y, x)\n",
    "        y += 1"
   ]
  },
  {
   "cell_type": "code",
   "execution_count": 83,
   "id": "3ed2c1f0-02fb-4241-bff3-08b49e12dd95",
   "metadata": {},
   "outputs": [],
   "source": [
    "men = my_enumerate(range(3,10000))"
   ]
  },
  {
   "cell_type": "code",
   "execution_count": 84,
   "id": "04f52ae7-3828-41e8-a55b-0778e04799a4",
   "metadata": {},
   "outputs": [
    {
     "data": {
      "text/plain": [
       "(0, 3)"
      ]
     },
     "execution_count": 84,
     "metadata": {},
     "output_type": "execute_result"
    }
   ],
   "source": [
    "next(men)"
   ]
  },
  {
   "cell_type": "code",
   "execution_count": 85,
   "id": "794d74ce-436f-4855-ac4a-e463c9328204",
   "metadata": {},
   "outputs": [],
   "source": [
    "a = [10, 20, 30]"
   ]
  },
  {
   "cell_type": "code",
   "execution_count": 86,
   "id": "f6da7757-61f4-4bc7-ac3f-11ee096dd4a9",
   "metadata": {},
   "outputs": [
    {
     "data": {
      "text/plain": [
       "True"
      ]
     },
     "execution_count": 86,
     "metadata": {},
     "output_type": "execute_result"
    }
   ],
   "source": [
    "20 in a"
   ]
  },
  {
   "cell_type": "code",
   "execution_count": 87,
   "id": "1b71c68b-865a-49e1-a97e-a8e65bae6962",
   "metadata": {},
   "outputs": [
    {
     "data": {
      "text/plain": [
       "False"
      ]
     },
     "execution_count": 87,
     "metadata": {},
     "output_type": "execute_result"
    }
   ],
   "source": [
    "21 in a"
   ]
  },
  {
   "cell_type": "code",
   "execution_count": 88,
   "id": "989c6112-d2da-4f30-be03-8764be3459dd",
   "metadata": {},
   "outputs": [
    {
     "data": {
      "text/plain": [
       "27"
      ]
     },
     "execution_count": 88,
     "metadata": {},
     "output_type": "execute_result"
    }
   ],
   "source": [
    "x"
   ]
  },
  {
   "cell_type": "code",
   "execution_count": 89,
   "id": "d8fb1cbd-ab0b-4e3d-854e-be551edd3fcf",
   "metadata": {},
   "outputs": [
    {
     "data": {
      "text/plain": [
       "False"
      ]
     },
     "execution_count": 89,
     "metadata": {},
     "output_type": "execute_result"
    }
   ],
   "source": [
    "x in a"
   ]
  },
  {
   "cell_type": "code",
   "execution_count": 90,
   "id": "bdd8e7de-c827-40c2-bf83-641c49fc7e48",
   "metadata": {},
   "outputs": [
    {
     "data": {
      "text/plain": [
       "True"
      ]
     },
     "execution_count": 90,
     "metadata": {},
     "output_type": "execute_result"
    }
   ],
   "source": [
    "x not in a"
   ]
  },
  {
   "cell_type": "code",
   "execution_count": 91,
   "id": "a55500da-0591-4ed5-84c1-6b482ecc332c",
   "metadata": {},
   "outputs": [
    {
     "data": {
      "text/plain": [
       "{1: 1, 2: 8, 3: 27, 4: 64, 5: 125, 6: 216, 7: 343, 8: 512, 9: 729, 10: 1000}"
      ]
     },
     "execution_count": 91,
     "metadata": {},
     "output_type": "execute_result"
    }
   ],
   "source": [
    "d"
   ]
  },
  {
   "cell_type": "code",
   "execution_count": 92,
   "id": "f5e06707-bc70-479f-ae66-d27fa76e65a6",
   "metadata": {},
   "outputs": [
    {
     "data": {
      "text/plain": [
       "[1, 2, 3, 4, 5, 6, 7, 8, 9, 10]"
      ]
     },
     "execution_count": 92,
     "metadata": {},
     "output_type": "execute_result"
    }
   ],
   "source": [
    "list(d)"
   ]
  },
  {
   "cell_type": "code",
   "execution_count": 93,
   "id": "48b47b2b-4921-4b0e-a663-07ec94d68578",
   "metadata": {},
   "outputs": [
    {
     "data": {
      "text/plain": [
       "dict_items([(1, 1), (2, 8), (3, 27), (4, 64), (5, 125), (6, 216), (7, 343), (8, 512), (9, 729), (10, 1000)])"
      ]
     },
     "execution_count": 93,
     "metadata": {},
     "output_type": "execute_result"
    }
   ],
   "source": [
    "d.items()"
   ]
  },
  {
   "cell_type": "code",
   "execution_count": 94,
   "id": "3ca5b04d-656c-425b-91d2-5f2d8e6884b4",
   "metadata": {},
   "outputs": [
    {
     "name": "stdout",
     "output_type": "stream",
     "text": [
      "1 -> 1\n",
      "2 -> 8\n",
      "3 -> 27\n",
      "4 -> 64\n",
      "5 -> 125\n",
      "6 -> 216\n",
      "7 -> 343\n",
      "8 -> 512\n",
      "9 -> 729\n",
      "10 -> 1000\n"
     ]
    }
   ],
   "source": [
    "# Looping through just d gives the keys.\n",
    "#\n",
    "# This is so that what we get by iterating agrees with the behavior\n",
    "# of the \"in\" operator.\n",
    "#\n",
    "# NOTE: The \"in\" in the for-loop syntax is NOT the \"in\" *operator*.\n",
    "for key, value in d.items():\n",
    "    print(f'{key} -> {value}')"
   ]
  },
  {
   "cell_type": "code",
   "execution_count": 95,
   "id": "c094fd0b-7efa-4b09-8741-171234ec0715",
   "metadata": {},
   "outputs": [
    {
     "data": {
      "text/plain": [
       "True"
      ]
     },
     "execution_count": 95,
     "metadata": {},
     "output_type": "execute_result"
    }
   ],
   "source": [
    "# For dictionaries, the \"in\" operator checks if its left operand is a KEY\n",
    "# of its right operand.\n",
    "#\n",
    "# This is because dictionaries support efficient lookup by key (that's the\n",
    "# whole point of a dictionary), so that's what everybody would expect the\n",
    "# \"in\" operator to do on a dictionary, whether or not it did.\n",
    "#\n",
    "# The effect, though, is that the iteration behavior of dictionaries is\n",
    "# not obvious, and to many people not intuitive.\n",
    "9 in d"
   ]
  },
  {
   "cell_type": "code",
   "execution_count": 96,
   "id": "e5b65820-3802-4b89-b9db-65eff0640f1c",
   "metadata": {},
   "outputs": [
    {
     "data": {
      "text/plain": [
       "{1: 1, 2: 8, 3: 27, 4: 64, 5: 125, 6: 216, 7: 343, 8: 512, 9: 729, 10: 1000}"
      ]
     },
     "execution_count": 96,
     "metadata": {},
     "output_type": "execute_result"
    }
   ],
   "source": [
    "d"
   ]
  },
  {
   "cell_type": "code",
   "execution_count": 97,
   "id": "0ebc35b7-b0b4-4a46-9753-a2b825e0ada3",
   "metadata": {},
   "outputs": [
    {
     "data": {
      "text/plain": [
       "dict_keys([1, 2, 3, 4, 5, 6, 7, 8, 9, 10])"
      ]
     },
     "execution_count": 97,
     "metadata": {},
     "output_type": "execute_result"
    }
   ],
   "source": [
    "d.keys()"
   ]
  },
  {
   "cell_type": "code",
   "execution_count": 98,
   "id": "c66e6282-c3e7-4887-a713-f6c34880dfcf",
   "metadata": {},
   "outputs": [
    {
     "data": {
      "text/plain": [
       "dict_values([1, 8, 27, 64, 125, 216, 343, 512, 729, 1000])"
      ]
     },
     "execution_count": 98,
     "metadata": {},
     "output_type": "execute_result"
    }
   ],
   "source": [
    "d.values()"
   ]
  },
  {
   "cell_type": "code",
   "execution_count": 99,
   "id": "212b5fbe-6fd2-4925-9c71-d6c120006bbe",
   "metadata": {},
   "outputs": [
    {
     "data": {
      "text/plain": [
       "dict_items([(1, 1), (2, 8), (3, 27), (4, 64), (5, 125), (6, 216), (7, 343), (8, 512), (9, 729), (10, 1000)])"
      ]
     },
     "execution_count": 99,
     "metadata": {},
     "output_type": "execute_result"
    }
   ],
   "source": [
    "d.items()"
   ]
  },
  {
   "cell_type": "code",
   "execution_count": 100,
   "id": "7904c84c-2758-4de2-98b1-995d85dafc08",
   "metadata": {},
   "outputs": [],
   "source": [
    "j = [x**3 for x in range(1,11) if x**3 % 10 < 6]"
   ]
  },
  {
   "cell_type": "code",
   "execution_count": 101,
   "id": "6ddec65c-32bb-4a68-b56e-89b4c4f36a57",
   "metadata": {},
   "outputs": [
    {
     "data": {
      "text/plain": [
       "[1, 64, 125, 343, 512, 1000]"
      ]
     },
     "execution_count": 101,
     "metadata": {},
     "output_type": "execute_result"
    }
   ],
   "source": [
    "j"
   ]
  },
  {
   "cell_type": "code",
   "execution_count": 102,
   "id": "3ac08a8f-7023-48b8-a96e-208c472924fa",
   "metadata": {},
   "outputs": [
    {
     "data": {
      "text/plain": [
       "[1, 8, 27, 64, 125, 216, 343, 512, 729, 1000]"
      ]
     },
     "execution_count": 102,
     "metadata": {},
     "output_type": "execute_result"
    }
   ],
   "source": [
    "[x**3 for x in range(1, 11) if True]"
   ]
  },
  {
   "cell_type": "code",
   "execution_count": 103,
   "id": "5f1a2524-65aa-4b30-919b-33a4b9a3e4ae",
   "metadata": {},
   "outputs": [],
   "source": [
    "j = [x**3 for x in range(1,11) if x**3 % 10 < 6]"
   ]
  },
  {
   "cell_type": "code",
   "execution_count": 104,
   "id": "15f92185-f805-41d6-81b1-1c1cb8a9097a",
   "metadata": {},
   "outputs": [
    {
     "data": {
      "text/plain": [
       "[1, 64, 125, 343, 512, 1000]"
      ]
     },
     "execution_count": 104,
     "metadata": {},
     "output_type": "execute_result"
    }
   ],
   "source": [
    "[y for y in (x**3 for x in range(1, 11)) if y % 10 < 6]"
   ]
  },
  {
   "cell_type": "code",
   "execution_count": 105,
   "id": "03fbbe28-d211-4c9a-bbcc-3e41a67628e4",
   "metadata": {},
   "outputs": [],
   "source": [
    "# Comprehensions make scopes for variables\n",
    "def f():\n",
    "    x = 5735\n",
    "    squares = (x**2 for x in range(10))\n",
    "    print(*squares, sep=', ')\n",
    "    print(f'{x = }')"
   ]
  },
  {
   "cell_type": "code",
   "execution_count": 106,
   "id": "e8b65a65-d6fc-4a7d-a157-be1e86cb8391",
   "metadata": {},
   "outputs": [
    {
     "name": "stdout",
     "output_type": "stream",
     "text": [
      "0, 1, 4, 9, 16, 25, 36, 49, 64, 81\n",
      "x = 5735\n"
     ]
    }
   ],
   "source": [
    "f()"
   ]
  },
  {
   "cell_type": "code",
   "execution_count": 107,
   "id": "e762af79-3b0f-4c94-9a32-284119980511",
   "metadata": {},
   "outputs": [
    {
     "name": "stdout",
     "output_type": "stream",
     "text": [
      "foo; bar; baz\n"
     ]
    }
   ],
   "source": [
    "print('foo', 'bar', 'baz', sep='; ')"
   ]
  },
  {
   "cell_type": "code",
   "execution_count": 108,
   "id": "20c88505-0f54-4888-ae85-bf200cbd2b1b",
   "metadata": {},
   "outputs": [
    {
     "data": {
      "text/plain": [
       "<generator object <genexpr> at 0x000001ADB420F3E0>"
      ]
     },
     "execution_count": 108,
     "metadata": {},
     "output_type": "execute_result"
    }
   ],
   "source": [
    "(x for x in ())"
   ]
  },
  {
   "cell_type": "code",
   "execution_count": 109,
   "id": "090bf99e-e1bb-4cea-9085-73b12d18bd6a",
   "metadata": {},
   "outputs": [
    {
     "data": {
      "text/plain": [
       "[]"
      ]
     },
     "execution_count": 109,
     "metadata": {},
     "output_type": "execute_result"
    }
   ],
   "source": [
    "list(_)"
   ]
  },
  {
   "cell_type": "code",
   "execution_count": null,
   "id": "61ce4495-6576-4457-8b63-05fcecc9dc7a",
   "metadata": {},
   "outputs": [],
   "source": []
  }
 ],
 "metadata": {
  "kernelspec": {
   "display_name": "Python 3 (ipykernel)",
   "language": "python",
   "name": "python3"
  },
  "language_info": {
   "codemirror_mode": {
    "name": "ipython",
    "version": 3
   },
   "file_extension": ".py",
   "mimetype": "text/x-python",
   "name": "python",
   "nbconvert_exporter": "python",
   "pygments_lexer": "ipython3",
   "version": "3.10.2"
  }
 },
 "nbformat": 4,
 "nbformat_minor": 5
}
