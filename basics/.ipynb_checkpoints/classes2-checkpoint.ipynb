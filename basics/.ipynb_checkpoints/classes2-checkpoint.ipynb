{
 "cells": [
  {
   "cell_type": "markdown",
   "id": "9cc52926-46df-4d9b-bd9f-4eac3dfe3fb6",
   "metadata": {},
   "source": [
    "# Classes - More in depth"
   ]
  },
  {
   "cell_type": "markdown",
   "id": "afc59a60-6dab-43ae-97bc-74a5201539d3",
   "metadata": {},
   "source": [
    "An undecorated method with missing `self` behaves like a static method, in the most common use case that it is called only on the class. This is not usually a good thing to do. I present it here *not* to recommend it, but to caution against it as a mistake that can arise when one forgets to write `@staticmethod` when one meant to do so."
   ]
  },
  {
   "cell_type": "code",
   "execution_count": 1,
   "id": "f39498b3-abb2-4cd3-acb5-1f6b95763008",
   "metadata": {},
   "outputs": [],
   "source": [
    "class Selfless:\n",
    "    def f():\n",
    "        \"\"\"Not generally good to do, but sort of behaves like a static method.\"\"\"\n",
    "        print('Hello.')"
   ]
  },
  {
   "cell_type": "code",
   "execution_count": 2,
   "id": "ff195307-99dc-4e23-adf2-b549755fee71",
   "metadata": {},
   "outputs": [
    {
     "name": "stdout",
     "output_type": "stream",
     "text": [
      "Hello.\n"
     ]
    }
   ],
   "source": [
    "Selfless.f()"
   ]
  },
  {
   "cell_type": "code",
   "execution_count": 3,
   "id": "2c128eca-f397-48a3-b505-f56d100ada2f",
   "metadata": {
    "tags": [
     "raises-exception"
    ]
   },
   "outputs": [
    {
     "ename": "TypeError",
     "evalue": "Selfless.f() takes 0 positional arguments but 1 was given",
     "output_type": "error",
     "traceback": [
      "\u001b[1;31m---------------------------------------------------------------------------\u001b[0m",
      "\u001b[1;31mTypeError\u001b[0m                                 Traceback (most recent call last)",
      "Input \u001b[1;32mIn [3]\u001b[0m, in \u001b[0;36m<cell line: 2>\u001b[1;34m()\u001b[0m\n\u001b[0;32m      1\u001b[0m x \u001b[38;5;241m=\u001b[39m Selfless()\n\u001b[1;32m----> 2\u001b[0m \u001b[43mx\u001b[49m\u001b[38;5;241;43m.\u001b[39;49m\u001b[43mf\u001b[49m\u001b[43m(\u001b[49m\u001b[43m)\u001b[49m\n",
      "\u001b[1;31mTypeError\u001b[0m: Selfless.f() takes 0 positional arguments but 1 was given"
     ]
    }
   ],
   "source": [
    "x = Selfless()\n",
    "x.f()"
   ]
  },
  {
   "cell_type": "code",
   "execution_count": null,
   "id": "63cb2ed8-ac2c-467f-aeec-07daef45a1ad",
   "metadata": {},
   "outputs": [],
   "source": []
  }
 ],
 "metadata": {
  "kernelspec": {
   "display_name": "Python 3 (ipykernel)",
   "language": "python",
   "name": "python3"
  },
  "language_info": {
   "codemirror_mode": {
    "name": "ipython",
    "version": 3
   },
   "file_extension": ".py",
   "mimetype": "text/x-python",
   "name": "python",
   "nbconvert_exporter": "python",
   "pygments_lexer": "ipython3",
   "version": "3.10.4"
  }
 },
 "nbformat": 4,
 "nbformat_minor": 5
}
