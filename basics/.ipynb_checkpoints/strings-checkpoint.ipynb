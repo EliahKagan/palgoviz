{
 "cells": [
  {
   "cell_type": "markdown",
   "id": "405a632a-93e2-4ae3-95cb-675693596a1b",
   "metadata": {},
   "source": [
    "# String operations"
   ]
  },
  {
   "cell_type": "code",
   "execution_count": 1,
   "id": "e0fc3ba9-40b3-4e08-b1a4-3652e41173ad",
   "metadata": {},
   "outputs": [
    {
     "name": "stdout",
     "output_type": "stream",
     "text": [
      "hello\n"
     ]
    }
   ],
   "source": [
    "print('hello')"
   ]
  },
  {
   "cell_type": "code",
   "execution_count": 2,
   "id": "58adc375-8c6d-4e2a-8268-31450b2995fb",
   "metadata": {},
   "outputs": [
    {
     "data": {
      "text/plain": [
       "'hello'"
      ]
     },
     "execution_count": 2,
     "metadata": {},
     "output_type": "execute_result"
    }
   ],
   "source": [
    "'hello'"
   ]
  },
  {
   "cell_type": "code",
   "execution_count": 3,
   "id": "cfb03332-856e-406b-8142-2c58573c0662",
   "metadata": {},
   "outputs": [
    {
     "data": {
      "text/plain": [
       "'hello'"
      ]
     },
     "execution_count": 3,
     "metadata": {},
     "output_type": "execute_result"
    }
   ],
   "source": [
    "str('hello')"
   ]
  },
  {
   "cell_type": "code",
   "execution_count": 4,
   "id": "b2aa758f-eede-423b-87d0-436cfc10a6ba",
   "metadata": {},
   "outputs": [
    {
     "data": {
      "text/plain": [
       "\"'hello'\""
      ]
     },
     "execution_count": 4,
     "metadata": {},
     "output_type": "execute_result"
    }
   ],
   "source": [
    "repr('hello')"
   ]
  },
  {
   "cell_type": "code",
   "execution_count": 5,
   "id": "3c95a90c-5e8d-4900-91b3-e6a068cb5463",
   "metadata": {},
   "outputs": [
    {
     "data": {
      "text/plain": [
       "str"
      ]
     },
     "execution_count": 5,
     "metadata": {},
     "output_type": "execute_result"
    }
   ],
   "source": [
    "type('hello')"
   ]
  },
  {
   "cell_type": "code",
   "execution_count": 6,
   "id": "b02a9b64-ed16-4f03-8f41-3ac9dc315126",
   "metadata": {},
   "outputs": [
    {
     "data": {
      "text/plain": [
       "'3'"
      ]
     },
     "execution_count": 6,
     "metadata": {},
     "output_type": "execute_result"
    }
   ],
   "source": [
    "str(3)"
   ]
  },
  {
   "cell_type": "code",
   "execution_count": 7,
   "id": "c4b2b81b-ebad-453d-858d-5c2e7f950e44",
   "metadata": {},
   "outputs": [],
   "source": [
    "from fractions import Fraction"
   ]
  },
  {
   "cell_type": "code",
   "execution_count": 8,
   "id": "7d2d22d2-c602-4bba-936e-158c20cf82c5",
   "metadata": {},
   "outputs": [],
   "source": [
    "x = Fraction(2, 3)"
   ]
  },
  {
   "cell_type": "code",
   "execution_count": 9,
   "id": "446f5bde-be6f-4f7d-b7fb-bbf6541f4e3d",
   "metadata": {},
   "outputs": [
    {
     "data": {
      "text/plain": [
       "Fraction(2, 3)"
      ]
     },
     "execution_count": 9,
     "metadata": {},
     "output_type": "execute_result"
    }
   ],
   "source": [
    "x"
   ]
  },
  {
   "cell_type": "code",
   "execution_count": 10,
   "id": "ae40fe63-6dc6-46b0-a984-230e87c37b22",
   "metadata": {},
   "outputs": [
    {
     "data": {
      "text/plain": [
       "'Fraction(2, 3)'"
      ]
     },
     "execution_count": 10,
     "metadata": {},
     "output_type": "execute_result"
    }
   ],
   "source": [
    "repr(x)"
   ]
  },
  {
   "cell_type": "code",
   "execution_count": 11,
   "id": "7bc0a86a-b5f3-4a4a-8b6b-fcd67558b54e",
   "metadata": {},
   "outputs": [
    {
     "data": {
      "text/plain": [
       "'2/3'"
      ]
     },
     "execution_count": 11,
     "metadata": {},
     "output_type": "execute_result"
    }
   ],
   "source": [
    "str(x)"
   ]
  },
  {
   "cell_type": "code",
   "execution_count": 12,
   "id": "93a346fe-21ae-49c1-b7fd-2eef41b275c2",
   "metadata": {},
   "outputs": [
    {
     "name": "stdout",
     "output_type": "stream",
     "text": [
      "3\n"
     ]
    }
   ],
   "source": [
    "print(3)"
   ]
  },
  {
   "cell_type": "code",
   "execution_count": 13,
   "id": "c1f21d4d-c1ab-4823-a18f-098b7a19e18b",
   "metadata": {},
   "outputs": [
    {
     "data": {
      "text/plain": [
       "'None'"
      ]
     },
     "execution_count": 13,
     "metadata": {},
     "output_type": "execute_result"
    }
   ],
   "source": [
    "repr(None)"
   ]
  },
  {
   "cell_type": "code",
   "execution_count": 14,
   "id": "ee752e17-82c5-47fb-995d-28108d787478",
   "metadata": {},
   "outputs": [
    {
     "data": {
      "text/plain": [
       "'None'"
      ]
     },
     "execution_count": 14,
     "metadata": {},
     "output_type": "execute_result"
    }
   ],
   "source": [
    "str(None)"
   ]
  },
  {
   "cell_type": "code",
   "execution_count": 15,
   "id": "0c373676-153c-4021-aa9c-9ffc996c2857",
   "metadata": {},
   "outputs": [
    {
     "data": {
      "text/plain": [
       "27"
      ]
     },
     "execution_count": 15,
     "metadata": {},
     "output_type": "execute_result"
    }
   ],
   "source": [
    "x = 3\n",
    "x**2\n",
    "x**3"
   ]
  },
  {
   "cell_type": "code",
   "execution_count": 16,
   "id": "68dd86c1-5b0e-4854-85e1-8920bcaec9e8",
   "metadata": {},
   "outputs": [
    {
     "name": "stdout",
     "output_type": "stream",
     "text": [
      "27\n"
     ]
    }
   ],
   "source": [
    "print(x**3)"
   ]
  },
  {
   "cell_type": "code",
   "execution_count": 17,
   "id": "4bf45695-b87e-4e6c-81c1-d016f76b4a57",
   "metadata": {},
   "outputs": [
    {
     "name": "stdout",
     "output_type": "stream",
     "text": [
      "27\n"
     ]
    }
   ],
   "source": [
    "print(repr(x**3))"
   ]
  },
  {
   "cell_type": "code",
   "execution_count": 18,
   "id": "c14f986e-9ccd-4474-9293-384c98a49482",
   "metadata": {},
   "outputs": [
    {
     "name": "stdout",
     "output_type": "stream",
     "text": [
      "\"'hello'\"\n"
     ]
    }
   ],
   "source": [
    "print(repr(repr('hello')))"
   ]
  },
  {
   "cell_type": "code",
   "execution_count": 19,
   "id": "5c96fc03-6ff4-442b-ab47-fffd22afa367",
   "metadata": {},
   "outputs": [
    {
     "data": {
      "text/plain": [
       "<function __main__.<lambda>(x)>"
      ]
     },
     "execution_count": 19,
     "metadata": {},
     "output_type": "execute_result"
    }
   ],
   "source": [
    "lambda x: x"
   ]
  },
  {
   "cell_type": "code",
   "execution_count": 20,
   "id": "bc42c1f8-2a3a-4c25-9e8e-319f4f040fd3",
   "metadata": {},
   "outputs": [
    {
     "data": {
      "text/plain": [
       "'Fraction(2, 3)'"
      ]
     },
     "execution_count": 20,
     "metadata": {},
     "output_type": "execute_result"
    }
   ],
   "source": [
    "repr(Fraction(2, 3))"
   ]
  },
  {
   "cell_type": "code",
   "execution_count": 21,
   "id": "880aa091-fe93-4139-8e01-20f04f52c1e2",
   "metadata": {},
   "outputs": [
    {
     "data": {
      "text/plain": [
       "'2/3'"
      ]
     },
     "execution_count": 21,
     "metadata": {},
     "output_type": "execute_result"
    }
   ],
   "source": [
    "str(Fraction(2, 3))"
   ]
  },
  {
   "cell_type": "code",
   "execution_count": 22,
   "id": "a3269e22-1e45-43c5-bea7-0817772b06ea",
   "metadata": {},
   "outputs": [
    {
     "data": {
      "text/plain": [
       "0.6666666666666666"
      ]
     },
     "execution_count": 22,
     "metadata": {},
     "output_type": "execute_result"
    }
   ],
   "source": [
    "2/3"
   ]
  },
  {
   "cell_type": "code",
   "execution_count": 23,
   "id": "1caa7de4-2b94-4f13-97b4-42ce20d4fece",
   "metadata": {},
   "outputs": [
    {
     "data": {
      "text/plain": [
       "'2/3'"
      ]
     },
     "execution_count": 23,
     "metadata": {},
     "output_type": "execute_result"
    }
   ],
   "source": [
    "f'{Fraction(2, 3)}'"
   ]
  },
  {
   "cell_type": "code",
   "execution_count": 24,
   "id": "29c5ea7f-96a1-4ef3-a55f-7d8c2cb98441",
   "metadata": {},
   "outputs": [
    {
     "data": {
      "text/plain": [
       "'Fraction(2, 3)'"
      ]
     },
     "execution_count": 24,
     "metadata": {},
     "output_type": "execute_result"
    }
   ],
   "source": [
    "f'{Fraction(2, 3)!r}'"
   ]
  },
  {
   "cell_type": "code",
   "execution_count": 25,
   "id": "aa435ddc-b02e-48ad-ae63-7e0232d23b40",
   "metadata": {},
   "outputs": [
    {
     "data": {
      "text/plain": [
       "'Fraction(2, 3) = Fraction(2, 3)'"
      ]
     },
     "execution_count": 25,
     "metadata": {},
     "output_type": "execute_result"
    }
   ],
   "source": [
    "f'{Fraction(2, 3) = }'"
   ]
  },
  {
   "cell_type": "code",
   "execution_count": 26,
   "id": "4d1ce254-6e1e-4ac6-bf75-dc14e688ff68",
   "metadata": {},
   "outputs": [
    {
     "data": {
      "text/plain": [
       "'Fraction(2, 3) = 2/3'"
      ]
     },
     "execution_count": 26,
     "metadata": {},
     "output_type": "execute_result"
    }
   ],
   "source": [
    "f'{Fraction(2, 3) = !s}'"
   ]
  },
  {
   "cell_type": "code",
   "execution_count": 27,
   "id": "ebdf5a52-e831-4fcb-8e6d-b76a657e3916",
   "metadata": {},
   "outputs": [
    {
     "name": "stdout",
     "output_type": "stream",
     "text": [
      "Help on method_descriptor:\n",
      "\n",
      "split(self, /, sep=None, maxsplit=-1)\n",
      "    Return a list of the words in the string, using sep as the delimiter string.\n",
      "    \n",
      "    sep\n",
      "      The delimiter according which to split the string.\n",
      "      None (the default value) means split according to any whitespace,\n",
      "      and discard empty strings from the result.\n",
      "    maxsplit\n",
      "      Maximum number of splits to do.\n",
      "      -1 (the default value) means no limit.\n",
      "\n"
     ]
    }
   ],
   "source": [
    "help(str.split)"
   ]
  },
  {
   "cell_type": "code",
   "execution_count": 28,
   "id": "e9af9103-0737-43a0-826e-1c01504d41ee",
   "metadata": {},
   "outputs": [
    {
     "data": {
      "text/plain": [
       "['testing', 'the', 'split', 'method']"
      ]
     },
     "execution_count": 28,
     "metadata": {},
     "output_type": "execute_result"
    }
   ],
   "source": [
    "string = 'testing the split method'\n",
    "string.split()"
   ]
  },
  {
   "cell_type": "code",
   "execution_count": 29,
   "id": "cc047ebb-2a22-471a-af85-7261ea1eeae7",
   "metadata": {},
   "outputs": [
    {
     "data": {
      "text/plain": [
       "'testing the split method'"
      ]
     },
     "execution_count": 29,
     "metadata": {},
     "output_type": "execute_result"
    }
   ],
   "source": [
    "string"
   ]
  },
  {
   "cell_type": "code",
   "execution_count": 30,
   "id": "fd021406-9d07-4695-950c-1bd69061e804",
   "metadata": {},
   "outputs": [
    {
     "data": {
      "text/plain": [
       "['', 'es', 'ing ', 'he spli', ' me', 'hod']"
      ]
     },
     "execution_count": 30,
     "metadata": {},
     "output_type": "execute_result"
    }
   ],
   "source": [
    "string.split(sep='t')"
   ]
  },
  {
   "cell_type": "code",
   "execution_count": 31,
   "id": "31bdf615-9b86-48ca-9045-e0e06c10103c",
   "metadata": {},
   "outputs": [
    {
     "name": "stdout",
     "output_type": "stream",
     "text": [
      "Help on method_descriptor:\n",
      "\n",
      "join(self, iterable, /)\n",
      "    Concatenate any number of strings.\n",
      "    \n",
      "    The string whose method is called is inserted in between each given string.\n",
      "    The result is returned as a new string.\n",
      "    \n",
      "    Example: '.'.join(['ab', 'pq', 'rs']) -> 'ab.pq.rs'\n",
      "\n"
     ]
    }
   ],
   "source": [
    "help(str.join)"
   ]
  },
  {
   "cell_type": "code",
   "execution_count": 32,
   "id": "0abc25b6-8635-4fee-8598-8eec2cd7e4d2",
   "metadata": {},
   "outputs": [
    {
     "data": {
      "text/plain": [
       "'the_words_will_be_joined'"
      ]
     },
     "execution_count": 32,
     "metadata": {},
     "output_type": "execute_result"
    }
   ],
   "source": [
    "'_'.join(['the','words','will','be','joined'])"
   ]
  },
  {
   "cell_type": "code",
   "execution_count": 33,
   "id": "abaf1b03-1c84-44bc-9776-ee15f9fb79d2",
   "metadata": {},
   "outputs": [],
   "source": [
    "# Unfortunately, join requires an iterable of strings,\n",
    "# and it won't convert the \"words\" to strings when joining\n",
    "# them.\n",
    "a = [10, 20, 30, 40, 50, 60, 70]"
   ]
  },
  {
   "cell_type": "code",
   "execution_count": 34,
   "id": "36670144-0cdf-440e-83a2-45567b0b5b94",
   "metadata": {
    "tags": [
     "raises-exception"
    ]
   },
   "outputs": [
    {
     "ename": "TypeError",
     "evalue": "sequence item 0: expected str instance, int found",
     "output_type": "error",
     "traceback": [
      "\u001b[1;31m---------------------------------------------------------------------------\u001b[0m",
      "\u001b[1;31mTypeError\u001b[0m                                 Traceback (most recent call last)",
      "Input \u001b[1;32mIn [34]\u001b[0m, in \u001b[0;36m<module>\u001b[1;34m\u001b[0m\n\u001b[1;32m----> 1\u001b[0m \u001b[38;5;124;43m'\u001b[39;49m\u001b[38;5;124;43m; \u001b[39;49m\u001b[38;5;124;43m'\u001b[39;49m\u001b[38;5;241;43m.\u001b[39;49m\u001b[43mjoin\u001b[49m\u001b[43m(\u001b[49m\u001b[43ma\u001b[49m\u001b[43m)\u001b[49m\n",
      "\u001b[1;31mTypeError\u001b[0m: sequence item 0: expected str instance, int found"
     ]
    }
   ],
   "source": [
    "'; '.join(a)  # This won't work."
   ]
  },
  {
   "cell_type": "code",
   "execution_count": 35,
   "id": "b396df0c-8611-430c-895a-692607e1e2df",
   "metadata": {},
   "outputs": [
    {
     "data": {
      "text/plain": [
       "'10; 20; 30; 40; 50; 60; 70'"
      ]
     },
     "execution_count": 35,
     "metadata": {},
     "output_type": "execute_result"
    }
   ],
   "source": [
    "# Write an expression that converts the elements of the list\n",
    "# to strings and joins them with the delimiter \"; \".\n",
    "strlist = []\n",
    "for element in a: \n",
    "    strlist.append(str(element))\n",
    "'; '.join(strlist)"
   ]
  },
  {
   "cell_type": "code",
   "execution_count": 36,
   "id": "13f65ec1-b961-4eff-a8d2-0343bea8882e",
   "metadata": {},
   "outputs": [
    {
     "data": {
      "text/plain": [
       "'10; 20; 30; 40; 50; 60; 70'"
      ]
     },
     "execution_count": 36,
     "metadata": {},
     "output_type": "execute_result"
    }
   ],
   "source": [
    "strlist = [str(x) for x in a]\n",
    "'; '.join(strlist)"
   ]
  },
  {
   "cell_type": "code",
   "execution_count": 37,
   "id": "b6f508b6-6b07-4d1f-8e8e-a9f9c3209cd1",
   "metadata": {},
   "outputs": [
    {
     "data": {
      "text/plain": [
       "'10; 20; 30; 40; 50; 60; 70'"
      ]
     },
     "execution_count": 37,
     "metadata": {},
     "output_type": "execute_result"
    }
   ],
   "source": [
    "'; '.join(str(x) for x in a)"
   ]
  },
  {
   "cell_type": "code",
   "execution_count": 38,
   "id": "c6f7d6aa-70ad-4d45-8323-ab514489d450",
   "metadata": {},
   "outputs": [
    {
     "data": {
      "text/plain": [
       "'10; 20; 30; 40; 50; 60; 70'"
      ]
     },
     "execution_count": 38,
     "metadata": {},
     "output_type": "execute_result"
    }
   ],
   "source": [
    "# Now try it with the map builtin, instead of a comprehension.\n",
    "'; '.join(map(str, a))"
   ]
  },
  {
   "cell_type": "code",
   "execution_count": 39,
   "id": "957fb9ec-a329-4a0f-b061-411a6aff9297",
   "metadata": {},
   "outputs": [
    {
     "data": {
      "text/plain": [
       "True"
      ]
     },
     "execution_count": 39,
     "metadata": {},
     "output_type": "execute_result"
    }
   ],
   "source": [
    "# Strings support startswith and endswith methods to check if they\n",
    "# start or end with a particular prefix or suffix, respectively.\n",
    "b = \"Hello world\" \n",
    "b.startswith('Hello')"
   ]
  },
  {
   "cell_type": "code",
   "execution_count": 40,
   "id": "6b6be69b-49b5-455c-a5c2-a99c5966d2c5",
   "metadata": {},
   "outputs": [
    {
     "data": {
      "text/plain": [
       "['H', 'e', 'l', 'l', 'o', ' ', 'w', 'o', 'r', 'l', 'd']"
      ]
     },
     "execution_count": 40,
     "metadata": {},
     "output_type": "execute_result"
    }
   ],
   "source": [
    "list(b)"
   ]
  },
  {
   "cell_type": "code",
   "execution_count": 41,
   "id": "7b9c8574-076c-459b-b0ad-243af122b6de",
   "metadata": {},
   "outputs": [
    {
     "data": {
      "text/plain": [
       "True"
      ]
     },
     "execution_count": 41,
     "metadata": {},
     "output_type": "execute_result"
    }
   ],
   "source": [
    "# Check if \"llo\" is anywhere in the string b.\n",
    "'llo' in b"
   ]
  },
  {
   "cell_type": "code",
   "execution_count": 42,
   "id": "ef25d2a0-82be-43fa-a5e6-ffb7e849dc9c",
   "metadata": {},
   "outputs": [
    {
     "name": "stdout",
     "output_type": "stream",
     "text": [
      "Help on method_descriptor:\n",
      "\n",
      "startswith(...)\n",
      "    S.startswith(prefix[, start[, end]]) -> bool\n",
      "    \n",
      "    Return True if S starts with the specified prefix, False otherwise.\n",
      "    With optional start, test S beginning at that position.\n",
      "    With optional end, stop comparing S at that position.\n",
      "    prefix can also be a tuple of strings to try.\n",
      "\n"
     ]
    }
   ],
   "source": [
    "# startswith and endswith accept start indices, which are often\n",
    "# useful, and end indices, which are occasionally useful.\n",
    "help(str.startswith)"
   ]
  },
  {
   "cell_type": "code",
   "execution_count": 43,
   "id": "e2dbbf9c-f3d3-45db-aa2d-0115c2a77480",
   "metadata": {},
   "outputs": [
    {
     "data": {
      "text/plain": [
       "False"
      ]
     },
     "execution_count": 43,
     "metadata": {},
     "output_type": "execute_result"
    }
   ],
   "source": [
    "b.startswith('wo')"
   ]
  },
  {
   "cell_type": "code",
   "execution_count": 44,
   "id": "c3cbde25-c281-44b5-97ea-63d76eb96aa9",
   "metadata": {},
   "outputs": [
    {
     "data": {
      "text/plain": [
       "True"
      ]
     },
     "execution_count": 44,
     "metadata": {},
     "output_type": "execute_result"
    }
   ],
   "source": [
    "b.startswith('wo', 6)"
   ]
  },
  {
   "cell_type": "code",
   "execution_count": 45,
   "id": "dd4f1fba-2c83-4adb-8a22-81c782a4ac6c",
   "metadata": {},
   "outputs": [
    {
     "data": {
      "text/plain": [
       "3"
      ]
     },
     "execution_count": 45,
     "metadata": {},
     "output_type": "execute_result"
    }
   ],
   "source": [
    "# Like other sequences, strings support the index method.\n",
    "a = [10, 20, 30, 40, 50]\n",
    "a.index(40)"
   ]
  },
  {
   "cell_type": "code",
   "execution_count": 46,
   "id": "17792a26-4e59-4356-8f8b-dff7e3e1722f",
   "metadata": {
    "tags": [
     "raises-exception"
    ]
   },
   "outputs": [
    {
     "ename": "ValueError",
     "evalue": "41 is not in list",
     "output_type": "error",
     "traceback": [
      "\u001b[1;31m---------------------------------------------------------------------------\u001b[0m",
      "\u001b[1;31mValueError\u001b[0m                                Traceback (most recent call last)",
      "Input \u001b[1;32mIn [46]\u001b[0m, in \u001b[0;36m<module>\u001b[1;34m\u001b[0m\n\u001b[1;32m----> 1\u001b[0m \u001b[43ma\u001b[49m\u001b[38;5;241;43m.\u001b[39;49m\u001b[43mindex\u001b[49m\u001b[43m(\u001b[49m\u001b[38;5;241;43m41\u001b[39;49m\u001b[43m)\u001b[49m\n",
      "\u001b[1;31mValueError\u001b[0m: 41 is not in list"
     ]
    }
   ],
   "source": [
    "a.index(41)"
   ]
  },
  {
   "cell_type": "code",
   "execution_count": 47,
   "id": "ec6c69ce-4765-455f-94bc-620cca888aeb",
   "metadata": {},
   "outputs": [
    {
     "data": {
      "text/plain": [
       "6"
      ]
     },
     "execution_count": 47,
     "metadata": {},
     "output_type": "execute_result"
    }
   ],
   "source": [
    "b.index('w')"
   ]
  },
  {
   "cell_type": "code",
   "execution_count": 48,
   "id": "10af38af-38ab-4bd3-8da9-e9cfd7f838e5",
   "metadata": {},
   "outputs": [
    {
     "data": {
      "text/plain": [
       "0"
      ]
     },
     "execution_count": 48,
     "metadata": {},
     "output_type": "execute_result"
    }
   ],
   "source": [
    "# Like the \"in\" operator, the index method supports finding substrings\n",
    "# of length greater than 1.\n",
    "b.index('He')"
   ]
  },
  {
   "cell_type": "code",
   "execution_count": 49,
   "id": "17bc1b60-499c-4f62-8251-f56229c99989",
   "metadata": {},
   "outputs": [
    {
     "data": {
      "text/plain": [
       "2"
      ]
     },
     "execution_count": 49,
     "metadata": {},
     "output_type": "execute_result"
    }
   ],
   "source": [
    "b.index('l')"
   ]
  },
  {
   "cell_type": "code",
   "execution_count": 50,
   "id": "f3024a81-7a1b-43bf-afb9-802af6d85377",
   "metadata": {},
   "outputs": [
    {
     "data": {
      "text/plain": [
       "3"
      ]
     },
     "execution_count": 50,
     "metadata": {},
     "output_type": "execute_result"
    }
   ],
   "source": [
    "b.index('lo')"
   ]
  },
  {
   "cell_type": "code",
   "execution_count": 51,
   "id": "a7781f51-54d3-4810-a4a8-507dfb275f37",
   "metadata": {
    "tags": [
     "raises-exception"
    ]
   },
   "outputs": [
    {
     "ename": "ValueError",
     "evalue": "substring not found",
     "output_type": "error",
     "traceback": [
      "\u001b[1;31m---------------------------------------------------------------------------\u001b[0m",
      "\u001b[1;31mValueError\u001b[0m                                Traceback (most recent call last)",
      "Input \u001b[1;32mIn [51]\u001b[0m, in \u001b[0;36m<module>\u001b[1;34m\u001b[0m\n\u001b[1;32m----> 1\u001b[0m \u001b[43mb\u001b[49m\u001b[38;5;241;43m.\u001b[39;49m\u001b[43mindex\u001b[49m\u001b[43m(\u001b[49m\u001b[38;5;124;43m'\u001b[39;49m\u001b[38;5;124;43mlw\u001b[39;49m\u001b[38;5;124;43m'\u001b[39;49m\u001b[43m)\u001b[49m\n",
      "\u001b[1;31mValueError\u001b[0m: substring not found"
     ]
    }
   ],
   "source": [
    "b.index('lw')"
   ]
  },
  {
   "cell_type": "code",
   "execution_count": 52,
   "id": "33837c4b-924b-4ee5-8de6-e2cd297d936c",
   "metadata": {},
   "outputs": [
    {
     "data": {
      "text/plain": [
       "9"
      ]
     },
     "execution_count": 52,
     "metadata": {},
     "output_type": "execute_result"
    }
   ],
   "source": [
    "# Unlike most sequences, str supports an rindex method to search from\n",
    "# the right instead of the left.\n",
    "b.rindex('l')"
   ]
  },
  {
   "cell_type": "code",
   "execution_count": 53,
   "id": "9d7dbe5f-ee06-4afa-b461-a6649263dbd3",
   "metadata": {},
   "outputs": [
    {
     "data": {
      "text/plain": [
       "9"
      ]
     },
     "execution_count": 53,
     "metadata": {},
     "output_type": "execute_result"
    }
   ],
   "source": [
    "b.rindex('ld')"
   ]
  },
  {
   "cell_type": "code",
   "execution_count": 54,
   "id": "71a51f49-0366-44d1-ba28-87cd77f581b9",
   "metadata": {},
   "outputs": [
    {
     "data": {
      "text/plain": [
       "-1"
      ]
     },
     "execution_count": 54,
     "metadata": {},
     "output_type": "execute_result"
    }
   ],
   "source": [
    "# Also unlike most sequences, str supports alternatives to index and rindex:\n",
    "# the find and rfind methods, which return -1 instead of raising ValueError.\n",
    "b.find('lw')"
   ]
  },
  {
   "cell_type": "code",
   "execution_count": 55,
   "id": "6bd39548-5621-48f8-825e-711ba5afcf92",
   "metadata": {},
   "outputs": [
    {
     "data": {
      "text/plain": [
       "3"
      ]
     },
     "execution_count": 55,
     "metadata": {},
     "output_type": "execute_result"
    }
   ],
   "source": [
    "b.find('lo')"
   ]
  },
  {
   "cell_type": "code",
   "execution_count": 56,
   "id": "fdc395f0-6825-4a9b-b3bc-62288239e99a",
   "metadata": {},
   "outputs": [],
   "source": [
    "# That allows you to more easily use LBYL instead of EAFP, in situations\n",
    "# where you might prefer to do so."
   ]
  },
  {
   "cell_type": "code",
   "execution_count": 57,
   "id": "9f5a6f03-3d3c-4e9b-b629-1b4114df12ad",
   "metadata": {},
   "outputs": [
    {
     "data": {
      "text/plain": [
       "9"
      ]
     },
     "execution_count": 57,
     "metadata": {},
     "output_type": "execute_result"
    }
   ],
   "source": [
    "b.rfind('l')"
   ]
  },
  {
   "cell_type": "code",
   "execution_count": 58,
   "id": "28c38fc8-d8f6-4865-a6a3-1b6d4c160866",
   "metadata": {},
   "outputs": [
    {
     "data": {
      "text/plain": [
       "-1"
      ]
     },
     "execution_count": 58,
     "metadata": {},
     "output_type": "execute_result"
    }
   ],
   "source": [
    "b.rfind('lll')"
   ]
  },
  {
   "cell_type": "code",
   "execution_count": 59,
   "id": "e17787a4-851b-4674-96bc-35aa10aa8e22",
   "metadata": {},
   "outputs": [
    {
     "data": {
      "text/plain": [
       "'hello world'"
      ]
     },
     "execution_count": 59,
     "metadata": {},
     "output_type": "execute_result"
    }
   ],
   "source": [
    "# You can make a string with occurrences of a particular substring replaced\n",
    "# with some other string, using the replace method.\n",
    "b.replace('H','h')"
   ]
  },
  {
   "cell_type": "code",
   "execution_count": 60,
   "id": "9c382a2e-811b-4aa3-9e8a-4a18ef97603c",
   "metadata": {},
   "outputs": [
    {
     "data": {
      "text/plain": [
       "'HeLLo worLd'"
      ]
     },
     "execution_count": 60,
     "metadata": {},
     "output_type": "execute_result"
    }
   ],
   "source": [
    "b.replace('l','L')"
   ]
  },
  {
   "cell_type": "code",
   "execution_count": 61,
   "id": "00d35aba-1a27-4cd9-8ab6-2945ab04ad73",
   "metadata": {},
   "outputs": [
    {
     "data": {
      "text/plain": [
       "' world'"
      ]
     },
     "execution_count": 61,
     "metadata": {},
     "output_type": "execute_result"
    }
   ],
   "source": [
    "# One use of replace is to *remove* occurrences of a particular substring.\n",
    "b.replace('Hello','')"
   ]
  },
  {
   "cell_type": "code",
   "execution_count": 62,
   "id": "d82f6b96-6a8d-4341-9835-607338381769",
   "metadata": {},
   "outputs": [
    {
     "data": {
      "text/plain": [
       "'stuffHstuffestufflstufflstuffostuff stuffwstuffostuffrstufflstuffdstuff'"
      ]
     },
     "execution_count": 62,
     "metadata": {},
     "output_type": "execute_result"
    }
   ],
   "source": [
    "# What happens if the substring you're replacing is the empty string?\n",
    "b.replace('','stuff')"
   ]
  },
  {
   "cell_type": "code",
   "execution_count": 63,
   "id": "516232ef-ef1f-45f9-8413-72de16847a3e",
   "metadata": {},
   "outputs": [],
   "source": [
    "# An n-character string has n + 1 empty substrings."
   ]
  },
  {
   "cell_type": "code",
   "execution_count": 64,
   "id": "f71dce1e-1a78-4d00-ae20-9eb45c8d6b95",
   "metadata": {},
   "outputs": [
    {
     "data": {
      "text/plain": [
       "'lo world'"
      ]
     },
     "execution_count": 64,
     "metadata": {},
     "output_type": "execute_result"
    }
   ],
   "source": [
    "# removeprefix and removesuffix will remove a prefix or suffix from a string,\n",
    "# if present. (Of course, a new string is returned -- the original string is\n",
    "# never modified, since strings are immutable.)\n",
    "b.removeprefix('Hel')"
   ]
  },
  {
   "cell_type": "code",
   "execution_count": 65,
   "id": "4e34fa15-32c7-4d14-9e64-9b64e98d527d",
   "metadata": {},
   "outputs": [
    {
     "data": {
      "text/plain": [
       "'Hello world'"
      ]
     },
     "execution_count": 65,
     "metadata": {},
     "output_type": "execute_result"
    }
   ],
   "source": [
    "b.removeprefix('abc')"
   ]
  },
  {
   "cell_type": "code",
   "execution_count": 66,
   "id": "c18604ed-0735-4285-9561-7a210468f2d9",
   "metadata": {},
   "outputs": [],
   "source": [
    "# If you need to achieve the effect of modifying individual characters.\n",
    "a = list(b)"
   ]
  },
  {
   "cell_type": "code",
   "execution_count": 67,
   "id": "381287b9-aca8-4e9e-816f-e8a41ec284f0",
   "metadata": {},
   "outputs": [
    {
     "data": {
      "text/plain": [
       "['H', 'e', 'l', 'l', 'o', ' ', 'w', 'o', 'r', 'l', 'd']"
      ]
     },
     "execution_count": 67,
     "metadata": {},
     "output_type": "execute_result"
    }
   ],
   "source": [
    "a"
   ]
  },
  {
   "cell_type": "code",
   "execution_count": 68,
   "id": "6572ee24-d63d-48a6-a33a-47ffc61f9597",
   "metadata": {},
   "outputs": [
    {
     "data": {
      "text/plain": [
       "'Hello worle'"
      ]
     },
     "execution_count": 68,
     "metadata": {},
     "output_type": "execute_result"
    }
   ],
   "source": [
    "a[-1] = 'e'\n",
    "''.join(a)"
   ]
  },
  {
   "cell_type": "code",
   "execution_count": 69,
   "id": "9d06db57-6a47-4e7d-a8da-ca62aef5125d",
   "metadata": {},
   "outputs": [
    {
     "data": {
      "text/plain": [
       "'Hello wo'"
      ]
     },
     "execution_count": 69,
     "metadata": {},
     "output_type": "execute_result"
    }
   ],
   "source": [
    "b.removesuffix('rld')"
   ]
  },
  {
   "cell_type": "code",
   "execution_count": 70,
   "id": "02aae8ff-e677-4e63-90e8-e8acba95e08a",
   "metadata": {},
   "outputs": [
    {
     "data": {
      "text/plain": [
       "'Hello world'"
      ]
     },
     "execution_count": 70,
     "metadata": {},
     "output_type": "execute_result"
    }
   ],
   "source": [
    "b.removesuffix('')"
   ]
  },
  {
   "cell_type": "code",
   "execution_count": 71,
   "id": "2ff33d65-3d06-44d2-8def-313c6cf2bbcc",
   "metadata": {},
   "outputs": [
    {
     "data": {
      "text/plain": [
       "1"
      ]
     },
     "execution_count": 71,
     "metadata": {},
     "output_type": "execute_result"
    }
   ],
   "source": [
    "# As with other sequences, strings support the count method, to count how many\n",
    "# times something appears. But with strings, this will count any substring,\n",
    "# not just 1-character substrings.\n",
    "b.count('Hel')"
   ]
  },
  {
   "cell_type": "code",
   "execution_count": 72,
   "id": "e1677d3e-cd46-4407-809d-97041cdd9d15",
   "metadata": {},
   "outputs": [
    {
     "data": {
      "text/plain": [
       "str"
      ]
     },
     "execution_count": 72,
     "metadata": {},
     "output_type": "execute_result"
    }
   ],
   "source": [
    "# Some languages have separate string and character types. Show that, in\n",
    "# Python, indexing into a string with an integer produces a one-character\n",
    "# string. (Show that its type is str.)\n",
    "type(b[4])"
   ]
  },
  {
   "cell_type": "code",
   "execution_count": null,
   "id": "960b6d7c-8673-45b6-b435-e5dcbfd1fd0a",
   "metadata": {},
   "outputs": [],
   "source": []
  }
 ],
 "metadata": {
  "kernelspec": {
   "display_name": "Python 3 (ipykernel)",
   "language": "python",
   "name": "python3"
  },
  "language_info": {
   "codemirror_mode": {
    "name": "ipython",
    "version": 3
   },
   "file_extension": ".py",
   "mimetype": "text/x-python",
   "name": "python",
   "nbconvert_exporter": "python",
   "pygments_lexer": "ipython3",
   "version": "3.10.2"
  }
 },
 "nbformat": 4,
 "nbformat_minor": 5
}
