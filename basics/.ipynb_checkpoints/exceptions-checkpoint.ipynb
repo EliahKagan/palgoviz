{
 "cells": [
  {
   "cell_type": "code",
   "execution_count": 1,
   "id": "c07cba94-60a3-492f-b3a2-077b3feb3cf1",
   "metadata": {},
   "outputs": [],
   "source": [
    "def raises_ValueError(function, *arguments):\n",
    "    \"\"\"\n",
    "    Tell if calling a given function with given arguments raises ValueError.\n",
    "\n",
    "    Only ValueError is caught. If some other exception is raised, it will\n",
    "    propagate out of raises_ValueError to the caller.\n",
    "    \"\"\"\n",
    "    try: \n",
    "        function(*arguments)\n",
    "        return False\n",
    "    except ValueError: \n",
    "        return True"
   ]
  },
  {
   "cell_type": "code",
   "execution_count": 2,
   "id": "18496435-0d79-43ba-acae-9f4271aff304",
   "metadata": {
    "tags": [
     "raises-exception"
    ]
   },
   "outputs": [
    {
     "ename": "ValueError",
     "evalue": "invalid literal for int() with base 10: 'foo'",
     "output_type": "error",
     "traceback": [
      "\u001b[1;31m---------------------------------------------------------------------------\u001b[0m",
      "\u001b[1;31mValueError\u001b[0m                                Traceback (most recent call last)",
      "Input \u001b[1;32mIn [2]\u001b[0m, in \u001b[0;36m<module>\u001b[1;34m\u001b[0m\n\u001b[1;32m----> 1\u001b[0m \u001b[38;5;28;43mint\u001b[39;49m\u001b[43m(\u001b[49m\u001b[38;5;124;43m'\u001b[39;49m\u001b[38;5;124;43mfoo\u001b[39;49m\u001b[38;5;124;43m'\u001b[39;49m\u001b[43m)\u001b[49m\n",
      "\u001b[1;31mValueError\u001b[0m: invalid literal for int() with base 10: 'foo'"
     ]
    }
   ],
   "source": [
    "int('foo')"
   ]
  },
  {
   "cell_type": "code",
   "execution_count": 3,
   "id": "f538b594-06d7-4daf-9301-69afc2bc1e2d",
   "metadata": {},
   "outputs": [
    {
     "data": {
      "text/plain": [
       "True"
      ]
     },
     "execution_count": 3,
     "metadata": {},
     "output_type": "execute_result"
    }
   ],
   "source": [
    "raises_ValueError(int, 'foo')"
   ]
  },
  {
   "cell_type": "code",
   "execution_count": 6,
   "id": "f0c05f1d-d4b5-47ff-9b00-6d3d871fc909",
   "metadata": {},
   "outputs": [
    {
     "data": {
      "text/plain": [
       "False"
      ]
     },
     "execution_count": 6,
     "metadata": {},
     "output_type": "execute_result"
    }
   ],
   "source": [
    "raises_ValueError(int, '5')"
   ]
  },
  {
   "cell_type": "code",
   "execution_count": 11,
   "id": "9316ccef-b084-4bde-8e3f-ae156de7407c",
   "metadata": {},
   "outputs": [
    {
     "data": {
      "text/plain": [
       "True"
      ]
     },
     "execution_count": 11,
     "metadata": {},
     "output_type": "execute_result"
    }
   ],
   "source": [
    "raises_ValueError(int, 'foo', 8)"
   ]
  },
  {
   "cell_type": "code",
   "execution_count": 12,
   "id": "179351a1-3e26-48b2-b444-446b7a8ac1d4",
   "metadata": {},
   "outputs": [
    {
     "data": {
      "text/plain": [
       "False"
      ]
     },
     "execution_count": 12,
     "metadata": {},
     "output_type": "execute_result"
    }
   ],
   "source": [
    "raises_ValueError(int, '42', 8)"
   ]
  },
  {
   "cell_type": "code",
   "execution_count": 16,
   "id": "5c16dc9c-b90f-4dd0-a528-3afd1cfdb718",
   "metadata": {},
   "outputs": [
    {
     "data": {
      "text/plain": [
       "False"
      ]
     },
     "execution_count": 16,
     "metadata": {},
     "output_type": "execute_result"
    }
   ],
   "source": [
    "raises_ValueError(ValueError)  # Constructing a ValueError doesn't raise it."
   ]
  },
  {
   "cell_type": "code",
   "execution_count": 17,
   "id": "3813c6e8-b6fb-4e07-bb32-150a30c5976e",
   "metadata": {},
   "outputs": [],
   "source": [
    "def verror():\n",
    "    raise ValueError"
   ]
  },
  {
   "cell_type": "code",
   "execution_count": 18,
   "id": "9f7d6106-0def-4fa1-ac5b-bfe164d8e8bb",
   "metadata": {
    "tags": [
     "raises-exception"
    ]
   },
   "outputs": [
    {
     "ename": "ValueError",
     "evalue": "",
     "output_type": "error",
     "traceback": [
      "\u001b[1;31m---------------------------------------------------------------------------\u001b[0m",
      "\u001b[1;31mValueError\u001b[0m                                Traceback (most recent call last)",
      "Input \u001b[1;32mIn [18]\u001b[0m, in \u001b[0;36m<module>\u001b[1;34m\u001b[0m\n\u001b[1;32m----> 1\u001b[0m \u001b[43mverror\u001b[49m\u001b[43m(\u001b[49m\u001b[43m)\u001b[49m\n",
      "Input \u001b[1;32mIn [17]\u001b[0m, in \u001b[0;36mverror\u001b[1;34m()\u001b[0m\n\u001b[0;32m      1\u001b[0m \u001b[38;5;28;01mdef\u001b[39;00m \u001b[38;5;21mverror\u001b[39m():\n\u001b[1;32m----> 2\u001b[0m     \u001b[38;5;28;01mraise\u001b[39;00m \u001b[38;5;167;01mValueError\u001b[39;00m\n",
      "\u001b[1;31mValueError\u001b[0m: "
     ]
    }
   ],
   "source": [
    "verror()"
   ]
  },
  {
   "cell_type": "code",
   "execution_count": 19,
   "id": "a4102f15-8b0e-40d0-953e-3bf60e547eab",
   "metadata": {},
   "outputs": [
    {
     "data": {
      "text/plain": [
       "True"
      ]
     },
     "execution_count": 19,
     "metadata": {},
     "output_type": "execute_result"
    }
   ],
   "source": [
    "raises_ValueError(verror)"
   ]
  },
  {
   "cell_type": "code",
   "execution_count": null,
   "id": "62f28990-5c0d-4ed0-8b69-258725eda11a",
   "metadata": {},
   "outputs": [],
   "source": []
  }
 ],
 "metadata": {
  "kernelspec": {
   "display_name": "Python 3 (ipykernel)",
   "language": "python",
   "name": "python3"
  },
  "language_info": {
   "codemirror_mode": {
    "name": "ipython",
    "version": 3
   },
   "file_extension": ".py",
   "mimetype": "text/x-python",
   "name": "python",
   "nbconvert_exporter": "python",
   "pygments_lexer": "ipython3",
   "version": "3.10.2"
  }
 },
 "nbformat": 4,
 "nbformat_minor": 5
}
