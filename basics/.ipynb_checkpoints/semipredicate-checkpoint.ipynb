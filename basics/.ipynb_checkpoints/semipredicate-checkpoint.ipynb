{
 "cells": [
  {
   "cell_type": "markdown",
   "id": "ea3e6430-593b-4a12-80b7-097ff04afe19",
   "metadata": {},
   "source": [
    "The [semipredicate problem](https://en.wikipedia.org/wiki/Semipredicate_problem) is the problem of how to overcome ambiguity in distinguishing a real result from an indication that there is no result and/or that an error occurred.\n",
    "\n",
    "A language-agnostic example of the semipredicate problem, and of solving it using *out-of-band signalling*, is having a primary output stream `stdout` and a secondary output / error output stream `stderr`.\n",
    "\n",
    "An specific example from C is [ERR02-C. Avoid in-band error indicators](https://wiki.sei.cmu.edu/confluence/display/c/ERR02-C.+Avoid+in-band+error+indicators)."
   ]
  },
  {
   "cell_type": "code",
   "execution_count": 1,
   "id": "e3f66f51-fbb6-46ec-9b09-e58436861c46",
   "metadata": {},
   "outputs": [
    {
     "data": {
      "text/plain": [
       "'The horse said, \"It\\'s no good.\"'"
      ]
     },
     "execution_count": 1,
     "metadata": {},
     "output_type": "execute_result"
    }
   ],
   "source": [
    "'The horse said, \"It\\'s no good.\"'  # Quoting is an example of in-band signaling."
   ]
  },
  {
   "cell_type": "markdown",
   "id": "5a662be7-86c6-46e0-af19-011794e7173e",
   "metadata": {},
   "source": [
    "Suppose we have a dict `d` and a key `k`, and we want to do one thing if `k` is in `d`, and something else (using the associated value) if it is not.\n",
    "\n",
    "Provided we don't need to worry about the dict being mutated between checking and subscripting, we can use LBYL in a way that avoids the semipredicate problem arising:\n",
    "\n",
    "```python\n",
    "if k in d:\n",
    "    v = d[k]\n",
    "    ...  # Use the value v.\n",
    "else:\n",
    "    ...  # Deal with k not being mapped.\n",
    "```"
   ]
  },
  {
   "cell_type": "markdown",
   "id": "135407f7-b0a0-4e17-9a8d-60aa0a1324fd",
   "metadata": {},
   "source": [
    "Often (but not always) a better approach is EAFP, which solves the semipredicate problem by using *returns* as the main source of information and *exceptions* as a secondary, out-of-band source of information:\n",
    "\n",
    "```python\n",
    "try:\n",
    "    v = d[k]\n",
    "except KeyError:\n",
    "    ...  # Deal with k not being mapped.\n",
    "else:\n",
    "    ...  # Use the value v.\n",
    "```"
   ]
  },
  {
   "cell_type": "markdown",
   "id": "edf20a48-4085-4535-b832-b0da537c61be",
   "metadata": {},
   "source": [
    "`dict` has a `get` method, which can be useful when neither of those patterns is convenient, but which brings back the semipredicate problem, since it uses in-band signaling."
   ]
  },
  {
   "cell_type": "code",
   "execution_count": 2,
   "id": "2acc541f-540f-4fff-9341-fbf79302106d",
   "metadata": {},
   "outputs": [
    {
     "name": "stdout",
     "output_type": "stream",
     "text": [
      "Help on method_descriptor:\n",
      "\n",
      "get(self, key, default=None, /)\n",
      "    Return the value for key if key is in the dictionary, else default.\n",
      "\n"
     ]
    }
   ],
   "source": [
    "help(dict.get)"
   ]
  },
  {
   "cell_type": "code",
   "execution_count": 3,
   "id": "e4295795-e7c1-4b89-9d57-a3cdeedb799b",
   "metadata": {},
   "outputs": [],
   "source": [
    "d = {7: \"car\", 3: \"boat\", 5: \"airplane\"}"
   ]
  },
  {
   "cell_type": "code",
   "execution_count": 4,
   "id": "abb9cc1e-1eb4-4a7c-8c5e-50c71d209de2",
   "metadata": {},
   "outputs": [
    {
     "data": {
      "text/plain": [
       "'airplane'"
      ]
     },
     "execution_count": 4,
     "metadata": {},
     "output_type": "execute_result"
    }
   ],
   "source": [
    "d.get(5)"
   ]
  },
  {
   "cell_type": "code",
   "execution_count": 5,
   "id": "2c1513e8-5dd6-4bfe-b7e9-f1746ee36efd",
   "metadata": {},
   "outputs": [],
   "source": [
    "d.get(10)"
   ]
  },
  {
   "cell_type": "code",
   "execution_count": 6,
   "id": "fa7e5e9f-1a7e-4307-8207-ab8d76acf6f1",
   "metadata": {},
   "outputs": [
    {
     "data": {
      "text/plain": [
       "'ITS NOT HERE!'"
      ]
     },
     "execution_count": 6,
     "metadata": {},
     "output_type": "execute_result"
    }
   ],
   "source": [
    "d.get(10,\"ITS NOT HERE!\")"
   ]
  },
  {
   "cell_type": "markdown",
   "id": "3eb2c1d2-725b-42cc-aa6c-13da8bfca5d0",
   "metadata": {},
   "source": [
    "Suppose you are writing code in a function, and the situtaitons happens to be on where it is\n",
    "much more convenient to use `dict.get` than to use `try`-`catch`. In *some* situations, you\n",
    "will know for sure that a particular value will not be present. There are also situations\n",
    "where there is no existing value that is totally safe as the default. It is nonetheless\n",
    "possible to solve the semipredicate problem and use `dict.get`."
   ]
  },
  {
   "cell_type": "code",
   "execution_count": 7,
   "id": "2e70b549-e29b-41ad-8a7e-fefbdcf4dc0e",
   "metadata": {},
   "outputs": [
    {
     "name": "stdout",
     "output_type": "stream",
     "text": [
      "Not here\n"
     ]
    }
   ],
   "source": [
    "# We need to make sure that o is not accessible to anything that might\n",
    "# mutate d. So, in practice, we usually need o to be a local variable,\n",
    "# thus this technique is, in practice, only useful in a function (but\n",
    "# that's okay since most of our Python code is in a function anyway).\n",
    "o = object()\n",
    "if d.get(10, o) is o:\n",
    "    print('Not here')    "
   ]
  },
  {
   "cell_type": "code",
   "execution_count": 8,
   "id": "98a795bf-c173-4cac-9031-a29f2f87d691",
   "metadata": {},
   "outputs": [
    {
     "name": "stdout",
     "output_type": "stream",
     "text": [
      "Help on built-in function get:\n",
      "\n",
      "get(key, default=None, /) method of builtins.dict instance\n",
      "    Return the value for key if key is in the dictionary, else default.\n",
      "\n"
     ]
    }
   ],
   "source": [
    "help(d.get)"
   ]
  },
  {
   "cell_type": "code",
   "execution_count": 9,
   "id": "0a4439ac-716e-42ea-a799-e600aaf6b8e9",
   "metadata": {},
   "outputs": [],
   "source": [
    "v = d.get(10, object())"
   ]
  },
  {
   "cell_type": "code",
   "execution_count": 10,
   "id": "e7f7ebd9-a1b9-4656-874b-a42e91d1448c",
   "metadata": {},
   "outputs": [],
   "source": [
    "w = d.get(10, object())"
   ]
  },
  {
   "cell_type": "code",
   "execution_count": 11,
   "id": "0398c3be-cbae-456e-a146-6ab1003c9d7c",
   "metadata": {},
   "outputs": [
    {
     "data": {
      "text/plain": [
       "False"
      ]
     },
     "execution_count": 11,
     "metadata": {},
     "output_type": "execute_result"
    }
   ],
   "source": [
    "v == w"
   ]
  },
  {
   "cell_type": "code",
   "execution_count": 12,
   "id": "b1f2bc68-b968-421d-a690-d7431046af28",
   "metadata": {},
   "outputs": [
    {
     "data": {
      "text/plain": [
       "type"
      ]
     },
     "execution_count": 12,
     "metadata": {},
     "output_type": "execute_result"
    }
   ],
   "source": [
    "type(object)"
   ]
  },
  {
   "cell_type": "code",
   "execution_count": 13,
   "id": "710b2064-5fcc-4aac-ab89-173077bf39fa",
   "metadata": {},
   "outputs": [],
   "source": [
    "d[10] = o"
   ]
  },
  {
   "cell_type": "code",
   "execution_count": 24,
   "id": "940673f8-edd2-4e4a-a829-b5f150a220e6",
   "metadata": {},
   "outputs": [],
   "source": [
    "def initial_practice(dictionary, key, value):\n",
    "    try:\n",
    "        value = dictionary[key]\n",
    "    except KeyError:\n",
    "        print(\"the key is not mapped\") # Deal with key not being mapped.\n",
    "    else:\n",
    "        print(f'The value for {key} is {value}') # Use the value "
   ]
  },
  {
   "cell_type": "code",
   "execution_count": 25,
   "id": "d78ec4c8-4a98-4455-a422-3dbd611c5141",
   "metadata": {},
   "outputs": [
    {
     "data": {
      "text/plain": [
       "{7: 'car', 3: 'boat', 5: 'airplane', 10: <object at 0x1df5c7784d0>}"
      ]
     },
     "execution_count": 25,
     "metadata": {},
     "output_type": "execute_result"
    }
   ],
   "source": [
    "d"
   ]
  },
  {
   "cell_type": "code",
   "execution_count": 26,
   "id": "0f9e2e37-3f1a-49bd-8343-b7cdfcdb8e36",
   "metadata": {},
   "outputs": [
    {
     "name": "stdout",
     "output_type": "stream",
     "text": [
      "the key is not mapped\n"
     ]
    }
   ],
   "source": [
    "initial_practice(d, 12, 'X wing')"
   ]
  },
  {
   "cell_type": "code",
   "execution_count": 18,
   "id": "66d39faf-4de3-431a-bae4-526be4f4f0dd",
   "metadata": {},
   "outputs": [
    {
     "name": "stdout",
     "output_type": "stream",
     "text": [
      "The value for 7 is car\n"
     ]
    }
   ],
   "source": [
    "initial_practice(d, 7,'X wing')"
   ]
  },
  {
   "cell_type": "code",
   "execution_count": 28,
   "id": "be2b06d3-a278-41a3-a082-92ed7270ea2e",
   "metadata": {},
   "outputs": [],
   "source": [
    "def has_entry_eafp(dictionary, key, value):\n",
    "    \"\"\"\n",
    "    Tell if a dictionary maps the given key to the given value.\n",
    "\n",
    "    This implementation uses EAFP, catching KeyError.\n",
    "    \"\"\"\n",
    "    try: \n",
    "        return dictionary[key] == value\n",
    "    except KeyError:\n",
    "        return False"
   ]
  },
  {
   "cell_type": "code",
   "execution_count": 29,
   "id": "412d8d16-4de7-4148-a3d1-892bd356acda",
   "metadata": {},
   "outputs": [
    {
     "data": {
      "text/plain": [
       "{7: 'car', 3: 'boat', 5: 'airplane', 10: <object at 0x1df5c7784d0>}"
      ]
     },
     "execution_count": 29,
     "metadata": {},
     "output_type": "execute_result"
    }
   ],
   "source": [
    "d"
   ]
  },
  {
   "cell_type": "code",
   "execution_count": 30,
   "id": "15a19fde-6f5c-4518-ae03-9942213dfcdf",
   "metadata": {},
   "outputs": [
    {
     "data": {
      "text/plain": [
       "False"
      ]
     },
     "execution_count": 30,
     "metadata": {},
     "output_type": "execute_result"
    }
   ],
   "source": [
    "has_entry_eafp(d, 12, 'X wing')"
   ]
  },
  {
   "cell_type": "code",
   "execution_count": 31,
   "id": "145b1c42-bb34-42bf-8281-6bb1421a8cb6",
   "metadata": {},
   "outputs": [
    {
     "data": {
      "text/plain": [
       "True"
      ]
     },
     "execution_count": 31,
     "metadata": {},
     "output_type": "execute_result"
    }
   ],
   "source": [
    "has_entry_eafp(d, 7, 'car')"
   ]
  },
  {
   "cell_type": "code",
   "execution_count": 32,
   "id": "a50c8373-c276-4b8e-866a-78d10b755135",
   "metadata": {},
   "outputs": [
    {
     "data": {
      "text/plain": [
       "False"
      ]
     },
     "execution_count": 32,
     "metadata": {},
     "output_type": "execute_result"
    }
   ],
   "source": [
    "has_entry_eafp(d, 7, 'Tie Fighter')"
   ]
  },
  {
   "cell_type": "code",
   "execution_count": 41,
   "id": "2f595cd7-dfbb-4914-852d-06366e4cdb19",
   "metadata": {},
   "outputs": [],
   "source": [
    "def has_entry_lbyl(dictionary, key, value):\n",
    "    \"\"\"\n",
    "    Tell if a dictionary maps the given key to the given value.\n",
    "\n",
    "    This implementation uses LBYL, checking with the \"in\" operator.\n",
    "    \"\"\"\n",
    "    if key in dictionary: \n",
    "        return dictionary[key] == value\n",
    "    else: \n",
    "        return False "
   ]
  },
  {
   "cell_type": "code",
   "execution_count": 42,
   "id": "04157802-ab85-4506-acaf-082c493a03c8",
   "metadata": {},
   "outputs": [
    {
     "data": {
      "text/plain": [
       "False"
      ]
     },
     "execution_count": 42,
     "metadata": {},
     "output_type": "execute_result"
    }
   ],
   "source": [
    "has_entry_lbyl(d, 12, 'X wing')"
   ]
  },
  {
   "cell_type": "code",
   "execution_count": 43,
   "id": "be50469f-0d13-4749-94bb-a3d4b1047b13",
   "metadata": {},
   "outputs": [
    {
     "data": {
      "text/plain": [
       "True"
      ]
     },
     "execution_count": 43,
     "metadata": {},
     "output_type": "execute_result"
    }
   ],
   "source": [
    "has_entry_lbyl(d, 7, 'car')"
   ]
  },
  {
   "cell_type": "code",
   "execution_count": 44,
   "id": "3aa6cbbc-9ff2-44c3-8a72-c3c9ef5c06e6",
   "metadata": {},
   "outputs": [
    {
     "data": {
      "text/plain": [
       "False"
      ]
     },
     "execution_count": 44,
     "metadata": {},
     "output_type": "execute_result"
    }
   ],
   "source": [
    "has_entry_lbyl(d, 7, 'X wing')"
   ]
  },
  {
   "cell_type": "code",
   "execution_count": null,
   "id": "e69a6bec-c8e4-48d0-b63b-edf5f56e7086",
   "metadata": {},
   "outputs": [],
   "source": []
  }
 ],
 "metadata": {
  "kernelspec": {
   "display_name": "Python 3 (ipykernel)",
   "language": "python",
   "name": "python3"
  },
  "language_info": {
   "codemirror_mode": {
    "name": "ipython",
    "version": 3
   },
   "file_extension": ".py",
   "mimetype": "text/x-python",
   "name": "python",
   "nbconvert_exporter": "python",
   "pygments_lexer": "ipython3",
   "version": "3.10.2"
  }
 },
 "nbformat": 4,
 "nbformat_minor": 5
}
