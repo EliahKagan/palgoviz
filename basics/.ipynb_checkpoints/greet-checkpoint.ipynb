{
 "cells": [
  {
   "cell_type": "code",
   "execution_count": null,
   "id": "f9bf3017",
   "metadata": {},
   "outputs": [],
   "source": [
    "from greet import hello\n",
    "hello('David','el')"
   ]
  },
  {
   "cell_type": "code",
   "execution_count": null,
   "id": "b8565473",
   "metadata": {},
   "outputs": [],
   "source": [
    "import greet\n",
    "greet.__name__"
   ]
  },
  {
   "cell_type": "code",
   "execution_count": null,
   "id": "013830ff",
   "metadata": {},
   "outputs": [],
   "source": []
  }
 ],
 "metadata": {
  "kernelspec": {
   "display_name": "Python 3 (ipykernel)",
   "language": "python",
   "name": "python3"
  },
  "language_info": {
   "codemirror_mode": {
    "name": "ipython",
    "version": 3
   },
   "file_extension": ".py",
   "mimetype": "text/x-python",
   "name": "python",
   "nbconvert_exporter": "python",
   "pygments_lexer": "ipython3",
   "version": "3.10.1"
  }
 },
 "nbformat": 4,
 "nbformat_minor": 5
}
