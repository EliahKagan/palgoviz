{
 "cells": [
  {
   "cell_type": "markdown",
   "id": "3a1e484a-6ee3-4030-b209-15d840ec4bd0",
   "metadata": {},
   "source": [
    "# Recursion notes"
   ]
  },
  {
   "cell_type": "code",
   "execution_count": 1,
   "id": "b23f5ee4-1e48-4e3f-9c4f-3cf412d4fd7b",
   "metadata": {},
   "outputs": [],
   "source": [
    "from recursion import *"
   ]
  },
  {
   "cell_type": "code",
   "execution_count": 2,
   "id": "65ae601c-4764-4d8a-b986-6d6b5ef63c31",
   "metadata": {},
   "outputs": [
    {
     "data": {
      "text/plain": [
       "0"
      ]
     },
     "execution_count": 2,
     "metadata": {},
     "output_type": "execute_result"
    }
   ],
   "source": [
    "add_all([])"
   ]
  },
  {
   "cell_type": "code",
   "execution_count": 3,
   "id": "d0d5a100-a577-499d-919b-1d8e09ba38b9",
   "metadata": {},
   "outputs": [],
   "source": [
    "# _helpadd(2,[1,2])"
   ]
  },
  {
   "cell_type": "code",
   "execution_count": 4,
   "id": "c46054bc-45e3-41a0-8b14-eb25d224492f",
   "metadata": {},
   "outputs": [
    {
     "data": {
      "text/plain": [
       "['In',\n",
       " 'Out',\n",
       " '_',\n",
       " '_2',\n",
       " '__',\n",
       " '___',\n",
       " '__builtin__',\n",
       " '__builtins__',\n",
       " '__doc__',\n",
       " '__loader__',\n",
       " '__name__',\n",
       " '__package__',\n",
       " '__spec__',\n",
       " '_dh',\n",
       " '_i',\n",
       " '_i1',\n",
       " '_i2',\n",
       " '_i3',\n",
       " '_i4',\n",
       " '_ih',\n",
       " '_ii',\n",
       " '_iii',\n",
       " '_oh',\n",
       " 'add_all',\n",
       " 'add_all_iterative',\n",
       " 'add_all_slow',\n",
       " 'binary_search',\n",
       " 'binary_search_good',\n",
       " 'binary_search_iterative',\n",
       " 'bisect',\n",
       " 'countdown',\n",
       " 'exit',\n",
       " 'get_ipython',\n",
       " 'linear_search',\n",
       " 'linear_search_good',\n",
       " 'linear_search_iterative',\n",
       " 'merge_sort',\n",
       " 'merge_two',\n",
       " 'merge_two_alt',\n",
       " 'merge_two_slow',\n",
       " 'quit']"
      ]
     },
     "execution_count": 4,
     "metadata": {},
     "output_type": "execute_result"
    }
   ],
   "source": [
    "dir()"
   ]
  },
  {
   "cell_type": "code",
   "execution_count": 5,
   "id": "473428d0-69b0-42e7-ac3a-bdee58ebbae1",
   "metadata": {},
   "outputs": [
    {
     "name": "stdout",
     "output_type": "stream",
     "text": [
      "['x']\n"
     ]
    }
   ],
   "source": [
    "def f():\n",
    "    x = 10\n",
    "    print(dir())\n",
    "\n",
    "f()"
   ]
  },
  {
   "cell_type": "code",
   "execution_count": 6,
   "id": "c115766e-484b-4327-964d-8ae9cbbee4bd",
   "metadata": {},
   "outputs": [],
   "source": [
    "# recursion"
   ]
  },
  {
   "cell_type": "code",
   "execution_count": 7,
   "id": "3b2332dc-7546-4dc4-b032-b3112a840459",
   "metadata": {},
   "outputs": [
    {
     "data": {
      "text/plain": [
       "0"
      ]
     },
     "execution_count": 7,
     "metadata": {},
     "output_type": "execute_result"
    }
   ],
   "source": [
    "add_all([])"
   ]
  },
  {
   "cell_type": "code",
   "execution_count": 8,
   "id": "50303c38-3935-41be-ad8a-0bca0d1aabfe",
   "metadata": {},
   "outputs": [
    {
     "data": {
      "text/plain": [
       "7"
      ]
     },
     "execution_count": 8,
     "metadata": {},
     "output_type": "execute_result"
    }
   ],
   "source": [
    "add_all([7])"
   ]
  },
  {
   "cell_type": "code",
   "execution_count": 9,
   "id": "63c0f4b1-0e35-449b-a1d9-bf6f8ba7da4d",
   "metadata": {},
   "outputs": [
    {
     "data": {
      "text/plain": [
       "8"
      ]
     },
     "execution_count": 9,
     "metadata": {},
     "output_type": "execute_result"
    }
   ],
   "source": [
    "add_all([7, 1])"
   ]
  },
  {
   "cell_type": "code",
   "execution_count": 10,
   "id": "a7181a51-18b8-46ac-a60e-3777d88f2d97",
   "metadata": {},
   "outputs": [
    {
     "data": {
      "text/plain": [
       "10"
      ]
     },
     "execution_count": 10,
     "metadata": {},
     "output_type": "execute_result"
    }
   ],
   "source": [
    "add_all((3, 6, 1))"
   ]
  },
  {
   "cell_type": "code",
   "execution_count": 11,
   "id": "53eab643-5675-4cb2-90a4-b01cee0ff858",
   "metadata": {},
   "outputs": [
    {
     "data": {
      "text/plain": [
       "0"
      ]
     },
     "execution_count": 11,
     "metadata": {},
     "output_type": "execute_result"
    }
   ],
   "source": [
    "add_all(())"
   ]
  },
  {
   "cell_type": "code",
   "execution_count": 12,
   "id": "d87e5acc-994a-4e8a-8d87-a079e1425bc4",
   "metadata": {},
   "outputs": [],
   "source": [
    "a = (4, 5, 6)"
   ]
  },
  {
   "cell_type": "code",
   "execution_count": 13,
   "id": "026328c7-3cc3-498b-bbeb-4dbb7cf36eed",
   "metadata": {},
   "outputs": [
    {
     "data": {
      "text/plain": [
       "1"
      ]
     },
     "execution_count": 13,
     "metadata": {},
     "output_type": "execute_result"
    }
   ],
   "source": [
    "a.index(5)"
   ]
  },
  {
   "cell_type": "code",
   "execution_count": 14,
   "id": "6b2bbaa9-210b-4326-999f-e3253d29fb8c",
   "metadata": {},
   "outputs": [],
   "source": [
    "# a.index(7)"
   ]
  },
  {
   "cell_type": "code",
   "execution_count": 15,
   "id": "36822482-f74e-4e19-86c9-170e582e0b54",
   "metadata": {},
   "outputs": [
    {
     "data": {
      "text/plain": [
       "[]"
      ]
     },
     "execution_count": 15,
     "metadata": {},
     "output_type": "execute_result"
    }
   ],
   "source": [
    "list(range(0))"
   ]
  },
  {
   "cell_type": "code",
   "execution_count": 16,
   "id": "ec47a6db-7763-4c43-b14f-8893a3a49a2d",
   "metadata": {},
   "outputs": [
    {
     "data": {
      "text/plain": [
       "[(0, 2), (1, 3), (2, 4), (3, 5)]"
      ]
     },
     "execution_count": 16,
     "metadata": {},
     "output_type": "execute_result"
    }
   ],
   "source": [
    "list(enumerate([2,3,4,5]))"
   ]
  },
  {
   "cell_type": "code",
   "execution_count": 17,
   "id": "484454fb-2366-462b-a258-a2f6c2b8b2c3",
   "metadata": {},
   "outputs": [
    {
     "data": {
      "text/plain": [
       "0"
      ]
     },
     "execution_count": 17,
     "metadata": {},
     "output_type": "execute_result"
    }
   ],
   "source": [
    "len([])"
   ]
  },
  {
   "cell_type": "code",
   "execution_count": 18,
   "id": "5cad29ed-f74f-45b6-93a7-6579f48f869c",
   "metadata": {},
   "outputs": [
    {
     "data": {
      "text/plain": [
       "1"
      ]
     },
     "execution_count": 18,
     "metadata": {},
     "output_type": "execute_result"
    }
   ],
   "source": [
    "linear_search([4, 5, 6], 5)"
   ]
  },
  {
   "cell_type": "code",
   "execution_count": 19,
   "id": "1943a9ab-dcba-4293-b8b9-d39c445829c8",
   "metadata": {},
   "outputs": [],
   "source": [
    "a = (2, 3, 5)"
   ]
  },
  {
   "cell_type": "code",
   "execution_count": 20,
   "id": "53b91731-4a24-4775-a87e-504429012dad",
   "metadata": {},
   "outputs": [
    {
     "data": {
      "text/plain": [
       "3"
      ]
     },
     "execution_count": 20,
     "metadata": {},
     "output_type": "execute_result"
    }
   ],
   "source": [
    "a[1]"
   ]
  },
  {
   "cell_type": "code",
   "execution_count": 21,
   "id": "a028bdbe-3538-4de2-9301-d7acd2ef90e2",
   "metadata": {},
   "outputs": [],
   "source": [
    "b = [3, 1, 2, 8, 6, 5, 7]"
   ]
  },
  {
   "cell_type": "code",
   "execution_count": 22,
   "id": "fb6e4920-09f1-4d25-84ae-a472cc347360",
   "metadata": {},
   "outputs": [
    {
     "data": {
      "text/plain": [
       "[1, 2, 3, 5, 6, 7, 8]"
      ]
     },
     "execution_count": 22,
     "metadata": {},
     "output_type": "execute_result"
    }
   ],
   "source": [
    "sorted(b)"
   ]
  },
  {
   "cell_type": "code",
   "execution_count": 23,
   "id": "19f43e57-e36b-4fb1-abfa-d5eaac1ec5fb",
   "metadata": {},
   "outputs": [
    {
     "data": {
      "text/plain": [
       "0.6666666666666666"
      ]
     },
     "execution_count": 23,
     "metadata": {},
     "output_type": "execute_result"
    }
   ],
   "source": [
    "2 / 3"
   ]
  },
  {
   "cell_type": "code",
   "execution_count": 24,
   "id": "c4afd0d1-3118-47a8-82a0-dae40b99ea05",
   "metadata": {},
   "outputs": [
    {
     "data": {
      "text/plain": [
       "0"
      ]
     },
     "execution_count": 24,
     "metadata": {},
     "output_type": "execute_result"
    }
   ],
   "source": [
    "2 // 3"
   ]
  },
  {
   "cell_type": "code",
   "execution_count": 25,
   "id": "5f0c4576-c373-401e-903b-55ff2a413ca0",
   "metadata": {},
   "outputs": [
    {
     "data": {
      "text/plain": [
       "0.4"
      ]
     },
     "execution_count": 25,
     "metadata": {},
     "output_type": "execute_result"
    }
   ],
   "source": [
    "2 / 5"
   ]
  },
  {
   "cell_type": "code",
   "execution_count": 26,
   "id": "658d88a7-6f70-4de2-b4f2-299312377a91",
   "metadata": {},
   "outputs": [
    {
     "data": {
      "text/plain": [
       "0"
      ]
     },
     "execution_count": 26,
     "metadata": {},
     "output_type": "execute_result"
    }
   ],
   "source": [
    "2 // 5"
   ]
  },
  {
   "cell_type": "markdown",
   "id": "c8e64138-7fdb-45f0-8020-743dc064e7a7",
   "metadata": {},
   "source": [
    "Numbers $a$ to $z$."
   ]
  },
  {
   "cell_type": "markdown",
   "id": "45b64bbd-8a77-4bbd-a85e-668e46302c01",
   "metadata": {},
   "source": [
    "$1 \\times 2 \\times 2 \\times 2 \\ldots \\times 2 = n$"
   ]
  },
  {
   "cell_type": "markdown",
   "id": "231e7e22-60a1-49cf-be3d-63c9a0755177",
   "metadata": {},
   "source": [
    "$2^x = n$, solve for $x$."
   ]
  },
  {
   "cell_type": "markdown",
   "id": "d45d2400-ef5e-4fba-9eb1-cb7ec4eb1946",
   "metadata": {},
   "source": [
    "$4^x = (2 \\cdot 2)^x = 2^x \\cdot 2^x$"
   ]
  },
  {
   "cell_type": "markdown",
   "id": "fdaeaa5f-6957-45ff-8dbc-f51e98b57867",
   "metadata": {},
   "source": [
    "Suppose $x$ takes $n$ digits to write in base $4$."
   ]
  },
  {
   "cell_type": "code",
   "execution_count": 27,
   "id": "a7cf0308-5ed1-4d86-ac8b-c865e82e2cf1",
   "metadata": {},
   "outputs": [],
   "source": [
    "import bisect"
   ]
  },
  {
   "cell_type": "code",
   "execution_count": 28,
   "id": "01a7eaeb-df61-4867-86af-8774f640ed18",
   "metadata": {},
   "outputs": [
    {
     "name": "stdout",
     "output_type": "stream",
     "text": [
      "Help on built-in function bisect_left in module _bisect:\n",
      "\n",
      "bisect_left(a, x, lo=0, hi=None, *, key=None)\n",
      "    Return the index where to insert item x in list a, assuming a is sorted.\n",
      "    \n",
      "    The return value i is such that all e in a[:i] have e < x, and all e in\n",
      "    a[i:] have e >= x.  So if x already appears in the list, a.insert(i, x) will\n",
      "    insert just before the leftmost x already there.\n",
      "    \n",
      "    Optional args lo (default 0) and hi (default len(a)) bound the\n",
      "    slice of a to be searched.\n",
      "\n"
     ]
    }
   ],
   "source": [
    "help(bisect.bisect_left)"
   ]
  },
  {
   "cell_type": "code",
   "execution_count": 29,
   "id": "42b2901d-b2cb-471a-88e1-21fc796cd2a8",
   "metadata": {},
   "outputs": [
    {
     "data": {
      "text/plain": [
       "True"
      ]
     },
     "execution_count": 29,
     "metadata": {},
     "output_type": "execute_result"
    }
   ],
   "source": [
    "1 < 2 < 3"
   ]
  },
  {
   "cell_type": "code",
   "execution_count": null,
   "id": "6bddd465-7b8d-4539-858d-7edc4ae3acac",
   "metadata": {},
   "outputs": [],
   "source": []
  }
 ],
 "metadata": {
  "kernelspec": {
   "display_name": "Python 3 (ipykernel)",
   "language": "python",
   "name": "python3"
  },
  "language_info": {
   "codemirror_mode": {
    "name": "ipython",
    "version": 3
   },
   "file_extension": ".py",
   "mimetype": "text/x-python",
   "name": "python",
   "nbconvert_exporter": "python",
   "pygments_lexer": "ipython3",
   "version": "3.10.2"
  }
 },
 "nbformat": 4,
 "nbformat_minor": 5
}
