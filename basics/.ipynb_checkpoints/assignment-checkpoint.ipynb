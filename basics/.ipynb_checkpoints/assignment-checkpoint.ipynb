{
 "cells": [
  {
   "cell_type": "code",
   "execution_count": 1,
   "id": "4b26cc1f-a584-4cfc-9d66-a2eaa1c6b893",
   "metadata": {},
   "outputs": [],
   "source": [
    "# Run the math module if it hasn't been run.\n",
    "# Assign the module object to the variable named math.\n",
    "import math"
   ]
  },
  {
   "cell_type": "code",
   "execution_count": 2,
   "id": "ab325eb9-399b-40fc-8b12-1c42c8c21f7d",
   "metadata": {},
   "outputs": [],
   "source": [
    "# Run the math module if it hasn't been run.\n",
    "# Assign the module object to the variable named _math.\n",
    "import math as _math"
   ]
  },
  {
   "cell_type": "code",
   "execution_count": 3,
   "id": "cb133594-9a8e-4b74-8ab1-636f17d49e4d",
   "metadata": {},
   "outputs": [
    {
     "data": {
      "text/plain": [
       "<module 'math' (built-in)>"
      ]
     },
     "execution_count": 3,
     "metadata": {},
     "output_type": "execute_result"
    }
   ],
   "source": [
    "math"
   ]
  },
  {
   "cell_type": "code",
   "execution_count": 4,
   "id": "3e6a0993-9c28-472d-b5c3-76a649b77502",
   "metadata": {},
   "outputs": [
    {
     "data": {
      "text/plain": [
       "<module 'math' (built-in)>"
      ]
     },
     "execution_count": 4,
     "metadata": {},
     "output_type": "execute_result"
    }
   ],
   "source": [
    "_math"
   ]
  },
  {
   "cell_type": "code",
   "execution_count": 5,
   "id": "8375acfb-adbd-4571-aa4d-97c38045f63e",
   "metadata": {},
   "outputs": [
    {
     "data": {
      "text/plain": [
       "True"
      ]
     },
     "execution_count": 5,
     "metadata": {},
     "output_type": "execute_result"
    }
   ],
   "source": [
    "math is _math"
   ]
  },
  {
   "cell_type": "code",
   "execution_count": 6,
   "id": "3d18c45d-9ffb-4e62-ab19-24860c8cec5a",
   "metadata": {},
   "outputs": [],
   "source": [
    "# Run the sys and io modules (but don't run one that has been run).\n",
    "# Assign them to the sys and io variables, respectively.\n",
    "import sys, io\n",
    "\n",
    "# But it is better to just do:\n",
    "import sys \n",
    "import io"
   ]
  },
  {
   "cell_type": "code",
   "execution_count": 7,
   "id": "8a76e9f7-c646-4b88-af26-a46c416993d8",
   "metadata": {},
   "outputs": [],
   "source": [
    "# Run the math module if it hasn't been run.\n",
    "# Assign its members sin and cos to varaibles of those names.\n",
    "from math import sin, cos"
   ]
  },
  {
   "cell_type": "code",
   "execution_count": 8,
   "id": "669f33c7-6498-4cc7-853d-75a804e6d711",
   "metadata": {},
   "outputs": [],
   "source": [
    "# Run the sys and io modules (if not run already).\n",
    "# Assign the sys module object to the variable _sys, and the io module object to _io.\n",
    "import sys as _sys, io as _io\n",
    "\n",
    "# But it is better to just do:\n",
    "import sys as _sys\n",
    "import io as _io"
   ]
  },
  {
   "cell_type": "code",
   "execution_count": 9,
   "id": "84d7fde9-ac4d-407d-81a7-ba76f4eb78c1",
   "metadata": {},
   "outputs": [],
   "source": [
    "# Run the math module if it hasn't been run.\n",
    "# Assign its members sin and cos to the _sin and _cos variables, respectively.\n",
    "from math import sin as _sin, cos as _cos"
   ]
  },
  {
   "cell_type": "code",
   "execution_count": 10,
   "id": "1e1974de-ddc8-47a9-88d2-236422a851a8",
   "metadata": {},
   "outputs": [],
   "source": [
    "# Create a function that returns its input, squared.\n",
    "# Assign it to the variable called square.\n",
    "def square(x):\n",
    "    return x**2"
   ]
  },
  {
   "cell_type": "code",
   "execution_count": 11,
   "id": "dea6041b-f703-455a-b4da-fb7db89f43c7",
   "metadata": {},
   "outputs": [],
   "source": [
    "# Assign 3 to the variable x.\n",
    "x = 3"
   ]
  },
  {
   "cell_type": "code",
   "execution_count": 12,
   "id": "eeb5eb79-9584-4ea3-a435-27e63e3f388b",
   "metadata": {},
   "outputs": [],
   "source": [
    "# Assign 5 to the variable y.\n",
    "y = 5"
   ]
  },
  {
   "cell_type": "code",
   "execution_count": 13,
   "id": "da9536f3-34bf-4598-a9c2-3a595e449ddd",
   "metadata": {},
   "outputs": [],
   "source": [
    "# Assign the value of x to y, and the value of y to x.\n",
    "x, y = y, x"
   ]
  },
  {
   "cell_type": "code",
   "execution_count": 14,
   "id": "7f57923f-a597-438f-9993-f59a156850e8",
   "metadata": {},
   "outputs": [
    {
     "data": {
      "text/plain": [
       "5"
      ]
     },
     "execution_count": 14,
     "metadata": {},
     "output_type": "execute_result"
    }
   ],
   "source": [
    "x"
   ]
  },
  {
   "cell_type": "code",
   "execution_count": 15,
   "id": "d74664be-6be6-48dc-b70e-cc2f7018b913",
   "metadata": {},
   "outputs": [
    {
     "data": {
      "text/plain": [
       "3"
      ]
     },
     "execution_count": 15,
     "metadata": {},
     "output_type": "execute_result"
    }
   ],
   "source": [
    "y"
   ]
  },
  {
   "cell_type": "code",
   "execution_count": 16,
   "id": "425befc0-f909-4e7c-8ccf-538c95c230c6",
   "metadata": {},
   "outputs": [],
   "source": [
    "# Assign the string 'ham' to the variables a, b, and c.\n",
    "# Each variable will then refer to the same string object 'ham'.\n",
    "a = 'ham'\n",
    "b = a\n",
    "c = b"
   ]
  },
  {
   "cell_type": "code",
   "execution_count": 17,
   "id": "b97d7eaf-7cb5-466e-94b2-6bec3c357287",
   "metadata": {},
   "outputs": [],
   "source": [
    "a = 'eggs'"
   ]
  },
  {
   "cell_type": "code",
   "execution_count": 18,
   "id": "94b9022e-5fc1-47f6-b36c-590a9d508f17",
   "metadata": {},
   "outputs": [
    {
     "data": {
      "text/plain": [
       "1574622378864"
      ]
     },
     "execution_count": 18,
     "metadata": {},
     "output_type": "execute_result"
    }
   ],
   "source": [
    "id(c)"
   ]
  },
  {
   "cell_type": "code",
   "execution_count": 19,
   "id": "5f6f736f-5f2f-4c2c-9e80-e68f974b9cf2",
   "metadata": {},
   "outputs": [
    {
     "data": {
      "text/plain": [
       "1574622378864"
      ]
     },
     "execution_count": 19,
     "metadata": {},
     "output_type": "execute_result"
    }
   ],
   "source": [
    "id(b)"
   ]
  },
  {
   "cell_type": "code",
   "execution_count": 20,
   "id": "50e260c2-e7f2-4064-9c62-45342764f284",
   "metadata": {},
   "outputs": [],
   "source": [
    "del a, b, c"
   ]
  },
  {
   "cell_type": "code",
   "execution_count": 21,
   "id": "bfcd38e2-467a-44b7-9eba-50240d90ad7f",
   "metadata": {},
   "outputs": [],
   "source": [
    "# Assign 1-character strings -- the letters of 'ham' -- to variables a, b, and c.\n",
    "a, b, c = 'ham'"
   ]
  },
  {
   "cell_type": "code",
   "execution_count": 22,
   "id": "7d2fe71a-8980-4a42-b344-fdaddb78ec3b",
   "metadata": {},
   "outputs": [
    {
     "data": {
      "text/plain": [
       "('h', 'a', 'm')"
      ]
     },
     "execution_count": 22,
     "metadata": {},
     "output_type": "execute_result"
    }
   ],
   "source": [
    "(a, b, c)"
   ]
  },
  {
   "cell_type": "code",
   "execution_count": 23,
   "id": "9f8f5a12-f01d-46aa-bb2f-aa07fe8da704",
   "metadata": {},
   "outputs": [],
   "source": [
    "# With a SINGLE statement, assign the string 'ham' to the variables a, b, and c.\n",
    "# Each variable will then refer to the same string object 'ham'.\n",
    "a = b = c = 'ham'"
   ]
  },
  {
   "cell_type": "code",
   "execution_count": 24,
   "id": "e8e8482d-d479-4a92-9605-9e39cae99b0f",
   "metadata": {},
   "outputs": [
    {
     "data": {
      "text/plain": [
       "('ham', 'ham', 'ham')"
      ]
     },
     "execution_count": 24,
     "metadata": {},
     "output_type": "execute_result"
    }
   ],
   "source": [
    "(a, b, c)"
   ]
  },
  {
   "cell_type": "code",
   "execution_count": 25,
   "id": "1785cbdb-e29e-40a6-b551-2d916b3ad602",
   "metadata": {},
   "outputs": [
    {
     "data": {
      "text/plain": [
       "[1574622598640, 1574622598640, 1574622598640]"
      ]
     },
     "execution_count": 25,
     "metadata": {},
     "output_type": "execute_result"
    }
   ],
   "source": [
    "[id(x) for x in (a, b, c)]"
   ]
  },
  {
   "cell_type": "code",
   "execution_count": 26,
   "id": "899da58c-44d2-439f-8f17-bdce3b4173bb",
   "metadata": {},
   "outputs": [],
   "source": [
    "stuff = [10, (20, [30, 40], 50)]\n",
    "# With an assignment statement whose right-hand side is just the variable stuff,\n",
    "# assign the numbers 10, 20, 30, 40, and 50 to the variables a, b, c, d, and e.\n",
    "a, (b, (c, d), e) = stuff"
   ]
  },
  {
   "cell_type": "code",
   "execution_count": 27,
   "id": "23659b52-75f2-4fd5-bde2-e7a37e2d4a7e",
   "metadata": {},
   "outputs": [
    {
     "data": {
      "text/plain": [
       "[10, 20, 30, 40, 50]"
      ]
     },
     "execution_count": 27,
     "metadata": {},
     "output_type": "execute_result"
    }
   ],
   "source": [
    "[a, b, c, d, e]"
   ]
  },
  {
   "cell_type": "code",
   "execution_count": 28,
   "id": "87e814c5-33f2-46a7-a78f-44bbc4e30177",
   "metadata": {},
   "outputs": [],
   "source": [
    "a = b = c = d = e = 0\n",
    "# With a match statement on an expression that is just the variable stuff,\n",
    "# assign 10, 20, and 30 to a, b, and c, and assign 50 to e, without\n",
    "# assigning 40 to any variable. Furthermore, if the structure of stuff is\n",
    "# anything other than the structure it has above, then don't perform any\n",
    "# assignments, but do print a message.\n",
    "match stuff:\n",
    "    case [a, [b, [c, _], e]]:\n",
    "        pass\n",
    "    case _:\n",
    "        print('structure of stuff is wrong')"
   ]
  },
  {
   "cell_type": "code",
   "execution_count": 29,
   "id": "42d1ae30-c087-4302-b1cf-62233bb286ba",
   "metadata": {},
   "outputs": [
    {
     "data": {
      "text/plain": [
       "[10, 20, 30, 0, 50]"
      ]
     },
     "execution_count": 29,
     "metadata": {},
     "output_type": "execute_result"
    }
   ],
   "source": [
    "[a, b, c, d, e]"
   ]
  },
  {
   "cell_type": "code",
   "execution_count": 30,
   "id": "370a68d2-52c5-4e18-88e7-411912321a49",
   "metadata": {},
   "outputs": [],
   "source": [
    "stuff = 0"
   ]
  },
  {
   "cell_type": "code",
   "execution_count": 31,
   "id": "deddd526-42c2-4924-9c71-7ce5dc3d9b29",
   "metadata": {},
   "outputs": [
    {
     "name": "stdout",
     "output_type": "stream",
     "text": [
      "structure of stuff is wrong\n"
     ]
    }
   ],
   "source": [
    "match stuff:\n",
    "    case [a, [b, [c, _], e]]:\n",
    "        pass\n",
    "    case _:\n",
    "        print('structure of stuff is wrong')"
   ]
  },
  {
   "cell_type": "code",
   "execution_count": null,
   "id": "af7bb111-d4d6-4cd6-b940-883e04ec81c0",
   "metadata": {},
   "outputs": [],
   "source": []
  }
 ],
 "metadata": {
  "kernelspec": {
   "display_name": "Python 3 (ipykernel)",
   "language": "python",
   "name": "python3"
  },
  "language_info": {
   "codemirror_mode": {
    "name": "ipython",
    "version": 3
   },
   "file_extension": ".py",
   "mimetype": "text/x-python",
   "name": "python",
   "nbconvert_exporter": "python",
   "pygments_lexer": "ipython3",
   "version": "3.10.2"
  }
 },
 "nbformat": 4,
 "nbformat_minor": 5
}
