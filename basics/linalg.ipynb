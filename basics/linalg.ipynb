{
 "cells": [
  {
   "cell_type": "code",
   "execution_count": 1,
   "id": "87565db4-34b6-48a3-b088-c582799546b3",
   "metadata": {},
   "outputs": [],
   "source": [
    "import sympy"
   ]
  },
  {
   "cell_type": "code",
   "execution_count": 2,
   "id": "416f35f2-d771-41fc-9aed-4f66939cd4b5",
   "metadata": {},
   "outputs": [],
   "source": [
    "x = sympy.Symbol('x')"
   ]
  },
  {
   "cell_type": "code",
   "execution_count": 3,
   "id": "744e5a4e-9825-44ea-b2fd-16d89d650a9f",
   "metadata": {},
   "outputs": [
    {
     "data": {
      "text/latex": [
       "$\\displaystyle x$"
      ],
      "text/plain": [
       "x"
      ]
     },
     "execution_count": 3,
     "metadata": {},
     "output_type": "execute_result"
    }
   ],
   "source": [
    "x"
   ]
  },
  {
   "cell_type": "code",
   "execution_count": 4,
   "id": "52ebfa43-71ef-4416-8539-256d6befa478",
   "metadata": {},
   "outputs": [
    {
     "data": {
      "text/latex": [
       "$\\displaystyle x + 1$"
      ],
      "text/plain": [
       "x + 1"
      ]
     },
     "execution_count": 4,
     "metadata": {},
     "output_type": "execute_result"
    }
   ],
   "source": [
    "x + 1"
   ]
  },
  {
   "cell_type": "code",
   "execution_count": 5,
   "id": "97b952f7-64b0-4067-bc24-74e9479a833d",
   "metadata": {},
   "outputs": [
    {
     "data": {
      "text/latex": [
       "$\\displaystyle 3 x$"
      ],
      "text/plain": [
       "3*x"
      ]
     },
     "execution_count": 5,
     "metadata": {},
     "output_type": "execute_result"
    }
   ],
   "source": [
    "3 * x"
   ]
  },
  {
   "cell_type": "code",
   "execution_count": 7,
   "id": "d3f0a435-e4bf-4ca5-a8d2-421e128cba37",
   "metadata": {},
   "outputs": [
    {
     "data": {
      "text/latex": [
       "$\\displaystyle x^{2}$"
      ],
      "text/plain": [
       "x**2"
      ]
     },
     "execution_count": 7,
     "metadata": {},
     "output_type": "execute_result"
    }
   ],
   "source": [
    "x**2"
   ]
  },
  {
   "cell_type": "code",
   "execution_count": 11,
   "id": "25fa4de6-ae8d-41e1-b0dc-67fa157fcadc",
   "metadata": {},
   "outputs": [],
   "source": [
    "M = sympy.Matrix([[1, 2], [3, 4]])"
   ]
  },
  {
   "cell_type": "code",
   "execution_count": 12,
   "id": "656cf78d-2d9f-4497-a36f-29c1c12fef04",
   "metadata": {},
   "outputs": [
    {
     "data": {
      "text/latex": [
       "$\\displaystyle \\left[\\begin{matrix}1 & 2\\\\3 & 4\\end{matrix}\\right]$"
      ],
      "text/plain": [
       "Matrix([\n",
       "[1, 2],\n",
       "[3, 4]])"
      ]
     },
     "execution_count": 12,
     "metadata": {},
     "output_type": "execute_result"
    }
   ],
   "source": [
    "M"
   ]
  },
  {
   "cell_type": "code",
   "execution_count": 13,
   "id": "0477b9d9-7a2a-4349-a0f9-d11621deb62e",
   "metadata": {},
   "outputs": [],
   "source": [
    "N = sympy.Matrix([[2, 2], [2, 2]])"
   ]
  },
  {
   "cell_type": "code",
   "execution_count": 14,
   "id": "c3f04bd7-ea02-4cf4-afb5-43331e7ee413",
   "metadata": {},
   "outputs": [
    {
     "data": {
      "text/latex": [
       "$\\displaystyle \\left[\\begin{matrix}2 & 2\\\\2 & 2\\end{matrix}\\right]$"
      ],
      "text/plain": [
       "Matrix([\n",
       "[2, 2],\n",
       "[2, 2]])"
      ]
     },
     "execution_count": 14,
     "metadata": {},
     "output_type": "execute_result"
    }
   ],
   "source": [
    "N"
   ]
  },
  {
   "cell_type": "code",
   "execution_count": 15,
   "id": "4dce565d-dc08-4183-a6ee-379141f4453d",
   "metadata": {},
   "outputs": [
    {
     "data": {
      "text/latex": [
       "$\\displaystyle \\left[\\begin{matrix}6 & 6\\\\14 & 14\\end{matrix}\\right]$"
      ],
      "text/plain": [
       "Matrix([\n",
       "[ 6,  6],\n",
       "[14, 14]])"
      ]
     },
     "execution_count": 15,
     "metadata": {},
     "output_type": "execute_result"
    }
   ],
   "source": [
    "M * N "
   ]
  },
  {
   "cell_type": "code",
   "execution_count": 17,
   "id": "ee78f18b-eb8d-4293-afba-1d36e16f597b",
   "metadata": {},
   "outputs": [],
   "source": [
    "a, b, c, d = sympy.symbols('a b c d')"
   ]
  },
  {
   "cell_type": "code",
   "execution_count": 18,
   "id": "0a624f5d-8fb9-4b50-a2a2-cfbb063ed7a7",
   "metadata": {},
   "outputs": [],
   "source": [
    "L = sympy.Matrix([[a, b], [c, d]])"
   ]
  },
  {
   "cell_type": "code",
   "execution_count": 20,
   "id": "f9040150-1128-4f29-b810-214453bf4f9d",
   "metadata": {},
   "outputs": [
    {
     "data": {
      "text/latex": [
       "$\\displaystyle \\left[\\begin{matrix}a & b\\\\c & d\\end{matrix}\\right]$"
      ],
      "text/plain": [
       "Matrix([\n",
       "[a, b],\n",
       "[c, d]])"
      ]
     },
     "execution_count": 20,
     "metadata": {},
     "output_type": "execute_result"
    }
   ],
   "source": [
    "L"
   ]
  },
  {
   "cell_type": "code",
   "execution_count": 21,
   "id": "7515f60a-4fcc-4451-b177-c38a4ff228b8",
   "metadata": {},
   "outputs": [
    {
     "data": {
      "text/latex": [
       "$\\displaystyle \\left[\\begin{matrix}a + 2 c & b + 2 d\\\\3 a + 4 c & 3 b + 4 d\\end{matrix}\\right]$"
      ],
      "text/plain": [
       "Matrix([\n",
       "[  a + 2*c,   b + 2*d],\n",
       "[3*a + 4*c, 3*b + 4*d]])"
      ]
     },
     "execution_count": 21,
     "metadata": {},
     "output_type": "execute_result"
    }
   ],
   "source": [
    "M * L "
   ]
  },
  {
   "cell_type": "code",
   "execution_count": 22,
   "id": "1d958a60-e0c4-41f8-a533-5d4d27d32db6",
   "metadata": {},
   "outputs": [
    {
     "data": {
      "text/latex": [
       "$\\displaystyle \\left[\\begin{matrix}a^{2} + b c & a b + b d\\\\a c + c d & b c + d^{2}\\end{matrix}\\right]$"
      ],
      "text/plain": [
       "Matrix([\n",
       "[a**2 + b*c,  a*b + b*d],\n",
       "[ a*c + c*d, b*c + d**2]])"
      ]
     },
     "execution_count": 22,
     "metadata": {},
     "output_type": "execute_result"
    }
   ],
   "source": [
    "L**2"
   ]
  },
  {
   "cell_type": "code",
   "execution_count": 23,
   "id": "265bbd6f-d88f-495a-b9f9-3610badd89fe",
   "metadata": {},
   "outputs": [
    {
     "data": {
      "text/latex": [
       "$\\displaystyle \\left[\\begin{matrix}a^{10} + 9 a^{8} b c + 8 a^{7} b c d + 28 a^{6} b^{2} c^{2} + 7 a^{6} b c d^{2} + 42 a^{5} b^{2} c^{2} d + 6 a^{5} b c d^{3} + 35 a^{4} b^{3} c^{3} + 45 a^{4} b^{2} c^{2} d^{2} + 5 a^{4} b c d^{4} + 60 a^{3} b^{3} c^{3} d + 40 a^{3} b^{2} c^{2} d^{3} + 4 a^{3} b c d^{5} + 15 a^{2} b^{4} c^{4} + 60 a^{2} b^{3} c^{3} d^{2} + 30 a^{2} b^{2} c^{2} d^{4} + 3 a^{2} b c d^{6} + 20 a b^{4} c^{4} d + 40 a b^{3} c^{3} d^{3} + 18 a b^{2} c^{2} d^{5} + 2 a b c d^{7} + b^{5} c^{5} + 10 b^{4} c^{4} d^{2} + 15 b^{3} c^{3} d^{4} + 7 b^{2} c^{2} d^{6} + b c d^{8} & a^{9} b + a^{8} b d + 8 a^{7} b^{2} c + a^{7} b d^{2} + 14 a^{6} b^{2} c d + a^{6} b d^{3} + 21 a^{5} b^{3} c^{2} + 18 a^{5} b^{2} c d^{2} + a^{5} b d^{4} + 45 a^{4} b^{3} c^{2} d + 20 a^{4} b^{2} c d^{3} + a^{4} b d^{5} + 20 a^{3} b^{4} c^{3} + 60 a^{3} b^{3} c^{2} d^{2} + 20 a^{3} b^{2} c d^{4} + a^{3} b d^{6} + 40 a^{2} b^{4} c^{3} d + 60 a^{2} b^{3} c^{2} d^{3} + 18 a^{2} b^{2} c d^{5} + a^{2} b d^{7} + 5 a b^{5} c^{4} + 40 a b^{4} c^{3} d^{2} + 45 a b^{3} c^{2} d^{4} + 14 a b^{2} c d^{6} + a b d^{8} + 5 b^{5} c^{4} d + 20 b^{4} c^{3} d^{3} + 21 b^{3} c^{2} d^{5} + 8 b^{2} c d^{7} + b d^{9}\\\\a^{9} c + a^{8} c d + 8 a^{7} b c^{2} + a^{7} c d^{2} + 14 a^{6} b c^{2} d + a^{6} c d^{3} + 21 a^{5} b^{2} c^{3} + 18 a^{5} b c^{2} d^{2} + a^{5} c d^{4} + 45 a^{4} b^{2} c^{3} d + 20 a^{4} b c^{2} d^{3} + a^{4} c d^{5} + 20 a^{3} b^{3} c^{4} + 60 a^{3} b^{2} c^{3} d^{2} + 20 a^{3} b c^{2} d^{4} + a^{3} c d^{6} + 40 a^{2} b^{3} c^{4} d + 60 a^{2} b^{2} c^{3} d^{3} + 18 a^{2} b c^{2} d^{5} + a^{2} c d^{7} + 5 a b^{4} c^{5} + 40 a b^{3} c^{4} d^{2} + 45 a b^{2} c^{3} d^{4} + 14 a b c^{2} d^{6} + a c d^{8} + 5 b^{4} c^{5} d + 20 b^{3} c^{4} d^{3} + 21 b^{2} c^{3} d^{5} + 8 b c^{2} d^{7} + c d^{9} & a^{8} b c + 2 a^{7} b c d + 7 a^{6} b^{2} c^{2} + 3 a^{6} b c d^{2} + 18 a^{5} b^{2} c^{2} d + 4 a^{5} b c d^{3} + 15 a^{4} b^{3} c^{3} + 30 a^{4} b^{2} c^{2} d^{2} + 5 a^{4} b c d^{4} + 40 a^{3} b^{3} c^{3} d + 40 a^{3} b^{2} c^{2} d^{3} + 6 a^{3} b c d^{5} + 10 a^{2} b^{4} c^{4} + 60 a^{2} b^{3} c^{3} d^{2} + 45 a^{2} b^{2} c^{2} d^{4} + 7 a^{2} b c d^{6} + 20 a b^{4} c^{4} d + 60 a b^{3} c^{3} d^{3} + 42 a b^{2} c^{2} d^{5} + 8 a b c d^{7} + b^{5} c^{5} + 15 b^{4} c^{4} d^{2} + 35 b^{3} c^{3} d^{4} + 28 b^{2} c^{2} d^{6} + 9 b c d^{8} + d^{10}\\end{matrix}\\right]$"
      ],
      "text/plain": [
       "Matrix([\n",
       "[                                          a**10 + 9*a**8*b*c + 8*a**7*b*c*d + 28*a**6*b**2*c**2 + 7*a**6*b*c*d**2 + 42*a**5*b**2*c**2*d + 6*a**5*b*c*d**3 + 35*a**4*b**3*c**3 + 45*a**4*b**2*c**2*d**2 + 5*a**4*b*c*d**4 + 60*a**3*b**3*c**3*d + 40*a**3*b**2*c**2*d**3 + 4*a**3*b*c*d**5 + 15*a**2*b**4*c**4 + 60*a**2*b**3*c**3*d**2 + 30*a**2*b**2*c**2*d**4 + 3*a**2*b*c*d**6 + 20*a*b**4*c**4*d + 40*a*b**3*c**3*d**3 + 18*a*b**2*c**2*d**5 + 2*a*b*c*d**7 + b**5*c**5 + 10*b**4*c**4*d**2 + 15*b**3*c**3*d**4 + 7*b**2*c**2*d**6 + b*c*d**8, a**9*b + a**8*b*d + 8*a**7*b**2*c + a**7*b*d**2 + 14*a**6*b**2*c*d + a**6*b*d**3 + 21*a**5*b**3*c**2 + 18*a**5*b**2*c*d**2 + a**5*b*d**4 + 45*a**4*b**3*c**2*d + 20*a**4*b**2*c*d**3 + a**4*b*d**5 + 20*a**3*b**4*c**3 + 60*a**3*b**3*c**2*d**2 + 20*a**3*b**2*c*d**4 + a**3*b*d**6 + 40*a**2*b**4*c**3*d + 60*a**2*b**3*c**2*d**3 + 18*a**2*b**2*c*d**5 + a**2*b*d**7 + 5*a*b**5*c**4 + 40*a*b**4*c**3*d**2 + 45*a*b**3*c**2*d**4 + 14*a*b**2*c*d**6 + a*b*d**8 + 5*b**5*c**4*d + 20*b**4*c**3*d**3 + 21*b**3*c**2*d**5 + 8*b**2*c*d**7 + b*d**9],\n",
       "[a**9*c + a**8*c*d + 8*a**7*b*c**2 + a**7*c*d**2 + 14*a**6*b*c**2*d + a**6*c*d**3 + 21*a**5*b**2*c**3 + 18*a**5*b*c**2*d**2 + a**5*c*d**4 + 45*a**4*b**2*c**3*d + 20*a**4*b*c**2*d**3 + a**4*c*d**5 + 20*a**3*b**3*c**4 + 60*a**3*b**2*c**3*d**2 + 20*a**3*b*c**2*d**4 + a**3*c*d**6 + 40*a**2*b**3*c**4*d + 60*a**2*b**2*c**3*d**3 + 18*a**2*b*c**2*d**5 + a**2*c*d**7 + 5*a*b**4*c**5 + 40*a*b**3*c**4*d**2 + 45*a*b**2*c**3*d**4 + 14*a*b*c**2*d**6 + a*c*d**8 + 5*b**4*c**5*d + 20*b**3*c**4*d**3 + 21*b**2*c**3*d**5 + 8*b*c**2*d**7 + c*d**9,                                           a**8*b*c + 2*a**7*b*c*d + 7*a**6*b**2*c**2 + 3*a**6*b*c*d**2 + 18*a**5*b**2*c**2*d + 4*a**5*b*c*d**3 + 15*a**4*b**3*c**3 + 30*a**4*b**2*c**2*d**2 + 5*a**4*b*c*d**4 + 40*a**3*b**3*c**3*d + 40*a**3*b**2*c**2*d**3 + 6*a**3*b*c*d**5 + 10*a**2*b**4*c**4 + 60*a**2*b**3*c**3*d**2 + 45*a**2*b**2*c**2*d**4 + 7*a**2*b*c*d**6 + 20*a*b**4*c**4*d + 60*a*b**3*c**3*d**3 + 42*a*b**2*c**2*d**5 + 8*a*b*c*d**7 + b**5*c**5 + 15*b**4*c**4*d**2 + 35*b**3*c**3*d**4 + 28*b**2*c**2*d**6 + 9*b*c*d**8 + d**10]])"
      ]
     },
     "execution_count": 23,
     "metadata": {},
     "output_type": "execute_result"
    }
   ],
   "source": [
    "L**10"
   ]
  },
  {
   "cell_type": "code",
   "execution_count": 24,
   "id": "42255faa-0843-408c-b8e4-74e6ce91ecf2",
   "metadata": {},
   "outputs": [
    {
     "data": {
      "text/latex": [
       "$\\displaystyle \\left[\\begin{matrix}\\frac{d}{a d - b c} & - \\frac{b}{a d - b c}\\\\- \\frac{c}{a d - b c} & \\frac{a}{a d - b c}\\end{matrix}\\right]$"
      ],
      "text/plain": [
       "Matrix([\n",
       "[ d/(a*d - b*c), -b/(a*d - b*c)],\n",
       "[-c/(a*d - b*c),  a/(a*d - b*c)]])"
      ]
     },
     "execution_count": 24,
     "metadata": {},
     "output_type": "execute_result"
    }
   ],
   "source": [
    "L**-1"
   ]
  },
  {
   "cell_type": "code",
   "execution_count": 25,
   "id": "8990beb0-23b2-44ee-9c8e-8d5e3fa0cce0",
   "metadata": {},
   "outputs": [
    {
     "data": {
      "text/latex": [
       "$\\displaystyle \\left[\\begin{matrix}d & - b\\\\- c & a\\end{matrix}\\right]$"
      ],
      "text/plain": [
       "Matrix([\n",
       "[ d, -b],\n",
       "[-c,  a]])"
      ]
     },
     "execution_count": 25,
     "metadata": {},
     "output_type": "execute_result"
    }
   ],
   "source": [
    "L**-1 * (a*d - b*c)"
   ]
  },
  {
   "cell_type": "code",
   "execution_count": 28,
   "id": "ca956fc0-55fd-4ab6-aaba-b6c17975da63",
   "metadata": {},
   "outputs": [
    {
     "data": {
      "text/plain": [
       "True"
      ]
     },
     "execution_count": 28,
     "metadata": {},
     "output_type": "execute_result"
    }
   ],
   "source": [
    "sympy.Matrix([[d, -b], [-c, a]]) / (a * d - b * c) == L**-1"
   ]
  },
  {
   "cell_type": "code",
   "execution_count": 29,
   "id": "4d0da80f-705c-4057-bd19-d60ec30f8aa8",
   "metadata": {},
   "outputs": [
    {
     "data": {
      "text/latex": [
       "$\\displaystyle \\left[\\begin{matrix}6 & 6\\\\14 & 14\\end{matrix}\\right]$"
      ],
      "text/plain": [
       "Matrix([\n",
       "[ 6,  6],\n",
       "[14, 14]])"
      ]
     },
     "execution_count": 29,
     "metadata": {},
     "output_type": "execute_result"
    }
   ],
   "source": [
    "M * N "
   ]
  },
  {
   "cell_type": "code",
   "execution_count": 30,
   "id": "df243faf-ba13-418f-870e-b10e5639b156",
   "metadata": {},
   "outputs": [
    {
     "data": {
      "text/latex": [
       "$\\displaystyle \\left[\\begin{matrix}8 & 12\\\\8 & 12\\end{matrix}\\right]$"
      ],
      "text/plain": [
       "Matrix([\n",
       "[8, 12],\n",
       "[8, 12]])"
      ]
     },
     "execution_count": 30,
     "metadata": {},
     "output_type": "execute_result"
    }
   ],
   "source": [
    "N * M "
   ]
  },
  {
   "cell_type": "code",
   "execution_count": 31,
   "id": "150eaa72-d31c-4167-8574-05cc8e5a299d",
   "metadata": {},
   "outputs": [
    {
     "data": {
      "text/latex": [
       "$\\displaystyle \\left[\\begin{matrix}6 & 6\\\\14 & 14\\end{matrix}\\right]$"
      ],
      "text/plain": [
       "Matrix([\n",
       "[ 6,  6],\n",
       "[14, 14]])"
      ]
     },
     "execution_count": 31,
     "metadata": {},
     "output_type": "execute_result"
    }
   ],
   "source": [
    "M @ N "
   ]
  },
  {
   "cell_type": "code",
   "execution_count": 32,
   "id": "f17ce27f-881a-4e2a-b2a1-8762bb0ead05",
   "metadata": {},
   "outputs": [
    {
     "data": {
      "text/latex": [
       "$\\displaystyle \\left[\\begin{matrix}8 & 12\\\\8 & 12\\end{matrix}\\right]$"
      ],
      "text/plain": [
       "Matrix([\n",
       "[8, 12],\n",
       "[8, 12]])"
      ]
     },
     "execution_count": 32,
     "metadata": {},
     "output_type": "execute_result"
    }
   ],
   "source": [
    "N @ M "
   ]
  },
  {
   "cell_type": "code",
   "execution_count": 33,
   "id": "0b70ab8a-273d-41c7-985a-ce5309e0b3cd",
   "metadata": {},
   "outputs": [
    {
     "data": {
      "text/latex": [
       "$\\displaystyle \\left[\\begin{matrix}a & b\\\\c & d\\end{matrix}\\right]$"
      ],
      "text/plain": [
       "Matrix([\n",
       "[a, b],\n",
       "[c, d]])"
      ]
     },
     "execution_count": 33,
     "metadata": {},
     "output_type": "execute_result"
    }
   ],
   "source": [
    "L"
   ]
  },
  {
   "cell_type": "code",
   "execution_count": 35,
   "id": "f3237a29-c2d4-478a-832f-cf50011a161d",
   "metadata": {},
   "outputs": [
    {
     "data": {
      "text/latex": [
       "$\\displaystyle b$"
      ],
      "text/plain": [
       "b"
      ]
     },
     "execution_count": 35,
     "metadata": {},
     "output_type": "execute_result"
    }
   ],
   "source": [
    "L[0, 1]"
   ]
  },
  {
   "cell_type": "code",
   "execution_count": 51,
   "id": "12cb692f-5b8d-4cfa-b7eb-45baa1bef5f7",
   "metadata": {},
   "outputs": [],
   "source": [
    "a11 = sympy.Symbol('a_11')\n",
    "a12 = sympy.Symbol('a_12')\n",
    "a21 = sympy.Symbol('a_21')\n",
    "a22 = sympy.Symbol('a_22')"
   ]
  },
  {
   "cell_type": "code",
   "execution_count": 52,
   "id": "e1905a4f-ec06-4df3-97cc-8082ac763afd",
   "metadata": {},
   "outputs": [
    {
     "data": {
      "text/latex": [
       "$\\displaystyle \\left[\\begin{matrix}a_{11} & a_{12}\\\\a_{21} & a_{22}\\end{matrix}\\right]$"
      ],
      "text/plain": [
       "Matrix([\n",
       "[a_11, a_12],\n",
       "[a_21, a_22]])"
      ]
     },
     "execution_count": 52,
     "metadata": {},
     "output_type": "execute_result"
    }
   ],
   "source": [
    "sympy.Matrix([[a11, a12], [a21, a22]])"
   ]
  },
  {
   "cell_type": "code",
   "execution_count": 53,
   "id": "2f162299-079c-4edd-97c1-968dd4ac177b",
   "metadata": {},
   "outputs": [],
   "source": [
    "y = sympy.Symbol('y')"
   ]
  },
  {
   "cell_type": "code",
   "execution_count": 54,
   "id": "4b13f76e-cc8f-4438-835e-ab774f79bec1",
   "metadata": {},
   "outputs": [
    {
     "data": {
      "text/latex": [
       "$\\displaystyle x y$"
      ],
      "text/plain": [
       "x*y"
      ]
     },
     "execution_count": 54,
     "metadata": {},
     "output_type": "execute_result"
    }
   ],
   "source": [
    "x * y "
   ]
  },
  {
   "cell_type": "code",
   "execution_count": 55,
   "id": "40ceccff-83a5-47f7-bb0a-405049b6fe86",
   "metadata": {},
   "outputs": [
    {
     "data": {
      "text/latex": [
       "$\\displaystyle x y$"
      ],
      "text/plain": [
       "x*y"
      ]
     },
     "execution_count": 55,
     "metadata": {},
     "output_type": "execute_result"
    }
   ],
   "source": [
    "y * x"
   ]
  },
  {
   "cell_type": "code",
   "execution_count": 57,
   "id": "815722bd-43db-4699-ace1-8be20fa0a557",
   "metadata": {},
   "outputs": [],
   "source": [
    "w = sympy.Symbol('w', commutative=False)"
   ]
  },
  {
   "cell_type": "code",
   "execution_count": 58,
   "id": "8f574129-4c26-43b1-a271-57c9a3b6e2e0",
   "metadata": {},
   "outputs": [],
   "source": [
    "z = sympy.Symbol('z', commutative=False)"
   ]
  },
  {
   "cell_type": "code",
   "execution_count": 59,
   "id": "1b88ec9f-96ae-42e9-a160-67d1a5d2cf85",
   "metadata": {},
   "outputs": [
    {
     "data": {
      "text/latex": [
       "$\\displaystyle w z$"
      ],
      "text/plain": [
       "w*z"
      ]
     },
     "execution_count": 59,
     "metadata": {},
     "output_type": "execute_result"
    }
   ],
   "source": [
    "w * z "
   ]
  },
  {
   "cell_type": "code",
   "execution_count": 60,
   "id": "aae89f93-28fd-4be7-9610-532bcf2d9055",
   "metadata": {},
   "outputs": [
    {
     "data": {
      "text/latex": [
       "$\\displaystyle z w$"
      ],
      "text/plain": [
       "z*w"
      ]
     },
     "execution_count": 60,
     "metadata": {},
     "output_type": "execute_result"
    }
   ],
   "source": [
    "z * w "
   ]
  },
  {
   "cell_type": "code",
   "execution_count": 61,
   "id": "0b485376-29ea-4f59-b411-20f90984fea9",
   "metadata": {},
   "outputs": [
    {
     "data": {
      "text/latex": [
       "$\\displaystyle x w$"
      ],
      "text/plain": [
       "x*w"
      ]
     },
     "execution_count": 61,
     "metadata": {},
     "output_type": "execute_result"
    }
   ],
   "source": [
    "x * w"
   ]
  },
  {
   "cell_type": "code",
   "execution_count": 62,
   "id": "ca16a9a0-f925-4c82-ad47-0af8f0e3aae9",
   "metadata": {},
   "outputs": [
    {
     "data": {
      "text/latex": [
       "$\\displaystyle x w$"
      ],
      "text/plain": [
       "x*w"
      ]
     },
     "execution_count": 62,
     "metadata": {},
     "output_type": "execute_result"
    }
   ],
   "source": [
    "w * x "
   ]
  },
  {
   "cell_type": "code",
   "execution_count": 63,
   "id": "fb77cebe-0d3b-41a2-8d37-a65e2a6a0db4",
   "metadata": {},
   "outputs": [
    {
     "data": {
      "text/plain": [
       "False"
      ]
     },
     "execution_count": 63,
     "metadata": {},
     "output_type": "execute_result"
    }
   ],
   "source": [
    "w * z == z * w "
   ]
  },
  {
   "cell_type": "code",
   "execution_count": 64,
   "id": "1a65bd44-c572-4718-b59a-699aca650f62",
   "metadata": {},
   "outputs": [
    {
     "data": {
      "text/plain": [
       "True"
      ]
     },
     "execution_count": 64,
     "metadata": {},
     "output_type": "execute_result"
    }
   ],
   "source": [
    "x * y == y * x "
   ]
  },
  {
   "cell_type": "code",
   "execution_count": 65,
   "id": "b9771792-3d58-45e3-81f3-5a998f1fb506",
   "metadata": {},
   "outputs": [
    {
     "data": {
      "text/plain": [
       "sympy.core.mul.Mul"
      ]
     },
     "execution_count": 65,
     "metadata": {},
     "output_type": "execute_result"
    }
   ],
   "source": [
    "type(w * x)"
   ]
  },
  {
   "cell_type": "code",
   "execution_count": null,
   "id": "5904e318-7660-4037-a03c-fd9c6fbd231a",
   "metadata": {},
   "outputs": [],
   "source": []
  }
 ],
 "metadata": {
  "kernelspec": {
   "display_name": "Python 3 (ipykernel)",
   "language": "python",
   "name": "python3"
  },
  "language_info": {
   "codemirror_mode": {
    "name": "ipython",
    "version": 3
   },
   "file_extension": ".py",
   "mimetype": "text/x-python",
   "name": "python",
   "nbconvert_exporter": "python",
   "pygments_lexer": "ipython3",
   "version": "3.10.6"
  }
 },
 "nbformat": 4,
 "nbformat_minor": 5
}
