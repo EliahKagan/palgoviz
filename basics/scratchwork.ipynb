{
 "cells": [
  {
   "cell_type": "code",
   "execution_count": 1,
   "id": "b23f5ee4-1e48-4e3f-9c4f-3cf412d4fd7b",
   "metadata": {},
   "outputs": [],
   "source": [
    "from recursion import *"
   ]
  },
  {
   "cell_type": "code",
   "execution_count": 2,
   "id": "65ae601c-4764-4d8a-b986-6d6b5ef63c31",
   "metadata": {},
   "outputs": [
    {
     "data": {
      "text/plain": [
       "0"
      ]
     },
     "execution_count": 2,
     "metadata": {},
     "output_type": "execute_result"
    }
   ],
   "source": [
    "add_all([])"
   ]
  },
  {
   "cell_type": "code",
   "execution_count": 3,
   "id": "d0d5a100-a577-499d-919b-1d8e09ba38b9",
   "metadata": {},
   "outputs": [],
   "source": [
    "# _helpadd(2,[1,2])"
   ]
  },
  {
   "cell_type": "code",
   "execution_count": 4,
   "id": "c46054bc-45e3-41a0-8b14-eb25d224492f",
   "metadata": {},
   "outputs": [
    {
     "data": {
      "text/plain": [
       "['In',\n",
       " 'Out',\n",
       " '_',\n",
       " '_2',\n",
       " '__',\n",
       " '___',\n",
       " '__builtin__',\n",
       " '__builtins__',\n",
       " '__doc__',\n",
       " '__loader__',\n",
       " '__name__',\n",
       " '__package__',\n",
       " '__spec__',\n",
       " '_dh',\n",
       " '_i',\n",
       " '_i1',\n",
       " '_i2',\n",
       " '_i3',\n",
       " '_i4',\n",
       " '_ih',\n",
       " '_ii',\n",
       " '_iii',\n",
       " '_oh',\n",
       " 'add_all',\n",
       " 'add_all_iterative',\n",
       " 'add_all_slow',\n",
       " 'countdown',\n",
       " 'exit',\n",
       " 'get_ipython',\n",
       " 'linear_search',\n",
       " 'linear_search_good',\n",
       " 'linear_search_iterative',\n",
       " 'quit']"
      ]
     },
     "execution_count": 4,
     "metadata": {},
     "output_type": "execute_result"
    }
   ],
   "source": [
    "dir()"
   ]
  },
  {
   "cell_type": "code",
   "execution_count": 5,
   "id": "473428d0-69b0-42e7-ac3a-bdee58ebbae1",
   "metadata": {},
   "outputs": [
    {
     "name": "stdout",
     "output_type": "stream",
     "text": [
      "['x']\n"
     ]
    }
   ],
   "source": [
    "def f():\n",
    "    x = 10\n",
    "    print(dir())\n",
    "\n",
    "f()"
   ]
  },
  {
   "cell_type": "code",
   "execution_count": 6,
   "id": "c115766e-484b-4327-964d-8ae9cbbee4bd",
   "metadata": {},
   "outputs": [],
   "source": [
    "# recursion"
   ]
  },
  {
   "cell_type": "code",
   "execution_count": 7,
   "id": "3b2332dc-7546-4dc4-b032-b3112a840459",
   "metadata": {},
   "outputs": [
    {
     "data": {
      "text/plain": [
       "0"
      ]
     },
     "execution_count": 7,
     "metadata": {},
     "output_type": "execute_result"
    }
   ],
   "source": [
    "add_all([])"
   ]
  },
  {
   "cell_type": "code",
   "execution_count": 8,
   "id": "50303c38-3935-41be-ad8a-0bca0d1aabfe",
   "metadata": {},
   "outputs": [
    {
     "data": {
      "text/plain": [
       "7"
      ]
     },
     "execution_count": 8,
     "metadata": {},
     "output_type": "execute_result"
    }
   ],
   "source": [
    "add_all([7])"
   ]
  },
  {
   "cell_type": "code",
   "execution_count": 9,
   "id": "63c0f4b1-0e35-449b-a1d9-bf6f8ba7da4d",
   "metadata": {},
   "outputs": [
    {
     "data": {
      "text/plain": [
       "8"
      ]
     },
     "execution_count": 9,
     "metadata": {},
     "output_type": "execute_result"
    }
   ],
   "source": [
    "add_all([7, 1])"
   ]
  },
  {
   "cell_type": "code",
   "execution_count": 10,
   "id": "a7181a51-18b8-46ac-a60e-3777d88f2d97",
   "metadata": {},
   "outputs": [
    {
     "data": {
      "text/plain": [
       "10"
      ]
     },
     "execution_count": 10,
     "metadata": {},
     "output_type": "execute_result"
    }
   ],
   "source": [
    "add_all((3, 6, 1))"
   ]
  },
  {
   "cell_type": "code",
   "execution_count": 11,
   "id": "53eab643-5675-4cb2-90a4-b01cee0ff858",
   "metadata": {},
   "outputs": [
    {
     "data": {
      "text/plain": [
       "0"
      ]
     },
     "execution_count": 11,
     "metadata": {},
     "output_type": "execute_result"
    }
   ],
   "source": [
    "add_all(())"
   ]
  },
  {
   "cell_type": "code",
   "execution_count": 12,
   "id": "d87e5acc-994a-4e8a-8d87-a079e1425bc4",
   "metadata": {},
   "outputs": [],
   "source": [
    "a = (4, 5, 6)"
   ]
  },
  {
   "cell_type": "code",
   "execution_count": 13,
   "id": "026328c7-3cc3-498b-bbeb-4dbb7cf36eed",
   "metadata": {},
   "outputs": [
    {
     "data": {
      "text/plain": [
       "1"
      ]
     },
     "execution_count": 13,
     "metadata": {},
     "output_type": "execute_result"
    }
   ],
   "source": [
    "a.index(5)"
   ]
  },
  {
   "cell_type": "code",
   "execution_count": 14,
   "id": "6b2bbaa9-210b-4326-999f-e3253d29fb8c",
   "metadata": {},
   "outputs": [
    {
     "ename": "ValueError",
     "evalue": "tuple.index(x): x not in tuple",
     "output_type": "error",
     "traceback": [
      "\u001b[1;31m---------------------------------------------------------------------------\u001b[0m",
      "\u001b[1;31mValueError\u001b[0m                                Traceback (most recent call last)",
      "Input \u001b[1;32mIn [14]\u001b[0m, in \u001b[0;36m<module>\u001b[1;34m\u001b[0m\n\u001b[1;32m----> 1\u001b[0m \u001b[43ma\u001b[49m\u001b[38;5;241;43m.\u001b[39;49m\u001b[43mindex\u001b[49m\u001b[43m(\u001b[49m\u001b[38;5;241;43m7\u001b[39;49m\u001b[43m)\u001b[49m\n",
      "\u001b[1;31mValueError\u001b[0m: tuple.index(x): x not in tuple"
     ]
    }
   ],
   "source": [
    "a.index(7)"
   ]
  },
  {
   "cell_type": "code",
   "execution_count": null,
   "id": "36822482-f74e-4e19-86c9-170e582e0b54",
   "metadata": {},
   "outputs": [],
   "source": [
    "list(range(0))"
   ]
  },
  {
   "cell_type": "code",
   "execution_count": null,
   "id": "ec47a6db-7763-4c43-b14f-8893a3a49a2d",
   "metadata": {},
   "outputs": [],
   "source": [
    "list(enumerate([2,3,4,5]))"
   ]
  },
  {
   "cell_type": "code",
   "execution_count": null,
   "id": "484454fb-2366-462b-a258-a2f6c2b8b2c3",
   "metadata": {},
   "outputs": [],
   "source": [
    "len([])"
   ]
  },
  {
   "cell_type": "code",
   "execution_count": 15,
   "id": "5cad29ed-f74f-45b6-93a7-6579f48f869c",
   "metadata": {},
   "outputs": [
    {
     "name": "stdout",
     "output_type": "stream",
     "text": [
      "printing :0\n",
      "printing :1\n"
     ]
    }
   ],
   "source": [
    "linear_search([4, 5, 6], 5)"
   ]
  },
  {
   "cell_type": "code",
   "execution_count": null,
   "id": "1943a9ab-dcba-4293-b8b9-d39c445829c8",
   "metadata": {},
   "outputs": [],
   "source": [
    "a = (2, 3, 5)"
   ]
  },
  {
   "cell_type": "code",
   "execution_count": null,
   "id": "53b91731-4a24-4775-a87e-504429012dad",
   "metadata": {},
   "outputs": [],
   "source": [
    "a[1]"
   ]
  },
  {
   "cell_type": "code",
   "execution_count": 16,
   "id": "a028bdbe-3538-4de2-9301-d7acd2ef90e2",
   "metadata": {},
   "outputs": [],
   "source": [
    "b = [3, 1, 2, 8, 6, 5, 7]"
   ]
  },
  {
   "cell_type": "code",
   "execution_count": 17,
   "id": "fb6e4920-09f1-4d25-84ae-a472cc347360",
   "metadata": {},
   "outputs": [
    {
     "data": {
      "text/plain": [
       "[1, 2, 3, 5, 6, 7, 8]"
      ]
     },
     "execution_count": 17,
     "metadata": {},
     "output_type": "execute_result"
    }
   ],
   "source": [
    "sorted(b)"
   ]
  },
  {
   "cell_type": "code",
   "execution_count": 18,
   "id": "19f43e57-e36b-4fb1-abfa-d5eaac1ec5fb",
   "metadata": {},
   "outputs": [
    {
     "data": {
      "text/plain": [
       "0.6666666666666666"
      ]
     },
     "execution_count": 18,
     "metadata": {},
     "output_type": "execute_result"
    }
   ],
   "source": [
    "2 / 3"
   ]
  },
  {
   "cell_type": "code",
   "execution_count": 19,
   "id": "c4afd0d1-3118-47a8-82a0-dae40b99ea05",
   "metadata": {},
   "outputs": [
    {
     "data": {
      "text/plain": [
       "0"
      ]
     },
     "execution_count": 19,
     "metadata": {},
     "output_type": "execute_result"
    }
   ],
   "source": [
    "2 // 3"
   ]
  },
  {
   "cell_type": "code",
   "execution_count": 20,
   "id": "5f0c4576-c373-401e-903b-55ff2a413ca0",
   "metadata": {},
   "outputs": [
    {
     "data": {
      "text/plain": [
       "0.4"
      ]
     },
     "execution_count": 20,
     "metadata": {},
     "output_type": "execute_result"
    }
   ],
   "source": [
    "2 / 5"
   ]
  },
  {
   "cell_type": "code",
   "execution_count": 21,
   "id": "658d88a7-6f70-4de2-b4f2-299312377a91",
   "metadata": {},
   "outputs": [
    {
     "data": {
      "text/plain": [
       "0"
      ]
     },
     "execution_count": 21,
     "metadata": {},
     "output_type": "execute_result"
    }
   ],
   "source": [
    "2 // 5"
   ]
  },
  {
   "cell_type": "code",
   "execution_count": null,
   "id": "8c057280-9cdf-4a89-a561-a5994b8d936b",
   "metadata": {},
   "outputs": [],
   "source": []
  }
 ],
 "metadata": {
  "kernelspec": {
   "display_name": "Python 3 (ipykernel)",
   "language": "python",
   "name": "python3"
  },
  "language_info": {
   "codemirror_mode": {
    "name": "ipython",
    "version": 3
   },
   "file_extension": ".py",
   "mimetype": "text/x-python",
   "name": "python",
   "nbconvert_exporter": "python",
   "pygments_lexer": "ipython3",
   "version": "3.10.2"
  }
 },
 "nbformat": 4,
 "nbformat_minor": 5
}
