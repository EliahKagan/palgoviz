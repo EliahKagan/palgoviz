{
 "cells": [
  {
   "cell_type": "markdown",
   "id": "f3187cda-86b0-468a-8823-85e21b1eed64",
   "metadata": {},
   "source": [
    "# Assignment"
   ]
  },
  {
   "cell_type": "code",
   "execution_count": 1,
   "id": "2a350cbc-0fe8-445c-ae5d-d90d93a5374f",
   "metadata": {},
   "outputs": [],
   "source": [
    "# Run the math module if it hasn't been run.\n",
    "# Assign the module object to the variable named math.\n",
    "import math"
   ]
  },
  {
   "cell_type": "code",
   "execution_count": 2,
   "id": "ab325eb9-399b-40fc-8b12-1c42c8c21f7d",
   "metadata": {},
   "outputs": [],
   "source": [
    "# Run the math module if it hasn't been run.\n",
    "# Assign the module object to the variable named _math.\n",
    "import math as _math"
   ]
  },
  {
   "cell_type": "code",
   "execution_count": 3,
   "id": "cb133594-9a8e-4b74-8ab1-636f17d49e4d",
   "metadata": {
    "tags": [
     "raises-exception"
    ]
   },
   "outputs": [
    {
     "data": {
      "text/plain": [
       "<module 'math' (built-in)>"
      ]
     },
     "execution_count": 3,
     "metadata": {},
     "output_type": "execute_result"
    }
   ],
   "source": [
    "math"
   ]
  },
  {
   "cell_type": "code",
   "execution_count": 4,
   "id": "3e6a0993-9c28-472d-b5c3-76a649b77502",
   "metadata": {},
   "outputs": [
    {
     "data": {
      "text/plain": [
       "<module 'math' (built-in)>"
      ]
     },
     "execution_count": 4,
     "metadata": {},
     "output_type": "execute_result"
    }
   ],
   "source": [
    "_math"
   ]
  },
  {
   "cell_type": "code",
   "execution_count": 5,
   "id": "8375acfb-adbd-4571-aa4d-97c38045f63e",
   "metadata": {
    "tags": [
     "raises-exception"
    ]
   },
   "outputs": [
    {
     "data": {
      "text/plain": [
       "True"
      ]
     },
     "execution_count": 5,
     "metadata": {},
     "output_type": "execute_result"
    }
   ],
   "source": [
    "math is _math"
   ]
  },
  {
   "cell_type": "code",
   "execution_count": 6,
   "id": "3d18c45d-9ffb-4e62-ab19-24860c8cec5a",
   "metadata": {},
   "outputs": [],
   "source": [
    "# Run the sys and io modules (but don't run one that has been run).\n",
    "# Assign them to the sys and io variables, respectively.\n",
    "import sys, io\n",
    "\n",
    "# But it is better to just do:\n",
    "import sys \n",
    "import io"
   ]
  },
  {
   "cell_type": "code",
   "execution_count": 7,
   "id": "8a76e9f7-c646-4b88-af26-a46c416993d8",
   "metadata": {},
   "outputs": [],
   "source": [
    "# Run the math module if it hasn't been run.\n",
    "# Assign its members sin and cos to varaibles of those names.\n",
    "from math import sin, cos"
   ]
  },
  {
   "cell_type": "code",
   "execution_count": 8,
   "id": "669f33c7-6498-4cc7-853d-75a804e6d711",
   "metadata": {},
   "outputs": [],
   "source": [
    "# Run the sys and io modules (if not run already).\n",
    "# Assign the sys module object to the variable _sys, and the io module object to _io.\n",
    "import sys as _sys, io as _io\n",
    "\n",
    "# But it is better to just do:\n",
    "import sys as _sys\n",
    "import io as _io"
   ]
  },
  {
   "cell_type": "code",
   "execution_count": 9,
   "id": "84d7fde9-ac4d-407d-81a7-ba76f4eb78c1",
   "metadata": {},
   "outputs": [],
   "source": [
    "# Run the math module if it hasn't been run.\n",
    "# Assign its members sin and cos to the _sin and _cos variables, respectively.\n",
    "from math import sin as _sin, cos as _cos"
   ]
  },
  {
   "cell_type": "code",
   "execution_count": 10,
   "id": "1e1974de-ddc8-47a9-88d2-236422a851a8",
   "metadata": {},
   "outputs": [],
   "source": [
    "# Create a function that returns its input, squared.\n",
    "# Assign it to the variable called square.\n",
    "def square(x):\n",
    "    return x**2"
   ]
  },
  {
   "cell_type": "code",
   "execution_count": 11,
   "id": "dea6041b-f703-455a-b4da-fb7db89f43c7",
   "metadata": {},
   "outputs": [],
   "source": [
    "# Assign 3 to the variable x.\n",
    "x = 3"
   ]
  },
  {
   "cell_type": "code",
   "execution_count": 12,
   "id": "eeb5eb79-9584-4ea3-a435-27e63e3f388b",
   "metadata": {},
   "outputs": [],
   "source": [
    "# Assign 5 to the variable y.\n",
    "y = 5"
   ]
  },
  {
   "cell_type": "code",
   "execution_count": 13,
   "id": "da9536f3-34bf-4598-a9c2-3a595e449ddd",
   "metadata": {},
   "outputs": [],
   "source": [
    "# Assign the value of x to y, and the value of y to x.\n",
    "x, y = y, x"
   ]
  },
  {
   "cell_type": "code",
   "execution_count": 14,
   "id": "7f57923f-a597-438f-9993-f59a156850e8",
   "metadata": {},
   "outputs": [
    {
     "data": {
      "text/plain": [
       "5"
      ]
     },
     "execution_count": 14,
     "metadata": {},
     "output_type": "execute_result"
    }
   ],
   "source": [
    "x"
   ]
  },
  {
   "cell_type": "code",
   "execution_count": 15,
   "id": "d74664be-6be6-48dc-b70e-cc2f7018b913",
   "metadata": {},
   "outputs": [
    {
     "data": {
      "text/plain": [
       "3"
      ]
     },
     "execution_count": 15,
     "metadata": {},
     "output_type": "execute_result"
    }
   ],
   "source": [
    "y"
   ]
  },
  {
   "cell_type": "code",
   "execution_count": 16,
   "id": "425befc0-f909-4e7c-8ccf-538c95c230c6",
   "metadata": {},
   "outputs": [],
   "source": [
    "# Assign the string 'ham' to the variables a, b, and c.\n",
    "# Each variable will then refer to the same string object 'ham'.\n",
    "a = 'ham'\n",
    "b = a\n",
    "c = b"
   ]
  },
  {
   "cell_type": "code",
   "execution_count": 17,
   "id": "b97d7eaf-7cb5-466e-94b2-6bec3c357287",
   "metadata": {},
   "outputs": [],
   "source": [
    "a = 'eggs'"
   ]
  },
  {
   "cell_type": "code",
   "execution_count": 18,
   "id": "94b9022e-5fc1-47f6-b36c-590a9d508f17",
   "metadata": {},
   "outputs": [
    {
     "data": {
      "text/plain": [
       "2343054213872"
      ]
     },
     "execution_count": 18,
     "metadata": {},
     "output_type": "execute_result"
    }
   ],
   "source": [
    "id(c)"
   ]
  },
  {
   "cell_type": "code",
   "execution_count": 19,
   "id": "5f6f736f-5f2f-4c2c-9e80-e68f974b9cf2",
   "metadata": {},
   "outputs": [
    {
     "data": {
      "text/plain": [
       "2343054213872"
      ]
     },
     "execution_count": 19,
     "metadata": {},
     "output_type": "execute_result"
    }
   ],
   "source": [
    "id(b)"
   ]
  },
  {
   "cell_type": "code",
   "execution_count": 20,
   "id": "50e260c2-e7f2-4064-9c62-45342764f284",
   "metadata": {},
   "outputs": [],
   "source": [
    "del a, b, c"
   ]
  },
  {
   "cell_type": "code",
   "execution_count": 21,
   "id": "bfcd38e2-467a-44b7-9eba-50240d90ad7f",
   "metadata": {},
   "outputs": [],
   "source": [
    "# Assign 1-character strings -- the letters of 'ham' -- to variables a, b, and c.\n",
    "a, b, c = 'ham'"
   ]
  },
  {
   "cell_type": "code",
   "execution_count": 22,
   "id": "7d2fe71a-8980-4a42-b344-fdaddb78ec3b",
   "metadata": {},
   "outputs": [
    {
     "data": {
      "text/plain": [
       "('h', 'a', 'm')"
      ]
     },
     "execution_count": 22,
     "metadata": {},
     "output_type": "execute_result"
    }
   ],
   "source": [
    "(a, b, c)"
   ]
  },
  {
   "cell_type": "code",
   "execution_count": 23,
   "id": "9f8f5a12-f01d-46aa-bb2f-aa07fe8da704",
   "metadata": {},
   "outputs": [],
   "source": [
    "# With a SINGLE statement, assign the string 'ham' to the variables a, b, and c.\n",
    "# Each variable will then refer to the same string object 'ham'.\n",
    "a = b = c = 'ham'"
   ]
  },
  {
   "cell_type": "code",
   "execution_count": 24,
   "id": "e8e8482d-d479-4a92-9605-9e39cae99b0f",
   "metadata": {},
   "outputs": [
    {
     "data": {
      "text/plain": [
       "('ham', 'ham', 'ham')"
      ]
     },
     "execution_count": 24,
     "metadata": {},
     "output_type": "execute_result"
    }
   ],
   "source": [
    "(a, b, c)"
   ]
  },
  {
   "cell_type": "code",
   "execution_count": 25,
   "id": "1785cbdb-e29e-40a6-b551-2d916b3ad602",
   "metadata": {},
   "outputs": [
    {
     "data": {
      "text/plain": [
       "[2343054229232, 2343054229232, 2343054229232]"
      ]
     },
     "execution_count": 25,
     "metadata": {},
     "output_type": "execute_result"
    }
   ],
   "source": [
    "[id(x) for x in (a, b, c)]"
   ]
  },
  {
   "cell_type": "code",
   "execution_count": 26,
   "id": "899da58c-44d2-439f-8f17-bdce3b4173bb",
   "metadata": {},
   "outputs": [],
   "source": [
    "stuff = [10, (20, [30, 40], 50)]\n",
    "# With an assignment statement whose right-hand side is just the variable stuff,\n",
    "# assign the numbers 10, 20, 30, 40, and 50 to the variables a, b, c, d, and e.\n",
    "a, (b, (c, d), e) = stuff"
   ]
  },
  {
   "cell_type": "code",
   "execution_count": 27,
   "id": "23659b52-75f2-4fd5-bde2-e7a37e2d4a7e",
   "metadata": {},
   "outputs": [
    {
     "data": {
      "text/plain": [
       "[10, 20, 30, 40, 50]"
      ]
     },
     "execution_count": 27,
     "metadata": {},
     "output_type": "execute_result"
    }
   ],
   "source": [
    "[a, b, c, d, e]"
   ]
  },
  {
   "cell_type": "code",
   "execution_count": 28,
   "id": "87e814c5-33f2-46a7-a78f-44bbc4e30177",
   "metadata": {},
   "outputs": [],
   "source": [
    "a = b = c = d = e = 0\n",
    "# With a match statement on an expression that is just the variable stuff,\n",
    "# assign 10, 20, and 30 to a, b, and c, and assign 50 to e, without\n",
    "# assigning 40 to any variable. Furthermore, if the structure of stuff is\n",
    "# anything other than the structure it has above, then don't perform any\n",
    "# assignments, but do print a message.\n",
    "match stuff:\n",
    "    case [a, [b, [c, _], e]]:\n",
    "        pass\n",
    "    case _:\n",
    "        print('structure of stuff is wrong')"
   ]
  },
  {
   "cell_type": "code",
   "execution_count": 29,
   "id": "42d1ae30-c087-4302-b1cf-62233bb286ba",
   "metadata": {},
   "outputs": [
    {
     "data": {
      "text/plain": [
       "[10, 20, 30, 0, 50]"
      ]
     },
     "execution_count": 29,
     "metadata": {},
     "output_type": "execute_result"
    }
   ],
   "source": [
    "[a, b, c, d, e]"
   ]
  },
  {
   "cell_type": "code",
   "execution_count": 30,
   "id": "370a68d2-52c5-4e18-88e7-411912321a49",
   "metadata": {},
   "outputs": [],
   "source": [
    "stuff = 0"
   ]
  },
  {
   "cell_type": "code",
   "execution_count": 31,
   "id": "deddd526-42c2-4924-9c71-7ce5dc3d9b29",
   "metadata": {},
   "outputs": [
    {
     "name": "stdout",
     "output_type": "stream",
     "text": [
      "structure of stuff is wrong\n"
     ]
    }
   ],
   "source": [
    "match stuff:\n",
    "    case [a, [b, [c, _], e]]:\n",
    "        pass\n",
    "    case _:\n",
    "        print('structure of stuff is wrong')"
   ]
  },
  {
   "cell_type": "code",
   "execution_count": 32,
   "id": "af7bb111-d4d6-4cd6-b940-883e04ec81c0",
   "metadata": {
    "tags": [
     "raises-exception"
    ]
   },
   "outputs": [],
   "source": [
    "# Assign the string 'Ow!' to a variable named len. This shadows the builtin\n",
    "# function len (which is why it should never be done, except for demonstration\n",
    "# purposes).\n",
    "len = 'Ow!'"
   ]
  },
  {
   "cell_type": "code",
   "execution_count": 33,
   "id": "4fce873f-1ab7-4b8e-beb5-e2b802f70d7d",
   "metadata": {},
   "outputs": [
    {
     "data": {
      "text/plain": [
       "'Ow!'"
      ]
     },
     "execution_count": 33,
     "metadata": {},
     "output_type": "execute_result"
    }
   ],
   "source": [
    "len"
   ]
  },
  {
   "cell_type": "code",
   "execution_count": 34,
   "id": "f4e83acf-dcab-4f84-9e0f-ae43e9a678a2",
   "metadata": {
    "tags": [
     "raises-exception"
    ]
   },
   "outputs": [
    {
     "ename": "TypeError",
     "evalue": "'str' object is not callable",
     "output_type": "error",
     "traceback": [
      "\u001b[1;31m---------------------------------------------------------------------------\u001b[0m",
      "\u001b[1;31mTypeError\u001b[0m                                 Traceback (most recent call last)",
      "Input \u001b[1;32mIn [34]\u001b[0m, in \u001b[0;36m<cell line: 1>\u001b[1;34m()\u001b[0m\n\u001b[1;32m----> 1\u001b[0m \u001b[38;5;28;43mlen\u001b[39;49m\u001b[43m(\u001b[49m\u001b[38;5;124;43m'\u001b[39;49m\u001b[38;5;124;43mow!\u001b[39;49m\u001b[38;5;124;43m'\u001b[39;49m\u001b[43m)\u001b[49m\n",
      "\u001b[1;31mTypeError\u001b[0m: 'str' object is not callable"
     ]
    }
   ],
   "source": [
    "len('ow!')"
   ]
  },
  {
   "cell_type": "code",
   "execution_count": 35,
   "id": "a753857c-100f-4c21-9cd7-e22841ffbc47",
   "metadata": {
    "tags": [
     "raises-exception"
    ]
   },
   "outputs": [],
   "source": [
    "# Although len in the builtin scope was shadowed by the presence of len in\n",
    "# the global scope, it was not deleted. Get rid of len in the global scope,\n",
    "# and show that this restores access to len in the builtin scope.\n",
    "del len"
   ]
  },
  {
   "cell_type": "code",
   "execution_count": 36,
   "id": "ab3b42d6-c276-493a-acd0-ab83ec668afd",
   "metadata": {},
   "outputs": [
    {
     "data": {
      "text/plain": [
       "3"
      ]
     },
     "execution_count": 36,
     "metadata": {},
     "output_type": "execute_result"
    }
   ],
   "source": [
    "len('ow!')"
   ]
  },
  {
   "cell_type": "code",
   "execution_count": 37,
   "id": "d783f8e4-18cf-40f4-840b-d3cd9c58b05c",
   "metadata": {
    "tags": [
     "raises-exception"
    ]
   },
   "outputs": [
    {
     "ename": "UnboundLocalError",
     "evalue": "local variable 'len' referenced before assignment",
     "output_type": "error",
     "traceback": [
      "\u001b[1;31m---------------------------------------------------------------------------\u001b[0m",
      "\u001b[1;31mUnboundLocalError\u001b[0m                         Traceback (most recent call last)",
      "Input \u001b[1;32mIn [37]\u001b[0m, in \u001b[0;36m<cell line: 9>\u001b[1;34m()\u001b[0m\n\u001b[0;32m      6\u001b[0m     \u001b[38;5;28;01mdel\u001b[39;00m \u001b[38;5;28mlen\u001b[39m\n\u001b[0;32m      7\u001b[0m     \u001b[38;5;28mprint\u001b[39m(\u001b[38;5;28mlen\u001b[39m(\u001b[38;5;124m'\u001b[39m\u001b[38;5;124mhello\u001b[39m\u001b[38;5;124m'\u001b[39m))\n\u001b[1;32m----> 9\u001b[0m \u001b[43mtestscopes\u001b[49m\u001b[43m(\u001b[49m\u001b[43m)\u001b[49m\n",
      "Input \u001b[1;32mIn [37]\u001b[0m, in \u001b[0;36mtestscopes\u001b[1;34m()\u001b[0m\n\u001b[0;32m      5\u001b[0m \u001b[38;5;28mlen\u001b[39m \u001b[38;5;241m=\u001b[39m \u001b[38;5;124m'\u001b[39m\u001b[38;5;124mOw!\u001b[39m\u001b[38;5;124m'\u001b[39m\n\u001b[0;32m      6\u001b[0m \u001b[38;5;28;01mdel\u001b[39;00m \u001b[38;5;28mlen\u001b[39m\n\u001b[1;32m----> 7\u001b[0m \u001b[38;5;28mprint\u001b[39m(\u001b[38;5;28;43mlen\u001b[39;49m(\u001b[38;5;124m'\u001b[39m\u001b[38;5;124mhello\u001b[39m\u001b[38;5;124m'\u001b[39m))\n",
      "\u001b[1;31mUnboundLocalError\u001b[0m: local variable 'len' referenced before assignment"
     ]
    }
   ],
   "source": [
    "# Suppose we have a function with a local variable called len. Can deleting\n",
    "# that local variable restore access to the builtin len, in that function?\n",
    "# Please write a function that demonstrates whether or not it can.\n",
    "def testscopes():\n",
    "    len = 'Ow!'\n",
    "    del len\n",
    "    print(len('hello'))\n",
    "\n",
    "testscopes()"
   ]
  },
  {
   "cell_type": "code",
   "execution_count": 38,
   "id": "2368e4fc-2825-4422-b9f7-df8075f70b98",
   "metadata": {},
   "outputs": [],
   "source": [
    "# Some very important information we really don't want to lose.\n",
    "hello = 'The gold is in safe deposit #9A44515 at the Hello World Bank of Switzerland or something.'\n",
    "\n",
    "# Demonstrate why * imports are only considered reasonable for interactive testing.\n",
    "from greet import *"
   ]
  },
  {
   "cell_type": "code",
   "execution_count": 39,
   "id": "756d6f71-5e5f-4029-a268-b0edeefa20c5",
   "metadata": {},
   "outputs": [
    {
     "data": {
      "text/plain": [
       "<function greet.hello(name, lang='en')>"
      ]
     },
     "execution_count": 39,
     "metadata": {},
     "output_type": "execute_result"
    }
   ],
   "source": [
    "hello"
   ]
  },
  {
   "cell_type": "code",
   "execution_count": 40,
   "id": "860e573e-5b6b-4955-a0fe-192f6f122127",
   "metadata": {},
   "outputs": [],
   "source": [
    "# TODO: Find out the actual semantics of _ in interactive python and in IPython/Jupyter."
   ]
  },
  {
   "cell_type": "code",
   "execution_count": 41,
   "id": "a74ee727-849a-4725-a8d6-7b2d2488b2f7",
   "metadata": {},
   "outputs": [
    {
     "name": "stdout",
     "output_type": "stream",
     "text": [
      "got here\n",
      "<function hello at 0x000002218A992A70>\n"
     ]
    }
   ],
   "source": [
    "# In a fuction (to avoid messing with the special significance of _ in interactive\n",
    "# Python interpreters), show that using _ as a discard in a match statement does not\n",
    "# assign to _ and does not even cause it to become a local variable.\n",
    "def underfunction():\n",
    "    mystuff = 10\n",
    "    match mystuff:\n",
    "        case _:\n",
    "            print ('got here')\n",
    "            print (_)\n",
    "            \n",
    "underfunction()"
   ]
  },
  {
   "cell_type": "code",
   "execution_count": 42,
   "id": "8ad16a9d-1dda-4bcd-bd97-0341a8274fb8",
   "metadata": {},
   "outputs": [
    {
     "name": "stdout",
     "output_type": "stream",
     "text": [
      "5\n",
      "4\n"
     ]
    }
   ],
   "source": [
    "# In a fuction (to avoid messing with the special significance of _ in interactive\n",
    "# Python interpreters), show that using _ like a discard in an assignment statement\n",
    "# DOES assign to _.\n",
    "def unassfunction():\n",
    "    _ = 4\n",
    "    x = 5\n",
    "    print (x)\n",
    "    print (_)\n",
    "unassfunction()"
   ]
  },
  {
   "cell_type": "code",
   "execution_count": 43,
   "id": "d50608b8-88ad-47aa-8e35-d6399594de6b",
   "metadata": {},
   "outputs": [
    {
     "name": "stdout",
     "output_type": "stream",
     "text": [
      "10\n",
      "20\n",
      "30\n",
      "40\n",
      "50\n",
      "60\n",
      "70\n"
     ]
    }
   ],
   "source": [
    "values = [10, 20, 30, 40, 50, 60, 70]\n",
    "# For each value in values, assign it to the variable x and print x.\n",
    "for x in values:\n",
    "    print (x)"
   ]
  },
  {
   "cell_type": "code",
   "execution_count": 44,
   "id": "2d0d68e9-2fd5-4c60-b95e-813f6a2ca58e",
   "metadata": {},
   "outputs": [],
   "source": [
    "point = (10, 20)\n",
    "# Write an assignment statement with just the variable point on the right-hand\n",
    "# side, which assign 10 to the variable x_coord and 20 to the variable y_coord.\n",
    "x_coord, y_coord = point"
   ]
  },
  {
   "cell_type": "code",
   "execution_count": 45,
   "id": "ee963c8d-7fac-4029-9e3d-309f1e69f618",
   "metadata": {},
   "outputs": [
    {
     "data": {
      "text/plain": [
       "'x_coord=10, y_coord=20'"
      ]
     },
     "execution_count": 45,
     "metadata": {},
     "output_type": "execute_result"
    }
   ],
   "source": [
    "f'{x_coord=}, {y_coord=}'"
   ]
  },
  {
   "cell_type": "code",
   "execution_count": 46,
   "id": "eb52c9bb-7df3-41c0-a556-20ef167766f9",
   "metadata": {},
   "outputs": [
    {
     "name": "stdout",
     "output_type": "stream",
     "text": [
      "10 on the x-axis, 20 on the y-axis.\n",
      "30 on the x-axis, 40 on the y-axis.\n",
      "50 on the x-axis, 60 on the y-axis.\n",
      "70 on the x-axis, 80 on the y-axis.\n"
     ]
    }
   ],
   "source": [
    "coords = [(10, 20), (30, 40), (50, 60), (70, 80)]\n",
    "# For each coordinate pair in coords, assign the first element to x and the\n",
    "# second element to y, and print them both (formatted however you like).\n",
    "for x, y in coords:\n",
    "    print(f'{x} on the x-axis, {y} on the y-axis.')"
   ]
  },
  {
   "cell_type": "code",
   "execution_count": 47,
   "id": "42ca474c-ae7c-43be-b8ba-5faa83d88458",
   "metadata": {},
   "outputs": [
    {
     "name": "stdout",
     "output_type": "stream",
     "text": [
      "x='cat'\n",
      "xs=['dog', 'horse', 'bat', 'eagle']\n",
      "x='banker'\n",
      "xs=['butcher', 'candlestick maker']\n",
      "x=10\n",
      "xs=[20, 30, 40, 50, 50, 60]\n"
     ]
    }
   ],
   "source": [
    "table = [['cat', 'dog', 'horse', 'bat', 'eagle'],\n",
    "         ['banker', 'butcher', 'candlestick maker'],\n",
    "         [10, 20, 30, 40, 50, 50, 60]]\n",
    "# For each row of table, assign the first element to x and a list of all the\n",
    "# other elements to xs, then print them both (formatted however you like).\n",
    "for x, *xs in table:\n",
    "    print(f'{x=}')\n",
    "    print(f'{xs=}')"
   ]
  },
  {
   "cell_type": "code",
   "execution_count": 48,
   "id": "87b8d8d9-f06b-4a8a-a376-b50aa53b3739",
   "metadata": {},
   "outputs": [
    {
     "data": {
      "text/plain": [
       "[20, 30, 40, 50, 50, 60]"
      ]
     },
     "execution_count": 48,
     "metadata": {},
     "output_type": "execute_result"
    }
   ],
   "source": [
    "xs"
   ]
  },
  {
   "cell_type": "code",
   "execution_count": 49,
   "id": "7974714b-7800-4371-bf7d-e4468acd1dc6",
   "metadata": {},
   "outputs": [
    {
     "data": {
      "text/plain": [
       "(20, [30, 40, 50, 50, 60])"
      ]
     },
     "execution_count": 49,
     "metadata": {},
     "output_type": "execute_result"
    }
   ],
   "source": [
    "y, *ys = xs\n",
    "(y, ys)"
   ]
  },
  {
   "cell_type": "code",
   "execution_count": 50,
   "id": "5c42c60b-2ff9-43d5-9860-b22def4be15f",
   "metadata": {},
   "outputs": [
    {
     "data": {
      "text/plain": [
       "{20, 30, 40, 50, 60, 'foo'}"
      ]
     },
     "execution_count": 50,
     "metadata": {},
     "output_type": "execute_result"
    }
   ],
   "source": [
    "ys = {'foo', *xs}\n",
    "ys"
   ]
  },
  {
   "cell_type": "code",
   "execution_count": 51,
   "id": "f9ba0568-b1bb-4760-b048-480de2d60eb4",
   "metadata": {},
   "outputs": [
    {
     "name": "stdout",
     "output_type": "stream",
     "text": [
      "xs=['cat', 'dog', 'horse', 'bat']\n",
      "x='eagle'\n",
      "xs=['banker', 'butcher']\n",
      "x='candlestick maker'\n",
      "xs=[10, 20, 30, 40, 50, 50]\n",
      "x=60\n"
     ]
    }
   ],
   "source": [
    "table = [['cat', 'dog', 'horse', 'bat', 'eagle'],\n",
    "         ['banker', 'butcher', 'candlestick maker'],\n",
    "         [10, 20, 30, 40, 50, 50, 60]]\n",
    "# For each row of table, assign the last element to x and a list of all the\n",
    "# other elements to xs, then print them both (formatted however you like).\n",
    "for *xs, x in table:\n",
    "    print(f'{xs=}')\n",
    "    print(f'{x=}')"
   ]
  },
  {
   "cell_type": "code",
   "execution_count": 52,
   "id": "5f35bdb1-9c2d-4293-a498-1dbd9d029aca",
   "metadata": {},
   "outputs": [
    {
     "name": "stdout",
     "output_type": "stream",
     "text": [
      "xs=[]\n",
      "x=1\n",
      "xs=[]\n",
      "x=2\n"
     ]
    }
   ],
   "source": [
    "# Write an assignment whose left-hand side is\n",
    "#    *xs, x\n",
    "# where xs becomes an empty list.\n",
    "row = [[1],[2]] \n",
    "for *xs, x in row:\n",
    "    print(f'{xs=}')\n",
    "    print(f'{x=}')    "
   ]
  },
  {
   "cell_type": "code",
   "execution_count": 53,
   "id": "5e8505b2-731c-468e-a65f-b5aad4fa4334",
   "metadata": {},
   "outputs": [],
   "source": [
    "# Write such an assignment as one-line assignment statement.\n",
    "*xs, x = ['stuff']"
   ]
  },
  {
   "cell_type": "code",
   "execution_count": 54,
   "id": "b6d7a600-fc8c-4fca-8acd-eb92b3a93681",
   "metadata": {},
   "outputs": [
    {
     "data": {
      "text/plain": [
       "[]"
      ]
     },
     "execution_count": 54,
     "metadata": {},
     "output_type": "execute_result"
    }
   ],
   "source": [
    "xs"
   ]
  },
  {
   "cell_type": "code",
   "execution_count": 55,
   "id": "09e0f8e9-1fd6-4c35-a33d-a4626fd5cb61",
   "metadata": {},
   "outputs": [
    {
     "data": {
      "text/plain": [
       "'stuff'"
      ]
     },
     "execution_count": 55,
     "metadata": {},
     "output_type": "execute_result"
    }
   ],
   "source": [
    "x"
   ]
  },
  {
   "cell_type": "code",
   "execution_count": 56,
   "id": "932e9ccd-61f6-4818-adf4-93b21feb9702",
   "metadata": {},
   "outputs": [
    {
     "name": "stdout",
     "output_type": "stream",
     "text": [
      "first='cat'\n",
      "middle=['dog', 'horse', 'bat']\n",
      "last='eagle'\n",
      "first='banker'\n",
      "middle=['butcher']\n",
      "last='candlestick maker'\n",
      "first=10\n",
      "middle=[20, 30, 40, 50, 50]\n",
      "last=60\n"
     ]
    }
   ],
   "source": [
    "table = [['cat', 'dog', 'horse', 'bat', 'eagle'],\n",
    "         ['banker', 'butcher', 'candlestick maker'],\n",
    "         [10, 20, 30, 40, 50, 50, 60]]\n",
    "# For each row of table, assign the first element to first, the last element\n",
    "# to last, and all the other elements to middle (so middle will be a list).\n",
    "for first, *middle, last in table:\n",
    "    print(f'{first=}')\n",
    "    print(f'{middle=}')\n",
    "    print(f'{last=}')"
   ]
  },
  {
   "cell_type": "code",
   "execution_count": 57,
   "id": "25a53480-56b3-4bea-815e-6520c76e413e",
   "metadata": {},
   "outputs": [
    {
     "name": "stdout",
     "output_type": "stream",
     "text": [
      "list index out of range\n"
     ]
    }
   ],
   "source": [
    "# Some except clauses perform assignment. Demonstrate this.\n",
    "mylist = [0, 1, 2, 3, 4]\n",
    "try: \n",
    "    mylist[5]\n",
    "except IndexError as ierror:\n",
    "    print(ierror)"
   ]
  },
  {
   "cell_type": "code",
   "execution_count": 58,
   "id": "fdad0d45-71fa-4ac7-90df-bc34774ca7be",
   "metadata": {},
   "outputs": [],
   "source": [
    "# Variables assigned outside of functions and comprehensions are global,\n",
    "# and in JupyterLab global variables are accessible across cells, since\n",
    "# code in different cells is all in the same scope. You've seen this, and\n",
    "# here's another example:\n",
    "something = 'wow!'"
   ]
  },
  {
   "cell_type": "code",
   "execution_count": 59,
   "id": "2984959a-1640-41c6-a852-3b690647a1c2",
   "metadata": {},
   "outputs": [
    {
     "data": {
      "text/plain": [
       "'wow!'"
      ]
     },
     "execution_count": 59,
     "metadata": {},
     "output_type": "execute_result"
    }
   ],
   "source": [
    "something"
   ]
  },
  {
   "cell_type": "code",
   "execution_count": 60,
   "id": "d9b6f34a-9139-40ce-bc80-a60742de6cd9",
   "metadata": {
    "tags": [
     "raises-exception"
    ]
   },
   "outputs": [
    {
     "ename": "NameError",
     "evalue": "name 'ierror' is not defined",
     "output_type": "error",
     "traceback": [
      "\u001b[1;31m---------------------------------------------------------------------------\u001b[0m",
      "\u001b[1;31mNameError\u001b[0m                                 Traceback (most recent call last)",
      "Input \u001b[1;32mIn [60]\u001b[0m, in \u001b[0;36m<cell line: 3>\u001b[1;34m()\u001b[0m\n\u001b[0;32m      1\u001b[0m \u001b[38;5;66;03m# But what about ierror? It was assigned by the except clause.\u001b[39;00m\n\u001b[0;32m      2\u001b[0m \u001b[38;5;66;03m# Is it still accessible?\u001b[39;00m\n\u001b[1;32m----> 3\u001b[0m \u001b[43mierror\u001b[49m\n",
      "\u001b[1;31mNameError\u001b[0m: name 'ierror' is not defined"
     ]
    }
   ],
   "source": [
    "# But what about ierror? It was assigned by the except clause.\n",
    "# Is it still accessible?\n",
    "ierror"
   ]
  },
  {
   "cell_type": "code",
   "execution_count": 61,
   "id": "568f773c-163d-477f-98d6-e5b5f1e56658",
   "metadata": {},
   "outputs": [],
   "source": [
    "# The variable was in the same scope. But this is a special case. The\n",
    "# variable to which except assigns the exception object is deleted (as\n",
    "# if with del) as control exits the end of the except block.\n",
    "\n",
    "# The reason for this special behavior is that exception objects contain\n",
    "# references to data structures useful for debugging... and through\n",
    "# which most other variables and state can be accessed. That keeps\n",
    "# numerous objects from being garbage collected. Deleting the variable\n",
    "# lets the exception object be garbage collected (unless it has been\n",
    "# assigned elsewhere), which prevents what would otherwise be huge\n",
    "# memory leaks in most Python programs."
   ]
  },
  {
   "cell_type": "code",
   "execution_count": 62,
   "id": "fea324bd-5f57-44f3-bd2c-191942668e40",
   "metadata": {
    "tags": [
     "raises-exception"
    ]
   },
   "outputs": [
    {
     "name": "stdout",
     "output_type": "stream",
     "text": [
      "list index out of range\n"
     ]
    },
    {
     "ename": "NameError",
     "evalue": "name 'ierror' is not defined",
     "output_type": "error",
     "traceback": [
      "\u001b[1;31m---------------------------------------------------------------------------\u001b[0m",
      "\u001b[1;31mNameError\u001b[0m                                 Traceback (most recent call last)",
      "Input \u001b[1;32mIn [62]\u001b[0m, in \u001b[0;36m<cell line: 10>\u001b[1;34m()\u001b[0m\n\u001b[0;32m      8\u001b[0m \u001b[38;5;28;01mexcept\u001b[39;00m \u001b[38;5;167;01mIndexError\u001b[39;00m \u001b[38;5;28;01mas\u001b[39;00m ierror:\n\u001b[0;32m      9\u001b[0m     \u001b[38;5;28mprint\u001b[39m(ierror)\n\u001b[1;32m---> 10\u001b[0m \u001b[38;5;28mprint\u001b[39m(\u001b[43mierror\u001b[49m)\n",
      "\u001b[1;31mNameError\u001b[0m: name 'ierror' is not defined"
     ]
    }
   ],
   "source": [
    "# Show that, if the variable existed before, and is assigned to by\n",
    "# except, then after the except clause, it is still deleted, and *not*\n",
    "# restored to its former value.\n",
    "ierror = \"former value\" \n",
    "mylist = [0, 1, 2, 3, 4]\n",
    "try: \n",
    "    mylist[5]\n",
    "except IndexError as ierror:\n",
    "    print(ierror)\n",
    "print(ierror)"
   ]
  },
  {
   "cell_type": "code",
   "execution_count": 63,
   "id": "a1bc0c1b-a3e0-498c-8eda-6465bd6d9aab",
   "metadata": {},
   "outputs": [
    {
     "name": "stdout",
     "output_type": "stream",
     "text": [
      "list index out of range\n",
      "list index out of range\n"
     ]
    }
   ],
   "source": [
    "# Write code that preserves access to the exception object even after\n",
    "# control has left the except clause. (This is occasionally useful.)\n",
    "ierror = \"former value\" \n",
    "mylist = [0, 1, 2, 3, 4]\n",
    "try: \n",
    "    mylist[5]\n",
    "except IndexError as ierror:\n",
    "    print(ierror)\n",
    "    preserver = ierror\n",
    "print(preserver)"
   ]
  },
  {
   "cell_type": "code",
   "execution_count": 64,
   "id": "2b2ed965-d9ef-46f2-99dd-f3fd04b78298",
   "metadata": {},
   "outputs": [
    {
     "data": {
      "text/plain": [
       "'C:\\\\Users\\\\ek\\\\source\\\\repos\\\\algoviz\\\\basics'"
      ]
     },
     "execution_count": 64,
     "metadata": {},
     "output_type": "execute_result"
    }
   ],
   "source": [
    "import os\n",
    "os.getcwd()"
   ]
  },
  {
   "cell_type": "code",
   "execution_count": 65,
   "id": "d86ed99c-25b8-42c2-86a0-d4068eb5f05a",
   "metadata": {},
   "outputs": [
    {
     "name": "stdout",
     "output_type": "stream",
     "text": [
      "Eliah\n",
      "\n"
     ]
    }
   ],
   "source": [
    "# The \"with\" statement is a form of assignment, when an \"as\" clause\n",
    "# is present. Open names.txt as a file and read a line from it.\n",
    "with open('names.txt', encoding='utf-8') as file:\n",
    "    firstline = file.readline()    \n",
    "    print(firstline)"
   ]
  },
  {
   "cell_type": "code",
   "execution_count": 66,
   "id": "bf8f4adf-5739-4002-8af2-5e631bd9b256",
   "metadata": {
    "tags": [
     "raises-exception"
    ]
   },
   "outputs": [
    {
     "ename": "ValueError",
     "evalue": "I/O operation on closed file.",
     "output_type": "error",
     "traceback": [
      "\u001b[1;31m---------------------------------------------------------------------------\u001b[0m",
      "\u001b[1;31mValueError\u001b[0m                                Traceback (most recent call last)",
      "Input \u001b[1;32mIn [66]\u001b[0m, in \u001b[0;36m<cell line: 2>\u001b[1;34m()\u001b[0m\n\u001b[0;32m      1\u001b[0m \u001b[38;5;66;03m# Control has left the with block. Does the file variable still exist?\u001b[39;00m\n\u001b[1;32m----> 2\u001b[0m secondline \u001b[38;5;241m=\u001b[39m \u001b[43mfile\u001b[49m\u001b[38;5;241;43m.\u001b[39;49m\u001b[43mreadline\u001b[49m\u001b[43m(\u001b[49m\u001b[43m)\u001b[49m\n",
      "\u001b[1;31mValueError\u001b[0m: I/O operation on closed file."
     ]
    }
   ],
   "source": [
    "# Control has left the with block. Does the file variable still exist?\n",
    "secondline = file.readline()"
   ]
  },
  {
   "cell_type": "code",
   "execution_count": 67,
   "id": "07340ac3-20ce-4d3d-8231-d668d8d7e00b",
   "metadata": {},
   "outputs": [
    {
     "name": "stdout",
     "output_type": "stream",
     "text": [
      "Eliah\n",
      "\n"
     ]
    }
   ],
   "source": [
    "# Open names.txt as a file and read a line from it. Use try-finally\n",
    "# instead of a \"with\" statement.\n",
    "file = open('names.txt', encoding='utf-8')\n",
    "try: \n",
    "    firstline = file.readline()\n",
    "    print(firstline)\n",
    "finally: \n",
    "    file.close()"
   ]
  },
  {
   "cell_type": "code",
   "execution_count": 68,
   "id": "337421a9-2195-46c0-ad47-a737a3af9cf8",
   "metadata": {
    "tags": [
     "raises-exception"
    ]
   },
   "outputs": [
    {
     "ename": "ValueError",
     "evalue": "I/O operation on closed file.",
     "output_type": "error",
     "traceback": [
      "\u001b[1;31m---------------------------------------------------------------------------\u001b[0m",
      "\u001b[1;31mValueError\u001b[0m                                Traceback (most recent call last)",
      "Input \u001b[1;32mIn [68]\u001b[0m, in \u001b[0;36m<cell line: 1>\u001b[1;34m()\u001b[0m\n\u001b[1;32m----> 1\u001b[0m secondline \u001b[38;5;241m=\u001b[39m \u001b[43mfile\u001b[49m\u001b[38;5;241;43m.\u001b[39;49m\u001b[43mreadline\u001b[49m\u001b[43m(\u001b[49m\u001b[43m)\u001b[49m\n",
      "\u001b[1;31mValueError\u001b[0m: I/O operation on closed file."
     ]
    }
   ],
   "source": [
    "secondline = file.readline()"
   ]
  },
  {
   "cell_type": "code",
   "execution_count": 69,
   "id": "f931c9b4-be24-4b5e-8e7b-19d1a619da2d",
   "metadata": {},
   "outputs": [],
   "source": [
    "# A \"with\" statement, with \"as\", assigns an object to a variable that usually\n",
    "# makes sense to use within the body of the \"with\" statement, and that may or\n",
    "# may not make sense to use afterwards. However, unlike \"as\" in an \"except\"\n",
    "# clause, there is no special variable-deletion behavior associated with \"as\"\n",
    "# in a \"with\" statement."
   ]
  },
  {
   "cell_type": "code",
   "execution_count": 70,
   "id": "54d2f406-057a-4212-a5b1-f329ef6c7d8e",
   "metadata": {},
   "outputs": [
    {
     "name": "stdout",
     "output_type": "stream",
     "text": [
      "uncubed=5\n",
      "uncubed=0\n"
     ]
    }
   ],
   "source": [
    "# Part of the semantics of function calls is that the objects passed as actual\n",
    "# arguments to the function are assigned to the function's formal parameters,\n",
    "# and those formal parameters are local variables of the function as it executes.\n",
    "# Define a function with one or more parameters that accesses its parameter(s)\n",
    "# and prints their values. Then run code that shows that these values have not\n",
    "# been assigned to variables of the same names in the global scope.\n",
    "uncubed = 0\n",
    "def cube(uncubed):\n",
    "    print(f'{uncubed=}')\n",
    "    return uncubed**3\n",
    "cube(5)\n",
    "print(f'{uncubed=}')"
   ]
  },
  {
   "cell_type": "code",
   "execution_count": 71,
   "id": "3c061d84-d64b-4351-8091-f8cee2d7ba72",
   "metadata": {},
   "outputs": [
    {
     "name": "stdout",
     "output_type": "stream",
     "text": [
      "[9, 8, 7, 6, 5]\n",
      "(9, 8, 7, 6)\n",
      "[9, 8, 7, 6, 5]\n"
     ]
    }
   ],
   "source": [
    "# When a function has a formal parameter that appears in the paramaeter list\n",
    "# with a leading *, like *args, this accepts zero or more actual arguments.\n",
    "# Those arguments are collected togeter into a tuple. This is conceptually\n",
    "# very similar to assigning to starred targets with assignment statements\n",
    "# and with the match statement. But with assignment statements and the match\n",
    "# statement, a list is created, not a tuple. Demonstrate this difference.\n",
    "stuff = (9, 8, 7, 6, 5, 4)\n",
    "*liststuff, last = stuff\n",
    "print(liststuff)\n",
    "def tupstuff(*inputstuff):\n",
    "    print(inputstuff)\n",
    "tupstuff(9, 8, 7, 6)\n",
    "match stuff:\n",
    "    case *things, lastthing:\n",
    "        print(things)\n",
    "    case _:\n",
    "        print(\"should be more than one thing\")"
   ]
  },
  {
   "cell_type": "code",
   "execution_count": 72,
   "id": "95e748ae-a44c-4576-851b-cd10fb1008e8",
   "metadata": {},
   "outputs": [
    {
     "name": "stdout",
     "output_type": "stream",
     "text": [
      "(10, 5, 1)\n",
      "(10, 5, 1)\n",
      "(10, 5, 1)\n"
     ]
    },
    {
     "data": {
      "text/plain": [
       "16"
      ]
     },
     "execution_count": 72,
     "metadata": {},
     "output_type": "execute_result"
    }
   ],
   "source": [
    "def f(*args):\n",
    "    mystery(args)\n",
    "    return g(*args)\n",
    "\n",
    "def g(*args):\n",
    "    mystery(args)\n",
    "    return h(*args)\n",
    "\n",
    "def h(*args):\n",
    "    mystery(args)\n",
    "    return sum(args)\n",
    "\n",
    "def mystery(args):\n",
    "    print(args)\n",
    "\n",
    "f(10, 5, 1)"
   ]
  },
  {
   "cell_type": "code",
   "execution_count": 73,
   "id": "03a18a6e-f67a-4a1e-8b94-c0957d8f3186",
   "metadata": {},
   "outputs": [],
   "source": [
    "labels = ['x', 'y', 'z']\n",
    "values = [10.2, 5.3, 7.0]"
   ]
  },
  {
   "cell_type": "code",
   "execution_count": 74,
   "id": "18017a3a-a460-4bf0-a240-43eaf9569d73",
   "metadata": {},
   "outputs": [
    {
     "name": "stdout",
     "output_type": "stream",
     "text": [
      "Coordinate 0, the x-coordinate, is 10.2.\n",
      "Coordinate 1, the y-coordinate, is  5.3.\n",
      "Coordinate 2, the z-coordinate, is  7.0.\n"
     ]
    }
   ],
   "source": [
    "# This is OK, but can it be made more Pythonic? Does that improve it?\n",
    "#\n",
    "# There are three main ways to express this. One is with indexing, as\n",
    "# shown. Of the other two, one uses only builtins, while the other uses\n",
    "# something you've seen before from the itertools module. Do both.\n",
    "# Which of the three ways (this, and those) do you prefer in this case?\n",
    "#\n",
    "# Feel free to assume len(labels) == len(values). Don't assume it's 3.\n",
    "for i in range(len(labels)):\n",
    "    print(f'Coordinate {i}, the {labels[i]}-coordinate, is {values[i]:4}.')"
   ]
  },
  {
   "cell_type": "code",
   "execution_count": 75,
   "id": "50e6ab36-66ab-4008-973b-5028ea04ff71",
   "metadata": {},
   "outputs": [
    {
     "name": "stdout",
     "output_type": "stream",
     "text": [
      "Coordinate 0, the x-coordinate, is 10.2.\n",
      "Coordinate 1, the y-coordinate, is  5.3.\n",
      "Coordinate 2, the z-coordinate, is  7.0.\n"
     ]
    }
   ],
   "source": [
    "for (index, label), value in zip(enumerate(labels), values):\n",
    "    print(f'Coordinate {index}, the {label}-coordinate, is {value:4}.')"
   ]
  },
  {
   "cell_type": "code",
   "execution_count": 76,
   "id": "0548ffd7-5313-443d-a3e9-e96bf941ee71",
   "metadata": {},
   "outputs": [
    {
     "name": "stdout",
     "output_type": "stream",
     "text": [
      "Coordinate 0, the x-coordinate, is 10.2.\n",
      "Coordinate 1, the y-coordinate, is  5.3.\n",
      "Coordinate 2, the z-coordinate, is  7.0.\n"
     ]
    }
   ],
   "source": [
    "for label, (index, value) in zip(labels, enumerate(values)):\n",
    "    print(f'Coordinate {index}, the {label}-coordinate, is {value:4}.')"
   ]
  },
  {
   "cell_type": "code",
   "execution_count": 77,
   "id": "bf544e1a-c1ea-4b70-9343-b23cc242da92",
   "metadata": {},
   "outputs": [
    {
     "name": "stdout",
     "output_type": "stream",
     "text": [
      "Coordinate 0, the x-coordinate, is 10.2.\n",
      "Coordinate 1, the y-coordinate, is  5.3.\n",
      "Coordinate 2, the z-coordinate, is  7.0.\n"
     ]
    }
   ],
   "source": [
    "for index, (label, value) in enumerate(zip(labels, values)):\n",
    "    print(f'Coordinate {index}, the {label}-coordinate, is {value:4}.')"
   ]
  },
  {
   "cell_type": "code",
   "execution_count": 78,
   "id": "712df26b-9099-4909-b564-5f152b793243",
   "metadata": {},
   "outputs": [],
   "source": [
    "import itertools"
   ]
  },
  {
   "cell_type": "code",
   "execution_count": 79,
   "id": "0b94fe14-ed82-41d8-8fe7-5df2082d7cb9",
   "metadata": {},
   "outputs": [
    {
     "data": {
      "text/plain": [
       "['__doc__',\n",
       " '__loader__',\n",
       " '__name__',\n",
       " '__package__',\n",
       " '__spec__',\n",
       " '_grouper',\n",
       " '_tee',\n",
       " '_tee_dataobject',\n",
       " 'accumulate',\n",
       " 'chain',\n",
       " 'combinations',\n",
       " 'combinations_with_replacement',\n",
       " 'compress',\n",
       " 'count',\n",
       " 'cycle',\n",
       " 'dropwhile',\n",
       " 'filterfalse',\n",
       " 'groupby',\n",
       " 'islice',\n",
       " 'pairwise',\n",
       " 'permutations',\n",
       " 'product',\n",
       " 'repeat',\n",
       " 'starmap',\n",
       " 'takewhile',\n",
       " 'tee',\n",
       " 'zip_longest']"
      ]
     },
     "execution_count": 79,
     "metadata": {},
     "output_type": "execute_result"
    }
   ],
   "source": [
    "dir(itertools) "
   ]
  },
  {
   "cell_type": "code",
   "execution_count": 80,
   "id": "a81c80a0-4537-4d52-a351-255cf1016162",
   "metadata": {},
   "outputs": [
    {
     "name": "stdout",
     "output_type": "stream",
     "text": [
      "Help on class count in module itertools:\n",
      "\n",
      "class count(builtins.object)\n",
      " |  count(start=0, step=1)\n",
      " |  \n",
      " |  Return a count object whose .__next__() method returns consecutive values.\n",
      " |  \n",
      " |  Equivalent to:\n",
      " |      def count(firstval=0, step=1):\n",
      " |          x = firstval\n",
      " |          while 1:\n",
      " |              yield x\n",
      " |              x += step\n",
      " |  \n",
      " |  Methods defined here:\n",
      " |  \n",
      " |  __getattribute__(self, name, /)\n",
      " |      Return getattr(self, name).\n",
      " |  \n",
      " |  __iter__(self, /)\n",
      " |      Implement iter(self).\n",
      " |  \n",
      " |  __next__(self, /)\n",
      " |      Implement next(self).\n",
      " |  \n",
      " |  __reduce__(...)\n",
      " |      Return state information for pickling.\n",
      " |  \n",
      " |  __repr__(self, /)\n",
      " |      Return repr(self).\n",
      " |  \n",
      " |  ----------------------------------------------------------------------\n",
      " |  Static methods defined here:\n",
      " |  \n",
      " |  __new__(*args, **kwargs) from builtins.type\n",
      " |      Create and return a new object.  See help(type) for accurate signature.\n",
      "\n"
     ]
    }
   ],
   "source": [
    "help(itertools.count)"
   ]
  },
  {
   "cell_type": "code",
   "execution_count": 81,
   "id": "a94e7806-0182-4259-924d-2eb93885db8e",
   "metadata": {},
   "outputs": [
    {
     "name": "stdout",
     "output_type": "stream",
     "text": [
      "Coordinate 0, the x-coordinate, is 10.2.\n",
      "Coordinate 1, the y-coordinate, is  5.3.\n",
      "Coordinate 2, the z-coordinate, is  7.0.\n"
     ]
    }
   ],
   "source": [
    "for index, label, value in zip(itertools.count(), labels, values):\n",
    "    print(f'Coordinate {index}, the {label}-coordinate, is {value:4}.')"
   ]
  },
  {
   "cell_type": "code",
   "execution_count": 82,
   "id": "4b6232ca-0a43-437e-be99-c84a169e1fd5",
   "metadata": {},
   "outputs": [],
   "source": [
    "# Bobcats the The Shipper sent by common carrier until he was finally\n",
    "# taken out by Marine Force Recon snipers.\n",
    "names = ['Bob', 'Kat', 'Robert', 'Catherine', 'Boberto', 'Ekaterina', 'Leo']\n",
    "sizes = ['smallish', 'regular-sized', 'big', 'scarily large', 'truly huge',\n",
    "         'shrouded in mystery', 'actually a leopard']\n",
    "victims = ['John Smith', 'Joe Smith', 'Alice Smith', 'J. Jonah Jameson',\n",
    "           'two fishmongers', 'Delaware legislators', 'Bozo the Clown']\n",
    "orders = ['gaming mouse', 'mechanical keyboard', 'box of oranges',\n",
    "          'gallon of ink', 'full-stack developer', 'Westlaw subscription',\n",
    "          'pallet of noses']"
   ]
  },
  {
   "cell_type": "code",
   "execution_count": 83,
   "id": "d50e72a3-1f0d-4b1d-9d0e-666f776c0c58",
   "metadata": {},
   "outputs": [
    {
     "name": "stdout",
     "output_type": "stream",
     "text": [
      "Bobcat #1, Bob, who is smallish, went to John Smith, who wanted a gaming mouse.\n",
      "Bobcat #2, Kat, who is regular-sized, went to Joe Smith, who wanted a mechanical keyboard.\n",
      "Bobcat #3, Robert, who is big, went to Alice Smith, who wanted a box of oranges.\n",
      "Bobcat #4, Catherine, who is scarily large, went to J. Jonah Jameson, who wanted a gallon of ink.\n",
      "Bobcat #5, Boberto, who is truly huge, went to two fishmongers, who wanted a full-stack developer.\n",
      "Bobcat #6, Ekaterina, who is shrouded in mystery, went to Delaware legislators, who wanted a Westlaw subscription.\n",
      "Bobcat #7, Leo, who is actually a leopard, went to Bozo the Clown, who wanted a pallet of noses.\n"
     ]
    }
   ],
   "source": [
    "# Do this one both other ways, too. Is there a way you prefer?\n",
    "#\n",
    "# Feel free to assume that:\n",
    "#\n",
    "#    len(names) == len(sizes) == len(victims) == len(orders)\n",
    "#\n",
    "# But don't assume this length is 7.\n",
    "#\n",
    "# (The f-string here is split into two lines for readability. In your\n",
    "# solution, feel free to keep it split, or to have it all on one line.)\n",
    "for i in range(len(names)):\n",
    "    print(f'Bobcat #{i + 1}, {names[i]}, who is {sizes[i]}, '\n",
    "          f'went to {victims[i]}, who wanted a {orders[i]}.')"
   ]
  },
  {
   "cell_type": "code",
   "execution_count": 84,
   "id": "3eac7b0b-8feb-4bce-8218-032c2017c859",
   "metadata": {},
   "outputs": [
    {
     "name": "stdout",
     "output_type": "stream",
     "text": [
      "Bobcat #1, Bob, who is smallish, went to John Smith, who wanted a gaming mouse.\n",
      "Bobcat #2, Kat, who is regular-sized, went to Joe Smith, who wanted a mechanical keyboard.\n",
      "Bobcat #3, Robert, who is big, went to Alice Smith, who wanted a box of oranges.\n",
      "Bobcat #4, Catherine, who is scarily large, went to J. Jonah Jameson, who wanted a gallon of ink.\n",
      "Bobcat #5, Boberto, who is truly huge, went to two fishmongers, who wanted a full-stack developer.\n",
      "Bobcat #6, Ekaterina, who is shrouded in mystery, went to Delaware legislators, who wanted a Westlaw subscription.\n",
      "Bobcat #7, Leo, who is actually a leopard, went to Bozo the Clown, who wanted a pallet of noses.\n"
     ]
    }
   ],
   "source": [
    "for index, name, size, victim, order in zip(itertools.count(1), names, sizes, victims, orders):\n",
    "    print(f'Bobcat #{index}, {name}, who is {size}, '\n",
    "          f'went to {victim}, who wanted a {order}.')"
   ]
  },
  {
   "cell_type": "code",
   "execution_count": 85,
   "id": "75a4d31a-c173-40d4-accf-5906a8a56fe6",
   "metadata": {},
   "outputs": [
    {
     "name": "stdout",
     "output_type": "stream",
     "text": [
      "Bobcat #1, Bob, who is smallish, went to John Smith, who wanted a gaming mouse.\n",
      "Bobcat #2, Kat, who is regular-sized, went to Joe Smith, who wanted a mechanical keyboard.\n",
      "Bobcat #3, Robert, who is big, went to Alice Smith, who wanted a box of oranges.\n",
      "Bobcat #4, Catherine, who is scarily large, went to J. Jonah Jameson, who wanted a gallon of ink.\n",
      "Bobcat #5, Boberto, who is truly huge, went to two fishmongers, who wanted a full-stack developer.\n",
      "Bobcat #6, Ekaterina, who is shrouded in mystery, went to Delaware legislators, who wanted a Westlaw subscription.\n",
      "Bobcat #7, Leo, who is actually a leopard, went to Bozo the Clown, who wanted a pallet of noses.\n"
     ]
    }
   ],
   "source": [
    "for index, (name, size, victim, order) in enumerate(zip(names, sizes, victims, orders), 1):\n",
    "    print(f'Bobcat #{index}, {name}, who is {size}, '\n",
    "          f'went to {victim}, who wanted a {order}.')"
   ]
  },
  {
   "cell_type": "code",
   "execution_count": 86,
   "id": "840f7da0-27cb-48b5-afcb-5899a742914d",
   "metadata": {},
   "outputs": [],
   "source": [
    "# All of the assignment we've done in this notebook so far has caused one or more names\n",
    "# to refer to some object. But assignment with = (that is, assignment statements) are\n",
    "# more versatile than that. Show an example of an an assignment statement that could be\n",
    "# useful in practice, but definitely does not cause any variable to come into existence\n",
    "# or to refer to a different object from what it referred to before.\n",
    "c = [3, 4, 5, 6, 7]\n",
    "c[2] = 10"
   ]
  },
  {
   "cell_type": "code",
   "execution_count": 87,
   "id": "d4db5e30-39ff-4807-aaa6-c89707ad36fb",
   "metadata": {},
   "outputs": [],
   "source": [
    "c[0:4] = [0, 1, 2, 3, 4]"
   ]
  },
  {
   "cell_type": "code",
   "execution_count": 88,
   "id": "e7847f5f-d87f-4ed3-ad0b-9c613a76f203",
   "metadata": {},
   "outputs": [
    {
     "data": {
      "text/plain": [
       "[0, 1, 2, 3, 4, 7]"
      ]
     },
     "execution_count": 88,
     "metadata": {},
     "output_type": "execute_result"
    }
   ],
   "source": [
    "c"
   ]
  },
  {
   "cell_type": "code",
   "execution_count": 89,
   "id": "8990446e-a334-4fbc-8bd4-6447fce603b7",
   "metadata": {},
   "outputs": [],
   "source": [
    "# Try assigning to a slice whose step is not 1.\n",
    "c[::2] = [-1, -1, -1]"
   ]
  },
  {
   "cell_type": "code",
   "execution_count": 90,
   "id": "4915b0bf-5ff0-4d82-9257-5976d84e8464",
   "metadata": {},
   "outputs": [
    {
     "data": {
      "text/plain": [
       "[-1, 1, -1, 3, -1, 7]"
      ]
     },
     "execution_count": 90,
     "metadata": {},
     "output_type": "execute_result"
    }
   ],
   "source": [
    "c"
   ]
  },
  {
   "cell_type": "code",
   "execution_count": 91,
   "id": "e67e4725-b34a-4786-86aa-8c2328a2248f",
   "metadata": {},
   "outputs": [],
   "source": [
    "# Try replacing *all* the elements of a list by assigning to a slice.\n",
    "c[:] = [0, 1, 2, 3, 4, 5]"
   ]
  },
  {
   "cell_type": "code",
   "execution_count": 92,
   "id": "0568b90b-8650-4263-8499-f590103c0646",
   "metadata": {},
   "outputs": [
    {
     "data": {
      "text/plain": [
       "[0, 1, 2, 3, 4, 5]"
      ]
     },
     "execution_count": 92,
     "metadata": {},
     "output_type": "execute_result"
    }
   ],
   "source": [
    "c"
   ]
  },
  {
   "cell_type": "code",
   "execution_count": 93,
   "id": "e93fd146-e436-4274-9c60-4131af3ca6b8",
   "metadata": {},
   "outputs": [
    {
     "data": {
      "text/plain": [
       "2343082336128"
      ]
     },
     "execution_count": 93,
     "metadata": {},
     "output_type": "execute_result"
    }
   ],
   "source": [
    "# Write code that demonstrates the difference between c[:] = ... and c = ...\n",
    "id(c)"
   ]
  },
  {
   "cell_type": "code",
   "execution_count": 94,
   "id": "80c576a6-c4f2-447f-8530-96ffb2f40283",
   "metadata": {},
   "outputs": [],
   "source": [
    "d = c"
   ]
  },
  {
   "cell_type": "code",
   "execution_count": 95,
   "id": "3c8f17d2-a6c1-4c09-8e49-868ca3ef7d1e",
   "metadata": {},
   "outputs": [],
   "source": [
    " c[:] = [5, 4, 3, 2, 1, 0]"
   ]
  },
  {
   "cell_type": "code",
   "execution_count": 96,
   "id": "03ad53f8-5638-490a-9556-c4d080a788fb",
   "metadata": {},
   "outputs": [
    {
     "data": {
      "text/plain": [
       "True"
      ]
     },
     "execution_count": 96,
     "metadata": {},
     "output_type": "execute_result"
    }
   ],
   "source": [
    "d is c"
   ]
  },
  {
   "cell_type": "code",
   "execution_count": 97,
   "id": "09bcbeea-0606-4d1d-9c19-0050baed665b",
   "metadata": {},
   "outputs": [],
   "source": [
    "c = [0, 1, 2, 3, 4, 5]"
   ]
  },
  {
   "cell_type": "code",
   "execution_count": 98,
   "id": "9b88308c-f144-4d16-9bdd-6202bd0c0614",
   "metadata": {},
   "outputs": [
    {
     "data": {
      "text/plain": [
       "False"
      ]
     },
     "execution_count": 98,
     "metadata": {},
     "output_type": "execute_result"
    }
   ],
   "source": [
    "d is c"
   ]
  },
  {
   "cell_type": "code",
   "execution_count": 99,
   "id": "f18786df-4948-44f0-8df5-50661d1c1a31",
   "metadata": {},
   "outputs": [
    {
     "data": {
      "text/plain": [
       "[5, 4, 3, 2, 1, 0]"
      ]
     },
     "execution_count": 99,
     "metadata": {},
     "output_type": "execute_result"
    }
   ],
   "source": [
    "# You can clear a list (remove all is elements) by assigning an empty\n",
    "# iterable to a slice of the whole thing. But a better way is to call\n",
    "# the clear method. Demonstrate both ways.\n",
    "d"
   ]
  },
  {
   "cell_type": "code",
   "execution_count": 100,
   "id": "8f169770-9760-49ff-9bdb-14260d1a1a29",
   "metadata": {},
   "outputs": [],
   "source": [
    "d.clear()"
   ]
  },
  {
   "cell_type": "code",
   "execution_count": 101,
   "id": "1281eb65-a027-46d7-b201-ec662eabc2ba",
   "metadata": {},
   "outputs": [
    {
     "data": {
      "text/plain": [
       "[]"
      ]
     },
     "execution_count": 101,
     "metadata": {},
     "output_type": "execute_result"
    }
   ],
   "source": [
    "d"
   ]
  },
  {
   "cell_type": "code",
   "execution_count": 102,
   "id": "ff09f492-57c3-42a3-9b72-8ee0bf46645b",
   "metadata": {},
   "outputs": [
    {
     "data": {
      "text/plain": [
       "[0, 1, 2, 3, 4, 5]"
      ]
     },
     "execution_count": 102,
     "metadata": {},
     "output_type": "execute_result"
    }
   ],
   "source": [
    "c"
   ]
  },
  {
   "cell_type": "code",
   "execution_count": 103,
   "id": "6fe4bcdc-6b4d-4c36-8088-62339a961fcf",
   "metadata": {},
   "outputs": [],
   "source": [
    "c[:] = ()"
   ]
  },
  {
   "cell_type": "code",
   "execution_count": 104,
   "id": "5f8f3b13-4615-4825-9105-ba60e537d49d",
   "metadata": {},
   "outputs": [
    {
     "data": {
      "text/plain": [
       "[]"
      ]
     },
     "execution_count": 104,
     "metadata": {},
     "output_type": "execute_result"
    }
   ],
   "source": [
    "c"
   ]
  },
  {
   "cell_type": "code",
   "execution_count": 105,
   "id": "09aadec0-2349-4745-a7ca-57777797f9f8",
   "metadata": {},
   "outputs": [],
   "source": [
    "# To reverse a list in place, you should call its reverse method. But\n",
    "# as an exercise, reverse a list by assigning to a slice of it. After\n",
    "# showing that this reversed it, use the reverse method to reverse it\n",
    "# back to the way it was before.\n",
    "a = [1, 2, 3, 4, 5, 6]"
   ]
  },
  {
   "cell_type": "code",
   "execution_count": 106,
   "id": "3b3f24bc-a078-4b4a-9aa9-1452bf2d0ed6",
   "metadata": {},
   "outputs": [],
   "source": [
    "a[:] = a[::-1]"
   ]
  },
  {
   "cell_type": "code",
   "execution_count": 107,
   "id": "2c6935b3-288f-4c43-b54a-07bfb35d7ec4",
   "metadata": {},
   "outputs": [
    {
     "data": {
      "text/plain": [
       "[6, 5, 4, 3, 2, 1]"
      ]
     },
     "execution_count": 107,
     "metadata": {},
     "output_type": "execute_result"
    }
   ],
   "source": [
    "a"
   ]
  },
  {
   "cell_type": "code",
   "execution_count": 108,
   "id": "b9b8a62e-a2de-4ad8-9a1f-b44c6c6027a8",
   "metadata": {},
   "outputs": [],
   "source": [
    "a.reverse()"
   ]
  },
  {
   "cell_type": "code",
   "execution_count": 109,
   "id": "331b43d3-4df9-4d7d-95ca-962084410cb2",
   "metadata": {},
   "outputs": [
    {
     "data": {
      "text/plain": [
       "[1, 2, 3, 4, 5, 6]"
      ]
     },
     "execution_count": 109,
     "metadata": {},
     "output_type": "execute_result"
    }
   ],
   "source": [
    "a"
   ]
  },
  {
   "cell_type": "code",
   "execution_count": 110,
   "id": "88ff7a87-0137-4754-86d7-9e8eb87c3f41",
   "metadata": {},
   "outputs": [],
   "source": [
    "# Now, reverse the list in place again by assigning to a slice of it,\n",
    "# but this time, make the right-hand side simply be a.\n",
    "a[::-1] = a"
   ]
  },
  {
   "cell_type": "code",
   "execution_count": 111,
   "id": "ca532ce9-2dcf-4f92-bbe0-5ea95465d8fe",
   "metadata": {},
   "outputs": [
    {
     "data": {
      "text/plain": [
       "[6, 5, 4, 3, 2, 1]"
      ]
     },
     "execution_count": 111,
     "metadata": {},
     "output_type": "execute_result"
    }
   ],
   "source": [
    "a"
   ]
  },
  {
   "cell_type": "code",
   "execution_count": 112,
   "id": "17b3841f-283b-4645-ba4e-6cd23d51cdf4",
   "metadata": {},
   "outputs": [],
   "source": [
    "# Now, reverse it back by assigning to a slice of it, but on the left-hand\n",
    "# side, don't use a negative step, and on the right-hand side, still don't\n",
    "# use any slicing (and make sure the code would work for any list a).\n",
    "a[:] = reversed(a)"
   ]
  },
  {
   "cell_type": "code",
   "execution_count": 113,
   "id": "ca97f056-a034-4527-b7a0-0ba5de6e4e55",
   "metadata": {},
   "outputs": [
    {
     "data": {
      "text/plain": [
       "[1, 2, 3, 4, 5, 6]"
      ]
     },
     "execution_count": 113,
     "metadata": {},
     "output_type": "execute_result"
    }
   ],
   "source": [
    "a"
   ]
  },
  {
   "cell_type": "code",
   "execution_count": 114,
   "id": "5acf3f1d-214c-42c0-aa4f-019528525925",
   "metadata": {
    "tags": [
     "raises-exception"
    ]
   },
   "outputs": [
    {
     "ename": "ValueError",
     "evalue": "attempt to assign sequence of size 5 to extended slice of size 3",
     "output_type": "error",
     "traceback": [
      "\u001b[1;31m---------------------------------------------------------------------------\u001b[0m",
      "\u001b[1;31mValueError\u001b[0m                                Traceback (most recent call last)",
      "Input \u001b[1;32mIn [114]\u001b[0m, in \u001b[0;36m<cell line: 6>\u001b[1;34m()\u001b[0m\n\u001b[0;32m      1\u001b[0m \u001b[38;5;66;03m# You can assign a different number of elements to a slice than the length\u001b[39;00m\n\u001b[0;32m      2\u001b[0m \u001b[38;5;66;03m# of the slice, and you can assign the same number of elements to a slice\u001b[39;00m\n\u001b[0;32m      3\u001b[0m \u001b[38;5;66;03m# whose step is not 1 as the length of that slice. What happens when you\u001b[39;00m\n\u001b[0;32m      4\u001b[0m \u001b[38;5;66;03m# try to assign a different number of elements to a slice whose step is not\u001b[39;00m\n\u001b[0;32m      5\u001b[0m \u001b[38;5;66;03m# 1 than the length of that slice?\u001b[39;00m\n\u001b[1;32m----> 6\u001b[0m a[\u001b[38;5;241m0\u001b[39m:\u001b[38;5;241m100\u001b[39m:\u001b[38;5;241m2\u001b[39m] \u001b[38;5;241m=\u001b[39m [\u001b[38;5;241m10\u001b[39m, \u001b[38;5;241m10\u001b[39m, \u001b[38;5;241m10\u001b[39m, \u001b[38;5;241m10\u001b[39m, \u001b[38;5;241m10\u001b[39m]\n",
      "\u001b[1;31mValueError\u001b[0m: attempt to assign sequence of size 5 to extended slice of size 3"
     ]
    }
   ],
   "source": [
    "# You can assign a different number of elements to a slice than the length\n",
    "# of the slice, and you can assign the same number of elements to a slice\n",
    "# whose step is not 1 as the length of that slice. What happens when you\n",
    "# try to assign a different number of elements to a slice whose step is not\n",
    "# 1 than the length of that slice?\n",
    "a[0:100:2] = [10, 10, 10, 10, 10]"
   ]
  },
  {
   "cell_type": "code",
   "execution_count": 115,
   "id": "e70e73e6-a4d0-4312-a7d4-2373a304908b",
   "metadata": {
    "tags": [
     "raises-exception"
    ]
   },
   "outputs": [
    {
     "ename": "ValueError",
     "evalue": "attempt to assign sequence of size 2 to extended slice of size 3",
     "output_type": "error",
     "traceback": [
      "\u001b[1;31m---------------------------------------------------------------------------\u001b[0m",
      "\u001b[1;31mValueError\u001b[0m                                Traceback (most recent call last)",
      "Input \u001b[1;32mIn [115]\u001b[0m, in \u001b[0;36m<cell line: 1>\u001b[1;34m()\u001b[0m\n\u001b[1;32m----> 1\u001b[0m a[\u001b[38;5;241m0\u001b[39m:\u001b[38;5;241m10\u001b[39m:\u001b[38;5;241m2\u001b[39m] \u001b[38;5;241m=\u001b[39m [\u001b[38;5;241m10\u001b[39m, \u001b[38;5;241m10\u001b[39m]\n",
      "\u001b[1;31mValueError\u001b[0m: attempt to assign sequence of size 2 to extended slice of size 3"
     ]
    }
   ],
   "source": [
    "a[0:10:2] = [10, 10]"
   ]
  },
  {
   "cell_type": "code",
   "execution_count": 116,
   "id": "a60ad756-fa7f-4b04-b5d7-cd83cecf6f31",
   "metadata": {},
   "outputs": [
    {
     "data": {
      "text/plain": [
       "[1, 2, 3, 4, 5, 6]"
      ]
     },
     "execution_count": 116,
     "metadata": {},
     "output_type": "execute_result"
    }
   ],
   "source": [
    "a"
   ]
  },
  {
   "cell_type": "code",
   "execution_count": 117,
   "id": "e1137a33-45d4-408d-b7c6-13979f39f1a5",
   "metadata": {},
   "outputs": [
    {
     "data": {
      "text/plain": [
       "6"
      ]
     },
     "execution_count": 117,
     "metadata": {},
     "output_type": "execute_result"
    }
   ],
   "source": [
    "len(a)"
   ]
  },
  {
   "cell_type": "code",
   "execution_count": 118,
   "id": "4e9cfebf-5772-46e1-a12c-662a870671f4",
   "metadata": {},
   "outputs": [
    {
     "data": {
      "text/plain": [
       "[]"
      ]
     },
     "execution_count": 118,
     "metadata": {},
     "output_type": "execute_result"
    }
   ],
   "source": [
    "a[1000:]  # This slice is empty. (Empty sublist at the end.)"
   ]
  },
  {
   "cell_type": "code",
   "execution_count": 119,
   "id": "8050dce3-2fa0-4800-a465-1a11739eec17",
   "metadata": {},
   "outputs": [],
   "source": [
    "a[1000:] = [10, 20]"
   ]
  },
  {
   "cell_type": "code",
   "execution_count": 120,
   "id": "3db46978-af16-4fc3-8aff-e0c4fa9b27f3",
   "metadata": {},
   "outputs": [
    {
     "data": {
      "text/plain": [
       "[1, 2, 3, 4, 5, 6, 10, 20]"
      ]
     },
     "execution_count": 120,
     "metadata": {},
     "output_type": "execute_result"
    }
   ],
   "source": [
    "a"
   ]
  },
  {
   "cell_type": "code",
   "execution_count": 121,
   "id": "644abb00-8e20-4132-8606-879039f84e87",
   "metadata": {},
   "outputs": [],
   "source": [
    "# So the question is, when you use += on a sequence, what does it do?\n",
    "# Does it assign something new to a variable? Does it modify the object?"
   ]
  },
  {
   "cell_type": "code",
   "execution_count": 122,
   "id": "1d9b9543-da59-4431-9b2e-245e9c6ede3b",
   "metadata": {},
   "outputs": [],
   "source": [
    "t2 = t1 = (0, 1, 2)"
   ]
  },
  {
   "cell_type": "code",
   "execution_count": 123,
   "id": "8cdc7603-dd54-4c18-b587-aeb91abdf599",
   "metadata": {},
   "outputs": [],
   "source": [
    "t1 += (3,)"
   ]
  },
  {
   "cell_type": "code",
   "execution_count": 124,
   "id": "a441d32f-124a-4208-ac95-ce4cf0b38bf6",
   "metadata": {},
   "outputs": [
    {
     "data": {
      "text/plain": [
       "False"
      ]
     },
     "execution_count": 124,
     "metadata": {},
     "output_type": "execute_result"
    }
   ],
   "source": [
    "t2 is t1"
   ]
  },
  {
   "cell_type": "code",
   "execution_count": 125,
   "id": "230a3bf7-4e21-4d16-b18f-d88c82a31709",
   "metadata": {},
   "outputs": [
    {
     "data": {
      "text/plain": [
       "(0, 1, 2, 3)"
      ]
     },
     "execution_count": 125,
     "metadata": {},
     "output_type": "execute_result"
    }
   ],
   "source": [
    "t1"
   ]
  },
  {
   "cell_type": "code",
   "execution_count": 126,
   "id": "d26d4109-a101-46a4-8a25-71392b9687e7",
   "metadata": {},
   "outputs": [
    {
     "data": {
      "text/plain": [
       "(0, 1, 2)"
      ]
     },
     "execution_count": 126,
     "metadata": {},
     "output_type": "execute_result"
    }
   ],
   "source": [
    "t2"
   ]
  },
  {
   "cell_type": "code",
   "execution_count": 127,
   "id": "1b888e10-f2fb-4ad7-89dc-dc7fa0d5c60c",
   "metadata": {},
   "outputs": [],
   "source": [
    "l2 = l1 = [0, 1, 2, 3, 4]"
   ]
  },
  {
   "cell_type": "code",
   "execution_count": 128,
   "id": "1d23f66c-144d-46fd-bd76-6231309309cc",
   "metadata": {},
   "outputs": [],
   "source": [
    "l1 += [5]"
   ]
  },
  {
   "cell_type": "code",
   "execution_count": 129,
   "id": "519139de-cfe7-4e4e-bd82-573f48f72fb5",
   "metadata": {},
   "outputs": [
    {
     "data": {
      "text/plain": [
       "[0, 1, 2, 3, 4, 5]"
      ]
     },
     "execution_count": 129,
     "metadata": {},
     "output_type": "execute_result"
    }
   ],
   "source": [
    "l1"
   ]
  },
  {
   "cell_type": "code",
   "execution_count": 130,
   "id": "b09fec36-d0df-4fd7-93d6-72536069e6fb",
   "metadata": {},
   "outputs": [
    {
     "data": {
      "text/plain": [
       "True"
      ]
     },
     "execution_count": 130,
     "metadata": {},
     "output_type": "execute_result"
    }
   ],
   "source": [
    "l2 is l1"
   ]
  },
  {
   "cell_type": "code",
   "execution_count": 131,
   "id": "3c24fbc8-b296-4822-8895-d553ef1518e6",
   "metadata": {},
   "outputs": [
    {
     "data": {
      "text/plain": [
       "[0, 1, 2, 3, 4, 5]"
      ]
     },
     "execution_count": 131,
     "metadata": {},
     "output_type": "execute_result"
    }
   ],
   "source": [
    "l2"
   ]
  },
  {
   "cell_type": "code",
   "execution_count": 132,
   "id": "3fa58698-615b-4077-add4-cd63b62752b8",
   "metadata": {},
   "outputs": [],
   "source": [
    "# Try using += on a tuple that is an element of a list."
   ]
  },
  {
   "cell_type": "code",
   "execution_count": 133,
   "id": "333dd110-37dd-4d3d-8b70-452fcfc8a863",
   "metadata": {},
   "outputs": [],
   "source": [
    "lt = [(0, 1, 2), (3, 2, 1), (1, 2, 3)]"
   ]
  },
  {
   "cell_type": "code",
   "execution_count": 134,
   "id": "b9820df5-2fa3-40b0-8155-1eb2e82ed5fc",
   "metadata": {},
   "outputs": [],
   "source": [
    "lt[1] += (0,)"
   ]
  },
  {
   "cell_type": "code",
   "execution_count": 135,
   "id": "e88e9ac7-ce64-411b-9e01-7ea82924b7d1",
   "metadata": {},
   "outputs": [
    {
     "data": {
      "text/plain": [
       "[(0, 1, 2), (3, 2, 1, 0), (1, 2, 3)]"
      ]
     },
     "execution_count": 135,
     "metadata": {},
     "output_type": "execute_result"
    }
   ],
   "source": [
    "lt"
   ]
  },
  {
   "cell_type": "code",
   "execution_count": 136,
   "id": "f58630ce-9b62-4934-9784-1fc594e14045",
   "metadata": {},
   "outputs": [],
   "source": [
    "# Try using += on a list that is an element of a list.\n",
    "ll = [[0, 1, 2], [2, 1], [1, 2, 3]]"
   ]
  },
  {
   "cell_type": "code",
   "execution_count": 137,
   "id": "61774d38-a908-46b0-b134-e5db5f519e84",
   "metadata": {},
   "outputs": [],
   "source": [
    "ll[1] += [0]"
   ]
  },
  {
   "cell_type": "code",
   "execution_count": 138,
   "id": "fb96071a-d0c6-4815-9972-85de63d62221",
   "metadata": {},
   "outputs": [
    {
     "data": {
      "text/plain": [
       "[[0, 1, 2], [2, 1, 0], [1, 2, 3]]"
      ]
     },
     "execution_count": 138,
     "metadata": {},
     "output_type": "execute_result"
    }
   ],
   "source": [
    "ll"
   ]
  },
  {
   "cell_type": "code",
   "execution_count": 139,
   "id": "fe4b9d32-82b6-4389-a52c-e6179cc35974",
   "metadata": {},
   "outputs": [],
   "source": [
    "# Try using += on a tuple that is an element of a tuple.\n",
    "tt = ((0, 1, 2), (2, 1),(1, 2, 3))"
   ]
  },
  {
   "cell_type": "code",
   "execution_count": 140,
   "id": "0a2dc651-6417-407e-a1ae-968431381489",
   "metadata": {
    "tags": [
     "raises-exception"
    ]
   },
   "outputs": [
    {
     "ename": "TypeError",
     "evalue": "'tuple' object does not support item assignment",
     "output_type": "error",
     "traceback": [
      "\u001b[1;31m---------------------------------------------------------------------------\u001b[0m",
      "\u001b[1;31mTypeError\u001b[0m                                 Traceback (most recent call last)",
      "Input \u001b[1;32mIn [140]\u001b[0m, in \u001b[0;36m<cell line: 1>\u001b[1;34m()\u001b[0m\n\u001b[1;32m----> 1\u001b[0m tt[\u001b[38;5;241m1\u001b[39m] \u001b[38;5;241m+\u001b[39m\u001b[38;5;241m=\u001b[39m (\u001b[38;5;241m0\u001b[39m,)\n",
      "\u001b[1;31mTypeError\u001b[0m: 'tuple' object does not support item assignment"
     ]
    }
   ],
   "source": [
    "tt[1] += (0,)"
   ]
  },
  {
   "cell_type": "code",
   "execution_count": 141,
   "id": "05e6e5f0-ea9e-4a9d-b2ad-d1763aff7a58",
   "metadata": {},
   "outputs": [],
   "source": [
    "vals = ([10, 20],)"
   ]
  },
  {
   "cell_type": "code",
   "execution_count": 142,
   "id": "5e0ad194-865f-4f78-a3d1-561f2966855f",
   "metadata": {},
   "outputs": [
    {
     "data": {
      "text/plain": [
       "([10, 20],)"
      ]
     },
     "execution_count": 142,
     "metadata": {},
     "output_type": "execute_result"
    }
   ],
   "source": [
    "vals"
   ]
  },
  {
   "cell_type": "code",
   "execution_count": 143,
   "id": "7ec5ae6b-e390-4cee-9405-1b0d8aedf87d",
   "metadata": {},
   "outputs": [],
   "source": [
    "vals[0].append(30)"
   ]
  },
  {
   "cell_type": "code",
   "execution_count": 144,
   "id": "9930784e-e9f9-4dc3-bce0-6add67a4881a",
   "metadata": {},
   "outputs": [
    {
     "data": {
      "text/plain": [
       "([10, 20, 30],)"
      ]
     },
     "execution_count": 144,
     "metadata": {},
     "output_type": "execute_result"
    }
   ],
   "source": [
    "vals"
   ]
  },
  {
   "cell_type": "code",
   "execution_count": 145,
   "id": "ae0f414d-1c95-4a30-8b3c-70bb7744dfa1",
   "metadata": {},
   "outputs": [],
   "source": [
    "# Try using += on a list that is an element of a tuple.\n",
    "tl = ([0, 1, 2], [2, 1], [1, 2, 3])"
   ]
  },
  {
   "cell_type": "code",
   "execution_count": 146,
   "id": "611f4311-f075-4b2e-87ea-af415d344cb4",
   "metadata": {
    "tags": [
     "raises-exception"
    ]
   },
   "outputs": [
    {
     "ename": "TypeError",
     "evalue": "'tuple' object does not support item assignment",
     "output_type": "error",
     "traceback": [
      "\u001b[1;31m---------------------------------------------------------------------------\u001b[0m",
      "\u001b[1;31mTypeError\u001b[0m                                 Traceback (most recent call last)",
      "Input \u001b[1;32mIn [146]\u001b[0m, in \u001b[0;36m<cell line: 1>\u001b[1;34m()\u001b[0m\n\u001b[1;32m----> 1\u001b[0m tl[\u001b[38;5;241m1\u001b[39m] \u001b[38;5;241m+\u001b[39m\u001b[38;5;241m=\u001b[39m [\u001b[38;5;241m0\u001b[39m]\n",
      "\u001b[1;31mTypeError\u001b[0m: 'tuple' object does not support item assignment"
     ]
    }
   ],
   "source": [
    "tl[1] += [0]"
   ]
  },
  {
   "cell_type": "code",
   "execution_count": 147,
   "id": "b25e9fd8-ff7c-49e9-8044-a166c03fd3a6",
   "metadata": {},
   "outputs": [
    {
     "data": {
      "text/plain": [
       "([0, 1, 2], [2, 1, 0], [1, 2, 3])"
      ]
     },
     "execution_count": 147,
     "metadata": {},
     "output_type": "execute_result"
    }
   ],
   "source": [
    "tl"
   ]
  },
  {
   "cell_type": "code",
   "execution_count": 148,
   "id": "6cfc2b48-e6a7-4c3c-a727-30e88b08d09b",
   "metadata": {},
   "outputs": [],
   "source": [
    "# I recommend that, where applicable, you prefer extend to +="
   ]
  },
  {
   "cell_type": "code",
   "execution_count": 149,
   "id": "af45dd2e-0d7a-4618-92d0-102da9f75470",
   "metadata": {},
   "outputs": [
    {
     "data": {
      "text/plain": [
       "(10, 20, 30, 40, 50, 60, 70, 80, 90, 100, 110, 120, 130)"
      ]
     },
     "execution_count": 149,
     "metadata": {},
     "output_type": "execute_result"
    }
   ],
   "source": [
    "# Note that, even on immutable sequences, += is misleading, in that it is not efficient.\n",
    "#\n",
    "# You should not use += on immutable sequences (e.g., tuples, strings) very often,\n",
    "# because of all the copying it does. In particular, you should almost always avoid\n",
    "# doing this in a loop (unless the maximum number of iterations is small).\n",
    "a = (10, 20, 30, 40, 50, 60, 70)\n",
    "a += (80, 90)  # Copies 7 elements from the old a.\n",
    "a += (100, 110)  # Copies 9 elements from the old a.\n",
    "a += (120, 130)  # Copies 11 elements from the old a.\n",
    "a"
   ]
  },
  {
   "cell_type": "code",
   "execution_count": 150,
   "id": "f90885c2-022b-4582-b2c2-0d4ab63b01ed",
   "metadata": {},
   "outputs": [
    {
     "data": {
      "text/plain": [
       "(10, 20, 30, 40, 50, 60, 70, 80, 90, 100, 110, 120, 130)"
      ]
     },
     "execution_count": 150,
     "metadata": {},
     "output_type": "execute_result"
    }
   ],
   "source": [
    "# This performed the same operations as:\n",
    "a = (10, 20, 30, 40, 50, 60, 70)\n",
    "a = a + (80, 90)\n",
    "a = a + (100, 110)\n",
    "a = a + (120, 130)\n",
    "a"
   ]
  },
  {
   "cell_type": "code",
   "execution_count": 151,
   "id": "acc4ceb6-6ec9-40e4-aa56-6ccba4802527",
   "metadata": {},
   "outputs": [
    {
     "data": {
      "text/plain": [
       "[10, 20, 30, 40, 50, 60, 70, 80, 90, 100, 110, 120, 130]"
      ]
     },
     "execution_count": 151,
     "metadata": {},
     "output_type": "execute_result"
    }
   ],
   "source": [
    "# With lists, this is efficient, but you can express it more clearly with extend.\n",
    "b = [10, 20, 30, 40, 50, 60, 70]\n",
    "b += [80, 90]\n",
    "b += [100, 110]\n",
    "b += [120, 130]\n",
    "b"
   ]
  },
  {
   "cell_type": "code",
   "execution_count": 152,
   "id": "bdfe010b-00ef-40ff-9a2f-5c419bf109be",
   "metadata": {},
   "outputs": [
    {
     "data": {
      "text/plain": [
       "[10, 20, 30, 40, 50, 60, 70, 80, 90, 100, 110, 120, 130]"
      ]
     },
     "execution_count": 152,
     "metadata": {},
     "output_type": "execute_result"
    }
   ],
   "source": [
    "# That was more efficient than, and *not* the same as:\n",
    "b = [10, 20, 30, 40, 50, 60, 70]\n",
    "b = b + [80, 90]\n",
    "b = b + [100, 110]\n",
    "b = b + [120, 130]\n",
    "b"
   ]
  },
  {
   "cell_type": "code",
   "execution_count": 153,
   "id": "96e076a7-01e3-4f37-8854-7a3621332e86",
   "metadata": {},
   "outputs": [
    {
     "data": {
      "text/plain": [
       "[10, 20, 30, 40, 50, 60, 70, 80, 90, 100, 110, 120, 130]"
      ]
     },
     "execution_count": 153,
     "metadata": {},
     "output_type": "execute_result"
    }
   ],
   "source": [
    "# Because that (above) actually made copies each time, whereas with +=, it has\n",
    "# the same effect as:\n",
    "b = [10, 20, 30, 40, 50, 60, 70]\n",
    "b.extend([80, 90])\n",
    "b.extend([100, 110])\n",
    "b.extend([120, 130])\n",
    "b"
   ]
  },
  {
   "cell_type": "code",
   "execution_count": 154,
   "id": "31bc335e-6e18-426e-9e0c-38ed02fb5394",
   "metadata": {},
   "outputs": [],
   "source": [
    "# But using extend has the benefit of making clear exactly what operation is\n",
    "# being performed. Furthermore, using extend avoids the problem where it looks\n",
    "# like no change was made because an exception is raised after the change is\n",
    "# made, as happens when the list being extended as a member of a tuple."
   ]
  },
  {
   "cell_type": "code",
   "execution_count": 155,
   "id": "6715c05a-cd66-43e0-840b-b73161c3ea4d",
   "metadata": {},
   "outputs": [
    {
     "data": {
      "text/plain": [
       "([], [], [], [], [], [], [], [], [], [])"
      ]
     },
     "execution_count": 155,
     "metadata": {},
     "output_type": "execute_result"
    }
   ],
   "source": [
    "# Suppose we have a jagged table, but we know how many rows it will have, and\n",
    "# we don't ever want to add or remove rows, or reorder the rows, or replace\n",
    "# a row with an new list:\n",
    "table = tuple([] for _ in range(10))\n",
    "table"
   ]
  },
  {
   "cell_type": "code",
   "execution_count": 156,
   "id": "507e9fe2-36c1-4e7d-8042-11be6b073c62",
   "metadata": {},
   "outputs": [
    {
     "data": {
      "text/plain": [
       "([], [], [], ['foo'], [], [], [], [], [], [])"
      ]
     },
     "execution_count": 156,
     "metadata": {},
     "output_type": "execute_result"
    }
   ],
   "source": [
    "table[3].append('foo')\n",
    "table"
   ]
  },
  {
   "cell_type": "code",
   "execution_count": 157,
   "id": "58750793-53f2-4864-8435-6374452bb9ad",
   "metadata": {
    "tags": [
     "raises-exception"
    ]
   },
   "outputs": [
    {
     "ename": "TypeError",
     "evalue": "'tuple' object does not support item assignment",
     "output_type": "error",
     "traceback": [
      "\u001b[1;31m---------------------------------------------------------------------------\u001b[0m",
      "\u001b[1;31mTypeError\u001b[0m                                 Traceback (most recent call last)",
      "Input \u001b[1;32mIn [157]\u001b[0m, in \u001b[0;36m<cell line: 2>\u001b[1;34m()\u001b[0m\n\u001b[0;32m      1\u001b[0m \u001b[38;5;66;03m# This raises an exception, but the row is still extended!\u001b[39;00m\n\u001b[1;32m----> 2\u001b[0m table[\u001b[38;5;241m3\u001b[39m] \u001b[38;5;241m+\u001b[39m\u001b[38;5;241m=\u001b[39m [\u001b[38;5;124m'\u001b[39m\u001b[38;5;124mbar\u001b[39m\u001b[38;5;124m'\u001b[39m, \u001b[38;5;124m'\u001b[39m\u001b[38;5;124mbaz\u001b[39m\u001b[38;5;124m'\u001b[39m]\n\u001b[0;32m      3\u001b[0m table\n",
      "\u001b[1;31mTypeError\u001b[0m: 'tuple' object does not support item assignment"
     ]
    }
   ],
   "source": [
    "# This raises an exception, but the row is still extended!\n",
    "table[3] += ['bar', 'baz']\n",
    "table"
   ]
  },
  {
   "cell_type": "code",
   "execution_count": 158,
   "id": "5dfef708-0b62-4052-a6a2-d5e79c4ec2bc",
   "metadata": {},
   "outputs": [
    {
     "data": {
      "text/plain": [
       "([], [], [], ['foo', 'bar', 'baz'], [], [], [], [], [], [])"
      ]
     },
     "execution_count": 158,
     "metadata": {},
     "output_type": "execute_result"
    }
   ],
   "source": [
    "table"
   ]
  },
  {
   "cell_type": "code",
   "execution_count": 159,
   "id": "dc9dd4c6-32b2-4774-9c11-6653551a466e",
   "metadata": {},
   "outputs": [
    {
     "data": {
      "text/plain": [
       "([], [], [], ['foo', 'bar', 'baz'], [], ['ham'], [], [], [], [])"
      ]
     },
     "execution_count": 159,
     "metadata": {},
     "output_type": "execute_result"
    }
   ],
   "source": [
    "# Using the extend method performs the same operation, but fully succeeds\n",
    "# (no misleading exception is raised).\n",
    "table[5].append('ham')\n",
    "table"
   ]
  },
  {
   "cell_type": "code",
   "execution_count": 160,
   "id": "c3967f0c-7b5a-42c8-bb4a-bb5cafb81dd7",
   "metadata": {},
   "outputs": [
    {
     "data": {
      "text/plain": [
       "([],\n",
       " [],\n",
       " [],\n",
       " ['foo', 'bar', 'baz'],\n",
       " [],\n",
       " ['ham', 'spam', 'eggs'],\n",
       " [],\n",
       " [],\n",
       " [],\n",
       " [])"
      ]
     },
     "execution_count": 160,
     "metadata": {},
     "output_type": "execute_result"
    }
   ],
   "source": [
    "table[5].extend(['spam', 'eggs'])\n",
    "table"
   ]
  },
  {
   "cell_type": "code",
   "execution_count": 161,
   "id": "da650c7c-5816-4b49-bf8e-c4762dacabb8",
   "metadata": {},
   "outputs": [],
   "source": [
    "# Suppose we have a list of ints somewhere.\n",
    "_implementation_detail = [10, 20, 30, 40, 50, 60, 70]\n",
    "\n",
    "# We may change how we store it. So we access it with a function.\n",
    "def f():\n",
    "    print('Loading up our list of ints.')\n",
    "    return _implementation_detail"
   ]
  },
  {
   "cell_type": "code",
   "execution_count": 162,
   "id": "df418073-2f7e-4482-ad65-8458774f78d3",
   "metadata": {},
   "outputs": [
    {
     "name": "stdout",
     "output_type": "stream",
     "text": [
      "Loading up our list of ints.\n"
     ]
    }
   ],
   "source": [
    "# Consider the difference between two ways of increasing an element of the list.\n",
    "# Here, I use +=, causing (sub)expressions on the left side to be evaluated just once.\n",
    "f()[3] += 1"
   ]
  },
  {
   "cell_type": "code",
   "execution_count": 163,
   "id": "f066f8f1-efaf-45a8-b057-adbfbce9ba7e",
   "metadata": {},
   "outputs": [
    {
     "data": {
      "text/plain": [
       "[10, 20, 30, 41, 50, 60, 70]"
      ]
     },
     "execution_count": 163,
     "metadata": {},
     "output_type": "execute_result"
    }
   ],
   "source": [
    "_implementation_detail"
   ]
  },
  {
   "cell_type": "code",
   "execution_count": 164,
   "id": "e521d70f-4da8-4bb8-8555-27c30e51f822",
   "metadata": {},
   "outputs": [
    {
     "name": "stdout",
     "output_type": "stream",
     "text": [
      "Loading up our list of ints.\n",
      "Loading up our list of ints.\n"
     ]
    }
   ],
   "source": [
    "# In contrast, here I use +, causing (sub)expressiosn on the left side to be evaluated twice.\n",
    "f()[3] = f()[3] + 1"
   ]
  },
  {
   "cell_type": "code",
   "execution_count": 165,
   "id": "fd25dc4b-8d41-4529-b273-090127bc8719",
   "metadata": {},
   "outputs": [
    {
     "data": {
      "text/plain": [
       "[10, 20, 30, 42, 50, 60, 70]"
      ]
     },
     "execution_count": 165,
     "metadata": {},
     "output_type": "execute_result"
    }
   ],
   "source": [
    "_implementation_detail"
   ]
  },
  {
   "cell_type": "code",
   "execution_count": 166,
   "id": "03a8bd5d-666c-4230-bf3f-044e79b5092b",
   "metadata": {},
   "outputs": [],
   "source": [
    "# That is the usual, expected difference in meaning between using += and\n",
    "# using = and + separately. The key point is that this performance difference\n",
    "# is **completely unrelated** to the performance difference between using +=\n",
    "# and using = and + separately, on mutable sequences, such as lists."
   ]
  },
  {
   "cell_type": "markdown",
   "id": "cc0f8143-194d-4e75-a281-7e7e63785a3b",
   "metadata": {},
   "source": [
    "When an assignment statement assigns the same object to multiple targets, what order are the\n",
    "assignments done in?\n",
    "\n",
    "For example, does the following statement assign\n",
    "\n",
    "- to `p`, then `q`, then `r`, then `s`?\n",
    "- to `s`, then `r`, then `q`, then `p`?\n",
    "- in some other order?"
   ]
  },
  {
   "cell_type": "code",
   "execution_count": 167,
   "id": "66d6e4ff-f2e4-42ad-8ed7-06f687e858d1",
   "metadata": {},
   "outputs": [],
   "source": [
    "p = q = r = s = 42"
   ]
  },
  {
   "cell_type": "markdown",
   "id": "333b2d3b-60d0-4b5a-8f19-cf55edbcd770",
   "metadata": {},
   "source": [
    "To find out, and to demonstrate this behavior, write at least three separate fragments of code, each of whose behavior depends on the order in which such assignments are performed. Each fragment of code should take advantage of a different language or standard library feature, or at least a different combination of features; that is, each should give some further insight into how *something* works in Python, even if one has already read the others.\n",
    "\n",
    "Assignment pretty much always has side effects (that's the point), but how can you achieve *different* side effects depending on the order in which assignments are done?\n",
    "\n",
    "All the ways you do it should preferably be clear and easy to reason about. Do it in at least two ways that involve making a class, and in at least one way that does not.\n",
    "\n",
    "Although the order is guaranteed, code that relies on it may be confusing, unclear in its intent, and even bug-prone. When might it be reasonable to write code that deliberately relies on this order? Other than for demonstration purposes (or as an exercise), is this ever reasonable?\n",
    "\n",
    "Note: The code in the cell above is just an example of a single assignment statement that is guaranteed to assign the same object to multiple targets. In particular, I wanted to make clear that I am talking about the `p = q = r = s = ...` form of assignment, and not the `p, q, r, s = ...` form. You do not need to demonstrate the order with that specific assignment statement (and I somewhat recommend against that). But this is about the form of assignment that assigns to multiple targets using multiple `=` signs, so whatever assignment statements you do write in your demonstration code should take that form, with at least two `=` signs."
   ]
  },
  {
   "cell_type": "code",
   "execution_count": null,
   "id": "47b9280c-b801-449a-8562-54f383d5f83a",
   "metadata": {},
   "outputs": [],
   "source": []
  }
 ],
 "metadata": {
  "kernelspec": {
   "display_name": "Python 3 (ipykernel)",
   "language": "python",
   "name": "python3"
  },
  "language_info": {
   "codemirror_mode": {
    "name": "ipython",
    "version": 3
   },
   "file_extension": ".py",
   "mimetype": "text/x-python",
   "name": "python",
   "nbconvert_exporter": "python",
   "pygments_lexer": "ipython3",
   "version": "3.10.4"
  }
 },
 "nbformat": 4,
 "nbformat_minor": 5
}
