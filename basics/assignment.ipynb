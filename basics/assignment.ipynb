{
 "cells": [
  {
   "cell_type": "code",
   "execution_count": null,
   "id": "4b26cc1f-a584-4cfc-9d66-a2eaa1c6b893",
   "metadata": {},
   "outputs": [],
   "source": [
    "# Run the math module if it hasn't been run.\n",
    "# Assign the module object to the variable named math.\n",
    "import math"
   ]
  },
  {
   "cell_type": "code",
   "execution_count": null,
   "id": "ab325eb9-399b-40fc-8b12-1c42c8c21f7d",
   "metadata": {},
   "outputs": [],
   "source": [
    "# Run the math module if it hasn't been run.\n",
    "# Assign the module object to the variable named _math.\n",
    "import math as _math"
   ]
  },
  {
   "cell_type": "code",
   "execution_count": null,
   "id": "cb133594-9a8e-4b74-8ab1-636f17d49e4d",
   "metadata": {},
   "outputs": [
    {
     "data": {
      "text/plain": [
       "<module 'math' (built-in)>"
      ]
     },
     "execution_count": 3,
     "metadata": {},
     "output_type": "execute_result"
    }
   ],
   "source": [
    "math"
   ]
  },
  {
   "cell_type": "code",
   "execution_count": null,
   "id": "3e6a0993-9c28-472d-b5c3-76a649b77502",
   "metadata": {},
   "outputs": [
    {
     "data": {
      "text/plain": [
       "<module 'math' (built-in)>"
      ]
     },
     "execution_count": 4,
     "metadata": {},
     "output_type": "execute_result"
    }
   ],
   "source": [
    "_math"
   ]
  },
  {
   "cell_type": "code",
   "execution_count": null,
   "id": "8375acfb-adbd-4571-aa4d-97c38045f63e",
   "metadata": {},
   "outputs": [
    {
     "data": {
      "text/plain": [
       "True"
      ]
     },
     "execution_count": 5,
     "metadata": {},
     "output_type": "execute_result"
    }
   ],
   "source": [
    "math is _math"
   ]
  },
  {
   "cell_type": "code",
   "execution_count": null,
   "id": "3d18c45d-9ffb-4e62-ab19-24860c8cec5a",
   "metadata": {},
   "outputs": [],
   "source": [
    "# Run the sys and io modules (but don't run one that has been run).\n",
    "# Assign them to the sys and io variables, respectively.\n",
    "import sys, io\n",
    "\n",
    "# But it is better to just do:\n",
    "import sys \n",
    "import io"
   ]
  },
  {
   "cell_type": "code",
   "execution_count": null,
   "id": "8a76e9f7-c646-4b88-af26-a46c416993d8",
   "metadata": {},
   "outputs": [],
   "source": [
    "# Run the math module if it hasn't been run.\n",
    "# Assign its members sin and cos to varaibles of those names.\n",
    "from math import sin, cos"
   ]
  },
  {
   "cell_type": "code",
   "execution_count": null,
   "id": "669f33c7-6498-4cc7-853d-75a804e6d711",
   "metadata": {},
   "outputs": [],
   "source": [
    "# Run the sys and io modules (if not run already).\n",
    "# Assign the sys module object to the variable _sys, and the io module object to _io.\n",
    "import sys as _sys, io as _io\n",
    "\n",
    "# But it is better to just do:\n",
    "import sys as _sys\n",
    "import io as _io"
   ]
  },
  {
   "cell_type": "code",
   "execution_count": null,
   "id": "84d7fde9-ac4d-407d-81a7-ba76f4eb78c1",
   "metadata": {},
   "outputs": [],
   "source": [
    "# Run the math module if it hasn't been run.\n",
    "# Assign its members sin and cos to the _sin and _cos variables, respectively.\n",
    "from math import sin as _sin, cos as _cos"
   ]
  },
  {
   "cell_type": "code",
   "execution_count": null,
   "id": "1e1974de-ddc8-47a9-88d2-236422a851a8",
   "metadata": {},
   "outputs": [],
   "source": [
    "# Create a function that returns its input, squared.\n",
    "# Assign it to the variable called square.\n",
    "def square(x):\n",
    "    return x**2"
   ]
  },
  {
   "cell_type": "code",
   "execution_count": null,
   "id": "dea6041b-f703-455a-b4da-fb7db89f43c7",
   "metadata": {},
   "outputs": [],
   "source": [
    "# Assign 3 to the variable x.\n",
    "x = 3"
   ]
  },
  {
   "cell_type": "code",
   "execution_count": null,
   "id": "eeb5eb79-9584-4ea3-a435-27e63e3f388b",
   "metadata": {},
   "outputs": [],
   "source": [
    "# Assign 5 to the variable y.\n",
    "y = 5"
   ]
  },
  {
   "cell_type": "code",
   "execution_count": null,
   "id": "da9536f3-34bf-4598-a9c2-3a595e449ddd",
   "metadata": {},
   "outputs": [],
   "source": [
    "# Assign the value of x to y, and the value of y to x.\n",
    "x, y = y, x"
   ]
  },
  {
   "cell_type": "code",
   "execution_count": null,
   "id": "7f57923f-a597-438f-9993-f59a156850e8",
   "metadata": {},
   "outputs": [
    {
     "data": {
      "text/plain": [
       "5"
      ]
     },
     "execution_count": 14,
     "metadata": {},
     "output_type": "execute_result"
    }
   ],
   "source": [
    "x"
   ]
  },
  {
   "cell_type": "code",
   "execution_count": null,
   "id": "d74664be-6be6-48dc-b70e-cc2f7018b913",
   "metadata": {},
   "outputs": [
    {
     "data": {
      "text/plain": [
       "3"
      ]
     },
     "execution_count": 15,
     "metadata": {},
     "output_type": "execute_result"
    }
   ],
   "source": [
    "y"
   ]
  },
  {
   "cell_type": "code",
   "execution_count": null,
   "id": "425befc0-f909-4e7c-8ccf-538c95c230c6",
   "metadata": {},
   "outputs": [],
   "source": [
    "# Assign the string 'ham' to the variables a, b, and c.\n",
    "# Each variable will then refer to the same string object 'ham'.\n",
    "a = 'ham'\n",
    "b = a\n",
    "c = b"
   ]
  },
  {
   "cell_type": "code",
   "execution_count": null,
   "id": "b97d7eaf-7cb5-466e-94b2-6bec3c357287",
   "metadata": {},
   "outputs": [],
   "source": [
    "a = 'eggs'"
   ]
  },
  {
   "cell_type": "code",
   "execution_count": null,
   "id": "94b9022e-5fc1-47f6-b36c-590a9d508f17",
   "metadata": {},
   "outputs": [
    {
     "data": {
      "text/plain": [
       "3116424770352"
      ]
     },
     "execution_count": 18,
     "metadata": {},
     "output_type": "execute_result"
    }
   ],
   "source": [
    "id(c)"
   ]
  },
  {
   "cell_type": "code",
   "execution_count": null,
   "id": "5f6f736f-5f2f-4c2c-9e80-e68f974b9cf2",
   "metadata": {},
   "outputs": [
    {
     "data": {
      "text/plain": [
       "3116424770352"
      ]
     },
     "execution_count": 19,
     "metadata": {},
     "output_type": "execute_result"
    }
   ],
   "source": [
    "id(b)"
   ]
  },
  {
   "cell_type": "code",
   "execution_count": null,
   "id": "50e260c2-e7f2-4064-9c62-45342764f284",
   "metadata": {},
   "outputs": [],
   "source": [
    "del a, b, c"
   ]
  },
  {
   "cell_type": "code",
   "execution_count": null,
   "id": "bfcd38e2-467a-44b7-9eba-50240d90ad7f",
   "metadata": {},
   "outputs": [],
   "source": [
    "# Assign 1-character strings -- the letters of 'ham' -- to variables a, b, and c.\n",
    "a, b, c = 'ham'"
   ]
  },
  {
   "cell_type": "code",
   "execution_count": null,
   "id": "7d2fe71a-8980-4a42-b344-fdaddb78ec3b",
   "metadata": {},
   "outputs": [
    {
     "data": {
      "text/plain": [
       "('h', 'a', 'm')"
      ]
     },
     "execution_count": 22,
     "metadata": {},
     "output_type": "execute_result"
    }
   ],
   "source": [
    "(a, b, c)"
   ]
  },
  {
   "cell_type": "code",
   "execution_count": null,
   "id": "9f8f5a12-f01d-46aa-bb2f-aa07fe8da704",
   "metadata": {},
   "outputs": [],
   "source": [
    "# With a SINGLE statement, assign the string 'ham' to the variables a, b, and c.\n",
    "# Each variable will then refer to the same string object 'ham'.\n",
    "a = b = c = 'ham'"
   ]
  },
  {
   "cell_type": "code",
   "execution_count": null,
   "id": "e8e8482d-d479-4a92-9605-9e39cae99b0f",
   "metadata": {},
   "outputs": [
    {
     "data": {
      "text/plain": [
       "('ham', 'ham', 'ham')"
      ]
     },
     "execution_count": 24,
     "metadata": {},
     "output_type": "execute_result"
    }
   ],
   "source": [
    "(a, b, c)"
   ]
  },
  {
   "cell_type": "code",
   "execution_count": null,
   "id": "1785cbdb-e29e-40a6-b551-2d916b3ad602",
   "metadata": {},
   "outputs": [
    {
     "data": {
      "text/plain": [
       "[3116424897904, 3116424897904, 3116424897904]"
      ]
     },
     "execution_count": 25,
     "metadata": {},
     "output_type": "execute_result"
    }
   ],
   "source": [
    "[id(x) for x in (a, b, c)]"
   ]
  },
  {
   "cell_type": "code",
   "execution_count": null,
   "id": "899da58c-44d2-439f-8f17-bdce3b4173bb",
   "metadata": {},
   "outputs": [],
   "source": [
    "stuff = [10, (20, [30, 40], 50)]\n",
    "# With an assignment statement whose right-hand side is just the variable stuff,\n",
    "# assign the numbers 10, 20, 30, 40, and 50 to the variables a, b, c, d, and e.\n",
    "a, (b, (c, d), e) = stuff"
   ]
  },
  {
   "cell_type": "code",
   "execution_count": null,
   "id": "23659b52-75f2-4fd5-bde2-e7a37e2d4a7e",
   "metadata": {},
   "outputs": [
    {
     "data": {
      "text/plain": [
       "[10, 20, 30, 40, 50]"
      ]
     },
     "execution_count": 27,
     "metadata": {},
     "output_type": "execute_result"
    }
   ],
   "source": [
    "[a, b, c, d, e]"
   ]
  },
  {
   "cell_type": "code",
   "execution_count": null,
   "id": "87e814c5-33f2-46a7-a78f-44bbc4e30177",
   "metadata": {},
   "outputs": [],
   "source": [
    "a = b = c = d = e = 0\n",
    "# With a match statement on an expression that is just the variable stuff,\n",
    "# assign 10, 20, and 30 to a, b, and c, and assign 50 to e, without\n",
    "# assigning 40 to any variable. Furthermore, if the structure of stuff is\n",
    "# anything other than the structure it has above, then don't perform any\n",
    "# assignments, but do print a message.\n",
    "match stuff:\n",
    "    case [a, [b, [c, _], e]]:\n",
    "        pass\n",
    "    case _:\n",
    "        print('structure of stuff is wrong')"
   ]
  },
  {
   "cell_type": "code",
   "execution_count": null,
   "id": "42d1ae30-c087-4302-b1cf-62233bb286ba",
   "metadata": {},
   "outputs": [
    {
     "data": {
      "text/plain": [
       "[10, 20, 30, 0, 50]"
      ]
     },
     "execution_count": 29,
     "metadata": {},
     "output_type": "execute_result"
    }
   ],
   "source": [
    "[a, b, c, d, e]"
   ]
  },
  {
   "cell_type": "code",
   "execution_count": null,
   "id": "370a68d2-52c5-4e18-88e7-411912321a49",
   "metadata": {},
   "outputs": [],
   "source": [
    "stuff = 0"
   ]
  },
  {
   "cell_type": "code",
   "execution_count": null,
   "id": "deddd526-42c2-4924-9c71-7ce5dc3d9b29",
   "metadata": {},
   "outputs": [
    {
     "name": "stdout",
     "output_type": "stream",
     "text": [
      "structure of stuff is wrong\n"
     ]
    }
   ],
   "source": [
    "match stuff:\n",
    "    case [a, [b, [c, _], e]]:\n",
    "        pass\n",
    "    case _:\n",
    "        print('structure of stuff is wrong')"
   ]
  },
  {
   "cell_type": "code",
   "execution_count": null,
   "id": "af7bb111-d4d6-4cd6-b940-883e04ec81c0",
   "metadata": {
    "tags": [
     "raises-exception"
    ]
   },
   "outputs": [],
   "source": [
    "# Assign the string 'Ow!' to a variable named len. This shadows the builtin\n",
    "# function len (which is why it should never be done, except for demonstration\n",
    "# purposes).\n",
    "len = 'Ow!'"
   ]
  },
  {
   "cell_type": "code",
   "execution_count": null,
   "id": "4fce873f-1ab7-4b8e-beb5-e2b802f70d7d",
   "metadata": {},
   "outputs": [
    {
     "data": {
      "text/plain": [
       "'Ow!'"
      ]
     },
     "execution_count": 33,
     "metadata": {},
     "output_type": "execute_result"
    }
   ],
   "source": [
    "len"
   ]
  },
  {
   "cell_type": "code",
   "execution_count": null,
   "id": "f4e83acf-dcab-4f84-9e0f-ae43e9a678a2",
   "metadata": {
    "tags": [
     "raises-exception"
    ]
   },
   "outputs": [
    {
     "ename": "TypeError",
     "evalue": "'str' object is not callable",
     "output_type": "error",
     "traceback": [
      "\u001b[1;31m---------------------------------------------------------------------------\u001b[0m",
      "\u001b[1;31mTypeError\u001b[0m                                 Traceback (most recent call last)",
      "Input \u001b[1;32mIn [34]\u001b[0m, in \u001b[0;36m<module>\u001b[1;34m\u001b[0m\n\u001b[1;32m----> 1\u001b[0m \u001b[38;5;28;43mlen\u001b[39;49m\u001b[43m(\u001b[49m\u001b[38;5;124;43m'\u001b[39;49m\u001b[38;5;124;43mow!\u001b[39;49m\u001b[38;5;124;43m'\u001b[39;49m\u001b[43m)\u001b[49m\n",
      "\u001b[1;31mTypeError\u001b[0m: 'str' object is not callable"
     ]
    }
   ],
   "source": [
    "len('ow!')"
   ]
  },
  {
   "cell_type": "code",
   "execution_count": null,
   "id": "a753857c-100f-4c21-9cd7-e22841ffbc47",
   "metadata": {
    "tags": [
     "raises-exception"
    ]
   },
   "outputs": [],
   "source": [
    "# Although len in the builtin scope was shadowed by the presence of len in\n",
    "# the global scope, it was not deleted. Get rid of len in the global scope,\n",
    "# and show that this restores access to len in the builtin scope.\n",
    "del len"
   ]
  },
  {
   "cell_type": "code",
   "execution_count": null,
   "id": "ab3b42d6-c276-493a-acd0-ab83ec668afd",
   "metadata": {},
   "outputs": [
    {
     "data": {
      "text/plain": [
       "3"
      ]
     },
     "execution_count": 36,
     "metadata": {},
     "output_type": "execute_result"
    }
   ],
   "source": [
    "len('ow!')"
   ]
  },
  {
   "cell_type": "code",
   "execution_count": null,
   "id": "d783f8e4-18cf-40f4-840b-d3cd9c58b05c",
   "metadata": {
    "tags": [
     "raises-exception"
    ]
   },
   "outputs": [
    {
     "ename": "UnboundLocalError",
     "evalue": "local variable 'len' referenced before assignment",
     "output_type": "error",
     "traceback": [
      "\u001b[1;31m---------------------------------------------------------------------------\u001b[0m",
      "\u001b[1;31mUnboundLocalError\u001b[0m                         Traceback (most recent call last)",
      "Input \u001b[1;32mIn [37]\u001b[0m, in \u001b[0;36m<module>\u001b[1;34m\u001b[0m\n\u001b[0;32m      6\u001b[0m     \u001b[38;5;28;01mdel\u001b[39;00m \u001b[38;5;28mlen\u001b[39m\n\u001b[0;32m      7\u001b[0m     \u001b[38;5;28mprint\u001b[39m(\u001b[38;5;28mlen\u001b[39m(\u001b[38;5;124m'\u001b[39m\u001b[38;5;124mhello\u001b[39m\u001b[38;5;124m'\u001b[39m))\n\u001b[1;32m----> 9\u001b[0m \u001b[43mtestscopes\u001b[49m\u001b[43m(\u001b[49m\u001b[43m)\u001b[49m\n",
      "Input \u001b[1;32mIn [37]\u001b[0m, in \u001b[0;36mtestscopes\u001b[1;34m()\u001b[0m\n\u001b[0;32m      5\u001b[0m \u001b[38;5;28mlen\u001b[39m \u001b[38;5;241m=\u001b[39m \u001b[38;5;124m'\u001b[39m\u001b[38;5;124mOw!\u001b[39m\u001b[38;5;124m'\u001b[39m\n\u001b[0;32m      6\u001b[0m \u001b[38;5;28;01mdel\u001b[39;00m \u001b[38;5;28mlen\u001b[39m\n\u001b[1;32m----> 7\u001b[0m \u001b[38;5;28mprint\u001b[39m(\u001b[38;5;28;43mlen\u001b[39;49m(\u001b[38;5;124m'\u001b[39m\u001b[38;5;124mhello\u001b[39m\u001b[38;5;124m'\u001b[39m))\n",
      "\u001b[1;31mUnboundLocalError\u001b[0m: local variable 'len' referenced before assignment"
     ]
    }
   ],
   "source": [
    "# Suppose we have a function with a local variable called len. Can deleting\n",
    "# that local variable restore access to the builtin len, in that function?\n",
    "# Please write a function that demonstrates whether or not it can.\n",
    "def testscopes():\n",
    "    len = 'Ow!'\n",
    "    del len\n",
    "    print(len('hello'))\n",
    "\n",
    "testscopes()"
   ]
  },
  {
   "cell_type": "code",
   "execution_count": null,
   "id": "2368e4fc-2825-4422-b9f7-df8075f70b98",
   "metadata": {},
   "outputs": [],
   "source": [
    "# Some very important information we really don't want to lose.\n",
    "hello = 'The gold is in safe deposit #9A44515 at the Hello World Bank of Switzerland or something.'\n",
    "\n",
    "# Demonstrate why * imports are only considered reasonable for interactive testing.\n",
    "from greet import *"
   ]
  },
  {
   "cell_type": "code",
   "execution_count": null,
   "id": "756d6f71-5e5f-4029-a268-b0edeefa20c5",
   "metadata": {},
   "outputs": [
    {
     "data": {
      "text/plain": [
       "<function greet.hello(name, lang='en')>"
      ]
     },
     "execution_count": 39,
     "metadata": {},
     "output_type": "execute_result"
    }
   ],
   "source": [
    "hello"
   ]
  },
  {
   "cell_type": "code",
   "execution_count": null,
   "id": "860e573e-5b6b-4955-a0fe-192f6f122127",
   "metadata": {},
   "outputs": [],
   "source": [
    "# TODO: Find out the actual semantics of _ in interactive python and in IPython/Jupyter."
   ]
  },
  {
   "cell_type": "code",
   "execution_count": null,
   "id": "a74ee727-849a-4725-a8d6-7b2d2488b2f7",
   "metadata": {},
   "outputs": [
    {
     "name": "stdout",
     "output_type": "stream",
     "text": [
      "got here\n",
      "<function hello at 0x000002D59B1444C0>\n"
     ]
    }
   ],
   "source": [
    "# In a fuction (to avoid messing with the special significance of _ in interactive\n",
    "# Python interpreters), show that using _ as a discard in a match statement does not\n",
    "# assign to _ and does not even cause it to become a local variable.\n",
    "def underfunction():\n",
    "    mystuff = 10\n",
    "    match mystuff:\n",
    "        case _:\n",
    "            print ('got here')\n",
    "            print (_)\n",
    "            \n",
    "underfunction()"
   ]
  },
  {
   "cell_type": "code",
   "execution_count": null,
   "id": "8ad16a9d-1dda-4bcd-bd97-0341a8274fb8",
   "metadata": {},
   "outputs": [
    {
     "name": "stdout",
     "output_type": "stream",
     "text": [
      "5\n",
      "4\n"
     ]
    }
   ],
   "source": [
    "# In a fuction (to avoid messing with the special significance of _ in interactive\n",
    "# Python interpreters), show that using _ like a discard in an assignment statement\n",
    "# DOES assign to _.\n",
    "def unassfunction():\n",
    "    _ = 4\n",
    "    x = 5\n",
    "    print (x)\n",
    "    print (_)\n",
    "unassfunction()"
   ]
  },
  {
   "cell_type": "code",
   "execution_count": null,
   "id": "d50608b8-88ad-47aa-8e35-d6399594de6b",
   "metadata": {},
   "outputs": [
    {
     "name": "stdout",
     "output_type": "stream",
     "text": [
      "10\n",
      "20\n",
      "30\n",
      "40\n",
      "50\n",
      "60\n",
      "70\n"
     ]
    }
   ],
   "source": [
    "values = [10, 20, 30, 40, 50, 60, 70]\n",
    "# For each value in values, assign it to the variable x and print x.\n",
    "for x in values:\n",
    "    print (x)"
   ]
  },
  {
   "cell_type": "code",
   "execution_count": null,
   "id": "2d0d68e9-2fd5-4c60-b95e-813f6a2ca58e",
   "metadata": {},
   "outputs": [],
   "source": [
    "point = (10, 20)\n",
    "# Write an assignment statement with just the variable point on the right-hand\n",
    "# side, which assign 10 to the variable x_coord and 20 to the variable y_coord.\n",
    "x_coord, y_coord = point"
   ]
  },
  {
   "cell_type": "code",
   "execution_count": null,
   "id": "ee963c8d-7fac-4029-9e3d-309f1e69f618",
   "metadata": {},
   "outputs": [
    {
     "data": {
      "text/plain": [
       "'x_coord=10, y_coord=20'"
      ]
     },
     "execution_count": 45,
     "metadata": {},
     "output_type": "execute_result"
    }
   ],
   "source": [
    "f'{x_coord=}, {y_coord=}'"
   ]
  },
  {
   "cell_type": "code",
   "execution_count": null,
   "id": "eb52c9bb-7df3-41c0-a556-20ef167766f9",
   "metadata": {},
   "outputs": [
    {
     "name": "stdout",
     "output_type": "stream",
     "text": [
      "10 on the x-axis, 20 on the y-axis.\n",
      "30 on the x-axis, 40 on the y-axis.\n",
      "50 on the x-axis, 60 on the y-axis.\n",
      "70 on the x-axis, 80 on the y-axis.\n"
     ]
    }
   ],
   "source": [
    "coords = [(10, 20), (30, 40), (50, 60), (70, 80)]\n",
    "# For each coordinate pair in coords, assign the first element to x and the\n",
    "# second element to y, and print them both (formatted however you like).\n",
    "for x, y in coords:\n",
    "    print(f'{x} on the x-axis, {y} on the y-axis.')"
   ]
  },
  {
   "cell_type": "code",
   "execution_count": null,
   "id": "42ca474c-ae7c-43be-b8ba-5faa83d88458",
   "metadata": {},
   "outputs": [
    {
     "name": "stdout",
     "output_type": "stream",
     "text": [
      "x='cat'\n",
      "xs=['dog', 'horse', 'bat', 'eagle']\n",
      "x='banker'\n",
      "xs=['butcher', 'candlestick maker']\n",
      "x=10\n",
      "xs=[20, 30, 40, 50, 50, 60]\n"
     ]
    }
   ],
   "source": [
    "table = [['cat', 'dog', 'horse', 'bat', 'eagle'],\n",
    "         ['banker', 'butcher', 'candlestick maker'],\n",
    "         [10, 20, 30, 40, 50, 50, 60]]\n",
    "# For each row of table, assign the first element to x and a list of all the\n",
    "# other elements to xs, then print them both (formatted however you like).\n",
    "for x, *xs in table:\n",
    "    print(f'{x=}')\n",
    "    print(f'{xs=}')"
   ]
  },
  {
   "cell_type": "code",
   "execution_count": null,
   "id": "87b8d8d9-f06b-4a8a-a376-b50aa53b3739",
   "metadata": {},
   "outputs": [
    {
     "data": {
      "text/plain": [
       "[20, 30, 40, 50, 50, 60]"
      ]
     },
     "execution_count": 48,
     "metadata": {},
     "output_type": "execute_result"
    }
   ],
   "source": [
    "xs"
   ]
  },
  {
   "cell_type": "code",
   "execution_count": null,
   "id": "7974714b-7800-4371-bf7d-e4468acd1dc6",
   "metadata": {},
   "outputs": [
    {
     "data": {
      "text/plain": [
       "(20, [30, 40, 50, 50, 60])"
      ]
     },
     "execution_count": 49,
     "metadata": {},
     "output_type": "execute_result"
    }
   ],
   "source": [
    "y, *ys = xs\n",
    "(y, ys)"
   ]
  },
  {
   "cell_type": "code",
   "execution_count": null,
   "id": "5c42c60b-2ff9-43d5-9860-b22def4be15f",
   "metadata": {},
   "outputs": [
    {
     "data": {
      "text/plain": [
       "{20, 30, 40, 50, 60, 'foo'}"
      ]
     },
     "execution_count": 50,
     "metadata": {},
     "output_type": "execute_result"
    }
   ],
   "source": [
    "ys = {'foo', *xs}\n",
    "ys"
   ]
  },
  {
   "cell_type": "code",
   "execution_count": null,
   "id": "f9ba0568-b1bb-4760-b048-480de2d60eb4",
   "metadata": {},
   "outputs": [
    {
     "name": "stdout",
     "output_type": "stream",
     "text": [
      "xs=['cat', 'dog', 'horse', 'bat']\n",
      "x='eagle'\n",
      "xs=['banker', 'butcher']\n",
      "x='candlestick maker'\n",
      "xs=[10, 20, 30, 40, 50, 50]\n",
      "x=60\n"
     ]
    }
   ],
   "source": [
    "table = [['cat', 'dog', 'horse', 'bat', 'eagle'],\n",
    "         ['banker', 'butcher', 'candlestick maker'],\n",
    "         [10, 20, 30, 40, 50, 50, 60]]\n",
    "# For each row of table, assign the last element to x and a list of all the\n",
    "# other elements to xs, then print them both (formatted however you like).\n",
    "for *xs, x in table:\n",
    "    print(f'{xs=}')\n",
    "    print(f'{x=}')"
   ]
  },
  {
   "cell_type": "code",
   "execution_count": null,
   "id": "5f35bdb1-9c2d-4293-a498-1dbd9d029aca",
   "metadata": {},
   "outputs": [
    {
     "name": "stdout",
     "output_type": "stream",
     "text": [
      "xs=[]\n",
      "x=1\n",
      "xs=[]\n",
      "x=2\n"
     ]
    }
   ],
   "source": [
    "# Write an assignment whose left-hand side is\n",
    "#    *xs, x\n",
    "# where xs becomes an empty list.\n",
    "row = [[1],[2]] \n",
    "for *xs, x in row:\n",
    "    print(f'{xs=}')\n",
    "    print(f'{x=}')    "
   ]
  },
  {
   "cell_type": "code",
   "execution_count": null,
   "id": "5e8505b2-731c-468e-a65f-b5aad4fa4334",
   "metadata": {},
   "outputs": [],
   "source": [
    "# Write such an assignment as one-line assignment statement.\n",
    "*xs, x = ['stuff']"
   ]
  },
  {
   "cell_type": "code",
   "execution_count": null,
   "id": "b6d7a600-fc8c-4fca-8acd-eb92b3a93681",
   "metadata": {},
   "outputs": [
    {
     "data": {
      "text/plain": [
       "[]"
      ]
     },
     "execution_count": 54,
     "metadata": {},
     "output_type": "execute_result"
    }
   ],
   "source": [
    "xs"
   ]
  },
  {
   "cell_type": "code",
   "execution_count": null,
   "id": "09e0f8e9-1fd6-4c35-a33d-a4626fd5cb61",
   "metadata": {},
   "outputs": [
    {
     "data": {
      "text/plain": [
       "'stuff'"
      ]
     },
     "execution_count": 55,
     "metadata": {},
     "output_type": "execute_result"
    }
   ],
   "source": [
    "x"
   ]
  },
  {
   "cell_type": "code",
   "execution_count": null,
   "id": "932e9ccd-61f6-4818-adf4-93b21feb9702",
   "metadata": {},
   "outputs": [
    {
     "name": "stdout",
     "output_type": "stream",
     "text": [
      "first='cat'\n",
      "middle=['dog', 'horse', 'bat']\n",
      "last='eagle'\n",
      "first='banker'\n",
      "middle=['butcher']\n",
      "last='candlestick maker'\n",
      "first=10\n",
      "middle=[20, 30, 40, 50, 50]\n",
      "last=60\n"
     ]
    }
   ],
   "source": [
    "table = [['cat', 'dog', 'horse', 'bat', 'eagle'],\n",
    "         ['banker', 'butcher', 'candlestick maker'],\n",
    "         [10, 20, 30, 40, 50, 50, 60]]\n",
    "# For each row of table, assign the first element to first, the last element\n",
    "# to last, and all the other elements to middle (so middle will be a list).\n",
    "for first, *middle, last in table:\n",
    "    print(f'{first=}')\n",
    "    print(f'{middle=}')\n",
    "    print(f'{last=}')"
   ]
  },
  {
   "cell_type": "code",
   "execution_count": null,
   "id": "25a53480-56b3-4bea-815e-6520c76e413e",
   "metadata": {},
   "outputs": [
    {
     "name": "stdout",
     "output_type": "stream",
     "text": [
      "list index out of range\n"
     ]
    }
   ],
   "source": [
    "# Some except clauses perform assignment. Demonstrate this.\n",
    "mylist = [0, 1, 2, 3, 4]\n",
    "try: \n",
    "    mylist[5]\n",
    "except IndexError as ierror:\n",
    "    print(ierror)"
   ]
  },
  {
   "cell_type": "code",
   "execution_count": null,
   "id": "fdad0d45-71fa-4ac7-90df-bc34774ca7be",
   "metadata": {},
   "outputs": [],
   "source": [
    "# Variables assigned outside of functions and comprehensions are global,\n",
    "# and in JupyterLab global variables are accessible across cells, since\n",
    "# code in different cells is all in the same scope. You've seen this, and\n",
    "# here's another example:\n",
    "something = 'wow!'"
   ]
  },
  {
   "cell_type": "code",
   "execution_count": null,
   "id": "2984959a-1640-41c6-a852-3b690647a1c2",
   "metadata": {},
   "outputs": [
    {
     "data": {
      "text/plain": [
       "'wow!'"
      ]
     },
     "execution_count": 59,
     "metadata": {},
     "output_type": "execute_result"
    }
   ],
   "source": [
    "something"
   ]
  },
  {
   "cell_type": "code",
   "execution_count": null,
   "id": "d9b6f34a-9139-40ce-bc80-a60742de6cd9",
   "metadata": {
    "tags": [
     "raises-exception"
    ]
   },
   "outputs": [
    {
     "ename": "NameError",
     "evalue": "name 'ierror' is not defined",
     "output_type": "error",
     "traceback": [
      "\u001b[1;31m---------------------------------------------------------------------------\u001b[0m",
      "\u001b[1;31mNameError\u001b[0m                                 Traceback (most recent call last)",
      "Input \u001b[1;32mIn [60]\u001b[0m, in \u001b[0;36m<module>\u001b[1;34m\u001b[0m\n\u001b[0;32m      1\u001b[0m \u001b[38;5;66;03m# But what about ierror? It was assigned by the except clause?\u001b[39;00m\n\u001b[0;32m      2\u001b[0m \u001b[38;5;66;03m# Is it still accessible?\u001b[39;00m\n\u001b[1;32m----> 3\u001b[0m \u001b[43mierror\u001b[49m\n",
      "\u001b[1;31mNameError\u001b[0m: name 'ierror' is not defined"
     ]
    }
   ],
   "source": [
    "# But what about ierror? It was assigned by the except clause?\n",
    "# Is it still accessible?\n",
    "ierror"
   ]
  },
  {
   "cell_type": "code",
   "execution_count": null,
   "id": "568f773c-163d-477f-98d6-e5b5f1e56658",
   "metadata": {},
   "outputs": [],
   "source": [
    "# The variable was in the same scope. But this is a special case. The\n",
    "# variable to which except assigns the exception object is deleted (as\n",
    "# if with del) as control exits the end of the except block.\n",
    "\n",
    "# The reason for this special behavior is that exception objects contain\n",
    "# references to data structures useful for debugging... and through\n",
    "# which most other variables and state can be accessed. That keeps\n",
    "# numerous objects from being garbage collected. Deleting the variable\n",
    "# lets the exception object be garbage collected (unless it has been\n",
    "# assigned elsewhere), which prevents what would otherwise be huge\n",
    "# memory leaks in most Python programs."
   ]
  },
  {
   "cell_type": "code",
   "execution_count": null,
   "id": "fea324bd-5f57-44f3-bd2c-191942668e40",
   "metadata": {
    "tags": [
     "raises-exception"
    ]
   },
   "outputs": [
    {
     "name": "stdout",
     "output_type": "stream",
     "text": [
      "list index out of range\n"
     ]
    },
    {
     "ename": "NameError",
     "evalue": "name 'ierror' is not defined",
     "output_type": "error",
     "traceback": [
      "\u001b[1;31m---------------------------------------------------------------------------\u001b[0m",
      "\u001b[1;31mNameError\u001b[0m                                 Traceback (most recent call last)",
      "Input \u001b[1;32mIn [62]\u001b[0m, in \u001b[0;36m<module>\u001b[1;34m\u001b[0m\n\u001b[0;32m      8\u001b[0m \u001b[38;5;28;01mexcept\u001b[39;00m \u001b[38;5;167;01mIndexError\u001b[39;00m \u001b[38;5;28;01mas\u001b[39;00m ierror:\n\u001b[0;32m      9\u001b[0m     \u001b[38;5;28mprint\u001b[39m(ierror)\n\u001b[1;32m---> 10\u001b[0m \u001b[38;5;28mprint\u001b[39m(\u001b[43mierror\u001b[49m)\n",
      "\u001b[1;31mNameError\u001b[0m: name 'ierror' is not defined"
     ]
    }
   ],
   "source": [
    "# Show that, if the variable existed before, and is assigned to by\n",
    "# except, then after the except clause, it is still deleted, and *not*\n",
    "# restored to its former value.\n",
    "ierror = \"former value\" \n",
    "mylist = [0, 1, 2, 3, 4]\n",
    "try: \n",
    "    mylist[5]\n",
    "except IndexError as ierror:\n",
    "    print(ierror)\n",
    "print(ierror)"
   ]
  },
  {
   "cell_type": "code",
   "execution_count": null,
   "id": "a1bc0c1b-a3e0-498c-8eda-6465bd6d9aab",
   "metadata": {},
   "outputs": [
    {
     "name": "stdout",
     "output_type": "stream",
     "text": [
      "list index out of range\n",
      "list index out of range\n"
     ]
    }
   ],
   "source": [
    "# Write code that preserves access to the exception object even after\n",
    "# control has left the except clause. (This is occasionally useful.)\n",
    "ierror = \"former value\" \n",
    "mylist = [0, 1, 2, 3, 4]\n",
    "try: \n",
    "    mylist[5]\n",
    "except IndexError as ierror:\n",
    "    print(ierror)\n",
    "    preserver = ierror\n",
    "print(preserver)"
   ]
  },
  {
   "cell_type": "code",
   "execution_count": null,
   "id": "2b2ed965-d9ef-46f2-99dd-f3fd04b78298",
   "metadata": {},
   "outputs": [
    {
     "data": {
      "text/plain": [
       "'C:\\\\Users\\\\User\\\\source\\\\repos\\\\algoviz\\\\basics'"
      ]
     },
     "execution_count": 64,
     "metadata": {},
     "output_type": "execute_result"
    }
   ],
   "source": [
    "import os\n",
    "os.getcwd()"
   ]
  },
  {
   "cell_type": "code",
   "execution_count": null,
   "id": "d86ed99c-25b8-42c2-86a0-d4068eb5f05a",
   "metadata": {},
   "outputs": [
    {
     "name": "stdout",
     "output_type": "stream",
     "text": [
      "Eliah\n",
      "\n"
     ]
    }
   ],
   "source": [
    "# The \"with\" statement is a form of assignment, when an \"as\" clause\n",
    "# is present. Open names.txt as a file and read a line from it.\n",
    "with open('names.txt', encoding='utf-8') as file:\n",
    "    firstline = file.readline()    \n",
    "    print(firstline)"
   ]
  },
  {
   "cell_type": "code",
   "execution_count": null,
   "id": "bf8f4adf-5739-4002-8af2-5e631bd9b256",
   "metadata": {
    "tags": [
     "raises-exception"
    ]
   },
   "outputs": [
    {
     "ename": "ValueError",
     "evalue": "I/O operation on closed file.",
     "output_type": "error",
     "traceback": [
      "\u001b[1;31m---------------------------------------------------------------------------\u001b[0m",
      "\u001b[1;31mValueError\u001b[0m                                Traceback (most recent call last)",
      "Input \u001b[1;32mIn [66]\u001b[0m, in \u001b[0;36m<module>\u001b[1;34m\u001b[0m\n\u001b[0;32m      1\u001b[0m \u001b[38;5;66;03m# Control has left the with block. Does the file variable still exist?\u001b[39;00m\n\u001b[1;32m----> 2\u001b[0m secondline \u001b[38;5;241m=\u001b[39m \u001b[43mfile\u001b[49m\u001b[38;5;241;43m.\u001b[39;49m\u001b[43mreadline\u001b[49m\u001b[43m(\u001b[49m\u001b[43m)\u001b[49m\n",
      "\u001b[1;31mValueError\u001b[0m: I/O operation on closed file."
     ]
    }
   ],
   "source": [
    "# Control has left the with block. Does the file variable still exist?\n",
    "secondline = file.readline()"
   ]
  },
  {
   "cell_type": "code",
   "execution_count": null,
   "id": "07340ac3-20ce-4d3d-8231-d668d8d7e00b",
   "metadata": {},
   "outputs": [
    {
     "name": "stdout",
     "output_type": "stream",
     "text": [
      "Eliah\n",
      "\n"
     ]
    }
   ],
   "source": [
    "# Open names.txt as a file and read a line from it. Use try-finally\n",
    "# instead of a \"with\" statement.\n",
    "file = open('names.txt', encoding='utf-8')\n",
    "try: \n",
    "    firstline = file.readline()\n",
    "    print(firstline)\n",
    "finally: \n",
    "    file.close()"
   ]
  },
  {
   "cell_type": "code",
   "execution_count": null,
   "id": "337421a9-2195-46c0-ad47-a737a3af9cf8",
   "metadata": {
    "tags": [
     "raises-exception"
    ]
   },
   "outputs": [
    {
     "ename": "ValueError",
     "evalue": "I/O operation on closed file.",
     "output_type": "error",
     "traceback": [
      "\u001b[1;31m---------------------------------------------------------------------------\u001b[0m",
      "\u001b[1;31mValueError\u001b[0m                                Traceback (most recent call last)",
      "Input \u001b[1;32mIn [68]\u001b[0m, in \u001b[0;36m<module>\u001b[1;34m\u001b[0m\n\u001b[1;32m----> 1\u001b[0m secondline \u001b[38;5;241m=\u001b[39m \u001b[43mfile\u001b[49m\u001b[38;5;241;43m.\u001b[39;49m\u001b[43mreadline\u001b[49m\u001b[43m(\u001b[49m\u001b[43m)\u001b[49m\n",
      "\u001b[1;31mValueError\u001b[0m: I/O operation on closed file."
     ]
    }
   ],
   "source": [
    "secondline = file.readline()"
   ]
  },
  {
   "cell_type": "code",
   "execution_count": null,
   "id": "f931c9b4-be24-4b5e-8e7b-19d1a619da2d",
   "metadata": {},
   "outputs": [],
   "source": [
    "# A \"with\" statement, with \"as\", assigns an object to a variable that usually\n",
    "# makes sense to use within the body of the \"with\" statement, and that may or\n",
    "# may not make sense to use afterwards. However, unlike \"as\" in an \"except\"\n",
    "# clause, there is no special variable-deletion behavior associated with \"as\"\n",
    "# in a \"with\" statement."
   ]
  },
  {
   "cell_type": "code",
   "execution_count": null,
   "id": "54d2f406-057a-4212-a5b1-f329ef6c7d8e",
   "metadata": {},
   "outputs": [
    {
     "name": "stdout",
     "output_type": "stream",
     "text": [
      "uncubed=5\n",
      "uncubed=0\n"
     ]
    }
   ],
   "source": [
    "# Part of the semantics of function calls is that the objects passed as actual\n",
    "# arguments to the function are assigned to the function's formal parameters,\n",
    "# and those formal parameters are local variables of the function as it executes.\n",
    "# Define a function with one or more parameters that accesses its parameter(s)\n",
    "# and prints their values. Then run code that shows that these values have not\n",
    "# been assigned to variables of the same names in the global scope.\n",
    "uncubed = 0\n",
    "def cube(uncubed):\n",
    "    print(f'{uncubed=}')\n",
    "    return uncubed**3\n",
    "cube(5)\n",
    "print(f'{uncubed=}')"
   ]
  },
  {
   "cell_type": "code",
   "execution_count": null,
   "id": "3c061d84-d64b-4351-8091-f8cee2d7ba72",
   "metadata": {},
   "outputs": [
    {
     "name": "stdout",
     "output_type": "stream",
     "text": [
      "[9, 8, 7, 6, 5]\n",
      "(9, 8, 7, 6)\n",
      "[9, 8, 7, 6, 5]\n"
     ]
    }
   ],
   "source": [
    "# When a function has a formal parameter that appears in the paramaeter list\n",
    "# with a leading *, like *args, this accepts zero or more actual arguments.\n",
    "# Those arguments are collected togeter into a tuple. This is conceptually\n",
    "# very similar to assigning to starred targets with assignment statements\n",
    "# and with the match statement. But with assignment statements and the match\n",
    "# statement, a list is created, not a tuple. Demonstrate this difference.\n",
    "stuff = (9, 8, 7, 6, 5, 4)\n",
    "*liststuff, last = stuff\n",
    "print(liststuff)\n",
    "def tupstuff(*inputstuff):\n",
    "    print(inputstuff)\n",
    "tupstuff(9, 8, 7, 6)\n",
    "match stuff:\n",
    "    case *things, lastthing:\n",
    "        print(things)\n",
    "    case _:\n",
    "        print(\"should be more than one thing\")"
   ]
  },
  {
   "cell_type": "code",
   "execution_count": null,
   "id": "95e748ae-a44c-4576-851b-cd10fb1008e8",
   "metadata": {},
   "outputs": [
    {
     "name": "stdout",
     "output_type": "stream",
     "text": [
      "(10, 5, 1)\n",
      "(10, 5, 1)\n",
      "(10, 5, 1)\n"
     ]
    },
    {
     "data": {
      "text/plain": [
       "16"
      ]
     },
     "execution_count": 72,
     "metadata": {},
     "output_type": "execute_result"
    }
   ],
   "source": [
    "def f(*args):\n",
    "    mystery(args)\n",
    "    return g(*args)\n",
    "\n",
    "def g(*args):\n",
    "    mystery(args)\n",
    "    return h(*args)\n",
    "\n",
    "def h(*args):\n",
    "    mystery(args)\n",
    "    return sum(args)\n",
    "\n",
    "def mystery(args):\n",
    "    print(args)\n",
    "\n",
    "f(10, 5, 1)"
   ]
  },
  {
   "cell_type": "code",
   "execution_count": null,
   "id": "03a18a6e-f67a-4a1e-8b94-c0957d8f3186",
   "metadata": {},
   "outputs": [],
   "source": [
    "labels = ['x', 'y', 'z']\n",
    "values = [10.2, 5.3, 7.0]"
   ]
  },
  {
   "cell_type": "code",
   "execution_count": null,
   "id": "18017a3a-a460-4bf0-a240-43eaf9569d73",
   "metadata": {},
   "outputs": [
    {
     "name": "stdout",
     "output_type": "stream",
     "text": [
      "Coordinate 0, the x-coordinate, is 10.2.\n",
      "Coordinate 1, the y-coordinate, is  5.3.\n",
      "Coordinate 2, the z-coordinate, is  7.0.\n"
     ]
    }
   ],
   "source": [
    "# This is OK, but can it be made more Pythonic? Does that improve it?\n",
    "#\n",
    "# There are three main ways to express this. One is with indexing, as\n",
    "# shown. Of the other two, one uses only builtins, while the other uses\n",
    "# something you've seen before from the itertools module. Do both.\n",
    "# Which of the three ways (this, and those) do you prefer in this case?\n",
    "#\n",
    "# Feel free to assume len(labels) == len(values). Don't assume it's 3.\n",
    "for i in range(len(labels)):\n",
    "    print(f'Coordinate {i}, the {labels[i]}-coordinate, is {values[i]:4}.')"
   ]
  },
  {
   "cell_type": "code",
   "execution_count": null,
   "id": "50e6ab36-66ab-4008-973b-5028ea04ff71",
   "metadata": {},
   "outputs": [
    {
     "name": "stdout",
     "output_type": "stream",
     "text": [
      "Coordinate 0, the x-coordinate, is 10.2.\n",
      "Coordinate 1, the y-coordinate, is  5.3.\n",
      "Coordinate 2, the z-coordinate, is  7.0.\n"
     ]
    }
   ],
   "source": [
    "for (index, label), value in zip(enumerate(labels), values):\n",
    "    print(f'Coordinate {index}, the {label}-coordinate, is {value:4}.')"
   ]
  },
  {
   "cell_type": "code",
   "execution_count": null,
   "id": "0548ffd7-5313-443d-a3e9-e96bf941ee71",
   "metadata": {},
   "outputs": [
    {
     "name": "stdout",
     "output_type": "stream",
     "text": [
      "Coordinate 0, the x-coordinate, is 10.2.\n",
      "Coordinate 1, the y-coordinate, is  5.3.\n",
      "Coordinate 2, the z-coordinate, is  7.0.\n"
     ]
    }
   ],
   "source": [
    "for label, (index, value) in zip(labels, enumerate(values)):\n",
    "    print(f'Coordinate {index}, the {label}-coordinate, is {value:4}.')"
   ]
  },
  {
   "cell_type": "code",
   "execution_count": 87,
   "id": "bf544e1a-c1ea-4b70-9343-b23cc242da92",
   "metadata": {},
   "outputs": [
    {
     "name": "stdout",
     "output_type": "stream",
     "text": [
      "Coordinate 0, the x-coordinate, is 10.2.\n",
      "Coordinate 1, the y-coordinate, is  5.3.\n",
      "Coordinate 2, the z-coordinate, is  7.0.\n"
     ]
    }
   ],
   "source": [
    "for index, (label, value) in enumerate(zip(labels, values)):\n",
    "    print(f'Coordinate {index}, the {label}-coordinate, is {value:4}.')"
   ]
  },
  {
   "cell_type": "code",
   "execution_count": 88,
   "id": "712df26b-9099-4909-b564-5f152b793243",
   "metadata": {},
   "outputs": [],
   "source": [
    "import itertools"
   ]
  },
  {
   "cell_type": "code",
   "execution_count": 89,
   "id": "0b94fe14-ed82-41d8-8fe7-5df2082d7cb9",
   "metadata": {},
   "outputs": [
    {
     "data": {
      "text/plain": [
       "['__doc__',\n",
       " '__loader__',\n",
       " '__name__',\n",
       " '__package__',\n",
       " '__spec__',\n",
       " '_grouper',\n",
       " '_tee',\n",
       " '_tee_dataobject',\n",
       " 'accumulate',\n",
       " 'chain',\n",
       " 'combinations',\n",
       " 'combinations_with_replacement',\n",
       " 'compress',\n",
       " 'count',\n",
       " 'cycle',\n",
       " 'dropwhile',\n",
       " 'filterfalse',\n",
       " 'groupby',\n",
       " 'islice',\n",
       " 'pairwise',\n",
       " 'permutations',\n",
       " 'product',\n",
       " 'repeat',\n",
       " 'starmap',\n",
       " 'takewhile',\n",
       " 'tee',\n",
       " 'zip_longest']"
      ]
     },
     "execution_count": 89,
     "metadata": {},
     "output_type": "execute_result"
    }
   ],
   "source": [
    "dir(itertools) "
   ]
  },
  {
   "cell_type": "code",
   "execution_count": 90,
   "id": "a81c80a0-4537-4d52-a351-255cf1016162",
   "metadata": {},
   "outputs": [
    {
     "name": "stdout",
     "output_type": "stream",
     "text": [
      "Help on class count in module itertools:\n",
      "\n",
      "class count(builtins.object)\n",
      " |  count(start=0, step=1)\n",
      " |  \n",
      " |  Return a count object whose .__next__() method returns consecutive values.\n",
      " |  \n",
      " |  Equivalent to:\n",
      " |      def count(firstval=0, step=1):\n",
      " |          x = firstval\n",
      " |          while 1:\n",
      " |              yield x\n",
      " |              x += step\n",
      " |  \n",
      " |  Methods defined here:\n",
      " |  \n",
      " |  __getattribute__(self, name, /)\n",
      " |      Return getattr(self, name).\n",
      " |  \n",
      " |  __iter__(self, /)\n",
      " |      Implement iter(self).\n",
      " |  \n",
      " |  __next__(self, /)\n",
      " |      Implement next(self).\n",
      " |  \n",
      " |  __reduce__(...)\n",
      " |      Return state information for pickling.\n",
      " |  \n",
      " |  __repr__(self, /)\n",
      " |      Return repr(self).\n",
      " |  \n",
      " |  ----------------------------------------------------------------------\n",
      " |  Static methods defined here:\n",
      " |  \n",
      " |  __new__(*args, **kwargs) from builtins.type\n",
      " |      Create and return a new object.  See help(type) for accurate signature.\n",
      "\n"
     ]
    }
   ],
   "source": [
    "help(itertools.count)"
   ]
  },
  {
   "cell_type": "code",
   "execution_count": 103,
   "id": "a94e7806-0182-4259-924d-2eb93885db8e",
   "metadata": {},
   "outputs": [
    {
     "name": "stdout",
     "output_type": "stream",
     "text": [
      "Coordinate 0, the x-coordinate, is 10.2.\n",
      "Coordinate 1, the y-coordinate, is  5.3.\n",
      "Coordinate 2, the z-coordinate, is  7.0.\n"
     ]
    }
   ],
   "source": [
    "for index, label, value in zip(itertools.count(), labels, values):\n",
    "    print(f'Coordinate {index}, the {label}-coordinate, is {value:4}.')"
   ]
  },
  {
   "cell_type": "code",
   "execution_count": null,
   "id": "4b6232ca-0a43-437e-be99-c84a169e1fd5",
   "metadata": {},
   "outputs": [],
   "source": []
  }
 ],
 "metadata": {
  "kernelspec": {
   "display_name": "Python 3 (ipykernel)",
   "language": "python",
   "name": "python3"
  },
  "language_info": {
   "codemirror_mode": {
    "name": "ipython",
    "version": 3
   },
   "file_extension": ".py",
   "mimetype": "text/x-python",
   "name": "python",
   "nbconvert_exporter": "python",
   "pygments_lexer": "ipython3",
   "version": "3.10.2"
  }
 },
 "nbformat": 4,
 "nbformat_minor": 5
}
