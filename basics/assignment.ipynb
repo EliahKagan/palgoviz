{
 "cells": [
  {
   "cell_type": "code",
   "execution_count": 1,
   "id": "4b26cc1f-a584-4cfc-9d66-a2eaa1c6b893",
   "metadata": {},
   "outputs": [],
   "source": [
    "# Run the math module if it hasn't been run.\n",
    "# Assign the module object to the variable named math.\n",
    "import math"
   ]
  },
  {
   "cell_type": "code",
   "execution_count": 2,
   "id": "ab325eb9-399b-40fc-8b12-1c42c8c21f7d",
   "metadata": {},
   "outputs": [],
   "source": [
    "# Run the math module if it hasn't been run.\n",
    "# Assign the module object to the variable named _math.\n",
    "import math as _math"
   ]
  },
  {
   "cell_type": "code",
   "execution_count": 3,
   "id": "cb133594-9a8e-4b74-8ab1-636f17d49e4d",
   "metadata": {},
   "outputs": [
    {
     "data": {
      "text/plain": [
       "<module 'math' (built-in)>"
      ]
     },
     "execution_count": 3,
     "metadata": {},
     "output_type": "execute_result"
    }
   ],
   "source": [
    "math"
   ]
  },
  {
   "cell_type": "code",
   "execution_count": 4,
   "id": "3e6a0993-9c28-472d-b5c3-76a649b77502",
   "metadata": {},
   "outputs": [
    {
     "data": {
      "text/plain": [
       "<module 'math' (built-in)>"
      ]
     },
     "execution_count": 4,
     "metadata": {},
     "output_type": "execute_result"
    }
   ],
   "source": [
    "_math"
   ]
  },
  {
   "cell_type": "code",
   "execution_count": 5,
   "id": "8375acfb-adbd-4571-aa4d-97c38045f63e",
   "metadata": {},
   "outputs": [
    {
     "data": {
      "text/plain": [
       "True"
      ]
     },
     "execution_count": 5,
     "metadata": {},
     "output_type": "execute_result"
    }
   ],
   "source": [
    "math is _math"
   ]
  },
  {
   "cell_type": "code",
   "execution_count": 6,
   "id": "3d18c45d-9ffb-4e62-ab19-24860c8cec5a",
   "metadata": {},
   "outputs": [],
   "source": [
    "# Run the sys and io modules (but don't run one that has been run).\n",
    "# Assign them to the sys and io variables, respectively.\n",
    "import sys, io\n",
    "\n",
    "# But it is better to just do:\n",
    "import sys \n",
    "import io"
   ]
  },
  {
   "cell_type": "code",
   "execution_count": 7,
   "id": "8a76e9f7-c646-4b88-af26-a46c416993d8",
   "metadata": {},
   "outputs": [],
   "source": [
    "# Run the math module if it hasn't been run.\n",
    "# Assign its members sin and cos to varaibles of those names.\n",
    "from math import sin, cos"
   ]
  },
  {
   "cell_type": "code",
   "execution_count": 8,
   "id": "669f33c7-6498-4cc7-853d-75a804e6d711",
   "metadata": {},
   "outputs": [],
   "source": [
    "# Run the sys and io modules (if not run already).\n",
    "# Assign the sys module object to the variable _sys, and the io module object to _io.\n",
    "import sys as _sys, io as _io\n",
    "\n",
    "# But it is better to just do:\n",
    "import sys as _sys\n",
    "import io as _io"
   ]
  },
  {
   "cell_type": "code",
   "execution_count": 9,
   "id": "84d7fde9-ac4d-407d-81a7-ba76f4eb78c1",
   "metadata": {},
   "outputs": [],
   "source": [
    "# Run the math module if it hasn't been run.\n",
    "# Assign its members sin and cos to the _sin and _cos variables, respectively.\n",
    "from math import sin as _sin, cos as _cos"
   ]
  },
  {
   "cell_type": "code",
   "execution_count": 10,
   "id": "1e1974de-ddc8-47a9-88d2-236422a851a8",
   "metadata": {},
   "outputs": [],
   "source": [
    "# Create a function that returns its input, squared.\n",
    "# Assign it to the variable called square.\n",
    "def square(x):\n",
    "    return x**2"
   ]
  },
  {
   "cell_type": "code",
   "execution_count": 11,
   "id": "dea6041b-f703-455a-b4da-fb7db89f43c7",
   "metadata": {},
   "outputs": [],
   "source": [
    "# Assign 3 to the variable x.\n",
    "x = 3"
   ]
  },
  {
   "cell_type": "code",
   "execution_count": 12,
   "id": "eeb5eb79-9584-4ea3-a435-27e63e3f388b",
   "metadata": {},
   "outputs": [],
   "source": [
    "# Assign 5 to the variable y.\n",
    "y = 5"
   ]
  },
  {
   "cell_type": "code",
   "execution_count": 13,
   "id": "da9536f3-34bf-4598-a9c2-3a595e449ddd",
   "metadata": {},
   "outputs": [],
   "source": [
    "# Assign the value of x to y, and the value of y to x.\n",
    "x, y = y, x"
   ]
  },
  {
   "cell_type": "code",
   "execution_count": 14,
   "id": "7f57923f-a597-438f-9993-f59a156850e8",
   "metadata": {},
   "outputs": [
    {
     "data": {
      "text/plain": [
       "5"
      ]
     },
     "execution_count": 14,
     "metadata": {},
     "output_type": "execute_result"
    }
   ],
   "source": [
    "x"
   ]
  },
  {
   "cell_type": "code",
   "execution_count": 15,
   "id": "d74664be-6be6-48dc-b70e-cc2f7018b913",
   "metadata": {},
   "outputs": [
    {
     "data": {
      "text/plain": [
       "3"
      ]
     },
     "execution_count": 15,
     "metadata": {},
     "output_type": "execute_result"
    }
   ],
   "source": [
    "y"
   ]
  },
  {
   "cell_type": "code",
   "execution_count": 16,
   "id": "425befc0-f909-4e7c-8ccf-538c95c230c6",
   "metadata": {},
   "outputs": [],
   "source": [
    "# Assign the string 'ham' to the variables a, b, and c.\n",
    "# Each variable will then refer to the same string object 'ham'.\n",
    "a = 'ham'\n",
    "b = a\n",
    "c = b"
   ]
  },
  {
   "cell_type": "code",
   "execution_count": 17,
   "id": "b97d7eaf-7cb5-466e-94b2-6bec3c357287",
   "metadata": {},
   "outputs": [],
   "source": [
    "a = 'eggs'"
   ]
  },
  {
   "cell_type": "code",
   "execution_count": 18,
   "id": "94b9022e-5fc1-47f6-b36c-590a9d508f17",
   "metadata": {},
   "outputs": [
    {
     "data": {
      "text/plain": [
       "1952294271280"
      ]
     },
     "execution_count": 18,
     "metadata": {},
     "output_type": "execute_result"
    }
   ],
   "source": [
    "id(c)"
   ]
  },
  {
   "cell_type": "code",
   "execution_count": 19,
   "id": "5f6f736f-5f2f-4c2c-9e80-e68f974b9cf2",
   "metadata": {},
   "outputs": [
    {
     "data": {
      "text/plain": [
       "1952294271280"
      ]
     },
     "execution_count": 19,
     "metadata": {},
     "output_type": "execute_result"
    }
   ],
   "source": [
    "id(b)"
   ]
  },
  {
   "cell_type": "code",
   "execution_count": 20,
   "id": "50e260c2-e7f2-4064-9c62-45342764f284",
   "metadata": {},
   "outputs": [],
   "source": [
    "del a, b, c"
   ]
  },
  {
   "cell_type": "code",
   "execution_count": 21,
   "id": "bfcd38e2-467a-44b7-9eba-50240d90ad7f",
   "metadata": {},
   "outputs": [],
   "source": [
    "# Assign 1-character strings -- the letters of 'ham' -- to variables a, b, and c.\n",
    "a, b, c = 'ham'"
   ]
  },
  {
   "cell_type": "code",
   "execution_count": 22,
   "id": "7d2fe71a-8980-4a42-b344-fdaddb78ec3b",
   "metadata": {},
   "outputs": [
    {
     "data": {
      "text/plain": [
       "('h', 'a', 'm')"
      ]
     },
     "execution_count": 22,
     "metadata": {},
     "output_type": "execute_result"
    }
   ],
   "source": [
    "(a, b, c)"
   ]
  },
  {
   "cell_type": "code",
   "execution_count": 23,
   "id": "9f8f5a12-f01d-46aa-bb2f-aa07fe8da704",
   "metadata": {},
   "outputs": [],
   "source": [
    "# With a SINGLE statement, assign the string 'ham' to the variables a, b, and c.\n",
    "# Each variable will then refer to the same string object 'ham'.\n",
    "a = b = c = 'ham'"
   ]
  },
  {
   "cell_type": "code",
   "execution_count": 24,
   "id": "e8e8482d-d479-4a92-9605-9e39cae99b0f",
   "metadata": {},
   "outputs": [
    {
     "data": {
      "text/plain": [
       "('ham', 'ham', 'ham')"
      ]
     },
     "execution_count": 24,
     "metadata": {},
     "output_type": "execute_result"
    }
   ],
   "source": [
    "(a, b, c)"
   ]
  },
  {
   "cell_type": "code",
   "execution_count": 25,
   "id": "1785cbdb-e29e-40a6-b551-2d916b3ad602",
   "metadata": {},
   "outputs": [
    {
     "data": {
      "text/plain": [
       "[1952294398768, 1952294398768, 1952294398768]"
      ]
     },
     "execution_count": 25,
     "metadata": {},
     "output_type": "execute_result"
    }
   ],
   "source": [
    "[id(x) for x in (a, b, c)]"
   ]
  },
  {
   "cell_type": "code",
   "execution_count": 26,
   "id": "899da58c-44d2-439f-8f17-bdce3b4173bb",
   "metadata": {},
   "outputs": [],
   "source": [
    "stuff = [10, (20, [30, 40], 50)]\n",
    "# With an assignment statement whose right-hand side is just the variable stuff,\n",
    "# assign the numbers 10, 20, 30, 40, and 50 to the variables a, b, c, d, and e.\n",
    "a, (b, (c, d), e) = stuff"
   ]
  },
  {
   "cell_type": "code",
   "execution_count": 27,
   "id": "23659b52-75f2-4fd5-bde2-e7a37e2d4a7e",
   "metadata": {},
   "outputs": [
    {
     "data": {
      "text/plain": [
       "[10, 20, 30, 40, 50]"
      ]
     },
     "execution_count": 27,
     "metadata": {},
     "output_type": "execute_result"
    }
   ],
   "source": [
    "[a, b, c, d, e]"
   ]
  },
  {
   "cell_type": "code",
   "execution_count": 28,
   "id": "87e814c5-33f2-46a7-a78f-44bbc4e30177",
   "metadata": {},
   "outputs": [],
   "source": [
    "a = b = c = d = e = 0\n",
    "# With a match statement on an expression that is just the variable stuff,\n",
    "# assign 10, 20, and 30 to a, b, and c, and assign 50 to e, without\n",
    "# assigning 40 to any variable. Furthermore, if the structure of stuff is\n",
    "# anything other than the structure it has above, then don't perform any\n",
    "# assignments, but do print a message.\n",
    "match stuff:\n",
    "    case [a, [b, [c, _], e]]:\n",
    "        pass\n",
    "    case _:\n",
    "        print('structure of stuff is wrong')"
   ]
  },
  {
   "cell_type": "code",
   "execution_count": 29,
   "id": "42d1ae30-c087-4302-b1cf-62233bb286ba",
   "metadata": {},
   "outputs": [
    {
     "data": {
      "text/plain": [
       "[10, 20, 30, 0, 50]"
      ]
     },
     "execution_count": 29,
     "metadata": {},
     "output_type": "execute_result"
    }
   ],
   "source": [
    "[a, b, c, d, e]"
   ]
  },
  {
   "cell_type": "code",
   "execution_count": 30,
   "id": "370a68d2-52c5-4e18-88e7-411912321a49",
   "metadata": {},
   "outputs": [],
   "source": [
    "stuff = 0"
   ]
  },
  {
   "cell_type": "code",
   "execution_count": 31,
   "id": "deddd526-42c2-4924-9c71-7ce5dc3d9b29",
   "metadata": {},
   "outputs": [
    {
     "name": "stdout",
     "output_type": "stream",
     "text": [
      "structure of stuff is wrong\n"
     ]
    }
   ],
   "source": [
    "match stuff:\n",
    "    case [a, [b, [c, _], e]]:\n",
    "        pass\n",
    "    case _:\n",
    "        print('structure of stuff is wrong')"
   ]
  },
  {
   "cell_type": "code",
   "execution_count": 32,
   "id": "af7bb111-d4d6-4cd6-b940-883e04ec81c0",
   "metadata": {
    "tags": [
     "raises-exception"
    ]
   },
   "outputs": [],
   "source": [
    "# Assign the string 'Ow!' to a variable named len. This shadows the builtin\n",
    "# function len (which is why it should never be done, except for demonstration\n",
    "# purposes).\n",
    "len = 'Ow!'"
   ]
  },
  {
   "cell_type": "code",
   "execution_count": 33,
   "id": "4fce873f-1ab7-4b8e-beb5-e2b802f70d7d",
   "metadata": {},
   "outputs": [
    {
     "data": {
      "text/plain": [
       "'Ow!'"
      ]
     },
     "execution_count": 33,
     "metadata": {},
     "output_type": "execute_result"
    }
   ],
   "source": [
    "len"
   ]
  },
  {
   "cell_type": "code",
   "execution_count": 34,
   "id": "f4e83acf-dcab-4f84-9e0f-ae43e9a678a2",
   "metadata": {
    "tags": [
     "raises-exception"
    ]
   },
   "outputs": [
    {
     "ename": "TypeError",
     "evalue": "'str' object is not callable",
     "output_type": "error",
     "traceback": [
      "\u001b[1;31m---------------------------------------------------------------------------\u001b[0m",
      "\u001b[1;31mTypeError\u001b[0m                                 Traceback (most recent call last)",
      "Input \u001b[1;32mIn [34]\u001b[0m, in \u001b[0;36m<module>\u001b[1;34m\u001b[0m\n\u001b[1;32m----> 1\u001b[0m \u001b[38;5;28;43mlen\u001b[39;49m\u001b[43m(\u001b[49m\u001b[38;5;124;43m'\u001b[39;49m\u001b[38;5;124;43mow!\u001b[39;49m\u001b[38;5;124;43m'\u001b[39;49m\u001b[43m)\u001b[49m\n",
      "\u001b[1;31mTypeError\u001b[0m: 'str' object is not callable"
     ]
    }
   ],
   "source": [
    "len('ow!')"
   ]
  },
  {
   "cell_type": "code",
   "execution_count": 35,
   "id": "a753857c-100f-4c21-9cd7-e22841ffbc47",
   "metadata": {
    "tags": [
     "raises-exception"
    ]
   },
   "outputs": [],
   "source": [
    "# Although len in the builtin scope was shadowed by the presence of len in\n",
    "# the global scope, it was not deleted. Get rid of len in the global scope,\n",
    "# and show that this restores access to len in the builtin scope.\n",
    "del len"
   ]
  },
  {
   "cell_type": "code",
   "execution_count": 36,
   "id": "ab3b42d6-c276-493a-acd0-ab83ec668afd",
   "metadata": {},
   "outputs": [
    {
     "data": {
      "text/plain": [
       "3"
      ]
     },
     "execution_count": 36,
     "metadata": {},
     "output_type": "execute_result"
    }
   ],
   "source": [
    "len('ow!')"
   ]
  },
  {
   "cell_type": "code",
   "execution_count": 37,
   "id": "d783f8e4-18cf-40f4-840b-d3cd9c58b05c",
   "metadata": {
    "tags": [
     "raises-exception"
    ]
   },
   "outputs": [
    {
     "ename": "UnboundLocalError",
     "evalue": "local variable 'len' referenced before assignment",
     "output_type": "error",
     "traceback": [
      "\u001b[1;31m---------------------------------------------------------------------------\u001b[0m",
      "\u001b[1;31mUnboundLocalError\u001b[0m                         Traceback (most recent call last)",
      "Input \u001b[1;32mIn [37]\u001b[0m, in \u001b[0;36m<module>\u001b[1;34m\u001b[0m\n\u001b[0;32m      6\u001b[0m     \u001b[38;5;28;01mdel\u001b[39;00m \u001b[38;5;28mlen\u001b[39m\n\u001b[0;32m      7\u001b[0m     \u001b[38;5;28mprint\u001b[39m(\u001b[38;5;28mlen\u001b[39m(\u001b[38;5;124m'\u001b[39m\u001b[38;5;124mhello\u001b[39m\u001b[38;5;124m'\u001b[39m))\n\u001b[1;32m----> 9\u001b[0m \u001b[43mtestscopes\u001b[49m\u001b[43m(\u001b[49m\u001b[43m)\u001b[49m\n",
      "Input \u001b[1;32mIn [37]\u001b[0m, in \u001b[0;36mtestscopes\u001b[1;34m()\u001b[0m\n\u001b[0;32m      5\u001b[0m \u001b[38;5;28mlen\u001b[39m \u001b[38;5;241m=\u001b[39m \u001b[38;5;124m'\u001b[39m\u001b[38;5;124mOw!\u001b[39m\u001b[38;5;124m'\u001b[39m\n\u001b[0;32m      6\u001b[0m \u001b[38;5;28;01mdel\u001b[39;00m \u001b[38;5;28mlen\u001b[39m\n\u001b[1;32m----> 7\u001b[0m \u001b[38;5;28mprint\u001b[39m(\u001b[38;5;28;43mlen\u001b[39;49m(\u001b[38;5;124m'\u001b[39m\u001b[38;5;124mhello\u001b[39m\u001b[38;5;124m'\u001b[39m))\n",
      "\u001b[1;31mUnboundLocalError\u001b[0m: local variable 'len' referenced before assignment"
     ]
    }
   ],
   "source": [
    "# Suppose we have a function with a local variable called len. Can deleting\n",
    "# that local variable restore access to the builtin len, in that function?\n",
    "# Please write a function that demonstrates whether or not it can.\n",
    "def testscopes():\n",
    "    len = 'Ow!'\n",
    "    del len\n",
    "    print(len('hello'))\n",
    "\n",
    "testscopes()"
   ]
  },
  {
   "cell_type": "code",
   "execution_count": 38,
   "id": "2368e4fc-2825-4422-b9f7-df8075f70b98",
   "metadata": {},
   "outputs": [],
   "source": [
    "# Some very important information we really don't want to lose.\n",
    "hello = 'The gold is in safe deposit #9A44515 at the Hello World Bank of Switzerland or something.'\n",
    "\n",
    "# Demonstrate why * imports are only considered reasonable for interactive testing.\n",
    "from greet import *"
   ]
  },
  {
   "cell_type": "code",
   "execution_count": 39,
   "id": "756d6f71-5e5f-4029-a268-b0edeefa20c5",
   "metadata": {},
   "outputs": [
    {
     "data": {
      "text/plain": [
       "<function greet.hello(name, lang='en')>"
      ]
     },
     "execution_count": 39,
     "metadata": {},
     "output_type": "execute_result"
    }
   ],
   "source": [
    "hello"
   ]
  },
  {
   "cell_type": "code",
   "execution_count": 40,
   "id": "860e573e-5b6b-4955-a0fe-192f6f122127",
   "metadata": {},
   "outputs": [],
   "source": [
    "# TODO: Find out the actual semantics of _ in interactive python and in IPython/Jupyter."
   ]
  },
  {
   "cell_type": "code",
   "execution_count": 43,
   "id": "a74ee727-849a-4725-a8d6-7b2d2488b2f7",
   "metadata": {},
   "outputs": [
    {
     "name": "stdout",
     "output_type": "stream",
     "text": [
      "got here\n",
      "<function hello at 0x000001C68F752200>\n"
     ]
    }
   ],
   "source": [
    "# In a fuction (to avoid messing with the special significance of _ in interactive\n",
    "# Python interpreters), show that using _ as a discard in a match statement does not\n",
    "# assign to _ and does not even cause it to become a local variable.\n",
    "def underfunction():\n",
    "    mystuff = 10\n",
    "    match mystuff:\n",
    "        case _:\n",
    "            print ('got here')\n",
    "            print (_)\n",
    "            \n",
    "underfunction()"
   ]
  },
  {
   "cell_type": "code",
   "execution_count": 44,
   "id": "8ad16a9d-1dda-4bcd-bd97-0341a8274fb8",
   "metadata": {},
   "outputs": [
    {
     "name": "stdout",
     "output_type": "stream",
     "text": [
      "5\n",
      "4\n"
     ]
    }
   ],
   "source": [
    "# In a fuction (to avoid messing with the special significance of _ in interactive\n",
    "# Python interpreters), show that using _ like a discard in an assignment statement\n",
    "# DOES assign to _.\n",
    "def unassfunction():\n",
    "    _ = 4\n",
    "    x = 5\n",
    "    print (x)\n",
    "    print (_)\n",
    "unassfunction()"
   ]
  },
  {
   "cell_type": "code",
   "execution_count": 46,
   "id": "d50608b8-88ad-47aa-8e35-d6399594de6b",
   "metadata": {},
   "outputs": [
    {
     "name": "stdout",
     "output_type": "stream",
     "text": [
      "10\n",
      "20\n",
      "30\n",
      "40\n",
      "50\n",
      "60\n",
      "70\n"
     ]
    }
   ],
   "source": [
    "values = [10, 20, 30, 40, 50, 60, 70]\n",
    "# For each value in values, assign it to the variable x and print x.\n",
    "for x in values:\n",
    "    print (x)"
   ]
  },
  {
   "cell_type": "code",
   "execution_count": 51,
   "id": "42ca474c-ae7c-43be-b8ba-5faa83d88458",
   "metadata": {},
   "outputs": [
    {
     "name": "stdout",
     "output_type": "stream",
     "text": [
      "x='cat'\n",
      "xs=['dog', 'horse', 'bat', 'eagle']\n",
      "x='banker'\n",
      "xs=['butcher', 'candlestick maker']\n",
      "x=10\n",
      "xs=[20, 30, 40, 50, 50, 60]\n"
     ]
    }
   ],
   "source": [
    "table = [['cat', 'dog', 'horse', 'bat', 'eagle'],\n",
    "         ['banker', 'butcher', 'candlestick maker'],\n",
    "         [10, 20, 30, 40, 50, 50, 60]]\n",
    "# For each row of table, assign the first element to x and a list of all the\n",
    "# other elements to xs, then print them both (formatted however you like).\n",
    "for row in table:\n",
    "    i = iter(row)\n",
    "    x = next(i)\n",
    "    xs = []\n",
    "    while True:\n",
    "        try: \n",
    "            xs.append(next(i))\n",
    "        except StopIteration:\n",
    "            break\n",
    "    print(f'{x=}')\n",
    "    print(f'{xs=}')"
   ]
  },
  {
   "cell_type": "code",
   "execution_count": null,
   "id": "87b8d8d9-f06b-4a8a-a376-b50aa53b3739",
   "metadata": {},
   "outputs": [],
   "source": []
  }
 ],
 "metadata": {
  "kernelspec": {
   "display_name": "Python 3 (ipykernel)",
   "language": "python",
   "name": "python3"
  },
  "language_info": {
   "codemirror_mode": {
    "name": "ipython",
    "version": 3
   },
   "file_extension": ".py",
   "mimetype": "text/x-python",
   "name": "python",
   "nbconvert_exporter": "python",
   "pygments_lexer": "ipython3",
   "version": "3.10.2"
  }
 },
 "nbformat": 4,
 "nbformat_minor": 5
}
