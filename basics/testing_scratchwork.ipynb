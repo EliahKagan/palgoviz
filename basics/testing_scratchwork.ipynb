{
 "cells": [
  {
   "cell_type": "code",
   "execution_count": 1,
   "id": "e8b796f3-ddf7-478f-9f79-ed417bfc9774",
   "metadata": {},
   "outputs": [],
   "source": [
    "import unittest"
   ]
  },
  {
   "cell_type": "code",
   "execution_count": 2,
   "id": "cb450465-532a-4584-94e3-c55ac0f51ec6",
   "metadata": {},
   "outputs": [],
   "source": [
    "import test_recursion"
   ]
  },
  {
   "cell_type": "code",
   "execution_count": 3,
   "id": "c46bd3d3-662a-4c31-85d8-be176b93b819",
   "metadata": {},
   "outputs": [],
   "source": [
    "shared = set(dir(unittest.TestCase))"
   ]
  },
  {
   "cell_type": "code",
   "execution_count": 4,
   "id": "88b17ffa-26bb-4fcb-bf5a-aad5689e9dcf",
   "metadata": {},
   "outputs": [
    {
     "data": {
      "text/plain": [
       "['OrderIndistinct',\n",
       " 'TestMergeSort',\n",
       " 'TestMergeSort_0_merge_sort',\n",
       " 'TestMergeSort_10_merge_sort_bottom_up_stable',\n",
       " 'TestMergeSort_11_merge_sort_bottom_up_stable',\n",
       " 'TestMergeSort_1_merge_sort',\n",
       " 'TestMergeSort_2_merge_sort',\n",
       " 'TestMergeSort_3_merge_sort',\n",
       " 'TestMergeSort_4_merge_sort_bottom_up_unstable',\n",
       " 'TestMergeSort_5_merge_sort_bottom_up_unstable',\n",
       " 'TestMergeSort_6_merge_sort_bottom_up_unstable',\n",
       " 'TestMergeSort_7_merge_sort_bottom_up_unstable',\n",
       " 'TestMergeSort_8_merge_sort_bottom_up_stable',\n",
       " 'TestMergeSort_9_merge_sort_bottom_up_stable',\n",
       " 'TestTwoWayMergers',\n",
       " 'TestTwoWayMergers_0_merge_two_slow',\n",
       " 'TestTwoWayMergers_1_merge_two',\n",
       " 'TestTwoWayMergers_2_merge_two_alt',\n",
       " 'WeakDiamond',\n",
       " '_COMBINED_PARAMS',\n",
       " '_MERGE_PARAMS',\n",
       " '_SORT_PARAMS',\n",
       " '__builtins__',\n",
       " '__cached__',\n",
       " '__doc__',\n",
       " '__file__',\n",
       " '__loader__',\n",
       " '__name__',\n",
       " '__package__',\n",
       " '__spec__',\n",
       " 'merge_sort',\n",
       " 'merge_sort_bottom_up_stable',\n",
       " 'merge_sort_bottom_up_unstable',\n",
       " 'merge_two',\n",
       " 'merge_two_alt',\n",
       " 'merge_two_slow',\n",
       " 'parameterized_class',\n",
       " 'unittest']"
      ]
     },
     "execution_count": 4,
     "metadata": {},
     "output_type": "execute_result"
    }
   ],
   "source": [
    "dir(test_recursion)"
   ]
  },
  {
   "cell_type": "code",
   "execution_count": 5,
   "id": "9ab6b09e-3762-4bf5-a811-db45e78123d0",
   "metadata": {},
   "outputs": [
    {
     "ename": "AttributeError",
     "evalue": "module 'test_recursion' has no attribute 'TestMergeSort_1_merge_two_slow'",
     "output_type": "error",
     "traceback": [
      "\u001b[1;31m---------------------------------------------------------------------------\u001b[0m",
      "\u001b[1;31mAttributeError\u001b[0m                            Traceback (most recent call last)",
      "Input \u001b[1;32mIn [5]\u001b[0m, in \u001b[0;36m<cell line: 1>\u001b[1;34m()\u001b[0m\n\u001b[1;32m----> 1\u001b[0m stuff \u001b[38;5;241m=\u001b[39m \u001b[38;5;28mset\u001b[39m(\u001b[38;5;28mdir\u001b[39m(\u001b[43mtest_recursion\u001b[49m\u001b[38;5;241;43m.\u001b[39;49m\u001b[43mTestMergeSort_1_merge_two_slow\u001b[49m))\n",
      "\u001b[1;31mAttributeError\u001b[0m: module 'test_recursion' has no attribute 'TestMergeSort_1_merge_two_slow'"
     ]
    }
   ],
   "source": [
    "stuff = set(dir(test_recursion.TestMergeSort_1_merge_two_slow))"
   ]
  },
  {
   "cell_type": "code",
   "execution_count": null,
   "id": "38b4bdec-e8f1-40a4-9113-1e8b9bafc044",
   "metadata": {},
   "outputs": [],
   "source": [
    "my_stuff = stuff - shared"
   ]
  },
  {
   "cell_type": "code",
   "execution_count": null,
   "id": "074a14db-abc9-43cc-96ea-27ee82d94396",
   "metadata": {},
   "outputs": [],
   "source": [
    "my_stuff"
   ]
  },
  {
   "cell_type": "code",
   "execution_count": null,
   "id": "01c0abef-6bf2-4c34-b24b-cefcdd2cee87",
   "metadata": {},
   "outputs": [],
   "source": [
    "ms_stuff = set(dir(test_recursion.TestMergeSort)) - shared"
   ]
  },
  {
   "cell_type": "code",
   "execution_count": null,
   "id": "5b449fc9-3048-4af0-a21d-bca2c3111352",
   "metadata": {},
   "outputs": [],
   "source": [
    "ms_stuff"
   ]
  },
  {
   "cell_type": "markdown",
   "id": "13d00b2f-e121-4553-9ae9-c271b1c66768",
   "metadata": {},
   "source": [
    "This is happening because `@parameterized_class` removes test methods from the origina class so that test runners do not wrongly attempt to run the original class -- only the classes it creates should have test discovery run on them and find tests."
   ]
  },
  {
   "cell_type": "code",
   "execution_count": null,
   "id": "771bc6a3-529c-4d6b-a34d-07f34b0f058a",
   "metadata": {},
   "outputs": [],
   "source": []
  }
 ],
 "metadata": {
  "kernelspec": {
   "display_name": "Python 3 (ipykernel)",
   "language": "python",
   "name": "python3"
  },
  "language_info": {
   "codemirror_mode": {
    "name": "ipython",
    "version": 3
   },
   "file_extension": ".py",
   "mimetype": "text/x-python",
   "name": "python",
   "nbconvert_exporter": "python",
   "pygments_lexer": "ipython3",
   "version": "3.10.4"
  }
 },
 "nbformat": 4,
 "nbformat_minor": 5
}
