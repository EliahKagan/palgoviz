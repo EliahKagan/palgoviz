{
 "cells": [
  {
   "cell_type": "markdown",
   "id": "4886d3c6-eaec-450b-8e19-596f30b09753",
   "metadata": {},
   "source": [
    "# Expressions"
   ]
  },
  {
   "cell_type": "code",
   "execution_count": 1,
   "id": "353aaed8-3c22-4619-aaca-6af668b66354",
   "metadata": {},
   "outputs": [],
   "source": [
    "a = [\"item1\", \"item2\", \"item3\"]"
   ]
  },
  {
   "cell_type": "code",
   "execution_count": 2,
   "id": "48a5c724",
   "metadata": {},
   "outputs": [],
   "source": [
    "a = [\"item1\", \"item2\", \"item3\"]"
   ]
  },
  {
   "cell_type": "code",
   "execution_count": 3,
   "id": "8be364ee-02e4-4482-93d2-d7b2e1fd6770",
   "metadata": {},
   "outputs": [
    {
     "data": {
      "text/plain": [
       "['item1', 'item2', 'item3']"
      ]
     },
     "execution_count": 3,
     "metadata": {},
     "output_type": "execute_result"
    }
   ],
   "source": [
    "a"
   ]
  },
  {
   "cell_type": "code",
   "execution_count": 4,
   "id": "8122d6c8-44a8-4e75-aaff-650fe2ad9c32",
   "metadata": {},
   "outputs": [
    {
     "data": {
      "text/plain": [
       "'item2'"
      ]
     },
     "execution_count": 4,
     "metadata": {},
     "output_type": "execute_result"
    }
   ],
   "source": [
    "a[1]"
   ]
  },
  {
   "cell_type": "code",
   "execution_count": 5,
   "id": "81fb5efb-da61-4c0c-b383-edd23f1a6d6a",
   "metadata": {},
   "outputs": [],
   "source": [
    "a[1] = 'someothervalue'"
   ]
  },
  {
   "cell_type": "code",
   "execution_count": 6,
   "id": "a29ae79c-589d-4714-8398-f68c49972ee7",
   "metadata": {},
   "outputs": [
    {
     "data": {
      "text/plain": [
       "'someothervalue'"
      ]
     },
     "execution_count": 6,
     "metadata": {},
     "output_type": "execute_result"
    }
   ],
   "source": [
    "a[1]"
   ]
  },
  {
   "cell_type": "code",
   "execution_count": 7,
   "id": "6cd18928-4476-4045-ade4-5eec6dbc986c",
   "metadata": {},
   "outputs": [
    {
     "data": {
      "text/plain": [
       "['item1', 'someothervalue', 'item3']"
      ]
     },
     "execution_count": 7,
     "metadata": {},
     "output_type": "execute_result"
    }
   ],
   "source": [
    "a"
   ]
  },
  {
   "cell_type": "code",
   "execution_count": 8,
   "id": "1c3b60ed-1912-41d8-a6db-35e524640db7",
   "metadata": {},
   "outputs": [],
   "source": [
    "t = (1,2)"
   ]
  },
  {
   "cell_type": "code",
   "execution_count": 9,
   "id": "d954aceb-3e6c-4c00-9928-016da164045a",
   "metadata": {},
   "outputs": [
    {
     "data": {
      "text/plain": [
       "1"
      ]
     },
     "execution_count": 9,
     "metadata": {},
     "output_type": "execute_result"
    }
   ],
   "source": [
    "t[0]"
   ]
  },
  {
   "cell_type": "code",
   "execution_count": 10,
   "id": "fbf763a9-6cee-4593-8ecd-04b14d7f2465",
   "metadata": {},
   "outputs": [
    {
     "data": {
      "text/plain": [
       "2"
      ]
     },
     "execution_count": 10,
     "metadata": {},
     "output_type": "execute_result"
    }
   ],
   "source": [
    "t[1]"
   ]
  },
  {
   "cell_type": "code",
   "execution_count": 11,
   "id": "05bbe794-e0e3-4242-95b6-d96e25253e2f",
   "metadata": {},
   "outputs": [],
   "source": [
    "# t[1] = 1  # Throws a TypeError because tuples don't support item assignment."
   ]
  },
  {
   "cell_type": "code",
   "execution_count": 12,
   "id": "39266fbd-22f1-4b42-a822-4b54f90e0a40",
   "metadata": {},
   "outputs": [
    {
     "data": {
      "text/plain": [
       "{'rabbit': 5, 'mule': 4}"
      ]
     },
     "execution_count": 12,
     "metadata": {},
     "output_type": "execute_result"
    }
   ],
   "source": [
    "d = {'rabbit': 5, 'mule': 4}\n",
    "d"
   ]
  },
  {
   "cell_type": "code",
   "execution_count": 13,
   "id": "b6d63076-c7d2-4e8c-9de9-e1b50d21fd54",
   "metadata": {},
   "outputs": [],
   "source": [
    "t = 0, 1, 2, 3, 4"
   ]
  },
  {
   "cell_type": "code",
   "execution_count": 14,
   "id": "593c6be8-074b-4a31-8da2-050b7e91bba4",
   "metadata": {},
   "outputs": [
    {
     "data": {
      "text/plain": [
       "(0, 1, 2, 3, 4)"
      ]
     },
     "execution_count": 14,
     "metadata": {},
     "output_type": "execute_result"
    }
   ],
   "source": [
    "t"
   ]
  },
  {
   "cell_type": "code",
   "execution_count": 15,
   "id": "bfa02e71-0e2e-4cee-9795-63027048502f",
   "metadata": {},
   "outputs": [],
   "source": [
    "t = ('a', 'b', 'c', 'd')"
   ]
  },
  {
   "cell_type": "code",
   "execution_count": 16,
   "id": "3f86c7d3-642b-426b-9932-f4c85171a368",
   "metadata": {},
   "outputs": [
    {
     "data": {
      "text/plain": [
       "('a', 'b', 'c', 'd')"
      ]
     },
     "execution_count": 16,
     "metadata": {},
     "output_type": "execute_result"
    }
   ],
   "source": [
    "t"
   ]
  },
  {
   "cell_type": "code",
   "execution_count": 17,
   "id": "c9c2f215-2da7-40fa-9051-a9783b7e45d0",
   "metadata": {},
   "outputs": [],
   "source": [
    "def join_names(first, last):\n",
    "    \"\"\"Returns a full name in two forms.\"\"\"\n",
    "    return f'{first} {last}', f'{last}, {first}'"
   ]
  },
  {
   "cell_type": "code",
   "execution_count": 18,
   "id": "5d1a8fb5-75da-4559-8dc0-fcb4cd1c18bf",
   "metadata": {},
   "outputs": [],
   "source": [
    "informal, formal = join_names('Eliah', 'Kagan')"
   ]
  },
  {
   "cell_type": "code",
   "execution_count": 19,
   "id": "6fc6f6ef-e837-4e9c-ba02-b94c97e29742",
   "metadata": {},
   "outputs": [
    {
     "data": {
      "text/plain": [
       "'Eliah Kagan'"
      ]
     },
     "execution_count": 19,
     "metadata": {},
     "output_type": "execute_result"
    }
   ],
   "source": [
    "informal"
   ]
  },
  {
   "cell_type": "code",
   "execution_count": 20,
   "id": "49cc3793-9a7d-4216-a3f4-90dfcf291bb4",
   "metadata": {},
   "outputs": [
    {
     "data": {
      "text/plain": [
       "'Kagan, Eliah'"
      ]
     },
     "execution_count": 20,
     "metadata": {},
     "output_type": "execute_result"
    }
   ],
   "source": [
    "formal"
   ]
  },
  {
   "cell_type": "code",
   "execution_count": 21,
   "id": "76e06341-fcdf-43e0-bf35-c6fd21137257",
   "metadata": {},
   "outputs": [],
   "source": [
    "x = 10\n",
    "y = 20"
   ]
  },
  {
   "cell_type": "code",
   "execution_count": 22,
   "id": "b9225a5e-9d5a-46ad-8a80-3bec2aca1d17",
   "metadata": {},
   "outputs": [],
   "source": [
    "x, y = y, x"
   ]
  },
  {
   "cell_type": "code",
   "execution_count": 23,
   "id": "026088d1-9179-4ecf-bc4f-c6b2c0676f7c",
   "metadata": {},
   "outputs": [
    {
     "data": {
      "text/plain": [
       "20"
      ]
     },
     "execution_count": 23,
     "metadata": {},
     "output_type": "execute_result"
    }
   ],
   "source": [
    "x"
   ]
  },
  {
   "cell_type": "code",
   "execution_count": 24,
   "id": "0c99be24-b653-492b-96d8-3183454dcb97",
   "metadata": {},
   "outputs": [
    {
     "data": {
      "text/plain": [
       "10"
      ]
     },
     "execution_count": 24,
     "metadata": {},
     "output_type": "execute_result"
    }
   ],
   "source": [
    "y"
   ]
  },
  {
   "cell_type": "code",
   "execution_count": 25,
   "id": "551c1c13-a39b-497f-8f92-feb46760d7f1",
   "metadata": {},
   "outputs": [],
   "source": [
    "rhs = ['foo', ['bar', 'baz']]\n",
    "[p, [q, r]] = rhs"
   ]
  },
  {
   "cell_type": "code",
   "execution_count": 26,
   "id": "331a8edd-7888-442f-a315-10e0b6b9c37f",
   "metadata": {},
   "outputs": [
    {
     "data": {
      "text/plain": [
       "'foo'"
      ]
     },
     "execution_count": 26,
     "metadata": {},
     "output_type": "execute_result"
    }
   ],
   "source": [
    "p"
   ]
  },
  {
   "cell_type": "code",
   "execution_count": 27,
   "id": "1e227134-1aa9-4c89-a4e6-b6193fcdef9a",
   "metadata": {},
   "outputs": [
    {
     "data": {
      "text/plain": [
       "'bar'"
      ]
     },
     "execution_count": 27,
     "metadata": {},
     "output_type": "execute_result"
    }
   ],
   "source": [
    "q"
   ]
  },
  {
   "cell_type": "code",
   "execution_count": 28,
   "id": "70df2079-fe9b-46b1-9637-45f871b16040",
   "metadata": {},
   "outputs": [
    {
     "data": {
      "text/plain": [
       "'baz'"
      ]
     },
     "execution_count": 28,
     "metadata": {},
     "output_type": "execute_result"
    }
   ],
   "source": [
    "r"
   ]
  },
  {
   "cell_type": "code",
   "execution_count": 29,
   "id": "c67c453e-5c60-4f3d-bfeb-8435a03cdfa1",
   "metadata": {},
   "outputs": [
    {
     "data": {
      "text/plain": [
       "{'rabbit': 5, 'mule': 4}"
      ]
     },
     "execution_count": 29,
     "metadata": {},
     "output_type": "execute_result"
    }
   ],
   "source": [
    "d"
   ]
  },
  {
   "cell_type": "code",
   "execution_count": 30,
   "id": "a0f0b694-caef-46f0-b755-243bd55bc380",
   "metadata": {},
   "outputs": [],
   "source": [
    "d2 = {\n",
    "    'ussr': 1,\n",
    "    'usa': 2,\n",
    "    'uk': 3,\n",
    "}"
   ]
  },
  {
   "cell_type": "code",
   "execution_count": 31,
   "id": "699cbd82-25e8-4809-8a44-7d3b501fa5df",
   "metadata": {},
   "outputs": [
    {
     "data": {
      "text/plain": [
       "{'ussr': 1, 'usa': 2, 'uk': 3}"
      ]
     },
     "execution_count": 31,
     "metadata": {},
     "output_type": "execute_result"
    }
   ],
   "source": [
    "d2"
   ]
  },
  {
   "cell_type": "code",
   "execution_count": 32,
   "id": "2f8d412d-3141-4ddd-a0b0-64842a989841",
   "metadata": {},
   "outputs": [
    {
     "data": {
      "text/plain": [
       "{10, 20, 30, 40, 50}"
      ]
     },
     "execution_count": 32,
     "metadata": {},
     "output_type": "execute_result"
    }
   ],
   "source": [
    "s = {10, 20, 30, 40, 50}\n",
    "s"
   ]
  },
  {
   "cell_type": "code",
   "execution_count": 33,
   "id": "122500de-8a4b-4d08-b2a5-33c3da0187bd",
   "metadata": {},
   "outputs": [],
   "source": [
    "# A set contains only KEYS."
   ]
  },
  {
   "cell_type": "code",
   "execution_count": 34,
   "id": "872e94d7-a23d-4075-ba14-ba18e30483fa",
   "metadata": {},
   "outputs": [],
   "source": [
    "d3  = {(1,1) : 4, (1,2): 5}"
   ]
  },
  {
   "cell_type": "code",
   "execution_count": 35,
   "id": "578d7f6a-97ae-477b-8605-0513a56bc132",
   "metadata": {},
   "outputs": [
    {
     "data": {
      "text/plain": [
       "5"
      ]
     },
     "execution_count": 35,
     "metadata": {},
     "output_type": "execute_result"
    }
   ],
   "source": [
    "d3 [(1,2)]"
   ]
  },
  {
   "cell_type": "code",
   "execution_count": 36,
   "id": "babb2c38-f5f5-47f0-81b3-bd0194f5284c",
   "metadata": {},
   "outputs": [],
   "source": [
    "tlis = (['oh', 'fuck'], 'it')"
   ]
  },
  {
   "cell_type": "code",
   "execution_count": 37,
   "id": "97987e82-47ff-4622-ae63-23d31bc16a46",
   "metadata": {},
   "outputs": [
    {
     "data": {
      "text/plain": [
       "(['oh', 'fuck'], 'it')"
      ]
     },
     "execution_count": 37,
     "metadata": {},
     "output_type": "execute_result"
    }
   ],
   "source": [
    "tlis"
   ]
  },
  {
   "cell_type": "code",
   "execution_count": 38,
   "id": "90203efa-963e-4ccc-8633-2d90cd01e269",
   "metadata": {},
   "outputs": [],
   "source": [
    "tl2 = (['oh', 'fuck'], 'it')"
   ]
  },
  {
   "cell_type": "code",
   "execution_count": 39,
   "id": "821b4dfa-352a-4613-ac2f-d79768775a80",
   "metadata": {},
   "outputs": [
    {
     "data": {
      "text/plain": [
       "(['oh', 'fuck'], 'it')"
      ]
     },
     "execution_count": 39,
     "metadata": {},
     "output_type": "execute_result"
    }
   ],
   "source": [
    "tl2"
   ]
  },
  {
   "cell_type": "code",
   "execution_count": 40,
   "id": "9d72cfe6-6d19-4d2d-b8e1-15d6e6aa107c",
   "metadata": {},
   "outputs": [
    {
     "data": {
      "text/plain": [
       "True"
      ]
     },
     "execution_count": 40,
     "metadata": {},
     "output_type": "execute_result"
    }
   ],
   "source": [
    "tlis == tl2"
   ]
  },
  {
   "cell_type": "code",
   "execution_count": 41,
   "id": "d6af3cae-a49d-4fac-81e3-7e5005aba26c",
   "metadata": {},
   "outputs": [],
   "source": [
    "a[1] = 2"
   ]
  },
  {
   "cell_type": "code",
   "execution_count": 42,
   "id": "0b90b14f-fb48-4141-bd40-9d5ea59f4859",
   "metadata": {},
   "outputs": [],
   "source": [
    "tl2[0][0] = 2"
   ]
  },
  {
   "cell_type": "code",
   "execution_count": 43,
   "id": "591fcaad-0232-4ad5-8826-1687b603f2e7",
   "metadata": {},
   "outputs": [
    {
     "data": {
      "text/plain": [
       "False"
      ]
     },
     "execution_count": 43,
     "metadata": {},
     "output_type": "execute_result"
    }
   ],
   "source": [
    "tlis == tl2"
   ]
  },
  {
   "cell_type": "code",
   "execution_count": 44,
   "id": "02f37243-4e6c-4015-9402-2d3dfd0ba300",
   "metadata": {
    "tags": [
     "raises-exception"
    ]
   },
   "outputs": [
    {
     "ename": "TypeError",
     "evalue": "unhashable type: 'list'",
     "output_type": "error",
     "traceback": [
      "\u001b[1;31m---------------------------------------------------------------------------\u001b[0m",
      "\u001b[1;31mTypeError\u001b[0m                                 Traceback (most recent call last)",
      "Input \u001b[1;32mIn [44]\u001b[0m, in \u001b[0;36m<cell line: 1>\u001b[1;34m()\u001b[0m\n\u001b[1;32m----> 1\u001b[0m s2\u001b[38;5;241m=\u001b[39m{tlis,tl2}\n",
      "\u001b[1;31mTypeError\u001b[0m: unhashable type: 'list'"
     ]
    }
   ],
   "source": [
    "s2={tlis,tl2}"
   ]
  },
  {
   "cell_type": "code",
   "execution_count": 45,
   "id": "49b60a97-35bd-4c4b-8678-1779b07c8424",
   "metadata": {},
   "outputs": [
    {
     "data": {
      "text/plain": [
       "tuple"
      ]
     },
     "execution_count": 45,
     "metadata": {},
     "output_type": "execute_result"
    }
   ],
   "source": [
    "type(tlis)"
   ]
  },
  {
   "cell_type": "code",
   "execution_count": 46,
   "id": "132e2261-2ee5-4bc5-9ae8-67c5e31bfbcc",
   "metadata": {},
   "outputs": [
    {
     "data": {
      "text/plain": [
       "int"
      ]
     },
     "execution_count": 46,
     "metadata": {},
     "output_type": "execute_result"
    }
   ],
   "source": [
    "type(3)"
   ]
  },
  {
   "cell_type": "code",
   "execution_count": 47,
   "id": "f528df23-d93d-412b-8749-2f99ad79ec43",
   "metadata": {},
   "outputs": [
    {
     "data": {
      "text/plain": [
       "type"
      ]
     },
     "execution_count": 47,
     "metadata": {},
     "output_type": "execute_result"
    }
   ],
   "source": [
    "type(int)"
   ]
  },
  {
   "cell_type": "code",
   "execution_count": 48,
   "id": "42645984-4f7c-4889-87ed-63982fdba504",
   "metadata": {},
   "outputs": [
    {
     "data": {
      "text/plain": [
       "['item1', 2, 'item3']"
      ]
     },
     "execution_count": 48,
     "metadata": {},
     "output_type": "execute_result"
    }
   ],
   "source": [
    "a"
   ]
  },
  {
   "cell_type": "code",
   "execution_count": 49,
   "id": "fd10cfe0-876a-4f5d-ac69-f0da94586081",
   "metadata": {},
   "outputs": [],
   "source": [
    "a.append(2)"
   ]
  },
  {
   "cell_type": "code",
   "execution_count": 50,
   "id": "8b399af5-0195-4416-83d2-69df971b20cc",
   "metadata": {},
   "outputs": [
    {
     "data": {
      "text/plain": [
       "['item1', 2, 'item3', 2]"
      ]
     },
     "execution_count": 50,
     "metadata": {},
     "output_type": "execute_result"
    }
   ],
   "source": [
    "a"
   ]
  },
  {
   "cell_type": "code",
   "execution_count": 51,
   "id": "0d7971b0-5c91-4908-995e-45c863d077b9",
   "metadata": {},
   "outputs": [
    {
     "data": {
      "text/plain": [
       "2"
      ]
     },
     "execution_count": 51,
     "metadata": {},
     "output_type": "execute_result"
    }
   ],
   "source": [
    "a.pop()"
   ]
  },
  {
   "cell_type": "code",
   "execution_count": 52,
   "id": "d40d21d0-e4fb-405e-988b-918a472650f0",
   "metadata": {},
   "outputs": [
    {
     "data": {
      "text/plain": [
       "['item1', 2, 'item3']"
      ]
     },
     "execution_count": 52,
     "metadata": {},
     "output_type": "execute_result"
    }
   ],
   "source": [
    "a"
   ]
  },
  {
   "cell_type": "code",
   "execution_count": 53,
   "id": "9fc6b121-2383-447e-a15c-f64cd509fe21",
   "metadata": {},
   "outputs": [],
   "source": [
    "#I add to sets because they are unordered, but append to lists"
   ]
  },
  {
   "cell_type": "code",
   "execution_count": 54,
   "id": "9d872865-5387-4e65-9dc2-08381071df16",
   "metadata": {},
   "outputs": [],
   "source": [
    "s.add(2)"
   ]
  },
  {
   "cell_type": "code",
   "execution_count": 55,
   "id": "158fb792-2331-4c65-97ef-e5d13b6b5839",
   "metadata": {},
   "outputs": [
    {
     "data": {
      "text/plain": [
       "{2, 10, 20, 30, 40, 50}"
      ]
     },
     "execution_count": 55,
     "metadata": {},
     "output_type": "execute_result"
    }
   ],
   "source": [
    "s"
   ]
  },
  {
   "cell_type": "code",
   "execution_count": 56,
   "id": "6f3a5537-0567-42d7-b5c7-a74e2d98d26c",
   "metadata": {},
   "outputs": [],
   "source": [
    "#no gaurantee as to what order they are enumerated"
   ]
  },
  {
   "cell_type": "code",
   "execution_count": 57,
   "id": "1096f5f3-737a-4be7-b558-d45acfbda094",
   "metadata": {},
   "outputs": [
    {
     "data": {
      "text/plain": [
       "True"
      ]
     },
     "execution_count": 57,
     "metadata": {},
     "output_type": "execute_result"
    }
   ],
   "source": [
    "20 in s"
   ]
  },
  {
   "cell_type": "code",
   "execution_count": 58,
   "id": "141de5a8-40f5-4ff0-af6d-d6e64f2982b6",
   "metadata": {},
   "outputs": [
    {
     "data": {
      "text/plain": [
       "False"
      ]
     },
     "execution_count": 58,
     "metadata": {},
     "output_type": "execute_result"
    }
   ],
   "source": [
    "21 in s"
   ]
  },
  {
   "cell_type": "code",
   "execution_count": 59,
   "id": "ee76192d-8972-43f3-a3b9-528d9033a1af",
   "metadata": {},
   "outputs": [
    {
     "data": {
      "text/plain": [
       "([2, 'fuck'], 'it')"
      ]
     },
     "execution_count": 59,
     "metadata": {},
     "output_type": "execute_result"
    }
   ],
   "source": [
    "tl2"
   ]
  },
  {
   "cell_type": "code",
   "execution_count": 60,
   "id": "afed7e5f-f440-4e93-83af-4ba21387a6c3",
   "metadata": {},
   "outputs": [],
   "source": [
    "del tl2"
   ]
  },
  {
   "cell_type": "code",
   "execution_count": 61,
   "id": "4fb107df-ee88-4e19-ae71-ccfc5cc0f6c0",
   "metadata": {
    "tags": [
     "raises-exception"
    ]
   },
   "outputs": [
    {
     "ename": "NameError",
     "evalue": "name 'tl2' is not defined",
     "output_type": "error",
     "traceback": [
      "\u001b[1;31m---------------------------------------------------------------------------\u001b[0m",
      "\u001b[1;31mNameError\u001b[0m                                 Traceback (most recent call last)",
      "Input \u001b[1;32mIn [61]\u001b[0m, in \u001b[0;36m<cell line: 1>\u001b[1;34m()\u001b[0m\n\u001b[1;32m----> 1\u001b[0m \u001b[43mtl2\u001b[49m\n",
      "\u001b[1;31mNameError\u001b[0m: name 'tl2' is not defined"
     ]
    }
   ],
   "source": [
    "tl2"
   ]
  },
  {
   "cell_type": "code",
   "execution_count": 62,
   "id": "1a6df1e3-c9b9-4f1e-b427-b4034ddaf348",
   "metadata": {},
   "outputs": [
    {
     "data": {
      "text/plain": [
       "['item1', 2, 'item3']"
      ]
     },
     "execution_count": 62,
     "metadata": {},
     "output_type": "execute_result"
    }
   ],
   "source": [
    "a"
   ]
  },
  {
   "cell_type": "code",
   "execution_count": 63,
   "id": "48993616-63a8-4af4-a51e-cc5211017450",
   "metadata": {},
   "outputs": [],
   "source": [
    "del a[1]"
   ]
  },
  {
   "cell_type": "code",
   "execution_count": 64,
   "id": "7cec9757-b54d-47cd-9fd4-a9d5ea7ed204",
   "metadata": {},
   "outputs": [
    {
     "data": {
      "text/plain": [
       "'item3'"
      ]
     },
     "execution_count": 64,
     "metadata": {},
     "output_type": "execute_result"
    }
   ],
   "source": [
    "a[1]"
   ]
  },
  {
   "cell_type": "code",
   "execution_count": 65,
   "id": "ca0795f0-e4a1-4fad-9017-1276ad88fe1b",
   "metadata": {
    "tags": [
     "raises-exception"
    ]
   },
   "outputs": [
    {
     "ename": "NameError",
     "evalue": "name 'at' is not defined",
     "output_type": "error",
     "traceback": [
      "\u001b[1;31m---------------------------------------------------------------------------\u001b[0m",
      "\u001b[1;31mNameError\u001b[0m                                 Traceback (most recent call last)",
      "Input \u001b[1;32mIn [65]\u001b[0m, in \u001b[0;36m<cell line: 1>\u001b[1;34m()\u001b[0m\n\u001b[1;32m----> 1\u001b[0m \u001b[43mat\u001b[49m\n",
      "\u001b[1;31mNameError\u001b[0m: name 'at' is not defined"
     ]
    }
   ],
   "source": [
    "at"
   ]
  },
  {
   "cell_type": "code",
   "execution_count": 66,
   "id": "6f48ee31-90ae-4bbc-9119-58b1c2c442f2",
   "metadata": {},
   "outputs": [
    {
     "data": {
      "text/plain": [
       "['item1', 'item3', 'foo', 'a', 'b', 'c', 'd']"
      ]
     },
     "execution_count": 66,
     "metadata": {},
     "output_type": "execute_result"
    }
   ],
   "source": [
    "b = [*a, 'foo', *t]\n",
    "b"
   ]
  },
  {
   "cell_type": "code",
   "execution_count": 67,
   "id": "892bdc83-5344-45d9-9008-84907d98ddd0",
   "metadata": {},
   "outputs": [
    {
     "data": {
      "text/plain": [
       "['item1', 'item3', 'item1', 'item3', 'foo', 'a', 'b', 'c', 'd']"
      ]
     },
     "execution_count": 67,
     "metadata": {},
     "output_type": "execute_result"
    }
   ],
   "source": [
    "a+b"
   ]
  },
  {
   "cell_type": "code",
   "execution_count": 68,
   "id": "814db99d-3174-4fa3-ab2f-bf8b5233a8ed",
   "metadata": {},
   "outputs": [
    {
     "data": {
      "text/plain": [
       "(10, 20, 30, 40)"
      ]
     },
     "execution_count": 68,
     "metadata": {},
     "output_type": "execute_result"
    }
   ],
   "source": [
    "(10, 20) + (30, 40)"
   ]
  },
  {
   "cell_type": "code",
   "execution_count": 69,
   "id": "5bf37ad3-25bf-448d-9f55-d53b65f4c0ce",
   "metadata": {},
   "outputs": [
    {
     "name": "stdout",
     "output_type": "stream",
     "text": [
      "Help on built-in function getattr in module builtins:\n",
      "\n",
      "getattr(...)\n",
      "    getattr(object, name[, default]) -> value\n",
      "    \n",
      "    Get a named attribute from an object; getattr(x, 'y') is equivalent to x.y.\n",
      "    When a default argument is given, it is returned when the attribute doesn't\n",
      "    exist; without it, an exception is raised in that case.\n",
      "\n"
     ]
    }
   ],
   "source": [
    "help(getattr)"
   ]
  },
  {
   "cell_type": "code",
   "execution_count": 70,
   "id": "6064d4d2-9b5c-475b-8d4d-b0bc9e97e390",
   "metadata": {},
   "outputs": [
    {
     "name": "stdout",
     "output_type": "stream",
     "text": [
      "Help on built-in function setattr in module builtins:\n",
      "\n",
      "setattr(obj, name, value, /)\n",
      "    Sets the named attribute on the given object to the specified value.\n",
      "    \n",
      "    setattr(x, 'y', v) is equivalent to ``x.y = v''\n",
      "\n"
     ]
    }
   ],
   "source": [
    "help(setattr)"
   ]
  },
  {
   "cell_type": "code",
   "execution_count": 71,
   "id": "22de5d20-eb3a-4225-85cd-22e1747dc300",
   "metadata": {},
   "outputs": [
    {
     "name": "stdout",
     "output_type": "stream",
     "text": [
      "Help on built-in function delattr in module builtins:\n",
      "\n",
      "delattr(obj, name, /)\n",
      "    Deletes the named attribute from the given object.\n",
      "    \n",
      "    delattr(x, 'y') is equivalent to ``del x.y''\n",
      "\n"
     ]
    }
   ],
   "source": [
    "help(delattr)"
   ]
  },
  {
   "cell_type": "code",
   "execution_count": 72,
   "id": "4f2f8118-56de-4af1-9f09-40fd97834bb2",
   "metadata": {},
   "outputs": [
    {
     "name": "stdout",
     "output_type": "stream",
     "text": [
      "Help on built-in function hasattr in module builtins:\n",
      "\n",
      "hasattr(obj, name, /)\n",
      "    Return whether the object has an attribute with the given name.\n",
      "    \n",
      "    This is done by calling getattr(obj, name) and catching AttributeError.\n",
      "\n"
     ]
    }
   ],
   "source": [
    "help(hasattr)"
   ]
  },
  {
   "cell_type": "code",
   "execution_count": null,
   "id": "3282a48f-fa8d-4280-b2f5-4f80ee112966",
   "metadata": {},
   "outputs": [],
   "source": []
  }
 ],
 "metadata": {
  "kernelspec": {
   "display_name": "Python 3 (ipykernel)",
   "language": "python",
   "name": "python3"
  },
  "language_info": {
   "codemirror_mode": {
    "name": "ipython",
    "version": 3
   },
   "file_extension": ".py",
   "mimetype": "text/x-python",
   "name": "python",
   "nbconvert_exporter": "python",
   "pygments_lexer": "ipython3",
   "version": "3.10.5"
  }
 },
 "nbformat": 4,
 "nbformat_minor": 5
}
