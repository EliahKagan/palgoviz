{
 "cells": [
  {
   "cell_type": "code",
   "execution_count": null,
   "id": "a0a6dc30",
   "metadata": {},
   "outputs": [],
   "source": [
    "print('Help ME!!!!!')"
   ]
  },
  {
   "cell_type": "code",
   "execution_count": 2,
   "id": "1f947945",
   "metadata": {},
   "outputs": [],
   "source": [
    "print('Help ME MORE!!!!!')"
   ]
  },
  {
   "cell_type": "code",
   "execution_count": 3,
   "id": "2123004a",
   "metadata": {},
   "outputs": [
    {
     "name": "stdout",
     "output_type": "stream",
     "text": [
      "testing\n",
      "1\n",
      "2\n",
      "3\n",
      "\n"
     ]
    }
   ],
   "source": [
    "print('testing')\n",
    "print('1\\n2\\n3\\n')"
   ]
  },
  {
   "cell_type": "code",
   "execution_count": 4,
   "id": "71516e7c",
   "metadata": {},
   "outputs": [
    {
     "name": "stdout",
     "output_type": "stream",
     "text": [
      "0,1,2,3,4,5,6,7,8,9,\n"
     ]
    }
   ],
   "source": [
    "for x in range (0,10):\n",
    "    print (x, end=',')\n",
    "print ()"
   ]
  },
  {
   "cell_type": "code",
   "execution_count": 5,
   "id": "34751fa8",
   "metadata": {},
   "outputs": [
    {
     "name": "stdout",
     "output_type": "stream",
     "text": [
      "0DODGE,1DODGE,2DODGE,3DODGE,4DODGE,5DODGE,6DODGE,7DODGE,8DODGE,9\n"
     ]
    }
   ],
   "source": [
    "print (*range (0,10), sep='DODGE,')"
   ]
  },
  {
   "cell_type": "code",
   "execution_count": 6,
   "id": "e7bb1fde",
   "metadata": {},
   "outputs": [
    {
     "name": "stdout",
     "output_type": "stream",
     "text": [
      "help\n"
     ]
    }
   ],
   "source": [
    "print('help')"
   ]
  },
  {
   "cell_type": "code",
   "execution_count": null,
   "id": "9b636a4b",
   "metadata": {},
   "outputs": [],
   "source": []
  },
  {
   "cell_type": "code",
   "execution_count": null,
   "id": "e877c8cc",
   "metadata": {},
   "outputs": [],
   "source": []
  }
 ],
 "metadata": {
  "kernelspec": {
   "display_name": "Python 3 (ipykernel)",
   "language": "python",
   "name": "python3"
  },
  "language_info": {
   "codemirror_mode": {
    "name": "ipython",
    "version": 3
   },
   "file_extension": ".py",
   "mimetype": "text/x-python",
   "name": "python",
   "nbconvert_exporter": "python",
   "pygments_lexer": "ipython3",
   "version": "3.10.0"
  }
 },
 "nbformat": 4,
 "nbformat_minor": 5
}
