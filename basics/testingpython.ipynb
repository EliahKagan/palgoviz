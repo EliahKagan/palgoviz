{
 "cells": [
  {
   "cell_type": "code",
   "execution_count": null,
   "id": "b2e0f16c",
   "metadata": {},
   "outputs": [
    {
     "name": "stdout",
     "output_type": "stream",
     "text": [
      "Help ME!!!!!\n"
     ]
    }
   ],
   "source": [
    "print('Help ME!!!!!')"
   ]
  },
  {
   "cell_type": "code",
   "execution_count": null,
   "id": "c9183d79",
   "metadata": {},
   "outputs": [
    {
     "name": "stdout",
     "output_type": "stream",
     "text": [
      "Help ME MORE!!!!!\n"
     ]
    }
   ],
   "source": [
    "print('Help ME MORE!!!!!')"
   ]
  },
  {
   "cell_type": "code",
   "execution_count": null,
   "id": "254b8d3c",
   "metadata": {},
   "outputs": [
    {
     "name": "stdout",
     "output_type": "stream",
     "text": [
      "testing\n",
      "1\n",
      "2\n",
      "3\n",
      "\n"
     ]
    }
   ],
   "source": [
    "print('testing')\n",
    "print('1\\n2\\n3\\n')"
   ]
  },
  {
   "cell_type": "code",
   "execution_count": null,
   "id": "1a23f684",
   "metadata": {},
   "outputs": [
    {
     "name": "stdout",
     "output_type": "stream",
     "text": [
      "0,1,2,3,4,5,6,7,8,9,\n"
     ]
    }
   ],
   "source": [
    "for x in range (0,10):\n",
    "    print (x, end=',')\n",
    "print ()"
   ]
  },
  {
   "cell_type": "code",
   "execution_count": null,
   "id": "f2a01462",
   "metadata": {},
   "outputs": [
    {
     "name": "stdout",
     "output_type": "stream",
     "text": [
      "0DODGE,1DODGE,2DODGE,3DODGE,4DODGE,5DODGE,6DODGE,7DODGE,8DODGE,9\n"
     ]
    }
   ],
   "source": [
    "print (*range (0,10), sep='DODGE,')"
   ]
  },
  {
   "cell_type": "code",
   "execution_count": null,
   "id": "d5589dfa",
   "metadata": {},
   "outputs": [
    {
     "name": "stdout",
     "output_type": "stream",
     "text": [
      "help3\n"
     ]
    }
   ],
   "source": [
    "print('help3')"
   ]
  },
  {
   "cell_type": "code",
   "execution_count": null,
   "id": "e0f5d1d3",
   "metadata": {},
   "outputs": [],
   "source": []
  }
 ],
 "metadata": {
  "kernelspec": {
   "display_name": "",
   "name": ""
  },
  "language_info": {
   "name": ""
  }
 },
 "nbformat": 4,
 "nbformat_minor": 5
}
