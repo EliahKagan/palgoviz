{
 "cells": [
  {
   "cell_type": "markdown",
   "id": "2da49010-0a77-42df-8bd4-a8eb4ee008c6",
   "metadata": {},
   "source": [
    "# Boolean Operations"
   ]
  },
  {
   "cell_type": "code",
   "execution_count": 1,
   "id": "280fb8cb-4f5b-4d12-a625-4af950f383a5",
   "metadata": {},
   "outputs": [
    {
     "data": {
      "text/plain": [
       "2"
      ]
     },
     "execution_count": 1,
     "metadata": {},
     "output_type": "execute_result"
    }
   ],
   "source": [
    "2 if True else 3  # Like:  true ? 2 : 3"
   ]
  },
  {
   "cell_type": "code",
   "execution_count": 2,
   "id": "6bac6cdb-2fba-4c58-89ac-b88e2a1d4bf5",
   "metadata": {},
   "outputs": [
    {
     "data": {
      "text/plain": [
       "3"
      ]
     },
     "execution_count": 2,
     "metadata": {},
     "output_type": "execute_result"
    }
   ],
   "source": [
    "2 if False else 3  # Like:  false ? 2 : 3"
   ]
  },
  {
   "cell_type": "code",
   "execution_count": 3,
   "id": "26945972-bdd8-4940-b962-65d6f7bfef2f",
   "metadata": {},
   "outputs": [
    {
     "data": {
      "text/plain": [
       "False"
      ]
     },
     "execution_count": 3,
     "metadata": {},
     "output_type": "execute_result"
    }
   ],
   "source": [
    "bool([])"
   ]
  },
  {
   "cell_type": "code",
   "execution_count": 4,
   "id": "ebb7ba02-1279-4870-b750-899556b20482",
   "metadata": {},
   "outputs": [
    {
     "data": {
      "text/plain": [
       "True"
      ]
     },
     "execution_count": 4,
     "metadata": {},
     "output_type": "execute_result"
    }
   ],
   "source": [
    "bool([0])"
   ]
  },
  {
   "cell_type": "code",
   "execution_count": 5,
   "id": "63f97ac6-33cb-4df1-8fdf-f6ff26e9695e",
   "metadata": {},
   "outputs": [
    {
     "data": {
      "text/plain": [
       "False"
      ]
     },
     "execution_count": 5,
     "metadata": {},
     "output_type": "execute_result"
    }
   ],
   "source": [
    "bool(list(enumerate([])))"
   ]
  },
  {
   "cell_type": "code",
   "execution_count": 6,
   "id": "b03ee65e-8901-4eda-a7e6-92b67f87dbc9",
   "metadata": {},
   "outputs": [
    {
     "data": {
      "text/plain": [
       "True"
      ]
     },
     "execution_count": 6,
     "metadata": {},
     "output_type": "execute_result"
    }
   ],
   "source": [
    "bool(enumerate([]))"
   ]
  },
  {
   "cell_type": "code",
   "execution_count": 7,
   "id": "9615e9ee-720a-4dca-83cf-4a733f40828c",
   "metadata": {},
   "outputs": [
    {
     "data": {
      "text/plain": [
       "True"
      ]
     },
     "execution_count": 7,
     "metadata": {},
     "output_type": "execute_result"
    }
   ],
   "source": [
    "bool(object())"
   ]
  },
  {
   "cell_type": "code",
   "execution_count": 8,
   "id": "6b697a83-f638-4e3c-baf2-dc8b7f7c0796",
   "metadata": {},
   "outputs": [
    {
     "data": {
      "text/plain": [
       "True"
      ]
     },
     "execution_count": 8,
     "metadata": {},
     "output_type": "execute_result"
    }
   ],
   "source": [
    "bool(True)"
   ]
  },
  {
   "cell_type": "code",
   "execution_count": 9,
   "id": "4478031f-b2cb-42d7-bc4a-8bdffc9afc11",
   "metadata": {},
   "outputs": [
    {
     "data": {
      "text/plain": [
       "False"
      ]
     },
     "execution_count": 9,
     "metadata": {},
     "output_type": "execute_result"
    }
   ],
   "source": [
    "bool(False)"
   ]
  },
  {
   "cell_type": "code",
   "execution_count": 10,
   "id": "e01934db-bb91-4c8f-bea4-5858b12df6e2",
   "metadata": {},
   "outputs": [
    {
     "data": {
      "text/plain": [
       "True"
      ]
     },
     "execution_count": 10,
     "metadata": {},
     "output_type": "execute_result"
    }
   ],
   "source": [
    "'foo' in 'foobar'"
   ]
  },
  {
   "cell_type": "code",
   "execution_count": 11,
   "id": "670b1343-57dd-410d-acb6-35b3643e264e",
   "metadata": {},
   "outputs": [
    {
     "data": {
      "text/plain": [
       "False"
      ]
     },
     "execution_count": 11,
     "metadata": {},
     "output_type": "execute_result"
    }
   ],
   "source": [
    "'foo' in list('foobar')"
   ]
  },
  {
   "cell_type": "code",
   "execution_count": 12,
   "id": "76aedf1b-0032-45d2-953f-13f43b80e3e9",
   "metadata": {},
   "outputs": [
    {
     "data": {
      "text/plain": [
       "['f', 'o', 'o', 'b', 'a', 'r']"
      ]
     },
     "execution_count": 12,
     "metadata": {},
     "output_type": "execute_result"
    }
   ],
   "source": [
    "list('foobar')"
   ]
  },
  {
   "cell_type": "code",
   "execution_count": 13,
   "id": "54fc95f2-1303-4e4b-918e-4553c3b960fb",
   "metadata": {},
   "outputs": [
    {
     "data": {
      "text/plain": [
       "False"
      ]
     },
     "execution_count": 13,
     "metadata": {},
     "output_type": "execute_result"
    }
   ],
   "source": [
    "bool('')"
   ]
  },
  {
   "cell_type": "code",
   "execution_count": 14,
   "id": "1e4e47a6-a421-457d-89b8-a953bcad8ae1",
   "metadata": {},
   "outputs": [
    {
     "data": {
      "text/plain": [
       "True"
      ]
     },
     "execution_count": 14,
     "metadata": {},
     "output_type": "execute_result"
    }
   ],
   "source": [
    "bool('0')"
   ]
  },
  {
   "cell_type": "code",
   "execution_count": 15,
   "id": "794876f2-0f69-4bfb-bb9a-7f40656615c0",
   "metadata": {},
   "outputs": [
    {
     "data": {
      "text/plain": [
       "False"
      ]
     },
     "execution_count": 15,
     "metadata": {},
     "output_type": "execute_result"
    }
   ],
   "source": [
    "bool(None)"
   ]
  },
  {
   "cell_type": "code",
   "execution_count": 16,
   "id": "5f2fec5c-7b93-40ec-b978-5bff13b0bb71",
   "metadata": {},
   "outputs": [
    {
     "data": {
      "text/plain": [
       "range(0, 10)"
      ]
     },
     "execution_count": 16,
     "metadata": {},
     "output_type": "execute_result"
    }
   ],
   "source": [
    "range(10)"
   ]
  },
  {
   "cell_type": "code",
   "execution_count": 17,
   "id": "82cae014-ec93-44d5-90aa-d1981d53d56e",
   "metadata": {},
   "outputs": [
    {
     "data": {
      "text/plain": [
       "range(0, 10000000000000000000000000000000000000000000000000000000000000000000000000000000)"
      ]
     },
     "execution_count": 17,
     "metadata": {},
     "output_type": "execute_result"
    }
   ],
   "source": [
    "range(10000000000000000000000000000000000000000000000000000000000000000000000000000000)"
   ]
  },
  {
   "cell_type": "code",
   "execution_count": 18,
   "id": "6df8bea8-1e55-4c8e-8bde-26d0b8bc6be7",
   "metadata": {},
   "outputs": [
    {
     "data": {
      "text/plain": [
       "[0]"
      ]
     },
     "execution_count": 18,
     "metadata": {},
     "output_type": "execute_result"
    }
   ],
   "source": [
    "list(range(1))"
   ]
  },
  {
   "cell_type": "code",
   "execution_count": 19,
   "id": "4ee39246-b0e9-4126-bc14-903e7ef9770d",
   "metadata": {},
   "outputs": [
    {
     "data": {
      "text/plain": [
       "True"
      ]
     },
     "execution_count": 19,
     "metadata": {},
     "output_type": "execute_result"
    }
   ],
   "source": [
    "bool(range(1))"
   ]
  },
  {
   "cell_type": "code",
   "execution_count": 20,
   "id": "8cf92f5f-c898-4fb0-8e7b-0e0f87388b75",
   "metadata": {},
   "outputs": [
    {
     "data": {
      "text/plain": [
       "[]"
      ]
     },
     "execution_count": 20,
     "metadata": {},
     "output_type": "execute_result"
    }
   ],
   "source": [
    "list(range(0))"
   ]
  },
  {
   "cell_type": "code",
   "execution_count": 21,
   "id": "10c3706f-df79-45eb-977a-4c2103cc2bc5",
   "metadata": {},
   "outputs": [
    {
     "data": {
      "text/plain": [
       "False"
      ]
     },
     "execution_count": 21,
     "metadata": {},
     "output_type": "execute_result"
    }
   ],
   "source": [
    "bool(range(0))"
   ]
  },
  {
   "cell_type": "code",
   "execution_count": 22,
   "id": "ab837791-9c3e-43de-8b18-8924974475c0",
   "metadata": {},
   "outputs": [
    {
     "data": {
      "text/plain": [
       "False"
      ]
     },
     "execution_count": 22,
     "metadata": {},
     "output_type": "execute_result"
    }
   ],
   "source": [
    "bool(0)"
   ]
  },
  {
   "cell_type": "code",
   "execution_count": 23,
   "id": "5fb0acc5-b128-42b7-8128-dcc7afaeb9a7",
   "metadata": {},
   "outputs": [
    {
     "data": {
      "text/plain": [
       "True"
      ]
     },
     "execution_count": 23,
     "metadata": {},
     "output_type": "execute_result"
    }
   ],
   "source": [
    "bool(1)"
   ]
  },
  {
   "cell_type": "code",
   "execution_count": 24,
   "id": "17d8736b-f9c8-4863-9a41-f7e9add5df03",
   "metadata": {},
   "outputs": [
    {
     "data": {
      "text/plain": [
       "True"
      ]
     },
     "execution_count": 24,
     "metadata": {},
     "output_type": "execute_result"
    }
   ],
   "source": [
    "bool(-1)"
   ]
  },
  {
   "cell_type": "code",
   "execution_count": 25,
   "id": "5aa01b93-700d-4a38-94e8-6961082e0b82",
   "metadata": {},
   "outputs": [
    {
     "data": {
      "text/plain": [
       "True"
      ]
     },
     "execution_count": 25,
     "metadata": {},
     "output_type": "execute_result"
    }
   ],
   "source": [
    "bool(2.5)"
   ]
  },
  {
   "cell_type": "code",
   "execution_count": 26,
   "id": "6f487ade-835d-4f79-a9b5-9e9f91eaf015",
   "metadata": {},
   "outputs": [
    {
     "data": {
      "text/plain": [
       "True"
      ]
     },
     "execution_count": 26,
     "metadata": {},
     "output_type": "execute_result"
    }
   ],
   "source": [
    "True or 3"
   ]
  },
  {
   "cell_type": "code",
   "execution_count": 27,
   "id": "9c058e36-cca8-4e4f-895a-0f323c44ba61",
   "metadata": {},
   "outputs": [
    {
     "data": {
      "text/plain": [
       "3"
      ]
     },
     "execution_count": 27,
     "metadata": {},
     "output_type": "execute_result"
    }
   ],
   "source": [
    "False or 3"
   ]
  },
  {
   "cell_type": "code",
   "execution_count": 28,
   "id": "8f67aeb7-3c48-46af-8c2a-4f45fe312684",
   "metadata": {},
   "outputs": [
    {
     "data": {
      "text/plain": [
       "3"
      ]
     },
     "execution_count": 28,
     "metadata": {},
     "output_type": "execute_result"
    }
   ],
   "source": [
    "3 or True"
   ]
  },
  {
   "cell_type": "code",
   "execution_count": 29,
   "id": "c0a3b759-77a3-4dc9-9046-dd76e9003529",
   "metadata": {},
   "outputs": [
    {
     "data": {
      "text/plain": [
       "3"
      ]
     },
     "execution_count": 29,
     "metadata": {},
     "output_type": "execute_result"
    }
   ],
   "source": [
    "3 or False"
   ]
  },
  {
   "cell_type": "code",
   "execution_count": 30,
   "id": "4d4456e9-28f7-4959-9142-117cb8bb0f35",
   "metadata": {},
   "outputs": [
    {
     "data": {
      "text/plain": [
       "[10]"
      ]
     },
     "execution_count": 30,
     "metadata": {},
     "output_type": "execute_result"
    }
   ],
   "source": [
    "[] or [10]"
   ]
  },
  {
   "cell_type": "code",
   "execution_count": 31,
   "id": "0bd7f16f-e8c7-4e0e-9f57-b09e1130a492",
   "metadata": {},
   "outputs": [
    {
     "data": {
      "text/plain": [
       "False"
      ]
     },
     "execution_count": 31,
     "metadata": {},
     "output_type": "execute_result"
    }
   ],
   "source": [
    "False and 0"
   ]
  },
  {
   "cell_type": "code",
   "execution_count": 32,
   "id": "348bb70b-bf1b-44f3-9f61-65fa8378ce36",
   "metadata": {},
   "outputs": [
    {
     "data": {
      "text/plain": [
       "0"
      ]
     },
     "execution_count": 32,
     "metadata": {},
     "output_type": "execute_result"
    }
   ],
   "source": [
    "True and 0"
   ]
  },
  {
   "cell_type": "code",
   "execution_count": 33,
   "id": "5d0ed559-6f71-4070-a8c3-c7b8594c9c6e",
   "metadata": {},
   "outputs": [
    {
     "data": {
      "text/plain": [
       "False"
      ]
     },
     "execution_count": 33,
     "metadata": {},
     "output_type": "execute_result"
    }
   ],
   "source": [
    "not 3"
   ]
  },
  {
   "cell_type": "code",
   "execution_count": 34,
   "id": "1ed5dc9d-2890-4c5a-a8e7-194b3071a440",
   "metadata": {},
   "outputs": [
    {
     "data": {
      "text/plain": [
       "0"
      ]
     },
     "execution_count": 34,
     "metadata": {},
     "output_type": "execute_result"
    }
   ],
   "source": [
    "3 and 0 "
   ]
  },
  {
   "cell_type": "code",
   "execution_count": 35,
   "id": "50ae529c-76bd-44fe-96d6-29ba2515ab0e",
   "metadata": {},
   "outputs": [
    {
     "data": {
      "text/plain": [
       "5"
      ]
     },
     "execution_count": 35,
     "metadata": {},
     "output_type": "execute_result"
    }
   ],
   "source": [
    "4 and 5 "
   ]
  },
  {
   "cell_type": "code",
   "execution_count": 36,
   "id": "05898398-c799-4e62-a60d-d360fa6a2339",
   "metadata": {},
   "outputs": [
    {
     "data": {
      "text/plain": [
       "0"
      ]
     },
     "execution_count": 36,
     "metadata": {},
     "output_type": "execute_result"
    }
   ],
   "source": [
    "0 and 5"
   ]
  },
  {
   "cell_type": "code",
   "execution_count": 37,
   "id": "7a790b95-e100-4a1f-979c-7156ce79d6a5",
   "metadata": {},
   "outputs": [
    {
     "data": {
      "text/plain": [
       "False"
      ]
     },
     "execution_count": 37,
     "metadata": {},
     "output_type": "execute_result"
    }
   ],
   "source": [
    "not 5"
   ]
  },
  {
   "cell_type": "code",
   "execution_count": 38,
   "id": "8ada65c0-2585-4997-a779-8b948131ae4d",
   "metadata": {},
   "outputs": [
    {
     "data": {
      "text/plain": [
       "True"
      ]
     },
     "execution_count": 38,
     "metadata": {},
     "output_type": "execute_result"
    }
   ],
   "source": [
    "not 0"
   ]
  },
  {
   "cell_type": "code",
   "execution_count": 39,
   "id": "005367fd-992d-491b-892b-8d5f22a29f0b",
   "metadata": {},
   "outputs": [
    {
     "name": "stdout",
     "output_type": "stream",
     "text": [
      "Truthy, just like Colbert likes it\n"
     ]
    },
    {
     "name": "stderr",
     "output_type": "stream",
     "text": [
      "C:\\Users\\User\\AppData\\Local\\Temp\\ipykernel_7896\\496258542.py:1: DeprecationWarning: NotImplemented should not be used in a boolean context\n",
      "  if NotImplemented:\n"
     ]
    }
   ],
   "source": [
    "if NotImplemented: \n",
    "    print('Truthy, just like Colbert likes it')\n",
    "else: \n",
    "    print('Falsy')"
   ]
  },
  {
   "cell_type": "code",
   "execution_count": 40,
   "id": "3aa4493a-5b88-4c83-b19f-868312f8ca80",
   "metadata": {},
   "outputs": [
    {
     "name": "stderr",
     "output_type": "stream",
     "text": [
      "C:\\Users\\User\\AppData\\Local\\Temp\\ipykernel_7896\\3586968809.py:1: DeprecationWarning: NotImplemented should not be used in a boolean context\n",
      "  bool(NotImplemented)\n"
     ]
    },
    {
     "data": {
      "text/plain": [
       "True"
      ]
     },
     "execution_count": 40,
     "metadata": {},
     "output_type": "execute_result"
    }
   ],
   "source": [
    "bool(NotImplemented)"
   ]
  },
  {
   "cell_type": "code",
   "execution_count": 42,
   "id": "b494f661-7806-404d-8541-937132d8cb20",
   "metadata": {},
   "outputs": [],
   "source": [
    "def passthrough(value):\n",
    "    print(value)\n",
    "    return value"
   ]
  },
  {
   "cell_type": "code",
   "execution_count": 43,
   "id": "7d68678d-06e9-4db5-a7c0-52bf287e93d3",
   "metadata": {},
   "outputs": [
    {
     "name": "stdout",
     "output_type": "stream",
     "text": [
      "3\n",
      "5\n"
     ]
    },
    {
     "data": {
      "text/plain": [
       "5"
      ]
     },
     "execution_count": 43,
     "metadata": {},
     "output_type": "execute_result"
    }
   ],
   "source": [
    "passthrough(3) and passthrough(5)"
   ]
  },
  {
   "cell_type": "code",
   "execution_count": 44,
   "id": "951d657b-2609-406f-8cf4-626482fb0eb5",
   "metadata": {},
   "outputs": [
    {
     "name": "stdout",
     "output_type": "stream",
     "text": [
      "0\n"
     ]
    },
    {
     "data": {
      "text/plain": [
       "0"
      ]
     },
     "execution_count": 44,
     "metadata": {},
     "output_type": "execute_result"
    }
   ],
   "source": [
    "passthrough(0) and passthrough(5)"
   ]
  },
  {
   "cell_type": "code",
   "execution_count": 45,
   "id": "73136afd-4c3d-4692-8a43-a817b7936375",
   "metadata": {},
   "outputs": [
    {
     "name": "stdout",
     "output_type": "stream",
     "text": [
      "3\n"
     ]
    },
    {
     "data": {
      "text/plain": [
       "3"
      ]
     },
     "execution_count": 45,
     "metadata": {},
     "output_type": "execute_result"
    }
   ],
   "source": [
    "passthrough(3) or passthrough(5)"
   ]
  },
  {
   "cell_type": "code",
   "execution_count": 46,
   "id": "e2449e52-3673-4d2e-822f-325fadcf0ab9",
   "metadata": {},
   "outputs": [
    {
     "name": "stdout",
     "output_type": "stream",
     "text": [
      "0\n",
      "5\n"
     ]
    },
    {
     "data": {
      "text/plain": [
       "5"
      ]
     },
     "execution_count": 46,
     "metadata": {},
     "output_type": "execute_result"
    }
   ],
   "source": [
    "passthrough(0) or passthrough(5)"
   ]
  },
  {
   "cell_type": "code",
   "execution_count": 47,
   "id": "f6f9de10-3f17-4927-be03-c4def9cc609f",
   "metadata": {},
   "outputs": [
    {
     "name": "stdout",
     "output_type": "stream",
     "text": [
      "first\n"
     ]
    }
   ],
   "source": [
    "print('first' if 3 else 'second')"
   ]
  },
  {
   "cell_type": "code",
   "execution_count": 48,
   "id": "9a05bbd1-d8f2-4f8f-ba94-84d8c0e0e8c7",
   "metadata": {},
   "outputs": [
    {
     "name": "stdout",
     "output_type": "stream",
     "text": [
      "second\n"
     ]
    }
   ],
   "source": [
    "print('first' if 0 else 'second')"
   ]
  },
  {
   "cell_type": "code",
   "execution_count": 49,
   "id": "75231f47-c81e-4475-837f-3da784299a75",
   "metadata": {},
   "outputs": [
    {
     "name": "stdout",
     "output_type": "stream",
     "text": [
      "Three\n"
     ]
    }
   ],
   "source": [
    "if 3:\n",
    "    print(\"Three\") "
   ]
  },
  {
   "cell_type": "code",
   "execution_count": 50,
   "id": "b6063b99-19ce-4bdc-a395-03bdd692d109",
   "metadata": {},
   "outputs": [
    {
     "name": "stdout",
     "output_type": "stream",
     "text": [
      "logical\n"
     ]
    }
   ],
   "source": [
    "if 0: \n",
    "    print('WTF!?')\n",
    "elif 4: \n",
    "    print('logical')"
   ]
  },
  {
   "cell_type": "code",
   "execution_count": 52,
   "id": "d5525100-e744-4ce9-be16-7e4cdbd840cc",
   "metadata": {},
   "outputs": [],
   "source": [
    "assert 3 > 0"
   ]
  },
  {
   "cell_type": "code",
   "execution_count": 53,
   "id": "6684e700-10be-4718-abf2-e0eeb0585ec4",
   "metadata": {
    "tags": [
     "raises-exception"
    ]
   },
   "outputs": [
    {
     "ename": "AssertionError",
     "evalue": "",
     "output_type": "error",
     "traceback": [
      "\u001b[1;31m---------------------------------------------------------------------------\u001b[0m",
      "\u001b[1;31mAssertionError\u001b[0m                            Traceback (most recent call last)",
      "Input \u001b[1;32mIn [53]\u001b[0m, in \u001b[0;36m<cell line: 1>\u001b[1;34m()\u001b[0m\n\u001b[1;32m----> 1\u001b[0m \u001b[38;5;28;01massert\u001b[39;00m \u001b[38;5;241m3\u001b[39m \u001b[38;5;241m<\u001b[39m \u001b[38;5;241m0\u001b[39m\n",
      "\u001b[1;31mAssertionError\u001b[0m: "
     ]
    }
   ],
   "source": [
    "assert 3 < 0"
   ]
  },
  {
   "cell_type": "code",
   "execution_count": 54,
   "id": "13f62a77-d798-4452-b5eb-66febd41d25f",
   "metadata": {},
   "outputs": [],
   "source": [
    "assert 3"
   ]
  },
  {
   "cell_type": "code",
   "execution_count": 55,
   "id": "71a8519a-45cd-4c1a-adfe-7dc4ed365f1b",
   "metadata": {
    "tags": [
     "raises-exception"
    ]
   },
   "outputs": [
    {
     "ename": "AssertionError",
     "evalue": "",
     "output_type": "error",
     "traceback": [
      "\u001b[1;31m---------------------------------------------------------------------------\u001b[0m",
      "\u001b[1;31mAssertionError\u001b[0m                            Traceback (most recent call last)",
      "Input \u001b[1;32mIn [55]\u001b[0m, in \u001b[0;36m<cell line: 1>\u001b[1;34m()\u001b[0m\n\u001b[1;32m----> 1\u001b[0m \u001b[38;5;28;01massert\u001b[39;00m \u001b[38;5;241m0\u001b[39m\n",
      "\u001b[1;31mAssertionError\u001b[0m: "
     ]
    }
   ],
   "source": [
    "assert 0"
   ]
  },
  {
   "cell_type": "code",
   "execution_count": 57,
   "id": "1912b2e3-d54e-4bbb-b8eb-d40be5f16595",
   "metadata": {},
   "outputs": [
    {
     "name": "stdout",
     "output_type": "stream",
     "text": [
      "0\n",
      "1\n",
      "2\n"
     ]
    }
   ],
   "source": [
    "x = 0\n",
    "while x < 3: \n",
    "    print(x)\n",
    "    x += 1"
   ]
  },
  {
   "cell_type": "code",
   "execution_count": 58,
   "id": "5c1b181a-4034-4f52-ac99-343e090190da",
   "metadata": {},
   "outputs": [
    {
     "name": "stdout",
     "output_type": "stream",
     "text": [
      "0\n",
      "1\n",
      "2\n",
      "Got to the end.\n"
     ]
    }
   ],
   "source": [
    "x = 0\n",
    "while x < 3: \n",
    "    print(x)\n",
    "    x += 1\n",
    "else:\n",
    "    print('Got to the end.')"
   ]
  },
  {
   "cell_type": "code",
   "execution_count": 59,
   "id": "97ff6d9c-9ede-4bdf-8960-246b04c43a0d",
   "metadata": {},
   "outputs": [
    {
     "name": "stdout",
     "output_type": "stream",
     "text": [
      "Got to the end.\n"
     ]
    }
   ],
   "source": [
    "x = 4\n",
    "while x < 3: \n",
    "    print(x)\n",
    "    x += 1\n",
    "else:\n",
    "    print('Got to the end.')"
   ]
  },
  {
   "cell_type": "code",
   "execution_count": 60,
   "id": "37e5e21d-a65d-47c2-86d9-45bed0670462",
   "metadata": {},
   "outputs": [
    {
     "name": "stdout",
     "output_type": "stream",
     "text": [
      "0\n",
      "1\n",
      "2\n"
     ]
    }
   ],
   "source": [
    "x = 0\n",
    "while x < 3: \n",
    "    print(x)\n",
    "    if x == 2:\n",
    "        break\n",
    "    x += 1\n",
    "else:\n",
    "    print('Got to the end.')"
   ]
  },
  {
   "cell_type": "code",
   "execution_count": null,
   "id": "a2017bb4-753c-40a0-a33c-33149ddd449c",
   "metadata": {},
   "outputs": [],
   "source": []
  }
 ],
 "metadata": {
  "kernelspec": {
   "display_name": "Python 3 (ipykernel)",
   "language": "python",
   "name": "python3"
  },
  "language_info": {
   "codemirror_mode": {
    "name": "ipython",
    "version": 3
   },
   "file_extension": ".py",
   "mimetype": "text/x-python",
   "name": "python",
   "nbconvert_exporter": "python",
   "pygments_lexer": "ipython3",
   "version": "3.10.4"
  }
 },
 "nbformat": 4,
 "nbformat_minor": 5
}
