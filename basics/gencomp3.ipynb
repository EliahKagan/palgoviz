{
 "cells": [
  {
   "cell_type": "markdown",
   "id": "aaf90289-66f0-4680-9da4-87ac5053e662",
   "metadata": {},
   "source": [
    "# Generators & Comprehensions - Part 3\n",
    "\n",
    "This will cover more advanced generators and comprehensions (and other iterator) topics, but it starts with some review (and tips)."
   ]
  },
  {
   "cell_type": "code",
   "execution_count": 1,
   "id": "64ef8698-3abf-4d58-8de3-04f1952c3536",
   "metadata": {},
   "outputs": [
    {
     "data": {
      "text/plain": [
       "[0, 1, 4, 9, 16, 25, 36, 49, 64, 81]"
      ]
     },
     "execution_count": 1,
     "metadata": {},
     "output_type": "execute_result"
    }
   ],
   "source": [
    "# Just mapping (no filtering).\n",
    "[x**2 for x in range(10)]"
   ]
  },
  {
   "cell_type": "code",
   "execution_count": 2,
   "id": "2d183ecf-674d-4ffe-aee3-966dfc5907b8",
   "metadata": {},
   "outputs": [
    {
     "data": {
      "text/plain": [
       "[1, 4, 16, 25, 49, 64]"
      ]
     },
     "execution_count": 2,
     "metadata": {},
     "output_type": "execute_result"
    }
   ],
   "source": [
    "# Mapping and filtering.\n",
    "[x**2 for x in range(10) if x % 3 != 0]"
   ]
  },
  {
   "cell_type": "code",
   "execution_count": 3,
   "id": "baddd962-65b5-4944-96e0-213750d4c5bf",
   "metadata": {},
   "outputs": [
    {
     "data": {
      "text/plain": [
       "[1, 2, 4, 5, 7, 8]"
      ]
     },
     "execution_count": 3,
     "metadata": {},
     "output_type": "execute_result"
    }
   ],
   "source": [
    "# Filtering. (Technically also mapping.)\n",
    "[x for x in range(10) if x % 3 != 0]"
   ]
  },
  {
   "cell_type": "code",
   "execution_count": 4,
   "id": "5b7a5d3d-c5e1-443b-a773-94dd304b38eb",
   "metadata": {},
   "outputs": [],
   "source": [
    "s = ['hello', 'my', 'name', 'is', 'David', 'Vassallo']"
   ]
  },
  {
   "cell_type": "code",
   "execution_count": 5,
   "id": "63cdbb90-06da-45ad-864b-256f3c7212ae",
   "metadata": {},
   "outputs": [
    {
     "data": {
      "text/plain": [
       "['hello', 'my', 'name', 'is']"
      ]
     },
     "execution_count": 5,
     "metadata": {},
     "output_type": "execute_result"
    }
   ],
   "source": [
    "# A list of the all-lowercase words in s.\n",
    "# Only filters.\n",
    "[word for word in s if word.islower()]"
   ]
  },
  {
   "cell_type": "code",
   "execution_count": 6,
   "id": "9ed1b00f-b561-4861-87cf-704fb14842f2",
   "metadata": {},
   "outputs": [
    {
     "data": {
      "text/plain": [
       "[5, 2, 4, 2, 5, 8]"
      ]
     },
     "execution_count": 6,
     "metadata": {},
     "output_type": "execute_result"
    }
   ],
   "source": [
    "# A list of the lengths of all the words in s.\n",
    "# Only maps.\n",
    "[len(word) for word in s]"
   ]
  },
  {
   "cell_type": "code",
   "execution_count": 7,
   "id": "c23a5a15-2ce7-4cc4-b5af-6d050a85ef0f",
   "metadata": {},
   "outputs": [
    {
     "data": {
      "text/plain": [
       "[5, 2, 4, 2]"
      ]
     },
     "execution_count": 7,
     "metadata": {},
     "output_type": "execute_result"
    }
   ],
   "source": [
    "# A list of the lengths of the all-lowercase words in s\n",
    "# Maps and filters. \n",
    "[len(word) for word in s if word.islower()]"
   ]
  },
  {
   "cell_type": "code",
   "execution_count": 8,
   "id": "729a2867-a238-431e-8712-0ddd1fa29660",
   "metadata": {},
   "outputs": [
    {
     "data": {
      "text/plain": [
       "[5, 2, 4, 2]"
      ]
     },
     "execution_count": 8,
     "metadata": {},
     "output_type": "execute_result"
    }
   ],
   "source": [
    "# A list of the lengths of the all-lowercase words in s, using map and filter.\n",
    "# This does not use any comprehensions of any kind.\n",
    "list(map(len, filter(str.islower, s)))"
   ]
  },
  {
   "cell_type": "code",
   "execution_count": 20,
   "id": "a99a680f-39fd-456a-894b-d37113acaee5",
   "metadata": {},
   "outputs": [],
   "source": [
    "# Use LBYL to show that map and filter are iterator types.\n",
    "# Then likewise show, with instances of them, that they are iterator objects.\n",
    "from collections.abc import Iterator, Mapping"
   ]
  },
  {
   "cell_type": "code",
   "execution_count": 21,
   "id": "8b8dd207-f389-46d8-b57b-37fc01370e29",
   "metadata": {},
   "outputs": [
    {
     "data": {
      "text/plain": [
       "True"
      ]
     },
     "execution_count": 21,
     "metadata": {},
     "output_type": "execute_result"
    }
   ],
   "source": [
    "issubclass(map, Iterator)"
   ]
  },
  {
   "cell_type": "code",
   "execution_count": 22,
   "id": "4f1bdc36-d68b-42dc-b06b-3c369fda8b47",
   "metadata": {},
   "outputs": [
    {
     "data": {
      "text/plain": [
       "True"
      ]
     },
     "execution_count": 22,
     "metadata": {},
     "output_type": "execute_result"
    }
   ],
   "source": [
    "issubclass(filter, Iterator)"
   ]
  },
  {
   "cell_type": "code",
   "execution_count": 23,
   "id": "532b7e5e-2929-465f-829d-32dcb917fd66",
   "metadata": {},
   "outputs": [
    {
     "data": {
      "text/plain": [
       "True"
      ]
     },
     "execution_count": 23,
     "metadata": {},
     "output_type": "execute_result"
    }
   ],
   "source": [
    "isinstance(map(len, s), Iterator)"
   ]
  },
  {
   "cell_type": "code",
   "execution_count": 24,
   "id": "cb9c78bc-a8ea-47ca-83af-667058bc0870",
   "metadata": {},
   "outputs": [
    {
     "data": {
      "text/plain": [
       "True"
      ]
     },
     "execution_count": 24,
     "metadata": {},
     "output_type": "execute_result"
    }
   ],
   "source": [
    "isinstance(filter(str.islower, s), Iterator)"
   ]
  },
  {
   "cell_type": "code",
   "execution_count": 25,
   "id": "fcbfffe2-09fa-427a-b9d8-75464a2366f3",
   "metadata": {},
   "outputs": [
    {
     "data": {
      "text/plain": [
       "False"
      ]
     },
     "execution_count": 25,
     "metadata": {},
     "output_type": "execute_result"
    }
   ],
   "source": [
    "# The builtin map type should not be confused with mappings (i.e., dict-like objects).\n",
    "# Show with LBYL that map is not a mapping type.\n",
    "issubclass(map, Mapping)"
   ]
  },
  {
   "cell_type": "markdown",
   "id": "21da5da6-bdf8-4f07-a4c3-d109032127f1",
   "metadata": {},
   "source": [
    "**Tip 1:** Anytime you write something like:\n",
    "\n",
    "```python\n",
    "(x for x in some_expression)\n",
    "```\n",
    "\n",
    "Or:\n",
    "\n",
    "```python\n",
    "((x, y) for x, y in some_expression)\n",
    "```\n",
    "\n",
    "Make sure you understand why you are writing that instead of just:\n",
    "\n",
    "```python\n",
    "some_expression\n",
    "```\n",
    "\n",
    "Only in rare cases should you write comprehensions of that form."
   ]
  },
  {
   "cell_type": "markdown",
   "id": "0a622963",
   "metadata": {},
   "source": [
    "**Tip 2:** Remember the `sum` builtin."
   ]
  },
  {
   "cell_type": "markdown",
   "id": "2a1597e3",
   "metadata": {},
   "source": []
  }
 ],
 "metadata": {
  "kernelspec": {
   "display_name": "Python 3 (ipykernel)",
   "language": "python",
   "name": "python3"
  },
  "language_info": {
   "codemirror_mode": {
    "name": "ipython",
    "version": 3
   },
   "file_extension": ".py",
   "mimetype": "text/x-python",
   "name": "python",
   "nbconvert_exporter": "python",
   "pygments_lexer": "ipython3",
   "version": "3.10.4"
  }
 },
 "nbformat": 4,
 "nbformat_minor": 5
}
