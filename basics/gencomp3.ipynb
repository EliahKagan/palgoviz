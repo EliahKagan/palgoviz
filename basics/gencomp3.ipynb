{
 "cells": [
  {
   "cell_type": "markdown",
   "id": "aaf90289-66f0-4680-9da4-87ac5053e662",
   "metadata": {},
   "source": [
    "# Generators & Comprehensions - Part 3\n",
    "\n",
    "This will cover more advanced generators and comprehensions (and other iterator) topics, but it starts with some review (and tips)."
   ]
  },
  {
   "cell_type": "code",
   "execution_count": 1,
   "id": "64ef8698-3abf-4d58-8de3-04f1952c3536",
   "metadata": {},
   "outputs": [
    {
     "data": {
      "text/plain": [
       "[0, 1, 4, 9, 16, 25, 36, 49, 64, 81]"
      ]
     },
     "execution_count": 1,
     "metadata": {},
     "output_type": "execute_result"
    }
   ],
   "source": [
    "# Just mapping (no filtering).\n",
    "[x**2 for x in range(10)]"
   ]
  },
  {
   "cell_type": "code",
   "execution_count": 2,
   "id": "2d183ecf-674d-4ffe-aee3-966dfc5907b8",
   "metadata": {},
   "outputs": [
    {
     "data": {
      "text/plain": [
       "[1, 4, 16, 25, 49, 64]"
      ]
     },
     "execution_count": 2,
     "metadata": {},
     "output_type": "execute_result"
    }
   ],
   "source": [
    "# Mapping and filtering.\n",
    "[x**2 for x in range(10) if x % 3 != 0]"
   ]
  },
  {
   "cell_type": "code",
   "execution_count": 3,
   "id": "baddd962-65b5-4944-96e0-213750d4c5bf",
   "metadata": {},
   "outputs": [
    {
     "data": {
      "text/plain": [
       "[1, 2, 4, 5, 7, 8]"
      ]
     },
     "execution_count": 3,
     "metadata": {},
     "output_type": "execute_result"
    }
   ],
   "source": [
    "# Filtering. (Technically also mapping.)\n",
    "[x for x in range(10) if x % 3 != 0]"
   ]
  },
  {
   "cell_type": "code",
   "execution_count": 4,
   "id": "5b7a5d3d-c5e1-443b-a773-94dd304b38eb",
   "metadata": {},
   "outputs": [],
   "source": [
    "s = ['hello', 'my', 'name', 'is', 'David', 'Vassallo']"
   ]
  },
  {
   "cell_type": "code",
   "execution_count": 5,
   "id": "63cdbb90-06da-45ad-864b-256f3c7212ae",
   "metadata": {},
   "outputs": [
    {
     "data": {
      "text/plain": [
       "['hello', 'my', 'name', 'is']"
      ]
     },
     "execution_count": 5,
     "metadata": {},
     "output_type": "execute_result"
    }
   ],
   "source": [
    "# A list of the all-lowercase words in s.\n",
    "# Only filters.\n",
    "[word for word in s if word.islower()]"
   ]
  },
  {
   "cell_type": "code",
   "execution_count": 6,
   "id": "9ed1b00f-b561-4861-87cf-704fb14842f2",
   "metadata": {},
   "outputs": [
    {
     "data": {
      "text/plain": [
       "[5, 2, 4, 2, 5, 8]"
      ]
     },
     "execution_count": 6,
     "metadata": {},
     "output_type": "execute_result"
    }
   ],
   "source": [
    "# A list of the lengths of all the words in s.\n",
    "# Only maps.\n",
    "[len(word) for word in s]"
   ]
  },
  {
   "cell_type": "code",
   "execution_count": 7,
   "id": "c23a5a15-2ce7-4cc4-b5af-6d050a85ef0f",
   "metadata": {},
   "outputs": [
    {
     "data": {
      "text/plain": [
       "[5, 2, 4, 2]"
      ]
     },
     "execution_count": 7,
     "metadata": {},
     "output_type": "execute_result"
    }
   ],
   "source": [
    "# A list of the lengths of the all-lowercase words in s\n",
    "# Maps and filters. \n",
    "[len(word) for word in s if word.islower()]"
   ]
  },
  {
   "cell_type": "code",
   "execution_count": 8,
   "id": "729a2867-a238-431e-8712-0ddd1fa29660",
   "metadata": {},
   "outputs": [
    {
     "data": {
      "text/plain": [
       "[5, 2, 4, 2]"
      ]
     },
     "execution_count": 8,
     "metadata": {},
     "output_type": "execute_result"
    }
   ],
   "source": [
    "# A list of the lengths of the all-lowercase words in s, using map and filter.\n",
    "# This does not use any comprehensions of any kind.\n",
    "list(map(len, filter(str.islower, s)))"
   ]
  },
  {
   "cell_type": "code",
   "execution_count": 9,
   "id": "a99a680f-39fd-456a-894b-d37113acaee5",
   "metadata": {},
   "outputs": [],
   "source": [
    "# Use LBYL to show that map and filter are iterator types.\n",
    "# Then likewise show, with instances of them, that they are iterator objects.\n",
    "from collections.abc import Iterator, Mapping"
   ]
  },
  {
   "cell_type": "code",
   "execution_count": 10,
   "id": "8b8dd207-f389-46d8-b57b-37fc01370e29",
   "metadata": {},
   "outputs": [
    {
     "data": {
      "text/plain": [
       "True"
      ]
     },
     "execution_count": 10,
     "metadata": {},
     "output_type": "execute_result"
    }
   ],
   "source": [
    "issubclass(map, Iterator)"
   ]
  },
  {
   "cell_type": "code",
   "execution_count": 11,
   "id": "4f1bdc36-d68b-42dc-b06b-3c369fda8b47",
   "metadata": {},
   "outputs": [
    {
     "data": {
      "text/plain": [
       "True"
      ]
     },
     "execution_count": 11,
     "metadata": {},
     "output_type": "execute_result"
    }
   ],
   "source": [
    "issubclass(filter, Iterator)"
   ]
  },
  {
   "cell_type": "code",
   "execution_count": 12,
   "id": "532b7e5e-2929-465f-829d-32dcb917fd66",
   "metadata": {},
   "outputs": [
    {
     "data": {
      "text/plain": [
       "True"
      ]
     },
     "execution_count": 12,
     "metadata": {},
     "output_type": "execute_result"
    }
   ],
   "source": [
    "isinstance(map(len, s), Iterator)"
   ]
  },
  {
   "cell_type": "code",
   "execution_count": 13,
   "id": "cb9c78bc-a8ea-47ca-83af-667058bc0870",
   "metadata": {},
   "outputs": [
    {
     "data": {
      "text/plain": [
       "True"
      ]
     },
     "execution_count": 13,
     "metadata": {},
     "output_type": "execute_result"
    }
   ],
   "source": [
    "isinstance(filter(str.islower, s), Iterator)"
   ]
  },
  {
   "cell_type": "code",
   "execution_count": 14,
   "id": "fcbfffe2-09fa-427a-b9d8-75464a2366f3",
   "metadata": {},
   "outputs": [
    {
     "data": {
      "text/plain": [
       "False"
      ]
     },
     "execution_count": 14,
     "metadata": {},
     "output_type": "execute_result"
    }
   ],
   "source": [
    "# The builtin map type should not be confused with mappings (i.e., dict-like objects).\n",
    "# Show with LBYL that map is not a mapping type.\n",
    "issubclass(map, Mapping)"
   ]
  },
  {
   "cell_type": "markdown",
   "id": "e126ad68",
   "metadata": {},
   "source": [
    "**Tip 1:** Iterators are iterable. That is, you can call `next` on iterators, but you can also call `iter` on an iterator, which gives you back an equivalent iterator, almost always the very same iterator object."
   ]
  },
  {
   "cell_type": "markdown",
   "id": "0b538873",
   "metadata": {},
   "source": [
    "**Tip 2:** Do not confuse callables with iterators. A callable gives a value when called; an iterator gives a value when passed to `next`."
   ]
  },
  {
   "cell_type": "markdown",
   "id": "b9b974a8",
   "metadata": {},
   "source": [
    "**Tip 3:** Strongly prefer high-level constructs like `for` over explicitly calling `iter` or `next`.\n",
    "\n",
    "It is fairly rare to call `next` outside of code that performs general iterator operations such as those performed by the code in `itertools`.\n",
    "\n",
    "You shouldn't be afraid to use the `iter` and `next` builtin (in any context). But every time you use them, you should be able to clearly articulate why you need or want to use them instead of higher level constructs like `for`."
   ]
  },
  {
   "cell_type": "markdown",
   "id": "21da5da6-bdf8-4f07-a4c3-d109032127f1",
   "metadata": {},
   "source": [
    "**Tip 4:** Anytime you write something like:\n",
    "\n",
    "```python\n",
    "(x for x in some_expression)\n",
    "```\n",
    "\n",
    "Or:\n",
    "\n",
    "```python\n",
    "((x, y) for x, y in some_expression)\n",
    "```\n",
    "\n",
    "Make sure you understand why you are writing that instead of just:\n",
    "\n",
    "```python\n",
    "some_expression\n",
    "```\n",
    "\n",
    "Only in rare cases should you write comprehensions of that form."
   ]
  },
  {
   "cell_type": "markdown",
   "id": "0a622963",
   "metadata": {},
   "source": [
    "**Tip 5:** Remember the `sum` builtin."
   ]
  },
  {
   "cell_type": "markdown",
   "id": "2a1597e3",
   "metadata": {},
   "source": [
    "**Tip 6:** Materialize an iterable when *both*:\n",
    "\n",
    "1. it might be consumed by iteration (in almost all cases, this is when it's an iterator) *and*\n",
    "\n",
    "2. you need, or may need, to iterate through its values multiple times.\n",
    "\n",
    "You should not usually perform materialization unless both of these conditions hold.\n",
    "\n",
    "Note also that `a = list(b)` and `a = tuple(b)` materialize `b`, but `a = b` does not, because assignment just copies a reference. There is no situation in which running `a = b` and then iterating through `a` behaves any differently from just iterating through `b`.\n",
    "\n"
   ]
  },
  {
   "cell_type": "code",
   "execution_count": 15,
   "id": "c45ed318-d244-4cc2-bd3a-2c5d4bcf548a",
   "metadata": {},
   "outputs": [],
   "source": [
    "import inspect\n",
    "import itertools"
   ]
  },
  {
   "cell_type": "code",
   "execution_count": 16,
   "id": "79b5b93d-bea3-430f-8d1a-01ab3011adea",
   "metadata": {},
   "outputs": [
    {
     "name": "stdout",
     "output_type": "stream",
     "text": [
      "Functional tools for creating and using iterators.\n",
      "\n",
      "Infinite iterators:\n",
      "count(start=0, step=1) --> start, start+step, start+2*step, ...\n",
      "cycle(p) --> p0, p1, ... plast, p0, p1, ...\n",
      "repeat(elem [,n]) --> elem, elem, elem, ... endlessly or up to n times\n",
      "\n",
      "Iterators terminating on the shortest input sequence:\n",
      "accumulate(p[, func]) --> p0, p0+p1, p0+p1+p2\n",
      "chain(p, q, ...) --> p0, p1, ... plast, q0, q1, ...\n",
      "chain.from_iterable([p, q, ...]) --> p0, p1, ... plast, q0, q1, ...\n",
      "compress(data, selectors) --> (d[0] if s[0]), (d[1] if s[1]), ...\n",
      "dropwhile(pred, seq) --> seq[n], seq[n+1], starting when pred fails\n",
      "groupby(iterable[, keyfunc]) --> sub-iterators grouped by value of keyfunc(v)\n",
      "filterfalse(pred, seq) --> elements of seq where pred(elem) is False\n",
      "islice(seq, [start,] stop [, step]) --> elements from\n",
      "       seq[start:stop:step]\n",
      "pairwise(s) --> (s[0],s[1]), (s[1],s[2]), (s[2], s[3]), ...\n",
      "starmap(fun, seq) --> fun(*seq[0]), fun(*seq[1]), ...\n",
      "tee(it, n=2) --> (it1, it2 , ... itn) splits one iterator into n\n",
      "takewhile(pred, seq) --> seq[0], seq[1], until pred fails\n",
      "zip_longest(p, q, ...) --> (p[0], q[0]), (p[1], q[1]), ...\n",
      "\n",
      "Combinatoric generators:\n",
      "product(p, q, ... [repeat=1]) --> cartesian product\n",
      "permutations(p[, r])\n",
      "combinations(p, r)\n",
      "combinations_with_replacement(p, r)\n"
     ]
    }
   ],
   "source": [
    "print(inspect.getdoc(itertools))"
   ]
  },
  {
   "cell_type": "code",
   "execution_count": 17,
   "id": "9e2e1f53-9eea-497e-b741-191176283438",
   "metadata": {},
   "outputs": [
    {
     "name": "stdout",
     "output_type": "stream",
     "text": [
      "Help on function getgeneratorstate in module inspect:\n",
      "\n",
      "getgeneratorstate(generator)\n",
      "    Get current state of a generator-iterator.\n",
      "    \n",
      "    Possible states are:\n",
      "      GEN_CREATED: Waiting to start execution.\n",
      "      GEN_RUNNING: Currently being executed by the interpreter.\n",
      "      GEN_SUSPENDED: Currently suspended at a yield expression.\n",
      "      GEN_CLOSED: Execution has completed.\n",
      "\n"
     ]
    }
   ],
   "source": [
    "help(inspect.getgeneratorstate)"
   ]
  },
  {
   "cell_type": "markdown",
   "id": "6273f60e-e17c-4347-b70c-57cae0ef962b",
   "metadata": {},
   "source": [
    "## Generator states"
   ]
  },
  {
   "cell_type": "code",
   "execution_count": 18,
   "id": "e91c2ab1-fef6-4388-b7ec-4a20320f43e8",
   "metadata": {},
   "outputs": [],
   "source": [
    "def gen1(): \n",
    "    yield 'a'\n",
    "    yield 'b'\n",
    "    yield 'c'"
   ]
  },
  {
   "cell_type": "code",
   "execution_count": 19,
   "id": "d6dcc6bf-3e15-4b75-ae68-ee60b266304c",
   "metadata": {},
   "outputs": [],
   "source": [
    "g = gen1()"
   ]
  },
  {
   "cell_type": "code",
   "execution_count": 20,
   "id": "d8534069-d65f-4ac7-9590-ac4641cdb58b",
   "metadata": {},
   "outputs": [
    {
     "data": {
      "text/plain": [
       "'GEN_CREATED'"
      ]
     },
     "execution_count": 20,
     "metadata": {},
     "output_type": "execute_result"
    }
   ],
   "source": [
    "inspect.getgeneratorstate(g)"
   ]
  },
  {
   "cell_type": "code",
   "execution_count": 21,
   "id": "166f6c39-d95e-4f81-a3b9-3dce97434fdf",
   "metadata": {},
   "outputs": [
    {
     "data": {
      "text/plain": [
       "'a'"
      ]
     },
     "execution_count": 21,
     "metadata": {},
     "output_type": "execute_result"
    }
   ],
   "source": [
    "next(g)"
   ]
  },
  {
   "cell_type": "code",
   "execution_count": 22,
   "id": "b23c7358-6540-4795-8838-a68cf53f358c",
   "metadata": {},
   "outputs": [
    {
     "data": {
      "text/plain": [
       "'GEN_SUSPENDED'"
      ]
     },
     "execution_count": 22,
     "metadata": {},
     "output_type": "execute_result"
    }
   ],
   "source": [
    "inspect.getgeneratorstate(g)"
   ]
  },
  {
   "cell_type": "code",
   "execution_count": 23,
   "id": "751a082b-2252-4bf1-a727-ac53f0a05a2e",
   "metadata": {},
   "outputs": [
    {
     "data": {
      "text/plain": [
       "'b'"
      ]
     },
     "execution_count": 23,
     "metadata": {},
     "output_type": "execute_result"
    }
   ],
   "source": [
    "next(g)"
   ]
  },
  {
   "cell_type": "code",
   "execution_count": 24,
   "id": "7d7d89ba-3aba-46bc-b2ff-27a0b03c5c3a",
   "metadata": {},
   "outputs": [
    {
     "data": {
      "text/plain": [
       "'GEN_SUSPENDED'"
      ]
     },
     "execution_count": 24,
     "metadata": {},
     "output_type": "execute_result"
    }
   ],
   "source": [
    "inspect.getgeneratorstate(g)"
   ]
  },
  {
   "cell_type": "code",
   "execution_count": 25,
   "id": "4dc4613f-ddb3-409d-a82c-b79bc9534c8e",
   "metadata": {},
   "outputs": [
    {
     "data": {
      "text/plain": [
       "'c'"
      ]
     },
     "execution_count": 25,
     "metadata": {},
     "output_type": "execute_result"
    }
   ],
   "source": [
    "next(g)"
   ]
  },
  {
   "cell_type": "code",
   "execution_count": 26,
   "id": "2e68eff9-0c26-43ae-8704-d17d96590d77",
   "metadata": {},
   "outputs": [
    {
     "data": {
      "text/plain": [
       "'GEN_SUSPENDED'"
      ]
     },
     "execution_count": 26,
     "metadata": {},
     "output_type": "execute_result"
    }
   ],
   "source": [
    "inspect.getgeneratorstate(g)"
   ]
  },
  {
   "cell_type": "code",
   "execution_count": 27,
   "id": "549bb022-1b50-437c-9748-cbed32a1f261",
   "metadata": {
    "tags": [
     "raises-exception"
    ]
   },
   "outputs": [
    {
     "ename": "StopIteration",
     "evalue": "",
     "output_type": "error",
     "traceback": [
      "\u001b[1;31m---------------------------------------------------------------------------\u001b[0m",
      "\u001b[1;31mStopIteration\u001b[0m                             Traceback (most recent call last)",
      "Input \u001b[1;32mIn [27]\u001b[0m, in \u001b[0;36m<cell line: 1>\u001b[1;34m()\u001b[0m\n\u001b[1;32m----> 1\u001b[0m \u001b[38;5;28;43mnext\u001b[39;49m\u001b[43m(\u001b[49m\u001b[43mg\u001b[49m\u001b[43m)\u001b[49m\n",
      "\u001b[1;31mStopIteration\u001b[0m: "
     ]
    }
   ],
   "source": [
    "next(g)"
   ]
  },
  {
   "cell_type": "code",
   "execution_count": 28,
   "id": "3101e59b-b288-4bb5-95e9-e5967473323d",
   "metadata": {},
   "outputs": [
    {
     "data": {
      "text/plain": [
       "'GEN_CLOSED'"
      ]
     },
     "execution_count": 28,
     "metadata": {},
     "output_type": "execute_result"
    }
   ],
   "source": [
    "inspect.getgeneratorstate(g)"
   ]
  },
  {
   "cell_type": "code",
   "execution_count": 29,
   "id": "82ea1705-646d-4b40-bfce-6c53ff1a2531",
   "metadata": {},
   "outputs": [],
   "source": [
    "c = gen1()"
   ]
  },
  {
   "cell_type": "code",
   "execution_count": 30,
   "id": "5c83b1f6-cebe-463f-8688-de3267437f39",
   "metadata": {},
   "outputs": [
    {
     "data": {
      "text/plain": [
       "'GEN_CREATED'"
      ]
     },
     "execution_count": 30,
     "metadata": {},
     "output_type": "execute_result"
    }
   ],
   "source": [
    "inspect.getgeneratorstate(c)"
   ]
  },
  {
   "cell_type": "code",
   "execution_count": 31,
   "id": "d468be1e-2f3f-4996-aee4-66bac2de0e06",
   "metadata": {},
   "outputs": [],
   "source": [
    "c.close()"
   ]
  },
  {
   "cell_type": "code",
   "execution_count": 32,
   "id": "cd280948-e88c-4ddf-8788-5f888afae25e",
   "metadata": {},
   "outputs": [
    {
     "data": {
      "text/plain": [
       "'GEN_CLOSED'"
      ]
     },
     "execution_count": 32,
     "metadata": {},
     "output_type": "execute_result"
    }
   ],
   "source": [
    "inspect.getgeneratorstate(c)"
   ]
  },
  {
   "cell_type": "code",
   "execution_count": 33,
   "id": "0b4f47a3-6f99-4997-9845-d8530e568802",
   "metadata": {
    "tags": [
     "raises-exception"
    ]
   },
   "outputs": [
    {
     "ename": "StopIteration",
     "evalue": "",
     "output_type": "error",
     "traceback": [
      "\u001b[1;31m---------------------------------------------------------------------------\u001b[0m",
      "\u001b[1;31mStopIteration\u001b[0m                             Traceback (most recent call last)",
      "Input \u001b[1;32mIn [33]\u001b[0m, in \u001b[0;36m<cell line: 1>\u001b[1;34m()\u001b[0m\n\u001b[1;32m----> 1\u001b[0m \u001b[38;5;28;43mnext\u001b[39;49m\u001b[43m(\u001b[49m\u001b[43mc\u001b[49m\u001b[43m)\u001b[49m\n",
      "\u001b[1;31mStopIteration\u001b[0m: "
     ]
    }
   ],
   "source": [
    "next(c)"
   ]
  },
  {
   "cell_type": "code",
   "execution_count": 34,
   "id": "5a864540-81ea-4034-aabc-4318bb653d8c",
   "metadata": {},
   "outputs": [],
   "source": [
    "squares = (x**2 for x in itertools.count(start=1))"
   ]
  },
  {
   "cell_type": "code",
   "execution_count": 35,
   "id": "9776a4f1-d207-4e40-ac65-d635b2d9f36c",
   "metadata": {},
   "outputs": [
    {
     "data": {
      "text/plain": [
       "'GEN_CREATED'"
      ]
     },
     "execution_count": 35,
     "metadata": {},
     "output_type": "execute_result"
    }
   ],
   "source": [
    "inspect.getgeneratorstate(squares)"
   ]
  },
  {
   "cell_type": "code",
   "execution_count": 36,
   "id": "5bf176ab-3b7f-406b-9fe6-ab90c74cc9b2",
   "metadata": {},
   "outputs": [
    {
     "data": {
      "text/plain": [
       "1"
      ]
     },
     "execution_count": 36,
     "metadata": {},
     "output_type": "execute_result"
    }
   ],
   "source": [
    "next(squares)"
   ]
  },
  {
   "cell_type": "code",
   "execution_count": 37,
   "id": "8a793a1b-bf94-4a0b-9c6e-5ddd4e5110fd",
   "metadata": {},
   "outputs": [
    {
     "data": {
      "text/plain": [
       "'GEN_SUSPENDED'"
      ]
     },
     "execution_count": 37,
     "metadata": {},
     "output_type": "execute_result"
    }
   ],
   "source": [
    "inspect.getgeneratorstate(squares)"
   ]
  },
  {
   "cell_type": "code",
   "execution_count": 38,
   "id": "793004a0-174a-42de-9745-2cafbf85c735",
   "metadata": {},
   "outputs": [],
   "source": [
    "squares.close()"
   ]
  },
  {
   "cell_type": "code",
   "execution_count": 39,
   "id": "c6f5c0f2-9a7f-4de1-9d0a-8aebf0c01ab7",
   "metadata": {},
   "outputs": [
    {
     "data": {
      "text/plain": [
       "'GEN_CLOSED'"
      ]
     },
     "execution_count": 39,
     "metadata": {},
     "output_type": "execute_result"
    }
   ],
   "source": [
    "inspect.getgeneratorstate(squares)"
   ]
  },
  {
   "cell_type": "code",
   "execution_count": 40,
   "id": "8b35b77e-add9-4c29-8f2b-fd6537d3373a",
   "metadata": {
    "tags": [
     "raises-exception"
    ]
   },
   "outputs": [
    {
     "ename": "StopIteration",
     "evalue": "",
     "output_type": "error",
     "traceback": [
      "\u001b[1;31m---------------------------------------------------------------------------\u001b[0m",
      "\u001b[1;31mStopIteration\u001b[0m                             Traceback (most recent call last)",
      "Input \u001b[1;32mIn [40]\u001b[0m, in \u001b[0;36m<cell line: 1>\u001b[1;34m()\u001b[0m\n\u001b[1;32m----> 1\u001b[0m \u001b[38;5;28;43mnext\u001b[39;49m\u001b[43m(\u001b[49m\u001b[43msquares\u001b[49m\u001b[43m)\u001b[49m\n",
      "\u001b[1;31mStopIteration\u001b[0m: "
     ]
    }
   ],
   "source": [
    "next(squares)"
   ]
  },
  {
   "cell_type": "markdown",
   "id": "b6898b02",
   "metadata": {},
   "source": [
    "## `finally` blocks in generators"
   ]
  },
  {
   "cell_type": "code",
   "execution_count": 41,
   "id": "bbbf412c-179f-4d7c-b8d5-74f030ef78ac",
   "metadata": {},
   "outputs": [],
   "source": [
    "def gen(): \n",
    "    try: \n",
    "        yield 1\n",
    "        yield 2\n",
    "        yield 3\n",
    "    finally: \n",
    "        print('Done.')"
   ]
  },
  {
   "cell_type": "code",
   "execution_count": 42,
   "id": "9f6a5a1b-1816-4755-9093-bea5fd711973",
   "metadata": {},
   "outputs": [
    {
     "name": "stdout",
     "output_type": "stream",
     "text": [
      "Done.\n"
     ]
    },
    {
     "data": {
      "text/plain": [
       "[1, 2, 3]"
      ]
     },
     "execution_count": 42,
     "metadata": {},
     "output_type": "execute_result"
    }
   ],
   "source": [
    "[x for x in gen()] # don't do this"
   ]
  },
  {
   "cell_type": "code",
   "execution_count": 43,
   "id": "6b3a685a-f0ef-4e83-bff3-7f1d36605cbd",
   "metadata": {},
   "outputs": [
    {
     "name": "stdout",
     "output_type": "stream",
     "text": [
      "Done.\n"
     ]
    },
    {
     "data": {
      "text/plain": [
       "[1, 2, 3]"
      ]
     },
     "execution_count": 43,
     "metadata": {},
     "output_type": "execute_result"
    }
   ],
   "source": [
    "list(gen()) # do this instead"
   ]
  },
  {
   "cell_type": "code",
   "execution_count": 44,
   "id": "ee9f85c9-3b87-4826-a139-37d05a3b3e92",
   "metadata": {},
   "outputs": [],
   "source": [
    "def f(): \n",
    "    gen()"
   ]
  },
  {
   "cell_type": "code",
   "execution_count": 45,
   "id": "67f33853-825b-47b6-ab5f-9eddb2e4415f",
   "metadata": {},
   "outputs": [],
   "source": [
    "f()"
   ]
  },
  {
   "cell_type": "code",
   "execution_count": 46,
   "id": "7e54ac07-84da-4335-a997-2eba8ea4710e",
   "metadata": {},
   "outputs": [],
   "source": [
    "def f2(): \n",
    "    g = gen()\n",
    "    return next(g)"
   ]
  },
  {
   "cell_type": "code",
   "execution_count": 47,
   "id": "feb2fd12-b068-415f-8b48-8d8d8aaa892a",
   "metadata": {},
   "outputs": [
    {
     "name": "stdout",
     "output_type": "stream",
     "text": [
      "Done.\n"
     ]
    },
    {
     "data": {
      "text/plain": [
       "1"
      ]
     },
     "execution_count": 47,
     "metadata": {},
     "output_type": "execute_result"
    }
   ],
   "source": [
    "f2()"
   ]
  },
  {
   "cell_type": "markdown",
   "id": "47765f5b-897d-42d9-a0a3-7ac28fc3ea91",
   "metadata": {},
   "source": [
    "## `GeneratorExit` is raised when destroying suspended generators"
   ]
  },
  {
   "cell_type": "code",
   "execution_count": 48,
   "id": "bbe5e059-3b0c-417c-abf0-a50446815886",
   "metadata": {},
   "outputs": [
    {
     "name": "stdout",
     "output_type": "stream",
     "text": [
      "Request that a generator exit.\n"
     ]
    }
   ],
   "source": [
    "print(GeneratorExit.__doc__)"
   ]
  },
  {
   "cell_type": "code",
   "execution_count": 49,
   "id": "34508957-a11f-4f76-888b-d577709f36d0",
   "metadata": {},
   "outputs": [
    {
     "data": {
      "text/plain": [
       "(BaseException,)"
      ]
     },
     "execution_count": 49,
     "metadata": {},
     "output_type": "execute_result"
    }
   ],
   "source": [
    "GeneratorExit.__bases__"
   ]
  },
  {
   "cell_type": "code",
   "execution_count": 50,
   "id": "9087951f-e4a3-4e0b-853e-43984b9fb84d",
   "metadata": {},
   "outputs": [
    {
     "data": {
      "text/plain": [
       "(Exception,)"
      ]
     },
     "execution_count": 50,
     "metadata": {},
     "output_type": "execute_result"
    }
   ],
   "source": [
    "ValueError.__bases__"
   ]
  },
  {
   "cell_type": "code",
   "execution_count": 51,
   "id": "73a6c47f-b068-42a6-b42f-0344760d436c",
   "metadata": {},
   "outputs": [
    {
     "data": {
      "text/plain": [
       "(Exception,)"
      ]
     },
     "execution_count": 51,
     "metadata": {},
     "output_type": "execute_result"
    }
   ],
   "source": [
    "TypeError.__bases__"
   ]
  },
  {
   "cell_type": "code",
   "execution_count": 52,
   "id": "8976d5e9-e1c3-418a-876b-110d50d1a7ac",
   "metadata": {},
   "outputs": [
    {
     "data": {
      "text/plain": [
       "(Exception,)"
      ]
     },
     "execution_count": 52,
     "metadata": {},
     "output_type": "execute_result"
    }
   ],
   "source": [
    "StopIteration.__bases__"
   ]
  },
  {
   "cell_type": "code",
   "execution_count": 53,
   "id": "766efff0-416c-42f4-ad29-c40ba4cd7ebe",
   "metadata": {},
   "outputs": [
    {
     "data": {
      "text/plain": [
       "(BaseException,)"
      ]
     },
     "execution_count": 53,
     "metadata": {},
     "output_type": "execute_result"
    }
   ],
   "source": [
    "SystemExit.__bases__"
   ]
  },
  {
   "cell_type": "code",
   "execution_count": 54,
   "id": "25f2cdfc-f7e0-4efe-a74f-ca8d44efbbba",
   "metadata": {},
   "outputs": [
    {
     "data": {
      "text/plain": [
       "(BaseException,)"
      ]
     },
     "execution_count": 54,
     "metadata": {},
     "output_type": "execute_result"
    }
   ],
   "source": [
    "Exception.__bases__"
   ]
  },
  {
   "cell_type": "code",
   "execution_count": 55,
   "id": "572d44f6-3ce2-4191-a170-ab69e5704b7e",
   "metadata": {},
   "outputs": [],
   "source": [
    "def gen2(): \n",
    "    try: \n",
    "        yield 1\n",
    "        yield 2\n",
    "        yield 3\n",
    "    except GeneratorExit: \n",
    "        print('Interrupted.')\n",
    "    finally: \n",
    "        print('Done.')"
   ]
  },
  {
   "cell_type": "code",
   "execution_count": 56,
   "id": "45288992-400e-473f-bc7d-12b75f8733c6",
   "metadata": {},
   "outputs": [
    {
     "name": "stdout",
     "output_type": "stream",
     "text": [
      "Done.\n"
     ]
    },
    {
     "data": {
      "text/plain": [
       "[1, 2, 3]"
      ]
     },
     "execution_count": 56,
     "metadata": {},
     "output_type": "execute_result"
    }
   ],
   "source": [
    "list(gen2())"
   ]
  },
  {
   "cell_type": "code",
   "execution_count": 57,
   "id": "1f47abbb-5724-4bc4-baab-3ad2eec2511b",
   "metadata": {},
   "outputs": [],
   "source": [
    "def f3(): \n",
    "    g = gen2()\n",
    "    return next(g)"
   ]
  },
  {
   "cell_type": "code",
   "execution_count": 58,
   "id": "e5ab8bcd-942b-4016-89a5-73d5de4cd645",
   "metadata": {},
   "outputs": [
    {
     "name": "stdout",
     "output_type": "stream",
     "text": [
      "Interrupted.\n",
      "Done.\n"
     ]
    },
    {
     "data": {
      "text/plain": [
       "1"
      ]
     },
     "execution_count": 58,
     "metadata": {},
     "output_type": "execute_result"
    }
   ],
   "source": [
    "f3()"
   ]
  },
  {
   "cell_type": "markdown",
   "id": "9658fb7b-2f3b-4596-9260-1decaaff9cc7",
   "metadata": {},
   "source": [
    "## It is an error to yield after `GeneratorExit`"
   ]
  },
  {
   "cell_type": "code",
   "execution_count": 59,
   "id": "0b0b8505-3068-4d9b-a6e3-bd84e5c266ca",
   "metadata": {},
   "outputs": [],
   "source": [
    "def gen_bad(): \n",
    "    try: \n",
    "        yield 1\n",
    "        yield 2\n",
    "        yield 3\n",
    "    except GeneratorExit: \n",
    "        print('Interrupted.')\n",
    "        yield 4\n",
    "    finally: \n",
    "        print('Done.')"
   ]
  },
  {
   "cell_type": "code",
   "execution_count": 60,
   "id": "6ecafde5-e0c3-4e4d-8933-f0b4d1561270",
   "metadata": {},
   "outputs": [],
   "source": [
    "def f4(): \n",
    "    g = gen_bad()\n",
    "    return next(g)"
   ]
  },
  {
   "cell_type": "code",
   "execution_count": 61,
   "id": "b5d74dc9-8f43-40f6-a148-9166f9d89b67",
   "metadata": {},
   "outputs": [
    {
     "name": "stderr",
     "output_type": "stream",
     "text": [
      "Exception ignored in: <generator object gen_bad at 0x0000012CD68A9540>\n",
      "Traceback (most recent call last):\n",
      "  File \"C:\\Users\\User\\AppData\\Local\\Temp\\ipykernel_9596\\1205670228.py\", line 1, in <cell line: 1>\n",
      "RuntimeError: generator ignored GeneratorExit\n"
     ]
    },
    {
     "name": "stdout",
     "output_type": "stream",
     "text": [
      "Interrupted.\n"
     ]
    },
    {
     "data": {
      "text/plain": [
       "1"
      ]
     },
     "execution_count": 61,
     "metadata": {},
     "output_type": "execute_result"
    }
   ],
   "source": [
    "f4()"
   ]
  },
  {
   "cell_type": "code",
   "execution_count": 62,
   "id": "21a5de4c-dabd-4e94-b89f-84ac2a543cda",
   "metadata": {},
   "outputs": [],
   "source": [
    "# s = [1]\n",
    "# s.append(s)"
   ]
  },
  {
   "cell_type": "markdown",
   "id": "c46e1a42-4ca9-4ce3-b2cb-7f7194d620aa",
   "metadata": {},
   "source": [
    "## Generator objects with reference cycles"
   ]
  },
  {
   "cell_type": "code",
   "execution_count": 63,
   "id": "91b6a856-7076-4439-9208-80b8764cf639",
   "metadata": {},
   "outputs": [],
   "source": [
    "def gen_rcycle():     \n",
    "    try: \n",
    "        s = [1]\n",
    "        yield s\n",
    "    finally: \n",
    "        print('Done')"
   ]
  },
  {
   "cell_type": "code",
   "execution_count": 64,
   "id": "504a622d-4b14-467b-8500-ba9c5b7c7f9a",
   "metadata": {},
   "outputs": [],
   "source": [
    "def do_stuff(): \n",
    "    ob = gen_rcycle() \n",
    "    next(ob).append(ob)"
   ]
  },
  {
   "cell_type": "code",
   "execution_count": 65,
   "id": "5c1aae93-45d9-46c8-bde4-e06770519f18",
   "metadata": {},
   "outputs": [],
   "source": [
    "do_stuff()"
   ]
  },
  {
   "cell_type": "code",
   "execution_count": 66,
   "id": "2a7c5a2d-c39b-4bc2-a886-3b23d5fd1c5e",
   "metadata": {},
   "outputs": [],
   "source": [
    "import gc"
   ]
  },
  {
   "cell_type": "code",
   "execution_count": 67,
   "id": "f931a18d-6f38-41fb-928a-d35f81be6499",
   "metadata": {},
   "outputs": [
    {
     "name": "stdout",
     "output_type": "stream",
     "text": [
      "Done\n"
     ]
    },
    {
     "data": {
      "text/plain": [
       "1390"
      ]
     },
     "execution_count": 67,
     "metadata": {},
     "output_type": "execute_result"
    }
   ],
   "source": [
    "gc.collect()"
   ]
  },
  {
   "cell_type": "markdown",
   "id": "3482e206-ebc7-4943-abb1-8ad27e330d37",
   "metadata": {},
   "source": [
    "## Generator objects are not context managers"
   ]
  },
  {
   "cell_type": "code",
   "execution_count": 68,
   "id": "6abb09dc-207c-4a14-bac2-497748375592",
   "metadata": {},
   "outputs": [],
   "source": [
    "def do_more_stuff(): \n",
    "    ob = gen_rcycle() \n",
    "    next(ob).append(ob)\n",
    "    return ob"
   ]
  },
  {
   "cell_type": "code",
   "execution_count": 69,
   "id": "f45cc69d-8668-49f5-b755-4314b7ac0c61",
   "metadata": {
    "tags": [
     "raises-exception"
    ]
   },
   "outputs": [
    {
     "name": "stdout",
     "output_type": "stream",
     "text": [
      "Done\n"
     ]
    },
    {
     "ename": "AttributeError",
     "evalue": "__enter__",
     "output_type": "error",
     "traceback": [
      "\u001b[1;31m---------------------------------------------------------------------------\u001b[0m",
      "\u001b[1;31mAttributeError\u001b[0m                            Traceback (most recent call last)",
      "Input \u001b[1;32mIn [69]\u001b[0m, in \u001b[0;36m<cell line: 1>\u001b[1;34m()\u001b[0m\n\u001b[1;32m----> 1\u001b[0m \u001b[38;5;28;01mwith\u001b[39;00m do_more_stuff(): \n\u001b[0;32m      2\u001b[0m     \u001b[38;5;28mprint\u001b[39m(\u001b[38;5;124m'\u001b[39m\u001b[38;5;124mUse resource acquired\u001b[39m\u001b[38;5;124m'\u001b[39m)\n",
      "\u001b[1;31mAttributeError\u001b[0m: __enter__"
     ]
    }
   ],
   "source": [
    "with do_more_stuff(): \n",
    "    print('Use resource acquired')"
   ]
  },
  {
   "cell_type": "code",
   "execution_count": 70,
   "id": "7f1f29f8-44a4-4288-8a33-9b2a7f1f1ea4",
   "metadata": {},
   "outputs": [
    {
     "data": {
      "text/plain": [
       "465"
      ]
     },
     "execution_count": 70,
     "metadata": {},
     "output_type": "execute_result"
    }
   ],
   "source": [
    "gc.collect()"
   ]
  },
  {
   "cell_type": "markdown",
   "id": "1c02d15a-f125-4cb1-a80f-c382931488fd",
   "metadata": {},
   "source": [
    "## Generator objects do have a `close` method"
   ]
  },
  {
   "cell_type": "code",
   "execution_count": 71,
   "id": "1f6ca461-0f4d-42a8-af42-d868d792b475",
   "metadata": {},
   "outputs": [],
   "source": [
    "ob1 = do_more_stuff()"
   ]
  },
  {
   "cell_type": "code",
   "execution_count": 72,
   "id": "84f6fcab-b31a-420c-8c23-2a87ea52b300",
   "metadata": {},
   "outputs": [
    {
     "data": {
      "text/plain": [
       "generator"
      ]
     },
     "execution_count": 72,
     "metadata": {},
     "output_type": "execute_result"
    }
   ],
   "source": [
    "type(ob1)"
   ]
  },
  {
   "cell_type": "code",
   "execution_count": 73,
   "id": "725ac49e-84c7-4e40-bf44-215ffc6a84f7",
   "metadata": {},
   "outputs": [
    {
     "data": {
      "text/plain": [
       "['__class__',\n",
       " '__del__',\n",
       " '__delattr__',\n",
       " '__dir__',\n",
       " '__doc__',\n",
       " '__eq__',\n",
       " '__format__',\n",
       " '__ge__',\n",
       " '__getattribute__',\n",
       " '__gt__',\n",
       " '__hash__',\n",
       " '__init__',\n",
       " '__init_subclass__',\n",
       " '__iter__',\n",
       " '__le__',\n",
       " '__lt__',\n",
       " '__name__',\n",
       " '__ne__',\n",
       " '__new__',\n",
       " '__next__',\n",
       " '__qualname__',\n",
       " '__reduce__',\n",
       " '__reduce_ex__',\n",
       " '__repr__',\n",
       " '__setattr__',\n",
       " '__sizeof__',\n",
       " '__str__',\n",
       " '__subclasshook__',\n",
       " 'close',\n",
       " 'gi_code',\n",
       " 'gi_frame',\n",
       " 'gi_running',\n",
       " 'gi_yieldfrom',\n",
       " 'send',\n",
       " 'throw']"
      ]
     },
     "execution_count": 73,
     "metadata": {},
     "output_type": "execute_result"
    }
   ],
   "source": [
    "dir(ob1)"
   ]
  },
  {
   "cell_type": "code",
   "execution_count": 74,
   "id": "e226d4f3-56e9-4b08-afb8-ded7ffb14b07",
   "metadata": {},
   "outputs": [
    {
     "name": "stdout",
     "output_type": "stream",
     "text": [
      "Help on built-in function close:\n",
      "\n",
      "close(...) method of builtins.generator instance\n",
      "    close() -> raise GeneratorExit inside generator.\n",
      "\n"
     ]
    }
   ],
   "source": [
    "help(ob1.close)"
   ]
  },
  {
   "cell_type": "code",
   "execution_count": 75,
   "id": "61fa95ff-0a4c-4ea0-8c7b-3ab27b76651b",
   "metadata": {},
   "outputs": [
    {
     "name": "stdout",
     "output_type": "stream",
     "text": [
      "If I use ob1, I would use it here\n",
      "Done\n"
     ]
    }
   ],
   "source": [
    "ob1 = do_more_stuff()\n",
    "try: \n",
    "    print('If I use ob1, I would use it here')\n",
    "finally: \n",
    "    ob1.close()"
   ]
  },
  {
   "cell_type": "code",
   "execution_count": 76,
   "id": "c996b01d-4c6c-4a5d-9fcf-4c6f7c55aee7",
   "metadata": {},
   "outputs": [],
   "source": [
    "import contextlib"
   ]
  },
  {
   "cell_type": "code",
   "execution_count": 77,
   "id": "dab262a2-e15b-4b04-a030-723f012f04fc",
   "metadata": {},
   "outputs": [
    {
     "name": "stdout",
     "output_type": "stream",
     "text": [
      "Use resource acquired\n",
      "Done\n"
     ]
    }
   ],
   "source": [
    "with contextlib.closing(do_more_stuff()): \n",
    "    print('Use resource acquired')"
   ]
  },
  {
   "cell_type": "markdown",
   "id": "6e5c5bdd-68a5-4275-9e10-30d3de4cadf5",
   "metadata": {},
   "source": [
    "**TODO:** Examine materialization and acquision/release in `itertools.tee`."
   ]
  },
  {
   "cell_type": "markdown",
   "id": "78a10d01-f3af-425f-84a9-0a9060f2fc3d",
   "metadata": {},
   "source": [
    "## Review of materialization"
   ]
  },
  {
   "cell_type": "code",
   "execution_count": 78,
   "id": "af496167-b0c6-48e3-9ad8-fbfc8e5ce650",
   "metadata": {},
   "outputs": [],
   "source": [
    "def product_three(one, two, three): \n",
    "    my_one = list(one)\n",
    "    my_two = list(two)\n",
    "    my_three = list(three)\n",
    "    return ((x, y, z) for x in my_one for y in my_two for z in my_three)"
   ]
  },
  {
   "cell_type": "code",
   "execution_count": 79,
   "id": "7c65c961-aee1-4484-a226-065e9c6024b9",
   "metadata": {},
   "outputs": [],
   "source": [
    "groups = product_three(['a', 'b', 'c'], (x for x in range(4)), (100, 200, 300))"
   ]
  },
  {
   "cell_type": "code",
   "execution_count": 80,
   "id": "24d951da-f836-4641-bddb-575a8c74a7f4",
   "metadata": {},
   "outputs": [
    {
     "name": "stdout",
     "output_type": "stream",
     "text": [
      "Done\n"
     ]
    },
    {
     "data": {
      "text/plain": [
       "[('a', 0, 100),\n",
       " ('a', 0, 200),\n",
       " ('a', 0, 300),\n",
       " ('a', 1, 100),\n",
       " ('a', 1, 200),\n",
       " ('a', 1, 300),\n",
       " ('a', 2, 100),\n",
       " ('a', 2, 200),\n",
       " ('a', 2, 300),\n",
       " ('a', 3, 100),\n",
       " ('a', 3, 200),\n",
       " ('a', 3, 300),\n",
       " ('b', 0, 100),\n",
       " ('b', 0, 200),\n",
       " ('b', 0, 300),\n",
       " ('b', 1, 100),\n",
       " ('b', 1, 200),\n",
       " ('b', 1, 300),\n",
       " ('b', 2, 100),\n",
       " ('b', 2, 200),\n",
       " ('b', 2, 300),\n",
       " ('b', 3, 100),\n",
       " ('b', 3, 200),\n",
       " ('b', 3, 300),\n",
       " ('c', 0, 100),\n",
       " ('c', 0, 200),\n",
       " ('c', 0, 300),\n",
       " ('c', 1, 100),\n",
       " ('c', 1, 200),\n",
       " ('c', 1, 300),\n",
       " ('c', 2, 100),\n",
       " ('c', 2, 200),\n",
       " ('c', 2, 300),\n",
       " ('c', 3, 100),\n",
       " ('c', 3, 200),\n",
       " ('c', 3, 300)]"
      ]
     },
     "execution_count": 80,
     "metadata": {},
     "output_type": "execute_result"
    }
   ],
   "source": [
    "list(groups)"
   ]
  },
  {
   "cell_type": "markdown",
   "id": "de6a8f78-42ec-4cbe-851b-156d2825c7cd",
   "metadata": {},
   "source": [
    "## Spilling the `tee`"
   ]
  },
  {
   "cell_type": "code",
   "execution_count": 81,
   "id": "6810bf9a-f1da-4d1b-b2fa-d8ca5f86dd91",
   "metadata": {},
   "outputs": [
    {
     "name": "stdout",
     "output_type": "stream",
     "text": [
      "Help on built-in function tee in module itertools:\n",
      "\n",
      "tee(iterable, n=2, /)\n",
      "    Returns a tuple of n independent iterators.\n",
      "\n"
     ]
    }
   ],
   "source": [
    "help(itertools.tee)"
   ]
  },
  {
   "cell_type": "code",
   "execution_count": 82,
   "id": "7d95e840-d1af-4163-b751-3138d51f0ec3",
   "metadata": {},
   "outputs": [],
   "source": [
    "s = [1, 2, 3, 4]"
   ]
  },
  {
   "cell_type": "code",
   "execution_count": 83,
   "id": "5db7d9d0-7148-4a77-8572-183e1fd03f51",
   "metadata": {},
   "outputs": [],
   "source": [
    "i1, i2 = itertools.tee(s)"
   ]
  },
  {
   "cell_type": "code",
   "execution_count": 84,
   "id": "da149fbf-8779-489b-a2f1-89a06e36d5d2",
   "metadata": {},
   "outputs": [
    {
     "data": {
      "text/plain": [
       "1"
      ]
     },
     "execution_count": 84,
     "metadata": {},
     "output_type": "execute_result"
    }
   ],
   "source": [
    "next(i1)"
   ]
  },
  {
   "cell_type": "code",
   "execution_count": 85,
   "id": "2f9e0258-8d6a-4ce3-ba82-81ea5bc760d6",
   "metadata": {},
   "outputs": [
    {
     "data": {
      "text/plain": [
       "2"
      ]
     },
     "execution_count": 85,
     "metadata": {},
     "output_type": "execute_result"
    }
   ],
   "source": [
    "next(i1)"
   ]
  },
  {
   "cell_type": "code",
   "execution_count": 86,
   "id": "49f664e0-b250-4d8f-a7a2-e6b4ef44e317",
   "metadata": {},
   "outputs": [
    {
     "data": {
      "text/plain": [
       "1"
      ]
     },
     "execution_count": 86,
     "metadata": {},
     "output_type": "execute_result"
    }
   ],
   "source": [
    "next(i2)"
   ]
  },
  {
   "cell_type": "code",
   "execution_count": 87,
   "id": "6e951b5c-9824-4322-a1b3-c0f4b0ea8752",
   "metadata": {},
   "outputs": [
    {
     "data": {
      "text/plain": [
       "2"
      ]
     },
     "execution_count": 87,
     "metadata": {},
     "output_type": "execute_result"
    }
   ],
   "source": [
    "next(i2)"
   ]
  },
  {
   "cell_type": "code",
   "execution_count": 88,
   "id": "d3f32301-6b9d-4191-804d-bd71052d1b02",
   "metadata": {},
   "outputs": [
    {
     "data": {
      "text/plain": [
       "[3, 4]"
      ]
     },
     "execution_count": 88,
     "metadata": {},
     "output_type": "execute_result"
    }
   ],
   "source": [
    "list(i2)"
   ]
  },
  {
   "cell_type": "code",
   "execution_count": 89,
   "id": "e6aa69ca-f27a-44bd-a24b-27fd22ec4c0f",
   "metadata": {},
   "outputs": [
    {
     "data": {
      "text/plain": [
       "[3, 4]"
      ]
     },
     "execution_count": 89,
     "metadata": {},
     "output_type": "execute_result"
    }
   ],
   "source": [
    "list(i1)"
   ]
  },
  {
   "cell_type": "code",
   "execution_count": 90,
   "id": "270e83c8-42ca-48cc-8cc2-6fce4cb401ab",
   "metadata": {},
   "outputs": [],
   "source": [
    "squares = (x**2 for x in s)"
   ]
  },
  {
   "cell_type": "code",
   "execution_count": 91,
   "id": "956f0d7d-cc35-42de-a5d8-7d59e38a12c2",
   "metadata": {},
   "outputs": [],
   "source": [
    "s1, s2 = itertools.tee(squares)"
   ]
  },
  {
   "cell_type": "code",
   "execution_count": 92,
   "id": "a07fd3be-bdb1-4fac-b913-03d3f87764ba",
   "metadata": {},
   "outputs": [
    {
     "data": {
      "text/plain": [
       "[1, 4, 9, 16]"
      ]
     },
     "execution_count": 92,
     "metadata": {},
     "output_type": "execute_result"
    }
   ],
   "source": [
    "list(s1)"
   ]
  },
  {
   "cell_type": "code",
   "execution_count": 93,
   "id": "291b659f-7b14-4aa0-88b0-1918e4a135cd",
   "metadata": {},
   "outputs": [
    {
     "data": {
      "text/plain": [
       "[1, 4, 9, 16]"
      ]
     },
     "execution_count": 93,
     "metadata": {},
     "output_type": "execute_result"
    }
   ],
   "source": [
    "list(s2)"
   ]
  },
  {
   "cell_type": "code",
   "execution_count": 94,
   "id": "69ea5c3d-3220-49fc-82b2-02a1b2d2e704",
   "metadata": {},
   "outputs": [
    {
     "data": {
      "text/plain": [
       "'GEN_CLOSED'"
      ]
     },
     "execution_count": 94,
     "metadata": {},
     "output_type": "execute_result"
    }
   ],
   "source": [
    "inspect.getgeneratorstate(squares)"
   ]
  },
  {
   "cell_type": "code",
   "execution_count": 95,
   "id": "e767feff-948a-4309-90aa-86cc341ce565",
   "metadata": {},
   "outputs": [
    {
     "ename": "StopIteration",
     "evalue": "",
     "output_type": "error",
     "traceback": [
      "\u001b[1;31m---------------------------------------------------------------------------\u001b[0m",
      "\u001b[1;31mStopIteration\u001b[0m                             Traceback (most recent call last)",
      "Input \u001b[1;32mIn [95]\u001b[0m, in \u001b[0;36m<cell line: 1>\u001b[1;34m()\u001b[0m\n\u001b[1;32m----> 1\u001b[0m \u001b[38;5;28;43mnext\u001b[39;49m\u001b[43m(\u001b[49m\u001b[43msquares\u001b[49m\u001b[43m)\u001b[49m\n",
      "\u001b[1;31mStopIteration\u001b[0m: "
     ]
    }
   ],
   "source": [
    "next(squares)"
   ]
  },
  {
   "cell_type": "code",
   "execution_count": 96,
   "id": "efa32519-2827-4334-9473-1270eb084de3",
   "metadata": {},
   "outputs": [],
   "source": [
    "squares = (x**2 for x in itertools.count(start=1))"
   ]
  },
  {
   "cell_type": "code",
   "execution_count": 97,
   "id": "9c31d857-f9f0-4296-a53c-c0f8141831b2",
   "metadata": {},
   "outputs": [],
   "source": [
    "s1, s2 = itertools.tee(squares)"
   ]
  },
  {
   "cell_type": "code",
   "execution_count": 98,
   "id": "08ff367a-c7ea-45c8-8bbf-2727cc42661e",
   "metadata": {},
   "outputs": [
    {
     "data": {
      "text/plain": [
       "1"
      ]
     },
     "execution_count": 98,
     "metadata": {},
     "output_type": "execute_result"
    }
   ],
   "source": [
    "next(s1)"
   ]
  },
  {
   "cell_type": "code",
   "execution_count": 99,
   "id": "6f3f3d96-f405-4c24-923f-4fa5ab331bfa",
   "metadata": {},
   "outputs": [
    {
     "data": {
      "text/plain": [
       "4"
      ]
     },
     "execution_count": 99,
     "metadata": {},
     "output_type": "execute_result"
    }
   ],
   "source": [
    "next(s1)"
   ]
  },
  {
   "cell_type": "code",
   "execution_count": 100,
   "id": "2e65d175-e809-4ef1-874f-dad7419e0592",
   "metadata": {},
   "outputs": [
    {
     "data": {
      "text/plain": [
       "9"
      ]
     },
     "execution_count": 100,
     "metadata": {},
     "output_type": "execute_result"
    }
   ],
   "source": [
    "next(s1)"
   ]
  },
  {
   "cell_type": "code",
   "execution_count": 101,
   "id": "0cb44feb-4de9-4686-924c-c867cb169ac5",
   "metadata": {},
   "outputs": [
    {
     "data": {
      "text/plain": [
       "16"
      ]
     },
     "execution_count": 101,
     "metadata": {},
     "output_type": "execute_result"
    }
   ],
   "source": [
    "next(s1)"
   ]
  },
  {
   "cell_type": "code",
   "execution_count": 102,
   "id": "4517adc3-9fb7-41cc-af3b-3d601f764851",
   "metadata": {},
   "outputs": [
    {
     "data": {
      "text/plain": [
       "25"
      ]
     },
     "execution_count": 102,
     "metadata": {},
     "output_type": "execute_result"
    }
   ],
   "source": [
    "next(s1)"
   ]
  },
  {
   "cell_type": "code",
   "execution_count": 103,
   "id": "440536ff-df7e-465b-ae91-7c1d3f67afad",
   "metadata": {},
   "outputs": [
    {
     "data": {
      "text/plain": [
       "1"
      ]
     },
     "execution_count": 103,
     "metadata": {},
     "output_type": "execute_result"
    }
   ],
   "source": [
    "next(s2)"
   ]
  },
  {
   "cell_type": "code",
   "execution_count": 104,
   "id": "69ef379d-81b6-43cd-8f63-42192113c94a",
   "metadata": {},
   "outputs": [
    {
     "data": {
      "text/plain": [
       "4"
      ]
     },
     "execution_count": 104,
     "metadata": {},
     "output_type": "execute_result"
    }
   ],
   "source": [
    "next(s2)"
   ]
  },
  {
   "cell_type": "code",
   "execution_count": 105,
   "id": "93838840-ced7-4a96-9c6c-0f813e7c967d",
   "metadata": {},
   "outputs": [
    {
     "data": {
      "text/plain": [
       "9"
      ]
     },
     "execution_count": 105,
     "metadata": {},
     "output_type": "execute_result"
    }
   ],
   "source": [
    "next(s2)"
   ]
  },
  {
   "cell_type": "code",
   "execution_count": 106,
   "id": "6d426d80-a301-49a1-83e2-fb854defd860",
   "metadata": {},
   "outputs": [
    {
     "data": {
      "text/plain": [
       "16"
      ]
     },
     "execution_count": 106,
     "metadata": {},
     "output_type": "execute_result"
    }
   ],
   "source": [
    "next(s2)"
   ]
  },
  {
   "cell_type": "code",
   "execution_count": 107,
   "id": "22592a83-9762-42fd-beac-6fc94a48fb0e",
   "metadata": {},
   "outputs": [
    {
     "data": {
      "text/plain": [
       "'GEN_SUSPENDED'"
      ]
     },
     "execution_count": 107,
     "metadata": {},
     "output_type": "execute_result"
    }
   ],
   "source": [
    "inspect.getgeneratorstate(squares)"
   ]
  },
  {
   "cell_type": "code",
   "execution_count": 108,
   "id": "983304d6-8655-4469-8e62-bcbe21005813",
   "metadata": {},
   "outputs": [],
   "source": [
    "squares.close()"
   ]
  },
  {
   "cell_type": "code",
   "execution_count": 109,
   "id": "88dcdb4b-bf2d-4f70-b615-a32da10b4942",
   "metadata": {},
   "outputs": [
    {
     "data": {
      "text/plain": [
       "25"
      ]
     },
     "execution_count": 109,
     "metadata": {},
     "output_type": "execute_result"
    }
   ],
   "source": [
    "next(s2)"
   ]
  },
  {
   "cell_type": "code",
   "execution_count": 110,
   "id": "8fe3d7e2-71c2-4b62-9daf-d11183c4e137",
   "metadata": {},
   "outputs": [
    {
     "ename": "StopIteration",
     "evalue": "",
     "output_type": "error",
     "traceback": [
      "\u001b[1;31m---------------------------------------------------------------------------\u001b[0m",
      "\u001b[1;31mStopIteration\u001b[0m                             Traceback (most recent call last)",
      "Input \u001b[1;32mIn [110]\u001b[0m, in \u001b[0;36m<cell line: 1>\u001b[1;34m()\u001b[0m\n\u001b[1;32m----> 1\u001b[0m \u001b[38;5;28;43mnext\u001b[39;49m\u001b[43m(\u001b[49m\u001b[43ms2\u001b[49m\u001b[43m)\u001b[49m\n",
      "\u001b[1;31mStopIteration\u001b[0m: "
     ]
    }
   ],
   "source": [
    "next(s2)"
   ]
  },
  {
   "cell_type": "code",
   "execution_count": 111,
   "id": "1b4741f1-6477-419c-b167-bba396dff39b",
   "metadata": {},
   "outputs": [
    {
     "ename": "StopIteration",
     "evalue": "",
     "output_type": "error",
     "traceback": [
      "\u001b[1;31m---------------------------------------------------------------------------\u001b[0m",
      "\u001b[1;31mStopIteration\u001b[0m                             Traceback (most recent call last)",
      "Input \u001b[1;32mIn [111]\u001b[0m, in \u001b[0;36m<cell line: 1>\u001b[1;34m()\u001b[0m\n\u001b[1;32m----> 1\u001b[0m \u001b[38;5;28;43mnext\u001b[39;49m\u001b[43m(\u001b[49m\u001b[43ms1\u001b[49m\u001b[43m)\u001b[49m\n",
      "\u001b[1;31mStopIteration\u001b[0m: "
     ]
    }
   ],
   "source": [
    "next(s1)"
   ]
  },
  {
   "cell_type": "code",
   "execution_count": 118,
   "id": "6ddc9fd8-3995-4a58-9c59-b2fd6fc0a901",
   "metadata": {},
   "outputs": [],
   "source": [
    "x, y = itertools.tee(itertools.count())"
   ]
  },
  {
   "cell_type": "code",
   "execution_count": 119,
   "id": "b676d561-5ee2-4aaf-bb5c-b9b8ce1d2734",
   "metadata": {},
   "outputs": [
    {
     "data": {
      "text/plain": [
       "0"
      ]
     },
     "execution_count": 119,
     "metadata": {},
     "output_type": "execute_result"
    }
   ],
   "source": [
    "next(y)"
   ]
  },
  {
   "cell_type": "code",
   "execution_count": 120,
   "id": "3421623d-1b05-4fc5-8632-c8adad7b64b2",
   "metadata": {},
   "outputs": [
    {
     "data": {
      "text/plain": [
       "1"
      ]
     },
     "execution_count": 120,
     "metadata": {},
     "output_type": "execute_result"
    }
   ],
   "source": [
    "next(y)"
   ]
  },
  {
   "cell_type": "code",
   "execution_count": 121,
   "id": "ebd44a37-579a-4ca7-addc-fdaedb635545",
   "metadata": {},
   "outputs": [
    {
     "data": {
      "text/plain": [
       "2"
      ]
     },
     "execution_count": 121,
     "metadata": {},
     "output_type": "execute_result"
    }
   ],
   "source": [
    "next(y)"
   ]
  },
  {
   "cell_type": "code",
   "execution_count": 122,
   "id": "ba39ee79-ecb4-46d5-91d5-8acabdb0fa63",
   "metadata": {},
   "outputs": [],
   "source": [
    "z = zip(x, y)"
   ]
  },
  {
   "cell_type": "code",
   "execution_count": 123,
   "id": "917c3c13-8035-4094-af28-3719818aef71",
   "metadata": {},
   "outputs": [
    {
     "data": {
      "text/plain": [
       "(0, 3)"
      ]
     },
     "execution_count": 123,
     "metadata": {},
     "output_type": "execute_result"
    }
   ],
   "source": [
    "next(z)"
   ]
  },
  {
   "cell_type": "code",
   "execution_count": 124,
   "id": "419ebd9f-12bc-403c-b64c-a040ffd3de0f",
   "metadata": {},
   "outputs": [
    {
     "data": {
      "text/plain": [
       "(1, 4)"
      ]
     },
     "execution_count": 124,
     "metadata": {},
     "output_type": "execute_result"
    }
   ],
   "source": [
    "next(z)"
   ]
  },
  {
   "cell_type": "code",
   "execution_count": 125,
   "id": "1daa3573-1d38-4fe6-9ced-335829b9eebe",
   "metadata": {},
   "outputs": [
    {
     "data": {
      "text/plain": [
       "(2, 5)"
      ]
     },
     "execution_count": 125,
     "metadata": {},
     "output_type": "execute_result"
    }
   ],
   "source": [
    "next(z)"
   ]
  },
  {
   "cell_type": "code",
   "execution_count": 126,
   "id": "d70fa1d4-734b-4b08-8e8b-91f5d4a76242",
   "metadata": {},
   "outputs": [],
   "source": [
    "for _ in range(100_000_000): \n",
    "    next(z)"
   ]
  },
  {
   "cell_type": "code",
   "execution_count": 127,
   "id": "25027db5-b364-4638-b184-f250fc8b0b33",
   "metadata": {},
   "outputs": [
    {
     "data": {
      "text/plain": [
       "(100000003, 100000006)"
      ]
     },
     "execution_count": 127,
     "metadata": {},
     "output_type": "execute_result"
    }
   ],
   "source": [
    "next(z)"
   ]
  },
  {
   "cell_type": "code",
   "execution_count": 128,
   "id": "a2b87e39-7c6f-4d0b-83f3-7111d2397c8a",
   "metadata": {},
   "outputs": [],
   "source": [
    "# Takes a long time, but still doesn't use much memory:\n",
    "\n",
    "# for _ in range(1_000_000_000): \n",
    "#     next(z)"
   ]
  },
  {
   "cell_type": "code",
   "execution_count": null,
   "id": "ecd65cd2-f7d0-4cc2-bc03-f7975cddf198",
   "metadata": {},
   "outputs": [],
   "source": []
  }
 ],
 "metadata": {
  "kernelspec": {
   "display_name": "Python 3 (ipykernel)",
   "language": "python",
   "name": "python3"
  },
  "language_info": {
   "codemirror_mode": {
    "name": "ipython",
    "version": 3
   },
   "file_extension": ".py",
   "mimetype": "text/x-python",
   "name": "python",
   "nbconvert_exporter": "python",
   "pygments_lexer": "ipython3",
   "version": "3.10.5"
  }
 },
 "nbformat": 4,
 "nbformat_minor": 5
}
