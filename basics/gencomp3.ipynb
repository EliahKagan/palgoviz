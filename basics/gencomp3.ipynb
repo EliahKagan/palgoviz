{
 "cells": [
  {
   "cell_type": "markdown",
   "id": "aaf90289-66f0-4680-9da4-87ac5053e662",
   "metadata": {},
   "source": [
    "# Generators & Comprehensions - Part 3\n",
    "\n",
    "This will cover more advanced generators and comprehensions (and other iterator) topics, but it starts with some review (and tips)."
   ]
  },
  {
   "cell_type": "code",
   "execution_count": 1,
   "id": "64ef8698-3abf-4d58-8de3-04f1952c3536",
   "metadata": {},
   "outputs": [
    {
     "data": {
      "text/plain": [
       "[0, 1, 4, 9, 16, 25, 36, 49, 64, 81]"
      ]
     },
     "execution_count": 1,
     "metadata": {},
     "output_type": "execute_result"
    }
   ],
   "source": [
    "# Just mapping (no filtering).\n",
    "[x**2 for x in range(10)]"
   ]
  },
  {
   "cell_type": "code",
   "execution_count": 2,
   "id": "2d183ecf-674d-4ffe-aee3-966dfc5907b8",
   "metadata": {},
   "outputs": [
    {
     "data": {
      "text/plain": [
       "[1, 4, 16, 25, 49, 64]"
      ]
     },
     "execution_count": 2,
     "metadata": {},
     "output_type": "execute_result"
    }
   ],
   "source": [
    "# Mapping and filtering.\n",
    "[x**2 for x in range(10) if x % 3 != 0]"
   ]
  },
  {
   "cell_type": "code",
   "execution_count": 3,
   "id": "baddd962-65b5-4944-96e0-213750d4c5bf",
   "metadata": {},
   "outputs": [
    {
     "data": {
      "text/plain": [
       "[1, 2, 4, 5, 7, 8]"
      ]
     },
     "execution_count": 3,
     "metadata": {},
     "output_type": "execute_result"
    }
   ],
   "source": [
    "# Filtering. (Technically also mapping.)\n",
    "[x for x in range(10) if x % 3 != 0]"
   ]
  },
  {
   "cell_type": "code",
   "execution_count": 4,
   "id": "5b7a5d3d-c5e1-443b-a773-94dd304b38eb",
   "metadata": {},
   "outputs": [],
   "source": [
    "s = ['hello', 'my', 'name', 'is', 'David', 'Vassallo']"
   ]
  },
  {
   "cell_type": "code",
   "execution_count": 5,
   "id": "63cdbb90-06da-45ad-864b-256f3c7212ae",
   "metadata": {},
   "outputs": [
    {
     "data": {
      "text/plain": [
       "['hello', 'my', 'name', 'is']"
      ]
     },
     "execution_count": 5,
     "metadata": {},
     "output_type": "execute_result"
    }
   ],
   "source": [
    "# A list of the all-lowercase words in s.\n",
    "# Only filters.\n",
    "[word for word in s if word.islower()]"
   ]
  },
  {
   "cell_type": "code",
   "execution_count": 6,
   "id": "9ed1b00f-b561-4861-87cf-704fb14842f2",
   "metadata": {},
   "outputs": [
    {
     "data": {
      "text/plain": [
       "[5, 2, 4, 2, 5, 8]"
      ]
     },
     "execution_count": 6,
     "metadata": {},
     "output_type": "execute_result"
    }
   ],
   "source": [
    "# A list of the lengths of all the words in s.\n",
    "# Only maps.\n",
    "[len(word) for word in s]"
   ]
  },
  {
   "cell_type": "code",
   "execution_count": 7,
   "id": "c23a5a15-2ce7-4cc4-b5af-6d050a85ef0f",
   "metadata": {},
   "outputs": [
    {
     "data": {
      "text/plain": [
       "[5, 2, 4, 2]"
      ]
     },
     "execution_count": 7,
     "metadata": {},
     "output_type": "execute_result"
    }
   ],
   "source": [
    "# A list of the lengths of the all-lowercase words in s\n",
    "# Maps and filters. \n",
    "[len(word) for word in s if word.islower()]"
   ]
  },
  {
   "cell_type": "code",
   "execution_count": 8,
   "id": "729a2867-a238-431e-8712-0ddd1fa29660",
   "metadata": {},
   "outputs": [
    {
     "data": {
      "text/plain": [
       "[5, 2, 4, 2]"
      ]
     },
     "execution_count": 8,
     "metadata": {},
     "output_type": "execute_result"
    }
   ],
   "source": [
    "# A list of the lengths of the all-lowercase words in s, using map and filter.\n",
    "# This does not use any comprehensions of any kind.\n",
    "list(map(len, filter(str.islower, s)))"
   ]
  },
  {
   "cell_type": "code",
   "execution_count": 9,
   "id": "a99a680f-39fd-456a-894b-d37113acaee5",
   "metadata": {},
   "outputs": [],
   "source": [
    "# Use LBYL to show that map and filter are iterator types.\n",
    "# Then likewise show, with instances of them, that they are iterator objects.\n",
    "from collections.abc import Iterator, Mapping"
   ]
  },
  {
   "cell_type": "code",
   "execution_count": 10,
   "id": "8b8dd207-f389-46d8-b57b-37fc01370e29",
   "metadata": {},
   "outputs": [
    {
     "data": {
      "text/plain": [
       "True"
      ]
     },
     "execution_count": 10,
     "metadata": {},
     "output_type": "execute_result"
    }
   ],
   "source": [
    "issubclass(map, Iterator)"
   ]
  },
  {
   "cell_type": "code",
   "execution_count": 11,
   "id": "4f1bdc36-d68b-42dc-b06b-3c369fda8b47",
   "metadata": {},
   "outputs": [
    {
     "data": {
      "text/plain": [
       "True"
      ]
     },
     "execution_count": 11,
     "metadata": {},
     "output_type": "execute_result"
    }
   ],
   "source": [
    "issubclass(filter, Iterator)"
   ]
  },
  {
   "cell_type": "code",
   "execution_count": 12,
   "id": "532b7e5e-2929-465f-829d-32dcb917fd66",
   "metadata": {},
   "outputs": [
    {
     "data": {
      "text/plain": [
       "True"
      ]
     },
     "execution_count": 12,
     "metadata": {},
     "output_type": "execute_result"
    }
   ],
   "source": [
    "isinstance(map(len, s), Iterator)"
   ]
  },
  {
   "cell_type": "code",
   "execution_count": 13,
   "id": "cb9c78bc-a8ea-47ca-83af-667058bc0870",
   "metadata": {},
   "outputs": [
    {
     "data": {
      "text/plain": [
       "True"
      ]
     },
     "execution_count": 13,
     "metadata": {},
     "output_type": "execute_result"
    }
   ],
   "source": [
    "isinstance(filter(str.islower, s), Iterator)"
   ]
  },
  {
   "cell_type": "code",
   "execution_count": 14,
   "id": "fcbfffe2-09fa-427a-b9d8-75464a2366f3",
   "metadata": {},
   "outputs": [
    {
     "data": {
      "text/plain": [
       "False"
      ]
     },
     "execution_count": 14,
     "metadata": {},
     "output_type": "execute_result"
    }
   ],
   "source": [
    "# The builtin map type should not be confused with mappings (i.e., dict-like objects).\n",
    "# Show with LBYL that map is not a mapping type.\n",
    "issubclass(map, Mapping)"
   ]
  },
  {
   "cell_type": "markdown",
   "id": "e126ad68",
   "metadata": {},
   "source": [
    "**Tip 1:** Iterators are iterable. That is, you can call `next` on iterators, but you can also call `iter` on an iterator, which gives you back an equivalent iterator, almost always the very same iterator object."
   ]
  },
  {
   "cell_type": "markdown",
   "id": "0b538873",
   "metadata": {},
   "source": [
    "**Tip 2:** Do not confuse callables with iterators. A callable gives a value when called; an iterator gives a value when passed to `next`."
   ]
  },
  {
   "cell_type": "markdown",
   "id": "b9b974a8",
   "metadata": {},
   "source": [
    "**Tip 3:** Strongly prefer high-level constructs like `for` over explicitly calling `iter` or `next`.\n",
    "\n",
    "It is fairly rare to call `next` outside of code that performs general iterator operations such as those performed by the code in `itertools`.\n",
    "\n",
    "You shouldn't be afraid to use the `iter` and `next` builtin (in any context). But every time you use them, you should be able to clearly articulate why you need or want to use them instead of higher level constructs like `for`."
   ]
  },
  {
   "cell_type": "markdown",
   "id": "21da5da6-bdf8-4f07-a4c3-d109032127f1",
   "metadata": {},
   "source": [
    "**Tip 4:** Anytime you write something like:\n",
    "\n",
    "```python\n",
    "(x for x in some_expression)\n",
    "```\n",
    "\n",
    "Or:\n",
    "\n",
    "```python\n",
    "((x, y) for x, y in some_expression)\n",
    "```\n",
    "\n",
    "Make sure you understand why you are writing that instead of just:\n",
    "\n",
    "```python\n",
    "some_expression\n",
    "```\n",
    "\n",
    "Only in rare cases should you write comprehensions of that form."
   ]
  },
  {
   "cell_type": "markdown",
   "id": "0a622963",
   "metadata": {},
   "source": [
    "**Tip 5:** Remember the `sum` builtin."
   ]
  },
  {
   "cell_type": "markdown",
   "id": "2a1597e3",
   "metadata": {},
   "source": [
    "**Tip 6:** Materialize an iterable when *both*:\n",
    "\n",
    "1. it might be consumed by iteration (in almost all cases, this is when it's an iterator) *and*\n",
    "\n",
    "2. you need, or may need, to iterate through its values multiple times.\n",
    "\n",
    "You should not usually perform materialization unless both of these conditions hold.\n",
    "\n",
    "Note also that `a = list(b)` and `a = tuple(b)` materialize `b`, but `a = b` does not, because assignment just copies a reference. There is no situation in which running `a = b` and then iterating through `a` behaves any differently from just iterating through `b`.\n",
    "\n"
   ]
  },
  {
   "cell_type": "code",
   "execution_count": 15,
   "id": "c45ed318-d244-4cc2-bd3a-2c5d4bcf548a",
   "metadata": {},
   "outputs": [],
   "source": [
    "import inspect\n",
    "import itertools"
   ]
  },
  {
   "cell_type": "code",
   "execution_count": 16,
   "id": "79b5b93d-bea3-430f-8d1a-01ab3011adea",
   "metadata": {},
   "outputs": [
    {
     "name": "stdout",
     "output_type": "stream",
     "text": [
      "Functional tools for creating and using iterators.\n",
      "\n",
      "Infinite iterators:\n",
      "count(start=0, step=1) --> start, start+step, start+2*step, ...\n",
      "cycle(p) --> p0, p1, ... plast, p0, p1, ...\n",
      "repeat(elem [,n]) --> elem, elem, elem, ... endlessly or up to n times\n",
      "\n",
      "Iterators terminating on the shortest input sequence:\n",
      "accumulate(p[, func]) --> p0, p0+p1, p0+p1+p2\n",
      "chain(p, q, ...) --> p0, p1, ... plast, q0, q1, ...\n",
      "chain.from_iterable([p, q, ...]) --> p0, p1, ... plast, q0, q1, ...\n",
      "compress(data, selectors) --> (d[0] if s[0]), (d[1] if s[1]), ...\n",
      "dropwhile(pred, seq) --> seq[n], seq[n+1], starting when pred fails\n",
      "groupby(iterable[, keyfunc]) --> sub-iterators grouped by value of keyfunc(v)\n",
      "filterfalse(pred, seq) --> elements of seq where pred(elem) is False\n",
      "islice(seq, [start,] stop [, step]) --> elements from\n",
      "       seq[start:stop:step]\n",
      "pairwise(s) --> (s[0],s[1]), (s[1],s[2]), (s[2], s[3]), ...\n",
      "starmap(fun, seq) --> fun(*seq[0]), fun(*seq[1]), ...\n",
      "tee(it, n=2) --> (it1, it2 , ... itn) splits one iterator into n\n",
      "takewhile(pred, seq) --> seq[0], seq[1], until pred fails\n",
      "zip_longest(p, q, ...) --> (p[0], q[0]), (p[1], q[1]), ...\n",
      "\n",
      "Combinatoric generators:\n",
      "product(p, q, ... [repeat=1]) --> cartesian product\n",
      "permutations(p[, r])\n",
      "combinations(p, r)\n",
      "combinations_with_replacement(p, r)\n"
     ]
    }
   ],
   "source": [
    "print(inspect.getdoc(itertools))"
   ]
  },
  {
   "cell_type": "code",
   "execution_count": 17,
   "id": "9e2e1f53-9eea-497e-b741-191176283438",
   "metadata": {},
   "outputs": [
    {
     "name": "stdout",
     "output_type": "stream",
     "text": [
      "Help on function getgeneratorstate in module inspect:\n",
      "\n",
      "getgeneratorstate(generator)\n",
      "    Get current state of a generator-iterator.\n",
      "    \n",
      "    Possible states are:\n",
      "      GEN_CREATED: Waiting to start execution.\n",
      "      GEN_RUNNING: Currently being executed by the interpreter.\n",
      "      GEN_SUSPENDED: Currently suspended at a yield expression.\n",
      "      GEN_CLOSED: Execution has completed.\n",
      "\n"
     ]
    }
   ],
   "source": [
    "help(inspect.getgeneratorstate)"
   ]
  },
  {
   "cell_type": "markdown",
   "id": "6273f60e-e17c-4347-b70c-57cae0ef962b",
   "metadata": {},
   "source": [
    "## Generator states"
   ]
  },
  {
   "cell_type": "code",
   "execution_count": 18,
   "id": "e91c2ab1-fef6-4388-b7ec-4a20320f43e8",
   "metadata": {},
   "outputs": [],
   "source": [
    "def gen1(): \n",
    "    yield 'a'\n",
    "    yield 'b'\n",
    "    yield 'c'"
   ]
  },
  {
   "cell_type": "code",
   "execution_count": 19,
   "id": "d6dcc6bf-3e15-4b75-ae68-ee60b266304c",
   "metadata": {},
   "outputs": [],
   "source": [
    "g = gen1()"
   ]
  },
  {
   "cell_type": "code",
   "execution_count": 20,
   "id": "d8534069-d65f-4ac7-9590-ac4641cdb58b",
   "metadata": {},
   "outputs": [
    {
     "data": {
      "text/plain": [
       "'GEN_CREATED'"
      ]
     },
     "execution_count": 20,
     "metadata": {},
     "output_type": "execute_result"
    }
   ],
   "source": [
    "inspect.getgeneratorstate(g)"
   ]
  },
  {
   "cell_type": "code",
   "execution_count": 21,
   "id": "166f6c39-d95e-4f81-a3b9-3dce97434fdf",
   "metadata": {},
   "outputs": [
    {
     "data": {
      "text/plain": [
       "'a'"
      ]
     },
     "execution_count": 21,
     "metadata": {},
     "output_type": "execute_result"
    }
   ],
   "source": [
    "next(g)"
   ]
  },
  {
   "cell_type": "code",
   "execution_count": 22,
   "id": "b23c7358-6540-4795-8838-a68cf53f358c",
   "metadata": {},
   "outputs": [
    {
     "data": {
      "text/plain": [
       "'GEN_SUSPENDED'"
      ]
     },
     "execution_count": 22,
     "metadata": {},
     "output_type": "execute_result"
    }
   ],
   "source": [
    "inspect.getgeneratorstate(g)"
   ]
  },
  {
   "cell_type": "code",
   "execution_count": 23,
   "id": "751a082b-2252-4bf1-a727-ac53f0a05a2e",
   "metadata": {},
   "outputs": [
    {
     "data": {
      "text/plain": [
       "'b'"
      ]
     },
     "execution_count": 23,
     "metadata": {},
     "output_type": "execute_result"
    }
   ],
   "source": [
    "next(g)"
   ]
  },
  {
   "cell_type": "code",
   "execution_count": 24,
   "id": "7d7d89ba-3aba-46bc-b2ff-27a0b03c5c3a",
   "metadata": {},
   "outputs": [
    {
     "data": {
      "text/plain": [
       "'GEN_SUSPENDED'"
      ]
     },
     "execution_count": 24,
     "metadata": {},
     "output_type": "execute_result"
    }
   ],
   "source": [
    "inspect.getgeneratorstate(g)"
   ]
  },
  {
   "cell_type": "code",
   "execution_count": 25,
   "id": "4dc4613f-ddb3-409d-a82c-b79bc9534c8e",
   "metadata": {},
   "outputs": [
    {
     "data": {
      "text/plain": [
       "'c'"
      ]
     },
     "execution_count": 25,
     "metadata": {},
     "output_type": "execute_result"
    }
   ],
   "source": [
    "next(g)"
   ]
  },
  {
   "cell_type": "code",
   "execution_count": 26,
   "id": "2e68eff9-0c26-43ae-8704-d17d96590d77",
   "metadata": {},
   "outputs": [
    {
     "data": {
      "text/plain": [
       "'GEN_SUSPENDED'"
      ]
     },
     "execution_count": 26,
     "metadata": {},
     "output_type": "execute_result"
    }
   ],
   "source": [
    "inspect.getgeneratorstate(g)"
   ]
  },
  {
   "cell_type": "code",
   "execution_count": 27,
   "id": "549bb022-1b50-437c-9748-cbed32a1f261",
   "metadata": {
    "tags": [
     "raises-exception"
    ]
   },
   "outputs": [
    {
     "ename": "StopIteration",
     "evalue": "",
     "output_type": "error",
     "traceback": [
      "\u001b[1;31m---------------------------------------------------------------------------\u001b[0m",
      "\u001b[1;31mStopIteration\u001b[0m                             Traceback (most recent call last)",
      "Input \u001b[1;32mIn [27]\u001b[0m, in \u001b[0;36m<cell line: 1>\u001b[1;34m()\u001b[0m\n\u001b[1;32m----> 1\u001b[0m \u001b[38;5;28;43mnext\u001b[39;49m\u001b[43m(\u001b[49m\u001b[43mg\u001b[49m\u001b[43m)\u001b[49m\n",
      "\u001b[1;31mStopIteration\u001b[0m: "
     ]
    }
   ],
   "source": [
    "next(g)"
   ]
  },
  {
   "cell_type": "code",
   "execution_count": 28,
   "id": "3101e59b-b288-4bb5-95e9-e5967473323d",
   "metadata": {},
   "outputs": [
    {
     "data": {
      "text/plain": [
       "'GEN_CLOSED'"
      ]
     },
     "execution_count": 28,
     "metadata": {},
     "output_type": "execute_result"
    }
   ],
   "source": [
    "inspect.getgeneratorstate(g)"
   ]
  },
  {
   "cell_type": "code",
   "execution_count": 29,
   "id": "82ea1705-646d-4b40-bfce-6c53ff1a2531",
   "metadata": {},
   "outputs": [],
   "source": [
    "c = gen1()"
   ]
  },
  {
   "cell_type": "code",
   "execution_count": 30,
   "id": "5c83b1f6-cebe-463f-8688-de3267437f39",
   "metadata": {},
   "outputs": [
    {
     "data": {
      "text/plain": [
       "'GEN_CREATED'"
      ]
     },
     "execution_count": 30,
     "metadata": {},
     "output_type": "execute_result"
    }
   ],
   "source": [
    "inspect.getgeneratorstate(c)"
   ]
  },
  {
   "cell_type": "code",
   "execution_count": 31,
   "id": "d468be1e-2f3f-4996-aee4-66bac2de0e06",
   "metadata": {},
   "outputs": [],
   "source": [
    "c.close()"
   ]
  },
  {
   "cell_type": "code",
   "execution_count": 32,
   "id": "cd280948-e88c-4ddf-8788-5f888afae25e",
   "metadata": {},
   "outputs": [
    {
     "data": {
      "text/plain": [
       "'GEN_CLOSED'"
      ]
     },
     "execution_count": 32,
     "metadata": {},
     "output_type": "execute_result"
    }
   ],
   "source": [
    "inspect.getgeneratorstate(c)"
   ]
  },
  {
   "cell_type": "code",
   "execution_count": 33,
   "id": "0b4f47a3-6f99-4997-9845-d8530e568802",
   "metadata": {
    "tags": [
     "raises-exception"
    ]
   },
   "outputs": [
    {
     "ename": "StopIteration",
     "evalue": "",
     "output_type": "error",
     "traceback": [
      "\u001b[1;31m---------------------------------------------------------------------------\u001b[0m",
      "\u001b[1;31mStopIteration\u001b[0m                             Traceback (most recent call last)",
      "Input \u001b[1;32mIn [33]\u001b[0m, in \u001b[0;36m<cell line: 1>\u001b[1;34m()\u001b[0m\n\u001b[1;32m----> 1\u001b[0m \u001b[38;5;28;43mnext\u001b[39;49m\u001b[43m(\u001b[49m\u001b[43mc\u001b[49m\u001b[43m)\u001b[49m\n",
      "\u001b[1;31mStopIteration\u001b[0m: "
     ]
    }
   ],
   "source": [
    "next(c)"
   ]
  },
  {
   "cell_type": "code",
   "execution_count": 34,
   "id": "5a864540-81ea-4034-aabc-4318bb653d8c",
   "metadata": {},
   "outputs": [],
   "source": [
    "squares = (x**2 for x in itertools.count(start=1))"
   ]
  },
  {
   "cell_type": "code",
   "execution_count": 35,
   "id": "9776a4f1-d207-4e40-ac65-d635b2d9f36c",
   "metadata": {},
   "outputs": [
    {
     "data": {
      "text/plain": [
       "'GEN_CREATED'"
      ]
     },
     "execution_count": 35,
     "metadata": {},
     "output_type": "execute_result"
    }
   ],
   "source": [
    "inspect.getgeneratorstate(squares)"
   ]
  },
  {
   "cell_type": "code",
   "execution_count": 36,
   "id": "5bf176ab-3b7f-406b-9fe6-ab90c74cc9b2",
   "metadata": {},
   "outputs": [
    {
     "data": {
      "text/plain": [
       "1"
      ]
     },
     "execution_count": 36,
     "metadata": {},
     "output_type": "execute_result"
    }
   ],
   "source": [
    "next(squares)"
   ]
  },
  {
   "cell_type": "code",
   "execution_count": 37,
   "id": "8a793a1b-bf94-4a0b-9c6e-5ddd4e5110fd",
   "metadata": {},
   "outputs": [
    {
     "data": {
      "text/plain": [
       "'GEN_SUSPENDED'"
      ]
     },
     "execution_count": 37,
     "metadata": {},
     "output_type": "execute_result"
    }
   ],
   "source": [
    "inspect.getgeneratorstate(squares)"
   ]
  },
  {
   "cell_type": "code",
   "execution_count": 38,
   "id": "793004a0-174a-42de-9745-2cafbf85c735",
   "metadata": {},
   "outputs": [],
   "source": [
    "squares.close()"
   ]
  },
  {
   "cell_type": "code",
   "execution_count": 39,
   "id": "c6f5c0f2-9a7f-4de1-9d0a-8aebf0c01ab7",
   "metadata": {},
   "outputs": [
    {
     "data": {
      "text/plain": [
       "'GEN_CLOSED'"
      ]
     },
     "execution_count": 39,
     "metadata": {},
     "output_type": "execute_result"
    }
   ],
   "source": [
    "inspect.getgeneratorstate(squares)"
   ]
  },
  {
   "cell_type": "code",
   "execution_count": 40,
   "id": "8b35b77e-add9-4c29-8f2b-fd6537d3373a",
   "metadata": {
    "tags": [
     "raises-exception"
    ]
   },
   "outputs": [
    {
     "ename": "StopIteration",
     "evalue": "",
     "output_type": "error",
     "traceback": [
      "\u001b[1;31m---------------------------------------------------------------------------\u001b[0m",
      "\u001b[1;31mStopIteration\u001b[0m                             Traceback (most recent call last)",
      "Input \u001b[1;32mIn [40]\u001b[0m, in \u001b[0;36m<cell line: 1>\u001b[1;34m()\u001b[0m\n\u001b[1;32m----> 1\u001b[0m \u001b[38;5;28;43mnext\u001b[39;49m\u001b[43m(\u001b[49m\u001b[43msquares\u001b[49m\u001b[43m)\u001b[49m\n",
      "\u001b[1;31mStopIteration\u001b[0m: "
     ]
    }
   ],
   "source": [
    "next(squares)"
   ]
  },
  {
   "cell_type": "markdown",
   "id": "b6898b02",
   "metadata": {},
   "source": [
    "## `finally` blocks in generators"
   ]
  },
  {
   "cell_type": "code",
   "execution_count": 41,
   "id": "bbbf412c-179f-4d7c-b8d5-74f030ef78ac",
   "metadata": {},
   "outputs": [],
   "source": [
    "def gen(): \n",
    "    try: \n",
    "        yield 1\n",
    "        yield 2\n",
    "        yield 3\n",
    "    finally: \n",
    "        print('Done.')"
   ]
  },
  {
   "cell_type": "code",
   "execution_count": 42,
   "id": "9f6a5a1b-1816-4755-9093-bea5fd711973",
   "metadata": {},
   "outputs": [
    {
     "name": "stdout",
     "output_type": "stream",
     "text": [
      "Done.\n"
     ]
    },
    {
     "data": {
      "text/plain": [
       "[1, 2, 3]"
      ]
     },
     "execution_count": 42,
     "metadata": {},
     "output_type": "execute_result"
    }
   ],
   "source": [
    "[x for x in gen()] # don't do this"
   ]
  },
  {
   "cell_type": "code",
   "execution_count": 43,
   "id": "6b3a685a-f0ef-4e83-bff3-7f1d36605cbd",
   "metadata": {},
   "outputs": [
    {
     "name": "stdout",
     "output_type": "stream",
     "text": [
      "Done.\n"
     ]
    },
    {
     "data": {
      "text/plain": [
       "[1, 2, 3]"
      ]
     },
     "execution_count": 43,
     "metadata": {},
     "output_type": "execute_result"
    }
   ],
   "source": [
    "list(gen()) # do this instead"
   ]
  },
  {
   "cell_type": "code",
   "execution_count": 44,
   "id": "ee9f85c9-3b87-4826-a139-37d05a3b3e92",
   "metadata": {},
   "outputs": [],
   "source": [
    "def f(): \n",
    "    gen()"
   ]
  },
  {
   "cell_type": "code",
   "execution_count": 45,
   "id": "67f33853-825b-47b6-ab5f-9eddb2e4415f",
   "metadata": {},
   "outputs": [],
   "source": [
    "f()"
   ]
  },
  {
   "cell_type": "code",
   "execution_count": 46,
   "id": "7e54ac07-84da-4335-a997-2eba8ea4710e",
   "metadata": {},
   "outputs": [],
   "source": [
    "def f2(): \n",
    "    g = gen()\n",
    "    return next(g)"
   ]
  },
  {
   "cell_type": "code",
   "execution_count": 47,
   "id": "feb2fd12-b068-415f-8b48-8d8d8aaa892a",
   "metadata": {},
   "outputs": [
    {
     "name": "stdout",
     "output_type": "stream",
     "text": [
      "Done.\n"
     ]
    },
    {
     "data": {
      "text/plain": [
       "1"
      ]
     },
     "execution_count": 47,
     "metadata": {},
     "output_type": "execute_result"
    }
   ],
   "source": [
    "f2()"
   ]
  },
  {
   "cell_type": "markdown",
   "id": "47765f5b-897d-42d9-a0a3-7ac28fc3ea91",
   "metadata": {},
   "source": [
    "## `GeneratorExit` is raised when destroying suspended generators"
   ]
  },
  {
   "cell_type": "code",
   "execution_count": 48,
   "id": "bbe5e059-3b0c-417c-abf0-a50446815886",
   "metadata": {},
   "outputs": [
    {
     "name": "stdout",
     "output_type": "stream",
     "text": [
      "Request that a generator exit.\n"
     ]
    }
   ],
   "source": [
    "print(GeneratorExit.__doc__)"
   ]
  },
  {
   "cell_type": "code",
   "execution_count": 49,
   "id": "34508957-a11f-4f76-888b-d577709f36d0",
   "metadata": {},
   "outputs": [
    {
     "data": {
      "text/plain": [
       "(BaseException,)"
      ]
     },
     "execution_count": 49,
     "metadata": {},
     "output_type": "execute_result"
    }
   ],
   "source": [
    "GeneratorExit.__bases__"
   ]
  },
  {
   "cell_type": "code",
   "execution_count": 50,
   "id": "9087951f-e4a3-4e0b-853e-43984b9fb84d",
   "metadata": {},
   "outputs": [
    {
     "data": {
      "text/plain": [
       "(Exception,)"
      ]
     },
     "execution_count": 50,
     "metadata": {},
     "output_type": "execute_result"
    }
   ],
   "source": [
    "ValueError.__bases__"
   ]
  },
  {
   "cell_type": "code",
   "execution_count": 51,
   "id": "73a6c47f-b068-42a6-b42f-0344760d436c",
   "metadata": {},
   "outputs": [
    {
     "data": {
      "text/plain": [
       "(Exception,)"
      ]
     },
     "execution_count": 51,
     "metadata": {},
     "output_type": "execute_result"
    }
   ],
   "source": [
    "TypeError.__bases__"
   ]
  },
  {
   "cell_type": "code",
   "execution_count": 52,
   "id": "8976d5e9-e1c3-418a-876b-110d50d1a7ac",
   "metadata": {},
   "outputs": [
    {
     "data": {
      "text/plain": [
       "(Exception,)"
      ]
     },
     "execution_count": 52,
     "metadata": {},
     "output_type": "execute_result"
    }
   ],
   "source": [
    "StopIteration.__bases__"
   ]
  },
  {
   "cell_type": "code",
   "execution_count": 53,
   "id": "766efff0-416c-42f4-ad29-c40ba4cd7ebe",
   "metadata": {},
   "outputs": [
    {
     "data": {
      "text/plain": [
       "(BaseException,)"
      ]
     },
     "execution_count": 53,
     "metadata": {},
     "output_type": "execute_result"
    }
   ],
   "source": [
    "SystemExit.__bases__"
   ]
  },
  {
   "cell_type": "code",
   "execution_count": 54,
   "id": "25f2cdfc-f7e0-4efe-a74f-ca8d44efbbba",
   "metadata": {},
   "outputs": [
    {
     "data": {
      "text/plain": [
       "(BaseException,)"
      ]
     },
     "execution_count": 54,
     "metadata": {},
     "output_type": "execute_result"
    }
   ],
   "source": [
    "Exception.__bases__"
   ]
  },
  {
   "cell_type": "code",
   "execution_count": 55,
   "id": "572d44f6-3ce2-4191-a170-ab69e5704b7e",
   "metadata": {},
   "outputs": [],
   "source": [
    "def gen2(): \n",
    "    try: \n",
    "        yield 1\n",
    "        yield 2\n",
    "        yield 3\n",
    "    except GeneratorExit: \n",
    "        print('Interrupted.')\n",
    "    finally: \n",
    "        print('Done.')"
   ]
  },
  {
   "cell_type": "code",
   "execution_count": 56,
   "id": "45288992-400e-473f-bc7d-12b75f8733c6",
   "metadata": {},
   "outputs": [
    {
     "name": "stdout",
     "output_type": "stream",
     "text": [
      "Done.\n"
     ]
    },
    {
     "data": {
      "text/plain": [
       "[1, 2, 3]"
      ]
     },
     "execution_count": 56,
     "metadata": {},
     "output_type": "execute_result"
    }
   ],
   "source": [
    "list(gen2())"
   ]
  },
  {
   "cell_type": "code",
   "execution_count": 57,
   "id": "1f47abbb-5724-4bc4-baab-3ad2eec2511b",
   "metadata": {},
   "outputs": [],
   "source": [
    "def f3(): \n",
    "    g = gen2()\n",
    "    return next(g)"
   ]
  },
  {
   "cell_type": "code",
   "execution_count": 58,
   "id": "e5ab8bcd-942b-4016-89a5-73d5de4cd645",
   "metadata": {},
   "outputs": [
    {
     "name": "stdout",
     "output_type": "stream",
     "text": [
      "Interrupted.\n",
      "Done.\n"
     ]
    },
    {
     "data": {
      "text/plain": [
       "1"
      ]
     },
     "execution_count": 58,
     "metadata": {},
     "output_type": "execute_result"
    }
   ],
   "source": [
    "f3()"
   ]
  },
  {
   "cell_type": "markdown",
   "id": "9658fb7b-2f3b-4596-9260-1decaaff9cc7",
   "metadata": {},
   "source": [
    "## It is an error to yield after `GeneratorExit`"
   ]
  },
  {
   "cell_type": "code",
   "execution_count": 59,
   "id": "0b0b8505-3068-4d9b-a6e3-bd84e5c266ca",
   "metadata": {},
   "outputs": [],
   "source": [
    "def gen_bad(): \n",
    "    try: \n",
    "        yield 1\n",
    "        yield 2\n",
    "        yield 3\n",
    "    except GeneratorExit: \n",
    "        print('Interrupted.')\n",
    "        yield 4\n",
    "    finally: \n",
    "        print('Done.')"
   ]
  },
  {
   "cell_type": "code",
   "execution_count": 60,
   "id": "6ecafde5-e0c3-4e4d-8933-f0b4d1561270",
   "metadata": {},
   "outputs": [],
   "source": [
    "def f4(): \n",
    "    g = gen_bad()\n",
    "    return next(g)"
   ]
  },
  {
   "cell_type": "code",
   "execution_count": 61,
   "id": "b5d74dc9-8f43-40f6-a148-9166f9d89b67",
   "metadata": {},
   "outputs": [
    {
     "name": "stderr",
     "output_type": "stream",
     "text": [
      "Exception ignored in: <generator object gen_bad at 0x00000152A3EF9620>\n",
      "Traceback (most recent call last):\n",
      "  File \"C:\\Users\\User\\AppData\\Local\\Temp\\ipykernel_16292\\1205670228.py\", line 1, in <cell line: 1>\n",
      "RuntimeError: generator ignored GeneratorExit\n"
     ]
    },
    {
     "name": "stdout",
     "output_type": "stream",
     "text": [
      "Interrupted.\n"
     ]
    },
    {
     "data": {
      "text/plain": [
       "1"
      ]
     },
     "execution_count": 61,
     "metadata": {},
     "output_type": "execute_result"
    }
   ],
   "source": [
    "f4()"
   ]
  },
  {
   "cell_type": "code",
   "execution_count": 62,
   "id": "21a5de4c-dabd-4e94-b89f-84ac2a543cda",
   "metadata": {},
   "outputs": [],
   "source": [
    "# s = [1]\n",
    "# s.append(s)"
   ]
  },
  {
   "cell_type": "markdown",
   "id": "c46e1a42-4ca9-4ce3-b2cb-7f7194d620aa",
   "metadata": {},
   "source": [
    "## Generator objects with reference cycles"
   ]
  },
  {
   "cell_type": "code",
   "execution_count": 63,
   "id": "91b6a856-7076-4439-9208-80b8764cf639",
   "metadata": {},
   "outputs": [],
   "source": [
    "def gen_rcycle():     \n",
    "    try: \n",
    "        s = [1]\n",
    "        yield s\n",
    "    finally: \n",
    "        print('Done')"
   ]
  },
  {
   "cell_type": "code",
   "execution_count": 64,
   "id": "504a622d-4b14-467b-8500-ba9c5b7c7f9a",
   "metadata": {},
   "outputs": [],
   "source": [
    "def do_stuff(): \n",
    "    ob = gen_rcycle() \n",
    "    next(ob).append(ob)"
   ]
  },
  {
   "cell_type": "code",
   "execution_count": 65,
   "id": "5c1aae93-45d9-46c8-bde4-e06770519f18",
   "metadata": {},
   "outputs": [],
   "source": [
    "do_stuff()"
   ]
  },
  {
   "cell_type": "code",
   "execution_count": 66,
   "id": "2a7c5a2d-c39b-4bc2-a886-3b23d5fd1c5e",
   "metadata": {},
   "outputs": [],
   "source": [
    "import gc"
   ]
  },
  {
   "cell_type": "code",
   "execution_count": 67,
   "id": "f931a18d-6f38-41fb-928a-d35f81be6499",
   "metadata": {},
   "outputs": [
    {
     "name": "stdout",
     "output_type": "stream",
     "text": [
      "Done\n"
     ]
    },
    {
     "data": {
      "text/plain": [
       "1382"
      ]
     },
     "execution_count": 67,
     "metadata": {},
     "output_type": "execute_result"
    }
   ],
   "source": [
    "gc.collect()"
   ]
  },
  {
   "cell_type": "markdown",
   "id": "3482e206-ebc7-4943-abb1-8ad27e330d37",
   "metadata": {},
   "source": [
    "## Generator objects are not context managers"
   ]
  },
  {
   "cell_type": "code",
   "execution_count": 68,
   "id": "6abb09dc-207c-4a14-bac2-497748375592",
   "metadata": {},
   "outputs": [],
   "source": [
    "def do_more_stuff(): \n",
    "    ob = gen_rcycle() \n",
    "    next(ob).append(ob)\n",
    "    return ob"
   ]
  },
  {
   "cell_type": "code",
   "execution_count": 69,
   "id": "f45cc69d-8668-49f5-b755-4314b7ac0c61",
   "metadata": {
    "tags": [
     "raises-exception"
    ]
   },
   "outputs": [
    {
     "name": "stdout",
     "output_type": "stream",
     "text": [
      "Done\n"
     ]
    },
    {
     "ename": "AttributeError",
     "evalue": "__enter__",
     "output_type": "error",
     "traceback": [
      "\u001b[1;31m---------------------------------------------------------------------------\u001b[0m",
      "\u001b[1;31mAttributeError\u001b[0m                            Traceback (most recent call last)",
      "Input \u001b[1;32mIn [69]\u001b[0m, in \u001b[0;36m<cell line: 1>\u001b[1;34m()\u001b[0m\n\u001b[1;32m----> 1\u001b[0m \u001b[38;5;28;01mwith\u001b[39;00m do_more_stuff(): \n\u001b[0;32m      2\u001b[0m     \u001b[38;5;28mprint\u001b[39m(\u001b[38;5;124m'\u001b[39m\u001b[38;5;124mUse resource acquired\u001b[39m\u001b[38;5;124m'\u001b[39m)\n",
      "\u001b[1;31mAttributeError\u001b[0m: __enter__"
     ]
    }
   ],
   "source": [
    "with do_more_stuff(): \n",
    "    print('Use resource acquired')"
   ]
  },
  {
   "cell_type": "code",
   "execution_count": 70,
   "id": "7f1f29f8-44a4-4288-8a33-9b2a7f1f1ea4",
   "metadata": {},
   "outputs": [
    {
     "data": {
      "text/plain": [
       "465"
      ]
     },
     "execution_count": 70,
     "metadata": {},
     "output_type": "execute_result"
    }
   ],
   "source": [
    "gc.collect()"
   ]
  },
  {
   "cell_type": "markdown",
   "id": "1c02d15a-f125-4cb1-a80f-c382931488fd",
   "metadata": {},
   "source": [
    "## Generator objects do have a `close` method"
   ]
  },
  {
   "cell_type": "code",
   "execution_count": 71,
   "id": "1f6ca461-0f4d-42a8-af42-d868d792b475",
   "metadata": {},
   "outputs": [],
   "source": [
    "ob1 = do_more_stuff()"
   ]
  },
  {
   "cell_type": "code",
   "execution_count": 72,
   "id": "84f6fcab-b31a-420c-8c23-2a87ea52b300",
   "metadata": {},
   "outputs": [
    {
     "data": {
      "text/plain": [
       "generator"
      ]
     },
     "execution_count": 72,
     "metadata": {},
     "output_type": "execute_result"
    }
   ],
   "source": [
    "type(ob1)"
   ]
  },
  {
   "cell_type": "code",
   "execution_count": 73,
   "id": "725ac49e-84c7-4e40-bf44-215ffc6a84f7",
   "metadata": {},
   "outputs": [
    {
     "data": {
      "text/plain": [
       "['__class__',\n",
       " '__del__',\n",
       " '__delattr__',\n",
       " '__dir__',\n",
       " '__doc__',\n",
       " '__eq__',\n",
       " '__format__',\n",
       " '__ge__',\n",
       " '__getattribute__',\n",
       " '__gt__',\n",
       " '__hash__',\n",
       " '__init__',\n",
       " '__init_subclass__',\n",
       " '__iter__',\n",
       " '__le__',\n",
       " '__lt__',\n",
       " '__name__',\n",
       " '__ne__',\n",
       " '__new__',\n",
       " '__next__',\n",
       " '__qualname__',\n",
       " '__reduce__',\n",
       " '__reduce_ex__',\n",
       " '__repr__',\n",
       " '__setattr__',\n",
       " '__sizeof__',\n",
       " '__str__',\n",
       " '__subclasshook__',\n",
       " 'close',\n",
       " 'gi_code',\n",
       " 'gi_frame',\n",
       " 'gi_running',\n",
       " 'gi_yieldfrom',\n",
       " 'send',\n",
       " 'throw']"
      ]
     },
     "execution_count": 73,
     "metadata": {},
     "output_type": "execute_result"
    }
   ],
   "source": [
    "dir(ob1)"
   ]
  },
  {
   "cell_type": "code",
   "execution_count": 74,
   "id": "e226d4f3-56e9-4b08-afb8-ded7ffb14b07",
   "metadata": {},
   "outputs": [
    {
     "name": "stdout",
     "output_type": "stream",
     "text": [
      "Help on built-in function close:\n",
      "\n",
      "close(...) method of builtins.generator instance\n",
      "    close() -> raise GeneratorExit inside generator.\n",
      "\n"
     ]
    }
   ],
   "source": [
    "help(ob1.close)"
   ]
  },
  {
   "cell_type": "code",
   "execution_count": 75,
   "id": "61fa95ff-0a4c-4ea0-8c7b-3ab27b76651b",
   "metadata": {},
   "outputs": [
    {
     "name": "stdout",
     "output_type": "stream",
     "text": [
      "If I use ob1, I would use it here\n",
      "Done\n"
     ]
    }
   ],
   "source": [
    "ob1 = do_more_stuff()\n",
    "try: \n",
    "    print('If I use ob1, I would use it here')\n",
    "finally: \n",
    "    ob1.close()"
   ]
  },
  {
   "cell_type": "code",
   "execution_count": 76,
   "id": "c996b01d-4c6c-4a5d-9fcf-4c6f7c55aee7",
   "metadata": {},
   "outputs": [],
   "source": [
    "import contextlib"
   ]
  },
  {
   "cell_type": "code",
   "execution_count": 77,
   "id": "dab262a2-e15b-4b04-a030-723f012f04fc",
   "metadata": {},
   "outputs": [
    {
     "name": "stdout",
     "output_type": "stream",
     "text": [
      "Use resource acquired\n",
      "Done\n"
     ]
    }
   ],
   "source": [
    "with contextlib.closing(do_more_stuff()): \n",
    "    print('Use resource acquired')"
   ]
  },
  {
   "cell_type": "markdown",
   "id": "6e5c5bdd-68a5-4275-9e10-30d3de4cadf5",
   "metadata": {},
   "source": [
    "**TODO:** Examine materialization and acquision/release in `itertools.tee`."
   ]
  },
  {
   "cell_type": "markdown",
   "id": "78a10d01-f3af-425f-84a9-0a9060f2fc3d",
   "metadata": {},
   "source": [
    "## Review of materialization"
   ]
  },
  {
   "cell_type": "code",
   "execution_count": 78,
   "id": "af496167-b0c6-48e3-9ad8-fbfc8e5ce650",
   "metadata": {},
   "outputs": [],
   "source": [
    "def product_three(one, two, three): \n",
    "    my_one = list(one)\n",
    "    my_two = list(two)\n",
    "    my_three = list(three)\n",
    "    return ((x, y, z) for x in my_one for y in my_two for z in my_three)"
   ]
  },
  {
   "cell_type": "code",
   "execution_count": 79,
   "id": "7c65c961-aee1-4484-a226-065e9c6024b9",
   "metadata": {},
   "outputs": [],
   "source": [
    "groups = product_three(['a', 'b', 'c'], (x for x in range(4)), (100, 200, 300))"
   ]
  },
  {
   "cell_type": "code",
   "execution_count": 80,
   "id": "24d951da-f836-4641-bddb-575a8c74a7f4",
   "metadata": {},
   "outputs": [
    {
     "name": "stdout",
     "output_type": "stream",
     "text": [
      "Done\n"
     ]
    },
    {
     "data": {
      "text/plain": [
       "[('a', 0, 100),\n",
       " ('a', 0, 200),\n",
       " ('a', 0, 300),\n",
       " ('a', 1, 100),\n",
       " ('a', 1, 200),\n",
       " ('a', 1, 300),\n",
       " ('a', 2, 100),\n",
       " ('a', 2, 200),\n",
       " ('a', 2, 300),\n",
       " ('a', 3, 100),\n",
       " ('a', 3, 200),\n",
       " ('a', 3, 300),\n",
       " ('b', 0, 100),\n",
       " ('b', 0, 200),\n",
       " ('b', 0, 300),\n",
       " ('b', 1, 100),\n",
       " ('b', 1, 200),\n",
       " ('b', 1, 300),\n",
       " ('b', 2, 100),\n",
       " ('b', 2, 200),\n",
       " ('b', 2, 300),\n",
       " ('b', 3, 100),\n",
       " ('b', 3, 200),\n",
       " ('b', 3, 300),\n",
       " ('c', 0, 100),\n",
       " ('c', 0, 200),\n",
       " ('c', 0, 300),\n",
       " ('c', 1, 100),\n",
       " ('c', 1, 200),\n",
       " ('c', 1, 300),\n",
       " ('c', 2, 100),\n",
       " ('c', 2, 200),\n",
       " ('c', 2, 300),\n",
       " ('c', 3, 100),\n",
       " ('c', 3, 200),\n",
       " ('c', 3, 300)]"
      ]
     },
     "execution_count": 80,
     "metadata": {},
     "output_type": "execute_result"
    }
   ],
   "source": [
    "list(groups)"
   ]
  },
  {
   "cell_type": "markdown",
   "id": "de6a8f78-42ec-4cbe-851b-156d2825c7cd",
   "metadata": {},
   "source": [
    "## Spilling the `tee`: the mystery of 57"
   ]
  },
  {
   "cell_type": "code",
   "execution_count": 81,
   "id": "6810bf9a-f1da-4d1b-b2fa-d8ca5f86dd91",
   "metadata": {},
   "outputs": [
    {
     "name": "stdout",
     "output_type": "stream",
     "text": [
      "Help on built-in function tee in module itertools:\n",
      "\n",
      "tee(iterable, n=2, /)\n",
      "    Returns a tuple of n independent iterators.\n",
      "\n"
     ]
    }
   ],
   "source": [
    "help(itertools.tee)"
   ]
  },
  {
   "cell_type": "code",
   "execution_count": 82,
   "id": "7d95e840-d1af-4163-b751-3138d51f0ec3",
   "metadata": {},
   "outputs": [],
   "source": [
    "s = [1, 2, 3, 4]"
   ]
  },
  {
   "cell_type": "code",
   "execution_count": 83,
   "id": "5db7d9d0-7148-4a77-8572-183e1fd03f51",
   "metadata": {},
   "outputs": [],
   "source": [
    "i1, i2 = itertools.tee(s)"
   ]
  },
  {
   "cell_type": "code",
   "execution_count": 84,
   "id": "da149fbf-8779-489b-a2f1-89a06e36d5d2",
   "metadata": {},
   "outputs": [
    {
     "data": {
      "text/plain": [
       "1"
      ]
     },
     "execution_count": 84,
     "metadata": {},
     "output_type": "execute_result"
    }
   ],
   "source": [
    "next(i1)"
   ]
  },
  {
   "cell_type": "code",
   "execution_count": 85,
   "id": "2f9e0258-8d6a-4ce3-ba82-81ea5bc760d6",
   "metadata": {},
   "outputs": [
    {
     "data": {
      "text/plain": [
       "2"
      ]
     },
     "execution_count": 85,
     "metadata": {},
     "output_type": "execute_result"
    }
   ],
   "source": [
    "next(i1)"
   ]
  },
  {
   "cell_type": "code",
   "execution_count": 86,
   "id": "49f664e0-b250-4d8f-a7a2-e6b4ef44e317",
   "metadata": {},
   "outputs": [
    {
     "data": {
      "text/plain": [
       "1"
      ]
     },
     "execution_count": 86,
     "metadata": {},
     "output_type": "execute_result"
    }
   ],
   "source": [
    "next(i2)"
   ]
  },
  {
   "cell_type": "code",
   "execution_count": 87,
   "id": "6e951b5c-9824-4322-a1b3-c0f4b0ea8752",
   "metadata": {},
   "outputs": [
    {
     "data": {
      "text/plain": [
       "2"
      ]
     },
     "execution_count": 87,
     "metadata": {},
     "output_type": "execute_result"
    }
   ],
   "source": [
    "next(i2)"
   ]
  },
  {
   "cell_type": "code",
   "execution_count": 88,
   "id": "d3f32301-6b9d-4191-804d-bd71052d1b02",
   "metadata": {},
   "outputs": [
    {
     "data": {
      "text/plain": [
       "[3, 4]"
      ]
     },
     "execution_count": 88,
     "metadata": {},
     "output_type": "execute_result"
    }
   ],
   "source": [
    "list(i2)"
   ]
  },
  {
   "cell_type": "code",
   "execution_count": 89,
   "id": "e6aa69ca-f27a-44bd-a24b-27fd22ec4c0f",
   "metadata": {},
   "outputs": [
    {
     "data": {
      "text/plain": [
       "[3, 4]"
      ]
     },
     "execution_count": 89,
     "metadata": {},
     "output_type": "execute_result"
    }
   ],
   "source": [
    "list(i1)"
   ]
  },
  {
   "cell_type": "code",
   "execution_count": 90,
   "id": "270e83c8-42ca-48cc-8cc2-6fce4cb401ab",
   "metadata": {},
   "outputs": [],
   "source": [
    "squares = (x**2 for x in s)"
   ]
  },
  {
   "cell_type": "code",
   "execution_count": 91,
   "id": "956f0d7d-cc35-42de-a5d8-7d59e38a12c2",
   "metadata": {},
   "outputs": [],
   "source": [
    "s1, s2 = itertools.tee(squares)"
   ]
  },
  {
   "cell_type": "code",
   "execution_count": 92,
   "id": "a07fd3be-bdb1-4fac-b913-03d3f87764ba",
   "metadata": {},
   "outputs": [
    {
     "data": {
      "text/plain": [
       "[1, 4, 9, 16]"
      ]
     },
     "execution_count": 92,
     "metadata": {},
     "output_type": "execute_result"
    }
   ],
   "source": [
    "list(s1)"
   ]
  },
  {
   "cell_type": "code",
   "execution_count": 93,
   "id": "291b659f-7b14-4aa0-88b0-1918e4a135cd",
   "metadata": {},
   "outputs": [
    {
     "data": {
      "text/plain": [
       "[1, 4, 9, 16]"
      ]
     },
     "execution_count": 93,
     "metadata": {},
     "output_type": "execute_result"
    }
   ],
   "source": [
    "list(s2)"
   ]
  },
  {
   "cell_type": "code",
   "execution_count": 94,
   "id": "69ea5c3d-3220-49fc-82b2-02a1b2d2e704",
   "metadata": {},
   "outputs": [
    {
     "data": {
      "text/plain": [
       "'GEN_CLOSED'"
      ]
     },
     "execution_count": 94,
     "metadata": {},
     "output_type": "execute_result"
    }
   ],
   "source": [
    "inspect.getgeneratorstate(squares)"
   ]
  },
  {
   "cell_type": "code",
   "execution_count": 95,
   "id": "e767feff-948a-4309-90aa-86cc341ce565",
   "metadata": {
    "tags": [
     "raises-exception"
    ]
   },
   "outputs": [
    {
     "ename": "StopIteration",
     "evalue": "",
     "output_type": "error",
     "traceback": [
      "\u001b[1;31m---------------------------------------------------------------------------\u001b[0m",
      "\u001b[1;31mStopIteration\u001b[0m                             Traceback (most recent call last)",
      "Input \u001b[1;32mIn [95]\u001b[0m, in \u001b[0;36m<cell line: 1>\u001b[1;34m()\u001b[0m\n\u001b[1;32m----> 1\u001b[0m \u001b[38;5;28;43mnext\u001b[39;49m\u001b[43m(\u001b[49m\u001b[43msquares\u001b[49m\u001b[43m)\u001b[49m\n",
      "\u001b[1;31mStopIteration\u001b[0m: "
     ]
    }
   ],
   "source": [
    "next(squares)"
   ]
  },
  {
   "cell_type": "code",
   "execution_count": 96,
   "id": "efa32519-2827-4334-9473-1270eb084de3",
   "metadata": {},
   "outputs": [],
   "source": [
    "squares = (x**2 for x in itertools.count(start=1))"
   ]
  },
  {
   "cell_type": "code",
   "execution_count": 97,
   "id": "9c31d857-f9f0-4296-a53c-c0f8141831b2",
   "metadata": {},
   "outputs": [],
   "source": [
    "s1, s2 = itertools.tee(squares)"
   ]
  },
  {
   "cell_type": "code",
   "execution_count": 98,
   "id": "08ff367a-c7ea-45c8-8bbf-2727cc42661e",
   "metadata": {},
   "outputs": [
    {
     "data": {
      "text/plain": [
       "1"
      ]
     },
     "execution_count": 98,
     "metadata": {},
     "output_type": "execute_result"
    }
   ],
   "source": [
    "next(s1)"
   ]
  },
  {
   "cell_type": "code",
   "execution_count": 99,
   "id": "6f3f3d96-f405-4c24-923f-4fa5ab331bfa",
   "metadata": {},
   "outputs": [
    {
     "data": {
      "text/plain": [
       "4"
      ]
     },
     "execution_count": 99,
     "metadata": {},
     "output_type": "execute_result"
    }
   ],
   "source": [
    "next(s1)"
   ]
  },
  {
   "cell_type": "code",
   "execution_count": 100,
   "id": "2e65d175-e809-4ef1-874f-dad7419e0592",
   "metadata": {},
   "outputs": [
    {
     "data": {
      "text/plain": [
       "9"
      ]
     },
     "execution_count": 100,
     "metadata": {},
     "output_type": "execute_result"
    }
   ],
   "source": [
    "next(s1)"
   ]
  },
  {
   "cell_type": "code",
   "execution_count": 101,
   "id": "0cb44feb-4de9-4686-924c-c867cb169ac5",
   "metadata": {},
   "outputs": [
    {
     "data": {
      "text/plain": [
       "16"
      ]
     },
     "execution_count": 101,
     "metadata": {},
     "output_type": "execute_result"
    }
   ],
   "source": [
    "next(s1)"
   ]
  },
  {
   "cell_type": "code",
   "execution_count": 102,
   "id": "4517adc3-9fb7-41cc-af3b-3d601f764851",
   "metadata": {},
   "outputs": [
    {
     "data": {
      "text/plain": [
       "25"
      ]
     },
     "execution_count": 102,
     "metadata": {},
     "output_type": "execute_result"
    }
   ],
   "source": [
    "next(s1)"
   ]
  },
  {
   "cell_type": "code",
   "execution_count": 103,
   "id": "440536ff-df7e-465b-ae91-7c1d3f67afad",
   "metadata": {},
   "outputs": [
    {
     "data": {
      "text/plain": [
       "1"
      ]
     },
     "execution_count": 103,
     "metadata": {},
     "output_type": "execute_result"
    }
   ],
   "source": [
    "next(s2)"
   ]
  },
  {
   "cell_type": "code",
   "execution_count": 104,
   "id": "69ef379d-81b6-43cd-8f63-42192113c94a",
   "metadata": {},
   "outputs": [
    {
     "data": {
      "text/plain": [
       "4"
      ]
     },
     "execution_count": 104,
     "metadata": {},
     "output_type": "execute_result"
    }
   ],
   "source": [
    "next(s2)"
   ]
  },
  {
   "cell_type": "code",
   "execution_count": 105,
   "id": "93838840-ced7-4a96-9c6c-0f813e7c967d",
   "metadata": {},
   "outputs": [
    {
     "data": {
      "text/plain": [
       "9"
      ]
     },
     "execution_count": 105,
     "metadata": {},
     "output_type": "execute_result"
    }
   ],
   "source": [
    "next(s2)"
   ]
  },
  {
   "cell_type": "code",
   "execution_count": 106,
   "id": "6d426d80-a301-49a1-83e2-fb854defd860",
   "metadata": {},
   "outputs": [
    {
     "data": {
      "text/plain": [
       "16"
      ]
     },
     "execution_count": 106,
     "metadata": {},
     "output_type": "execute_result"
    }
   ],
   "source": [
    "next(s2)"
   ]
  },
  {
   "cell_type": "code",
   "execution_count": 107,
   "id": "22592a83-9762-42fd-beac-6fc94a48fb0e",
   "metadata": {},
   "outputs": [
    {
     "data": {
      "text/plain": [
       "'GEN_SUSPENDED'"
      ]
     },
     "execution_count": 107,
     "metadata": {},
     "output_type": "execute_result"
    }
   ],
   "source": [
    "inspect.getgeneratorstate(squares)"
   ]
  },
  {
   "cell_type": "code",
   "execution_count": 108,
   "id": "983304d6-8655-4469-8e62-bcbe21005813",
   "metadata": {},
   "outputs": [],
   "source": [
    "squares.close()"
   ]
  },
  {
   "cell_type": "code",
   "execution_count": 109,
   "id": "88dcdb4b-bf2d-4f70-b615-a32da10b4942",
   "metadata": {},
   "outputs": [
    {
     "data": {
      "text/plain": [
       "25"
      ]
     },
     "execution_count": 109,
     "metadata": {},
     "output_type": "execute_result"
    }
   ],
   "source": [
    "next(s2)"
   ]
  },
  {
   "cell_type": "code",
   "execution_count": 110,
   "id": "8fe3d7e2-71c2-4b62-9daf-d11183c4e137",
   "metadata": {
    "tags": [
     "raises-exception"
    ]
   },
   "outputs": [
    {
     "ename": "StopIteration",
     "evalue": "",
     "output_type": "error",
     "traceback": [
      "\u001b[1;31m---------------------------------------------------------------------------\u001b[0m",
      "\u001b[1;31mStopIteration\u001b[0m                             Traceback (most recent call last)",
      "Input \u001b[1;32mIn [110]\u001b[0m, in \u001b[0;36m<cell line: 1>\u001b[1;34m()\u001b[0m\n\u001b[1;32m----> 1\u001b[0m \u001b[38;5;28;43mnext\u001b[39;49m\u001b[43m(\u001b[49m\u001b[43ms2\u001b[49m\u001b[43m)\u001b[49m\n",
      "\u001b[1;31mStopIteration\u001b[0m: "
     ]
    }
   ],
   "source": [
    "next(s2)"
   ]
  },
  {
   "cell_type": "code",
   "execution_count": 111,
   "id": "1b4741f1-6477-419c-b167-bba396dff39b",
   "metadata": {
    "tags": [
     "raises-exception"
    ]
   },
   "outputs": [
    {
     "ename": "StopIteration",
     "evalue": "",
     "output_type": "error",
     "traceback": [
      "\u001b[1;31m---------------------------------------------------------------------------\u001b[0m",
      "\u001b[1;31mStopIteration\u001b[0m                             Traceback (most recent call last)",
      "Input \u001b[1;32mIn [111]\u001b[0m, in \u001b[0;36m<cell line: 1>\u001b[1;34m()\u001b[0m\n\u001b[1;32m----> 1\u001b[0m \u001b[38;5;28;43mnext\u001b[39;49m\u001b[43m(\u001b[49m\u001b[43ms1\u001b[49m\u001b[43m)\u001b[49m\n",
      "\u001b[1;31mStopIteration\u001b[0m: "
     ]
    }
   ],
   "source": [
    "next(s1)"
   ]
  },
  {
   "cell_type": "code",
   "execution_count": 112,
   "id": "6ddc9fd8-3995-4a58-9c59-b2fd6fc0a901",
   "metadata": {},
   "outputs": [],
   "source": [
    "x, y = itertools.tee(itertools.count())"
   ]
  },
  {
   "cell_type": "code",
   "execution_count": 113,
   "id": "b676d561-5ee2-4aaf-bb5c-b9b8ce1d2734",
   "metadata": {},
   "outputs": [
    {
     "data": {
      "text/plain": [
       "0"
      ]
     },
     "execution_count": 113,
     "metadata": {},
     "output_type": "execute_result"
    }
   ],
   "source": [
    "next(y)"
   ]
  },
  {
   "cell_type": "code",
   "execution_count": 114,
   "id": "3421623d-1b05-4fc5-8632-c8adad7b64b2",
   "metadata": {},
   "outputs": [
    {
     "data": {
      "text/plain": [
       "1"
      ]
     },
     "execution_count": 114,
     "metadata": {},
     "output_type": "execute_result"
    }
   ],
   "source": [
    "next(y)"
   ]
  },
  {
   "cell_type": "code",
   "execution_count": 115,
   "id": "ebd44a37-579a-4ca7-addc-fdaedb635545",
   "metadata": {},
   "outputs": [
    {
     "data": {
      "text/plain": [
       "2"
      ]
     },
     "execution_count": 115,
     "metadata": {},
     "output_type": "execute_result"
    }
   ],
   "source": [
    "next(y)"
   ]
  },
  {
   "cell_type": "code",
   "execution_count": 116,
   "id": "ba39ee79-ecb4-46d5-91d5-8acabdb0fa63",
   "metadata": {},
   "outputs": [],
   "source": [
    "z = zip(x, y)"
   ]
  },
  {
   "cell_type": "code",
   "execution_count": 117,
   "id": "917c3c13-8035-4094-af28-3719818aef71",
   "metadata": {},
   "outputs": [
    {
     "data": {
      "text/plain": [
       "(0, 3)"
      ]
     },
     "execution_count": 117,
     "metadata": {},
     "output_type": "execute_result"
    }
   ],
   "source": [
    "next(z)"
   ]
  },
  {
   "cell_type": "code",
   "execution_count": 118,
   "id": "419ebd9f-12bc-403c-b64c-a040ffd3de0f",
   "metadata": {},
   "outputs": [
    {
     "data": {
      "text/plain": [
       "(1, 4)"
      ]
     },
     "execution_count": 118,
     "metadata": {},
     "output_type": "execute_result"
    }
   ],
   "source": [
    "next(z)"
   ]
  },
  {
   "cell_type": "code",
   "execution_count": 119,
   "id": "1daa3573-1d38-4fe6-9ced-335829b9eebe",
   "metadata": {},
   "outputs": [
    {
     "data": {
      "text/plain": [
       "(2, 5)"
      ]
     },
     "execution_count": 119,
     "metadata": {},
     "output_type": "execute_result"
    }
   ],
   "source": [
    "next(z)"
   ]
  },
  {
   "cell_type": "code",
   "execution_count": 120,
   "id": "d70fa1d4-734b-4b08-8e8b-91f5d4a76242",
   "metadata": {},
   "outputs": [],
   "source": [
    "# for _ in range(100_000_000): \n",
    "#    next(z)"
   ]
  },
  {
   "cell_type": "code",
   "execution_count": 121,
   "id": "25027db5-b364-4638-b184-f250fc8b0b33",
   "metadata": {},
   "outputs": [
    {
     "data": {
      "text/plain": [
       "(3, 6)"
      ]
     },
     "execution_count": 121,
     "metadata": {},
     "output_type": "execute_result"
    }
   ],
   "source": [
    "next(z)"
   ]
  },
  {
   "cell_type": "code",
   "execution_count": 122,
   "id": "a2b87e39-7c6f-4d0b-83f3-7111d2397c8a",
   "metadata": {},
   "outputs": [],
   "source": [
    "# Takes a long time, but still doesn't use much memory:\n",
    "\n",
    "# for _ in range(1_000_000_000): \n",
    "#     next(z)"
   ]
  },
  {
   "cell_type": "code",
   "execution_count": 123,
   "id": "ecd65cd2-f7d0-4cc2-bc03-f7975cddf198",
   "metadata": {},
   "outputs": [],
   "source": [
    "class TeeInspector: \n",
    "    \n",
    "    def __init__(self, val): \n",
    "        self.val = val\n",
    "        \n",
    "    def __repr__(self):\n",
    "        return f'{type(self).__name__}({self.val!r})'\n",
    "    \n",
    "    def __del__(self): \n",
    "        print(f'#{self.val} is being finalized.')"
   ]
  },
  {
   "cell_type": "code",
   "execution_count": 124,
   "id": "560dea92-c0ff-4d97-b705-ff418a490c80",
   "metadata": {},
   "outputs": [],
   "source": [
    "t = TeeInspector(1)"
   ]
  },
  {
   "cell_type": "code",
   "execution_count": 125,
   "id": "ea75fb0b-d115-4468-94ad-970b0864ce99",
   "metadata": {},
   "outputs": [
    {
     "name": "stdout",
     "output_type": "stream",
     "text": [
      "#1 is being finalized.\n"
     ]
    }
   ],
   "source": [
    "del t"
   ]
  },
  {
   "cell_type": "code",
   "execution_count": 126,
   "id": "380824e0-dd20-4012-b241-b72cd0273dbc",
   "metadata": {},
   "outputs": [],
   "source": [
    "g = (TeeInspector(x) for x in range(10))"
   ]
  },
  {
   "cell_type": "code",
   "execution_count": 127,
   "id": "100acfd1-8b85-4cdd-a662-37a70dbf7dea",
   "metadata": {},
   "outputs": [
    {
     "name": "stdout",
     "output_type": "stream",
     "text": [
      "#0 is being finalized.\n"
     ]
    },
    {
     "data": {
      "text/plain": [
       "0"
      ]
     },
     "execution_count": 127,
     "metadata": {},
     "output_type": "execute_result"
    }
   ],
   "source": [
    "next(g).val"
   ]
  },
  {
   "cell_type": "code",
   "execution_count": 128,
   "id": "ea4cf137-351c-45a1-9a60-85ba671a2852",
   "metadata": {},
   "outputs": [
    {
     "name": "stdout",
     "output_type": "stream",
     "text": [
      "#1 is being finalized.\n"
     ]
    },
    {
     "data": {
      "text/plain": [
       "1"
      ]
     },
     "execution_count": 128,
     "metadata": {},
     "output_type": "execute_result"
    }
   ],
   "source": [
    "next(g).val"
   ]
  },
  {
   "cell_type": "code",
   "execution_count": 129,
   "id": "a9936386-e623-49d4-b511-284b242aaeff",
   "metadata": {},
   "outputs": [
    {
     "name": "stdout",
     "output_type": "stream",
     "text": [
      "2\n",
      "#2 is being finalized.\n",
      "3\n",
      "#3 is being finalized.\n",
      "4\n",
      "#4 is being finalized.\n",
      "5\n",
      "#5 is being finalized.\n",
      "6\n",
      "#6 is being finalized.\n",
      "7\n",
      "#7 is being finalized.\n",
      "8\n",
      "#8 is being finalized.\n",
      "9\n"
     ]
    }
   ],
   "source": [
    "for x in g: \n",
    "    print(x.val)"
   ]
  },
  {
   "cell_type": "code",
   "execution_count": 130,
   "id": "72466001-67be-44c5-92b2-98cef96baac7",
   "metadata": {},
   "outputs": [
    {
     "data": {
      "text/plain": [
       "9"
      ]
     },
     "execution_count": 130,
     "metadata": {},
     "output_type": "execute_result"
    }
   ],
   "source": [
    "x.val"
   ]
  },
  {
   "cell_type": "code",
   "execution_count": 131,
   "id": "c47e7f1d-7708-42eb-a857-367eda5933b6",
   "metadata": {},
   "outputs": [
    {
     "name": "stdout",
     "output_type": "stream",
     "text": [
      "#9 is being finalized.\n"
     ]
    }
   ],
   "source": [
    "del x"
   ]
  },
  {
   "cell_type": "code",
   "execution_count": 132,
   "id": "88c09944-1427-47a0-95a9-6ac913be46ca",
   "metadata": {},
   "outputs": [],
   "source": [
    "g = (TeeInspector(x) for x in range(7))"
   ]
  },
  {
   "cell_type": "code",
   "execution_count": 133,
   "id": "f24c9665-bb7c-4267-a940-c3e227b00065",
   "metadata": {},
   "outputs": [],
   "source": [
    "x, y = itertools.tee(g)"
   ]
  },
  {
   "cell_type": "code",
   "execution_count": 134,
   "id": "c71742ee-4797-422e-8c43-1331544910b4",
   "metadata": {},
   "outputs": [
    {
     "data": {
      "text/plain": [
       "0"
      ]
     },
     "execution_count": 134,
     "metadata": {},
     "output_type": "execute_result"
    }
   ],
   "source": [
    "next(y).val"
   ]
  },
  {
   "cell_type": "code",
   "execution_count": 135,
   "id": "2c0cda6c-9adf-4733-923e-d8be95be6dfe",
   "metadata": {},
   "outputs": [
    {
     "data": {
      "text/plain": [
       "1"
      ]
     },
     "execution_count": 135,
     "metadata": {},
     "output_type": "execute_result"
    }
   ],
   "source": [
    "next(y).val"
   ]
  },
  {
   "cell_type": "code",
   "execution_count": 136,
   "id": "4d2aebb8-b019-403e-a33e-37f92b35e82c",
   "metadata": {},
   "outputs": [
    {
     "data": {
      "text/plain": [
       "2"
      ]
     },
     "execution_count": 136,
     "metadata": {},
     "output_type": "execute_result"
    }
   ],
   "source": [
    "next(y).val"
   ]
  },
  {
   "cell_type": "code",
   "execution_count": 137,
   "id": "37ded995-db13-4bf7-a5c1-c65fec0c9373",
   "metadata": {},
   "outputs": [
    {
     "data": {
      "text/plain": [
       "0"
      ]
     },
     "execution_count": 137,
     "metadata": {},
     "output_type": "execute_result"
    }
   ],
   "source": [
    "next(x).val"
   ]
  },
  {
   "cell_type": "code",
   "execution_count": 138,
   "id": "d1a9f130-fe90-461d-81cb-4182639f8222",
   "metadata": {},
   "outputs": [
    {
     "data": {
      "text/plain": [
       "1"
      ]
     },
     "execution_count": 138,
     "metadata": {},
     "output_type": "execute_result"
    }
   ],
   "source": [
    "next(x).val"
   ]
  },
  {
   "cell_type": "code",
   "execution_count": 139,
   "id": "864e3f0b-3371-4267-b46b-677b2da8a812",
   "metadata": {},
   "outputs": [
    {
     "data": {
      "text/plain": [
       "3"
      ]
     },
     "execution_count": 139,
     "metadata": {},
     "output_type": "execute_result"
    }
   ],
   "source": [
    "next(y).val"
   ]
  },
  {
   "cell_type": "code",
   "execution_count": 140,
   "id": "1db9150f-085b-4746-913b-c7aeaa44f678",
   "metadata": {},
   "outputs": [
    {
     "data": {
      "text/plain": [
       "4"
      ]
     },
     "execution_count": 140,
     "metadata": {},
     "output_type": "execute_result"
    }
   ],
   "source": [
    "next(y).val"
   ]
  },
  {
   "cell_type": "code",
   "execution_count": 141,
   "id": "3d045942-ab65-4db5-9f70-24876e33edfb",
   "metadata": {},
   "outputs": [
    {
     "data": {
      "text/plain": [
       "5"
      ]
     },
     "execution_count": 141,
     "metadata": {},
     "output_type": "execute_result"
    }
   ],
   "source": [
    "next(y).val"
   ]
  },
  {
   "cell_type": "code",
   "execution_count": 142,
   "id": "9514ea28-bbe2-4abb-b3ee-18b50597a553",
   "metadata": {},
   "outputs": [
    {
     "data": {
      "text/plain": [
       "2"
      ]
     },
     "execution_count": 142,
     "metadata": {},
     "output_type": "execute_result"
    }
   ],
   "source": [
    "next(x).val"
   ]
  },
  {
   "cell_type": "code",
   "execution_count": 143,
   "id": "b09fba05-ebbf-46d1-a5d1-a19edc206691",
   "metadata": {},
   "outputs": [
    {
     "data": {
      "text/plain": [
       "3"
      ]
     },
     "execution_count": 143,
     "metadata": {},
     "output_type": "execute_result"
    }
   ],
   "source": [
    "next(x).val"
   ]
  },
  {
   "cell_type": "code",
   "execution_count": 144,
   "id": "02cacb91-8091-407c-82a3-0c108b70514c",
   "metadata": {},
   "outputs": [
    {
     "data": {
      "text/plain": [
       "4"
      ]
     },
     "execution_count": 144,
     "metadata": {},
     "output_type": "execute_result"
    }
   ],
   "source": [
    "next(x).val"
   ]
  },
  {
   "cell_type": "code",
   "execution_count": 145,
   "id": "5e832a94-b6a1-4e10-80f1-841fcb20898e",
   "metadata": {},
   "outputs": [
    {
     "data": {
      "text/plain": [
       "5"
      ]
     },
     "execution_count": 145,
     "metadata": {},
     "output_type": "execute_result"
    }
   ],
   "source": [
    "next(x).val"
   ]
  },
  {
   "cell_type": "code",
   "execution_count": 146,
   "id": "286e0f49-0a08-4d3d-8f2a-cb2b1da97783",
   "metadata": {},
   "outputs": [
    {
     "data": {
      "text/plain": [
       "6"
      ]
     },
     "execution_count": 146,
     "metadata": {},
     "output_type": "execute_result"
    }
   ],
   "source": [
    "next(x).val"
   ]
  },
  {
   "cell_type": "code",
   "execution_count": 147,
   "id": "377f4629-9211-4b4d-a922-5ebab74676ec",
   "metadata": {
    "tags": [
     "raises-exception"
    ]
   },
   "outputs": [
    {
     "ename": "StopIteration",
     "evalue": "",
     "output_type": "error",
     "traceback": [
      "\u001b[1;31m---------------------------------------------------------------------------\u001b[0m",
      "\u001b[1;31mStopIteration\u001b[0m                             Traceback (most recent call last)",
      "Input \u001b[1;32mIn [147]\u001b[0m, in \u001b[0;36m<cell line: 1>\u001b[1;34m()\u001b[0m\n\u001b[1;32m----> 1\u001b[0m \u001b[38;5;28;43mnext\u001b[39;49m\u001b[43m(\u001b[49m\u001b[43mx\u001b[49m\u001b[43m)\u001b[49m\u001b[38;5;241m.\u001b[39mval\n",
      "\u001b[1;31mStopIteration\u001b[0m: "
     ]
    }
   ],
   "source": [
    "next(x).val"
   ]
  },
  {
   "cell_type": "code",
   "execution_count": 148,
   "id": "56927fae-3732-4f46-9b9a-b901a5b9372d",
   "metadata": {},
   "outputs": [
    {
     "data": {
      "text/plain": [
       "6"
      ]
     },
     "execution_count": 148,
     "metadata": {},
     "output_type": "execute_result"
    }
   ],
   "source": [
    "next(y).val"
   ]
  },
  {
   "cell_type": "code",
   "execution_count": 149,
   "id": "823e51b4-6f9f-47e3-91f6-16344c2097fc",
   "metadata": {
    "tags": [
     "raises-exception"
    ]
   },
   "outputs": [
    {
     "ename": "StopIteration",
     "evalue": "",
     "output_type": "error",
     "traceback": [
      "\u001b[1;31m---------------------------------------------------------------------------\u001b[0m",
      "\u001b[1;31mStopIteration\u001b[0m                             Traceback (most recent call last)",
      "Input \u001b[1;32mIn [149]\u001b[0m, in \u001b[0;36m<cell line: 1>\u001b[1;34m()\u001b[0m\n\u001b[1;32m----> 1\u001b[0m \u001b[38;5;28;43mnext\u001b[39;49m\u001b[43m(\u001b[49m\u001b[43my\u001b[49m\u001b[43m)\u001b[49m\u001b[38;5;241m.\u001b[39mval\n",
      "\u001b[1;31mStopIteration\u001b[0m: "
     ]
    }
   ],
   "source": [
    "next(y).val"
   ]
  },
  {
   "cell_type": "code",
   "execution_count": 150,
   "id": "9a98dcfd-466e-4321-bbc1-935f1adf8e16",
   "metadata": {
    "tags": [
     "raises-exception"
    ]
   },
   "outputs": [
    {
     "name": "stdout",
     "output_type": "stream",
     "text": [
      "#0 is being finalized.\n",
      "#1 is being finalized.\n",
      "#2 is being finalized.\n",
      "#3 is being finalized.\n",
      "#4 is being finalized.\n",
      "#5 is being finalized.\n",
      "#6 is being finalized.\n"
     ]
    }
   ],
   "source": [
    "del x, y"
   ]
  },
  {
   "cell_type": "code",
   "execution_count": 151,
   "id": "a73c3b75-95b5-4c8b-b2e7-970ffdcec329",
   "metadata": {},
   "outputs": [],
   "source": [
    "big = (TeeInspector(x) for x in range(200))"
   ]
  },
  {
   "cell_type": "code",
   "execution_count": 152,
   "id": "76f453e0-d97a-4d13-add9-4eaac215c468",
   "metadata": {},
   "outputs": [],
   "source": [
    "x, y = itertools.tee(big)"
   ]
  },
  {
   "cell_type": "code",
   "execution_count": 153,
   "id": "6b02057d-2ad7-4bce-9dee-cbad46a01977",
   "metadata": {},
   "outputs": [],
   "source": [
    "for _ in range(100): \n",
    "    b = next(y).val"
   ]
  },
  {
   "cell_type": "code",
   "execution_count": 154,
   "id": "30b2c26a-15ee-4a87-a201-4c1d56204ff2",
   "metadata": {},
   "outputs": [],
   "source": [
    "for _ in range(50): \n",
    "    c = next(x).val"
   ]
  },
  {
   "cell_type": "code",
   "execution_count": 155,
   "id": "029e1fe1-2971-46df-a5e4-7bd0e3b5a7fe",
   "metadata": {},
   "outputs": [
    {
     "name": "stdout",
     "output_type": "stream",
     "text": [
      "#0 is being finalized.\n",
      "#1 is being finalized.\n",
      "#2 is being finalized.\n",
      "#3 is being finalized.\n",
      "#4 is being finalized.\n",
      "#5 is being finalized.\n",
      "#6 is being finalized.\n",
      "#7 is being finalized.\n",
      "#8 is being finalized.\n",
      "#9 is being finalized.\n",
      "#10 is being finalized.\n",
      "#11 is being finalized.\n",
      "#12 is being finalized.\n",
      "#13 is being finalized.\n",
      "#14 is being finalized.\n",
      "#15 is being finalized.\n",
      "#16 is being finalized.\n",
      "#17 is being finalized.\n",
      "#18 is being finalized.\n",
      "#19 is being finalized.\n",
      "#20 is being finalized.\n",
      "#21 is being finalized.\n",
      "#22 is being finalized.\n",
      "#23 is being finalized.\n",
      "#24 is being finalized.\n",
      "#25 is being finalized.\n",
      "#26 is being finalized.\n",
      "#27 is being finalized.\n",
      "#28 is being finalized.\n",
      "#29 is being finalized.\n",
      "#30 is being finalized.\n",
      "#31 is being finalized.\n",
      "#32 is being finalized.\n",
      "#33 is being finalized.\n",
      "#34 is being finalized.\n",
      "#35 is being finalized.\n",
      "#36 is being finalized.\n",
      "#37 is being finalized.\n",
      "#38 is being finalized.\n",
      "#39 is being finalized.\n",
      "#40 is being finalized.\n",
      "#41 is being finalized.\n",
      "#42 is being finalized.\n",
      "#43 is being finalized.\n",
      "#44 is being finalized.\n",
      "#45 is being finalized.\n",
      "#46 is being finalized.\n",
      "#47 is being finalized.\n",
      "#48 is being finalized.\n",
      "#49 is being finalized.\n",
      "#50 is being finalized.\n",
      "#51 is being finalized.\n",
      "#52 is being finalized.\n",
      "#53 is being finalized.\n",
      "#54 is being finalized.\n",
      "#55 is being finalized.\n",
      "#56 is being finalized.\n"
     ]
    }
   ],
   "source": [
    "for _ in range(50): \n",
    "    c = next(x).val"
   ]
  },
  {
   "cell_type": "code",
   "execution_count": 156,
   "id": "0e089b2d-07f6-47e6-8141-f1923945eb0b",
   "metadata": {},
   "outputs": [
    {
     "name": "stdout",
     "output_type": "stream",
     "text": [
      "#57 is being finalized.\n",
      "#58 is being finalized.\n",
      "#59 is being finalized.\n",
      "#60 is being finalized.\n",
      "#61 is being finalized.\n",
      "#62 is being finalized.\n",
      "#63 is being finalized.\n",
      "#64 is being finalized.\n",
      "#65 is being finalized.\n",
      "#66 is being finalized.\n",
      "#67 is being finalized.\n",
      "#68 is being finalized.\n",
      "#69 is being finalized.\n",
      "#70 is being finalized.\n",
      "#71 is being finalized.\n",
      "#72 is being finalized.\n",
      "#73 is being finalized.\n",
      "#74 is being finalized.\n",
      "#75 is being finalized.\n",
      "#76 is being finalized.\n",
      "#77 is being finalized.\n",
      "#78 is being finalized.\n",
      "#79 is being finalized.\n",
      "#80 is being finalized.\n",
      "#81 is being finalized.\n",
      "#82 is being finalized.\n",
      "#83 is being finalized.\n",
      "#84 is being finalized.\n",
      "#85 is being finalized.\n",
      "#86 is being finalized.\n",
      "#87 is being finalized.\n",
      "#88 is being finalized.\n",
      "#89 is being finalized.\n",
      "#90 is being finalized.\n",
      "#91 is being finalized.\n",
      "#92 is being finalized.\n",
      "#93 is being finalized.\n",
      "#94 is being finalized.\n",
      "#95 is being finalized.\n",
      "#96 is being finalized.\n",
      "#97 is being finalized.\n",
      "#98 is being finalized.\n",
      "#99 is being finalized.\n"
     ]
    }
   ],
   "source": [
    "del x, y"
   ]
  },
  {
   "cell_type": "code",
   "execution_count": 157,
   "id": "281488e4-97ca-45a0-86fe-d55ade417291",
   "metadata": {},
   "outputs": [],
   "source": [
    "big = (TeeInspector(x) for x in range(200))"
   ]
  },
  {
   "cell_type": "code",
   "execution_count": 158,
   "id": "8748eecc-60e1-415c-819a-7e8620a0ef93",
   "metadata": {},
   "outputs": [],
   "source": [
    "x, y = itertools.tee(big)"
   ]
  },
  {
   "cell_type": "code",
   "execution_count": 159,
   "id": "e3384bfc-53a2-4c82-ba00-d168bd0252f3",
   "metadata": {},
   "outputs": [],
   "source": [
    "for _ in range(100): \n",
    "    next(y)"
   ]
  },
  {
   "cell_type": "code",
   "execution_count": 160,
   "id": "87179930-e9b4-48e5-8293-2bad977ac64d",
   "metadata": {},
   "outputs": [
    {
     "name": "stdout",
     "output_type": "stream",
     "text": [
      "0\n",
      "1\n",
      "2\n",
      "3\n",
      "4\n",
      "5\n",
      "6\n",
      "7\n",
      "8\n",
      "9\n",
      "10\n",
      "11\n",
      "12\n",
      "13\n",
      "14\n",
      "15\n",
      "16\n",
      "17\n",
      "18\n",
      "19\n",
      "20\n",
      "21\n",
      "22\n",
      "23\n",
      "24\n",
      "25\n",
      "26\n",
      "27\n",
      "28\n",
      "29\n",
      "30\n",
      "31\n",
      "32\n",
      "33\n",
      "34\n",
      "35\n",
      "36\n",
      "37\n",
      "38\n",
      "39\n",
      "40\n",
      "41\n",
      "42\n",
      "43\n",
      "44\n",
      "45\n",
      "46\n",
      "47\n",
      "48\n",
      "49\n",
      "50\n",
      "51\n",
      "52\n",
      "53\n",
      "54\n",
      "55\n",
      "56\n",
      "#0 is being finalized.\n",
      "#1 is being finalized.\n",
      "#2 is being finalized.\n",
      "#3 is being finalized.\n",
      "#4 is being finalized.\n",
      "#5 is being finalized.\n",
      "#6 is being finalized.\n",
      "#7 is being finalized.\n",
      "#8 is being finalized.\n",
      "#9 is being finalized.\n",
      "#10 is being finalized.\n",
      "#11 is being finalized.\n",
      "#12 is being finalized.\n",
      "#13 is being finalized.\n",
      "#14 is being finalized.\n",
      "#15 is being finalized.\n",
      "#16 is being finalized.\n",
      "#17 is being finalized.\n",
      "#18 is being finalized.\n",
      "#19 is being finalized.\n",
      "#20 is being finalized.\n",
      "#21 is being finalized.\n",
      "#22 is being finalized.\n",
      "#23 is being finalized.\n",
      "#24 is being finalized.\n",
      "#25 is being finalized.\n",
      "#26 is being finalized.\n",
      "#27 is being finalized.\n",
      "#28 is being finalized.\n",
      "#29 is being finalized.\n",
      "#30 is being finalized.\n",
      "#31 is being finalized.\n",
      "#32 is being finalized.\n",
      "#33 is being finalized.\n",
      "#34 is being finalized.\n",
      "#35 is being finalized.\n",
      "#36 is being finalized.\n",
      "#37 is being finalized.\n",
      "#38 is being finalized.\n",
      "#39 is being finalized.\n",
      "#40 is being finalized.\n",
      "#41 is being finalized.\n",
      "#42 is being finalized.\n",
      "#43 is being finalized.\n",
      "#44 is being finalized.\n",
      "#45 is being finalized.\n",
      "#46 is being finalized.\n",
      "#47 is being finalized.\n",
      "#48 is being finalized.\n",
      "#49 is being finalized.\n",
      "#50 is being finalized.\n",
      "#51 is being finalized.\n",
      "#52 is being finalized.\n",
      "#53 is being finalized.\n",
      "#54 is being finalized.\n",
      "#55 is being finalized.\n",
      "#56 is being finalized.\n",
      "57\n",
      "58\n",
      "59\n",
      "60\n",
      "61\n",
      "62\n",
      "63\n",
      "64\n",
      "65\n",
      "66\n",
      "67\n",
      "68\n",
      "69\n",
      "70\n",
      "71\n",
      "72\n",
      "73\n",
      "74\n",
      "75\n",
      "76\n",
      "77\n",
      "78\n",
      "79\n",
      "80\n",
      "81\n",
      "82\n",
      "83\n",
      "84\n",
      "85\n",
      "86\n",
      "87\n",
      "88\n",
      "89\n",
      "90\n",
      "91\n",
      "92\n",
      "93\n",
      "94\n",
      "95\n",
      "96\n",
      "97\n",
      "98\n",
      "99\n"
     ]
    }
   ],
   "source": [
    "for _ in range(100):\n",
    "    print(next(x).val)"
   ]
  },
  {
   "cell_type": "code",
   "execution_count": 161,
   "id": "ba06d728-be04-4347-bf45-42a829f145f1",
   "metadata": {},
   "outputs": [],
   "source": [
    "for _ in range(100):\n",
    "    next(y)"
   ]
  },
  {
   "cell_type": "code",
   "execution_count": 162,
   "id": "8d99a93b-0612-44cc-8dd8-9fe38107f4e6",
   "metadata": {},
   "outputs": [
    {
     "name": "stdout",
     "output_type": "stream",
     "text": [
      "100\n",
      "101\n",
      "102\n",
      "103\n",
      "104\n",
      "105\n",
      "106\n",
      "107\n",
      "108\n",
      "109\n",
      "110\n",
      "111\n",
      "112\n",
      "113\n",
      "#57 is being finalized.\n",
      "#58 is being finalized.\n",
      "#59 is being finalized.\n",
      "#60 is being finalized.\n",
      "#61 is being finalized.\n",
      "#62 is being finalized.\n",
      "#63 is being finalized.\n",
      "#64 is being finalized.\n",
      "#65 is being finalized.\n",
      "#66 is being finalized.\n",
      "#67 is being finalized.\n",
      "#68 is being finalized.\n",
      "#69 is being finalized.\n",
      "#70 is being finalized.\n",
      "#71 is being finalized.\n",
      "#72 is being finalized.\n",
      "#73 is being finalized.\n",
      "#74 is being finalized.\n",
      "#75 is being finalized.\n",
      "#76 is being finalized.\n",
      "#77 is being finalized.\n",
      "#78 is being finalized.\n",
      "#79 is being finalized.\n",
      "#80 is being finalized.\n",
      "#81 is being finalized.\n",
      "#82 is being finalized.\n",
      "#83 is being finalized.\n",
      "#84 is being finalized.\n",
      "#85 is being finalized.\n",
      "#86 is being finalized.\n",
      "#87 is being finalized.\n",
      "#88 is being finalized.\n",
      "#89 is being finalized.\n",
      "#90 is being finalized.\n",
      "#91 is being finalized.\n",
      "#92 is being finalized.\n",
      "#93 is being finalized.\n",
      "#94 is being finalized.\n",
      "#95 is being finalized.\n",
      "#96 is being finalized.\n",
      "#97 is being finalized.\n",
      "#98 is being finalized.\n",
      "#99 is being finalized.\n",
      "#100 is being finalized.\n",
      "#101 is being finalized.\n",
      "#102 is being finalized.\n",
      "#103 is being finalized.\n",
      "#104 is being finalized.\n",
      "#105 is being finalized.\n",
      "#106 is being finalized.\n",
      "#107 is being finalized.\n",
      "#108 is being finalized.\n",
      "#109 is being finalized.\n",
      "#110 is being finalized.\n",
      "#111 is being finalized.\n",
      "#112 is being finalized.\n",
      "#113 is being finalized.\n",
      "114\n",
      "115\n",
      "116\n",
      "117\n",
      "118\n",
      "119\n",
      "120\n",
      "121\n",
      "122\n",
      "123\n",
      "124\n",
      "125\n",
      "126\n",
      "127\n",
      "128\n",
      "129\n",
      "130\n",
      "131\n",
      "132\n",
      "133\n",
      "134\n",
      "135\n",
      "136\n",
      "137\n",
      "138\n",
      "139\n",
      "140\n",
      "141\n",
      "142\n",
      "143\n",
      "144\n",
      "145\n",
      "146\n",
      "147\n",
      "148\n",
      "149\n",
      "150\n",
      "151\n",
      "152\n",
      "153\n",
      "154\n",
      "155\n",
      "156\n",
      "157\n",
      "158\n",
      "159\n",
      "160\n",
      "161\n",
      "162\n",
      "163\n",
      "164\n",
      "165\n",
      "166\n",
      "167\n",
      "168\n",
      "169\n",
      "170\n",
      "#114 is being finalized.\n",
      "#115 is being finalized.\n",
      "#116 is being finalized.\n",
      "#117 is being finalized.\n",
      "#118 is being finalized.\n",
      "#119 is being finalized.\n",
      "#120 is being finalized.\n",
      "#121 is being finalized.\n",
      "#122 is being finalized.\n",
      "#123 is being finalized.\n",
      "#124 is being finalized.\n",
      "#125 is being finalized.\n",
      "#126 is being finalized.\n",
      "#127 is being finalized.\n",
      "#128 is being finalized.\n",
      "#129 is being finalized.\n",
      "#130 is being finalized.\n",
      "#131 is being finalized.\n",
      "#132 is being finalized.\n",
      "#133 is being finalized.\n",
      "#134 is being finalized.\n",
      "#135 is being finalized.\n",
      "#136 is being finalized.\n",
      "#137 is being finalized.\n",
      "#138 is being finalized.\n",
      "#139 is being finalized.\n",
      "#140 is being finalized.\n",
      "#141 is being finalized.\n",
      "#142 is being finalized.\n",
      "#143 is being finalized.\n",
      "#144 is being finalized.\n",
      "#145 is being finalized.\n",
      "#146 is being finalized.\n",
      "#147 is being finalized.\n",
      "#148 is being finalized.\n",
      "#149 is being finalized.\n",
      "#150 is being finalized.\n",
      "#151 is being finalized.\n",
      "#152 is being finalized.\n",
      "#153 is being finalized.\n",
      "#154 is being finalized.\n",
      "#155 is being finalized.\n",
      "#156 is being finalized.\n",
      "#157 is being finalized.\n",
      "#158 is being finalized.\n",
      "#159 is being finalized.\n",
      "#160 is being finalized.\n",
      "#161 is being finalized.\n",
      "#162 is being finalized.\n",
      "#163 is being finalized.\n",
      "#164 is being finalized.\n",
      "#165 is being finalized.\n",
      "#166 is being finalized.\n",
      "#167 is being finalized.\n",
      "#168 is being finalized.\n",
      "#169 is being finalized.\n",
      "#170 is being finalized.\n",
      "171\n",
      "172\n",
      "173\n",
      "174\n",
      "175\n",
      "176\n",
      "177\n",
      "178\n",
      "179\n",
      "180\n",
      "181\n",
      "182\n",
      "183\n",
      "184\n",
      "185\n",
      "186\n",
      "187\n",
      "188\n",
      "189\n",
      "190\n",
      "191\n",
      "192\n",
      "193\n",
      "194\n",
      "195\n",
      "196\n",
      "197\n",
      "198\n",
      "199\n"
     ]
    }
   ],
   "source": [
    "for _ in range(100):\n",
    "    print(next(x).val)"
   ]
  },
  {
   "cell_type": "code",
   "execution_count": 164,
   "id": "4e0040b3-c2c9-45f5-86b0-19f1491d89c3",
   "metadata": {},
   "outputs": [],
   "source": [
    "two_hundred_inspectors = (TeeInspector(x) for x in range(200))"
   ]
  },
  {
   "cell_type": "code",
   "execution_count": 165,
   "id": "486528c6-8102-424e-b89e-33b600a93686",
   "metadata": {},
   "outputs": [],
   "source": [
    "back, front = itertools.tee(two_hundred_inspectors)"
   ]
  },
  {
   "cell_type": "code",
   "execution_count": 166,
   "id": "89078fac-cc08-4483-a5ae-626a80218c68",
   "metadata": {},
   "outputs": [],
   "source": [
    "for _ in range(100): \n",
    "    next(front)"
   ]
  },
  {
   "cell_type": "code",
   "execution_count": 167,
   "id": "5aebd312-d0d7-4543-bfdd-d48e2d09049b",
   "metadata": {},
   "outputs": [],
   "source": [
    "for _ in range(5): \n",
    "    next(back)"
   ]
  },
  {
   "cell_type": "code",
   "execution_count": 168,
   "id": "55baa064-ff72-4d6e-af78-ca98ce49370b",
   "metadata": {},
   "outputs": [
    {
     "name": "stdout",
     "output_type": "stream",
     "text": [
      "#0 is being finalized.\n",
      "#1 is being finalized.\n",
      "#2 is being finalized.\n",
      "#3 is being finalized.\n",
      "#4 is being finalized.\n",
      "#5 is being finalized.\n",
      "#6 is being finalized.\n",
      "#7 is being finalized.\n",
      "#8 is being finalized.\n",
      "#9 is being finalized.\n",
      "#10 is being finalized.\n",
      "#11 is being finalized.\n",
      "#12 is being finalized.\n",
      "#13 is being finalized.\n",
      "#14 is being finalized.\n",
      "#15 is being finalized.\n",
      "#16 is being finalized.\n",
      "#17 is being finalized.\n",
      "#18 is being finalized.\n",
      "#19 is being finalized.\n",
      "#20 is being finalized.\n",
      "#21 is being finalized.\n",
      "#22 is being finalized.\n",
      "#23 is being finalized.\n",
      "#24 is being finalized.\n",
      "#25 is being finalized.\n",
      "#26 is being finalized.\n",
      "#27 is being finalized.\n",
      "#28 is being finalized.\n",
      "#29 is being finalized.\n",
      "#30 is being finalized.\n",
      "#31 is being finalized.\n",
      "#32 is being finalized.\n",
      "#33 is being finalized.\n",
      "#34 is being finalized.\n",
      "#35 is being finalized.\n",
      "#36 is being finalized.\n",
      "#37 is being finalized.\n",
      "#38 is being finalized.\n",
      "#39 is being finalized.\n",
      "#40 is being finalized.\n",
      "#41 is being finalized.\n",
      "#42 is being finalized.\n",
      "#43 is being finalized.\n",
      "#44 is being finalized.\n",
      "#45 is being finalized.\n",
      "#46 is being finalized.\n",
      "#47 is being finalized.\n",
      "#48 is being finalized.\n",
      "#49 is being finalized.\n",
      "#50 is being finalized.\n",
      "#51 is being finalized.\n",
      "#52 is being finalized.\n",
      "#53 is being finalized.\n",
      "#54 is being finalized.\n",
      "#55 is being finalized.\n",
      "#56 is being finalized.\n"
     ]
    }
   ],
   "source": [
    "del back"
   ]
  },
  {
   "cell_type": "code",
   "execution_count": 169,
   "id": "f9aad076-e154-46db-93d0-e2c131c71658",
   "metadata": {},
   "outputs": [],
   "source": [
    "two_hundred_inspectors = (TeeInspector(x) for x in range(200))"
   ]
  },
  {
   "cell_type": "code",
   "execution_count": 170,
   "id": "68c598fb-4b4d-4e11-8042-23096c80004b",
   "metadata": {},
   "outputs": [
    {
     "name": "stdout",
     "output_type": "stream",
     "text": [
      "#57 is being finalized.\n",
      "#58 is being finalized.\n",
      "#59 is being finalized.\n",
      "#60 is being finalized.\n",
      "#61 is being finalized.\n",
      "#62 is being finalized.\n",
      "#63 is being finalized.\n",
      "#64 is being finalized.\n",
      "#65 is being finalized.\n",
      "#66 is being finalized.\n",
      "#67 is being finalized.\n",
      "#68 is being finalized.\n",
      "#69 is being finalized.\n",
      "#70 is being finalized.\n",
      "#71 is being finalized.\n",
      "#72 is being finalized.\n",
      "#73 is being finalized.\n",
      "#74 is being finalized.\n",
      "#75 is being finalized.\n",
      "#76 is being finalized.\n",
      "#77 is being finalized.\n",
      "#78 is being finalized.\n",
      "#79 is being finalized.\n",
      "#80 is being finalized.\n",
      "#81 is being finalized.\n",
      "#82 is being finalized.\n",
      "#83 is being finalized.\n",
      "#84 is being finalized.\n",
      "#85 is being finalized.\n",
      "#86 is being finalized.\n",
      "#87 is being finalized.\n",
      "#88 is being finalized.\n",
      "#89 is being finalized.\n",
      "#90 is being finalized.\n",
      "#91 is being finalized.\n",
      "#92 is being finalized.\n",
      "#93 is being finalized.\n",
      "#94 is being finalized.\n",
      "#95 is being finalized.\n",
      "#96 is being finalized.\n",
      "#97 is being finalized.\n",
      "#98 is being finalized.\n",
      "#99 is being finalized.\n"
     ]
    }
   ],
   "source": [
    "back, front = itertools.tee(two_hundred_inspectors)"
   ]
  },
  {
   "cell_type": "code",
   "execution_count": 171,
   "id": "f546a003-40c2-423d-b043-81ffcaefa459",
   "metadata": {},
   "outputs": [],
   "source": [
    "for _ in range(30): \n",
    "    next(front)"
   ]
  },
  {
   "cell_type": "code",
   "execution_count": 172,
   "id": "37f883bf-7287-4aa3-9d8e-878c40df6c98",
   "metadata": {},
   "outputs": [],
   "source": [
    "for _ in range(30): \n",
    "    next(back)"
   ]
  },
  {
   "cell_type": "code",
   "execution_count": 173,
   "id": "89a4ca72-5597-41c7-a0bb-47e389129408",
   "metadata": {},
   "outputs": [],
   "source": [
    "for _ in range(70): \n",
    "    next(back)"
   ]
  },
  {
   "cell_type": "code",
   "execution_count": 174,
   "id": "ad58cec6-ff14-4783-bd1d-56b92c970f4f",
   "metadata": {},
   "outputs": [
    {
     "name": "stdout",
     "output_type": "stream",
     "text": [
      "#0 is being finalized.\n",
      "#1 is being finalized.\n",
      "#2 is being finalized.\n",
      "#3 is being finalized.\n",
      "#4 is being finalized.\n",
      "#5 is being finalized.\n",
      "#6 is being finalized.\n",
      "#7 is being finalized.\n",
      "#8 is being finalized.\n",
      "#9 is being finalized.\n",
      "#10 is being finalized.\n",
      "#11 is being finalized.\n",
      "#12 is being finalized.\n",
      "#13 is being finalized.\n",
      "#14 is being finalized.\n",
      "#15 is being finalized.\n",
      "#16 is being finalized.\n",
      "#17 is being finalized.\n",
      "#18 is being finalized.\n",
      "#19 is being finalized.\n",
      "#20 is being finalized.\n",
      "#21 is being finalized.\n",
      "#22 is being finalized.\n",
      "#23 is being finalized.\n",
      "#24 is being finalized.\n",
      "#25 is being finalized.\n",
      "#26 is being finalized.\n",
      "#27 is being finalized.\n",
      "#28 is being finalized.\n",
      "#29 is being finalized.\n",
      "#30 is being finalized.\n",
      "#31 is being finalized.\n",
      "#32 is being finalized.\n",
      "#33 is being finalized.\n",
      "#34 is being finalized.\n",
      "#35 is being finalized.\n",
      "#36 is being finalized.\n",
      "#37 is being finalized.\n",
      "#38 is being finalized.\n",
      "#39 is being finalized.\n",
      "#40 is being finalized.\n",
      "#41 is being finalized.\n",
      "#42 is being finalized.\n",
      "#43 is being finalized.\n",
      "#44 is being finalized.\n",
      "#45 is being finalized.\n",
      "#46 is being finalized.\n",
      "#47 is being finalized.\n",
      "#48 is being finalized.\n",
      "#49 is being finalized.\n",
      "#50 is being finalized.\n",
      "#51 is being finalized.\n",
      "#52 is being finalized.\n",
      "#53 is being finalized.\n",
      "#54 is being finalized.\n",
      "#55 is being finalized.\n",
      "#56 is being finalized.\n"
     ]
    }
   ],
   "source": [
    "for _ in range(70): \n",
    "    next(front)"
   ]
  },
  {
   "cell_type": "code",
   "execution_count": 175,
   "id": "a9a4f341-55c1-4014-8ca6-55caa00d7b1c",
   "metadata": {},
   "outputs": [],
   "source": [
    "del x, y, back, front, two_hundred_inspectors"
   ]
  },
  {
   "cell_type": "code",
   "execution_count": 176,
   "id": "8e252473-e00f-4fad-9ccb-b0bef84595e5",
   "metadata": {},
   "outputs": [],
   "source": [
    "two_hundred_inspectors = (TeeInspector(x) for x in range(200))"
   ]
  },
  {
   "cell_type": "code",
   "execution_count": 177,
   "id": "fbc9c484-7786-49dd-932f-9ce3fa2a96c1",
   "metadata": {},
   "outputs": [],
   "source": [
    "one, two, three = itertools.tee(two_hundred_inspectors, 3)"
   ]
  },
  {
   "cell_type": "code",
   "execution_count": 178,
   "id": "da1eb22d-4fc2-464e-b687-3deb0d2f67aa",
   "metadata": {},
   "outputs": [],
   "source": [
    "for _ in range(100): \n",
    "    next(one)"
   ]
  },
  {
   "cell_type": "code",
   "execution_count": 179,
   "id": "2e3b79d4-640e-4c00-9743-8a10f516c4fc",
   "metadata": {},
   "outputs": [],
   "source": [
    "for _ in range(100):\n",
    "    next(two)"
   ]
  },
  {
   "cell_type": "code",
   "execution_count": 180,
   "id": "d07e317a-9016-4314-913e-1b5f976d10de",
   "metadata": {},
   "outputs": [
    {
     "name": "stdout",
     "output_type": "stream",
     "text": [
      "#0 is being finalized.\n",
      "#1 is being finalized.\n",
      "#2 is being finalized.\n",
      "#3 is being finalized.\n",
      "#4 is being finalized.\n",
      "#5 is being finalized.\n",
      "#6 is being finalized.\n",
      "#7 is being finalized.\n",
      "#8 is being finalized.\n",
      "#9 is being finalized.\n",
      "#10 is being finalized.\n",
      "#11 is being finalized.\n",
      "#12 is being finalized.\n",
      "#13 is being finalized.\n",
      "#14 is being finalized.\n",
      "#15 is being finalized.\n",
      "#16 is being finalized.\n",
      "#17 is being finalized.\n",
      "#18 is being finalized.\n",
      "#19 is being finalized.\n",
      "#20 is being finalized.\n",
      "#21 is being finalized.\n",
      "#22 is being finalized.\n",
      "#23 is being finalized.\n",
      "#24 is being finalized.\n",
      "#25 is being finalized.\n",
      "#26 is being finalized.\n",
      "#27 is being finalized.\n",
      "#28 is being finalized.\n",
      "#29 is being finalized.\n",
      "#30 is being finalized.\n",
      "#31 is being finalized.\n",
      "#32 is being finalized.\n",
      "#33 is being finalized.\n",
      "#34 is being finalized.\n",
      "#35 is being finalized.\n",
      "#36 is being finalized.\n",
      "#37 is being finalized.\n",
      "#38 is being finalized.\n",
      "#39 is being finalized.\n",
      "#40 is being finalized.\n",
      "#41 is being finalized.\n",
      "#42 is being finalized.\n",
      "#43 is being finalized.\n",
      "#44 is being finalized.\n",
      "#45 is being finalized.\n",
      "#46 is being finalized.\n",
      "#47 is being finalized.\n",
      "#48 is being finalized.\n",
      "#49 is being finalized.\n",
      "#50 is being finalized.\n",
      "#51 is being finalized.\n",
      "#52 is being finalized.\n",
      "#53 is being finalized.\n",
      "#54 is being finalized.\n",
      "#55 is being finalized.\n",
      "#56 is being finalized.\n"
     ]
    }
   ],
   "source": [
    "for _ in range(100): \n",
    "    next(three)"
   ]
  },
  {
   "cell_type": "code",
   "execution_count": 181,
   "id": "08c231a6-7181-4013-a4e3-79cf8863df7e",
   "metadata": {},
   "outputs": [
    {
     "name": "stdout",
     "output_type": "stream",
     "text": [
      "Help on class pairwise in module itertools:\n",
      "\n",
      "class pairwise(builtins.object)\n",
      " |  pairwise(iterable, /)\n",
      " |  \n",
      " |  Return an iterator of overlapping pairs taken from the input iterator.\n",
      " |  \n",
      " |  s -> (s0,s1), (s1,s2), (s2, s3), ...\n",
      " |  \n",
      " |  Methods defined here:\n",
      " |  \n",
      " |  __getattribute__(self, name, /)\n",
      " |      Return getattr(self, name).\n",
      " |  \n",
      " |  __iter__(self, /)\n",
      " |      Implement iter(self).\n",
      " |  \n",
      " |  __next__(self, /)\n",
      " |      Implement next(self).\n",
      " |  \n",
      " |  ----------------------------------------------------------------------\n",
      " |  Static methods defined here:\n",
      " |  \n",
      " |  __new__(*args, **kwargs) from builtins.type\n",
      " |      Create and return a new object.  See help(type) for accurate signature.\n",
      "\n"
     ]
    }
   ],
   "source": [
    "help(itertools.pairwise)"
   ]
  },
  {
   "cell_type": "code",
   "execution_count": null,
   "id": "5b7974c0-a3a2-430f-a79d-6b4c6fde0790",
   "metadata": {},
   "outputs": [],
   "source": []
  }
 ],
 "metadata": {
  "kernelspec": {
   "display_name": "Python 3 (ipykernel)",
   "language": "python",
   "name": "python3"
  },
  "language_info": {
   "codemirror_mode": {
    "name": "ipython",
    "version": 3
   },
   "file_extension": ".py",
   "mimetype": "text/x-python",
   "name": "python",
   "nbconvert_exporter": "python",
   "pygments_lexer": "ipython3",
   "version": "3.10.5"
  }
 },
 "nbformat": 4,
 "nbformat_minor": 5
}
