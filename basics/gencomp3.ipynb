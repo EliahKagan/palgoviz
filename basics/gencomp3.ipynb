{
 "cells": [
  {
   "cell_type": "markdown",
   "id": "aaf90289-66f0-4680-9da4-87ac5053e662",
   "metadata": {},
   "source": [
    "# Generators & Comprehensions - Part 3\n",
    "\n",
    "This will cover more advanced generators and comprehensions (and other iterator) topics, but it starts with some review (and tips)."
   ]
  },
  {
   "cell_type": "code",
   "execution_count": 1,
   "id": "64ef8698-3abf-4d58-8de3-04f1952c3536",
   "metadata": {},
   "outputs": [
    {
     "data": {
      "text/plain": [
       "[0, 1, 4, 9, 16, 25, 36, 49, 64, 81]"
      ]
     },
     "execution_count": 1,
     "metadata": {},
     "output_type": "execute_result"
    }
   ],
   "source": [
    "# Just mapping (no filtering).\n",
    "[x**2 for x in range(10)]"
   ]
  },
  {
   "cell_type": "code",
   "execution_count": 2,
   "id": "2d183ecf-674d-4ffe-aee3-966dfc5907b8",
   "metadata": {},
   "outputs": [
    {
     "data": {
      "text/plain": [
       "[1, 4, 16, 25, 49, 64]"
      ]
     },
     "execution_count": 2,
     "metadata": {},
     "output_type": "execute_result"
    }
   ],
   "source": [
    "# Mapping and filtering.\n",
    "[x**2 for x in range(10) if x % 3 != 0]"
   ]
  },
  {
   "cell_type": "code",
   "execution_count": 3,
   "id": "baddd962-65b5-4944-96e0-213750d4c5bf",
   "metadata": {},
   "outputs": [
    {
     "data": {
      "text/plain": [
       "[1, 2, 4, 5, 7, 8]"
      ]
     },
     "execution_count": 3,
     "metadata": {},
     "output_type": "execute_result"
    }
   ],
   "source": [
    "# Filtering. (Technically also mapping.)\n",
    "[x for x in range(10) if x % 3 != 0]"
   ]
  },
  {
   "cell_type": "code",
   "execution_count": 4,
   "id": "5b7a5d3d-c5e1-443b-a773-94dd304b38eb",
   "metadata": {},
   "outputs": [],
   "source": [
    "s = ['hello', 'my', 'name', 'is', 'David', 'Vassallo']"
   ]
  },
  {
   "cell_type": "code",
   "execution_count": 5,
   "id": "63cdbb90-06da-45ad-864b-256f3c7212ae",
   "metadata": {},
   "outputs": [
    {
     "data": {
      "text/plain": [
       "['hello', 'my', 'name', 'is']"
      ]
     },
     "execution_count": 5,
     "metadata": {},
     "output_type": "execute_result"
    }
   ],
   "source": [
    "# A list of the all-lowercase words in s.\n",
    "# Only filters.\n",
    "[word for word in s if word.islower()]"
   ]
  },
  {
   "cell_type": "code",
   "execution_count": 6,
   "id": "9ed1b00f-b561-4861-87cf-704fb14842f2",
   "metadata": {},
   "outputs": [
    {
     "data": {
      "text/plain": [
       "[5, 2, 4, 2, 5, 8]"
      ]
     },
     "execution_count": 6,
     "metadata": {},
     "output_type": "execute_result"
    }
   ],
   "source": [
    "# A list of the lengths of all the words in s.\n",
    "# Only maps.\n",
    "[len(word) for word in s]"
   ]
  },
  {
   "cell_type": "code",
   "execution_count": 7,
   "id": "c23a5a15-2ce7-4cc4-b5af-6d050a85ef0f",
   "metadata": {},
   "outputs": [
    {
     "data": {
      "text/plain": [
       "[5, 2, 4, 2]"
      ]
     },
     "execution_count": 7,
     "metadata": {},
     "output_type": "execute_result"
    }
   ],
   "source": [
    "# A list of the lengths of the all-lowercase words in s\n",
    "# Maps and filters. \n",
    "[len(word) for word in s if word.islower()]"
   ]
  },
  {
   "cell_type": "code",
   "execution_count": 8,
   "id": "729a2867-a238-431e-8712-0ddd1fa29660",
   "metadata": {},
   "outputs": [
    {
     "data": {
      "text/plain": [
       "[5, 2, 4, 2]"
      ]
     },
     "execution_count": 8,
     "metadata": {},
     "output_type": "execute_result"
    }
   ],
   "source": [
    "# A list of the lengths of the all-lowercase words in s, using map and filter.\n",
    "# This does not use any comprehensions of any kind.\n",
    "list(map(len, filter(str.islower, s)))"
   ]
  },
  {
   "cell_type": "code",
   "execution_count": 9,
   "id": "a99a680f-39fd-456a-894b-d37113acaee5",
   "metadata": {},
   "outputs": [],
   "source": [
    "# Use LBYL to show that map and filter are iterator types.\n",
    "# Then likewise show, with instances of them, that they are iterator objects.\n",
    "from collections.abc import Iterator, Mapping"
   ]
  },
  {
   "cell_type": "code",
   "execution_count": 10,
   "id": "8b8dd207-f389-46d8-b57b-37fc01370e29",
   "metadata": {},
   "outputs": [
    {
     "data": {
      "text/plain": [
       "True"
      ]
     },
     "execution_count": 10,
     "metadata": {},
     "output_type": "execute_result"
    }
   ],
   "source": [
    "issubclass(map, Iterator)"
   ]
  },
  {
   "cell_type": "code",
   "execution_count": 11,
   "id": "4f1bdc36-d68b-42dc-b06b-3c369fda8b47",
   "metadata": {},
   "outputs": [
    {
     "data": {
      "text/plain": [
       "True"
      ]
     },
     "execution_count": 11,
     "metadata": {},
     "output_type": "execute_result"
    }
   ],
   "source": [
    "issubclass(filter, Iterator)"
   ]
  },
  {
   "cell_type": "code",
   "execution_count": 12,
   "id": "532b7e5e-2929-465f-829d-32dcb917fd66",
   "metadata": {},
   "outputs": [
    {
     "data": {
      "text/plain": [
       "True"
      ]
     },
     "execution_count": 12,
     "metadata": {},
     "output_type": "execute_result"
    }
   ],
   "source": [
    "isinstance(map(len, s), Iterator)"
   ]
  },
  {
   "cell_type": "code",
   "execution_count": 13,
   "id": "cb9c78bc-a8ea-47ca-83af-667058bc0870",
   "metadata": {},
   "outputs": [
    {
     "data": {
      "text/plain": [
       "True"
      ]
     },
     "execution_count": 13,
     "metadata": {},
     "output_type": "execute_result"
    }
   ],
   "source": [
    "isinstance(filter(str.islower, s), Iterator)"
   ]
  },
  {
   "cell_type": "code",
   "execution_count": 14,
   "id": "fcbfffe2-09fa-427a-b9d8-75464a2366f3",
   "metadata": {},
   "outputs": [
    {
     "data": {
      "text/plain": [
       "False"
      ]
     },
     "execution_count": 14,
     "metadata": {},
     "output_type": "execute_result"
    }
   ],
   "source": [
    "# The builtin map type should not be confused with mappings (i.e., dict-like objects).\n",
    "# Show with LBYL that map is not a mapping type.\n",
    "issubclass(map, Mapping)"
   ]
  },
  {
   "cell_type": "markdown",
   "id": "e126ad68",
   "metadata": {},
   "source": [
    "**Tip 1:** Iterators are iterable. That is, you can call `next` on iterators, but you can also call `iter` on an iterator, which gives you back an equivalent iterator, almost always the very same iterator object."
   ]
  },
  {
   "cell_type": "markdown",
   "id": "0b538873",
   "metadata": {},
   "source": [
    "**Tip 2:** Do not confuse callables with iterators. A callable gives a value when called; an iterator gives a value when passed to `next`."
   ]
  },
  {
   "cell_type": "markdown",
   "id": "b9b974a8",
   "metadata": {},
   "source": [
    "**Tip 3:** Strongly prefer high-level constructs like `for` over explicitly calling `iter` or `next`.\n",
    "\n",
    "It is fairly rare to call `next` outside of code that performs general iterator operations such as those performed by the code in `itertools`.\n",
    "\n",
    "You shouldn't be afraid to use the `iter` and `next` builtin (in any context). But every time you use them, you should be able to clearly articulate why you need or want to use them instead of higher level constructs like `for`."
   ]
  },
  {
   "cell_type": "markdown",
   "id": "21da5da6-bdf8-4f07-a4c3-d109032127f1",
   "metadata": {},
   "source": [
    "**Tip 4:** Anytime you write something like:\n",
    "\n",
    "```python\n",
    "(x for x in some_expression)\n",
    "```\n",
    "\n",
    "Or:\n",
    "\n",
    "```python\n",
    "((x, y) for x, y in some_expression)\n",
    "```\n",
    "\n",
    "Make sure you understand why you are writing that instead of just:\n",
    "\n",
    "```python\n",
    "some_expression\n",
    "```\n",
    "\n",
    "Only in rare cases should you write comprehensions of that form."
   ]
  },
  {
   "cell_type": "markdown",
   "id": "0a622963",
   "metadata": {},
   "source": [
    "**Tip 5:** Remember the `sum` builtin."
   ]
  },
  {
   "cell_type": "markdown",
   "id": "2a1597e3",
   "metadata": {},
   "source": [
    "**Tip 6:** Materialize an iterable when *both*:\n",
    "\n",
    "1. it might be consumed by iteration (in almost all cases, this is when it's an iterator) *and*\n",
    "\n",
    "2. you need, or may need, to iterate through its values multiple times.\n",
    "\n",
    "You should not usually perform materialization unless both of these conditions hold.\n",
    "\n",
    "Note also that `a = list(b)` and `a = tuple(b)` materialize `b`, but `a = b` does not, because assignment just copies a reference. There is no situation in which running `a = b` and then iterating through `a` behaves any differently from just iterating through `b`.\n",
    "\n"
   ]
  },
  {
   "cell_type": "markdown",
   "id": "b6898b02",
   "metadata": {},
   "source": [
    "## `finally` blocks in generators"
   ]
  },
  {
   "cell_type": "code",
   "execution_count": 15,
   "id": "bbbf412c-179f-4d7c-b8d5-74f030ef78ac",
   "metadata": {},
   "outputs": [],
   "source": [
    "def gen(): \n",
    "    try: \n",
    "        yield 1\n",
    "        yield 2\n",
    "        yield 3\n",
    "    finally: \n",
    "        print('Done.')"
   ]
  },
  {
   "cell_type": "code",
   "execution_count": 16,
   "id": "9f6a5a1b-1816-4755-9093-bea5fd711973",
   "metadata": {},
   "outputs": [
    {
     "name": "stdout",
     "output_type": "stream",
     "text": [
      "Done.\n"
     ]
    },
    {
     "data": {
      "text/plain": [
       "[1, 2, 3]"
      ]
     },
     "execution_count": 16,
     "metadata": {},
     "output_type": "execute_result"
    }
   ],
   "source": [
    "[x for x in gen()] # don't do this"
   ]
  },
  {
   "cell_type": "code",
   "execution_count": 17,
   "id": "6b3a685a-f0ef-4e83-bff3-7f1d36605cbd",
   "metadata": {},
   "outputs": [
    {
     "name": "stdout",
     "output_type": "stream",
     "text": [
      "Done.\n"
     ]
    },
    {
     "data": {
      "text/plain": [
       "[1, 2, 3]"
      ]
     },
     "execution_count": 17,
     "metadata": {},
     "output_type": "execute_result"
    }
   ],
   "source": [
    "list(gen()) # do this instead"
   ]
  },
  {
   "cell_type": "code",
   "execution_count": 18,
   "id": "ee9f85c9-3b87-4826-a139-37d05a3b3e92",
   "metadata": {},
   "outputs": [],
   "source": [
    "def f(): \n",
    "    gen()"
   ]
  },
  {
   "cell_type": "code",
   "execution_count": 19,
   "id": "67f33853-825b-47b6-ab5f-9eddb2e4415f",
   "metadata": {},
   "outputs": [],
   "source": [
    "f()"
   ]
  },
  {
   "cell_type": "code",
   "execution_count": 20,
   "id": "7e54ac07-84da-4335-a997-2eba8ea4710e",
   "metadata": {},
   "outputs": [],
   "source": [
    "def f2(): \n",
    "    g = gen()\n",
    "    return next(g)"
   ]
  },
  {
   "cell_type": "code",
   "execution_count": 21,
   "id": "feb2fd12-b068-415f-8b48-8d8d8aaa892a",
   "metadata": {},
   "outputs": [
    {
     "name": "stdout",
     "output_type": "stream",
     "text": [
      "Done.\n"
     ]
    },
    {
     "data": {
      "text/plain": [
       "1"
      ]
     },
     "execution_count": 21,
     "metadata": {},
     "output_type": "execute_result"
    }
   ],
   "source": [
    "f2()"
   ]
  },
  {
   "cell_type": "markdown",
   "id": "47765f5b-897d-42d9-a0a3-7ac28fc3ea91",
   "metadata": {},
   "source": [
    "## `GeneratorExit` is raised when destroying suspended generators"
   ]
  },
  {
   "cell_type": "code",
   "execution_count": 22,
   "id": "bbe5e059-3b0c-417c-abf0-a50446815886",
   "metadata": {},
   "outputs": [
    {
     "name": "stdout",
     "output_type": "stream",
     "text": [
      "Request that a generator exit.\n"
     ]
    }
   ],
   "source": [
    "print(GeneratorExit.__doc__)"
   ]
  },
  {
   "cell_type": "code",
   "execution_count": 23,
   "id": "34508957-a11f-4f76-888b-d577709f36d0",
   "metadata": {},
   "outputs": [
    {
     "data": {
      "text/plain": [
       "(BaseException,)"
      ]
     },
     "execution_count": 23,
     "metadata": {},
     "output_type": "execute_result"
    }
   ],
   "source": [
    "GeneratorExit.__bases__"
   ]
  },
  {
   "cell_type": "code",
   "execution_count": 24,
   "id": "9087951f-e4a3-4e0b-853e-43984b9fb84d",
   "metadata": {},
   "outputs": [
    {
     "data": {
      "text/plain": [
       "(Exception,)"
      ]
     },
     "execution_count": 24,
     "metadata": {},
     "output_type": "execute_result"
    }
   ],
   "source": [
    "ValueError.__bases__"
   ]
  },
  {
   "cell_type": "code",
   "execution_count": 25,
   "id": "73a6c47f-b068-42a6-b42f-0344760d436c",
   "metadata": {},
   "outputs": [
    {
     "data": {
      "text/plain": [
       "(Exception,)"
      ]
     },
     "execution_count": 25,
     "metadata": {},
     "output_type": "execute_result"
    }
   ],
   "source": [
    "TypeError.__bases__"
   ]
  },
  {
   "cell_type": "code",
   "execution_count": 26,
   "id": "8976d5e9-e1c3-418a-876b-110d50d1a7ac",
   "metadata": {},
   "outputs": [
    {
     "data": {
      "text/plain": [
       "(Exception,)"
      ]
     },
     "execution_count": 26,
     "metadata": {},
     "output_type": "execute_result"
    }
   ],
   "source": [
    "StopIteration.__bases__"
   ]
  },
  {
   "cell_type": "code",
   "execution_count": 27,
   "id": "766efff0-416c-42f4-ad29-c40ba4cd7ebe",
   "metadata": {},
   "outputs": [
    {
     "data": {
      "text/plain": [
       "(BaseException,)"
      ]
     },
     "execution_count": 27,
     "metadata": {},
     "output_type": "execute_result"
    }
   ],
   "source": [
    "SystemExit.__bases__"
   ]
  },
  {
   "cell_type": "code",
   "execution_count": 28,
   "id": "25f2cdfc-f7e0-4efe-a74f-ca8d44efbbba",
   "metadata": {},
   "outputs": [
    {
     "data": {
      "text/plain": [
       "(BaseException,)"
      ]
     },
     "execution_count": 28,
     "metadata": {},
     "output_type": "execute_result"
    }
   ],
   "source": [
    "Exception.__bases__"
   ]
  },
  {
   "cell_type": "code",
   "execution_count": 29,
   "id": "572d44f6-3ce2-4191-a170-ab69e5704b7e",
   "metadata": {},
   "outputs": [],
   "source": [
    "def gen2(): \n",
    "    try: \n",
    "        yield 1\n",
    "        yield 2\n",
    "        yield 3\n",
    "    except GeneratorExit: \n",
    "        print('Interrupted.')\n",
    "    finally: \n",
    "        print('Done.')"
   ]
  },
  {
   "cell_type": "code",
   "execution_count": 30,
   "id": "45288992-400e-473f-bc7d-12b75f8733c6",
   "metadata": {},
   "outputs": [
    {
     "name": "stdout",
     "output_type": "stream",
     "text": [
      "Done.\n"
     ]
    },
    {
     "data": {
      "text/plain": [
       "[1, 2, 3]"
      ]
     },
     "execution_count": 30,
     "metadata": {},
     "output_type": "execute_result"
    }
   ],
   "source": [
    "list(gen2())"
   ]
  },
  {
   "cell_type": "code",
   "execution_count": 31,
   "id": "1f47abbb-5724-4bc4-baab-3ad2eec2511b",
   "metadata": {},
   "outputs": [],
   "source": [
    "def f3(): \n",
    "    g = gen2()\n",
    "    return next(g)"
   ]
  },
  {
   "cell_type": "code",
   "execution_count": 32,
   "id": "e5ab8bcd-942b-4016-89a5-73d5de4cd645",
   "metadata": {},
   "outputs": [
    {
     "name": "stdout",
     "output_type": "stream",
     "text": [
      "Interrupted.\n",
      "Done.\n"
     ]
    },
    {
     "data": {
      "text/plain": [
       "1"
      ]
     },
     "execution_count": 32,
     "metadata": {},
     "output_type": "execute_result"
    }
   ],
   "source": [
    "f3()"
   ]
  },
  {
   "cell_type": "markdown",
   "id": "9658fb7b-2f3b-4596-9260-1decaaff9cc7",
   "metadata": {},
   "source": [
    "## It is an error to yield after `GeneratorExit`"
   ]
  },
  {
   "cell_type": "code",
   "execution_count": 33,
   "id": "0b0b8505-3068-4d9b-a6e3-bd84e5c266ca",
   "metadata": {},
   "outputs": [],
   "source": [
    "def gen_bad(): \n",
    "    try: \n",
    "        yield 1\n",
    "        yield 2\n",
    "        yield 3\n",
    "    except GeneratorExit: \n",
    "        print('Interrupted.')\n",
    "        yield 4\n",
    "    finally: \n",
    "        print('Done.')"
   ]
  },
  {
   "cell_type": "code",
   "execution_count": 34,
   "id": "6ecafde5-e0c3-4e4d-8933-f0b4d1561270",
   "metadata": {},
   "outputs": [],
   "source": [
    "def f4(): \n",
    "    g = gen_bad()\n",
    "    return next(g)"
   ]
  },
  {
   "cell_type": "code",
   "execution_count": 35,
   "id": "b5d74dc9-8f43-40f6-a148-9166f9d89b67",
   "metadata": {},
   "outputs": [
    {
     "name": "stderr",
     "output_type": "stream",
     "text": [
      "Exception ignored in: <generator object gen_bad at 0x000001A2907AF6F0>\n",
      "Traceback (most recent call last):\n",
      "  File \"C:\\Users\\User\\AppData\\Local\\Temp\\ipykernel_23168\\1205670228.py\", line 1, in <cell line: 1>\n",
      "RuntimeError: generator ignored GeneratorExit\n"
     ]
    },
    {
     "name": "stdout",
     "output_type": "stream",
     "text": [
      "Interrupted.\n"
     ]
    },
    {
     "data": {
      "text/plain": [
       "1"
      ]
     },
     "execution_count": 35,
     "metadata": {},
     "output_type": "execute_result"
    }
   ],
   "source": [
    "f4()"
   ]
  },
  {
   "cell_type": "code",
   "execution_count": 36,
   "id": "21a5de4c-dabd-4e94-b89f-84ac2a543cda",
   "metadata": {},
   "outputs": [],
   "source": [
    "# s = [1]\n",
    "# s.append(s)"
   ]
  },
  {
   "cell_type": "markdown",
   "id": "c46e1a42-4ca9-4ce3-b2cb-7f7194d620aa",
   "metadata": {},
   "source": [
    "## Generator objects with reference cycles"
   ]
  },
  {
   "cell_type": "code",
   "execution_count": 37,
   "id": "91b6a856-7076-4439-9208-80b8764cf639",
   "metadata": {},
   "outputs": [],
   "source": [
    "def gen_rcycle():     \n",
    "    try: \n",
    "        s = [1]\n",
    "        yield s\n",
    "    finally: \n",
    "        print('Done')"
   ]
  },
  {
   "cell_type": "code",
   "execution_count": 38,
   "id": "504a622d-4b14-467b-8500-ba9c5b7c7f9a",
   "metadata": {},
   "outputs": [],
   "source": [
    "def do_stuff(): \n",
    "    ob = gen_rcycle() \n",
    "    next(ob).append(ob)"
   ]
  },
  {
   "cell_type": "code",
   "execution_count": 39,
   "id": "5c1aae93-45d9-46c8-bde4-e06770519f18",
   "metadata": {},
   "outputs": [],
   "source": [
    "do_stuff()"
   ]
  },
  {
   "cell_type": "code",
   "execution_count": 40,
   "id": "2a7c5a2d-c39b-4bc2-a886-3b23d5fd1c5e",
   "metadata": {},
   "outputs": [],
   "source": [
    "import gc"
   ]
  },
  {
   "cell_type": "code",
   "execution_count": 41,
   "id": "f931a18d-6f38-41fb-928a-d35f81be6499",
   "metadata": {},
   "outputs": [
    {
     "name": "stdout",
     "output_type": "stream",
     "text": [
      "Done\n"
     ]
    },
    {
     "data": {
      "text/plain": [
       "235"
      ]
     },
     "execution_count": 41,
     "metadata": {},
     "output_type": "execute_result"
    }
   ],
   "source": [
    "gc.collect()"
   ]
  },
  {
   "cell_type": "markdown",
   "id": "3482e206-ebc7-4943-abb1-8ad27e330d37",
   "metadata": {},
   "source": [
    "## Generator objects are not context managers"
   ]
  },
  {
   "cell_type": "code",
   "execution_count": 42,
   "id": "6abb09dc-207c-4a14-bac2-497748375592",
   "metadata": {},
   "outputs": [],
   "source": [
    "def do_more_stuff(): \n",
    "    ob = gen_rcycle() \n",
    "    next(ob).append(ob)\n",
    "    return ob"
   ]
  },
  {
   "cell_type": "code",
   "execution_count": 54,
   "id": "f45cc69d-8668-49f5-b755-4314b7ac0c61",
   "metadata": {
    "tags": [
     "raises-exception"
    ]
   },
   "outputs": [
    {
     "name": "stdout",
     "output_type": "stream",
     "text": [
      "Done\n",
      "Done\n"
     ]
    },
    {
     "ename": "AttributeError",
     "evalue": "__enter__",
     "output_type": "error",
     "traceback": [
      "\u001b[1;31m---------------------------------------------------------------------------\u001b[0m",
      "\u001b[1;31mAttributeError\u001b[0m                            Traceback (most recent call last)",
      "Input \u001b[1;32mIn [54]\u001b[0m, in \u001b[0;36m<cell line: 1>\u001b[1;34m()\u001b[0m\n\u001b[1;32m----> 1\u001b[0m \u001b[38;5;28;01mwith\u001b[39;00m do_more_stuff(): \n\u001b[0;32m      2\u001b[0m     \u001b[38;5;28mprint\u001b[39m(\u001b[38;5;124m'\u001b[39m\u001b[38;5;124mUse resource acquired\u001b[39m\u001b[38;5;124m'\u001b[39m)\n",
      "\u001b[1;31mAttributeError\u001b[0m: __enter__"
     ]
    }
   ],
   "source": [
    "with do_more_stuff(): \n",
    "    print('Use resource acquired')"
   ]
  },
  {
   "cell_type": "code",
   "execution_count": 44,
   "id": "7f1f29f8-44a4-4288-8a33-9b2a7f1f1ea4",
   "metadata": {},
   "outputs": [
    {
     "data": {
      "text/plain": [
       "465"
      ]
     },
     "execution_count": 44,
     "metadata": {},
     "output_type": "execute_result"
    }
   ],
   "source": [
    "gc.collect()"
   ]
  },
  {
   "cell_type": "markdown",
   "id": "1c02d15a-f125-4cb1-a80f-c382931488fd",
   "metadata": {},
   "source": [
    "## Generator objects do have a `close` method"
   ]
  },
  {
   "cell_type": "code",
   "execution_count": 45,
   "id": "1f6ca461-0f4d-42a8-af42-d868d792b475",
   "metadata": {},
   "outputs": [],
   "source": [
    "ob1 = do_more_stuff()"
   ]
  },
  {
   "cell_type": "code",
   "execution_count": 46,
   "id": "84f6fcab-b31a-420c-8c23-2a87ea52b300",
   "metadata": {},
   "outputs": [
    {
     "data": {
      "text/plain": [
       "generator"
      ]
     },
     "execution_count": 46,
     "metadata": {},
     "output_type": "execute_result"
    }
   ],
   "source": [
    "type(ob1)"
   ]
  },
  {
   "cell_type": "code",
   "execution_count": 48,
   "id": "725ac49e-84c7-4e40-bf44-215ffc6a84f7",
   "metadata": {},
   "outputs": [
    {
     "data": {
      "text/plain": [
       "['__class__',\n",
       " '__del__',\n",
       " '__delattr__',\n",
       " '__dir__',\n",
       " '__doc__',\n",
       " '__eq__',\n",
       " '__format__',\n",
       " '__ge__',\n",
       " '__getattribute__',\n",
       " '__gt__',\n",
       " '__hash__',\n",
       " '__init__',\n",
       " '__init_subclass__',\n",
       " '__iter__',\n",
       " '__le__',\n",
       " '__lt__',\n",
       " '__name__',\n",
       " '__ne__',\n",
       " '__new__',\n",
       " '__next__',\n",
       " '__qualname__',\n",
       " '__reduce__',\n",
       " '__reduce_ex__',\n",
       " '__repr__',\n",
       " '__setattr__',\n",
       " '__sizeof__',\n",
       " '__str__',\n",
       " '__subclasshook__',\n",
       " 'close',\n",
       " 'gi_code',\n",
       " 'gi_frame',\n",
       " 'gi_running',\n",
       " 'gi_yieldfrom',\n",
       " 'send',\n",
       " 'throw']"
      ]
     },
     "execution_count": 48,
     "metadata": {},
     "output_type": "execute_result"
    }
   ],
   "source": [
    "dir(ob1)"
   ]
  },
  {
   "cell_type": "code",
   "execution_count": 49,
   "id": "e226d4f3-56e9-4b08-afb8-ded7ffb14b07",
   "metadata": {},
   "outputs": [
    {
     "name": "stdout",
     "output_type": "stream",
     "text": [
      "Help on built-in function close:\n",
      "\n",
      "close(...) method of builtins.generator instance\n",
      "    close() -> raise GeneratorExit inside generator.\n",
      "\n"
     ]
    }
   ],
   "source": [
    "help(ob1.close)"
   ]
  },
  {
   "cell_type": "code",
   "execution_count": 53,
   "id": "61fa95ff-0a4c-4ea0-8c7b-3ab27b76651b",
   "metadata": {},
   "outputs": [
    {
     "name": "stdout",
     "output_type": "stream",
     "text": [
      "If I use ob1, I would use it here\n",
      "Done\n"
     ]
    }
   ],
   "source": [
    "ob1 = do_more_stuff()\n",
    "try: \n",
    "    print('If I use ob1, I would use it here')\n",
    "finally: \n",
    "    ob1.close()"
   ]
  },
  {
   "cell_type": "code",
   "execution_count": 55,
   "id": "c996b01d-4c6c-4a5d-9fcf-4c6f7c55aee7",
   "metadata": {},
   "outputs": [],
   "source": [
    "import contextlib"
   ]
  },
  {
   "cell_type": "code",
   "execution_count": 56,
   "id": "dab262a2-e15b-4b04-a030-723f012f04fc",
   "metadata": {},
   "outputs": [
    {
     "name": "stdout",
     "output_type": "stream",
     "text": [
      "Use resource acquired\n",
      "Done\n"
     ]
    }
   ],
   "source": [
    "with contextlib.closing(do_more_stuff()): \n",
    "    print('Use resource acquired')"
   ]
  },
  {
   "cell_type": "markdown",
   "id": "6e5c5bdd-68a5-4275-9e10-30d3de4cadf5",
   "metadata": {},
   "source": [
    "**TODO:** Examine materialization and acquision/release in `itertools.tee`."
   ]
  },
  {
   "cell_type": "markdown",
   "id": "78a10d01-f3af-425f-84a9-0a9060f2fc3d",
   "metadata": {},
   "source": [
    "## Review of materialization"
   ]
  },
  {
   "cell_type": "code",
   "execution_count": 57,
   "id": "af496167-b0c6-48e3-9ad8-fbfc8e5ce650",
   "metadata": {},
   "outputs": [],
   "source": [
    "def product_three(one, two, three): \n",
    "    my_one = list(one)\n",
    "    my_two = list(two)\n",
    "    my_three = list(three)\n",
    "    return ((x, y, z) for x in my_one for y in my_two for z in my_three)"
   ]
  },
  {
   "cell_type": "code",
   "execution_count": 58,
   "id": "7c65c961-aee1-4484-a226-065e9c6024b9",
   "metadata": {},
   "outputs": [],
   "source": [
    "groups = product_three(['a', 'b', 'c'], (x for x in range(4)), (100, 200, 300))"
   ]
  },
  {
   "cell_type": "code",
   "execution_count": 59,
   "id": "24d951da-f836-4641-bddb-575a8c74a7f4",
   "metadata": {},
   "outputs": [
    {
     "data": {
      "text/plain": [
       "[('a', 0, 100),\n",
       " ('a', 0, 200),\n",
       " ('a', 0, 300),\n",
       " ('a', 1, 100),\n",
       " ('a', 1, 200),\n",
       " ('a', 1, 300),\n",
       " ('a', 2, 100),\n",
       " ('a', 2, 200),\n",
       " ('a', 2, 300),\n",
       " ('a', 3, 100),\n",
       " ('a', 3, 200),\n",
       " ('a', 3, 300),\n",
       " ('b', 0, 100),\n",
       " ('b', 0, 200),\n",
       " ('b', 0, 300),\n",
       " ('b', 1, 100),\n",
       " ('b', 1, 200),\n",
       " ('b', 1, 300),\n",
       " ('b', 2, 100),\n",
       " ('b', 2, 200),\n",
       " ('b', 2, 300),\n",
       " ('b', 3, 100),\n",
       " ('b', 3, 200),\n",
       " ('b', 3, 300),\n",
       " ('c', 0, 100),\n",
       " ('c', 0, 200),\n",
       " ('c', 0, 300),\n",
       " ('c', 1, 100),\n",
       " ('c', 1, 200),\n",
       " ('c', 1, 300),\n",
       " ('c', 2, 100),\n",
       " ('c', 2, 200),\n",
       " ('c', 2, 300),\n",
       " ('c', 3, 100),\n",
       " ('c', 3, 200),\n",
       " ('c', 3, 300)]"
      ]
     },
     "execution_count": 59,
     "metadata": {},
     "output_type": "execute_result"
    }
   ],
   "source": [
    "list(groups)"
   ]
  },
  {
   "cell_type": "code",
   "execution_count": null,
   "id": "14075506-994c-4b78-8c32-12084f31a994",
   "metadata": {},
   "outputs": [],
   "source": []
  }
 ],
 "metadata": {
  "kernelspec": {
   "display_name": "Python 3 (ipykernel)",
   "language": "python",
   "name": "python3"
  },
  "language_info": {
   "codemirror_mode": {
    "name": "ipython",
    "version": 3
   },
   "file_extension": ".py",
   "mimetype": "text/x-python",
   "name": "python",
   "nbconvert_exporter": "python",
   "pygments_lexer": "ipython3",
   "version": "3.10.5"
  }
 },
 "nbformat": 4,
 "nbformat_minor": 5
}
