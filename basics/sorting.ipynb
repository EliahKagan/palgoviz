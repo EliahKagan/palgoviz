{
 "cells": [
  {
   "cell_type": "code",
   "execution_count": 1,
   "id": "33390a7e-947c-4d89-9e4a-e508257a0201",
   "metadata": {},
   "outputs": [],
   "source": [
    "a = [1, 1.0, True]"
   ]
  },
  {
   "cell_type": "code",
   "execution_count": 2,
   "id": "34bbab1d-a07c-4b08-af96-e97c83fba104",
   "metadata": {},
   "outputs": [
    {
     "data": {
      "text/plain": [
       "[1, 1.0, True]"
      ]
     },
     "execution_count": 2,
     "metadata": {},
     "output_type": "execute_result"
    }
   ],
   "source": [
    "sorted(a)"
   ]
  },
  {
   "cell_type": "code",
   "execution_count": 3,
   "id": "7099875d-57be-41c2-b50a-ace29b460485",
   "metadata": {},
   "outputs": [],
   "source": [
    "s = [\"my\", \"very\", \"educated\", \"mother\", \"just\", \"served\"]"
   ]
  },
  {
   "cell_type": "code",
   "execution_count": 4,
   "id": "4e4d3b77-b163-4d65-95f7-9e667449f1a3",
   "metadata": {},
   "outputs": [],
   "source": [
    "s.sort()"
   ]
  },
  {
   "cell_type": "code",
   "execution_count": 5,
   "id": "bed162a9-a819-4e01-a72c-2ccd6ff7f2af",
   "metadata": {},
   "outputs": [
    {
     "data": {
      "text/plain": [
       "['educated', 'just', 'mother', 'my', 'served', 'very']"
      ]
     },
     "execution_count": 5,
     "metadata": {},
     "output_type": "execute_result"
    }
   ],
   "source": [
    "s"
   ]
  },
  {
   "cell_type": "code",
   "execution_count": 7,
   "id": "ac436f2c-f9ad-4e7e-82f6-51a0022627c7",
   "metadata": {},
   "outputs": [],
   "source": [
    "s.sort(key=len)"
   ]
  },
  {
   "cell_type": "code",
   "execution_count": 8,
   "id": "e1d54336-b368-453c-b18c-83c836f11556",
   "metadata": {},
   "outputs": [
    {
     "data": {
      "text/plain": [
       "['my', 'just', 'very', 'mother', 'served', 'educated']"
      ]
     },
     "execution_count": 8,
     "metadata": {},
     "output_type": "execute_result"
    }
   ],
   "source": [
    "s"
   ]
  },
  {
   "cell_type": "code",
   "execution_count": 9,
   "id": "bbf884cd-7af7-46eb-834c-4c24c614c134",
   "metadata": {},
   "outputs": [
    {
     "data": {
      "text/plain": [
       "True"
      ]
     },
     "execution_count": 9,
     "metadata": {},
     "output_type": "execute_result"
    }
   ],
   "source": [
    "[1, 1.0, True] == [1, True, 1.0]"
   ]
  },
  {
   "cell_type": "code",
   "execution_count": 10,
   "id": "989e9a84-b8b4-4933-b0e4-0dd2ed9fa326",
   "metadata": {},
   "outputs": [
    {
     "data": {
      "text/plain": [
       "True"
      ]
     },
     "execution_count": 10,
     "metadata": {},
     "output_type": "execute_result"
    }
   ],
   "source": [
    "1 == 1"
   ]
  },
  {
   "cell_type": "code",
   "execution_count": 11,
   "id": "c1d73d54-9619-42d2-b599-a94298b29882",
   "metadata": {},
   "outputs": [
    {
     "data": {
      "text/plain": [
       "True"
      ]
     },
     "execution_count": 11,
     "metadata": {},
     "output_type": "execute_result"
    }
   ],
   "source": [
    "1.0 == True"
   ]
  },
  {
   "cell_type": "code",
   "execution_count": 12,
   "id": "3bc9465e-9b15-438a-93ab-c1f9c8f50dd9",
   "metadata": {},
   "outputs": [
    {
     "data": {
      "text/plain": [
       "True"
      ]
     },
     "execution_count": 12,
     "metadata": {},
     "output_type": "execute_result"
    }
   ],
   "source": [
    "True == 1.0"
   ]
  },
  {
   "cell_type": "code",
   "execution_count": 13,
   "id": "95b648a1-828c-4d2f-bd2c-b357a65e9fd5",
   "metadata": {},
   "outputs": [
    {
     "data": {
      "text/plain": [
       "False"
      ]
     },
     "execution_count": 13,
     "metadata": {},
     "output_type": "execute_result"
    }
   ],
   "source": [
    "\"hi\" == \"no\""
   ]
  },
  {
   "cell_type": "code",
   "execution_count": 15,
   "id": "13253585-fce8-4e08-829f-a4c52b1a31fd",
   "metadata": {},
   "outputs": [],
   "source": [
    "from compare import Patient\n",
    "from simple import is_sorted"
   ]
  },
  {
   "cell_type": "code",
   "execution_count": 16,
   "id": "bc318cd4-873f-4555-95dc-b4bbf0ae57d4",
   "metadata": {},
   "outputs": [],
   "source": [
    "p = Patient('AB', 10)\n",
    "q = Patient('CD', 10)\n",
    "c = [p, q]\n",
    "d = [q, p]"
   ]
  },
  {
   "cell_type": "code",
   "execution_count": 17,
   "id": "a76685e6-9e23-4b72-93e1-ca4a3c06d8c5",
   "metadata": {},
   "outputs": [
    {
     "data": {
      "text/plain": [
       "False"
      ]
     },
     "execution_count": 17,
     "metadata": {},
     "output_type": "execute_result"
    }
   ],
   "source": [
    "c == d"
   ]
  },
  {
   "cell_type": "code",
   "execution_count": 18,
   "id": "a4cc18c8-c87c-46ef-bc9e-71ea5d2757be",
   "metadata": {},
   "outputs": [
    {
     "data": {
      "text/plain": [
       "False"
      ]
     },
     "execution_count": 18,
     "metadata": {},
     "output_type": "execute_result"
    }
   ],
   "source": [
    "sorted(c) == sorted(d)"
   ]
  },
  {
   "cell_type": "code",
   "execution_count": 19,
   "id": "1ab94856-32b7-4077-8423-8f27123baa2b",
   "metadata": {},
   "outputs": [
    {
     "data": {
      "text/plain": [
       "True"
      ]
     },
     "execution_count": 19,
     "metadata": {},
     "output_type": "execute_result"
    }
   ],
   "source": [
    "is_sorted(c)"
   ]
  },
  {
   "cell_type": "code",
   "execution_count": 20,
   "id": "e1f16276-c4f6-4ccc-973e-618f7743913c",
   "metadata": {},
   "outputs": [
    {
     "data": {
      "text/plain": [
       "True"
      ]
     },
     "execution_count": 20,
     "metadata": {},
     "output_type": "execute_result"
    }
   ],
   "source": [
    "is_sorted(d)"
   ]
  },
  {
   "cell_type": "code",
   "execution_count": null,
   "id": "bdc04b83-b236-45af-87e1-23a4251c90d4",
   "metadata": {},
   "outputs": [],
   "source": []
  }
 ],
 "metadata": {
  "kernelspec": {
   "display_name": "Python 3 (ipykernel)",
   "language": "python",
   "name": "python3"
  },
  "language_info": {
   "codemirror_mode": {
    "name": "ipython",
    "version": 3
   },
   "file_extension": ".py",
   "mimetype": "text/x-python",
   "name": "python",
   "nbconvert_exporter": "python",
   "pygments_lexer": "ipython3",
   "version": "3.10.4"
  }
 },
 "nbformat": 4,
 "nbformat_minor": 5
}
