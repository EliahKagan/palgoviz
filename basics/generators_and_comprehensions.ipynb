{
 "cells": [
  {
   "cell_type": "code",
   "execution_count": 1,
   "id": "8a0e6d0e-8e91-4225-98c6-4dfeef1f00e5",
   "metadata": {},
   "outputs": [],
   "source": [
    "a = list(range(4))"
   ]
  },
  {
   "cell_type": "code",
   "execution_count": 2,
   "id": "6ac9cddf-250a-49d2-bca0-3cb18418ad1c",
   "metadata": {},
   "outputs": [],
   "source": [
    "it = iter(a)"
   ]
  },
  {
   "cell_type": "code",
   "execution_count": 3,
   "id": "458904d8-288c-4b4c-a769-320c7f14e7d4",
   "metadata": {},
   "outputs": [
    {
     "data": {
      "text/plain": [
       "<list_iterator at 0x2307468b0a0>"
      ]
     },
     "execution_count": 3,
     "metadata": {},
     "output_type": "execute_result"
    }
   ],
   "source": [
    "it"
   ]
  },
  {
   "cell_type": "code",
   "execution_count": 4,
   "id": "52b06b6b-4c09-4ce9-8100-8a883a228a1b",
   "metadata": {},
   "outputs": [
    {
     "data": {
      "text/plain": [
       "list_iterator"
      ]
     },
     "execution_count": 4,
     "metadata": {},
     "output_type": "execute_result"
    }
   ],
   "source": [
    "type(it)"
   ]
  },
  {
   "cell_type": "code",
   "execution_count": 5,
   "id": "d8ad8732-24a0-4f71-b3f5-2c533cd12376",
   "metadata": {},
   "outputs": [
    {
     "data": {
      "text/plain": [
       "0"
      ]
     },
     "execution_count": 5,
     "metadata": {},
     "output_type": "execute_result"
    }
   ],
   "source": [
    "next(it)"
   ]
  },
  {
   "cell_type": "code",
   "execution_count": 6,
   "id": "95c59ab2-54b0-481d-8aef-2c18f47f0ea7",
   "metadata": {},
   "outputs": [
    {
     "data": {
      "text/plain": [
       "1"
      ]
     },
     "execution_count": 6,
     "metadata": {},
     "output_type": "execute_result"
    }
   ],
   "source": [
    "next(it)"
   ]
  },
  {
   "cell_type": "code",
   "execution_count": 7,
   "id": "eb9c665e-53fa-47c9-8ee6-ac24e91af9e6",
   "metadata": {},
   "outputs": [
    {
     "data": {
      "text/plain": [
       "2"
      ]
     },
     "execution_count": 7,
     "metadata": {},
     "output_type": "execute_result"
    }
   ],
   "source": [
    "next(it)"
   ]
  },
  {
   "cell_type": "code",
   "execution_count": 8,
   "id": "35a84433-a494-4bd7-b884-947fdfbd9c15",
   "metadata": {},
   "outputs": [
    {
     "data": {
      "text/plain": [
       "3"
      ]
     },
     "execution_count": 8,
     "metadata": {},
     "output_type": "execute_result"
    }
   ],
   "source": [
    "next(it)"
   ]
  },
  {
   "cell_type": "code",
   "execution_count": 9,
   "id": "e5635460-916d-4a0d-850a-90c4367a138e",
   "metadata": {},
   "outputs": [
    {
     "ename": "StopIteration",
     "evalue": "",
     "output_type": "error",
     "traceback": [
      "\u001b[1;31m---------------------------------------------------------------------------\u001b[0m",
      "\u001b[1;31mStopIteration\u001b[0m                             Traceback (most recent call last)",
      "Input \u001b[1;32mIn [9]\u001b[0m, in \u001b[0;36m<module>\u001b[1;34m\u001b[0m\n\u001b[1;32m----> 1\u001b[0m \u001b[38;5;28;43mnext\u001b[39;49m\u001b[43m(\u001b[49m\u001b[43mit\u001b[49m\u001b[43m)\u001b[49m\n",
      "\u001b[1;31mStopIteration\u001b[0m: "
     ]
    }
   ],
   "source": [
    "next(it)"
   ]
  },
  {
   "cell_type": "code",
   "execution_count": 13,
   "id": "47f25da2-1740-4d4f-b047-c57a75160b1b",
   "metadata": {},
   "outputs": [],
   "source": [
    "b = list(range(5))"
   ]
  },
  {
   "cell_type": "code",
   "execution_count": 14,
   "id": "35a436a5-502f-436b-bd5d-fa820fbab40e",
   "metadata": {},
   "outputs": [],
   "source": [
    "it2 = iter(b)"
   ]
  },
  {
   "cell_type": "code",
   "execution_count": 15,
   "id": "73c669f8-d2d8-4d9f-abec-3d9541ef7540",
   "metadata": {},
   "outputs": [
    {
     "data": {
      "text/plain": [
       "0"
      ]
     },
     "execution_count": 15,
     "metadata": {},
     "output_type": "execute_result"
    }
   ],
   "source": [
    "next(it2)"
   ]
  },
  {
   "cell_type": "code",
   "execution_count": 16,
   "id": "dd420a1d-b6fa-4d0e-9a60-6e82ccafeda8",
   "metadata": {},
   "outputs": [
    {
     "data": {
      "text/plain": [
       "1"
      ]
     },
     "execution_count": 16,
     "metadata": {},
     "output_type": "execute_result"
    }
   ],
   "source": [
    "next(it2)"
   ]
  },
  {
   "cell_type": "code",
   "execution_count": 18,
   "id": "07b515e8-0149-4960-b440-9f4969abadf4",
   "metadata": {},
   "outputs": [
    {
     "name": "stdout",
     "output_type": "stream",
     "text": [
      "2\n",
      "3\n",
      "4\n"
     ]
    }
   ],
   "source": [
    "for y in it2: \n",
    "    print(y)"
   ]
  },
  {
   "cell_type": "code",
   "execution_count": 21,
   "id": "6dd8c6d4-da82-4120-aa93-bcc14467b4ad",
   "metadata": {},
   "outputs": [],
   "source": [
    "def func():\n",
    "    yield 'foo'\n",
    "    yield 'bar'\n",
    "    yield 'baz'"
   ]
  },
  {
   "cell_type": "code",
   "execution_count": 22,
   "id": "e8ad0a76-03ee-4219-9584-b2bc74d348fe",
   "metadata": {},
   "outputs": [
    {
     "data": {
      "text/plain": [
       "<function __main__.func()>"
      ]
     },
     "execution_count": 22,
     "metadata": {},
     "output_type": "execute_result"
    }
   ],
   "source": [
    "func"
   ]
  },
  {
   "cell_type": "code",
   "execution_count": 23,
   "id": "e9cb35b5-0aab-4c64-9c35-28773ae5733b",
   "metadata": {},
   "outputs": [
    {
     "data": {
      "text/plain": [
       "<generator object func at 0x0000023076184CF0>"
      ]
     },
     "execution_count": 23,
     "metadata": {},
     "output_type": "execute_result"
    }
   ],
   "source": [
    "func()"
   ]
  },
  {
   "cell_type": "code",
   "execution_count": 24,
   "id": "fe03ff36-59b8-4965-9487-7541380c5af5",
   "metadata": {},
   "outputs": [],
   "source": [
    "funcit = func()"
   ]
  },
  {
   "cell_type": "code",
   "execution_count": 28,
   "id": "5d169e7b-52fd-4ce8-99f5-3148f6f09293",
   "metadata": {},
   "outputs": [
    {
     "ename": "StopIteration",
     "evalue": "",
     "output_type": "error",
     "traceback": [
      "\u001b[1;31m---------------------------------------------------------------------------\u001b[0m",
      "\u001b[1;31mStopIteration\u001b[0m                             Traceback (most recent call last)",
      "Input \u001b[1;32mIn [28]\u001b[0m, in \u001b[0;36m<module>\u001b[1;34m\u001b[0m\n\u001b[1;32m----> 1\u001b[0m \u001b[38;5;28;43mnext\u001b[39;49m\u001b[43m(\u001b[49m\u001b[43mfuncit\u001b[49m\u001b[43m)\u001b[49m\n",
      "\u001b[1;31mStopIteration\u001b[0m: "
     ]
    }
   ],
   "source": [
    "next(funcit)"
   ]
  },
  {
   "cell_type": "code",
   "execution_count": 29,
   "id": "8d921792-ddfd-4118-bd52-a84b12b4794e",
   "metadata": {},
   "outputs": [
    {
     "data": {
      "text/plain": [
       "[]"
      ]
     },
     "execution_count": 29,
     "metadata": {},
     "output_type": "execute_result"
    }
   ],
   "source": [
    "list(funcit)"
   ]
  },
  {
   "cell_type": "code",
   "execution_count": 30,
   "id": "8d77cc3d-c179-4111-9123-3007c86b3421",
   "metadata": {},
   "outputs": [
    {
     "data": {
      "text/plain": [
       "<generator object func at 0x0000023076185310>"
      ]
     },
     "execution_count": 30,
     "metadata": {},
     "output_type": "execute_result"
    }
   ],
   "source": [
    "func()"
   ]
  },
  {
   "cell_type": "code",
   "execution_count": 31,
   "id": "8c34ae9c-4921-4320-ae73-dd8b596aa7fe",
   "metadata": {},
   "outputs": [
    {
     "data": {
      "text/plain": [
       "['foo', 'bar', 'baz']"
      ]
     },
     "execution_count": 31,
     "metadata": {},
     "output_type": "execute_result"
    }
   ],
   "source": [
    "list(func())"
   ]
  },
  {
   "cell_type": "code",
   "execution_count": 32,
   "id": "551f5e9d-bfb1-44a5-a72c-4b0b5452c291",
   "metadata": {},
   "outputs": [],
   "source": [
    "a = func()\n",
    "b = func()"
   ]
  },
  {
   "cell_type": "code",
   "execution_count": 33,
   "id": "894bff26-fb12-4bb5-9030-ff3a8e5770f3",
   "metadata": {},
   "outputs": [
    {
     "data": {
      "text/plain": [
       "<generator object func at 0x00000230761854D0>"
      ]
     },
     "execution_count": 33,
     "metadata": {},
     "output_type": "execute_result"
    }
   ],
   "source": [
    "a"
   ]
  },
  {
   "cell_type": "code",
   "execution_count": 34,
   "id": "5aa23801-7dd1-4e8e-b8ba-0b6a8f78ab63",
   "metadata": {},
   "outputs": [
    {
     "data": {
      "text/plain": [
       "<generator object func at 0x0000023076185620>"
      ]
     },
     "execution_count": 34,
     "metadata": {},
     "output_type": "execute_result"
    }
   ],
   "source": [
    "b"
   ]
  },
  {
   "cell_type": "code",
   "execution_count": 35,
   "id": "111d5781-4550-494a-b9c1-6aeb308977d6",
   "metadata": {},
   "outputs": [
    {
     "data": {
      "text/plain": [
       "'foo'"
      ]
     },
     "execution_count": 35,
     "metadata": {},
     "output_type": "execute_result"
    }
   ],
   "source": [
    "next(a)"
   ]
  },
  {
   "cell_type": "code",
   "execution_count": 36,
   "id": "4b3dc52f-fa24-4cf8-a3a2-2dbbcbcf2e2b",
   "metadata": {},
   "outputs": [
    {
     "data": {
      "text/plain": [
       "'bar'"
      ]
     },
     "execution_count": 36,
     "metadata": {},
     "output_type": "execute_result"
    }
   ],
   "source": [
    "next(a)"
   ]
  },
  {
   "cell_type": "code",
   "execution_count": 37,
   "id": "6c7472be-1570-4b7d-a83d-34a1eb3031df",
   "metadata": {},
   "outputs": [
    {
     "data": {
      "text/plain": [
       "'foo'"
      ]
     },
     "execution_count": 37,
     "metadata": {},
     "output_type": "execute_result"
    }
   ],
   "source": [
    "next(b)"
   ]
  },
  {
   "cell_type": "code",
   "execution_count": 38,
   "id": "be751cfe-5859-45b8-b8d3-cf2d460fd8f7",
   "metadata": {},
   "outputs": [
    {
     "data": {
      "text/plain": [
       "150447686989"
      ]
     },
     "execution_count": 38,
     "metadata": {},
     "output_type": "execute_result"
    }
   ],
   "source": [
    "hash(a)"
   ]
  },
  {
   "cell_type": "code",
   "execution_count": 39,
   "id": "d0758795-3708-40bc-86f4-d8a7a7a2a77e",
   "metadata": {},
   "outputs": [],
   "source": [
    "def squares(values):\n",
    "    for value in values:\n",
    "        yield value ** 2"
   ]
  },
  {
   "cell_type": "code",
   "execution_count": 40,
   "id": "19c7ded6-5623-4407-a403-bfb407c79787",
   "metadata": {},
   "outputs": [],
   "source": [
    "values = [1, 2, 3]"
   ]
  },
  {
   "cell_type": "code",
   "execution_count": 41,
   "id": "611f3054-0fe4-4d24-9d1f-2df8e3a7b741",
   "metadata": {},
   "outputs": [],
   "source": [
    "it = squares(values)"
   ]
  },
  {
   "cell_type": "code",
   "execution_count": 42,
   "id": "594e46d1-58dc-45f4-baf7-edaf686dad97",
   "metadata": {},
   "outputs": [
    {
     "data": {
      "text/plain": [
       "<generator object squares at 0x0000023076185E70>"
      ]
     },
     "execution_count": 42,
     "metadata": {},
     "output_type": "execute_result"
    }
   ],
   "source": [
    "it"
   ]
  },
  {
   "cell_type": "code",
   "execution_count": 43,
   "id": "580d28f7-ccb0-4f9a-93b9-b76428cd2e3c",
   "metadata": {},
   "outputs": [
    {
     "data": {
      "text/plain": [
       "1"
      ]
     },
     "execution_count": 43,
     "metadata": {},
     "output_type": "execute_result"
    }
   ],
   "source": [
    "next(it)"
   ]
  },
  {
   "cell_type": "code",
   "execution_count": 44,
   "id": "813e010e-e0fb-4fe1-938d-05a755f36659",
   "metadata": {},
   "outputs": [
    {
     "data": {
      "text/plain": [
       "4"
      ]
     },
     "execution_count": 44,
     "metadata": {},
     "output_type": "execute_result"
    }
   ],
   "source": [
    "next(it)"
   ]
  },
  {
   "cell_type": "code",
   "execution_count": 45,
   "id": "121702ff-4060-4125-8d13-2df9e87b2844",
   "metadata": {},
   "outputs": [
    {
     "data": {
      "text/plain": [
       "9"
      ]
     },
     "execution_count": 45,
     "metadata": {},
     "output_type": "execute_result"
    }
   ],
   "source": [
    "next(it)"
   ]
  },
  {
   "cell_type": "code",
   "execution_count": 46,
   "id": "43562b23-7a3b-4451-a4b3-77b10e94507c",
   "metadata": {},
   "outputs": [
    {
     "name": "stdout",
     "output_type": "stream",
     "text": [
      "1\n",
      "4\n",
      "9\n"
     ]
    }
   ],
   "source": [
    "for x in squares(values):\n",
    "    print(x)"
   ]
  },
  {
   "cell_type": "code",
   "execution_count": 47,
   "id": "c84a11df-8bd8-4e4c-865f-42ff279c55a1",
   "metadata": {},
   "outputs": [
    {
     "data": {
      "text/plain": [
       "[1, 4, 9]"
      ]
     },
     "execution_count": 47,
     "metadata": {},
     "output_type": "execute_result"
    }
   ],
   "source": [
    "list(squares(values))"
   ]
  },
  {
   "cell_type": "code",
   "execution_count": null,
   "id": "f3d8c856-716c-44ef-9396-7b72586c4b22",
   "metadata": {},
   "outputs": [],
   "source": []
  }
 ],
 "metadata": {
  "kernelspec": {
   "display_name": "Python 3 (ipykernel)",
   "language": "python",
   "name": "python3"
  },
  "language_info": {
   "codemirror_mode": {
    "name": "ipython",
    "version": 3
   },
   "file_extension": ".py",
   "mimetype": "text/x-python",
   "name": "python",
   "nbconvert_exporter": "python",
   "pygments_lexer": "ipython3",
   "version": "3.10.2"
  }
 },
 "nbformat": 4,
 "nbformat_minor": 5
}
