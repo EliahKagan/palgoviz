{
 "cells": [
  {
   "cell_type": "code",
   "execution_count": 1,
   "id": "8a0e6d0e-8e91-4225-98c6-4dfeef1f00e5",
   "metadata": {},
   "outputs": [],
   "source": [
    "a = list(range(4))"
   ]
  },
  {
   "cell_type": "code",
   "execution_count": 178,
   "id": "6ac9cddf-250a-49d2-bca0-3cb18418ad1c",
   "metadata": {},
   "outputs": [],
   "source": [
    "it = iter(a)"
   ]
  },
  {
   "cell_type": "code",
   "execution_count": 3,
   "id": "458904d8-288c-4b4c-a769-320c7f14e7d4",
   "metadata": {},
   "outputs": [
    {
     "data": {
      "text/plain": [
       "<list_iterator at 0x1355652b580>"
      ]
     },
     "execution_count": 3,
     "metadata": {},
     "output_type": "execute_result"
    }
   ],
   "source": [
    "it"
   ]
  },
  {
   "cell_type": "code",
   "execution_count": 4,
   "id": "52b06b6b-4c09-4ce9-8100-8a883a228a1b",
   "metadata": {},
   "outputs": [
    {
     "data": {
      "text/plain": [
       "list_iterator"
      ]
     },
     "execution_count": 4,
     "metadata": {},
     "output_type": "execute_result"
    }
   ],
   "source": [
    "type(it)"
   ]
  },
  {
   "cell_type": "code",
   "execution_count": 5,
   "id": "d8ad8732-24a0-4f71-b3f5-2c533cd12376",
   "metadata": {},
   "outputs": [
    {
     "data": {
      "text/plain": [
       "0"
      ]
     },
     "execution_count": 5,
     "metadata": {},
     "output_type": "execute_result"
    }
   ],
   "source": [
    "next(it)"
   ]
  },
  {
   "cell_type": "code",
   "execution_count": 6,
   "id": "95c59ab2-54b0-481d-8aef-2c18f47f0ea7",
   "metadata": {},
   "outputs": [
    {
     "data": {
      "text/plain": [
       "1"
      ]
     },
     "execution_count": 6,
     "metadata": {},
     "output_type": "execute_result"
    }
   ],
   "source": [
    "next(it)"
   ]
  },
  {
   "cell_type": "code",
   "execution_count": 7,
   "id": "eb9c665e-53fa-47c9-8ee6-ac24e91af9e6",
   "metadata": {},
   "outputs": [
    {
     "data": {
      "text/plain": [
       "2"
      ]
     },
     "execution_count": 7,
     "metadata": {},
     "output_type": "execute_result"
    }
   ],
   "source": [
    "next(it)"
   ]
  },
  {
   "cell_type": "code",
   "execution_count": 8,
   "id": "35a84433-a494-4bd7-b884-947fdfbd9c15",
   "metadata": {},
   "outputs": [
    {
     "data": {
      "text/plain": [
       "3"
      ]
     },
     "execution_count": 8,
     "metadata": {},
     "output_type": "execute_result"
    }
   ],
   "source": [
    "next(it)"
   ]
  },
  {
   "cell_type": "code",
   "execution_count": 9,
   "id": "e5635460-916d-4a0d-850a-90c4367a138e",
   "metadata": {},
   "outputs": [
    {
     "name": "stdout",
     "output_type": "stream",
     "text": [
      "id(exception) = 1328592859296\n"
     ]
    }
   ],
   "source": [
    "try:\n",
    "    next(it)\n",
    "except StopIteration as exception:\n",
    "    print(f'{id(exception) = }')"
   ]
  },
  {
   "cell_type": "code",
   "execution_count": 10,
   "id": "47f25da2-1740-4d4f-b047-c57a75160b1b",
   "metadata": {},
   "outputs": [],
   "source": [
    "b = list(range(5))"
   ]
  },
  {
   "cell_type": "code",
   "execution_count": 11,
   "id": "35a436a5-502f-436b-bd5d-fa820fbab40e",
   "metadata": {},
   "outputs": [],
   "source": [
    "it2 = iter(b)"
   ]
  },
  {
   "cell_type": "code",
   "execution_count": 12,
   "id": "73c669f8-d2d8-4d9f-abec-3d9541ef7540",
   "metadata": {},
   "outputs": [
    {
     "data": {
      "text/plain": [
       "0"
      ]
     },
     "execution_count": 12,
     "metadata": {},
     "output_type": "execute_result"
    }
   ],
   "source": [
    "next(it2)"
   ]
  },
  {
   "cell_type": "code",
   "execution_count": 13,
   "id": "dd420a1d-b6fa-4d0e-9a60-6e82ccafeda8",
   "metadata": {},
   "outputs": [
    {
     "data": {
      "text/plain": [
       "1"
      ]
     },
     "execution_count": 13,
     "metadata": {},
     "output_type": "execute_result"
    }
   ],
   "source": [
    "next(it2)"
   ]
  },
  {
   "cell_type": "code",
   "execution_count": 14,
   "id": "07b515e8-0149-4960-b440-9f4969abadf4",
   "metadata": {},
   "outputs": [
    {
     "name": "stdout",
     "output_type": "stream",
     "text": [
      "2\n",
      "3\n",
      "4\n"
     ]
    }
   ],
   "source": [
    "for y in it2: \n",
    "    print(y)"
   ]
  },
  {
   "cell_type": "code",
   "execution_count": 15,
   "id": "6dd8c6d4-da82-4120-aa93-bcc14467b4ad",
   "metadata": {},
   "outputs": [],
   "source": [
    "def func():\n",
    "    yield 'foo'\n",
    "    yield 'bar'\n",
    "    yield 'baz'"
   ]
  },
  {
   "cell_type": "code",
   "execution_count": 16,
   "id": "e8ad0a76-03ee-4219-9584-b2bc74d348fe",
   "metadata": {},
   "outputs": [
    {
     "data": {
      "text/plain": [
       "<function __main__.func()>"
      ]
     },
     "execution_count": 16,
     "metadata": {},
     "output_type": "execute_result"
    }
   ],
   "source": [
    "func"
   ]
  },
  {
   "cell_type": "code",
   "execution_count": 17,
   "id": "e9cb35b5-0aab-4c64-9c35-28773ae5733b",
   "metadata": {},
   "outputs": [
    {
     "data": {
      "text/plain": [
       "<generator object func at 0x0000013556551620>"
      ]
     },
     "execution_count": 17,
     "metadata": {},
     "output_type": "execute_result"
    }
   ],
   "source": [
    "func()"
   ]
  },
  {
   "cell_type": "code",
   "execution_count": 18,
   "id": "fe03ff36-59b8-4965-9487-7541380c5af5",
   "metadata": {},
   "outputs": [],
   "source": [
    "funcit = func()"
   ]
  },
  {
   "cell_type": "code",
   "execution_count": 19,
   "id": "5d169e7b-52fd-4ce8-99f5-3148f6f09293",
   "metadata": {},
   "outputs": [
    {
     "data": {
      "text/plain": [
       "'foo'"
      ]
     },
     "execution_count": 19,
     "metadata": {},
     "output_type": "execute_result"
    }
   ],
   "source": [
    "next(funcit)"
   ]
  },
  {
   "cell_type": "code",
   "execution_count": 20,
   "id": "8d921792-ddfd-4118-bd52-a84b12b4794e",
   "metadata": {},
   "outputs": [
    {
     "data": {
      "text/plain": [
       "['bar', 'baz']"
      ]
     },
     "execution_count": 20,
     "metadata": {},
     "output_type": "execute_result"
    }
   ],
   "source": [
    "list(funcit)"
   ]
  },
  {
   "cell_type": "code",
   "execution_count": 21,
   "id": "8d77cc3d-c179-4111-9123-3007c86b3421",
   "metadata": {},
   "outputs": [
    {
     "data": {
      "text/plain": [
       "<generator object func at 0x0000013556551AF0>"
      ]
     },
     "execution_count": 21,
     "metadata": {},
     "output_type": "execute_result"
    }
   ],
   "source": [
    "func()"
   ]
  },
  {
   "cell_type": "code",
   "execution_count": 22,
   "id": "8c34ae9c-4921-4320-ae73-dd8b596aa7fe",
   "metadata": {},
   "outputs": [
    {
     "data": {
      "text/plain": [
       "['foo', 'bar', 'baz']"
      ]
     },
     "execution_count": 22,
     "metadata": {},
     "output_type": "execute_result"
    }
   ],
   "source": [
    "list(func())"
   ]
  },
  {
   "cell_type": "code",
   "execution_count": 23,
   "id": "551f5e9d-bfb1-44a5-a72c-4b0b5452c291",
   "metadata": {},
   "outputs": [],
   "source": [
    "a = func()\n",
    "b = func()"
   ]
  },
  {
   "cell_type": "code",
   "execution_count": 24,
   "id": "894bff26-fb12-4bb5-9030-ff3a8e5770f3",
   "metadata": {},
   "outputs": [
    {
     "data": {
      "text/plain": [
       "<generator object func at 0x0000013556551CB0>"
      ]
     },
     "execution_count": 24,
     "metadata": {},
     "output_type": "execute_result"
    }
   ],
   "source": [
    "a"
   ]
  },
  {
   "cell_type": "code",
   "execution_count": 25,
   "id": "5aa23801-7dd1-4e8e-b8ba-0b6a8f78ab63",
   "metadata": {},
   "outputs": [
    {
     "data": {
      "text/plain": [
       "<generator object func at 0x0000013556551D20>"
      ]
     },
     "execution_count": 25,
     "metadata": {},
     "output_type": "execute_result"
    }
   ],
   "source": [
    "b"
   ]
  },
  {
   "cell_type": "code",
   "execution_count": 26,
   "id": "111d5781-4550-494a-b9c1-6aeb308977d6",
   "metadata": {},
   "outputs": [
    {
     "data": {
      "text/plain": [
       "'foo'"
      ]
     },
     "execution_count": 26,
     "metadata": {},
     "output_type": "execute_result"
    }
   ],
   "source": [
    "next(a)"
   ]
  },
  {
   "cell_type": "code",
   "execution_count": 27,
   "id": "4b3dc52f-fa24-4cf8-a3a2-2dbbcbcf2e2b",
   "metadata": {},
   "outputs": [
    {
     "data": {
      "text/plain": [
       "'bar'"
      ]
     },
     "execution_count": 27,
     "metadata": {},
     "output_type": "execute_result"
    }
   ],
   "source": [
    "next(a)"
   ]
  },
  {
   "cell_type": "code",
   "execution_count": 28,
   "id": "6c7472be-1570-4b7d-a83d-34a1eb3031df",
   "metadata": {},
   "outputs": [
    {
     "data": {
      "text/plain": [
       "'foo'"
      ]
     },
     "execution_count": 28,
     "metadata": {},
     "output_type": "execute_result"
    }
   ],
   "source": [
    "next(b)"
   ]
  },
  {
   "cell_type": "code",
   "execution_count": 29,
   "id": "be751cfe-5859-45b8-b8d3-cf2d460fd8f7",
   "metadata": {},
   "outputs": [
    {
     "data": {
      "text/plain": [
       "83037082059"
      ]
     },
     "execution_count": 29,
     "metadata": {},
     "output_type": "execute_result"
    }
   ],
   "source": [
    "hash(a)"
   ]
  },
  {
   "cell_type": "code",
   "execution_count": 30,
   "id": "d0758795-3708-40bc-86f4-d8a7a7a2a77e",
   "metadata": {},
   "outputs": [],
   "source": [
    "def squares(values):\n",
    "    for value in values:\n",
    "        yield value ** 2"
   ]
  },
  {
   "cell_type": "code",
   "execution_count": 31,
   "id": "19c7ded6-5623-4407-a403-bfb407c79787",
   "metadata": {},
   "outputs": [],
   "source": [
    "values = [1, 2, 3]"
   ]
  },
  {
   "cell_type": "code",
   "execution_count": 32,
   "id": "611f3054-0fe4-4d24-9d1f-2df8e3a7b741",
   "metadata": {},
   "outputs": [],
   "source": [
    "it = squares(values)"
   ]
  },
  {
   "cell_type": "code",
   "execution_count": 33,
   "id": "594e46d1-58dc-45f4-baf7-edaf686dad97",
   "metadata": {},
   "outputs": [
    {
     "data": {
      "text/plain": [
       "<generator object squares at 0x0000013556552570>"
      ]
     },
     "execution_count": 33,
     "metadata": {},
     "output_type": "execute_result"
    }
   ],
   "source": [
    "it"
   ]
  },
  {
   "cell_type": "code",
   "execution_count": 34,
   "id": "580d28f7-ccb0-4f9a-93b9-b76428cd2e3c",
   "metadata": {},
   "outputs": [
    {
     "data": {
      "text/plain": [
       "1"
      ]
     },
     "execution_count": 34,
     "metadata": {},
     "output_type": "execute_result"
    }
   ],
   "source": [
    "next(it)"
   ]
  },
  {
   "cell_type": "code",
   "execution_count": 35,
   "id": "813e010e-e0fb-4fe1-938d-05a755f36659",
   "metadata": {},
   "outputs": [
    {
     "data": {
      "text/plain": [
       "4"
      ]
     },
     "execution_count": 35,
     "metadata": {},
     "output_type": "execute_result"
    }
   ],
   "source": [
    "next(it)"
   ]
  },
  {
   "cell_type": "code",
   "execution_count": 36,
   "id": "121702ff-4060-4125-8d13-2df9e87b2844",
   "metadata": {},
   "outputs": [
    {
     "data": {
      "text/plain": [
       "9"
      ]
     },
     "execution_count": 36,
     "metadata": {},
     "output_type": "execute_result"
    }
   ],
   "source": [
    "next(it)"
   ]
  },
  {
   "cell_type": "code",
   "execution_count": 37,
   "id": "43562b23-7a3b-4451-a4b3-77b10e94507c",
   "metadata": {},
   "outputs": [
    {
     "name": "stdout",
     "output_type": "stream",
     "text": [
      "1\n",
      "4\n",
      "9\n"
     ]
    }
   ],
   "source": [
    "for x in squares(values):\n",
    "    print(x)"
   ]
  },
  {
   "cell_type": "code",
   "execution_count": 38,
   "id": "c84a11df-8bd8-4e4c-865f-42ff279c55a1",
   "metadata": {},
   "outputs": [
    {
     "data": {
      "text/plain": [
       "[1, 4, 9]"
      ]
     },
     "execution_count": 38,
     "metadata": {},
     "output_type": "execute_result"
    }
   ],
   "source": [
    "list(squares(values))"
   ]
  },
  {
   "cell_type": "code",
   "execution_count": 39,
   "id": "f3d8c856-716c-44ef-9396-7b72586c4b22",
   "metadata": {},
   "outputs": [],
   "source": [
    "def cubes(values):\n",
    "    for value in values:\n",
    "        yield value ** 3"
   ]
  },
  {
   "cell_type": "code",
   "execution_count": 40,
   "id": "92e1f979-1ed5-4151-9efd-848b8788906b",
   "metadata": {},
   "outputs": [
    {
     "name": "stdout",
     "output_type": "stream",
     "text": [
      "1\n",
      "8\n",
      "27\n"
     ]
    }
   ],
   "source": [
    "for y in cubes(values): \n",
    "    print(y)"
   ]
  },
  {
   "cell_type": "code",
   "execution_count": 41,
   "id": "5d97443c-b73f-4890-8985-1f8797ddb093",
   "metadata": {},
   "outputs": [],
   "source": [
    "def altcubes(values):\n",
    "    yield 0\n",
    "    yield from cubes(values)"
   ]
  },
  {
   "cell_type": "code",
   "execution_count": 42,
   "id": "d82bd357-be9f-4de4-b081-f90100aa41af",
   "metadata": {},
   "outputs": [
    {
     "name": "stdout",
     "output_type": "stream",
     "text": [
      "0\n",
      "1\n",
      "8\n",
      "27\n"
     ]
    }
   ],
   "source": [
    "for x in altcubes(values):\n",
    "    print(x)"
   ]
  },
  {
   "cell_type": "code",
   "execution_count": 43,
   "id": "10278c40-1f7f-4052-9124-8e9d511eb4c7",
   "metadata": {},
   "outputs": [
    {
     "data": {
      "text/plain": [
       "[0, 1, 8, 27]"
      ]
     },
     "execution_count": 43,
     "metadata": {},
     "output_type": "execute_result"
    }
   ],
   "source": [
    "list(altcubes(values))"
   ]
  },
  {
   "cell_type": "code",
   "execution_count": 44,
   "id": "16c12e97-7ea8-48f8-8c83-b07f427acc15",
   "metadata": {},
   "outputs": [],
   "source": [
    "def listcubes(values):\n",
    "    \"\"\"Lists cubes. Like list(cubes(values)).\"\"\"\n",
    "    cubes = []\n",
    "    for x in values:\n",
    "        cubes.append(x**3)\n",
    "    return cubes"
   ]
  },
  {
   "cell_type": "code",
   "execution_count": 45,
   "id": "2fa34b3b-7dce-41b5-98f9-61abf40d3d9b",
   "metadata": {},
   "outputs": [],
   "source": [
    "l = listcubes(values)"
   ]
  },
  {
   "cell_type": "code",
   "execution_count": 46,
   "id": "389b278a-87d7-4626-a6b6-6cf340c52dd8",
   "metadata": {},
   "outputs": [
    {
     "data": {
      "text/plain": [
       "[1, 8, 27]"
      ]
     },
     "execution_count": 46,
     "metadata": {},
     "output_type": "execute_result"
    }
   ],
   "source": [
    "l"
   ]
  },
  {
   "cell_type": "code",
   "execution_count": 47,
   "id": "db4038b1-fc17-4dbc-b243-ffd7668f4967",
   "metadata": {},
   "outputs": [],
   "source": [
    "def altlistcubes(values):\n",
    "    ret = [0]\n",
    "    ret.extend(cubes(values))\n",
    "    return ret"
   ]
  },
  {
   "cell_type": "code",
   "execution_count": 48,
   "id": "abfa1f3c-5f92-4103-b390-57c2ad4d1816",
   "metadata": {},
   "outputs": [
    {
     "data": {
      "text/plain": [
       "[0, 1, 8, 27]"
      ]
     },
     "execution_count": 48,
     "metadata": {},
     "output_type": "execute_result"
    }
   ],
   "source": [
    "altlistcubes(values)"
   ]
  },
  {
   "cell_type": "code",
   "execution_count": 49,
   "id": "b9eed9a3-3fb0-4776-ab89-665b77f2e988",
   "metadata": {},
   "outputs": [],
   "source": [
    "def altlistcubes2(values):\n",
    "    return [0, *cubes(values)]"
   ]
  },
  {
   "cell_type": "code",
   "execution_count": 50,
   "id": "67c4d42f-715a-48ce-9481-d6d4178069c3",
   "metadata": {},
   "outputs": [
    {
     "data": {
      "text/plain": [
       "[0, 1, 8, 27]"
      ]
     },
     "execution_count": 50,
     "metadata": {},
     "output_type": "execute_result"
    }
   ],
   "source": [
    "altlistcubes2(values)"
   ]
  },
  {
   "cell_type": "code",
   "execution_count": 51,
   "id": "58eba7e5-9ed8-4e45-ba99-4ee578b28d6b",
   "metadata": {},
   "outputs": [],
   "source": [
    "first, second, third = cubes(values)"
   ]
  },
  {
   "cell_type": "code",
   "execution_count": 52,
   "id": "2339766f-ffd5-40ee-95bf-8c8f91bd1163",
   "metadata": {},
   "outputs": [
    {
     "data": {
      "text/plain": [
       "1"
      ]
     },
     "execution_count": 52,
     "metadata": {},
     "output_type": "execute_result"
    }
   ],
   "source": [
    "first"
   ]
  },
  {
   "cell_type": "code",
   "execution_count": 53,
   "id": "2faa14ce-0e66-43c5-bb36-64c5a7da00b4",
   "metadata": {},
   "outputs": [
    {
     "data": {
      "text/plain": [
       "8"
      ]
     },
     "execution_count": 53,
     "metadata": {},
     "output_type": "execute_result"
    }
   ],
   "source": [
    "second"
   ]
  },
  {
   "cell_type": "code",
   "execution_count": 54,
   "id": "f23b9eb8-4a0c-4ada-830d-bd889bb1bd37",
   "metadata": {},
   "outputs": [
    {
     "data": {
      "text/plain": [
       "27"
      ]
     },
     "execution_count": 54,
     "metadata": {},
     "output_type": "execute_result"
    }
   ],
   "source": [
    "third"
   ]
  },
  {
   "cell_type": "code",
   "execution_count": 55,
   "id": "77876cf7-f0c0-4cbb-aee0-4d4e2e1f9e55",
   "metadata": {},
   "outputs": [
    {
     "data": {
      "text/plain": [
       "[1, 8, 27]"
      ]
     },
     "execution_count": 55,
     "metadata": {},
     "output_type": "execute_result"
    }
   ],
   "source": [
    "[x**3 for x in values]"
   ]
  },
  {
   "cell_type": "code",
   "execution_count": 56,
   "id": "caa24049-1ebb-4cb2-b98e-eaaf0156dfb5",
   "metadata": {},
   "outputs": [
    {
     "data": {
      "text/plain": [
       "{1: 1,\n",
       " 3: 129140163,\n",
       " 5: 762939453125,\n",
       " 7: 232630513987207,\n",
       " 9: 16677181699666569,\n",
       " 11: 505447028499293771,\n",
       " 13: 8650415919381337933}"
      ]
     },
     "execution_count": 56,
     "metadata": {},
     "output_type": "execute_result"
    }
   ],
   "source": [
    "# raises the odd numbers from 1 to 13 (inclusive) to the power of 17\n",
    "{x: x**17 for x in range(1, 14, 2)}"
   ]
  },
  {
   "cell_type": "code",
   "execution_count": 57,
   "id": "735ddd06-0ddf-46fb-a8f4-e4a842b1a674",
   "metadata": {},
   "outputs": [],
   "source": [
    "z = 5 "
   ]
  },
  {
   "cell_type": "code",
   "execution_count": 58,
   "id": "b15fe82a-4487-43da-9167-60c1069bf01b",
   "metadata": {},
   "outputs": [
    {
     "data": {
      "text/plain": [
       "6"
      ]
     },
     "execution_count": 58,
     "metadata": {},
     "output_type": "execute_result"
    }
   ],
   "source": [
    "z + 1 "
   ]
  },
  {
   "cell_type": "code",
   "execution_count": 59,
   "id": "1644e338-d74b-440f-8436-aee2ed4c02a4",
   "metadata": {},
   "outputs": [
    {
     "data": {
      "text/plain": [
       "762939453125"
      ]
     },
     "execution_count": 59,
     "metadata": {},
     "output_type": "execute_result"
    }
   ],
   "source": [
    "z ** 17 "
   ]
  },
  {
   "cell_type": "code",
   "execution_count": 60,
   "id": "faaaf52c-2e74-4572-81fb-d1c916a8e6af",
   "metadata": {},
   "outputs": [
    {
     "data": {
      "text/plain": [
       "(5, 6)"
      ]
     },
     "execution_count": 60,
     "metadata": {},
     "output_type": "execute_result"
    }
   ],
   "source": [
    "(z, z + 1)"
   ]
  },
  {
   "cell_type": "code",
   "execution_count": 61,
   "id": "e35ed508-c59e-4d17-ab5a-7eec4e9a0395",
   "metadata": {},
   "outputs": [
    {
     "data": {
      "text/plain": [
       "{}"
      ]
     },
     "execution_count": 61,
     "metadata": {},
     "output_type": "execute_result"
    }
   ],
   "source": [
    "{}"
   ]
  },
  {
   "cell_type": "code",
   "execution_count": 62,
   "id": "8733ef9d-6f8f-40d5-95c2-29ace2994f74",
   "metadata": {},
   "outputs": [],
   "source": [
    "some_cubes = tuple(x**3 for x in values)"
   ]
  },
  {
   "cell_type": "code",
   "execution_count": 63,
   "id": "7557cb17-552d-4384-9465-b88f21b600af",
   "metadata": {},
   "outputs": [
    {
     "data": {
      "text/plain": [
       "(1, 8, 27)"
      ]
     },
     "execution_count": 63,
     "metadata": {},
     "output_type": "execute_result"
    }
   ],
   "source": [
    "some_cubes"
   ]
  },
  {
   "cell_type": "code",
   "execution_count": 64,
   "id": "793673cc-2e58-42cd-ae92-20932671df99",
   "metadata": {},
   "outputs": [
    {
     "data": {
      "text/plain": [
       "[1, 8, 27]"
      ]
     },
     "execution_count": 64,
     "metadata": {},
     "output_type": "execute_result"
    }
   ],
   "source": [
    "[*some_cubes]"
   ]
  },
  {
   "cell_type": "code",
   "execution_count": 65,
   "id": "7561808f-6c46-4d8a-a818-5a223ad277cf",
   "metadata": {},
   "outputs": [
    {
     "name": "stdout",
     "output_type": "stream",
     "text": [
      "10 20 30\n"
     ]
    }
   ],
   "source": [
    "print(10, 20, 30)"
   ]
  },
  {
   "cell_type": "code",
   "execution_count": 66,
   "id": "1ba2eeec-3e86-430b-a028-3dad3dbb9e3e",
   "metadata": {},
   "outputs": [
    {
     "name": "stdout",
     "output_type": "stream",
     "text": [
      "(10, 20, 30)\n"
     ]
    }
   ],
   "source": [
    "print((10, 20, 30))"
   ]
  },
  {
   "cell_type": "code",
   "execution_count": 67,
   "id": "5cea8e55-3f4c-4448-8b08-94869f49103d",
   "metadata": {},
   "outputs": [
    {
     "name": "stdout",
     "output_type": "stream",
     "text": [
      "(10, 20, 30)\n"
     ]
    }
   ],
   "source": [
    "print(((10, 20, 30)))"
   ]
  },
  {
   "cell_type": "code",
   "execution_count": 68,
   "id": "5889b40b-f880-4389-aad7-ad094940983a",
   "metadata": {},
   "outputs": [],
   "source": [
    "# Cubes of the integers 1 through 10 (inclusive), in order."
   ]
  },
  {
   "cell_type": "code",
   "execution_count": 69,
   "id": "888eda01-0421-44a0-9d0f-9aa6596c0b14",
   "metadata": {},
   "outputs": [],
   "source": [
    "d = {x: x**3 for x in range(1,11)}"
   ]
  },
  {
   "cell_type": "code",
   "execution_count": 70,
   "id": "b54f7dd0-618b-4bdb-a40d-b45ad447c723",
   "metadata": {},
   "outputs": [
    {
     "name": "stdout",
     "output_type": "stream",
     "text": [
      "0\n",
      "1\n",
      "1\n",
      "2\n",
      "2\n",
      "3\n",
      "3\n",
      "4\n",
      "4\n",
      "5\n",
      "5\n",
      "6\n",
      "6\n",
      "7\n",
      "7\n",
      "8\n",
      "8\n",
      "9\n",
      "9\n",
      "10\n"
     ]
    }
   ],
   "source": [
    "for key, v in enumerate (d): \n",
    "    print(key)\n",
    "    print(v)"
   ]
  },
  {
   "cell_type": "code",
   "execution_count": 71,
   "id": "e3559d15-a373-4483-a391-a8c2d91a0fe0",
   "metadata": {},
   "outputs": [
    {
     "data": {
      "text/plain": [
       "<enumerate at 0x135565ec180>"
      ]
     },
     "execution_count": 71,
     "metadata": {},
     "output_type": "execute_result"
    }
   ],
   "source": [
    "a = [10, 20, 30]\n",
    "enumerate(a)"
   ]
  },
  {
   "cell_type": "code",
   "execution_count": 72,
   "id": "9b47b7f5-4c54-48e2-be24-34b5ce2e7bd3",
   "metadata": {},
   "outputs": [
    {
     "data": {
      "text/plain": [
       "[(0, 10), (1, 20), (2, 30)]"
      ]
     },
     "execution_count": 72,
     "metadata": {},
     "output_type": "execute_result"
    }
   ],
   "source": [
    "list(_)"
   ]
  },
  {
   "cell_type": "code",
   "execution_count": 73,
   "id": "82fd8cef-03cf-4ffd-8c83-59960bb799f2",
   "metadata": {},
   "outputs": [
    {
     "data": {
      "text/plain": [
       "[1, 2, 3, 4, 5, 6, 7, 8, 9, 10]"
      ]
     },
     "execution_count": 73,
     "metadata": {},
     "output_type": "execute_result"
    }
   ],
   "source": [
    "list(d)"
   ]
  },
  {
   "cell_type": "code",
   "execution_count": 74,
   "id": "df305774-c117-4c5b-a1b2-f5390b44a6a7",
   "metadata": {},
   "outputs": [
    {
     "data": {
      "text/plain": [
       "{10, 20, 30, 40, 50}"
      ]
     },
     "execution_count": 74,
     "metadata": {},
     "output_type": "execute_result"
    }
   ],
   "source": [
    "s = {10, 20, 30, 40, 50}\n",
    "s"
   ]
  },
  {
   "cell_type": "code",
   "execution_count": 75,
   "id": "e12df55c-e7f4-42bf-b320-77acdf30968c",
   "metadata": {},
   "outputs": [
    {
     "data": {
      "text/plain": [
       "[50, 20, 40, 10, 30]"
      ]
     },
     "execution_count": 75,
     "metadata": {},
     "output_type": "execute_result"
    }
   ],
   "source": [
    "list(s)"
   ]
  },
  {
   "cell_type": "code",
   "execution_count": 76,
   "id": "249a091a-3f30-4c6e-a0f9-d18351abd2db",
   "metadata": {},
   "outputs": [
    {
     "data": {
      "text/plain": [
       "[(0, 50), (1, 20), (2, 40), (3, 10), (4, 30)]"
      ]
     },
     "execution_count": 76,
     "metadata": {},
     "output_type": "execute_result"
    }
   ],
   "source": [
    "list(enumerate(s))"
   ]
  },
  {
   "cell_type": "code",
   "execution_count": 77,
   "id": "02e06500-d59c-4a88-ad48-f4bfba51a495",
   "metadata": {},
   "outputs": [
    {
     "data": {
      "text/plain": [
       "<enumerate at 0x135565ee8c0>"
      ]
     },
     "execution_count": 77,
     "metadata": {},
     "output_type": "execute_result"
    }
   ],
   "source": [
    "enumerate(s)"
   ]
  },
  {
   "cell_type": "code",
   "execution_count": 78,
   "id": "492f6900-f271-4c6a-a067-c4dac2ef0b5f",
   "metadata": {},
   "outputs": [
    {
     "data": {
      "text/plain": [
       "(0, 50)"
      ]
     },
     "execution_count": 78,
     "metadata": {},
     "output_type": "execute_result"
    }
   ],
   "source": [
    "next(_)"
   ]
  },
  {
   "cell_type": "code",
   "execution_count": 79,
   "id": "ea54d180-1598-49fe-9f5d-a5908ce2839c",
   "metadata": {},
   "outputs": [],
   "source": [
    "en = enumerate(range(10**1000))"
   ]
  },
  {
   "cell_type": "code",
   "execution_count": 80,
   "id": "40c49e98-8ad8-4f99-945c-22c3d8c65741",
   "metadata": {},
   "outputs": [
    {
     "data": {
      "text/plain": [
       "(0, 0)"
      ]
     },
     "execution_count": 80,
     "metadata": {},
     "output_type": "execute_result"
    }
   ],
   "source": [
    "next(en)"
   ]
  },
  {
   "cell_type": "code",
   "execution_count": 81,
   "id": "1e90ff03-db6d-485e-9f56-2c5034ab4081",
   "metadata": {},
   "outputs": [
    {
     "data": {
      "text/plain": [
       "(1, 1)"
      ]
     },
     "execution_count": 81,
     "metadata": {},
     "output_type": "execute_result"
    }
   ],
   "source": [
    "next(en)"
   ]
  },
  {
   "cell_type": "code",
   "execution_count": 82,
   "id": "7b95cd36-fa80-4f24-bca2-e8b248a2b5c4",
   "metadata": {},
   "outputs": [],
   "source": [
    "def my_enumerate(iterable):\n",
    "    y = 0\n",
    "    for x in iterable:\n",
    "        yield (y, x)\n",
    "        y += 1"
   ]
  },
  {
   "cell_type": "code",
   "execution_count": 83,
   "id": "3ed2c1f0-02fb-4241-bff3-08b49e12dd95",
   "metadata": {},
   "outputs": [],
   "source": [
    "men = my_enumerate(range(3,10000))"
   ]
  },
  {
   "cell_type": "code",
   "execution_count": 84,
   "id": "04f52ae7-3828-41e8-a55b-0778e04799a4",
   "metadata": {},
   "outputs": [
    {
     "data": {
      "text/plain": [
       "(0, 3)"
      ]
     },
     "execution_count": 84,
     "metadata": {},
     "output_type": "execute_result"
    }
   ],
   "source": [
    "next(men)"
   ]
  },
  {
   "cell_type": "code",
   "execution_count": 85,
   "id": "794d74ce-436f-4855-ac4a-e463c9328204",
   "metadata": {},
   "outputs": [],
   "source": [
    "a = [10, 20, 30]"
   ]
  },
  {
   "cell_type": "code",
   "execution_count": 86,
   "id": "f6da7757-61f4-4bc7-ac3f-11ee096dd4a9",
   "metadata": {},
   "outputs": [
    {
     "data": {
      "text/plain": [
       "True"
      ]
     },
     "execution_count": 86,
     "metadata": {},
     "output_type": "execute_result"
    }
   ],
   "source": [
    "20 in a"
   ]
  },
  {
   "cell_type": "code",
   "execution_count": 87,
   "id": "1b71c68b-865a-49e1-a97e-a8e65bae6962",
   "metadata": {},
   "outputs": [
    {
     "data": {
      "text/plain": [
       "False"
      ]
     },
     "execution_count": 87,
     "metadata": {},
     "output_type": "execute_result"
    }
   ],
   "source": [
    "21 in a"
   ]
  },
  {
   "cell_type": "code",
   "execution_count": 88,
   "id": "989c6112-d2da-4f30-be03-8764be3459dd",
   "metadata": {},
   "outputs": [
    {
     "data": {
      "text/plain": [
       "27"
      ]
     },
     "execution_count": 88,
     "metadata": {},
     "output_type": "execute_result"
    }
   ],
   "source": [
    "x"
   ]
  },
  {
   "cell_type": "code",
   "execution_count": 89,
   "id": "d8fb1cbd-ab0b-4e3d-854e-be551edd3fcf",
   "metadata": {},
   "outputs": [
    {
     "data": {
      "text/plain": [
       "False"
      ]
     },
     "execution_count": 89,
     "metadata": {},
     "output_type": "execute_result"
    }
   ],
   "source": [
    "x in a"
   ]
  },
  {
   "cell_type": "code",
   "execution_count": 90,
   "id": "bdd8e7de-c827-40c2-bf83-641c49fc7e48",
   "metadata": {},
   "outputs": [
    {
     "data": {
      "text/plain": [
       "True"
      ]
     },
     "execution_count": 90,
     "metadata": {},
     "output_type": "execute_result"
    }
   ],
   "source": [
    "x not in a"
   ]
  },
  {
   "cell_type": "code",
   "execution_count": 91,
   "id": "a55500da-0591-4ed5-84c1-6b482ecc332c",
   "metadata": {},
   "outputs": [
    {
     "data": {
      "text/plain": [
       "{1: 1, 2: 8, 3: 27, 4: 64, 5: 125, 6: 216, 7: 343, 8: 512, 9: 729, 10: 1000}"
      ]
     },
     "execution_count": 91,
     "metadata": {},
     "output_type": "execute_result"
    }
   ],
   "source": [
    "d"
   ]
  },
  {
   "cell_type": "code",
   "execution_count": 92,
   "id": "f5e06707-bc70-479f-ae66-d27fa76e65a6",
   "metadata": {},
   "outputs": [
    {
     "data": {
      "text/plain": [
       "[1, 2, 3, 4, 5, 6, 7, 8, 9, 10]"
      ]
     },
     "execution_count": 92,
     "metadata": {},
     "output_type": "execute_result"
    }
   ],
   "source": [
    "list(d)"
   ]
  },
  {
   "cell_type": "code",
   "execution_count": 93,
   "id": "48b47b2b-4921-4b0e-a663-07ec94d68578",
   "metadata": {},
   "outputs": [
    {
     "data": {
      "text/plain": [
       "dict_items([(1, 1), (2, 8), (3, 27), (4, 64), (5, 125), (6, 216), (7, 343), (8, 512), (9, 729), (10, 1000)])"
      ]
     },
     "execution_count": 93,
     "metadata": {},
     "output_type": "execute_result"
    }
   ],
   "source": [
    "d.items()"
   ]
  },
  {
   "cell_type": "code",
   "execution_count": 94,
   "id": "3ca5b04d-656c-425b-91d2-5f2d8e6884b4",
   "metadata": {},
   "outputs": [
    {
     "name": "stdout",
     "output_type": "stream",
     "text": [
      "1 -> 1\n",
      "2 -> 8\n",
      "3 -> 27\n",
      "4 -> 64\n",
      "5 -> 125\n",
      "6 -> 216\n",
      "7 -> 343\n",
      "8 -> 512\n",
      "9 -> 729\n",
      "10 -> 1000\n"
     ]
    }
   ],
   "source": [
    "# Looping through just d gives the keys.\n",
    "#\n",
    "# This is so that what we get by iterating agrees with the behavior\n",
    "# of the \"in\" operator.\n",
    "#\n",
    "# NOTE: The \"in\" in the for-loop syntax is NOT the \"in\" *operator*.\n",
    "for key, value in d.items():\n",
    "    print(f'{key} -> {value}')"
   ]
  },
  {
   "cell_type": "code",
   "execution_count": 95,
   "id": "c094fd0b-7efa-4b09-8741-171234ec0715",
   "metadata": {},
   "outputs": [
    {
     "data": {
      "text/plain": [
       "True"
      ]
     },
     "execution_count": 95,
     "metadata": {},
     "output_type": "execute_result"
    }
   ],
   "source": [
    "# For dictionaries, the \"in\" operator checks if its left operand is a KEY\n",
    "# of its right operand.\n",
    "#\n",
    "# This is because dictionaries support efficient lookup by key (that's the\n",
    "# whole point of a dictionary), so that's what everybody would expect the\n",
    "# \"in\" operator to do on a dictionary, whether or not it did.\n",
    "#\n",
    "# The effect, though, is that the iteration behavior of dictionaries is\n",
    "# not obvious, and to many people not intuitive.\n",
    "9 in d"
   ]
  },
  {
   "cell_type": "code",
   "execution_count": 96,
   "id": "e5b65820-3802-4b89-b9db-65eff0640f1c",
   "metadata": {},
   "outputs": [
    {
     "data": {
      "text/plain": [
       "{1: 1, 2: 8, 3: 27, 4: 64, 5: 125, 6: 216, 7: 343, 8: 512, 9: 729, 10: 1000}"
      ]
     },
     "execution_count": 96,
     "metadata": {},
     "output_type": "execute_result"
    }
   ],
   "source": [
    "d"
   ]
  },
  {
   "cell_type": "code",
   "execution_count": 97,
   "id": "0ebc35b7-b0b4-4a46-9753-a2b825e0ada3",
   "metadata": {},
   "outputs": [
    {
     "data": {
      "text/plain": [
       "dict_keys([1, 2, 3, 4, 5, 6, 7, 8, 9, 10])"
      ]
     },
     "execution_count": 97,
     "metadata": {},
     "output_type": "execute_result"
    }
   ],
   "source": [
    "d.keys()"
   ]
  },
  {
   "cell_type": "code",
   "execution_count": 98,
   "id": "c66e6282-c3e7-4887-a713-f6c34880dfcf",
   "metadata": {},
   "outputs": [
    {
     "data": {
      "text/plain": [
       "dict_values([1, 8, 27, 64, 125, 216, 343, 512, 729, 1000])"
      ]
     },
     "execution_count": 98,
     "metadata": {},
     "output_type": "execute_result"
    }
   ],
   "source": [
    "d.values()"
   ]
  },
  {
   "cell_type": "code",
   "execution_count": 99,
   "id": "212b5fbe-6fd2-4925-9c71-d6c120006bbe",
   "metadata": {},
   "outputs": [
    {
     "data": {
      "text/plain": [
       "dict_items([(1, 1), (2, 8), (3, 27), (4, 64), (5, 125), (6, 216), (7, 343), (8, 512), (9, 729), (10, 1000)])"
      ]
     },
     "execution_count": 99,
     "metadata": {},
     "output_type": "execute_result"
    }
   ],
   "source": [
    "d.items()"
   ]
  },
  {
   "cell_type": "code",
   "execution_count": 100,
   "id": "7904c84c-2758-4de2-98b1-995d85dafc08",
   "metadata": {},
   "outputs": [],
   "source": [
    "j = [x**3 for x in range(1,11) if x**3 % 10 < 6]"
   ]
  },
  {
   "cell_type": "code",
   "execution_count": 101,
   "id": "6ddec65c-32bb-4a68-b56e-89b4c4f36a57",
   "metadata": {},
   "outputs": [
    {
     "data": {
      "text/plain": [
       "[1, 64, 125, 343, 512, 1000]"
      ]
     },
     "execution_count": 101,
     "metadata": {},
     "output_type": "execute_result"
    }
   ],
   "source": [
    "j"
   ]
  },
  {
   "cell_type": "code",
   "execution_count": 102,
   "id": "3ac08a8f-7023-48b8-a96e-208c472924fa",
   "metadata": {},
   "outputs": [
    {
     "data": {
      "text/plain": [
       "[1, 8, 27, 64, 125, 216, 343, 512, 729, 1000]"
      ]
     },
     "execution_count": 102,
     "metadata": {},
     "output_type": "execute_result"
    }
   ],
   "source": [
    "[x**3 for x in range(1, 11) if True]"
   ]
  },
  {
   "cell_type": "code",
   "execution_count": 103,
   "id": "5f1a2524-65aa-4b30-919b-33a4b9a3e4ae",
   "metadata": {},
   "outputs": [],
   "source": [
    "j = [x**3 for x in range(1,11) if x**3 % 10 < 6]"
   ]
  },
  {
   "cell_type": "code",
   "execution_count": 104,
   "id": "15f92185-f805-41d6-81b1-1c1cb8a9097a",
   "metadata": {},
   "outputs": [
    {
     "data": {
      "text/plain": [
       "[1, 64, 125, 343, 512, 1000]"
      ]
     },
     "execution_count": 104,
     "metadata": {},
     "output_type": "execute_result"
    }
   ],
   "source": [
    "[y for y in (x**3 for x in range(1, 11)) if y % 10 < 6]"
   ]
  },
  {
   "cell_type": "code",
   "execution_count": 105,
   "id": "03fbbe28-d211-4c9a-bbcc-3e41a67628e4",
   "metadata": {},
   "outputs": [],
   "source": [
    "# Comprehensions make scopes for variables\n",
    "def f():\n",
    "    x = 5735\n",
    "    squares = (x**2 for x in range(10))\n",
    "    print(*squares, sep=', ')\n",
    "    print(f'{x = }')"
   ]
  },
  {
   "cell_type": "code",
   "execution_count": 106,
   "id": "e8b65a65-d6fc-4a7d-a157-be1e86cb8391",
   "metadata": {},
   "outputs": [
    {
     "name": "stdout",
     "output_type": "stream",
     "text": [
      "0, 1, 4, 9, 16, 25, 36, 49, 64, 81\n",
      "x = 5735\n"
     ]
    }
   ],
   "source": [
    "f()"
   ]
  },
  {
   "cell_type": "code",
   "execution_count": 107,
   "id": "e762af79-3b0f-4c94-9a32-284119980511",
   "metadata": {},
   "outputs": [
    {
     "name": "stdout",
     "output_type": "stream",
     "text": [
      "foo; bar; baz\n"
     ]
    }
   ],
   "source": [
    "print('foo', 'bar', 'baz', sep='; ')"
   ]
  },
  {
   "cell_type": "code",
   "execution_count": 108,
   "id": "20c88505-0f54-4888-ae85-bf200cbd2b1b",
   "metadata": {},
   "outputs": [
    {
     "data": {
      "text/plain": [
       "<generator object <genexpr> at 0x00000135565EB3E0>"
      ]
     },
     "execution_count": 108,
     "metadata": {},
     "output_type": "execute_result"
    }
   ],
   "source": [
    "(x for x in ())"
   ]
  },
  {
   "cell_type": "code",
   "execution_count": 109,
   "id": "090bf99e-e1bb-4cea-9085-73b12d18bd6a",
   "metadata": {},
   "outputs": [
    {
     "data": {
      "text/plain": [
       "[]"
      ]
     },
     "execution_count": 109,
     "metadata": {},
     "output_type": "execute_result"
    }
   ],
   "source": [
    "list(_)"
   ]
  },
  {
   "cell_type": "code",
   "execution_count": 110,
   "id": "3af047cc-9028-4500-894a-f7deed064b0d",
   "metadata": {},
   "outputs": [
    {
     "data": {
      "text/plain": [
       "[1, 64, 125, 343, 512, 1000]"
      ]
     },
     "execution_count": 110,
     "metadata": {},
     "output_type": "execute_result"
    }
   ],
   "source": [
    "[y for y in (x**3 for x in range(1, 11)) if y % 10 < 6]"
   ]
  },
  {
   "cell_type": "code",
   "execution_count": 111,
   "id": "50c72633-4e60-4854-9462-ab04e0821754",
   "metadata": {},
   "outputs": [
    {
     "data": {
      "text/plain": [
       "[1, 64, 125, 343, 512, 1000]"
      ]
     },
     "execution_count": 111,
     "metadata": {},
     "output_type": "execute_result"
    }
   ],
   "source": [
    "small_cubes = (x**3 for x in range(1, 11))\n",
    "[y for y in small_cubes if y % 10 < 6]"
   ]
  },
  {
   "cell_type": "code",
   "execution_count": 112,
   "id": "0da5deae-b4c0-45a6-8da7-44b36a1d0316",
   "metadata": {},
   "outputs": [
    {
     "data": {
      "text/plain": [
       "[0, 1, 4, 9, 16, 25, 36, 49, 64, 81]"
      ]
     },
     "execution_count": 112,
     "metadata": {},
     "output_type": "execute_result"
    }
   ],
   "source": [
    "# Just mapping (no filtering).\n",
    "[x**2 for x in range(10)]"
   ]
  },
  {
   "cell_type": "code",
   "execution_count": 113,
   "id": "3c57887d-29a0-4688-bd19-b6e67690228c",
   "metadata": {},
   "outputs": [
    {
     "data": {
      "text/plain": [
       "[1, 4, 16, 25, 49, 64]"
      ]
     },
     "execution_count": 113,
     "metadata": {},
     "output_type": "execute_result"
    }
   ],
   "source": [
    "# Mapping and filtering.\n",
    "[x**2 for x in range(10) if x % 3 != 0]"
   ]
  },
  {
   "cell_type": "code",
   "execution_count": 114,
   "id": "2baa4262-ea1c-4654-95ae-b64441a2a1cb",
   "metadata": {},
   "outputs": [
    {
     "data": {
      "text/plain": [
       "[1, 2, 4, 5, 7, 8]"
      ]
     },
     "execution_count": 114,
     "metadata": {},
     "output_type": "execute_result"
    }
   ],
   "source": [
    "# Filtering. (Technically also mapping.)\n",
    "[x for x in range(10) if x % 3 != 0]"
   ]
  },
  {
   "cell_type": "code",
   "execution_count": 115,
   "id": "2116bf29-0857-46d2-9327-472496402581",
   "metadata": {},
   "outputs": [
    {
     "data": {
      "text/plain": [
       "[10, 20, 30]"
      ]
     },
     "execution_count": 115,
     "metadata": {},
     "output_type": "execute_result"
    }
   ],
   "source": [
    "a"
   ]
  },
  {
   "cell_type": "code",
   "execution_count": 116,
   "id": "bb6d7ca4-8ae7-414d-9dd1-81ce2f8d7dc4",
   "metadata": {},
   "outputs": [
    {
     "data": {
      "text/plain": [
       "<map at 0x13556619180>"
      ]
     },
     "execution_count": 116,
     "metadata": {},
     "output_type": "execute_result"
    }
   ],
   "source": [
    "map(str, a)"
   ]
  },
  {
   "cell_type": "code",
   "execution_count": 117,
   "id": "35fcdca0-73cf-488a-b2af-20fb068227c6",
   "metadata": {},
   "outputs": [],
   "source": [
    "it = _"
   ]
  },
  {
   "cell_type": "code",
   "execution_count": 118,
   "id": "46652c93-7454-4998-be46-59af4b5e07cb",
   "metadata": {},
   "outputs": [
    {
     "data": {
      "text/plain": [
       "'10'"
      ]
     },
     "execution_count": 118,
     "metadata": {},
     "output_type": "execute_result"
    }
   ],
   "source": [
    "next(it)"
   ]
  },
  {
   "cell_type": "code",
   "execution_count": 119,
   "id": "a2e89559-55be-4206-b800-799c52a62a83",
   "metadata": {},
   "outputs": [
    {
     "data": {
      "text/plain": [
       "'20'"
      ]
     },
     "execution_count": 119,
     "metadata": {},
     "output_type": "execute_result"
    }
   ],
   "source": [
    "next(it)"
   ]
  },
  {
   "cell_type": "code",
   "execution_count": 120,
   "id": "5b0ef679-1b6c-4bcb-b601-edee11b7ebe6",
   "metadata": {},
   "outputs": [
    {
     "data": {
      "text/plain": [
       "'30'"
      ]
     },
     "execution_count": 120,
     "metadata": {},
     "output_type": "execute_result"
    }
   ],
   "source": [
    "next(it)"
   ]
  },
  {
   "cell_type": "code",
   "execution_count": 121,
   "id": "54a3e514-e270-4b61-8c8e-c04693644ce7",
   "metadata": {},
   "outputs": [],
   "source": [
    "# next(it)  # StopIteration"
   ]
  },
  {
   "cell_type": "code",
   "execution_count": 122,
   "id": "f602c3be-b46b-407b-90a2-caa804608f7a",
   "metadata": {},
   "outputs": [
    {
     "data": {
      "text/plain": [
       "['10', '20', '30']"
      ]
     },
     "execution_count": 122,
     "metadata": {},
     "output_type": "execute_result"
    }
   ],
   "source": [
    "list(map(str, a))"
   ]
  },
  {
   "cell_type": "code",
   "execution_count": 123,
   "id": "546233e8-6622-475e-8c42-b0a9e665d010",
   "metadata": {},
   "outputs": [
    {
     "data": {
      "text/plain": [
       "['10', '20', '30']"
      ]
     },
     "execution_count": 123,
     "metadata": {},
     "output_type": "execute_result"
    }
   ],
   "source": [
    "[str(x) for x in a]"
   ]
  },
  {
   "cell_type": "code",
   "execution_count": 124,
   "id": "2844edae-03a0-4ffb-af12-355afca01c89",
   "metadata": {},
   "outputs": [
    {
     "data": {
      "text/plain": [
       "<generator object <genexpr> at 0x00000135565B82E0>"
      ]
     },
     "execution_count": 124,
     "metadata": {},
     "output_type": "execute_result"
    }
   ],
   "source": [
    "(str(x) for x in a)"
   ]
  },
  {
   "cell_type": "code",
   "execution_count": 125,
   "id": "615c08d9-bef8-41f1-9cd1-35f20ee07fd2",
   "metadata": {},
   "outputs": [
    {
     "data": {
      "text/plain": [
       "'10'"
      ]
     },
     "execution_count": 125,
     "metadata": {},
     "output_type": "execute_result"
    }
   ],
   "source": [
    "next(_)"
   ]
  },
  {
   "cell_type": "code",
   "execution_count": 126,
   "id": "845a2b5a-b41a-40b5-9129-0c60cf3e0063",
   "metadata": {},
   "outputs": [],
   "source": [
    "def three_long(word):\n",
    "    \"\"\"For some reason, we often need to know if a string has length 3.\"\"\"\n",
    "    return len(word) == 3"
   ]
  },
  {
   "cell_type": "code",
   "execution_count": 127,
   "id": "a35ca561-770c-401c-b1a8-7238623f315e",
   "metadata": {},
   "outputs": [
    {
     "data": {
      "text/plain": [
       "True"
      ]
     },
     "execution_count": 127,
     "metadata": {},
     "output_type": "execute_result"
    }
   ],
   "source": [
    "three_long('123')"
   ]
  },
  {
   "cell_type": "code",
   "execution_count": 128,
   "id": "037c2ec2-c97f-431a-9012-43ab25673b0b",
   "metadata": {},
   "outputs": [
    {
     "data": {
      "text/plain": [
       "False"
      ]
     },
     "execution_count": 128,
     "metadata": {},
     "output_type": "execute_result"
    }
   ],
   "source": [
    "three_long('1234')"
   ]
  },
  {
   "cell_type": "code",
   "execution_count": 129,
   "id": "eb498f4f-899c-44d4-8453-40db0a225deb",
   "metadata": {},
   "outputs": [
    {
     "data": {
      "text/plain": [
       "[True, False, False]"
      ]
     },
     "execution_count": 129,
     "metadata": {},
     "output_type": "execute_result"
    }
   ],
   "source": [
    "[three_long(x) for x in ['ham', 'spam', 'eggs']]  # just mapping"
   ]
  },
  {
   "cell_type": "code",
   "execution_count": 130,
   "id": "79445291-69f6-47bd-8563-fe573306f015",
   "metadata": {},
   "outputs": [
    {
     "data": {
      "text/plain": [
       "[True, False, False]"
      ]
     },
     "execution_count": 130,
     "metadata": {},
     "output_type": "execute_result"
    }
   ],
   "source": [
    "b = map(three_long, ['ham', 'spam', 'eggs'])\n",
    "list(b)"
   ]
  },
  {
   "cell_type": "code",
   "execution_count": 131,
   "id": "9d8f221a-3bca-4356-aca4-005a3899cc8c",
   "metadata": {},
   "outputs": [
    {
     "data": {
      "text/plain": [
       "['ham']"
      ]
     },
     "execution_count": 131,
     "metadata": {},
     "output_type": "execute_result"
    }
   ],
   "source": [
    "[word for word in ['ham', 'spam', 'eggs'] if three_long(word)]  # just filtering"
   ]
  },
  {
   "cell_type": "code",
   "execution_count": 132,
   "id": "aa4459a9-916e-4c4a-8442-33da059ff669",
   "metadata": {},
   "outputs": [
    {
     "name": "stdout",
     "output_type": "stream",
     "text": [
      "Help on class filter in module builtins:\n",
      "\n",
      "class filter(object)\n",
      " |  filter(function or None, iterable) --> filter object\n",
      " |  \n",
      " |  Return an iterator yielding those items of iterable for which function(item)\n",
      " |  is true. If function is None, return the items that are true.\n",
      " |  \n",
      " |  Methods defined here:\n",
      " |  \n",
      " |  __getattribute__(self, name, /)\n",
      " |      Return getattr(self, name).\n",
      " |  \n",
      " |  __iter__(self, /)\n",
      " |      Implement iter(self).\n",
      " |  \n",
      " |  __next__(self, /)\n",
      " |      Implement next(self).\n",
      " |  \n",
      " |  __reduce__(...)\n",
      " |      Return state information for pickling.\n",
      " |  \n",
      " |  ----------------------------------------------------------------------\n",
      " |  Static methods defined here:\n",
      " |  \n",
      " |  __new__(*args, **kwargs) from builtins.type\n",
      " |      Create and return a new object.  See help(type) for accurate signature.\n",
      "\n"
     ]
    }
   ],
   "source": [
    "help(filter)"
   ]
  },
  {
   "cell_type": "code",
   "execution_count": 133,
   "id": "696541ec-e279-4b91-ae2c-c30096ba2b10",
   "metadata": {},
   "outputs": [
    {
     "data": {
      "text/plain": [
       "['ham']"
      ]
     },
     "execution_count": 133,
     "metadata": {},
     "output_type": "execute_result"
    }
   ],
   "source": [
    "c = filter(three_long, ['ham', 'spam', 'eggs'])\n",
    "list(c)"
   ]
  },
  {
   "cell_type": "code",
   "execution_count": 134,
   "id": "7367e06a-a5cf-4fe0-a5d3-74396f877096",
   "metadata": {},
   "outputs": [
    {
     "data": {
      "text/plain": [
       "[10, 20, 30]"
      ]
     },
     "execution_count": 134,
     "metadata": {},
     "output_type": "execute_result"
    }
   ],
   "source": [
    "a"
   ]
  },
  {
   "cell_type": "code",
   "execution_count": 135,
   "id": "5635f432-7cd7-4a42-9a78-d74aa6f20b1b",
   "metadata": {},
   "outputs": [
    {
     "data": {
      "text/plain": [
       "[(0, 10), (1, 20), (2, 30)]"
      ]
     },
     "execution_count": 135,
     "metadata": {},
     "output_type": "execute_result"
    }
   ],
   "source": [
    "list(enumerate(a))"
   ]
  },
  {
   "cell_type": "code",
   "execution_count": 136,
   "id": "b3f0db67-266d-40a9-9838-f1a91d330ae1",
   "metadata": {},
   "outputs": [
    {
     "data": {
      "text/plain": [
       "[(1, 10), (2, 20), (3, 30)]"
      ]
     },
     "execution_count": 136,
     "metadata": {},
     "output_type": "execute_result"
    }
   ],
   "source": [
    "list(enumerate(a, 1))"
   ]
  },
  {
   "cell_type": "code",
   "execution_count": 137,
   "id": "ad597446-3860-4b12-b5d6-a7ba37db0e13",
   "metadata": {},
   "outputs": [
    {
     "data": {
      "text/plain": [
       "[(1, 10), (2, 20), (3, 30)]"
      ]
     },
     "execution_count": 137,
     "metadata": {},
     "output_type": "execute_result"
    }
   ],
   "source": [
    "list(enumerate(a, start=1))"
   ]
  },
  {
   "cell_type": "code",
   "execution_count": 138,
   "id": "6f32b7de-6b45-4136-b990-8606650fc51c",
   "metadata": {},
   "outputs": [],
   "source": [
    "ordered = ['gaming mouse', 'mechanical keyboard', '4k monitor']\n",
    "received = ['bobcat', 'larger bobcat', 'gigantic bobcat']"
   ]
  },
  {
   "cell_type": "code",
   "execution_count": 139,
   "id": "cc583379-ad28-40fd-a964-9e1148ee9965",
   "metadata": {},
   "outputs": [
    {
     "name": "stdout",
     "output_type": "stream",
     "text": [
      "I ordered a gaming mouse but I got a bobcat instead!\n",
      "I ordered a mechanical keyboard but I got a larger bobcat instead!\n",
      "I ordered a 4k monitor but I got a gigantic bobcat instead!\n"
     ]
    }
   ],
   "source": [
    "# I ordered a ..., but I got a ... instead!\n",
    "for i in range(3):\n",
    "    print(f'I ordered a {ordered[i]} but I got a {received[i]} instead!')"
   ]
  },
  {
   "cell_type": "code",
   "execution_count": 140,
   "id": "7ebdb705-d137-4ce2-a3ed-b40984228584",
   "metadata": {},
   "outputs": [
    {
     "name": "stdout",
     "output_type": "stream",
     "text": [
      "I ordered a gaming mouse but I got a bobcat instead!\n",
      "I ordered a mechanical keyboard but I got a larger bobcat instead!\n",
      "I ordered a 4k monitor but I got a gigantic bobcat instead!\n"
     ]
    }
   ],
   "source": [
    "for order, got in zip(ordered, received):\n",
    "    print(f'I ordered a {order} but I got a {got} instead!')"
   ]
  },
  {
   "cell_type": "code",
   "execution_count": 141,
   "id": "e5a4d751-b3a7-4143-b067-307d6a736f21",
   "metadata": {},
   "outputs": [],
   "source": [
    "grunts = ['Doh!', 'Ow!', 'OOF!']"
   ]
  },
  {
   "cell_type": "code",
   "execution_count": 142,
   "id": "e760fcfd-a7c0-4ab8-938d-906f01110bff",
   "metadata": {},
   "outputs": [
    {
     "name": "stdout",
     "output_type": "stream",
     "text": [
      "Doh! I ordered a gaming mouse but I got a bobcat instead!\n",
      "Ow! I ordered a mechanical keyboard but I got a larger bobcat instead!\n",
      "OOF! I ordered a 4k monitor but I got a gigantic bobcat instead!\n"
     ]
    }
   ],
   "source": [
    "# (grunt) I ordered a ..., but I got a ... instead!\n",
    "for grunt, order, got in zip(grunts, ordered, received):\n",
    "    print(f'{grunt} I ordered a {order} but I got a {got} instead!')"
   ]
  },
  {
   "cell_type": "code",
   "execution_count": 143,
   "id": "e64e9132-cbec-4ce7-a86b-a465b2c43dd1",
   "metadata": {},
   "outputs": [],
   "source": [
    "a = [17, 4, 9, 0, 3, 5, 0]"
   ]
  },
  {
   "cell_type": "code",
   "execution_count": 144,
   "id": "d46e3374-5f27-4953-9451-5535c20da08e",
   "metadata": {},
   "outputs": [
    {
     "data": {
      "text/plain": [
       "True"
      ]
     },
     "execution_count": 144,
     "metadata": {},
     "output_type": "execute_result"
    }
   ],
   "source": [
    "any(a)"
   ]
  },
  {
   "cell_type": "code",
   "execution_count": 145,
   "id": "022fe63e-7d6a-40e8-b894-882d867a59ab",
   "metadata": {},
   "outputs": [],
   "source": [
    "r = range(100)"
   ]
  },
  {
   "cell_type": "code",
   "execution_count": 146,
   "id": "3597f125-9e32-4c1c-9d13-ebb029b7778d",
   "metadata": {},
   "outputs": [
    {
     "data": {
      "text/plain": [
       "True"
      ]
     },
     "execution_count": 146,
     "metadata": {},
     "output_type": "execute_result"
    }
   ],
   "source": [
    "# Is anything in r a multiple of 17\n",
    "any(x for x in r if x % 17 == 0)  # Not correct, 0 is a falsy multiple of 17."
   ]
  },
  {
   "cell_type": "code",
   "execution_count": 147,
   "id": "699958f2-0f5d-4529-95ad-057327edbebc",
   "metadata": {},
   "outputs": [
    {
     "data": {
      "text/plain": [
       "True"
      ]
     },
     "execution_count": 147,
     "metadata": {},
     "output_type": "execute_result"
    }
   ],
   "source": [
    "any(x % 17 == 0 for x in r)"
   ]
  },
  {
   "cell_type": "code",
   "execution_count": 148,
   "id": "7c04e977-8ee7-41a5-81fb-2fd21e762093",
   "metadata": {},
   "outputs": [
    {
     "data": {
      "text/plain": [
       "True"
      ]
     },
     "execution_count": 148,
     "metadata": {},
     "output_type": "execute_result"
    }
   ],
   "source": [
    "any(x % 17 == 0 for x in [0, 17, 34])"
   ]
  },
  {
   "cell_type": "code",
   "execution_count": 149,
   "id": "3b13a75a-a5e5-49c9-a94b-9754f54e23af",
   "metadata": {},
   "outputs": [
    {
     "data": {
      "text/plain": [
       "False"
      ]
     },
     "execution_count": 149,
     "metadata": {},
     "output_type": "execute_result"
    }
   ],
   "source": [
    "any(x for x in [0] if x % 17 == 0)"
   ]
  },
  {
   "cell_type": "code",
   "execution_count": 150,
   "id": "c74604af-31ee-495d-ba18-db0b9662c54e",
   "metadata": {},
   "outputs": [
    {
     "data": {
      "text/plain": [
       "[0, 17, 34, 51, 68, 85]"
      ]
     },
     "execution_count": 150,
     "metadata": {},
     "output_type": "execute_result"
    }
   ],
   "source": [
    "[x for x in r if x % 17 == 0]"
   ]
  },
  {
   "cell_type": "code",
   "execution_count": 151,
   "id": "ffbf862b-67d0-4577-9425-1b6f718848eb",
   "metadata": {},
   "outputs": [
    {
     "data": {
      "text/plain": [
       "False"
      ]
     },
     "execution_count": 151,
     "metadata": {},
     "output_type": "execute_result"
    }
   ],
   "source": [
    "all(x % 17 == 0 for x in r)"
   ]
  },
  {
   "cell_type": "code",
   "execution_count": 152,
   "id": "df7d4448-cc87-4914-be0a-44c14d6aca1b",
   "metadata": {},
   "outputs": [],
   "source": [
    "r2 = range(0, 100, 17)"
   ]
  },
  {
   "cell_type": "code",
   "execution_count": 153,
   "id": "297f8934-9f27-4dcf-b540-611f92f8a9b5",
   "metadata": {},
   "outputs": [
    {
     "data": {
      "text/plain": [
       "True"
      ]
     },
     "execution_count": 153,
     "metadata": {},
     "output_type": "execute_result"
    }
   ],
   "source": [
    "all(x % 17 == 0 for x in r2)"
   ]
  },
  {
   "cell_type": "code",
   "execution_count": 154,
   "id": "eab7bab8-5079-45a9-94e3-9d839f7e1703",
   "metadata": {},
   "outputs": [],
   "source": [
    "grunts = ['Doh!', 'Ow!', 'OOF!']"
   ]
  },
  {
   "cell_type": "code",
   "execution_count": 155,
   "id": "b877192b-d0d3-4e62-a6e0-699083d20191",
   "metadata": {},
   "outputs": [
    {
     "name": "stdout",
     "output_type": "stream",
     "text": [
      "Doh! I ordered a gaming mouse but I got a bobcat instead!\n",
      "Ow! I ordered a mechanical keyboard but I got a larger bobcat instead!\n",
      "OOF! I ordered a 4k monitor but I got a gigantic bobcat instead!\n"
     ]
    }
   ],
   "source": [
    "# (grunt) I ordered a ..., but I got a ... instead!\n",
    "for grunt, order, got in zip(grunts, ordered, received):\n",
    "    print(f'{grunt} I ordered a {order} but I got a {got} instead!')"
   ]
  },
  {
   "cell_type": "code",
   "execution_count": 156,
   "id": "be357d48-0e88-49b5-986c-1c7d4b7f7a1c",
   "metadata": {},
   "outputs": [],
   "source": [
    "received = ['bobcat', 'larger bobcat']"
   ]
  },
  {
   "cell_type": "code",
   "execution_count": 157,
   "id": "b43798bf-f3ea-4326-b3ca-70e08b0a9482",
   "metadata": {},
   "outputs": [
    {
     "name": "stdout",
     "output_type": "stream",
     "text": [
      "Doh! I ordered a gaming mouse but I got a bobcat instead!\n",
      "Ow! I ordered a mechanical keyboard but I got a larger bobcat instead!\n"
     ]
    }
   ],
   "source": [
    "# (grunt) I ordered a ..., but I got a ... instead!\n",
    "for grunt, order, got in zip(grunts, ordered, received):\n",
    "    print(f'{grunt} I ordered a {order} but I got a {got} instead!')"
   ]
  },
  {
   "cell_type": "code",
   "execution_count": 158,
   "id": "7dab5ea5-ad53-4543-9815-d89268d2b8db",
   "metadata": {},
   "outputs": [
    {
     "name": "stdout",
     "output_type": "stream",
     "text": [
      "Help on built-in function max in module builtins:\n",
      "\n",
      "max(...)\n",
      "    max(iterable, *[, default=obj, key=func]) -> value\n",
      "    max(arg1, arg2, *args, *[, key=func]) -> value\n",
      "    \n",
      "    With a single iterable argument, return its biggest item. The\n",
      "    default keyword-only argument specifies an object to return if\n",
      "    the provided iterable is empty.\n",
      "    With two or more arguments, return the largest argument.\n",
      "\n"
     ]
    }
   ],
   "source": [
    "help(max)"
   ]
  },
  {
   "cell_type": "code",
   "execution_count": 159,
   "id": "4d81a1d8-09e7-4692-8517-6c0fcd139a70",
   "metadata": {},
   "outputs": [
    {
     "data": {
      "text/plain": [
       "<zip at 0x135565fd1c0>"
      ]
     },
     "execution_count": 159,
     "metadata": {},
     "output_type": "execute_result"
    }
   ],
   "source": [
    "zip([],[])"
   ]
  },
  {
   "cell_type": "code",
   "execution_count": 160,
   "id": "4ee0b12d-0d99-430b-a835-b0e106284ca2",
   "metadata": {},
   "outputs": [
    {
     "data": {
      "text/plain": [
       "zip"
      ]
     },
     "execution_count": 160,
     "metadata": {},
     "output_type": "execute_result"
    }
   ],
   "source": [
    "type(_)"
   ]
  },
  {
   "cell_type": "code",
   "execution_count": 161,
   "id": "c4f120a8-5400-492f-bab5-a6f2df48e9a8",
   "metadata": {},
   "outputs": [
    {
     "data": {
      "text/plain": [
       "[]"
      ]
     },
     "execution_count": 161,
     "metadata": {},
     "output_type": "execute_result"
    }
   ],
   "source": [
    "list(zip([], []))"
   ]
  },
  {
   "cell_type": "code",
   "execution_count": 162,
   "id": "ee132414-8bd8-4d1a-9bba-284fc26cfd76",
   "metadata": {},
   "outputs": [
    {
     "name": "stdout",
     "output_type": "stream",
     "text": [
      "Help on class zip in module builtins:\n",
      "\n",
      "class zip(object)\n",
      " |  zip(*iterables, strict=False) --> Yield tuples until an input is exhausted.\n",
      " |  \n",
      " |     >>> list(zip('abcdefg', range(3), range(4)))\n",
      " |     [('a', 0, 0), ('b', 1, 1), ('c', 2, 2)]\n",
      " |  \n",
      " |  The zip object yields n-length tuples, where n is the number of iterables\n",
      " |  passed as positional arguments to zip().  The i-th element in every tuple\n",
      " |  comes from the i-th iterable argument to zip().  This continues until the\n",
      " |  shortest argument is exhausted.\n",
      " |  \n",
      " |  If strict is true and one of the arguments is exhausted before the others,\n",
      " |  raise a ValueError.\n",
      " |  \n",
      " |  Methods defined here:\n",
      " |  \n",
      " |  __getattribute__(self, name, /)\n",
      " |      Return getattr(self, name).\n",
      " |  \n",
      " |  __iter__(self, /)\n",
      " |      Implement iter(self).\n",
      " |  \n",
      " |  __next__(self, /)\n",
      " |      Implement next(self).\n",
      " |  \n",
      " |  __reduce__(...)\n",
      " |      Return state information for pickling.\n",
      " |  \n",
      " |  __setstate__(...)\n",
      " |      Set state information for unpickling.\n",
      " |  \n",
      " |  ----------------------------------------------------------------------\n",
      " |  Static methods defined here:\n",
      " |  \n",
      " |  __new__(*args, **kwargs) from builtins.type\n",
      " |      Create and return a new object.  See help(type) for accurate signature.\n",
      "\n"
     ]
    }
   ],
   "source": [
    "help(zip)"
   ]
  },
  {
   "cell_type": "code",
   "execution_count": 163,
   "id": "c5e307ba-c50d-4780-9d08-0ad35bea0de0",
   "metadata": {},
   "outputs": [],
   "source": [
    "l = [0, 1, 2, 3, 4]"
   ]
  },
  {
   "cell_type": "code",
   "execution_count": 177,
   "id": "a8148a3f-c05f-49b5-931d-9fee9dc96d35",
   "metadata": {},
   "outputs": [],
   "source": [
    "it2 = iter(l)"
   ]
  },
  {
   "cell_type": "code",
   "execution_count": 169,
   "id": "af50acd9-37cc-470d-ba9f-b5a7c1f78b75",
   "metadata": {},
   "outputs": [
    {
     "data": {
      "text/plain": [
       "4"
      ]
     },
     "execution_count": 169,
     "metadata": {},
     "output_type": "execute_result"
    }
   ],
   "source": [
    "next(it2)"
   ]
  },
  {
   "cell_type": "code",
   "execution_count": 175,
   "id": "5134a01e-9bfe-4295-9e14-e3c528abfc12",
   "metadata": {},
   "outputs": [],
   "source": [
    "l2 = [it, it2]"
   ]
  },
  {
   "cell_type": "code",
   "execution_count": 180,
   "id": "cb61d88a-6cdd-44d0-aecd-0324f1fb4bcb",
   "metadata": {},
   "outputs": [],
   "source": [
    "list1 = [0, 1, 2, 3, 4, 5]"
   ]
  },
  {
   "cell_type": "code",
   "execution_count": 181,
   "id": "b3c01f78-d97b-4fa3-85f8-01f823d13e50",
   "metadata": {},
   "outputs": [],
   "source": [
    "list2 = [10, 9, 8, 7, 6]"
   ]
  },
  {
   "cell_type": "code",
   "execution_count": 182,
   "id": "c1492b44-6824-491e-88ab-431a6f4fa9f9",
   "metadata": {},
   "outputs": [],
   "source": [
    "it3 = iter(list1)"
   ]
  },
  {
   "cell_type": "code",
   "execution_count": 183,
   "id": "170cfb21-356c-4f72-a209-1ef790a26b07",
   "metadata": {},
   "outputs": [],
   "source": [
    "it4 = iter(list2)"
   ]
  },
  {
   "cell_type": "code",
   "execution_count": 184,
   "id": "96a487a6-ae59-4c04-b0d0-678626f51ddc",
   "metadata": {},
   "outputs": [],
   "source": [
    "iters = [it3, it4]"
   ]
  },
  {
   "cell_type": "code",
   "execution_count": 190,
   "id": "cb55775d-4343-4796-b354-67afccb4d156",
   "metadata": {},
   "outputs": [
    {
     "ename": "RuntimeError",
     "evalue": "generator raised StopIteration",
     "output_type": "error",
     "traceback": [
      "\u001b[1;31m---------------------------------------------------------------------------\u001b[0m",
      "\u001b[1;31mStopIteration\u001b[0m                             Traceback (most recent call last)",
      "Input \u001b[1;32mIn [190]\u001b[0m, in \u001b[0;36m<genexpr>\u001b[1;34m(.0)\u001b[0m\n\u001b[1;32m----> 1\u001b[0m \u001b[38;5;28mtuple\u001b[39m(\u001b[38;5;28;43mnext\u001b[39;49m\u001b[43m(\u001b[49m\u001b[43mx\u001b[49m\u001b[43m)\u001b[49m \u001b[38;5;28;01mfor\u001b[39;00m x \u001b[38;5;129;01min\u001b[39;00m iters)\n",
      "\u001b[1;31mStopIteration\u001b[0m: ",
      "\nThe above exception was the direct cause of the following exception:\n",
      "\u001b[1;31mRuntimeError\u001b[0m                              Traceback (most recent call last)",
      "Input \u001b[1;32mIn [190]\u001b[0m, in \u001b[0;36m<module>\u001b[1;34m\u001b[0m\n\u001b[1;32m----> 1\u001b[0m \u001b[38;5;28;43mtuple\u001b[39;49m\u001b[43m(\u001b[49m\u001b[38;5;28;43mnext\u001b[39;49m\u001b[43m(\u001b[49m\u001b[43mx\u001b[49m\u001b[43m)\u001b[49m\u001b[43m \u001b[49m\u001b[38;5;28;43;01mfor\u001b[39;49;00m\u001b[43m \u001b[49m\u001b[43mx\u001b[49m\u001b[43m \u001b[49m\u001b[38;5;129;43;01min\u001b[39;49;00m\u001b[43m \u001b[49m\u001b[43miters\u001b[49m\u001b[43m)\u001b[49m\n",
      "\u001b[1;31mRuntimeError\u001b[0m: generator raised StopIteration"
     ]
    }
   ],
   "source": [
    "tuple(next(x) for x in iters)  # eventually:  RuntimeError: generator raised StopIteration"
   ]
  },
  {
   "cell_type": "code",
   "execution_count": 195,
   "id": "4215d1fb-04d0-4378-b69a-a500c32f6b98",
   "metadata": {},
   "outputs": [],
   "source": [
    "a = [10, 20, 30]\n",
    "b = [11, 22, 33]\n",
    "c = [111, 222]\n",
    "iterables = [a, b, c]\n",
    "iterators = [iter(arg) for arg in iterables]"
   ]
  },
  {
   "cell_type": "code",
   "execution_count": 196,
   "id": "73e83ea0-06d2-4336-9d4f-584c70c231bf",
   "metadata": {},
   "outputs": [
    {
     "data": {
      "text/plain": [
       "(10, 11, 111)"
      ]
     },
     "execution_count": 196,
     "metadata": {},
     "output_type": "execute_result"
    }
   ],
   "source": [
    "tuple(map(next, iterators))"
   ]
  },
  {
   "cell_type": "code",
   "execution_count": 197,
   "id": "5d74ea15-59e1-4ea4-b0a3-cd3af68bd0d3",
   "metadata": {},
   "outputs": [
    {
     "data": {
      "text/plain": [
       "(20, 22, 222)"
      ]
     },
     "execution_count": 197,
     "metadata": {},
     "output_type": "execute_result"
    }
   ],
   "source": [
    "tuple(map(next, iterators))"
   ]
  },
  {
   "cell_type": "code",
   "execution_count": 198,
   "id": "3d3c654e-7dfd-429b-9de9-f318dbac3df4",
   "metadata": {},
   "outputs": [
    {
     "data": {
      "text/plain": [
       "(30, 33)"
      ]
     },
     "execution_count": 198,
     "metadata": {},
     "output_type": "execute_result"
    }
   ],
   "source": [
    "tuple(map(next, iterators))"
   ]
  },
  {
   "cell_type": "code",
   "execution_count": 199,
   "id": "f1dc1353-a2d9-43cf-b34c-adbe3f9cabac",
   "metadata": {},
   "outputs": [
    {
     "data": {
      "text/plain": [
       "()"
      ]
     },
     "execution_count": 199,
     "metadata": {},
     "output_type": "execute_result"
    }
   ],
   "source": [
    "tuple(map(next, iterators))"
   ]
  },
  {
   "cell_type": "code",
   "execution_count": 200,
   "id": "18ec88b2-52d6-4ddb-9cc3-5b9406af4ea2",
   "metadata": {},
   "outputs": [
    {
     "data": {
      "text/plain": [
       "()"
      ]
     },
     "execution_count": 200,
     "metadata": {},
     "output_type": "execute_result"
    }
   ],
   "source": [
    "tuple(map(next, iterators))"
   ]
  },
  {
   "cell_type": "code",
   "execution_count": 213,
   "id": "5a7b0158-c428-4480-bff5-49d871c605b9",
   "metadata": {},
   "outputs": [],
   "source": [
    "a = [10, 20, 30]\n",
    "b = [11, 22, 33]\n",
    "c = [111, 222, 333]\n",
    "iterables = [a, b, c]\n",
    "iterators = [iter(arg) for arg in iterables]"
   ]
  },
  {
   "cell_type": "code",
   "execution_count": 218,
   "id": "be1b4577-8dfe-4aed-a7a6-cb18c68aff55",
   "metadata": {},
   "outputs": [
    {
     "data": {
      "text/plain": [
       "()"
      ]
     },
     "execution_count": 218,
     "metadata": {},
     "output_type": "execute_result"
    }
   ],
   "source": [
    "tuple(map(next, iterators))"
   ]
  },
  {
   "cell_type": "code",
   "execution_count": 219,
   "id": "7f9ee5bf-8015-49ef-8dcc-f8165223253d",
   "metadata": {},
   "outputs": [],
   "source": [
    "def my_zip(*iterables):\n",
    "    iterators = []\n",
    "    for arg in iterables:\n",
    "        iterators.append(iter(arg))\n",
    "\n",
    "    while True:\n",
    "        try:\n",
    "            return tuple(map(next, iterators))  # This should be yield, not return!\n",
    "        except StopIteration:\n",
    "            return"
   ]
  },
  {
   "cell_type": "code",
   "execution_count": 220,
   "id": "7372714a-40f1-4257-91b1-d5434e156b15",
   "metadata": {},
   "outputs": [
    {
     "ename": "ValueError",
     "evalue": "too many values to unpack (expected 2)",
     "output_type": "error",
     "traceback": [
      "\u001b[1;31m---------------------------------------------------------------------------\u001b[0m",
      "\u001b[1;31mValueError\u001b[0m                                Traceback (most recent call last)",
      "Input \u001b[1;32mIn [220]\u001b[0m, in \u001b[0;36m<module>\u001b[1;34m\u001b[0m\n\u001b[0;32m      1\u001b[0m ordered \u001b[38;5;241m=\u001b[39m [\u001b[38;5;124m'\u001b[39m\u001b[38;5;124mgaming mouse\u001b[39m\u001b[38;5;124m'\u001b[39m, \u001b[38;5;124m'\u001b[39m\u001b[38;5;124mmechanical keyboard\u001b[39m\u001b[38;5;124m'\u001b[39m, \u001b[38;5;124m'\u001b[39m\u001b[38;5;124m4k monitor\u001b[39m\u001b[38;5;124m'\u001b[39m]\n\u001b[0;32m      2\u001b[0m received \u001b[38;5;241m=\u001b[39m [\u001b[38;5;124m'\u001b[39m\u001b[38;5;124mbobcat\u001b[39m\u001b[38;5;124m'\u001b[39m, \u001b[38;5;124m'\u001b[39m\u001b[38;5;124mlarger bobcat\u001b[39m\u001b[38;5;124m'\u001b[39m, \u001b[38;5;124m'\u001b[39m\u001b[38;5;124mgigantic bobcat\u001b[39m\u001b[38;5;124m'\u001b[39m]\n\u001b[1;32m----> 4\u001b[0m \u001b[38;5;28;01mfor\u001b[39;00m order, got \u001b[38;5;129;01min\u001b[39;00m my_zip(ordered, received):\n\u001b[0;32m      5\u001b[0m     \u001b[38;5;28mprint\u001b[39m(\u001b[38;5;124mf\u001b[39m\u001b[38;5;124m'\u001b[39m\u001b[38;5;124mI ordered a \u001b[39m\u001b[38;5;132;01m{\u001b[39;00morder\u001b[38;5;132;01m}\u001b[39;00m\u001b[38;5;124m but I got a \u001b[39m\u001b[38;5;132;01m{\u001b[39;00mgot\u001b[38;5;132;01m}\u001b[39;00m\u001b[38;5;124m instead!\u001b[39m\u001b[38;5;124m'\u001b[39m)\n",
      "\u001b[1;31mValueError\u001b[0m: too many values to unpack (expected 2)"
     ]
    }
   ],
   "source": [
    "ordered = ['gaming mouse', 'mechanical keyboard', '4k monitor']\n",
    "received = ['bobcat', 'larger bobcat', 'gigantic bobcat']\n",
    "\n",
    "for order, got in my_zip(ordered, received):\n",
    "    print(f'I ordered a {order} but I got a {got} instead!')"
   ]
  },
  {
   "cell_type": "code",
   "execution_count": 221,
   "id": "9020a052-30db-4d34-9780-d9cbbaff2b1c",
   "metadata": {},
   "outputs": [
    {
     "ename": "ValueError",
     "evalue": "too many values to unpack (expected 2)",
     "output_type": "error",
     "traceback": [
      "\u001b[1;31m---------------------------------------------------------------------------\u001b[0m",
      "\u001b[1;31mValueError\u001b[0m                                Traceback (most recent call last)",
      "Input \u001b[1;32mIn [221]\u001b[0m, in \u001b[0;36m<module>\u001b[1;34m\u001b[0m\n\u001b[1;32m----> 1\u001b[0m x, y \u001b[38;5;241m=\u001b[39m \u001b[38;5;241m10\u001b[39m, \u001b[38;5;241m20\u001b[39m, \u001b[38;5;241m30\u001b[39m\n",
      "\u001b[1;31mValueError\u001b[0m: too many values to unpack (expected 2)"
     ]
    }
   ],
   "source": [
    "x, y = 10, 20, 30"
   ]
  },
  {
   "cell_type": "code",
   "execution_count": 225,
   "id": "936aed86-8909-4205-9e7a-2219af02b275",
   "metadata": {},
   "outputs": [
    {
     "name": "stdout",
     "output_type": "stream",
     "text": [
      "(item == \"gaming mouse\") = True\n"
     ]
    },
    {
     "ename": "ValueError",
     "evalue": "too many values to unpack (expected 2)",
     "output_type": "error",
     "traceback": [
      "\u001b[1;31m---------------------------------------------------------------------------\u001b[0m",
      "\u001b[1;31mValueError\u001b[0m                                Traceback (most recent call last)",
      "Input \u001b[1;32mIn [225]\u001b[0m, in \u001b[0;36m<module>\u001b[1;34m\u001b[0m\n\u001b[0;32m      4\u001b[0m \u001b[38;5;28;01mfor\u001b[39;00m item \u001b[38;5;129;01min\u001b[39;00m my_zip(ordered, received):\n\u001b[0;32m      5\u001b[0m     \u001b[38;5;28mprint\u001b[39m(\u001b[38;5;124mf\u001b[39m\u001b[38;5;124m'\u001b[39m\u001b[38;5;132;01m{\u001b[39;00m(item \u001b[38;5;241m==\u001b[39m \u001b[38;5;124m\"\u001b[39m\u001b[38;5;124mgaming mouse\u001b[39m\u001b[38;5;124m\"\u001b[39m) \u001b[38;5;132;01m= }\u001b[39;00m\u001b[38;5;124m'\u001b[39m)\n\u001b[1;32m----> 6\u001b[0m     order, got \u001b[38;5;241m=\u001b[39m item\n\u001b[0;32m      7\u001b[0m     \u001b[38;5;28mprint\u001b[39m(\u001b[38;5;124mf\u001b[39m\u001b[38;5;124m'\u001b[39m\u001b[38;5;124mI ordered a \u001b[39m\u001b[38;5;132;01m{\u001b[39;00morder\u001b[38;5;132;01m}\u001b[39;00m\u001b[38;5;124m but I got a \u001b[39m\u001b[38;5;132;01m{\u001b[39;00mgot\u001b[38;5;132;01m}\u001b[39;00m\u001b[38;5;124m instead!\u001b[39m\u001b[38;5;124m'\u001b[39m)\n",
      "\u001b[1;31mValueError\u001b[0m: too many values to unpack (expected 2)"
     ]
    }
   ],
   "source": [
    "ordered = ['gaming mouse', 'mechanical keyboard', '4k monitor']\n",
    "received = ['bobcat', 'larger bobcat', 'gigantic bobcat']\n",
    "\n",
    "for item in my_zip(ordered, received):\n",
    "    print(f'{(item == \"gaming mouse\") = }')\n",
    "    order, got = item\n",
    "    print(f'I ordered a {order} but I got a {got} instead!')"
   ]
  },
  {
   "cell_type": "code",
   "execution_count": 226,
   "id": "e4b6bcba-28aa-4f97-83a8-05edeaf0a816",
   "metadata": {},
   "outputs": [],
   "source": [
    "def my_zip(*iterables):\n",
    "    iterators = []\n",
    "    for arg in iterables:\n",
    "        iterators.append(iter(arg))\n",
    "\n",
    "    while True:\n",
    "        try:\n",
    "            yield tuple(map(next, iterators))\n",
    "        except StopIteration:\n",
    "            return"
   ]
  },
  {
   "cell_type": "code",
   "execution_count": 227,
   "id": "cd6966a3-b927-4884-906d-8b072ba0ebe4",
   "metadata": {},
   "outputs": [
    {
     "name": "stdout",
     "output_type": "stream",
     "text": [
      "I ordered a gaming mouse but I got a bobcat instead!\n",
      "I ordered a mechanical keyboard but I got a larger bobcat instead!\n",
      "I ordered a 4k monitor but I got a gigantic bobcat instead!\n"
     ]
    },
    {
     "ename": "ValueError",
     "evalue": "not enough values to unpack (expected 2, got 0)",
     "output_type": "error",
     "traceback": [
      "\u001b[1;31m---------------------------------------------------------------------------\u001b[0m",
      "\u001b[1;31mValueError\u001b[0m                                Traceback (most recent call last)",
      "Input \u001b[1;32mIn [227]\u001b[0m, in \u001b[0;36m<module>\u001b[1;34m\u001b[0m\n\u001b[0;32m      1\u001b[0m ordered \u001b[38;5;241m=\u001b[39m [\u001b[38;5;124m'\u001b[39m\u001b[38;5;124mgaming mouse\u001b[39m\u001b[38;5;124m'\u001b[39m, \u001b[38;5;124m'\u001b[39m\u001b[38;5;124mmechanical keyboard\u001b[39m\u001b[38;5;124m'\u001b[39m, \u001b[38;5;124m'\u001b[39m\u001b[38;5;124m4k monitor\u001b[39m\u001b[38;5;124m'\u001b[39m]\n\u001b[0;32m      2\u001b[0m received \u001b[38;5;241m=\u001b[39m [\u001b[38;5;124m'\u001b[39m\u001b[38;5;124mbobcat\u001b[39m\u001b[38;5;124m'\u001b[39m, \u001b[38;5;124m'\u001b[39m\u001b[38;5;124mlarger bobcat\u001b[39m\u001b[38;5;124m'\u001b[39m, \u001b[38;5;124m'\u001b[39m\u001b[38;5;124mgigantic bobcat\u001b[39m\u001b[38;5;124m'\u001b[39m]\n\u001b[1;32m----> 4\u001b[0m \u001b[38;5;28;01mfor\u001b[39;00m order, got \u001b[38;5;129;01min\u001b[39;00m my_zip(ordered, received):\n\u001b[0;32m      5\u001b[0m     \u001b[38;5;28mprint\u001b[39m(\u001b[38;5;124mf\u001b[39m\u001b[38;5;124m'\u001b[39m\u001b[38;5;124mI ordered a \u001b[39m\u001b[38;5;132;01m{\u001b[39;00morder\u001b[38;5;132;01m}\u001b[39;00m\u001b[38;5;124m but I got a \u001b[39m\u001b[38;5;132;01m{\u001b[39;00mgot\u001b[38;5;132;01m}\u001b[39;00m\u001b[38;5;124m instead!\u001b[39m\u001b[38;5;124m'\u001b[39m)\n",
      "\u001b[1;31mValueError\u001b[0m: not enough values to unpack (expected 2, got 0)"
     ]
    }
   ],
   "source": [
    "ordered = ['gaming mouse', 'mechanical keyboard', '4k monitor']\n",
    "received = ['bobcat', 'larger bobcat', 'gigantic bobcat']\n",
    "\n",
    "for order, got in my_zip(ordered, received):\n",
    "    print(f'I ordered a {order} but I got a {got} instead!')"
   ]
  },
  {
   "cell_type": "code",
   "execution_count": null,
   "id": "52e95065-5574-494d-b215-b1157e7cfa00",
   "metadata": {},
   "outputs": [],
   "source": []
  }
 ],
 "metadata": {
  "kernelspec": {
   "display_name": "Python 3 (ipykernel)",
   "language": "python",
   "name": "python3"
  },
  "language_info": {
   "codemirror_mode": {
    "name": "ipython",
    "version": 3
   },
   "file_extension": ".py",
   "mimetype": "text/x-python",
   "name": "python",
   "nbconvert_exporter": "python",
   "pygments_lexer": "ipython3",
   "version": "3.10.2"
  }
 },
 "nbformat": 4,
 "nbformat_minor": 5
}
