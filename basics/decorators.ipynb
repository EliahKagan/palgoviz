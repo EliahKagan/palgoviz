{
 "cells": [
  {
   "cell_type": "markdown",
   "id": "eae43fec-0ecb-4f3c-88ff-129632395607",
   "metadata": {},
   "source": [
    "# Decorators"
   ]
  },
  {
   "cell_type": "code",
   "execution_count": 1,
   "id": "573245e5-cabc-4b89-82b5-bbf85cc4b3fb",
   "metadata": {},
   "outputs": [],
   "source": [
    "def square(n):\n",
    "    return n**2"
   ]
  },
  {
   "cell_type": "code",
   "execution_count": 2,
   "id": "4d0d75a3-5a7f-4d90-a1cc-87ac646ade03",
   "metadata": {},
   "outputs": [],
   "source": [
    "def wrapper(n):\n",
    "    print(f'{square.__name__}({n})')\n",
    "    return square(n)"
   ]
  },
  {
   "cell_type": "code",
   "execution_count": 3,
   "id": "a30da17d-618f-4fbe-bef1-6f44ccb05870",
   "metadata": {},
   "outputs": [
    {
     "name": "stdout",
     "output_type": "stream",
     "text": [
      "square(3)\n"
     ]
    },
    {
     "data": {
      "text/plain": [
       "9"
      ]
     },
     "execution_count": 3,
     "metadata": {},
     "output_type": "execute_result"
    }
   ],
   "source": [
    "wrapper(3)"
   ]
  },
  {
   "cell_type": "code",
   "execution_count": 4,
   "id": "da6daae2-1304-4c0d-9386-e778c091805b",
   "metadata": {},
   "outputs": [],
   "source": [
    "from decorators import peek_arg"
   ]
  },
  {
   "cell_type": "code",
   "execution_count": 5,
   "id": "1535af05-4d46-4f16-85b2-2c51e700a754",
   "metadata": {},
   "outputs": [],
   "source": [
    "psquare = peek_arg(square)"
   ]
  },
  {
   "cell_type": "code",
   "execution_count": 6,
   "id": "163a0cfb-6d28-4531-8298-3a492f093577",
   "metadata": {},
   "outputs": [
    {
     "name": "stdout",
     "output_type": "stream",
     "text": [
      "square(0)\n",
      "square(1)\n",
      "square(2)\n",
      "square(3)\n",
      "square(4)\n"
     ]
    },
    {
     "data": {
      "text/plain": [
       "[0, 1, 4, 9, 16]"
      ]
     },
     "execution_count": 6,
     "metadata": {},
     "output_type": "execute_result"
    }
   ],
   "source": [
    "# List comprehension of the squares of 0 through 4 (inclusive).\n",
    "# Use psquare in the list comprehension. This will have the side effect\n",
    "# of printing information about the five calls to square.\n",
    "[psquare(x) for x in range(5)]"
   ]
  },
  {
   "cell_type": "code",
   "execution_count": 7,
   "id": "076071da-55c8-4f0b-8446-aa3f36ea14ec",
   "metadata": {},
   "outputs": [],
   "source": [
    "def fibonacci(n):\n",
    "    \"\"\"Compute the Fibonacci number F(n).\"\"\"\n",
    "    if n == 0:\n",
    "        return 0\n",
    "    if n == 1:\n",
    "        return 1\n",
    "    return fibonacci(n - 1) + fibonacci(n - 2)"
   ]
  },
  {
   "cell_type": "code",
   "execution_count": 8,
   "id": "2287ec2d-eb16-4035-b0d7-4cc231618abe",
   "metadata": {},
   "outputs": [],
   "source": [
    "pfibonacci = peek_arg(fibonacci)"
   ]
  },
  {
   "cell_type": "code",
   "execution_count": 9,
   "id": "50e691e8-bad1-4d7f-ac94-c574e18d0c8c",
   "metadata": {},
   "outputs": [
    {
     "name": "stdout",
     "output_type": "stream",
     "text": [
      "fibonacci(4)\n"
     ]
    },
    {
     "data": {
      "text/plain": [
       "3"
      ]
     },
     "execution_count": 9,
     "metadata": {},
     "output_type": "execute_result"
    }
   ],
   "source": [
    "pfibonacci(4)"
   ]
  },
  {
   "cell_type": "code",
   "execution_count": 10,
   "id": "c24373ce-f9ca-4cf5-a1a4-128c6e1ba833",
   "metadata": {},
   "outputs": [],
   "source": [
    "square = peek_arg(square)"
   ]
  },
  {
   "cell_type": "code",
   "execution_count": 11,
   "id": "17606508-57d2-496d-83e1-191278107dbb",
   "metadata": {},
   "outputs": [
    {
     "name": "stdout",
     "output_type": "stream",
     "text": [
      "square(0)\n",
      "square(1)\n",
      "square(2)\n",
      "square(3)\n",
      "square(4)\n"
     ]
    },
    {
     "data": {
      "text/plain": [
       "[0, 1, 4, 9, 16]"
      ]
     },
     "execution_count": 11,
     "metadata": {},
     "output_type": "execute_result"
    }
   ],
   "source": [
    "[square(x) for x in range(5)]"
   ]
  },
  {
   "cell_type": "code",
   "execution_count": 12,
   "id": "76556f03-3590-42fa-a8a9-79234380eba5",
   "metadata": {},
   "outputs": [],
   "source": [
    "fibonacci = peek_arg(fibonacci)"
   ]
  },
  {
   "cell_type": "code",
   "execution_count": 13,
   "id": "e5df679c-54b2-461d-91ff-12d91777920d",
   "metadata": {},
   "outputs": [
    {
     "name": "stdout",
     "output_type": "stream",
     "text": [
      "fibonacci(4)\n",
      "fibonacci(3)\n",
      "fibonacci(2)\n",
      "fibonacci(1)\n",
      "fibonacci(0)\n",
      "fibonacci(1)\n",
      "fibonacci(2)\n",
      "fibonacci(1)\n",
      "fibonacci(0)\n"
     ]
    },
    {
     "data": {
      "text/plain": [
       "3"
      ]
     },
     "execution_count": 13,
     "metadata": {},
     "output_type": "execute_result"
    }
   ],
   "source": [
    "fibonacci(4)"
   ]
  },
  {
   "cell_type": "code",
   "execution_count": 14,
   "id": "9e10aeef-ebb0-45bd-80e4-55668f6eeac9",
   "metadata": {},
   "outputs": [],
   "source": [
    "# Just for clarity. None of the del statements in this notebook are necessary.\n",
    "del square\n",
    "del fibonacci"
   ]
  },
  {
   "cell_type": "code",
   "execution_count": 15,
   "id": "85af40b7-7051-44fa-8781-c3ac336cbef5",
   "metadata": {},
   "outputs": [],
   "source": [
    "@peek_arg\n",
    "def square(n):\n",
    "    return n**2"
   ]
  },
  {
   "cell_type": "code",
   "execution_count": 16,
   "id": "c2fc13a7-3010-4ba0-a51c-6a4f05b0e3c9",
   "metadata": {},
   "outputs": [
    {
     "name": "stdout",
     "output_type": "stream",
     "text": [
      "square(7)\n"
     ]
    },
    {
     "data": {
      "text/plain": [
       "49"
      ]
     },
     "execution_count": 16,
     "metadata": {},
     "output_type": "execute_result"
    }
   ],
   "source": [
    "square(7)"
   ]
  },
  {
   "cell_type": "code",
   "execution_count": 17,
   "id": "345f88a2-cb16-43b7-9dc9-07b39e0f6294",
   "metadata": {},
   "outputs": [],
   "source": [
    "@peek_arg\n",
    "def fibonacci(n):\n",
    "    \"\"\"Compute the Fibonacci number F(n).\"\"\"\n",
    "    if n == 0:\n",
    "        return 0\n",
    "    if n == 1:\n",
    "        return 1\n",
    "    return fibonacci(n - 1) + fibonacci(n - 2)"
   ]
  },
  {
   "cell_type": "code",
   "execution_count": 18,
   "id": "2491642f-7896-4233-b9e0-15b1af9a2200",
   "metadata": {},
   "outputs": [
    {
     "name": "stdout",
     "output_type": "stream",
     "text": [
      "fibonacci(4)\n",
      "fibonacci(3)\n",
      "fibonacci(2)\n",
      "fibonacci(1)\n",
      "fibonacci(0)\n",
      "fibonacci(1)\n",
      "fibonacci(2)\n",
      "fibonacci(1)\n",
      "fibonacci(0)\n"
     ]
    },
    {
     "data": {
      "text/plain": [
       "3"
      ]
     },
     "execution_count": 18,
     "metadata": {},
     "output_type": "execute_result"
    }
   ],
   "source": [
    "fibonacci(4)"
   ]
  },
  {
   "cell_type": "code",
   "execution_count": 19,
   "id": "6d5b89ce-5ec1-4c36-bb95-a6b6df7a032b",
   "metadata": {},
   "outputs": [
    {
     "name": "stdout",
     "output_type": "stream",
     "text": [
      "fibonacci(4)\n",
      "fibonacci(3)\n",
      "fibonacci(2)\n",
      "fibonacci(1)\n",
      "fibonacci(0)\n",
      "fibonacci(1)\n",
      "fibonacci(2)\n",
      "fibonacci(1)\n",
      "fibonacci(0)\n"
     ]
    }
   ],
   "source": [
    "def use_locally(f):\n",
    "    fibonacci = 'famous Italian mathematician'\n",
    "    f(4)\n",
    "\n",
    "use_locally(fibonacci)"
   ]
  },
  {
   "cell_type": "code",
   "execution_count": 20,
   "id": "f89cee55-4628-4e0b-860a-7adf4e97ab7a",
   "metadata": {},
   "outputs": [
    {
     "name": "stdout",
     "output_type": "stream",
     "text": [
      "sq(0)\n",
      "sq(1)\n",
      "sq(2)\n",
      "sq(3)\n",
      "sq(4)\n",
      "[0, 1, 4, 9, 16]\n",
      "\n",
      "fib(4)\n",
      "fib(3)\n",
      "fib(2)\n",
      "fib(1)\n",
      "fib(0)\n",
      "fib(1)\n",
      "fib(2)\n",
      "fib(1)\n",
      "fib(0)\n",
      "3\n",
      "\n",
      "fib(4)\n",
      "fib(3)\n",
      "fib(2)\n",
      "fib(1)\n",
      "fib(0)\n",
      "fib(1)\n",
      "fib(2)\n",
      "fib(1)\n",
      "fib(0)\n"
     ]
    }
   ],
   "source": [
    "def define_and_use_locally():\n",
    "    @peek_arg\n",
    "    def sq(n):\n",
    "        return n**2\n",
    "    \n",
    "    @peek_arg\n",
    "    def fib(n):\n",
    "        if n == 0:\n",
    "            return 0\n",
    "        if n == 1:\n",
    "            return 1\n",
    "        return fib(n - 1) + fib(n - 2)\n",
    "    \n",
    "    print([sq(x) for x in range(5)])\n",
    "    print()\n",
    "    print(fib(4))\n",
    "    print()\n",
    "    use_locally(fib)\n",
    "\n",
    "define_and_use_locally()"
   ]
  },
  {
   "cell_type": "code",
   "execution_count": 21,
   "id": "f07dcb6d-db5a-42d1-92ba-6675a7f8c176",
   "metadata": {},
   "outputs": [],
   "source": [
    "from decorators import call"
   ]
  },
  {
   "cell_type": "code",
   "execution_count": 22,
   "id": "26edcb70-dacb-412f-8bff-488a3b62dd4d",
   "metadata": {},
   "outputs": [
    {
     "name": "stdout",
     "output_type": "stream",
     "text": [
      "Hi, world!\n"
     ]
    }
   ],
   "source": [
    "@call\n",
    "def hi():\n",
    "    print('Hi, world!')"
   ]
  },
  {
   "cell_type": "code",
   "execution_count": 23,
   "id": "0e025e63-49bb-4b20-9363-ed48152e9896",
   "metadata": {},
   "outputs": [
    {
     "name": "stdout",
     "output_type": "stream",
     "text": [
      "Hi, world!\n"
     ]
    }
   ],
   "source": [
    "hi()"
   ]
  },
  {
   "cell_type": "code",
   "execution_count": 24,
   "id": "eab6a393-7de3-42c6-832e-77a9d19ac6c2",
   "metadata": {},
   "outputs": [
    {
     "name": "stdout",
     "output_type": "stream",
     "text": [
      "sq(0)\n",
      "sq(1)\n",
      "sq(2)\n",
      "sq(3)\n",
      "sq(4)\n",
      "[0, 1, 4, 9, 16]\n",
      "\n",
      "fib(4)\n",
      "fib(3)\n",
      "fib(2)\n",
      "fib(1)\n",
      "fib(0)\n",
      "fib(1)\n",
      "fib(2)\n",
      "fib(1)\n",
      "fib(0)\n",
      "3\n",
      "\n",
      "fib(4)\n",
      "fib(3)\n",
      "fib(2)\n",
      "fib(1)\n",
      "fib(0)\n",
      "fib(1)\n",
      "fib(2)\n",
      "fib(1)\n",
      "fib(0)\n"
     ]
    }
   ],
   "source": [
    "@call\n",
    "def define_and_use_locally():\n",
    "    @peek_arg\n",
    "    def sq(n):\n",
    "        return n**2\n",
    "    \n",
    "    @peek_arg\n",
    "    def fib(n):\n",
    "        if n == 0:\n",
    "            return 0\n",
    "        if n == 1:\n",
    "            return 1\n",
    "        return fib(n - 1) + fib(n - 2)\n",
    "    \n",
    "    print([sq(x) for x in range(5)])\n",
    "    print()\n",
    "    print(fib(4))\n",
    "    print()\n",
    "    use_locally(fib)"
   ]
  },
  {
   "cell_type": "code",
   "execution_count": 25,
   "id": "ddd6fc72-bb54-43c6-afd8-95c0bf8b61f3",
   "metadata": {},
   "outputs": [],
   "source": [
    "from decorators import peek_return"
   ]
  },
  {
   "cell_type": "code",
   "execution_count": 26,
   "id": "285b5b60-f21d-47e1-a189-5b504c171e1f",
   "metadata": {},
   "outputs": [],
   "source": [
    "@peek_return\n",
    "@peek_arg\n",
    "def fibonacci(n):\n",
    "    \"\"\"Compute the Fibonacci number F(n).\"\"\"\n",
    "    if n == 0:\n",
    "        return 0\n",
    "    if n == 1:\n",
    "        return 1\n",
    "    return fibonacci(n - 1) + fibonacci(n - 2)"
   ]
  },
  {
   "cell_type": "code",
   "execution_count": 27,
   "id": "9362ce48-1d3a-4844-8cad-88e5d3e74a9c",
   "metadata": {},
   "outputs": [
    {
     "name": "stdout",
     "output_type": "stream",
     "text": [
      "fibonacci(5)\n",
      "fibonacci(4)\n",
      "fibonacci(3)\n",
      "fibonacci(2)\n",
      "fibonacci(1)\n",
      "fibonacci(1) -> 1\n",
      "fibonacci(0)\n",
      "fibonacci(0) -> 0\n",
      "fibonacci(2) -> 1\n",
      "fibonacci(1)\n",
      "fibonacci(1) -> 1\n",
      "fibonacci(3) -> 2\n",
      "fibonacci(2)\n",
      "fibonacci(1)\n",
      "fibonacci(1) -> 1\n",
      "fibonacci(0)\n",
      "fibonacci(0) -> 0\n",
      "fibonacci(2) -> 1\n",
      "fibonacci(4) -> 3\n",
      "fibonacci(3)\n",
      "fibonacci(2)\n",
      "fibonacci(1)\n",
      "fibonacci(1) -> 1\n",
      "fibonacci(0)\n",
      "fibonacci(0) -> 0\n",
      "fibonacci(2) -> 1\n",
      "fibonacci(1)\n",
      "fibonacci(1) -> 1\n",
      "fibonacci(3) -> 2\n",
      "fibonacci(5) -> 5\n"
     ]
    },
    {
     "data": {
      "text/plain": [
       "5"
      ]
     },
     "execution_count": 27,
     "metadata": {},
     "output_type": "execute_result"
    }
   ],
   "source": [
    "fibonacci(5)"
   ]
  },
  {
   "cell_type": "code",
   "execution_count": 28,
   "id": "c0723b34-9ac7-474e-8b35-5c95c3b7477f",
   "metadata": {},
   "outputs": [],
   "source": [
    "@peek_arg\n",
    "@peek_return\n",
    "def fibonacci(n):\n",
    "    \"\"\"Compute the Fibonacci number F(n).\"\"\"\n",
    "    if n == 0:\n",
    "        return 0\n",
    "    if n == 1:\n",
    "        return 1\n",
    "    return fibonacci(n - 1) + fibonacci(n - 2)"
   ]
  },
  {
   "cell_type": "code",
   "execution_count": 29,
   "id": "181749f3-835e-44b1-9718-8668592452b2",
   "metadata": {},
   "outputs": [
    {
     "name": "stdout",
     "output_type": "stream",
     "text": [
      "fibonacci(5)\n",
      "fibonacci(4)\n",
      "fibonacci(3)\n",
      "fibonacci(2)\n",
      "fibonacci(1)\n",
      "fibonacci(1) -> 1\n",
      "fibonacci(0)\n",
      "fibonacci(0) -> 0\n",
      "fibonacci(2) -> 1\n",
      "fibonacci(1)\n",
      "fibonacci(1) -> 1\n",
      "fibonacci(3) -> 2\n",
      "fibonacci(2)\n",
      "fibonacci(1)\n",
      "fibonacci(1) -> 1\n",
      "fibonacci(0)\n",
      "fibonacci(0) -> 0\n",
      "fibonacci(2) -> 1\n",
      "fibonacci(4) -> 3\n",
      "fibonacci(3)\n",
      "fibonacci(2)\n",
      "fibonacci(1)\n",
      "fibonacci(1) -> 1\n",
      "fibonacci(0)\n",
      "fibonacci(0) -> 0\n",
      "fibonacci(2) -> 1\n",
      "fibonacci(1)\n",
      "fibonacci(1) -> 1\n",
      "fibonacci(3) -> 2\n",
      "fibonacci(5) -> 5\n"
     ]
    },
    {
     "data": {
      "text/plain": [
       "5"
      ]
     },
     "execution_count": 29,
     "metadata": {},
     "output_type": "execute_result"
    }
   ],
   "source": [
    "fibonacci(5)"
   ]
  },
  {
   "cell_type": "markdown",
   "id": "edef337e-fd67-4994-8868-1527d6f83e9b",
   "metadata": {},
   "source": [
    "#### Old *to-do*s and their resolutions:\n",
    "\n",
    "Fix the problem with `wrapper` being the `__name__` (and other attributes):\n",
    "\n",
    "- `@decorators.give_metadata_from` (exercise)\n",
    "- `@functools.wraps` (to usually use)\n",
    "\n",
    "Elucidate the connection to memoization:\n",
    "\n",
    "- `@decorators.memoize` (exercise):\n",
    "- `@decorators.memoize_by` (exercise + useful)\n",
    "- `@functools.cache` (to usually use)"
   ]
  },
  {
   "cell_type": "code",
   "execution_count": 30,
   "id": "b96ec4fb-9693-4c77-8859-0a9d14df1163",
   "metadata": {},
   "outputs": [],
   "source": [
    "from decorators import thrice"
   ]
  },
  {
   "cell_type": "code",
   "execution_count": 31,
   "id": "60b38d0e-ec5a-4ba9-9e10-530969147c94",
   "metadata": {},
   "outputs": [
    {
     "name": "stdout",
     "output_type": "stream",
     "text": [
      "Hi!\n",
      "Hi!\n",
      "Hi!\n"
     ]
    }
   ],
   "source": [
    "@call\n",
    "@thrice\n",
    "def hi():\n",
    "    print('Hi!')"
   ]
  },
  {
   "cell_type": "code",
   "execution_count": 32,
   "id": "3af77c86-e24c-4aea-a98f-4444a3ab565c",
   "metadata": {},
   "outputs": [
    {
     "name": "stdout",
     "output_type": "stream",
     "text": [
      "Hi!\n"
     ]
    }
   ],
   "source": [
    "@thrice\n",
    "@call\n",
    "def hi():\n",
    "    print('Hi!')"
   ]
  },
  {
   "cell_type": "code",
   "execution_count": 33,
   "id": "b19ad3f7-67ea-4ea6-bf74-c9653e0a074f",
   "metadata": {},
   "outputs": [
    {
     "name": "stdout",
     "output_type": "stream",
     "text": [
      "Hi!\n",
      "Hi!\n",
      "Hi!\n"
     ]
    }
   ],
   "source": [
    "hi()"
   ]
  },
  {
   "cell_type": "code",
   "execution_count": 34,
   "id": "1b174c60-0777-4d90-8f0b-d31e42eb0a2d",
   "metadata": {},
   "outputs": [],
   "source": [
    "from decorators import repeat"
   ]
  },
  {
   "cell_type": "code",
   "execution_count": 35,
   "id": "06692e01-3540-4599-9241-aeefe92f91bf",
   "metadata": {},
   "outputs": [
    {
     "name": "stdout",
     "output_type": "stream",
     "text": [
      "I am the law!\n",
      "I am the law!\n",
      "I am the law!\n",
      "I am the law!\n",
      "I am the law!\n",
      "I am the law!\n",
      "I am the law!\n",
      "I am the law!\n",
      "I am the law!\n"
     ]
    }
   ],
   "source": [
    "@call\n",
    "@repeat(9)\n",
    "def scotus():\n",
    "    print('I am the law!')"
   ]
  },
  {
   "cell_type": "code",
   "execution_count": 36,
   "id": "ff511048-ba3c-4236-a0fe-f973cad5f906",
   "metadata": {},
   "outputs": [],
   "source": [
    "def f():\n",
    "    \"\"\"A function that does nothing interesting.\"\"\"\n",
    "    pass"
   ]
  },
  {
   "cell_type": "code",
   "execution_count": 37,
   "id": "61dc720f-57ba-4429-9d82-d63bbf48f551",
   "metadata": {},
   "outputs": [
    {
     "name": "stdout",
     "output_type": "stream",
     "text": [
      "Help on function f in module __main__:\n",
      "\n",
      "f()\n",
      "    A function that does nothing interesting.\n",
      "\n"
     ]
    }
   ],
   "source": [
    "help(f)"
   ]
  },
  {
   "cell_type": "code",
   "execution_count": 38,
   "id": "7d124977-c2e4-45e5-8bcd-7080cadd8aa1",
   "metadata": {},
   "outputs": [
    {
     "data": {
      "text/plain": [
       "'A function that does nothing interesting.'"
      ]
     },
     "execution_count": 38,
     "metadata": {},
     "output_type": "execute_result"
    }
   ],
   "source": [
    "f.__doc__"
   ]
  },
  {
   "cell_type": "code",
   "execution_count": 39,
   "id": "7d7e5c22-a64f-4f8d-a48a-f24de77dc350",
   "metadata": {},
   "outputs": [],
   "source": [
    "@peek_return\n",
    "def g():\n",
    "    \"\"\"Another function that does nothing interesting.\"\"\"\n",
    "    pass"
   ]
  },
  {
   "cell_type": "code",
   "execution_count": 40,
   "id": "9b9e05d6-26c6-4c66-82df-c1ec02c43e32",
   "metadata": {},
   "outputs": [
    {
     "name": "stdout",
     "output_type": "stream",
     "text": [
      "Help on function g in module __main__:\n",
      "\n",
      "g(arg)\n",
      "    Another function that does nothing interesting.\n",
      "\n"
     ]
    }
   ],
   "source": [
    "help(g)"
   ]
  },
  {
   "cell_type": "code",
   "execution_count": 41,
   "id": "c32c5511-4edd-4c6d-b596-6cbc84b363ba",
   "metadata": {},
   "outputs": [
    {
     "data": {
      "text/plain": [
       "'Another function that does nothing interesting.'"
      ]
     },
     "execution_count": 41,
     "metadata": {},
     "output_type": "execute_result"
    }
   ],
   "source": [
    "g.__doc__"
   ]
  },
  {
   "cell_type": "code",
   "execution_count": 42,
   "id": "b455f12c-98ea-445a-a94b-9a589d76f605",
   "metadata": {},
   "outputs": [
    {
     "data": {
      "text/plain": [
       "['__annotations__',\n",
       " '__builtins__',\n",
       " '__call__',\n",
       " '__class__',\n",
       " '__closure__',\n",
       " '__code__',\n",
       " '__defaults__',\n",
       " '__delattr__',\n",
       " '__dict__',\n",
       " '__dir__',\n",
       " '__doc__',\n",
       " '__eq__',\n",
       " '__format__',\n",
       " '__ge__',\n",
       " '__get__',\n",
       " '__getattribute__',\n",
       " '__globals__',\n",
       " '__gt__',\n",
       " '__hash__',\n",
       " '__init__',\n",
       " '__init_subclass__',\n",
       " '__kwdefaults__',\n",
       " '__le__',\n",
       " '__lt__',\n",
       " '__module__',\n",
       " '__name__',\n",
       " '__ne__',\n",
       " '__new__',\n",
       " '__qualname__',\n",
       " '__reduce__',\n",
       " '__reduce_ex__',\n",
       " '__repr__',\n",
       " '__setattr__',\n",
       " '__sizeof__',\n",
       " '__str__',\n",
       " '__subclasshook__']"
      ]
     },
     "execution_count": 42,
     "metadata": {},
     "output_type": "execute_result"
    }
   ],
   "source": [
    "dir(f)"
   ]
  },
  {
   "cell_type": "markdown",
   "id": "4a6f66a7-1733-403f-a6e8-b23bbecb5438",
   "metadata": {},
   "source": [
    "We don't want to assign all attributes from the wrapped function the wrapper function. Let&rsquo;s assign just these attributes:\n",
    "\n",
    "- `__module__`\n",
    "- `__name__`\n",
    "- `__qualname__`\n",
    "- `__doc__`\n",
    "- `__annotations__`"
   ]
  },
  {
   "cell_type": "code",
   "execution_count": 43,
   "id": "9f323e16-2ece-4a3d-bd9e-ef4e6d693438",
   "metadata": {},
   "outputs": [
    {
     "name": "stdout",
     "output_type": "stream",
     "text": [
      "Help on function fibonacci in module __main__:\n",
      "\n",
      "fibonacci(arg)\n",
      "    Compute the Fibonacci number F(n).\n",
      "\n"
     ]
    }
   ],
   "source": [
    "help(fibonacci)"
   ]
  },
  {
   "cell_type": "code",
   "execution_count": 44,
   "id": "7d1d4f15-57b1-46f7-b520-e4351bfd4b85",
   "metadata": {},
   "outputs": [
    {
     "name": "stdout",
     "output_type": "stream",
     "text": [
      "Hello, World!\n"
     ]
    }
   ],
   "source": [
    "import dechello"
   ]
  },
  {
   "cell_type": "code",
   "execution_count": 45,
   "id": "f5b673ec-214c-494a-839d-a994e8731d94",
   "metadata": {},
   "outputs": [
    {
     "name": "stdout",
     "output_type": "stream",
     "text": [
      "greet('Bob')\n",
      "Hello, Bob! Do you like decorators?\n"
     ]
    }
   ],
   "source": [
    "dechello.greet('Bob')"
   ]
  },
  {
   "cell_type": "code",
   "execution_count": 46,
   "id": "454e0713-4fb8-4fc7-b7e5-3f7a19a5d8ce",
   "metadata": {},
   "outputs": [
    {
     "name": "stdout",
     "output_type": "stream",
     "text": [
      "Help on function greet in module dechello:\n",
      "\n",
      "greet(name)\n",
      "    Greet a user, printing information about the call.\n",
      "    \n",
      "    >>> greet('Bob')\n",
      "    greet('Bob')\n",
      "    Hello, Bob! Do you like decorators?\n",
      "\n"
     ]
    }
   ],
   "source": [
    "help(dechello.greet)"
   ]
  },
  {
   "cell_type": "code",
   "execution_count": 47,
   "id": "3ff54062-f99f-4223-a834-72dc6bd35fdf",
   "metadata": {},
   "outputs": [],
   "source": [
    "@thrice\n",
    "def say_hi():\n",
    "    \"\"\"Say hi three times.\"\"\"\n",
    "    print('Hi.')"
   ]
  },
  {
   "cell_type": "code",
   "execution_count": 48,
   "id": "54832241-4d30-4fe4-8c64-7767b6449d71",
   "metadata": {},
   "outputs": [
    {
     "name": "stdout",
     "output_type": "stream",
     "text": [
      "Hi.\n",
      "Hi.\n",
      "Hi.\n"
     ]
    }
   ],
   "source": [
    "say_hi()"
   ]
  },
  {
   "cell_type": "code",
   "execution_count": 49,
   "id": "a0e47d55-bb33-4469-9ff3-57bb66f1d25a",
   "metadata": {},
   "outputs": [
    {
     "name": "stdout",
     "output_type": "stream",
     "text": [
      "Help on function say_hi in module __main__:\n",
      "\n",
      "say_hi()\n",
      "    Say hi three times.\n",
      "\n"
     ]
    }
   ],
   "source": [
    "help(say_hi)"
   ]
  },
  {
   "cell_type": "code",
   "execution_count": 50,
   "id": "ccb81d86-0cc9-4de2-a5a0-a453f7cc4f39",
   "metadata": {},
   "outputs": [],
   "source": [
    "f = lambda x: x**2"
   ]
  },
  {
   "cell_type": "code",
   "execution_count": 51,
   "id": "fa792ad5-ea6e-45d4-bc56-c3fa93f9e1f0",
   "metadata": {},
   "outputs": [
    {
     "name": "stdout",
     "output_type": "stream",
     "text": [
      "Help on function <lambda> in module __main__:\n",
      "\n",
      "<lambda> lambda x\n",
      "\n"
     ]
    }
   ],
   "source": [
    "help(f)"
   ]
  },
  {
   "cell_type": "code",
   "execution_count": 52,
   "id": "5a7eec06-a24c-4de1-981a-02d96d3b1e61",
   "metadata": {},
   "outputs": [
    {
     "data": {
      "text/plain": [
       "'<lambda>'"
      ]
     },
     "execution_count": 52,
     "metadata": {},
     "output_type": "execute_result"
    }
   ],
   "source": [
    "f.__name__"
   ]
  },
  {
   "cell_type": "code",
   "execution_count": 53,
   "id": "81d5e98e-6d49-452b-acfa-21a73a085c8a",
   "metadata": {},
   "outputs": [],
   "source": [
    "f.__doc__"
   ]
  },
  {
   "cell_type": "code",
   "execution_count": 54,
   "id": "fa7f5641-6a34-4ab7-8d0a-9b1fe2e44237",
   "metadata": {},
   "outputs": [
    {
     "data": {
      "text/plain": [
       "'<lambda>'"
      ]
     },
     "execution_count": 54,
     "metadata": {},
     "output_type": "execute_result"
    }
   ],
   "source": [
    "f.__qualname__"
   ]
  },
  {
   "cell_type": "code",
   "execution_count": 55,
   "id": "35b6f88e-31c7-472c-bfae-c0c0a1cef67f",
   "metadata": {},
   "outputs": [],
   "source": [
    "def prepend(prefix, text):\n",
    "    return prefix + text\n",
    "\n",
    "def append(text, suffix):\n",
    "    return text + suffix"
   ]
  },
  {
   "cell_type": "code",
   "execution_count": 56,
   "id": "6debbaa4-b7a7-4b01-86d8-838bc66ce5e5",
   "metadata": {},
   "outputs": [
    {
     "data": {
      "text/plain": [
       "'foobarbaz'"
      ]
     },
     "execution_count": 56,
     "metadata": {},
     "output_type": "execute_result"
    }
   ],
   "source": [
    "prepend('foo', append('bar', 'baz'))"
   ]
  },
  {
   "cell_type": "code",
   "execution_count": 57,
   "id": "c0df7f5c-5cf8-4e82-b309-0e857cf659c8",
   "metadata": {},
   "outputs": [
    {
     "data": {
      "text/plain": [
       "'foobarbaz'"
      ]
     },
     "execution_count": 57,
     "metadata": {},
     "output_type": "execute_result"
    }
   ],
   "source": [
    "append(prepend('foo', 'bar'), 'baz')"
   ]
  },
  {
   "cell_type": "markdown",
   "id": "3d36dcc5-a1d7-4924-9840-83cca08abeb9",
   "metadata": {},
   "source": [
    "For `@peek_arg`, a decorated function such as `fibonacci`, and `@peek_return`, a closer (actually, almost exact) analogy is:\n",
    "\n",
    "- Do the first thing. Then, do the second thing, and then the third thing.\n",
    "\n",
    "- Do the first thing, and then the second thing. Then, do the third thing."
   ]
  },
  {
   "cell_type": "code",
   "execution_count": 58,
   "id": "78d1a4e1-e4ec-4fe1-a9ba-0688f8021a17",
   "metadata": {},
   "outputs": [],
   "source": [
    "@peek_arg\n",
    "@peek_return\n",
    "def fibonacci_a(n):\n",
    "    \"\"\"Do the first thing. Then, do the second thing, and then the third thing.\"\"\"\n",
    "    return n if n < 2 else fibonacci_a(n - 2) + fibonacci_a(n - 1)"
   ]
  },
  {
   "cell_type": "code",
   "execution_count": 59,
   "id": "1acc0565-1065-48cc-af09-88eff3ba304a",
   "metadata": {},
   "outputs": [],
   "source": [
    "@peek_return\n",
    "@peek_arg\n",
    "def fibonacci_b(n):\n",
    "    \"\"\"Do the first thing, and then the second thing. Then, do the third thing.\"\"\"\n",
    "    return n if n < 2 else fibonacci_b(n - 2) + fibonacci_b(n - 1)"
   ]
  },
  {
   "cell_type": "code",
   "execution_count": 60,
   "id": "aad90215-417d-40d9-9dd3-367560ad9cdd",
   "metadata": {},
   "outputs": [],
   "source": [
    "from decorators import peek"
   ]
  },
  {
   "cell_type": "code",
   "execution_count": 61,
   "id": "b783bd43-2002-43e2-8176-3fc850c88ee1",
   "metadata": {},
   "outputs": [],
   "source": [
    "@peek\n",
    "def fibonacci(n):\n",
    "    \"\"\"Compute the Fibonacci number F(n).\"\"\"\n",
    "    if n == 0:\n",
    "        return 0\n",
    "    if n == 1:\n",
    "        return 1\n",
    "    return fibonacci(n - 1) + fibonacci(n - 2)"
   ]
  },
  {
   "cell_type": "code",
   "execution_count": 62,
   "id": "22064077-f710-44cb-bdfb-160bf61821a4",
   "metadata": {},
   "outputs": [
    {
     "name": "stdout",
     "output_type": "stream",
     "text": [
      "fibonacci(5)\n",
      "fibonacci(4)\n",
      "fibonacci(3)\n",
      "fibonacci(2)\n",
      "fibonacci(1)\n",
      "fibonacci(1) -> 1\n",
      "fibonacci(0)\n",
      "fibonacci(0) -> 0\n",
      "fibonacci(2) -> 1\n",
      "fibonacci(1)\n",
      "fibonacci(1) -> 1\n",
      "fibonacci(3) -> 2\n",
      "fibonacci(2)\n",
      "fibonacci(1)\n",
      "fibonacci(1) -> 1\n",
      "fibonacci(0)\n",
      "fibonacci(0) -> 0\n",
      "fibonacci(2) -> 1\n",
      "fibonacci(4) -> 3\n",
      "fibonacci(3)\n",
      "fibonacci(2)\n",
      "fibonacci(1)\n",
      "fibonacci(1) -> 1\n",
      "fibonacci(0)\n",
      "fibonacci(0) -> 0\n",
      "fibonacci(2) -> 1\n",
      "fibonacci(1)\n",
      "fibonacci(1) -> 1\n",
      "fibonacci(3) -> 2\n",
      "fibonacci(5) -> 5\n"
     ]
    },
    {
     "data": {
      "text/plain": [
       "5"
      ]
     },
     "execution_count": 62,
     "metadata": {},
     "output_type": "execute_result"
    }
   ],
   "source": [
    "fibonacci(5)"
   ]
  },
  {
   "cell_type": "code",
   "execution_count": 63,
   "id": "605ce423-4d2f-4fb1-9790-ce6721e5e148",
   "metadata": {},
   "outputs": [],
   "source": [
    "from fibonacci import fibonacci_cached_4"
   ]
  },
  {
   "cell_type": "code",
   "execution_count": 64,
   "id": "2be8b2af-0664-4631-a851-69dda86bd142",
   "metadata": {},
   "outputs": [],
   "source": [
    "# fibonacci_cached_4(500)"
   ]
  },
  {
   "cell_type": "code",
   "execution_count": 65,
   "id": "8f8b519e-42ff-4245-b7b2-f661e0bdfc1d",
   "metadata": {},
   "outputs": [],
   "source": [
    "import sys"
   ]
  },
  {
   "cell_type": "code",
   "execution_count": 66,
   "id": "70592813-0bf5-4a0e-b94a-b299ed96981c",
   "metadata": {},
   "outputs": [
    {
     "data": {
      "text/plain": [
       "3000"
      ]
     },
     "execution_count": 66,
     "metadata": {},
     "output_type": "execute_result"
    }
   ],
   "source": [
    "sys.getrecursionlimit()"
   ]
  },
  {
   "cell_type": "code",
   "execution_count": 67,
   "id": "57e28550-d940-4df3-a84b-7a9126a74e1e",
   "metadata": {},
   "outputs": [],
   "source": [
    "def binary_search(values, x):\n",
    "    @peek\n",
    "    def help_binary(low, high):  # high is an inclusive endpoint.\n",
    "        if low > high:\n",
    "            return None\n",
    "        halfway = (low + high) // 2\n",
    "        if x > values[halfway]:\n",
    "            return help_binary(halfway + 1, high)\n",
    "        if x < values[halfway]:\n",
    "            return help_binary(low, halfway - 1)\n",
    "        return halfway  # values[halfway] should = x, possibly add assert.\n",
    "\n",
    "    return help_binary(0, len(values) - 1)"
   ]
  },
  {
   "cell_type": "code",
   "execution_count": 68,
   "id": "5091f0d7-3660-4bbb-b9cd-d156afc12edc",
   "metadata": {},
   "outputs": [
    {
     "name": "stdout",
     "output_type": "stream",
     "text": [
      "help_binary(0, 13)\n",
      "help_binary(7, 13)\n",
      "help_binary(11, 13)\n",
      "help_binary(11, 11)\n",
      "help_binary(11, 11) -> 11\n",
      "help_binary(11, 13) -> 11\n",
      "help_binary(7, 13) -> 11\n",
      "help_binary(0, 13) -> 11\n"
     ]
    },
    {
     "data": {
      "text/plain": [
       "11"
      ]
     },
     "execution_count": 68,
     "metadata": {},
     "output_type": "execute_result"
    }
   ],
   "source": [
    "binary_search([1, 2, 3, 4, 5, 6, 7, 9, 10, 12, 13, 16, 17, 19], 16)"
   ]
  },
  {
   "cell_type": "code",
   "execution_count": 69,
   "id": "794565b3-b7c0-46bc-bfbd-21e2cdf3b0eb",
   "metadata": {},
   "outputs": [
    {
     "name": "stdout",
     "output_type": "stream",
     "text": [
      "help_binary(0, 41336)\n",
      "help_binary(0, 20667)\n",
      "help_binary(10334, 20667)\n",
      "help_binary(15501, 20667)\n",
      "help_binary(18085, 20667)\n",
      "help_binary(19377, 20667)\n",
      "help_binary(19377, 20021)\n",
      "help_binary(19700, 20021)\n",
      "help_binary(19700, 19859)\n",
      "help_binary(19700, 19778)\n",
      "help_binary(19740, 19778)\n",
      "help_binary(19740, 19758)\n",
      "help_binary(19750, 19758)\n",
      "help_binary(19750, 19753)\n",
      "help_binary(19750, 19750)\n",
      "help_binary(19750, 19749)\n",
      "help_binary(19750, 19749) -> None\n",
      "help_binary(19750, 19750) -> None\n",
      "help_binary(19750, 19753) -> None\n",
      "help_binary(19750, 19758) -> None\n",
      "help_binary(19740, 19758) -> None\n",
      "help_binary(19740, 19778) -> None\n",
      "help_binary(19700, 19778) -> None\n",
      "help_binary(19700, 19859) -> None\n",
      "help_binary(19700, 20021) -> None\n",
      "help_binary(19377, 20021) -> None\n",
      "help_binary(19377, 20667) -> None\n",
      "help_binary(18085, 20667) -> None\n",
      "help_binary(15501, 20667) -> None\n",
      "help_binary(10334, 20667) -> None\n",
      "help_binary(0, 20667) -> None\n",
      "help_binary(0, 41336) -> None\n"
     ]
    }
   ],
   "source": [
    "binary_search(range(-3371, 10_000_000, 242), 4_776_001)"
   ]
  },
  {
   "cell_type": "markdown",
   "id": "ee6d459e-9129-4397-b196-03167ecd695b",
   "metadata": {},
   "source": [
    "## Decorators do not *re*bind names"
   ]
  },
  {
   "cell_type": "markdown",
   "id": "9a8da4d9-2141-45a0-875b-73729d289d43",
   "metadata": {},
   "source": [
    "People often wrongly claim that the name of a decorated function is bound twice&mdash;once to the function as initially defined, then a second time to what the decorator returns when called with that original function. That is, they say the decorated function name is assigned to twice: *re*bound.\n",
    "\n",
    "That is, when considering code like this:"
   ]
  },
  {
   "cell_type": "code",
   "execution_count": 70,
   "id": "b4db95c2-ce25-455a-8a59-deca4ee375bd",
   "metadata": {},
   "outputs": [],
   "source": [
    "@thrice\n",
    "def parrot():\n",
    "    print('a parrot')"
   ]
  },
  {
   "cell_type": "code",
   "execution_count": 71,
   "id": "c988beee-c11e-4533-965f-79a099fd008c",
   "metadata": {},
   "outputs": [
    {
     "name": "stdout",
     "output_type": "stream",
     "text": [
      "a parrot\n",
      "a parrot\n",
      "a parrot\n"
     ]
    }
   ],
   "source": [
    "parrot()"
   ]
  },
  {
   "cell_type": "code",
   "execution_count": 72,
   "id": "c586668c-4bfb-46d4-ad2b-356f7eb46e88",
   "metadata": {},
   "outputs": [],
   "source": [
    "del parrot"
   ]
  },
  {
   "cell_type": "markdown",
   "id": "abd71543-6b0c-4fe6-b848-a7f1e6ca4880",
   "metadata": {},
   "source": [
    "...People often claim that it is *equivalent to*, or even *syntactic sugar for*, this code:"
   ]
  },
  {
   "cell_type": "code",
   "execution_count": 73,
   "id": "d72c2ac3-e13b-4ab4-b2ea-f3be46ba8733",
   "metadata": {},
   "outputs": [],
   "source": [
    "def parrot():\n",
    "    print('a parrot')\n",
    "\n",
    "parrot = thrice(parrot)"
   ]
  },
  {
   "cell_type": "code",
   "execution_count": 74,
   "id": "99d5dae0-de72-4092-af52-f862399923a7",
   "metadata": {},
   "outputs": [
    {
     "name": "stdout",
     "output_type": "stream",
     "text": [
      "a parrot\n",
      "a parrot\n",
      "a parrot\n"
     ]
    }
   ],
   "source": [
    "parrot()"
   ]
  },
  {
   "cell_type": "code",
   "execution_count": 75,
   "id": "b3722754-3162-4700-8efe-ac73cc7bf2d8",
   "metadata": {},
   "outputs": [],
   "source": [
    "del parrot"
   ]
  },
  {
   "cell_type": "markdown",
   "id": "b59d5d4b-df37-4a56-8d50-f9ed60f7e4bf",
   "metadata": {},
   "source": [
    "Showing both versions of the code above is a good way to motivate a reader/student's thinking when introducing decorators (and an approach much like that is taken at the top of this notebook). But decorated function definitions, like undecorated function definitions, bind a name exactly once.\n",
    "\n",
    "The only object assigned to the function name is whatever the decorator returned&mdash;or, with multiple decorators, whatever the last-called (i.e., topmost) decorator returned. This is to say that, in a `def` statement, a function is not assigned to a name until all decorators have been called; so when decorators are used, the original function is *never* assigned to a name, unless it is itself returned by the (topmost) decorator.\n",
    "\n",
    "The official documentation *mostly* manages to avoid the mistake. In particular, the language reference, which is the most authoritative source about the meaning of Python language constructs, is clear and correct:\n",
    "\n",
    "> A function definition may be wrapped by one or more [decorator](https://docs.python.org/3/glossary.html#term-decorator) expressions. Decorator expressions are evaluated when the function is defined, in the scope that contains the function definition. The result must be a callable, which is invoked with the function object as the only argument. The returned value is bound to the function name **instead of** the function object. Multiple decorators are applied in nested fashion. For example, the following code\n",
    "> \n",
    "> ```python\n",
    "> @f1(arg)\n",
    "> @f2\n",
    "> def func(): pass\n",
    "> ```\n",
    ">\n",
    "> <br>is roughly equivalent to\n",
    ">\n",
    "> ```python\n",
    "> def func(): pass\n",
    "> func = f1(arg)(f2(func))\n",
    "> ```\n",
    "> \n",
    "> <br>except that **the original function is not temporarily bound to the name func**.\n",
    "\n",
    "*&mdash; [The Python Language Reference](https://docs.python.org/3/reference/index.html), section [8.7. Function definitions](https://docs.python.org/3/reference/compound_stmts.html#function-definitions), **bold** added*\n",
    "\n",
    "[PEP 318 – Decorators for Functions and Methods](https://peps.python.org/pep-0318/), which covers this in the [Current Syntax](https://peps.python.org/pep-0318/#current-syntax) section, is likewise accurate and unambiguous.\n",
    "\n",
    "Yet the false belief that decorators rebind names is remarkably persistent, even among many otherwise highly proficient Python programmers, and even among successful consultants and respected authors. At least one *official* source&mdash;the [glossary entry](https://docs.python.org/3/glossary.html#term-decorator), which the language reference unfortunately links to&mdash;makes the false \"syntactic sugar\" claim. So do most unofficial Python resources.\n",
    "\n",
    "It may be that the misconception survives because people think there is no observable difference between binding the name once or twice, or think that explanations in terms of rebinding are *conceptually* sufficient even though such rebinding is guaranteed never to occur. Unfortunately, those are misconceptions as well: it is possible to write simple code that demonstrates that the function name is not assigned before the decorator is called, and one of the most common uses of decorators relies on this behavior.\n",
    "\n",
    "As an exercise, please write a simple example below whose observable behavior reveals that a decorated `def` statement binds the function name just once, after the decorator is called, rather than twice, both before and after the decorator is called. The goal here is simplicity and clarity&mdash;it is okay if the example is contrived.\n",
    "\n",
    "As for the common (non-contrived) use of decorators that relies on this behavior, we'll soon cover that in `classes2.ipynb`&mdash;though actually you've both seen and used it before, it being so common&mdash;which is one of the reasons I wanted to review decorator semantics and pose this exercise at this time."
   ]
  },
  {
   "cell_type": "code",
   "execution_count": 76,
   "id": "d39cbffb-f8a2-4b0d-bcd8-dd4065466ca2",
   "metadata": {
    "tags": [
     "raises-exception"
    ]
   },
   "outputs": [
    {
     "ename": "ValueError",
     "evalue": "",
     "output_type": "error",
     "traceback": [
      "\u001b[1;31m---------------------------------------------------------------------------\u001b[0m",
      "\u001b[1;31mValueError\u001b[0m                                Traceback (most recent call last)",
      "Input \u001b[1;32mIn [76]\u001b[0m, in \u001b[0;36m<cell line: 7>\u001b[1;34m()\u001b[0m\n\u001b[0;32m      3\u001b[0m \u001b[38;5;28;01mdef\u001b[39;00m \u001b[38;5;21mraises_exception\u001b[39m(func): \n\u001b[0;32m      4\u001b[0m     \u001b[38;5;28;01mraise\u001b[39;00m \u001b[38;5;167;01mValueError\u001b[39;00m\n\u001b[0;32m      7\u001b[0m \u001b[38;5;129;43m@raises_exception\u001b[39;49m\n\u001b[1;32m----> 8\u001b[0m \u001b[38;5;28;43;01mdef\u001b[39;49;00m\u001b[43m \u001b[49m\u001b[38;5;21;43mf\u001b[39;49m\u001b[43m(\u001b[49m\u001b[43m)\u001b[49m\u001b[43m:\u001b[49m\n\u001b[0;32m      9\u001b[0m \u001b[43m    \u001b[49m\u001b[38;5;28;43;01mpass\u001b[39;49;00m\n",
      "Input \u001b[1;32mIn [76]\u001b[0m, in \u001b[0;36mraises_exception\u001b[1;34m(func)\u001b[0m\n\u001b[0;32m      3\u001b[0m \u001b[38;5;28;01mdef\u001b[39;00m \u001b[38;5;21mraises_exception\u001b[39m(func): \n\u001b[1;32m----> 4\u001b[0m     \u001b[38;5;28;01mraise\u001b[39;00m \u001b[38;5;167;01mValueError\u001b[39;00m\n",
      "\u001b[1;31mValueError\u001b[0m: "
     ]
    }
   ],
   "source": [
    "del f\n",
    "import functools\n",
    "def raises_exception(func): \n",
    "    raise ValueError\n",
    "\n",
    "    \n",
    "@raises_exception\n",
    "def f():\n",
    "    pass"
   ]
  },
  {
   "cell_type": "code",
   "execution_count": 77,
   "id": "a29b4061-826c-4c6e-a32c-d38d08ce1125",
   "metadata": {
    "tags": [
     "raises-exception"
    ]
   },
   "outputs": [
    {
     "ename": "NameError",
     "evalue": "name 'f' is not defined",
     "output_type": "error",
     "traceback": [
      "\u001b[1;31m---------------------------------------------------------------------------\u001b[0m",
      "\u001b[1;31mNameError\u001b[0m                                 Traceback (most recent call last)",
      "Input \u001b[1;32mIn [77]\u001b[0m, in \u001b[0;36m<cell line: 1>\u001b[1;34m()\u001b[0m\n\u001b[1;32m----> 1\u001b[0m \u001b[38;5;28mprint\u001b[39m(\u001b[43mf\u001b[49m)\n",
      "\u001b[1;31mNameError\u001b[0m: name 'f' is not defined"
     ]
    }
   ],
   "source": [
    "print(f)"
   ]
  },
  {
   "cell_type": "code",
   "execution_count": null,
   "id": "9d902c90-e7a2-413c-aa9f-c87dc7d4e9a5",
   "metadata": {},
   "outputs": [],
   "source": []
  }
 ],
 "metadata": {
  "kernelspec": {
   "display_name": "Python 3 (ipykernel)",
   "language": "python",
   "name": "python3"
  },
  "language_info": {
   "codemirror_mode": {
    "name": "ipython",
    "version": 3
   },
   "file_extension": ".py",
   "mimetype": "text/x-python",
   "name": "python",
   "nbconvert_exporter": "python",
   "pygments_lexer": "ipython3",
   "version": "3.10.4"
  }
 },
 "nbformat": 4,
 "nbformat_minor": 5
}
