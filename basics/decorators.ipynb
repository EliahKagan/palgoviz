{
 "cells": [
  {
   "cell_type": "code",
   "execution_count": 1,
   "id": "573245e5-cabc-4b89-82b5-bbf85cc4b3fb",
   "metadata": {},
   "outputs": [],
   "source": [
    "def square(n):\n",
    "    return n**2"
   ]
  },
  {
   "cell_type": "code",
   "execution_count": 2,
   "id": "4d0d75a3-5a7f-4d90-a1cc-87ac646ade03",
   "metadata": {},
   "outputs": [],
   "source": [
    "def wrapper(n):\n",
    "    print(f'{square.__name__}({n})')\n",
    "    return square(n)"
   ]
  },
  {
   "cell_type": "code",
   "execution_count": 3,
   "id": "a30da17d-618f-4fbe-bef1-6f44ccb05870",
   "metadata": {},
   "outputs": [
    {
     "name": "stdout",
     "output_type": "stream",
     "text": [
      "square(3)\n"
     ]
    },
    {
     "data": {
      "text/plain": [
       "9"
      ]
     },
     "execution_count": 3,
     "metadata": {},
     "output_type": "execute_result"
    }
   ],
   "source": [
    "wrapper(3)"
   ]
  },
  {
   "cell_type": "code",
   "execution_count": 4,
   "id": "da6daae2-1304-4c0d-9386-e778c091805b",
   "metadata": {},
   "outputs": [],
   "source": [
    "from decorators import peek_arg"
   ]
  },
  {
   "cell_type": "code",
   "execution_count": 5,
   "id": "1535af05-4d46-4f16-85b2-2c51e700a754",
   "metadata": {},
   "outputs": [],
   "source": [
    "psquare = peek_arg(square)"
   ]
  },
  {
   "cell_type": "code",
   "execution_count": 6,
   "id": "163a0cfb-6d28-4531-8298-3a492f093577",
   "metadata": {},
   "outputs": [
    {
     "name": "stdout",
     "output_type": "stream",
     "text": [
      "square(0)\n",
      "square(1)\n",
      "square(2)\n",
      "square(3)\n",
      "square(4)\n"
     ]
    },
    {
     "data": {
      "text/plain": [
       "[0, 1, 4, 9, 16]"
      ]
     },
     "execution_count": 6,
     "metadata": {},
     "output_type": "execute_result"
    }
   ],
   "source": [
    "# List comprehension of the squares of 0 through 4 (inclusive).\n",
    "# Use psquare in the list comprehension. This will have the side effect\n",
    "# of printing information about the five calls to square.\n",
    "[psquare(x) for x in range(5)]\n"
   ]
  },
  {
   "cell_type": "code",
   "execution_count": 7,
   "id": "076071da-55c8-4f0b-8446-aa3f36ea14ec",
   "metadata": {},
   "outputs": [],
   "source": [
    "def fibonacci(n):\n",
    "    \"\"\"Compute the Fibonacci number F(n).\"\"\"\n",
    "    if n == 0:\n",
    "        return 0\n",
    "    if n == 1:\n",
    "        return 1\n",
    "    return fibonacci(n - 1) + fibonacci(n - 2)"
   ]
  },
  {
   "cell_type": "code",
   "execution_count": 8,
   "id": "2287ec2d-eb16-4035-b0d7-4cc231618abe",
   "metadata": {},
   "outputs": [],
   "source": [
    "pfibonacci = peek_arg(fibonacci)"
   ]
  },
  {
   "cell_type": "code",
   "execution_count": 9,
   "id": "50e691e8-bad1-4d7f-ac94-c574e18d0c8c",
   "metadata": {},
   "outputs": [
    {
     "name": "stdout",
     "output_type": "stream",
     "text": [
      "fibonacci(4)\n"
     ]
    },
    {
     "data": {
      "text/plain": [
       "3"
      ]
     },
     "execution_count": 9,
     "metadata": {},
     "output_type": "execute_result"
    }
   ],
   "source": [
    "pfibonacci(4)"
   ]
  },
  {
   "cell_type": "code",
   "execution_count": 10,
   "id": "c24373ce-f9ca-4cf5-a1a4-128c6e1ba833",
   "metadata": {},
   "outputs": [],
   "source": [
    "square = peek_arg(square)"
   ]
  },
  {
   "cell_type": "code",
   "execution_count": 11,
   "id": "17606508-57d2-496d-83e1-191278107dbb",
   "metadata": {},
   "outputs": [
    {
     "name": "stdout",
     "output_type": "stream",
     "text": [
      "square(0)\n",
      "square(1)\n",
      "square(2)\n",
      "square(3)\n",
      "square(4)\n"
     ]
    },
    {
     "data": {
      "text/plain": [
       "[0, 1, 4, 9, 16]"
      ]
     },
     "execution_count": 11,
     "metadata": {},
     "output_type": "execute_result"
    }
   ],
   "source": [
    "[square(x) for x in range(5)]"
   ]
  },
  {
   "cell_type": "code",
   "execution_count": 12,
   "id": "76556f03-3590-42fa-a8a9-79234380eba5",
   "metadata": {},
   "outputs": [],
   "source": [
    "fibonacci = peek_arg(fibonacci)"
   ]
  },
  {
   "cell_type": "code",
   "execution_count": 13,
   "id": "e5df679c-54b2-461d-91ff-12d91777920d",
   "metadata": {},
   "outputs": [
    {
     "name": "stdout",
     "output_type": "stream",
     "text": [
      "fibonacci(4)\n",
      "fibonacci(3)\n",
      "fibonacci(2)\n",
      "fibonacci(1)\n",
      "fibonacci(0)\n",
      "fibonacci(1)\n",
      "fibonacci(2)\n",
      "fibonacci(1)\n",
      "fibonacci(0)\n"
     ]
    },
    {
     "data": {
      "text/plain": [
       "3"
      ]
     },
     "execution_count": 13,
     "metadata": {},
     "output_type": "execute_result"
    }
   ],
   "source": [
    "fibonacci(4)"
   ]
  },
  {
   "cell_type": "code",
   "execution_count": 14,
   "id": "9e10aeef-ebb0-45bd-80e4-55668f6eeac9",
   "metadata": {},
   "outputs": [],
   "source": [
    "# Just for clarity. None of the del statements in this notebook are necessary.\n",
    "del square\n",
    "del fibonacci"
   ]
  },
  {
   "cell_type": "code",
   "execution_count": 15,
   "id": "85af40b7-7051-44fa-8781-c3ac336cbef5",
   "metadata": {},
   "outputs": [],
   "source": [
    "@peek_arg\n",
    "def square(n):\n",
    "    return n**2"
   ]
  },
  {
   "cell_type": "code",
   "execution_count": 16,
   "id": "c2fc13a7-3010-4ba0-a51c-6a4f05b0e3c9",
   "metadata": {},
   "outputs": [
    {
     "name": "stdout",
     "output_type": "stream",
     "text": [
      "square(7)\n"
     ]
    },
    {
     "data": {
      "text/plain": [
       "49"
      ]
     },
     "execution_count": 16,
     "metadata": {},
     "output_type": "execute_result"
    }
   ],
   "source": [
    "square(7)"
   ]
  },
  {
   "cell_type": "code",
   "execution_count": 17,
   "id": "345f88a2-cb16-43b7-9dc9-07b39e0f6294",
   "metadata": {},
   "outputs": [],
   "source": [
    "@peek_arg\n",
    "def fibonacci(n):\n",
    "    \"\"\"Compute the Fibonacci number F(n).\"\"\"\n",
    "    if n == 0:\n",
    "        return 0\n",
    "    if n == 1:\n",
    "        return 1\n",
    "    return fibonacci(n - 1) + fibonacci(n - 2)"
   ]
  },
  {
   "cell_type": "code",
   "execution_count": 18,
   "id": "2491642f-7896-4233-b9e0-15b1af9a2200",
   "metadata": {},
   "outputs": [
    {
     "name": "stdout",
     "output_type": "stream",
     "text": [
      "fibonacci(4)\n",
      "fibonacci(3)\n",
      "fibonacci(2)\n",
      "fibonacci(1)\n",
      "fibonacci(0)\n",
      "fibonacci(1)\n",
      "fibonacci(2)\n",
      "fibonacci(1)\n",
      "fibonacci(0)\n"
     ]
    },
    {
     "data": {
      "text/plain": [
       "3"
      ]
     },
     "execution_count": 18,
     "metadata": {},
     "output_type": "execute_result"
    }
   ],
   "source": [
    "fibonacci(4)"
   ]
  },
  {
   "cell_type": "code",
   "execution_count": 19,
   "id": "6d5b89ce-5ec1-4c36-bb95-a6b6df7a032b",
   "metadata": {},
   "outputs": [
    {
     "name": "stdout",
     "output_type": "stream",
     "text": [
      "fibonacci(4)\n",
      "fibonacci(3)\n",
      "fibonacci(2)\n",
      "fibonacci(1)\n",
      "fibonacci(0)\n",
      "fibonacci(1)\n",
      "fibonacci(2)\n",
      "fibonacci(1)\n",
      "fibonacci(0)\n"
     ]
    }
   ],
   "source": [
    "def use_locally(f):\n",
    "    fibonacci = 'famous Italian mathematician'\n",
    "    f(4)\n",
    "\n",
    "use_locally(fibonacci)"
   ]
  },
  {
   "cell_type": "code",
   "execution_count": 20,
   "id": "f89cee55-4628-4e0b-860a-7adf4e97ab7a",
   "metadata": {},
   "outputs": [
    {
     "name": "stdout",
     "output_type": "stream",
     "text": [
      "sq(0)\n",
      "sq(1)\n",
      "sq(2)\n",
      "sq(3)\n",
      "sq(4)\n",
      "[0, 1, 4, 9, 16]\n",
      "\n",
      "fib(4)\n",
      "fib(3)\n",
      "fib(2)\n",
      "fib(1)\n",
      "fib(0)\n",
      "fib(1)\n",
      "fib(2)\n",
      "fib(1)\n",
      "fib(0)\n",
      "3\n",
      "\n",
      "fib(4)\n",
      "fib(3)\n",
      "fib(2)\n",
      "fib(1)\n",
      "fib(0)\n",
      "fib(1)\n",
      "fib(2)\n",
      "fib(1)\n",
      "fib(0)\n"
     ]
    }
   ],
   "source": [
    "def define_and_use_locally():\n",
    "    @peek_arg\n",
    "    def sq(n):\n",
    "        return n**2\n",
    "    \n",
    "    @peek_arg\n",
    "    def fib(n):\n",
    "        if n == 0:\n",
    "            return 0\n",
    "        if n == 1:\n",
    "            return 1\n",
    "        return fib(n - 1) + fib(n - 2)\n",
    "    \n",
    "    print([sq(x) for x in range(5)])\n",
    "    print()\n",
    "    print(fib(4))\n",
    "    print()\n",
    "    use_locally(fib)\n",
    "\n",
    "define_and_use_locally()"
   ]
  },
  {
   "cell_type": "code",
   "execution_count": 21,
   "id": "f07dcb6d-db5a-42d1-92ba-6675a7f8c176",
   "metadata": {},
   "outputs": [],
   "source": [
    "from decorators import call"
   ]
  },
  {
   "cell_type": "code",
   "execution_count": 22,
   "id": "26edcb70-dacb-412f-8bff-488a3b62dd4d",
   "metadata": {},
   "outputs": [
    {
     "name": "stdout",
     "output_type": "stream",
     "text": [
      "Hi, world!\n"
     ]
    }
   ],
   "source": [
    "@call\n",
    "def hi():\n",
    "    print('Hi, world!')"
   ]
  },
  {
   "cell_type": "code",
   "execution_count": 23,
   "id": "0e025e63-49bb-4b20-9363-ed48152e9896",
   "metadata": {},
   "outputs": [
    {
     "name": "stdout",
     "output_type": "stream",
     "text": [
      "Hi, world!\n"
     ]
    }
   ],
   "source": [
    "hi()"
   ]
  },
  {
   "cell_type": "code",
   "execution_count": 24,
   "id": "eab6a393-7de3-42c6-832e-77a9d19ac6c2",
   "metadata": {},
   "outputs": [
    {
     "name": "stdout",
     "output_type": "stream",
     "text": [
      "sq(0)\n",
      "sq(1)\n",
      "sq(2)\n",
      "sq(3)\n",
      "sq(4)\n",
      "[0, 1, 4, 9, 16]\n",
      "\n",
      "fib(4)\n",
      "fib(3)\n",
      "fib(2)\n",
      "fib(1)\n",
      "fib(0)\n",
      "fib(1)\n",
      "fib(2)\n",
      "fib(1)\n",
      "fib(0)\n",
      "3\n",
      "\n",
      "fib(4)\n",
      "fib(3)\n",
      "fib(2)\n",
      "fib(1)\n",
      "fib(0)\n",
      "fib(1)\n",
      "fib(2)\n",
      "fib(1)\n",
      "fib(0)\n"
     ]
    }
   ],
   "source": [
    "@call\n",
    "def define_and_use_locally():\n",
    "    @peek_arg\n",
    "    def sq(n):\n",
    "        return n**2\n",
    "    \n",
    "    @peek_arg\n",
    "    def fib(n):\n",
    "        if n == 0:\n",
    "            return 0\n",
    "        if n == 1:\n",
    "            return 1\n",
    "        return fib(n - 1) + fib(n - 2)\n",
    "    \n",
    "    print([sq(x) for x in range(5)])\n",
    "    print()\n",
    "    print(fib(4))\n",
    "    print()\n",
    "    use_locally(fib)"
   ]
  },
  {
   "cell_type": "code",
   "execution_count": 47,
   "id": "ec1f144e-0364-447b-a2b4-213875b5e70a",
   "metadata": {},
   "outputs": [],
   "source": [
    "@peek_arg\n",
    "@call\n",
    "def fib_silly(n=5):\n",
    "    \"\"\"Compute the Fibonacci number F(n), or F(5) if n is not passed.\"\"\"\n",
    "    if n == 0:\n",
    "        return 0\n",
    "    if n == 1:\n",
    "        return 1\n",
    "    return fib_silly(n - 1) + fib_silly(n - 2)"
   ]
  },
  {
   "cell_type": "code",
   "execution_count": 43,
   "id": "442aa5c3-64b3-45c3-a98f-364e673557a3",
   "metadata": {},
   "outputs": [
    {
     "data": {
      "text/plain": [
       "5"
      ]
     },
     "execution_count": 43,
     "metadata": {},
     "output_type": "execute_result"
    }
   ],
   "source": [
    "fib_silly()"
   ]
  },
  {
   "cell_type": "code",
   "execution_count": 44,
   "id": "83943cfa-2348-4166-a6a9-7e9ad5906f93",
   "metadata": {},
   "outputs": [],
   "source": [
    "x = 5"
   ]
  },
  {
   "cell_type": "code",
   "execution_count": 45,
   "id": "0481754c-45f1-40b6-b62d-f466857c8497",
   "metadata": {},
   "outputs": [],
   "source": [
    "f = fib_silly"
   ]
  },
  {
   "cell_type": "code",
   "execution_count": 50,
   "id": "d81087a4-d9a3-45bc-8ae7-6584fe6cfed0",
   "metadata": {},
   "outputs": [
    {
     "name": "stdout",
     "output_type": "stream",
     "text": [
      "Got 0.\n",
      "Got 1.\n",
      "Got 2.\n",
      "Got 3.\n",
      "Got 4.\n",
      "Got 5.\n"
     ]
    }
   ],
   "source": [
    "import itertools\n",
    "counter = itertools.count()\n",
    "\n",
    "@peek_arg\n",
    "@call\n",
    "def f():\n",
    "    n = next(counter)\n",
    "    print(f'Got {n}.')\n",
    "    if n < 5:\n",
    "        f()"
   ]
  },
  {
   "cell_type": "code",
   "execution_count": 51,
   "id": "d64206c2-fae9-458f-b8e1-f49e0a7a064a",
   "metadata": {},
   "outputs": [
    {
     "ename": "TypeError",
     "evalue": "peek_arg.<locals>.wrapper() missing 1 required positional argument: 'arg'",
     "output_type": "error",
     "traceback": [
      "\u001b[1;31m---------------------------------------------------------------------------\u001b[0m",
      "\u001b[1;31mTypeError\u001b[0m                                 Traceback (most recent call last)",
      "Input \u001b[1;32mIn [51]\u001b[0m, in \u001b[0;36m<module>\u001b[1;34m\u001b[0m\n\u001b[1;32m----> 1\u001b[0m \u001b[43mf\u001b[49m\u001b[43m(\u001b[49m\u001b[43m)\u001b[49m\n",
      "\u001b[1;31mTypeError\u001b[0m: peek_arg.<locals>.wrapper() missing 1 required positional argument: 'arg'"
     ]
    }
   ],
   "source": [
    "f()"
   ]
  },
  {
   "cell_type": "code",
   "execution_count": null,
   "id": "d26ff19b-094d-4072-9da7-cceed4ef4a1b",
   "metadata": {},
   "outputs": [],
   "source": []
  }
 ],
 "metadata": {
  "kernelspec": {
   "display_name": "Python 3 (ipykernel)",
   "language": "python",
   "name": "python3"
  },
  "language_info": {
   "codemirror_mode": {
    "name": "ipython",
    "version": 3
   },
   "file_extension": ".py",
   "mimetype": "text/x-python",
   "name": "python",
   "nbconvert_exporter": "python",
   "pygments_lexer": "ipython3",
   "version": "3.10.2"
  }
 },
 "nbformat": 4,
 "nbformat_minor": 5
}
