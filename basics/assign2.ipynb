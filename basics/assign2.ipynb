{
 "cells": [
  {
   "cell_type": "markdown",
   "id": "d39e148d-bc16-4832-af7a-8e9a806a4bee",
   "metadata": {},
   "source": [
    "# Assignment - Deconstruction\n",
    "\n",
    "**Targets and patterns.**\n",
    "\n",
    "For an overview of assignment, see `assign1.ipynb`."
   ]
  },
  {
   "cell_type": "markdown",
   "id": "ce257993-1851-4393-8baf-931d1bb4bf90",
   "metadata": {},
   "source": [
    "## Review of tuple/list syntax in assignment targets"
   ]
  },
  {
   "cell_type": "markdown",
   "id": "fd0f8010-64fb-403b-84a9-0443714adbd5",
   "metadata": {},
   "source": [
    "### Tuple syntax"
   ]
  },
  {
   "cell_type": "markdown",
   "id": "0a4d4449-c2cf-4bde-8433-6c6f6efac7a7",
   "metadata": {},
   "source": [
    "Recall that `x, y` is syntactically a tuple as it appears in these statements, but no tuple is created, *not even in principle*, because it is given as the target of assignment:"
   ]
  },
  {
   "cell_type": "code",
   "execution_count": 1,
   "id": "94f2f6ec-a0a4-4a1c-a71d-86c082e8ed8a",
   "metadata": {},
   "outputs": [],
   "source": [
    "x, y = [10, 20]"
   ]
  },
  {
   "cell_type": "code",
   "execution_count": 2,
   "id": "7635225e-bc3e-4e46-8eee-e02b6aead277",
   "metadata": {},
   "outputs": [
    {
     "name": "stdout",
     "output_type": "stream",
     "text": [
      "x=10, y=20\n"
     ]
    }
   ],
   "source": [
    "print(f'{x=}, {y=}')"
   ]
  },
  {
   "cell_type": "code",
   "execution_count": 3,
   "id": "4f91d285-00ea-413a-a31c-2926ce84dd38",
   "metadata": {},
   "outputs": [
    {
     "name": "stdout",
     "output_type": "stream",
     "text": [
      "x=30, y=40\n",
      "x=50, y=60\n"
     ]
    }
   ],
   "source": [
    "for x, y in [[30, 40], [50, 60]]:\n",
    "    print(f'{x=}, {y=}')"
   ]
  },
  {
   "cell_type": "markdown",
   "id": "7b4ff21b-1c70-4718-8899-a532d79247cb",
   "metadata": {},
   "source": [
    "`(x, y)` may be written in place of `x, y`, in both the assignment statement and the `for` loop shown above, and this has the same meaning. After all, in this context, both `x, y` and `(x, y)` are syntactically tuples."
   ]
  },
  {
   "cell_type": "markdown",
   "id": "7c962def-3082-42bd-b570-4f9148612abb",
   "metadata": {},
   "source": [
    "### List syntax (equivalent)"
   ]
  },
  {
   "cell_type": "markdown",
   "id": "ff38bdb7-1599-4b90-9c10-f5486027e26e",
   "metadata": {},
   "source": [
    "Recall also that it is sometimes more convenient to use list syntax, so `[x, y]` is syntactically a list as it appears in these statements, but no list is created (except that the right-hand side coincidentally happens to be a list), *not even in principle*, because it is given as the target of assignment:"
   ]
  },
  {
   "cell_type": "code",
   "execution_count": 4,
   "id": "8be8baad-a765-401d-8018-482f1be2034b",
   "metadata": {},
   "outputs": [],
   "source": [
    "[x, y] = [11, 22]"
   ]
  },
  {
   "cell_type": "code",
   "execution_count": 5,
   "id": "ec15abe3-0455-46f6-b2c7-50f648e06e96",
   "metadata": {},
   "outputs": [
    {
     "name": "stdout",
     "output_type": "stream",
     "text": [
      "x=11, y=22\n"
     ]
    }
   ],
   "source": [
    "print(f'{x=}, {y=}')"
   ]
  },
  {
   "cell_type": "code",
   "execution_count": 6,
   "id": "e2639bd5-8daf-44fd-ba6b-bc1e57484517",
   "metadata": {},
   "outputs": [
    {
     "name": "stdout",
     "output_type": "stream",
     "text": [
      "x=33, y=44\n",
      "x=55, y=66\n"
     ]
    }
   ],
   "source": [
    "for x, y in [[33, 44], [55, 66]]:\n",
    "    print(f'{x=}, {y=}')"
   ]
  },
  {
   "cell_type": "markdown",
   "id": "b63b3410-0d46-48ef-a7dc-7c1da47ed1e2",
   "metadata": {},
   "source": [
    "### Nested tuple/list syntax"
   ]
  },
  {
   "cell_type": "markdown",
   "id": "301af342-f562-416f-bc14-03220603a644",
   "metadata": {},
   "source": [
    "Finally, recall that nested tuple/list expressions are likewise permitted, and these are syntactically nested tuples/lists, but semantically they do not entail the creation of any list or tuple, *not even in principle*. Instead, what is happening--in all these cases--is that, informally speaking, we are specifying the *shape* of the data being deconstructed:"
   ]
  },
  {
   "cell_type": "code",
   "execution_count": 7,
   "id": "70180fc1-a51a-4059-9bab-a15c16026b86",
   "metadata": {},
   "outputs": [],
   "source": [
    "w, [x, (y, z)], t = [10, [20, [30, 40]], 50]"
   ]
  },
  {
   "cell_type": "code",
   "execution_count": 8,
   "id": "eb7866f7-e9f3-4e9a-83d3-7f2c9cf0ff5c",
   "metadata": {},
   "outputs": [
    {
     "name": "stdout",
     "output_type": "stream",
     "text": [
      "w=10, x=20, y=30, z=40, t=50\n"
     ]
    }
   ],
   "source": [
    "print(f'{w=}, {x=}, {y=}, {z=}, {t=}')"
   ]
  },
  {
   "cell_type": "code",
   "execution_count": 9,
   "id": "89a0dc1e-80b7-4936-994f-8e31db52b520",
   "metadata": {},
   "outputs": [
    {
     "name": "stdout",
     "output_type": "stream",
     "text": [
      "w=1, x=2, y=3, z=4, t=5\n",
      "w=6, x=7, y=8, z=9, t=10\n"
     ]
    }
   ],
   "source": [
    "for w, [x, (y, z)], t in [1, [2, [3, 4]], 5], [6, [7, [8, 9]], 10]:\n",
    "    print(f'{w=}, {x=}, {y=}, {z=}, {t=}')"
   ]
  },
  {
   "cell_type": "markdown",
   "id": "e6e18d2c-9a3f-47b5-9ecc-c2118deed29d",
   "metadata": {},
   "source": [
    "`w, [x, (y, z)], t` is syntactically a tuple of:\n",
    "\n",
    "- the name `w`\n",
    "- a list of:\n",
    "  - the name `x`\n",
    "  - a tuple of:\n",
    "    - the name `y`\n",
    "    - the name `z`\n",
    "- the name `t`\n",
    "\n",
    "But no list or tuple is created. This is instead a way for the left-hand side of an assignment to specify, statically, the structure that the object appearing on the right-hand side will be expected, dynamically (i.e., at runtime), to have. This is so that object can be picked apart appropriately to assign the desired pieces to the variables."
   ]
  },
  {
   "cell_type": "markdown",
   "id": "d8d1ff96-776d-4e9a-98f5-db841c5077aa",
   "metadata": {},
   "source": [
    "### The left-side structure is static, the right-side structure is dynamic"
   ]
  },
  {
   "cell_type": "markdown",
   "id": "164959a8-5fa1-4206-9bfe-d9572f1b99cb",
   "metadata": {},
   "source": [
    "Whenever the object the right-hand side *evaluates to at runtime* is not iterable or does not have the correct number of elements, or its elements that correspond to \"tuples\" or \"lists\" on the left-hand side are not iterable or do not have the correct number of elements, etc., we get an error."
   ]
  },
  {
   "cell_type": "code",
   "execution_count": 10,
   "id": "b760f1a6-8fb3-42b7-8f72-e89644dcb161",
   "metadata": {
    "tags": [
     "raises-exception"
    ]
   },
   "outputs": [
    {
     "ename": "ValueError",
     "evalue": "too many values to unpack (expected 2)",
     "output_type": "error",
     "traceback": [
      "\u001b[1;31m---------------------------------------------------------------------------\u001b[0m",
      "\u001b[1;31mValueError\u001b[0m                                Traceback (most recent call last)",
      "Cell \u001b[1;32mIn [10], line 1\u001b[0m\n\u001b[1;32m----> 1\u001b[0m w, [x, (y, z)], t \u001b[38;5;241m=\u001b[39m [\u001b[38;5;241m10\u001b[39m, [\u001b[38;5;241m20\u001b[39m, [\u001b[38;5;241m30\u001b[39m, \u001b[38;5;241m40\u001b[39m, \u001b[38;5;241m41\u001b[39m]], \u001b[38;5;241m50\u001b[39m]\n",
      "\u001b[1;31mValueError\u001b[0m: too many values to unpack (expected 2)"
     ]
    }
   ],
   "source": [
    "w, [x, (y, z)], t = [10, [20, [30, 40, 41]], 50]"
   ]
  },
  {
   "cell_type": "markdown",
   "id": "e2e2244d-f3b7-4601-ac28-d13e543bead9",
   "metadata": {},
   "source": [
    "### In `match`-`case`"
   ]
  },
  {
   "cell_type": "markdown",
   "id": "d4abd885-22fb-472e-bfaf-8d1dbd30a9c4",
   "metadata": {},
   "source": [
    "`match`-`case` has more powerful pattern matching than other forms of assignment. This will be reviewed and further explored below. But the above examples apply to `match`-`case` as well:"
   ]
  },
  {
   "cell_type": "code",
   "execution_count": 11,
   "id": "92d14e35-ff3d-484b-9fbb-0227ed507914",
   "metadata": {},
   "outputs": [],
   "source": [
    "def try_match(obj):\n",
    "    match obj:\n",
    "        case w, [x, (y, z)], t:\n",
    "            print(f'{obj!r} matched. Got {w=}, {x=}, {y=}, {z=}, {t=}.')\n",
    "        case _:\n",
    "            print(f'{obj!r} did not match.')  # Well, it matched this catch-all pattern."
   ]
  },
  {
   "cell_type": "code",
   "execution_count": 12,
   "id": "8f2e73f6-f950-47a8-a992-e00f3918c377",
   "metadata": {},
   "outputs": [
    {
     "name": "stdout",
     "output_type": "stream",
     "text": [
      "[10, [20, [30, 40]], 50] matched. Got w=10, x=20, y=30, z=40, t=50.\n"
     ]
    }
   ],
   "source": [
    "try_match([10, [20, [30, 40]], 50])"
   ]
  },
  {
   "cell_type": "code",
   "execution_count": 13,
   "id": "3a679269-9ddc-48f7-b057-29fb4cf9af46",
   "metadata": {},
   "outputs": [
    {
     "name": "stdout",
     "output_type": "stream",
     "text": [
      "[10, [20, [30, 40, 41]], 50] did not match.\n"
     ]
    }
   ],
   "source": [
    "try_match([10, [20, [30, 40, 41]], 50])"
   ]
  },
  {
   "cell_type": "markdown",
   "id": "e8d634b9-1400-4cd5-b113-9e6f4fa636e5",
   "metadata": {},
   "source": [
    "### Why \"not even in principle\""
   ]
  },
  {
   "cell_type": "markdown",
   "id": "f9f262cb-1f98-415f-a90d-792ccaaddab1",
   "metadata": {},
   "source": [
    "Note that all of the above are different from a situation where creating a list or tuple is specified but is likely to be optimized away, as on the *right-hand side* of:"
   ]
  },
  {
   "cell_type": "code",
   "execution_count": 14,
   "id": "1e6010dc-5659-412f-8fa1-da084fea7ef7",
   "metadata": {},
   "outputs": [],
   "source": [
    "p, q = 100, 200"
   ]
  },
  {
   "cell_type": "markdown",
   "id": "eba49999-4139-428e-bf7f-dc68c26b8a1a",
   "metadata": {},
   "source": [
    "On the *left-hand side* of that assignment statement, the reason no actual tuple `p, q` is created is not that any operation is optimized away, but that there is not even any way to *make sense* out of creating such a tuple.\n",
    "\n",
    "(`p` and `q` need not, and in this case do not, even exist yet. Furthermore, tuples are immutable, so we cannot assign values *into* them.)"
   ]
  },
  {
   "cell_type": "markdown",
   "id": "72601aba-8582-4445-af64-22510e328af4",
   "metadata": {},
   "source": [
    "## `match`-`case` patterns"
   ]
  },
  {
   "cell_type": "markdown",
   "id": "c210a066-4672-43cf-a4e3-6ca1704d62ac",
   "metadata": {},
   "source": [
    "We begin with review, then explore what it means when what is *syntactically* a call expression--as if to construct an object by calling a class--appears as a pattern in `match`-`case`, and the meaning of keyword and positional arguments in such a pattern."
   ]
  },
  {
   "cell_type": "code",
   "execution_count": 15,
   "id": "8285bdd3-cfbd-4a8a-a155-eea0d9038643",
   "metadata": {},
   "outputs": [],
   "source": [
    "from fractions import Fraction\n",
    "from numbers import Real"
   ]
  },
  {
   "cell_type": "code",
   "execution_count": 16,
   "id": "46ec7739-ecca-4f93-bc0a-c4da02a88bbe",
   "metadata": {
    "tags": [
     "raises-exception"
    ]
   },
   "outputs": [
    {
     "ename": "TypeError",
     "evalue": "Can't instantiate abstract class Real with abstract methods __abs__, __add__, __ceil__, __eq__, __float__, __floor__, __floordiv__, __le__, __lt__, __mod__, __mul__, __neg__, __pos__, __pow__, __radd__, __rfloordiv__, __rmod__, __rmul__, __round__, __rpow__, __rtruediv__, __truediv__, __trunc__",
     "output_type": "error",
     "traceback": [
      "\u001b[1;31m---------------------------------------------------------------------------\u001b[0m",
      "\u001b[1;31mTypeError\u001b[0m                                 Traceback (most recent call last)",
      "Cell \u001b[1;32mIn [16], line 1\u001b[0m\n\u001b[1;32m----> 1\u001b[0m \u001b[43mReal\u001b[49m\u001b[43m(\u001b[49m\u001b[43m)\u001b[49m\n",
      "\u001b[1;31mTypeError\u001b[0m: Can't instantiate abstract class Real with abstract methods __abs__, __add__, __ceil__, __eq__, __float__, __floor__, __floordiv__, __le__, __lt__, __mod__, __mul__, __neg__, __pos__, __pow__, __radd__, __rfloordiv__, __rmod__, __rmul__, __round__, __rpow__, __rtruediv__, __truediv__, __trunc__"
     ]
    }
   ],
   "source": [
    "Real()  # Abstract class, can't instantiate."
   ]
  },
  {
   "cell_type": "code",
   "execution_count": 17,
   "id": "493bd6dc-bee6-4818-b5bd-3e40c2924d9b",
   "metadata": {},
   "outputs": [],
   "source": [
    "def describe(n):\n",
    "    match n:\n",
    "        case 42:\n",
    "            print(f'{n} is said to be the answer to an important question.')\n",
    "        case 76:\n",
    "            print(f'{n} is a pretty cool integer.')\n",
    "        case int():  # Does not \"construct\" an int, which would always be 0.\n",
    "            print(f'{n} is some integer or other.')\n",
    "        case Real():  # Does not \"construct\" a Real, which could never succeed.\n",
    "            print(f'{n} is not an integer, but a real number of some sort.')\n",
    "        case _:\n",
    "            print(f'{n} is not a real number.')"
   ]
  },
  {
   "cell_type": "code",
   "execution_count": 18,
   "id": "0eda4627-493f-4977-bfca-fc9383ab0665",
   "metadata": {},
   "outputs": [
    {
     "name": "stdout",
     "output_type": "stream",
     "text": [
      "42 is said to be the answer to an important question.\n",
      "76 is a pretty cool integer.\n",
      "100 is some integer or other.\n",
      "2.5 is not an integer, but a real number of some sort.\n",
      "5/2 is not an integer, but a real number of some sort.\n",
      "4j is not a real number.\n",
      "foo is not a real number.\n"
     ]
    }
   ],
   "source": [
    "for thing in 42, 76, 100, 2.5, Fraction(5, 2), 4j, 'foo':\n",
    "    describe(thing)"
   ]
  },
  {
   "cell_type": "markdown",
   "id": "79f93d07-6c91-47e1-b4cd-e1912dd31fff",
   "metadata": {},
   "source": [
    "What happens if we try to extract 42 and 76 to named constants?"
   ]
  },
  {
   "cell_type": "code",
   "execution_count": null,
   "id": "b7bd891c-281e-4e84-b44f-b3d69df7e32c",
   "metadata": {},
   "outputs": [],
   "source": []
  }
 ],
 "metadata": {
  "kernelspec": {
   "display_name": "Python 3 (ipykernel)",
   "language": "python",
   "name": "python3"
  },
  "language_info": {
   "codemirror_mode": {
    "name": "ipython",
    "version": 3
   },
   "file_extension": ".py",
   "mimetype": "text/x-python",
   "name": "python",
   "nbconvert_exporter": "python",
   "pygments_lexer": "ipython3",
   "version": "3.10.6"
  }
 },
 "nbformat": 4,
 "nbformat_minor": 5
}
