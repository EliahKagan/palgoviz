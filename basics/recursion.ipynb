{
 "cells": [
  {
   "cell_type": "markdown",
   "id": "3a1e484a-6ee3-4030-b209-15d840ec4bd0",
   "metadata": {},
   "source": [
    "# Recursion notes"
   ]
  },
  {
   "cell_type": "markdown",
   "id": "56bb1060",
   "metadata": {},
   "source": [
    "# Recursion notes"
   ]
  },
  {
   "cell_type": "code",
   "execution_count": 1,
   "id": "b23f5ee4-1e48-4e3f-9c4f-3cf412d4fd7b",
   "metadata": {},
   "outputs": [],
   "source": [
    "from recursion import *"
   ]
  },
  {
   "cell_type": "code",
   "execution_count": 2,
   "id": "65ae601c-4764-4d8a-b986-6d6b5ef63c31",
   "metadata": {},
   "outputs": [
    {
     "data": {
      "text/plain": [
       "0"
      ]
     },
     "execution_count": 2,
     "metadata": {},
     "output_type": "execute_result"
    }
   ],
   "source": [
    "add_all([])"
   ]
  },
  {
   "cell_type": "code",
   "execution_count": 3,
   "id": "d0d5a100-a577-499d-919b-1d8e09ba38b9",
   "metadata": {},
   "outputs": [],
   "source": [
    "# _helpadd(2,[1,2])"
   ]
  },
  {
   "cell_type": "code",
   "execution_count": 4,
   "id": "c46054bc-45e3-41a0-8b14-eb25d224492f",
   "metadata": {},
   "outputs": [
    {
     "data": {
      "text/plain": [
       "['In',\n",
       " 'Out',\n",
       " '_',\n",
       " '_2',\n",
       " '__',\n",
       " '___',\n",
       " '__builtin__',\n",
       " '__builtins__',\n",
       " '__doc__',\n",
       " '__loader__',\n",
       " '__name__',\n",
       " '__package__',\n",
       " '__spec__',\n",
       " '_dh',\n",
       " '_i',\n",
       " '_i1',\n",
       " '_i2',\n",
       " '_i3',\n",
       " '_i4',\n",
       " '_ih',\n",
       " '_ii',\n",
       " '_iii',\n",
       " '_oh',\n",
       " 'add_all',\n",
       " 'add_all_iterative',\n",
       " 'add_all_slow',\n",
       " 'binary_insertion_sort',\n",
       " 'binary_insertion_sort_recursive',\n",
       " 'binary_insertion_sort_recursive_alt',\n",
       " 'binary_search',\n",
       " 'binary_search_alt',\n",
       " 'binary_search_good',\n",
       " 'binary_search_iterative',\n",
       " 'binary_search_iterative_alt',\n",
       " 'countdown',\n",
       " 'exit',\n",
       " 'flatten',\n",
       " 'flatten_iterative',\n",
       " 'flatten_iterative_observed',\n",
       " 'flatten_levelorder',\n",
       " 'flatten_levelorder_observed',\n",
       " 'flatten_observed',\n",
       " 'get_ipython',\n",
       " 'insertion_sort',\n",
       " 'insertion_sort_recursive',\n",
       " 'insertion_sort_recursive_alt',\n",
       " 'insort_left_linear',\n",
       " 'insort_right_linear',\n",
       " 'leaf_sum',\n",
       " 'leaf_sum_alt',\n",
       " 'leaf_sum_dec',\n",
       " 'linear_search',\n",
       " 'linear_search_good',\n",
       " 'linear_search_iterative',\n",
       " 'linear_search_iterative_alt',\n",
       " 'make_deep_tuple',\n",
       " 'merge_sort',\n",
       " 'merge_sort_bottom_up',\n",
       " 'merge_sort_bottom_up_unstable',\n",
       " 'merge_two',\n",
       " 'merge_two_alt',\n",
       " 'merge_two_slow',\n",
       " 'nest',\n",
       " 'observe_edge',\n",
       " 'quit']"
      ]
     },
     "execution_count": 4,
     "metadata": {},
     "output_type": "execute_result"
    }
   ],
   "source": [
    "dir()"
   ]
  },
  {
   "cell_type": "code",
   "execution_count": 5,
   "id": "473428d0-69b0-42e7-ac3a-bdee58ebbae1",
   "metadata": {},
   "outputs": [
    {
     "name": "stdout",
     "output_type": "stream",
     "text": [
      "['x']\n"
     ]
    }
   ],
   "source": [
    "def f():\n",
    "    x = 10\n",
    "    print(dir())\n",
    "\n",
    "f()"
   ]
  },
  {
   "cell_type": "code",
   "execution_count": 6,
   "id": "c115766e-484b-4327-964d-8ae9cbbee4bd",
   "metadata": {},
   "outputs": [],
   "source": [
    "# recursion"
   ]
  },
  {
   "cell_type": "code",
   "execution_count": 7,
   "id": "3b2332dc-7546-4dc4-b032-b3112a840459",
   "metadata": {},
   "outputs": [
    {
     "data": {
      "text/plain": [
       "0"
      ]
     },
     "execution_count": 7,
     "metadata": {},
     "output_type": "execute_result"
    }
   ],
   "source": [
    "add_all([])"
   ]
  },
  {
   "cell_type": "code",
   "execution_count": 8,
   "id": "50303c38-3935-41be-ad8a-0bca0d1aabfe",
   "metadata": {},
   "outputs": [
    {
     "data": {
      "text/plain": [
       "7"
      ]
     },
     "execution_count": 8,
     "metadata": {},
     "output_type": "execute_result"
    }
   ],
   "source": [
    "add_all([7])"
   ]
  },
  {
   "cell_type": "code",
   "execution_count": 9,
   "id": "63c0f4b1-0e35-449b-a1d9-bf6f8ba7da4d",
   "metadata": {},
   "outputs": [
    {
     "data": {
      "text/plain": [
       "8"
      ]
     },
     "execution_count": 9,
     "metadata": {},
     "output_type": "execute_result"
    }
   ],
   "source": [
    "add_all([7, 1])"
   ]
  },
  {
   "cell_type": "code",
   "execution_count": 10,
   "id": "a7181a51-18b8-46ac-a60e-3777d88f2d97",
   "metadata": {},
   "outputs": [
    {
     "data": {
      "text/plain": [
       "10"
      ]
     },
     "execution_count": 10,
     "metadata": {},
     "output_type": "execute_result"
    }
   ],
   "source": [
    "add_all((3, 6, 1))"
   ]
  },
  {
   "cell_type": "code",
   "execution_count": 11,
   "id": "53eab643-5675-4cb2-90a4-b01cee0ff858",
   "metadata": {},
   "outputs": [
    {
     "data": {
      "text/plain": [
       "0"
      ]
     },
     "execution_count": 11,
     "metadata": {},
     "output_type": "execute_result"
    }
   ],
   "source": [
    "add_all(())"
   ]
  },
  {
   "cell_type": "code",
   "execution_count": 12,
   "id": "d87e5acc-994a-4e8a-8d87-a079e1425bc4",
   "metadata": {},
   "outputs": [],
   "source": [
    "a = (4, 5, 6)"
   ]
  },
  {
   "cell_type": "code",
   "execution_count": 13,
   "id": "026328c7-3cc3-498b-bbeb-4dbb7cf36eed",
   "metadata": {},
   "outputs": [
    {
     "data": {
      "text/plain": [
       "1"
      ]
     },
     "execution_count": 13,
     "metadata": {},
     "output_type": "execute_result"
    }
   ],
   "source": [
    "a.index(5)"
   ]
  },
  {
   "cell_type": "code",
   "execution_count": 14,
   "id": "6b2bbaa9-210b-4326-999f-e3253d29fb8c",
   "metadata": {},
   "outputs": [],
   "source": [
    "# a.index(7)"
   ]
  },
  {
   "cell_type": "code",
   "execution_count": 15,
   "id": "36822482-f74e-4e19-86c9-170e582e0b54",
   "metadata": {},
   "outputs": [
    {
     "data": {
      "text/plain": [
       "[]"
      ]
     },
     "execution_count": 15,
     "metadata": {},
     "output_type": "execute_result"
    }
   ],
   "source": [
    "list(range(0))"
   ]
  },
  {
   "cell_type": "code",
   "execution_count": 16,
   "id": "ec47a6db-7763-4c43-b14f-8893a3a49a2d",
   "metadata": {},
   "outputs": [
    {
     "data": {
      "text/plain": [
       "[(0, 2), (1, 3), (2, 4), (3, 5)]"
      ]
     },
     "execution_count": 16,
     "metadata": {},
     "output_type": "execute_result"
    }
   ],
   "source": [
    "list(enumerate([2,3,4,5]))"
   ]
  },
  {
   "cell_type": "code",
   "execution_count": 17,
   "id": "484454fb-2366-462b-a258-a2f6c2b8b2c3",
   "metadata": {},
   "outputs": [
    {
     "data": {
      "text/plain": [
       "0"
      ]
     },
     "execution_count": 17,
     "metadata": {},
     "output_type": "execute_result"
    }
   ],
   "source": [
    "len([])"
   ]
  },
  {
   "cell_type": "code",
   "execution_count": 18,
   "id": "5cad29ed-f74f-45b6-93a7-6579f48f869c",
   "metadata": {},
   "outputs": [
    {
     "data": {
      "text/plain": [
       "1"
      ]
     },
     "execution_count": 18,
     "metadata": {},
     "output_type": "execute_result"
    }
   ],
   "source": [
    "linear_search([4, 5, 6], 5)"
   ]
  },
  {
   "cell_type": "code",
   "execution_count": 19,
   "id": "1943a9ab-dcba-4293-b8b9-d39c445829c8",
   "metadata": {},
   "outputs": [],
   "source": [
    "a = (2, 3, 5)"
   ]
  },
  {
   "cell_type": "code",
   "execution_count": 20,
   "id": "53b91731-4a24-4775-a87e-504429012dad",
   "metadata": {},
   "outputs": [
    {
     "data": {
      "text/plain": [
       "3"
      ]
     },
     "execution_count": 20,
     "metadata": {},
     "output_type": "execute_result"
    }
   ],
   "source": [
    "a[1]"
   ]
  },
  {
   "cell_type": "code",
   "execution_count": 21,
   "id": "a028bdbe-3538-4de2-9301-d7acd2ef90e2",
   "metadata": {},
   "outputs": [],
   "source": [
    "b = [3, 1, 2, 8, 6, 5, 7]"
   ]
  },
  {
   "cell_type": "code",
   "execution_count": 22,
   "id": "fb6e4920-09f1-4d25-84ae-a472cc347360",
   "metadata": {},
   "outputs": [
    {
     "data": {
      "text/plain": [
       "[1, 2, 3, 5, 6, 7, 8]"
      ]
     },
     "execution_count": 22,
     "metadata": {},
     "output_type": "execute_result"
    }
   ],
   "source": [
    "sorted(b)"
   ]
  },
  {
   "cell_type": "code",
   "execution_count": 23,
   "id": "19f43e57-e36b-4fb1-abfa-d5eaac1ec5fb",
   "metadata": {},
   "outputs": [
    {
     "data": {
      "text/plain": [
       "0.6666666666666666"
      ]
     },
     "execution_count": 23,
     "metadata": {},
     "output_type": "execute_result"
    }
   ],
   "source": [
    "2 / 3"
   ]
  },
  {
   "cell_type": "code",
   "execution_count": 24,
   "id": "c4afd0d1-3118-47a8-82a0-dae40b99ea05",
   "metadata": {},
   "outputs": [
    {
     "data": {
      "text/plain": [
       "0"
      ]
     },
     "execution_count": 24,
     "metadata": {},
     "output_type": "execute_result"
    }
   ],
   "source": [
    "2 // 3"
   ]
  },
  {
   "cell_type": "code",
   "execution_count": 25,
   "id": "5f0c4576-c373-401e-903b-55ff2a413ca0",
   "metadata": {},
   "outputs": [
    {
     "data": {
      "text/plain": [
       "0.4"
      ]
     },
     "execution_count": 25,
     "metadata": {},
     "output_type": "execute_result"
    }
   ],
   "source": [
    "2 / 5"
   ]
  },
  {
   "cell_type": "code",
   "execution_count": 26,
   "id": "658d88a7-6f70-4de2-b4f2-299312377a91",
   "metadata": {},
   "outputs": [
    {
     "data": {
      "text/plain": [
       "0"
      ]
     },
     "execution_count": 26,
     "metadata": {},
     "output_type": "execute_result"
    }
   ],
   "source": [
    "2 // 5"
   ]
  },
  {
   "cell_type": "markdown",
   "id": "c8e64138-7fdb-45f0-8020-743dc064e7a7",
   "metadata": {},
   "source": [
    "Numbers $a$ to $z$."
   ]
  },
  {
   "cell_type": "markdown",
   "id": "45b64bbd-8a77-4bbd-a85e-668e46302c01",
   "metadata": {},
   "source": [
    "$1 \\times 2 \\times 2 \\times 2 \\ldots \\times 2 = n$"
   ]
  },
  {
   "cell_type": "markdown",
   "id": "231e7e22-60a1-49cf-be3d-63c9a0755177",
   "metadata": {},
   "source": [
    "$2^x = n$, solve for $x$."
   ]
  },
  {
   "cell_type": "markdown",
   "id": "d45d2400-ef5e-4fba-9eb1-cb7ec4eb1946",
   "metadata": {},
   "source": [
    "$4^x = (2 \\cdot 2)^x = 2^x \\cdot 2^x$"
   ]
  },
  {
   "cell_type": "markdown",
   "id": "fdaeaa5f-6957-45ff-8dbc-f51e98b57867",
   "metadata": {},
   "source": [
    "Suppose $x$ takes $n$ digits to write in base $4$."
   ]
  },
  {
   "cell_type": "code",
   "execution_count": 27,
   "id": "a7cf0308-5ed1-4d86-ac8b-c865e82e2cf1",
   "metadata": {},
   "outputs": [],
   "source": [
    "import bisect"
   ]
  },
  {
   "cell_type": "code",
   "execution_count": 28,
   "id": "01a7eaeb-df61-4867-86af-8774f640ed18",
   "metadata": {},
   "outputs": [
    {
     "name": "stdout",
     "output_type": "stream",
     "text": [
      "Help on built-in function bisect_left in module _bisect:\n",
      "\n",
      "bisect_left(a, x, lo=0, hi=None, *, key=None)\n",
      "    Return the index where to insert item x in list a, assuming a is sorted.\n",
      "    \n",
      "    The return value i is such that all e in a[:i] have e < x, and all e in\n",
      "    a[i:] have e >= x.  So if x already appears in the list, a.insert(i, x) will\n",
      "    insert just before the leftmost x already there.\n",
      "    \n",
      "    Optional args lo (default 0) and hi (default len(a)) bound the\n",
      "    slice of a to be searched.\n",
      "\n"
     ]
    }
   ],
   "source": [
    "help(bisect.bisect_left)"
   ]
  },
  {
   "cell_type": "code",
   "execution_count": 29,
   "id": "42b2901d-b2cb-471a-88e1-21fc796cd2a8",
   "metadata": {},
   "outputs": [
    {
     "data": {
      "text/plain": [
       "True"
      ]
     },
     "execution_count": 29,
     "metadata": {},
     "output_type": "execute_result"
    }
   ],
   "source": [
    "1 < 2 < 3"
   ]
  },
  {
   "cell_type": "code",
   "execution_count": 30,
   "id": "6bddd465-7b8d-4539-858d-7edc4ae3acac",
   "metadata": {},
   "outputs": [],
   "source": [
    "u = []"
   ]
  },
  {
   "cell_type": "code",
   "execution_count": 31,
   "id": "6055b6ba-fdb8-4c25-9041-dae3e8a81f0a",
   "metadata": {},
   "outputs": [],
   "source": [
    "u.append(3)"
   ]
  },
  {
   "cell_type": "code",
   "execution_count": 32,
   "id": "4e059acf-970f-492f-9641-4847b4569744",
   "metadata": {},
   "outputs": [
    {
     "data": {
      "text/plain": [
       "[3]"
      ]
     },
     "execution_count": 32,
     "metadata": {},
     "output_type": "execute_result"
    }
   ],
   "source": [
    "u"
   ]
  },
  {
   "cell_type": "code",
   "execution_count": 33,
   "id": "98e4479c-56a6-438c-8c8a-7a7ad42ee28c",
   "metadata": {},
   "outputs": [],
   "source": [
    "u.append(u)"
   ]
  },
  {
   "cell_type": "code",
   "execution_count": 34,
   "id": "3fd2e7ee-3d1e-40c3-a96f-d8fd915ea573",
   "metadata": {},
   "outputs": [
    {
     "data": {
      "text/plain": [
       "[3, [...]]"
      ]
     },
     "execution_count": 34,
     "metadata": {},
     "output_type": "execute_result"
    }
   ],
   "source": [
    "u"
   ]
  },
  {
   "cell_type": "code",
   "execution_count": 35,
   "id": "ce03c2e2-ed2f-46c3-8d84-570dcdd6fe5a",
   "metadata": {},
   "outputs": [
    {
     "data": {
      "text/plain": [
       "True"
      ]
     },
     "execution_count": 35,
     "metadata": {},
     "output_type": "execute_result"
    }
   ],
   "source": [
    "u == u "
   ]
  },
  {
   "cell_type": "code",
   "execution_count": 36,
   "id": "ee4959c4-a076-4da4-81e8-3e9521554c6d",
   "metadata": {},
   "outputs": [],
   "source": [
    "v = []"
   ]
  },
  {
   "cell_type": "code",
   "execution_count": 37,
   "id": "cc0f863f-7fb2-44be-92ba-bd400ac30edf",
   "metadata": {},
   "outputs": [],
   "source": [
    "v.append(v)"
   ]
  },
  {
   "cell_type": "code",
   "execution_count": 38,
   "id": "1beca512-d2e2-4f61-9e7f-a5ba9d60e6e1",
   "metadata": {},
   "outputs": [
    {
     "data": {
      "text/plain": [
       "[[...]]"
      ]
     },
     "execution_count": 38,
     "metadata": {},
     "output_type": "execute_result"
    }
   ],
   "source": [
    "v"
   ]
  },
  {
   "cell_type": "code",
   "execution_count": 39,
   "id": "bea0aee7-60a9-488d-b1b9-e66567560aa7",
   "metadata": {},
   "outputs": [
    {
     "data": {
      "text/plain": [
       "False"
      ]
     },
     "execution_count": 39,
     "metadata": {},
     "output_type": "execute_result"
    }
   ],
   "source": [
    "u == v"
   ]
  },
  {
   "cell_type": "code",
   "execution_count": 40,
   "id": "3fca2f59-3b1a-4c98-b1f1-12176a24bf17",
   "metadata": {},
   "outputs": [],
   "source": [
    "v[0] = 3"
   ]
  },
  {
   "cell_type": "code",
   "execution_count": 41,
   "id": "39454641-25fa-47fa-8a06-40e17a9fa19e",
   "metadata": {},
   "outputs": [
    {
     "data": {
      "text/plain": [
       "[3]"
      ]
     },
     "execution_count": 41,
     "metadata": {},
     "output_type": "execute_result"
    }
   ],
   "source": [
    "v"
   ]
  },
  {
   "cell_type": "code",
   "execution_count": 42,
   "id": "8940ec74-2277-47c3-8fe0-6a098887f2e2",
   "metadata": {},
   "outputs": [],
   "source": [
    "v.append(v)"
   ]
  },
  {
   "cell_type": "code",
   "execution_count": 43,
   "id": "2b0d0cc1-d80d-4e34-bf22-015265dcbee9",
   "metadata": {},
   "outputs": [
    {
     "data": {
      "text/plain": [
       "[3, [...]]"
      ]
     },
     "execution_count": 43,
     "metadata": {},
     "output_type": "execute_result"
    }
   ],
   "source": [
    "v"
   ]
  },
  {
   "cell_type": "code",
   "execution_count": 44,
   "id": "d6fe1d67-4d5f-405f-8643-066ae756f1d6",
   "metadata": {
    "tags": [
     "raises-exception"
    ]
   },
   "outputs": [
    {
     "ename": "RecursionError",
     "evalue": "maximum recursion depth exceeded in comparison",
     "output_type": "error",
     "traceback": [
      "\u001b[1;31m---------------------------------------------------------------------------\u001b[0m",
      "\u001b[1;31mRecursionError\u001b[0m                            Traceback (most recent call last)",
      "Input \u001b[1;32mIn [44]\u001b[0m, in \u001b[0;36m<cell line: 1>\u001b[1;34m()\u001b[0m\n\u001b[1;32m----> 1\u001b[0m \u001b[43mv\u001b[49m\u001b[43m \u001b[49m\u001b[38;5;241;43m==\u001b[39;49m\u001b[43m \u001b[49m\u001b[43mu\u001b[49m\n",
      "\u001b[1;31mRecursionError\u001b[0m: maximum recursion depth exceeded in comparison"
     ]
    }
   ],
   "source": [
    "v == u "
   ]
  },
  {
   "cell_type": "code",
   "execution_count": 45,
   "id": "6b593fce-ddf0-43cd-ab76-f932bc24517b",
   "metadata": {},
   "outputs": [
    {
     "data": {
      "text/plain": [
       "100"
      ]
     },
     "execution_count": 45,
     "metadata": {},
     "output_type": "execute_result"
    }
   ],
   "source": [
    "# Iterative accumulator pattern.\n",
    "\n",
    "# This produces the number 100, counting by 1.\n",
    "acc = 0\n",
    "for _ in range(100):\n",
    "    acc = acc + 1  # acc += 1\n",
    "\n",
    "acc"
   ]
  },
  {
   "cell_type": "code",
   "execution_count": 46,
   "id": "180fc919-7174-4bc6-86bb-9ff66c83b633",
   "metadata": {},
   "outputs": [],
   "source": [
    "# tup = ()\n",
    "# for _ in range(30000):\n",
    "#     tup = (tup,) "
   ]
  },
  {
   "cell_type": "code",
   "execution_count": 47,
   "id": "4e7619aa-da0b-45a1-8f06-8facc3e1c89f",
   "metadata": {},
   "outputs": [],
   "source": [
    "# hash(tup)"
   ]
  },
  {
   "cell_type": "code",
   "execution_count": 48,
   "id": "6ec03dff-3cba-4d7e-b816-4cd860f1e794",
   "metadata": {},
   "outputs": [],
   "source": [
    "from recursion import nest"
   ]
  },
  {
   "cell_type": "code",
   "execution_count": 49,
   "id": "fed966df-37e5-4377-af5e-174acba0d6d1",
   "metadata": {},
   "outputs": [
    {
     "data": {
      "text/plain": [
       "((((((((((7,),),),),),),),),),)"
      ]
     },
     "execution_count": 49,
     "metadata": {},
     "output_type": "execute_result"
    }
   ],
   "source": [
    "nest(seed=7, degree=1, height=10)"
   ]
  },
  {
   "cell_type": "code",
   "execution_count": 50,
   "id": "8d42631c-5149-4f53-9f0b-cf1acf205e53",
   "metadata": {},
   "outputs": [
    {
     "data": {
      "text/plain": [
       "(7,)"
      ]
     },
     "execution_count": 50,
     "metadata": {},
     "output_type": "execute_result"
    }
   ],
   "source": [
    "nest(seed=7, degree=1, height=1)"
   ]
  },
  {
   "cell_type": "code",
   "execution_count": 51,
   "id": "61ec5cf5-77e5-4511-ba41-6b76e35ae40a",
   "metadata": {},
   "outputs": [
    {
     "data": {
      "text/plain": [
       "((7,),)"
      ]
     },
     "execution_count": 51,
     "metadata": {},
     "output_type": "execute_result"
    }
   ],
   "source": [
    "nest(seed=7, degree=1, height=2)"
   ]
  },
  {
   "cell_type": "code",
   "execution_count": 52,
   "id": "62a04042-96eb-4549-812a-4115a34191af",
   "metadata": {},
   "outputs": [
    {
     "data": {
      "text/plain": [
       "(((7,),),)"
      ]
     },
     "execution_count": 52,
     "metadata": {},
     "output_type": "execute_result"
    }
   ],
   "source": [
    "nest(seed=7, degree=1, height=3)"
   ]
  },
  {
   "cell_type": "code",
   "execution_count": 53,
   "id": "4171e660-c6fa-4d98-b4fc-0146c8618506",
   "metadata": {},
   "outputs": [
    {
     "data": {
      "text/plain": [
       "(((7, 7), (7, 7)), ((7, 7), (7, 7)))"
      ]
     },
     "execution_count": 53,
     "metadata": {},
     "output_type": "execute_result"
    }
   ],
   "source": [
    "nest(seed=7, degree=2, height=3)"
   ]
  },
  {
   "cell_type": "code",
   "execution_count": 54,
   "id": "febba7eb-501f-42b9-9abd-25e0b83f0db1",
   "metadata": {},
   "outputs": [
    {
     "data": {
      "text/plain": [
       "((((),),),)"
      ]
     },
     "execution_count": 54,
     "metadata": {},
     "output_type": "execute_result"
    }
   ],
   "source": [
    "make_deep_tuple(3)"
   ]
  },
  {
   "cell_type": "markdown",
   "id": "ceeb414a-8fe9-4791-a5cc-3d96f9e6d137",
   "metadata": {},
   "source": [
    "### What is the disadvantage of this binary search implementation?"
   ]
  },
  {
   "cell_type": "code",
   "execution_count": 55,
   "id": "9d36d0b1-ec62-4166-a61d-6279a4d0b78e",
   "metadata": {},
   "outputs": [],
   "source": [
    "def bsearch(values, x):\n",
    "    print(values)\n",
    "    if not values:\n",
    "        return None\n",
    "    halfway = len(values) // 2\n",
    "    print(halfway)\n",
    "    if x > values[halfway]:\n",
    "        return halfway + 1 + bsearch(values[halfway + 1:], x)\n",
    "    if x < values[halfway]:\n",
    "        return bsearch(values[:halfway], x)\n",
    "    return halfway"
   ]
  },
  {
   "cell_type": "code",
   "execution_count": 56,
   "id": "b8ca1801-e810-4767-910c-dcb391fc2d46",
   "metadata": {},
   "outputs": [
    {
     "name": "stdout",
     "output_type": "stream",
     "text": [
      "(2, 3, 4, 5, 6, 7)\n",
      "3\n",
      "(2, 3, 4)\n",
      "1\n"
     ]
    },
    {
     "data": {
      "text/plain": [
       "1"
      ]
     },
     "execution_count": 56,
     "metadata": {},
     "output_type": "execute_result"
    }
   ],
   "source": [
    "bsearch((2, 3, 4, 5, 6, 7), 3)"
   ]
  },
  {
   "cell_type": "markdown",
   "id": "b7ea5a3f-1405-47ac-b2f5-2b6b1970520b",
   "metadata": {},
   "source": [
    "It takes O(n) time instead of O(log n) time because if the copying entailed by making slices. See `binary_search_slow` in `recursion.py`."
   ]
  },
  {
   "cell_type": "code",
   "execution_count": null,
   "id": "a83f3b53-8ca8-485a-893e-cda8a9de7c20",
   "metadata": {},
   "outputs": [],
   "source": []
  }
 ],
 "metadata": {
  "kernelspec": {
   "display_name": "Python 3 (ipykernel)",
   "language": "python",
   "name": "python3"
  },
  "language_info": {
   "codemirror_mode": {
    "name": "ipython",
    "version": 3
   },
   "file_extension": ".py",
   "mimetype": "text/x-python",
   "name": "python",
   "nbconvert_exporter": "python",
   "pygments_lexer": "ipython3",
   "version": "3.10.5"
  }
 },
 "nbformat": 4,
 "nbformat_minor": 5
}
