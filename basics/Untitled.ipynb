{
 "cells": [
  {
   "cell_type": "code",
   "execution_count": 28,
   "id": "99812f5c-27ce-4cd2-8bd7-743dbd8dada8",
   "metadata": {},
   "outputs": [],
   "source": [
    "import itertools"
   ]
  },
  {
   "cell_type": "code",
   "execution_count": 29,
   "id": "038a45ea-45d6-47c0-bcde-897d3ec7673a",
   "metadata": {},
   "outputs": [],
   "source": [
    "it = itertools.count()"
   ]
  },
  {
   "cell_type": "code",
   "execution_count": 30,
   "id": "0958acc4-cbe9-4f64-a865-f2dbc7200003",
   "metadata": {},
   "outputs": [],
   "source": [
    "def forever_up(): \n",
    "    for x in it: \n",
    "        yield x"
   ]
  },
  {
   "cell_type": "code",
   "execution_count": 31,
   "id": "18738219-7be9-4fae-b7fd-e90efe19c66d",
   "metadata": {},
   "outputs": [
    {
     "data": {
      "text/plain": [
       "<generator object forever_up at 0x000002697E400660>"
      ]
     },
     "execution_count": 31,
     "metadata": {},
     "output_type": "execute_result"
    }
   ],
   "source": [
    "forever_up()"
   ]
  },
  {
   "cell_type": "code",
   "execution_count": null,
   "id": "656058a6-9f94-4b26-a83f-5d2504a9af8f",
   "metadata": {},
   "outputs": [],
   "source": []
  },
  {
   "cell_type": "code",
   "execution_count": null,
   "id": "de9cb989-8fec-4877-afae-2e7aaeabe272",
   "metadata": {},
   "outputs": [],
   "source": []
  },
  {
   "cell_type": "code",
   "execution_count": null,
   "id": "c619dcac-c624-4e78-ac10-2e125dd9429c",
   "metadata": {},
   "outputs": [],
   "source": []
  }
 ],
 "metadata": {
  "kernelspec": {
   "display_name": "Python 3 (ipykernel)",
   "language": "python",
   "name": "python3"
  },
  "language_info": {
   "codemirror_mode": {
    "name": "ipython",
    "version": 3
   },
   "file_extension": ".py",
   "mimetype": "text/x-python",
   "name": "python",
   "nbconvert_exporter": "python",
   "pygments_lexer": "ipython3",
   "version": "3.10.4"
  }
 },
 "nbformat": 4,
 "nbformat_minor": 5
}
