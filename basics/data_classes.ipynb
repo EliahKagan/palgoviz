{
 "cells": [
  {
   "cell_type": "markdown",
   "metadata": {},
   "source": [
    "# Named tuples and data classes"
   ]
  },
  {
   "cell_type": "markdown",
   "metadata": {},
   "source": [
    "## Motivation"
   ]
  },
  {
   "cell_type": "code",
   "execution_count": null,
   "metadata": {},
   "outputs": [],
   "source": [
    "def summarize(values):\n",
    "    \"\"\"\n",
    "    Compute min, max, and arithmetic, geometric, and harmonic mean.\n",
    "\n",
    "    values is an arbitrary nonempty iterable of strictly positive real numbers.\n",
    "    If values is empty, or any value is nonpositive, ValueError is raised. The\n",
    "    caller is responsible for ensuring each object in values represents a real\n",
    "    number. The five computed results are returned as [FIXME: decide how].\n",
    "\n",
    "    All computations are done in a single pass: values is iterated just once.\n",
    "    Time complexity is O(len(values)). Space complexity is O(1). These assume a\n",
    "    number takes O(1) space and arithmetic operations take O(1) time, which is\n",
    "    often an approximation in Python, but it is guaranteed when using floats.\n",
    "    \"\"\"\n",
    "    # FIXME: Implement this."
   ]
  }
 ],
 "metadata": {
  "kernelspec": {
   "display_name": "Python 3.10.6 ('algoviz-basics')",
   "language": "python",
   "name": "python3"
  },
  "language_info": {
   "name": "python",
   "version": "3.10.6"
  },
  "orig_nbformat": 4,
  "vscode": {
   "interpreter": {
    "hash": "a924a81514a67ab7abb52f10576a3bff5d43dd09540bf62ec090588d0cbe25a3"
   }
  }
 },
 "nbformat": 4,
 "nbformat_minor": 2
}
