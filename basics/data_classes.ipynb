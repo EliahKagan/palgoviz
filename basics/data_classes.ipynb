{
 "cells": [
  {
   "cell_type": "markdown",
   "metadata": {},
   "source": [
    "# Named tuples and data classes"
   ]
  },
  {
   "cell_type": "markdown",
   "metadata": {},
   "source": [
    "## Motivation"
   ]
  },
  {
   "cell_type": "code",
   "execution_count": null,
   "metadata": {},
   "outputs": [],
   "source": [
    "def summarize(values):\n",
    "    \"\"\"\n",
    "    Compute min, max, arithmetic mean, and geometric mean, in a single pass.\n",
    "\n",
    "    values is an arbitrary nonempty iterable of real numbers. We consider\n",
    "    geometric mean to be defined only for strictly positive numbers; if any\n",
    "    values are negative or zero, the geometric mean shall be NaN. The four\n",
    "    computed results are returned as [FIXME: decide how].\n",
    "\n",
    "    Time complexity is O(len(values)). Space complexity is O(1). These assume a\n",
    "    number takes O(1) space and arithmetic operations take O(1) time (which is\n",
    "    often an approximation in Python, but guaranteed when operating on floats).\n",
    "    \"\"\"\n",
    "    # FIXME: Implement this."
   ]
  }
 ],
 "metadata": {
  "kernelspec": {
   "display_name": "Python 3.10.6 ('algoviz-basics')",
   "language": "python",
   "name": "python3"
  },
  "language_info": {
   "name": "python",
   "version": "3.10.6"
  },
  "orig_nbformat": 4,
  "vscode": {
   "interpreter": {
    "hash": "a924a81514a67ab7abb52f10576a3bff5d43dd09540bf62ec090588d0cbe25a3"
   }
  }
 },
 "nbformat": 4,
 "nbformat_minor": 2
}
