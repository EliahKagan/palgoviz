{
 "cells": [
  {
   "cell_type": "markdown",
   "metadata": {},
   "source": [
    "# Named tuples and data classes"
   ]
  },
  {
   "cell_type": "markdown",
   "metadata": {},
   "source": [
    "## Motivation"
   ]
  },
  {
   "cell_type": "code",
   "execution_count": null,
   "metadata": {},
   "outputs": [],
   "source": [
    "def summarize(values):\n",
    "    \"\"\"\n",
    "    Compute min, max, arithmetic mean, and geometric mean, in a single pass.\n",
    "\n",
    "    values is an arbitrary nonempty iterable of real numbers (which may be an\n",
    "    iterator). Time complexity is O(len(values)). Space complexity is O(1).\n",
    "\n",
    "    The four computed results are returned as [FIXME: decide how].\n",
    "    \"\"\"\n",
    "    # FIXME: Implement this."
   ]
  }
 ],
 "metadata": {
  "kernelspec": {
   "display_name": "Python 3.10.6 ('algoviz-basics')",
   "language": "python",
   "name": "python3"
  },
  "language_info": {
   "name": "python",
   "version": "3.10.6"
  },
  "orig_nbformat": 4,
  "vscode": {
   "interpreter": {
    "hash": "a924a81514a67ab7abb52f10576a3bff5d43dd09540bf62ec090588d0cbe25a3"
   }
  }
 },
 "nbformat": 4,
 "nbformat_minor": 2
}
