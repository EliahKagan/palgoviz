{
 "cells": [
  {
   "cell_type": "code",
   "execution_count": 1,
   "id": "92bb735d-80c6-44b8-be90-04a16ea8ee5b",
   "metadata": {},
   "outputs": [],
   "source": [
    "import enum"
   ]
  },
  {
   "cell_type": "code",
   "execution_count": 2,
   "id": "6b839e6c-2c53-480b-8324-a88f1fe50b97",
   "metadata": {},
   "outputs": [
    {
     "data": {
      "text/plain": [
       "['DynamicClassAttribute',\n",
       " 'Enum',\n",
       " 'EnumMeta',\n",
       " 'Flag',\n",
       " 'IntEnum',\n",
       " 'IntFlag',\n",
       " 'MappingProxyType',\n",
       " '_EnumDict',\n",
       " '__all__',\n",
       " '__builtins__',\n",
       " '__cached__',\n",
       " '__doc__',\n",
       " '__file__',\n",
       " '__loader__',\n",
       " '__name__',\n",
       " '__package__',\n",
       " '__spec__',\n",
       " '_auto_null',\n",
       " '_decompose',\n",
       " '_high_bit',\n",
       " '_is_descriptor',\n",
       " '_is_dunder',\n",
       " '_is_private',\n",
       " '_is_sunder',\n",
       " '_make_class_unpicklable',\n",
       " '_reduce_ex_by_name',\n",
       " 'auto',\n",
       " 'sys',\n",
       " 'unique']"
      ]
     },
     "execution_count": 2,
     "metadata": {},
     "output_type": "execute_result"
    }
   ],
   "source": [
    "dir(enum)"
   ]
  },
  {
   "cell_type": "code",
   "execution_count": 3,
   "id": "a808788e-5c1b-4dfd-8a8f-ce56bcb6b7c3",
   "metadata": {},
   "outputs": [],
   "source": [
    "class MyEnumeration(enum.Enum):\n",
    "    MAX = 400\n",
    "    MIN = 10"
   ]
  },
  {
   "cell_type": "code",
   "execution_count": 4,
   "id": "17946df5-9c99-419c-a351-0b886d636c2c",
   "metadata": {},
   "outputs": [
    {
     "data": {
      "text/plain": [
       "<MyEnumeration.MAX: 400>"
      ]
     },
     "execution_count": 4,
     "metadata": {},
     "output_type": "execute_result"
    }
   ],
   "source": [
    "MyEnumeration.MAX"
   ]
  },
  {
   "cell_type": "code",
   "execution_count": 5,
   "id": "1e38167e-c4af-4e30-8282-13b7de781dc0",
   "metadata": {},
   "outputs": [
    {
     "data": {
      "text/plain": [
       "<enum 'MyEnumeration'>"
      ]
     },
     "execution_count": 5,
     "metadata": {},
     "output_type": "execute_result"
    }
   ],
   "source": [
    "type(MyEnumeration.MAX)"
   ]
  },
  {
   "cell_type": "code",
   "execution_count": 6,
   "id": "40c26179-eeca-4356-9430-05fe6216c560",
   "metadata": {},
   "outputs": [
    {
     "data": {
      "text/plain": [
       "400"
      ]
     },
     "execution_count": 6,
     "metadata": {},
     "output_type": "execute_result"
    }
   ],
   "source": [
    "MyEnumeration.MAX.value"
   ]
  },
  {
   "cell_type": "code",
   "execution_count": 7,
   "id": "9cffa201-c430-4e80-af10-f75a63b30f57",
   "metadata": {
    "tags": [
     "raises-exception"
    ]
   },
   "outputs": [
    {
     "ename": "ValueError",
     "evalue": "duplicate values found in <enum 'Dupe'>: BAR -> FOO",
     "output_type": "error",
     "traceback": [
      "\u001b[1;31m---------------------------------------------------------------------------\u001b[0m",
      "\u001b[1;31mValueError\u001b[0m                                Traceback (most recent call last)",
      "Input \u001b[1;32mIn [7]\u001b[0m, in \u001b[0;36m<cell line: 1>\u001b[1;34m()\u001b[0m\n\u001b[0;32m      1\u001b[0m \u001b[38;5;129;43m@enum\u001b[39;49m\u001b[38;5;241;43m.\u001b[39;49m\u001b[43munique\u001b[49m\n\u001b[1;32m----> 2\u001b[0m \u001b[38;5;28;43;01mclass\u001b[39;49;00m\u001b[43m \u001b[49m\u001b[38;5;21;43;01mDupe\u001b[39;49;00m\u001b[43m(\u001b[49m\u001b[43menum\u001b[49m\u001b[38;5;241;43m.\u001b[39;49m\u001b[43mEnum\u001b[49m\u001b[43m)\u001b[49m\u001b[43m:\u001b[49m\n\u001b[0;32m      3\u001b[0m \u001b[43m    \u001b[49m\u001b[43mFOO\u001b[49m\u001b[43m \u001b[49m\u001b[38;5;241;43m=\u001b[39;49m\u001b[43m \u001b[49m\u001b[38;5;241;43m10\u001b[39;49m\n\u001b[0;32m      4\u001b[0m \u001b[43m    \u001b[49m\u001b[43mBAR\u001b[49m\u001b[43m \u001b[49m\u001b[38;5;241;43m=\u001b[39;49m\u001b[43m \u001b[49m\u001b[38;5;241;43m10\u001b[39;49m\n",
      "File \u001b[1;32m~\\miniforge3\\envs\\algoviz-basics\\lib\\enum.py:1022\u001b[0m, in \u001b[0;36munique\u001b[1;34m(enumeration)\u001b[0m\n\u001b[0;32m   1019\u001b[0m \u001b[38;5;28;01mif\u001b[39;00m duplicates:\n\u001b[0;32m   1020\u001b[0m     alias_details \u001b[38;5;241m=\u001b[39m \u001b[38;5;124m'\u001b[39m\u001b[38;5;124m, \u001b[39m\u001b[38;5;124m'\u001b[39m\u001b[38;5;241m.\u001b[39mjoin(\n\u001b[0;32m   1021\u001b[0m             [\u001b[38;5;124m\"\u001b[39m\u001b[38;5;132;01m%s\u001b[39;00m\u001b[38;5;124m -> \u001b[39m\u001b[38;5;132;01m%s\u001b[39;00m\u001b[38;5;124m\"\u001b[39m \u001b[38;5;241m%\u001b[39m (alias, name) \u001b[38;5;28;01mfor\u001b[39;00m (alias, name) \u001b[38;5;129;01min\u001b[39;00m duplicates])\n\u001b[1;32m-> 1022\u001b[0m     \u001b[38;5;28;01mraise\u001b[39;00m \u001b[38;5;167;01mValueError\u001b[39;00m(\u001b[38;5;124m'\u001b[39m\u001b[38;5;124mduplicate values found in \u001b[39m\u001b[38;5;132;01m%r\u001b[39;00m\u001b[38;5;124m: \u001b[39m\u001b[38;5;132;01m%s\u001b[39;00m\u001b[38;5;124m'\u001b[39m \u001b[38;5;241m%\u001b[39m\n\u001b[0;32m   1023\u001b[0m             (enumeration, alias_details))\n\u001b[0;32m   1024\u001b[0m \u001b[38;5;28;01mreturn\u001b[39;00m enumeration\n",
      "\u001b[1;31mValueError\u001b[0m: duplicate values found in <enum 'Dupe'>: BAR -> FOO"
     ]
    }
   ],
   "source": [
    "@enum.unique\n",
    "class Dupe(enum.Enum):\n",
    "    FOO = 10\n",
    "    BAR = 10"
   ]
  },
  {
   "cell_type": "code",
   "execution_count": 8,
   "id": "5cc32dc0-b546-4ab5-8ed8-82e7c023c438",
   "metadata": {
    "tags": [
     "raises-exception"
    ]
   },
   "outputs": [],
   "source": [
    "# Dupe.FOO is Dupe.BAR"
   ]
  },
  {
   "cell_type": "code",
   "execution_count": 9,
   "id": "9850ec40-caab-4643-ae15-1cdf2bc76923",
   "metadata": {},
   "outputs": [
    {
     "data": {
      "text/plain": [
       "False"
      ]
     },
     "execution_count": 9,
     "metadata": {},
     "output_type": "execute_result"
    }
   ],
   "source": [
    "class E1(enum.Enum):\n",
    "    X = 5\n",
    "\n",
    "class E2(enum.Enum):\n",
    "    X = 5\n",
    "\n",
    "E1.X == E2.X"
   ]
  },
  {
   "cell_type": "code",
   "execution_count": 10,
   "id": "07ed7083-3cab-4678-afb8-0fe66e2cf99d",
   "metadata": {},
   "outputs": [],
   "source": [
    "x = E2.X"
   ]
  },
  {
   "cell_type": "code",
   "execution_count": 11,
   "id": "f031298d-083e-48b8-8704-f2e1440841bc",
   "metadata": {},
   "outputs": [],
   "source": [
    "@enum.unique\n",
    "class E3(enum.Enum):\n",
    "    ROOM1 = enum.auto()\n",
    "    ROOM2 = enum.auto()\n",
    "    ROOM3 = enum.auto()\n",
    "    ROOM4 = enum.auto()"
   ]
  },
  {
   "cell_type": "code",
   "execution_count": 12,
   "id": "78181c08-fc30-49a7-9428-11e48483492c",
   "metadata": {},
   "outputs": [
    {
     "data": {
      "text/plain": [
       "['ROOM1',\n",
       " 'ROOM2',\n",
       " 'ROOM3',\n",
       " 'ROOM4',\n",
       " '__class__',\n",
       " '__doc__',\n",
       " '__members__',\n",
       " '__module__']"
      ]
     },
     "execution_count": 12,
     "metadata": {},
     "output_type": "execute_result"
    }
   ],
   "source": [
    "dir(E3)"
   ]
  },
  {
   "cell_type": "code",
   "execution_count": 13,
   "id": "0e6204bf-33e0-4cd1-8044-3885970993ca",
   "metadata": {},
   "outputs": [
    {
     "data": {
      "text/plain": [
       "mappingproxy({'ROOM1': <E3.ROOM1: 1>,\n",
       "              'ROOM2': <E3.ROOM2: 2>,\n",
       "              'ROOM3': <E3.ROOM3: 3>,\n",
       "              'ROOM4': <E3.ROOM4: 4>})"
      ]
     },
     "execution_count": 13,
     "metadata": {},
     "output_type": "execute_result"
    }
   ],
   "source": [
    "E3.__members__"
   ]
  },
  {
   "cell_type": "code",
   "execution_count": 14,
   "id": "e6921012-6de6-4c2b-8feb-d40f5117b2fc",
   "metadata": {},
   "outputs": [
    {
     "data": {
      "text/plain": [
       "['__class__', '__doc__', '__module__', 'name', 'value']"
      ]
     },
     "execution_count": 14,
     "metadata": {},
     "output_type": "execute_result"
    }
   ],
   "source": [
    "dir(E3.ROOM2)"
   ]
  },
  {
   "cell_type": "code",
   "execution_count": 15,
   "id": "5bbdd34d-87e5-42f5-a354-9b0ab04f8613",
   "metadata": {},
   "outputs": [
    {
     "data": {
      "text/plain": [
       "'ROOM2'"
      ]
     },
     "execution_count": 15,
     "metadata": {},
     "output_type": "execute_result"
    }
   ],
   "source": [
    "E3.ROOM2.name"
   ]
  },
  {
   "cell_type": "code",
   "execution_count": 16,
   "id": "4c7611ad-44d2-457d-9653-03a6d702ab74",
   "metadata": {},
   "outputs": [
    {
     "data": {
      "text/plain": [
       "2"
      ]
     },
     "execution_count": 16,
     "metadata": {},
     "output_type": "execute_result"
    }
   ],
   "source": [
    "E3.ROOM2.value"
   ]
  },
  {
   "cell_type": "code",
   "execution_count": 17,
   "id": "dedd07c1-d2af-4f54-8f16-c6785293899c",
   "metadata": {},
   "outputs": [
    {
     "name": "stdout",
     "output_type": "stream",
     "text": [
      "<E3.ROOM1: 1>\n"
     ]
    }
   ],
   "source": [
    "print(repr(E3.ROOM1))"
   ]
  },
  {
   "cell_type": "code",
   "execution_count": 18,
   "id": "c51090e1-141c-4f85-86f5-07081b4f811b",
   "metadata": {},
   "outputs": [
    {
     "data": {
      "text/plain": [
       "<E3.ROOM1: 1>"
      ]
     },
     "execution_count": 18,
     "metadata": {},
     "output_type": "execute_result"
    }
   ],
   "source": [
    "E3.ROOM1"
   ]
  },
  {
   "cell_type": "code",
   "execution_count": 19,
   "id": "964281d7-d66c-4f9c-abe6-0986351c4e34",
   "metadata": {},
   "outputs": [
    {
     "name": "stdout",
     "output_type": "stream",
     "text": [
      "E3.ROOM1\n"
     ]
    }
   ],
   "source": [
    "print(str(E3.ROOM1))"
   ]
  },
  {
   "cell_type": "code",
   "execution_count": 20,
   "id": "44921ab8-f44d-41f6-8b65-2625ff750621",
   "metadata": {
    "tags": [
     "raises-exception"
    ]
   },
   "outputs": [
    {
     "ename": "TypeError",
     "evalue": "E4: cannot extend enumeration 'E3'",
     "output_type": "error",
     "traceback": [
      "\u001b[1;31m---------------------------------------------------------------------------\u001b[0m",
      "\u001b[1;31mTypeError\u001b[0m                                 Traceback (most recent call last)",
      "Input \u001b[1;32mIn [20]\u001b[0m, in \u001b[0;36m<cell line: 1>\u001b[1;34m()\u001b[0m\n\u001b[1;32m----> 1\u001b[0m \u001b[38;5;28;01mclass\u001b[39;00m \u001b[38;5;21;01mE4\u001b[39;00m(E3):\n\u001b[0;32m      2\u001b[0m     \u001b[38;5;28;01mpass\u001b[39;00m\n",
      "File \u001b[1;32m~\\miniforge3\\envs\\algoviz-basics\\lib\\enum.py:168\u001b[0m, in \u001b[0;36mEnumMeta.__prepare__\u001b[1;34m(metacls, cls, bases, **kwds)\u001b[0m\n\u001b[0;32m    165\u001b[0m \u001b[38;5;129m@classmethod\u001b[39m\n\u001b[0;32m    166\u001b[0m \u001b[38;5;28;01mdef\u001b[39;00m \u001b[38;5;21m__prepare__\u001b[39m(metacls, \u001b[38;5;28mcls\u001b[39m, bases, \u001b[38;5;241m*\u001b[39m\u001b[38;5;241m*\u001b[39mkwds):\n\u001b[0;32m    167\u001b[0m     \u001b[38;5;66;03m# check that previous enum members do not exist\u001b[39;00m\n\u001b[1;32m--> 168\u001b[0m     \u001b[43mmetacls\u001b[49m\u001b[38;5;241;43m.\u001b[39;49m\u001b[43m_check_for_existing_members\u001b[49m\u001b[43m(\u001b[49m\u001b[38;5;28;43mcls\u001b[39;49m\u001b[43m,\u001b[49m\u001b[43m \u001b[49m\u001b[43mbases\u001b[49m\u001b[43m)\u001b[49m\n\u001b[0;32m    169\u001b[0m     \u001b[38;5;66;03m# create the namespace dict\u001b[39;00m\n\u001b[0;32m    170\u001b[0m     enum_dict \u001b[38;5;241m=\u001b[39m _EnumDict()\n",
      "File \u001b[1;32m~\\miniforge3\\envs\\algoviz-basics\\lib\\enum.py:574\u001b[0m, in \u001b[0;36mEnumMeta._check_for_existing_members\u001b[1;34m(class_name, bases)\u001b[0m\n\u001b[0;32m    572\u001b[0m \u001b[38;5;28;01mfor\u001b[39;00m base \u001b[38;5;129;01min\u001b[39;00m chain\u001b[38;5;241m.\u001b[39m\u001b[38;5;18m__mro__\u001b[39m:\n\u001b[0;32m    573\u001b[0m     \u001b[38;5;28;01mif\u001b[39;00m \u001b[38;5;28missubclass\u001b[39m(base, Enum) \u001b[38;5;129;01mand\u001b[39;00m base\u001b[38;5;241m.\u001b[39m_member_names_:\n\u001b[1;32m--> 574\u001b[0m         \u001b[38;5;28;01mraise\u001b[39;00m \u001b[38;5;167;01mTypeError\u001b[39;00m(\n\u001b[0;32m    575\u001b[0m                 \u001b[38;5;124m\"\u001b[39m\u001b[38;5;132;01m%s\u001b[39;00m\u001b[38;5;124m: cannot extend enumeration \u001b[39m\u001b[38;5;132;01m%r\u001b[39;00m\u001b[38;5;124m\"\u001b[39m\n\u001b[0;32m    576\u001b[0m                 \u001b[38;5;241m%\u001b[39m (class_name, base\u001b[38;5;241m.\u001b[39m\u001b[38;5;18m__name__\u001b[39m)\n\u001b[0;32m    577\u001b[0m                 )\n",
      "\u001b[1;31mTypeError\u001b[0m: E4: cannot extend enumeration 'E3'"
     ]
    }
   ],
   "source": [
    "class E4(E3):\n",
    "    pass"
   ]
  },
  {
   "cell_type": "code",
   "execution_count": 21,
   "id": "5f5da2a0-6ded-4c9b-9e9d-d79a159d0f24",
   "metadata": {},
   "outputs": [],
   "source": [
    "class NE(enum.Enum):\n",
    "    pass"
   ]
  },
  {
   "cell_type": "code",
   "execution_count": 22,
   "id": "74f742fa-6c00-4b74-96b7-6404d0cc767d",
   "metadata": {},
   "outputs": [],
   "source": [
    "class E5(NE):\n",
    "    pass"
   ]
  },
  {
   "cell_type": "code",
   "execution_count": 23,
   "id": "606d00a0-a717-4e2b-aef5-9894d5e0444b",
   "metadata": {},
   "outputs": [
    {
     "data": {
      "text/plain": [
       "[<enum 'Flag'>, <enum 'Enum'>, object]"
      ]
     },
     "execution_count": 23,
     "metadata": {},
     "output_type": "execute_result"
    }
   ],
   "source": [
    "enum.Flag.mro()"
   ]
  },
  {
   "cell_type": "code",
   "execution_count": 24,
   "id": "861382cf-ad83-40c6-aa47-1c72f5f64e42",
   "metadata": {},
   "outputs": [],
   "source": [
    "class Guests(enum.Flag):\n",
    "    \"\"\"Potential party guests.\"\"\"\n",
    "    ALICE   = 0b_0000_0001\n",
    "    BOB     = 0b_0000_0010\n",
    "    CASSIDY = 0b_0000_0100\n",
    "    DEREK   = 0b_0000_1000\n",
    "    ERIN    = 0b_0001_0000\n",
    "    FRANK   = 0b_0010_0000\n",
    "    GERALD  = 0b_0100_0000\n",
    "    HEATHER = 0b_1000_0000"
   ]
  },
  {
   "cell_type": "code",
   "execution_count": 25,
   "id": "df755f51-6fb5-411a-8cd4-41b4ca190b5c",
   "metadata": {},
   "outputs": [],
   "source": [
    "class Guests(enum.Flag):\n",
    "    \"\"\"Potential party guests.\"\"\"\n",
    "    ALICE   = enum.auto()\n",
    "    BOB     = enum.auto()\n",
    "    CASSIDY = enum.auto()\n",
    "    DEREK   = enum.auto()\n",
    "    ERIN    = enum.auto()\n",
    "    FRANK   = enum.auto()\n",
    "    GERALD  = enum.auto()\n",
    "    HEATHER = enum.auto()\n",
    "    \n",
    "    #PARTY   = ALICE | CASSIDY | FRANK\n",
    "    #PARTY2  = ALICE | BOB | ERIN | FRANK\n",
    "    #PARTY3  = DEREK"
   ]
  },
  {
   "cell_type": "code",
   "execution_count": 26,
   "id": "45e60fed-1357-47ff-a3fa-b3eba8ad2d9b",
   "metadata": {},
   "outputs": [],
   "source": [
    "Guests.PARTY = Guests.ALICE | Guests.CASSIDY | Guests.FRANK"
   ]
  },
  {
   "cell_type": "code",
   "execution_count": 27,
   "id": "6cd4d225-12d9-4db0-88cf-90d981792b76",
   "metadata": {},
   "outputs": [
    {
     "data": {
      "text/plain": [
       "['ALICE',\n",
       " 'BOB',\n",
       " 'CASSIDY',\n",
       " 'DEREK',\n",
       " 'ERIN',\n",
       " 'FRANK',\n",
       " 'GERALD',\n",
       " 'HEATHER',\n",
       " '__class__',\n",
       " '__doc__',\n",
       " '__members__',\n",
       " '__module__']"
      ]
     },
     "execution_count": 27,
     "metadata": {},
     "output_type": "execute_result"
    }
   ],
   "source": [
    "dir(Guests)"
   ]
  },
  {
   "cell_type": "code",
   "execution_count": 28,
   "id": "41a11b97-e682-4d3a-ae69-0d44fc05dca2",
   "metadata": {},
   "outputs": [
    {
     "data": {
      "text/plain": [
       "mappingproxy({'ALICE': <Guests.ALICE: 1>,\n",
       "              'BOB': <Guests.BOB: 2>,\n",
       "              'CASSIDY': <Guests.CASSIDY: 4>,\n",
       "              'DEREK': <Guests.DEREK: 8>,\n",
       "              'ERIN': <Guests.ERIN: 16>,\n",
       "              'FRANK': <Guests.FRANK: 32>,\n",
       "              'GERALD': <Guests.GERALD: 64>,\n",
       "              'HEATHER': <Guests.HEATHER: 128>})"
      ]
     },
     "execution_count": 28,
     "metadata": {},
     "output_type": "execute_result"
    }
   ],
   "source": [
    "Guests.__members__"
   ]
  },
  {
   "cell_type": "code",
   "execution_count": 29,
   "id": "7ca04f18-daf5-494e-b8e1-0a07a2ff6c73",
   "metadata": {},
   "outputs": [],
   "source": [
    "dance_party = Guests.ALICE | Guests.GERALD "
   ]
  },
  {
   "cell_type": "code",
   "execution_count": 30,
   "id": "c6e7b3f6-81d0-4644-8314-d0f10ca0ab4e",
   "metadata": {},
   "outputs": [
    {
     "data": {
      "text/plain": [
       "<Guests.GERALD|ALICE: 65>"
      ]
     },
     "execution_count": 30,
     "metadata": {},
     "output_type": "execute_result"
    }
   ],
   "source": [
    "dance_party"
   ]
  },
  {
   "cell_type": "code",
   "execution_count": 31,
   "id": "5114fa4c-0e42-4988-8a39-1152770cebe6",
   "metadata": {},
   "outputs": [
    {
     "data": {
      "text/plain": [
       "<enum 'Guests'>"
      ]
     },
     "execution_count": 31,
     "metadata": {},
     "output_type": "execute_result"
    }
   ],
   "source": [
    "type(dance_party)"
   ]
  },
  {
   "cell_type": "code",
   "execution_count": 32,
   "id": "7de161f6-6c3c-447d-8045-70c137254dc0",
   "metadata": {},
   "outputs": [
    {
     "data": {
      "text/plain": [
       "<Guests.FRANK|CASSIDY|ALICE: 37>"
      ]
     },
     "execution_count": 32,
     "metadata": {},
     "output_type": "execute_result"
    }
   ],
   "source": [
    "Guests.PARTY"
   ]
  },
  {
   "cell_type": "code",
   "execution_count": 33,
   "id": "362ece11-5802-4d49-826c-1a1e31f49072",
   "metadata": {},
   "outputs": [
    {
     "data": {
      "text/plain": [
       "<Guests.FRANK|CASSIDY|ALICE: 37>"
      ]
     },
     "execution_count": 33,
     "metadata": {},
     "output_type": "execute_result"
    }
   ],
   "source": [
    " Guests.ALICE | Guests.CASSIDY | Guests.FRANK"
   ]
  },
  {
   "cell_type": "code",
   "execution_count": 34,
   "id": "c750434c-1d0d-47f6-8c09-db103659d52d",
   "metadata": {},
   "outputs": [],
   "source": [
    "class HasUnused(enum.Flag):\n",
    "    \"\"\"HasUnused skips one of the bitfield bits for its enumerators.\"\"\"\n",
    "    ONE   = 0b0001\n",
    "    TWO   = 0b0010\n",
    "    EIGHT = 0b1000"
   ]
  },
  {
   "cell_type": "code",
   "execution_count": 35,
   "id": "630d7f8e-4ac3-4ca1-9af7-0bcfe4fb5918",
   "metadata": {},
   "outputs": [
    {
     "data": {
      "text/plain": [
       "<HasUnused.EIGHT|TWO: 10>"
      ]
     },
     "execution_count": 35,
     "metadata": {},
     "output_type": "execute_result"
    }
   ],
   "source": [
    "~HasUnused.ONE"
   ]
  },
  {
   "cell_type": "code",
   "execution_count": 36,
   "id": "d542644e-d158-4462-8084-993de591598b",
   "metadata": {
    "tags": [
     "raises-exception"
    ]
   },
   "outputs": [
    {
     "ename": "TypeError",
     "evalue": "'<' not supported between instances of 'HasUnused' and 'HasUnused'",
     "output_type": "error",
     "traceback": [
      "\u001b[1;31m---------------------------------------------------------------------------\u001b[0m",
      "\u001b[1;31mTypeError\u001b[0m                                 Traceback (most recent call last)",
      "Input \u001b[1;32mIn [36]\u001b[0m, in \u001b[0;36m<cell line: 1>\u001b[1;34m()\u001b[0m\n\u001b[1;32m----> 1\u001b[0m \u001b[43mHasUnused\u001b[49m\u001b[38;5;241;43m.\u001b[39;49m\u001b[43mONE\u001b[49m\u001b[43m \u001b[49m\u001b[38;5;241;43m<\u001b[39;49m\u001b[43m \u001b[49m\u001b[43mHasUnused\u001b[49m\u001b[38;5;241;43m.\u001b[39;49m\u001b[43mEIGHT\u001b[49m\n",
      "\u001b[1;31mTypeError\u001b[0m: '<' not supported between instances of 'HasUnused' and 'HasUnused'"
     ]
    }
   ],
   "source": [
    "HasUnused.ONE < HasUnused.EIGHT"
   ]
  },
  {
   "cell_type": "code",
   "execution_count": 37,
   "id": "b00d25a6-b003-4410-b654-4a3f57fe4cdc",
   "metadata": {},
   "outputs": [],
   "source": [
    "from enumerations import *"
   ]
  },
  {
   "cell_type": "code",
   "execution_count": 38,
   "id": "801db62d-81a5-4991-a3e4-9fd20217a4c1",
   "metadata": {},
   "outputs": [
    {
     "data": {
      "text/plain": [
       "True"
      ]
     },
     "execution_count": 38,
     "metadata": {},
     "output_type": "execute_result"
    }
   ],
   "source": [
    "Guests.ALICE_TRIAL <= Guests.FRANK_TRIAL"
   ]
  },
  {
   "cell_type": "code",
   "execution_count": 39,
   "id": "0e1d1557-9e14-490f-99b9-136a3c6ca718",
   "metadata": {},
   "outputs": [
    {
     "data": {
      "text/plain": [
       "True"
      ]
     },
     "execution_count": 39,
     "metadata": {},
     "output_type": "execute_result"
    }
   ],
   "source": [
    "Guests.FRANK_TRIAL >= Guests.ALICE_TRIAL"
   ]
  },
  {
   "cell_type": "code",
   "execution_count": 40,
   "id": "ee1f9f6f-3efa-4130-8a4a-dcaa377cbeaa",
   "metadata": {},
   "outputs": [
    {
     "data": {
      "text/plain": [
       "True"
      ]
     },
     "execution_count": 40,
     "metadata": {},
     "output_type": "execute_result"
    }
   ],
   "source": [
    "Guests.ALICE_TRIAL.__le__(Guests.FRANK_TRIAL)"
   ]
  },
  {
   "cell_type": "code",
   "execution_count": 41,
   "id": "610592c5-7cd7-46db-82c0-da08a5588896",
   "metadata": {},
   "outputs": [
    {
     "data": {
      "text/plain": [
       "NotImplemented"
      ]
     },
     "execution_count": 41,
     "metadata": {},
     "output_type": "execute_result"
    }
   ],
   "source": [
    "Guests.FRANK_TRIAL.__ge__(Guests.ALICE_TRIAL)"
   ]
  },
  {
   "cell_type": "code",
   "execution_count": 42,
   "id": "32761c10-9c4d-47d7-80a3-997c98c8f46a",
   "metadata": {},
   "outputs": [
    {
     "data": {
      "text/plain": [
       "True"
      ]
     },
     "execution_count": 42,
     "metadata": {},
     "output_type": "execute_result"
    }
   ],
   "source": [
    "2.0 < 3"
   ]
  },
  {
   "cell_type": "code",
   "execution_count": 43,
   "id": "3ae85fd6-801c-4591-9355-2926971b77cd",
   "metadata": {},
   "outputs": [
    {
     "data": {
      "text/plain": [
       "True"
      ]
     },
     "execution_count": 43,
     "metadata": {},
     "output_type": "execute_result"
    }
   ],
   "source": [
    "2.0.__lt__(3)"
   ]
  },
  {
   "cell_type": "code",
   "execution_count": 44,
   "id": "684f8c39-3757-4f1f-a45f-a0a08fe66121",
   "metadata": {},
   "outputs": [
    {
     "data": {
      "text/plain": [
       "False"
      ]
     },
     "execution_count": 44,
     "metadata": {},
     "output_type": "execute_result"
    }
   ],
   "source": [
    "2.0 > 3"
   ]
  },
  {
   "cell_type": "code",
   "execution_count": 45,
   "id": "d16489ff-b9f2-43d2-8e4e-4be86bebb486",
   "metadata": {},
   "outputs": [
    {
     "data": {
      "text/plain": [
       "False"
      ]
     },
     "execution_count": 45,
     "metadata": {},
     "output_type": "execute_result"
    }
   ],
   "source": [
    "3.0.__gt__(3)"
   ]
  },
  {
   "cell_type": "code",
   "execution_count": 46,
   "id": "b2ef18ea-4331-4187-bcbb-83bf82d1cc84",
   "metadata": {},
   "outputs": [
    {
     "data": {
      "text/plain": [
       "False"
      ]
     },
     "execution_count": 46,
     "metadata": {},
     "output_type": "execute_result"
    }
   ],
   "source": [
    "3 < 2.0"
   ]
  },
  {
   "cell_type": "code",
   "execution_count": 48,
   "id": "60a16e89-cc14-424a-bb31-ee7987ab8a76",
   "metadata": {},
   "outputs": [
    {
     "data": {
      "text/plain": [
       "NotImplemented"
      ]
     },
     "execution_count": 48,
     "metadata": {},
     "output_type": "execute_result"
    }
   ],
   "source": [
    "(3).__lt__(2.0)"
   ]
  },
  {
   "cell_type": "code",
   "execution_count": null,
   "id": "52cc05bf-8d89-43a7-94ff-7b22f24c1372",
   "metadata": {},
   "outputs": [],
   "source": []
  }
 ],
 "metadata": {
  "kernelspec": {
   "display_name": "Python 3 (ipykernel)",
   "language": "python",
   "name": "python3"
  },
  "language_info": {
   "codemirror_mode": {
    "name": "ipython",
    "version": 3
   },
   "file_extension": ".py",
   "mimetype": "text/x-python",
   "name": "python",
   "nbconvert_exporter": "python",
   "pygments_lexer": "ipython3",
   "version": "3.10.4"
  }
 },
 "nbformat": 4,
 "nbformat_minor": 5
}
