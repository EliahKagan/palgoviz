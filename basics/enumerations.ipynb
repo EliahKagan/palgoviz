{
 "cells": [
  {
   "cell_type": "code",
   "execution_count": 1,
   "id": "92bb735d-80c6-44b8-be90-04a16ea8ee5b",
   "metadata": {},
   "outputs": [],
   "source": [
    "import enum"
   ]
  },
  {
   "cell_type": "code",
   "execution_count": 2,
   "id": "6b839e6c-2c53-480b-8324-a88f1fe50b97",
   "metadata": {},
   "outputs": [
    {
     "data": {
      "text/plain": [
       "['DynamicClassAttribute',\n",
       " 'Enum',\n",
       " 'EnumMeta',\n",
       " 'Flag',\n",
       " 'IntEnum',\n",
       " 'IntFlag',\n",
       " 'MappingProxyType',\n",
       " '_EnumDict',\n",
       " '__all__',\n",
       " '__builtins__',\n",
       " '__cached__',\n",
       " '__doc__',\n",
       " '__file__',\n",
       " '__loader__',\n",
       " '__name__',\n",
       " '__package__',\n",
       " '__spec__',\n",
       " '_auto_null',\n",
       " '_decompose',\n",
       " '_high_bit',\n",
       " '_is_descriptor',\n",
       " '_is_dunder',\n",
       " '_is_private',\n",
       " '_is_sunder',\n",
       " '_make_class_unpicklable',\n",
       " '_reduce_ex_by_name',\n",
       " 'auto',\n",
       " 'sys',\n",
       " 'unique']"
      ]
     },
     "execution_count": 2,
     "metadata": {},
     "output_type": "execute_result"
    }
   ],
   "source": [
    "dir(enum)"
   ]
  },
  {
   "cell_type": "code",
   "execution_count": 3,
   "id": "a808788e-5c1b-4dfd-8a8f-ce56bcb6b7c3",
   "metadata": {},
   "outputs": [],
   "source": [
    "class MyEnumeration(enum.Enum):\n",
    "    MAX = 400\n",
    "    MIN = 10"
   ]
  },
  {
   "cell_type": "code",
   "execution_count": 4,
   "id": "17946df5-9c99-419c-a351-0b886d636c2c",
   "metadata": {},
   "outputs": [
    {
     "data": {
      "text/plain": [
       "<MyEnumeration.MAX: 400>"
      ]
     },
     "execution_count": 4,
     "metadata": {},
     "output_type": "execute_result"
    }
   ],
   "source": [
    "MyEnumeration.MAX"
   ]
  },
  {
   "cell_type": "code",
   "execution_count": 5,
   "id": "1e38167e-c4af-4e30-8282-13b7de781dc0",
   "metadata": {},
   "outputs": [
    {
     "data": {
      "text/plain": [
       "<enum 'MyEnumeration'>"
      ]
     },
     "execution_count": 5,
     "metadata": {},
     "output_type": "execute_result"
    }
   ],
   "source": [
    "type(MyEnumeration.MAX)"
   ]
  },
  {
   "cell_type": "code",
   "execution_count": 6,
   "id": "40c26179-eeca-4356-9430-05fe6216c560",
   "metadata": {},
   "outputs": [
    {
     "data": {
      "text/plain": [
       "400"
      ]
     },
     "execution_count": 6,
     "metadata": {},
     "output_type": "execute_result"
    }
   ],
   "source": [
    "MyEnumeration.MAX.value"
   ]
  },
  {
   "cell_type": "code",
   "execution_count": 21,
   "id": "9cffa201-c430-4e80-af10-f75a63b30f57",
   "metadata": {
    "tags": [
     "raises-exception"
    ]
   },
   "outputs": [],
   "source": [
    "#@enum.unique\n",
    "class Dupe(enum.Enum):\n",
    "    FOO = 10\n",
    "    BAR = 10"
   ]
  },
  {
   "cell_type": "code",
   "execution_count": 22,
   "id": "5cc32dc0-b546-4ab5-8ed8-82e7c023c438",
   "metadata": {
    "tags": [
     "raises-exception"
    ]
   },
   "outputs": [
    {
     "data": {
      "text/plain": [
       "True"
      ]
     },
     "execution_count": 22,
     "metadata": {},
     "output_type": "execute_result"
    }
   ],
   "source": [
    "Dupe.FOO is Dupe.BAR"
   ]
  },
  {
   "cell_type": "code",
   "execution_count": 10,
   "id": "9850ec40-caab-4643-ae15-1cdf2bc76923",
   "metadata": {},
   "outputs": [
    {
     "data": {
      "text/plain": [
       "False"
      ]
     },
     "execution_count": 10,
     "metadata": {},
     "output_type": "execute_result"
    }
   ],
   "source": [
    "class E1(enum.Enum):\n",
    "    X = 5\n",
    "\n",
    "class E2(enum.Enum):\n",
    "    X = 5\n",
    "\n",
    "E1.X == E2.X"
   ]
  },
  {
   "cell_type": "code",
   "execution_count": 11,
   "id": "07ed7083-3cab-4678-afb8-0fe66e2cf99d",
   "metadata": {},
   "outputs": [],
   "source": [
    "x = E2.X"
   ]
  },
  {
   "cell_type": "code",
   "execution_count": 15,
   "id": "f031298d-083e-48b8-8704-f2e1440841bc",
   "metadata": {},
   "outputs": [],
   "source": [
    "@enum.unique\n",
    "class E3(enum.Enum):\n",
    "    ROOM1 = enum.auto()\n",
    "    ROOM2 = enum.auto()\n",
    "    ROOM3 = enum.auto()\n",
    "    ROOM4 = enum.auto()"
   ]
  },
  {
   "cell_type": "code",
   "execution_count": 16,
   "id": "78181c08-fc30-49a7-9428-11e48483492c",
   "metadata": {},
   "outputs": [
    {
     "data": {
      "text/plain": [
       "['ROOM1',\n",
       " 'ROOM2',\n",
       " 'ROOM3',\n",
       " 'ROOM4',\n",
       " '__class__',\n",
       " '__doc__',\n",
       " '__members__',\n",
       " '__module__']"
      ]
     },
     "execution_count": 16,
     "metadata": {},
     "output_type": "execute_result"
    }
   ],
   "source": [
    "dir(E3)"
   ]
  },
  {
   "cell_type": "code",
   "execution_count": 17,
   "id": "0e6204bf-33e0-4cd1-8044-3885970993ca",
   "metadata": {},
   "outputs": [
    {
     "data": {
      "text/plain": [
       "mappingproxy({'ROOM1': <E3.ROOM1: 1>,\n",
       "              'ROOM2': <E3.ROOM2: 2>,\n",
       "              'ROOM3': <E3.ROOM3: 3>,\n",
       "              'ROOM4': <E3.ROOM4: 4>})"
      ]
     },
     "execution_count": 17,
     "metadata": {},
     "output_type": "execute_result"
    }
   ],
   "source": [
    "E3.__members__"
   ]
  },
  {
   "cell_type": "code",
   "execution_count": 18,
   "id": "e6921012-6de6-4c2b-8feb-d40f5117b2fc",
   "metadata": {},
   "outputs": [
    {
     "data": {
      "text/plain": [
       "['__class__', '__doc__', '__module__', 'name', 'value']"
      ]
     },
     "execution_count": 18,
     "metadata": {},
     "output_type": "execute_result"
    }
   ],
   "source": [
    "dir(E3.ROOM2)"
   ]
  },
  {
   "cell_type": "code",
   "execution_count": 19,
   "id": "5bbdd34d-87e5-42f5-a354-9b0ab04f8613",
   "metadata": {},
   "outputs": [
    {
     "data": {
      "text/plain": [
       "'ROOM2'"
      ]
     },
     "execution_count": 19,
     "metadata": {},
     "output_type": "execute_result"
    }
   ],
   "source": [
    "E3.ROOM2.name"
   ]
  },
  {
   "cell_type": "code",
   "execution_count": 20,
   "id": "4c7611ad-44d2-457d-9653-03a6d702ab74",
   "metadata": {},
   "outputs": [
    {
     "data": {
      "text/plain": [
       "2"
      ]
     },
     "execution_count": 20,
     "metadata": {},
     "output_type": "execute_result"
    }
   ],
   "source": [
    "E3.ROOM2.value"
   ]
  },
  {
   "cell_type": "code",
   "execution_count": 23,
   "id": "dedd07c1-d2af-4f54-8f16-c6785293899c",
   "metadata": {},
   "outputs": [
    {
     "name": "stdout",
     "output_type": "stream",
     "text": [
      "<E3.ROOM1: 1>\n"
     ]
    }
   ],
   "source": [
    "print(repr(E3.ROOM1))"
   ]
  },
  {
   "cell_type": "code",
   "execution_count": 24,
   "id": "c51090e1-141c-4f85-86f5-07081b4f811b",
   "metadata": {},
   "outputs": [
    {
     "data": {
      "text/plain": [
       "<E3.ROOM1: 1>"
      ]
     },
     "execution_count": 24,
     "metadata": {},
     "output_type": "execute_result"
    }
   ],
   "source": [
    "E3.ROOM1"
   ]
  },
  {
   "cell_type": "code",
   "execution_count": 25,
   "id": "964281d7-d66c-4f9c-abe6-0986351c4e34",
   "metadata": {},
   "outputs": [
    {
     "name": "stdout",
     "output_type": "stream",
     "text": [
      "E3.ROOM1\n"
     ]
    }
   ],
   "source": [
    "print(str(E3.ROOM1))"
   ]
  },
  {
   "cell_type": "code",
   "execution_count": null,
   "id": "44921ab8-f44d-41f6-8b65-2625ff750621",
   "metadata": {},
   "outputs": [],
   "source": []
  }
 ],
 "metadata": {
  "kernelspec": {
   "display_name": "Python 3 (ipykernel)",
   "language": "python",
   "name": "python3"
  },
  "language_info": {
   "codemirror_mode": {
    "name": "ipython",
    "version": 3
   },
   "file_extension": ".py",
   "mimetype": "text/x-python",
   "name": "python",
   "nbconvert_exporter": "python",
   "pygments_lexer": "ipython3",
   "version": "3.10.4"
  }
 },
 "nbformat": 4,
 "nbformat_minor": 5
}
