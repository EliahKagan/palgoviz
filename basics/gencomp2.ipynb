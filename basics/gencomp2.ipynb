{
 "cells": [
  {
   "cell_type": "markdown",
   "id": "c7cba612-2aca-463c-ad3b-98c9015aa8c3",
   "metadata": {},
   "source": [
    "# Generators & Comprehensions - Part 2"
   ]
  },
  {
   "cell_type": "code",
   "execution_count": 1,
   "id": "2f5654aa-16be-4439-9ad4-1a24d2fd9a72",
   "metadata": {},
   "outputs": [],
   "source": [
    "import itertools"
   ]
  },
  {
   "cell_type": "code",
   "execution_count": 2,
   "id": "faee9378-d134-4abc-9b94-74b8fe42afed",
   "metadata": {},
   "outputs": [
    {
     "name": "stdout",
     "output_type": "stream",
     "text": [
      "Functional tools for creating and using iterators.\n",
      "\n",
      "Infinite iterators:\n",
      "count(start=0, step=1) --> start, start+step, start+2*step, ...\n",
      "cycle(p) --> p0, p1, ... plast, p0, p1, ...\n",
      "repeat(elem [,n]) --> elem, elem, elem, ... endlessly or up to n times\n",
      "\n",
      "Iterators terminating on the shortest input sequence:\n",
      "accumulate(p[, func]) --> p0, p0+p1, p0+p1+p2\n",
      "chain(p, q, ...) --> p0, p1, ... plast, q0, q1, ...\n",
      "chain.from_iterable([p, q, ...]) --> p0, p1, ... plast, q0, q1, ...\n",
      "compress(data, selectors) --> (d[0] if s[0]), (d[1] if s[1]), ...\n",
      "dropwhile(pred, seq) --> seq[n], seq[n+1], starting when pred fails\n",
      "groupby(iterable[, keyfunc]) --> sub-iterators grouped by value of keyfunc(v)\n",
      "filterfalse(pred, seq) --> elements of seq where pred(elem) is False\n",
      "islice(seq, [start,] stop [, step]) --> elements from\n",
      "       seq[start:stop:step]\n",
      "pairwise(s) --> (s[0],s[1]), (s[1],s[2]), (s[2], s[3]), ...\n",
      "starmap(fun, seq) --> fun(*seq[0]), fun(*seq[1]), ...\n",
      "tee(it, n=2) --> (it1, it2 , ... itn) splits one iterator into n\n",
      "takewhile(pred, seq) --> seq[0], seq[1], until pred fails\n",
      "zip_longest(p, q, ...) --> (p[0], q[0]), (p[1], q[1]), ...\n",
      "\n",
      "Combinatoric generators:\n",
      "product(p, q, ... [repeat=1]) --> cartesian product\n",
      "permutations(p[, r])\n",
      "combinations(p, r)\n",
      "combinations_with_replacement(p, r)\n",
      "\n"
     ]
    }
   ],
   "source": [
    "print(itertools.__doc__)"
   ]
  },
  {
   "cell_type": "code",
   "execution_count": 3,
   "id": "7ec1a012-68ae-4518-9f70-8da040379859",
   "metadata": {},
   "outputs": [
    {
     "name": "stdout",
     "output_type": "stream",
     "text": [
      "Help on class islice in module itertools:\n",
      "\n",
      "class islice(builtins.object)\n",
      " |  islice(iterable, stop) --> islice object\n",
      " |  islice(iterable, start, stop[, step]) --> islice object\n",
      " |  \n",
      " |  Return an iterator whose next() method returns selected values from an\n",
      " |  iterable.  If start is specified, will skip all preceding elements;\n",
      " |  otherwise, start defaults to zero.  Step defaults to one.  If\n",
      " |  specified as another value, step determines how many values are\n",
      " |  skipped between successive calls.  Works like a slice() on a list\n",
      " |  but returns an iterator.\n",
      " |  \n",
      " |  Methods defined here:\n",
      " |  \n",
      " |  __getattribute__(self, name, /)\n",
      " |      Return getattr(self, name).\n",
      " |  \n",
      " |  __iter__(self, /)\n",
      " |      Implement iter(self).\n",
      " |  \n",
      " |  __next__(self, /)\n",
      " |      Implement next(self).\n",
      " |  \n",
      " |  __reduce__(...)\n",
      " |      Return state information for pickling.\n",
      " |  \n",
      " |  __setstate__(...)\n",
      " |      Set state information for unpickling.\n",
      " |  \n",
      " |  ----------------------------------------------------------------------\n",
      " |  Static methods defined here:\n",
      " |  \n",
      " |  __new__(*args, **kwargs) from builtins.type\n",
      " |      Create and return a new object.  See help(type) for accurate signature.\n",
      "\n"
     ]
    }
   ],
   "source": [
    "help(itertools.islice)"
   ]
  },
  {
   "cell_type": "code",
   "execution_count": 4,
   "id": "44bca957-b130-443e-b023-39680ac8734d",
   "metadata": {},
   "outputs": [],
   "source": [
    "a = [0, 1, 2, 3, 4, 5, 6, 7, 8, 9]"
   ]
  },
  {
   "cell_type": "code",
   "execution_count": 5,
   "id": "bc0b949d-e815-4d0f-8a5a-e18ef6bc4bf4",
   "metadata": {},
   "outputs": [],
   "source": [
    "it = itertools.islice(a, 3, 7)"
   ]
  },
  {
   "cell_type": "code",
   "execution_count": 6,
   "id": "ce20a8cb-4c96-476d-803d-7bc7a938b900",
   "metadata": {},
   "outputs": [
    {
     "data": {
      "text/plain": [
       "[3, 4, 5, 6]"
      ]
     },
     "execution_count": 6,
     "metadata": {},
     "output_type": "execute_result"
    }
   ],
   "source": [
    "list(it)"
   ]
  },
  {
   "cell_type": "code",
   "execution_count": 7,
   "id": "9d7548af-1e1e-41f9-836a-f2341c90c43a",
   "metadata": {},
   "outputs": [
    {
     "name": "stdout",
     "output_type": "stream",
     "text": [
      "10\n",
      "20\n",
      "30\n",
      "10\n",
      "20\n",
      "30\n"
     ]
    }
   ],
   "source": [
    "b = [10, 20, 30]\n",
    "for x in b:\n",
    "    print(x)\n",
    "for x in b:\n",
    "    print(x)"
   ]
  },
  {
   "cell_type": "code",
   "execution_count": 8,
   "id": "1708e37d-7d54-4acf-b883-343d2b66adaf",
   "metadata": {},
   "outputs": [
    {
     "name": "stdout",
     "output_type": "stream",
     "text": [
      "10\n",
      "20\n",
      "30\n"
     ]
    }
   ],
   "source": [
    "it = iter(b)\n",
    "for x in it:\n",
    "    print(x)\n",
    "for x in it:\n",
    "    print(x)"
   ]
  },
  {
   "cell_type": "code",
   "execution_count": 9,
   "id": "4cd2cf43-5153-4f84-97f1-b12e09711a40",
   "metadata": {},
   "outputs": [
    {
     "name": "stdout",
     "output_type": "stream",
     "text": [
      "Help on class enumerate in module builtins:\n",
      "\n",
      "class enumerate(object)\n",
      " |  enumerate(iterable, start=0)\n",
      " |  \n",
      " |  Return an enumerate object.\n",
      " |  \n",
      " |    iterable\n",
      " |      an object supporting iteration\n",
      " |  \n",
      " |  The enumerate object yields pairs containing a count (from start, which\n",
      " |  defaults to zero) and a value yielded by the iterable argument.\n",
      " |  \n",
      " |  enumerate is useful for obtaining an indexed list:\n",
      " |      (0, seq[0]), (1, seq[1]), (2, seq[2]), ...\n",
      " |  \n",
      " |  Methods defined here:\n",
      " |  \n",
      " |  __getattribute__(self, name, /)\n",
      " |      Return getattr(self, name).\n",
      " |  \n",
      " |  __iter__(self, /)\n",
      " |      Implement iter(self).\n",
      " |  \n",
      " |  __next__(self, /)\n",
      " |      Implement next(self).\n",
      " |  \n",
      " |  __reduce__(...)\n",
      " |      Return state information for pickling.\n",
      " |  \n",
      " |  ----------------------------------------------------------------------\n",
      " |  Class methods defined here:\n",
      " |  \n",
      " |  __class_getitem__(...) from builtins.type\n",
      " |      See PEP 585\n",
      " |  \n",
      " |  ----------------------------------------------------------------------\n",
      " |  Static methods defined here:\n",
      " |  \n",
      " |  __new__(*args, **kwargs) from builtins.type\n",
      " |      Create and return a new object.  See help(type) for accurate signature.\n",
      "\n"
     ]
    }
   ],
   "source": [
    "help(enumerate)"
   ]
  },
  {
   "cell_type": "code",
   "execution_count": 10,
   "id": "ff3c43be-812a-4f31-9d21-35559b5605ff",
   "metadata": {},
   "outputs": [
    {
     "data": {
      "text/plain": [
       "[11, 12, 13, 21, 22, 23, 31, 32, 33]"
      ]
     },
     "execution_count": 10,
     "metadata": {},
     "output_type": "execute_result"
    }
   ],
   "source": [
    "a = [10, 20, 30]\n",
    "b = [1, 2, 3]\n",
    "[x + y for x in a for y in b]"
   ]
  },
  {
   "cell_type": "code",
   "execution_count": 11,
   "id": "fe5c3eb6-072b-4913-a80f-fb64253f41be",
   "metadata": {},
   "outputs": [
    {
     "data": {
      "text/plain": [
       "[11, 12, 13, 21, 22, 23, 31, 32, 33]"
      ]
     },
     "execution_count": 11,
     "metadata": {},
     "output_type": "execute_result"
    }
   ],
   "source": [
    "[x + y\n",
    " for x in a\n",
    " for y in b]"
   ]
  },
  {
   "cell_type": "code",
   "execution_count": 12,
   "id": "410e1357-d7ad-499a-b61c-84212a00cbe5",
   "metadata": {},
   "outputs": [
    {
     "data": {
      "text/plain": [
       "[11, 12, 13, 21, 22, 23, 31, 32, 33]"
      ]
     },
     "execution_count": 12,
     "metadata": {},
     "output_type": "execute_result"
    }
   ],
   "source": [
    "result = []\n",
    "for x in a:\n",
    "    for y in b:\n",
    "        result.append(x + y)\n",
    "result"
   ]
  },
  {
   "cell_type": "code",
   "execution_count": 13,
   "id": "ce862db8-42c1-49d3-a0ab-f633abe1c39c",
   "metadata": {},
   "outputs": [
    {
     "data": {
      "text/plain": [
       "{11: [10, 1],\n",
       " 12: [10, 2],\n",
       " 13: [10, 3],\n",
       " 21: [20, 1],\n",
       " 22: [20, 2],\n",
       " 23: [20, 3],\n",
       " 31: [30, 1],\n",
       " 32: [30, 2],\n",
       " 33: [30, 3]}"
      ]
     },
     "execution_count": 13,
     "metadata": {},
     "output_type": "execute_result"
    }
   ],
   "source": [
    "{x + y: [x, y] for x in a for y in b}"
   ]
  },
  {
   "cell_type": "code",
   "execution_count": 14,
   "id": "f7291934-65fc-4555-9837-138bb5631842",
   "metadata": {
    "tags": [
     "raises-exception"
    ]
   },
   "outputs": [
    {
     "ename": "NameError",
     "evalue": "name 'row' is not defined",
     "output_type": "error",
     "traceback": [
      "\u001b[1;31m---------------------------------------------------------------------------\u001b[0m",
      "\u001b[1;31mNameError\u001b[0m                                 Traceback (most recent call last)",
      "Input \u001b[1;32mIn [14]\u001b[0m, in \u001b[0;36m<module>\u001b[1;34m\u001b[0m\n\u001b[0;32m      1\u001b[0m matrix \u001b[38;5;241m=\u001b[39m [[\u001b[38;5;241m1\u001b[39m, \u001b[38;5;241m2\u001b[39m, \u001b[38;5;241m3\u001b[39m], [\u001b[38;5;241m4\u001b[39m, \u001b[38;5;241m5\u001b[39m, \u001b[38;5;241m6\u001b[39m], [\u001b[38;5;241m7\u001b[39m, \u001b[38;5;241m8\u001b[39m, \u001b[38;5;241m9\u001b[39m]]\n\u001b[1;32m----> 2\u001b[0m \u001b[38;5;28mprint\u001b[39m(value \u001b[38;5;28;01mfor\u001b[39;00m value \u001b[38;5;129;01min\u001b[39;00m \u001b[43mrow\u001b[49m \u001b[38;5;28;01mfor\u001b[39;00m row \u001b[38;5;129;01min\u001b[39;00m matrix)\n",
      "\u001b[1;31mNameError\u001b[0m: name 'row' is not defined"
     ]
    }
   ],
   "source": [
    "matrix = [[1, 2, 3], [4, 5, 6], [7, 8, 9]]\n",
    "print(value for value in row for row in matrix)  # People often write this wrong code."
   ]
  },
  {
   "cell_type": "code",
   "execution_count": 15,
   "id": "d72583aa-c6bd-41b5-8b94-bbd61df7df9c",
   "metadata": {},
   "outputs": [
    {
     "name": "stdout",
     "output_type": "stream",
     "text": [
      "1 2 3 4 5 6 7 8 9\n"
     ]
    }
   ],
   "source": [
    "matrix = [[1, 2, 3], [4, 5, 6], [7, 8, 9]]\n",
    "print(*(value for row in matrix for value in row))"
   ]
  },
  {
   "cell_type": "code",
   "execution_count": 16,
   "id": "e753f009-000c-4f27-95c6-f5708cbe9420",
   "metadata": {},
   "outputs": [
    {
     "data": {
      "text/plain": [
       "[1, 2, 3, 4, 5, 6, 7, 8, 9]"
      ]
     },
     "execution_count": 16,
     "metadata": {},
     "output_type": "execute_result"
    }
   ],
   "source": [
    "[value\n",
    " for row in matrix\n",
    " for value in row]"
   ]
  },
  {
   "cell_type": "code",
   "execution_count": 17,
   "id": "786a1394-9297-4712-8685-d7ae16303306",
   "metadata": {},
   "outputs": [
    {
     "data": {
      "text/plain": [
       "[1, 2, 3, 4, 5, 6, 7, 8, 9]"
      ]
     },
     "execution_count": 17,
     "metadata": {},
     "output_type": "execute_result"
    }
   ],
   "source": [
    "result = []\n",
    "for row in matrix:\n",
    "    for value in row: \n",
    "        result.append(value)\n",
    "result"
   ]
  },
  {
   "cell_type": "code",
   "execution_count": 18,
   "id": "99f039d2-2fbf-46a3-9e85-779268adec27",
   "metadata": {},
   "outputs": [],
   "source": [
    "a = [1, 17, 4]\n",
    "b = [2, 3, 0]\n",
    "c = [1, 9, 8, 5]"
   ]
  },
  {
   "cell_type": "code",
   "execution_count": 19,
   "id": "4a115d74-0c44-4c4d-97b5-dc653614539a",
   "metadata": {},
   "outputs": [
    {
     "name": "stdout",
     "output_type": "stream",
     "text": [
      "{2, 4, 5, 6, 7, 8, 9, 10, 11, 12, 13, 14, 15, 16, 18, 20, 21, 22, 24, 25, 26, 27, 28, 29}\n"
     ]
    }
   ],
   "source": [
    "sums = set()\n",
    "for x in a:\n",
    "    for y in b:\n",
    "        for z in c:\n",
    "            sums.add(x + y + z)\n",
    "print(sums)"
   ]
  },
  {
   "cell_type": "code",
   "execution_count": 20,
   "id": "e8a94129-d328-4823-9bb0-2867773aec47",
   "metadata": {},
   "outputs": [
    {
     "name": "stdout",
     "output_type": "stream",
     "text": [
      "{2, 4, 5, 6, 7, 8, 9, 10, 11, 12, 13, 14, 15, 16, 18, 20, 21, 22, 24, 25, 26, 27, 28, 29}\n"
     ]
    }
   ],
   "source": [
    "# Comprehensions are often much shorter than using explicit loops.\n",
    "sumsc = {x + y + z for x in a for y in b for z in c}\n",
    "print(sumsc)"
   ]
  },
  {
   "cell_type": "markdown",
   "id": "eb79d34d-728c-437c-93c4-23a6823989f0",
   "metadata": {},
   "source": [
    "Variable scoping:\n",
    "\n",
    "- Loop variables in comprehensions (with any number of `for` clauses)\n",
    "  are scoped locally to the comprehension.\n",
    "\n",
    "- Loop variables in `for` loops are not scoped locally to the loop."
   ]
  },
  {
   "cell_type": "code",
   "execution_count": 21,
   "id": "902e7987-fd86-4ec7-9100-6156c0c7cabd",
   "metadata": {},
   "outputs": [],
   "source": [
    "words = ['hello', 'bobcat', 'ow']"
   ]
  },
  {
   "cell_type": "code",
   "execution_count": 22,
   "id": "35c106b3-045c-4077-9c97-3f6f5e681d20",
   "metadata": {},
   "outputs": [
    {
     "data": {
      "text/plain": [
       "13"
      ]
     },
     "execution_count": 22,
     "metadata": {},
     "output_type": "execute_result"
    }
   ],
   "source": [
    "# With a loop (usually the slowest).\n",
    "total = 0\n",
    "for word in words:\n",
    "    total += len(word)\n",
    "total"
   ]
  },
  {
   "cell_type": "code",
   "execution_count": 23,
   "id": "9b2841f9-72fb-48c8-b4fb-4002a75e4442",
   "metadata": {},
   "outputs": [
    {
     "data": {
      "text/plain": [
       "13"
      ]
     },
     "execution_count": 23,
     "metadata": {},
     "output_type": "execute_result"
    }
   ],
   "source": [
    "# With a comprehension (usually faster than a loop):\n",
    "sum(len(word) for word in words)"
   ]
  },
  {
   "cell_type": "code",
   "execution_count": 24,
   "id": "c34d09e3-b20a-45d3-a3da-0b86b76fcdb3",
   "metadata": {},
   "outputs": [
    {
     "data": {
      "text/plain": [
       "13"
      ]
     },
     "execution_count": 24,
     "metadata": {},
     "output_type": "execute_result"
    }
   ],
   "source": [
    "# With map (usually the fastest because len is written in C):\n",
    "sum(map(len, words))"
   ]
  },
  {
   "cell_type": "code",
   "execution_count": 25,
   "id": "1e62d8b6-282b-47f3-b60a-77ebb98d8434",
   "metadata": {},
   "outputs": [],
   "source": [
    "# But usually these performance considerations should be secondary to\n",
    "# other considerations: correctness and readability."
   ]
  },
  {
   "cell_type": "code",
   "execution_count": 26,
   "id": "9a5ea6ee-3306-471c-80ae-2c09d2d3caf4",
   "metadata": {},
   "outputs": [
    {
     "name": "stdout",
     "output_type": "stream",
     "text": [
      "[11, 12, 13, 14, 21, 22, 23, 24, 31, 32, 33, 34, 41, 42, 43, 44, 51, 52, 53, 54, 61, 62, 63, 64]\n"
     ]
    }
   ],
   "source": [
    "a = [10, 20, 30, 40, 50, 60]\n",
    "b = [1, 2, 3, 4]\n",
    "print([x + y for x in a for y in b])"
   ]
  },
  {
   "cell_type": "code",
   "execution_count": 27,
   "id": "2d39b7d9-5332-4eaa-8ffb-5c59124f14e0",
   "metadata": {},
   "outputs": [],
   "source": [
    "# These addends tip poorly and are banned from our restaurant.\n",
    "deny = {3, 20, 50}"
   ]
  },
  {
   "cell_type": "code",
   "execution_count": 28,
   "id": "b4ee80ea-ee72-4177-9a14-608b18b431c5",
   "metadata": {},
   "outputs": [
    {
     "data": {
      "text/plain": [
       "[11, 12, 14, 31, 32, 34, 41, 42, 44, 61, 62, 64]"
      ]
     },
     "execution_count": 28,
     "metadata": {},
     "output_type": "execute_result"
    }
   ],
   "source": [
    "[x + y\n",
    " for x in a if x not in deny\n",
    " for y in b if y not in deny]"
   ]
  },
  {
   "cell_type": "code",
   "execution_count": 29,
   "id": "521ff88a-7225-483d-9f78-e4bb00b13576",
   "metadata": {},
   "outputs": [
    {
     "data": {
      "text/plain": [
       "[12, 14, 31, 32, 34, 41, 42, 61, 62, 64]"
      ]
     },
     "execution_count": 29,
     "metadata": {},
     "output_type": "execute_result"
    }
   ],
   "source": [
    "[x + y\n",
    " for x in a if x not in deny\n",
    " for y in b if y not in deny and x != y * 10]"
   ]
  },
  {
   "cell_type": "code",
   "execution_count": 30,
   "id": "f4e00b3f-3a57-4230-9a16-1f4ac165caeb",
   "metadata": {
    "tags": [
     "raises-exception"
    ]
   },
   "outputs": [
    {
     "ename": "UnboundLocalError",
     "evalue": "local variable 'y' referenced before assignment",
     "output_type": "error",
     "traceback": [
      "\u001b[1;31m---------------------------------------------------------------------------\u001b[0m",
      "\u001b[1;31mUnboundLocalError\u001b[0m                         Traceback (most recent call last)",
      "Input \u001b[1;32mIn [30]\u001b[0m, in \u001b[0;36m<module>\u001b[1;34m\u001b[0m\n\u001b[1;32m----> 1\u001b[0m [x \u001b[38;5;241m+\u001b[39m y\n\u001b[0;32m      2\u001b[0m  \u001b[38;5;28;01mfor\u001b[39;00m x \u001b[38;5;129;01min\u001b[39;00m a \u001b[38;5;28;01mif\u001b[39;00m x \u001b[38;5;129;01mnot\u001b[39;00m \u001b[38;5;129;01min\u001b[39;00m deny \u001b[38;5;129;01mand\u001b[39;00m x \u001b[38;5;241m!=\u001b[39m y \u001b[38;5;241m*\u001b[39m \u001b[38;5;241m10\u001b[39m\n\u001b[0;32m      3\u001b[0m  \u001b[38;5;28;01mfor\u001b[39;00m y \u001b[38;5;129;01min\u001b[39;00m b \u001b[38;5;28;01mif\u001b[39;00m y \u001b[38;5;129;01mnot\u001b[39;00m \u001b[38;5;129;01min\u001b[39;00m deny]\n",
      "Input \u001b[1;32mIn [30]\u001b[0m, in \u001b[0;36m<listcomp>\u001b[1;34m(.0)\u001b[0m\n\u001b[0;32m      1\u001b[0m [x \u001b[38;5;241m+\u001b[39m y\n\u001b[1;32m----> 2\u001b[0m  \u001b[38;5;28;01mfor\u001b[39;00m x \u001b[38;5;129;01min\u001b[39;00m a \u001b[38;5;28;01mif\u001b[39;00m x \u001b[38;5;129;01mnot\u001b[39;00m \u001b[38;5;129;01min\u001b[39;00m deny \u001b[38;5;129;01mand\u001b[39;00m x \u001b[38;5;241m!=\u001b[39m \u001b[43my\u001b[49m \u001b[38;5;241m*\u001b[39m \u001b[38;5;241m10\u001b[39m\n\u001b[0;32m      3\u001b[0m  \u001b[38;5;28;01mfor\u001b[39;00m y \u001b[38;5;129;01min\u001b[39;00m b \u001b[38;5;28;01mif\u001b[39;00m y \u001b[38;5;129;01mnot\u001b[39;00m \u001b[38;5;129;01min\u001b[39;00m deny]\n",
      "\u001b[1;31mUnboundLocalError\u001b[0m: local variable 'y' referenced before assignment"
     ]
    }
   ],
   "source": [
    "[x + y\n",
    " for x in a if x not in deny and x != y * 10\n",
    " for y in b if y not in deny]"
   ]
  },
  {
   "cell_type": "code",
   "execution_count": 31,
   "id": "5c9c7447-97a5-4eee-87df-b26f632edcca",
   "metadata": {},
   "outputs": [
    {
     "data": {
      "text/plain": [
       "[12, 14, 31, 32, 34, 41, 42, 61, 62, 64]"
      ]
     },
     "execution_count": 31,
     "metadata": {},
     "output_type": "execute_result"
    }
   ],
   "source": [
    "[x + y\n",
    " for x in a if x not in deny\n",
    " for y in b if y not in deny\n",
    " if x != y * 10]"
   ]
  },
  {
   "cell_type": "code",
   "execution_count": 32,
   "id": "ea9453ec-73ee-462a-9f62-6e3db3ed6f2c",
   "metadata": {},
   "outputs": [
    {
     "data": {
      "text/plain": [
       "[12, 14, 31, 32, 34, 41, 42, 61, 62, 64]"
      ]
     },
     "execution_count": 32,
     "metadata": {},
     "output_type": "execute_result"
    }
   ],
   "source": [
    "[x + y\n",
    " for x in a if x not in deny\n",
    " for y in b if y not in deny if x != y * 10]"
   ]
  },
  {
   "cell_type": "code",
   "execution_count": 33,
   "id": "21d7f2e3-8c80-4817-997e-41dbab5c2eff",
   "metadata": {},
   "outputs": [
    {
     "name": "stdout",
     "output_type": "stream",
     "text": [
      "[12, 14, 31, 32, 34, 41, 42, 61, 62, 64]\n"
     ]
    }
   ],
   "source": [
    "sums = []\n",
    "for x in a: \n",
    "    if x not in deny: \n",
    "        for y in b: \n",
    "            if y not in deny and x != y * 10: \n",
    "                sums.append(x + y)\n",
    "print(sums)"
   ]
  },
  {
   "cell_type": "code",
   "execution_count": 34,
   "id": "e346254a-fef6-4640-a6c5-3c932d25db49",
   "metadata": {},
   "outputs": [
    {
     "name": "stdout",
     "output_type": "stream",
     "text": [
      "[12, 14, 31, 32, 34, 41, 42, 61, 62, 64]\n"
     ]
    }
   ],
   "source": [
    "sums = []\n",
    "for x in a: \n",
    "    if x not in deny: \n",
    "        for y in b: \n",
    "            if y not in deny: \n",
    "                if x != y * 10: \n",
    "                    sums.append(x + y)\n",
    "print(sums)"
   ]
  },
  {
   "cell_type": "code",
   "execution_count": 37,
   "id": "7383335c-fa7c-45ac-8346-80df27cf234b",
   "metadata": {},
   "outputs": [
    {
     "name": "stdout",
     "output_type": "stream",
     "text": [
      "[12, 14, 31, 32, 34, 41, 42, 61, 62, 64]\n"
     ]
    }
   ],
   "source": [
    "sums = []\n",
    "for x in a: \n",
    "    if x in deny: \n",
    "        continue\n",
    "    for y in b: \n",
    "        if y in deny or x == y * 10: \n",
    "            continue\n",
    "        sums.append(x + y)\n",
    "print(sums)"
   ]
  },
  {
   "cell_type": "code",
   "execution_count": 38,
   "id": "b73f92cf-fa05-4ca8-85f4-111af37748d1",
   "metadata": {},
   "outputs": [
    {
     "name": "stdout",
     "output_type": "stream",
     "text": [
      "[12, 14, 31, 32, 34, 41, 42, 61, 62, 64]\n"
     ]
    }
   ],
   "source": [
    "sums = []\n",
    "for x in a: \n",
    "    if x in deny: \n",
    "        continue\n",
    "    for y in b: \n",
    "        if y in deny:\n",
    "            continue\n",
    "        if x == y * 10:\n",
    "            continue \n",
    "        sums.append(x + y)\n",
    "print(sums)"
   ]
  },
  {
   "cell_type": "code",
   "execution_count": 35,
   "id": "f1854d0a-c619-4f28-9dc3-03da09451073",
   "metadata": {},
   "outputs": [
    {
     "data": {
      "text/plain": [
       "[1, 2, 7, 3, 17, 9]"
      ]
     },
     "execution_count": 35,
     "metadata": {},
     "output_type": "execute_result"
    }
   ],
   "source": [
    "filtered = []\n",
    "for x in (1, 5, 2, 7, 3, 15, 17, 100, 9, 10):\n",
    "    if x % 5 == 0:\n",
    "        continue\n",
    "    filtered.append(x)\n",
    "filtered"
   ]
  },
  {
   "cell_type": "code",
   "execution_count": 36,
   "id": "f6f34b6e-f665-49c3-a958-8b081c53ac66",
   "metadata": {},
   "outputs": [
    {
     "data": {
      "text/plain": [
       "[1, 2, 7, 3, 17, 9]"
      ]
     },
     "execution_count": 36,
     "metadata": {},
     "output_type": "execute_result"
    }
   ],
   "source": [
    "filtered = []\n",
    "for x in (1, 5, 2, 7, 3, 15, 17, 100, 9, 10):\n",
    "    if x % 5 != 0:\n",
    "        filtered.append(x)\n",
    "filtered "
   ]
  },
  {
   "cell_type": "code",
   "execution_count": 39,
   "id": "3e319935-cc3e-4842-9eb4-28c2f7f444bc",
   "metadata": {},
   "outputs": [
    {
     "data": {
      "text/plain": [
       "['__doc__',\n",
       " '__loader__',\n",
       " '__name__',\n",
       " '__package__',\n",
       " '__spec__',\n",
       " '_grouper',\n",
       " '_tee',\n",
       " '_tee_dataobject',\n",
       " 'accumulate',\n",
       " 'chain',\n",
       " 'combinations',\n",
       " 'combinations_with_replacement',\n",
       " 'compress',\n",
       " 'count',\n",
       " 'cycle',\n",
       " 'dropwhile',\n",
       " 'filterfalse',\n",
       " 'groupby',\n",
       " 'islice',\n",
       " 'pairwise',\n",
       " 'permutations',\n",
       " 'product',\n",
       " 'repeat',\n",
       " 'starmap',\n",
       " 'takewhile',\n",
       " 'tee',\n",
       " 'zip_longest']"
      ]
     },
     "execution_count": 39,
     "metadata": {},
     "output_type": "execute_result"
    }
   ],
   "source": [
    "dir(itertools)"
   ]
  },
  {
   "cell_type": "code",
   "execution_count": 40,
   "id": "4fc92504-a08f-4193-80ed-7e220a5f5f9c",
   "metadata": {},
   "outputs": [
    {
     "name": "stdout",
     "output_type": "stream",
     "text": [
      "Help on class product in module itertools:\n",
      "\n",
      "class product(builtins.object)\n",
      " |  product(*iterables, repeat=1) --> product object\n",
      " |  \n",
      " |  Cartesian product of input iterables.  Equivalent to nested for-loops.\n",
      " |  \n",
      " |  For example, product(A, B) returns the same as:  ((x,y) for x in A for y in B).\n",
      " |  The leftmost iterators are in the outermost for-loop, so the output tuples\n",
      " |  cycle in a manner similar to an odometer (with the rightmost element changing\n",
      " |  on every iteration).\n",
      " |  \n",
      " |  To compute the product of an iterable with itself, specify the number\n",
      " |  of repetitions with the optional repeat keyword argument. For example,\n",
      " |  product(A, repeat=4) means the same as product(A, A, A, A).\n",
      " |  \n",
      " |  product('ab', range(3)) --> ('a',0) ('a',1) ('a',2) ('b',0) ('b',1) ('b',2)\n",
      " |  product((0,1), (0,1), (0,1)) --> (0,0,0) (0,0,1) (0,1,0) (0,1,1) (1,0,0) ...\n",
      " |  \n",
      " |  Methods defined here:\n",
      " |  \n",
      " |  __getattribute__(self, name, /)\n",
      " |      Return getattr(self, name).\n",
      " |  \n",
      " |  __iter__(self, /)\n",
      " |      Implement iter(self).\n",
      " |  \n",
      " |  __next__(self, /)\n",
      " |      Implement next(self).\n",
      " |  \n",
      " |  __reduce__(...)\n",
      " |      Return state information for pickling.\n",
      " |  \n",
      " |  __setstate__(...)\n",
      " |      Set state information for unpickling.\n",
      " |  \n",
      " |  __sizeof__(...)\n",
      " |      Returns size in memory, in bytes.\n",
      " |  \n",
      " |  ----------------------------------------------------------------------\n",
      " |  Static methods defined here:\n",
      " |  \n",
      " |  __new__(*args, **kwargs) from builtins.type\n",
      " |      Create and return a new object.  See help(type) for accurate signature.\n",
      "\n"
     ]
    }
   ],
   "source": [
    "help(itertools.product)"
   ]
  },
  {
   "cell_type": "code",
   "execution_count": 42,
   "id": "44dbc495-f585-429e-af5d-56130986b9ed",
   "metadata": {},
   "outputs": [
    {
     "data": {
      "text/plain": [
       "[(1, 1), (1, 2), (2, 1), (2, 2)]"
      ]
     },
     "execution_count": 42,
     "metadata": {},
     "output_type": "execute_result"
    }
   ],
   "source": [
    "list(itertools.product((1,2),(1,2)))"
   ]
  },
  {
   "cell_type": "code",
   "execution_count": 43,
   "id": "51b730da-6c78-44af-8f0e-2898d15261e8",
   "metadata": {},
   "outputs": [
    {
     "data": {
      "text/plain": [
       "[(1, 1), (1, 2), (2, 1), (2, 2)]"
      ]
     },
     "execution_count": 43,
     "metadata": {},
     "output_type": "execute_result"
    }
   ],
   "source": [
    "list(itertools.product((1,2), repeat=2))"
   ]
  },
  {
   "cell_type": "code",
   "execution_count": 45,
   "id": "ffd178f0-e923-47e9-98e4-e40f2c65e020",
   "metadata": {},
   "outputs": [
    {
     "data": {
      "text/plain": [
       "[('p', 'x', '1'),\n",
       " ('p', 'x', '2'),\n",
       " ('p', 'x', '3'),\n",
       " ('p', 'y', '1'),\n",
       " ('p', 'y', '2'),\n",
       " ('p', 'y', '3'),\n",
       " ('p', 'z', '1'),\n",
       " ('p', 'z', '2'),\n",
       " ('p', 'z', '3'),\n",
       " ('q', 'x', '1'),\n",
       " ('q', 'x', '2'),\n",
       " ('q', 'x', '3'),\n",
       " ('q', 'y', '1'),\n",
       " ('q', 'y', '2'),\n",
       " ('q', 'y', '3'),\n",
       " ('q', 'z', '1'),\n",
       " ('q', 'z', '2'),\n",
       " ('q', 'z', '3'),\n",
       " ('r', 'x', '1'),\n",
       " ('r', 'x', '2'),\n",
       " ('r', 'x', '3'),\n",
       " ('r', 'y', '1'),\n",
       " ('r', 'y', '2'),\n",
       " ('r', 'y', '3'),\n",
       " ('r', 'z', '1'),\n",
       " ('r', 'z', '2'),\n",
       " ('r', 'z', '3')]"
      ]
     },
     "execution_count": 45,
     "metadata": {},
     "output_type": "execute_result"
    }
   ],
   "source": [
    "a = 'pqr'\n",
    "b = 'xyz'\n",
    "c = '123'\n",
    "list(itertools.product(a, b, c))"
   ]
  },
  {
   "cell_type": "code",
   "execution_count": 46,
   "id": "6de15fca-1a23-4495-a03f-12cd5d962db3",
   "metadata": {},
   "outputs": [
    {
     "data": {
      "text/plain": [
       "[('p', 'x', '1'),\n",
       " ('p', 'x', '2'),\n",
       " ('p', 'x', '3'),\n",
       " ('p', 'y', '1'),\n",
       " ('p', 'y', '2'),\n",
       " ('p', 'y', '3'),\n",
       " ('p', 'z', '1'),\n",
       " ('p', 'z', '2'),\n",
       " ('p', 'z', '3'),\n",
       " ('q', 'x', '1'),\n",
       " ('q', 'x', '2'),\n",
       " ('q', 'x', '3'),\n",
       " ('q', 'y', '1'),\n",
       " ('q', 'y', '2'),\n",
       " ('q', 'y', '3'),\n",
       " ('q', 'z', '1'),\n",
       " ('q', 'z', '2'),\n",
       " ('q', 'z', '3'),\n",
       " ('r', 'x', '1'),\n",
       " ('r', 'x', '2'),\n",
       " ('r', 'x', '3'),\n",
       " ('r', 'y', '1'),\n",
       " ('r', 'y', '2'),\n",
       " ('r', 'y', '3'),\n",
       " ('r', 'z', '1'),\n",
       " ('r', 'z', '2'),\n",
       " ('r', 'z', '3')]"
      ]
     },
     "execution_count": 46,
     "metadata": {},
     "output_type": "execute_result"
    }
   ],
   "source": [
    "a_it = iter(a)\n",
    "b_it = iter(b)\n",
    "c_it = iter(c)\n",
    "list(itertools.product(a_it, b_it, c_it))"
   ]
  },
  {
   "cell_type": "code",
   "execution_count": 47,
   "id": "1c9421ae-2eaa-403e-bda7-c5d292970fdb",
   "metadata": {},
   "outputs": [
    {
     "data": {
      "text/plain": [
       "[('p', 'x', '1'), ('p', 'x', '2'), ('p', 'x', '3')]"
      ]
     },
     "execution_count": 47,
     "metadata": {},
     "output_type": "execute_result"
    }
   ],
   "source": [
    "a_it = iter(a)\n",
    "b_it = iter(b)\n",
    "c_it = iter(c)\n",
    "[(x, y, z) for x in a_it for y in b_it for z in c_it]"
   ]
  },
  {
   "cell_type": "code",
   "execution_count": 48,
   "id": "684380a2-81d7-4d13-b4d0-99d2526dd837",
   "metadata": {},
   "outputs": [
    {
     "data": {
      "text/plain": [
       "(0, 'a')"
      ]
     },
     "execution_count": 48,
     "metadata": {},
     "output_type": "execute_result"
    }
   ],
   "source": [
    "it = ((index, value) for index in itertools.count() for value in 'abc')\n",
    "next(it)"
   ]
  },
  {
   "cell_type": "code",
   "execution_count": 49,
   "id": "822b6860-f67c-45b0-99c2-2a6f030442e1",
   "metadata": {},
   "outputs": [
    {
     "data": {
      "text/plain": [
       "(0, 'b')"
      ]
     },
     "execution_count": 49,
     "metadata": {},
     "output_type": "execute_result"
    }
   ],
   "source": [
    "next(it)"
   ]
  },
  {
   "cell_type": "code",
   "execution_count": 50,
   "id": "f60cdcbf-3582-4d6b-8f21-074c19d234ce",
   "metadata": {},
   "outputs": [
    {
     "data": {
      "text/plain": [
       "(0, 'c')"
      ]
     },
     "execution_count": 50,
     "metadata": {},
     "output_type": "execute_result"
    }
   ],
   "source": [
    "next(it)"
   ]
  },
  {
   "cell_type": "code",
   "execution_count": 51,
   "id": "647d9a9b-ddf2-4d9c-8e83-d9ef422b10ed",
   "metadata": {},
   "outputs": [
    {
     "data": {
      "text/plain": [
       "(1, 'a')"
      ]
     },
     "execution_count": 51,
     "metadata": {},
     "output_type": "execute_result"
    }
   ],
   "source": [
    "next(it)"
   ]
  },
  {
   "cell_type": "code",
   "execution_count": 52,
   "id": "091aeb49-854c-42c7-b820-2dc16a1b685f",
   "metadata": {},
   "outputs": [
    {
     "data": {
      "text/plain": [
       "(1, 'b')"
      ]
     },
     "execution_count": 52,
     "metadata": {},
     "output_type": "execute_result"
    }
   ],
   "source": [
    "next(it)"
   ]
  },
  {
   "cell_type": "code",
   "execution_count": 53,
   "id": "20ba0eff-9948-40ea-8e5c-72a472c98005",
   "metadata": {},
   "outputs": [
    {
     "ename": "MemoryError",
     "evalue": "",
     "output_type": "error",
     "traceback": [
      "\u001b[1;31m---------------------------------------------------------------------------\u001b[0m",
      "\u001b[1;31mMemoryError\u001b[0m                               Traceback (most recent call last)",
      "Input \u001b[1;32mIn [53]\u001b[0m, in \u001b[0;36m<module>\u001b[1;34m\u001b[0m\n\u001b[1;32m----> 1\u001b[0m \u001b[43mitertools\u001b[49m\u001b[38;5;241;43m.\u001b[39;49m\u001b[43mproduct\u001b[49m\u001b[43m(\u001b[49m\u001b[43mitertools\u001b[49m\u001b[38;5;241;43m.\u001b[39;49m\u001b[43mcount\u001b[49m\u001b[43m(\u001b[49m\u001b[43m)\u001b[49m\u001b[43m,\u001b[49m\u001b[43m \u001b[49m\u001b[38;5;124;43m'\u001b[39;49m\u001b[38;5;124;43mabc\u001b[39;49m\u001b[38;5;124;43m'\u001b[39;49m\u001b[43m)\u001b[49m\n",
      "\u001b[1;31mMemoryError\u001b[0m: "
     ]
    }
   ],
   "source": [
    "# itertools.product(itertools.count(), 'abc')"
   ]
  },
  {
   "cell_type": "code",
   "execution_count": 63,
   "id": "09d931c0-fa1e-4d01-a643-7664b2c1de14",
   "metadata": {},
   "outputs": [
    {
     "name": "stdout",
     "output_type": "stream",
     "text": [
      "[11, 12, 13, 14, 21, 22, 23, 24, 31, 32, 33, 34, 41, 42, 43, 44, 51, 52, 53, 54, 61, 62, 63, 64]\n"
     ]
    }
   ],
   "source": [
    "a = [10, 20, 30, 40, 50, 60]\n",
    "b = [1, 2, 3, 4]\n",
    "print([x + y for x in a for y in b])"
   ]
  },
  {
   "cell_type": "code",
   "execution_count": 65,
   "id": "11fb1131-5638-47b8-a9c5-1eb9bf23305d",
   "metadata": {},
   "outputs": [
    {
     "name": "stdout",
     "output_type": "stream",
     "text": [
      "[11, 12, 13, 14, 21, 22, 23, 24, 31, 32, 33, 34, 41, 42, 43, 44, 51, 52, 53, 54, 61, 62, 63, 64]\n"
     ]
    }
   ],
   "source": [
    "m = [x + y for x, y in itertools.product(a, b)]\n",
    "print(m)"
   ]
  },
  {
   "cell_type": "code",
   "execution_count": 67,
   "id": "37daa466-1751-4aa6-9170-d3bc3e8d85e0",
   "metadata": {},
   "outputs": [
    {
     "name": "stdout",
     "output_type": "stream",
     "text": [
      "[11, 12, 13, 14, 21, 22, 23, 24, 31, 32, 33, 34, 41, 42, 43, 44, 51, 52, 53, 54, 61, 62, 63, 64]\n"
     ]
    }
   ],
   "source": [
    "m = [sum(xy) for xy in itertools.product(a, b)]\n",
    "print(m)"
   ]
  },
  {
   "cell_type": "code",
   "execution_count": 68,
   "id": "14c3f24f-d944-410e-8973-d9452052b46b",
   "metadata": {},
   "outputs": [
    {
     "name": "stdout",
     "output_type": "stream",
     "text": [
      "[11, 12, 13, 14, 21, 22, 23, 24, 31, 32, 33, 34, 41, 42, 43, 44, 51, 52, 53, 54, 61, 62, 63, 64]\n"
     ]
    }
   ],
   "source": [
    "m = list(map(sum, itertools.product(a, b)))\n",
    "print(m)"
   ]
  },
  {
   "cell_type": "code",
   "execution_count": null,
   "id": "d7f17989-50ae-4dbb-986b-2c876fcb5ac9",
   "metadata": {},
   "outputs": [],
   "source": []
  }
 ],
 "metadata": {
  "kernelspec": {
   "display_name": "Python 3 (ipykernel)",
   "language": "python",
   "name": "python3"
  },
  "language_info": {
   "codemirror_mode": {
    "name": "ipython",
    "version": 3
   },
   "file_extension": ".py",
   "mimetype": "text/x-python",
   "name": "python",
   "nbconvert_exporter": "python",
   "pygments_lexer": "ipython3",
   "version": "3.10.2"
  }
 },
 "nbformat": 4,
 "nbformat_minor": 5
}
