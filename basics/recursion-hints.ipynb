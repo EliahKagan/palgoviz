{
 "cells": [
  {
   "cell_type": "markdown",
   "id": "4f1758a0-07fe-4d53-a641-ef571eb4e42f",
   "metadata": {},
   "source": [
    "## Hints for `recursion.merge_sort_adaptive`"
   ]
  },
  {
   "cell_type": "markdown",
   "id": "1ad9649e-d7bf-4a2d-a7e7-2f2b8f0862c7",
   "metadata": {},
   "source": [
    "<details>\n",
    "<summary><strong>Hint 1</strong> <em>(click to reveal/hide)</em></summary>\n",
    "\n",
    "You run into Professor Run at the park where he runs backwards each morning. He tells you that runs of equal (or similar) values can be treated as rising runs or falling runs, so they won't break either kind of run if they appear within it. Is the professor right? Of increasing, decreasing, nonincreasing, and nondecreasing runs, which kinds should you detect?\n",
    "</details>"
   ]
  },
  {
   "cell_type": "markdown",
   "id": "9a9f773a-0ee2-4868-b672-43a5c1520bd4",
   "metadata": {},
   "source": [
    "<details>\n",
    "<summary><strong>Hint 2</strong> <em>(click to reveal/hide)</em></summary>\n",
    "\n",
    "Your algorithm may fail to sort some monotone inputs in $O(n)$ time, but those are fairly rare. To make up for it, your algorithm may succeed at sorting some inputs with frequent direction changes in $O(n)$ time. Whatever runs you take advantage of, detecting all such runs will take $O(n)$ time.\n",
    "</details>"
   ]
  },
  {
   "cell_type": "markdown",
   "id": "a89a1fce-79f7-430e-a428-a6000b90bcea",
   "metadata": {},
   "source": [
    "<details>\n",
    "<summary><strong>Hint 3</strong> <em>(click to reveal/hide)</em></summary>\n",
    "\n",
    "Concatenating two lists sometimes behaves as a two-way merge. When? Such a merge is always stable. Why? Yet it's easy to accidentally design an unstable sort based on this insight. Why is that? Also, concatenation and two-way merge both take linear time. Yet this insight is still useful. How?\n",
    "</details>"
   ]
  },
  {
   "cell_type": "code",
   "execution_count": null,
   "id": "cea5366a-04c6-4e94-9cf2-114e34a91732",
   "metadata": {},
   "outputs": [],
   "source": []
  }
 ],
 "metadata": {
  "kernelspec": {
   "display_name": "Python 3 (ipykernel)",
   "language": "python",
   "name": "python3"
  },
  "language_info": {
   "codemirror_mode": {
    "name": "ipython",
    "version": 3
   },
   "file_extension": ".py",
   "mimetype": "text/x-python",
   "name": "python",
   "nbconvert_exporter": "python",
   "pygments_lexer": "ipython3",
   "version": "3.10.4"
  }
 },
 "nbformat": 4,
 "nbformat_minor": 5
}
