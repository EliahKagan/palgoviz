{
 "cells": [
  {
   "cell_type": "markdown",
   "id": "7b8193cb-44c5-4b34-9037-156b3f5823dd",
   "metadata": {},
   "source": [
    "# Context Managers"
   ]
  },
  {
   "cell_type": "code",
   "execution_count": 1,
   "id": "8c724810-e0ed-44ca-a691-65aa175c2354",
   "metadata": {},
   "outputs": [
    {
     "name": "stdout",
     "output_type": "stream",
     "text": [
      "Hello\n",
      "Goodbye\n"
     ]
    }
   ],
   "source": [
    "try: \n",
    "    print('Hello')\n",
    "finally: \n",
    "    print('Goodbye')"
   ]
  },
  {
   "cell_type": "code",
   "execution_count": 2,
   "id": "3acce57c-aa41-4b5f-8170-df3356ff9085",
   "metadata": {
    "tags": [
     "raises-exception"
    ]
   },
   "outputs": [
    {
     "name": "stdout",
     "output_type": "stream",
     "text": [
      "Hello\n",
      "Goodbye\n"
     ]
    },
    {
     "ename": "ValueError",
     "evalue": "",
     "output_type": "error",
     "traceback": [
      "\u001b[1;31m---------------------------------------------------------------------------\u001b[0m",
      "\u001b[1;31mValueError\u001b[0m                                Traceback (most recent call last)",
      "Input \u001b[1;32mIn [2]\u001b[0m, in \u001b[0;36m<cell line: 1>\u001b[1;34m()\u001b[0m\n\u001b[0;32m      1\u001b[0m \u001b[38;5;28;01mtry\u001b[39;00m: \n\u001b[0;32m      2\u001b[0m     \u001b[38;5;28mprint\u001b[39m(\u001b[38;5;124m'\u001b[39m\u001b[38;5;124mHello\u001b[39m\u001b[38;5;124m'\u001b[39m)\n\u001b[1;32m----> 3\u001b[0m     \u001b[38;5;28;01mraise\u001b[39;00m \u001b[38;5;167;01mValueError\u001b[39;00m\n\u001b[0;32m      4\u001b[0m \u001b[38;5;28;01mfinally\u001b[39;00m: \n\u001b[0;32m      5\u001b[0m     \u001b[38;5;28mprint\u001b[39m(\u001b[38;5;124m'\u001b[39m\u001b[38;5;124mGoodbye\u001b[39m\u001b[38;5;124m'\u001b[39m)\n",
      "\u001b[1;31mValueError\u001b[0m: "
     ]
    }
   ],
   "source": [
    "try: \n",
    "    print('Hello')\n",
    "    raise ValueError\n",
    "finally: \n",
    "    print('Goodbye')"
   ]
  },
  {
   "cell_type": "code",
   "execution_count": 3,
   "id": "1a57fd8e-95cb-4367-ae97-b938307033f8",
   "metadata": {},
   "outputs": [],
   "source": [
    "class SaysGoodbye: \n",
    "    def __enter__(self): \n",
    "        pass\n",
    "    \n",
    "    def __exit__(self, exc_type, exc_value, traceback): \n",
    "        print('Goodbye')"
   ]
  },
  {
   "cell_type": "code",
   "execution_count": 4,
   "id": "b974ddd8-2967-4a9a-8e05-3967190c24df",
   "metadata": {},
   "outputs": [
    {
     "name": "stdout",
     "output_type": "stream",
     "text": [
      "Hello\n",
      "Goodbye\n"
     ]
    }
   ],
   "source": [
    "with SaysGoodbye(): \n",
    "    print('Hello')"
   ]
  },
  {
   "cell_type": "code",
   "execution_count": 5,
   "id": "54c2fe11-a7ca-4337-a14f-e0212d587b7f",
   "metadata": {
    "tags": [
     "raises-exception"
    ]
   },
   "outputs": [
    {
     "name": "stdout",
     "output_type": "stream",
     "text": [
      "Hello\n",
      "Goodbye\n"
     ]
    },
    {
     "ename": "ValueError",
     "evalue": "",
     "output_type": "error",
     "traceback": [
      "\u001b[1;31m---------------------------------------------------------------------------\u001b[0m",
      "\u001b[1;31mValueError\u001b[0m                                Traceback (most recent call last)",
      "Input \u001b[1;32mIn [5]\u001b[0m, in \u001b[0;36m<cell line: 1>\u001b[1;34m()\u001b[0m\n\u001b[0;32m      1\u001b[0m \u001b[38;5;28;01mwith\u001b[39;00m SaysGoodbye(): \n\u001b[0;32m      2\u001b[0m     \u001b[38;5;28mprint\u001b[39m(\u001b[38;5;124m'\u001b[39m\u001b[38;5;124mHello\u001b[39m\u001b[38;5;124m'\u001b[39m)\n\u001b[1;32m----> 3\u001b[0m     \u001b[38;5;28;01mraise\u001b[39;00m \u001b[38;5;167;01mValueError\u001b[39;00m\n",
      "\u001b[1;31mValueError\u001b[0m: "
     ]
    }
   ],
   "source": [
    "with SaysGoodbye(): \n",
    "    print('Hello')\n",
    "    raise ValueError"
   ]
  },
  {
   "cell_type": "code",
   "execution_count": 29,
   "id": "535321c9-ca26-41f1-aa9b-c635f5c19e63",
   "metadata": {},
   "outputs": [],
   "source": [
    "class FancyGuest: \n",
    "    \n",
    "    __slots__ = ('_name',)\n",
    "    \n",
    "    def __init__(self, name): \n",
    "        self._name = name\n",
    "    \n",
    "    def __enter__(self): \n",
    "        print(f'{self._name} has arrived!')\n",
    "        return self._name\n",
    "    \n",
    "    def __exit__(self, exc_type, exc_value, traceback): \n",
    "        if exc_type is None: \n",
    "            print(f'{self._name} has important business to attend to, and must depart!')\n",
    "        else: \n",
    "            print(f'{self._name} has suffered a tragic {exc_type.__name__}!')"
   ]
  },
  {
   "cell_type": "code",
   "execution_count": 30,
   "id": "256212db-69b3-4adc-a661-21af4b0aea06",
   "metadata": {},
   "outputs": [
    {
     "name": "stdout",
     "output_type": "stream",
     "text": [
      "Cecil II has arrived!\n",
      "Cecil II is boogying at the party\n",
      "Cecil II has important business to attend to, and must depart!\n"
     ]
    }
   ],
   "source": [
    "with FancyGuest('Cecil II') as guest: \n",
    "    print(f'{guest} is boogying at the party')"
   ]
  },
  {
   "cell_type": "code",
   "execution_count": 31,
   "id": "4c27f24c-30df-4009-9872-425c2f565a02",
   "metadata": {
    "tags": [
     "raises-exception"
    ]
   },
   "outputs": [
    {
     "name": "stdout",
     "output_type": "stream",
     "text": [
      "Cecil II has arrived!\n",
      "Cecil II is boogying at the party\n",
      "Cecil II has suffered a tragic ValueError!\n"
     ]
    },
    {
     "ename": "ValueError",
     "evalue": "",
     "output_type": "error",
     "traceback": [
      "\u001b[1;31m---------------------------------------------------------------------------\u001b[0m",
      "\u001b[1;31mValueError\u001b[0m                                Traceback (most recent call last)",
      "Input \u001b[1;32mIn [31]\u001b[0m, in \u001b[0;36m<cell line: 1>\u001b[1;34m()\u001b[0m\n\u001b[0;32m      1\u001b[0m \u001b[38;5;28;01mwith\u001b[39;00m FancyGuest(\u001b[38;5;124m'\u001b[39m\u001b[38;5;124mCecil II\u001b[39m\u001b[38;5;124m'\u001b[39m) \u001b[38;5;28;01mas\u001b[39;00m guest: \n\u001b[0;32m      2\u001b[0m     \u001b[38;5;28mprint\u001b[39m(\u001b[38;5;124mf\u001b[39m\u001b[38;5;124m'\u001b[39m\u001b[38;5;132;01m{\u001b[39;00mguest\u001b[38;5;132;01m}\u001b[39;00m\u001b[38;5;124m is boogying at the party\u001b[39m\u001b[38;5;124m'\u001b[39m)\n\u001b[1;32m----> 3\u001b[0m     \u001b[38;5;28;01mraise\u001b[39;00m \u001b[38;5;167;01mValueError\u001b[39;00m\n",
      "\u001b[1;31mValueError\u001b[0m: "
     ]
    }
   ],
   "source": [
    "with FancyGuest('Cecil II') as guest: \n",
    "    print(f'{guest} is boogying at the party')\n",
    "    raise ValueError"
   ]
  },
  {
   "cell_type": "code",
   "execution_count": null,
   "id": "72b55953-be9a-4243-ab87-c9fae670b5ca",
   "metadata": {},
   "outputs": [],
   "source": []
  }
 ],
 "metadata": {
  "kernelspec": {
   "display_name": "Python 3 (ipykernel)",
   "language": "python",
   "name": "python3"
  },
  "language_info": {
   "codemirror_mode": {
    "name": "ipython",
    "version": 3
   },
   "file_extension": ".py",
   "mimetype": "text/x-python",
   "name": "python",
   "nbconvert_exporter": "python",
   "pygments_lexer": "ipython3",
   "version": "3.10.4"
  }
 },
 "nbformat": 4,
 "nbformat_minor": 5
}
