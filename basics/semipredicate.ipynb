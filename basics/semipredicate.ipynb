{
 "cells": [
  {
   "cell_type": "markdown",
   "id": "ea3e6430-593b-4a12-80b7-097ff04afe19",
   "metadata": {},
   "source": [
    "# The Semipredicate Problem\n",
    "\n",
    "The [semipredicate problem](https://en.wikipedia.org/wiki/Semipredicate_problem) is the problem of how to overcome ambiguity in distinguishing a real result from an indication that there is no result and/or that an error occurred.\n",
    "\n",
    "A language-agnostic example of the semipredicate problem, and of solving it using *out-of-band signalling*, is having a primary output stream `stdout` and a secondary output / error output stream `stderr`.\n",
    "\n",
    "An specific example from C is [ERR02-C. Avoid in-band error indicators](https://wiki.sei.cmu.edu/confluence/display/c/ERR02-C.+Avoid+in-band+error+indicators)."
   ]
  },
  {
   "cell_type": "code",
   "execution_count": 1,
   "id": "e3f66f51-fbb6-46ec-9b09-e58436861c46",
   "metadata": {},
   "outputs": [
    {
     "data": {
      "text/plain": [
       "'The horse said, \"It\\'s no good.\"'"
      ]
     },
     "execution_count": 1,
     "metadata": {},
     "output_type": "execute_result"
    }
   ],
   "source": [
    "'The horse said, \"It\\'s no good.\"'  # Quoting is an example of in-band signaling."
   ]
  },
  {
   "cell_type": "markdown",
   "id": "5a662be7-86c6-46e0-af19-011794e7173e",
   "metadata": {},
   "source": [
    "Suppose we have a dict `d` and a key `k`, and we want to do one thing if `k` is in `d` (using the associated value), and something else if it is not.\n",
    "\n",
    "Provided we don't need to worry about the dict being mutated between checking and subscripting, we can use LBYL in a way that avoids the semipredicate problem arising:\n",
    "\n",
    "```python\n",
    "if k in d:\n",
    "    v = d[k]\n",
    "    ...  # Use the value v.\n",
    "else:\n",
    "    ...  # Deal with k not being mapped.\n",
    "```"
   ]
  },
  {
   "cell_type": "markdown",
   "id": "135407f7-b0a0-4e17-9a8d-60aa0a1324fd",
   "metadata": {},
   "source": [
    "Often (but not always) a better approach is EAFP, which solves the semipredicate problem by using *returns* as the main source of information and *exceptions* as a secondary, out-of-band source of information:\n",
    "\n",
    "```python\n",
    "try:\n",
    "    v = d[k]\n",
    "except KeyError:\n",
    "    ...  # Deal with k not being mapped.\n",
    "else:\n",
    "    ...  # Use the value v.\n",
    "```"
   ]
  },
  {
   "cell_type": "markdown",
   "id": "edf20a48-4085-4535-b832-b0da537c61be",
   "metadata": {},
   "source": [
    "`dict` has a `get` method, which can be useful when neither of those patterns is convenient, but which brings back the semipredicate problem, since it uses in-band signaling."
   ]
  },
  {
   "cell_type": "code",
   "execution_count": 2,
   "id": "2acc541f-540f-4fff-9341-fbf79302106d",
   "metadata": {},
   "outputs": [
    {
     "name": "stdout",
     "output_type": "stream",
     "text": [
      "Help on method_descriptor:\n",
      "\n",
      "get(self, key, default=None, /)\n",
      "    Return the value for key if key is in the dictionary, else default.\n",
      "\n"
     ]
    }
   ],
   "source": [
    "help(dict.get)"
   ]
  },
  {
   "cell_type": "code",
   "execution_count": 3,
   "id": "e4295795-e7c1-4b89-9d57-a3cdeedb799b",
   "metadata": {},
   "outputs": [],
   "source": [
    "d = {7: \"car\", 3: \"boat\", 5: \"airplane\"}"
   ]
  },
  {
   "cell_type": "code",
   "execution_count": 4,
   "id": "abb9cc1e-1eb4-4a7c-8c5e-50c71d209de2",
   "metadata": {},
   "outputs": [
    {
     "data": {
      "text/plain": [
       "'airplane'"
      ]
     },
     "execution_count": 4,
     "metadata": {},
     "output_type": "execute_result"
    }
   ],
   "source": [
    "d.get(5)"
   ]
  },
  {
   "cell_type": "code",
   "execution_count": 5,
   "id": "2c1513e8-5dd6-4bfe-b7e9-f1746ee36efd",
   "metadata": {},
   "outputs": [],
   "source": [
    "d.get(10)"
   ]
  },
  {
   "cell_type": "code",
   "execution_count": 6,
   "id": "fa7e5e9f-1a7e-4307-8207-ab8d76acf6f1",
   "metadata": {},
   "outputs": [
    {
     "data": {
      "text/plain": [
       "'ITS NOT HERE!'"
      ]
     },
     "execution_count": 6,
     "metadata": {},
     "output_type": "execute_result"
    }
   ],
   "source": [
    "d.get(10,\"ITS NOT HERE!\")"
   ]
  },
  {
   "cell_type": "markdown",
   "id": "3eb2c1d2-725b-42cc-aa6c-13da8bfca5d0",
   "metadata": {},
   "source": [
    "Suppose you are writing code in a function, and the situation happens to be one where it is\n",
    "much more convenient to use `dict.get` than to use `try`-`catch`. In *some* situations, you\n",
    "will know for sure that a particular value will not be present. There are also situations\n",
    "where there is no existing value that is totally safe as the default. It is nonetheless\n",
    "possible to solve the semipredicate problem and use `dict.get`."
   ]
  },
  {
   "cell_type": "code",
   "execution_count": 7,
   "id": "2e70b549-e29b-41ad-8a7e-fefbdcf4dc0e",
   "metadata": {},
   "outputs": [
    {
     "name": "stdout",
     "output_type": "stream",
     "text": [
      "Not here\n"
     ]
    }
   ],
   "source": [
    "# We need to make sure that o is not accessible to anything that might\n",
    "# mutate d. So, in practice, we usually need o to be a local variable,\n",
    "# thus this technique is, in practice, mostly useful in a function (but\n",
    "# that's okay since most of our Python code is in a function anyway).\n",
    "o = object()\n",
    "if d.get(10, o) is o:\n",
    "    print('Not here')    "
   ]
  },
  {
   "cell_type": "code",
   "execution_count": 8,
   "id": "98a795bf-c173-4cac-9031-a29f2f87d691",
   "metadata": {},
   "outputs": [
    {
     "name": "stdout",
     "output_type": "stream",
     "text": [
      "Help on built-in function get:\n",
      "\n",
      "get(key, default=None, /) method of builtins.dict instance\n",
      "    Return the value for key if key is in the dictionary, else default.\n",
      "\n"
     ]
    }
   ],
   "source": [
    "help(d.get)"
   ]
  },
  {
   "cell_type": "code",
   "execution_count": 9,
   "id": "0a4439ac-716e-42ea-a799-e600aaf6b8e9",
   "metadata": {},
   "outputs": [],
   "source": [
    "v = d.get(10, object())"
   ]
  },
  {
   "cell_type": "code",
   "execution_count": 10,
   "id": "e7f7ebd9-a1b9-4656-874b-a42e91d1448c",
   "metadata": {},
   "outputs": [],
   "source": [
    "w = d.get(10, object())"
   ]
  },
  {
   "cell_type": "code",
   "execution_count": 11,
   "id": "0398c3be-cbae-456e-a146-6ab1003c9d7c",
   "metadata": {},
   "outputs": [
    {
     "data": {
      "text/plain": [
       "False"
      ]
     },
     "execution_count": 11,
     "metadata": {},
     "output_type": "execute_result"
    }
   ],
   "source": [
    "v == w"
   ]
  },
  {
   "cell_type": "code",
   "execution_count": 12,
   "id": "b1f2bc68-b968-421d-a690-d7431046af28",
   "metadata": {},
   "outputs": [
    {
     "data": {
      "text/plain": [
       "type"
      ]
     },
     "execution_count": 12,
     "metadata": {},
     "output_type": "execute_result"
    }
   ],
   "source": [
    "type(object)"
   ]
  },
  {
   "cell_type": "code",
   "execution_count": 13,
   "id": "710b2064-5fcc-4aac-ab89-173077bf39fa",
   "metadata": {},
   "outputs": [],
   "source": [
    "d[10] = o"
   ]
  },
  {
   "cell_type": "code",
   "execution_count": 14,
   "id": "940673f8-edd2-4e4a-a829-b5f150a220e6",
   "metadata": {},
   "outputs": [],
   "source": [
    "def initial_practice(dictionary, key, value):\n",
    "    try:\n",
    "        value = dictionary[key]\n",
    "    except KeyError:\n",
    "        print(\"the key is not mapped\")  # Deal with key not being mapped.\n",
    "    else:\n",
    "        print(f'The value for {key} is {value}')  # Use the value."
   ]
  },
  {
   "cell_type": "code",
   "execution_count": 15,
   "id": "d78ec4c8-4a98-4455-a422-3dbd611c5141",
   "metadata": {},
   "outputs": [
    {
     "data": {
      "text/plain": [
       "{7: 'car', 3: 'boat', 5: 'airplane', 10: <object at 0x1c6a1f7fea0>}"
      ]
     },
     "execution_count": 15,
     "metadata": {},
     "output_type": "execute_result"
    }
   ],
   "source": [
    "d"
   ]
  },
  {
   "cell_type": "code",
   "execution_count": 16,
   "id": "0f9e2e37-3f1a-49bd-8343-b7cdfcdb8e36",
   "metadata": {},
   "outputs": [
    {
     "name": "stdout",
     "output_type": "stream",
     "text": [
      "the key is not mapped\n"
     ]
    }
   ],
   "source": [
    "initial_practice(d, 12, 'X wing')"
   ]
  },
  {
   "cell_type": "code",
   "execution_count": 17,
   "id": "66d39faf-4de3-431a-bae4-526be4f4f0dd",
   "metadata": {},
   "outputs": [
    {
     "name": "stdout",
     "output_type": "stream",
     "text": [
      "The value for 7 is car\n"
     ]
    }
   ],
   "source": [
    "initial_practice(d, 7,'X wing')"
   ]
  },
  {
   "cell_type": "code",
   "execution_count": 18,
   "id": "be2b06d3-a278-41a3-a082-92ed7270ea2e",
   "metadata": {},
   "outputs": [],
   "source": [
    "def has_entry_eafp(dictionary, key, value):\n",
    "    \"\"\"\n",
    "    Tell if a dictionary maps the given key to the given value.\n",
    "\n",
    "    This implementation uses EAFP, catching KeyError.\n",
    "    \"\"\"\n",
    "    try: \n",
    "        return dictionary[key] == value\n",
    "    except KeyError:\n",
    "        return False"
   ]
  },
  {
   "cell_type": "code",
   "execution_count": 19,
   "id": "412d8d16-4de7-4148-a3d1-892bd356acda",
   "metadata": {},
   "outputs": [
    {
     "data": {
      "text/plain": [
       "{7: 'car', 3: 'boat', 5: 'airplane', 10: <object at 0x1c6a1f7fea0>}"
      ]
     },
     "execution_count": 19,
     "metadata": {},
     "output_type": "execute_result"
    }
   ],
   "source": [
    "d"
   ]
  },
  {
   "cell_type": "code",
   "execution_count": 20,
   "id": "15a19fde-6f5c-4518-ae03-9942213dfcdf",
   "metadata": {},
   "outputs": [
    {
     "data": {
      "text/plain": [
       "False"
      ]
     },
     "execution_count": 20,
     "metadata": {},
     "output_type": "execute_result"
    }
   ],
   "source": [
    "has_entry_eafp(d, 12, 'X wing')"
   ]
  },
  {
   "cell_type": "code",
   "execution_count": 21,
   "id": "145b1c42-bb34-42bf-8281-6bb1421a8cb6",
   "metadata": {},
   "outputs": [
    {
     "data": {
      "text/plain": [
       "True"
      ]
     },
     "execution_count": 21,
     "metadata": {},
     "output_type": "execute_result"
    }
   ],
   "source": [
    "has_entry_eafp(d, 7, 'car')"
   ]
  },
  {
   "cell_type": "code",
   "execution_count": 22,
   "id": "a50c8373-c276-4b8e-866a-78d10b755135",
   "metadata": {},
   "outputs": [
    {
     "data": {
      "text/plain": [
       "False"
      ]
     },
     "execution_count": 22,
     "metadata": {},
     "output_type": "execute_result"
    }
   ],
   "source": [
    "has_entry_eafp(d, 7, 'Tie Fighter')"
   ]
  },
  {
   "cell_type": "code",
   "execution_count": 23,
   "id": "2f595cd7-dfbb-4914-852d-06366e4cdb19",
   "metadata": {},
   "outputs": [],
   "source": [
    "def has_entry_lbyl(dictionary, key, value):\n",
    "    \"\"\"\n",
    "    Tell if a dictionary maps the given key to the given value.\n",
    "\n",
    "    This implementation uses LBYL, checking with the \"in\" operator.\n",
    "    \"\"\"\n",
    "    return (key in dictionary) and (dictionary[key] == value)"
   ]
  },
  {
   "cell_type": "code",
   "execution_count": 24,
   "id": "04157802-ab85-4506-acaf-082c493a03c8",
   "metadata": {},
   "outputs": [
    {
     "data": {
      "text/plain": [
       "False"
      ]
     },
     "execution_count": 24,
     "metadata": {},
     "output_type": "execute_result"
    }
   ],
   "source": [
    "has_entry_lbyl(d, 12, 'X wing')"
   ]
  },
  {
   "cell_type": "code",
   "execution_count": 25,
   "id": "be50469f-0d13-4749-94bb-a3d4b1047b13",
   "metadata": {},
   "outputs": [
    {
     "data": {
      "text/plain": [
       "True"
      ]
     },
     "execution_count": 25,
     "metadata": {},
     "output_type": "execute_result"
    }
   ],
   "source": [
    "has_entry_lbyl(d, 7, 'car')"
   ]
  },
  {
   "cell_type": "code",
   "execution_count": 26,
   "id": "3aa6cbbc-9ff2-44c3-8a72-c3c9ef5c06e6",
   "metadata": {},
   "outputs": [
    {
     "data": {
      "text/plain": [
       "False"
      ]
     },
     "execution_count": 26,
     "metadata": {},
     "output_type": "execute_result"
    }
   ],
   "source": [
    "has_entry_lbyl(d, 7, 'Tie')"
   ]
  },
  {
   "cell_type": "code",
   "execution_count": 27,
   "id": "e69a6bec-c8e4-48d0-b63b-edf5f56e7086",
   "metadata": {},
   "outputs": [],
   "source": [
    "def has_entry_get(dictionary, key, value):\n",
    "    \"\"\"\n",
    "    Tell if a dictionary maps the given key to the given value.\n",
    "\n",
    "    This implementation uses the get method (in a safe way).\n",
    "    \"\"\"\n",
    "    o = object()\n",
    "    return dictionary.get(key, o) == value"
   ]
  },
  {
   "cell_type": "code",
   "execution_count": 28,
   "id": "8fd7ae13-cad6-4d27-9c12-976cb7e819b5",
   "metadata": {},
   "outputs": [
    {
     "data": {
      "text/plain": [
       "False"
      ]
     },
     "execution_count": 28,
     "metadata": {},
     "output_type": "execute_result"
    }
   ],
   "source": [
    "has_entry_get(d, 12, 'X wing')"
   ]
  },
  {
   "cell_type": "code",
   "execution_count": 29,
   "id": "d095d2bd-22ba-4431-8377-e6a58579635a",
   "metadata": {},
   "outputs": [
    {
     "data": {
      "text/plain": [
       "True"
      ]
     },
     "execution_count": 29,
     "metadata": {},
     "output_type": "execute_result"
    }
   ],
   "source": [
    "has_entry_get(d, 7, 'car')"
   ]
  },
  {
   "cell_type": "code",
   "execution_count": 30,
   "id": "d9d80c9a-5934-463e-a82c-fdd2f9c3265f",
   "metadata": {},
   "outputs": [
    {
     "data": {
      "text/plain": [
       "False"
      ]
     },
     "execution_count": 30,
     "metadata": {},
     "output_type": "execute_result"
    }
   ],
   "source": [
    "has_entry_get(d, 7, 'Tie')"
   ]
  },
  {
   "cell_type": "code",
   "execution_count": 31,
   "id": "bb8bdf27-e917-4fe7-94e8-ac13db254402",
   "metadata": {},
   "outputs": [
    {
     "data": {
      "text/plain": [
       "False"
      ]
     },
     "execution_count": 31,
     "metadata": {},
     "output_type": "execute_result"
    }
   ],
   "source": [
    "has_entry_get(d, 10, object())"
   ]
  },
  {
   "cell_type": "code",
   "execution_count": 32,
   "id": "c4a8f703-7d7b-4c83-ac08-c2f726be8d0e",
   "metadata": {},
   "outputs": [
    {
     "data": {
      "text/plain": [
       "True"
      ]
     },
     "execution_count": 32,
     "metadata": {},
     "output_type": "execute_result"
    }
   ],
   "source": [
    "has_entry_get(d, 10, d[10])"
   ]
  },
  {
   "cell_type": "code",
   "execution_count": 33,
   "id": "1804c8b1-d23d-4dd8-b3c6-708f3411f137",
   "metadata": {},
   "outputs": [],
   "source": [
    "d[12] = 'Tie Fighter' "
   ]
  },
  {
   "cell_type": "code",
   "execution_count": 34,
   "id": "13859c7b-bcac-4034-821c-d14cf1371854",
   "metadata": {},
   "outputs": [
    {
     "data": {
      "text/plain": [
       "{7: 'car',\n",
       " 3: 'boat',\n",
       " 5: 'airplane',\n",
       " 10: <object at 0x1c6a1f7fea0>,\n",
       " 12: 'Tie Fighter'}"
      ]
     },
     "execution_count": 34,
     "metadata": {},
     "output_type": "execute_result"
    }
   ],
   "source": [
    "d"
   ]
  },
  {
   "cell_type": "markdown",
   "id": "25bbae88-4212-4340-bfa2-d2e3bc36dcfe",
   "metadata": {},
   "source": [
    "## 2-argument forms of `next` and `iter`\n",
    "\n",
    "Calling `next` with a second argument causes that argument to be returned instead of propagating `StopIteration` to the caller:"
   ]
  },
  {
   "cell_type": "code",
   "execution_count": 35,
   "id": "4d586a62-517b-4b11-97af-f27e6ee17cba",
   "metadata": {},
   "outputs": [
    {
     "name": "stdout",
     "output_type": "stream",
     "text": [
      "Help on built-in function next in module builtins:\n",
      "\n",
      "next(...)\n",
      "    next(iterator[, default])\n",
      "    \n",
      "    Return the next item from the iterator. If default is given and the iterator\n",
      "    is exhausted, it is returned instead of raising StopIteration.\n",
      "\n"
     ]
    }
   ],
   "source": [
    "help(next)"
   ]
  },
  {
   "cell_type": "code",
   "execution_count": 36,
   "id": "38346453-2324-4a1f-8b42-f7460c1c494c",
   "metadata": {},
   "outputs": [],
   "source": [
    "it = iter([10, 20])"
   ]
  },
  {
   "cell_type": "code",
   "execution_count": 37,
   "id": "48fbf019-1f53-4c40-8bda-60e3959f5572",
   "metadata": {},
   "outputs": [
    {
     "data": {
      "text/plain": [
       "10"
      ]
     },
     "execution_count": 37,
     "metadata": {},
     "output_type": "execute_result"
    }
   ],
   "source": [
    "next(it, 'Good bye!')"
   ]
  },
  {
   "cell_type": "code",
   "execution_count": 38,
   "id": "1a28b5a1-ddae-458f-9702-12681f9abd19",
   "metadata": {},
   "outputs": [
    {
     "data": {
      "text/plain": [
       "20"
      ]
     },
     "execution_count": 38,
     "metadata": {},
     "output_type": "execute_result"
    }
   ],
   "source": [
    "next(it, 'Good bye!')"
   ]
  },
  {
   "cell_type": "code",
   "execution_count": 39,
   "id": "41b290c6-e486-4258-b48c-7954888a6a89",
   "metadata": {},
   "outputs": [
    {
     "data": {
      "text/plain": [
       "'Good bye!'"
      ]
     },
     "execution_count": 39,
     "metadata": {},
     "output_type": "execute_result"
    }
   ],
   "source": [
    "next(it, 'Good bye!')"
   ]
  },
  {
   "cell_type": "markdown",
   "id": "5aee71a4-1caf-40d8-b905-bdc4001ba12d",
   "metadata": {},
   "source": [
    "This is sometimes useful. **The usual considerations, regarding the semipredicate problem, that apply to `dict.get`, apply to calling `next` with two arguments.** Personally, I use two-argument `next` less often than I use `dict.get`, and I don&rsquo;t use either one regularly.\n",
    "\n",
    "The two-argument `next` is a little bit unusual&mdash;and different from `dict.get`&mdash;because calling `next` with two arguments is very different from calling it with one argument, *no matter what second argument you pass*.\n",
    "\n",
    "- Calling `dict.get` with no second argument is like calling it with `None`.\n",
    "\n",
    "- Calling `next` with no second argument is not like calling it with any value as the second argument. When called with one argument, `next` always propagates `StopIteration` to the caller if the iterator has run out. But calling it with two arguments *never* does that&mdash;it returns the second argument instead.\n",
    "\n",
    "What&rsquo;s going on here is that:\n",
    "\n",
    "- The usual, one-argument form of `next` behaves in a manner analogous to *subscripting* a `dict`&mdash;when there is no value to be returned, calling `next` with one argument raises `StopIteration`, much as subscripting a `dict` raises `KeyError`.\n",
    "\n",
    "- The less commonly used two-argument form of `next` behaves in a manner analogous to `dict.get` with an explicit second argument&mdash;when there is no value to be returned, calling `next` with two arguments returns the second argument, just as  calling `dict.get` returns its second argument."
   ]
  },
  {
   "cell_type": "markdown",
   "id": "d3389389-1d52-482b-b82f-c54fff5bbfd5",
   "metadata": {},
   "source": [
    "`iter` can also be called with two arguments, which is totally different from calling it with one.\n",
    "\n",
    "- Calling it with one argument returns an iterator to the iterable passed as the argument.\n",
    "\n",
    "- Calling it with two arguments returns an iterator that repeatedly calls the first argument&mdash;which is expected to be a function or otherwise callable&mdash;and yields the values returned, until the value returned is equal to the second argument."
   ]
  },
  {
   "cell_type": "code",
   "execution_count": 40,
   "id": "94a7f6ee-516c-4fa8-9a1f-580330d2432f",
   "metadata": {},
   "outputs": [
    {
     "name": "stdout",
     "output_type": "stream",
     "text": [
      "Help on built-in function iter in module builtins:\n",
      "\n",
      "iter(...)\n",
      "    iter(iterable) -> iterator\n",
      "    iter(callable, sentinel) -> iterator\n",
      "    \n",
      "    Get an iterator from an object.  In the first form, the argument must\n",
      "    supply its own iterator, or be a sequence.\n",
      "    In the second form, the callable is called until it returns the sentinel.\n",
      "\n"
     ]
    }
   ],
   "source": [
    "help(iter)"
   ]
  },
  {
   "cell_type": "markdown",
   "id": "7ca752ca-5551-4a5a-b3b6-69c417bb9f7f",
   "metadata": {},
   "source": [
    "The two-argument form of `iter` is rarely used, but it can be helpful in some situations."
   ]
  },
  {
   "cell_type": "code",
   "execution_count": 41,
   "id": "9b45465c-d254-4b15-ab9c-c1e58547eef6",
   "metadata": {},
   "outputs": [
    {
     "data": {
      "text/plain": [
       "<callable_iterator at 0x1c6a36af820>"
      ]
     },
     "execution_count": 41,
     "metadata": {},
     "output_type": "execute_result"
    }
   ],
   "source": [
    "a = ['ham', 'spam', 'eggs', 'foo', 'bar', 'baz', 'foobar', 'quux']\n",
    "it = iter(a.pop, 'eggs')\n",
    "it"
   ]
  },
  {
   "cell_type": "markdown",
   "id": "65d4e1b6-7740-4e2b-bd91-815215f2770a",
   "metadata": {},
   "source": [
    "Notice the type&mdash;`callable_iterator`:\n",
    "\n",
    "- The type of iterator `iter` returns when called with one argument is determined by what type of thing is being iterated, and the logic for doing so is supplied by that type.\n",
    "\n",
    "- But when called with two arguments, `iter` synthesizes an iterator of type `callable_iterator`."
   ]
  },
  {
   "cell_type": "code",
   "execution_count": 42,
   "id": "ee911968-43a3-462c-81fb-a513d89a7c41",
   "metadata": {},
   "outputs": [
    {
     "data": {
      "text/plain": [
       "'quux'"
      ]
     },
     "execution_count": 42,
     "metadata": {},
     "output_type": "execute_result"
    }
   ],
   "source": [
    "next(it)"
   ]
  },
  {
   "cell_type": "code",
   "execution_count": 43,
   "id": "dff978ea-2b2f-400f-9df6-eede62f85c94",
   "metadata": {},
   "outputs": [
    {
     "data": {
      "text/plain": [
       "['ham', 'spam', 'eggs', 'foo', 'bar', 'baz', 'foobar']"
      ]
     },
     "execution_count": 43,
     "metadata": {},
     "output_type": "execute_result"
    }
   ],
   "source": [
    "a  # a.pop has been called once so far."
   ]
  },
  {
   "cell_type": "code",
   "execution_count": 44,
   "id": "cfff29b4-80f8-49c9-b9de-f9ff3ccedb27",
   "metadata": {},
   "outputs": [
    {
     "data": {
      "text/plain": [
       "['foobar', 'baz', 'bar', 'foo']"
      ]
     },
     "execution_count": 44,
     "metadata": {},
     "output_type": "execute_result"
    }
   ],
   "source": [
    "list(it)"
   ]
  },
  {
   "cell_type": "code",
   "execution_count": 45,
   "id": "2fc392fc-27e2-4ed1-9858-a45d4293493d",
   "metadata": {},
   "outputs": [
    {
     "data": {
      "text/plain": [
       "['ham', 'spam']"
      ]
     },
     "execution_count": 45,
     "metadata": {},
     "output_type": "execute_result"
    }
   ],
   "source": [
    "a"
   ]
  },
  {
   "cell_type": "markdown",
   "id": "a279e9cb-352e-4654-ad43-70f8daaaa2fa",
   "metadata": {},
   "source": [
    "There is a conceptual connection between two-argument `next` and two-argument `iter`&mdash;they both involve end sentinels. **But they need not be used together and there is no special reason to use them together.** Whether one calls `iter` with one argument or two typically has no bearing on whether or not one calls `next` on the returned iterator with a second argument.\n",
    "\n",
    "The two-argument form of `iter` also suffers from the semipredicate problem. Do you see how?"
   ]
  },
  {
   "cell_type": "markdown",
   "id": "ddd0eff7-78ee-4bd1-a126-cde7ed0f1277",
   "metadata": {},
   "source": [
    "## Semipredicate problem with `StopIteration`\n",
    "\n",
    "*Why `StopIteration` turns into `RuntimeError` when it propagates out of a generator.*"
   ]
  },
  {
   "cell_type": "markdown",
   "id": "7804081c-278f-4820-b19a-86a39485c92b",
   "metadata": {},
   "source": [
    "As a simple example, consider the situation of a singleton generator that yields the first element of an iterable:"
   ]
  },
  {
   "cell_type": "code",
   "execution_count": 46,
   "id": "376542e5-9bdb-41fb-910f-769b71c974f9",
   "metadata": {},
   "outputs": [],
   "source": [
    "def first(iterable):\n",
    "    \"\"\"Return an iterator to exactly one element, the first one of iterable.\"\"\"\n",
    "    yield next(iter(iterable))"
   ]
  },
  {
   "cell_type": "markdown",
   "id": "48c206b2-8520-43ba-a23f-9d246e689b13",
   "metadata": {},
   "source": [
    "This works fine on all kinds of iterables. It works fine on sequences:"
   ]
  },
  {
   "cell_type": "code",
   "execution_count": 47,
   "id": "e432db3d-5382-451e-b434-9a1b174857e0",
   "metadata": {},
   "outputs": [
    {
     "data": {
      "text/plain": [
       "<generator object first at 0x000001C6A46A4120>"
      ]
     },
     "execution_count": 47,
     "metadata": {},
     "output_type": "execute_result"
    }
   ],
   "source": [
    "it = first([10, 20, 30])\n",
    "it"
   ]
  },
  {
   "cell_type": "code",
   "execution_count": 48,
   "id": "3597dfcc-76e1-4aad-abb1-53f17e84f7ae",
   "metadata": {},
   "outputs": [
    {
     "data": {
      "text/plain": [
       "[10]"
      ]
     },
     "execution_count": 48,
     "metadata": {},
     "output_type": "execute_result"
    }
   ],
   "source": [
    "list(it)"
   ]
  },
  {
   "cell_type": "markdown",
   "id": "70925d51-7c51-4fb3-9a6e-be6f18d6008c",
   "metadata": {},
   "source": [
    "It also works on iterators, such as the generator object produced by evaluating a generator expression (since calling `iter` on an iterator returns an equivalent iterator, nearly always the very same iterator object):"
   ]
  },
  {
   "cell_type": "code",
   "execution_count": 49,
   "id": "a7083425-e420-44fb-9b75-a8fee3baa335",
   "metadata": {},
   "outputs": [
    {
     "data": {
      "text/plain": [
       "<generator object first at 0x000001C6A46A4430>"
      ]
     },
     "execution_count": 49,
     "metadata": {},
     "output_type": "execute_result"
    }
   ],
   "source": [
    "it = first(word.upper() for word in ['foo', 'bar', 'baz'])\n",
    "it"
   ]
  },
  {
   "cell_type": "code",
   "execution_count": 50,
   "id": "0a1e0bb5-6c17-4814-87a5-eb98bdeb33c2",
   "metadata": {},
   "outputs": [
    {
     "data": {
      "text/plain": [
       "['FOO']"
      ]
     },
     "execution_count": 50,
     "metadata": {},
     "output_type": "execute_result"
    }
   ],
   "source": [
    "list(it)"
   ]
  },
  {
   "cell_type": "markdown",
   "id": "44dc72f6-7625-4fb2-9e19-dd2f47c0c477",
   "metadata": {},
   "source": [
    "But it raises `RuntimeError` when it attempts to process an empty iterable:"
   ]
  },
  {
   "cell_type": "code",
   "execution_count": 51,
   "id": "ee0389ed-d32a-47f1-9c81-5eee7a260fd0",
   "metadata": {},
   "outputs": [
    {
     "data": {
      "text/plain": [
       "<generator object first at 0x000001C6A46A4510>"
      ]
     },
     "execution_count": 51,
     "metadata": {},
     "output_type": "execute_result"
    }
   ],
   "source": [
    "it = first([])\n",
    "it"
   ]
  },
  {
   "cell_type": "code",
   "execution_count": 52,
   "id": "2f02ab69-e9ab-4ff0-bd12-fefde244ef84",
   "metadata": {
    "tags": [
     "raises-exception"
    ]
   },
   "outputs": [
    {
     "ename": "RuntimeError",
     "evalue": "generator raised StopIteration",
     "output_type": "error",
     "traceback": [
      "\u001b[1;31m---------------------------------------------------------------------------\u001b[0m",
      "\u001b[1;31mStopIteration\u001b[0m                             Traceback (most recent call last)",
      "Input \u001b[1;32mIn [46]\u001b[0m, in \u001b[0;36mfirst\u001b[1;34m(iterable)\u001b[0m\n\u001b[0;32m      2\u001b[0m \u001b[38;5;124;03m\"\"\"Return an iterator to exactly one element, the first one of iterable.\"\"\"\u001b[39;00m\n\u001b[1;32m----> 3\u001b[0m \u001b[38;5;28;01myield\u001b[39;00m \u001b[38;5;28;43mnext\u001b[39;49m\u001b[43m(\u001b[49m\u001b[38;5;28;43miter\u001b[39;49m\u001b[43m(\u001b[49m\u001b[43miterable\u001b[49m\u001b[43m)\u001b[49m\u001b[43m)\u001b[49m\n",
      "\u001b[1;31mStopIteration\u001b[0m: ",
      "\nThe above exception was the direct cause of the following exception:\n",
      "\u001b[1;31mRuntimeError\u001b[0m                              Traceback (most recent call last)",
      "Input \u001b[1;32mIn [52]\u001b[0m, in \u001b[0;36m<cell line: 1>\u001b[1;34m()\u001b[0m\n\u001b[1;32m----> 1\u001b[0m \u001b[38;5;28;43mlist\u001b[39;49m\u001b[43m(\u001b[49m\u001b[43mit\u001b[49m\u001b[43m)\u001b[49m\n",
      "\u001b[1;31mRuntimeError\u001b[0m: generator raised StopIteration"
     ]
    }
   ],
   "source": [
    "list(it)"
   ]
  },
  {
   "cell_type": "markdown",
   "id": "197ef524-b75c-4ef0-9b30-ca754080c67c",
   "metadata": {},
   "source": [
    "Although it is possible to catch `RuntimeError`, you shouldn't (unless, for example, you're building a REPL that implements custom logic for showing even fatal errors to the user)."
   ]
  },
  {
   "cell_type": "markdown",
   "id": "d373c933-e142-481c-8e50-d5cd70d16974",
   "metadata": {},
   "source": [
    "What's happening here is that **`StopIteration` is prohibited from propagating outside of a generator**. When a `StopIteration` exception tries to do so, it is turned into a `RuntimeError`."
   ]
  },
  {
   "cell_type": "markdown",
   "id": "6ea8f3bb-3c13-4b45-acc6-94011d05ab12",
   "metadata": {},
   "source": [
    "This is with good reason. `first` is supposed to always be able to generate exactly one element&mdash;if it can't, that should be an error. But even in the absence of any error, `StopIteration` is the way iterators (including generator objects) indicate that they are exhausted."
   ]
  },
  {
   "cell_type": "markdown",
   "id": "948868fc-9cd7-4965-b6a7-2bf43382f3d7",
   "metadata": {},
   "source": [
    "Consider the following code:"
   ]
  },
  {
   "cell_type": "code",
   "execution_count": 53,
   "id": "9a3cf461-dd8f-4571-a0d6-399fd894f475",
   "metadata": {},
   "outputs": [],
   "source": [
    "def generate(early_return):\n",
    "    yield 'A'\n",
    "    if early_return:\n",
    "        return\n",
    "    yield 'B'"
   ]
  },
  {
   "cell_type": "code",
   "execution_count": 54,
   "id": "57a33cdb-4727-43e0-95ac-d405faefcf48",
   "metadata": {},
   "outputs": [
    {
     "data": {
      "text/plain": [
       "<generator object generate at 0x000001C6A4F9F220>"
      ]
     },
     "execution_count": 54,
     "metadata": {},
     "output_type": "execute_result"
    }
   ],
   "source": [
    "it = generate(False)\n",
    "it"
   ]
  },
  {
   "cell_type": "code",
   "execution_count": 55,
   "id": "496af20a-7b25-4ee3-85a3-dd37e3494c46",
   "metadata": {},
   "outputs": [
    {
     "data": {
      "text/plain": [
       "['A', 'B']"
      ]
     },
     "execution_count": 55,
     "metadata": {},
     "output_type": "execute_result"
    }
   ],
   "source": [
    "list(it)"
   ]
  },
  {
   "cell_type": "code",
   "execution_count": 56,
   "id": "0c79359f-3d6f-4cbe-b91d-706382557e69",
   "metadata": {},
   "outputs": [
    {
     "data": {
      "text/plain": [
       "<generator object generate at 0x000001C6A4F9F990>"
      ]
     },
     "execution_count": 56,
     "metadata": {},
     "output_type": "execute_result"
    }
   ],
   "source": [
    "it = generate(True)\n",
    "it"
   ]
  },
  {
   "cell_type": "code",
   "execution_count": 57,
   "id": "9afd5c0d-1d01-4d1d-831b-f429f38de372",
   "metadata": {},
   "outputs": [
    {
     "data": {
      "text/plain": [
       "['A']"
      ]
     },
     "execution_count": 57,
     "metadata": {},
     "output_type": "execute_result"
    }
   ],
   "source": [
    "list(it)"
   ]
  },
  {
   "cell_type": "markdown",
   "id": "a890e412-5864-4d6d-ab59-225cda4303c1",
   "metadata": {},
   "source": [
    "When `it` is iterated over to produce a list, the `list` constructor knows that all elements have been consumed when it calls `next(it)` and, rather than a value being returned, `StopIteration` is raised:"
   ]
  },
  {
   "cell_type": "code",
   "execution_count": 58,
   "id": "fbbb90ec-c858-4277-98a5-611e31003609",
   "metadata": {},
   "outputs": [],
   "source": [
    "it = generate(True)"
   ]
  },
  {
   "cell_type": "code",
   "execution_count": 59,
   "id": "dd0fc110-f6f5-49df-80a4-cced8fbb3ded",
   "metadata": {},
   "outputs": [
    {
     "data": {
      "text/plain": [
       "'A'"
      ]
     },
     "execution_count": 59,
     "metadata": {},
     "output_type": "execute_result"
    }
   ],
   "source": [
    "next(it)"
   ]
  },
  {
   "cell_type": "code",
   "execution_count": 60,
   "id": "80cf0866-bda5-46f6-a0fc-e1fdf94d57d7",
   "metadata": {
    "tags": [
     "raises-exception"
    ]
   },
   "outputs": [
    {
     "ename": "StopIteration",
     "evalue": "",
     "output_type": "error",
     "traceback": [
      "\u001b[1;31m---------------------------------------------------------------------------\u001b[0m",
      "\u001b[1;31mStopIteration\u001b[0m                             Traceback (most recent call last)",
      "Input \u001b[1;32mIn [60]\u001b[0m, in \u001b[0;36m<cell line: 1>\u001b[1;34m()\u001b[0m\n\u001b[1;32m----> 1\u001b[0m \u001b[38;5;28;43mnext\u001b[39;49m\u001b[43m(\u001b[49m\u001b[43mit\u001b[49m\u001b[43m)\u001b[49m\n",
      "\u001b[1;31mStopIteration\u001b[0m: "
     ]
    }
   ],
   "source": [
    "next(it)"
   ]
  },
  {
   "cell_type": "markdown",
   "id": "a0725c06-8cea-4bc9-8b73-52284b518830",
   "metadata": {},
   "source": [
    "Nonetheless, you may not raise `StopIteration` in a generator, unless you are going to catch it before it propagates out of the generator. Consider this broken attempt to implement `generate` by raising `StopIteration` directly rather than returning:"
   ]
  },
  {
   "cell_type": "code",
   "execution_count": 61,
   "id": "e9b2bd40-d095-40cb-b220-3e64db266245",
   "metadata": {},
   "outputs": [],
   "source": [
    "def generate_broken(early_return):\n",
    "    yield 'A'\n",
    "    if early_return:\n",
    "        raise StopIteration()  # Bad.\n",
    "    yield 'B'"
   ]
  },
  {
   "cell_type": "code",
   "execution_count": 62,
   "id": "52ad85bc-0709-420d-8a7e-6f3b0c3c66d5",
   "metadata": {},
   "outputs": [
    {
     "data": {
      "text/plain": [
       "['A', 'B']"
      ]
     },
     "execution_count": 62,
     "metadata": {},
     "output_type": "execute_result"
    }
   ],
   "source": [
    "list(generate_broken(False))  # Fine, the raise statement is never run."
   ]
  },
  {
   "cell_type": "code",
   "execution_count": 63,
   "id": "2678996e-25f0-4a7c-85df-f2090ebb0b65",
   "metadata": {
    "tags": [
     "raises-exception"
    ]
   },
   "outputs": [
    {
     "ename": "RuntimeError",
     "evalue": "generator raised StopIteration",
     "output_type": "error",
     "traceback": [
      "\u001b[1;31m---------------------------------------------------------------------------\u001b[0m",
      "\u001b[1;31mStopIteration\u001b[0m                             Traceback (most recent call last)",
      "Input \u001b[1;32mIn [61]\u001b[0m, in \u001b[0;36mgenerate_broken\u001b[1;34m(early_return)\u001b[0m\n\u001b[0;32m      3\u001b[0m \u001b[38;5;28;01mif\u001b[39;00m early_return:\n\u001b[1;32m----> 4\u001b[0m     \u001b[38;5;28;01mraise\u001b[39;00m \u001b[38;5;167;01mStopIteration\u001b[39;00m()  \u001b[38;5;66;03m# Bad.\u001b[39;00m\n\u001b[0;32m      5\u001b[0m \u001b[38;5;28;01myield\u001b[39;00m \u001b[38;5;124m'\u001b[39m\u001b[38;5;124mB\u001b[39m\u001b[38;5;124m'\u001b[39m\n",
      "\u001b[1;31mStopIteration\u001b[0m: ",
      "\nThe above exception was the direct cause of the following exception:\n",
      "\u001b[1;31mRuntimeError\u001b[0m                              Traceback (most recent call last)",
      "Input \u001b[1;32mIn [63]\u001b[0m, in \u001b[0;36m<cell line: 1>\u001b[1;34m()\u001b[0m\n\u001b[1;32m----> 1\u001b[0m \u001b[38;5;28;43mlist\u001b[39;49m\u001b[43m(\u001b[49m\u001b[43mgenerate_broken\u001b[49m\u001b[43m(\u001b[49m\u001b[38;5;28;43;01mTrue\u001b[39;49;00m\u001b[43m)\u001b[49m\u001b[43m)\u001b[49m\n",
      "\u001b[1;31mRuntimeError\u001b[0m: generator raised StopIteration"
     ]
    }
   ],
   "source": [
    "list(generate_broken(True))  # Not fine."
   ]
  },
  {
   "cell_type": "markdown",
   "id": "48039876-30d5-45ee-bccd-7f54b8658ac3",
   "metadata": {},
   "source": [
    "This is because, most of the times `StopIteration` would be raised but not handled in a generator, it would not be due to an explicit, deliberate raising of it (as above), but instead due to `next` being called (directly or indirectly) on an iterator that may have been expected to be able to yield another value. The intent of the programmer is ambiguous in this situation: sometimes, the programmer may intend that `StopIteration` be passed to the caller, while other times, the programmer may not intend this situation to occur at all, or may wish that it be treated as an error."
   ]
  },
  {
   "cell_type": "markdown",
   "id": "eca8fef3-3965-4d7f-92de-3a27c9bef053",
   "metadata": {},
   "source": [
    "`StopIteration` turning into `RuntimeError` when propagating out of a generator is a rule of the Python language: you don't have to write code to make that happen, nor can you prevent it. But other kinds of iterators (that is, besides generators) do not automatically turn `StopIteration` into `RuntimeError`. Sometimes this makes them brittle. For example, suppose we have an iterable of iterators and we want to map it to the first items obtained from each of these iterators:"
   ]
  },
  {
   "cell_type": "code",
   "execution_count": 64,
   "id": "da34acec-cf85-4759-a6ab-46c61905bd1f",
   "metadata": {},
   "outputs": [
    {
     "data": {
      "text/plain": [
       "<map at 0x1c6a4777fd0>"
      ]
     },
     "execution_count": 64,
     "metadata": {},
     "output_type": "execute_result"
    }
   ],
   "source": [
    "it1 = iter([10, 20, 30])\n",
    "it2 = iter([])\n",
    "it3 = iter([11, 22])\n",
    "firsts = map(next, [it1, it2, it3])\n",
    "firsts"
   ]
  },
  {
   "cell_type": "markdown",
   "id": "940e294d-1139-411a-bb9d-0787c610864c",
   "metadata": {},
   "source": [
    "Initially, this `map` object seems to work okay. Calling `next` on `firsts` causes `firsts` to call `next` on `it1` and return the result:"
   ]
  },
  {
   "cell_type": "code",
   "execution_count": 65,
   "id": "3fdd63aa-27e1-4049-85af-e4fdd3f251ef",
   "metadata": {},
   "outputs": [
    {
     "data": {
      "text/plain": [
       "10"
      ]
     },
     "execution_count": 65,
     "metadata": {},
     "output_type": "execute_result"
    }
   ],
   "source": [
    "next(firsts)"
   ]
  },
  {
   "cell_type": "markdown",
   "id": "67ecbd04-721e-40d9-afba-685fc3bcf99c",
   "metadata": {},
   "source": [
    "Calling `next` on `firsts` the second time causes `firsts` to call `next` on `it2`, but that `next` call cannot be completed. It raises `StopIteration`. Since `firsts` doesn't catch that exception, and since it is not automatically converted to `RuntimeError` because `firsts` is a `map` (not a generator), it looks like `firsts` has itself been exhausted:"
   ]
  },
  {
   "cell_type": "code",
   "execution_count": 66,
   "id": "a0322fa1-dc4a-4f09-bb85-2c07b60a761d",
   "metadata": {
    "tags": [
     "raises-exception"
    ]
   },
   "outputs": [
    {
     "ename": "StopIteration",
     "evalue": "",
     "output_type": "error",
     "traceback": [
      "\u001b[1;31m---------------------------------------------------------------------------\u001b[0m",
      "\u001b[1;31mStopIteration\u001b[0m                             Traceback (most recent call last)",
      "Input \u001b[1;32mIn [66]\u001b[0m, in \u001b[0;36m<cell line: 1>\u001b[1;34m()\u001b[0m\n\u001b[1;32m----> 1\u001b[0m \u001b[38;5;28;43mnext\u001b[39;49m\u001b[43m(\u001b[49m\u001b[43mfirsts\u001b[49m\u001b[43m)\u001b[49m\n",
      "\u001b[1;31mStopIteration\u001b[0m: "
     ]
    }
   ],
   "source": [
    "next(firsts)"
   ]
  },
  {
   "cell_type": "markdown",
   "id": "8c19b8e2-2aee-4242-885c-db236f942451",
   "metadata": {},
   "source": [
    "That might be okay... except, `firsts` *hasn't* been exhausted. Calling `next` on `firsts` a third time causes it to call `next` on `it3`, which returns a value:"
   ]
  },
  {
   "cell_type": "code",
   "execution_count": 67,
   "id": "0d37d532-aa73-4624-af32-1fdb9ea67676",
   "metadata": {},
   "outputs": [
    {
     "data": {
      "text/plain": [
       "11"
      ]
     },
     "execution_count": 67,
     "metadata": {},
     "output_type": "execute_result"
    }
   ],
   "source": [
    "next(firsts)"
   ]
  },
  {
   "cell_type": "markdown",
   "id": "92f1978a-7a9b-4a08-b0ae-04c80c6cdd45",
   "metadata": {},
   "source": [
    "This is *very bad*, because when `next(firsts)` raises `StopIteration`, this was supposed to indicate unambiguously to us that `firsts` was exhausted. It is a requirement of iterator design in Python that, if calling `next` on an iterator object raises `StopIteration`, then immediately calling `next` on it again must again raise `StopIteration`. Yet the built-in `map` type violates this, due to the semipredicate problem of *which iterator `StopIteration` came from*. (When using `map`, you should take responsibility to ensure this will not happen.)"
   ]
  },
  {
   "cell_type": "markdown",
   "id": "88bce7c7-93a7-46de-9756-437280026463",
   "metadata": {},
   "source": [
    "#### **Exercise 1**\n",
    "\n",
    "`map` is important and useful. It maps lazily. But it is not the only way to map lazily, nor even the most commonly used.\n",
    "\n",
    "**(a)** A generator expression will do it, and that is the most common way. Write the code above (including copying the assignments to `it1`, `it2`, and `it3`, so they are new iterators) but use an appropriate generator expression in place of the call to `map`. Observe how, in your second call to `next`, the `StopIteration` is converted to a `RuntimeError`.\n",
    "\n",
    "**(b)** A generator function will do it. Write the code above (including copying the assignments to `it1`, `it2`, and `it3`, so they are new iterators) but, before assigning to `firsts`, write a generator function that does the mapping. Call that function, assigning the result to `firsts`. Observe how, just as with a generator expression, your second call to `next` gets a `RuntimeError`.\n",
    "\n",
    "If you can, I recommend doing both part (a) and part (b) without referring to anything else in this project. However, if you need a reminder about how to do mapping with a generator expression or a generator function, your `my_map` and `my_map_alt` functions in `gencomp1.py` demonstrate this. If you really need help, or if you want to check your solutions, you can check the code on this topic that we did in `gencomp2.ipynb` (it is at the end of that notebook, as of this writing)."
   ]
  },
  {
   "cell_type": "code",
   "execution_count": 68,
   "id": "f56d1913-8ab5-4394-8908-c41fc674d7f3",
   "metadata": {},
   "outputs": [
    {
     "data": {
      "text/plain": [
       "<generator object <genexpr> at 0x000001C6A519D3F0>"
      ]
     },
     "execution_count": 68,
     "metadata": {},
     "output_type": "execute_result"
    }
   ],
   "source": [
    "it1 = iter([10, 20, 30])\n",
    "it2 = iter([])\n",
    "it3 = iter([11, 22])\n",
    "\n",
    "firsts = (next(it) for it in [it1, it2, it3])\n",
    "firsts"
   ]
  },
  {
   "cell_type": "code",
   "execution_count": 69,
   "id": "6e3822a9-b7dd-4bc0-8d7d-334bec86a6a5",
   "metadata": {},
   "outputs": [
    {
     "data": {
      "text/plain": [
       "10"
      ]
     },
     "execution_count": 69,
     "metadata": {},
     "output_type": "execute_result"
    }
   ],
   "source": [
    "next(firsts)"
   ]
  },
  {
   "cell_type": "code",
   "execution_count": 70,
   "id": "85fa872c-8763-4f32-b30b-de866ec41d14",
   "metadata": {
    "tags": [
     "raises-exception"
    ]
   },
   "outputs": [
    {
     "ename": "RuntimeError",
     "evalue": "generator raised StopIteration",
     "output_type": "error",
     "traceback": [
      "\u001b[1;31m---------------------------------------------------------------------------\u001b[0m",
      "\u001b[1;31mStopIteration\u001b[0m                             Traceback (most recent call last)",
      "Input \u001b[1;32mIn [68]\u001b[0m, in \u001b[0;36m<genexpr>\u001b[1;34m(.0)\u001b[0m\n\u001b[0;32m      3\u001b[0m it3 \u001b[38;5;241m=\u001b[39m \u001b[38;5;28miter\u001b[39m([\u001b[38;5;241m11\u001b[39m, \u001b[38;5;241m22\u001b[39m])\n\u001b[1;32m----> 5\u001b[0m firsts \u001b[38;5;241m=\u001b[39m (\u001b[38;5;28;43mnext\u001b[39;49m\u001b[43m(\u001b[49m\u001b[43mit\u001b[49m\u001b[43m)\u001b[49m \u001b[38;5;28;01mfor\u001b[39;00m it \u001b[38;5;129;01min\u001b[39;00m [it1, it2, it3])\n\u001b[0;32m      6\u001b[0m firsts\n",
      "\u001b[1;31mStopIteration\u001b[0m: ",
      "\nThe above exception was the direct cause of the following exception:\n",
      "\u001b[1;31mRuntimeError\u001b[0m                              Traceback (most recent call last)",
      "Input \u001b[1;32mIn [70]\u001b[0m, in \u001b[0;36m<cell line: 1>\u001b[1;34m()\u001b[0m\n\u001b[1;32m----> 1\u001b[0m \u001b[38;5;28;43mnext\u001b[39;49m\u001b[43m(\u001b[49m\u001b[43mfirsts\u001b[49m\u001b[43m)\u001b[49m\n",
      "\u001b[1;31mRuntimeError\u001b[0m: generator raised StopIteration"
     ]
    }
   ],
   "source": [
    "next(firsts)"
   ]
  },
  {
   "cell_type": "code",
   "execution_count": 71,
   "id": "3407c664-c1d6-434c-8459-3f805ce8954b",
   "metadata": {},
   "outputs": [],
   "source": [
    "def gen_func(it1, it2, it3):\n",
    "    for it in [it1, it2, it3]: \n",
    "        yield next(it)"
   ]
  },
  {
   "cell_type": "code",
   "execution_count": 72,
   "id": "2d2a940c-8327-4c2e-94db-1a6b03231a73",
   "metadata": {},
   "outputs": [
    {
     "data": {
      "text/plain": [
       "<generator object gen_func at 0x000001C6A519D930>"
      ]
     },
     "execution_count": 72,
     "metadata": {},
     "output_type": "execute_result"
    }
   ],
   "source": [
    "it1 = iter([10, 20, 30])\n",
    "it2 = iter([])\n",
    "it3 = iter([11, 22])\n",
    "\n",
    "firsts = gen_func(it1, it2, it3)\n",
    "firsts"
   ]
  },
  {
   "cell_type": "code",
   "execution_count": 73,
   "id": "31db8d30-d7f4-4314-ae68-fccf421515bd",
   "metadata": {},
   "outputs": [
    {
     "data": {
      "text/plain": [
       "10"
      ]
     },
     "execution_count": 73,
     "metadata": {},
     "output_type": "execute_result"
    }
   ],
   "source": [
    "next(firsts)"
   ]
  },
  {
   "cell_type": "code",
   "execution_count": 74,
   "id": "97cc9909-d875-4ecf-9388-5b07601e530d",
   "metadata": {
    "tags": [
     "raises-exception"
    ]
   },
   "outputs": [
    {
     "ename": "RuntimeError",
     "evalue": "generator raised StopIteration",
     "output_type": "error",
     "traceback": [
      "\u001b[1;31m---------------------------------------------------------------------------\u001b[0m",
      "\u001b[1;31mStopIteration\u001b[0m                             Traceback (most recent call last)",
      "Input \u001b[1;32mIn [71]\u001b[0m, in \u001b[0;36mgen_func\u001b[1;34m(it1, it2, it3)\u001b[0m\n\u001b[0;32m      2\u001b[0m \u001b[38;5;28;01mfor\u001b[39;00m it \u001b[38;5;129;01min\u001b[39;00m [it1, it2, it3]: \n\u001b[1;32m----> 3\u001b[0m     \u001b[38;5;28;01myield\u001b[39;00m \u001b[38;5;28;43mnext\u001b[39;49m\u001b[43m(\u001b[49m\u001b[43mit\u001b[49m\u001b[43m)\u001b[49m\n",
      "\u001b[1;31mStopIteration\u001b[0m: ",
      "\nThe above exception was the direct cause of the following exception:\n",
      "\u001b[1;31mRuntimeError\u001b[0m                              Traceback (most recent call last)",
      "Input \u001b[1;32mIn [74]\u001b[0m, in \u001b[0;36m<cell line: 1>\u001b[1;34m()\u001b[0m\n\u001b[1;32m----> 1\u001b[0m \u001b[38;5;28;43mnext\u001b[39;49m\u001b[43m(\u001b[49m\u001b[43mfirsts\u001b[49m\u001b[43m)\u001b[49m\n",
      "\u001b[1;31mRuntimeError\u001b[0m: generator raised StopIteration"
     ]
    }
   ],
   "source": [
    "next(firsts)"
   ]
  },
  {
   "cell_type": "markdown",
   "id": "ca70d3f3-f828-456b-855a-ff7c43860f73",
   "metadata": {},
   "source": [
    "#### **Exercise 2**\n",
    "\n",
    "There's another place `StopIteration` is raised. For the purpose of this exercise, let's assume `map` iterates through its input iterable (above, this is `[it1, it2, it3]`) using a `for` loop. (Actually, `map` is implemented in C, so it is not using any Python language construct directly.) This involves calling `iter` on the iterator. `next` is then called on that iterator a total four times. The first three calls to `next` return values (`it1`, `it2`, and `it3`). The fourth raises `StopIteration`.\n",
    "\n",
    "**(a)** Given the above assumption that `map` uses a `for` loop, this `StopIteration` is always caught by `map` and can never make it to the caller. Why is that?\n",
    "\n",
    "**(b)** It is permitted to raise `StopIteration` from the body of a `for` loop. This is never confused with the `StopIteration` that the `for` loop catches after exhausting its iterator. Why is that? Why is there no semipredicate problem here?\n",
    "\n",
    "Parts (a) and (b) can be answered either separately or together, but to answer part (b), you should show code representing the general functionality of a `for` loop, in terms of a `while` loop and `try`-`except`. Feel free to write such code anew here (which I suggest), or to copy it from where you have written it before. Annotate it with comments that explain why the `for` loop's own logic can never catch a `StopIteration` raised in its body, and also why it can never *fail* to catch a `StopIteration` that is raised by the for loop's own inbuilt call to `next`. (Make sure your representation of how a `for` loop works is compatible both with iterator and non-iterator iterables, and with arbitrary flow-control statements in its body&mdash;but don't worry about accommodating an `else` clause on the loop itself.)"
   ]
  },
  {
   "cell_type": "code",
   "execution_count": 75,
   "id": "8452c143-8e5d-42d1-a51f-697363fa2662",
   "metadata": {
    "tags": [
     "raises-exception"
    ]
   },
   "outputs": [
    {
     "ename": "StopIteration",
     "evalue": "",
     "output_type": "error",
     "traceback": [
      "\u001b[1;31m---------------------------------------------------------------------------\u001b[0m",
      "\u001b[1;31mStopIteration\u001b[0m                             Traceback (most recent call last)",
      "Input \u001b[1;32mIn [75]\u001b[0m, in \u001b[0;36m<cell line: 10>\u001b[1;34m()\u001b[0m\n\u001b[0;32m      8\u001b[0m \u001b[38;5;28mnext\u001b[39m(firsts)\n\u001b[0;32m      9\u001b[0m \u001b[38;5;28mnext\u001b[39m(firsts)\n\u001b[1;32m---> 10\u001b[0m \u001b[38;5;28;43mnext\u001b[39;49m\u001b[43m(\u001b[49m\u001b[43mfirsts\u001b[49m\u001b[43m)\u001b[49m\n",
      "\u001b[1;31mStopIteration\u001b[0m: "
     ]
    }
   ],
   "source": [
    "# Code for context\n",
    "it1 = iter([10, 20, 30])\n",
    "it2 = iter([42])\n",
    "it3 = iter([11, 22])\n",
    "firsts = map(next, [it1, it2, it3])\n",
    "firsts\n",
    "next(firsts)\n",
    "next(firsts)\n",
    "next(firsts)\n",
    "next(firsts) # THIS raises StopIteration"
   ]
  },
  {
   "cell_type": "markdown",
   "id": "7c0036ba-a4c8-4bce-ad1f-940da4f8e64a",
   "metadata": {},
   "source": [
    "#### Answer to (a)\n",
    "\n",
    "That `StopIteration` is always caught and can never make it to the caller because it is internal to the implementation of the Python `for` loop. "
   ]
  },
  {
   "cell_type": "markdown",
   "id": "a6d0a2f8-4cef-4fee-837a-88dd94c3942c",
   "metadata": {},
   "source": [
    "#### Answer to (b)\n",
    "\n",
    "Yes, it is permitted to raise `StopIteration` from the body of a `for` loop. As stated in the question, this is because it can't be confused with the `StopIteration` that the `for` loop catches after exhausting its iterator. The reason there is no semipredicate problem here is that the `StopIteration` that the `for` loop catches is never **propagated** out of the for loop after caught. In other words, it is handled by the `for` loop's internal logic. The code below will demonstrate this. "
   ]
  },
  {
   "cell_type": "code",
   "execution_count": 76,
   "id": "8b44d9e1-f21c-4afc-9fea-110254b47c47",
   "metadata": {},
   "outputs": [],
   "source": [
    "def my_for_wrong(iterable, action): \n",
    "    it = iter(iterable)\n",
    "    try: \n",
    "        while True:\n",
    "            action(next(it))\n",
    "    except StopIteration: \n",
    "        return"
   ]
  },
  {
   "cell_type": "code",
   "execution_count": 77,
   "id": "ef0817fd-5dfc-4678-90c8-d6c5ed7469bd",
   "metadata": {},
   "outputs": [],
   "source": [
    "def act(x): \n",
    "    raise StopIteration\n",
    "my_for_wrong([1, 2, 3], act)"
   ]
  },
  {
   "cell_type": "code",
   "execution_count": 78,
   "id": "b6173ec2-6c9e-4af6-a631-09c96295e8a5",
   "metadata": {
    "tags": [
     "raises-exception"
    ]
   },
   "outputs": [
    {
     "ename": "StopIteration",
     "evalue": "",
     "output_type": "error",
     "traceback": [
      "\u001b[1;31m---------------------------------------------------------------------------\u001b[0m",
      "\u001b[1;31mStopIteration\u001b[0m                             Traceback (most recent call last)",
      "Input \u001b[1;32mIn [78]\u001b[0m, in \u001b[0;36m<cell line: 1>\u001b[1;34m()\u001b[0m\n\u001b[0;32m      1\u001b[0m \u001b[38;5;28;01mfor\u001b[39;00m element \u001b[38;5;129;01min\u001b[39;00m [\u001b[38;5;241m1\u001b[39m, \u001b[38;5;241m2\u001b[39m, \u001b[38;5;241m3\u001b[39m]: \n\u001b[1;32m----> 2\u001b[0m     \u001b[38;5;28;01mraise\u001b[39;00m \u001b[38;5;167;01mStopIteration\u001b[39;00m\n",
      "\u001b[1;31mStopIteration\u001b[0m: "
     ]
    }
   ],
   "source": [
    "for element in [1, 2, 3]: \n",
    "    raise StopIteration"
   ]
  },
  {
   "cell_type": "code",
   "execution_count": 85,
   "id": "6f8d5405-4da9-4a82-a429-caf542d22929",
   "metadata": {},
   "outputs": [],
   "source": [
    "def my_for_right(iterable, action): \n",
    "    it = iter(iterable)\n",
    "    while True:\n",
    "        try:\n",
    "            # StopIteration will always be caught because next(it) is the only code being tried. \n",
    "            element = next(it)\n",
    "        except StopIteration:\n",
    "            break\n",
    "        \n",
    "        # will NOT catch StopIteration raised from this\n",
    "        action(element)"
   ]
  },
  {
   "cell_type": "code",
   "execution_count": 86,
   "id": "7bea96f0-b957-464c-a6b3-d9974c88f477",
   "metadata": {
    "tags": [
     "raises-exception"
    ]
   },
   "outputs": [
    {
     "ename": "StopIteration",
     "evalue": "",
     "output_type": "error",
     "traceback": [
      "\u001b[1;31m---------------------------------------------------------------------------\u001b[0m",
      "\u001b[1;31mStopIteration\u001b[0m                             Traceback (most recent call last)",
      "Input \u001b[1;32mIn [86]\u001b[0m, in \u001b[0;36m<cell line: 3>\u001b[1;34m()\u001b[0m\n\u001b[0;32m      1\u001b[0m \u001b[38;5;28;01mdef\u001b[39;00m \u001b[38;5;21mact\u001b[39m(x): \n\u001b[0;32m      2\u001b[0m     \u001b[38;5;28;01mraise\u001b[39;00m \u001b[38;5;167;01mStopIteration\u001b[39;00m\n\u001b[1;32m----> 3\u001b[0m \u001b[43mmy_for_right\u001b[49m\u001b[43m(\u001b[49m\u001b[43m[\u001b[49m\u001b[38;5;241;43m1\u001b[39;49m\u001b[43m,\u001b[49m\u001b[43m \u001b[49m\u001b[38;5;241;43m2\u001b[39;49m\u001b[43m,\u001b[49m\u001b[43m \u001b[49m\u001b[38;5;241;43m3\u001b[39;49m\u001b[43m]\u001b[49m\u001b[43m,\u001b[49m\u001b[43m \u001b[49m\u001b[43mact\u001b[49m\u001b[43m)\u001b[49m\n",
      "Input \u001b[1;32mIn [85]\u001b[0m, in \u001b[0;36mmy_for_right\u001b[1;34m(iterable, action)\u001b[0m\n\u001b[0;32m      8\u001b[0m     \u001b[38;5;28;01mbreak\u001b[39;00m\n\u001b[0;32m     10\u001b[0m \u001b[38;5;66;03m# will NOT catch StopIteration raised from this\u001b[39;00m\n\u001b[1;32m---> 11\u001b[0m \u001b[43maction\u001b[49m\u001b[43m(\u001b[49m\u001b[43melement\u001b[49m\u001b[43m)\u001b[49m\n",
      "Input \u001b[1;32mIn [86]\u001b[0m, in \u001b[0;36mact\u001b[1;34m(x)\u001b[0m\n\u001b[0;32m      1\u001b[0m \u001b[38;5;28;01mdef\u001b[39;00m \u001b[38;5;21mact\u001b[39m(x): \n\u001b[1;32m----> 2\u001b[0m     \u001b[38;5;28;01mraise\u001b[39;00m \u001b[38;5;167;01mStopIteration\u001b[39;00m\n",
      "\u001b[1;31mStopIteration\u001b[0m: "
     ]
    }
   ],
   "source": [
    "def act(x): \n",
    "    raise StopIteration\n",
    "my_for_right([1, 2, 3], act)"
   ]
  },
  {
   "cell_type": "code",
   "execution_count": 87,
   "id": "39c3a4b6-7a7e-42a3-8f5c-28c6007d0165",
   "metadata": {},
   "outputs": [
    {
     "name": "stdout",
     "output_type": "stream",
     "text": [
      "1\n",
      "2\n",
      "3\n"
     ]
    }
   ],
   "source": [
    "my_for_right([1, 2, 3], print)"
   ]
  },
  {
   "cell_type": "markdown",
   "id": "4511c50b-e96d-4f6c-afc2-9e8d16b24f90",
   "metadata": {},
   "source": [
    "#### **Exercise 3**\n",
    "\n",
    "Assign `it1`, `it2`, and `it3` again, and this time assign a list comprehension to `firsts`. In all the previous examples, `firsts` was some kind of iterator. Now it is not. Observe that `StopIteration` is raised, but that there is no ambiguity here. To further clarify why this `StopIteration` can only be from attempting to evaluate your expression of the form `next(it)` in the list comprehension, consider what you just demonstrated in exercise 2 about `for` loops, and also consider what `for` loop a list comprehension is like.\n",
    "\n",
    "Then write that `for` loop. That is, assign `it1`, `it2`, and `it3` once more, assign an empty list to a variable, and write a `for` loop that populates that list. Run the code and observe where `StopIteration` is raised and why. Add a comment to your code that connects the insights of exercise 2 to this code."
   ]
  },
  {
   "cell_type": "markdown",
   "id": "f53a7383-9f77-4081-bf61-178f0fa463da",
   "metadata": {},
   "source": [
    "#### **Exercise 4**\n",
    "\n",
    "In this project, we first encountered the `StopIteration` semipredicate problem in `gencomp1.py`, in the `my_zip` function.\n",
    "\n",
    "**(a)** Review the code of that function. Copy it to a cell in this notebook and remove the doctests. (I recommend you remove the whole docstring, or at least condense it down to a single line.) Verify that `my_zip([10, 20, 30], [], [11, 22])` behaves properly.\n",
    "\n",
    "**(b)** Make a copy of this (doctest-stripped) code in a new cell, and modify the `yield` statement to use a generator expression instead of a list comprehension. Show how iterating through `my_zip([10, 20, 30], [], [11, 22])` now raises `RuntimeError`.\n",
    "\n",
    "**(c)** Make another copy and modify it again so the `yield` statement uses `map` instead of any kind of any kind of comprehension. Attempting to iterate all the way through `my_zip([10, 20, 30], [], [11, 22])` would now enter an infinite loop. Call `next` on the result of `my_zip([10, 20, 30], [], [11, 22])` a number of times to see what happens.\n",
    "\n",
    "**(d)** Figure out exactly why the behavior in (c) is happening. Feel free to write code to experiment with variations or simplifications to figure it out. Write a brief description of what is going on here. Your description need not be framed explicitly in terms of the semipredicate problem&mdash;the most important characteristic of your description is that it be clear to *you*&mdash;but you should make sure you understand how this is a case of the semipredicate problem."
   ]
  },
  {
   "cell_type": "markdown",
   "id": "609bec83-3687-4084-9707-502dec51f079",
   "metadata": {},
   "source": [
    "#### **Exercise 5**\n",
    "\n",
    "Try to come up with a clearer and more informative way of writing the explanatory comment we currently have in `gencomp1.my_zip`. It's is okay if it is several lines long. If you succeed, replace the comment there with the new description. (If you want to write any scratchwork in this notebook, feel free, but that is in no way a requirement of this exercise.)"
   ]
  },
  {
   "cell_type": "code",
   "execution_count": null,
   "id": "67106887-73cb-4e89-b91a-1d30b80bb7df",
   "metadata": {},
   "outputs": [],
   "source": []
  }
 ],
 "metadata": {
  "kernelspec": {
   "display_name": "Python 3 (ipykernel)",
   "language": "python",
   "name": "python3"
  },
  "language_info": {
   "codemirror_mode": {
    "name": "ipython",
    "version": 3
   },
   "file_extension": ".py",
   "mimetype": "text/x-python",
   "name": "python",
   "nbconvert_exporter": "python",
   "pygments_lexer": "ipython3",
   "version": "3.10.4"
  }
 },
 "nbformat": 4,
 "nbformat_minor": 5
}
