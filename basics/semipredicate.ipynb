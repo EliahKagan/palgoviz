{
 "cells": [
  {
   "cell_type": "markdown",
   "id": "ea3e6430-593b-4a12-80b7-097ff04afe19",
   "metadata": {},
   "source": [
    "# The Semipredicate Problem\n",
    "\n",
    "The [semipredicate problem](https://en.wikipedia.org/wiki/Semipredicate_problem) is the problem of how to overcome ambiguity in distinguishing a real result from an indication that there is no result and/or that an error occurred.\n",
    "\n",
    "A language-agnostic example of the semipredicate problem, and of solving it using *out-of-band signalling*, is having a primary output stream `stdout` and a secondary output / error output stream `stderr`.\n",
    "\n",
    "An specific example from C is [ERR02-C. Avoid in-band error indicators](https://wiki.sei.cmu.edu/confluence/display/c/ERR02-C.+Avoid+in-band+error+indicators)."
   ]
  },
  {
   "cell_type": "code",
   "execution_count": null,
   "id": "e3f66f51-fbb6-46ec-9b09-e58436861c46",
   "metadata": {},
   "outputs": [
    {
     "data": {
      "text/plain": [
       "'The horse said, \"It\\'s no good.\"'"
      ]
     },
     "execution_count": 1,
     "metadata": {},
     "output_type": "execute_result"
    }
   ],
   "source": [
    "'The horse said, \"It\\'s no good.\"'  # Quoting is an example of in-band signaling."
   ]
  },
  {
   "cell_type": "markdown",
   "id": "5a662be7-86c6-46e0-af19-011794e7173e",
   "metadata": {},
   "source": [
    "Suppose we have a dict `d` and a key `k`, and we want to do one thing if `k` is in `d` (using the associated value), and something else if it is not.\n",
    "\n",
    "Provided we don't need to worry about the dict being mutated between checking and subscripting, we can use LBYL in a way that avoids the semipredicate problem arising:\n",
    "\n",
    "```python\n",
    "if k in d:\n",
    "    v = d[k]\n",
    "    ...  # Use the value v.\n",
    "else:\n",
    "    ...  # Deal with k not being mapped.\n",
    "```"
   ]
  },
  {
   "cell_type": "markdown",
   "id": "135407f7-b0a0-4e17-9a8d-60aa0a1324fd",
   "metadata": {},
   "source": [
    "Often (but not always) a better approach is EAFP, which solves the semipredicate problem by using *returns* as the main source of information and *exceptions* as a secondary, out-of-band source of information:\n",
    "\n",
    "```python\n",
    "try:\n",
    "    v = d[k]\n",
    "except KeyError:\n",
    "    ...  # Deal with k not being mapped.\n",
    "else:\n",
    "    ...  # Use the value v.\n",
    "```"
   ]
  },
  {
   "cell_type": "markdown",
   "id": "edf20a48-4085-4535-b832-b0da537c61be",
   "metadata": {},
   "source": [
    "`dict` has a `get` method, which can be useful when neither of those patterns is convenient, but which brings back the semipredicate problem, since it uses in-band signaling."
   ]
  },
  {
   "cell_type": "code",
   "execution_count": null,
   "id": "2acc541f-540f-4fff-9341-fbf79302106d",
   "metadata": {},
   "outputs": [
    {
     "name": "stdout",
     "output_type": "stream",
     "text": [
      "Help on method_descriptor:\n",
      "\n",
      "get(self, key, default=None, /)\n",
      "    Return the value for key if key is in the dictionary, else default.\n",
      "\n"
     ]
    }
   ],
   "source": [
    "help(dict.get)"
   ]
  },
  {
   "cell_type": "code",
   "execution_count": null,
   "id": "e4295795-e7c1-4b89-9d57-a3cdeedb799b",
   "metadata": {},
   "outputs": [],
   "source": [
    "d = {7: \"car\", 3: \"boat\", 5: \"airplane\"}"
   ]
  },
  {
   "cell_type": "code",
   "execution_count": null,
   "id": "abb9cc1e-1eb4-4a7c-8c5e-50c71d209de2",
   "metadata": {},
   "outputs": [
    {
     "data": {
      "text/plain": [
       "'airplane'"
      ]
     },
     "execution_count": 4,
     "metadata": {},
     "output_type": "execute_result"
    }
   ],
   "source": [
    "d.get(5)"
   ]
  },
  {
   "cell_type": "code",
   "execution_count": null,
   "id": "2c1513e8-5dd6-4bfe-b7e9-f1746ee36efd",
   "metadata": {},
   "outputs": [],
   "source": [
    "d.get(10)"
   ]
  },
  {
   "cell_type": "code",
   "execution_count": null,
   "id": "fa7e5e9f-1a7e-4307-8207-ab8d76acf6f1",
   "metadata": {},
   "outputs": [
    {
     "data": {
      "text/plain": [
       "'ITS NOT HERE!'"
      ]
     },
     "execution_count": 6,
     "metadata": {},
     "output_type": "execute_result"
    }
   ],
   "source": [
    "d.get(10,\"ITS NOT HERE!\")"
   ]
  },
  {
   "cell_type": "markdown",
   "id": "3eb2c1d2-725b-42cc-aa6c-13da8bfca5d0",
   "metadata": {},
   "source": [
    "Suppose you are writing code in a function, and the situtaitons happens to be on where it is\n",
    "much more convenient to use `dict.get` than to use `try`-`catch`. In *some* situations, you\n",
    "will know for sure that a particular value will not be present. There are also situations\n",
    "where there is no existing value that is totally safe as the default. It is nonetheless\n",
    "possible to solve the semipredicate problem and use `dict.get`."
   ]
  },
  {
   "cell_type": "code",
   "execution_count": null,
   "id": "2e70b549-e29b-41ad-8a7e-fefbdcf4dc0e",
   "metadata": {},
   "outputs": [
    {
     "name": "stdout",
     "output_type": "stream",
     "text": [
      "Not here\n"
     ]
    }
   ],
   "source": [
    "# We need to make sure that o is not accessible to anything that might\n",
    "# mutate d. So, in practice, we usually need o to be a local variable,\n",
    "# thus this technique is, in practice, only useful in a function (but\n",
    "# that's okay since most of our Python code is in a function anyway).\n",
    "o = object()\n",
    "if d.get(10, o) is o:\n",
    "    print('Not here')    "
   ]
  },
  {
   "cell_type": "code",
   "execution_count": null,
   "id": "98a795bf-c173-4cac-9031-a29f2f87d691",
   "metadata": {},
   "outputs": [
    {
     "name": "stdout",
     "output_type": "stream",
     "text": [
      "Help on built-in function get:\n",
      "\n",
      "get(key, default=None, /) method of builtins.dict instance\n",
      "    Return the value for key if key is in the dictionary, else default.\n",
      "\n"
     ]
    }
   ],
   "source": [
    "help(d.get)"
   ]
  },
  {
   "cell_type": "code",
   "execution_count": null,
   "id": "0a4439ac-716e-42ea-a799-e600aaf6b8e9",
   "metadata": {},
   "outputs": [],
   "source": [
    "v = d.get(10, object())"
   ]
  },
  {
   "cell_type": "code",
   "execution_count": null,
   "id": "e7f7ebd9-a1b9-4656-874b-a42e91d1448c",
   "metadata": {},
   "outputs": [],
   "source": [
    "w = d.get(10, object())"
   ]
  },
  {
   "cell_type": "code",
   "execution_count": null,
   "id": "0398c3be-cbae-456e-a146-6ab1003c9d7c",
   "metadata": {},
   "outputs": [
    {
     "data": {
      "text/plain": [
       "False"
      ]
     },
     "execution_count": 11,
     "metadata": {},
     "output_type": "execute_result"
    }
   ],
   "source": [
    "v == w"
   ]
  },
  {
   "cell_type": "code",
   "execution_count": null,
   "id": "b1f2bc68-b968-421d-a690-d7431046af28",
   "metadata": {},
   "outputs": [
    {
     "data": {
      "text/plain": [
       "type"
      ]
     },
     "execution_count": 12,
     "metadata": {},
     "output_type": "execute_result"
    }
   ],
   "source": [
    "type(object)"
   ]
  },
  {
   "cell_type": "code",
   "execution_count": null,
   "id": "710b2064-5fcc-4aac-ab89-173077bf39fa",
   "metadata": {},
   "outputs": [],
   "source": [
    "d[10] = o"
   ]
  },
  {
   "cell_type": "code",
   "execution_count": null,
   "id": "940673f8-edd2-4e4a-a829-b5f150a220e6",
   "metadata": {},
   "outputs": [],
   "source": [
    "def initial_practice(dictionary, key, value):\n",
    "    try:\n",
    "        value = dictionary[key]\n",
    "    except KeyError:\n",
    "        print(\"the key is not mapped\") # Deal with key not being mapped.\n",
    "    else:\n",
    "        print(f'The value for {key} is {value}') # Use the value "
   ]
  },
  {
   "cell_type": "code",
   "execution_count": null,
   "id": "d78ec4c8-4a98-4455-a422-3dbd611c5141",
   "metadata": {},
   "outputs": [
    {
     "data": {
      "text/plain": [
       "{7: 'car', 3: 'boat', 5: 'airplane', 10: <object at 0x268d8f9cdf0>}"
      ]
     },
     "execution_count": 15,
     "metadata": {},
     "output_type": "execute_result"
    }
   ],
   "source": [
    "d"
   ]
  },
  {
   "cell_type": "code",
   "execution_count": null,
   "id": "0f9e2e37-3f1a-49bd-8343-b7cdfcdb8e36",
   "metadata": {},
   "outputs": [
    {
     "name": "stdout",
     "output_type": "stream",
     "text": [
      "the key is not mapped\n"
     ]
    }
   ],
   "source": [
    "initial_practice(d, 12, 'X wing')"
   ]
  },
  {
   "cell_type": "code",
   "execution_count": null,
   "id": "66d39faf-4de3-431a-bae4-526be4f4f0dd",
   "metadata": {},
   "outputs": [
    {
     "name": "stdout",
     "output_type": "stream",
     "text": [
      "The value for 7 is car\n"
     ]
    }
   ],
   "source": [
    "initial_practice(d, 7,'X wing')"
   ]
  },
  {
   "cell_type": "code",
   "execution_count": null,
   "id": "be2b06d3-a278-41a3-a082-92ed7270ea2e",
   "metadata": {},
   "outputs": [],
   "source": [
    "def has_entry_eafp(dictionary, key, value):\n",
    "    \"\"\"\n",
    "    Tell if a dictionary maps the given key to the given value.\n",
    "\n",
    "    This implementation uses EAFP, catching KeyError.\n",
    "    \"\"\"\n",
    "    try: \n",
    "        return dictionary[key] == value\n",
    "    except KeyError:\n",
    "        return False"
   ]
  },
  {
   "cell_type": "code",
   "execution_count": null,
   "id": "412d8d16-4de7-4148-a3d1-892bd356acda",
   "metadata": {},
   "outputs": [
    {
     "data": {
      "text/plain": [
       "{7: 'car', 3: 'boat', 5: 'airplane', 10: <object at 0x268d8f9cdf0>}"
      ]
     },
     "execution_count": 19,
     "metadata": {},
     "output_type": "execute_result"
    }
   ],
   "source": [
    "d"
   ]
  },
  {
   "cell_type": "code",
   "execution_count": null,
   "id": "15a19fde-6f5c-4518-ae03-9942213dfcdf",
   "metadata": {},
   "outputs": [
    {
     "data": {
      "text/plain": [
       "False"
      ]
     },
     "execution_count": 20,
     "metadata": {},
     "output_type": "execute_result"
    }
   ],
   "source": [
    "has_entry_eafp(d, 12, 'X wing')"
   ]
  },
  {
   "cell_type": "code",
   "execution_count": null,
   "id": "145b1c42-bb34-42bf-8281-6bb1421a8cb6",
   "metadata": {},
   "outputs": [
    {
     "data": {
      "text/plain": [
       "True"
      ]
     },
     "execution_count": 21,
     "metadata": {},
     "output_type": "execute_result"
    }
   ],
   "source": [
    "has_entry_eafp(d, 7, 'car')"
   ]
  },
  {
   "cell_type": "code",
   "execution_count": null,
   "id": "a50c8373-c276-4b8e-866a-78d10b755135",
   "metadata": {},
   "outputs": [
    {
     "data": {
      "text/plain": [
       "False"
      ]
     },
     "execution_count": 22,
     "metadata": {},
     "output_type": "execute_result"
    }
   ],
   "source": [
    "has_entry_eafp(d, 7, 'Tie Fighter')"
   ]
  },
  {
   "cell_type": "code",
   "execution_count": null,
   "id": "2f595cd7-dfbb-4914-852d-06366e4cdb19",
   "metadata": {},
   "outputs": [],
   "source": [
    "def has_entry_lbyl(dictionary, key, value):\n",
    "    \"\"\"\n",
    "    Tell if a dictionary maps the given key to the given value.\n",
    "\n",
    "    This implementation uses LBYL, checking with the \"in\" operator.\n",
    "    \"\"\"\n",
    "    return (key in dictionary) and (dictionary[key] == value)"
   ]
  },
  {
   "cell_type": "code",
   "execution_count": null,
   "id": "04157802-ab85-4506-acaf-082c493a03c8",
   "metadata": {},
   "outputs": [
    {
     "data": {
      "text/plain": [
       "False"
      ]
     },
     "execution_count": 24,
     "metadata": {},
     "output_type": "execute_result"
    }
   ],
   "source": [
    "has_entry_lbyl(d, 12, 'X wing')"
   ]
  },
  {
   "cell_type": "code",
   "execution_count": null,
   "id": "be50469f-0d13-4749-94bb-a3d4b1047b13",
   "metadata": {},
   "outputs": [
    {
     "data": {
      "text/plain": [
       "True"
      ]
     },
     "execution_count": 25,
     "metadata": {},
     "output_type": "execute_result"
    }
   ],
   "source": [
    "has_entry_lbyl(d, 7, 'car')"
   ]
  },
  {
   "cell_type": "code",
   "execution_count": null,
   "id": "3aa6cbbc-9ff2-44c3-8a72-c3c9ef5c06e6",
   "metadata": {},
   "outputs": [
    {
     "data": {
      "text/plain": [
       "False"
      ]
     },
     "execution_count": 26,
     "metadata": {},
     "output_type": "execute_result"
    }
   ],
   "source": [
    "has_entry_lbyl(d, 7, 'Tie')"
   ]
  },
  {
   "cell_type": "code",
   "execution_count": null,
   "id": "e69a6bec-c8e4-48d0-b63b-edf5f56e7086",
   "metadata": {},
   "outputs": [],
   "source": [
    "def has_entry_get(dictionary, key, value):\n",
    "    \"\"\"\n",
    "    Tell if a dictionary maps the given key to the given value.\n",
    "\n",
    "    This implementation uses the get method (in a safe way).\n",
    "    \"\"\"\n",
    "    o = object()\n",
    "    return dictionary.get(key, o) == value"
   ]
  },
  {
   "cell_type": "code",
   "execution_count": null,
   "id": "8fd7ae13-cad6-4d27-9c12-976cb7e819b5",
   "metadata": {},
   "outputs": [
    {
     "data": {
      "text/plain": [
       "False"
      ]
     },
     "execution_count": 28,
     "metadata": {},
     "output_type": "execute_result"
    }
   ],
   "source": [
    "has_entry_get(d, 12, 'X wing')"
   ]
  },
  {
   "cell_type": "code",
   "execution_count": null,
   "id": "d095d2bd-22ba-4431-8377-e6a58579635a",
   "metadata": {},
   "outputs": [
    {
     "data": {
      "text/plain": [
       "True"
      ]
     },
     "execution_count": 29,
     "metadata": {},
     "output_type": "execute_result"
    }
   ],
   "source": [
    "has_entry_get(d, 7, 'car')"
   ]
  },
  {
   "cell_type": "code",
   "execution_count": null,
   "id": "d9d80c9a-5934-463e-a82c-fdd2f9c3265f",
   "metadata": {},
   "outputs": [
    {
     "data": {
      "text/plain": [
       "False"
      ]
     },
     "execution_count": 30,
     "metadata": {},
     "output_type": "execute_result"
    }
   ],
   "source": [
    "has_entry_get(d, 7, 'Tie')"
   ]
  },
  {
   "cell_type": "code",
   "execution_count": null,
   "id": "bb8bdf27-e917-4fe7-94e8-ac13db254402",
   "metadata": {},
   "outputs": [
    {
     "data": {
      "text/plain": [
       "False"
      ]
     },
     "execution_count": 31,
     "metadata": {},
     "output_type": "execute_result"
    }
   ],
   "source": [
    "has_entry_get(d, 10, object())"
   ]
  },
  {
   "cell_type": "code",
   "execution_count": null,
   "id": "c4a8f703-7d7b-4c83-ac08-c2f726be8d0e",
   "metadata": {},
   "outputs": [
    {
     "data": {
      "text/plain": [
       "True"
      ]
     },
     "execution_count": 32,
     "metadata": {},
     "output_type": "execute_result"
    }
   ],
   "source": [
    "has_entry_get(d, 10, d[10])"
   ]
  },
  {
   "cell_type": "code",
   "execution_count": null,
   "id": "1804c8b1-d23d-4dd8-b3c6-708f3411f137",
   "metadata": {},
   "outputs": [],
   "source": [
    "d[12] = 'Tie Fighter' "
   ]
  },
  {
   "cell_type": "code",
   "execution_count": null,
   "id": "13859c7b-bcac-4034-821c-d14cf1371854",
   "metadata": {},
   "outputs": [
    {
     "data": {
      "text/plain": [
       "{7: 'car',\n",
       " 3: 'boat',\n",
       " 5: 'airplane',\n",
       " 10: <object at 0x268d8f9cdf0>,\n",
       " 12: 'Tie Fighter'}"
      ]
     },
     "execution_count": 34,
     "metadata": {},
     "output_type": "execute_result"
    }
   ],
   "source": [
    "d"
   ]
  },
  {
   "cell_type": "markdown",
   "id": "25bbae88-4212-4340-bfa2-d2e3bc36dcfe",
   "metadata": {},
   "source": [
    "## 2-argument forms of `next` and `iter`\n",
    "\n",
    "Calling `next` with a second argument causes that argument to be returned instead of propagating `StopIteration` to the caller:"
   ]
  },
  {
   "cell_type": "code",
   "execution_count": null,
   "id": "4d586a62-517b-4b11-97af-f27e6ee17cba",
   "metadata": {},
   "outputs": [
    {
     "name": "stdout",
     "output_type": "stream",
     "text": [
      "Help on built-in function next in module builtins:\n",
      "\n",
      "next(...)\n",
      "    next(iterator[, default])\n",
      "    \n",
      "    Return the next item from the iterator. If default is given and the iterator\n",
      "    is exhausted, it is returned instead of raising StopIteration.\n",
      "\n"
     ]
    }
   ],
   "source": [
    "help(next)"
   ]
  },
  {
   "cell_type": "code",
   "execution_count": null,
   "id": "38346453-2324-4a1f-8b42-f7460c1c494c",
   "metadata": {},
   "outputs": [],
   "source": [
    "it = iter([10, 20])"
   ]
  },
  {
   "cell_type": "code",
   "execution_count": null,
   "id": "48fbf019-1f53-4c40-8bda-60e3959f5572",
   "metadata": {},
   "outputs": [
    {
     "data": {
      "text/plain": [
       "10"
      ]
     },
     "execution_count": 37,
     "metadata": {},
     "output_type": "execute_result"
    }
   ],
   "source": [
    "next(it, 'Good bye!')"
   ]
  },
  {
   "cell_type": "code",
   "execution_count": null,
   "id": "1a28b5a1-ddae-458f-9702-12681f9abd19",
   "metadata": {},
   "outputs": [
    {
     "data": {
      "text/plain": [
       "20"
      ]
     },
     "execution_count": 38,
     "metadata": {},
     "output_type": "execute_result"
    }
   ],
   "source": [
    "next(it, 'Good bye!')"
   ]
  },
  {
   "cell_type": "code",
   "execution_count": null,
   "id": "41b290c6-e486-4258-b48c-7954888a6a89",
   "metadata": {},
   "outputs": [
    {
     "data": {
      "text/plain": [
       "'Good bye!'"
      ]
     },
     "execution_count": 39,
     "metadata": {},
     "output_type": "execute_result"
    }
   ],
   "source": [
    "next(it, 'Good bye!')"
   ]
  },
  {
   "cell_type": "markdown",
   "id": "5aee71a4-1caf-40d8-b905-bdc4001ba12d",
   "metadata": {},
   "source": [
    "This is sometimes useful. **The usual considerations, regarding the semipredicate problem, that apply to `dict.get`, apply to calling `next` with two arguments.** Personally, I use two-argument `next` less often than I use `dict.get`, and I don&rsquo;t use either one regularly.\n",
    "\n",
    "The two-argument `next` is a little bit unusual&mdash;and different from `dict.get`&mdash;because calling `next` with two arguments is very different from calling it with one argument, *no matter what second argument you pass*.\n",
    "\n",
    "- Calling `dict.get` with no second argument is like calling it with `None`.\n",
    "\n",
    "- Calling `next` with no second argument is not like calling it with any value as the second argument. When called with one argument, `next` always propagates `StopIteration` to the caller if the iterator has run out. But calling it with two arguments *never* does that&mdash;it returns the second argument instead.\n",
    "\n",
    "What&rsquo;s going on here is that:\n",
    "\n",
    "- The usual, one-argument form of `next` behaves in a manner analogous to *subscripting* a `dict`&mdash;when there is no value to be returned, calling `next` with one argument raises `StopIteration`, much as subscripting a `dict` raises `KeyError`.\n",
    "\n",
    "- The less commonly used two-argument form of `next` behaves in a manner analogous to `dict.get` with an explicit second argument&mdash;when there is no value to be returned, calling `next` with two arguments returns the second argument, just as  calling `dict.get` returns its second argument."
   ]
  },
  {
   "cell_type": "markdown",
   "id": "d3389389-1d52-482b-b82f-c54fff5bbfd5",
   "metadata": {},
   "source": [
    "`iter` can also be called with two arguments, which is totally different from calling it with one.\n",
    "\n",
    "- Calling it with one argument returns an iterator to the iterable passed as the argument.\n",
    "\n",
    "- Calling it with two arguments returns an iterator that repeatedly calls the first argument&mdash;which is expected to be a function or otherwise callable&mdash;and yields the values returned, until the value returned is equal to the second argument."
   ]
  },
  {
   "cell_type": "code",
   "execution_count": null,
   "id": "94a7f6ee-516c-4fa8-9a1f-580330d2432f",
   "metadata": {},
   "outputs": [
    {
     "name": "stdout",
     "output_type": "stream",
     "text": [
      "Help on built-in function iter in module builtins:\n",
      "\n",
      "iter(...)\n",
      "    iter(iterable) -> iterator\n",
      "    iter(callable, sentinel) -> iterator\n",
      "    \n",
      "    Get an iterator from an object.  In the first form, the argument must\n",
      "    supply its own iterator, or be a sequence.\n",
      "    In the second form, the callable is called until it returns the sentinel.\n",
      "\n"
     ]
    }
   ],
   "source": [
    "help(iter)"
   ]
  },
  {
   "cell_type": "markdown",
   "id": "7ca752ca-5551-4a5a-b3b6-69c417bb9f7f",
   "metadata": {},
   "source": [
    "The two-argument form of `iter` is rarely used, but it can be helpful in some situations."
   ]
  },
  {
   "cell_type": "code",
   "execution_count": null,
   "id": "9b45465c-d254-4b15-ab9c-c1e58547eef6",
   "metadata": {},
   "outputs": [
    {
     "data": {
      "text/plain": [
       "<callable_iterator at 0x268d914ac50>"
      ]
     },
     "execution_count": 41,
     "metadata": {},
     "output_type": "execute_result"
    }
   ],
   "source": [
    "a = ['ham', 'spam', 'eggs', 'foo', 'bar', 'baz', 'foobar', 'quux']\n",
    "it = iter(a.pop, 'eggs')\n",
    "it"
   ]
  },
  {
   "cell_type": "markdown",
   "id": "65d4e1b6-7740-4e2b-bd91-815215f2770a",
   "metadata": {},
   "source": [
    "Notice the type&mdash;`callable_iterator`:\n",
    "\n",
    "- The type of iterator `iter` returns when called with one argument is determined by what type of thing is being iterated, and the logic for doing so is supplied by that type.\n",
    "\n",
    "- But when called with two arguments, `iter` synthesizes an iterator of type `callable_iterator`."
   ]
  },
  {
   "cell_type": "code",
   "execution_count": null,
   "id": "ee911968-43a3-462c-81fb-a513d89a7c41",
   "metadata": {},
   "outputs": [
    {
     "data": {
      "text/plain": [
       "'quux'"
      ]
     },
     "execution_count": 42,
     "metadata": {},
     "output_type": "execute_result"
    }
   ],
   "source": [
    "next(it)"
   ]
  },
  {
   "cell_type": "code",
   "execution_count": null,
   "id": "dff978ea-2b2f-400f-9df6-eede62f85c94",
   "metadata": {},
   "outputs": [
    {
     "data": {
      "text/plain": [
       "['ham', 'spam', 'eggs', 'foo', 'bar', 'baz', 'foobar']"
      ]
     },
     "execution_count": 43,
     "metadata": {},
     "output_type": "execute_result"
    }
   ],
   "source": [
    "a  # a.pop has been called once so far."
   ]
  },
  {
   "cell_type": "code",
   "execution_count": null,
   "id": "cfff29b4-80f8-49c9-b9de-f9ff3ccedb27",
   "metadata": {},
   "outputs": [
    {
     "data": {
      "text/plain": [
       "['foobar', 'baz', 'bar', 'foo']"
      ]
     },
     "execution_count": 44,
     "metadata": {},
     "output_type": "execute_result"
    }
   ],
   "source": [
    "list(it)"
   ]
  },
  {
   "cell_type": "code",
   "execution_count": null,
   "id": "2fc392fc-27e2-4ed1-9858-a45d4293493d",
   "metadata": {},
   "outputs": [
    {
     "data": {
      "text/plain": [
       "['ham', 'spam']"
      ]
     },
     "execution_count": 45,
     "metadata": {},
     "output_type": "execute_result"
    }
   ],
   "source": [
    "a"
   ]
  },
  {
   "cell_type": "markdown",
   "id": "a279e9cb-352e-4654-ad43-70f8daaaa2fa",
   "metadata": {},
   "source": [
    "There is a conceptual connection between two-argument `next` and two-argument `iter`&mdash;they both involve end sentinels. **But they need not be used together and there is no special reason to use them together.** Whether one calls `iter` with one argument or two typically has no bearing on whether or not one calls `next` on the returned iterator with a second argument.\n",
    "\n",
    "The two-argument form of `iter` also suffers from the semipredicate problem. Do you see how?"
   ]
  },
  {
   "cell_type": "code",
   "execution_count": null,
   "id": "5ab2300d-4aa2-41a0-8634-fc1f4c5221e2",
   "metadata": {},
   "outputs": [],
   "source": []
  }
 ],
 "metadata": {
  "kernelspec": {
   "display_name": "",
   "name": ""
  },
  "language_info": {
   "name": ""
  }
 },
 "nbformat": 4,
 "nbformat_minor": 5
}
