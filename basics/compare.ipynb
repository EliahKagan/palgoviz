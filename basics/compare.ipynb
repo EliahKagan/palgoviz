{
 "cells": [
  {
   "cell_type": "markdown",
   "id": "02e2a3a7-4b9c-4cc9-98e0-7e344a469d1b",
   "metadata": {},
   "source": [
    "# Comparisons and Ordering"
   ]
  },
  {
   "cell_type": "markdown",
   "id": "20e2a916-84ff-4513-89fe-f0305367fed8",
   "metadata": {},
   "source": [
    "## Partial Ordering\n",
    "\n",
    "If $a$ comes before $b$, and $b$ comes before $c$, then $a$ comes before $c$.\n",
    "\n",
    "If $x$ comes before $y$, then $y$ does not come before $x$."
   ]
  },
  {
   "cell_type": "markdown",
   "id": "1cf31a48-6d67-45e6-b905-72b758efece5",
   "metadata": {},
   "source": [
    "## Weak Ordering\n",
    "\n",
    "A partial ordering where \"is neither less than nor greater than\" is transitive.\n",
    "\n",
    "Take $x \\sim y$ to mean that neither $x < y$ nor $y < x$.\n",
    "\n",
    "Then a weak ordering is a partial ordering where $\\sim$ is transitive:\n",
    "\n",
    "If $a \\sim b$ and $b \\sim c$, then $a \\sim c$."
   ]
  },
  {
   "cell_type": "markdown",
   "id": "42f58dd9-0333-40d6-8ca1-7f2ee1addd84",
   "metadata": {},
   "source": [
    "## Some partial orderings aren't weak orderings.\n",
    "\n",
    "### Sets are not even weakly ordered.\n",
    "\n",
    "#### Example 1:\n",
    "\n",
    "Take $A = \\{1, 2\\}$, $B = \\{1, 3\\}$, and $C = \\{1, 2, 5\\}$.\n",
    "\n",
    "$A \\sim B$ and $B \\sim C$, but $A \\subset C$ (thus $A \\not\\sim C$).\n",
    "\n",
    "#### Example 2:\n",
    "\n",
    "Take $A = \\{2\\}$, $B = \\{3\\}$, and $C = \\{1, 2\\}$.\n",
    "\n",
    "$A \\sim B$ and $B \\sim C$, but $A \\subset C$ (thus $A \\not\\sim C$).\n",
    "\n",
    "Suppose we want to build an sorted list of $C$, $B$, and $A$.\n",
    "\n",
    "Starting with $C$, we have:\n",
    "\n",
    "$[C]$\n",
    "\n",
    "Then we receive $B$. We can simply append it, since it can appear in any order with respect to $C$:\n",
    "\n",
    "$[C, B]$\n",
    "\n",
    "Then we receive $A$. Comparing it to $B$, they can appear in any order, so we would put it at the end:\n",
    "\n",
    "$[C, B, A]$\n",
    "\n",
    "But this is not sorted, because $A < C$.\n",
    "\n",
    "What was the wrong assumption we made in apply this *insertion sort* algorithm to input that was not even a weak ordering?\n",
    "\n",
    "We assumed that because the list we were building, $[C, B]$, was sorted, and $A$ was permitted to appear after the last element of that list, that $A$ would be permitted to appear after *all* elements of that list.\n",
    "\n",
    "This assumption is what makes most sorting algorithms work. It is guaranteed for any weak ordering. It is not guaranteed for arbitrary partial orderings, and \"is a proper subset of\" on sets is an example of a partial ordering for which it does not hold."
   ]
  },
  {
   "cell_type": "markdown",
   "id": "86e12b05-14c7-42d8-9911-3d57f928de0d",
   "metadata": {},
   "source": [
    "## Total Ordering (a.k.a. Strong Ordering)\n",
    "\n",
    "A partial ordering where $x < y$ or $x = y$ or $x > y$.\n",
    "\n",
    "In other words, either $x$ comes before $y$, or $y$ comes before $x$, or $x$ and $y$ are equal."
   ]
  },
  {
   "cell_type": "markdown",
   "id": "a71461dd-bd65-4987-93dc-83924d97ba6d",
   "metadata": {},
   "source": [
    "## Relationship between weak and total (strong) ordering\n",
    "\n",
    "In a weak ordering, $\\sim$ is transitive: if $x \\sim y$ and $y \\sim z$, then $x \\sim z$.\n",
    "\n",
    "Note that it is also symmetric: if $x \\sim y$ then $y \\sim x$. And reflexive: $x \\sim x$.\n",
    "\n",
    "Because of this, elements clump together with those they are neither less nor greater than.\n",
    "\n",
    "Across separate clumps, we always have $<$ or $>$.\n",
    "\n",
    "*This is to say that the clumps are totally ordered.*\n",
    "\n",
    "In math lingo, a relation that is symmetric, reflexive, and transitive is said to be an *equivalence relation*. The clumps are called *equivalence classes*.\n",
    "\n",
    "What we mean when we say an equivalence class $S$ comes before an equivalence class $T$ in the induced total ordering of equivlance classes is that given any $x \\in S$ and $y \\in T$, $x$ comes before $y$ in the weak ordering."
   ]
  },
  {
   "cell_type": "code",
   "execution_count": null,
   "id": "70978eff-1206-4bd5-9865-3ccbd527529a",
   "metadata": {},
   "outputs": [],
   "source": []
  }
 ],
 "metadata": {
  "kernelspec": {
   "display_name": "Python 3 (ipykernel)",
   "language": "python",
   "name": "python3"
  },
  "language_info": {
   "codemirror_mode": {
    "name": "ipython",
    "version": 3
   },
   "file_extension": ".py",
   "mimetype": "text/x-python",
   "name": "python",
   "nbconvert_exporter": "python",
   "pygments_lexer": "ipython3",
   "version": "3.10.4"
  }
 },
 "nbformat": 4,
 "nbformat_minor": 5
}
