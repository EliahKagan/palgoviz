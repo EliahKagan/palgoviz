{
 "cells": [
  {
   "cell_type": "markdown",
   "id": "02e2a3a7-4b9c-4cc9-98e0-7e344a469d1b",
   "metadata": {},
   "source": [
    "# Comparisons and Ordering"
   ]
  },
  {
   "cell_type": "markdown",
   "id": "20e2a916-84ff-4513-89fe-f0305367fed8",
   "metadata": {},
   "source": [
    "## Partial Ordering\n",
    "\n",
    "If $a$ comes before $b$, and $b$ comes before $c$, then $a$ comes before $c$.\n",
    "\n",
    "If $x$ comes before $y$, then $y$ does not come before $x$."
   ]
  },
  {
   "cell_type": "markdown",
   "id": "1cf31a48-6d67-45e6-b905-72b758efece5",
   "metadata": {},
   "source": [
    "## Weak Ordering\n",
    "\n",
    "A partial ordering where \"is neither less than nor greater than\" is transitive.\n",
    "\n",
    "That is, if\n",
    "\n",
    "- $a \\nless b$ and $b \\nless a$, *and*\n",
    "- $b \\nless c$ and $c \\nless b$\n",
    "\n",
    "then $a \\nless c$ and $c \\nless a$."
   ]
  },
  {
   "cell_type": "markdown",
   "id": "86e12b05-14c7-42d8-9911-3d57f928de0d",
   "metadata": {},
   "source": [
    "## Total Ordering\n",
    "\n",
    "A partial ordering where $x < y$ or $x = y$ or $x > y$.\n",
    "\n",
    "In other words, either $x$ comes before $y$, or $y$ comes before $x$, or $x$ and $y$ are equal."
   ]
  },
  {
   "cell_type": "code",
   "execution_count": null,
   "id": "7f41cfdb-e6f3-4151-8b37-624d1a20aa0a",
   "metadata": {},
   "outputs": [],
   "source": []
  }
 ],
 "metadata": {
  "kernelspec": {
   "display_name": "Python 3 (ipykernel)",
   "language": "python",
   "name": "python3"
  },
  "language_info": {
   "codemirror_mode": {
    "name": "ipython",
    "version": 3
   },
   "file_extension": ".py",
   "mimetype": "text/x-python",
   "name": "python",
   "nbconvert_exporter": "python",
   "pygments_lexer": "ipython3",
   "version": "3.10.4"
  }
 },
 "nbformat": 4,
 "nbformat_minor": 5
}
