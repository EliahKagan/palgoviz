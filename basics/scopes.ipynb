{
 "cells": [
  {
   "cell_type": "code",
   "execution_count": null,
   "id": "7d6a3c47-67f9-4b55-aad2-bc52096b9e38",
   "metadata": {},
   "outputs": [
    {
     "name": "stdout",
     "output_type": "stream",
     "text": [
      "Calling printer:  4\n",
      "Calling printer:  9\n",
      "Calling printer:  49\n"
     ]
    }
   ],
   "source": [
    "import scopes"
   ]
  },
  {
   "cell_type": "code",
   "execution_count": null,
   "id": "75b12088-1f30-410c-9c06-862ee963b7ba",
   "metadata": {},
   "outputs": [],
   "source": [
    "#scopes.demo()"
   ]
  },
  {
   "cell_type": "code",
   "execution_count": null,
   "id": "eb18e53c-36a8-4e9d-bb33-b3e0ec31d7d5",
   "metadata": {},
   "outputs": [],
   "source": [
    "#scopes.x"
   ]
  },
  {
   "cell_type": "code",
   "execution_count": null,
   "id": "ab359e55-7577-4330-b9e8-93ba7531f143",
   "metadata": {},
   "outputs": [],
   "source": [
    "def h():\n",
    "    pass"
   ]
  },
  {
   "cell_type": "code",
   "execution_count": null,
   "id": "dab92de2-5a80-4909-9fe0-2a98e0ce9849",
   "metadata": {},
   "outputs": [
    {
     "data": {
      "text/plain": [
       "<function __main__.h()>"
      ]
     },
     "execution_count": 5,
     "metadata": {},
     "output_type": "execute_result"
    }
   ],
   "source": [
    "h"
   ]
  },
  {
   "cell_type": "code",
   "execution_count": null,
   "id": "676f455a-522e-4b5e-8384-7de3cfe8d118",
   "metadata": {},
   "outputs": [
    {
     "name": "stdout",
     "output_type": "stream",
     "text": [
      "0\n",
      "1\n",
      "2\n",
      "3\n",
      "4\n",
      "5\n",
      "6\n",
      "7\n",
      "8\n",
      "9\n"
     ]
    }
   ],
   "source": [
    "for i in range(10):  # for (i = 0; i < 10; ++i) ...\n",
    "    print(i)"
   ]
  },
  {
   "cell_type": "code",
   "execution_count": null,
   "id": "68cd5c07-9334-4726-80bf-bf7a5be234d9",
   "metadata": {},
   "outputs": [
    {
     "data": {
      "text/plain": [
       "9"
      ]
     },
     "execution_count": 7,
     "metadata": {},
     "output_type": "execute_result"
    }
   ],
   "source": [
    "i"
   ]
  },
  {
   "cell_type": "code",
   "execution_count": null,
   "id": "7d3ce86f-e426-46bb-9be4-0f7076c626ec",
   "metadata": {},
   "outputs": [],
   "source": [
    "# Some words and their lengths.\n",
    "words = [('cat', 3), ('squirrel', 8), ('mouse', 5)]"
   ]
  },
  {
   "cell_type": "code",
   "execution_count": null,
   "id": "fd605912-05e9-44ad-9c02-f074ca41879c",
   "metadata": {},
   "outputs": [
    {
     "name": "stdout",
     "output_type": "stream",
     "text": [
      "The word \"cat\" has 3 letters.\n",
      "The word \"squirrel\" has 8 letters.\n",
      "The word \"mouse\" has 5 letters.\n"
     ]
    }
   ],
   "source": [
    "for pair in words:\n",
    "    word = pair[0]\n",
    "    length = pair[1]\n",
    "    print(f'The word \"{word}\" has {length} letters.')"
   ]
  },
  {
   "cell_type": "code",
   "execution_count": null,
   "id": "537271be-0141-4bdc-a89e-cb6136a4c50e",
   "metadata": {},
   "outputs": [
    {
     "name": "stdout",
     "output_type": "stream",
     "text": [
      "The word \"cat\" has 3 letters.\n",
      "The word \"squirrel\" has 8 letters.\n",
      "The word \"mouse\" has 5 letters.\n"
     ]
    }
   ],
   "source": [
    "for pair in words:\n",
    "    word, length = pair\n",
    "    print(f'The word \"{word}\" has {length} letters.')"
   ]
  },
  {
   "cell_type": "raw",
   "id": "36aabcf1-289d-484f-b7d3-b8d33f0eaec9",
   "metadata": {},
   "source": [
    "for word, length in words: \n",
    "    print(f'The word \"{word}\" has {length} letters.')"
   ]
  },
  {
   "cell_type": "code",
   "execution_count": null,
   "id": "b126f3b5-6caa-46da-909b-701a721b9f0b",
   "metadata": {},
   "outputs": [],
   "source": [
    "cities = ['St. Louis', 'Syracuse', 'Stalingrad', 'Berlin', 'Normandy']"
   ]
  },
  {
   "cell_type": "code",
   "execution_count": null,
   "id": "339b2d10-ac48-4ab7-b0e1-65156adec31b",
   "metadata": {},
   "outputs": [],
   "source": [
    "# 0: St. Louis\n",
    "# 1: Syracuse\n",
    "# 2: Stalingrad\n",
    "# ..."
   ]
  },
  {
   "cell_type": "code",
   "execution_count": null,
   "id": "b31618eb-073c-405d-9a40-88e7462f0524",
   "metadata": {},
   "outputs": [
    {
     "name": "stdout",
     "output_type": "stream",
     "text": [
      "0: St. Louis\n",
      "1: Syracuse\n",
      "2: Stalingrad\n",
      "3: Berlin\n",
      "4: Normandy\n"
     ]
    }
   ],
   "source": [
    "index = 0\n",
    "for city in cities:\n",
    "    print(f'{index}: {city}')\n",
    "    index += 1"
   ]
  },
  {
   "cell_type": "code",
   "execution_count": null,
   "id": "f953ea55-6ee4-489c-b4f4-5468dddb59be",
   "metadata": {},
   "outputs": [
    {
     "name": "stdout",
     "output_type": "stream",
     "text": [
      "0: St. Louis\n",
      "1: Syracuse\n",
      "2: Stalingrad\n",
      "3: Berlin\n",
      "4: Normandy\n"
     ]
    }
   ],
   "source": [
    "for index in range(len(cities)):\n",
    "    print(f'{index}: {cities[index]}')"
   ]
  },
  {
   "cell_type": "code",
   "execution_count": null,
   "id": "e05972d1-04cf-4cc9-a678-9cee1cdb948a",
   "metadata": {},
   "outputs": [
    {
     "data": {
      "text/plain": [
       "[(0, 'St. Louis'),\n",
       " (1, 'Syracuse'),\n",
       " (2, 'Stalingrad'),\n",
       " (3, 'Berlin'),\n",
       " (4, 'Normandy')]"
      ]
     },
     "execution_count": 15,
     "metadata": {},
     "output_type": "execute_result"
    }
   ],
   "source": [
    "list(enumerate(cities))"
   ]
  },
  {
   "cell_type": "code",
   "execution_count": null,
   "id": "766580ef-0c06-442b-b5d8-54ee2f58970b",
   "metadata": {},
   "outputs": [
    {
     "name": "stdout",
     "output_type": "stream",
     "text": [
      "0: St. Louis\n",
      "1: Syracuse\n",
      "2: Stalingrad\n",
      "3: Berlin\n",
      "4: Normandy\n"
     ]
    }
   ],
   "source": [
    "for index, city in enumerate(cities):\n",
    "    print(f'{index}: {city}')"
   ]
  },
  {
   "cell_type": "code",
   "execution_count": null,
   "id": "380384cc-f013-4dce-a19d-c0a7354b6237",
   "metadata": {},
   "outputs": [],
   "source": [
    "import adders"
   ]
  },
  {
   "cell_type": "code",
   "execution_count": null,
   "id": "b54b19f7-9a47-43c9-b963-06d8d69ca2bb",
   "metadata": {},
   "outputs": [
    {
     "data": {
      "text/plain": [
       "<function adders.make_adder.<locals>.adder(right_addend)>"
      ]
     },
     "execution_count": 18,
     "metadata": {},
     "output_type": "execute_result"
    }
   ],
   "source": [
    "adders.make_adder(7)"
   ]
  },
  {
   "cell_type": "code",
   "execution_count": null,
   "id": "cd7e676b-8d45-4f23-8b99-69a7313db72d",
   "metadata": {},
   "outputs": [],
   "source": [
    "f = adders.make_adder(7)"
   ]
  },
  {
   "cell_type": "code",
   "execution_count": null,
   "id": "14d7c78f-5158-427d-a35a-0a1f0da6331b",
   "metadata": {},
   "outputs": [
    {
     "data": {
      "text/plain": [
       "11"
      ]
     },
     "execution_count": 20,
     "metadata": {},
     "output_type": "execute_result"
    }
   ],
   "source": [
    "f(4)"
   ]
  },
  {
   "cell_type": "code",
   "execution_count": null,
   "id": "f3cdd211-c986-4892-9d58-ca799809fd55",
   "metadata": {},
   "outputs": [
    {
     "data": {
      "text/plain": [
       "17"
      ]
     },
     "execution_count": 21,
     "metadata": {},
     "output_type": "execute_result"
    }
   ],
   "source": [
    "f(10)"
   ]
  },
  {
   "cell_type": "code",
   "execution_count": null,
   "id": "bb64c4c1-e74e-4c56-8cb4-ff15e7b80ce5",
   "metadata": {},
   "outputs": [
    {
     "data": {
      "text/plain": [
       "8"
      ]
     },
     "execution_count": 22,
     "metadata": {},
     "output_type": "execute_result"
    }
   ],
   "source": [
    "adders.make_adder(6)(2)"
   ]
  },
  {
   "cell_type": "code",
   "execution_count": null,
   "id": "efed0483-1c03-43c1-84f7-d528bcf9b34a",
   "metadata": {},
   "outputs": [],
   "source": [
    "s = adders.make_adder('cat')"
   ]
  },
  {
   "cell_type": "code",
   "execution_count": null,
   "id": "be267861-6551-447a-8157-108211e47144",
   "metadata": {},
   "outputs": [
    {
     "data": {
      "text/plain": [
       "'cat dog'"
      ]
     },
     "execution_count": 24,
     "metadata": {},
     "output_type": "execute_result"
    }
   ],
   "source": [
    "s(' dog')"
   ]
  },
  {
   "cell_type": "code",
   "execution_count": null,
   "id": "f064bc92-de4b-45d1-86f1-13bd0dcdfe93",
   "metadata": {},
   "outputs": [],
   "source": [
    "t = adders.make_adder((1,2))"
   ]
  },
  {
   "cell_type": "code",
   "execution_count": null,
   "id": "7b2023db-222f-4f59-aadb-032eb40835c2",
   "metadata": {},
   "outputs": [
    {
     "data": {
      "text/plain": [
       "(1, 2, 3, 4)"
      ]
     },
     "execution_count": 26,
     "metadata": {},
     "output_type": "execute_result"
    }
   ],
   "source": [
    "t((3,4))"
   ]
  },
  {
   "cell_type": "code",
   "execution_count": null,
   "id": "510e206e-9268-4f80-85a8-a209e4342253",
   "metadata": {},
   "outputs": [],
   "source": [
    "# t('cat')"
   ]
  },
  {
   "cell_type": "code",
   "execution_count": null,
   "id": "360d6f63-a635-4df6-a504-2cd9fefe275e",
   "metadata": {},
   "outputs": [],
   "source": [
    "# h + h"
   ]
  },
  {
   "cell_type": "code",
   "execution_count": null,
   "id": "02a1171c-b31c-4952-a610-3904b318fa16",
   "metadata": {},
   "outputs": [],
   "source": [
    "vain_attempt = adders.make_adder(h)"
   ]
  },
  {
   "cell_type": "code",
   "execution_count": null,
   "id": "004d7718-a300-40dd-8fa8-426493f51b96",
   "metadata": {},
   "outputs": [],
   "source": [
    "# vain_attempt(h)"
   ]
  },
  {
   "cell_type": "code",
   "execution_count": null,
   "id": "508282a3-3df7-4c1e-9d38-b1655206fa91",
   "metadata": {},
   "outputs": [
    {
     "name": "stdout",
     "output_type": "stream",
     "text": [
      "Help on built-in function sorted in module builtins:\n",
      "\n",
      "sorted(iterable, /, *, key=None, reverse=False)\n",
      "    Return a new list containing all items from the iterable in ascending order.\n",
      "    \n",
      "    A custom key function can be supplied to customize the sort order, and the\n",
      "    reverse flag can be set to request the result in descending order.\n",
      "\n"
     ]
    }
   ],
   "source": [
    "help(sorted)"
   ]
  },
  {
   "cell_type": "code",
   "execution_count": null,
   "id": "367064a5-6fab-4002-a772-327174a9625a",
   "metadata": {},
   "outputs": [
    {
     "name": "stdout",
     "output_type": "stream",
     "text": [
      "Help on function make_adder in module adders:\n",
      "\n",
      "make_adder(left_addend)\n",
      "    Create a function that adds its argument to the already-given addend.\n",
      "    \n",
      "    >>> f = make_adder(7)\n",
      "    >>> f(4)\n",
      "    11\n",
      "    >>> f(10)\n",
      "    17\n",
      "    >>> make_adder(6)(2)\n",
      "    8\n",
      "    >>> s = make_adder('cat')\n",
      "    >>> s(' dog')\n",
      "    'cat dog'\n",
      "\n"
     ]
    }
   ],
   "source": [
    "help(adders.make_adder)"
   ]
  },
  {
   "cell_type": "code",
   "execution_count": null,
   "id": "20dc90d1-cfcf-4dca-9ce3-f9383d09f43e",
   "metadata": {},
   "outputs": [
    {
     "data": {
      "text/plain": [
       "['St. Louis', 'Syracuse', 'Stalingrad', 'Berlin', 'Normandy']"
      ]
     },
     "execution_count": 33,
     "metadata": {},
     "output_type": "execute_result"
    }
   ],
   "source": [
    "cities"
   ]
  },
  {
   "cell_type": "code",
   "execution_count": null,
   "id": "dee7a662-f764-4606-8ada-21a97e641004",
   "metadata": {},
   "outputs": [
    {
     "data": {
      "text/plain": [
       "['Berlin', 'Normandy', 'St. Louis', 'Stalingrad', 'Syracuse']"
      ]
     },
     "execution_count": 34,
     "metadata": {},
     "output_type": "execute_result"
    }
   ],
   "source": [
    "sorted(cities)"
   ]
  },
  {
   "cell_type": "code",
   "execution_count": null,
   "id": "c15b96f0-3093-4e34-9543-46b1e4213c3d",
   "metadata": {},
   "outputs": [
    {
     "data": {
      "text/plain": [
       "['St. Louis', 'Syracuse', 'Stalingrad', 'Berlin', 'Normandy']"
      ]
     },
     "execution_count": 35,
     "metadata": {},
     "output_type": "execute_result"
    }
   ],
   "source": [
    "cities"
   ]
  },
  {
   "cell_type": "code",
   "execution_count": null,
   "id": "4fe0889a-044b-4d07-8565-479b8da055ae",
   "metadata": {},
   "outputs": [
    {
     "data": {
      "text/plain": [
       "['Berlin', 'Syracuse', 'Normandy', 'St. Louis', 'Stalingrad']"
      ]
     },
     "execution_count": 36,
     "metadata": {},
     "output_type": "execute_result"
    }
   ],
   "source": [
    "sorted(cities, key = len)"
   ]
  },
  {
   "cell_type": "code",
   "execution_count": null,
   "id": "efc056a9-750e-407f-ad3c-3b84cdcfe36a",
   "metadata": {},
   "outputs": [
    {
     "data": {
      "text/plain": [
       "['St. Louis', 'Syracuse', 'Stalingrad', 'Berlin', 'Normandy']"
      ]
     },
     "execution_count": 37,
     "metadata": {},
     "output_type": "execute_result"
    }
   ],
   "source": [
    "cities"
   ]
  },
  {
   "cell_type": "code",
   "execution_count": null,
   "id": "32da93fe-302d-478b-a9bb-1459f899e054",
   "metadata": {},
   "outputs": [
    {
     "data": {
      "text/plain": [
       "[3, 4, 9, 17]"
      ]
     },
     "execution_count": 38,
     "metadata": {},
     "output_type": "execute_result"
    }
   ],
   "source": [
    "sorted((3, 17, 4, 9))"
   ]
  },
  {
   "cell_type": "code",
   "execution_count": null,
   "id": "867181cf-51a4-46db-99f0-30bef40a3dec",
   "metadata": {},
   "outputs": [
    {
     "name": "stdout",
     "output_type": "stream",
     "text": [
      "Help on method_descriptor:\n",
      "\n",
      "sort(self, /, *, key=None, reverse=False)\n",
      "    Sort the list in ascending order and return None.\n",
      "    \n",
      "    The sort is in-place (i.e. the list itself is modified) and stable (i.e. the\n",
      "    order of two equal elements is maintained).\n",
      "    \n",
      "    If a key function is given, apply it once to each list item and sort them,\n",
      "    ascending or descending, according to their function values.\n",
      "    \n",
      "    The reverse flag can be set to sort in descending order.\n",
      "\n"
     ]
    }
   ],
   "source": [
    "help(list.sort)"
   ]
  },
  {
   "cell_type": "code",
   "execution_count": null,
   "id": "53c2f244-3c4f-4d4e-9ee1-dc794b106348",
   "metadata": {},
   "outputs": [
    {
     "name": "stdout",
     "output_type": "stream",
     "text": [
      "Help on built-in function sorted in module builtins:\n",
      "\n",
      "sorted(iterable, /, *, key=None, reverse=False)\n",
      "    Return a new list containing all items from the iterable in ascending order.\n",
      "    \n",
      "    A custom key function can be supplied to customize the sort order, and the\n",
      "    reverse flag can be set to request the result in descending order.\n",
      "\n"
     ]
    }
   ],
   "source": [
    "help(sorted)"
   ]
  },
  {
   "cell_type": "code",
   "execution_count": null,
   "id": "2de50998-3a12-4cdf-8d85-b0e8019a13e1",
   "metadata": {},
   "outputs": [
    {
     "data": {
      "text/plain": [
       "['Berlin', 'Normandy', 'St. Louis', 'Stalingrad', 'Syracuse']"
      ]
     },
     "execution_count": 41,
     "metadata": {},
     "output_type": "execute_result"
    }
   ],
   "source": [
    "# Sort cities in place, in alphabetical order of the second character of each element.\n",
    "def s_char(city):\n",
    "    return city[1]\n",
    "cities.sort(key = s_char)\n",
    "cities"
   ]
  },
  {
   "cell_type": "code",
   "execution_count": null,
   "id": "fbc6f8ec-9211-4b1b-9808-7fcfc0214820",
   "metadata": {},
   "outputs": [
    {
     "data": {
      "text/plain": [
       "<function adders.make_adder.<locals>.adder(right_addend)>"
      ]
     },
     "execution_count": 42,
     "metadata": {},
     "output_type": "execute_result"
    }
   ],
   "source": [
    "f"
   ]
  },
  {
   "cell_type": "code",
   "execution_count": null,
   "id": "b6816e9a-6e11-4042-b094-2bbcacb38141",
   "metadata": {},
   "outputs": [
    {
     "data": {
      "text/plain": [
       "<function __main__.h()>"
      ]
     },
     "execution_count": 43,
     "metadata": {},
     "output_type": "execute_result"
    }
   ],
   "source": [
    "h"
   ]
  },
  {
   "cell_type": "code",
   "execution_count": null,
   "id": "0cae1f2a-160e-4944-a34a-a6b01d81c4bd",
   "metadata": {},
   "outputs": [
    {
     "data": {
      "text/plain": [
       "['__annotations__',\n",
       " '__builtins__',\n",
       " '__call__',\n",
       " '__class__',\n",
       " '__closure__',\n",
       " '__code__',\n",
       " '__defaults__',\n",
       " '__delattr__',\n",
       " '__dict__',\n",
       " '__dir__',\n",
       " '__doc__',\n",
       " '__eq__',\n",
       " '__format__',\n",
       " '__ge__',\n",
       " '__get__',\n",
       " '__getattribute__',\n",
       " '__globals__',\n",
       " '__gt__',\n",
       " '__hash__',\n",
       " '__init__',\n",
       " '__init_subclass__',\n",
       " '__kwdefaults__',\n",
       " '__le__',\n",
       " '__lt__',\n",
       " '__module__',\n",
       " '__name__',\n",
       " '__ne__',\n",
       " '__new__',\n",
       " '__qualname__',\n",
       " '__reduce__',\n",
       " '__reduce_ex__',\n",
       " '__repr__',\n",
       " '__setattr__',\n",
       " '__sizeof__',\n",
       " '__str__',\n",
       " '__subclasshook__']"
      ]
     },
     "execution_count": 44,
     "metadata": {},
     "output_type": "execute_result"
    }
   ],
   "source": [
    "dir(f)"
   ]
  },
  {
   "cell_type": "code",
   "execution_count": null,
   "id": "64d87e81-22d0-44a1-9a11-f1439c8aae23",
   "metadata": {},
   "outputs": [
    {
     "data": {
      "text/plain": [
       "'adder'"
      ]
     },
     "execution_count": 45,
     "metadata": {},
     "output_type": "execute_result"
    }
   ],
   "source": [
    "f.__name__"
   ]
  },
  {
   "cell_type": "code",
   "execution_count": null,
   "id": "37a10e65-b4b4-4da2-892d-368380dd0b33",
   "metadata": {},
   "outputs": [
    {
     "data": {
      "text/plain": [
       "['St. Louis', 'Syracuse', 'Stalingrad', 'Berlin', 'Normandy']"
      ]
     },
     "execution_count": 49,
     "metadata": {},
     "output_type": "execute_result"
    }
   ],
   "source": [
    "cities = ['St. Louis', 'Syracuse', 'Stalingrad', 'Berlin', 'Normandy']\n",
    "cities"
   ]
  },
  {
   "cell_type": "code",
   "execution_count": null,
   "id": "ba4a30f9-f10b-48e0-bbfc-ccde3709a6b7",
   "metadata": {},
   "outputs": [
    {
     "data": {
      "text/plain": [
       "['Berlin', 'Normandy', 'St. Louis', 'Stalingrad', 'Syracuse']"
      ]
     },
     "execution_count": 61,
     "metadata": {},
     "output_type": "execute_result"
    }
   ],
   "source": [
    "# Sort cities in alphabetical order of the second character of each element.\n",
    "sorted(cities, key = lambda city: city[1])"
   ]
  },
  {
   "cell_type": "markdown",
   "id": "0e4e826a-df5d-49a8-9bae-82a636ebfed5",
   "metadata": {},
   "source": []
  },
  {
   "cell_type": "code",
   "execution_count": null,
   "id": "418d0244-0ae7-417d-8e4b-fd69e4a40426",
   "metadata": {},
   "outputs": [
    {
     "data": {
      "text/plain": [
       "['St. Louis', 'Syracuse', 'Stalingrad', 'Berlin', 'Normandy']"
      ]
     },
     "execution_count": 53,
     "metadata": {},
     "output_type": "execute_result"
    }
   ],
   "source": [
    "cities"
   ]
  },
  {
   "cell_type": "code",
   "execution_count": null,
   "id": "a221990a-d99b-4aba-9f8f-569f7b08f90d",
   "metadata": {},
   "outputs": [
    {
     "name": "stdout",
     "output_type": "stream",
     "text": [
      "16\n"
     ]
    }
   ],
   "source": [
    "def square(x):\n",
    "    return x**2\n",
    "\n",
    "print(square(4))"
   ]
  },
  {
   "cell_type": "code",
   "execution_count": null,
   "id": "60783712-64b5-4ead-ae11-5d2eb55acdd1",
   "metadata": {},
   "outputs": [
    {
     "name": "stdout",
     "output_type": "stream",
     "text": [
      "16\n"
     ]
    }
   ],
   "source": [
    "print((lambda x: x**2)(4))"
   ]
  },
  {
   "cell_type": "code",
   "execution_count": null,
   "id": "a92f743a-13dc-477d-b506-c4aa1b1ad27c",
   "metadata": {},
   "outputs": [
    {
     "data": {
      "text/plain": [
       "<function __main__.<lambda>(city)>"
      ]
     },
     "execution_count": 62,
     "metadata": {},
     "output_type": "execute_result"
    }
   ],
   "source": [
    "lambda city: city[2]"
   ]
  },
  {
   "cell_type": "code",
   "execution_count": null,
   "id": "d0256158-5306-4b12-bca9-a27d9271924a",
   "metadata": {},
   "outputs": [
    {
     "data": {
      "text/plain": [
       "function"
      ]
     },
     "execution_count": 63,
     "metadata": {},
     "output_type": "execute_result"
    }
   ],
   "source": [
    "def h():\n",
    "    pass\n",
    "\n",
    "type(h)"
   ]
  },
  {
   "cell_type": "code",
   "execution_count": null,
   "id": "8a30006b-6929-4c81-a3d7-47492677a9e4",
   "metadata": {},
   "outputs": [
    {
     "data": {
      "text/plain": [
       "function"
      ]
     },
     "execution_count": 64,
     "metadata": {},
     "output_type": "execute_result"
    }
   ],
   "source": [
    "type(lambda: None)"
   ]
  },
  {
   "cell_type": "code",
   "execution_count": null,
   "id": "c667b1fb-aa8e-43dd-994b-8b288a776010",
   "metadata": {},
   "outputs": [],
   "source": []
  }
 ],
 "metadata": {
  "kernelspec": {
   "display_name": "",
   "name": ""
  },
  "language_info": {
   "name": ""
  }
 },
 "nbformat": 4,
 "nbformat_minor": 5
}
