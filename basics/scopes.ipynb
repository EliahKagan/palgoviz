{
 "cells": [
  {
   "cell_type": "code",
   "execution_count": 1,
   "id": "7d6a3c47-67f9-4b55-aad2-bc52096b9e38",
   "metadata": {},
   "outputs": [
    {
     "name": "stdout",
     "output_type": "stream",
     "text": [
      "Calling <function make_square_printer.<locals>.printer at 0x00000242B91049D0>:  4\n",
      "Calling <function make_square_printer.<locals>.printer at 0x00000242B9105120>:  9\n",
      "Calling <function make_square_printer.<locals>.printer at 0x00000242B91056C0>:  49\n"
     ]
    }
   ],
   "source": [
    "import scopes"
   ]
  },
  {
   "cell_type": "code",
   "execution_count": 2,
   "id": "75b12088-1f30-410c-9c06-862ee963b7ba",
   "metadata": {},
   "outputs": [],
   "source": [
    "#scopes.demo()"
   ]
  },
  {
   "cell_type": "code",
   "execution_count": 3,
   "id": "eb18e53c-36a8-4e9d-bb33-b3e0ec31d7d5",
   "metadata": {},
   "outputs": [],
   "source": [
    "#scopes.x"
   ]
  },
  {
   "cell_type": "code",
   "execution_count": 4,
   "id": "ab359e55-7577-4330-b9e8-93ba7531f143",
   "metadata": {},
   "outputs": [],
   "source": [
    "def h():\n",
    "    pass"
   ]
  },
  {
   "cell_type": "code",
   "execution_count": 5,
   "id": "dab92de2-5a80-4909-9fe0-2a98e0ce9849",
   "metadata": {},
   "outputs": [
    {
     "data": {
      "text/plain": [
       "<function __main__.h()>"
      ]
     },
     "execution_count": 5,
     "metadata": {},
     "output_type": "execute_result"
    }
   ],
   "source": [
    "h"
   ]
  },
  {
   "cell_type": "code",
   "execution_count": 9,
   "id": "676f455a-522e-4b5e-8384-7de3cfe8d118",
   "metadata": {},
   "outputs": [
    {
     "name": "stdout",
     "output_type": "stream",
     "text": [
      "0\n",
      "1\n",
      "2\n",
      "3\n",
      "4\n",
      "5\n",
      "6\n",
      "7\n",
      "8\n",
      "9\n"
     ]
    }
   ],
   "source": [
    "for i in range(10):  # for (i = 0; i < 10; ++i) ...\n",
    "    print(i)"
   ]
  },
  {
   "cell_type": "code",
   "execution_count": 10,
   "id": "68cd5c07-9334-4726-80bf-bf7a5be234d9",
   "metadata": {},
   "outputs": [
    {
     "data": {
      "text/plain": [
       "9"
      ]
     },
     "execution_count": 10,
     "metadata": {},
     "output_type": "execute_result"
    }
   ],
   "source": [
    "i"
   ]
  },
  {
   "cell_type": "code",
   "execution_count": 11,
   "id": "7d3ce86f-e426-46bb-9be4-0f7076c626ec",
   "metadata": {},
   "outputs": [],
   "source": [
    "# Some words and their lengths.\n",
    "words = [('cat', 3), ('squirrel', 8), ('mouse', 5)]"
   ]
  },
  {
   "cell_type": "code",
   "execution_count": 15,
   "id": "fd605912-05e9-44ad-9c02-f074ca41879c",
   "metadata": {},
   "outputs": [
    {
     "name": "stdout",
     "output_type": "stream",
     "text": [
      "The word \"cat\" has 3 letters.\n",
      "The word \"squirrel\" has 8 letters.\n",
      "The word \"mouse\" has 5 letters.\n"
     ]
    }
   ],
   "source": [
    "for pair in words:\n",
    "    word = pair[0]\n",
    "    length = pair[1]\n",
    "    print(f'The word \"{word}\" has {length} letters.')"
   ]
  },
  {
   "cell_type": "code",
   "execution_count": 16,
   "id": "537271be-0141-4bdc-a89e-cb6136a4c50e",
   "metadata": {},
   "outputs": [
    {
     "name": "stdout",
     "output_type": "stream",
     "text": [
      "The word \"cat\" has 3 letters.\n",
      "The word \"squirrel\" has 8 letters.\n",
      "The word \"mouse\" has 5 letters.\n"
     ]
    }
   ],
   "source": [
    "for pair in words:\n",
    "    word, length = pair\n",
    "    print(f'The word \"{word}\" has {length} letters.')"
   ]
  },
  {
   "cell_type": "raw",
   "id": "36aabcf1-289d-484f-b7d3-b8d33f0eaec9",
   "metadata": {},
   "source": [
    "for word, length in words: \n",
    "    print(f'The word \"{word}\" has {length} letters.')"
   ]
  },
  {
   "cell_type": "code",
   "execution_count": 18,
   "id": "b126f3b5-6caa-46da-909b-701a721b9f0b",
   "metadata": {},
   "outputs": [],
   "source": [
    "cities = ['St. Louis', 'Syracuse', 'Stalingrad', 'Berlin', 'Normandy']"
   ]
  },
  {
   "cell_type": "code",
   "execution_count": 19,
   "id": "339b2d10-ac48-4ab7-b0e1-65156adec31b",
   "metadata": {},
   "outputs": [],
   "source": [
    "# 0: St. Louis\n",
    "# 1: Syracuse\n",
    "# 2: Stalingrad\n",
    "# ..."
   ]
  },
  {
   "cell_type": "code",
   "execution_count": 22,
   "id": "b31618eb-073c-405d-9a40-88e7462f0524",
   "metadata": {},
   "outputs": [
    {
     "name": "stdout",
     "output_type": "stream",
     "text": [
      "0: St. Louis\n",
      "1: Syracuse\n",
      "2: Stalingrad\n",
      "3: Berlin\n",
      "4: Normandy\n"
     ]
    }
   ],
   "source": [
    "index = 0\n",
    "for city in cities:\n",
    "    print(f'{index}: {city}')\n",
    "    index += 1"
   ]
  },
  {
   "cell_type": "code",
   "execution_count": 26,
   "id": "f953ea55-6ee4-489c-b4f4-5468dddb59be",
   "metadata": {},
   "outputs": [
    {
     "name": "stdout",
     "output_type": "stream",
     "text": [
      "0: St. Louis\n",
      "1: Syracuse\n",
      "2: Stalingrad\n",
      "3: Berlin\n",
      "4: Normandy\n"
     ]
    }
   ],
   "source": [
    "for index in range(len(cities)):\n",
    "    print(f'{index}: {cities[index]}')"
   ]
  },
  {
   "cell_type": "code",
   "execution_count": 31,
   "id": "e05972d1-04cf-4cc9-a678-9cee1cdb948a",
   "metadata": {},
   "outputs": [
    {
     "data": {
      "text/plain": [
       "[(0, 'St. Louis'),\n",
       " (1, 'Syracuse'),\n",
       " (2, 'Stalingrad'),\n",
       " (3, 'Berlin'),\n",
       " (4, 'Normandy')]"
      ]
     },
     "execution_count": 31,
     "metadata": {},
     "output_type": "execute_result"
    }
   ],
   "source": [
    "list(enumerate(cities))"
   ]
  },
  {
   "cell_type": "code",
   "execution_count": 32,
   "id": "766580ef-0c06-442b-b5d8-54ee2f58970b",
   "metadata": {},
   "outputs": [
    {
     "name": "stdout",
     "output_type": "stream",
     "text": [
      "0: St. Louis\n",
      "1: Syracuse\n",
      "2: Stalingrad\n",
      "3: Berlin\n",
      "4: Normandy\n"
     ]
    }
   ],
   "source": [
    "for index, city in enumerate(cities):\n",
    "    print(f'{index}: {city}')"
   ]
  },
  {
   "cell_type": "code",
   "execution_count": null,
   "id": "380384cc-f013-4dce-a19d-c0a7354b6237",
   "metadata": {},
   "outputs": [],
   "source": []
  }
 ],
 "metadata": {
  "kernelspec": {
   "display_name": "Python 3 (ipykernel)",
   "language": "python",
   "name": "python3"
  },
  "language_info": {
   "codemirror_mode": {
    "name": "ipython",
    "version": 3
   },
   "file_extension": ".py",
   "mimetype": "text/x-python",
   "name": "python",
   "nbconvert_exporter": "python",
   "pygments_lexer": "ipython3",
   "version": "3.10.2"
  }
 },
 "nbformat": 4,
 "nbformat_minor": 5
}
