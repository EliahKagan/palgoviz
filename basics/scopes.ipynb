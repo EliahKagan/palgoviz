{
 "cells": [
  {
   "cell_type": "code",
   "execution_count": 1,
   "id": "7d6a3c47-67f9-4b55-aad2-bc52096b9e38",
   "metadata": {},
   "outputs": [],
   "source": [
    "import scopes"
   ]
  },
  {
   "cell_type": "code",
   "execution_count": 3,
   "id": "75b12088-1f30-410c-9c06-862ee963b7ba",
   "metadata": {},
   "outputs": [
    {
     "name": "stdout",
     "output_type": "stream",
     "text": [
      "outer\n"
     ]
    }
   ],
   "source": [
    "scopes.f()"
   ]
  },
  {
   "cell_type": "code",
   "execution_count": null,
   "id": "eb18e53c-36a8-4e9d-bb33-b3e0ec31d7d5",
   "metadata": {},
   "outputs": [],
   "source": []
  }
 ],
 "metadata": {
  "kernelspec": {
   "display_name": "Python 3 (ipykernel)",
   "language": "python",
   "name": "python3"
  },
  "language_info": {
   "codemirror_mode": {
    "name": "ipython",
    "version": 3
   },
   "file_extension": ".py",
   "mimetype": "text/x-python",
   "name": "python",
   "nbconvert_exporter": "python",
   "pygments_lexer": "ipython3",
   "version": "3.10.2"
  }
 },
 "nbformat": 4,
 "nbformat_minor": 5
}
