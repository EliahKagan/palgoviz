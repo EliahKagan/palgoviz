{
 "cells": [
  {
   "cell_type": "markdown",
   "id": "459e5489-cb3e-4100-bb59-18e121916f59",
   "metadata": {},
   "source": [
    "# Merging"
   ]
  },
  {
   "cell_type": "markdown",
   "id": "459e5489-cb3e-4100-bb59-18e121916f59",
   "metadata": {},
   "source": [
    "# Merging"
   ]
  },
  {
   "cell_type": "markdown",
   "id": "8c855845-638e-42c3-ab20-bc73a5db582f",
   "metadata": {},
   "source": [
    "## Part 1\n",
    "\n",
    "Given two sequences, each of which is known to be sorted, can you merge them, in sorted order, into a newly created list? The new list must itself be sorted. Do not modify the input sequences.\n",
    "\n",
    "Can the property that each sequence starts out sorted be taken advantage of, to improve efficiency?\n",
    "\n",
    "If you come up with an algorithm to do this, what is its asymptotic time complexity? If a sequence $a$ has length $m$ and a sequence $b$ has length $n$, how long does it take to make a new sorted list with all the elements of $a$ and $b$, as a function of $m$ and $n$?"
   ]
  },
  {
   "cell_type": "markdown",
   "id": "c00b04a8-9e6c-4bba-8050-7f1b28c33a7f",
   "metadata": {},
   "source": [
    "## Part 2\n",
    "\n",
    "It is ever possible to infer, merely from the *length* of a sequence, whether or not the sequence is sorted?\n",
    "\n",
    "Based on this insight, and equipped with a `merge` function from part 1 (above), can you come up with an algorithm for taking any sequence&mdash;of any length&mdash;and producing a list of its elements, but rearranged into sorted order?\n",
    "\n",
    "In other words, does the ability to merge two sorted sequences into a sorted sequence, taken together with the&mdash;admittedly limited&mdash;relationship between length and sortedness, give rise to a sorting algorithm?\n",
    "\n",
    "How would such an algorithm work? What would its time complexity be?"
   ]
  },
  {
   "cell_type": "code",
   "execution_count": 1,
   "id": "0920976f-aa44-4404-8782-f1a87d610399",
   "metadata": {},
   "outputs": [],
   "source": [
    "# O(n)\n",
    "\n",
    "def linear():\n",
    "    for i in range(n):\n",
    "        print(i)\n",
    "\n",
    "    for i in range(n):\n",
    "        print(i)"
   ]
  },
  {
   "cell_type": "code",
   "execution_count": 2,
   "id": "7fa0b858-d254-467d-bc53-548100b149a2",
   "metadata": {},
   "outputs": [],
   "source": [
    "# O(n**2)\n",
    "\n",
    "def quadratic():\n",
    "    for i in range(n):\n",
    "        for j in range(n):\n",
    "            print(i, j)"
   ]
  },
  {
   "cell_type": "code",
   "execution_count": 3,
   "id": "9377216e-4b2c-4bbf-96ba-a81aef5cee7d",
   "metadata": {},
   "outputs": [],
   "source": [
    "# O(n)\n",
    "\n",
    "def also_linear():\n",
    "    for i in range(n):\n",
    "        print(i)\n",
    "        print(i)"
   ]
  },
  {
   "cell_type": "code",
   "execution_count": 4,
   "id": "4ed21b28-30d8-4697-9a4c-be785a695700",
   "metadata": {},
   "outputs": [],
   "source": [
    "# O(n**2)\n",
    "\n",
    "def also_quadratic():\n",
    "    for i in range(n):\n",
    "        log_n_operation(i)\n",
    "        n_time_operation(i)"
   ]
  },
  {
   "cell_type": "code",
   "execution_count": 5,
   "id": "c8b7f865-078a-4edb-9938-909a3aa3a282",
   "metadata": {},
   "outputs": [],
   "source": [
    "from recursion import * "
   ]
  },
  {
   "cell_type": "code",
   "execution_count": 6,
   "id": "cd99371c-f787-4f1e-bde5-b6184dfab47c",
   "metadata": {},
   "outputs": [
    {
     "data": {
      "text/plain": [
       "[1, 2, 3, 4, 5, 6]"
      ]
     },
     "execution_count": 6,
     "metadata": {},
     "output_type": "execute_result"
    }
   ],
   "source": [
    "merge_two([1,3,5], [2,4,6])"
   ]
  },
  {
   "cell_type": "code",
   "execution_count": 7,
   "id": "f4d0ab84-0f06-4b81-94f7-64602994f97d",
   "metadata": {},
   "outputs": [
    {
     "data": {
      "text/plain": [
       "[2, 3, 4]"
      ]
     },
     "execution_count": 7,
     "metadata": {},
     "output_type": "execute_result"
    }
   ],
   "source": [
    "list([2,3,4])"
   ]
  },
  {
   "cell_type": "code",
   "execution_count": 8,
   "id": "f3c957d8-74b2-4cba-9bad-935ecb50a556",
   "metadata": {},
   "outputs": [
    {
     "name": "stdout",
     "output_type": "stream",
     "text": [
      "Help on method_descriptor:\n",
      "\n",
      "insert(self, index, object, /)\n",
      "    Insert object before index.\n",
      "\n"
     ]
    }
   ],
   "source": [
    "help(list.insert)"
   ]
  },
  {
   "cell_type": "code",
   "execution_count": 9,
   "id": "a940814b-f944-4a10-9f5e-6969f4a618d0",
   "metadata": {},
   "outputs": [],
   "source": [
    "a = []"
   ]
  },
  {
   "cell_type": "code",
   "execution_count": 10,
   "id": "a46b4720-969f-4f22-93a3-fc1379d420ec",
   "metadata": {},
   "outputs": [],
   "source": [
    "#a[0]"
   ]
  },
  {
   "cell_type": "code",
   "execution_count": 11,
   "id": "b8dd44d5-2d54-40a2-9ed0-e0fa92ccaa11",
   "metadata": {},
   "outputs": [],
   "source": [
    "from recursion import *"
   ]
  },
  {
   "cell_type": "code",
   "execution_count": 12,
   "id": "50b5687e-63e0-45e4-9403-fec0402f306e",
   "metadata": {},
   "outputs": [
    {
     "data": {
      "text/plain": [
       "[1, 2, 3, 4, 5, 6]"
      ]
     },
     "execution_count": 12,
     "metadata": {},
     "output_type": "execute_result"
    }
   ],
   "source": [
    "merge_two([1, 3, 5], [2, 4, 6])"
   ]
  },
  {
   "cell_type": "code",
   "execution_count": 13,
   "id": "5e11d284-53c6-4f13-9953-3ae3a66f21eb",
   "metadata": {},
   "outputs": [
    {
     "data": {
      "text/plain": [
       "[1, 2, 3, 4, 5, 6]"
      ]
     },
     "execution_count": 13,
     "metadata": {},
     "output_type": "execute_result"
    }
   ],
   "source": [
    "merge_two([2, 4, 6], [1, 3, 5])"
   ]
  },
  {
   "cell_type": "code",
   "execution_count": 14,
   "id": "01c2517d-3e4f-4a75-b06e-9dc4c373a6bd",
   "metadata": {},
   "outputs": [
    {
     "data": {
      "text/plain": [
       "[1, 1, 4, 7, 8]"
      ]
     },
     "execution_count": 14,
     "metadata": {},
     "output_type": "execute_result"
    }
   ],
   "source": [
    "merge_two((1, 1, 4, 7, 8), ())"
   ]
  },
  {
   "cell_type": "code",
   "execution_count": 15,
   "id": "58f6e3f0-a50c-44bb-b95f-df4bc89a0fec",
   "metadata": {},
   "outputs": [],
   "source": [
    "a = [10, 20, 30, 40, 50]\n",
    "b = [60, 70]"
   ]
  },
  {
   "cell_type": "code",
   "execution_count": 16,
   "id": "513a048c-3b74-4e94-966a-4b134b906dff",
   "metadata": {},
   "outputs": [
    {
     "data": {
      "text/plain": [
       "[10, 20, 30, 40, 50]"
      ]
     },
     "execution_count": 16,
     "metadata": {},
     "output_type": "execute_result"
    }
   ],
   "source": [
    "a"
   ]
  },
  {
   "cell_type": "code",
   "execution_count": 17,
   "id": "1316fbc8-6e83-4c7e-9e7f-2976467867d6",
   "metadata": {},
   "outputs": [
    {
     "data": {
      "text/plain": [
       "[60, 70]"
      ]
     },
     "execution_count": 17,
     "metadata": {},
     "output_type": "execute_result"
    }
   ],
   "source": [
    "b"
   ]
  },
  {
   "cell_type": "code",
   "execution_count": 18,
   "id": "8dada784-16a6-4990-9f58-8dc71d6a9f9f",
   "metadata": {},
   "outputs": [],
   "source": [
    "a.extend(b)"
   ]
  },
  {
   "cell_type": "code",
   "execution_count": 19,
   "id": "54c5dade-4dbc-4cdb-a1f3-9889b7e06c9c",
   "metadata": {},
   "outputs": [
    {
     "data": {
      "text/plain": [
       "[10, 20, 30, 40, 50, 60, 70]"
      ]
     },
     "execution_count": 19,
     "metadata": {},
     "output_type": "execute_result"
    }
   ],
   "source": [
    "a"
   ]
  },
  {
   "cell_type": "code",
   "execution_count": 20,
   "id": "a164e3c5-ee14-4513-a808-3bc0c8bcac19",
   "metadata": {},
   "outputs": [
    {
     "data": {
      "text/plain": [
       "[]"
      ]
     },
     "execution_count": 20,
     "metadata": {},
     "output_type": "execute_result"
    }
   ],
   "source": [
    "[] or []"
   ]
  },
  {
   "cell_type": "code",
   "execution_count": 21,
   "id": "056e7763-fdd2-40a6-99e4-de19244baeca",
   "metadata": {},
   "outputs": [
    {
     "data": {
      "text/plain": [
       "[10]"
      ]
     },
     "execution_count": 21,
     "metadata": {},
     "output_type": "execute_result"
    }
   ],
   "source": [
    "[10] or [20, 30]"
   ]
  },
  {
   "cell_type": "code",
   "execution_count": 22,
   "id": "f44425c9-2da6-43bd-8a83-10b4eaa4897d",
   "metadata": {},
   "outputs": [
    {
     "data": {
      "text/plain": [
       "[10, 20]"
      ]
     },
     "execution_count": 22,
     "metadata": {},
     "output_type": "execute_result"
    }
   ],
   "source": [
    "[] or [10, 20]"
   ]
  },
  {
   "cell_type": "code",
   "execution_count": 23,
   "id": "585a8abb-ea54-4314-b37f-6351d6fba7bb",
   "metadata": {},
   "outputs": [
    {
     "data": {
      "text/plain": [
       "[10, 20]"
      ]
     },
     "execution_count": 23,
     "metadata": {},
     "output_type": "execute_result"
    }
   ],
   "source": [
    "[10, 20] or []"
   ]
  },
  {
   "cell_type": "code",
   "execution_count": null,
   "id": "8c07cf08-b893-46d3-9075-15764da66ae5",
   "metadata": {},
   "outputs": [],
   "source": []
  }
 ],
 "metadata": {
  "kernelspec": {
   "display_name": "Python 3 (ipykernel)",
   "language": "python",
   "name": "python3"
  },
  "language_info": {
   "codemirror_mode": {
    "name": "ipython",
    "version": 3
   },
   "file_extension": ".py",
   "mimetype": "text/x-python",
   "name": "python",
   "nbconvert_exporter": "python",
   "pygments_lexer": "ipython3",
   "version": "3.10.2"
  }
 },
 "nbformat": 4,
 "nbformat_minor": 5
}
