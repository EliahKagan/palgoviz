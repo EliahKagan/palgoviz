{
 "cells": [
  {
   "cell_type": "markdown",
   "id": "459e5489-cb3e-4100-bb59-18e121916f59",
   "metadata": {},
   "source": [
    "# Merging"
   ]
  },
  {
   "cell_type": "markdown",
   "id": "8c855845-638e-42c3-ab20-bc73a5db582f",
   "metadata": {},
   "source": [
    "## Part 1\n",
    "\n",
    "Given two sequences, each of which is known to be sorted, can you merge them, in sorted order, into a newly created list? The new list must itself be sorted. Do not modify the input sequences.\n",
    "\n",
    "Can the property that each sequence starts out sorted be taken advantage of, to improve efficiency?\n",
    "\n",
    "If you come up with an algorithm to do this, what is its asymptotic time complexity? If a sequence $a$ has length $m$ and a sequence $b$ has length $n$, how long does it take to make a new sorted list with all the elements of $a$ and $b$, as a function of $m$ and $n$?"
   ]
  },
  {
   "cell_type": "markdown",
   "id": "c00b04a8-9e6c-4bba-8050-7f1b28c33a7f",
   "metadata": {},
   "source": [
    "## Part 2\n",
    "\n",
    "It is ever possible to infer, merely from the *length* of a sequence, whether or not the sequence is sorted?\n",
    "\n",
    "Based on this insight, and equipped with a `merge` function from part 1 (above), can you come up with an algorithm for taking any sequence&mdash;of any length&mdash;and producing a list of its elements, but rearranged into sorted order?\n",
    "\n",
    "In other words, does the ability to merge two sorted sequences into a sorted sequence, taken together with the&mdash;admittedly limited&mdash;relationship between length and sortedness, give rise to a sorting algorithm?\n",
    "\n",
    "How would such an algorithm work? What would its time complexity be?"
   ]
  },
  {
   "cell_type": "code",
   "execution_count": null,
   "id": "0920976f-aa44-4404-8782-f1a87d610399",
   "metadata": {},
   "outputs": [],
   "source": []
  }
 ],
 "metadata": {
  "kernelspec": {
   "display_name": "Python 3 (ipykernel)",
   "language": "python",
   "name": "python3"
  },
  "language_info": {
   "codemirror_mode": {
    "name": "ipython",
    "version": 3
   },
   "file_extension": ".py",
   "mimetype": "text/x-python",
   "name": "python",
   "nbconvert_exporter": "python",
   "pygments_lexer": "ipython3",
   "version": "3.10.2"
  }
 },
 "nbformat": 4,
 "nbformat_minor": 5
}
