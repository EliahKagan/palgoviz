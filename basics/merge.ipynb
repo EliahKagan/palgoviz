{
 "cells": [
  {
   "cell_type": "markdown",
   "id": "459e5489-cb3e-4100-bb59-18e121916f59",
   "metadata": {},
   "source": [
    "# Merging"
   ]
  },
  {
   "cell_type": "markdown",
   "id": "8c855845-638e-42c3-ab20-bc73a5db582f",
   "metadata": {},
   "source": [
    "## Part 1\n",
    "\n",
    "Given two sequences, each of which is known to be sorted, can you merge them, in sorted order, into a newly created list? The new list must itself be sorted. Do not modify the input sequences.\n",
    "\n",
    "Can the property that each sequence starts out sorted be taken advantage of, to improve efficiency?\n",
    "\n",
    "If you come up with an algorithm to do this, what is its asymptotic time complexity? If a sequence $a$ has length $m$ and a sequence $b$ has length $n$, how long does it take to make a new sorted list with all the elements of $a$ and $b$, as a function of $m$ and $n$?"
   ]
  },
  {
   "cell_type": "markdown",
   "id": "c00b04a8-9e6c-4bba-8050-7f1b28c33a7f",
   "metadata": {},
   "source": [
    "## Part 2\n",
    "\n",
    "It is ever possible to infer, merely from the *length* of a sequence, whether or not the sequence is sorted?\n",
    "\n",
    "Based on this insight, and equipped with a `merge` function from part 1 (above), can you come up with an algorithm for taking any sequence&mdash;of any length&mdash;and producing a list of its elements, but rearranged into sorted order?\n",
    "\n",
    "In other words, does the ability to merge two sorted sequences into a sorted sequence, taken together with the&mdash;admittedly limited&mdash;relationship between length and sortedness, give rise to a sorting algorithm?\n",
    "\n",
    "How would such an algorithm work? What would its time complexity be?"
   ]
  },
  {
   "cell_type": "code",
   "execution_count": null,
   "id": "0920976f-aa44-4404-8782-f1a87d610399",
   "metadata": {},
   "outputs": [],
   "source": [
    "# O(n)\n",
    "\n",
    "for i in range(n):\n",
    "    print(i)\n",
    "\n",
    "for i in range(n):\n",
    "    print(i)"
   ]
  },
  {
   "cell_type": "code",
   "execution_count": null,
   "id": "7fa0b858-d254-467d-bc53-548100b149a2",
   "metadata": {},
   "outputs": [],
   "source": [
    "# O(n**2)\n",
    "\n",
    "for i in range(n):\n",
    "    for j in range(n):\n",
    "        print(i, j)"
   ]
  },
  {
   "cell_type": "code",
   "execution_count": null,
   "id": "9377216e-4b2c-4bbf-96ba-a81aef5cee7d",
   "metadata": {},
   "outputs": [],
   "source": [
    "# O(n)\n",
    "\n",
    "for i in range(n):\n",
    "    print(i)\n",
    "    print(i)"
   ]
  },
  {
   "cell_type": "code",
   "execution_count": null,
   "id": "4ed21b28-30d8-4697-9a4c-be785a695700",
   "metadata": {},
   "outputs": [],
   "source": [
    "# O(n**2)\n",
    "\n",
    "for i in range(n):\n",
    "    log_n_operation(i)\n",
    "    n_time_operation(i)"
   ]
  },
  {
   "cell_type": "code",
   "execution_count": 1,
   "id": "c8b7f865-078a-4edb-9938-909a3aa3a282",
   "metadata": {},
   "outputs": [],
   "source": [
    "from recursion import * "
   ]
  },
  {
   "cell_type": "code",
   "execution_count": 2,
   "id": "cd99371c-f787-4f1e-bde5-b6184dfab47c",
   "metadata": {},
   "outputs": [
    {
     "ename": "TypeError",
     "evalue": "object of type 'int' has no len()",
     "output_type": "error",
     "traceback": [
      "\u001b[1;31m---------------------------------------------------------------------------\u001b[0m",
      "\u001b[1;31mTypeError\u001b[0m                                 Traceback (most recent call last)",
      "Input \u001b[1;32mIn [2]\u001b[0m, in \u001b[0;36m<module>\u001b[1;34m\u001b[0m\n\u001b[1;32m----> 1\u001b[0m \u001b[43mmerge_two\u001b[49m\u001b[43m(\u001b[49m\u001b[43m[\u001b[49m\u001b[38;5;241;43m1\u001b[39;49m\u001b[43m,\u001b[49m\u001b[38;5;241;43m3\u001b[39;49m\u001b[43m,\u001b[49m\u001b[38;5;241;43m5\u001b[39;49m\u001b[43m]\u001b[49m\u001b[43m,\u001b[49m\u001b[43m \u001b[49m\u001b[43m[\u001b[49m\u001b[38;5;241;43m2\u001b[39;49m\u001b[43m,\u001b[49m\u001b[38;5;241;43m4\u001b[39;49m\u001b[43m,\u001b[49m\u001b[38;5;241;43m6\u001b[39;49m\u001b[43m]\u001b[49m\u001b[43m)\u001b[49m\n",
      "File \u001b[1;32m~\\source\\repos\\algoviz\\basics\\recursion.py:275\u001b[0m, in \u001b[0;36mmerge_two\u001b[1;34m(values1, values2)\u001b[0m\n\u001b[0;32m    273\u001b[0m resultlist \u001b[38;5;241m=\u001b[39m \u001b[38;5;28mlist\u001b[39m(values2)\n\u001b[0;32m    274\u001b[0m \u001b[38;5;28;01mfor\u001b[39;00m value1 \u001b[38;5;129;01min\u001b[39;00m values1: \n\u001b[1;32m--> 275\u001b[0m     index \u001b[38;5;241m=\u001b[39m bisect\u001b[38;5;241m.\u001b[39mbisect_left(resultlist, value1)\n\u001b[0;32m    276\u001b[0m     resultlist\u001b[38;5;241m.\u001b[39minsert(index, value1)\n\u001b[0;32m    277\u001b[0m     \u001b[38;5;28mprint\u001b[39m (\u001b[38;5;124mf\u001b[39m\u001b[38;5;124m'\u001b[39m\u001b[38;5;132;01m{\u001b[39;00mresultlist\u001b[38;5;132;01m}\u001b[39;00m\u001b[38;5;124m'\u001b[39m)\n",
      "\u001b[1;31mTypeError\u001b[0m: object of type 'int' has no len()"
     ]
    }
   ],
   "source": [
    "merge_two([1,3,5], [2,4,6])"
   ]
  },
  {
   "cell_type": "code",
   "execution_count": 3,
   "id": "f4d0ab84-0f06-4b81-94f7-64602994f97d",
   "metadata": {},
   "outputs": [
    {
     "data": {
      "text/plain": [
       "[2, 3, 4]"
      ]
     },
     "execution_count": 3,
     "metadata": {},
     "output_type": "execute_result"
    }
   ],
   "source": [
    "list([2,3,4])"
   ]
  },
  {
   "cell_type": "code",
   "execution_count": 4,
   "id": "f3c957d8-74b2-4cba-9bad-935ecb50a556",
   "metadata": {},
   "outputs": [
    {
     "name": "stdout",
     "output_type": "stream",
     "text": [
      "Help on method_descriptor:\n",
      "\n",
      "insert(self, index, object, /)\n",
      "    Insert object before index.\n",
      "\n"
     ]
    }
   ],
   "source": [
    "help(list.insert)"
   ]
  },
  {
   "cell_type": "code",
   "execution_count": null,
   "id": "a940814b-f944-4a10-9f5e-6969f4a618d0",
   "metadata": {},
   "outputs": [],
   "source": []
  }
 ],
 "metadata": {
  "kernelspec": {
   "display_name": "Python 3 (ipykernel)",
   "language": "python",
   "name": "python3"
  },
  "language_info": {
   "codemirror_mode": {
    "name": "ipython",
    "version": 3
   },
   "file_extension": ".py",
   "mimetype": "text/x-python",
   "name": "python",
   "nbconvert_exporter": "python",
   "pygments_lexer": "ipython3",
   "version": "3.10.2"
  }
 },
 "nbformat": 4,
 "nbformat_minor": 5
}
