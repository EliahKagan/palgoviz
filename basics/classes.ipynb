{
 "cells": [
  {
   "cell_type": "code",
   "execution_count": 24,
   "id": "c9648b9c-55a8-48a6-9075-520b79ee721c",
   "metadata": {},
   "outputs": [],
   "source": [
    "class Widget:\n",
    "    \"\"\"A thing we can frobnicate.\"\"\"\n",
    "    def frobnicate(self):\n",
    "        print(f'{self} is frobnicating, {self} is frobnicating real nice.')"
   ]
  },
  {
   "cell_type": "code",
   "execution_count": 25,
   "id": "9ead9fe3-7266-461d-b73d-e4d7bb0e140f",
   "metadata": {},
   "outputs": [],
   "source": [
    "wf = Widget()"
   ]
  },
  {
   "cell_type": "code",
   "execution_count": 26,
   "id": "06c8aea3-3813-43ad-81cd-b4eca3871bc2",
   "metadata": {},
   "outputs": [
    {
     "name": "stdout",
     "output_type": "stream",
     "text": [
      "<__main__.Widget object at 0x0000026449E9D600> is frobnicating, <__main__.Widget object at 0x0000026449E9D600> is frobnicating real nice.\n"
     ]
    }
   ],
   "source": [
    "wf.frobnicate()"
   ]
  },
  {
   "cell_type": "code",
   "execution_count": 4,
   "id": "16b48613-0011-4c5b-ad7b-9bcf012d6cf1",
   "metadata": {},
   "outputs": [
    {
     "data": {
      "text/plain": [
       "(object,)"
      ]
     },
     "execution_count": 4,
     "metadata": {},
     "output_type": "execute_result"
    }
   ],
   "source": [
    "Widget.__bases__"
   ]
  },
  {
   "cell_type": "code",
   "execution_count": 5,
   "id": "1b3cea89-4f1f-4054-b5e4-4f69a520516e",
   "metadata": {},
   "outputs": [
    {
     "data": {
      "text/plain": [
       "[__main__.Widget, object]"
      ]
     },
     "execution_count": 5,
     "metadata": {},
     "output_type": "execute_result"
    }
   ],
   "source": [
    "Widget.mro()"
   ]
  },
  {
   "cell_type": "code",
   "execution_count": 6,
   "id": "a159d2f5-f8b9-4585-8dcf-4b8760e9b6d6",
   "metadata": {},
   "outputs": [],
   "source": [
    "o = object()"
   ]
  },
  {
   "cell_type": "code",
   "execution_count": 7,
   "id": "1fccd5da-cfea-44c8-a99e-75abeb8cb48e",
   "metadata": {},
   "outputs": [],
   "source": [
    "w = Widget()"
   ]
  },
  {
   "cell_type": "code",
   "execution_count": 8,
   "id": "48f4614a-3e93-474b-844a-cba7291fe67d",
   "metadata": {},
   "outputs": [
    {
     "data": {
      "text/plain": [
       "'<__main__.Widget object at 0x000002644873BC10>'"
      ]
     },
     "execution_count": 8,
     "metadata": {},
     "output_type": "execute_result"
    }
   ],
   "source": [
    "repr(w)"
   ]
  },
  {
   "cell_type": "code",
   "execution_count": 10,
   "id": "069b7973-1e93-420c-b98e-50a79658008a",
   "metadata": {},
   "outputs": [
    {
     "data": {
      "text/plain": [
       "<__main__.Widget at 0x2644873bc10>"
      ]
     },
     "execution_count": 10,
     "metadata": {},
     "output_type": "execute_result"
    }
   ],
   "source": [
    "w # the same as the code above, looks different because jupyter uses ipython"
   ]
  },
  {
   "cell_type": "code",
   "execution_count": 11,
   "id": "7fec50bd-e224-4e48-9a9e-0a5008551924",
   "metadata": {},
   "outputs": [],
   "source": [
    "w.myattribute = 'my attribute' "
   ]
  },
  {
   "cell_type": "code",
   "execution_count": 12,
   "id": "dba2dc50-828a-43cf-a5fc-480f916b203b",
   "metadata": {},
   "outputs": [
    {
     "data": {
      "text/plain": [
       "'my attribute'"
      ]
     },
     "execution_count": 12,
     "metadata": {},
     "output_type": "execute_result"
    }
   ],
   "source": [
    "w.myattribute"
   ]
  },
  {
   "cell_type": "code",
   "execution_count": 13,
   "id": "94b0924e-4997-494a-b711-6d484678044b",
   "metadata": {},
   "outputs": [
    {
     "data": {
      "text/plain": [
       "164358470593"
      ]
     },
     "execution_count": 13,
     "metadata": {},
     "output_type": "execute_result"
    }
   ],
   "source": [
    "hash(w)"
   ]
  },
  {
   "cell_type": "code",
   "execution_count": 14,
   "id": "e786d8b2-5051-42c9-a1bb-d536d8905d82",
   "metadata": {},
   "outputs": [
    {
     "data": {
      "text/plain": [
       "__main__.Widget"
      ]
     },
     "execution_count": 14,
     "metadata": {},
     "output_type": "execute_result"
    }
   ],
   "source": [
    "type(w)"
   ]
  },
  {
   "cell_type": "code",
   "execution_count": 15,
   "id": "46108675-ba1a-4ddb-9bec-486cb95fd2d6",
   "metadata": {},
   "outputs": [
    {
     "data": {
      "text/plain": [
       "type"
      ]
     },
     "execution_count": 15,
     "metadata": {},
     "output_type": "execute_result"
    }
   ],
   "source": [
    "type(Widget)"
   ]
  },
  {
   "cell_type": "code",
   "execution_count": 17,
   "id": "d6de47d8-7eee-49f7-bdba-7c1afdecd243",
   "metadata": {},
   "outputs": [
    {
     "data": {
      "text/plain": [
       "type"
      ]
     },
     "execution_count": 17,
     "metadata": {},
     "output_type": "execute_result"
    }
   ],
   "source": [
    "type(int)"
   ]
  },
  {
   "cell_type": "code",
   "execution_count": 18,
   "id": "5f9c8874-31af-42ca-ac72-ca5255865101",
   "metadata": {},
   "outputs": [
    {
     "data": {
      "text/plain": [
       "True"
      ]
     },
     "execution_count": 18,
     "metadata": {},
     "output_type": "execute_result"
    }
   ],
   "source": [
    "isinstance(w, Widget)"
   ]
  },
  {
   "cell_type": "code",
   "execution_count": 19,
   "id": "4deb1bdd-1645-4f0f-ba11-0b55d28d474e",
   "metadata": {},
   "outputs": [],
   "source": [
    "class Gadget(Widget):\n",
    "    pass"
   ]
  },
  {
   "cell_type": "code",
   "execution_count": 20,
   "id": "d32f5e1f-210f-46c1-a7b0-eee581febf96",
   "metadata": {},
   "outputs": [],
   "source": [
    "g = Gadget()"
   ]
  },
  {
   "cell_type": "code",
   "execution_count": 21,
   "id": "d44599cd-8692-4780-9c01-7b486a1e21f3",
   "metadata": {},
   "outputs": [
    {
     "data": {
      "text/plain": [
       "__main__.Gadget"
      ]
     },
     "execution_count": 21,
     "metadata": {},
     "output_type": "execute_result"
    }
   ],
   "source": [
    "type(g)"
   ]
  },
  {
   "cell_type": "code",
   "execution_count": 22,
   "id": "997c80de-642e-4b71-adfb-662cf0d44731",
   "metadata": {},
   "outputs": [
    {
     "data": {
      "text/plain": [
       "True"
      ]
     },
     "execution_count": 22,
     "metadata": {},
     "output_type": "execute_result"
    }
   ],
   "source": [
    "isinstance(g, Gadget)"
   ]
  },
  {
   "cell_type": "code",
   "execution_count": 23,
   "id": "9bf6c4f8-643e-4e4b-9fd2-e0d509e81912",
   "metadata": {},
   "outputs": [
    {
     "data": {
      "text/plain": [
       "True"
      ]
     },
     "execution_count": 23,
     "metadata": {},
     "output_type": "execute_result"
    }
   ],
   "source": [
    "isinstance(g, Widget)"
   ]
  },
  {
   "cell_type": "code",
   "execution_count": null,
   "id": "3156da34-2c2a-4fad-a635-bb7f093d71d6",
   "metadata": {},
   "outputs": [],
   "source": []
  }
 ],
 "metadata": {
  "kernelspec": {
   "display_name": "Python 3 (ipykernel)",
   "language": "python",
   "name": "python3"
  },
  "language_info": {
   "codemirror_mode": {
    "name": "ipython",
    "version": 3
   },
   "file_extension": ".py",
   "mimetype": "text/x-python",
   "name": "python",
   "nbconvert_exporter": "python",
   "pygments_lexer": "ipython3",
   "version": "3.10.2"
  }
 },
 "nbformat": 4,
 "nbformat_minor": 5
}
