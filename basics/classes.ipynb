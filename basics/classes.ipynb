{
 "cells": [
  {
   "cell_type": "code",
   "execution_count": 1,
   "id": "c9648b9c-55a8-48a6-9075-520b79ee721c",
   "metadata": {},
   "outputs": [],
   "source": [
    "class Widget:\n",
    "    \"\"\"A thing we can frobnicate.\"\"\"\n",
    "    def frobnicate(self):\n",
    "        print(f'{self} is frobnicating, {self} is frobnicating real nice.')"
   ]
  },
  {
   "cell_type": "code",
   "execution_count": 2,
   "id": "9ead9fe3-7266-461d-b73d-e4d7bb0e140f",
   "metadata": {},
   "outputs": [],
   "source": [
    "wf = Widget()"
   ]
  },
  {
   "cell_type": "code",
   "execution_count": 3,
   "id": "06c8aea3-3813-43ad-81cd-b4eca3871bc2",
   "metadata": {},
   "outputs": [
    {
     "name": "stdout",
     "output_type": "stream",
     "text": [
      "<__main__.Widget object at 0x000002875C840FD0> is frobnicating, <__main__.Widget object at 0x000002875C840FD0> is frobnicating real nice.\n"
     ]
    }
   ],
   "source": [
    "wf.frobnicate()"
   ]
  },
  {
   "cell_type": "code",
   "execution_count": 4,
   "id": "16b48613-0011-4c5b-ad7b-9bcf012d6cf1",
   "metadata": {},
   "outputs": [
    {
     "data": {
      "text/plain": [
       "(object,)"
      ]
     },
     "execution_count": 4,
     "metadata": {},
     "output_type": "execute_result"
    }
   ],
   "source": [
    "Widget.__bases__"
   ]
  },
  {
   "cell_type": "code",
   "execution_count": 5,
   "id": "1b3cea89-4f1f-4054-b5e4-4f69a520516e",
   "metadata": {},
   "outputs": [
    {
     "data": {
      "text/plain": [
       "[__main__.Widget, object]"
      ]
     },
     "execution_count": 5,
     "metadata": {},
     "output_type": "execute_result"
    }
   ],
   "source": [
    "Widget.mro()"
   ]
  },
  {
   "cell_type": "code",
   "execution_count": 6,
   "id": "a159d2f5-f8b9-4585-8dcf-4b8760e9b6d6",
   "metadata": {},
   "outputs": [],
   "source": [
    "o = object()"
   ]
  },
  {
   "cell_type": "code",
   "execution_count": 7,
   "id": "1fccd5da-cfea-44c8-a99e-75abeb8cb48e",
   "metadata": {},
   "outputs": [],
   "source": [
    "w = Widget()"
   ]
  },
  {
   "cell_type": "code",
   "execution_count": 8,
   "id": "48f4614a-3e93-474b-844a-cba7291fe67d",
   "metadata": {},
   "outputs": [
    {
     "data": {
      "text/plain": [
       "'<__main__.Widget object at 0x000002875C8417E0>'"
      ]
     },
     "execution_count": 8,
     "metadata": {},
     "output_type": "execute_result"
    }
   ],
   "source": [
    "repr(w)"
   ]
  },
  {
   "cell_type": "code",
   "execution_count": 9,
   "id": "069b7973-1e93-420c-b98e-50a79658008a",
   "metadata": {},
   "outputs": [
    {
     "data": {
      "text/plain": [
       "<__main__.Widget at 0x2875c8417e0>"
      ]
     },
     "execution_count": 9,
     "metadata": {},
     "output_type": "execute_result"
    }
   ],
   "source": [
    "w # the same as the code above, looks different because jupyter uses ipython"
   ]
  },
  {
   "cell_type": "code",
   "execution_count": 10,
   "id": "7fec50bd-e224-4e48-9a9e-0a5008551924",
   "metadata": {},
   "outputs": [],
   "source": [
    "w.myattribute = 'my attribute' "
   ]
  },
  {
   "cell_type": "code",
   "execution_count": 11,
   "id": "dba2dc50-828a-43cf-a5fc-480f916b203b",
   "metadata": {},
   "outputs": [
    {
     "data": {
      "text/plain": [
       "'my attribute'"
      ]
     },
     "execution_count": 11,
     "metadata": {},
     "output_type": "execute_result"
    }
   ],
   "source": [
    "w.myattribute"
   ]
  },
  {
   "cell_type": "code",
   "execution_count": 12,
   "id": "94b0924e-4997-494a-b711-6d484678044b",
   "metadata": {},
   "outputs": [
    {
     "data": {
      "text/plain": [
       "173774750078"
      ]
     },
     "execution_count": 12,
     "metadata": {},
     "output_type": "execute_result"
    }
   ],
   "source": [
    "hash(w)"
   ]
  },
  {
   "cell_type": "code",
   "execution_count": 13,
   "id": "e786d8b2-5051-42c9-a1bb-d536d8905d82",
   "metadata": {},
   "outputs": [
    {
     "data": {
      "text/plain": [
       "__main__.Widget"
      ]
     },
     "execution_count": 13,
     "metadata": {},
     "output_type": "execute_result"
    }
   ],
   "source": [
    "type(w)"
   ]
  },
  {
   "cell_type": "code",
   "execution_count": 14,
   "id": "46108675-ba1a-4ddb-9bec-486cb95fd2d6",
   "metadata": {},
   "outputs": [
    {
     "data": {
      "text/plain": [
       "type"
      ]
     },
     "execution_count": 14,
     "metadata": {},
     "output_type": "execute_result"
    }
   ],
   "source": [
    "type(Widget)"
   ]
  },
  {
   "cell_type": "code",
   "execution_count": 15,
   "id": "d6de47d8-7eee-49f7-bdba-7c1afdecd243",
   "metadata": {},
   "outputs": [
    {
     "data": {
      "text/plain": [
       "type"
      ]
     },
     "execution_count": 15,
     "metadata": {},
     "output_type": "execute_result"
    }
   ],
   "source": [
    "type(int)"
   ]
  },
  {
   "cell_type": "code",
   "execution_count": 16,
   "id": "5f9c8874-31af-42ca-ac72-ca5255865101",
   "metadata": {},
   "outputs": [
    {
     "data": {
      "text/plain": [
       "True"
      ]
     },
     "execution_count": 16,
     "metadata": {},
     "output_type": "execute_result"
    }
   ],
   "source": [
    "isinstance(w, Widget)"
   ]
  },
  {
   "cell_type": "code",
   "execution_count": 17,
   "id": "4deb1bdd-1645-4f0f-ba11-0b55d28d474e",
   "metadata": {},
   "outputs": [],
   "source": [
    "class Gadget(Widget):\n",
    "    pass"
   ]
  },
  {
   "cell_type": "code",
   "execution_count": 18,
   "id": "d32f5e1f-210f-46c1-a7b0-eee581febf96",
   "metadata": {},
   "outputs": [],
   "source": [
    "g = Gadget()"
   ]
  },
  {
   "cell_type": "code",
   "execution_count": 19,
   "id": "d44599cd-8692-4780-9c01-7b486a1e21f3",
   "metadata": {},
   "outputs": [
    {
     "data": {
      "text/plain": [
       "__main__.Gadget"
      ]
     },
     "execution_count": 19,
     "metadata": {},
     "output_type": "execute_result"
    }
   ],
   "source": [
    "type(g)"
   ]
  },
  {
   "cell_type": "code",
   "execution_count": 20,
   "id": "997c80de-642e-4b71-adfb-662cf0d44731",
   "metadata": {},
   "outputs": [
    {
     "data": {
      "text/plain": [
       "True"
      ]
     },
     "execution_count": 20,
     "metadata": {},
     "output_type": "execute_result"
    }
   ],
   "source": [
    "isinstance(g, Gadget)"
   ]
  },
  {
   "cell_type": "code",
   "execution_count": 21,
   "id": "9bf6c4f8-643e-4e4b-9fd2-e0d509e81912",
   "metadata": {},
   "outputs": [
    {
     "data": {
      "text/plain": [
       "True"
      ]
     },
     "execution_count": 21,
     "metadata": {},
     "output_type": "execute_result"
    }
   ],
   "source": [
    "isinstance(g, Widget)"
   ]
  },
  {
   "cell_type": "code",
   "execution_count": 22,
   "id": "3156da34-2c2a-4fad-a635-bb7f093d71d6",
   "metadata": {},
   "outputs": [
    {
     "name": "stdout",
     "output_type": "stream",
     "text": [
      "<__main__.Gadget object at 0x000002875C8A0430> is frobnicating, <__main__.Gadget object at 0x000002875C8A0430> is frobnicating real nice.\n"
     ]
    }
   ],
   "source": [
    "g.frobnicate()"
   ]
  },
  {
   "cell_type": "code",
   "execution_count": 23,
   "id": "b66b458e-588f-4115-9ef9-89a301ce8681",
   "metadata": {},
   "outputs": [],
   "source": [
    "class Squirrel:\n",
    "    \"\"\"A squirrel that is both a tree- and social-climber.\"\"\"\n",
    "    \n",
    "    _demeanor = 'genial'\n",
    "    \n",
    "    def __init__(self, name, color):\n",
    "        \"\"\"Create a squirrel of the given name and color.\"\"\"\n",
    "        self._name = name\n",
    "        self._color = color\n",
    "    \n",
    "    def announce(self):\n",
    "        \"\"\"Announce this squirrel at a fancy party.\"\"\"\n",
    "        print(f'{self.name} the {self.color} squirrel has arrived!')\n",
    "    \n",
    "    @property\n",
    "    def name(self):\n",
    "        \"\"\"This squirrel's name.\"\"\"\n",
    "        return self._name\n",
    "    \n",
    "    @property\n",
    "    def color(self):\n",
    "        \"\"\"The color of this squirrel.\"\"\"\n",
    "        return self._color\n",
    "    \n",
    "    @property\n",
    "    def demeanor(self):\n",
    "        \"\"\"This squirrel's demeanor, supposedly.\"\"\"\n",
    "        return self._demeanor\n",
    "    \n",
    "    @demeanor.setter\n",
    "    def demeanor(self, value):\n",
    "        if value not in ('genial', 'nice'):\n",
    "            raise ValueError('demeanors do not support honesty')\n",
    "        self._demeanor = value"
   ]
  },
  {
   "cell_type": "code",
   "execution_count": 24,
   "id": "48a4ff29-686f-4896-b4ee-e1d31aeac736",
   "metadata": {},
   "outputs": [
    {
     "name": "stdout",
     "output_type": "stream",
     "text": [
      "Alice the gray squirrel has arrived!\n"
     ]
    }
   ],
   "source": [
    "alice = Squirrel('Alice', 'gray')\n",
    "alice.announce()"
   ]
  },
  {
   "cell_type": "code",
   "execution_count": 25,
   "id": "efee4ded-465e-4720-ad26-ade16de5b908",
   "metadata": {},
   "outputs": [
    {
     "data": {
      "text/plain": [
       "'genial'"
      ]
     },
     "execution_count": 25,
     "metadata": {},
     "output_type": "execute_result"
    }
   ],
   "source": [
    "alice.demeanor"
   ]
  },
  {
   "cell_type": "code",
   "execution_count": 26,
   "id": "6bc58ee9-7520-49cb-bf13-780a4bd55031",
   "metadata": {
    "tags": [
     "raises-exception"
    ]
   },
   "outputs": [
    {
     "ename": "ValueError",
     "evalue": "demeanors do not support honesty",
     "output_type": "error",
     "traceback": [
      "\u001b[1;31m---------------------------------------------------------------------------\u001b[0m",
      "\u001b[1;31mValueError\u001b[0m                                Traceback (most recent call last)",
      "Input \u001b[1;32mIn [26]\u001b[0m, in \u001b[0;36m<cell line: 1>\u001b[1;34m()\u001b[0m\n\u001b[1;32m----> 1\u001b[0m alice\u001b[38;5;241m.\u001b[39mdemeanor \u001b[38;5;241m=\u001b[39m \u001b[38;5;124m'\u001b[39m\u001b[38;5;124mvery mean\u001b[39m\u001b[38;5;124m'\u001b[39m\n",
      "Input \u001b[1;32mIn [23]\u001b[0m, in \u001b[0;36mSquirrel.demeanor\u001b[1;34m(self, value)\u001b[0m\n\u001b[0;32m     30\u001b[0m \u001b[38;5;129m@demeanor\u001b[39m\u001b[38;5;241m.\u001b[39msetter\n\u001b[0;32m     31\u001b[0m \u001b[38;5;28;01mdef\u001b[39;00m \u001b[38;5;21mdemeanor\u001b[39m(\u001b[38;5;28mself\u001b[39m, value):\n\u001b[0;32m     32\u001b[0m     \u001b[38;5;28;01mif\u001b[39;00m value \u001b[38;5;129;01mnot\u001b[39;00m \u001b[38;5;129;01min\u001b[39;00m (\u001b[38;5;124m'\u001b[39m\u001b[38;5;124mgenial\u001b[39m\u001b[38;5;124m'\u001b[39m, \u001b[38;5;124m'\u001b[39m\u001b[38;5;124mnice\u001b[39m\u001b[38;5;124m'\u001b[39m):\n\u001b[1;32m---> 33\u001b[0m         \u001b[38;5;28;01mraise\u001b[39;00m \u001b[38;5;167;01mValueError\u001b[39;00m(\u001b[38;5;124m'\u001b[39m\u001b[38;5;124mdemeanors do not support honesty\u001b[39m\u001b[38;5;124m'\u001b[39m)\n\u001b[0;32m     34\u001b[0m     \u001b[38;5;28mself\u001b[39m\u001b[38;5;241m.\u001b[39m_demeanor \u001b[38;5;241m=\u001b[39m value\n",
      "\u001b[1;31mValueError\u001b[0m: demeanors do not support honesty"
     ]
    }
   ],
   "source": [
    "alice.demeanor = 'very mean'"
   ]
  },
  {
   "cell_type": "code",
   "execution_count": 27,
   "id": "58af53f4-e448-4377-8d92-0a2eaef1c529",
   "metadata": {},
   "outputs": [
    {
     "data": {
      "text/plain": [
       "{'_name': 'Alice', '_color': 'gray'}"
      ]
     },
     "execution_count": 27,
     "metadata": {},
     "output_type": "execute_result"
    }
   ],
   "source": [
    "alice.__dict__"
   ]
  },
  {
   "cell_type": "code",
   "execution_count": 28,
   "id": "afec0823-d40a-4b07-9414-414d65ffbe29",
   "metadata": {},
   "outputs": [],
   "source": [
    "alice.demeanor = 'nice'"
   ]
  },
  {
   "cell_type": "code",
   "execution_count": 29,
   "id": "3be45b92-1e46-4b1f-be92-7bd223c83c71",
   "metadata": {
    "tags": [
     "raises-exception"
    ]
   },
   "outputs": [
    {
     "data": {
      "text/plain": [
       "{'_name': 'Alice', '_color': 'gray', '_demeanor': 'nice'}"
      ]
     },
     "execution_count": 29,
     "metadata": {},
     "output_type": "execute_result"
    }
   ],
   "source": [
    "alice.__dict__"
   ]
  },
  {
   "cell_type": "code",
   "execution_count": 30,
   "id": "50c7e890-6efa-4216-b32a-faa9651584c2",
   "metadata": {},
   "outputs": [
    {
     "data": {
      "text/plain": [
       "'nice'"
      ]
     },
     "execution_count": 30,
     "metadata": {},
     "output_type": "execute_result"
    }
   ],
   "source": [
    "alice.demeanor"
   ]
  },
  {
   "cell_type": "code",
   "execution_count": 31,
   "id": "8a71d554-29bc-4423-ba0b-ccff2390f2d5",
   "metadata": {},
   "outputs": [],
   "source": [
    "alice.nickname = 'Eve'"
   ]
  },
  {
   "cell_type": "code",
   "execution_count": 32,
   "id": "53520887-3f6b-4a38-9bbd-7d71f3d0b102",
   "metadata": {},
   "outputs": [
    {
     "data": {
      "text/plain": [
       "{'_name': 'Alice', '_color': 'gray', '_demeanor': 'nice', 'nickname': 'Eve'}"
      ]
     },
     "execution_count": 32,
     "metadata": {},
     "output_type": "execute_result"
    }
   ],
   "source": [
    "alice.__dict__"
   ]
  },
  {
   "cell_type": "code",
   "execution_count": 33,
   "id": "707698ff-055b-4b7d-bc0f-a60e22190079",
   "metadata": {},
   "outputs": [
    {
     "data": {
      "text/plain": [
       "'genial'"
      ]
     },
     "execution_count": 33,
     "metadata": {},
     "output_type": "execute_result"
    }
   ],
   "source": [
    "Squirrel._demeanor"
   ]
  },
  {
   "cell_type": "code",
   "execution_count": 34,
   "id": "f4da68c6-3b65-4260-bc69-8993e95c4709",
   "metadata": {
    "tags": [
     "raises-exception"
    ]
   },
   "outputs": [
    {
     "ename": "AttributeError",
     "evalue": "type object 'Squirrel' has no attribute '_name'",
     "output_type": "error",
     "traceback": [
      "\u001b[1;31m---------------------------------------------------------------------------\u001b[0m",
      "\u001b[1;31mAttributeError\u001b[0m                            Traceback (most recent call last)",
      "Input \u001b[1;32mIn [34]\u001b[0m, in \u001b[0;36m<cell line: 1>\u001b[1;34m()\u001b[0m\n\u001b[1;32m----> 1\u001b[0m \u001b[43mSquirrel\u001b[49m\u001b[38;5;241;43m.\u001b[39;49m\u001b[43m_name\u001b[49m\n",
      "\u001b[1;31mAttributeError\u001b[0m: type object 'Squirrel' has no attribute '_name'"
     ]
    }
   ],
   "source": [
    "Squirrel._name"
   ]
  },
  {
   "cell_type": "code",
   "execution_count": 35,
   "id": "0ec14095-c527-46c0-95fe-40f0dcede5c3",
   "metadata": {},
   "outputs": [],
   "source": [
    "class Squirrel:\n",
    "    \"\"\"A squirrel that is both a tree- and social-climber.\"\"\"\n",
    "    \n",
    "    __slots__ = ('_name', '_color', '_demeanor')\n",
    "    \n",
    "    # _demeanor = 'genial'\n",
    "    \n",
    "    def __init__(self, name, color):\n",
    "        \"\"\"Create a squirrel of the given name and color.\"\"\"\n",
    "        self._name = name\n",
    "        self._color = color\n",
    "        self._demeanor = 'genial'\n",
    "    \n",
    "    def announce(self):\n",
    "        \"\"\"Announce this squirrel at a fancy party.\"\"\"\n",
    "        print(f'{self.name} the {self.color} squirrel has arrived!')\n",
    "    \n",
    "    @property\n",
    "    def name(self):\n",
    "        \"\"\"This squirrel's name.\"\"\"\n",
    "        return self._name\n",
    "    \n",
    "    @property\n",
    "    def color(self):\n",
    "        \"\"\"The color of this squirrel.\"\"\"\n",
    "        return self._color\n",
    "    \n",
    "    @property\n",
    "    def demeanor(self):\n",
    "        \"\"\"This squirrel's demeanor, supposedly.\"\"\"\n",
    "        return self._demeanor\n",
    "    \n",
    "    @demeanor.setter\n",
    "    def demeanor(self, value):\n",
    "        if value not in ('genial', 'nice'):\n",
    "            raise ValueError('demeanors do not support honesty')\n",
    "        self._demeanor = value"
   ]
  },
  {
   "cell_type": "code",
   "execution_count": 36,
   "id": "a98ae357-836c-41d5-987c-93766b56ac3f",
   "metadata": {},
   "outputs": [],
   "source": [
    "bob = Squirrel('Bob', 'red')"
   ]
  },
  {
   "cell_type": "code",
   "execution_count": 37,
   "id": "d9757ca9-694b-4924-b0a4-895d7d28207d",
   "metadata": {},
   "outputs": [
    {
     "data": {
      "text/plain": [
       "'Bob'"
      ]
     },
     "execution_count": 37,
     "metadata": {},
     "output_type": "execute_result"
    }
   ],
   "source": [
    "bob.name"
   ]
  },
  {
   "cell_type": "code",
   "execution_count": 38,
   "id": "87f7f6b4-55c1-4ad4-9593-fdf2a223ce85",
   "metadata": {},
   "outputs": [
    {
     "data": {
      "text/plain": [
       "'red'"
      ]
     },
     "execution_count": 38,
     "metadata": {},
     "output_type": "execute_result"
    }
   ],
   "source": [
    "bob.color"
   ]
  },
  {
   "cell_type": "code",
   "execution_count": 39,
   "id": "1197c744-2c19-4e44-a2bf-197151667a63",
   "metadata": {},
   "outputs": [
    {
     "data": {
      "text/plain": [
       "'genial'"
      ]
     },
     "execution_count": 39,
     "metadata": {},
     "output_type": "execute_result"
    }
   ],
   "source": [
    "bob.demeanor"
   ]
  },
  {
   "cell_type": "code",
   "execution_count": 40,
   "id": "a8650299-315b-4cb8-8a04-52bee4e581ad",
   "metadata": {
    "tags": [
     "raises-exception"
    ]
   },
   "outputs": [
    {
     "ename": "AttributeError",
     "evalue": "'Squirrel' object has no attribute '__dict__'",
     "output_type": "error",
     "traceback": [
      "\u001b[1;31m---------------------------------------------------------------------------\u001b[0m",
      "\u001b[1;31mAttributeError\u001b[0m                            Traceback (most recent call last)",
      "Input \u001b[1;32mIn [40]\u001b[0m, in \u001b[0;36m<cell line: 1>\u001b[1;34m()\u001b[0m\n\u001b[1;32m----> 1\u001b[0m \u001b[43mbob\u001b[49m\u001b[38;5;241;43m.\u001b[39;49m\u001b[38;5;18;43m__dict__\u001b[39;49m\n",
      "\u001b[1;31mAttributeError\u001b[0m: 'Squirrel' object has no attribute '__dict__'"
     ]
    }
   ],
   "source": [
    "bob.__dict__"
   ]
  },
  {
   "cell_type": "code",
   "execution_count": 41,
   "id": "5610f72b-4e97-4244-a758-40c649362a5c",
   "metadata": {},
   "outputs": [
    {
     "data": {
      "text/plain": [
       "<member '_demeanor' of 'Squirrel' objects>"
      ]
     },
     "execution_count": 41,
     "metadata": {},
     "output_type": "execute_result"
    }
   ],
   "source": [
    "Squirrel._demeanor"
   ]
  },
  {
   "cell_type": "code",
   "execution_count": 42,
   "id": "485ffeb8-d203-4b27-a081-958c841701d8",
   "metadata": {},
   "outputs": [
    {
     "data": {
      "text/plain": [
       "member_descriptor"
      ]
     },
     "execution_count": 42,
     "metadata": {},
     "output_type": "execute_result"
    }
   ],
   "source": [
    "type(Squirrel._demeanor)"
   ]
  },
  {
   "cell_type": "code",
   "execution_count": 43,
   "id": "ae4947ab-3808-4bb6-8744-11eac8c90495",
   "metadata": {},
   "outputs": [
    {
     "data": {
      "text/plain": [
       "<property at 0x2875e3e0b80>"
      ]
     },
     "execution_count": 43,
     "metadata": {},
     "output_type": "execute_result"
    }
   ],
   "source": [
    "Squirrel.demeanor"
   ]
  },
  {
   "cell_type": "code",
   "execution_count": 44,
   "id": "708d6bc3-9755-4180-8ba3-8e3e9224fe77",
   "metadata": {},
   "outputs": [
    {
     "data": {
      "text/plain": [
       "property"
      ]
     },
     "execution_count": 44,
     "metadata": {},
     "output_type": "execute_result"
    }
   ],
   "source": [
    "type(Squirrel.demeanor)"
   ]
  },
  {
   "cell_type": "code",
   "execution_count": 45,
   "id": "3edbd670-1d14-46c9-a33d-5f6b895ae190",
   "metadata": {},
   "outputs": [
    {
     "data": {
      "text/plain": [
       "['__class__',\n",
       " '__delattr__',\n",
       " '__delete__',\n",
       " '__dir__',\n",
       " '__doc__',\n",
       " '__eq__',\n",
       " '__format__',\n",
       " '__ge__',\n",
       " '__get__',\n",
       " '__getattribute__',\n",
       " '__gt__',\n",
       " '__hash__',\n",
       " '__init__',\n",
       " '__init_subclass__',\n",
       " '__isabstractmethod__',\n",
       " '__le__',\n",
       " '__lt__',\n",
       " '__ne__',\n",
       " '__new__',\n",
       " '__reduce__',\n",
       " '__reduce_ex__',\n",
       " '__repr__',\n",
       " '__set__',\n",
       " '__set_name__',\n",
       " '__setattr__',\n",
       " '__sizeof__',\n",
       " '__str__',\n",
       " '__subclasshook__',\n",
       " 'deleter',\n",
       " 'fdel',\n",
       " 'fget',\n",
       " 'fset',\n",
       " 'getter',\n",
       " 'setter']"
      ]
     },
     "execution_count": 45,
     "metadata": {},
     "output_type": "execute_result"
    }
   ],
   "source": [
    "dir(Squirrel.demeanor)"
   ]
  },
  {
   "cell_type": "code",
   "execution_count": 46,
   "id": "bc6ecd90-de5d-4ecb-badd-db0fd010dce7",
   "metadata": {},
   "outputs": [
    {
     "data": {
      "text/plain": [
       "property"
      ]
     },
     "execution_count": 46,
     "metadata": {},
     "output_type": "execute_result"
    }
   ],
   "source": [
    "property"
   ]
  },
  {
   "cell_type": "code",
   "execution_count": 47,
   "id": "4097155f-720c-44fd-ae3d-46a67da1af05",
   "metadata": {},
   "outputs": [
    {
     "data": {
      "text/plain": [
       "[int, object]"
      ]
     },
     "execution_count": 47,
     "metadata": {},
     "output_type": "execute_result"
    }
   ],
   "source": [
    "int.mro()"
   ]
  },
  {
   "cell_type": "code",
   "execution_count": 48,
   "id": "1062f03a-dbdf-4768-872e-ff37cfc660be",
   "metadata": {},
   "outputs": [
    {
     "data": {
      "text/plain": [
       "[bool, int, object]"
      ]
     },
     "execution_count": 48,
     "metadata": {},
     "output_type": "execute_result"
    }
   ],
   "source": [
    "bool.mro()"
   ]
  },
  {
   "cell_type": "code",
   "execution_count": 49,
   "id": "624278b3-c8c9-4ce5-bdc9-9437635a0797",
   "metadata": {},
   "outputs": [
    {
     "data": {
      "text/plain": [
       "[float, object]"
      ]
     },
     "execution_count": 49,
     "metadata": {},
     "output_type": "execute_result"
    }
   ],
   "source": [
    "float.mro()"
   ]
  },
  {
   "cell_type": "code",
   "execution_count": 50,
   "id": "eff3149e-c051-4ef4-989d-5e25b096d108",
   "metadata": {},
   "outputs": [],
   "source": [
    "a = 3\n",
    "b = 3.0"
   ]
  },
  {
   "cell_type": "code",
   "execution_count": 51,
   "id": "7bb09977-f4ef-48eb-9a59-4919290a481d",
   "metadata": {},
   "outputs": [
    {
     "data": {
      "text/plain": [
       "True"
      ]
     },
     "execution_count": 51,
     "metadata": {},
     "output_type": "execute_result"
    }
   ],
   "source": [
    "a == b"
   ]
  },
  {
   "cell_type": "code",
   "execution_count": 52,
   "id": "7aa83691-5133-43cc-9a16-86d515627723",
   "metadata": {},
   "outputs": [
    {
     "data": {
      "text/plain": [
       "True"
      ]
     },
     "execution_count": 52,
     "metadata": {},
     "output_type": "execute_result"
    }
   ],
   "source": [
    "b == a"
   ]
  },
  {
   "cell_type": "code",
   "execution_count": 53,
   "id": "87a0d867-ab5e-4dc2-880a-639b9a4cd9d1",
   "metadata": {},
   "outputs": [
    {
     "data": {
      "text/plain": [
       "True"
      ]
     },
     "execution_count": 53,
     "metadata": {},
     "output_type": "execute_result"
    }
   ],
   "source": [
    "b.__eq__(a)"
   ]
  },
  {
   "cell_type": "code",
   "execution_count": 54,
   "id": "7c6223d0-b8b1-4164-9cad-76ca2cb0b8b6",
   "metadata": {},
   "outputs": [
    {
     "data": {
      "text/plain": [
       "NotImplemented"
      ]
     },
     "execution_count": 54,
     "metadata": {},
     "output_type": "execute_result"
    }
   ],
   "source": [
    "a.__eq__(b)"
   ]
  },
  {
   "cell_type": "code",
   "execution_count": 55,
   "id": "a11b4755-ee19-4d76-b262-5d87736afcc4",
   "metadata": {},
   "outputs": [],
   "source": [
    "x = 5\n",
    "y = 5.5"
   ]
  },
  {
   "cell_type": "code",
   "execution_count": 56,
   "id": "910fd00a-8bbe-4d54-9a5c-cdcb9b1f00ea",
   "metadata": {},
   "outputs": [
    {
     "data": {
      "text/plain": [
       "True"
      ]
     },
     "execution_count": 56,
     "metadata": {},
     "output_type": "execute_result"
    }
   ],
   "source": [
    "x < y"
   ]
  },
  {
   "cell_type": "code",
   "execution_count": 57,
   "id": "cae88c5d-f72e-4a8f-a7bd-98fbbd91a5c0",
   "metadata": {},
   "outputs": [
    {
     "data": {
      "text/plain": [
       "False"
      ]
     },
     "execution_count": 57,
     "metadata": {},
     "output_type": "execute_result"
    }
   ],
   "source": [
    "x > y"
   ]
  },
  {
   "cell_type": "code",
   "execution_count": 58,
   "id": "67d1fd83-f9b4-4669-9647-7440c8f700ca",
   "metadata": {},
   "outputs": [
    {
     "data": {
      "text/plain": [
       "False"
      ]
     },
     "execution_count": 58,
     "metadata": {},
     "output_type": "execute_result"
    }
   ],
   "source": [
    "y < x"
   ]
  },
  {
   "cell_type": "code",
   "execution_count": 59,
   "id": "4ad6c796-fc2a-4bb8-a7cd-21ef56929a78",
   "metadata": {},
   "outputs": [
    {
     "data": {
      "text/plain": [
       "True"
      ]
     },
     "execution_count": 59,
     "metadata": {},
     "output_type": "execute_result"
    }
   ],
   "source": [
    "y > x"
   ]
  },
  {
   "cell_type": "code",
   "execution_count": 60,
   "id": "b73c2fce-44e8-4af4-a074-218224ae6e87",
   "metadata": {},
   "outputs": [
    {
     "data": {
      "text/plain": [
       "NotImplemented"
      ]
     },
     "execution_count": 60,
     "metadata": {},
     "output_type": "execute_result"
    }
   ],
   "source": [
    "x.__lt__(y)"
   ]
  },
  {
   "cell_type": "code",
   "execution_count": 61,
   "id": "e4927e38-4a5d-492f-bac5-2d901760c655",
   "metadata": {},
   "outputs": [
    {
     "data": {
      "text/plain": [
       "NotImplemented"
      ]
     },
     "execution_count": 61,
     "metadata": {},
     "output_type": "execute_result"
    }
   ],
   "source": [
    "x.__gt__(y)"
   ]
  },
  {
   "cell_type": "code",
   "execution_count": 62,
   "id": "d7b03cfa-867d-422f-be2d-af4b6a13f845",
   "metadata": {},
   "outputs": [
    {
     "data": {
      "text/plain": [
       "True"
      ]
     },
     "execution_count": 62,
     "metadata": {},
     "output_type": "execute_result"
    }
   ],
   "source": [
    "y.__gt__(x)"
   ]
  },
  {
   "cell_type": "code",
   "execution_count": 63,
   "id": "3512aec2-16b1-4fd7-a98b-4be199843bf2",
   "metadata": {},
   "outputs": [
    {
     "data": {
      "text/plain": [
       "False"
      ]
     },
     "execution_count": 63,
     "metadata": {},
     "output_type": "execute_result"
    }
   ],
   "source": [
    "y.__lt__(x)"
   ]
  },
  {
   "cell_type": "code",
   "execution_count": 64,
   "id": "08f511db-b7b3-435e-9c31-4f55b09f2652",
   "metadata": {},
   "outputs": [],
   "source": [
    "n = 9000\n",
    "s = 'nine thousand'"
   ]
  },
  {
   "cell_type": "code",
   "execution_count": 65,
   "id": "b1f6777d-f8e6-4e68-b5e7-3ca96dd11a06",
   "metadata": {},
   "outputs": [
    {
     "data": {
      "text/plain": [
       "False"
      ]
     },
     "execution_count": 65,
     "metadata": {},
     "output_type": "execute_result"
    }
   ],
   "source": [
    "n == s"
   ]
  },
  {
   "cell_type": "code",
   "execution_count": 66,
   "id": "8ca9573c-c5fe-41f8-8751-969c0108b84b",
   "metadata": {},
   "outputs": [
    {
     "data": {
      "text/plain": [
       "NotImplemented"
      ]
     },
     "execution_count": 66,
     "metadata": {},
     "output_type": "execute_result"
    }
   ],
   "source": [
    "n.__eq__(s)"
   ]
  },
  {
   "cell_type": "code",
   "execution_count": 67,
   "id": "10dde8f0-6bde-489d-8e9c-c181b3ad23f5",
   "metadata": {},
   "outputs": [
    {
     "data": {
      "text/plain": [
       "NotImplemented"
      ]
     },
     "execution_count": 67,
     "metadata": {},
     "output_type": "execute_result"
    }
   ],
   "source": [
    "s.__eq__(n)"
   ]
  },
  {
   "cell_type": "code",
   "execution_count": 68,
   "id": "85d108e7-b226-4db0-b8da-5733eacbdaf1",
   "metadata": {},
   "outputs": [
    {
     "data": {
      "text/plain": [
       "[int, object]"
      ]
     },
     "execution_count": 68,
     "metadata": {},
     "output_type": "execute_result"
    }
   ],
   "source": [
    "int.mro()"
   ]
  },
  {
   "cell_type": "code",
   "execution_count": 69,
   "id": "1f3bf133-fd8e-465f-8961-20b3f0cd5fd9",
   "metadata": {},
   "outputs": [
    {
     "data": {
      "text/plain": [
       "[str, object]"
      ]
     },
     "execution_count": 69,
     "metadata": {},
     "output_type": "execute_result"
    }
   ],
   "source": [
    "str.mro()"
   ]
  },
  {
   "cell_type": "code",
   "execution_count": 70,
   "id": "9e139c4a-94f8-4ad0-9708-4cb49512d344",
   "metadata": {},
   "outputs": [],
   "source": [
    "from greet import Greeter"
   ]
  },
  {
   "cell_type": "code",
   "execution_count": 71,
   "id": "19ee00f4-6ef0-4679-b992-fde886d675c6",
   "metadata": {},
   "outputs": [],
   "source": [
    "class MyGreeter(Greeter):\n",
    "    pass"
   ]
  },
  {
   "cell_type": "code",
   "execution_count": 72,
   "id": "b459ad4c-473a-4f9d-8212-07d8e580bb75",
   "metadata": {},
   "outputs": [
    {
     "data": {
      "text/plain": [
       "True"
      ]
     },
     "execution_count": 72,
     "metadata": {},
     "output_type": "execute_result"
    }
   ],
   "source": [
    "g = Greeter('en')\n",
    "mg = MyGreeter('en')\n",
    "g == mg"
   ]
  },
  {
   "cell_type": "code",
   "execution_count": 73,
   "id": "d28a67f4-9c04-44f6-82c7-38ce7ed22ecf",
   "metadata": {},
   "outputs": [
    {
     "data": {
      "text/plain": [
       "True"
      ]
     },
     "execution_count": 73,
     "metadata": {},
     "output_type": "execute_result"
    }
   ],
   "source": [
    "mg == g"
   ]
  },
  {
   "cell_type": "code",
   "execution_count": 74,
   "id": "f6bd9164-b6f0-4f8e-8cf8-c32010d90582",
   "metadata": {},
   "outputs": [
    {
     "data": {
      "text/plain": [
       "False"
      ]
     },
     "execution_count": 74,
     "metadata": {},
     "output_type": "execute_result"
    }
   ],
   "source": [
    "g.lang = 'es'\n",
    "g == mg"
   ]
  },
  {
   "cell_type": "code",
   "execution_count": 75,
   "id": "7996bea7-8ff9-4dca-be89-f9513ccc9bee",
   "metadata": {},
   "outputs": [
    {
     "data": {
      "text/plain": [
       "False"
      ]
     },
     "execution_count": 75,
     "metadata": {},
     "output_type": "execute_result"
    }
   ],
   "source": [
    "mg == g"
   ]
  },
  {
   "cell_type": "code",
   "execution_count": 76,
   "id": "bd26f568-69b5-4390-a565-34ef539077e6",
   "metadata": {},
   "outputs": [
    {
     "data": {
      "text/plain": [
       "True"
      ]
     },
     "execution_count": 76,
     "metadata": {},
     "output_type": "execute_result"
    }
   ],
   "source": [
    "isinstance(mg, type(g))"
   ]
  },
  {
   "cell_type": "code",
   "execution_count": 77,
   "id": "61ab8036-02a3-4524-9509-c7ef201de8ee",
   "metadata": {},
   "outputs": [
    {
     "data": {
      "text/plain": [
       "False"
      ]
     },
     "execution_count": 77,
     "metadata": {},
     "output_type": "execute_result"
    }
   ],
   "source": [
    "isinstance(g, type(mg))"
   ]
  },
  {
   "cell_type": "code",
   "execution_count": 78,
   "id": "9092d3fb-863b-4c72-b300-623bc0842a3e",
   "metadata": {},
   "outputs": [],
   "source": [
    "class Base:\n",
    "    def __eq__(self, other):\n",
    "        print('Called Base.__eq__.')\n",
    "        return self is other"
   ]
  },
  {
   "cell_type": "code",
   "execution_count": 79,
   "id": "32d239dd-c61b-4cd4-89d7-69acdbc1768d",
   "metadata": {},
   "outputs": [],
   "source": [
    "class Derived(Base):\n",
    "    def __eq__(self, other):\n",
    "        print('Called Derived.__eq__.')\n",
    "        return self is other"
   ]
  },
  {
   "cell_type": "code",
   "execution_count": 80,
   "id": "73779aaf-8747-45ea-981c-f493c4845d31",
   "metadata": {},
   "outputs": [],
   "source": [
    "b = Base()\n",
    "d = Derived()"
   ]
  },
  {
   "cell_type": "code",
   "execution_count": 81,
   "id": "0f33714d-0fd2-4d7d-95fb-d11e5c1924d9",
   "metadata": {},
   "outputs": [
    {
     "name": "stdout",
     "output_type": "stream",
     "text": [
      "Called Derived.__eq__.\n"
     ]
    },
    {
     "data": {
      "text/plain": [
       "False"
      ]
     },
     "execution_count": 81,
     "metadata": {},
     "output_type": "execute_result"
    }
   ],
   "source": [
    "b == d"
   ]
  },
  {
   "cell_type": "code",
   "execution_count": 82,
   "id": "5f1304f4-05a5-433c-a4eb-815c446d37f0",
   "metadata": {},
   "outputs": [
    {
     "name": "stdout",
     "output_type": "stream",
     "text": [
      "Called Derived.__eq__.\n"
     ]
    },
    {
     "data": {
      "text/plain": [
       "False"
      ]
     },
     "execution_count": 82,
     "metadata": {},
     "output_type": "execute_result"
    }
   ],
   "source": [
    "d == b"
   ]
  },
  {
   "cell_type": "code",
   "execution_count": 83,
   "id": "ffc5095a-367d-4380-8139-ce55b1375a39",
   "metadata": {},
   "outputs": [],
   "source": [
    "class Base:\n",
    "    def __eq__(self, other):\n",
    "        print('Called Base.__eq__.')\n",
    "        if not isinstance(other, Base):\n",
    "            print('Base.__eq__ returning NotImplemented.')\n",
    "            return NotImplemented\n",
    "        print('Base.__eq__ returning a bool.')\n",
    "        return self is other"
   ]
  },
  {
   "cell_type": "code",
   "execution_count": 84,
   "id": "bc92d470-15ea-403a-bb49-fb320c89cc25",
   "metadata": {},
   "outputs": [],
   "source": [
    "class Derived(Base):\n",
    "    def __eq__(self, other):\n",
    "        print('Called Derived.__eq__.')\n",
    "        return NotImplemented"
   ]
  },
  {
   "cell_type": "code",
   "execution_count": 85,
   "id": "9407d4f1-3f6a-4c2c-a916-461fb98dfe8e",
   "metadata": {},
   "outputs": [],
   "source": [
    "b = Base()\n",
    "d = Derived()"
   ]
  },
  {
   "cell_type": "code",
   "execution_count": 86,
   "id": "9c1b651d-c4ae-4db4-b951-4217d2681440",
   "metadata": {},
   "outputs": [
    {
     "name": "stdout",
     "output_type": "stream",
     "text": [
      "Called Derived.__eq__.\n",
      "Called Base.__eq__.\n",
      "Base.__eq__ returning a bool.\n"
     ]
    },
    {
     "data": {
      "text/plain": [
       "False"
      ]
     },
     "execution_count": 86,
     "metadata": {},
     "output_type": "execute_result"
    }
   ],
   "source": [
    "b == d"
   ]
  },
  {
   "cell_type": "code",
   "execution_count": 87,
   "id": "dcf37a1e-5af9-4a34-addc-1af26c6e8a3e",
   "metadata": {},
   "outputs": [
    {
     "name": "stdout",
     "output_type": "stream",
     "text": [
      "Called Derived.__eq__.\n",
      "Called Base.__eq__.\n",
      "Base.__eq__ returning a bool.\n"
     ]
    },
    {
     "data": {
      "text/plain": [
       "False"
      ]
     },
     "execution_count": 87,
     "metadata": {},
     "output_type": "execute_result"
    }
   ],
   "source": [
    "d == b"
   ]
  },
  {
   "cell_type": "code",
   "execution_count": 88,
   "id": "8687d77a-74b3-4ddb-afe5-ff6641ca8004",
   "metadata": {},
   "outputs": [],
   "source": [
    "class Base:\n",
    "    def __eq__(self, other):\n",
    "        print('Called Base.__eq__.')\n",
    "        if not isinstance(other, type(self)):\n",
    "            print('Base.__eq__ returning NotImplemented.')\n",
    "            return NotImplemented\n",
    "        print('Base.__eq__ returning a bool.')\n",
    "        return self is other"
   ]
  },
  {
   "cell_type": "code",
   "execution_count": 89,
   "id": "3ba625bb-25d2-4731-ab87-81d40a798165",
   "metadata": {},
   "outputs": [],
   "source": [
    "class Derived(Base):\n",
    "    def __eq__(self, other):\n",
    "        print('Called Derived.__eq__.')\n",
    "        return NotImplemented"
   ]
  },
  {
   "cell_type": "code",
   "execution_count": 90,
   "id": "29505117-fab3-4019-93b9-ab94cd89b511",
   "metadata": {},
   "outputs": [],
   "source": [
    "b = Base()\n",
    "d = Derived()"
   ]
  },
  {
   "cell_type": "code",
   "execution_count": 91,
   "id": "52cc346b-a4ff-4806-87d7-24ef20fde925",
   "metadata": {},
   "outputs": [
    {
     "name": "stdout",
     "output_type": "stream",
     "text": [
      "Called Derived.__eq__.\n",
      "Called Base.__eq__.\n",
      "Base.__eq__ returning a bool.\n"
     ]
    },
    {
     "data": {
      "text/plain": [
       "False"
      ]
     },
     "execution_count": 91,
     "metadata": {},
     "output_type": "execute_result"
    }
   ],
   "source": [
    "b == d"
   ]
  },
  {
   "cell_type": "code",
   "execution_count": 92,
   "id": "af0cfe3d-cdec-44b6-84b5-aa86e8103ba9",
   "metadata": {},
   "outputs": [
    {
     "name": "stdout",
     "output_type": "stream",
     "text": [
      "Called Derived.__eq__.\n",
      "Called Base.__eq__.\n",
      "Base.__eq__ returning a bool.\n"
     ]
    },
    {
     "data": {
      "text/plain": [
       "False"
      ]
     },
     "execution_count": 92,
     "metadata": {},
     "output_type": "execute_result"
    }
   ],
   "source": [
    "d == b"
   ]
  },
  {
   "cell_type": "code",
   "execution_count": 93,
   "id": "c8248d40-7b8a-498b-8a3d-24f58eef3f19",
   "metadata": {},
   "outputs": [],
   "source": [
    "def square(n):\n",
    "    return n**2"
   ]
  },
  {
   "cell_type": "code",
   "execution_count": 94,
   "id": "56e985aa-86f1-4fac-b8e2-b0ac08154ccb",
   "metadata": {},
   "outputs": [
    {
     "data": {
      "text/plain": [
       "'square'"
      ]
     },
     "execution_count": 94,
     "metadata": {},
     "output_type": "execute_result"
    }
   ],
   "source": [
    "square.__name__"
   ]
  },
  {
   "cell_type": "code",
   "execution_count": 95,
   "id": "ff1721bf-fef8-4a40-856f-c6d333d033a8",
   "metadata": {},
   "outputs": [],
   "source": [
    "def make_polynomial(p):\n",
    "    def polynomial(n):\n",
    "        return n**p\n",
    "    return polynomial"
   ]
  },
  {
   "cell_type": "code",
   "execution_count": 96,
   "id": "b62abbe0-860b-40ec-ab50-dfaeb701e91f",
   "metadata": {},
   "outputs": [
    {
     "data": {
      "text/plain": [
       "8"
      ]
     },
     "execution_count": 96,
     "metadata": {},
     "output_type": "execute_result"
    }
   ],
   "source": [
    "cube = make_polynomial(3)\n",
    "cube(2)"
   ]
  },
  {
   "cell_type": "code",
   "execution_count": 97,
   "id": "a36a30bc-bd90-40cd-b214-e6e9d760288f",
   "metadata": {},
   "outputs": [
    {
     "data": {
      "text/plain": [
       "'make_polynomial'"
      ]
     },
     "execution_count": 97,
     "metadata": {},
     "output_type": "execute_result"
    }
   ],
   "source": [
    "make_polynomial.__name__"
   ]
  },
  {
   "cell_type": "code",
   "execution_count": 98,
   "id": "23a67937-8783-447e-85f4-b8d6d7ceb54f",
   "metadata": {},
   "outputs": [
    {
     "data": {
      "text/plain": [
       "'polynomial'"
      ]
     },
     "execution_count": 98,
     "metadata": {},
     "output_type": "execute_result"
    }
   ],
   "source": [
    "cube.__name__"
   ]
  },
  {
   "cell_type": "code",
   "execution_count": 99,
   "id": "fa90fc1c-1fc6-4713-863e-7b182184c260",
   "metadata": {},
   "outputs": [],
   "source": [
    "class UnpaidListicleAuthor:\n",
    "    pass"
   ]
  },
  {
   "cell_type": "code",
   "execution_count": 100,
   "id": "76d0b964-e428-413f-a17e-31c2781c05c9",
   "metadata": {},
   "outputs": [],
   "source": [
    "author = UnpaidListicleAuthor()"
   ]
  },
  {
   "cell_type": "code",
   "execution_count": 101,
   "id": "64cdd31d-0d87-43cb-b639-5b7ee0bd3a9c",
   "metadata": {},
   "outputs": [
    {
     "data": {
      "text/plain": [
       "'UnpaidListicleAuthor'"
      ]
     },
     "execution_count": 101,
     "metadata": {},
     "output_type": "execute_result"
    }
   ],
   "source": [
    "UnpaidListicleAuthor.__name__"
   ]
  },
  {
   "cell_type": "code",
   "execution_count": 102,
   "id": "bf94a8dd-1b92-4fc5-a54b-346ab8ed1b2b",
   "metadata": {
    "tags": [
     "raises-exception"
    ]
   },
   "outputs": [
    {
     "ename": "AttributeError",
     "evalue": "'UnpaidListicleAuthor' object has no attribute '__name__'",
     "output_type": "error",
     "traceback": [
      "\u001b[1;31m---------------------------------------------------------------------------\u001b[0m",
      "\u001b[1;31mAttributeError\u001b[0m                            Traceback (most recent call last)",
      "Input \u001b[1;32mIn [102]\u001b[0m, in \u001b[0;36m<cell line: 1>\u001b[1;34m()\u001b[0m\n\u001b[1;32m----> 1\u001b[0m \u001b[43mauthor\u001b[49m\u001b[38;5;241;43m.\u001b[39;49m\u001b[38;5;18;43m__name__\u001b[39;49m\n",
      "\u001b[1;31mAttributeError\u001b[0m: 'UnpaidListicleAuthor' object has no attribute '__name__'"
     ]
    }
   ],
   "source": [
    "author.__name__"
   ]
  },
  {
   "cell_type": "code",
   "execution_count": 103,
   "id": "cf5cec65-6b26-4f11-bdb7-680c36dadbaa",
   "metadata": {},
   "outputs": [
    {
     "data": {
      "text/plain": [
       "__main__.UnpaidListicleAuthor"
      ]
     },
     "execution_count": 103,
     "metadata": {},
     "output_type": "execute_result"
    }
   ],
   "source": [
    "author.__class__"
   ]
  },
  {
   "cell_type": "code",
   "execution_count": 104,
   "id": "1c10a5bd-1fb6-49c6-bdb3-6e4be8b61608",
   "metadata": {},
   "outputs": [
    {
     "data": {
      "text/plain": [
       "type"
      ]
     },
     "execution_count": 104,
     "metadata": {},
     "output_type": "execute_result"
    }
   ],
   "source": [
    "author.__class__.__class__"
   ]
  },
  {
   "cell_type": "code",
   "execution_count": 105,
   "id": "2bc24847-df99-4455-81f5-0f746768cd0e",
   "metadata": {},
   "outputs": [
    {
     "data": {
      "text/plain": [
       "type"
      ]
     },
     "execution_count": 105,
     "metadata": {},
     "output_type": "execute_result"
    }
   ],
   "source": [
    "author.__class__.__class__.__class__"
   ]
  },
  {
   "cell_type": "code",
   "execution_count": 106,
   "id": "525425b3-84ac-4b6a-8d82-59b6a3281f5d",
   "metadata": {},
   "outputs": [
    {
     "data": {
      "text/plain": [
       "173774750498"
      ]
     },
     "execution_count": 106,
     "metadata": {},
     "output_type": "execute_result"
    }
   ],
   "source": [
    "hash(author)"
   ]
  },
  {
   "cell_type": "code",
   "execution_count": 107,
   "id": "c7945503-1dba-4583-b731-5440557809fe",
   "metadata": {},
   "outputs": [],
   "source": [
    "class UnpaidListicleAuthor:\n",
    "    \"\"\"Author supplying content to a company that considers all authors the same.\"\"\"\n",
    "    \n",
    "    def __eq__(self, other):\n",
    "        if not isinstance(other, UnpaidListicleAuthor):\n",
    "            return NotImplemented\n",
    "        return True"
   ]
  },
  {
   "cell_type": "code",
   "execution_count": 108,
   "id": "ac582b13-cf0c-4422-ae60-5e8b1818b543",
   "metadata": {},
   "outputs": [
    {
     "data": {
      "text/plain": [
       "True"
      ]
     },
     "execution_count": 108,
     "metadata": {},
     "output_type": "execute_result"
    }
   ],
   "source": [
    "author = UnpaidListicleAuthor()\n",
    "author2 = UnpaidListicleAuthor()\n",
    "author == author2"
   ]
  },
  {
   "cell_type": "code",
   "execution_count": 109,
   "id": "366aa99f-c51c-47cd-a5e0-365775c9f3bd",
   "metadata": {},
   "outputs": [
    {
     "data": {
      "text/plain": [
       "False"
      ]
     },
     "execution_count": 109,
     "metadata": {},
     "output_type": "execute_result"
    }
   ],
   "source": [
    "author is author2"
   ]
  },
  {
   "cell_type": "code",
   "execution_count": 110,
   "id": "f7a91793-bf96-4b26-adca-c1cfd9b7c158",
   "metadata": {
    "tags": [
     "raises-exception"
    ]
   },
   "outputs": [
    {
     "ename": "TypeError",
     "evalue": "unhashable type: 'UnpaidListicleAuthor'",
     "output_type": "error",
     "traceback": [
      "\u001b[1;31m---------------------------------------------------------------------------\u001b[0m",
      "\u001b[1;31mTypeError\u001b[0m                                 Traceback (most recent call last)",
      "Input \u001b[1;32mIn [110]\u001b[0m, in \u001b[0;36m<cell line: 1>\u001b[1;34m()\u001b[0m\n\u001b[1;32m----> 1\u001b[0m \u001b[38;5;28;43mhash\u001b[39;49m\u001b[43m(\u001b[49m\u001b[43mauthor\u001b[49m\u001b[43m)\u001b[49m\n",
      "\u001b[1;31mTypeError\u001b[0m: unhashable type: 'UnpaidListicleAuthor'"
     ]
    }
   ],
   "source": [
    "hash(author)"
   ]
  },
  {
   "cell_type": "code",
   "execution_count": 111,
   "id": "3dcd25ce-1bd2-425b-a791-2d5baf238bda",
   "metadata": {},
   "outputs": [],
   "source": [
    "def f(xs=(x**2 for x in range(10))):\n",
    "    print(*xs)"
   ]
  },
  {
   "cell_type": "code",
   "execution_count": 112,
   "id": "b166d623-cd03-4bb9-9134-6ac7ff834a55",
   "metadata": {},
   "outputs": [
    {
     "name": "stdout",
     "output_type": "stream",
     "text": [
      "foo bar baz\n"
     ]
    }
   ],
   "source": [
    "f(['foo', 'bar', 'baz'])"
   ]
  },
  {
   "cell_type": "code",
   "execution_count": 113,
   "id": "bd4065ea-43de-4a1c-b0b3-3cf2ff4f344b",
   "metadata": {},
   "outputs": [
    {
     "name": "stdout",
     "output_type": "stream",
     "text": [
      "0 1 4 9 16 25 36 49 64 81\n"
     ]
    }
   ],
   "source": [
    "f()"
   ]
  },
  {
   "cell_type": "code",
   "execution_count": 114,
   "id": "6b3005b2-b235-48c8-9b51-003c55f11ede",
   "metadata": {},
   "outputs": [
    {
     "name": "stdout",
     "output_type": "stream",
     "text": [
      "\n"
     ]
    }
   ],
   "source": [
    "f()"
   ]
  },
  {
   "cell_type": "code",
   "execution_count": 115,
   "id": "d30a5513-379f-4582-91bc-4f409131eb86",
   "metadata": {},
   "outputs": [
    {
     "data": {
      "text/plain": [
       "173776590262"
      ]
     },
     "execution_count": 115,
     "metadata": {},
     "output_type": "execute_result"
    }
   ],
   "source": [
    "hash(x**2 for x in range(10))"
   ]
  },
  {
   "cell_type": "code",
   "execution_count": 116,
   "id": "f77bc77b-ea43-4d2a-8d9a-1a9d990b2742",
   "metadata": {},
   "outputs": [],
   "source": [
    "f.z = 42"
   ]
  },
  {
   "cell_type": "code",
   "execution_count": 117,
   "id": "48aee2c3-0f84-4805-8967-500bd78aa1a2",
   "metadata": {},
   "outputs": [],
   "source": [
    "class Base:\n",
    "    __slots__ = ()\n",
    "\n",
    "class Derived(Base):\n",
    "    __slots__ = ()"
   ]
  },
  {
   "cell_type": "code",
   "execution_count": 118,
   "id": "fd31b9ef-6a42-416d-9dfc-485344f0bafe",
   "metadata": {
    "tags": [
     "raises-exception"
    ]
   },
   "outputs": [
    {
     "ename": "AttributeError",
     "evalue": "'Base' object has no attribute 'a'",
     "output_type": "error",
     "traceback": [
      "\u001b[1;31m---------------------------------------------------------------------------\u001b[0m",
      "\u001b[1;31mAttributeError\u001b[0m                            Traceback (most recent call last)",
      "Input \u001b[1;32mIn [118]\u001b[0m, in \u001b[0;36m<cell line: 2>\u001b[1;34m()\u001b[0m\n\u001b[0;32m      1\u001b[0m x \u001b[38;5;241m=\u001b[39m Base()\n\u001b[1;32m----> 2\u001b[0m x\u001b[38;5;241m.\u001b[39ma \u001b[38;5;241m=\u001b[39m \u001b[38;5;241m10\u001b[39m\n",
      "\u001b[1;31mAttributeError\u001b[0m: 'Base' object has no attribute 'a'"
     ]
    }
   ],
   "source": [
    "x = Base()\n",
    "x.a = 10"
   ]
  },
  {
   "cell_type": "code",
   "execution_count": 119,
   "id": "2e9873f4-9444-4835-862b-0290d778bc63",
   "metadata": {
    "tags": [
     "raises-exception"
    ]
   },
   "outputs": [
    {
     "ename": "AttributeError",
     "evalue": "'Derived' object has no attribute 'a'",
     "output_type": "error",
     "traceback": [
      "\u001b[1;31m---------------------------------------------------------------------------\u001b[0m",
      "\u001b[1;31mAttributeError\u001b[0m                            Traceback (most recent call last)",
      "Input \u001b[1;32mIn [119]\u001b[0m, in \u001b[0;36m<cell line: 2>\u001b[1;34m()\u001b[0m\n\u001b[0;32m      1\u001b[0m y \u001b[38;5;241m=\u001b[39m Derived()\n\u001b[1;32m----> 2\u001b[0m y\u001b[38;5;241m.\u001b[39ma \u001b[38;5;241m=\u001b[39m \u001b[38;5;241m10\u001b[39m\n",
      "\u001b[1;31mAttributeError\u001b[0m: 'Derived' object has no attribute 'a'"
     ]
    }
   ],
   "source": [
    "y = Derived()\n",
    "y.a = 10"
   ]
  },
  {
   "cell_type": "code",
   "execution_count": 121,
   "id": "1349eca2-1cd4-48dd-ab6e-9a46505e571d",
   "metadata": {
    "tags": [
     "raises-exception"
    ]
   },
   "outputs": [],
   "source": [
    "class Base:\n",
    "    __slots__ = ()\n",
    "\n",
    "class Derived(Base):\n",
    "    pass"
   ]
  },
  {
   "cell_type": "code",
   "execution_count": 134,
   "id": "ed8d7c47-72b8-4181-b969-1884e87e61e2",
   "metadata": {},
   "outputs": [
    {
     "data": {
      "text/plain": [
       "{'a': 10}"
      ]
     },
     "execution_count": 134,
     "metadata": {},
     "output_type": "execute_result"
    }
   ],
   "source": [
    "y = Derived()\n",
    "z = Derived()\n",
    "y.a = 10\n",
    "y.__dict__"
   ]
  },
  {
   "cell_type": "code",
   "execution_count": 135,
   "id": "296a49db-a59b-466a-9b93-6807cc22dbf1",
   "metadata": {},
   "outputs": [
    {
     "data": {
      "text/plain": [
       "{}"
      ]
     },
     "execution_count": 135,
     "metadata": {},
     "output_type": "execute_result"
    }
   ],
   "source": [
    "z.__dict__"
   ]
  },
  {
   "cell_type": "code",
   "execution_count": 129,
   "id": "78787998-0edf-43ed-b430-3149ff41dfcb",
   "metadata": {},
   "outputs": [],
   "source": [
    "class Widget:  # Same as:  Widget(object):\n",
    "    pass"
   ]
  },
  {
   "cell_type": "code",
   "execution_count": 130,
   "id": "1c7546d7-0236-4974-bbf8-09f17e235959",
   "metadata": {},
   "outputs": [],
   "source": [
    "w = Widget()\n",
    "w.a = 10"
   ]
  },
  {
   "cell_type": "code",
   "execution_count": 131,
   "id": "df9400e1-d0c7-4398-ae96-164f4ea135cc",
   "metadata": {},
   "outputs": [
    {
     "data": {
      "text/plain": [
       "{'a': 10}"
      ]
     },
     "execution_count": 131,
     "metadata": {},
     "output_type": "execute_result"
    }
   ],
   "source": [
    "w.__dict__"
   ]
  },
  {
   "cell_type": "code",
   "execution_count": 132,
   "id": "f996e8f0-22ab-465e-9394-b1c80def9ed8",
   "metadata": {},
   "outputs": [
    {
     "data": {
      "text/plain": [
       "(object,)"
      ]
     },
     "execution_count": 132,
     "metadata": {},
     "output_type": "execute_result"
    }
   ],
   "source": [
    "Widget.__bases__"
   ]
  },
  {
   "cell_type": "code",
   "execution_count": 133,
   "id": "e172290f-1130-4534-aaa6-90df927f3950",
   "metadata": {
    "tags": [
     "raises-exception"
    ]
   },
   "outputs": [
    {
     "ename": "AttributeError",
     "evalue": "'object' object has no attribute 'a'",
     "output_type": "error",
     "traceback": [
      "\u001b[1;31m---------------------------------------------------------------------------\u001b[0m",
      "\u001b[1;31mAttributeError\u001b[0m                            Traceback (most recent call last)",
      "Input \u001b[1;32mIn [133]\u001b[0m, in \u001b[0;36m<cell line: 2>\u001b[1;34m()\u001b[0m\n\u001b[0;32m      1\u001b[0m o \u001b[38;5;241m=\u001b[39m \u001b[38;5;28mobject\u001b[39m()\n\u001b[1;32m----> 2\u001b[0m o\u001b[38;5;241m.\u001b[39ma \u001b[38;5;241m=\u001b[39m \u001b[38;5;241m10\u001b[39m\n",
      "\u001b[1;31mAttributeError\u001b[0m: 'object' object has no attribute 'a'"
     ]
    }
   ],
   "source": [
    "o = object()\n",
    "o.a = 10"
   ]
  },
  {
   "cell_type": "code",
   "execution_count": 136,
   "id": "f21a545c-5a2d-42e6-9f4d-60488a7753f2",
   "metadata": {},
   "outputs": [],
   "source": [
    "class Base:\n",
    "    pass\n",
    "\n",
    "class Derived(Base):\n",
    "    __slots__ = ()"
   ]
  },
  {
   "cell_type": "code",
   "execution_count": 138,
   "id": "1e497612-3776-459f-972d-975556e8a9e4",
   "metadata": {},
   "outputs": [],
   "source": [
    "y = Derived()\n",
    "y.a = 10"
   ]
  },
  {
   "cell_type": "code",
   "execution_count": 139,
   "id": "93090fad-6c6e-45f1-a639-df0fe6968e30",
   "metadata": {},
   "outputs": [
    {
     "data": {
      "text/plain": [
       "10"
      ]
     },
     "execution_count": 139,
     "metadata": {},
     "output_type": "execute_result"
    }
   ],
   "source": [
    "y.a"
   ]
  },
  {
   "cell_type": "code",
   "execution_count": 143,
   "id": "21c31285-d7bc-41f7-8be0-9a2a1ada844f",
   "metadata": {},
   "outputs": [],
   "source": [
    "class Hippo:\n",
    "    __slots__ = ('__dict__', 'hunger_level',)\n",
    "    \n",
    "    def __init__(self, hunger_level=9000):\n",
    "        self.hunger_level = hunger_level"
   ]
  },
  {
   "cell_type": "code",
   "execution_count": 144,
   "id": "b8bae421-e76e-4172-afd9-39e3719e0366",
   "metadata": {},
   "outputs": [],
   "source": [
    "h = Hippo(844)\n",
    "h.hunger_level = 1000"
   ]
  },
  {
   "cell_type": "code",
   "execution_count": 145,
   "id": "4554280d-de0c-4e49-b2ea-5905fab53111",
   "metadata": {},
   "outputs": [],
   "source": [
    "h.thirst_level = 3"
   ]
  },
  {
   "cell_type": "code",
   "execution_count": 146,
   "id": "adc63886-6c0a-4f66-9a92-c57549b9c4d3",
   "metadata": {},
   "outputs": [
    {
     "data": {
      "text/plain": [
       "{'thirst_level': 3}"
      ]
     },
     "execution_count": 146,
     "metadata": {},
     "output_type": "execute_result"
    }
   ],
   "source": [
    "h.__dict__"
   ]
  },
  {
   "cell_type": "code",
   "execution_count": 147,
   "id": "242e01f5-f486-4a2a-892e-9b28ef514b37",
   "metadata": {},
   "outputs": [
    {
     "data": {
      "text/plain": [
       "1000"
      ]
     },
     "execution_count": 147,
     "metadata": {},
     "output_type": "execute_result"
    }
   ],
   "source": [
    "h.hunger_level"
   ]
  },
  {
   "cell_type": "code",
   "execution_count": null,
   "id": "35cae8fd-b755-4f6f-8c73-11a6ae0f5ec0",
   "metadata": {},
   "outputs": [],
   "source": []
  }
 ],
 "metadata": {
  "kernelspec": {
   "display_name": "Python 3 (ipykernel)",
   "language": "python",
   "name": "python3"
  },
  "language_info": {
   "codemirror_mode": {
    "name": "ipython",
    "version": 3
   },
   "file_extension": ".py",
   "mimetype": "text/x-python",
   "name": "python",
   "nbconvert_exporter": "python",
   "pygments_lexer": "ipython3",
   "version": "3.10.2"
  }
 },
 "nbformat": 4,
 "nbformat_minor": 5
}
