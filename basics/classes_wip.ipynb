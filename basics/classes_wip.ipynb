{
 "cells": [
  {
   "cell_type": "code",
   "execution_count": 1,
   "id": "3d2542dc-d8d1-4954-91f5-cc5ad24296ae",
   "metadata": {},
   "outputs": [],
   "source": [
    "class SuperSimple:\n",
    "    pass"
   ]
  },
  {
   "cell_type": "code",
   "execution_count": 2,
   "id": "fd69305c-47b3-41bf-a906-a5483a1c6be1",
   "metadata": {},
   "outputs": [],
   "source": [
    "x = SuperSimple()"
   ]
  },
  {
   "cell_type": "code",
   "execution_count": 3,
   "id": "782992b1-aa81-492c-80dd-93c2ec0fb5dc",
   "metadata": {},
   "outputs": [],
   "source": [
    "x.a = 1"
   ]
  },
  {
   "cell_type": "code",
   "execution_count": 4,
   "id": "4858aa3d-13f4-4196-866d-f231a8cefcd7",
   "metadata": {},
   "outputs": [
    {
     "data": {
      "text/plain": [
       "1"
      ]
     },
     "execution_count": 4,
     "metadata": {},
     "output_type": "execute_result"
    }
   ],
   "source": [
    "x.a"
   ]
  },
  {
   "cell_type": "code",
   "execution_count": 5,
   "id": "857d5f2d-dda3-4191-87cc-2b897ec0dd8d",
   "metadata": {},
   "outputs": [
    {
     "data": {
      "text/plain": [
       "<__main__.SuperSimple at 0x1d72134e620>"
      ]
     },
     "execution_count": 5,
     "metadata": {},
     "output_type": "execute_result"
    }
   ],
   "source": [
    "x"
   ]
  },
  {
   "cell_type": "code",
   "execution_count": null,
   "id": "dc8f3dc6-36f2-4be4-b910-cf5f81e21ae4",
   "metadata": {},
   "outputs": [],
   "source": []
  }
 ],
 "metadata": {
  "kernelspec": {
   "display_name": "Python 3 (ipykernel)",
   "language": "python",
   "name": "python3"
  },
  "language_info": {
   "codemirror_mode": {
    "name": "ipython",
    "version": 3
   },
   "file_extension": ".py",
   "mimetype": "text/x-python",
   "name": "python",
   "nbconvert_exporter": "python",
   "pygments_lexer": "ipython3",
   "version": "3.10.6"
  }
 },
 "nbformat": 4,
 "nbformat_minor": 5
}
