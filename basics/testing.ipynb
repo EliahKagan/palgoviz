{
 "cells": [
  {
   "cell_type": "markdown",
   "id": "3c90400e-bb71-4cd4-b279-331e6cfb9c8c",
   "metadata": {},
   "source": [
    "# Automated testing techniques"
   ]
  },
  {
   "cell_type": "markdown",
   "id": "cbedb6d5-5b5d-436e-83c7-31b5ee7f687d",
   "metadata": {},
   "source": [
    "## Arrange, Act, Assert\n",
    "\n",
    "In the absense of a compelling reason to do otherwise (which is rare), each test case should test exactly one thing, clearly express what claim about the code under test it is testing, and test that claim and that claim only. Often it is even feasible to name the test case with a name that will be read by humans as making that claim (e.g., `test_widgets_are_nontoxic`). A test case should:\n",
    "\n",
    "1. **Arrange.** Zero or more actions that set up for what is being tested. Some or all of these actions may be done in test *fixtures* rather than in the test cases themselves, but they are done in preparation for an individual test case.\n",
    "\n",
    "2. **Act.** An action that exercises the code under test, whose effects will be checked.\n",
    "\n",
    "3. **Assert.** An assertion about the effect of the action.\n",
    "\n",
    "Arrange-Act-Assert is sometimes regarded to be incomplete. Arguably a fourth kind of test logic deserves to be distinguished explicitly:\n",
    "\n",
    "4. **Cleanup.** Zero or more actions that tear something down that was used for testing, freeing resources or restoring an invariant. Some or all of these actions may be done in test fixtures rather than in the test cases themselves, but they are done to clean up after an individual test case.\n",
    "\n",
    "These steps should always be clearly identifiable in your test code, and the test code within a test case should not be written out of order, except in the rare situations where that is not feasible.\n",
    "\n",
    "You should always strongly consider separating all these steps so that each statement does only one of those things. (You may still often need to have multiple statements that do one of them, of course.) For example, if you are going to call a function and assert something about the value it returns, you should strongly consider assigning the result to a variable, then using that variable in an assertion on a subsequent line.\n",
    "\n",
    "Controversial claim: In some situations, particularly very simple ones with a large amount of repetition, it may be defensible to combine the steps so that, for example, a statement is both acting and asserting (or, more rarely, both arranging and acting).\n",
    "\n",
    "- If you do this, you should always strongly consider taking the more orthodox approach of strictly separating them, understand why you are deciding not to do that, and be able to defend your decision to a hypothetical interlocutor.\n",
    "\n",
    "- Some people say this should never be done.\n",
    "\n",
    "- Do not do it if it makes tests even slightly less clear, harder to read and understand, more complicated, or harder to verify for correctness.\n",
    "\n",
    "It should be readily apparent to anyone reading a test what logic in that test is arrangement, what logic is acting, and what logic is asserting. It is only defensible to choose to do more than one of these kinds of things in the same statement if you are confident that doing so does not make this distinction any less clear to anyone reading the code.\n",
    "\n",
    "As an opposite approach, some people write `# Arrange`, `# Act`, and `# Assert` comments identifying separate sections of their tests. This is not wrong. But I suggest against doing it, or at least against do it *habitually*, because that information should always be readily apparent in the *code* of the test. It is possible to write complicated or unclear tests where the distinction between arrangement, acting, and asserting is not clear even if the code is separated out. If you find you're doing that, you should redesign the test, if possible. If you do separate the sections and comment them, you should make sure the distinctions would still be fully clear even without the comments.\n",
    "\n",
    "**A test case should almost always have exactly one assertion.** In particular, if you have more than one assertion, it is a strong sign you should be writing more than one test. One solution can be to parameterize the test.\n",
    "\n",
    "Subtests are a form of parameterization and, if separate assertions are done in separate subtests, then the rule to have exactly one assertion is not violated (though you should still make sure you understand why you have decided to use subtests rather than separately written tests or some other form of parameterization).\n",
    "\n",
    "Sometimes it is not feasible to avoid having multiple assertions, and even not feasible to place them in separate subtests. For example, it may be that two claims must be asserted separately for the test code to clearly express what those claims are, but that those claims are very closely tied, such that it is impossible or very misleading to test the second one unless the first one has been found to hold.  In such a situation, you may need to write a test with multiple assertions. But make sure:\n",
    "\n",
    "1. *That the first claim really is part of what you are trying to test and make an assertion about.* If instead the second claim is the one the test is really about, and the first claim is just to verify that the preconditons necessary to test the second claim have been established, then you should check for the first claim and cause the test to *error out* (rather than merely failing). The best way to do this may vary by testing framework, but often you can do it by checking for the precondition with an `if` statement and raising an exception directly. This is one of the rare situations where it it can be reasonable to raise `Exception` (rather than a more derived exception type). Make sure your exception message clearly states the reason for the error.\n",
    "\n",
    "2. *That it would actually be wrong, or at least clearly undesirable, to test the second claim if the first has failed.* If it would always be acceptable to test both, then even if you cannot reasonably write separate tests or parameterize the whole test case, you can likely use subtests (assuming your testing framework supports subtests or you have extended its functionality to do so, such as with a plugin)."
   ]
  },
  {
   "cell_type": "markdown",
   "id": "87d09770-c22e-4538-8faa-5d0e27edbadf",
   "metadata": {},
   "source": [
    "## Hiding classes from `unittest`"
   ]
  },
  {
   "cell_type": "code",
   "execution_count": 1,
   "id": "c271462b-48b6-4d39-ab6d-05cecd7bb616",
   "metadata": {},
   "outputs": [],
   "source": [
    "import unittest"
   ]
  },
  {
   "cell_type": "markdown",
   "id": "ca218164-4d40-4a48-864d-5f346a8d0995",
   "metadata": {},
   "source": [
    "Three ways to keep a `unittest` test runner from picking up test classes:"
   ]
  },
  {
   "cell_type": "markdown",
   "id": "1ebe8fbe-64e0-4095-963c-9dfc657f65e6",
   "metadata": {},
   "source": [
    "#### 1. Delete the names (variables) that refers to the base classes, afterwards."
   ]
  },
  {
   "cell_type": "code",
   "execution_count": 2,
   "id": "082bcf7d-1f04-4720-bb25-4126b26a76b0",
   "metadata": {},
   "outputs": [],
   "source": [
    "class _BaseClassForSomeTests(unittest.TestCase):\n",
    "    ...  # Blah blah, shared tests.\n",
    "\n",
    "class TestWidgets(_BaseClassForSomeTests):\n",
    "    ...  # Anything else we need for widget tests.\n",
    "\n",
    "class TestGadgets(_BaseClassForSomeTests):\n",
    "    ...  # Anything else we need for gadget tests.\n",
    "\n",
    "del _BaseClassForSomeTests\n",
    "# TestWidgets and TestGadgets are still derived classes of _BaseClassForSomeTests."
   ]
  },
  {
   "cell_type": "markdown",
   "id": "04b2e750-583e-45b8-8303-750e5b3134d4",
   "metadata": {},
   "source": [
    "#### 2. Nest the base classes inside another class (created for that purpose)."
   ]
  },
  {
   "cell_type": "code",
   "execution_count": 3,
   "id": "8c55c548-1b85-4949-91f8-bc53b8e11003",
   "metadata": {},
   "outputs": [],
   "source": [
    "class _Bases:\n",
    "    class SharedWidgetGadgetTests(unittest.TestCase):\n",
    "        ... # Blah blah, shared tests.\n",
    "\n",
    "class TestWidgets(_Bases.SharedWidgetGadgetTests):\n",
    "    ...  # Anything else we need for widget tests.\n",
    "\n",
    "class TestGadgets(_Bases.SharedWidgetGadgetTests):\n",
    "    ... # Anything else we need for gadget tests."
   ]
  },
  {
   "cell_type": "markdown",
   "id": "09e257a9-453a-4140-a525-a83ad6a2297a",
   "metadata": {},
   "source": [
    "#### 3. Put the base classes in a separate module the test runner won't find."
   ]
  },
  {
   "cell_type": "markdown",
   "id": "60cdddbe-1f58-4eb1-bf96-f1adeee93828",
   "metadata": {},
   "source": [
    "We might have file `base_test_classes.py`, so the module name doesn't start with `test` (and to be safe, some test runners, in some configurations, look for `test` at the end, too, so avoid that). In that module:"
   ]
  },
  {
   "cell_type": "code",
   "execution_count": 4,
   "id": "60e9a095-8a6f-42c9-a130-0a23b6817e3a",
   "metadata": {},
   "outputs": [],
   "source": [
    "class BaseClassForSomeTests(unittest.TestCase):\n",
    "    ...  # Blah blah, shared tests."
   ]
  },
  {
   "cell_type": "markdown",
   "id": "a0a84b2e-7b2c-44dc-b4df-23d222831d9e",
   "metadata": {},
   "source": [
    "Then one or more other actual test modules (`test_whatever.py`) can import that module or import classes from it:"
   ]
  },
  {
   "cell_type": "markdown",
   "id": "7331c732-b9a8-4c8a-be82-795d8b188c8a",
   "metadata": {},
   "source": [
    "```python\n",
    "from base_test_classes import BaseClassForSomeTests\n",
    "\n",
    "class TestWidgets(BaseClassForSomeTests):\n",
    "    ...  # Anything else we need for widget tests.\n",
    "    \n",
    "class TestGadgets(BaseClassForSomeTests):\n",
    "    ...  # Anything else we need for gadget tests.\n",
    "```"
   ]
  },
  {
   "cell_type": "markdown",
   "id": "0069fdb9-6878-4fa2-94c7-480073ca4171",
   "metadata": {},
   "source": [
    "This approach is the least commonly done, and is mostly only reasonable when two or more separate test modules would benefit from using the base classes, or when it would otherwise be desirable to have the tests in a separate module (even if only one other module is going to use them)."
   ]
  },
  {
   "cell_type": "code",
   "execution_count": null,
   "id": "3282ebe1-2641-4df0-9584-99189df6f13f",
   "metadata": {},
   "outputs": [],
   "source": []
  }
 ],
 "metadata": {
  "kernelspec": {
   "display_name": "Python 3 (ipykernel)",
   "language": "python",
   "name": "python3"
  },
  "language_info": {
   "codemirror_mode": {
    "name": "ipython",
    "version": 3
   },
   "file_extension": ".py",
   "mimetype": "text/x-python",
   "name": "python",
   "nbconvert_exporter": "python",
   "pygments_lexer": "ipython3",
   "version": "3.10.4"
  }
 },
 "nbformat": 4,
 "nbformat_minor": 5
}
