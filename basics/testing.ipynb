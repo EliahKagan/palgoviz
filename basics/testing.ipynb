{
 "cells": [
  {
   "cell_type": "markdown",
   "id": "3c90400e-bb71-4cd4-b279-331e6cfb9c8c",
   "metadata": {},
   "source": [
    "# Automated testing techniques"
   ]
  },
  {
   "cell_type": "code",
   "execution_count": 1,
   "id": "c271462b-48b6-4d39-ab6d-05cecd7bb616",
   "metadata": {},
   "outputs": [],
   "source": [
    "import unittest"
   ]
  },
  {
   "cell_type": "markdown",
   "id": "cdfa327d-01e9-400d-8b55-327cd4fcc9f7",
   "metadata": {},
   "source": [
    "## 3 ways to keep a `unittest` test runner from picking up test classes"
   ]
  },
  {
   "cell_type": "markdown",
   "id": "1ebe8fbe-64e0-4095-963c-9dfc657f65e6",
   "metadata": {},
   "source": [
    "#### 1. Delete the names (variables) that refers to the base classes, afterwards."
   ]
  },
  {
   "cell_type": "code",
   "execution_count": 2,
   "id": "082bcf7d-1f04-4720-bb25-4126b26a76b0",
   "metadata": {},
   "outputs": [],
   "source": [
    "class _BaseClassForSomeTests(unittest.TestCase):\n",
    "    ...  # Blah blah, shared tests.\n",
    "\n",
    "class TestWidgets(_BaseClassForSomeTests):\n",
    "    ...  # Anything else we need for widget tests.\n",
    "\n",
    "class TestGadgets(_BaseClassForSomeTests):\n",
    "    ...  # Anything else we need for gadget tests.\n",
    "\n",
    "del _BaseClassForSomeTests\n",
    "# TestWidgets and TestGadgets are still derived classes of _BaseClassForSomeTests."
   ]
  },
  {
   "cell_type": "markdown",
   "id": "04b2e750-583e-45b8-8303-750e5b3134d4",
   "metadata": {},
   "source": [
    "#### 2. Nest the base classes inside another class (created for that purpose)."
   ]
  },
  {
   "cell_type": "code",
   "execution_count": 3,
   "id": "8c55c548-1b85-4949-91f8-bc53b8e11003",
   "metadata": {},
   "outputs": [],
   "source": [
    "class _Bases:\n",
    "    class SharedWidgetGadgetTests(unittest.TestCase):\n",
    "        ... # Blah blah, shared tests.\n",
    "\n",
    "class TestWidgets(_Bases.SharedWidgetGadgetTests):\n",
    "    ...  # Anything else we need for widget tests.\n",
    "\n",
    "class TestGadgets(_Bases.SharedWidgetGadgetTests):\n",
    "    ... # Anything else we need for gadget tests."
   ]
  },
  {
   "cell_type": "markdown",
   "id": "09e257a9-453a-4140-a525-a83ad6a2297a",
   "metadata": {},
   "source": [
    "#### 3. Put the base classes in a separate module the test runner won't find."
   ]
  },
  {
   "cell_type": "markdown",
   "id": "60cdddbe-1f58-4eb1-bf96-f1adeee93828",
   "metadata": {},
   "source": [
    "We might have file `base_test_classes.py`, so the module name doesn't start with `test` (and to be safe, some test runners, in some configurations, look for `test` at the end, too, so avoid that). In that module:"
   ]
  },
  {
   "cell_type": "code",
   "execution_count": 4,
   "id": "60e9a095-8a6f-42c9-a130-0a23b6817e3a",
   "metadata": {},
   "outputs": [],
   "source": [
    "class BaseClassForSomeTests(unittest.TestCase):\n",
    "    ...  # Blah blah, shared tests."
   ]
  },
  {
   "cell_type": "markdown",
   "id": "a0a84b2e-7b2c-44dc-b4df-23d222831d9e",
   "metadata": {},
   "source": [
    "Then one or more other actual test modules (`test_whatever.py`) can import that module or import classes from it:"
   ]
  },
  {
   "cell_type": "markdown",
   "id": "7331c732-b9a8-4c8a-be82-795d8b188c8a",
   "metadata": {},
   "source": [
    "```python\n",
    "from base_test_classes import BaseClassForSomeTests\n",
    "\n",
    "class TestWidgets(BaseClassForSomeTests):\n",
    "    ...  # Anything else we need for widget tests.\n",
    "    \n",
    "class TestGadgets(BaseClassForSomeTests):\n",
    "    ...  # Anything else we need for gadget tests.\n",
    "```"
   ]
  },
  {
   "cell_type": "markdown",
   "id": "0069fdb9-6878-4fa2-94c7-480073ca4171",
   "metadata": {},
   "source": [
    "This approach is the least commonly done, and is mostly only reasonable when two or more separate test modules would benefit from using the base classes."
   ]
  },
  {
   "cell_type": "code",
   "execution_count": null,
   "id": "3282ebe1-2641-4df0-9584-99189df6f13f",
   "metadata": {},
   "outputs": [],
   "source": []
  }
 ],
 "metadata": {
  "kernelspec": {
   "display_name": "Python 3 (ipykernel)",
   "language": "python",
   "name": "python3"
  },
  "language_info": {
   "codemirror_mode": {
    "name": "ipython",
    "version": 3
   },
   "file_extension": ".py",
   "mimetype": "text/x-python",
   "name": "python",
   "nbconvert_exporter": "python",
   "pygments_lexer": "ipython3",
   "version": "3.10.4"
  }
 },
 "nbformat": 4,
 "nbformat_minor": 5
}
