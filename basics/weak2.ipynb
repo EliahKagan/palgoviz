{
 "cells": [
  {
   "cell_type": "markdown",
   "id": "bcd9c1c2-e564-4884-b698-89510b5b78df",
   "metadata": {},
   "source": [
    "# Weak References - Part 2 of 2 (the weird stuff)"
   ]
  },
  {
   "cell_type": "code",
   "execution_count": 2,
   "id": "30b84533-e032-4736-b277-531a05ded24c",
   "metadata": {},
   "outputs": [],
   "source": [
    "# TODO: Cover weakref.proxy."
   ]
  }
 ],
 "metadata": {
  "kernelspec": {
   "display_name": "Python 3 (ipykernel)",
   "language": "python",
   "name": "python3"
  },
  "language_info": {
   "codemirror_mode": {
    "name": "ipython",
    "version": 3
   },
   "file_extension": ".py",
   "mimetype": "text/x-python",
   "name": "python",
   "nbconvert_exporter": "python",
   "pygments_lexer": "ipython3",
   "version": "3.10.6"
  }
 },
 "nbformat": 4,
 "nbformat_minor": 5
}
