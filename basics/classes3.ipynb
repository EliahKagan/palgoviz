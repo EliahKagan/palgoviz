{
 "cells": [
  {
   "cell_type": "markdown",
   "id": "43c34169-f684-46bb-94e4-c939795d121e",
   "metadata": {},
   "source": [
    "# More on classes\n",
    "\n",
    "We begin with review and design considerations."
   ]
  },
  {
   "cell_type": "code",
   "execution_count": 1,
   "id": "99b3d674-9f55-4e2b-b326-a10ca569e834",
   "metadata": {},
   "outputs": [],
   "source": [
    "class Widget: \n",
    "    \n",
    "    def __init__(self, age, weight): \n",
    "        self.age = age\n",
    "        self.weight = weight\n",
    "    \n",
    "    def __repr__(self): \n",
    "        return f'{type(self).__name__}({self.age!r}, {self.weight!r})'\n",
    "    \n",
    "    def __eq__(self, other): \n",
    "        if not isinstance(other, type(self)):\n",
    "            return NotImplemented\n",
    "        # return self.age == other.age and self.weight == other.weight\n",
    "        return self.__dict__ == other.__dict__"
   ]
  },
  {
   "cell_type": "code",
   "execution_count": 2,
   "id": "9962fd25-f745-45c6-ae87-a275ea248cd4",
   "metadata": {},
   "outputs": [
    {
     "data": {
      "text/plain": [
       "Widget('10 years', '10 pounds')"
      ]
     },
     "execution_count": 2,
     "metadata": {},
     "output_type": "execute_result"
    }
   ],
   "source": [
    "Widget('10 years', '10 pounds')"
   ]
  },
  {
   "cell_type": "code",
   "execution_count": 3,
   "id": "b819d3cb-d58d-44ab-b276-a9a5b12de635",
   "metadata": {},
   "outputs": [
    {
     "data": {
      "text/plain": [
       "True"
      ]
     },
     "execution_count": 3,
     "metadata": {},
     "output_type": "execute_result"
    }
   ],
   "source": [
    "Widget(10.0, 1.0) == Widget(10, 1)"
   ]
  },
  {
   "cell_type": "code",
   "execution_count": 4,
   "id": "b49f293d-c913-43d6-b8b8-75ec40e8a268",
   "metadata": {},
   "outputs": [
    {
     "data": {
      "text/plain": [
       "False"
      ]
     },
     "execution_count": 4,
     "metadata": {},
     "output_type": "execute_result"
    }
   ],
   "source": [
    "Widget(10.0, 1.0) == Widget(10, 2)"
   ]
  },
  {
   "cell_type": "code",
   "execution_count": 5,
   "id": "69d3995a-1e48-47d8-90cf-b563ba019e9f",
   "metadata": {},
   "outputs": [],
   "source": [
    "class Employee: \n",
    "    \n",
    "    def __init__(self, age, weight): \n",
    "        self.age = age\n",
    "        self.weight = weight\n",
    "    \n",
    "    def __repr__(self): \n",
    "        return f'{type(self).__name__}({self.age!r}, {self.weight!r})'\n",
    "    \n",
    "    def __eq__(self, other): \n",
    "        if not isinstance(other, type(self)):\n",
    "            return NotImplemented\n",
    "        # return self.age == other.age and self.weight == other.weight\n",
    "        return self.__dict__ == other.__dict__"
   ]
  },
  {
   "cell_type": "code",
   "execution_count": 6,
   "id": "5b9bec25-f689-4b47-94b9-dc545d87a7de",
   "metadata": {},
   "outputs": [
    {
     "data": {
      "text/plain": [
       "True"
      ]
     },
     "execution_count": 6,
     "metadata": {},
     "output_type": "execute_result"
    }
   ],
   "source": [
    "Employee(23.0, 200.0) == Employee(23, 200)"
   ]
  },
  {
   "cell_type": "code",
   "execution_count": 7,
   "id": "af3b2295-360c-400e-949c-fb58e54cc246",
   "metadata": {},
   "outputs": [
    {
     "data": {
      "text/plain": [
       "False"
      ]
     },
     "execution_count": 7,
     "metadata": {},
     "output_type": "execute_result"
    }
   ],
   "source": [
    "Employee(23.0, 200.0) == Employee(20, 200)"
   ]
  },
  {
   "cell_type": "code",
   "execution_count": 8,
   "id": "3d400607-1c1a-4633-b199-197918b6eb59",
   "metadata": {},
   "outputs": [],
   "source": [
    "w = Widget(70, 180)"
   ]
  },
  {
   "cell_type": "code",
   "execution_count": 9,
   "id": "6c08de88-f971-44ab-819b-5f60437f49f4",
   "metadata": {},
   "outputs": [
    {
     "data": {
      "text/plain": [
       "False"
      ]
     },
     "execution_count": 9,
     "metadata": {},
     "output_type": "execute_result"
    }
   ],
   "source": [
    "w == 42"
   ]
  },
  {
   "cell_type": "code",
   "execution_count": 10,
   "id": "7f73b133-216a-4185-bc51-b14ad569a894",
   "metadata": {},
   "outputs": [],
   "source": [
    "e = Employee(70, 180)"
   ]
  },
  {
   "cell_type": "code",
   "execution_count": 11,
   "id": "faeceada-43a8-4460-8af6-1c30c969bdd7",
   "metadata": {},
   "outputs": [
    {
     "data": {
      "text/plain": [
       "False"
      ]
     },
     "execution_count": 11,
     "metadata": {},
     "output_type": "execute_result"
    }
   ],
   "source": [
    "w == e"
   ]
  },
  {
   "cell_type": "code",
   "execution_count": 12,
   "id": "586ce628-5bf7-4d27-bfdf-df1a689bf01a",
   "metadata": {},
   "outputs": [],
   "source": [
    "class ExplodingWidget(Widget):\n",
    "    def explode(self):\n",
    "        print(f'{self!r} has exploded!')"
   ]
  },
  {
   "cell_type": "code",
   "execution_count": 13,
   "id": "09bcca08-53b9-4234-ba77-4570040733c0",
   "metadata": {},
   "outputs": [],
   "source": [
    "ew = ExplodingWidget(70, 180)"
   ]
  },
  {
   "cell_type": "code",
   "execution_count": 14,
   "id": "6240e848-7cd7-4c64-9003-65401373f21e",
   "metadata": {},
   "outputs": [
    {
     "name": "stdout",
     "output_type": "stream",
     "text": [
      "ExplodingWidget(70, 180) has exploded!\n"
     ]
    }
   ],
   "source": [
    "ew.explode()"
   ]
  },
  {
   "cell_type": "code",
   "execution_count": 15,
   "id": "d960c465-afb5-4163-acc0-20cc28ff8a1e",
   "metadata": {},
   "outputs": [
    {
     "name": "stdout",
     "output_type": "stream",
     "text": [
      "ExplodingWidget(70, 180) has exploded!\n"
     ]
    }
   ],
   "source": [
    "ew.explode()"
   ]
  },
  {
   "cell_type": "code",
   "execution_count": 16,
   "id": "8b691e1a-bee0-4c37-8458-150311a79e54",
   "metadata": {},
   "outputs": [
    {
     "data": {
      "text/plain": [
       "True"
      ]
     },
     "execution_count": 16,
     "metadata": {},
     "output_type": "execute_result"
    }
   ],
   "source": [
    "w == ew"
   ]
  },
  {
   "cell_type": "code",
   "execution_count": 17,
   "id": "0150e271-b7b1-4004-a8d8-2dc6ad0ee92f",
   "metadata": {},
   "outputs": [
    {
     "data": {
      "text/plain": [
       "True"
      ]
     },
     "execution_count": 17,
     "metadata": {},
     "output_type": "execute_result"
    }
   ],
   "source": [
    "w.__dict__ == e.__dict__"
   ]
  },
  {
   "cell_type": "markdown",
   "id": "d520221c-a0f5-478f-9b46-872de4159c3d",
   "metadata": {},
   "source": [
    "## Weird derived classes (semi-review)"
   ]
  },
  {
   "cell_type": "code",
   "execution_count": 25,
   "id": "d653fd65-aeba-4369-957c-f3d1bbbc99c1",
   "metadata": {},
   "outputs": [],
   "source": [
    "class CallableStr(str): \n",
    "    def __call__(self): \n",
    "        return self"
   ]
  },
  {
   "cell_type": "code",
   "execution_count": 26,
   "id": "0100f2e5-a49b-4543-8147-1beb7595ee2b",
   "metadata": {},
   "outputs": [],
   "source": [
    "f = CallableStr(312)"
   ]
  },
  {
   "cell_type": "code",
   "execution_count": 27,
   "id": "b9dafea9-23ac-4328-911c-585011c4b0c7",
   "metadata": {},
   "outputs": [
    {
     "data": {
      "text/plain": [
       "'312'"
      ]
     },
     "execution_count": 27,
     "metadata": {},
     "output_type": "execute_result"
    }
   ],
   "source": [
    "f"
   ]
  },
  {
   "cell_type": "code",
   "execution_count": 28,
   "id": "2c4826af-1a7c-4fdb-93e5-5f800710c560",
   "metadata": {},
   "outputs": [
    {
     "data": {
      "text/plain": [
       "'312'"
      ]
     },
     "execution_count": 28,
     "metadata": {},
     "output_type": "execute_result"
    }
   ],
   "source": [
    "f()"
   ]
  },
  {
   "cell_type": "code",
   "execution_count": 29,
   "id": "f5c06d02-7d7b-430f-98e4-29fd3b6d1c0e",
   "metadata": {},
   "outputs": [
    {
     "data": {
      "text/plain": [
       "True"
      ]
     },
     "execution_count": 29,
     "metadata": {},
     "output_type": "execute_result"
    }
   ],
   "source": [
    "f is f()"
   ]
  },
  {
   "cell_type": "code",
   "execution_count": 30,
   "id": "cb26c9e3-0b24-40b1-ae73-f0ab911ed7f9",
   "metadata": {},
   "outputs": [],
   "source": [
    "from decorators import joining"
   ]
  },
  {
   "cell_type": "code",
   "execution_count": 31,
   "id": "20e54b39-8947-4d46-80d1-1ebb4cead696",
   "metadata": {},
   "outputs": [
    {
     "data": {
      "text/plain": [
       "<function __main__.joining.<locals>.decorator.<locals>.wrapper()>"
      ]
     },
     "execution_count": 31,
     "metadata": {},
     "output_type": "execute_result"
    }
   ],
   "source": [
    "joining(f)"
   ]
  },
  {
   "cell_type": "code",
   "execution_count": 32,
   "id": "dd8bb0e9-bbfd-4d12-bf45-99fef4685da0",
   "metadata": {},
   "outputs": [
    {
     "data": {
      "text/plain": [
       "<function decorators.joining.<locals>.decorator(func)>"
      ]
     },
     "execution_count": 32,
     "metadata": {},
     "output_type": "execute_result"
    }
   ],
   "source": [
    "joining('s')"
   ]
  },
  {
   "cell_type": "code",
   "execution_count": null,
   "id": "452d338e-5955-4875-bc6c-a8572e0ca027",
   "metadata": {},
   "outputs": [],
   "source": []
  }
 ],
 "metadata": {
  "kernelspec": {
   "display_name": "Python 3 (ipykernel)",
   "language": "python",
   "name": "python3"
  },
  "language_info": {
   "codemirror_mode": {
    "name": "ipython",
    "version": 3
   },
   "file_extension": ".py",
   "mimetype": "text/x-python",
   "name": "python",
   "nbconvert_exporter": "python",
   "pygments_lexer": "ipython3",
   "version": "3.10.6"
  }
 },
 "nbformat": 4,
 "nbformat_minor": 5
}
