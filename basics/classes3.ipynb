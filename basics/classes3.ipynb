{
 "cells": [
  {
   "cell_type": "markdown",
   "id": "43c34169-f684-46bb-94e4-c939795d121e",
   "metadata": {},
   "source": [
    "# More on classes\n",
    "\n",
    "We begin with review and design considerations."
   ]
  },
  {
   "cell_type": "code",
   "execution_count": 1,
   "id": "99b3d674-9f55-4e2b-b326-a10ca569e834",
   "metadata": {},
   "outputs": [],
   "source": [
    "class Widget: \n",
    "    \n",
    "    def __init__(self, age, weight): \n",
    "        self.age = age\n",
    "        self.weight = weight\n",
    "    \n",
    "    def __repr__(self): \n",
    "        return f'{type(self).__name__}({self.age!r}, {self.weight!r})'\n",
    "    \n",
    "    def __eq__(self, other): \n",
    "        if not isinstance(other, type(self)):\n",
    "            return NotImplemented\n",
    "        # return self.age == other.age and self.weight == other.weight\n",
    "        return self.__dict__ == other.__dict__"
   ]
  },
  {
   "cell_type": "code",
   "execution_count": 2,
   "id": "9962fd25-f745-45c6-ae87-a275ea248cd4",
   "metadata": {},
   "outputs": [
    {
     "data": {
      "text/plain": [
       "Widget('10 years', '10 pounds')"
      ]
     },
     "execution_count": 2,
     "metadata": {},
     "output_type": "execute_result"
    }
   ],
   "source": [
    "Widget('10 years', '10 pounds')"
   ]
  },
  {
   "cell_type": "code",
   "execution_count": 3,
   "id": "b819d3cb-d58d-44ab-b276-a9a5b12de635",
   "metadata": {},
   "outputs": [
    {
     "data": {
      "text/plain": [
       "True"
      ]
     },
     "execution_count": 3,
     "metadata": {},
     "output_type": "execute_result"
    }
   ],
   "source": [
    "Widget(10.0, 1.0) == Widget(10, 1)"
   ]
  },
  {
   "cell_type": "code",
   "execution_count": 4,
   "id": "b49f293d-c913-43d6-b8b8-75ec40e8a268",
   "metadata": {},
   "outputs": [
    {
     "data": {
      "text/plain": [
       "False"
      ]
     },
     "execution_count": 4,
     "metadata": {},
     "output_type": "execute_result"
    }
   ],
   "source": [
    "Widget(10.0, 1.0) == Widget(10, 2)"
   ]
  },
  {
   "cell_type": "code",
   "execution_count": 5,
   "id": "69d3995a-1e48-47d8-90cf-b563ba019e9f",
   "metadata": {},
   "outputs": [],
   "source": [
    "class Employee: \n",
    "    \n",
    "    def __init__(self, age, weight): \n",
    "        self.age = age\n",
    "        self.weight = weight\n",
    "    \n",
    "    def __repr__(self): \n",
    "        return f'{type(self).__name__}({self.age!r}, {self.weight!r})'\n",
    "    \n",
    "    def __eq__(self, other): \n",
    "        if not isinstance(other, type(self)):\n",
    "            return NotImplemented\n",
    "        # return self.age == other.age and self.weight == other.weight\n",
    "        return self.__dict__ == other.__dict__"
   ]
  },
  {
   "cell_type": "code",
   "execution_count": 6,
   "id": "5b9bec25-f689-4b47-94b9-dc545d87a7de",
   "metadata": {},
   "outputs": [
    {
     "data": {
      "text/plain": [
       "True"
      ]
     },
     "execution_count": 6,
     "metadata": {},
     "output_type": "execute_result"
    }
   ],
   "source": [
    "Employee(23.0, 200.0) == Employee(23, 200)"
   ]
  },
  {
   "cell_type": "code",
   "execution_count": 7,
   "id": "af3b2295-360c-400e-949c-fb58e54cc246",
   "metadata": {},
   "outputs": [
    {
     "data": {
      "text/plain": [
       "False"
      ]
     },
     "execution_count": 7,
     "metadata": {},
     "output_type": "execute_result"
    }
   ],
   "source": [
    "Employee(23.0, 200.0) == Employee(20, 200)"
   ]
  },
  {
   "cell_type": "code",
   "execution_count": 8,
   "id": "3d400607-1c1a-4633-b199-197918b6eb59",
   "metadata": {},
   "outputs": [],
   "source": [
    "w = Widget(70, 180)"
   ]
  },
  {
   "cell_type": "code",
   "execution_count": 9,
   "id": "6c08de88-f971-44ab-819b-5f60437f49f4",
   "metadata": {},
   "outputs": [
    {
     "data": {
      "text/plain": [
       "False"
      ]
     },
     "execution_count": 9,
     "metadata": {},
     "output_type": "execute_result"
    }
   ],
   "source": [
    "w == 42"
   ]
  },
  {
   "cell_type": "code",
   "execution_count": 10,
   "id": "7f73b133-216a-4185-bc51-b14ad569a894",
   "metadata": {},
   "outputs": [],
   "source": [
    "e = Employee(70, 180)"
   ]
  },
  {
   "cell_type": "code",
   "execution_count": 11,
   "id": "faeceada-43a8-4460-8af6-1c30c969bdd7",
   "metadata": {},
   "outputs": [
    {
     "data": {
      "text/plain": [
       "False"
      ]
     },
     "execution_count": 11,
     "metadata": {},
     "output_type": "execute_result"
    }
   ],
   "source": [
    "w == e"
   ]
  },
  {
   "cell_type": "code",
   "execution_count": 12,
   "id": "586ce628-5bf7-4d27-bfdf-df1a689bf01a",
   "metadata": {},
   "outputs": [],
   "source": [
    "class ExplodingWidget(Widget):\n",
    "    def explode(self):\n",
    "        print(f'{self!r} has exploded!')"
   ]
  },
  {
   "cell_type": "code",
   "execution_count": 13,
   "id": "09bcca08-53b9-4234-ba77-4570040733c0",
   "metadata": {},
   "outputs": [],
   "source": [
    "ew = ExplodingWidget(70, 180)"
   ]
  },
  {
   "cell_type": "code",
   "execution_count": 14,
   "id": "6240e848-7cd7-4c64-9003-65401373f21e",
   "metadata": {},
   "outputs": [
    {
     "name": "stdout",
     "output_type": "stream",
     "text": [
      "ExplodingWidget(70, 180) has exploded!\n"
     ]
    }
   ],
   "source": [
    "ew.explode()"
   ]
  },
  {
   "cell_type": "code",
   "execution_count": 15,
   "id": "d960c465-afb5-4163-acc0-20cc28ff8a1e",
   "metadata": {},
   "outputs": [
    {
     "name": "stdout",
     "output_type": "stream",
     "text": [
      "ExplodingWidget(70, 180) has exploded!\n"
     ]
    }
   ],
   "source": [
    "ew.explode()"
   ]
  },
  {
   "cell_type": "code",
   "execution_count": 16,
   "id": "8b691e1a-bee0-4c37-8458-150311a79e54",
   "metadata": {},
   "outputs": [
    {
     "data": {
      "text/plain": [
       "True"
      ]
     },
     "execution_count": 16,
     "metadata": {},
     "output_type": "execute_result"
    }
   ],
   "source": [
    "w == ew"
   ]
  },
  {
   "cell_type": "code",
   "execution_count": 17,
   "id": "0150e271-b7b1-4004-a8d8-2dc6ad0ee92f",
   "metadata": {},
   "outputs": [
    {
     "data": {
      "text/plain": [
       "True"
      ]
     },
     "execution_count": 17,
     "metadata": {},
     "output_type": "execute_result"
    }
   ],
   "source": [
    "w.__dict__ == e.__dict__"
   ]
  },
  {
   "cell_type": "markdown",
   "id": "d520221c-a0f5-478f-9b46-872de4159c3d",
   "metadata": {},
   "source": [
    "## Weird derived classes (semi-review)"
   ]
  },
  {
   "cell_type": "code",
   "execution_count": 18,
   "id": "d653fd65-aeba-4369-957c-f3d1bbbc99c1",
   "metadata": {},
   "outputs": [],
   "source": [
    "class CallableStr(str): \n",
    "    def __call__(self): \n",
    "        return self"
   ]
  },
  {
   "cell_type": "code",
   "execution_count": 19,
   "id": "0100f2e5-a49b-4543-8147-1beb7595ee2b",
   "metadata": {},
   "outputs": [],
   "source": [
    "f = CallableStr(312)"
   ]
  },
  {
   "cell_type": "code",
   "execution_count": 20,
   "id": "b9dafea9-23ac-4328-911c-585011c4b0c7",
   "metadata": {},
   "outputs": [
    {
     "data": {
      "text/plain": [
       "'312'"
      ]
     },
     "execution_count": 20,
     "metadata": {},
     "output_type": "execute_result"
    }
   ],
   "source": [
    "f"
   ]
  },
  {
   "cell_type": "code",
   "execution_count": 21,
   "id": "2c4826af-1a7c-4fdb-93e5-5f800710c560",
   "metadata": {},
   "outputs": [
    {
     "data": {
      "text/plain": [
       "'312'"
      ]
     },
     "execution_count": 21,
     "metadata": {},
     "output_type": "execute_result"
    }
   ],
   "source": [
    "f()"
   ]
  },
  {
   "cell_type": "code",
   "execution_count": 22,
   "id": "f5c06d02-7d7b-430f-98e4-29fd3b6d1c0e",
   "metadata": {},
   "outputs": [
    {
     "data": {
      "text/plain": [
       "True"
      ]
     },
     "execution_count": 22,
     "metadata": {},
     "output_type": "execute_result"
    }
   ],
   "source": [
    "f is f()"
   ]
  },
  {
   "cell_type": "code",
   "execution_count": 23,
   "id": "cb26c9e3-0b24-40b1-ae73-f0ab911ed7f9",
   "metadata": {},
   "outputs": [],
   "source": [
    "from decorators import joining"
   ]
  },
  {
   "cell_type": "code",
   "execution_count": 24,
   "id": "20e54b39-8947-4d46-80d1-1ebb4cead696",
   "metadata": {},
   "outputs": [
    {
     "data": {
      "text/plain": [
       "<function __main__.joining.<locals>.decorator.<locals>.wrapper()>"
      ]
     },
     "execution_count": 24,
     "metadata": {},
     "output_type": "execute_result"
    }
   ],
   "source": [
    "joining(f)"
   ]
  },
  {
   "cell_type": "code",
   "execution_count": 25,
   "id": "dd8bb0e9-bbfd-4d12-bf45-99fef4685da0",
   "metadata": {},
   "outputs": [
    {
     "data": {
      "text/plain": [
       "<function decorators.joining.<locals>.decorator(func)>"
      ]
     },
     "execution_count": 25,
     "metadata": {},
     "output_type": "execute_result"
    }
   ],
   "source": [
    "joining('s')"
   ]
  },
  {
   "cell_type": "markdown",
   "id": "bb160c27-2855-437b-a75e-130164b8620c",
   "metadata": {},
   "source": [
    "## Effect of defining special methods (review)"
   ]
  },
  {
   "cell_type": "markdown",
   "id": "d191d29e-031b-4c9f-a735-13ae7850685e",
   "metadata": {},
   "source": [
    "Defining special dunder methods (\"magic\" methods) as attributes of a class (which is most often done with a `def` statement in the class body) customizes the behavior of *instances* of the class. They should not be defined on the instances themselves (which does not work, and constitutes using a dunder name in a manner other than explicitly documented)."
   ]
  },
  {
   "cell_type": "code",
   "execution_count": 32,
   "id": "a87b303e-5fef-4bb6-b873-cb96154341f4",
   "metadata": {},
   "outputs": [],
   "source": [
    "class HasRepr: \n",
    "    def __repr__(self): \n",
    "        return f'{type(self).__name__}()'"
   ]
  },
  {
   "cell_type": "code",
   "execution_count": 43,
   "id": "ae0de369-5c63-402a-a89b-f040ff3409a1",
   "metadata": {},
   "outputs": [],
   "source": [
    "hr = HasRepr()"
   ]
  },
  {
   "cell_type": "code",
   "execution_count": 44,
   "id": "7b20ba15-0928-4efd-ab3a-a310e71634fb",
   "metadata": {},
   "outputs": [
    {
     "data": {
      "text/plain": [
       "'HasRepr()'"
      ]
     },
     "execution_count": 44,
     "metadata": {},
     "output_type": "execute_result"
    }
   ],
   "source": [
    "hr.__repr__()"
   ]
  },
  {
   "cell_type": "code",
   "execution_count": 45,
   "id": "090bcf93-e500-4ee9-bbff-43ec09353883",
   "metadata": {},
   "outputs": [
    {
     "data": {
      "text/plain": [
       "HasRepr()"
      ]
     },
     "execution_count": 45,
     "metadata": {},
     "output_type": "execute_result"
    }
   ],
   "source": [
    "hr"
   ]
  },
  {
   "cell_type": "code",
   "execution_count": 46,
   "id": "70176038-a160-483d-b163-77afe745169b",
   "metadata": {},
   "outputs": [
    {
     "data": {
      "text/plain": [
       "'HasRepr()'"
      ]
     },
     "execution_count": 46,
     "metadata": {},
     "output_type": "execute_result"
    }
   ],
   "source": [
    "repr(hr)"
   ]
  },
  {
   "cell_type": "code",
   "execution_count": 34,
   "id": "b8d566ba-9108-45b7-b672-054b5456918d",
   "metadata": {},
   "outputs": [],
   "source": [
    "class NoRepr: \n",
    "    pass"
   ]
  },
  {
   "cell_type": "code",
   "execution_count": 40,
   "id": "4899a269-9951-43f2-b259-3671e25e3fc8",
   "metadata": {},
   "outputs": [],
   "source": [
    "nr = NoRepr()\n",
    "nr.__repr__ = lambda self: f'{type(self).__name__}()'"
   ]
  },
  {
   "cell_type": "code",
   "execution_count": 42,
   "id": "1c2e95d3-ccb6-46b7-9811-c84f81bb3851",
   "metadata": {},
   "outputs": [
    {
     "data": {
      "text/plain": [
       "'NoRepr()'"
      ]
     },
     "execution_count": 42,
     "metadata": {},
     "output_type": "execute_result"
    }
   ],
   "source": [
    "nr.__repr__(nr)"
   ]
  },
  {
   "cell_type": "code",
   "execution_count": 47,
   "id": "1b62cc24-a0ee-4a57-b449-4598b0f6e8fd",
   "metadata": {},
   "outputs": [],
   "source": [
    "NoRepr.__repr__ = lambda self: f'{type(self).__name__}()'"
   ]
  },
  {
   "cell_type": "code",
   "execution_count": 48,
   "id": "778370d4-993e-47bf-9156-807ac8ca1876",
   "metadata": {},
   "outputs": [
    {
     "data": {
      "text/plain": [
       "NoRepr()"
      ]
     },
     "execution_count": 48,
     "metadata": {},
     "output_type": "execute_result"
    }
   ],
   "source": [
    "nr"
   ]
  },
  {
   "cell_type": "code",
   "execution_count": 49,
   "id": "5e69be1a-c08a-43cd-a783-992e17113425",
   "metadata": {
    "tags": [
     "raises-exception"
    ]
   },
   "outputs": [
    {
     "ename": "TypeError",
     "evalue": "<lambda>() missing 1 required positional argument: 'self'",
     "output_type": "error",
     "traceback": [
      "\u001b[1;31m---------------------------------------------------------------------------\u001b[0m",
      "\u001b[1;31mTypeError\u001b[0m                                 Traceback (most recent call last)",
      "Cell \u001b[1;32mIn [49], line 1\u001b[0m\n\u001b[1;32m----> 1\u001b[0m \u001b[43mnr\u001b[49m\u001b[38;5;241;43m.\u001b[39;49m\u001b[38;5;21;43m__repr__\u001b[39;49m\u001b[43m(\u001b[49m\u001b[43m)\u001b[49m\n",
      "\u001b[1;31mTypeError\u001b[0m: <lambda>() missing 1 required positional argument: 'self'"
     ]
    }
   ],
   "source": [
    "nr.__repr__()"
   ]
  },
  {
   "cell_type": "code",
   "execution_count": 50,
   "id": "4764c8ae-29b3-4532-954d-01b5c805742e",
   "metadata": {},
   "outputs": [],
   "source": [
    "nr2 = NoRepr()"
   ]
  },
  {
   "cell_type": "code",
   "execution_count": 51,
   "id": "9e56f9a4-4879-4ed7-ac4c-e055b28b5e37",
   "metadata": {},
   "outputs": [
    {
     "data": {
      "text/plain": [
       "'NoRepr()'"
      ]
     },
     "execution_count": 51,
     "metadata": {},
     "output_type": "execute_result"
    }
   ],
   "source": [
    "nr2.__repr__()"
   ]
  },
  {
   "cell_type": "code",
   "execution_count": 52,
   "id": "14e76d22-dd95-4e3c-9f88-535edb16522b",
   "metadata": {},
   "outputs": [],
   "source": [
    "class ReallyNoRepr: \n",
    "    pass"
   ]
  },
  {
   "cell_type": "code",
   "execution_count": 54,
   "id": "2d62cf62-bac8-4235-a852-0505e49b490b",
   "metadata": {},
   "outputs": [],
   "source": [
    "rnr = ReallyNoRepr()\n",
    "rnr.__repr__ = lambda: f'{type(rnr).__name__}()'"
   ]
  },
  {
   "cell_type": "code",
   "execution_count": 55,
   "id": "5e2c4b4c-02fc-44d3-a967-3cc87b6a1917",
   "metadata": {},
   "outputs": [
    {
     "data": {
      "text/plain": [
       "'ReallyNoRepr()'"
      ]
     },
     "execution_count": 55,
     "metadata": {},
     "output_type": "execute_result"
    }
   ],
   "source": [
    "rnr.__repr__()"
   ]
  },
  {
   "cell_type": "code",
   "execution_count": 56,
   "id": "3f36a892-fd30-4ba5-96c8-403d521ab1d0",
   "metadata": {},
   "outputs": [
    {
     "data": {
      "text/plain": [
       "<__main__.ReallyNoRepr at 0x27ab9f8d0f0>"
      ]
     },
     "execution_count": 56,
     "metadata": {},
     "output_type": "execute_result"
    }
   ],
   "source": [
    "rnr"
   ]
  },
  {
   "cell_type": "markdown",
   "id": "ab8cf04a-cf4d-4d67-a104-42e405ad9dbd",
   "metadata": {},
   "source": [
    "## Review of `super`"
   ]
  },
  {
   "cell_type": "code",
   "execution_count": 57,
   "id": "cfe0aa79-b0df-4e49-8120-49aeb9d8ce71",
   "metadata": {},
   "outputs": [],
   "source": [
    "del CallableStr  # Just to make clear that we're not reusing the old one."
   ]
  },
  {
   "cell_type": "code",
   "execution_count": 94,
   "id": "c8ee4e50-fdc8-4161-a340-f63d1b665bef",
   "metadata": {},
   "outputs": [],
   "source": [
    "class CallableStr(str): \n",
    "    def __repr__(self): \n",
    "        return f'{type(self).__name__}({super().__repr__()})'\n",
    "    \n",
    "    def __call__(self): \n",
    "        return self"
   ]
  },
  {
   "cell_type": "code",
   "execution_count": 95,
   "id": "19c135e4-2e9e-4cce-8607-31902570287b",
   "metadata": {},
   "outputs": [],
   "source": [
    "f = CallableStr(312)"
   ]
  },
  {
   "cell_type": "code",
   "execution_count": 96,
   "id": "360c26cf-3bda-4105-983e-978f81e45c6e",
   "metadata": {},
   "outputs": [
    {
     "data": {
      "text/plain": [
       "CallableStr('312')"
      ]
     },
     "execution_count": 96,
     "metadata": {},
     "output_type": "execute_result"
    }
   ],
   "source": [
    "f"
   ]
  },
  {
   "cell_type": "code",
   "execution_count": 97,
   "id": "ff6c49ec-defb-4df3-8a99-cdf031415230",
   "metadata": {},
   "outputs": [
    {
     "data": {
      "text/plain": [
       "CallableStr('312')"
      ]
     },
     "execution_count": 97,
     "metadata": {},
     "output_type": "execute_result"
    }
   ],
   "source": [
    "CallableStr('312')"
   ]
  },
  {
   "cell_type": "code",
   "execution_count": 86,
   "id": "a74ff20b-0109-48a0-ac9f-68778b6a59ea",
   "metadata": {},
   "outputs": [
    {
     "data": {
      "text/plain": [
       "CallableStr(\"a'b\")"
      ]
     },
     "execution_count": 86,
     "metadata": {},
     "output_type": "execute_result"
    }
   ],
   "source": [
    "CallableStr(\"a'b\")"
   ]
  },
  {
   "cell_type": "code",
   "execution_count": 87,
   "id": "80365bf5-a73e-4052-a25f-d5f86c7fca30",
   "metadata": {},
   "outputs": [
    {
     "data": {
      "text/plain": [
       "CallableStr(\"a'b\")"
      ]
     },
     "execution_count": 87,
     "metadata": {},
     "output_type": "execute_result"
    }
   ],
   "source": [
    "CallableStr('a\\'b')"
   ]
  },
  {
   "cell_type": "code",
   "execution_count": 98,
   "id": "045ee1c4-a00a-4973-965c-ca39cd43f2c8",
   "metadata": {
    "tags": [
     "raises-exception"
    ]
   },
   "outputs": [
    {
     "ename": "RuntimeError",
     "evalue": "super(): no arguments",
     "output_type": "error",
     "traceback": [
      "\u001b[1;31m---------------------------------------------------------------------------\u001b[0m",
      "\u001b[1;31mRuntimeError\u001b[0m                              Traceback (most recent call last)",
      "Cell \u001b[1;32mIn [98], line 1\u001b[0m\n\u001b[1;32m----> 1\u001b[0m kent \u001b[38;5;241m=\u001b[39m \u001b[38;5;28;43msuper\u001b[39;49m\u001b[43m(\u001b[49m\u001b[43m)\u001b[49m\n",
      "\u001b[1;31mRuntimeError\u001b[0m: super(): no arguments"
     ]
    }
   ],
   "source": [
    "kent = super()"
   ]
  },
  {
   "cell_type": "code",
   "execution_count": 99,
   "id": "71ee3268-c6ee-4a75-b9fd-279fd82d88df",
   "metadata": {},
   "outputs": [],
   "source": [
    "class CallableInt(int): \n",
    "    def __repr__(self): \n",
    "        return f'{type(self).__name__}({super().__repr__()})'\n",
    "    \n",
    "    def __call__(self): \n",
    "        return self"
   ]
  },
  {
   "cell_type": "code",
   "execution_count": 100,
   "id": "23154c0c-03bc-4a0b-b48d-49652088221e",
   "metadata": {},
   "outputs": [],
   "source": [
    "g = CallableInt('312')"
   ]
  },
  {
   "cell_type": "code",
   "execution_count": 101,
   "id": "494f0d66-6b30-44bf-b5ea-c1a3a3496f90",
   "metadata": {},
   "outputs": [
    {
     "data": {
      "text/plain": [
       "CallableInt(312)"
      ]
     },
     "execution_count": 101,
     "metadata": {},
     "output_type": "execute_result"
    }
   ],
   "source": [
    "g"
   ]
  },
  {
   "cell_type": "code",
   "execution_count": 102,
   "id": "c582272e-a4f8-4630-bffe-7c5e53cdee7d",
   "metadata": {},
   "outputs": [
    {
     "data": {
      "text/plain": [
       "CallableInt(312)"
      ]
     },
     "execution_count": 102,
     "metadata": {},
     "output_type": "execute_result"
    }
   ],
   "source": [
    "CallableInt(312)"
   ]
  },
  {
   "cell_type": "markdown",
   "id": "9791d1ac-5347-45f2-93cc-5a376ccb9ef0",
   "metadata": {},
   "source": [
    "## Conferring that style of `repr` via mixin class"
   ]
  },
  {
   "cell_type": "code",
   "execution_count": 106,
   "id": "2a3c8f0c-6d8d-4d81-9cdd-d140700ef832",
   "metadata": {},
   "outputs": [],
   "source": [
    "class _MixinRepr:\n",
    "    def __repr__(self): \n",
    "        return f'{type(self).__name__}({super().__repr__()})'"
   ]
  },
  {
   "cell_type": "code",
   "execution_count": 107,
   "id": "0e71e276-a155-4391-a58c-91f9fd50e980",
   "metadata": {},
   "outputs": [],
   "source": [
    "class CallableStrA(_MixinRepr, str): \n",
    "    def __call__(self): \n",
    "        return self"
   ]
  },
  {
   "cell_type": "code",
   "execution_count": 108,
   "id": "ac9b6afe-f372-4834-9757-41e668fe4a20",
   "metadata": {},
   "outputs": [],
   "source": [
    "a = CallableStrA('a')"
   ]
  },
  {
   "cell_type": "code",
   "execution_count": 109,
   "id": "a4dd5216-6b87-4406-99f0-7821307696b7",
   "metadata": {},
   "outputs": [
    {
     "data": {
      "text/plain": [
       "CallableStrA('a')"
      ]
     },
     "execution_count": 109,
     "metadata": {},
     "output_type": "execute_result"
    }
   ],
   "source": [
    "a"
   ]
  },
  {
   "cell_type": "code",
   "execution_count": 110,
   "id": "01986a33-d41a-4bf3-9d92-5ebdcda43d9f",
   "metadata": {},
   "outputs": [],
   "source": [
    "class CallableIntA(_MixinRepr, int): \n",
    "    def __call__(self): \n",
    "        return self"
   ]
  },
  {
   "cell_type": "code",
   "execution_count": 111,
   "id": "65f9e88f-1e64-46e8-9378-e2a7ddf08dbe",
   "metadata": {},
   "outputs": [],
   "source": [
    "one = CallableIntA('1')"
   ]
  },
  {
   "cell_type": "code",
   "execution_count": 112,
   "id": "58fd4ad6-7262-488b-a599-3655af2143b3",
   "metadata": {},
   "outputs": [
    {
     "data": {
      "text/plain": [
       "CallableIntA(1)"
      ]
     },
     "execution_count": 112,
     "metadata": {},
     "output_type": "execute_result"
    }
   ],
   "source": [
    "one"
   ]
  },
  {
   "cell_type": "code",
   "execution_count": 113,
   "id": "6e6eb721-345b-4dd7-b199-eb2307277815",
   "metadata": {},
   "outputs": [],
   "source": [
    "class BrokenCallableStrA(str, _MixinRepr):  # Lists bases in wrong order.\n",
    "    def __call__(self): \n",
    "        return self"
   ]
  },
  {
   "cell_type": "code",
   "execution_count": 114,
   "id": "c8ebac9f-f8ba-4ae7-a164-324dfdacf7dc",
   "metadata": {},
   "outputs": [
    {
     "data": {
      "text/plain": [
       "'a'"
      ]
     },
     "execution_count": 114,
     "metadata": {},
     "output_type": "execute_result"
    }
   ],
   "source": [
    "BrokenCallableStrA('a')"
   ]
  },
  {
   "cell_type": "markdown",
   "id": "6364e6fb-4a2c-483c-bc36-5fb3529010e4",
   "metadata": {},
   "source": [
    "## Important sidebar: Method resolution order"
   ]
  },
  {
   "cell_type": "code",
   "execution_count": 115,
   "id": "c910f288-c2dd-4a98-b09d-aaf8c5a01677",
   "metadata": {},
   "outputs": [
    {
     "data": {
      "text/plain": [
       "(__main__.CallableStrA, __main__._MixinRepr, str, object)"
      ]
     },
     "execution_count": 115,
     "metadata": {},
     "output_type": "execute_result"
    }
   ],
   "source": [
    "CallableStrA.__mro__"
   ]
  },
  {
   "cell_type": "code",
   "execution_count": 116,
   "id": "e6a6a74f-f9cc-4159-851e-88ef6ebdffb9",
   "metadata": {},
   "outputs": [
    {
     "data": {
      "text/plain": [
       "(__main__.BrokenCallableStrA, str, __main__._MixinRepr, object)"
      ]
     },
     "execution_count": 116,
     "metadata": {},
     "output_type": "execute_result"
    }
   ],
   "source": [
    "BrokenCallableStrA.__mro__"
   ]
  },
  {
   "cell_type": "markdown",
   "id": "190de08f-09dd-4dfb-8bd9-0102833632de",
   "metadata": {},
   "source": [
    "## Named tuples and data classes: Motivation"
   ]
  },
  {
   "cell_type": "code",
   "execution_count": 27,
   "id": "117edf69-fa59-4b5a-bbe1-7915072b798c",
   "metadata": {},
   "outputs": [],
   "source": [
    "def summarize(values):\n",
    "    \"\"\"\n",
    "    Compute min, max, and arithmetic, geometric, and harmonic mean.\n",
    "\n",
    "    values is an arbitrary nonempty iterable of strictly positive real numbers.\n",
    "    If values is empty, or any value is nonpositive, ValueError is raised. The\n",
    "    caller is responsible for ensuring each object in values represents a real\n",
    "    number. The five computed results are returned as [FIXME: decide how].\n",
    "\n",
    "    All computations are done in a single pass: values is iterated just once.\n",
    "    Time complexity is O(len(values)). Space complexity is O(1). These assume a\n",
    "    number takes O(1) space and arithmetic operations take O(1) time, which is\n",
    "    often an approximation in Python, but it is guaranteed when using floats.\n",
    "    \"\"\"\n",
    "    # FIXME: Implement this."
   ]
  },
  {
   "cell_type": "code",
   "execution_count": 28,
   "id": "3118c10a-69c5-47bb-aaf5-2715840f477d",
   "metadata": {},
   "outputs": [],
   "source": [
    "# TODO: Make the rest of this section."
   ]
  }
 ],
 "metadata": {
  "kernelspec": {
   "display_name": "Python 3 (ipykernel)",
   "language": "python",
   "name": "python3"
  },
  "language_info": {
   "codemirror_mode": {
    "name": "ipython",
    "version": 3
   },
   "file_extension": ".py",
   "mimetype": "text/x-python",
   "name": "python",
   "nbconvert_exporter": "python",
   "pygments_lexer": "ipython3",
   "version": "3.10.6"
  }
 },
 "nbformat": 4,
 "nbformat_minor": 5
}
