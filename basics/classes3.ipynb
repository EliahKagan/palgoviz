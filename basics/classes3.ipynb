{
 "cells": [
  {
   "cell_type": "markdown",
   "id": "43c34169-f684-46bb-94e4-c939795d121e",
   "metadata": {},
   "source": [
    "# More on classes\n",
    "\n",
    "We begin with review and design considerations."
   ]
  },
  {
   "cell_type": "code",
   "execution_count": 17,
   "id": "99b3d674-9f55-4e2b-b326-a10ca569e834",
   "metadata": {},
   "outputs": [],
   "source": [
    "class Widget: \n",
    "    \n",
    "    def __init__(self, age, weight): \n",
    "        self.age = age\n",
    "        self.weight = weight\n",
    "    \n",
    "    def __repr__(self): \n",
    "        return f'{type(self).__name__}({self.age!r}, {self.weight!r})'\n",
    "    \n",
    "    def __eq__(self, other): \n",
    "        if not isinstance(other, type(self)):\n",
    "            return NotImplemented\n",
    "        # return self.age == other.age and self.weight == other.weight\n",
    "        return self.__dict__ == other.__dict__"
   ]
  },
  {
   "cell_type": "code",
   "execution_count": 18,
   "id": "9962fd25-f745-45c6-ae87-a275ea248cd4",
   "metadata": {},
   "outputs": [
    {
     "data": {
      "text/plain": [
       "Widget('10 years', '10 pounds')"
      ]
     },
     "execution_count": 18,
     "metadata": {},
     "output_type": "execute_result"
    }
   ],
   "source": [
    "Widget('10 years', '10 pounds')"
   ]
  },
  {
   "cell_type": "code",
   "execution_count": 19,
   "id": "b819d3cb-d58d-44ab-b276-a9a5b12de635",
   "metadata": {},
   "outputs": [
    {
     "data": {
      "text/plain": [
       "True"
      ]
     },
     "execution_count": 19,
     "metadata": {},
     "output_type": "execute_result"
    }
   ],
   "source": [
    "Widget(10.0, 1.0) == Widget(10, 1)"
   ]
  },
  {
   "cell_type": "code",
   "execution_count": 20,
   "id": "b49f293d-c913-43d6-b8b8-75ec40e8a268",
   "metadata": {},
   "outputs": [
    {
     "data": {
      "text/plain": [
       "False"
      ]
     },
     "execution_count": 20,
     "metadata": {},
     "output_type": "execute_result"
    }
   ],
   "source": [
    "Widget(10.0, 1.0) == Widget(10, 2)"
   ]
  },
  {
   "cell_type": "code",
   "execution_count": 21,
   "id": "69d3995a-1e48-47d8-90cf-b563ba019e9f",
   "metadata": {},
   "outputs": [],
   "source": [
    "class Employee: \n",
    "    \n",
    "    def __init__(self, age, weight): \n",
    "        self.age = age\n",
    "        self.weight = weight\n",
    "    \n",
    "    def __repr__(self): \n",
    "        return f'{type(self).__name__}({self.age!r}, {self.weight!r})'\n",
    "    \n",
    "    def __eq__(self, other): \n",
    "        if not isinstance(other, type(self)):\n",
    "            return NotImplemented\n",
    "        # return self.age == other.age and self.weight == other.weight\n",
    "        return self.__dict__ == other.__dict__"
   ]
  },
  {
   "cell_type": "code",
   "execution_count": 26,
   "id": "5b9bec25-f689-4b47-94b9-dc545d87a7de",
   "metadata": {},
   "outputs": [
    {
     "data": {
      "text/plain": [
       "True"
      ]
     },
     "execution_count": 26,
     "metadata": {},
     "output_type": "execute_result"
    }
   ],
   "source": [
    "Employee(23.0, 200.0) == Employee(23, 200)"
   ]
  },
  {
   "cell_type": "code",
   "execution_count": 25,
   "id": "af3b2295-360c-400e-949c-fb58e54cc246",
   "metadata": {},
   "outputs": [
    {
     "data": {
      "text/plain": [
       "False"
      ]
     },
     "execution_count": 25,
     "metadata": {},
     "output_type": "execute_result"
    }
   ],
   "source": [
    "Employee(23.0, 200.0) == Employee(20, 200)"
   ]
  },
  {
   "cell_type": "code",
   "execution_count": 27,
   "id": "3d400607-1c1a-4633-b199-197918b6eb59",
   "metadata": {},
   "outputs": [],
   "source": [
    "w = Widget(70, 180)"
   ]
  },
  {
   "cell_type": "code",
   "execution_count": 28,
   "id": "6c08de88-f971-44ab-819b-5f60437f49f4",
   "metadata": {},
   "outputs": [
    {
     "data": {
      "text/plain": [
       "False"
      ]
     },
     "execution_count": 28,
     "metadata": {},
     "output_type": "execute_result"
    }
   ],
   "source": [
    "w == 42"
   ]
  },
  {
   "cell_type": "code",
   "execution_count": 29,
   "id": "7f73b133-216a-4185-bc51-b14ad569a894",
   "metadata": {},
   "outputs": [],
   "source": [
    "e = Employee(70, 180)"
   ]
  },
  {
   "cell_type": "code",
   "execution_count": 30,
   "id": "faeceada-43a8-4460-8af6-1c30c969bdd7",
   "metadata": {},
   "outputs": [
    {
     "data": {
      "text/plain": [
       "False"
      ]
     },
     "execution_count": 30,
     "metadata": {},
     "output_type": "execute_result"
    }
   ],
   "source": [
    "w == e"
   ]
  },
  {
   "cell_type": "code",
   "execution_count": 31,
   "id": "586ce628-5bf7-4d27-bfdf-df1a689bf01a",
   "metadata": {},
   "outputs": [],
   "source": [
    "class ExplodingWidget(Widget):\n",
    "    def explode(self):\n",
    "        print(f'{self!r} has exploded!')"
   ]
  },
  {
   "cell_type": "code",
   "execution_count": 32,
   "id": "09bcca08-53b9-4234-ba77-4570040733c0",
   "metadata": {},
   "outputs": [],
   "source": [
    "ew = ExplodingWidget(70, 180)"
   ]
  },
  {
   "cell_type": "code",
   "execution_count": 33,
   "id": "6240e848-7cd7-4c64-9003-65401373f21e",
   "metadata": {},
   "outputs": [
    {
     "name": "stdout",
     "output_type": "stream",
     "text": [
      "ExplodingWidget(70, 180) has exploded!\n"
     ]
    }
   ],
   "source": [
    "ew.explode()"
   ]
  },
  {
   "cell_type": "code",
   "execution_count": 34,
   "id": "d960c465-afb5-4163-acc0-20cc28ff8a1e",
   "metadata": {},
   "outputs": [
    {
     "name": "stdout",
     "output_type": "stream",
     "text": [
      "ExplodingWidget(70, 180) has exploded!\n"
     ]
    }
   ],
   "source": [
    "ew.explode()"
   ]
  },
  {
   "cell_type": "code",
   "execution_count": 35,
   "id": "8b691e1a-bee0-4c37-8458-150311a79e54",
   "metadata": {},
   "outputs": [
    {
     "data": {
      "text/plain": [
       "True"
      ]
     },
     "execution_count": 35,
     "metadata": {},
     "output_type": "execute_result"
    }
   ],
   "source": [
    "w == ew"
   ]
  },
  {
   "cell_type": "code",
   "execution_count": 36,
   "id": "0150e271-b7b1-4004-a8d8-2dc6ad0ee92f",
   "metadata": {},
   "outputs": [
    {
     "data": {
      "text/plain": [
       "True"
      ]
     },
     "execution_count": 36,
     "metadata": {},
     "output_type": "execute_result"
    }
   ],
   "source": [
    "w.__dict__ == e.__dict__"
   ]
  },
  {
   "cell_type": "code",
   "execution_count": null,
   "id": "43b0d21a-869e-4214-b9a6-d295a547bb52",
   "metadata": {},
   "outputs": [],
   "source": []
  }
 ],
 "metadata": {
  "kernelspec": {
   "display_name": "Python 3 (ipykernel)",
   "language": "python",
   "name": "python3"
  },
  "language_info": {
   "codemirror_mode": {
    "name": "ipython",
    "version": 3
   },
   "file_extension": ".py",
   "mimetype": "text/x-python",
   "name": "python",
   "nbconvert_exporter": "python",
   "pygments_lexer": "ipython3",
   "version": "3.10.5"
  }
 },
 "nbformat": 4,
 "nbformat_minor": 5
}
