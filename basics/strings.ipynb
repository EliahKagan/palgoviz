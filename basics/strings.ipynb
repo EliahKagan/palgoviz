{
 "cells": [
  {
   "cell_type": "markdown",
   "id": "405a632a-93e2-4ae3-95cb-675693596a1b",
   "metadata": {},
   "source": [
    "# String operations"
   ]
  },
  {
   "cell_type": "code",
   "execution_count": 1,
   "id": "e0fc3ba9-40b3-4e08-b1a4-3652e41173ad",
   "metadata": {},
   "outputs": [
    {
     "name": "stdout",
     "output_type": "stream",
     "text": [
      "hello\n"
     ]
    }
   ],
   "source": [
    "print('hello')"
   ]
  },
  {
   "cell_type": "code",
   "execution_count": 2,
   "id": "58adc375-8c6d-4e2a-8268-31450b2995fb",
   "metadata": {},
   "outputs": [
    {
     "data": {
      "text/plain": [
       "'hello'"
      ]
     },
     "execution_count": 2,
     "metadata": {},
     "output_type": "execute_result"
    }
   ],
   "source": [
    "'hello'"
   ]
  },
  {
   "cell_type": "code",
   "execution_count": 3,
   "id": "cfb03332-856e-406b-8142-2c58573c0662",
   "metadata": {},
   "outputs": [
    {
     "data": {
      "text/plain": [
       "'hello'"
      ]
     },
     "execution_count": 3,
     "metadata": {},
     "output_type": "execute_result"
    }
   ],
   "source": [
    "str('hello')"
   ]
  },
  {
   "cell_type": "code",
   "execution_count": 4,
   "id": "b2aa758f-eede-423b-87d0-436cfc10a6ba",
   "metadata": {},
   "outputs": [
    {
     "data": {
      "text/plain": [
       "\"'hello'\""
      ]
     },
     "execution_count": 4,
     "metadata": {},
     "output_type": "execute_result"
    }
   ],
   "source": [
    "repr('hello')"
   ]
  },
  {
   "cell_type": "code",
   "execution_count": 5,
   "id": "3c95a90c-5e8d-4900-91b3-e6a068cb5463",
   "metadata": {},
   "outputs": [
    {
     "data": {
      "text/plain": [
       "str"
      ]
     },
     "execution_count": 5,
     "metadata": {},
     "output_type": "execute_result"
    }
   ],
   "source": [
    "type('hello')"
   ]
  },
  {
   "cell_type": "code",
   "execution_count": 6,
   "id": "b02a9b64-ed16-4f03-8f41-3ac9dc315126",
   "metadata": {},
   "outputs": [
    {
     "data": {
      "text/plain": [
       "'3'"
      ]
     },
     "execution_count": 6,
     "metadata": {},
     "output_type": "execute_result"
    }
   ],
   "source": [
    "str(3)"
   ]
  },
  {
   "cell_type": "code",
   "execution_count": 7,
   "id": "c4b2b81b-ebad-453d-858d-5c2e7f950e44",
   "metadata": {},
   "outputs": [],
   "source": [
    "from fractions import Fraction"
   ]
  },
  {
   "cell_type": "code",
   "execution_count": 8,
   "id": "7d2d22d2-c602-4bba-936e-158c20cf82c5",
   "metadata": {},
   "outputs": [],
   "source": [
    "x = Fraction(2, 3)"
   ]
  },
  {
   "cell_type": "code",
   "execution_count": 9,
   "id": "446f5bde-be6f-4f7d-b7fb-bbf6541f4e3d",
   "metadata": {},
   "outputs": [
    {
     "data": {
      "text/plain": [
       "Fraction(2, 3)"
      ]
     },
     "execution_count": 9,
     "metadata": {},
     "output_type": "execute_result"
    }
   ],
   "source": [
    "x"
   ]
  },
  {
   "cell_type": "code",
   "execution_count": 10,
   "id": "ae40fe63-6dc6-46b0-a984-230e87c37b22",
   "metadata": {},
   "outputs": [
    {
     "data": {
      "text/plain": [
       "'Fraction(2, 3)'"
      ]
     },
     "execution_count": 10,
     "metadata": {},
     "output_type": "execute_result"
    }
   ],
   "source": [
    "repr(x)"
   ]
  },
  {
   "cell_type": "code",
   "execution_count": 11,
   "id": "7bc0a86a-b5f3-4a4a-8b6b-fcd67558b54e",
   "metadata": {},
   "outputs": [
    {
     "data": {
      "text/plain": [
       "'2/3'"
      ]
     },
     "execution_count": 11,
     "metadata": {},
     "output_type": "execute_result"
    }
   ],
   "source": [
    "str(x)"
   ]
  },
  {
   "cell_type": "code",
   "execution_count": 12,
   "id": "93a346fe-21ae-49c1-b7fd-2eef41b275c2",
   "metadata": {},
   "outputs": [
    {
     "name": "stdout",
     "output_type": "stream",
     "text": [
      "3\n"
     ]
    }
   ],
   "source": [
    "print(3)"
   ]
  },
  {
   "cell_type": "code",
   "execution_count": 13,
   "id": "c1f21d4d-c1ab-4823-a18f-098b7a19e18b",
   "metadata": {},
   "outputs": [
    {
     "data": {
      "text/plain": [
       "'None'"
      ]
     },
     "execution_count": 13,
     "metadata": {},
     "output_type": "execute_result"
    }
   ],
   "source": [
    "repr(None)"
   ]
  },
  {
   "cell_type": "code",
   "execution_count": 14,
   "id": "ee752e17-82c5-47fb-995d-28108d787478",
   "metadata": {},
   "outputs": [
    {
     "data": {
      "text/plain": [
       "'None'"
      ]
     },
     "execution_count": 14,
     "metadata": {},
     "output_type": "execute_result"
    }
   ],
   "source": [
    "str(None)"
   ]
  },
  {
   "cell_type": "code",
   "execution_count": 15,
   "id": "0c373676-153c-4021-aa9c-9ffc996c2857",
   "metadata": {},
   "outputs": [
    {
     "data": {
      "text/plain": [
       "27"
      ]
     },
     "execution_count": 15,
     "metadata": {},
     "output_type": "execute_result"
    }
   ],
   "source": [
    "x = 3\n",
    "x**2\n",
    "x**3"
   ]
  },
  {
   "cell_type": "code",
   "execution_count": 16,
   "id": "68dd86c1-5b0e-4854-85e1-8920bcaec9e8",
   "metadata": {},
   "outputs": [
    {
     "name": "stdout",
     "output_type": "stream",
     "text": [
      "27\n"
     ]
    }
   ],
   "source": [
    "print(x**3)"
   ]
  },
  {
   "cell_type": "code",
   "execution_count": 17,
   "id": "4bf45695-b87e-4e6c-81c1-d016f76b4a57",
   "metadata": {},
   "outputs": [
    {
     "name": "stdout",
     "output_type": "stream",
     "text": [
      "27\n"
     ]
    }
   ],
   "source": [
    "print(repr(x**3))"
   ]
  },
  {
   "cell_type": "code",
   "execution_count": 18,
   "id": "c14f986e-9ccd-4474-9293-384c98a49482",
   "metadata": {},
   "outputs": [
    {
     "name": "stdout",
     "output_type": "stream",
     "text": [
      "\"'hello'\"\n"
     ]
    }
   ],
   "source": [
    "print(repr(repr('hello')))"
   ]
  },
  {
   "cell_type": "code",
   "execution_count": 19,
   "id": "5c96fc03-6ff4-442b-ab47-fffd22afa367",
   "metadata": {},
   "outputs": [
    {
     "data": {
      "text/plain": [
       "<function __main__.<lambda>(x)>"
      ]
     },
     "execution_count": 19,
     "metadata": {},
     "output_type": "execute_result"
    }
   ],
   "source": [
    "lambda x: x"
   ]
  },
  {
   "cell_type": "code",
   "execution_count": 20,
   "id": "bc42c1f8-2a3a-4c25-9e8e-319f4f040fd3",
   "metadata": {},
   "outputs": [
    {
     "data": {
      "text/plain": [
       "'Fraction(2, 3)'"
      ]
     },
     "execution_count": 20,
     "metadata": {},
     "output_type": "execute_result"
    }
   ],
   "source": [
    "repr(Fraction(2, 3))"
   ]
  },
  {
   "cell_type": "code",
   "execution_count": 21,
   "id": "880aa091-fe93-4139-8e01-20f04f52c1e2",
   "metadata": {},
   "outputs": [
    {
     "data": {
      "text/plain": [
       "'2/3'"
      ]
     },
     "execution_count": 21,
     "metadata": {},
     "output_type": "execute_result"
    }
   ],
   "source": [
    "str(Fraction(2, 3))"
   ]
  },
  {
   "cell_type": "code",
   "execution_count": 22,
   "id": "a3269e22-1e45-43c5-bea7-0817772b06ea",
   "metadata": {},
   "outputs": [
    {
     "data": {
      "text/plain": [
       "0.6666666666666666"
      ]
     },
     "execution_count": 22,
     "metadata": {},
     "output_type": "execute_result"
    }
   ],
   "source": [
    "2/3"
   ]
  },
  {
   "cell_type": "code",
   "execution_count": 23,
   "id": "1caa7de4-2b94-4f13-97b4-42ce20d4fece",
   "metadata": {},
   "outputs": [
    {
     "data": {
      "text/plain": [
       "'2/3'"
      ]
     },
     "execution_count": 23,
     "metadata": {},
     "output_type": "execute_result"
    }
   ],
   "source": [
    "f'{Fraction(2, 3)}'"
   ]
  },
  {
   "cell_type": "code",
   "execution_count": 24,
   "id": "29c5ea7f-96a1-4ef3-a55f-7d8c2cb98441",
   "metadata": {},
   "outputs": [
    {
     "data": {
      "text/plain": [
       "'Fraction(2, 3)'"
      ]
     },
     "execution_count": 24,
     "metadata": {},
     "output_type": "execute_result"
    }
   ],
   "source": [
    "f'{Fraction(2, 3)!r}'"
   ]
  },
  {
   "cell_type": "code",
   "execution_count": 25,
   "id": "aa435ddc-b02e-48ad-ae63-7e0232d23b40",
   "metadata": {},
   "outputs": [
    {
     "data": {
      "text/plain": [
       "'Fraction(2, 3) = Fraction(2, 3)'"
      ]
     },
     "execution_count": 25,
     "metadata": {},
     "output_type": "execute_result"
    }
   ],
   "source": [
    "f'{Fraction(2, 3) = }'"
   ]
  },
  {
   "cell_type": "code",
   "execution_count": 26,
   "id": "4d1ce254-6e1e-4ac6-bf75-dc14e688ff68",
   "metadata": {},
   "outputs": [
    {
     "data": {
      "text/plain": [
       "'Fraction(2, 3) = 2/3'"
      ]
     },
     "execution_count": 26,
     "metadata": {},
     "output_type": "execute_result"
    }
   ],
   "source": [
    "f'{Fraction(2, 3) = !s}'"
   ]
  },
  {
   "cell_type": "code",
   "execution_count": 27,
   "id": "ebdf5a52-e831-4fcb-8e6d-b76a657e3916",
   "metadata": {},
   "outputs": [
    {
     "name": "stdout",
     "output_type": "stream",
     "text": [
      "Help on method_descriptor:\n",
      "\n",
      "split(self, /, sep=None, maxsplit=-1)\n",
      "    Return a list of the words in the string, using sep as the delimiter string.\n",
      "    \n",
      "    sep\n",
      "      The delimiter according which to split the string.\n",
      "      None (the default value) means split according to any whitespace,\n",
      "      and discard empty strings from the result.\n",
      "    maxsplit\n",
      "      Maximum number of splits to do.\n",
      "      -1 (the default value) means no limit.\n",
      "\n"
     ]
    }
   ],
   "source": [
    "help(str.split)"
   ]
  },
  {
   "cell_type": "code",
   "execution_count": 28,
   "id": "e9af9103-0737-43a0-826e-1c01504d41ee",
   "metadata": {},
   "outputs": [
    {
     "data": {
      "text/plain": [
       "['testing', 'the', 'split', 'method']"
      ]
     },
     "execution_count": 28,
     "metadata": {},
     "output_type": "execute_result"
    }
   ],
   "source": [
    "string = 'testing the split method'\n",
    "string.split()"
   ]
  },
  {
   "cell_type": "code",
   "execution_count": 29,
   "id": "cc047ebb-2a22-471a-af85-7261ea1eeae7",
   "metadata": {},
   "outputs": [
    {
     "data": {
      "text/plain": [
       "'testing the split method'"
      ]
     },
     "execution_count": 29,
     "metadata": {},
     "output_type": "execute_result"
    }
   ],
   "source": [
    "string"
   ]
  },
  {
   "cell_type": "code",
   "execution_count": 30,
   "id": "fd021406-9d07-4695-950c-1bd69061e804",
   "metadata": {},
   "outputs": [
    {
     "data": {
      "text/plain": [
       "['', 'es', 'ing ', 'he spli', ' me', 'hod']"
      ]
     },
     "execution_count": 30,
     "metadata": {},
     "output_type": "execute_result"
    }
   ],
   "source": [
    "string.split(sep='t')"
   ]
  },
  {
   "cell_type": "code",
   "execution_count": 31,
   "id": "31bdf615-9b86-48ca-9045-e0e06c10103c",
   "metadata": {},
   "outputs": [
    {
     "name": "stdout",
     "output_type": "stream",
     "text": [
      "Help on method_descriptor:\n",
      "\n",
      "join(self, iterable, /)\n",
      "    Concatenate any number of strings.\n",
      "    \n",
      "    The string whose method is called is inserted in between each given string.\n",
      "    The result is returned as a new string.\n",
      "    \n",
      "    Example: '.'.join(['ab', 'pq', 'rs']) -> 'ab.pq.rs'\n",
      "\n"
     ]
    }
   ],
   "source": [
    "help(str.join)"
   ]
  },
  {
   "cell_type": "code",
   "execution_count": 32,
   "id": "0abc25b6-8635-4fee-8598-8eec2cd7e4d2",
   "metadata": {},
   "outputs": [
    {
     "data": {
      "text/plain": [
       "'the_words_will_be_joined'"
      ]
     },
     "execution_count": 32,
     "metadata": {},
     "output_type": "execute_result"
    }
   ],
   "source": [
    "'_'.join(['the','words','will','be','joined'])"
   ]
  },
  {
   "cell_type": "code",
   "execution_count": 33,
   "id": "abaf1b03-1c84-44bc-9776-ee15f9fb79d2",
   "metadata": {},
   "outputs": [],
   "source": [
    "# Unfortunately, join requires an iterable of strings,\n",
    "# and it won't convert the \"words\" to strings when joining\n",
    "# them.\n",
    "a = [10, 20, 30, 40, 50, 60, 70]"
   ]
  },
  {
   "cell_type": "code",
   "execution_count": 34,
   "id": "36670144-0cdf-440e-83a2-45567b0b5b94",
   "metadata": {
    "tags": [
     "raises-exception"
    ]
   },
   "outputs": [
    {
     "ename": "TypeError",
     "evalue": "sequence item 0: expected str instance, int found",
     "output_type": "error",
     "traceback": [
      "\u001b[1;31m---------------------------------------------------------------------------\u001b[0m",
      "\u001b[1;31mTypeError\u001b[0m                                 Traceback (most recent call last)",
      "Input \u001b[1;32mIn [34]\u001b[0m, in \u001b[0;36m<cell line: 1>\u001b[1;34m()\u001b[0m\n\u001b[1;32m----> 1\u001b[0m \u001b[38;5;124;43m'\u001b[39;49m\u001b[38;5;124;43m; \u001b[39;49m\u001b[38;5;124;43m'\u001b[39;49m\u001b[38;5;241;43m.\u001b[39;49m\u001b[43mjoin\u001b[49m\u001b[43m(\u001b[49m\u001b[43ma\u001b[49m\u001b[43m)\u001b[49m\n",
      "\u001b[1;31mTypeError\u001b[0m: sequence item 0: expected str instance, int found"
     ]
    }
   ],
   "source": [
    "'; '.join(a)  # This won't work."
   ]
  },
  {
   "cell_type": "code",
   "execution_count": 35,
   "id": "b396df0c-8611-430c-895a-692607e1e2df",
   "metadata": {},
   "outputs": [
    {
     "data": {
      "text/plain": [
       "'10; 20; 30; 40; 50; 60; 70'"
      ]
     },
     "execution_count": 35,
     "metadata": {},
     "output_type": "execute_result"
    }
   ],
   "source": [
    "# Write an expression that converts the elements of the list\n",
    "# to strings and joins them with the delimiter \"; \".\n",
    "strlist = []\n",
    "for element in a: \n",
    "    strlist.append(str(element))\n",
    "'; '.join(strlist)"
   ]
  },
  {
   "cell_type": "code",
   "execution_count": 36,
   "id": "13f65ec1-b961-4eff-a8d2-0343bea8882e",
   "metadata": {},
   "outputs": [
    {
     "data": {
      "text/plain": [
       "'10; 20; 30; 40; 50; 60; 70'"
      ]
     },
     "execution_count": 36,
     "metadata": {},
     "output_type": "execute_result"
    }
   ],
   "source": [
    "strlist = [str(x) for x in a]\n",
    "'; '.join(strlist)"
   ]
  },
  {
   "cell_type": "code",
   "execution_count": 37,
   "id": "b6f508b6-6b07-4d1f-8e8e-a9f9c3209cd1",
   "metadata": {},
   "outputs": [
    {
     "data": {
      "text/plain": [
       "'10; 20; 30; 40; 50; 60; 70'"
      ]
     },
     "execution_count": 37,
     "metadata": {},
     "output_type": "execute_result"
    }
   ],
   "source": [
    "'; '.join(str(x) for x in a)"
   ]
  },
  {
   "cell_type": "code",
   "execution_count": 38,
   "id": "c6f7d6aa-70ad-4d45-8323-ab514489d450",
   "metadata": {},
   "outputs": [
    {
     "data": {
      "text/plain": [
       "'10; 20; 30; 40; 50; 60; 70'"
      ]
     },
     "execution_count": 38,
     "metadata": {},
     "output_type": "execute_result"
    }
   ],
   "source": [
    "# Now try it with the map builtin, instead of a comprehension.\n",
    "'; '.join(map(str, a))"
   ]
  },
  {
   "cell_type": "code",
   "execution_count": 39,
   "id": "957fb9ec-a329-4a0f-b061-411a6aff9297",
   "metadata": {},
   "outputs": [
    {
     "data": {
      "text/plain": [
       "True"
      ]
     },
     "execution_count": 39,
     "metadata": {},
     "output_type": "execute_result"
    }
   ],
   "source": [
    "# Strings support startswith and endswith methods to check if they\n",
    "# start or end with a particular prefix or suffix, respectively.\n",
    "b = \"Hello world\" \n",
    "b.startswith('Hello')"
   ]
  },
  {
   "cell_type": "code",
   "execution_count": 40,
   "id": "6b6be69b-49b5-455c-a5c2-a99c5966d2c5",
   "metadata": {},
   "outputs": [
    {
     "data": {
      "text/plain": [
       "['H', 'e', 'l', 'l', 'o', ' ', 'w', 'o', 'r', 'l', 'd']"
      ]
     },
     "execution_count": 40,
     "metadata": {},
     "output_type": "execute_result"
    }
   ],
   "source": [
    "list(b)"
   ]
  },
  {
   "cell_type": "code",
   "execution_count": 41,
   "id": "7b9c8574-076c-459b-b0ad-243af122b6de",
   "metadata": {},
   "outputs": [
    {
     "data": {
      "text/plain": [
       "True"
      ]
     },
     "execution_count": 41,
     "metadata": {},
     "output_type": "execute_result"
    }
   ],
   "source": [
    "# Check if \"llo\" is anywhere in the string b.\n",
    "'llo' in b"
   ]
  },
  {
   "cell_type": "code",
   "execution_count": 42,
   "id": "ef25d2a0-82be-43fa-a5e6-ffb7e849dc9c",
   "metadata": {},
   "outputs": [
    {
     "name": "stdout",
     "output_type": "stream",
     "text": [
      "Help on method_descriptor:\n",
      "\n",
      "startswith(...)\n",
      "    S.startswith(prefix[, start[, end]]) -> bool\n",
      "    \n",
      "    Return True if S starts with the specified prefix, False otherwise.\n",
      "    With optional start, test S beginning at that position.\n",
      "    With optional end, stop comparing S at that position.\n",
      "    prefix can also be a tuple of strings to try.\n",
      "\n"
     ]
    }
   ],
   "source": [
    "# startswith and endswith accept start indices, which are often\n",
    "# useful, and end indices, which are occasionally useful.\n",
    "help(str.startswith)"
   ]
  },
  {
   "cell_type": "code",
   "execution_count": 43,
   "id": "e2dbbf9c-f3d3-45db-aa2d-0115c2a77480",
   "metadata": {},
   "outputs": [
    {
     "data": {
      "text/plain": [
       "False"
      ]
     },
     "execution_count": 43,
     "metadata": {},
     "output_type": "execute_result"
    }
   ],
   "source": [
    "b.startswith('wo')"
   ]
  },
  {
   "cell_type": "code",
   "execution_count": 44,
   "id": "c3cbde25-c281-44b5-97ea-63d76eb96aa9",
   "metadata": {},
   "outputs": [
    {
     "data": {
      "text/plain": [
       "True"
      ]
     },
     "execution_count": 44,
     "metadata": {},
     "output_type": "execute_result"
    }
   ],
   "source": [
    "b.startswith('wo', 6)"
   ]
  },
  {
   "cell_type": "code",
   "execution_count": 45,
   "id": "dd4f1fba-2c83-4adb-8a22-81c782a4ac6c",
   "metadata": {},
   "outputs": [
    {
     "data": {
      "text/plain": [
       "3"
      ]
     },
     "execution_count": 45,
     "metadata": {},
     "output_type": "execute_result"
    }
   ],
   "source": [
    "# Like other sequences, strings support the index method.\n",
    "a = [10, 20, 30, 40, 50]\n",
    "a.index(40)"
   ]
  },
  {
   "cell_type": "code",
   "execution_count": 46,
   "id": "17792a26-4e59-4356-8f8b-dff7e3e1722f",
   "metadata": {
    "tags": [
     "raises-exception"
    ]
   },
   "outputs": [
    {
     "ename": "ValueError",
     "evalue": "41 is not in list",
     "output_type": "error",
     "traceback": [
      "\u001b[1;31m---------------------------------------------------------------------------\u001b[0m",
      "\u001b[1;31mValueError\u001b[0m                                Traceback (most recent call last)",
      "Input \u001b[1;32mIn [46]\u001b[0m, in \u001b[0;36m<cell line: 1>\u001b[1;34m()\u001b[0m\n\u001b[1;32m----> 1\u001b[0m \u001b[43ma\u001b[49m\u001b[38;5;241;43m.\u001b[39;49m\u001b[43mindex\u001b[49m\u001b[43m(\u001b[49m\u001b[38;5;241;43m41\u001b[39;49m\u001b[43m)\u001b[49m\n",
      "\u001b[1;31mValueError\u001b[0m: 41 is not in list"
     ]
    }
   ],
   "source": [
    "a.index(41)"
   ]
  },
  {
   "cell_type": "code",
   "execution_count": 47,
   "id": "ec6c69ce-4765-455f-94bc-620cca888aeb",
   "metadata": {},
   "outputs": [
    {
     "data": {
      "text/plain": [
       "6"
      ]
     },
     "execution_count": 47,
     "metadata": {},
     "output_type": "execute_result"
    }
   ],
   "source": [
    "b.index('w')"
   ]
  },
  {
   "cell_type": "code",
   "execution_count": 48,
   "id": "10af38af-38ab-4bd3-8da9-e9cfd7f838e5",
   "metadata": {},
   "outputs": [
    {
     "data": {
      "text/plain": [
       "0"
      ]
     },
     "execution_count": 48,
     "metadata": {},
     "output_type": "execute_result"
    }
   ],
   "source": [
    "# Like the \"in\" operator, the index method supports finding substrings\n",
    "# of length greater than 1.\n",
    "b.index('He')"
   ]
  },
  {
   "cell_type": "code",
   "execution_count": 49,
   "id": "17bc1b60-499c-4f62-8251-f56229c99989",
   "metadata": {},
   "outputs": [
    {
     "data": {
      "text/plain": [
       "2"
      ]
     },
     "execution_count": 49,
     "metadata": {},
     "output_type": "execute_result"
    }
   ],
   "source": [
    "b.index('l')"
   ]
  },
  {
   "cell_type": "code",
   "execution_count": 50,
   "id": "f3024a81-7a1b-43bf-afb9-802af6d85377",
   "metadata": {},
   "outputs": [
    {
     "data": {
      "text/plain": [
       "3"
      ]
     },
     "execution_count": 50,
     "metadata": {},
     "output_type": "execute_result"
    }
   ],
   "source": [
    "b.index('lo')"
   ]
  },
  {
   "cell_type": "code",
   "execution_count": 51,
   "id": "a7781f51-54d3-4810-a4a8-507dfb275f37",
   "metadata": {
    "tags": [
     "raises-exception"
    ]
   },
   "outputs": [
    {
     "ename": "ValueError",
     "evalue": "substring not found",
     "output_type": "error",
     "traceback": [
      "\u001b[1;31m---------------------------------------------------------------------------\u001b[0m",
      "\u001b[1;31mValueError\u001b[0m                                Traceback (most recent call last)",
      "Input \u001b[1;32mIn [51]\u001b[0m, in \u001b[0;36m<cell line: 1>\u001b[1;34m()\u001b[0m\n\u001b[1;32m----> 1\u001b[0m \u001b[43mb\u001b[49m\u001b[38;5;241;43m.\u001b[39;49m\u001b[43mindex\u001b[49m\u001b[43m(\u001b[49m\u001b[38;5;124;43m'\u001b[39;49m\u001b[38;5;124;43mlw\u001b[39;49m\u001b[38;5;124;43m'\u001b[39;49m\u001b[43m)\u001b[49m\n",
      "\u001b[1;31mValueError\u001b[0m: substring not found"
     ]
    }
   ],
   "source": [
    "b.index('lw')"
   ]
  },
  {
   "cell_type": "code",
   "execution_count": 52,
   "id": "33837c4b-924b-4ee5-8de6-e2cd297d936c",
   "metadata": {},
   "outputs": [
    {
     "data": {
      "text/plain": [
       "9"
      ]
     },
     "execution_count": 52,
     "metadata": {},
     "output_type": "execute_result"
    }
   ],
   "source": [
    "# Unlike most sequences, str supports an rindex method to search from\n",
    "# the right instead of the left.\n",
    "b.rindex('l')"
   ]
  },
  {
   "cell_type": "code",
   "execution_count": 53,
   "id": "9d7dbe5f-ee06-4afa-b461-a6649263dbd3",
   "metadata": {},
   "outputs": [
    {
     "data": {
      "text/plain": [
       "9"
      ]
     },
     "execution_count": 53,
     "metadata": {},
     "output_type": "execute_result"
    }
   ],
   "source": [
    "b.rindex('ld')"
   ]
  },
  {
   "cell_type": "code",
   "execution_count": 54,
   "id": "71a51f49-0366-44d1-ba28-87cd77f581b9",
   "metadata": {},
   "outputs": [
    {
     "data": {
      "text/plain": [
       "-1"
      ]
     },
     "execution_count": 54,
     "metadata": {},
     "output_type": "execute_result"
    }
   ],
   "source": [
    "# Also unlike most sequences, str supports alternatives to index and rindex:\n",
    "# the find and rfind methods, which return -1 instead of raising ValueError.\n",
    "b.find('lw')"
   ]
  },
  {
   "cell_type": "code",
   "execution_count": 55,
   "id": "6bd39548-5621-48f8-825e-711ba5afcf92",
   "metadata": {},
   "outputs": [
    {
     "data": {
      "text/plain": [
       "3"
      ]
     },
     "execution_count": 55,
     "metadata": {},
     "output_type": "execute_result"
    }
   ],
   "source": [
    "b.find('lo')"
   ]
  },
  {
   "cell_type": "code",
   "execution_count": 56,
   "id": "fdc395f0-6825-4a9b-b3bc-62288239e99a",
   "metadata": {},
   "outputs": [],
   "source": [
    "# That allows you to more easily use LBYL instead of EAFP, in situations\n",
    "# where you might prefer to do so."
   ]
  },
  {
   "cell_type": "code",
   "execution_count": 57,
   "id": "9f5a6f03-3d3c-4e9b-b629-1b4114df12ad",
   "metadata": {},
   "outputs": [
    {
     "data": {
      "text/plain": [
       "9"
      ]
     },
     "execution_count": 57,
     "metadata": {},
     "output_type": "execute_result"
    }
   ],
   "source": [
    "b.rfind('l')"
   ]
  },
  {
   "cell_type": "code",
   "execution_count": 58,
   "id": "28c38fc8-d8f6-4865-a6a3-1b6d4c160866",
   "metadata": {},
   "outputs": [
    {
     "data": {
      "text/plain": [
       "-1"
      ]
     },
     "execution_count": 58,
     "metadata": {},
     "output_type": "execute_result"
    }
   ],
   "source": [
    "b.rfind('lll')"
   ]
  },
  {
   "cell_type": "code",
   "execution_count": 59,
   "id": "e17787a4-851b-4674-96bc-35aa10aa8e22",
   "metadata": {},
   "outputs": [
    {
     "data": {
      "text/plain": [
       "'hello world'"
      ]
     },
     "execution_count": 59,
     "metadata": {},
     "output_type": "execute_result"
    }
   ],
   "source": [
    "# You can make a string with occurrences of a particular substring replaced\n",
    "# with some other string, using the replace method.\n",
    "b.replace('H','h')"
   ]
  },
  {
   "cell_type": "code",
   "execution_count": 60,
   "id": "9c382a2e-811b-4aa3-9e8a-4a18ef97603c",
   "metadata": {},
   "outputs": [
    {
     "data": {
      "text/plain": [
       "'HeLLo worLd'"
      ]
     },
     "execution_count": 60,
     "metadata": {},
     "output_type": "execute_result"
    }
   ],
   "source": [
    "b.replace('l','L')"
   ]
  },
  {
   "cell_type": "code",
   "execution_count": 61,
   "id": "00d35aba-1a27-4cd9-8ab6-2945ab04ad73",
   "metadata": {},
   "outputs": [
    {
     "data": {
      "text/plain": [
       "' world'"
      ]
     },
     "execution_count": 61,
     "metadata": {},
     "output_type": "execute_result"
    }
   ],
   "source": [
    "# One use of replace is to *remove* occurrences of a particular substring.\n",
    "b.replace('Hello','')"
   ]
  },
  {
   "cell_type": "code",
   "execution_count": 62,
   "id": "d82f6b96-6a8d-4341-9835-607338381769",
   "metadata": {},
   "outputs": [
    {
     "data": {
      "text/plain": [
       "'stuffHstuffestufflstufflstuffostuff stuffwstuffostuffrstufflstuffdstuff'"
      ]
     },
     "execution_count": 62,
     "metadata": {},
     "output_type": "execute_result"
    }
   ],
   "source": [
    "# What happens if the substring you're replacing is the empty string?\n",
    "b.replace('','stuff')"
   ]
  },
  {
   "cell_type": "code",
   "execution_count": 63,
   "id": "516232ef-ef1f-45f9-8413-72de16847a3e",
   "metadata": {},
   "outputs": [],
   "source": [
    "# An n-character string has n + 1 empty substrings."
   ]
  },
  {
   "cell_type": "code",
   "execution_count": 64,
   "id": "f71dce1e-1a78-4d00-ae20-9eb45c8d6b95",
   "metadata": {},
   "outputs": [
    {
     "data": {
      "text/plain": [
       "'lo world'"
      ]
     },
     "execution_count": 64,
     "metadata": {},
     "output_type": "execute_result"
    }
   ],
   "source": [
    "# removeprefix and removesuffix will remove a prefix or suffix from a string,\n",
    "# if present. (Of course, a new string is returned -- the original string is\n",
    "# never modified, since strings are immutable.)\n",
    "b.removeprefix('Hel')"
   ]
  },
  {
   "cell_type": "code",
   "execution_count": 65,
   "id": "4e34fa15-32c7-4d14-9e64-9b64e98d527d",
   "metadata": {},
   "outputs": [
    {
     "data": {
      "text/plain": [
       "'Hello world'"
      ]
     },
     "execution_count": 65,
     "metadata": {},
     "output_type": "execute_result"
    }
   ],
   "source": [
    "b.removeprefix('abc')"
   ]
  },
  {
   "cell_type": "code",
   "execution_count": 66,
   "id": "c18604ed-0735-4285-9561-7a210468f2d9",
   "metadata": {},
   "outputs": [],
   "source": [
    "# If you need to achieve the effect of modifying individual characters.\n",
    "a = list(b)"
   ]
  },
  {
   "cell_type": "code",
   "execution_count": 67,
   "id": "381287b9-aca8-4e9e-816f-e8a41ec284f0",
   "metadata": {},
   "outputs": [
    {
     "data": {
      "text/plain": [
       "['H', 'e', 'l', 'l', 'o', ' ', 'w', 'o', 'r', 'l', 'd']"
      ]
     },
     "execution_count": 67,
     "metadata": {},
     "output_type": "execute_result"
    }
   ],
   "source": [
    "a"
   ]
  },
  {
   "cell_type": "code",
   "execution_count": 68,
   "id": "6572ee24-d63d-48a6-a33a-47ffc61f9597",
   "metadata": {},
   "outputs": [
    {
     "data": {
      "text/plain": [
       "'Hello worle'"
      ]
     },
     "execution_count": 68,
     "metadata": {},
     "output_type": "execute_result"
    }
   ],
   "source": [
    "a[-1] = 'e'\n",
    "''.join(a)"
   ]
  },
  {
   "cell_type": "code",
   "execution_count": 69,
   "id": "9d06db57-6a47-4e7d-a8da-ca62aef5125d",
   "metadata": {},
   "outputs": [
    {
     "data": {
      "text/plain": [
       "'Hello wo'"
      ]
     },
     "execution_count": 69,
     "metadata": {},
     "output_type": "execute_result"
    }
   ],
   "source": [
    "b.removesuffix('rld')"
   ]
  },
  {
   "cell_type": "code",
   "execution_count": 70,
   "id": "02aae8ff-e677-4e63-90e8-e8acba95e08a",
   "metadata": {},
   "outputs": [
    {
     "data": {
      "text/plain": [
       "'Hello world'"
      ]
     },
     "execution_count": 70,
     "metadata": {},
     "output_type": "execute_result"
    }
   ],
   "source": [
    "b.removesuffix('')"
   ]
  },
  {
   "cell_type": "code",
   "execution_count": 71,
   "id": "2ff33d65-3d06-44d2-8def-313c6cf2bbcc",
   "metadata": {},
   "outputs": [
    {
     "data": {
      "text/plain": [
       "1"
      ]
     },
     "execution_count": 71,
     "metadata": {},
     "output_type": "execute_result"
    }
   ],
   "source": [
    "# As with other sequences, strings support the count method, to count how many\n",
    "# times something appears. But with strings, this will count any substring,\n",
    "# not just 1-character substrings.\n",
    "b.count('Hel')"
   ]
  },
  {
   "cell_type": "code",
   "execution_count": 72,
   "id": "e1677d3e-cd46-4407-809d-97041cdd9d15",
   "metadata": {},
   "outputs": [
    {
     "data": {
      "text/plain": [
       "str"
      ]
     },
     "execution_count": 72,
     "metadata": {},
     "output_type": "execute_result"
    }
   ],
   "source": [
    "# Some languages have separate string and character types. Show that, in\n",
    "# Python, indexing into a string with an integer produces a one-character\n",
    "# string. (Show that its type is str.)\n",
    "type(b[4])"
   ]
  },
  {
   "cell_type": "markdown",
   "id": "dab43143-fdc3-4ecf-8fd5-8e114f264b1f",
   "metadata": {},
   "source": [
    "If a type does not customize `str` behavior, it delegates to `repr`."
   ]
  },
  {
   "cell_type": "markdown",
   "id": "a941c61e-7990-4e9c-b08a-82a7ff510fbb",
   "metadata": {},
   "source": [
    "If a type does not customize `format` behavior, it delegates to `str` (which delegates to `repr` if `str` behavior is not customized).\n",
    "\n",
    "Furthermore, `format` with 1 argument usually is, and almost always ought to be, the same as calling `str`."
   ]
  },
  {
   "cell_type": "code",
   "execution_count": 73,
   "id": "d08e39da-7625-4fe9-95fd-a192a37366a5",
   "metadata": {},
   "outputs": [],
   "source": [
    "import math"
   ]
  },
  {
   "cell_type": "code",
   "execution_count": 74,
   "id": "f2f524a3-1c3a-4a75-b8c1-9286a5b68804",
   "metadata": {},
   "outputs": [
    {
     "name": "stdout",
     "output_type": "stream",
     "text": [
      "pi is approximately 3.141592653589793.\n"
     ]
    }
   ],
   "source": [
    "print(f'pi is approximately {math.pi}.')  # Calls format with 1 argument."
   ]
  },
  {
   "cell_type": "code",
   "execution_count": 75,
   "id": "cee5f694-b8f6-4957-a905-e9433d455c2a",
   "metadata": {},
   "outputs": [
    {
     "name": "stdout",
     "output_type": "stream",
     "text": [
      "pi is approximately 3.141592653589793.\n"
     ]
    }
   ],
   "source": [
    "print('pi is approximately {}.'.format(math.pi))"
   ]
  },
  {
   "cell_type": "code",
   "execution_count": 76,
   "id": "ba3189bb-f898-4ef6-a26a-499aae85081f",
   "metadata": {},
   "outputs": [
    {
     "data": {
      "text/plain": [
       "'3.141592653589793'"
      ]
     },
     "execution_count": 76,
     "metadata": {},
     "output_type": "execute_result"
    }
   ],
   "source": [
    "format(math.pi)  # Same effect as str(math.pi)."
   ]
  },
  {
   "cell_type": "code",
   "execution_count": 77,
   "id": "8e9d0d8c-7263-4e22-b2ac-99a3e8d0a6dd",
   "metadata": {},
   "outputs": [
    {
     "name": "stdout",
     "output_type": "stream",
     "text": [
      "pi is approximately                                               3.14.\n"
     ]
    }
   ],
   "source": [
    "print(f'pi is approximately {math.pi:50.3}.')  # Calls format with 2 arguments."
   ]
  },
  {
   "cell_type": "code",
   "execution_count": 78,
   "id": "134e4a38-878d-4388-9dfa-f25fa45f1aac",
   "metadata": {},
   "outputs": [
    {
     "name": "stdout",
     "output_type": "stream",
     "text": [
      "pi is approximately                                               3.14.\n"
     ]
    }
   ],
   "source": [
    "print('pi is approximately {:50.3}.'.format(math.pi))"
   ]
  },
  {
   "cell_type": "code",
   "execution_count": 79,
   "id": "bc62c35b-1375-49f1-a05e-0252e634cd05",
   "metadata": {},
   "outputs": [
    {
     "name": "stdout",
     "output_type": "stream",
     "text": [
      "pi is approximately                                               3.14.\n"
     ]
    }
   ],
   "source": [
    "print('pi is approximately {0:50.3}.'.format(math.pi))"
   ]
  },
  {
   "cell_type": "code",
   "execution_count": 80,
   "id": "f29cd429-2655-436b-9eba-29d39f2e6b1d",
   "metadata": {},
   "outputs": [
    {
     "data": {
      "text/plain": [
       "'                                              3.14'"
      ]
     },
     "execution_count": 80,
     "metadata": {},
     "output_type": "execute_result"
    }
   ],
   "source": [
    "format(math.pi, '50.3')"
   ]
  },
  {
   "cell_type": "markdown",
   "id": "ffd1bd3c-df5a-4533-939b-d4877ee7a4a2",
   "metadata": {},
   "source": [
    "In a format string, you can use: `width.precision`"
   ]
  },
  {
   "cell_type": "code",
   "execution_count": 81,
   "id": "0db7b7b6-4afa-4cdc-942f-147b97b106c5",
   "metadata": {},
   "outputs": [
    {
     "name": "stdout",
     "output_type": "stream",
     "text": [
      "#0: 1487\n",
      "#1:   12\n",
      "#2:    9\n",
      "#3:  133\n"
     ]
    }
   ],
   "source": [
    "a = [1487, 12, 9, 133]\n",
    "for i, x in enumerate(a):\n",
    "    print(f'#{i}: {x:4}')"
   ]
  },
  {
   "cell_type": "markdown",
   "id": "3634b212-ed86-466a-a34f-c76afa9898ec",
   "metadata": {},
   "source": [
    "String interpolation (f-strings) call `str.format` behind the scenes.\n",
    "\n",
    "`str.format` calls the `format` builtin zero or more times behind the scenes."
   ]
  },
  {
   "cell_type": "code",
   "execution_count": 82,
   "id": "ee27afe1-6c3f-4123-a2f9-fe8f8c9d0cf6",
   "metadata": {},
   "outputs": [
    {
     "data": {
      "text/plain": [
       "'Bob and Alice'"
      ]
     },
     "execution_count": 82,
     "metadata": {},
     "output_type": "execute_result"
    }
   ],
   "source": [
    "'{1} and {0}'.format('Alice', 'Bob')"
   ]
  },
  {
   "cell_type": "code",
   "execution_count": 83,
   "id": "fa464ff5-7c4f-425a-8dda-fddc94a9d41b",
   "metadata": {},
   "outputs": [
    {
     "data": {
      "text/plain": [
       "'Alice and Bob think they are the good guys, but I still side with Eve'"
      ]
     },
     "execution_count": 83,
     "metadata": {},
     "output_type": "execute_result"
    }
   ],
   "source": [
    "'{0} and {1} think they are the good guys, but I still side with {2}'.format('Alice', 'Bob', 'Eve')"
   ]
  },
  {
   "cell_type": "code",
   "execution_count": 84,
   "id": "2005f3ca-51fe-4953-b832-4afe8e11a32a",
   "metadata": {},
   "outputs": [
    {
     "data": {
      "text/plain": [
       "'Alice and Bob'"
      ]
     },
     "execution_count": 84,
     "metadata": {},
     "output_type": "execute_result"
    }
   ],
   "source": [
    "'{x} and {y}'.format(x='Alice', y='Bob')"
   ]
  },
  {
   "cell_type": "code",
   "execution_count": 85,
   "id": "a693d896-9734-4efd-b25a-cb56ebcc7d1e",
   "metadata": {},
   "outputs": [
    {
     "data": {
      "text/plain": [
       "'Eve is not the villian, Bob cheated on her with Alice'"
      ]
     },
     "execution_count": 85,
     "metadata": {},
     "output_type": "execute_result"
    }
   ],
   "source": [
    "'{e} is not the villian, {b} cheated on her with {a}'.format(a='Alice', b='Bob', e='Eve')"
   ]
  },
  {
   "cell_type": "code",
   "execution_count": 86,
   "id": "73769bc3-873d-440a-8cd7-5d7611ab26f3",
   "metadata": {},
   "outputs": [
    {
     "data": {
      "text/plain": [
       "'While Eve was still sad about Alice and Bob, she found true love with Mallory'"
      ]
     },
     "execution_count": 86,
     "metadata": {},
     "output_type": "execute_result"
    }
   ],
   "source": [
    "d = {'a':'Alice', 'b':'Bob', 'e': 'Eve', 'c': 'Cassidy', 'm':'Mallory'}\n",
    "'While {e} was still sad about {a} and {b}, she found true love with {m}'.format(**d)"
   ]
  },
  {
   "cell_type": "code",
   "execution_count": 87,
   "id": "e0fba124-6b95-4dc8-be71-249e0f6b13cf",
   "metadata": {},
   "outputs": [
    {
     "data": {
      "text/plain": [
       "'While Eve was still sad about Alice and Bob, she found true love with Mallory'"
      ]
     },
     "execution_count": 87,
     "metadata": {},
     "output_type": "execute_result"
    }
   ],
   "source": [
    "d2 = dict(a='Alice', b='Bob', e='Eve', c='Cassidy', m='Mallory')\n",
    "'While {e} was still sad about {a} and {b}, she found true love with {m}'.format(**d2)"
   ]
  },
  {
   "cell_type": "code",
   "execution_count": 88,
   "id": "2de95aa4-2163-436a-a7df-3bf1100b131e",
   "metadata": {},
   "outputs": [],
   "source": [
    "from decorators import call"
   ]
  },
  {
   "cell_type": "code",
   "execution_count": 89,
   "id": "278a9c42-e0ed-46df-8158-9cbe74b5dded",
   "metadata": {},
   "outputs": [
    {
     "name": "stdout",
     "output_type": "stream",
     "text": [
      "{'a': 'Alice', 'b': 'Bob', 'c': 'Cassidy', 'e': 'Eve', 'm': 'Mallory'}\n"
     ]
    }
   ],
   "source": [
    "@call\n",
    "def f():\n",
    "    a = 'Alice'\n",
    "    b = 'Bob'\n",
    "    c = 'Cassidy'\n",
    "    e = 'Eve'\n",
    "    m = 'Mallory'\n",
    "    print(vars())"
   ]
  },
  {
   "cell_type": "code",
   "execution_count": 90,
   "id": "363e26fb-c1eb-4fe1-86fd-4370e6e37cb6",
   "metadata": {},
   "outputs": [
    {
     "name": "stdout",
     "output_type": "stream",
     "text": [
      "While Eve was still sad about Alice and Bob, she found true love with Mallory\n"
     ]
    }
   ],
   "source": [
    "@call\n",
    "def g():\n",
    "    a = 'Alice'\n",
    "    b = 'Bob'\n",
    "    c = 'Cassidy'\n",
    "    e = 'Eve'\n",
    "    m = 'Mallory'\n",
    "    print('While {e} was still sad about {a} and {b}, she found true love with {m}'.format(**vars()))"
   ]
  },
  {
   "cell_type": "markdown",
   "id": "29af3299-ffee-448d-9e6e-5b8412a99ffd",
   "metadata": {},
   "source": [
    "It's not guaranteed that modifying the dictionary you get from `vars()` changes the variables.\n",
    "\n",
    "It's also not guaranteed that assigning to the variables changes a dictionary previously obtained by calling `vars()`."
   ]
  },
  {
   "cell_type": "code",
   "execution_count": 91,
   "id": "6b97bb35-b8d7-4a1d-896e-ae616487e880",
   "metadata": {},
   "outputs": [],
   "source": [
    "import decorators"
   ]
  },
  {
   "cell_type": "code",
   "execution_count": 92,
   "id": "e9bf22c0-9565-4431-8e66-51b8069d1278",
   "metadata": {},
   "outputs": [
    {
     "data": {
      "text/plain": [
       "{'__name__': 'decorators',\n",
       " '__doc__': 'Some basic decorators.',\n",
       " '__package__': '',\n",
       " '__loader__': <_frozen_importlib_external.SourceFileLoader at 0x1eb0435f880>,\n",
       " '__spec__': ModuleSpec(name='decorators', loader=<_frozen_importlib_external.SourceFileLoader object at 0x000001EB0435F880>, origin='C:\\\\Users\\\\User\\\\source\\\\repos\\\\algoviz\\\\basics\\\\decorators.py'),\n",
       " '__file__': 'C:\\\\Users\\\\User\\\\source\\\\repos\\\\algoviz\\\\basics\\\\decorators.py',\n",
       " '__cached__': 'C:\\\\Users\\\\User\\\\source\\\\repos\\\\algoviz\\\\basics\\\\__pycache__\\\\decorators.cpython-310.pyc',\n",
       " '__builtins__': {'__name__': 'builtins',\n",
       "  '__doc__': \"Built-in functions, exceptions, and other objects.\\n\\nNoteworthy: None is the `nil' object; Ellipsis represents `...' in slices.\",\n",
       "  '__package__': '',\n",
       "  '__loader__': _frozen_importlib.BuiltinImporter,\n",
       "  '__spec__': ModuleSpec(name='builtins', loader=<class '_frozen_importlib.BuiltinImporter'>, origin='built-in'),\n",
       "  '__build_class__': <function __build_class__>,\n",
       "  '__import__': <function __import__>,\n",
       "  'abs': <function abs(x, /)>,\n",
       "  'all': <function all(iterable, /)>,\n",
       "  'any': <function any(iterable, /)>,\n",
       "  'ascii': <function ascii(obj, /)>,\n",
       "  'bin': <function bin(number, /)>,\n",
       "  'breakpoint': <function breakpoint>,\n",
       "  'callable': <function callable(obj, /)>,\n",
       "  'chr': <function chr(i, /)>,\n",
       "  'compile': <function compile(source, filename, mode, flags=0, dont_inherit=False, optimize=-1, *, _feature_version=-1)>,\n",
       "  'delattr': <function delattr(obj, name, /)>,\n",
       "  'dir': <function dir>,\n",
       "  'divmod': <function divmod(x, y, /)>,\n",
       "  'eval': <function eval(source, globals=None, locals=None, /)>,\n",
       "  'exec': <function exec(source, globals=None, locals=None, /)>,\n",
       "  'format': <function format(value, format_spec='', /)>,\n",
       "  'getattr': <function getattr>,\n",
       "  'globals': <function globals()>,\n",
       "  'hasattr': <function hasattr(obj, name, /)>,\n",
       "  'hash': <function hash(obj, /)>,\n",
       "  'hex': <function hex(number, /)>,\n",
       "  'id': <function id(obj, /)>,\n",
       "  'input': <bound method Kernel.raw_input of <ipykernel.ipkernel.IPythonKernel object at 0x000001EB03192410>>,\n",
       "  'isinstance': <function isinstance(obj, class_or_tuple, /)>,\n",
       "  'issubclass': <function issubclass(cls, class_or_tuple, /)>,\n",
       "  'iter': <function iter>,\n",
       "  'aiter': <function aiter(async_iterable, /)>,\n",
       "  'len': <function len(obj, /)>,\n",
       "  'locals': <function locals()>,\n",
       "  'max': <function max>,\n",
       "  'min': <function min>,\n",
       "  'next': <function next>,\n",
       "  'anext': <function anext>,\n",
       "  'oct': <function oct(number, /)>,\n",
       "  'ord': <function ord(c, /)>,\n",
       "  'pow': <function pow(base, exp, mod=None)>,\n",
       "  'print': <function print>,\n",
       "  'repr': <function repr(obj, /)>,\n",
       "  'round': <function round(number, ndigits=None)>,\n",
       "  'setattr': <function setattr(obj, name, value, /)>,\n",
       "  'sorted': <function sorted(iterable, /, *, key=None, reverse=False)>,\n",
       "  'sum': <function sum(iterable, /, start=0)>,\n",
       "  'vars': <function vars>,\n",
       "  'None': None,\n",
       "  'Ellipsis': Ellipsis,\n",
       "  'NotImplemented': NotImplemented,\n",
       "  'False': False,\n",
       "  'True': True,\n",
       "  'bool': bool,\n",
       "  'memoryview': memoryview,\n",
       "  'bytearray': bytearray,\n",
       "  'bytes': bytes,\n",
       "  'classmethod': classmethod,\n",
       "  'complex': complex,\n",
       "  'dict': dict,\n",
       "  'enumerate': enumerate,\n",
       "  'filter': filter,\n",
       "  'float': float,\n",
       "  'frozenset': frozenset,\n",
       "  'property': property,\n",
       "  'int': int,\n",
       "  'list': list,\n",
       "  'map': map,\n",
       "  'object': object,\n",
       "  'range': range,\n",
       "  'reversed': reversed,\n",
       "  'set': set,\n",
       "  'slice': slice,\n",
       "  'staticmethod': staticmethod,\n",
       "  'str': str,\n",
       "  'super': super,\n",
       "  'tuple': tuple,\n",
       "  'type': type,\n",
       "  'zip': zip,\n",
       "  '__debug__': True,\n",
       "  'BaseException': BaseException,\n",
       "  'Exception': Exception,\n",
       "  'TypeError': TypeError,\n",
       "  'StopAsyncIteration': StopAsyncIteration,\n",
       "  'StopIteration': StopIteration,\n",
       "  'GeneratorExit': GeneratorExit,\n",
       "  'SystemExit': SystemExit,\n",
       "  'KeyboardInterrupt': KeyboardInterrupt,\n",
       "  'ImportError': ImportError,\n",
       "  'ModuleNotFoundError': ModuleNotFoundError,\n",
       "  'OSError': OSError,\n",
       "  'EnvironmentError': OSError,\n",
       "  'IOError': OSError,\n",
       "  'WindowsError': OSError,\n",
       "  'EOFError': EOFError,\n",
       "  'RuntimeError': RuntimeError,\n",
       "  'RecursionError': RecursionError,\n",
       "  'NotImplementedError': NotImplementedError,\n",
       "  'NameError': NameError,\n",
       "  'UnboundLocalError': UnboundLocalError,\n",
       "  'AttributeError': AttributeError,\n",
       "  'SyntaxError': SyntaxError,\n",
       "  'IndentationError': IndentationError,\n",
       "  'TabError': TabError,\n",
       "  'LookupError': LookupError,\n",
       "  'IndexError': IndexError,\n",
       "  'KeyError': KeyError,\n",
       "  'ValueError': ValueError,\n",
       "  'UnicodeError': UnicodeError,\n",
       "  'UnicodeEncodeError': UnicodeEncodeError,\n",
       "  'UnicodeDecodeError': UnicodeDecodeError,\n",
       "  'UnicodeTranslateError': UnicodeTranslateError,\n",
       "  'AssertionError': AssertionError,\n",
       "  'ArithmeticError': ArithmeticError,\n",
       "  'FloatingPointError': FloatingPointError,\n",
       "  'OverflowError': OverflowError,\n",
       "  'ZeroDivisionError': ZeroDivisionError,\n",
       "  'SystemError': SystemError,\n",
       "  'ReferenceError': ReferenceError,\n",
       "  'MemoryError': MemoryError,\n",
       "  'BufferError': BufferError,\n",
       "  'Warning': Warning,\n",
       "  'UserWarning': UserWarning,\n",
       "  'EncodingWarning': EncodingWarning,\n",
       "  'DeprecationWarning': DeprecationWarning,\n",
       "  'PendingDeprecationWarning': PendingDeprecationWarning,\n",
       "  'SyntaxWarning': SyntaxWarning,\n",
       "  'RuntimeWarning': RuntimeWarning,\n",
       "  'FutureWarning': FutureWarning,\n",
       "  'ImportWarning': ImportWarning,\n",
       "  'UnicodeWarning': UnicodeWarning,\n",
       "  'BytesWarning': BytesWarning,\n",
       "  'ResourceWarning': ResourceWarning,\n",
       "  'ConnectionError': ConnectionError,\n",
       "  'BlockingIOError': BlockingIOError,\n",
       "  'BrokenPipeError': BrokenPipeError,\n",
       "  'ChildProcessError': ChildProcessError,\n",
       "  'ConnectionAbortedError': ConnectionAbortedError,\n",
       "  'ConnectionRefusedError': ConnectionRefusedError,\n",
       "  'ConnectionResetError': ConnectionResetError,\n",
       "  'FileExistsError': FileExistsError,\n",
       "  'FileNotFoundError': FileNotFoundError,\n",
       "  'IsADirectoryError': IsADirectoryError,\n",
       "  'NotADirectoryError': NotADirectoryError,\n",
       "  'InterruptedError': InterruptedError,\n",
       "  'PermissionError': PermissionError,\n",
       "  'ProcessLookupError': ProcessLookupError,\n",
       "  'TimeoutError': TimeoutError,\n",
       "  'open': <function io.open(file, mode='r', buffering=-1, encoding=None, errors=None, newline=None, closefd=True, opener=None)>,\n",
       "  'copyright': Copyright (c) 2001-2022 Python Software Foundation.\n",
       "  All Rights Reserved.\n",
       "  \n",
       "  Copyright (c) 2000 BeOpen.com.\n",
       "  All Rights Reserved.\n",
       "  \n",
       "  Copyright (c) 1995-2001 Corporation for National Research Initiatives.\n",
       "  All Rights Reserved.\n",
       "  \n",
       "  Copyright (c) 1991-1995 Stichting Mathematisch Centrum, Amsterdam.\n",
       "  All Rights Reserved.,\n",
       "  'credits':     Thanks to CWI, CNRI, BeOpen.com, Zope Corporation and a cast of thousands\n",
       "      for supporting Python development.  See www.python.org for more information.,\n",
       "  'license': See https://www.python.org/psf/license/,\n",
       "  'help': Type help() for interactive help, or help(object) for help about object.,\n",
       "  'execfile': <function _pydev_imps._pydev_execfile.execfile(file, glob=None, loc=None)>,\n",
       "  'runfile': <function _pydev_bundle.pydev_umd.runfile(filename, args=None, wdir=None, namespace=None)>,\n",
       "  '__IPYTHON__': True,\n",
       "  'display': <function IPython.core.display_functions.display(*objs, include=None, exclude=None, metadata=None, transient=None, display_id=None, raw=False, clear=False, **kwargs)>,\n",
       "  'get_ipython': <bound method InteractiveShell.get_ipython of <ipykernel.zmqshell.ZMQInteractiveShell object at 0x000001EB031928F0>>},\n",
       " 'functools': <module 'functools' from 'C:\\\\Users\\\\User\\\\miniforge3\\\\envs\\\\algoviz-basics\\\\lib\\\\functools.py'>,\n",
       " 'itertools': <module 'itertools' (built-in)>,\n",
       " 'peek_arg': <function decorators.peek_arg(func)>,\n",
       " 'peek_return': <function decorators.peek_return(func)>,\n",
       " 'call': <function decorators.call(func)>,\n",
       " 'call_with': <function decorators.call_with(*args, **kwargs)>,\n",
       " 'thrice': <function decorators.thrice(func)>,\n",
       " 'repeat': <function decorators.repeat(count)>,\n",
       " 'peek_one': <function decorators.peek_one(func)>,\n",
       " 'peek': <function decorators.peek(func)>,\n",
       " 'give_metadata_from': <function decorators.give_metadata_from(wrapped)>,\n",
       " 'memoize': <function decorators.memoize(func)>,\n",
       " 'memoize_by': <function decorators.memoize_by(key)>,\n",
       " 'int_fn': <function decorators.int_fn(func)>,\n",
       " 'count_calls': <function decorators.count_calls(func)>,\n",
       " 'convert_arg': <function decorators.convert_arg(converter)>,\n",
       " 'convert_return': <function decorators.convert_return(converter)>}"
      ]
     },
     "execution_count": 92,
     "metadata": {},
     "output_type": "execute_result"
    }
   ],
   "source": [
    "decorators.__dict__"
   ]
  },
  {
   "cell_type": "code",
   "execution_count": 93,
   "id": "4c8b8086-4555-4360-9e3e-aff513c62d63",
   "metadata": {},
   "outputs": [
    {
     "data": {
      "text/plain": [
       "'Alice and Bob'"
      ]
     },
     "execution_count": 93,
     "metadata": {},
     "output_type": "execute_result"
    }
   ],
   "source": [
    "'%s and %s' % ('Alice', 'Bob')"
   ]
  },
  {
   "cell_type": "code",
   "execution_count": 94,
   "id": "9f7f494f-1c58-47c8-839e-3fdcea4f01f1",
   "metadata": {},
   "outputs": [
    {
     "data": {
      "text/plain": [
       "'Ask Alice.'"
      ]
     },
     "execution_count": 94,
     "metadata": {},
     "output_type": "execute_result"
    }
   ],
   "source": [
    "'Ask %s.' % ('Alice',)"
   ]
  },
  {
   "cell_type": "code",
   "execution_count": 95,
   "id": "12cada46-3f89-45f4-92a2-894dae796a8d",
   "metadata": {},
   "outputs": [
    {
     "data": {
      "text/plain": [
       "'Ask Alice.'"
      ]
     },
     "execution_count": 95,
     "metadata": {},
     "output_type": "execute_result"
    }
   ],
   "source": [
    "'Ask %s.' % 'Alice'"
   ]
  },
  {
   "cell_type": "code",
   "execution_count": 96,
   "id": "8577c5d4-29e4-4331-a18e-6441b9921472",
   "metadata": {},
   "outputs": [
    {
     "data": {
      "text/plain": [
       "\"Team 1 is ('Alice', 'Bob'). Team 2 is ('Eve', 'Mallory').\""
      ]
     },
     "execution_count": 96,
     "metadata": {},
     "output_type": "execute_result"
    }
   ],
   "source": [
    "'Team 1 is %s. Team 2 is %s.' % (('Alice', 'Bob'), ('Eve', 'Mallory'))"
   ]
  },
  {
   "cell_type": "code",
   "execution_count": 97,
   "id": "0bf1d567-8ebb-44cb-8534-57533a17df74",
   "metadata": {
    "tags": [
     "raises-exception"
    ]
   },
   "outputs": [
    {
     "ename": "TypeError",
     "evalue": "not all arguments converted during string formatting",
     "output_type": "error",
     "traceback": [
      "\u001b[1;31m---------------------------------------------------------------------------\u001b[0m",
      "\u001b[1;31mTypeError\u001b[0m                                 Traceback (most recent call last)",
      "Input \u001b[1;32mIn [97]\u001b[0m, in \u001b[0;36m<cell line: 1>\u001b[1;34m()\u001b[0m\n\u001b[1;32m----> 1\u001b[0m \u001b[38;5;124;43m'\u001b[39;49m\u001b[38;5;124;43mTeam 1 is \u001b[39;49m\u001b[38;5;132;43;01m%s\u001b[39;49;00m\u001b[38;5;124;43m.\u001b[39;49m\u001b[38;5;124;43m'\u001b[39;49m\u001b[43m \u001b[49m\u001b[38;5;241;43m%\u001b[39;49m\u001b[43m \u001b[49m\u001b[43m(\u001b[49m\u001b[38;5;124;43m'\u001b[39;49m\u001b[38;5;124;43mAlice\u001b[39;49m\u001b[38;5;124;43m'\u001b[39;49m\u001b[43m,\u001b[49m\u001b[43m \u001b[49m\u001b[38;5;124;43m'\u001b[39;49m\u001b[38;5;124;43mBob\u001b[39;49m\u001b[38;5;124;43m'\u001b[39;49m\u001b[43m)\u001b[49m\n",
      "\u001b[1;31mTypeError\u001b[0m: not all arguments converted during string formatting"
     ]
    }
   ],
   "source": [
    "'Team 1 is %s.' % ('Alice', 'Bob')"
   ]
  },
  {
   "cell_type": "code",
   "execution_count": 98,
   "id": "31220a15-ff0b-4803-a179-4c245d16e413",
   "metadata": {},
   "outputs": [
    {
     "data": {
      "text/plain": [
       "\"Team 1 is ('Alice', 'Bob').\""
      ]
     },
     "execution_count": 98,
     "metadata": {},
     "output_type": "execute_result"
    }
   ],
   "source": [
    "'Team 1 is %s.' % (('Alice', 'Bob'),)"
   ]
  },
  {
   "cell_type": "code",
   "execution_count": 99,
   "id": "369b9229-394c-4dd1-aad4-9d2e675ff7a1",
   "metadata": {},
   "outputs": [
    {
     "data": {
      "text/plain": [
       "\"If you write a string like '{x}', the value of x is substitited.\""
      ]
     },
     "execution_count": 99,
     "metadata": {},
     "output_type": "execute_result"
    }
   ],
   "source": [
    "\"If you write a string like '{x}', the value of x is substitited.\""
   ]
  },
  {
   "cell_type": "code",
   "execution_count": 100,
   "id": "e9072b9b-2f2c-4994-8eb7-c5299e57ef9e",
   "metadata": {},
   "outputs": [
    {
     "data": {
      "text/plain": [
       "\"If you write a string like '{x}', the value of x, currently 42, is substitited.\""
      ]
     },
     "execution_count": 100,
     "metadata": {},
     "output_type": "execute_result"
    }
   ],
   "source": [
    "x = 42\n",
    "f\"If you write a string like '{{x}}', the value of x, currently {x}, is substitited.\""
   ]
  },
  {
   "cell_type": "code",
   "execution_count": 101,
   "id": "22dd9356-edab-4412-94d3-dc92dcf19686",
   "metadata": {},
   "outputs": [
    {
     "data": {
      "text/plain": [
       "\"If you write a string like '{x}', the value of x, currently 42, is substitited.\""
      ]
     },
     "execution_count": 101,
     "metadata": {},
     "output_type": "execute_result"
    }
   ],
   "source": [
    "\"If you write a string like '{{x}}', the value of x, currently {}, is substitited.\".format(x)"
   ]
  },
  {
   "cell_type": "code",
   "execution_count": 102,
   "id": "31227d9d-a2bc-4946-9811-bac61a83df18",
   "metadata": {},
   "outputs": [
    {
     "data": {
      "text/plain": [
       "\"If you write a string like '{x}', the value of x, currently 42, is substitited.\""
      ]
     },
     "execution_count": 102,
     "metadata": {},
     "output_type": "execute_result"
    }
   ],
   "source": [
    "\"If you write a string like '{x}', the value of x, currently %d, is substitited.\" % x"
   ]
  },
  {
   "cell_type": "code",
   "execution_count": 103,
   "id": "5975deaa-558a-416e-b8ea-91448db2062a",
   "metadata": {},
   "outputs": [
    {
     "data": {
      "text/plain": [
       "\"If you write a string like '%d' % x, the value of x is substituted.\""
      ]
     },
     "execution_count": 103,
     "metadata": {},
     "output_type": "execute_result"
    }
   ],
   "source": [
    "\"If you write a string like '%d' % x, the value of x is substituted.\""
   ]
  },
  {
   "cell_type": "code",
   "execution_count": 104,
   "id": "086bcdf0-279c-4a2e-b895-033a6e45cf64",
   "metadata": {},
   "outputs": [
    {
     "data": {
      "text/plain": [
       "\"If you write a string like '%d' % x, the value of x, currently 42 is substituted.\""
      ]
     },
     "execution_count": 104,
     "metadata": {},
     "output_type": "execute_result"
    }
   ],
   "source": [
    "\"If you write a string like '%%d' %% x, the value of x, currently %d is substituted.\" % x"
   ]
  },
  {
   "cell_type": "code",
   "execution_count": 105,
   "id": "417a69af-696f-4e52-815d-0b9804f988d1",
   "metadata": {},
   "outputs": [
    {
     "data": {
      "text/plain": [
       "\"If you write a string like '%d' % x, the value of x, currently 42 is substituted.\""
      ]
     },
     "execution_count": 105,
     "metadata": {},
     "output_type": "execute_result"
    }
   ],
   "source": [
    "f\"If you write a string like '%d' % x, the value of x, currently {x} is substituted.\""
   ]
  },
  {
   "cell_type": "code",
   "execution_count": 106,
   "id": "0031bcf3-d620-4389-afb8-1a4506e89472",
   "metadata": {},
   "outputs": [
    {
     "data": {
      "text/plain": [
       "\"If you write a string like '%d' % x, the value of x, currently 42 is substituted.\""
      ]
     },
     "execution_count": 106,
     "metadata": {},
     "output_type": "execute_result"
    }
   ],
   "source": [
    "\"If you write a string like '%d' % x, the value of x, currently {} is substituted.\".format(x)"
   ]
  },
  {
   "cell_type": "code",
   "execution_count": 107,
   "id": "5a959b0a-8105-4b24-92e7-1c73c43fe1d9",
   "metadata": {},
   "outputs": [
    {
     "name": "stdout",
     "output_type": "stream",
     "text": [
      "pi is approximately 3.141593.\n"
     ]
    }
   ],
   "source": [
    "print('pi is approximately %f.' % math.pi)"
   ]
  },
  {
   "cell_type": "code",
   "execution_count": 108,
   "id": "1649f35b-c86a-423f-a900-3ad416f0e0ab",
   "metadata": {},
   "outputs": [
    {
     "name": "stdout",
     "output_type": "stream",
     "text": [
      "pi is approximately 3.14.\n"
     ]
    }
   ],
   "source": [
    "print('pi is approximately %.2f.' % math.pi)"
   ]
  },
  {
   "cell_type": "code",
   "execution_count": 109,
   "id": "a6ea4de1-d100-4cb7-bb7f-27ddd1be0882",
   "metadata": {},
   "outputs": [
    {
     "name": "stdout",
     "output_type": "stream",
     "text": [
      "pi is approximately    3.14.\n"
     ]
    }
   ],
   "source": [
    "print('pi is approximately %7.2f.' % math.pi)"
   ]
  },
  {
   "cell_type": "code",
   "execution_count": 110,
   "id": "372704f4-cff1-4741-b0f7-ad8bcc9a9cba",
   "metadata": {},
   "outputs": [],
   "source": [
    "width = 7\n",
    "precision = 2"
   ]
  },
  {
   "cell_type": "code",
   "execution_count": 111,
   "id": "18b78326-79a9-4994-b491-0c9db46a8cf1",
   "metadata": {},
   "outputs": [
    {
     "name": "stdout",
     "output_type": "stream",
     "text": [
      "pi is approximately 3.14.\n"
     ]
    }
   ],
   "source": [
    "print('pi is approximately %.*f.' % (precision, math.pi))"
   ]
  },
  {
   "cell_type": "code",
   "execution_count": 112,
   "id": "d0f5e212-51bb-4beb-8478-93c489628f9e",
   "metadata": {},
   "outputs": [
    {
     "name": "stdout",
     "output_type": "stream",
     "text": [
      "pi is approximately    3.14.\n"
     ]
    }
   ],
   "source": [
    "print('pi is approximately %7.2f.' % math.pi)"
   ]
  },
  {
   "cell_type": "code",
   "execution_count": 113,
   "id": "0abf3a0f-a8c4-4212-8015-27feb865e1f8",
   "metadata": {},
   "outputs": [
    {
     "name": "stdout",
     "output_type": "stream",
     "text": [
      "pi is approximately    3.14.\n"
     ]
    }
   ],
   "source": [
    "print('pi is approximately %*.*f.' % (width, precision, math.pi))"
   ]
  },
  {
   "cell_type": "code",
   "execution_count": 114,
   "id": "779a1835-69e6-4187-9671-8423181c60d1",
   "metadata": {},
   "outputs": [
    {
     "name": "stdout",
     "output_type": "stream",
     "text": [
      "pi is approximately 3.141592653589793.\n"
     ]
    }
   ],
   "source": [
    "print(f'pi is approximately {math.pi}.')"
   ]
  },
  {
   "cell_type": "code",
   "execution_count": 115,
   "id": "b8f73869-2ebe-4db1-9390-0c9462809980",
   "metadata": {},
   "outputs": [
    {
     "name": "stdout",
     "output_type": "stream",
     "text": [
      "pi is approximately 3.14.\n"
     ]
    }
   ],
   "source": [
    "print(f'pi is approximately {math.pi:.2F}.')"
   ]
  },
  {
   "cell_type": "code",
   "execution_count": 116,
   "id": "9287f044-49a0-4dc9-a34e-c4e67a8e6ec4",
   "metadata": {},
   "outputs": [
    {
     "name": "stdout",
     "output_type": "stream",
     "text": [
      "pi is approximately    3.14.\n"
     ]
    }
   ],
   "source": [
    "print(f'pi is approximately {math.pi:7.2F}.')"
   ]
  },
  {
   "cell_type": "code",
   "execution_count": 117,
   "id": "98b2a280-58c9-4201-ac1b-af5acfb65652",
   "metadata": {},
   "outputs": [
    {
     "name": "stdout",
     "output_type": "stream",
     "text": [
      "pi is approximately 3.14.\n"
     ]
    }
   ],
   "source": [
    "print(f'pi is approximately {math.pi:.{precision}F}.')"
   ]
  },
  {
   "cell_type": "code",
   "execution_count": 118,
   "id": "2e4d9a1a-837b-4d03-b897-39128c36da99",
   "metadata": {},
   "outputs": [
    {
     "name": "stdout",
     "output_type": "stream",
     "text": [
      "pi is approximately    3.14.\n"
     ]
    }
   ],
   "source": [
    "print(f'pi is approximately {math.pi:{width}.{precision}F}.')"
   ]
  },
  {
   "cell_type": "code",
   "execution_count": 119,
   "id": "f9f03f13-9d7f-4a0f-8fb7-76a2e6e064d8",
   "metadata": {},
   "outputs": [
    {
     "name": "stdout",
     "output_type": "stream",
     "text": [
      "Help on built-in function print in module builtins:\n",
      "\n",
      "print(...)\n",
      "    print(value, ..., sep=' ', end='\\n', file=sys.stdout, flush=False)\n",
      "    \n",
      "    Prints the values to a stream, or to sys.stdout by default.\n",
      "    Optional keyword arguments:\n",
      "    file:  a file-like object (stream); defaults to the current sys.stdout.\n",
      "    sep:   string inserted between values, default a space.\n",
      "    end:   string appended after the last value, default a newline.\n",
      "    flush: whether to forcibly flush the stream.\n",
      "\n"
     ]
    }
   ],
   "source": [
    "help(print)"
   ]
  },
  {
   "cell_type": "code",
   "execution_count": 120,
   "id": "c258ebc0-c52f-4aee-8b96-caa1a85b521b",
   "metadata": {},
   "outputs": [
    {
     "data": {
      "text/plain": [
       "'21'"
      ]
     },
     "execution_count": 120,
     "metadata": {},
     "output_type": "execute_result"
    }
   ],
   "source": [
    "x = 3\n",
    "y = 7\n",
    "f'{x * y}'  # No advantage over str."
   ]
  },
  {
   "cell_type": "code",
   "execution_count": 121,
   "id": "001ef937-d0a5-4dd6-a6ca-83398737465d",
   "metadata": {},
   "outputs": [
    {
     "data": {
      "text/plain": [
       "'21'"
      ]
     },
     "execution_count": 121,
     "metadata": {},
     "output_type": "execute_result"
    }
   ],
   "source": [
    "str(x * y)"
   ]
  },
  {
   "cell_type": "code",
   "execution_count": 122,
   "id": "5e08bfae-9a68-42e6-8fec-cd6801925e08",
   "metadata": {},
   "outputs": [
    {
     "data": {
      "text/plain": [
       "'  21'"
      ]
     },
     "execution_count": 122,
     "metadata": {},
     "output_type": "execute_result"
    }
   ],
   "source": [
    "f'{x * y : 4}'  # Here, the f-string is reasonable."
   ]
  },
  {
   "cell_type": "code",
   "execution_count": 123,
   "id": "ffbbb1c0-dcec-4291-bb66-fc89404af591",
   "metadata": {},
   "outputs": [],
   "source": [
    "verror = ValueError('Test message')"
   ]
  },
  {
   "cell_type": "code",
   "execution_count": 124,
   "id": "feaf2ed1-ff34-42a3-ba79-cb759eceb478",
   "metadata": {},
   "outputs": [
    {
     "data": {
      "text/plain": [
       "'Test message'"
      ]
     },
     "execution_count": 124,
     "metadata": {},
     "output_type": "execute_result"
    }
   ],
   "source": [
    "str(verror)"
   ]
  },
  {
   "cell_type": "code",
   "execution_count": 125,
   "id": "784ae80a-28ea-4a5b-bf1d-671f285c5455",
   "metadata": {},
   "outputs": [
    {
     "data": {
      "text/plain": [
       "\"ValueError('Test message')\""
      ]
     },
     "execution_count": 125,
     "metadata": {},
     "output_type": "execute_result"
    }
   ],
   "source": [
    "repr(verror)"
   ]
  },
  {
   "cell_type": "markdown",
   "id": "58789cd8-4dfe-40e3-bde9-5399ddc35e7a",
   "metadata": {},
   "source": [
    "## `eval`-able `repr`s"
   ]
  },
  {
   "cell_type": "code",
   "execution_count": 126,
   "id": "8a8a0eb1-3f1b-439d-a12d-3148337829cf",
   "metadata": {},
   "outputs": [
    {
     "data": {
      "text/plain": [
       "Fraction(2, 3)"
      ]
     },
     "execution_count": 126,
     "metadata": {},
     "output_type": "execute_result"
    }
   ],
   "source": [
    "x = Fraction(2, 3)\n",
    "x"
   ]
  },
  {
   "cell_type": "code",
   "execution_count": 127,
   "id": "824c9dfa-7c4a-49bb-a978-26f8db57cc95",
   "metadata": {},
   "outputs": [
    {
     "data": {
      "text/plain": [
       "'2/3'"
      ]
     },
     "execution_count": 127,
     "metadata": {},
     "output_type": "execute_result"
    }
   ],
   "source": [
    "str(x)"
   ]
  },
  {
   "cell_type": "code",
   "execution_count": 128,
   "id": "128cb8cd-2af6-479a-b058-45a8dc1a1b1d",
   "metadata": {},
   "outputs": [
    {
     "data": {
      "text/plain": [
       "'Fraction(2, 3)'"
      ]
     },
     "execution_count": 128,
     "metadata": {},
     "output_type": "execute_result"
    }
   ],
   "source": [
    "repr(x)"
   ]
  },
  {
   "cell_type": "code",
   "execution_count": 129,
   "id": "6b1e5fc3-a37b-4ab5-a640-8698ea00ef00",
   "metadata": {},
   "outputs": [
    {
     "data": {
      "text/plain": [
       "True"
      ]
     },
     "execution_count": 129,
     "metadata": {},
     "output_type": "execute_result"
    }
   ],
   "source": [
    "eval(repr(x)) == x"
   ]
  },
  {
   "cell_type": "code",
   "execution_count": 130,
   "id": "c99c71d7-7350-4745-b616-d7a6aeaa63ab",
   "metadata": {},
   "outputs": [
    {
     "name": "stdout",
     "output_type": "stream",
     "text": [
      "Help on built-in function eval in module builtins:\n",
      "\n",
      "eval(source, globals=None, locals=None, /)\n",
      "    Evaluate the given source in the context of globals and locals.\n",
      "    \n",
      "    The source may be a string representing a Python expression\n",
      "    or a code object as returned by compile().\n",
      "    The globals must be a dictionary and locals can be any mapping,\n",
      "    defaulting to the current globals and locals.\n",
      "    If only globals is given, locals defaults to it.\n",
      "\n"
     ]
    }
   ],
   "source": [
    "help(eval)"
   ]
  },
  {
   "cell_type": "code",
   "execution_count": null,
   "id": "1a1a0bd9-e41b-4ee2-a372-6f8ff0c818bf",
   "metadata": {},
   "outputs": [],
   "source": []
  }
 ],
 "metadata": {
  "kernelspec": {
   "display_name": "Python 3 (ipykernel)",
   "language": "python",
   "name": "python3"
  },
  "language_info": {
   "codemirror_mode": {
    "name": "ipython",
    "version": 3
   },
   "file_extension": ".py",
   "mimetype": "text/x-python",
   "name": "python",
   "nbconvert_exporter": "python",
   "pygments_lexer": "ipython3",
   "version": "3.10.4"
  }
 },
 "nbformat": 4,
 "nbformat_minor": 5
}
