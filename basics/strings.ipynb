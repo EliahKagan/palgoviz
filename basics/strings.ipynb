{
 "cells": [
  {
   "cell_type": "code",
   "execution_count": 1,
   "id": "e0fc3ba9-40b3-4e08-b1a4-3652e41173ad",
   "metadata": {},
   "outputs": [
    {
     "name": "stdout",
     "output_type": "stream",
     "text": [
      "hello\n"
     ]
    }
   ],
   "source": [
    "print('hello')"
   ]
  },
  {
   "cell_type": "code",
   "execution_count": 2,
   "id": "58adc375-8c6d-4e2a-8268-31450b2995fb",
   "metadata": {},
   "outputs": [
    {
     "data": {
      "text/plain": [
       "'hello'"
      ]
     },
     "execution_count": 2,
     "metadata": {},
     "output_type": "execute_result"
    }
   ],
   "source": [
    "'hello'"
   ]
  },
  {
   "cell_type": "code",
   "execution_count": 3,
   "id": "cfb03332-856e-406b-8142-2c58573c0662",
   "metadata": {},
   "outputs": [
    {
     "data": {
      "text/plain": [
       "'hello'"
      ]
     },
     "execution_count": 3,
     "metadata": {},
     "output_type": "execute_result"
    }
   ],
   "source": [
    "str('hello')"
   ]
  },
  {
   "cell_type": "code",
   "execution_count": 4,
   "id": "b2aa758f-eede-423b-87d0-436cfc10a6ba",
   "metadata": {},
   "outputs": [
    {
     "data": {
      "text/plain": [
       "\"'hello'\""
      ]
     },
     "execution_count": 4,
     "metadata": {},
     "output_type": "execute_result"
    }
   ],
   "source": [
    "repr('hello')"
   ]
  },
  {
   "cell_type": "code",
   "execution_count": 5,
   "id": "3c95a90c-5e8d-4900-91b3-e6a068cb5463",
   "metadata": {},
   "outputs": [
    {
     "data": {
      "text/plain": [
       "str"
      ]
     },
     "execution_count": 5,
     "metadata": {},
     "output_type": "execute_result"
    }
   ],
   "source": [
    "type('hello')"
   ]
  },
  {
   "cell_type": "code",
   "execution_count": 6,
   "id": "b02a9b64-ed16-4f03-8f41-3ac9dc315126",
   "metadata": {},
   "outputs": [
    {
     "data": {
      "text/plain": [
       "'3'"
      ]
     },
     "execution_count": 6,
     "metadata": {},
     "output_type": "execute_result"
    }
   ],
   "source": [
    "str(3)"
   ]
  },
  {
   "cell_type": "code",
   "execution_count": 7,
   "id": "c4b2b81b-ebad-453d-858d-5c2e7f950e44",
   "metadata": {},
   "outputs": [],
   "source": [
    "from fractions import Fraction"
   ]
  },
  {
   "cell_type": "code",
   "execution_count": 8,
   "id": "7d2d22d2-c602-4bba-936e-158c20cf82c5",
   "metadata": {},
   "outputs": [],
   "source": [
    "x = Fraction(2, 3)"
   ]
  },
  {
   "cell_type": "code",
   "execution_count": 9,
   "id": "446f5bde-be6f-4f7d-b7fb-bbf6541f4e3d",
   "metadata": {},
   "outputs": [
    {
     "data": {
      "text/plain": [
       "Fraction(2, 3)"
      ]
     },
     "execution_count": 9,
     "metadata": {},
     "output_type": "execute_result"
    }
   ],
   "source": [
    "x"
   ]
  },
  {
   "cell_type": "code",
   "execution_count": 10,
   "id": "ae40fe63-6dc6-46b0-a984-230e87c37b22",
   "metadata": {},
   "outputs": [
    {
     "data": {
      "text/plain": [
       "'Fraction(2, 3)'"
      ]
     },
     "execution_count": 10,
     "metadata": {},
     "output_type": "execute_result"
    }
   ],
   "source": [
    "repr(x)"
   ]
  },
  {
   "cell_type": "code",
   "execution_count": 11,
   "id": "7bc0a86a-b5f3-4a4a-8b6b-fcd67558b54e",
   "metadata": {},
   "outputs": [
    {
     "data": {
      "text/plain": [
       "'2/3'"
      ]
     },
     "execution_count": 11,
     "metadata": {},
     "output_type": "execute_result"
    }
   ],
   "source": [
    "str(x)"
   ]
  },
  {
   "cell_type": "code",
   "execution_count": 12,
   "id": "93a346fe-21ae-49c1-b7fd-2eef41b275c2",
   "metadata": {},
   "outputs": [
    {
     "name": "stdout",
     "output_type": "stream",
     "text": [
      "3\n"
     ]
    }
   ],
   "source": [
    "print(3)"
   ]
  },
  {
   "cell_type": "code",
   "execution_count": 13,
   "id": "c1f21d4d-c1ab-4823-a18f-098b7a19e18b",
   "metadata": {},
   "outputs": [
    {
     "data": {
      "text/plain": [
       "'None'"
      ]
     },
     "execution_count": 13,
     "metadata": {},
     "output_type": "execute_result"
    }
   ],
   "source": [
    "repr(None)"
   ]
  },
  {
   "cell_type": "code",
   "execution_count": 14,
   "id": "ee752e17-82c5-47fb-995d-28108d787478",
   "metadata": {},
   "outputs": [
    {
     "data": {
      "text/plain": [
       "'None'"
      ]
     },
     "execution_count": 14,
     "metadata": {},
     "output_type": "execute_result"
    }
   ],
   "source": [
    "str(None)"
   ]
  },
  {
   "cell_type": "code",
   "execution_count": 15,
   "id": "0c373676-153c-4021-aa9c-9ffc996c2857",
   "metadata": {},
   "outputs": [
    {
     "data": {
      "text/plain": [
       "27"
      ]
     },
     "execution_count": 15,
     "metadata": {},
     "output_type": "execute_result"
    }
   ],
   "source": [
    "x = 3\n",
    "x**2\n",
    "x**3"
   ]
  },
  {
   "cell_type": "code",
   "execution_count": 16,
   "id": "68dd86c1-5b0e-4854-85e1-8920bcaec9e8",
   "metadata": {},
   "outputs": [
    {
     "name": "stdout",
     "output_type": "stream",
     "text": [
      "27\n"
     ]
    }
   ],
   "source": [
    "print(x**3)"
   ]
  },
  {
   "cell_type": "code",
   "execution_count": 17,
   "id": "4bf45695-b87e-4e6c-81c1-d016f76b4a57",
   "metadata": {},
   "outputs": [
    {
     "name": "stdout",
     "output_type": "stream",
     "text": [
      "27\n"
     ]
    }
   ],
   "source": [
    "print(repr(x**3))"
   ]
  },
  {
   "cell_type": "code",
   "execution_count": 19,
   "id": "c14f986e-9ccd-4474-9293-384c98a49482",
   "metadata": {},
   "outputs": [
    {
     "name": "stdout",
     "output_type": "stream",
     "text": [
      "\"'hello'\"\n"
     ]
    }
   ],
   "source": [
    "print(repr(repr('hello')))"
   ]
  },
  {
   "cell_type": "code",
   "execution_count": 20,
   "id": "5c96fc03-6ff4-442b-ab47-fffd22afa367",
   "metadata": {},
   "outputs": [
    {
     "data": {
      "text/plain": [
       "<function __main__.<lambda>(x)>"
      ]
     },
     "execution_count": 20,
     "metadata": {},
     "output_type": "execute_result"
    }
   ],
   "source": [
    "lambda x: x"
   ]
  },
  {
   "cell_type": "code",
   "execution_count": 21,
   "id": "bc42c1f8-2a3a-4c25-9e8e-319f4f040fd3",
   "metadata": {},
   "outputs": [
    {
     "data": {
      "text/plain": [
       "'Fraction(2, 3)'"
      ]
     },
     "execution_count": 21,
     "metadata": {},
     "output_type": "execute_result"
    }
   ],
   "source": [
    "repr(Fraction(2, 3))"
   ]
  },
  {
   "cell_type": "code",
   "execution_count": 22,
   "id": "880aa091-fe93-4139-8e01-20f04f52c1e2",
   "metadata": {},
   "outputs": [
    {
     "data": {
      "text/plain": [
       "'2/3'"
      ]
     },
     "execution_count": 22,
     "metadata": {},
     "output_type": "execute_result"
    }
   ],
   "source": [
    "str(Fraction(2, 3))"
   ]
  },
  {
   "cell_type": "code",
   "execution_count": 23,
   "id": "a3269e22-1e45-43c5-bea7-0817772b06ea",
   "metadata": {},
   "outputs": [
    {
     "data": {
      "text/plain": [
       "0.6666666666666666"
      ]
     },
     "execution_count": 23,
     "metadata": {},
     "output_type": "execute_result"
    }
   ],
   "source": [
    "2/3"
   ]
  },
  {
   "cell_type": "code",
   "execution_count": 24,
   "id": "1caa7de4-2b94-4f13-97b4-42ce20d4fece",
   "metadata": {},
   "outputs": [
    {
     "data": {
      "text/plain": [
       "'2/3'"
      ]
     },
     "execution_count": 24,
     "metadata": {},
     "output_type": "execute_result"
    }
   ],
   "source": [
    "f'{Fraction(2, 3)}'"
   ]
  },
  {
   "cell_type": "code",
   "execution_count": 25,
   "id": "29c5ea7f-96a1-4ef3-a55f-7d8c2cb98441",
   "metadata": {},
   "outputs": [
    {
     "data": {
      "text/plain": [
       "'Fraction(2, 3)'"
      ]
     },
     "execution_count": 25,
     "metadata": {},
     "output_type": "execute_result"
    }
   ],
   "source": [
    "f'{Fraction(2, 3)!r}'"
   ]
  },
  {
   "cell_type": "code",
   "execution_count": 27,
   "id": "aa435ddc-b02e-48ad-ae63-7e0232d23b40",
   "metadata": {},
   "outputs": [
    {
     "data": {
      "text/plain": [
       "'Fraction(2, 3) = Fraction(2, 3)'"
      ]
     },
     "execution_count": 27,
     "metadata": {},
     "output_type": "execute_result"
    }
   ],
   "source": [
    "f'{Fraction(2, 3) = }'"
   ]
  },
  {
   "cell_type": "code",
   "execution_count": 28,
   "id": "4d1ce254-6e1e-4ac6-bf75-dc14e688ff68",
   "metadata": {},
   "outputs": [
    {
     "data": {
      "text/plain": [
       "'Fraction(2, 3) = 2/3'"
      ]
     },
     "execution_count": 28,
     "metadata": {},
     "output_type": "execute_result"
    }
   ],
   "source": [
    "f'{Fraction(2, 3) = !s}'"
   ]
  },
  {
   "cell_type": "code",
   "execution_count": null,
   "id": "ebdf5a52-e831-4fcb-8e6d-b76a657e3916",
   "metadata": {},
   "outputs": [],
   "source": []
  }
 ],
 "metadata": {
  "kernelspec": {
   "display_name": "Python 3 (ipykernel)",
   "language": "python",
   "name": "python3"
  },
  "language_info": {
   "codemirror_mode": {
    "name": "ipython",
    "version": 3
   },
   "file_extension": ".py",
   "mimetype": "text/x-python",
   "name": "python",
   "nbconvert_exporter": "python",
   "pygments_lexer": "ipython3",
   "version": "3.10.2"
  }
 },
 "nbformat": 4,
 "nbformat_minor": 5
}
