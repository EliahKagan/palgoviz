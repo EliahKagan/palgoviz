{
 "cells": [
  {
   "cell_type": "markdown",
   "id": "e41c5b68-2408-4547-aee4-ceeb0ec09a47",
   "metadata": {},
   "source": [
    "# Equality and identity in Python"
   ]
  },
  {
   "cell_type": "code",
   "execution_count": 1,
   "id": "53d98f99-1828-43c3-978c-f84bf9d5e64f",
   "metadata": {},
   "outputs": [],
   "source": [
    "a = [10, 20, 30]"
   ]
  },
  {
   "cell_type": "code",
   "execution_count": 2,
   "id": "96779a54-3b4a-49c2-89e5-24da5669e587",
   "metadata": {},
   "outputs": [],
   "source": [
    "# Create a variable b that refers to the same object as a.\n",
    "b = a"
   ]
  },
  {
   "cell_type": "code",
   "execution_count": 3,
   "id": "12362a5d-8fec-43c7-bc18-bd9c222272f1",
   "metadata": {},
   "outputs": [
    {
     "data": {
      "text/plain": [
       "True"
      ]
     },
     "execution_count": 3,
     "metadata": {},
     "output_type": "execute_result"
    }
   ],
   "source": [
    "# Show that a and b refer to the same object.\n",
    "b is a"
   ]
  },
  {
   "cell_type": "code",
   "execution_count": 4,
   "id": "219b5f87-f284-48c1-ae48-d0b929baf159",
   "metadata": {},
   "outputs": [],
   "source": [
    "# Create a variable c that is equal to a (and thus also b) but is a different object.\n",
    "c = [10, 20, 30]"
   ]
  },
  {
   "cell_type": "code",
   "execution_count": 5,
   "id": "c7071356-7f27-4e54-afbf-ca3f30243f69",
   "metadata": {},
   "outputs": [
    {
     "data": {
      "text/plain": [
       "False"
      ]
     },
     "execution_count": 5,
     "metadata": {},
     "output_type": "execute_result"
    }
   ],
   "source": [
    "c is b"
   ]
  },
  {
   "cell_type": "code",
   "execution_count": 6,
   "id": "94c0351e-3a0c-4cdd-8404-6f37913a817b",
   "metadata": {},
   "outputs": [
    {
     "data": {
      "text/plain": [
       "False"
      ]
     },
     "execution_count": 6,
     "metadata": {},
     "output_type": "execute_result"
    }
   ],
   "source": [
    "c is a"
   ]
  },
  {
   "cell_type": "code",
   "execution_count": 7,
   "id": "b3421486-dde6-45e3-8102-c46194ebec58",
   "metadata": {},
   "outputs": [
    {
     "data": {
      "text/plain": [
       "True"
      ]
     },
     "execution_count": 7,
     "metadata": {},
     "output_type": "execute_result"
    }
   ],
   "source": [
    "c == a"
   ]
  },
  {
   "cell_type": "code",
   "execution_count": 8,
   "id": "1e4914b9-9e0e-4b33-9fd4-fa2d099f5109",
   "metadata": {},
   "outputs": [
    {
     "data": {
      "text/plain": [
       "True"
      ]
     },
     "execution_count": 8,
     "metadata": {},
     "output_type": "execute_result"
    }
   ],
   "source": [
    "c == b"
   ]
  },
  {
   "cell_type": "code",
   "execution_count": 9,
   "id": "9ed587d4-3b72-4ead-a679-7b858790c6ea",
   "metadata": {},
   "outputs": [],
   "source": [
    "# Modify a. Show the modification through b. Show that it is not made to c.\n",
    "a.append(40)"
   ]
  },
  {
   "cell_type": "code",
   "execution_count": 10,
   "id": "980f015a-5e2a-46c1-bfcd-92617bf2ef23",
   "metadata": {},
   "outputs": [
    {
     "data": {
      "text/plain": [
       "[10, 20, 30, 40]"
      ]
     },
     "execution_count": 10,
     "metadata": {},
     "output_type": "execute_result"
    }
   ],
   "source": [
    "b"
   ]
  },
  {
   "cell_type": "code",
   "execution_count": 11,
   "id": "e6d6fba1-45a5-4d7a-b96a-f5ec82abbd5d",
   "metadata": {},
   "outputs": [
    {
     "data": {
      "text/plain": [
       "[10, 20, 30]"
      ]
     },
     "execution_count": 11,
     "metadata": {},
     "output_type": "execute_result"
    }
   ],
   "source": [
    "c"
   ]
  },
  {
   "cell_type": "markdown",
   "id": "800ffb6e-1182-47c3-8223-4705efb2c45e",
   "metadata": {},
   "source": [
    "### Value vs. reference equality: `==` vs. `is`"
   ]
  },
  {
   "cell_type": "markdown",
   "id": "d01ad6b3-4651-47db-bfd9-3b0c826e4918",
   "metadata": {},
   "source": [
    "The `==` (and `!=`) operator checks value equality, which is also called equality."
   ]
  },
  {
   "cell_type": "markdown",
   "id": "9bf78599-ecd8-4830-ada0-985096dc31ea",
   "metadata": {},
   "source": [
    "The `is` (and `is not`) operator checks reference equality, which is also called identity.\n",
    "\n",
    "Expressions are reference-equal when they refer to the same object."
   ]
  },
  {
   "cell_type": "markdown",
   "id": "4109c4c9-aad0-46cd-bdee-759d646ec102",
   "metadata": {},
   "source": [
    "### How a type implements `==`: structural vs. reference vs. other equality"
   ]
  },
  {
   "cell_type": "code",
   "execution_count": 12,
   "id": "2b097b38-0fbd-48a0-b666-5f3c7c2ff504",
   "metadata": {},
   "outputs": [],
   "source": [
    "xs = (4, 8, 1, 4, 8, 2, 4, 6)"
   ]
  },
  {
   "cell_type": "code",
   "execution_count": 13,
   "id": "4e8845ca-8b99-4539-bdb6-ed6eba73847f",
   "metadata": {},
   "outputs": [
    {
     "data": {
      "text/plain": [
       "3"
      ]
     },
     "execution_count": 13,
     "metadata": {},
     "output_type": "execute_result"
    }
   ],
   "source": [
    "xs.count(4)"
   ]
  },
  {
   "cell_type": "code",
   "execution_count": 14,
   "id": "e4bb1599-72f3-4d86-9fa7-2a1c201a40e9",
   "metadata": {},
   "outputs": [],
   "source": [
    "ys = (4, 8, 1, 4, 8, 2, 4, 6)"
   ]
  },
  {
   "cell_type": "code",
   "execution_count": 15,
   "id": "89fac571-3d74-47d0-a350-360408283fb6",
   "metadata": {},
   "outputs": [
    {
     "data": {
      "text/plain": [
       "False"
      ]
     },
     "execution_count": 15,
     "metadata": {},
     "output_type": "execute_result"
    }
   ],
   "source": [
    "xs is ys "
   ]
  },
  {
   "cell_type": "code",
   "execution_count": 16,
   "id": "f31567ef-08a9-4e21-a29a-2fdf0e191107",
   "metadata": {},
   "outputs": [
    {
     "data": {
      "text/plain": [
       "True"
      ]
     },
     "execution_count": 16,
     "metadata": {},
     "output_type": "execute_result"
    }
   ],
   "source": [
    "tuple(ys) is ys  # Allowed to be True or False. (Will be True.)"
   ]
  },
  {
   "cell_type": "code",
   "execution_count": 17,
   "id": "20eb9a16-ee2d-4f19-8a37-ba0b5b045ff3",
   "metadata": {},
   "outputs": [
    {
     "data": {
      "text/plain": [
       "False"
      ]
     },
     "execution_count": 17,
     "metadata": {},
     "output_type": "execute_result"
    }
   ],
   "source": [
    "list(a) is a  # Required to be False."
   ]
  },
  {
   "cell_type": "code",
   "execution_count": 18,
   "id": "49a6bfc6-1da2-43ad-8229-e9d883099d15",
   "metadata": {},
   "outputs": [
    {
     "data": {
      "text/plain": [
       "True"
      ]
     },
     "execution_count": 18,
     "metadata": {},
     "output_type": "execute_result"
    }
   ],
   "source": [
    "ys == xs"
   ]
  },
  {
   "cell_type": "code",
   "execution_count": 19,
   "id": "6cb79b0d-0b29-4682-b11d-f74981fa3ff9",
   "metadata": {},
   "outputs": [],
   "source": [
    "f = xs.count\n",
    "g = ys.count\n",
    "h = ys.count"
   ]
  },
  {
   "cell_type": "code",
   "execution_count": 20,
   "id": "83e66ec2-81cf-442a-aece-087b9c4cd620",
   "metadata": {},
   "outputs": [
    {
     "data": {
      "text/plain": [
       "False"
      ]
     },
     "execution_count": 20,
     "metadata": {},
     "output_type": "execute_result"
    }
   ],
   "source": [
    "g is h "
   ]
  },
  {
   "cell_type": "code",
   "execution_count": 21,
   "id": "c20b8168-0efc-4a21-b5e5-04648c90d4ca",
   "metadata": {},
   "outputs": [
    {
     "data": {
      "text/plain": [
       "True"
      ]
     },
     "execution_count": 21,
     "metadata": {},
     "output_type": "execute_result"
    }
   ],
   "source": [
    "g == h"
   ]
  },
  {
   "cell_type": "code",
   "execution_count": 22,
   "id": "c06308cc-1462-4e1e-a844-e9f77307845a",
   "metadata": {},
   "outputs": [
    {
     "data": {
      "text/plain": [
       "False"
      ]
     },
     "execution_count": 22,
     "metadata": {},
     "output_type": "execute_result"
    }
   ],
   "source": [
    "f is g"
   ]
  },
  {
   "cell_type": "code",
   "execution_count": 23,
   "id": "8b9c848b-5652-430c-ae92-8660d3d03480",
   "metadata": {},
   "outputs": [
    {
     "data": {
      "text/plain": [
       "False"
      ]
     },
     "execution_count": 23,
     "metadata": {},
     "output_type": "execute_result"
    }
   ],
   "source": [
    "f == g"
   ]
  },
  {
   "cell_type": "code",
   "execution_count": 24,
   "id": "6da510de-b700-4c7b-9bb7-a25dd88c066e",
   "metadata": {},
   "outputs": [],
   "source": [
    "# Write a function that takes a list as an argument and appends something to it.\n",
    "def applist(inlist, avalue):\n",
    "    inlist.append(avalue)"
   ]
  },
  {
   "cell_type": "code",
   "execution_count": 25,
   "id": "a5462e79-8bb4-4c1a-9f81-0aead81d5ab3",
   "metadata": {},
   "outputs": [
    {
     "data": {
      "text/plain": [
       "[10, 20, 30, 40]"
      ]
     },
     "execution_count": 25,
     "metadata": {},
     "output_type": "execute_result"
    }
   ],
   "source": [
    "applist(c, 40)\n",
    "c"
   ]
  },
  {
   "cell_type": "code",
   "execution_count": 26,
   "id": "f21b7b87-c93c-4517-8dea-ef9d1a90773b",
   "metadata": {},
   "outputs": [],
   "source": [
    "# Write a function that takes a list as an argument and appends something to it,\n",
    "# and returns the modified list. But make the list being appended to optional,\n",
    "# and if the user does not pass that argument, use an empty list instead.\n",
    "def applist(avalue, inlist = []):\n",
    "    inlist.append(avalue)\n",
    "    return inlist"
   ]
  },
  {
   "cell_type": "code",
   "execution_count": 27,
   "id": "d3358bf4-f8c1-4839-a8f2-67c467debc60",
   "metadata": {},
   "outputs": [],
   "source": [
    "l = [0, 10, 20, 30]"
   ]
  },
  {
   "cell_type": "code",
   "execution_count": 28,
   "id": "74cf590b-0a6e-43bb-8e11-22b8b4614166",
   "metadata": {},
   "outputs": [],
   "source": [
    "j = applist(20)"
   ]
  },
  {
   "cell_type": "code",
   "execution_count": 29,
   "id": "3f735f6f-503c-46e2-8b4c-fd6128bec720",
   "metadata": {},
   "outputs": [
    {
     "data": {
      "text/plain": [
       "[20]"
      ]
     },
     "execution_count": 29,
     "metadata": {},
     "output_type": "execute_result"
    }
   ],
   "source": [
    "j"
   ]
  },
  {
   "cell_type": "code",
   "execution_count": 30,
   "id": "50c54b25-8777-4518-90bd-188034b87095",
   "metadata": {},
   "outputs": [
    {
     "data": {
      "text/plain": [
       "[20, 20]"
      ]
     },
     "execution_count": 30,
     "metadata": {},
     "output_type": "execute_result"
    }
   ],
   "source": [
    "# What happens when you call applist again without passing a list argument?\n",
    "applist(20)"
   ]
  },
  {
   "cell_type": "code",
   "execution_count": 31,
   "id": "de26d39a-7626-4bfd-9f93-a9f758ac8fc8",
   "metadata": {},
   "outputs": [
    {
     "data": {
      "text/plain": [
       "[20, 20, 50]"
      ]
     },
     "execution_count": 31,
     "metadata": {},
     "output_type": "execute_result"
    }
   ],
   "source": [
    "applist(50)"
   ]
  },
  {
   "cell_type": "code",
   "execution_count": 32,
   "id": "863731e1-76c6-4147-b2a0-221f4a4f989b",
   "metadata": {},
   "outputs": [],
   "source": [
    "# Because this behavior is very rarely what one wants, mutable objects should\n",
    "# basically never be used as default argument values.\n",
    "#\n",
    "# ...What can you do instead?\n",
    "\n",
    "# One way might be...\n",
    "def applist(avalue, *args):\n",
    "    match args:\n",
    "        case []:\n",
    "            inlist = []\n",
    "        case [inlist]:\n",
    "            pass\n",
    "        case _:\n",
    "            raise TypeError('you should pass 0 or 1 inlist argument')\n",
    "    \n",
    "    inlist.append(avalue)\n",
    "    return inlist"
   ]
  },
  {
   "cell_type": "code",
   "execution_count": 33,
   "id": "06a29311-7037-4205-a50e-f37cf2bccb2f",
   "metadata": {},
   "outputs": [
    {
     "data": {
      "text/plain": [
       "[10, 20, 30, 40, 50]"
      ]
     },
     "execution_count": 33,
     "metadata": {},
     "output_type": "execute_result"
    }
   ],
   "source": [
    "zs = [10, 20, 30, 40]\n",
    "applist(50, zs)"
   ]
  },
  {
   "cell_type": "code",
   "execution_count": 34,
   "id": "8bb0211e-88e9-4ea8-970f-3f5394baf1ae",
   "metadata": {},
   "outputs": [
    {
     "data": {
      "text/plain": [
       "[10, 20, 30, 40, 50, 60]"
      ]
     },
     "execution_count": 34,
     "metadata": {},
     "output_type": "execute_result"
    }
   ],
   "source": [
    "applist(60, zs)"
   ]
  },
  {
   "cell_type": "code",
   "execution_count": 35,
   "id": "c385a76f-61d5-4a70-a187-3a183d190f12",
   "metadata": {},
   "outputs": [
    {
     "data": {
      "text/plain": [
       "['foo', 'bar', 'baz']"
      ]
     },
     "execution_count": 35,
     "metadata": {},
     "output_type": "execute_result"
    }
   ],
   "source": [
    "applist('baz', ['foo', 'bar'])"
   ]
  },
  {
   "cell_type": "code",
   "execution_count": 36,
   "id": "dd843389-ffcf-44f3-8939-f224c41e8c68",
   "metadata": {},
   "outputs": [
    {
     "data": {
      "text/plain": [
       "[42]"
      ]
     },
     "execution_count": 36,
     "metadata": {},
     "output_type": "execute_result"
    }
   ],
   "source": [
    "applist(42)"
   ]
  },
  {
   "cell_type": "code",
   "execution_count": 37,
   "id": "0ddaa427-d399-4db6-b776-f10c20adee98",
   "metadata": {},
   "outputs": [],
   "source": [
    "# A better way is...\n",
    "def applist(avalue, inlist = None):\n",
    "    if inlist is None:\n",
    "        inlist = []\n",
    "    inlist.append(avalue)\n",
    "    return inlist"
   ]
  },
  {
   "cell_type": "code",
   "execution_count": 38,
   "id": "23c4f37e-4bb8-445c-a788-1fe2618cd52b",
   "metadata": {},
   "outputs": [
    {
     "data": {
      "text/plain": [
       "[10, 20, 30, 40, 50]"
      ]
     },
     "execution_count": 38,
     "metadata": {},
     "output_type": "execute_result"
    }
   ],
   "source": [
    "zs = [10, 20, 30, 40]\n",
    "applist(50, zs)"
   ]
  },
  {
   "cell_type": "code",
   "execution_count": 39,
   "id": "6e68b8ed-fecb-4a7a-b885-6fbb0c6ad842",
   "metadata": {},
   "outputs": [
    {
     "data": {
      "text/plain": [
       "[10, 20, 30, 40, 50, 60]"
      ]
     },
     "execution_count": 39,
     "metadata": {},
     "output_type": "execute_result"
    }
   ],
   "source": [
    "applist(60, zs)"
   ]
  },
  {
   "cell_type": "code",
   "execution_count": 40,
   "id": "cd46111f-cd28-43da-baeb-43ef2fc45880",
   "metadata": {},
   "outputs": [
    {
     "data": {
      "text/plain": [
       "['foo', 'bar', 'baz']"
      ]
     },
     "execution_count": 40,
     "metadata": {},
     "output_type": "execute_result"
    }
   ],
   "source": [
    "applist('baz', ['foo', 'bar'])"
   ]
  },
  {
   "cell_type": "code",
   "execution_count": 41,
   "id": "5ce67c29-e7f1-4dc7-98b8-a17d84cd27b0",
   "metadata": {},
   "outputs": [
    {
     "data": {
      "text/plain": [
       "[42]"
      ]
     },
     "execution_count": 41,
     "metadata": {},
     "output_type": "execute_result"
    }
   ],
   "source": [
    "applist(42)  # Running this multiple times gives the same result."
   ]
  },
  {
   "cell_type": "code",
   "execution_count": 42,
   "id": "5b1b02a8-1984-42c1-b51c-a4101fb56477",
   "metadata": {},
   "outputs": [],
   "source": [
    "a = [10, 20, 30, 40, 50]\n",
    "it = iter(a)"
   ]
  },
  {
   "cell_type": "code",
   "execution_count": 43,
   "id": "17a9af5e-bca8-4a6b-b5af-4494cde0b028",
   "metadata": {},
   "outputs": [
    {
     "data": {
      "text/plain": [
       "122865867581"
      ]
     },
     "execution_count": 43,
     "metadata": {},
     "output_type": "execute_result"
    }
   ],
   "source": [
    "hash(it)"
   ]
  },
  {
   "cell_type": "code",
   "execution_count": 44,
   "id": "c542a530-2b2e-4dca-824b-5faf31769fd0",
   "metadata": {},
   "outputs": [
    {
     "data": {
      "text/plain": [
       "10"
      ]
     },
     "execution_count": 44,
     "metadata": {},
     "output_type": "execute_result"
    }
   ],
   "source": [
    "next(it)"
   ]
  },
  {
   "cell_type": "code",
   "execution_count": 45,
   "id": "07aeb5ea-03b0-44b7-a372-a7e5370e368d",
   "metadata": {},
   "outputs": [
    {
     "data": {
      "text/plain": [
       "20"
      ]
     },
     "execution_count": 45,
     "metadata": {},
     "output_type": "execute_result"
    }
   ],
   "source": [
    "next(it)"
   ]
  },
  {
   "cell_type": "code",
   "execution_count": 46,
   "id": "e74b932a-2c0f-4a01-a315-af87a7f656ef",
   "metadata": {},
   "outputs": [],
   "source": [
    "import itertools"
   ]
  },
  {
   "cell_type": "code",
   "execution_count": 47,
   "id": "e819c385-0ea2-42a0-99b1-a2860153c58e",
   "metadata": {},
   "outputs": [
    {
     "name": "stdout",
     "output_type": "stream",
     "text": [
      "(10, 20)\n",
      "30\n"
     ]
    }
   ],
   "source": [
    "def next_two(iterator=itertools.count()):  # Bad.\n",
    "    \"\"\"\n",
    "    Return a tuple of the next two values of an iterator.\n",
    "    \n",
    "    If called with no arguments, uses an itertools.count iterator.\n",
    "    \"\"\"\n",
    "    first = next(iterator)\n",
    "    second = next(iterator)\n",
    "    return first, second\n",
    "\n",
    "b = [10, 20, 30, 40, 50]\n",
    "it = iter(b)\n",
    "print(next_two(it))\n",
    "print(next(it))"
   ]
  },
  {
   "cell_type": "code",
   "execution_count": 48,
   "id": "d7323f81-def3-4ae7-8d88-dc47b15303b1",
   "metadata": {},
   "outputs": [
    {
     "data": {
      "text/plain": [
       "(0, 1)"
      ]
     },
     "execution_count": 48,
     "metadata": {},
     "output_type": "execute_result"
    }
   ],
   "source": [
    "next_two()"
   ]
  },
  {
   "cell_type": "code",
   "execution_count": 49,
   "id": "952a22fa-c4ac-433c-a66c-dade5bbcd844",
   "metadata": {},
   "outputs": [
    {
     "data": {
      "text/plain": [
       "(2, 3)"
      ]
     },
     "execution_count": 49,
     "metadata": {},
     "output_type": "execute_result"
    }
   ],
   "source": [
    "next_two()"
   ]
  },
  {
   "cell_type": "code",
   "execution_count": 50,
   "id": "999ce104-a145-4f84-81d2-e1c93e04281d",
   "metadata": {},
   "outputs": [
    {
     "name": "stdout",
     "output_type": "stream",
     "text": [
      "(10, 20)\n",
      "30\n"
     ]
    }
   ],
   "source": [
    "def next_two(iterator=None):  # Good.\n",
    "    \"\"\"\n",
    "    Return a tuple of the next two values of an iterator.\n",
    "    \n",
    "    If called with no arguments, uses an itertools.count iterator.\n",
    "    \"\"\"\n",
    "    if iterator is None:\n",
    "        iterator = itertools.count()\n",
    "    first = next(iterator)\n",
    "    second = next(iterator)\n",
    "    return first, second\n",
    "\n",
    "\n",
    "b = [10, 20, 30, 40, 50]\n",
    "it = iter(b)\n",
    "print(next_two(it))\n",
    "print(next(it))"
   ]
  },
  {
   "cell_type": "code",
   "execution_count": 51,
   "id": "658ee1c4-2bc5-4c15-86d1-d82ca1b04049",
   "metadata": {},
   "outputs": [
    {
     "data": {
      "text/plain": [
       "(0, 1)"
      ]
     },
     "execution_count": 51,
     "metadata": {},
     "output_type": "execute_result"
    }
   ],
   "source": [
    "next_two()"
   ]
  },
  {
   "cell_type": "code",
   "execution_count": 52,
   "id": "eea31c0b-f1ca-4fb7-8a51-655ec224917f",
   "metadata": {},
   "outputs": [
    {
     "data": {
      "text/plain": [
       "False"
      ]
     },
     "execution_count": 52,
     "metadata": {},
     "output_type": "execute_result"
    }
   ],
   "source": [
    "itertools.count() == itertools.count()"
   ]
  },
  {
   "cell_type": "code",
   "execution_count": 53,
   "id": "835e0665-2e7a-40ec-82e7-5a290509ceee",
   "metadata": {},
   "outputs": [
    {
     "data": {
      "text/plain": [
       "type"
      ]
     },
     "execution_count": 53,
     "metadata": {},
     "output_type": "execute_result"
    }
   ],
   "source": [
    "type(itertools.count)"
   ]
  },
  {
   "cell_type": "code",
   "execution_count": 54,
   "id": "339c1c45-37c7-4345-84c9-0e56a11c4e84",
   "metadata": {},
   "outputs": [
    {
     "data": {
      "text/plain": [
       "itertools.count"
      ]
     },
     "execution_count": 54,
     "metadata": {},
     "output_type": "execute_result"
    }
   ],
   "source": [
    "type(itertools.count())"
   ]
  },
  {
   "cell_type": "code",
   "execution_count": 55,
   "id": "f83acec1-b5a7-454b-a5bc-70a7ebde7cf4",
   "metadata": {},
   "outputs": [
    {
     "data": {
      "text/plain": [
       "[0, 1, 2, 3, 4, 5, 6, 7, 8, 9]"
      ]
     },
     "execution_count": 55,
     "metadata": {},
     "output_type": "execute_result"
    }
   ],
   "source": [
    "# Review of list concatenation.\n",
    "a = [0, 1, 2, 3, 4]\n",
    "b = [5, 6, 7, 8, 9]\n",
    "c = a + b\n",
    "c"
   ]
  },
  {
   "cell_type": "code",
   "execution_count": 56,
   "id": "93028afa-fe2e-46d6-9360-3d1347299e95",
   "metadata": {},
   "outputs": [
    {
     "data": {
      "text/plain": [
       "[0, 1, 2, 3, 4, 0, 1, 2, 3, 4, 0, 1, 2, 3, 4]"
      ]
     },
     "execution_count": 56,
     "metadata": {},
     "output_type": "execute_result"
    }
   ],
   "source": [
    "# You can also multiply a list by a number, to repeat the list.\n",
    "a * 3"
   ]
  },
  {
   "cell_type": "code",
   "execution_count": 57,
   "id": "e4293fab-f0fe-4a1f-9698-68bcbb61be97",
   "metadata": {},
   "outputs": [],
   "source": [
    "# Make a 12 item list, where all items are the number 7.\n",
    "d = [7] * 12"
   ]
  },
  {
   "cell_type": "code",
   "execution_count": 58,
   "id": "500a96b4-9123-4213-beeb-f028e8a25f6e",
   "metadata": {},
   "outputs": [
    {
     "data": {
      "text/plain": [
       "[7, 7, 7, 7, 7, 7, 7, 7, 7, 7, 7, 7]"
      ]
     },
     "execution_count": 58,
     "metadata": {},
     "output_type": "execute_result"
    }
   ],
   "source": [
    "d"
   ]
  },
  {
   "cell_type": "code",
   "execution_count": 59,
   "id": "f20b8ccf-a995-484c-bc50-1fc75fa3399f",
   "metadata": {},
   "outputs": [],
   "source": [
    "# This also works with tuples and strings."
   ]
  },
  {
   "cell_type": "code",
   "execution_count": 60,
   "id": "e645a27e-9b86-4016-bc64-f50e09ef95dc",
   "metadata": {},
   "outputs": [
    {
     "data": {
      "text/plain": [
       "[[3, 19],\n",
       " [3, 19],\n",
       " [3, 19],\n",
       " [3, 19],\n",
       " [3, 19],\n",
       " [3, 19],\n",
       " [3, 19],\n",
       " [3, 19],\n",
       " [3, 19],\n",
       " [3, 19]]"
      ]
     },
     "execution_count": 60,
     "metadata": {},
     "output_type": "execute_result"
    }
   ],
   "source": [
    "# Suppose we are building a jagged table. It is a list of lists.\n",
    "# It has 10 rows. All of them start out as an empty list.\n",
    "# After creating this list of empty lists, add 3 to one of the\n",
    "# rows (you choose) and 19 to another of them (you choose).\n",
    "rows = [[]] * 10\n",
    "rows[3].append(3)\n",
    "rows[9].append(19)\n",
    "rows"
   ]
  },
  {
   "cell_type": "code",
   "execution_count": 61,
   "id": "eeacdd3b-5b72-4a91-abe7-da5f1c4338bf",
   "metadata": {},
   "outputs": [
    {
     "data": {
      "text/plain": [
       "True"
      ]
     },
     "execution_count": 61,
     "metadata": {},
     "output_type": "execute_result"
    }
   ],
   "source": [
    "rows[3] is rows[9]"
   ]
  },
  {
   "cell_type": "code",
   "execution_count": 62,
   "id": "4f3b153c-a323-4a7a-a357-fc7bfad29c9c",
   "metadata": {},
   "outputs": [
    {
     "data": {
      "text/plain": [
       "[[], [], [], [3], [], [], [], [], [], [19]]"
      ]
     },
     "execution_count": 62,
     "metadata": {},
     "output_type": "execute_result"
    }
   ],
   "source": [
    "rows = [[] for _ in range(10)]\n",
    "rows\n",
    "rows[3].append(3)\n",
    "rows[9].append(19)\n",
    "rows"
   ]
  },
  {
   "cell_type": "code",
   "execution_count": 63,
   "id": "93460b73-90d9-40bd-8af2-3c52ce95f94b",
   "metadata": {},
   "outputs": [
    {
     "data": {
      "text/plain": [
       "[[], [], [], [3], [], [], [], [], [], [19]]"
      ]
     },
     "execution_count": 63,
     "metadata": {},
     "output_type": "execute_result"
    }
   ],
   "source": [
    "_"
   ]
  },
  {
   "cell_type": "code",
   "execution_count": 64,
   "id": "1ae30411-9b41-4adc-8992-48339a96c433",
   "metadata": {},
   "outputs": [
    {
     "data": {
      "text/plain": [
       "False"
      ]
     },
     "execution_count": 64,
     "metadata": {},
     "output_type": "execute_result"
    }
   ],
   "source": [
    "a = [10, 20, 30]\n",
    "b = [10, 20, 30]\n",
    "a is b"
   ]
  },
  {
   "cell_type": "code",
   "execution_count": 65,
   "id": "6ff4147c-22ba-4b67-8bfe-da8af95a1ce7",
   "metadata": {},
   "outputs": [
    {
     "data": {
      "text/plain": [
       "True"
      ]
     },
     "execution_count": 65,
     "metadata": {},
     "output_type": "execute_result"
    }
   ],
   "source": [
    "a == b"
   ]
  },
  {
   "cell_type": "code",
   "execution_count": 66,
   "id": "c85d3042-5a88-444a-ac0b-f780806e1fae",
   "metadata": {},
   "outputs": [
    {
     "data": {
      "text/plain": [
       "False"
      ]
     },
     "execution_count": 66,
     "metadata": {},
     "output_type": "execute_result"
    }
   ],
   "source": [
    "a = [10, [20, 30]]\n",
    "b = [10, [20, 30]]\n",
    "a is b"
   ]
  },
  {
   "cell_type": "code",
   "execution_count": 67,
   "id": "96384b61-7d9e-405c-8940-48bf59107983",
   "metadata": {},
   "outputs": [
    {
     "data": {
      "text/plain": [
       "True"
      ]
     },
     "execution_count": 67,
     "metadata": {},
     "output_type": "execute_result"
    }
   ],
   "source": [
    "a == b"
   ]
  },
  {
   "cell_type": "code",
   "execution_count": 68,
   "id": "b7328460-7577-4bac-8a95-36a7c2008f8c",
   "metadata": {},
   "outputs": [
    {
     "data": {
      "text/plain": [
       "True"
      ]
     },
     "execution_count": 68,
     "metadata": {},
     "output_type": "execute_result"
    }
   ],
   "source": [
    "(10, 20, 30) == (10, 20, 30)"
   ]
  },
  {
   "cell_type": "code",
   "execution_count": 69,
   "id": "502aed2b-ca48-4d94-b4d8-14422fa46bfb",
   "metadata": {},
   "outputs": [
    {
     "data": {
      "text/plain": [
       "True"
      ]
     },
     "execution_count": 69,
     "metadata": {},
     "output_type": "execute_result"
    }
   ],
   "source": [
    "() == ()  # Guaranteed."
   ]
  },
  {
   "cell_type": "code",
   "execution_count": 70,
   "id": "c4e659e6-23e5-4aa9-816b-b1427072630d",
   "metadata": {},
   "outputs": [
    {
     "name": "stderr",
     "output_type": "stream",
     "text": [
      "<>:1: SyntaxWarning: \"is\" with a literal. Did you mean \"==\"?\n",
      "<>:1: SyntaxWarning: \"is\" with a literal. Did you mean \"==\"?\n",
      "C:\\Users\\ek\\AppData\\Local\\Temp\\ipykernel_36300\\1942471289.py:1: SyntaxWarning: \"is\" with a literal. Did you mean \"==\"?\n",
      "  () is ()  # Not guaranteed. Allowed since tuples are immutable.\n"
     ]
    },
    {
     "data": {
      "text/plain": [
       "True"
      ]
     },
     "execution_count": 70,
     "metadata": {},
     "output_type": "execute_result"
    }
   ],
   "source": [
    "() is ()  # Not guaranteed. Allowed since tuples are immutable."
   ]
  },
  {
   "cell_type": "code",
   "execution_count": 71,
   "id": "c164a928-a764-4d20-bbeb-edc6db44f73b",
   "metadata": {},
   "outputs": [
    {
     "data": {
      "text/plain": [
       "True"
      ]
     },
     "execution_count": 71,
     "metadata": {},
     "output_type": "execute_result"
    }
   ],
   "source": [
    "[] == []  # Guaranteed."
   ]
  },
  {
   "cell_type": "code",
   "execution_count": 72,
   "id": "d74915a5-001b-4412-b45c-a216c4b50658",
   "metadata": {},
   "outputs": [
    {
     "data": {
      "text/plain": [
       "False"
      ]
     },
     "execution_count": 72,
     "metadata": {},
     "output_type": "execute_result"
    }
   ],
   "source": [
    "[] is []  # Guaranteed."
   ]
  },
  {
   "cell_type": "code",
   "execution_count": 73,
   "id": "e440d366-60a5-4eda-9702-8f5cd3511cfb",
   "metadata": {},
   "outputs": [
    {
     "data": {
      "text/plain": [
       "[10, [20, 30]]"
      ]
     },
     "execution_count": 73,
     "metadata": {},
     "output_type": "execute_result"
    }
   ],
   "source": [
    "a"
   ]
  },
  {
   "cell_type": "code",
   "execution_count": 74,
   "id": "0bafc004-635e-4e22-8b06-df46a39b457f",
   "metadata": {},
   "outputs": [
    {
     "data": {
      "text/plain": [
       "[10, [20, 30]]"
      ]
     },
     "execution_count": 74,
     "metadata": {},
     "output_type": "execute_result"
    }
   ],
   "source": [
    "b"
   ]
  },
  {
   "cell_type": "code",
   "execution_count": 75,
   "id": "a3cde339-3ad5-42fc-bc26-f5c94c863dfe",
   "metadata": {},
   "outputs": [],
   "source": [
    "c = b"
   ]
  },
  {
   "cell_type": "code",
   "execution_count": 76,
   "id": "159716a1-4674-484b-b73b-ce73ed161d3b",
   "metadata": {},
   "outputs": [
    {
     "data": {
      "text/plain": [
       "True"
      ]
     },
     "execution_count": 76,
     "metadata": {},
     "output_type": "execute_result"
    }
   ],
   "source": [
    "a == b"
   ]
  },
  {
   "cell_type": "code",
   "execution_count": 77,
   "id": "83ae2dc7-671b-433a-b048-a041d5804344",
   "metadata": {},
   "outputs": [
    {
     "data": {
      "text/plain": [
       "True"
      ]
     },
     "execution_count": 77,
     "metadata": {},
     "output_type": "execute_result"
    }
   ],
   "source": [
    "a == c"
   ]
  },
  {
   "cell_type": "code",
   "execution_count": 78,
   "id": "7c3114da-b9c9-405e-b947-4663c05555e9",
   "metadata": {},
   "outputs": [
    {
     "data": {
      "text/plain": [
       "False"
      ]
     },
     "execution_count": 78,
     "metadata": {},
     "output_type": "execute_result"
    }
   ],
   "source": [
    "a is b"
   ]
  },
  {
   "cell_type": "code",
   "execution_count": 79,
   "id": "b02611af-2070-4423-ae17-3879f2c98765",
   "metadata": {},
   "outputs": [
    {
     "data": {
      "text/plain": [
       "True"
      ]
     },
     "execution_count": 79,
     "metadata": {},
     "output_type": "execute_result"
    }
   ],
   "source": [
    "b is c"
   ]
  },
  {
   "cell_type": "code",
   "execution_count": 80,
   "id": "debe9e65-5c6f-45de-80e0-dd8e4920df7b",
   "metadata": {},
   "outputs": [
    {
     "data": {
      "text/plain": [
       "False"
      ]
     },
     "execution_count": 80,
     "metadata": {},
     "output_type": "execute_result"
    }
   ],
   "source": [
    "id(a) == id(b)  # Guaranteed."
   ]
  },
  {
   "cell_type": "code",
   "execution_count": 81,
   "id": "b91ac6f2-01aa-430d-baa2-095ec539cc26",
   "metadata": {},
   "outputs": [
    {
     "data": {
      "text/plain": [
       "True"
      ]
     },
     "execution_count": 81,
     "metadata": {},
     "output_type": "execute_result"
    }
   ],
   "source": [
    "id(b) == id(c)  # Guaranteed."
   ]
  },
  {
   "cell_type": "code",
   "execution_count": 82,
   "id": "1e8c6fae-9cce-4939-b471-1bd876851a9f",
   "metadata": {},
   "outputs": [
    {
     "data": {
      "text/plain": [
       "False"
      ]
     },
     "execution_count": 82,
     "metadata": {},
     "output_type": "execute_result"
    }
   ],
   "source": [
    "[] is []  # Guaranteed."
   ]
  },
  {
   "cell_type": "code",
   "execution_count": 83,
   "id": "c507cab4-d2a7-4fa4-a1d9-1483342bcecc",
   "metadata": {},
   "outputs": [
    {
     "data": {
      "text/plain": [
       "True"
      ]
     },
     "execution_count": 83,
     "metadata": {},
     "output_type": "execute_result"
    }
   ],
   "source": [
    "id([]) == id([])  # Not guaranteed."
   ]
  },
  {
   "cell_type": "code",
   "execution_count": 84,
   "id": "0b2ee775-e9be-4ee2-a982-4f02bee27c79",
   "metadata": {},
   "outputs": [],
   "source": [
    "# That is permitted to be true because the lists do not overlap in lifetime."
   ]
  },
  {
   "cell_type": "code",
   "execution_count": 85,
   "id": "f4e729eb-5e2d-4293-a841-2b43df728a3a",
   "metadata": {},
   "outputs": [
    {
     "data": {
      "text/plain": [
       "True"
      ]
     },
     "execution_count": 85,
     "metadata": {},
     "output_type": "execute_result"
    }
   ],
   "source": [
    "a = (10, 20, 30)\n",
    "b = tuple(a)\n",
    "b is a  # Not guaranteed, but usually true."
   ]
  },
  {
   "cell_type": "code",
   "execution_count": 86,
   "id": "63f38183-9a0e-4264-8b7a-b048260b16e2",
   "metadata": {},
   "outputs": [
    {
     "data": {
      "text/plain": [
       "True"
      ]
     },
     "execution_count": 86,
     "metadata": {},
     "output_type": "execute_result"
    }
   ],
   "source": [
    "n = 17**1004\n",
    "m = int(n)\n",
    "m is n"
   ]
  },
  {
   "cell_type": "code",
   "execution_count": 87,
   "id": "aaf0141c-94f8-466e-88b2-b72f2cb1af54",
   "metadata": {},
   "outputs": [
    {
     "data": {
      "text/plain": [
       "1965769359728"
      ]
     },
     "execution_count": 87,
     "metadata": {},
     "output_type": "execute_result"
    }
   ],
   "source": [
    "id(5)"
   ]
  },
  {
   "cell_type": "code",
   "execution_count": 88,
   "id": "58e3aabe-1c20-4b76-a4d6-994325bc5d18",
   "metadata": {},
   "outputs": [
    {
     "data": {
      "text/plain": [
       "1965769359728"
      ]
     },
     "execution_count": 88,
     "metadata": {},
     "output_type": "execute_result"
    }
   ],
   "source": [
    "id(5)"
   ]
  },
  {
   "cell_type": "code",
   "execution_count": 89,
   "id": "41d24d47-05a4-4ab5-8f24-53b20a632a37",
   "metadata": {},
   "outputs": [
    {
     "data": {
      "text/plain": [
       "True"
      ]
     },
     "execution_count": 89,
     "metadata": {},
     "output_type": "execute_result"
    }
   ],
   "source": [
    "# A better demonstration, since ids are used across disjoint lifetimes.\n",
    "x = 5\n",
    "y = 5\n",
    "x is y"
   ]
  },
  {
   "cell_type": "code",
   "execution_count": 90,
   "id": "3be7d4d5-6859-45ed-93ba-5088db7fb128",
   "metadata": {},
   "outputs": [
    {
     "data": {
      "text/plain": [
       "int"
      ]
     },
     "execution_count": 90,
     "metadata": {},
     "output_type": "execute_result"
    }
   ],
   "source": [
    "# Sometimes it is actually guaranteed that the object we get already exists.\n",
    "type(3)"
   ]
  },
  {
   "cell_type": "code",
   "execution_count": 91,
   "id": "bae7c1c3-f921-473e-b8c9-1801ecb16c00",
   "metadata": {},
   "outputs": [
    {
     "data": {
      "text/plain": [
       "type"
      ]
     },
     "execution_count": 91,
     "metadata": {},
     "output_type": "execute_result"
    }
   ],
   "source": [
    "type(type)"
   ]
  },
  {
   "cell_type": "code",
   "execution_count": 92,
   "id": "f5f99678-62e2-466f-95cd-62fe3447ce25",
   "metadata": {},
   "outputs": [
    {
     "data": {
      "text/plain": [
       "True"
      ]
     },
     "execution_count": 92,
     "metadata": {},
     "output_type": "execute_result"
    }
   ],
   "source": [
    "# Calling type on an object to get its type is guaranteed to return\n",
    "# a reference to an *existing* type object. It does not copy the\n",
    "# type object.\n",
    "type(3) is int  # Not just an implementation detail. Guaranteed."
   ]
  },
  {
   "cell_type": "code",
   "execution_count": 93,
   "id": "b1f33be0-ad2c-411b-b93c-03a63f351eb4",
   "metadata": {},
   "outputs": [
    {
     "data": {
      "text/plain": [
       "True"
      ]
     },
     "execution_count": 93,
     "metadata": {},
     "output_type": "execute_result"
    }
   ],
   "source": [
    "5 == 5  # Definitely guaranteed."
   ]
  },
  {
   "cell_type": "code",
   "execution_count": 94,
   "id": "fefe8ffe-8c95-4789-bb6b-876fa46ff1a5",
   "metadata": {},
   "outputs": [
    {
     "data": {
      "text/plain": [
       "True"
      ]
     },
     "execution_count": 94,
     "metadata": {},
     "output_type": "execute_result"
    }
   ],
   "source": [
    "id(5) == id(5)  # Not guaranteed, because 5 is not guaranteed to be cached."
   ]
  },
  {
   "cell_type": "code",
   "execution_count": 95,
   "id": "08dada72-fb77-4c9a-a77c-42ce5465bc0f",
   "metadata": {},
   "outputs": [
    {
     "name": "stderr",
     "output_type": "stream",
     "text": [
      "<>:1: SyntaxWarning: \"is\" with a literal. Did you mean \"==\"?\n",
      "<>:1: SyntaxWarning: \"is\" with a literal. Did you mean \"==\"?\n",
      "C:\\Users\\ek\\AppData\\Local\\Temp\\ipykernel_36300\\1009580176.py:1: SyntaxWarning: \"is\" with a literal. Did you mean \"==\"?\n",
      "  5 is 5  # Likewise not guaranteed.\n"
     ]
    },
    {
     "data": {
      "text/plain": [
       "True"
      ]
     },
     "execution_count": 95,
     "metadata": {},
     "output_type": "execute_result"
    }
   ],
   "source": [
    "5 is 5  # Likewise not guaranteed."
   ]
  },
  {
   "cell_type": "code",
   "execution_count": 96,
   "id": "6daa8c4f-1146-4fe7-b986-d4339724d7e0",
   "metadata": {},
   "outputs": [
    {
     "data": {
      "text/plain": [
       "True"
      ]
     },
     "execution_count": 96,
     "metadata": {},
     "output_type": "execute_result"
    }
   ],
   "source": [
    "x = 5\n",
    "id(x) == id(x)  # Guaranteed."
   ]
  },
  {
   "cell_type": "code",
   "execution_count": 97,
   "id": "2b077022-25ed-4b25-b08f-c78235a38cce",
   "metadata": {},
   "outputs": [
    {
     "data": {
      "text/plain": [
       "False"
      ]
     },
     "execution_count": 97,
     "metadata": {},
     "output_type": "execute_result"
    }
   ],
   "source": [
    "id(x) is id(x)  # Not guaranteed."
   ]
  },
  {
   "cell_type": "code",
   "execution_count": 98,
   "id": "07bbacb5-1acb-4b3c-8aaf-4d5c88790237",
   "metadata": {},
   "outputs": [
    {
     "data": {
      "text/plain": [
       "True"
      ]
     },
     "execution_count": 98,
     "metadata": {},
     "output_type": "execute_result"
    }
   ],
   "source": [
    "type(x) is type(x)  # Guaranteed."
   ]
  },
  {
   "cell_type": "markdown",
   "id": "1617a067-1e53-47a1-9b52-31a232154e6b",
   "metadata": {},
   "source": [
    "To clarify, when T is some type, expressions like this are usually, at least conceptually,\n",
    "asking for a new object of that type to created:\n",
    "\n",
    "```python\n",
    "T(...)\n",
    "```\n",
    "\n",
    "Sometimes, *as an optimization*, an existing object (rather, a reference to one) is returned.\n",
    "In general this is reasonable when `T` is an *immutable* type. This happens when you call\n",
    "`int` on an integer, `str` on a string, and so forth.\n",
    "\n",
    "In contrast, with `type`, when passed a single argument&mdash;that is, when used to *find*\n",
    "the type of an object&mdash;the behavior of returning an *existing* object (rather, a reference\n",
    "to one) is *guaranteed*. You are permitted to rely on this, you sometimes will end up\n",
    "actually relying on it, and also it would make very little sense for it to work otherwise.\n",
    "\n",
    "(`type` can also be used, when passed multiple arguments, in a manner documented in `help(type)`,\n",
    "to *create* new types. But this is very rarely done, except insofar as it is happening behind\n",
    "the scenes when `class` statements are executed.)"
   ]
  },
  {
   "cell_type": "code",
   "execution_count": 99,
   "id": "a7d1cd04-fcb2-44f1-ba3a-ae71bdaaa4a4",
   "metadata": {},
   "outputs": [],
   "source": [
    "# You've seen, with tuples, how instances of an immutable type can sometimes be mutable.\n",
    "# Another situation is when an immutable type is the base class of a mutable type.\n",
    "# At this point, we haven't done classes yet, so there's just one example I want to\n",
    "# call your attention to.\n",
    "x = object()"
   ]
  },
  {
   "cell_type": "code",
   "execution_count": 100,
   "id": "29c7eea0-292a-4789-ae16-4cebbe483e82",
   "metadata": {},
   "outputs": [
    {
     "data": {
      "text/plain": [
       "122864324540"
      ]
     },
     "execution_count": 100,
     "metadata": {},
     "output_type": "execute_result"
    }
   ],
   "source": [
    "hash(x)"
   ]
  },
  {
   "cell_type": "code",
   "execution_count": 101,
   "id": "7a994142-ab78-4e03-bc62-5e2f7c0c71dc",
   "metadata": {},
   "outputs": [
    {
     "name": "stdout",
     "output_type": "stream",
     "text": [
      "Help on class object in module builtins:\n",
      "\n",
      "class object\n",
      " |  The base class of the class hierarchy.\n",
      " |  \n",
      " |  When called, it accepts no arguments and returns a new featureless\n",
      " |  instance that has no instance attributes and cannot be given any.\n",
      " |  \n",
      " |  Built-in subclasses:\n",
      " |      anext_awaitable\n",
      " |      ArgNotFound\n",
      " |      async_generator\n",
      " |      async_generator_asend\n",
      " |      ... and 114 other subclasses\n",
      " |  \n",
      " |  Methods defined here:\n",
      " |  \n",
      " |  __delattr__(self, name, /)\n",
      " |      Implement delattr(self, name).\n",
      " |  \n",
      " |  __dir__(self, /)\n",
      " |      Default dir() implementation.\n",
      " |  \n",
      " |  __eq__(self, value, /)\n",
      " |      Return self==value.\n",
      " |  \n",
      " |  __format__(self, format_spec, /)\n",
      " |      Default object formatter.\n",
      " |  \n",
      " |  __ge__(self, value, /)\n",
      " |      Return self>=value.\n",
      " |  \n",
      " |  __getattribute__(self, name, /)\n",
      " |      Return getattr(self, name).\n",
      " |  \n",
      " |  __gt__(self, value, /)\n",
      " |      Return self>value.\n",
      " |  \n",
      " |  __hash__(self, /)\n",
      " |      Return hash(self).\n",
      " |  \n",
      " |  __init__(self, /, *args, **kwargs)\n",
      " |      Initialize self.  See help(type(self)) for accurate signature.\n",
      " |  \n",
      " |  __le__(self, value, /)\n",
      " |      Return self<=value.\n",
      " |  \n",
      " |  __lt__(self, value, /)\n",
      " |      Return self<value.\n",
      " |  \n",
      " |  __ne__(self, value, /)\n",
      " |      Return self!=value.\n",
      " |  \n",
      " |  __reduce__(self, /)\n",
      " |      Helper for pickle.\n",
      " |  \n",
      " |  __reduce_ex__(self, protocol, /)\n",
      " |      Helper for pickle.\n",
      " |  \n",
      " |  __repr__(self, /)\n",
      " |      Return repr(self).\n",
      " |  \n",
      " |  __setattr__(self, name, value, /)\n",
      " |      Implement setattr(self, name, value).\n",
      " |  \n",
      " |  __sizeof__(self, /)\n",
      " |      Size of object in memory, in bytes.\n",
      " |  \n",
      " |  __str__(self, /)\n",
      " |      Return str(self).\n",
      " |  \n",
      " |  ----------------------------------------------------------------------\n",
      " |  Class methods defined here:\n",
      " |  \n",
      " |  __init_subclass__(...) from builtins.type\n",
      " |      This method is called when a class is subclassed.\n",
      " |      \n",
      " |      The default implementation does nothing. It may be\n",
      " |      overridden to extend subclasses.\n",
      " |  \n",
      " |  __subclasshook__(...) from builtins.type\n",
      " |      Abstract classes can override this to customize issubclass().\n",
      " |      \n",
      " |      This is invoked early on by abc.ABCMeta.__subclasscheck__().\n",
      " |      It should return True, False or NotImplemented.  If it returns\n",
      " |      NotImplemented, the normal algorithm is used.  Otherwise, it\n",
      " |      overrides the normal algorithm (and the outcome is cached).\n",
      " |  \n",
      " |  ----------------------------------------------------------------------\n",
      " |  Static methods defined here:\n",
      " |  \n",
      " |  __new__(*args, **kwargs) from builtins.type\n",
      " |      Create and return a new object.  See help(type) for accurate signature.\n",
      " |  \n",
      " |  ----------------------------------------------------------------------\n",
      " |  Data and other attributes defined here:\n",
      " |  \n",
      " |  __class__ = <class 'type'>\n",
      " |      type(object) -> the object's type\n",
      " |      type(name, bases, dict, **kwds) -> a new type\n",
      "\n"
     ]
    }
   ],
   "source": [
    "# However, object guarantees that its direct instances are unique: every time you call\n",
    "# object(), you get a new object.\n",
    "help(object)"
   ]
  },
  {
   "cell_type": "code",
   "execution_count": null,
   "id": "0fb2d0e0-8df8-4662-a246-735812719a13",
   "metadata": {},
   "outputs": [],
   "source": []
  }
 ],
 "metadata": {
  "kernelspec": {
   "display_name": "Python 3 (ipykernel)",
   "language": "python",
   "name": "python3"
  },
  "language_info": {
   "codemirror_mode": {
    "name": "ipython",
    "version": 3
   },
   "file_extension": ".py",
   "mimetype": "text/x-python",
   "name": "python",
   "nbconvert_exporter": "python",
   "pygments_lexer": "ipython3",
   "version": "3.10.6"
  }
 },
 "nbformat": 4,
 "nbformat_minor": 5
}
