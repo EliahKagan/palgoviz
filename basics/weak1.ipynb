{
 "cells": [
  {
   "cell_type": "markdown",
   "id": "cb1f6bb2-52b9-430f-9aec-1d04be5a9ff5",
   "metadata": {},
   "source": [
    "# Weak References - Part 1 of 2"
   ]
  },
  {
   "cell_type": "markdown",
   "id": "11c65ba0-9678-4994-a6d8-ebcefdb19905",
   "metadata": {},
   "source": [
    "https://docs.python.org/3/library/weakref.html"
   ]
  },
  {
   "cell_type": "markdown",
   "id": "c406e48a-5768-494a-8fed-f619d883cb05",
   "metadata": {},
   "source": [
    "We work with \"raw\" weak referneces first, in part for conceptual clarity. But most use of `weakref` facilities in Python should not be through weak reference objects (`weakref.ref` and `weakref.proxy`).\n",
    "\n",
    "Instead, one usually uses the higher level facilities: `weakref.finalize`, `weakref.WeakSet`, `weakref.WeakKeyDictionary`, and `weakref.WeakValueDictionary`.\n",
    "\n",
    "Sometimes, when building linked data structures (that store data in nodes), one uses \"raw\" weak references directly to avoid unnecessary strong cycles. That may be the most \"basic\" direct use of weak references in Python where it is totally reasonable to use them, and not reasonable to replace most uses with higher-level facilities.\n",
    "\n",
    "You should reach for the higher level facilities first, in most cases."
   ]
  },
  {
   "cell_type": "code",
   "execution_count": 1,
   "id": "0c5129c8-153d-4098-93c3-d4a71a455569",
   "metadata": {},
   "outputs": [],
   "source": [
    "import gc\n",
    "import weakref"
   ]
  },
  {
   "cell_type": "markdown",
   "id": "a9f0be1e-f29f-4a0a-b709-5f1de532384c",
   "metadata": {},
   "source": [
    "## Weak reference basics"
   ]
  },
  {
   "cell_type": "markdown",
   "id": "a4bb6a58-4396-497a-9fa3-6c653200ebd4",
   "metadata": {},
   "source": [
    "Instances of unslotted classes are weak-referenceable:"
   ]
  },
  {
   "cell_type": "code",
   "execution_count": 2,
   "id": "411150cf-37b4-4a50-a0f3-2af527f468c4",
   "metadata": {},
   "outputs": [],
   "source": [
    "class C: pass"
   ]
  },
  {
   "cell_type": "code",
   "execution_count": 3,
   "id": "d705a587-259a-4ace-af7c-588d1f518939",
   "metadata": {},
   "outputs": [],
   "source": [
    "c = C()"
   ]
  },
  {
   "cell_type": "code",
   "execution_count": 4,
   "id": "e73b0176-7b9a-451f-9fea-a6f1a369d0e4",
   "metadata": {},
   "outputs": [
    {
     "data": {
      "text/plain": [
       "'<__main__.C object at 0x0000018FB76FA1A0>'"
      ]
     },
     "execution_count": 4,
     "metadata": {},
     "output_type": "execute_result"
    }
   ],
   "source": [
    "repr(c)"
   ]
  },
  {
   "cell_type": "code",
   "execution_count": 5,
   "id": "68eec45b-41ed-4116-adf3-47b75c50c7e3",
   "metadata": {},
   "outputs": [
    {
     "name": "stdout",
     "output_type": "stream",
     "text": [
      "<__main__.C object at 0x0000018FB76FA1A0>\n"
     ]
    }
   ],
   "source": [
    "print(c)"
   ]
  },
  {
   "cell_type": "code",
   "execution_count": 6,
   "id": "9bac6083-24c3-448f-9d52-a77f0e8e4cf4",
   "metadata": {},
   "outputs": [],
   "source": [
    "r = weakref.ref(c)"
   ]
  },
  {
   "cell_type": "markdown",
   "id": "e13fb5fc-0abe-460e-8ac3-18799d32c4a3",
   "metadata": {
    "tags": []
   },
   "source": [
    "A reference's *referent* is the object it refers to. The `repr` of a `weakref.ref` shows whether its referent is alive or dead. Of course, this may change at any time:"
   ]
  },
  {
   "cell_type": "code",
   "execution_count": 7,
   "id": "f54d2e08-cdef-489a-b39f-1800cd11e441",
   "metadata": {},
   "outputs": [
    {
     "data": {
      "text/plain": [
       "<weakref at 0x0000018FB77267A0; to 'C' at 0x0000018FB76FA1A0>"
      ]
     },
     "execution_count": 7,
     "metadata": {},
     "output_type": "execute_result"
    }
   ],
   "source": [
    "r"
   ]
  },
  {
   "cell_type": "markdown",
   "id": "d7f13d28-a9ed-47a7-8be9-94f888f4f2d0",
   "metadata": {},
   "source": [
    "Call a weak reference to access its referent. If the referent is dead, `None` is returned instead:"
   ]
  },
  {
   "cell_type": "code",
   "execution_count": 8,
   "id": "32267232-9432-4a10-b269-b687e73e68eb",
   "metadata": {},
   "outputs": [
    {
     "name": "stdout",
     "output_type": "stream",
     "text": [
      "<__main__.C object at 0x0000018FB76FA1A0>\n"
     ]
    }
   ],
   "source": [
    "print(r())"
   ]
  },
  {
   "cell_type": "code",
   "execution_count": 9,
   "id": "73229d08-e591-4492-9315-09a8233ed57c",
   "metadata": {},
   "outputs": [
    {
     "data": {
      "text/plain": [
       "True"
      ]
     },
     "execution_count": 9,
     "metadata": {},
     "output_type": "execute_result"
    }
   ],
   "source": [
    "r() is c"
   ]
  },
  {
   "cell_type": "code",
   "execution_count": 10,
   "id": "337bd379-e397-485c-8a08-8c5e633a86b0",
   "metadata": {},
   "outputs": [],
   "source": [
    "del c"
   ]
  },
  {
   "cell_type": "code",
   "execution_count": 11,
   "id": "b6eacd31-6873-437b-994d-648d1d8d76d1",
   "metadata": {},
   "outputs": [
    {
     "name": "stdout",
     "output_type": "stream",
     "text": [
      "None\n"
     ]
    }
   ],
   "source": [
    "print(r())"
   ]
  },
  {
   "cell_type": "markdown",
   "id": "6b57f35e-ca4b-4941-8e92-43f35b76f641",
   "metadata": {},
   "source": [
    "The `None` object itself is not weak-referenceable. One consequence of this is that there is no ambiguity (no semipredicate problem) in the meaning of the object returned by calling a `weakref.ref`:"
   ]
  },
  {
   "cell_type": "code",
   "execution_count": 12,
   "id": "6b3050af-f569-4e6b-b9af-ec551c730234",
   "metadata": {},
   "outputs": [],
   "source": [
    "n = None"
   ]
  },
  {
   "cell_type": "code",
   "execution_count": 13,
   "id": "4608075c-ae64-4835-a7aa-681e4407bbbf",
   "metadata": {},
   "outputs": [],
   "source": [
    "n"
   ]
  },
  {
   "cell_type": "code",
   "execution_count": 14,
   "id": "b37d2f75-4d9c-4e25-80f8-594172c7f404",
   "metadata": {
    "tags": [
     "raises-exception"
    ]
   },
   "outputs": [
    {
     "ename": "TypeError",
     "evalue": "cannot create weak reference to 'NoneType' object",
     "output_type": "error",
     "traceback": [
      "\u001b[1;31m---------------------------------------------------------------------------\u001b[0m",
      "\u001b[1;31mTypeError\u001b[0m                                 Traceback (most recent call last)",
      "Cell \u001b[1;32mIn [14], line 1\u001b[0m\n\u001b[1;32m----> 1\u001b[0m rn \u001b[38;5;241m=\u001b[39m \u001b[43mweakref\u001b[49m\u001b[38;5;241;43m.\u001b[39;49m\u001b[43mref\u001b[49m\u001b[43m(\u001b[49m\u001b[43mn\u001b[49m\u001b[43m)\u001b[49m\n",
      "\u001b[1;31mTypeError\u001b[0m: cannot create weak reference to 'NoneType' object"
     ]
    }
   ],
   "source": [
    "rn = weakref.ref(n)"
   ]
  },
  {
   "cell_type": "markdown",
   "id": "de56a931-c4b4-4f1c-936a-6fc72948ba8d",
   "metadata": {},
   "source": [
    "`int`s are likewise not weak-referenceable:"
   ]
  },
  {
   "cell_type": "code",
   "execution_count": 15,
   "id": "89d706b7-0f23-4be0-8b21-4923cfed9f18",
   "metadata": {
    "tags": [
     "raises-exception"
    ]
   },
   "outputs": [
    {
     "ename": "TypeError",
     "evalue": "cannot create weak reference to 'int' object",
     "output_type": "error",
     "traceback": [
      "\u001b[1;31m---------------------------------------------------------------------------\u001b[0m",
      "\u001b[1;31mTypeError\u001b[0m                                 Traceback (most recent call last)",
      "Cell \u001b[1;32mIn [15], line 1\u001b[0m\n\u001b[1;32m----> 1\u001b[0m rone \u001b[38;5;241m=\u001b[39m \u001b[43mweakref\u001b[49m\u001b[38;5;241;43m.\u001b[39;49m\u001b[43mref\u001b[49m\u001b[43m(\u001b[49m\u001b[38;5;241;43m1\u001b[39;49m\u001b[43m)\u001b[49m\n",
      "\u001b[1;31mTypeError\u001b[0m: cannot create weak reference to 'int' object"
     ]
    }
   ],
   "source": [
    "rone = weakref.ref(1)"
   ]
  },
  {
   "cell_type": "markdown",
   "id": "9a3f3e0e-b546-43ae-8065-773270b1dcc4",
   "metadata": {},
   "source": [
    "## Slotted classes and weak references"
   ]
  },
  {
   "cell_type": "markdown",
   "id": "b59a99bd-5599-4fe3-b92b-9c88fa345e10",
   "metadata": {},
   "source": [
    "Instances of slotted classes are by default (and including in the case of empty slots) not weak-referenceable:"
   ]
  },
  {
   "cell_type": "code",
   "execution_count": 16,
   "id": "0c1c85d3-d7c2-4e6f-9840-2805ef0b8395",
   "metadata": {
    "tags": [
     "raises-exception"
    ]
   },
   "outputs": [],
   "source": [
    "class CSlots: \n",
    "    __slots__ = ()"
   ]
  },
  {
   "cell_type": "code",
   "execution_count": 17,
   "id": "2f5f641f-41fa-4470-825c-1c68182b7fdc",
   "metadata": {
    "tags": [
     "raises-exception"
    ]
   },
   "outputs": [
    {
     "ename": "TypeError",
     "evalue": "cannot create weak reference to 'CSlots' object",
     "output_type": "error",
     "traceback": [
      "\u001b[1;31m---------------------------------------------------------------------------\u001b[0m",
      "\u001b[1;31mTypeError\u001b[0m                                 Traceback (most recent call last)",
      "Cell \u001b[1;32mIn [17], line 1\u001b[0m\n\u001b[1;32m----> 1\u001b[0m \u001b[43mweakref\u001b[49m\u001b[38;5;241;43m.\u001b[39;49m\u001b[43mref\u001b[49m\u001b[43m(\u001b[49m\u001b[43mCSlots\u001b[49m\u001b[43m(\u001b[49m\u001b[43m)\u001b[49m\u001b[43m)\u001b[49m\n",
      "\u001b[1;31mTypeError\u001b[0m: cannot create weak reference to 'CSlots' object"
     ]
    }
   ],
   "source": [
    "weakref.ref(CSlots())"
   ]
  },
  {
   "cell_type": "markdown",
   "id": "53b4b8e3-b3ac-44fa-90f7-a6a6444cd125",
   "metadata": {},
   "source": [
    "As with instance dictionaries, inheriting from a class whose instances are weak-referenceable gives a class whose instances are weak-referenceable regardless of whether the derived cass defines `__slots__` or what it lists in them.\n",
    "\n",
    "However, the ability to be weakly referenced should not be confused with having an instance dictionary. On rare occasion, one may want a slotted class whose instances have instance dictionaries. Instances of such a class are not automatically weak-referenceable:"
   ]
  },
  {
   "cell_type": "code",
   "execution_count": 18,
   "id": "06b9515c-3d30-4e0a-be1b-e0b054f5f8f0",
   "metadata": {},
   "outputs": [],
   "source": [
    "class DSlots: \n",
    "    __slots__ = ('__dict__',)"
   ]
  },
  {
   "cell_type": "code",
   "execution_count": 19,
   "id": "5bbfcff7-bce4-49d9-8b17-8cd87d3ef42e",
   "metadata": {
    "tags": [
     "raises-exception"
    ]
   },
   "outputs": [
    {
     "ename": "TypeError",
     "evalue": "cannot create weak reference to 'DSlots' object",
     "output_type": "error",
     "traceback": [
      "\u001b[1;31m---------------------------------------------------------------------------\u001b[0m",
      "\u001b[1;31mTypeError\u001b[0m                                 Traceback (most recent call last)",
      "Cell \u001b[1;32mIn [19], line 1\u001b[0m\n\u001b[1;32m----> 1\u001b[0m \u001b[43mweakref\u001b[49m\u001b[38;5;241;43m.\u001b[39;49m\u001b[43mref\u001b[49m\u001b[43m(\u001b[49m\u001b[43mDSlots\u001b[49m\u001b[43m(\u001b[49m\u001b[43m)\u001b[49m\u001b[43m)\u001b[49m\n",
      "\u001b[1;31mTypeError\u001b[0m: cannot create weak reference to 'DSlots' object"
     ]
    }
   ],
   "source": [
    "weakref.ref(DSlots())"
   ]
  },
  {
   "cell_type": "code",
   "execution_count": 20,
   "id": "45db5e27-222e-4b6e-9a17-5bc21cd31453",
   "metadata": {},
   "outputs": [
    {
     "data": {
      "text/plain": [
       "{}"
      ]
     },
     "execution_count": 20,
     "metadata": {},
     "output_type": "execute_result"
    }
   ],
   "source": [
    "DSlots().__dict__"
   ]
  },
  {
   "cell_type": "markdown",
   "id": "fff534c1-d795-4620-9618-4d29724e8743",
   "metadata": {},
   "source": [
    "## The `__weakref__` slot"
   ]
  },
  {
   "cell_type": "markdown",
   "id": "f3dcf285-01b0-49ab-a4b9-960ede139ea8",
   "metadata": {},
   "source": [
    "To ensure instances of a class are weak referenceable, instances must have a `__weakref__` slot. This exists automatically if the class is unslotted, as does `__dict__`. If a class is slotted and all its direct and indirect base classes are slotted, then `__weakref__` must be defined to ensure weak-referenceability (and in CPython, in the absence of it, instances are guaranteed *not* to be weakly referenceable):"
   ]
  },
  {
   "cell_type": "code",
   "execution_count": 21,
   "id": "264cd6d9-bf82-44ea-b667-87e22934c2c5",
   "metadata": {},
   "outputs": [],
   "source": [
    "class WRSlots: \n",
    "    __slots__ = ('__weakref__',)"
   ]
  },
  {
   "cell_type": "code",
   "execution_count": 22,
   "id": "4d81a69a-20df-4ddd-a063-d5e7ac9e5855",
   "metadata": {},
   "outputs": [],
   "source": [
    "wr = WRSlots()"
   ]
  },
  {
   "cell_type": "code",
   "execution_count": 23,
   "id": "e17f633f-c0ab-4e43-834b-ad0aaacb7cd8",
   "metadata": {},
   "outputs": [
    {
     "data": {
      "text/plain": [
       "<weakref at 0x0000018FB92CA750; to 'WRSlots' at 0x0000018FB76FB1C0>"
      ]
     },
     "execution_count": 23,
     "metadata": {},
     "output_type": "execute_result"
    }
   ],
   "source": [
    "weakref.ref(wr)"
   ]
  },
  {
   "cell_type": "code",
   "execution_count": 24,
   "id": "ae310a70-cded-4ab5-b551-5b044458d2d8",
   "metadata": {},
   "outputs": [
    {
     "data": {
      "text/plain": [
       "<weakref at 0x0000018FB92CAED0; dead>"
      ]
     },
     "execution_count": 24,
     "metadata": {},
     "output_type": "execute_result"
    }
   ],
   "source": [
    "weakref.ref(WRSlots())"
   ]
  },
  {
   "cell_type": "markdown",
   "id": "f8a92bd3-9032-449a-9dc0-120ec9ee6264",
   "metadata": {},
   "source": [
    "Note that the rules for slot duplication are not relaxed for `__weakref__`. If a base class is slotted and names `__weakref__` in its `__slots__`, then a directly or indirectly derived class *must not* also do so. If it does, then like with any other slot dupliacted from base to derived class, this is undefined behavior."
   ]
  },
  {
   "cell_type": "markdown",
   "id": "14528e9c-000a-45f7-b26d-c189d2ea20ae",
   "metadata": {},
   "source": [
    "## Callbacks"
   ]
  },
  {
   "cell_type": "markdown",
   "id": "a70379e2-dbb3-480e-b050-e1413ff9c890",
   "metadata": {},
   "source": [
    "Weak references can be created with callbacks. Assuming the weak reference itself still exists when the referent dies, the callback is called. The weak reference itself, and *not* the referent, is passed to the callback. The referent is, ideally, already dead and collected by the time the callback runs (though we will see that is not always the case). Whether or not the referent still exists, the weak reference sees it as dead at the time the callback is called. Consequently, weak reference callbacks do not resurrect objects. This is a very nice thing."
   ]
  },
  {
   "cell_type": "code",
   "execution_count": 25,
   "id": "bddd6d09-ff7c-47ce-bb28-d19c8e1f90a6",
   "metadata": {},
   "outputs": [],
   "source": [
    "c2 = C()"
   ]
  },
  {
   "cell_type": "code",
   "execution_count": 26,
   "id": "9b7e364b-6b45-40d9-8b96-a5e35938264e",
   "metadata": {},
   "outputs": [],
   "source": [
    "wr = weakref.ref(c2, lambda x: print(f\"{x}'s referent is dead!\"))"
   ]
  },
  {
   "cell_type": "code",
   "execution_count": 27,
   "id": "7ac90ddb-b304-45b6-88a8-c4fd98eeb60b",
   "metadata": {},
   "outputs": [
    {
     "data": {
      "text/plain": [
       "<weakref at 0x0000018FB929BE20; to 'C' at 0x0000018FB76FBAC0>"
      ]
     },
     "execution_count": 27,
     "metadata": {},
     "output_type": "execute_result"
    }
   ],
   "source": [
    "wr"
   ]
  },
  {
   "cell_type": "code",
   "execution_count": 28,
   "id": "b8b1162b-96d9-4c37-b10f-c113e9f91538",
   "metadata": {},
   "outputs": [
    {
     "name": "stdout",
     "output_type": "stream",
     "text": [
      "<weakref at 0x0000018FB929BE20; dead>'s referent is dead!\n"
     ]
    }
   ],
   "source": [
    "del c2"
   ]
  },
  {
   "cell_type": "markdown",
   "id": "29bf3dd3-539b-4ad7-bd86-8c516444cb11",
   "metadata": {},
   "source": [
    "## Unhandled exceptions in callbacks"
   ]
  },
  {
   "cell_type": "markdown",
   "id": "ddc3af34-d700-403e-b9d0-a30836207a76",
   "metadata": {},
   "source": [
    "An unhandled exception in a callback, or that occurs *in attempting to call the callback*, cannot be caught. It is reported on standard error, in the same way as an unhandled exception in a `__del__` method."
   ]
  },
  {
   "cell_type": "code",
   "execution_count": 29,
   "id": "9fc67ea4-d330-4f10-b1dd-0442cd6a85cc",
   "metadata": {},
   "outputs": [
    {
     "data": {
      "text/plain": [
       "<weakref at 0x0000018FB929BE20; dead>"
      ]
     },
     "execution_count": 29,
     "metadata": {},
     "output_type": "execute_result"
    }
   ],
   "source": [
    "wr"
   ]
  },
  {
   "cell_type": "code",
   "execution_count": 30,
   "id": "6334e586-47be-43d9-a417-2f3cff5b6192",
   "metadata": {},
   "outputs": [
    {
     "name": "stderr",
     "output_type": "stream",
     "text": [
      "Exception ignored in: <function <lambda> at 0x0000018FB92A7910>\n",
      "Traceback (most recent call last):\n",
      "  File \"C:\\Users\\ek\\AppData\\Local\\Temp\\ipykernel_3388\\3704447829.py\", line 1, in <module>\n",
      "TypeError: <lambda>() takes 0 positional arguments but 1 was given\n"
     ]
    }
   ],
   "source": [
    "wr2 = weakref.ref(C(), lambda: print(\"The referent is dead!\"))"
   ]
  },
  {
   "cell_type": "code",
   "execution_count": 31,
   "id": "ac5c6ff2-8715-4315-8111-b59da1a00f76",
   "metadata": {},
   "outputs": [
    {
     "data": {
      "text/plain": [
       "<weakref at 0x0000018FB92CD350; dead>"
      ]
     },
     "execution_count": 31,
     "metadata": {},
     "output_type": "execute_result"
    }
   ],
   "source": [
    "wr2"
   ]
  },
  {
   "cell_type": "markdown",
   "id": "acec5005-a2fa-4eb5-80b5-29fb0488f94d",
   "metadata": {
    "tags": []
   },
   "source": [
    "## Cycles"
   ]
  },
  {
   "cell_type": "markdown",
   "id": "cc81ecac-73b7-4523-b08d-17d12d000b7c",
   "metadata": {},
   "source": [
    "Weak reference callbacks are called when an object dies, even if the object has to be collected by the cyclic garbage collector."
   ]
  },
  {
   "cell_type": "code",
   "execution_count": 32,
   "id": "83c6e32d-0851-468a-a8fe-5baae6f99a34",
   "metadata": {},
   "outputs": [],
   "source": [
    "cycle = C()"
   ]
  },
  {
   "cell_type": "code",
   "execution_count": 33,
   "id": "8e460cf4-255e-4169-87a2-c38a4b94a9d3",
   "metadata": {},
   "outputs": [],
   "source": [
    "cycle.x = cycle"
   ]
  },
  {
   "cell_type": "code",
   "execution_count": 34,
   "id": "f53ea558-aed8-4aa1-b34d-52177883655e",
   "metadata": {},
   "outputs": [],
   "source": [
    "wrcycle = weakref.ref(cycle, lambda x: print(\"Referent (cycle) has died!\"))"
   ]
  },
  {
   "cell_type": "code",
   "execution_count": 35,
   "id": "ad6c6c51-44d0-49a2-9110-95ac0f9ff61a",
   "metadata": {},
   "outputs": [],
   "source": [
    "del cycle"
   ]
  },
  {
   "cell_type": "code",
   "execution_count": 36,
   "id": "174053b2-a1fb-4f6e-9699-516b9cebcc3b",
   "metadata": {},
   "outputs": [
    {
     "name": "stdout",
     "output_type": "stream",
     "text": [
      "Referent (cycle) has died!\n"
     ]
    },
    {
     "data": {
      "text/plain": [
       "1122"
      ]
     },
     "execution_count": 36,
     "metadata": {},
     "output_type": "execute_result"
    }
   ],
   "source": [
    "gc.collect()"
   ]
  },
  {
   "cell_type": "markdown",
   "id": "1629e108-e016-4127-8c65-9ef9cc23d1db",
   "metadata": {},
   "source": [
    "## `weakref.ref` equality comparison"
   ]
  },
  {
   "cell_type": "code",
   "execution_count": 37,
   "id": "be0b46f3-2638-464a-a8a1-371e99c34a67",
   "metadata": {},
   "outputs": [],
   "source": [
    "class Box: \n",
    "    \n",
    "    def __init__(self, value): \n",
    "        self.value = value\n",
    "    \n",
    "    def __repr__(self): \n",
    "        return f'{type(self).__name__}({self.value!r})'\n",
    "    \n",
    "    def __eq__(self, other): \n",
    "        if not isinstance(other, type(self)): \n",
    "            return NotImplemented\n",
    "        return self.value == other.value"
   ]
  },
  {
   "cell_type": "code",
   "execution_count": 38,
   "id": "7c3e5b10-2077-4320-a6f3-2432b588237a",
   "metadata": {},
   "outputs": [],
   "source": [
    "x = Box(1)\n",
    "y = Box(1)"
   ]
  },
  {
   "cell_type": "code",
   "execution_count": 39,
   "id": "04e8640a-7ab5-4932-8109-f7937cdd5c4a",
   "metadata": {},
   "outputs": [
    {
     "data": {
      "text/plain": [
       "True"
      ]
     },
     "execution_count": 39,
     "metadata": {},
     "output_type": "execute_result"
    }
   ],
   "source": [
    "x == y"
   ]
  },
  {
   "cell_type": "code",
   "execution_count": 40,
   "id": "78fc5162-b530-4f7a-81e3-632f7701f4ef",
   "metadata": {},
   "outputs": [
    {
     "name": "stdout",
     "output_type": "stream",
     "text": [
      "Box(1)\n"
     ]
    }
   ],
   "source": [
    "print(x)"
   ]
  },
  {
   "cell_type": "markdown",
   "id": "4796a98d-b803-4b94-8227-dac19329841f",
   "metadata": {},
   "source": [
    "### Calling `weakref.ref` may give an existing weak reference instance"
   ]
  },
  {
   "cell_type": "code",
   "execution_count": 41,
   "id": "b04b77d4-c00a-4680-b9e8-1e3ddc6edf7c",
   "metadata": {},
   "outputs": [],
   "source": [
    "r1 = weakref.ref(x)\n",
    "r2 = weakref.ref(x)"
   ]
  },
  {
   "cell_type": "code",
   "execution_count": 42,
   "id": "0de36ead-2ac1-488f-9a60-9d4ae3ef2c9a",
   "metadata": {},
   "outputs": [
    {
     "data": {
      "text/plain": [
       "True"
      ]
     },
     "execution_count": 42,
     "metadata": {},
     "output_type": "execute_result"
    }
   ],
   "source": [
    "r1 == r2"
   ]
  },
  {
   "cell_type": "code",
   "execution_count": 43,
   "id": "a7ceb604-08e8-413e-9721-ff2f72315654",
   "metadata": {},
   "outputs": [
    {
     "data": {
      "text/plain": [
       "True"
      ]
     },
     "execution_count": 43,
     "metadata": {},
     "output_type": "execute_result"
    }
   ],
   "source": [
    "r1 is r2  # Not guaranteed."
   ]
  },
  {
   "cell_type": "code",
   "execution_count": 44,
   "id": "74388af8-7757-4927-af59-a64c8d532897",
   "metadata": {},
   "outputs": [],
   "source": [
    "r3 = weakref.ref(x, lambda _: print(\"Dead box\"))"
   ]
  },
  {
   "cell_type": "code",
   "execution_count": 45,
   "id": "4fc9bf61-2163-446e-b47a-d7b3c6017f72",
   "metadata": {},
   "outputs": [
    {
     "data": {
      "text/plain": [
       "False"
      ]
     },
     "execution_count": 45,
     "metadata": {},
     "output_type": "execute_result"
    }
   ],
   "source": [
    "r3 is r1  # Guaranteed."
   ]
  },
  {
   "cell_type": "markdown",
   "id": "484f1be1-206c-44f5-8a52-35a5d18596d6",
   "metadata": {},
   "source": [
    "### Equality with live referents"
   ]
  },
  {
   "cell_type": "markdown",
   "id": "44a80597-65e3-481e-b507-f72b732cdaa2",
   "metadata": {},
   "source": [
    "If the referents are both alive and equal to each other, then the weak references to them are equal."
   ]
  },
  {
   "cell_type": "code",
   "execution_count": 46,
   "id": "9413016b-4c52-4f28-86bd-02cd67e24843",
   "metadata": {},
   "outputs": [
    {
     "data": {
      "text/plain": [
       "True"
      ]
     },
     "execution_count": 46,
     "metadata": {},
     "output_type": "execute_result"
    }
   ],
   "source": [
    "r3 == r1"
   ]
  },
  {
   "cell_type": "code",
   "execution_count": 47,
   "id": "67bac55e-9d17-4c71-b500-2f282503958f",
   "metadata": {},
   "outputs": [],
   "source": [
    "s = weakref.ref(y)"
   ]
  },
  {
   "cell_type": "code",
   "execution_count": 48,
   "id": "fade95de-78fa-43ab-bf2a-d59977760f60",
   "metadata": {},
   "outputs": [
    {
     "data": {
      "text/plain": [
       "True"
      ]
     },
     "execution_count": 48,
     "metadata": {},
     "output_type": "execute_result"
    }
   ],
   "source": [
    "r1 == s  # Weak references compare equal when their referents compare equal. "
   ]
  },
  {
   "cell_type": "markdown",
   "id": "0b83e1d1-c444-4af2-b51e-2af8d8175299",
   "metadata": {},
   "source": [
    "Note that, because `_Box` instances are mutable and non-hashable, `weakref.ref`s to them are likewise unhashable."
   ]
  },
  {
   "cell_type": "code",
   "execution_count": 49,
   "id": "d2c8b7d8-86f4-4a6a-af89-faa1e59e17f1",
   "metadata": {
    "tags": [
     "raises-exception"
    ]
   },
   "outputs": [
    {
     "ename": "TypeError",
     "evalue": "unhashable type: 'Box'",
     "output_type": "error",
     "traceback": [
      "\u001b[1;31m---------------------------------------------------------------------------\u001b[0m",
      "\u001b[1;31mTypeError\u001b[0m                                 Traceback (most recent call last)",
      "Cell \u001b[1;32mIn [49], line 1\u001b[0m\n\u001b[1;32m----> 1\u001b[0m \u001b[38;5;28;43mhash\u001b[39;49m\u001b[43m(\u001b[49m\u001b[43ms\u001b[49m\u001b[43m)\u001b[49m\n",
      "\u001b[1;31mTypeError\u001b[0m: unhashable type: 'Box'"
     ]
    }
   ],
   "source": [
    "hash(s)"
   ]
  },
  {
   "cell_type": "markdown",
   "id": "98e49c87-8ddb-417d-ab18-21121ca9d252",
   "metadata": {},
   "source": [
    "When referents stop being equal because of a change in state, weak refernces to them likewise stop being equal:"
   ]
  },
  {
   "cell_type": "code",
   "execution_count": 50,
   "id": "b664d8f9-54f9-4177-83af-4201dd352857",
   "metadata": {},
   "outputs": [],
   "source": [
    "z = Box(1)"
   ]
  },
  {
   "cell_type": "code",
   "execution_count": 51,
   "id": "5294da92-7818-43da-8fb5-6b5c910a9bf1",
   "metadata": {},
   "outputs": [],
   "source": [
    "t = weakref.ref(z)"
   ]
  },
  {
   "cell_type": "code",
   "execution_count": 52,
   "id": "27aa73bc-4179-4204-8ec3-65df1642d175",
   "metadata": {},
   "outputs": [
    {
     "data": {
      "text/plain": [
       "True"
      ]
     },
     "execution_count": 52,
     "metadata": {},
     "output_type": "execute_result"
    }
   ],
   "source": [
    "r1 == s == t"
   ]
  },
  {
   "cell_type": "code",
   "execution_count": 53,
   "id": "2ca9508b-3f4d-45ce-bab2-01b7f1561872",
   "metadata": {},
   "outputs": [],
   "source": [
    "z.value = 2"
   ]
  },
  {
   "cell_type": "code",
   "execution_count": 54,
   "id": "c517fe53-a717-43d1-8ac0-d1e97e1271da",
   "metadata": {},
   "outputs": [
    {
     "name": "stdout",
     "output_type": "stream",
     "text": [
      "Box(2)\n"
     ]
    }
   ],
   "source": [
    "print(z)"
   ]
  },
  {
   "cell_type": "code",
   "execution_count": 55,
   "id": "20b6e358-53b0-42c8-9ad7-7532119c5a5c",
   "metadata": {},
   "outputs": [
    {
     "data": {
      "text/plain": [
       "False"
      ]
     },
     "execution_count": 55,
     "metadata": {},
     "output_type": "execute_result"
    }
   ],
   "source": [
    "s == t"
   ]
  },
  {
   "cell_type": "markdown",
   "id": "226c834a-6c48-471c-b6a9-384c103f9750",
   "metadata": {},
   "source": [
    "### Equality with dead referents"
   ]
  },
  {
   "cell_type": "markdown",
   "id": "14f60bc1-e207-40db-ad00-fe0210e0cced",
   "metadata": {},
   "source": [
    "If the referents are dead, then weak references to them are only equal if they are the same `weakref.ref` object. Even separate `weakref.ref` objects that refer to the *same* referent become unequal when the referent dies."
   ]
  },
  {
   "cell_type": "code",
   "execution_count": 56,
   "id": "7de7ceaa-a9d8-497d-9e71-346e1e4e34ac",
   "metadata": {},
   "outputs": [
    {
     "name": "stdout",
     "output_type": "stream",
     "text": [
      "Dead box\n"
     ]
    }
   ],
   "source": [
    "del x"
   ]
  },
  {
   "cell_type": "code",
   "execution_count": 57,
   "id": "7e900b28-1d5a-4207-ae4d-9b4f02803737",
   "metadata": {},
   "outputs": [
    {
     "data": {
      "text/plain": [
       "True"
      ]
     },
     "execution_count": 57,
     "metadata": {},
     "output_type": "execute_result"
    }
   ],
   "source": [
    "r1 == r2"
   ]
  },
  {
   "cell_type": "code",
   "execution_count": 58,
   "id": "c9525e38-bb55-4388-88b7-42a2828a620f",
   "metadata": {},
   "outputs": [
    {
     "data": {
      "text/plain": [
       "True"
      ]
     },
     "execution_count": 58,
     "metadata": {},
     "output_type": "execute_result"
    }
   ],
   "source": [
    "r1 is r2  # Because they are the same weak reference... which was NOT guaranteed!"
   ]
  },
  {
   "cell_type": "code",
   "execution_count": 59,
   "id": "0ac95b03-e561-45d1-bfd2-ee3d5b032ae1",
   "metadata": {},
   "outputs": [
    {
     "data": {
      "text/plain": [
       "False"
      ]
     },
     "execution_count": 59,
     "metadata": {},
     "output_type": "execute_result"
    }
   ],
   "source": [
    "r1 == r3  # Different weak references to the same dead referent."
   ]
  },
  {
   "cell_type": "markdown",
   "id": "aa5f4ec3-cb83-4531-89b2-5f04b529744f",
   "metadata": {},
   "source": [
    "### Weak references to live objects can *become* equal"
   ]
  },
  {
   "cell_type": "code",
   "execution_count": 60,
   "id": "f8d29686-60b8-48a7-8edf-df180ac2e873",
   "metadata": {},
   "outputs": [
    {
     "name": "stdout",
     "output_type": "stream",
     "text": [
      "Box(1)\n"
     ]
    }
   ],
   "source": [
    "print(y)"
   ]
  },
  {
   "cell_type": "code",
   "execution_count": 61,
   "id": "d3cf96a8-8e20-4482-ab0c-ac7ff63acd75",
   "metadata": {},
   "outputs": [
    {
     "name": "stdout",
     "output_type": "stream",
     "text": [
      "Box(2)\n"
     ]
    }
   ],
   "source": [
    "print(z)"
   ]
  },
  {
   "cell_type": "code",
   "execution_count": 62,
   "id": "010ad5da-84bd-4bfc-b882-68ede1d7059a",
   "metadata": {},
   "outputs": [
    {
     "data": {
      "text/plain": [
       "False"
      ]
     },
     "execution_count": 62,
     "metadata": {},
     "output_type": "execute_result"
    }
   ],
   "source": [
    "s == t"
   ]
  },
  {
   "cell_type": "code",
   "execution_count": 63,
   "id": "3e47dd91-0267-450e-984b-1ce0b76fef06",
   "metadata": {},
   "outputs": [],
   "source": [
    "z.value = 1"
   ]
  },
  {
   "cell_type": "code",
   "execution_count": 64,
   "id": "3937870d-53c4-48ef-90bf-0d78ea3cd856",
   "metadata": {},
   "outputs": [
    {
     "data": {
      "text/plain": [
       "True"
      ]
     },
     "execution_count": 64,
     "metadata": {},
     "output_type": "execute_result"
    }
   ],
   "source": [
    "s == t"
   ]
  },
  {
   "cell_type": "markdown",
   "id": "176f2d6e-1af1-4574-a247-494cd725f25f",
   "metadata": {},
   "source": [
    "### Weak references to dead objects can become equal to themselves\n",
    "\n",
    "This happens in the pathological case of NaN-like objects that are not equal to themselves."
   ]
  },
  {
   "cell_type": "code",
   "execution_count": 65,
   "id": "c5f41bd1-16a3-4f86-85b2-19af996cb20a",
   "metadata": {},
   "outputs": [],
   "source": [
    "import math"
   ]
  },
  {
   "cell_type": "code",
   "execution_count": 66,
   "id": "3eb260c0-1cb9-4369-8e34-67dbe7d1912e",
   "metadata": {},
   "outputs": [],
   "source": [
    "nbox = Box(math.nan)"
   ]
  },
  {
   "cell_type": "code",
   "execution_count": 67,
   "id": "39dc19db-735a-4fd2-b98b-afb888e047c1",
   "metadata": {},
   "outputs": [
    {
     "data": {
      "text/plain": [
       "False"
      ]
     },
     "execution_count": 67,
     "metadata": {},
     "output_type": "execute_result"
    }
   ],
   "source": [
    "nbox == nbox"
   ]
  },
  {
   "cell_type": "code",
   "execution_count": 68,
   "id": "ecc0ce70-ac59-4dee-a6a1-ef7126ce501d",
   "metadata": {},
   "outputs": [],
   "source": [
    "nbref = weakref.ref(nbox)"
   ]
  },
  {
   "cell_type": "code",
   "execution_count": 69,
   "id": "d20f12df-c0dc-4acf-a4da-c2d042c5c38f",
   "metadata": {},
   "outputs": [
    {
     "data": {
      "text/plain": [
       "False"
      ]
     },
     "execution_count": 69,
     "metadata": {},
     "output_type": "execute_result"
    }
   ],
   "source": [
    "nbref == nbref"
   ]
  },
  {
   "cell_type": "code",
   "execution_count": 70,
   "id": "3068a99b-b417-4962-a858-d0d0167f35c8",
   "metadata": {},
   "outputs": [],
   "source": [
    "del nbox"
   ]
  },
  {
   "cell_type": "code",
   "execution_count": 71,
   "id": "07c2e9fe-0ee3-45e9-b853-15ea6efe8f05",
   "metadata": {},
   "outputs": [
    {
     "data": {
      "text/plain": [
       "True"
      ]
     },
     "execution_count": 71,
     "metadata": {},
     "output_type": "execute_result"
    }
   ],
   "source": [
    "nbref == nbref"
   ]
  },
  {
   "cell_type": "markdown",
   "id": "f284b900-f212-446b-ac0e-5031a421236c",
   "metadata": {},
   "source": [
    "## `weakref.ref` hashing"
   ]
  },
  {
   "cell_type": "code",
   "execution_count": 72,
   "id": "74da01fd-3d92-4c23-a60f-7b29d8d22a5f",
   "metadata": {},
   "outputs": [],
   "source": [
    "class LockBox: \n",
    "    \n",
    "    def __init__(self, value): \n",
    "        self._value = value\n",
    "    \n",
    "    def __repr__(self): \n",
    "        return f'{type(self).__name__}({self.value!r})'\n",
    "    \n",
    "    def __eq__(self, other): \n",
    "        if not isinstance(other, type(self)): \n",
    "            return NotImplemented\n",
    "        return self.value == other.value\n",
    "\n",
    "    def __hash__(self): \n",
    "        return hash(self.value)\n",
    "\n",
    "    @property\n",
    "    def value(self): \n",
    "        return self._value"
   ]
  },
  {
   "cell_type": "code",
   "execution_count": 73,
   "id": "b0ba58f6-b9fe-4d41-8c38-8ce8a11c7f5b",
   "metadata": {},
   "outputs": [],
   "source": [
    "lb = LockBox(1)"
   ]
  },
  {
   "cell_type": "code",
   "execution_count": 74,
   "id": "e6615bdb-bfeb-40d3-89e2-f183a244eb0a",
   "metadata": {},
   "outputs": [
    {
     "name": "stdout",
     "output_type": "stream",
     "text": [
      "LockBox(1)\n"
     ]
    }
   ],
   "source": [
    "print(lb)"
   ]
  },
  {
   "cell_type": "code",
   "execution_count": 75,
   "id": "aa361e70-cac7-42d0-8f16-961e410b32e6",
   "metadata": {},
   "outputs": [],
   "source": [
    "g = weakref.ref(lb)"
   ]
  },
  {
   "cell_type": "code",
   "execution_count": 76,
   "id": "d613e97a-6f55-469f-b526-34bc35554edb",
   "metadata": {},
   "outputs": [
    {
     "data": {
      "text/plain": [
       "1"
      ]
     },
     "execution_count": 76,
     "metadata": {},
     "output_type": "execute_result"
    }
   ],
   "source": [
    "hash(g)"
   ]
  },
  {
   "cell_type": "code",
   "execution_count": 77,
   "id": "af922d03-4439-485f-a147-a4146333164d",
   "metadata": {},
   "outputs": [],
   "source": [
    "del lb"
   ]
  },
  {
   "cell_type": "code",
   "execution_count": 78,
   "id": "aa26f8c9-2f5b-43f2-81ce-8073c205c10b",
   "metadata": {},
   "outputs": [
    {
     "data": {
      "text/plain": [
       "<weakref at 0x0000018FB9226C00; dead>"
      ]
     },
     "execution_count": 78,
     "metadata": {},
     "output_type": "execute_result"
    }
   ],
   "source": [
    "g"
   ]
  },
  {
   "cell_type": "markdown",
   "id": "51c73192-62f0-4146-a3fa-4b18b95d99d3",
   "metadata": {},
   "source": [
    "The `weakref.ref` object cached the hash code and continues to return it:"
   ]
  },
  {
   "cell_type": "code",
   "execution_count": 79,
   "id": "ceaa1ac2-16f5-4758-bd2e-871db7550315",
   "metadata": {},
   "outputs": [
    {
     "data": {
      "text/plain": [
       "1"
      ]
     },
     "execution_count": 79,
     "metadata": {},
     "output_type": "execute_result"
    }
   ],
   "source": [
    "hash(g)"
   ]
  },
  {
   "cell_type": "markdown",
   "id": "138d37e3-356e-4b69-8d1b-a2a136e3e107",
   "metadata": {},
   "source": [
    "Of course, that doesn't work if the hash code was never computed through the weak reference during the object's lifetime:"
   ]
  },
  {
   "cell_type": "code",
   "execution_count": 80,
   "id": "c97f8247-25e5-48e3-999b-f93c9cbc4a3a",
   "metadata": {},
   "outputs": [],
   "source": [
    "lb2 = LockBox(2)"
   ]
  },
  {
   "cell_type": "code",
   "execution_count": 81,
   "id": "6140eaef-66cb-4bc6-baf7-ac96fc471ca2",
   "metadata": {},
   "outputs": [],
   "source": [
    "h = weakref.ref(lb2)"
   ]
  },
  {
   "cell_type": "code",
   "execution_count": 82,
   "id": "3735a446-6142-4d1f-be03-2242f9565124",
   "metadata": {},
   "outputs": [],
   "source": [
    "del lb2"
   ]
  },
  {
   "cell_type": "code",
   "execution_count": 83,
   "id": "f8b0abf1-e94d-4f2f-9846-00746fabe905",
   "metadata": {
    "tags": [
     "raises-exception"
    ]
   },
   "outputs": [
    {
     "ename": "TypeError",
     "evalue": "weak object has gone away",
     "output_type": "error",
     "traceback": [
      "\u001b[1;31m---------------------------------------------------------------------------\u001b[0m",
      "\u001b[1;31mTypeError\u001b[0m                                 Traceback (most recent call last)",
      "Cell \u001b[1;32mIn [83], line 1\u001b[0m\n\u001b[1;32m----> 1\u001b[0m \u001b[38;5;28;43mhash\u001b[39;49m\u001b[43m(\u001b[49m\u001b[43mh\u001b[49m\u001b[43m)\u001b[49m\n",
      "\u001b[1;31mTypeError\u001b[0m: weak object has gone away"
     ]
    }
   ],
   "source": [
    "hash(h)"
   ]
  },
  {
   "cell_type": "markdown",
   "id": "fd6670a1-9014-42e4-880c-f0fca111f47d",
   "metadata": {},
   "source": [
    "## Weak reference callbacks and `__del__` methods"
   ]
  },
  {
   "cell_type": "code",
   "execution_count": 84,
   "id": "f3066cc1-e862-492d-ab1a-fcdd84338845",
   "metadata": {},
   "outputs": [],
   "source": [
    "class SithHolocron: \n",
    "    def __init__(self, value): \n",
    "        self.value = value\n",
    "    \n",
    "    def __repr__(self): \n",
    "        return f'{type(self).__name__}({self.value!r})'\n",
    "    \n",
    "    def __eq__(self, other): \n",
    "        if not isinstance(other, type(self)): \n",
    "            return NotImplemented\n",
    "        return self.value == other.value\n",
    "    \n",
    "    def __del__(self): \n",
    "        print(f\"I see you are attempting to destroy {self!r}!\")"
   ]
  },
  {
   "cell_type": "markdown",
   "id": "2950da4e-f960-41d6-93a5-748d44991234",
   "metadata": {},
   "source": [
    "### Without cycles"
   ]
  },
  {
   "cell_type": "markdown",
   "id": "09cf48f2-f909-4c66-94c2-6743666f4302",
   "metadata": {},
   "source": [
    "Normally, the `__del__` method is called before the weak reference callback:"
   ]
  },
  {
   "cell_type": "code",
   "execution_count": 85,
   "id": "62b40202-4ef1-41fe-a5c4-3dd5071a63ff",
   "metadata": {},
   "outputs": [],
   "source": [
    "sh = SithHolocron('ancient sith secrets')"
   ]
  },
  {
   "cell_type": "code",
   "execution_count": 86,
   "id": "064725c1-8343-4bf9-99e7-790d40bf0753",
   "metadata": {},
   "outputs": [],
   "source": [
    "sithweak = weakref.ref(sh, lambda x: print(f\"{x!r}: Holocron destroyed!\"))"
   ]
  },
  {
   "cell_type": "code",
   "execution_count": 87,
   "id": "05218683-64c8-4f53-8574-849bf138f8c9",
   "metadata": {},
   "outputs": [
    {
     "name": "stdout",
     "output_type": "stream",
     "text": [
      "I see you are attempting to destroy SithHolocron('ancient sith secrets')!\n",
      "<weakref at 0x0000018FB884A110; dead>: Holocron destroyed!\n"
     ]
    }
   ],
   "source": [
    "del sh"
   ]
  },
  {
   "cell_type": "markdown",
   "id": "32b3794b-1ad9-42a3-a7de-a80c4eaa7f3f",
   "metadata": {},
   "source": [
    "This makes sense, since, ideally, the `__del__` method is called just before the object is destroyed, while, ideally, the weak reference callback is called just after the object is destroyed."
   ]
  },
  {
   "cell_type": "markdown",
   "id": "d31fe5b7-45e8-43fe-a61a-275c7731a8a6",
   "metadata": {},
   "source": [
    "### With cycles"
   ]
  },
  {
   "cell_type": "markdown",
   "id": "b7a38c1f-50f3-4837-a43f-06a1f3864ce5",
   "metadata": {},
   "source": [
    "The above behavior is not guaranteed, and in practice, varies by implementation in the presence of cycles.\n",
    "\n",
    "In *CPython*, the behavior demonstrated here is guaranteed."
   ]
  },
  {
   "cell_type": "code",
   "execution_count": 88,
   "id": "607f5921-1b78-4a69-adcd-1bbe57f5d523",
   "metadata": {},
   "outputs": [],
   "source": [
    "sh2 = SithHolocron('modern sith secrets')"
   ]
  },
  {
   "cell_type": "code",
   "execution_count": 89,
   "id": "9a72d809-dd3c-4d19-ad08-cdbabdfea41b",
   "metadata": {},
   "outputs": [],
   "source": [
    "sh2.backup = sh2"
   ]
  },
  {
   "cell_type": "code",
   "execution_count": 90,
   "id": "9a78655d-9213-4f4a-af32-bb877a1d8e05",
   "metadata": {},
   "outputs": [],
   "source": [
    "modernsithweak = weakref.ref(sh2, lambda x: print(f\"{x!r}: Holocron destroyed!\"))"
   ]
  },
  {
   "cell_type": "code",
   "execution_count": 91,
   "id": "27fa00fd-d156-430c-8edd-61ea75fcee9c",
   "metadata": {},
   "outputs": [],
   "source": [
    "del sh2"
   ]
  },
  {
   "cell_type": "code",
   "execution_count": 92,
   "id": "ae145ee7-21db-4303-9ce1-25cc8b4a903f",
   "metadata": {},
   "outputs": [
    {
     "name": "stdout",
     "output_type": "stream",
     "text": [
      "<weakref at 0x0000018FB92BBEC0; dead>: Holocron destroyed!\n",
      "I see you are attempting to destroy SithHolocron('modern sith secrets')!\n"
     ]
    },
    {
     "data": {
      "text/plain": [
       "960"
      ]
     },
     "execution_count": 92,
     "metadata": {},
     "output_type": "execute_result"
    }
   ],
   "source": [
    "gc.collect()  # 'dead' means not reachable"
   ]
  },
  {
   "cell_type": "markdown",
   "id": "7eb54ec9-26ec-4706-af7d-65262833370e",
   "metadata": {},
   "source": [
    "Unintuitively, the weak refernece callback was called before the `__del__` method! This is because CPython's cyclic garbage collector sees to it that weak references are invalidated, and their callbacks call, before it proceeds to run finalizer methods (`__del__` methods)."
   ]
  },
  {
   "cell_type": "markdown",
   "id": "1fd677b2-c061-4df2-8b75-a2d613352383",
   "metadata": {},
   "source": [
    "## Weak reference callbacks and `__del__` methods: Resurrection"
   ]
  },
  {
   "cell_type": "code",
   "execution_count": 93,
   "id": "3271c1bc-9229-44f5-a4c3-926922a30e7f",
   "metadata": {},
   "outputs": [],
   "source": [
    "ringsofpower = []"
   ]
  },
  {
   "cell_type": "code",
   "execution_count": 94,
   "id": "c8e3fd3c-8a3c-4119-82a6-163d555f553d",
   "metadata": {},
   "outputs": [],
   "source": [
    "class RingOfPower: \n",
    "    def __init__(self, value): \n",
    "        self.value = value\n",
    "    \n",
    "    def __repr__(self): \n",
    "        return f'{type(self).__name__}({self.value!r})'\n",
    "    \n",
    "    def __eq__(self, other): \n",
    "        if not isinstance(other, type(self)): \n",
    "            return NotImplemented\n",
    "        return self.value == other.value\n",
    "    \n",
    "    def __del__(self): \n",
    "        print(f\"I see you are attempting to destroy {self!r}!\")\n",
    "        ringsofpower.append(self)        "
   ]
  },
  {
   "cell_type": "markdown",
   "id": "f25a4fb0-3774-4b04-9388-6610bb499c30",
   "metadata": {},
   "source": [
    "### Without cycles"
   ]
  },
  {
   "cell_type": "code",
   "execution_count": 95,
   "id": "71942c11-e0c7-4687-a511-bfaddafdf18e",
   "metadata": {},
   "outputs": [],
   "source": [
    "onering = RingOfPower('one ring to rule them all ...')"
   ]
  },
  {
   "cell_type": "code",
   "execution_count": 96,
   "id": "ecec3047-36ae-4fb6-9c40-39a78fd27d7d",
   "metadata": {},
   "outputs": [],
   "source": [
    "weakring = weakref.ref(onering, lambda x: print(f\"{x!r} has casted the ring into the fire!\"))"
   ]
  },
  {
   "cell_type": "code",
   "execution_count": 97,
   "id": "2a29fd2a-ec4a-4557-a1ba-6eb7e36623f3",
   "metadata": {},
   "outputs": [
    {
     "name": "stdout",
     "output_type": "stream",
     "text": [
      "I see you are attempting to destroy RingOfPower('one ring to rule them all ...')!\n"
     ]
    }
   ],
   "source": [
    "del onering"
   ]
  },
  {
   "cell_type": "code",
   "execution_count": 98,
   "id": "8e7f8475-74a6-4ca6-817c-e31d44fcb0da",
   "metadata": {},
   "outputs": [
    {
     "data": {
      "text/plain": [
       "<weakref at 0x0000018FB92B95D0; to 'RingOfPower' at 0x0000018FB881E5F0>"
      ]
     },
     "execution_count": 98,
     "metadata": {},
     "output_type": "execute_result"
    }
   ],
   "source": [
    "weakring"
   ]
  },
  {
   "cell_type": "code",
   "execution_count": 99,
   "id": "760082f9-8029-4e9b-829e-31567d3b816b",
   "metadata": {},
   "outputs": [
    {
     "name": "stdout",
     "output_type": "stream",
     "text": [
      "[RingOfPower('one ring to rule them all ...')]\n"
     ]
    }
   ],
   "source": [
    "print(ringsofpower)"
   ]
  },
  {
   "cell_type": "code",
   "execution_count": 100,
   "id": "475b5b76-3f17-4700-81d4-5e6b97160716",
   "metadata": {},
   "outputs": [
    {
     "name": "stdout",
     "output_type": "stream",
     "text": [
      "<weakref at 0x0000018FB92B95D0; dead> has casted the ring into the fire!\n"
     ]
    }
   ],
   "source": [
    "ringsofpower.clear()"
   ]
  },
  {
   "cell_type": "markdown",
   "id": "56c88df8-9cd5-4cae-966a-2352a6188464",
   "metadata": {},
   "source": [
    "### With cycles"
   ]
  },
  {
   "cell_type": "code",
   "execution_count": 101,
   "id": "82cdb992-7928-451b-b007-5feb78a2d22e",
   "metadata": {},
   "outputs": [],
   "source": [
    "wkring = RingOfPower(\"The Witch King's ring\")"
   ]
  },
  {
   "cell_type": "code",
   "execution_count": 102,
   "id": "39f2d630-cb18-47bf-8e6f-c926f2c8d45c",
   "metadata": {},
   "outputs": [],
   "source": [
    "wkring.backup = wkring "
   ]
  },
  {
   "cell_type": "code",
   "execution_count": 103,
   "id": "9882e04f-2c3b-4145-af52-a2a648e74df0",
   "metadata": {},
   "outputs": [],
   "source": [
    "wkref = weakref.ref(wkring, lambda x: print(f\"{x!r} (not a man) has killed the Witch King.\"))"
   ]
  },
  {
   "cell_type": "code",
   "execution_count": 104,
   "id": "9f1535de-d490-40bb-b23a-6417a2045643",
   "metadata": {},
   "outputs": [],
   "source": [
    "del wkring"
   ]
  },
  {
   "cell_type": "code",
   "execution_count": 105,
   "id": "31851fe3-a4fc-43cb-a27d-0002190a99f4",
   "metadata": {},
   "outputs": [
    {
     "name": "stdout",
     "output_type": "stream",
     "text": [
      "<weakref at 0x0000018FB7726CF0; dead> (not a man) has killed the Witch King.\n",
      "I see you are attempting to destroy RingOfPower(\"The Witch King's ring\")!\n"
     ]
    },
    {
     "data": {
      "text/plain": [
       "0"
      ]
     },
     "execution_count": 105,
     "metadata": {},
     "output_type": "execute_result"
    }
   ],
   "source": [
    "gc.collect()"
   ]
  },
  {
   "cell_type": "code",
   "execution_count": 106,
   "id": "a20d588b-84f8-42db-a331-86cf471acc59",
   "metadata": {},
   "outputs": [
    {
     "name": "stdout",
     "output_type": "stream",
     "text": [
      "[RingOfPower(\"The Witch King's ring\")]\n"
     ]
    }
   ],
   "source": [
    "print(ringsofpower)  # BUT WE KILLED HIM!!! (Don't resurrect objects)"
   ]
  },
  {
   "cell_type": "markdown",
   "id": "8daa4ba8-7f8b-4449-ab19-bd1eb8590734",
   "metadata": {},
   "source": [
    "## Lifetime of weak references"
   ]
  },
  {
   "cell_type": "markdown",
   "id": "9a6b0dfb-6b42-4dcf-b450-ce90bf2839a2",
   "metadata": {},
   "source": [
    "If you delete the weak reference before you delete the referent, the callback will not be called:"
   ]
  },
  {
   "cell_type": "code",
   "execution_count": 107,
   "id": "9c965d17-d9db-4e67-951a-3d5da9658f43",
   "metadata": {},
   "outputs": [],
   "source": [
    "nlb = LockBox('The budget surplus')"
   ]
  },
  {
   "cell_type": "code",
   "execution_count": 108,
   "id": "be6283e4-7470-4ab3-a32f-587519faea79",
   "metadata": {},
   "outputs": [],
   "source": [
    "lbwref = weakref.ref(nlb, lambda _: print(\"There goes the lockbox\"))"
   ]
  },
  {
   "cell_type": "code",
   "execution_count": 109,
   "id": "8f662409-5c9d-4ac9-a4d8-6ad89a8e30c2",
   "metadata": {},
   "outputs": [
    {
     "name": "stdout",
     "output_type": "stream",
     "text": [
      "There goes the lockbox\n"
     ]
    }
   ],
   "source": [
    "del nlb"
   ]
  },
  {
   "cell_type": "code",
   "execution_count": 110,
   "id": "96c9fd25-caab-408c-bf7f-98b9baaaf786",
   "metadata": {},
   "outputs": [],
   "source": [
    "nlb2 = LockBox('The budget deficit')"
   ]
  },
  {
   "cell_type": "code",
   "execution_count": 111,
   "id": "d9e6f6bf-9054-45cd-b7a8-a25702b5ec61",
   "metadata": {},
   "outputs": [],
   "source": [
    "lb2wref = weakref.ref(nlb2, lambda _: print(\"There goes the lockbox!\"))"
   ]
  },
  {
   "cell_type": "code",
   "execution_count": 112,
   "id": "ab0b0a03-8c49-4526-80ce-f67e3984ed97",
   "metadata": {},
   "outputs": [],
   "source": [
    "del lb2wref"
   ]
  },
  {
   "cell_type": "code",
   "execution_count": 113,
   "id": "7d7b0382-7294-449f-8263-da679f2009c8",
   "metadata": {},
   "outputs": [],
   "source": [
    "del nlb2"
   ]
  },
  {
   "cell_type": "markdown",
   "id": "7132b888-bcc4-48d1-9006-bce1bc62aa54",
   "metadata": {},
   "source": [
    "This motivates weakref finalizers."
   ]
  },
  {
   "cell_type": "markdown",
   "id": "2b032e20-5be7-4cc5-b6c1-0e412332a86f",
   "metadata": {},
   "source": [
    "## Weak reference finalizers"
   ]
  },
  {
   "cell_type": "markdown",
   "id": "1beabef7-01b7-47b2-afc4-b459846d144d",
   "metadata": {},
   "source": [
    "The lifetime of a weak referenece finalizer is tied to that of the referent. When using weakref finalizers, we don't directly get access to a weak reference object. But whether the finalizer object is strongly reachable or not, the finalizer ensures it remains alive as long as its referent, so the function passed when constructing the finalizer will be reliably called when the referent dies."
   ]
  },
  {
   "cell_type": "code",
   "execution_count": 114,
   "id": "87baee3d-6ac7-4045-a90f-85d656712081",
   "metadata": {},
   "outputs": [],
   "source": [
    "bigbox = Box('BIG!')"
   ]
  },
  {
   "cell_type": "code",
   "execution_count": 115,
   "id": "fa35ffe4-9d09-4440-a50c-b142c3fc5a47",
   "metadata": {},
   "outputs": [],
   "source": [
    "bigboxfin = weakref.finalize(bigbox, lambda: print(\"Destroyed a big box.\"))"
   ]
  },
  {
   "cell_type": "code",
   "execution_count": 116,
   "id": "421ba3cb-550b-4eda-8bc9-2580282bcf50",
   "metadata": {},
   "outputs": [],
   "source": [
    "del bigboxfin"
   ]
  },
  {
   "cell_type": "code",
   "execution_count": 117,
   "id": "b9a06c2d-59b2-463d-bc1f-9ea9fd73f850",
   "metadata": {},
   "outputs": [
    {
     "name": "stdout",
     "output_type": "stream",
     "text": [
      "Destroyed a big box.\n"
     ]
    }
   ],
   "source": [
    "del bigbox"
   ]
  },
  {
   "cell_type": "markdown",
   "id": "5369b58d-7289-4037-92ba-394a1dd695c4",
   "metadata": {},
   "source": [
    "### Weakref finalizer arguments"
   ]
  },
  {
   "cell_type": "markdown",
   "id": "4d99d978-b1b5-4dce-8c2f-dc97318ffcd7",
   "metadata": {},
   "source": [
    "Unlike a weak reference callback, no weak reference object is automatically passed to the function registered with a finalizer. Instead, whatever positional and/or keyword arguments are passed to `weakref.finalize` after the function are stored, and they are passed to the function:"
   ]
  },
  {
   "cell_type": "code",
   "execution_count": 118,
   "id": "ca141c5d-71e3-43e8-b54d-90828a7c6854",
   "metadata": {},
   "outputs": [],
   "source": [
    "lockbox = LockBox('Hidden costs')"
   ]
  },
  {
   "cell_type": "code",
   "execution_count": 119,
   "id": "22b0c9bd-ac57-4ca4-b292-2df3bbb12147",
   "metadata": {},
   "outputs": [],
   "source": [
    "lockboxfin = weakref.finalize(lockbox, lambda x: print(f'There were... {x}.'), lockbox.value)"
   ]
  },
  {
   "cell_type": "code",
   "execution_count": 120,
   "id": "d6ba4759-7808-4144-971a-c96d7552e3ae",
   "metadata": {},
   "outputs": [
    {
     "name": "stdout",
     "output_type": "stream",
     "text": [
      "There were... Hidden costs.\n"
     ]
    }
   ],
   "source": [
    "del lockbox"
   ]
  },
  {
   "cell_type": "markdown",
   "id": "cd5dd388-456a-40c8-aec3-66377accd449",
   "metadata": {},
   "source": [
    "### Beware: you can leak the finalizer and referent"
   ]
  },
  {
   "cell_type": "markdown",
   "id": "73ad2e3a-16bf-4918-8b0d-633487228d05",
   "metadata": {},
   "source": [
    "If a weakref finalizer holds a strong reference to the object it is supposed to \"finalize\", then the object can never be collected. This leaks the object (and the finalizer):"
   ]
  },
  {
   "cell_type": "code",
   "execution_count": 121,
   "id": "5b7d9b20-4cd5-4f7a-a888-817481ac3346",
   "metadata": {},
   "outputs": [],
   "source": [
    "lockbox2 = LockBox('Big hidden costs.')"
   ]
  },
  {
   "cell_type": "code",
   "execution_count": 122,
   "id": "884dbc2a-ba34-4e27-9103-55839fbe02bd",
   "metadata": {},
   "outputs": [],
   "source": [
    "lockbox2fin = weakref.finalize(lockbox2, lambda x: print(f'There were... {x.value}.'), lockbox2)"
   ]
  },
  {
   "cell_type": "code",
   "execution_count": 123,
   "id": "9f5a9013-fd1e-434d-858f-40cb3828a5eb",
   "metadata": {},
   "outputs": [],
   "source": [
    "del lockbox2, lockbox2fin"
   ]
  },
  {
   "cell_type": "markdown",
   "id": "fa09f1df-576c-4903-a14d-c3bd3bb28ce6",
   "metadata": {},
   "source": [
    "Note that, even if the function we register has no parameters, and we pass no arguments to `weakref.finalize` after it, we can still write this kind of bug, if the function we pass *captures* a variable that refers to the object."
   ]
  },
  {
   "cell_type": "markdown",
   "id": "445baad2-6cc0-46d6-9e4b-0a9b5740e752",
   "metadata": {},
   "source": [
    "### What `weakref.finalize` returns"
   ]
  },
  {
   "cell_type": "markdown",
   "id": "c62c2547-4ebc-4ec6-883d-64e04ca3e725",
   "metadata": {},
   "source": [
    "It has a useful `repr`, giving information like that of `weakref.ref`."
   ]
  },
  {
   "cell_type": "code",
   "execution_count": 124,
   "id": "802a4862-b696-4848-99b5-7a14e5aad9ed",
   "metadata": {},
   "outputs": [],
   "source": [
    "ccube = Box('heart')"
   ]
  },
  {
   "cell_type": "code",
   "execution_count": 125,
   "id": "44174814-8987-4b9f-9e06-83d58b77768c",
   "metadata": {},
   "outputs": [],
   "source": [
    "ccubefin = weakref.finalize(ccube, lambda: print(\"DON'T TOSS ME IN THERE!\"))"
   ]
  },
  {
   "cell_type": "code",
   "execution_count": 126,
   "id": "87d747cc-65d4-48f5-9484-d7bd428b8acc",
   "metadata": {},
   "outputs": [
    {
     "data": {
      "text/plain": [
       "<finalize object at 0x18fb9166da0; for 'Box' at 0x18fb897cc40>"
      ]
     },
     "execution_count": 126,
     "metadata": {},
     "output_type": "execute_result"
    }
   ],
   "source": [
    "ccubefin"
   ]
  },
  {
   "cell_type": "code",
   "execution_count": 127,
   "id": "c061023c-9ed7-41fb-9a6f-442d3655fa86",
   "metadata": {},
   "outputs": [
    {
     "name": "stdout",
     "output_type": "stream",
     "text": [
      "DON'T TOSS ME IN THERE!\n"
     ]
    }
   ],
   "source": [
    "del ccube"
   ]
  },
  {
   "cell_type": "code",
   "execution_count": 128,
   "id": "ddc08483-4d4a-4388-867c-09f5ca29d295",
   "metadata": {},
   "outputs": [
    {
     "data": {
      "text/plain": [
       "<finalize object at 0x18fb9166da0; dead>"
      ]
     },
     "execution_count": 128,
     "metadata": {},
     "output_type": "execute_result"
    }
   ],
   "source": [
    "ccubefin"
   ]
  },
  {
   "cell_type": "markdown",
   "id": "749dacb9-f6f9-4ec1-ba29-df5a41ede107",
   "metadata": {},
   "source": [
    "### Using the finalizer object `weakref.finalize` returns"
   ]
  },
  {
   "cell_type": "code",
   "execution_count": 129,
   "id": "406dad98-8d42-4e8e-bd21-3db6fc4ed43d",
   "metadata": {},
   "outputs": [],
   "source": [
    "bcube = Box('blue')"
   ]
  },
  {
   "cell_type": "code",
   "execution_count": 130,
   "id": "8265aff6-7665-4833-a86f-1a7a1b7b6c93",
   "metadata": {},
   "outputs": [],
   "source": [
    "bcubefin = weakref.finalize(bcube, lambda: print(\"Blue cube vaporized!\"))"
   ]
  },
  {
   "cell_type": "code",
   "execution_count": 131,
   "id": "f9d5077e-3197-4737-880c-eb511c639bfd",
   "metadata": {},
   "outputs": [
    {
     "data": {
      "text/plain": [
       "['_Info',\n",
       " '__call__',\n",
       " '__class__',\n",
       " '__delattr__',\n",
       " '__dir__',\n",
       " '__doc__',\n",
       " '__eq__',\n",
       " '__format__',\n",
       " '__ge__',\n",
       " '__getattribute__',\n",
       " '__gt__',\n",
       " '__hash__',\n",
       " '__init__',\n",
       " '__init_subclass__',\n",
       " '__le__',\n",
       " '__lt__',\n",
       " '__module__',\n",
       " '__ne__',\n",
       " '__new__',\n",
       " '__reduce__',\n",
       " '__reduce_ex__',\n",
       " '__repr__',\n",
       " '__setattr__',\n",
       " '__sizeof__',\n",
       " '__slots__',\n",
       " '__str__',\n",
       " '__subclasshook__',\n",
       " '_dirty',\n",
       " '_exitfunc',\n",
       " '_index_iter',\n",
       " '_registered_with_atexit',\n",
       " '_registry',\n",
       " '_select_for_exit',\n",
       " '_shutdown',\n",
       " 'alive',\n",
       " 'atexit',\n",
       " 'detach',\n",
       " 'peek']"
      ]
     },
     "execution_count": 131,
     "metadata": {},
     "output_type": "execute_result"
    }
   ],
   "source": [
    "dir(bcubefin)"
   ]
  },
  {
   "cell_type": "code",
   "execution_count": 132,
   "id": "83944488-a639-4aa2-8868-89691b60ce85",
   "metadata": {},
   "outputs": [
    {
     "name": "stdout",
     "output_type": "stream",
     "text": [
      "Blue cube vaporized!\n"
     ]
    }
   ],
   "source": [
    "bcubefin()"
   ]
  },
  {
   "cell_type": "code",
   "execution_count": 133,
   "id": "eb0c28d1-58f3-42f0-8931-9b583ea20a8b",
   "metadata": {},
   "outputs": [
    {
     "data": {
      "text/plain": [
       "<finalize object at 0x18fb92a90c0; dead>"
      ]
     },
     "execution_count": 133,
     "metadata": {},
     "output_type": "execute_result"
    }
   ],
   "source": [
    "bcubefin"
   ]
  },
  {
   "cell_type": "code",
   "execution_count": 134,
   "id": "2bd1af39-76ef-4c83-b8a2-18818a2316ce",
   "metadata": {},
   "outputs": [
    {
     "name": "stdout",
     "output_type": "stream",
     "text": [
      "Box('blue')\n"
     ]
    }
   ],
   "source": [
    "print(bcube)"
   ]
  },
  {
   "cell_type": "code",
   "execution_count": 135,
   "id": "c3c8b7f1-fedd-499a-906a-5a0c769aea70",
   "metadata": {},
   "outputs": [],
   "source": [
    "tup = (bcube,)"
   ]
  },
  {
   "cell_type": "code",
   "execution_count": 136,
   "id": "7661c7c9-57d0-4f7a-a8af-2a43599c2744",
   "metadata": {
    "tags": [
     "raises-exception"
    ]
   },
   "outputs": [
    {
     "ename": "TypeError",
     "evalue": "'tuple' object doesn't support item deletion",
     "output_type": "error",
     "traceback": [
      "\u001b[1;31m---------------------------------------------------------------------------\u001b[0m",
      "\u001b[1;31mTypeError\u001b[0m                                 Traceback (most recent call last)",
      "Cell \u001b[1;32mIn [136], line 1\u001b[0m\n\u001b[1;32m----> 1\u001b[0m \u001b[38;5;28;01mdel\u001b[39;00m tup[\u001b[38;5;241m0\u001b[39m]\n",
      "\u001b[1;31mTypeError\u001b[0m: 'tuple' object doesn't support item deletion"
     ]
    }
   ],
   "source": [
    "del tup[0]"
   ]
  },
  {
   "cell_type": "markdown",
   "id": "49cf5ced-bac0-4746-88a6-aa0d1691f6ff",
   "metadata": {},
   "source": [
    "## Using `weakref.finalize` to explore `itertools.tee`"
   ]
  },
  {
   "cell_type": "markdown",
   "id": "49065794-d9d4-4f5b-9e7b-19b8346ec4a1",
   "metadata": {},
   "source": [
    "This is the `itertools.tee` element lifetime exercise from `gencomp3.ipynb`, but with weak reference finalizers instead of `__del__`."
   ]
  },
  {
   "cell_type": "code",
   "execution_count": 137,
   "id": "7bdb670e-36b2-41b8-8051-53dc8a0e8cf8",
   "metadata": {},
   "outputs": [],
   "source": [
    "import itertools"
   ]
  },
  {
   "cell_type": "code",
   "execution_count": 138,
   "id": "a5d0e197-bfcd-47aa-bbe1-8a79af7f25c0",
   "metadata": {},
   "outputs": [],
   "source": [
    "def boxgen(): \n",
    "    for x in range(200): \n",
    "        box = Box(x) \n",
    "        weakref.finalize(box, lambda value: print(f\"#{value} is being finalized\"), box.value)\n",
    "        yield box"
   ]
  },
  {
   "cell_type": "code",
   "execution_count": 139,
   "id": "662999ac-ec6a-4c6b-8046-a67570ee01c3",
   "metadata": {},
   "outputs": [],
   "source": [
    "x, y = itertools.tee(boxgen())"
   ]
  },
  {
   "cell_type": "code",
   "execution_count": 140,
   "id": "29a85971-c374-47aa-9ceb-7027ea8a4e8b",
   "metadata": {},
   "outputs": [],
   "source": [
    "for _ in range(100): \n",
    "    b = next(y).value"
   ]
  },
  {
   "cell_type": "code",
   "execution_count": 141,
   "id": "1b894938-8dac-477a-90cc-27e692694f45",
   "metadata": {},
   "outputs": [],
   "source": [
    "for _ in range(50): \n",
    "    c = next(x).value"
   ]
  },
  {
   "cell_type": "code",
   "execution_count": 142,
   "id": "8057684e-5a2c-4d7d-8d8b-d3d117bff98e",
   "metadata": {},
   "outputs": [
    {
     "name": "stdout",
     "output_type": "stream",
     "text": [
      "#0 is being finalized\n",
      "#1 is being finalized\n",
      "#2 is being finalized\n",
      "#3 is being finalized\n",
      "#4 is being finalized\n",
      "#5 is being finalized\n",
      "#6 is being finalized\n",
      "#7 is being finalized\n",
      "#8 is being finalized\n",
      "#9 is being finalized\n",
      "#10 is being finalized\n",
      "#11 is being finalized\n",
      "#12 is being finalized\n",
      "#13 is being finalized\n",
      "#14 is being finalized\n",
      "#15 is being finalized\n",
      "#16 is being finalized\n",
      "#17 is being finalized\n",
      "#18 is being finalized\n",
      "#19 is being finalized\n",
      "#20 is being finalized\n",
      "#21 is being finalized\n",
      "#22 is being finalized\n",
      "#23 is being finalized\n",
      "#24 is being finalized\n",
      "#25 is being finalized\n",
      "#26 is being finalized\n",
      "#27 is being finalized\n",
      "#28 is being finalized\n",
      "#29 is being finalized\n",
      "#30 is being finalized\n",
      "#31 is being finalized\n",
      "#32 is being finalized\n",
      "#33 is being finalized\n",
      "#34 is being finalized\n",
      "#35 is being finalized\n",
      "#36 is being finalized\n",
      "#37 is being finalized\n",
      "#38 is being finalized\n",
      "#39 is being finalized\n",
      "#40 is being finalized\n",
      "#41 is being finalized\n",
      "#42 is being finalized\n",
      "#43 is being finalized\n",
      "#44 is being finalized\n",
      "#45 is being finalized\n",
      "#46 is being finalized\n",
      "#47 is being finalized\n",
      "#48 is being finalized\n",
      "#49 is being finalized\n",
      "#50 is being finalized\n",
      "#51 is being finalized\n",
      "#52 is being finalized\n",
      "#53 is being finalized\n",
      "#54 is being finalized\n",
      "#55 is being finalized\n",
      "#56 is being finalized\n"
     ]
    }
   ],
   "source": [
    "for _ in range(50): \n",
    "    c = next(x).value"
   ]
  },
  {
   "cell_type": "code",
   "execution_count": 143,
   "id": "56447291-a26c-41eb-91df-f88aecdfa49a",
   "metadata": {},
   "outputs": [
    {
     "name": "stdout",
     "output_type": "stream",
     "text": [
      "#57 is being finalized\n",
      "#58 is being finalized\n",
      "#59 is being finalized\n",
      "#60 is being finalized\n",
      "#61 is being finalized\n",
      "#62 is being finalized\n",
      "#63 is being finalized\n",
      "#64 is being finalized\n",
      "#65 is being finalized\n",
      "#66 is being finalized\n",
      "#67 is being finalized\n",
      "#68 is being finalized\n",
      "#69 is being finalized\n",
      "#70 is being finalized\n",
      "#71 is being finalized\n",
      "#72 is being finalized\n",
      "#73 is being finalized\n",
      "#74 is being finalized\n",
      "#75 is being finalized\n",
      "#76 is being finalized\n",
      "#77 is being finalized\n",
      "#78 is being finalized\n",
      "#79 is being finalized\n",
      "#80 is being finalized\n",
      "#81 is being finalized\n",
      "#82 is being finalized\n",
      "#83 is being finalized\n",
      "#84 is being finalized\n",
      "#85 is being finalized\n",
      "#86 is being finalized\n",
      "#87 is being finalized\n",
      "#88 is being finalized\n",
      "#89 is being finalized\n",
      "#90 is being finalized\n",
      "#91 is being finalized\n",
      "#92 is being finalized\n",
      "#93 is being finalized\n",
      "#94 is being finalized\n",
      "#95 is being finalized\n",
      "#96 is being finalized\n",
      "#97 is being finalized\n",
      "#98 is being finalized\n",
      "#99 is being finalized\n"
     ]
    }
   ],
   "source": [
    "del x, y"
   ]
  },
  {
   "cell_type": "markdown",
   "id": "ffcaaf68-c6c9-4a1e-a169-02c97c1a3294",
   "metadata": {},
   "source": [
    "## Weak sets"
   ]
  },
  {
   "cell_type": "markdown",
   "id": "f0456980-b430-4c33-84f6-8ea47e738d8b",
   "metadata": {},
   "source": [
    "A weak set is a \"set\" that doesn't keep its elements alive. Behind the scenes, it holds them with weak references."
   ]
  },
  {
   "cell_type": "code",
   "execution_count": 144,
   "id": "0e548cd7-510d-47bb-a4cc-e0fc49c4055d",
   "metadata": {},
   "outputs": [],
   "source": [
    "s = {LockBox(10), LockBox(20)}"
   ]
  },
  {
   "cell_type": "code",
   "execution_count": 145,
   "id": "ba821462-c749-4975-b8eb-2fce2e09e988",
   "metadata": {},
   "outputs": [
    {
     "data": {
      "text/plain": [
       "{LockBox(10), LockBox(20)}"
      ]
     },
     "execution_count": 145,
     "metadata": {},
     "output_type": "execute_result"
    }
   ],
   "source": [
    "s"
   ]
  },
  {
   "cell_type": "code",
   "execution_count": 146,
   "id": "821d1092-1ff5-4a5f-82db-d1b3d0ee22c7",
   "metadata": {},
   "outputs": [],
   "source": [
    "ws = weakref.WeakSet((LockBox(10), LockBox(20)))"
   ]
  },
  {
   "cell_type": "code",
   "execution_count": 147,
   "id": "26216929-8ee7-4718-b7ee-f39aa2b278f7",
   "metadata": {},
   "outputs": [
    {
     "data": {
      "text/plain": [
       "set()"
      ]
     },
     "execution_count": 147,
     "metadata": {},
     "output_type": "execute_result"
    }
   ],
   "source": [
    "ws"
   ]
  },
  {
   "cell_type": "code",
   "execution_count": 148,
   "id": "f1564bea-8e18-4006-a07a-88eb0c89e739",
   "metadata": {},
   "outputs": [
    {
     "data": {
      "text/plain": [
       "'set()'"
      ]
     },
     "execution_count": 148,
     "metadata": {},
     "output_type": "execute_result"
    }
   ],
   "source": [
    "repr(ws)"
   ]
  },
  {
   "cell_type": "code",
   "execution_count": 149,
   "id": "5b0b0af2-d680-46de-a849-981100cabe44",
   "metadata": {},
   "outputs": [],
   "source": [
    "supplies = {good: LockBox(good) for good in ('eggs', 'wheat', 'steel', 'clothes', 'iron')}"
   ]
  },
  {
   "cell_type": "code",
   "execution_count": 150,
   "id": "e809c9d9-c49d-4093-bdfd-f50a09676208",
   "metadata": {},
   "outputs": [
    {
     "data": {
      "text/plain": [
       "{'eggs': LockBox('eggs'),\n",
       " 'wheat': LockBox('wheat'),\n",
       " 'steel': LockBox('steel'),\n",
       " 'clothes': LockBox('clothes'),\n",
       " 'iron': LockBox('iron')}"
      ]
     },
     "execution_count": 150,
     "metadata": {},
     "output_type": "execute_result"
    }
   ],
   "source": [
    "supplies"
   ]
  },
  {
   "cell_type": "code",
   "execution_count": 151,
   "id": "88447ae5-02c8-4a2e-8416-ddce744f3033",
   "metadata": {},
   "outputs": [],
   "source": [
    "tax_exempt = {supplies['steel'], supplies['iron']}"
   ]
  },
  {
   "cell_type": "code",
   "execution_count": 152,
   "id": "ad6a9ba7-316b-422e-85e6-65d6d50f30bb",
   "metadata": {},
   "outputs": [],
   "source": [
    "del supplies['steel']"
   ]
  },
  {
   "cell_type": "code",
   "execution_count": 153,
   "id": "f076fd04-2828-4266-9c3c-2b8d7b440f36",
   "metadata": {},
   "outputs": [
    {
     "data": {
      "text/plain": [
       "{'eggs': LockBox('eggs'),\n",
       " 'wheat': LockBox('wheat'),\n",
       " 'clothes': LockBox('clothes'),\n",
       " 'iron': LockBox('iron')}"
      ]
     },
     "execution_count": 153,
     "metadata": {},
     "output_type": "execute_result"
    }
   ],
   "source": [
    "supplies"
   ]
  },
  {
   "cell_type": "code",
   "execution_count": 154,
   "id": "0464794f-1352-46c9-9aa8-a6f346da2177",
   "metadata": {},
   "outputs": [
    {
     "data": {
      "text/plain": [
       "{LockBox('iron'), LockBox('steel')}"
      ]
     },
     "execution_count": 154,
     "metadata": {},
     "output_type": "execute_result"
    }
   ],
   "source": [
    "tax_exempt"
   ]
  },
  {
   "cell_type": "code",
   "execution_count": 155,
   "id": "22e5a56d-4964-42f7-a452-c63e0022075d",
   "metadata": {},
   "outputs": [],
   "source": [
    "consumer_goods = weakref.WeakSet((supplies['eggs'], supplies['wheat'], supplies['clothes']))"
   ]
  },
  {
   "cell_type": "code",
   "execution_count": 156,
   "id": "871ba732-be35-45d0-9e78-f3c17145b977",
   "metadata": {},
   "outputs": [
    {
     "data": {
      "text/plain": [
       "{<weakref at 0x0000018FB930C450; to 'LockBox' at 0x0000018FB8840D60>, <weakref at 0x0000018FB930C540; to 'LockBox' at 0x0000018FB8842620>, <weakref at 0x0000018FB930C400; to 'LockBox' at 0x0000018FB8842E60>}"
      ]
     },
     "execution_count": 156,
     "metadata": {},
     "output_type": "execute_result"
    }
   ],
   "source": [
    "consumer_goods"
   ]
  },
  {
   "cell_type": "code",
   "execution_count": 157,
   "id": "a52fa1fd-b908-4bcb-a8bb-5eff63575482",
   "metadata": {},
   "outputs": [],
   "source": [
    "del supplies['eggs']"
   ]
  },
  {
   "cell_type": "code",
   "execution_count": 158,
   "id": "a7f755f1-e8e5-4009-ad8a-5fe42b5bf11a",
   "metadata": {},
   "outputs": [
    {
     "data": {
      "text/plain": [
       "{<weakref at 0x0000018FB930C450; to 'LockBox' at 0x0000018FB8840D60>, <weakref at 0x0000018FB930C400; to 'LockBox' at 0x0000018FB8842E60>}"
      ]
     },
     "execution_count": 158,
     "metadata": {},
     "output_type": "execute_result"
    }
   ],
   "source": [
    "consumer_goods"
   ]
  },
  {
   "cell_type": "code",
   "execution_count": 159,
   "id": "a600bf05-9f76-4900-9072-676c9b094132",
   "metadata": {},
   "outputs": [
    {
     "data": {
      "text/plain": [
       "\"{LockBox('wheat'), LockBox('clothes')}\""
      ]
     },
     "execution_count": 159,
     "metadata": {},
     "output_type": "execute_result"
    }
   ],
   "source": [
    "repr(set(consumer_goods))"
   ]
  },
  {
   "cell_type": "code",
   "execution_count": 160,
   "id": "5366739d-7474-4b8f-a0a3-c589f8accec8",
   "metadata": {},
   "outputs": [],
   "source": [
    "del supplies['clothes']"
   ]
  },
  {
   "cell_type": "code",
   "execution_count": 161,
   "id": "9848e461-3808-428f-889a-f9ca7a3f8cf4",
   "metadata": {},
   "outputs": [
    {
     "data": {
      "text/plain": [
       "\"{LockBox('wheat')}\""
      ]
     },
     "execution_count": 161,
     "metadata": {},
     "output_type": "execute_result"
    }
   ],
   "source": [
    "repr(set(consumer_goods))"
   ]
  },
  {
   "cell_type": "markdown",
   "id": "85dce118-9a6a-4681-8470-82ff470183ec",
   "metadata": {},
   "source": [
    "Weak sets (and other weak collections) use weak reference callbacks to removed weak references to elements after the elements have died."
   ]
  },
  {
   "cell_type": "markdown",
   "id": "a4a452d6-a5a3-42d4-9a87-f7f54bb065dc",
   "metadata": {},
   "source": [
    "## Weak-key dictionaries"
   ]
  },
  {
   "cell_type": "code",
   "execution_count": 162,
   "id": "244b8c66-7a80-48fa-bf71-ff10ed5ad9bb",
   "metadata": {},
   "outputs": [],
   "source": [
    "meq = {unit: LockBox(unit) for unit in ('tanks', 'aircraft', 'guns', 'ships')}"
   ]
  },
  {
   "cell_type": "markdown",
   "id": "73922710-4cc3-4bca-819a-58eb5f456684",
   "metadata": {},
   "source": [
    "If we don't need `meq`, then of course we don't have to bother with this. Non-contrived situations where it is reasonable to do this are when the keys are not necessarily lightweight objects that we reasonably pass around copies of."
   ]
  },
  {
   "cell_type": "code",
   "execution_count": 163,
   "id": "293c3ab8-c8cc-4905-991f-bfbbe75b243b",
   "metadata": {},
   "outputs": [],
   "source": [
    "usakit = weakref.WeakKeyDictionary({meq['tanks']: 'M4 Sherman', meq['aircraft']: 'P51 Mustang', meq['guns']: 'M1 Garand', meq['ships']: 'Liberty Ships'})"
   ]
  },
  {
   "cell_type": "code",
   "execution_count": 164,
   "id": "ee07acfb-f11e-4c4f-a253-009b14231502",
   "metadata": {},
   "outputs": [
    {
     "data": {
      "text/plain": [
       "<WeakKeyDictionary at 0x18fb8878460>"
      ]
     },
     "execution_count": 164,
     "metadata": {},
     "output_type": "execute_result"
    }
   ],
   "source": [
    "usakit"
   ]
  },
  {
   "cell_type": "code",
   "execution_count": 165,
   "id": "8d5f35fe-8089-4eb2-be3b-f542d42fdac8",
   "metadata": {},
   "outputs": [
    {
     "data": {
      "text/plain": [
       "\"{LockBox('tanks'): 'M4 Sherman', LockBox('aircraft'): 'P51 Mustang', LockBox('guns'): 'M1 Garand', LockBox('ships'): 'Liberty Ships'}\""
      ]
     },
     "execution_count": 165,
     "metadata": {},
     "output_type": "execute_result"
    }
   ],
   "source": [
    "repr(dict(usakit))"
   ]
  },
  {
   "cell_type": "code",
   "execution_count": 166,
   "id": "965c5394-1e11-4a16-9ec7-c48d89073654",
   "metadata": {},
   "outputs": [],
   "source": [
    "del meq['tanks']"
   ]
  },
  {
   "cell_type": "code",
   "execution_count": 167,
   "id": "32817391-93d1-476b-9d85-5c8c0a96eff6",
   "metadata": {},
   "outputs": [
    {
     "data": {
      "text/plain": [
       "\"{LockBox('aircraft'): 'P51 Mustang', LockBox('guns'): 'M1 Garand', LockBox('ships'): 'Liberty Ships'}\""
      ]
     },
     "execution_count": 167,
     "metadata": {},
     "output_type": "execute_result"
    }
   ],
   "source": [
    "repr(dict(usakit))"
   ]
  },
  {
   "cell_type": "markdown",
   "id": "7bc97c83-feba-4b17-8157-35699ad69992",
   "metadata": {},
   "source": [
    "An example of `WeakKeyDictionary` in this project is `test_context._AttributeSpy`, which uses `_attribute_spy_histories`.\n",
    "\n",
    "Another way to achieve the goal there would be to define `__del__` in `_AttributeSpy` and have it remove an entry from `_attribute_spy_histories` and have `_attribute_spy_histories` just be a `dict`. But that has the problems of `__del__`.\n",
    "\n",
    "We can think of a `WeakSet` as a specialized collection that we can consider using, in some cases, instead of a `WeakKeyDictionary`. A `WeakSet` stores answers to yes-no questions; a `WeakKeyDictionary` stories any kind of answer."
   ]
  },
  {
   "cell_type": "markdown",
   "id": "dbfb59fa-b9e4-4e5e-ac09-1f12fc916a2b",
   "metadata": {},
   "source": [
    "## Weak-value dictionaries"
   ]
  },
  {
   "cell_type": "code",
   "execution_count": 168,
   "id": "b085da22-1e9e-4067-8b66-d70a4e5d6187",
   "metadata": {},
   "outputs": [],
   "source": [
    "weakvaltest = weakref.WeakValueDictionary({1: Box(1)})"
   ]
  },
  {
   "cell_type": "code",
   "execution_count": 169,
   "id": "96e240e0-0dc5-495c-afc7-4d046a00ef09",
   "metadata": {},
   "outputs": [
    {
     "data": {
      "text/plain": [
       "<WeakValueDictionary at 0x18fb88781f0>"
      ]
     },
     "execution_count": 169,
     "metadata": {},
     "output_type": "execute_result"
    }
   ],
   "source": [
    "weakvaltest"
   ]
  },
  {
   "cell_type": "code",
   "execution_count": 170,
   "id": "61a45e1e-2138-44ac-bb40-3cc20463a732",
   "metadata": {},
   "outputs": [
    {
     "data": {
      "text/plain": [
       "'{}'"
      ]
     },
     "execution_count": 170,
     "metadata": {},
     "output_type": "execute_result"
    }
   ],
   "source": [
    "repr(dict(weakvaltest))"
   ]
  },
  {
   "cell_type": "code",
   "execution_count": 171,
   "id": "b2490cce-5a2a-4f86-a0bf-9acaece041c6",
   "metadata": {},
   "outputs": [],
   "source": [
    "ussrkit = {model: LockBox(model) for model in ('T-34', 'IL-2', 'PPSH', 'red-october')}"
   ]
  },
  {
   "cell_type": "code",
   "execution_count": 172,
   "id": "d35d8ad4-98c2-4c9d-a45f-e0ee22504e74",
   "metadata": {},
   "outputs": [],
   "source": [
    "ww2kit = weakref.WeakValueDictionary({'tank': ussrkit['T-34'], 'CAS': ussrkit['IL-2'], 'submgun': ussrkit['PPSH'], 'sub': ussrkit['red-october']})"
   ]
  },
  {
   "cell_type": "code",
   "execution_count": 173,
   "id": "6395e505-086d-45fe-90c0-2c9bc4df9e7e",
   "metadata": {},
   "outputs": [],
   "source": [
    "import pprint"
   ]
  },
  {
   "cell_type": "code",
   "execution_count": 174,
   "id": "2e9ac343-910c-46e8-b404-fc746603b39c",
   "metadata": {},
   "outputs": [
    {
     "name": "stdout",
     "output_type": "stream",
     "text": [
      "{'T-34': LockBox('T-34'),\n",
      " 'IL-2': LockBox('IL-2'),\n",
      " 'PPSH': LockBox('PPSH'),\n",
      " 'red-october': LockBox('red-october')}\n"
     ]
    }
   ],
   "source": [
    "pprint.pp(ussrkit)"
   ]
  },
  {
   "cell_type": "code",
   "execution_count": 175,
   "id": "e02dfe37-019e-44ec-a67f-c8c5e0f43de4",
   "metadata": {},
   "outputs": [
    {
     "name": "stdout",
     "output_type": "stream",
     "text": [
      "{'tank': LockBox('T-34'),\n",
      " 'CAS': LockBox('IL-2'),\n",
      " 'submgun': LockBox('PPSH'),\n",
      " 'sub': LockBox('red-october')}\n"
     ]
    }
   ],
   "source": [
    "pprint.pp(dict(ww2kit))"
   ]
  },
  {
   "cell_type": "code",
   "execution_count": 176,
   "id": "6455a338-9ef9-428a-b009-3143cb42478e",
   "metadata": {},
   "outputs": [],
   "source": [
    "del ussrkit['red-october']"
   ]
  },
  {
   "cell_type": "code",
   "execution_count": 177,
   "id": "7e8085ad-f707-4c52-80de-ea8494497a42",
   "metadata": {},
   "outputs": [
    {
     "name": "stdout",
     "output_type": "stream",
     "text": [
      "{'tank': LockBox('T-34'), 'CAS': LockBox('IL-2'), 'submgun': LockBox('PPSH')}\n"
     ]
    }
   ],
   "source": [
    "pprint.pp(dict(ww2kit))"
   ]
  },
  {
   "cell_type": "markdown",
   "id": "b7b9d659-886e-4cf0-b852-927e76e08f23",
   "metadata": {},
   "source": [
    "Weak-value dictionaries are often used for caching."
   ]
  },
  {
   "cell_type": "markdown",
   "id": "ae2c0bd2-53bd-40ad-bdf9-c20a710c6149",
   "metadata": {},
   "source": [
    "### `WeakValueDictionary` holds its keys strongly"
   ]
  },
  {
   "cell_type": "markdown",
   "id": "76e0a66c-d88b-4490-b2fc-41e5aa7a209d",
   "metadata": {},
   "source": [
    "Another example, related to the above code, is to make a weak inverse of a (strong) dictionary, where A -> B keeps the A objects alive (and the B ones), but going from B -> A does not keep the A objects alive, so removing an entry from the A -> B mapping removes the corresponding entry from the B -> A mapping:"
   ]
  },
  {
   "cell_type": "code",
   "execution_count": 178,
   "id": "39c66b5e-2bbc-49ed-a606-30711c632989",
   "metadata": {},
   "outputs": [],
   "source": [
    "ab = {LockBox('a1'): LockBox('b1'), LockBox('a2'): LockBox('b2'), LockBox('a3'): LockBox('b3')}"
   ]
  },
  {
   "cell_type": "code",
   "execution_count": 179,
   "id": "53a051cc-e3cc-484d-9950-06e41a8f17dd",
   "metadata": {},
   "outputs": [
    {
     "name": "stdout",
     "output_type": "stream",
     "text": [
      "{LockBox('a1'): LockBox('b1'),\n",
      " LockBox('a2'): LockBox('b2'),\n",
      " LockBox('a3'): LockBox('b3')}\n"
     ]
    }
   ],
   "source": [
    "pprint.pp(ab)"
   ]
  },
  {
   "cell_type": "code",
   "execution_count": 180,
   "id": "a01c701b-0967-4eee-a68a-b557e0074b14",
   "metadata": {},
   "outputs": [],
   "source": [
    "ba = weakref.WeakValueDictionary({b: a for a, b in ab.items()})"
   ]
  },
  {
   "cell_type": "code",
   "execution_count": 181,
   "id": "3c3ba96a-9d7c-4f42-9172-ffd895d63f50",
   "metadata": {},
   "outputs": [
    {
     "name": "stdout",
     "output_type": "stream",
     "text": [
      "{LockBox('b1'): LockBox('a1'),\n",
      " LockBox('b2'): LockBox('a2'),\n",
      " LockBox('b3'): LockBox('a3')}\n"
     ]
    }
   ],
   "source": [
    "pprint.pp(dict(ba))"
   ]
  },
  {
   "cell_type": "code",
   "execution_count": 182,
   "id": "f01844b9-b275-44a9-bb92-19751263c92a",
   "metadata": {},
   "outputs": [
    {
     "data": {
      "text/plain": [
       "\"LockBox('a2')\""
      ]
     },
     "execution_count": 182,
     "metadata": {},
     "output_type": "execute_result"
    }
   ],
   "source": [
    "a2 = ba[LockBox('b2')]  # Hold the reference.\n",
    "repr(a2)"
   ]
  },
  {
   "cell_type": "code",
   "execution_count": 183,
   "id": "16d96b55-5ed0-409b-90a7-45ed911bf910",
   "metadata": {},
   "outputs": [],
   "source": [
    "del ab[LockBox('a1')]"
   ]
  },
  {
   "cell_type": "code",
   "execution_count": 184,
   "id": "779d3327-c7ba-43dc-9fb1-b3a74a353de4",
   "metadata": {},
   "outputs": [
    {
     "name": "stdout",
     "output_type": "stream",
     "text": [
      "{LockBox('a2'): LockBox('b2'), LockBox('a3'): LockBox('b3')}\n"
     ]
    }
   ],
   "source": [
    "pprint.pp(ab)"
   ]
  },
  {
   "cell_type": "code",
   "execution_count": 185,
   "id": "60786d6b-4c82-4134-bbaf-36d6b783a27c",
   "metadata": {},
   "outputs": [
    {
     "name": "stdout",
     "output_type": "stream",
     "text": [
      "{LockBox('b2'): LockBox('a2'), LockBox('b3'): LockBox('a3')}\n"
     ]
    }
   ],
   "source": [
    "pprint.pp(dict(ba))"
   ]
  },
  {
   "cell_type": "code",
   "execution_count": 186,
   "id": "99498112-ff9e-459b-a860-8b1937312737",
   "metadata": {},
   "outputs": [
    {
     "data": {
      "text/plain": [
       "\"LockBox('b3')\""
      ]
     },
     "execution_count": 186,
     "metadata": {},
     "output_type": "execute_result"
    }
   ],
   "source": [
    "b3 = ab[LockBox('a3')]  # Hold the reference.\n",
    "repr(b3)"
   ]
  },
  {
   "cell_type": "markdown",
   "id": "74c42aef-0fda-4921-9680-6f52f139f235",
   "metadata": {},
   "source": [
    "Outside our mappings, we have strong references `a2` and `b3`."
   ]
  },
  {
   "cell_type": "code",
   "execution_count": 187,
   "id": "9f8ea434-9089-48fc-b871-f840cc09a7b6",
   "metadata": {},
   "outputs": [],
   "source": [
    "del ab[LockBox('a2')]"
   ]
  },
  {
   "cell_type": "code",
   "execution_count": 188,
   "id": "52c6e8a5-3b72-46a6-ad89-389383e346b5",
   "metadata": {},
   "outputs": [
    {
     "data": {
      "text/plain": [
       "\"{LockBox('a3'): LockBox('b3')}\""
      ]
     },
     "execution_count": 188,
     "metadata": {},
     "output_type": "execute_result"
    }
   ],
   "source": [
    "repr(ab)"
   ]
  },
  {
   "cell_type": "code",
   "execution_count": 189,
   "id": "3ff675e5-1ee9-4808-9680-5cb0e5148c88",
   "metadata": {},
   "outputs": [
    {
     "data": {
      "text/plain": [
       "\"{LockBox('b2'): LockBox('a2'), LockBox('b3'): LockBox('a3')}\""
      ]
     },
     "execution_count": 189,
     "metadata": {},
     "output_type": "execute_result"
    }
   ],
   "source": [
    "repr(dict(ba))"
   ]
  },
  {
   "cell_type": "code",
   "execution_count": 190,
   "id": "0270bdcb-6090-4754-95aa-56456e0bf137",
   "metadata": {},
   "outputs": [],
   "source": [
    "del ab[LockBox('a3')]"
   ]
  },
  {
   "cell_type": "code",
   "execution_count": 191,
   "id": "31bf7620-38ea-4619-9284-88d3eae8d296",
   "metadata": {},
   "outputs": [
    {
     "data": {
      "text/plain": [
       "'{}'"
      ]
     },
     "execution_count": 191,
     "metadata": {},
     "output_type": "execute_result"
    }
   ],
   "source": [
    "repr(ab)"
   ]
  },
  {
   "cell_type": "code",
   "execution_count": 192,
   "id": "8c2ac74c-8f5b-49a6-a2f6-c5be2bad814f",
   "metadata": {},
   "outputs": [
    {
     "data": {
      "text/plain": [
       "\"{LockBox('b2'): LockBox('a2')}\""
      ]
     },
     "execution_count": 192,
     "metadata": {},
     "output_type": "execute_result"
    }
   ],
   "source": [
    "repr(dict(ba))"
   ]
  },
  {
   "cell_type": "code",
   "execution_count": 193,
   "id": "68d2b6dc-da12-4271-8e18-3b3b40b098f3",
   "metadata": {},
   "outputs": [
    {
     "data": {
      "text/plain": [
       "LockBox('b3')"
      ]
     },
     "execution_count": 193,
     "metadata": {},
     "output_type": "execute_result"
    }
   ],
   "source": [
    "b3"
   ]
  },
  {
   "cell_type": "code",
   "execution_count": null,
   "id": "77b710a0-648f-456b-8929-1fd5d378a442",
   "metadata": {},
   "outputs": [],
   "source": []
  }
 ],
 "metadata": {
  "kernelspec": {
   "display_name": "Python 3 (ipykernel)",
   "language": "python",
   "name": "python3"
  },
  "language_info": {
   "codemirror_mode": {
    "name": "ipython",
    "version": 3
   },
   "file_extension": ".py",
   "mimetype": "text/x-python",
   "name": "python",
   "nbconvert_exporter": "python",
   "pygments_lexer": "ipython3",
   "version": "3.10.6"
  }
 },
 "nbformat": 4,
 "nbformat_minor": 5
}
