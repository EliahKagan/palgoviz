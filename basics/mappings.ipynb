{
 "cells": [
  {
   "cell_type": "code",
   "execution_count": 2,
   "metadata": {},
   "outputs": [],
   "source": [
    "import random\n",
    "\n",
    "from mappings import (\n",
    "    BinarySearchTree,\n",
    "    DirectAddressTable,\n",
    "    HashTable,\n",
    "    SortedFlatTable,\n",
    ")"
   ]
  },
  {
   "cell_type": "code",
   "execution_count": 2,
   "metadata": {},
   "outputs": [
    {
     "data": {
      "text/plain": [
       "DirectAddressTable(50, {1: 'bar', 3: 'foo', 49: 'baz'})"
      ]
     },
     "execution_count": 2,
     "metadata": {},
     "output_type": "execute_result"
    }
   ],
   "source": [
    "dat = DirectAddressTable(50)\n",
    "dat[3] = 'foo'\n",
    "dat[1] = 'bar'\n",
    "dat[49] = 'baz'\n",
    "dat"
   ]
  },
  {
   "cell_type": "code",
   "execution_count": 3,
   "metadata": {},
   "outputs": [
    {
     "data": {
      "text/plain": [
       "['baz', 'foo', 'bar']"
      ]
     },
     "execution_count": 3,
     "metadata": {},
     "output_type": "execute_result"
    }
   ],
   "source": [
    "list(reversed(dat.values()))"
   ]
  },
  {
   "cell_type": "code",
   "execution_count": 4,
   "metadata": {},
   "outputs": [],
   "source": [
    "def generate_items():\n",
    "    a = list(range(10**5))  # Try 10**6 for more compelling speed differences. \n",
    "    random.shuffle(a)\n",
    "    return [(str(x), i) for i, x in enumerate(a)]"
   ]
  },
  {
   "cell_type": "code",
   "execution_count": 5,
   "metadata": {},
   "outputs": [
    {
     "name": "stdout",
     "output_type": "stream",
     "text": [
      "1.73 s ± 43.8 ms per loop (mean ± std. dev. of 7 runs, 1 loop each)\n"
     ]
    }
   ],
   "source": [
    "%%timeit -n1 items = generate_items()\n",
    "global ft\n",
    "ft = SortedFlatTable(items)"
   ]
  },
  {
   "cell_type": "code",
   "execution_count": 6,
   "metadata": {},
   "outputs": [
    {
     "name": "stdout",
     "output_type": "stream",
     "text": [
      "570 ms ± 8.16 ms per loop (mean ± std. dev. of 7 runs, 1 loop each)\n"
     ]
    }
   ],
   "source": [
    "%%timeit -n1 items = generate_items()\n",
    "global ht\n",
    "ht = HashTable(items)"
   ]
  },
  {
   "cell_type": "code",
   "execution_count": 7,
   "metadata": {},
   "outputs": [
    {
     "name": "stdout",
     "output_type": "stream",
     "text": [
      "27 ms ± 1.9 ms per loop (mean ± std. dev. of 7 runs, 1 loop each)\n"
     ]
    }
   ],
   "source": [
    "%%timeit -n1 items = generate_items()\n",
    "global d\n",
    "d = dict(items)"
   ]
  },
  {
   "cell_type": "code",
   "execution_count": 8,
   "metadata": {},
   "outputs": [
    {
     "name": "stdout",
     "output_type": "stream",
     "text": [
      "2.34 µs ± 59.1 ns per loop (mean ± std. dev. of 7 runs, 100 loops each)\n"
     ]
    }
   ],
   "source": [
    "%%timeit -n100\n",
    "ft['22746']"
   ]
  },
  {
   "cell_type": "code",
   "execution_count": 9,
   "metadata": {},
   "outputs": [
    {
     "name": "stdout",
     "output_type": "stream",
     "text": [
      "1.58 µs ± 98.5 ns per loop (mean ± std. dev. of 7 runs, 100 loops each)\n"
     ]
    }
   ],
   "source": [
    "%%timeit -n100\n",
    "ht['22746']"
   ]
  },
  {
   "cell_type": "code",
   "execution_count": 10,
   "metadata": {},
   "outputs": [
    {
     "data": {
      "text/plain": [
       "False"
      ]
     },
     "execution_count": 10,
     "metadata": {},
     "output_type": "execute_result"
    }
   ],
   "source": [
    "ft == ht"
   ]
  },
  {
   "cell_type": "code",
   "execution_count": 11,
   "metadata": {},
   "outputs": [
    {
     "data": {
      "text/plain": [
       "True"
      ]
     },
     "execution_count": 11,
     "metadata": {},
     "output_type": "execute_result"
    }
   ],
   "source": [
    "ft == HashTable(ft)"
   ]
  },
  {
   "cell_type": "code",
   "execution_count": 12,
   "metadata": {},
   "outputs": [
    {
     "data": {
      "text/plain": [
       "True"
      ]
     },
     "execution_count": 12,
     "metadata": {},
     "output_type": "execute_result"
    }
   ],
   "source": [
    "ht == SortedFlatTable(ht)"
   ]
  },
  {
   "cell_type": "code",
   "execution_count": 13,
   "metadata": {},
   "outputs": [
    {
     "data": {
      "text/plain": [
       "True"
      ]
     },
     "execution_count": 13,
     "metadata": {},
     "output_type": "execute_result"
    }
   ],
   "source": [
    "ht == HashTable(list(ht.items()))"
   ]
  },
  {
   "cell_type": "code",
   "execution_count": 14,
   "metadata": {},
   "outputs": [],
   "source": [
    "small = SortedFlatTable({'y': 20, 'x': 10, 'z': 30})"
   ]
  },
  {
   "cell_type": "code",
   "execution_count": 15,
   "metadata": {},
   "outputs": [
    {
     "data": {
      "text/plain": [
       "SortedFlatTable({'x': 10, 'y': 20, 'z': 30})"
      ]
     },
     "execution_count": 15,
     "metadata": {},
     "output_type": "execute_result"
    }
   ],
   "source": [
    "small"
   ]
  },
  {
   "cell_type": "code",
   "execution_count": 16,
   "metadata": {},
   "outputs": [
    {
     "data": {
      "text/plain": [
       "[('z', 30), ('y', 20), ('x', 10)]"
      ]
     },
     "execution_count": 16,
     "metadata": {},
     "output_type": "execute_result"
    }
   ],
   "source": [
    "list(reversed(small.items()))"
   ]
  },
  {
   "cell_type": "code",
   "execution_count": 17,
   "metadata": {},
   "outputs": [
    {
     "data": {
      "text/plain": [
       "SortedFlatTable({'x': 10, 'y': 20, 'z': 30})"
      ]
     },
     "execution_count": 17,
     "metadata": {},
     "output_type": "execute_result"
    }
   ],
   "source": [
    "SortedFlatTable(_)"
   ]
  },
  {
   "cell_type": "code",
   "execution_count": 18,
   "metadata": {},
   "outputs": [
    {
     "data": {
      "text/plain": [
       "True"
      ]
     },
     "execution_count": 18,
     "metadata": {},
     "output_type": "execute_result"
    }
   ],
   "source": [
    "small == SortedFlatTable({'x': 10, 'y': 20, 'z': 30})"
   ]
  },
  {
   "cell_type": "code",
   "execution_count": 19,
   "metadata": {},
   "outputs": [
    {
     "data": {
      "text/plain": [
       "False"
      ]
     },
     "execution_count": 19,
     "metadata": {},
     "output_type": "execute_result"
    }
   ],
   "source": [
    "small == SortedFlatTable({'x': 10, 'y': 20, 'z': 31})"
   ]
  },
  {
   "cell_type": "code",
   "execution_count": 3,
   "metadata": {},
   "outputs": [],
   "source": [
    "bst = BinarySearchTree.fromkeys([3, 7, 10, 9, 18, 34, 2])"
   ]
  },
  {
   "cell_type": "code",
   "execution_count": 4,
   "metadata": {},
   "outputs": [
    {
     "data": {
      "image/svg+xml": "<?xml version=\"1.0\" encoding=\"UTF-8\" standalone=\"no\"?>\n<!DOCTYPE svg PUBLIC \"-//W3C//DTD SVG 1.1//EN\"\n \"http://www.w3.org/Graphics/SVG/1.1/DTD/svg11.dtd\">\n<!-- Generated by graphviz version 5.0.0 (0)\n -->\n<!-- Pages: 1 -->\n<svg width=\"269pt\" height=\"372pt\"\n viewBox=\"0.00 0.00 268.90 371.60\" xmlns=\"http://www.w3.org/2000/svg\" xmlns:xlink=\"http://www.w3.org/1999/xlink\">\n<g id=\"graph0\" class=\"graph\" transform=\"scale(1 1) rotate(0) translate(4 367.6)\">\n<polygon fill=\"white\" stroke=\"transparent\" points=\"-4,4 -4,-367.6 264.9,-367.6 264.9,4 -4,4\"/>\n<!-- 0 -->\n<g id=\"node1\" class=\"node\">\n<title>0</title>\n<ellipse fill=\"none\" stroke=\"black\" cx=\"48.1\" cy=\"-273.6\" rx=\"48.19\" ry=\"18\"/>\n<text text-anchor=\"middle\" x=\"48.1\" y=\"-269.9\" font-family=\"Times New Roman,serif\" font-size=\"14.00\">2 → None</text>\n</g>\n<!-- 7 -->\n<g id=\"node8\" class=\"node\">\n<title>7</title>\n<ellipse fill=\"black\" stroke=\"black\" cx=\"37.1\" cy=\"-201.6\" rx=\"1.8\" ry=\"1.8\"/>\n</g>\n<!-- 0&#45;&gt;7 -->\n<g id=\"edge1\" class=\"edge\">\n<title>0&#45;&gt;7</title>\n<path fill=\"none\" stroke=\"black\" d=\"M45.38,-255.3C43.32,-242.23 40.57,-224.71 38.81,-213.53\"/>\n<polygon fill=\"black\" stroke=\"black\" points=\"42.23,-212.74 37.22,-203.41 35.32,-213.83 42.23,-212.74\"/>\n</g>\n<!-- 8 -->\n<g id=\"node9\" class=\"node\">\n<title>8</title>\n<ellipse fill=\"black\" stroke=\"black\" cx=\"59.1\" cy=\"-201.6\" rx=\"1.8\" ry=\"1.8\"/>\n</g>\n<!-- 0&#45;&gt;8 -->\n<g id=\"edge2\" class=\"edge\">\n<title>0&#45;&gt;8</title>\n<path fill=\"none\" stroke=\"black\" d=\"M50.81,-255.3C52.87,-242.23 55.62,-224.71 57.38,-213.53\"/>\n<polygon fill=\"black\" stroke=\"black\" points=\"60.87,-213.83 58.97,-203.41 53.96,-212.74 60.87,-213.83\"/>\n</g>\n<!-- 1 -->\n<g id=\"node2\" class=\"node\">\n<title>1</title>\n<ellipse fill=\"none\" stroke=\"black\" cx=\"105.1\" cy=\"-345.6\" rx=\"48.19\" ry=\"18\"/>\n<text text-anchor=\"middle\" x=\"105.1\" y=\"-341.9\" font-family=\"Times New Roman,serif\" font-size=\"14.00\">3 → None</text>\n</g>\n<!-- 1&#45;&gt;0 -->\n<g id=\"edge3\" class=\"edge\">\n<title>1&#45;&gt;0</title>\n<path fill=\"none\" stroke=\"black\" d=\"M91.59,-328.01C84.56,-319.38 75.83,-308.66 68.04,-299.1\"/>\n<polygon fill=\"black\" stroke=\"black\" points=\"70.54,-296.61 61.51,-291.07 65.11,-301.03 70.54,-296.61\"/>\n</g>\n<!-- 2 -->\n<g id=\"node3\" class=\"node\">\n<title>2</title>\n<ellipse fill=\"none\" stroke=\"black\" cx=\"162.1\" cy=\"-273.6\" rx=\"48.19\" ry=\"18\"/>\n<text text-anchor=\"middle\" x=\"162.1\" y=\"-269.9\" font-family=\"Times New Roman,serif\" font-size=\"14.00\">7 → None</text>\n</g>\n<!-- 1&#45;&gt;2 -->\n<g id=\"edge4\" class=\"edge\">\n<title>1&#45;&gt;2</title>\n<path fill=\"none\" stroke=\"black\" d=\"M118.6,-328.01C125.63,-319.38 134.36,-308.66 142.15,-299.1\"/>\n<polygon fill=\"black\" stroke=\"black\" points=\"145.08,-301.03 148.68,-291.07 139.66,-296.61 145.08,-301.03\"/>\n</g>\n<!-- 4 -->\n<g id=\"node5\" class=\"node\">\n<title>4</title>\n<ellipse fill=\"none\" stroke=\"black\" cx=\"146.1\" cy=\"-201.6\" rx=\"52.79\" ry=\"18\"/>\n<text text-anchor=\"middle\" x=\"146.1\" y=\"-197.9\" font-family=\"Times New Roman,serif\" font-size=\"14.00\">10 → None</text>\n</g>\n<!-- 2&#45;&gt;4 -->\n<g id=\"edge6\" class=\"edge\">\n<title>2&#45;&gt;4</title>\n<path fill=\"none\" stroke=\"black\" d=\"M158.22,-255.65C156.44,-247.86 154.28,-238.42 152.29,-229.68\"/>\n<polygon fill=\"black\" stroke=\"black\" points=\"155.68,-228.84 150.04,-219.88 148.86,-230.4 155.68,-228.84\"/>\n</g>\n<!-- 9 -->\n<g id=\"node10\" class=\"node\">\n<title>9</title>\n<ellipse fill=\"black\" stroke=\"black\" cx=\"218.1\" cy=\"-201.6\" rx=\"1.8\" ry=\"1.8\"/>\n</g>\n<!-- 2&#45;&gt;9 -->\n<g id=\"edge5\" class=\"edge\">\n<title>2&#45;&gt;9</title>\n<path fill=\"none\" stroke=\"black\" d=\"M177.41,-256.53C186.77,-246.34 198.71,-232.66 208.1,-219.6 209.72,-217.34 211.32,-214.8 212.75,-212.39\"/>\n<polygon fill=\"black\" stroke=\"black\" points=\"215.85,-214.01 217.61,-203.56 209.72,-210.63 215.85,-214.01\"/>\n</g>\n<!-- 3 -->\n<g id=\"node4\" class=\"node\">\n<title>3</title>\n<ellipse fill=\"none\" stroke=\"black\" cx=\"86.1\" cy=\"-129.6\" rx=\"48.19\" ry=\"18\"/>\n<text text-anchor=\"middle\" x=\"86.1\" y=\"-125.9\" font-family=\"Times New Roman,serif\" font-size=\"14.00\">9 → None</text>\n</g>\n<!-- 10 -->\n<g id=\"node11\" class=\"node\">\n<title>10</title>\n<ellipse fill=\"black\" stroke=\"black\" cx=\"75.1\" cy=\"-57.6\" rx=\"1.8\" ry=\"1.8\"/>\n</g>\n<!-- 3&#45;&gt;10 -->\n<g id=\"edge7\" class=\"edge\">\n<title>3&#45;&gt;10</title>\n<path fill=\"none\" stroke=\"black\" d=\"M83.38,-111.3C81.32,-98.23 78.57,-80.71 76.81,-69.53\"/>\n<polygon fill=\"black\" stroke=\"black\" points=\"80.23,-68.74 75.22,-59.41 73.32,-69.83 80.23,-68.74\"/>\n</g>\n<!-- 11 -->\n<g id=\"node12\" class=\"node\">\n<title>11</title>\n<ellipse fill=\"black\" stroke=\"black\" cx=\"97.1\" cy=\"-57.6\" rx=\"1.8\" ry=\"1.8\"/>\n</g>\n<!-- 3&#45;&gt;11 -->\n<g id=\"edge8\" class=\"edge\">\n<title>3&#45;&gt;11</title>\n<path fill=\"none\" stroke=\"black\" d=\"M88.81,-111.3C90.87,-98.23 93.62,-80.71 95.38,-69.53\"/>\n<polygon fill=\"black\" stroke=\"black\" points=\"98.87,-69.83 96.97,-59.41 91.96,-68.74 98.87,-69.83\"/>\n</g>\n<!-- 4&#45;&gt;3 -->\n<g id=\"edge9\" class=\"edge\">\n<title>4&#45;&gt;3</title>\n<path fill=\"none\" stroke=\"black\" d=\"M131.88,-184.01C124.4,-175.29 115.11,-164.45 106.85,-154.81\"/>\n<polygon fill=\"black\" stroke=\"black\" points=\"109.38,-152.38 100.21,-147.07 104.06,-156.94 109.38,-152.38\"/>\n</g>\n<!-- 5 -->\n<g id=\"node6\" class=\"node\">\n<title>5</title>\n<ellipse fill=\"none\" stroke=\"black\" cx=\"205.1\" cy=\"-129.6\" rx=\"52.79\" ry=\"18\"/>\n<text text-anchor=\"middle\" x=\"205.1\" y=\"-125.9\" font-family=\"Times New Roman,serif\" font-size=\"14.00\">18 → None</text>\n</g>\n<!-- 4&#45;&gt;5 -->\n<g id=\"edge10\" class=\"edge\">\n<title>4&#45;&gt;5</title>\n<path fill=\"none\" stroke=\"black\" d=\"M160.08,-184.01C167.43,-175.29 176.57,-164.45 184.69,-154.81\"/>\n<polygon fill=\"black\" stroke=\"black\" points=\"187.45,-156.97 191.21,-147.07 182.09,-152.46 187.45,-156.97\"/>\n</g>\n<!-- 6 -->\n<g id=\"node7\" class=\"node\">\n<title>6</title>\n<ellipse fill=\"none\" stroke=\"black\" cx=\"187.1\" cy=\"-57.6\" rx=\"52.79\" ry=\"18\"/>\n<text text-anchor=\"middle\" x=\"187.1\" y=\"-53.9\" font-family=\"Times New Roman,serif\" font-size=\"14.00\">34 → None</text>\n</g>\n<!-- 5&#45;&gt;6 -->\n<g id=\"edge12\" class=\"edge\">\n<title>5&#45;&gt;6</title>\n<path fill=\"none\" stroke=\"black\" d=\"M200.74,-111.65C198.73,-103.86 196.31,-94.42 194.06,-85.68\"/>\n<polygon fill=\"black\" stroke=\"black\" points=\"197.42,-84.69 191.54,-75.88 190.64,-86.43 197.42,-84.69\"/>\n</g>\n<!-- 12 -->\n<g id=\"node13\" class=\"node\">\n<title>12</title>\n<ellipse fill=\"black\" stroke=\"black\" cx=\"259.1\" cy=\"-57.6\" rx=\"1.8\" ry=\"1.8\"/>\n</g>\n<!-- 5&#45;&gt;12 -->\n<g id=\"edge11\" class=\"edge\">\n<title>5&#45;&gt;12</title>\n<path fill=\"none\" stroke=\"black\" d=\"M220.09,-111.97C228.95,-101.79 240.16,-88.32 249.1,-75.6 250.69,-73.32 252.29,-70.78 253.71,-68.37\"/>\n<polygon fill=\"black\" stroke=\"black\" points=\"256.81,-70 258.6,-59.55 250.69,-66.6 256.81,-70\"/>\n</g>\n<!-- 13 -->\n<g id=\"node14\" class=\"node\">\n<title>13</title>\n<ellipse fill=\"black\" stroke=\"black\" cx=\"176.1\" cy=\"-1.8\" rx=\"1.8\" ry=\"1.8\"/>\n</g>\n<!-- 6&#45;&gt;13 -->\n<g id=\"edge13\" class=\"edge\">\n<title>6&#45;&gt;13</title>\n<path fill=\"none\" stroke=\"black\" d=\"M183.62,-39.58C181.87,-31.07 179.82,-21.02 178.3,-13.58\"/>\n<polygon fill=\"black\" stroke=\"black\" points=\"181.72,-12.83 176.29,-3.73 174.86,-14.23 181.72,-12.83\"/>\n</g>\n<!-- 14 -->\n<g id=\"node15\" class=\"node\">\n<title>14</title>\n<ellipse fill=\"black\" stroke=\"black\" cx=\"198.1\" cy=\"-1.8\" rx=\"1.8\" ry=\"1.8\"/>\n</g>\n<!-- 6&#45;&gt;14 -->\n<g id=\"edge14\" class=\"edge\">\n<title>6&#45;&gt;14</title>\n<path fill=\"none\" stroke=\"black\" d=\"M190.58,-39.58C192.32,-31.07 194.37,-21.02 195.89,-13.58\"/>\n<polygon fill=\"black\" stroke=\"black\" points=\"199.33,-14.23 197.9,-3.73 192.47,-12.83 199.33,-14.23\"/>\n</g>\n</g>\n</svg>\n",
      "text/plain": [
       "<graphviz.graphs.Digraph at 0x209341b3a90>"
      ]
     },
     "execution_count": 4,
     "metadata": {},
     "output_type": "execute_result"
    }
   ],
   "source": [
    "bst.draw()"
   ]
  },
  {
   "cell_type": "code",
   "execution_count": null,
   "metadata": {},
   "outputs": [],
   "source": []
  }
 ],
 "metadata": {
  "kernelspec": {
   "display_name": "Python 3.10.5 ('algoviz-basics')",
   "language": "python",
   "name": "python3"
  },
  "language_info": {
   "codemirror_mode": {
    "name": "ipython",
    "version": 3
   },
   "file_extension": ".py",
   "mimetype": "text/x-python",
   "name": "python",
   "nbconvert_exporter": "python",
   "pygments_lexer": "ipython3",
   "version": "3.10.5"
  },
  "orig_nbformat": 4,
  "vscode": {
   "interpreter": {
    "hash": "a924a81514a67ab7abb52f10576a3bff5d43dd09540bf62ec090588d0cbe25a3"
   }
  }
 },
 "nbformat": 4,
 "nbformat_minor": 2
}
