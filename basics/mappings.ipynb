{
 "cells": [
  {
   "cell_type": "code",
   "execution_count": 1,
   "metadata": {},
   "outputs": [],
   "source": [
    "import random\n",
    "\n",
    "from mappings import (\n",
    "    BinarySearchTree,\n",
    "    DirectAddressTable,\n",
    "    HashTable,\n",
    "    SortedFlatTable,\n",
    ")"
   ]
  },
  {
   "cell_type": "code",
   "execution_count": 2,
   "metadata": {},
   "outputs": [
    {
     "data": {
      "text/plain": [
       "DirectAddressTable(50, {1: 'bar', 3: 'foo', 49: 'baz'})"
      ]
     },
     "execution_count": 2,
     "metadata": {},
     "output_type": "execute_result"
    }
   ],
   "source": [
    "dat = DirectAddressTable(50)\n",
    "dat[3] = 'foo'\n",
    "dat[1] = 'bar'\n",
    "dat[49] = 'baz'\n",
    "dat"
   ]
  },
  {
   "cell_type": "code",
   "execution_count": 3,
   "metadata": {},
   "outputs": [
    {
     "data": {
      "text/plain": [
       "['baz', 'foo', 'bar']"
      ]
     },
     "execution_count": 3,
     "metadata": {},
     "output_type": "execute_result"
    }
   ],
   "source": [
    "list(reversed(dat.values()))"
   ]
  },
  {
   "cell_type": "code",
   "execution_count": 4,
   "metadata": {},
   "outputs": [],
   "source": [
    "def generate_items(count=10**5):  # 10**6 gives bigger speed differences.\n",
    "    a = list(range(count))\n",
    "    random.shuffle(a)\n",
    "    return [(str(x), i) for i, x in enumerate(a)]"
   ]
  },
  {
   "cell_type": "code",
   "execution_count": 5,
   "metadata": {},
   "outputs": [
    {
     "name": "stdout",
     "output_type": "stream",
     "text": [
      "1.7 s ± 27.5 ms per loop (mean ± std. dev. of 7 runs, 1 loop each)\n"
     ]
    }
   ],
   "source": [
    "%%timeit -n1 items = generate_items()\n",
    "global ft\n",
    "ft = SortedFlatTable(items)"
   ]
  },
  {
   "cell_type": "code",
   "execution_count": 6,
   "metadata": {},
   "outputs": [
    {
     "name": "stdout",
     "output_type": "stream",
     "text": [
      "402 ms ± 12.6 ms per loop (mean ± std. dev. of 7 runs, 1 loop each)\n"
     ]
    }
   ],
   "source": [
    "%%timeit -n1 items = generate_items()\n",
    "global bst\n",
    "bst = BinarySearchTree(items)"
   ]
  },
  {
   "cell_type": "code",
   "execution_count": 7,
   "metadata": {},
   "outputs": [
    {
     "name": "stdout",
     "output_type": "stream",
     "text": [
      "577 ms ± 8.09 ms per loop (mean ± std. dev. of 7 runs, 1 loop each)\n"
     ]
    }
   ],
   "source": [
    "%%timeit -n1 items = generate_items()\n",
    "global ht\n",
    "ht = HashTable(items)"
   ]
  },
  {
   "cell_type": "code",
   "execution_count": 8,
   "metadata": {},
   "outputs": [
    {
     "name": "stdout",
     "output_type": "stream",
     "text": [
      "28.7 ms ± 1.69 ms per loop (mean ± std. dev. of 7 runs, 1 loop each)\n"
     ]
    }
   ],
   "source": [
    "%%timeit -n1 items = generate_items()\n",
    "global d\n",
    "d = dict(items)"
   ]
  },
  {
   "cell_type": "code",
   "execution_count": 9,
   "metadata": {},
   "outputs": [
    {
     "name": "stdout",
     "output_type": "stream",
     "text": [
      "2.5 µs ± 338 ns per loop (mean ± std. dev. of 7 runs, 100 loops each)\n"
     ]
    }
   ],
   "source": [
    "%%timeit -n100\n",
    "ft['22746']"
   ]
  },
  {
   "cell_type": "code",
   "execution_count": 10,
   "metadata": {},
   "outputs": [
    {
     "name": "stdout",
     "output_type": "stream",
     "text": [
      "2.14 µs ± 39.3 ns per loop (mean ± std. dev. of 7 runs, 100 loops each)\n"
     ]
    }
   ],
   "source": [
    "%%timeit -n100\n",
    "bst['22746']"
   ]
  },
  {
   "cell_type": "code",
   "execution_count": 11,
   "metadata": {},
   "outputs": [
    {
     "name": "stdout",
     "output_type": "stream",
     "text": [
      "1.77 µs ± 228 ns per loop (mean ± std. dev. of 7 runs, 100 loops each)\n"
     ]
    }
   ],
   "source": [
    "%%timeit -n100\n",
    "ht['22746']"
   ]
  },
  {
   "cell_type": "code",
   "execution_count": 12,
   "metadata": {},
   "outputs": [
    {
     "data": {
      "text/plain": [
       "(False, False, False, False, False, False)"
      ]
     },
     "execution_count": 12,
     "metadata": {},
     "output_type": "execute_result"
    }
   ],
   "source": [
    "ft == ht, ht == ft, ft == bst, bst == ft, bst == ht, ht == bst  # All False."
   ]
  },
  {
   "cell_type": "code",
   "execution_count": 13,
   "metadata": {},
   "outputs": [
    {
     "data": {
      "text/plain": [
       "True"
      ]
     },
     "execution_count": 13,
     "metadata": {},
     "output_type": "execute_result"
    }
   ],
   "source": [
    "ft == HashTable(ft)  # True."
   ]
  },
  {
   "cell_type": "code",
   "execution_count": 14,
   "metadata": {},
   "outputs": [
    {
     "data": {
      "text/plain": [
       "True"
      ]
     },
     "execution_count": 14,
     "metadata": {},
     "output_type": "execute_result"
    }
   ],
   "source": [
    "ht == SortedFlatTable(ht)  # True."
   ]
  },
  {
   "cell_type": "code",
   "execution_count": 15,
   "metadata": {},
   "outputs": [
    {
     "data": {
      "text/plain": [
       "True"
      ]
     },
     "execution_count": 15,
     "metadata": {},
     "output_type": "execute_result"
    }
   ],
   "source": [
    "ht == HashTable(list(ht.items()))  # True."
   ]
  },
  {
   "cell_type": "code",
   "execution_count": 16,
   "metadata": {},
   "outputs": [
    {
     "data": {
      "text/plain": [
       "True"
      ]
     },
     "execution_count": 16,
     "metadata": {},
     "output_type": "execute_result"
    }
   ],
   "source": [
    "bst == BinarySearchTree(HashTable(bst))  # True."
   ]
  },
  {
   "cell_type": "code",
   "execution_count": 17,
   "metadata": {},
   "outputs": [
    {
     "name": "stdout",
     "output_type": "stream",
     "text": [
      "6.21 s ± 516 ms per loop (mean ± std. dev. of 7 runs, 1 loop each)\n"
     ]
    }
   ],
   "source": [
    "%%timeit -n1 items = generate_items(10**6)\n",
    "global bst\n",
    "bst = BinarySearchTree(items)"
   ]
  },
  {
   "cell_type": "code",
   "execution_count": 18,
   "metadata": {},
   "outputs": [
    {
     "name": "stdout",
     "output_type": "stream",
     "text": [
      "5.88 s ± 200 ms per loop (mean ± std. dev. of 7 runs, 1 loop each)\n"
     ]
    }
   ],
   "source": [
    "%%timeit -n1 items = generate_items(10**6)\n",
    "global ht\n",
    "ht = HashTable(items)"
   ]
  },
  {
   "cell_type": "code",
   "execution_count": 19,
   "metadata": {},
   "outputs": [],
   "source": [
    "small = SortedFlatTable({'y': 20, 'x': 10, 'z': 30})"
   ]
  },
  {
   "cell_type": "code",
   "execution_count": 20,
   "metadata": {},
   "outputs": [
    {
     "data": {
      "text/plain": [
       "SortedFlatTable({'x': 10, 'y': 20, 'z': 30})"
      ]
     },
     "execution_count": 20,
     "metadata": {},
     "output_type": "execute_result"
    }
   ],
   "source": [
    "small"
   ]
  },
  {
   "cell_type": "code",
   "execution_count": 21,
   "metadata": {},
   "outputs": [
    {
     "data": {
      "text/plain": [
       "[('z', 30), ('y', 20), ('x', 10)]"
      ]
     },
     "execution_count": 21,
     "metadata": {},
     "output_type": "execute_result"
    }
   ],
   "source": [
    "list(reversed(small.items()))"
   ]
  },
  {
   "cell_type": "code",
   "execution_count": 22,
   "metadata": {},
   "outputs": [
    {
     "data": {
      "text/plain": [
       "SortedFlatTable({'x': 10, 'y': 20, 'z': 30})"
      ]
     },
     "execution_count": 22,
     "metadata": {},
     "output_type": "execute_result"
    }
   ],
   "source": [
    "SortedFlatTable(_)"
   ]
  },
  {
   "cell_type": "code",
   "execution_count": 23,
   "metadata": {},
   "outputs": [
    {
     "data": {
      "text/plain": [
       "True"
      ]
     },
     "execution_count": 23,
     "metadata": {},
     "output_type": "execute_result"
    }
   ],
   "source": [
    "small == SortedFlatTable({'x': 10, 'y': 20, 'z': 30})"
   ]
  },
  {
   "cell_type": "code",
   "execution_count": 24,
   "metadata": {},
   "outputs": [
    {
     "data": {
      "text/plain": [
       "False"
      ]
     },
     "execution_count": 24,
     "metadata": {},
     "output_type": "execute_result"
    }
   ],
   "source": [
    "small == SortedFlatTable({'x': 10, 'y': 20, 'z': 31})"
   ]
  },
  {
   "cell_type": "code",
   "execution_count": 25,
   "metadata": {},
   "outputs": [
    {
     "name": "stderr",
     "output_type": "stream",
     "text": [
      "WARNING:root:BinarySearchTree@0x2A489C14480 in debug mode, expect slow operations\n"
     ]
    },
    {
     "data": {
      "text/plain": [
       "BinarySearchTree({'a': 'A', 'b': 'B', 'c': 'C', 'd': 'D', 'e': 'E', 'f': 'F', 'g': 'G', 'h': 'H', 'i': 'I', 'j': 'J', 'k': 'K', 'l': 'L', 'm': 'M', 'n': 'N', 'o': 'O', 'p': 'P', 'q': 'Q', 'r': 'R', 's': 'S', 't': 'T', 'u': 'U', 'v': 'V', 'w': 'W', 'x': 'X', 'y': 'Y', 'z': 'Z'})"
      ]
     },
     "execution_count": 25,
     "metadata": {},
     "output_type": "execute_result"
    }
   ],
   "source": [
    "items = ((c, c.upper()) for c in 'bqdtsvgzprjywnfhclmuxkeiao' * 100)\n",
    "bst = BinarySearchTree(items, debug=True)\n",
    "bst"
   ]
  },
  {
   "cell_type": "code",
   "execution_count": 26,
   "metadata": {},
   "outputs": [
    {
     "data": {
      "text/plain": [
       "26"
      ]
     },
     "execution_count": 26,
     "metadata": {},
     "output_type": "execute_result"
    }
   ],
   "source": [
    "len(bst)"
   ]
  },
  {
   "cell_type": "code",
   "execution_count": 27,
   "metadata": {},
   "outputs": [
    {
     "data": {
      "image/svg+xml": "<?xml version=\"1.0\" encoding=\"UTF-8\" standalone=\"no\"?>\n<!DOCTYPE svg PUBLIC \"-//W3C//DTD SVG 1.1//EN\"\n \"http://www.w3.org/Graphics/SVG/1.1/DTD/svg11.dtd\">\n<!-- Generated by graphviz version 5.0.0 (0)\n -->\n<!-- Pages: 1 -->\n<svg width=\"567pt\" height=\"660pt\"\n viewBox=\"0.00 0.00 567.10 659.60\" xmlns=\"http://www.w3.org/2000/svg\" xmlns:xlink=\"http://www.w3.org/1999/xlink\">\n<g id=\"graph0\" class=\"graph\" transform=\"scale(1 1) rotate(0) translate(4 655.6)\">\n<polygon fill=\"white\" stroke=\"transparent\" points=\"-4,4 -4,-655.6 563.1,-655.6 563.1,4 -4,4\"/>\n<!-- 0 -->\n<g id=\"node1\" class=\"node\">\n<title>0</title>\n<ellipse fill=\"none\" stroke=\"black\" cx=\"141.3\" cy=\"-633.6\" rx=\"40.89\" ry=\"18\"/>\n<text text-anchor=\"middle\" x=\"141.3\" y=\"-629.9\" font-family=\"Times New Roman,serif\" font-size=\"14.00\">&#39;b&#39; → &#39;B&#39;</text>\n</g>\n<!-- 1 -->\n<g id=\"node2\" class=\"node\">\n<title>1</title>\n<ellipse fill=\"none\" stroke=\"black\" cx=\"91.3\" cy=\"-561.6\" rx=\"40.89\" ry=\"18\"/>\n<text text-anchor=\"middle\" x=\"91.3\" y=\"-557.9\" font-family=\"Times New Roman,serif\" font-size=\"14.00\">&#39;a&#39; → &#39;A&#39;</text>\n</g>\n<!-- 0&#45;&gt;1 -->\n<g id=\"edge1\" class=\"edge\">\n<title>0&#45;&gt;1</title>\n<path fill=\"none\" stroke=\"black\" d=\"M129.45,-616.01C123.34,-607.47 115.78,-596.88 109,-587.39\"/>\n<polygon fill=\"black\" stroke=\"black\" points=\"111.72,-585.17 103.06,-579.07 106.03,-589.24 111.72,-585.17\"/>\n</g>\n<!-- 4 -->\n<g id=\"node5\" class=\"node\">\n<title>4</title>\n<ellipse fill=\"none\" stroke=\"black\" cx=\"192.3\" cy=\"-561.6\" rx=\"41.69\" ry=\"18\"/>\n<text text-anchor=\"middle\" x=\"192.3\" y=\"-557.9\" font-family=\"Times New Roman,serif\" font-size=\"14.00\">&#39;q&#39; → &#39;Q&#39;</text>\n</g>\n<!-- 0&#45;&gt;4 -->\n<g id=\"edge4\" class=\"edge\">\n<title>0&#45;&gt;4</title>\n<path fill=\"none\" stroke=\"black\" d=\"M153.13,-616.36C159.41,-607.74 167.26,-596.96 174.28,-587.33\"/>\n<polygon fill=\"black\" stroke=\"black\" points=\"177.12,-589.38 180.18,-579.23 171.46,-585.25 177.12,-589.38\"/>\n</g>\n<!-- 2 -->\n<g id=\"node3\" class=\"node\">\n<title>2</title>\n<ellipse fill=\"black\" stroke=\"black\" cx=\"80.3\" cy=\"-489.6\" rx=\"1.8\" ry=\"1.8\"/>\n</g>\n<!-- 1&#45;&gt;2 -->\n<g id=\"edge2\" class=\"edge\">\n<title>1&#45;&gt;2</title>\n<path fill=\"none\" stroke=\"black\" d=\"M88.58,-543.3C86.52,-530.23 83.77,-512.71 82.01,-501.53\"/>\n<polygon fill=\"black\" stroke=\"black\" points=\"85.43,-500.74 80.42,-491.41 78.52,-501.83 85.43,-500.74\"/>\n</g>\n<!-- 3 -->\n<g id=\"node4\" class=\"node\">\n<title>3</title>\n<ellipse fill=\"black\" stroke=\"black\" cx=\"102.3\" cy=\"-489.6\" rx=\"1.8\" ry=\"1.8\"/>\n</g>\n<!-- 1&#45;&gt;3 -->\n<g id=\"edge3\" class=\"edge\">\n<title>1&#45;&gt;3</title>\n<path fill=\"none\" stroke=\"black\" d=\"M94.02,-543.3C96.07,-530.23 98.82,-512.71 100.58,-501.53\"/>\n<polygon fill=\"black\" stroke=\"black\" points=\"104.07,-501.83 102.17,-491.41 97.16,-500.74 104.07,-501.83\"/>\n</g>\n<!-- 5 -->\n<g id=\"node6\" class=\"node\">\n<title>5</title>\n<ellipse fill=\"none\" stroke=\"black\" cx=\"177.3\" cy=\"-489.6\" rx=\"41.69\" ry=\"18\"/>\n<text text-anchor=\"middle\" x=\"177.3\" y=\"-485.9\" font-family=\"Times New Roman,serif\" font-size=\"14.00\">&#39;d&#39; → &#39;D&#39;</text>\n</g>\n<!-- 4&#45;&gt;5 -->\n<g id=\"edge5\" class=\"edge\">\n<title>4&#45;&gt;5</title>\n<path fill=\"none\" stroke=\"black\" d=\"M188.67,-543.65C187,-535.86 184.97,-526.42 183.1,-517.68\"/>\n<polygon fill=\"black\" stroke=\"black\" points=\"186.52,-516.92 181,-507.88 179.67,-518.39 186.52,-516.92\"/>\n</g>\n<!-- 34 -->\n<g id=\"node35\" class=\"node\">\n<title>34</title>\n<ellipse fill=\"none\" stroke=\"black\" cx=\"303.3\" cy=\"-489.6\" rx=\"38.19\" ry=\"18\"/>\n<text text-anchor=\"middle\" x=\"303.3\" y=\"-485.9\" font-family=\"Times New Roman,serif\" font-size=\"14.00\">&#39;t&#39; → &#39;T&#39;</text>\n</g>\n<!-- 4&#45;&gt;34 -->\n<g id=\"edge34\" class=\"edge\">\n<title>4&#45;&gt;34</title>\n<path fill=\"none\" stroke=\"black\" d=\"M214.76,-546.43C231.42,-535.93 254.32,-521.49 272.66,-509.92\"/>\n<polygon fill=\"black\" stroke=\"black\" points=\"274.65,-512.8 281.25,-504.51 270.92,-506.88 274.65,-512.8\"/>\n</g>\n<!-- 6 -->\n<g id=\"node7\" class=\"node\">\n<title>6</title>\n<ellipse fill=\"none\" stroke=\"black\" cx=\"40.3\" cy=\"-417.6\" rx=\"40.09\" ry=\"18\"/>\n<text text-anchor=\"middle\" x=\"40.3\" y=\"-413.9\" font-family=\"Times New Roman,serif\" font-size=\"14.00\">&#39;c&#39; → &#39;C&#39;</text>\n</g>\n<!-- 5&#45;&gt;6 -->\n<g id=\"edge6\" class=\"edge\">\n<title>5&#45;&gt;6</title>\n<path fill=\"none\" stroke=\"black\" d=\"M151.53,-475.43C129.9,-464.39 98.82,-448.5 75.01,-436.34\"/>\n<polygon fill=\"black\" stroke=\"black\" points=\"76.45,-433.14 65.95,-431.71 73.26,-439.37 76.45,-433.14\"/>\n</g>\n<!-- 9 -->\n<g id=\"node10\" class=\"node\">\n<title>9</title>\n<ellipse fill=\"none\" stroke=\"black\" cx=\"177.3\" cy=\"-417.6\" rx=\"41.69\" ry=\"18\"/>\n<text text-anchor=\"middle\" x=\"177.3\" y=\"-413.9\" font-family=\"Times New Roman,serif\" font-size=\"14.00\">&#39;g&#39; → &#39;G&#39;</text>\n</g>\n<!-- 5&#45;&gt;9 -->\n<g id=\"edge9\" class=\"edge\">\n<title>5&#45;&gt;9</title>\n<path fill=\"none\" stroke=\"black\" d=\"M177.3,-471.3C177.3,-463.58 177.3,-454.31 177.3,-445.71\"/>\n<polygon fill=\"black\" stroke=\"black\" points=\"180.8,-445.7 177.3,-435.7 173.8,-445.7 180.8,-445.7\"/>\n</g>\n<!-- 7 -->\n<g id=\"node8\" class=\"node\">\n<title>7</title>\n<ellipse fill=\"black\" stroke=\"black\" cx=\"18.3\" cy=\"-345.6\" rx=\"1.8\" ry=\"1.8\"/>\n</g>\n<!-- 6&#45;&gt;7 -->\n<g id=\"edge7\" class=\"edge\">\n<title>6&#45;&gt;7</title>\n<path fill=\"none\" stroke=\"black\" d=\"M34.97,-399.65C30.82,-386.45 25.19,-368.53 21.65,-357.27\"/>\n<polygon fill=\"black\" stroke=\"black\" points=\"24.89,-355.91 18.55,-347.42 18.21,-358.01 24.89,-355.91\"/>\n</g>\n<!-- 8 -->\n<g id=\"node9\" class=\"node\">\n<title>8</title>\n<ellipse fill=\"black\" stroke=\"black\" cx=\"40.3\" cy=\"-345.6\" rx=\"1.8\" ry=\"1.8\"/>\n</g>\n<!-- 6&#45;&gt;8 -->\n<g id=\"edge8\" class=\"edge\">\n<title>6&#45;&gt;8</title>\n<path fill=\"none\" stroke=\"black\" d=\"M40.3,-399.3C40.3,-386.23 40.3,-368.71 40.3,-357.53\"/>\n<polygon fill=\"black\" stroke=\"black\" points=\"43.8,-357.41 40.3,-347.41 36.8,-357.41 43.8,-357.41\"/>\n</g>\n<!-- 10 -->\n<g id=\"node11\" class=\"node\">\n<title>10</title>\n<ellipse fill=\"none\" stroke=\"black\" cx=\"98.3\" cy=\"-345.6\" rx=\"38.19\" ry=\"18\"/>\n<text text-anchor=\"middle\" x=\"98.3\" y=\"-341.9\" font-family=\"Times New Roman,serif\" font-size=\"14.00\">&#39;f&#39; → &#39;F&#39;</text>\n</g>\n<!-- 9&#45;&gt;10 -->\n<g id=\"edge10\" class=\"edge\">\n<title>9&#45;&gt;10</title>\n<path fill=\"none\" stroke=\"black\" d=\"M159.76,-401.06C149.05,-391.57 135.18,-379.28 123.33,-368.78\"/>\n<polygon fill=\"black\" stroke=\"black\" points=\"125.31,-365.86 115.51,-361.85 120.67,-371.1 125.31,-365.86\"/>\n</g>\n<!-- 15 -->\n<g id=\"node16\" class=\"node\">\n<title>15</title>\n<ellipse fill=\"none\" stroke=\"black\" cx=\"195.3\" cy=\"-345.6\" rx=\"40.09\" ry=\"18\"/>\n<text text-anchor=\"middle\" x=\"195.3\" y=\"-341.9\" font-family=\"Times New Roman,serif\" font-size=\"14.00\">&#39;p&#39; → &#39;P&#39;</text>\n</g>\n<!-- 9&#45;&gt;15 -->\n<g id=\"edge15\" class=\"edge\">\n<title>9&#45;&gt;15</title>\n<path fill=\"none\" stroke=\"black\" d=\"M181.65,-399.65C183.66,-391.86 186.09,-382.42 188.33,-373.68\"/>\n<polygon fill=\"black\" stroke=\"black\" points=\"191.75,-374.43 190.85,-363.88 184.97,-372.69 191.75,-374.43\"/>\n</g>\n<!-- 11 -->\n<g id=\"node12\" class=\"node\">\n<title>11</title>\n<ellipse fill=\"none\" stroke=\"black\" cx=\"50.3\" cy=\"-273.6\" rx=\"40.09\" ry=\"18\"/>\n<text text-anchor=\"middle\" x=\"50.3\" y=\"-269.9\" font-family=\"Times New Roman,serif\" font-size=\"14.00\">&#39;e&#39; → &#39;E&#39;</text>\n</g>\n<!-- 10&#45;&gt;11 -->\n<g id=\"edge11\" class=\"edge\">\n<title>10&#45;&gt;11</title>\n<path fill=\"none\" stroke=\"black\" d=\"M87.16,-328.36C81.31,-319.83 74.01,-309.18 67.45,-299.62\"/>\n<polygon fill=\"black\" stroke=\"black\" points=\"70.24,-297.5 61.7,-291.23 64.47,-301.46 70.24,-297.5\"/>\n</g>\n<!-- 14 -->\n<g id=\"node15\" class=\"node\">\n<title>14</title>\n<ellipse fill=\"black\" stroke=\"black\" cx=\"110.3\" cy=\"-273.6\" rx=\"1.8\" ry=\"1.8\"/>\n</g>\n<!-- 10&#45;&gt;14 -->\n<g id=\"edge14\" class=\"edge\">\n<title>10&#45;&gt;14</title>\n<path fill=\"none\" stroke=\"black\" d=\"M101.26,-327.3C103.5,-314.23 106.51,-296.71 108.42,-285.53\"/>\n<polygon fill=\"black\" stroke=\"black\" points=\"111.92,-285.85 110.16,-275.41 105.02,-284.67 111.92,-285.85\"/>\n</g>\n<!-- 12 -->\n<g id=\"node13\" class=\"node\">\n<title>12</title>\n<ellipse fill=\"black\" stroke=\"black\" cx=\"39.3\" cy=\"-201.6\" rx=\"1.8\" ry=\"1.8\"/>\n</g>\n<!-- 11&#45;&gt;12 -->\n<g id=\"edge12\" class=\"edge\">\n<title>11&#45;&gt;12</title>\n<path fill=\"none\" stroke=\"black\" d=\"M47.58,-255.3C45.52,-242.23 42.77,-224.71 41.01,-213.53\"/>\n<polygon fill=\"black\" stroke=\"black\" points=\"44.43,-212.74 39.42,-203.41 37.52,-213.83 44.43,-212.74\"/>\n</g>\n<!-- 13 -->\n<g id=\"node14\" class=\"node\">\n<title>13</title>\n<ellipse fill=\"black\" stroke=\"black\" cx=\"61.3\" cy=\"-201.6\" rx=\"1.8\" ry=\"1.8\"/>\n</g>\n<!-- 11&#45;&gt;13 -->\n<g id=\"edge13\" class=\"edge\">\n<title>11&#45;&gt;13</title>\n<path fill=\"none\" stroke=\"black\" d=\"M53.02,-255.3C55.07,-242.23 57.82,-224.71 59.58,-213.53\"/>\n<polygon fill=\"black\" stroke=\"black\" points=\"63.07,-213.83 61.17,-203.41 56.16,-212.74 63.07,-213.83\"/>\n</g>\n<!-- 16 -->\n<g id=\"node17\" class=\"node\">\n<title>16</title>\n<ellipse fill=\"none\" stroke=\"black\" cx=\"186.3\" cy=\"-273.6\" rx=\"36.29\" ry=\"18\"/>\n<text text-anchor=\"middle\" x=\"186.3\" y=\"-269.9\" font-family=\"Times New Roman,serif\" font-size=\"14.00\">&#39;j&#39; → &#39;J&#39;</text>\n</g>\n<!-- 15&#45;&gt;16 -->\n<g id=\"edge16\" class=\"edge\">\n<title>15&#45;&gt;16</title>\n<path fill=\"none\" stroke=\"black\" d=\"M193.07,-327.3C192.08,-319.58 190.89,-310.31 189.78,-301.71\"/>\n<polygon fill=\"black\" stroke=\"black\" points=\"193.24,-301.18 188.5,-291.7 186.3,-302.07 193.24,-301.18\"/>\n</g>\n<!-- 33 -->\n<g id=\"node34\" class=\"node\">\n<title>33</title>\n<ellipse fill=\"black\" stroke=\"black\" cx=\"242.3\" cy=\"-273.6\" rx=\"1.8\" ry=\"1.8\"/>\n</g>\n<!-- 15&#45;&gt;33 -->\n<g id=\"edge33\" class=\"edge\">\n<title>15&#45;&gt;33</title>\n<path fill=\"none\" stroke=\"black\" d=\"M206.74,-327.96C213.86,-317.55 223.18,-303.84 231.3,-291.6 232.87,-289.22 234.56,-286.64 236.12,-284.22\"/>\n<polygon fill=\"black\" stroke=\"black\" points=\"239.25,-285.83 241.71,-275.53 233.36,-282.05 239.25,-285.83\"/>\n</g>\n<!-- 17 -->\n<g id=\"node18\" class=\"node\">\n<title>17</title>\n<ellipse fill=\"none\" stroke=\"black\" cx=\"132.3\" cy=\"-201.6\" rx=\"41.69\" ry=\"18\"/>\n<text text-anchor=\"middle\" x=\"132.3\" y=\"-197.9\" font-family=\"Times New Roman,serif\" font-size=\"14.00\">&#39;h&#39; → &#39;H&#39;</text>\n</g>\n<!-- 16&#45;&gt;17 -->\n<g id=\"edge17\" class=\"edge\">\n<title>16&#45;&gt;17</title>\n<path fill=\"none\" stroke=\"black\" d=\"M173.77,-256.36C167.12,-247.74 158.81,-236.96 151.37,-227.33\"/>\n<polygon fill=\"black\" stroke=\"black\" points=\"154.01,-225.01 145.13,-219.23 148.46,-229.29 154.01,-225.01\"/>\n</g>\n<!-- 22 -->\n<g id=\"node23\" class=\"node\">\n<title>22</title>\n<ellipse fill=\"none\" stroke=\"black\" cx=\"250.3\" cy=\"-201.6\" rx=\"41.69\" ry=\"18\"/>\n<text text-anchor=\"middle\" x=\"250.3\" y=\"-197.9\" font-family=\"Times New Roman,serif\" font-size=\"14.00\">&#39;n&#39; → &#39;N&#39;</text>\n</g>\n<!-- 16&#45;&gt;22 -->\n<g id=\"edge22\" class=\"edge\">\n<title>16&#45;&gt;22</title>\n<path fill=\"none\" stroke=\"black\" d=\"M200.82,-256.72C208.97,-247.8 219.3,-236.51 228.41,-226.54\"/>\n<polygon fill=\"black\" stroke=\"black\" points=\"231.22,-228.65 235.39,-218.91 226.06,-223.93 231.22,-228.65\"/>\n</g>\n<!-- 18 -->\n<g id=\"node19\" class=\"node\">\n<title>18</title>\n<ellipse fill=\"black\" stroke=\"black\" cx=\"76.3\" cy=\"-129.6\" rx=\"1.8\" ry=\"1.8\"/>\n</g>\n<!-- 17&#45;&gt;18 -->\n<g id=\"edge18\" class=\"edge\">\n<title>17&#45;&gt;18</title>\n<path fill=\"none\" stroke=\"black\" d=\"M117.54,-184.34C108.47,-174.08 96.8,-160.39 87.3,-147.6 85.59,-145.31 83.86,-142.76 82.29,-140.35\"/>\n<polygon fill=\"black\" stroke=\"black\" points=\"85.09,-138.21 76.85,-131.55 79.14,-141.9 85.09,-138.21\"/>\n</g>\n<!-- 19 -->\n<g id=\"node20\" class=\"node\">\n<title>19</title>\n<ellipse fill=\"none\" stroke=\"black\" cx=\"132.3\" cy=\"-129.6\" rx=\"36.29\" ry=\"18\"/>\n<text text-anchor=\"middle\" x=\"132.3\" y=\"-125.9\" font-family=\"Times New Roman,serif\" font-size=\"14.00\">&#39;i&#39; → &#39;I&#39;</text>\n</g>\n<!-- 17&#45;&gt;19 -->\n<g id=\"edge19\" class=\"edge\">\n<title>17&#45;&gt;19</title>\n<path fill=\"none\" stroke=\"black\" d=\"M132.3,-183.3C132.3,-175.58 132.3,-166.31 132.3,-157.71\"/>\n<polygon fill=\"black\" stroke=\"black\" points=\"135.8,-157.7 132.3,-147.7 128.8,-157.7 135.8,-157.7\"/>\n</g>\n<!-- 20 -->\n<g id=\"node21\" class=\"node\">\n<title>20</title>\n<ellipse fill=\"black\" stroke=\"black\" cx=\"110.3\" cy=\"-57.6\" rx=\"1.8\" ry=\"1.8\"/>\n</g>\n<!-- 19&#45;&gt;20 -->\n<g id=\"edge20\" class=\"edge\">\n<title>19&#45;&gt;20</title>\n<path fill=\"none\" stroke=\"black\" d=\"M126.97,-111.65C122.82,-98.45 117.19,-80.53 113.65,-69.27\"/>\n<polygon fill=\"black\" stroke=\"black\" points=\"116.89,-67.91 110.55,-59.42 110.21,-70.01 116.89,-67.91\"/>\n</g>\n<!-- 21 -->\n<g id=\"node22\" class=\"node\">\n<title>21</title>\n<ellipse fill=\"black\" stroke=\"black\" cx=\"132.3\" cy=\"-57.6\" rx=\"1.8\" ry=\"1.8\"/>\n</g>\n<!-- 19&#45;&gt;21 -->\n<g id=\"edge21\" class=\"edge\">\n<title>19&#45;&gt;21</title>\n<path fill=\"none\" stroke=\"black\" d=\"M132.3,-111.3C132.3,-98.23 132.3,-80.71 132.3,-69.53\"/>\n<polygon fill=\"black\" stroke=\"black\" points=\"135.8,-69.41 132.3,-59.41 128.8,-69.41 135.8,-69.41\"/>\n</g>\n<!-- 23 -->\n<g id=\"node24\" class=\"node\">\n<title>23</title>\n<ellipse fill=\"none\" stroke=\"black\" cx=\"250.3\" cy=\"-129.6\" rx=\"38.19\" ry=\"18\"/>\n<text text-anchor=\"middle\" x=\"250.3\" y=\"-125.9\" font-family=\"Times New Roman,serif\" font-size=\"14.00\">&#39;l&#39; → &#39;L&#39;</text>\n</g>\n<!-- 22&#45;&gt;23 -->\n<g id=\"edge23\" class=\"edge\">\n<title>22&#45;&gt;23</title>\n<path fill=\"none\" stroke=\"black\" d=\"M250.3,-183.3C250.3,-175.58 250.3,-166.31 250.3,-157.71\"/>\n<polygon fill=\"black\" stroke=\"black\" points=\"253.8,-157.7 250.3,-147.7 246.8,-157.7 253.8,-157.7\"/>\n</g>\n<!-- 30 -->\n<g id=\"node31\" class=\"node\">\n<title>30</title>\n<ellipse fill=\"none\" stroke=\"black\" cx=\"365.3\" cy=\"-129.6\" rx=\"41.69\" ry=\"18\"/>\n<text text-anchor=\"middle\" x=\"365.3\" y=\"-125.9\" font-family=\"Times New Roman,serif\" font-size=\"14.00\">&#39;o&#39; → &#39;O&#39;</text>\n</g>\n<!-- 22&#45;&gt;30 -->\n<g id=\"edge30\" class=\"edge\">\n<title>22&#45;&gt;30</title>\n<path fill=\"none\" stroke=\"black\" d=\"M273.57,-186.43C290.79,-175.95 314.46,-161.54 333.44,-149.99\"/>\n<polygon fill=\"black\" stroke=\"black\" points=\"335.34,-152.93 342.06,-144.74 331.7,-146.95 335.34,-152.93\"/>\n</g>\n<!-- 24 -->\n<g id=\"node25\" class=\"node\">\n<title>24</title>\n<ellipse fill=\"none\" stroke=\"black\" cx=\"193.3\" cy=\"-57.6\" rx=\"41.69\" ry=\"18\"/>\n<text text-anchor=\"middle\" x=\"193.3\" y=\"-53.9\" font-family=\"Times New Roman,serif\" font-size=\"14.00\">&#39;k&#39; → &#39;K&#39;</text>\n</g>\n<!-- 23&#45;&gt;24 -->\n<g id=\"edge24\" class=\"edge\">\n<title>23&#45;&gt;24</title>\n<path fill=\"none\" stroke=\"black\" d=\"M237.08,-112.36C229.88,-103.53 220.84,-92.43 212.85,-82.61\"/>\n<polygon fill=\"black\" stroke=\"black\" points=\"215.47,-80.29 206.44,-74.75 210.05,-84.71 215.47,-80.29\"/>\n</g>\n<!-- 27 -->\n<g id=\"node28\" class=\"node\">\n<title>27</title>\n<ellipse fill=\"none\" stroke=\"black\" cx=\"299.3\" cy=\"-57.6\" rx=\"46.29\" ry=\"18\"/>\n<text text-anchor=\"middle\" x=\"299.3\" y=\"-53.9\" font-family=\"Times New Roman,serif\" font-size=\"14.00\">&#39;m&#39; → &#39;M&#39;</text>\n</g>\n<!-- 23&#45;&gt;27 -->\n<g id=\"edge27\" class=\"edge\">\n<title>23&#45;&gt;27</title>\n<path fill=\"none\" stroke=\"black\" d=\"M261.66,-112.36C267.64,-103.83 275.09,-93.18 281.78,-83.62\"/>\n<polygon fill=\"black\" stroke=\"black\" points=\"284.79,-85.43 287.65,-75.23 279.05,-81.42 284.79,-85.43\"/>\n</g>\n<!-- 25 -->\n<g id=\"node26\" class=\"node\">\n<title>25</title>\n<ellipse fill=\"black\" stroke=\"black\" cx=\"182.3\" cy=\"-1.8\" rx=\"1.8\" ry=\"1.8\"/>\n</g>\n<!-- 24&#45;&gt;25 -->\n<g id=\"edge25\" class=\"edge\">\n<title>24&#45;&gt;25</title>\n<path fill=\"none\" stroke=\"black\" d=\"M189.82,-39.58C188.08,-31.07 186.02,-21.02 184.5,-13.58\"/>\n<polygon fill=\"black\" stroke=\"black\" points=\"187.92,-12.83 182.49,-3.73 181.06,-14.23 187.92,-12.83\"/>\n</g>\n<!-- 26 -->\n<g id=\"node27\" class=\"node\">\n<title>26</title>\n<ellipse fill=\"black\" stroke=\"black\" cx=\"204.3\" cy=\"-1.8\" rx=\"1.8\" ry=\"1.8\"/>\n</g>\n<!-- 24&#45;&gt;26 -->\n<g id=\"edge26\" class=\"edge\">\n<title>24&#45;&gt;26</title>\n<path fill=\"none\" stroke=\"black\" d=\"M196.78,-39.58C198.52,-31.07 200.57,-21.02 202.09,-13.58\"/>\n<polygon fill=\"black\" stroke=\"black\" points=\"205.53,-14.23 204.11,-3.73 198.67,-12.83 205.53,-14.23\"/>\n</g>\n<!-- 28 -->\n<g id=\"node29\" class=\"node\">\n<title>28</title>\n<ellipse fill=\"black\" stroke=\"black\" cx=\"288.3\" cy=\"-1.8\" rx=\"1.8\" ry=\"1.8\"/>\n</g>\n<!-- 27&#45;&gt;28 -->\n<g id=\"edge28\" class=\"edge\">\n<title>27&#45;&gt;28</title>\n<path fill=\"none\" stroke=\"black\" d=\"M295.82,-39.58C294.08,-31.07 292.02,-21.02 290.5,-13.58\"/>\n<polygon fill=\"black\" stroke=\"black\" points=\"293.92,-12.83 288.49,-3.73 287.06,-14.23 293.92,-12.83\"/>\n</g>\n<!-- 29 -->\n<g id=\"node30\" class=\"node\">\n<title>29</title>\n<ellipse fill=\"black\" stroke=\"black\" cx=\"310.3\" cy=\"-1.8\" rx=\"1.8\" ry=\"1.8\"/>\n</g>\n<!-- 27&#45;&gt;29 -->\n<g id=\"edge29\" class=\"edge\">\n<title>27&#45;&gt;29</title>\n<path fill=\"none\" stroke=\"black\" d=\"M302.78,-39.58C304.52,-31.07 306.57,-21.02 308.09,-13.58\"/>\n<polygon fill=\"black\" stroke=\"black\" points=\"311.53,-14.23 310.11,-3.73 304.67,-12.83 311.53,-14.23\"/>\n</g>\n<!-- 31 -->\n<g id=\"node32\" class=\"node\">\n<title>31</title>\n<ellipse fill=\"black\" stroke=\"black\" cx=\"365.3\" cy=\"-57.6\" rx=\"1.8\" ry=\"1.8\"/>\n</g>\n<!-- 30&#45;&gt;31 -->\n<g id=\"edge31\" class=\"edge\">\n<title>30&#45;&gt;31</title>\n<path fill=\"none\" stroke=\"black\" d=\"M365.3,-111.3C365.3,-98.23 365.3,-80.71 365.3,-69.53\"/>\n<polygon fill=\"black\" stroke=\"black\" points=\"368.8,-69.41 365.3,-59.41 361.8,-69.41 368.8,-69.41\"/>\n</g>\n<!-- 32 -->\n<g id=\"node33\" class=\"node\">\n<title>32</title>\n<ellipse fill=\"black\" stroke=\"black\" cx=\"387.3\" cy=\"-57.6\" rx=\"1.8\" ry=\"1.8\"/>\n</g>\n<!-- 30&#45;&gt;32 -->\n<g id=\"edge32\" class=\"edge\">\n<title>30&#45;&gt;32</title>\n<path fill=\"none\" stroke=\"black\" d=\"M370.62,-111.65C374.77,-98.45 380.4,-80.53 383.94,-69.27\"/>\n<polygon fill=\"black\" stroke=\"black\" points=\"387.38,-70.01 387.04,-59.42 380.7,-67.91 387.38,-70.01\"/>\n</g>\n<!-- 35 -->\n<g id=\"node36\" class=\"node\">\n<title>35</title>\n<ellipse fill=\"none\" stroke=\"black\" cx=\"303.3\" cy=\"-417.6\" rx=\"38.99\" ry=\"18\"/>\n<text text-anchor=\"middle\" x=\"303.3\" y=\"-413.9\" font-family=\"Times New Roman,serif\" font-size=\"14.00\">&#39;s&#39; → &#39;S&#39;</text>\n</g>\n<!-- 34&#45;&gt;35 -->\n<g id=\"edge35\" class=\"edge\">\n<title>34&#45;&gt;35</title>\n<path fill=\"none\" stroke=\"black\" d=\"M303.3,-471.3C303.3,-463.58 303.3,-454.31 303.3,-445.71\"/>\n<polygon fill=\"black\" stroke=\"black\" points=\"306.8,-445.7 303.3,-435.7 299.8,-445.7 306.8,-445.7\"/>\n</g>\n<!-- 40 -->\n<g id=\"node41\" class=\"node\">\n<title>40</title>\n<ellipse fill=\"none\" stroke=\"black\" cx=\"413.3\" cy=\"-417.6\" rx=\"41.69\" ry=\"18\"/>\n<text text-anchor=\"middle\" x=\"413.3\" y=\"-413.9\" font-family=\"Times New Roman,serif\" font-size=\"14.00\">&#39;v&#39; → &#39;V&#39;</text>\n</g>\n<!-- 34&#45;&gt;40 -->\n<g id=\"edge40\" class=\"edge\">\n<title>34&#45;&gt;40</title>\n<path fill=\"none\" stroke=\"black\" d=\"M325.29,-474.6C341.67,-464.18 364.25,-449.81 382.43,-438.24\"/>\n<polygon fill=\"black\" stroke=\"black\" points=\"384.4,-441.13 390.96,-432.81 380.65,-435.23 384.4,-441.13\"/>\n</g>\n<!-- 36 -->\n<g id=\"node37\" class=\"node\">\n<title>36</title>\n<ellipse fill=\"none\" stroke=\"black\" cx=\"293.3\" cy=\"-345.6\" rx=\"39.79\" ry=\"18\"/>\n<text text-anchor=\"middle\" x=\"293.3\" y=\"-341.9\" font-family=\"Times New Roman,serif\" font-size=\"14.00\">&#39;r&#39; → &#39;R&#39;</text>\n</g>\n<!-- 35&#45;&gt;36 -->\n<g id=\"edge36\" class=\"edge\">\n<title>35&#45;&gt;36</title>\n<path fill=\"none\" stroke=\"black\" d=\"M300.82,-399.3C299.72,-391.58 298.4,-382.31 297.17,-373.71\"/>\n<polygon fill=\"black\" stroke=\"black\" points=\"300.62,-373.11 295.74,-363.7 293.69,-374.1 300.62,-373.11\"/>\n</g>\n<!-- 39 -->\n<g id=\"node40\" class=\"node\">\n<title>39</title>\n<ellipse fill=\"black\" stroke=\"black\" cx=\"352.3\" cy=\"-345.6\" rx=\"1.8\" ry=\"1.8\"/>\n</g>\n<!-- 35&#45;&gt;39 -->\n<g id=\"edge39\" class=\"edge\">\n<title>35&#45;&gt;39</title>\n<path fill=\"none\" stroke=\"black\" d=\"M316.04,-400.2C323.88,-389.89 333.99,-376.19 342.3,-363.6 343.83,-361.28 345.39,-358.72 346.82,-356.3\"/>\n<polygon fill=\"black\" stroke=\"black\" points=\"349.9,-357.97 351.79,-347.54 343.81,-354.51 349.9,-357.97\"/>\n</g>\n<!-- 37 -->\n<g id=\"node38\" class=\"node\">\n<title>37</title>\n<ellipse fill=\"black\" stroke=\"black\" cx=\"283.3\" cy=\"-273.6\" rx=\"1.8\" ry=\"1.8\"/>\n</g>\n<!-- 36&#45;&gt;37 -->\n<g id=\"edge37\" class=\"edge\">\n<title>36&#45;&gt;37</title>\n<path fill=\"none\" stroke=\"black\" d=\"M290.82,-327.3C288.96,-314.23 286.46,-296.71 284.86,-285.53\"/>\n<polygon fill=\"black\" stroke=\"black\" points=\"288.29,-284.81 283.41,-275.41 281.36,-285.8 288.29,-284.81\"/>\n</g>\n<!-- 38 -->\n<g id=\"node39\" class=\"node\">\n<title>38</title>\n<ellipse fill=\"black\" stroke=\"black\" cx=\"305.3\" cy=\"-273.6\" rx=\"1.8\" ry=\"1.8\"/>\n</g>\n<!-- 36&#45;&gt;38 -->\n<g id=\"edge38\" class=\"edge\">\n<title>36&#45;&gt;38</title>\n<path fill=\"none\" stroke=\"black\" d=\"M296.26,-327.3C298.5,-314.23 301.51,-296.71 303.42,-285.53\"/>\n<polygon fill=\"black\" stroke=\"black\" points=\"306.92,-285.85 305.16,-275.41 300.02,-284.67 306.92,-285.85\"/>\n</g>\n<!-- 41 -->\n<g id=\"node42\" class=\"node\">\n<title>41</title>\n<ellipse fill=\"none\" stroke=\"black\" cx=\"413.3\" cy=\"-345.6\" rx=\"41.69\" ry=\"18\"/>\n<text text-anchor=\"middle\" x=\"413.3\" y=\"-341.9\" font-family=\"Times New Roman,serif\" font-size=\"14.00\">&#39;u&#39; → &#39;U&#39;</text>\n</g>\n<!-- 40&#45;&gt;41 -->\n<g id=\"edge41\" class=\"edge\">\n<title>40&#45;&gt;41</title>\n<path fill=\"none\" stroke=\"black\" d=\"M413.3,-399.3C413.3,-391.58 413.3,-382.31 413.3,-373.71\"/>\n<polygon fill=\"black\" stroke=\"black\" points=\"416.8,-373.7 413.3,-363.7 409.8,-373.7 416.8,-373.7\"/>\n</g>\n<!-- 44 -->\n<g id=\"node45\" class=\"node\">\n<title>44</title>\n<ellipse fill=\"none\" stroke=\"black\" cx=\"513.3\" cy=\"-345.6\" rx=\"40.09\" ry=\"18\"/>\n<text text-anchor=\"middle\" x=\"513.3\" y=\"-341.9\" font-family=\"Times New Roman,serif\" font-size=\"14.00\">&#39;z&#39; → &#39;Z&#39;</text>\n</g>\n<!-- 40&#45;&gt;44 -->\n<g id=\"edge44\" class=\"edge\">\n<title>40&#45;&gt;44</title>\n<path fill=\"none\" stroke=\"black\" d=\"M434.5,-401.75C448.92,-391.66 468.18,-378.18 484.05,-367.07\"/>\n<polygon fill=\"black\" stroke=\"black\" points=\"486.28,-369.79 492.46,-361.18 482.26,-364.05 486.28,-369.79\"/>\n</g>\n<!-- 42 -->\n<g id=\"node43\" class=\"node\">\n<title>42</title>\n<ellipse fill=\"black\" stroke=\"black\" cx=\"395.3\" cy=\"-273.6\" rx=\"1.8\" ry=\"1.8\"/>\n</g>\n<!-- 41&#45;&gt;42 -->\n<g id=\"edge42\" class=\"edge\">\n<title>41&#45;&gt;42</title>\n<path fill=\"none\" stroke=\"black\" d=\"M408.94,-327.65C405.54,-314.45 400.94,-296.53 398.04,-285.27\"/>\n<polygon fill=\"black\" stroke=\"black\" points=\"401.39,-284.23 395.51,-275.42 394.61,-285.97 401.39,-284.23\"/>\n</g>\n<!-- 43 -->\n<g id=\"node44\" class=\"node\">\n<title>43</title>\n<ellipse fill=\"black\" stroke=\"black\" cx=\"417.3\" cy=\"-273.6\" rx=\"1.8\" ry=\"1.8\"/>\n</g>\n<!-- 41&#45;&gt;43 -->\n<g id=\"edge43\" class=\"edge\">\n<title>41&#45;&gt;43</title>\n<path fill=\"none\" stroke=\"black\" d=\"M414.29,-327.3C415.03,-314.23 416.03,-296.71 416.67,-285.53\"/>\n<polygon fill=\"black\" stroke=\"black\" points=\"420.17,-285.59 417.25,-275.41 413.19,-285.19 420.17,-285.59\"/>\n</g>\n<!-- 45 -->\n<g id=\"node46\" class=\"node\">\n<title>45</title>\n<ellipse fill=\"none\" stroke=\"black\" cx=\"496.3\" cy=\"-273.6\" rx=\"41.69\" ry=\"18\"/>\n<text text-anchor=\"middle\" x=\"496.3\" y=\"-269.9\" font-family=\"Times New Roman,serif\" font-size=\"14.00\">&#39;y&#39; → &#39;Y&#39;</text>\n</g>\n<!-- 44&#45;&gt;45 -->\n<g id=\"edge45\" class=\"edge\">\n<title>44&#45;&gt;45</title>\n<path fill=\"none\" stroke=\"black\" d=\"M509.18,-327.65C507.29,-319.86 505,-310.42 502.87,-301.68\"/>\n<polygon fill=\"black\" stroke=\"black\" points=\"506.25,-300.77 500.49,-291.88 499.45,-302.42 506.25,-300.77\"/>\n</g>\n<!-- 52 -->\n<g id=\"node53\" class=\"node\">\n<title>52</title>\n<ellipse fill=\"black\" stroke=\"black\" cx=\"557.3\" cy=\"-273.6\" rx=\"1.8\" ry=\"1.8\"/>\n</g>\n<!-- 44&#45;&gt;52 -->\n<g id=\"edge52\" class=\"edge\">\n<title>44&#45;&gt;52</title>\n<path fill=\"none\" stroke=\"black\" d=\"M524.18,-328C530.94,-317.6 539.74,-303.89 547.3,-291.6 548.75,-289.23 550.29,-286.65 551.72,-284.24\"/>\n<polygon fill=\"black\" stroke=\"black\" points=\"554.78,-285.93 556.77,-275.53 548.72,-282.42 554.78,-285.93\"/>\n</g>\n<!-- 46 -->\n<g id=\"node47\" class=\"node\">\n<title>46</title>\n<ellipse fill=\"none\" stroke=\"black\" cx=\"465.3\" cy=\"-201.6\" rx=\"46.29\" ry=\"18\"/>\n<text text-anchor=\"middle\" x=\"465.3\" y=\"-197.9\" font-family=\"Times New Roman,serif\" font-size=\"14.00\">&#39;w&#39; → &#39;W&#39;</text>\n</g>\n<!-- 45&#45;&gt;46 -->\n<g id=\"edge46\" class=\"edge\">\n<title>45&#45;&gt;46</title>\n<path fill=\"none\" stroke=\"black\" d=\"M488.79,-255.65C485.21,-247.57 480.85,-237.72 476.86,-228.71\"/>\n<polygon fill=\"black\" stroke=\"black\" points=\"479.98,-227.12 472.73,-219.39 473.58,-229.95 479.98,-227.12\"/>\n</g>\n<!-- 51 -->\n<g id=\"node52\" class=\"node\">\n<title>51</title>\n<ellipse fill=\"black\" stroke=\"black\" cx=\"531.3\" cy=\"-201.6\" rx=\"1.8\" ry=\"1.8\"/>\n</g>\n<!-- 45&#45;&gt;51 -->\n<g id=\"edge51\" class=\"edge\">\n<title>45&#45;&gt;51</title>\n<path fill=\"none\" stroke=\"black\" d=\"M504.77,-255.65C511.52,-242.16 520.73,-223.74 526.33,-212.53\"/>\n<polygon fill=\"black\" stroke=\"black\" points=\"529.55,-213.93 530.89,-203.42 523.29,-210.8 529.55,-213.93\"/>\n</g>\n<!-- 47 -->\n<g id=\"node48\" class=\"node\">\n<title>47</title>\n<ellipse fill=\"black\" stroke=\"black\" cx=\"435.3\" cy=\"-129.6\" rx=\"1.8\" ry=\"1.8\"/>\n</g>\n<!-- 46&#45;&gt;47 -->\n<g id=\"edge47\" class=\"edge\">\n<title>46&#45;&gt;47</title>\n<path fill=\"none\" stroke=\"black\" d=\"M458.03,-183.65C452.31,-170.31 444.53,-152.14 439.71,-140.9\"/>\n<polygon fill=\"black\" stroke=\"black\" points=\"442.8,-139.23 435.65,-131.42 436.37,-141.99 442.8,-139.23\"/>\n</g>\n<!-- 48 -->\n<g id=\"node49\" class=\"node\">\n<title>48</title>\n<ellipse fill=\"none\" stroke=\"black\" cx=\"496.3\" cy=\"-129.6\" rx=\"41.69\" ry=\"18\"/>\n<text text-anchor=\"middle\" x=\"496.3\" y=\"-125.9\" font-family=\"Times New Roman,serif\" font-size=\"14.00\">&#39;x&#39; → &#39;X&#39;</text>\n</g>\n<!-- 46&#45;&gt;48 -->\n<g id=\"edge48\" class=\"edge\">\n<title>46&#45;&gt;48</title>\n<path fill=\"none\" stroke=\"black\" d=\"M472.8,-183.65C476.38,-175.57 480.74,-165.72 484.73,-156.71\"/>\n<polygon fill=\"black\" stroke=\"black\" points=\"488.01,-157.95 488.86,-147.39 481.61,-155.12 488.01,-157.95\"/>\n</g>\n<!-- 49 -->\n<g id=\"node50\" class=\"node\">\n<title>49</title>\n<ellipse fill=\"black\" stroke=\"black\" cx=\"485.3\" cy=\"-57.6\" rx=\"1.8\" ry=\"1.8\"/>\n</g>\n<!-- 48&#45;&gt;49 -->\n<g id=\"edge49\" class=\"edge\">\n<title>48&#45;&gt;49</title>\n<path fill=\"none\" stroke=\"black\" d=\"M493.58,-111.3C491.52,-98.23 488.77,-80.71 487.01,-69.53\"/>\n<polygon fill=\"black\" stroke=\"black\" points=\"490.43,-68.74 485.42,-59.41 483.52,-69.83 490.43,-68.74\"/>\n</g>\n<!-- 50 -->\n<g id=\"node51\" class=\"node\">\n<title>50</title>\n<ellipse fill=\"black\" stroke=\"black\" cx=\"507.3\" cy=\"-57.6\" rx=\"1.8\" ry=\"1.8\"/>\n</g>\n<!-- 48&#45;&gt;50 -->\n<g id=\"edge50\" class=\"edge\">\n<title>48&#45;&gt;50</title>\n<path fill=\"none\" stroke=\"black\" d=\"M499.02,-111.3C501.07,-98.23 503.82,-80.71 505.58,-69.53\"/>\n<polygon fill=\"black\" stroke=\"black\" points=\"509.07,-69.83 507.17,-59.41 502.16,-68.74 509.07,-69.83\"/>\n</g>\n</g>\n</svg>\n",
      "text/plain": [
       "<graphviz.graphs.Digraph at 0x2a4cb1e55d0>"
      ]
     },
     "execution_count": 27,
     "metadata": {},
     "output_type": "execute_result"
    }
   ],
   "source": [
    "bst.draw()"
   ]
  },
  {
   "cell_type": "code",
   "execution_count": 28,
   "metadata": {},
   "outputs": [],
   "source": [
    "del bst['j']"
   ]
  },
  {
   "cell_type": "code",
   "execution_count": 29,
   "metadata": {},
   "outputs": [
    {
     "data": {
      "image/svg+xml": "<?xml version=\"1.0\" encoding=\"UTF-8\" standalone=\"no\"?>\n<!DOCTYPE svg PUBLIC \"-//W3C//DTD SVG 1.1//EN\"\n \"http://www.w3.org/Graphics/SVG/1.1/DTD/svg11.dtd\">\n<!-- Generated by graphviz version 5.0.0 (0)\n -->\n<!-- Pages: 1 -->\n<svg width=\"562pt\" height=\"660pt\"\n viewBox=\"0.00 0.00 561.59 659.60\" xmlns=\"http://www.w3.org/2000/svg\" xmlns:xlink=\"http://www.w3.org/1999/xlink\">\n<g id=\"graph0\" class=\"graph\" transform=\"scale(1 1) rotate(0) translate(4 655.6)\">\n<polygon fill=\"white\" stroke=\"transparent\" points=\"-4,4 -4,-655.6 557.59,-655.6 557.59,4 -4,4\"/>\n<!-- 0 -->\n<g id=\"node1\" class=\"node\">\n<title>0</title>\n<ellipse fill=\"none\" stroke=\"black\" cx=\"141.3\" cy=\"-633.6\" rx=\"40.89\" ry=\"18\"/>\n<text text-anchor=\"middle\" x=\"141.3\" y=\"-629.9\" font-family=\"Times New Roman,serif\" font-size=\"14.00\">&#39;b&#39; → &#39;B&#39;</text>\n</g>\n<!-- 1 -->\n<g id=\"node2\" class=\"node\">\n<title>1</title>\n<ellipse fill=\"none\" stroke=\"black\" cx=\"91.3\" cy=\"-561.6\" rx=\"40.89\" ry=\"18\"/>\n<text text-anchor=\"middle\" x=\"91.3\" y=\"-557.9\" font-family=\"Times New Roman,serif\" font-size=\"14.00\">&#39;a&#39; → &#39;A&#39;</text>\n</g>\n<!-- 0&#45;&gt;1 -->\n<g id=\"edge1\" class=\"edge\">\n<title>0&#45;&gt;1</title>\n<path fill=\"none\" stroke=\"black\" d=\"M129.45,-616.01C123.34,-607.47 115.78,-596.88 109,-587.39\"/>\n<polygon fill=\"black\" stroke=\"black\" points=\"111.72,-585.17 103.06,-579.07 106.03,-589.24 111.72,-585.17\"/>\n</g>\n<!-- 4 -->\n<g id=\"node5\" class=\"node\">\n<title>4</title>\n<ellipse fill=\"none\" stroke=\"black\" cx=\"192.3\" cy=\"-561.6\" rx=\"41.69\" ry=\"18\"/>\n<text text-anchor=\"middle\" x=\"192.3\" y=\"-557.9\" font-family=\"Times New Roman,serif\" font-size=\"14.00\">&#39;q&#39; → &#39;Q&#39;</text>\n</g>\n<!-- 0&#45;&gt;4 -->\n<g id=\"edge4\" class=\"edge\">\n<title>0&#45;&gt;4</title>\n<path fill=\"none\" stroke=\"black\" d=\"M153.13,-616.36C159.41,-607.74 167.26,-596.96 174.28,-587.33\"/>\n<polygon fill=\"black\" stroke=\"black\" points=\"177.12,-589.38 180.18,-579.23 171.46,-585.25 177.12,-589.38\"/>\n</g>\n<!-- 2 -->\n<g id=\"node3\" class=\"node\">\n<title>2</title>\n<ellipse fill=\"black\" stroke=\"black\" cx=\"80.3\" cy=\"-489.6\" rx=\"1.8\" ry=\"1.8\"/>\n</g>\n<!-- 1&#45;&gt;2 -->\n<g id=\"edge2\" class=\"edge\">\n<title>1&#45;&gt;2</title>\n<path fill=\"none\" stroke=\"black\" d=\"M88.58,-543.3C86.52,-530.23 83.77,-512.71 82.01,-501.53\"/>\n<polygon fill=\"black\" stroke=\"black\" points=\"85.43,-500.74 80.42,-491.41 78.52,-501.83 85.43,-500.74\"/>\n</g>\n<!-- 3 -->\n<g id=\"node4\" class=\"node\">\n<title>3</title>\n<ellipse fill=\"black\" stroke=\"black\" cx=\"102.3\" cy=\"-489.6\" rx=\"1.8\" ry=\"1.8\"/>\n</g>\n<!-- 1&#45;&gt;3 -->\n<g id=\"edge3\" class=\"edge\">\n<title>1&#45;&gt;3</title>\n<path fill=\"none\" stroke=\"black\" d=\"M94.02,-543.3C96.07,-530.23 98.82,-512.71 100.58,-501.53\"/>\n<polygon fill=\"black\" stroke=\"black\" points=\"104.07,-501.83 102.17,-491.41 97.16,-500.74 104.07,-501.83\"/>\n</g>\n<!-- 5 -->\n<g id=\"node6\" class=\"node\">\n<title>5</title>\n<ellipse fill=\"none\" stroke=\"black\" cx=\"177.3\" cy=\"-489.6\" rx=\"41.69\" ry=\"18\"/>\n<text text-anchor=\"middle\" x=\"177.3\" y=\"-485.9\" font-family=\"Times New Roman,serif\" font-size=\"14.00\">&#39;d&#39; → &#39;D&#39;</text>\n</g>\n<!-- 4&#45;&gt;5 -->\n<g id=\"edge5\" class=\"edge\">\n<title>4&#45;&gt;5</title>\n<path fill=\"none\" stroke=\"black\" d=\"M188.67,-543.65C187,-535.86 184.97,-526.42 183.1,-517.68\"/>\n<polygon fill=\"black\" stroke=\"black\" points=\"186.52,-516.92 181,-507.88 179.67,-518.39 186.52,-516.92\"/>\n</g>\n<!-- 32 -->\n<g id=\"node33\" class=\"node\">\n<title>32</title>\n<ellipse fill=\"none\" stroke=\"black\" cx=\"303.3\" cy=\"-489.6\" rx=\"38.19\" ry=\"18\"/>\n<text text-anchor=\"middle\" x=\"303.3\" y=\"-485.9\" font-family=\"Times New Roman,serif\" font-size=\"14.00\">&#39;t&#39; → &#39;T&#39;</text>\n</g>\n<!-- 4&#45;&gt;32 -->\n<g id=\"edge32\" class=\"edge\">\n<title>4&#45;&gt;32</title>\n<path fill=\"none\" stroke=\"black\" d=\"M214.76,-546.43C231.42,-535.93 254.32,-521.49 272.66,-509.92\"/>\n<polygon fill=\"black\" stroke=\"black\" points=\"274.65,-512.8 281.25,-504.51 270.92,-506.88 274.65,-512.8\"/>\n</g>\n<!-- 6 -->\n<g id=\"node7\" class=\"node\">\n<title>6</title>\n<ellipse fill=\"none\" stroke=\"black\" cx=\"40.3\" cy=\"-417.6\" rx=\"40.09\" ry=\"18\"/>\n<text text-anchor=\"middle\" x=\"40.3\" y=\"-413.9\" font-family=\"Times New Roman,serif\" font-size=\"14.00\">&#39;c&#39; → &#39;C&#39;</text>\n</g>\n<!-- 5&#45;&gt;6 -->\n<g id=\"edge6\" class=\"edge\">\n<title>5&#45;&gt;6</title>\n<path fill=\"none\" stroke=\"black\" d=\"M151.53,-475.43C129.9,-464.39 98.82,-448.5 75.01,-436.34\"/>\n<polygon fill=\"black\" stroke=\"black\" points=\"76.45,-433.14 65.95,-431.71 73.26,-439.37 76.45,-433.14\"/>\n</g>\n<!-- 9 -->\n<g id=\"node10\" class=\"node\">\n<title>9</title>\n<ellipse fill=\"none\" stroke=\"black\" cx=\"177.3\" cy=\"-417.6\" rx=\"41.69\" ry=\"18\"/>\n<text text-anchor=\"middle\" x=\"177.3\" y=\"-413.9\" font-family=\"Times New Roman,serif\" font-size=\"14.00\">&#39;g&#39; → &#39;G&#39;</text>\n</g>\n<!-- 5&#45;&gt;9 -->\n<g id=\"edge9\" class=\"edge\">\n<title>5&#45;&gt;9</title>\n<path fill=\"none\" stroke=\"black\" d=\"M177.3,-471.3C177.3,-463.58 177.3,-454.31 177.3,-445.71\"/>\n<polygon fill=\"black\" stroke=\"black\" points=\"180.8,-445.7 177.3,-435.7 173.8,-445.7 180.8,-445.7\"/>\n</g>\n<!-- 7 -->\n<g id=\"node8\" class=\"node\">\n<title>7</title>\n<ellipse fill=\"black\" stroke=\"black\" cx=\"18.3\" cy=\"-345.6\" rx=\"1.8\" ry=\"1.8\"/>\n</g>\n<!-- 6&#45;&gt;7 -->\n<g id=\"edge7\" class=\"edge\">\n<title>6&#45;&gt;7</title>\n<path fill=\"none\" stroke=\"black\" d=\"M34.97,-399.65C30.82,-386.45 25.19,-368.53 21.65,-357.27\"/>\n<polygon fill=\"black\" stroke=\"black\" points=\"24.89,-355.91 18.55,-347.42 18.21,-358.01 24.89,-355.91\"/>\n</g>\n<!-- 8 -->\n<g id=\"node9\" class=\"node\">\n<title>8</title>\n<ellipse fill=\"black\" stroke=\"black\" cx=\"40.3\" cy=\"-345.6\" rx=\"1.8\" ry=\"1.8\"/>\n</g>\n<!-- 6&#45;&gt;8 -->\n<g id=\"edge8\" class=\"edge\">\n<title>6&#45;&gt;8</title>\n<path fill=\"none\" stroke=\"black\" d=\"M40.3,-399.3C40.3,-386.23 40.3,-368.71 40.3,-357.53\"/>\n<polygon fill=\"black\" stroke=\"black\" points=\"43.8,-357.41 40.3,-347.41 36.8,-357.41 43.8,-357.41\"/>\n</g>\n<!-- 10 -->\n<g id=\"node11\" class=\"node\">\n<title>10</title>\n<ellipse fill=\"none\" stroke=\"black\" cx=\"98.3\" cy=\"-345.6\" rx=\"38.19\" ry=\"18\"/>\n<text text-anchor=\"middle\" x=\"98.3\" y=\"-341.9\" font-family=\"Times New Roman,serif\" font-size=\"14.00\">&#39;f&#39; → &#39;F&#39;</text>\n</g>\n<!-- 9&#45;&gt;10 -->\n<g id=\"edge10\" class=\"edge\">\n<title>9&#45;&gt;10</title>\n<path fill=\"none\" stroke=\"black\" d=\"M159.76,-401.06C149.05,-391.57 135.18,-379.28 123.33,-368.78\"/>\n<polygon fill=\"black\" stroke=\"black\" points=\"125.31,-365.86 115.51,-361.85 120.67,-371.1 125.31,-365.86\"/>\n</g>\n<!-- 15 -->\n<g id=\"node16\" class=\"node\">\n<title>15</title>\n<ellipse fill=\"none\" stroke=\"black\" cx=\"195.3\" cy=\"-345.6\" rx=\"40.09\" ry=\"18\"/>\n<text text-anchor=\"middle\" x=\"195.3\" y=\"-341.9\" font-family=\"Times New Roman,serif\" font-size=\"14.00\">&#39;p&#39; → &#39;P&#39;</text>\n</g>\n<!-- 9&#45;&gt;15 -->\n<g id=\"edge15\" class=\"edge\">\n<title>9&#45;&gt;15</title>\n<path fill=\"none\" stroke=\"black\" d=\"M181.65,-399.65C183.66,-391.86 186.09,-382.42 188.33,-373.68\"/>\n<polygon fill=\"black\" stroke=\"black\" points=\"191.75,-374.43 190.85,-363.88 184.97,-372.69 191.75,-374.43\"/>\n</g>\n<!-- 11 -->\n<g id=\"node12\" class=\"node\">\n<title>11</title>\n<ellipse fill=\"none\" stroke=\"black\" cx=\"65.3\" cy=\"-273.6\" rx=\"40.09\" ry=\"18\"/>\n<text text-anchor=\"middle\" x=\"65.3\" y=\"-269.9\" font-family=\"Times New Roman,serif\" font-size=\"14.00\">&#39;e&#39; → &#39;E&#39;</text>\n</g>\n<!-- 10&#45;&gt;11 -->\n<g id=\"edge11\" class=\"edge\">\n<title>10&#45;&gt;11</title>\n<path fill=\"none\" stroke=\"black\" d=\"M90.31,-327.65C86.5,-319.57 81.85,-309.72 77.61,-300.71\"/>\n<polygon fill=\"black\" stroke=\"black\" points=\"80.64,-298.94 73.21,-291.39 74.31,-301.93 80.64,-298.94\"/>\n</g>\n<!-- 14 -->\n<g id=\"node15\" class=\"node\">\n<title>14</title>\n<ellipse fill=\"black\" stroke=\"black\" cx=\"125.3\" cy=\"-273.6\" rx=\"1.8\" ry=\"1.8\"/>\n</g>\n<!-- 10&#45;&gt;14 -->\n<g id=\"edge14\" class=\"edge\">\n<title>10&#45;&gt;14</title>\n<path fill=\"none\" stroke=\"black\" d=\"M104.83,-327.65C109.98,-314.31 116.99,-296.14 121.32,-284.9\"/>\n<polygon fill=\"black\" stroke=\"black\" points=\"124.65,-286.01 124.98,-275.42 118.12,-283.49 124.65,-286.01\"/>\n</g>\n<!-- 12 -->\n<g id=\"node13\" class=\"node\">\n<title>12</title>\n<ellipse fill=\"black\" stroke=\"black\" cx=\"58.3\" cy=\"-201.6\" rx=\"1.8\" ry=\"1.8\"/>\n</g>\n<!-- 11&#45;&gt;12 -->\n<g id=\"edge12\" class=\"edge\">\n<title>11&#45;&gt;12</title>\n<path fill=\"none\" stroke=\"black\" d=\"M63.57,-255.3C62.26,-242.23 60.51,-224.71 59.39,-213.53\"/>\n<polygon fill=\"black\" stroke=\"black\" points=\"62.85,-213.01 58.38,-203.41 55.89,-213.71 62.85,-213.01\"/>\n</g>\n<!-- 13 -->\n<g id=\"node14\" class=\"node\">\n<title>13</title>\n<ellipse fill=\"black\" stroke=\"black\" cx=\"80.3\" cy=\"-201.6\" rx=\"1.8\" ry=\"1.8\"/>\n</g>\n<!-- 11&#45;&gt;13 -->\n<g id=\"edge13\" class=\"edge\">\n<title>11&#45;&gt;13</title>\n<path fill=\"none\" stroke=\"black\" d=\"M68.93,-255.65C71.76,-242.45 75.6,-224.53 78.01,-213.27\"/>\n<polygon fill=\"black\" stroke=\"black\" points=\"81.45,-213.93 80.12,-203.42 74.6,-212.46 81.45,-213.93\"/>\n</g>\n<!-- 16 -->\n<g id=\"node17\" class=\"node\">\n<title>16</title>\n<ellipse fill=\"none\" stroke=\"black\" cx=\"194.3\" cy=\"-273.6\" rx=\"41.69\" ry=\"18\"/>\n<text text-anchor=\"middle\" x=\"194.3\" y=\"-269.9\" font-family=\"Times New Roman,serif\" font-size=\"14.00\">&#39;k&#39; → &#39;K&#39;</text>\n</g>\n<!-- 15&#45;&gt;16 -->\n<g id=\"edge16\" class=\"edge\">\n<title>15&#45;&gt;16</title>\n<path fill=\"none\" stroke=\"black\" d=\"M195.05,-327.3C194.94,-319.58 194.81,-310.31 194.68,-301.71\"/>\n<polygon fill=\"black\" stroke=\"black\" points=\"198.18,-301.65 194.54,-291.7 191.18,-301.75 198.18,-301.65\"/>\n</g>\n<!-- 31 -->\n<g id=\"node32\" class=\"node\">\n<title>31</title>\n<ellipse fill=\"black\" stroke=\"black\" cx=\"255.3\" cy=\"-273.6\" rx=\"1.8\" ry=\"1.8\"/>\n</g>\n<!-- 15&#45;&gt;31 -->\n<g id=\"edge31\" class=\"edge\">\n<title>15&#45;&gt;31</title>\n<path fill=\"none\" stroke=\"black\" d=\"M212.07,-328.74C222.29,-318.63 235.27,-304.95 245.3,-291.6 246.97,-289.38 248.58,-286.85 250.01,-284.44\"/>\n<polygon fill=\"black\" stroke=\"black\" points=\"253.13,-286.03 254.82,-275.57 246.98,-282.69 253.13,-286.03\"/>\n</g>\n<!-- 17 -->\n<g id=\"node18\" class=\"node\">\n<title>17</title>\n<ellipse fill=\"none\" stroke=\"black\" cx=\"145.3\" cy=\"-201.6\" rx=\"41.69\" ry=\"18\"/>\n<text text-anchor=\"middle\" x=\"145.3\" y=\"-197.9\" font-family=\"Times New Roman,serif\" font-size=\"14.00\">&#39;h&#39; → &#39;H&#39;</text>\n</g>\n<!-- 16&#45;&gt;17 -->\n<g id=\"edge17\" class=\"edge\">\n<title>16&#45;&gt;17</title>\n<path fill=\"none\" stroke=\"black\" d=\"M182.68,-256.01C176.7,-247.47 169.29,-236.88 162.65,-227.39\"/>\n<polygon fill=\"black\" stroke=\"black\" points=\"165.43,-225.26 156.83,-219.07 159.69,-229.27 165.43,-225.26\"/>\n</g>\n<!-- 22 -->\n<g id=\"node23\" class=\"node\">\n<title>22</title>\n<ellipse fill=\"none\" stroke=\"black\" cx=\"246.3\" cy=\"-201.6\" rx=\"41.69\" ry=\"18\"/>\n<text text-anchor=\"middle\" x=\"246.3\" y=\"-197.9\" font-family=\"Times New Roman,serif\" font-size=\"14.00\">&#39;n&#39; → &#39;N&#39;</text>\n</g>\n<!-- 16&#45;&gt;22 -->\n<g id=\"edge22\" class=\"edge\">\n<title>16&#45;&gt;22</title>\n<path fill=\"none\" stroke=\"black\" d=\"M206.36,-256.36C212.76,-247.74 220.77,-236.96 227.93,-227.33\"/>\n<polygon fill=\"black\" stroke=\"black\" points=\"230.79,-229.35 233.94,-219.23 225.17,-225.17 230.79,-229.35\"/>\n</g>\n<!-- 18 -->\n<g id=\"node19\" class=\"node\">\n<title>18</title>\n<ellipse fill=\"black\" stroke=\"black\" cx=\"91.3\" cy=\"-129.6\" rx=\"1.8\" ry=\"1.8\"/>\n</g>\n<!-- 17&#45;&gt;18 -->\n<g id=\"edge18\" class=\"edge\">\n<title>17&#45;&gt;18</title>\n<path fill=\"none\" stroke=\"black\" d=\"M131.27,-184.25C122.63,-173.95 111.49,-160.26 102.3,-147.6 100.62,-145.29 98.9,-142.73 97.33,-140.32\"/>\n<polygon fill=\"black\" stroke=\"black\" points=\"100.12,-138.18 91.86,-131.54 94.18,-141.88 100.12,-138.18\"/>\n</g>\n<!-- 19 -->\n<g id=\"node20\" class=\"node\">\n<title>19</title>\n<ellipse fill=\"none\" stroke=\"black\" cx=\"147.3\" cy=\"-129.6\" rx=\"36.29\" ry=\"18\"/>\n<text text-anchor=\"middle\" x=\"147.3\" y=\"-125.9\" font-family=\"Times New Roman,serif\" font-size=\"14.00\">&#39;i&#39; → &#39;I&#39;</text>\n</g>\n<!-- 17&#45;&gt;19 -->\n<g id=\"edge19\" class=\"edge\">\n<title>17&#45;&gt;19</title>\n<path fill=\"none\" stroke=\"black\" d=\"M145.79,-183.3C146.01,-175.58 146.28,-166.31 146.52,-157.71\"/>\n<polygon fill=\"black\" stroke=\"black\" points=\"150.02,-157.8 146.81,-147.7 143.02,-157.6 150.02,-157.8\"/>\n</g>\n<!-- 20 -->\n<g id=\"node21\" class=\"node\">\n<title>20</title>\n<ellipse fill=\"black\" stroke=\"black\" cx=\"136.3\" cy=\"-57.6\" rx=\"1.8\" ry=\"1.8\"/>\n</g>\n<!-- 19&#45;&gt;20 -->\n<g id=\"edge20\" class=\"edge\">\n<title>19&#45;&gt;20</title>\n<path fill=\"none\" stroke=\"black\" d=\"M144.58,-111.3C142.52,-98.23 139.77,-80.71 138.01,-69.53\"/>\n<polygon fill=\"black\" stroke=\"black\" points=\"141.43,-68.74 136.42,-59.41 134.52,-69.83 141.43,-68.74\"/>\n</g>\n<!-- 21 -->\n<g id=\"node22\" class=\"node\">\n<title>21</title>\n<ellipse fill=\"black\" stroke=\"black\" cx=\"158.3\" cy=\"-57.6\" rx=\"1.8\" ry=\"1.8\"/>\n</g>\n<!-- 19&#45;&gt;21 -->\n<g id=\"edge21\" class=\"edge\">\n<title>19&#45;&gt;21</title>\n<path fill=\"none\" stroke=\"black\" d=\"M150.02,-111.3C152.07,-98.23 154.82,-80.71 156.58,-69.53\"/>\n<polygon fill=\"black\" stroke=\"black\" points=\"160.07,-69.83 158.17,-59.41 153.16,-68.74 160.07,-69.83\"/>\n</g>\n<!-- 23 -->\n<g id=\"node24\" class=\"node\">\n<title>23</title>\n<ellipse fill=\"none\" stroke=\"black\" cx=\"244.3\" cy=\"-129.6\" rx=\"38.19\" ry=\"18\"/>\n<text text-anchor=\"middle\" x=\"244.3\" y=\"-125.9\" font-family=\"Times New Roman,serif\" font-size=\"14.00\">&#39;l&#39; → &#39;L&#39;</text>\n</g>\n<!-- 22&#45;&gt;23 -->\n<g id=\"edge23\" class=\"edge\">\n<title>22&#45;&gt;23</title>\n<path fill=\"none\" stroke=\"black\" d=\"M245.8,-183.3C245.58,-175.58 245.32,-166.31 245.07,-157.71\"/>\n<polygon fill=\"black\" stroke=\"black\" points=\"248.57,-157.6 244.79,-147.7 241.57,-157.8 248.57,-157.6\"/>\n</g>\n<!-- 28 -->\n<g id=\"node29\" class=\"node\">\n<title>28</title>\n<ellipse fill=\"none\" stroke=\"black\" cx=\"342.3\" cy=\"-129.6\" rx=\"41.69\" ry=\"18\"/>\n<text text-anchor=\"middle\" x=\"342.3\" y=\"-125.9\" font-family=\"Times New Roman,serif\" font-size=\"14.00\">&#39;o&#39; → &#39;O&#39;</text>\n</g>\n<!-- 22&#45;&gt;28 -->\n<g id=\"edge28\" class=\"edge\">\n<title>22&#45;&gt;28</title>\n<path fill=\"none\" stroke=\"black\" d=\"M266.66,-185.75C280.27,-175.82 298.4,-162.61 313.49,-151.61\"/>\n<polygon fill=\"black\" stroke=\"black\" points=\"315.95,-154.14 321.97,-145.42 311.82,-148.49 315.95,-154.14\"/>\n</g>\n<!-- 24 -->\n<g id=\"node25\" class=\"node\">\n<title>24</title>\n<ellipse fill=\"black\" stroke=\"black\" cx=\"199.3\" cy=\"-57.6\" rx=\"1.8\" ry=\"1.8\"/>\n</g>\n<!-- 23&#45;&gt;24 -->\n<g id=\"edge24\" class=\"edge\">\n<title>23&#45;&gt;24</title>\n<path fill=\"none\" stroke=\"black\" d=\"M233.63,-112.01C224.78,-98.23 212.5,-79.14 205.28,-67.9\"/>\n<polygon fill=\"black\" stroke=\"black\" points=\"208.18,-65.94 199.83,-59.43 202.29,-69.73 208.18,-65.94\"/>\n</g>\n<!-- 25 -->\n<g id=\"node26\" class=\"node\">\n<title>25</title>\n<ellipse fill=\"none\" stroke=\"black\" cx=\"265.3\" cy=\"-57.6\" rx=\"46.29\" ry=\"18\"/>\n<text text-anchor=\"middle\" x=\"265.3\" y=\"-53.9\" font-family=\"Times New Roman,serif\" font-size=\"14.00\">&#39;m&#39; → &#39;M&#39;</text>\n</g>\n<!-- 23&#45;&gt;25 -->\n<g id=\"edge25\" class=\"edge\">\n<title>23&#45;&gt;25</title>\n<path fill=\"none\" stroke=\"black\" d=\"M249.38,-111.65C251.72,-103.86 254.55,-94.42 257.17,-85.68\"/>\n<polygon fill=\"black\" stroke=\"black\" points=\"260.59,-86.46 260.11,-75.88 253.89,-84.45 260.59,-86.46\"/>\n</g>\n<!-- 26 -->\n<g id=\"node27\" class=\"node\">\n<title>26</title>\n<ellipse fill=\"black\" stroke=\"black\" cx=\"254.3\" cy=\"-1.8\" rx=\"1.8\" ry=\"1.8\"/>\n</g>\n<!-- 25&#45;&gt;26 -->\n<g id=\"edge26\" class=\"edge\">\n<title>25&#45;&gt;26</title>\n<path fill=\"none\" stroke=\"black\" d=\"M261.82,-39.58C260.08,-31.07 258.02,-21.02 256.5,-13.58\"/>\n<polygon fill=\"black\" stroke=\"black\" points=\"259.92,-12.83 254.49,-3.73 253.06,-14.23 259.92,-12.83\"/>\n</g>\n<!-- 27 -->\n<g id=\"node28\" class=\"node\">\n<title>27</title>\n<ellipse fill=\"black\" stroke=\"black\" cx=\"276.3\" cy=\"-1.8\" rx=\"1.8\" ry=\"1.8\"/>\n</g>\n<!-- 25&#45;&gt;27 -->\n<g id=\"edge27\" class=\"edge\">\n<title>25&#45;&gt;27</title>\n<path fill=\"none\" stroke=\"black\" d=\"M268.78,-39.58C270.52,-31.07 272.57,-21.02 274.09,-13.58\"/>\n<polygon fill=\"black\" stroke=\"black\" points=\"277.53,-14.23 276.11,-3.73 270.67,-12.83 277.53,-14.23\"/>\n</g>\n<!-- 29 -->\n<g id=\"node30\" class=\"node\">\n<title>29</title>\n<ellipse fill=\"black\" stroke=\"black\" cx=\"335.3\" cy=\"-57.6\" rx=\"1.8\" ry=\"1.8\"/>\n</g>\n<!-- 28&#45;&gt;29 -->\n<g id=\"edge29\" class=\"edge\">\n<title>28&#45;&gt;29</title>\n<path fill=\"none\" stroke=\"black\" d=\"M340.57,-111.3C339.26,-98.23 337.51,-80.71 336.39,-69.53\"/>\n<polygon fill=\"black\" stroke=\"black\" points=\"339.85,-69.01 335.38,-59.41 332.89,-69.71 339.85,-69.01\"/>\n</g>\n<!-- 30 -->\n<g id=\"node31\" class=\"node\">\n<title>30</title>\n<ellipse fill=\"black\" stroke=\"black\" cx=\"357.3\" cy=\"-57.6\" rx=\"1.8\" ry=\"1.8\"/>\n</g>\n<!-- 28&#45;&gt;30 -->\n<g id=\"edge30\" class=\"edge\">\n<title>28&#45;&gt;30</title>\n<path fill=\"none\" stroke=\"black\" d=\"M345.93,-111.65C348.76,-98.45 352.6,-80.53 355.01,-69.27\"/>\n<polygon fill=\"black\" stroke=\"black\" points=\"358.45,-69.93 357.12,-59.42 351.6,-68.46 358.45,-69.93\"/>\n</g>\n<!-- 33 -->\n<g id=\"node34\" class=\"node\">\n<title>33</title>\n<ellipse fill=\"none\" stroke=\"black\" cx=\"303.3\" cy=\"-417.6\" rx=\"38.99\" ry=\"18\"/>\n<text text-anchor=\"middle\" x=\"303.3\" y=\"-413.9\" font-family=\"Times New Roman,serif\" font-size=\"14.00\">&#39;s&#39; → &#39;S&#39;</text>\n</g>\n<!-- 32&#45;&gt;33 -->\n<g id=\"edge33\" class=\"edge\">\n<title>32&#45;&gt;33</title>\n<path fill=\"none\" stroke=\"black\" d=\"M303.3,-471.3C303.3,-463.58 303.3,-454.31 303.3,-445.71\"/>\n<polygon fill=\"black\" stroke=\"black\" points=\"306.8,-445.7 303.3,-435.7 299.8,-445.7 306.8,-445.7\"/>\n</g>\n<!-- 38 -->\n<g id=\"node39\" class=\"node\">\n<title>38</title>\n<ellipse fill=\"none\" stroke=\"black\" cx=\"413.3\" cy=\"-417.6\" rx=\"41.69\" ry=\"18\"/>\n<text text-anchor=\"middle\" x=\"413.3\" y=\"-413.9\" font-family=\"Times New Roman,serif\" font-size=\"14.00\">&#39;v&#39; → &#39;V&#39;</text>\n</g>\n<!-- 32&#45;&gt;38 -->\n<g id=\"edge38\" class=\"edge\">\n<title>32&#45;&gt;38</title>\n<path fill=\"none\" stroke=\"black\" d=\"M325.29,-474.6C341.67,-464.18 364.25,-449.81 382.43,-438.24\"/>\n<polygon fill=\"black\" stroke=\"black\" points=\"384.4,-441.13 390.96,-432.81 380.65,-435.23 384.4,-441.13\"/>\n</g>\n<!-- 34 -->\n<g id=\"node35\" class=\"node\">\n<title>34</title>\n<ellipse fill=\"none\" stroke=\"black\" cx=\"293.3\" cy=\"-345.6\" rx=\"39.79\" ry=\"18\"/>\n<text text-anchor=\"middle\" x=\"293.3\" y=\"-341.9\" font-family=\"Times New Roman,serif\" font-size=\"14.00\">&#39;r&#39; → &#39;R&#39;</text>\n</g>\n<!-- 33&#45;&gt;34 -->\n<g id=\"edge34\" class=\"edge\">\n<title>33&#45;&gt;34</title>\n<path fill=\"none\" stroke=\"black\" d=\"M300.82,-399.3C299.72,-391.58 298.4,-382.31 297.17,-373.71\"/>\n<polygon fill=\"black\" stroke=\"black\" points=\"300.62,-373.11 295.74,-363.7 293.69,-374.1 300.62,-373.11\"/>\n</g>\n<!-- 37 -->\n<g id=\"node38\" class=\"node\">\n<title>37</title>\n<ellipse fill=\"black\" stroke=\"black\" cx=\"352.3\" cy=\"-345.6\" rx=\"1.8\" ry=\"1.8\"/>\n</g>\n<!-- 33&#45;&gt;37 -->\n<g id=\"edge37\" class=\"edge\">\n<title>33&#45;&gt;37</title>\n<path fill=\"none\" stroke=\"black\" d=\"M316.04,-400.2C323.88,-389.89 333.99,-376.19 342.3,-363.6 343.83,-361.28 345.39,-358.72 346.82,-356.3\"/>\n<polygon fill=\"black\" stroke=\"black\" points=\"349.9,-357.97 351.79,-347.54 343.81,-354.51 349.9,-357.97\"/>\n</g>\n<!-- 35 -->\n<g id=\"node36\" class=\"node\">\n<title>35</title>\n<ellipse fill=\"black\" stroke=\"black\" cx=\"285.3\" cy=\"-273.6\" rx=\"1.8\" ry=\"1.8\"/>\n</g>\n<!-- 34&#45;&gt;35 -->\n<g id=\"edge35\" class=\"edge\">\n<title>34&#45;&gt;35</title>\n<path fill=\"none\" stroke=\"black\" d=\"M291.32,-327.3C289.83,-314.23 287.82,-296.71 286.55,-285.53\"/>\n<polygon fill=\"black\" stroke=\"black\" points=\"290,-284.95 285.39,-275.41 283.05,-285.74 290,-284.95\"/>\n</g>\n<!-- 36 -->\n<g id=\"node37\" class=\"node\">\n<title>36</title>\n<ellipse fill=\"black\" stroke=\"black\" cx=\"307.3\" cy=\"-273.6\" rx=\"1.8\" ry=\"1.8\"/>\n</g>\n<!-- 34&#45;&gt;36 -->\n<g id=\"edge36\" class=\"edge\">\n<title>34&#45;&gt;36</title>\n<path fill=\"none\" stroke=\"black\" d=\"M296.69,-327.65C299.33,-314.45 302.91,-296.53 305.16,-285.27\"/>\n<polygon fill=\"black\" stroke=\"black\" points=\"308.6,-285.91 307.13,-275.42 301.74,-284.54 308.6,-285.91\"/>\n</g>\n<!-- 39 -->\n<g id=\"node40\" class=\"node\">\n<title>39</title>\n<ellipse fill=\"none\" stroke=\"black\" cx=\"413.3\" cy=\"-345.6\" rx=\"41.69\" ry=\"18\"/>\n<text text-anchor=\"middle\" x=\"413.3\" y=\"-341.9\" font-family=\"Times New Roman,serif\" font-size=\"14.00\">&#39;u&#39; → &#39;U&#39;</text>\n</g>\n<!-- 38&#45;&gt;39 -->\n<g id=\"edge39\" class=\"edge\">\n<title>38&#45;&gt;39</title>\n<path fill=\"none\" stroke=\"black\" d=\"M413.3,-399.3C413.3,-391.58 413.3,-382.31 413.3,-373.71\"/>\n<polygon fill=\"black\" stroke=\"black\" points=\"416.8,-373.7 413.3,-363.7 409.8,-373.7 416.8,-373.7\"/>\n</g>\n<!-- 42 -->\n<g id=\"node43\" class=\"node\">\n<title>42</title>\n<ellipse fill=\"none\" stroke=\"black\" cx=\"513.3\" cy=\"-345.6\" rx=\"40.09\" ry=\"18\"/>\n<text text-anchor=\"middle\" x=\"513.3\" y=\"-341.9\" font-family=\"Times New Roman,serif\" font-size=\"14.00\">&#39;z&#39; → &#39;Z&#39;</text>\n</g>\n<!-- 38&#45;&gt;42 -->\n<g id=\"edge42\" class=\"edge\">\n<title>38&#45;&gt;42</title>\n<path fill=\"none\" stroke=\"black\" d=\"M434.5,-401.75C448.92,-391.66 468.18,-378.18 484.05,-367.07\"/>\n<polygon fill=\"black\" stroke=\"black\" points=\"486.28,-369.79 492.46,-361.18 482.26,-364.05 486.28,-369.79\"/>\n</g>\n<!-- 40 -->\n<g id=\"node41\" class=\"node\">\n<title>40</title>\n<ellipse fill=\"black\" stroke=\"black\" cx=\"397.3\" cy=\"-273.6\" rx=\"1.8\" ry=\"1.8\"/>\n</g>\n<!-- 39&#45;&gt;40 -->\n<g id=\"edge40\" class=\"edge\">\n<title>39&#45;&gt;40</title>\n<path fill=\"none\" stroke=\"black\" d=\"M409.42,-327.65C406.41,-314.45 402.31,-296.53 399.74,-285.27\"/>\n<polygon fill=\"black\" stroke=\"black\" points=\"403.12,-284.39 397.48,-275.42 396.3,-285.94 403.12,-284.39\"/>\n</g>\n<!-- 41 -->\n<g id=\"node42\" class=\"node\">\n<title>41</title>\n<ellipse fill=\"black\" stroke=\"black\" cx=\"419.3\" cy=\"-273.6\" rx=\"1.8\" ry=\"1.8\"/>\n</g>\n<!-- 39&#45;&gt;41 -->\n<g id=\"edge41\" class=\"edge\">\n<title>39&#45;&gt;41</title>\n<path fill=\"none\" stroke=\"black\" d=\"M414.78,-327.3C415.9,-314.23 417.4,-296.71 418.36,-285.53\"/>\n<polygon fill=\"black\" stroke=\"black\" points=\"421.86,-285.67 419.23,-275.41 414.89,-285.07 421.86,-285.67\"/>\n</g>\n<!-- 43 -->\n<g id=\"node44\" class=\"node\">\n<title>43</title>\n<ellipse fill=\"none\" stroke=\"black\" cx=\"484.3\" cy=\"-273.6\" rx=\"41.69\" ry=\"18\"/>\n<text text-anchor=\"middle\" x=\"484.3\" y=\"-269.9\" font-family=\"Times New Roman,serif\" font-size=\"14.00\">&#39;y&#39; → &#39;Y&#39;</text>\n</g>\n<!-- 42&#45;&gt;43 -->\n<g id=\"edge43\" class=\"edge\">\n<title>42&#45;&gt;43</title>\n<path fill=\"none\" stroke=\"black\" d=\"M506.28,-327.65C502.93,-319.57 498.85,-309.72 495.11,-300.71\"/>\n<polygon fill=\"black\" stroke=\"black\" points=\"498.31,-299.29 491.25,-291.39 491.85,-301.97 498.31,-299.29\"/>\n</g>\n<!-- 50 -->\n<g id=\"node51\" class=\"node\">\n<title>50</title>\n<ellipse fill=\"black\" stroke=\"black\" cx=\"545.3\" cy=\"-273.6\" rx=\"1.8\" ry=\"1.8\"/>\n</g>\n<!-- 42&#45;&gt;50 -->\n<g id=\"edge50\" class=\"edge\">\n<title>42&#45;&gt;50</title>\n<path fill=\"none\" stroke=\"black\" d=\"M521.04,-327.65C527.21,-314.16 535.63,-295.74 540.76,-284.53\"/>\n<polygon fill=\"black\" stroke=\"black\" points=\"543.95,-285.97 544.92,-275.42 537.58,-283.06 543.95,-285.97\"/>\n</g>\n<!-- 44 -->\n<g id=\"node45\" class=\"node\">\n<title>44</title>\n<ellipse fill=\"none\" stroke=\"black\" cx=\"420.3\" cy=\"-201.6\" rx=\"46.29\" ry=\"18\"/>\n<text text-anchor=\"middle\" x=\"420.3\" y=\"-197.9\" font-family=\"Times New Roman,serif\" font-size=\"14.00\">&#39;w&#39; → &#39;W&#39;</text>\n</g>\n<!-- 43&#45;&gt;44 -->\n<g id=\"edge44\" class=\"edge\">\n<title>43&#45;&gt;44</title>\n<path fill=\"none\" stroke=\"black\" d=\"M469.77,-256.72C461.63,-247.8 451.3,-236.51 442.19,-226.54\"/>\n<polygon fill=\"black\" stroke=\"black\" points=\"444.54,-223.93 435.21,-218.91 439.37,-228.65 444.54,-223.93\"/>\n</g>\n<!-- 49 -->\n<g id=\"node50\" class=\"node\">\n<title>49</title>\n<ellipse fill=\"black\" stroke=\"black\" cx=\"486.3\" cy=\"-201.6\" rx=\"1.8\" ry=\"1.8\"/>\n</g>\n<!-- 43&#45;&gt;49 -->\n<g id=\"edge49\" class=\"edge\">\n<title>43&#45;&gt;49</title>\n<path fill=\"none\" stroke=\"black\" d=\"M484.79,-255.3C485.16,-242.23 485.66,-224.71 485.98,-213.53\"/>\n<polygon fill=\"black\" stroke=\"black\" points=\"489.49,-213.5 486.27,-203.41 482.49,-213.3 489.49,-213.5\"/>\n</g>\n<!-- 45 -->\n<g id=\"node46\" class=\"node\">\n<title>45</title>\n<ellipse fill=\"black\" stroke=\"black\" cx=\"411.3\" cy=\"-129.6\" rx=\"1.8\" ry=\"1.8\"/>\n</g>\n<!-- 44&#45;&gt;45 -->\n<g id=\"edge45\" class=\"edge\">\n<title>44&#45;&gt;45</title>\n<path fill=\"none\" stroke=\"black\" d=\"M418.07,-183.3C416.39,-170.23 414.14,-152.71 412.7,-141.53\"/>\n<polygon fill=\"black\" stroke=\"black\" points=\"416.15,-140.88 411.4,-131.41 409.2,-141.77 416.15,-140.88\"/>\n</g>\n<!-- 46 -->\n<g id=\"node47\" class=\"node\">\n<title>46</title>\n<ellipse fill=\"none\" stroke=\"black\" cx=\"472.3\" cy=\"-129.6\" rx=\"41.69\" ry=\"18\"/>\n<text text-anchor=\"middle\" x=\"472.3\" y=\"-125.9\" font-family=\"Times New Roman,serif\" font-size=\"14.00\">&#39;x&#39; → &#39;X&#39;</text>\n</g>\n<!-- 44&#45;&gt;46 -->\n<g id=\"edge46\" class=\"edge\">\n<title>44&#45;&gt;46</title>\n<path fill=\"none\" stroke=\"black\" d=\"M432.62,-184.01C438.97,-175.47 446.83,-164.88 453.88,-155.39\"/>\n<polygon fill=\"black\" stroke=\"black\" points=\"456.91,-157.18 460.06,-147.07 451.29,-153.01 456.91,-157.18\"/>\n</g>\n<!-- 47 -->\n<g id=\"node48\" class=\"node\">\n<title>47</title>\n<ellipse fill=\"black\" stroke=\"black\" cx=\"461.3\" cy=\"-57.6\" rx=\"1.8\" ry=\"1.8\"/>\n</g>\n<!-- 46&#45;&gt;47 -->\n<g id=\"edge47\" class=\"edge\">\n<title>46&#45;&gt;47</title>\n<path fill=\"none\" stroke=\"black\" d=\"M469.58,-111.3C467.52,-98.23 464.77,-80.71 463.01,-69.53\"/>\n<polygon fill=\"black\" stroke=\"black\" points=\"466.43,-68.74 461.42,-59.41 459.52,-69.83 466.43,-68.74\"/>\n</g>\n<!-- 48 -->\n<g id=\"node49\" class=\"node\">\n<title>48</title>\n<ellipse fill=\"black\" stroke=\"black\" cx=\"483.3\" cy=\"-57.6\" rx=\"1.8\" ry=\"1.8\"/>\n</g>\n<!-- 46&#45;&gt;48 -->\n<g id=\"edge48\" class=\"edge\">\n<title>46&#45;&gt;48</title>\n<path fill=\"none\" stroke=\"black\" d=\"M475.02,-111.3C477.07,-98.23 479.82,-80.71 481.58,-69.53\"/>\n<polygon fill=\"black\" stroke=\"black\" points=\"485.07,-69.83 483.17,-59.41 478.16,-68.74 485.07,-69.83\"/>\n</g>\n</g>\n</svg>\n",
      "text/plain": [
       "<graphviz.graphs.Digraph at 0x2a4cba7aec0>"
      ]
     },
     "execution_count": 29,
     "metadata": {},
     "output_type": "execute_result"
    }
   ],
   "source": [
    "bst.draw()"
   ]
  },
  {
   "cell_type": "code",
   "execution_count": 30,
   "metadata": {},
   "outputs": [],
   "source": [
    "del bst['v']"
   ]
  },
  {
   "cell_type": "code",
   "execution_count": 31,
   "metadata": {},
   "outputs": [
    {
     "data": {
      "image/svg+xml": "<?xml version=\"1.0\" encoding=\"UTF-8\" standalone=\"no\"?>\n<!DOCTYPE svg PUBLIC \"-//W3C//DTD SVG 1.1//EN\"\n \"http://www.w3.org/Graphics/SVG/1.1/DTD/svg11.dtd\">\n<!-- Generated by graphviz version 5.0.0 (0)\n -->\n<!-- Pages: 1 -->\n<svg width=\"562pt\" height=\"660pt\"\n viewBox=\"0.00 0.00 561.59 659.60\" xmlns=\"http://www.w3.org/2000/svg\" xmlns:xlink=\"http://www.w3.org/1999/xlink\">\n<g id=\"graph0\" class=\"graph\" transform=\"scale(1 1) rotate(0) translate(4 655.6)\">\n<polygon fill=\"white\" stroke=\"transparent\" points=\"-4,4 -4,-655.6 557.59,-655.6 557.59,4 -4,4\"/>\n<!-- 0 -->\n<g id=\"node1\" class=\"node\">\n<title>0</title>\n<ellipse fill=\"none\" stroke=\"black\" cx=\"139.3\" cy=\"-633.6\" rx=\"40.89\" ry=\"18\"/>\n<text text-anchor=\"middle\" x=\"139.3\" y=\"-629.9\" font-family=\"Times New Roman,serif\" font-size=\"14.00\">&#39;b&#39; → &#39;B&#39;</text>\n</g>\n<!-- 1 -->\n<g id=\"node2\" class=\"node\">\n<title>1</title>\n<ellipse fill=\"none\" stroke=\"black\" cx=\"89.3\" cy=\"-561.6\" rx=\"40.89\" ry=\"18\"/>\n<text text-anchor=\"middle\" x=\"89.3\" y=\"-557.9\" font-family=\"Times New Roman,serif\" font-size=\"14.00\">&#39;a&#39; → &#39;A&#39;</text>\n</g>\n<!-- 0&#45;&gt;1 -->\n<g id=\"edge1\" class=\"edge\">\n<title>0&#45;&gt;1</title>\n<path fill=\"none\" stroke=\"black\" d=\"M127.45,-616.01C121.34,-607.47 113.78,-596.88 107,-587.39\"/>\n<polygon fill=\"black\" stroke=\"black\" points=\"109.72,-585.17 101.06,-579.07 104.03,-589.24 109.72,-585.17\"/>\n</g>\n<!-- 4 -->\n<g id=\"node5\" class=\"node\">\n<title>4</title>\n<ellipse fill=\"none\" stroke=\"black\" cx=\"190.3\" cy=\"-561.6\" rx=\"41.69\" ry=\"18\"/>\n<text text-anchor=\"middle\" x=\"190.3\" y=\"-557.9\" font-family=\"Times New Roman,serif\" font-size=\"14.00\">&#39;q&#39; → &#39;Q&#39;</text>\n</g>\n<!-- 0&#45;&gt;4 -->\n<g id=\"edge4\" class=\"edge\">\n<title>0&#45;&gt;4</title>\n<path fill=\"none\" stroke=\"black\" d=\"M151.13,-616.36C157.41,-607.74 165.26,-596.96 172.28,-587.33\"/>\n<polygon fill=\"black\" stroke=\"black\" points=\"175.12,-589.38 178.18,-579.23 169.46,-585.25 175.12,-589.38\"/>\n</g>\n<!-- 2 -->\n<g id=\"node3\" class=\"node\">\n<title>2</title>\n<ellipse fill=\"black\" stroke=\"black\" cx=\"78.3\" cy=\"-489.6\" rx=\"1.8\" ry=\"1.8\"/>\n</g>\n<!-- 1&#45;&gt;2 -->\n<g id=\"edge2\" class=\"edge\">\n<title>1&#45;&gt;2</title>\n<path fill=\"none\" stroke=\"black\" d=\"M86.58,-543.3C84.52,-530.23 81.77,-512.71 80.01,-501.53\"/>\n<polygon fill=\"black\" stroke=\"black\" points=\"83.43,-500.74 78.42,-491.41 76.52,-501.83 83.43,-500.74\"/>\n</g>\n<!-- 3 -->\n<g id=\"node4\" class=\"node\">\n<title>3</title>\n<ellipse fill=\"black\" stroke=\"black\" cx=\"100.3\" cy=\"-489.6\" rx=\"1.8\" ry=\"1.8\"/>\n</g>\n<!-- 1&#45;&gt;3 -->\n<g id=\"edge3\" class=\"edge\">\n<title>1&#45;&gt;3</title>\n<path fill=\"none\" stroke=\"black\" d=\"M92.02,-543.3C94.07,-530.23 96.82,-512.71 98.58,-501.53\"/>\n<polygon fill=\"black\" stroke=\"black\" points=\"102.07,-501.83 100.17,-491.41 95.16,-500.74 102.07,-501.83\"/>\n</g>\n<!-- 5 -->\n<g id=\"node6\" class=\"node\">\n<title>5</title>\n<ellipse fill=\"none\" stroke=\"black\" cx=\"175.3\" cy=\"-489.6\" rx=\"41.69\" ry=\"18\"/>\n<text text-anchor=\"middle\" x=\"175.3\" y=\"-485.9\" font-family=\"Times New Roman,serif\" font-size=\"14.00\">&#39;d&#39; → &#39;D&#39;</text>\n</g>\n<!-- 4&#45;&gt;5 -->\n<g id=\"edge5\" class=\"edge\">\n<title>4&#45;&gt;5</title>\n<path fill=\"none\" stroke=\"black\" d=\"M186.67,-543.65C185,-535.86 182.97,-526.42 181.1,-517.68\"/>\n<polygon fill=\"black\" stroke=\"black\" points=\"184.52,-516.92 179,-507.88 177.67,-518.39 184.52,-516.92\"/>\n</g>\n<!-- 32 -->\n<g id=\"node33\" class=\"node\">\n<title>32</title>\n<ellipse fill=\"none\" stroke=\"black\" cx=\"301.3\" cy=\"-489.6\" rx=\"38.19\" ry=\"18\"/>\n<text text-anchor=\"middle\" x=\"301.3\" y=\"-485.9\" font-family=\"Times New Roman,serif\" font-size=\"14.00\">&#39;t&#39; → &#39;T&#39;</text>\n</g>\n<!-- 4&#45;&gt;32 -->\n<g id=\"edge32\" class=\"edge\">\n<title>4&#45;&gt;32</title>\n<path fill=\"none\" stroke=\"black\" d=\"M212.76,-546.43C229.42,-535.93 252.32,-521.49 270.66,-509.92\"/>\n<polygon fill=\"black\" stroke=\"black\" points=\"272.65,-512.8 279.25,-504.51 268.92,-506.88 272.65,-512.8\"/>\n</g>\n<!-- 6 -->\n<g id=\"node7\" class=\"node\">\n<title>6</title>\n<ellipse fill=\"none\" stroke=\"black\" cx=\"40.3\" cy=\"-417.6\" rx=\"40.09\" ry=\"18\"/>\n<text text-anchor=\"middle\" x=\"40.3\" y=\"-413.9\" font-family=\"Times New Roman,serif\" font-size=\"14.00\">&#39;c&#39; → &#39;C&#39;</text>\n</g>\n<!-- 5&#45;&gt;6 -->\n<g id=\"edge6\" class=\"edge\">\n<title>5&#45;&gt;6</title>\n<path fill=\"none\" stroke=\"black\" d=\"M149.59,-475.27C128.38,-464.27 98.1,-448.57 74.79,-436.48\"/>\n<polygon fill=\"black\" stroke=\"black\" points=\"76.4,-433.38 65.91,-431.88 73.18,-439.59 76.4,-433.38\"/>\n</g>\n<!-- 9 -->\n<g id=\"node10\" class=\"node\">\n<title>9</title>\n<ellipse fill=\"none\" stroke=\"black\" cx=\"175.3\" cy=\"-417.6\" rx=\"41.69\" ry=\"18\"/>\n<text text-anchor=\"middle\" x=\"175.3\" y=\"-413.9\" font-family=\"Times New Roman,serif\" font-size=\"14.00\">&#39;g&#39; → &#39;G&#39;</text>\n</g>\n<!-- 5&#45;&gt;9 -->\n<g id=\"edge9\" class=\"edge\">\n<title>5&#45;&gt;9</title>\n<path fill=\"none\" stroke=\"black\" d=\"M175.3,-471.3C175.3,-463.58 175.3,-454.31 175.3,-445.71\"/>\n<polygon fill=\"black\" stroke=\"black\" points=\"178.8,-445.7 175.3,-435.7 171.8,-445.7 178.8,-445.7\"/>\n</g>\n<!-- 7 -->\n<g id=\"node8\" class=\"node\">\n<title>7</title>\n<ellipse fill=\"black\" stroke=\"black\" cx=\"18.3\" cy=\"-345.6\" rx=\"1.8\" ry=\"1.8\"/>\n</g>\n<!-- 6&#45;&gt;7 -->\n<g id=\"edge7\" class=\"edge\">\n<title>6&#45;&gt;7</title>\n<path fill=\"none\" stroke=\"black\" d=\"M34.97,-399.65C30.82,-386.45 25.19,-368.53 21.65,-357.27\"/>\n<polygon fill=\"black\" stroke=\"black\" points=\"24.89,-355.91 18.55,-347.42 18.21,-358.01 24.89,-355.91\"/>\n</g>\n<!-- 8 -->\n<g id=\"node9\" class=\"node\">\n<title>8</title>\n<ellipse fill=\"black\" stroke=\"black\" cx=\"40.3\" cy=\"-345.6\" rx=\"1.8\" ry=\"1.8\"/>\n</g>\n<!-- 6&#45;&gt;8 -->\n<g id=\"edge8\" class=\"edge\">\n<title>6&#45;&gt;8</title>\n<path fill=\"none\" stroke=\"black\" d=\"M40.3,-399.3C40.3,-386.23 40.3,-368.71 40.3,-357.53\"/>\n<polygon fill=\"black\" stroke=\"black\" points=\"43.8,-357.41 40.3,-347.41 36.8,-357.41 43.8,-357.41\"/>\n</g>\n<!-- 10 -->\n<g id=\"node11\" class=\"node\">\n<title>10</title>\n<ellipse fill=\"none\" stroke=\"black\" cx=\"98.3\" cy=\"-345.6\" rx=\"38.19\" ry=\"18\"/>\n<text text-anchor=\"middle\" x=\"98.3\" y=\"-341.9\" font-family=\"Times New Roman,serif\" font-size=\"14.00\">&#39;f&#39; → &#39;F&#39;</text>\n</g>\n<!-- 9&#45;&gt;10 -->\n<g id=\"edge10\" class=\"edge\">\n<title>9&#45;&gt;10</title>\n<path fill=\"none\" stroke=\"black\" d=\"M158.21,-401.06C147.77,-391.57 134.25,-379.28 122.7,-368.78\"/>\n<polygon fill=\"black\" stroke=\"black\" points=\"124.83,-365.99 115.07,-361.85 120.12,-371.17 124.83,-365.99\"/>\n</g>\n<!-- 15 -->\n<g id=\"node16\" class=\"node\">\n<title>15</title>\n<ellipse fill=\"none\" stroke=\"black\" cx=\"195.3\" cy=\"-345.6\" rx=\"40.09\" ry=\"18\"/>\n<text text-anchor=\"middle\" x=\"195.3\" y=\"-341.9\" font-family=\"Times New Roman,serif\" font-size=\"14.00\">&#39;p&#39; → &#39;P&#39;</text>\n</g>\n<!-- 9&#45;&gt;15 -->\n<g id=\"edge15\" class=\"edge\">\n<title>9&#45;&gt;15</title>\n<path fill=\"none\" stroke=\"black\" d=\"M180.14,-399.65C182.36,-391.86 185.06,-382.42 187.56,-373.68\"/>\n<polygon fill=\"black\" stroke=\"black\" points=\"190.98,-374.45 190.36,-363.88 184.25,-372.53 190.98,-374.45\"/>\n</g>\n<!-- 11 -->\n<g id=\"node12\" class=\"node\">\n<title>11</title>\n<ellipse fill=\"none\" stroke=\"black\" cx=\"63.3\" cy=\"-273.6\" rx=\"40.09\" ry=\"18\"/>\n<text text-anchor=\"middle\" x=\"63.3\" y=\"-269.9\" font-family=\"Times New Roman,serif\" font-size=\"14.00\">&#39;e&#39; → &#39;E&#39;</text>\n</g>\n<!-- 10&#45;&gt;11 -->\n<g id=\"edge11\" class=\"edge\">\n<title>10&#45;&gt;11</title>\n<path fill=\"none\" stroke=\"black\" d=\"M90,-328.01C85.92,-319.85 80.91,-309.82 76.33,-300.67\"/>\n<polygon fill=\"black\" stroke=\"black\" points=\"79.38,-298.94 71.77,-291.56 73.12,-302.07 79.38,-298.94\"/>\n</g>\n<!-- 14 -->\n<g id=\"node15\" class=\"node\">\n<title>14</title>\n<ellipse fill=\"black\" stroke=\"black\" cx=\"123.3\" cy=\"-273.6\" rx=\"1.8\" ry=\"1.8\"/>\n</g>\n<!-- 10&#45;&gt;14 -->\n<g id=\"edge14\" class=\"edge\">\n<title>10&#45;&gt;14</title>\n<path fill=\"none\" stroke=\"black\" d=\"M104.35,-327.65C109.12,-314.31 115.61,-296.14 119.62,-284.9\"/>\n<polygon fill=\"black\" stroke=\"black\" points=\"122.94,-286.01 123,-275.42 116.35,-283.66 122.94,-286.01\"/>\n</g>\n<!-- 12 -->\n<g id=\"node13\" class=\"node\">\n<title>12</title>\n<ellipse fill=\"black\" stroke=\"black\" cx=\"61.3\" cy=\"-201.6\" rx=\"1.8\" ry=\"1.8\"/>\n</g>\n<!-- 11&#45;&gt;12 -->\n<g id=\"edge12\" class=\"edge\">\n<title>11&#45;&gt;12</title>\n<path fill=\"none\" stroke=\"black\" d=\"M62.8,-255.3C62.43,-242.23 61.93,-224.71 61.61,-213.53\"/>\n<polygon fill=\"black\" stroke=\"black\" points=\"65.1,-213.3 61.32,-203.41 58.11,-213.5 65.1,-213.3\"/>\n</g>\n<!-- 13 -->\n<g id=\"node14\" class=\"node\">\n<title>13</title>\n<ellipse fill=\"black\" stroke=\"black\" cx=\"83.3\" cy=\"-201.6\" rx=\"1.8\" ry=\"1.8\"/>\n</g>\n<!-- 11&#45;&gt;13 -->\n<g id=\"edge13\" class=\"edge\">\n<title>11&#45;&gt;13</title>\n<path fill=\"none\" stroke=\"black\" d=\"M68.14,-255.65C71.91,-242.45 77.03,-224.53 80.25,-213.27\"/>\n<polygon fill=\"black\" stroke=\"black\" points=\"83.68,-213.99 83.06,-203.42 76.95,-212.07 83.68,-213.99\"/>\n</g>\n<!-- 16 -->\n<g id=\"node17\" class=\"node\">\n<title>16</title>\n<ellipse fill=\"none\" stroke=\"black\" cx=\"194.3\" cy=\"-273.6\" rx=\"41.69\" ry=\"18\"/>\n<text text-anchor=\"middle\" x=\"194.3\" y=\"-269.9\" font-family=\"Times New Roman,serif\" font-size=\"14.00\">&#39;k&#39; → &#39;K&#39;</text>\n</g>\n<!-- 15&#45;&gt;16 -->\n<g id=\"edge16\" class=\"edge\">\n<title>15&#45;&gt;16</title>\n<path fill=\"none\" stroke=\"black\" d=\"M195.05,-327.3C194.94,-319.58 194.81,-310.31 194.68,-301.71\"/>\n<polygon fill=\"black\" stroke=\"black\" points=\"198.18,-301.65 194.54,-291.7 191.18,-301.75 198.18,-301.65\"/>\n</g>\n<!-- 31 -->\n<g id=\"node32\" class=\"node\">\n<title>31</title>\n<ellipse fill=\"black\" stroke=\"black\" cx=\"255.3\" cy=\"-273.6\" rx=\"1.8\" ry=\"1.8\"/>\n</g>\n<!-- 15&#45;&gt;31 -->\n<g id=\"edge31\" class=\"edge\">\n<title>15&#45;&gt;31</title>\n<path fill=\"none\" stroke=\"black\" d=\"M212.07,-328.74C222.29,-318.63 235.27,-304.95 245.3,-291.6 246.97,-289.38 248.58,-286.85 250.01,-284.44\"/>\n<polygon fill=\"black\" stroke=\"black\" points=\"253.13,-286.03 254.82,-275.57 246.98,-282.69 253.13,-286.03\"/>\n</g>\n<!-- 17 -->\n<g id=\"node18\" class=\"node\">\n<title>17</title>\n<ellipse fill=\"none\" stroke=\"black\" cx=\"144.3\" cy=\"-201.6\" rx=\"41.69\" ry=\"18\"/>\n<text text-anchor=\"middle\" x=\"144.3\" y=\"-197.9\" font-family=\"Times New Roman,serif\" font-size=\"14.00\">&#39;h&#39; → &#39;H&#39;</text>\n</g>\n<!-- 16&#45;&gt;17 -->\n<g id=\"edge17\" class=\"edge\">\n<title>16&#45;&gt;17</title>\n<path fill=\"none\" stroke=\"black\" d=\"M182.45,-256.01C176.34,-247.47 168.78,-236.88 162,-227.39\"/>\n<polygon fill=\"black\" stroke=\"black\" points=\"164.72,-225.17 156.06,-219.07 159.03,-229.24 164.72,-225.17\"/>\n</g>\n<!-- 22 -->\n<g id=\"node23\" class=\"node\">\n<title>22</title>\n<ellipse fill=\"none\" stroke=\"black\" cx=\"245.3\" cy=\"-201.6\" rx=\"41.69\" ry=\"18\"/>\n<text text-anchor=\"middle\" x=\"245.3\" y=\"-197.9\" font-family=\"Times New Roman,serif\" font-size=\"14.00\">&#39;n&#39; → &#39;N&#39;</text>\n</g>\n<!-- 16&#45;&gt;22 -->\n<g id=\"edge22\" class=\"edge\">\n<title>16&#45;&gt;22</title>\n<path fill=\"none\" stroke=\"black\" d=\"M206.38,-256.01C212.61,-247.47 220.32,-236.88 227.24,-227.39\"/>\n<polygon fill=\"black\" stroke=\"black\" points=\"230.24,-229.21 233.3,-219.07 224.58,-225.09 230.24,-229.21\"/>\n</g>\n<!-- 18 -->\n<g id=\"node19\" class=\"node\">\n<title>18</title>\n<ellipse fill=\"black\" stroke=\"black\" cx=\"91.3\" cy=\"-129.6\" rx=\"1.8\" ry=\"1.8\"/>\n</g>\n<!-- 17&#45;&gt;18 -->\n<g id=\"edge18\" class=\"edge\">\n<title>17&#45;&gt;18</title>\n<path fill=\"none\" stroke=\"black\" d=\"M130.64,-184.21C122.21,-173.89 111.33,-160.19 102.3,-147.6 100.63,-145.28 98.92,-142.72 97.35,-140.31\"/>\n<polygon fill=\"black\" stroke=\"black\" points=\"100.14,-138.16 91.86,-131.54 94.2,-141.88 100.14,-138.16\"/>\n</g>\n<!-- 19 -->\n<g id=\"node20\" class=\"node\">\n<title>19</title>\n<ellipse fill=\"none\" stroke=\"black\" cx=\"147.3\" cy=\"-129.6\" rx=\"36.29\" ry=\"18\"/>\n<text text-anchor=\"middle\" x=\"147.3\" y=\"-125.9\" font-family=\"Times New Roman,serif\" font-size=\"14.00\">&#39;i&#39; → &#39;I&#39;</text>\n</g>\n<!-- 17&#45;&gt;19 -->\n<g id=\"edge19\" class=\"edge\">\n<title>17&#45;&gt;19</title>\n<path fill=\"none\" stroke=\"black\" d=\"M145.04,-183.3C145.37,-175.58 145.77,-166.31 146.13,-157.71\"/>\n<polygon fill=\"black\" stroke=\"black\" points=\"149.63,-157.85 146.56,-147.7 142.64,-157.55 149.63,-157.85\"/>\n</g>\n<!-- 20 -->\n<g id=\"node21\" class=\"node\">\n<title>20</title>\n<ellipse fill=\"black\" stroke=\"black\" cx=\"139.3\" cy=\"-57.6\" rx=\"1.8\" ry=\"1.8\"/>\n</g>\n<!-- 19&#45;&gt;20 -->\n<g id=\"edge20\" class=\"edge\">\n<title>19&#45;&gt;20</title>\n<path fill=\"none\" stroke=\"black\" d=\"M145.32,-111.3C143.83,-98.23 141.82,-80.71 140.55,-69.53\"/>\n<polygon fill=\"black\" stroke=\"black\" points=\"144,-68.95 139.39,-59.41 137.05,-69.74 144,-68.95\"/>\n</g>\n<!-- 21 -->\n<g id=\"node22\" class=\"node\">\n<title>21</title>\n<ellipse fill=\"black\" stroke=\"black\" cx=\"161.3\" cy=\"-57.6\" rx=\"1.8\" ry=\"1.8\"/>\n</g>\n<!-- 19&#45;&gt;21 -->\n<g id=\"edge21\" class=\"edge\">\n<title>19&#45;&gt;21</title>\n<path fill=\"none\" stroke=\"black\" d=\"M150.69,-111.65C153.33,-98.45 156.91,-80.53 159.16,-69.27\"/>\n<polygon fill=\"black\" stroke=\"black\" points=\"162.6,-69.91 161.13,-59.42 155.74,-68.54 162.6,-69.91\"/>\n</g>\n<!-- 23 -->\n<g id=\"node24\" class=\"node\">\n<title>23</title>\n<ellipse fill=\"none\" stroke=\"black\" cx=\"242.3\" cy=\"-129.6\" rx=\"38.19\" ry=\"18\"/>\n<text text-anchor=\"middle\" x=\"242.3\" y=\"-125.9\" font-family=\"Times New Roman,serif\" font-size=\"14.00\">&#39;l&#39; → &#39;L&#39;</text>\n</g>\n<!-- 22&#45;&gt;23 -->\n<g id=\"edge23\" class=\"edge\">\n<title>22&#45;&gt;23</title>\n<path fill=\"none\" stroke=\"black\" d=\"M244.55,-183.3C244.22,-175.58 243.83,-166.31 243.46,-157.71\"/>\n<polygon fill=\"black\" stroke=\"black\" points=\"246.95,-157.55 243.03,-147.7 239.96,-157.85 246.95,-157.55\"/>\n</g>\n<!-- 28 -->\n<g id=\"node29\" class=\"node\">\n<title>28</title>\n<ellipse fill=\"none\" stroke=\"black\" cx=\"340.3\" cy=\"-129.6\" rx=\"41.69\" ry=\"18\"/>\n<text text-anchor=\"middle\" x=\"340.3\" y=\"-125.9\" font-family=\"Times New Roman,serif\" font-size=\"14.00\">&#39;o&#39; → &#39;O&#39;</text>\n</g>\n<!-- 22&#45;&gt;28 -->\n<g id=\"edge28\" class=\"edge\">\n<title>22&#45;&gt;28</title>\n<path fill=\"none\" stroke=\"black\" d=\"M265.44,-185.75C278.92,-175.82 296.85,-162.61 311.79,-151.61\"/>\n<polygon fill=\"black\" stroke=\"black\" points=\"314.2,-154.17 320.18,-145.42 310.05,-148.54 314.2,-154.17\"/>\n</g>\n<!-- 24 -->\n<g id=\"node25\" class=\"node\">\n<title>24</title>\n<ellipse fill=\"black\" stroke=\"black\" cx=\"190.3\" cy=\"-57.6\" rx=\"1.8\" ry=\"1.8\"/>\n</g>\n<!-- 23&#45;&gt;24 -->\n<g id=\"edge24\" class=\"edge\">\n<title>23&#45;&gt;24</title>\n<path fill=\"none\" stroke=\"black\" d=\"M229.38,-112.63C221.12,-102.25 210.31,-88.32 201.3,-75.6 199.65,-73.27 197.93,-70.71 196.37,-68.29\"/>\n<polygon fill=\"black\" stroke=\"black\" points=\"199.15,-66.14 190.87,-59.54 193.22,-69.87 199.15,-66.14\"/>\n</g>\n<!-- 25 -->\n<g id=\"node26\" class=\"node\">\n<title>25</title>\n<ellipse fill=\"none\" stroke=\"black\" cx=\"256.3\" cy=\"-57.6\" rx=\"46.29\" ry=\"18\"/>\n<text text-anchor=\"middle\" x=\"256.3\" y=\"-53.9\" font-family=\"Times New Roman,serif\" font-size=\"14.00\">&#39;m&#39; → &#39;M&#39;</text>\n</g>\n<!-- 23&#45;&gt;25 -->\n<g id=\"edge25\" class=\"edge\">\n<title>23&#45;&gt;25</title>\n<path fill=\"none\" stroke=\"black\" d=\"M245.69,-111.65C247.23,-103.95 249.09,-94.63 250.82,-85.96\"/>\n<polygon fill=\"black\" stroke=\"black\" points=\"254.31,-86.37 252.84,-75.88 247.45,-84.99 254.31,-86.37\"/>\n</g>\n<!-- 26 -->\n<g id=\"node27\" class=\"node\">\n<title>26</title>\n<ellipse fill=\"black\" stroke=\"black\" cx=\"245.3\" cy=\"-1.8\" rx=\"1.8\" ry=\"1.8\"/>\n</g>\n<!-- 25&#45;&gt;26 -->\n<g id=\"edge26\" class=\"edge\">\n<title>25&#45;&gt;26</title>\n<path fill=\"none\" stroke=\"black\" d=\"M252.82,-39.58C251.08,-31.07 249.02,-21.02 247.5,-13.58\"/>\n<polygon fill=\"black\" stroke=\"black\" points=\"250.92,-12.83 245.49,-3.73 244.06,-14.23 250.92,-12.83\"/>\n</g>\n<!-- 27 -->\n<g id=\"node28\" class=\"node\">\n<title>27</title>\n<ellipse fill=\"black\" stroke=\"black\" cx=\"267.3\" cy=\"-1.8\" rx=\"1.8\" ry=\"1.8\"/>\n</g>\n<!-- 25&#45;&gt;27 -->\n<g id=\"edge27\" class=\"edge\">\n<title>25&#45;&gt;27</title>\n<path fill=\"none\" stroke=\"black\" d=\"M259.78,-39.58C261.52,-31.07 263.57,-21.02 265.09,-13.58\"/>\n<polygon fill=\"black\" stroke=\"black\" points=\"268.53,-14.23 267.11,-3.73 261.67,-12.83 268.53,-14.23\"/>\n</g>\n<!-- 29 -->\n<g id=\"node30\" class=\"node\">\n<title>29</title>\n<ellipse fill=\"black\" stroke=\"black\" cx=\"326.3\" cy=\"-57.6\" rx=\"1.8\" ry=\"1.8\"/>\n</g>\n<!-- 28&#45;&gt;29 -->\n<g id=\"edge29\" class=\"edge\">\n<title>28&#45;&gt;29</title>\n<path fill=\"none\" stroke=\"black\" d=\"M336.91,-111.65C334.27,-98.45 330.68,-80.53 328.43,-69.27\"/>\n<polygon fill=\"black\" stroke=\"black\" points=\"331.85,-68.54 326.46,-59.42 324.99,-69.91 331.85,-68.54\"/>\n</g>\n<!-- 30 -->\n<g id=\"node31\" class=\"node\">\n<title>30</title>\n<ellipse fill=\"black\" stroke=\"black\" cx=\"348.3\" cy=\"-57.6\" rx=\"1.8\" ry=\"1.8\"/>\n</g>\n<!-- 28&#45;&gt;30 -->\n<g id=\"edge30\" class=\"edge\">\n<title>28&#45;&gt;30</title>\n<path fill=\"none\" stroke=\"black\" d=\"M342.27,-111.3C343.77,-98.23 345.77,-80.71 347.05,-69.53\"/>\n<polygon fill=\"black\" stroke=\"black\" points=\"350.55,-69.74 348.2,-59.41 343.59,-68.95 350.55,-69.74\"/>\n</g>\n<!-- 33 -->\n<g id=\"node34\" class=\"node\">\n<title>33</title>\n<ellipse fill=\"none\" stroke=\"black\" cx=\"301.3\" cy=\"-417.6\" rx=\"38.99\" ry=\"18\"/>\n<text text-anchor=\"middle\" x=\"301.3\" y=\"-413.9\" font-family=\"Times New Roman,serif\" font-size=\"14.00\">&#39;s&#39; → &#39;S&#39;</text>\n</g>\n<!-- 32&#45;&gt;33 -->\n<g id=\"edge33\" class=\"edge\">\n<title>32&#45;&gt;33</title>\n<path fill=\"none\" stroke=\"black\" d=\"M301.3,-471.3C301.3,-463.58 301.3,-454.31 301.3,-445.71\"/>\n<polygon fill=\"black\" stroke=\"black\" points=\"304.8,-445.7 301.3,-435.7 297.8,-445.7 304.8,-445.7\"/>\n</g>\n<!-- 38 -->\n<g id=\"node39\" class=\"node\">\n<title>38</title>\n<ellipse fill=\"none\" stroke=\"black\" cx=\"413.3\" cy=\"-417.6\" rx=\"46.29\" ry=\"18\"/>\n<text text-anchor=\"middle\" x=\"413.3\" y=\"-413.9\" font-family=\"Times New Roman,serif\" font-size=\"14.00\">&#39;w&#39; → &#39;W&#39;</text>\n</g>\n<!-- 32&#45;&gt;38 -->\n<g id=\"edge38\" class=\"edge\">\n<title>32&#45;&gt;38</title>\n<path fill=\"none\" stroke=\"black\" d=\"M323.42,-474.77C339.86,-464.5 362.53,-450.33 380.99,-438.79\"/>\n<polygon fill=\"black\" stroke=\"black\" points=\"383.04,-441.64 389.67,-433.37 379.33,-435.7 383.04,-441.64\"/>\n</g>\n<!-- 34 -->\n<g id=\"node35\" class=\"node\">\n<title>34</title>\n<ellipse fill=\"none\" stroke=\"black\" cx=\"293.3\" cy=\"-345.6\" rx=\"39.79\" ry=\"18\"/>\n<text text-anchor=\"middle\" x=\"293.3\" y=\"-341.9\" font-family=\"Times New Roman,serif\" font-size=\"14.00\">&#39;r&#39; → &#39;R&#39;</text>\n</g>\n<!-- 33&#45;&gt;34 -->\n<g id=\"edge34\" class=\"edge\">\n<title>33&#45;&gt;34</title>\n<path fill=\"none\" stroke=\"black\" d=\"M299.32,-399.3C298.44,-391.58 297.38,-382.31 296.39,-373.71\"/>\n<polygon fill=\"black\" stroke=\"black\" points=\"299.86,-373.24 295.25,-363.7 292.91,-374.04 299.86,-373.24\"/>\n</g>\n<!-- 37 -->\n<g id=\"node38\" class=\"node\">\n<title>37</title>\n<ellipse fill=\"black\" stroke=\"black\" cx=\"352.3\" cy=\"-345.6\" rx=\"1.8\" ry=\"1.8\"/>\n</g>\n<!-- 33&#45;&gt;37 -->\n<g id=\"edge37\" class=\"edge\">\n<title>33&#45;&gt;37</title>\n<path fill=\"none\" stroke=\"black\" d=\"M314.78,-400.29C323.06,-390.01 333.69,-376.32 342.3,-363.6 343.86,-361.3 345.43,-358.74 346.86,-356.33\"/>\n<polygon fill=\"black\" stroke=\"black\" points=\"349.95,-357.98 351.79,-347.55 343.84,-354.55 349.95,-357.98\"/>\n</g>\n<!-- 35 -->\n<g id=\"node36\" class=\"node\">\n<title>35</title>\n<ellipse fill=\"black\" stroke=\"black\" cx=\"285.3\" cy=\"-273.6\" rx=\"1.8\" ry=\"1.8\"/>\n</g>\n<!-- 34&#45;&gt;35 -->\n<g id=\"edge35\" class=\"edge\">\n<title>34&#45;&gt;35</title>\n<path fill=\"none\" stroke=\"black\" d=\"M291.32,-327.3C289.83,-314.23 287.82,-296.71 286.55,-285.53\"/>\n<polygon fill=\"black\" stroke=\"black\" points=\"290,-284.95 285.39,-275.41 283.05,-285.74 290,-284.95\"/>\n</g>\n<!-- 36 -->\n<g id=\"node37\" class=\"node\">\n<title>36</title>\n<ellipse fill=\"black\" stroke=\"black\" cx=\"307.3\" cy=\"-273.6\" rx=\"1.8\" ry=\"1.8\"/>\n</g>\n<!-- 34&#45;&gt;36 -->\n<g id=\"edge36\" class=\"edge\">\n<title>34&#45;&gt;36</title>\n<path fill=\"none\" stroke=\"black\" d=\"M296.69,-327.65C299.33,-314.45 302.91,-296.53 305.16,-285.27\"/>\n<polygon fill=\"black\" stroke=\"black\" points=\"308.6,-285.91 307.13,-275.42 301.74,-284.54 308.6,-285.91\"/>\n</g>\n<!-- 39 -->\n<g id=\"node40\" class=\"node\">\n<title>39</title>\n<ellipse fill=\"none\" stroke=\"black\" cx=\"413.3\" cy=\"-345.6\" rx=\"41.69\" ry=\"18\"/>\n<text text-anchor=\"middle\" x=\"413.3\" y=\"-341.9\" font-family=\"Times New Roman,serif\" font-size=\"14.00\">&#39;u&#39; → &#39;U&#39;</text>\n</g>\n<!-- 38&#45;&gt;39 -->\n<g id=\"edge39\" class=\"edge\">\n<title>38&#45;&gt;39</title>\n<path fill=\"none\" stroke=\"black\" d=\"M413.3,-399.3C413.3,-391.58 413.3,-382.31 413.3,-373.71\"/>\n<polygon fill=\"black\" stroke=\"black\" points=\"416.8,-373.7 413.3,-363.7 409.8,-373.7 416.8,-373.7\"/>\n</g>\n<!-- 42 -->\n<g id=\"node43\" class=\"node\">\n<title>42</title>\n<ellipse fill=\"none\" stroke=\"black\" cx=\"513.3\" cy=\"-345.6\" rx=\"40.09\" ry=\"18\"/>\n<text text-anchor=\"middle\" x=\"513.3\" y=\"-341.9\" font-family=\"Times New Roman,serif\" font-size=\"14.00\">&#39;z&#39; → &#39;Z&#39;</text>\n</g>\n<!-- 38&#45;&gt;42 -->\n<g id=\"edge42\" class=\"edge\">\n<title>38&#45;&gt;42</title>\n<path fill=\"none\" stroke=\"black\" d=\"M434.99,-401.41C449.34,-391.37 468.32,-378.08 484,-367.1\"/>\n<polygon fill=\"black\" stroke=\"black\" points=\"486.14,-369.88 492.33,-361.28 482.13,-364.15 486.14,-369.88\"/>\n</g>\n<!-- 40 -->\n<g id=\"node41\" class=\"node\">\n<title>40</title>\n<ellipse fill=\"black\" stroke=\"black\" cx=\"392.3\" cy=\"-273.6\" rx=\"1.8\" ry=\"1.8\"/>\n</g>\n<!-- 39&#45;&gt;40 -->\n<g id=\"edge40\" class=\"edge\">\n<title>39&#45;&gt;40</title>\n<path fill=\"none\" stroke=\"black\" d=\"M408.21,-327.65C404.25,-314.45 398.88,-296.53 395.5,-285.27\"/>\n<polygon fill=\"black\" stroke=\"black\" points=\"398.77,-283.99 392.54,-275.42 392.06,-286 398.77,-283.99\"/>\n</g>\n<!-- 41 -->\n<g id=\"node42\" class=\"node\">\n<title>41</title>\n<ellipse fill=\"black\" stroke=\"black\" cx=\"414.3\" cy=\"-273.6\" rx=\"1.8\" ry=\"1.8\"/>\n</g>\n<!-- 39&#45;&gt;41 -->\n<g id=\"edge41\" class=\"edge\">\n<title>39&#45;&gt;41</title>\n<path fill=\"none\" stroke=\"black\" d=\"M413.54,-327.3C413.73,-314.23 413.98,-296.71 414.14,-285.53\"/>\n<polygon fill=\"black\" stroke=\"black\" points=\"417.64,-285.46 414.28,-275.41 410.64,-285.36 417.64,-285.46\"/>\n</g>\n<!-- 43 -->\n<g id=\"node44\" class=\"node\">\n<title>43</title>\n<ellipse fill=\"none\" stroke=\"black\" cx=\"478.3\" cy=\"-273.6\" rx=\"41.69\" ry=\"18\"/>\n<text text-anchor=\"middle\" x=\"478.3\" y=\"-269.9\" font-family=\"Times New Roman,serif\" font-size=\"14.00\">&#39;y&#39; → &#39;Y&#39;</text>\n</g>\n<!-- 42&#45;&gt;43 -->\n<g id=\"edge43\" class=\"edge\">\n<title>42&#45;&gt;43</title>\n<path fill=\"none\" stroke=\"black\" d=\"M504.82,-327.65C500.74,-319.49 495.75,-309.51 491.21,-300.42\"/>\n<polygon fill=\"black\" stroke=\"black\" points=\"494.29,-298.77 486.69,-291.39 488.03,-301.9 494.29,-298.77\"/>\n</g>\n<!-- 48 -->\n<g id=\"node49\" class=\"node\">\n<title>48</title>\n<ellipse fill=\"black\" stroke=\"black\" cx=\"539.3\" cy=\"-273.6\" rx=\"1.8\" ry=\"1.8\"/>\n</g>\n<!-- 42&#45;&gt;48 -->\n<g id=\"edge48\" class=\"edge\">\n<title>42&#45;&gt;48</title>\n<path fill=\"none\" stroke=\"black\" d=\"M519.59,-327.65C524.55,-314.31 531.3,-296.14 535.47,-284.9\"/>\n<polygon fill=\"black\" stroke=\"black\" points=\"538.79,-286.01 538.99,-275.42 532.23,-283.57 538.79,-286.01\"/>\n</g>\n<!-- 44 -->\n<g id=\"node45\" class=\"node\">\n<title>44</title>\n<ellipse fill=\"none\" stroke=\"black\" cx=\"422.3\" cy=\"-201.6\" rx=\"41.69\" ry=\"18\"/>\n<text text-anchor=\"middle\" x=\"422.3\" y=\"-197.9\" font-family=\"Times New Roman,serif\" font-size=\"14.00\">&#39;x&#39; → &#39;X&#39;</text>\n</g>\n<!-- 43&#45;&gt;44 -->\n<g id=\"edge44\" class=\"edge\">\n<title>43&#45;&gt;44</title>\n<path fill=\"none\" stroke=\"black\" d=\"M465.31,-256.36C458.24,-247.53 449.36,-236.43 441.51,-226.61\"/>\n<polygon fill=\"black\" stroke=\"black\" points=\"444.19,-224.37 435.21,-218.75 438.73,-228.74 444.19,-224.37\"/>\n</g>\n<!-- 47 -->\n<g id=\"node48\" class=\"node\">\n<title>47</title>\n<ellipse fill=\"black\" stroke=\"black\" cx=\"483.3\" cy=\"-201.6\" rx=\"1.8\" ry=\"1.8\"/>\n</g>\n<!-- 43&#45;&gt;47 -->\n<g id=\"edge47\" class=\"edge\">\n<title>43&#45;&gt;47</title>\n<path fill=\"none\" stroke=\"black\" d=\"M479.53,-255.3C480.47,-242.23 481.72,-224.71 482.52,-213.53\"/>\n<polygon fill=\"black\" stroke=\"black\" points=\"486.02,-213.63 483.24,-203.41 479.04,-213.13 486.02,-213.63\"/>\n</g>\n<!-- 45 -->\n<g id=\"node46\" class=\"node\">\n<title>45</title>\n<ellipse fill=\"black\" stroke=\"black\" cx=\"402.3\" cy=\"-129.6\" rx=\"1.8\" ry=\"1.8\"/>\n</g>\n<!-- 44&#45;&gt;45 -->\n<g id=\"edge45\" class=\"edge\">\n<title>44&#45;&gt;45</title>\n<path fill=\"none\" stroke=\"black\" d=\"M417.45,-183.65C413.68,-170.45 408.56,-152.53 405.34,-141.27\"/>\n<polygon fill=\"black\" stroke=\"black\" points=\"408.64,-140.07 402.53,-131.42 401.91,-141.99 408.64,-140.07\"/>\n</g>\n<!-- 46 -->\n<g id=\"node47\" class=\"node\">\n<title>46</title>\n<ellipse fill=\"black\" stroke=\"black\" cx=\"424.3\" cy=\"-129.6\" rx=\"1.8\" ry=\"1.8\"/>\n</g>\n<!-- 44&#45;&gt;46 -->\n<g id=\"edge46\" class=\"edge\">\n<title>44&#45;&gt;46</title>\n<path fill=\"none\" stroke=\"black\" d=\"M422.79,-183.3C423.16,-170.23 423.66,-152.71 423.98,-141.53\"/>\n<polygon fill=\"black\" stroke=\"black\" points=\"427.49,-141.5 424.27,-131.41 420.49,-141.3 427.49,-141.5\"/>\n</g>\n</g>\n</svg>\n",
      "text/plain": [
       "<graphviz.graphs.Digraph at 0x2a48177a710>"
      ]
     },
     "execution_count": 31,
     "metadata": {},
     "output_type": "execute_result"
    }
   ],
   "source": [
    "bst.draw()"
   ]
  },
  {
   "cell_type": "code",
   "execution_count": 32,
   "metadata": {},
   "outputs": [],
   "source": [
    "del bst['b']"
   ]
  },
  {
   "cell_type": "code",
   "execution_count": 33,
   "metadata": {},
   "outputs": [
    {
     "data": {
      "image/svg+xml": "<?xml version=\"1.0\" encoding=\"UTF-8\" standalone=\"no\"?>\n<!DOCTYPE svg PUBLIC \"-//W3C//DTD SVG 1.1//EN\"\n \"http://www.w3.org/Graphics/SVG/1.1/DTD/svg11.dtd\">\n<!-- Generated by graphviz version 5.0.0 (0)\n -->\n<!-- Pages: 1 -->\n<svg width=\"537pt\" height=\"660pt\"\n viewBox=\"0.00 0.00 536.59 659.60\" xmlns=\"http://www.w3.org/2000/svg\" xmlns:xlink=\"http://www.w3.org/1999/xlink\">\n<g id=\"graph0\" class=\"graph\" transform=\"scale(1 1) rotate(0) translate(4 655.6)\">\n<polygon fill=\"white\" stroke=\"transparent\" points=\"-4,4 -4,-655.6 532.59,-655.6 532.59,4 -4,4\"/>\n<!-- 0 -->\n<g id=\"node1\" class=\"node\">\n<title>0</title>\n<ellipse fill=\"none\" stroke=\"black\" cx=\"134.3\" cy=\"-633.6\" rx=\"40.09\" ry=\"18\"/>\n<text text-anchor=\"middle\" x=\"134.3\" y=\"-629.9\" font-family=\"Times New Roman,serif\" font-size=\"14.00\">&#39;c&#39; → &#39;C&#39;</text>\n</g>\n<!-- 1 -->\n<g id=\"node2\" class=\"node\">\n<title>1</title>\n<ellipse fill=\"none\" stroke=\"black\" cx=\"84.3\" cy=\"-561.6\" rx=\"40.89\" ry=\"18\"/>\n<text text-anchor=\"middle\" x=\"84.3\" y=\"-557.9\" font-family=\"Times New Roman,serif\" font-size=\"14.00\">&#39;a&#39; → &#39;A&#39;</text>\n</g>\n<!-- 0&#45;&gt;1 -->\n<g id=\"edge1\" class=\"edge\">\n<title>0&#45;&gt;1</title>\n<path fill=\"none\" stroke=\"black\" d=\"M122.45,-616.01C116.34,-607.47 108.78,-596.88 102,-587.39\"/>\n<polygon fill=\"black\" stroke=\"black\" points=\"104.72,-585.17 96.06,-579.07 99.03,-589.24 104.72,-585.17\"/>\n</g>\n<!-- 4 -->\n<g id=\"node5\" class=\"node\">\n<title>4</title>\n<ellipse fill=\"none\" stroke=\"black\" cx=\"185.3\" cy=\"-561.6\" rx=\"41.69\" ry=\"18\"/>\n<text text-anchor=\"middle\" x=\"185.3\" y=\"-557.9\" font-family=\"Times New Roman,serif\" font-size=\"14.00\">&#39;q&#39; → &#39;Q&#39;</text>\n</g>\n<!-- 0&#45;&gt;4 -->\n<g id=\"edge4\" class=\"edge\">\n<title>0&#45;&gt;4</title>\n<path fill=\"none\" stroke=\"black\" d=\"M146.13,-616.36C152.41,-607.74 160.26,-596.96 167.28,-587.33\"/>\n<polygon fill=\"black\" stroke=\"black\" points=\"170.12,-589.38 173.18,-579.23 164.46,-585.25 170.12,-589.38\"/>\n</g>\n<!-- 2 -->\n<g id=\"node3\" class=\"node\">\n<title>2</title>\n<ellipse fill=\"black\" stroke=\"black\" cx=\"73.3\" cy=\"-489.6\" rx=\"1.8\" ry=\"1.8\"/>\n</g>\n<!-- 1&#45;&gt;2 -->\n<g id=\"edge2\" class=\"edge\">\n<title>1&#45;&gt;2</title>\n<path fill=\"none\" stroke=\"black\" d=\"M81.58,-543.3C79.52,-530.23 76.77,-512.71 75.01,-501.53\"/>\n<polygon fill=\"black\" stroke=\"black\" points=\"78.43,-500.74 73.42,-491.41 71.52,-501.83 78.43,-500.74\"/>\n</g>\n<!-- 3 -->\n<g id=\"node4\" class=\"node\">\n<title>3</title>\n<ellipse fill=\"black\" stroke=\"black\" cx=\"95.3\" cy=\"-489.6\" rx=\"1.8\" ry=\"1.8\"/>\n</g>\n<!-- 1&#45;&gt;3 -->\n<g id=\"edge3\" class=\"edge\">\n<title>1&#45;&gt;3</title>\n<path fill=\"none\" stroke=\"black\" d=\"M87.02,-543.3C89.07,-530.23 91.82,-512.71 93.58,-501.53\"/>\n<polygon fill=\"black\" stroke=\"black\" points=\"97.07,-501.83 95.17,-491.41 90.16,-500.74 97.07,-501.83\"/>\n</g>\n<!-- 5 -->\n<g id=\"node6\" class=\"node\">\n<title>5</title>\n<ellipse fill=\"none\" stroke=\"black\" cx=\"170.3\" cy=\"-489.6\" rx=\"41.69\" ry=\"18\"/>\n<text text-anchor=\"middle\" x=\"170.3\" y=\"-485.9\" font-family=\"Times New Roman,serif\" font-size=\"14.00\">&#39;d&#39; → &#39;D&#39;</text>\n</g>\n<!-- 4&#45;&gt;5 -->\n<g id=\"edge5\" class=\"edge\">\n<title>4&#45;&gt;5</title>\n<path fill=\"none\" stroke=\"black\" d=\"M181.67,-543.65C180,-535.86 177.97,-526.42 176.1,-517.68\"/>\n<polygon fill=\"black\" stroke=\"black\" points=\"179.52,-516.92 174,-507.88 172.67,-518.39 179.52,-516.92\"/>\n</g>\n<!-- 30 -->\n<g id=\"node31\" class=\"node\">\n<title>30</title>\n<ellipse fill=\"none\" stroke=\"black\" cx=\"277.3\" cy=\"-489.6\" rx=\"38.19\" ry=\"18\"/>\n<text text-anchor=\"middle\" x=\"277.3\" y=\"-485.9\" font-family=\"Times New Roman,serif\" font-size=\"14.00\">&#39;t&#39; → &#39;T&#39;</text>\n</g>\n<!-- 4&#45;&gt;30 -->\n<g id=\"edge30\" class=\"edge\">\n<title>4&#45;&gt;30</title>\n<path fill=\"none\" stroke=\"black\" d=\"M205.26,-545.41C218.34,-535.46 235.6,-522.33 249.95,-511.41\"/>\n<polygon fill=\"black\" stroke=\"black\" points=\"252.16,-514.12 258,-505.28 247.93,-508.55 252.16,-514.12\"/>\n</g>\n<!-- 6 -->\n<g id=\"node7\" class=\"node\">\n<title>6</title>\n<ellipse fill=\"black\" stroke=\"black\" cx=\"109.3\" cy=\"-417.6\" rx=\"1.8\" ry=\"1.8\"/>\n</g>\n<!-- 5&#45;&gt;6 -->\n<g id=\"edge6\" class=\"edge\">\n<title>5&#45;&gt;6</title>\n<path fill=\"none\" stroke=\"black\" d=\"M153.16,-472.79C142.72,-462.7 129.48,-449.03 119.3,-435.6 117.62,-433.38 115.99,-430.86 114.56,-428.45\"/>\n<polygon fill=\"black\" stroke=\"black\" points=\"117.6,-426.7 109.77,-419.57 111.44,-430.03 117.6,-426.7\"/>\n</g>\n<!-- 7 -->\n<g id=\"node8\" class=\"node\">\n<title>7</title>\n<ellipse fill=\"none\" stroke=\"black\" cx=\"170.3\" cy=\"-417.6\" rx=\"41.69\" ry=\"18\"/>\n<text text-anchor=\"middle\" x=\"170.3\" y=\"-413.9\" font-family=\"Times New Roman,serif\" font-size=\"14.00\">&#39;g&#39; → &#39;G&#39;</text>\n</g>\n<!-- 5&#45;&gt;7 -->\n<g id=\"edge7\" class=\"edge\">\n<title>5&#45;&gt;7</title>\n<path fill=\"none\" stroke=\"black\" d=\"M170.3,-471.3C170.3,-463.58 170.3,-454.31 170.3,-445.71\"/>\n<polygon fill=\"black\" stroke=\"black\" points=\"173.8,-445.7 170.3,-435.7 166.8,-445.7 173.8,-445.7\"/>\n</g>\n<!-- 8 -->\n<g id=\"node9\" class=\"node\">\n<title>8</title>\n<ellipse fill=\"none\" stroke=\"black\" cx=\"73.3\" cy=\"-345.6\" rx=\"38.19\" ry=\"18\"/>\n<text text-anchor=\"middle\" x=\"73.3\" y=\"-341.9\" font-family=\"Times New Roman,serif\" font-size=\"14.00\">&#39;f&#39; → &#39;F&#39;</text>\n</g>\n<!-- 7&#45;&gt;8 -->\n<g id=\"edge8\" class=\"edge\">\n<title>7&#45;&gt;8</title>\n<path fill=\"none\" stroke=\"black\" d=\"M149.73,-401.75C135.74,-391.66 117.06,-378.18 101.67,-367.07\"/>\n<polygon fill=\"black\" stroke=\"black\" points=\"103.66,-364.2 93.51,-361.18 99.57,-369.87 103.66,-364.2\"/>\n</g>\n<!-- 13 -->\n<g id=\"node14\" class=\"node\">\n<title>13</title>\n<ellipse fill=\"none\" stroke=\"black\" cx=\"170.3\" cy=\"-345.6\" rx=\"40.09\" ry=\"18\"/>\n<text text-anchor=\"middle\" x=\"170.3\" y=\"-341.9\" font-family=\"Times New Roman,serif\" font-size=\"14.00\">&#39;p&#39; → &#39;P&#39;</text>\n</g>\n<!-- 7&#45;&gt;13 -->\n<g id=\"edge13\" class=\"edge\">\n<title>7&#45;&gt;13</title>\n<path fill=\"none\" stroke=\"black\" d=\"M170.3,-399.3C170.3,-391.58 170.3,-382.31 170.3,-373.71\"/>\n<polygon fill=\"black\" stroke=\"black\" points=\"173.8,-373.7 170.3,-363.7 166.8,-373.7 173.8,-373.7\"/>\n</g>\n<!-- 9 -->\n<g id=\"node10\" class=\"node\">\n<title>9</title>\n<ellipse fill=\"none\" stroke=\"black\" cx=\"40.3\" cy=\"-273.6\" rx=\"40.09\" ry=\"18\"/>\n<text text-anchor=\"middle\" x=\"40.3\" y=\"-269.9\" font-family=\"Times New Roman,serif\" font-size=\"14.00\">&#39;e&#39; → &#39;E&#39;</text>\n</g>\n<!-- 8&#45;&gt;9 -->\n<g id=\"edge9\" class=\"edge\">\n<title>8&#45;&gt;9</title>\n<path fill=\"none\" stroke=\"black\" d=\"M65.31,-327.65C61.5,-319.57 56.85,-309.72 52.61,-300.71\"/>\n<polygon fill=\"black\" stroke=\"black\" points=\"55.64,-298.94 48.21,-291.39 49.31,-301.93 55.64,-298.94\"/>\n</g>\n<!-- 12 -->\n<g id=\"node13\" class=\"node\">\n<title>12</title>\n<ellipse fill=\"black\" stroke=\"black\" cx=\"100.3\" cy=\"-273.6\" rx=\"1.8\" ry=\"1.8\"/>\n</g>\n<!-- 8&#45;&gt;12 -->\n<g id=\"edge12\" class=\"edge\">\n<title>8&#45;&gt;12</title>\n<path fill=\"none\" stroke=\"black\" d=\"M79.83,-327.65C84.98,-314.31 91.99,-296.14 96.32,-284.9\"/>\n<polygon fill=\"black\" stroke=\"black\" points=\"99.65,-286.01 99.98,-275.42 93.12,-283.49 99.65,-286.01\"/>\n</g>\n<!-- 10 -->\n<g id=\"node11\" class=\"node\">\n<title>10</title>\n<ellipse fill=\"black\" stroke=\"black\" cx=\"29.3\" cy=\"-201.6\" rx=\"1.8\" ry=\"1.8\"/>\n</g>\n<!-- 9&#45;&gt;10 -->\n<g id=\"edge10\" class=\"edge\">\n<title>9&#45;&gt;10</title>\n<path fill=\"none\" stroke=\"black\" d=\"M37.58,-255.3C35.52,-242.23 32.77,-224.71 31.01,-213.53\"/>\n<polygon fill=\"black\" stroke=\"black\" points=\"34.43,-212.74 29.42,-203.41 27.52,-213.83 34.43,-212.74\"/>\n</g>\n<!-- 11 -->\n<g id=\"node12\" class=\"node\">\n<title>11</title>\n<ellipse fill=\"black\" stroke=\"black\" cx=\"51.3\" cy=\"-201.6\" rx=\"1.8\" ry=\"1.8\"/>\n</g>\n<!-- 9&#45;&gt;11 -->\n<g id=\"edge11\" class=\"edge\">\n<title>9&#45;&gt;11</title>\n<path fill=\"none\" stroke=\"black\" d=\"M43.02,-255.3C45.07,-242.23 47.82,-224.71 49.58,-213.53\"/>\n<polygon fill=\"black\" stroke=\"black\" points=\"53.07,-213.83 51.17,-203.41 46.16,-212.74 53.07,-213.83\"/>\n</g>\n<!-- 14 -->\n<g id=\"node15\" class=\"node\">\n<title>14</title>\n<ellipse fill=\"none\" stroke=\"black\" cx=\"169.3\" cy=\"-273.6\" rx=\"41.69\" ry=\"18\"/>\n<text text-anchor=\"middle\" x=\"169.3\" y=\"-269.9\" font-family=\"Times New Roman,serif\" font-size=\"14.00\">&#39;k&#39; → &#39;K&#39;</text>\n</g>\n<!-- 13&#45;&gt;14 -->\n<g id=\"edge14\" class=\"edge\">\n<title>13&#45;&gt;14</title>\n<path fill=\"none\" stroke=\"black\" d=\"M170.05,-327.3C169.94,-319.58 169.81,-310.31 169.68,-301.71\"/>\n<polygon fill=\"black\" stroke=\"black\" points=\"173.18,-301.65 169.54,-291.7 166.18,-301.75 173.18,-301.65\"/>\n</g>\n<!-- 29 -->\n<g id=\"node30\" class=\"node\">\n<title>29</title>\n<ellipse fill=\"black\" stroke=\"black\" cx=\"230.3\" cy=\"-273.6\" rx=\"1.8\" ry=\"1.8\"/>\n</g>\n<!-- 13&#45;&gt;29 -->\n<g id=\"edge29\" class=\"edge\">\n<title>13&#45;&gt;29</title>\n<path fill=\"none\" stroke=\"black\" d=\"M187.07,-328.74C197.29,-318.63 210.27,-304.95 220.3,-291.6 221.97,-289.38 223.58,-286.85 225.01,-284.44\"/>\n<polygon fill=\"black\" stroke=\"black\" points=\"228.13,-286.03 229.82,-275.57 221.98,-282.69 228.13,-286.03\"/>\n</g>\n<!-- 15 -->\n<g id=\"node16\" class=\"node\">\n<title>15</title>\n<ellipse fill=\"none\" stroke=\"black\" cx=\"116.3\" cy=\"-201.6\" rx=\"41.69\" ry=\"18\"/>\n<text text-anchor=\"middle\" x=\"116.3\" y=\"-197.9\" font-family=\"Times New Roman,serif\" font-size=\"14.00\">&#39;h&#39; → &#39;H&#39;</text>\n</g>\n<!-- 14&#45;&gt;15 -->\n<g id=\"edge15\" class=\"edge\">\n<title>14&#45;&gt;15</title>\n<path fill=\"none\" stroke=\"black\" d=\"M157,-256.36C150.48,-247.74 142.32,-236.96 135.02,-227.33\"/>\n<polygon fill=\"black\" stroke=\"black\" points=\"137.72,-225.09 128.89,-219.23 132.14,-229.32 137.72,-225.09\"/>\n</g>\n<!-- 20 -->\n<g id=\"node21\" class=\"node\">\n<title>20</title>\n<ellipse fill=\"none\" stroke=\"black\" cx=\"217.3\" cy=\"-201.6\" rx=\"41.69\" ry=\"18\"/>\n<text text-anchor=\"middle\" x=\"217.3\" y=\"-197.9\" font-family=\"Times New Roman,serif\" font-size=\"14.00\">&#39;n&#39; → &#39;N&#39;</text>\n</g>\n<!-- 14&#45;&gt;20 -->\n<g id=\"edge20\" class=\"edge\">\n<title>14&#45;&gt;20</title>\n<path fill=\"none\" stroke=\"black\" d=\"M180.67,-256.01C186.53,-247.47 193.79,-236.88 200.3,-227.39\"/>\n<polygon fill=\"black\" stroke=\"black\" points=\"203.23,-229.3 206,-219.07 197.46,-225.34 203.23,-229.3\"/>\n</g>\n<!-- 16 -->\n<g id=\"node17\" class=\"node\">\n<title>16</title>\n<ellipse fill=\"black\" stroke=\"black\" cx=\"63.3\" cy=\"-129.6\" rx=\"1.8\" ry=\"1.8\"/>\n</g>\n<!-- 15&#45;&gt;16 -->\n<g id=\"edge16\" class=\"edge\">\n<title>15&#45;&gt;16</title>\n<path fill=\"none\" stroke=\"black\" d=\"M102.64,-184.21C94.21,-173.89 83.33,-160.19 74.3,-147.6 72.63,-145.28 70.92,-142.72 69.35,-140.31\"/>\n<polygon fill=\"black\" stroke=\"black\" points=\"72.14,-138.16 63.86,-131.54 66.2,-141.88 72.14,-138.16\"/>\n</g>\n<!-- 17 -->\n<g id=\"node18\" class=\"node\">\n<title>17</title>\n<ellipse fill=\"none\" stroke=\"black\" cx=\"119.3\" cy=\"-129.6\" rx=\"36.29\" ry=\"18\"/>\n<text text-anchor=\"middle\" x=\"119.3\" y=\"-125.9\" font-family=\"Times New Roman,serif\" font-size=\"14.00\">&#39;i&#39; → &#39;I&#39;</text>\n</g>\n<!-- 15&#45;&gt;17 -->\n<g id=\"edge17\" class=\"edge\">\n<title>15&#45;&gt;17</title>\n<path fill=\"none\" stroke=\"black\" d=\"M117.04,-183.3C117.37,-175.58 117.77,-166.31 118.13,-157.71\"/>\n<polygon fill=\"black\" stroke=\"black\" points=\"121.63,-157.85 118.56,-147.7 114.64,-157.55 121.63,-157.85\"/>\n</g>\n<!-- 18 -->\n<g id=\"node19\" class=\"node\">\n<title>18</title>\n<ellipse fill=\"black\" stroke=\"black\" cx=\"101.3\" cy=\"-57.6\" rx=\"1.8\" ry=\"1.8\"/>\n</g>\n<!-- 17&#45;&gt;18 -->\n<g id=\"edge18\" class=\"edge\">\n<title>17&#45;&gt;18</title>\n<path fill=\"none\" stroke=\"black\" d=\"M114.94,-111.65C111.54,-98.45 106.94,-80.53 104.04,-69.27\"/>\n<polygon fill=\"black\" stroke=\"black\" points=\"107.39,-68.23 101.51,-59.42 100.61,-69.97 107.39,-68.23\"/>\n</g>\n<!-- 19 -->\n<g id=\"node20\" class=\"node\">\n<title>19</title>\n<ellipse fill=\"black\" stroke=\"black\" cx=\"123.3\" cy=\"-57.6\" rx=\"1.8\" ry=\"1.8\"/>\n</g>\n<!-- 17&#45;&gt;19 -->\n<g id=\"edge19\" class=\"edge\">\n<title>17&#45;&gt;19</title>\n<path fill=\"none\" stroke=\"black\" d=\"M120.29,-111.3C121.03,-98.23 122.03,-80.71 122.67,-69.53\"/>\n<polygon fill=\"black\" stroke=\"black\" points=\"126.17,-69.59 123.25,-59.41 119.19,-69.19 126.17,-69.59\"/>\n</g>\n<!-- 21 -->\n<g id=\"node22\" class=\"node\">\n<title>21</title>\n<ellipse fill=\"none\" stroke=\"black\" cx=\"216.3\" cy=\"-129.6\" rx=\"38.19\" ry=\"18\"/>\n<text text-anchor=\"middle\" x=\"216.3\" y=\"-125.9\" font-family=\"Times New Roman,serif\" font-size=\"14.00\">&#39;l&#39; → &#39;L&#39;</text>\n</g>\n<!-- 20&#45;&gt;21 -->\n<g id=\"edge21\" class=\"edge\">\n<title>20&#45;&gt;21</title>\n<path fill=\"none\" stroke=\"black\" d=\"M217.05,-183.3C216.94,-175.58 216.81,-166.31 216.68,-157.71\"/>\n<polygon fill=\"black\" stroke=\"black\" points=\"220.18,-157.65 216.54,-147.7 213.18,-157.75 220.18,-157.65\"/>\n</g>\n<!-- 26 -->\n<g id=\"node27\" class=\"node\">\n<title>26</title>\n<ellipse fill=\"none\" stroke=\"black\" cx=\"314.3\" cy=\"-129.6\" rx=\"41.69\" ry=\"18\"/>\n<text text-anchor=\"middle\" x=\"314.3\" y=\"-125.9\" font-family=\"Times New Roman,serif\" font-size=\"14.00\">&#39;o&#39; → &#39;O&#39;</text>\n</g>\n<!-- 20&#45;&gt;26 -->\n<g id=\"edge26\" class=\"edge\">\n<title>20&#45;&gt;26</title>\n<path fill=\"none\" stroke=\"black\" d=\"M237.87,-185.75C251.76,-175.73 270.28,-162.36 285.61,-151.3\"/>\n<polygon fill=\"black\" stroke=\"black\" points=\"287.69,-154.11 293.75,-145.42 283.6,-148.44 287.69,-154.11\"/>\n</g>\n<!-- 22 -->\n<g id=\"node23\" class=\"node\">\n<title>22</title>\n<ellipse fill=\"black\" stroke=\"black\" cx=\"155.3\" cy=\"-57.6\" rx=\"1.8\" ry=\"1.8\"/>\n</g>\n<!-- 21&#45;&gt;22 -->\n<g id=\"edge22\" class=\"edge\">\n<title>21&#45;&gt;22</title>\n<path fill=\"none\" stroke=\"black\" d=\"M200.18,-113.05C189.97,-102.83 176.76,-88.94 166.3,-75.6 164.46,-73.26 162.64,-70.62 161.02,-68.12\"/>\n<polygon fill=\"black\" stroke=\"black\" points=\"164.01,-66.3 155.84,-59.56 158.03,-69.93 164.01,-66.3\"/>\n</g>\n<!-- 23 -->\n<g id=\"node24\" class=\"node\">\n<title>23</title>\n<ellipse fill=\"none\" stroke=\"black\" cx=\"221.3\" cy=\"-57.6\" rx=\"46.29\" ry=\"18\"/>\n<text text-anchor=\"middle\" x=\"221.3\" y=\"-53.9\" font-family=\"Times New Roman,serif\" font-size=\"14.00\">&#39;m&#39; → &#39;M&#39;</text>\n</g>\n<!-- 21&#45;&gt;23 -->\n<g id=\"edge23\" class=\"edge\">\n<title>21&#45;&gt;23</title>\n<path fill=\"none\" stroke=\"black\" d=\"M217.53,-111.3C218.08,-103.58 218.75,-94.31 219.36,-85.71\"/>\n<polygon fill=\"black\" stroke=\"black\" points=\"222.85,-85.93 220.07,-75.7 215.87,-85.43 222.85,-85.93\"/>\n</g>\n<!-- 24 -->\n<g id=\"node25\" class=\"node\">\n<title>24</title>\n<ellipse fill=\"black\" stroke=\"black\" cx=\"210.3\" cy=\"-1.8\" rx=\"1.8\" ry=\"1.8\"/>\n</g>\n<!-- 23&#45;&gt;24 -->\n<g id=\"edge24\" class=\"edge\">\n<title>23&#45;&gt;24</title>\n<path fill=\"none\" stroke=\"black\" d=\"M217.82,-39.58C216.08,-31.07 214.02,-21.02 212.5,-13.58\"/>\n<polygon fill=\"black\" stroke=\"black\" points=\"215.92,-12.83 210.49,-3.73 209.06,-14.23 215.92,-12.83\"/>\n</g>\n<!-- 25 -->\n<g id=\"node26\" class=\"node\">\n<title>25</title>\n<ellipse fill=\"black\" stroke=\"black\" cx=\"232.3\" cy=\"-1.8\" rx=\"1.8\" ry=\"1.8\"/>\n</g>\n<!-- 23&#45;&gt;25 -->\n<g id=\"edge25\" class=\"edge\">\n<title>23&#45;&gt;25</title>\n<path fill=\"none\" stroke=\"black\" d=\"M224.78,-39.58C226.52,-31.07 228.57,-21.02 230.09,-13.58\"/>\n<polygon fill=\"black\" stroke=\"black\" points=\"233.53,-14.23 232.11,-3.73 226.67,-12.83 233.53,-14.23\"/>\n</g>\n<!-- 27 -->\n<g id=\"node28\" class=\"node\">\n<title>27</title>\n<ellipse fill=\"black\" stroke=\"black\" cx=\"303.3\" cy=\"-57.6\" rx=\"1.8\" ry=\"1.8\"/>\n</g>\n<!-- 26&#45;&gt;27 -->\n<g id=\"edge27\" class=\"edge\">\n<title>26&#45;&gt;27</title>\n<path fill=\"none\" stroke=\"black\" d=\"M311.58,-111.3C309.52,-98.23 306.77,-80.71 305.01,-69.53\"/>\n<polygon fill=\"black\" stroke=\"black\" points=\"308.43,-68.74 303.42,-59.41 301.52,-69.83 308.43,-68.74\"/>\n</g>\n<!-- 28 -->\n<g id=\"node29\" class=\"node\">\n<title>28</title>\n<ellipse fill=\"black\" stroke=\"black\" cx=\"325.3\" cy=\"-57.6\" rx=\"1.8\" ry=\"1.8\"/>\n</g>\n<!-- 26&#45;&gt;28 -->\n<g id=\"edge28\" class=\"edge\">\n<title>26&#45;&gt;28</title>\n<path fill=\"none\" stroke=\"black\" d=\"M317.02,-111.3C319.07,-98.23 321.82,-80.71 323.58,-69.53\"/>\n<polygon fill=\"black\" stroke=\"black\" points=\"327.07,-69.83 325.17,-59.41 320.16,-68.74 327.07,-69.83\"/>\n</g>\n<!-- 31 -->\n<g id=\"node32\" class=\"node\">\n<title>31</title>\n<ellipse fill=\"none\" stroke=\"black\" cx=\"277.3\" cy=\"-417.6\" rx=\"38.99\" ry=\"18\"/>\n<text text-anchor=\"middle\" x=\"277.3\" y=\"-413.9\" font-family=\"Times New Roman,serif\" font-size=\"14.00\">&#39;s&#39; → &#39;S&#39;</text>\n</g>\n<!-- 30&#45;&gt;31 -->\n<g id=\"edge31\" class=\"edge\">\n<title>30&#45;&gt;31</title>\n<path fill=\"none\" stroke=\"black\" d=\"M277.3,-471.3C277.3,-463.58 277.3,-454.31 277.3,-445.71\"/>\n<polygon fill=\"black\" stroke=\"black\" points=\"280.8,-445.7 277.3,-435.7 273.8,-445.7 280.8,-445.7\"/>\n</g>\n<!-- 36 -->\n<g id=\"node37\" class=\"node\">\n<title>36</title>\n<ellipse fill=\"none\" stroke=\"black\" cx=\"388.3\" cy=\"-417.6\" rx=\"46.29\" ry=\"18\"/>\n<text text-anchor=\"middle\" x=\"388.3\" y=\"-413.9\" font-family=\"Times New Roman,serif\" font-size=\"14.00\">&#39;w&#39; → &#39;W&#39;</text>\n</g>\n<!-- 30&#45;&gt;36 -->\n<g id=\"edge36\" class=\"edge\">\n<title>30&#45;&gt;36</title>\n<path fill=\"none\" stroke=\"black\" d=\"M299.23,-474.77C315.52,-464.5 337.98,-450.33 356.28,-438.79\"/>\n<polygon fill=\"black\" stroke=\"black\" points=\"358.29,-441.66 364.88,-433.37 354.55,-435.74 358.29,-441.66\"/>\n</g>\n<!-- 32 -->\n<g id=\"node33\" class=\"node\">\n<title>32</title>\n<ellipse fill=\"none\" stroke=\"black\" cx=\"268.3\" cy=\"-345.6\" rx=\"39.79\" ry=\"18\"/>\n<text text-anchor=\"middle\" x=\"268.3\" y=\"-341.9\" font-family=\"Times New Roman,serif\" font-size=\"14.00\">&#39;r&#39; → &#39;R&#39;</text>\n</g>\n<!-- 31&#45;&gt;32 -->\n<g id=\"edge32\" class=\"edge\">\n<title>31&#45;&gt;32</title>\n<path fill=\"none\" stroke=\"black\" d=\"M275.07,-399.3C274.08,-391.58 272.89,-382.31 271.78,-373.71\"/>\n<polygon fill=\"black\" stroke=\"black\" points=\"275.24,-373.18 270.5,-363.7 268.3,-374.07 275.24,-373.18\"/>\n</g>\n<!-- 35 -->\n<g id=\"node36\" class=\"node\">\n<title>35</title>\n<ellipse fill=\"black\" stroke=\"black\" cx=\"327.3\" cy=\"-345.6\" rx=\"1.8\" ry=\"1.8\"/>\n</g>\n<!-- 31&#45;&gt;35 -->\n<g id=\"edge35\" class=\"edge\">\n<title>31&#45;&gt;35</title>\n<path fill=\"none\" stroke=\"black\" d=\"M290.41,-400.25C298.47,-389.95 308.84,-376.25 317.3,-363.6 318.84,-361.29 320.41,-358.73 321.84,-356.32\"/>\n<polygon fill=\"black\" stroke=\"black\" points=\"324.92,-357.97 326.79,-347.54 318.83,-354.53 324.92,-357.97\"/>\n</g>\n<!-- 33 -->\n<g id=\"node34\" class=\"node\">\n<title>33</title>\n<ellipse fill=\"black\" stroke=\"black\" cx=\"260.3\" cy=\"-273.6\" rx=\"1.8\" ry=\"1.8\"/>\n</g>\n<!-- 32&#45;&gt;33 -->\n<g id=\"edge33\" class=\"edge\">\n<title>32&#45;&gt;33</title>\n<path fill=\"none\" stroke=\"black\" d=\"M266.32,-327.3C264.83,-314.23 262.82,-296.71 261.55,-285.53\"/>\n<polygon fill=\"black\" stroke=\"black\" points=\"265,-284.95 260.39,-275.41 258.05,-285.74 265,-284.95\"/>\n</g>\n<!-- 34 -->\n<g id=\"node35\" class=\"node\">\n<title>34</title>\n<ellipse fill=\"black\" stroke=\"black\" cx=\"282.3\" cy=\"-273.6\" rx=\"1.8\" ry=\"1.8\"/>\n</g>\n<!-- 32&#45;&gt;34 -->\n<g id=\"edge34\" class=\"edge\">\n<title>32&#45;&gt;34</title>\n<path fill=\"none\" stroke=\"black\" d=\"M271.69,-327.65C274.33,-314.45 277.91,-296.53 280.16,-285.27\"/>\n<polygon fill=\"black\" stroke=\"black\" points=\"283.6,-285.91 282.13,-275.42 276.74,-284.54 283.6,-285.91\"/>\n</g>\n<!-- 37 -->\n<g id=\"node38\" class=\"node\">\n<title>37</title>\n<ellipse fill=\"none\" stroke=\"black\" cx=\"388.3\" cy=\"-345.6\" rx=\"41.69\" ry=\"18\"/>\n<text text-anchor=\"middle\" x=\"388.3\" y=\"-341.9\" font-family=\"Times New Roman,serif\" font-size=\"14.00\">&#39;u&#39; → &#39;U&#39;</text>\n</g>\n<!-- 36&#45;&gt;37 -->\n<g id=\"edge37\" class=\"edge\">\n<title>36&#45;&gt;37</title>\n<path fill=\"none\" stroke=\"black\" d=\"M388.3,-399.3C388.3,-391.58 388.3,-382.31 388.3,-373.71\"/>\n<polygon fill=\"black\" stroke=\"black\" points=\"391.8,-373.7 388.3,-363.7 384.8,-373.7 391.8,-373.7\"/>\n</g>\n<!-- 40 -->\n<g id=\"node41\" class=\"node\">\n<title>40</title>\n<ellipse fill=\"none\" stroke=\"black\" cx=\"488.3\" cy=\"-345.6\" rx=\"40.09\" ry=\"18\"/>\n<text text-anchor=\"middle\" x=\"488.3\" y=\"-341.9\" font-family=\"Times New Roman,serif\" font-size=\"14.00\">&#39;z&#39; → &#39;Z&#39;</text>\n</g>\n<!-- 36&#45;&gt;40 -->\n<g id=\"edge40\" class=\"edge\">\n<title>36&#45;&gt;40</title>\n<path fill=\"none\" stroke=\"black\" d=\"M409.99,-401.41C424.34,-391.37 443.32,-378.08 459,-367.1\"/>\n<polygon fill=\"black\" stroke=\"black\" points=\"461.14,-369.88 467.33,-361.28 457.13,-364.15 461.14,-369.88\"/>\n</g>\n<!-- 38 -->\n<g id=\"node39\" class=\"node\">\n<title>38</title>\n<ellipse fill=\"black\" stroke=\"black\" cx=\"366.3\" cy=\"-273.6\" rx=\"1.8\" ry=\"1.8\"/>\n</g>\n<!-- 37&#45;&gt;38 -->\n<g id=\"edge38\" class=\"edge\">\n<title>37&#45;&gt;38</title>\n<path fill=\"none\" stroke=\"black\" d=\"M382.97,-327.65C378.82,-314.45 373.19,-296.53 369.65,-285.27\"/>\n<polygon fill=\"black\" stroke=\"black\" points=\"372.89,-283.91 366.55,-275.42 366.21,-286.01 372.89,-283.91\"/>\n</g>\n<!-- 39 -->\n<g id=\"node40\" class=\"node\">\n<title>39</title>\n<ellipse fill=\"black\" stroke=\"black\" cx=\"388.3\" cy=\"-273.6\" rx=\"1.8\" ry=\"1.8\"/>\n</g>\n<!-- 37&#45;&gt;39 -->\n<g id=\"edge39\" class=\"edge\">\n<title>37&#45;&gt;39</title>\n<path fill=\"none\" stroke=\"black\" d=\"M388.3,-327.3C388.3,-314.23 388.3,-296.71 388.3,-285.53\"/>\n<polygon fill=\"black\" stroke=\"black\" points=\"391.8,-285.41 388.3,-275.41 384.8,-285.41 391.8,-285.41\"/>\n</g>\n<!-- 41 -->\n<g id=\"node42\" class=\"node\">\n<title>41</title>\n<ellipse fill=\"none\" stroke=\"black\" cx=\"451.3\" cy=\"-273.6\" rx=\"41.69\" ry=\"18\"/>\n<text text-anchor=\"middle\" x=\"451.3\" y=\"-269.9\" font-family=\"Times New Roman,serif\" font-size=\"14.00\">&#39;y&#39; → &#39;Y&#39;</text>\n</g>\n<!-- 40&#45;&gt;41 -->\n<g id=\"edge41\" class=\"edge\">\n<title>40&#45;&gt;41</title>\n<path fill=\"none\" stroke=\"black\" d=\"M479.53,-328.01C475.21,-319.85 469.91,-309.82 465.07,-300.67\"/>\n<polygon fill=\"black\" stroke=\"black\" points=\"468.03,-298.76 460.26,-291.56 461.84,-302.03 468.03,-298.76\"/>\n</g>\n<!-- 46 -->\n<g id=\"node47\" class=\"node\">\n<title>46</title>\n<ellipse fill=\"black\" stroke=\"black\" cx=\"512.3\" cy=\"-273.6\" rx=\"1.8\" ry=\"1.8\"/>\n</g>\n<!-- 40&#45;&gt;46 -->\n<g id=\"edge46\" class=\"edge\">\n<title>40&#45;&gt;46</title>\n<path fill=\"none\" stroke=\"black\" d=\"M494.11,-327.65C498.68,-314.31 504.91,-296.14 508.77,-284.9\"/>\n<polygon fill=\"black\" stroke=\"black\" points=\"512.08,-286.01 512.02,-275.42 505.46,-283.74 512.08,-286.01\"/>\n</g>\n<!-- 42 -->\n<g id=\"node43\" class=\"node\">\n<title>42</title>\n<ellipse fill=\"none\" stroke=\"black\" cx=\"394.3\" cy=\"-201.6\" rx=\"41.69\" ry=\"18\"/>\n<text text-anchor=\"middle\" x=\"394.3\" y=\"-197.9\" font-family=\"Times New Roman,serif\" font-size=\"14.00\">&#39;x&#39; → &#39;X&#39;</text>\n</g>\n<!-- 41&#45;&gt;42 -->\n<g id=\"edge42\" class=\"edge\">\n<title>41&#45;&gt;42</title>\n<path fill=\"none\" stroke=\"black\" d=\"M438.08,-256.36C430.88,-247.53 421.84,-236.43 413.85,-226.61\"/>\n<polygon fill=\"black\" stroke=\"black\" points=\"416.47,-224.29 407.44,-218.75 411.05,-228.71 416.47,-224.29\"/>\n</g>\n<!-- 45 -->\n<g id=\"node46\" class=\"node\">\n<title>45</title>\n<ellipse fill=\"black\" stroke=\"black\" cx=\"455.3\" cy=\"-201.6\" rx=\"1.8\" ry=\"1.8\"/>\n</g>\n<!-- 41&#45;&gt;45 -->\n<g id=\"edge45\" class=\"edge\">\n<title>41&#45;&gt;45</title>\n<path fill=\"none\" stroke=\"black\" d=\"M452.29,-255.3C453.03,-242.23 454.03,-224.71 454.67,-213.53\"/>\n<polygon fill=\"black\" stroke=\"black\" points=\"458.17,-213.59 455.25,-203.41 451.19,-213.19 458.17,-213.59\"/>\n</g>\n<!-- 43 -->\n<g id=\"node44\" class=\"node\">\n<title>43</title>\n<ellipse fill=\"black\" stroke=\"black\" cx=\"384.3\" cy=\"-129.6\" rx=\"1.8\" ry=\"1.8\"/>\n</g>\n<!-- 42&#45;&gt;43 -->\n<g id=\"edge43\" class=\"edge\">\n<title>42&#45;&gt;43</title>\n<path fill=\"none\" stroke=\"black\" d=\"M391.82,-183.3C389.96,-170.23 387.46,-152.71 385.86,-141.53\"/>\n<polygon fill=\"black\" stroke=\"black\" points=\"389.29,-140.81 384.41,-131.41 382.36,-141.8 389.29,-140.81\"/>\n</g>\n<!-- 44 -->\n<g id=\"node45\" class=\"node\">\n<title>44</title>\n<ellipse fill=\"black\" stroke=\"black\" cx=\"406.3\" cy=\"-129.6\" rx=\"1.8\" ry=\"1.8\"/>\n</g>\n<!-- 42&#45;&gt;44 -->\n<g id=\"edge44\" class=\"edge\">\n<title>42&#45;&gt;44</title>\n<path fill=\"none\" stroke=\"black\" d=\"M397.26,-183.3C399.5,-170.23 402.51,-152.71 404.42,-141.53\"/>\n<polygon fill=\"black\" stroke=\"black\" points=\"407.92,-141.85 406.16,-131.41 401.02,-140.67 407.92,-141.85\"/>\n</g>\n</g>\n</svg>\n",
      "text/plain": [
       "<graphviz.graphs.Digraph at 0x2a481779150>"
      ]
     },
     "execution_count": 33,
     "metadata": {},
     "output_type": "execute_result"
    }
   ],
   "source": [
    "bst.draw()"
   ]
  },
  {
   "cell_type": "code",
   "execution_count": 34,
   "metadata": {},
   "outputs": [
    {
     "data": {
      "text/plain": [
       "23"
      ]
     },
     "execution_count": 34,
     "metadata": {},
     "output_type": "execute_result"
    }
   ],
   "source": [
    "len(bst)"
   ]
  },
  {
   "cell_type": "code",
   "execution_count": 35,
   "metadata": {},
   "outputs": [
    {
     "data": {
      "text/plain": [
       "'ZYXWUTSRQPONMLKIHGFEDCA'"
      ]
     },
     "execution_count": 35,
     "metadata": {},
     "output_type": "execute_result"
    }
   ],
   "source": [
    "''.join(reversed(bst.values()))"
   ]
  },
  {
   "cell_type": "code",
   "execution_count": 36,
   "metadata": {},
   "outputs": [
    {
     "data": {
      "text/plain": [
       "True"
      ]
     },
     "execution_count": 36,
     "metadata": {},
     "output_type": "execute_result"
    }
   ],
   "source": [
    "'s' in bst"
   ]
  },
  {
   "cell_type": "code",
   "execution_count": 37,
   "metadata": {},
   "outputs": [
    {
     "data": {
      "text/plain": [
       "False"
      ]
     },
     "execution_count": 37,
     "metadata": {},
     "output_type": "execute_result"
    }
   ],
   "source": [
    "'v' in bst"
   ]
  },
  {
   "cell_type": "code",
   "execution_count": 38,
   "metadata": {},
   "outputs": [
    {
     "data": {
      "text/plain": [
       "True"
      ]
     },
     "execution_count": 38,
     "metadata": {},
     "output_type": "execute_result"
    }
   ],
   "source": [
    "('s', 'S') in bst.items()"
   ]
  },
  {
   "cell_type": "code",
   "execution_count": 39,
   "metadata": {},
   "outputs": [
    {
     "data": {
      "text/plain": [
       "False"
      ]
     },
     "execution_count": 39,
     "metadata": {},
     "output_type": "execute_result"
    }
   ],
   "source": [
    "('s', 'T') in bst.items()"
   ]
  },
  {
   "cell_type": "code",
   "execution_count": null,
   "metadata": {},
   "outputs": [],
   "source": []
  }
 ],
 "metadata": {
  "kernelspec": {
   "display_name": "Python 3.10.5 ('algoviz-basics')",
   "language": "python",
   "name": "python3"
  },
  "language_info": {
   "codemirror_mode": {
    "name": "ipython",
    "version": 3
   },
   "file_extension": ".py",
   "mimetype": "text/x-python",
   "name": "python",
   "nbconvert_exporter": "python",
   "pygments_lexer": "ipython3",
   "version": "3.10.5"
  },
  "orig_nbformat": 4,
  "vscode": {
   "interpreter": {
    "hash": "a924a81514a67ab7abb52f10576a3bff5d43dd09540bf62ec090588d0cbe25a3"
   }
  }
 },
 "nbformat": 4,
 "nbformat_minor": 2
}
