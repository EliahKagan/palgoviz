{
 "cells": [
  {
   "cell_type": "code",
   "execution_count": 1,
   "id": "e82bf3a4-a774-4480-ad02-4f747e0c3e10",
   "metadata": {},
   "outputs": [],
   "source": [
    "import functools"
   ]
  },
  {
   "cell_type": "code",
   "execution_count": 2,
   "id": "49139dbb-a4fa-4925-892f-384c8dadde66",
   "metadata": {},
   "outputs": [],
   "source": [
    "def count_calls(func): \n",
    "    @functools.wraps(func)\n",
    "    def wrapper(*pargs, **kwargs): \n",
    "        if hasattr(wrapper, 'count'): \n",
    "            count = getattr(wrapper, 'count')\n",
    "        else: \n",
    "            count = 0\n",
    "        count += 1\n",
    "        setattr(wrapper, 'count', count)\n",
    "        return func(*pargs, **kwargs)\n",
    "    return wrapper"
   ]
  },
  {
   "cell_type": "code",
   "execution_count": 3,
   "id": "7f36cf09-f53b-465a-a48e-1d9808baa1c8",
   "metadata": {},
   "outputs": [],
   "source": [
    "def c(): return 1"
   ]
  },
  {
   "cell_type": "code",
   "execution_count": 4,
   "id": "a5c80d60-b0bb-4e16-876a-4b3e11018c10",
   "metadata": {},
   "outputs": [],
   "source": [
    "@count_calls\n",
    "def d(): return 1"
   ]
  },
  {
   "cell_type": "code",
   "execution_count": 5,
   "id": "cad6335c-a347-4122-9d5a-79e01ee13942",
   "metadata": {},
   "outputs": [
    {
     "data": {
      "text/plain": [
       "1"
      ]
     },
     "execution_count": 5,
     "metadata": {},
     "output_type": "execute_result"
    }
   ],
   "source": [
    "d()"
   ]
  },
  {
   "cell_type": "code",
   "execution_count": 6,
   "id": "614374ad-8f37-4de4-b648-7e1e0dbc7b34",
   "metadata": {},
   "outputs": [
    {
     "data": {
      "text/plain": [
       "1"
      ]
     },
     "execution_count": 6,
     "metadata": {},
     "output_type": "execute_result"
    }
   ],
   "source": [
    "d.count"
   ]
  },
  {
   "cell_type": "code",
   "execution_count": 7,
   "id": "76f3d391-c7e3-4c60-9cab-4ce8f2644db0",
   "metadata": {},
   "outputs": [
    {
     "data": {
      "text/plain": [
       "1"
      ]
     },
     "execution_count": 7,
     "metadata": {},
     "output_type": "execute_result"
    }
   ],
   "source": [
    "d()"
   ]
  },
  {
   "cell_type": "code",
   "execution_count": 8,
   "id": "c8d9c216-0fce-4785-a5f3-2f0037c62df8",
   "metadata": {},
   "outputs": [
    {
     "data": {
      "text/plain": [
       "2"
      ]
     },
     "execution_count": 8,
     "metadata": {},
     "output_type": "execute_result"
    }
   ],
   "source": [
    "d.count"
   ]
  },
  {
   "cell_type": "code",
   "execution_count": 9,
   "id": "e015f924-ed84-490c-a321-02ed15a24948",
   "metadata": {},
   "outputs": [
    {
     "data": {
      "text/plain": [
       "1"
      ]
     },
     "execution_count": 9,
     "metadata": {},
     "output_type": "execute_result"
    }
   ],
   "source": [
    "d()"
   ]
  },
  {
   "cell_type": "code",
   "execution_count": 10,
   "id": "46a3ec3b-fa4a-4961-b3ee-a30a3ef3644c",
   "metadata": {},
   "outputs": [
    {
     "data": {
      "text/plain": [
       "3"
      ]
     },
     "execution_count": 10,
     "metadata": {},
     "output_type": "execute_result"
    }
   ],
   "source": [
    "d.count"
   ]
  },
  {
   "cell_type": "code",
   "execution_count": 11,
   "id": "bc664c0c-2449-4ae1-afd4-8cc5ee07a640",
   "metadata": {},
   "outputs": [],
   "source": [
    "def count_calls_factory(*, name='default'): \n",
    "    def decorator(func):\n",
    "        @functools.wraps(func)\n",
    "        def wrapper(*pargs, **kwargs):\n",
    "            if hasattr(wrapper, name):\n",
    "                count = getattr(wrapper, name)\n",
    "            else:\n",
    "                count = 0\n",
    "\n",
    "            count += 1\n",
    "            setattr(wrapper, name, count)\n",
    "\n",
    "            return func(*pargs, **kwargs)\n",
    "\n",
    "        return wrapper\n",
    "    return decorator"
   ]
  },
  {
   "cell_type": "code",
   "execution_count": 12,
   "id": "e7e1afef-7581-431a-8d8b-a742e967d9f3",
   "metadata": {},
   "outputs": [],
   "source": [
    "@count_calls_factory()\n",
    "def e(): return 1"
   ]
  },
  {
   "cell_type": "code",
   "execution_count": 13,
   "id": "06410a47-1b48-4238-a30f-8a74e96fb1b9",
   "metadata": {},
   "outputs": [
    {
     "data": {
      "text/plain": [
       "1"
      ]
     },
     "execution_count": 13,
     "metadata": {},
     "output_type": "execute_result"
    }
   ],
   "source": [
    "e()"
   ]
  },
  {
   "cell_type": "code",
   "execution_count": 14,
   "id": "4ead6e2c-f9cf-457e-b861-2330a1e8c8dd",
   "metadata": {},
   "outputs": [
    {
     "data": {
      "text/plain": [
       "1"
      ]
     },
     "execution_count": 14,
     "metadata": {},
     "output_type": "execute_result"
    }
   ],
   "source": [
    "e.default"
   ]
  },
  {
   "cell_type": "code",
   "execution_count": 15,
   "id": "9a383145-efc3-4cca-980a-48bc60378164",
   "metadata": {},
   "outputs": [
    {
     "data": {
      "text/plain": [
       "1"
      ]
     },
     "execution_count": 15,
     "metadata": {},
     "output_type": "execute_result"
    }
   ],
   "source": [
    "e()"
   ]
  },
  {
   "cell_type": "code",
   "execution_count": 16,
   "id": "74b8f3ec-175f-4c7e-9902-5ba023bae6b7",
   "metadata": {},
   "outputs": [
    {
     "data": {
      "text/plain": [
       "2"
      ]
     },
     "execution_count": 16,
     "metadata": {},
     "output_type": "execute_result"
    }
   ],
   "source": [
    "e.default"
   ]
  },
  {
   "cell_type": "code",
   "execution_count": null,
   "id": "3a6ebf7b-6055-47e6-9b0a-bb914470cbee",
   "metadata": {},
   "outputs": [],
   "source": []
  }
 ],
 "metadata": {
  "kernelspec": {
   "display_name": "Python 3 (ipykernel)",
   "language": "python",
   "name": "python3"
  },
  "language_info": {
   "codemirror_mode": {
    "name": "ipython",
    "version": 3
   },
   "file_extension": ".py",
   "mimetype": "text/x-python",
   "name": "python",
   "nbconvert_exporter": "python",
   "pygments_lexer": "ipython3",
   "version": "3.10.5"
  }
 },
 "nbformat": 4,
 "nbformat_minor": 5
}
