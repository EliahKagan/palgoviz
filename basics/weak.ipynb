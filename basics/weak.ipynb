{
 "cells": [
  {
   "cell_type": "markdown",
   "id": "cb1f6bb2-52b9-430f-9aec-1d04be5a9ff5",
   "metadata": {},
   "source": [
    "# Weak references"
   ]
  },
  {
   "cell_type": "markdown",
   "id": "11c65ba0-9678-4994-a6d8-ebcefdb19905",
   "metadata": {},
   "source": [
    "https://docs.python.org/3/library/weakref.html\n",
    "\n",
    "TODO: Don't worry, there will be more in this notebook. :)"
   ]
  },
  {
   "cell_type": "code",
   "execution_count": null,
   "id": "411150cf-37b4-4a50-a0f3-2af527f468c4",
   "metadata": {},
   "outputs": [],
   "source": []
  }
 ],
 "metadata": {
  "kernelspec": {
   "display_name": "Python 3 (ipykernel)",
   "language": "python",
   "name": "python3"
  },
  "language_info": {
   "codemirror_mode": {
    "name": "ipython",
    "version": 3
   },
   "file_extension": ".py",
   "mimetype": "text/x-python",
   "name": "python",
   "nbconvert_exporter": "python",
   "pygments_lexer": "ipython3",
   "version": "3.10.6"
  }
 },
 "nbformat": 4,
 "nbformat_minor": 5
}
