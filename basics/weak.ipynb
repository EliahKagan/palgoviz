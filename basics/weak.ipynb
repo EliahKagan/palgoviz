{
 "cells": [
  {
   "cell_type": "markdown",
   "id": "cb1f6bb2-52b9-430f-9aec-1d04be5a9ff5",
   "metadata": {},
   "source": [
    "# Weak references"
   ]
  },
  {
   "cell_type": "markdown",
   "id": "11c65ba0-9678-4994-a6d8-ebcefdb19905",
   "metadata": {},
   "source": [
    "https://docs.python.org/3/library/weakref.html"
   ]
  },
  {
   "cell_type": "code",
   "execution_count": 1,
   "id": "0c5129c8-153d-4098-93c3-d4a71a455569",
   "metadata": {},
   "outputs": [],
   "source": [
    "import gc\n",
    "import weakref"
   ]
  },
  {
   "cell_type": "code",
   "execution_count": 2,
   "id": "411150cf-37b4-4a50-a0f3-2af527f468c4",
   "metadata": {},
   "outputs": [],
   "source": [
    "class C: pass"
   ]
  },
  {
   "cell_type": "code",
   "execution_count": 3,
   "id": "d705a587-259a-4ace-af7c-588d1f518939",
   "metadata": {},
   "outputs": [],
   "source": [
    "c = C()"
   ]
  },
  {
   "cell_type": "code",
   "execution_count": 4,
   "id": "e73b0176-7b9a-451f-9fea-a6f1a369d0e4",
   "metadata": {},
   "outputs": [
    {
     "data": {
      "text/plain": [
       "'<__main__.C object at 0x000002427258F7F0>'"
      ]
     },
     "execution_count": 4,
     "metadata": {},
     "output_type": "execute_result"
    }
   ],
   "source": [
    "repr(c)"
   ]
  },
  {
   "cell_type": "code",
   "execution_count": 5,
   "id": "68eec45b-41ed-4116-adf3-47b75c50c7e3",
   "metadata": {},
   "outputs": [
    {
     "name": "stdout",
     "output_type": "stream",
     "text": [
      "<__main__.C object at 0x000002427258F7F0>\n"
     ]
    }
   ],
   "source": [
    "print(c)"
   ]
  },
  {
   "cell_type": "code",
   "execution_count": 6,
   "id": "9bac6083-24c3-448f-9d52-a77f0e8e4cf4",
   "metadata": {},
   "outputs": [],
   "source": [
    "r = weakref.ref(c)"
   ]
  },
  {
   "cell_type": "code",
   "execution_count": 7,
   "id": "f54d2e08-cdef-489a-b39f-1800cd11e441",
   "metadata": {},
   "outputs": [
    {
     "data": {
      "text/plain": [
       "<weakref at 0x00000242725C2250; to 'C' at 0x000002427258F7F0>"
      ]
     },
     "execution_count": 7,
     "metadata": {},
     "output_type": "execute_result"
    }
   ],
   "source": [
    "r"
   ]
  },
  {
   "cell_type": "code",
   "execution_count": 8,
   "id": "32267232-9432-4a10-b269-b687e73e68eb",
   "metadata": {},
   "outputs": [
    {
     "name": "stdout",
     "output_type": "stream",
     "text": [
      "<__main__.C object at 0x000002427258F7F0>\n"
     ]
    }
   ],
   "source": [
    "print(r())"
   ]
  },
  {
   "cell_type": "code",
   "execution_count": 9,
   "id": "73229d08-e591-4492-9315-09a8233ed57c",
   "metadata": {},
   "outputs": [
    {
     "data": {
      "text/plain": [
       "True"
      ]
     },
     "execution_count": 9,
     "metadata": {},
     "output_type": "execute_result"
    }
   ],
   "source": [
    "r() is c"
   ]
  },
  {
   "cell_type": "code",
   "execution_count": 10,
   "id": "337bd379-e397-485c-8a08-8c5e633a86b0",
   "metadata": {},
   "outputs": [],
   "source": [
    "del c"
   ]
  },
  {
   "cell_type": "code",
   "execution_count": 11,
   "id": "b6eacd31-6873-437b-994d-648d1d8d76d1",
   "metadata": {},
   "outputs": [
    {
     "name": "stdout",
     "output_type": "stream",
     "text": [
      "None\n"
     ]
    }
   ],
   "source": [
    "print(r())"
   ]
  },
  {
   "cell_type": "code",
   "execution_count": 12,
   "id": "6b3050af-f569-4e6b-b9af-ec551c730234",
   "metadata": {},
   "outputs": [],
   "source": [
    "n = None"
   ]
  },
  {
   "cell_type": "code",
   "execution_count": 13,
   "id": "4608075c-ae64-4835-a7aa-681e4407bbbf",
   "metadata": {},
   "outputs": [],
   "source": [
    "n"
   ]
  },
  {
   "cell_type": "code",
   "execution_count": 14,
   "id": "b37d2f75-4d9c-4e25-80f8-594172c7f404",
   "metadata": {
    "tags": [
     "raises-exception"
    ]
   },
   "outputs": [
    {
     "ename": "TypeError",
     "evalue": "cannot create weak reference to 'NoneType' object",
     "output_type": "error",
     "traceback": [
      "\u001b[1;31m---------------------------------------------------------------------------\u001b[0m",
      "\u001b[1;31mTypeError\u001b[0m                                 Traceback (most recent call last)",
      "Cell \u001b[1;32mIn [14], line 1\u001b[0m\n\u001b[1;32m----> 1\u001b[0m rn \u001b[38;5;241m=\u001b[39m \u001b[43mweakref\u001b[49m\u001b[38;5;241;43m.\u001b[39;49m\u001b[43mref\u001b[49m\u001b[43m(\u001b[49m\u001b[43mn\u001b[49m\u001b[43m)\u001b[49m\n",
      "\u001b[1;31mTypeError\u001b[0m: cannot create weak reference to 'NoneType' object"
     ]
    }
   ],
   "source": [
    "rn = weakref.ref(n)"
   ]
  },
  {
   "cell_type": "code",
   "execution_count": 15,
   "id": "89d706b7-0f23-4be0-8b21-4923cfed9f18",
   "metadata": {
    "tags": [
     "raises-exception"
    ]
   },
   "outputs": [
    {
     "ename": "TypeError",
     "evalue": "cannot create weak reference to 'int' object",
     "output_type": "error",
     "traceback": [
      "\u001b[1;31m---------------------------------------------------------------------------\u001b[0m",
      "\u001b[1;31mTypeError\u001b[0m                                 Traceback (most recent call last)",
      "Cell \u001b[1;32mIn [15], line 1\u001b[0m\n\u001b[1;32m----> 1\u001b[0m rone \u001b[38;5;241m=\u001b[39m \u001b[43mweakref\u001b[49m\u001b[38;5;241;43m.\u001b[39;49m\u001b[43mref\u001b[49m\u001b[43m(\u001b[49m\u001b[38;5;241;43m1\u001b[39;49m\u001b[43m)\u001b[49m\n",
      "\u001b[1;31mTypeError\u001b[0m: cannot create weak reference to 'int' object"
     ]
    }
   ],
   "source": [
    "rone = weakref.ref(1)"
   ]
  },
  {
   "cell_type": "code",
   "execution_count": 16,
   "id": "0c1c85d3-d7c2-4e6f-9840-2805ef0b8395",
   "metadata": {
    "tags": [
     "raises-exception"
    ]
   },
   "outputs": [],
   "source": [
    "class CSlots: \n",
    "    __slots__ = ()"
   ]
  },
  {
   "cell_type": "code",
   "execution_count": 17,
   "id": "2f5f641f-41fa-4470-825c-1c68182b7fdc",
   "metadata": {
    "tags": [
     "raises-exception"
    ]
   },
   "outputs": [
    {
     "ename": "TypeError",
     "evalue": "cannot create weak reference to 'CSlots' object",
     "output_type": "error",
     "traceback": [
      "\u001b[1;31m---------------------------------------------------------------------------\u001b[0m",
      "\u001b[1;31mTypeError\u001b[0m                                 Traceback (most recent call last)",
      "Cell \u001b[1;32mIn [17], line 1\u001b[0m\n\u001b[1;32m----> 1\u001b[0m \u001b[43mweakref\u001b[49m\u001b[38;5;241;43m.\u001b[39;49m\u001b[43mref\u001b[49m\u001b[43m(\u001b[49m\u001b[43mCSlots\u001b[49m\u001b[43m(\u001b[49m\u001b[43m)\u001b[49m\u001b[43m)\u001b[49m\n",
      "\u001b[1;31mTypeError\u001b[0m: cannot create weak reference to 'CSlots' object"
     ]
    }
   ],
   "source": [
    "weakref.ref(CSlots())"
   ]
  },
  {
   "cell_type": "code",
   "execution_count": 18,
   "id": "06b9515c-3d30-4e0a-be1b-e0b054f5f8f0",
   "metadata": {},
   "outputs": [],
   "source": [
    "class DSlots: \n",
    "    __slots__ = ('__dict__',)"
   ]
  },
  {
   "cell_type": "code",
   "execution_count": 19,
   "id": "5bbfcff7-bce4-49d9-8b17-8cd87d3ef42e",
   "metadata": {
    "tags": [
     "raises-exception"
    ]
   },
   "outputs": [
    {
     "ename": "TypeError",
     "evalue": "cannot create weak reference to 'DSlots' object",
     "output_type": "error",
     "traceback": [
      "\u001b[1;31m---------------------------------------------------------------------------\u001b[0m",
      "\u001b[1;31mTypeError\u001b[0m                                 Traceback (most recent call last)",
      "Cell \u001b[1;32mIn [19], line 1\u001b[0m\n\u001b[1;32m----> 1\u001b[0m \u001b[43mweakref\u001b[49m\u001b[38;5;241;43m.\u001b[39;49m\u001b[43mref\u001b[49m\u001b[43m(\u001b[49m\u001b[43mDSlots\u001b[49m\u001b[43m(\u001b[49m\u001b[43m)\u001b[49m\u001b[43m)\u001b[49m\n",
      "\u001b[1;31mTypeError\u001b[0m: cannot create weak reference to 'DSlots' object"
     ]
    }
   ],
   "source": [
    "weakref.ref(DSlots())"
   ]
  },
  {
   "cell_type": "code",
   "execution_count": 20,
   "id": "45db5e27-222e-4b6e-9a17-5bc21cd31453",
   "metadata": {},
   "outputs": [
    {
     "data": {
      "text/plain": [
       "{}"
      ]
     },
     "execution_count": 20,
     "metadata": {},
     "output_type": "execute_result"
    }
   ],
   "source": [
    "DSlots().__dict__"
   ]
  },
  {
   "cell_type": "code",
   "execution_count": 21,
   "id": "264cd6d9-bf82-44ea-b667-87e22934c2c5",
   "metadata": {},
   "outputs": [],
   "source": [
    "class WRSlots: \n",
    "    __slots__ = ('__weakref__',)"
   ]
  },
  {
   "cell_type": "code",
   "execution_count": 22,
   "id": "4d81a69a-20df-4ddd-a063-d5e7ac9e5855",
   "metadata": {},
   "outputs": [],
   "source": [
    "wr = WRSlots()"
   ]
  },
  {
   "cell_type": "code",
   "execution_count": 23,
   "id": "e17f633f-c0ab-4e43-834b-ad0aaacb7cd8",
   "metadata": {},
   "outputs": [
    {
     "data": {
      "text/plain": [
       "<weakref at 0x00000242741298A0; to 'WRSlots' at 0x0000024273821F00>"
      ]
     },
     "execution_count": 23,
     "metadata": {},
     "output_type": "execute_result"
    }
   ],
   "source": [
    "weakref.ref(wr)"
   ]
  },
  {
   "cell_type": "code",
   "execution_count": 24,
   "id": "ae310a70-cded-4ab5-b551-5b044458d2d8",
   "metadata": {},
   "outputs": [
    {
     "data": {
      "text/plain": [
       "<weakref at 0x00000242741290D0; dead>"
      ]
     },
     "execution_count": 24,
     "metadata": {},
     "output_type": "execute_result"
    }
   ],
   "source": [
    "weakref.ref(WRSlots())"
   ]
  },
  {
   "cell_type": "code",
   "execution_count": 25,
   "id": "bddd6d09-ff7c-47ce-bb28-d19c8e1f90a6",
   "metadata": {},
   "outputs": [],
   "source": [
    "c2 = C()"
   ]
  },
  {
   "cell_type": "code",
   "execution_count": 26,
   "id": "9b7e364b-6b45-40d9-8b96-a5e35938264e",
   "metadata": {},
   "outputs": [],
   "source": [
    "wr = weakref.ref(c2, lambda x: print(f\"{x}'s referent is dead!\"))"
   ]
  },
  {
   "cell_type": "code",
   "execution_count": 27,
   "id": "7ac90ddb-b304-45b6-88a8-c4fd98eeb60b",
   "metadata": {},
   "outputs": [
    {
     "data": {
      "text/plain": [
       "<weakref at 0x0000024274129990; to 'C' at 0x00000242738607C0>"
      ]
     },
     "execution_count": 27,
     "metadata": {},
     "output_type": "execute_result"
    }
   ],
   "source": [
    "wr"
   ]
  },
  {
   "cell_type": "code",
   "execution_count": 28,
   "id": "b8b1162b-96d9-4c37-b10f-c113e9f91538",
   "metadata": {},
   "outputs": [
    {
     "name": "stdout",
     "output_type": "stream",
     "text": [
      "<weakref at 0x0000024274129990; dead>'s referent is dead!\n"
     ]
    }
   ],
   "source": [
    "del c2"
   ]
  },
  {
   "cell_type": "code",
   "execution_count": 29,
   "id": "9fc67ea4-d330-4f10-b1dd-0442cd6a85cc",
   "metadata": {},
   "outputs": [
    {
     "data": {
      "text/plain": [
       "<weakref at 0x0000024274129990; dead>"
      ]
     },
     "execution_count": 29,
     "metadata": {},
     "output_type": "execute_result"
    }
   ],
   "source": [
    "wr"
   ]
  },
  {
   "cell_type": "code",
   "execution_count": 30,
   "id": "6334e586-47be-43d9-a417-2f3cff5b6192",
   "metadata": {},
   "outputs": [
    {
     "name": "stderr",
     "output_type": "stream",
     "text": [
      "Exception ignored in: <function <lambda> at 0x0000024274159BD0>\n",
      "Traceback (most recent call last):\n",
      "  File \"C:\\Users\\User\\AppData\\Local\\Temp\\ipykernel_4076\\3704447829.py\", line 1, in <module>\n",
      "TypeError: <lambda>() takes 0 positional arguments but 1 was given\n"
     ]
    }
   ],
   "source": [
    "wr2 = weakref.ref(C(), lambda: print(\"The referent is dead!\"))"
   ]
  },
  {
   "cell_type": "code",
   "execution_count": 31,
   "id": "ac5c6ff2-8715-4315-8111-b59da1a00f76",
   "metadata": {},
   "outputs": [
    {
     "data": {
      "text/plain": [
       "<weakref at 0x0000024274111300; dead>"
      ]
     },
     "execution_count": 31,
     "metadata": {},
     "output_type": "execute_result"
    }
   ],
   "source": [
    "wr2"
   ]
  },
  {
   "cell_type": "code",
   "execution_count": 32,
   "id": "83c6e32d-0851-468a-a8fe-5baae6f99a34",
   "metadata": {},
   "outputs": [],
   "source": [
    "cycle = C()"
   ]
  },
  {
   "cell_type": "code",
   "execution_count": 33,
   "id": "8e460cf4-255e-4169-87a2-c38a4b94a9d3",
   "metadata": {},
   "outputs": [],
   "source": [
    "cycle.x = cycle"
   ]
  },
  {
   "cell_type": "code",
   "execution_count": 34,
   "id": "f53ea558-aed8-4aa1-b34d-52177883655e",
   "metadata": {},
   "outputs": [],
   "source": [
    "wrcycle = weakref.ref(cycle, lambda x: print(\"Referent (cycle) has died!\"))"
   ]
  },
  {
   "cell_type": "code",
   "execution_count": 35,
   "id": "ad6c6c51-44d0-49a2-9110-95ac0f9ff61a",
   "metadata": {},
   "outputs": [],
   "source": [
    "del cycle"
   ]
  },
  {
   "cell_type": "code",
   "execution_count": 36,
   "id": "174053b2-a1fb-4f6e-9699-516b9cebcc3b",
   "metadata": {},
   "outputs": [
    {
     "name": "stdout",
     "output_type": "stream",
     "text": [
      "Referent (cycle) has died!\n"
     ]
    },
    {
     "data": {
      "text/plain": [
       "671"
      ]
     },
     "execution_count": 36,
     "metadata": {},
     "output_type": "execute_result"
    }
   ],
   "source": [
    "gc.collect()"
   ]
  },
  {
   "cell_type": "code",
   "execution_count": 37,
   "id": "be0b46f3-2638-464a-a8a1-371e99c34a67",
   "metadata": {},
   "outputs": [],
   "source": [
    "class Box: \n",
    "    \n",
    "    def __init__(self, value): \n",
    "        self.value = value\n",
    "    \n",
    "    def __repr__(self): \n",
    "        return f'{type(self).__name__}({self.value!r})'\n",
    "    \n",
    "    def __eq__(self, other): \n",
    "        if not isinstance(other, type(self)): \n",
    "            return NotImplemented\n",
    "        return self.value == other.value"
   ]
  },
  {
   "cell_type": "code",
   "execution_count": 38,
   "id": "7c3e5b10-2077-4320-a6f3-2432b588237a",
   "metadata": {},
   "outputs": [],
   "source": [
    "x = Box(1)\n",
    "y = Box(1)"
   ]
  },
  {
   "cell_type": "code",
   "execution_count": 39,
   "id": "04e8640a-7ab5-4932-8109-f7937cdd5c4a",
   "metadata": {},
   "outputs": [
    {
     "data": {
      "text/plain": [
       "True"
      ]
     },
     "execution_count": 39,
     "metadata": {},
     "output_type": "execute_result"
    }
   ],
   "source": [
    "x == y"
   ]
  },
  {
   "cell_type": "code",
   "execution_count": 40,
   "id": "78fc5162-b530-4f7a-81e3-632f7701f4ef",
   "metadata": {},
   "outputs": [
    {
     "name": "stdout",
     "output_type": "stream",
     "text": [
      "Box(1)\n"
     ]
    }
   ],
   "source": [
    "print(x)"
   ]
  },
  {
   "cell_type": "code",
   "execution_count": 41,
   "id": "b04b77d4-c00a-4680-b9e8-1e3ddc6edf7c",
   "metadata": {},
   "outputs": [],
   "source": [
    "r1 = weakref.ref(x)\n",
    "r2 = weakref.ref(x)"
   ]
  },
  {
   "cell_type": "code",
   "execution_count": 42,
   "id": "0de36ead-2ac1-488f-9a60-9d4ae3ef2c9a",
   "metadata": {},
   "outputs": [
    {
     "data": {
      "text/plain": [
       "True"
      ]
     },
     "execution_count": 42,
     "metadata": {},
     "output_type": "execute_result"
    }
   ],
   "source": [
    "r1 == r2"
   ]
  },
  {
   "cell_type": "code",
   "execution_count": 43,
   "id": "a7ceb604-08e8-413e-9721-ff2f72315654",
   "metadata": {},
   "outputs": [
    {
     "data": {
      "text/plain": [
       "True"
      ]
     },
     "execution_count": 43,
     "metadata": {},
     "output_type": "execute_result"
    }
   ],
   "source": [
    "r1 is r2  # Not guaranteed."
   ]
  },
  {
   "cell_type": "code",
   "execution_count": 44,
   "id": "74388af8-7757-4927-af59-a64c8d532897",
   "metadata": {},
   "outputs": [],
   "source": [
    "r3 = weakref.ref(x, lambda _: print(\"Dead box\"))"
   ]
  },
  {
   "cell_type": "code",
   "execution_count": 45,
   "id": "4fc9bf61-2163-446e-b47a-d7b3c6017f72",
   "metadata": {},
   "outputs": [
    {
     "data": {
      "text/plain": [
       "False"
      ]
     },
     "execution_count": 45,
     "metadata": {},
     "output_type": "execute_result"
    }
   ],
   "source": [
    "r3 is r1"
   ]
  },
  {
   "cell_type": "code",
   "execution_count": 46,
   "id": "9413016b-4c52-4f28-86bd-02cd67e24843",
   "metadata": {},
   "outputs": [
    {
     "data": {
      "text/plain": [
       "True"
      ]
     },
     "execution_count": 46,
     "metadata": {},
     "output_type": "execute_result"
    }
   ],
   "source": [
    "r3 == r1"
   ]
  },
  {
   "cell_type": "code",
   "execution_count": 47,
   "id": "67bac55e-9d17-4c71-b500-2f282503958f",
   "metadata": {},
   "outputs": [],
   "source": [
    "s = weakref.ref(y)"
   ]
  },
  {
   "cell_type": "code",
   "execution_count": 48,
   "id": "fade95de-78fa-43ab-bf2a-d59977760f60",
   "metadata": {},
   "outputs": [
    {
     "data": {
      "text/plain": [
       "True"
      ]
     },
     "execution_count": 48,
     "metadata": {},
     "output_type": "execute_result"
    }
   ],
   "source": [
    "r1 == s  # Weak references compare equal when their referents compare equal. "
   ]
  },
  {
   "cell_type": "code",
   "execution_count": 49,
   "id": "d2c8b7d8-86f4-4a6a-af89-faa1e59e17f1",
   "metadata": {
    "tags": [
     "raises-exception"
    ]
   },
   "outputs": [
    {
     "ename": "TypeError",
     "evalue": "unhashable type: 'Box'",
     "output_type": "error",
     "traceback": [
      "\u001b[1;31m---------------------------------------------------------------------------\u001b[0m",
      "\u001b[1;31mTypeError\u001b[0m                                 Traceback (most recent call last)",
      "Cell \u001b[1;32mIn [49], line 1\u001b[0m\n\u001b[1;32m----> 1\u001b[0m \u001b[38;5;28;43mhash\u001b[39;49m\u001b[43m(\u001b[49m\u001b[43ms\u001b[49m\u001b[43m)\u001b[49m\n",
      "\u001b[1;31mTypeError\u001b[0m: unhashable type: 'Box'"
     ]
    }
   ],
   "source": [
    "hash(s)"
   ]
  },
  {
   "cell_type": "code",
   "execution_count": 50,
   "id": "b664d8f9-54f9-4177-83af-4201dd352857",
   "metadata": {},
   "outputs": [],
   "source": [
    "z = Box(1)"
   ]
  },
  {
   "cell_type": "code",
   "execution_count": 51,
   "id": "5294da92-7818-43da-8fb5-6b5c910a9bf1",
   "metadata": {},
   "outputs": [],
   "source": [
    "t = weakref.ref(z)"
   ]
  },
  {
   "cell_type": "code",
   "execution_count": 52,
   "id": "27aa73bc-4179-4204-8ec3-65df1642d175",
   "metadata": {},
   "outputs": [
    {
     "data": {
      "text/plain": [
       "True"
      ]
     },
     "execution_count": 52,
     "metadata": {},
     "output_type": "execute_result"
    }
   ],
   "source": [
    "r1 == s == t"
   ]
  },
  {
   "cell_type": "code",
   "execution_count": 53,
   "id": "2ca9508b-3f4d-45ce-bab2-01b7f1561872",
   "metadata": {},
   "outputs": [],
   "source": [
    "z.value = 2"
   ]
  },
  {
   "cell_type": "code",
   "execution_count": 54,
   "id": "c517fe53-a717-43d1-8ac0-d1e97e1271da",
   "metadata": {},
   "outputs": [
    {
     "name": "stdout",
     "output_type": "stream",
     "text": [
      "Box(2)\n"
     ]
    }
   ],
   "source": [
    "print(z)"
   ]
  },
  {
   "cell_type": "code",
   "execution_count": 55,
   "id": "20b6e358-53b0-42c8-9ad7-7532119c5a5c",
   "metadata": {},
   "outputs": [
    {
     "data": {
      "text/plain": [
       "False"
      ]
     },
     "execution_count": 55,
     "metadata": {},
     "output_type": "execute_result"
    }
   ],
   "source": [
    "s == t"
   ]
  },
  {
   "cell_type": "code",
   "execution_count": 56,
   "id": "7de7ceaa-a9d8-497d-9e71-346e1e4e34ac",
   "metadata": {},
   "outputs": [
    {
     "name": "stdout",
     "output_type": "stream",
     "text": [
      "Dead box\n"
     ]
    }
   ],
   "source": [
    "del x"
   ]
  },
  {
   "cell_type": "code",
   "execution_count": 57,
   "id": "7e900b28-1d5a-4207-ae4d-9b4f02803737",
   "metadata": {},
   "outputs": [
    {
     "data": {
      "text/plain": [
       "True"
      ]
     },
     "execution_count": 57,
     "metadata": {},
     "output_type": "execute_result"
    }
   ],
   "source": [
    "r1 == r2"
   ]
  },
  {
   "cell_type": "code",
   "execution_count": 58,
   "id": "c9525e38-bb55-4388-88b7-42a2828a620f",
   "metadata": {},
   "outputs": [
    {
     "data": {
      "text/plain": [
       "True"
      ]
     },
     "execution_count": 58,
     "metadata": {},
     "output_type": "execute_result"
    }
   ],
   "source": [
    "r1 is r2"
   ]
  },
  {
   "cell_type": "code",
   "execution_count": 59,
   "id": "0ac95b03-e561-45d1-bfd2-ee3d5b032ae1",
   "metadata": {},
   "outputs": [
    {
     "data": {
      "text/plain": [
       "False"
      ]
     },
     "execution_count": 59,
     "metadata": {},
     "output_type": "execute_result"
    }
   ],
   "source": [
    "r1 == r3"
   ]
  },
  {
   "cell_type": "code",
   "execution_count": 60,
   "id": "f8d29686-60b8-48a7-8edf-df180ac2e873",
   "metadata": {},
   "outputs": [
    {
     "name": "stdout",
     "output_type": "stream",
     "text": [
      "Box(1)\n"
     ]
    }
   ],
   "source": [
    "print(y)"
   ]
  },
  {
   "cell_type": "code",
   "execution_count": 61,
   "id": "d3cf96a8-8e20-4482-ab0c-ac7ff63acd75",
   "metadata": {},
   "outputs": [
    {
     "name": "stdout",
     "output_type": "stream",
     "text": [
      "Box(2)\n"
     ]
    }
   ],
   "source": [
    "print(z)"
   ]
  },
  {
   "cell_type": "code",
   "execution_count": 62,
   "id": "010ad5da-84bd-4bfc-b882-68ede1d7059a",
   "metadata": {},
   "outputs": [
    {
     "data": {
      "text/plain": [
       "False"
      ]
     },
     "execution_count": 62,
     "metadata": {},
     "output_type": "execute_result"
    }
   ],
   "source": [
    "s == t"
   ]
  },
  {
   "cell_type": "code",
   "execution_count": 63,
   "id": "3e47dd91-0267-450e-984b-1ce0b76fef06",
   "metadata": {},
   "outputs": [],
   "source": [
    "z.value = 1"
   ]
  },
  {
   "cell_type": "code",
   "execution_count": 64,
   "id": "3937870d-53c4-48ef-90bf-0d78ea3cd856",
   "metadata": {},
   "outputs": [
    {
     "data": {
      "text/plain": [
       "True"
      ]
     },
     "execution_count": 64,
     "metadata": {},
     "output_type": "execute_result"
    }
   ],
   "source": [
    "s == t"
   ]
  },
  {
   "cell_type": "code",
   "execution_count": 65,
   "id": "c5f41bd1-16a3-4f86-85b2-19af996cb20a",
   "metadata": {},
   "outputs": [],
   "source": [
    "import math"
   ]
  },
  {
   "cell_type": "code",
   "execution_count": 66,
   "id": "3eb260c0-1cb9-4369-8e34-67dbe7d1912e",
   "metadata": {},
   "outputs": [],
   "source": [
    "nbox = Box(math.nan)"
   ]
  },
  {
   "cell_type": "code",
   "execution_count": 67,
   "id": "39dc19db-735a-4fd2-b98b-afb888e047c1",
   "metadata": {},
   "outputs": [
    {
     "data": {
      "text/plain": [
       "False"
      ]
     },
     "execution_count": 67,
     "metadata": {},
     "output_type": "execute_result"
    }
   ],
   "source": [
    "nbox == nbox"
   ]
  },
  {
   "cell_type": "code",
   "execution_count": 68,
   "id": "ecc0ce70-ac59-4dee-a6a1-ef7126ce501d",
   "metadata": {},
   "outputs": [],
   "source": [
    "nbref = weakref.ref(nbox)"
   ]
  },
  {
   "cell_type": "code",
   "execution_count": 69,
   "id": "d20f12df-c0dc-4acf-a4da-c2d042c5c38f",
   "metadata": {},
   "outputs": [
    {
     "data": {
      "text/plain": [
       "False"
      ]
     },
     "execution_count": 69,
     "metadata": {},
     "output_type": "execute_result"
    }
   ],
   "source": [
    "nbref == nbref"
   ]
  },
  {
   "cell_type": "code",
   "execution_count": 70,
   "id": "3068a99b-b417-4962-a858-d0d0167f35c8",
   "metadata": {},
   "outputs": [],
   "source": [
    "del nbox"
   ]
  },
  {
   "cell_type": "code",
   "execution_count": 71,
   "id": "07c2e9fe-0ee3-45e9-b853-15ea6efe8f05",
   "metadata": {},
   "outputs": [
    {
     "data": {
      "text/plain": [
       "True"
      ]
     },
     "execution_count": 71,
     "metadata": {},
     "output_type": "execute_result"
    }
   ],
   "source": [
    "nbref == nbref"
   ]
  },
  {
   "cell_type": "code",
   "execution_count": 72,
   "id": "74da01fd-3d92-4c23-a60f-7b29d8d22a5f",
   "metadata": {},
   "outputs": [],
   "source": [
    "class LockBox: \n",
    "    \n",
    "    def __init__(self, value): \n",
    "        self._value = value\n",
    "    \n",
    "    def __repr__(self): \n",
    "        return f'{type(self).__name__}({self.value!r})'\n",
    "    \n",
    "    def __eq__(self, other): \n",
    "        if not isinstance(other, type(self)): \n",
    "            return NotImplemented\n",
    "        return self.value == other.value\n",
    "\n",
    "    def __hash__(self): \n",
    "        return hash(self.value)\n",
    "\n",
    "    @property\n",
    "    def value(self): \n",
    "        return self._value"
   ]
  },
  {
   "cell_type": "code",
   "execution_count": 73,
   "id": "b0ba58f6-b9fe-4d41-8c38-8ce8a11c7f5b",
   "metadata": {},
   "outputs": [],
   "source": [
    "lb = LockBox(1)"
   ]
  },
  {
   "cell_type": "code",
   "execution_count": 74,
   "id": "e6615bdb-bfeb-40d3-89e2-f183a244eb0a",
   "metadata": {},
   "outputs": [
    {
     "name": "stdout",
     "output_type": "stream",
     "text": [
      "LockBox(1)\n"
     ]
    }
   ],
   "source": [
    "print(lb)"
   ]
  },
  {
   "cell_type": "code",
   "execution_count": 75,
   "id": "aa361e70-cac7-42d0-8f16-961e410b32e6",
   "metadata": {},
   "outputs": [],
   "source": [
    "g = weakref.ref(lb)"
   ]
  },
  {
   "cell_type": "code",
   "execution_count": 76,
   "id": "d613e97a-6f55-469f-b526-34bc35554edb",
   "metadata": {},
   "outputs": [
    {
     "data": {
      "text/plain": [
       "1"
      ]
     },
     "execution_count": 76,
     "metadata": {},
     "output_type": "execute_result"
    }
   ],
   "source": [
    "hash(g)"
   ]
  },
  {
   "cell_type": "code",
   "execution_count": 77,
   "id": "af922d03-4439-485f-a147-a4146333164d",
   "metadata": {},
   "outputs": [],
   "source": [
    "del lb"
   ]
  },
  {
   "cell_type": "code",
   "execution_count": 78,
   "id": "aa26f8c9-2f5b-43f2-81ce-8073c205c10b",
   "metadata": {},
   "outputs": [
    {
     "data": {
      "text/plain": [
       "<weakref at 0x00000242740A3600; dead>"
      ]
     },
     "execution_count": 78,
     "metadata": {},
     "output_type": "execute_result"
    }
   ],
   "source": [
    "g"
   ]
  },
  {
   "cell_type": "code",
   "execution_count": 79,
   "id": "ceaa1ac2-16f5-4758-bd2e-871db7550315",
   "metadata": {},
   "outputs": [
    {
     "data": {
      "text/plain": [
       "1"
      ]
     },
     "execution_count": 79,
     "metadata": {},
     "output_type": "execute_result"
    }
   ],
   "source": [
    "hash(g)"
   ]
  },
  {
   "cell_type": "code",
   "execution_count": 80,
   "id": "c97f8247-25e5-48e3-999b-f93c9cbc4a3a",
   "metadata": {},
   "outputs": [],
   "source": [
    "lb2 = LockBox(2)"
   ]
  },
  {
   "cell_type": "code",
   "execution_count": 81,
   "id": "6140eaef-66cb-4bc6-baf7-ac96fc471ca2",
   "metadata": {},
   "outputs": [],
   "source": [
    "h = weakref.ref(lb2)"
   ]
  },
  {
   "cell_type": "code",
   "execution_count": 82,
   "id": "3735a446-6142-4d1f-be03-2242f9565124",
   "metadata": {},
   "outputs": [],
   "source": [
    "del lb2"
   ]
  },
  {
   "cell_type": "code",
   "execution_count": 83,
   "id": "f8b0abf1-e94d-4f2f-9846-00746fabe905",
   "metadata": {
    "tags": [
     "raises-exception"
    ]
   },
   "outputs": [
    {
     "ename": "TypeError",
     "evalue": "weak object has gone away",
     "output_type": "error",
     "traceback": [
      "\u001b[1;31m---------------------------------------------------------------------------\u001b[0m",
      "\u001b[1;31mTypeError\u001b[0m                                 Traceback (most recent call last)",
      "Cell \u001b[1;32mIn [83], line 1\u001b[0m\n\u001b[1;32m----> 1\u001b[0m \u001b[38;5;28;43mhash\u001b[39;49m\u001b[43m(\u001b[49m\u001b[43mh\u001b[49m\u001b[43m)\u001b[49m\n",
      "\u001b[1;31mTypeError\u001b[0m: weak object has gone away"
     ]
    }
   ],
   "source": [
    "hash(h)"
   ]
  },
  {
   "cell_type": "code",
   "execution_count": null,
   "id": "f3066cc1-e862-492d-ab1a-fcdd84338845",
   "metadata": {},
   "outputs": [],
   "source": []
  }
 ],
 "metadata": {
  "kernelspec": {
   "display_name": "Python 3 (ipykernel)",
   "language": "python",
   "name": "python3"
  },
  "language_info": {
   "codemirror_mode": {
    "name": "ipython",
    "version": 3
   },
   "file_extension": ".py",
   "mimetype": "text/x-python",
   "name": "python",
   "nbconvert_exporter": "python",
   "pygments_lexer": "ipython3",
   "version": "3.10.6"
  }
 },
 "nbformat": 4,
 "nbformat_minor": 5
}
