{
 "cells": [
  {
   "cell_type": "markdown",
   "id": "cb1f6bb2-52b9-430f-9aec-1d04be5a9ff5",
   "metadata": {},
   "source": [
    "# Weak references"
   ]
  },
  {
   "cell_type": "markdown",
   "id": "11c65ba0-9678-4994-a6d8-ebcefdb19905",
   "metadata": {},
   "source": [
    "https://docs.python.org/3/library/weakref.html\n",
    "\n",
    "TODO: Don't worry, there will be more in this notebook. :)"
   ]
  },
  {
   "cell_type": "code",
   "execution_count": 1,
   "id": "0c5129c8-153d-4098-93c3-d4a71a455569",
   "metadata": {},
   "outputs": [],
   "source": [
    "import weakref"
   ]
  },
  {
   "cell_type": "code",
   "execution_count": 2,
   "id": "411150cf-37b4-4a50-a0f3-2af527f468c4",
   "metadata": {},
   "outputs": [],
   "source": [
    "class C: pass"
   ]
  },
  {
   "cell_type": "code",
   "execution_count": 3,
   "id": "d705a587-259a-4ace-af7c-588d1f518939",
   "metadata": {},
   "outputs": [],
   "source": [
    "c = C()"
   ]
  },
  {
   "cell_type": "code",
   "execution_count": 4,
   "id": "e73b0176-7b9a-451f-9fea-a6f1a369d0e4",
   "metadata": {},
   "outputs": [
    {
     "data": {
      "text/plain": [
       "'<__main__.C object at 0x000001DBD2AFF2E0>'"
      ]
     },
     "execution_count": 4,
     "metadata": {},
     "output_type": "execute_result"
    }
   ],
   "source": [
    "repr(c)"
   ]
  },
  {
   "cell_type": "code",
   "execution_count": 5,
   "id": "68eec45b-41ed-4116-adf3-47b75c50c7e3",
   "metadata": {},
   "outputs": [
    {
     "name": "stdout",
     "output_type": "stream",
     "text": [
      "<__main__.C object at 0x000001DBD2AFF2E0>\n"
     ]
    }
   ],
   "source": [
    "print(c)"
   ]
  },
  {
   "cell_type": "code",
   "execution_count": 6,
   "id": "9bac6083-24c3-448f-9d52-a77f0e8e4cf4",
   "metadata": {},
   "outputs": [],
   "source": [
    "r = weakref.ref(c)"
   ]
  },
  {
   "cell_type": "code",
   "execution_count": 7,
   "id": "f54d2e08-cdef-489a-b39f-1800cd11e441",
   "metadata": {},
   "outputs": [
    {
     "data": {
      "text/plain": [
       "<weakref at 0x000001DBD2B322A0; to 'C' at 0x000001DBD2AFF2E0>"
      ]
     },
     "execution_count": 7,
     "metadata": {},
     "output_type": "execute_result"
    }
   ],
   "source": [
    "r"
   ]
  },
  {
   "cell_type": "code",
   "execution_count": 8,
   "id": "32267232-9432-4a10-b269-b687e73e68eb",
   "metadata": {},
   "outputs": [
    {
     "name": "stdout",
     "output_type": "stream",
     "text": [
      "<__main__.C object at 0x000001DBD2AFF2E0>\n"
     ]
    }
   ],
   "source": [
    "print(r())"
   ]
  },
  {
   "cell_type": "code",
   "execution_count": 9,
   "id": "73229d08-e591-4492-9315-09a8233ed57c",
   "metadata": {},
   "outputs": [
    {
     "data": {
      "text/plain": [
       "True"
      ]
     },
     "execution_count": 9,
     "metadata": {},
     "output_type": "execute_result"
    }
   ],
   "source": [
    "r() is c"
   ]
  },
  {
   "cell_type": "code",
   "execution_count": 10,
   "id": "337bd379-e397-485c-8a08-8c5e633a86b0",
   "metadata": {},
   "outputs": [],
   "source": [
    "del c"
   ]
  },
  {
   "cell_type": "code",
   "execution_count": 11,
   "id": "b6eacd31-6873-437b-994d-648d1d8d76d1",
   "metadata": {},
   "outputs": [
    {
     "name": "stdout",
     "output_type": "stream",
     "text": [
      "None\n"
     ]
    }
   ],
   "source": [
    "print(r())"
   ]
  },
  {
   "cell_type": "code",
   "execution_count": 12,
   "id": "6b3050af-f569-4e6b-b9af-ec551c730234",
   "metadata": {},
   "outputs": [],
   "source": [
    "n = None"
   ]
  },
  {
   "cell_type": "code",
   "execution_count": 13,
   "id": "4608075c-ae64-4835-a7aa-681e4407bbbf",
   "metadata": {},
   "outputs": [],
   "source": [
    "n"
   ]
  },
  {
   "cell_type": "code",
   "execution_count": 14,
   "id": "b37d2f75-4d9c-4e25-80f8-594172c7f404",
   "metadata": {
    "tags": [
     "raises-exception"
    ]
   },
   "outputs": [
    {
     "ename": "TypeError",
     "evalue": "cannot create weak reference to 'NoneType' object",
     "output_type": "error",
     "traceback": [
      "\u001b[1;31m---------------------------------------------------------------------------\u001b[0m",
      "\u001b[1;31mTypeError\u001b[0m                                 Traceback (most recent call last)",
      "Cell \u001b[1;32mIn [14], line 1\u001b[0m\n\u001b[1;32m----> 1\u001b[0m rn \u001b[38;5;241m=\u001b[39m \u001b[43mweakref\u001b[49m\u001b[38;5;241;43m.\u001b[39;49m\u001b[43mref\u001b[49m\u001b[43m(\u001b[49m\u001b[43mn\u001b[49m\u001b[43m)\u001b[49m\n",
      "\u001b[1;31mTypeError\u001b[0m: cannot create weak reference to 'NoneType' object"
     ]
    }
   ],
   "source": [
    "rn = weakref.ref(n)"
   ]
  },
  {
   "cell_type": "code",
   "execution_count": 15,
   "id": "89d706b7-0f23-4be0-8b21-4923cfed9f18",
   "metadata": {
    "tags": [
     "raises-exception"
    ]
   },
   "outputs": [
    {
     "ename": "TypeError",
     "evalue": "cannot create weak reference to 'int' object",
     "output_type": "error",
     "traceback": [
      "\u001b[1;31m---------------------------------------------------------------------------\u001b[0m",
      "\u001b[1;31mTypeError\u001b[0m                                 Traceback (most recent call last)",
      "Cell \u001b[1;32mIn [15], line 1\u001b[0m\n\u001b[1;32m----> 1\u001b[0m rone \u001b[38;5;241m=\u001b[39m \u001b[43mweakref\u001b[49m\u001b[38;5;241;43m.\u001b[39;49m\u001b[43mref\u001b[49m\u001b[43m(\u001b[49m\u001b[38;5;241;43m1\u001b[39;49m\u001b[43m)\u001b[49m\n",
      "\u001b[1;31mTypeError\u001b[0m: cannot create weak reference to 'int' object"
     ]
    }
   ],
   "source": [
    "rone = weakref.ref(1)"
   ]
  },
  {
   "cell_type": "code",
   "execution_count": 16,
   "id": "0c1c85d3-d7c2-4e6f-9840-2805ef0b8395",
   "metadata": {
    "tags": [
     "raises-exception"
    ]
   },
   "outputs": [],
   "source": [
    "class CSlots: \n",
    "    __slots__ = ()"
   ]
  },
  {
   "cell_type": "code",
   "execution_count": 17,
   "id": "2f5f641f-41fa-4470-825c-1c68182b7fdc",
   "metadata": {
    "tags": [
     "raises-exception"
    ]
   },
   "outputs": [
    {
     "ename": "TypeError",
     "evalue": "cannot create weak reference to 'CSlots' object",
     "output_type": "error",
     "traceback": [
      "\u001b[1;31m---------------------------------------------------------------------------\u001b[0m",
      "\u001b[1;31mTypeError\u001b[0m                                 Traceback (most recent call last)",
      "Cell \u001b[1;32mIn [17], line 1\u001b[0m\n\u001b[1;32m----> 1\u001b[0m \u001b[43mweakref\u001b[49m\u001b[38;5;241;43m.\u001b[39;49m\u001b[43mref\u001b[49m\u001b[43m(\u001b[49m\u001b[43mCSlots\u001b[49m\u001b[43m(\u001b[49m\u001b[43m)\u001b[49m\u001b[43m)\u001b[49m\n",
      "\u001b[1;31mTypeError\u001b[0m: cannot create weak reference to 'CSlots' object"
     ]
    }
   ],
   "source": [
    "weakref.ref(CSlots())"
   ]
  },
  {
   "cell_type": "code",
   "execution_count": 18,
   "id": "06b9515c-3d30-4e0a-be1b-e0b054f5f8f0",
   "metadata": {},
   "outputs": [],
   "source": [
    "class DSlots: \n",
    "    __slots__ = ('__dict__',)"
   ]
  },
  {
   "cell_type": "code",
   "execution_count": 19,
   "id": "5bbfcff7-bce4-49d9-8b17-8cd87d3ef42e",
   "metadata": {
    "tags": [
     "raises-exception"
    ]
   },
   "outputs": [
    {
     "ename": "TypeError",
     "evalue": "cannot create weak reference to 'DSlots' object",
     "output_type": "error",
     "traceback": [
      "\u001b[1;31m---------------------------------------------------------------------------\u001b[0m",
      "\u001b[1;31mTypeError\u001b[0m                                 Traceback (most recent call last)",
      "Cell \u001b[1;32mIn [19], line 1\u001b[0m\n\u001b[1;32m----> 1\u001b[0m \u001b[43mweakref\u001b[49m\u001b[38;5;241;43m.\u001b[39;49m\u001b[43mref\u001b[49m\u001b[43m(\u001b[49m\u001b[43mDSlots\u001b[49m\u001b[43m(\u001b[49m\u001b[43m)\u001b[49m\u001b[43m)\u001b[49m\n",
      "\u001b[1;31mTypeError\u001b[0m: cannot create weak reference to 'DSlots' object"
     ]
    }
   ],
   "source": [
    "weakref.ref(DSlots())"
   ]
  },
  {
   "cell_type": "code",
   "execution_count": 20,
   "id": "45db5e27-222e-4b6e-9a17-5bc21cd31453",
   "metadata": {},
   "outputs": [
    {
     "data": {
      "text/plain": [
       "{}"
      ]
     },
     "execution_count": 20,
     "metadata": {},
     "output_type": "execute_result"
    }
   ],
   "source": [
    "DSlots().__dict__"
   ]
  },
  {
   "cell_type": "code",
   "execution_count": 21,
   "id": "264cd6d9-bf82-44ea-b667-87e22934c2c5",
   "metadata": {},
   "outputs": [],
   "source": [
    "class WRSlots: \n",
    "    __slots__ = ('__weakref__',)"
   ]
  },
  {
   "cell_type": "code",
   "execution_count": 22,
   "id": "4d81a69a-20df-4ddd-a063-d5e7ac9e5855",
   "metadata": {},
   "outputs": [],
   "source": [
    "wr = WRSlots()"
   ]
  },
  {
   "cell_type": "code",
   "execution_count": 23,
   "id": "e17f633f-c0ab-4e43-834b-ad0aaacb7cd8",
   "metadata": {},
   "outputs": [
    {
     "data": {
      "text/plain": [
       "<weakref at 0x000001DBD4676020; to 'WRSlots' at 0x000001DBD3DEB280>"
      ]
     },
     "execution_count": 23,
     "metadata": {},
     "output_type": "execute_result"
    }
   ],
   "source": [
    "weakref.ref(wr)"
   ]
  },
  {
   "cell_type": "code",
   "execution_count": 24,
   "id": "ae310a70-cded-4ab5-b551-5b044458d2d8",
   "metadata": {},
   "outputs": [
    {
     "data": {
      "text/plain": [
       "<weakref at 0x000001DBD46762F0; dead>"
      ]
     },
     "execution_count": 24,
     "metadata": {},
     "output_type": "execute_result"
    }
   ],
   "source": [
    "weakref.ref(WRSlots())"
   ]
  },
  {
   "cell_type": "code",
   "execution_count": 25,
   "id": "bddd6d09-ff7c-47ce-bb28-d19c8e1f90a6",
   "metadata": {},
   "outputs": [],
   "source": [
    "c2 = C()"
   ]
  },
  {
   "cell_type": "code",
   "execution_count": 26,
   "id": "9b7e364b-6b45-40d9-8b96-a5e35938264e",
   "metadata": {},
   "outputs": [],
   "source": [
    "wr = weakref.ref(c2, lambda x: print(f\"{x}'s referent is dead!\"))"
   ]
  },
  {
   "cell_type": "code",
   "execution_count": 27,
   "id": "7ac90ddb-b304-45b6-88a8-c4fd98eeb60b",
   "metadata": {},
   "outputs": [
    {
     "data": {
      "text/plain": [
       "<weakref at 0x000001DBD4675DF0; to 'C' at 0x000001DBD2C22B90>"
      ]
     },
     "execution_count": 27,
     "metadata": {},
     "output_type": "execute_result"
    }
   ],
   "source": [
    "wr"
   ]
  },
  {
   "cell_type": "code",
   "execution_count": 28,
   "id": "b8b1162b-96d9-4c37-b10f-c113e9f91538",
   "metadata": {},
   "outputs": [
    {
     "name": "stdout",
     "output_type": "stream",
     "text": [
      "<weakref at 0x000001DBD4675DF0; dead>'s referent is dead!\n"
     ]
    }
   ],
   "source": [
    "del c2"
   ]
  },
  {
   "cell_type": "code",
   "execution_count": 29,
   "id": "9fc67ea4-d330-4f10-b1dd-0442cd6a85cc",
   "metadata": {},
   "outputs": [
    {
     "data": {
      "text/plain": [
       "<weakref at 0x000001DBD4675DF0; dead>"
      ]
     },
     "execution_count": 29,
     "metadata": {},
     "output_type": "execute_result"
    }
   ],
   "source": [
    "wr"
   ]
  },
  {
   "cell_type": "code",
   "execution_count": 30,
   "id": "6334e586-47be-43d9-a417-2f3cff5b6192",
   "metadata": {},
   "outputs": [
    {
     "name": "stderr",
     "output_type": "stream",
     "text": [
      "Exception ignored in: <function <lambda> at 0x000001DBD46C80D0>\n",
      "Traceback (most recent call last):\n",
      "  File \"C:\\Users\\User\\AppData\\Local\\Temp\\ipykernel_15468\\3704447829.py\", line 1, in <module>\n",
      "TypeError: <lambda>() takes 0 positional arguments but 1 was given\n"
     ]
    }
   ],
   "source": [
    "wr2 = weakref.ref(C(), lambda: print(\"The referent is dead!\"))"
   ]
  },
  {
   "cell_type": "code",
   "execution_count": 31,
   "id": "ac5c6ff2-8715-4315-8111-b59da1a00f76",
   "metadata": {},
   "outputs": [
    {
     "data": {
      "text/plain": [
       "<weakref at 0x000001DBD4677F60; dead>"
      ]
     },
     "execution_count": 31,
     "metadata": {},
     "output_type": "execute_result"
    }
   ],
   "source": [
    "wr2"
   ]
  },
  {
   "cell_type": "code",
   "execution_count": null,
   "id": "83c6e32d-0851-468a-a8fe-5baae6f99a34",
   "metadata": {},
   "outputs": [],
   "source": []
  }
 ],
 "metadata": {
  "kernelspec": {
   "display_name": "Python 3 (ipykernel)",
   "language": "python",
   "name": "python3"
  },
  "language_info": {
   "codemirror_mode": {
    "name": "ipython",
    "version": 3
   },
   "file_extension": ".py",
   "mimetype": "text/x-python",
   "name": "python",
   "nbconvert_exporter": "python",
   "pygments_lexer": "ipython3",
   "version": "3.10.6"
  }
 },
 "nbformat": 4,
 "nbformat_minor": 5
}
