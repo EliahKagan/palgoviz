{
 "cells": [
  {
   "cell_type": "markdown",
   "id": "5fec8479-1d0d-4315-a613-8532ab556aa3",
   "metadata": {},
   "source": [
    "# Lists and sets"
   ]
  },
  {
   "cell_type": "code",
   "execution_count": 1,
   "id": "5d13649e-0f47-4a98-910a-a6cd3a39fc0e",
   "metadata": {},
   "outputs": [],
   "source": [
    "namelist = []"
   ]
  },
  {
   "cell_type": "code",
   "execution_count": 2,
   "id": "2c65fe0b-d194-47a6-8559-3801ce175e56",
   "metadata": {},
   "outputs": [
    {
     "data": {
      "text/plain": [
       "[]"
      ]
     },
     "execution_count": 2,
     "metadata": {},
     "output_type": "execute_result"
    }
   ],
   "source": [
    "[]"
   ]
  },
  {
   "cell_type": "code",
   "execution_count": 3,
   "id": "76a0a575-b545-4113-9804-b2d1403bdddf",
   "metadata": {},
   "outputs": [
    {
     "data": {
      "text/plain": [
       "list"
      ]
     },
     "execution_count": 3,
     "metadata": {},
     "output_type": "execute_result"
    }
   ],
   "source": [
    "type([])"
   ]
  },
  {
   "cell_type": "code",
   "execution_count": 4,
   "id": "1276a982-56b8-447f-9f52-a99b7f3dafd8",
   "metadata": {
    "tags": [
     "raises-exception"
    ]
   },
   "outputs": [
    {
     "ename": "TypeError",
     "evalue": "can only concatenate list (not \"str\") to list",
     "output_type": "error",
     "traceback": [
      "\u001b[1;31m---------------------------------------------------------------------------\u001b[0m",
      "\u001b[1;31mTypeError\u001b[0m                                 Traceback (most recent call last)",
      "Input \u001b[1;32mIn [4]\u001b[0m, in \u001b[0;36m<cell line: 1>\u001b[1;34m()\u001b[0m\n\u001b[1;32m----> 1\u001b[0m namelist \u001b[38;5;241m=\u001b[39m \u001b[43mnamelist\u001b[49m\u001b[43m \u001b[49m\u001b[38;5;241;43m+\u001b[39;49m\u001b[43m \u001b[49m\u001b[38;5;124;43m\"\u001b[39;49m\u001b[38;5;124;43mhello\u001b[39;49m\u001b[38;5;124;43m\"\u001b[39;49m\n",
      "\u001b[1;31mTypeError\u001b[0m: can only concatenate list (not \"str\") to list"
     ]
    }
   ],
   "source": [
    "namelist = namelist + \"hello\" "
   ]
  },
  {
   "cell_type": "code",
   "execution_count": 5,
   "id": "1f4ce58f-f63b-46ee-8608-2c4fc5fb53fd",
   "metadata": {
    "tags": [
     "raises-exception"
    ]
   },
   "outputs": [
    {
     "ename": "TypeError",
     "evalue": "can only concatenate list (not \"str\") to list",
     "output_type": "error",
     "traceback": [
      "\u001b[1;31m---------------------------------------------------------------------------\u001b[0m",
      "\u001b[1;31mTypeError\u001b[0m                                 Traceback (most recent call last)",
      "Input \u001b[1;32mIn [5]\u001b[0m, in \u001b[0;36m<cell line: 1>\u001b[1;34m()\u001b[0m\n\u001b[1;32m----> 1\u001b[0m \u001b[43mnamelist\u001b[49m\u001b[43m \u001b[49m\u001b[38;5;241;43m+\u001b[39;49m\u001b[43m \u001b[49m\u001b[38;5;124;43m\"\u001b[39;49m\u001b[38;5;124;43mhello\u001b[39;49m\u001b[38;5;124;43m\"\u001b[39;49m\n",
      "\u001b[1;31mTypeError\u001b[0m: can only concatenate list (not \"str\") to list"
     ]
    }
   ],
   "source": [
    "namelist + \"hello\" "
   ]
  },
  {
   "cell_type": "code",
   "execution_count": 6,
   "id": "373b3e2e-906d-4529-b716-046116685883",
   "metadata": {},
   "outputs": [],
   "source": [
    "namelist.append(\"hello\")"
   ]
  },
  {
   "cell_type": "code",
   "execution_count": 7,
   "id": "7e164da9-e734-4440-b31c-80edaadc549f",
   "metadata": {},
   "outputs": [
    {
     "data": {
      "text/plain": [
       "['hello']"
      ]
     },
     "execution_count": 7,
     "metadata": {},
     "output_type": "execute_result"
    }
   ],
   "source": [
    "namelist"
   ]
  },
  {
   "cell_type": "code",
   "execution_count": 8,
   "id": "5d9561bc-853e-4b66-bf0e-01be72ffbcac",
   "metadata": {},
   "outputs": [
    {
     "data": {
      "text/plain": [
       "[]"
      ]
     },
     "execution_count": 8,
     "metadata": {},
     "output_type": "execute_result"
    }
   ],
   "source": [
    "[]"
   ]
  },
  {
   "cell_type": "code",
   "execution_count": 9,
   "id": "4fea41df-798c-442c-bd6e-8cf333d2ee42",
   "metadata": {},
   "outputs": [
    {
     "data": {
      "text/plain": [
       "[]"
      ]
     },
     "execution_count": 9,
     "metadata": {},
     "output_type": "execute_result"
    }
   ],
   "source": [
    "list()"
   ]
  },
  {
   "cell_type": "code",
   "execution_count": 10,
   "id": "9728a662-11ab-44cc-817b-941996547fbe",
   "metadata": {},
   "outputs": [
    {
     "data": {
      "text/plain": [
       "{}"
      ]
     },
     "execution_count": 10,
     "metadata": {},
     "output_type": "execute_result"
    }
   ],
   "source": [
    "{}"
   ]
  },
  {
   "cell_type": "code",
   "execution_count": 11,
   "id": "0527e0dc-b1bd-44f3-9488-832ab89dc8c4",
   "metadata": {},
   "outputs": [
    {
     "data": {
      "text/plain": [
       "{}"
      ]
     },
     "execution_count": 11,
     "metadata": {},
     "output_type": "execute_result"
    }
   ],
   "source": [
    "dict()"
   ]
  },
  {
   "cell_type": "code",
   "execution_count": 12,
   "id": "18da243f-3b9e-4353-960e-5d5a67bde50c",
   "metadata": {},
   "outputs": [
    {
     "data": {
      "text/plain": [
       "()"
      ]
     },
     "execution_count": 12,
     "metadata": {},
     "output_type": "execute_result"
    }
   ],
   "source": [
    "()"
   ]
  },
  {
   "cell_type": "code",
   "execution_count": 13,
   "id": "9a6e43de-0245-4a23-bed0-c50bbfff1a46",
   "metadata": {},
   "outputs": [
    {
     "data": {
      "text/plain": [
       "()"
      ]
     },
     "execution_count": 13,
     "metadata": {},
     "output_type": "execute_result"
    }
   ],
   "source": [
    "tuple()"
   ]
  },
  {
   "cell_type": "code",
   "execution_count": 14,
   "id": "96878c7c-167e-483b-8429-4950ba36a788",
   "metadata": {},
   "outputs": [
    {
     "data": {
      "text/plain": [
       "set()"
      ]
     },
     "execution_count": 14,
     "metadata": {},
     "output_type": "execute_result"
    }
   ],
   "source": [
    "set()"
   ]
  },
  {
   "cell_type": "code",
   "execution_count": 15,
   "id": "da4876ea-7d13-44d7-aa49-619f145b97fa",
   "metadata": {},
   "outputs": [
    {
     "data": {
      "text/plain": [
       "{10, 20, 30}"
      ]
     },
     "execution_count": 15,
     "metadata": {},
     "output_type": "execute_result"
    }
   ],
   "source": [
    "{10, 20, 30}"
   ]
  },
  {
   "cell_type": "code",
   "execution_count": 16,
   "id": "25a8e513-f872-4138-9797-a9b8bd15e8cf",
   "metadata": {},
   "outputs": [],
   "source": [
    "s = set()"
   ]
  },
  {
   "cell_type": "code",
   "execution_count": 17,
   "id": "91893d5d-0c9d-4295-a531-8afa525fc5b4",
   "metadata": {},
   "outputs": [
    {
     "data": {
      "text/plain": [
       "set()"
      ]
     },
     "execution_count": 17,
     "metadata": {},
     "output_type": "execute_result"
    }
   ],
   "source": [
    "s"
   ]
  },
  {
   "cell_type": "code",
   "execution_count": 18,
   "id": "cbb543c7-0253-4f35-a935-dd13934aabe9",
   "metadata": {},
   "outputs": [],
   "source": [
    "for x in range(1, 1_000_001): # with for\n",
    "    s.add(x)"
   ]
  },
  {
   "cell_type": "code",
   "execution_count": 19,
   "id": "f6858bc4-6f3e-4b5d-a5a1-a277c25ba6b7",
   "metadata": {},
   "outputs": [
    {
     "data": {
      "text/plain": [
       "1000000"
      ]
     },
     "execution_count": 19,
     "metadata": {},
     "output_type": "execute_result"
    }
   ],
   "source": [
    "len(s)"
   ]
  },
  {
   "cell_type": "code",
   "execution_count": 20,
   "id": "607968bd-8d9c-4e42-86c0-22ebbcabb18f",
   "metadata": {},
   "outputs": [],
   "source": [
    "s = set(x for x in range(1, 2_000_001)) # with generator"
   ]
  },
  {
   "cell_type": "code",
   "execution_count": 21,
   "id": "1cd2ce49-0745-45cd-aeca-25cac981c1c1",
   "metadata": {},
   "outputs": [
    {
     "data": {
      "text/plain": [
       "2000000"
      ]
     },
     "execution_count": 21,
     "metadata": {},
     "output_type": "execute_result"
    }
   ],
   "source": [
    "len(s)"
   ]
  },
  {
   "cell_type": "code",
   "execution_count": 22,
   "id": "ed762932-4432-4eae-911b-d4a47023d789",
   "metadata": {},
   "outputs": [],
   "source": [
    "s = {x for x in range(1, 3_000_001)} # with set comprehension"
   ]
  },
  {
   "cell_type": "code",
   "execution_count": 23,
   "id": "9355fc72-9960-46db-b6f2-27e32a95a4f1",
   "metadata": {},
   "outputs": [
    {
     "data": {
      "text/plain": [
       "3000000"
      ]
     },
     "execution_count": 23,
     "metadata": {},
     "output_type": "execute_result"
    }
   ],
   "source": [
    "len(s)"
   ]
  },
  {
   "cell_type": "code",
   "execution_count": 24,
   "id": "882540dc-e173-4d6b-8f91-a83abe274681",
   "metadata": {},
   "outputs": [
    {
     "data": {
      "text/plain": [
       "True"
      ]
     },
     "execution_count": 24,
     "metadata": {},
     "output_type": "execute_result"
    }
   ],
   "source": [
    "set([]) == set()"
   ]
  },
  {
   "cell_type": "code",
   "execution_count": 25,
   "id": "59740043-18c3-4e8a-83d9-ac719753986d",
   "metadata": {},
   "outputs": [],
   "source": [
    "# simplifing stuff"
   ]
  },
  {
   "cell_type": "code",
   "execution_count": 26,
   "id": "5c91dfd4-3af1-426d-91ff-e9042dbd41fd",
   "metadata": {},
   "outputs": [],
   "source": [
    "s = {*range(1, 4_000_001)}"
   ]
  },
  {
   "cell_type": "code",
   "execution_count": 27,
   "id": "c50b6ae0-1fda-4832-8a88-53cd2df8756d",
   "metadata": {},
   "outputs": [
    {
     "data": {
      "text/plain": [
       "4000000"
      ]
     },
     "execution_count": 27,
     "metadata": {},
     "output_type": "execute_result"
    }
   ],
   "source": [
    "len(s)"
   ]
  },
  {
   "cell_type": "code",
   "execution_count": 28,
   "id": "83c8add1-40f4-408f-a413-e4dedb3ec2bc",
   "metadata": {},
   "outputs": [],
   "source": [
    "s = set(range(1, 1_000_001))"
   ]
  },
  {
   "cell_type": "code",
   "execution_count": 29,
   "id": "7fe40b56-48fd-4a51-9238-e2234fa9afd0",
   "metadata": {},
   "outputs": [
    {
     "data": {
      "text/plain": [
       "1000000"
      ]
     },
     "execution_count": 29,
     "metadata": {},
     "output_type": "execute_result"
    }
   ],
   "source": [
    "len(s)"
   ]
  },
  {
   "cell_type": "markdown",
   "id": "728bfab7-a347-4dcb-8771-c1c0bdf067e6",
   "metadata": {},
   "source": [
    "If you want something like `list` but that is immutable (and hashable), you use `tuple`."
   ]
  },
  {
   "cell_type": "markdown",
   "id": "d1f3680f-f88f-4821-9049-a6d48fef2b46",
   "metadata": {},
   "source": [
    "If you want something like `set` but that is immutable (and hashable), you use `frozenset`."
   ]
  },
  {
   "cell_type": "code",
   "execution_count": 30,
   "id": "7ad66d13-86cd-4678-b359-04020a19d0bf",
   "metadata": {},
   "outputs": [],
   "source": [
    "fs = frozenset([1, 2, 3, 4, 5])"
   ]
  },
  {
   "cell_type": "code",
   "execution_count": 31,
   "id": "964dce78-a3a6-439e-8bb3-ec6b0063d03a",
   "metadata": {},
   "outputs": [
    {
     "data": {
      "text/plain": [
       "frozenset({1, 2, 3, 4, 5})"
      ]
     },
     "execution_count": 31,
     "metadata": {},
     "output_type": "execute_result"
    }
   ],
   "source": [
    "fs"
   ]
  },
  {
   "cell_type": "code",
   "execution_count": 32,
   "id": "7ad007a1-0eb1-4745-83a6-6587ba8ed35b",
   "metadata": {},
   "outputs": [
    {
     "data": {
      "text/plain": [
       "5"
      ]
     },
     "execution_count": 32,
     "metadata": {},
     "output_type": "execute_result"
    }
   ],
   "source": [
    "len(fs)"
   ]
  },
  {
   "cell_type": "code",
   "execution_count": 33,
   "id": "bec76c6f-4d90-467c-b2fd-1dec15791298",
   "metadata": {},
   "outputs": [
    {
     "data": {
      "text/plain": [
       "-3779889356588604112"
      ]
     },
     "execution_count": 33,
     "metadata": {},
     "output_type": "execute_result"
    }
   ],
   "source": [
    "hash(fs)"
   ]
  },
  {
   "cell_type": "code",
   "execution_count": 34,
   "id": "2844aaa4-df8d-4557-93f1-617bc12eaaf7",
   "metadata": {},
   "outputs": [],
   "source": [
    "d = {fs: '2'}"
   ]
  },
  {
   "cell_type": "code",
   "execution_count": 35,
   "id": "a6def2cf-b73a-4b88-9f7b-53b6f89804ed",
   "metadata": {},
   "outputs": [
    {
     "data": {
      "text/plain": [
       "'2'"
      ]
     },
     "execution_count": 35,
     "metadata": {},
     "output_type": "execute_result"
    }
   ],
   "source": [
    "d[fs]"
   ]
  },
  {
   "cell_type": "code",
   "execution_count": 36,
   "id": "7fe7564b-dec8-4a97-9d32-c5c60ff7afcb",
   "metadata": {},
   "outputs": [
    {
     "data": {
      "text/plain": [
       "{frozenset({1, 2, 3, 4, 5}): '2'}"
      ]
     },
     "execution_count": 36,
     "metadata": {},
     "output_type": "execute_result"
    }
   ],
   "source": [
    "d"
   ]
  },
  {
   "cell_type": "code",
   "execution_count": 37,
   "id": "09605274-9171-457b-bd79-900f449e9e39",
   "metadata": {
    "tags": [
     "raises-exception"
    ]
   },
   "outputs": [
    {
     "ename": "AttributeError",
     "evalue": "'frozenset' object has no attribute 'add'",
     "output_type": "error",
     "traceback": [
      "\u001b[1;31m---------------------------------------------------------------------------\u001b[0m",
      "\u001b[1;31mAttributeError\u001b[0m                            Traceback (most recent call last)",
      "Input \u001b[1;32mIn [37]\u001b[0m, in \u001b[0;36m<cell line: 1>\u001b[1;34m()\u001b[0m\n\u001b[1;32m----> 1\u001b[0m \u001b[43mfs\u001b[49m\u001b[38;5;241;43m.\u001b[39;49m\u001b[43madd\u001b[49m(\u001b[38;5;241m6\u001b[39m)\n",
      "\u001b[1;31mAttributeError\u001b[0m: 'frozenset' object has no attribute 'add'"
     ]
    }
   ],
   "source": [
    "fs.add(6)"
   ]
  },
  {
   "cell_type": "code",
   "execution_count": 38,
   "id": "05881570-b9be-4989-a164-4b65ad37a122",
   "metadata": {},
   "outputs": [],
   "source": [
    "l = [1, 2, 3, 4, 5]"
   ]
  },
  {
   "cell_type": "code",
   "execution_count": 39,
   "id": "bc9594fd-7bdc-432b-b94c-01454c55ecd1",
   "metadata": {
    "tags": [
     "raises-exception"
    ]
   },
   "outputs": [
    {
     "ename": "TypeError",
     "evalue": "unhashable type: 'list'",
     "output_type": "error",
     "traceback": [
      "\u001b[1;31m---------------------------------------------------------------------------\u001b[0m",
      "\u001b[1;31mTypeError\u001b[0m                                 Traceback (most recent call last)",
      "Input \u001b[1;32mIn [39]\u001b[0m, in \u001b[0;36m<cell line: 1>\u001b[1;34m()\u001b[0m\n\u001b[1;32m----> 1\u001b[0m fs2 \u001b[38;5;241m=\u001b[39m \u001b[38;5;28;43mfrozenset\u001b[39;49m\u001b[43m(\u001b[49m\u001b[43m(\u001b[49m\u001b[43ml\u001b[49m\u001b[43m,\u001b[49m\u001b[43m \u001b[49m\u001b[38;5;241;43m2\u001b[39;49m\u001b[43m,\u001b[49m\u001b[43m \u001b[49m\u001b[38;5;241;43m3\u001b[39;49m\u001b[43m,\u001b[49m\u001b[43m \u001b[49m\u001b[38;5;241;43m4\u001b[39;49m\u001b[43m,\u001b[49m\u001b[43m \u001b[49m\u001b[38;5;241;43m5\u001b[39;49m\u001b[43m)\u001b[49m\u001b[43m)\u001b[49m\n",
      "\u001b[1;31mTypeError\u001b[0m: unhashable type: 'list'"
     ]
    }
   ],
   "source": [
    "fs2 = frozenset((l, 2, 3, 4, 5))"
   ]
  },
  {
   "cell_type": "code",
   "execution_count": 40,
   "id": "d0c7f0a1-f33c-44a4-a53c-c016b52b3dc0",
   "metadata": {},
   "outputs": [],
   "source": [
    "s = {1, 2, 3, 4, 5, 6}\n",
    "t = {1, 2, 3}"
   ]
  },
  {
   "cell_type": "code",
   "execution_count": 41,
   "id": "e33f22a1-eca7-460a-9664-a28e1dc54b46",
   "metadata": {},
   "outputs": [
    {
     "data": {
      "text/plain": [
       "True"
      ]
     },
     "execution_count": 41,
     "metadata": {},
     "output_type": "execute_result"
    }
   ],
   "source": [
    "t <= s"
   ]
  },
  {
   "cell_type": "code",
   "execution_count": 42,
   "id": "f41c31fb-9c9d-49e8-a145-336cf307bbfd",
   "metadata": {},
   "outputs": [
    {
     "data": {
      "text/plain": [
       "True"
      ]
     },
     "execution_count": 42,
     "metadata": {},
     "output_type": "execute_result"
    }
   ],
   "source": [
    "s >= t"
   ]
  },
  {
   "cell_type": "code",
   "execution_count": 43,
   "id": "a70d5d61-d4b4-48a2-8b2b-dd9c3d3ddb01",
   "metadata": {},
   "outputs": [
    {
     "data": {
      "text/plain": [
       "True"
      ]
     },
     "execution_count": 43,
     "metadata": {},
     "output_type": "execute_result"
    }
   ],
   "source": [
    "t <= t"
   ]
  },
  {
   "cell_type": "code",
   "execution_count": 44,
   "id": "e60d5829-2e11-4928-af31-9ad75569c83a",
   "metadata": {},
   "outputs": [],
   "source": [
    "u = {7, 8, 9, 10}"
   ]
  },
  {
   "cell_type": "code",
   "execution_count": 45,
   "id": "aa8de65c-6d1d-4baf-8819-10a19e764cd1",
   "metadata": {},
   "outputs": [
    {
     "data": {
      "text/plain": [
       "False"
      ]
     },
     "execution_count": 45,
     "metadata": {},
     "output_type": "execute_result"
    }
   ],
   "source": [
    "t <= u "
   ]
  },
  {
   "cell_type": "markdown",
   "id": "cd569d39-c171-44b2-a0eb-7a200ef2acbd",
   "metadata": {},
   "source": [
    "Lexicographic comparisons:"
   ]
  },
  {
   "cell_type": "code",
   "execution_count": 46,
   "id": "802b74b7-a0a2-47b8-b902-41fec4f13b6b",
   "metadata": {},
   "outputs": [
    {
     "data": {
      "text/plain": [
       "True"
      ]
     },
     "execution_count": 46,
     "metadata": {},
     "output_type": "execute_result"
    }
   ],
   "source": [
    "(10, 20) < (11, 19)"
   ]
  },
  {
   "cell_type": "code",
   "execution_count": 47,
   "id": "69cda5e6-b1ce-4cc4-b475-d5598999e348",
   "metadata": {},
   "outputs": [
    {
     "data": {
      "text/plain": [
       "True"
      ]
     },
     "execution_count": 47,
     "metadata": {},
     "output_type": "execute_result"
    }
   ],
   "source": [
    "(10, 20) < (10, 20, -54839205734892543)"
   ]
  },
  {
   "cell_type": "code",
   "execution_count": 48,
   "id": "93299f65-ce02-4d45-9798-e057474cfc8c",
   "metadata": {},
   "outputs": [
    {
     "data": {
      "text/plain": [
       "True"
      ]
     },
     "execution_count": 48,
     "metadata": {},
     "output_type": "execute_result"
    }
   ],
   "source": [
    "'foo' < 'foobar'"
   ]
  },
  {
   "cell_type": "markdown",
   "id": "7c990b91-80d2-4b3d-9edb-f33587959d51",
   "metadata": {},
   "source": [
    "For sets, `<=` means $\\subseteq$."
   ]
  },
  {
   "cell_type": "code",
   "execution_count": 49,
   "id": "2fad2179-ab55-4a83-aac5-8549ec97d6b6",
   "metadata": {},
   "outputs": [
    {
     "data": {
      "text/plain": [
       "True"
      ]
     },
     "execution_count": 49,
     "metadata": {},
     "output_type": "execute_result"
    }
   ],
   "source": [
    "frozenset({10, 20}) < {10, 15, 20}"
   ]
  },
  {
   "cell_type": "code",
   "execution_count": 50,
   "id": "743bae88-108a-4dff-b3e8-25b69a80ab7f",
   "metadata": {},
   "outputs": [
    {
     "data": {
      "text/plain": [
       "False"
      ]
     },
     "execution_count": 50,
     "metadata": {},
     "output_type": "execute_result"
    }
   ],
   "source": [
    "frozenset({10, 20}) < {10, 20}"
   ]
  },
  {
   "cell_type": "code",
   "execution_count": 51,
   "id": "9da71f66-82a5-4485-b51f-13febf128740",
   "metadata": {},
   "outputs": [
    {
     "data": {
      "text/plain": [
       "True"
      ]
     },
     "execution_count": 51,
     "metadata": {},
     "output_type": "execute_result"
    }
   ],
   "source": [
    "frozenset({10, 20}) <= {10, 20}"
   ]
  },
  {
   "cell_type": "code",
   "execution_count": 52,
   "id": "7b548341-1874-4ed3-a05a-5aef2de5a61c",
   "metadata": {},
   "outputs": [
    {
     "data": {
      "text/plain": [
       "True"
      ]
     },
     "execution_count": 52,
     "metadata": {},
     "output_type": "execute_result"
    }
   ],
   "source": [
    "frozenset({10, 20}) == {10, 20}"
   ]
  },
  {
   "cell_type": "code",
   "execution_count": 53,
   "id": "38213fef-60f1-4e49-8f0b-b0d0f6ff0897",
   "metadata": {},
   "outputs": [
    {
     "data": {
      "text/plain": [
       "True"
      ]
     },
     "execution_count": 53,
     "metadata": {},
     "output_type": "execute_result"
    }
   ],
   "source": [
    "1.0 == 1"
   ]
  },
  {
   "cell_type": "code",
   "execution_count": 54,
   "id": "9c0a9fa9-8fba-45ef-9908-0f568fb4193e",
   "metadata": {},
   "outputs": [
    {
     "data": {
      "text/plain": [
       "True"
      ]
     },
     "execution_count": 54,
     "metadata": {},
     "output_type": "execute_result"
    }
   ],
   "source": [
    "False == 0j"
   ]
  },
  {
   "cell_type": "code",
   "execution_count": 55,
   "id": "83692eca-d06d-4191-b9ed-fff6430962a3",
   "metadata": {},
   "outputs": [],
   "source": [
    "sf = {frozenset({1, 2}),}"
   ]
  },
  {
   "cell_type": "code",
   "execution_count": 56,
   "id": "ddedd89c-a03b-44cf-99f7-abc0c546f273",
   "metadata": {},
   "outputs": [
    {
     "data": {
      "text/plain": [
       "False"
      ]
     },
     "execution_count": 56,
     "metadata": {},
     "output_type": "execute_result"
    }
   ],
   "source": [
    "frozenset({1, 2}) <= sf"
   ]
  },
  {
   "cell_type": "code",
   "execution_count": 57,
   "id": "23eff8d9-d989-4e41-867a-115a5fab5901",
   "metadata": {},
   "outputs": [
    {
     "data": {
      "text/plain": [
       "True"
      ]
     },
     "execution_count": 57,
     "metadata": {},
     "output_type": "execute_result"
    }
   ],
   "source": [
    "frozenset({1, 2}) in sf"
   ]
  },
  {
   "cell_type": "code",
   "execution_count": 58,
   "id": "ba12b483-a591-4ba4-b908-6a912ba4bc95",
   "metadata": {},
   "outputs": [
    {
     "data": {
      "text/plain": [
       "True"
      ]
     },
     "execution_count": 58,
     "metadata": {},
     "output_type": "execute_result"
    }
   ],
   "source": [
    "frozenset({1, 2}) == {1, 2}"
   ]
  },
  {
   "cell_type": "code",
   "execution_count": 59,
   "id": "d7135c72-2130-4d97-8ef9-eb0536f4f9f1",
   "metadata": {},
   "outputs": [
    {
     "data": {
      "text/plain": [
       "True"
      ]
     },
     "execution_count": 59,
     "metadata": {},
     "output_type": "execute_result"
    }
   ],
   "source": [
    "{1, 2} in sf"
   ]
  },
  {
   "cell_type": "code",
   "execution_count": 60,
   "id": "b16ecb08-bbab-4fcb-b7ae-53d1eee29884",
   "metadata": {},
   "outputs": [
    {
     "data": {
      "text/plain": [
       "False"
      ]
     },
     "execution_count": 60,
     "metadata": {},
     "output_type": "execute_result"
    }
   ],
   "source": [
    "{1, 2} in frozenset()"
   ]
  },
  {
   "cell_type": "code",
   "execution_count": 61,
   "id": "1ff79623-2c23-42b7-819a-b44898a3ee38",
   "metadata": {},
   "outputs": [
    {
     "data": {
      "text/plain": [
       "False"
      ]
     },
     "execution_count": 61,
     "metadata": {},
     "output_type": "execute_result"
    }
   ],
   "source": [
    "{1, 2} in frozenset(object() for _ in range(10_000))"
   ]
  },
  {
   "cell_type": "markdown",
   "id": "6e7ce75c-4229-4100-94b4-9c5bb8911bbe",
   "metadata": {},
   "source": [
    "A type is totally ordered when, given any objects $x$ and $y$ of that type, $x < y$ or $x = y$ or $x > y$."
   ]
  },
  {
   "cell_type": "code",
   "execution_count": 62,
   "id": "a8b1f46c-a040-4439-9a33-7cf7a48c1dee",
   "metadata": {},
   "outputs": [],
   "source": [
    "s1 = {8, 9, 10}\n",
    "s2 = {1, 2, 3}"
   ]
  },
  {
   "cell_type": "code",
   "execution_count": 63,
   "id": "7d30ca90-c301-418d-bf66-b235e79e753e",
   "metadata": {},
   "outputs": [
    {
     "data": {
      "text/plain": [
       "False"
      ]
     },
     "execution_count": 63,
     "metadata": {},
     "output_type": "execute_result"
    }
   ],
   "source": [
    "s1 < s2"
   ]
  },
  {
   "cell_type": "code",
   "execution_count": 64,
   "id": "986cb96f-2222-4df7-8e09-95f9d77717ee",
   "metadata": {},
   "outputs": [
    {
     "data": {
      "text/plain": [
       "False"
      ]
     },
     "execution_count": 64,
     "metadata": {},
     "output_type": "execute_result"
    }
   ],
   "source": [
    "s1 == s2 "
   ]
  },
  {
   "cell_type": "code",
   "execution_count": 65,
   "id": "bfbf2d0c-61e1-4d8b-80b3-44d4f949330e",
   "metadata": {},
   "outputs": [
    {
     "data": {
      "text/plain": [
       "False"
      ]
     },
     "execution_count": 65,
     "metadata": {},
     "output_type": "execute_result"
    }
   ],
   "source": [
    "s1 > s2 "
   ]
  },
  {
   "cell_type": "code",
   "execution_count": 66,
   "id": "b48920b8-e685-445b-b54b-ae510736ae54",
   "metadata": {},
   "outputs": [],
   "source": [
    "t1 = {1}\n",
    "t2 = {2}"
   ]
  },
  {
   "cell_type": "code",
   "execution_count": 67,
   "id": "32b8965a-04e7-4e2f-a031-c88b5ae24a62",
   "metadata": {},
   "outputs": [
    {
     "data": {
      "text/plain": [
       "False"
      ]
     },
     "execution_count": 67,
     "metadata": {},
     "output_type": "execute_result"
    }
   ],
   "source": [
    "t1 < t2"
   ]
  },
  {
   "cell_type": "code",
   "execution_count": 68,
   "id": "987765ff-e7e7-42f5-8231-830a921a2036",
   "metadata": {},
   "outputs": [
    {
     "data": {
      "text/plain": [
       "False"
      ]
     },
     "execution_count": 68,
     "metadata": {},
     "output_type": "execute_result"
    }
   ],
   "source": [
    "t1 == t2"
   ]
  },
  {
   "cell_type": "code",
   "execution_count": 69,
   "id": "55672e16-5ff9-4ac1-a5d0-40db064b41f0",
   "metadata": {},
   "outputs": [
    {
     "data": {
      "text/plain": [
       "False"
      ]
     },
     "execution_count": 69,
     "metadata": {},
     "output_type": "execute_result"
    }
   ],
   "source": [
    "t1 > t2"
   ]
  },
  {
   "cell_type": "code",
   "execution_count": 70,
   "id": "0985782e-dea5-4862-a32f-0c90c5229fd3",
   "metadata": {},
   "outputs": [
    {
     "data": {
      "text/plain": [
       "{1, 2, 3, 4, 5}"
      ]
     },
     "execution_count": 70,
     "metadata": {},
     "output_type": "execute_result"
    }
   ],
   "source": [
    "{1, 2, 3} | {3, 4, 5}"
   ]
  },
  {
   "cell_type": "code",
   "execution_count": 71,
   "id": "3e86c580-275d-497f-af94-f656694428a6",
   "metadata": {},
   "outputs": [
    {
     "name": "stdout",
     "output_type": "stream",
     "text": [
      "Help on built-in function hex in module builtins:\n",
      "\n",
      "hex(number, /)\n",
      "    Return the hexadecimal representation of an integer.\n",
      "    \n",
      "    >>> hex(12648430)\n",
      "    '0xc0ffee'\n",
      "\n"
     ]
    }
   ],
   "source": [
    "help(hex)"
   ]
  },
  {
   "cell_type": "code",
   "execution_count": 72,
   "id": "ea528c5f-0cf8-4384-9d27-55d6af40c493",
   "metadata": {},
   "outputs": [
    {
     "name": "stdout",
     "output_type": "stream",
     "text": [
      "Help on built-in function oct in module builtins:\n",
      "\n",
      "oct(number, /)\n",
      "    Return the octal representation of an integer.\n",
      "    \n",
      "    >>> oct(342391)\n",
      "    '0o1234567'\n",
      "\n"
     ]
    }
   ],
   "source": [
    "help(oct)"
   ]
  },
  {
   "cell_type": "code",
   "execution_count": 73,
   "id": "d51896c3-6278-4f1c-8afe-f0cc387179f8",
   "metadata": {},
   "outputs": [
    {
     "name": "stdout",
     "output_type": "stream",
     "text": [
      "Help on built-in function bin in module builtins:\n",
      "\n",
      "bin(number, /)\n",
      "    Return the binary representation of an integer.\n",
      "    \n",
      "    >>> bin(2796202)\n",
      "    '0b1010101010101010101010'\n",
      "\n"
     ]
    }
   ],
   "source": [
    "help(bin)"
   ]
  },
  {
   "cell_type": "code",
   "execution_count": 74,
   "id": "dd0adec5-58ab-4213-a774-95cdcb6e0370",
   "metadata": {},
   "outputs": [
    {
     "data": {
      "text/plain": [
       "'0xe4e02'"
      ]
     },
     "execution_count": 74,
     "metadata": {},
     "output_type": "execute_result"
    }
   ],
   "source": [
    "hex(937474)"
   ]
  },
  {
   "cell_type": "code",
   "execution_count": 75,
   "id": "fa948a07-a727-43e6-a4d2-c6e34c6a448a",
   "metadata": {},
   "outputs": [
    {
     "data": {
      "text/plain": [
       "937474"
      ]
     },
     "execution_count": 75,
     "metadata": {},
     "output_type": "execute_result"
    }
   ],
   "source": [
    "0xe4e02"
   ]
  },
  {
   "cell_type": "code",
   "execution_count": 76,
   "id": "1877bdd1-7aa0-456e-93cf-e46b1fafeac1",
   "metadata": {},
   "outputs": [
    {
     "data": {
      "text/plain": [
       "12837"
      ]
     },
     "execution_count": 76,
     "metadata": {},
     "output_type": "execute_result"
    }
   ],
   "source": [
    "0b11001000100101"
   ]
  },
  {
   "cell_type": "code",
   "execution_count": 77,
   "id": "8308749d-2ead-4247-9eff-a74b97caf8c1",
   "metadata": {},
   "outputs": [
    {
     "data": {
      "text/plain": [
       "937474"
      ]
     },
     "execution_count": 77,
     "metadata": {},
     "output_type": "execute_result"
    }
   ],
   "source": [
    "int('0xe4e02', base=16)"
   ]
  },
  {
   "cell_type": "code",
   "execution_count": 78,
   "id": "132cfe1d-e1c5-4a25-b2f7-143ecc18b8b1",
   "metadata": {},
   "outputs": [
    {
     "data": {
      "text/plain": [
       "937474"
      ]
     },
     "execution_count": 78,
     "metadata": {},
     "output_type": "execute_result"
    }
   ],
   "source": [
    "int('e4e02', base=16)"
   ]
  },
  {
   "cell_type": "code",
   "execution_count": 79,
   "id": "fe2cdcad-7d5d-455b-9ddc-5995b003a8e9",
   "metadata": {},
   "outputs": [
    {
     "data": {
      "text/plain": [
       "937474"
      ]
     },
     "execution_count": 79,
     "metadata": {},
     "output_type": "execute_result"
    }
   ],
   "source": [
    "int('0xe4e02', base=0)"
   ]
  },
  {
   "cell_type": "code",
   "execution_count": 80,
   "id": "9d08afcc-958e-40cc-9d3f-b9f787ff661d",
   "metadata": {
    "tags": [
     "raises-exception"
    ]
   },
   "outputs": [
    {
     "ename": "TypeError",
     "evalue": "'NoneType' object cannot be interpreted as an integer",
     "output_type": "error",
     "traceback": [
      "\u001b[1;31m---------------------------------------------------------------------------\u001b[0m",
      "\u001b[1;31mTypeError\u001b[0m                                 Traceback (most recent call last)",
      "Input \u001b[1;32mIn [80]\u001b[0m, in \u001b[0;36m<cell line: 1>\u001b[1;34m()\u001b[0m\n\u001b[1;32m----> 1\u001b[0m \u001b[38;5;28;43mint\u001b[39;49m\u001b[43m(\u001b[49m\u001b[38;5;124;43m'\u001b[39;49m\u001b[38;5;124;43m0xe4e02\u001b[39;49m\u001b[38;5;124;43m'\u001b[39;49m\u001b[43m,\u001b[49m\u001b[43m \u001b[49m\u001b[43mbase\u001b[49m\u001b[38;5;241;43m=\u001b[39;49m\u001b[38;5;28;43;01mNone\u001b[39;49;00m\u001b[43m)\u001b[49m\n",
      "\u001b[1;31mTypeError\u001b[0m: 'NoneType' object cannot be interpreted as an integer"
     ]
    }
   ],
   "source": [
    "int('0xe4e02', base=None)"
   ]
  },
  {
   "cell_type": "code",
   "execution_count": 81,
   "id": "a99eb009-d119-4540-9bbb-3bcf7794c3a6",
   "metadata": {},
   "outputs": [
    {
     "data": {
      "text/plain": [
       "'0b111'"
      ]
     },
     "execution_count": 81,
     "metadata": {},
     "output_type": "execute_result"
    }
   ],
   "source": [
    "bin(7)"
   ]
  },
  {
   "cell_type": "markdown",
   "id": "a52926e2-ee3c-4f26-9c08-3fa11b0bb952",
   "metadata": {},
   "source": [
    "The boolean operators are `and`, `or`, and `not`."
   ]
  },
  {
   "cell_type": "markdown",
   "id": "64677168-7c9c-4963-a2d3-953cc8ce6c04",
   "metadata": {},
   "source": [
    "The bitwise logical operators are correspondingly `&`, `|`, and `~`. There is also `^` for xor."
   ]
  },
  {
   "cell_type": "code",
   "execution_count": 82,
   "id": "ab89c444-d410-4931-a8cb-6302cba226ac",
   "metadata": {},
   "outputs": [
    {
     "data": {
      "text/plain": [
       "3"
      ]
     },
     "execution_count": 82,
     "metadata": {},
     "output_type": "execute_result"
    }
   ],
   "source": [
    "1 | 2"
   ]
  },
  {
   "cell_type": "code",
   "execution_count": 83,
   "id": "d0094f3d-8e7f-4486-bcc5-80c75b181ec0",
   "metadata": {},
   "outputs": [
    {
     "data": {
      "text/plain": [
       "0"
      ]
     },
     "execution_count": 83,
     "metadata": {},
     "output_type": "execute_result"
    }
   ],
   "source": [
    "1 & 2"
   ]
  },
  {
   "cell_type": "code",
   "execution_count": 84,
   "id": "4fefcdbe-4abf-4ba5-bc27-f170d78a71fb",
   "metadata": {
    "tags": [
     "raises-exception"
    ]
   },
   "outputs": [
    {
     "ename": "TypeError",
     "evalue": "unsupported operand type(s) for |: 'float' and 'int'",
     "output_type": "error",
     "traceback": [
      "\u001b[1;31m---------------------------------------------------------------------------\u001b[0m",
      "\u001b[1;31mTypeError\u001b[0m                                 Traceback (most recent call last)",
      "Input \u001b[1;32mIn [84]\u001b[0m, in \u001b[0;36m<cell line: 1>\u001b[1;34m()\u001b[0m\n\u001b[1;32m----> 1\u001b[0m \u001b[38;5;241;43m1.0\u001b[39;49m\u001b[43m \u001b[49m\u001b[38;5;241;43m|\u001b[39;49m\u001b[43m \u001b[49m\u001b[38;5;241;43m2\u001b[39;49m\n",
      "\u001b[1;31mTypeError\u001b[0m: unsupported operand type(s) for |: 'float' and 'int'"
     ]
    }
   ],
   "source": [
    "1.0 | 2"
   ]
  },
  {
   "cell_type": "code",
   "execution_count": 85,
   "id": "c306a0b2-a240-42c0-b474-8507b513efed",
   "metadata": {},
   "outputs": [
    {
     "data": {
      "text/plain": [
       "5"
      ]
     },
     "execution_count": 85,
     "metadata": {},
     "output_type": "execute_result"
    }
   ],
   "source": [
    "4 | 5"
   ]
  },
  {
   "cell_type": "code",
   "execution_count": 86,
   "id": "68af97e3-5367-4c59-815e-9a1aa03ec8e7",
   "metadata": {},
   "outputs": [
    {
     "data": {
      "text/plain": [
       "4"
      ]
     },
     "execution_count": 86,
     "metadata": {},
     "output_type": "execute_result"
    }
   ],
   "source": [
    "4 & 5 "
   ]
  },
  {
   "cell_type": "markdown",
   "id": "550ecd39-84dd-4cfd-a40c-c0f57afd0a21",
   "metadata": {},
   "source": [
    "The bit shift operators are `<<` for left shift and `>>` for right shift."
   ]
  },
  {
   "cell_type": "code",
   "execution_count": 87,
   "id": "20e643ab-57d5-4708-aa20-752638b959fe",
   "metadata": {},
   "outputs": [
    {
     "data": {
      "text/plain": [
       "1024"
      ]
     },
     "execution_count": 87,
     "metadata": {},
     "output_type": "execute_result"
    }
   ],
   "source": [
    "2**10"
   ]
  },
  {
   "cell_type": "code",
   "execution_count": 88,
   "id": "552242a0-6c18-4922-b7e1-dc04004ea174",
   "metadata": {},
   "outputs": [
    {
     "data": {
      "text/plain": [
       "1024"
      ]
     },
     "execution_count": 88,
     "metadata": {},
     "output_type": "execute_result"
    }
   ],
   "source": [
    "1 << 10"
   ]
  },
  {
   "cell_type": "code",
   "execution_count": 89,
   "id": "8bd6f65b-cb03-4565-8c23-cf93c0afc393",
   "metadata": {},
   "outputs": [],
   "source": [
    "# The guests I invited to my party.\n",
    "a = 'Alice'\n",
    "b = 'Bob'\n",
    "c = 'Cassidy'\n",
    "d = 'Derek'\n",
    "e = 'Erin'\n",
    "f = 'Frank'\n",
    "g = 'Gerald'\n",
    "h = 'Heather'"
   ]
  },
  {
   "cell_type": "code",
   "execution_count": 90,
   "id": "3ba0795e-b7e5-4656-b19a-a95dc45db772",
   "metadata": {},
   "outputs": [
    {
     "data": {
      "text/plain": [
       "False"
      ]
     },
     "execution_count": 90,
     "metadata": {},
     "output_type": "execute_result"
    }
   ],
   "source": [
    "(a, b) == (b, a)"
   ]
  },
  {
   "cell_type": "code",
   "execution_count": 91,
   "id": "40535817-d1c4-46dc-a03a-8bd9d664beb2",
   "metadata": {},
   "outputs": [],
   "source": [
    "guests = [a, b, c, d, e, f, g, h]"
   ]
  },
  {
   "cell_type": "code",
   "execution_count": 92,
   "id": "ec6bbe15-3ef1-4147-9ce7-dc7b179a7198",
   "metadata": {},
   "outputs": [],
   "source": [
    "guest_bits = [1 << x for x in range(8)]"
   ]
  },
  {
   "cell_type": "code",
   "execution_count": 93,
   "id": "3209d88c-d877-48a6-b450-921342f72627",
   "metadata": {},
   "outputs": [
    {
     "data": {
      "text/plain": [
       "True"
      ]
     },
     "execution_count": 93,
     "metadata": {},
     "output_type": "execute_result"
    }
   ],
   "source": [
    "guest_bits == [1, 2, 4, 8, 16, 32, 64, 128]"
   ]
  },
  {
   "cell_type": "code",
   "execution_count": 94,
   "id": "edc11a18-7924-48e9-a746-ee62ed7b0ad5",
   "metadata": {},
   "outputs": [
    {
     "data": {
      "text/plain": [
       "37"
      ]
     },
     "execution_count": 94,
     "metadata": {},
     "output_type": "execute_result"
    }
   ],
   "source": [
    "(1 << 0) | (1 << 2) | (1 << 5)"
   ]
  },
  {
   "cell_type": "code",
   "execution_count": 95,
   "id": "fb3091fc-bd43-4720-92ec-0de98df56395",
   "metadata": {},
   "outputs": [
    {
     "data": {
      "text/plain": [
       "'0b100101'"
      ]
     },
     "execution_count": 95,
     "metadata": {},
     "output_type": "execute_result"
    }
   ],
   "source": [
    "bin(_)"
   ]
  },
  {
   "cell_type": "code",
   "execution_count": 96,
   "id": "712e5e59-a7d8-449f-9fa8-059348599a65",
   "metadata": {},
   "outputs": [],
   "source": [
    "# {'Alice': 1, 'Bob': 2, 'Cassidy': 4, ...}\n",
    "guest_bits = {guest: 1 << pos for pos, guest in enumerate(guests)}"
   ]
  },
  {
   "cell_type": "code",
   "execution_count": 97,
   "id": "ddbd8988-e7cb-4521-b005-600737ecd0c3",
   "metadata": {},
   "outputs": [
    {
     "data": {
      "text/plain": [
       "{'Alice': 1,\n",
       " 'Bob': 2,\n",
       " 'Cassidy': 4,\n",
       " 'Derek': 8,\n",
       " 'Erin': 16,\n",
       " 'Frank': 32,\n",
       " 'Gerald': 64,\n",
       " 'Heather': 128}"
      ]
     },
     "execution_count": 97,
     "metadata": {},
     "output_type": "execute_result"
    }
   ],
   "source": [
    "guest_bits"
   ]
  },
  {
   "cell_type": "code",
   "execution_count": 98,
   "id": "8b5ae814-01d1-4032-bae8-55ef072878cc",
   "metadata": {},
   "outputs": [
    {
     "data": {
      "text/plain": [
       "True"
      ]
     },
     "execution_count": 98,
     "metadata": {},
     "output_type": "execute_result"
    }
   ],
   "source": [
    "{guest: 1 << pos for pos, guest in zip(range(8), guests)} == guest_bits"
   ]
  },
  {
   "cell_type": "code",
   "execution_count": 99,
   "id": "9129c8bb-931f-4140-91f7-79cf59cacc85",
   "metadata": {},
   "outputs": [
    {
     "data": {
      "text/plain": [
       "64"
      ]
     },
     "execution_count": 99,
     "metadata": {},
     "output_type": "execute_result"
    }
   ],
   "source": [
    "len([(x, 1 << y) for y in range(8) for x in guests])"
   ]
  },
  {
   "cell_type": "code",
   "execution_count": 100,
   "id": "7d7d40ad-3566-4004-a4b8-6d5cdedb474d",
   "metadata": {},
   "outputs": [],
   "source": [
    "d2 = {}"
   ]
  },
  {
   "cell_type": "code",
   "execution_count": 101,
   "id": "98a25513-f5b1-4c58-be9c-24b38f1e79ed",
   "metadata": {},
   "outputs": [],
   "source": [
    "d2['foo'] = 10\n",
    "d2['bar'] = 20"
   ]
  },
  {
   "cell_type": "code",
   "execution_count": 102,
   "id": "777bc713-2b0c-448c-923c-b45d0bc0c2ce",
   "metadata": {},
   "outputs": [
    {
     "data": {
      "text/plain": [
       "{'foo': 10, 'bar': 20}"
      ]
     },
     "execution_count": 102,
     "metadata": {},
     "output_type": "execute_result"
    }
   ],
   "source": [
    "d2"
   ]
  },
  {
   "cell_type": "code",
   "execution_count": 103,
   "id": "96b54b0c-792b-47d5-80a1-7005c33668b9",
   "metadata": {},
   "outputs": [],
   "source": [
    "d2['foo'] = 15"
   ]
  },
  {
   "cell_type": "code",
   "execution_count": 104,
   "id": "f9bab552-caad-4006-a005-c432fcf169f1",
   "metadata": {},
   "outputs": [
    {
     "data": {
      "text/plain": [
       "{'foo': 15, 'bar': 20}"
      ]
     },
     "execution_count": 104,
     "metadata": {},
     "output_type": "execute_result"
    }
   ],
   "source": [
    "d2"
   ]
  },
  {
   "cell_type": "code",
   "execution_count": 105,
   "id": "267cf558-d4e0-4aac-a919-c85d864366bf",
   "metadata": {},
   "outputs": [],
   "source": [
    "guest_combo = guest_bits[a] | guest_bits[c] | guest_bits[f]"
   ]
  },
  {
   "cell_type": "code",
   "execution_count": 106,
   "id": "28185f1a-c91e-49a4-afbb-253c0981b1d9",
   "metadata": {},
   "outputs": [
    {
     "data": {
      "text/plain": [
       "4"
      ]
     },
     "execution_count": 106,
     "metadata": {},
     "output_type": "execute_result"
    }
   ],
   "source": [
    "guest_combo & guest_bits[c]"
   ]
  },
  {
   "cell_type": "code",
   "execution_count": 107,
   "id": "cedd94d4-d706-4873-8c12-b99ba29804b2",
   "metadata": {},
   "outputs": [
    {
     "data": {
      "text/plain": [
       "101"
      ]
     },
     "execution_count": 107,
     "metadata": {},
     "output_type": "execute_result"
    }
   ],
   "source": [
    "guest_combo | guest_bits[g]"
   ]
  },
  {
   "cell_type": "code",
   "execution_count": 108,
   "id": "34262b26-55c9-4ae7-9dab-35de76c4e85f",
   "metadata": {},
   "outputs": [],
   "source": [
    "guest_combo |= guest_bits[g]"
   ]
  },
  {
   "cell_type": "code",
   "execution_count": 109,
   "id": "89bffa6e-c3cb-4731-80a3-3a55134869ae",
   "metadata": {},
   "outputs": [
    {
     "data": {
      "text/plain": [
       "'0b1100101'"
      ]
     },
     "execution_count": 109,
     "metadata": {},
     "output_type": "execute_result"
    }
   ],
   "source": [
    "bin(guest_combo)"
   ]
  },
  {
   "cell_type": "code",
   "execution_count": 110,
   "id": "05c6f650-f56b-436c-883c-5e7088492a7d",
   "metadata": {},
   "outputs": [],
   "source": [
    "second_party = guest_bits[a] | guest_bits[b] | guest_bits[e] | guest_bits[f] "
   ]
  },
  {
   "cell_type": "code",
   "execution_count": 111,
   "id": "959c499b-0643-4dcf-85ba-bded71815a61",
   "metadata": {},
   "outputs": [
    {
     "data": {
      "text/plain": [
       "2"
      ]
     },
     "execution_count": 111,
     "metadata": {},
     "output_type": "execute_result"
    }
   ],
   "source": [
    "(second_party & guest_bits[b]) | (second_party & guest_bits[c])"
   ]
  },
  {
   "cell_type": "code",
   "execution_count": 112,
   "id": "1b5b8546-3758-45b1-af63-03c7a76e14e8",
   "metadata": {},
   "outputs": [
    {
     "data": {
      "text/plain": [
       "2"
      ]
     },
     "execution_count": 112,
     "metadata": {},
     "output_type": "execute_result"
    }
   ],
   "source": [
    "second_party & (guest_bits[b] | guest_bits[c])"
   ]
  },
  {
   "cell_type": "code",
   "execution_count": 113,
   "id": "5468d554-930b-4f8a-9413-3f365fe91e0f",
   "metadata": {},
   "outputs": [
    {
     "data": {
      "text/plain": [
       "33"
      ]
     },
     "execution_count": 113,
     "metadata": {},
     "output_type": "execute_result"
    }
   ],
   "source": [
    "second_party & guest_combo"
   ]
  },
  {
   "cell_type": "code",
   "execution_count": 114,
   "id": "4cfaf58c-0c33-430d-9fa9-7e93e0b3ac4b",
   "metadata": {},
   "outputs": [
    {
     "data": {
      "text/plain": [
       "'0b100001'"
      ]
     },
     "execution_count": 114,
     "metadata": {},
     "output_type": "execute_result"
    }
   ],
   "source": [
    "bin(_)"
   ]
  },
  {
   "cell_type": "code",
   "execution_count": 115,
   "id": "22189906-5587-4dd8-9000-a159cc67ed90",
   "metadata": {},
   "outputs": [
    {
     "data": {
      "text/plain": [
       "119"
      ]
     },
     "execution_count": 115,
     "metadata": {},
     "output_type": "execute_result"
    }
   ],
   "source": [
    "second_party | guest_combo"
   ]
  },
  {
   "cell_type": "code",
   "execution_count": 116,
   "id": "ab17b921-766e-40d8-8fe9-34c4fdcc9224",
   "metadata": {},
   "outputs": [
    {
     "data": {
      "text/plain": [
       "'0b1110111'"
      ]
     },
     "execution_count": 116,
     "metadata": {},
     "output_type": "execute_result"
    }
   ],
   "source": [
    "bin(_)"
   ]
  },
  {
   "cell_type": "code",
   "execution_count": 117,
   "id": "e252801b-11fb-465b-8e44-c9504f31232c",
   "metadata": {},
   "outputs": [
    {
     "data": {
      "text/plain": [
       "86"
      ]
     },
     "execution_count": 117,
     "metadata": {},
     "output_type": "execute_result"
    }
   ],
   "source": [
    "second_party ^ guest_combo"
   ]
  },
  {
   "cell_type": "code",
   "execution_count": 118,
   "id": "429f245c-b5e9-4414-8231-0e9546cc910e",
   "metadata": {},
   "outputs": [
    {
     "data": {
      "text/plain": [
       "'0b1010110'"
      ]
     },
     "execution_count": 118,
     "metadata": {},
     "output_type": "execute_result"
    }
   ],
   "source": [
    "bin(_)"
   ]
  },
  {
   "cell_type": "code",
   "execution_count": 119,
   "id": "2371d8dd-b841-4013-b822-16a537899c9b",
   "metadata": {},
   "outputs": [],
   "source": [
    "party = {a, c, f}"
   ]
  },
  {
   "cell_type": "code",
   "execution_count": 120,
   "id": "d346b5b4-800e-41ca-8e55-e27d68df95cf",
   "metadata": {},
   "outputs": [],
   "source": [
    "party2 = {a, b, e, f}"
   ]
  },
  {
   "cell_type": "code",
   "execution_count": 121,
   "id": "2dea7d8f-7c07-4989-b660-0862546f440e",
   "metadata": {},
   "outputs": [
    {
     "data": {
      "text/plain": [
       "{'Alice', 'Bob', 'Cassidy', 'Erin', 'Frank'}"
      ]
     },
     "execution_count": 121,
     "metadata": {},
     "output_type": "execute_result"
    }
   ],
   "source": [
    "party | party2"
   ]
  },
  {
   "cell_type": "code",
   "execution_count": 122,
   "id": "a26fa195-e72a-47db-8443-ff01b7f7d763",
   "metadata": {},
   "outputs": [
    {
     "data": {
      "text/plain": [
       "{'Alice', 'Frank'}"
      ]
     },
     "execution_count": 122,
     "metadata": {},
     "output_type": "execute_result"
    }
   ],
   "source": [
    "party & party2"
   ]
  },
  {
   "cell_type": "code",
   "execution_count": 123,
   "id": "6926e64b-1295-4d2f-a64d-5e2b9b08197b",
   "metadata": {},
   "outputs": [
    {
     "data": {
      "text/plain": [
       "{'Bob', 'Cassidy', 'Erin'}"
      ]
     },
     "execution_count": 123,
     "metadata": {},
     "output_type": "execute_result"
    }
   ],
   "source": [
    "party ^ party2"
   ]
  },
  {
   "cell_type": "code",
   "execution_count": 124,
   "id": "4e523d14-42af-4fd4-8abf-e6e8e987aba6",
   "metadata": {},
   "outputs": [
    {
     "data": {
      "text/plain": [
       "18"
      ]
     },
     "execution_count": 124,
     "metadata": {},
     "output_type": "execute_result"
    }
   ],
   "source": [
    "second_party & ~guest_combo"
   ]
  },
  {
   "cell_type": "code",
   "execution_count": 125,
   "id": "a6fc970a-f9fd-4cee-9c6a-b8806cdd7e03",
   "metadata": {},
   "outputs": [
    {
     "data": {
      "text/plain": [
       "'0b10010'"
      ]
     },
     "execution_count": 125,
     "metadata": {},
     "output_type": "execute_result"
    }
   ],
   "source": [
    "bin(_)"
   ]
  },
  {
   "cell_type": "code",
   "execution_count": 126,
   "id": "3618cd2d-03fa-4eb2-bbfb-7ad0e84197c3",
   "metadata": {
    "tags": [
     "raises-exception"
    ]
   },
   "outputs": [
    {
     "ename": "TypeError",
     "evalue": "bad operand type for unary ~: 'set'",
     "output_type": "error",
     "traceback": [
      "\u001b[1;31m---------------------------------------------------------------------------\u001b[0m",
      "\u001b[1;31mTypeError\u001b[0m                                 Traceback (most recent call last)",
      "Input \u001b[1;32mIn [126]\u001b[0m, in \u001b[0;36m<cell line: 1>\u001b[1;34m()\u001b[0m\n\u001b[1;32m----> 1\u001b[0m \u001b[38;5;241;43m~\u001b[39;49m\u001b[43mparty\u001b[49m\n",
      "\u001b[1;31mTypeError\u001b[0m: bad operand type for unary ~: 'set'"
     ]
    }
   ],
   "source": [
    "~party"
   ]
  },
  {
   "cell_type": "code",
   "execution_count": 127,
   "id": "905c9f9e-3c41-4106-9cb1-3dab89ce3c01",
   "metadata": {},
   "outputs": [
    {
     "data": {
      "text/plain": [
       "{'Bob', 'Erin'}"
      ]
     },
     "execution_count": 127,
     "metadata": {},
     "output_type": "execute_result"
    }
   ],
   "source": [
    "party2 - party"
   ]
  },
  {
   "cell_type": "code",
   "execution_count": 128,
   "id": "0633d528-dda6-4efb-aaa5-098a16f93585",
   "metadata": {},
   "outputs": [
    {
     "data": {
      "text/plain": [
       "{10}"
      ]
     },
     "execution_count": 128,
     "metadata": {},
     "output_type": "execute_result"
    }
   ],
   "source": [
    "{10, 11} - {11, 12}"
   ]
  },
  {
   "cell_type": "code",
   "execution_count": 129,
   "id": "2adf882d-165a-4e09-bb94-4354dbf97cc5",
   "metadata": {},
   "outputs": [
    {
     "data": {
      "text/plain": [
       "{10, 12}"
      ]
     },
     "execution_count": 129,
     "metadata": {},
     "output_type": "execute_result"
    }
   ],
   "source": [
    "{10, 11} ^ {11, 12}"
   ]
  },
  {
   "cell_type": "markdown",
   "id": "ff19a1c5-809e-45dc-a2da-d34d4c37d32b",
   "metadata": {},
   "source": [
    "### Set operations\n",
    "\n",
    "Set inclusion:\n",
    "\n",
    "- `<`: proper subset\n",
    "- `<=`: subset\n",
    "- `>`: proper superset\n",
    "- `>=`: superset\n",
    "\n",
    "Set algebra operations:\n",
    "\n",
    "- `&`: intersection\n",
    "- `|`: union\n",
    "- `^`: symmetric difference\n",
    "- `-`: difference\n",
    "\n",
    "`&`, `|`, and `^`, being bitwise logcal operations, also perform intersection, union, and symmetric difference if their operands are bitfields representing sets (bitsets)."
   ]
  },
  {
   "cell_type": "code",
   "execution_count": 130,
   "id": "9098df1b-aa85-46ef-b81b-0595c6bc358b",
   "metadata": {},
   "outputs": [],
   "source": [
    "def comprehension_intersect(s, t):\n",
    "    return {x for x in s if x in t}"
   ]
  },
  {
   "cell_type": "code",
   "execution_count": 131,
   "id": "3309fead-fd26-4640-b29c-ad6b0b2ecae2",
   "metadata": {},
   "outputs": [],
   "source": [
    "def comprehension_union(s, t): \n",
    "    return {x for s_or_t in (s, t) for x in s_or_t}"
   ]
  },
  {
   "cell_type": "code",
   "execution_count": 132,
   "id": "51fee86b-e052-4c0e-a222-49eb935631e4",
   "metadata": {},
   "outputs": [],
   "source": [
    "def loop_union(s, t):\n",
    "    result = set()\n",
    "    for s_or_t in s, t:\n",
    "        for x in s_or_t:\n",
    "            result.add(x)\n",
    "    return result"
   ]
  },
  {
   "cell_type": "code",
   "execution_count": 133,
   "id": "b52e26ec-5ac1-40e0-b74e-5668c8386637",
   "metadata": {},
   "outputs": [
    {
     "data": {
      "text/plain": [
       "{'Alice', 'Frank'}"
      ]
     },
     "execution_count": 133,
     "metadata": {},
     "output_type": "execute_result"
    }
   ],
   "source": [
    "comprehension_intersect(party, party2)"
   ]
  },
  {
   "cell_type": "code",
   "execution_count": 134,
   "id": "e30c4ef1-ce45-4247-b6b0-7304460e6734",
   "metadata": {},
   "outputs": [
    {
     "data": {
      "text/plain": [
       "{'Alice', 'Bob', 'Cassidy', 'Erin', 'Frank'}"
      ]
     },
     "execution_count": 134,
     "metadata": {},
     "output_type": "execute_result"
    }
   ],
   "source": [
    "comprehension_union(party, party2)"
   ]
  },
  {
   "cell_type": "code",
   "execution_count": 135,
   "id": "b194f969-4cae-4d89-a176-87509fcc6a76",
   "metadata": {},
   "outputs": [
    {
     "data": {
      "text/plain": [
       "{'Alice', 'Bob', 'Cassidy', 'Erin', 'Frank'}"
      ]
     },
     "execution_count": 135,
     "metadata": {},
     "output_type": "execute_result"
    }
   ],
   "source": [
    "loop_union(party, party2)"
   ]
  },
  {
   "cell_type": "code",
   "execution_count": 136,
   "id": "7d1891fd-edeb-4d15-b928-47173fe81d67",
   "metadata": {},
   "outputs": [],
   "source": [
    "def guests_intersect(s, t):\n",
    "    return {x for x in guests if x in s and x in t}"
   ]
  },
  {
   "cell_type": "code",
   "execution_count": 137,
   "id": "7afb8e5b-dea0-4db1-857a-6fca91237c7d",
   "metadata": {},
   "outputs": [],
   "source": [
    "def guests_union(s, t):\n",
    "    return {x for x in guests if x in s or x in t}"
   ]
  },
  {
   "cell_type": "code",
   "execution_count": 138,
   "id": "7b41918a-496b-4586-8a64-47f0e09d9972",
   "metadata": {},
   "outputs": [
    {
     "data": {
      "text/plain": [
       "{'Alice', 'Frank'}"
      ]
     },
     "execution_count": 138,
     "metadata": {},
     "output_type": "execute_result"
    }
   ],
   "source": [
    "guests_intersect(party, party2)"
   ]
  },
  {
   "cell_type": "code",
   "execution_count": 139,
   "id": "4aa3d11c-8c50-492c-82c7-afa265f0ad55",
   "metadata": {},
   "outputs": [
    {
     "data": {
      "text/plain": [
       "{'Alice', 'Bob', 'Cassidy', 'Erin', 'Frank'}"
      ]
     },
     "execution_count": 139,
     "metadata": {},
     "output_type": "execute_result"
    }
   ],
   "source": [
    "guests_union(party, party2)"
   ]
  },
  {
   "cell_type": "code",
   "execution_count": 140,
   "id": "0d04b03e-cab2-4356-bee7-5f55bb0449a9",
   "metadata": {},
   "outputs": [],
   "source": [
    "def guests_complement(s):\n",
    "        return {x for x in guests if x not in s}"
   ]
  },
  {
   "cell_type": "code",
   "execution_count": 141,
   "id": "53cbfddd-d985-49d7-9df7-bbd76c0c11a0",
   "metadata": {},
   "outputs": [
    {
     "data": {
      "text/plain": [
       "{'Bob', 'Derek', 'Erin', 'Gerald', 'Heather'}"
      ]
     },
     "execution_count": 141,
     "metadata": {},
     "output_type": "execute_result"
    }
   ],
   "source": [
    "guests_complement(party)"
   ]
  },
  {
   "cell_type": "code",
   "execution_count": 142,
   "id": "7976c8c6-1a83-4631-90f1-4ed8d61d109f",
   "metadata": {},
   "outputs": [],
   "source": [
    "indistinguishable = [0, 0.0, False]"
   ]
  },
  {
   "cell_type": "code",
   "execution_count": 143,
   "id": "40cce15b-c61f-4820-9989-43f0ab1b5137",
   "metadata": {},
   "outputs": [
    {
     "data": {
      "text/plain": [
       "[0, 0.0, False]"
      ]
     },
     "execution_count": 143,
     "metadata": {},
     "output_type": "execute_result"
    }
   ],
   "source": [
    "indistinguishable"
   ]
  },
  {
   "cell_type": "code",
   "execution_count": 144,
   "id": "0c2f46f1-a973-4dce-b33c-5bf0507a1a4a",
   "metadata": {},
   "outputs": [
    {
     "data": {
      "text/plain": [
       "{0}"
      ]
     },
     "execution_count": 144,
     "metadata": {},
     "output_type": "execute_result"
    }
   ],
   "source": [
    "set(indistinguishable)"
   ]
  },
  {
   "cell_type": "code",
   "execution_count": 145,
   "id": "5bf7aa45-6bc6-4ac1-b2b9-0cfc8540e31e",
   "metadata": {},
   "outputs": [
    {
     "data": {
      "text/plain": [
       "[0, 0.0, False]"
      ]
     },
     "execution_count": 145,
     "metadata": {},
     "output_type": "execute_result"
    }
   ],
   "source": [
    "sorted(indistinguishable)"
   ]
  },
  {
   "cell_type": "code",
   "execution_count": 146,
   "id": "55a22940-5384-47df-97a2-0e6d4e1d567f",
   "metadata": {},
   "outputs": [
    {
     "data": {
      "text/plain": [
       "True"
      ]
     },
     "execution_count": 146,
     "metadata": {},
     "output_type": "execute_result"
    }
   ],
   "source": [
    "[0, 0.0, False] == [0.0, False, 0]"
   ]
  },
  {
   "cell_type": "code",
   "execution_count": 147,
   "id": "52929a10-7b25-48b6-b960-152a6f6db7e6",
   "metadata": {},
   "outputs": [],
   "source": [
    "def comprehension_difference(s, t):\n",
    "    return {x for x in s if x not in t}"
   ]
  },
  {
   "cell_type": "code",
   "execution_count": 148,
   "id": "4c26cc37-eb15-427f-b8d2-19b3777cbde5",
   "metadata": {},
   "outputs": [
    {
     "data": {
      "text/plain": [
       "{'Cassidy'}"
      ]
     },
     "execution_count": 148,
     "metadata": {},
     "output_type": "execute_result"
    }
   ],
   "source": [
    "comprehension_difference(party, party2)"
   ]
  },
  {
   "cell_type": "code",
   "execution_count": 149,
   "id": "2af04a5b-86f5-41df-8f4b-7977bb6712b8",
   "metadata": {},
   "outputs": [
    {
     "data": {
      "text/plain": [
       "{'Bob', 'Erin'}"
      ]
     },
     "execution_count": 149,
     "metadata": {},
     "output_type": "execute_result"
    }
   ],
   "source": [
    "comprehension_difference(party2, party)"
   ]
  },
  {
   "cell_type": "code",
   "execution_count": 150,
   "id": "a9f5f296-5ed2-490f-9357-90c618e85540",
   "metadata": {},
   "outputs": [
    {
     "data": {
      "text/plain": [
       "{'Cassidy'}"
      ]
     },
     "execution_count": 150,
     "metadata": {},
     "output_type": "execute_result"
    }
   ],
   "source": [
    "party - party2"
   ]
  },
  {
   "cell_type": "code",
   "execution_count": 151,
   "id": "43e3ff8d-f9c0-407a-8048-75640e296f11",
   "metadata": {},
   "outputs": [
    {
     "data": {
      "text/plain": [
       "{'Bob', 'Erin'}"
      ]
     },
     "execution_count": 151,
     "metadata": {},
     "output_type": "execute_result"
    }
   ],
   "source": [
    "party2 - party"
   ]
  },
  {
   "cell_type": "code",
   "execution_count": 152,
   "id": "9a8c0192-3a9b-4199-9df4-e7fb520ecf80",
   "metadata": {},
   "outputs": [],
   "source": [
    "def comprehension_symmetric_difference(s, t): \n",
    "    return {x for s_or_t in (s, t) for x in s_or_t if not (x in s and x in t)}"
   ]
  },
  {
   "cell_type": "code",
   "execution_count": 153,
   "id": "7a1a0df2-83ea-4a39-964c-d8e36a1ade67",
   "metadata": {},
   "outputs": [
    {
     "data": {
      "text/plain": [
       "{'Bob', 'Cassidy', 'Erin'}"
      ]
     },
     "execution_count": 153,
     "metadata": {},
     "output_type": "execute_result"
    }
   ],
   "source": [
    "party ^ party2"
   ]
  },
  {
   "cell_type": "code",
   "execution_count": 154,
   "id": "1967fdd2-4699-4c61-a1cb-bd4765c042d5",
   "metadata": {},
   "outputs": [
    {
     "data": {
      "text/plain": [
       "{'Bob', 'Cassidy', 'Erin'}"
      ]
     },
     "execution_count": 154,
     "metadata": {},
     "output_type": "execute_result"
    }
   ],
   "source": [
    "comprehension_symmetric_difference(party, party2)"
   ]
  },
  {
   "cell_type": "code",
   "execution_count": 155,
   "id": "6836e340-177c-4841-879a-a9c4f2abd10b",
   "metadata": {},
   "outputs": [
    {
     "data": {
      "text/plain": [
       "{'Bob', 'Cassidy', 'Erin'}"
      ]
     },
     "execution_count": 155,
     "metadata": {},
     "output_type": "execute_result"
    }
   ],
   "source": [
    "party2 ^ party"
   ]
  },
  {
   "cell_type": "code",
   "execution_count": 156,
   "id": "2f649835-af24-4cc8-83aa-d4ca293a4004",
   "metadata": {},
   "outputs": [
    {
     "data": {
      "text/plain": [
       "{'Bob', 'Cassidy', 'Erin'}"
      ]
     },
     "execution_count": 156,
     "metadata": {},
     "output_type": "execute_result"
    }
   ],
   "source": [
    "comprehension_symmetric_difference(party2, party)"
   ]
  },
  {
   "cell_type": "code",
   "execution_count": 157,
   "id": "9aebbf0b-6a68-4919-af0e-60c76b99beca",
   "metadata": {},
   "outputs": [],
   "source": [
    "def guests_difference(s, t):\n",
    "    return {x for x in guests if x in s and x not in t}"
   ]
  },
  {
   "cell_type": "code",
   "execution_count": 158,
   "id": "615ea182-7864-449c-a56b-93711928484c",
   "metadata": {},
   "outputs": [
    {
     "data": {
      "text/plain": [
       "{'Cassidy'}"
      ]
     },
     "execution_count": 158,
     "metadata": {},
     "output_type": "execute_result"
    }
   ],
   "source": [
    "guests_difference(party, party2)"
   ]
  },
  {
   "cell_type": "code",
   "execution_count": 159,
   "id": "55b7196f-fa5c-4e8f-a519-22b7a4d3e0d9",
   "metadata": {},
   "outputs": [
    {
     "data": {
      "text/plain": [
       "{'Bob', 'Erin'}"
      ]
     },
     "execution_count": 159,
     "metadata": {},
     "output_type": "execute_result"
    }
   ],
   "source": [
    "guests_difference(party2, party)"
   ]
  },
  {
   "cell_type": "code",
   "execution_count": 160,
   "id": "6b6d02d1-2221-4de6-97ed-c81cfc8abcd3",
   "metadata": {},
   "outputs": [],
   "source": [
    "# The symmetric difference is the union of the differences both ways.\n",
    "#   s ^ t == (s - t) | (t - s)\n",
    "def guests_symmetric_difference(s, t):\n",
    "    return {x for x in guests if (x in s and x not in t) or (x not in s and x in t)}"
   ]
  },
  {
   "cell_type": "code",
   "execution_count": 161,
   "id": "6ec96fd1-5f07-45f7-afe8-b5cc858d39bd",
   "metadata": {},
   "outputs": [
    {
     "data": {
      "text/plain": [
       "{'Bob', 'Cassidy', 'Erin'}"
      ]
     },
     "execution_count": 161,
     "metadata": {},
     "output_type": "execute_result"
    }
   ],
   "source": [
    "guests_symmetric_difference(party, party2)"
   ]
  },
  {
   "cell_type": "code",
   "execution_count": 162,
   "id": "97eaf11a-9e80-4140-919c-c9d565382edc",
   "metadata": {},
   "outputs": [
    {
     "data": {
      "text/plain": [
       "{'Bob', 'Cassidy', 'Erin'}"
      ]
     },
     "execution_count": 162,
     "metadata": {},
     "output_type": "execute_result"
    }
   ],
   "source": [
    "guests_symmetric_difference(party2, party)"
   ]
  },
  {
   "cell_type": "code",
   "execution_count": 163,
   "id": "e36020ca-89fb-4235-a62d-7d5cf014d458",
   "metadata": {},
   "outputs": [],
   "source": [
    "# The symmetric difference is the difference of the union and the intersection.\n",
    "#   s ^ t == (s | t) - (t & s)\n",
    "def guests_symmetric_difference_alt(s, t):\n",
    "    return {x for x in guests if (x in s or x in t) and not (x in s and x in t)}"
   ]
  },
  {
   "cell_type": "code",
   "execution_count": 164,
   "id": "2468673c-b730-4a4c-b7ea-b85c58b0b9ba",
   "metadata": {},
   "outputs": [
    {
     "data": {
      "text/plain": [
       "{'Bob', 'Cassidy', 'Erin'}"
      ]
     },
     "execution_count": 164,
     "metadata": {},
     "output_type": "execute_result"
    }
   ],
   "source": [
    "guests_symmetric_difference_alt(party, party2)"
   ]
  },
  {
   "cell_type": "code",
   "execution_count": 165,
   "id": "ee826b30-2bfb-47d4-b475-efb3eb1ded23",
   "metadata": {},
   "outputs": [
    {
     "data": {
      "text/plain": [
       "{'Bob', 'Cassidy', 'Erin'}"
      ]
     },
     "execution_count": 165,
     "metadata": {},
     "output_type": "execute_result"
    }
   ],
   "source": [
    "guests_symmetric_difference_alt(party2, party)"
   ]
  },
  {
   "cell_type": "code",
   "execution_count": 166,
   "id": "2fb711fa-20f5-4e7a-a027-5dea42f5811b",
   "metadata": {},
   "outputs": [
    {
     "data": {
      "text/plain": [
       "set()"
      ]
     },
     "execution_count": 166,
     "metadata": {},
     "output_type": "execute_result"
    }
   ],
   "source": [
    "guests_symmetric_difference_alt(party2, party2)"
   ]
  },
  {
   "cell_type": "code",
   "execution_count": 167,
   "id": "048f5a51-5d34-4e4b-950c-3e2ae8fc9bc9",
   "metadata": {},
   "outputs": [],
   "source": [
    "# not a in b  <=>  a not in b\n",
    "# not a not in b  <=>  a in b"
   ]
  },
  {
   "cell_type": "markdown",
   "id": "4330134c-9ed6-4717-b00f-11a02af5002a",
   "metadata": {},
   "source": [
    "Rules for pushing logical negation into conjunctions and disjunctions / pulling logical negation out of conjunctions and disjunctions:\n",
    "\n",
    "https://en.wikipedia.org/wiki/De_Morgan%27s_laws\n",
    "\n",
    "There is also a corresponding version of De Morgan's laws for sets, which are also covered in that article."
   ]
  },
  {
   "cell_type": "markdown",
   "id": "e9e3e5b6-6516-4e0f-a350-586b02bdec49",
   "metadata": {},
   "source": [
    "```python\n",
    "not (p and q)\n",
    "not p or not q\n",
    "```"
   ]
  },
  {
   "cell_type": "markdown",
   "id": "424c4d2a-9ccd-43c8-a445-7c725dd061df",
   "metadata": {},
   "source": [
    "```python\n",
    "not (p or q)\n",
    "not p and not q\n",
    "```"
   ]
  },
  {
   "cell_type": "markdown",
   "id": "78a88627-a28f-4775-9c1d-842bbdcfcc09",
   "metadata": {},
   "source": [
    "```python\n",
    "not any(f(x) for x in s)  # not (f(a) or f(b) or f(c) or ...)\n",
    "all(not f(x) for x in s)  # not f(a) and not f(b) and not f(c) and ...\n",
    "```"
   ]
  },
  {
   "cell_type": "code",
   "execution_count": 168,
   "id": "1eed8225-5c51-467d-aa27-f3ced179c3c1",
   "metadata": {},
   "outputs": [],
   "source": [
    "s = {5, 6, 7, 8, 9}"
   ]
  },
  {
   "cell_type": "code",
   "execution_count": 169,
   "id": "075db521-cd7c-4548-b78e-dea01acf69fd",
   "metadata": {},
   "outputs": [],
   "source": [
    "s.clear()"
   ]
  },
  {
   "cell_type": "code",
   "execution_count": 170,
   "id": "de372e55-ef6b-480a-943f-4cc6a89d072e",
   "metadata": {},
   "outputs": [
    {
     "data": {
      "text/plain": [
       "set()"
      ]
     },
     "execution_count": 170,
     "metadata": {},
     "output_type": "execute_result"
    }
   ],
   "source": [
    "s"
   ]
  },
  {
   "cell_type": "code",
   "execution_count": 171,
   "id": "4c38a520-e69a-4553-ab5e-aa9c4950403d",
   "metadata": {},
   "outputs": [],
   "source": [
    "l = [2, 3, 4, 5, 6]"
   ]
  },
  {
   "cell_type": "code",
   "execution_count": 172,
   "id": "ad46a900-3e19-4cce-b174-2371b81ca3af",
   "metadata": {},
   "outputs": [],
   "source": [
    "l.clear()"
   ]
  },
  {
   "cell_type": "code",
   "execution_count": 173,
   "id": "cf8d59d2-6011-4f8c-ada2-efc29762b856",
   "metadata": {},
   "outputs": [
    {
     "data": {
      "text/plain": [
       "[]"
      ]
     },
     "execution_count": 173,
     "metadata": {},
     "output_type": "execute_result"
    }
   ],
   "source": [
    "l"
   ]
  },
  {
   "cell_type": "code",
   "execution_count": 174,
   "id": "8c822132-b0d6-4086-a653-bd09b5413ea3",
   "metadata": {},
   "outputs": [],
   "source": [
    "l = [4, 5, 6, 7, 8, 9]"
   ]
  },
  {
   "cell_type": "code",
   "execution_count": 175,
   "id": "24d37418-5d20-4dfc-ba3b-20a68030470d",
   "metadata": {},
   "outputs": [],
   "source": [
    "c = l[:]"
   ]
  },
  {
   "cell_type": "code",
   "execution_count": 176,
   "id": "a828b875-95e8-4ff9-8cb1-f2bc10cdbcb0",
   "metadata": {},
   "outputs": [
    {
     "data": {
      "text/plain": [
       "[4, 5, 6, 7, 8, 9]"
      ]
     },
     "execution_count": 176,
     "metadata": {},
     "output_type": "execute_result"
    }
   ],
   "source": [
    "c"
   ]
  },
  {
   "cell_type": "code",
   "execution_count": 177,
   "id": "6049bd04-764a-4d0a-bdb2-8c2e4c1352a7",
   "metadata": {},
   "outputs": [
    {
     "data": {
      "text/plain": [
       "True"
      ]
     },
     "execution_count": 177,
     "metadata": {},
     "output_type": "execute_result"
    }
   ],
   "source": [
    "c == l"
   ]
  },
  {
   "cell_type": "code",
   "execution_count": 178,
   "id": "7f881f44-c5b2-476c-88e8-8aeb4a19800b",
   "metadata": {},
   "outputs": [
    {
     "data": {
      "text/plain": [
       "False"
      ]
     },
     "execution_count": 178,
     "metadata": {},
     "output_type": "execute_result"
    }
   ],
   "source": [
    "c is l "
   ]
  },
  {
   "cell_type": "code",
   "execution_count": 179,
   "id": "69b20159-4d4f-4bc4-b46d-7c9b10158823",
   "metadata": {},
   "outputs": [],
   "source": [
    "c.append(10)"
   ]
  },
  {
   "cell_type": "code",
   "execution_count": 180,
   "id": "965e5474-c51d-4d5a-a913-8e948d7acd4c",
   "metadata": {},
   "outputs": [
    {
     "data": {
      "text/plain": [
       "[4, 5, 6, 7, 8, 9, 10]"
      ]
     },
     "execution_count": 180,
     "metadata": {},
     "output_type": "execute_result"
    }
   ],
   "source": [
    "c"
   ]
  },
  {
   "cell_type": "code",
   "execution_count": 181,
   "id": "581883d0-e809-4ebc-9c07-54a6028a94dd",
   "metadata": {},
   "outputs": [
    {
     "data": {
      "text/plain": [
       "[4, 5, 6, 7, 8, 9]"
      ]
     },
     "execution_count": 181,
     "metadata": {},
     "output_type": "execute_result"
    }
   ],
   "source": [
    "l"
   ]
  },
  {
   "cell_type": "code",
   "execution_count": 182,
   "id": "d00d9475-16f1-41c9-9254-0833da4be7d2",
   "metadata": {},
   "outputs": [],
   "source": [
    "c.append(l[:])"
   ]
  },
  {
   "cell_type": "code",
   "execution_count": 183,
   "id": "5a66b7d4-262f-4f01-82e4-ca8efb88433d",
   "metadata": {},
   "outputs": [
    {
     "data": {
      "text/plain": [
       "[4, 5, 6, 7, 8, 9, 10, [4, 5, 6, 7, 8, 9]]"
      ]
     },
     "execution_count": 183,
     "metadata": {},
     "output_type": "execute_result"
    }
   ],
   "source": [
    "c"
   ]
  },
  {
   "cell_type": "code",
   "execution_count": 184,
   "id": "cd1a4e0a-b54c-4976-a0ec-12b66c46050a",
   "metadata": {},
   "outputs": [],
   "source": [
    "del c[len(c)-1]"
   ]
  },
  {
   "cell_type": "code",
   "execution_count": 185,
   "id": "4d642933-d015-4bad-b54f-9bac51ef13db",
   "metadata": {},
   "outputs": [],
   "source": [
    "c.append('crap')"
   ]
  },
  {
   "cell_type": "code",
   "execution_count": 186,
   "id": "acf6c130-6b3b-409d-b64d-217d675c8fa2",
   "metadata": {},
   "outputs": [],
   "source": [
    "del c[-1]"
   ]
  },
  {
   "cell_type": "code",
   "execution_count": 187,
   "id": "5650386e-e500-4dcf-97e4-a87e045c22de",
   "metadata": {},
   "outputs": [
    {
     "data": {
      "text/plain": [
       "[4, 5, 6, 7, 8, 9, 10]"
      ]
     },
     "execution_count": 187,
     "metadata": {},
     "output_type": "execute_result"
    }
   ],
   "source": [
    "c"
   ]
  },
  {
   "cell_type": "code",
   "execution_count": 188,
   "id": "e6cee2db-9e26-47d7-8d10-2d50069401a5",
   "metadata": {},
   "outputs": [],
   "source": [
    "c.extend(l)"
   ]
  },
  {
   "cell_type": "code",
   "execution_count": 189,
   "id": "2927222d-e533-4cb1-9c49-91ca9f5b36e6",
   "metadata": {},
   "outputs": [
    {
     "data": {
      "text/plain": [
       "[4, 5, 6, 7, 8, 9, 10, 4, 5, 6, 7, 8, 9]"
      ]
     },
     "execution_count": 189,
     "metadata": {},
     "output_type": "execute_result"
    }
   ],
   "source": [
    "c"
   ]
  },
  {
   "cell_type": "code",
   "execution_count": 190,
   "id": "14ef661b-3aa8-4908-bea6-9f957504fb72",
   "metadata": {},
   "outputs": [],
   "source": [
    "w = ['foo', 'bar', 'baz']"
   ]
  },
  {
   "cell_type": "code",
   "execution_count": 191,
   "id": "c18aac17-f96e-44a0-a813-ae481ce029ef",
   "metadata": {},
   "outputs": [],
   "source": [
    "w[3:5] = ['f','b','b']"
   ]
  },
  {
   "cell_type": "code",
   "execution_count": 192,
   "id": "38a7a98b-36ed-454a-bf97-882367e98507",
   "metadata": {},
   "outputs": [
    {
     "data": {
      "text/plain": [
       "['foo', 'bar', 'baz', 'f', 'b', 'b']"
      ]
     },
     "execution_count": 192,
     "metadata": {},
     "output_type": "execute_result"
    }
   ],
   "source": [
    "w"
   ]
  },
  {
   "cell_type": "code",
   "execution_count": 193,
   "id": "ad63d338-4a2f-4897-ba58-929b0582af29",
   "metadata": {},
   "outputs": [],
   "source": [
    "c[6:6] = w"
   ]
  },
  {
   "cell_type": "code",
   "execution_count": 194,
   "id": "f556bdf4-4f8d-4857-b04b-3f12a4799cee",
   "metadata": {},
   "outputs": [
    {
     "data": {
      "text/plain": [
       "[4, 5, 6, 7, 8, 9, 'foo', 'bar', 'baz', 'f', 'b', 'b', 10, 4, 5, 6, 7, 8, 9]"
      ]
     },
     "execution_count": 194,
     "metadata": {},
     "output_type": "execute_result"
    }
   ],
   "source": [
    "c"
   ]
  },
  {
   "cell_type": "code",
   "execution_count": 195,
   "id": "50ff63df-9baf-4534-84ad-a54e9883ece1",
   "metadata": {},
   "outputs": [
    {
     "name": "stdout",
     "output_type": "stream",
     "text": [
      "Help on method_descriptor:\n",
      "\n",
      "insert(self, index, object, /)\n",
      "    Insert object before index.\n",
      "\n"
     ]
    }
   ],
   "source": [
    "help(list.insert)"
   ]
  },
  {
   "cell_type": "code",
   "execution_count": 196,
   "id": "584de0f0-1624-43b4-987d-284810d8f9de",
   "metadata": {},
   "outputs": [],
   "source": [
    "c.insert(18, 'inserted')"
   ]
  },
  {
   "cell_type": "code",
   "execution_count": 197,
   "id": "7277ca71-587f-437b-831b-6d21d2f1cfdd",
   "metadata": {},
   "outputs": [
    {
     "data": {
      "text/plain": [
       "[4,\n",
       " 5,\n",
       " 6,\n",
       " 7,\n",
       " 8,\n",
       " 9,\n",
       " 'foo',\n",
       " 'bar',\n",
       " 'baz',\n",
       " 'f',\n",
       " 'b',\n",
       " 'b',\n",
       " 10,\n",
       " 4,\n",
       " 5,\n",
       " 6,\n",
       " 7,\n",
       " 8,\n",
       " 'inserted',\n",
       " 9]"
      ]
     },
     "execution_count": 197,
     "metadata": {},
     "output_type": "execute_result"
    }
   ],
   "source": [
    "c"
   ]
  },
  {
   "cell_type": "code",
   "execution_count": 198,
   "id": "88703dba-d2db-4a8b-b1a8-32151ad9c249",
   "metadata": {},
   "outputs": [],
   "source": [
    "c.insert(-1, 'inserted_again')"
   ]
  },
  {
   "cell_type": "code",
   "execution_count": 199,
   "id": "bd5662b4-b7b8-49f4-9ab3-cd0371b33e11",
   "metadata": {},
   "outputs": [
    {
     "data": {
      "text/plain": [
       "[4,\n",
       " 5,\n",
       " 6,\n",
       " 7,\n",
       " 8,\n",
       " 9,\n",
       " 'foo',\n",
       " 'bar',\n",
       " 'baz',\n",
       " 'f',\n",
       " 'b',\n",
       " 'b',\n",
       " 10,\n",
       " 4,\n",
       " 5,\n",
       " 6,\n",
       " 7,\n",
       " 8,\n",
       " 'inserted',\n",
       " 'inserted_again',\n",
       " 9]"
      ]
     },
     "execution_count": 199,
     "metadata": {},
     "output_type": "execute_result"
    }
   ],
   "source": [
    "c"
   ]
  },
  {
   "cell_type": "code",
   "execution_count": 200,
   "id": "936d4925-bfa5-448f-a261-f26a308c6375",
   "metadata": {},
   "outputs": [],
   "source": [
    "c[-1:-1] = 'inserting_even_more'"
   ]
  },
  {
   "cell_type": "code",
   "execution_count": 201,
   "id": "0fa78937-95ac-4967-a90a-d58af2eda615",
   "metadata": {},
   "outputs": [
    {
     "data": {
      "text/plain": [
       "[4,\n",
       " 5,\n",
       " 6,\n",
       " 7,\n",
       " 8,\n",
       " 9,\n",
       " 'foo',\n",
       " 'bar',\n",
       " 'baz',\n",
       " 'f',\n",
       " 'b',\n",
       " 'b',\n",
       " 10,\n",
       " 4,\n",
       " 5,\n",
       " 6,\n",
       " 7,\n",
       " 8,\n",
       " 'inserted',\n",
       " 'inserted_again',\n",
       " 'i',\n",
       " 'n',\n",
       " 's',\n",
       " 'e',\n",
       " 'r',\n",
       " 't',\n",
       " 'i',\n",
       " 'n',\n",
       " 'g',\n",
       " '_',\n",
       " 'e',\n",
       " 'v',\n",
       " 'e',\n",
       " 'n',\n",
       " '_',\n",
       " 'm',\n",
       " 'o',\n",
       " 'r',\n",
       " 'e',\n",
       " 9]"
      ]
     },
     "execution_count": 201,
     "metadata": {},
     "output_type": "execute_result"
    }
   ],
   "source": [
    "c"
   ]
  },
  {
   "cell_type": "code",
   "execution_count": 202,
   "id": "c2b768f9-5a92-43e0-bc87-0464f1ffebd2",
   "metadata": {},
   "outputs": [
    {
     "data": {
      "text/plain": [
       "['__and__',\n",
       " '__class__',\n",
       " '__class_getitem__',\n",
       " '__contains__',\n",
       " '__delattr__',\n",
       " '__dir__',\n",
       " '__doc__',\n",
       " '__eq__',\n",
       " '__format__',\n",
       " '__ge__',\n",
       " '__getattribute__',\n",
       " '__gt__',\n",
       " '__hash__',\n",
       " '__iand__',\n",
       " '__init__',\n",
       " '__init_subclass__',\n",
       " '__ior__',\n",
       " '__isub__',\n",
       " '__iter__',\n",
       " '__ixor__',\n",
       " '__le__',\n",
       " '__len__',\n",
       " '__lt__',\n",
       " '__ne__',\n",
       " '__new__',\n",
       " '__or__',\n",
       " '__rand__',\n",
       " '__reduce__',\n",
       " '__reduce_ex__',\n",
       " '__repr__',\n",
       " '__ror__',\n",
       " '__rsub__',\n",
       " '__rxor__',\n",
       " '__setattr__',\n",
       " '__sizeof__',\n",
       " '__str__',\n",
       " '__sub__',\n",
       " '__subclasshook__',\n",
       " '__xor__',\n",
       " 'add',\n",
       " 'clear',\n",
       " 'copy',\n",
       " 'difference',\n",
       " 'difference_update',\n",
       " 'discard',\n",
       " 'intersection',\n",
       " 'intersection_update',\n",
       " 'isdisjoint',\n",
       " 'issubset',\n",
       " 'issuperset',\n",
       " 'pop',\n",
       " 'remove',\n",
       " 'symmetric_difference',\n",
       " 'symmetric_difference_update',\n",
       " 'union',\n",
       " 'update']"
      ]
     },
     "execution_count": 202,
     "metadata": {},
     "output_type": "execute_result"
    }
   ],
   "source": [
    "dir(set)"
   ]
  },
  {
   "cell_type": "code",
   "execution_count": 203,
   "id": "41cb5177-d682-42f8-92f4-b3442ae2d3bb",
   "metadata": {},
   "outputs": [],
   "source": [
    "party1 = party.copy()"
   ]
  },
  {
   "cell_type": "code",
   "execution_count": 204,
   "id": "e5861496-1910-477e-a1ec-c59dff7a2ac0",
   "metadata": {},
   "outputs": [
    {
     "data": {
      "text/plain": [
       "{'Alice', 'Cassidy', 'Frank'}"
      ]
     },
     "execution_count": 204,
     "metadata": {},
     "output_type": "execute_result"
    }
   ],
   "source": [
    "party1"
   ]
  },
  {
   "cell_type": "code",
   "execution_count": 205,
   "id": "2bc00452-de16-4864-b325-1c1daedca913",
   "metadata": {},
   "outputs": [],
   "source": [
    "party1.add('Erin')"
   ]
  },
  {
   "cell_type": "code",
   "execution_count": 206,
   "id": "5fc08fb0-474e-4cf5-b6f9-15efb3204486",
   "metadata": {},
   "outputs": [
    {
     "data": {
      "text/plain": [
       "{'Alice', 'Cassidy', 'Erin', 'Frank'}"
      ]
     },
     "execution_count": 206,
     "metadata": {},
     "output_type": "execute_result"
    }
   ],
   "source": [
    "party1"
   ]
  },
  {
   "cell_type": "code",
   "execution_count": 207,
   "id": "e572b32d-93cc-4e47-824a-f8e0936e2253",
   "metadata": {},
   "outputs": [
    {
     "data": {
      "text/plain": [
       "{'Alice', 'Cassidy', 'Frank'}"
      ]
     },
     "execution_count": 207,
     "metadata": {},
     "output_type": "execute_result"
    }
   ],
   "source": [
    "party"
   ]
  },
  {
   "cell_type": "code",
   "execution_count": 208,
   "id": "e2349e6b-b144-4960-90ca-1f8247d47828",
   "metadata": {},
   "outputs": [
    {
     "data": {
      "text/plain": [
       "{'Erin'}"
      ]
     },
     "execution_count": 208,
     "metadata": {},
     "output_type": "execute_result"
    }
   ],
   "source": [
    "party1 - party"
   ]
  },
  {
   "cell_type": "code",
   "execution_count": 209,
   "id": "cf659b31-924e-4d15-8280-a1dbaa3b4a76",
   "metadata": {},
   "outputs": [
    {
     "data": {
      "text/plain": [
       "{'Alice', 'Cassidy', 'Erin', 'Frank'}"
      ]
     },
     "execution_count": 209,
     "metadata": {},
     "output_type": "execute_result"
    }
   ],
   "source": [
    "{*party, e}"
   ]
  },
  {
   "cell_type": "code",
   "execution_count": 210,
   "id": "37abcbf3-05e1-42ea-8c0a-3ee097a23293",
   "metadata": {},
   "outputs": [],
   "source": [
    "b = set(party)\n",
    "b.add(e)"
   ]
  },
  {
   "cell_type": "code",
   "execution_count": 211,
   "id": "e11bf371-ccf8-4c5b-82a0-e0928a5004a4",
   "metadata": {},
   "outputs": [
    {
     "data": {
      "text/plain": [
       "{'Alice', 'Cassidy', 'Erin', 'Frank'}"
      ]
     },
     "execution_count": 211,
     "metadata": {},
     "output_type": "execute_result"
    }
   ],
   "source": [
    "b"
   ]
  },
  {
   "cell_type": "code",
   "execution_count": 212,
   "id": "983aa472-57e4-42e7-837e-895ff6ea00a1",
   "metadata": {},
   "outputs": [
    {
     "data": {
      "text/plain": [
       "True"
      ]
     },
     "execution_count": 212,
     "metadata": {},
     "output_type": "execute_result"
    }
   ],
   "source": [
    "b == party1"
   ]
  },
  {
   "cell_type": "code",
   "execution_count": 213,
   "id": "bd7bb266-fabf-40c5-afaa-0939629f8d43",
   "metadata": {},
   "outputs": [
    {
     "data": {
      "text/plain": [
       "False"
      ]
     },
     "execution_count": 213,
     "metadata": {},
     "output_type": "execute_result"
    }
   ],
   "source": [
    "b is party1"
   ]
  },
  {
   "cell_type": "code",
   "execution_count": 214,
   "id": "f35cd721-b7a5-4cc4-b341-e9b779ea9f8b",
   "metadata": {},
   "outputs": [
    {
     "data": {
      "text/plain": [
       "True"
      ]
     },
     "execution_count": 214,
     "metadata": {},
     "output_type": "execute_result"
    }
   ],
   "source": [
    "b is not party1"
   ]
  },
  {
   "cell_type": "code",
   "execution_count": 215,
   "id": "57eb4a83-75a1-4323-9417-79cf8d1b65d0",
   "metadata": {},
   "outputs": [],
   "source": [
    "party1.remove('Alice')"
   ]
  },
  {
   "cell_type": "code",
   "execution_count": 216,
   "id": "42a170fd-04ed-4dff-9e53-74e9e4935c7c",
   "metadata": {},
   "outputs": [
    {
     "data": {
      "text/plain": [
       "{'Cassidy', 'Erin', 'Frank'}"
      ]
     },
     "execution_count": 216,
     "metadata": {},
     "output_type": "execute_result"
    }
   ],
   "source": [
    "party1"
   ]
  },
  {
   "cell_type": "code",
   "execution_count": 217,
   "id": "58b05b42-26d8-4533-9627-71463e984e42",
   "metadata": {
    "tags": [
     "raises-exception"
    ]
   },
   "outputs": [
    {
     "ename": "KeyError",
     "evalue": "'Bob'",
     "output_type": "error",
     "traceback": [
      "\u001b[1;31m---------------------------------------------------------------------------\u001b[0m",
      "\u001b[1;31mKeyError\u001b[0m                                  Traceback (most recent call last)",
      "Input \u001b[1;32mIn [217]\u001b[0m, in \u001b[0;36m<cell line: 1>\u001b[1;34m()\u001b[0m\n\u001b[1;32m----> 1\u001b[0m \u001b[43mparty1\u001b[49m\u001b[38;5;241;43m.\u001b[39;49m\u001b[43mremove\u001b[49m\u001b[43m(\u001b[49m\u001b[38;5;124;43m'\u001b[39;49m\u001b[38;5;124;43mBob\u001b[39;49m\u001b[38;5;124;43m'\u001b[39;49m\u001b[43m)\u001b[49m\n",
      "\u001b[1;31mKeyError\u001b[0m: 'Bob'"
     ]
    }
   ],
   "source": [
    "party1.remove('Bob')"
   ]
  },
  {
   "cell_type": "code",
   "execution_count": 218,
   "id": "11703e89-4809-4f59-86df-af49a8d83943",
   "metadata": {},
   "outputs": [],
   "source": [
    "party1.discard('Frank')"
   ]
  },
  {
   "cell_type": "code",
   "execution_count": 219,
   "id": "c11dbae0-68bc-4f51-8885-b5b41ae369b1",
   "metadata": {},
   "outputs": [
    {
     "data": {
      "text/plain": [
       "{'Cassidy', 'Erin'}"
      ]
     },
     "execution_count": 219,
     "metadata": {},
     "output_type": "execute_result"
    }
   ],
   "source": [
    "party1"
   ]
  },
  {
   "cell_type": "code",
   "execution_count": 220,
   "id": "1389d6c9-0587-4e5a-a462-a46cd36ba41d",
   "metadata": {},
   "outputs": [],
   "source": [
    "party1.discard('Bob')"
   ]
  },
  {
   "cell_type": "code",
   "execution_count": 221,
   "id": "3079b4f7-330e-49fd-ba8b-23aa208d5e23",
   "metadata": {},
   "outputs": [
    {
     "data": {
      "text/plain": [
       "{'Cassidy', 'Erin'}"
      ]
     },
     "execution_count": 221,
     "metadata": {},
     "output_type": "execute_result"
    }
   ],
   "source": [
    "party1"
   ]
  },
  {
   "cell_type": "code",
   "execution_count": 222,
   "id": "5ce89ed0-251e-4b3a-a5fe-70066ed2690b",
   "metadata": {},
   "outputs": [],
   "source": [
    "party1.add('Erin')"
   ]
  },
  {
   "cell_type": "code",
   "execution_count": 223,
   "id": "d6c7d503-4007-42b5-89e7-dd2a0c559ec0",
   "metadata": {},
   "outputs": [
    {
     "data": {
      "text/plain": [
       "{'Cassidy', 'Erin'}"
      ]
     },
     "execution_count": 223,
     "metadata": {},
     "output_type": "execute_result"
    }
   ],
   "source": [
    "party1"
   ]
  },
  {
   "cell_type": "code",
   "execution_count": 224,
   "id": "7383253e-0cf4-4ddf-bc25-acd919cef361",
   "metadata": {},
   "outputs": [
    {
     "data": {
      "text/plain": [
       "'Cassidy'"
      ]
     },
     "execution_count": 224,
     "metadata": {},
     "output_type": "execute_result"
    }
   ],
   "source": [
    "party1.pop()"
   ]
  },
  {
   "cell_type": "code",
   "execution_count": 225,
   "id": "be13358c-4c6e-4923-b448-ee2cd5bcd879",
   "metadata": {},
   "outputs": [
    {
     "data": {
      "text/plain": [
       "{'Erin'}"
      ]
     },
     "execution_count": 225,
     "metadata": {},
     "output_type": "execute_result"
    }
   ],
   "source": [
    "party1"
   ]
  },
  {
   "cell_type": "code",
   "execution_count": 226,
   "id": "a099cb89-69f5-4333-9aaf-17fe807260ac",
   "metadata": {},
   "outputs": [
    {
     "data": {
      "text/plain": [
       "'Erin'"
      ]
     },
     "execution_count": 226,
     "metadata": {},
     "output_type": "execute_result"
    }
   ],
   "source": [
    "party1.pop()"
   ]
  },
  {
   "cell_type": "code",
   "execution_count": 227,
   "id": "8b6d8e77-abea-4639-a845-cce11e025713",
   "metadata": {},
   "outputs": [
    {
     "data": {
      "text/plain": [
       "set()"
      ]
     },
     "execution_count": 227,
     "metadata": {},
     "output_type": "execute_result"
    }
   ],
   "source": [
    "party1"
   ]
  },
  {
   "cell_type": "code",
   "execution_count": 228,
   "id": "71b1a94c-4f91-41f5-9156-11d4a1ee4310",
   "metadata": {
    "tags": [
     "raises-exception"
    ]
   },
   "outputs": [
    {
     "ename": "KeyError",
     "evalue": "'pop from an empty set'",
     "output_type": "error",
     "traceback": [
      "\u001b[1;31m---------------------------------------------------------------------------\u001b[0m",
      "\u001b[1;31mKeyError\u001b[0m                                  Traceback (most recent call last)",
      "Input \u001b[1;32mIn [228]\u001b[0m, in \u001b[0;36m<cell line: 1>\u001b[1;34m()\u001b[0m\n\u001b[1;32m----> 1\u001b[0m \u001b[43mparty1\u001b[49m\u001b[38;5;241;43m.\u001b[39;49m\u001b[43mpop\u001b[49m\u001b[43m(\u001b[49m\u001b[43m)\u001b[49m\n",
      "\u001b[1;31mKeyError\u001b[0m: 'pop from an empty set'"
     ]
    }
   ],
   "source": [
    "party1.pop()"
   ]
  },
  {
   "cell_type": "code",
   "execution_count": 229,
   "id": "0901c273-425a-49d5-982f-a8900fd5ead3",
   "metadata": {},
   "outputs": [],
   "source": [
    "party1 = party.copy()"
   ]
  },
  {
   "cell_type": "code",
   "execution_count": 230,
   "id": "4d8c721f-3ae8-483a-83e0-57e3b4ae659d",
   "metadata": {},
   "outputs": [],
   "source": [
    "party1.add('Erin')"
   ]
  },
  {
   "cell_type": "code",
   "execution_count": 231,
   "id": "e36d8a22-694d-4c15-978d-98288f0c87ca",
   "metadata": {},
   "outputs": [
    {
     "data": {
      "text/plain": [
       "{'Alice', 'Cassidy', 'Erin', 'Frank'}"
      ]
     },
     "execution_count": 231,
     "metadata": {},
     "output_type": "execute_result"
    }
   ],
   "source": [
    "party1"
   ]
  },
  {
   "cell_type": "code",
   "execution_count": 232,
   "id": "4c1c37ca-ba76-48de-8122-a434c1a29f62",
   "metadata": {},
   "outputs": [
    {
     "data": {
      "text/plain": [
       "{'Alice', 'Bob', 'Erin', 'Frank'}"
      ]
     },
     "execution_count": 232,
     "metadata": {},
     "output_type": "execute_result"
    }
   ],
   "source": [
    "party2"
   ]
  },
  {
   "cell_type": "code",
   "execution_count": 233,
   "id": "6c943dff-ec84-4e03-a414-8b0bc244c762",
   "metadata": {},
   "outputs": [
    {
     "data": {
      "text/plain": [
       "{'Cassidy'}"
      ]
     },
     "execution_count": 233,
     "metadata": {},
     "output_type": "execute_result"
    }
   ],
   "source": [
    "party1.difference(party2)"
   ]
  },
  {
   "cell_type": "code",
   "execution_count": 234,
   "id": "c5722dc5-87cb-4436-8846-3335bb2f2793",
   "metadata": {},
   "outputs": [],
   "source": [
    "party1.remove('Erin')"
   ]
  },
  {
   "cell_type": "code",
   "execution_count": 235,
   "id": "0828d7a2-7643-49f3-ac11-a0a3e6e02455",
   "metadata": {},
   "outputs": [
    {
     "data": {
      "text/plain": [
       "{'Alice', 'Cassidy', 'Frank'}"
      ]
     },
     "execution_count": 235,
     "metadata": {},
     "output_type": "execute_result"
    }
   ],
   "source": [
    "party1"
   ]
  },
  {
   "cell_type": "code",
   "execution_count": 236,
   "id": "c9d6ff59-337e-475a-8f44-b6a071a7e84d",
   "metadata": {},
   "outputs": [
    {
     "data": {
      "text/plain": [
       "{'Cassidy'}"
      ]
     },
     "execution_count": 236,
     "metadata": {},
     "output_type": "execute_result"
    }
   ],
   "source": [
    "party1.difference(party2)"
   ]
  },
  {
   "cell_type": "code",
   "execution_count": 237,
   "id": "3bd6f4d7-de68-4120-8353-e340a3bb47e5",
   "metadata": {},
   "outputs": [
    {
     "data": {
      "text/plain": [
       "{'Bob', 'Erin'}"
      ]
     },
     "execution_count": 237,
     "metadata": {},
     "output_type": "execute_result"
    }
   ],
   "source": [
    "party2.difference(party1)"
   ]
  },
  {
   "cell_type": "code",
   "execution_count": 238,
   "id": "8cae2260-b142-49bb-af49-14ee870e5371",
   "metadata": {},
   "outputs": [
    {
     "data": {
      "text/plain": [
       "{'Alice', 'Cassidy', 'Frank'}"
      ]
     },
     "execution_count": 238,
     "metadata": {},
     "output_type": "execute_result"
    }
   ],
   "source": [
    "party1"
   ]
  },
  {
   "cell_type": "code",
   "execution_count": 239,
   "id": "c482c92a-2899-41fa-b3e7-a0b86d40150c",
   "metadata": {},
   "outputs": [],
   "source": [
    "party1.difference_update(party2)"
   ]
  },
  {
   "cell_type": "code",
   "execution_count": 240,
   "id": "ee854813-5771-4d45-bf20-4280b6ea3673",
   "metadata": {},
   "outputs": [
    {
     "data": {
      "text/plain": [
       "{'Cassidy'}"
      ]
     },
     "execution_count": 240,
     "metadata": {},
     "output_type": "execute_result"
    }
   ],
   "source": [
    "party1"
   ]
  },
  {
   "cell_type": "code",
   "execution_count": 241,
   "id": "fc29a6d3-5d3d-450b-91bb-3047fe117f72",
   "metadata": {},
   "outputs": [],
   "source": [
    "party1.add('Frank')"
   ]
  },
  {
   "cell_type": "code",
   "execution_count": 242,
   "id": "191033c2-2c41-4f14-b65b-59b2b86b7a8d",
   "metadata": {},
   "outputs": [
    {
     "data": {
      "text/plain": [
       "{'Cassidy', 'Frank'}"
      ]
     },
     "execution_count": 242,
     "metadata": {},
     "output_type": "execute_result"
    }
   ],
   "source": [
    "party1"
   ]
  },
  {
   "cell_type": "code",
   "execution_count": 243,
   "id": "60cb85fc-3a38-47bc-b507-c5bcecb66663",
   "metadata": {},
   "outputs": [
    {
     "data": {
      "text/plain": [
       "{'Alice', 'Bob', 'Erin', 'Frank'}"
      ]
     },
     "execution_count": 243,
     "metadata": {},
     "output_type": "execute_result"
    }
   ],
   "source": [
    "party2"
   ]
  },
  {
   "cell_type": "code",
   "execution_count": 244,
   "id": "22914b54-7d8e-49f8-b17d-4dcc342374e9",
   "metadata": {},
   "outputs": [],
   "source": [
    "party2.difference_update(party1)"
   ]
  },
  {
   "cell_type": "code",
   "execution_count": 245,
   "id": "0e6e9db9-7014-41d5-a9da-2fce03104eea",
   "metadata": {},
   "outputs": [
    {
     "data": {
      "text/plain": [
       "{'Alice', 'Bob', 'Erin'}"
      ]
     },
     "execution_count": 245,
     "metadata": {},
     "output_type": "execute_result"
    }
   ],
   "source": [
    "party2"
   ]
  },
  {
   "cell_type": "code",
   "execution_count": 246,
   "id": "a48dc3cf-c85a-4868-8e47-3b87d2bbc6b2",
   "metadata": {},
   "outputs": [
    {
     "data": {
      "text/plain": [
       "{'Alice', 'Bob', 'Cassidy', 'Erin', 'Frank'}"
      ]
     },
     "execution_count": 246,
     "metadata": {},
     "output_type": "execute_result"
    }
   ],
   "source": [
    "party1.union(party2)"
   ]
  },
  {
   "cell_type": "code",
   "execution_count": 247,
   "id": "2feda286-b22f-4e3b-bec3-4a7e1b826b44",
   "metadata": {},
   "outputs": [],
   "source": [
    "party1.update(party2)"
   ]
  },
  {
   "cell_type": "code",
   "execution_count": 248,
   "id": "a3df9cbc-e46c-47a6-a8e1-3ed2ab3ccafb",
   "metadata": {},
   "outputs": [
    {
     "data": {
      "text/plain": [
       "{'Alice', 'Bob', 'Cassidy', 'Erin', 'Frank'}"
      ]
     },
     "execution_count": 248,
     "metadata": {},
     "output_type": "execute_result"
    }
   ],
   "source": [
    "party1"
   ]
  },
  {
   "cell_type": "code",
   "execution_count": 249,
   "id": "38206fd0-21bf-4e10-90e8-eb611869df6c",
   "metadata": {},
   "outputs": [],
   "source": [
    "party3 = {'Derek'}  # Forever alone"
   ]
  },
  {
   "cell_type": "code",
   "execution_count": 250,
   "id": "e0f2bfe9-f2ab-4c0a-9044-32d602c0311d",
   "metadata": {},
   "outputs": [
    {
     "data": {
      "text/plain": [
       "True"
      ]
     },
     "execution_count": 250,
     "metadata": {},
     "output_type": "execute_result"
    }
   ],
   "source": [
    "party3.isdisjoint(party1)"
   ]
  },
  {
   "cell_type": "code",
   "execution_count": 251,
   "id": "d2eb967b-0998-476f-82ea-b646ab0abf7c",
   "metadata": {},
   "outputs": [
    {
     "data": {
      "text/plain": [
       "{'Alice', 'Bob', 'Erin'}"
      ]
     },
     "execution_count": 251,
     "metadata": {},
     "output_type": "execute_result"
    }
   ],
   "source": [
    "party2"
   ]
  },
  {
   "cell_type": "code",
   "execution_count": 252,
   "id": "8984b1f6-10a2-4834-8f53-41a5d323e388",
   "metadata": {},
   "outputs": [
    {
     "data": {
      "text/plain": [
       "False"
      ]
     },
     "execution_count": 252,
     "metadata": {},
     "output_type": "execute_result"
    }
   ],
   "source": [
    "party1.isdisjoint(party2)"
   ]
  },
  {
   "cell_type": "code",
   "execution_count": 253,
   "id": "3e42388b-0ff4-4843-bb12-accae5220dd2",
   "metadata": {},
   "outputs": [
    {
     "data": {
      "text/plain": [
       "False"
      ]
     },
     "execution_count": 253,
     "metadata": {},
     "output_type": "execute_result"
    }
   ],
   "source": [
    "party1.issubset(party2)"
   ]
  },
  {
   "cell_type": "code",
   "execution_count": 254,
   "id": "6efefdc9-f112-4809-bfd7-d33109354a15",
   "metadata": {},
   "outputs": [
    {
     "data": {
      "text/plain": [
       "True"
      ]
     },
     "execution_count": 254,
     "metadata": {},
     "output_type": "execute_result"
    }
   ],
   "source": [
    "party2.issubset(party1)"
   ]
  },
  {
   "cell_type": "code",
   "execution_count": 255,
   "id": "b2c911e8-8f43-474c-b27c-19b0f411e109",
   "metadata": {},
   "outputs": [
    {
     "data": {
      "text/plain": [
       "True"
      ]
     },
     "execution_count": 255,
     "metadata": {},
     "output_type": "execute_result"
    }
   ],
   "source": [
    "party1.issuperset(party2)"
   ]
  },
  {
   "cell_type": "code",
   "execution_count": 256,
   "id": "e1761908-5624-4cb0-982c-81b0f624f46e",
   "metadata": {},
   "outputs": [
    {
     "data": {
      "text/plain": [
       "True"
      ]
     },
     "execution_count": 256,
     "metadata": {},
     "output_type": "execute_result"
    }
   ],
   "source": [
    "s = set()\n",
    "s.isdisjoint(s)"
   ]
  },
  {
   "cell_type": "code",
   "execution_count": 257,
   "id": "6cf31534-df31-4304-8506-ceac3f32d576",
   "metadata": {},
   "outputs": [],
   "source": [
    "will_never_happen = party1.union(party2, party3)"
   ]
  },
  {
   "cell_type": "code",
   "execution_count": 258,
   "id": "0ae13347-e169-49dc-b5d3-0729df2b3146",
   "metadata": {},
   "outputs": [
    {
     "data": {
      "text/plain": [
       "{'Alice', 'Bob', 'Cassidy', 'Derek', 'Erin', 'Frank'}"
      ]
     },
     "execution_count": 258,
     "metadata": {},
     "output_type": "execute_result"
    }
   ],
   "source": [
    "will_never_happen"
   ]
  },
  {
   "cell_type": "code",
   "execution_count": 259,
   "id": "5ea16d18-6a11-48e6-8d55-a3614417c0fe",
   "metadata": {},
   "outputs": [
    {
     "data": {
      "text/plain": [
       "{'Cassidy', 'Frank'}"
      ]
     },
     "execution_count": 259,
     "metadata": {},
     "output_type": "execute_result"
    }
   ],
   "source": [
    "will_never_happen.difference(party3, party2)"
   ]
  },
  {
   "cell_type": "code",
   "execution_count": 260,
   "id": "7347ece8-8726-4c08-bb5e-af8859a5f6cf",
   "metadata": {},
   "outputs": [
    {
     "data": {
      "text/plain": [
       "{'Cassidy', 'Frank'}"
      ]
     },
     "execution_count": 260,
     "metadata": {},
     "output_type": "execute_result"
    }
   ],
   "source": [
    "will_never_happen - party3 - party2"
   ]
  },
  {
   "cell_type": "code",
   "execution_count": 261,
   "id": "99e8f81e-b52e-4cc9-9b6a-ab8ea8bf283c",
   "metadata": {},
   "outputs": [
    {
     "data": {
      "text/plain": [
       "{'Alice', 'Bob', 'Cassidy', 'Erin', 'Frank', 'Z', 'e', 'o'}"
      ]
     },
     "execution_count": 261,
     "metadata": {},
     "output_type": "execute_result"
    }
   ],
   "source": [
    "party1.union('Zoe')"
   ]
  },
  {
   "cell_type": "code",
   "execution_count": 262,
   "id": "e8fba800-3c2c-4ea7-9849-4604d05ef2a4",
   "metadata": {},
   "outputs": [
    {
     "data": {
      "text/plain": [
       "['__and__',\n",
       " '__class__',\n",
       " '__class_getitem__',\n",
       " '__contains__',\n",
       " '__delattr__',\n",
       " '__dir__',\n",
       " '__doc__',\n",
       " '__eq__',\n",
       " '__format__',\n",
       " '__ge__',\n",
       " '__getattribute__',\n",
       " '__gt__',\n",
       " '__hash__',\n",
       " '__init__',\n",
       " '__init_subclass__',\n",
       " '__iter__',\n",
       " '__le__',\n",
       " '__len__',\n",
       " '__lt__',\n",
       " '__ne__',\n",
       " '__new__',\n",
       " '__or__',\n",
       " '__rand__',\n",
       " '__reduce__',\n",
       " '__reduce_ex__',\n",
       " '__repr__',\n",
       " '__ror__',\n",
       " '__rsub__',\n",
       " '__rxor__',\n",
       " '__setattr__',\n",
       " '__sizeof__',\n",
       " '__str__',\n",
       " '__sub__',\n",
       " '__subclasshook__',\n",
       " '__xor__',\n",
       " 'copy',\n",
       " 'difference',\n",
       " 'intersection',\n",
       " 'isdisjoint',\n",
       " 'issubset',\n",
       " 'issuperset',\n",
       " 'symmetric_difference',\n",
       " 'union']"
      ]
     },
     "execution_count": 262,
     "metadata": {},
     "output_type": "execute_result"
    }
   ],
   "source": [
    "dir(frozenset)"
   ]
  },
  {
   "cell_type": "code",
   "execution_count": 263,
   "id": "4fe69d2a-96d8-46fe-b4c5-0932a45663d5",
   "metadata": {},
   "outputs": [],
   "source": [
    "missing = set(dir(set)) - set(dir(frozenset))"
   ]
  },
  {
   "cell_type": "code",
   "execution_count": 264,
   "id": "349f7ae3-b0f2-499a-a11a-bfd6940b1f70",
   "metadata": {},
   "outputs": [
    {
     "data": {
      "text/plain": [
       "{'__iand__',\n",
       " '__ior__',\n",
       " '__isub__',\n",
       " '__ixor__',\n",
       " 'add',\n",
       " 'clear',\n",
       " 'difference_update',\n",
       " 'discard',\n",
       " 'intersection_update',\n",
       " 'pop',\n",
       " 'remove',\n",
       " 'symmetric_difference_update',\n",
       " 'update'}"
      ]
     },
     "execution_count": 264,
     "metadata": {},
     "output_type": "execute_result"
    }
   ],
   "source": [
    "missing"
   ]
  },
  {
   "cell_type": "code",
   "execution_count": 265,
   "id": "f3b92971-7017-4baa-bede-87fb33e3ddae",
   "metadata": {},
   "outputs": [],
   "source": [
    "ordered_missing = list(missing)"
   ]
  },
  {
   "cell_type": "code",
   "execution_count": 266,
   "id": "95f89a0c-d486-49fb-8d05-fcb8dfd289bb",
   "metadata": {},
   "outputs": [],
   "source": [
    "ordered_missing.sort()"
   ]
  },
  {
   "cell_type": "code",
   "execution_count": 267,
   "id": "61efa492-da1a-436e-8432-3ecd38489f9f",
   "metadata": {},
   "outputs": [
    {
     "data": {
      "text/plain": [
       "['__iand__',\n",
       " '__ior__',\n",
       " '__isub__',\n",
       " '__ixor__',\n",
       " 'add',\n",
       " 'clear',\n",
       " 'difference_update',\n",
       " 'discard',\n",
       " 'intersection_update',\n",
       " 'pop',\n",
       " 'remove',\n",
       " 'symmetric_difference_update',\n",
       " 'update']"
      ]
     },
     "execution_count": 267,
     "metadata": {},
     "output_type": "execute_result"
    }
   ],
   "source": [
    "ordered_missing"
   ]
  },
  {
   "cell_type": "code",
   "execution_count": 268,
   "id": "a3af5ee6-1f72-4a42-bf4e-27676facec59",
   "metadata": {},
   "outputs": [],
   "source": [
    "ordered_missing = sorted(missing)"
   ]
  },
  {
   "cell_type": "code",
   "execution_count": 269,
   "id": "d0a7e9d3-b09c-40b6-9deb-e7c4b211d535",
   "metadata": {},
   "outputs": [
    {
     "name": "stdout",
     "output_type": "stream",
     "text": [
      "Help on built-in function sorted in module builtins:\n",
      "\n",
      "sorted(iterable, /, *, key=None, reverse=False)\n",
      "    Return a new list containing all items from the iterable in ascending order.\n",
      "    \n",
      "    A custom key function can be supplied to customize the sort order, and the\n",
      "    reverse flag can be set to request the result in descending order.\n",
      "\n"
     ]
    }
   ],
   "source": [
    "help(sorted)"
   ]
  },
  {
   "cell_type": "code",
   "execution_count": 270,
   "id": "4530df65-0867-4d89-ab8e-36c7015244e2",
   "metadata": {},
   "outputs": [
    {
     "data": {
      "text/plain": [
       "['__iand__',\n",
       " '__ior__',\n",
       " '__isub__',\n",
       " '__ixor__',\n",
       " 'add',\n",
       " 'clear',\n",
       " 'difference_update',\n",
       " 'discard',\n",
       " 'intersection_update',\n",
       " 'pop',\n",
       " 'remove',\n",
       " 'symmetric_difference_update',\n",
       " 'update']"
      ]
     },
     "execution_count": 270,
     "metadata": {},
     "output_type": "execute_result"
    }
   ],
   "source": [
    "ordered_missing"
   ]
  },
  {
   "cell_type": "code",
   "execution_count": 271,
   "id": "731df7d4-e0e1-47b8-b04c-29f14ffb0935",
   "metadata": {},
   "outputs": [],
   "source": [
    "set_stuff = set(dir(set))"
   ]
  },
  {
   "cell_type": "code",
   "execution_count": 272,
   "id": "5a476cc3-67a4-418b-b113-57f1bde4e162",
   "metadata": {},
   "outputs": [],
   "source": [
    "missing = set_stuff.difference(dir(frozenset))"
   ]
  },
  {
   "cell_type": "code",
   "execution_count": 273,
   "id": "190112c9-20c4-49d5-8da9-4ebf611e11af",
   "metadata": {},
   "outputs": [
    {
     "data": {
      "text/plain": [
       "{'__iand__',\n",
       " '__ior__',\n",
       " '__isub__',\n",
       " '__ixor__',\n",
       " 'add',\n",
       " 'clear',\n",
       " 'difference_update',\n",
       " 'discard',\n",
       " 'intersection_update',\n",
       " 'pop',\n",
       " 'remove',\n",
       " 'symmetric_difference_update',\n",
       " 'update'}"
      ]
     },
     "execution_count": 273,
     "metadata": {},
     "output_type": "execute_result"
    }
   ],
   "source": [
    "missing"
   ]
  },
  {
   "cell_type": "code",
   "execution_count": 274,
   "id": "fc13a14e-d871-4dcc-bff2-a8e35d5e7dd8",
   "metadata": {},
   "outputs": [],
   "source": [
    "diffss = set(dir(frozenset)) - set(dir(set))"
   ]
  },
  {
   "cell_type": "code",
   "execution_count": 275,
   "id": "e4d0f5f1-836f-4dd2-af10-a765c181111a",
   "metadata": {},
   "outputs": [
    {
     "data": {
      "text/plain": [
       "set()"
      ]
     },
     "execution_count": 275,
     "metadata": {},
     "output_type": "execute_result"
    }
   ],
   "source": [
    "diffss"
   ]
  },
  {
   "cell_type": "code",
   "execution_count": 276,
   "id": "4013b05c-6105-4b79-8198-cdc5190b7627",
   "metadata": {},
   "outputs": [
    {
     "data": {
      "text/plain": [
       "True"
      ]
     },
     "execution_count": 276,
     "metadata": {},
     "output_type": "execute_result"
    }
   ],
   "source": [
    "'__hash__' in dir(set)"
   ]
  },
  {
   "cell_type": "code",
   "execution_count": 277,
   "id": "4be98522-484b-4a55-aa5d-43e7f2bbd3c7",
   "metadata": {},
   "outputs": [
    {
     "data": {
      "text/plain": [
       "<slot wrapper '__hash__' of 'object' objects>"
      ]
     },
     "execution_count": 277,
     "metadata": {},
     "output_type": "execute_result"
    }
   ],
   "source": [
    "object.__hash__"
   ]
  },
  {
   "cell_type": "code",
   "execution_count": 278,
   "id": "d81d29eb-d0fe-411c-8d26-85eb6c8b3a9a",
   "metadata": {},
   "outputs": [
    {
     "data": {
      "text/plain": [
       "156587441112"
      ]
     },
     "execution_count": 278,
     "metadata": {},
     "output_type": "execute_result"
    }
   ],
   "source": [
    "hash(object())"
   ]
  },
  {
   "cell_type": "code",
   "execution_count": 279,
   "id": "a92f7168-c2f2-45da-b19c-41c446a3ea46",
   "metadata": {
    "tags": [
     "raises-exception"
    ]
   },
   "outputs": [
    {
     "ename": "TypeError",
     "evalue": "unhashable type: 'set'",
     "output_type": "error",
     "traceback": [
      "\u001b[1;31m---------------------------------------------------------------------------\u001b[0m",
      "\u001b[1;31mTypeError\u001b[0m                                 Traceback (most recent call last)",
      "Input \u001b[1;32mIn [279]\u001b[0m, in \u001b[0;36m<cell line: 1>\u001b[1;34m()\u001b[0m\n\u001b[1;32m----> 1\u001b[0m \u001b[38;5;28;43mhash\u001b[39;49m\u001b[43m(\u001b[49m\u001b[38;5;28;43mset\u001b[39;49m\u001b[43m(\u001b[49m\u001b[43m)\u001b[49m\u001b[43m)\u001b[49m\n",
      "\u001b[1;31mTypeError\u001b[0m: unhashable type: 'set'"
     ]
    }
   ],
   "source": [
    "hash(set())"
   ]
  },
  {
   "cell_type": "code",
   "execution_count": 280,
   "id": "f4c3e067-f5fe-41a3-85c7-9513feecdc30",
   "metadata": {
    "tags": [
     "raises-exception"
    ]
   },
   "outputs": [
    {
     "ename": "TypeError",
     "evalue": "'NoneType' object is not callable",
     "output_type": "error",
     "traceback": [
      "\u001b[1;31m---------------------------------------------------------------------------\u001b[0m",
      "\u001b[1;31mTypeError\u001b[0m                                 Traceback (most recent call last)",
      "Input \u001b[1;32mIn [280]\u001b[0m, in \u001b[0;36m<cell line: 1>\u001b[1;34m()\u001b[0m\n\u001b[1;32m----> 1\u001b[0m \u001b[38;5;28;43mset\u001b[39;49m\u001b[43m(\u001b[49m\u001b[43m)\u001b[49m\u001b[38;5;241;43m.\u001b[39;49m\u001b[38;5;21;43m__hash__\u001b[39;49m\u001b[43m(\u001b[49m\u001b[43m)\u001b[49m\n",
      "\u001b[1;31mTypeError\u001b[0m: 'NoneType' object is not callable"
     ]
    }
   ],
   "source": [
    "set().__hash__()"
   ]
  },
  {
   "cell_type": "code",
   "execution_count": 281,
   "id": "e74f044e-1e4f-4347-a54b-beb5012d89c5",
   "metadata": {},
   "outputs": [
    {
     "data": {
      "text/plain": [
       "True"
      ]
     },
     "execution_count": 281,
     "metadata": {},
     "output_type": "execute_result"
    }
   ],
   "source": [
    "set.__hash__ is None"
   ]
  },
  {
   "cell_type": "code",
   "execution_count": 282,
   "id": "7b04899d-cfad-4224-b62e-56d1fa9efd78",
   "metadata": {},
   "outputs": [
    {
     "data": {
      "text/plain": [
       "{'Alice', 'Cassidy', 'Frank'}"
      ]
     },
     "execution_count": 282,
     "metadata": {},
     "output_type": "execute_result"
    }
   ],
   "source": [
    "party"
   ]
  },
  {
   "cell_type": "code",
   "execution_count": 283,
   "id": "68742709-0727-497b-8232-d1f2bd37321b",
   "metadata": {},
   "outputs": [
    {
     "data": {
      "text/plain": [
       "False"
      ]
     },
     "execution_count": 283,
     "metadata": {},
     "output_type": "execute_result"
    }
   ],
   "source": [
    "party in party2"
   ]
  },
  {
   "cell_type": "code",
   "execution_count": 284,
   "id": "c096d2ed-aad0-484b-a569-770cdc87e7be",
   "metadata": {},
   "outputs": [
    {
     "data": {
      "text/plain": [
       "False"
      ]
     },
     "execution_count": 284,
     "metadata": {},
     "output_type": "execute_result"
    }
   ],
   "source": [
    "frozenset(party) in party2"
   ]
  },
  {
   "cell_type": "code",
   "execution_count": 285,
   "id": "f74069cc-5101-4e2f-8d04-d5d782d889ed",
   "metadata": {
    "tags": [
     "raises-exception"
    ]
   },
   "outputs": [
    {
     "ename": "TypeError",
     "evalue": "unhashable type: 'set'",
     "output_type": "error",
     "traceback": [
      "\u001b[1;31m---------------------------------------------------------------------------\u001b[0m",
      "\u001b[1;31mTypeError\u001b[0m                                 Traceback (most recent call last)",
      "Input \u001b[1;32mIn [285]\u001b[0m, in \u001b[0;36m<cell line: 1>\u001b[1;34m()\u001b[0m\n\u001b[1;32m----> 1\u001b[0m \u001b[43mparty\u001b[49m\u001b[43m \u001b[49m\u001b[38;5;129;43;01min\u001b[39;49;00m\u001b[43m \u001b[49m\u001b[43m{\u001b[49m\u001b[43m}\u001b[49m\n",
      "\u001b[1;31mTypeError\u001b[0m: unhashable type: 'set'"
     ]
    }
   ],
   "source": [
    "party in {}"
   ]
  },
  {
   "cell_type": "code",
   "execution_count": 286,
   "id": "81ae717d-17f5-41ae-9346-dc47330589cb",
   "metadata": {},
   "outputs": [
    {
     "data": {
      "text/plain": [
       "True"
      ]
     },
     "execution_count": 286,
     "metadata": {},
     "output_type": "execute_result"
    }
   ],
   "source": [
    "{10, 20} <= {10, 15, 20}"
   ]
  },
  {
   "cell_type": "code",
   "execution_count": 287,
   "id": "eb626660-3474-46c0-a58c-079364c5b820",
   "metadata": {},
   "outputs": [
    {
     "data": {
      "text/plain": [
       "False"
      ]
     },
     "execution_count": 287,
     "metadata": {},
     "output_type": "execute_result"
    }
   ],
   "source": [
    "{10, 20} in {10, 15, 20}"
   ]
  },
  {
   "cell_type": "code",
   "execution_count": null,
   "id": "21032fcf-fef0-42d7-a3e1-07f7e3e64364",
   "metadata": {},
   "outputs": [],
   "source": [
    "return True if blahblahblah else whatever"
   ]
  }
 ],
 "metadata": {
  "kernelspec": {
   "display_name": "Python 3 (ipykernel)",
   "language": "python",
   "name": "python3"
  },
  "language_info": {
   "codemirror_mode": {
    "name": "ipython",
    "version": 3
   },
   "file_extension": ".py",
   "mimetype": "text/x-python",
   "name": "python",
   "nbconvert_exporter": "python",
   "pygments_lexer": "ipython3",
   "version": "3.10.4"
  }
 },
 "nbformat": 4,
 "nbformat_minor": 5
}
